{
 "cells": [
  {
   "cell_type": "code",
   "execution_count": 1,
   "metadata": {},
   "outputs": [],
   "source": [
    "import sys\n",
    "import os\n",
    "\n",
    "# Get the absolute path to the project directory\n",
    "project_dir = os.path.abspath(\"..\")\n",
    "\n",
    "# Append the project directory to sys.path\n",
    "if project_dir not in sys.path:\n",
    "    sys.path.append(project_dir)"
   ]
  },
  {
   "cell_type": "code",
   "execution_count": 2,
   "metadata": {},
   "outputs": [],
   "source": [
    "import yfinance as yf\n",
    "import pandas as pd\n",
    "import polars as pl\n",
    "import datetime as dt\n",
    "import matplotlib.pyplot as plt\n",
    "import warnings\n",
    "from typing import Dict\n",
    "from dataclasses import asdict, is_dataclass, dataclass\n",
    "import os\n",
    "import json\n",
    "import pickle\n",
    "from pandas.api.types import is_datetime64_any_dtype\n",
    "import scipy\n",
    "import numpy as np\n",
    "from scipy.stats import linregress\n",
    "from ta import add_all_ta_features\n",
    "import holidays\n",
    "import pycountry\n",
    "\n",
    "from src.common.AssetData import AssetData\n",
    "from src.common.AssetDataService import AssetDataService\n",
    "from src.common.AssetFileInOut import AssetFileInOut \n",
    "from src.databaseService.OutsourceLoader import OutsourceLoader\n",
    "\n",
    "from src.simulation.SimulatePortfolio import SimulatePortfolio\n",
    "from src.strategy.StratBuyAndHold import StratBuyAndHold\n",
    "from src.simulation.ResultAnalyzer import ResultAnalyzer\n",
    "from src.common.AssetFileInOut import AssetFileInOut\n",
    "from src.common.AssetDataPolars import AssetDataPolars\n",
    "from src.mathTools.CurveAnalysis import CurveAnalysis\n",
    "from src.predictionModule.FourierML import FourierML\n",
    "from src.common.YamlTickerInOut import YamlTickerInOut\n",
    "from src.common.DataFrameTimeOperations import DataFrameTimeOperationsPandas as DFTO\n"
   ]
  },
  {
   "cell_type": "code",
   "execution_count": 3,
   "metadata": {},
   "outputs": [],
   "source": [
    "assets=AssetFileInOut(\"../src/stockGroups/bin\").loadDictFromFile(\"group_snp500_over20years\")\n",
    "\n",
    "# Convert to Polars for speedup\n",
    "assetspl: Dict[str, AssetDataPolars] = {}\n",
    "for ticker, asset in assets.items():\n",
    "    assetspl[ticker]= AssetDataService.to_polars(asset)"
   ]
  },
  {
   "cell_type": "code",
   "execution_count": 4,
   "metadata": {},
   "outputs": [],
   "source": [
    "aIRM = assetspl[\"IRM\"]\n",
    "pricesArray = aIRM.shareprice[\"Close\"]\n",
    "aidx = pricesArray.len() - 10\n",
    "m=24\n",
    "pastPrices = pricesArray.slice(aidx-m * 21-1, m * 21 +1).to_numpy()\n",
    "futurePrices = pricesArray.slice((aidx+1),5).to_numpy()"
   ]
  },
  {
   "cell_type": "code",
   "execution_count": 21,
   "metadata": {},
   "outputs": [
    {
     "name": "stdout",
     "output_type": "stream",
     "text": [
      "[datetime.date(2023, 1, 1), datetime.date(2023, 1, 2), datetime.date(2023, 1, 16), datetime.date(2023, 2, 20), datetime.date(2023, 5, 29), datetime.date(2023, 6, 19), datetime.date(2023, 7, 4), datetime.date(2023, 9, 4), datetime.date(2023, 11, 10), datetime.date(2023, 11, 11), datetime.date(2023, 11, 23), datetime.date(2023, 12, 25), datetime.date(2024, 1, 1), datetime.date(2024, 1, 15), datetime.date(2024, 2, 19), datetime.date(2024, 5, 27), datetime.date(2024, 6, 19), datetime.date(2024, 7, 4), datetime.date(2024, 9, 2), datetime.date(2024, 11, 11), datetime.date(2024, 11, 28), datetime.date(2024, 12, 25), datetime.date(2025, 1, 1), datetime.date(2025, 1, 20), datetime.date(2025, 2, 17), datetime.date(2025, 5, 26), datetime.date(2025, 6, 19), datetime.date(2025, 7, 4), datetime.date(2025, 9, 1), datetime.date(2025, 11, 11), datetime.date(2025, 11, 27), datetime.date(2025, 12, 25)]\n"
     ]
    },
    {
     "data": {
      "text/plain": [
       "[Timestamp('2023-01-01 00:00:00+0000', tz='UTC'),\n",
       " Timestamp('2023-01-02 00:00:00+0000', tz='UTC'),\n",
       " Timestamp('2023-01-16 00:00:00+0000', tz='UTC'),\n",
       " Timestamp('2023-02-20 00:00:00+0000', tz='UTC'),\n",
       " Timestamp('2023-05-29 00:00:00+0000', tz='UTC'),\n",
       " Timestamp('2023-06-19 00:00:00+0000', tz='UTC'),\n",
       " Timestamp('2023-07-04 00:00:00+0000', tz='UTC'),\n",
       " Timestamp('2023-09-04 00:00:00+0000', tz='UTC'),\n",
       " Timestamp('2023-11-10 00:00:00+0000', tz='UTC'),\n",
       " Timestamp('2023-11-11 00:00:00+0000', tz='UTC'),\n",
       " Timestamp('2023-11-23 00:00:00+0000', tz='UTC'),\n",
       " Timestamp('2023-12-25 00:00:00+0000', tz='UTC'),\n",
       " Timestamp('2024-01-01 00:00:00+0000', tz='UTC'),\n",
       " Timestamp('2024-01-15 00:00:00+0000', tz='UTC'),\n",
       " Timestamp('2024-02-19 00:00:00+0000', tz='UTC'),\n",
       " Timestamp('2024-05-27 00:00:00+0000', tz='UTC'),\n",
       " Timestamp('2024-06-19 00:00:00+0000', tz='UTC'),\n",
       " Timestamp('2024-07-04 00:00:00+0000', tz='UTC'),\n",
       " Timestamp('2024-09-02 00:00:00+0000', tz='UTC'),\n",
       " Timestamp('2024-11-11 00:00:00+0000', tz='UTC'),\n",
       " Timestamp('2024-11-28 00:00:00+0000', tz='UTC'),\n",
       " Timestamp('2024-12-25 00:00:00+0000', tz='UTC'),\n",
       " Timestamp('2025-01-01 00:00:00+0000', tz='UTC'),\n",
       " Timestamp('2025-01-20 00:00:00+0000', tz='UTC'),\n",
       " Timestamp('2025-02-17 00:00:00+0000', tz='UTC'),\n",
       " Timestamp('2025-05-26 00:00:00+0000', tz='UTC'),\n",
       " Timestamp('2025-06-19 00:00:00+0000', tz='UTC'),\n",
       " Timestamp('2025-07-04 00:00:00+0000', tz='UTC'),\n",
       " Timestamp('2025-09-01 00:00:00+0000', tz='UTC'),\n",
       " Timestamp('2025-11-11 00:00:00+0000', tz='UTC'),\n",
       " Timestamp('2025-11-27 00:00:00+0000', tz='UTC'),\n",
       " Timestamp('2025-12-25 00:00:00+0000', tz='UTC')]"
      ]
     },
     "execution_count": 21,
     "metadata": {},
     "output_type": "execute_result"
    }
   ],
   "source": [
    "date = pd.Timestamp(2024,6,10, tz=\"UTC\")\n",
    "country_holidays = holidays.CountryHoliday('US')\n",
    "for y in range(date.year-1, date.year+2):\n",
    "    country_holidays.get(f\"{y}\")\n",
    "    \n",
    "country_holidays = sorted(country_holidays.keys())\n",
    "print(country_holidays)\n",
    "country_holidays = [pd.Timestamp(val.__str__(), tz= 'UTC') for val in country_holidays]\n",
    "country_holidays"
   ]
  },
  {
   "cell_type": "code",
   "execution_count": 32,
   "metadata": {},
   "outputs": [
    {
     "name": "stdout",
     "output_type": "stream",
     "text": [
      "True\n"
     ]
    },
    {
     "data": {
      "text/plain": [
       "True"
      ]
     },
     "execution_count": 32,
     "metadata": {},
     "output_type": "execute_result"
    }
   ],
   "source": [
    "a=pd.Timestamp(2025, 7, 4, tz=\"UTC\")\n",
    "pd.Timestamp(a)\n",
    "print(pd.Timestamp(2025, 7, 4, tz=\"UTC\") in country_holidays)\n",
    "pd.Timestamp(2023, 1, 1, tz=\"UTC\").is_month_start"
   ]
  },
  {
   "cell_type": "code",
   "execution_count": 5,
   "metadata": {},
   "outputs": [],
   "source": [
    "def getSeasonalFeatures(timestamp: pd.Timestamp, country: str = 'US') -> dict:\n",
    "    \"\"\"\n",
    "    Extracts comprehensive date-related features for a given pd.Timestamp.\n",
    "    Parameters:\n",
    "        timestamp (pd.Timestamp): The date to extract features from.\n",
    "        country (str): The country code for holiday determination (default: 'US').\n",
    "    Returns:\n",
    "        dict: A dictionary containing the extracted date features.\n",
    "    \"\"\"\n",
    "    if not isinstance(timestamp, pd.Timestamp):\n",
    "        raise ValueError(\"The input must be a pandas Timestamp object.\")\n",
    "    # Ensure timestamp is timezone-aware (if not already)\n",
    "    timestamp = timestamp.tz_localize('UTC') if timestamp.tz is None else timestamp\n",
    "    tstz = timestamp.tz\n",
    "    # Define holidays for the given country\n",
    "    country_holidays = holidays.CountryHoliday(country)\n",
    "    country_holidays.get(timestamp)\n",
    "    holiday_dates = sorted(country_holidays.keys())\n",
    "    # General date-related features\n",
    "    features = {\n",
    "        \"year\": timestamp.year,\n",
    "        \"month\": timestamp.month,\n",
    "        \"day\": timestamp.day,\n",
    "        \"day_of_week\": timestamp.dayofweek,  # Monday=0, Sunday=6\n",
    "        \"day_name\": timestamp.day_name(),\n",
    "        \"is_weekend\": timestamp.dayofweek >= 5,  # True if Saturday or Sunday\n",
    "        \"is_holiday\": timestamp in country_holidays,\n",
    "        \"holiday_name\": country_holidays.get(timestamp, None),  # Name of the holiday if it's a holiday\n",
    "        \"quarter\": timestamp.quarter,\n",
    "        \"week_of_year\": timestamp.isocalendar()[1],  # Week number of the year\n",
    "        \"is_month_start\": timestamp.is_month_start,\n",
    "        \"is_month_end\": timestamp.is_month_end,\n",
    "        \"is_year_start\": timestamp.is_year_start,\n",
    "        \"is_year_end\": timestamp.is_year_end,\n",
    "    }\n",
    "    # Additional features\n",
    "    features.update({\n",
    "        \"days_to_next_holiday\": (\n",
    "            min((pd.Timestamp(h, tz=tstz) - timestamp).days for h in holiday_dates if pd.Timestamp(h, tz=tstz) >= timestamp)\n",
    "            if holiday_dates else None\n",
    "        ),\n",
    "        \"days_since_last_holiday\": (\n",
    "            min((timestamp - pd.Timestamp(h, tz=tstz)).days for h in holiday_dates if pd.Timestamp(h, tz=tstz) <= timestamp)\n",
    "            if holiday_dates else None\n",
    "        ),\n",
    "        \"season\": timestamp.month % 12 // 3 + 1,  # 1: Winter, 2: Spring, 3: Summer, 4: Fall\n",
    "        \"is_trading_day\": timestamp.dayofweek < 5 and timestamp not in country_holidays,  # Example; adjust for real calendars\n",
    "        \"week_part\": (\n",
    "            0 if timestamp.dayofweek < 2 \n",
    "            else 1 if timestamp.dayofweek < 4 \n",
    "            else 2\n",
    "        )\n",
    "    })\n",
    "    return features"
   ]
  },
  {
   "cell_type": "code",
   "execution_count": 6,
   "metadata": {},
   "outputs": [
    {
     "name": "stdout",
     "output_type": "stream",
     "text": [
      "US\n"
     ]
    },
    {
     "data": {
      "text/plain": [
       "{'year': 2024,\n",
       " 'month': 6,\n",
       " 'day': 10,\n",
       " 'day_of_week': 0,\n",
       " 'day_name': 'Monday',\n",
       " 'is_weekend': False,\n",
       " 'is_holiday': False,\n",
       " 'holiday_name': None,\n",
       " 'quarter': 2,\n",
       " 'week_of_year': 24,\n",
       " 'is_month_start': False,\n",
       " 'is_month_end': False,\n",
       " 'is_year_start': False,\n",
       " 'is_year_end': False,\n",
       " 'days_to_next_holiday': 9,\n",
       " 'days_since_last_holiday': 14,\n",
       " 'season': 3,\n",
       " 'is_trading_day': True,\n",
       " 'week_part': 0}"
      ]
     },
     "execution_count": 6,
     "metadata": {},
     "output_type": "execute_result"
    }
   ],
   "source": [
    "date = pd.Timestamp(2024,6,10)\n",
    "country = pycountry.countries.lookup(asset.about.get('country','US')).alpha_2\n",
    "print(country)\n",
    "getSeasonalFeatures(date, country)"
   ]
  },
  {
   "cell_type": "code",
   "execution_count": null,
   "metadata": {},
   "outputs": [],
   "source": []
  }
 ],
 "metadata": {
  "kernelspec": {
   "display_name": ".venv",
   "language": "python",
   "name": "python3"
  },
  "language_info": {
   "codemirror_mode": {
    "name": "ipython",
    "version": 3
   },
   "file_extension": ".py",
   "mimetype": "text/x-python",
   "name": "python",
   "nbconvert_exporter": "python",
   "pygments_lexer": "ipython3",
   "version": "3.12.8"
  }
 },
 "nbformat": 4,
 "nbformat_minor": 2
}
