{
 "cells": [
  {
   "cell_type": "code",
   "execution_count": 1,
   "id": "0c3b363e",
   "metadata": {},
   "outputs": [],
   "source": [
    "import sys\n",
    "import os\n",
    "# Get the absolute path to the project directory\n",
    "project_dir = os.path.abspath(\"..\")\n",
    "\n",
    "# Append the project directory to sys.path\n",
    "if project_dir not in sys.path:\n",
    "    sys.path.append(project_dir)\n",
    "    \n",
    "from src.predictionModule.LoadupSamples import LoadupSamples\n",
    "\n",
    "import pandas as pd\n",
    "import numpy as np\n",
    "import polars as pl\n",
    "import datetime\n",
    "import seaborn as sns\n",
    "import lightgbm as lgb\n",
    "import random\n",
    "import matplotlib.pyplot as plt\n",
    "import logging\n",
    "import time\n",
    "import re"
   ]
  },
  {
   "cell_type": "code",
   "execution_count": 2,
   "id": "393386db",
   "metadata": {},
   "outputs": [],
   "source": [
    "df = pl.read_parquet(\"./notebook-analysis_df_23jul25_1912.parquet\")"
   ]
  },
  {
   "cell_type": "code",
   "execution_count": 4,
   "id": "19227076",
   "metadata": {},
   "outputs": [],
   "source": [
    "out =  (\n",
    "    df.sort(\"mean_pred\")\n",
    "      .with_columns(\n",
    "          tail_mean_return = (\n",
    "              pl.col(\"mean_return\").cum_sum(reverse=True) /\n",
    "              pl.arange(1, pl.len() + 1).reverse()\n",
    "          )\n",
    "      )\n",
    ")"
   ]
  },
  {
   "cell_type": "code",
   "execution_count": 5,
   "id": "b566aa11",
   "metadata": {},
   "outputs": [],
   "source": [
    "out2 =  (\n",
    "    df.sort(\"end_train_date\")\n",
    "      .with_columns(\n",
    "          tail_pred_return = (\n",
    "              pl.col(\"mean_pred\").cum_sum(reverse=True) /\n",
    "              pl.arange(1, pl.len() + 1).reverse()\n",
    "          )\n",
    "      )\n",
    ")"
   ]
  },
  {
   "cell_type": "code",
   "execution_count": 6,
   "id": "4e02fe4c",
   "metadata": {},
   "outputs": [],
   "source": [
    "out3 =  (\n",
    "    df.sort(\"end_train_date\")\n",
    "      .with_columns(\n",
    "          tail_pred_return = (\n",
    "              pl.col(\"mean_return\").cum_sum(reverse=True) /\n",
    "              pl.arange(1, pl.len() + 1).reverse()\n",
    "          )\n",
    "      )\n",
    ")"
   ]
  },
  {
   "cell_type": "code",
   "execution_count": 7,
   "id": "e65df721",
   "metadata": {},
   "outputs": [
    {
     "name": "stderr",
     "output_type": "stream",
     "text": [
      "C:\\Users\\kimer\\AppData\\Local\\Temp\\ipykernel_17008\\909638669.py:4: DeprecationWarning: The argument `min_periods` for `Expr.rolling_mean` is deprecated. It has been renamed to `min_samples`.\n",
      "  roll_mean_return = pl.col(\"mean_return\").rolling_mean(window_size=40, min_periods=1, center=False)\n"
     ]
    }
   ],
   "source": [
    "out4 =  (\n",
    "    df.sort(\"end_train_date\")\n",
    "      .with_columns(\n",
    "          roll_mean_return = pl.col(\"mean_return\").rolling_mean(window_size=40, min_periods=1, center=False)\n",
    "          )# Adjust window size as needed\n",
    ")"
   ]
  },
  {
   "cell_type": "code",
   "execution_count": 8,
   "id": "9f084269",
   "metadata": {},
   "outputs": [
    {
     "name": "stderr",
     "output_type": "stream",
     "text": [
      "C:\\Users\\kimer\\AppData\\Local\\Temp\\ipykernel_17008\\835554040.py:5: DeprecationWarning: The argument `min_periods` for `Expr.rolling_mean` is deprecated. It has been renamed to `min_samples`.\n",
      "  roll_mean_return = pl.col(\"mean_return\").rolling_mean(window_size=10, min_periods=1, center=False)\n"
     ]
    }
   ],
   "source": [
    "out5 = (\n",
    "    df.filter(pl.col(\"mean_pred\") > pl.quantile(\"mean_pred\",0.2))\n",
    "    .sort(\"end_train_date\")\n",
    "      .with_columns(\n",
    "          roll_mean_return = pl.col(\"mean_return\").rolling_mean(window_size=10, min_periods=1, center=False)\n",
    "          )# Adjust window size as needed\n",
    "    )"
   ]
  }
 ],
 "metadata": {
  "kernelspec": {
   "display_name": ".venv",
   "language": "python",
   "name": "python3"
  },
  "language_info": {
   "codemirror_mode": {
    "name": "ipython",
    "version": 3
   },
   "file_extension": ".py",
   "mimetype": "text/x-python",
   "name": "python",
   "nbconvert_exporter": "python",
   "pygments_lexer": "ipython3",
   "version": "3.12.10"
  }
 },
 "nbformat": 4,
 "nbformat_minor": 5
}
