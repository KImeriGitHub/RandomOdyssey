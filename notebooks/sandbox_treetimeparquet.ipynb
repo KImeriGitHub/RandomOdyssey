{
 "cells": [
  {
   "cell_type": "code",
   "execution_count": 6,
   "id": "0c3b363e",
   "metadata": {},
   "outputs": [],
   "source": [
    "import sys\n",
    "import os\n",
    "# Get the absolute path to the project directory\n",
    "project_dir = os.path.abspath(\"..\")\n",
    "\n",
    "# Append the project directory to sys.path\n",
    "if project_dir not in sys.path:\n",
    "    sys.path.append(project_dir)\n",
    "    \n",
    "from src.predictionModule.LoadupSamples import LoadupSamples\n",
    "\n",
    "import pandas as pd\n",
    "import numpy as np\n",
    "import polars as pl\n",
    "import datetime\n",
    "import seaborn as sns\n",
    "import lightgbm as lgb\n",
    "import random\n",
    "import matplotlib.pyplot as plt\n",
    "import logging\n",
    "import time\n",
    "import re"
   ]
  },
  {
   "cell_type": "code",
   "execution_count": 7,
   "id": "393386db",
   "metadata": {},
   "outputs": [
    {
     "data": {
      "text/plain": [
       "['end_train_date',\n",
       " 'end_test_date',\n",
       " 'analysis_time',\n",
       " 'res_meanmean',\n",
       " 'res_toplast',\n",
       " 'res_meanlast',\n",
       " 'n_entries',\n",
       " 'pred_toplast',\n",
       " 'pred_meanmean',\n",
       " 'pred_meanlast']"
      ]
     },
     "execution_count": 7,
     "metadata": {},
     "output_type": "execute_result"
    }
   ],
   "source": [
    "df = pl.read_parquet(\"./notebook-analysis_df_11aug25_1116.parquet\")\n",
    "df.columns\n"
   ]
  },
  {
   "cell_type": "code",
   "execution_count": 8,
   "id": "19227076",
   "metadata": {},
   "outputs": [],
   "source": [
    "out =  (\n",
    "    df.sort(\"pred_meanmean\")\n",
    "      .with_columns(\n",
    "          tail_mean_return = (\n",
    "              pl.col(\"res_meanmean\").cum_sum(reverse=True) /\n",
    "              pl.arange(1, pl.len() + 1).reverse()\n",
    "          )\n",
    "      )\n",
    ")"
   ]
  },
  {
   "cell_type": "code",
   "execution_count": 9,
   "id": "b566aa11",
   "metadata": {},
   "outputs": [],
   "source": [
    "out2 =  (\n",
    "    df.sort(\"end_train_date\")\n",
    "      .with_columns(\n",
    "          tail_pred_return = (\n",
    "              pl.col(\"pred_meanmean\").cum_sum(reverse=True) /\n",
    "              pl.arange(1, pl.len() + 1).reverse()\n",
    "          )\n",
    "      )\n",
    ")"
   ]
  },
  {
   "cell_type": "code",
   "execution_count": 10,
   "id": "4e02fe4c",
   "metadata": {},
   "outputs": [],
   "source": [
    "out3 =  (\n",
    "    df.sort(\"end_train_date\")\n",
    "      .with_columns(\n",
    "          tail_pred_return = (\n",
    "              pl.col(\"pred_meanmean\").cum_sum(reverse=True) /\n",
    "              pl.arange(1, pl.len() + 1).reverse()\n",
    "          )\n",
    "      )\n",
    ")"
   ]
  },
  {
   "cell_type": "code",
   "execution_count": 11,
   "id": "e65df721",
   "metadata": {},
   "outputs": [],
   "source": [
    "out4 =  (\n",
    "    df.sort(\"end_train_date\")\n",
    "      .with_columns(\n",
    "          roll_mean_return = pl.col(\"res_meanmean\").rolling_mean(window_size=40, min_samples=1, center=False)\n",
    "          )# Adjust window size as needed\n",
    ")"
   ]
  },
  {
   "cell_type": "code",
   "execution_count": 12,
   "id": "9f084269",
   "metadata": {},
   "outputs": [
    {
     "name": "stdout",
     "output_type": "stream",
     "text": [
      "shape: (1, 1)\n",
      "┌──────────────┐\n",
      "│ res_meanmean │\n",
      "│ ---          │\n",
      "│ f64          │\n",
      "╞══════════════╡\n",
      "│ 1.032158     │\n",
      "└──────────────┘\n"
     ]
    }
   ],
   "source": [
    "out5 = (\n",
    "    df.filter(pl.col(\"pred_meanmean\") > pl.quantile(\"pred_meanmean\", 0.3))\n",
    "    .sort(\"end_train_date\")\n",
    "    .with_columns(\n",
    "        roll_mean_return = pl.col(\"res_meanmean\").rolling_mean(window_size=10, min_samples=1, center=False)\n",
    "    )# Adjust window size as needed\n",
    ")\n",
    "\n",
    "print(df.filter(pl.col(\"pred_meanmean\") > pl.quantile(\"pred_meanmean\", 0.3)).select(\"res_meanmean\").mean())"
   ]
  },
  {
   "cell_type": "code",
   "execution_count": 31,
   "id": "aa8bf5b6",
   "metadata": {},
   "outputs": [
    {
     "name": "stdout",
     "output_type": "stream",
     "text": [
      "Quantile 0.0: 1.0001306213121046\n",
      "Quantile 0.1: 1.0021176263263523\n",
      "Quantile 0.2: 1.0032016612338732\n",
      "Quantile 0.3: 1.0047904463790978\n",
      "Quantile 0.4: 1.0061270742712485\n",
      "Quantile 0.5: 1.0071189045524214\n",
      "Quantile 0.6: 1.0079630110431397\n",
      "Quantile 0.7: 1.0087402653568829\n",
      "Quantile 0.8: 1.009645321735953\n",
      "Quantile 0.9: 1.0126950634250258\n",
      "Quantile 1.0: 1.0224824197139188\n",
      "i = 0.01, q_mean = 1.0083975240853764, res = 1.538025566655331\n",
      "i = 0.11, q_mean = 1.0118216358312324, res = 1.7248135688227015\n",
      "i = 0.21, q_mean = 1.0145427171584378, res = 1.815054629884649\n",
      "i = 0.30, q_mean = 1.0192819650107754, res = 1.996129677443578\n",
      "i = 0.40, q_mean = 1.0190595446986874, res = 1.7987613592073843\n",
      "i = 0.50, q_mean = 1.0301355074597838, res = 2.163980197248185\n",
      "i = 0.60, q_mean = 1.0333590777141417, res = 1.9856756822988395\n",
      "i = 0.70, q_mean = 1.046758753390189, res = 2.059373279970005\n",
      "i = 0.79, q_mean = 1.0409610833736476, res = 1.5372988253919369\n",
      "i = 0.89, q_mean = 1.0560202708897357, res = 1.358136380821894\n",
      "i = 0.99, q_mean = 1.2919212605839323, res = 1.1424645776209108\n"
     ]
    }
   ],
   "source": [
    "out6 = (\n",
    "    df.filter(pl.col(\"pred_meanlast\") > pl.quantile(\"pred_meanlast\", 0.7))\n",
    "    .sort(\"end_train_date\")\n",
    "    .with_columns(\n",
    "        roll_mean_return = pl.col(\"res_meanlast\").rolling_mean(window_size=10, min_samples=1, center=False)\n",
    "    )# Adjust window size as needed\n",
    ")\n",
    "\n",
    "for i in np.linspace(0, 1, 11):\n",
    "    print(f\"Quantile {i:<.1f}: {np.quantile(df['pred_meanlast'], i)}\")\n",
    "    \n",
    "for i in np.linspace(0.01, 0.99, 11):\n",
    "    q = np.quantile(df['pred_meanlast'], i)\n",
    "    q_mean = df.filter(pl.col(\"pred_meanlast\") > q).select(\"res_meanlast\").mean().item()\n",
    "    res = q_mean ** (52*(1-i))\n",
    "    print(f\"i = {i: <.2f}, q_mean = {q_mean}, res = {res}\")"
   ]
  },
  {
   "cell_type": "code",
   "execution_count": 13,
   "id": "3b67d1cc",
   "metadata": {},
   "outputs": [
    {
     "data": {
      "text/plain": [
       "(array([19723., 19783., 19844., 19905., 19967., 20028., 20089., 20148.,\n",
       "        20209., 20270.]),\n",
       " [Text(19723.0, 0, '2024-01'),\n",
       "  Text(19783.0, 0, '2024-03'),\n",
       "  Text(19844.0, 0, '2024-05'),\n",
       "  Text(19905.0, 0, '2024-07'),\n",
       "  Text(19967.0, 0, '2024-09'),\n",
       "  Text(20028.0, 0, '2024-11'),\n",
       "  Text(20089.0, 0, '2025-01'),\n",
       "  Text(20148.0, 0, '2025-03'),\n",
       "  Text(20209.0, 0, '2025-05'),\n",
       "  Text(20270.0, 0, '2025-07')])"
      ]
     },
     "execution_count": 13,
     "metadata": {},
     "output_type": "execute_result"
    },
    {
     "data": {
      "image/png": "[encoded data removed]",
      "text/plain": [
       "<Figure size 640x480 with 1 Axes>"
      ]
     },
     "metadata": {},
     "output_type": "display_data"
    }
   ],
   "source": [
    "plt.plot(df['end_train_date'], df[\"pred_meanmean\"], label=\"Mean Pred\")\n",
    "plt.plot(df['end_train_date'], (df[\"res_meanmean\"]), label=\"Mean Return\")\n",
    "plt.xticks(rotation=45)"
   ]
  },
  {
   "cell_type": "code",
   "execution_count": null,
   "id": "cbb7b3d3",
   "metadata": {},
   "outputs": [],
   "source": []
  }
 ],
 "metadata": {
  "kernelspec": {
   "display_name": ".venv",
   "language": "python",
   "name": "python3"
  },
  "language_info": {
   "codemirror_mode": {
    "name": "ipython",
    "version": 3
   },
   "file_extension": ".py",
   "mimetype": "text/x-python",
   "name": "python",
   "nbconvert_exporter": "python",
   "pygments_lexer": "ipython3",
   "version": "3.12.10"
  }
 },
 "nbformat": 4,
 "nbformat_minor": 5
}
