{
 "cells": [
  {
   "cell_type": "code",
   "execution_count": 1,
   "id": "4971d7bb",
   "metadata": {},
   "outputs": [],
   "source": [
    "import sys\n",
    "import os\n",
    "\n",
    "# Get the absolute path to the project directory\n",
    "project_dir = os.path.abspath(\"..\")\n",
    "\n",
    "# Append the project directory to sys.path\n",
    "if project_dir not in sys.path:\n",
    "    sys.path.append(project_dir)\n",
    "    \n",
    "from src.predictionModule.TreeTimeML import TreeTimeML\n",
    "\n",
    "import pandas as pd\n",
    "import numpy as np\n",
    "import polars as pl\n",
    "import datetime\n",
    "import logging\n",
    "logging.basicConfig(\n",
    "    level=logging.DEBUG,\n",
    "    format='%(message)s'\n",
    ")\n",
    "logger = logging.getLogger(__name__)"
   ]
  },
  {
   "cell_type": "code",
   "execution_count": null,
   "id": "08364d94",
   "metadata": {},
   "outputs": [],
   "source": [
    "params = {\n",
    "    \"daysAfterPrediction\": 7,\n",
    "    'timesteps': 8,\n",
    "    \n",
    "    'target_option': 'last',\n",
    "\n",
    "    \"TreeTime_isFiltered\": True,\n",
    "    \"TreeTime_RSIExt_q\":0.2,\n",
    "    \"TreeTime_FourierRSME_q\": None,\n",
    "\n",
    "    \"TreeTime_lstm_units\":8,\n",
    "    \"TreeTime_lstm_num_layers\":1,\n",
    "    \"TreeTime_lstm_dropout\":0.5,\n",
    "    \"TreeTime_lstm_recurrent_dropout\":0.2,\n",
    "    \"TreeTime_lstm_learning_rate\":0.1,\n",
    "    \"TreeTime_lstm_optimizer\": \"rmsprop\",\n",
    "    \"TreeTime_lstm_bidirectional\": True,\n",
    "    \"TreeTime_lstm_batch_size\":64,\n",
    "    \"TreeTime_lstm_epochs\":1,\n",
    "    \n",
    "    'TreeTime_lgb_num_boost_round': 1000,\n",
    "    'TreeTime_lgb_lambda_l1': 0.5,\n",
    "    'TreeTime_lgb_lambda_l2': 0.5,\n",
    "    'TreeTime_lgb_feature_fraction': 0.6,\n",
    "    'TreeTime_lgb_num_leaves': 280,\n",
    "    'TreeTime_lgb_max_depth': 12,\n",
    "    'TreeTime_lgb_learning_rate': 0.5,\n",
    "    'TreeTime_lgb_min_data_in_leaf': 120,\n",
    "    'TreeTime_lgb_min_gain_to_split': 0.1,\n",
    "    'TreeTime_lgb_path_smooth': 0.6,\n",
    "    'TreeTime_lgb_min_sum_hessian_in_leaf': 0.6,\n",
    "    \n",
    "    'TreeTime_MatchFeatures_minWeight': 0.1,\n",
    "    'TreeTime_MatchFeatures_truncation': 2,\n",
    "    \n",
    "    'TreeTime_MatchFeatures_Pricediff': True,\n",
    "    'TreeTime_MatchFeatures_FinData_quar': False,\n",
    "    'TreeTime_MatchFeatures_FinData_metrics': False,\n",
    "    'TreeTime_MatchFeatures_Fourier_RSME': False,\n",
    "    'TreeTime_MatchFeatures_Fourier_Sign': False,\n",
    "    'TreeTime_MatchFeatures_TA_trend': False,\n",
    "    'TreeTime_MatchFeatures_FeatureGroup_VolGrLvl': False,\n",
    "    'TreeTime_MatchFeatures_LSTM_Prediction': True,\n",
    "    \n",
    "    \"TreeTime_top_highest\": 10,\n",
    "}\n",
    "\n",
    "stock_group = \"group_debug\"\n",
    "\n",
    "eval_date = datetime.date(year=2024, month=12, day=13)\n",
    "start_train_date = datetime.date(year=2023, month=1, day=1)\n",
    "\n",
    "treetimeML = TreeTimeML(\n",
    "    train_start_date=start_train_date,\n",
    "    test_dates=[eval_date],\n",
    "    group=stock_group,\n",
    "    params=params,\n",
    ")"
   ]
  },
  {
   "cell_type": "code",
   "execution_count": 3,
   "id": "a5367ae9",
   "metadata": {},
   "outputs": [],
   "source": [
    "treetimeML.load_and_filter_sets(main_path = \"../src/featureAlchemy/bin/\")"
   ]
  },
  {
   "cell_type": "code",
   "execution_count": 4,
   "id": "ea70da7b",
   "metadata": {},
   "outputs": [],
   "source": [
    "assert treetimeML.train_Xtree.shape[0]   == treetimeML.train_ytree.shape[0], \"Train Tree X and y shape mismatch\"\n",
    "assert treetimeML.train_Xtime.shape[0]   == treetimeML.train_ytime.shape[0], \"Train Time X and y shape mismatch\"\n",
    "assert treetimeML.test_Xtree.shape[0]    == treetimeML.test_ytree.shape[0], \"Test Tree X and y shape mismatch\"\n",
    "assert treetimeML.test_Xtime.shape[0]    == treetimeML.test_ytime.shape[0], \"Test Time X and y shape mismatch\"\n",
    "assert treetimeML.meta_pl_train.shape[0] == treetimeML.train_Xtree.shape[0], \"Meta Train and X Tree shape mismatch\"\n",
    "assert treetimeML.meta_pl_test.shape[0]  == treetimeML.test_Xtree.shape[0], \"Meta Test and X Tree shape mismatch\"\n",
    "assert treetimeML.meta_pl_train.shape[0] == treetimeML.train_Xtime.shape[0], \"Meta Train and X Time shape mismatch\"\n",
    "assert treetimeML.meta_pl_test.shape[0]  == treetimeML.test_Xtime.shape[0], \"Meta Test and X Time shape mismatch\"\n",
    "assert treetimeML.meta_pl_train.shape[0] == treetimeML.train_ytree.shape[0], \"Meta Train and y Tree shape mismatch\"\n",
    "assert treetimeML.meta_pl_test.shape[0]  == treetimeML.test_ytree.shape[0], \"Meta Test and y Tree shape mismatch\"\n",
    "assert treetimeML.meta_pl_train.shape[0] == treetimeML.train_ytime.shape[0], \"Meta Train and y Time shape mismatch\"\n",
    "assert treetimeML.meta_pl_test.shape[0]  == treetimeML.test_ytime.shape[0], \"Meta Test and y Time shape mismatch\"\n",
    "assert len(treetimeML.featureTreeNames)  == treetimeML.train_Xtree.shape[1], \"Feature Tree names and X Tree shape mismatch\"\n",
    "assert len(treetimeML.featureTimeNames)  == treetimeML.train_Xtime.shape[2], \"Feature Time names and X Time shape mismatch\""
   ]
  },
  {
   "cell_type": "code",
   "execution_count": 5,
   "id": "a4ade28e",
   "metadata": {},
   "outputs": [],
   "source": [
    "assert np.all(treetimeML.train_Xtime>=0.0) & np.all(treetimeML.train_Xtime<=1.0), \"Train X Time values out of range [0, 1]\""
   ]
  },
  {
   "cell_type": "code",
   "execution_count": 6,
   "id": "49763497",
   "metadata": {},
   "outputs": [
    {
     "name": "stderr",
     "output_type": "stream",
     "text": [
      "Number of time features: 60\n",
      "Overall Training Label Distribution:\n",
      "  Label False: Count = 3990, Frequency = 0.69\n",
      "  Label True: Count = 1834, Frequency = 0.31\n",
      "\n"
     ]
    },
    {
     "name": "stdout",
     "output_type": "stream",
     "text": [
      "\u001b[1m82/82\u001b[0m \u001b[32m━━━━━━━━━━━━━━━━━━━━\u001b[0m\u001b[37m\u001b[0m \u001b[1m4s\u001b[0m 13ms/step - loss: 0.2741 - mean_squared_error: 0.2741 - val_loss: 0.0337 - val_mean_squared_error: 0.0337\n"
     ]
    },
    {
     "name": "stderr",
     "output_type": "stream",
     "text": [
      "LSTM completed in 0:00:04.297485.\n"
     ]
    },
    {
     "name": "stdout",
     "output_type": "stream",
     "text": [
      "\u001b[1m91/91\u001b[0m \u001b[32m━━━━━━━━━━━━━━━━━━━━\u001b[0m\u001b[37m\u001b[0m \u001b[1m1s\u001b[0m 1ms/step\n",
      "\u001b[1m1/1\u001b[0m \u001b[32m━━━━━━━━━━━━━━━━━━━━\u001b[0m\u001b[37m\u001b[0m \u001b[1m0s\u001b[0m 410ms/step\n"
     ]
    },
    {
     "name": "stderr",
     "output_type": "stream",
     "text": [
      "LSTM Prediction completed in 0:00:01.022442.\n",
      "Weights established in 0:00:00.\n",
      "Iteration 0: valid_0's rmse: 0.040808133352613185\n",
      "Iteration 100: valid_0's rmse: 0.040808133352613185\n",
      "LGB completed in 0:00:01.741861.\n",
      "LGB Prediction completed in 0:00:00.025441.\n",
      "Predicted Training Label Distribution:\n",
      "  Label True: Count = 5824, Frequency = 1.00\n",
      "\n",
      "Testing Masked Classification Metrics:\n",
      "c:\\Users\\kimer\\Desktop\\RandomOdyssey\\.venv\\Lib\\site-packages\\sklearn\\metrics\\_classification.py:407: UserWarning: A single label was found in 'y_true' and 'y_pred'. For the confusion matrix to have the correct shape, use the 'labels' parameter to pass all known labels.\n",
      "  warnings.warn(\n",
      "\n",
      "  Overall Accuracy: 1.00\n",
      "\n",
      "  Metrics per Class:\n",
      "    Class False:\n",
      "      TPR: 1.00, FPR: 0.00, TNR: 0.00, FNR: 0.00\n",
      "\n",
      "Testing Errors:\n",
      "Mean Squared Error: 0.0527\n",
      "Accuracy of top 10 to be over 5%: 0.00%\n",
      "Mean value of top 10: 0.9686114192008972\n",
      "Min value of top 10: 0.8792195320129395\n",
      "Max value of top 10: 1.004068374633789\n",
      "DataFrame:\n",
      "shape: (10, 7)\n",
      "+------------+--------+------------+-------------+--------------+--------------+--------------+\n",
      "| date       | ticker | Close      | target_date | target_price | target_close | target_ratio |\n",
      "| ---        | ---    | ---        | ---         | ---          | ---          | ---          |\n",
      "| date       | str    | f32        | date        | f32          | f32          | f32          |\n",
      "+=============================================================================================+\n",
      "| 2024-12-13 | SBUX   | 97.419998  | 2024-12-20  | 87.970001    | 87.970001    | 0.902997     |\n",
      "| 2024-12-13 | NVDA   | 134.25     | 2024-12-20  | 134.699997   | 134.699997   | 1.003352     |\n",
      "| 2024-12-13 | NFLX   | 918.869995 | 2024-12-20  | 909.049988   | 909.049988   | 0.989313     |\n",
      "| 2024-12-13 | MU     | 102.5      | 2024-12-20  | 90.120003    | 90.120003    | 0.87922      |\n",
      "| 2024-12-13 | MAR    | 287.079987 | 2024-12-20  | 283.959991   | 283.959991   | 0.989132     |\n",
      "| 2024-12-13 | ISRG   | 539.580017 | 2024-12-20  | 524.429993   | 524.429993   | 0.971923     |\n",
      "| 2024-12-13 | EXC    | 36.869999  | 2024-12-20  | 37.02        | 37.02        | 1.004068     |\n",
      "| 2024-12-13 | CTSH   | 80.059998  | 2024-12-20  | 79.230003    | 79.230003    | 0.989633     |\n",
      "| 2024-12-13 | CSX    | 33.240002  | 2024-12-20  | 31.85        | 31.85        | 0.958183     |\n",
      "| 2024-12-13 | CSCO   | 58.619999  | 2024-12-20  | 58.52        | 58.52        | 0.998294     |\n",
      "+------------+--------+------------+-------------+--------------+--------------+--------------+\n"
     ]
    },
    {
     "data": {
      "text/plain": [
       "(np.float32(0.9686114), np.float64(1.0088483485857327))"
      ]
     },
     "execution_count": 6,
     "metadata": {},
     "output_type": "execute_result"
    }
   ],
   "source": [
    "treetimeML.analyze()"
   ]
  },
  {
   "cell_type": "code",
   "execution_count": 7,
   "id": "8052e648",
   "metadata": {},
   "outputs": [],
   "source": [
    "na = treetimeML.featureTreeNames"
   ]
  }
 ],
 "metadata": {
  "kernelspec": {
   "display_name": ".venv",
   "language": "python",
   "name": "python3"
  },
  "language_info": {
   "codemirror_mode": {
    "name": "ipython",
    "version": 3
   },
   "file_extension": ".py",
   "mimetype": "text/x-python",
   "name": "python",
   "nbconvert_exporter": "python",
   "pygments_lexer": "ipython3",
   "version": "3.12.10"
  }
 },
 "nbformat": 4,
 "nbformat_minor": 5
}
