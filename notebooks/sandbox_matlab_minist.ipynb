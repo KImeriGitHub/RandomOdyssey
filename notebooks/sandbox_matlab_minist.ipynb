{
 "cells": [
  {
   "cell_type": "code",
   "execution_count": 76,
   "metadata": {},
   "outputs": [],
   "source": [
    "import sys\n",
    "import os\n",
    "\n",
    "# Get the absolute path to the project directory\n",
    "project_dir = os.path.abspath(\"..\")\n",
    "\n",
    "# Append the project directory to sys.path\n",
    "if project_dir not in sys.path:\n",
    "    sys.path.append(project_dir)"
   ]
  },
  {
   "cell_type": "code",
   "execution_count": 77,
   "metadata": {},
   "outputs": [],
   "source": [
    "import sys\n",
    "import os\n",
    "\n",
    "# Get the absolute path to the project directory\n",
    "project_dir = os.path.abspath(\"..\")\n",
    "\n",
    "# Append the project directory to sys.path\n",
    "if project_dir not in sys.path:\n",
    "    sys.path.append(project_dir)\n",
    "\n",
    "import yfinance as yf\n",
    "import pandas as pd\n",
    "import datetime as dt\n",
    "import matplotlib.pyplot as plt\n",
    "import msgpack\n",
    "import warnings\n",
    "from dataclasses import asdict, is_dataclass, dataclass\n",
    "import os\n",
    "import msgpack\n",
    "import json\n",
    "import pickle\n",
    "from pandas.api.types import is_datetime64_any_dtype\n",
    "import scipy\n",
    "import numpy as np\n",
    "from scipy.stats import linregress\n",
    "\n",
    "from src.common.AssetData import AssetData\n",
    "from src.common.AssetDataService import AssetDataService\n",
    "from src.common.AssetFileInOut import AssetFileInOut \n",
    "from src.databaseService.OutsourceLoader import OutsourceLoader\n",
    "\n",
    "from src.simulation.SimulatePortfolio import SimulatePortfolio\n",
    "from src.strategy.StratBuyAndHold import StratBuyAndHold\n",
    "from src.simulation.ResultAnalyzer import ResultAnalyzer\n",
    "from src.common.AssetFileInOut import AssetFileInOut\n",
    "from src.mathTools.CurveAnalysis import CurveAnalysis\n",
    "from src.predictionModule.FourierML import FourierML\n",
    "from src.common.YamlTickerInOut import YamlTickerInOut\n",
    "from src.common.DataFrameTimeOperations import DataFrameTimeOperationsPandas as DFTO\n"
   ]
  },
  {
   "cell_type": "code",
   "execution_count": 78,
   "metadata": {},
   "outputs": [
    {
     "name": "stdout",
     "output_type": "stream",
     "text": [
      "(5000, 28, 28)\n",
      "(5000,)\n",
      "(5000, 28, 28)\n"
     ]
    }
   ],
   "source": [
    "from keras.datasets import mnist\n",
    "\n",
    "# Load data\n",
    "(XTrain, YTrain), (XTest, YTest) = mnist.load_data()\n",
    "\n",
    "# Use the first 5000 samples\n",
    "XTrain = XTrain[:5000]\n",
    "YTrain = YTrain[:5000]\n",
    "XTest = XTest[:5000]\n",
    "YTest = YTest[:5000]\n",
    "\n",
    "print(XTrain.shape)\n",
    "print(YTrain.shape)\n",
    "print(XTest.shape)\n",
    "\n",
    "# One-hot encode labels\n",
    "Y = np.zeros((5000, 10))\n",
    "Ytest = np.zeros((5000, 10))\n",
    "labels = np.arange(10)\n",
    "for n in range(5000):\n",
    "    Y[n, YTrain[n]] = 1\n",
    "    Ytest[n, YTest[n]] = 1\n",
    "\n",
    "# Reshape images to (n_samples, 28*28)\n",
    "U = XTrain.reshape(5000, 28*28)\n",
    "Util = XTest.reshape(5000, 28*28)\n",
    "\n",
    "# Parameters\n",
    "NRnd = 2000\n",
    "\n",
    "MeanAccDATA = np.zeros(1)\n",
    "gammaDATA = np.zeros(1)\n",
    "varDATA = np.zeros(1)"
   ]
  },
  {
   "cell_type": "code",
   "execution_count": null,
   "metadata": {},
   "outputs": [
    {
     "name": "stdout",
     "output_type": "stream",
     "text": [
      "StdDevW = 0.9991388949222844 + 0.9998824724630789j\n"
     ]
    }
   ],
   "source": [
    "# Generate random complex matrix W\n",
    "W_real = np.random.randn(NRnd, 28*28)\n",
    "W_imag = np.random.randn(NRnd, 28*28)\n",
    "W = W_real + 1j * W_imag\n",
    "# Unbias W\n",
    "UnbiasedW = W - np.mean(W)\n",
    "\n",
    "# Normalize real and imaginary parts\n",
    "NormalizedRealW = UnbiasedW.real / np.sqrt(np.var(UnbiasedW.real))\n",
    "NormalizedImagW = UnbiasedW.imag / np.sqrt(np.var(UnbiasedW.imag))\n",
    "VarW = np.var(UnbiasedW.real) + 1j * np.var(UnbiasedW.imag)\n",
    "print(f'StdDevW = {np.sqrt(VarW.real)} + {np.sqrt(VarW.imag)}j')\n",
    "Wnor = (NormalizedRealW + 1j * NormalizedImagW) / np.sqrt(NRnd)"
   ]
  },
  {
   "cell_type": "code",
   "execution_count": 90,
   "metadata": {},
   "outputs": [],
   "source": [
    "# Machine Learning\n",
    "XMat = np.abs(np.matmul(Wnor, U.T)).T  # Shape: (5000, NRnd)\n",
    "XtilMat = np.abs(np.matmul(Wnor, Util.T)).T  # Shape: (5000, NRnd)\n",
    "\n",
    "gammaData = np.linspace(10, 11, 100)\n",
    "qualityData = np.zeros(len(gammaData))"
   ]
  },
  {
   "cell_type": "code",
   "execution_count": null,
   "metadata": {},
   "outputs": [],
   "source": [
    "XtX = np.matmul(U.T, U)\n",
    "\n",
    "eigs = np.linalg.eigvals(XtX)\n",
    "\n",
    "sorteigs= np.sort(eigs)\n",
    "sorteigs"
   ]
  },
  {
   "cell_type": "code",
   "execution_count": 93,
   "metadata": {},
   "outputs": [
    {
     "name": "stderr",
     "output_type": "stream",
     "text": [
      "C:\\Users\\KILightTouch\\AppData\\Local\\Temp\\ipykernel_15540\\3952747847.py:2: RuntimeWarning: invalid value encountered in matmul\n",
      "  XtX = np.matmul(XMat.T, XMat) + ga * np.eye(NRnd)\n"
     ]
    },
    {
     "data": {
      "text/plain": [
       "0.9033574877941483"
      ]
     },
     "execution_count": 93,
     "metadata": {},
     "output_type": "execute_result"
    }
   ],
   "source": [
    "ga = -100\n",
    "XtX = np.matmul(XMat.T, XMat) + ga * np.eye(NRnd)\n",
    "XtY = np.matmul(XMat.T, Y)\n",
    "coeffs = np.linalg.solve(XtX, XtY)\n",
    "Ytil = np.matmul(XtilMat, coeffs)\n",
    "\n",
    "estIdxLabel = np.argmax(Ytil, axis=1)\n",
    "estLabel = estIdxLabel\n",
    "accuracy_per_label = np.zeros(len(labels))\n",
    "for q in range(len(labels)):\n",
    "    indices = np.where(YTest == labels[q])[0]\n",
    "    accuracy_per_label[q] = np.mean(estLabel[indices] == labels[q])\n",
    "\n",
    "np.mean(accuracy_per_label)"
   ]
  },
  {
   "cell_type": "code",
   "execution_count": 84,
   "metadata": {},
   "outputs": [
    {
     "name": "stdout",
     "output_type": "stream",
     "text": [
      "g = 1 / 100\n"
     ]
    },
    {
     "name": "stderr",
     "output_type": "stream",
     "text": [
      "C:\\Users\\KILightTouch\\AppData\\Local\\Temp\\ipykernel_15540\\1931645022.py:4: RuntimeWarning: invalid value encountered in matmul\n",
      "  XtX = np.matmul(XMat.T, XMat) + gamma * np.eye(NRnd)\n"
     ]
    },
    {
     "name": "stdout",
     "output_type": "stream",
     "text": [
      "0.901835123618611\n",
      "g = 2 / 100\n",
      "0.901835123618611\n",
      "g = 3 / 100\n",
      "0.901835123618611\n",
      "g = 4 / 100\n",
      "0.901835123618611\n",
      "g = 5 / 100\n",
      "0.901835123618611\n",
      "g = 6 / 100\n",
      "0.901835123618611\n",
      "g = 7 / 100\n",
      "0.901835123618611\n",
      "g = 8 / 100\n",
      "0.901835123618611\n",
      "g = 9 / 100\n"
     ]
    },
    {
     "ename": "KeyboardInterrupt",
     "evalue": "",
     "output_type": "error",
     "traceback": [
      "\u001b[1;31m---------------------------------------------------------------------------\u001b[0m",
      "\u001b[1;31mKeyboardInterrupt\u001b[0m                         Traceback (most recent call last)",
      "Cell \u001b[1;32mIn[84], line 4\u001b[0m\n\u001b[0;32m      2\u001b[0m \u001b[38;5;28mprint\u001b[39m(\u001b[38;5;124mf\u001b[39m\u001b[38;5;124m'\u001b[39m\u001b[38;5;124mg = \u001b[39m\u001b[38;5;132;01m{\u001b[39;00mg\u001b[38;5;241m+\u001b[39m\u001b[38;5;241m1\u001b[39m\u001b[38;5;132;01m}\u001b[39;00m\u001b[38;5;124m / \u001b[39m\u001b[38;5;132;01m{\u001b[39;00m\u001b[38;5;28mlen\u001b[39m(gammaData)\u001b[38;5;132;01m}\u001b[39;00m\u001b[38;5;124m'\u001b[39m)\n\u001b[0;32m      3\u001b[0m gamma \u001b[38;5;241m=\u001b[39m gammaData[g]\n\u001b[1;32m----> 4\u001b[0m XtX \u001b[38;5;241m=\u001b[39m \u001b[43mnp\u001b[49m\u001b[38;5;241;43m.\u001b[39;49m\u001b[43mmatmul\u001b[49m\u001b[43m(\u001b[49m\u001b[43mXMat\u001b[49m\u001b[38;5;241;43m.\u001b[39;49m\u001b[43mT\u001b[49m\u001b[43m,\u001b[49m\u001b[43m \u001b[49m\u001b[43mXMat\u001b[49m\u001b[43m)\u001b[49m \u001b[38;5;241m+\u001b[39m gamma \u001b[38;5;241m*\u001b[39m np\u001b[38;5;241m.\u001b[39meye(NRnd)\n\u001b[0;32m      5\u001b[0m XtY \u001b[38;5;241m=\u001b[39m np\u001b[38;5;241m.\u001b[39mmatmul(XMat\u001b[38;5;241m.\u001b[39mT, Y)\n\u001b[0;32m      6\u001b[0m coeffs \u001b[38;5;241m=\u001b[39m np\u001b[38;5;241m.\u001b[39mlinalg\u001b[38;5;241m.\u001b[39msolve(XtX, XtY)\n",
      "\u001b[1;31mKeyboardInterrupt\u001b[0m: "
     ]
    }
   ],
   "source": [
    "for g in range(len(gammaData)):\n",
    "    print(f'g = {g+1} / {len(gammaData)}')\n",
    "    gamma = gammaData[g]\n",
    "    XtX = np.matmul(XMat.T, XMat) + gamma * np.eye(NRnd)\n",
    "    XtY = np.matmul(XMat.T, Y)\n",
    "    coeffs = np.linalg.solve(XtX, XtY)\n",
    "    Ytil = np.matmul(XtilMat, coeffs)\n",
    "    \n",
    "    estIdxLabel = np.argmax(Ytil, axis=1)\n",
    "    estLabel = estIdxLabel\n",
    "    accuracy_per_label = np.zeros(len(labels))\n",
    "    for q in range(len(labels)):\n",
    "        indices = np.where(YTest == labels[q])[0]\n",
    "        accuracy_per_label[q] = np.mean(estLabel[indices] == labels[q])\n",
    "    qualityData[g] = np.mean(accuracy_per_label)\n",
    "    print(qualityData[g])"
   ]
  },
  {
   "cell_type": "code",
   "execution_count": 66,
   "metadata": {},
   "outputs": [
    {
     "name": "stdout",
     "output_type": "stream",
     "text": [
      "Best gamma: 10.0\n",
      "Accuracy label 0: 0.9565217391304348\n",
      "Accuracy label 1: 0.978984238178634\n",
      "Accuracy label 2: 0.8981132075471698\n",
      "Accuracy label 3: 0.898\n",
      "Accuracy label 4: 0.906\n",
      "Accuracy label 5: 0.8662280701754386\n",
      "Accuracy label 6: 0.9155844155844156\n",
      "Accuracy label 7: 0.88671875\n",
      "Accuracy label 8: 0.8548057259713702\n",
      "Accuracy label 9: 0.8692307692307693\n",
      "Accuracy: 0.9030186915818232\n",
      "10.0\n",
      "0.9030186915818232\n"
     ]
    }
   ],
   "source": [
    "bestIdx = np.argmax(qualityData)\n",
    "bestGamma = gammaData[bestIdx]\n",
    "print(f'Best gamma: {bestGamma}')\n",
    "\n",
    "# Recompute with best gamma\n",
    "gamma = bestGamma\n",
    "XtX = np.dot(XMat.T, XMat) + gamma * np.eye(NRnd)\n",
    "XtY = np.dot(XMat.T, Y)\n",
    "coeffs = np.linalg.solve(XtX, XtY)\n",
    "Ytil = np.dot(XtilMat, coeffs)\n",
    "estIdxLabel = np.argmax(Ytil, axis=1)\n",
    "estLabel = estIdxLabel\n",
    "\n",
    "accuracy_per_label = np.zeros(len(labels))\n",
    "for q in range(len(labels)):\n",
    "    indices = np.where(YTest == labels[q])[0]\n",
    "    accuracy_per_label[q] = np.mean(estLabel[indices] == labels[q])\n",
    "    print(f'Accuracy label {labels[q]}: {accuracy_per_label[q]}')\n",
    "print(f'Accuracy: {np.mean(accuracy_per_label)}')\n",
    "print(bestGamma)\n",
    "print(np.mean(accuracy_per_label))"
   ]
  }
 ],
 "metadata": {
  "kernelspec": {
   "display_name": ".venv",
   "language": "python",
   "name": "python3"
  },
  "language_info": {
   "codemirror_mode": {
    "name": "ipython",
    "version": 3
   },
   "file_extension": ".py",
   "mimetype": "text/x-python",
   "name": "python",
   "nbconvert_exporter": "python",
   "pygments_lexer": "ipython3",
   "version": "3.11.3"
  }
 },
 "nbformat": 4,
 "nbformat_minor": 2
}
