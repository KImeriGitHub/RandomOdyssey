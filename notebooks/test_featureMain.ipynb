{
 "cells": [
  {
   "cell_type": "code",
   "execution_count": 7,
   "metadata": {},
   "outputs": [],
   "source": [
    "import sys\n",
    "import os\n",
    "\n",
    "# Get the absolute path to the project directory\n",
    "project_dir = os.path.abspath(\"..\")\n",
    "\n",
    "# Append the project directory to sys.path\n",
    "if project_dir not in sys.path:\n",
    "    sys.path.append(project_dir)"
   ]
  },
  {
   "cell_type": "code",
   "execution_count": 8,
   "metadata": {},
   "outputs": [],
   "source": [
    "import sys\n",
    "import os\n",
    "\n",
    "# Get the absolute path to the project directory\n",
    "project_dir = os.path.abspath(\"..\")\n",
    "\n",
    "# Append the project directory to sys.path\n",
    "if project_dir not in sys.path:\n",
    "    sys.path.append(project_dir)\n",
    "\n",
    "import yfinance as yf\n",
    "import pandas as pd\n",
    "import datetime as dt\n",
    "import matplotlib.pyplot as plt\n",
    "import os\n",
    "import numpy as np\n",
    "from typing import Dict\n",
    "import polars as pl\n",
    "\n",
    "from src.common.AssetData import AssetData\n",
    "from src.common.AssetDataPolars import AssetDataPolars\n",
    "from src.common.AssetDataService import AssetDataService\n",
    "from src.common.AssetFileInOut import AssetFileInOut \n",
    "\n",
    "from src.featureAlchemy.FeatureMain import FeatureMain\n",
    "from src.featureAlchemy.FeatureTA import FeatureTA\n",
    "from src.featureAlchemy.FeatureGroupDynamic import FeatureGroupDynamic\n",
    "from src.common.DataFrameTimeOperations import DataFrameTimeOperationsPolars as DPl\n"
   ]
  },
  {
   "cell_type": "code",
   "execution_count": 9,
   "metadata": {},
   "outputs": [],
   "source": [
    "assets=AssetFileInOut(\"../src/stockGroups/bin\").loadDictFromFile(\"group_debug\")\n",
    "\n",
    "# Convert to Polars for speedup\n",
    "assetspl: Dict[str, AssetDataPolars] = {}\n",
    "for ticker, asset in assets.items():\n",
    "    assetspl[ticker] = AssetDataService.to_polars(asset)"
   ]
  },
  {
   "cell_type": "code",
   "execution_count": 10,
   "metadata": {},
   "outputs": [
    {
     "ename": "KeyError",
     "evalue": "'IRM'",
     "output_type": "error",
     "traceback": [
      "\u001b[1;31m---------------------------------------------------------------------------\u001b[0m",
      "\u001b[1;31mKeyError\u001b[0m                                  Traceback (most recent call last)",
      "Cell \u001b[1;32mIn[10], line 2\u001b[0m\n\u001b[0;32m      1\u001b[0m ticker \u001b[38;5;241m=\u001b[39m \u001b[38;5;124m\"\u001b[39m\u001b[38;5;124mIRM\u001b[39m\u001b[38;5;124m\"\u001b[39m\n\u001b[1;32m----> 2\u001b[0m asset \u001b[38;5;241m=\u001b[39m \u001b[43massetspl\u001b[49m\u001b[43m[\u001b[49m\u001b[43mticker\u001b[49m\u001b[43m]\u001b[49m\n\u001b[0;32m      3\u001b[0m startDate \u001b[38;5;241m=\u001b[39m pd\u001b[38;5;241m.\u001b[39mTimestamp(\u001b[38;5;241m2020\u001b[39m, \u001b[38;5;241m1\u001b[39m, \u001b[38;5;241m1\u001b[39m, tz \u001b[38;5;241m=\u001b[39m \u001b[38;5;124m\"\u001b[39m\u001b[38;5;124mUTC\u001b[39m\u001b[38;5;124m\"\u001b[39m)\n\u001b[0;32m      4\u001b[0m endDate \u001b[38;5;241m=\u001b[39m pd\u001b[38;5;241m.\u001b[39mTimestamp(\u001b[38;5;241m2020\u001b[39m, \u001b[38;5;241m12\u001b[39m, \u001b[38;5;241m31\u001b[39m, tz \u001b[38;5;241m=\u001b[39m \u001b[38;5;124m\"\u001b[39m\u001b[38;5;124mUTC\u001b[39m\u001b[38;5;124m\"\u001b[39m)\n",
      "\u001b[1;31mKeyError\u001b[0m: 'IRM'"
     ]
    }
   ],
   "source": [
    "ticker = \"IRM\"\n",
    "asset = assetspl[ticker]\n",
    "startDate = pd.Timestamp(2020, 1, 1, tz = \"UTC\")\n",
    "endDate = pd.Timestamp(2020, 12, 31, tz = \"UTC\")\n",
    "params = {\n",
    "        'idxLengthOneMonth': 21,\n",
    "        'fouriercutoff': 5,\n",
    "        'multFactor': 8,\n",
    "        'timesteps': 20,\n",
    "    }\n",
    "ffM = FeatureMain(\n",
    "    assetspl,\n",
    "    startDate, \n",
    "    endDate, \n",
    "    lagList = [1, 10, 100],\n",
    "    monthHorizonList = [1,2,6,12],\n",
    "    params = params\n",
    ")"
   ]
  },
  {
   "cell_type": "code",
   "execution_count": null,
   "metadata": {},
   "outputs": [
    {
     "name": "stderr",
     "output_type": "stream",
     "text": [
      "  Processing ticker AAPL (1/299)\n",
      "  Processing ticker ABT (2/299)\n",
      "  Processing ticker ACN (3/299)\n"
     ]
    },
    {
     "ename": "KeyboardInterrupt",
     "evalue": "",
     "output_type": "error",
     "traceback": [
      "\u001b[1;31m---------------------------------------------------------------------------\u001b[0m",
      "\u001b[1;31mKeyboardInterrupt\u001b[0m                         Traceback (most recent call last)",
      "Cell \u001b[1;32mIn[6], line 1\u001b[0m\n\u001b[1;32m----> 1\u001b[0m meta_tree, treeFeatures_np, treeFeaturesNames \u001b[38;5;241m=\u001b[39m \u001b[43mffM\u001b[49m\u001b[38;5;241;43m.\u001b[39;49m\u001b[43mgetTreeFeatures\u001b[49m\u001b[43m(\u001b[49m\u001b[43m)\u001b[49m\n\u001b[0;32m      2\u001b[0m \u001b[38;5;28mprint\u001b[39m(treeFeatures_np\u001b[38;5;241m.\u001b[39mshape[\u001b[38;5;241m1\u001b[39m] \u001b[38;5;241m==\u001b[39m \u001b[38;5;28mlen\u001b[39m(treeFeaturesNames))\n\u001b[0;32m      3\u001b[0m \u001b[38;5;28mprint\u001b[39m(meta_tree\u001b[38;5;241m.\u001b[39mshape[\u001b[38;5;241m1\u001b[39m] \u001b[38;5;241m==\u001b[39m \u001b[38;5;241m3\u001b[39m)\n",
      "File \u001b[1;32mc:\\Users\\kimer\\Desktop\\RandomOdyssey\\src\\featureAlchemy\\FeatureMain.py:115\u001b[0m, in \u001b[0;36mFeatureMain.getTreeFeatures\u001b[1;34m(self)\u001b[0m\n\u001b[0;32m    113\u001b[0m FC \u001b[38;5;241m=\u001b[39m FeatureCategory(\u001b[38;5;28mself\u001b[39m\u001b[38;5;241m.\u001b[39massets[ticker], \u001b[38;5;28mself\u001b[39m\u001b[38;5;241m.\u001b[39mparams)\n\u001b[0;32m    114\u001b[0m FM \u001b[38;5;241m=\u001b[39m FeatureMathematical(\u001b[38;5;28mself\u001b[39m\u001b[38;5;241m.\u001b[39massets[ticker], \u001b[38;5;28mself\u001b[39m\u001b[38;5;241m.\u001b[39mlagList, \u001b[38;5;28mself\u001b[39m\u001b[38;5;241m.\u001b[39mmonthHorizonList, \u001b[38;5;28mself\u001b[39m\u001b[38;5;241m.\u001b[39mparams)\n\u001b[1;32m--> 115\u001b[0m FFC \u001b[38;5;241m=\u001b[39m \u001b[43mFeatureFourierCoeff\u001b[49m\u001b[43m(\u001b[49m\u001b[38;5;28;43mself\u001b[39;49m\u001b[38;5;241;43m.\u001b[39;49m\u001b[43massets\u001b[49m\u001b[43m[\u001b[49m\u001b[43mticker\u001b[49m\u001b[43m]\u001b[49m\u001b[43m,\u001b[49m\u001b[43m \u001b[49m\u001b[38;5;28;43mself\u001b[39;49m\u001b[38;5;241;43m.\u001b[39;49m\u001b[43mstartBDate\u001b[49m\u001b[43m,\u001b[49m\u001b[43m \u001b[49m\u001b[38;5;28;43mself\u001b[39;49m\u001b[38;5;241;43m.\u001b[39;49m\u001b[43mendBDate\u001b[49m\u001b[43m,\u001b[49m\u001b[43m \u001b[49m\u001b[38;5;28;43mself\u001b[39;49m\u001b[38;5;241;43m.\u001b[39;49m\u001b[43mlagList\u001b[49m\u001b[43m,\u001b[49m\u001b[43m \u001b[49m\u001b[38;5;28;43mself\u001b[39;49m\u001b[38;5;241;43m.\u001b[39;49m\u001b[43mmonthHorizonList\u001b[49m\u001b[43m,\u001b[49m\u001b[43m \u001b[49m\u001b[38;5;28;43mself\u001b[39;49m\u001b[38;5;241;43m.\u001b[39;49m\u001b[43mparams\u001b[49m\u001b[43m)\u001b[49m\n\u001b[0;32m    116\u001b[0m FFD \u001b[38;5;241m=\u001b[39m FeatureFinancialData(\u001b[38;5;28mself\u001b[39m\u001b[38;5;241m.\u001b[39massets[ticker], \u001b[38;5;28mself\u001b[39m\u001b[38;5;241m.\u001b[39mlagList, \u001b[38;5;28mself\u001b[39m\u001b[38;5;241m.\u001b[39mparams)\n\u001b[0;32m    117\u001b[0m FS \u001b[38;5;241m=\u001b[39m FeatureSeasonal(\u001b[38;5;28mself\u001b[39m\u001b[38;5;241m.\u001b[39massets[ticker], \u001b[38;5;28mself\u001b[39m\u001b[38;5;241m.\u001b[39mstartBDate, \u001b[38;5;28mself\u001b[39m\u001b[38;5;241m.\u001b[39mendBDate, \u001b[38;5;28mself\u001b[39m\u001b[38;5;241m.\u001b[39mlagList, \u001b[38;5;28mself\u001b[39m\u001b[38;5;241m.\u001b[39mparams)\n",
      "File \u001b[1;32mc:\\Users\\kimer\\Desktop\\RandomOdyssey\\src\\featureAlchemy\\FeatureFourierCoeff.py:60\u001b[0m, in \u001b[0;36mFeatureFourierCoeff.__init__\u001b[1;34m(self, asset, startDate, endDate, lagList, monthHorizonList, params)\u001b[0m\n\u001b[0;32m     58\u001b[0m \u001b[38;5;28mself\u001b[39m\u001b[38;5;241m.\u001b[39mReturnPreMatrix_ampcoeff \u001b[38;5;241m=\u001b[39m np\u001b[38;5;241m.\u001b[39mzeros((\u001b[38;5;28mself\u001b[39m\u001b[38;5;241m.\u001b[39masset\u001b[38;5;241m.\u001b[39madjClosePrice[\u001b[38;5;124m'\u001b[39m\u001b[38;5;124mAdjClose\u001b[39m\u001b[38;5;124m'\u001b[39m]\u001b[38;5;241m.\u001b[39mlen(), (\u001b[38;5;28mself\u001b[39m\u001b[38;5;241m.\u001b[39mfouriercutoff\u001b[38;5;241m-\u001b[39m\u001b[38;5;241m1\u001b[39m), n_mhl))\n\u001b[0;32m     59\u001b[0m \u001b[38;5;28mself\u001b[39m\u001b[38;5;241m.\u001b[39mReturnPreMatrix_signcoeff \u001b[38;5;241m=\u001b[39m np\u001b[38;5;241m.\u001b[39mzeros((\u001b[38;5;28mself\u001b[39m\u001b[38;5;241m.\u001b[39masset\u001b[38;5;241m.\u001b[39madjClosePrice[\u001b[38;5;124m'\u001b[39m\u001b[38;5;124mAdjClose\u001b[39m\u001b[38;5;124m'\u001b[39m]\u001b[38;5;241m.\u001b[39mlen(), (\u001b[38;5;28mself\u001b[39m\u001b[38;5;241m.\u001b[39mfouriercutoff\u001b[38;5;241m-\u001b[39m\u001b[38;5;241m1\u001b[39m), n_mhl))\n\u001b[1;32m---> 60\u001b[0m \u001b[38;5;28;43mself\u001b[39;49m\u001b[38;5;241;43m.\u001b[39;49m\u001b[43m__preprocess_fourierConst\u001b[49m\u001b[43m(\u001b[49m\u001b[43m)\u001b[49m\n",
      "File \u001b[1;32mc:\\Users\\kimer\\Desktop\\RandomOdyssey\\src\\featureAlchemy\\FeatureFourierCoeff.py:76\u001b[0m, in \u001b[0;36mFeatureFourierCoeff.__preprocess_fourierConst\u001b[1;34m(self)\u001b[0m\n\u001b[0;32m     73\u001b[0m returns_log \u001b[38;5;241m=\u001b[39m np\u001b[38;5;241m.\u001b[39mlog((np\u001b[38;5;241m.\u001b[39mclip(returns, \u001b[38;5;241m1e-5\u001b[39m, \u001b[38;5;241m1e5\u001b[39m)))\n\u001b[0;32m     75\u001b[0m \u001b[38;5;66;03m#Prices\u001b[39;00m\n\u001b[1;32m---> 76\u001b[0m _, res_cos, res_sin \u001b[38;5;241m=\u001b[39m \u001b[43mSeriesExpansion\u001b[49m\u001b[38;5;241;43m.\u001b[39;49m\u001b[43mgetFourierInterpCoeff\u001b[49m\u001b[43m(\u001b[49m\u001b[43mprices\u001b[49m\u001b[43m,\u001b[49m\u001b[43m \u001b[49m\u001b[38;5;28;43mself\u001b[39;49m\u001b[38;5;241;43m.\u001b[39;49m\u001b[43mmultFactor\u001b[49m\u001b[43m,\u001b[49m\u001b[43m \u001b[49m\u001b[38;5;28;43mself\u001b[39;49m\u001b[38;5;241;43m.\u001b[39;49m\u001b[43mfouriercutoff\u001b[49m\u001b[43m)\u001b[49m\n\u001b[0;32m     77\u001b[0m _, rsme \u001b[38;5;241m=\u001b[39m SeriesExpansion\u001b[38;5;241m.\u001b[39mgetFourierInterpFunct(res_cos, res_sin, prices)\n\u001b[0;32m     79\u001b[0m res_cos \u001b[38;5;241m=\u001b[39m np\u001b[38;5;241m.\u001b[39marray(res_cos)\n",
      "File \u001b[1;32mc:\\Users\\kimer\\Desktop\\RandomOdyssey\\src\\mathTools\\SeriesExpansion.py:102\u001b[0m, in \u001b[0;36mSeriesExpansion.getFourierInterpCoeff\u001b[1;34m(arr, multFactor, fouriercutoff)\u001b[0m\n\u001b[0;32m    100\u001b[0m fourierInputSpline \u001b[38;5;241m=\u001b[39m cs(np\u001b[38;5;241m.\u001b[39mlinspace(\u001b[38;5;241m0\u001b[39m, \u001b[38;5;28mlen\u001b[39m(fourierInput)\u001b[38;5;241m-\u001b[39m\u001b[38;5;241m1\u001b[39m, \u001b[38;5;241m1\u001b[39m \u001b[38;5;241m+\u001b[39m (\u001b[38;5;28mlen\u001b[39m(fourierInput) \u001b[38;5;241m-\u001b[39m \u001b[38;5;241m1\u001b[39m) \u001b[38;5;241m*\u001b[39m multFactor))\n\u001b[0;32m    101\u001b[0m fourierInputSmooth \u001b[38;5;241m=\u001b[39m gaussian_filter1d(fourierInputSpline, sigma\u001b[38;5;241m=\u001b[39mnp\u001b[38;5;241m.\u001b[39mmax([multFactor\u001b[38;5;241m/\u001b[39m\u001b[38;5;241m/\u001b[39m\u001b[38;5;241m4\u001b[39m,\u001b[38;5;241m1\u001b[39m]), mode \u001b[38;5;241m=\u001b[39m \u001b[38;5;124m\"\u001b[39m\u001b[38;5;124mwrap\u001b[39m\u001b[38;5;124m\"\u001b[39m)\n\u001b[1;32m--> 102\u001b[0m res_cos, res_sin \u001b[38;5;241m=\u001b[39m \u001b[43mSeriesExpansion\u001b[49m\u001b[38;5;241;43m.\u001b[39;49m\u001b[43mgetFourierConst\u001b[49m\u001b[43m(\u001b[49m\u001b[43mfourierInputSmooth\u001b[49m\u001b[43m)\u001b[49m\n\u001b[0;32m    103\u001b[0m res_cos\u001b[38;5;241m=\u001b[39mres_cos\u001b[38;5;241m.\u001b[39mT\u001b[38;5;241m.\u001b[39mreal\u001b[38;5;241m.\u001b[39mflatten()\u001b[38;5;241m.\u001b[39mtolist()\n\u001b[0;32m    104\u001b[0m res_sin\u001b[38;5;241m=\u001b[39mres_sin\u001b[38;5;241m.\u001b[39mT\u001b[38;5;241m.\u001b[39mreal\u001b[38;5;241m.\u001b[39mflatten()\u001b[38;5;241m.\u001b[39mtolist()\n",
      "File \u001b[1;32mc:\\Users\\kimer\\Desktop\\RandomOdyssey\\src\\mathTools\\SeriesExpansion.py:63\u001b[0m, in \u001b[0;36mSeriesExpansion.getFourierConst\u001b[1;34m(ft)\u001b[0m\n\u001b[0;32m     60\u001b[0m ai \u001b[38;5;241m=\u001b[39m (iFfft \u001b[38;5;241m+\u001b[39m cjiFfft) \u001b[38;5;241m*\u001b[39m signmat \u001b[38;5;241m/\u001b[39m (N \u001b[38;5;241m*\u001b[39m \u001b[38;5;241m2\u001b[39m)\n\u001b[0;32m     61\u001b[0m bi \u001b[38;5;241m=\u001b[39m (iFfft \u001b[38;5;241m-\u001b[39m cjiFfft) \u001b[38;5;241m*\u001b[39m signmat \u001b[38;5;241m*\u001b[39m (\u001b[38;5;241m1\u001b[39mj) \u001b[38;5;241m/\u001b[39m (N \u001b[38;5;241m*\u001b[39m \u001b[38;5;241m2\u001b[39m)\n\u001b[1;32m---> 63\u001b[0m CosConst \u001b[38;5;241m=\u001b[39m (np\u001b[38;5;241m.\u001b[39mhstack([ar[:, :\u001b[38;5;241m1\u001b[39m], ar[:, \u001b[38;5;241m1\u001b[39m:N\u001b[38;5;241m/\u001b[39m\u001b[38;5;241m/\u001b[39m\u001b[38;5;241m2\u001b[39m] \u001b[38;5;241m+\u001b[39m (\u001b[38;5;241m-\u001b[39m\u001b[38;5;241m1\u001b[39m) \u001b[38;5;241m*\u001b[39m\u001b[38;5;241m*\u001b[39m (N\u001b[38;5;241m%\u001b[39m\u001b[38;5;241m2\u001b[39m)\u001b[38;5;241m*\u001b[39m\u001b[43mnp\u001b[49m\u001b[38;5;241;43m.\u001b[39;49m\u001b[43mfliplr\u001b[49m\u001b[43m(\u001b[49m\u001b[43mar\u001b[49m\u001b[43m[\u001b[49m\u001b[43m:\u001b[49m\u001b[43m,\u001b[49m\u001b[43m \u001b[49m\u001b[43mN\u001b[49m\u001b[38;5;241;43m/\u001b[39;49m\u001b[38;5;241;43m/\u001b[39;49m\u001b[38;5;241;43m2\u001b[39;49m\u001b[38;5;241;43m+\u001b[39;49m\u001b[43mN\u001b[49m\u001b[38;5;241;43m%\u001b[39;49m\u001b[38;5;241;43m2\u001b[39;49m\u001b[38;5;241;43m+\u001b[39;49m\u001b[38;5;241;43m1\u001b[39;49m\u001b[43m:\u001b[49m\u001b[43m]\u001b[49m\u001b[43m)\u001b[49m]) \u001b[38;5;241m+\u001b[39m\n\u001b[0;32m     64\u001b[0m             \u001b[38;5;241m1\u001b[39mj \u001b[38;5;241m*\u001b[39m np\u001b[38;5;241m.\u001b[39mhstack([ai[:, :\u001b[38;5;241m1\u001b[39m], ai[:, \u001b[38;5;241m1\u001b[39m:N\u001b[38;5;241m/\u001b[39m\u001b[38;5;241m/\u001b[39m\u001b[38;5;241m2\u001b[39m] \u001b[38;5;241m+\u001b[39m (\u001b[38;5;241m-\u001b[39m\u001b[38;5;241m1\u001b[39m) \u001b[38;5;241m*\u001b[39m\u001b[38;5;241m*\u001b[39m (N\u001b[38;5;241m%\u001b[39m\u001b[38;5;241m2\u001b[39m)\u001b[38;5;241m*\u001b[39mnp\u001b[38;5;241m.\u001b[39mfliplr(ai[:, N\u001b[38;5;241m/\u001b[39m\u001b[38;5;241m/\u001b[39m\u001b[38;5;241m2\u001b[39m\u001b[38;5;241m+\u001b[39mN\u001b[38;5;241m%\u001b[39m\u001b[38;5;241m2\u001b[39m\u001b[38;5;241m+\u001b[39m\u001b[38;5;241m1\u001b[39m:])]))\n\u001b[0;32m     66\u001b[0m SinConst \u001b[38;5;241m=\u001b[39m (np\u001b[38;5;241m.\u001b[39mhstack([br[:, :\u001b[38;5;241m1\u001b[39m], br[:, \u001b[38;5;241m1\u001b[39m:N\u001b[38;5;241m/\u001b[39m\u001b[38;5;241m/\u001b[39m\u001b[38;5;241m2\u001b[39m] \u001b[38;5;241m-\u001b[39m (\u001b[38;5;241m-\u001b[39m\u001b[38;5;241m1\u001b[39m) \u001b[38;5;241m*\u001b[39m\u001b[38;5;241m*\u001b[39m (N\u001b[38;5;241m%\u001b[39m\u001b[38;5;241m2\u001b[39m)\u001b[38;5;241m*\u001b[39mnp\u001b[38;5;241m.\u001b[39mfliplr(br[:, N\u001b[38;5;241m/\u001b[39m\u001b[38;5;241m/\u001b[39m\u001b[38;5;241m2\u001b[39m\u001b[38;5;241m+\u001b[39mN\u001b[38;5;241m%\u001b[39m\u001b[38;5;241m2\u001b[39m\u001b[38;5;241m+\u001b[39m\u001b[38;5;241m1\u001b[39m:])]) \u001b[38;5;241m+\u001b[39m\n\u001b[0;32m     67\u001b[0m             \u001b[38;5;241m1\u001b[39mj \u001b[38;5;241m*\u001b[39m np\u001b[38;5;241m.\u001b[39mhstack([bi[:, :\u001b[38;5;241m1\u001b[39m], bi[:, \u001b[38;5;241m1\u001b[39m:N\u001b[38;5;241m/\u001b[39m\u001b[38;5;241m/\u001b[39m\u001b[38;5;241m2\u001b[39m] \u001b[38;5;241m-\u001b[39m (\u001b[38;5;241m-\u001b[39m\u001b[38;5;241m1\u001b[39m) \u001b[38;5;241m*\u001b[39m\u001b[38;5;241m*\u001b[39m (N\u001b[38;5;241m%\u001b[39m\u001b[38;5;241m2\u001b[39m)\u001b[38;5;241m*\u001b[39mnp\u001b[38;5;241m.\u001b[39mfliplr(bi[:, N\u001b[38;5;241m/\u001b[39m\u001b[38;5;241m/\u001b[39m\u001b[38;5;241m2\u001b[39m\u001b[38;5;241m+\u001b[39mN\u001b[38;5;241m%\u001b[39m\u001b[38;5;241m2\u001b[39m\u001b[38;5;241m+\u001b[39m\u001b[38;5;241m1\u001b[39m:])]))\n\u001b[0;32m     69\u001b[0m \u001b[38;5;28;01mreturn\u001b[39;00m CosConst, SinConst\n",
      "File \u001b[1;32mc:\\Users\\kimer\\Desktop\\RandomOdyssey\\.venv\\Lib\\site-packages\\numpy\\lib\\_twodim_base_impl.py:45\u001b[0m, in \u001b[0;36m_flip_dispatcher\u001b[1;34m(m)\u001b[0m\n\u001b[0;32m     41\u001b[0m         \u001b[38;5;28;01mreturn\u001b[39;00m int32\n\u001b[0;32m     42\u001b[0m     \u001b[38;5;28;01mreturn\u001b[39;00m int64\n\u001b[1;32m---> 45\u001b[0m \u001b[38;5;28;01mdef\u001b[39;00m \u001b[38;5;21m_flip_dispatcher\u001b[39m(m):\n\u001b[0;32m     46\u001b[0m     \u001b[38;5;28;01mreturn\u001b[39;00m (m,)\n\u001b[0;32m     49\u001b[0m \u001b[38;5;129m@array_function_dispatch\u001b[39m(_flip_dispatcher)\n\u001b[0;32m     50\u001b[0m \u001b[38;5;28;01mdef\u001b[39;00m \u001b[38;5;21mfliplr\u001b[39m(m):\n",
      "\u001b[1;31mKeyboardInterrupt\u001b[0m: "
     ]
    }
   ],
   "source": [
    "meta_tree, treeFeatures_np, treeFeaturesNames = ffM.getTreeFeatures()\n",
    "print(treeFeatures_np.shape[1] == len(treeFeaturesNames))\n",
    "print(meta_tree.shape[1] == 3)\n",
    "print(meta_tree.shape[0] == treeFeatures_np.shape[0])"
   ]
  },
  {
   "cell_type": "code",
   "execution_count": null,
   "metadata": {},
   "outputs": [],
   "source": [
    "# Make business days\n",
    "asset_start_idx = DPl(asset.shareprice).getNextLowerOrEqualIndex(startDate)+1\n",
    "asset_end_idx = DPl(asset.shareprice).getNextLowerOrEqualIndex(endDate)\n",
    "business_days = asset.shareprice[\"Date\"].slice(asset_start_idx, asset_end_idx - asset_start_idx + 1).to_numpy()  \n",
    "business_days = np.array([pd.Timestamp(x, tz =\"UTC\") for x in business_days])"
   ]
  },
  {
   "cell_type": "markdown",
   "metadata": {},
   "source": [
    "## Checks on the dataframe"
   ]
  },
  {
   "cell_type": "code",
   "execution_count": null,
   "metadata": {},
   "outputs": [
    {
     "name": "stdout",
     "output_type": "stream",
     "text": [
      "0.0001388998592601103\n"
     ]
    }
   ],
   "source": [
    "fTA = FeatureTA(asset, startDate, endDate, [1, 10, 100], params=params)\n",
    "featureTANames = fTA.getFeatureNames()\n",
    "featuresTA = np.zeros((len(business_days), len(featureTANames)), dtype = np.float32)\n",
    "for i, date in enumerate(business_days):\n",
    "    featuresTA[i] = fTA.apply(date, 1.0, None)\n",
    "\n",
    "ticker_df = featuresTA\n",
    "\n",
    "common_cols = [a in featureTANames for a in treeFeaturesNames] \n",
    "ticker_filtermask = meta_tree[:,1] == ticker\n",
    "filtered_featurenp = treeFeatures_np[:, common_cols]\n",
    "filtered_featurenp = filtered_featurenp[ticker_filtermask, :]\n",
    "\n",
    "A = filtered_featurenp\n",
    "B = ticker_df\n",
    "print(np.max(np.abs(A-B))/np.prod(A.shape))"
   ]
  },
  {
   "cell_type": "code",
   "execution_count": null,
   "metadata": {},
   "outputs": [
    {
     "name": "stdout",
     "output_type": "stream",
     "text": [
      "8.803775528307594e-07\n"
     ]
    }
   ],
   "source": [
    "fGD = FeatureGroupDynamic(assetspl, startDate, endDate, lagList=[1, 10, 100], monthHorizonList=[1,2,6,12], params=params)\n",
    "featureGDNames = fGD.getFeatureNames()\n",
    "featuresGD = np.zeros((len(business_days), len(featureGDNames)), dtype = np.float32)\n",
    "FGD_tick_date = {date: fGD.apply(date, None) for date in (business_days)}\n",
    "for i, date in enumerate(business_days):\n",
    "    featuresGD[i] = FGD_tick_date[date][ticker]\n",
    "    \n",
    "ticker_df = featuresGD\n",
    "    \n",
    "common_cols = [a in featureGDNames for a in treeFeaturesNames] \n",
    "ticker_filtermask = meta_tree[:,1] == ticker\n",
    "filtered_featuredf = treeFeatures_np[:, common_cols]\n",
    "filtered_featuredf = filtered_featuredf[ticker_filtermask, :]\n",
    "\n",
    "A = filtered_featuredf\n",
    "B = ticker_df\n",
    "print(np.max(np.abs(A-B))/np.prod(A.shape))"
   ]
  },
  {
   "cell_type": "markdown",
   "metadata": {},
   "source": [
    "## Checks in the time dataframe"
   ]
  },
  {
   "cell_type": "code",
   "execution_count": null,
   "metadata": {},
   "outputs": [
    {
     "name": "stderr",
     "output_type": "stream",
     "text": [
      "  Processing ticker AAPL (1/34)\n",
      "  Processing ticker ADBE (2/34)\n",
      "  Processing ticker ADI (3/34)\n",
      "  Processing ticker ADP (4/34)\n",
      "  Processing ticker ALGN (5/34)\n",
      "  Processing ticker AMD (6/34)\n",
      "  Processing ticker AMGN (7/34)\n",
      "  Processing ticker AMZN (8/34)\n",
      "  Processing ticker ANSS (9/34)\n",
      "  Processing ticker BKNG (10/34)\n",
      "  Processing ticker CDNS (11/34)\n",
      "  Processing ticker CSCO (12/34)\n",
      "  Processing ticker CSX (13/34)\n",
      "  Processing ticker CTSH (14/34)\n",
      "  Processing ticker EA (15/34)\n",
      "  Processing ticker EXC (16/34)\n",
      "  Processing ticker GILD (17/34)\n",
      "  Processing ticker IDXX (18/34)\n",
      "  Processing ticker INTC (19/34)\n",
      "  Processing ticker INTU (20/34)\n",
      "  Processing ticker ISRG (21/34)\n",
      "  Processing ticker KLAC (22/34)\n",
      "  Processing ticker MAR (23/34)\n",
      "  Processing ticker MDLZ (24/34)\n",
      "  Processing ticker MSFT (25/34)\n",
      "  Processing ticker MU (26/34)\n",
      "  Processing ticker NFLX (27/34)\n",
      "  Processing ticker NVDA (28/34)\n",
      "  Processing ticker QCOM (29/34)\n",
      "  Processing ticker REGN (30/34)\n",
      "  Processing ticker ROST (31/34)\n",
      "  Processing ticker SBUX (32/34)\n",
      "  Processing ticker SNPS (33/34)\n",
      "  Processing ticker TXN (34/34)\n"
     ]
    }
   ],
   "source": [
    "meta_time, timeFeatures_np, timeFeaturesNames = ffM.getTimeFeatures()"
   ]
  },
  {
   "cell_type": "code",
   "execution_count": null,
   "metadata": {},
   "outputs": [
    {
     "name": "stdout",
     "output_type": "stream",
     "text": [
      "True\n",
      "True\n",
      "True\n",
      "True\n"
     ]
    }
   ],
   "source": [
    "print(timeFeatures_np.shape[2] == len(timeFeaturesNames))\n",
    "print(timeFeatures_np.shape[1] == params[\"timesteps\"])\n",
    "print(meta_time.shape[1] == 3)\n",
    "print(meta_time.shape[0] == timeFeatures_np.shape[0])"
   ]
  },
  {
   "cell_type": "code",
   "execution_count": null,
   "metadata": {},
   "outputs": [
    {
     "name": "stdout",
     "output_type": "stream",
     "text": [
      "4.6575295899301315e-08\n"
     ]
    }
   ],
   "source": [
    "fTA = FeatureTA(asset, startDate, endDate, [1, 10, 100], params=params)\n",
    "featureTANames = fTA.getTimeFeatureNames()\n",
    "featuresTA = np.zeros((len(business_days), params['timesteps'], len(featureTANames)), dtype = np.float32)\n",
    "for i, date in enumerate(business_days):\n",
    "    featuresTA[i,:,:] = fTA.apply_timeseries(date, None)\n",
    "\n",
    "ticker_np = featuresTA\n",
    "\n",
    "common_cols = [a in featureTANames for a in timeFeaturesNames] \n",
    "ticker_filtermask = meta_time[:,1] == ticker\n",
    "filtered_featuredf = timeFeatures_np[:, :, common_cols]\n",
    "filtered_featuredf = filtered_featuredf[ticker_filtermask, :, :]\n",
    "\n",
    "A = filtered_featuredf\n",
    "B = ticker_np\n",
    "print(np.max(np.abs(A-B))/np.prod(A.shape))"
   ]
  },
  {
   "cell_type": "code",
   "execution_count": null,
   "metadata": {},
   "outputs": [
    {
     "name": "stdout",
     "output_type": "stream",
     "text": [
      "0.0\n"
     ]
    }
   ],
   "source": [
    "fGD = FeatureGroupDynamic(assetspl, startDate, endDate, lagList=[1, 10, 100], monthHorizonList=[1,2,6,12], params=params)\n",
    "featureGDNames = fGD.getTimeFeatureNames()\n",
    "featuresGD = np.zeros((len(business_days), params['timesteps'], len(featureGDNames)), dtype = np.float32)\n",
    "FGD_tick_date = {date: fGD.apply_timeseries(date, None) for date in (business_days)}\n",
    "for i, date in enumerate(business_days):\n",
    "    featuresGD[i] = FGD_tick_date[date][ticker]\n",
    "    \n",
    "ticker_np = featuresGD\n",
    "\n",
    "common_cols = [a in featureGDNames for a in timeFeaturesNames] \n",
    "ticker_filtermask = meta_time[:,1] == ticker\n",
    "filtered_featuredf = timeFeatures_np[:, :, common_cols]\n",
    "filtered_featuredf = filtered_featuredf[ticker_filtermask, :, :]\n",
    "\n",
    "A = filtered_featuredf\n",
    "B = ticker_np\n",
    "print(np.max(np.abs(A-B))/np.prod(A.shape))"
   ]
  }
 ],
 "metadata": {
  "kernelspec": {
   "display_name": ".venv",
   "language": "python",
   "name": "python3"
  },
  "language_info": {
   "codemirror_mode": {
    "name": "ipython",
    "version": 3
   },
   "file_extension": ".py",
   "mimetype": "text/x-python",
   "name": "python",
   "nbconvert_exporter": "python",
   "pygments_lexer": "ipython3",
   "version": "3.12.10"
  }
 },
 "nbformat": 4,
 "nbformat_minor": 2
}
