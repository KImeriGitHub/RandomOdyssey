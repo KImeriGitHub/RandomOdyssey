{
 "cells": [
  {
   "cell_type": "code",
   "execution_count": 27,
   "metadata": {},
   "outputs": [],
   "source": [
    "import sys\n",
    "import os\n",
    "\n",
    "# Get the absolute path to the project directory\n",
    "project_dir = os.path.abspath(\"..\")\n",
    "\n",
    "# Append the project directory to sys.path\n",
    "if project_dir not in sys.path:\n",
    "    sys.path.append(project_dir)"
   ]
  },
  {
   "cell_type": "code",
   "execution_count": 28,
   "metadata": {},
   "outputs": [],
   "source": [
    "import sys\n",
    "import os\n",
    "\n",
    "# Get the absolute path to the project directory\n",
    "project_dir = os.path.abspath(\"..\")\n",
    "\n",
    "# Append the project directory to sys.path\n",
    "if project_dir not in sys.path:\n",
    "    sys.path.append(project_dir)\n",
    "\n",
    "import yfinance as yf\n",
    "import pandas as pd\n",
    "import datetime as dt\n",
    "import matplotlib.pyplot as plt\n",
    "import os\n",
    "import numpy as np\n",
    "from typing import Dict\n",
    "import polars as pl\n",
    "\n",
    "from src.common.AssetData import AssetData\n",
    "from src.common.AssetDataPolars import AssetDataPolars\n",
    "from src.common.AssetDataService import AssetDataService\n",
    "from src.common.AssetFileInOut import AssetFileInOut \n",
    "\n",
    "from src.featureAlchemy.MainFeature import MainFeature\n",
    "from src.featureAlchemy.FeatureTA import FeatureTA\n",
    "from src.featureAlchemy.FeatureGroupDynamic import FeatureGroupDynamic\n",
    "from src.common.DataFrameTimeOperations import DataFrameTimeOperations as DOps\n",
    "\n",
    "from src.featureAlchemy.FeatureFourierCoeff import FeatureFourierCoeff\n",
    "from src.featureAlchemy.FeatureCategory import FeatureCategory\n",
    "from src.featureAlchemy.FeatureFinancialData import FeatureFinancialData\n",
    "from src.featureAlchemy.FeatureMathematical import FeatureMathematical\n",
    "from src.featureAlchemy.FeatureSeasonal import FeatureSeasonal\n",
    "from src.featureAlchemy.FeatureTA import FeatureTA\n",
    "from src.featureAlchemy.FeatureGroupDynamic import FeatureGroupDynamic\n",
    "\n",
    "from src.featureAlchemy.FeatureFourierCoeffTS import FeatureFourierCoeffTS\n",
    "from src.featureAlchemy.FeatureCategory import FeatureCategory\n",
    "from src.featureAlchemy.FeatureFinancialDataTS import FeatureFinancialDataTS\n",
    "from src.featureAlchemy.FeatureMathematicalTS import FeatureMathematicalTS\n",
    "from src.featureAlchemy.FeatureSeasonalTS import FeatureSeasonalTS\n",
    "from src.featureAlchemy.FeatureTATS import FeatureTATS\n",
    "from src.featureAlchemy.FeatureGroupDynamicTS import FeatureGroupDynamicTS\n",
    "\n",
    "from src.featureAlchemy.FeatureLSTM import FeatureLSTM\n",
    "\n",
    "feature_classes = [ \n",
    "    FeatureCategory, \n",
    "    FeatureFinancialData,\n",
    "    FeatureMathematical, \n",
    "    FeatureSeasonal, \n",
    "    FeatureTA, \n",
    "    FeatureGroupDynamic,\n",
    "    #FeatureFourierCoeff\n",
    "]"
   ]
  },
  {
   "cell_type": "code",
   "execution_count": 16,
   "metadata": {},
   "outputs": [],
   "source": [
    "assets=AssetFileInOut(\"../src/stockGroups/bin\").loadDictFromFile(\"group_debug\")\n",
    "\n",
    "# Convert to Polars for speedup\n",
    "assetspl: Dict[str, AssetDataPolars] = {}\n",
    "for ticker, asset in assets.items():\n",
    "    assetspl[ticker] = AssetDataService.to_polars(asset)"
   ]
  },
  {
   "cell_type": "code",
   "execution_count": 17,
   "metadata": {},
   "outputs": [],
   "source": [
    "ticker = \"NVDA\"\n",
    "asset = assetspl[ticker]\n",
    "startDate = pd.Timestamp(2020, 1, 1, tz = \"UTC\").date()\n",
    "endDate = pd.Timestamp(2020, 12, 31, tz = \"UTC\").date()\n",
    "params = {\n",
    "        'idxLengthOneMonth': 21,\n",
    "        'fouriercutoff': 5,\n",
    "        'multFactor': 8,\n",
    "        'timesteps': 20,\n",
    "        'lagList': [1, 10, 100],\n",
    "        'monthHorizonList': [1,2,6,12],\n",
    "    }\n",
    "ffM = MainFeature(\n",
    "    assetspl,\n",
    "    feature_classes = feature_classes,\n",
    "    startDate = startDate, \n",
    "    endDate = endDate, \n",
    "    params = params\n",
    ")"
   ]
  },
  {
   "cell_type": "code",
   "execution_count": 18,
   "metadata": {},
   "outputs": [],
   "source": [
    "meta_tree, treeFeatures_np, treeFeaturesNames = ffM.get_features()"
   ]
  },
  {
   "cell_type": "code",
   "execution_count": 19,
   "metadata": {},
   "outputs": [
    {
     "name": "stdout",
     "output_type": "stream",
     "text": [
      "True\n",
      "True\n",
      "True\n",
      "Number of missing (NaN) entries: 0\n",
      "Total elements in arr: 4883150\n",
      "Number of missing (NaN) entries: 0\n",
      "Number of non-finite entries (NaN or ±Inf): 0\n",
      "Ended printing features with NaN\n",
      "Ended printing features with Inf\n",
      "True\n"
     ]
    }
   ],
   "source": [
    "print(treeFeatures_np.shape[1] == len(treeFeaturesNames))\n",
    "print(len(meta_tree.dtype.names) == 5)\n",
    "print(meta_tree.shape[0] == treeFeatures_np.shape[0])\n",
    "\n",
    "num_nans = np.count_nonzero(np.isnan(meta_tree[\"date\"]))\n",
    "print(f\"Number of missing (NaN) entries: {num_nans}\")\n",
    "\n",
    "total_elements = treeFeatures_np.size\n",
    "print(f\"Total elements in arr: {total_elements}\")\n",
    "\n",
    "num_nans = np.count_nonzero(np.isnan(treeFeatures_np))\n",
    "print(f\"Number of missing (NaN) entries: {num_nans}\")\n",
    "\n",
    "num_invalid = np.count_nonzero(~np.isfinite(treeFeatures_np))\n",
    "print(f\"Number of non-finite entries (NaN or ±Inf): {num_invalid}\")\n",
    "\n",
    "nan_pos = np.argwhere(np.isnan(treeFeatures_np))\n",
    "inf_pos = np.argwhere(~np.isfinite(treeFeatures_np))\n",
    "\n",
    "samples_with_nan = np.unique(nan_pos[:, 0])\n",
    "features_with_nan = np.unique(nan_pos[:, 1])\n",
    "feature_with_inf = np.unique(inf_pos[:, 1])\n",
    "\n",
    "for i in features_with_nan:\n",
    "    print(treeFeaturesNames[i])\n",
    "print(\"Ended printing features with NaN\")\n",
    "\n",
    "for i in feature_with_inf:\n",
    "    print(treeFeaturesNames[i])\n",
    "print(\"Ended printing features with Inf\")\n",
    "\n",
    "dates = meta_tree[\"date\"]\n",
    "print(np.all(dates[:-1] <= dates[1:]))\n",
    "\n"
   ]
  },
  {
   "cell_type": "markdown",
   "metadata": {},
   "source": [
    "## Checks on the dataframe"
   ]
  },
  {
   "cell_type": "code",
   "execution_count": 20,
   "metadata": {},
   "outputs": [
    {
     "name": "stdout",
     "output_type": "stream",
     "text": [
      "0.0\n"
     ]
    }
   ],
   "source": [
    "ticker_filtermask = (meta_tree[\"ticker\"] == ticker)\n",
    "dates_filtermask = (meta_tree[\"date\"] >= startDate) & (meta_tree[\"date\"] <= endDate)\n",
    "dates = meta_tree[\"date\"][dates_filtermask]\n",
    "\n",
    "fTA = FeatureTA(asset, startDate, endDate, params=params)\n",
    "featureTANames = fTA.getFeatureNames()\n",
    "featuresTA = fTA.apply(np.unique(dates))\n",
    "\n",
    "common_cols = [a in featureTANames for a in treeFeaturesNames] \n",
    "filtered_featurenp = treeFeatures_np[:, common_cols][ticker_filtermask & dates_filtermask]\n",
    "\n",
    "A = filtered_featurenp\n",
    "B = featuresTA\n",
    "print(np.max(np.abs(A-B))/np.prod(A.shape))"
   ]
  },
  {
   "cell_type": "code",
   "execution_count": 21,
   "metadata": {},
   "outputs": [
    {
     "name": "stdout",
     "output_type": "stream",
     "text": [
      "0.0\n"
     ]
    }
   ],
   "source": [
    "fGD = FeatureGroupDynamic(assetspl, startDate, endDate, params=params)\n",
    "featureGDNames = fGD.getFeatureNames()\n",
    "featuresGD = fGD.apply(np.unique(dates))[ticker]\n",
    "\n",
    "common_cols = [a in featureGDNames for a in treeFeaturesNames] \n",
    "filtered_featurenp = treeFeatures_np[:, common_cols][ticker_filtermask & dates_filtermask]\n",
    "\n",
    "A = filtered_featurenp\n",
    "B = featuresGD\n",
    "print(np.max(np.abs(A-B))/np.prod(A.shape))"
   ]
  },
  {
   "cell_type": "markdown",
   "metadata": {},
   "source": [
    "## Timeseries Classes"
   ]
  },
  {
   "cell_type": "code",
   "execution_count": 22,
   "metadata": {},
   "outputs": [],
   "source": [
    "feature_classes_TS = [ \n",
    "    FeatureFinancialDataTS,\n",
    "    FeatureMathematicalTS, \n",
    "    FeatureSeasonalTS, \n",
    "    FeatureTATS, \n",
    "    FeatureGroupDynamicTS,\n",
    "    #FeatureFourierCoeffTS,\n",
    "    FeatureLSTM,\n",
    "]\n",
    "ffMTS = MainFeature(\n",
    "    assetspl,\n",
    "    feature_classes = feature_classes_TS,\n",
    "    startDate = startDate, \n",
    "    endDate = endDate, \n",
    "    params = params\n",
    ")"
   ]
  },
  {
   "cell_type": "code",
   "execution_count": 23,
   "metadata": {},
   "outputs": [],
   "source": [
    "meta_time, timeFeatures_np, timeFeaturesNames = ffMTS.get_features()"
   ]
  },
  {
   "cell_type": "code",
   "execution_count": 24,
   "metadata": {},
   "outputs": [
    {
     "name": "stdout",
     "output_type": "stream",
     "text": [
      "True\n",
      "True\n",
      "True\n",
      "Number of missing (NaN) entries: 0\n",
      "Total elements in arr: 6858000\n",
      "Number of missing (NaN) entries: 0\n",
      "Number of non-finite entries (NaN or ±Inf): 0\n",
      "Ended printing features with NaN\n",
      "Ended printing features with Inf\n",
      "True\n"
     ]
    }
   ],
   "source": [
    "print(timeFeatures_np.shape[2] == len(timeFeaturesNames))\n",
    "print(len(meta_time.dtype.names) == 5)\n",
    "print(meta_time.shape[0] == timeFeatures_np.shape[0])\n",
    "\n",
    "num_nans = np.count_nonzero(np.isnan(meta_time[\"date\"]))\n",
    "print(f\"Number of missing (NaN) entries: {num_nans}\")\n",
    "\n",
    "total_elements = timeFeatures_np.size\n",
    "print(f\"Total elements in arr: {total_elements}\")\n",
    "\n",
    "num_nans = np.count_nonzero(np.isnan(timeFeatures_np))\n",
    "print(f\"Number of missing (NaN) entries: {num_nans}\")\n",
    "\n",
    "num_invalid = np.count_nonzero(~np.isfinite(timeFeatures_np))\n",
    "print(f\"Number of non-finite entries (NaN or ±Inf): {num_invalid}\")\n",
    "\n",
    "nan_pos = np.argwhere(np.isnan(timeFeatures_np))\n",
    "inf_pos = np.argwhere(~np.isfinite(timeFeatures_np))\n",
    "\n",
    "samples_with_nan = np.unique(nan_pos[:, 0])\n",
    "features_with_nan = np.unique(nan_pos[:, 1])\n",
    "feature_with_inf = np.unique(inf_pos[:, 1])\n",
    "\n",
    "for i in features_with_nan:\n",
    "    print(timeFeaturesNames[i])\n",
    "print(\"Ended printing features with NaN\")\n",
    "\n",
    "for i in feature_with_inf:\n",
    "    print(timeFeaturesNames[i])\n",
    "print(\"Ended printing features with Inf\")\n",
    "\n",
    "dates = meta_time[\"date\"]\n",
    "print(np.all(dates[:-1] <= dates[1:]))"
   ]
  },
  {
   "cell_type": "code",
   "execution_count": 25,
   "metadata": {},
   "outputs": [
    {
     "name": "stdout",
     "output_type": "stream",
     "text": [
      "0.0\n"
     ]
    }
   ],
   "source": [
    "ticker_filtermask = (meta_time[\"ticker\"] == ticker)\n",
    "dates_filtermask = (meta_time[\"date\"] >= startDate) & (meta_time[\"date\"] <= endDate)\n",
    "dates = meta_time[\"date\"][dates_filtermask]\n",
    "\n",
    "fTATS = FeatureTATS(asset, startDate, endDate, params=params)\n",
    "featureTATSNames = fTATS.getFeatureNames()\n",
    "featuresTATS = fTATS.apply(np.unique(dates))\n",
    "\n",
    "common_cols = [a in featureTATSNames for a in timeFeaturesNames] \n",
    "filtered_featurenp = timeFeatures_np[:, :, common_cols][ticker_filtermask & dates_filtermask]\n",
    "\n",
    "A = filtered_featurenp\n",
    "B = featuresTATS\n",
    "print(np.max(np.abs(A-B))/np.prod(A.shape))"
   ]
  },
  {
   "cell_type": "code",
   "execution_count": 26,
   "metadata": {},
   "outputs": [
    {
     "name": "stdout",
     "output_type": "stream",
     "text": [
      "0.0\n"
     ]
    }
   ],
   "source": [
    "fGDTS = FeatureGroupDynamicTS(assetspl, startDate, endDate, params=params)\n",
    "featureGDTSNames = fGDTS.getFeatureNames()\n",
    "featuresGDTS = fGDTS.apply(np.unique(dates))[ticker]\n",
    "\n",
    "common_cols = [a in featureGDTSNames for a in timeFeaturesNames] \n",
    "filtered_featurenp = timeFeatures_np[:, :, common_cols][ticker_filtermask & dates_filtermask]\n",
    "\n",
    "A = filtered_featurenp\n",
    "B = featuresGDTS\n",
    "print(np.max(np.abs(A-B))/np.prod(A.shape))"
   ]
  }
 ],
 "metadata": {
  "kernelspec": {
   "display_name": ".venv (3.11.3)",
   "language": "python",
   "name": "python3"
  },
  "language_info": {
   "codemirror_mode": {
    "name": "ipython",
    "version": 3
   },
   "file_extension": ".py",
   "mimetype": "text/x-python",
   "name": "python",
   "nbconvert_exporter": "python",
   "pygments_lexer": "ipython3",
   "version": "3.11.3"
  }
 },
 "nbformat": 4,
 "nbformat_minor": 2
}
