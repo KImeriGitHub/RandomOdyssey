{
 "cells": [
  {
   "cell_type": "code",
   "execution_count": 6,
   "metadata": {},
   "outputs": [],
   "source": [
    "import sys\n",
    "import os\n",
    "\n",
    "# Get the absolute path to the project directory\n",
    "project_dir = os.path.abspath(\"..\")\n",
    "\n",
    "# Append the project directory to sys.path\n",
    "if project_dir not in sys.path:\n",
    "    sys.path.append(project_dir)"
   ]
  },
  {
   "cell_type": "code",
   "execution_count": 7,
   "metadata": {},
   "outputs": [],
   "source": [
    "import sys\n",
    "import os\n",
    "\n",
    "# Get the absolute path to the project directory\n",
    "project_dir = os.path.abspath(\"..\")\n",
    "\n",
    "# Append the project directory to sys.path\n",
    "if project_dir not in sys.path:\n",
    "    sys.path.append(project_dir)\n",
    "\n",
    "import yfinance as yf\n",
    "import pandas as pd\n",
    "import datetime as dt\n",
    "import matplotlib.pyplot as plt\n",
    "import warnings\n",
    "from dataclasses import asdict, is_dataclass, dataclass\n",
    "import os\n",
    "import json\n",
    "import pickle\n",
    "from pandas.api.types import is_datetime64_any_dtype\n",
    "import numpy as np\n",
    "from typing import Dict\n",
    "import polars as pl\n",
    "\n",
    "from src.common.DataFrameTimeOperations import DataFrameTimeOperationsPolars as DPl\n",
    "\n",
    "from src.common.AssetData import AssetData\n",
    "from src.common.AssetDataPolars import AssetDataPolars\n",
    "from src.common.AssetDataService import AssetDataService\n",
    "from src.common.AssetFileInOut import AssetFileInOut \n",
    "from src.featureAlchemy.FeatureTA import FeatureTA\n"
   ]
  },
  {
   "cell_type": "code",
   "execution_count": 8,
   "metadata": {},
   "outputs": [],
   "source": [
    "assets=AssetFileInOut(\"../src/stockGroups/bin\").loadDictFromFile(\"group_debug\")\n",
    "\n",
    "# Convert to Polars for speedup\n",
    "assetspl: Dict[str, AssetDataPolars] = {}\n",
    "for ticker, asset in assets.items():\n",
    "    assetspl[ticker] = AssetDataService.to_polars(asset)"
   ]
  },
  {
   "cell_type": "code",
   "execution_count": 9,
   "metadata": {},
   "outputs": [],
   "source": [
    "asset = assetspl[\"NVDA\"]\n",
    "ffd = FeatureTA(asset, pd.Timestamp(2019, 7, 15, tz = \"UTC\"), pd.Timestamp(2021, 7, 15, tz = \"UTC\"), [1,2,3,5,9])"
   ]
  },
  {
   "cell_type": "code",
   "execution_count": 10,
   "metadata": {},
   "outputs": [
    {
     "name": "stdout",
     "output_type": "stream",
     "text": [
      "1.0445791867132406\n",
      "1.0445791867132408\n",
      "2021-07-15 00:00:00+00:00\n"
     ]
    }
   ],
   "source": [
    "featureNames = ffd.getFeatureNames()\n",
    "date1 = pd.Timestamp(2020, 7, 15, tz = \"UTC\")\n",
    "date2 = pd.Timestamp(2021, 7, 15, tz = \"UTC\")\n",
    "date3 = pd.Timestamp(2019, 7, 16, tz = \"UTC\")\n",
    "date4 = pd.Timestamp(2019, 7, 14, tz = \"UTC\")\n",
    "features1 = ffd.apply(date1, 1)\n",
    "features2 = ffd.apply(date2, 1)\n",
    "features3 = ffd.apply(date3, 1)\n",
    "features4 = ffd.apply(date4, 1)\n",
    "\n",
    "print(features2[0])\n",
    "\n",
    "idx = DPl(asset.shareprice).getNextLowerOrEqualIndex(date2)\n",
    "openprice = asset.shareprice[\"Open\"].item(idx)\n",
    "closeprice = asset.shareprice[\"Close\"].item(idx)\n",
    "\n",
    "print(openprice/closeprice)\n",
    "print(asset.shareprice[\"Date\"].item(idx))"
   ]
  }
 ],
 "metadata": {
  "kernelspec": {
   "display_name": ".venv",
   "language": "python",
   "name": "python3"
  },
  "language_info": {
   "codemirror_mode": {
    "name": "ipython",
    "version": 3
   },
   "file_extension": ".py",
   "mimetype": "text/x-python",
   "name": "python",
   "nbconvert_exporter": "python",
   "pygments_lexer": "ipython3",
   "version": "3.12.8"
  }
 },
 "nbformat": 4,
 "nbformat_minor": 2
}
