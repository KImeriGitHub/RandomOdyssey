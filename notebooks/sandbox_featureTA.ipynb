{
 "cells": [
  {
   "cell_type": "code",
   "execution_count": 1,
   "metadata": {},
   "outputs": [],
   "source": [
    "import sys\n",
    "import os\n",
    "\n",
    "# Get the absolute path to the project directory\n",
    "project_dir = os.path.abspath(\"..\")\n",
    "\n",
    "# Append the project directory to sys.path\n",
    "if project_dir not in sys.path:\n",
    "    sys.path.append(project_dir)"
   ]
  },
  {
   "cell_type": "code",
   "execution_count": 2,
   "metadata": {},
   "outputs": [],
   "source": [
    "import sys\n",
    "import os\n",
    "\n",
    "# Get the absolute path to the project directory\n",
    "project_dir = os.path.abspath(\"..\")\n",
    "\n",
    "# Append the project directory to sys.path\n",
    "if project_dir not in sys.path:\n",
    "    sys.path.append(project_dir)\n",
    "\n",
    "import yfinance as yf\n",
    "import pandas as pd\n",
    "import datetime as dt\n",
    "import matplotlib.pyplot as plt\n",
    "import warnings\n",
    "from dataclasses import asdict, is_dataclass, dataclass\n",
    "import os\n",
    "import json\n",
    "import pickle\n",
    "from pandas.api.types import is_datetime64_any_dtype\n",
    "import numpy as np\n",
    "from typing import Dict\n",
    "import polars as pl\n",
    "\n",
    "from src.common.AssetData import AssetData\n",
    "from src.common.AssetDataPolars import AssetDataPolars\n",
    "from src.common.AssetDataService import AssetDataService\n",
    "from src.common.AssetFileInOut import AssetFileInOut \n",
    "from src.featureAlchemy.FeatureTA import FeatureTA\n"
   ]
  },
  {
   "cell_type": "code",
   "execution_count": 3,
   "metadata": {},
   "outputs": [],
   "source": [
    "assets=AssetFileInOut(\"../src/stockGroups/bin\").loadDictFromFile(\"group_debug\")\n",
    "\n",
    "# Convert to Polars for speedup\n",
    "assetspl: Dict[str, AssetDataPolars] = {}\n",
    "for ticker, asset in assets.items():\n",
    "    assetspl[ticker] = AssetDataService.to_polars(asset)"
   ]
  },
  {
   "cell_type": "code",
   "execution_count": 4,
   "metadata": {},
   "outputs": [],
   "source": [
    "asset = assetspl[\"NVDA\"]\n",
    "ffd = FeatureTA(asset, [1,2,3,5,9])"
   ]
  },
  {
   "cell_type": "code",
   "execution_count": 5,
   "metadata": {},
   "outputs": [
    {
     "name": "stdout",
     "output_type": "stream",
     "text": [
      "405.39\n",
      "8624118.0\n",
      "20.19\n",
      "7072291.0\n"
     ]
    }
   ],
   "source": [
    "featureNames = ffd.getFeatureNames()\n",
    "features1 = ffd.apply(pd.Timestamp(2020, 7, 15, tz = \"UTC\"), 1)\n",
    "features2 = ffd.apply(pd.Timestamp(2015, 7, 15, tz = \"UTC\"), 1)"
   ]
  }
 ],
 "metadata": {
  "kernelspec": {
   "display_name": ".venv",
   "language": "python",
   "name": "python3"
  },
  "language_info": {
   "codemirror_mode": {
    "name": "ipython",
    "version": 3
   },
   "file_extension": ".py",
   "mimetype": "text/x-python",
   "name": "python",
   "nbconvert_exporter": "python",
   "pygments_lexer": "ipython3",
   "version": "3.12.8"
  }
 },
 "nbformat": 4,
 "nbformat_minor": 2
}
