{
 "cells": [
  {
   "cell_type": "code",
   "execution_count": 1,
   "metadata": {},
   "outputs": [
    {
     "name": "stdout",
     "output_type": "stream",
     "text": [
      "This will print to the notebook’s output cell\n"
     ]
    }
   ],
   "source": [
    "import sys\n",
    "import os\n",
    "# Get the absolute path to the project directory\n",
    "project_dir = os.path.abspath(\"..\")\n",
    "\n",
    "# Append the project directory to sys.path\n",
    "if project_dir not in sys.path:\n",
    "    sys.path.append(project_dir)\n",
    "\n",
    "import pandas as pd\n",
    "import yaml\n",
    "from datetime import datetime as dt, date\n",
    "import requests\n",
    "import logging\n",
    "from datetime import datetime, timedelta\n",
    "from src.common.AssetData import AssetData\n",
    "from src.common.AssetDataService import AssetDataService\n",
    "from src.common.AssetFileInOut import AssetFileInOut\n",
    "from src.databaseService.Parser import Parser_AV\n",
    "from src.databaseService.CleanData import CleanData\n",
    "from src.common.AssetDataService import AssetDataService\n",
    "\n",
    "from alpha_vantage.timeseries import TimeSeries\n",
    "from alpha_vantage.fundamentaldata import FundamentalData\n",
    "\n",
    "import sys\n",
    "\n",
    "logger = logging.getLogger()\n",
    "logger.setLevel(logging.INFO)\n",
    "handler = logging.StreamHandler(sys.stdout)\n",
    "formatter = logging.Formatter(fmt=\"%(message)s\")\n",
    "handler.setFormatter(formatter)\n",
    "if not logger.hasHandlers():\n",
    "    logger.addHandler(handler)\n",
    "else:\n",
    "    logger.handlers[:] = [handler]\n",
    "# Usage\n",
    "logger.info(\"This will print to the notebook’s output cell\")"
   ]
  },
  {
   "cell_type": "code",
   "execution_count": 2,
   "metadata": {},
   "outputs": [],
   "source": [
    "# Define paths\n",
    "current_dir = os.getcwd()\n",
    "desired_folder = \"secrets\"\n",
    "absolute_path_to_folder = os.path.join(os.path.abspath(os.path.join(current_dir, \"..\")), \"secrets\")\n",
    "\n",
    "# Path to the YAML file\n",
    "yaml_file_path = os.path.join(\"../secrets\", \"alphaVantage.yaml\")\n",
    "\n",
    "# Read and load the YAML file\n",
    "try:\n",
    "    with open(yaml_file_path, 'r') as file:  # Open the YAML file for reading\n",
    "        config = yaml.safe_load(file)  # Load the YAML content\n",
    "        apiKey = config['alphaVantage_premium']['apiKey']  # Access the required key\n",
    "except PermissionError:\n",
    "    print(\"Permission denied. Please check file permissions.\")\n",
    "except FileNotFoundError:\n",
    "    print(\"File not found. Please verify the path.\")\n",
    "except KeyError:\n",
    "    print(\"KeyError: Check the structure of the YAML file.\")\n",
    "except yaml.YAMLError as e:\n",
    "    print(\"YAML Error:\", e)"
   ]
  },
  {
   "cell_type": "code",
   "execution_count": 11,
   "metadata": {},
   "outputs": [],
   "source": [
    "ticker = \"AXL\"\n",
    "ts = TimeSeries(key=apiKey, output_format='pandas')\n",
    "fd = FundamentalData(key=apiKey, output_format='pandas')\n",
    "\n",
    "datashareprice, _ = ts.get_daily_adjusted(symbol=ticker, outputsize='full')\n",
    "loadad_overview, _ = fd.get_company_overview(symbol=ticker)\n",
    "\n",
    "url = 'https://www.alphavantage.co/query?function=INCOME_STATEMENT&symbol='+ticker+'&apikey='+apiKey\n",
    "incStatementData = requests.get(url).json()\n",
    "url = 'https://www.alphavantage.co/query?function=CASH_FLOW&symbol='+ticker+'&apikey='+apiKey\n",
    "cashFlowData = requests.get(url).json()\n",
    "url = 'https://www.alphavantage.co/query?function=BALANCE_SHEET&symbol='+ticker+'&apikey='+apiKey\n",
    "balanceSheetData = requests.get(url).json()\n",
    "url = 'https://www.alphavantage.co/query?function=EARNINGS&symbol='+ticker+'&apikey='+apiKey\n",
    "earningsData = requests.get(url).json()\n",
    "\n",
    "if incStatementData=={} or cashFlowData == {} or balanceSheetData == {} or earningsData == {}:\n",
    "    raise ImportError(f\"Empty Financial Data\")"
   ]
  },
  {
   "cell_type": "code",
   "execution_count": 12,
   "metadata": {},
   "outputs": [
    {
     "name": "stdout",
     "output_type": "stream",
     "text": [
      "            Date  Open    High     Low  Close  AdjClose     Volume  Dividends  \\\n",
      "6463  2025-07-15  4.85  4.9553   4.765   4.78      4.78  3104259.0        0.0   \n",
      "6464  2025-07-16  4.82    4.86    4.71   4.85      4.85  3037769.0        0.0   \n",
      "6465  2025-07-17  4.81    4.96    4.77   4.77      4.77  2806259.0        0.0   \n",
      "6466  2025-07-18   4.8   4.825     4.5   4.55      4.55  2865667.0        0.0   \n",
      "6467  2025-07-21  4.61    4.72  4.5241   4.53      4.53  2297598.0        0.0   \n",
      "\n",
      "      Splits  \n",
      "6463     1.0  \n",
      "6464     1.0  \n",
      "6465     1.0  \n",
      "6466     1.0  \n",
      "6467     1.0  \n",
      "Date         string[python]\n",
      "Open                Float64\n",
      "High                Float64\n",
      "Low                 Float64\n",
      "Close               Float64\n",
      "AdjClose            Float64\n",
      "Volume              Float64\n",
      "Dividends           Float64\n",
      "Splits              Float64\n",
      "dtype: object\n"
     ]
    }
   ],
   "source": [
    "res = Parser_AV(sharepriceData=datashareprice).parse_shareprice()\n",
    "\n",
    "print(res.tail(5))\n",
    "print(res.dtypes)"
   ]
  },
  {
   "cell_type": "code",
   "execution_count": 13,
   "metadata": {},
   "outputs": [
    {
     "name": "stdout",
     "output_type": "stream",
     "text": [
      "About:  {'Symbol': 'AXL', 'AssetType': 'Common Stock', 'Name': 'American Axle & Manufacturing', 'Description': 'American Axle & Manufacturing Holdings, Inc. designs, designs and manufactures transmission line and metal forming products in the United States, Mexico, South America, China, other Asian countries, and Europe. The company is headquartered in Detroit, Michigan.', 'CIK': '1062231', 'Exchange': 'NYSE', 'Currency': 'USD', 'Country': 'USA', 'Sector': 'MANUFACTURING', 'Industry': 'MOTOR VEHICLE PARTS & ACCESSORIES', 'Address': 'ONE DAUCH DRIVE, DETROIT, MI, US', 'OfficialSite': 'https://www.aam.com', 'FiscalYearEnd': 'December', 'LatestQuarter': '2025-03-31', 'MarketCapitalization': '537539000', 'EBITDA': '717400000', 'PERatio': '25.17', 'PEGRatio': '-1.17', 'BookValue': '5.04', 'DividendPerShare': 'None', 'DividendYield': 'None', 'EPS': '0.18', 'RevenuePerShareTTM': '50.39', 'ProfitMargin': '0.0036', 'OperatingMarginTTM': '0.0432', 'ReturnOnAssetsTTM': '0.0301', 'ReturnOnEquityTTM': '0.0355', 'RevenueTTM': '5929300000', 'GrossProfitTTM': '716800000', 'DilutedEPSTTM': '0.18', 'QuarterlyEarningsGrowthYOY': '-0.66', 'QuarterlyRevenueGrowthYOY': '-0.122', 'AnalystTargetPrice': '5.2', 'AnalystRatingStrongBuy': '1', 'AnalystRatingBuy': '0', 'AnalystRatingHold': '6', 'AnalystRatingSell': '0', 'AnalystRatingStrongSell': '1', 'TrailingPE': '25.17', 'ForwardPE': '10.32', 'PriceToSalesRatioTTM': '0.0907', 'PriceToBookRatio': '0.905', 'EVToRevenue': '0.459', 'EVToEBITDA': '3.936', 'Beta': '1.582', '52WeekHigh': '7.65', '52WeekLow': '3', '50DayMovingAverage': '4.393', '200DayMovingAverage': '5.12', 'SharesOutstanding': '118662000', 'SharesFloat': '108420000', 'PercentInsiders': '4.756', 'PercentInstitutions': '114.890', 'DividendDate': '2008-12-29', 'ExDividendDate': '2008-12-04'}\n",
      "Sector:  industrials\n"
     ]
    }
   ],
   "source": [
    "loadad_about, loaded_sector = Parser_AV(overview=loadad_overview).parse_overview()\n",
    "\n",
    "print(\"About: \", loadad_about)\n",
    "print(\"Sector: \", loaded_sector)"
   ]
  },
  {
   "cell_type": "code",
   "execution_count": 14,
   "metadata": {},
   "outputs": [],
   "source": [
    "financials_annually, financials_quarterly = Parser_AV(\n",
    "    incStatementData = incStatementData, \n",
    "    cashFlowData = cashFlowData, \n",
    "    balanceSheetData = balanceSheetData, \n",
    "    earningsData = earningsData\n",
    ").parse_financials()"
   ]
  },
  {
   "cell_type": "code",
   "execution_count": 15,
   "metadata": {},
   "outputs": [
    {
     "name": "stdout",
     "output_type": "stream",
     "text": [
      "   fiscalDateEnding  reportedEPS  grossProfit  totalRevenue         ebit  \\\n",
      "23       2022-12-31         0.61  704900000.0  5802400000.0  240800000.0   \n",
      "24       2023-12-31        -0.09  624300000.0  6079500000.0  177200000.0   \n",
      "25       2024-12-31         0.51  741400000.0  6124900000.0  251300000.0   \n",
      "\n",
      "         ebitda   totalAssets  totalCurrentLiabilities  \\\n",
      "23  732900000.0  5469400000.0             1199300000.0   \n",
      "24  664400000.0  5356300000.0             1201600000.0   \n",
      "25  721000000.0  5059900000.0             1175200000.0   \n",
      "\n",
      "    totalShareholderEquity  operatingCashflow  \n",
      "23             627300000.0        448900000.0  \n",
      "24             604900000.0        396100000.0  \n",
      "25             562800000.0        455400000.0  \n",
      "fiscalDateEnding           string[python]\n",
      "reportedEPS                       Float64\n",
      "grossProfit                       Float64\n",
      "totalRevenue                      Float64\n",
      "ebit                              Float64\n",
      "ebitda                            Float64\n",
      "totalAssets                       Float64\n",
      "totalCurrentLiabilities           Float64\n",
      "totalShareholderEquity            Float64\n",
      "operatingCashflow                 Float64\n",
      "dtype: object\n"
     ]
    }
   ],
   "source": [
    "print(financials_annually.tail(3))\n",
    "print(financials_annually.dtypes)"
   ]
  },
  {
   "cell_type": "code",
   "execution_count": 16,
   "metadata": {},
   "outputs": [
    {
     "name": "stdout",
     "output_type": "stream",
     "text": [
      "    fiscalDateEnding reportedDate  reportedEPS  estimatedEPS  surprise  \\\n",
      "102       2024-09-30   2024-11-08          0.2         -0.05      0.25   \n",
      "103       2024-12-31   2025-02-14        -0.06       -0.1566    0.0966   \n",
      "104       2025-03-31   2025-05-01         0.09        0.0649    0.0251   \n",
      "\n",
      "     surprisePercentage  reportTime  grossProfit  totalRevenue        ebit  \\\n",
      "102               500.0  pre-market  171300000.0  1504900000.0  43100000.0   \n",
      "103             61.6858  pre-market  154300000.0  1380800000.0  36900000.0   \n",
      "104             38.6749  pre-market  173900000.0  1411300000.0        <NA>   \n",
      "\n",
      "          ebitda   totalAssets  totalCurrentLiabilities  \\\n",
      "102  160000000.0  5328300000.0             1294200000.0   \n",
      "103  152300000.0  5059900000.0             1175200000.0   \n",
      "104   42700000.0  5139400000.0             1184100000.0   \n",
      "\n",
      "     totalShareholderEquity  commonStockSharesOutstanding  operatingCashflow  \n",
      "102             616300000.0                   122200000.0        143600000.0  \n",
      "103             562800000.0                   117600000.0        151200000.0  \n",
      "104             596300000.0                   117600000.0         55900000.0  \n",
      "fiscalDateEnding                string[python]\n",
      "reportedDate                    string[python]\n",
      "reportedEPS                            Float64\n",
      "estimatedEPS                           Float64\n",
      "surprise                               Float64\n",
      "surprisePercentage                     Float64\n",
      "reportTime                      string[python]\n",
      "grossProfit                            Float64\n",
      "totalRevenue                           Float64\n",
      "ebit                                   Float64\n",
      "ebitda                                 Float64\n",
      "totalAssets                            Float64\n",
      "totalCurrentLiabilities                Float64\n",
      "totalShareholderEquity                 Float64\n",
      "commonStockSharesOutstanding           Float64\n",
      "operatingCashflow                      Float64\n",
      "dtype: object\n"
     ]
    }
   ],
   "source": [
    "print(financials_quarterly.tail(3))\n",
    "print(financials_quarterly.dtypes)"
   ]
  }
 ],
 "metadata": {
  "kernelspec": {
   "display_name": ".venv (3.11.3)",
   "language": "python",
   "name": "python3"
  },
  "language_info": {
   "codemirror_mode": {
    "name": "ipython",
    "version": 3
   },
   "file_extension": ".py",
   "mimetype": "text/x-python",
   "name": "python",
   "nbconvert_exporter": "python",
   "pygments_lexer": "ipython3",
   "version": "3.11.3"
  }
 },
 "nbformat": 4,
 "nbformat_minor": 2
}
