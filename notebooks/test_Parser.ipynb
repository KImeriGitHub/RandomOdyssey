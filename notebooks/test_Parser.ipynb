{
 "cells": [
  {
   "cell_type": "code",
   "execution_count": 1,
   "metadata": {},
   "outputs": [
    {
     "name": "stdout",
     "output_type": "stream",
     "text": [
      "This will print to the notebook’s output cell\n"
     ]
    }
   ],
   "source": [
    "import sys\n",
    "import os\n",
    "# Get the absolute path to the project directory\n",
    "project_dir = os.path.abspath(\"..\")\n",
    "\n",
    "# Append the project directory to sys.path\n",
    "if project_dir not in sys.path:\n",
    "    sys.path.append(project_dir)\n",
    "\n",
    "import pandas as pd\n",
    "import yaml\n",
    "from datetime import datetime as dt, date\n",
    "import requests\n",
    "import logging\n",
    "from datetime import datetime, timedelta\n",
    "from src.common.AssetData import AssetData\n",
    "from src.common.AssetDataService import AssetDataService\n",
    "from src.common.AssetFileInOut import AssetFileInOut\n",
    "from src.databaseService.Parser import Parser_AV\n",
    "from src.databaseService.CleanData import CleanData\n",
    "from src.common.AssetDataService import AssetDataService\n",
    "\n",
    "from alpha_vantage.timeseries import TimeSeries\n",
    "from alpha_vantage.fundamentaldata import FundamentalData\n",
    "\n",
    "import sys\n",
    "\n",
    "logger = logging.getLogger()\n",
    "logger.setLevel(logging.INFO)\n",
    "handler = logging.StreamHandler(sys.stdout)\n",
    "formatter = logging.Formatter(fmt=\"%(message)s\")\n",
    "handler.setFormatter(formatter)\n",
    "if not logger.hasHandlers():\n",
    "    logger.addHandler(handler)\n",
    "else:\n",
    "    logger.handlers[:] = [handler]\n",
    "# Usage\n",
    "logger.info(\"This will print to the notebook’s output cell\")"
   ]
  },
  {
   "cell_type": "code",
   "execution_count": 2,
   "metadata": {},
   "outputs": [],
   "source": [
    "# Define paths\n",
    "current_dir = os.getcwd()\n",
    "desired_folder = \"secrets\"\n",
    "absolute_path_to_folder = os.path.join(os.path.abspath(os.path.join(current_dir, \"..\")), \"secrets\")\n",
    "\n",
    "# Path to the YAML file\n",
    "yaml_file_path = os.path.join(\"../secrets\", \"alphaVantage.yaml\")\n",
    "\n",
    "# Read and load the YAML file\n",
    "try:\n",
    "    with open(yaml_file_path, 'r') as file:  # Open the YAML file for reading\n",
    "        config = yaml.safe_load(file)  # Load the YAML content\n",
    "        apiKey = config['alphaVantage_premium']['apiKey']  # Access the required key\n",
    "except PermissionError:\n",
    "    print(\"Permission denied. Please check file permissions.\")\n",
    "except FileNotFoundError:\n",
    "    print(\"File not found. Please verify the path.\")\n",
    "except KeyError:\n",
    "    print(\"KeyError: Check the structure of the YAML file.\")\n",
    "except yaml.YAMLError as e:\n",
    "    print(\"YAML Error:\", e)"
   ]
  },
  {
   "cell_type": "code",
   "execution_count": 3,
   "metadata": {},
   "outputs": [],
   "source": [
    "ticker = \"WILC\"\n",
    "ts = TimeSeries(key=apiKey, output_format='pandas')\n",
    "fd = FundamentalData(key=apiKey, output_format='pandas')\n",
    "\n",
    "datashareprice, _ = ts.get_daily_adjusted(symbol=ticker, outputsize='full')\n",
    "loadad_overview, _ = fd.get_company_overview(symbol=ticker)\n",
    "\n",
    "url = 'https://www.alphavantage.co/query?function=INCOME_STATEMENT&symbol='+ticker+'&apikey='+apiKey\n",
    "incStatementData = requests.get(url).json()\n",
    "url = 'https://www.alphavantage.co/query?function=CASH_FLOW&symbol='+ticker+'&apikey='+apiKey\n",
    "cashFlowData = requests.get(url).json()\n",
    "url = 'https://www.alphavantage.co/query?function=BALANCE_SHEET&symbol='+ticker+'&apikey='+apiKey\n",
    "balanceSheetData = requests.get(url).json()\n",
    "url = 'https://www.alphavantage.co/query?function=EARNINGS&symbol='+ticker+'&apikey='+apiKey\n",
    "earningsData = requests.get(url).json()\n",
    "\n",
    "if incStatementData=={} or cashFlowData == {} or balanceSheetData == {} or earningsData == {}:\n",
    "    raise ImportError(f\"Empty Financial Data\")"
   ]
  },
  {
   "cell_type": "code",
   "execution_count": 4,
   "metadata": {},
   "outputs": [
    {
     "name": "stdout",
     "output_type": "stream",
     "text": [
      "            Date   Open   High      Low  Close  AdjClose   Volume  Dividends  \\\n",
      "6465  2025-07-17  20.26  20.26  19.5545  19.95     19.95  51808.0        0.0   \n",
      "6466  2025-07-18  20.05  20.05     19.5  19.82     19.82   8497.0        0.0   \n",
      "6467  2025-07-21  20.65   21.1    20.49  21.05     21.05  87444.0        0.0   \n",
      "6468  2025-07-22  21.28  21.45    21.07  21.39     21.39  22870.0        0.0   \n",
      "6469  2025-07-23  21.33   21.4     20.1  20.42     20.42  28934.0        0.0   \n",
      "\n",
      "      Splits  \n",
      "6465     1.0  \n",
      "6466     1.0  \n",
      "6467     1.0  \n",
      "6468     1.0  \n",
      "6469     1.0  \n",
      "Date         string[python]\n",
      "Open                Float64\n",
      "High                Float64\n",
      "Low                 Float64\n",
      "Close               Float64\n",
      "AdjClose            Float64\n",
      "Volume              Float64\n",
      "Dividends           Float64\n",
      "Splits              Float64\n",
      "dtype: object\n"
     ]
    }
   ],
   "source": [
    "res = Parser_AV(sharepriceData=datashareprice).parse_shareprice()\n",
    "\n",
    "print(res.tail(5))\n",
    "print(res.dtypes)"
   ]
  },
  {
   "cell_type": "code",
   "execution_count": 5,
   "metadata": {},
   "outputs": [
    {
     "name": "stdout",
     "output_type": "stream",
     "text": [
      "About:  {'Symbol': 'WILC', 'AssetType': 'Common Stock', 'Name': 'G Willi-Food International Ltd', 'Description': 'G. Willi-Food International Ltd. develops, imports, exports, markets and distributes food products globally. The company is headquartered in Yavne, Israel.', 'CIK': '1030997', 'Exchange': 'NASDAQ', 'Currency': 'USD', 'Country': 'USA', 'Sector': 'TRADE & SERVICES', 'Industry': 'WHOLESALE-GROCERIES, GENERAL LINE', 'Address': '24 HAMETSUDA ST INDUSTRIAL ZONE, AZUR ISRAEL, IL', 'OfficialSite': 'https://www.willi-food.co.il', 'FiscalYearEnd': 'December', 'LatestQuarter': '2025-03-31', 'MarketCapitalization': '283477000', 'EBITDA': '79990000', 'PERatio': '13.43', 'PEGRatio': '0', 'BookValue': '43.45', 'DividendPerShare': '0', 'DividendYield': '0.0374', 'EPS': '1.52', 'RevenuePerShareTTM': '42.13', 'ProfitMargin': '0.122', 'OperatingMarginTTM': '0.138', 'ReturnOnAssetsTTM': '0.0704', 'ReturnOnEquityTTM': '0.122', 'RevenueTTM': '584602000', 'GrossProfitTTM': '171311000', 'DilutedEPSTTM': '1.52', 'QuarterlyEarningsGrowthYOY': '0.039', 'QuarterlyRevenueGrowthYOY': '0.065', 'AnalystTargetPrice': '10', 'AnalystRatingStrongBuy': '-', 'AnalystRatingBuy': '-', 'AnalystRatingHold': '-', 'AnalystRatingSell': '-', 'AnalystRatingStrongSell': '-', 'TrailingPE': '13.43', 'ForwardPE': '-', 'PriceToSalesRatioTTM': '0.485', 'PriceToBookRatio': '1.655', 'EVToRevenue': '1.315', 'EVToEBITDA': '12.07', 'Beta': '1.003', '52WeekHigh': '21.45', '52WeekLow': '8.72', '50DayMovingAverage': '17.31', '200DayMovingAverage': '15.51', 'SharesOutstanding': '13882300', 'SharesFloat': '3198500', 'PercentInsiders': '76.916', 'PercentInstitutions': '11.517', 'DividendDate': '2025-04-07', 'ExDividendDate': '2025-03-24'}\n",
      "Sector:  consumer-cyclical\n"
     ]
    }
   ],
   "source": [
    "loadad_about, loaded_sector = Parser_AV(overview=loadad_overview).parse_overview()\n",
    "\n",
    "print(\"About: \", loadad_about)\n",
    "print(\"Sector: \", loaded_sector)"
   ]
  },
  {
   "cell_type": "code",
   "execution_count": 6,
   "metadata": {},
   "outputs": [],
   "source": [
    "financials_annually, financials_quarterly = Parser_AV(\n",
    "    incStatementData = incStatementData, \n",
    "    cashFlowData = cashFlowData, \n",
    "    balanceSheetData = balanceSheetData, \n",
    "    earningsData = earningsData\n",
    ").parse_financials()"
   ]
  },
  {
   "cell_type": "code",
   "execution_count": 7,
   "metadata": {},
   "outputs": [
    {
     "name": "stdout",
     "output_type": "stream",
     "text": [
      "   fiscalDateEnding  reportedEPS  grossProfit  totalRevenue        ebit  \\\n",
      "17       2022-12-31       0.8949  143097000.0   498325000.0  38588000.0   \n",
      "18       2023-12-31       0.6202  120567000.0   543262000.0  20350000.0   \n",
      "19       2024-12-31        1.371  161334000.0   575795000.0  54874000.0   \n",
      "\n",
      "        ebitda  totalAssets  totalCurrentLiabilities  totalShareholderEquity  \\\n",
      "17  45096000.0  608432000.0               42628000.0             559444000.0   \n",
      "18  24896000.0  597033000.0               38181000.0             552235000.0   \n",
      "19  62176000.0  686380000.0               59929000.0             612940000.0   \n",
      "\n",
      "    operatingCashflow  \n",
      "17         14069000.0  \n",
      "18         33708000.0  \n",
      "19         42973000.0  \n",
      "fiscalDateEnding           string[python]\n",
      "reportedEPS                       Float64\n",
      "grossProfit                       Float64\n",
      "totalRevenue                      Float64\n",
      "ebit                              Float64\n",
      "ebitda                            Float64\n",
      "totalAssets                       Float64\n",
      "totalCurrentLiabilities           Float64\n",
      "totalShareholderEquity            Float64\n",
      "operatingCashflow                 Float64\n",
      "dtype: object\n"
     ]
    }
   ],
   "source": [
    "print(financials_annually.tail(3))\n",
    "print(financials_annually.dtypes)"
   ]
  },
  {
   "cell_type": "code",
   "execution_count": 8,
   "metadata": {},
   "outputs": [
    {
     "name": "stdout",
     "output_type": "stream",
     "text": [
      "   fiscalDateEnding reportedDate  reportedEPS  estimatedEPS  surprise  \\\n",
      "78       2024-09-30   2024-12-19        0.403          <NA>       0.0   \n",
      "79       2024-12-31   2025-03-19       0.4704          <NA>       0.0   \n",
      "80       2025-03-31   2025-05-19       0.3859          <NA>       0.0   \n",
      "\n",
      "    surprisePercentage  reportTime  grossProfit  totalRevenue        ebit  \\\n",
      "78                <NA>  pre-market   41962000.0   152799000.0  26993000.0   \n",
      "79                <NA>  pre-market   38797000.0   140302000.0  -8541000.0   \n",
      "80                <NA>  pre-market   44628000.0   144843000.0  25450000.0   \n",
      "\n",
      "        ebitda  totalAssets  totalCurrentLiabilities  totalShareholderEquity  \\\n",
      "78  29932000.0  663264000.0               63276000.0             588794000.0   \n",
      "79  -6822000.0  686380000.0               59929000.0             612940000.0   \n",
      "80  27305000.0  712390000.0               95806000.0             603046000.0   \n",
      "\n",
      "    commonStockSharesOutstanding  operatingCashflow  \n",
      "78                    13867017.0         31073000.0  \n",
      "79                    13867017.0         26851000.0  \n",
      "80                    13988885.0           311000.0  \n",
      "fiscalDateEnding                string[python]\n",
      "reportedDate                    string[python]\n",
      "reportedEPS                            Float64\n",
      "estimatedEPS                           Float64\n",
      "surprise                               Float64\n",
      "surprisePercentage                     Float64\n",
      "reportTime                      string[python]\n",
      "grossProfit                            Float64\n",
      "totalRevenue                           Float64\n",
      "ebit                                   Float64\n",
      "ebitda                                 Float64\n",
      "totalAssets                            Float64\n",
      "totalCurrentLiabilities                Float64\n",
      "totalShareholderEquity                 Float64\n",
      "commonStockSharesOutstanding           Float64\n",
      "operatingCashflow                      Float64\n",
      "dtype: object\n"
     ]
    }
   ],
   "source": [
    "print(financials_quarterly.tail(3))\n",
    "print(financials_quarterly.dtypes)"
   ]
  }
 ],
 "metadata": {
  "kernelspec": {
   "display_name": ".venv",
   "language": "python",
   "name": "python3"
  },
  "language_info": {
   "codemirror_mode": {
    "name": "ipython",
    "version": 3
   },
   "file_extension": ".py",
   "mimetype": "text/x-python",
   "name": "python",
   "nbconvert_exporter": "python",
   "pygments_lexer": "ipython3",
   "version": "3.12.10"
  }
 },
 "nbformat": 4,
 "nbformat_minor": 2
}
