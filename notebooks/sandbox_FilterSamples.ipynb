{
 "cells": [
  {
   "cell_type": "code",
   "execution_count": 1,
   "id": "0c3b363e",
   "metadata": {},
   "outputs": [
    {
     "name": "stdout",
     "output_type": "stream",
     "text": [
      "2025-07-17 18:27:38,295 - This will print to the notebook's output cell\n"
     ]
    }
   ],
   "source": [
    "import sys\n",
    "import os\n",
    "\n",
    "# Get the absolute path to the project directory\n",
    "project_dir = os.path.abspath(\"..\")\n",
    "\n",
    "# Append the project directory to sys.path\n",
    "if project_dir not in sys.path:\n",
    "    sys.path.append(project_dir)\n",
    "    \n",
    "from src.predictionModule.FilterSamples import FilterSamples\n",
    "from src.predictionModule.LoadupSamples import LoadupSamples\n",
    "\n",
    "import pandas as pd\n",
    "import numpy as np\n",
    "import polars as pl\n",
    "import datetime\n",
    "import seaborn as sns\n",
    "import lightgbm as lgb\n",
    "import random\n",
    "import matplotlib.pyplot as plt\n",
    "import logging\n",
    "import time\n",
    "import re\n",
    "import copy\n",
    "\n",
    "formatted_date = datetime.datetime.now().strftime(\"%d%b%y_%H%M\").lower()\n",
    "\n",
    "logger = logging.getLogger()\n",
    "logger.setLevel(logging.DEBUG)\n",
    "handler = logging.StreamHandler(sys.stdout)\n",
    "formatter = logging.Formatter(fmt=\"%(asctime)s - %(message)s\")\n",
    "handler.setFormatter(formatter)\n",
    "if not logger.hasHandlers():\n",
    "    logger.addHandler(handler)\n",
    "else:\n",
    "    logger.handlers[:] = [handler]\n",
    "\n",
    "#Output File handler\n",
    "file_handler = logging.FileHandler(f\"notebook-{formatted_date}.log\", mode=\"w\")\n",
    "file_handler.setFormatter(formatter)\n",
    "logger.addHandler(file_handler)\n",
    "\n",
    "# Usage\n",
    "logger.info(\"This will print to the notebook's output cell\")"
   ]
  },
  {
   "cell_type": "code",
   "execution_count": 2,
   "id": "cb954e7d",
   "metadata": {},
   "outputs": [],
   "source": [
    "params = {\n",
    "    \"idxAfterPrediction\": 5,\n",
    "    'timesteps': 25,\n",
    "    'target_option': 'last',\n",
    "    \n",
    "    \"TreeTime_lstm_units\": 64,\n",
    "    \"TreeTime_lstm_num_layers\": 3,\n",
    "    \"TreeTime_lstm_dropout\": 0.00001,\n",
    "    \"TreeTime_lstm_recurrent_dropout\": 0.00001,\n",
    "    \"TreeTime_lstm_learning_rate\": 0.001,\n",
    "    \"TreeTime_lstm_optimizer\": \"adam\",\n",
    "    \"TreeTime_lstm_bidirectional\": True,\n",
    "    \"TreeTime_lstm_batch_size\": 2**14,\n",
    "    \"TreeTime_lstm_epochs\": 4,\n",
    "    \"TreeTime_lstm_l1\": 0.00001,\n",
    "    \"TreeTime_lstm_l2\": 0.00001,\n",
    "    \"TreeTime_inter_dropout\": 0.00001,\n",
    "    \"TreeTime_input_gaussian_noise\": 0.00001,\n",
    "    \"TreeTime_lstm_conv1d\": True,\n",
    "    \"TreeTime_lstm_conv1d_kernel_size\": 3,\n",
    "    \"TreeTime_lstm_loss\": \"mse\",\n",
    "}"
   ]
  },
  {
   "cell_type": "code",
   "execution_count": 3,
   "id": "8c306cf3",
   "metadata": {},
   "outputs": [],
   "source": [
    "stock_group = \"group_snp500_finanTo2011\"\n",
    "\n",
    "eval_date = datetime.date(2025,  2,  1)\n",
    "\n",
    "start_Date = datetime.date(year=2020, month=1, day=1)\n",
    "\n",
    "ls = LoadupSamples(\n",
    "    train_start_date=start_Date,\n",
    "    test_dates=[eval_date],\n",
    "    group=stock_group,\n",
    "    params=params,\n",
    ")"
   ]
  },
  {
   "cell_type": "code",
   "execution_count": 4,
   "id": "6a74d5b8",
   "metadata": {},
   "outputs": [
    {
     "name": "stdout",
     "output_type": "stream",
     "text": [
      "2025-07-17 18:28:20,565 - Test date 2025-02-01 not found in the database. Resetting to last trading day.\n"
     ]
    }
   ],
   "source": [
    "ls.load_samples(main_path=\"../src/featureAlchemy/bin/\")"
   ]
  },
  {
   "cell_type": "code",
   "execution_count": 8,
   "id": "c8cd1bce",
   "metadata": {},
   "outputs": [],
   "source": [
    "fs_params= {\n",
    "    \"FilterSamples_days_to_train_end\": 365,\n",
    "    \n",
    "    \"FilterSamples_lincomb_q_up\": 0.95,\n",
    "    \"FilterSamples_lincomb_lr\": 0.0008384895113158295,\n",
    "    \"FilterSamples_lincomb_epochs\": 800,\n",
    "    \"FilterSamples_lincomb_probs_noise_std\": 0.010503627436184224,\n",
    "    \"FilterSamples_lincomb_subsample_ratio\": 0.2424109747001177,\n",
    "    \"FilterSamples_lincomb_sharpness\": 0.59226051089996,\n",
    "    \"FilterSamples_lincomb_featureratio\": 0.33269072850403053,\n",
    "    \"FilterSamples_lincomb_itermax\": 2,\n",
    "    \"FilterSamples_lincomb_show_progress\": True,\n",
    "}"
   ]
  },
  {
   "cell_type": "code",
   "execution_count": 9,
   "id": "8f880142",
   "metadata": {},
   "outputs": [],
   "source": [
    "dates = ls.meta_pl_train.select(pl.col(\"date\")).to_series()\n",
    "Xtree_all = ls.train_Xtree\n",
    "ytree_all = ls.train_ytree\n",
    "\n",
    "end_train_date = datetime.date(2024,  2,  1)\n",
    "test_days = 30  # 1 month of testing data\n",
    "        \n",
    "def est_samples(X_all, y_all, dates: pl.Series, end_train_date, test_days):\n",
    "    train_start = dates.min()\n",
    "    train_end   = end_train_date\n",
    "\n",
    "    test_start  = end_train_date + datetime.timedelta(days=1)\n",
    "    test_end    = end_train_date + datetime.timedelta(days=test_days)\n",
    "\n",
    "    # slice train\n",
    "    train_mask = (\n",
    "        (dates >= train_start) &\n",
    "        (dates <= train_end)\n",
    "    ).fill_null(False).to_numpy()\n",
    "\n",
    "    # slice test\n",
    "    test_mask = (\n",
    "        (dates >= test_start) &\n",
    "        (dates <= test_end)\n",
    "    ).fill_null(False).to_numpy()\n",
    "\n",
    "    return (\n",
    "        X_all[train_mask],\n",
    "        X_all[test_mask],\n",
    "        y_all[train_mask],\n",
    "        y_all[test_mask],\n",
    "        dates.filter(train_mask),\n",
    "        dates.filter(test_mask)\n",
    "    )"
   ]
  },
  {
   "cell_type": "code",
   "execution_count": 10,
   "id": "8d5dbf1a",
   "metadata": {},
   "outputs": [
    {
     "name": "stdout",
     "output_type": "stream",
     "text": [
      "2025-07-17 18:30:09,561 - FilterSamples: (train) mean of y values 1.002645514566944.\n",
      "2025-07-17 18:30:09,561 - FilterSamples: (test) mean of y values 1.0077879975184139.\n",
      "2025-07-17 18:30:09,567 - FilterSamples: Starting Lincomb\n",
      "2025-07-17 18:30:09,573 -   FilterSamples: Lincomb Iteration 0/2 running.\n",
      "2025-07-17 18:30:10,643 - FilterSamples: Best init score 1.0090\n"
     ]
    },
    {
     "name": "stderr",
     "output_type": "stream",
     "text": [
      "Epochs: 100%|██████████| 800/800 [00:04<00:00, 184.81it/s, mean_perdate_v=1.0153, mean_v=1.0149]\n"
     ]
    },
    {
     "name": "stdout",
     "output_type": "stream",
     "text": [
      "2025-07-17 18:30:16,291 -   Mean target (train): 1.0209358526935177\n",
      "2025-07-17 18:30:16,292 -   Number of features selected: 455\n",
      "2025-07-17 18:30:16,292 -   Max distance between idces: 230\n",
      "2025-07-17 18:30:16,292 -   Mean distance between idces: 19.97417548226509\n",
      "2025-07-17 18:30:16,294 -   Median distance between idces: 8.0\n",
      "2025-07-17 18:30:16,316 -   Mean target (test): 1.0069624823585375\n",
      "2025-07-17 18:30:16,318 -   Fraction of days with no coverage by test mask: 0.00%\n",
      "2025-07-17 18:30:16,320 -   w quantile     : 18.9870662689209\n",
      "2025-07-17 18:30:16,322 -   w_test quantile: 10.236125946044922\n",
      "2025-07-17 18:30:16,322 -     Top-0 feature: Fourier_ReturnLog_RSMECoeff_4_MH_8\n",
      "2025-07-17 18:30:16,323 -     Top-1 feature: Fourier_Price_RSMERatioCoeff_1_MH_6\n",
      "2025-07-17 18:30:16,324 -     Top-2 feature: FinData_quar_ebit_nivRevLag_qm4\n",
      "2025-07-17 18:30:16,324 -     Top-3 feature: FinData_quar_commonStockSharesOutstanding_nivRev\n",
      "2025-07-17 18:30:16,325 -     Top-4 feature: Fourier_Price_RSMERatioCoeff_3_MH_4\n",
      "2025-07-17 18:30:16,326 -     Top-5 feature: FeatureTA_volatility_bbw\n",
      "2025-07-17 18:30:16,326 -     Top-6 feature: FinData_quar_operatingCashflow_nivRevLag_qm7\n",
      "2025-07-17 18:30:16,327 -     Top-7 feature: FinData_quar_ebit_nivRevLag_qm11\n",
      "2025-07-17 18:30:16,327 -     Top-8 feature: Fourier_Price_RSMERatioCoeff_2_MH_12\n",
      "2025-07-17 18:30:16,328 -     Top-9 feature: Fourier_ReturnLog_RSMECoeff_3_MH_8\n",
      "2025-07-17 18:30:16,328 -   FilterSamples: Lincomb Iteration 1/2 running.\n",
      "2025-07-17 18:30:16,853 - FilterSamples: Best init score 1.0090\n"
     ]
    },
    {
     "name": "stderr",
     "output_type": "stream",
     "text": [
      "Epochs: 100%|██████████| 800/800 [00:04<00:00, 193.77it/s, mean_perdate_v=1.0119, mean_v=1.0127]\n"
     ]
    },
    {
     "name": "stdout",
     "output_type": "stream",
     "text": [
      "2025-07-17 18:30:21,772 -   Mean target (train): 1.0159592184944113\n",
      "2025-07-17 18:30:21,772 -   Number of features selected: 263\n",
      "2025-07-17 18:30:21,776 -   Max distance between idces: 163\n",
      "2025-07-17 18:30:21,776 -   Mean distance between idces: 19.97417548226509\n",
      "2025-07-17 18:30:21,776 -   Median distance between idces: 8.0\n",
      "2025-07-17 18:30:21,787 -   Mean target (test): 1.0078734614090434\n",
      "2025-07-17 18:30:21,791 -   Fraction of days with no coverage by test mask: 0.00%\n",
      "2025-07-17 18:30:21,791 -   w quantile     : 13.601014137268066\n",
      "2025-07-17 18:30:21,791 -   w_test quantile: 8.556903839111328\n",
      "2025-07-17 18:30:21,794 -     Top-0 feature: Fourier_ReturnLog_RSMECoeff_4_MH_8\n",
      "2025-07-17 18:30:21,794 -     Top-1 feature: FinData_quar_commonStockSharesOutstanding_nivRev\n",
      "2025-07-17 18:30:21,794 -     Top-2 feature: FinData_quar_ebit_nivRevLag_qm4\n",
      "2025-07-17 18:30:21,794 -     Top-3 feature: FeatureTA_volatility_atr\n",
      "2025-07-17 18:30:21,794 -     Top-4 feature: FinData_quar_ebitda_nivRevLag_qm4\n",
      "2025-07-17 18:30:21,794 -     Top-5 feature: Fourier_Price_AmpCoeff_4_MH_8\n",
      "2025-07-17 18:30:21,794 -     Top-6 feature: MathFeature_Drawup_MH12\n",
      "2025-07-17 18:30:21,794 -     Top-7 feature: Fourier_ReturnLog_RSMECoeff_3_MH_8\n",
      "2025-07-17 18:30:21,794 -     Top-8 feature: Fourier_ReturnLog_RSMECoeff_4_MH_12\n",
      "2025-07-17 18:30:21,798 -     Top-9 feature: Fourier_Price_AmpCoeff_1_MH_8\n",
      "2025-07-17 18:30:21,963 - FilterSamples: Final score (train): 1.0070\n",
      "2025-07-17 18:30:21,967 - FilterSamples: Final score (test): 1.0079\n",
      "2025-07-17 18:30:21,967 - \n",
      "2025-07-17 18:30:21,967 - END DATE 2023-06-11\n",
      "2025-07-17 18:30:21,967 - Mean of all test scores: 1.0078734614090434\n",
      "2025-07-17 18:30:21,969 - \n",
      "2025-07-17 18:30:21,969 - Training score: 1.0070428649927017, testing score: 1.0078734614090434\n",
      "2025-07-17 18:30:23,070 - FilterSamples: (train) mean of y values 1.0026369885075674.\n",
      "2025-07-17 18:30:23,071 - FilterSamples: (test) mean of y values 0.9934962940068576.\n",
      "2025-07-17 18:30:23,074 - FilterSamples: Starting Lincomb\n",
      "2025-07-17 18:30:23,078 -   FilterSamples: Lincomb Iteration 0/2 running.\n",
      "2025-07-17 18:30:23,964 - FilterSamples: Best init score 1.0119\n"
     ]
    },
    {
     "name": "stderr",
     "output_type": "stream",
     "text": [
      "Epochs: 100%|██████████| 800/800 [00:04<00:00, 188.53it/s, mean_perdate_v=1.0161, mean_v=1.0171]\n"
     ]
    },
    {
     "name": "stdout",
     "output_type": "stream",
     "text": [
      "2025-07-17 18:30:29,503 -   Mean target (train): 1.0203399090582588\n",
      "2025-07-17 18:30:29,503 -   Number of features selected: 455\n",
      "2025-07-17 18:30:29,503 -   Max distance between idces: 239\n",
      "2025-07-17 18:30:29,503 -   Mean distance between idces: 20.00093341630367\n",
      "2025-07-17 18:30:29,503 -   Median distance between idces: 8.0\n",
      "2025-07-17 18:30:29,530 -   Mean target (test): 1.001148647361409\n",
      "2025-07-17 18:30:29,531 -   Fraction of days with no coverage by test mask: 0.00%\n",
      "2025-07-17 18:30:29,533 -   w quantile     : 16.060447692871094\n",
      "2025-07-17 18:30:29,534 -   w_test quantile: 7.48601770401001\n",
      "2025-07-17 18:30:29,535 -     Top-0 feature: Fourier_ReturnLog_RSMECoeff_4_MH_8\n",
      "2025-07-17 18:30:29,535 -     Top-1 feature: Fourier_Price_RSMERatioCoeff_1_MH_6\n",
      "2025-07-17 18:30:29,536 -     Top-2 feature: FinData_quar_operatingCashflow_nivRevLag_qm11\n",
      "2025-07-17 18:30:29,537 -     Top-3 feature: FinData_ann_ebit_nivRevLag_am3\n",
      "2025-07-17 18:30:29,537 -     Top-4 feature: FinData_quar_commonStockSharesOutstanding_nivRev\n",
      "2025-07-17 18:30:29,538 -     Top-5 feature: Fourier_Price_RSMERatioCoeff_3_MH_2\n",
      "2025-07-17 18:30:29,538 -     Top-6 feature: FinData_quar_grossProfit_nivRevLag_qm11\n",
      "2025-07-17 18:30:29,539 -     Top-7 feature: Fourier_Price_AmpCoeff_1_MH_1\n",
      "2025-07-17 18:30:29,539 -     Top-8 feature: FeatureTA_volume_sma_em\n",
      "2025-07-17 18:30:29,539 -     Top-9 feature: Fourier_Price_RSMERatioCoeff_1_MH_2\n",
      "2025-07-17 18:30:29,541 -   FilterSamples: Lincomb Iteration 1/2 running.\n",
      "2025-07-17 18:30:30,047 - FilterSamples: Best init score 1.0119\n"
     ]
    },
    {
     "name": "stderr",
     "output_type": "stream",
     "text": [
      "Epochs: 100%|██████████| 800/800 [00:04<00:00, 187.57it/s, mean_perdate_v=1.0143, mean_v=1.0154]\n"
     ]
    },
    {
     "name": "stdout",
     "output_type": "stream",
     "text": [
      "2025-07-17 18:30:35,130 -   Mean target (train): 1.0182402089247402\n",
      "2025-07-17 18:30:35,131 -   Number of features selected: 263\n",
      "2025-07-17 18:30:35,132 -   Max distance between idces: 239\n",
      "2025-07-17 18:30:35,132 -   Mean distance between idces: 20.00093341630367\n",
      "2025-07-17 18:30:35,133 -   Median distance between idces: 9.0\n",
      "2025-07-17 18:30:35,146 -   Mean target (test): 0.9921658123721506\n",
      "2025-07-17 18:30:35,146 -   Fraction of days with no coverage by test mask: 0.00%\n",
      "2025-07-17 18:30:35,150 -   w quantile     : 13.442365646362305\n",
      "2025-07-17 18:30:35,151 -   w_test quantile: 6.511627197265625\n",
      "2025-07-17 18:30:35,151 -     Top-0 feature: Fourier_ReturnLog_RSMECoeff_4_MH_8\n",
      "2025-07-17 18:30:35,152 -     Top-1 feature: FinData_quar_operatingCashflow_nivRevLag_qm11\n",
      "2025-07-17 18:30:35,152 -     Top-2 feature: Fourier_Price_RSMERatioCoeff_1_MH_6\n",
      "2025-07-17 18:30:35,152 -     Top-3 feature: FinData_ann_ebit_nivRevLag_am3\n",
      "2025-07-17 18:30:35,152 -     Top-4 feature: FinData_quar_grossProfit_nivRevLag_qm11\n",
      "2025-07-17 18:30:35,156 -     Top-5 feature: Fourier_Price_RSMECoeff_1_MH_1\n",
      "2025-07-17 18:30:35,156 -     Top-6 feature: Fourier_Price_AmpCoeff_1_MH_1\n",
      "2025-07-17 18:30:35,156 -     Top-7 feature: Fourier_Price_RSMERatioCoeff_3_MH_2\n",
      "2025-07-17 18:30:35,156 -     Top-8 feature: FinData_quar_commonStockSharesOutstanding_nivRev\n",
      "2025-07-17 18:30:35,156 -     Top-9 feature: Fourier_ReturnLog_RSMECoeff_4_MH_2\n",
      "2025-07-17 18:30:35,416 - FilterSamples: Final score (train): 1.0075\n",
      "2025-07-17 18:30:35,416 - FilterSamples: Final score (test): 0.9922\n",
      "2025-07-17 18:30:35,416 - \n",
      "2025-07-17 18:30:35,420 - END DATE 2023-08-07\n",
      "2025-07-17 18:30:35,420 - Mean of all test scores: 1.0000196368905971\n",
      "2025-07-17 18:30:35,421 - \n",
      "2025-07-17 18:30:35,421 - Training score: 1.007458968177749, testing score: 0.9921658123721506\n",
      "2025-07-17 18:30:36,712 - FilterSamples: (train) mean of y values 1.002144308640668.\n",
      "2025-07-17 18:30:36,713 - FilterSamples: (test) mean of y values 1.009289667768362.\n",
      "2025-07-17 18:30:36,715 - FilterSamples: Starting Lincomb\n",
      "2025-07-17 18:30:36,719 -   FilterSamples: Lincomb Iteration 0/2 running.\n",
      "2025-07-17 18:30:37,578 - FilterSamples: Best init score 1.0081\n"
     ]
    },
    {
     "name": "stderr",
     "output_type": "stream",
     "text": [
      "Epochs: 100%|██████████| 800/800 [00:04<00:00, 192.82it/s, mean_perdate_v=1.0142, mean_v=1.0162]\n"
     ]
    },
    {
     "name": "stdout",
     "output_type": "stream",
     "text": [
      "2025-07-17 18:30:43,096 -   Mean target (train): 1.0205337751776387\n",
      "2025-07-17 18:30:43,100 -   Number of features selected: 455\n",
      "2025-07-17 18:30:43,101 -   Max distance between idces: 239\n",
      "2025-07-17 18:30:43,101 -   Mean distance between idces: 19.865899191039205\n",
      "2025-07-17 18:30:43,101 -   Median distance between idces: 9.0\n",
      "2025-07-17 18:30:43,121 -   Mean target (test): 1.0119365688090924\n",
      "2025-07-17 18:30:43,121 -   Fraction of days with no coverage by test mask: 3.85%\n",
      "2025-07-17 18:30:43,121 -   w quantile     : 13.325568199157715\n",
      "2025-07-17 18:30:43,129 -   w_test quantile: 8.555083274841309\n",
      "2025-07-17 18:30:43,131 -     Top-0 feature: Fourier_Price_RSMECoeff_4_MH_8\n",
      "2025-07-17 18:30:43,132 -     Top-1 feature: Fourier_Price_SignCoeff_1_MH_12\n",
      "2025-07-17 18:30:43,132 -     Top-2 feature: FeatureTA_volatility_bbw\n",
      "2025-07-17 18:30:43,132 -     Top-3 feature: FinData_quar_commonStockSharesOutstanding_nivRev\n",
      "2025-07-17 18:30:43,133 -     Top-4 feature: Fourier_Price_RSMERatioCoeff_1_MH_6\n",
      "2025-07-17 18:30:43,133 -     Top-5 feature: FinData_quar_grossProfit_nivRevLag_qm7\n",
      "2025-07-17 18:30:43,133 -     Top-6 feature: FinData_quar_grossProfit_nivRevLag_qm3\n",
      "2025-07-17 18:30:43,134 -     Top-7 feature: FeatureTA_volume_sma_em\n",
      "2025-07-17 18:30:43,134 -     Top-8 feature: FinData_ann_ebit_nivRevLag_am3\n",
      "2025-07-17 18:30:43,135 -     Top-9 feature: FinData_quar_grossProfit_nivRevLag_qm11\n",
      "2025-07-17 18:30:43,136 -   FilterSamples: Lincomb Iteration 1/2 running.\n",
      "2025-07-17 18:30:43,651 - FilterSamples: Best init score 1.0070\n"
     ]
    },
    {
     "name": "stderr",
     "output_type": "stream",
     "text": [
      "Epochs: 100%|██████████| 800/800 [00:04<00:00, 190.25it/s, mean_perdate_v=1.0117, mean_v=1.0124]\n"
     ]
    },
    {
     "name": "stdout",
     "output_type": "stream",
     "text": [
      "2025-07-17 18:30:48,708 -   Mean target (train): 1.016418343545219\n",
      "2025-07-17 18:30:48,709 -   Number of features selected: 263\n",
      "2025-07-17 18:30:48,709 -   Max distance between idces: 239\n",
      "2025-07-17 18:30:48,710 -   Mean distance between idces: 19.951462352209084\n",
      "2025-07-17 18:30:48,710 -   Median distance between idces: 9.0\n",
      "2025-07-17 18:30:48,722 -   Mean target (test): 1.0093249537180555\n",
      "2025-07-17 18:30:48,725 -   Fraction of days with no coverage by test mask: 0.00%\n",
      "2025-07-17 18:30:48,727 -   w quantile     : 11.769609451293945\n",
      "2025-07-17 18:30:48,728 -   w_test quantile: 5.626058578491211\n",
      "2025-07-17 18:30:48,728 -     Top-0 feature: Fourier_ReturnLog_RSMECoeff_3_MH_12\n",
      "2025-07-17 18:30:48,730 -     Top-1 feature: Fourier_Price_SignCoeff_1_MH_12\n",
      "2025-07-17 18:30:48,731 -     Top-2 feature: Fourier_Price_RSMERatioCoeff_1_MH_6\n",
      "2025-07-17 18:30:48,731 -     Top-3 feature: Fourier_Price_RSMERatioCoeff_1_MH_2\n",
      "2025-07-17 18:30:48,732 -     Top-4 feature: FinData_quar_ebit_nivRevLag_qm4\n",
      "2025-07-17 18:30:48,732 -     Top-5 feature: FinData_quar_grossProfit_nivRevLag_qm5\n",
      "2025-07-17 18:30:48,732 -     Top-6 feature: FinData_quar_grossProfit_nivRevLag_qm7\n",
      "2025-07-17 18:30:48,732 -     Top-7 feature: FeatureGroup_VolGrRk\n",
      "2025-07-17 18:30:48,732 -     Top-8 feature: FinData_quar_reportTime\n",
      "2025-07-17 18:30:48,732 -     Top-9 feature: Fourier_Price_RSMECoeff_2_MH_1\n",
      "2025-07-17 18:30:48,926 - FilterSamples: Final score (train): 1.0073\n",
      "2025-07-17 18:30:48,926 - FilterSamples: Final score (test): 1.0093\n",
      "2025-07-17 18:30:48,929 - \n",
      "2025-07-17 18:30:48,929 - END DATE 2023-10-12\n",
      "2025-07-17 18:30:48,930 - Mean of all test scores: 1.0031214091664167\n",
      "2025-07-17 18:30:48,931 - \n",
      "2025-07-17 18:30:48,931 - Training score: 1.0072503610713524, testing score: 1.0093249537180555\n",
      "2025-07-17 18:30:50,134 - FilterSamples: (train) mean of y values 1.0024217414174654.\n",
      "2025-07-17 18:30:50,140 - FilterSamples: (test) mean of y values 1.0079189932120325.\n",
      "2025-07-17 18:30:50,141 - FilterSamples: Starting Lincomb\n",
      "2025-07-17 18:30:50,145 -   FilterSamples: Lincomb Iteration 0/2 running.\n",
      "2025-07-17 18:30:51,101 - FilterSamples: Best init score 1.0068\n"
     ]
    },
    {
     "name": "stderr",
     "output_type": "stream",
     "text": [
      "Epochs: 100%|██████████| 800/800 [00:04<00:00, 191.92it/s, mean_perdate_v=1.0130, mean_v=1.0132]\n"
     ]
    },
    {
     "name": "stdout",
     "output_type": "stream",
     "text": [
      "2025-07-17 18:30:56,652 -   Mean target (train): 1.0181995944527389\n",
      "2025-07-17 18:30:56,652 -   Number of features selected: 455\n",
      "2025-07-17 18:30:56,655 -   Max distance between idces: 239\n",
      "2025-07-17 18:30:56,655 -   Mean distance between idces: 19.997510889856876\n",
      "2025-07-17 18:30:56,655 -   Median distance between idces: 9.0\n",
      "2025-07-17 18:30:56,677 -   Mean target (test): 1.0087204770017781\n",
      "2025-07-17 18:30:56,679 -   Fraction of days with no coverage by test mask: 0.00%\n",
      "2025-07-17 18:30:56,681 -   w quantile     : 13.642681121826172\n",
      "2025-07-17 18:30:56,681 -   w_test quantile: 11.481939315795898\n",
      "2025-07-17 18:30:56,682 -     Top-0 feature: FeatureGroup_VolGrRk\n",
      "2025-07-17 18:30:56,682 -     Top-1 feature: Fourier_Price_RSMERatioCoeff_1_MH_6\n",
      "2025-07-17 18:30:56,682 -     Top-2 feature: Fourier_Price_AmpCoeff_1_MH_4\n",
      "2025-07-17 18:30:56,683 -     Top-3 feature: FeatureTA_volatility_bbw\n",
      "2025-07-17 18:30:56,683 -     Top-4 feature: Fourier_Price_RSMECoeff_1_MH_4\n",
      "2025-07-17 18:30:56,684 -     Top-5 feature: Fourier_Price_AmpCoeff_4_MH_12\n",
      "2025-07-17 18:30:56,684 -     Top-6 feature: FinData_quar_operatingCashflow_nivRevLag_qm11\n",
      "2025-07-17 18:30:56,685 -     Top-7 feature: Fourier_Price_SignCoeff_2_MH_1\n",
      "2025-07-17 18:30:56,685 -     Top-8 feature: FeatureTA_volume_sma_em\n",
      "2025-07-17 18:30:56,686 -     Top-9 feature: FinData_quar_grossProfit_nivRevLag_qm3\n",
      "2025-07-17 18:30:56,686 -   FilterSamples: Lincomb Iteration 1/2 running.\n",
      "2025-07-17 18:30:57,201 - FilterSamples: Best init score 1.0068\n"
     ]
    },
    {
     "name": "stderr",
     "output_type": "stream",
     "text": [
      "Epochs: 100%|██████████| 800/800 [00:04<00:00, 196.45it/s, mean_perdate_v=1.0108, mean_v=1.0108]\n"
     ]
    },
    {
     "name": "stdout",
     "output_type": "stream",
     "text": [
      "2025-07-17 18:31:02,142 -   Mean target (train): 1.0149261587680325\n",
      "2025-07-17 18:31:02,144 -   Number of features selected: 263\n",
      "2025-07-17 18:31:02,144 -   Max distance between idces: 226\n",
      "2025-07-17 18:31:02,144 -   Mean distance between idces: 19.997510889856876\n",
      "2025-07-17 18:31:02,147 -   Median distance between idces: 9.0\n",
      "2025-07-17 18:31:02,158 -   Mean target (test): 1.0068675672786327\n",
      "2025-07-17 18:31:02,162 -   Fraction of days with no coverage by test mask: 0.00%\n",
      "2025-07-17 18:31:02,163 -   w quantile     : 10.567854881286621\n",
      "2025-07-17 18:31:02,163 -   w_test quantile: 8.569337844848633\n",
      "2025-07-17 18:31:02,163 -     Top-0 feature: Fourier_Price_AmpCoeff_2_MH_1\n",
      "2025-07-17 18:31:02,163 -     Top-1 feature: Fourier_Price_RSMERatioCoeff_1_MH_6\n",
      "2025-07-17 18:31:02,163 -     Top-2 feature: Fourier_Price_AmpCoeff_1_MH_4\n",
      "2025-07-17 18:31:02,163 -     Top-3 feature: FinData_quar_operatingCashflow_nivRevLag_qm7\n",
      "2025-07-17 18:31:02,163 -     Top-4 feature: FinData_quar_operatingCashflow_nivRevLag_qm5\n",
      "2025-07-17 18:31:02,163 -     Top-5 feature: FinData_quar_grossProfit_nivRevLag_qm8\n",
      "2025-07-17 18:31:02,163 -     Top-6 feature: FinData_quar_grossProfit_nivRevLag_qm3\n",
      "2025-07-17 18:31:02,163 -     Top-7 feature: FinData_quar_grossProfit_nivRevLag_qm6\n",
      "2025-07-17 18:31:02,163 -     Top-8 feature: FinData_quar_commonStockSharesOutstanding_nivRev\n",
      "2025-07-17 18:31:02,170 -     Top-9 feature: FinData_quar_operatingCashflow_nivRevLag_qm11\n",
      "2025-07-17 18:31:02,381 - FilterSamples: Final score (train): 1.0062\n",
      "2025-07-17 18:31:02,381 - FilterSamples: Final score (test): 1.0069\n",
      "2025-07-17 18:31:02,381 - \n",
      "2025-07-17 18:31:02,381 - END DATE 2023-12-01\n",
      "2025-07-17 18:31:02,381 - Mean of all test scores: 1.0040579486944705\n",
      "2025-07-17 18:31:02,381 - \n",
      "2025-07-17 18:31:02,381 - Training score: 1.0062451889106194, testing score: 1.0068675672786327\n",
      "2025-07-17 18:31:03,782 - FilterSamples: (train) mean of y values 1.0025621716223028.\n",
      "2025-07-17 18:31:03,782 - FilterSamples: (test) mean of y values 1.007250518395928.\n",
      "2025-07-17 18:31:03,786 - FilterSamples: Starting Lincomb\n",
      "2025-07-17 18:31:03,791 -   FilterSamples: Lincomb Iteration 0/2 running.\n",
      "2025-07-17 18:31:04,747 - FilterSamples: Best init score 1.0084\n"
     ]
    },
    {
     "name": "stderr",
     "output_type": "stream",
     "text": [
      "Epochs: 100%|██████████| 800/800 [00:04<00:00, 193.80it/s, mean_perdate_v=1.0126, mean_v=1.0138]\n"
     ]
    },
    {
     "name": "stdout",
     "output_type": "stream",
     "text": [
      "2025-07-17 18:31:10,341 -   Mean target (train): 1.0169507561628224\n",
      "2025-07-17 18:31:10,341 -   Number of features selected: 455\n",
      "2025-07-17 18:31:10,341 -   Max distance between idces: 239\n",
      "2025-07-17 18:31:10,341 -   Mean distance between idces: 19.9477286869944\n",
      "2025-07-17 18:31:10,341 -   Median distance between idces: 10.0\n",
      "2025-07-17 18:31:10,365 -   Mean target (test): 1.0124262996438576\n",
      "2025-07-17 18:31:10,367 -   Fraction of days with no coverage by test mask: 0.00%\n",
      "2025-07-17 18:31:10,369 -   w quantile     : 11.497292518615723\n",
      "2025-07-17 18:31:10,369 -   w_test quantile: 8.371849060058594\n",
      "2025-07-17 18:31:10,370 -     Top-0 feature: MathFeature_Drawup_MH12\n",
      "2025-07-17 18:31:10,370 -     Top-1 feature: FinData_metrics_log_pb_ratio\n",
      "2025-07-17 18:31:10,371 -     Top-2 feature: Fourier_Price_RSMERatioCoeff_1_MH_12\n",
      "2025-07-17 18:31:10,371 -     Top-3 feature: FinData_quar_grossProfit_nivRevLag_qm7\n",
      "2025-07-17 18:31:10,372 -     Top-4 feature: FinData_quar_grossProfit_nivRevLag_qm11\n",
      "2025-07-17 18:31:10,372 -     Top-5 feature: Fourier_Price_SignCoeff_4_MH_12\n",
      "2025-07-17 18:31:10,373 -     Top-6 feature: FinData_quar_ebit_nivRevLag_qm8\n",
      "2025-07-17 18:31:10,373 -     Top-7 feature: FinData_quar_grossProfit_nivRevLag_qm8\n",
      "2025-07-17 18:31:10,373 -     Top-8 feature: FeatureTA_volatility_ui\n",
      "2025-07-17 18:31:10,374 -     Top-9 feature: Fourier_Price_RSMERatioCoeff_4_MH_6\n",
      "2025-07-17 18:31:10,374 -   FilterSamples: Lincomb Iteration 1/2 running.\n",
      "2025-07-17 18:31:10,906 - FilterSamples: Best init score 1.0084\n"
     ]
    },
    {
     "name": "stderr",
     "output_type": "stream",
     "text": [
      "Epochs: 100%|██████████| 800/800 [00:04<00:00, 191.10it/s, mean_perdate_v=1.0107, mean_v=1.0105]\n"
     ]
    },
    {
     "name": "stdout",
     "output_type": "stream",
     "text": [
      "2025-07-17 18:31:15,991 -   Mean target (train): 1.0153430810713975\n",
      "2025-07-17 18:31:15,991 -   Number of features selected: 263\n",
      "2025-07-17 18:31:15,991 -   Max distance between idces: 225\n",
      "2025-07-17 18:31:15,991 -   Mean distance between idces: 19.979464841319228\n",
      "2025-07-17 18:31:15,991 -   Median distance between idces: 9.0\n",
      "2025-07-17 18:31:16,007 -   Mean target (test): 1.0134887691258545\n",
      "2025-07-17 18:31:16,008 -   Fraction of days with no coverage by test mask: 0.00%\n",
      "2025-07-17 18:31:16,010 -   w quantile     : 9.109771728515625\n",
      "2025-07-17 18:31:16,011 -   w_test quantile: 7.098681926727295\n",
      "2025-07-17 18:31:16,012 -     Top-0 feature: MathFeature_Drawup_MH12\n",
      "2025-07-17 18:31:16,013 -     Top-1 feature: FeatureGroup_VolGrLvl\n",
      "2025-07-17 18:31:16,013 -     Top-2 feature: FinData_metrics_log_pb_ratio\n",
      "2025-07-17 18:31:16,013 -     Top-3 feature: FinData_quar_reportTime\n",
      "2025-07-17 18:31:16,013 -     Top-4 feature: Fourier_Price_RSMERatioCoeff_1_MH_6\n",
      "2025-07-17 18:31:16,013 -     Top-5 feature: FinData_quar_grossProfit_nivRevLag_qm8\n",
      "2025-07-17 18:31:16,013 -     Top-6 feature: FeatureTA_volume_sma_em\n",
      "2025-07-17 18:31:16,013 -     Top-7 feature: FeatureTA_volatility_ui\n",
      "2025-07-17 18:31:16,013 -     Top-8 feature: Fourier_Price_AmpCoeff_2_MH_1\n",
      "2025-07-17 18:31:16,017 -     Top-9 feature: FinData_quar_grossProfit_nivRevLag_qm6\n",
      "2025-07-17 18:31:16,341 - FilterSamples: Final score (train): 1.0086\n",
      "2025-07-17 18:31:16,350 - FilterSamples: Final score (test): 1.0135\n",
      "2025-07-17 18:31:16,350 - \n",
      "2025-07-17 18:31:16,351 - END DATE 2024-02-02\n",
      "2025-07-17 18:31:16,352 - Mean of all test scores: 1.0059441127807474\n",
      "2025-07-17 18:31:16,352 - \n",
      "2025-07-17 18:31:16,352 - Training score: 1.0086061349665103, testing score: 1.0134887691258545\n"
     ]
    }
   ],
   "source": [
    "end_train_dates = sorted([\n",
    "    datetime.date(2024,  2,  1) - datetime.timedelta(days=i*60 + random.randint(-10,10)) \n",
    "    for i in range(5)\n",
    "])\n",
    "\n",
    "test_scores = []\n",
    "for i, end_date in enumerate(end_train_dates):\n",
    "    split_f = 0.90\n",
    "    train_days = 390  # 2 years of training data\n",
    "    test_days = int(train_days * (1-split_f)) \n",
    "    \n",
    "    (\n",
    "        Xtree_train,\n",
    "        Xtree_test,\n",
    "        ytree_train,\n",
    "        ytree_test,\n",
    "        samples_dates_train,\n",
    "        samples_dates_test\n",
    "    ) = est_samples(Xtree_all, ytree_all, dates, end_date, test_days=test_days)\n",
    "            \n",
    "    fs_params[\"FilterSamples_days_to_train_end\"] = train_days\n",
    "    fs = FilterSamples(\n",
    "        Xtree_train = Xtree_train,\n",
    "        ytree_train = ytree_train,\n",
    "        treenames = ls.featureTreeNames,\n",
    "        Xtree_test = Xtree_test,\n",
    "        samples_dates_train = samples_dates_train,\n",
    "        samples_dates_test = samples_dates_test,\n",
    "        ytree_test = ytree_test,\n",
    "        params = fs_params\n",
    "    )\n",
    "    \n",
    "    _, _, s_tr, s_te = fs.run()\n",
    "    s_te = 1.0 if s_te is None or s_te < 0.5 else s_te\n",
    "    test_scores.append(s_te)\n",
    "    \n",
    "    logger.info(f\"\")\n",
    "    logger.info(f\"END DATE {end_date}\")\n",
    "    logger.info(f\"Mean of all test scores: {np.mean([s for s in test_scores if ~np.isnan(s) or s is not None])}\")\n",
    "    logger.info(\"\")\n",
    "    \n",
    "    logger.info(f\"Training score: {(s_tr)}, testing score: {(s_te)}\")\n",
    "\n"
   ]
  }
 ],
 "metadata": {
  "kernelspec": {
   "display_name": ".venv",
   "language": "python",
   "name": "python3"
  },
  "language_info": {
   "codemirror_mode": {
    "name": "ipython",
    "version": 3
   },
   "file_extension": ".py",
   "mimetype": "text/x-python",
   "name": "python",
   "nbconvert_exporter": "python",
   "pygments_lexer": "ipython3",
   "version": "3.12.10"
  }
 },
 "nbformat": 4,
 "nbformat_minor": 5
}
