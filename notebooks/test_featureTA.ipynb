{
 "cells": [
  {
   "cell_type": "code",
   "execution_count": 1,
   "metadata": {},
   "outputs": [],
   "source": [
    "import sys\n",
    "import os\n",
    "\n",
    "# Get the absolute path to the project directory\n",
    "project_dir = os.path.abspath(\"..\")\n",
    "\n",
    "# Append the project directory to sys.path\n",
    "if project_dir not in sys.path:\n",
    "    sys.path.append(project_dir)"
   ]
  },
  {
   "cell_type": "code",
   "execution_count": 2,
   "metadata": {},
   "outputs": [],
   "source": [
    "import sys\n",
    "import os\n",
    "\n",
    "# Get the absolute path to the project directory\n",
    "project_dir = os.path.abspath(\"..\")\n",
    "\n",
    "# Append the project directory to sys.path\n",
    "if project_dir not in sys.path:\n",
    "    sys.path.append(project_dir)\n",
    "\n",
    "import pandas as pd\n",
    "import numpy as np\n",
    "import os\n",
    "from typing import Dict\n",
    "import datetime as dt\n",
    "from src.common.DataFrameTimeOperations import DataFrameTimeOperations as DOps\n",
    "\n",
    "from src.common.AssetDataPolars import AssetDataPolars\n",
    "from src.common.AssetDataService import AssetDataService\n",
    "from src.common.AssetFileInOut import AssetFileInOut \n",
    "from src.featureAlchemy.FeatureTA import FeatureTA\n",
    "from src.featureAlchemy.FeatureTATS import FeatureTATS\n"
   ]
  },
  {
   "cell_type": "code",
   "execution_count": 3,
   "metadata": {},
   "outputs": [],
   "source": [
    "assets=AssetFileInOut(\"../src/stockGroups/bin\").loadDictFromFile(\"group_debug\")\n",
    "\n",
    "# Convert to Polars for speedup\n",
    "assetspl: Dict[str, AssetDataPolars] = {}\n",
    "for ticker, asset in assets.items():\n",
    "    assetspl[ticker] = AssetDataService.to_polars(asset)"
   ]
  },
  {
   "cell_type": "code",
   "execution_count": 4,
   "metadata": {},
   "outputs": [],
   "source": [
    "asset = assetspl[\"EXC\"]\n",
    "params = {\n",
    "    'timesteps': 50,\n",
    "    'lagList': [1, 2, 3, 5, 9],\n",
    "}\n",
    "workdays = pd.date_range(start=dt.date(2020, 1, 1), end=dt.date(2020, 12, 31), freq='B')\n",
    "dates = [date.date() for date in workdays]\n",
    "startDate = pd.Timestamp(2019, 7, 15, tz=\"UTC\").date()\n",
    "endDate = pd.Timestamp(2021, 7, 15, tz=\"UTC\").date()\n",
    "ffd = FeatureTA(asset, startDate, endDate, params=params)"
   ]
  },
  {
   "cell_type": "code",
   "execution_count": 5,
   "metadata": {},
   "outputs": [
    {
     "name": "stdout",
     "output_type": "stream",
     "text": [
      "1.0026596\n",
      "1.0151391\n",
      "1.002659574468085\n",
      "1.015139116202946\n",
      "2019-07-15\n"
     ]
    }
   ],
   "source": [
    "featureNames = ffd.getFeatureNames()\n",
    "features = ffd.apply(dates)\n",
    "\n",
    "date4 = pd.Timestamp(2019, 7, 15, tz = \"UTC\").date()\n",
    "features4 = ffd.apply([date4])\n",
    "date5 = pd.Timestamp(2019, 7, 16, tz = \"UTC\").date()\n",
    "features5 = ffd.apply([date5])\n",
    "\n",
    "print(features4[0,0])\n",
    "print(features4[0,85])\n",
    "\n",
    "idx = DOps(asset.shareprice).getNextLowerOrEqualIndex(date4)\n",
    "openprice = asset.shareprice[\"Open\"].item(idx)\n",
    "openpricelast = asset.shareprice[\"Open\"].item(idx-1)\n",
    "closeprice = asset.shareprice[\"Close\"].item(idx)\n",
    "closepricelast = asset.shareprice[\"Close\"].item(idx-1)\n",
    "print(openprice/closeprice)\n",
    "print(openpricelast/closeprice)\n",
    "print(asset.shareprice[\"Date\"].item(idx))"
   ]
  },
  {
   "cell_type": "code",
   "execution_count": 7,
   "metadata": {},
   "outputs": [
    {
     "name": "stdout",
     "output_type": "stream",
     "text": [
      "[1.0151391 1.0026596]\n"
     ]
    }
   ],
   "source": [
    "ffdts = FeatureTATS(asset, startDate, endDate, params=params)\n",
    "featureNamesTS = ffdts.getFeatureNames()\n",
    "featuresTS1 = ffdts.apply(dates)\n",
    "openidx = featureNamesTS.index(\"FeatureTA_Open\")\n",
    "\n",
    "featureTS0 = featuresTS1[0]\n",
    "featureTS1 = featuresTS1[1]\n",
    "\n",
    "featurests4 = ffdts.apply([date4])\n",
    "featurests4_0 = featurests4[0]\n",
    "\n",
    "print(np.arctanh((featurests4_0[-2:,openidx]-0.5)*2.0)+1.0)"
   ]
  },
  {
   "cell_type": "code",
   "execution_count": null,
   "metadata": {},
   "outputs": [],
   "source": []
  }
 ],
 "metadata": {
  "kernelspec": {
   "display_name": ".venv (3.11.3)",
   "language": "python",
   "name": "python3"
  },
  "language_info": {
   "codemirror_mode": {
    "name": "ipython",
    "version": 3
   },
   "file_extension": ".py",
   "mimetype": "text/x-python",
   "name": "python",
   "nbconvert_exporter": "python",
   "pygments_lexer": "ipython3",
   "version": "3.11.3"
  }
 },
 "nbformat": 4,
 "nbformat_minor": 2
}
