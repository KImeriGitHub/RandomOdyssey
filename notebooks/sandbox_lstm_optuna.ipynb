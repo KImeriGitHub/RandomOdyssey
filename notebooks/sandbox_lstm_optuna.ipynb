{
 "cells": [
  {
   "cell_type": "code",
   "execution_count": 1,
   "id": "0c3b363e",
   "metadata": {},
   "outputs": [
    {
     "name": "stdout",
     "output_type": "stream",
     "text": [
      "2025-08-20 18:45:02,107 - This will print to the notebook's output cell\n"
     ]
    },
    {
     "name": "stderr",
     "output_type": "stream",
     "text": [
      "c:\\Users\\kimer\\Desktop\\RandomOdyssey\\.venv\\Lib\\site-packages\\tqdm\\auto.py:21: TqdmWarning: IProgress not found. Please update jupyter and ipywidgets. See https://ipywidgets.readthedocs.io/en/stable/user_install.html\n",
      "  from .autonotebook import tqdm as notebook_tqdm\n"
     ]
    }
   ],
   "source": [
    "import sys\n",
    "import os\n",
    "\n",
    "# Get the absolute path to the project directory\n",
    "project_dir = os.path.abspath(\"..\")\n",
    "\n",
    "# Append the project directory to sys.path\n",
    "if project_dir not in sys.path:\n",
    "    sys.path.append(project_dir)\n",
    "    \n",
    "from src.predictionModule.LoadupSamples import LoadupSamples\n",
    "from src.predictionModule.MachineModels import MachineModels \n",
    "\n",
    "import numpy as np\n",
    "import datetime\n",
    "import pandas as pd\n",
    "import polars as pl\n",
    "import optuna\n",
    "\n",
    "import logging\n",
    "formatted_date = datetime.datetime.now().strftime(\"%d%b%y_%H%M\").lower()\n",
    "\n",
    "logger = logging.getLogger()\n",
    "logger.setLevel(logging.DEBUG)\n",
    "handler = logging.StreamHandler(sys.stdout)\n",
    "formatter = logging.Formatter(fmt=\"%(asctime)s - %(message)s\")\n",
    "handler.setFormatter(formatter)\n",
    "if not logger.hasHandlers():\n",
    "    logger.addHandler(handler)\n",
    "else:\n",
    "    logger.handlers[:] = [handler]\n",
    "\n",
    "#Output File handler\n",
    "formatted_str = f\"notebook-lstm-optuna-{formatted_date}\"\n",
    "file_handler = logging.FileHandler(f\"{formatted_str}.log\", mode=\"w\")\n",
    "file_handler.setFormatter(formatter)\n",
    "logger.addHandler(file_handler)\n",
    "\n",
    "# Usage\n",
    "logger.info(\"This will print to the notebook's output cell\")"
   ]
  },
  {
   "cell_type": "code",
   "execution_count": 2,
   "id": "cb954e7d",
   "metadata": {},
   "outputs": [],
   "source": [
    "# Default params (keeps previous behavior where params corresponds to idxAfterPrediction=5)\n",
    "params_default = {\n",
    "    \"idxAfterPrediction\": 5,\n",
    "    'timesteps': 90,\n",
    "    'target_option': 'last',\n",
    "    \"LoadupSamples_time_scaling_stretch\": True,\n",
    "    \"LoadupSamples_time_inc_factor\": 10,\n",
    "    \n",
    "    \"LSTM_units\": 32,\n",
    "    \"LSTM_num_layers\": 3,\n",
    "    \"LSTM_dropout\": 0.001,\n",
    "    \"LSTM_recurrent_dropout\": 0.001,\n",
    "    \"LSTM_learning_rate\": 0.001,\n",
    "    \"LSTM_optimizer\": \"adam\",\n",
    "    \"LSTM_bidirectional\": True,\n",
    "    \"LSTM_batch_size\": 2**12,\n",
    "    \"LSTM_epochs\": 10,\n",
    "    \"LSTM_l1\": 0.001,\n",
    "    \"LSTM_l2\": 0.001,\n",
    "    \"LSTM_inter_dropout\": 0.001,\n",
    "    \"LSTM_input_gaussian_noise\": 0.001,\n",
    "    \"LSTM_conv1d\": True,\n",
    "    \"LSTM_conv1d_kernel_size\": 3,\n",
    "    \"LSTM_loss\": \"mse\",\n",
    "}"
   ]
  },
  {
   "cell_type": "code",
   "execution_count": null,
   "id": "b05214fc",
   "metadata": {},
   "outputs": [],
   "source": [
    "stock_group = \"group_regOHLCV_over5years\"\n",
    "eval_date = datetime.date(year=2025, month=6, day=13)\n",
    "split_date = datetime.date(year=2023, month=12, day=31)\n",
    "\n",
    "studytime = 60*60*4\n",
    "studyname = f\"sandbox_lstm_optuna_{formatted_str}\"\n",
    "n_startup_trials = 15\n",
    "q_full = 0.99"
   ]
  },
  {
   "cell_type": "code",
   "execution_count": null,
   "id": "ed3912a3",
   "metadata": {},
   "outputs": [
    {
     "name": "stderr",
     "output_type": "stream",
     "text": [
      "[I 2025-08-20 18:45:02,511] A new study created in RDB with name: sandbox_lstm_optuna_notebook-lstm-optuna-20aug25_1845\n"
     ]
    },
    {
     "name": "stdout",
     "output_type": "stream",
     "text": [
      "2025-08-20 18:45:02,511 - A new study created in RDB with name: sandbox_lstm_optuna_notebook-lstm-optuna-20aug25_1845\n",
      "2025-08-20 18:45:07,034 - Non-finite/too-large values in train y time: 84 samples.\n",
      "2025-08-20 18:45:07,039 - Removing 84 samples from training data.\n"
     ]
    },
    {
     "name": "stderr",
     "output_type": "stream",
     "text": [
      "Epochs:   0%|          | 0/2 [00:00<?, ?it/s]"
     ]
    },
    {
     "name": "stdout",
     "output_type": "stream",
     "text": [
      "2025-08-20 18:45:22,265 - Epoch 1/2 — Train RMSE: 0.5229 — Validation RMSE: 0.4340\n"
     ]
    },
    {
     "name": "stderr",
     "output_type": "stream",
     "text": [
      "Epochs:  50%|█████     | 1/2 [00:10<00:10, 10.51s/it]"
     ]
    },
    {
     "name": "stdout",
     "output_type": "stream",
     "text": [
      "2025-08-20 18:45:32,904 - Epoch 2/2 — Train RMSE: 0.4430 — Validation RMSE: 0.4348\n"
     ]
    },
    {
     "name": "stderr",
     "output_type": "stream",
     "text": [
      "Epochs: 100%|██████████| 2/2 [00:21<00:00, 10.57s/it]\n"
     ]
    },
    {
     "name": "stdout",
     "output_type": "stream",
     "text": [
      "2025-08-20 18:45:36,005 - Trial 0 with params: {'idxAfterPrediction': 7, 'timesteps': 50, 'target_option': 'last', 'LoadupSamples_time_scaling_stretch': True, 'LoadupSamples_time_inc_factor': 66, 'LSTM_units': 16, 'LSTM_num_layers': 1, 'LSTM_dropout': 0.030030494726935322, 'LSTM_recurrent_dropout': 0.001, 'LSTM_learning_rate': 0.0007501912916257027, 'LSTM_optimizer': 'adam', 'LSTM_bidirectional': True, 'LSTM_batch_size': 4096, 'LSTM_epochs': 2, 'LSTM_l1': 0.001, 'LSTM_l2': 0.001, 'LSTM_inter_dropout': 0.001, 'LSTM_input_gaussian_noise': 0.001, 'LSTM_conv1d': True, 'LSTM_conv1d_kernel_size': 3, 'LSTM_loss': 'mse', 'year_start': 2023, 'is_single_feature': True}\n",
      "2025-08-20 18:45:36,007 -   q0: 0.9980\n",
      "2025-08-20 18:45:36,007 -   Duration0: 0:00:25.569121\n",
      "2025-08-20 18:45:36,008 -   Val RMSE0 adjusted: 0.0066\n",
      "2025-08-20 18:45:36,009 -   Mean all prediction: 1.0024\n",
      "2025-08-20 18:45:36,010 -   Mean above prediction: 1.0070\n",
      "2025-08-20 18:45:36,010 -   Mean below prediction: 0.9936\n",
      "2025-08-20 18:45:36,011 -   Quantile 0.99 for distance in mask above: 4485.339999999983\n",
      "2025-08-20 18:45:36,012 -   Quantile 0.99 for distance in mask below: 4043.479999999988\n",
      "2025-08-20 18:45:36,012 -   Ratio for quantile-distance-to-length above: 0.0068\n",
      "2025-08-20 18:45:36,014 -   Ratio for quantile-distance-to-length below: 0.0061\n",
      "2025-08-20 18:45:36,014 -   Score: 1.0010\n"
     ]
    },
    {
     "name": "stderr",
     "output_type": "stream",
     "text": [
      "[I 2025-08-20 18:45:36,050] Trial 0 finished with value: 1.0009905529616727 and parameters: {'year_start': 2023, 'idxAfterPrediction': 7, 'LoadupSamples_time_inc_factor': 66, 'timesteps': 50, 'LSTM_learning_rate': 0.0007501912916257027, 'LSTM_dropout': 0.030030494726935322, 'is_single_feature': True}. Best is trial 0 with value: 1.0009905529616727.\n"
     ]
    },
    {
     "name": "stdout",
     "output_type": "stream",
     "text": [
      "2025-08-20 18:45:36,050 - Trial 0 finished with value: 1.0009905529616727 and parameters: {'year_start': 2023, 'idxAfterPrediction': 7, 'LoadupSamples_time_inc_factor': 66, 'timesteps': 50, 'LSTM_learning_rate': 0.0007501912916257027, 'LSTM_dropout': 0.030030494726935322, 'is_single_feature': True}. Best is trial 0 with value: 1.0009905529616727.\n",
      "2025-08-20 18:45:42,104 - Non-finite/too-large values in train y time: 72 samples.\n",
      "2025-08-20 18:45:42,107 - Removing 72 samples from training data.\n"
     ]
    },
    {
     "name": "stderr",
     "output_type": "stream",
     "text": [
      "Epochs:   0%|          | 0/2 [00:00<?, ?it/s]"
     ]
    },
    {
     "name": "stdout",
     "output_type": "stream",
     "text": [
      "2025-08-20 18:46:03,939 - Epoch 1/2 — Train RMSE: 0.4194 — Validation RMSE: 0.3972\n"
     ]
    },
    {
     "name": "stderr",
     "output_type": "stream",
     "text": [
      "Epochs:  50%|█████     | 1/2 [00:15<00:15, 15.47s/it]"
     ]
    },
    {
     "name": "stdout",
     "output_type": "stream",
     "text": [
      "2025-08-20 18:46:19,581 - Epoch 2/2 — Train RMSE: 0.4104 — Validation RMSE: 0.3972\n"
     ]
    },
    {
     "name": "stderr",
     "output_type": "stream",
     "text": [
      "Epochs: 100%|██████████| 2/2 [00:31<00:00, 15.55s/it]\n"
     ]
    },
    {
     "name": "stdout",
     "output_type": "stream",
     "text": [
      "2025-08-20 18:46:23,078 - Trial 1 with params: {'idxAfterPrediction': 6, 'timesteps': 70, 'target_option': 'last', 'LoadupSamples_time_scaling_stretch': True, 'LoadupSamples_time_inc_factor': 46, 'LSTM_units': 16, 'LSTM_num_layers': 1, 'LSTM_dropout': 0.002037737923171308, 'LSTM_recurrent_dropout': 0.001, 'LSTM_learning_rate': 0.0003409048715737739, 'LSTM_optimizer': 'adam', 'LSTM_bidirectional': True, 'LSTM_batch_size': 4096, 'LSTM_epochs': 2, 'LSTM_l1': 0.001, 'LSTM_l2': 0.001, 'LSTM_inter_dropout': 0.001, 'LSTM_input_gaussian_noise': 0.001, 'LSTM_conv1d': True, 'LSTM_conv1d_kernel_size': 3, 'LSTM_loss': 'mse', 'year_start': 2022, 'is_single_feature': True}\n",
      "2025-08-20 18:46:23,078 -   q0: 0.9980\n",
      "2025-08-20 18:46:23,078 -   Duration0: 0:00:34.647297\n",
      "2025-08-20 18:46:23,094 -   Val RMSE0 adjusted: 0.0086\n",
      "2025-08-20 18:46:23,097 -   Mean all prediction: 1.0019\n",
      "2025-08-20 18:46:23,097 -   Mean above prediction: 1.0012\n",
      "2025-08-20 18:46:23,098 -   Mean below prediction: 0.9942\n",
      "2025-08-20 18:46:23,099 -   Quantile 0.99 for distance in mask above: 4552.139999999995\n",
      "2025-08-20 18:46:23,100 -   Quantile 0.99 for distance in mask below: 3545.0599999999877\n",
      "2025-08-20 18:46:23,101 -   Ratio for quantile-distance-to-length above: 0.0069\n",
      "2025-08-20 18:46:23,102 -   Ratio for quantile-distance-to-length below: 0.0054\n",
      "2025-08-20 18:46:23,102 -   Score: 1.0002\n"
     ]
    },
    {
     "name": "stderr",
     "output_type": "stream",
     "text": [
      "[I 2025-08-20 18:46:23,153] Trial 1 finished with value: 1.0001917644248588 and parameters: {'year_start': 2022, 'idxAfterPrediction': 6, 'LoadupSamples_time_inc_factor': 46, 'timesteps': 70, 'LSTM_learning_rate': 0.0003409048715737739, 'LSTM_dropout': 0.002037737923171308, 'is_single_feature': True}. Best is trial 0 with value: 1.0009905529616727.\n"
     ]
    },
    {
     "name": "stdout",
     "output_type": "stream",
     "text": [
      "2025-08-20 18:46:23,153 - Trial 1 finished with value: 1.0001917644248588 and parameters: {'year_start': 2022, 'idxAfterPrediction': 6, 'LoadupSamples_time_inc_factor': 46, 'timesteps': 70, 'LSTM_learning_rate': 0.0003409048715737739, 'LSTM_dropout': 0.002037737923171308, 'is_single_feature': True}. Best is trial 0 with value: 1.0009905529616727.\n",
      "2025-08-20 18:46:34,158 - Non-finite/too-large values in train y time: 84 samples.\n",
      "2025-08-20 18:46:34,158 - Removing 84 samples from training data.\n"
     ]
    },
    {
     "name": "stderr",
     "output_type": "stream",
     "text": [
      "Epochs:   0%|          | 0/2 [00:00<?, ?it/s]"
     ]
    },
    {
     "name": "stdout",
     "output_type": "stream",
     "text": [
      "2025-08-20 18:47:16,454 - Epoch 1/2 — Train RMSE: 0.5196 — Validation RMSE: 0.4382\n"
     ]
    },
    {
     "name": "stderr",
     "output_type": "stream",
     "text": [
      "Epochs:  50%|█████     | 1/2 [00:29<00:29, 29.85s/it]"
     ]
    },
    {
     "name": "stdout",
     "output_type": "stream",
     "text": [
      "2025-08-20 18:47:46,691 - Epoch 2/2 — Train RMSE: 0.4234 — Validation RMSE: 0.3981\n"
     ]
    },
    {
     "name": "stderr",
     "output_type": "stream",
     "text": [
      "Epochs: 100%|██████████| 2/2 [01:00<00:00, 30.04s/it]\n"
     ]
    },
    {
     "name": "stdout",
     "output_type": "stream",
     "text": [
      "2025-08-20 18:47:50,199 - Trial 2 with params: {'idxAfterPrediction': 7, 'timesteps': 75, 'target_option': 'last', 'LoadupSamples_time_scaling_stretch': True, 'LoadupSamples_time_inc_factor': 41, 'LSTM_units': 16, 'LSTM_num_layers': 1, 'LSTM_dropout': 0.008228450094349209, 'LSTM_recurrent_dropout': 0.001, 'LSTM_learning_rate': 3.022019306800543e-05, 'LSTM_optimizer': 'adam', 'LSTM_bidirectional': True, 'LSTM_batch_size': 4096, 'LSTM_epochs': 2, 'LSTM_l1': 0.001, 'LSTM_l2': 0.001, 'LSTM_inter_dropout': 0.001, 'LSTM_input_gaussian_noise': 0.001, 'LSTM_conv1d': True, 'LSTM_conv1d_kernel_size': 3, 'LSTM_loss': 'mse', 'year_start': 2019, 'is_single_feature': True}\n",
      "2025-08-20 18:47:50,200 -   q0: 0.9980\n",
      "2025-08-20 18:47:50,200 -   Duration0: 0:01:03.670797\n",
      "2025-08-20 18:47:50,200 -   Val RMSE0 adjusted: 0.0097\n",
      "2025-08-20 18:47:50,202 -   Mean all prediction: 1.0024\n",
      "2025-08-20 18:47:50,202 -   Mean above prediction: 1.0083\n",
      "2025-08-20 18:47:50,203 -   Mean below prediction: 0.9907\n",
      "2025-08-20 18:47:50,204 -   Quantile 0.99 for distance in mask above: 5015.919999999993\n",
      "2025-08-20 18:47:50,205 -   Quantile 0.99 for distance in mask below: 3585.3399999999983\n",
      "2025-08-20 18:47:50,206 -   Ratio for quantile-distance-to-length above: 0.0076\n",
      "2025-08-20 18:47:50,207 -   Ratio for quantile-distance-to-length below: 0.0055\n",
      "2025-08-20 18:47:50,208 -   Score: 1.0012\n"
     ]
    },
    {
     "name": "stderr",
     "output_type": "stream",
     "text": [
      "[I 2025-08-20 18:47:50,307] Trial 2 finished with value: 1.0011747011414274 and parameters: {'year_start': 2019, 'idxAfterPrediction': 7, 'LoadupSamples_time_inc_factor': 41, 'timesteps': 75, 'LSTM_learning_rate': 3.022019306800543e-05, 'LSTM_dropout': 0.008228450094349209, 'is_single_feature': True}. Best is trial 2 with value: 1.0011747011414274.\n"
     ]
    },
    {
     "name": "stdout",
     "output_type": "stream",
     "text": [
      "2025-08-20 18:47:50,307 - Trial 2 finished with value: 1.0011747011414274 and parameters: {'year_start': 2019, 'idxAfterPrediction': 7, 'LoadupSamples_time_inc_factor': 41, 'timesteps': 75, 'LSTM_learning_rate': 3.022019306800543e-05, 'LSTM_dropout': 0.008228450094349209, 'is_single_feature': True}. Best is trial 2 with value: 1.0011747011414274.\n",
      "2025-08-20 18:48:00,904 - Non-finite/too-large values in train y time: 36 samples.\n",
      "2025-08-20 18:48:00,904 - Removing 36 samples from training data.\n"
     ]
    },
    {
     "name": "stderr",
     "output_type": "stream",
     "text": [
      "Epochs:   0%|          | 0/2 [00:00<?, ?it/s]"
     ]
    },
    {
     "name": "stdout",
     "output_type": "stream",
     "text": [
      "2025-08-20 18:48:39,395 - Epoch 1/2 — Train RMSE: 0.3123 — Validation RMSE: 0.2969\n"
     ]
    },
    {
     "name": "stderr",
     "output_type": "stream",
     "text": [
      "Epochs:  50%|█████     | 1/2 [00:29<00:29, 29.77s/it]"
     ]
    },
    {
     "name": "stdout",
     "output_type": "stream",
     "text": [
      "2025-08-20 18:49:08,659 - Epoch 2/2 — Train RMSE: 0.3040 — Validation RMSE: 0.2917\n"
     ]
    },
    {
     "name": "stderr",
     "output_type": "stream",
     "text": [
      "Epochs: 100%|██████████| 2/2 [00:59<00:00, 29.52s/it]\n"
     ]
    },
    {
     "name": "stdout",
     "output_type": "stream",
     "text": [
      "2025-08-20 18:49:11,643 - Trial 3 with params: {'idxAfterPrediction': 3, 'timesteps': 50, 'target_option': 'last', 'LoadupSamples_time_scaling_stretch': True, 'LoadupSamples_time_inc_factor': 26, 'LSTM_units': 16, 'LSTM_num_layers': 1, 'LSTM_dropout': 0.04540886049583057, 'LSTM_recurrent_dropout': 0.001, 'LSTM_learning_rate': 0.0025855332549101166, 'LSTM_optimizer': 'adam', 'LSTM_bidirectional': True, 'LSTM_batch_size': 4096, 'LSTM_epochs': 2, 'LSTM_l1': 0.001, 'LSTM_l2': 0.001, 'LSTM_inter_dropout': 0.001, 'LSTM_input_gaussian_noise': 0.001, 'LSTM_conv1d': True, 'LSTM_conv1d_kernel_size': 3, 'LSTM_loss': 'mse', 'year_start': 2019, 'is_single_feature': True}\n",
      "2025-08-20 18:49:11,644 -   q0: 0.9980\n",
      "2025-08-20 18:49:11,644 -   Duration0: 0:01:02.125668\n",
      "2025-08-20 18:49:11,644 -   Val RMSE0 adjusted: 0.0112\n",
      "2025-08-20 18:49:11,646 -   Mean all prediction: 1.0007\n",
      "2025-08-20 18:49:11,646 -   Mean above prediction: 0.9974\n",
      "2025-08-20 18:49:11,646 -   Mean below prediction: 1.0022\n",
      "2025-08-20 18:49:11,646 -   Quantile 0.99 for distance in mask above: 4444.579999999991\n",
      "2025-08-20 18:49:11,649 -   Quantile 0.99 for distance in mask below: 4063.1499999999783\n",
      "2025-08-20 18:49:11,649 -   Ratio for quantile-distance-to-length above: 0.0068\n",
      "2025-08-20 18:49:11,649 -   Ratio for quantile-distance-to-length below: 0.0062\n",
      "2025-08-20 18:49:11,649 -   Score: 0.9991\n"
     ]
    },
    {
     "name": "stderr",
     "output_type": "stream",
     "text": [
      "[I 2025-08-20 18:49:11,725] Trial 3 finished with value: 0.9991199820317948 and parameters: {'year_start': 2019, 'idxAfterPrediction': 3, 'LoadupSamples_time_inc_factor': 26, 'timesteps': 50, 'LSTM_learning_rate': 0.0025855332549101166, 'LSTM_dropout': 0.04540886049583057, 'is_single_feature': True}. Best is trial 2 with value: 1.0011747011414274.\n"
     ]
    },
    {
     "name": "stdout",
     "output_type": "stream",
     "text": [
      "2025-08-20 18:49:11,725 - Trial 3 finished with value: 0.9991199820317948 and parameters: {'year_start': 2019, 'idxAfterPrediction': 3, 'LoadupSamples_time_inc_factor': 26, 'timesteps': 50, 'LSTM_learning_rate': 0.0025855332549101166, 'LSTM_dropout': 0.04540886049583057, 'is_single_feature': True}. Best is trial 2 with value: 1.0011747011414274.\n",
      "2025-08-20 18:49:16,121 - Non-finite/too-large values in train y time: 96 samples.\n",
      "2025-08-20 18:49:16,124 - Removing 96 samples from training data.\n"
     ]
    },
    {
     "name": "stderr",
     "output_type": "stream",
     "text": [
      "Epochs:   0%|          | 0/2 [00:00<?, ?it/s]"
     ]
    },
    {
     "name": "stdout",
     "output_type": "stream",
     "text": [
      "2025-08-20 18:49:31,805 - Epoch 1/2 — Train RMSE: 0.6479 — Validation RMSE: 0.6215\n"
     ]
    },
    {
     "name": "stderr",
     "output_type": "stream",
     "text": [
      "Epochs:  50%|█████     | 1/2 [00:11<00:11, 11.47s/it]"
     ]
    },
    {
     "name": "stdout",
     "output_type": "stream",
     "text": [
      "2025-08-20 18:49:42,998 - Epoch 2/2 — Train RMSE: 0.6311 — Validation RMSE: 0.6055\n"
     ]
    },
    {
     "name": "stderr",
     "output_type": "stream",
     "text": [
      "Epochs: 100%|██████████| 2/2 [00:22<00:00, 11.33s/it]\n"
     ]
    },
    {
     "name": "stdout",
     "output_type": "stream",
     "text": [
      "2025-08-20 18:49:46,695 - Trial 4 with params: {'idxAfterPrediction': 8, 'timesteps': 65, 'target_option': 'last', 'LoadupSamples_time_scaling_stretch': True, 'LoadupSamples_time_inc_factor': 31, 'LSTM_units': 16, 'LSTM_num_layers': 1, 'LSTM_dropout': 0.01038812299919682, 'LSTM_recurrent_dropout': 0.001, 'LSTM_learning_rate': 2.0003163232027394e-05, 'LSTM_optimizer': 'adam', 'LSTM_bidirectional': True, 'LSTM_batch_size': 4096, 'LSTM_epochs': 2, 'LSTM_l1': 0.001, 'LSTM_l2': 0.001, 'LSTM_inter_dropout': 0.001, 'LSTM_input_gaussian_noise': 0.001, 'LSTM_conv1d': True, 'LSTM_conv1d_kernel_size': 3, 'LSTM_loss': 'mse', 'year_start': 2023, 'is_single_feature': False}\n",
      "2025-08-20 18:49:46,695 -   q0: 0.9980\n",
      "2025-08-20 18:49:46,695 -   Duration0: 0:00:26.433270\n",
      "2025-08-20 18:49:46,695 -   Val RMSE0 adjusted: 0.0195\n",
      "2025-08-20 18:49:46,695 -   Mean all prediction: 1.0028\n",
      "2025-08-20 18:49:46,695 -   Mean above prediction: 1.0011\n",
      "2025-08-20 18:49:46,695 -   Mean below prediction: 1.0070\n",
      "2025-08-20 18:49:46,695 -   Quantile 0.99 for distance in mask above: 4006.2199999999875\n",
      "2025-08-20 18:49:46,695 -   Quantile 0.99 for distance in mask below: 5915.639999999992\n",
      "2025-08-20 18:49:46,695 -   Ratio for quantile-distance-to-length above: 0.0061\n",
      "2025-08-20 18:49:46,695 -   Ratio for quantile-distance-to-length below: 0.0090\n",
      "2025-08-20 18:49:46,711 -   Score: 1.0001\n"
     ]
    },
    {
     "name": "stderr",
     "output_type": "stream",
     "text": [
      "[I 2025-08-20 18:49:46,727] Trial 4 finished with value: 1.000133617188274 and parameters: {'year_start': 2023, 'idxAfterPrediction': 8, 'LoadupSamples_time_inc_factor': 31, 'timesteps': 65, 'LSTM_learning_rate': 2.0003163232027394e-05, 'LSTM_dropout': 0.01038812299919682, 'is_single_feature': False}. Best is trial 2 with value: 1.0011747011414274.\n"
     ]
    },
    {
     "name": "stdout",
     "output_type": "stream",
     "text": [
      "2025-08-20 18:49:46,727 - Trial 4 finished with value: 1.000133617188274 and parameters: {'year_start': 2023, 'idxAfterPrediction': 8, 'LoadupSamples_time_inc_factor': 31, 'timesteps': 65, 'LSTM_learning_rate': 2.0003163232027394e-05, 'LSTM_dropout': 0.01038812299919682, 'is_single_feature': False}. Best is trial 2 with value: 1.0011747011414274.\n",
      "2025-08-20 18:49:51,616 - Non-finite/too-large values in train y time: 84 samples.\n",
      "2025-08-20 18:49:51,620 - Removing 84 samples from training data.\n"
     ]
    },
    {
     "name": "stderr",
     "output_type": "stream",
     "text": [
      "Epochs:   0%|          | 0/2 [00:00<?, ?it/s]"
     ]
    },
    {
     "name": "stdout",
     "output_type": "stream",
     "text": [
      "2025-08-20 18:50:07,025 - Epoch 1/2 — Train RMSE: 0.6914 — Validation RMSE: 0.6432\n"
     ]
    },
    {
     "name": "stderr",
     "output_type": "stream",
     "text": [
      "Epochs:  50%|█████     | 1/2 [00:11<00:11, 11.17s/it]"
     ]
    },
    {
     "name": "stdout",
     "output_type": "stream",
     "text": [
      "2025-08-20 18:50:18,523 - Epoch 2/2 — Train RMSE: 0.6370 — Validation RMSE: 0.5906\n"
     ]
    },
    {
     "name": "stderr",
     "output_type": "stream",
     "text": [
      "Epochs: 100%|██████████| 2/2 [00:22<00:00, 11.33s/it]\n"
     ]
    },
    {
     "name": "stdout",
     "output_type": "stream",
     "text": [
      "2025-08-20 18:50:22,212 - Trial 5 with params: {'idxAfterPrediction': 7, 'timesteps': 65, 'target_option': 'last', 'LoadupSamples_time_scaling_stretch': True, 'LoadupSamples_time_inc_factor': 41, 'LSTM_units': 16, 'LSTM_num_layers': 1, 'LSTM_dropout': 0.002918262683190462, 'LSTM_recurrent_dropout': 0.001, 'LSTM_learning_rate': 4.979050361350569e-05, 'LSTM_optimizer': 'adam', 'LSTM_bidirectional': True, 'LSTM_batch_size': 4096, 'LSTM_epochs': 2, 'LSTM_l1': 0.001, 'LSTM_l2': 0.001, 'LSTM_inter_dropout': 0.001, 'LSTM_input_gaussian_noise': 0.001, 'LSTM_conv1d': True, 'LSTM_conv1d_kernel_size': 3, 'LSTM_loss': 'mse', 'year_start': 2023, 'is_single_feature': True}\n",
      "2025-08-20 18:50:22,212 -   q0: 0.9980\n",
      "2025-08-20 18:50:22,216 -   Duration0: 0:00:26.398716\n",
      "2025-08-20 18:50:22,216 -   Val RMSE0 adjusted: 0.0144\n",
      "2025-08-20 18:50:22,216 -   Mean all prediction: 1.0024\n",
      "2025-08-20 18:50:22,216 -   Mean above prediction: 1.0023\n",
      "2025-08-20 18:50:22,216 -   Mean below prediction: 0.9935\n",
      "2025-08-20 18:50:22,216 -   Quantile 0.99 for distance in mask above: 4775.57999999999\n",
      "2025-08-20 18:50:22,220 -   Quantile 0.99 for distance in mask below: 3595.0599999999977\n",
      "2025-08-20 18:50:22,220 -   Ratio for quantile-distance-to-length above: 0.0073\n",
      "2025-08-20 18:50:22,220 -   Ratio for quantile-distance-to-length below: 0.0055\n",
      "2025-08-20 18:50:22,220 -   Score: 1.0003\n"
     ]
    },
    {
     "name": "stderr",
     "output_type": "stream",
     "text": [
      "[I 2025-08-20 18:50:22,257] Trial 5 finished with value: 1.0003317005024328 and parameters: {'year_start': 2023, 'idxAfterPrediction': 7, 'LoadupSamples_time_inc_factor': 41, 'timesteps': 65, 'LSTM_learning_rate': 4.979050361350569e-05, 'LSTM_dropout': 0.002918262683190462, 'is_single_feature': True}. Best is trial 2 with value: 1.0011747011414274.\n"
     ]
    },
    {
     "name": "stdout",
     "output_type": "stream",
     "text": [
      "2025-08-20 18:50:22,257 - Trial 5 finished with value: 1.0003317005024328 and parameters: {'year_start': 2023, 'idxAfterPrediction': 7, 'LoadupSamples_time_inc_factor': 41, 'timesteps': 65, 'LSTM_learning_rate': 4.979050361350569e-05, 'LSTM_dropout': 0.002918262683190462, 'is_single_feature': True}. Best is trial 2 with value: 1.0011747011414274.\n",
      "2025-08-20 18:50:31,886 - Non-finite/too-large values in train y time: 84 samples.\n",
      "2025-08-20 18:50:31,894 - Removing 84 samples from training data.\n"
     ]
    },
    {
     "name": "stderr",
     "output_type": "stream",
     "text": [
      "Epochs:   0%|          | 0/2 [00:00<?, ?it/s]"
     ]
    },
    {
     "name": "stdout",
     "output_type": "stream",
     "text": [
      "2025-08-20 18:51:07,887 - Epoch 1/2 — Train RMSE: 0.4033 — Validation RMSE: 0.3999\n"
     ]
    },
    {
     "name": "stderr",
     "output_type": "stream",
     "text": [
      "Epochs:  50%|█████     | 1/2 [00:25<00:25, 25.36s/it]"
     ]
    },
    {
     "name": "stdout",
     "output_type": "stream",
     "text": [
      "2025-08-20 18:51:33,547 - Epoch 2/2 — Train RMSE: 0.3908 — Validation RMSE: 0.3724\n"
     ]
    },
    {
     "name": "stderr",
     "output_type": "stream",
     "text": [
      "Epochs: 100%|██████████| 2/2 [00:51<00:00, 25.51s/it]\n"
     ]
    },
    {
     "name": "stdout",
     "output_type": "stream",
     "text": [
      "2025-08-20 18:51:37,500 - Trial 6 with params: {'idxAfterPrediction': 7, 'timesteps': 75, 'target_option': 'last', 'LoadupSamples_time_scaling_stretch': True, 'LoadupSamples_time_inc_factor': 31, 'LSTM_units': 16, 'LSTM_num_layers': 1, 'LSTM_dropout': 0.002793990587164915, 'LSTM_recurrent_dropout': 0.001, 'LSTM_learning_rate': 0.008638644533018432, 'LSTM_optimizer': 'adam', 'LSTM_bidirectional': True, 'LSTM_batch_size': 4096, 'LSTM_epochs': 2, 'LSTM_l1': 0.001, 'LSTM_l2': 0.001, 'LSTM_inter_dropout': 0.001, 'LSTM_input_gaussian_noise': 0.001, 'LSTM_conv1d': True, 'LSTM_conv1d_kernel_size': 3, 'LSTM_loss': 'mse', 'year_start': 2020, 'is_single_feature': True}\n",
      "2025-08-20 18:51:37,500 -   q0: 0.9980\n",
      "2025-08-20 18:51:37,500 -   Duration0: 0:00:55.037162\n",
      "2025-08-20 18:51:37,500 -   Val RMSE0 adjusted: 0.0120\n",
      "2025-08-20 18:51:37,500 -   Mean all prediction: 1.0024\n",
      "2025-08-20 18:51:37,517 -   Mean above prediction: 1.0000\n",
      "2025-08-20 18:51:37,517 -   Mean below prediction: 1.0073\n",
      "2025-08-20 18:51:37,518 -   Quantile 0.99 for distance in mask above: 1670.0500000000025\n",
      "2025-08-20 18:51:37,518 -   Quantile 0.99 for distance in mask below: 1066.0\n",
      "2025-08-20 18:51:37,518 -   Ratio for quantile-distance-to-length above: 0.0025\n",
      "2025-08-20 18:51:37,518 -   Ratio for quantile-distance-to-length below: 0.0016\n",
      "2025-08-20 18:51:37,518 -   Score: 1.0000\n"
     ]
    },
    {
     "name": "stderr",
     "output_type": "stream",
     "text": [
      "[I 2025-08-20 18:51:37,596] Trial 6 finished with value: 0.9999974515481301 and parameters: {'year_start': 2020, 'idxAfterPrediction': 7, 'LoadupSamples_time_inc_factor': 31, 'timesteps': 75, 'LSTM_learning_rate': 0.008638644533018432, 'LSTM_dropout': 0.002793990587164915, 'is_single_feature': True}. Best is trial 2 with value: 1.0011747011414274.\n"
     ]
    },
    {
     "name": "stdout",
     "output_type": "stream",
     "text": [
      "2025-08-20 18:51:37,596 - Trial 6 finished with value: 0.9999974515481301 and parameters: {'year_start': 2020, 'idxAfterPrediction': 7, 'LoadupSamples_time_inc_factor': 31, 'timesteps': 75, 'LSTM_learning_rate': 0.008638644533018432, 'LSTM_dropout': 0.002793990587164915, 'is_single_feature': True}. Best is trial 2 with value: 1.0011747011414274.\n",
      "2025-08-20 18:51:42,260 - Non-finite/too-large values in train y time: 84 samples.\n",
      "2025-08-20 18:51:42,260 - Removing 84 samples from training data.\n"
     ]
    },
    {
     "name": "stderr",
     "output_type": "stream",
     "text": [
      "Epochs:   0%|          | 0/2 [00:00<?, ?it/s]"
     ]
    },
    {
     "name": "stdout",
     "output_type": "stream",
     "text": [
      "2025-08-20 18:51:59,323 - Epoch 1/2 — Train RMSE: 0.3828 — Validation RMSE: 0.3491\n"
     ]
    },
    {
     "name": "stderr",
     "output_type": "stream",
     "text": [
      "Epochs:  50%|█████     | 1/2 [00:11<00:11, 11.38s/it]"
     ]
    },
    {
     "name": "stdout",
     "output_type": "stream",
     "text": [
      "2025-08-20 18:52:10,425 - Epoch 2/2 — Train RMSE: 0.3558 — Validation RMSE: 0.3491\n"
     ]
    },
    {
     "name": "stderr",
     "output_type": "stream",
     "text": [
      "Epochs: 100%|██████████| 2/2 [00:22<00:00, 11.24s/it]\n"
     ]
    },
    {
     "name": "stdout",
     "output_type": "stream",
     "text": [
      "2025-08-20 18:52:14,396 - Trial 7 with params: {'idxAfterPrediction': 7, 'timesteps': 90, 'target_option': 'last', 'LoadupSamples_time_scaling_stretch': True, 'LoadupSamples_time_inc_factor': 26, 'LSTM_units': 16, 'LSTM_num_layers': 1, 'LSTM_dropout': 0.001370050508446234, 'LSTM_recurrent_dropout': 0.001, 'LSTM_learning_rate': 0.0007218269075946026, 'LSTM_optimizer': 'adam', 'LSTM_bidirectional': True, 'LSTM_batch_size': 4096, 'LSTM_epochs': 2, 'LSTM_l1': 0.001, 'LSTM_l2': 0.001, 'LSTM_inter_dropout': 0.001, 'LSTM_input_gaussian_noise': 0.001, 'LSTM_conv1d': True, 'LSTM_conv1d_kernel_size': 3, 'LSTM_loss': 'mse', 'year_start': 2023, 'is_single_feature': True}\n",
      "2025-08-20 18:52:14,396 -   q0: 0.9980\n",
      "2025-08-20 18:52:14,396 -   Duration0: 0:00:26.503801\n",
      "2025-08-20 18:52:14,396 -   Val RMSE0 adjusted: 0.0134\n",
      "2025-08-20 18:52:14,396 -   Mean all prediction: 1.0024\n",
      "2025-08-20 18:52:14,400 -   Mean above prediction: 1.0045\n",
      "2025-08-20 18:52:14,400 -   Mean below prediction: 0.9928\n",
      "2025-08-20 18:52:14,400 -   Quantile 0.99 for distance in mask above: 4331.879999999994\n",
      "2025-08-20 18:52:14,400 -   Quantile 0.99 for distance in mask below: 3427.0199999999995\n",
      "2025-08-20 18:52:14,400 -   Ratio for quantile-distance-to-length above: 0.0066\n",
      "2025-08-20 18:52:14,400 -   Ratio for quantile-distance-to-length below: 0.0052\n",
      "2025-08-20 18:52:14,404 -   Score: 1.0006\n"
     ]
    },
    {
     "name": "stderr",
     "output_type": "stream",
     "text": [
      "[I 2025-08-20 18:52:14,452] Trial 7 finished with value: 1.0006469971417717 and parameters: {'year_start': 2023, 'idxAfterPrediction': 7, 'LoadupSamples_time_inc_factor': 26, 'timesteps': 90, 'LSTM_learning_rate': 0.0007218269075946026, 'LSTM_dropout': 0.001370050508446234, 'is_single_feature': True}. Best is trial 2 with value: 1.0011747011414274.\n"
     ]
    },
    {
     "name": "stdout",
     "output_type": "stream",
     "text": [
      "2025-08-20 18:52:14,452 - Trial 7 finished with value: 1.0006469971417717 and parameters: {'year_start': 2023, 'idxAfterPrediction': 7, 'LoadupSamples_time_inc_factor': 26, 'timesteps': 90, 'LSTM_learning_rate': 0.0007218269075946026, 'LSTM_dropout': 0.001370050508446234, 'is_single_feature': True}. Best is trial 2 with value: 1.0011747011414274.\n",
      "2025-08-20 18:52:20,395 - Non-finite/too-large values in train y time: 72 samples.\n",
      "2025-08-20 18:52:20,399 - Removing 72 samples from training data.\n"
     ]
    },
    {
     "name": "stderr",
     "output_type": "stream",
     "text": [
      "Epochs:   0%|          | 0/2 [00:00<?, ?it/s]"
     ]
    },
    {
     "name": "stdout",
     "output_type": "stream",
     "text": [
      "2025-08-20 18:52:39,939 - Epoch 1/2 — Train RMSE: 0.5182 — Validation RMSE: 0.4654\n"
     ]
    },
    {
     "name": "stderr",
     "output_type": "stream",
     "text": [
      "Epochs:  50%|█████     | 1/2 [00:15<00:15, 15.24s/it]"
     ]
    },
    {
     "name": "stdout",
     "output_type": "stream",
     "text": [
      "2025-08-20 18:52:55,813 - Epoch 2/2 — Train RMSE: 0.4470 — Validation RMSE: 0.4105\n"
     ]
    },
    {
     "name": "stderr",
     "output_type": "stream",
     "text": [
      "Epochs: 100%|██████████| 2/2 [00:31<00:00, 15.56s/it]\n"
     ]
    },
    {
     "name": "stdout",
     "output_type": "stream",
     "text": [
      "2025-08-20 18:52:58,993 - Trial 8 with params: {'idxAfterPrediction': 6, 'timesteps': 45, 'target_option': 'last', 'LoadupSamples_time_scaling_stretch': True, 'LoadupSamples_time_inc_factor': 41, 'LSTM_units': 16, 'LSTM_num_layers': 1, 'LSTM_dropout': 0.05721044589193572, 'LSTM_recurrent_dropout': 0.001, 'LSTM_learning_rate': 7.668602487345708e-05, 'LSTM_optimizer': 'adam', 'LSTM_bidirectional': True, 'LSTM_batch_size': 4096, 'LSTM_epochs': 2, 'LSTM_l1': 0.001, 'LSTM_l2': 0.001, 'LSTM_inter_dropout': 0.001, 'LSTM_input_gaussian_noise': 0.001, 'LSTM_conv1d': True, 'LSTM_conv1d_kernel_size': 3, 'LSTM_loss': 'mse', 'year_start': 2022, 'is_single_feature': False}\n",
      "2025-08-20 18:52:58,993 -   q0: 0.9980\n",
      "2025-08-20 18:52:58,993 -   Duration0: 0:00:34.357420\n",
      "2025-08-20 18:52:58,993 -   Val RMSE0 adjusted: 0.0100\n",
      "2025-08-20 18:52:58,997 -   Mean all prediction: 1.0019\n",
      "2025-08-20 18:52:58,997 -   Mean above prediction: 1.0129\n",
      "2025-08-20 18:52:58,997 -   Mean below prediction: 0.9998\n",
      "2025-08-20 18:52:58,997 -   Quantile 0.99 for distance in mask above: 5765.499999999953\n",
      "2025-08-20 18:52:59,001 -   Quantile 0.99 for distance in mask below: 4599.059999999983\n",
      "2025-08-20 18:52:59,001 -   Ratio for quantile-distance-to-length above: 0.0088\n",
      "2025-08-20 18:52:59,001 -   Ratio for quantile-distance-to-length below: 0.0070\n",
      "2025-08-20 18:52:59,001 -   Score: 1.0021\n"
     ]
    },
    {
     "name": "stderr",
     "output_type": "stream",
     "text": [
      "[I 2025-08-20 18:52:59,033] Trial 8 finished with value: 1.0021347403937433 and parameters: {'year_start': 2022, 'idxAfterPrediction': 6, 'LoadupSamples_time_inc_factor': 41, 'timesteps': 45, 'LSTM_learning_rate': 7.668602487345708e-05, 'LSTM_dropout': 0.05721044589193572, 'is_single_feature': False}. Best is trial 8 with value: 1.0021347403937433.\n"
     ]
    },
    {
     "name": "stdout",
     "output_type": "stream",
     "text": [
      "2025-08-20 18:52:59,033 - Trial 8 finished with value: 1.0021347403937433 and parameters: {'year_start': 2022, 'idxAfterPrediction': 6, 'LoadupSamples_time_inc_factor': 41, 'timesteps': 45, 'LSTM_learning_rate': 7.668602487345708e-05, 'LSTM_dropout': 0.05721044589193572, 'is_single_feature': False}. Best is trial 8 with value: 1.0021347403937433.\n",
      "2025-08-20 18:53:03,467 - Non-finite/too-large values in train y time: 72 samples.\n",
      "2025-08-20 18:53:03,471 - Removing 72 samples from training data.\n"
     ]
    },
    {
     "name": "stderr",
     "output_type": "stream",
     "text": [
      "Epochs:   0%|          | 0/2 [00:00<?, ?it/s]"
     ]
    },
    {
     "name": "stdout",
     "output_type": "stream",
     "text": [
      "2025-08-20 18:53:18,162 - Epoch 1/2 — Train RMSE: 0.4796 — Validation RMSE: 0.3396\n"
     ]
    },
    {
     "name": "stderr",
     "output_type": "stream",
     "text": [
      "Epochs:  50%|█████     | 1/2 [00:10<00:10, 10.92s/it]"
     ]
    },
    {
     "name": "stdout",
     "output_type": "stream",
     "text": [
      "2025-08-20 18:53:29,122 - Epoch 2/2 — Train RMSE: 0.3463 — Validation RMSE: 0.3386\n"
     ]
    },
    {
     "name": "stderr",
     "output_type": "stream",
     "text": [
      "Epochs: 100%|██████████| 2/2 [00:21<00:00, 10.94s/it]\n"
     ]
    },
    {
     "name": "stdout",
     "output_type": "stream",
     "text": [
      "2025-08-20 18:53:32,511 - Trial 9 with params: {'idxAfterPrediction': 6, 'timesteps': 55, 'target_option': 'last', 'LoadupSamples_time_scaling_stretch': True, 'LoadupSamples_time_inc_factor': 26, 'LSTM_units': 16, 'LSTM_num_layers': 1, 'LSTM_dropout': 0.0011948900432822518, 'LSTM_recurrent_dropout': 0.001, 'LSTM_learning_rate': 0.00037903344115473674, 'LSTM_optimizer': 'adam', 'LSTM_bidirectional': True, 'LSTM_batch_size': 4096, 'LSTM_epochs': 2, 'LSTM_l1': 0.001, 'LSTM_l2': 0.001, 'LSTM_inter_dropout': 0.001, 'LSTM_input_gaussian_noise': 0.001, 'LSTM_conv1d': True, 'LSTM_conv1d_kernel_size': 3, 'LSTM_loss': 'mse', 'year_start': 2023, 'is_single_feature': True}\n",
      "2025-08-20 18:53:32,513 -   q0: 0.9980\n",
      "2025-08-20 18:53:32,513 -   Duration0: 0:00:25.286805\n",
      "2025-08-20 18:53:32,514 -   Val RMSE0 adjusted: 0.0130\n",
      "2025-08-20 18:53:32,516 -   Mean all prediction: 1.0019\n",
      "2025-08-20 18:53:32,516 -   Mean above prediction: 1.0004\n",
      "2025-08-20 18:53:32,517 -   Mean below prediction: 0.9963\n",
      "2025-08-20 18:53:32,517 -   Quantile 0.99 for distance in mask above: 4335.719999999999\n",
      "2025-08-20 18:53:32,519 -   Quantile 0.99 for distance in mask below: 4483.439999999995\n",
      "2025-08-20 18:53:32,520 -   Ratio for quantile-distance-to-length above: 0.0066\n",
      "2025-08-20 18:53:32,520 -   Ratio for quantile-distance-to-length below: 0.0068\n",
      "2025-08-20 18:53:32,521 -   Score: 1.0001\n"
     ]
    },
    {
     "name": "stderr",
     "output_type": "stream",
     "text": [
      "[I 2025-08-20 18:53:32,558] Trial 9 finished with value: 1.0000741764981145 and parameters: {'year_start': 2023, 'idxAfterPrediction': 6, 'LoadupSamples_time_inc_factor': 26, 'timesteps': 55, 'LSTM_learning_rate': 0.00037903344115473674, 'LSTM_dropout': 0.0011948900432822518, 'is_single_feature': True}. Best is trial 8 with value: 1.0021347403937433.\n"
     ]
    },
    {
     "name": "stdout",
     "output_type": "stream",
     "text": [
      "2025-08-20 18:53:32,558 - Trial 9 finished with value: 1.0000741764981145 and parameters: {'year_start': 2023, 'idxAfterPrediction': 6, 'LoadupSamples_time_inc_factor': 26, 'timesteps': 55, 'LSTM_learning_rate': 0.00037903344115473674, 'LSTM_dropout': 0.0011948900432822518, 'is_single_feature': True}. Best is trial 8 with value: 1.0021347403937433.\n",
      "2025-08-20 18:53:43,520 - Non-finite/too-large values in train y time: 36 samples.\n",
      "2025-08-20 18:53:43,525 - Removing 36 samples from training data.\n"
     ]
    },
    {
     "name": "stderr",
     "output_type": "stream",
     "text": [
      "Epochs:   0%|          | 0/2 [00:00<?, ?it/s]"
     ]
    },
    {
     "name": "stdout",
     "output_type": "stream",
     "text": [
      "2025-08-20 18:54:29,645 - Epoch 1/2 — Train RMSE: 0.4016 — Validation RMSE: 0.3929\n"
     ]
    },
    {
     "name": "stderr",
     "output_type": "stream",
     "text": [
      "Epochs:  50%|█████     | 1/2 [00:32<00:32, 32.06s/it]"
     ]
    },
    {
     "name": "stdout",
     "output_type": "stream",
     "text": [
      "2025-08-20 18:55:01,279 - Epoch 2/2 — Train RMSE: 0.3971 — Validation RMSE: 0.3873\n"
     ]
    },
    {
     "name": "stderr",
     "output_type": "stream",
     "text": [
      "Epochs: 100%|██████████| 2/2 [01:03<00:00, 31.85s/it]\n"
     ]
    },
    {
     "name": "stdout",
     "output_type": "stream",
     "text": [
      "2025-08-20 18:55:04,961 - Trial 10 with params: {'idxAfterPrediction': 3, 'timesteps': 80, 'target_option': 'last', 'LoadupSamples_time_scaling_stretch': True, 'LoadupSamples_time_inc_factor': 61, 'LSTM_units': 16, 'LSTM_num_layers': 1, 'LSTM_dropout': 0.015086696044315645, 'LSTM_recurrent_dropout': 0.001, 'LSTM_learning_rate': 0.00488717470108787, 'LSTM_optimizer': 'adam', 'LSTM_bidirectional': True, 'LSTM_batch_size': 4096, 'LSTM_epochs': 2, 'LSTM_l1': 0.001, 'LSTM_l2': 0.001, 'LSTM_inter_dropout': 0.001, 'LSTM_input_gaussian_noise': 0.001, 'LSTM_conv1d': True, 'LSTM_conv1d_kernel_size': 3, 'LSTM_loss': 'mse', 'year_start': 2019, 'is_single_feature': False}\n",
      "2025-08-20 18:55:04,961 -   q0: 0.9980\n",
      "2025-08-20 18:55:04,961 -   Duration0: 0:01:07.575110\n",
      "2025-08-20 18:55:04,961 -   Val RMSE0 adjusted: 0.0063\n",
      "2025-08-20 18:55:04,961 -   Mean all prediction: 1.0007\n",
      "2025-08-20 18:55:04,961 -   Mean above prediction: 1.0005\n",
      "2025-08-20 18:55:04,966 -   Mean below prediction: 1.0054\n",
      "2025-08-20 18:55:04,966 -   Quantile 0.99 for distance in mask above: 2024.0000000000036\n",
      "2025-08-20 18:55:04,967 -   Quantile 0.99 for distance in mask below: 725.5900000000001\n",
      "2025-08-20 18:55:04,968 -   Ratio for quantile-distance-to-length above: 0.0031\n",
      "2025-08-20 18:55:04,970 -   Ratio for quantile-distance-to-length below: 0.0011\n",
      "2025-08-20 18:55:04,970 -   Score: 1.0002\n"
     ]
    },
    {
     "name": "stderr",
     "output_type": "stream",
     "text": [
      "[I 2025-08-20 18:55:05,043] Trial 10 finished with value: 1.000167527800566 and parameters: {'year_start': 2019, 'idxAfterPrediction': 3, 'LoadupSamples_time_inc_factor': 61, 'timesteps': 80, 'LSTM_learning_rate': 0.00488717470108787, 'LSTM_dropout': 0.015086696044315645, 'is_single_feature': False}. Best is trial 8 with value: 1.0021347403937433.\n"
     ]
    },
    {
     "name": "stdout",
     "output_type": "stream",
     "text": [
      "2025-08-20 18:55:05,043 - Trial 10 finished with value: 1.000167527800566 and parameters: {'year_start': 2019, 'idxAfterPrediction': 3, 'LoadupSamples_time_inc_factor': 61, 'timesteps': 80, 'LSTM_learning_rate': 0.00488717470108787, 'LSTM_dropout': 0.015086696044315645, 'is_single_feature': False}. Best is trial 8 with value: 1.0021347403937433.\n",
      "2025-08-20 18:55:11,039 - Non-finite/too-large values in train y time: 72 samples.\n",
      "2025-08-20 18:55:11,042 - Removing 72 samples from training data.\n"
     ]
    },
    {
     "name": "stderr",
     "output_type": "stream",
     "text": [
      "Epochs:   0%|          | 0/2 [00:00<?, ?it/s]"
     ]
    },
    {
     "name": "stdout",
     "output_type": "stream",
     "text": [
      "2025-08-20 18:55:30,451 - Epoch 1/2 — Train RMSE: 0.4643 — Validation RMSE: 0.4371\n"
     ]
    },
    {
     "name": "stderr",
     "output_type": "stream",
     "text": [
      "Epochs:  50%|█████     | 1/2 [00:15<00:15, 15.46s/it]"
     ]
    },
    {
     "name": "stdout",
     "output_type": "stream",
     "text": [
      "2025-08-20 18:55:45,552 - Epoch 2/2 — Train RMSE: 0.4470 — Validation RMSE: 0.4353\n"
     ]
    },
    {
     "name": "stderr",
     "output_type": "stream",
     "text": [
      "Epochs: 100%|██████████| 2/2 [00:30<00:00, 15.28s/it]\n"
     ]
    },
    {
     "name": "stdout",
     "output_type": "stream",
     "text": [
      "2025-08-20 18:55:48,961 - Trial 11 with params: {'idxAfterPrediction': 6, 'timesteps': 40, 'target_option': 'last', 'LoadupSamples_time_scaling_stretch': True, 'LoadupSamples_time_inc_factor': 71, 'LSTM_units': 16, 'LSTM_num_layers': 1, 'LSTM_dropout': 0.03677848665531503, 'LSTM_recurrent_dropout': 0.001, 'LSTM_learning_rate': 0.0012210030590873156, 'LSTM_optimizer': 'adam', 'LSTM_bidirectional': True, 'LSTM_batch_size': 4096, 'LSTM_epochs': 2, 'LSTM_l1': 0.001, 'LSTM_l2': 0.001, 'LSTM_inter_dropout': 0.001, 'LSTM_input_gaussian_noise': 0.001, 'LSTM_conv1d': True, 'LSTM_conv1d_kernel_size': 3, 'LSTM_loss': 'mse', 'year_start': 2022, 'is_single_feature': False}\n",
      "2025-08-20 18:55:48,962 -   q0: 0.9980\n",
      "2025-08-20 18:55:48,963 -   Duration0: 0:00:34.038109\n",
      "2025-08-20 18:55:48,963 -   Val RMSE0 adjusted: 0.0061\n",
      "2025-08-20 18:55:48,964 -   Mean all prediction: 1.0019\n",
      "2025-08-20 18:55:48,964 -   Mean above prediction: 1.0170\n",
      "2025-08-20 18:55:48,964 -   Mean below prediction: 1.0002\n",
      "2025-08-20 18:55:48,964 -   Quantile 0.99 for distance in mask above: 4909.159999999984\n",
      "2025-08-20 18:55:48,964 -   Quantile 0.99 for distance in mask below: 4203.779999999988\n",
      "2025-08-20 18:55:48,968 -   Ratio for quantile-distance-to-length above: 0.0075\n",
      "2025-08-20 18:55:48,968 -   Ratio for quantile-distance-to-length below: 0.0064\n",
      "2025-08-20 18:55:48,968 -   Score: 1.0028\n"
     ]
    },
    {
     "name": "stderr",
     "output_type": "stream",
     "text": [
      "[I 2025-08-20 18:55:48,997] Trial 11 finished with value: 1.0028065913502064 and parameters: {'year_start': 2022, 'idxAfterPrediction': 6, 'LoadupSamples_time_inc_factor': 71, 'timesteps': 40, 'LSTM_learning_rate': 0.0012210030590873156, 'LSTM_dropout': 0.03677848665531503, 'is_single_feature': False}. Best is trial 11 with value: 1.0028065913502064.\n"
     ]
    },
    {
     "name": "stdout",
     "output_type": "stream",
     "text": [
      "2025-08-20 18:55:48,997 - Trial 11 finished with value: 1.0028065913502064 and parameters: {'year_start': 2022, 'idxAfterPrediction': 6, 'LoadupSamples_time_inc_factor': 71, 'timesteps': 40, 'LSTM_learning_rate': 0.0012210030590873156, 'LSTM_dropout': 0.03677848665531503, 'is_single_feature': False}. Best is trial 11 with value: 1.0028065913502064.\n",
      "2025-08-20 18:55:55,272 - Non-finite/too-large values in train y time: 84 samples.\n",
      "2025-08-20 18:55:55,277 - Removing 84 samples from training data.\n"
     ]
    },
    {
     "name": "stderr",
     "output_type": "stream",
     "text": [
      "Epochs:   0%|          | 0/2 [00:00<?, ?it/s]"
     ]
    },
    {
     "name": "stdout",
     "output_type": "stream",
     "text": [
      "2025-08-20 18:56:19,292 - Epoch 1/2 — Train RMSE: 0.5329 — Validation RMSE: 0.5017\n"
     ]
    },
    {
     "name": "stderr",
     "output_type": "stream",
     "text": [
      "Epochs:  50%|█████     | 1/2 [00:16<00:16, 16.32s/it]"
     ]
    },
    {
     "name": "stdout",
     "output_type": "stream",
     "text": [
      "2025-08-20 18:56:35,760 - Epoch 2/2 — Train RMSE: 0.4992 — Validation RMSE: 0.4737\n"
     ]
    },
    {
     "name": "stderr",
     "output_type": "stream",
     "text": [
      "Epochs: 100%|██████████| 2/2 [00:32<00:00, 16.39s/it]\n"
     ]
    },
    {
     "name": "stdout",
     "output_type": "stream",
     "text": [
      "2025-08-20 18:56:39,567 - Trial 12 with params: {'idxAfterPrediction': 7, 'timesteps': 85, 'target_option': 'last', 'LoadupSamples_time_scaling_stretch': True, 'LoadupSamples_time_inc_factor': 51, 'LSTM_units': 16, 'LSTM_num_layers': 1, 'LSTM_dropout': 0.03374334030779816, 'LSTM_recurrent_dropout': 0.001, 'LSTM_learning_rate': 1.883267931755821e-05, 'LSTM_optimizer': 'adam', 'LSTM_bidirectional': True, 'LSTM_batch_size': 4096, 'LSTM_epochs': 2, 'LSTM_l1': 0.001, 'LSTM_l2': 0.001, 'LSTM_inter_dropout': 0.001, 'LSTM_input_gaussian_noise': 0.001, 'LSTM_conv1d': True, 'LSTM_conv1d_kernel_size': 3, 'LSTM_loss': 'mse', 'year_start': 2022, 'is_single_feature': True}\n",
      "2025-08-20 18:56:39,571 -   q0: 0.9980\n",
      "2025-08-20 18:56:39,571 -   Duration0: 0:00:36.672989\n",
      "2025-08-20 18:56:39,571 -   Val RMSE0 adjusted: 0.0093\n",
      "2025-08-20 18:56:39,575 -   Mean all prediction: 1.0024\n",
      "2025-08-20 18:56:39,575 -   Mean above prediction: 1.0052\n",
      "2025-08-20 18:56:39,576 -   Mean below prediction: 0.9945\n",
      "2025-08-20 18:56:39,577 -   Quantile 0.99 for distance in mask above: 4281.719999999999\n",
      "2025-08-20 18:56:39,577 -   Quantile 0.99 for distance in mask below: 3515.1399999999803\n",
      "2025-08-20 18:56:39,577 -   Ratio for quantile-distance-to-length above: 0.0065\n",
      "2025-08-20 18:56:39,577 -   Ratio for quantile-distance-to-length below: 0.0053\n",
      "2025-08-20 18:56:39,577 -   Score: 1.0007\n"
     ]
    },
    {
     "name": "stderr",
     "output_type": "stream",
     "text": [
      "[I 2025-08-20 18:56:39,640] Trial 12 finished with value: 1.0007403081765547 and parameters: {'year_start': 2022, 'idxAfterPrediction': 7, 'LoadupSamples_time_inc_factor': 51, 'timesteps': 85, 'LSTM_learning_rate': 1.883267931755821e-05, 'LSTM_dropout': 0.03374334030779816, 'is_single_feature': True}. Best is trial 11 with value: 1.0028065913502064.\n"
     ]
    },
    {
     "name": "stdout",
     "output_type": "stream",
     "text": [
      "2025-08-20 18:56:39,640 - Trial 12 finished with value: 1.0007403081765547 and parameters: {'year_start': 2022, 'idxAfterPrediction': 7, 'LoadupSamples_time_inc_factor': 51, 'timesteps': 85, 'LSTM_learning_rate': 1.883267931755821e-05, 'LSTM_dropout': 0.03374334030779816, 'is_single_feature': True}. Best is trial 11 with value: 1.0028065913502064.\n",
      "2025-08-20 18:56:47,413 - Non-finite/too-large values in train y time: 60 samples.\n",
      "2025-08-20 18:56:47,416 - Removing 60 samples from training data.\n"
     ]
    },
    {
     "name": "stderr",
     "output_type": "stream",
     "text": [
      "Epochs:   0%|          | 0/2 [00:00<?, ?it/s]"
     ]
    },
    {
     "name": "stdout",
     "output_type": "stream",
     "text": [
      "2025-08-20 18:57:16,675 - Epoch 1/2 — Train RMSE: 0.4565 — Validation RMSE: 0.4425\n"
     ]
    },
    {
     "name": "stderr",
     "output_type": "stream",
     "text": [
      "Epochs:  50%|█████     | 1/2 [00:20<00:20, 20.89s/it]"
     ]
    },
    {
     "name": "stdout",
     "output_type": "stream",
     "text": [
      "2025-08-20 18:57:37,797 - Epoch 2/2 — Train RMSE: 0.4391 — Validation RMSE: 0.4382\n"
     ]
    },
    {
     "name": "stderr",
     "output_type": "stream",
     "text": [
      "Epochs: 100%|██████████| 2/2 [00:42<00:00, 21.01s/it]\n"
     ]
    },
    {
     "name": "stdout",
     "output_type": "stream",
     "text": [
      "2025-08-20 18:57:41,682 - Trial 13 with params: {'idxAfterPrediction': 5, 'timesteps': 70, 'target_option': 'last', 'LoadupSamples_time_scaling_stretch': True, 'LoadupSamples_time_inc_factor': 76, 'LSTM_units': 16, 'LSTM_num_layers': 1, 'LSTM_dropout': 0.026618996123285093, 'LSTM_recurrent_dropout': 0.001, 'LSTM_learning_rate': 0.0016018207043452344, 'LSTM_optimizer': 'adam', 'LSTM_bidirectional': True, 'LSTM_batch_size': 4096, 'LSTM_epochs': 2, 'LSTM_l1': 0.001, 'LSTM_l2': 0.001, 'LSTM_inter_dropout': 0.001, 'LSTM_input_gaussian_noise': 0.001, 'LSTM_conv1d': True, 'LSTM_conv1d_kernel_size': 3, 'LSTM_loss': 'mse', 'year_start': 2021, 'is_single_feature': False}\n",
      "2025-08-20 18:57:41,682 -   q0: 0.9980\n",
      "2025-08-20 18:57:41,682 -   Duration0: 0:00:46.003569\n",
      "2025-08-20 18:57:41,682 -   Val RMSE0 adjusted: 0.0058\n",
      "2025-08-20 18:57:41,686 -   Mean all prediction: 1.0015\n",
      "2025-08-20 18:57:41,686 -   Mean above prediction: 1.0048\n",
      "2025-08-20 18:57:41,686 -   Mean below prediction: 1.0020\n",
      "2025-08-20 18:57:41,686 -   Quantile 0.99 for distance in mask above: 5121.9799999999705\n",
      "2025-08-20 18:57:41,686 -   Quantile 0.99 for distance in mask below: 5097.89999999991\n",
      "2025-08-20 18:57:41,686 -   Ratio for quantile-distance-to-length above: 0.0078\n",
      "2025-08-20 18:57:41,690 -   Ratio for quantile-distance-to-length below: 0.0078\n",
      "2025-08-20 18:57:41,690 -   Score: 1.0010\n"
     ]
    },
    {
     "name": "stderr",
     "output_type": "stream",
     "text": [
      "[I 2025-08-20 18:57:41,740] Trial 13 finished with value: 1.000966853409798 and parameters: {'year_start': 2021, 'idxAfterPrediction': 5, 'LoadupSamples_time_inc_factor': 76, 'timesteps': 70, 'LSTM_learning_rate': 0.0016018207043452344, 'LSTM_dropout': 0.026618996123285093, 'is_single_feature': False}. Best is trial 11 with value: 1.0028065913502064.\n"
     ]
    },
    {
     "name": "stdout",
     "output_type": "stream",
     "text": [
      "2025-08-20 18:57:41,740 - Trial 13 finished with value: 1.000966853409798 and parameters: {'year_start': 2021, 'idxAfterPrediction': 5, 'LoadupSamples_time_inc_factor': 76, 'timesteps': 70, 'LSTM_learning_rate': 0.0016018207043452344, 'LSTM_dropout': 0.026618996123285093, 'is_single_feature': False}. Best is trial 11 with value: 1.0028065913502064.\n",
      "2025-08-20 18:57:49,371 - Non-finite/too-large values in train y time: 84 samples.\n",
      "2025-08-20 18:57:49,373 - Removing 84 samples from training data.\n"
     ]
    },
    {
     "name": "stderr",
     "output_type": "stream",
     "text": [
      "Epochs:   0%|          | 0/2 [00:00<?, ?it/s]"
     ]
    },
    {
     "name": "stdout",
     "output_type": "stream",
     "text": [
      "2025-08-20 18:58:13,380 - Epoch 1/2 — Train RMSE: 0.4492 — Validation RMSE: 0.4149\n"
     ]
    },
    {
     "name": "stderr",
     "output_type": "stream",
     "text": [
      "Epochs:  50%|█████     | 1/2 [00:19<00:19, 19.99s/it]"
     ]
    },
    {
     "name": "stdout",
     "output_type": "stream",
     "text": [
      "2025-08-20 18:58:33,836 - Epoch 2/2 — Train RMSE: 0.4241 — Validation RMSE: 0.4148\n"
     ]
    },
    {
     "name": "stderr",
     "output_type": "stream",
     "text": [
      "Epochs: 100%|██████████| 2/2 [00:40<00:00, 20.22s/it]\n"
     ]
    },
    {
     "name": "stdout",
     "output_type": "stream",
     "text": [
      "2025-08-20 18:58:37,318 - Trial 14 with params: {'idxAfterPrediction': 7, 'timesteps': 30, 'target_option': 'last', 'LoadupSamples_time_scaling_stretch': True, 'LoadupSamples_time_inc_factor': 51, 'LSTM_units': 16, 'LSTM_num_layers': 1, 'LSTM_dropout': 0.005465265324509055, 'LSTM_recurrent_dropout': 0.001, 'LSTM_learning_rate': 0.0007375585284959072, 'LSTM_optimizer': 'adam', 'LSTM_bidirectional': True, 'LSTM_batch_size': 4096, 'LSTM_epochs': 2, 'LSTM_l1': 0.001, 'LSTM_l2': 0.001, 'LSTM_inter_dropout': 0.001, 'LSTM_input_gaussian_noise': 0.001, 'LSTM_conv1d': True, 'LSTM_conv1d_kernel_size': 3, 'LSTM_loss': 'mse', 'year_start': 2021, 'is_single_feature': True}\n",
      "2025-08-20 18:58:37,318 -   q0: 0.9980\n",
      "2025-08-20 18:58:37,318 -   Duration0: 0:00:43.947082\n",
      "2025-08-20 18:58:37,318 -   Val RMSE0 adjusted: 0.0081\n",
      "2025-08-20 18:58:37,323 -   Mean all prediction: 1.0024\n",
      "2025-08-20 18:58:37,323 -   Mean above prediction: 1.0051\n",
      "2025-08-20 18:58:37,325 -   Mean below prediction: 0.9978\n",
      "2025-08-20 18:58:37,325 -   Quantile 0.99 for distance in mask above: 4534.799999999997\n",
      "2025-08-20 18:58:37,327 -   Quantile 0.99 for distance in mask below: 3558.779999999998\n",
      "2025-08-20 18:58:37,327 -   Ratio for quantile-distance-to-length above: 0.0069\n",
      "2025-08-20 18:58:37,327 -   Ratio for quantile-distance-to-length below: 0.0054\n",
      "2025-08-20 18:58:37,327 -   Score: 1.0007\n"
     ]
    },
    {
     "name": "stderr",
     "output_type": "stream",
     "text": [
      "[I 2025-08-20 18:58:37,367] Trial 14 finished with value: 1.0007329314482556 and parameters: {'year_start': 2021, 'idxAfterPrediction': 7, 'LoadupSamples_time_inc_factor': 51, 'timesteps': 30, 'LSTM_learning_rate': 0.0007375585284959072, 'LSTM_dropout': 0.005465265324509055, 'is_single_feature': True}. Best is trial 11 with value: 1.0028065913502064.\n"
     ]
    },
    {
     "name": "stdout",
     "output_type": "stream",
     "text": [
      "2025-08-20 18:58:37,367 - Trial 14 finished with value: 1.0007329314482556 and parameters: {'year_start': 2021, 'idxAfterPrediction': 7, 'LoadupSamples_time_inc_factor': 51, 'timesteps': 30, 'LSTM_learning_rate': 0.0007375585284959072, 'LSTM_dropout': 0.005465265324509055, 'is_single_feature': True}. Best is trial 11 with value: 1.0028065913502064.\n",
      "2025-08-20 18:58:43,296 - Non-finite/too-large values in train y time: 60 samples.\n",
      "2025-08-20 18:58:43,299 - Removing 60 samples from training data.\n"
     ]
    },
    {
     "name": "stderr",
     "output_type": "stream",
     "text": [
      "Epochs:   0%|          | 0/2 [00:00<?, ?it/s]"
     ]
    },
    {
     "name": "stdout",
     "output_type": "stream",
     "text": [
      "2025-08-20 18:59:02,280 - Epoch 1/2 — Train RMSE: 0.6173 — Validation RMSE: 0.5416\n"
     ]
    },
    {
     "name": "stderr",
     "output_type": "stream",
     "text": [
      "Epochs:  50%|█████     | 1/2 [00:15<00:15, 15.49s/it]"
     ]
    },
    {
     "name": "stdout",
     "output_type": "stream",
     "text": [
      "2025-08-20 18:59:18,007 - Epoch 2/2 — Train RMSE: 0.5008 — Validation RMSE: 0.4514\n"
     ]
    },
    {
     "name": "stderr",
     "output_type": "stream",
     "text": [
      "Epochs: 100%|██████████| 2/2 [00:31<00:00, 15.61s/it]\n"
     ]
    },
    {
     "name": "stdout",
     "output_type": "stream",
     "text": [
      "2025-08-20 18:59:21,061 - Trial 15 with params: {'idxAfterPrediction': 5, 'timesteps': 35, 'target_option': 'last', 'LoadupSamples_time_scaling_stretch': True, 'LoadupSamples_time_inc_factor': 81, 'LSTM_units': 16, 'LSTM_num_layers': 1, 'LSTM_dropout': 0.09385206518568043, 'LSTM_recurrent_dropout': 0.001, 'LSTM_learning_rate': 7.268324099792605e-05, 'LSTM_optimizer': 'adam', 'LSTM_bidirectional': True, 'LSTM_batch_size': 4096, 'LSTM_epochs': 2, 'LSTM_l1': 0.001, 'LSTM_l2': 0.001, 'LSTM_inter_dropout': 0.001, 'LSTM_input_gaussian_noise': 0.001, 'LSTM_conv1d': True, 'LSTM_conv1d_kernel_size': 3, 'LSTM_loss': 'mse', 'year_start': 2022, 'is_single_feature': False}\n",
      "2025-08-20 18:59:21,061 -   q0: 0.9980\n",
      "2025-08-20 18:59:21,061 -   Duration0: 0:00:34.322533\n",
      "2025-08-20 18:59:21,063 -   Val RMSE0 adjusted: 0.0056\n",
      "2025-08-20 18:59:21,063 -   Mean all prediction: 1.0015\n",
      "2025-08-20 18:59:21,063 -   Mean above prediction: 1.0121\n",
      "2025-08-20 18:59:21,063 -   Mean below prediction: 1.0028\n",
      "2025-08-20 18:59:21,063 -   Quantile 0.99 for distance in mask above: 4791.959999999992\n",
      "2025-08-20 18:59:21,067 -   Quantile 0.99 for distance in mask below: 4747.039999999939\n",
      "2025-08-20 18:59:21,067 -   Ratio for quantile-distance-to-length above: 0.0073\n",
      "2025-08-20 18:59:21,068 -   Ratio for quantile-distance-to-length below: 0.0072\n",
      "2025-08-20 18:59:21,068 -   Score: 1.0024\n"
     ]
    },
    {
     "name": "stderr",
     "output_type": "stream",
     "text": [
      "[I 2025-08-20 18:59:21,098] Trial 15 finished with value: 1.0023989871032457 and parameters: {'year_start': 2022, 'idxAfterPrediction': 5, 'LoadupSamples_time_inc_factor': 81, 'timesteps': 35, 'LSTM_learning_rate': 7.268324099792605e-05, 'LSTM_dropout': 0.09385206518568043, 'is_single_feature': False}. Best is trial 11 with value: 1.0028065913502064.\n"
     ]
    },
    {
     "name": "stdout",
     "output_type": "stream",
     "text": [
      "2025-08-20 18:59:21,098 - Trial 15 finished with value: 1.0023989871032457 and parameters: {'year_start': 2022, 'idxAfterPrediction': 5, 'LoadupSamples_time_inc_factor': 81, 'timesteps': 35, 'LSTM_learning_rate': 7.268324099792605e-05, 'LSTM_dropout': 0.09385206518568043, 'is_single_feature': False}. Best is trial 11 with value: 1.0028065913502064.\n",
      "2025-08-20 18:59:27,031 - Non-finite/too-large values in train y time: 48 samples.\n",
      "2025-08-20 18:59:27,035 - Removing 48 samples from training data.\n"
     ]
    },
    {
     "name": "stderr",
     "output_type": "stream",
     "text": [
      "Epochs:   0%|          | 0/2 [00:00<?, ?it/s]"
     ]
    },
    {
     "name": "stdout",
     "output_type": "stream",
     "text": [
      "2025-08-20 18:59:45,675 - Epoch 1/2 — Train RMSE: 0.5549 — Validation RMSE: 0.4422\n"
     ]
    },
    {
     "name": "stderr",
     "output_type": "stream",
     "text": [
      "Epochs:  50%|█████     | 1/2 [00:15<00:15, 15.55s/it]"
     ]
    },
    {
     "name": "stdout",
     "output_type": "stream",
     "text": [
      "2025-08-20 19:00:01,196 - Epoch 2/2 — Train RMSE: 0.4358 — Validation RMSE: 0.4235\n"
     ]
    },
    {
     "name": "stderr",
     "output_type": "stream",
     "text": [
      "Epochs: 100%|██████████| 2/2 [00:31<00:00, 15.54s/it]\n"
     ]
    },
    {
     "name": "stdout",
     "output_type": "stream",
     "text": [
      "2025-08-20 19:00:04,354 - Trial 16 with params: {'idxAfterPrediction': 4, 'timesteps': 30, 'target_option': 'last', 'LoadupSamples_time_scaling_stretch': True, 'LoadupSamples_time_inc_factor': 81, 'LSTM_units': 16, 'LSTM_num_layers': 1, 'LSTM_dropout': 0.09010276755682119, 'LSTM_recurrent_dropout': 0.001, 'LSTM_learning_rate': 0.00012924268328344418, 'LSTM_optimizer': 'adam', 'LSTM_bidirectional': True, 'LSTM_batch_size': 4096, 'LSTM_epochs': 2, 'LSTM_l1': 0.001, 'LSTM_l2': 0.001, 'LSTM_inter_dropout': 0.001, 'LSTM_input_gaussian_noise': 0.001, 'LSTM_conv1d': True, 'LSTM_conv1d_kernel_size': 3, 'LSTM_loss': 'mse', 'year_start': 2022, 'is_single_feature': False}\n",
      "2025-08-20 19:00:04,354 -   q0: 0.9980\n",
      "2025-08-20 19:00:04,354 -   Duration0: 0:00:34.279436\n",
      "2025-08-20 19:00:04,354 -   Val RMSE0 adjusted: 0.0052\n",
      "2025-08-20 19:00:04,354 -   Mean all prediction: 1.0011\n",
      "2025-08-20 19:00:04,359 -   Mean above prediction: 1.0163\n",
      "2025-08-20 19:00:04,359 -   Mean below prediction: 0.9964\n",
      "2025-08-20 19:00:04,359 -   Quantile 0.99 for distance in mask above: 5797.179999999994\n",
      "2025-08-20 19:00:04,361 -   Quantile 0.99 for distance in mask below: 4256.099999999997\n",
      "2025-08-20 19:00:04,361 -   Ratio for quantile-distance-to-length above: 0.0088\n",
      "2025-08-20 19:00:04,362 -   Ratio for quantile-distance-to-length below: 0.0065\n",
      "2025-08-20 19:00:04,362 -   Score: 1.0041\n"
     ]
    },
    {
     "name": "stderr",
     "output_type": "stream",
     "text": [
      "[I 2025-08-20 19:00:04,388] Trial 16 finished with value: 1.0040561593956903 and parameters: {'year_start': 2022, 'idxAfterPrediction': 4, 'LoadupSamples_time_inc_factor': 81, 'timesteps': 30, 'LSTM_learning_rate': 0.00012924268328344418, 'LSTM_dropout': 0.09010276755682119, 'is_single_feature': False}. Best is trial 16 with value: 1.0040561593956903.\n"
     ]
    },
    {
     "name": "stdout",
     "output_type": "stream",
     "text": [
      "2025-08-20 19:00:04,388 - Trial 16 finished with value: 1.0040561593956903 and parameters: {'year_start': 2022, 'idxAfterPrediction': 4, 'LoadupSamples_time_inc_factor': 81, 'timesteps': 30, 'LSTM_learning_rate': 0.00012924268328344418, 'LSTM_dropout': 0.09010276755682119, 'is_single_feature': False}. Best is trial 16 with value: 1.0040561593956903.\n",
      "2025-08-20 19:00:12,017 - Non-finite/too-large values in train y time: 48 samples.\n",
      "2025-08-20 19:00:12,023 - Removing 48 samples from training data.\n"
     ]
    },
    {
     "name": "stderr",
     "output_type": "stream",
     "text": [
      "Epochs:   0%|          | 0/2 [00:00<?, ?it/s]"
     ]
    },
    {
     "name": "stdout",
     "output_type": "stream",
     "text": [
      "2025-08-20 19:00:37,272 - Epoch 1/2 — Train RMSE: 0.5345 — Validation RMSE: 0.4151\n"
     ]
    },
    {
     "name": "stderr",
     "output_type": "stream",
     "text": [
      "Epochs:  50%|█████     | 1/2 [00:20<00:20, 20.18s/it]"
     ]
    },
    {
     "name": "stdout",
     "output_type": "stream",
     "text": [
      "2025-08-20 19:00:56,800 - Epoch 2/2 — Train RMSE: 0.4218 — Validation RMSE: 0.4142\n"
     ]
    },
    {
     "name": "stderr",
     "output_type": "stream",
     "text": [
      "Epochs: 100%|██████████| 2/2 [00:39<00:00, 19.85s/it]\n"
     ]
    },
    {
     "name": "stdout",
     "output_type": "stream",
     "text": [
      "2025-08-20 19:00:59,750 - Trial 17 with params: {'idxAfterPrediction': 4, 'timesteps': 40, 'target_option': 'last', 'LoadupSamples_time_scaling_stretch': True, 'LoadupSamples_time_inc_factor': 71, 'LSTM_units': 16, 'LSTM_num_layers': 1, 'LSTM_dropout': 0.0971615438693718, 'LSTM_recurrent_dropout': 0.001, 'LSTM_learning_rate': 0.00015282236946060257, 'LSTM_optimizer': 'adam', 'LSTM_bidirectional': True, 'LSTM_batch_size': 4096, 'LSTM_epochs': 2, 'LSTM_l1': 0.001, 'LSTM_l2': 0.001, 'LSTM_inter_dropout': 0.001, 'LSTM_input_gaussian_noise': 0.001, 'LSTM_conv1d': True, 'LSTM_conv1d_kernel_size': 3, 'LSTM_loss': 'mse', 'year_start': 2021, 'is_single_feature': False}\n",
      "2025-08-20 19:00:59,750 -   q0: 0.9980\n",
      "2025-08-20 19:00:59,750 -   Duration0: 0:00:42.751168\n",
      "2025-08-20 19:00:59,750 -   Val RMSE0 adjusted: 0.0058\n",
      "2025-08-20 19:00:59,750 -   Mean all prediction: 1.0011\n",
      "2025-08-20 19:00:59,750 -   Mean above prediction: 1.0049\n",
      "2025-08-20 19:00:59,750 -   Mean below prediction: 1.0045\n",
      "2025-08-20 19:00:59,766 -   Quantile 0.99 for distance in mask above: 4721.219999999992\n",
      "2025-08-20 19:00:59,766 -   Quantile 0.99 for distance in mask below: 4774.27999999995\n",
      "2025-08-20 19:00:59,766 -   Ratio for quantile-distance-to-length above: 0.0072\n",
      "2025-08-20 19:00:59,766 -   Ratio for quantile-distance-to-length below: 0.0073\n",
      "2025-08-20 19:00:59,766 -   Score: 1.0012\n"
     ]
    },
    {
     "name": "stderr",
     "output_type": "stream",
     "text": [
      "[I 2025-08-20 19:00:59,797] Trial 17 finished with value: 1.001215577790298 and parameters: {'year_start': 2021, 'idxAfterPrediction': 4, 'LoadupSamples_time_inc_factor': 71, 'timesteps': 40, 'LSTM_learning_rate': 0.00015282236946060257, 'LSTM_dropout': 0.0971615438693718, 'is_single_feature': False}. Best is trial 16 with value: 1.0040561593956903.\n"
     ]
    },
    {
     "name": "stdout",
     "output_type": "stream",
     "text": [
      "2025-08-20 19:00:59,797 - Trial 17 finished with value: 1.001215577790298 and parameters: {'year_start': 2021, 'idxAfterPrediction': 4, 'LoadupSamples_time_inc_factor': 71, 'timesteps': 40, 'LSTM_learning_rate': 0.00015282236946060257, 'LSTM_dropout': 0.0971615438693718, 'is_single_feature': False}. Best is trial 16 with value: 1.0040561593956903.\n",
      "2025-08-20 19:01:08,666 - Non-finite/too-large values in train y time: 48 samples.\n",
      "2025-08-20 19:01:08,671 - Removing 48 samples from training data.\n"
     ]
    },
    {
     "name": "stderr",
     "output_type": "stream",
     "text": [
      "Epochs:   0%|          | 0/2 [00:00<?, ?it/s]"
     ]
    },
    {
     "name": "stdout",
     "output_type": "stream",
     "text": [
      "2025-08-20 19:01:37,337 - Epoch 1/2 — Train RMSE: 0.4408 — Validation RMSE: 0.4015\n"
     ]
    },
    {
     "name": "stderr",
     "output_type": "stream",
     "text": [
      "Epochs:  50%|█████     | 1/2 [00:23<00:23, 23.94s/it]"
     ]
    },
    {
     "name": "stdout",
     "output_type": "stream",
     "text": [
      "2025-08-20 19:02:01,747 - Epoch 2/2 — Train RMSE: 0.4142 — Validation RMSE: 0.4014\n"
     ]
    },
    {
     "name": "stderr",
     "output_type": "stream",
     "text": [
      "Epochs: 100%|██████████| 2/2 [00:48<00:00, 24.17s/it]\n"
     ]
    },
    {
     "name": "stdout",
     "output_type": "stream",
     "text": [
      "2025-08-20 19:02:05,430 - Trial 18 with params: {'idxAfterPrediction': 4, 'timesteps': 30, 'target_option': 'last', 'LoadupSamples_time_scaling_stretch': True, 'LoadupSamples_time_inc_factor': 61, 'LSTM_units': 16, 'LSTM_num_layers': 1, 'LSTM_dropout': 0.02002097992092705, 'LSTM_recurrent_dropout': 0.001, 'LSTM_learning_rate': 0.00016006961854886424, 'LSTM_optimizer': 'adam', 'LSTM_bidirectional': True, 'LSTM_batch_size': 4096, 'LSTM_epochs': 2, 'LSTM_l1': 0.001, 'LSTM_l2': 0.001, 'LSTM_inter_dropout': 0.001, 'LSTM_input_gaussian_noise': 0.001, 'LSTM_conv1d': True, 'LSTM_conv1d_kernel_size': 3, 'LSTM_loss': 'mse', 'year_start': 2020, 'is_single_feature': False}\n",
      "2025-08-20 19:02:05,446 -   q0: 0.9980\n",
      "2025-08-20 19:02:05,446 -   Duration0: 0:00:52.109235\n",
      "2025-08-20 19:02:05,446 -   Val RMSE0 adjusted: 0.0066\n",
      "2025-08-20 19:02:05,446 -   Mean all prediction: 1.0011\n",
      "2025-08-20 19:02:05,446 -   Mean above prediction: 1.0099\n",
      "2025-08-20 19:02:05,446 -   Mean below prediction: 1.0020\n",
      "2025-08-20 19:02:05,446 -   Quantile 0.99 for distance in mask above: 4053.2999999999993\n",
      "2025-08-20 19:02:05,446 -   Quantile 0.99 for distance in mask below: 4830.55999999999\n",
      "2025-08-20 19:02:05,446 -   Ratio for quantile-distance-to-length above: 0.0062\n",
      "2025-08-20 19:02:05,446 -   Ratio for quantile-distance-to-length below: 0.0073\n",
      "2025-08-20 19:02:05,446 -   Score: 1.0025\n"
     ]
    },
    {
     "name": "stderr",
     "output_type": "stream",
     "text": [
      "[I 2025-08-20 19:02:05,482] Trial 18 finished with value: 1.002462245045448 and parameters: {'year_start': 2020, 'idxAfterPrediction': 4, 'LoadupSamples_time_inc_factor': 61, 'timesteps': 30, 'LSTM_learning_rate': 0.00016006961854886424, 'LSTM_dropout': 0.02002097992092705, 'is_single_feature': False}. Best is trial 16 with value: 1.0040561593956903.\n"
     ]
    },
    {
     "name": "stdout",
     "output_type": "stream",
     "text": [
      "2025-08-20 19:02:05,482 - Trial 18 finished with value: 1.002462245045448 and parameters: {'year_start': 2020, 'idxAfterPrediction': 4, 'LoadupSamples_time_inc_factor': 61, 'timesteps': 30, 'LSTM_learning_rate': 0.00016006961854886424, 'LSTM_dropout': 0.02002097992092705, 'is_single_feature': False}. Best is trial 16 with value: 1.0040561593956903.\n",
      "2025-08-20 19:02:11,229 - Non-finite/too-large values in train y time: 48 samples.\n",
      "2025-08-20 19:02:11,245 - Removing 48 samples from training data.\n"
     ]
    },
    {
     "name": "stderr",
     "output_type": "stream",
     "text": [
      "Epochs:   0%|          | 0/2 [00:00<?, ?it/s]"
     ]
    },
    {
     "name": "stdout",
     "output_type": "stream",
     "text": [
      "2025-08-20 19:02:29,703 - Epoch 1/2 — Train RMSE: 0.4472 — Validation RMSE: 0.4382\n"
     ]
    },
    {
     "name": "stderr",
     "output_type": "stream",
     "text": [
      "Epochs:  50%|█████     | 1/2 [00:14<00:14, 14.71s/it]"
     ]
    },
    {
     "name": "stdout",
     "output_type": "stream",
     "text": [
      "2025-08-20 19:02:44,595 - Epoch 2/2 — Train RMSE: 0.4408 — Validation RMSE: 0.4327\n"
     ]
    },
    {
     "name": "stderr",
     "output_type": "stream",
     "text": [
      "Epochs: 100%|██████████| 2/2 [00:29<00:00, 14.80s/it]\n"
     ]
    },
    {
     "name": "stdout",
     "output_type": "stream",
     "text": [
      "2025-08-20 19:02:47,581 - Trial 19 with params: {'idxAfterPrediction': 4, 'timesteps': 40, 'target_option': 'last', 'LoadupSamples_time_scaling_stretch': True, 'LoadupSamples_time_inc_factor': 81, 'LSTM_units': 16, 'LSTM_num_layers': 1, 'LSTM_dropout': 0.0600787027158502, 'LSTM_recurrent_dropout': 0.001, 'LSTM_learning_rate': 0.0021554409945298576, 'LSTM_optimizer': 'adam', 'LSTM_bidirectional': True, 'LSTM_batch_size': 4096, 'LSTM_epochs': 2, 'LSTM_l1': 0.001, 'LSTM_l2': 0.001, 'LSTM_inter_dropout': 0.001, 'LSTM_input_gaussian_noise': 0.001, 'LSTM_conv1d': True, 'LSTM_conv1d_kernel_size': 3, 'LSTM_loss': 'mse', 'year_start': 2022, 'is_single_feature': False}\n",
      "2025-08-20 19:02:47,581 -   q0: 0.9980\n",
      "2025-08-20 19:02:47,581 -   Duration0: 0:00:32.633320\n",
      "2025-08-20 19:02:47,581 -   Val RMSE0 adjusted: 0.0053\n",
      "2025-08-20 19:02:47,581 -   Mean all prediction: 1.0011\n",
      "2025-08-20 19:02:47,581 -   Mean above prediction: 1.0064\n",
      "2025-08-20 19:02:47,581 -   Mean below prediction: 1.0047\n",
      "2025-08-20 19:02:47,581 -   Quantile 0.99 for distance in mask above: 4889.13999999998\n",
      "2025-08-20 19:02:47,581 -   Quantile 0.99 for distance in mask below: 4235.699999999985\n",
      "2025-08-20 19:02:47,581 -   Ratio for quantile-distance-to-length above: 0.0074\n",
      "2025-08-20 19:02:47,581 -   Ratio for quantile-distance-to-length below: 0.0064\n",
      "2025-08-20 19:02:47,581 -   Score: 1.0016\n"
     ]
    },
    {
     "name": "stderr",
     "output_type": "stream",
     "text": [
      "[I 2025-08-20 19:02:47,613] Trial 19 finished with value: 1.0016014431469427 and parameters: {'year_start': 2022, 'idxAfterPrediction': 4, 'LoadupSamples_time_inc_factor': 81, 'timesteps': 40, 'LSTM_learning_rate': 0.0021554409945298576, 'LSTM_dropout': 0.0600787027158502, 'is_single_feature': False}. Best is trial 16 with value: 1.0040561593956903.\n"
     ]
    },
    {
     "name": "stdout",
     "output_type": "stream",
     "text": [
      "2025-08-20 19:02:47,613 - Trial 19 finished with value: 1.0016014431469427 and parameters: {'year_start': 2022, 'idxAfterPrediction': 4, 'LoadupSamples_time_inc_factor': 81, 'timesteps': 40, 'LSTM_learning_rate': 0.0021554409945298576, 'LSTM_dropout': 0.0600787027158502, 'is_single_feature': False}. Best is trial 16 with value: 1.0040561593956903.\n",
      "2025-08-20 19:02:56,549 - Non-finite/too-large values in train y time: 60 samples.\n",
      "2025-08-20 19:02:56,549 - Removing 60 samples from training data.\n"
     ]
    },
    {
     "name": "stderr",
     "output_type": "stream",
     "text": [
      "Epochs:   0%|          | 0/2 [00:00<?, ?it/s]"
     ]
    },
    {
     "name": "stdout",
     "output_type": "stream",
     "text": [
      "2025-08-20 19:03:26,391 - Epoch 1/2 — Train RMSE: 0.5130 — Validation RMSE: 0.4238\n"
     ]
    },
    {
     "name": "stderr",
     "output_type": "stream",
     "text": [
      "Epochs:  50%|█████     | 1/2 [00:23<00:23, 23.85s/it]"
     ]
    },
    {
     "name": "stdout",
     "output_type": "stream",
     "text": [
      "2025-08-20 19:03:50,616 - Epoch 2/2 — Train RMSE: 0.4345 — Validation RMSE: 0.4236\n"
     ]
    },
    {
     "name": "stderr",
     "output_type": "stream",
     "text": [
      "Epochs: 100%|██████████| 2/2 [00:48<00:00, 24.04s/it]\n"
     ]
    },
    {
     "name": "stdout",
     "output_type": "stream",
     "text": [
      "2025-08-20 19:03:53,884 - Trial 20 with params: {'idxAfterPrediction': 5, 'timesteps': 40, 'target_option': 'last', 'LoadupSamples_time_scaling_stretch': True, 'LoadupSamples_time_inc_factor': 71, 'LSTM_units': 16, 'LSTM_num_layers': 1, 'LSTM_dropout': 0.07331581744119528, 'LSTM_recurrent_dropout': 0.001, 'LSTM_learning_rate': 0.00017945478748729806, 'LSTM_optimizer': 'adam', 'LSTM_bidirectional': True, 'LSTM_batch_size': 4096, 'LSTM_epochs': 2, 'LSTM_l1': 0.001, 'LSTM_l2': 0.001, 'LSTM_inter_dropout': 0.001, 'LSTM_input_gaussian_noise': 0.001, 'LSTM_conv1d': True, 'LSTM_conv1d_kernel_size': 3, 'LSTM_loss': 'mse', 'year_start': 2020, 'is_single_feature': False}\n",
      "2025-08-20 19:03:53,884 -   q0: 0.9980\n",
      "2025-08-20 19:03:53,884 -   Duration0: 0:00:51.435827\n",
      "2025-08-20 19:03:53,884 -   Val RMSE0 adjusted: 0.0060\n",
      "2025-08-20 19:03:53,884 -   Mean all prediction: 1.0015\n",
      "2025-08-20 19:03:53,884 -   Mean above prediction: 1.0081\n",
      "2025-08-20 19:03:53,884 -   Mean below prediction: 1.0036\n",
      "2025-08-20 19:03:53,884 -   Quantile 0.99 for distance in mask above: 4707.499999999993\n",
      "2025-08-20 19:03:53,884 -   Quantile 0.99 for distance in mask below: 5308.8199999999815\n",
      "2025-08-20 19:03:53,884 -   Ratio for quantile-distance-to-length above: 0.0072\n",
      "2025-08-20 19:03:53,884 -   Ratio for quantile-distance-to-length below: 0.0081\n",
      "2025-08-20 19:03:53,884 -   Score: 1.0016\n"
     ]
    },
    {
     "name": "stderr",
     "output_type": "stream",
     "text": [
      "[I 2025-08-20 19:03:53,931] Trial 20 finished with value: 1.0016068609055073 and parameters: {'year_start': 2020, 'idxAfterPrediction': 5, 'LoadupSamples_time_inc_factor': 71, 'timesteps': 40, 'LSTM_learning_rate': 0.00017945478748729806, 'LSTM_dropout': 0.07331581744119528, 'is_single_feature': False}. Best is trial 16 with value: 1.0040561593956903.\n"
     ]
    },
    {
     "name": "stdout",
     "output_type": "stream",
     "text": [
      "2025-08-20 19:03:53,931 - Trial 20 finished with value: 1.0016068609055073 and parameters: {'year_start': 2020, 'idxAfterPrediction': 5, 'LoadupSamples_time_inc_factor': 71, 'timesteps': 40, 'LSTM_learning_rate': 0.00017945478748729806, 'LSTM_dropout': 0.07331581744119528, 'is_single_feature': False}. Best is trial 16 with value: 1.0040561593956903.\n",
      "2025-08-20 19:04:02,784 - Non-finite/too-large values in train y time: 48 samples.\n",
      "2025-08-20 19:04:02,799 - Removing 48 samples from training data.\n"
     ]
    },
    {
     "name": "stderr",
     "output_type": "stream",
     "text": [
      "Epochs:   0%|          | 0/2 [00:00<?, ?it/s]"
     ]
    },
    {
     "name": "stdout",
     "output_type": "stream",
     "text": [
      "2025-08-20 19:04:31,432 - Epoch 1/2 — Train RMSE: 0.4447 — Validation RMSE: 0.4015\n"
     ]
    },
    {
     "name": "stderr",
     "output_type": "stream",
     "text": [
      "Epochs:  50%|█████     | 1/2 [00:23<00:23, 23.83s/it]"
     ]
    },
    {
     "name": "stdout",
     "output_type": "stream",
     "text": [
      "2025-08-20 19:04:55,811 - Epoch 2/2 — Train RMSE: 0.4143 — Validation RMSE: 0.4014\n"
     ]
    },
    {
     "name": "stderr",
     "output_type": "stream",
     "text": [
      "Epochs: 100%|██████████| 2/2 [00:48<00:00, 24.11s/it]\n"
     ]
    },
    {
     "name": "stdout",
     "output_type": "stream",
     "text": [
      "2025-08-20 19:04:59,396 - Trial 21 with params: {'idxAfterPrediction': 4, 'timesteps': 30, 'target_option': 'last', 'LoadupSamples_time_scaling_stretch': True, 'LoadupSamples_time_inc_factor': 61, 'LSTM_units': 16, 'LSTM_num_layers': 1, 'LSTM_dropout': 0.01886670437026807, 'LSTM_recurrent_dropout': 0.001, 'LSTM_learning_rate': 0.00014992664538541188, 'LSTM_optimizer': 'adam', 'LSTM_bidirectional': True, 'LSTM_batch_size': 4096, 'LSTM_epochs': 2, 'LSTM_l1': 0.001, 'LSTM_l2': 0.001, 'LSTM_inter_dropout': 0.001, 'LSTM_input_gaussian_noise': 0.001, 'LSTM_conv1d': True, 'LSTM_conv1d_kernel_size': 3, 'LSTM_loss': 'mse', 'year_start': 2020, 'is_single_feature': False}\n",
      "2025-08-20 19:04:59,396 -   q0: 0.9980\n",
      "2025-08-20 19:04:59,396 -   Duration0: 0:00:51.867385\n",
      "2025-08-20 19:04:59,396 -   Val RMSE0 adjusted: 0.0066\n",
      "2025-08-20 19:04:59,396 -   Mean all prediction: 1.0011\n",
      "2025-08-20 19:04:59,396 -   Mean above prediction: 1.0070\n",
      "2025-08-20 19:04:59,413 -   Mean below prediction: 1.0000\n",
      "2025-08-20 19:04:59,413 -   Quantile 0.99 for distance in mask above: 5005.5999999999385\n",
      "2025-08-20 19:04:59,413 -   Quantile 0.99 for distance in mask below: 3799.179999999974\n",
      "2025-08-20 19:04:59,413 -   Ratio for quantile-distance-to-length above: 0.0076\n",
      "2025-08-20 19:04:59,413 -   Ratio for quantile-distance-to-length below: 0.0058\n",
      "2025-08-20 19:04:59,413 -   Score: 1.0017\n"
     ]
    },
    {
     "name": "stderr",
     "output_type": "stream",
     "text": [
      "[I 2025-08-20 19:04:59,444] Trial 21 finished with value: 1.001748178891766 and parameters: {'year_start': 2020, 'idxAfterPrediction': 4, 'LoadupSamples_time_inc_factor': 61, 'timesteps': 30, 'LSTM_learning_rate': 0.00014992664538541188, 'LSTM_dropout': 0.01886670437026807, 'is_single_feature': False}. Best is trial 16 with value: 1.0040561593956903.\n"
     ]
    },
    {
     "name": "stdout",
     "output_type": "stream",
     "text": [
      "2025-08-20 19:04:59,444 - Trial 21 finished with value: 1.001748178891766 and parameters: {'year_start': 2020, 'idxAfterPrediction': 4, 'LoadupSamples_time_inc_factor': 61, 'timesteps': 30, 'LSTM_learning_rate': 0.00014992664538541188, 'LSTM_dropout': 0.01886670437026807, 'is_single_feature': False}. Best is trial 16 with value: 1.0040561593956903.\n",
      "2025-08-20 19:05:08,257 - Non-finite/too-large values in train y time: 48 samples.\n",
      "2025-08-20 19:05:08,257 - Removing 48 samples from training data.\n"
     ]
    },
    {
     "name": "stderr",
     "output_type": "stream",
     "text": [
      "Epochs:   0%|          | 0/2 [00:00<?, ?it/s]"
     ]
    },
    {
     "name": "stdout",
     "output_type": "stream",
     "text": [
      "2025-08-20 19:05:37,460 - Epoch 1/2 — Train RMSE: 0.4497 — Validation RMSE: 0.4018\n"
     ]
    },
    {
     "name": "stderr",
     "output_type": "stream",
     "text": [
      "Epochs:  50%|█████     | 1/2 [00:24<00:24, 24.43s/it]"
     ]
    },
    {
     "name": "stdout",
     "output_type": "stream",
     "text": [
      "2025-08-20 19:06:01,675 - Epoch 2/2 — Train RMSE: 0.4149 — Validation RMSE: 0.4015\n"
     ]
    },
    {
     "name": "stderr",
     "output_type": "stream",
     "text": [
      "Epochs: 100%|██████████| 2/2 [00:48<00:00, 24.32s/it]\n"
     ]
    },
    {
     "name": "stdout",
     "output_type": "stream",
     "text": [
      "2025-08-20 19:06:05,382 - Trial 22 with params: {'idxAfterPrediction': 4, 'timesteps': 30, 'target_option': 'last', 'LoadupSamples_time_scaling_stretch': True, 'LoadupSamples_time_inc_factor': 61, 'LSTM_units': 16, 'LSTM_num_layers': 1, 'LSTM_dropout': 0.04152035200891764, 'LSTM_recurrent_dropout': 0.001, 'LSTM_learning_rate': 0.00022807404474629555, 'LSTM_optimizer': 'adam', 'LSTM_bidirectional': True, 'LSTM_batch_size': 4096, 'LSTM_epochs': 2, 'LSTM_l1': 0.001, 'LSTM_l2': 0.001, 'LSTM_inter_dropout': 0.001, 'LSTM_input_gaussian_noise': 0.001, 'LSTM_conv1d': True, 'LSTM_conv1d_kernel_size': 3, 'LSTM_loss': 'mse', 'year_start': 2020, 'is_single_feature': False}\n",
      "2025-08-20 19:06:05,382 -   q0: 0.9980\n",
      "2025-08-20 19:06:05,382 -   Duration0: 0:00:52.397372\n",
      "2025-08-20 19:06:05,382 -   Val RMSE0 adjusted: 0.0066\n",
      "2025-08-20 19:06:05,382 -   Mean all prediction: 1.0011\n",
      "2025-08-20 19:06:05,382 -   Mean above prediction: 1.0139\n",
      "2025-08-20 19:06:05,382 -   Mean below prediction: 1.0034\n",
      "2025-08-20 19:06:05,382 -   Quantile 0.99 for distance in mask above: 4648.699999999995\n",
      "2025-08-20 19:06:05,382 -   Quantile 0.99 for distance in mask below: 4496.119999999966\n",
      "2025-08-20 19:06:05,382 -   Ratio for quantile-distance-to-length above: 0.0071\n",
      "2025-08-20 19:06:05,382 -   Ratio for quantile-distance-to-length below: 0.0068\n",
      "2025-08-20 19:06:05,382 -   Score: 1.0035\n"
     ]
    },
    {
     "name": "stderr",
     "output_type": "stream",
     "text": [
      "[I 2025-08-20 19:06:05,429] Trial 22 finished with value: 1.0034674159961134 and parameters: {'year_start': 2020, 'idxAfterPrediction': 4, 'LoadupSamples_time_inc_factor': 61, 'timesteps': 30, 'LSTM_learning_rate': 0.00022807404474629555, 'LSTM_dropout': 0.04152035200891764, 'is_single_feature': False}. Best is trial 16 with value: 1.0040561593956903.\n"
     ]
    },
    {
     "name": "stdout",
     "output_type": "stream",
     "text": [
      "2025-08-20 19:06:05,429 - Trial 22 finished with value: 1.0034674159961134 and parameters: {'year_start': 2020, 'idxAfterPrediction': 4, 'LoadupSamples_time_inc_factor': 61, 'timesteps': 30, 'LSTM_learning_rate': 0.00022807404474629555, 'LSTM_dropout': 0.04152035200891764, 'is_single_feature': False}. Best is trial 16 with value: 1.0040561593956903.\n",
      "2025-08-20 19:06:12,669 - Non-finite/too-large values in train y time: 36 samples.\n",
      "2025-08-20 19:06:12,684 - Removing 36 samples from training data.\n"
     ]
    },
    {
     "name": "stderr",
     "output_type": "stream",
     "text": [
      "Epochs:   0%|          | 0/2 [00:00<?, ?it/s]"
     ]
    },
    {
     "name": "stdout",
     "output_type": "stream",
     "text": [
      "2025-08-20 19:06:36,365 - Epoch 1/2 — Train RMSE: 0.4337 — Validation RMSE: 0.4005\n"
     ]
    },
    {
     "name": "stderr",
     "output_type": "stream",
     "text": [
      "Epochs:  50%|█████     | 1/2 [00:19<00:19, 19.22s/it]"
     ]
    },
    {
     "name": "stdout",
     "output_type": "stream",
     "text": [
      "2025-08-20 19:06:55,978 - Epoch 2/2 — Train RMSE: 0.4098 — Validation RMSE: 0.4005\n"
     ]
    },
    {
     "name": "stderr",
     "output_type": "stream",
     "text": [
      "Epochs: 100%|██████████| 2/2 [00:38<00:00, 19.42s/it]\n"
     ]
    },
    {
     "name": "stdout",
     "output_type": "stream",
     "text": [
      "2025-08-20 19:06:59,496 - Trial 23 with params: {'idxAfterPrediction': 3, 'timesteps': 35, 'target_option': 'last', 'LoadupSamples_time_scaling_stretch': True, 'LoadupSamples_time_inc_factor': 71, 'LSTM_units': 16, 'LSTM_num_layers': 1, 'LSTM_dropout': 0.03783775115267792, 'LSTM_recurrent_dropout': 0.001, 'LSTM_learning_rate': 0.00042780214961327974, 'LSTM_optimizer': 'adam', 'LSTM_bidirectional': True, 'LSTM_batch_size': 4096, 'LSTM_epochs': 2, 'LSTM_l1': 0.001, 'LSTM_l2': 0.001, 'LSTM_inter_dropout': 0.001, 'LSTM_input_gaussian_noise': 0.001, 'LSTM_conv1d': True, 'LSTM_conv1d_kernel_size': 3, 'LSTM_loss': 'mse', 'year_start': 2021, 'is_single_feature': False}\n",
      "2025-08-20 19:06:59,496 -   q0: 0.9980\n",
      "2025-08-20 19:06:59,496 -   Duration0: 0:00:42.399154\n",
      "2025-08-20 19:06:59,496 -   Val RMSE0 adjusted: 0.0056\n",
      "2025-08-20 19:06:59,496 -   Mean all prediction: 1.0007\n",
      "2025-08-20 19:06:59,496 -   Mean above prediction: 0.9992\n",
      "2025-08-20 19:06:59,512 -   Mean below prediction: 1.0062\n",
      "2025-08-20 19:06:59,512 -   Quantile 0.99 for distance in mask above: 3856.4199999999755\n",
      "2025-08-20 19:06:59,512 -   Quantile 0.99 for distance in mask below: 5094.299999999999\n",
      "2025-08-20 19:06:59,512 -   Ratio for quantile-distance-to-length above: 0.0059\n",
      "2025-08-20 19:06:59,512 -   Ratio for quantile-distance-to-length below: 0.0077\n",
      "2025-08-20 19:06:59,512 -   Score: 0.9997\n"
     ]
    },
    {
     "name": "stderr",
     "output_type": "stream",
     "text": [
      "[I 2025-08-20 19:06:59,543] Trial 23 finished with value: 0.9997455468786463 and parameters: {'year_start': 2021, 'idxAfterPrediction': 3, 'LoadupSamples_time_inc_factor': 71, 'timesteps': 35, 'LSTM_learning_rate': 0.00042780214961327974, 'LSTM_dropout': 0.03783775115267792, 'is_single_feature': False}. Best is trial 16 with value: 1.0040561593956903.\n"
     ]
    },
    {
     "name": "stdout",
     "output_type": "stream",
     "text": [
      "2025-08-20 19:06:59,543 - Trial 23 finished with value: 0.9997455468786463 and parameters: {'year_start': 2021, 'idxAfterPrediction': 3, 'LoadupSamples_time_inc_factor': 71, 'timesteps': 35, 'LSTM_learning_rate': 0.00042780214961327974, 'LSTM_dropout': 0.03783775115267792, 'is_single_feature': False}. Best is trial 16 with value: 1.0040561593956903.\n",
      "2025-08-20 19:07:05,324 - Non-finite/too-large values in train y time: 60 samples.\n",
      "2025-08-20 19:07:05,324 - Removing 60 samples from training data.\n"
     ]
    },
    {
     "name": "stderr",
     "output_type": "stream",
     "text": [
      "Epochs:   0%|          | 0/2 [00:00<?, ?it/s]"
     ]
    },
    {
     "name": "stdout",
     "output_type": "stream",
     "text": [
      "2025-08-20 19:07:23,322 - Epoch 1/2 — Train RMSE: 0.4697 — Validation RMSE: 0.4328\n"
     ]
    },
    {
     "name": "stderr",
     "output_type": "stream",
     "text": [
      "Epochs:  50%|█████     | 1/2 [00:14<00:14, 14.67s/it]"
     ]
    },
    {
     "name": "stdout",
     "output_type": "stream",
     "text": [
      "2025-08-20 19:07:37,854 - Epoch 2/2 — Train RMSE: 0.4442 — Validation RMSE: 0.4305\n"
     ]
    },
    {
     "name": "stderr",
     "output_type": "stream",
     "text": [
      "Epochs: 100%|██████████| 2/2 [00:29<00:00, 14.61s/it]\n"
     ]
    },
    {
     "name": "stdout",
     "output_type": "stream",
     "text": [
      "2025-08-20 19:07:40,902 - Trial 24 with params: {'idxAfterPrediction': 5, 'timesteps': 35, 'target_option': 'last', 'LoadupSamples_time_scaling_stretch': True, 'LoadupSamples_time_inc_factor': 76, 'LSTM_units': 16, 'LSTM_num_layers': 1, 'LSTM_dropout': 0.05300184155575728, 'LSTM_recurrent_dropout': 0.001, 'LSTM_learning_rate': 0.0011916419733690533, 'LSTM_optimizer': 'adam', 'LSTM_bidirectional': True, 'LSTM_batch_size': 4096, 'LSTM_epochs': 2, 'LSTM_l1': 0.001, 'LSTM_l2': 0.001, 'LSTM_inter_dropout': 0.001, 'LSTM_input_gaussian_noise': 0.001, 'LSTM_conv1d': True, 'LSTM_conv1d_kernel_size': 3, 'LSTM_loss': 'mse', 'year_start': 2022, 'is_single_feature': False}\n",
      "2025-08-20 19:07:40,902 -   q0: 0.9980\n",
      "2025-08-20 19:07:40,902 -   Duration0: 0:00:32.294936\n",
      "2025-08-20 19:07:40,917 -   Val RMSE0 adjusted: 0.0057\n",
      "2025-08-20 19:07:40,917 -   Mean all prediction: 1.0015\n",
      "2025-08-20 19:07:40,917 -   Mean above prediction: 1.0112\n",
      "2025-08-20 19:07:40,917 -   Mean below prediction: 0.9997\n",
      "2025-08-20 19:07:40,917 -   Quantile 0.99 for distance in mask above: 4889.13999999998\n",
      "2025-08-20 19:07:40,917 -   Quantile 0.99 for distance in mask below: 4352.659999999997\n",
      "2025-08-20 19:07:40,917 -   Ratio for quantile-distance-to-length above: 0.0074\n",
      "2025-08-20 19:07:40,917 -   Ratio for quantile-distance-to-length below: 0.0066\n",
      "2025-08-20 19:07:40,917 -   Score: 1.0022\n"
     ]
    },
    {
     "name": "stderr",
     "output_type": "stream",
     "text": [
      "[I 2025-08-20 19:07:40,949] Trial 24 finished with value: 1.00222563017984 and parameters: {'year_start': 2022, 'idxAfterPrediction': 5, 'LoadupSamples_time_inc_factor': 76, 'timesteps': 35, 'LSTM_learning_rate': 0.0011916419733690533, 'LSTM_dropout': 0.05300184155575728, 'is_single_feature': False}. Best is trial 16 with value: 1.0040561593956903.\n"
     ]
    },
    {
     "name": "stdout",
     "output_type": "stream",
     "text": [
      "2025-08-20 19:07:40,949 - Trial 24 finished with value: 1.00222563017984 and parameters: {'year_start': 2022, 'idxAfterPrediction': 5, 'LoadupSamples_time_inc_factor': 76, 'timesteps': 35, 'LSTM_learning_rate': 0.0011916419733690533, 'LSTM_dropout': 0.05300184155575728, 'is_single_feature': False}. Best is trial 16 with value: 1.0040561593956903.\n",
      "2025-08-20 19:07:48,315 - Non-finite/too-large values in train y time: 48 samples.\n",
      "2025-08-20 19:07:48,331 - Removing 48 samples from training data.\n"
     ]
    },
    {
     "name": "stderr",
     "output_type": "stream",
     "text": [
      "Epochs:   0%|          | 0/2 [00:00<?, ?it/s]"
     ]
    },
    {
     "name": "stdout",
     "output_type": "stream",
     "text": [
      "2025-08-20 19:08:12,995 - Epoch 1/2 — Train RMSE: 0.5878 — Validation RMSE: 0.4520\n"
     ]
    },
    {
     "name": "stderr",
     "output_type": "stream",
     "text": [
      "Epochs:  50%|█████     | 1/2 [00:19<00:19, 19.28s/it]"
     ]
    },
    {
     "name": "stdout",
     "output_type": "stream",
     "text": [
      "2025-08-20 19:08:32,471 - Epoch 2/2 — Train RMSE: 0.4284 — Validation RMSE: 0.4093\n"
     ]
    },
    {
     "name": "stderr",
     "output_type": "stream",
     "text": [
      "Epochs: 100%|██████████| 2/2 [00:38<00:00, 19.38s/it]\n"
     ]
    },
    {
     "name": "stdout",
     "output_type": "stream",
     "text": [
      "2025-08-20 19:08:35,567 - Trial 25 with params: {'idxAfterPrediction': 4, 'timesteps': 45, 'target_option': 'last', 'LoadupSamples_time_scaling_stretch': True, 'LoadupSamples_time_inc_factor': 66, 'LSTM_units': 16, 'LSTM_num_layers': 1, 'LSTM_dropout': 0.07250311993643671, 'LSTM_recurrent_dropout': 0.001, 'LSTM_learning_rate': 8.51234671071373e-05, 'LSTM_optimizer': 'adam', 'LSTM_bidirectional': True, 'LSTM_batch_size': 4096, 'LSTM_epochs': 2, 'LSTM_l1': 0.001, 'LSTM_l2': 0.001, 'LSTM_inter_dropout': 0.001, 'LSTM_input_gaussian_noise': 0.001, 'LSTM_conv1d': True, 'LSTM_conv1d_kernel_size': 3, 'LSTM_loss': 'mse', 'year_start': 2021, 'is_single_feature': False}\n",
      "2025-08-20 19:08:35,567 -   q0: 0.9980\n",
      "2025-08-20 19:08:35,567 -   Duration0: 0:00:41.915041\n",
      "2025-08-20 19:08:35,567 -   Val RMSE0 adjusted: 0.0062\n",
      "2025-08-20 19:08:35,567 -   Mean all prediction: 1.0011\n",
      "2025-08-20 19:08:35,567 -   Mean above prediction: 1.0052\n",
      "2025-08-20 19:08:35,567 -   Mean below prediction: 0.9981\n",
      "2025-08-20 19:08:35,567 -   Quantile 0.99 for distance in mask above: 5230.739999999979\n",
      "2025-08-20 19:08:35,567 -   Quantile 0.99 for distance in mask below: 4299.2199999999875\n",
      "2025-08-20 19:08:35,567 -   Ratio for quantile-distance-to-length above: 0.0080\n",
      "2025-08-20 19:08:35,567 -   Ratio for quantile-distance-to-length below: 0.0065\n",
      "2025-08-20 19:08:35,567 -   Score: 1.0013\n"
     ]
    },
    {
     "name": "stderr",
     "output_type": "stream",
     "text": [
      "[I 2025-08-20 19:08:35,615] Trial 25 finished with value: 1.0013019737675704 and parameters: {'year_start': 2021, 'idxAfterPrediction': 4, 'LoadupSamples_time_inc_factor': 66, 'timesteps': 45, 'LSTM_learning_rate': 8.51234671071373e-05, 'LSTM_dropout': 0.07250311993643671, 'is_single_feature': False}. Best is trial 16 with value: 1.0040561593956903.\n"
     ]
    },
    {
     "name": "stdout",
     "output_type": "stream",
     "text": [
      "2025-08-20 19:08:35,615 - Trial 25 finished with value: 1.0013019737675704 and parameters: {'year_start': 2021, 'idxAfterPrediction': 4, 'LoadupSamples_time_inc_factor': 66, 'timesteps': 45, 'LSTM_learning_rate': 8.51234671071373e-05, 'LSTM_dropout': 0.07250311993643671, 'is_single_feature': False}. Best is trial 16 with value: 1.0040561593956903.\n",
      "2025-08-20 19:08:42,983 - Non-finite/too-large values in train y time: 72 samples.\n",
      "2025-08-20 19:08:42,983 - Removing 72 samples from training data.\n"
     ]
    },
    {
     "name": "stderr",
     "output_type": "stream",
     "text": [
      "Epochs:   0%|          | 0/2 [00:00<?, ?it/s]"
     ]
    },
    {
     "name": "stdout",
     "output_type": "stream",
     "text": [
      "2025-08-20 19:09:05,965 - Epoch 1/2 — Train RMSE: 0.4452 — Validation RMSE: 0.4137\n"
     ]
    },
    {
     "name": "stderr",
     "output_type": "stream",
     "text": [
      "Epochs:  50%|█████     | 1/2 [00:19<00:19, 19.12s/it]"
     ]
    },
    {
     "name": "stdout",
     "output_type": "stream",
     "text": [
      "2025-08-20 19:09:25,465 - Epoch 2/2 — Train RMSE: 0.4211 — Validation RMSE: 0.4137\n"
     ]
    },
    {
     "name": "stderr",
     "output_type": "stream",
     "text": [
      "Epochs: 100%|██████████| 2/2 [00:38<00:00, 19.31s/it]\n"
     ]
    },
    {
     "name": "stdout",
     "output_type": "stream",
     "text": [
      "2025-08-20 19:09:28,609 - Trial 26 with params: {'idxAfterPrediction': 6, 'timesteps': 30, 'target_option': 'last', 'LoadupSamples_time_scaling_stretch': True, 'LoadupSamples_time_inc_factor': 56, 'LSTM_units': 16, 'LSTM_num_layers': 1, 'LSTM_dropout': 0.021989020951432955, 'LSTM_recurrent_dropout': 0.001, 'LSTM_learning_rate': 0.00022085572607230552, 'LSTM_optimizer': 'adam', 'LSTM_bidirectional': True, 'LSTM_batch_size': 4096, 'LSTM_epochs': 2, 'LSTM_l1': 0.001, 'LSTM_l2': 0.001, 'LSTM_inter_dropout': 0.001, 'LSTM_input_gaussian_noise': 0.001, 'LSTM_conv1d': True, 'LSTM_conv1d_kernel_size': 3, 'LSTM_loss': 'mse', 'year_start': 2021, 'is_single_feature': False}\n",
      "2025-08-20 19:09:28,609 -   q0: 0.9980\n",
      "2025-08-20 19:09:28,609 -   Duration0: 0:00:41.811909\n",
      "2025-08-20 19:09:28,609 -   Val RMSE0 adjusted: 0.0074\n",
      "2025-08-20 19:09:28,609 -   Mean all prediction: 1.0019\n",
      "2025-08-20 19:09:28,609 -   Mean above prediction: 1.0050\n",
      "2025-08-20 19:09:28,609 -   Mean below prediction: 0.9988\n",
      "2025-08-20 19:09:28,609 -   Quantile 0.99 for distance in mask above: 5359.239999999996\n",
      "2025-08-20 19:09:28,609 -   Quantile 0.99 for distance in mask below: 3291.58\n",
      "2025-08-20 19:09:28,609 -   Ratio for quantile-distance-to-length above: 0.0081\n",
      "2025-08-20 19:09:28,609 -   Ratio for quantile-distance-to-length below: 0.0050\n",
      "2025-08-20 19:09:28,609 -   Score: 1.0008\n"
     ]
    },
    {
     "name": "stderr",
     "output_type": "stream",
     "text": [
      "[I 2025-08-20 19:09:28,641] Trial 26 finished with value: 1.0008267741893924 and parameters: {'year_start': 2021, 'idxAfterPrediction': 6, 'LoadupSamples_time_inc_factor': 56, 'timesteps': 30, 'LSTM_learning_rate': 0.00022085572607230552, 'LSTM_dropout': 0.021989020951432955, 'is_single_feature': False}. Best is trial 16 with value: 1.0040561593956903.\n"
     ]
    },
    {
     "name": "stdout",
     "output_type": "stream",
     "text": [
      "2025-08-20 19:09:28,641 - Trial 26 finished with value: 1.0008267741893924 and parameters: {'year_start': 2021, 'idxAfterPrediction': 6, 'LoadupSamples_time_inc_factor': 56, 'timesteps': 30, 'LSTM_learning_rate': 0.00022085572607230552, 'LSTM_dropout': 0.021989020951432955, 'is_single_feature': False}. Best is trial 16 with value: 1.0040561593956903.\n",
      "2025-08-20 19:09:37,660 - Non-finite/too-large values in train y time: 60 samples.\n",
      "2025-08-20 19:09:37,675 - Removing 60 samples from training data.\n"
     ]
    },
    {
     "name": "stderr",
     "output_type": "stream",
     "text": [
      "Epochs:   0%|          | 0/2 [00:00<?, ?it/s]"
     ]
    },
    {
     "name": "stdout",
     "output_type": "stream",
     "text": [
      "2025-08-20 19:10:08,300 - Epoch 1/2 — Train RMSE: 0.4474 — Validation RMSE: 0.4379\n"
     ]
    },
    {
     "name": "stderr",
     "output_type": "stream",
     "text": [
      "Epochs:  50%|█████     | 1/2 [00:23<00:23, 24.00s/it]"
     ]
    },
    {
     "name": "stdout",
     "output_type": "stream",
     "text": [
      "2025-08-20 19:10:32,791 - Epoch 2/2 — Train RMSE: 0.4420 — Validation RMSE: 0.4292\n"
     ]
    },
    {
     "name": "stderr",
     "output_type": "stream",
     "text": [
      "Epochs: 100%|██████████| 2/2 [00:48<00:00, 24.24s/it]\n"
     ]
    },
    {
     "name": "stdout",
     "output_type": "stream",
     "text": [
      "2025-08-20 19:10:36,601 - Trial 27 with params: {'idxAfterPrediction': 5, 'timesteps': 45, 'target_option': 'last', 'LoadupSamples_time_scaling_stretch': True, 'LoadupSamples_time_inc_factor': 76, 'LSTM_units': 16, 'LSTM_num_layers': 1, 'LSTM_dropout': 0.012024780375584809, 'LSTM_recurrent_dropout': 0.001, 'LSTM_learning_rate': 0.004116781810355571, 'LSTM_optimizer': 'adam', 'LSTM_bidirectional': True, 'LSTM_batch_size': 4096, 'LSTM_epochs': 2, 'LSTM_l1': 0.001, 'LSTM_l2': 0.001, 'LSTM_inter_dropout': 0.001, 'LSTM_input_gaussian_noise': 0.001, 'LSTM_conv1d': True, 'LSTM_conv1d_kernel_size': 3, 'LSTM_loss': 'mse', 'year_start': 2020, 'is_single_feature': False}\n",
      "2025-08-20 19:10:36,601 -   q0: 0.9980\n",
      "2025-08-20 19:10:36,601 -   Duration0: 0:00:52.378252\n",
      "2025-08-20 19:10:36,601 -   Val RMSE0 adjusted: 0.0056\n",
      "2025-08-20 19:10:36,601 -   Mean all prediction: 1.0015\n",
      "2025-08-20 19:10:36,601 -   Mean above prediction: 1.0035\n",
      "2025-08-20 19:10:36,601 -   Mean below prediction: 1.0009\n",
      "2025-08-20 19:10:36,617 -   Quantile 0.99 for distance in mask above: 4655.92\n",
      "2025-08-20 19:10:36,617 -   Quantile 0.99 for distance in mask below: 3629.149999999997\n",
      "2025-08-20 19:10:36,617 -   Ratio for quantile-distance-to-length above: 0.0071\n",
      "2025-08-20 19:10:36,617 -   Ratio for quantile-distance-to-length below: 0.0055\n",
      "2025-08-20 19:10:36,617 -   Score: 1.0007\n"
     ]
    },
    {
     "name": "stderr",
     "output_type": "stream",
     "text": [
      "[I 2025-08-20 19:10:36,668] Trial 27 finished with value: 1.000702665373086 and parameters: {'year_start': 2020, 'idxAfterPrediction': 5, 'LoadupSamples_time_inc_factor': 76, 'timesteps': 45, 'LSTM_learning_rate': 0.004116781810355571, 'LSTM_dropout': 0.012024780375584809, 'is_single_feature': False}. Best is trial 16 with value: 1.0040561593956903.\n"
     ]
    },
    {
     "name": "stdout",
     "output_type": "stream",
     "text": [
      "2025-08-20 19:10:36,668 - Trial 27 finished with value: 1.000702665373086 and parameters: {'year_start': 2020, 'idxAfterPrediction': 5, 'LoadupSamples_time_inc_factor': 76, 'timesteps': 45, 'LSTM_learning_rate': 0.004116781810355571, 'LSTM_dropout': 0.012024780375584809, 'is_single_feature': False}. Best is trial 16 with value: 1.0040561593956903.\n",
      "2025-08-20 19:10:42,377 - Non-finite/too-large values in train y time: 36 samples.\n",
      "2025-08-20 19:10:42,393 - Removing 36 samples from training data.\n"
     ]
    },
    {
     "name": "stderr",
     "output_type": "stream",
     "text": [
      "Epochs:   0%|          | 0/2 [00:00<?, ?it/s]"
     ]
    },
    {
     "name": "stdout",
     "output_type": "stream",
     "text": [
      "2025-08-20 19:11:02,095 - Epoch 1/2 — Train RMSE: 0.4524 — Validation RMSE: 0.4114\n"
     ]
    },
    {
     "name": "stderr",
     "output_type": "stream",
     "text": [
      "Epochs:  50%|█████     | 1/2 [00:14<00:14, 14.75s/it]"
     ]
    },
    {
     "name": "stdout",
     "output_type": "stream",
     "text": [
      "2025-08-20 19:11:17,263 - Epoch 2/2 — Train RMSE: 0.4232 — Validation RMSE: 0.4114\n"
     ]
    },
    {
     "name": "stderr",
     "output_type": "stream",
     "text": [
      "Epochs: 100%|██████████| 2/2 [00:29<00:00, 14.96s/it]\n"
     ]
    },
    {
     "name": "stdout",
     "output_type": "stream",
     "text": [
      "2025-08-20 19:11:20,682 - Trial 28 with params: {'idxAfterPrediction': 3, 'timesteps': 55, 'target_option': 'last', 'LoadupSamples_time_scaling_stretch': True, 'LoadupSamples_time_inc_factor': 81, 'LSTM_units': 16, 'LSTM_num_layers': 1, 'LSTM_dropout': 0.041557363040960624, 'LSTM_recurrent_dropout': 0.001, 'LSTM_learning_rate': 0.0005654248083935468, 'LSTM_optimizer': 'adam', 'LSTM_bidirectional': True, 'LSTM_batch_size': 4096, 'LSTM_epochs': 2, 'LSTM_l1': 0.001, 'LSTM_l2': 0.001, 'LSTM_inter_dropout': 0.001, 'LSTM_input_gaussian_noise': 0.001, 'LSTM_conv1d': True, 'LSTM_conv1d_kernel_size': 3, 'LSTM_loss': 'mse', 'year_start': 2022, 'is_single_feature': False}\n",
      "2025-08-20 19:11:20,682 -   q0: 0.9980\n",
      "2025-08-20 19:11:20,682 -   Duration0: 0:00:33.415310\n",
      "2025-08-20 19:11:20,682 -   Val RMSE0 adjusted: 0.0051\n",
      "2025-08-20 19:11:20,682 -   Mean all prediction: 1.0007\n",
      "2025-08-20 19:11:20,682 -   Mean above prediction: 1.0008\n",
      "2025-08-20 19:11:20,682 -   Mean below prediction: 0.9986\n",
      "2025-08-20 19:11:20,682 -   Quantile 0.99 for distance in mask above: 4375.249999999962\n",
      "2025-08-20 19:11:20,682 -   Quantile 0.99 for distance in mask below: 3307.2199999999975\n",
      "2025-08-20 19:11:20,682 -   Ratio for quantile-distance-to-length above: 0.0067\n",
      "2025-08-20 19:11:20,682 -   Ratio for quantile-distance-to-length below: 0.0050\n",
      "2025-08-20 19:11:20,698 -   Score: 1.0003\n"
     ]
    },
    {
     "name": "stderr",
     "output_type": "stream",
     "text": [
      "[I 2025-08-20 19:11:20,729] Trial 28 finished with value: 1.0002820195196975 and parameters: {'year_start': 2022, 'idxAfterPrediction': 3, 'LoadupSamples_time_inc_factor': 81, 'timesteps': 55, 'LSTM_learning_rate': 0.0005654248083935468, 'LSTM_dropout': 0.041557363040960624, 'is_single_feature': False}. Best is trial 16 with value: 1.0040561593956903.\n"
     ]
    },
    {
     "name": "stdout",
     "output_type": "stream",
     "text": [
      "2025-08-20 19:11:20,729 - Trial 28 finished with value: 1.0002820195196975 and parameters: {'year_start': 2022, 'idxAfterPrediction': 3, 'LoadupSamples_time_inc_factor': 81, 'timesteps': 55, 'LSTM_learning_rate': 0.0005654248083935468, 'LSTM_dropout': 0.041557363040960624, 'is_single_feature': False}. Best is trial 16 with value: 1.0040561593956903.\n",
      "2025-08-20 19:11:26,616 - Non-finite/too-large values in train y time: 96 samples.\n",
      "2025-08-20 19:11:26,616 - Removing 96 samples from training data.\n"
     ]
    },
    {
     "name": "stderr",
     "output_type": "stream",
     "text": [
      "Epochs:   0%|          | 0/2 [00:00<?, ?it/s]"
     ]
    },
    {
     "name": "stdout",
     "output_type": "stream",
     "text": [
      "2025-08-20 19:11:44,659 - Epoch 1/2 — Train RMSE: 0.4645 — Validation RMSE: 0.4433\n"
     ]
    },
    {
     "name": "stderr",
     "output_type": "stream",
     "text": [
      "Epochs:  50%|█████     | 1/2 [00:14<00:14, 14.63s/it]"
     ]
    },
    {
     "name": "stdout",
     "output_type": "stream",
     "text": [
      "2025-08-20 19:11:59,578 - Epoch 2/2 — Train RMSE: 0.4543 — Validation RMSE: 0.4406\n"
     ]
    },
    {
     "name": "stderr",
     "output_type": "stream",
     "text": [
      "Epochs: 100%|██████████| 2/2 [00:29<00:00, 14.77s/it]\n"
     ]
    },
    {
     "name": "stdout",
     "output_type": "stream",
     "text": [
      "2025-08-20 19:12:02,884 - Trial 29 with params: {'idxAfterPrediction': 8, 'timesteps': 35, 'target_option': 'last', 'LoadupSamples_time_scaling_stretch': True, 'LoadupSamples_time_inc_factor': 66, 'LSTM_units': 16, 'LSTM_num_layers': 1, 'LSTM_dropout': 0.030307480255152067, 'LSTM_recurrent_dropout': 0.001, 'LSTM_learning_rate': 0.001278480774560847, 'LSTM_optimizer': 'adam', 'LSTM_bidirectional': True, 'LSTM_batch_size': 4096, 'LSTM_epochs': 2, 'LSTM_l1': 0.001, 'LSTM_l2': 0.001, 'LSTM_inter_dropout': 0.001, 'LSTM_input_gaussian_noise': 0.001, 'LSTM_conv1d': True, 'LSTM_conv1d_kernel_size': 3, 'LSTM_loss': 'mse', 'year_start': 2022, 'is_single_feature': False}\n",
      "2025-08-20 19:12:02,885 -   q0: 0.9980\n",
      "2025-08-20 19:12:02,885 -   Duration0: 0:00:32.899012\n",
      "2025-08-20 19:12:02,885 -   Val RMSE0 adjusted: 0.0067\n",
      "2025-08-20 19:12:02,885 -   Mean all prediction: 1.0028\n",
      "2025-08-20 19:12:02,885 -   Mean above prediction: 1.0127\n",
      "2025-08-20 19:12:02,885 -   Mean below prediction: 1.0035\n",
      "2025-08-20 19:12:02,885 -   Quantile 0.99 for distance in mask above: 4460.779999999978\n",
      "2025-08-20 19:12:02,885 -   Quantile 0.99 for distance in mask below: 5076.239999999987\n",
      "2025-08-20 19:12:02,885 -   Ratio for quantile-distance-to-length above: 0.0068\n",
      "2025-08-20 19:12:02,885 -   Ratio for quantile-distance-to-length below: 0.0077\n",
      "2025-08-20 19:12:02,885 -   Score: 1.0016\n"
     ]
    },
    {
     "name": "stderr",
     "output_type": "stream",
     "text": [
      "[I 2025-08-20 19:12:02,916] Trial 29 finished with value: 1.0015726893785937 and parameters: {'year_start': 2022, 'idxAfterPrediction': 8, 'LoadupSamples_time_inc_factor': 66, 'timesteps': 35, 'LSTM_learning_rate': 0.001278480774560847, 'LSTM_dropout': 0.030307480255152067, 'is_single_feature': False}. Best is trial 16 with value: 1.0040561593956903.\n"
     ]
    },
    {
     "name": "stdout",
     "output_type": "stream",
     "text": [
      "2025-08-20 19:12:02,916 - Trial 29 finished with value: 1.0015726893785937 and parameters: {'year_start': 2022, 'idxAfterPrediction': 8, 'LoadupSamples_time_inc_factor': 66, 'timesteps': 35, 'LSTM_learning_rate': 0.001278480774560847, 'LSTM_dropout': 0.030307480255152067, 'is_single_feature': False}. Best is trial 16 with value: 1.0040561593956903.\n",
      "2025-08-20 19:12:10,306 - Non-finite/too-large values in train y time: 48 samples.\n",
      "2025-08-20 19:12:10,306 - Removing 48 samples from training data.\n"
     ]
    },
    {
     "name": "stderr",
     "output_type": "stream",
     "text": [
      "Epochs:   0%|          | 0/2 [00:00<?, ?it/s]"
     ]
    },
    {
     "name": "stdout",
     "output_type": "stream",
     "text": [
      "2025-08-20 19:12:35,641 - Epoch 1/2 — Train RMSE: 0.5526 — Validation RMSE: 0.4856\n"
     ]
    },
    {
     "name": "stderr",
     "output_type": "stream",
     "text": [
      "Epochs:  50%|█████     | 1/2 [00:19<00:19, 19.36s/it]"
     ]
    },
    {
     "name": "stdout",
     "output_type": "stream",
     "text": [
      "2025-08-20 19:12:55,527 - Epoch 2/2 — Train RMSE: 0.4615 — Validation RMSE: 0.4190\n"
     ]
    },
    {
     "name": "stderr",
     "output_type": "stream",
     "text": [
      "Epochs: 100%|██████████| 2/2 [00:39<00:00, 19.62s/it]\n"
     ]
    },
    {
     "name": "stdout",
     "output_type": "stream",
     "text": [
      "2025-08-20 19:12:59,342 - Trial 30 with params: {'idxAfterPrediction': 4, 'timesteps': 50, 'target_option': 'last', 'LoadupSamples_time_scaling_stretch': True, 'LoadupSamples_time_inc_factor': 56, 'LSTM_units': 16, 'LSTM_num_layers': 1, 'LSTM_dropout': 0.005810132080466539, 'LSTM_recurrent_dropout': 0.001, 'LSTM_learning_rate': 4.3001776022176806e-05, 'LSTM_optimizer': 'adam', 'LSTM_bidirectional': True, 'LSTM_batch_size': 4096, 'LSTM_epochs': 2, 'LSTM_l1': 0.001, 'LSTM_l2': 0.001, 'LSTM_inter_dropout': 0.001, 'LSTM_input_gaussian_noise': 0.001, 'LSTM_conv1d': True, 'LSTM_conv1d_kernel_size': 3, 'LSTM_loss': 'mse', 'year_start': 2021, 'is_single_feature': False}\n",
      "2025-08-20 19:12:59,342 -   q0: 0.9980\n",
      "2025-08-20 19:12:59,342 -   Duration0: 0:00:43.137757\n",
      "2025-08-20 19:12:59,357 -   Val RMSE0 adjusted: 0.0075\n",
      "2025-08-20 19:12:59,357 -   Mean all prediction: 1.0011\n",
      "2025-08-20 19:12:59,357 -   Mean above prediction: 1.0042\n",
      "2025-08-20 19:12:59,357 -   Mean below prediction: 0.9937\n",
      "2025-08-20 19:12:59,357 -   Quantile 0.99 for distance in mask above: 4035.6399999999826\n",
      "2025-08-20 19:12:59,357 -   Quantile 0.99 for distance in mask below: 3711.899999999997\n",
      "2025-08-20 19:12:59,357 -   Ratio for quantile-distance-to-length above: 0.0061\n",
      "2025-08-20 19:12:59,357 -   Ratio for quantile-distance-to-length below: 0.0056\n",
      "2025-08-20 19:12:59,357 -   Score: 1.0011\n"
     ]
    },
    {
     "name": "stderr",
     "output_type": "stream",
     "text": [
      "[I 2025-08-20 19:12:59,389] Trial 30 finished with value: 1.0010534194083287 and parameters: {'year_start': 2021, 'idxAfterPrediction': 4, 'LoadupSamples_time_inc_factor': 56, 'timesteps': 50, 'LSTM_learning_rate': 4.3001776022176806e-05, 'LSTM_dropout': 0.005810132080466539, 'is_single_feature': False}. Best is trial 16 with value: 1.0040561593956903.\n"
     ]
    },
    {
     "name": "stdout",
     "output_type": "stream",
     "text": [
      "2025-08-20 19:12:59,389 - Trial 30 finished with value: 1.0010534194083287 and parameters: {'year_start': 2021, 'idxAfterPrediction': 4, 'LoadupSamples_time_inc_factor': 56, 'timesteps': 50, 'LSTM_learning_rate': 4.3001776022176806e-05, 'LSTM_dropout': 0.005810132080466539, 'is_single_feature': False}. Best is trial 16 with value: 1.0040561593956903.\n",
      "2025-08-20 19:13:08,216 - Non-finite/too-large values in train y time: 48 samples.\n",
      "2025-08-20 19:13:08,216 - Removing 48 samples from training data.\n"
     ]
    },
    {
     "name": "stderr",
     "output_type": "stream",
     "text": [
      "Epochs:   0%|          | 0/2 [00:00<?, ?it/s]"
     ]
    },
    {
     "name": "stdout",
     "output_type": "stream",
     "text": [
      "2025-08-20 19:13:36,685 - Epoch 1/2 — Train RMSE: 0.4732 — Validation RMSE: 0.4041\n"
     ]
    },
    {
     "name": "stderr",
     "output_type": "stream",
     "text": [
      "Epochs:  50%|█████     | 1/2 [00:23<00:23, 23.69s/it]"
     ]
    },
    {
     "name": "stdout",
     "output_type": "stream",
     "text": [
      "2025-08-20 19:14:01,230 - Epoch 2/2 — Train RMSE: 0.4146 — Validation RMSE: 0.4015\n"
     ]
    },
    {
     "name": "stderr",
     "output_type": "stream",
     "text": [
      "Epochs: 100%|██████████| 2/2 [00:48<00:00, 24.12s/it]\n"
     ]
    },
    {
     "name": "stdout",
     "output_type": "stream",
     "text": [
      "2025-08-20 19:14:04,455 - Trial 31 with params: {'idxAfterPrediction': 4, 'timesteps': 30, 'target_option': 'last', 'LoadupSamples_time_scaling_stretch': True, 'LoadupSamples_time_inc_factor': 61, 'LSTM_units': 16, 'LSTM_num_layers': 1, 'LSTM_dropout': 0.021106707856634717, 'LSTM_recurrent_dropout': 0.001, 'LSTM_learning_rate': 0.00010773374852638822, 'LSTM_optimizer': 'adam', 'LSTM_bidirectional': True, 'LSTM_batch_size': 4096, 'LSTM_epochs': 2, 'LSTM_l1': 0.001, 'LSTM_l2': 0.001, 'LSTM_inter_dropout': 0.001, 'LSTM_input_gaussian_noise': 0.001, 'LSTM_conv1d': True, 'LSTM_conv1d_kernel_size': 3, 'LSTM_loss': 'mse', 'year_start': 2020, 'is_single_feature': False}\n",
      "2025-08-20 19:14:04,455 -   q0: 0.9980\n",
      "2025-08-20 19:14:04,455 -   Duration0: 0:00:51.505275\n",
      "2025-08-20 19:14:04,455 -   Val RMSE0 adjusted: 0.0066\n",
      "2025-08-20 19:14:04,455 -   Mean all prediction: 1.0011\n",
      "2025-08-20 19:14:04,455 -   Mean above prediction: 1.0199\n",
      "2025-08-20 19:14:04,455 -   Mean below prediction: 1.0007\n",
      "2025-08-20 19:14:04,455 -   Quantile 0.99 for distance in mask above: 5681.679999999957\n",
      "2025-08-20 19:14:04,455 -   Quantile 0.99 for distance in mask below: 3524.799999999997\n",
      "2025-08-20 19:14:04,455 -   Ratio for quantile-distance-to-length above: 0.0086\n",
      "2025-08-20 19:14:04,455 -   Ratio for quantile-distance-to-length below: 0.0054\n",
      "2025-08-20 19:14:04,455 -   Score: 1.0049\n"
     ]
    },
    {
     "name": "stderr",
     "output_type": "stream",
     "text": [
      "[I 2025-08-20 19:14:04,503] Trial 31 finished with value: 1.0049487769776475 and parameters: {'year_start': 2020, 'idxAfterPrediction': 4, 'LoadupSamples_time_inc_factor': 61, 'timesteps': 30, 'LSTM_learning_rate': 0.00010773374852638822, 'LSTM_dropout': 0.021106707856634717, 'is_single_feature': False}. Best is trial 31 with value: 1.0049487769776475.\n"
     ]
    },
    {
     "name": "stdout",
     "output_type": "stream",
     "text": [
      "2025-08-20 19:14:04,503 - Trial 31 finished with value: 1.0049487769776475 and parameters: {'year_start': 2020, 'idxAfterPrediction': 4, 'LoadupSamples_time_inc_factor': 61, 'timesteps': 30, 'LSTM_learning_rate': 0.00010773374852638822, 'LSTM_dropout': 0.021106707856634717, 'is_single_feature': False}. Best is trial 31 with value: 1.0049487769776475.\n",
      "2025-08-20 19:14:13,387 - Non-finite/too-large values in train y time: 48 samples.\n",
      "2025-08-20 19:14:13,387 - Removing 48 samples from training data.\n"
     ]
    },
    {
     "name": "stderr",
     "output_type": "stream",
     "text": [
      "Epochs:   0%|          | 0/2 [00:00<?, ?it/s]"
     ]
    },
    {
     "name": "stdout",
     "output_type": "stream",
     "text": [
      "2025-08-20 19:14:42,569 - Epoch 1/2 — Train RMSE: 0.4523 — Validation RMSE: 0.4094\n"
     ]
    },
    {
     "name": "stderr",
     "output_type": "stream",
     "text": [
      "Epochs:  50%|█████     | 1/2 [00:24<00:24, 24.46s/it]"
     ]
    },
    {
     "name": "stdout",
     "output_type": "stream",
     "text": [
      "2025-08-20 19:15:06,895 - Epoch 2/2 — Train RMSE: 0.4223 — Validation RMSE: 0.4088\n"
     ]
    },
    {
     "name": "stderr",
     "output_type": "stream",
     "text": [
      "Epochs: 100%|██████████| 2/2 [00:48<00:00, 24.39s/it]\n"
     ]
    },
    {
     "name": "stdout",
     "output_type": "stream",
     "text": [
      "2025-08-20 19:15:10,009 - Trial 32 with params: {'idxAfterPrediction': 4, 'timesteps': 30, 'target_option': 'last', 'LoadupSamples_time_scaling_stretch': True, 'LoadupSamples_time_inc_factor': 66, 'LSTM_units': 16, 'LSTM_num_layers': 1, 'LSTM_dropout': 0.025498485306422732, 'LSTM_recurrent_dropout': 0.001, 'LSTM_learning_rate': 0.00026626424712691295, 'LSTM_optimizer': 'adam', 'LSTM_bidirectional': True, 'LSTM_batch_size': 4096, 'LSTM_epochs': 2, 'LSTM_l1': 0.001, 'LSTM_l2': 0.001, 'LSTM_inter_dropout': 0.001, 'LSTM_input_gaussian_noise': 0.001, 'LSTM_conv1d': True, 'LSTM_conv1d_kernel_size': 3, 'LSTM_loss': 'mse', 'year_start': 2020, 'is_single_feature': False}\n",
      "2025-08-20 19:15:10,009 -   q0: 0.9980\n",
      "2025-08-20 19:15:10,009 -   Duration0: 0:00:51.953214\n",
      "2025-08-20 19:15:10,009 -   Val RMSE0 adjusted: 0.0062\n",
      "2025-08-20 19:15:10,009 -   Mean all prediction: 1.0011\n",
      "2025-08-20 19:15:10,009 -   Mean above prediction: 1.0052\n",
      "2025-08-20 19:15:10,009 -   Mean below prediction: 1.0017\n",
      "2025-08-20 19:15:10,009 -   Quantile 0.99 for distance in mask above: 4041.6599999999917\n",
      "2025-08-20 19:15:10,009 -   Quantile 0.99 for distance in mask below: 4572.659999999997\n",
      "2025-08-20 19:15:10,009 -   Ratio for quantile-distance-to-length above: 0.0061\n",
      "2025-08-20 19:15:10,009 -   Ratio for quantile-distance-to-length below: 0.0070\n",
      "2025-08-20 19:15:10,025 -   Score: 1.0013\n"
     ]
    },
    {
     "name": "stderr",
     "output_type": "stream",
     "text": [
      "[I 2025-08-20 19:15:10,057] Trial 32 finished with value: 1.00129122347586 and parameters: {'year_start': 2020, 'idxAfterPrediction': 4, 'LoadupSamples_time_inc_factor': 66, 'timesteps': 30, 'LSTM_learning_rate': 0.00026626424712691295, 'LSTM_dropout': 0.025498485306422732, 'is_single_feature': False}. Best is trial 31 with value: 1.0049487769776475.\n"
     ]
    },
    {
     "name": "stdout",
     "output_type": "stream",
     "text": [
      "2025-08-20 19:15:10,057 - Trial 32 finished with value: 1.00129122347586 and parameters: {'year_start': 2020, 'idxAfterPrediction': 4, 'LoadupSamples_time_inc_factor': 66, 'timesteps': 30, 'LSTM_learning_rate': 0.00026626424712691295, 'LSTM_dropout': 0.025498485306422732, 'is_single_feature': False}. Best is trial 31 with value: 1.0049487769776475.\n",
      "2025-08-20 19:15:20,562 - Non-finite/too-large values in train y time: 60 samples.\n",
      "2025-08-20 19:15:20,577 - Removing 60 samples from training data.\n"
     ]
    },
    {
     "name": "stderr",
     "output_type": "stream",
     "text": [
      "Epochs:   0%|          | 0/2 [00:00<?, ?it/s]"
     ]
    },
    {
     "name": "stdout",
     "output_type": "stream",
     "text": [
      "2025-08-20 19:15:55,499 - Epoch 1/2 — Train RMSE: 0.4875 — Validation RMSE: 0.4061\n"
     ]
    },
    {
     "name": "stderr",
     "output_type": "stream",
     "text": [
      "Epochs:  50%|█████     | 1/2 [00:28<00:28, 28.59s/it]"
     ]
    },
    {
     "name": "stdout",
     "output_type": "stream",
     "text": [
      "2025-08-20 19:16:24,806 - Epoch 2/2 — Train RMSE: 0.4132 — Validation RMSE: 0.4055\n"
     ]
    },
    {
     "name": "stderr",
     "output_type": "stream",
     "text": [
      "Epochs: 100%|██████████| 2/2 [00:57<00:00, 28.95s/it]\n"
     ]
    },
    {
     "name": "stdout",
     "output_type": "stream",
     "text": [
      "2025-08-20 19:16:27,716 - Trial 33 with params: {'idxAfterPrediction': 5, 'timesteps': 35, 'target_option': 'last', 'LoadupSamples_time_scaling_stretch': True, 'LoadupSamples_time_inc_factor': 56, 'LSTM_units': 16, 'LSTM_num_layers': 1, 'LSTM_dropout': 0.015098634877281707, 'LSTM_recurrent_dropout': 0.001, 'LSTM_learning_rate': 0.00010914072895768209, 'LSTM_optimizer': 'adam', 'LSTM_bidirectional': True, 'LSTM_batch_size': 4096, 'LSTM_epochs': 2, 'LSTM_l1': 0.001, 'LSTM_l2': 0.001, 'LSTM_inter_dropout': 0.001, 'LSTM_input_gaussian_noise': 0.001, 'LSTM_conv1d': True, 'LSTM_conv1d_kernel_size': 3, 'LSTM_loss': 'mse', 'year_start': 2019, 'is_single_feature': False}\n",
      "2025-08-20 19:16:27,716 -   q0: 0.9980\n",
      "2025-08-20 19:16:27,716 -   Duration0: 0:01:00.883482\n",
      "2025-08-20 19:16:27,716 -   Val RMSE0 adjusted: 0.0072\n",
      "2025-08-20 19:16:27,716 -   Mean all prediction: 1.0015\n",
      "2025-08-20 19:16:27,716 -   Mean above prediction: 0.9994\n",
      "2025-08-20 19:16:27,716 -   Mean below prediction: 0.9941\n",
      "2025-08-20 19:16:27,716 -   Quantile 0.99 for distance in mask above: 4855.43999999999\n",
      "2025-08-20 19:16:27,732 -   Quantile 0.99 for distance in mask below: 3304.6999999999953\n",
      "2025-08-20 19:16:27,732 -   Ratio for quantile-distance-to-length above: 0.0074\n",
      "2025-08-20 19:16:27,732 -   Ratio for quantile-distance-to-length below: 0.0050\n",
      "2025-08-20 19:16:27,732 -   Score: 0.9999\n"
     ]
    },
    {
     "name": "stderr",
     "output_type": "stream",
     "text": [
      "[I 2025-08-20 19:16:27,771] Trial 33 finished with value: 0.9998890173738002 and parameters: {'year_start': 2019, 'idxAfterPrediction': 5, 'LoadupSamples_time_inc_factor': 56, 'timesteps': 35, 'LSTM_learning_rate': 0.00010914072895768209, 'LSTM_dropout': 0.015098634877281707, 'is_single_feature': False}. Best is trial 31 with value: 1.0049487769776475.\n"
     ]
    },
    {
     "name": "stdout",
     "output_type": "stream",
     "text": [
      "2025-08-20 19:16:27,771 - Trial 33 finished with value: 0.9998890173738002 and parameters: {'year_start': 2019, 'idxAfterPrediction': 5, 'LoadupSamples_time_inc_factor': 56, 'timesteps': 35, 'LSTM_learning_rate': 0.00010914072895768209, 'LSTM_dropout': 0.015098634877281707, 'is_single_feature': False}. Best is trial 31 with value: 1.0049487769776475.\n",
      "2025-08-20 19:16:36,721 - Non-finite/too-large values in train y time: 36 samples.\n",
      "2025-08-20 19:16:36,737 - Removing 36 samples from training data.\n"
     ]
    },
    {
     "name": "stderr",
     "output_type": "stream",
     "text": [
      "Epochs:   0%|          | 0/2 [00:00<?, ?it/s]"
     ]
    },
    {
     "name": "stdout",
     "output_type": "stream",
     "text": [
      "2025-08-20 19:17:06,966 - Epoch 1/2 — Train RMSE: 0.6057 — Validation RMSE: 0.5047\n"
     ]
    },
    {
     "name": "stderr",
     "output_type": "stream",
     "text": [
      "Epochs:  50%|█████     | 1/2 [00:24<00:24, 24.19s/it]"
     ]
    },
    {
     "name": "stdout",
     "output_type": "stream",
     "text": [
      "2025-08-20 19:17:31,532 - Epoch 2/2 — Train RMSE: 0.4696 — Validation RMSE: 0.4154\n"
     ]
    },
    {
     "name": "stderr",
     "output_type": "stream",
     "text": [
      "Epochs: 100%|██████████| 2/2 [00:48<00:00, 24.38s/it]\n"
     ]
    },
    {
     "name": "stdout",
     "output_type": "stream",
     "text": [
      "2025-08-20 19:17:35,196 - Trial 34 with params: {'idxAfterPrediction': 3, 'timesteps': 40, 'target_option': 'last', 'LoadupSamples_time_scaling_stretch': True, 'LoadupSamples_time_inc_factor': 71, 'LSTM_units': 16, 'LSTM_num_layers': 1, 'LSTM_dropout': 0.04397767191487071, 'LSTM_recurrent_dropout': 0.001, 'LSTM_learning_rate': 4.2034968736962844e-05, 'LSTM_optimizer': 'adam', 'LSTM_bidirectional': True, 'LSTM_batch_size': 4096, 'LSTM_epochs': 2, 'LSTM_l1': 0.001, 'LSTM_l2': 0.001, 'LSTM_inter_dropout': 0.001, 'LSTM_input_gaussian_noise': 0.001, 'LSTM_conv1d': True, 'LSTM_conv1d_kernel_size': 3, 'LSTM_loss': 'mse', 'year_start': 2020, 'is_single_feature': False}\n",
      "2025-08-20 19:17:35,196 -   q0: 0.9980\n",
      "2025-08-20 19:17:35,196 -   Duration0: 0:00:52.516381\n",
      "2025-08-20 19:17:35,196 -   Val RMSE0 adjusted: 0.0059\n",
      "2025-08-20 19:17:35,196 -   Mean all prediction: 1.0007\n",
      "2025-08-20 19:17:35,196 -   Mean above prediction: 1.0087\n",
      "2025-08-20 19:17:35,196 -   Mean below prediction: 1.0046\n",
      "2025-08-20 19:17:35,196 -   Quantile 0.99 for distance in mask above: 4866.159999999989\n",
      "2025-08-20 19:17:35,196 -   Quantile 0.99 for distance in mask below: 4338.439999999995\n",
      "2025-08-20 19:17:35,196 -   Ratio for quantile-distance-to-length above: 0.0074\n",
      "2025-08-20 19:17:35,196 -   Ratio for quantile-distance-to-length below: 0.0066\n",
      "2025-08-20 19:17:35,196 -   Score: 1.0029\n"
     ]
    },
    {
     "name": "stderr",
     "output_type": "stream",
     "text": [
      "[I 2025-08-20 19:17:35,243] Trial 34 finished with value: 1.0028934942779115 and parameters: {'year_start': 2020, 'idxAfterPrediction': 3, 'LoadupSamples_time_inc_factor': 71, 'timesteps': 40, 'LSTM_learning_rate': 4.2034968736962844e-05, 'LSTM_dropout': 0.04397767191487071, 'is_single_feature': False}. Best is trial 31 with value: 1.0049487769776475.\n"
     ]
    },
    {
     "name": "stdout",
     "output_type": "stream",
     "text": [
      "2025-08-20 19:17:35,243 - Trial 34 finished with value: 1.0028934942779115 and parameters: {'year_start': 2020, 'idxAfterPrediction': 3, 'LoadupSamples_time_inc_factor': 71, 'timesteps': 40, 'LSTM_learning_rate': 4.2034968736962844e-05, 'LSTM_dropout': 0.04397767191487071, 'is_single_feature': False}. Best is trial 31 with value: 1.0049487769776475.\n",
      "2025-08-20 19:17:45,661 - Non-finite/too-large values in train y time: 36 samples.\n",
      "2025-08-20 19:17:45,661 - Removing 36 samples from training data.\n"
     ]
    },
    {
     "name": "stderr",
     "output_type": "stream",
     "text": [
      "Epochs:   0%|          | 0/2 [00:00<?, ?it/s]"
     ]
    },
    {
     "name": "stdout",
     "output_type": "stream",
     "text": [
      "2025-08-20 19:18:20,069 - Epoch 1/2 — Train RMSE: 0.5953 — Validation RMSE: 0.5013\n"
     ]
    },
    {
     "name": "stderr",
     "output_type": "stream",
     "text": [
      "Epochs:  50%|█████     | 1/2 [00:28<00:28, 28.81s/it]"
     ]
    },
    {
     "name": "stdout",
     "output_type": "stream",
     "text": [
      "2025-08-20 19:18:49,042 - Epoch 2/2 — Train RMSE: 0.4647 — Validation RMSE: 0.4111\n"
     ]
    },
    {
     "name": "stderr",
     "output_type": "stream",
     "text": [
      "Epochs: 100%|██████████| 2/2 [00:57<00:00, 28.89s/it]\n"
     ]
    },
    {
     "name": "stdout",
     "output_type": "stream",
     "text": [
      "2025-08-20 19:18:52,460 - Trial 35 with params: {'idxAfterPrediction': 3, 'timesteps': 30, 'target_option': 'last', 'LoadupSamples_time_scaling_stretch': True, 'LoadupSamples_time_inc_factor': 66, 'LSTM_units': 16, 'LSTM_num_layers': 1, 'LSTM_dropout': 0.06975709428183305, 'LSTM_recurrent_dropout': 0.001, 'LSTM_learning_rate': 2.9814854693156384e-05, 'LSTM_optimizer': 'adam', 'LSTM_bidirectional': True, 'LSTM_batch_size': 4096, 'LSTM_epochs': 2, 'LSTM_l1': 0.001, 'LSTM_l2': 0.001, 'LSTM_inter_dropout': 0.001, 'LSTM_input_gaussian_noise': 0.001, 'LSTM_conv1d': True, 'LSTM_conv1d_kernel_size': 3, 'LSTM_loss': 'mse', 'year_start': 2019, 'is_single_feature': False}\n",
      "2025-08-20 19:18:52,460 -   q0: 0.9980\n",
      "2025-08-20 19:18:52,460 -   Duration0: 0:01:01.282958\n",
      "2025-08-20 19:18:52,460 -   Val RMSE0 adjusted: 0.0062\n",
      "2025-08-20 19:18:52,460 -   Mean all prediction: 1.0007\n",
      "2025-08-20 19:18:52,460 -   Mean above prediction: 1.0106\n",
      "2025-08-20 19:18:52,460 -   Mean below prediction: 1.0050\n",
      "2025-08-20 19:18:52,460 -   Quantile 0.99 for distance in mask above: 5170.519999999957\n",
      "2025-08-20 19:18:52,460 -   Quantile 0.99 for distance in mask below: 4802.119999999986\n",
      "2025-08-20 19:18:52,460 -   Ratio for quantile-distance-to-length above: 0.0079\n",
      "2025-08-20 19:18:52,460 -   Ratio for quantile-distance-to-length below: 0.0073\n",
      "2025-08-20 19:18:52,460 -   Score: 1.0035\n"
     ]
    },
    {
     "name": "stderr",
     "output_type": "stream",
     "text": [
      "[I 2025-08-20 19:18:52,508] Trial 35 finished with value: 1.0035360055135254 and parameters: {'year_start': 2019, 'idxAfterPrediction': 3, 'LoadupSamples_time_inc_factor': 66, 'timesteps': 30, 'LSTM_learning_rate': 2.9814854693156384e-05, 'LSTM_dropout': 0.06975709428183305, 'is_single_feature': False}. Best is trial 31 with value: 1.0049487769776475.\n"
     ]
    },
    {
     "name": "stdout",
     "output_type": "stream",
     "text": [
      "2025-08-20 19:18:52,508 - Trial 35 finished with value: 1.0035360055135254 and parameters: {'year_start': 2019, 'idxAfterPrediction': 3, 'LoadupSamples_time_inc_factor': 66, 'timesteps': 30, 'LSTM_learning_rate': 2.9814854693156384e-05, 'LSTM_dropout': 0.06975709428183305, 'is_single_feature': False}. Best is trial 31 with value: 1.0049487769776475.\n",
      "2025-08-20 19:19:02,821 - Non-finite/too-large values in train y time: 36 samples.\n",
      "2025-08-20 19:19:02,836 - Removing 36 samples from training data.\n"
     ]
    },
    {
     "name": "stderr",
     "output_type": "stream",
     "text": [
      "Epochs:   0%|          | 0/2 [00:00<?, ?it/s]"
     ]
    },
    {
     "name": "stdout",
     "output_type": "stream",
     "text": [
      "2025-08-20 19:19:37,450 - Epoch 1/2 — Train RMSE: 0.6235 — Validation RMSE: 0.5112\n"
     ]
    },
    {
     "name": "stderr",
     "output_type": "stream",
     "text": [
      "Epochs:  50%|█████     | 1/2 [00:29<00:29, 29.03s/it]"
     ]
    },
    {
     "name": "stdout",
     "output_type": "stream",
     "text": [
      "2025-08-20 19:20:06,609 - Epoch 2/2 — Train RMSE: 0.4566 — Validation RMSE: 0.3810\n"
     ]
    },
    {
     "name": "stderr",
     "output_type": "stream",
     "text": [
      "Epochs: 100%|██████████| 2/2 [00:58<00:00, 29.09s/it]\n"
     ]
    },
    {
     "name": "stdout",
     "output_type": "stream",
     "text": [
      "2025-08-20 19:20:09,849 - Trial 36 with params: {'idxAfterPrediction': 3, 'timesteps': 30, 'target_option': 'last', 'LoadupSamples_time_scaling_stretch': True, 'LoadupSamples_time_inc_factor': 46, 'LSTM_units': 16, 'LSTM_num_layers': 1, 'LSTM_dropout': 0.07411181764420384, 'LSTM_recurrent_dropout': 0.001, 'LSTM_learning_rate': 2.625324135829868e-05, 'LSTM_optimizer': 'adam', 'LSTM_bidirectional': True, 'LSTM_batch_size': 4096, 'LSTM_epochs': 2, 'LSTM_l1': 0.001, 'LSTM_l2': 0.001, 'LSTM_inter_dropout': 0.001, 'LSTM_input_gaussian_noise': 0.001, 'LSTM_conv1d': True, 'LSTM_conv1d_kernel_size': 3, 'LSTM_loss': 'mse', 'year_start': 2019, 'is_single_feature': False}\n",
      "2025-08-20 19:20:09,849 -   q0: 0.9980\n",
      "2025-08-20 19:20:09,849 -   Duration0: 0:01:01.477905\n",
      "2025-08-20 19:20:09,849 -   Val RMSE0 adjusted: 0.0083\n",
      "2025-08-20 19:20:09,849 -   Mean all prediction: 1.0007\n",
      "2025-08-20 19:20:09,849 -   Mean above prediction: 1.0045\n",
      "2025-08-20 19:20:09,849 -   Mean below prediction: 0.9996\n",
      "2025-08-20 19:20:09,849 -   Quantile 0.99 for distance in mask above: 4934.199999999998\n",
      "2025-08-20 19:20:09,849 -   Quantile 0.99 for distance in mask below: 3921.979999999986\n",
      "2025-08-20 19:20:09,849 -   Ratio for quantile-distance-to-length above: 0.0075\n",
      "2025-08-20 19:20:09,849 -   Ratio for quantile-distance-to-length below: 0.0060\n",
      "2025-08-20 19:20:09,849 -   Score: 1.0015\n"
     ]
    },
    {
     "name": "stderr",
     "output_type": "stream",
     "text": [
      "[I 2025-08-20 19:20:09,896] Trial 36 finished with value: 1.0014997869777356 and parameters: {'year_start': 2019, 'idxAfterPrediction': 3, 'LoadupSamples_time_inc_factor': 46, 'timesteps': 30, 'LSTM_learning_rate': 2.625324135829868e-05, 'LSTM_dropout': 0.07411181764420384, 'is_single_feature': False}. Best is trial 31 with value: 1.0049487769776475.\n"
     ]
    },
    {
     "name": "stdout",
     "output_type": "stream",
     "text": [
      "2025-08-20 19:20:09,896 - Trial 36 finished with value: 1.0014997869777356 and parameters: {'year_start': 2019, 'idxAfterPrediction': 3, 'LoadupSamples_time_inc_factor': 46, 'timesteps': 30, 'LSTM_learning_rate': 2.625324135829868e-05, 'LSTM_dropout': 0.07411181764420384, 'is_single_feature': False}. Best is trial 31 with value: 1.0049487769776475.\n",
      "2025-08-20 19:20:20,287 - Non-finite/too-large values in train y time: 36 samples.\n",
      "2025-08-20 19:20:20,303 - Removing 36 samples from training data.\n"
     ]
    },
    {
     "name": "stderr",
     "output_type": "stream",
     "text": [
      "Epochs:   0%|          | 0/2 [00:00<?, ?it/s]"
     ]
    },
    {
     "name": "stdout",
     "output_type": "stream",
     "text": [
      "2025-08-20 19:20:55,427 - Epoch 1/2 — Train RMSE: 0.4583 — Validation RMSE: 0.3872\n"
     ]
    },
    {
     "name": "stderr",
     "output_type": "stream",
     "text": [
      "Epochs:  50%|█████     | 1/2 [00:28<00:28, 28.71s/it]"
     ]
    },
    {
     "name": "stdout",
     "output_type": "stream",
     "text": [
      "2025-08-20 19:21:24,367 - Epoch 2/2 — Train RMSE: 0.3960 — Validation RMSE: 0.3869\n"
     ]
    },
    {
     "name": "stderr",
     "output_type": "stream",
     "text": [
      "Epochs: 100%|██████████| 2/2 [00:57<00:00, 28.82s/it]\n"
     ]
    },
    {
     "name": "stdout",
     "output_type": "stream",
     "text": [
      "2025-08-20 19:21:27,711 - Trial 37 with params: {'idxAfterPrediction': 3, 'timesteps': 35, 'target_option': 'last', 'LoadupSamples_time_scaling_stretch': True, 'LoadupSamples_time_inc_factor': 61, 'LSTM_units': 16, 'LSTM_num_layers': 1, 'LSTM_dropout': 0.05337310696621473, 'LSTM_recurrent_dropout': 0.001, 'LSTM_learning_rate': 0.00011273518943101745, 'LSTM_optimizer': 'adam', 'LSTM_bidirectional': True, 'LSTM_batch_size': 4096, 'LSTM_epochs': 2, 'LSTM_l1': 0.001, 'LSTM_l2': 0.001, 'LSTM_inter_dropout': 0.001, 'LSTM_input_gaussian_noise': 0.001, 'LSTM_conv1d': True, 'LSTM_conv1d_kernel_size': 3, 'LSTM_loss': 'mse', 'year_start': 2019, 'is_single_feature': False}\n",
      "2025-08-20 19:21:27,711 -   q0: 0.9980\n",
      "2025-08-20 19:21:27,711 -   Duration0: 0:01:01.058573\n",
      "2025-08-20 19:21:27,711 -   Val RMSE0 adjusted: 0.0063\n",
      "2025-08-20 19:21:27,711 -   Mean all prediction: 1.0007\n",
      "2025-08-20 19:21:27,711 -   Mean above prediction: 1.0132\n",
      "2025-08-20 19:21:27,711 -   Mean below prediction: 0.9979\n",
      "2025-08-20 19:21:27,711 -   Quantile 0.99 for distance in mask above: 5011.539999999991\n",
      "2025-08-20 19:21:27,711 -   Quantile 0.99 for distance in mask below: 3716.8999999999987\n",
      "2025-08-20 19:21:27,711 -   Ratio for quantile-distance-to-length above: 0.0076\n",
      "2025-08-20 19:21:27,711 -   Ratio for quantile-distance-to-length below: 0.0057\n",
      "2025-08-20 19:21:27,711 -   Score: 1.0044\n"
     ]
    },
    {
     "name": "stderr",
     "output_type": "stream",
     "text": [
      "[I 2025-08-20 19:21:27,758] Trial 37 finished with value: 1.004380657889405 and parameters: {'year_start': 2019, 'idxAfterPrediction': 3, 'LoadupSamples_time_inc_factor': 61, 'timesteps': 35, 'LSTM_learning_rate': 0.00011273518943101745, 'LSTM_dropout': 0.05337310696621473, 'is_single_feature': False}. Best is trial 31 with value: 1.0049487769776475.\n"
     ]
    },
    {
     "name": "stdout",
     "output_type": "stream",
     "text": [
      "2025-08-20 19:21:27,758 - Trial 37 finished with value: 1.004380657889405 and parameters: {'year_start': 2019, 'idxAfterPrediction': 3, 'LoadupSamples_time_inc_factor': 61, 'timesteps': 35, 'LSTM_learning_rate': 0.00011273518943101745, 'LSTM_dropout': 0.05337310696621473, 'is_single_feature': False}. Best is trial 31 with value: 1.0049487769776475.\n",
      "2025-08-20 19:21:38,155 - Non-finite/too-large values in train y time: 36 samples.\n",
      "2025-08-20 19:21:38,171 - Removing 36 samples from training data.\n"
     ]
    },
    {
     "name": "stderr",
     "output_type": "stream",
     "text": [
      "Epochs:   0%|          | 0/2 [00:00<?, ?it/s]"
     ]
    },
    {
     "name": "stdout",
     "output_type": "stream",
     "text": [
      "2025-08-20 19:22:13,609 - Epoch 1/2 — Train RMSE: 0.5785 — Validation RMSE: 0.5206\n"
     ]
    },
    {
     "name": "stderr",
     "output_type": "stream",
     "text": [
      "Epochs:  50%|█████     | 1/2 [00:29<00:29, 29.01s/it]"
     ]
    },
    {
     "name": "stdout",
     "output_type": "stream",
     "text": [
      "2025-08-20 19:22:42,586 - Epoch 2/2 — Train RMSE: 0.5084 — Validation RMSE: 0.4551\n"
     ]
    },
    {
     "name": "stderr",
     "output_type": "stream",
     "text": [
      "Epochs: 100%|██████████| 2/2 [00:57<00:00, 28.99s/it]\n"
     ]
    },
    {
     "name": "stdout",
     "output_type": "stream",
     "text": [
      "2025-08-20 19:22:45,902 - Trial 38 with params: {'idxAfterPrediction': 3, 'timesteps': 35, 'target_option': 'last', 'LoadupSamples_time_scaling_stretch': True, 'LoadupSamples_time_inc_factor': 46, 'LSTM_units': 16, 'LSTM_num_layers': 1, 'LSTM_dropout': 0.09813314328713107, 'LSTM_recurrent_dropout': 0.001, 'LSTM_learning_rate': 1.3547318094518495e-05, 'LSTM_optimizer': 'adam', 'LSTM_bidirectional': True, 'LSTM_batch_size': 4096, 'LSTM_epochs': 2, 'LSTM_l1': 0.001, 'LSTM_l2': 0.001, 'LSTM_inter_dropout': 0.001, 'LSTM_input_gaussian_noise': 0.001, 'LSTM_conv1d': True, 'LSTM_conv1d_kernel_size': 3, 'LSTM_loss': 'mse', 'year_start': 2019, 'is_single_feature': False}\n",
      "2025-08-20 19:22:45,902 -   q0: 0.9980\n",
      "2025-08-20 19:22:45,902 -   Duration0: 0:01:01.382380\n",
      "2025-08-20 19:22:45,902 -   Val RMSE0 adjusted: 0.0099\n",
      "2025-08-20 19:22:45,902 -   Mean all prediction: 1.0007\n",
      "2025-08-20 19:22:45,902 -   Mean above prediction: 1.0019\n",
      "2025-08-20 19:22:45,902 -   Mean below prediction: 0.9978\n",
      "2025-08-20 19:22:45,902 -   Quantile 0.99 for distance in mask above: 4953.939999999997\n",
      "2025-08-20 19:22:45,902 -   Quantile 0.99 for distance in mask below: 3829.939999999977\n",
      "2025-08-20 19:22:45,902 -   Ratio for quantile-distance-to-length above: 0.0075\n",
      "2025-08-20 19:22:45,918 -   Ratio for quantile-distance-to-length below: 0.0058\n",
      "2025-08-20 19:22:45,918 -   Score: 1.0006\n"
     ]
    },
    {
     "name": "stderr",
     "output_type": "stream",
     "text": [
      "[I 2025-08-20 19:22:45,954] Trial 38 finished with value: 1.0006369920471352 and parameters: {'year_start': 2019, 'idxAfterPrediction': 3, 'LoadupSamples_time_inc_factor': 46, 'timesteps': 35, 'LSTM_learning_rate': 1.3547318094518495e-05, 'LSTM_dropout': 0.09813314328713107, 'is_single_feature': False}. Best is trial 31 with value: 1.0049487769776475.\n"
     ]
    },
    {
     "name": "stdout",
     "output_type": "stream",
     "text": [
      "2025-08-20 19:22:45,954 - Trial 38 finished with value: 1.0006369920471352 and parameters: {'year_start': 2019, 'idxAfterPrediction': 3, 'LoadupSamples_time_inc_factor': 46, 'timesteps': 35, 'LSTM_learning_rate': 1.3547318094518495e-05, 'LSTM_dropout': 0.09813314328713107, 'is_single_feature': False}. Best is trial 31 with value: 1.0049487769776475.\n",
      "2025-08-20 19:22:56,363 - Non-finite/too-large values in train y time: 36 samples.\n",
      "2025-08-20 19:22:56,363 - Removing 36 samples from training data.\n"
     ]
    },
    {
     "name": "stderr",
     "output_type": "stream",
     "text": [
      "Epochs:   0%|          | 0/2 [00:00<?, ?it/s]"
     ]
    },
    {
     "name": "stdout",
     "output_type": "stream",
     "text": [
      "2025-08-20 19:23:33,405 - Epoch 1/2 — Train RMSE: 0.5874 — Validation RMSE: 0.4226\n"
     ]
    },
    {
     "name": "stderr",
     "output_type": "stream",
     "text": [
      "Epochs:  50%|█████     | 1/2 [00:29<00:29, 29.06s/it]"
     ]
    },
    {
     "name": "stdout",
     "output_type": "stream",
     "text": [
      "2025-08-20 19:24:02,648 - Epoch 2/2 — Train RMSE: 0.4093 — Validation RMSE: 0.3949\n"
     ]
    },
    {
     "name": "stderr",
     "output_type": "stream",
     "text": [
      "Epochs: 100%|██████████| 2/2 [00:58<00:00, 29.15s/it]\n"
     ]
    },
    {
     "name": "stdout",
     "output_type": "stream",
     "text": [
      "2025-08-20 19:24:06,103 - Trial 39 with params: {'idxAfterPrediction': 3, 'timesteps': 45, 'target_option': 'last', 'LoadupSamples_time_scaling_stretch': True, 'LoadupSamples_time_inc_factor': 66, 'LSTM_units': 16, 'LSTM_num_layers': 1, 'LSTM_dropout': 0.05441877662271533, 'LSTM_recurrent_dropout': 0.001, 'LSTM_learning_rate': 6.0085008143979657e-05, 'LSTM_optimizer': 'adam', 'LSTM_bidirectional': True, 'LSTM_batch_size': 4096, 'LSTM_epochs': 2, 'LSTM_l1': 0.001, 'LSTM_l2': 0.001, 'LSTM_inter_dropout': 0.001, 'LSTM_input_gaussian_noise': 0.001, 'LSTM_conv1d': True, 'LSTM_conv1d_kernel_size': 3, 'LSTM_loss': 'mse', 'year_start': 2019, 'is_single_feature': False}\n",
      "2025-08-20 19:24:06,103 -   q0: 0.9980\n",
      "2025-08-20 19:24:06,103 -   Duration0: 0:01:01.850096\n",
      "2025-08-20 19:24:06,103 -   Val RMSE0 adjusted: 0.0060\n",
      "2025-08-20 19:24:06,103 -   Mean all prediction: 1.0007\n",
      "2025-08-20 19:24:06,103 -   Mean above prediction: 1.0143\n",
      "2025-08-20 19:24:06,103 -   Mean below prediction: 1.0037\n",
      "2025-08-20 19:24:06,103 -   Quantile 0.99 for distance in mask above: 5905.459999999989\n",
      "2025-08-20 19:24:06,103 -   Quantile 0.99 for distance in mask below: 4815.059999999983\n",
      "2025-08-20 19:24:06,103 -   Ratio for quantile-distance-to-length above: 0.0090\n",
      "2025-08-20 19:24:06,103 -   Ratio for quantile-distance-to-length below: 0.0073\n",
      "2025-08-20 19:24:06,103 -   Score: 1.0048\n"
     ]
    },
    {
     "name": "stderr",
     "output_type": "stream",
     "text": [
      "[I 2025-08-20 19:24:06,151] Trial 39 finished with value: 1.004758043384402 and parameters: {'year_start': 2019, 'idxAfterPrediction': 3, 'LoadupSamples_time_inc_factor': 66, 'timesteps': 45, 'LSTM_learning_rate': 6.0085008143979657e-05, 'LSTM_dropout': 0.05441877662271533, 'is_single_feature': False}. Best is trial 31 with value: 1.0049487769776475.\n"
     ]
    },
    {
     "name": "stdout",
     "output_type": "stream",
     "text": [
      "2025-08-20 19:24:06,151 - Trial 39 finished with value: 1.004758043384402 and parameters: {'year_start': 2019, 'idxAfterPrediction': 3, 'LoadupSamples_time_inc_factor': 66, 'timesteps': 45, 'LSTM_learning_rate': 6.0085008143979657e-05, 'LSTM_dropout': 0.05441877662271533, 'is_single_feature': False}. Best is trial 31 with value: 1.0049487769776475.\n",
      "2025-08-20 19:24:16,611 - Non-finite/too-large values in train y time: 36 samples.\n",
      "2025-08-20 19:24:16,626 - Removing 36 samples from training data.\n"
     ]
    },
    {
     "name": "stderr",
     "output_type": "stream",
     "text": [
      "Epochs:   0%|          | 0/2 [00:00<?, ?it/s]"
     ]
    },
    {
     "name": "stdout",
     "output_type": "stream",
     "text": [
      "2025-08-20 19:24:54,592 - Epoch 1/2 — Train RMSE: 0.5586 — Validation RMSE: 0.3838\n"
     ]
    },
    {
     "name": "stderr",
     "output_type": "stream",
     "text": [
      "Epochs:  50%|█████     | 1/2 [00:29<00:29, 29.23s/it]"
     ]
    },
    {
     "name": "stdout",
     "output_type": "stream",
     "text": [
      "2025-08-20 19:25:23,237 - Epoch 2/2 — Train RMSE: 0.3885 — Validation RMSE: 0.3783\n"
     ]
    },
    {
     "name": "stderr",
     "output_type": "stream",
     "text": [
      "Epochs: 100%|██████████| 2/2 [00:57<00:00, 28.94s/it]\n"
     ]
    },
    {
     "name": "stdout",
     "output_type": "stream",
     "text": [
      "2025-08-20 19:25:26,585 - Trial 40 with params: {'idxAfterPrediction': 3, 'timesteps': 50, 'target_option': 'last', 'LoadupSamples_time_scaling_stretch': True, 'LoadupSamples_time_inc_factor': 56, 'LSTM_units': 16, 'LSTM_num_layers': 1, 'LSTM_dropout': 0.05428974950249408, 'LSTM_recurrent_dropout': 0.001, 'LSTM_learning_rate': 6.0513100932354876e-05, 'LSTM_optimizer': 'adam', 'LSTM_bidirectional': True, 'LSTM_batch_size': 4096, 'LSTM_epochs': 2, 'LSTM_l1': 0.001, 'LSTM_l2': 0.001, 'LSTM_inter_dropout': 0.001, 'LSTM_input_gaussian_noise': 0.001, 'LSTM_conv1d': True, 'LSTM_conv1d_kernel_size': 3, 'LSTM_loss': 'mse', 'year_start': 2019, 'is_single_feature': True}\n",
      "2025-08-20 19:25:26,585 -   q0: 0.9980\n",
      "2025-08-20 19:25:26,585 -   Duration0: 0:01:01.281824\n",
      "2025-08-20 19:25:26,585 -   Val RMSE0 adjusted: 0.0068\n",
      "2025-08-20 19:25:26,601 -   Mean all prediction: 1.0007\n",
      "2025-08-20 19:25:26,601 -   Mean above prediction: 0.9991\n",
      "2025-08-20 19:25:26,601 -   Mean below prediction: 1.0015\n",
      "2025-08-20 19:25:26,601 -   Quantile 0.99 for distance in mask above: 4624.449999999993\n",
      "2025-08-20 19:25:26,601 -   Quantile 0.99 for distance in mask below: 4163.199999999988\n",
      "2025-08-20 19:25:26,601 -   Ratio for quantile-distance-to-length above: 0.0070\n",
      "2025-08-20 19:25:26,601 -   Ratio for quantile-distance-to-length below: 0.0063\n",
      "2025-08-20 19:25:26,601 -   Score: 0.9997\n"
     ]
    },
    {
     "name": "stderr",
     "output_type": "stream",
     "text": [
      "[I 2025-08-20 19:25:26,664] Trial 40 finished with value: 0.9997070804756303 and parameters: {'year_start': 2019, 'idxAfterPrediction': 3, 'LoadupSamples_time_inc_factor': 56, 'timesteps': 50, 'LSTM_learning_rate': 6.0513100932354876e-05, 'LSTM_dropout': 0.05428974950249408, 'is_single_feature': True}. Best is trial 31 with value: 1.0049487769776475.\n"
     ]
    },
    {
     "name": "stdout",
     "output_type": "stream",
     "text": [
      "2025-08-20 19:25:26,664 - Trial 40 finished with value: 0.9997070804756303 and parameters: {'year_start': 2019, 'idxAfterPrediction': 3, 'LoadupSamples_time_inc_factor': 56, 'timesteps': 50, 'LSTM_learning_rate': 6.0513100932354876e-05, 'LSTM_dropout': 0.05428974950249408, 'is_single_feature': True}. Best is trial 31 with value: 1.0049487769776475.\n",
      "2025-08-20 19:25:37,137 - Non-finite/too-large values in train y time: 36 samples.\n",
      "2025-08-20 19:25:37,137 - Removing 36 samples from training data.\n"
     ]
    },
    {
     "name": "stderr",
     "output_type": "stream",
     "text": [
      "Epochs:   0%|          | 0/2 [00:00<?, ?it/s]"
     ]
    },
    {
     "name": "stdout",
     "output_type": "stream",
     "text": [
      "2025-08-20 19:26:12,546 - Epoch 1/2 — Train RMSE: 0.6624 — Validation RMSE: 0.5535\n"
     ]
    },
    {
     "name": "stderr",
     "output_type": "stream",
     "text": [
      "Epochs:  50%|█████     | 1/2 [00:29<00:29, 29.05s/it]"
     ]
    },
    {
     "name": "stdout",
     "output_type": "stream",
     "text": [
      "2025-08-20 19:26:41,426 - Epoch 2/2 — Train RMSE: 0.4967 — Validation RMSE: 0.4191\n"
     ]
    },
    {
     "name": "stderr",
     "output_type": "stream",
     "text": [
      "Epochs: 100%|██████████| 2/2 [00:57<00:00, 28.96s/it]\n"
     ]
    },
    {
     "name": "stdout",
     "output_type": "stream",
     "text": [
      "2025-08-20 19:26:44,829 - Trial 41 with params: {'idxAfterPrediction': 3, 'timesteps': 35, 'target_option': 'last', 'LoadupSamples_time_scaling_stretch': True, 'LoadupSamples_time_inc_factor': 66, 'LSTM_units': 16, 'LSTM_num_layers': 1, 'LSTM_dropout': 0.07000537317728078, 'LSTM_recurrent_dropout': 0.001, 'LSTM_learning_rate': 3.0527674521325473e-05, 'LSTM_optimizer': 'adam', 'LSTM_bidirectional': True, 'LSTM_batch_size': 4096, 'LSTM_epochs': 2, 'LSTM_l1': 0.001, 'LSTM_l2': 0.001, 'LSTM_inter_dropout': 0.001, 'LSTM_input_gaussian_noise': 0.001, 'LSTM_conv1d': True, 'LSTM_conv1d_kernel_size': 3, 'LSTM_loss': 'mse', 'year_start': 2019, 'is_single_feature': False}\n",
      "2025-08-20 19:26:44,829 -   q0: 0.9980\n",
      "2025-08-20 19:26:44,829 -   Duration0: 0:01:01.397274\n",
      "2025-08-20 19:26:44,829 -   Val RMSE0 adjusted: 0.0064\n",
      "2025-08-20 19:26:44,829 -   Mean all prediction: 1.0007\n",
      "2025-08-20 19:26:44,829 -   Mean above prediction: 1.0131\n",
      "2025-08-20 19:26:44,829 -   Mean below prediction: 1.0005\n",
      "2025-08-20 19:26:44,829 -   Quantile 0.99 for distance in mask above: 5415.059999999988\n",
      "2025-08-20 19:26:44,829 -   Quantile 0.99 for distance in mask below: 4282.059999999993\n",
      "2025-08-20 19:26:44,829 -   Ratio for quantile-distance-to-length above: 0.0082\n",
      "2025-08-20 19:26:44,829 -   Ratio for quantile-distance-to-length below: 0.0065\n",
      "2025-08-20 19:26:44,829 -   Score: 1.0043\n"
     ]
    },
    {
     "name": "stderr",
     "output_type": "stream",
     "text": [
      "[I 2025-08-20 19:26:44,886] Trial 41 finished with value: 1.0043480027965521 and parameters: {'year_start': 2019, 'idxAfterPrediction': 3, 'LoadupSamples_time_inc_factor': 66, 'timesteps': 35, 'LSTM_learning_rate': 3.0527674521325473e-05, 'LSTM_dropout': 0.07000537317728078, 'is_single_feature': False}. Best is trial 31 with value: 1.0049487769776475.\n"
     ]
    },
    {
     "name": "stdout",
     "output_type": "stream",
     "text": [
      "2025-08-20 19:26:44,886 - Trial 41 finished with value: 1.0043480027965521 and parameters: {'year_start': 2019, 'idxAfterPrediction': 3, 'LoadupSamples_time_inc_factor': 66, 'timesteps': 35, 'LSTM_learning_rate': 3.0527674521325473e-05, 'LSTM_dropout': 0.07000537317728078, 'is_single_feature': False}. Best is trial 31 with value: 1.0049487769776475.\n",
      "2025-08-20 19:26:55,315 - Non-finite/too-large values in train y time: 36 samples.\n",
      "2025-08-20 19:26:55,315 - Removing 36 samples from training data.\n"
     ]
    },
    {
     "name": "stderr",
     "output_type": "stream",
     "text": [
      "Epochs:   0%|          | 0/2 [00:00<?, ?it/s]"
     ]
    },
    {
     "name": "stdout",
     "output_type": "stream",
     "text": [
      "2025-08-20 19:27:32,185 - Epoch 1/2 — Train RMSE: 0.4730 — Validation RMSE: 0.3870\n"
     ]
    },
    {
     "name": "stderr",
     "output_type": "stream",
     "text": [
      "Epochs:  50%|█████     | 1/2 [00:28<00:28, 29.00s/it]"
     ]
    },
    {
     "name": "stdout",
     "output_type": "stream",
     "text": [
      "2025-08-20 19:28:01,419 - Epoch 2/2 — Train RMSE: 0.3956 — Validation RMSE: 0.3867\n"
     ]
    },
    {
     "name": "stderr",
     "output_type": "stream",
     "text": [
      "Epochs: 100%|██████████| 2/2 [00:58<00:00, 29.12s/it]\n"
     ]
    },
    {
     "name": "stdout",
     "output_type": "stream",
     "text": [
      "2025-08-20 19:28:04,795 - Trial 42 with params: {'idxAfterPrediction': 3, 'timesteps': 45, 'target_option': 'last', 'LoadupSamples_time_scaling_stretch': True, 'LoadupSamples_time_inc_factor': 61, 'LSTM_units': 16, 'LSTM_num_layers': 1, 'LSTM_dropout': 0.051558997113778406, 'LSTM_recurrent_dropout': 0.001, 'LSTM_learning_rate': 0.00010937989115508438, 'LSTM_optimizer': 'adam', 'LSTM_bidirectional': True, 'LSTM_batch_size': 4096, 'LSTM_epochs': 2, 'LSTM_l1': 0.001, 'LSTM_l2': 0.001, 'LSTM_inter_dropout': 0.001, 'LSTM_input_gaussian_noise': 0.001, 'LSTM_conv1d': True, 'LSTM_conv1d_kernel_size': 3, 'LSTM_loss': 'mse', 'year_start': 2019, 'is_single_feature': False}\n",
      "2025-08-20 19:28:04,795 -   q0: 0.9980\n",
      "2025-08-20 19:28:04,795 -   Duration0: 0:01:01.765240\n",
      "2025-08-20 19:28:04,795 -   Val RMSE0 adjusted: 0.0063\n",
      "2025-08-20 19:28:04,795 -   Mean all prediction: 1.0007\n",
      "2025-08-20 19:28:04,795 -   Mean above prediction: 1.0123\n",
      "2025-08-20 19:28:04,795 -   Mean below prediction: 1.0038\n",
      "2025-08-20 19:28:04,795 -   Quantile 0.99 for distance in mask above: 3790.4199999999955\n",
      "2025-08-20 19:28:04,795 -   Quantile 0.99 for distance in mask below: 4580.459999999989\n",
      "2025-08-20 19:28:04,811 -   Ratio for quantile-distance-to-length above: 0.0058\n",
      "2025-08-20 19:28:04,811 -   Ratio for quantile-distance-to-length below: 0.0070\n",
      "2025-08-20 19:28:04,811 -   Score: 1.0041\n"
     ]
    },
    {
     "name": "stderr",
     "output_type": "stream",
     "text": [
      "[I 2025-08-20 19:28:04,859] Trial 42 finished with value: 1.0040816314363785 and parameters: {'year_start': 2019, 'idxAfterPrediction': 3, 'LoadupSamples_time_inc_factor': 61, 'timesteps': 45, 'LSTM_learning_rate': 0.00010937989115508438, 'LSTM_dropout': 0.051558997113778406, 'is_single_feature': False}. Best is trial 31 with value: 1.0049487769776475.\n"
     ]
    },
    {
     "name": "stdout",
     "output_type": "stream",
     "text": [
      "2025-08-20 19:28:04,859 - Trial 42 finished with value: 1.0040816314363785 and parameters: {'year_start': 2019, 'idxAfterPrediction': 3, 'LoadupSamples_time_inc_factor': 61, 'timesteps': 45, 'LSTM_learning_rate': 0.00010937989115508438, 'LSTM_dropout': 0.051558997113778406, 'is_single_feature': False}. Best is trial 31 with value: 1.0049487769776475.\n",
      "2025-08-20 19:28:15,393 - Non-finite/too-large values in train y time: 36 samples.\n",
      "2025-08-20 19:28:15,409 - Removing 36 samples from training data.\n"
     ]
    },
    {
     "name": "stderr",
     "output_type": "stream",
     "text": [
      "Epochs:   0%|          | 0/2 [00:00<?, ?it/s]"
     ]
    },
    {
     "name": "stdout",
     "output_type": "stream",
     "text": [
      "2025-08-20 19:28:54,827 - Epoch 1/2 — Train RMSE: 0.4352 — Validation RMSE: 0.3912\n"
     ]
    },
    {
     "name": "stderr",
     "output_type": "stream",
     "text": [
      "Epochs:  50%|█████     | 1/2 [00:29<00:29, 29.26s/it]"
     ]
    },
    {
     "name": "stdout",
     "output_type": "stream",
     "text": [
      "2025-08-20 19:29:24,017 - Epoch 2/2 — Train RMSE: 0.3968 — Validation RMSE: 0.3869\n"
     ]
    },
    {
     "name": "stderr",
     "output_type": "stream",
     "text": [
      "Epochs: 100%|██████████| 2/2 [00:58<00:00, 29.23s/it]\n"
     ]
    },
    {
     "name": "stdout",
     "output_type": "stream",
     "text": [
      "2025-08-20 19:29:27,611 - Trial 43 with params: {'idxAfterPrediction': 3, 'timesteps': 60, 'target_option': 'last', 'LoadupSamples_time_scaling_stretch': True, 'LoadupSamples_time_inc_factor': 61, 'LSTM_units': 16, 'LSTM_num_layers': 1, 'LSTM_dropout': 0.050570162918976674, 'LSTM_recurrent_dropout': 0.001, 'LSTM_learning_rate': 5.114980805183169e-05, 'LSTM_optimizer': 'adam', 'LSTM_bidirectional': True, 'LSTM_batch_size': 4096, 'LSTM_epochs': 2, 'LSTM_l1': 0.001, 'LSTM_l2': 0.001, 'LSTM_inter_dropout': 0.001, 'LSTM_input_gaussian_noise': 0.001, 'LSTM_conv1d': True, 'LSTM_conv1d_kernel_size': 3, 'LSTM_loss': 'mse', 'year_start': 2019, 'is_single_feature': False}\n",
      "2025-08-20 19:29:27,611 -   q0: 0.9980\n",
      "2025-08-20 19:29:27,611 -   Duration0: 0:01:02.175638\n",
      "2025-08-20 19:29:27,611 -   Val RMSE0 adjusted: 0.0063\n",
      "2025-08-20 19:29:27,611 -   Mean all prediction: 1.0007\n",
      "2025-08-20 19:29:27,611 -   Mean above prediction: 1.0005\n",
      "2025-08-20 19:29:27,611 -   Mean below prediction: 1.0029\n",
      "2025-08-20 19:29:27,627 -   Quantile 0.99 for distance in mask above: 3785.3399999999983\n",
      "2025-08-20 19:29:27,627 -   Quantile 0.99 for distance in mask below: 4340.259999999996\n",
      "2025-08-20 19:29:27,627 -   Ratio for quantile-distance-to-length above: 0.0058\n",
      "2025-08-20 19:29:27,627 -   Ratio for quantile-distance-to-length below: 0.0066\n",
      "2025-08-20 19:29:27,627 -   Score: 1.0002\n"
     ]
    },
    {
     "name": "stderr",
     "output_type": "stream",
     "text": [
      "[I 2025-08-20 19:29:27,683] Trial 43 finished with value: 1.0001638328603581 and parameters: {'year_start': 2019, 'idxAfterPrediction': 3, 'LoadupSamples_time_inc_factor': 61, 'timesteps': 60, 'LSTM_learning_rate': 5.114980805183169e-05, 'LSTM_dropout': 0.050570162918976674, 'is_single_feature': False}. Best is trial 31 with value: 1.0049487769776475.\n"
     ]
    },
    {
     "name": "stdout",
     "output_type": "stream",
     "text": [
      "2025-08-20 19:29:27,683 - Trial 43 finished with value: 1.0001638328603581 and parameters: {'year_start': 2019, 'idxAfterPrediction': 3, 'LoadupSamples_time_inc_factor': 61, 'timesteps': 60, 'LSTM_learning_rate': 5.114980805183169e-05, 'LSTM_dropout': 0.050570162918976674, 'is_single_feature': False}. Best is trial 31 with value: 1.0049487769776475.\n",
      "2025-08-20 19:29:38,104 - Non-finite/too-large values in train y time: 36 samples.\n",
      "2025-08-20 19:29:38,104 - Removing 36 samples from training data.\n"
     ]
    },
    {
     "name": "stderr",
     "output_type": "stream",
     "text": [
      "Epochs:   0%|          | 0/2 [00:00<?, ?it/s]"
     ]
    },
    {
     "name": "stdout",
     "output_type": "stream",
     "text": [
      "2025-08-20 19:30:15,446 - Epoch 1/2 — Train RMSE: 0.4461 — Validation RMSE: 0.3871\n"
     ]
    },
    {
     "name": "stderr",
     "output_type": "stream",
     "text": [
      "Epochs:  50%|█████     | 1/2 [00:29<00:29, 29.51s/it]"
     ]
    },
    {
     "name": "stdout",
     "output_type": "stream",
     "text": [
      "2025-08-20 19:30:44,533 - Epoch 2/2 — Train RMSE: 0.3955 — Validation RMSE: 0.3867\n"
     ]
    },
    {
     "name": "stderr",
     "output_type": "stream",
     "text": [
      "Epochs: 100%|██████████| 2/2 [00:58<00:00, 29.30s/it]\n"
     ]
    },
    {
     "name": "stdout",
     "output_type": "stream",
     "text": [
      "2025-08-20 19:30:48,042 - Trial 44 with params: {'idxAfterPrediction': 3, 'timesteps': 45, 'target_option': 'last', 'LoadupSamples_time_scaling_stretch': True, 'LoadupSamples_time_inc_factor': 61, 'LSTM_units': 16, 'LSTM_num_layers': 1, 'LSTM_dropout': 0.030515237873160288, 'LSTM_recurrent_dropout': 0.001, 'LSTM_learning_rate': 0.00010419500765747581, 'LSTM_optimizer': 'adam', 'LSTM_bidirectional': True, 'LSTM_batch_size': 4096, 'LSTM_epochs': 2, 'LSTM_l1': 0.001, 'LSTM_l2': 0.001, 'LSTM_inter_dropout': 0.001, 'LSTM_input_gaussian_noise': 0.001, 'LSTM_conv1d': True, 'LSTM_conv1d_kernel_size': 3, 'LSTM_loss': 'mse', 'year_start': 2019, 'is_single_feature': False}\n",
      "2025-08-20 19:30:48,043 -   q0: 0.9980\n",
      "2025-08-20 19:30:48,043 -   Duration0: 0:01:02.202517\n",
      "2025-08-20 19:30:48,043 -   Val RMSE0 adjusted: 0.0063\n",
      "2025-08-20 19:30:48,043 -   Mean all prediction: 1.0007\n",
      "2025-08-20 19:30:48,043 -   Mean above prediction: 1.0100\n",
      "2025-08-20 19:30:48,043 -   Mean below prediction: 1.0027\n",
      "2025-08-20 19:30:48,043 -   Quantile 0.99 for distance in mask above: 4412.879999999999\n",
      "2025-08-20 19:30:48,043 -   Quantile 0.99 for distance in mask below: 4603.679999999986\n",
      "2025-08-20 19:30:48,043 -   Ratio for quantile-distance-to-length above: 0.0067\n",
      "2025-08-20 19:30:48,043 -   Ratio for quantile-distance-to-length below: 0.0070\n",
      "2025-08-20 19:30:48,043 -   Score: 1.0033\n"
     ]
    },
    {
     "name": "stderr",
     "output_type": "stream",
     "text": [
      "[I 2025-08-20 19:30:48,089] Trial 44 finished with value: 1.0033087187034022 and parameters: {'year_start': 2019, 'idxAfterPrediction': 3, 'LoadupSamples_time_inc_factor': 61, 'timesteps': 45, 'LSTM_learning_rate': 0.00010419500765747581, 'LSTM_dropout': 0.030515237873160288, 'is_single_feature': False}. Best is trial 31 with value: 1.0049487769776475.\n"
     ]
    },
    {
     "name": "stdout",
     "output_type": "stream",
     "text": [
      "2025-08-20 19:30:48,089 - Trial 44 finished with value: 1.0033087187034022 and parameters: {'year_start': 2019, 'idxAfterPrediction': 3, 'LoadupSamples_time_inc_factor': 61, 'timesteps': 45, 'LSTM_learning_rate': 0.00010419500765747581, 'LSTM_dropout': 0.030515237873160288, 'is_single_feature': False}. Best is trial 31 with value: 1.0049487769776475.\n",
      "2025-08-20 19:30:58,620 - Non-finite/too-large values in train y time: 36 samples.\n",
      "2025-08-20 19:30:58,620 - Removing 36 samples from training data.\n"
     ]
    },
    {
     "name": "stderr",
     "output_type": "stream",
     "text": [
      "Epochs:   0%|          | 0/2 [00:00<?, ?it/s]"
     ]
    },
    {
     "name": "stdout",
     "output_type": "stream",
     "text": [
      "2025-08-20 19:31:37,557 - Epoch 1/2 — Train RMSE: 0.8249 — Validation RMSE: 0.7282\n"
     ]
    },
    {
     "name": "stderr",
     "output_type": "stream",
     "text": [
      "Epochs:  50%|█████     | 1/2 [00:29<00:29, 29.57s/it]"
     ]
    },
    {
     "name": "stdout",
     "output_type": "stream",
     "text": [
      "2025-08-20 19:32:06,843 - Epoch 2/2 — Train RMSE: 0.6813 — Validation RMSE: 0.5856\n"
     ]
    },
    {
     "name": "stderr",
     "output_type": "stream",
     "text": [
      "Epochs: 100%|██████████| 2/2 [00:58<00:00, 29.43s/it]\n"
     ]
    },
    {
     "name": "stdout",
     "output_type": "stream",
     "text": [
      "2025-08-20 19:32:10,435 - Trial 45 with params: {'idxAfterPrediction': 3, 'timesteps': 55, 'target_option': 'last', 'LoadupSamples_time_scaling_stretch': True, 'LoadupSamples_time_inc_factor': 66, 'LSTM_units': 16, 'LSTM_num_layers': 1, 'LSTM_dropout': 0.060496255533286546, 'LSTM_recurrent_dropout': 0.001, 'LSTM_learning_rate': 2.0582028455930727e-05, 'LSTM_optimizer': 'adam', 'LSTM_bidirectional': True, 'LSTM_batch_size': 4096, 'LSTM_epochs': 2, 'LSTM_l1': 0.001, 'LSTM_l2': 0.001, 'LSTM_inter_dropout': 0.001, 'LSTM_input_gaussian_noise': 0.001, 'LSTM_conv1d': True, 'LSTM_conv1d_kernel_size': 3, 'LSTM_loss': 'mse', 'year_start': 2019, 'is_single_feature': False}\n",
      "2025-08-20 19:32:10,435 -   q0: 0.9980\n",
      "2025-08-20 19:32:10,435 -   Duration0: 0:01:02.560941\n",
      "2025-08-20 19:32:10,435 -   Val RMSE0 adjusted: 0.0089\n",
      "2025-08-20 19:32:10,435 -   Mean all prediction: 1.0007\n",
      "2025-08-20 19:32:10,435 -   Mean above prediction: 1.0024\n",
      "2025-08-20 19:32:10,435 -   Mean below prediction: 1.0023\n",
      "2025-08-20 19:32:10,435 -   Quantile 0.99 for distance in mask above: 4851.939999999987\n",
      "2025-08-20 19:32:10,435 -   Quantile 0.99 for distance in mask below: 3786.6199999999935\n",
      "2025-08-20 19:32:10,435 -   Ratio for quantile-distance-to-length above: 0.0074\n",
      "2025-08-20 19:32:10,435 -   Ratio for quantile-distance-to-length below: 0.0058\n",
      "2025-08-20 19:32:10,435 -   Score: 1.0008\n"
     ]
    },
    {
     "name": "stderr",
     "output_type": "stream",
     "text": [
      "[I 2025-08-20 19:32:10,499] Trial 45 finished with value: 1.0007881477130856 and parameters: {'year_start': 2019, 'idxAfterPrediction': 3, 'LoadupSamples_time_inc_factor': 66, 'timesteps': 55, 'LSTM_learning_rate': 2.0582028455930727e-05, 'LSTM_dropout': 0.060496255533286546, 'is_single_feature': False}. Best is trial 31 with value: 1.0049487769776475.\n"
     ]
    },
    {
     "name": "stdout",
     "output_type": "stream",
     "text": [
      "2025-08-20 19:32:10,499 - Trial 45 finished with value: 1.0007881477130856 and parameters: {'year_start': 2019, 'idxAfterPrediction': 3, 'LoadupSamples_time_inc_factor': 66, 'timesteps': 55, 'LSTM_learning_rate': 2.0582028455930727e-05, 'LSTM_dropout': 0.060496255533286546, 'is_single_feature': False}. Best is trial 31 with value: 1.0049487769776475.\n",
      "2025-08-20 19:32:20,910 - Non-finite/too-large values in train y time: 36 samples.\n",
      "2025-08-20 19:32:20,926 - Removing 36 samples from training data.\n"
     ]
    },
    {
     "name": "stderr",
     "output_type": "stream",
     "text": [
      "Epochs:   0%|          | 0/2 [00:00<?, ?it/s]"
     ]
    },
    {
     "name": "stdout",
     "output_type": "stream",
     "text": [
      "2025-08-20 19:32:58,449 - Epoch 1/2 — Train RMSE: 0.5845 — Validation RMSE: 0.5243\n"
     ]
    },
    {
     "name": "stderr",
     "output_type": "stream",
     "text": [
      "Epochs:  50%|█████     | 1/2 [00:29<00:29, 29.51s/it]"
     ]
    },
    {
     "name": "stdout",
     "output_type": "stream",
     "text": [
      "2025-08-20 19:33:27,075 - Epoch 2/2 — Train RMSE: 0.5123 — Validation RMSE: 0.4605\n"
     ]
    },
    {
     "name": "stderr",
     "output_type": "stream",
     "text": [
      "Epochs: 100%|██████████| 2/2 [00:58<00:00, 29.07s/it]\n"
     ]
    },
    {
     "name": "stdout",
     "output_type": "stream",
     "text": [
      "2025-08-20 19:33:30,390 - Trial 46 with params: {'idxAfterPrediction': 3, 'timesteps': 45, 'target_option': 'last', 'LoadupSamples_time_scaling_stretch': True, 'LoadupSamples_time_inc_factor': 51, 'LSTM_units': 16, 'LSTM_num_layers': 1, 'LSTM_dropout': 0.0067916428764111855, 'LSTM_recurrent_dropout': 0.001, 'LSTM_learning_rate': 1.219181433180006e-05, 'LSTM_optimizer': 'adam', 'LSTM_bidirectional': True, 'LSTM_batch_size': 4096, 'LSTM_epochs': 2, 'LSTM_l1': 0.001, 'LSTM_l2': 0.001, 'LSTM_inter_dropout': 0.001, 'LSTM_input_gaussian_noise': 0.001, 'LSTM_conv1d': True, 'LSTM_conv1d_kernel_size': 3, 'LSTM_loss': 'mse', 'year_start': 2019, 'is_single_feature': True}\n",
      "2025-08-20 19:33:30,390 -   q0: 0.9980\n",
      "2025-08-20 19:33:30,406 -   Duration0: 0:01:01.496820\n",
      "2025-08-20 19:33:30,406 -   Val RMSE0 adjusted: 0.0090\n",
      "2025-08-20 19:33:30,406 -   Mean all prediction: 1.0007\n",
      "2025-08-20 19:33:30,406 -   Mean above prediction: 0.9977\n",
      "2025-08-20 19:33:30,406 -   Mean below prediction: 1.0056\n",
      "2025-08-20 19:33:30,406 -   Quantile 0.99 for distance in mask above: 4528.339999999978\n",
      "2025-08-20 19:33:30,406 -   Quantile 0.99 for distance in mask below: 4059.72\n",
      "2025-08-20 19:33:30,406 -   Ratio for quantile-distance-to-length above: 0.0069\n",
      "2025-08-20 19:33:30,406 -   Ratio for quantile-distance-to-length below: 0.0062\n",
      "2025-08-20 19:33:30,406 -   Score: 0.9992\n"
     ]
    },
    {
     "name": "stderr",
     "output_type": "stream",
     "text": [
      "[I 2025-08-20 19:33:30,469] Trial 46 finished with value: 0.9992311835612196 and parameters: {'year_start': 2019, 'idxAfterPrediction': 3, 'LoadupSamples_time_inc_factor': 51, 'timesteps': 45, 'LSTM_learning_rate': 1.219181433180006e-05, 'LSTM_dropout': 0.0067916428764111855, 'is_single_feature': True}. Best is trial 31 with value: 1.0049487769776475.\n"
     ]
    },
    {
     "name": "stdout",
     "output_type": "stream",
     "text": [
      "2025-08-20 19:33:30,469 - Trial 46 finished with value: 0.9992311835612196 and parameters: {'year_start': 2019, 'idxAfterPrediction': 3, 'LoadupSamples_time_inc_factor': 51, 'timesteps': 45, 'LSTM_learning_rate': 1.219181433180006e-05, 'LSTM_dropout': 0.0067916428764111855, 'is_single_feature': True}. Best is trial 31 with value: 1.0049487769776475.\n",
      "2025-08-20 19:33:40,978 - Non-finite/too-large values in train y time: 36 samples.\n",
      "2025-08-20 19:33:40,991 - Removing 36 samples from training data.\n"
     ]
    },
    {
     "name": "stderr",
     "output_type": "stream",
     "text": [
      "Epochs:   0%|          | 0/2 [00:00<?, ?it/s]"
     ]
    },
    {
     "name": "stdout",
     "output_type": "stream",
     "text": [
      "2025-08-20 19:34:18,649 - Epoch 1/2 — Train RMSE: 0.6797 — Validation RMSE: 0.5446\n"
     ]
    },
    {
     "name": "stderr",
     "output_type": "stream",
     "text": [
      "Epochs:  50%|█████     | 1/2 [00:29<00:29, 29.03s/it]"
     ]
    },
    {
     "name": "stdout",
     "output_type": "stream",
     "text": [
      "2025-08-20 19:34:47,958 - Epoch 2/2 — Train RMSE: 0.4611 — Validation RMSE: 0.3568\n"
     ]
    },
    {
     "name": "stderr",
     "output_type": "stream",
     "text": [
      "Epochs: 100%|██████████| 2/2 [00:58<00:00, 29.17s/it]\n"
     ]
    },
    {
     "name": "stdout",
     "output_type": "stream",
     "text": [
      "2025-08-20 19:34:51,530 - Trial 47 with params: {'idxAfterPrediction': 3, 'timesteps': 50, 'target_option': 'last', 'LoadupSamples_time_scaling_stretch': True, 'LoadupSamples_time_inc_factor': 36, 'LSTM_units': 16, 'LSTM_num_layers': 1, 'LSTM_dropout': 0.046076238903219005, 'LSTM_recurrent_dropout': 0.001, 'LSTM_learning_rate': 3.549612391966042e-05, 'LSTM_optimizer': 'adam', 'LSTM_bidirectional': True, 'LSTM_batch_size': 4096, 'LSTM_epochs': 2, 'LSTM_l1': 0.001, 'LSTM_l2': 0.001, 'LSTM_inter_dropout': 0.001, 'LSTM_input_gaussian_noise': 0.001, 'LSTM_conv1d': True, 'LSTM_conv1d_kernel_size': 3, 'LSTM_loss': 'mse', 'year_start': 2019, 'is_single_feature': False}\n",
      "2025-08-20 19:34:51,531 -   q0: 0.9980\n",
      "2025-08-20 19:34:51,531 -   Duration0: 0:01:02.010267\n",
      "2025-08-20 19:34:51,531 -   Val RMSE0 adjusted: 0.0099\n",
      "2025-08-20 19:34:51,531 -   Mean all prediction: 1.0007\n",
      "2025-08-20 19:34:51,531 -   Mean above prediction: 1.0059\n",
      "2025-08-20 19:34:51,531 -   Mean below prediction: 1.0020\n",
      "2025-08-20 19:34:51,531 -   Quantile 0.99 for distance in mask above: 4592.559999999956\n",
      "2025-08-20 19:34:51,531 -   Quantile 0.99 for distance in mask below: 3875.079999999997\n",
      "2025-08-20 19:34:51,531 -   Ratio for quantile-distance-to-length above: 0.0070\n",
      "2025-08-20 19:34:51,531 -   Ratio for quantile-distance-to-length below: 0.0059\n",
      "2025-08-20 19:34:51,531 -   Score: 1.0020\n"
     ]
    },
    {
     "name": "stderr",
     "output_type": "stream",
     "text": [
      "[I 2025-08-20 19:34:51,587] Trial 47 finished with value: 1.0019555123026256 and parameters: {'year_start': 2019, 'idxAfterPrediction': 3, 'LoadupSamples_time_inc_factor': 36, 'timesteps': 50, 'LSTM_learning_rate': 3.549612391966042e-05, 'LSTM_dropout': 0.046076238903219005, 'is_single_feature': False}. Best is trial 31 with value: 1.0049487769776475.\n"
     ]
    },
    {
     "name": "stdout",
     "output_type": "stream",
     "text": [
      "2025-08-20 19:34:51,587 - Trial 47 finished with value: 1.0019555123026256 and parameters: {'year_start': 2019, 'idxAfterPrediction': 3, 'LoadupSamples_time_inc_factor': 36, 'timesteps': 50, 'LSTM_learning_rate': 3.549612391966042e-05, 'LSTM_dropout': 0.046076238903219005, 'is_single_feature': False}. Best is trial 31 with value: 1.0049487769776475.\n",
      "2025-08-20 19:35:02,061 - Non-finite/too-large values in train y time: 36 samples.\n",
      "2025-08-20 19:35:02,077 - Removing 36 samples from training data.\n"
     ]
    },
    {
     "name": "stderr",
     "output_type": "stream",
     "text": [
      "Epochs:   0%|          | 0/2 [00:00<?, ?it/s]"
     ]
    },
    {
     "name": "stdout",
     "output_type": "stream",
     "text": [
      "2025-08-20 19:35:38,139 - Epoch 1/2 — Train RMSE: 0.4129 — Validation RMSE: 0.3799\n"
     ]
    },
    {
     "name": "stderr",
     "output_type": "stream",
     "text": [
      "Epochs:  50%|█████     | 1/2 [00:28<00:28, 28.90s/it]"
     ]
    },
    {
     "name": "stdout",
     "output_type": "stream",
     "text": [
      "2025-08-20 19:36:07,008 - Epoch 2/2 — Train RMSE: 0.3880 — Validation RMSE: 0.3787\n"
     ]
    },
    {
     "name": "stderr",
     "output_type": "stream",
     "text": [
      "Epochs: 100%|██████████| 2/2 [00:57<00:00, 28.89s/it]\n"
     ]
    },
    {
     "name": "stdout",
     "output_type": "stream",
     "text": [
      "2025-08-20 19:36:10,401 - Trial 48 with params: {'idxAfterPrediction': 3, 'timesteps': 40, 'target_option': 'last', 'LoadupSamples_time_scaling_stretch': True, 'LoadupSamples_time_inc_factor': 56, 'LSTM_units': 16, 'LSTM_num_layers': 1, 'LSTM_dropout': 0.0038040748921546225, 'LSTM_recurrent_dropout': 0.001, 'LSTM_learning_rate': 6.362907231265984e-05, 'LSTM_optimizer': 'adam', 'LSTM_bidirectional': True, 'LSTM_batch_size': 4096, 'LSTM_epochs': 2, 'LSTM_l1': 0.001, 'LSTM_l2': 0.001, 'LSTM_inter_dropout': 0.001, 'LSTM_input_gaussian_noise': 0.001, 'LSTM_conv1d': True, 'LSTM_conv1d_kernel_size': 3, 'LSTM_loss': 'mse', 'year_start': 2019, 'is_single_feature': False}\n",
      "2025-08-20 19:36:10,401 -   q0: 0.9980\n",
      "2025-08-20 19:36:10,401 -   Duration0: 0:01:01.244376\n",
      "2025-08-20 19:36:10,401 -   Val RMSE0 adjusted: 0.0068\n",
      "2025-08-20 19:36:10,401 -   Mean all prediction: 1.0007\n",
      "2025-08-20 19:36:10,401 -   Mean above prediction: 0.9965\n",
      "2025-08-20 19:36:10,401 -   Mean below prediction: 0.9964\n",
      "2025-08-20 19:36:10,401 -   Quantile 0.99 for distance in mask above: 3977.1599999999894\n",
      "2025-08-20 19:36:10,401 -   Quantile 0.99 for distance in mask below: 4718.779999999998\n",
      "2025-08-20 19:36:10,401 -   Ratio for quantile-distance-to-length above: 0.0060\n",
      "2025-08-20 19:36:10,401 -   Ratio for quantile-distance-to-length below: 0.0072\n",
      "2025-08-20 19:36:10,401 -   Score: 0.9988\n"
     ]
    },
    {
     "name": "stderr",
     "output_type": "stream",
     "text": [
      "[I 2025-08-20 19:36:10,455] Trial 48 finished with value: 0.9988238118019325 and parameters: {'year_start': 2019, 'idxAfterPrediction': 3, 'LoadupSamples_time_inc_factor': 56, 'timesteps': 40, 'LSTM_learning_rate': 6.362907231265984e-05, 'LSTM_dropout': 0.0038040748921546225, 'is_single_feature': False}. Best is trial 31 with value: 1.0049487769776475.\n"
     ]
    },
    {
     "name": "stdout",
     "output_type": "stream",
     "text": [
      "2025-08-20 19:36:10,455 - Trial 48 finished with value: 0.9988238118019325 and parameters: {'year_start': 2019, 'idxAfterPrediction': 3, 'LoadupSamples_time_inc_factor': 56, 'timesteps': 40, 'LSTM_learning_rate': 6.362907231265984e-05, 'LSTM_dropout': 0.0038040748921546225, 'is_single_feature': False}. Best is trial 31 with value: 1.0049487769776475.\n",
      "2025-08-20 19:36:19,449 - Non-finite/too-large values in train y time: 48 samples.\n",
      "2025-08-20 19:36:19,465 - Removing 48 samples from training data.\n"
     ]
    },
    {
     "name": "stderr",
     "output_type": "stream",
     "text": [
      "Epochs:   0%|          | 0/2 [00:00<?, ?it/s]"
     ]
    },
    {
     "name": "stdout",
     "output_type": "stream",
     "text": [
      "2025-08-20 19:36:52,359 - Epoch 1/2 — Train RMSE: 0.3905 — Validation RMSE: 0.2836\n"
     ]
    },
    {
     "name": "stderr",
     "output_type": "stream",
     "text": [
      "Epochs:  50%|█████     | 1/2 [00:24<00:24, 24.33s/it]"
     ]
    },
    {
     "name": "stdout",
     "output_type": "stream",
     "text": [
      "2025-08-20 19:37:17,079 - Epoch 2/2 — Train RMSE: 0.3033 — Validation RMSE: 0.2819\n"
     ]
    },
    {
     "name": "stderr",
     "output_type": "stream",
     "text": [
      "Epochs: 100%|██████████| 2/2 [00:49<00:00, 24.53s/it]\n"
     ]
    },
    {
     "name": "stdout",
     "output_type": "stream",
     "text": [
      "2025-08-20 19:37:20,883 - Trial 49 with params: {'idxAfterPrediction': 4, 'timesteps': 60, 'target_option': 'last', 'LoadupSamples_time_scaling_stretch': True, 'LoadupSamples_time_inc_factor': 21, 'LSTM_units': 16, 'LSTM_num_layers': 1, 'LSTM_dropout': 0.023697935898587128, 'LSTM_recurrent_dropout': 0.001, 'LSTM_learning_rate': 9.753318847164755e-05, 'LSTM_optimizer': 'adam', 'LSTM_bidirectional': True, 'LSTM_batch_size': 4096, 'LSTM_epochs': 2, 'LSTM_l1': 0.001, 'LSTM_l2': 0.001, 'LSTM_inter_dropout': 0.001, 'LSTM_input_gaussian_noise': 0.001, 'LSTM_conv1d': True, 'LSTM_conv1d_kernel_size': 3, 'LSTM_loss': 'mse', 'year_start': 2020, 'is_single_feature': True}\n",
      "2025-08-20 19:37:20,883 -   q0: 0.9980\n",
      "2025-08-20 19:37:20,883 -   Duration0: 0:00:52.937079\n",
      "2025-08-20 19:37:20,883 -   Val RMSE0 adjusted: 0.0134\n",
      "2025-08-20 19:37:20,883 -   Mean all prediction: 1.0011\n",
      "2025-08-20 19:37:20,883 -   Mean above prediction: 0.9994\n",
      "2025-08-20 19:37:20,883 -   Mean below prediction: 0.9962\n",
      "2025-08-20 19:37:20,883 -   Quantile 0.99 for distance in mask above: 4335.719999999999\n",
      "2025-08-20 19:37:20,899 -   Quantile 0.99 for distance in mask below: 3888.799999999962\n",
      "2025-08-20 19:37:20,899 -   Ratio for quantile-distance-to-length above: 0.0066\n",
      "2025-08-20 19:37:20,899 -   Ratio for quantile-distance-to-length below: 0.0059\n",
      "2025-08-20 19:37:20,899 -   Score: 0.9998\n"
     ]
    },
    {
     "name": "stderr",
     "output_type": "stream",
     "text": [
      "[I 2025-08-20 19:37:20,962] Trial 49 finished with value: 0.9998468404298156 and parameters: {'year_start': 2020, 'idxAfterPrediction': 4, 'LoadupSamples_time_inc_factor': 21, 'timesteps': 60, 'LSTM_learning_rate': 9.753318847164755e-05, 'LSTM_dropout': 0.023697935898587128, 'is_single_feature': True}. Best is trial 31 with value: 1.0049487769776475.\n"
     ]
    },
    {
     "name": "stdout",
     "output_type": "stream",
     "text": [
      "2025-08-20 19:37:20,962 - Trial 49 finished with value: 0.9998468404298156 and parameters: {'year_start': 2020, 'idxAfterPrediction': 4, 'LoadupSamples_time_inc_factor': 21, 'timesteps': 60, 'LSTM_learning_rate': 9.753318847164755e-05, 'LSTM_dropout': 0.023697935898587128, 'is_single_feature': True}. Best is trial 31 with value: 1.0049487769776475.\n",
      "2025-08-20 19:37:31,488 - Non-finite/too-large values in train y time: 36 samples.\n",
      "2025-08-20 19:37:31,488 - Removing 36 samples from training data.\n"
     ]
    },
    {
     "name": "stderr",
     "output_type": "stream",
     "text": [
      "Epochs:   0%|          | 0/2 [00:00<?, ?it/s]"
     ]
    },
    {
     "name": "stdout",
     "output_type": "stream",
     "text": [
      "2025-08-20 19:38:11,636 - Epoch 1/2 — Train RMSE: 0.4507 — Validation RMSE: 0.3940\n"
     ]
    },
    {
     "name": "stderr",
     "output_type": "stream",
     "text": [
      "Epochs:  50%|█████     | 1/2 [00:29<00:29, 29.23s/it]"
     ]
    },
    {
     "name": "stdout",
     "output_type": "stream",
     "text": [
      "2025-08-20 19:38:41,073 - Epoch 2/2 — Train RMSE: 0.4033 — Validation RMSE: 0.3940\n"
     ]
    },
    {
     "name": "stderr",
     "output_type": "stream",
     "text": [
      "Epochs: 100%|██████████| 2/2 [00:58<00:00, 29.33s/it]\n"
     ]
    },
    {
     "name": "stdout",
     "output_type": "stream",
     "text": [
      "2025-08-20 19:38:44,641 - Trial 50 with params: {'idxAfterPrediction': 3, 'timesteps': 65, 'target_option': 'last', 'LoadupSamples_time_scaling_stretch': True, 'LoadupSamples_time_inc_factor': 66, 'LSTM_units': 16, 'LSTM_num_layers': 1, 'LSTM_dropout': 0.03440641437321634, 'LSTM_recurrent_dropout': 0.001, 'LSTM_learning_rate': 0.0003495077143443895, 'LSTM_optimizer': 'adam', 'LSTM_bidirectional': True, 'LSTM_batch_size': 4096, 'LSTM_epochs': 2, 'LSTM_l1': 0.001, 'LSTM_l2': 0.001, 'LSTM_inter_dropout': 0.001, 'LSTM_input_gaussian_noise': 0.001, 'LSTM_conv1d': True, 'LSTM_conv1d_kernel_size': 3, 'LSTM_loss': 'mse', 'year_start': 2019, 'is_single_feature': False}\n",
      "2025-08-20 19:38:44,657 -   q0: 0.9980\n",
      "2025-08-20 19:38:44,657 -   Duration0: 0:01:02.385669\n",
      "2025-08-20 19:38:44,657 -   Val RMSE0 adjusted: 0.0060\n",
      "2025-08-20 19:38:44,657 -   Mean all prediction: 1.0007\n",
      "2025-08-20 19:38:44,657 -   Mean above prediction: 1.0086\n",
      "2025-08-20 19:38:44,657 -   Mean below prediction: 1.0038\n",
      "2025-08-20 19:38:44,657 -   Quantile 0.99 for distance in mask above: 4901.1799999999785\n",
      "2025-08-20 19:38:44,657 -   Quantile 0.99 for distance in mask below: 4896.059999999893\n",
      "2025-08-20 19:38:44,657 -   Ratio for quantile-distance-to-length above: 0.0075\n",
      "2025-08-20 19:38:44,657 -   Ratio for quantile-distance-to-length below: 0.0074\n",
      "2025-08-20 19:38:44,657 -   Score: 1.0029\n"
     ]
    },
    {
     "name": "stderr",
     "output_type": "stream",
     "text": [
      "[I 2025-08-20 19:38:44,720] Trial 50 finished with value: 1.0028689074976163 and parameters: {'year_start': 2019, 'idxAfterPrediction': 3, 'LoadupSamples_time_inc_factor': 66, 'timesteps': 65, 'LSTM_learning_rate': 0.0003495077143443895, 'LSTM_dropout': 0.03440641437321634, 'is_single_feature': False}. Best is trial 31 with value: 1.0049487769776475.\n"
     ]
    },
    {
     "name": "stdout",
     "output_type": "stream",
     "text": [
      "2025-08-20 19:38:44,720 - Trial 50 finished with value: 1.0028689074976163 and parameters: {'year_start': 2019, 'idxAfterPrediction': 3, 'LoadupSamples_time_inc_factor': 66, 'timesteps': 65, 'LSTM_learning_rate': 0.0003495077143443895, 'LSTM_dropout': 0.03440641437321634, 'is_single_feature': False}. Best is trial 31 with value: 1.0049487769776475.\n",
      "2025-08-20 19:38:48,891 - Non-finite/too-large values in train y time: 48 samples.\n",
      "2025-08-20 19:38:48,907 - Removing 48 samples from training data.\n"
     ]
    },
    {
     "name": "stderr",
     "output_type": "stream",
     "text": [
      "Epochs:   0%|          | 0/2 [00:00<?, ?it/s]"
     ]
    },
    {
     "name": "stdout",
     "output_type": "stream",
     "text": [
      "2025-08-20 19:39:01,192 - Epoch 1/2 — Train RMSE: 0.7676 — Validation RMSE: 0.6746\n"
     ]
    },
    {
     "name": "stderr",
     "output_type": "stream",
     "text": [
      "Epochs:  50%|█████     | 1/2 [00:09<00:09,  9.86s/it]"
     ]
    },
    {
     "name": "stdout",
     "output_type": "stream",
     "text": [
      "2025-08-20 19:39:11,517 - Epoch 2/2 — Train RMSE: 0.6273 — Validation RMSE: 0.5462\n"
     ]
    },
    {
     "name": "stderr",
     "output_type": "stream",
     "text": [
      "Epochs: 100%|██████████| 2/2 [00:20<00:00, 10.09s/it]\n"
     ]
    },
    {
     "name": "stdout",
     "output_type": "stream",
     "text": [
      "2025-08-20 19:39:15,132 - Trial 51 with params: {'idxAfterPrediction': 4, 'timesteps': 35, 'target_option': 'last', 'LoadupSamples_time_scaling_stretch': True, 'LoadupSamples_time_inc_factor': 76, 'LSTM_units': 16, 'LSTM_num_layers': 1, 'LSTM_dropout': 0.07678826108737757, 'LSTM_recurrent_dropout': 0.001, 'LSTM_learning_rate': 0.00012029506471151069, 'LSTM_optimizer': 'adam', 'LSTM_bidirectional': True, 'LSTM_batch_size': 4096, 'LSTM_epochs': 2, 'LSTM_l1': 0.001, 'LSTM_l2': 0.001, 'LSTM_inter_dropout': 0.001, 'LSTM_input_gaussian_noise': 0.001, 'LSTM_conv1d': True, 'LSTM_conv1d_kernel_size': 3, 'LSTM_loss': 'mse', 'year_start': 2023, 'is_single_feature': False}\n",
      "2025-08-20 19:39:15,132 -   q0: 0.9980\n",
      "2025-08-20 19:39:15,132 -   Duration0: 0:00:23.837407\n",
      "2025-08-20 19:39:15,132 -   Val RMSE0 adjusted: 0.0072\n",
      "2025-08-20 19:39:15,148 -   Mean all prediction: 1.0011\n",
      "2025-08-20 19:39:15,148 -   Mean above prediction: 1.0050\n",
      "2025-08-20 19:39:15,148 -   Mean below prediction: 0.9948\n",
      "2025-08-20 19:39:15,148 -   Quantile 0.99 for distance in mask above: 4709.059999999998\n",
      "2025-08-20 19:39:15,148 -   Quantile 0.99 for distance in mask below: 3720.4199999999955\n",
      "2025-08-20 19:39:15,148 -   Ratio for quantile-distance-to-length above: 0.0072\n",
      "2025-08-20 19:39:15,148 -   Ratio for quantile-distance-to-length below: 0.0057\n",
      "2025-08-20 19:39:15,148 -   Score: 1.0013\n"
     ]
    },
    {
     "name": "stderr",
     "output_type": "stream",
     "text": [
      "[I 2025-08-20 19:39:15,172] Trial 51 finished with value: 1.0012559096762557 and parameters: {'year_start': 2023, 'idxAfterPrediction': 4, 'LoadupSamples_time_inc_factor': 76, 'timesteps': 35, 'LSTM_learning_rate': 0.00012029506471151069, 'LSTM_dropout': 0.07678826108737757, 'is_single_feature': False}. Best is trial 31 with value: 1.0049487769776475.\n"
     ]
    },
    {
     "name": "stdout",
     "output_type": "stream",
     "text": [
      "2025-08-20 19:39:15,172 - Trial 51 finished with value: 1.0012559096762557 and parameters: {'year_start': 2023, 'idxAfterPrediction': 4, 'LoadupSamples_time_inc_factor': 76, 'timesteps': 35, 'LSTM_learning_rate': 0.00012029506471151069, 'LSTM_dropout': 0.07678826108737757, 'is_single_feature': False}. Best is trial 31 with value: 1.0049487769776475.\n",
      "2025-08-20 19:39:25,557 - Non-finite/too-large values in train y time: 48 samples.\n",
      "2025-08-20 19:39:25,576 - Removing 48 samples from training data.\n"
     ]
    },
    {
     "name": "stderr",
     "output_type": "stream",
     "text": [
      "Epochs:   0%|          | 0/2 [00:00<?, ?it/s]"
     ]
    },
    {
     "name": "stdout",
     "output_type": "stream",
     "text": [
      "2025-08-20 19:40:00,763 - Epoch 1/2 — Train RMSE: 0.4916 — Validation RMSE: 0.3861\n"
     ]
    },
    {
     "name": "stderr",
     "output_type": "stream",
     "text": [
      "Epochs:  50%|█████     | 1/2 [00:28<00:28, 28.79s/it]"
     ]
    },
    {
     "name": "stdout",
     "output_type": "stream",
     "text": [
      "2025-08-20 19:40:30,229 - Epoch 2/2 — Train RMSE: 0.3949 — Validation RMSE: 0.3856\n"
     ]
    },
    {
     "name": "stderr",
     "output_type": "stream",
     "text": [
      "Epochs: 100%|██████████| 2/2 [00:58<00:00, 29.13s/it]\n"
     ]
    },
    {
     "name": "stdout",
     "output_type": "stream",
     "text": [
      "2025-08-20 19:40:33,591 - Trial 52 with params: {'idxAfterPrediction': 4, 'timesteps': 35, 'target_option': 'last', 'LoadupSamples_time_scaling_stretch': True, 'LoadupSamples_time_inc_factor': 51, 'LSTM_units': 16, 'LSTM_num_layers': 1, 'LSTM_dropout': 0.08781167868189202, 'LSTM_recurrent_dropout': 0.001, 'LSTM_learning_rate': 0.00012943906978710434, 'LSTM_optimizer': 'adam', 'LSTM_bidirectional': True, 'LSTM_batch_size': 4096, 'LSTM_epochs': 2, 'LSTM_l1': 0.001, 'LSTM_l2': 0.001, 'LSTM_inter_dropout': 0.001, 'LSTM_input_gaussian_noise': 0.001, 'LSTM_conv1d': True, 'LSTM_conv1d_kernel_size': 3, 'LSTM_loss': 'mse', 'year_start': 2019, 'is_single_feature': False}\n",
      "2025-08-20 19:40:33,591 -   q0: 0.9980\n",
      "2025-08-20 19:40:33,591 -   Duration0: 0:01:01.685790\n",
      "2025-08-20 19:40:33,591 -   Val RMSE0 adjusted: 0.0076\n",
      "2025-08-20 19:40:33,591 -   Mean all prediction: 1.0011\n",
      "2025-08-20 19:40:33,591 -   Mean above prediction: 1.0091\n",
      "2025-08-20 19:40:33,591 -   Mean below prediction: 1.0039\n",
      "2025-08-20 19:40:33,591 -   Quantile 0.99 for distance in mask above: 4889.13999999998\n",
      "2025-08-20 19:40:33,591 -   Quantile 0.99 for distance in mask below: 4251.879999999994\n",
      "2025-08-20 19:40:33,591 -   Ratio for quantile-distance-to-length above: 0.0074\n",
      "2025-08-20 19:40:33,591 -   Ratio for quantile-distance-to-length below: 0.0065\n",
      "2025-08-20 19:40:33,591 -   Score: 1.0023\n"
     ]
    },
    {
     "name": "stderr",
     "output_type": "stream",
     "text": [
      "[I 2025-08-20 19:40:33,638] Trial 52 finished with value: 1.0022752384768532 and parameters: {'year_start': 2019, 'idxAfterPrediction': 4, 'LoadupSamples_time_inc_factor': 51, 'timesteps': 35, 'LSTM_learning_rate': 0.00012943906978710434, 'LSTM_dropout': 0.08781167868189202, 'is_single_feature': False}. Best is trial 31 with value: 1.0049487769776475.\n"
     ]
    },
    {
     "name": "stdout",
     "output_type": "stream",
     "text": [
      "2025-08-20 19:40:33,638 - Trial 52 finished with value: 1.0022752384768532 and parameters: {'year_start': 2019, 'idxAfterPrediction': 4, 'LoadupSamples_time_inc_factor': 51, 'timesteps': 35, 'LSTM_learning_rate': 0.00012943906978710434, 'LSTM_dropout': 0.08781167868189202, 'is_single_feature': False}. Best is trial 31 with value: 1.0049487769776475.\n",
      "2025-08-20 19:40:42,465 - Non-finite/too-large values in train y time: 36 samples.\n",
      "2025-08-20 19:40:42,465 - Removing 36 samples from training data.\n"
     ]
    },
    {
     "name": "stderr",
     "output_type": "stream",
     "text": [
      "Epochs:   0%|          | 0/2 [00:00<?, ?it/s]"
     ]
    },
    {
     "name": "stdout",
     "output_type": "stream",
     "text": [
      "2025-08-20 19:41:12,858 - Epoch 1/2 — Train RMSE: 0.5986 — Validation RMSE: 0.4431\n"
     ]
    },
    {
     "name": "stderr",
     "output_type": "stream",
     "text": [
      "Epochs:  50%|█████     | 1/2 [00:24<00:24, 24.33s/it]"
     ]
    },
    {
     "name": "stdout",
     "output_type": "stream",
     "text": [
      "2025-08-20 19:41:36,935 - Epoch 2/2 — Train RMSE: 0.4166 — Validation RMSE: 0.3897\n"
     ]
    },
    {
     "name": "stderr",
     "output_type": "stream",
     "text": [
      "Epochs: 100%|██████████| 2/2 [00:48<00:00, 24.21s/it]\n"
     ]
    },
    {
     "name": "stdout",
     "output_type": "stream",
     "text": [
      "2025-08-20 19:41:40,518 - Trial 53 with params: {'idxAfterPrediction': 3, 'timesteps': 40, 'target_option': 'last', 'LoadupSamples_time_scaling_stretch': True, 'LoadupSamples_time_inc_factor': 61, 'LSTM_units': 16, 'LSTM_num_layers': 1, 'LSTM_dropout': 0.06051024074549693, 'LSTM_recurrent_dropout': 0.001, 'LSTM_learning_rate': 5.787645147282358e-05, 'LSTM_optimizer': 'adam', 'LSTM_bidirectional': True, 'LSTM_batch_size': 4096, 'LSTM_epochs': 2, 'LSTM_l1': 0.001, 'LSTM_l2': 0.001, 'LSTM_inter_dropout': 0.001, 'LSTM_input_gaussian_noise': 0.001, 'LSTM_conv1d': True, 'LSTM_conv1d_kernel_size': 3, 'LSTM_loss': 'mse', 'year_start': 2020, 'is_single_feature': False}\n",
      "2025-08-20 19:41:40,518 -   q0: 0.9980\n",
      "2025-08-20 19:41:40,518 -   Duration0: 0:00:52.049602\n",
      "2025-08-20 19:41:40,518 -   Val RMSE0 adjusted: 0.0064\n",
      "2025-08-20 19:41:40,518 -   Mean all prediction: 1.0007\n",
      "2025-08-20 19:41:40,518 -   Mean above prediction: 1.0069\n",
      "2025-08-20 19:41:40,518 -   Mean below prediction: 1.0050\n",
      "2025-08-20 19:41:40,518 -   Quantile 0.99 for distance in mask above: 4606.199999999998\n",
      "2025-08-20 19:41:40,518 -   Quantile 0.99 for distance in mask below: 4037.479999999998\n",
      "2025-08-20 19:41:40,518 -   Ratio for quantile-distance-to-length above: 0.0070\n",
      "2025-08-20 19:41:40,518 -   Ratio for quantile-distance-to-length below: 0.0061\n",
      "2025-08-20 19:41:40,518 -   Score: 1.0023\n"
     ]
    },
    {
     "name": "stderr",
     "output_type": "stream",
     "text": [
      "[I 2025-08-20 19:41:40,550] Trial 53 finished with value: 1.0023082157718264 and parameters: {'year_start': 2020, 'idxAfterPrediction': 3, 'LoadupSamples_time_inc_factor': 61, 'timesteps': 40, 'LSTM_learning_rate': 5.787645147282358e-05, 'LSTM_dropout': 0.06051024074549693, 'is_single_feature': False}. Best is trial 31 with value: 1.0049487769776475.\n"
     ]
    },
    {
     "name": "stdout",
     "output_type": "stream",
     "text": [
      "2025-08-20 19:41:40,550 - Trial 53 finished with value: 1.0023082157718264 and parameters: {'year_start': 2020, 'idxAfterPrediction': 3, 'LoadupSamples_time_inc_factor': 61, 'timesteps': 40, 'LSTM_learning_rate': 5.787645147282358e-05, 'LSTM_dropout': 0.06051024074549693, 'is_single_feature': False}. Best is trial 31 with value: 1.0049487769776475.\n",
      "2025-08-20 19:41:51,010 - Non-finite/too-large values in train y time: 48 samples.\n",
      "2025-08-20 19:41:51,010 - Removing 48 samples from training data.\n"
     ]
    },
    {
     "name": "stderr",
     "output_type": "stream",
     "text": [
      "Epochs:   0%|          | 0/2 [00:00<?, ?it/s]"
     ]
    },
    {
     "name": "stdout",
     "output_type": "stream",
     "text": [
      "2025-08-20 19:42:27,041 - Epoch 1/2 — Train RMSE: 0.4937 — Validation RMSE: 0.4144\n"
     ]
    },
    {
     "name": "stderr",
     "output_type": "stream",
     "text": [
      "Epochs:  50%|█████     | 1/2 [00:28<00:28, 28.90s/it]"
     ]
    },
    {
     "name": "stdout",
     "output_type": "stream",
     "text": [
      "2025-08-20 19:42:55,786 - Epoch 2/2 — Train RMSE: 0.4218 — Validation RMSE: 0.4140\n"
     ]
    },
    {
     "name": "stderr",
     "output_type": "stream",
     "text": [
      "Epochs: 100%|██████████| 2/2 [00:57<00:00, 28.82s/it]\n"
     ]
    },
    {
     "name": "stdout",
     "output_type": "stream",
     "text": [
      "2025-08-20 19:42:59,008 - Trial 54 with params: {'idxAfterPrediction': 4, 'timesteps': 40, 'target_option': 'last', 'LoadupSamples_time_scaling_stretch': True, 'LoadupSamples_time_inc_factor': 71, 'LSTM_units': 16, 'LSTM_num_layers': 1, 'LSTM_dropout': 0.08241228963292312, 'LSTM_recurrent_dropout': 0.001, 'LSTM_learning_rate': 0.00020595331357691865, 'LSTM_optimizer': 'adam', 'LSTM_bidirectional': True, 'LSTM_batch_size': 4096, 'LSTM_epochs': 2, 'LSTM_l1': 0.001, 'LSTM_l2': 0.001, 'LSTM_inter_dropout': 0.001, 'LSTM_input_gaussian_noise': 0.001, 'LSTM_conv1d': True, 'LSTM_conv1d_kernel_size': 3, 'LSTM_loss': 'mse', 'year_start': 2019, 'is_single_feature': False}\n",
      "2025-08-20 19:42:59,008 -   q0: 0.9980\n",
      "2025-08-20 19:42:59,008 -   Duration0: 0:01:00.941799\n",
      "2025-08-20 19:42:59,008 -   Val RMSE0 adjusted: 0.0058\n",
      "2025-08-20 19:42:59,008 -   Mean all prediction: 1.0011\n",
      "2025-08-20 19:42:59,008 -   Mean above prediction: 1.0121\n",
      "2025-08-20 19:42:59,008 -   Mean below prediction: 1.0045\n",
      "2025-08-20 19:42:59,008 -   Quantile 0.99 for distance in mask above: 5188.99999999997\n",
      "2025-08-20 19:42:59,008 -   Quantile 0.99 for distance in mask below: 4570.959999999992\n",
      "2025-08-20 19:42:59,008 -   Ratio for quantile-distance-to-length above: 0.0079\n",
      "2025-08-20 19:42:59,008 -   Ratio for quantile-distance-to-length below: 0.0069\n",
      "2025-08-20 19:42:59,008 -   Score: 1.0030\n"
     ]
    },
    {
     "name": "stderr",
     "output_type": "stream",
     "text": [
      "[I 2025-08-20 19:42:59,055] Trial 54 finished with value: 1.0030010097939026 and parameters: {'year_start': 2019, 'idxAfterPrediction': 4, 'LoadupSamples_time_inc_factor': 71, 'timesteps': 40, 'LSTM_learning_rate': 0.00020595331357691865, 'LSTM_dropout': 0.08241228963292312, 'is_single_feature': False}. Best is trial 31 with value: 1.0049487769776475.\n"
     ]
    },
    {
     "name": "stdout",
     "output_type": "stream",
     "text": [
      "2025-08-20 19:42:59,055 - Trial 54 finished with value: 1.0030010097939026 and parameters: {'year_start': 2019, 'idxAfterPrediction': 4, 'LoadupSamples_time_inc_factor': 71, 'timesteps': 40, 'LSTM_learning_rate': 0.00020595331357691865, 'LSTM_dropout': 0.08241228963292312, 'is_single_feature': False}. Best is trial 31 with value: 1.0049487769776475.\n",
      "2025-08-20 19:43:09,356 - Non-finite/too-large values in train y time: 36 samples.\n",
      "2025-08-20 19:43:09,356 - Removing 36 samples from training data.\n"
     ]
    },
    {
     "name": "stderr",
     "output_type": "stream",
     "text": [
      "Epochs:   0%|          | 0/2 [00:00<?, ?it/s]"
     ]
    },
    {
     "name": "stdout",
     "output_type": "stream",
     "text": [
      "2025-08-20 19:43:44,048 - Epoch 1/2 — Train RMSE: 0.5084 — Validation RMSE: 0.4079\n"
     ]
    },
    {
     "name": "stderr",
     "output_type": "stream",
     "text": [
      "Epochs:  50%|█████     | 1/2 [00:28<00:28, 28.98s/it]"
     ]
    },
    {
     "name": "stdout",
     "output_type": "stream",
     "text": [
      "2025-08-20 19:44:13,372 - Epoch 2/2 — Train RMSE: 0.4142 — Validation RMSE: 0.4067\n"
     ]
    },
    {
     "name": "stderr",
     "output_type": "stream",
     "text": [
      "Epochs: 100%|██████████| 2/2 [00:58<00:00, 29.16s/it]\n"
     ]
    },
    {
     "name": "stdout",
     "output_type": "stream",
     "text": [
      "2025-08-20 19:44:16,795 - Trial 55 with params: {'idxAfterPrediction': 3, 'timesteps': 30, 'target_option': 'last', 'LoadupSamples_time_scaling_stretch': True, 'LoadupSamples_time_inc_factor': 76, 'LSTM_units': 16, 'LSTM_num_layers': 1, 'LSTM_dropout': 0.016968511701542677, 'LSTM_recurrent_dropout': 0.001, 'LSTM_learning_rate': 7.132816384823814e-05, 'LSTM_optimizer': 'adam', 'LSTM_bidirectional': True, 'LSTM_batch_size': 4096, 'LSTM_epochs': 2, 'LSTM_l1': 0.001, 'LSTM_l2': 0.001, 'LSTM_inter_dropout': 0.001, 'LSTM_input_gaussian_noise': 0.001, 'LSTM_conv1d': True, 'LSTM_conv1d_kernel_size': 3, 'LSTM_loss': 'mse', 'year_start': 2019, 'is_single_feature': False}\n",
      "2025-08-20 19:44:16,810 -   q0: 0.9980\n",
      "2025-08-20 19:44:16,810 -   Duration0: 0:01:01.811044\n",
      "2025-08-20 19:44:16,810 -   Val RMSE0 adjusted: 0.0054\n",
      "2025-08-20 19:44:16,810 -   Mean all prediction: 1.0007\n",
      "2025-08-20 19:44:16,810 -   Mean above prediction: 0.9982\n",
      "2025-08-20 19:44:16,810 -   Mean below prediction: 0.9939\n",
      "2025-08-20 19:44:16,810 -   Quantile 0.99 for distance in mask above: 5934.199999999968\n",
      "2025-08-20 19:44:16,810 -   Quantile 0.99 for distance in mask below: 3744.519999999997\n",
      "2025-08-20 19:44:16,810 -   Ratio for quantile-distance-to-length above: 0.0090\n",
      "2025-08-20 19:44:16,810 -   Ratio for quantile-distance-to-length below: 0.0057\n",
      "2025-08-20 19:44:16,810 -   Score: 0.9994\n"
     ]
    },
    {
     "name": "stderr",
     "output_type": "stream",
     "text": [
      "[I 2025-08-20 19:44:16,850] Trial 55 finished with value: 0.9994092191895062 and parameters: {'year_start': 2019, 'idxAfterPrediction': 3, 'LoadupSamples_time_inc_factor': 76, 'timesteps': 30, 'LSTM_learning_rate': 7.132816384823814e-05, 'LSTM_dropout': 0.016968511701542677, 'is_single_feature': False}. Best is trial 31 with value: 1.0049487769776475.\n"
     ]
    },
    {
     "name": "stdout",
     "output_type": "stream",
     "text": [
      "2025-08-20 19:44:16,850 - Trial 55 finished with value: 0.9994092191895062 and parameters: {'year_start': 2019, 'idxAfterPrediction': 3, 'LoadupSamples_time_inc_factor': 76, 'timesteps': 30, 'LSTM_learning_rate': 7.132816384823814e-05, 'LSTM_dropout': 0.016968511701542677, 'is_single_feature': False}. Best is trial 31 with value: 1.0049487769776475.\n",
      "2025-08-20 19:44:25,752 - Non-finite/too-large values in train y time: 48 samples.\n",
      "2025-08-20 19:44:25,752 - Removing 48 samples from training data.\n"
     ]
    },
    {
     "name": "stderr",
     "output_type": "stream",
     "text": [
      "Epochs:   0%|          | 0/2 [00:00<?, ?it/s]"
     ]
    },
    {
     "name": "stdout",
     "output_type": "stream",
     "text": [
      "2025-08-20 19:44:56,797 - Epoch 1/2 — Train RMSE: 0.5975 — Validation RMSE: 0.4138\n"
     ]
    },
    {
     "name": "stderr",
     "output_type": "stream",
     "text": [
      "Epochs:  50%|█████     | 1/2 [00:24<00:24, 24.35s/it]"
     ]
    },
    {
     "name": "stdout",
     "output_type": "stream",
     "text": [
      "2025-08-20 19:45:20,979 - Epoch 2/2 — Train RMSE: 0.4166 — Validation RMSE: 0.4019\n"
     ]
    },
    {
     "name": "stderr",
     "output_type": "stream",
     "text": [
      "Epochs: 100%|██████████| 2/2 [00:48<00:00, 24.27s/it]\n"
     ]
    },
    {
     "name": "stdout",
     "output_type": "stream",
     "text": [
      "2025-08-20 19:45:24,570 - Trial 56 with params: {'idxAfterPrediction': 4, 'timesteps': 45, 'target_option': 'last', 'LoadupSamples_time_scaling_stretch': True, 'LoadupSamples_time_inc_factor': 61, 'LSTM_units': 16, 'LSTM_num_layers': 1, 'LSTM_dropout': 0.06502894576170502, 'LSTM_recurrent_dropout': 0.001, 'LSTM_learning_rate': 8.89628498823023e-05, 'LSTM_optimizer': 'adam', 'LSTM_bidirectional': True, 'LSTM_batch_size': 4096, 'LSTM_epochs': 2, 'LSTM_l1': 0.001, 'LSTM_l2': 0.001, 'LSTM_inter_dropout': 0.001, 'LSTM_input_gaussian_noise': 0.001, 'LSTM_conv1d': True, 'LSTM_conv1d_kernel_size': 3, 'LSTM_loss': 'mse', 'year_start': 2020, 'is_single_feature': False}\n",
      "2025-08-20 19:45:24,570 -   q0: 0.9980\n",
      "2025-08-20 19:45:24,570 -   Duration0: 0:00:52.206489\n",
      "2025-08-20 19:45:24,586 -   Val RMSE0 adjusted: 0.0066\n",
      "2025-08-20 19:45:24,586 -   Mean all prediction: 1.0011\n",
      "2025-08-20 19:45:24,586 -   Mean above prediction: 1.0157\n",
      "2025-08-20 19:45:24,586 -   Mean below prediction: 1.0035\n",
      "2025-08-20 19:45:24,586 -   Quantile 0.99 for distance in mask above: 4951.099999999997\n",
      "2025-08-20 19:45:24,586 -   Quantile 0.99 for distance in mask below: 4686.919999999998\n",
      "2025-08-20 19:45:24,586 -   Ratio for quantile-distance-to-length above: 0.0075\n",
      "2025-08-20 19:45:24,586 -   Ratio for quantile-distance-to-length below: 0.0071\n",
      "2025-08-20 19:45:24,586 -   Score: 1.0039\n"
     ]
    },
    {
     "name": "stderr",
     "output_type": "stream",
     "text": [
      "[I 2025-08-20 19:45:24,633] Trial 56 finished with value: 1.003894715529734 and parameters: {'year_start': 2020, 'idxAfterPrediction': 4, 'LoadupSamples_time_inc_factor': 61, 'timesteps': 45, 'LSTM_learning_rate': 8.89628498823023e-05, 'LSTM_dropout': 0.06502894576170502, 'is_single_feature': False}. Best is trial 31 with value: 1.0049487769776475.\n"
     ]
    },
    {
     "name": "stdout",
     "output_type": "stream",
     "text": [
      "2025-08-20 19:45:24,633 - Trial 56 finished with value: 1.003894715529734 and parameters: {'year_start': 2020, 'idxAfterPrediction': 4, 'LoadupSamples_time_inc_factor': 61, 'timesteps': 45, 'LSTM_learning_rate': 8.89628498823023e-05, 'LSTM_dropout': 0.06502894576170502, 'is_single_feature': False}. Best is trial 31 with value: 1.0049487769776475.\n",
      "2025-08-20 19:45:34,956 - Non-finite/too-large values in train y time: 36 samples.\n",
      "2025-08-20 19:45:34,956 - Removing 36 samples from training data.\n"
     ]
    },
    {
     "name": "stderr",
     "output_type": "stream",
     "text": [
      "Epochs:   0%|          | 0/2 [00:00<?, ?it/s]"
     ]
    },
    {
     "name": "stdout",
     "output_type": "stream",
     "text": [
      "2025-08-20 19:46:10,038 - Epoch 1/2 — Train RMSE: 0.4384 — Validation RMSE: 0.4006\n"
     ]
    },
    {
     "name": "stderr",
     "output_type": "stream",
     "text": [
      "Epochs:  50%|█████     | 1/2 [00:28<00:28, 28.62s/it]"
     ]
    },
    {
     "name": "stdout",
     "output_type": "stream",
     "text": [
      "2025-08-20 19:46:39,088 - Epoch 2/2 — Train RMSE: 0.4009 — Validation RMSE: 0.3825\n"
     ]
    },
    {
     "name": "stderr",
     "output_type": "stream",
     "text": [
      "Epochs: 100%|██████████| 2/2 [00:57<00:00, 28.83s/it]\n"
     ]
    },
    {
     "name": "stdout",
     "output_type": "stream",
     "text": [
      "2025-08-20 19:46:42,617 - Trial 57 with params: {'idxAfterPrediction': 3, 'timesteps': 35, 'target_option': 'last', 'LoadupSamples_time_scaling_stretch': True, 'LoadupSamples_time_inc_factor': 56, 'LSTM_units': 16, 'LSTM_num_layers': 1, 'LSTM_dropout': 0.010296391103806554, 'LSTM_recurrent_dropout': 0.001, 'LSTM_learning_rate': 2.2908028813538644e-05, 'LSTM_optimizer': 'adam', 'LSTM_bidirectional': True, 'LSTM_batch_size': 4096, 'LSTM_epochs': 2, 'LSTM_l1': 0.001, 'LSTM_l2': 0.001, 'LSTM_inter_dropout': 0.001, 'LSTM_input_gaussian_noise': 0.001, 'LSTM_conv1d': True, 'LSTM_conv1d_kernel_size': 3, 'LSTM_loss': 'mse', 'year_start': 2019, 'is_single_feature': True}\n",
      "2025-08-20 19:46:42,617 -   q0: 0.9980\n",
      "2025-08-20 19:46:42,617 -   Duration0: 0:01:01.245464\n",
      "2025-08-20 19:46:42,617 -   Val RMSE0 adjusted: 0.0068\n",
      "2025-08-20 19:46:42,617 -   Mean all prediction: 1.0007\n",
      "2025-08-20 19:46:42,617 -   Mean above prediction: 0.9987\n",
      "2025-08-20 19:46:42,617 -   Mean below prediction: 1.0029\n",
      "2025-08-20 19:46:42,617 -   Quantile 0.99 for distance in mask above: 4659.159999999996\n",
      "2025-08-20 19:46:42,617 -   Quantile 0.99 for distance in mask below: 3998.7499999999914\n",
      "2025-08-20 19:46:42,617 -   Ratio for quantile-distance-to-length above: 0.0071\n",
      "2025-08-20 19:46:42,617 -   Ratio for quantile-distance-to-length below: 0.0061\n",
      "2025-08-20 19:46:42,617 -   Score: 0.9996\n"
     ]
    },
    {
     "name": "stderr",
     "output_type": "stream",
     "text": [
      "[I 2025-08-20 19:46:42,680] Trial 57 finished with value: 0.999572502740846 and parameters: {'year_start': 2019, 'idxAfterPrediction': 3, 'LoadupSamples_time_inc_factor': 56, 'timesteps': 35, 'LSTM_learning_rate': 2.2908028813538644e-05, 'LSTM_dropout': 0.010296391103806554, 'is_single_feature': True}. Best is trial 31 with value: 1.0049487769776475.\n"
     ]
    },
    {
     "name": "stdout",
     "output_type": "stream",
     "text": [
      "2025-08-20 19:46:42,680 - Trial 57 finished with value: 0.999572502740846 and parameters: {'year_start': 2019, 'idxAfterPrediction': 3, 'LoadupSamples_time_inc_factor': 56, 'timesteps': 35, 'LSTM_learning_rate': 2.2908028813538644e-05, 'LSTM_dropout': 0.010296391103806554, 'is_single_feature': True}. Best is trial 31 with value: 1.0049487769776475.\n",
      "2025-08-20 19:46:51,799 - Non-finite/too-large values in train y time: 48 samples.\n",
      "2025-08-20 19:46:51,816 - Removing 48 samples from training data.\n"
     ]
    },
    {
     "name": "stderr",
     "output_type": "stream",
     "text": [
      "Epochs:   0%|          | 0/2 [00:00<?, ?it/s]"
     ]
    },
    {
     "name": "stdout",
     "output_type": "stream",
     "text": [
      "2025-08-20 19:47:29,448 - Epoch 1/2 — Train RMSE: 0.5782 — Validation RMSE: 0.4932\n"
     ]
    },
    {
     "name": "stderr",
     "output_type": "stream",
     "text": [
      "Epochs:  50%|█████     | 1/2 [00:25<00:25, 25.30s/it]"
     ]
    },
    {
     "name": "stdout",
     "output_type": "stream",
     "text": [
      "2025-08-20 19:47:54,750 - Epoch 2/2 — Train RMSE: 0.4677 — Validation RMSE: 0.4220\n"
     ]
    },
    {
     "name": "stderr",
     "output_type": "stream",
     "text": [
      "Epochs: 100%|██████████| 2/2 [00:50<00:00, 25.30s/it]\n"
     ]
    },
    {
     "name": "stdout",
     "output_type": "stream",
     "text": [
      "2025-08-20 19:47:58,673 - Trial 58 with params: {'idxAfterPrediction': 4, 'timesteps': 90, 'target_option': 'last', 'LoadupSamples_time_scaling_stretch': True, 'LoadupSamples_time_inc_factor': 66, 'LSTM_units': 16, 'LSTM_num_layers': 1, 'LSTM_dropout': 0.04934658850398354, 'LSTM_recurrent_dropout': 0.001, 'LSTM_learning_rate': 3.617298247738426e-05, 'LSTM_optimizer': 'adam', 'LSTM_bidirectional': True, 'LSTM_batch_size': 4096, 'LSTM_epochs': 2, 'LSTM_l1': 0.001, 'LSTM_l2': 0.001, 'LSTM_inter_dropout': 0.001, 'LSTM_input_gaussian_noise': 0.001, 'LSTM_conv1d': True, 'LSTM_conv1d_kernel_size': 3, 'LSTM_loss': 'mse', 'year_start': 2020, 'is_single_feature': False}\n",
      "2025-08-20 19:47:58,674 -   q0: 0.9980\n",
      "2025-08-20 19:47:58,674 -   Duration0: 0:00:54.715112\n",
      "2025-08-20 19:47:58,674 -   Val RMSE0 adjusted: 0.0064\n",
      "2025-08-20 19:47:58,676 -   Mean all prediction: 1.0011\n",
      "2025-08-20 19:47:58,676 -   Mean above prediction: 1.0073\n",
      "2025-08-20 19:47:58,676 -   Mean below prediction: 0.9920\n",
      "2025-08-20 19:47:58,676 -   Quantile 0.99 for distance in mask above: 6076.319999999999\n",
      "2025-08-20 19:47:58,676 -   Quantile 0.99 for distance in mask below: 3711.2599999999957\n",
      "2025-08-20 19:47:58,676 -   Ratio for quantile-distance-to-length above: 0.0092\n",
      "2025-08-20 19:47:58,676 -   Ratio for quantile-distance-to-length below: 0.0056\n",
      "2025-08-20 19:47:58,676 -   Score: 1.0018\n"
     ]
    },
    {
     "name": "stderr",
     "output_type": "stream",
     "text": [
      "[I 2025-08-20 19:47:58,739] Trial 58 finished with value: 1.001815776594213 and parameters: {'year_start': 2020, 'idxAfterPrediction': 4, 'LoadupSamples_time_inc_factor': 66, 'timesteps': 90, 'LSTM_learning_rate': 3.617298247738426e-05, 'LSTM_dropout': 0.04934658850398354, 'is_single_feature': False}. Best is trial 31 with value: 1.0049487769776475.\n"
     ]
    },
    {
     "name": "stdout",
     "output_type": "stream",
     "text": [
      "2025-08-20 19:47:58,739 - Trial 58 finished with value: 1.001815776594213 and parameters: {'year_start': 2020, 'idxAfterPrediction': 4, 'LoadupSamples_time_inc_factor': 66, 'timesteps': 90, 'LSTM_learning_rate': 3.617298247738426e-05, 'LSTM_dropout': 0.04934658850398354, 'is_single_feature': False}. Best is trial 31 with value: 1.0049487769776475.\n",
      "2025-08-20 19:48:09,339 - Non-finite/too-large values in train y time: 36 samples.\n",
      "2025-08-20 19:48:09,355 - Removing 36 samples from training data.\n"
     ]
    },
    {
     "name": "stderr",
     "output_type": "stream",
     "text": [
      "Epochs:   0%|          | 0/2 [00:00<?, ?it/s]"
     ]
    },
    {
     "name": "stdout",
     "output_type": "stream",
     "text": [
      "2025-08-20 19:48:50,142 - Epoch 1/2 — Train RMSE: 0.4316 — Validation RMSE: 0.4008\n"
     ]
    },
    {
     "name": "stderr",
     "output_type": "stream",
     "text": [
      "Epochs:  50%|█████     | 1/2 [00:29<00:29, 29.26s/it]"
     ]
    },
    {
     "name": "stdout",
     "output_type": "stream",
     "text": [
      "2025-08-20 19:49:19,660 - Epoch 2/2 — Train RMSE: 0.4083 — Validation RMSE: 0.4006\n"
     ]
    },
    {
     "name": "stderr",
     "output_type": "stream",
     "text": [
      "Epochs: 100%|██████████| 2/2 [00:58<00:00, 29.39s/it]\n"
     ]
    },
    {
     "name": "stdout",
     "output_type": "stream",
     "text": [
      "2025-08-20 19:49:23,274 - Trial 59 with params: {'idxAfterPrediction': 3, 'timesteps': 70, 'target_option': 'last', 'LoadupSamples_time_scaling_stretch': True, 'LoadupSamples_time_inc_factor': 71, 'LSTM_units': 16, 'LSTM_num_layers': 1, 'LSTM_dropout': 0.03716952585262568, 'LSTM_recurrent_dropout': 0.001, 'LSTM_learning_rate': 0.00014533978285545318, 'LSTM_optimizer': 'adam', 'LSTM_bidirectional': True, 'LSTM_batch_size': 4096, 'LSTM_epochs': 2, 'LSTM_l1': 0.001, 'LSTM_l2': 0.001, 'LSTM_inter_dropout': 0.001, 'LSTM_input_gaussian_noise': 0.001, 'LSTM_conv1d': True, 'LSTM_conv1d_kernel_size': 3, 'LSTM_loss': 'mse', 'year_start': 2019, 'is_single_feature': False}\n",
      "2025-08-20 19:49:23,274 -   q0: 0.9980\n",
      "2025-08-20 19:49:23,274 -   Duration0: 0:01:02.554662\n",
      "2025-08-20 19:49:23,274 -   Val RMSE0 adjusted: 0.0056\n",
      "2025-08-20 19:49:23,290 -   Mean all prediction: 1.0007\n",
      "2025-08-20 19:49:23,290 -   Mean above prediction: 1.0006\n",
      "2025-08-20 19:49:23,290 -   Mean below prediction: 1.0053\n",
      "2025-08-20 19:49:23,290 -   Quantile 0.99 for distance in mask above: 4713.659999999997\n",
      "2025-08-20 19:49:23,290 -   Quantile 0.99 for distance in mask below: 4064.079999999997\n",
      "2025-08-20 19:49:23,290 -   Ratio for quantile-distance-to-length above: 0.0072\n",
      "2025-08-20 19:49:23,290 -   Ratio for quantile-distance-to-length below: 0.0062\n",
      "2025-08-20 19:49:23,290 -   Score: 1.0002\n"
     ]
    },
    {
     "name": "stderr",
     "output_type": "stream",
     "text": [
      "[I 2025-08-20 19:49:23,353] Trial 59 finished with value: 1.0001870713943721 and parameters: {'year_start': 2019, 'idxAfterPrediction': 3, 'LoadupSamples_time_inc_factor': 71, 'timesteps': 70, 'LSTM_learning_rate': 0.00014533978285545318, 'LSTM_dropout': 0.03716952585262568, 'is_single_feature': False}. Best is trial 31 with value: 1.0049487769776475.\n"
     ]
    },
    {
     "name": "stdout",
     "output_type": "stream",
     "text": [
      "2025-08-20 19:49:23,353 - Trial 59 finished with value: 1.0001870713943721 and parameters: {'year_start': 2019, 'idxAfterPrediction': 3, 'LoadupSamples_time_inc_factor': 71, 'timesteps': 70, 'LSTM_learning_rate': 0.00014533978285545318, 'LSTM_dropout': 0.03716952585262568, 'is_single_feature': False}. Best is trial 31 with value: 1.0049487769776475.\n",
      "2025-08-20 19:49:32,308 - Non-finite/too-large values in train y time: 60 samples.\n",
      "2025-08-20 19:49:32,308 - Removing 60 samples from training data.\n"
     ]
    },
    {
     "name": "stderr",
     "output_type": "stream",
     "text": [
      "Epochs:   0%|          | 0/2 [00:00<?, ?it/s]"
     ]
    },
    {
     "name": "stdout",
     "output_type": "stream",
     "text": [
      "2025-08-20 19:50:02,615 - Epoch 1/2 — Train RMSE: 0.5723 — Validation RMSE: 0.5296\n"
     ]
    },
    {
     "name": "stderr",
     "output_type": "stream",
     "text": [
      "Epochs:  50%|█████     | 1/2 [00:24<00:24, 24.24s/it]"
     ]
    },
    {
     "name": "stdout",
     "output_type": "stream",
     "text": [
      "2025-08-20 19:50:26,820 - Epoch 2/2 — Train RMSE: 0.5281 — Validation RMSE: 0.4919\n"
     ]
    },
    {
     "name": "stderr",
     "output_type": "stream",
     "text": [
      "Epochs: 100%|██████████| 2/2 [00:48<00:00, 24.22s/it]\n"
     ]
    },
    {
     "name": "stdout",
     "output_type": "stream",
     "text": [
      "2025-08-20 19:50:30,403 - Trial 60 with params: {'idxAfterPrediction': 5, 'timesteps': 40, 'target_option': 'last', 'LoadupSamples_time_scaling_stretch': True, 'LoadupSamples_time_inc_factor': 81, 'LSTM_units': 16, 'LSTM_num_layers': 1, 'LSTM_dropout': 0.08365568981507729, 'LSTM_recurrent_dropout': 0.001, 'LSTM_learning_rate': 1.4615424634941575e-05, 'LSTM_optimizer': 'adam', 'LSTM_bidirectional': True, 'LSTM_batch_size': 4096, 'LSTM_epochs': 2, 'LSTM_l1': 0.001, 'LSTM_l2': 0.001, 'LSTM_inter_dropout': 0.001, 'LSTM_input_gaussian_noise': 0.001, 'LSTM_conv1d': True, 'LSTM_conv1d_kernel_size': 3, 'LSTM_loss': 'mse', 'year_start': 2020, 'is_single_feature': False}\n",
      "2025-08-20 19:50:30,403 -   q0: 0.9980\n",
      "2025-08-20 19:50:30,403 -   Duration0: 0:00:52.111166\n",
      "2025-08-20 19:50:30,403 -   Val RMSE0 adjusted: 0.0061\n",
      "2025-08-20 19:50:30,419 -   Mean all prediction: 1.0015\n",
      "2025-08-20 19:50:30,419 -   Mean above prediction: 1.0077\n",
      "2025-08-20 19:50:30,419 -   Mean below prediction: 1.0042\n",
      "2025-08-20 19:50:30,419 -   Quantile 0.99 for distance in mask above: 4584.799999999997\n",
      "2025-08-20 19:50:30,419 -   Quantile 0.99 for distance in mask below: 4896.039999999954\n",
      "2025-08-20 19:50:30,419 -   Ratio for quantile-distance-to-length above: 0.0070\n",
      "2025-08-20 19:50:30,419 -   Ratio for quantile-distance-to-length below: 0.0074\n",
      "2025-08-20 19:50:30,419 -   Score: 1.0015\n"
     ]
    },
    {
     "name": "stderr",
     "output_type": "stream",
     "text": [
      "[I 2025-08-20 19:50:30,459] Trial 60 finished with value: 1.0015374906780823 and parameters: {'year_start': 2020, 'idxAfterPrediction': 5, 'LoadupSamples_time_inc_factor': 81, 'timesteps': 40, 'LSTM_learning_rate': 1.4615424634941575e-05, 'LSTM_dropout': 0.08365568981507729, 'is_single_feature': False}. Best is trial 31 with value: 1.0049487769776475.\n"
     ]
    },
    {
     "name": "stdout",
     "output_type": "stream",
     "text": [
      "2025-08-20 19:50:30,459 - Trial 60 finished with value: 1.0015374906780823 and parameters: {'year_start': 2020, 'idxAfterPrediction': 5, 'LoadupSamples_time_inc_factor': 81, 'timesteps': 40, 'LSTM_learning_rate': 1.4615424634941575e-05, 'LSTM_dropout': 0.08365568981507729, 'is_single_feature': False}. Best is trial 31 with value: 1.0049487769776475.\n",
      "2025-08-20 19:50:39,388 - Non-finite/too-large values in train y time: 48 samples.\n",
      "2025-08-20 19:50:39,388 - Removing 48 samples from training data.\n"
     ]
    },
    {
     "name": "stderr",
     "output_type": "stream",
     "text": [
      "Epochs:   0%|          | 0/2 [00:00<?, ?it/s]"
     ]
    },
    {
     "name": "stdout",
     "output_type": "stream",
     "text": [
      "2025-08-20 19:51:10,436 - Epoch 1/2 — Train RMSE: 0.6030 — Validation RMSE: 0.4386\n"
     ]
    },
    {
     "name": "stderr",
     "output_type": "stream",
     "text": [
      "Epochs:  50%|█████     | 1/2 [00:24<00:24, 24.39s/it]"
     ]
    },
    {
     "name": "stdout",
     "output_type": "stream",
     "text": [
      "2025-08-20 19:51:35,206 - Epoch 2/2 — Train RMSE: 0.4227 — Validation RMSE: 0.4028\n"
     ]
    },
    {
     "name": "stderr",
     "output_type": "stream",
     "text": [
      "Epochs: 100%|██████████| 2/2 [00:49<00:00, 24.58s/it]\n"
     ]
    },
    {
     "name": "stdout",
     "output_type": "stream",
     "text": [
      "2025-08-20 19:51:38,947 - Trial 61 with params: {'idxAfterPrediction': 4, 'timesteps': 45, 'target_option': 'last', 'LoadupSamples_time_scaling_stretch': True, 'LoadupSamples_time_inc_factor': 61, 'LSTM_units': 16, 'LSTM_num_layers': 1, 'LSTM_dropout': 0.06790095412621022, 'LSTM_recurrent_dropout': 0.001, 'LSTM_learning_rate': 7.686422390871629e-05, 'LSTM_optimizer': 'adam', 'LSTM_bidirectional': True, 'LSTM_batch_size': 4096, 'LSTM_epochs': 2, 'LSTM_l1': 0.001, 'LSTM_l2': 0.001, 'LSTM_inter_dropout': 0.001, 'LSTM_input_gaussian_noise': 0.001, 'LSTM_conv1d': True, 'LSTM_conv1d_kernel_size': 3, 'LSTM_loss': 'mse', 'year_start': 2020, 'is_single_feature': False}\n",
      "2025-08-20 19:51:38,947 -   q0: 0.9980\n",
      "2025-08-20 19:51:38,947 -   Duration0: 0:00:52.982463\n",
      "2025-08-20 19:51:38,947 -   Val RMSE0 adjusted: 0.0066\n",
      "2025-08-20 19:51:38,963 -   Mean all prediction: 1.0011\n",
      "2025-08-20 19:51:38,963 -   Mean above prediction: 1.0044\n",
      "2025-08-20 19:51:38,963 -   Mean below prediction: 1.0008\n",
      "2025-08-20 19:51:38,963 -   Quantile 0.99 for distance in mask above: 5932.43999999991\n",
      "2025-08-20 19:51:38,963 -   Quantile 0.99 for distance in mask below: 3860.8199999999815\n",
      "2025-08-20 19:51:38,963 -   Ratio for quantile-distance-to-length above: 0.0090\n",
      "2025-08-20 19:51:38,963 -   Ratio for quantile-distance-to-length below: 0.0059\n",
      "2025-08-20 19:51:38,963 -   Score: 1.0011\n"
     ]
    },
    {
     "name": "stderr",
     "output_type": "stream",
     "text": [
      "[I 2025-08-20 19:51:39,011] Trial 61 finished with value: 1.001092994398339 and parameters: {'year_start': 2020, 'idxAfterPrediction': 4, 'LoadupSamples_time_inc_factor': 61, 'timesteps': 45, 'LSTM_learning_rate': 7.686422390871629e-05, 'LSTM_dropout': 0.06790095412621022, 'is_single_feature': False}. Best is trial 31 with value: 1.0049487769776475.\n"
     ]
    },
    {
     "name": "stdout",
     "output_type": "stream",
     "text": [
      "2025-08-20 19:51:39,011 - Trial 61 finished with value: 1.001092994398339 and parameters: {'year_start': 2020, 'idxAfterPrediction': 4, 'LoadupSamples_time_inc_factor': 61, 'timesteps': 45, 'LSTM_learning_rate': 7.686422390871629e-05, 'LSTM_dropout': 0.06790095412621022, 'is_single_feature': False}. Best is trial 31 with value: 1.0049487769776475.\n",
      "2025-08-20 19:51:46,346 - Non-finite/too-large values in train y time: 48 samples.\n",
      "2025-08-20 19:51:46,346 - Removing 48 samples from training data.\n"
     ]
    },
    {
     "name": "stderr",
     "output_type": "stream",
     "text": [
      "Epochs:   0%|          | 0/2 [00:00<?, ?it/s]"
     ]
    },
    {
     "name": "stdout",
     "output_type": "stream",
     "text": [
      "2025-08-20 19:52:11,042 - Epoch 1/2 — Train RMSE: 0.5404 — Validation RMSE: 0.4393\n"
     ]
    },
    {
     "name": "stderr",
     "output_type": "stream",
     "text": [
      "Epochs:  50%|█████     | 1/2 [00:19<00:19, 19.25s/it]"
     ]
    },
    {
     "name": "stdout",
     "output_type": "stream",
     "text": [
      "2025-08-20 19:52:30,778 - Epoch 2/2 — Train RMSE: 0.4244 — Validation RMSE: 0.4092\n"
     ]
    },
    {
     "name": "stderr",
     "output_type": "stream",
     "text": [
      "Epochs: 100%|██████████| 2/2 [00:38<00:00, 19.49s/it]\n"
     ]
    },
    {
     "name": "stdout",
     "output_type": "stream",
     "text": [
      "2025-08-20 19:52:34,417 - Trial 62 with params: {'idxAfterPrediction': 4, 'timesteps': 45, 'target_option': 'last', 'LoadupSamples_time_scaling_stretch': True, 'LoadupSamples_time_inc_factor': 66, 'LSTM_units': 16, 'LSTM_num_layers': 1, 'LSTM_dropout': 0.05636931699278909, 'LSTM_recurrent_dropout': 0.001, 'LSTM_learning_rate': 9.009899965531674e-05, 'LSTM_optimizer': 'adam', 'LSTM_bidirectional': True, 'LSTM_batch_size': 4096, 'LSTM_epochs': 2, 'LSTM_l1': 0.001, 'LSTM_l2': 0.001, 'LSTM_inter_dropout': 0.001, 'LSTM_input_gaussian_noise': 0.001, 'LSTM_conv1d': True, 'LSTM_conv1d_kernel_size': 3, 'LSTM_loss': 'mse', 'year_start': 2021, 'is_single_feature': False}\n",
      "2025-08-20 19:52:34,417 -   q0: 0.9980\n",
      "2025-08-20 19:52:34,417 -   Duration0: 0:00:42.707177\n",
      "2025-08-20 19:52:34,417 -   Val RMSE0 adjusted: 0.0062\n",
      "2025-08-20 19:52:34,417 -   Mean all prediction: 1.0011\n",
      "2025-08-20 19:52:34,417 -   Mean above prediction: 1.0053\n",
      "2025-08-20 19:52:34,417 -   Mean below prediction: 0.9938\n",
      "2025-08-20 19:52:34,417 -   Quantile 0.99 for distance in mask above: 5710.379999999982\n",
      "2025-08-20 19:52:34,417 -   Quantile 0.99 for distance in mask below: 3542.4399999999996\n",
      "2025-08-20 19:52:34,417 -   Ratio for quantile-distance-to-length above: 0.0087\n",
      "2025-08-20 19:52:34,417 -   Ratio for quantile-distance-to-length below: 0.0054\n",
      "2025-08-20 19:52:34,417 -   Score: 1.0013\n"
     ]
    },
    {
     "name": "stderr",
     "output_type": "stream",
     "text": [
      "[I 2025-08-20 19:52:34,457] Trial 62 finished with value: 1.001318662850472 and parameters: {'year_start': 2021, 'idxAfterPrediction': 4, 'LoadupSamples_time_inc_factor': 66, 'timesteps': 45, 'LSTM_learning_rate': 9.009899965531674e-05, 'LSTM_dropout': 0.05636931699278909, 'is_single_feature': False}. Best is trial 31 with value: 1.0049487769776475.\n"
     ]
    },
    {
     "name": "stdout",
     "output_type": "stream",
     "text": [
      "2025-08-20 19:52:34,457 - Trial 62 finished with value: 1.001318662850472 and parameters: {'year_start': 2021, 'idxAfterPrediction': 4, 'LoadupSamples_time_inc_factor': 66, 'timesteps': 45, 'LSTM_learning_rate': 9.009899965531674e-05, 'LSTM_dropout': 0.05636931699278909, 'is_single_feature': False}. Best is trial 31 with value: 1.0049487769776475.\n",
      "2025-08-20 19:52:45,013 - Non-finite/too-large values in train y time: 48 samples.\n",
      "2025-08-20 19:52:45,013 - Removing 48 samples from training data.\n"
     ]
    },
    {
     "name": "stderr",
     "output_type": "stream",
     "text": [
      "Epochs:   0%|          | 0/2 [00:00<?, ?it/s]"
     ]
    },
    {
     "name": "stdout",
     "output_type": "stream",
     "text": [
      "2025-08-20 19:53:22,601 - Epoch 1/2 — Train RMSE: 0.4266 — Validation RMSE: 0.3937\n"
     ]
    },
    {
     "name": "stderr",
     "output_type": "stream",
     "text": [
      "Epochs:  50%|█████     | 1/2 [00:28<00:28, 28.94s/it]"
     ]
    },
    {
     "name": "stdout",
     "output_type": "stream",
     "text": [
      "2025-08-20 19:53:51,534 - Epoch 2/2 — Train RMSE: 0.4023 — Validation RMSE: 0.3937\n"
     ]
    },
    {
     "name": "stderr",
     "output_type": "stream",
     "text": [
      "Epochs: 100%|██████████| 2/2 [00:57<00:00, 28.94s/it]\n"
     ]
    },
    {
     "name": "stdout",
     "output_type": "stream",
     "text": [
      "2025-08-20 19:53:55,099 - Trial 63 with params: {'idxAfterPrediction': 4, 'timesteps': 50, 'target_option': 'last', 'LoadupSamples_time_scaling_stretch': True, 'LoadupSamples_time_inc_factor': 56, 'LSTM_units': 16, 'LSTM_num_layers': 1, 'LSTM_dropout': 0.06205185732392475, 'LSTM_recurrent_dropout': 0.001, 'LSTM_learning_rate': 0.00028952599784293643, 'LSTM_optimizer': 'adam', 'LSTM_bidirectional': True, 'LSTM_batch_size': 4096, 'LSTM_epochs': 2, 'LSTM_l1': 0.001, 'LSTM_l2': 0.001, 'LSTM_inter_dropout': 0.001, 'LSTM_input_gaussian_noise': 0.001, 'LSTM_conv1d': True, 'LSTM_conv1d_kernel_size': 3, 'LSTM_loss': 'mse', 'year_start': 2019, 'is_single_feature': False}\n",
      "2025-08-20 19:53:55,099 -   q0: 0.9980\n",
      "2025-08-20 19:53:55,099 -   Duration0: 0:01:01.545896\n",
      "2025-08-20 19:53:55,099 -   Val RMSE0 adjusted: 0.0070\n",
      "2025-08-20 19:53:55,099 -   Mean all prediction: 1.0011\n",
      "2025-08-20 19:53:55,099 -   Mean above prediction: 1.0160\n",
      "2025-08-20 19:53:55,099 -   Mean below prediction: 0.9998\n",
      "2025-08-20 19:53:55,099 -   Quantile 0.99 for distance in mask above: 6270.739999999984\n",
      "2025-08-20 19:53:55,099 -   Quantile 0.99 for distance in mask below: 3747.4199999999855\n",
      "2025-08-20 19:53:55,099 -   Ratio for quantile-distance-to-length above: 0.0095\n",
      "2025-08-20 19:53:55,099 -   Ratio for quantile-distance-to-length below: 0.0057\n",
      "2025-08-20 19:53:55,099 -   Score: 1.0040\n"
     ]
    },
    {
     "name": "stderr",
     "output_type": "stream",
     "text": [
      "[I 2025-08-20 19:53:55,163] Trial 63 finished with value: 1.0039721657498017 and parameters: {'year_start': 2019, 'idxAfterPrediction': 4, 'LoadupSamples_time_inc_factor': 56, 'timesteps': 50, 'LSTM_learning_rate': 0.00028952599784293643, 'LSTM_dropout': 0.06205185732392475, 'is_single_feature': False}. Best is trial 31 with value: 1.0049487769776475.\n"
     ]
    },
    {
     "name": "stdout",
     "output_type": "stream",
     "text": [
      "2025-08-20 19:53:55,163 - Trial 63 finished with value: 1.0039721657498017 and parameters: {'year_start': 2019, 'idxAfterPrediction': 4, 'LoadupSamples_time_inc_factor': 56, 'timesteps': 50, 'LSTM_learning_rate': 0.00028952599784293643, 'LSTM_dropout': 0.06205185732392475, 'is_single_feature': False}. Best is trial 31 with value: 1.0049487769776475.\n",
      "2025-08-20 19:54:05,572 - Non-finite/too-large values in train y time: 36 samples.\n",
      "2025-08-20 19:54:05,588 - Removing 36 samples from training data.\n"
     ]
    },
    {
     "name": "stderr",
     "output_type": "stream",
     "text": [
      "Epochs:   0%|          | 0/2 [00:00<?, ?it/s]"
     ]
    },
    {
     "name": "stdout",
     "output_type": "stream",
     "text": [
      "2025-08-20 19:54:43,057 - Epoch 1/2 — Train RMSE: 0.4353 — Validation RMSE: 0.3787\n"
     ]
    },
    {
     "name": "stderr",
     "output_type": "stream",
     "text": [
      "Epochs:  50%|█████     | 1/2 [00:28<00:28, 28.80s/it]"
     ]
    },
    {
     "name": "stdout",
     "output_type": "stream",
     "text": [
      "2025-08-20 19:55:12,122 - Epoch 2/2 — Train RMSE: 0.3891 — Validation RMSE: 0.3785\n"
     ]
    },
    {
     "name": "stderr",
     "output_type": "stream",
     "text": [
      "Epochs: 100%|██████████| 2/2 [00:57<00:00, 28.93s/it]\n"
     ]
    },
    {
     "name": "stdout",
     "output_type": "stream",
     "text": [
      "2025-08-20 19:55:15,752 - Trial 64 with params: {'idxAfterPrediction': 3, 'timesteps': 50, 'target_option': 'last', 'LoadupSamples_time_scaling_stretch': True, 'LoadupSamples_time_inc_factor': 56, 'LSTM_units': 16, 'LSTM_num_layers': 1, 'LSTM_dropout': 0.0990549114597588, 'LSTM_recurrent_dropout': 0.001, 'LSTM_learning_rate': 0.0004976563907321961, 'LSTM_optimizer': 'adam', 'LSTM_bidirectional': True, 'LSTM_batch_size': 4096, 'LSTM_epochs': 2, 'LSTM_l1': 0.001, 'LSTM_l2': 0.001, 'LSTM_inter_dropout': 0.001, 'LSTM_input_gaussian_noise': 0.001, 'LSTM_conv1d': True, 'LSTM_conv1d_kernel_size': 3, 'LSTM_loss': 'mse', 'year_start': 2019, 'is_single_feature': False}\n",
      "2025-08-20 19:55:15,752 -   q0: 0.9980\n",
      "2025-08-20 19:55:15,752 -   Duration0: 0:01:01.587874\n",
      "2025-08-20 19:55:15,752 -   Val RMSE0 adjusted: 0.0068\n",
      "2025-08-20 19:55:15,752 -   Mean all prediction: 1.0007\n",
      "2025-08-20 19:55:15,752 -   Mean above prediction: 1.0101\n",
      "2025-08-20 19:55:15,752 -   Mean below prediction: 1.0027\n",
      "2025-08-20 19:55:15,752 -   Quantile 0.99 for distance in mask above: 5160.479999999998\n",
      "2025-08-20 19:55:15,752 -   Quantile 0.99 for distance in mask below: 4428.359999999988\n",
      "2025-08-20 19:55:15,752 -   Ratio for quantile-distance-to-length above: 0.0078\n",
      "2025-08-20 19:55:15,752 -   Ratio for quantile-distance-to-length below: 0.0067\n",
      "2025-08-20 19:55:15,752 -   Score: 1.0033\n"
     ]
    },
    {
     "name": "stderr",
     "output_type": "stream",
     "text": [
      "[I 2025-08-20 19:55:15,807] Trial 64 finished with value: 1.0033458034708636 and parameters: {'year_start': 2019, 'idxAfterPrediction': 3, 'LoadupSamples_time_inc_factor': 56, 'timesteps': 50, 'LSTM_learning_rate': 0.0004976563907321961, 'LSTM_dropout': 0.0990549114597588, 'is_single_feature': False}. Best is trial 31 with value: 1.0049487769776475.\n"
     ]
    },
    {
     "name": "stdout",
     "output_type": "stream",
     "text": [
      "2025-08-20 19:55:15,807 - Trial 64 finished with value: 1.0033458034708636 and parameters: {'year_start': 2019, 'idxAfterPrediction': 3, 'LoadupSamples_time_inc_factor': 56, 'timesteps': 50, 'LSTM_learning_rate': 0.0004976563907321961, 'LSTM_dropout': 0.0990549114597588, 'is_single_feature': False}. Best is trial 31 with value: 1.0049487769776475.\n",
      "2025-08-20 19:55:26,355 - Non-finite/too-large values in train y time: 72 samples.\n",
      "2025-08-20 19:55:26,355 - Removing 72 samples from training data.\n"
     ]
    },
    {
     "name": "stderr",
     "output_type": "stream",
     "text": [
      "Epochs:   0%|          | 0/2 [00:00<?, ?it/s]"
     ]
    },
    {
     "name": "stdout",
     "output_type": "stream",
     "text": [
      "2025-08-20 19:56:00,712 - Epoch 1/2 — Train RMSE: 0.4672 — Validation RMSE: 0.4064\n"
     ]
    },
    {
     "name": "stderr",
     "output_type": "stream",
     "text": [
      "Epochs:  50%|█████     | 1/2 [00:28<00:28, 28.64s/it]"
     ]
    },
    {
     "name": "stdout",
     "output_type": "stream",
     "text": [
      "2025-08-20 19:56:29,543 - Epoch 2/2 — Train RMSE: 0.4132 — Validation RMSE: 0.4062\n"
     ]
    },
    {
     "name": "stderr",
     "output_type": "stream",
     "text": [
      "Epochs: 100%|██████████| 2/2 [00:57<00:00, 28.73s/it]\n"
     ]
    },
    {
     "name": "stdout",
     "output_type": "stream",
     "text": [
      "2025-08-20 19:56:32,941 - Trial 65 with params: {'idxAfterPrediction': 6, 'timesteps': 30, 'target_option': 'last', 'LoadupSamples_time_scaling_stretch': True, 'LoadupSamples_time_inc_factor': 51, 'LSTM_units': 16, 'LSTM_num_layers': 1, 'LSTM_dropout': 0.028868689822805108, 'LSTM_recurrent_dropout': 0.001, 'LSTM_learning_rate': 0.00018898911057078064, 'LSTM_optimizer': 'adam', 'LSTM_bidirectional': True, 'LSTM_batch_size': 4096, 'LSTM_epochs': 2, 'LSTM_l1': 0.001, 'LSTM_l2': 0.001, 'LSTM_inter_dropout': 0.001, 'LSTM_input_gaussian_noise': 0.001, 'LSTM_conv1d': True, 'LSTM_conv1d_kernel_size': 3, 'LSTM_loss': 'mse', 'year_start': 2019, 'is_single_feature': False}\n",
      "2025-08-20 19:56:32,941 -   q0: 0.9980\n",
      "2025-08-20 19:56:32,941 -   Duration0: 0:01:00.929234\n",
      "2025-08-20 19:56:32,941 -   Val RMSE0 adjusted: 0.0080\n",
      "2025-08-20 19:56:32,941 -   Mean all prediction: 1.0019\n",
      "2025-08-20 19:56:32,941 -   Mean above prediction: 0.9986\n",
      "2025-08-20 19:56:32,941 -   Mean below prediction: 1.0008\n",
      "2025-08-20 19:56:32,941 -   Quantile 0.99 for distance in mask above: 4055.2399999999816\n",
      "2025-08-20 19:56:32,941 -   Quantile 0.99 for distance in mask below: 5058.319999999974\n",
      "2025-08-20 19:56:32,941 -   Ratio for quantile-distance-to-length above: 0.0062\n",
      "2025-08-20 19:56:32,941 -   Ratio for quantile-distance-to-length below: 0.0077\n",
      "2025-08-20 19:56:32,957 -   Score: 0.9998\n"
     ]
    },
    {
     "name": "stderr",
     "output_type": "stream",
     "text": [
      "[I 2025-08-20 19:56:32,989] Trial 65 finished with value: 0.999764183196539 and parameters: {'year_start': 2019, 'idxAfterPrediction': 6, 'LoadupSamples_time_inc_factor': 51, 'timesteps': 30, 'LSTM_learning_rate': 0.00018898911057078064, 'LSTM_dropout': 0.028868689822805108, 'is_single_feature': False}. Best is trial 31 with value: 1.0049487769776475.\n"
     ]
    },
    {
     "name": "stdout",
     "output_type": "stream",
     "text": [
      "2025-08-20 19:56:32,989 - Trial 65 finished with value: 0.999764183196539 and parameters: {'year_start': 2019, 'idxAfterPrediction': 6, 'LoadupSamples_time_inc_factor': 51, 'timesteps': 30, 'LSTM_learning_rate': 0.00018898911057078064, 'LSTM_dropout': 0.028868689822805108, 'is_single_feature': False}. Best is trial 31 with value: 1.0049487769776475.\n",
      "2025-08-20 19:56:43,417 - Non-finite/too-large values in train y time: 48 samples.\n",
      "2025-08-20 19:56:43,417 - Removing 48 samples from training data.\n"
     ]
    },
    {
     "name": "stderr",
     "output_type": "stream",
     "text": [
      "Epochs:   0%|          | 0/2 [00:00<?, ?it/s]"
     ]
    },
    {
     "name": "stdout",
     "output_type": "stream",
     "text": [
      "2025-08-20 19:57:18,584 - Epoch 1/2 — Train RMSE: 0.4283 — Validation RMSE: 0.4015\n"
     ]
    },
    {
     "name": "stderr",
     "output_type": "stream",
     "text": [
      "Epochs:  50%|█████     | 1/2 [00:28<00:28, 28.76s/it]"
     ]
    },
    {
     "name": "stdout",
     "output_type": "stream",
     "text": [
      "2025-08-20 19:57:47,402 - Epoch 2/2 — Train RMSE: 0.4093 — Validation RMSE: 0.4015\n"
     ]
    },
    {
     "name": "stderr",
     "output_type": "stream",
     "text": [
      "Epochs: 100%|██████████| 2/2 [00:57<00:00, 28.79s/it]\n"
     ]
    },
    {
     "name": "stdout",
     "output_type": "stream",
     "text": [
      "2025-08-20 19:57:50,776 - Trial 66 with params: {'idxAfterPrediction': 4, 'timesteps': 35, 'target_option': 'last', 'LoadupSamples_time_scaling_stretch': True, 'LoadupSamples_time_inc_factor': 61, 'LSTM_units': 16, 'LSTM_num_layers': 1, 'LSTM_dropout': 0.04125515692389569, 'LSTM_recurrent_dropout': 0.001, 'LSTM_learning_rate': 0.00031220523528658587, 'LSTM_optimizer': 'adam', 'LSTM_bidirectional': True, 'LSTM_batch_size': 4096, 'LSTM_epochs': 2, 'LSTM_l1': 0.001, 'LSTM_l2': 0.001, 'LSTM_inter_dropout': 0.001, 'LSTM_input_gaussian_noise': 0.001, 'LSTM_conv1d': True, 'LSTM_conv1d_kernel_size': 3, 'LSTM_loss': 'mse', 'year_start': 2019, 'is_single_feature': False}\n",
      "2025-08-20 19:57:50,776 -   q0: 0.9980\n",
      "2025-08-20 19:57:50,776 -   Duration0: 0:01:01.010336\n",
      "2025-08-20 19:57:50,776 -   Val RMSE0 adjusted: 0.0066\n",
      "2025-08-20 19:57:50,776 -   Mean all prediction: 1.0011\n",
      "2025-08-20 19:57:50,776 -   Mean above prediction: 1.0054\n",
      "2025-08-20 19:57:50,776 -   Mean below prediction: 0.9955\n",
      "2025-08-20 19:57:50,776 -   Quantile 0.99 for distance in mask above: 5011.6199999999935\n",
      "2025-08-20 19:57:50,776 -   Quantile 0.99 for distance in mask below: 3957.1399999999903\n",
      "2025-08-20 19:57:50,776 -   Ratio for quantile-distance-to-length above: 0.0076\n",
      "2025-08-20 19:57:50,776 -   Ratio for quantile-distance-to-length below: 0.0060\n",
      "2025-08-20 19:57:50,776 -   Score: 1.0014\n"
     ]
    },
    {
     "name": "stderr",
     "output_type": "stream",
     "text": [
      "[I 2025-08-20 19:57:50,824] Trial 66 finished with value: 1.0013502015228877 and parameters: {'year_start': 2019, 'idxAfterPrediction': 4, 'LoadupSamples_time_inc_factor': 61, 'timesteps': 35, 'LSTM_learning_rate': 0.00031220523528658587, 'LSTM_dropout': 0.04125515692389569, 'is_single_feature': False}. Best is trial 31 with value: 1.0049487769776475.\n"
     ]
    },
    {
     "name": "stdout",
     "output_type": "stream",
     "text": [
      "2025-08-20 19:57:50,824 - Trial 66 finished with value: 1.0013502015228877 and parameters: {'year_start': 2019, 'idxAfterPrediction': 4, 'LoadupSamples_time_inc_factor': 61, 'timesteps': 35, 'LSTM_learning_rate': 0.00031220523528658587, 'LSTM_dropout': 0.04125515692389569, 'is_single_feature': False}. Best is trial 31 with value: 1.0049487769776475.\n",
      "2025-08-20 19:57:55,071 - Non-finite/too-large values in train y time: 60 samples.\n",
      "2025-08-20 19:57:55,071 - Removing 60 samples from training data.\n"
     ]
    },
    {
     "name": "stderr",
     "output_type": "stream",
     "text": [
      "Epochs:   0%|          | 0/2 [00:00<?, ?it/s]"
     ]
    },
    {
     "name": "stdout",
     "output_type": "stream",
     "text": [
      "2025-08-20 19:58:08,657 - Epoch 1/2 — Train RMSE: 0.4492 — Validation RMSE: 0.4004\n"
     ]
    },
    {
     "name": "stderr",
     "output_type": "stream",
     "text": [
      "Epochs:  50%|█████     | 1/2 [00:10<00:10, 10.08s/it]"
     ]
    },
    {
     "name": "stdout",
     "output_type": "stream",
     "text": [
      "2025-08-20 19:58:19,156 - Epoch 2/2 — Train RMSE: 0.4023 — Validation RMSE: 0.3971\n"
     ]
    },
    {
     "name": "stderr",
     "output_type": "stream",
     "text": [
      "Epochs: 100%|██████████| 2/2 [00:20<00:00, 10.29s/it]\n"
     ]
    },
    {
     "name": "stdout",
     "output_type": "stream",
     "text": [
      "2025-08-20 19:58:22,980 - Trial 67 with params: {'idxAfterPrediction': 5, 'timesteps': 55, 'target_option': 'last', 'LoadupSamples_time_scaling_stretch': True, 'LoadupSamples_time_inc_factor': 51, 'LSTM_units': 16, 'LSTM_num_layers': 1, 'LSTM_dropout': 0.04934650489400651, 'LSTM_recurrent_dropout': 0.001, 'LSTM_learning_rate': 0.00024380474721261364, 'LSTM_optimizer': 'adam', 'LSTM_bidirectional': True, 'LSTM_batch_size': 4096, 'LSTM_epochs': 2, 'LSTM_l1': 0.001, 'LSTM_l2': 0.001, 'LSTM_inter_dropout': 0.001, 'LSTM_input_gaussian_noise': 0.001, 'LSTM_conv1d': True, 'LSTM_conv1d_kernel_size': 3, 'LSTM_loss': 'mse', 'year_start': 2023, 'is_single_feature': False}\n",
      "2025-08-20 19:58:22,980 -   q0: 0.9980\n",
      "2025-08-20 19:58:22,980 -   Duration0: 0:00:24.458050\n",
      "2025-08-20 19:58:22,980 -   Val RMSE0 adjusted: 0.0078\n",
      "2025-08-20 19:58:22,980 -   Mean all prediction: 1.0015\n",
      "2025-08-20 19:58:22,980 -   Mean above prediction: 1.0037\n",
      "2025-08-20 19:58:22,980 -   Mean below prediction: 1.0019\n",
      "2025-08-20 19:58:22,980 -   Quantile 0.99 for distance in mask above: 4785.899999999989\n",
      "2025-08-20 19:58:22,996 -   Quantile 0.99 for distance in mask below: 3971.4999999999973\n",
      "2025-08-20 19:58:22,996 -   Ratio for quantile-distance-to-length above: 0.0073\n",
      "2025-08-20 19:58:22,996 -   Ratio for quantile-distance-to-length below: 0.0060\n",
      "2025-08-20 19:58:22,996 -   Score: 1.0007\n"
     ]
    },
    {
     "name": "stderr",
     "output_type": "stream",
     "text": [
      "[I 2025-08-20 19:58:23,017] Trial 67 finished with value: 1.0007462166505245 and parameters: {'year_start': 2023, 'idxAfterPrediction': 5, 'LoadupSamples_time_inc_factor': 51, 'timesteps': 55, 'LSTM_learning_rate': 0.00024380474721261364, 'LSTM_dropout': 0.04934650489400651, 'is_single_feature': False}. Best is trial 31 with value: 1.0049487769776475.\n"
     ]
    },
    {
     "name": "stdout",
     "output_type": "stream",
     "text": [
      "2025-08-20 19:58:23,017 - Trial 67 finished with value: 1.0007462166505245 and parameters: {'year_start': 2023, 'idxAfterPrediction': 5, 'LoadupSamples_time_inc_factor': 51, 'timesteps': 55, 'LSTM_learning_rate': 0.00024380474721261364, 'LSTM_dropout': 0.04934650489400651, 'is_single_feature': False}. Best is trial 31 with value: 1.0049487769776475.\n",
      "2025-08-20 19:58:33,578 - Non-finite/too-large values in train y time: 36 samples.\n",
      "2025-08-20 19:58:33,578 - Removing 36 samples from training data.\n"
     ]
    },
    {
     "name": "stderr",
     "output_type": "stream",
     "text": [
      "Epochs:   0%|          | 0/2 [00:00<?, ?it/s]"
     ]
    },
    {
     "name": "stdout",
     "output_type": "stream",
     "text": [
      "2025-08-20 19:59:12,766 - Epoch 1/2 — Train RMSE: 0.5310 — Validation RMSE: 0.3800\n"
     ]
    },
    {
     "name": "stderr",
     "output_type": "stream",
     "text": [
      "Epochs:  50%|█████     | 1/2 [00:29<00:29, 29.07s/it]"
     ]
    },
    {
     "name": "stdout",
     "output_type": "stream",
     "text": [
      "2025-08-20 19:59:42,196 - Epoch 2/2 — Train RMSE: 0.3895 — Validation RMSE: 0.3795\n"
     ]
    },
    {
     "name": "stderr",
     "output_type": "stream",
     "text": [
      "Epochs: 100%|██████████| 2/2 [00:58<00:00, 29.25s/it]\n"
     ]
    },
    {
     "name": "stdout",
     "output_type": "stream",
     "text": [
      "2025-08-20 19:59:45,777 - Trial 68 with params: {'idxAfterPrediction': 3, 'timesteps': 60, 'target_option': 'last', 'LoadupSamples_time_scaling_stretch': True, 'LoadupSamples_time_inc_factor': 56, 'LSTM_units': 16, 'LSTM_num_layers': 1, 'LSTM_dropout': 0.08179004063818596, 'LSTM_recurrent_dropout': 0.001, 'LSTM_learning_rate': 0.00017136416070756457, 'LSTM_optimizer': 'adam', 'LSTM_bidirectional': True, 'LSTM_batch_size': 4096, 'LSTM_epochs': 2, 'LSTM_l1': 0.001, 'LSTM_l2': 0.001, 'LSTM_inter_dropout': 0.001, 'LSTM_input_gaussian_noise': 0.001, 'LSTM_conv1d': True, 'LSTM_conv1d_kernel_size': 3, 'LSTM_loss': 'mse', 'year_start': 2019, 'is_single_feature': False}\n",
      "2025-08-20 19:59:45,777 -   q0: 0.9980\n",
      "2025-08-20 19:59:45,777 -   Duration0: 0:01:02.206218\n",
      "2025-08-20 19:59:45,777 -   Val RMSE0 adjusted: 0.0068\n",
      "2025-08-20 19:59:45,777 -   Mean all prediction: 1.0007\n",
      "2025-08-20 19:59:45,777 -   Mean above prediction: 1.0097\n",
      "2025-08-20 19:59:45,777 -   Mean below prediction: 1.0035\n",
      "2025-08-20 19:59:45,777 -   Quantile 0.99 for distance in mask above: 4710.859999999995\n",
      "2025-08-20 19:59:45,777 -   Quantile 0.99 for distance in mask below: 3988.7599999999534\n",
      "2025-08-20 19:59:45,777 -   Ratio for quantile-distance-to-length above: 0.0072\n",
      "2025-08-20 19:59:45,777 -   Ratio for quantile-distance-to-length below: 0.0061\n",
      "2025-08-20 19:59:45,777 -   Score: 1.0032\n"
     ]
    },
    {
     "name": "stderr",
     "output_type": "stream",
     "text": [
      "[I 2025-08-20 19:59:45,842] Trial 68 finished with value: 1.0032224663510332 and parameters: {'year_start': 2019, 'idxAfterPrediction': 3, 'LoadupSamples_time_inc_factor': 56, 'timesteps': 60, 'LSTM_learning_rate': 0.00017136416070756457, 'LSTM_dropout': 0.08179004063818596, 'is_single_feature': False}. Best is trial 31 with value: 1.0049487769776475.\n"
     ]
    },
    {
     "name": "stdout",
     "output_type": "stream",
     "text": [
      "2025-08-20 19:59:45,842 - Trial 68 finished with value: 1.0032224663510332 and parameters: {'year_start': 2019, 'idxAfterPrediction': 3, 'LoadupSamples_time_inc_factor': 56, 'timesteps': 60, 'LSTM_learning_rate': 0.00017136416070756457, 'LSTM_dropout': 0.08179004063818596, 'is_single_feature': False}. Best is trial 31 with value: 1.0049487769776475.\n",
      "2025-08-20 19:59:56,313 - Non-finite/too-large values in train y time: 48 samples.\n",
      "2025-08-20 19:59:56,313 - Removing 48 samples from training data.\n"
     ]
    },
    {
     "name": "stderr",
     "output_type": "stream",
     "text": [
      "Epochs:   0%|          | 0/2 [00:00<?, ?it/s]"
     ]
    },
    {
     "name": "stdout",
     "output_type": "stream",
     "text": [
      "2025-08-20 20:00:32,335 - Epoch 1/2 — Train RMSE: 0.4851 — Validation RMSE: 0.4082\n"
     ]
    },
    {
     "name": "stderr",
     "output_type": "stream",
     "text": [
      "Epochs:  50%|█████     | 1/2 [00:28<00:28, 28.87s/it]"
     ]
    },
    {
     "name": "stdout",
     "output_type": "stream",
     "text": [
      "2025-08-20 20:01:00,838 - Epoch 2/2 — Train RMSE: 0.4166 — Validation RMSE: 0.4081\n"
     ]
    },
    {
     "name": "stderr",
     "output_type": "stream",
     "text": [
      "Epochs: 100%|██████████| 2/2 [00:57<00:00, 28.69s/it]\n"
     ]
    },
    {
     "name": "stdout",
     "output_type": "stream",
     "text": [
      "2025-08-20 20:01:04,115 - Trial 69 with params: {'idxAfterPrediction': 4, 'timesteps': 40, 'target_option': 'last', 'LoadupSamples_time_scaling_stretch': True, 'LoadupSamples_time_inc_factor': 66, 'LSTM_units': 16, 'LSTM_num_layers': 1, 'LSTM_dropout': 0.06592932889516419, 'LSTM_recurrent_dropout': 0.001, 'LSTM_learning_rate': 0.00029941878561644606, 'LSTM_optimizer': 'adam', 'LSTM_bidirectional': True, 'LSTM_batch_size': 4096, 'LSTM_epochs': 2, 'LSTM_l1': 0.001, 'LSTM_l2': 0.001, 'LSTM_inter_dropout': 0.001, 'LSTM_input_gaussian_noise': 0.001, 'LSTM_conv1d': True, 'LSTM_conv1d_kernel_size': 3, 'LSTM_loss': 'mse', 'year_start': 2019, 'is_single_feature': False}\n",
      "2025-08-20 20:01:04,115 -   q0: 0.9980\n",
      "2025-08-20 20:01:04,115 -   Duration0: 0:01:00.731091\n",
      "2025-08-20 20:01:04,115 -   Val RMSE0 adjusted: 0.0062\n",
      "2025-08-20 20:01:04,115 -   Mean all prediction: 1.0011\n",
      "2025-08-20 20:01:04,115 -   Mean above prediction: 1.0082\n",
      "2025-08-20 20:01:04,115 -   Mean below prediction: 1.0043\n",
      "2025-08-20 20:01:04,115 -   Quantile 0.99 for distance in mask above: 4398.059999999953\n",
      "2025-08-20 20:01:04,115 -   Quantile 0.99 for distance in mask below: 4901.7799999999925\n",
      "2025-08-20 20:01:04,115 -   Ratio for quantile-distance-to-length above: 0.0067\n",
      "2025-08-20 20:01:04,131 -   Ratio for quantile-distance-to-length below: 0.0075\n",
      "2025-08-20 20:01:04,131 -   Score: 1.0021\n"
     ]
    },
    {
     "name": "stderr",
     "output_type": "stream",
     "text": [
      "[I 2025-08-20 20:01:04,163] Trial 69 finished with value: 1.002055120419872 and parameters: {'year_start': 2019, 'idxAfterPrediction': 4, 'LoadupSamples_time_inc_factor': 66, 'timesteps': 40, 'LSTM_learning_rate': 0.00029941878561644606, 'LSTM_dropout': 0.06592932889516419, 'is_single_feature': False}. Best is trial 31 with value: 1.0049487769776475.\n"
     ]
    },
    {
     "name": "stdout",
     "output_type": "stream",
     "text": [
      "2025-08-20 20:01:04,163 - Trial 69 finished with value: 1.002055120419872 and parameters: {'year_start': 2019, 'idxAfterPrediction': 4, 'LoadupSamples_time_inc_factor': 66, 'timesteps': 40, 'LSTM_learning_rate': 0.00029941878561644606, 'LSTM_dropout': 0.06592932889516419, 'is_single_feature': False}. Best is trial 31 with value: 1.0049487769776475.\n",
      "2025-08-20 20:01:14,998 - Non-finite/too-large values in train y time: 96 samples.\n",
      "2025-08-20 20:01:14,998 - Removing 96 samples from training data.\n"
     ]
    },
    {
     "name": "stderr",
     "output_type": "stream",
     "text": [
      "Epochs:   0%|          | 0/2 [00:00<?, ?it/s]"
     ]
    },
    {
     "name": "stdout",
     "output_type": "stream",
     "text": [
      "2025-08-20 20:01:53,040 - Epoch 1/2 — Train RMSE: 0.4980 — Validation RMSE: 0.4437\n"
     ]
    },
    {
     "name": "stderr",
     "output_type": "stream",
     "text": [
      "Epochs:  50%|█████     | 1/2 [00:29<00:29, 29.32s/it]"
     ]
    },
    {
     "name": "stdout",
     "output_type": "stream",
     "text": [
      "2025-08-20 20:02:21,754 - Epoch 2/2 — Train RMSE: 0.4411 — Validation RMSE: 0.4319\n"
     ]
    },
    {
     "name": "stderr",
     "output_type": "stream",
     "text": [
      "Epochs: 100%|██████████| 2/2 [00:58<00:00, 29.02s/it]\n"
     ]
    },
    {
     "name": "stdout",
     "output_type": "stream",
     "text": [
      "2025-08-20 20:02:25,089 - Trial 70 with params: {'idxAfterPrediction': 8, 'timesteps': 50, 'target_option': 'last', 'LoadupSamples_time_scaling_stretch': True, 'LoadupSamples_time_inc_factor': 61, 'LSTM_units': 16, 'LSTM_num_layers': 1, 'LSTM_dropout': 0.0023337673232525008, 'LSTM_recurrent_dropout': 0.001, 'LSTM_learning_rate': 4.248107697846598e-05, 'LSTM_optimizer': 'adam', 'LSTM_bidirectional': True, 'LSTM_batch_size': 4096, 'LSTM_epochs': 2, 'LSTM_l1': 0.001, 'LSTM_l2': 0.001, 'LSTM_inter_dropout': 0.001, 'LSTM_input_gaussian_noise': 0.001, 'LSTM_conv1d': True, 'LSTM_conv1d_kernel_size': 3, 'LSTM_loss': 'mse', 'year_start': 2019, 'is_single_feature': True}\n",
      "2025-08-20 20:02:25,089 -   q0: 0.9980\n",
      "2025-08-20 20:02:25,089 -   Duration0: 0:01:01.418568\n",
      "2025-08-20 20:02:25,089 -   Val RMSE0 adjusted: 0.0071\n",
      "2025-08-20 20:02:25,089 -   Mean all prediction: 1.0028\n",
      "2025-08-20 20:02:25,089 -   Mean above prediction: 1.0051\n",
      "2025-08-20 20:02:25,089 -   Mean below prediction: 0.9957\n",
      "2025-08-20 20:02:25,089 -   Quantile 0.99 for distance in mask above: 4551.9999999999945\n",
      "2025-08-20 20:02:25,089 -   Quantile 0.99 for distance in mask below: 4178.679999999986\n",
      "2025-08-20 20:02:25,089 -   Ratio for quantile-distance-to-length above: 0.0069\n",
      "2025-08-20 20:02:25,089 -   Ratio for quantile-distance-to-length below: 0.0064\n",
      "2025-08-20 20:02:25,089 -   Score: 1.0006\n"
     ]
    },
    {
     "name": "stderr",
     "output_type": "stream",
     "text": [
      "[I 2025-08-20 20:02:25,169] Trial 70 finished with value: 1.0006348007943087 and parameters: {'year_start': 2019, 'idxAfterPrediction': 8, 'LoadupSamples_time_inc_factor': 61, 'timesteps': 50, 'LSTM_learning_rate': 4.248107697846598e-05, 'LSTM_dropout': 0.0023337673232525008, 'is_single_feature': True}. Best is trial 31 with value: 1.0049487769776475.\n"
     ]
    },
    {
     "name": "stdout",
     "output_type": "stream",
     "text": [
      "2025-08-20 20:02:25,169 - Trial 70 finished with value: 1.0006348007943087 and parameters: {'year_start': 2019, 'idxAfterPrediction': 8, 'LoadupSamples_time_inc_factor': 61, 'timesteps': 50, 'LSTM_learning_rate': 4.248107697846598e-05, 'LSTM_dropout': 0.0023337673232525008, 'is_single_feature': True}. Best is trial 31 with value: 1.0049487769776475.\n",
      "2025-08-20 20:02:34,077 - Non-finite/too-large values in train y time: 48 samples.\n",
      "2025-08-20 20:02:34,093 - Removing 48 samples from training data.\n"
     ]
    },
    {
     "name": "stderr",
     "output_type": "stream",
     "text": [
      "Epochs:   0%|          | 0/2 [00:00<?, ?it/s]"
     ]
    },
    {
     "name": "stdout",
     "output_type": "stream",
     "text": [
      "2025-08-20 20:03:04,900 - Epoch 1/2 — Train RMSE: 0.4329 — Validation RMSE: 0.4021\n"
     ]
    },
    {
     "name": "stderr",
     "output_type": "stream",
     "text": [
      "Epochs:  50%|█████     | 1/2 [00:24<00:24, 24.10s/it]"
     ]
    },
    {
     "name": "stdout",
     "output_type": "stream",
     "text": [
      "2025-08-20 20:03:29,431 - Epoch 2/2 — Train RMSE: 0.4143 — Validation RMSE: 0.4016\n"
     ]
    },
    {
     "name": "stderr",
     "output_type": "stream",
     "text": [
      "Epochs: 100%|██████████| 2/2 [00:48<00:00, 24.32s/it]\n"
     ]
    },
    {
     "name": "stdout",
     "output_type": "stream",
     "text": [
      "2025-08-20 20:03:33,059 - Trial 71 with params: {'idxAfterPrediction': 4, 'timesteps': 45, 'target_option': 'last', 'LoadupSamples_time_scaling_stretch': True, 'LoadupSamples_time_inc_factor': 61, 'LSTM_units': 16, 'LSTM_num_layers': 1, 'LSTM_dropout': 0.06316115178849165, 'LSTM_recurrent_dropout': 0.001, 'LSTM_learning_rate': 0.00011775397514998582, 'LSTM_optimizer': 'adam', 'LSTM_bidirectional': True, 'LSTM_batch_size': 4096, 'LSTM_epochs': 2, 'LSTM_l1': 0.001, 'LSTM_l2': 0.001, 'LSTM_inter_dropout': 0.001, 'LSTM_input_gaussian_noise': 0.001, 'LSTM_conv1d': True, 'LSTM_conv1d_kernel_size': 3, 'LSTM_loss': 'mse', 'year_start': 2020, 'is_single_feature': False}\n",
      "2025-08-20 20:03:33,059 -   q0: 0.9980\n",
      "2025-08-20 20:03:33,059 -   Duration0: 0:00:52.335691\n",
      "2025-08-20 20:03:33,059 -   Val RMSE0 adjusted: 0.0066\n",
      "2025-08-20 20:03:33,059 -   Mean all prediction: 1.0011\n",
      "2025-08-20 20:03:33,059 -   Mean above prediction: 1.0057\n",
      "2025-08-20 20:03:33,059 -   Mean below prediction: 0.9979\n",
      "2025-08-20 20:03:33,059 -   Quantile 0.99 for distance in mask above: 5185.619999999988\n",
      "2025-08-20 20:03:33,059 -   Quantile 0.99 for distance in mask below: 3374.6399999999926\n",
      "2025-08-20 20:03:33,059 -   Ratio for quantile-distance-to-length above: 0.0079\n",
      "2025-08-20 20:03:33,059 -   Ratio for quantile-distance-to-length below: 0.0051\n",
      "2025-08-20 20:03:33,059 -   Score: 1.0014\n"
     ]
    },
    {
     "name": "stderr",
     "output_type": "stream",
     "text": [
      "[I 2025-08-20 20:03:33,107] Trial 71 finished with value: 1.0014235983007584 and parameters: {'year_start': 2020, 'idxAfterPrediction': 4, 'LoadupSamples_time_inc_factor': 61, 'timesteps': 45, 'LSTM_learning_rate': 0.00011775397514998582, 'LSTM_dropout': 0.06316115178849165, 'is_single_feature': False}. Best is trial 31 with value: 1.0049487769776475.\n"
     ]
    },
    {
     "name": "stdout",
     "output_type": "stream",
     "text": [
      "2025-08-20 20:03:33,107 - Trial 71 finished with value: 1.0014235983007584 and parameters: {'year_start': 2020, 'idxAfterPrediction': 4, 'LoadupSamples_time_inc_factor': 61, 'timesteps': 45, 'LSTM_learning_rate': 0.00011775397514998582, 'LSTM_dropout': 0.06316115178849165, 'is_single_feature': False}. Best is trial 31 with value: 1.0049487769776475.\n",
      "2025-08-20 20:03:42,080 - Non-finite/too-large values in train y time: 48 samples.\n",
      "2025-08-20 20:03:42,080 - Removing 48 samples from training data.\n"
     ]
    },
    {
     "name": "stderr",
     "output_type": "stream",
     "text": [
      "Epochs:   0%|          | 0/2 [00:00<?, ?it/s]"
     ]
    },
    {
     "name": "stdout",
     "output_type": "stream",
     "text": [
      "2025-08-20 20:04:14,280 - Epoch 1/2 — Train RMSE: 0.5065 — Validation RMSE: 0.4184\n"
     ]
    },
    {
     "name": "stderr",
     "output_type": "stream",
     "text": [
      "Epochs:  50%|█████     | 1/2 [00:24<00:24, 24.25s/it]"
     ]
    },
    {
     "name": "stdout",
     "output_type": "stream",
     "text": [
      "2025-08-20 20:04:38,980 - Epoch 2/2 — Train RMSE: 0.4144 — Validation RMSE: 0.3944\n"
     ]
    },
    {
     "name": "stderr",
     "output_type": "stream",
     "text": [
      "Epochs: 100%|██████████| 2/2 [00:48<00:00, 24.47s/it]\n"
     ]
    },
    {
     "name": "stdout",
     "output_type": "stream",
     "text": [
      "2025-08-20 20:04:42,871 - Trial 72 with params: {'idxAfterPrediction': 4, 'timesteps': 55, 'target_option': 'last', 'LoadupSamples_time_scaling_stretch': True, 'LoadupSamples_time_inc_factor': 56, 'LSTM_units': 16, 'LSTM_num_layers': 1, 'LSTM_dropout': 0.05566777552307501, 'LSTM_recurrent_dropout': 0.001, 'LSTM_learning_rate': 8.093676701869945e-05, 'LSTM_optimizer': 'adam', 'LSTM_bidirectional': True, 'LSTM_batch_size': 4096, 'LSTM_epochs': 2, 'LSTM_l1': 0.001, 'LSTM_l2': 0.001, 'LSTM_inter_dropout': 0.001, 'LSTM_input_gaussian_noise': 0.001, 'LSTM_conv1d': True, 'LSTM_conv1d_kernel_size': 3, 'LSTM_loss': 'mse', 'year_start': 2020, 'is_single_feature': False}\n",
      "2025-08-20 20:04:42,871 -   q0: 0.9980\n",
      "2025-08-20 20:04:42,871 -   Duration0: 0:00:53.015731\n",
      "2025-08-20 20:04:42,871 -   Val RMSE0 adjusted: 0.0070\n",
      "2025-08-20 20:04:42,871 -   Mean all prediction: 1.0011\n",
      "2025-08-20 20:04:42,887 -   Mean above prediction: 1.0058\n",
      "2025-08-20 20:04:42,887 -   Mean below prediction: 1.0046\n",
      "2025-08-20 20:04:42,887 -   Quantile 0.99 for distance in mask above: 4399.99999999999\n",
      "2025-08-20 20:04:42,887 -   Quantile 0.99 for distance in mask below: 4528.099999999997\n",
      "2025-08-20 20:04:42,887 -   Ratio for quantile-distance-to-length above: 0.0067\n",
      "2025-08-20 20:04:42,887 -   Ratio for quantile-distance-to-length below: 0.0069\n",
      "2025-08-20 20:04:42,887 -   Score: 1.0014\n"
     ]
    },
    {
     "name": "stderr",
     "output_type": "stream",
     "text": [
      "[I 2025-08-20 20:04:42,934] Trial 72 finished with value: 1.0014413393053252 and parameters: {'year_start': 2020, 'idxAfterPrediction': 4, 'LoadupSamples_time_inc_factor': 56, 'timesteps': 55, 'LSTM_learning_rate': 8.093676701869945e-05, 'LSTM_dropout': 0.05566777552307501, 'is_single_feature': False}. Best is trial 31 with value: 1.0049487769776475.\n"
     ]
    },
    {
     "name": "stdout",
     "output_type": "stream",
     "text": [
      "2025-08-20 20:04:42,934 - Trial 72 finished with value: 1.0014413393053252 and parameters: {'year_start': 2020, 'idxAfterPrediction': 4, 'LoadupSamples_time_inc_factor': 56, 'timesteps': 55, 'LSTM_learning_rate': 8.093676701869945e-05, 'LSTM_dropout': 0.05566777552307501, 'is_single_feature': False}. Best is trial 31 with value: 1.0049487769776475.\n",
      "2025-08-20 20:04:50,216 - Non-finite/too-large values in train y time: 60 samples.\n",
      "2025-08-20 20:04:50,216 - Removing 60 samples from training data.\n"
     ]
    },
    {
     "name": "stderr",
     "output_type": "stream",
     "text": [
      "Epochs:   0%|          | 0/2 [00:00<?, ?it/s]"
     ]
    },
    {
     "name": "stdout",
     "output_type": "stream",
     "text": [
      "2025-08-20 20:05:13,340 - Epoch 1/2 — Train RMSE: 0.6031 — Validation RMSE: 0.5392\n"
     ]
    },
    {
     "name": "stderr",
     "output_type": "stream",
     "text": [
      "Epochs:  50%|█████     | 1/2 [00:19<00:19, 19.29s/it]"
     ]
    },
    {
     "name": "stdout",
     "output_type": "stream",
     "text": [
      "2025-08-20 20:05:32,940 - Epoch 2/2 — Train RMSE: 0.5087 — Validation RMSE: 0.4542\n"
     ]
    },
    {
     "name": "stderr",
     "output_type": "stream",
     "text": [
      "Epochs: 100%|██████████| 2/2 [00:38<00:00, 19.44s/it]\n"
     ]
    },
    {
     "name": "stdout",
     "output_type": "stream",
     "text": [
      "2025-08-20 20:05:36,746 - Trial 73 with params: {'idxAfterPrediction': 5, 'timesteps': 30, 'target_option': 'last', 'LoadupSamples_time_scaling_stretch': True, 'LoadupSamples_time_inc_factor': 66, 'LSTM_units': 16, 'LSTM_num_layers': 1, 'LSTM_dropout': 0.04530041375755835, 'LSTM_recurrent_dropout': 0.001, 'LSTM_learning_rate': 5.1056511732154746e-05, 'LSTM_optimizer': 'adam', 'LSTM_bidirectional': True, 'LSTM_batch_size': 4096, 'LSTM_epochs': 2, 'LSTM_l1': 0.001, 'LSTM_l2': 0.001, 'LSTM_inter_dropout': 0.001, 'LSTM_input_gaussian_noise': 0.001, 'LSTM_conv1d': True, 'LSTM_conv1d_kernel_size': 3, 'LSTM_loss': 'mse', 'year_start': 2021, 'is_single_feature': False}\n",
      "2025-08-20 20:05:36,746 -   q0: 0.9980\n",
      "2025-08-20 20:05:36,746 -   Duration0: 0:00:42.739652\n",
      "2025-08-20 20:05:36,746 -   Val RMSE0 adjusted: 0.0069\n",
      "2025-08-20 20:05:36,746 -   Mean all prediction: 1.0015\n",
      "2025-08-20 20:05:36,746 -   Mean above prediction: 1.0160\n",
      "2025-08-20 20:05:36,746 -   Mean below prediction: 1.0015\n",
      "2025-08-20 20:05:36,746 -   Quantile 0.99 for distance in mask above: 4903.919999999987\n",
      "2025-08-20 20:05:36,746 -   Quantile 0.99 for distance in mask below: 4801.99999999997\n",
      "2025-08-20 20:05:36,746 -   Ratio for quantile-distance-to-length above: 0.0075\n",
      "2025-08-20 20:05:36,746 -   Ratio for quantile-distance-to-length below: 0.0073\n",
      "2025-08-20 20:05:36,746 -   Score: 1.0032\n"
     ]
    },
    {
     "name": "stderr",
     "output_type": "stream",
     "text": [
      "[I 2025-08-20 20:05:36,776] Trial 73 finished with value: 1.0031891323819495 and parameters: {'year_start': 2021, 'idxAfterPrediction': 5, 'LoadupSamples_time_inc_factor': 66, 'timesteps': 30, 'LSTM_learning_rate': 5.1056511732154746e-05, 'LSTM_dropout': 0.04530041375755835, 'is_single_feature': False}. Best is trial 31 with value: 1.0049487769776475.\n"
     ]
    },
    {
     "name": "stdout",
     "output_type": "stream",
     "text": [
      "2025-08-20 20:05:36,776 - Trial 73 finished with value: 1.0031891323819495 and parameters: {'year_start': 2021, 'idxAfterPrediction': 5, 'LoadupSamples_time_inc_factor': 66, 'timesteps': 30, 'LSTM_learning_rate': 5.1056511732154746e-05, 'LSTM_dropout': 0.04530041375755835, 'is_single_feature': False}. Best is trial 31 with value: 1.0049487769776475.\n",
      "2025-08-20 20:05:42,580 - Non-finite/too-large values in train y time: 48 samples.\n",
      "2025-08-20 20:05:42,580 - Removing 48 samples from training data.\n"
     ]
    },
    {
     "name": "stderr",
     "output_type": "stream",
     "text": [
      "Epochs:   0%|          | 0/2 [00:00<?, ?it/s]"
     ]
    },
    {
     "name": "stdout",
     "output_type": "stream",
     "text": [
      "2025-08-20 20:06:01,867 - Epoch 1/2 — Train RMSE: 0.5918 — Validation RMSE: 0.4429\n"
     ]
    },
    {
     "name": "stderr",
     "output_type": "stream",
     "text": [
      "Epochs:  50%|█████     | 1/2 [00:14<00:14, 14.73s/it]"
     ]
    },
    {
     "name": "stdout",
     "output_type": "stream",
     "text": [
      "2025-08-20 20:06:17,143 - Epoch 2/2 — Train RMSE: 0.4057 — Validation RMSE: 0.3764\n"
     ]
    },
    {
     "name": "stderr",
     "output_type": "stream",
     "text": [
      "Epochs: 100%|██████████| 2/2 [00:29<00:00, 15.00s/it]\n"
     ]
    },
    {
     "name": "stdout",
     "output_type": "stream",
     "text": [
      "2025-08-20 20:06:20,513 - Trial 74 with params: {'idxAfterPrediction': 4, 'timesteps': 50, 'target_option': 'last', 'LoadupSamples_time_scaling_stretch': True, 'LoadupSamples_time_inc_factor': 46, 'LSTM_units': 16, 'LSTM_num_layers': 1, 'LSTM_dropout': 0.0010336480800443083, 'LSTM_recurrent_dropout': 0.001, 'LSTM_learning_rate': 0.00013300621527937367, 'LSTM_optimizer': 'adam', 'LSTM_bidirectional': True, 'LSTM_batch_size': 4096, 'LSTM_epochs': 2, 'LSTM_l1': 0.001, 'LSTM_l2': 0.001, 'LSTM_inter_dropout': 0.001, 'LSTM_input_gaussian_noise': 0.001, 'LSTM_conv1d': True, 'LSTM_conv1d_kernel_size': 3, 'LSTM_loss': 'mse', 'year_start': 2022, 'is_single_feature': False}\n",
      "2025-08-20 20:06:20,513 -   q0: 0.9980\n",
      "2025-08-20 20:06:20,513 -   Duration0: 0:00:33.436171\n",
      "2025-08-20 20:06:20,513 -   Val RMSE0 adjusted: 0.0082\n",
      "2025-08-20 20:06:20,513 -   Mean all prediction: 1.0011\n",
      "2025-08-20 20:06:20,513 -   Mean above prediction: 1.0036\n",
      "2025-08-20 20:06:20,513 -   Mean below prediction: 0.9983\n",
      "2025-08-20 20:06:20,513 -   Quantile 0.99 for distance in mask above: 4948.539999999996\n",
      "2025-08-20 20:06:20,513 -   Quantile 0.99 for distance in mask below: 4485.679999999997\n",
      "2025-08-20 20:06:20,513 -   Ratio for quantile-distance-to-length above: 0.0075\n",
      "2025-08-20 20:06:20,513 -   Ratio for quantile-distance-to-length below: 0.0068\n",
      "2025-08-20 20:06:20,529 -   Score: 1.0009\n"
     ]
    },
    {
     "name": "stderr",
     "output_type": "stream",
     "text": [
      "[I 2025-08-20 20:06:20,545] Trial 74 finished with value: 1.0009029023024993 and parameters: {'year_start': 2022, 'idxAfterPrediction': 4, 'LoadupSamples_time_inc_factor': 46, 'timesteps': 50, 'LSTM_learning_rate': 0.00013300621527937367, 'LSTM_dropout': 0.0010336480800443083, 'is_single_feature': False}. Best is trial 31 with value: 1.0049487769776475.\n"
     ]
    },
    {
     "name": "stdout",
     "output_type": "stream",
     "text": [
      "2025-08-20 20:06:20,545 - Trial 74 finished with value: 1.0009029023024993 and parameters: {'year_start': 2022, 'idxAfterPrediction': 4, 'LoadupSamples_time_inc_factor': 46, 'timesteps': 50, 'LSTM_learning_rate': 0.00013300621527937367, 'LSTM_dropout': 0.0010336480800443083, 'is_single_feature': False}. Best is trial 31 with value: 1.0049487769776475.\n",
      "2025-08-20 20:06:30,950 - Non-finite/too-large values in train y time: 36 samples.\n",
      "2025-08-20 20:06:30,966 - Removing 36 samples from training data.\n"
     ]
    },
    {
     "name": "stderr",
     "output_type": "stream",
     "text": [
      "Epochs:   0%|          | 0/2 [00:00<?, ?it/s]"
     ]
    },
    {
     "name": "stdout",
     "output_type": "stream",
     "text": [
      "2025-08-20 20:07:06,743 - Epoch 1/2 — Train RMSE: 0.4428 — Validation RMSE: 0.3881\n"
     ]
    },
    {
     "name": "stderr",
     "output_type": "stream",
     "text": [
      "Epochs:  50%|█████     | 1/2 [00:28<00:28, 28.65s/it]"
     ]
    },
    {
     "name": "stdout",
     "output_type": "stream",
     "text": [
      "2025-08-20 20:07:35,882 - Epoch 2/2 — Train RMSE: 0.3966 — Validation RMSE: 0.3876\n"
     ]
    },
    {
     "name": "stderr",
     "output_type": "stream",
     "text": [
      "Epochs: 100%|██████████| 2/2 [00:57<00:00, 28.90s/it]\n"
     ]
    },
    {
     "name": "stdout",
     "output_type": "stream",
     "text": [
      "2025-08-20 20:07:38,866 - Trial 75 with params: {'idxAfterPrediction': 3, 'timesteps': 40, 'target_option': 'last', 'LoadupSamples_time_scaling_stretch': True, 'LoadupSamples_time_inc_factor': 61, 'LSTM_units': 16, 'LSTM_num_layers': 1, 'LSTM_dropout': 0.06586795283564882, 'LSTM_recurrent_dropout': 0.001, 'LSTM_learning_rate': 9.545494844571267e-05, 'LSTM_optimizer': 'adam', 'LSTM_bidirectional': True, 'LSTM_batch_size': 4096, 'LSTM_epochs': 2, 'LSTM_l1': 0.001, 'LSTM_l2': 0.001, 'LSTM_inter_dropout': 0.001, 'LSTM_input_gaussian_noise': 0.001, 'LSTM_conv1d': True, 'LSTM_conv1d_kernel_size': 3, 'LSTM_loss': 'mse', 'year_start': 2019, 'is_single_feature': False}\n",
      "2025-08-20 20:07:38,866 -   q0: 0.9980\n",
      "2025-08-20 20:07:38,866 -   Duration0: 0:01:00.875753\n",
      "2025-08-20 20:07:38,866 -   Val RMSE0 adjusted: 0.0064\n",
      "2025-08-20 20:07:38,882 -   Mean all prediction: 1.0007\n",
      "2025-08-20 20:07:38,882 -   Mean above prediction: 1.0078\n",
      "2025-08-20 20:07:38,882 -   Mean below prediction: 1.0052\n",
      "2025-08-20 20:07:38,882 -   Quantile 0.99 for distance in mask above: 4656.079999999993\n",
      "2025-08-20 20:07:38,882 -   Quantile 0.99 for distance in mask below: 4082.879999999989\n",
      "2025-08-20 20:07:38,882 -   Ratio for quantile-distance-to-length above: 0.0071\n",
      "2025-08-20 20:07:38,882 -   Ratio for quantile-distance-to-length below: 0.0062\n",
      "2025-08-20 20:07:38,882 -   Score: 1.0026\n"
     ]
    },
    {
     "name": "stderr",
     "output_type": "stream",
     "text": [
      "[I 2025-08-20 20:07:38,930] Trial 75 finished with value: 1.002594626157339 and parameters: {'year_start': 2019, 'idxAfterPrediction': 3, 'LoadupSamples_time_inc_factor': 61, 'timesteps': 40, 'LSTM_learning_rate': 9.545494844571267e-05, 'LSTM_dropout': 0.06586795283564882, 'is_single_feature': False}. Best is trial 31 with value: 1.0049487769776475.\n"
     ]
    },
    {
     "name": "stdout",
     "output_type": "stream",
     "text": [
      "2025-08-20 20:07:38,930 - Trial 75 finished with value: 1.002594626157339 and parameters: {'year_start': 2019, 'idxAfterPrediction': 3, 'LoadupSamples_time_inc_factor': 61, 'timesteps': 40, 'LSTM_learning_rate': 9.545494844571267e-05, 'LSTM_dropout': 0.06586795283564882, 'is_single_feature': False}. Best is trial 31 with value: 1.0049487769776475.\n",
      "2025-08-20 20:07:49,261 - Non-finite/too-large values in train y time: 36 samples.\n",
      "2025-08-20 20:07:49,261 - Removing 36 samples from training data.\n"
     ]
    },
    {
     "name": "stderr",
     "output_type": "stream",
     "text": [
      "Epochs:   0%|          | 0/2 [00:00<?, ?it/s]"
     ]
    },
    {
     "name": "stdout",
     "output_type": "stream",
     "text": [
      "2025-08-20 20:08:24,590 - Epoch 1/2 — Train RMSE: 0.5107 — Validation RMSE: 0.4078\n"
     ]
    },
    {
     "name": "stderr",
     "output_type": "stream",
     "text": [
      "Epochs:  50%|█████     | 1/2 [00:28<00:28, 28.95s/it]"
     ]
    },
    {
     "name": "stdout",
     "output_type": "stream",
     "text": [
      "2025-08-20 20:08:53,442 - Epoch 2/2 — Train RMSE: 0.4106 — Validation RMSE: 0.4014\n"
     ]
    },
    {
     "name": "stderr",
     "output_type": "stream",
     "text": [
      "Epochs: 100%|██████████| 2/2 [00:57<00:00, 28.90s/it]\n"
     ]
    },
    {
     "name": "stdout",
     "output_type": "stream",
     "text": [
      "2025-08-20 20:08:56,805 - Trial 76 with params: {'idxAfterPrediction': 3, 'timesteps': 35, 'target_option': 'last', 'LoadupSamples_time_scaling_stretch': True, 'LoadupSamples_time_inc_factor': 71, 'LSTM_units': 16, 'LSTM_num_layers': 1, 'LSTM_dropout': 0.033403829656163925, 'LSTM_recurrent_dropout': 0.001, 'LSTM_learning_rate': 6.569347662458837e-05, 'LSTM_optimizer': 'adam', 'LSTM_bidirectional': True, 'LSTM_batch_size': 4096, 'LSTM_epochs': 2, 'LSTM_l1': 0.001, 'LSTM_l2': 0.001, 'LSTM_inter_dropout': 0.001, 'LSTM_input_gaussian_noise': 0.001, 'LSTM_conv1d': True, 'LSTM_conv1d_kernel_size': 3, 'LSTM_loss': 'mse', 'year_start': 2019, 'is_single_feature': False}\n",
      "2025-08-20 20:08:56,805 -   q0: 0.9980\n",
      "2025-08-20 20:08:56,805 -   Duration0: 0:01:01.228192\n",
      "2025-08-20 20:08:56,805 -   Val RMSE0 adjusted: 0.0057\n",
      "2025-08-20 20:08:56,805 -   Mean all prediction: 1.0007\n",
      "2025-08-20 20:08:56,805 -   Mean above prediction: 1.0058\n",
      "2025-08-20 20:08:56,805 -   Mean below prediction: 1.0055\n",
      "2025-08-20 20:08:56,805 -   Quantile 0.99 for distance in mask above: 4656.079999999993\n",
      "2025-08-20 20:08:56,805 -   Quantile 0.99 for distance in mask below: 4412.959999999986\n",
      "2025-08-20 20:08:56,805 -   Ratio for quantile-distance-to-length above: 0.0071\n",
      "2025-08-20 20:08:56,805 -   Ratio for quantile-distance-to-length below: 0.0067\n",
      "2025-08-20 20:08:56,805 -   Score: 1.0019\n"
     ]
    },
    {
     "name": "stderr",
     "output_type": "stream",
     "text": [
      "[I 2025-08-20 20:08:56,853] Trial 76 finished with value: 1.0019419216244558 and parameters: {'year_start': 2019, 'idxAfterPrediction': 3, 'LoadupSamples_time_inc_factor': 71, 'timesteps': 35, 'LSTM_learning_rate': 6.569347662458837e-05, 'LSTM_dropout': 0.033403829656163925, 'is_single_feature': False}. Best is trial 31 with value: 1.0049487769776475.\n"
     ]
    },
    {
     "name": "stdout",
     "output_type": "stream",
     "text": [
      "2025-08-20 20:08:56,853 - Trial 76 finished with value: 1.0019419216244558 and parameters: {'year_start': 2019, 'idxAfterPrediction': 3, 'LoadupSamples_time_inc_factor': 71, 'timesteps': 35, 'LSTM_learning_rate': 6.569347662458837e-05, 'LSTM_dropout': 0.033403829656163925, 'is_single_feature': False}. Best is trial 31 with value: 1.0049487769776475.\n",
      "2025-08-20 20:09:04,200 - Non-finite/too-large values in train y time: 48 samples.\n",
      "2025-08-20 20:09:04,200 - Removing 48 samples from training data.\n"
     ]
    },
    {
     "name": "stderr",
     "output_type": "stream",
     "text": [
      "Epochs:   0%|          | 0/2 [00:00<?, ?it/s]"
     ]
    },
    {
     "name": "stdout",
     "output_type": "stream",
     "text": [
      "2025-08-20 20:09:29,058 - Epoch 1/2 — Train RMSE: 0.6528 — Validation RMSE: 0.6137\n"
     ]
    },
    {
     "name": "stderr",
     "output_type": "stream",
     "text": [
      "Epochs:  50%|█████     | 1/2 [00:19<00:19, 19.42s/it]"
     ]
    },
    {
     "name": "stdout",
     "output_type": "stream",
     "text": [
      "2025-08-20 20:09:48,989 - Epoch 2/2 — Train RMSE: 0.6109 — Validation RMSE: 0.5724\n"
     ]
    },
    {
     "name": "stderr",
     "output_type": "stream",
     "text": [
      "Epochs: 100%|██████████| 2/2 [00:39<00:00, 19.68s/it]\n"
     ]
    },
    {
     "name": "stdout",
     "output_type": "stream",
     "text": [
      "2025-08-20 20:09:52,494 - Trial 77 with params: {'idxAfterPrediction': 4, 'timesteps': 45, 'target_option': 'last', 'LoadupSamples_time_scaling_stretch': True, 'LoadupSamples_time_inc_factor': 56, 'LSTM_units': 16, 'LSTM_num_layers': 1, 'LSTM_dropout': 0.012547891433822497, 'LSTM_recurrent_dropout': 0.001, 'LSTM_learning_rate': 1.6738456126089594e-05, 'LSTM_optimizer': 'adam', 'LSTM_bidirectional': True, 'LSTM_batch_size': 4096, 'LSTM_epochs': 2, 'LSTM_l1': 0.001, 'LSTM_l2': 0.001, 'LSTM_inter_dropout': 0.001, 'LSTM_input_gaussian_noise': 0.001, 'LSTM_conv1d': True, 'LSTM_conv1d_kernel_size': 3, 'LSTM_loss': 'mse', 'year_start': 2021, 'is_single_feature': False}\n",
      "2025-08-20 20:09:52,494 -   q0: 0.9980\n",
      "2025-08-20 20:09:52,494 -   Duration0: 0:00:42.936953\n",
      "2025-08-20 20:09:52,494 -   Val RMSE0 adjusted: 0.0102\n",
      "2025-08-20 20:09:52,494 -   Mean all prediction: 1.0011\n",
      "2025-08-20 20:09:52,494 -   Mean above prediction: 0.9993\n",
      "2025-08-20 20:09:52,494 -   Mean below prediction: 1.0000\n",
      "2025-08-20 20:09:52,494 -   Quantile 0.99 for distance in mask above: 4206.139999999975\n",
      "2025-08-20 20:09:52,509 -   Quantile 0.99 for distance in mask below: 4698.55999999999\n",
      "2025-08-20 20:09:52,509 -   Ratio for quantile-distance-to-length above: 0.0064\n",
      "2025-08-20 20:09:52,509 -   Ratio for quantile-distance-to-length below: 0.0071\n",
      "2025-08-20 20:09:52,509 -   Score: 0.9998\n"
     ]
    },
    {
     "name": "stderr",
     "output_type": "stream",
     "text": [
      "[I 2025-08-20 20:09:52,541] Trial 77 finished with value: 0.9998246127403404 and parameters: {'year_start': 2021, 'idxAfterPrediction': 4, 'LoadupSamples_time_inc_factor': 56, 'timesteps': 45, 'LSTM_learning_rate': 1.6738456126089594e-05, 'LSTM_dropout': 0.012547891433822497, 'is_single_feature': False}. Best is trial 31 with value: 1.0049487769776475.\n"
     ]
    },
    {
     "name": "stdout",
     "output_type": "stream",
     "text": [
      "2025-08-20 20:09:52,541 - Trial 77 finished with value: 0.9998246127403404 and parameters: {'year_start': 2021, 'idxAfterPrediction': 4, 'LoadupSamples_time_inc_factor': 56, 'timesteps': 45, 'LSTM_learning_rate': 1.6738456126089594e-05, 'LSTM_dropout': 0.012547891433822497, 'is_single_feature': False}. Best is trial 31 with value: 1.0049487769776475.\n",
      "2025-08-20 20:10:02,846 - Non-finite/too-large values in train y time: 36 samples.\n",
      "2025-08-20 20:10:02,846 - Removing 36 samples from training data.\n"
     ]
    },
    {
     "name": "stderr",
     "output_type": "stream",
     "text": [
      "Epochs:   0%|          | 0/2 [00:00<?, ?it/s]"
     ]
    },
    {
     "name": "stdout",
     "output_type": "stream",
     "text": [
      "2025-08-20 20:10:37,774 - Epoch 1/2 — Train RMSE: 0.5569 — Validation RMSE: 0.4574\n"
     ]
    },
    {
     "name": "stderr",
     "output_type": "stream",
     "text": [
      "Epochs:  50%|█████     | 1/2 [00:29<00:29, 29.22s/it]"
     ]
    },
    {
     "name": "stdout",
     "output_type": "stream",
     "text": [
      "2025-08-20 20:11:06,825 - Epoch 2/2 — Train RMSE: 0.4300 — Validation RMSE: 0.3929\n"
     ]
    },
    {
     "name": "stderr",
     "output_type": "stream",
     "text": [
      "Epochs: 100%|██████████| 2/2 [00:58<00:00, 29.14s/it]\n"
     ]
    },
    {
     "name": "stdout",
     "output_type": "stream",
     "text": [
      "2025-08-20 20:11:10,206 - Trial 78 with params: {'idxAfterPrediction': 3, 'timesteps': 30, 'target_option': 'last', 'LoadupSamples_time_scaling_stretch': True, 'LoadupSamples_time_inc_factor': 61, 'LSTM_units': 16, 'LSTM_num_layers': 1, 'LSTM_dropout': 0.08791151960590063, 'LSTM_recurrent_dropout': 0.001, 'LSTM_learning_rate': 3.412642903761073e-05, 'LSTM_optimizer': 'adam', 'LSTM_bidirectional': True, 'LSTM_batch_size': 4096, 'LSTM_epochs': 2, 'LSTM_l1': 0.001, 'LSTM_l2': 0.001, 'LSTM_inter_dropout': 0.001, 'LSTM_input_gaussian_noise': 0.001, 'LSTM_conv1d': True, 'LSTM_conv1d_kernel_size': 3, 'LSTM_loss': 'mse', 'year_start': 2019, 'is_single_feature': False}\n",
      "2025-08-20 20:11:10,206 -   q0: 0.9980\n",
      "2025-08-20 20:11:10,206 -   Duration0: 0:01:01.721116\n",
      "2025-08-20 20:11:10,206 -   Val RMSE0 adjusted: 0.0064\n",
      "2025-08-20 20:11:10,206 -   Mean all prediction: 1.0007\n",
      "2025-08-20 20:11:10,206 -   Mean above prediction: 1.0071\n",
      "2025-08-20 20:11:10,206 -   Mean below prediction: 1.0038\n",
      "2025-08-20 20:11:10,206 -   Quantile 0.99 for distance in mask above: 4710.859999999995\n",
      "2025-08-20 20:11:10,206 -   Quantile 0.99 for distance in mask below: 4391.3999999999705\n",
      "2025-08-20 20:11:10,206 -   Ratio for quantile-distance-to-length above: 0.0072\n",
      "2025-08-20 20:11:10,206 -   Ratio for quantile-distance-to-length below: 0.0067\n",
      "2025-08-20 20:11:10,206 -   Score: 1.0024\n"
     ]
    },
    {
     "name": "stderr",
     "output_type": "stream",
     "text": [
      "[I 2025-08-20 20:11:10,254] Trial 78 finished with value: 1.0023714212842694 and parameters: {'year_start': 2019, 'idxAfterPrediction': 3, 'LoadupSamples_time_inc_factor': 61, 'timesteps': 30, 'LSTM_learning_rate': 3.412642903761073e-05, 'LSTM_dropout': 0.08791151960590063, 'is_single_feature': False}. Best is trial 31 with value: 1.0049487769776475.\n"
     ]
    },
    {
     "name": "stdout",
     "output_type": "stream",
     "text": [
      "2025-08-20 20:11:10,254 - Trial 78 finished with value: 1.0023714212842694 and parameters: {'year_start': 2019, 'idxAfterPrediction': 3, 'LoadupSamples_time_inc_factor': 61, 'timesteps': 30, 'LSTM_learning_rate': 3.412642903761073e-05, 'LSTM_dropout': 0.08791151960590063, 'is_single_feature': False}. Best is trial 31 with value: 1.0049487769776475.\n",
      "2025-08-20 20:11:19,249 - Non-finite/too-large values in train y time: 60 samples.\n",
      "2025-08-20 20:11:19,249 - Removing 60 samples from training data.\n"
     ]
    },
    {
     "name": "stderr",
     "output_type": "stream",
     "text": [
      "Epochs:   0%|          | 0/2 [00:00<?, ?it/s]"
     ]
    },
    {
     "name": "stdout",
     "output_type": "stream",
     "text": [
      "2025-08-20 20:11:50,311 - Epoch 1/2 — Train RMSE: 0.5665 — Validation RMSE: 0.4185\n"
     ]
    },
    {
     "name": "stderr",
     "output_type": "stream",
     "text": [
      "Epochs:  50%|█████     | 1/2 [00:24<00:24, 24.45s/it]"
     ]
    },
    {
     "name": "stdout",
     "output_type": "stream",
     "text": [
      "2025-08-20 20:12:14,328 - Epoch 2/2 — Train RMSE: 0.4300 — Validation RMSE: 0.4183\n"
     ]
    },
    {
     "name": "stderr",
     "output_type": "stream",
     "text": [
      "Epochs: 100%|██████████| 2/2 [00:48<00:00, 24.23s/it]\n"
     ]
    },
    {
     "name": "stdout",
     "output_type": "stream",
     "text": [
      "2025-08-20 20:12:17,967 - Trial 79 with params: {'idxAfterPrediction': 5, 'timesteps': 45, 'target_option': 'last', 'LoadupSamples_time_scaling_stretch': True, 'LoadupSamples_time_inc_factor': 66, 'LSTM_units': 16, 'LSTM_num_layers': 1, 'LSTM_dropout': 0.0388073494744383, 'LSTM_recurrent_dropout': 0.001, 'LSTM_learning_rate': 0.00015700767746331076, 'LSTM_optimizer': 'adam', 'LSTM_bidirectional': True, 'LSTM_batch_size': 4096, 'LSTM_epochs': 2, 'LSTM_l1': 0.001, 'LSTM_l2': 0.001, 'LSTM_inter_dropout': 0.001, 'LSTM_input_gaussian_noise': 0.001, 'LSTM_conv1d': True, 'LSTM_conv1d_kernel_size': 3, 'LSTM_loss': 'mse', 'year_start': 2020, 'is_single_feature': False}\n",
      "2025-08-20 20:12:17,967 -   q0: 0.9980\n",
      "2025-08-20 20:12:17,967 -   Duration0: 0:00:52.164893\n",
      "2025-08-20 20:12:17,967 -   Val RMSE0 adjusted: 0.0063\n",
      "2025-08-20 20:12:17,967 -   Mean all prediction: 1.0015\n",
      "2025-08-20 20:12:17,967 -   Mean above prediction: 1.0044\n",
      "2025-08-20 20:12:17,967 -   Mean below prediction: 0.9999\n",
      "2025-08-20 20:12:17,967 -   Quantile 0.99 for distance in mask above: 4788.479999999989\n",
      "2025-08-20 20:12:17,967 -   Quantile 0.99 for distance in mask below: 4468.479999999989\n",
      "2025-08-20 20:12:17,967 -   Ratio for quantile-distance-to-length above: 0.0073\n",
      "2025-08-20 20:12:17,984 -   Ratio for quantile-distance-to-length below: 0.0068\n",
      "2025-08-20 20:12:17,984 -   Score: 1.0009\n"
     ]
    },
    {
     "name": "stderr",
     "output_type": "stream",
     "text": [
      "[I 2025-08-20 20:12:18,022] Trial 79 finished with value: 1.000885651434579 and parameters: {'year_start': 2020, 'idxAfterPrediction': 5, 'LoadupSamples_time_inc_factor': 66, 'timesteps': 45, 'LSTM_learning_rate': 0.00015700767746331076, 'LSTM_dropout': 0.0388073494744383, 'is_single_feature': False}. Best is trial 31 with value: 1.0049487769776475.\n"
     ]
    },
    {
     "name": "stdout",
     "output_type": "stream",
     "text": [
      "2025-08-20 20:12:18,022 - Trial 79 finished with value: 1.000885651434579 and parameters: {'year_start': 2020, 'idxAfterPrediction': 5, 'LoadupSamples_time_inc_factor': 66, 'timesteps': 45, 'LSTM_learning_rate': 0.00015700767746331076, 'LSTM_dropout': 0.0388073494744383, 'is_single_feature': False}. Best is trial 31 with value: 1.0049487769776475.\n",
      "2025-08-20 20:12:28,610 - Non-finite/too-large values in train y time: 36 samples.\n",
      "2025-08-20 20:12:28,625 - Removing 36 samples from training data.\n"
     ]
    },
    {
     "name": "stderr",
     "output_type": "stream",
     "text": [
      "Epochs:   0%|          | 0/2 [00:00<?, ?it/s]"
     ]
    },
    {
     "name": "stdout",
     "output_type": "stream",
     "text": [
      "2025-08-20 20:13:10,473 - Epoch 1/2 — Train RMSE: 0.7203 — Validation RMSE: 0.6710\n"
     ]
    },
    {
     "name": "stderr",
     "output_type": "stream",
     "text": [
      "Epochs:  50%|█████     | 1/2 [00:29<00:29, 29.43s/it]"
     ]
    },
    {
     "name": "stdout",
     "output_type": "stream",
     "text": [
      "2025-08-20 20:13:39,841 - Epoch 2/2 — Train RMSE: 0.6684 — Validation RMSE: 0.6200\n"
     ]
    },
    {
     "name": "stderr",
     "output_type": "stream",
     "text": [
      "Epochs: 100%|██████████| 2/2 [00:58<00:00, 29.40s/it]\n"
     ]
    },
    {
     "name": "stdout",
     "output_type": "stream",
     "text": [
      "2025-08-20 20:13:43,476 - Trial 80 with params: {'idxAfterPrediction': 3, 'timesteps': 75, 'target_option': 'last', 'LoadupSamples_time_scaling_stretch': True, 'LoadupSamples_time_inc_factor': 71, 'LSTM_units': 16, 'LSTM_num_layers': 1, 'LSTM_dropout': 0.07642893849656, 'LSTM_recurrent_dropout': 0.001, 'LSTM_learning_rate': 1.0018144394323493e-05, 'LSTM_optimizer': 'adam', 'LSTM_bidirectional': True, 'LSTM_batch_size': 4096, 'LSTM_epochs': 2, 'LSTM_l1': 0.001, 'LSTM_l2': 0.001, 'LSTM_inter_dropout': 0.001, 'LSTM_input_gaussian_noise': 0.001, 'LSTM_conv1d': True, 'LSTM_conv1d_kernel_size': 3, 'LSTM_loss': 'mse', 'year_start': 2019, 'is_single_feature': False}\n",
      "2025-08-20 20:13:43,476 -   q0: 0.9980\n",
      "2025-08-20 20:13:43,476 -   Duration0: 0:01:02.593671\n",
      "2025-08-20 20:13:43,476 -   Val RMSE0 adjusted: 0.0087\n",
      "2025-08-20 20:13:43,476 -   Mean all prediction: 1.0007\n",
      "2025-08-20 20:13:43,476 -   Mean above prediction: 0.9943\n",
      "2025-08-20 20:13:43,476 -   Mean below prediction: 0.9993\n",
      "2025-08-20 20:13:43,476 -   Quantile 0.99 for distance in mask above: 3546.379999999992\n",
      "2025-08-20 20:13:43,476 -   Quantile 0.99 for distance in mask below: 2630.9499999999994\n",
      "2025-08-20 20:13:43,476 -   Ratio for quantile-distance-to-length above: 0.0054\n",
      "2025-08-20 20:13:43,476 -   Ratio for quantile-distance-to-length below: 0.0040\n",
      "2025-08-20 20:13:43,476 -   Score: 0.9981\n"
     ]
    },
    {
     "name": "stderr",
     "output_type": "stream",
     "text": [
      "[I 2025-08-20 20:13:43,554] Trial 80 finished with value: 0.998085888618792 and parameters: {'year_start': 2019, 'idxAfterPrediction': 3, 'LoadupSamples_time_inc_factor': 71, 'timesteps': 75, 'LSTM_learning_rate': 1.0018144394323493e-05, 'LSTM_dropout': 0.07642893849656, 'is_single_feature': False}. Best is trial 31 with value: 1.0049487769776475.\n"
     ]
    },
    {
     "name": "stdout",
     "output_type": "stream",
     "text": [
      "2025-08-20 20:13:43,554 - Trial 80 finished with value: 0.998085888618792 and parameters: {'year_start': 2019, 'idxAfterPrediction': 3, 'LoadupSamples_time_inc_factor': 71, 'timesteps': 75, 'LSTM_learning_rate': 1.0018144394323493e-05, 'LSTM_dropout': 0.07642893849656, 'is_single_feature': False}. Best is trial 31 with value: 1.0049487769776475.\n",
      "2025-08-20 20:13:53,807 - Non-finite/too-large values in train y time: 36 samples.\n",
      "2025-08-20 20:13:53,807 - Removing 36 samples from training data.\n"
     ]
    },
    {
     "name": "stderr",
     "output_type": "stream",
     "text": [
      "Epochs:   0%|          | 0/2 [00:00<?, ?it/s]"
     ]
    },
    {
     "name": "stdout",
     "output_type": "stream",
     "text": [
      "2025-08-20 20:14:28,227 - Epoch 1/2 — Train RMSE: 0.7309 — Validation RMSE: 0.6496\n"
     ]
    },
    {
     "name": "stderr",
     "output_type": "stream",
     "text": [
      "Epochs:  50%|█████     | 1/2 [00:28<00:28, 28.72s/it]"
     ]
    },
    {
     "name": "stdout",
     "output_type": "stream",
     "text": [
      "2025-08-20 20:14:57,082 - Epoch 2/2 — Train RMSE: 0.6028 — Validation RMSE: 0.5041\n"
     ]
    },
    {
     "name": "stderr",
     "output_type": "stream",
     "text": [
      "Epochs: 100%|██████████| 2/2 [00:57<00:00, 28.79s/it]\n"
     ]
    },
    {
     "name": "stdout",
     "output_type": "stream",
     "text": [
      "2025-08-20 20:15:00,462 - Trial 81 with params: {'idxAfterPrediction': 3, 'timesteps': 30, 'target_option': 'last', 'LoadupSamples_time_scaling_stretch': True, 'LoadupSamples_time_inc_factor': 66, 'LSTM_units': 16, 'LSTM_num_layers': 1, 'LSTM_dropout': 0.06899087813102102, 'LSTM_recurrent_dropout': 0.001, 'LSTM_learning_rate': 2.686798272811801e-05, 'LSTM_optimizer': 'adam', 'LSTM_bidirectional': True, 'LSTM_batch_size': 4096, 'LSTM_epochs': 2, 'LSTM_l1': 0.001, 'LSTM_l2': 0.001, 'LSTM_inter_dropout': 0.001, 'LSTM_input_gaussian_noise': 0.001, 'LSTM_conv1d': True, 'LSTM_conv1d_kernel_size': 3, 'LSTM_loss': 'mse', 'year_start': 2019, 'is_single_feature': False}\n",
      "2025-08-20 20:15:00,462 -   q0: 0.9980\n",
      "2025-08-20 20:15:00,462 -   Duration0: 0:01:01.028875\n",
      "2025-08-20 20:15:00,478 -   Val RMSE0 adjusted: 0.0076\n",
      "2025-08-20 20:15:00,478 -   Mean all prediction: 1.0007\n",
      "2025-08-20 20:15:00,478 -   Mean above prediction: 1.0136\n",
      "2025-08-20 20:15:00,478 -   Mean below prediction: 1.0018\n",
      "2025-08-20 20:15:00,478 -   Quantile 0.99 for distance in mask above: 6654.13999999991\n",
      "2025-08-20 20:15:00,478 -   Quantile 0.99 for distance in mask below: 4094.0199999999995\n",
      "2025-08-20 20:15:00,478 -   Ratio for quantile-distance-to-length above: 0.0101\n",
      "2025-08-20 20:15:00,478 -   Ratio for quantile-distance-to-length below: 0.0062\n",
      "2025-08-20 20:15:00,478 -   Score: 1.0045\n"
     ]
    },
    {
     "name": "stderr",
     "output_type": "stream",
     "text": [
      "[I 2025-08-20 20:15:00,531] Trial 81 finished with value: 1.0045040009352897 and parameters: {'year_start': 2019, 'idxAfterPrediction': 3, 'LoadupSamples_time_inc_factor': 66, 'timesteps': 30, 'LSTM_learning_rate': 2.686798272811801e-05, 'LSTM_dropout': 0.06899087813102102, 'is_single_feature': False}. Best is trial 31 with value: 1.0049487769776475.\n"
     ]
    },
    {
     "name": "stdout",
     "output_type": "stream",
     "text": [
      "2025-08-20 20:15:00,531 - Trial 81 finished with value: 1.0045040009352897 and parameters: {'year_start': 2019, 'idxAfterPrediction': 3, 'LoadupSamples_time_inc_factor': 66, 'timesteps': 30, 'LSTM_learning_rate': 2.686798272811801e-05, 'LSTM_dropout': 0.06899087813102102, 'is_single_feature': False}. Best is trial 31 with value: 1.0049487769776475.\n",
      "2025-08-20 20:15:10,806 - Non-finite/too-large values in train y time: 36 samples.\n",
      "2025-08-20 20:15:10,821 - Removing 36 samples from training data.\n"
     ]
    },
    {
     "name": "stderr",
     "output_type": "stream",
     "text": [
      "Epochs:   0%|          | 0/2 [00:00<?, ?it/s]"
     ]
    },
    {
     "name": "stdout",
     "output_type": "stream",
     "text": [
      "2025-08-20 20:15:45,625 - Epoch 1/2 — Train RMSE: 0.4806 — Validation RMSE: 0.4316\n"
     ]
    },
    {
     "name": "stderr",
     "output_type": "stream",
     "text": [
      "Epochs:  50%|█████     | 1/2 [00:29<00:29, 29.20s/it]"
     ]
    },
    {
     "name": "stdout",
     "output_type": "stream",
     "text": [
      "2025-08-20 20:16:14,635 - Epoch 2/2 — Train RMSE: 0.4243 — Validation RMSE: 0.3965\n"
     ]
    },
    {
     "name": "stderr",
     "output_type": "stream",
     "text": [
      "Epochs: 100%|██████████| 2/2 [00:58<00:00, 29.10s/it]\n"
     ]
    },
    {
     "name": "stdout",
     "output_type": "stream",
     "text": [
      "2025-08-20 20:16:17,950 - Trial 82 with params: {'idxAfterPrediction': 3, 'timesteps': 30, 'target_option': 'last', 'LoadupSamples_time_scaling_stretch': True, 'LoadupSamples_time_inc_factor': 61, 'LSTM_units': 16, 'LSTM_num_layers': 1, 'LSTM_dropout': 0.05578522814156825, 'LSTM_recurrent_dropout': 0.001, 'LSTM_learning_rate': 2.6538525283804415e-05, 'LSTM_optimizer': 'adam', 'LSTM_bidirectional': True, 'LSTM_batch_size': 4096, 'LSTM_epochs': 2, 'LSTM_l1': 0.001, 'LSTM_l2': 0.001, 'LSTM_inter_dropout': 0.001, 'LSTM_input_gaussian_noise': 0.001, 'LSTM_conv1d': True, 'LSTM_conv1d_kernel_size': 3, 'LSTM_loss': 'mse', 'year_start': 2019, 'is_single_feature': False}\n",
      "2025-08-20 20:16:17,950 -   q0: 0.9980\n",
      "2025-08-20 20:16:17,950 -   Duration0: 0:01:01.611519\n",
      "2025-08-20 20:16:17,966 -   Val RMSE0 adjusted: 0.0065\n",
      "2025-08-20 20:16:17,966 -   Mean all prediction: 1.0007\n",
      "2025-08-20 20:16:17,966 -   Mean above prediction: 1.0121\n",
      "2025-08-20 20:16:17,966 -   Mean below prediction: 1.0038\n",
      "2025-08-20 20:16:17,966 -   Quantile 0.99 for distance in mask above: 4673.0199999999995\n",
      "2025-08-20 20:16:17,966 -   Quantile 0.99 for distance in mask below: 4193.599999999994\n",
      "2025-08-20 20:16:17,966 -   Ratio for quantile-distance-to-length above: 0.0071\n",
      "2025-08-20 20:16:17,966 -   Ratio for quantile-distance-to-length below: 0.0064\n",
      "2025-08-20 20:16:17,966 -   Score: 1.0040\n"
     ]
    },
    {
     "name": "stderr",
     "output_type": "stream",
     "text": [
      "[I 2025-08-20 20:16:17,998] Trial 82 finished with value: 1.0040068893292655 and parameters: {'year_start': 2019, 'idxAfterPrediction': 3, 'LoadupSamples_time_inc_factor': 61, 'timesteps': 30, 'LSTM_learning_rate': 2.6538525283804415e-05, 'LSTM_dropout': 0.05578522814156825, 'is_single_feature': False}. Best is trial 31 with value: 1.0049487769776475.\n"
     ]
    },
    {
     "name": "stdout",
     "output_type": "stream",
     "text": [
      "2025-08-20 20:16:17,998 - Trial 82 finished with value: 1.0040068893292655 and parameters: {'year_start': 2019, 'idxAfterPrediction': 3, 'LoadupSamples_time_inc_factor': 61, 'timesteps': 30, 'LSTM_learning_rate': 2.6538525283804415e-05, 'LSTM_dropout': 0.05578522814156825, 'is_single_feature': False}. Best is trial 31 with value: 1.0049487769776475.\n",
      "2025-08-20 20:16:28,281 - Non-finite/too-large values in train y time: 36 samples.\n",
      "2025-08-20 20:16:28,281 - Removing 36 samples from training data.\n"
     ]
    },
    {
     "name": "stderr",
     "output_type": "stream",
     "text": [
      "Epochs:   0%|          | 0/2 [00:00<?, ?it/s]"
     ]
    },
    {
     "name": "stdout",
     "output_type": "stream",
     "text": [
      "2025-08-20 20:17:03,452 - Epoch 1/2 — Train RMSE: 0.6471 — Validation RMSE: 0.5547\n"
     ]
    },
    {
     "name": "stderr",
     "output_type": "stream",
     "text": [
      "Epochs:  50%|█████     | 1/2 [00:29<00:29, 29.44s/it]"
     ]
    },
    {
     "name": "stdout",
     "output_type": "stream",
     "text": [
      "2025-08-20 20:17:32,667 - Epoch 2/2 — Train RMSE: 0.5040 — Validation RMSE: 0.4255\n"
     ]
    },
    {
     "name": "stderr",
     "output_type": "stream",
     "text": [
      "Epochs: 100%|██████████| 2/2 [00:58<00:00, 29.33s/it]\n"
     ]
    },
    {
     "name": "stdout",
     "output_type": "stream",
     "text": [
      "2025-08-20 20:17:36,116 - Trial 83 with params: {'idxAfterPrediction': 3, 'timesteps': 30, 'target_option': 'last', 'LoadupSamples_time_scaling_stretch': True, 'LoadupSamples_time_inc_factor': 66, 'LSTM_units': 16, 'LSTM_num_layers': 1, 'LSTM_dropout': 0.050623941757225024, 'LSTM_recurrent_dropout': 0.001, 'LSTM_learning_rate': 2.9004303120552783e-05, 'LSTM_optimizer': 'adam', 'LSTM_bidirectional': True, 'LSTM_batch_size': 4096, 'LSTM_epochs': 2, 'LSTM_l1': 0.001, 'LSTM_l2': 0.001, 'LSTM_inter_dropout': 0.001, 'LSTM_input_gaussian_noise': 0.001, 'LSTM_conv1d': True, 'LSTM_conv1d_kernel_size': 3, 'LSTM_loss': 'mse', 'year_start': 2019, 'is_single_feature': False}\n",
      "2025-08-20 20:17:36,132 -   q0: 0.9980\n",
      "2025-08-20 20:17:36,132 -   Duration0: 0:01:02.188938\n",
      "2025-08-20 20:17:36,132 -   Val RMSE0 adjusted: 0.0064\n",
      "2025-08-20 20:17:36,132 -   Mean all prediction: 1.0007\n",
      "2025-08-20 20:17:36,132 -   Mean above prediction: 1.0115\n",
      "2025-08-20 20:17:36,132 -   Mean below prediction: 1.0036\n",
      "2025-08-20 20:17:36,132 -   Quantile 0.99 for distance in mask above: 4656.079999999993\n",
      "2025-08-20 20:17:36,132 -   Quantile 0.99 for distance in mask below: 4558.979999999996\n",
      "2025-08-20 20:17:36,132 -   Ratio for quantile-distance-to-length above: 0.0071\n",
      "2025-08-20 20:17:36,132 -   Ratio for quantile-distance-to-length below: 0.0069\n",
      "2025-08-20 20:17:36,132 -   Score: 1.0038\n"
     ]
    },
    {
     "name": "stderr",
     "output_type": "stream",
     "text": [
      "[I 2025-08-20 20:17:36,164] Trial 83 finished with value: 1.0038279385271787 and parameters: {'year_start': 2019, 'idxAfterPrediction': 3, 'LoadupSamples_time_inc_factor': 66, 'timesteps': 30, 'LSTM_learning_rate': 2.9004303120552783e-05, 'LSTM_dropout': 0.050623941757225024, 'is_single_feature': False}. Best is trial 31 with value: 1.0049487769776475.\n"
     ]
    },
    {
     "name": "stdout",
     "output_type": "stream",
     "text": [
      "2025-08-20 20:17:36,164 - Trial 83 finished with value: 1.0038279385271787 and parameters: {'year_start': 2019, 'idxAfterPrediction': 3, 'LoadupSamples_time_inc_factor': 66, 'timesteps': 30, 'LSTM_learning_rate': 2.9004303120552783e-05, 'LSTM_dropout': 0.050623941757225024, 'is_single_feature': False}. Best is trial 31 with value: 1.0049487769776475.\n",
      "2025-08-20 20:17:46,515 - Non-finite/too-large values in train y time: 36 samples.\n",
      "2025-08-20 20:17:46,515 - Removing 36 samples from training data.\n"
     ]
    },
    {
     "name": "stderr",
     "output_type": "stream",
     "text": [
      "Epochs:   0%|          | 0/2 [00:00<?, ?it/s]"
     ]
    },
    {
     "name": "stdout",
     "output_type": "stream",
     "text": [
      "2025-08-20 20:18:21,151 - Epoch 1/2 — Train RMSE: 0.4821 — Validation RMSE: 0.4257\n"
     ]
    },
    {
     "name": "stderr",
     "output_type": "stream",
     "text": [
      "Epochs:  50%|█████     | 1/2 [00:29<00:29, 29.01s/it]"
     ]
    },
    {
     "name": "stdout",
     "output_type": "stream",
     "text": [
      "2025-08-20 20:18:50,128 - Epoch 2/2 — Train RMSE: 0.4168 — Validation RMSE: 0.3882\n"
     ]
    },
    {
     "name": "stderr",
     "output_type": "stream",
     "text": [
      "Epochs: 100%|██████████| 2/2 [00:57<00:00, 28.99s/it]\n"
     ]
    },
    {
     "name": "stdout",
     "output_type": "stream",
     "text": [
      "2025-08-20 20:18:53,534 - Trial 84 with params: {'idxAfterPrediction': 3, 'timesteps': 30, 'target_option': 'last', 'LoadupSamples_time_scaling_stretch': True, 'LoadupSamples_time_inc_factor': 56, 'LSTM_units': 16, 'LSTM_num_layers': 1, 'LSTM_dropout': 0.008702217257449123, 'LSTM_recurrent_dropout': 0.001, 'LSTM_learning_rate': 2.40401062128846e-05, 'LSTM_optimizer': 'adam', 'LSTM_bidirectional': True, 'LSTM_batch_size': 4096, 'LSTM_epochs': 2, 'LSTM_l1': 0.001, 'LSTM_l2': 0.001, 'LSTM_inter_dropout': 0.001, 'LSTM_input_gaussian_noise': 0.001, 'LSTM_conv1d': True, 'LSTM_conv1d_kernel_size': 3, 'LSTM_loss': 'mse', 'year_start': 2019, 'is_single_feature': False}\n",
      "2025-08-20 20:18:53,534 -   q0: 0.9980\n",
      "2025-08-20 20:18:53,534 -   Duration0: 0:01:01.472906\n",
      "2025-08-20 20:18:53,534 -   Val RMSE0 adjusted: 0.0069\n",
      "2025-08-20 20:18:53,534 -   Mean all prediction: 1.0007\n",
      "2025-08-20 20:18:53,534 -   Mean above prediction: 0.9987\n",
      "2025-08-20 20:18:53,534 -   Mean below prediction: 0.9964\n",
      "2025-08-20 20:18:53,534 -   Quantile 0.99 for distance in mask above: 4784.059999999953\n",
      "2025-08-20 20:18:53,534 -   Quantile 0.99 for distance in mask below: 3810.059999999993\n",
      "2025-08-20 20:18:53,534 -   Ratio for quantile-distance-to-length above: 0.0073\n",
      "2025-08-20 20:18:53,534 -   Ratio for quantile-distance-to-length below: 0.0058\n",
      "2025-08-20 20:18:53,534 -   Score: 0.9996\n"
     ]
    },
    {
     "name": "stderr",
     "output_type": "stream",
     "text": [
      "[I 2025-08-20 20:18:53,566] Trial 84 finished with value: 0.9995676731716501 and parameters: {'year_start': 2019, 'idxAfterPrediction': 3, 'LoadupSamples_time_inc_factor': 56, 'timesteps': 30, 'LSTM_learning_rate': 2.40401062128846e-05, 'LSTM_dropout': 0.008702217257449123, 'is_single_feature': False}. Best is trial 31 with value: 1.0049487769776475.\n"
     ]
    },
    {
     "name": "stdout",
     "output_type": "stream",
     "text": [
      "2025-08-20 20:18:53,566 - Trial 84 finished with value: 0.9995676731716501 and parameters: {'year_start': 2019, 'idxAfterPrediction': 3, 'LoadupSamples_time_inc_factor': 56, 'timesteps': 30, 'LSTM_learning_rate': 2.40401062128846e-05, 'LSTM_dropout': 0.008702217257449123, 'is_single_feature': False}. Best is trial 31 with value: 1.0049487769776475.\n",
      "2025-08-20 20:19:03,939 - Non-finite/too-large values in train y time: 36 samples.\n",
      "2025-08-20 20:19:03,939 - Removing 36 samples from training data.\n"
     ]
    },
    {
     "name": "stderr",
     "output_type": "stream",
     "text": [
      "Epochs:   0%|          | 0/2 [00:00<?, ?it/s]"
     ]
    },
    {
     "name": "stdout",
     "output_type": "stream",
     "text": [
      "2025-08-20 20:19:39,402 - Epoch 1/2 — Train RMSE: 0.6108 — Validation RMSE: 0.5483\n"
     ]
    },
    {
     "name": "stderr",
     "output_type": "stream",
     "text": [
      "Epochs:  50%|█████     | 1/2 [00:28<00:28, 28.99s/it]"
     ]
    },
    {
     "name": "stdout",
     "output_type": "stream",
     "text": [
      "2025-08-20 20:20:08,388 - Epoch 2/2 — Train RMSE: 0.5305 — Validation RMSE: 0.4722\n"
     ]
    },
    {
     "name": "stderr",
     "output_type": "stream",
     "text": [
      "Epochs: 100%|██████████| 2/2 [00:57<00:00, 28.99s/it]\n"
     ]
    },
    {
     "name": "stdout",
     "output_type": "stream",
     "text": [
      "2025-08-20 20:20:11,737 - Trial 85 with params: {'idxAfterPrediction': 3, 'timesteps': 35, 'target_option': 'last', 'LoadupSamples_time_scaling_stretch': True, 'LoadupSamples_time_inc_factor': 61, 'LSTM_units': 16, 'LSTM_num_layers': 1, 'LSTM_dropout': 0.07338822206289737, 'LSTM_recurrent_dropout': 0.001, 'LSTM_learning_rate': 1.7636646537269606e-05, 'LSTM_optimizer': 'adam', 'LSTM_bidirectional': True, 'LSTM_batch_size': 4096, 'LSTM_epochs': 2, 'LSTM_l1': 0.001, 'LSTM_l2': 0.001, 'LSTM_inter_dropout': 0.001, 'LSTM_input_gaussian_noise': 0.001, 'LSTM_conv1d': True, 'LSTM_conv1d_kernel_size': 3, 'LSTM_loss': 'mse', 'year_start': 2019, 'is_single_feature': False}\n",
      "2025-08-20 20:20:11,737 -   q0: 0.9980\n",
      "2025-08-20 20:20:11,737 -   Duration0: 0:01:01.389585\n",
      "2025-08-20 20:20:11,737 -   Val RMSE0 adjusted: 0.0077\n",
      "2025-08-20 20:20:11,737 -   Mean all prediction: 1.0007\n",
      "2025-08-20 20:20:11,737 -   Mean above prediction: 1.0114\n",
      "2025-08-20 20:20:11,737 -   Mean below prediction: 1.0034\n",
      "2025-08-20 20:20:11,737 -   Quantile 0.99 for distance in mask above: 4280.559999999996\n",
      "2025-08-20 20:20:11,737 -   Quantile 0.99 for distance in mask below: 5644.039999999974\n",
      "2025-08-20 20:20:11,737 -   Ratio for quantile-distance-to-length above: 0.0065\n",
      "2025-08-20 20:20:11,737 -   Ratio for quantile-distance-to-length below: 0.0086\n",
      "2025-08-20 20:20:11,737 -   Score: 1.0038\n"
     ]
    },
    {
     "name": "stderr",
     "output_type": "stream",
     "text": [
      "[I 2025-08-20 20:20:11,784] Trial 85 finished with value: 1.0037932251593686 and parameters: {'year_start': 2019, 'idxAfterPrediction': 3, 'LoadupSamples_time_inc_factor': 61, 'timesteps': 35, 'LSTM_learning_rate': 1.7636646537269606e-05, 'LSTM_dropout': 0.07338822206289737, 'is_single_feature': False}. Best is trial 31 with value: 1.0049487769776475.\n"
     ]
    },
    {
     "name": "stdout",
     "output_type": "stream",
     "text": [
      "2025-08-20 20:20:11,784 - Trial 85 finished with value: 1.0037932251593686 and parameters: {'year_start': 2019, 'idxAfterPrediction': 3, 'LoadupSamples_time_inc_factor': 61, 'timesteps': 35, 'LSTM_learning_rate': 1.7636646537269606e-05, 'LSTM_dropout': 0.07338822206289737, 'is_single_feature': False}. Best is trial 31 with value: 1.0049487769776475.\n",
      "2025-08-20 20:20:22,112 - Non-finite/too-large values in train y time: 36 samples.\n",
      "2025-08-20 20:20:22,112 - Removing 36 samples from training data.\n"
     ]
    },
    {
     "name": "stderr",
     "output_type": "stream",
     "text": [
      "Epochs:   0%|          | 0/2 [00:00<?, ?it/s]"
     ]
    },
    {
     "name": "stdout",
     "output_type": "stream",
     "text": [
      "2025-08-20 20:20:57,905 - Epoch 1/2 — Train RMSE: 0.5366 — Validation RMSE: 0.4256\n"
     ]
    },
    {
     "name": "stderr",
     "output_type": "stream",
     "text": [
      "Epochs:  50%|█████     | 1/2 [00:29<00:29, 29.41s/it]"
     ]
    },
    {
     "name": "stdout",
     "output_type": "stream",
     "text": [
      "2025-08-20 20:21:26,896 - Epoch 2/2 — Train RMSE: 0.4190 — Validation RMSE: 0.4068\n"
     ]
    },
    {
     "name": "stderr",
     "output_type": "stream",
     "text": [
      "Epochs: 100%|██████████| 2/2 [00:58<00:00, 29.20s/it]\n"
     ]
    },
    {
     "name": "stdout",
     "output_type": "stream",
     "text": [
      "2025-08-20 20:21:30,199 - Trial 86 with params: {'idxAfterPrediction': 3, 'timesteps': 35, 'target_option': 'last', 'LoadupSamples_time_scaling_stretch': True, 'LoadupSamples_time_inc_factor': 76, 'LSTM_units': 16, 'LSTM_num_layers': 1, 'LSTM_dropout': 0.0571092634428205, 'LSTM_recurrent_dropout': 0.001, 'LSTM_learning_rate': 5.209477676964512e-05, 'LSTM_optimizer': 'adam', 'LSTM_bidirectional': True, 'LSTM_batch_size': 4096, 'LSTM_epochs': 2, 'LSTM_l1': 0.001, 'LSTM_l2': 0.001, 'LSTM_inter_dropout': 0.001, 'LSTM_input_gaussian_noise': 0.001, 'LSTM_conv1d': True, 'LSTM_conv1d_kernel_size': 3, 'LSTM_loss': 'mse', 'year_start': 2019, 'is_single_feature': False}\n",
      "2025-08-20 20:21:30,199 -   q0: 0.9980\n",
      "2025-08-20 20:21:30,199 -   Duration0: 0:01:01.823834\n",
      "2025-08-20 20:21:30,199 -   Val RMSE0 adjusted: 0.0054\n",
      "2025-08-20 20:21:30,215 -   Mean all prediction: 1.0007\n",
      "2025-08-20 20:21:30,215 -   Mean above prediction: 0.9946\n",
      "2025-08-20 20:21:30,215 -   Mean below prediction: 0.9990\n",
      "2025-08-20 20:21:30,215 -   Quantile 0.99 for distance in mask above: 3822.9599999999964\n",
      "2025-08-20 20:21:30,215 -   Quantile 0.99 for distance in mask below: 4301.719999999995\n",
      "2025-08-20 20:21:30,215 -   Ratio for quantile-distance-to-length above: 0.0058\n",
      "2025-08-20 20:21:30,215 -   Ratio for quantile-distance-to-length below: 0.0065\n",
      "2025-08-20 20:21:30,215 -   Score: 0.9982\n"
     ]
    },
    {
     "name": "stderr",
     "output_type": "stream",
     "text": [
      "[I 2025-08-20 20:21:30,262] Trial 86 finished with value: 0.9982014224041901 and parameters: {'year_start': 2019, 'idxAfterPrediction': 3, 'LoadupSamples_time_inc_factor': 76, 'timesteps': 35, 'LSTM_learning_rate': 5.209477676964512e-05, 'LSTM_dropout': 0.0571092634428205, 'is_single_feature': False}. Best is trial 31 with value: 1.0049487769776475.\n"
     ]
    },
    {
     "name": "stdout",
     "output_type": "stream",
     "text": [
      "2025-08-20 20:21:30,262 - Trial 86 finished with value: 0.9982014224041901 and parameters: {'year_start': 2019, 'idxAfterPrediction': 3, 'LoadupSamples_time_inc_factor': 76, 'timesteps': 35, 'LSTM_learning_rate': 5.209477676964512e-05, 'LSTM_dropout': 0.0571092634428205, 'is_single_feature': False}. Best is trial 31 with value: 1.0049487769776475.\n",
      "2025-08-20 20:21:40,594 - Non-finite/too-large values in train y time: 36 samples.\n",
      "2025-08-20 20:21:40,594 - Removing 36 samples from training data.\n"
     ]
    },
    {
     "name": "stderr",
     "output_type": "stream",
     "text": [
      "Epochs:   0%|          | 0/2 [00:00<?, ?it/s]"
     ]
    },
    {
     "name": "stdout",
     "output_type": "stream",
     "text": [
      "2025-08-20 20:22:15,177 - Epoch 1/2 — Train RMSE: 0.5263 — Validation RMSE: 0.4202\n"
     ]
    },
    {
     "name": "stderr",
     "output_type": "stream",
     "text": [
      "Epochs:  50%|█████     | 1/2 [00:28<00:28, 28.89s/it]"
     ]
    },
    {
     "name": "stdout",
     "output_type": "stream",
     "text": [
      "2025-08-20 20:22:43,534 - Epoch 2/2 — Train RMSE: 0.4117 — Validation RMSE: 0.3961\n"
     ]
    },
    {
     "name": "stderr",
     "output_type": "stream",
     "text": [
      "Epochs: 100%|██████████| 2/2 [00:57<00:00, 28.62s/it]\n"
     ]
    },
    {
     "name": "stdout",
     "output_type": "stream",
     "text": [
      "2025-08-20 20:22:46,985 - Trial 87 with params: {'idxAfterPrediction': 3, 'timesteps': 30, 'target_option': 'last', 'LoadupSamples_time_scaling_stretch': True, 'LoadupSamples_time_inc_factor': 66, 'LSTM_units': 16, 'LSTM_num_layers': 1, 'LSTM_dropout': 0.04424209445928139, 'LSTM_recurrent_dropout': 0.001, 'LSTM_learning_rate': 4.327015296468174e-05, 'LSTM_optimizer': 'adam', 'LSTM_bidirectional': True, 'LSTM_batch_size': 4096, 'LSTM_epochs': 2, 'LSTM_l1': 0.001, 'LSTM_l2': 0.001, 'LSTM_inter_dropout': 0.001, 'LSTM_input_gaussian_noise': 0.001, 'LSTM_conv1d': True, 'LSTM_conv1d_kernel_size': 3, 'LSTM_loss': 'mse', 'year_start': 2019, 'is_single_feature': True}\n",
      "2025-08-20 20:22:46,985 -   q0: 0.9980\n",
      "2025-08-20 20:22:46,985 -   Duration0: 0:01:00.747501\n",
      "2025-08-20 20:22:46,985 -   Val RMSE0 adjusted: 0.0060\n",
      "2025-08-20 20:22:47,001 -   Mean all prediction: 1.0007\n",
      "2025-08-20 20:22:47,001 -   Mean above prediction: 0.9971\n",
      "2025-08-20 20:22:47,001 -   Mean below prediction: 1.0000\n",
      "2025-08-20 20:22:47,001 -   Quantile 0.99 for distance in mask above: 5200.649999999965\n",
      "2025-08-20 20:22:47,001 -   Quantile 0.99 for distance in mask below: 3581.999999999995\n",
      "2025-08-20 20:22:47,001 -   Ratio for quantile-distance-to-length above: 0.0079\n",
      "2025-08-20 20:22:47,001 -   Ratio for quantile-distance-to-length below: 0.0054\n",
      "2025-08-20 20:22:47,001 -   Score: 0.9990\n"
     ]
    },
    {
     "name": "stderr",
     "output_type": "stream",
     "text": [
      "[I 2025-08-20 20:22:47,048] Trial 87 finished with value: 0.9990360866827983 and parameters: {'year_start': 2019, 'idxAfterPrediction': 3, 'LoadupSamples_time_inc_factor': 66, 'timesteps': 30, 'LSTM_learning_rate': 4.327015296468174e-05, 'LSTM_dropout': 0.04424209445928139, 'is_single_feature': True}. Best is trial 31 with value: 1.0049487769776475.\n"
     ]
    },
    {
     "name": "stdout",
     "output_type": "stream",
     "text": [
      "2025-08-20 20:22:47,048 - Trial 87 finished with value: 0.9990360866827983 and parameters: {'year_start': 2019, 'idxAfterPrediction': 3, 'LoadupSamples_time_inc_factor': 66, 'timesteps': 30, 'LSTM_learning_rate': 4.327015296468174e-05, 'LSTM_dropout': 0.04424209445928139, 'is_single_feature': True}. Best is trial 31 with value: 1.0049487769776475.\n",
      "2025-08-20 20:22:57,375 - Non-finite/too-large values in train y time: 36 samples.\n",
      "2025-08-20 20:22:57,391 - Removing 36 samples from training data.\n"
     ]
    },
    {
     "name": "stderr",
     "output_type": "stream",
     "text": [
      "Epochs:   0%|          | 0/2 [00:00<?, ?it/s]"
     ]
    },
    {
     "name": "stdout",
     "output_type": "stream",
     "text": [
      "2025-08-20 20:23:32,011 - Epoch 1/2 — Train RMSE: 0.4223 — Validation RMSE: 0.4007\n"
     ]
    },
    {
     "name": "stderr",
     "output_type": "stream",
     "text": [
      "Epochs:  50%|█████     | 1/2 [00:29<00:29, 29.00s/it]"
     ]
    },
    {
     "name": "stdout",
     "output_type": "stream",
     "text": [
      "2025-08-20 20:24:01,147 - Epoch 2/2 — Train RMSE: 0.4092 — Validation RMSE: 0.4005\n"
     ]
    },
    {
     "name": "stderr",
     "output_type": "stream",
     "text": [
      "Epochs: 100%|██████████| 2/2 [00:58<00:00, 29.07s/it]\n"
     ]
    },
    {
     "name": "stdout",
     "output_type": "stream",
     "text": [
      "2025-08-20 20:24:04,604 - Trial 88 with params: {'idxAfterPrediction': 3, 'timesteps': 30, 'target_option': 'last', 'LoadupSamples_time_scaling_stretch': True, 'LoadupSamples_time_inc_factor': 71, 'LSTM_units': 16, 'LSTM_num_layers': 1, 'LSTM_dropout': 0.09307852884269081, 'LSTM_recurrent_dropout': 0.001, 'LSTM_learning_rate': 0.0008642182075397464, 'LSTM_optimizer': 'adam', 'LSTM_bidirectional': True, 'LSTM_batch_size': 4096, 'LSTM_epochs': 2, 'LSTM_l1': 0.001, 'LSTM_l2': 0.001, 'LSTM_inter_dropout': 0.001, 'LSTM_input_gaussian_noise': 0.001, 'LSTM_conv1d': True, 'LSTM_conv1d_kernel_size': 3, 'LSTM_loss': 'mse', 'year_start': 2019, 'is_single_feature': False}\n",
      "2025-08-20 20:24:04,604 -   q0: 0.9980\n",
      "2025-08-20 20:24:04,604 -   Duration0: 0:01:01.681422\n",
      "2025-08-20 20:24:04,604 -   Val RMSE0 adjusted: 0.0056\n",
      "2025-08-20 20:24:04,604 -   Mean all prediction: 1.0007\n",
      "2025-08-20 20:24:04,604 -   Mean above prediction: 1.0030\n",
      "2025-08-20 20:24:04,604 -   Mean below prediction: 1.0063\n",
      "2025-08-20 20:24:04,604 -   Quantile 0.99 for distance in mask above: 4662.049999999997\n",
      "2025-08-20 20:24:04,604 -   Quantile 0.99 for distance in mask below: 4757.159999999996\n",
      "2025-08-20 20:24:04,604 -   Ratio for quantile-distance-to-length above: 0.0071\n",
      "2025-08-20 20:24:04,620 -   Ratio for quantile-distance-to-length below: 0.0072\n",
      "2025-08-20 20:24:04,620 -   Score: 1.0010\n"
     ]
    },
    {
     "name": "stderr",
     "output_type": "stream",
     "text": [
      "[I 2025-08-20 20:24:04,651] Trial 88 finished with value: 1.0009963867062408 and parameters: {'year_start': 2019, 'idxAfterPrediction': 3, 'LoadupSamples_time_inc_factor': 71, 'timesteps': 30, 'LSTM_learning_rate': 0.0008642182075397464, 'LSTM_dropout': 0.09307852884269081, 'is_single_feature': False}. Best is trial 31 with value: 1.0049487769776475.\n"
     ]
    },
    {
     "name": "stdout",
     "output_type": "stream",
     "text": [
      "2025-08-20 20:24:04,651 - Trial 88 finished with value: 1.0009963867062408 and parameters: {'year_start': 2019, 'idxAfterPrediction': 3, 'LoadupSamples_time_inc_factor': 71, 'timesteps': 30, 'LSTM_learning_rate': 0.0008642182075397464, 'LSTM_dropout': 0.09307852884269081, 'is_single_feature': False}. Best is trial 31 with value: 1.0049487769776475.\n",
      "2025-08-20 20:24:15,001 - Non-finite/too-large values in train y time: 36 samples.\n",
      "2025-08-20 20:24:15,001 - Removing 36 samples from training data.\n"
     ]
    },
    {
     "name": "stderr",
     "output_type": "stream",
     "text": [
      "Epochs:   0%|          | 0/2 [00:00<?, ?it/s]"
     ]
    },
    {
     "name": "stdout",
     "output_type": "stream",
     "text": [
      "2025-08-20 20:24:50,670 - Epoch 1/2 — Train RMSE: 0.4086 — Validation RMSE: 0.4020\n"
     ]
    },
    {
     "name": "stderr",
     "output_type": "stream",
     "text": [
      "Epochs:  50%|█████     | 1/2 [00:29<00:29, 29.21s/it]"
     ]
    },
    {
     "name": "stdout",
     "output_type": "stream",
     "text": [
      "2025-08-20 20:25:19,601 - Epoch 2/2 — Train RMSE: 0.3979 — Validation RMSE: 0.3880\n"
     ]
    },
    {
     "name": "stderr",
     "output_type": "stream",
     "text": [
      "Epochs: 100%|██████████| 2/2 [00:58<00:00, 29.07s/it]\n"
     ]
    },
    {
     "name": "stdout",
     "output_type": "stream",
     "text": [
      "2025-08-20 20:25:22,944 - Trial 89 with params: {'idxAfterPrediction': 3, 'timesteps': 35, 'target_option': 'last', 'LoadupSamples_time_scaling_stretch': True, 'LoadupSamples_time_inc_factor': 61, 'LSTM_units': 16, 'LSTM_num_layers': 1, 'LSTM_dropout': 0.07822836471387876, 'LSTM_recurrent_dropout': 0.001, 'LSTM_learning_rate': 0.008358723966220487, 'LSTM_optimizer': 'adam', 'LSTM_bidirectional': True, 'LSTM_batch_size': 4096, 'LSTM_epochs': 2, 'LSTM_l1': 0.001, 'LSTM_l2': 0.001, 'LSTM_inter_dropout': 0.001, 'LSTM_input_gaussian_noise': 0.001, 'LSTM_conv1d': True, 'LSTM_conv1d_kernel_size': 3, 'LSTM_loss': 'mse', 'year_start': 2019, 'is_single_feature': False}\n",
      "2025-08-20 20:25:22,944 -   q0: 0.9980\n",
      "2025-08-20 20:25:22,944 -   Duration0: 0:01:01.592883\n",
      "2025-08-20 20:25:22,944 -   Val RMSE0 adjusted: 0.0064\n",
      "2025-08-20 20:25:22,952 -   Mean all prediction: 1.0007\n",
      "2025-08-20 20:25:22,952 -   Mean above prediction: 0.9987\n",
      "2025-08-20 20:25:22,952 -   Mean below prediction: 0.9989\n",
      "2025-08-20 20:25:22,952 -   Quantile 0.99 for distance in mask above: 2540.500000000002\n",
      "2025-08-20 20:25:22,952 -   Quantile 0.99 for distance in mask below: 2213.199999999996\n",
      "2025-08-20 20:25:22,952 -   Ratio for quantile-distance-to-length above: 0.0039\n",
      "2025-08-20 20:25:22,952 -   Ratio for quantile-distance-to-length below: 0.0034\n",
      "2025-08-20 20:25:22,952 -   Score: 0.9996\n"
     ]
    },
    {
     "name": "stderr",
     "output_type": "stream",
     "text": [
      "[I 2025-08-20 20:25:23,000] Trial 89 finished with value: 0.9995529682425423 and parameters: {'year_start': 2019, 'idxAfterPrediction': 3, 'LoadupSamples_time_inc_factor': 61, 'timesteps': 35, 'LSTM_learning_rate': 0.008358723966220487, 'LSTM_dropout': 0.07822836471387876, 'is_single_feature': False}. Best is trial 31 with value: 1.0049487769776475.\n"
     ]
    },
    {
     "name": "stdout",
     "output_type": "stream",
     "text": [
      "2025-08-20 20:25:23,000 - Trial 89 finished with value: 0.9995529682425423 and parameters: {'year_start': 2019, 'idxAfterPrediction': 3, 'LoadupSamples_time_inc_factor': 61, 'timesteps': 35, 'LSTM_learning_rate': 0.008358723966220487, 'LSTM_dropout': 0.07822836471387876, 'is_single_feature': False}. Best is trial 31 with value: 1.0049487769776475.\n",
      "2025-08-20 20:25:33,327 - Non-finite/too-large values in train y time: 36 samples.\n",
      "2025-08-20 20:25:33,341 - Removing 36 samples from training data.\n"
     ]
    },
    {
     "name": "stderr",
     "output_type": "stream",
     "text": [
      "Epochs:   0%|          | 0/2 [00:00<?, ?it/s]"
     ]
    },
    {
     "name": "stdout",
     "output_type": "stream",
     "text": [
      "2025-08-20 20:26:07,744 - Epoch 1/2 — Train RMSE: 0.5794 — Validation RMSE: 0.5072\n"
     ]
    },
    {
     "name": "stderr",
     "output_type": "stream",
     "text": [
      "Epochs:  50%|█████     | 1/2 [00:28<00:28, 28.80s/it]"
     ]
    },
    {
     "name": "stdout",
     "output_type": "stream",
     "text": [
      "2025-08-20 20:26:36,928 - Epoch 2/2 — Train RMSE: 0.4801 — Validation RMSE: 0.4203\n"
     ]
    },
    {
     "name": "stderr",
     "output_type": "stream",
     "text": [
      "Epochs: 100%|██████████| 2/2 [00:57<00:00, 28.99s/it]\n"
     ]
    },
    {
     "name": "stdout",
     "output_type": "stream",
     "text": [
      "2025-08-20 20:26:40,400 - Trial 90 with params: {'idxAfterPrediction': 3, 'timesteps': 30, 'target_option': 'last', 'LoadupSamples_time_scaling_stretch': True, 'LoadupSamples_time_inc_factor': 56, 'LSTM_units': 16, 'LSTM_num_layers': 1, 'LSTM_dropout': 0.020246824709772814, 'LSTM_recurrent_dropout': 0.001, 'LSTM_learning_rate': 1.991043253008104e-05, 'LSTM_optimizer': 'adam', 'LSTM_bidirectional': True, 'LSTM_batch_size': 4096, 'LSTM_epochs': 2, 'LSTM_l1': 0.001, 'LSTM_l2': 0.001, 'LSTM_inter_dropout': 0.001, 'LSTM_input_gaussian_noise': 0.001, 'LSTM_conv1d': True, 'LSTM_conv1d_kernel_size': 3, 'LSTM_loss': 'mse', 'year_start': 2019, 'is_single_feature': False}\n",
      "2025-08-20 20:26:40,400 -   q0: 0.9980\n",
      "2025-08-20 20:26:40,400 -   Duration0: 0:01:01.541097\n",
      "2025-08-20 20:26:40,400 -   Val RMSE0 adjusted: 0.0075\n",
      "2025-08-20 20:26:40,416 -   Mean all prediction: 1.0007\n",
      "2025-08-20 20:26:40,416 -   Mean above prediction: 1.0037\n",
      "2025-08-20 20:26:40,416 -   Mean below prediction: 1.0008\n",
      "2025-08-20 20:26:40,416 -   Quantile 0.99 for distance in mask above: 4597.039999999959\n",
      "2025-08-20 20:26:40,416 -   Quantile 0.99 for distance in mask below: 3811.71999999998\n",
      "2025-08-20 20:26:40,416 -   Ratio for quantile-distance-to-length above: 0.0070\n",
      "2025-08-20 20:26:40,416 -   Ratio for quantile-distance-to-length below: 0.0058\n",
      "2025-08-20 20:26:40,416 -   Score: 1.0012\n"
     ]
    },
    {
     "name": "stderr",
     "output_type": "stream",
     "text": [
      "[I 2025-08-20 20:26:40,453] Trial 90 finished with value: 1.0012375712487516 and parameters: {'year_start': 2019, 'idxAfterPrediction': 3, 'LoadupSamples_time_inc_factor': 56, 'timesteps': 30, 'LSTM_learning_rate': 1.991043253008104e-05, 'LSTM_dropout': 0.020246824709772814, 'is_single_feature': False}. Best is trial 31 with value: 1.0049487769776475.\n"
     ]
    },
    {
     "name": "stdout",
     "output_type": "stream",
     "text": [
      "2025-08-20 20:26:40,453 - Trial 90 finished with value: 1.0012375712487516 and parameters: {'year_start': 2019, 'idxAfterPrediction': 3, 'LoadupSamples_time_inc_factor': 56, 'timesteps': 30, 'LSTM_learning_rate': 1.991043253008104e-05, 'LSTM_dropout': 0.020246824709772814, 'is_single_feature': False}. Best is trial 31 with value: 1.0049487769776475.\n",
      "2025-08-20 20:26:46,168 - Non-finite/too-large values in train y time: 48 samples.\n",
      "2025-08-20 20:26:46,168 - Removing 48 samples from training data.\n"
     ]
    },
    {
     "name": "stderr",
     "output_type": "stream",
     "text": [
      "Epochs:   0%|          | 0/2 [00:00<?, ?it/s]"
     ]
    },
    {
     "name": "stdout",
     "output_type": "stream",
     "text": [
      "2025-08-20 20:27:04,681 - Epoch 1/2 — Train RMSE: 0.6010 — Validation RMSE: 0.4984\n"
     ]
    },
    {
     "name": "stderr",
     "output_type": "stream",
     "text": [
      "Epochs:  50%|█████     | 1/2 [00:14<00:14, 14.66s/it]"
     ]
    },
    {
     "name": "stdout",
     "output_type": "stream",
     "text": [
      "2025-08-20 20:27:19,786 - Epoch 2/2 — Train RMSE: 0.4527 — Validation RMSE: 0.4081\n"
     ]
    },
    {
     "name": "stderr",
     "output_type": "stream",
     "text": [
      "Epochs: 100%|██████████| 2/2 [00:29<00:00, 14.88s/it]\n"
     ]
    },
    {
     "name": "stdout",
     "output_type": "stream",
     "text": [
      "2025-08-20 20:27:22,926 - Trial 91 with params: {'idxAfterPrediction': 4, 'timesteps': 40, 'target_option': 'last', 'LoadupSamples_time_scaling_stretch': True, 'LoadupSamples_time_inc_factor': 61, 'LSTM_units': 16, 'LSTM_num_layers': 1, 'LSTM_dropout': 0.06325407180649374, 'LSTM_recurrent_dropout': 0.001, 'LSTM_learning_rate': 0.00010568579774931734, 'LSTM_optimizer': 'adam', 'LSTM_bidirectional': True, 'LSTM_batch_size': 4096, 'LSTM_epochs': 2, 'LSTM_l1': 0.001, 'LSTM_l2': 0.001, 'LSTM_inter_dropout': 0.001, 'LSTM_input_gaussian_noise': 0.001, 'LSTM_conv1d': True, 'LSTM_conv1d_kernel_size': 3, 'LSTM_loss': 'mse', 'year_start': 2022, 'is_single_feature': False}\n",
      "2025-08-20 20:27:22,926 -   q0: 0.9980\n",
      "2025-08-20 20:27:22,942 -   Duration0: 0:00:32.958126\n",
      "2025-08-20 20:27:22,942 -   Val RMSE0 adjusted: 0.0067\n",
      "2025-08-20 20:27:22,942 -   Mean all prediction: 1.0011\n",
      "2025-08-20 20:27:22,942 -   Mean above prediction: 1.0083\n",
      "2025-08-20 20:27:22,942 -   Mean below prediction: 1.0039\n",
      "2025-08-20 20:27:22,942 -   Quantile 0.99 for distance in mask above: 4647.9999999999945\n",
      "2025-08-20 20:27:22,942 -   Quantile 0.99 for distance in mask below: 4454.159999999969\n",
      "2025-08-20 20:27:22,942 -   Ratio for quantile-distance-to-length above: 0.0071\n",
      "2025-08-20 20:27:22,942 -   Ratio for quantile-distance-to-length below: 0.0068\n",
      "2025-08-20 20:27:22,942 -   Score: 1.0021\n"
     ]
    },
    {
     "name": "stderr",
     "output_type": "stream",
     "text": [
      "[I 2025-08-20 20:27:22,973] Trial 91 finished with value: 1.0020775322418014 and parameters: {'year_start': 2022, 'idxAfterPrediction': 4, 'LoadupSamples_time_inc_factor': 61, 'timesteps': 40, 'LSTM_learning_rate': 0.00010568579774931734, 'LSTM_dropout': 0.06325407180649374, 'is_single_feature': False}. Best is trial 31 with value: 1.0049487769776475.\n"
     ]
    },
    {
     "name": "stdout",
     "output_type": "stream",
     "text": [
      "2025-08-20 20:27:22,973 - Trial 91 finished with value: 1.0020775322418014 and parameters: {'year_start': 2022, 'idxAfterPrediction': 4, 'LoadupSamples_time_inc_factor': 61, 'timesteps': 40, 'LSTM_learning_rate': 0.00010568579774931734, 'LSTM_dropout': 0.06325407180649374, 'is_single_feature': False}. Best is trial 31 with value: 1.0049487769776475.\n",
      "2025-08-20 20:27:31,813 - Non-finite/too-large values in train y time: 48 samples.\n",
      "2025-08-20 20:27:31,813 - Removing 48 samples from training data.\n"
     ]
    },
    {
     "name": "stderr",
     "output_type": "stream",
     "text": [
      "Epochs:   0%|          | 0/2 [00:00<?, ?it/s]"
     ]
    },
    {
     "name": "stdout",
     "output_type": "stream",
     "text": [
      "2025-08-20 20:28:01,759 - Epoch 1/2 — Train RMSE: 0.5458 — Validation RMSE: 0.4133\n"
     ]
    },
    {
     "name": "stderr",
     "output_type": "stream",
     "text": [
      "Epochs:  50%|█████     | 1/2 [00:24<00:24, 24.55s/it]"
     ]
    },
    {
     "name": "stdout",
     "output_type": "stream",
     "text": [
      "2025-08-20 20:28:26,128 - Epoch 2/2 — Train RMSE: 0.4169 — Validation RMSE: 0.4022\n"
     ]
    },
    {
     "name": "stderr",
     "output_type": "stream",
     "text": [
      "Epochs: 100%|██████████| 2/2 [00:48<00:00, 24.46s/it]\n"
     ]
    },
    {
     "name": "stdout",
     "output_type": "stream",
     "text": [
      "2025-08-20 20:28:29,034 - Trial 92 with params: {'idxAfterPrediction': 4, 'timesteps': 35, 'target_option': 'last', 'LoadupSamples_time_scaling_stretch': True, 'LoadupSamples_time_inc_factor': 61, 'LSTM_units': 16, 'LSTM_num_layers': 1, 'LSTM_dropout': 0.06892759370841126, 'LSTM_recurrent_dropout': 0.001, 'LSTM_learning_rate': 8.008699008515757e-05, 'LSTM_optimizer': 'adam', 'LSTM_bidirectional': True, 'LSTM_batch_size': 4096, 'LSTM_epochs': 2, 'LSTM_l1': 0.001, 'LSTM_l2': 0.001, 'LSTM_inter_dropout': 0.001, 'LSTM_input_gaussian_noise': 0.001, 'LSTM_conv1d': True, 'LSTM_conv1d_kernel_size': 3, 'LSTM_loss': 'mse', 'year_start': 2020, 'is_single_feature': False}\n",
      "2025-08-20 20:28:29,050 -   q0: 0.9980\n",
      "2025-08-20 20:28:29,050 -   Duration0: 0:00:51.897332\n",
      "2025-08-20 20:28:29,050 -   Val RMSE0 adjusted: 0.0066\n",
      "2025-08-20 20:28:29,050 -   Mean all prediction: 1.0011\n",
      "2025-08-20 20:28:29,050 -   Mean above prediction: 1.0072\n",
      "2025-08-20 20:28:29,050 -   Mean below prediction: 1.0027\n",
      "2025-08-20 20:28:29,050 -   Quantile 0.99 for distance in mask above: 5847.099999999977\n",
      "2025-08-20 20:28:29,050 -   Quantile 0.99 for distance in mask below: 4128.9999999999945\n",
      "2025-08-20 20:28:29,050 -   Ratio for quantile-distance-to-length above: 0.0089\n",
      "2025-08-20 20:28:29,050 -   Ratio for quantile-distance-to-length below: 0.0063\n",
      "2025-08-20 20:28:29,050 -   Score: 1.0018\n"
     ]
    },
    {
     "name": "stderr",
     "output_type": "stream",
     "text": [
      "[I 2025-08-20 20:28:29,089] Trial 92 finished with value: 1.0017920099863469 and parameters: {'year_start': 2020, 'idxAfterPrediction': 4, 'LoadupSamples_time_inc_factor': 61, 'timesteps': 35, 'LSTM_learning_rate': 8.008699008515757e-05, 'LSTM_dropout': 0.06892759370841126, 'is_single_feature': False}. Best is trial 31 with value: 1.0049487769776475.\n"
     ]
    },
    {
     "name": "stdout",
     "output_type": "stream",
     "text": [
      "2025-08-20 20:28:29,089 - Trial 92 finished with value: 1.0017920099863469 and parameters: {'year_start': 2020, 'idxAfterPrediction': 4, 'LoadupSamples_time_inc_factor': 61, 'timesteps': 35, 'LSTM_learning_rate': 8.008699008515757e-05, 'LSTM_dropout': 0.06892759370841126, 'is_single_feature': False}. Best is trial 31 with value: 1.0049487769776475.\n",
      "2025-08-20 20:28:39,368 - Non-finite/too-large values in train y time: 36 samples.\n",
      "2025-08-20 20:28:39,384 - Removing 36 samples from training data.\n"
     ]
    },
    {
     "name": "stderr",
     "output_type": "stream",
     "text": [
      "Epochs:   0%|          | 0/2 [00:00<?, ?it/s]"
     ]
    },
    {
     "name": "stdout",
     "output_type": "stream",
     "text": [
      "2025-08-20 20:29:13,803 - Epoch 1/2 — Train RMSE: 0.5174 — Validation RMSE: 0.3958\n"
     ]
    },
    {
     "name": "stderr",
     "output_type": "stream",
     "text": [
      "Epochs:  50%|█████     | 1/2 [00:28<00:28, 28.76s/it]"
     ]
    },
    {
     "name": "stdout",
     "output_type": "stream",
     "text": [
      "2025-08-20 20:29:43,009 - Epoch 2/2 — Train RMSE: 0.4042 — Validation RMSE: 0.3949\n"
     ]
    },
    {
     "name": "stderr",
     "output_type": "stream",
     "text": [
      "Epochs: 100%|██████████| 2/2 [00:57<00:00, 28.99s/it]\n"
     ]
    },
    {
     "name": "stdout",
     "output_type": "stream",
     "text": [
      "2025-08-20 20:29:46,404 - Trial 93 with params: {'idxAfterPrediction': 3, 'timesteps': 30, 'target_option': 'last', 'LoadupSamples_time_scaling_stretch': True, 'LoadupSamples_time_inc_factor': 66, 'LSTM_units': 16, 'LSTM_num_layers': 1, 'LSTM_dropout': 0.052691003106967824, 'LSTM_recurrent_dropout': 0.001, 'LSTM_learning_rate': 0.0001328726410334452, 'LSTM_optimizer': 'adam', 'LSTM_bidirectional': True, 'LSTM_batch_size': 4096, 'LSTM_epochs': 2, 'LSTM_l1': 0.001, 'LSTM_l2': 0.001, 'LSTM_inter_dropout': 0.001, 'LSTM_input_gaussian_noise': 0.001, 'LSTM_conv1d': True, 'LSTM_conv1d_kernel_size': 3, 'LSTM_loss': 'mse', 'year_start': 2019, 'is_single_feature': False}\n",
      "2025-08-20 20:29:46,404 -   q0: 0.9980\n",
      "2025-08-20 20:29:46,404 -   Duration0: 0:01:01.427574\n",
      "2025-08-20 20:29:46,404 -   Val RMSE0 adjusted: 0.0060\n",
      "2025-08-20 20:29:46,404 -   Mean all prediction: 1.0007\n",
      "2025-08-20 20:29:46,404 -   Mean above prediction: 1.0069\n",
      "2025-08-20 20:29:46,404 -   Mean below prediction: 1.0009\n",
      "2025-08-20 20:29:46,420 -   Quantile 0.99 for distance in mask above: 4866.159999999989\n",
      "2025-08-20 20:29:46,420 -   Quantile 0.99 for distance in mask below: 4083.779999999998\n",
      "2025-08-20 20:29:46,420 -   Ratio for quantile-distance-to-length above: 0.0074\n",
      "2025-08-20 20:29:46,420 -   Ratio for quantile-distance-to-length below: 0.0062\n",
      "2025-08-20 20:29:46,420 -   Score: 1.0023\n"
     ]
    },
    {
     "name": "stderr",
     "output_type": "stream",
     "text": [
      "[I 2025-08-20 20:29:46,454] Trial 93 finished with value: 1.0022986106317884 and parameters: {'year_start': 2019, 'idxAfterPrediction': 3, 'LoadupSamples_time_inc_factor': 66, 'timesteps': 30, 'LSTM_learning_rate': 0.0001328726410334452, 'LSTM_dropout': 0.052691003106967824, 'is_single_feature': False}. Best is trial 31 with value: 1.0049487769776475.\n"
     ]
    },
    {
     "name": "stdout",
     "output_type": "stream",
     "text": [
      "2025-08-20 20:29:46,454 - Trial 93 finished with value: 1.0022986106317884 and parameters: {'year_start': 2019, 'idxAfterPrediction': 3, 'LoadupSamples_time_inc_factor': 66, 'timesteps': 30, 'LSTM_learning_rate': 0.0001328726410334452, 'LSTM_dropout': 0.052691003106967824, 'is_single_feature': False}. Best is trial 31 with value: 1.0049487769776475.\n",
      "2025-08-20 20:29:56,836 - Non-finite/too-large values in train y time: 48 samples.\n",
      "2025-08-20 20:29:56,852 - Removing 48 samples from training data.\n"
     ]
    },
    {
     "name": "stderr",
     "output_type": "stream",
     "text": [
      "Epochs:   0%|          | 0/2 [00:00<?, ?it/s]"
     ]
    },
    {
     "name": "stdout",
     "output_type": "stream",
     "text": [
      "2025-08-20 20:30:32,153 - Epoch 1/2 — Train RMSE: 0.7100 — Validation RMSE: 0.6100\n"
     ]
    },
    {
     "name": "stderr",
     "output_type": "stream",
     "text": [
      "Epochs:  50%|█████     | 1/2 [00:28<00:28, 28.94s/it]"
     ]
    },
    {
     "name": "stdout",
     "output_type": "stream",
     "text": [
      "2025-08-20 20:31:01,163 - Epoch 2/2 — Train RMSE: 0.5552 — Validation RMSE: 0.4594\n"
     ]
    },
    {
     "name": "stderr",
     "output_type": "stream",
     "text": [
      "Epochs: 100%|██████████| 2/2 [00:57<00:00, 28.98s/it]\n"
     ]
    },
    {
     "name": "stdout",
     "output_type": "stream",
     "text": [
      "2025-08-20 20:31:04,493 - Trial 94 with params: {'idxAfterPrediction': 4, 'timesteps': 35, 'target_option': 'last', 'LoadupSamples_time_scaling_stretch': True, 'LoadupSamples_time_inc_factor': 61, 'LSTM_units': 16, 'LSTM_num_layers': 1, 'LSTM_dropout': 0.060616462123181294, 'LSTM_recurrent_dropout': 0.001, 'LSTM_learning_rate': 3.2537339449185195e-05, 'LSTM_optimizer': 'adam', 'LSTM_bidirectional': True, 'LSTM_batch_size': 4096, 'LSTM_epochs': 2, 'LSTM_l1': 0.001, 'LSTM_l2': 0.001, 'LSTM_inter_dropout': 0.001, 'LSTM_input_gaussian_noise': 0.001, 'LSTM_conv1d': True, 'LSTM_conv1d_kernel_size': 3, 'LSTM_loss': 'mse', 'year_start': 2019, 'is_single_feature': False}\n",
      "2025-08-20 20:31:04,493 -   q0: 0.9980\n",
      "2025-08-20 20:31:04,493 -   Duration0: 0:01:01.360528\n",
      "2025-08-20 20:31:04,493 -   Val RMSE0 adjusted: 0.0075\n",
      "2025-08-20 20:31:04,493 -   Mean all prediction: 1.0011\n",
      "2025-08-20 20:31:04,493 -   Mean above prediction: 1.0114\n",
      "2025-08-20 20:31:04,493 -   Mean below prediction: 0.9984\n",
      "2025-08-20 20:31:04,493 -   Quantile 0.99 for distance in mask above: 4969.459999999989\n",
      "2025-08-20 20:31:04,493 -   Quantile 0.99 for distance in mask below: 3716.8999999999987\n",
      "2025-08-20 20:31:04,493 -   Ratio for quantile-distance-to-length above: 0.0076\n",
      "2025-08-20 20:31:04,493 -   Ratio for quantile-distance-to-length below: 0.0057\n",
      "2025-08-20 20:31:04,493 -   Score: 1.0028\n"
     ]
    },
    {
     "name": "stderr",
     "output_type": "stream",
     "text": [
      "[I 2025-08-20 20:31:04,540] Trial 94 finished with value: 1.0028429890556168 and parameters: {'year_start': 2019, 'idxAfterPrediction': 4, 'LoadupSamples_time_inc_factor': 61, 'timesteps': 35, 'LSTM_learning_rate': 3.2537339449185195e-05, 'LSTM_dropout': 0.060616462123181294, 'is_single_feature': False}. Best is trial 31 with value: 1.0049487769776475.\n"
     ]
    },
    {
     "name": "stdout",
     "output_type": "stream",
     "text": [
      "2025-08-20 20:31:04,540 - Trial 94 finished with value: 1.0028429890556168 and parameters: {'year_start': 2019, 'idxAfterPrediction': 4, 'LoadupSamples_time_inc_factor': 61, 'timesteps': 35, 'LSTM_learning_rate': 3.2537339449185195e-05, 'LSTM_dropout': 0.060616462123181294, 'is_single_feature': False}. Best is trial 31 with value: 1.0049487769776475.\n",
      "2025-08-20 20:31:15,097 - Non-finite/too-large values in train y time: 72 samples.\n",
      "2025-08-20 20:31:15,097 - Removing 72 samples from training data.\n"
     ]
    },
    {
     "name": "stderr",
     "output_type": "stream",
     "text": [
      "Epochs:   0%|          | 0/2 [00:00<?, ?it/s]"
     ]
    },
    {
     "name": "stdout",
     "output_type": "stream",
     "text": [
      "2025-08-20 20:31:51,323 - Epoch 1/2 — Train RMSE: 0.5865 — Validation RMSE: 0.5131\n"
     ]
    },
    {
     "name": "stderr",
     "output_type": "stream",
     "text": [
      "Epochs:  50%|█████     | 1/2 [00:29<00:29, 29.08s/it]"
     ]
    },
    {
     "name": "stdout",
     "output_type": "stream",
     "text": [
      "2025-08-20 20:32:20,344 - Epoch 2/2 — Train RMSE: 0.4904 — Validation RMSE: 0.4456\n"
     ]
    },
    {
     "name": "stderr",
     "output_type": "stream",
     "text": [
      "Epochs: 100%|██████████| 2/2 [00:58<00:00, 29.05s/it]\n"
     ]
    },
    {
     "name": "stdout",
     "output_type": "stream",
     "text": [
      "2025-08-20 20:32:23,645 - Trial 95 with params: {'idxAfterPrediction': 6, 'timesteps': 40, 'target_option': 'last', 'LoadupSamples_time_scaling_stretch': True, 'LoadupSamples_time_inc_factor': 66, 'LSTM_units': 16, 'LSTM_num_layers': 1, 'LSTM_dropout': 0.04735506878951803, 'LSTM_recurrent_dropout': 0.001, 'LSTM_learning_rate': 2.6388424134917592e-05, 'LSTM_optimizer': 'adam', 'LSTM_bidirectional': True, 'LSTM_batch_size': 4096, 'LSTM_epochs': 2, 'LSTM_l1': 0.001, 'LSTM_l2': 0.001, 'LSTM_inter_dropout': 0.001, 'LSTM_input_gaussian_noise': 0.001, 'LSTM_conv1d': True, 'LSTM_conv1d_kernel_size': 3, 'LSTM_loss': 'mse', 'year_start': 2019, 'is_single_feature': False}\n",
      "2025-08-20 20:32:23,645 -   q0: 0.9980\n",
      "2025-08-20 20:32:23,645 -   Duration0: 0:01:01.515597\n",
      "2025-08-20 20:32:23,645 -   Val RMSE0 adjusted: 0.0068\n",
      "2025-08-20 20:32:23,645 -   Mean all prediction: 1.0019\n",
      "2025-08-20 20:32:23,645 -   Mean above prediction: 1.0128\n",
      "2025-08-20 20:32:23,645 -   Mean below prediction: 0.9999\n",
      "2025-08-20 20:32:23,645 -   Quantile 0.99 for distance in mask above: 5329.83999999998\n",
      "2025-08-20 20:32:23,645 -   Quantile 0.99 for distance in mask below: 4441.13999999996\n",
      "2025-08-20 20:32:23,645 -   Ratio for quantile-distance-to-length above: 0.0081\n",
      "2025-08-20 20:32:23,645 -   Ratio for quantile-distance-to-length below: 0.0068\n",
      "2025-08-20 20:32:23,645 -   Score: 1.0021\n"
     ]
    },
    {
     "name": "stderr",
     "output_type": "stream",
     "text": [
      "[I 2025-08-20 20:32:23,692] Trial 95 finished with value: 1.002123765636228 and parameters: {'year_start': 2019, 'idxAfterPrediction': 6, 'LoadupSamples_time_inc_factor': 66, 'timesteps': 40, 'LSTM_learning_rate': 2.6388424134917592e-05, 'LSTM_dropout': 0.04735506878951803, 'is_single_feature': False}. Best is trial 31 with value: 1.0049487769776475.\n"
     ]
    },
    {
     "name": "stdout",
     "output_type": "stream",
     "text": [
      "2025-08-20 20:32:23,692 - Trial 95 finished with value: 1.002123765636228 and parameters: {'year_start': 2019, 'idxAfterPrediction': 6, 'LoadupSamples_time_inc_factor': 66, 'timesteps': 40, 'LSTM_learning_rate': 2.6388424134917592e-05, 'LSTM_dropout': 0.04735506878951803, 'is_single_feature': False}. Best is trial 31 with value: 1.0049487769776475.\n",
      "2025-08-20 20:32:32,534 - Non-finite/too-large values in train y time: 36 samples.\n",
      "2025-08-20 20:32:32,550 - Removing 36 samples from training data.\n"
     ]
    },
    {
     "name": "stderr",
     "output_type": "stream",
     "text": [
      "Epochs:   0%|          | 0/2 [00:00<?, ?it/s]"
     ]
    },
    {
     "name": "stdout",
     "output_type": "stream",
     "text": [
      "2025-08-20 20:33:03,233 - Epoch 1/2 — Train RMSE: 0.6481 — Validation RMSE: 0.4831\n"
     ]
    },
    {
     "name": "stderr",
     "output_type": "stream",
     "text": [
      "Epochs:  50%|█████     | 1/2 [00:24<00:24, 24.06s/it]"
     ]
    },
    {
     "name": "stdout",
     "output_type": "stream",
     "text": [
      "2025-08-20 20:33:27,858 - Epoch 2/2 — Train RMSE: 0.4338 — Validation RMSE: 0.3843\n"
     ]
    },
    {
     "name": "stderr",
     "output_type": "stream",
     "text": [
      "Epochs: 100%|██████████| 2/2 [00:48<00:00, 24.34s/it]\n"
     ]
    },
    {
     "name": "stdout",
     "output_type": "stream",
     "text": [
      "2025-08-20 20:33:31,691 - Trial 96 with params: {'idxAfterPrediction': 3, 'timesteps': 45, 'target_option': 'last', 'LoadupSamples_time_scaling_stretch': True, 'LoadupSamples_time_inc_factor': 56, 'LSTM_units': 16, 'LSTM_num_layers': 1, 'LSTM_dropout': 0.03457513059999026, 'LSTM_recurrent_dropout': 0.001, 'LSTM_learning_rate': 5.668661966236805e-05, 'LSTM_optimizer': 'adam', 'LSTM_bidirectional': True, 'LSTM_batch_size': 4096, 'LSTM_epochs': 2, 'LSTM_l1': 0.001, 'LSTM_l2': 0.001, 'LSTM_inter_dropout': 0.001, 'LSTM_input_gaussian_noise': 0.001, 'LSTM_conv1d': True, 'LSTM_conv1d_kernel_size': 3, 'LSTM_loss': 'mse', 'year_start': 2020, 'is_single_feature': False}\n",
      "2025-08-20 20:33:31,691 -   q0: 0.9980\n",
      "2025-08-20 20:33:31,706 -   Duration0: 0:00:52.607506\n",
      "2025-08-20 20:33:31,706 -   Val RMSE0 adjusted: 0.0069\n",
      "2025-08-20 20:33:31,706 -   Mean all prediction: 1.0007\n",
      "2025-08-20 20:33:31,706 -   Mean above prediction: 0.9979\n",
      "2025-08-20 20:33:31,706 -   Mean below prediction: 0.9974\n",
      "2025-08-20 20:33:31,706 -   Quantile 0.99 for distance in mask above: 5330.519999999991\n",
      "2025-08-20 20:33:31,706 -   Quantile 0.99 for distance in mask below: 3717.059999999993\n",
      "2025-08-20 20:33:31,706 -   Ratio for quantile-distance-to-length above: 0.0081\n",
      "2025-08-20 20:33:31,706 -   Ratio for quantile-distance-to-length below: 0.0057\n",
      "2025-08-20 20:33:31,706 -   Score: 0.9993\n"
     ]
    },
    {
     "name": "stderr",
     "output_type": "stream",
     "text": [
      "[I 2025-08-20 20:33:31,754] Trial 96 finished with value: 0.9993148588733521 and parameters: {'year_start': 2020, 'idxAfterPrediction': 3, 'LoadupSamples_time_inc_factor': 56, 'timesteps': 45, 'LSTM_learning_rate': 5.668661966236805e-05, 'LSTM_dropout': 0.03457513059999026, 'is_single_feature': False}. Best is trial 31 with value: 1.0049487769776475.\n"
     ]
    },
    {
     "name": "stdout",
     "output_type": "stream",
     "text": [
      "2025-08-20 20:33:31,754 - Trial 96 finished with value: 0.9993148588733521 and parameters: {'year_start': 2020, 'idxAfterPrediction': 3, 'LoadupSamples_time_inc_factor': 56, 'timesteps': 45, 'LSTM_learning_rate': 5.668661966236805e-05, 'LSTM_dropout': 0.03457513059999026, 'is_single_feature': False}. Best is trial 31 with value: 1.0049487769776475.\n",
      "2025-08-20 20:33:42,266 - Non-finite/too-large values in train y time: 48 samples.\n",
      "2025-08-20 20:33:42,266 - Removing 48 samples from training data.\n"
     ]
    },
    {
     "name": "stderr",
     "output_type": "stream",
     "text": [
      "Epochs:   0%|          | 0/2 [00:00<?, ?it/s]"
     ]
    },
    {
     "name": "stdout",
     "output_type": "stream",
     "text": [
      "2025-08-20 20:34:19,794 - Epoch 1/2 — Train RMSE: 0.5255 — Validation RMSE: 0.4240\n"
     ]
    },
    {
     "name": "stderr",
     "output_type": "stream",
     "text": [
      "Epochs:  50%|█████     | 1/2 [00:28<00:28, 28.86s/it]"
     ]
    },
    {
     "name": "stdout",
     "output_type": "stream",
     "text": [
      "2025-08-20 20:34:49,036 - Epoch 2/2 — Train RMSE: 0.4306 — Validation RMSE: 0.4237\n"
     ]
    },
    {
     "name": "stderr",
     "output_type": "stream",
     "text": [
      "Epochs: 100%|██████████| 2/2 [00:58<00:00, 29.05s/it]\n"
     ]
    },
    {
     "name": "stdout",
     "output_type": "stream",
     "text": [
      "2025-08-20 20:34:52,492 - Trial 97 with params: {'idxAfterPrediction': 4, 'timesteps': 50, 'target_option': 'last', 'LoadupSamples_time_scaling_stretch': True, 'LoadupSamples_time_inc_factor': 81, 'LSTM_units': 16, 'LSTM_num_layers': 1, 'LSTM_dropout': 0.08923895195659504, 'LSTM_recurrent_dropout': 0.001, 'LSTM_learning_rate': 0.00019668595317079107, 'LSTM_optimizer': 'adam', 'LSTM_bidirectional': True, 'LSTM_batch_size': 4096, 'LSTM_epochs': 2, 'LSTM_l1': 0.001, 'LSTM_l2': 0.001, 'LSTM_inter_dropout': 0.001, 'LSTM_input_gaussian_noise': 0.001, 'LSTM_conv1d': True, 'LSTM_conv1d_kernel_size': 3, 'LSTM_loss': 'mse', 'year_start': 2019, 'is_single_feature': False}\n",
      "2025-08-20 20:34:52,492 -   q0: 0.9980\n",
      "2025-08-20 20:34:52,492 -   Duration0: 0:01:01.654935\n",
      "2025-08-20 20:34:52,492 -   Val RMSE0 adjusted: 0.0052\n",
      "2025-08-20 20:34:52,492 -   Mean all prediction: 1.0011\n",
      "2025-08-20 20:34:52,492 -   Mean above prediction: 1.0070\n",
      "2025-08-20 20:34:52,492 -   Mean below prediction: 0.9986\n",
      "2025-08-20 20:34:52,492 -   Quantile 0.99 for distance in mask above: 4943.399999999996\n",
      "2025-08-20 20:34:52,492 -   Quantile 0.99 for distance in mask below: 4159.5999999999985\n",
      "2025-08-20 20:34:52,492 -   Ratio for quantile-distance-to-length above: 0.0075\n",
      "2025-08-20 20:34:52,492 -   Ratio for quantile-distance-to-length below: 0.0063\n",
      "2025-08-20 20:34:52,492 -   Score: 1.0018\n"
     ]
    },
    {
     "name": "stderr",
     "output_type": "stream",
     "text": [
      "[I 2025-08-20 20:34:52,544] Trial 97 finished with value: 1.0017578345343978 and parameters: {'year_start': 2019, 'idxAfterPrediction': 4, 'LoadupSamples_time_inc_factor': 81, 'timesteps': 50, 'LSTM_learning_rate': 0.00019668595317079107, 'LSTM_dropout': 0.08923895195659504, 'is_single_feature': False}. Best is trial 31 with value: 1.0049487769776475.\n"
     ]
    },
    {
     "name": "stdout",
     "output_type": "stream",
     "text": [
      "2025-08-20 20:34:52,544 - Trial 97 finished with value: 1.0017578345343978 and parameters: {'year_start': 2019, 'idxAfterPrediction': 4, 'LoadupSamples_time_inc_factor': 81, 'timesteps': 50, 'LSTM_learning_rate': 0.00019668595317079107, 'LSTM_dropout': 0.08923895195659504, 'is_single_feature': False}. Best is trial 31 with value: 1.0049487769776475.\n",
      "2025-08-20 20:35:02,904 - Non-finite/too-large values in train y time: 36 samples.\n",
      "2025-08-20 20:35:02,904 - Removing 36 samples from training data.\n"
     ]
    },
    {
     "name": "stderr",
     "output_type": "stream",
     "text": [
      "Epochs:   0%|          | 0/2 [00:00<?, ?it/s]"
     ]
    },
    {
     "name": "stdout",
     "output_type": "stream",
     "text": [
      "2025-08-20 20:35:38,375 - Epoch 1/2 — Train RMSE: 0.6110 — Validation RMSE: 0.4759\n"
     ]
    },
    {
     "name": "stderr",
     "output_type": "stream",
     "text": [
      "Epochs:  50%|█████     | 1/2 [00:29<00:29, 29.03s/it]"
     ]
    },
    {
     "name": "stdout",
     "output_type": "stream",
     "text": [
      "2025-08-20 20:36:07,322 - Epoch 2/2 — Train RMSE: 0.4285 — Validation RMSE: 0.3891\n"
     ]
    },
    {
     "name": "stderr",
     "output_type": "stream",
     "text": [
      "Epochs: 100%|██████████| 2/2 [00:57<00:00, 28.99s/it]\n"
     ]
    },
    {
     "name": "stdout",
     "output_type": "stream",
     "text": [
      "2025-08-20 20:36:10,699 - Trial 98 with params: {'idxAfterPrediction': 3, 'timesteps': 35, 'target_option': 'last', 'LoadupSamples_time_scaling_stretch': True, 'LoadupSamples_time_inc_factor': 61, 'LSTM_units': 16, 'LSTM_num_layers': 1, 'LSTM_dropout': 0.041502169458350384, 'LSTM_recurrent_dropout': 0.001, 'LSTM_learning_rate': 4.16896760005323e-05, 'LSTM_optimizer': 'adam', 'LSTM_bidirectional': True, 'LSTM_batch_size': 4096, 'LSTM_epochs': 2, 'LSTM_l1': 0.001, 'LSTM_l2': 0.001, 'LSTM_inter_dropout': 0.001, 'LSTM_input_gaussian_noise': 0.001, 'LSTM_conv1d': True, 'LSTM_conv1d_kernel_size': 3, 'LSTM_loss': 'mse', 'year_start': 2019, 'is_single_feature': False}\n",
      "2025-08-20 20:36:10,699 -   q0: 0.9980\n",
      "2025-08-20 20:36:10,699 -   Duration0: 0:01:01.421510\n",
      "2025-08-20 20:36:10,699 -   Val RMSE0 adjusted: 0.0064\n",
      "2025-08-20 20:36:10,699 -   Mean all prediction: 1.0007\n",
      "2025-08-20 20:36:10,699 -   Mean above prediction: 1.0018\n",
      "2025-08-20 20:36:10,699 -   Mean below prediction: 1.0052\n",
      "2025-08-20 20:36:10,699 -   Quantile 0.99 for distance in mask above: 4656.079999999993\n",
      "2025-08-20 20:36:10,699 -   Quantile 0.99 for distance in mask below: 4570.959999999992\n",
      "2025-08-20 20:36:10,715 -   Ratio for quantile-distance-to-length above: 0.0071\n",
      "2025-08-20 20:36:10,715 -   Ratio for quantile-distance-to-length below: 0.0069\n",
      "2025-08-20 20:36:10,715 -   Score: 1.0006\n"
     ]
    },
    {
     "name": "stderr",
     "output_type": "stream",
     "text": [
      "[I 2025-08-20 20:36:10,763] Trial 98 finished with value: 1.0005889293294368 and parameters: {'year_start': 2019, 'idxAfterPrediction': 3, 'LoadupSamples_time_inc_factor': 61, 'timesteps': 35, 'LSTM_learning_rate': 4.16896760005323e-05, 'LSTM_dropout': 0.041502169458350384, 'is_single_feature': False}. Best is trial 31 with value: 1.0049487769776475.\n"
     ]
    },
    {
     "name": "stdout",
     "output_type": "stream",
     "text": [
      "2025-08-20 20:36:10,763 - Trial 98 finished with value: 1.0005889293294368 and parameters: {'year_start': 2019, 'idxAfterPrediction': 3, 'LoadupSamples_time_inc_factor': 61, 'timesteps': 35, 'LSTM_learning_rate': 4.16896760005323e-05, 'LSTM_dropout': 0.041502169458350384, 'is_single_feature': False}. Best is trial 31 with value: 1.0049487769776475.\n",
      "2025-08-20 20:36:17,958 - Non-finite/too-large values in train y time: 36 samples.\n",
      "2025-08-20 20:36:17,974 - Removing 36 samples from training data.\n"
     ]
    },
    {
     "name": "stderr",
     "output_type": "stream",
     "text": [
      "Epochs:   0%|          | 0/2 [00:00<?, ?it/s]"
     ]
    },
    {
     "name": "stdout",
     "output_type": "stream",
     "text": [
      "2025-08-20 20:36:41,257 - Epoch 1/2 — Train RMSE: 0.4347 — Validation RMSE: 0.3944\n"
     ]
    },
    {
     "name": "stderr",
     "output_type": "stream",
     "text": [
      "Epochs:  50%|█████     | 1/2 [00:19<00:19, 19.37s/it]"
     ]
    },
    {
     "name": "stdout",
     "output_type": "stream",
     "text": [
      "2025-08-20 20:37:00,346 - Epoch 2/2 — Train RMSE: 0.4042 — Validation RMSE: 0.3943\n"
     ]
    },
    {
     "name": "stderr",
     "output_type": "stream",
     "text": [
      "Epochs: 100%|██████████| 2/2 [00:38<00:00, 19.23s/it]\n"
     ]
    },
    {
     "name": "stdout",
     "output_type": "stream",
     "text": [
      "2025-08-20 20:37:04,070 - Trial 99 with params: {'idxAfterPrediction': 3, 'timesteps': 30, 'target_option': 'last', 'LoadupSamples_time_scaling_stretch': True, 'LoadupSamples_time_inc_factor': 66, 'LSTM_units': 16, 'LSTM_num_layers': 1, 'LSTM_dropout': 0.06966389113981532, 'LSTM_recurrent_dropout': 0.001, 'LSTM_learning_rate': 0.00041385735558796685, 'LSTM_optimizer': 'adam', 'LSTM_bidirectional': True, 'LSTM_batch_size': 4096, 'LSTM_epochs': 2, 'LSTM_l1': 0.001, 'LSTM_l2': 0.001, 'LSTM_inter_dropout': 0.001, 'LSTM_input_gaussian_noise': 0.001, 'LSTM_conv1d': True, 'LSTM_conv1d_kernel_size': 3, 'LSTM_loss': 'mse', 'year_start': 2021, 'is_single_feature': True}\n",
      "2025-08-20 20:37:04,070 -   q0: 0.9980\n",
      "2025-08-20 20:37:04,070 -   Duration0: 0:00:42.216035\n",
      "2025-08-20 20:37:04,070 -   Val RMSE0 adjusted: 0.0060\n",
      "2025-08-20 20:37:04,070 -   Mean all prediction: 1.0007\n",
      "2025-08-20 20:37:04,086 -   Mean above prediction: 0.9959\n",
      "2025-08-20 20:37:04,086 -   Mean below prediction: 1.0006\n",
      "2025-08-20 20:37:04,086 -   Quantile 0.99 for distance in mask above: 4581.499999999995\n",
      "2025-08-20 20:37:04,086 -   Quantile 0.99 for distance in mask below: 3908.119999999976\n",
      "2025-08-20 20:37:04,086 -   Ratio for quantile-distance-to-length above: 0.0070\n",
      "2025-08-20 20:37:04,086 -   Ratio for quantile-distance-to-length below: 0.0059\n",
      "2025-08-20 20:37:04,086 -   Score: 0.9986\n"
     ]
    },
    {
     "name": "stderr",
     "output_type": "stream",
     "text": [
      "[I 2025-08-20 20:37:04,120] Trial 99 finished with value: 0.9986306168247633 and parameters: {'year_start': 2021, 'idxAfterPrediction': 3, 'LoadupSamples_time_inc_factor': 66, 'timesteps': 30, 'LSTM_learning_rate': 0.00041385735558796685, 'LSTM_dropout': 0.06966389113981532, 'is_single_feature': True}. Best is trial 31 with value: 1.0049487769776475.\n"
     ]
    },
    {
     "name": "stdout",
     "output_type": "stream",
     "text": [
      "2025-08-20 20:37:04,120 - Trial 99 finished with value: 0.9986306168247633 and parameters: {'year_start': 2021, 'idxAfterPrediction': 3, 'LoadupSamples_time_inc_factor': 66, 'timesteps': 30, 'LSTM_learning_rate': 0.00041385735558796685, 'LSTM_dropout': 0.06966389113981532, 'is_single_feature': True}. Best is trial 31 with value: 1.0049487769776475.\n",
      "2025-08-20 20:37:14,592 - Non-finite/too-large values in train y time: 48 samples.\n",
      "2025-08-20 20:37:14,592 - Removing 48 samples from training data.\n"
     ]
    },
    {
     "name": "stderr",
     "output_type": "stream",
     "text": [
      "Epochs:   0%|          | 0/2 [00:00<?, ?it/s]"
     ]
    },
    {
     "name": "stdout",
     "output_type": "stream",
     "text": [
      "2025-08-20 20:37:50,389 - Epoch 1/2 — Train RMSE: 0.3741 — Validation RMSE: 0.3311\n"
     ]
    },
    {
     "name": "stderr",
     "output_type": "stream",
     "text": [
      "Epochs:  50%|█████     | 1/2 [00:29<00:29, 29.40s/it]"
     ]
    },
    {
     "name": "stdout",
     "output_type": "stream",
     "text": [
      "2025-08-20 20:38:19,427 - Epoch 2/2 — Train RMSE: 0.3435 — Validation RMSE: 0.3309\n"
     ]
    },
    {
     "name": "stderr",
     "output_type": "stream",
     "text": [
      "Epochs: 100%|██████████| 2/2 [00:58<00:00, 29.23s/it]\n"
     ]
    },
    {
     "name": "stdout",
     "output_type": "stream",
     "text": [
      "2025-08-20 20:38:22,758 - Trial 100 with params: {'idxAfterPrediction': 4, 'timesteps': 35, 'target_option': 'last', 'LoadupSamples_time_scaling_stretch': True, 'LoadupSamples_time_inc_factor': 31, 'LSTM_units': 16, 'LSTM_num_layers': 1, 'LSTM_dropout': 0.026352028306172413, 'LSTM_recurrent_dropout': 0.001, 'LSTM_learning_rate': 0.0002656040904428081, 'LSTM_optimizer': 'adam', 'LSTM_bidirectional': True, 'LSTM_batch_size': 4096, 'LSTM_epochs': 2, 'LSTM_l1': 0.001, 'LSTM_l2': 0.001, 'LSTM_inter_dropout': 0.001, 'LSTM_input_gaussian_noise': 0.001, 'LSTM_conv1d': True, 'LSTM_conv1d_kernel_size': 3, 'LSTM_loss': 'mse', 'year_start': 2019, 'is_single_feature': False}\n",
      "2025-08-20 20:38:22,758 -   q0: 0.9980\n",
      "2025-08-20 20:38:22,758 -   Duration0: 0:01:01.836968\n",
      "2025-08-20 20:38:22,758 -   Val RMSE0 adjusted: 0.0107\n",
      "2025-08-20 20:38:22,758 -   Mean all prediction: 1.0011\n",
      "2025-08-20 20:38:22,758 -   Mean above prediction: 1.0089\n",
      "2025-08-20 20:38:22,758 -   Mean below prediction: 1.0048\n",
      "2025-08-20 20:38:22,758 -   Quantile 0.99 for distance in mask above: 5130.85999999999\n",
      "2025-08-20 20:38:22,758 -   Quantile 0.99 for distance in mask below: 4661.399999999986\n",
      "2025-08-20 20:38:22,774 -   Ratio for quantile-distance-to-length above: 0.0078\n",
      "2025-08-20 20:38:22,774 -   Ratio for quantile-distance-to-length below: 0.0071\n",
      "2025-08-20 20:38:22,774 -   Score: 1.0022\n"
     ]
    },
    {
     "name": "stderr",
     "output_type": "stream",
     "text": [
      "[I 2025-08-20 20:38:22,805] Trial 100 finished with value: 1.002210583487739 and parameters: {'year_start': 2019, 'idxAfterPrediction': 4, 'LoadupSamples_time_inc_factor': 31, 'timesteps': 35, 'LSTM_learning_rate': 0.0002656040904428081, 'LSTM_dropout': 0.026352028306172413, 'is_single_feature': False}. Best is trial 31 with value: 1.0049487769776475.\n"
     ]
    },
    {
     "name": "stdout",
     "output_type": "stream",
     "text": [
      "2025-08-20 20:38:22,805 - Trial 100 finished with value: 1.002210583487739 and parameters: {'year_start': 2019, 'idxAfterPrediction': 4, 'LoadupSamples_time_inc_factor': 31, 'timesteps': 35, 'LSTM_learning_rate': 0.0002656040904428081, 'LSTM_dropout': 0.026352028306172413, 'is_single_feature': False}. Best is trial 31 with value: 1.0049487769776475.\n",
      "2025-08-20 20:38:33,129 - Non-finite/too-large values in train y time: 36 samples.\n",
      "2025-08-20 20:38:33,129 - Removing 36 samples from training data.\n"
     ]
    },
    {
     "name": "stderr",
     "output_type": "stream",
     "text": [
      "Epochs:   0%|          | 0/2 [00:00<?, ?it/s]"
     ]
    },
    {
     "name": "stdout",
     "output_type": "stream",
     "text": [
      "2025-08-20 20:39:07,563 - Epoch 1/2 — Train RMSE: 0.6980 — Validation RMSE: 0.5966\n"
     ]
    },
    {
     "name": "stderr",
     "output_type": "stream",
     "text": [
      "Epochs:  50%|█████     | 1/2 [00:28<00:28, 28.83s/it]"
     ]
    },
    {
     "name": "stdout",
     "output_type": "stream",
     "text": [
      "2025-08-20 20:39:36,384 - Epoch 2/2 — Train RMSE: 0.5438 — Validation RMSE: 0.4538\n"
     ]
    },
    {
     "name": "stderr",
     "output_type": "stream",
     "text": [
      "Epochs: 100%|██████████| 2/2 [00:57<00:00, 28.82s/it]\n"
     ]
    },
    {
     "name": "stdout",
     "output_type": "stream",
     "text": [
      "2025-08-20 20:39:39,730 - Trial 101 with params: {'idxAfterPrediction': 3, 'timesteps': 30, 'target_option': 'last', 'LoadupSamples_time_scaling_stretch': True, 'LoadupSamples_time_inc_factor': 66, 'LSTM_units': 16, 'LSTM_num_layers': 1, 'LSTM_dropout': 0.05470762709088577, 'LSTM_recurrent_dropout': 0.001, 'LSTM_learning_rate': 2.5094076892891486e-05, 'LSTM_optimizer': 'adam', 'LSTM_bidirectional': True, 'LSTM_batch_size': 4096, 'LSTM_epochs': 2, 'LSTM_l1': 0.001, 'LSTM_l2': 0.001, 'LSTM_inter_dropout': 0.001, 'LSTM_input_gaussian_noise': 0.001, 'LSTM_conv1d': True, 'LSTM_conv1d_kernel_size': 3, 'LSTM_loss': 'mse', 'year_start': 2019, 'is_single_feature': False}\n",
      "2025-08-20 20:39:39,730 -   q0: 0.9980\n",
      "2025-08-20 20:39:39,730 -   Duration0: 0:01:01.059316\n",
      "2025-08-20 20:39:39,730 -   Val RMSE0 adjusted: 0.0069\n",
      "2025-08-20 20:39:39,730 -   Mean all prediction: 1.0007\n",
      "2025-08-20 20:39:39,730 -   Mean above prediction: 0.9982\n",
      "2025-08-20 20:39:39,730 -   Mean below prediction: 1.0026\n",
      "2025-08-20 20:39:39,730 -   Quantile 0.99 for distance in mask above: 4314.859999999915\n",
      "2025-08-20 20:39:39,730 -   Quantile 0.99 for distance in mask below: 4495.119999999995\n",
      "2025-08-20 20:39:39,730 -   Ratio for quantile-distance-to-length above: 0.0066\n",
      "2025-08-20 20:39:39,730 -   Ratio for quantile-distance-to-length below: 0.0068\n",
      "2025-08-20 20:39:39,730 -   Score: 0.9994\n"
     ]
    },
    {
     "name": "stderr",
     "output_type": "stream",
     "text": [
      "[I 2025-08-20 20:39:39,778] Trial 101 finished with value: 0.9994009481745189 and parameters: {'year_start': 2019, 'idxAfterPrediction': 3, 'LoadupSamples_time_inc_factor': 66, 'timesteps': 30, 'LSTM_learning_rate': 2.5094076892891486e-05, 'LSTM_dropout': 0.05470762709088577, 'is_single_feature': False}. Best is trial 31 with value: 1.0049487769776475.\n"
     ]
    },
    {
     "name": "stdout",
     "output_type": "stream",
     "text": [
      "2025-08-20 20:39:39,778 - Trial 101 finished with value: 0.9994009481745189 and parameters: {'year_start': 2019, 'idxAfterPrediction': 3, 'LoadupSamples_time_inc_factor': 66, 'timesteps': 30, 'LSTM_learning_rate': 2.5094076892891486e-05, 'LSTM_dropout': 0.05470762709088577, 'is_single_feature': False}. Best is trial 31 with value: 1.0049487769776475.\n",
      "2025-08-20 20:39:50,146 - Non-finite/too-large values in train y time: 36 samples.\n",
      "2025-08-20 20:39:50,146 - Removing 36 samples from training data.\n"
     ]
    },
    {
     "name": "stderr",
     "output_type": "stream",
     "text": [
      "Epochs:   0%|          | 0/2 [00:00<?, ?it/s]"
     ]
    },
    {
     "name": "stdout",
     "output_type": "stream",
     "text": [
      "2025-08-20 20:40:25,443 - Epoch 1/2 — Train RMSE: 0.6889 — Validation RMSE: 0.5592\n"
     ]
    },
    {
     "name": "stderr",
     "output_type": "stream",
     "text": [
      "Epochs:  50%|█████     | 1/2 [00:29<00:29, 29.68s/it]"
     ]
    },
    {
     "name": "stdout",
     "output_type": "stream",
     "text": [
      "2025-08-20 20:40:54,547 - Epoch 2/2 — Train RMSE: 0.4893 — Validation RMSE: 0.4148\n"
     ]
    },
    {
     "name": "stderr",
     "output_type": "stream",
     "text": [
      "Epochs: 100%|██████████| 2/2 [00:58<00:00, 29.39s/it]\n"
     ]
    },
    {
     "name": "stdout",
     "output_type": "stream",
     "text": [
      "2025-08-20 20:40:57,972 - Trial 102 with params: {'idxAfterPrediction': 3, 'timesteps': 30, 'target_option': 'last', 'LoadupSamples_time_scaling_stretch': True, 'LoadupSamples_time_inc_factor': 71, 'LSTM_units': 16, 'LSTM_num_layers': 1, 'LSTM_dropout': 0.050575084372746125, 'LSTM_recurrent_dropout': 0.001, 'LSTM_learning_rate': 2.992277374325499e-05, 'LSTM_optimizer': 'adam', 'LSTM_bidirectional': True, 'LSTM_batch_size': 4096, 'LSTM_epochs': 2, 'LSTM_l1': 0.001, 'LSTM_l2': 0.001, 'LSTM_inter_dropout': 0.001, 'LSTM_input_gaussian_noise': 0.001, 'LSTM_conv1d': True, 'LSTM_conv1d_kernel_size': 3, 'LSTM_loss': 'mse', 'year_start': 2019, 'is_single_feature': False}\n",
      "2025-08-20 20:40:57,972 -   q0: 0.9980\n",
      "2025-08-20 20:40:57,972 -   Duration0: 0:01:02.269034\n",
      "2025-08-20 20:40:57,972 -   Val RMSE0 adjusted: 0.0058\n",
      "2025-08-20 20:40:57,972 -   Mean all prediction: 1.0007\n",
      "2025-08-20 20:40:57,972 -   Mean above prediction: 1.0091\n",
      "2025-08-20 20:40:57,988 -   Mean below prediction: 1.0001\n",
      "2025-08-20 20:40:57,988 -   Quantile 0.99 for distance in mask above: 4837.279999999981\n",
      "2025-08-20 20:40:57,988 -   Quantile 0.99 for distance in mask below: 4797.9999999999745\n",
      "2025-08-20 20:40:57,988 -   Ratio for quantile-distance-to-length above: 0.0074\n",
      "2025-08-20 20:40:57,988 -   Ratio for quantile-distance-to-length below: 0.0073\n",
      "2025-08-20 20:40:57,988 -   Score: 1.0030\n"
     ]
    },
    {
     "name": "stderr",
     "output_type": "stream",
     "text": [
      "[I 2025-08-20 20:40:58,020] Trial 102 finished with value: 1.0030227600778003 and parameters: {'year_start': 2019, 'idxAfterPrediction': 3, 'LoadupSamples_time_inc_factor': 71, 'timesteps': 30, 'LSTM_learning_rate': 2.992277374325499e-05, 'LSTM_dropout': 0.050575084372746125, 'is_single_feature': False}. Best is trial 31 with value: 1.0049487769776475.\n"
     ]
    },
    {
     "name": "stdout",
     "output_type": "stream",
     "text": [
      "2025-08-20 20:40:58,020 - Trial 102 finished with value: 1.0030227600778003 and parameters: {'year_start': 2019, 'idxAfterPrediction': 3, 'LoadupSamples_time_inc_factor': 71, 'timesteps': 30, 'LSTM_learning_rate': 2.992277374325499e-05, 'LSTM_dropout': 0.050575084372746125, 'is_single_feature': False}. Best is trial 31 with value: 1.0049487769776475.\n",
      "2025-08-20 20:41:08,624 - Non-finite/too-large values in train y time: 84 samples.\n",
      "2025-08-20 20:41:08,624 - Removing 84 samples from training data.\n"
     ]
    },
    {
     "name": "stderr",
     "output_type": "stream",
     "text": [
      "Epochs:   0%|          | 0/2 [00:00<?, ?it/s]"
     ]
    },
    {
     "name": "stdout",
     "output_type": "stream",
     "text": [
      "2025-08-20 20:41:42,999 - Epoch 1/2 — Train RMSE: 0.5371 — Validation RMSE: 0.4394\n"
     ]
    },
    {
     "name": "stderr",
     "output_type": "stream",
     "text": [
      "Epochs:  50%|█████     | 1/2 [00:28<00:28, 28.61s/it]"
     ]
    },
    {
     "name": "stdout",
     "output_type": "stream",
     "text": [
      "2025-08-20 20:42:11,971 - Epoch 2/2 — Train RMSE: 0.4372 — Validation RMSE: 0.4274\n"
     ]
    },
    {
     "name": "stderr",
     "output_type": "stream",
     "text": [
      "Epochs: 100%|██████████| 2/2 [00:57<00:00, 28.79s/it]\n"
     ]
    },
    {
     "name": "stdout",
     "output_type": "stream",
     "text": [
      "2025-08-20 20:42:15,167 - Trial 103 with params: {'idxAfterPrediction': 7, 'timesteps': 30, 'target_option': 'last', 'LoadupSamples_time_scaling_stretch': True, 'LoadupSamples_time_inc_factor': 61, 'LSTM_units': 16, 'LSTM_num_layers': 1, 'LSTM_dropout': 0.059061064680629285, 'LSTM_recurrent_dropout': 0.001, 'LSTM_learning_rate': 6.621693172899221e-05, 'LSTM_optimizer': 'adam', 'LSTM_bidirectional': True, 'LSTM_batch_size': 4096, 'LSTM_epochs': 2, 'LSTM_l1': 0.001, 'LSTM_l2': 0.001, 'LSTM_inter_dropout': 0.001, 'LSTM_input_gaussian_noise': 0.001, 'LSTM_conv1d': True, 'LSTM_conv1d_kernel_size': 3, 'LSTM_loss': 'mse', 'year_start': 2019, 'is_single_feature': False}\n",
      "2025-08-20 20:42:15,168 -   q0: 0.9980\n",
      "2025-08-20 20:42:15,168 -   Duration0: 0:01:00.821458\n",
      "2025-08-20 20:42:15,168 -   Val RMSE0 adjusted: 0.0070\n",
      "2025-08-20 20:42:15,168 -   Mean all prediction: 1.0024\n",
      "2025-08-20 20:42:15,168 -   Mean above prediction: 1.0189\n",
      "2025-08-20 20:42:15,168 -   Mean below prediction: 0.9995\n",
      "2025-08-20 20:42:15,168 -   Quantile 0.99 for distance in mask above: 4756.519999999987\n",
      "2025-08-20 20:42:15,168 -   Quantile 0.99 for distance in mask below: 4179.319999999983\n",
      "2025-08-20 20:42:15,168 -   Ratio for quantile-distance-to-length above: 0.0072\n",
      "2025-08-20 20:42:15,168 -   Ratio for quantile-distance-to-length below: 0.0064\n",
      "2025-08-20 20:42:15,168 -   Score: 1.0027\n"
     ]
    },
    {
     "name": "stderr",
     "output_type": "stream",
     "text": [
      "[I 2025-08-20 20:42:15,208] Trial 103 finished with value: 1.0026718764456541 and parameters: {'year_start': 2019, 'idxAfterPrediction': 7, 'LoadupSamples_time_inc_factor': 61, 'timesteps': 30, 'LSTM_learning_rate': 6.621693172899221e-05, 'LSTM_dropout': 0.059061064680629285, 'is_single_feature': False}. Best is trial 31 with value: 1.0049487769776475.\n"
     ]
    },
    {
     "name": "stdout",
     "output_type": "stream",
     "text": [
      "2025-08-20 20:42:15,208 - Trial 103 finished with value: 1.0026718764456541 and parameters: {'year_start': 2019, 'idxAfterPrediction': 7, 'LoadupSamples_time_inc_factor': 61, 'timesteps': 30, 'LSTM_learning_rate': 6.621693172899221e-05, 'LSTM_dropout': 0.059061064680629285, 'is_single_feature': False}. Best is trial 31 with value: 1.0049487769776475.\n",
      "2025-08-20 20:42:25,528 - Non-finite/too-large values in train y time: 36 samples.\n",
      "2025-08-20 20:42:25,528 - Removing 36 samples from training data.\n"
     ]
    },
    {
     "name": "stderr",
     "output_type": "stream",
     "text": [
      "Epochs:   0%|          | 0/2 [00:00<?, ?it/s]"
     ]
    },
    {
     "name": "stdout",
     "output_type": "stream",
     "text": [
      "2025-08-20 20:43:00,031 - Epoch 1/2 — Train RMSE: 0.6944 — Validation RMSE: 0.5619\n"
     ]
    },
    {
     "name": "stderr",
     "output_type": "stream",
     "text": [
      "Epochs:  50%|█████     | 1/2 [00:28<00:28, 28.85s/it]"
     ]
    },
    {
     "name": "stdout",
     "output_type": "stream",
     "text": [
      "2025-08-20 20:43:29,115 - Epoch 2/2 — Train RMSE: 0.4914 — Validation RMSE: 0.4109\n"
     ]
    },
    {
     "name": "stderr",
     "output_type": "stream",
     "text": [
      "Epochs: 100%|██████████| 2/2 [00:57<00:00, 28.97s/it]\n"
     ]
    },
    {
     "name": "stdout",
     "output_type": "stream",
     "text": [
      "2025-08-20 20:43:32,461 - Trial 104 with params: {'idxAfterPrediction': 3, 'timesteps': 30, 'target_option': 'last', 'LoadupSamples_time_scaling_stretch': True, 'LoadupSamples_time_inc_factor': 66, 'LSTM_units': 16, 'LSTM_num_layers': 1, 'LSTM_dropout': 0.08366958648553748, 'LSTM_recurrent_dropout': 0.001, 'LSTM_learning_rate': 3.77446232612699e-05, 'LSTM_optimizer': 'adam', 'LSTM_bidirectional': True, 'LSTM_batch_size': 4096, 'LSTM_epochs': 2, 'LSTM_l1': 0.001, 'LSTM_l2': 0.001, 'LSTM_inter_dropout': 0.001, 'LSTM_input_gaussian_noise': 0.001, 'LSTM_conv1d': True, 'LSTM_conv1d_kernel_size': 3, 'LSTM_loss': 'mse', 'year_start': 2019, 'is_single_feature': False}\n",
      "2025-08-20 20:43:32,461 -   q0: 0.9980\n",
      "2025-08-20 20:43:32,461 -   Duration0: 0:01:01.358890\n",
      "2025-08-20 20:43:32,461 -   Val RMSE0 adjusted: 0.0062\n",
      "2025-08-20 20:43:32,461 -   Mean all prediction: 1.0007\n",
      "2025-08-20 20:43:32,461 -   Mean above prediction: 0.9954\n",
      "2025-08-20 20:43:32,461 -   Mean below prediction: 0.9998\n",
      "2025-08-20 20:43:32,461 -   Quantile 0.99 for distance in mask above: 4950.899999999989\n",
      "2025-08-20 20:43:32,461 -   Quantile 0.99 for distance in mask below: 3568.0199999999995\n",
      "2025-08-20 20:43:32,461 -   Ratio for quantile-distance-to-length above: 0.0075\n",
      "2025-08-20 20:43:32,461 -   Ratio for quantile-distance-to-length below: 0.0054\n",
      "2025-08-20 20:43:32,477 -   Score: 0.9985\n"
     ]
    },
    {
     "name": "stderr",
     "output_type": "stream",
     "text": [
      "[I 2025-08-20 20:43:32,522] Trial 104 finished with value: 0.9984539781561969 and parameters: {'year_start': 2019, 'idxAfterPrediction': 3, 'LoadupSamples_time_inc_factor': 66, 'timesteps': 30, 'LSTM_learning_rate': 3.77446232612699e-05, 'LSTM_dropout': 0.08366958648553748, 'is_single_feature': False}. Best is trial 31 with value: 1.0049487769776475.\n"
     ]
    },
    {
     "name": "stdout",
     "output_type": "stream",
     "text": [
      "2025-08-20 20:43:32,522 - Trial 104 finished with value: 0.9984539781561969 and parameters: {'year_start': 2019, 'idxAfterPrediction': 3, 'LoadupSamples_time_inc_factor': 66, 'timesteps': 30, 'LSTM_learning_rate': 3.77446232612699e-05, 'LSTM_dropout': 0.08366958648553748, 'is_single_feature': False}. Best is trial 31 with value: 1.0049487769776475.\n",
      "2025-08-20 20:43:36,661 - Non-finite/too-large values in train y time: 36 samples.\n",
      "2025-08-20 20:43:36,661 - Removing 36 samples from training data.\n"
     ]
    },
    {
     "name": "stderr",
     "output_type": "stream",
     "text": [
      "Epochs:   0%|          | 0/2 [00:00<?, ?it/s]"
     ]
    },
    {
     "name": "stdout",
     "output_type": "stream",
     "text": [
      "2025-08-20 20:43:49,099 - Epoch 1/2 — Train RMSE: 0.6773 — Validation RMSE: 0.5810\n"
     ]
    },
    {
     "name": "stderr",
     "output_type": "stream",
     "text": [
      "Epochs:  50%|█████     | 1/2 [00:10<00:10, 10.02s/it]"
     ]
    },
    {
     "name": "stdout",
     "output_type": "stream",
     "text": [
      "2025-08-20 20:43:59,699 - Epoch 2/2 — Train RMSE: 0.5199 — Validation RMSE: 0.4327\n"
     ]
    },
    {
     "name": "stderr",
     "output_type": "stream",
     "text": [
      "Epochs: 100%|██████████| 2/2 [00:20<00:00, 10.31s/it]\n"
     ]
    },
    {
     "name": "stdout",
     "output_type": "stream",
     "text": [
      "2025-08-20 20:44:03,046 - Trial 105 with params: {'idxAfterPrediction': 3, 'timesteps': 35, 'target_option': 'last', 'LoadupSamples_time_scaling_stretch': True, 'LoadupSamples_time_inc_factor': 56, 'LSTM_units': 16, 'LSTM_num_layers': 1, 'LSTM_dropout': 0.049556086083165085, 'LSTM_recurrent_dropout': 0.001, 'LSTM_learning_rate': 0.00011391076045259762, 'LSTM_optimizer': 'adam', 'LSTM_bidirectional': True, 'LSTM_batch_size': 4096, 'LSTM_epochs': 2, 'LSTM_l1': 0.001, 'LSTM_l2': 0.001, 'LSTM_inter_dropout': 0.001, 'LSTM_input_gaussian_noise': 0.001, 'LSTM_conv1d': True, 'LSTM_conv1d_kernel_size': 3, 'LSTM_loss': 'mse', 'year_start': 2023, 'is_single_feature': False}\n",
      "2025-08-20 20:44:03,046 -   q0: 0.9980\n",
      "2025-08-20 20:44:03,046 -   Duration0: 0:00:23.980926\n",
      "2025-08-20 20:44:03,046 -   Val RMSE0 adjusted: 0.0077\n",
      "2025-08-20 20:44:03,046 -   Mean all prediction: 1.0007\n",
      "2025-08-20 20:44:03,046 -   Mean above prediction: 1.0021\n",
      "2025-08-20 20:44:03,046 -   Mean below prediction: 1.0056\n",
      "2025-08-20 20:44:03,046 -   Quantile 0.99 for distance in mask above: 5226.079999999993\n",
      "2025-08-20 20:44:03,046 -   Quantile 0.99 for distance in mask below: 4197.979999999986\n",
      "2025-08-20 20:44:03,046 -   Ratio for quantile-distance-to-length above: 0.0079\n",
      "2025-08-20 20:44:03,046 -   Ratio for quantile-distance-to-length below: 0.0064\n",
      "2025-08-20 20:44:03,046 -   Score: 1.0007\n"
     ]
    },
    {
     "name": "stderr",
     "output_type": "stream",
     "text": [
      "[I 2025-08-20 20:44:03,078] Trial 105 finished with value: 1.0006875793203052 and parameters: {'year_start': 2023, 'idxAfterPrediction': 3, 'LoadupSamples_time_inc_factor': 56, 'timesteps': 35, 'LSTM_learning_rate': 0.00011391076045259762, 'LSTM_dropout': 0.049556086083165085, 'is_single_feature': False}. Best is trial 31 with value: 1.0049487769776475.\n"
     ]
    },
    {
     "name": "stdout",
     "output_type": "stream",
     "text": [
      "2025-08-20 20:44:03,078 - Trial 105 finished with value: 1.0006875793203052 and parameters: {'year_start': 2023, 'idxAfterPrediction': 3, 'LoadupSamples_time_inc_factor': 56, 'timesteps': 35, 'LSTM_learning_rate': 0.00011391076045259762, 'LSTM_dropout': 0.049556086083165085, 'is_single_feature': False}. Best is trial 31 with value: 1.0049487769776475.\n",
      "2025-08-20 20:44:13,535 - Non-finite/too-large values in train y time: 36 samples.\n",
      "2025-08-20 20:44:13,535 - Removing 36 samples from training data.\n"
     ]
    },
    {
     "name": "stderr",
     "output_type": "stream",
     "text": [
      "Epochs:   0%|          | 0/2 [00:00<?, ?it/s]"
     ]
    },
    {
     "name": "stdout",
     "output_type": "stream",
     "text": [
      "2025-08-20 20:44:49,922 - Epoch 1/2 — Train RMSE: 0.5623 — Validation RMSE: 0.4989\n"
     ]
    },
    {
     "name": "stderr",
     "output_type": "stream",
     "text": [
      "Epochs:  50%|█████     | 1/2 [00:29<00:29, 29.25s/it]"
     ]
    },
    {
     "name": "stdout",
     "output_type": "stream",
     "text": [
      "2025-08-20 20:45:19,101 - Epoch 2/2 — Train RMSE: 0.4798 — Validation RMSE: 0.4307\n"
     ]
    },
    {
     "name": "stderr",
     "output_type": "stream",
     "text": [
      "Epochs: 100%|██████████| 2/2 [00:58<00:00, 29.21s/it]\n"
     ]
    },
    {
     "name": "stdout",
     "output_type": "stream",
     "text": [
      "2025-08-20 20:45:22,414 - Trial 106 with params: {'idxAfterPrediction': 3, 'timesteps': 40, 'target_option': 'last', 'LoadupSamples_time_scaling_stretch': True, 'LoadupSamples_time_inc_factor': 66, 'LSTM_units': 16, 'LSTM_num_layers': 1, 'LSTM_dropout': 0.07719058763110198, 'LSTM_recurrent_dropout': 0.001, 'LSTM_learning_rate': 2.164532142087407e-05, 'LSTM_optimizer': 'adam', 'LSTM_bidirectional': True, 'LSTM_batch_size': 4096, 'LSTM_epochs': 2, 'LSTM_l1': 0.001, 'LSTM_l2': 0.001, 'LSTM_inter_dropout': 0.001, 'LSTM_input_gaussian_noise': 0.001, 'LSTM_conv1d': True, 'LSTM_conv1d_kernel_size': 3, 'LSTM_loss': 'mse', 'year_start': 2019, 'is_single_feature': False}\n",
      "2025-08-20 20:45:22,414 -   q0: 0.9980\n",
      "2025-08-20 20:45:22,414 -   Duration0: 0:01:01.823886\n",
      "2025-08-20 20:45:22,414 -   Val RMSE0 adjusted: 0.0065\n",
      "2025-08-20 20:45:22,414 -   Mean all prediction: 1.0007\n",
      "2025-08-20 20:45:22,414 -   Mean above prediction: 1.0124\n",
      "2025-08-20 20:45:22,414 -   Mean below prediction: 1.0042\n",
      "2025-08-20 20:45:22,414 -   Quantile 0.99 for distance in mask above: 4986.099999999997\n",
      "2025-08-20 20:45:22,414 -   Quantile 0.99 for distance in mask below: 4070.0999999999967\n",
      "2025-08-20 20:45:22,429 -   Ratio for quantile-distance-to-length above: 0.0076\n",
      "2025-08-20 20:45:22,429 -   Ratio for quantile-distance-to-length below: 0.0062\n",
      "2025-08-20 20:45:22,429 -   Score: 1.0041\n"
     ]
    },
    {
     "name": "stderr",
     "output_type": "stream",
     "text": [
      "[I 2025-08-20 20:45:22,461] Trial 106 finished with value: 1.004102755631129 and parameters: {'year_start': 2019, 'idxAfterPrediction': 3, 'LoadupSamples_time_inc_factor': 66, 'timesteps': 40, 'LSTM_learning_rate': 2.164532142087407e-05, 'LSTM_dropout': 0.07719058763110198, 'is_single_feature': False}. Best is trial 31 with value: 1.0049487769776475.\n"
     ]
    },
    {
     "name": "stdout",
     "output_type": "stream",
     "text": [
      "2025-08-20 20:45:22,461 - Trial 106 finished with value: 1.004102755631129 and parameters: {'year_start': 2019, 'idxAfterPrediction': 3, 'LoadupSamples_time_inc_factor': 66, 'timesteps': 40, 'LSTM_learning_rate': 2.164532142087407e-05, 'LSTM_dropout': 0.07719058763110198, 'is_single_feature': False}. Best is trial 31 with value: 1.0049487769776475.\n",
      "2025-08-20 20:45:31,356 - Non-finite/too-large values in train y time: 48 samples.\n",
      "2025-08-20 20:45:31,356 - Removing 48 samples from training data.\n"
     ]
    },
    {
     "name": "stderr",
     "output_type": "stream",
     "text": [
      "Epochs:   0%|          | 0/2 [00:00<?, ?it/s]"
     ]
    },
    {
     "name": "stdout",
     "output_type": "stream",
     "text": [
      "2025-08-20 20:46:01,697 - Epoch 1/2 — Train RMSE: 0.5520 — Validation RMSE: 0.5079\n"
     ]
    },
    {
     "name": "stderr",
     "output_type": "stream",
     "text": [
      "Epochs:  50%|█████     | 1/2 [00:24<00:24, 24.35s/it]"
     ]
    },
    {
     "name": "stdout",
     "output_type": "stream",
     "text": [
      "2025-08-20 20:46:26,395 - Epoch 2/2 — Train RMSE: 0.5072 — Validation RMSE: 0.4718\n"
     ]
    },
    {
     "name": "stderr",
     "output_type": "stream",
     "text": [
      "Epochs: 100%|██████████| 2/2 [00:49<00:00, 24.53s/it]\n"
     ]
    },
    {
     "name": "stdout",
     "output_type": "stream",
     "text": [
      "2025-08-20 20:46:30,010 - Trial 107 with params: {'idxAfterPrediction': 4, 'timesteps': 40, 'target_option': 'last', 'LoadupSamples_time_scaling_stretch': True, 'LoadupSamples_time_inc_factor': 71, 'LSTM_units': 16, 'LSTM_num_layers': 1, 'LSTM_dropout': 0.07386749716503759, 'LSTM_recurrent_dropout': 0.001, 'LSTM_learning_rate': 1.601227106326354e-05, 'LSTM_optimizer': 'adam', 'LSTM_bidirectional': True, 'LSTM_batch_size': 4096, 'LSTM_epochs': 2, 'LSTM_l1': 0.001, 'LSTM_l2': 0.001, 'LSTM_inter_dropout': 0.001, 'LSTM_input_gaussian_noise': 0.001, 'LSTM_conv1d': True, 'LSTM_conv1d_kernel_size': 3, 'LSTM_loss': 'mse', 'year_start': 2020, 'is_single_feature': False}\n",
      "2025-08-20 20:46:30,010 -   q0: 0.9980\n",
      "2025-08-20 20:46:30,010 -   Duration0: 0:00:52.728410\n",
      "2025-08-20 20:46:30,010 -   Val RMSE0 adjusted: 0.0066\n",
      "2025-08-20 20:46:30,010 -   Mean all prediction: 1.0011\n",
      "2025-08-20 20:46:30,010 -   Mean above prediction: 1.0051\n",
      "2025-08-20 20:46:30,010 -   Mean below prediction: 1.0003\n",
      "2025-08-20 20:46:30,010 -   Quantile 0.99 for distance in mask above: 4070.079999999997\n",
      "2025-08-20 20:46:30,010 -   Quantile 0.99 for distance in mask below: 3503.7599999999934\n",
      "2025-08-20 20:46:30,010 -   Ratio for quantile-distance-to-length above: 0.0062\n",
      "2025-08-20 20:46:30,010 -   Ratio for quantile-distance-to-length below: 0.0053\n",
      "2025-08-20 20:46:30,010 -   Score: 1.0013\n"
     ]
    },
    {
     "name": "stderr",
     "output_type": "stream",
     "text": [
      "[I 2025-08-20 20:46:30,060] Trial 107 finished with value: 1.0012685518699158 and parameters: {'year_start': 2020, 'idxAfterPrediction': 4, 'LoadupSamples_time_inc_factor': 71, 'timesteps': 40, 'LSTM_learning_rate': 1.601227106326354e-05, 'LSTM_dropout': 0.07386749716503759, 'is_single_feature': False}. Best is trial 31 with value: 1.0049487769776475.\n"
     ]
    },
    {
     "name": "stdout",
     "output_type": "stream",
     "text": [
      "2025-08-20 20:46:30,060 - Trial 107 finished with value: 1.0012685518699158 and parameters: {'year_start': 2020, 'idxAfterPrediction': 4, 'LoadupSamples_time_inc_factor': 71, 'timesteps': 40, 'LSTM_learning_rate': 1.601227106326354e-05, 'LSTM_dropout': 0.07386749716503759, 'is_single_feature': False}. Best is trial 31 with value: 1.0049487769776475.\n",
      "2025-08-20 20:46:40,543 - Non-finite/too-large values in train y time: 36 samples.\n",
      "2025-08-20 20:46:40,543 - Removing 36 samples from training data.\n"
     ]
    },
    {
     "name": "stderr",
     "output_type": "stream",
     "text": [
      "Epochs:   0%|          | 0/2 [00:00<?, ?it/s]"
     ]
    },
    {
     "name": "stdout",
     "output_type": "stream",
     "text": [
      "2025-08-20 20:47:17,607 - Epoch 1/2 — Train RMSE: 0.5536 — Validation RMSE: 0.4891\n"
     ]
    },
    {
     "name": "stderr",
     "output_type": "stream",
     "text": [
      "Epochs:  50%|█████     | 1/2 [00:29<00:29, 29.18s/it]"
     ]
    },
    {
     "name": "stdout",
     "output_type": "stream",
     "text": [
      "2025-08-20 20:47:47,084 - Epoch 2/2 — Train RMSE: 0.4753 — Validation RMSE: 0.4283\n"
     ]
    },
    {
     "name": "stderr",
     "output_type": "stream",
     "text": [
      "Epochs: 100%|██████████| 2/2 [00:58<00:00, 29.33s/it]\n"
     ]
    },
    {
     "name": "stdout",
     "output_type": "stream",
     "text": [
      "2025-08-20 20:47:50,465 - Trial 108 with params: {'idxAfterPrediction': 3, 'timesteps': 45, 'target_option': 'last', 'LoadupSamples_time_scaling_stretch': True, 'LoadupSamples_time_inc_factor': 56, 'LSTM_units': 16, 'LSTM_num_layers': 1, 'LSTM_dropout': 0.09901189409525342, 'LSTM_recurrent_dropout': 0.001, 'LSTM_learning_rate': 2.2796633339460432e-05, 'LSTM_optimizer': 'adam', 'LSTM_bidirectional': True, 'LSTM_batch_size': 4096, 'LSTM_epochs': 2, 'LSTM_l1': 0.001, 'LSTM_l2': 0.001, 'LSTM_inter_dropout': 0.001, 'LSTM_input_gaussian_noise': 0.001, 'LSTM_conv1d': True, 'LSTM_conv1d_kernel_size': 3, 'LSTM_loss': 'mse', 'year_start': 2019, 'is_single_feature': False}\n",
      "2025-08-20 20:47:50,465 -   q0: 0.9980\n",
      "2025-08-20 20:47:50,465 -   Duration0: 0:01:02.162411\n",
      "2025-08-20 20:47:50,465 -   Val RMSE0 adjusted: 0.0076\n",
      "2025-08-20 20:47:50,465 -   Mean all prediction: 1.0007\n",
      "2025-08-20 20:47:50,465 -   Mean above prediction: 0.9952\n",
      "2025-08-20 20:47:50,465 -   Mean below prediction: 1.0018\n",
      "2025-08-20 20:47:50,465 -   Quantile 0.99 for distance in mask above: 4188.259999999981\n",
      "2025-08-20 20:47:50,465 -   Quantile 0.99 for distance in mask below: 4454.599999999984\n",
      "2025-08-20 20:47:50,465 -   Ratio for quantile-distance-to-length above: 0.0064\n",
      "2025-08-20 20:47:50,465 -   Ratio for quantile-distance-to-length below: 0.0068\n",
      "2025-08-20 20:47:50,465 -   Score: 0.9984\n"
     ]
    },
    {
     "name": "stderr",
     "output_type": "stream",
     "text": [
      "[I 2025-08-20 20:47:50,512] Trial 108 finished with value: 0.9983868163119108 and parameters: {'year_start': 2019, 'idxAfterPrediction': 3, 'LoadupSamples_time_inc_factor': 56, 'timesteps': 45, 'LSTM_learning_rate': 2.2796633339460432e-05, 'LSTM_dropout': 0.09901189409525342, 'is_single_feature': False}. Best is trial 31 with value: 1.0049487769776475.\n"
     ]
    },
    {
     "name": "stdout",
     "output_type": "stream",
     "text": [
      "2025-08-20 20:47:50,512 - Trial 108 finished with value: 0.9983868163119108 and parameters: {'year_start': 2019, 'idxAfterPrediction': 3, 'LoadupSamples_time_inc_factor': 56, 'timesteps': 45, 'LSTM_learning_rate': 2.2796633339460432e-05, 'LSTM_dropout': 0.09901189409525342, 'is_single_feature': False}. Best is trial 31 with value: 1.0049487769776475.\n",
      "2025-08-20 20:48:01,003 - Non-finite/too-large values in train y time: 48 samples.\n",
      "2025-08-20 20:48:01,003 - Removing 48 samples from training data.\n"
     ]
    },
    {
     "name": "stderr",
     "output_type": "stream",
     "text": [
      "Epochs:   0%|          | 0/2 [00:00<?, ?it/s]"
     ]
    },
    {
     "name": "stdout",
     "output_type": "stream",
     "text": [
      "2025-08-20 20:48:37,022 - Epoch 1/2 — Train RMSE: 0.4288 — Validation RMSE: 0.4021\n"
     ]
    },
    {
     "name": "stderr",
     "output_type": "stream",
     "text": [
      "Epochs:  50%|█████     | 1/2 [00:28<00:28, 28.88s/it]"
     ]
    },
    {
     "name": "stdout",
     "output_type": "stream",
     "text": [
      "2025-08-20 20:49:05,489 - Epoch 2/2 — Train RMSE: 0.4093 — Validation RMSE: 0.4016\n"
     ]
    },
    {
     "name": "stderr",
     "output_type": "stream",
     "text": [
      "Epochs: 100%|██████████| 2/2 [00:57<00:00, 28.66s/it]\n"
     ]
    },
    {
     "name": "stdout",
     "output_type": "stream",
     "text": [
      "2025-08-20 20:49:08,920 - Trial 109 with params: {'idxAfterPrediction': 4, 'timesteps': 40, 'target_option': 'last', 'LoadupSamples_time_scaling_stretch': True, 'LoadupSamples_time_inc_factor': 61, 'LSTM_units': 16, 'LSTM_num_layers': 1, 'LSTM_dropout': 0.0634496909006407, 'LSTM_recurrent_dropout': 0.001, 'LSTM_learning_rate': 8.927533999780034e-05, 'LSTM_optimizer': 'adam', 'LSTM_bidirectional': True, 'LSTM_batch_size': 4096, 'LSTM_epochs': 2, 'LSTM_l1': 0.001, 'LSTM_l2': 0.001, 'LSTM_inter_dropout': 0.001, 'LSTM_input_gaussian_noise': 0.001, 'LSTM_conv1d': True, 'LSTM_conv1d_kernel_size': 3, 'LSTM_loss': 'mse', 'year_start': 2019, 'is_single_feature': False}\n",
      "2025-08-20 20:49:08,920 -   q0: 0.9980\n",
      "2025-08-20 20:49:08,920 -   Duration0: 0:01:00.852014\n",
      "2025-08-20 20:49:08,920 -   Val RMSE0 adjusted: 0.0066\n",
      "2025-08-20 20:49:08,920 -   Mean all prediction: 1.0011\n",
      "2025-08-20 20:49:08,920 -   Mean above prediction: 1.0077\n",
      "2025-08-20 20:49:08,920 -   Mean below prediction: 1.0043\n",
      "2025-08-20 20:49:08,920 -   Quantile 0.99 for distance in mask above: 4564.499999999983\n",
      "2025-08-20 20:49:08,920 -   Quantile 0.99 for distance in mask below: 4475.859999999985\n",
      "2025-08-20 20:49:08,936 -   Ratio for quantile-distance-to-length above: 0.0069\n",
      "2025-08-20 20:49:08,936 -   Ratio for quantile-distance-to-length below: 0.0068\n",
      "2025-08-20 20:49:08,936 -   Score: 1.0019\n"
     ]
    },
    {
     "name": "stderr",
     "output_type": "stream",
     "text": [
      "[I 2025-08-20 20:49:08,967] Trial 109 finished with value: 1.001921180965022 and parameters: {'year_start': 2019, 'idxAfterPrediction': 4, 'LoadupSamples_time_inc_factor': 61, 'timesteps': 40, 'LSTM_learning_rate': 8.927533999780034e-05, 'LSTM_dropout': 0.0634496909006407, 'is_single_feature': False}. Best is trial 31 with value: 1.0049487769776475.\n"
     ]
    },
    {
     "name": "stdout",
     "output_type": "stream",
     "text": [
      "2025-08-20 20:49:08,967 - Trial 109 finished with value: 1.001921180965022 and parameters: {'year_start': 2019, 'idxAfterPrediction': 4, 'LoadupSamples_time_inc_factor': 61, 'timesteps': 40, 'LSTM_learning_rate': 8.927533999780034e-05, 'LSTM_dropout': 0.0634496909006407, 'is_single_feature': False}. Best is trial 31 with value: 1.0049487769776475.\n",
      "2025-08-20 20:49:14,694 - Non-finite/too-large values in train y time: 36 samples.\n",
      "2025-08-20 20:49:14,694 - Removing 36 samples from training data.\n"
     ]
    },
    {
     "name": "stderr",
     "output_type": "stream",
     "text": [
      "Epochs:   0%|          | 0/2 [00:00<?, ?it/s]"
     ]
    },
    {
     "name": "stdout",
     "output_type": "stream",
     "text": [
      "2025-08-20 20:49:33,459 - Epoch 1/2 — Train RMSE: 0.6042 — Validation RMSE: 0.5148\n"
     ]
    },
    {
     "name": "stderr",
     "output_type": "stream",
     "text": [
      "Epochs:  50%|█████     | 1/2 [00:14<00:14, 14.56s/it]"
     ]
    },
    {
     "name": "stdout",
     "output_type": "stream",
     "text": [
      "2025-08-20 20:49:48,626 - Epoch 2/2 — Train RMSE: 0.4727 — Validation RMSE: 0.4214\n"
     ]
    },
    {
     "name": "stderr",
     "output_type": "stream",
     "text": [
      "Epochs: 100%|██████████| 2/2 [00:29<00:00, 14.86s/it]\n"
     ]
    },
    {
     "name": "stdout",
     "output_type": "stream",
     "text": [
      "2025-08-20 20:49:51,979 - Trial 110 with params: {'idxAfterPrediction': 3, 'timesteps': 45, 'target_option': 'last', 'LoadupSamples_time_scaling_stretch': True, 'LoadupSamples_time_inc_factor': 76, 'LSTM_units': 16, 'LSTM_num_layers': 1, 'LSTM_dropout': 0.0017375614694283162, 'LSTM_recurrent_dropout': 0.001, 'LSTM_learning_rate': 7.115962073639219e-05, 'LSTM_optimizer': 'adam', 'LSTM_bidirectional': True, 'LSTM_batch_size': 4096, 'LSTM_epochs': 2, 'LSTM_l1': 0.001, 'LSTM_l2': 0.001, 'LSTM_inter_dropout': 0.001, 'LSTM_input_gaussian_noise': 0.001, 'LSTM_conv1d': True, 'LSTM_conv1d_kernel_size': 3, 'LSTM_loss': 'mse', 'year_start': 2022, 'is_single_feature': False}\n",
      "2025-08-20 20:49:51,979 -   q0: 0.9980\n",
      "2025-08-20 20:49:51,979 -   Duration0: 0:00:33.135567\n",
      "2025-08-20 20:49:51,979 -   Val RMSE0 adjusted: 0.0055\n",
      "2025-08-20 20:49:51,979 -   Mean all prediction: 1.0007\n",
      "2025-08-20 20:49:51,979 -   Mean above prediction: 1.0134\n",
      "2025-08-20 20:49:51,995 -   Mean below prediction: 1.0034\n",
      "2025-08-20 20:49:51,995 -   Quantile 0.99 for distance in mask above: 5353.179999999954\n",
      "2025-08-20 20:49:51,995 -   Quantile 0.99 for distance in mask below: 4808.759999999978\n",
      "2025-08-20 20:49:51,995 -   Ratio for quantile-distance-to-length above: 0.0081\n",
      "2025-08-20 20:49:51,995 -   Ratio for quantile-distance-to-length below: 0.0073\n",
      "2025-08-20 20:49:51,995 -   Score: 1.0044\n"
     ]
    },
    {
     "name": "stderr",
     "output_type": "stream",
     "text": [
      "[I 2025-08-20 20:49:52,027] Trial 110 finished with value: 1.0044357072140615 and parameters: {'year_start': 2022, 'idxAfterPrediction': 3, 'LoadupSamples_time_inc_factor': 76, 'timesteps': 45, 'LSTM_learning_rate': 7.115962073639219e-05, 'LSTM_dropout': 0.0017375614694283162, 'is_single_feature': False}. Best is trial 31 with value: 1.0049487769776475.\n"
     ]
    },
    {
     "name": "stdout",
     "output_type": "stream",
     "text": [
      "2025-08-20 20:49:52,027 - Trial 110 finished with value: 1.0044357072140615 and parameters: {'year_start': 2022, 'idxAfterPrediction': 3, 'LoadupSamples_time_inc_factor': 76, 'timesteps': 45, 'LSTM_learning_rate': 7.115962073639219e-05, 'LSTM_dropout': 0.0017375614694283162, 'is_single_feature': False}. Best is trial 31 with value: 1.0049487769776475.\n",
      "2025-08-20 20:49:57,722 - Non-finite/too-large values in train y time: 36 samples.\n",
      "2025-08-20 20:49:57,722 - Removing 36 samples from training data.\n"
     ]
    },
    {
     "name": "stderr",
     "output_type": "stream",
     "text": [
      "Epochs:   0%|          | 0/2 [00:00<?, ?it/s]"
     ]
    },
    {
     "name": "stdout",
     "output_type": "stream",
     "text": [
      "2025-08-20 20:50:16,874 - Epoch 1/2 — Train RMSE: 0.5744 — Validation RMSE: 0.4957\n"
     ]
    },
    {
     "name": "stderr",
     "output_type": "stream",
     "text": [
      "Epochs:  50%|█████     | 1/2 [00:14<00:14, 14.92s/it]"
     ]
    },
    {
     "name": "stdout",
     "output_type": "stream",
     "text": [
      "2025-08-20 20:50:32,158 - Epoch 2/2 — Train RMSE: 0.4645 — Validation RMSE: 0.4236\n"
     ]
    },
    {
     "name": "stderr",
     "output_type": "stream",
     "text": [
      "Epochs: 100%|██████████| 2/2 [00:30<00:00, 15.10s/it]\n"
     ]
    },
    {
     "name": "stdout",
     "output_type": "stream",
     "text": [
      "2025-08-20 20:50:35,538 - Trial 111 with params: {'idxAfterPrediction': 3, 'timesteps': 45, 'target_option': 'last', 'LoadupSamples_time_scaling_stretch': True, 'LoadupSamples_time_inc_factor': 81, 'LSTM_units': 16, 'LSTM_num_layers': 1, 'LSTM_dropout': 0.003337580742172438, 'LSTM_recurrent_dropout': 0.001, 'LSTM_learning_rate': 7.227473436034926e-05, 'LSTM_optimizer': 'adam', 'LSTM_bidirectional': True, 'LSTM_batch_size': 4096, 'LSTM_epochs': 2, 'LSTM_l1': 0.001, 'LSTM_l2': 0.001, 'LSTM_inter_dropout': 0.001, 'LSTM_input_gaussian_noise': 0.001, 'LSTM_conv1d': True, 'LSTM_conv1d_kernel_size': 3, 'LSTM_loss': 'mse', 'year_start': 2022, 'is_single_feature': False}\n",
      "2025-08-20 20:50:35,538 -   q0: 0.9980\n",
      "2025-08-20 20:50:35,538 -   Duration0: 0:00:33.678938\n",
      "2025-08-20 20:50:35,538 -   Val RMSE0 adjusted: 0.0052\n",
      "2025-08-20 20:50:35,554 -   Mean all prediction: 1.0007\n",
      "2025-08-20 20:50:35,554 -   Mean above prediction: 1.0114\n",
      "2025-08-20 20:50:35,554 -   Mean below prediction: 1.0042\n",
      "2025-08-20 20:50:35,554 -   Quantile 0.99 for distance in mask above: 4915.399999999996\n",
      "2025-08-20 20:50:35,554 -   Quantile 0.99 for distance in mask below: 4619.2199999999975\n",
      "2025-08-20 20:50:35,554 -   Ratio for quantile-distance-to-length above: 0.0075\n",
      "2025-08-20 20:50:35,554 -   Ratio for quantile-distance-to-length below: 0.0070\n",
      "2025-08-20 20:50:35,554 -   Score: 1.0038\n"
     ]
    },
    {
     "name": "stderr",
     "output_type": "stream",
     "text": [
      "[I 2025-08-20 20:50:35,586] Trial 111 finished with value: 1.0037892843796274 and parameters: {'year_start': 2022, 'idxAfterPrediction': 3, 'LoadupSamples_time_inc_factor': 81, 'timesteps': 45, 'LSTM_learning_rate': 7.227473436034926e-05, 'LSTM_dropout': 0.003337580742172438, 'is_single_feature': False}. Best is trial 31 with value: 1.0049487769776475.\n"
     ]
    },
    {
     "name": "stdout",
     "output_type": "stream",
     "text": [
      "2025-08-20 20:50:35,586 - Trial 111 finished with value: 1.0037892843796274 and parameters: {'year_start': 2022, 'idxAfterPrediction': 3, 'LoadupSamples_time_inc_factor': 81, 'timesteps': 45, 'LSTM_learning_rate': 7.227473436034926e-05, 'LSTM_dropout': 0.003337580742172438, 'is_single_feature': False}. Best is trial 31 with value: 1.0049487769776475.\n",
      "2025-08-20 20:50:41,303 - Non-finite/too-large values in train y time: 36 samples.\n",
      "2025-08-20 20:50:41,303 - Removing 36 samples from training data.\n"
     ]
    },
    {
     "name": "stderr",
     "output_type": "stream",
     "text": [
      "Epochs:   0%|          | 0/2 [00:00<?, ?it/s]"
     ]
    },
    {
     "name": "stdout",
     "output_type": "stream",
     "text": [
      "2025-08-20 20:51:00,069 - Epoch 1/2 — Train RMSE: 0.5370 — Validation RMSE: 0.4134\n"
     ]
    },
    {
     "name": "stderr",
     "output_type": "stream",
     "text": [
      "Epochs:  50%|█████     | 1/2 [00:14<00:14, 14.61s/it]"
     ]
    },
    {
     "name": "stdout",
     "output_type": "stream",
     "text": [
      "2025-08-20 20:51:15,465 - Epoch 2/2 — Train RMSE: 0.4203 — Validation RMSE: 0.4079\n"
     ]
    },
    {
     "name": "stderr",
     "output_type": "stream",
     "text": [
      "Epochs: 100%|██████████| 2/2 [00:29<00:00, 14.99s/it]\n"
     ]
    },
    {
     "name": "stdout",
     "output_type": "stream",
     "text": [
      "2025-08-20 20:51:18,755 - Trial 112 with params: {'idxAfterPrediction': 3, 'timesteps': 45, 'target_option': 'last', 'LoadupSamples_time_scaling_stretch': True, 'LoadupSamples_time_inc_factor': 76, 'LSTM_units': 16, 'LSTM_num_layers': 1, 'LSTM_dropout': 0.0017521203204058028, 'LSTM_recurrent_dropout': 0.001, 'LSTM_learning_rate': 0.00014765086230951124, 'LSTM_optimizer': 'adam', 'LSTM_bidirectional': True, 'LSTM_batch_size': 4096, 'LSTM_epochs': 2, 'LSTM_l1': 0.001, 'LSTM_l2': 0.001, 'LSTM_inter_dropout': 0.001, 'LSTM_input_gaussian_noise': 0.001, 'LSTM_conv1d': True, 'LSTM_conv1d_kernel_size': 3, 'LSTM_loss': 'mse', 'year_start': 2022, 'is_single_feature': False}\n",
      "2025-08-20 20:51:18,755 -   q0: 0.9980\n",
      "2025-08-20 20:51:18,755 -   Duration0: 0:00:33.344372\n",
      "2025-08-20 20:51:18,755 -   Val RMSE0 adjusted: 0.0054\n",
      "2025-08-20 20:51:18,755 -   Mean all prediction: 1.0007\n",
      "2025-08-20 20:51:18,755 -   Mean above prediction: 1.0062\n",
      "2025-08-20 20:51:18,755 -   Mean below prediction: 1.0013\n",
      "2025-08-20 20:51:18,755 -   Quantile 0.99 for distance in mask above: 4996.0199999999995\n",
      "2025-08-20 20:51:18,755 -   Quantile 0.99 for distance in mask below: 3803.939999999967\n",
      "2025-08-20 20:51:18,755 -   Ratio for quantile-distance-to-length above: 0.0076\n",
      "2025-08-20 20:51:18,755 -   Ratio for quantile-distance-to-length below: 0.0058\n",
      "2025-08-20 20:51:18,755 -   Score: 1.0021\n"
     ]
    },
    {
     "name": "stderr",
     "output_type": "stream",
     "text": [
      "[I 2025-08-20 20:51:18,797] Trial 112 finished with value: 1.0020534950820121 and parameters: {'year_start': 2022, 'idxAfterPrediction': 3, 'LoadupSamples_time_inc_factor': 76, 'timesteps': 45, 'LSTM_learning_rate': 0.00014765086230951124, 'LSTM_dropout': 0.0017521203204058028, 'is_single_feature': False}. Best is trial 31 with value: 1.0049487769776475.\n"
     ]
    },
    {
     "name": "stdout",
     "output_type": "stream",
     "text": [
      "2025-08-20 20:51:18,797 - Trial 112 finished with value: 1.0020534950820121 and parameters: {'year_start': 2022, 'idxAfterPrediction': 3, 'LoadupSamples_time_inc_factor': 76, 'timesteps': 45, 'LSTM_learning_rate': 0.00014765086230951124, 'LSTM_dropout': 0.0017521203204058028, 'is_single_feature': False}. Best is trial 31 with value: 1.0049487769776475.\n",
      "2025-08-20 20:51:24,531 - Non-finite/too-large values in train y time: 36 samples.\n",
      "2025-08-20 20:51:24,531 - Removing 36 samples from training data.\n"
     ]
    },
    {
     "name": "stderr",
     "output_type": "stream",
     "text": [
      "Epochs:   0%|          | 0/2 [00:00<?, ?it/s]"
     ]
    },
    {
     "name": "stdout",
     "output_type": "stream",
     "text": [
      "2025-08-20 20:51:43,769 - Epoch 1/2 — Train RMSE: 0.5623 — Validation RMSE: 0.4640\n"
     ]
    },
    {
     "name": "stderr",
     "output_type": "stream",
     "text": [
      "Epochs:  50%|█████     | 1/2 [00:14<00:14, 14.68s/it]"
     ]
    },
    {
     "name": "stdout",
     "output_type": "stream",
     "text": [
      "2025-08-20 20:51:58,944 - Epoch 2/2 — Train RMSE: 0.4384 — Validation RMSE: 0.4130\n"
     ]
    },
    {
     "name": "stderr",
     "output_type": "stream",
     "text": [
      "Epochs: 100%|██████████| 2/2 [00:29<00:00, 14.93s/it]\n"
     ]
    },
    {
     "name": "stdout",
     "output_type": "stream",
     "text": [
      "2025-08-20 20:52:02,341 - Trial 113 with params: {'idxAfterPrediction': 3, 'timesteps': 50, 'target_option': 'last', 'LoadupSamples_time_scaling_stretch': True, 'LoadupSamples_time_inc_factor': 81, 'LSTM_units': 16, 'LSTM_num_layers': 1, 'LSTM_dropout': 0.08134880492938505, 'LSTM_recurrent_dropout': 0.001, 'LSTM_learning_rate': 9.902707883201748e-05, 'LSTM_optimizer': 'adam', 'LSTM_bidirectional': True, 'LSTM_batch_size': 4096, 'LSTM_epochs': 2, 'LSTM_l1': 0.001, 'LSTM_l2': 0.001, 'LSTM_inter_dropout': 0.001, 'LSTM_input_gaussian_noise': 0.001, 'LSTM_conv1d': True, 'LSTM_conv1d_kernel_size': 3, 'LSTM_loss': 'mse', 'year_start': 2022, 'is_single_feature': False}\n",
      "2025-08-20 20:52:02,341 -   q0: 0.9980\n",
      "2025-08-20 20:52:02,341 -   Duration0: 0:00:33.314279\n",
      "2025-08-20 20:52:02,341 -   Val RMSE0 adjusted: 0.0051\n",
      "2025-08-20 20:52:02,341 -   Mean all prediction: 1.0007\n",
      "2025-08-20 20:52:02,341 -   Mean above prediction: 0.9971\n",
      "2025-08-20 20:52:02,341 -   Mean below prediction: 0.9953\n",
      "2025-08-20 20:52:02,341 -   Quantile 0.99 for distance in mask above: 5213.539999999981\n",
      "2025-08-20 20:52:02,341 -   Quantile 0.99 for distance in mask below: 3938.3799999999765\n",
      "2025-08-20 20:52:02,341 -   Ratio for quantile-distance-to-length above: 0.0079\n",
      "2025-08-20 20:52:02,341 -   Ratio for quantile-distance-to-length below: 0.0060\n",
      "2025-08-20 20:52:02,341 -   Score: 0.9990\n"
     ]
    },
    {
     "name": "stderr",
     "output_type": "stream",
     "text": [
      "[I 2025-08-20 20:52:02,388] Trial 113 finished with value: 0.9990287758753313 and parameters: {'year_start': 2022, 'idxAfterPrediction': 3, 'LoadupSamples_time_inc_factor': 81, 'timesteps': 50, 'LSTM_learning_rate': 9.902707883201748e-05, 'LSTM_dropout': 0.08134880492938505, 'is_single_feature': False}. Best is trial 31 with value: 1.0049487769776475.\n"
     ]
    },
    {
     "name": "stdout",
     "output_type": "stream",
     "text": [
      "2025-08-20 20:52:02,388 - Trial 113 finished with value: 0.9990287758753313 and parameters: {'year_start': 2022, 'idxAfterPrediction': 3, 'LoadupSamples_time_inc_factor': 81, 'timesteps': 50, 'LSTM_learning_rate': 9.902707883201748e-05, 'LSTM_dropout': 0.08134880492938505, 'is_single_feature': False}. Best is trial 31 with value: 1.0049487769776475.\n",
      "2025-08-20 20:52:08,251 - Non-finite/too-large values in train y time: 36 samples.\n",
      "2025-08-20 20:52:08,251 - Removing 36 samples from training data.\n"
     ]
    },
    {
     "name": "stderr",
     "output_type": "stream",
     "text": [
      "Epochs:   0%|          | 0/2 [00:00<?, ?it/s]"
     ]
    },
    {
     "name": "stdout",
     "output_type": "stream",
     "text": [
      "2025-08-20 20:52:30,801 - Epoch 1/2 — Train RMSE: 0.6523 — Validation RMSE: 0.5839\n"
     ]
    },
    {
     "name": "stderr",
     "output_type": "stream",
     "text": [
      "Epochs:  50%|█████     | 1/2 [00:15<00:15, 15.16s/it]"
     ]
    },
    {
     "name": "stdout",
     "output_type": "stream",
     "text": [
      "2025-08-20 20:52:46,186 - Epoch 2/2 — Train RMSE: 0.5488 — Validation RMSE: 0.4840\n"
     ]
    },
    {
     "name": "stderr",
     "output_type": "stream",
     "text": [
      "Epochs: 100%|██████████| 2/2 [00:30<00:00, 15.27s/it]\n"
     ]
    },
    {
     "name": "stdout",
     "output_type": "stream",
     "text": [
      "2025-08-20 20:52:49,928 - Trial 114 with params: {'idxAfterPrediction': 3, 'timesteps': 85, 'target_option': 'last', 'LoadupSamples_time_scaling_stretch': True, 'LoadupSamples_time_inc_factor': 76, 'LSTM_units': 16, 'LSTM_num_layers': 1, 'LSTM_dropout': 0.06975643457836178, 'LSTM_recurrent_dropout': 0.001, 'LSTM_learning_rate': 5.785146825350928e-05, 'LSTM_optimizer': 'adam', 'LSTM_bidirectional': True, 'LSTM_batch_size': 4096, 'LSTM_epochs': 2, 'LSTM_l1': 0.001, 'LSTM_l2': 0.001, 'LSTM_inter_dropout': 0.001, 'LSTM_input_gaussian_noise': 0.001, 'LSTM_conv1d': True, 'LSTM_conv1d_kernel_size': 3, 'LSTM_loss': 'mse', 'year_start': 2022, 'is_single_feature': False}\n",
      "2025-08-20 20:52:49,928 -   q0: 0.9980\n",
      "2025-08-20 20:52:49,928 -   Duration0: 0:00:34.415972\n",
      "2025-08-20 20:52:49,928 -   Val RMSE0 adjusted: 0.0064\n",
      "2025-08-20 20:52:49,928 -   Mean all prediction: 1.0007\n",
      "2025-08-20 20:52:49,928 -   Mean above prediction: 1.0128\n",
      "2025-08-20 20:52:49,944 -   Mean below prediction: 1.0062\n",
      "2025-08-20 20:52:49,944 -   Quantile 0.99 for distance in mask above: 5188.99999999997\n",
      "2025-08-20 20:52:49,944 -   Quantile 0.99 for distance in mask below: 4036.6399999999976\n",
      "2025-08-20 20:52:49,944 -   Ratio for quantile-distance-to-length above: 0.0079\n",
      "2025-08-20 20:52:49,944 -   Ratio for quantile-distance-to-length below: 0.0061\n",
      "2025-08-20 20:52:49,944 -   Score: 1.0042\n"
     ]
    },
    {
     "name": "stderr",
     "output_type": "stream",
     "text": [
      "[I 2025-08-20 20:52:49,983] Trial 114 finished with value: 1.0042410032720364 and parameters: {'year_start': 2022, 'idxAfterPrediction': 3, 'LoadupSamples_time_inc_factor': 76, 'timesteps': 85, 'LSTM_learning_rate': 5.785146825350928e-05, 'LSTM_dropout': 0.06975643457836178, 'is_single_feature': False}. Best is trial 31 with value: 1.0049487769776475.\n"
     ]
    },
    {
     "name": "stdout",
     "output_type": "stream",
     "text": [
      "2025-08-20 20:52:49,983 - Trial 114 finished with value: 1.0042410032720364 and parameters: {'year_start': 2022, 'idxAfterPrediction': 3, 'LoadupSamples_time_inc_factor': 76, 'timesteps': 85, 'LSTM_learning_rate': 5.785146825350928e-05, 'LSTM_dropout': 0.06975643457836178, 'is_single_feature': False}. Best is trial 31 with value: 1.0049487769776475.\n",
      "2025-08-20 20:52:55,827 - Non-finite/too-large values in train y time: 36 samples.\n",
      "2025-08-20 20:52:55,827 - Removing 36 samples from training data.\n"
     ]
    },
    {
     "name": "stderr",
     "output_type": "stream",
     "text": [
      "Epochs:   0%|          | 0/2 [00:00<?, ?it/s]"
     ]
    },
    {
     "name": "stdout",
     "output_type": "stream",
     "text": [
      "2025-08-20 20:53:18,294 - Epoch 1/2 — Train RMSE: 0.7320 — Validation RMSE: 0.6740\n"
     ]
    },
    {
     "name": "stderr",
     "output_type": "stream",
     "text": [
      "Epochs:  50%|█████     | 1/2 [00:15<00:15, 15.04s/it]"
     ]
    },
    {
     "name": "stdout",
     "output_type": "stream",
     "text": [
      "2025-08-20 20:53:33,561 - Epoch 2/2 — Train RMSE: 0.6448 — Validation RMSE: 0.5826\n"
     ]
    },
    {
     "name": "stderr",
     "output_type": "stream",
     "text": [
      "Epochs: 100%|██████████| 2/2 [00:30<00:00, 15.15s/it]\n"
     ]
    },
    {
     "name": "stdout",
     "output_type": "stream",
     "text": [
      "2025-08-20 20:53:37,188 - Trial 115 with params: {'idxAfterPrediction': 3, 'timesteps': 85, 'target_option': 'last', 'LoadupSamples_time_scaling_stretch': True, 'LoadupSamples_time_inc_factor': 76, 'LSTM_units': 16, 'LSTM_num_layers': 1, 'LSTM_dropout': 0.07100152255508586, 'LSTM_recurrent_dropout': 0.001, 'LSTM_learning_rate': 4.587892509322204e-05, 'LSTM_optimizer': 'adam', 'LSTM_bidirectional': True, 'LSTM_batch_size': 4096, 'LSTM_epochs': 2, 'LSTM_l1': 0.001, 'LSTM_l2': 0.001, 'LSTM_inter_dropout': 0.001, 'LSTM_input_gaussian_noise': 0.001, 'LSTM_conv1d': True, 'LSTM_conv1d_kernel_size': 3, 'LSTM_loss': 'mse', 'year_start': 2022, 'is_single_feature': False}\n",
      "2025-08-20 20:53:37,188 -   q0: 0.9980\n",
      "2025-08-20 20:53:37,188 -   Duration0: 0:00:34.036951\n",
      "2025-08-20 20:53:37,188 -   Val RMSE0 adjusted: 0.0077\n",
      "2025-08-20 20:53:37,188 -   Mean all prediction: 1.0007\n",
      "2025-08-20 20:53:37,188 -   Mean above prediction: 1.0122\n",
      "2025-08-20 20:53:37,188 -   Mean below prediction: 1.0047\n",
      "2025-08-20 20:53:37,188 -   Quantile 0.99 for distance in mask above: 5737.119999999995\n",
      "2025-08-20 20:53:37,188 -   Quantile 0.99 for distance in mask below: 4240.739999999994\n",
      "2025-08-20 20:53:37,188 -   Ratio for quantile-distance-to-length above: 0.0087\n",
      "2025-08-20 20:53:37,188 -   Ratio for quantile-distance-to-length below: 0.0064\n",
      "2025-08-20 20:53:37,188 -   Score: 1.0041\n"
     ]
    },
    {
     "name": "stderr",
     "output_type": "stream",
     "text": [
      "[I 2025-08-20 20:53:37,240] Trial 115 finished with value: 1.004056193392046 and parameters: {'year_start': 2022, 'idxAfterPrediction': 3, 'LoadupSamples_time_inc_factor': 76, 'timesteps': 85, 'LSTM_learning_rate': 4.587892509322204e-05, 'LSTM_dropout': 0.07100152255508586, 'is_single_feature': False}. Best is trial 31 with value: 1.0049487769776475.\n"
     ]
    },
    {
     "name": "stdout",
     "output_type": "stream",
     "text": [
      "2025-08-20 20:53:37,240 - Trial 115 finished with value: 1.004056193392046 and parameters: {'year_start': 2022, 'idxAfterPrediction': 3, 'LoadupSamples_time_inc_factor': 76, 'timesteps': 85, 'LSTM_learning_rate': 4.587892509322204e-05, 'LSTM_dropout': 0.07100152255508586, 'is_single_feature': False}. Best is trial 31 with value: 1.0049487769776475.\n",
      "2025-08-20 20:53:43,053 - Non-finite/too-large values in train y time: 36 samples.\n",
      "2025-08-20 20:53:43,053 - Removing 36 samples from training data.\n"
     ]
    },
    {
     "name": "stderr",
     "output_type": "stream",
     "text": [
      "Epochs:   0%|          | 0/2 [00:00<?, ?it/s]"
     ]
    },
    {
     "name": "stdout",
     "output_type": "stream",
     "text": [
      "2025-08-20 20:54:05,051 - Epoch 1/2 — Train RMSE: 0.5967 — Validation RMSE: 0.5394\n"
     ]
    },
    {
     "name": "stderr",
     "output_type": "stream",
     "text": [
      "Epochs:  50%|█████     | 1/2 [00:15<00:15, 15.04s/it]"
     ]
    },
    {
     "name": "stdout",
     "output_type": "stream",
     "text": [
      "2025-08-20 20:54:20,398 - Epoch 2/2 — Train RMSE: 0.5159 — Validation RMSE: 0.4661\n"
     ]
    },
    {
     "name": "stderr",
     "output_type": "stream",
     "text": [
      "Epochs: 100%|██████████| 2/2 [00:30<00:00, 15.19s/it]\n"
     ]
    },
    {
     "name": "stdout",
     "output_type": "stream",
     "text": [
      "2025-08-20 20:54:23,871 - Trial 116 with params: {'idxAfterPrediction': 3, 'timesteps': 80, 'target_option': 'last', 'LoadupSamples_time_scaling_stretch': True, 'LoadupSamples_time_inc_factor': 76, 'LSTM_units': 16, 'LSTM_num_layers': 1, 'LSTM_dropout': 0.005394251872733156, 'LSTM_recurrent_dropout': 0.001, 'LSTM_learning_rate': 5.107389338691489e-05, 'LSTM_optimizer': 'adam', 'LSTM_bidirectional': True, 'LSTM_batch_size': 4096, 'LSTM_epochs': 2, 'LSTM_l1': 0.001, 'LSTM_l2': 0.001, 'LSTM_inter_dropout': 0.001, 'LSTM_input_gaussian_noise': 0.001, 'LSTM_conv1d': True, 'LSTM_conv1d_kernel_size': 3, 'LSTM_loss': 'mse', 'year_start': 2022, 'is_single_feature': False}\n",
      "2025-08-20 20:54:23,871 -   q0: 0.9980\n",
      "2025-08-20 20:54:23,871 -   Duration0: 0:00:33.965596\n",
      "2025-08-20 20:54:23,871 -   Val RMSE0 adjusted: 0.0061\n",
      "2025-08-20 20:54:23,871 -   Mean all prediction: 1.0007\n",
      "2025-08-20 20:54:23,871 -   Mean above prediction: 1.0103\n",
      "2025-08-20 20:54:23,871 -   Mean below prediction: 1.0137\n",
      "2025-08-20 20:54:23,871 -   Quantile 0.99 for distance in mask above: 3664.4599999999937\n",
      "2025-08-20 20:54:23,871 -   Quantile 0.99 for distance in mask below: 4123.259999999996\n",
      "2025-08-20 20:54:23,871 -   Ratio for quantile-distance-to-length above: 0.0056\n",
      "2025-08-20 20:54:23,871 -   Ratio for quantile-distance-to-length below: 0.0063\n",
      "2025-08-20 20:54:23,871 -   Score: 1.0034\n"
     ]
    },
    {
     "name": "stderr",
     "output_type": "stream",
     "text": [
      "[I 2025-08-20 20:54:23,918] Trial 116 finished with value: 1.003415639641156 and parameters: {'year_start': 2022, 'idxAfterPrediction': 3, 'LoadupSamples_time_inc_factor': 76, 'timesteps': 80, 'LSTM_learning_rate': 5.107389338691489e-05, 'LSTM_dropout': 0.005394251872733156, 'is_single_feature': False}. Best is trial 31 with value: 1.0049487769776475.\n"
     ]
    },
    {
     "name": "stdout",
     "output_type": "stream",
     "text": [
      "2025-08-20 20:54:23,918 - Trial 116 finished with value: 1.003415639641156 and parameters: {'year_start': 2022, 'idxAfterPrediction': 3, 'LoadupSamples_time_inc_factor': 76, 'timesteps': 80, 'LSTM_learning_rate': 5.107389338691489e-05, 'LSTM_dropout': 0.005394251872733156, 'is_single_feature': False}. Best is trial 31 with value: 1.0049487769776475.\n",
      "2025-08-20 20:54:29,770 - Non-finite/too-large values in train y time: 36 samples.\n",
      "2025-08-20 20:54:29,770 - Removing 36 samples from training data.\n"
     ]
    },
    {
     "name": "stderr",
     "output_type": "stream",
     "text": [
      "Epochs:   0%|          | 0/2 [00:00<?, ?it/s]"
     ]
    },
    {
     "name": "stdout",
     "output_type": "stream",
     "text": [
      "2025-08-20 20:54:52,354 - Epoch 1/2 — Train RMSE: 0.5758 — Validation RMSE: 0.5160\n"
     ]
    },
    {
     "name": "stderr",
     "output_type": "stream",
     "text": [
      "Epochs:  50%|█████     | 1/2 [00:15<00:15, 15.14s/it]"
     ]
    },
    {
     "name": "stdout",
     "output_type": "stream",
     "text": [
      "2025-08-20 20:55:07,685 - Epoch 2/2 — Train RMSE: 0.4945 — Validation RMSE: 0.4495\n"
     ]
    },
    {
     "name": "stderr",
     "output_type": "stream",
     "text": [
      "Epochs: 100%|██████████| 2/2 [00:30<00:00, 15.25s/it]\n"
     ]
    },
    {
     "name": "stdout",
     "output_type": "stream",
     "text": [
      "2025-08-20 20:55:11,425 - Trial 117 with params: {'idxAfterPrediction': 3, 'timesteps': 85, 'target_option': 'last', 'LoadupSamples_time_scaling_stretch': True, 'LoadupSamples_time_inc_factor': 76, 'LSTM_units': 16, 'LSTM_num_layers': 1, 'LSTM_dropout': 0.0883330833930548, 'LSTM_recurrent_dropout': 0.001, 'LSTM_learning_rate': 4.4587759783554816e-05, 'LSTM_optimizer': 'adam', 'LSTM_bidirectional': True, 'LSTM_batch_size': 4096, 'LSTM_epochs': 2, 'LSTM_l1': 0.001, 'LSTM_l2': 0.001, 'LSTM_inter_dropout': 0.001, 'LSTM_input_gaussian_noise': 0.001, 'LSTM_conv1d': True, 'LSTM_conv1d_kernel_size': 3, 'LSTM_loss': 'mse', 'year_start': 2022, 'is_single_feature': False}\n",
      "2025-08-20 20:55:11,425 -   q0: 0.9980\n",
      "2025-08-20 20:55:11,425 -   Duration0: 0:00:34.310151\n",
      "2025-08-20 20:55:11,441 -   Val RMSE0 adjusted: 0.0059\n",
      "2025-08-20 20:55:11,441 -   Mean all prediction: 1.0007\n",
      "2025-08-20 20:55:11,441 -   Mean above prediction: 0.9976\n",
      "2025-08-20 20:55:11,441 -   Mean below prediction: 0.9920\n",
      "2025-08-20 20:55:11,441 -   Quantile 0.99 for distance in mask above: 5712.079999999993\n",
      "2025-08-20 20:55:11,441 -   Quantile 0.99 for distance in mask below: 3747.4399999999896\n",
      "2025-08-20 20:55:11,441 -   Ratio for quantile-distance-to-length above: 0.0087\n",
      "2025-08-20 20:55:11,441 -   Ratio for quantile-distance-to-length below: 0.0057\n",
      "2025-08-20 20:55:11,441 -   Score: 0.9992\n"
     ]
    },
    {
     "name": "stderr",
     "output_type": "stream",
     "text": [
      "[I 2025-08-20 20:55:11,489] Trial 117 finished with value: 0.9992117732195626 and parameters: {'year_start': 2022, 'idxAfterPrediction': 3, 'LoadupSamples_time_inc_factor': 76, 'timesteps': 85, 'LSTM_learning_rate': 4.4587759783554816e-05, 'LSTM_dropout': 0.0883330833930548, 'is_single_feature': False}. Best is trial 31 with value: 1.0049487769776475.\n"
     ]
    },
    {
     "name": "stdout",
     "output_type": "stream",
     "text": [
      "2025-08-20 20:55:11,489 - Trial 117 finished with value: 0.9992117732195626 and parameters: {'year_start': 2022, 'idxAfterPrediction': 3, 'LoadupSamples_time_inc_factor': 76, 'timesteps': 85, 'LSTM_learning_rate': 4.4587759783554816e-05, 'LSTM_dropout': 0.0883330833930548, 'is_single_feature': False}. Best is trial 31 with value: 1.0049487769776475.\n",
      "2025-08-20 20:55:17,371 - Non-finite/too-large values in train y time: 36 samples.\n",
      "2025-08-20 20:55:17,371 - Removing 36 samples from training data.\n"
     ]
    },
    {
     "name": "stderr",
     "output_type": "stream",
     "text": [
      "Epochs:   0%|          | 0/2 [00:00<?, ?it/s]"
     ]
    },
    {
     "name": "stdout",
     "output_type": "stream",
     "text": [
      "2025-08-20 20:55:40,101 - Epoch 1/2 — Train RMSE: 0.6813 — Validation RMSE: 0.6034\n"
     ]
    },
    {
     "name": "stderr",
     "output_type": "stream",
     "text": [
      "Epochs:  50%|█████     | 1/2 [00:15<00:15, 15.32s/it]"
     ]
    },
    {
     "name": "stdout",
     "output_type": "stream",
     "text": [
      "2025-08-20 20:55:55,356 - Epoch 2/2 — Train RMSE: 0.5581 — Validation RMSE: 0.4825\n"
     ]
    },
    {
     "name": "stderr",
     "output_type": "stream",
     "text": [
      "Epochs: 100%|██████████| 2/2 [00:30<00:00, 15.29s/it]\n"
     ]
    },
    {
     "name": "stdout",
     "output_type": "stream",
     "text": [
      "2025-08-20 20:55:58,972 - Trial 118 with params: {'idxAfterPrediction': 3, 'timesteps': 85, 'target_option': 'last', 'LoadupSamples_time_scaling_stretch': True, 'LoadupSamples_time_inc_factor': 76, 'LSTM_units': 16, 'LSTM_num_layers': 1, 'LSTM_dropout': 0.07213328670063786, 'LSTM_recurrent_dropout': 0.001, 'LSTM_learning_rate': 6.135105935247578e-05, 'LSTM_optimizer': 'adam', 'LSTM_bidirectional': True, 'LSTM_batch_size': 4096, 'LSTM_epochs': 2, 'LSTM_l1': 0.001, 'LSTM_l2': 0.001, 'LSTM_inter_dropout': 0.001, 'LSTM_input_gaussian_noise': 0.001, 'LSTM_conv1d': True, 'LSTM_conv1d_kernel_size': 3, 'LSTM_loss': 'mse', 'year_start': 2022, 'is_single_feature': False}\n",
      "2025-08-20 20:55:58,972 -   q0: 0.9980\n",
      "2025-08-20 20:55:58,972 -   Duration0: 0:00:34.291323\n",
      "2025-08-20 20:55:58,972 -   Val RMSE0 adjusted: 0.0063\n",
      "2025-08-20 20:55:58,972 -   Mean all prediction: 1.0007\n",
      "2025-08-20 20:55:58,972 -   Mean above prediction: 1.0012\n",
      "2025-08-20 20:55:58,972 -   Mean below prediction: 0.9962\n",
      "2025-08-20 20:55:58,972 -   Quantile 0.99 for distance in mask above: 3878.939999999987\n",
      "2025-08-20 20:55:58,972 -   Quantile 0.99 for distance in mask below: 4798.259999999976\n",
      "2025-08-20 20:55:58,972 -   Ratio for quantile-distance-to-length above: 0.0059\n",
      "2025-08-20 20:55:58,972 -   Ratio for quantile-distance-to-length below: 0.0073\n",
      "2025-08-20 20:55:58,972 -   Score: 1.0004\n"
     ]
    },
    {
     "name": "stderr",
     "output_type": "stream",
     "text": [
      "[I 2025-08-20 20:55:59,022] Trial 118 finished with value: 1.0003936718963586 and parameters: {'year_start': 2022, 'idxAfterPrediction': 3, 'LoadupSamples_time_inc_factor': 76, 'timesteps': 85, 'LSTM_learning_rate': 6.135105935247578e-05, 'LSTM_dropout': 0.07213328670063786, 'is_single_feature': False}. Best is trial 31 with value: 1.0049487769776475.\n"
     ]
    },
    {
     "name": "stdout",
     "output_type": "stream",
     "text": [
      "2025-08-20 20:55:59,022 - Trial 118 finished with value: 1.0003936718963586 and parameters: {'year_start': 2022, 'idxAfterPrediction': 3, 'LoadupSamples_time_inc_factor': 76, 'timesteps': 85, 'LSTM_learning_rate': 6.135105935247578e-05, 'LSTM_dropout': 0.07213328670063786, 'is_single_feature': False}. Best is trial 31 with value: 1.0049487769776475.\n",
      "2025-08-20 20:56:04,836 - Non-finite/too-large values in train y time: 36 samples.\n",
      "2025-08-20 20:56:04,836 - Removing 36 samples from training data.\n"
     ]
    },
    {
     "name": "stderr",
     "output_type": "stream",
     "text": [
      "Epochs:   0%|          | 0/2 [00:00<?, ?it/s]"
     ]
    },
    {
     "name": "stdout",
     "output_type": "stream",
     "text": [
      "2025-08-20 20:56:26,995 - Epoch 1/2 — Train RMSE: 0.5292 — Validation RMSE: 0.4813\n"
     ]
    },
    {
     "name": "stderr",
     "output_type": "stream",
     "text": [
      "Epochs:  50%|█████     | 1/2 [00:15<00:15, 15.04s/it]"
     ]
    },
    {
     "name": "stdout",
     "output_type": "stream",
     "text": [
      "2025-08-20 20:56:42,233 - Epoch 2/2 — Train RMSE: 0.4698 — Validation RMSE: 0.4381\n"
     ]
    },
    {
     "name": "stderr",
     "output_type": "stream",
     "text": [
      "Epochs: 100%|██████████| 2/2 [00:30<00:00, 15.14s/it]\n"
     ]
    },
    {
     "name": "stdout",
     "output_type": "stream",
     "text": [
      "2025-08-20 20:56:45,723 - Trial 119 with params: {'idxAfterPrediction': 3, 'timesteps': 80, 'target_option': 'last', 'LoadupSamples_time_scaling_stretch': True, 'LoadupSamples_time_inc_factor': 81, 'LSTM_units': 16, 'LSTM_num_layers': 1, 'LSTM_dropout': 0.001548603978169446, 'LSTM_recurrent_dropout': 0.001, 'LSTM_learning_rate': 3.7711176740546066e-05, 'LSTM_optimizer': 'adam', 'LSTM_bidirectional': True, 'LSTM_batch_size': 4096, 'LSTM_epochs': 2, 'LSTM_l1': 0.001, 'LSTM_l2': 0.001, 'LSTM_inter_dropout': 0.001, 'LSTM_input_gaussian_noise': 0.001, 'LSTM_conv1d': True, 'LSTM_conv1d_kernel_size': 3, 'LSTM_loss': 'mse', 'year_start': 2022, 'is_single_feature': True}\n",
      "2025-08-20 20:56:45,723 -   q0: 0.9980\n",
      "2025-08-20 20:56:45,723 -   Duration0: 0:00:33.814707\n",
      "2025-08-20 20:56:45,723 -   Val RMSE0 adjusted: 0.0054\n",
      "2025-08-20 20:56:45,723 -   Mean all prediction: 1.0007\n",
      "2025-08-20 20:56:45,723 -   Mean above prediction: 0.9961\n",
      "2025-08-20 20:56:45,723 -   Mean below prediction: 1.0037\n",
      "2025-08-20 20:56:45,723 -   Quantile 0.99 for distance in mask above: 4169.399999999996\n",
      "2025-08-20 20:56:45,723 -   Quantile 0.99 for distance in mask below: 3389.479999999998\n",
      "2025-08-20 20:56:45,723 -   Ratio for quantile-distance-to-length above: 0.0063\n",
      "2025-08-20 20:56:45,723 -   Ratio for quantile-distance-to-length below: 0.0052\n",
      "2025-08-20 20:56:45,723 -   Score: 0.9987\n"
     ]
    },
    {
     "name": "stderr",
     "output_type": "stream",
     "text": [
      "[I 2025-08-20 20:56:45,786] Trial 119 finished with value: 0.9986999285597002 and parameters: {'year_start': 2022, 'idxAfterPrediction': 3, 'LoadupSamples_time_inc_factor': 81, 'timesteps': 80, 'LSTM_learning_rate': 3.7711176740546066e-05, 'LSTM_dropout': 0.001548603978169446, 'is_single_feature': True}. Best is trial 31 with value: 1.0049487769776475.\n"
     ]
    },
    {
     "name": "stdout",
     "output_type": "stream",
     "text": [
      "2025-08-20 20:56:45,786 - Trial 119 finished with value: 0.9986999285597002 and parameters: {'year_start': 2022, 'idxAfterPrediction': 3, 'LoadupSamples_time_inc_factor': 81, 'timesteps': 80, 'LSTM_learning_rate': 3.7711176740546066e-05, 'LSTM_dropout': 0.001548603978169446, 'is_single_feature': True}. Best is trial 31 with value: 1.0049487769776475.\n",
      "2025-08-20 20:56:51,557 - Non-finite/too-large values in train y time: 36 samples.\n",
      "2025-08-20 20:56:51,557 - Removing 36 samples from training data.\n"
     ]
    },
    {
     "name": "stderr",
     "output_type": "stream",
     "text": [
      "Epochs:   0%|          | 0/2 [00:00<?, ?it/s]"
     ]
    },
    {
     "name": "stdout",
     "output_type": "stream",
     "text": [
      "2025-08-20 20:57:12,456 - Epoch 1/2 — Train RMSE: 0.5802 — Validation RMSE: 0.5443\n"
     ]
    },
    {
     "name": "stderr",
     "output_type": "stream",
     "text": [
      "Epochs:  50%|█████     | 1/2 [00:15<00:15, 15.14s/it]"
     ]
    },
    {
     "name": "stdout",
     "output_type": "stream",
     "text": [
      "2025-08-20 20:57:27,861 - Epoch 2/2 — Train RMSE: 0.5418 — Validation RMSE: 0.5095\n"
     ]
    },
    {
     "name": "stderr",
     "output_type": "stream",
     "text": [
      "Epochs: 100%|██████████| 2/2 [00:30<00:00, 15.27s/it]\n"
     ]
    },
    {
     "name": "stdout",
     "output_type": "stream",
     "text": [
      "2025-08-20 20:57:31,637 - Trial 120 with params: {'idxAfterPrediction': 3, 'timesteps': 65, 'target_option': 'last', 'LoadupSamples_time_scaling_stretch': True, 'LoadupSamples_time_inc_factor': 76, 'LSTM_units': 16, 'LSTM_num_layers': 1, 'LSTM_dropout': 0.011761060613204269, 'LSTM_recurrent_dropout': 0.001, 'LSTM_learning_rate': 3.183239303292679e-05, 'LSTM_optimizer': 'adam', 'LSTM_bidirectional': True, 'LSTM_batch_size': 4096, 'LSTM_epochs': 2, 'LSTM_l1': 0.001, 'LSTM_l2': 0.001, 'LSTM_inter_dropout': 0.001, 'LSTM_input_gaussian_noise': 0.001, 'LSTM_conv1d': True, 'LSTM_conv1d_kernel_size': 3, 'LSTM_loss': 'mse', 'year_start': 2022, 'is_single_feature': False}\n",
      "2025-08-20 20:57:31,637 -   q0: 0.9980\n",
      "2025-08-20 20:57:31,637 -   Duration0: 0:00:34.421442\n",
      "2025-08-20 20:57:31,637 -   Val RMSE0 adjusted: 0.0067\n",
      "2025-08-20 20:57:31,637 -   Mean all prediction: 1.0007\n",
      "2025-08-20 20:57:31,637 -   Mean above prediction: 1.0074\n",
      "2025-08-20 20:57:31,637 -   Mean below prediction: 1.0017\n",
      "2025-08-20 20:57:31,637 -   Quantile 0.99 for distance in mask above: 4325.079999999973\n",
      "2025-08-20 20:57:31,637 -   Quantile 0.99 for distance in mask below: 3246.9399999999823\n",
      "2025-08-20 20:57:31,637 -   Ratio for quantile-distance-to-length above: 0.0066\n",
      "2025-08-20 20:57:31,637 -   Ratio for quantile-distance-to-length below: 0.0049\n",
      "2025-08-20 20:57:31,637 -   Score: 1.0025\n"
     ]
    },
    {
     "name": "stderr",
     "output_type": "stream",
     "text": [
      "[I 2025-08-20 20:57:31,685] Trial 120 finished with value: 1.0024640554563975 and parameters: {'year_start': 2022, 'idxAfterPrediction': 3, 'LoadupSamples_time_inc_factor': 76, 'timesteps': 65, 'LSTM_learning_rate': 3.183239303292679e-05, 'LSTM_dropout': 0.011761060613204269, 'is_single_feature': False}. Best is trial 31 with value: 1.0049487769776475.\n"
     ]
    },
    {
     "name": "stdout",
     "output_type": "stream",
     "text": [
      "2025-08-20 20:57:31,685 - Trial 120 finished with value: 1.0024640554563975 and parameters: {'year_start': 2022, 'idxAfterPrediction': 3, 'LoadupSamples_time_inc_factor': 76, 'timesteps': 65, 'LSTM_learning_rate': 3.183239303292679e-05, 'LSTM_dropout': 0.011761060613204269, 'is_single_feature': False}. Best is trial 31 with value: 1.0049487769776475.\n",
      "2025-08-20 20:57:37,524 - Non-finite/too-large values in train y time: 36 samples.\n",
      "2025-08-20 20:57:37,524 - Removing 36 samples from training data.\n"
     ]
    },
    {
     "name": "stderr",
     "output_type": "stream",
     "text": [
      "Epochs:   0%|          | 0/2 [00:00<?, ?it/s]"
     ]
    },
    {
     "name": "stdout",
     "output_type": "stream",
     "text": [
      "2025-08-20 20:58:00,784 - Epoch 1/2 — Train RMSE: 0.5134 — Validation RMSE: 0.4580\n"
     ]
    },
    {
     "name": "stderr",
     "output_type": "stream",
     "text": [
      "Epochs:  50%|█████     | 1/2 [00:15<00:15, 15.53s/it]"
     ]
    },
    {
     "name": "stdout",
     "output_type": "stream",
     "text": [
      "2025-08-20 20:58:16,368 - Epoch 2/2 — Train RMSE: 0.4464 — Validation RMSE: 0.4166\n"
     ]
    },
    {
     "name": "stderr",
     "output_type": "stream",
     "text": [
      "Epochs: 100%|██████████| 2/2 [00:31<00:00, 15.55s/it]\n"
     ]
    },
    {
     "name": "stdout",
     "output_type": "stream",
     "text": [
      "2025-08-20 20:58:20,114 - Trial 121 with params: {'idxAfterPrediction': 3, 'timesteps': 90, 'target_option': 'last', 'LoadupSamples_time_scaling_stretch': True, 'LoadupSamples_time_inc_factor': 71, 'LSTM_units': 16, 'LSTM_num_layers': 1, 'LSTM_dropout': 0.004315515179531815, 'LSTM_recurrent_dropout': 0.001, 'LSTM_learning_rate': 7.042419152670055e-05, 'LSTM_optimizer': 'adam', 'LSTM_bidirectional': True, 'LSTM_batch_size': 4096, 'LSTM_epochs': 2, 'LSTM_l1': 0.001, 'LSTM_l2': 0.001, 'LSTM_inter_dropout': 0.001, 'LSTM_input_gaussian_noise': 0.001, 'LSTM_conv1d': True, 'LSTM_conv1d_kernel_size': 3, 'LSTM_loss': 'mse', 'year_start': 2022, 'is_single_feature': False}\n",
      "2025-08-20 20:58:20,114 -   q0: 0.9980\n",
      "2025-08-20 20:58:20,114 -   Duration0: 0:00:34.948595\n",
      "2025-08-20 20:58:20,114 -   Val RMSE0 adjusted: 0.0059\n",
      "2025-08-20 20:58:20,114 -   Mean all prediction: 1.0007\n",
      "2025-08-20 20:58:20,114 -   Mean above prediction: 1.0128\n",
      "2025-08-20 20:58:20,114 -   Mean below prediction: 1.0158\n",
      "2025-08-20 20:58:20,114 -   Quantile 0.99 for distance in mask above: 4635.079999999977\n",
      "2025-08-20 20:58:20,114 -   Quantile 0.99 for distance in mask below: 4992.659999999997\n",
      "2025-08-20 20:58:20,114 -   Ratio for quantile-distance-to-length above: 0.0070\n",
      "2025-08-20 20:58:20,114 -   Ratio for quantile-distance-to-length below: 0.0076\n",
      "2025-08-20 20:58:20,114 -   Score: 1.0043\n"
     ]
    },
    {
     "name": "stderr",
     "output_type": "stream",
     "text": [
      "[I 2025-08-20 20:58:20,171] Trial 121 finished with value: 1.004260631692027 and parameters: {'year_start': 2022, 'idxAfterPrediction': 3, 'LoadupSamples_time_inc_factor': 71, 'timesteps': 90, 'LSTM_learning_rate': 7.042419152670055e-05, 'LSTM_dropout': 0.004315515179531815, 'is_single_feature': False}. Best is trial 31 with value: 1.0049487769776475.\n"
     ]
    },
    {
     "name": "stdout",
     "output_type": "stream",
     "text": [
      "2025-08-20 20:58:20,171 - Trial 121 finished with value: 1.004260631692027 and parameters: {'year_start': 2022, 'idxAfterPrediction': 3, 'LoadupSamples_time_inc_factor': 71, 'timesteps': 90, 'LSTM_learning_rate': 7.042419152670055e-05, 'LSTM_dropout': 0.004315515179531815, 'is_single_feature': False}. Best is trial 31 with value: 1.0049487769776475.\n",
      "2025-08-20 20:58:26,011 - Non-finite/too-large values in train y time: 36 samples.\n",
      "2025-08-20 20:58:26,011 - Removing 36 samples from training data.\n"
     ]
    },
    {
     "name": "stderr",
     "output_type": "stream",
     "text": [
      "Epochs:   0%|          | 0/2 [00:00<?, ?it/s]"
     ]
    },
    {
     "name": "stdout",
     "output_type": "stream",
     "text": [
      "2025-08-20 20:58:49,229 - Epoch 1/2 — Train RMSE: 0.5537 — Validation RMSE: 0.4997\n"
     ]
    },
    {
     "name": "stderr",
     "output_type": "stream",
     "text": [
      "Epochs:  50%|█████     | 1/2 [00:15<00:15, 15.46s/it]"
     ]
    },
    {
     "name": "stdout",
     "output_type": "stream",
     "text": [
      "2025-08-20 20:59:04,833 - Epoch 2/2 — Train RMSE: 0.4811 — Validation RMSE: 0.4382\n"
     ]
    },
    {
     "name": "stderr",
     "output_type": "stream",
     "text": [
      "Epochs: 100%|██████████| 2/2 [00:31<00:00, 15.53s/it]\n"
     ]
    },
    {
     "name": "stdout",
     "output_type": "stream",
     "text": [
      "2025-08-20 20:59:08,356 - Trial 122 with params: {'idxAfterPrediction': 3, 'timesteps': 90, 'target_option': 'last', 'LoadupSamples_time_scaling_stretch': True, 'LoadupSamples_time_inc_factor': 71, 'LSTM_units': 16, 'LSTM_num_layers': 1, 'LSTM_dropout': 0.0022123917287502027, 'LSTM_recurrent_dropout': 0.001, 'LSTM_learning_rate': 5.662654731718078e-05, 'LSTM_optimizer': 'adam', 'LSTM_bidirectional': True, 'LSTM_batch_size': 4096, 'LSTM_epochs': 2, 'LSTM_l1': 0.001, 'LSTM_l2': 0.001, 'LSTM_inter_dropout': 0.001, 'LSTM_input_gaussian_noise': 0.001, 'LSTM_conv1d': True, 'LSTM_conv1d_kernel_size': 3, 'LSTM_loss': 'mse', 'year_start': 2022, 'is_single_feature': False}\n",
      "2025-08-20 20:59:08,356 -   q0: 0.9980\n",
      "2025-08-20 20:59:08,356 -   Duration0: 0:00:34.723169\n",
      "2025-08-20 20:59:08,356 -   Val RMSE0 adjusted: 0.0062\n",
      "2025-08-20 20:59:08,356 -   Mean all prediction: 1.0007\n",
      "2025-08-20 20:59:08,356 -   Mean above prediction: 0.9976\n",
      "2025-08-20 20:59:08,356 -   Mean below prediction: 1.0039\n",
      "2025-08-20 20:59:08,356 -   Quantile 0.99 for distance in mask above: 4429.4199999999955\n",
      "2025-08-20 20:59:08,356 -   Quantile 0.99 for distance in mask below: 4085.8999999999987\n",
      "2025-08-20 20:59:08,356 -   Ratio for quantile-distance-to-length above: 0.0067\n",
      "2025-08-20 20:59:08,356 -   Ratio for quantile-distance-to-length below: 0.0062\n",
      "2025-08-20 20:59:08,356 -   Score: 0.9992\n"
     ]
    },
    {
     "name": "stderr",
     "output_type": "stream",
     "text": [
      "[I 2025-08-20 20:59:08,415] Trial 122 finished with value: 0.9992146170439724 and parameters: {'year_start': 2022, 'idxAfterPrediction': 3, 'LoadupSamples_time_inc_factor': 71, 'timesteps': 90, 'LSTM_learning_rate': 5.662654731718078e-05, 'LSTM_dropout': 0.0022123917287502027, 'is_single_feature': False}. Best is trial 31 with value: 1.0049487769776475.\n"
     ]
    },
    {
     "name": "stdout",
     "output_type": "stream",
     "text": [
      "2025-08-20 20:59:08,415 - Trial 122 finished with value: 0.9992146170439724 and parameters: {'year_start': 2022, 'idxAfterPrediction': 3, 'LoadupSamples_time_inc_factor': 71, 'timesteps': 90, 'LSTM_learning_rate': 5.662654731718078e-05, 'LSTM_dropout': 0.0022123917287502027, 'is_single_feature': False}. Best is trial 31 with value: 1.0049487769776475.\n",
      "2025-08-20 20:59:14,277 - Non-finite/too-large values in train y time: 36 samples.\n",
      "2025-08-20 20:59:14,277 - Removing 36 samples from training data.\n"
     ]
    },
    {
     "name": "stderr",
     "output_type": "stream",
     "text": [
      "Epochs:   0%|          | 0/2 [00:00<?, ?it/s]"
     ]
    },
    {
     "name": "stdout",
     "output_type": "stream",
     "text": [
      "2025-08-20 20:59:37,099 - Epoch 1/2 — Train RMSE: 0.6081 — Validation RMSE: 0.5274\n"
     ]
    },
    {
     "name": "stderr",
     "output_type": "stream",
     "text": [
      "Epochs:  50%|█████     | 1/2 [00:15<00:15, 15.44s/it]"
     ]
    },
    {
     "name": "stdout",
     "output_type": "stream",
     "text": [
      "2025-08-20 20:59:52,630 - Epoch 2/2 — Train RMSE: 0.4849 — Validation RMSE: 0.4251\n"
     ]
    },
    {
     "name": "stderr",
     "output_type": "stream",
     "text": [
      "Epochs: 100%|██████████| 2/2 [00:30<00:00, 15.49s/it]\n"
     ]
    },
    {
     "name": "stdout",
     "output_type": "stream",
     "text": [
      "2025-08-20 20:59:56,401 - Trial 123 with params: {'idxAfterPrediction': 3, 'timesteps': 85, 'target_option': 'last', 'LoadupSamples_time_scaling_stretch': True, 'LoadupSamples_time_inc_factor': 71, 'LSTM_units': 16, 'LSTM_num_layers': 1, 'LSTM_dropout': 0.005165916218312343, 'LSTM_recurrent_dropout': 0.001, 'LSTM_learning_rate': 7.25474757248809e-05, 'LSTM_optimizer': 'adam', 'LSTM_bidirectional': True, 'LSTM_batch_size': 4096, 'LSTM_epochs': 2, 'LSTM_l1': 0.001, 'LSTM_l2': 0.001, 'LSTM_inter_dropout': 0.001, 'LSTM_input_gaussian_noise': 0.001, 'LSTM_conv1d': True, 'LSTM_conv1d_kernel_size': 3, 'LSTM_loss': 'mse', 'year_start': 2022, 'is_single_feature': False}\n",
      "2025-08-20 20:59:56,401 -   q0: 0.9980\n",
      "2025-08-20 20:59:56,401 -   Duration0: 0:00:34.866443\n",
      "2025-08-20 20:59:56,401 -   Val RMSE0 adjusted: 0.0060\n",
      "2025-08-20 20:59:56,417 -   Mean all prediction: 1.0007\n",
      "2025-08-20 20:59:56,417 -   Mean above prediction: 1.0027\n",
      "2025-08-20 20:59:56,417 -   Mean below prediction: 0.9978\n",
      "2025-08-20 20:59:56,417 -   Quantile 0.99 for distance in mask above: 3945.6399999999976\n",
      "2025-08-20 20:59:56,417 -   Quantile 0.99 for distance in mask below: 3118.0399999999936\n",
      "2025-08-20 20:59:56,417 -   Ratio for quantile-distance-to-length above: 0.0060\n",
      "2025-08-20 20:59:56,417 -   Ratio for quantile-distance-to-length below: 0.0047\n",
      "2025-08-20 20:59:56,417 -   Score: 1.0009\n"
     ]
    },
    {
     "name": "stderr",
     "output_type": "stream",
     "text": [
      "[I 2025-08-20 20:59:56,464] Trial 123 finished with value: 1.0008871276731888 and parameters: {'year_start': 2022, 'idxAfterPrediction': 3, 'LoadupSamples_time_inc_factor': 71, 'timesteps': 85, 'LSTM_learning_rate': 7.25474757248809e-05, 'LSTM_dropout': 0.005165916218312343, 'is_single_feature': False}. Best is trial 31 with value: 1.0049487769776475.\n"
     ]
    },
    {
     "name": "stdout",
     "output_type": "stream",
     "text": [
      "2025-08-20 20:59:56,464 - Trial 123 finished with value: 1.0008871276731888 and parameters: {'year_start': 2022, 'idxAfterPrediction': 3, 'LoadupSamples_time_inc_factor': 71, 'timesteps': 85, 'LSTM_learning_rate': 7.25474757248809e-05, 'LSTM_dropout': 0.005165916218312343, 'is_single_feature': False}. Best is trial 31 with value: 1.0049487769776475.\n",
      "2025-08-20 21:00:02,424 - Non-finite/too-large values in train y time: 36 samples.\n",
      "2025-08-20 21:00:02,424 - Removing 36 samples from training data.\n"
     ]
    },
    {
     "name": "stderr",
     "output_type": "stream",
     "text": [
      "Epochs:   0%|          | 0/2 [00:00<?, ?it/s]"
     ]
    },
    {
     "name": "stdout",
     "output_type": "stream",
     "text": [
      "2025-08-20 21:00:25,800 - Epoch 1/2 — Train RMSE: 0.6350 — Validation RMSE: 0.5777\n"
     ]
    },
    {
     "name": "stderr",
     "output_type": "stream",
     "text": [
      "Epochs:  50%|█████     | 1/2 [00:15<00:15, 15.60s/it]"
     ]
    },
    {
     "name": "stdout",
     "output_type": "stream",
     "text": [
      "2025-08-20 21:00:41,411 - Epoch 2/2 — Train RMSE: 0.5528 — Validation RMSE: 0.4949\n"
     ]
    },
    {
     "name": "stderr",
     "output_type": "stream",
     "text": [
      "Epochs: 100%|██████████| 2/2 [00:31<00:00, 15.60s/it]\n"
     ]
    },
    {
     "name": "stdout",
     "output_type": "stream",
     "text": [
      "2025-08-20 21:00:45,055 - Trial 124 with params: {'idxAfterPrediction': 3, 'timesteps': 90, 'target_option': 'last', 'LoadupSamples_time_scaling_stretch': True, 'LoadupSamples_time_inc_factor': 76, 'LSTM_units': 16, 'LSTM_num_layers': 1, 'LSTM_dropout': 0.004812460092141008, 'LSTM_recurrent_dropout': 0.001, 'LSTM_learning_rate': 4.700212874742098e-05, 'LSTM_optimizer': 'adam', 'LSTM_bidirectional': True, 'LSTM_batch_size': 4096, 'LSTM_epochs': 2, 'LSTM_l1': 0.001, 'LSTM_l2': 0.001, 'LSTM_inter_dropout': 0.001, 'LSTM_input_gaussian_noise': 0.001, 'LSTM_conv1d': True, 'LSTM_conv1d_kernel_size': 3, 'LSTM_loss': 'mse', 'year_start': 2022, 'is_single_feature': False}\n",
      "2025-08-20 21:00:45,071 -   q0: 0.9980\n",
      "2025-08-20 21:00:45,071 -   Duration0: 0:00:34.993535\n",
      "2025-08-20 21:00:45,071 -   Val RMSE0 adjusted: 0.0065\n",
      "2025-08-20 21:00:45,071 -   Mean all prediction: 1.0007\n",
      "2025-08-20 21:00:45,071 -   Mean above prediction: 0.9954\n",
      "2025-08-20 21:00:45,071 -   Mean below prediction: 0.9928\n",
      "2025-08-20 21:00:45,071 -   Quantile 0.99 for distance in mask above: 4656.559999999996\n",
      "2025-08-20 21:00:45,071 -   Quantile 0.99 for distance in mask below: 3852.799999999972\n",
      "2025-08-20 21:00:45,071 -   Ratio for quantile-distance-to-length above: 0.0071\n",
      "2025-08-20 21:00:45,071 -   Ratio for quantile-distance-to-length below: 0.0059\n",
      "2025-08-20 21:00:45,071 -   Score: 0.9985\n"
     ]
    },
    {
     "name": "stderr",
     "output_type": "stream",
     "text": [
      "[I 2025-08-20 21:00:45,118] Trial 124 finished with value: 0.9984587683165679 and parameters: {'year_start': 2022, 'idxAfterPrediction': 3, 'LoadupSamples_time_inc_factor': 76, 'timesteps': 90, 'LSTM_learning_rate': 4.700212874742098e-05, 'LSTM_dropout': 0.004812460092141008, 'is_single_feature': False}. Best is trial 31 with value: 1.0049487769776475.\n"
     ]
    },
    {
     "name": "stdout",
     "output_type": "stream",
     "text": [
      "2025-08-20 21:00:45,118 - Trial 124 finished with value: 0.9984587683165679 and parameters: {'year_start': 2022, 'idxAfterPrediction': 3, 'LoadupSamples_time_inc_factor': 76, 'timesteps': 90, 'LSTM_learning_rate': 4.700212874742098e-05, 'LSTM_dropout': 0.004812460092141008, 'is_single_feature': False}. Best is trial 31 with value: 1.0049487769776475.\n",
      "2025-08-20 21:00:50,939 - Non-finite/too-large values in train y time: 36 samples.\n",
      "2025-08-20 21:00:50,955 - Removing 36 samples from training data.\n"
     ]
    },
    {
     "name": "stderr",
     "output_type": "stream",
     "text": [
      "Epochs:   0%|          | 0/2 [00:00<?, ?it/s]"
     ]
    },
    {
     "name": "stdout",
     "output_type": "stream",
     "text": [
      "2025-08-20 21:01:13,451 - Epoch 1/2 — Train RMSE: 0.6669 — Validation RMSE: 0.6188\n"
     ]
    },
    {
     "name": "stderr",
     "output_type": "stream",
     "text": [
      "Epochs:  50%|█████     | 1/2 [00:15<00:15, 15.47s/it]"
     ]
    },
    {
     "name": "stdout",
     "output_type": "stream",
     "text": [
      "2025-08-20 21:01:28,929 - Epoch 2/2 — Train RMSE: 0.6048 — Validation RMSE: 0.5592\n"
     ]
    },
    {
     "name": "stderr",
     "output_type": "stream",
     "text": [
      "Epochs: 100%|██████████| 2/2 [00:30<00:00, 15.47s/it]\n"
     ]
    },
    {
     "name": "stdout",
     "output_type": "stream",
     "text": [
      "2025-08-20 21:01:32,476 - Trial 125 with params: {'idxAfterPrediction': 3, 'timesteps': 80, 'target_option': 'last', 'LoadupSamples_time_scaling_stretch': True, 'LoadupSamples_time_inc_factor': 71, 'LSTM_units': 16, 'LSTM_num_layers': 1, 'LSTM_dropout': 0.0011889105215408533, 'LSTM_recurrent_dropout': 0.001, 'LSTM_learning_rate': 2.777822047134195e-05, 'LSTM_optimizer': 'adam', 'LSTM_bidirectional': True, 'LSTM_batch_size': 4096, 'LSTM_epochs': 2, 'LSTM_l1': 0.001, 'LSTM_l2': 0.001, 'LSTM_inter_dropout': 0.001, 'LSTM_input_gaussian_noise': 0.001, 'LSTM_conv1d': True, 'LSTM_conv1d_kernel_size': 3, 'LSTM_loss': 'mse', 'year_start': 2022, 'is_single_feature': False}\n",
      "2025-08-20 21:01:32,476 -   q0: 0.9980\n",
      "2025-08-20 21:01:32,476 -   Duration0: 0:00:34.571791\n",
      "2025-08-20 21:01:32,476 -   Val RMSE0 adjusted: 0.0079\n",
      "2025-08-20 21:01:32,476 -   Mean all prediction: 1.0007\n",
      "2025-08-20 21:01:32,476 -   Mean above prediction: 1.0050\n",
      "2025-08-20 21:01:32,476 -   Mean below prediction: 1.0054\n",
      "2025-08-20 21:01:32,476 -   Quantile 0.99 for distance in mask above: 6555.97999999995\n",
      "2025-08-20 21:01:32,476 -   Quantile 0.99 for distance in mask below: 4846.159999999994\n",
      "2025-08-20 21:01:32,476 -   Ratio for quantile-distance-to-length above: 0.0100\n",
      "2025-08-20 21:01:32,476 -   Ratio for quantile-distance-to-length below: 0.0074\n",
      "2025-08-20 21:01:32,476 -   Score: 1.0017\n"
     ]
    },
    {
     "name": "stderr",
     "output_type": "stream",
     "text": [
      "[I 2025-08-20 21:01:32,525] Trial 125 finished with value: 1.0016590975284152 and parameters: {'year_start': 2022, 'idxAfterPrediction': 3, 'LoadupSamples_time_inc_factor': 71, 'timesteps': 80, 'LSTM_learning_rate': 2.777822047134195e-05, 'LSTM_dropout': 0.0011889105215408533, 'is_single_feature': False}. Best is trial 31 with value: 1.0049487769776475.\n"
     ]
    },
    {
     "name": "stdout",
     "output_type": "stream",
     "text": [
      "2025-08-20 21:01:32,525 - Trial 125 finished with value: 1.0016590975284152 and parameters: {'year_start': 2022, 'idxAfterPrediction': 3, 'LoadupSamples_time_inc_factor': 71, 'timesteps': 80, 'LSTM_learning_rate': 2.777822047134195e-05, 'LSTM_dropout': 0.0011889105215408533, 'is_single_feature': False}. Best is trial 31 with value: 1.0049487769776475.\n",
      "2025-08-20 21:01:38,394 - Non-finite/too-large values in train y time: 36 samples.\n",
      "2025-08-20 21:01:38,394 - Removing 36 samples from training data.\n"
     ]
    },
    {
     "name": "stderr",
     "output_type": "stream",
     "text": [
      "Epochs:   0%|          | 0/2 [00:00<?, ?it/s]"
     ]
    },
    {
     "name": "stdout",
     "output_type": "stream",
     "text": [
      "2025-08-20 21:02:01,823 - Epoch 1/2 — Train RMSE: 0.5146 — Validation RMSE: 0.4529\n"
     ]
    },
    {
     "name": "stderr",
     "output_type": "stream",
     "text": [
      "Epochs:  50%|█████     | 1/2 [00:15<00:15, 15.63s/it]"
     ]
    },
    {
     "name": "stdout",
     "output_type": "stream",
     "text": [
      "2025-08-20 21:02:17,460 - Epoch 2/2 — Train RMSE: 0.4401 — Validation RMSE: 0.4139\n"
     ]
    },
    {
     "name": "stderr",
     "output_type": "stream",
     "text": [
      "Epochs: 100%|██████████| 2/2 [00:31<00:00, 15.64s/it]\n"
     ]
    },
    {
     "name": "stdout",
     "output_type": "stream",
     "text": [
      "2025-08-20 21:02:21,257 - Trial 126 with params: {'idxAfterPrediction': 3, 'timesteps': 90, 'target_option': 'last', 'LoadupSamples_time_scaling_stretch': True, 'LoadupSamples_time_inc_factor': 76, 'LSTM_units': 16, 'LSTM_num_layers': 1, 'LSTM_dropout': 0.00314948925074504, 'LSTM_recurrent_dropout': 0.001, 'LSTM_learning_rate': 8.312025015054896e-05, 'LSTM_optimizer': 'adam', 'LSTM_bidirectional': True, 'LSTM_batch_size': 4096, 'LSTM_epochs': 2, 'LSTM_l1': 0.001, 'LSTM_l2': 0.001, 'LSTM_inter_dropout': 0.001, 'LSTM_input_gaussian_noise': 0.001, 'LSTM_conv1d': True, 'LSTM_conv1d_kernel_size': 3, 'LSTM_loss': 'mse', 'year_start': 2022, 'is_single_feature': False}\n",
      "2025-08-20 21:02:21,257 -   q0: 0.9980\n",
      "2025-08-20 21:02:21,257 -   Duration0: 0:00:35.207956\n",
      "2025-08-20 21:02:21,257 -   Val RMSE0 adjusted: 0.0054\n",
      "2025-08-20 21:02:21,257 -   Mean all prediction: 1.0007\n",
      "2025-08-20 21:02:21,257 -   Mean above prediction: 1.0071\n",
      "2025-08-20 21:02:21,257 -   Mean below prediction: 1.0043\n",
      "2025-08-20 21:02:21,257 -   Quantile 0.99 for distance in mask above: 4109.659999999982\n",
      "2025-08-20 21:02:21,257 -   Quantile 0.99 for distance in mask below: 5433.379999999992\n",
      "2025-08-20 21:02:21,257 -   Ratio for quantile-distance-to-length above: 0.0062\n",
      "2025-08-20 21:02:21,257 -   Ratio for quantile-distance-to-length below: 0.0083\n",
      "2025-08-20 21:02:21,257 -   Score: 1.0024\n"
     ]
    },
    {
     "name": "stderr",
     "output_type": "stream",
     "text": [
      "[I 2025-08-20 21:02:21,321] Trial 126 finished with value: 1.0023737032810303 and parameters: {'year_start': 2022, 'idxAfterPrediction': 3, 'LoadupSamples_time_inc_factor': 76, 'timesteps': 90, 'LSTM_learning_rate': 8.312025015054896e-05, 'LSTM_dropout': 0.00314948925074504, 'is_single_feature': False}. Best is trial 31 with value: 1.0049487769776475.\n"
     ]
    },
    {
     "name": "stdout",
     "output_type": "stream",
     "text": [
      "2025-08-20 21:02:21,321 - Trial 126 finished with value: 1.0023737032810303 and parameters: {'year_start': 2022, 'idxAfterPrediction': 3, 'LoadupSamples_time_inc_factor': 76, 'timesteps': 90, 'LSTM_learning_rate': 8.312025015054896e-05, 'LSTM_dropout': 0.00314948925074504, 'is_single_feature': False}. Best is trial 31 with value: 1.0049487769776475.\n",
      "2025-08-20 21:02:27,159 - Non-finite/too-large values in train y time: 36 samples.\n",
      "2025-08-20 21:02:27,175 - Removing 36 samples from training data.\n"
     ]
    },
    {
     "name": "stderr",
     "output_type": "stream",
     "text": [
      "Epochs:   0%|          | 0/2 [00:00<?, ?it/s]"
     ]
    },
    {
     "name": "stdout",
     "output_type": "stream",
     "text": [
      "2025-08-20 21:02:49,968 - Epoch 1/2 — Train RMSE: 0.5656 — Validation RMSE: 0.5311\n"
     ]
    },
    {
     "name": "stderr",
     "output_type": "stream",
     "text": [
      "Epochs:  50%|█████     | 1/2 [00:15<00:15, 15.34s/it]"
     ]
    },
    {
     "name": "stdout",
     "output_type": "stream",
     "text": [
      "2025-08-20 21:03:05,439 - Epoch 2/2 — Train RMSE: 0.5286 — Validation RMSE: 0.4977\n"
     ]
    },
    {
     "name": "stderr",
     "output_type": "stream",
     "text": [
      "Epochs: 100%|██████████| 2/2 [00:30<00:00, 15.41s/it]\n"
     ]
    },
    {
     "name": "stdout",
     "output_type": "stream",
     "text": [
      "2025-08-20 21:03:09,136 - Trial 127 with params: {'idxAfterPrediction': 3, 'timesteps': 85, 'target_option': 'last', 'LoadupSamples_time_scaling_stretch': True, 'LoadupSamples_time_inc_factor': 81, 'LSTM_units': 16, 'LSTM_num_layers': 1, 'LSTM_dropout': 0.05497980648765398, 'LSTM_recurrent_dropout': 0.001, 'LSTM_learning_rate': 2.0738360582611127e-05, 'LSTM_optimizer': 'adam', 'LSTM_bidirectional': True, 'LSTM_batch_size': 4096, 'LSTM_epochs': 2, 'LSTM_l1': 0.001, 'LSTM_l2': 0.001, 'LSTM_inter_dropout': 0.001, 'LSTM_input_gaussian_noise': 0.001, 'LSTM_conv1d': True, 'LSTM_conv1d_kernel_size': 3, 'LSTM_loss': 'mse', 'year_start': 2022, 'is_single_feature': False}\n",
      "2025-08-20 21:03:09,136 -   q0: 0.9980\n",
      "2025-08-20 21:03:09,136 -   Duration0: 0:00:34.605149\n",
      "2025-08-20 21:03:09,136 -   Val RMSE0 adjusted: 0.0061\n",
      "2025-08-20 21:03:09,136 -   Mean all prediction: 1.0007\n",
      "2025-08-20 21:03:09,136 -   Mean above prediction: 1.0006\n",
      "2025-08-20 21:03:09,136 -   Mean below prediction: 0.9941\n",
      "2025-08-20 21:03:09,136 -   Quantile 0.99 for distance in mask above: 5843.639999999992\n",
      "2025-08-20 21:03:09,136 -   Quantile 0.99 for distance in mask below: 3575.7599999999984\n",
      "2025-08-20 21:03:09,136 -   Ratio for quantile-distance-to-length above: 0.0089\n",
      "2025-08-20 21:03:09,136 -   Ratio for quantile-distance-to-length below: 0.0054\n",
      "2025-08-20 21:03:09,136 -   Score: 1.0002\n"
     ]
    },
    {
     "name": "stderr",
     "output_type": "stream",
     "text": [
      "[I 2025-08-20 21:03:09,186] Trial 127 finished with value: 1.0002066977977118 and parameters: {'year_start': 2022, 'idxAfterPrediction': 3, 'LoadupSamples_time_inc_factor': 81, 'timesteps': 85, 'LSTM_learning_rate': 2.0738360582611127e-05, 'LSTM_dropout': 0.05497980648765398, 'is_single_feature': False}. Best is trial 31 with value: 1.0049487769776475.\n"
     ]
    },
    {
     "name": "stdout",
     "output_type": "stream",
     "text": [
      "2025-08-20 21:03:09,186 - Trial 127 finished with value: 1.0002066977977118 and parameters: {'year_start': 2022, 'idxAfterPrediction': 3, 'LoadupSamples_time_inc_factor': 81, 'timesteps': 85, 'LSTM_learning_rate': 2.0738360582611127e-05, 'LSTM_dropout': 0.05497980648765398, 'is_single_feature': False}. Best is trial 31 with value: 1.0049487769776475.\n",
      "2025-08-20 21:03:15,034 - Non-finite/too-large values in train y time: 36 samples.\n",
      "2025-08-20 21:03:15,034 - Removing 36 samples from training data.\n"
     ]
    },
    {
     "name": "stderr",
     "output_type": "stream",
     "text": [
      "Epochs:   0%|          | 0/2 [00:00<?, ?it/s]"
     ]
    },
    {
     "name": "stdout",
     "output_type": "stream",
     "text": [
      "2025-08-20 21:03:38,357 - Epoch 1/2 — Train RMSE: 0.4613 — Validation RMSE: 0.4126\n"
     ]
    },
    {
     "name": "stderr",
     "output_type": "stream",
     "text": [
      "Epochs:  50%|█████     | 1/2 [00:15<00:15, 15.55s/it]"
     ]
    },
    {
     "name": "stdout",
     "output_type": "stream",
     "text": [
      "2025-08-20 21:03:53,953 - Epoch 2/2 — Train RMSE: 0.4153 — Validation RMSE: 0.4013\n"
     ]
    },
    {
     "name": "stderr",
     "output_type": "stream",
     "text": [
      "Epochs: 100%|██████████| 2/2 [00:31<00:00, 15.57s/it]\n"
     ]
    },
    {
     "name": "stdout",
     "output_type": "stream",
     "text": [
      "2025-08-20 21:03:57,490 - Trial 128 with params: {'idxAfterPrediction': 3, 'timesteps': 90, 'target_option': 'last', 'LoadupSamples_time_scaling_stretch': True, 'LoadupSamples_time_inc_factor': 71, 'LSTM_units': 16, 'LSTM_num_layers': 1, 'LSTM_dropout': 0.0025639570802207675, 'LSTM_recurrent_dropout': 0.001, 'LSTM_learning_rate': 0.00011516288975251016, 'LSTM_optimizer': 'adam', 'LSTM_bidirectional': True, 'LSTM_batch_size': 4096, 'LSTM_epochs': 2, 'LSTM_l1': 0.001, 'LSTM_l2': 0.001, 'LSTM_inter_dropout': 0.001, 'LSTM_input_gaussian_noise': 0.001, 'LSTM_conv1d': True, 'LSTM_conv1d_kernel_size': 3, 'LSTM_loss': 'mse', 'year_start': 2022, 'is_single_feature': False}\n",
      "2025-08-20 21:03:57,490 -   q0: 0.9980\n",
      "2025-08-20 21:03:57,490 -   Duration0: 0:00:34.804969\n",
      "2025-08-20 21:03:57,490 -   Val RMSE0 adjusted: 0.0057\n",
      "2025-08-20 21:03:57,490 -   Mean all prediction: 1.0007\n",
      "2025-08-20 21:03:57,490 -   Mean above prediction: 0.9970\n",
      "2025-08-20 21:03:57,490 -   Mean below prediction: 0.9977\n",
      "2025-08-20 21:03:57,490 -   Quantile 0.99 for distance in mask above: 4496.41999999997\n",
      "2025-08-20 21:03:57,490 -   Quantile 0.99 for distance in mask below: 4242.499999999993\n",
      "2025-08-20 21:03:57,490 -   Ratio for quantile-distance-to-length above: 0.0068\n",
      "2025-08-20 21:03:57,490 -   Ratio for quantile-distance-to-length below: 0.0064\n",
      "2025-08-20 21:03:57,490 -   Score: 0.9990\n"
     ]
    },
    {
     "name": "stderr",
     "output_type": "stream",
     "text": [
      "[I 2025-08-20 21:03:57,544] Trial 128 finished with value: 0.9990061452105579 and parameters: {'year_start': 2022, 'idxAfterPrediction': 3, 'LoadupSamples_time_inc_factor': 71, 'timesteps': 90, 'LSTM_learning_rate': 0.00011516288975251016, 'LSTM_dropout': 0.0025639570802207675, 'is_single_feature': False}. Best is trial 31 with value: 1.0049487769776475.\n"
     ]
    },
    {
     "name": "stdout",
     "output_type": "stream",
     "text": [
      "2025-08-20 21:03:57,544 - Trial 128 finished with value: 0.9990061452105579 and parameters: {'year_start': 2022, 'idxAfterPrediction': 3, 'LoadupSamples_time_inc_factor': 71, 'timesteps': 90, 'LSTM_learning_rate': 0.00011516288975251016, 'LSTM_dropout': 0.0025639570802207675, 'is_single_feature': False}. Best is trial 31 with value: 1.0049487769776475.\n",
      "2025-08-20 21:04:03,370 - Non-finite/too-large values in train y time: 36 samples.\n",
      "2025-08-20 21:04:03,384 - Removing 36 samples from training data.\n"
     ]
    },
    {
     "name": "stderr",
     "output_type": "stream",
     "text": [
      "Epochs:   0%|          | 0/2 [00:00<?, ?it/s]"
     ]
    },
    {
     "name": "stdout",
     "output_type": "stream",
     "text": [
      "2025-08-20 21:04:25,191 - Epoch 1/2 — Train RMSE: 0.7842 — Validation RMSE: 0.6925\n"
     ]
    },
    {
     "name": "stderr",
     "output_type": "stream",
     "text": [
      "Epochs:  50%|█████     | 1/2 [00:15<00:15, 15.24s/it]"
     ]
    },
    {
     "name": "stdout",
     "output_type": "stream",
     "text": [
      "2025-08-20 21:04:40,697 - Epoch 2/2 — Train RMSE: 0.6170 — Validation RMSE: 0.5013\n"
     ]
    },
    {
     "name": "stderr",
     "output_type": "stream",
     "text": [
      "Epochs: 100%|██████████| 2/2 [00:30<00:00, 15.38s/it]\n"
     ]
    },
    {
     "name": "stdout",
     "output_type": "stream",
     "text": [
      "2025-08-20 21:04:44,509 - Trial 129 with params: {'idxAfterPrediction': 3, 'timesteps': 75, 'target_option': 'last', 'LoadupSamples_time_scaling_stretch': True, 'LoadupSamples_time_inc_factor': 66, 'LSTM_units': 16, 'LSTM_num_layers': 1, 'LSTM_dropout': 0.004336298431024232, 'LSTM_recurrent_dropout': 0.001, 'LSTM_learning_rate': 6.592556495201906e-05, 'LSTM_optimizer': 'adam', 'LSTM_bidirectional': True, 'LSTM_batch_size': 4096, 'LSTM_epochs': 2, 'LSTM_l1': 0.001, 'LSTM_l2': 0.001, 'LSTM_inter_dropout': 0.001, 'LSTM_input_gaussian_noise': 0.001, 'LSTM_conv1d': True, 'LSTM_conv1d_kernel_size': 3, 'LSTM_loss': 'mse', 'year_start': 2022, 'is_single_feature': False}\n",
      "2025-08-20 21:04:44,509 -   q0: 0.9980\n",
      "2025-08-20 21:04:44,509 -   Duration0: 0:00:34.682572\n",
      "2025-08-20 21:04:44,509 -   Val RMSE0 adjusted: 0.0076\n",
      "2025-08-20 21:04:44,525 -   Mean all prediction: 1.0007\n",
      "2025-08-20 21:04:44,525 -   Mean above prediction: 1.0141\n",
      "2025-08-20 21:04:44,525 -   Mean below prediction: 0.9999\n",
      "2025-08-20 21:04:44,525 -   Quantile 0.99 for distance in mask above: 5299.939999999962\n",
      "2025-08-20 21:04:44,525 -   Quantile 0.99 for distance in mask below: 5189.9799999999805\n",
      "2025-08-20 21:04:44,525 -   Ratio for quantile-distance-to-length above: 0.0081\n",
      "2025-08-20 21:04:44,525 -   Ratio for quantile-distance-to-length below: 0.0079\n",
      "2025-08-20 21:04:44,525 -   Score: 1.0047\n"
     ]
    },
    {
     "name": "stderr",
     "output_type": "stream",
     "text": [
      "[I 2025-08-20 21:04:44,562] Trial 129 finished with value: 1.0046759084186174 and parameters: {'year_start': 2022, 'idxAfterPrediction': 3, 'LoadupSamples_time_inc_factor': 66, 'timesteps': 75, 'LSTM_learning_rate': 6.592556495201906e-05, 'LSTM_dropout': 0.004336298431024232, 'is_single_feature': False}. Best is trial 31 with value: 1.0049487769776475.\n"
     ]
    },
    {
     "name": "stdout",
     "output_type": "stream",
     "text": [
      "2025-08-20 21:04:44,562 - Trial 129 finished with value: 1.0046759084186174 and parameters: {'year_start': 2022, 'idxAfterPrediction': 3, 'LoadupSamples_time_inc_factor': 66, 'timesteps': 75, 'LSTM_learning_rate': 6.592556495201906e-05, 'LSTM_dropout': 0.004336298431024232, 'is_single_feature': False}. Best is trial 31 with value: 1.0049487769776475.\n",
      "2025-08-20 21:04:50,389 - Non-finite/too-large values in train y time: 36 samples.\n",
      "2025-08-20 21:04:50,407 - Removing 36 samples from training data.\n"
     ]
    },
    {
     "name": "stderr",
     "output_type": "stream",
     "text": [
      "Epochs:   0%|          | 0/2 [00:00<?, ?it/s]"
     ]
    },
    {
     "name": "stdout",
     "output_type": "stream",
     "text": [
      "2025-08-20 21:05:12,535 - Epoch 1/2 — Train RMSE: 0.6808 — Validation RMSE: 0.5839\n"
     ]
    },
    {
     "name": "stderr",
     "output_type": "stream",
     "text": [
      "Epochs:  50%|█████     | 1/2 [00:15<00:15, 15.48s/it]"
     ]
    },
    {
     "name": "stdout",
     "output_type": "stream",
     "text": [
      "2025-08-20 21:05:28,010 - Epoch 2/2 — Train RMSE: 0.5297 — Validation RMSE: 0.4506\n"
     ]
    },
    {
     "name": "stderr",
     "output_type": "stream",
     "text": [
      "Epochs: 100%|██████████| 2/2 [00:30<00:00, 15.48s/it]\n"
     ]
    },
    {
     "name": "stdout",
     "output_type": "stream",
     "text": [
      "2025-08-20 21:05:31,661 - Trial 130 with params: {'idxAfterPrediction': 3, 'timesteps': 75, 'target_option': 'last', 'LoadupSamples_time_scaling_stretch': True, 'LoadupSamples_time_inc_factor': 66, 'LSTM_units': 16, 'LSTM_num_layers': 1, 'LSTM_dropout': 0.0016925186938035845, 'LSTM_recurrent_dropout': 0.001, 'LSTM_learning_rate': 6.501832456380704e-05, 'LSTM_optimizer': 'adam', 'LSTM_bidirectional': True, 'LSTM_batch_size': 4096, 'LSTM_epochs': 2, 'LSTM_l1': 0.001, 'LSTM_l2': 0.001, 'LSTM_inter_dropout': 0.001, 'LSTM_input_gaussian_noise': 0.001, 'LSTM_conv1d': True, 'LSTM_conv1d_kernel_size': 3, 'LSTM_loss': 'mse', 'year_start': 2022, 'is_single_feature': False}\n",
      "2025-08-20 21:05:31,661 -   q0: 0.9980\n",
      "2025-08-20 21:05:31,661 -   Duration0: 0:00:34.688640\n",
      "2025-08-20 21:05:31,661 -   Val RMSE0 adjusted: 0.0068\n",
      "2025-08-20 21:05:31,661 -   Mean all prediction: 1.0007\n",
      "2025-08-20 21:05:31,661 -   Mean above prediction: 1.0012\n",
      "2025-08-20 21:05:31,661 -   Mean below prediction: 1.0041\n",
      "2025-08-20 21:05:31,661 -   Quantile 0.99 for distance in mask above: 4300.919999999998\n",
      "2025-08-20 21:05:31,661 -   Quantile 0.99 for distance in mask below: 3394.58\n",
      "2025-08-20 21:05:31,661 -   Ratio for quantile-distance-to-length above: 0.0065\n",
      "2025-08-20 21:05:31,661 -   Ratio for quantile-distance-to-length below: 0.0052\n",
      "2025-08-20 21:05:31,661 -   Score: 1.0004\n"
     ]
    },
    {
     "name": "stderr",
     "output_type": "stream",
     "text": [
      "[I 2025-08-20 21:05:31,708] Trial 130 finished with value: 1.0004049678894507 and parameters: {'year_start': 2022, 'idxAfterPrediction': 3, 'LoadupSamples_time_inc_factor': 66, 'timesteps': 75, 'LSTM_learning_rate': 6.501832456380704e-05, 'LSTM_dropout': 0.0016925186938035845, 'is_single_feature': False}. Best is trial 31 with value: 1.0049487769776475.\n"
     ]
    },
    {
     "name": "stdout",
     "output_type": "stream",
     "text": [
      "2025-08-20 21:05:31,708 - Trial 130 finished with value: 1.0004049678894507 and parameters: {'year_start': 2022, 'idxAfterPrediction': 3, 'LoadupSamples_time_inc_factor': 66, 'timesteps': 75, 'LSTM_learning_rate': 6.501832456380704e-05, 'LSTM_dropout': 0.0016925186938035845, 'is_single_feature': False}. Best is trial 31 with value: 1.0049487769776475.\n",
      "2025-08-20 21:05:37,542 - Non-finite/too-large values in train y time: 36 samples.\n",
      "2025-08-20 21:05:37,542 - Removing 36 samples from training data.\n"
     ]
    },
    {
     "name": "stderr",
     "output_type": "stream",
     "text": [
      "Epochs:   0%|          | 0/2 [00:00<?, ?it/s]"
     ]
    },
    {
     "name": "stdout",
     "output_type": "stream",
     "text": [
      "2025-08-20 21:06:00,287 - Epoch 1/2 — Train RMSE: 0.5916 — Validation RMSE: 0.5341\n"
     ]
    },
    {
     "name": "stderr",
     "output_type": "stream",
     "text": [
      "Epochs:  50%|█████     | 1/2 [00:15<00:15, 15.31s/it]"
     ]
    },
    {
     "name": "stdout",
     "output_type": "stream",
     "text": [
      "2025-08-20 21:06:15,806 - Epoch 2/2 — Train RMSE: 0.5102 — Validation RMSE: 0.4578\n"
     ]
    },
    {
     "name": "stderr",
     "output_type": "stream",
     "text": [
      "Epochs: 100%|██████████| 2/2 [00:30<00:00, 15.41s/it]\n"
     ]
    },
    {
     "name": "stdout",
     "output_type": "stream",
     "text": [
      "2025-08-20 21:06:19,301 - Trial 131 with params: {'idxAfterPrediction': 3, 'timesteps': 85, 'target_option': 'last', 'LoadupSamples_time_scaling_stretch': True, 'LoadupSamples_time_inc_factor': 66, 'LSTM_units': 16, 'LSTM_num_layers': 1, 'LSTM_dropout': 0.007025233156982503, 'LSTM_recurrent_dropout': 0.001, 'LSTM_learning_rate': 3.832409539082941e-05, 'LSTM_optimizer': 'adam', 'LSTM_bidirectional': True, 'LSTM_batch_size': 4096, 'LSTM_epochs': 2, 'LSTM_l1': 0.001, 'LSTM_l2': 0.001, 'LSTM_inter_dropout': 0.001, 'LSTM_input_gaussian_noise': 0.001, 'LSTM_conv1d': True, 'LSTM_conv1d_kernel_size': 3, 'LSTM_loss': 'mse', 'year_start': 2022, 'is_single_feature': False}\n",
      "2025-08-20 21:06:19,301 -   q0: 0.9980\n",
      "2025-08-20 21:06:19,301 -   Duration0: 0:00:34.448454\n",
      "2025-08-20 21:06:19,301 -   Val RMSE0 adjusted: 0.0069\n",
      "2025-08-20 21:06:19,301 -   Mean all prediction: 1.0007\n",
      "2025-08-20 21:06:19,301 -   Mean above prediction: 1.0117\n",
      "2025-08-20 21:06:19,301 -   Mean below prediction: 1.0060\n",
      "2025-08-20 21:06:19,301 -   Quantile 0.99 for distance in mask above: 5728.719999999915\n",
      "2025-08-20 21:06:19,301 -   Quantile 0.99 for distance in mask below: 4078.6999999999953\n",
      "2025-08-20 21:06:19,301 -   Ratio for quantile-distance-to-length above: 0.0087\n",
      "2025-08-20 21:06:19,301 -   Ratio for quantile-distance-to-length below: 0.0062\n",
      "2025-08-20 21:06:19,301 -   Score: 1.0039\n"
     ]
    },
    {
     "name": "stderr",
     "output_type": "stream",
     "text": [
      "[I 2025-08-20 21:06:19,349] Trial 131 finished with value: 1.003881160263108 and parameters: {'year_start': 2022, 'idxAfterPrediction': 3, 'LoadupSamples_time_inc_factor': 66, 'timesteps': 85, 'LSTM_learning_rate': 3.832409539082941e-05, 'LSTM_dropout': 0.007025233156982503, 'is_single_feature': False}. Best is trial 31 with value: 1.0049487769776475.\n"
     ]
    },
    {
     "name": "stdout",
     "output_type": "stream",
     "text": [
      "2025-08-20 21:06:19,349 - Trial 131 finished with value: 1.003881160263108 and parameters: {'year_start': 2022, 'idxAfterPrediction': 3, 'LoadupSamples_time_inc_factor': 66, 'timesteps': 85, 'LSTM_learning_rate': 3.832409539082941e-05, 'LSTM_dropout': 0.007025233156982503, 'is_single_feature': False}. Best is trial 31 with value: 1.0049487769776475.\n",
      "2025-08-20 21:06:25,204 - Non-finite/too-large values in train y time: 36 samples.\n",
      "2025-08-20 21:06:25,204 - Removing 36 samples from training data.\n"
     ]
    },
    {
     "name": "stderr",
     "output_type": "stream",
     "text": [
      "Epochs:   0%|          | 0/2 [00:00<?, ?it/s]"
     ]
    },
    {
     "name": "stdout",
     "output_type": "stream",
     "text": [
      "2025-08-20 21:06:47,096 - Epoch 1/2 — Train RMSE: 0.6790 — Validation RMSE: 0.5936\n"
     ]
    },
    {
     "name": "stderr",
     "output_type": "stream",
     "text": [
      "Epochs:  50%|█████     | 1/2 [00:15<00:15, 15.31s/it]"
     ]
    },
    {
     "name": "stdout",
     "output_type": "stream",
     "text": [
      "2025-08-20 21:07:02,562 - Epoch 2/2 — Train RMSE: 0.5475 — Validation RMSE: 0.4731\n"
     ]
    },
    {
     "name": "stderr",
     "output_type": "stream",
     "text": [
      "Epochs: 100%|██████████| 2/2 [00:30<00:00, 15.39s/it]\n"
     ]
    },
    {
     "name": "stdout",
     "output_type": "stream",
     "text": [
      "2025-08-20 21:07:06,320 - Trial 132 with params: {'idxAfterPrediction': 3, 'timesteps': 75, 'target_option': 'last', 'LoadupSamples_time_scaling_stretch': True, 'LoadupSamples_time_inc_factor': 71, 'LSTM_units': 16, 'LSTM_num_layers': 1, 'LSTM_dropout': 0.003726958795565882, 'LSTM_recurrent_dropout': 0.001, 'LSTM_learning_rate': 5.523286648230463e-05, 'LSTM_optimizer': 'adam', 'LSTM_bidirectional': True, 'LSTM_batch_size': 4096, 'LSTM_epochs': 2, 'LSTM_l1': 0.001, 'LSTM_l2': 0.001, 'LSTM_inter_dropout': 0.001, 'LSTM_input_gaussian_noise': 0.001, 'LSTM_conv1d': True, 'LSTM_conv1d_kernel_size': 3, 'LSTM_loss': 'mse', 'year_start': 2022, 'is_single_feature': False}\n",
      "2025-08-20 21:07:06,320 -   q0: 0.9980\n",
      "2025-08-20 21:07:06,320 -   Duration0: 0:00:34.632537\n",
      "2025-08-20 21:07:06,320 -   Val RMSE0 adjusted: 0.0067\n",
      "2025-08-20 21:07:06,320 -   Mean all prediction: 1.0007\n",
      "2025-08-20 21:07:06,320 -   Mean above prediction: 0.9973\n",
      "2025-08-20 21:07:06,320 -   Mean below prediction: 0.9970\n",
      "2025-08-20 21:07:06,320 -   Quantile 0.99 for distance in mask above: 5167.039999999999\n",
      "2025-08-20 21:07:06,320 -   Quantile 0.99 for distance in mask below: 3547.71999999999\n",
      "2025-08-20 21:07:06,320 -   Ratio for quantile-distance-to-length above: 0.0079\n",
      "2025-08-20 21:07:06,320 -   Ratio for quantile-distance-to-length below: 0.0054\n",
      "2025-08-20 21:07:06,320 -   Score: 0.9991\n"
     ]
    },
    {
     "name": "stderr",
     "output_type": "stream",
     "text": [
      "[I 2025-08-20 21:07:06,367] Trial 132 finished with value: 0.9990973847820804 and parameters: {'year_start': 2022, 'idxAfterPrediction': 3, 'LoadupSamples_time_inc_factor': 71, 'timesteps': 75, 'LSTM_learning_rate': 5.523286648230463e-05, 'LSTM_dropout': 0.003726958795565882, 'is_single_feature': False}. Best is trial 31 with value: 1.0049487769776475.\n"
     ]
    },
    {
     "name": "stdout",
     "output_type": "stream",
     "text": [
      "2025-08-20 21:07:06,367 - Trial 132 finished with value: 0.9990973847820804 and parameters: {'year_start': 2022, 'idxAfterPrediction': 3, 'LoadupSamples_time_inc_factor': 71, 'timesteps': 75, 'LSTM_learning_rate': 5.523286648230463e-05, 'LSTM_dropout': 0.003726958795565882, 'is_single_feature': False}. Best is trial 31 with value: 1.0049487769776475.\n",
      "2025-08-20 21:07:10,651 - Non-finite/too-large values in train y time: 36 samples.\n",
      "2025-08-20 21:07:10,651 - Removing 36 samples from training data.\n"
     ]
    },
    {
     "name": "stderr",
     "output_type": "stream",
     "text": [
      "Epochs:   0%|          | 0/2 [00:00<?, ?it/s]"
     ]
    },
    {
     "name": "stdout",
     "output_type": "stream",
     "text": [
      "2025-08-20 21:07:26,573 - Epoch 1/2 — Train RMSE: 0.7247 — Validation RMSE: 0.6823\n"
     ]
    },
    {
     "name": "stderr",
     "output_type": "stream",
     "text": [
      "Epochs:  50%|█████     | 1/2 [00:10<00:10, 10.66s/it]"
     ]
    },
    {
     "name": "stdout",
     "output_type": "stream",
     "text": [
      "2025-08-20 21:07:37,204 - Epoch 2/2 — Train RMSE: 0.6775 — Validation RMSE: 0.6376\n"
     ]
    },
    {
     "name": "stderr",
     "output_type": "stream",
     "text": [
      "Epochs: 100%|██████████| 2/2 [00:21<00:00, 10.64s/it]\n"
     ]
    },
    {
     "name": "stdout",
     "output_type": "stream",
     "text": [
      "2025-08-20 21:07:40,970 - Trial 133 with params: {'idxAfterPrediction': 3, 'timesteps': 85, 'target_option': 'last', 'LoadupSamples_time_scaling_stretch': True, 'LoadupSamples_time_inc_factor': 76, 'LSTM_units': 16, 'LSTM_num_layers': 1, 'LSTM_dropout': 0.0041159910453736955, 'LSTM_recurrent_dropout': 0.001, 'LSTM_learning_rate': 4.842420975494088e-05, 'LSTM_optimizer': 'adam', 'LSTM_bidirectional': True, 'LSTM_batch_size': 4096, 'LSTM_epochs': 2, 'LSTM_l1': 0.001, 'LSTM_l2': 0.001, 'LSTM_inter_dropout': 0.001, 'LSTM_input_gaussian_noise': 0.001, 'LSTM_conv1d': True, 'LSTM_conv1d_kernel_size': 3, 'LSTM_loss': 'mse', 'year_start': 2023, 'is_single_feature': False}\n",
      "2025-08-20 21:07:40,970 -   q0: 0.9980\n",
      "2025-08-20 21:07:40,970 -   Duration0: 0:00:25.144985\n",
      "2025-08-20 21:07:40,970 -   Val RMSE0 adjusted: 0.0084\n",
      "2025-08-20 21:07:40,970 -   Mean all prediction: 1.0007\n",
      "2025-08-20 21:07:40,970 -   Mean above prediction: 1.0062\n",
      "2025-08-20 21:07:40,970 -   Mean below prediction: 1.0027\n",
      "2025-08-20 21:07:40,970 -   Quantile 0.99 for distance in mask above: 3734.0399999999886\n",
      "2025-08-20 21:07:40,970 -   Quantile 0.99 for distance in mask below: 3054.2999999999984\n",
      "2025-08-20 21:07:40,970 -   Ratio for quantile-distance-to-length above: 0.0057\n",
      "2025-08-20 21:07:40,970 -   Ratio for quantile-distance-to-length below: 0.0046\n",
      "2025-08-20 21:07:40,970 -   Score: 1.0021\n"
     ]
    },
    {
     "name": "stderr",
     "output_type": "stream",
     "text": [
      "[I 2025-08-20 21:07:41,018] Trial 133 finished with value: 1.0020727473459303 and parameters: {'year_start': 2023, 'idxAfterPrediction': 3, 'LoadupSamples_time_inc_factor': 76, 'timesteps': 85, 'LSTM_learning_rate': 4.842420975494088e-05, 'LSTM_dropout': 0.0041159910453736955, 'is_single_feature': False}. Best is trial 31 with value: 1.0049487769776475.\n"
     ]
    },
    {
     "name": "stdout",
     "output_type": "stream",
     "text": [
      "2025-08-20 21:07:41,018 - Trial 133 finished with value: 1.0020727473459303 and parameters: {'year_start': 2023, 'idxAfterPrediction': 3, 'LoadupSamples_time_inc_factor': 76, 'timesteps': 85, 'LSTM_learning_rate': 4.842420975494088e-05, 'LSTM_dropout': 0.0041159910453736955, 'is_single_feature': False}. Best is trial 31 with value: 1.0049487769776475.\n",
      "2025-08-20 21:07:46,810 - Non-finite/too-large values in train y time: 36 samples.\n",
      "2025-08-20 21:07:46,810 - Removing 36 samples from training data.\n"
     ]
    },
    {
     "name": "stderr",
     "output_type": "stream",
     "text": [
      "Epochs:   0%|          | 0/2 [00:00<?, ?it/s]"
     ]
    },
    {
     "name": "stdout",
     "output_type": "stream",
     "text": [
      "2025-08-20 21:08:08,256 - Epoch 1/2 — Train RMSE: 0.5338 — Validation RMSE: 0.4527\n"
     ]
    },
    {
     "name": "stderr",
     "output_type": "stream",
     "text": [
      "Epochs:  50%|█████     | 1/2 [00:15<00:15, 15.27s/it]"
     ]
    },
    {
     "name": "stdout",
     "output_type": "stream",
     "text": [
      "2025-08-20 21:08:23,668 - Epoch 2/2 — Train RMSE: 0.4310 — Validation RMSE: 0.3999\n"
     ]
    },
    {
     "name": "stderr",
     "output_type": "stream",
     "text": [
      "Epochs: 100%|██████████| 2/2 [00:30<00:00, 15.34s/it]\n"
     ]
    },
    {
     "name": "stdout",
     "output_type": "stream",
     "text": [
      "2025-08-20 21:08:27,465 - Trial 134 with params: {'idxAfterPrediction': 3, 'timesteps': 70, 'target_option': 'last', 'LoadupSamples_time_scaling_stretch': True, 'LoadupSamples_time_inc_factor': 66, 'LSTM_units': 16, 'LSTM_num_layers': 1, 'LSTM_dropout': 0.008012687078771298, 'LSTM_recurrent_dropout': 0.001, 'LSTM_learning_rate': 7.636264274991065e-05, 'LSTM_optimizer': 'adam', 'LSTM_bidirectional': True, 'LSTM_batch_size': 4096, 'LSTM_epochs': 2, 'LSTM_l1': 0.001, 'LSTM_l2': 0.001, 'LSTM_inter_dropout': 0.001, 'LSTM_input_gaussian_noise': 0.001, 'LSTM_conv1d': True, 'LSTM_conv1d_kernel_size': 3, 'LSTM_loss': 'mse', 'year_start': 2022, 'is_single_feature': False}\n",
      "2025-08-20 21:08:27,466 -   q0: 0.9980\n",
      "2025-08-20 21:08:27,466 -   Duration0: 0:00:34.564176\n",
      "2025-08-20 21:08:27,466 -   Val RMSE0 adjusted: 0.0061\n",
      "2025-08-20 21:08:27,466 -   Mean all prediction: 1.0007\n",
      "2025-08-20 21:08:27,466 -   Mean above prediction: 1.0092\n",
      "2025-08-20 21:08:27,466 -   Mean below prediction: 1.0037\n",
      "2025-08-20 21:08:27,466 -   Quantile 0.99 for distance in mask above: 5139.959999999996\n",
      "2025-08-20 21:08:27,472 -   Quantile 0.99 for distance in mask below: 4030.8999999999933\n",
      "2025-08-20 21:08:27,472 -   Ratio for quantile-distance-to-length above: 0.0078\n",
      "2025-08-20 21:08:27,472 -   Ratio for quantile-distance-to-length below: 0.0061\n",
      "2025-08-20 21:08:27,472 -   Score: 1.0030\n"
     ]
    },
    {
     "name": "stderr",
     "output_type": "stream",
     "text": [
      "[I 2025-08-20 21:08:27,503] Trial 134 finished with value: 1.003042198849479 and parameters: {'year_start': 2022, 'idxAfterPrediction': 3, 'LoadupSamples_time_inc_factor': 66, 'timesteps': 70, 'LSTM_learning_rate': 7.636264274991065e-05, 'LSTM_dropout': 0.008012687078771298, 'is_single_feature': False}. Best is trial 31 with value: 1.0049487769776475.\n"
     ]
    },
    {
     "name": "stdout",
     "output_type": "stream",
     "text": [
      "2025-08-20 21:08:27,503 - Trial 134 finished with value: 1.003042198849479 and parameters: {'year_start': 2022, 'idxAfterPrediction': 3, 'LoadupSamples_time_inc_factor': 66, 'timesteps': 70, 'LSTM_learning_rate': 7.636264274991065e-05, 'LSTM_dropout': 0.008012687078771298, 'is_single_feature': False}. Best is trial 31 with value: 1.0049487769776475.\n",
      "2025-08-20 21:08:33,338 - Non-finite/too-large values in train y time: 36 samples.\n",
      "2025-08-20 21:08:33,353 - Removing 36 samples from training data.\n"
     ]
    },
    {
     "name": "stderr",
     "output_type": "stream",
     "text": [
      "Epochs:   0%|          | 0/2 [00:00<?, ?it/s]"
     ]
    },
    {
     "name": "stdout",
     "output_type": "stream",
     "text": [
      "2025-08-20 21:08:56,634 - Epoch 1/2 — Train RMSE: 0.5142 — Validation RMSE: 0.4440\n"
     ]
    },
    {
     "name": "stderr",
     "output_type": "stream",
     "text": [
      "Epochs:  50%|█████     | 1/2 [00:15<00:15, 15.51s/it]"
     ]
    },
    {
     "name": "stdout",
     "output_type": "stream",
     "text": [
      "2025-08-20 21:09:12,274 - Epoch 2/2 — Train RMSE: 0.4290 — Validation RMSE: 0.4040\n"
     ]
    },
    {
     "name": "stderr",
     "output_type": "stream",
     "text": [
      "Epochs: 100%|██████████| 2/2 [00:31<00:00, 15.58s/it]\n"
     ]
    },
    {
     "name": "stdout",
     "output_type": "stream",
     "text": [
      "2025-08-20 21:09:15,798 - Trial 135 with params: {'idxAfterPrediction': 3, 'timesteps': 90, 'target_option': 'last', 'LoadupSamples_time_scaling_stretch': True, 'LoadupSamples_time_inc_factor': 71, 'LSTM_units': 16, 'LSTM_num_layers': 1, 'LSTM_dropout': 0.006022458389620662, 'LSTM_recurrent_dropout': 0.001, 'LSTM_learning_rate': 9.733848721195838e-05, 'LSTM_optimizer': 'adam', 'LSTM_bidirectional': True, 'LSTM_batch_size': 4096, 'LSTM_epochs': 2, 'LSTM_l1': 0.001, 'LSTM_l2': 0.001, 'LSTM_inter_dropout': 0.001, 'LSTM_input_gaussian_noise': 0.001, 'LSTM_conv1d': True, 'LSTM_conv1d_kernel_size': 3, 'LSTM_loss': 'mse', 'year_start': 2022, 'is_single_feature': False}\n",
      "2025-08-20 21:09:15,798 -   q0: 0.9980\n",
      "2025-08-20 21:09:15,798 -   Duration0: 0:00:34.802830\n",
      "2025-08-20 21:09:15,798 -   Val RMSE0 adjusted: 0.0057\n",
      "2025-08-20 21:09:15,798 -   Mean all prediction: 1.0007\n",
      "2025-08-20 21:09:15,798 -   Mean above prediction: 1.0008\n",
      "2025-08-20 21:09:15,798 -   Mean below prediction: 1.0032\n",
      "2025-08-20 21:09:15,798 -   Quantile 0.99 for distance in mask above: 4352.039999999999\n",
      "2025-08-20 21:09:15,798 -   Quantile 0.99 for distance in mask below: 3620.8599999999997\n",
      "2025-08-20 21:09:15,798 -   Ratio for quantile-distance-to-length above: 0.0066\n",
      "2025-08-20 21:09:15,798 -   Ratio for quantile-distance-to-length below: 0.0055\n",
      "2025-08-20 21:09:15,798 -   Score: 1.0003\n"
     ]
    },
    {
     "name": "stderr",
     "output_type": "stream",
     "text": [
      "[I 2025-08-20 21:09:15,850] Trial 135 finished with value: 1.000262660555001 and parameters: {'year_start': 2022, 'idxAfterPrediction': 3, 'LoadupSamples_time_inc_factor': 71, 'timesteps': 90, 'LSTM_learning_rate': 9.733848721195838e-05, 'LSTM_dropout': 0.006022458389620662, 'is_single_feature': False}. Best is trial 31 with value: 1.0049487769776475.\n"
     ]
    },
    {
     "name": "stdout",
     "output_type": "stream",
     "text": [
      "2025-08-20 21:09:15,850 - Trial 135 finished with value: 1.000262660555001 and parameters: {'year_start': 2022, 'idxAfterPrediction': 3, 'LoadupSamples_time_inc_factor': 71, 'timesteps': 90, 'LSTM_learning_rate': 9.733848721195838e-05, 'LSTM_dropout': 0.006022458389620662, 'is_single_feature': False}. Best is trial 31 with value: 1.0049487769776475.\n",
      "2025-08-20 21:09:21,685 - Non-finite/too-large values in train y time: 36 samples.\n",
      "2025-08-20 21:09:21,685 - Removing 36 samples from training data.\n"
     ]
    },
    {
     "name": "stderr",
     "output_type": "stream",
     "text": [
      "Epochs:   0%|          | 0/2 [00:00<?, ?it/s]"
     ]
    },
    {
     "name": "stdout",
     "output_type": "stream",
     "text": [
      "2025-08-20 21:09:44,029 - Epoch 1/2 — Train RMSE: 0.4967 — Validation RMSE: 0.4740\n"
     ]
    },
    {
     "name": "stderr",
     "output_type": "stream",
     "text": [
      "Epochs:  50%|█████     | 1/2 [00:15<00:15, 15.35s/it]"
     ]
    },
    {
     "name": "stdout",
     "output_type": "stream",
     "text": [
      "2025-08-20 21:09:59,563 - Epoch 2/2 — Train RMSE: 0.4814 — Validation RMSE: 0.4601\n"
     ]
    },
    {
     "name": "stderr",
     "output_type": "stream",
     "text": [
      "Epochs: 100%|██████████| 2/2 [00:30<00:00, 15.44s/it]\n"
     ]
    },
    {
     "name": "stdout",
     "output_type": "stream",
     "text": [
      "2025-08-20 21:10:03,349 - Trial 136 with params: {'idxAfterPrediction': 3, 'timesteps': 80, 'target_option': 'last', 'LoadupSamples_time_scaling_stretch': True, 'LoadupSamples_time_inc_factor': 66, 'LSTM_units': 16, 'LSTM_num_layers': 1, 'LSTM_dropout': 0.07725471783095142, 'LSTM_recurrent_dropout': 0.001, 'LSTM_learning_rate': 1.257062583488949e-05, 'LSTM_optimizer': 'adam', 'LSTM_bidirectional': True, 'LSTM_batch_size': 4096, 'LSTM_epochs': 2, 'LSTM_l1': 0.001, 'LSTM_l2': 0.001, 'LSTM_inter_dropout': 0.001, 'LSTM_input_gaussian_noise': 0.001, 'LSTM_conv1d': True, 'LSTM_conv1d_kernel_size': 3, 'LSTM_loss': 'mse', 'year_start': 2022, 'is_single_feature': False}\n",
      "2025-08-20 21:10:03,349 -   q0: 0.9980\n",
      "2025-08-20 21:10:03,349 -   Duration0: 0:00:34.764729\n",
      "2025-08-20 21:10:03,349 -   Val RMSE0 adjusted: 0.0070\n",
      "2025-08-20 21:10:03,349 -   Mean all prediction: 1.0007\n",
      "2025-08-20 21:10:03,349 -   Mean above prediction: 1.0040\n",
      "2025-08-20 21:10:03,349 -   Mean below prediction: 1.0004\n",
      "2025-08-20 21:10:03,349 -   Quantile 0.99 for distance in mask above: 3786.539999999991\n",
      "2025-08-20 21:10:03,349 -   Quantile 0.99 for distance in mask below: 4527.679999999957\n",
      "2025-08-20 21:10:03,349 -   Ratio for quantile-distance-to-length above: 0.0058\n",
      "2025-08-20 21:10:03,349 -   Ratio for quantile-distance-to-length below: 0.0069\n",
      "2025-08-20 21:10:03,349 -   Score: 1.0013\n"
     ]
    },
    {
     "name": "stderr",
     "output_type": "stream",
     "text": [
      "[I 2025-08-20 21:10:03,399] Trial 136 finished with value: 1.001345556183271 and parameters: {'year_start': 2022, 'idxAfterPrediction': 3, 'LoadupSamples_time_inc_factor': 66, 'timesteps': 80, 'LSTM_learning_rate': 1.257062583488949e-05, 'LSTM_dropout': 0.07725471783095142, 'is_single_feature': False}. Best is trial 31 with value: 1.0049487769776475.\n"
     ]
    },
    {
     "name": "stdout",
     "output_type": "stream",
     "text": [
      "2025-08-20 21:10:03,399 - Trial 136 finished with value: 1.001345556183271 and parameters: {'year_start': 2022, 'idxAfterPrediction': 3, 'LoadupSamples_time_inc_factor': 66, 'timesteps': 80, 'LSTM_learning_rate': 1.257062583488949e-05, 'LSTM_dropout': 0.07725471783095142, 'is_single_feature': False}. Best is trial 31 with value: 1.0049487769776475.\n",
      "2025-08-20 21:10:10,633 - Non-finite/too-large values in train y time: 36 samples.\n",
      "2025-08-20 21:10:10,633 - Removing 36 samples from training data.\n"
     ]
    },
    {
     "name": "stderr",
     "output_type": "stream",
     "text": [
      "Epochs:   0%|          | 0/2 [00:00<?, ?it/s]"
     ]
    },
    {
     "name": "stdout",
     "output_type": "stream",
     "text": [
      "2025-08-20 21:10:34,499 - Epoch 1/2 — Train RMSE: 0.4910 — Validation RMSE: 0.4289\n"
     ]
    },
    {
     "name": "stderr",
     "output_type": "stream",
     "text": [
      "Epochs:  50%|█████     | 1/2 [00:19<00:19, 19.49s/it]"
     ]
    },
    {
     "name": "stdout",
     "output_type": "stream",
     "text": [
      "2025-08-20 21:10:53,861 - Epoch 2/2 — Train RMSE: 0.4211 — Validation RMSE: 0.4036\n"
     ]
    },
    {
     "name": "stderr",
     "output_type": "stream",
     "text": [
      "Epochs: 100%|██████████| 2/2 [00:38<00:00, 19.42s/it]\n"
     ]
    },
    {
     "name": "stdout",
     "output_type": "stream",
     "text": [
      "2025-08-20 21:10:57,194 - Trial 137 with params: {'idxAfterPrediction': 3, 'timesteps': 35, 'target_option': 'last', 'LoadupSamples_time_scaling_stretch': True, 'LoadupSamples_time_inc_factor': 71, 'LSTM_units': 16, 'LSTM_num_layers': 1, 'LSTM_dropout': 0.01343288277014606, 'LSTM_recurrent_dropout': 0.001, 'LSTM_learning_rate': 6.653620791315126e-05, 'LSTM_optimizer': 'adam', 'LSTM_bidirectional': True, 'LSTM_batch_size': 4096, 'LSTM_epochs': 2, 'LSTM_l1': 0.001, 'LSTM_l2': 0.001, 'LSTM_inter_dropout': 0.001, 'LSTM_input_gaussian_noise': 0.001, 'LSTM_conv1d': True, 'LSTM_conv1d_kernel_size': 3, 'LSTM_loss': 'mse', 'year_start': 2021, 'is_single_feature': False}\n",
      "2025-08-20 21:10:57,194 -   q0: 0.9980\n",
      "2025-08-20 21:10:57,194 -   Duration0: 0:00:42.267270\n",
      "2025-08-20 21:10:57,194 -   Val RMSE0 adjusted: 0.0057\n",
      "2025-08-20 21:10:57,210 -   Mean all prediction: 1.0007\n",
      "2025-08-20 21:10:57,210 -   Mean above prediction: 1.0073\n",
      "2025-08-20 21:10:57,210 -   Mean below prediction: 1.0059\n",
      "2025-08-20 21:10:57,210 -   Quantile 0.99 for distance in mask above: 4656.079999999993\n",
      "2025-08-20 21:10:57,210 -   Quantile 0.99 for distance in mask below: 4527.959999999996\n",
      "2025-08-20 21:10:57,210 -   Ratio for quantile-distance-to-length above: 0.0071\n",
      "2025-08-20 21:10:57,210 -   Ratio for quantile-distance-to-length below: 0.0069\n",
      "2025-08-20 21:10:57,210 -   Score: 1.0024\n"
     ]
    },
    {
     "name": "stderr",
     "output_type": "stream",
     "text": [
      "[I 2025-08-20 21:10:57,242] Trial 137 finished with value: 1.0024276192779233 and parameters: {'year_start': 2021, 'idxAfterPrediction': 3, 'LoadupSamples_time_inc_factor': 71, 'timesteps': 35, 'LSTM_learning_rate': 6.653620791315126e-05, 'LSTM_dropout': 0.01343288277014606, 'is_single_feature': False}. Best is trial 31 with value: 1.0049487769776475.\n"
     ]
    },
    {
     "name": "stdout",
     "output_type": "stream",
     "text": [
      "2025-08-20 21:10:57,242 - Trial 137 finished with value: 1.0024276192779233 and parameters: {'year_start': 2021, 'idxAfterPrediction': 3, 'LoadupSamples_time_inc_factor': 71, 'timesteps': 35, 'LSTM_learning_rate': 6.653620791315126e-05, 'LSTM_dropout': 0.01343288277014606, 'is_single_feature': False}. Best is trial 31 with value: 1.0049487769776475.\n",
      "2025-08-20 21:11:03,161 - Non-finite/too-large values in train y time: 36 samples.\n",
      "2025-08-20 21:11:03,177 - Removing 36 samples from training data.\n"
     ]
    },
    {
     "name": "stderr",
     "output_type": "stream",
     "text": [
      "Epochs:   0%|          | 0/2 [00:00<?, ?it/s]"
     ]
    },
    {
     "name": "stdout",
     "output_type": "stream",
     "text": [
      "2025-08-20 21:11:25,568 - Epoch 1/2 — Train RMSE: 0.4529 — Validation RMSE: 0.4159\n"
     ]
    },
    {
     "name": "stderr",
     "output_type": "stream",
     "text": [
      "Epochs:  50%|█████     | 1/2 [00:15<00:15, 15.38s/it]"
     ]
    },
    {
     "name": "stdout",
     "output_type": "stream",
     "text": [
      "2025-08-20 21:11:41,027 - Epoch 2/2 — Train RMSE: 0.4229 — Validation RMSE: 0.4116\n"
     ]
    },
    {
     "name": "stderr",
     "output_type": "stream",
     "text": [
      "Epochs: 100%|██████████| 2/2 [00:30<00:00, 15.42s/it]\n"
     ]
    },
    {
     "name": "stdout",
     "output_type": "stream",
     "text": [
      "2025-08-20 21:11:44,833 - Trial 138 with params: {'idxAfterPrediction': 3, 'timesteps': 80, 'target_option': 'last', 'LoadupSamples_time_scaling_stretch': True, 'LoadupSamples_time_inc_factor': 81, 'LSTM_units': 16, 'LSTM_num_layers': 1, 'LSTM_dropout': 0.0682541526336429, 'LSTM_recurrent_dropout': 0.001, 'LSTM_learning_rate': 0.00012859752470973008, 'LSTM_optimizer': 'adam', 'LSTM_bidirectional': True, 'LSTM_batch_size': 4096, 'LSTM_epochs': 2, 'LSTM_l1': 0.001, 'LSTM_l2': 0.001, 'LSTM_inter_dropout': 0.001, 'LSTM_input_gaussian_noise': 0.001, 'LSTM_conv1d': True, 'LSTM_conv1d_kernel_size': 3, 'LSTM_loss': 'mse', 'year_start': 2022, 'is_single_feature': False}\n",
      "2025-08-20 21:11:44,833 -   q0: 0.9980\n",
      "2025-08-20 21:11:44,849 -   Duration0: 0:00:34.754890\n",
      "2025-08-20 21:11:44,849 -   Val RMSE0 adjusted: 0.0051\n",
      "2025-08-20 21:11:44,849 -   Mean all prediction: 1.0007\n",
      "2025-08-20 21:11:44,849 -   Mean above prediction: 1.0027\n",
      "2025-08-20 21:11:44,849 -   Mean below prediction: 1.0037\n",
      "2025-08-20 21:11:44,849 -   Quantile 0.99 for distance in mask above: 4684.199999999998\n",
      "2025-08-20 21:11:44,849 -   Quantile 0.99 for distance in mask below: 4267.059999999988\n",
      "2025-08-20 21:11:44,849 -   Ratio for quantile-distance-to-length above: 0.0071\n",
      "2025-08-20 21:11:44,849 -   Ratio for quantile-distance-to-length below: 0.0065\n",
      "2025-08-20 21:11:44,849 -   Score: 1.0009\n"
     ]
    },
    {
     "name": "stderr",
     "output_type": "stream",
     "text": [
      "[I 2025-08-20 21:11:44,896] Trial 138 finished with value: 1.0009062161514144 and parameters: {'year_start': 2022, 'idxAfterPrediction': 3, 'LoadupSamples_time_inc_factor': 81, 'timesteps': 80, 'LSTM_learning_rate': 0.00012859752470973008, 'LSTM_dropout': 0.0682541526336429, 'is_single_feature': False}. Best is trial 31 with value: 1.0049487769776475.\n"
     ]
    },
    {
     "name": "stdout",
     "output_type": "stream",
     "text": [
      "2025-08-20 21:11:44,896 - Trial 138 finished with value: 1.0009062161514144 and parameters: {'year_start': 2022, 'idxAfterPrediction': 3, 'LoadupSamples_time_inc_factor': 81, 'timesteps': 80, 'LSTM_learning_rate': 0.00012859752470973008, 'LSTM_dropout': 0.0682541526336429, 'is_single_feature': False}. Best is trial 31 with value: 1.0049487769776475.\n",
      "2025-08-20 21:11:50,544 - Non-finite/too-large values in train y time: 36 samples.\n",
      "2025-08-20 21:11:50,544 - Removing 36 samples from training data.\n"
     ]
    },
    {
     "name": "stderr",
     "output_type": "stream",
     "text": [
      "Epochs:   0%|          | 0/2 [00:00<?, ?it/s]"
     ]
    },
    {
     "name": "stdout",
     "output_type": "stream",
     "text": [
      "2025-08-20 21:12:08,328 - Epoch 1/2 — Train RMSE: 0.6408 — Validation RMSE: 0.5960\n"
     ]
    },
    {
     "name": "stderr",
     "output_type": "stream",
     "text": [
      "Epochs:  50%|█████     | 1/2 [00:14<00:14, 14.79s/it]"
     ]
    },
    {
     "name": "stdout",
     "output_type": "stream",
     "text": [
      "2025-08-20 21:12:23,666 - Epoch 2/2 — Train RMSE: 0.5847 — Validation RMSE: 0.5426\n"
     ]
    },
    {
     "name": "stderr",
     "output_type": "stream",
     "text": [
      "Epochs: 100%|██████████| 2/2 [00:30<00:00, 15.06s/it]\n"
     ]
    },
    {
     "name": "stdout",
     "output_type": "stream",
     "text": [
      "2025-08-20 21:12:26,845 - Trial 139 with params: {'idxAfterPrediction': 3, 'timesteps': 30, 'target_option': 'last', 'LoadupSamples_time_scaling_stretch': True, 'LoadupSamples_time_inc_factor': 76, 'LSTM_units': 16, 'LSTM_num_layers': 1, 'LSTM_dropout': 0.009289739618255417, 'LSTM_recurrent_dropout': 0.001, 'LSTM_learning_rate': 2.218488500009617e-05, 'LSTM_optimizer': 'adam', 'LSTM_bidirectional': True, 'LSTM_batch_size': 4096, 'LSTM_epochs': 2, 'LSTM_l1': 0.001, 'LSTM_l2': 0.001, 'LSTM_inter_dropout': 0.001, 'LSTM_input_gaussian_noise': 0.001, 'LSTM_conv1d': True, 'LSTM_conv1d_kernel_size': 3, 'LSTM_loss': 'mse', 'year_start': 2022, 'is_single_feature': False}\n",
      "2025-08-20 21:12:26,861 -   q0: 0.9980\n",
      "2025-08-20 21:12:26,861 -   Duration0: 0:00:33.361066\n",
      "2025-08-20 21:12:26,861 -   Val RMSE0 adjusted: 0.0071\n",
      "2025-08-20 21:12:26,861 -   Mean all prediction: 1.0007\n",
      "2025-08-20 21:12:26,861 -   Mean above prediction: 0.9950\n",
      "2025-08-20 21:12:26,861 -   Mean below prediction: 0.9982\n",
      "2025-08-20 21:12:26,861 -   Quantile 0.99 for distance in mask above: 3575.019999999994\n",
      "2025-08-20 21:12:26,861 -   Quantile 0.99 for distance in mask below: 4646.879999999985\n",
      "2025-08-20 21:12:26,861 -   Ratio for quantile-distance-to-length above: 0.0054\n",
      "2025-08-20 21:12:26,861 -   Ratio for quantile-distance-to-length below: 0.0071\n",
      "2025-08-20 21:12:26,861 -   Score: 0.9983\n"
     ]
    },
    {
     "name": "stderr",
     "output_type": "stream",
     "text": [
      "[I 2025-08-20 21:12:26,893] Trial 139 finished with value: 0.9983176166537522 and parameters: {'year_start': 2022, 'idxAfterPrediction': 3, 'LoadupSamples_time_inc_factor': 76, 'timesteps': 30, 'LSTM_learning_rate': 2.218488500009617e-05, 'LSTM_dropout': 0.009289739618255417, 'is_single_feature': False}. Best is trial 31 with value: 1.0049487769776475.\n"
     ]
    },
    {
     "name": "stdout",
     "output_type": "stream",
     "text": [
      "2025-08-20 21:12:26,893 - Trial 139 finished with value: 0.9983176166537522 and parameters: {'year_start': 2022, 'idxAfterPrediction': 3, 'LoadupSamples_time_inc_factor': 76, 'timesteps': 30, 'LSTM_learning_rate': 2.218488500009617e-05, 'LSTM_dropout': 0.009289739618255417, 'is_single_feature': False}. Best is trial 31 with value: 1.0049487769776475.\n",
      "2025-08-20 21:12:37,322 - Non-finite/too-large values in train y time: 36 samples.\n",
      "2025-08-20 21:12:37,327 - Removing 36 samples from training data.\n"
     ]
    },
    {
     "name": "stderr",
     "output_type": "stream",
     "text": [
      "Epochs:   0%|          | 0/2 [00:00<?, ?it/s]"
     ]
    },
    {
     "name": "stdout",
     "output_type": "stream",
     "text": [
      "2025-08-20 21:13:13,607 - Epoch 1/2 — Train RMSE: 0.4666 — Validation RMSE: 0.4107\n"
     ]
    },
    {
     "name": "stderr",
     "output_type": "stream",
     "text": [
      "Epochs:  50%|█████     | 1/2 [00:29<00:29, 29.07s/it]"
     ]
    },
    {
     "name": "stdout",
     "output_type": "stream",
     "text": [
      "2025-08-20 21:13:43,153 - Epoch 2/2 — Train RMSE: 0.4094 — Validation RMSE: 0.3953\n"
     ]
    },
    {
     "name": "stderr",
     "output_type": "stream",
     "text": [
      "Epochs: 100%|██████████| 2/2 [00:58<00:00, 29.31s/it]\n"
     ]
    },
    {
     "name": "stdout",
     "output_type": "stream",
     "text": [
      "2025-08-20 21:13:46,157 - Trial 140 with params: {'idxAfterPrediction': 3, 'timesteps': 40, 'target_option': 'last', 'LoadupSamples_time_scaling_stretch': True, 'LoadupSamples_time_inc_factor': 66, 'LSTM_units': 16, 'LSTM_num_layers': 1, 'LSTM_dropout': 0.05783019762205716, 'LSTM_recurrent_dropout': 0.001, 'LSTM_learning_rate': 3.345537432875946e-05, 'LSTM_optimizer': 'adam', 'LSTM_bidirectional': True, 'LSTM_batch_size': 4096, 'LSTM_epochs': 2, 'LSTM_l1': 0.001, 'LSTM_l2': 0.001, 'LSTM_inter_dropout': 0.001, 'LSTM_input_gaussian_noise': 0.001, 'LSTM_conv1d': True, 'LSTM_conv1d_kernel_size': 3, 'LSTM_loss': 'mse', 'year_start': 2019, 'is_single_feature': True}\n",
      "2025-08-20 21:13:46,157 -   q0: 0.9980\n",
      "2025-08-20 21:13:46,157 -   Duration0: 0:01:01.687207\n",
      "2025-08-20 21:13:46,157 -   Val RMSE0 adjusted: 0.0060\n",
      "2025-08-20 21:13:46,157 -   Mean all prediction: 1.0007\n",
      "2025-08-20 21:13:46,157 -   Mean above prediction: 0.9972\n",
      "2025-08-20 21:13:46,157 -   Mean below prediction: 1.0019\n",
      "2025-08-20 21:13:46,157 -   Quantile 0.99 for distance in mask above: 5271.499999999943\n",
      "2025-08-20 21:13:46,157 -   Quantile 0.99 for distance in mask below: 4136.659999999992\n",
      "2025-08-20 21:13:46,157 -   Ratio for quantile-distance-to-length above: 0.0080\n",
      "2025-08-20 21:13:46,157 -   Ratio for quantile-distance-to-length below: 0.0063\n",
      "2025-08-20 21:13:46,157 -   Score: 0.9991\n"
     ]
    },
    {
     "name": "stderr",
     "output_type": "stream",
     "text": [
      "[I 2025-08-20 21:13:46,220] Trial 140 finished with value: 0.999070153763124 and parameters: {'year_start': 2019, 'idxAfterPrediction': 3, 'LoadupSamples_time_inc_factor': 66, 'timesteps': 40, 'LSTM_learning_rate': 3.345537432875946e-05, 'LSTM_dropout': 0.05783019762205716, 'is_single_feature': True}. Best is trial 31 with value: 1.0049487769776475.\n"
     ]
    },
    {
     "name": "stdout",
     "output_type": "stream",
     "text": [
      "2025-08-20 21:13:46,220 - Trial 140 finished with value: 0.999070153763124 and parameters: {'year_start': 2019, 'idxAfterPrediction': 3, 'LoadupSamples_time_inc_factor': 66, 'timesteps': 40, 'LSTM_learning_rate': 3.345537432875946e-05, 'LSTM_dropout': 0.05783019762205716, 'is_single_feature': True}. Best is trial 31 with value: 1.0049487769776475.\n",
      "2025-08-20 21:13:56,788 - Non-finite/too-large values in train y time: 36 samples.\n",
      "2025-08-20 21:13:56,788 - Removing 36 samples from training data.\n"
     ]
    },
    {
     "name": "stderr",
     "output_type": "stream",
     "text": [
      "Epochs:   0%|          | 0/2 [00:00<?, ?it/s]"
     ]
    },
    {
     "name": "stdout",
     "output_type": "stream",
     "text": [
      "2025-08-20 21:14:36,484 - Epoch 1/2 — Train RMSE: 0.5793 — Validation RMSE: 0.3953\n"
     ]
    },
    {
     "name": "stderr",
     "output_type": "stream",
     "text": [
      "Epochs:  50%|█████     | 1/2 [00:29<00:29, 29.62s/it]"
     ]
    },
    {
     "name": "stdout",
     "output_type": "stream",
     "text": [
      "2025-08-20 21:15:06,344 - Epoch 2/2 — Train RMSE: 0.3971 — Validation RMSE: 0.3870\n"
     ]
    },
    {
     "name": "stderr",
     "output_type": "stream",
     "text": [
      "Epochs: 100%|██████████| 2/2 [00:59<00:00, 29.74s/it]\n"
     ]
    },
    {
     "name": "stdout",
     "output_type": "stream",
     "text": [
      "2025-08-20 21:15:09,974 - Trial 141 with params: {'idxAfterPrediction': 3, 'timesteps': 60, 'target_option': 'last', 'LoadupSamples_time_scaling_stretch': True, 'LoadupSamples_time_inc_factor': 61, 'LSTM_units': 16, 'LSTM_num_layers': 1, 'LSTM_dropout': 0.06292887345976231, 'LSTM_recurrent_dropout': 0.001, 'LSTM_learning_rate': 8.188102743914386e-05, 'LSTM_optimizer': 'adam', 'LSTM_bidirectional': True, 'LSTM_batch_size': 4096, 'LSTM_epochs': 2, 'LSTM_l1': 0.001, 'LSTM_l2': 0.001, 'LSTM_inter_dropout': 0.001, 'LSTM_input_gaussian_noise': 0.001, 'LSTM_conv1d': True, 'LSTM_conv1d_kernel_size': 3, 'LSTM_loss': 'mse', 'year_start': 2019, 'is_single_feature': False}\n",
      "2025-08-20 21:15:09,974 -   q0: 0.9980\n",
      "2025-08-20 21:15:09,974 -   Duration0: 0:01:03.254028\n",
      "2025-08-20 21:15:09,974 -   Val RMSE0 adjusted: 0.0063\n",
      "2025-08-20 21:15:09,990 -   Mean all prediction: 1.0007\n",
      "2025-08-20 21:15:09,990 -   Mean above prediction: 1.0015\n",
      "2025-08-20 21:15:09,990 -   Mean below prediction: 0.9989\n",
      "2025-08-20 21:15:09,990 -   Quantile 0.99 for distance in mask above: 4892.459999999994\n",
      "2025-08-20 21:15:09,990 -   Quantile 0.99 for distance in mask below: 3552.199999999993\n",
      "2025-08-20 21:15:09,990 -   Ratio for quantile-distance-to-length above: 0.0074\n",
      "2025-08-20 21:15:09,990 -   Ratio for quantile-distance-to-length below: 0.0054\n",
      "2025-08-20 21:15:09,990 -   Score: 1.0005\n"
     ]
    },
    {
     "name": "stderr",
     "output_type": "stream",
     "text": [
      "[I 2025-08-20 21:15:10,053] Trial 141 finished with value: 1.0005082781600296 and parameters: {'year_start': 2019, 'idxAfterPrediction': 3, 'LoadupSamples_time_inc_factor': 61, 'timesteps': 60, 'LSTM_learning_rate': 8.188102743914386e-05, 'LSTM_dropout': 0.06292887345976231, 'is_single_feature': False}. Best is trial 31 with value: 1.0049487769776475.\n"
     ]
    },
    {
     "name": "stdout",
     "output_type": "stream",
     "text": [
      "2025-08-20 21:15:10,053 - Trial 141 finished with value: 1.0005082781600296 and parameters: {'year_start': 2019, 'idxAfterPrediction': 3, 'LoadupSamples_time_inc_factor': 61, 'timesteps': 60, 'LSTM_learning_rate': 8.188102743914386e-05, 'LSTM_dropout': 0.06292887345976231, 'is_single_feature': False}. Best is trial 31 with value: 1.0049487769776475.\n",
      "2025-08-20 21:15:20,572 - Non-finite/too-large values in train y time: 36 samples.\n",
      "2025-08-20 21:15:20,572 - Removing 36 samples from training data.\n"
     ]
    },
    {
     "name": "stderr",
     "output_type": "stream",
     "text": [
      "Epochs:   0%|          | 0/2 [00:00<?, ?it/s]"
     ]
    },
    {
     "name": "stdout",
     "output_type": "stream",
     "text": [
      "2025-08-20 21:15:59,346 - Epoch 1/2 — Train RMSE: 0.4254 — Validation RMSE: 0.3871\n"
     ]
    },
    {
     "name": "stderr",
     "output_type": "stream",
     "text": [
      "Epochs:  50%|█████     | 1/2 [00:29<00:29, 29.36s/it]"
     ]
    },
    {
     "name": "stdout",
     "output_type": "stream",
     "text": [
      "2025-08-20 21:16:29,119 - Epoch 2/2 — Train RMSE: 0.3958 — Validation RMSE: 0.3869\n"
     ]
    },
    {
     "name": "stderr",
     "output_type": "stream",
     "text": [
      "Epochs: 100%|██████████| 2/2 [00:59<00:00, 29.57s/it]\n"
     ]
    },
    {
     "name": "stdout",
     "output_type": "stream",
     "text": [
      "2025-08-20 21:16:33,718 - Trial 142 with params: {'idxAfterPrediction': 3, 'timesteps': 55, 'target_option': 'last', 'LoadupSamples_time_scaling_stretch': True, 'LoadupSamples_time_inc_factor': 61, 'LSTM_units': 16, 'LSTM_num_layers': 1, 'LSTM_dropout': 0.016671447475682572, 'LSTM_recurrent_dropout': 0.001, 'LSTM_learning_rate': 0.0001754273031057206, 'LSTM_optimizer': 'adam', 'LSTM_bidirectional': True, 'LSTM_batch_size': 4096, 'LSTM_epochs': 2, 'LSTM_l1': 0.001, 'LSTM_l2': 0.001, 'LSTM_inter_dropout': 0.001, 'LSTM_input_gaussian_noise': 0.001, 'LSTM_conv1d': True, 'LSTM_conv1d_kernel_size': 3, 'LSTM_loss': 'mse', 'year_start': 2019, 'is_single_feature': False}\n",
      "2025-08-20 21:16:33,734 -   q0: 0.9980\n",
      "2025-08-20 21:16:33,734 -   Duration0: 0:01:03.872857\n",
      "2025-08-20 21:16:33,734 -   Val RMSE0 adjusted: 0.0063\n",
      "2025-08-20 21:16:33,734 -   Mean all prediction: 1.0007\n",
      "2025-08-20 21:16:33,734 -   Mean above prediction: 1.0023\n",
      "2025-08-20 21:16:33,734 -   Mean below prediction: 1.0021\n",
      "2025-08-20 21:16:33,734 -   Quantile 0.99 for distance in mask above: 4785.679999999986\n",
      "2025-08-20 21:16:33,734 -   Quantile 0.99 for distance in mask below: 3814.319999999994\n",
      "2025-08-20 21:16:33,734 -   Ratio for quantile-distance-to-length above: 0.0073\n",
      "2025-08-20 21:16:33,734 -   Ratio for quantile-distance-to-length below: 0.0058\n",
      "2025-08-20 21:16:33,734 -   Score: 1.0008\n"
     ]
    },
    {
     "name": "stderr",
     "output_type": "stream",
     "text": [
      "[I 2025-08-20 21:16:33,797] Trial 142 finished with value: 1.0007720444897963 and parameters: {'year_start': 2019, 'idxAfterPrediction': 3, 'LoadupSamples_time_inc_factor': 61, 'timesteps': 55, 'LSTM_learning_rate': 0.0001754273031057206, 'LSTM_dropout': 0.016671447475682572, 'is_single_feature': False}. Best is trial 31 with value: 1.0049487769776475.\n"
     ]
    },
    {
     "name": "stdout",
     "output_type": "stream",
     "text": [
      "2025-08-20 21:16:33,797 - Trial 142 finished with value: 1.0007720444897963 and parameters: {'year_start': 2019, 'idxAfterPrediction': 3, 'LoadupSamples_time_inc_factor': 61, 'timesteps': 55, 'LSTM_learning_rate': 0.0001754273031057206, 'LSTM_dropout': 0.016671447475682572, 'is_single_feature': False}. Best is trial 31 with value: 1.0049487769776475.\n",
      "2025-08-20 21:16:44,994 - Non-finite/too-large values in train y time: 36 samples.\n",
      "2025-08-20 21:16:45,009 - Removing 36 samples from training data.\n"
     ]
    },
    {
     "name": "stderr",
     "output_type": "stream",
     "text": [
      "Epochs:   0%|          | 0/2 [00:00<?, ?it/s]"
     ]
    },
    {
     "name": "stdout",
     "output_type": "stream",
     "text": [
      "2025-08-20 21:17:21,437 - Epoch 1/2 — Train RMSE: 0.4259 — Validation RMSE: 0.3943\n"
     ]
    },
    {
     "name": "stderr",
     "output_type": "stream",
     "text": [
      "Epochs:  50%|█████     | 1/2 [00:29<00:29, 29.24s/it]"
     ]
    },
    {
     "name": "stdout",
     "output_type": "stream",
     "text": [
      "2025-08-20 21:17:50,685 - Epoch 2/2 — Train RMSE: 0.4034 — Validation RMSE: 0.3942\n"
     ]
    },
    {
     "name": "stderr",
     "output_type": "stream",
     "text": [
      "Epochs: 100%|██████████| 2/2 [00:58<00:00, 29.24s/it]\n"
     ]
    },
    {
     "name": "stdout",
     "output_type": "stream",
     "text": [
      "2025-08-20 21:17:54,204 - Trial 143 with params: {'idxAfterPrediction': 3, 'timesteps': 40, 'target_option': 'last', 'LoadupSamples_time_scaling_stretch': True, 'LoadupSamples_time_inc_factor': 66, 'LSTM_units': 16, 'LSTM_num_layers': 1, 'LSTM_dropout': 0.07740811289547449, 'LSTM_recurrent_dropout': 0.001, 'LSTM_learning_rate': 0.0006708680163411956, 'LSTM_optimizer': 'adam', 'LSTM_bidirectional': True, 'LSTM_batch_size': 4096, 'LSTM_epochs': 2, 'LSTM_l1': 0.001, 'LSTM_l2': 0.001, 'LSTM_inter_dropout': 0.001, 'LSTM_input_gaussian_noise': 0.001, 'LSTM_conv1d': True, 'LSTM_conv1d_kernel_size': 3, 'LSTM_loss': 'mse', 'year_start': 2019, 'is_single_feature': False}\n",
      "2025-08-20 21:17:54,204 -   q0: 0.9980\n",
      "2025-08-20 21:17:54,204 -   Duration0: 0:01:02.114419\n",
      "2025-08-20 21:17:54,204 -   Val RMSE0 adjusted: 0.0060\n",
      "2025-08-20 21:17:54,204 -   Mean all prediction: 1.0007\n",
      "2025-08-20 21:17:54,204 -   Mean above prediction: 0.9996\n",
      "2025-08-20 21:17:54,204 -   Mean below prediction: 1.0074\n",
      "2025-08-20 21:17:54,204 -   Quantile 0.99 for distance in mask above: 4633.539999999976\n",
      "2025-08-20 21:17:54,204 -   Quantile 0.99 for distance in mask below: 5117.359999999997\n",
      "2025-08-20 21:17:54,204 -   Ratio for quantile-distance-to-length above: 0.0070\n",
      "2025-08-20 21:17:54,204 -   Ratio for quantile-distance-to-length below: 0.0078\n",
      "2025-08-20 21:17:54,204 -   Score: 0.9999\n"
     ]
    },
    {
     "name": "stderr",
     "output_type": "stream",
     "text": [
      "[I 2025-08-20 21:17:54,252] Trial 143 finished with value: 0.9998744090314847 and parameters: {'year_start': 2019, 'idxAfterPrediction': 3, 'LoadupSamples_time_inc_factor': 66, 'timesteps': 40, 'LSTM_learning_rate': 0.0006708680163411956, 'LSTM_dropout': 0.07740811289547449, 'is_single_feature': False}. Best is trial 31 with value: 1.0049487769776475.\n"
     ]
    },
    {
     "name": "stdout",
     "output_type": "stream",
     "text": [
      "2025-08-20 21:17:54,252 - Trial 143 finished with value: 0.9998744090314847 and parameters: {'year_start': 2019, 'idxAfterPrediction': 3, 'LoadupSamples_time_inc_factor': 66, 'timesteps': 40, 'LSTM_learning_rate': 0.0006708680163411956, 'LSTM_dropout': 0.07740811289547449, 'is_single_feature': False}. Best is trial 31 with value: 1.0049487769776475.\n",
      "2025-08-20 21:18:04,735 - Non-finite/too-large values in train y time: 36 samples.\n",
      "2025-08-20 21:18:04,751 - Removing 36 samples from training data.\n"
     ]
    },
    {
     "name": "stderr",
     "output_type": "stream",
     "text": [
      "Epochs:   0%|          | 0/2 [00:00<?, ?it/s]"
     ]
    },
    {
     "name": "stdout",
     "output_type": "stream",
     "text": [
      "2025-08-20 21:18:43,137 - Epoch 1/2 — Train RMSE: 0.4782 — Validation RMSE: 0.3878\n"
     ]
    },
    {
     "name": "stderr",
     "output_type": "stream",
     "text": [
      "Epochs:  50%|█████     | 1/2 [00:29<00:29, 29.74s/it]"
     ]
    },
    {
     "name": "stdout",
     "output_type": "stream",
     "text": [
      "2025-08-20 21:19:12,903 - Epoch 2/2 — Train RMSE: 0.3961 — Validation RMSE: 0.3874\n"
     ]
    },
    {
     "name": "stderr",
     "output_type": "stream",
     "text": [
      "Epochs: 100%|██████████| 2/2 [00:59<00:00, 29.75s/it]\n"
     ]
    },
    {
     "name": "stdout",
     "output_type": "stream",
     "text": [
      "2025-08-20 21:19:16,598 - Trial 144 with params: {'idxAfterPrediction': 3, 'timesteps': 50, 'target_option': 'last', 'LoadupSamples_time_scaling_stretch': True, 'LoadupSamples_time_inc_factor': 61, 'LSTM_units': 16, 'LSTM_num_layers': 1, 'LSTM_dropout': 0.04549303876730047, 'LSTM_recurrent_dropout': 0.001, 'LSTM_learning_rate': 0.00010708276946395774, 'LSTM_optimizer': 'adam', 'LSTM_bidirectional': True, 'LSTM_batch_size': 4096, 'LSTM_epochs': 2, 'LSTM_l1': 0.001, 'LSTM_l2': 0.001, 'LSTM_inter_dropout': 0.001, 'LSTM_input_gaussian_noise': 0.001, 'LSTM_conv1d': True, 'LSTM_conv1d_kernel_size': 3, 'LSTM_loss': 'mse', 'year_start': 2019, 'is_single_feature': False}\n",
      "2025-08-20 21:19:16,598 -   q0: 0.9980\n",
      "2025-08-20 21:19:16,598 -   Duration0: 0:01:03.298046\n",
      "2025-08-20 21:19:16,598 -   Val RMSE0 adjusted: 0.0064\n",
      "2025-08-20 21:19:16,598 -   Mean all prediction: 1.0007\n",
      "2025-08-20 21:19:16,598 -   Mean above prediction: 0.9965\n",
      "2025-08-20 21:19:16,598 -   Mean below prediction: 0.9932\n",
      "2025-08-20 21:19:16,598 -   Quantile 0.99 for distance in mask above: 4077.079999999997\n",
      "2025-08-20 21:19:16,598 -   Quantile 0.99 for distance in mask below: 3747.4399999999896\n",
      "2025-08-20 21:19:16,598 -   Ratio for quantile-distance-to-length above: 0.0062\n",
      "2025-08-20 21:19:16,598 -   Ratio for quantile-distance-to-length below: 0.0057\n",
      "2025-08-20 21:19:16,598 -   Score: 0.9988\n"
     ]
    },
    {
     "name": "stderr",
     "output_type": "stream",
     "text": [
      "[I 2025-08-20 21:19:16,661] Trial 144 finished with value: 0.99882808754077 and parameters: {'year_start': 2019, 'idxAfterPrediction': 3, 'LoadupSamples_time_inc_factor': 61, 'timesteps': 50, 'LSTM_learning_rate': 0.00010708276946395774, 'LSTM_dropout': 0.04549303876730047, 'is_single_feature': False}. Best is trial 31 with value: 1.0049487769776475.\n"
     ]
    },
    {
     "name": "stdout",
     "output_type": "stream",
     "text": [
      "2025-08-20 21:19:16,661 - Trial 144 finished with value: 0.99882808754077 and parameters: {'year_start': 2019, 'idxAfterPrediction': 3, 'LoadupSamples_time_inc_factor': 61, 'timesteps': 50, 'LSTM_learning_rate': 0.00010708276946395774, 'LSTM_dropout': 0.04549303876730047, 'is_single_feature': False}. Best is trial 31 with value: 1.0049487769776475.\n",
      "2025-08-20 21:19:27,137 - Non-finite/too-large values in train y time: 60 samples.\n",
      "2025-08-20 21:19:27,137 - Removing 60 samples from training data.\n"
     ]
    },
    {
     "name": "stderr",
     "output_type": "stream",
     "text": [
      "Epochs:   0%|          | 0/2 [00:00<?, ?it/s]"
     ]
    },
    {
     "name": "stdout",
     "output_type": "stream",
     "text": [
      "2025-08-20 21:20:02,175 - Epoch 1/2 — Train RMSE: 0.5403 — Validation RMSE: 0.4334\n"
     ]
    },
    {
     "name": "stderr",
     "output_type": "stream",
     "text": [
      "Epochs:  50%|█████     | 1/2 [00:29<00:29, 29.40s/it]"
     ]
    },
    {
     "name": "stdout",
     "output_type": "stream",
     "text": [
      "2025-08-20 21:20:31,296 - Epoch 2/2 — Train RMSE: 0.4290 — Validation RMSE: 0.4187\n"
     ]
    },
    {
     "name": "stderr",
     "output_type": "stream",
     "text": [
      "Epochs: 100%|██████████| 2/2 [00:58<00:00, 29.26s/it]\n"
     ]
    },
    {
     "name": "stdout",
     "output_type": "stream",
     "text": [
      "2025-08-20 21:20:34,705 - Trial 145 with params: {'idxAfterPrediction': 5, 'timesteps': 30, 'target_option': 'last', 'LoadupSamples_time_scaling_stretch': True, 'LoadupSamples_time_inc_factor': 66, 'LSTM_units': 16, 'LSTM_num_layers': 1, 'LSTM_dropout': 0.09124526897745304, 'LSTM_recurrent_dropout': 0.001, 'LSTM_learning_rate': 5.760987556529986e-05, 'LSTM_optimizer': 'adam', 'LSTM_bidirectional': True, 'LSTM_batch_size': 4096, 'LSTM_epochs': 2, 'LSTM_l1': 0.001, 'LSTM_l2': 0.001, 'LSTM_inter_dropout': 0.001, 'LSTM_input_gaussian_noise': 0.001, 'LSTM_conv1d': True, 'LSTM_conv1d_kernel_size': 3, 'LSTM_loss': 'mse', 'year_start': 2019, 'is_single_feature': False}\n",
      "2025-08-20 21:20:34,705 -   q0: 0.9980\n",
      "2025-08-20 21:20:34,705 -   Duration0: 0:01:02.031721\n",
      "2025-08-20 21:20:34,705 -   Val RMSE0 adjusted: 0.0063\n",
      "2025-08-20 21:20:34,705 -   Mean all prediction: 1.0015\n",
      "2025-08-20 21:20:34,705 -   Mean above prediction: 1.0010\n",
      "2025-08-20 21:20:34,705 -   Mean below prediction: 1.0012\n",
      "2025-08-20 21:20:34,705 -   Quantile 0.99 for distance in mask above: 3964.0999999999967\n",
      "2025-08-20 21:20:34,705 -   Quantile 0.99 for distance in mask below: 4083.779999999998\n",
      "2025-08-20 21:20:34,705 -   Ratio for quantile-distance-to-length above: 0.0060\n",
      "2025-08-20 21:20:34,705 -   Ratio for quantile-distance-to-length below: 0.0062\n",
      "2025-08-20 21:20:34,705 -   Score: 1.0002\n"
     ]
    },
    {
     "name": "stderr",
     "output_type": "stream",
     "text": [
      "[I 2025-08-20 21:20:34,755] Trial 145 finished with value: 1.0001960112604862 and parameters: {'year_start': 2019, 'idxAfterPrediction': 5, 'LoadupSamples_time_inc_factor': 66, 'timesteps': 30, 'LSTM_learning_rate': 5.760987556529986e-05, 'LSTM_dropout': 0.09124526897745304, 'is_single_feature': False}. Best is trial 31 with value: 1.0049487769776475.\n"
     ]
    },
    {
     "name": "stdout",
     "output_type": "stream",
     "text": [
      "2025-08-20 21:20:34,755 - Trial 145 finished with value: 1.0001960112604862 and parameters: {'year_start': 2019, 'idxAfterPrediction': 5, 'LoadupSamples_time_inc_factor': 66, 'timesteps': 30, 'LSTM_learning_rate': 5.760987556529986e-05, 'LSTM_dropout': 0.09124526897745304, 'is_single_feature': False}. Best is trial 31 with value: 1.0049487769776475.\n",
      "2025-08-20 21:20:45,155 - Non-finite/too-large values in train y time: 36 samples.\n",
      "2025-08-20 21:20:45,171 - Removing 36 samples from training data.\n"
     ]
    },
    {
     "name": "stderr",
     "output_type": "stream",
     "text": [
      "Epochs:   0%|          | 0/2 [00:00<?, ?it/s]"
     ]
    },
    {
     "name": "stdout",
     "output_type": "stream",
     "text": [
      "2025-08-20 21:21:21,617 - Epoch 1/2 — Train RMSE: 0.5333 — Validation RMSE: 0.3877\n"
     ]
    },
    {
     "name": "stderr",
     "output_type": "stream",
     "text": [
      "Epochs:  50%|█████     | 1/2 [00:29<00:29, 29.29s/it]"
     ]
    },
    {
     "name": "stdout",
     "output_type": "stream",
     "text": [
      "2025-08-20 21:21:51,105 - Epoch 2/2 — Train RMSE: 0.3959 — Validation RMSE: 0.3870\n"
     ]
    },
    {
     "name": "stderr",
     "output_type": "stream",
     "text": [
      "Epochs: 100%|██████████| 2/2 [00:58<00:00, 29.39s/it]\n"
     ]
    },
    {
     "name": "stdout",
     "output_type": "stream",
     "text": [
      "2025-08-20 21:21:54,381 - Trial 146 with params: {'idxAfterPrediction': 3, 'timesteps': 40, 'target_option': 'last', 'LoadupSamples_time_scaling_stretch': True, 'LoadupSamples_time_inc_factor': 61, 'LSTM_units': 16, 'LSTM_num_layers': 1, 'LSTM_dropout': 0.06849906934906655, 'LSTM_recurrent_dropout': 0.001, 'LSTM_learning_rate': 9.441306711555402e-05, 'LSTM_optimizer': 'adam', 'LSTM_bidirectional': True, 'LSTM_batch_size': 4096, 'LSTM_epochs': 2, 'LSTM_l1': 0.001, 'LSTM_l2': 0.001, 'LSTM_inter_dropout': 0.001, 'LSTM_input_gaussian_noise': 0.001, 'LSTM_conv1d': True, 'LSTM_conv1d_kernel_size': 3, 'LSTM_loss': 'mse', 'year_start': 2019, 'is_single_feature': False}\n",
      "2025-08-20 21:21:54,381 -   q0: 0.9980\n",
      "2025-08-20 21:21:54,381 -   Duration0: 0:01:02.137458\n",
      "2025-08-20 21:21:54,381 -   Val RMSE0 adjusted: 0.0063\n",
      "2025-08-20 21:21:54,381 -   Mean all prediction: 1.0007\n",
      "2025-08-20 21:21:54,381 -   Mean above prediction: 1.0058\n",
      "2025-08-20 21:21:54,381 -   Mean below prediction: 1.0005\n",
      "2025-08-20 21:21:54,381 -   Quantile 0.99 for distance in mask above: 4468.139999999975\n",
      "2025-08-20 21:21:54,381 -   Quantile 0.99 for distance in mask below: 3465.199999999998\n",
      "2025-08-20 21:21:54,381 -   Ratio for quantile-distance-to-length above: 0.0068\n",
      "2025-08-20 21:21:54,381 -   Ratio for quantile-distance-to-length below: 0.0053\n",
      "2025-08-20 21:21:54,381 -   Score: 1.0019\n"
     ]
    },
    {
     "name": "stderr",
     "output_type": "stream",
     "text": [
      "[I 2025-08-20 21:21:54,429] Trial 146 finished with value: 1.0019256674877135 and parameters: {'year_start': 2019, 'idxAfterPrediction': 3, 'LoadupSamples_time_inc_factor': 61, 'timesteps': 40, 'LSTM_learning_rate': 9.441306711555402e-05, 'LSTM_dropout': 0.06849906934906655, 'is_single_feature': False}. Best is trial 31 with value: 1.0049487769776475.\n"
     ]
    },
    {
     "name": "stdout",
     "output_type": "stream",
     "text": [
      "2025-08-20 21:21:54,429 - Trial 146 finished with value: 1.0019256674877135 and parameters: {'year_start': 2019, 'idxAfterPrediction': 3, 'LoadupSamples_time_inc_factor': 61, 'timesteps': 40, 'LSTM_learning_rate': 9.441306711555402e-05, 'LSTM_dropout': 0.06849906934906655, 'is_single_feature': False}. Best is trial 31 with value: 1.0049487769776475.\n",
      "2025-08-20 21:22:04,782 - Non-finite/too-large values in train y time: 36 samples.\n",
      "2025-08-20 21:22:04,782 - Removing 36 samples from training data.\n"
     ]
    },
    {
     "name": "stderr",
     "output_type": "stream",
     "text": [
      "Epochs:   0%|          | 0/2 [00:00<?, ?it/s]"
     ]
    },
    {
     "name": "stdout",
     "output_type": "stream",
     "text": [
      "2025-08-20 21:22:40,840 - Epoch 1/2 — Train RMSE: 0.7247 — Validation RMSE: 0.6190\n"
     ]
    },
    {
     "name": "stderr",
     "output_type": "stream",
     "text": [
      "Epochs:  50%|█████     | 1/2 [00:29<00:29, 29.64s/it]"
     ]
    },
    {
     "name": "stdout",
     "output_type": "stream",
     "text": [
      "2025-08-20 21:23:10,053 - Epoch 2/2 — Train RMSE: 0.5490 — Validation RMSE: 0.4397\n"
     ]
    },
    {
     "name": "stderr",
     "output_type": "stream",
     "text": [
      "Epochs: 100%|██████████| 2/2 [00:58<00:00, 29.43s/it]\n"
     ]
    },
    {
     "name": "stdout",
     "output_type": "stream",
     "text": [
      "2025-08-20 21:23:13,443 - Trial 147 with params: {'idxAfterPrediction': 3, 'timesteps': 35, 'target_option': 'last', 'LoadupSamples_time_scaling_stretch': True, 'LoadupSamples_time_inc_factor': 66, 'LSTM_units': 16, 'LSTM_num_layers': 1, 'LSTM_dropout': 0.05758109479328268, 'LSTM_recurrent_dropout': 0.001, 'LSTM_learning_rate': 2.8462444512820378e-05, 'LSTM_optimizer': 'adam', 'LSTM_bidirectional': True, 'LSTM_batch_size': 4096, 'LSTM_epochs': 2, 'LSTM_l1': 0.001, 'LSTM_l2': 0.001, 'LSTM_inter_dropout': 0.001, 'LSTM_input_gaussian_noise': 0.001, 'LSTM_conv1d': True, 'LSTM_conv1d_kernel_size': 3, 'LSTM_loss': 'mse', 'year_start': 2019, 'is_single_feature': False}\n",
      "2025-08-20 21:23:13,443 -   q0: 0.9980\n",
      "2025-08-20 21:23:13,443 -   Duration0: 0:01:02.358820\n",
      "2025-08-20 21:23:13,443 -   Val RMSE0 adjusted: 0.0067\n",
      "2025-08-20 21:23:13,443 -   Mean all prediction: 1.0007\n",
      "2025-08-20 21:23:13,443 -   Mean above prediction: 1.0032\n",
      "2025-08-20 21:23:13,443 -   Mean below prediction: 1.0034\n",
      "2025-08-20 21:23:13,443 -   Quantile 0.99 for distance in mask above: 3917.4999999999973\n",
      "2025-08-20 21:23:13,443 -   Quantile 0.99 for distance in mask below: 4790.99999999997\n",
      "2025-08-20 21:23:13,443 -   Ratio for quantile-distance-to-length above: 0.0060\n",
      "2025-08-20 21:23:13,459 -   Ratio for quantile-distance-to-length below: 0.0073\n",
      "2025-08-20 21:23:13,459 -   Score: 1.0011\n"
     ]
    },
    {
     "name": "stderr",
     "output_type": "stream",
     "text": [
      "[I 2025-08-20 21:23:13,492] Trial 147 finished with value: 1.001075556744758 and parameters: {'year_start': 2019, 'idxAfterPrediction': 3, 'LoadupSamples_time_inc_factor': 66, 'timesteps': 35, 'LSTM_learning_rate': 2.8462444512820378e-05, 'LSTM_dropout': 0.05758109479328268, 'is_single_feature': False}. Best is trial 31 with value: 1.0049487769776475.\n"
     ]
    },
    {
     "name": "stdout",
     "output_type": "stream",
     "text": [
      "2025-08-20 21:23:13,492 - Trial 147 finished with value: 1.001075556744758 and parameters: {'year_start': 2019, 'idxAfterPrediction': 3, 'LoadupSamples_time_inc_factor': 66, 'timesteps': 35, 'LSTM_learning_rate': 2.8462444512820378e-05, 'LSTM_dropout': 0.05758109479328268, 'is_single_feature': False}. Best is trial 31 with value: 1.0049487769776475.\n",
      "2025-08-20 21:23:24,202 - Non-finite/too-large values in train y time: 36 samples.\n",
      "2025-08-20 21:23:24,218 - Removing 36 samples from training data.\n"
     ]
    },
    {
     "name": "stderr",
     "output_type": "stream",
     "text": [
      "Epochs:   0%|          | 0/2 [00:00<?, ?it/s]"
     ]
    },
    {
     "name": "stdout",
     "output_type": "stream",
     "text": [
      "2025-08-20 21:24:08,066 - Epoch 1/2 — Train RMSE: 0.4934 — Validation RMSE: 0.4280\n"
     ]
    },
    {
     "name": "stderr",
     "output_type": "stream",
     "text": [
      "Epochs:  50%|█████     | 1/2 [00:30<00:30, 30.05s/it]"
     ]
    },
    {
     "name": "stdout",
     "output_type": "stream",
     "text": [
      "2025-08-20 21:24:37,810 - Epoch 2/2 — Train RMSE: 0.4222 — Validation RMSE: 0.4072\n"
     ]
    },
    {
     "name": "stderr",
     "output_type": "stream",
     "text": [
      "Epochs: 100%|██████████| 2/2 [00:59<00:00, 29.90s/it]\n"
     ]
    },
    {
     "name": "stdout",
     "output_type": "stream",
     "text": [
      "2025-08-20 21:24:41,527 - Trial 148 with params: {'idxAfterPrediction': 3, 'timesteps': 85, 'target_option': 'last', 'LoadupSamples_time_scaling_stretch': True, 'LoadupSamples_time_inc_factor': 76, 'LSTM_units': 16, 'LSTM_num_layers': 1, 'LSTM_dropout': 0.039437683429186, 'LSTM_recurrent_dropout': 0.001, 'LSTM_learning_rate': 4.144879866486128e-05, 'LSTM_optimizer': 'adam', 'LSTM_bidirectional': True, 'LSTM_batch_size': 4096, 'LSTM_epochs': 2, 'LSTM_l1': 0.001, 'LSTM_l2': 0.001, 'LSTM_inter_dropout': 0.001, 'LSTM_input_gaussian_noise': 0.001, 'LSTM_conv1d': True, 'LSTM_conv1d_kernel_size': 3, 'LSTM_loss': 'mse', 'year_start': 2019, 'is_single_feature': False}\n",
      "2025-08-20 21:24:41,527 -   q0: 0.9980\n",
      "2025-08-20 21:24:41,527 -   Duration0: 0:01:03.695179\n",
      "2025-08-20 21:24:41,527 -   Val RMSE0 adjusted: 0.0054\n",
      "2025-08-20 21:24:41,527 -   Mean all prediction: 1.0007\n",
      "2025-08-20 21:24:41,527 -   Mean above prediction: 0.9999\n",
      "2025-08-20 21:24:41,527 -   Mean below prediction: 1.0139\n",
      "2025-08-20 21:24:41,527 -   Quantile 0.99 for distance in mask above: 4492.639999999968\n",
      "2025-08-20 21:24:41,527 -   Quantile 0.99 for distance in mask below: 4638.55999999997\n",
      "2025-08-20 21:24:41,527 -   Ratio for quantile-distance-to-length above: 0.0068\n",
      "2025-08-20 21:24:41,527 -   Ratio for quantile-distance-to-length below: 0.0071\n",
      "2025-08-20 21:24:41,527 -   Score: 1.0000\n"
     ]
    },
    {
     "name": "stderr",
     "output_type": "stream",
     "text": [
      "[I 2025-08-20 21:24:41,608] Trial 148 finished with value: 0.9999573820907665 and parameters: {'year_start': 2019, 'idxAfterPrediction': 3, 'LoadupSamples_time_inc_factor': 76, 'timesteps': 85, 'LSTM_learning_rate': 4.144879866486128e-05, 'LSTM_dropout': 0.039437683429186, 'is_single_feature': False}. Best is trial 31 with value: 1.0049487769776475.\n"
     ]
    },
    {
     "name": "stdout",
     "output_type": "stream",
     "text": [
      "2025-08-20 21:24:41,608 - Trial 148 finished with value: 0.9999573820907665 and parameters: {'year_start': 2019, 'idxAfterPrediction': 3, 'LoadupSamples_time_inc_factor': 76, 'timesteps': 85, 'LSTM_learning_rate': 4.144879866486128e-05, 'LSTM_dropout': 0.039437683429186, 'is_single_feature': False}. Best is trial 31 with value: 1.0049487769776475.\n",
      "2025-08-20 21:24:45,826 - Non-finite/too-large values in train y time: 36 samples.\n",
      "2025-08-20 21:24:45,826 - Removing 36 samples from training data.\n"
     ]
    },
    {
     "name": "stderr",
     "output_type": "stream",
     "text": [
      "Epochs:   0%|          | 0/2 [00:00<?, ?it/s]"
     ]
    },
    {
     "name": "stdout",
     "output_type": "stream",
     "text": [
      "2025-08-20 21:24:58,874 - Epoch 1/2 — Train RMSE: 0.4285 — Validation RMSE: 0.4218\n"
     ]
    },
    {
     "name": "stderr",
     "output_type": "stream",
     "text": [
      "Epochs:  50%|█████     | 1/2 [00:10<00:10, 10.11s/it]"
     ]
    },
    {
     "name": "stdout",
     "output_type": "stream",
     "text": [
      "2025-08-20 21:25:09,617 - Epoch 2/2 — Train RMSE: 0.4162 — Validation RMSE: 0.4157\n"
     ]
    },
    {
     "name": "stderr",
     "output_type": "stream",
     "text": [
      "Epochs: 100%|██████████| 2/2 [00:20<00:00, 10.43s/it]\n"
     ]
    },
    {
     "name": "stdout",
     "output_type": "stream",
     "text": [
      "2025-08-20 21:25:13,304 - Trial 149 with params: {'idxAfterPrediction': 3, 'timesteps': 45, 'target_option': 'last', 'LoadupSamples_time_scaling_stretch': True, 'LoadupSamples_time_inc_factor': 81, 'LSTM_units': 16, 'LSTM_num_layers': 1, 'LSTM_dropout': 0.08279368573881044, 'LSTM_recurrent_dropout': 0.001, 'LSTM_learning_rate': 0.0025829414405094875, 'LSTM_optimizer': 'adam', 'LSTM_bidirectional': True, 'LSTM_batch_size': 4096, 'LSTM_epochs': 2, 'LSTM_l1': 0.001, 'LSTM_l2': 0.001, 'LSTM_inter_dropout': 0.001, 'LSTM_input_gaussian_noise': 0.001, 'LSTM_conv1d': True, 'LSTM_conv1d_kernel_size': 3, 'LSTM_loss': 'mse', 'year_start': 2023, 'is_single_feature': False}\n",
      "2025-08-20 21:25:13,304 -   q0: 0.9980\n",
      "2025-08-20 21:25:13,304 -   Duration0: 0:00:24.585774\n",
      "2025-08-20 21:25:13,304 -   Val RMSE0 adjusted: 0.0051\n",
      "2025-08-20 21:25:13,304 -   Mean all prediction: 1.0007\n",
      "2025-08-20 21:25:13,304 -   Mean above prediction: 0.9980\n",
      "2025-08-20 21:25:13,304 -   Mean below prediction: 1.0005\n",
      "2025-08-20 21:25:13,304 -   Quantile 0.99 for distance in mask above: 5640.58\n",
      "2025-08-20 21:25:13,304 -   Quantile 0.99 for distance in mask below: 3579.199999999998\n",
      "2025-08-20 21:25:13,304 -   Ratio for quantile-distance-to-length above: 0.0086\n",
      "2025-08-20 21:25:13,304 -   Ratio for quantile-distance-to-length below: 0.0054\n",
      "2025-08-20 21:25:13,304 -   Score: 0.9993\n"
     ]
    },
    {
     "name": "stderr",
     "output_type": "stream",
     "text": [
      "[I 2025-08-20 21:25:13,336] Trial 149 finished with value: 0.9993187127729738 and parameters: {'year_start': 2023, 'idxAfterPrediction': 3, 'LoadupSamples_time_inc_factor': 81, 'timesteps': 45, 'LSTM_learning_rate': 0.0025829414405094875, 'LSTM_dropout': 0.08279368573881044, 'is_single_feature': False}. Best is trial 31 with value: 1.0049487769776475.\n"
     ]
    },
    {
     "name": "stdout",
     "output_type": "stream",
     "text": [
      "2025-08-20 21:25:13,336 - Trial 149 finished with value: 0.9993187127729738 and parameters: {'year_start': 2023, 'idxAfterPrediction': 3, 'LoadupSamples_time_inc_factor': 81, 'timesteps': 45, 'LSTM_learning_rate': 0.0025829414405094875, 'LSTM_dropout': 0.08279368573881044, 'is_single_feature': False}. Best is trial 31 with value: 1.0049487769776475.\n",
      "2025-08-20 21:25:20,727 - Non-finite/too-large values in train y time: 72 samples.\n",
      "2025-08-20 21:25:20,727 - Removing 72 samples from training data.\n"
     ]
    },
    {
     "name": "stderr",
     "output_type": "stream",
     "text": [
      "Epochs:   0%|          | 0/2 [00:00<?, ?it/s]"
     ]
    },
    {
     "name": "stdout",
     "output_type": "stream",
     "text": [
      "2025-08-20 21:25:44,194 - Epoch 1/2 — Train RMSE: 0.5263 — Validation RMSE: 0.4335\n"
     ]
    },
    {
     "name": "stderr",
     "output_type": "stream",
     "text": [
      "Epochs:  50%|█████     | 1/2 [00:19<00:19, 19.59s/it]"
     ]
    },
    {
     "name": "stdout",
     "output_type": "stream",
     "text": [
      "2025-08-20 21:26:04,158 - Epoch 2/2 — Train RMSE: 0.4370 — Validation RMSE: 0.4303\n"
     ]
    },
    {
     "name": "stderr",
     "output_type": "stream",
     "text": [
      "Epochs: 100%|██████████| 2/2 [00:39<00:00, 19.78s/it]\n"
     ]
    },
    {
     "name": "stdout",
     "output_type": "stream",
     "text": [
      "2025-08-20 21:26:07,770 - Trial 150 with params: {'idxAfterPrediction': 6, 'timesteps': 30, 'target_option': 'last', 'LoadupSamples_time_scaling_stretch': True, 'LoadupSamples_time_inc_factor': 71, 'LSTM_units': 16, 'LSTM_num_layers': 1, 'LSTM_dropout': 0.06262935900929734, 'LSTM_recurrent_dropout': 0.001, 'LSTM_learning_rate': 0.0001545042223014922, 'LSTM_optimizer': 'adam', 'LSTM_bidirectional': True, 'LSTM_batch_size': 4096, 'LSTM_epochs': 2, 'LSTM_l1': 0.001, 'LSTM_l2': 0.001, 'LSTM_inter_dropout': 0.001, 'LSTM_input_gaussian_noise': 0.001, 'LSTM_conv1d': True, 'LSTM_conv1d_kernel_size': 3, 'LSTM_loss': 'mse', 'year_start': 2021, 'is_single_feature': False}\n",
      "2025-08-20 21:26:07,786 -   q0: 0.9980\n",
      "2025-08-20 21:26:07,786 -   Duration0: 0:00:43.239564\n",
      "2025-08-20 21:26:07,786 -   Val RMSE0 adjusted: 0.0061\n",
      "2025-08-20 21:26:07,786 -   Mean all prediction: 1.0019\n",
      "2025-08-20 21:26:07,786 -   Mean above prediction: 1.0223\n",
      "2025-08-20 21:26:07,786 -   Mean below prediction: 0.9984\n",
      "2025-08-20 21:26:07,786 -   Quantile 0.99 for distance in mask above: 5363.8199999999615\n",
      "2025-08-20 21:26:07,786 -   Quantile 0.99 for distance in mask below: 4281.7799999999925\n",
      "2025-08-20 21:26:07,786 -   Ratio for quantile-distance-to-length above: 0.0082\n",
      "2025-08-20 21:26:07,786 -   Ratio for quantile-distance-to-length below: 0.0065\n",
      "2025-08-20 21:26:07,786 -   Score: 1.0037\n"
     ]
    },
    {
     "name": "stderr",
     "output_type": "stream",
     "text": [
      "[I 2025-08-20 21:26:07,818] Trial 150 finished with value: 1.003675435099915 and parameters: {'year_start': 2021, 'idxAfterPrediction': 6, 'LoadupSamples_time_inc_factor': 71, 'timesteps': 30, 'LSTM_learning_rate': 0.0001545042223014922, 'LSTM_dropout': 0.06262935900929734, 'is_single_feature': False}. Best is trial 31 with value: 1.0049487769776475.\n"
     ]
    },
    {
     "name": "stdout",
     "output_type": "stream",
     "text": [
      "2025-08-20 21:26:07,818 - Trial 150 finished with value: 1.003675435099915 and parameters: {'year_start': 2021, 'idxAfterPrediction': 6, 'LoadupSamples_time_inc_factor': 71, 'timesteps': 30, 'LSTM_learning_rate': 0.0001545042223014922, 'LSTM_dropout': 0.06262935900929734, 'is_single_feature': False}. Best is trial 31 with value: 1.0049487769776475.\n",
      "2025-08-20 21:26:15,218 - Non-finite/too-large values in train y time: 48 samples.\n",
      "2025-08-20 21:26:15,220 - Removing 48 samples from training data.\n"
     ]
    },
    {
     "name": "stderr",
     "output_type": "stream",
     "text": [
      "Epochs:   0%|          | 0/2 [00:00<?, ?it/s]"
     ]
    },
    {
     "name": "stdout",
     "output_type": "stream",
     "text": [
      "2025-08-20 21:26:40,330 - Epoch 1/2 — Train RMSE: 0.5496 — Validation RMSE: 0.4317\n"
     ]
    },
    {
     "name": "stderr",
     "output_type": "stream",
     "text": [
      "Epochs:  50%|█████     | 1/2 [00:19<00:19, 19.64s/it]"
     ]
    },
    {
     "name": "stdout",
     "output_type": "stream",
     "text": [
      "2025-08-20 21:26:59,843 - Epoch 2/2 — Train RMSE: 0.4177 — Validation RMSE: 0.4027\n"
     ]
    },
    {
     "name": "stderr",
     "output_type": "stream",
     "text": [
      "Epochs: 100%|██████████| 2/2 [00:39<00:00, 19.58s/it]\n"
     ]
    },
    {
     "name": "stdout",
     "output_type": "stream",
     "text": [
      "2025-08-20 21:27:03,613 - Trial 151 with params: {'idxAfterPrediction': 4, 'timesteps': 45, 'target_option': 'last', 'LoadupSamples_time_scaling_stretch': True, 'LoadupSamples_time_inc_factor': 61, 'LSTM_units': 16, 'LSTM_num_layers': 1, 'LSTM_dropout': 0.07127586062154859, 'LSTM_recurrent_dropout': 0.001, 'LSTM_learning_rate': 9.133597407407569e-05, 'LSTM_optimizer': 'adam', 'LSTM_bidirectional': True, 'LSTM_batch_size': 4096, 'LSTM_epochs': 2, 'LSTM_l1': 0.001, 'LSTM_l2': 0.001, 'LSTM_inter_dropout': 0.001, 'LSTM_input_gaussian_noise': 0.001, 'LSTM_conv1d': True, 'LSTM_conv1d_kernel_size': 3, 'LSTM_loss': 'mse', 'year_start': 2021, 'is_single_feature': False}\n",
      "2025-08-20 21:27:03,613 -   q0: 0.9980\n",
      "2025-08-20 21:27:03,613 -   Duration0: 0:00:43.014798\n",
      "2025-08-20 21:27:03,613 -   Val RMSE0 adjusted: 0.0066\n",
      "2025-08-20 21:27:03,613 -   Mean all prediction: 1.0011\n",
      "2025-08-20 21:27:03,613 -   Mean above prediction: 1.0072\n",
      "2025-08-20 21:27:03,613 -   Mean below prediction: 1.0033\n",
      "2025-08-20 21:27:03,613 -   Quantile 0.99 for distance in mask above: 5356.3999999999705\n",
      "2025-08-20 21:27:03,613 -   Quantile 0.99 for distance in mask below: 5058.319999999994\n",
      "2025-08-20 21:27:03,613 -   Ratio for quantile-distance-to-length above: 0.0081\n",
      "2025-08-20 21:27:03,613 -   Ratio for quantile-distance-to-length below: 0.0077\n",
      "2025-08-20 21:27:03,613 -   Score: 1.0018\n"
     ]
    },
    {
     "name": "stderr",
     "output_type": "stream",
     "text": [
      "[I 2025-08-20 21:27:03,661] Trial 151 finished with value: 1.0017935754183482 and parameters: {'year_start': 2021, 'idxAfterPrediction': 4, 'LoadupSamples_time_inc_factor': 61, 'timesteps': 45, 'LSTM_learning_rate': 9.133597407407569e-05, 'LSTM_dropout': 0.07127586062154859, 'is_single_feature': False}. Best is trial 31 with value: 1.0049487769776475.\n"
     ]
    },
    {
     "name": "stdout",
     "output_type": "stream",
     "text": [
      "2025-08-20 21:27:03,661 - Trial 151 finished with value: 1.0017935754183482 and parameters: {'year_start': 2021, 'idxAfterPrediction': 4, 'LoadupSamples_time_inc_factor': 61, 'timesteps': 45, 'LSTM_learning_rate': 9.133597407407569e-05, 'LSTM_dropout': 0.07127586062154859, 'is_single_feature': False}. Best is trial 31 with value: 1.0049487769776475.\n",
      "2025-08-20 21:27:14,200 - Non-finite/too-large values in train y time: 48 samples.\n",
      "2025-08-20 21:27:14,200 - Removing 48 samples from training data.\n"
     ]
    },
    {
     "name": "stderr",
     "output_type": "stream",
     "text": [
      "Epochs:   0%|          | 0/2 [00:00<?, ?it/s]"
     ]
    },
    {
     "name": "stdout",
     "output_type": "stream",
     "text": [
      "2025-08-20 21:27:51,511 - Epoch 1/2 — Train RMSE: 0.4964 — Validation RMSE: 0.4110\n"
     ]
    },
    {
     "name": "stderr",
     "output_type": "stream",
     "text": [
      "Epochs:  50%|█████     | 1/2 [00:29<00:29, 29.34s/it]"
     ]
    },
    {
     "name": "stdout",
     "output_type": "stream",
     "text": [
      "2025-08-20 21:28:20,695 - Epoch 2/2 — Train RMSE: 0.4125 — Validation RMSE: 0.4022\n"
     ]
    },
    {
     "name": "stderr",
     "output_type": "stream",
     "text": [
      "Epochs: 100%|██████████| 2/2 [00:58<00:00, 29.26s/it]\n"
     ]
    },
    {
     "name": "stdout",
     "output_type": "stream",
     "text": [
      "2025-08-20 21:28:24,069 - Trial 152 with params: {'idxAfterPrediction': 4, 'timesteps': 45, 'target_option': 'last', 'LoadupSamples_time_scaling_stretch': True, 'LoadupSamples_time_inc_factor': 61, 'LSTM_units': 16, 'LSTM_num_layers': 1, 'LSTM_dropout': 0.06460918869172966, 'LSTM_recurrent_dropout': 0.001, 'LSTM_learning_rate': 6.786440652765803e-05, 'LSTM_optimizer': 'adam', 'LSTM_bidirectional': True, 'LSTM_batch_size': 4096, 'LSTM_epochs': 2, 'LSTM_l1': 0.001, 'LSTM_l2': 0.001, 'LSTM_inter_dropout': 0.001, 'LSTM_input_gaussian_noise': 0.001, 'LSTM_conv1d': True, 'LSTM_conv1d_kernel_size': 3, 'LSTM_loss': 'mse', 'year_start': 2019, 'is_single_feature': False}\n",
      "2025-08-20 21:28:24,069 -   q0: 0.9980\n",
      "2025-08-20 21:28:24,069 -   Duration0: 0:01:01.993082\n",
      "2025-08-20 21:28:24,069 -   Val RMSE0 adjusted: 0.0066\n",
      "2025-08-20 21:28:24,069 -   Mean all prediction: 1.0011\n",
      "2025-08-20 21:28:24,069 -   Mean above prediction: 1.0138\n",
      "2025-08-20 21:28:24,069 -   Mean below prediction: 1.0045\n",
      "2025-08-20 21:28:24,069 -   Quantile 0.99 for distance in mask above: 4767.019999999994\n",
      "2025-08-20 21:28:24,069 -   Quantile 0.99 for distance in mask below: 4661.699999999995\n",
      "2025-08-20 21:28:24,069 -   Ratio for quantile-distance-to-length above: 0.0072\n",
      "2025-08-20 21:28:24,069 -   Ratio for quantile-distance-to-length below: 0.0071\n",
      "2025-08-20 21:28:24,069 -   Score: 1.0034\n"
     ]
    },
    {
     "name": "stderr",
     "output_type": "stream",
     "text": [
      "[I 2025-08-20 21:28:24,117] Trial 152 finished with value: 1.0034311822760287 and parameters: {'year_start': 2019, 'idxAfterPrediction': 4, 'LoadupSamples_time_inc_factor': 61, 'timesteps': 45, 'LSTM_learning_rate': 6.786440652765803e-05, 'LSTM_dropout': 0.06460918869172966, 'is_single_feature': False}. Best is trial 31 with value: 1.0049487769776475.\n"
     ]
    },
    {
     "name": "stdout",
     "output_type": "stream",
     "text": [
      "2025-08-20 21:28:24,117 - Trial 152 finished with value: 1.0034311822760287 and parameters: {'year_start': 2019, 'idxAfterPrediction': 4, 'LoadupSamples_time_inc_factor': 61, 'timesteps': 45, 'LSTM_learning_rate': 6.786440652765803e-05, 'LSTM_dropout': 0.06460918869172966, 'is_single_feature': False}. Best is trial 31 with value: 1.0049487769776475.\n",
      "2025-08-20 21:28:34,621 - Non-finite/too-large values in train y time: 48 samples.\n",
      "2025-08-20 21:28:34,621 - Removing 48 samples from training data.\n"
     ]
    },
    {
     "name": "stderr",
     "output_type": "stream",
     "text": [
      "Epochs:   0%|          | 0/2 [00:00<?, ?it/s]"
     ]
    },
    {
     "name": "stdout",
     "output_type": "stream",
     "text": [
      "2025-08-20 21:29:11,756 - Epoch 1/2 — Train RMSE: 0.4586 — Validation RMSE: 0.3944\n"
     ]
    },
    {
     "name": "stderr",
     "output_type": "stream",
     "text": [
      "Epochs:  50%|█████     | 1/2 [00:29<00:29, 29.27s/it]"
     ]
    },
    {
     "name": "stdout",
     "output_type": "stream",
     "text": [
      "2025-08-20 21:29:40,939 - Epoch 2/2 — Train RMSE: 0.4021 — Validation RMSE: 0.3940\n"
     ]
    },
    {
     "name": "stderr",
     "output_type": "stream",
     "text": [
      "Epochs: 100%|██████████| 2/2 [00:58<00:00, 29.23s/it]\n"
     ]
    },
    {
     "name": "stdout",
     "output_type": "stream",
     "text": [
      "2025-08-20 21:29:44,325 - Trial 153 with params: {'idxAfterPrediction': 4, 'timesteps': 45, 'target_option': 'last', 'LoadupSamples_time_scaling_stretch': True, 'LoadupSamples_time_inc_factor': 56, 'LSTM_units': 16, 'LSTM_num_layers': 1, 'LSTM_dropout': 0.05098666883255316, 'LSTM_recurrent_dropout': 0.001, 'LSTM_learning_rate': 0.00013219458049386243, 'LSTM_optimizer': 'adam', 'LSTM_bidirectional': True, 'LSTM_batch_size': 4096, 'LSTM_epochs': 2, 'LSTM_l1': 0.001, 'LSTM_l2': 0.001, 'LSTM_inter_dropout': 0.001, 'LSTM_input_gaussian_noise': 0.001, 'LSTM_conv1d': True, 'LSTM_conv1d_kernel_size': 3, 'LSTM_loss': 'mse', 'year_start': 2019, 'is_single_feature': False}\n",
      "2025-08-20 21:29:44,325 -   q0: 0.9980\n",
      "2025-08-20 21:29:44,325 -   Duration0: 0:01:01.958103\n",
      "2025-08-20 21:29:44,325 -   Val RMSE0 adjusted: 0.0070\n",
      "2025-08-20 21:29:44,325 -   Mean all prediction: 1.0011\n",
      "2025-08-20 21:29:44,341 -   Mean above prediction: 1.0056\n",
      "2025-08-20 21:29:44,341 -   Mean below prediction: 1.0024\n",
      "2025-08-20 21:29:44,341 -   Quantile 0.99 for distance in mask above: 5100.699999999955\n",
      "2025-08-20 21:29:44,341 -   Quantile 0.99 for distance in mask below: 4829.079999999997\n",
      "2025-08-20 21:29:44,341 -   Ratio for quantile-distance-to-length above: 0.0078\n",
      "2025-08-20 21:29:44,341 -   Ratio for quantile-distance-to-length below: 0.0073\n",
      "2025-08-20 21:29:44,341 -   Score: 1.0014\n"
     ]
    },
    {
     "name": "stderr",
     "output_type": "stream",
     "text": [
      "[I 2025-08-20 21:29:44,389] Trial 153 finished with value: 1.0013958053707075 and parameters: {'year_start': 2019, 'idxAfterPrediction': 4, 'LoadupSamples_time_inc_factor': 56, 'timesteps': 45, 'LSTM_learning_rate': 0.00013219458049386243, 'LSTM_dropout': 0.05098666883255316, 'is_single_feature': False}. Best is trial 31 with value: 1.0049487769776475.\n"
     ]
    },
    {
     "name": "stdout",
     "output_type": "stream",
     "text": [
      "2025-08-20 21:29:44,389 - Trial 153 finished with value: 1.0013958053707075 and parameters: {'year_start': 2019, 'idxAfterPrediction': 4, 'LoadupSamples_time_inc_factor': 56, 'timesteps': 45, 'LSTM_learning_rate': 0.00013219458049386243, 'LSTM_dropout': 0.05098666883255316, 'is_single_feature': False}. Best is trial 31 with value: 1.0049487769776475.\n",
      "2025-08-20 21:29:50,160 - Non-finite/too-large values in train y time: 48 samples.\n",
      "2025-08-20 21:29:50,160 - Removing 48 samples from training data.\n"
     ]
    },
    {
     "name": "stderr",
     "output_type": "stream",
     "text": [
      "Epochs:   0%|          | 0/2 [00:00<?, ?it/s]"
     ]
    },
    {
     "name": "stdout",
     "output_type": "stream",
     "text": [
      "2025-08-20 21:30:10,248 - Epoch 1/2 — Train RMSE: 0.5563 — Validation RMSE: 0.4860\n"
     ]
    },
    {
     "name": "stderr",
     "output_type": "stream",
     "text": [
      "Epochs:  50%|█████     | 1/2 [00:15<00:15, 15.50s/it]"
     ]
    },
    {
     "name": "stdout",
     "output_type": "stream",
     "text": [
      "2025-08-20 21:30:25,860 - Epoch 2/2 — Train RMSE: 0.4578 — Validation RMSE: 0.4165\n"
     ]
    },
    {
     "name": "stderr",
     "output_type": "stream",
     "text": [
      "Epochs: 100%|██████████| 2/2 [00:31<00:00, 15.56s/it]\n"
     ]
    },
    {
     "name": "stdout",
     "output_type": "stream",
     "text": [
      "2025-08-20 21:30:29,259 - Trial 154 with params: {'idxAfterPrediction': 4, 'timesteps': 50, 'target_option': 'last', 'LoadupSamples_time_scaling_stretch': True, 'LoadupSamples_time_inc_factor': 61, 'LSTM_units': 16, 'LSTM_num_layers': 1, 'LSTM_dropout': 0.05460145111140955, 'LSTM_recurrent_dropout': 0.001, 'LSTM_learning_rate': 7.81110630134141e-05, 'LSTM_optimizer': 'adam', 'LSTM_bidirectional': True, 'LSTM_batch_size': 4096, 'LSTM_epochs': 2, 'LSTM_l1': 0.001, 'LSTM_l2': 0.001, 'LSTM_inter_dropout': 0.001, 'LSTM_input_gaussian_noise': 0.001, 'LSTM_conv1d': True, 'LSTM_conv1d_kernel_size': 3, 'LSTM_loss': 'mse', 'year_start': 2022, 'is_single_feature': False}\n",
      "2025-08-20 21:30:29,259 -   q0: 0.9980\n",
      "2025-08-20 21:30:29,259 -   Duration0: 0:00:34.572847\n",
      "2025-08-20 21:30:29,259 -   Val RMSE0 adjusted: 0.0068\n",
      "2025-08-20 21:30:29,259 -   Mean all prediction: 1.0011\n",
      "2025-08-20 21:30:29,259 -   Mean above prediction: 1.0071\n",
      "2025-08-20 21:30:29,259 -   Mean below prediction: 1.0051\n",
      "2025-08-20 21:30:29,259 -   Quantile 0.99 for distance in mask above: 4651.249999999998\n",
      "2025-08-20 21:30:29,259 -   Quantile 0.99 for distance in mask below: 4576.659999999967\n",
      "2025-08-20 21:30:29,259 -   Ratio for quantile-distance-to-length above: 0.0071\n",
      "2025-08-20 21:30:29,259 -   Ratio for quantile-distance-to-length below: 0.0070\n",
      "2025-08-20 21:30:29,259 -   Score: 1.0018\n"
     ]
    },
    {
     "name": "stderr",
     "output_type": "stream",
     "text": [
      "[I 2025-08-20 21:30:29,291] Trial 154 finished with value: 1.001771675729105 and parameters: {'year_start': 2022, 'idxAfterPrediction': 4, 'LoadupSamples_time_inc_factor': 61, 'timesteps': 50, 'LSTM_learning_rate': 7.81110630134141e-05, 'LSTM_dropout': 0.05460145111140955, 'is_single_feature': False}. Best is trial 31 with value: 1.0049487769776475.\n"
     ]
    },
    {
     "name": "stdout",
     "output_type": "stream",
     "text": [
      "2025-08-20 21:30:29,291 - Trial 154 finished with value: 1.001771675729105 and parameters: {'year_start': 2022, 'idxAfterPrediction': 4, 'LoadupSamples_time_inc_factor': 61, 'timesteps': 50, 'LSTM_learning_rate': 7.81110630134141e-05, 'LSTM_dropout': 0.05460145111140955, 'is_single_feature': False}. Best is trial 31 with value: 1.0049487769776475.\n",
      "2025-08-20 21:30:35,190 - Non-finite/too-large values in train y time: 48 samples.\n",
      "2025-08-20 21:30:35,190 - Removing 48 samples from training data.\n"
     ]
    },
    {
     "name": "stderr",
     "output_type": "stream",
     "text": [
      "Epochs:   0%|          | 0/2 [00:00<?, ?it/s]"
     ]
    },
    {
     "name": "stdout",
     "output_type": "stream",
     "text": [
      "2025-08-20 21:30:56,739 - Epoch 1/2 — Train RMSE: 0.5328 — Validation RMSE: 0.4461\n"
     ]
    },
    {
     "name": "stderr",
     "output_type": "stream",
     "text": [
      "Epochs:  50%|█████     | 1/2 [00:15<00:15, 15.34s/it]"
     ]
    },
    {
     "name": "stdout",
     "output_type": "stream",
     "text": [
      "2025-08-20 21:31:12,406 - Epoch 2/2 — Train RMSE: 0.4297 — Validation RMSE: 0.4093\n"
     ]
    },
    {
     "name": "stderr",
     "output_type": "stream",
     "text": [
      "Epochs: 100%|██████████| 2/2 [00:31<00:00, 15.50s/it]\n"
     ]
    },
    {
     "name": "stdout",
     "output_type": "stream",
     "text": [
      "2025-08-20 21:31:16,170 - Trial 155 with params: {'idxAfterPrediction': 4, 'timesteps': 70, 'target_option': 'last', 'LoadupSamples_time_scaling_stretch': True, 'LoadupSamples_time_inc_factor': 66, 'LSTM_units': 16, 'LSTM_num_layers': 1, 'LSTM_dropout': 0.0754169924674387, 'LSTM_recurrent_dropout': 0.001, 'LSTM_learning_rate': 0.00011550461596208751, 'LSTM_optimizer': 'adam', 'LSTM_bidirectional': True, 'LSTM_batch_size': 4096, 'LSTM_epochs': 2, 'LSTM_l1': 0.001, 'LSTM_l2': 0.001, 'LSTM_inter_dropout': 0.001, 'LSTM_input_gaussian_noise': 0.001, 'LSTM_conv1d': True, 'LSTM_conv1d_kernel_size': 3, 'LSTM_loss': 'mse', 'year_start': 2022, 'is_single_feature': False}\n",
      "2025-08-20 21:31:16,170 -   q0: 0.9980\n",
      "2025-08-20 21:31:16,170 -   Duration0: 0:00:34.895460\n",
      "2025-08-20 21:31:16,186 -   Val RMSE0 adjusted: 0.0062\n",
      "2025-08-20 21:31:16,186 -   Mean all prediction: 1.0011\n",
      "2025-08-20 21:31:16,186 -   Mean above prediction: 0.9990\n",
      "2025-08-20 21:31:16,186 -   Mean below prediction: 0.9997\n",
      "2025-08-20 21:31:16,186 -   Quantile 0.99 for distance in mask above: 4183.779999999978\n",
      "2025-08-20 21:31:16,186 -   Quantile 0.99 for distance in mask below: 4242.499999999993\n",
      "2025-08-20 21:31:16,186 -   Ratio for quantile-distance-to-length above: 0.0064\n",
      "2025-08-20 21:31:16,186 -   Ratio for quantile-distance-to-length below: 0.0064\n",
      "2025-08-20 21:31:16,186 -   Score: 0.9998\n"
     ]
    },
    {
     "name": "stderr",
     "output_type": "stream",
     "text": [
      "[I 2025-08-20 21:31:16,224] Trial 155 finished with value: 0.9997574907133364 and parameters: {'year_start': 2022, 'idxAfterPrediction': 4, 'LoadupSamples_time_inc_factor': 66, 'timesteps': 70, 'LSTM_learning_rate': 0.00011550461596208751, 'LSTM_dropout': 0.0754169924674387, 'is_single_feature': False}. Best is trial 31 with value: 1.0049487769776475.\n"
     ]
    },
    {
     "name": "stdout",
     "output_type": "stream",
     "text": [
      "2025-08-20 21:31:16,224 - Trial 155 finished with value: 0.9997574907133364 and parameters: {'year_start': 2022, 'idxAfterPrediction': 4, 'LoadupSamples_time_inc_factor': 66, 'timesteps': 70, 'LSTM_learning_rate': 0.00011550461596208751, 'LSTM_dropout': 0.0754169924674387, 'is_single_feature': False}. Best is trial 31 with value: 1.0049487769776475.\n",
      "2025-08-20 21:31:26,643 - Non-finite/too-large values in train y time: 36 samples.\n",
      "2025-08-20 21:31:26,643 - Removing 36 samples from training data.\n"
     ]
    },
    {
     "name": "stderr",
     "output_type": "stream",
     "text": [
      "Epochs:   0%|          | 0/2 [00:00<?, ?it/s]"
     ]
    },
    {
     "name": "stdout",
     "output_type": "stream",
     "text": [
      "2025-08-20 21:32:03,287 - Epoch 1/2 — Train RMSE: 0.4330 — Validation RMSE: 0.3908\n"
     ]
    },
    {
     "name": "stderr",
     "output_type": "stream",
     "text": [
      "Epochs:  50%|█████     | 1/2 [00:29<00:29, 29.50s/it]"
     ]
    },
    {
     "name": "stdout",
     "output_type": "stream",
     "text": [
      "2025-08-20 21:32:32,425 - Epoch 2/2 — Train RMSE: 0.3970 — Validation RMSE: 0.3871\n"
     ]
    },
    {
     "name": "stderr",
     "output_type": "stream",
     "text": [
      "Epochs: 100%|██████████| 2/2 [00:58<00:00, 29.33s/it]\n"
     ]
    },
    {
     "name": "stdout",
     "output_type": "stream",
     "text": [
      "2025-08-20 21:32:35,878 - Trial 156 with params: {'idxAfterPrediction': 3, 'timesteps': 40, 'target_option': 'last', 'LoadupSamples_time_scaling_stretch': True, 'LoadupSamples_time_inc_factor': 61, 'LSTM_units': 16, 'LSTM_num_layers': 1, 'LSTM_dropout': 0.09905596348485055, 'LSTM_recurrent_dropout': 0.001, 'LSTM_learning_rate': 4.753095578506918e-05, 'LSTM_optimizer': 'adam', 'LSTM_bidirectional': True, 'LSTM_batch_size': 4096, 'LSTM_epochs': 2, 'LSTM_l1': 0.001, 'LSTM_l2': 0.001, 'LSTM_inter_dropout': 0.001, 'LSTM_input_gaussian_noise': 0.001, 'LSTM_conv1d': True, 'LSTM_conv1d_kernel_size': 3, 'LSTM_loss': 'mse', 'year_start': 2019, 'is_single_feature': False}\n",
      "2025-08-20 21:32:35,878 -   q0: 0.9980\n",
      "2025-08-20 21:32:35,878 -   Duration0: 0:01:02.180285\n",
      "2025-08-20 21:32:35,878 -   Val RMSE0 adjusted: 0.0063\n",
      "2025-08-20 21:32:35,878 -   Mean all prediction: 1.0007\n",
      "2025-08-20 21:32:35,878 -   Mean above prediction: 1.0091\n",
      "2025-08-20 21:32:35,878 -   Mean below prediction: 1.0073\n",
      "2025-08-20 21:32:35,878 -   Quantile 0.99 for distance in mask above: 5333.1999999999825\n",
      "2025-08-20 21:32:35,878 -   Quantile 0.99 for distance in mask below: 5039.259999999991\n",
      "2025-08-20 21:32:35,878 -   Ratio for quantile-distance-to-length above: 0.0081\n",
      "2025-08-20 21:32:35,878 -   Ratio for quantile-distance-to-length below: 0.0077\n",
      "2025-08-20 21:32:35,878 -   Score: 1.0030\n"
     ]
    },
    {
     "name": "stderr",
     "output_type": "stream",
     "text": [
      "[I 2025-08-20 21:32:35,925] Trial 156 finished with value: 1.0030396867196787 and parameters: {'year_start': 2019, 'idxAfterPrediction': 3, 'LoadupSamples_time_inc_factor': 61, 'timesteps': 40, 'LSTM_learning_rate': 4.753095578506918e-05, 'LSTM_dropout': 0.09905596348485055, 'is_single_feature': False}. Best is trial 31 with value: 1.0049487769776475.\n"
     ]
    },
    {
     "name": "stdout",
     "output_type": "stream",
     "text": [
      "2025-08-20 21:32:35,925 - Trial 156 finished with value: 1.0030396867196787 and parameters: {'year_start': 2019, 'idxAfterPrediction': 3, 'LoadupSamples_time_inc_factor': 61, 'timesteps': 40, 'LSTM_learning_rate': 4.753095578506918e-05, 'LSTM_dropout': 0.09905596348485055, 'is_single_feature': False}. Best is trial 31 with value: 1.0049487769776475.\n",
      "2025-08-20 21:32:44,870 - Non-finite/too-large values in train y time: 36 samples.\n",
      "2025-08-20 21:32:44,870 - Removing 36 samples from training data.\n"
     ]
    },
    {
     "name": "stderr",
     "output_type": "stream",
     "text": [
      "Epochs:   0%|          | 0/2 [00:00<?, ?it/s]"
     ]
    },
    {
     "name": "stdout",
     "output_type": "stream",
     "text": [
      "2025-08-20 21:33:15,968 - Epoch 1/2 — Train RMSE: 0.4946 — Validation RMSE: 0.4116\n"
     ]
    },
    {
     "name": "stderr",
     "output_type": "stream",
     "text": [
      "Epochs:  50%|█████     | 1/2 [00:24<00:24, 24.51s/it]"
     ]
    },
    {
     "name": "stdout",
     "output_type": "stream",
     "text": [
      "2025-08-20 21:33:40,212 - Epoch 2/2 — Train RMSE: 0.4126 — Validation RMSE: 0.3946\n"
     ]
    },
    {
     "name": "stderr",
     "output_type": "stream",
     "text": [
      "Epochs: 100%|██████████| 2/2 [00:48<00:00, 24.38s/it]\n"
     ]
    },
    {
     "name": "stdout",
     "output_type": "stream",
     "text": [
      "2025-08-20 21:33:43,778 - Trial 157 with params: {'idxAfterPrediction': 3, 'timesteps': 45, 'target_option': 'last', 'LoadupSamples_time_scaling_stretch': True, 'LoadupSamples_time_inc_factor': 66, 'LSTM_units': 16, 'LSTM_num_layers': 1, 'LSTM_dropout': 0.08273250451257506, 'LSTM_recurrent_dropout': 0.001, 'LSTM_learning_rate': 5.985196367900578e-05, 'LSTM_optimizer': 'adam', 'LSTM_bidirectional': True, 'LSTM_batch_size': 4096, 'LSTM_epochs': 2, 'LSTM_l1': 0.001, 'LSTM_l2': 0.001, 'LSTM_inter_dropout': 0.001, 'LSTM_input_gaussian_noise': 0.001, 'LSTM_conv1d': True, 'LSTM_conv1d_kernel_size': 3, 'LSTM_loss': 'mse', 'year_start': 2020, 'is_single_feature': False}\n",
      "2025-08-20 21:33:43,778 -   q0: 0.9980\n",
      "2025-08-20 21:33:43,778 -   Duration0: 0:00:52.397517\n",
      "2025-08-20 21:33:43,778 -   Val RMSE0 adjusted: 0.0060\n",
      "2025-08-20 21:33:43,778 -   Mean all prediction: 1.0007\n",
      "2025-08-20 21:33:43,778 -   Mean above prediction: 1.0099\n",
      "2025-08-20 21:33:43,778 -   Mean below prediction: 1.0049\n",
      "2025-08-20 21:33:43,778 -   Quantile 0.99 for distance in mask above: 4710.859999999995\n",
      "2025-08-20 21:33:43,778 -   Quantile 0.99 for distance in mask below: 4823.739999999989\n",
      "2025-08-20 21:33:43,778 -   Ratio for quantile-distance-to-length above: 0.0072\n",
      "2025-08-20 21:33:43,794 -   Ratio for quantile-distance-to-length below: 0.0073\n",
      "2025-08-20 21:33:43,794 -   Score: 1.0033\n"
     ]
    },
    {
     "name": "stderr",
     "output_type": "stream",
     "text": [
      "[I 2025-08-20 21:33:43,825] Trial 157 finished with value: 1.0032822663610035 and parameters: {'year_start': 2020, 'idxAfterPrediction': 3, 'LoadupSamples_time_inc_factor': 66, 'timesteps': 45, 'LSTM_learning_rate': 5.985196367900578e-05, 'LSTM_dropout': 0.08273250451257506, 'is_single_feature': False}. Best is trial 31 with value: 1.0049487769776475.\n"
     ]
    },
    {
     "name": "stdout",
     "output_type": "stream",
     "text": [
      "2025-08-20 21:33:43,825 - Trial 157 finished with value: 1.0032822663610035 and parameters: {'year_start': 2020, 'idxAfterPrediction': 3, 'LoadupSamples_time_inc_factor': 66, 'timesteps': 45, 'LSTM_learning_rate': 5.985196367900578e-05, 'LSTM_dropout': 0.08273250451257506, 'is_single_feature': False}. Best is trial 31 with value: 1.0049487769776475.\n",
      "2025-08-20 21:33:54,300 - Non-finite/too-large values in train y time: 36 samples.\n",
      "2025-08-20 21:33:54,300 - Removing 36 samples from training data.\n"
     ]
    },
    {
     "name": "stderr",
     "output_type": "stream",
     "text": [
      "Epochs:   0%|          | 0/2 [00:00<?, ?it/s]"
     ]
    },
    {
     "name": "stdout",
     "output_type": "stream",
     "text": [
      "2025-08-20 21:34:32,252 - Epoch 1/2 — Train RMSE: 0.5571 — Validation RMSE: 0.5013\n"
     ]
    },
    {
     "name": "stderr",
     "output_type": "stream",
     "text": [
      "Epochs:  50%|█████     | 1/2 [00:29<00:29, 29.37s/it]"
     ]
    },
    {
     "name": "stdout",
     "output_type": "stream",
     "text": [
      "2025-08-20 21:35:02,161 - Epoch 2/2 — Train RMSE: 0.4929 — Validation RMSE: 0.4477\n"
     ]
    },
    {
     "name": "stderr",
     "output_type": "stream",
     "text": [
      "Epochs: 100%|██████████| 2/2 [00:59<00:00, 29.64s/it]\n"
     ]
    },
    {
     "name": "stdout",
     "output_type": "stream",
     "text": [
      "2025-08-20 21:35:06,086 - Trial 158 with params: {'idxAfterPrediction': 3, 'timesteps': 50, 'target_option': 'last', 'LoadupSamples_time_scaling_stretch': True, 'LoadupSamples_time_inc_factor': 56, 'LSTM_units': 16, 'LSTM_num_layers': 1, 'LSTM_dropout': 0.06676544466325837, 'LSTM_recurrent_dropout': 0.001, 'LSTM_learning_rate': 1.5123009055772265e-05, 'LSTM_optimizer': 'adam', 'LSTM_bidirectional': True, 'LSTM_batch_size': 4096, 'LSTM_epochs': 2, 'LSTM_l1': 0.001, 'LSTM_l2': 0.001, 'LSTM_inter_dropout': 0.001, 'LSTM_input_gaussian_noise': 0.001, 'LSTM_conv1d': True, 'LSTM_conv1d_kernel_size': 3, 'LSTM_loss': 'mse', 'year_start': 2019, 'is_single_feature': False}\n",
      "2025-08-20 21:35:06,086 -   q0: 0.9980\n",
      "2025-08-20 21:35:06,086 -   Duration0: 0:01:03.301346\n",
      "2025-08-20 21:35:06,086 -   Val RMSE0 adjusted: 0.0080\n",
      "2025-08-20 21:35:06,086 -   Mean all prediction: 1.0007\n",
      "2025-08-20 21:35:06,086 -   Mean above prediction: 1.0059\n",
      "2025-08-20 21:35:06,086 -   Mean below prediction: 1.0045\n",
      "2025-08-20 21:35:06,086 -   Quantile 0.99 for distance in mask above: 4571.499999999987\n",
      "2025-08-20 21:35:06,086 -   Quantile 0.99 for distance in mask below: 4476.5799999999845\n",
      "2025-08-20 21:35:06,086 -   Ratio for quantile-distance-to-length above: 0.0069\n",
      "2025-08-20 21:35:06,086 -   Ratio for quantile-distance-to-length below: 0.0068\n",
      "2025-08-20 21:35:06,086 -   Score: 1.0019\n"
     ]
    },
    {
     "name": "stderr",
     "output_type": "stream",
     "text": [
      "[I 2025-08-20 21:35:06,150] Trial 158 finished with value: 1.0019468190879053 and parameters: {'year_start': 2019, 'idxAfterPrediction': 3, 'LoadupSamples_time_inc_factor': 56, 'timesteps': 50, 'LSTM_learning_rate': 1.5123009055772265e-05, 'LSTM_dropout': 0.06676544466325837, 'is_single_feature': False}. Best is trial 31 with value: 1.0049487769776475.\n"
     ]
    },
    {
     "name": "stdout",
     "output_type": "stream",
     "text": [
      "2025-08-20 21:35:06,150 - Trial 158 finished with value: 1.0019468190879053 and parameters: {'year_start': 2019, 'idxAfterPrediction': 3, 'LoadupSamples_time_inc_factor': 56, 'timesteps': 50, 'LSTM_learning_rate': 1.5123009055772265e-05, 'LSTM_dropout': 0.06676544466325837, 'is_single_feature': False}. Best is trial 31 with value: 1.0049487769776475.\n",
      "2025-08-20 21:35:11,859 - Non-finite/too-large values in train y time: 48 samples.\n",
      "2025-08-20 21:35:11,866 - Removing 48 samples from training data.\n"
     ]
    },
    {
     "name": "stderr",
     "output_type": "stream",
     "text": [
      "Epochs:   0%|          | 0/2 [00:00<?, ?it/s]"
     ]
    },
    {
     "name": "stdout",
     "output_type": "stream",
     "text": [
      "2025-08-20 21:35:29,641 - Epoch 1/2 — Train RMSE: 0.4620 — Validation RMSE: 0.3988\n"
     ]
    },
    {
     "name": "stderr",
     "output_type": "stream",
     "text": [
      "Epochs:  50%|█████     | 1/2 [00:14<00:14, 14.82s/it]"
     ]
    },
    {
     "name": "stdout",
     "output_type": "stream",
     "text": [
      "2025-08-20 21:35:45,049 - Epoch 2/2 — Train RMSE: 0.4013 — Validation RMSE: 0.3862\n"
     ]
    },
    {
     "name": "stderr",
     "output_type": "stream",
     "text": [
      "Epochs: 100%|██████████| 2/2 [00:30<00:00, 15.11s/it]\n"
     ]
    },
    {
     "name": "stdout",
     "output_type": "stream",
     "text": [
      "2025-08-20 21:35:48,046 - Trial 159 with params: {'idxAfterPrediction': 4, 'timesteps': 30, 'target_option': 'last', 'LoadupSamples_time_scaling_stretch': True, 'LoadupSamples_time_inc_factor': 51, 'LSTM_units': 16, 'LSTM_num_layers': 1, 'LSTM_dropout': 0.0028103646881825206, 'LSTM_recurrent_dropout': 0.001, 'LSTM_learning_rate': 8.88075357318836e-05, 'LSTM_optimizer': 'adam', 'LSTM_bidirectional': True, 'LSTM_batch_size': 4096, 'LSTM_epochs': 2, 'LSTM_l1': 0.001, 'LSTM_l2': 0.001, 'LSTM_inter_dropout': 0.001, 'LSTM_input_gaussian_noise': 0.001, 'LSTM_conv1d': True, 'LSTM_conv1d_kernel_size': 3, 'LSTM_loss': 'mse', 'year_start': 2022, 'is_single_feature': False}\n",
      "2025-08-20 21:35:48,046 -   q0: 0.9980\n",
      "2025-08-20 21:35:48,046 -   Duration0: 0:00:33.258723\n",
      "2025-08-20 21:35:48,046 -   Val RMSE0 adjusted: 0.0076\n",
      "2025-08-20 21:35:48,046 -   Mean all prediction: 1.0011\n",
      "2025-08-20 21:35:48,046 -   Mean above prediction: 1.0063\n",
      "2025-08-20 21:35:48,046 -   Mean below prediction: 0.9987\n",
      "2025-08-20 21:35:48,046 -   Quantile 0.99 for distance in mask above: 5366.699999999971\n",
      "2025-08-20 21:35:48,046 -   Quantile 0.99 for distance in mask below: 3498.0199999999995\n",
      "2025-08-20 21:35:48,046 -   Ratio for quantile-distance-to-length above: 0.0082\n",
      "2025-08-20 21:35:48,062 -   Ratio for quantile-distance-to-length below: 0.0053\n",
      "2025-08-20 21:35:48,064 -   Score: 1.0016\n"
     ]
    },
    {
     "name": "stderr",
     "output_type": "stream",
     "text": [
      "[I 2025-08-20 21:35:48,078] Trial 159 finished with value: 1.0015746164814086 and parameters: {'year_start': 2022, 'idxAfterPrediction': 4, 'LoadupSamples_time_inc_factor': 51, 'timesteps': 30, 'LSTM_learning_rate': 8.88075357318836e-05, 'LSTM_dropout': 0.0028103646881825206, 'is_single_feature': False}. Best is trial 31 with value: 1.0049487769776475.\n"
     ]
    },
    {
     "name": "stdout",
     "output_type": "stream",
     "text": [
      "2025-08-20 21:35:48,078 - Trial 159 finished with value: 1.0015746164814086 and parameters: {'year_start': 2022, 'idxAfterPrediction': 4, 'LoadupSamples_time_inc_factor': 51, 'timesteps': 30, 'LSTM_learning_rate': 8.88075357318836e-05, 'LSTM_dropout': 0.0028103646881825206, 'is_single_feature': False}. Best is trial 31 with value: 1.0049487769776475.\n",
      "2025-08-20 21:35:58,488 - Non-finite/too-large values in train y time: 36 samples.\n",
      "2025-08-20 21:35:58,488 - Removing 36 samples from training data.\n"
     ]
    },
    {
     "name": "stderr",
     "output_type": "stream",
     "text": [
      "Epochs:   0%|          | 0/2 [00:00<?, ?it/s]"
     ]
    },
    {
     "name": "stdout",
     "output_type": "stream",
     "text": [
      "2025-08-20 21:36:34,236 - Epoch 1/2 — Train RMSE: 0.5068 — Validation RMSE: 0.4406\n"
     ]
    },
    {
     "name": "stderr",
     "output_type": "stream",
     "text": [
      "Epochs:  50%|█████     | 1/2 [00:29<00:29, 29.35s/it]"
     ]
    },
    {
     "name": "stdout",
     "output_type": "stream",
     "text": [
      "2025-08-20 21:37:03,379 - Epoch 2/2 — Train RMSE: 0.4271 — Validation RMSE: 0.3958\n"
     ]
    },
    {
     "name": "stderr",
     "output_type": "stream",
     "text": [
      "Epochs: 100%|██████████| 2/2 [00:58<00:00, 29.25s/it]\n"
     ]
    },
    {
     "name": "stdout",
     "output_type": "stream",
     "text": [
      "2025-08-20 21:37:06,842 - Trial 160 with params: {'idxAfterPrediction': 3, 'timesteps': 35, 'target_option': 'last', 'LoadupSamples_time_scaling_stretch': True, 'LoadupSamples_time_inc_factor': 61, 'LSTM_units': 16, 'LSTM_num_layers': 1, 'LSTM_dropout': 0.04423619078592574, 'LSTM_recurrent_dropout': 0.001, 'LSTM_learning_rate': 2.5406135309752268e-05, 'LSTM_optimizer': 'adam', 'LSTM_bidirectional': True, 'LSTM_batch_size': 4096, 'LSTM_epochs': 2, 'LSTM_l1': 0.001, 'LSTM_l2': 0.001, 'LSTM_inter_dropout': 0.001, 'LSTM_input_gaussian_noise': 0.001, 'LSTM_conv1d': True, 'LSTM_conv1d_kernel_size': 3, 'LSTM_loss': 'mse', 'year_start': 2019, 'is_single_feature': False}\n",
      "2025-08-20 21:37:06,842 -   q0: 0.9980\n",
      "2025-08-20 21:37:06,858 -   Duration0: 0:01:02.097075\n",
      "2025-08-20 21:37:06,858 -   Val RMSE0 adjusted: 0.0065\n",
      "2025-08-20 21:37:06,858 -   Mean all prediction: 1.0007\n",
      "2025-08-20 21:37:06,858 -   Mean above prediction: 1.0024\n",
      "2025-08-20 21:37:06,858 -   Mean below prediction: 1.0012\n",
      "2025-08-20 21:37:06,858 -   Quantile 0.99 for distance in mask above: 4079.1599999999994\n",
      "2025-08-20 21:37:06,858 -   Quantile 0.99 for distance in mask below: 3595.199999999988\n",
      "2025-08-20 21:37:06,858 -   Ratio for quantile-distance-to-length above: 0.0062\n",
      "2025-08-20 21:37:06,858 -   Ratio for quantile-distance-to-length below: 0.0055\n",
      "2025-08-20 21:37:06,858 -   Score: 1.0008\n"
     ]
    },
    {
     "name": "stderr",
     "output_type": "stream",
     "text": [
      "[I 2025-08-20 21:37:06,905] Trial 160 finished with value: 1.00078486076064 and parameters: {'year_start': 2019, 'idxAfterPrediction': 3, 'LoadupSamples_time_inc_factor': 61, 'timesteps': 35, 'LSTM_learning_rate': 2.5406135309752268e-05, 'LSTM_dropout': 0.04423619078592574, 'is_single_feature': False}. Best is trial 31 with value: 1.0049487769776475.\n"
     ]
    },
    {
     "name": "stdout",
     "output_type": "stream",
     "text": [
      "2025-08-20 21:37:06,905 - Trial 160 finished with value: 1.00078486076064 and parameters: {'year_start': 2019, 'idxAfterPrediction': 3, 'LoadupSamples_time_inc_factor': 61, 'timesteps': 35, 'LSTM_learning_rate': 2.5406135309752268e-05, 'LSTM_dropout': 0.04423619078592574, 'is_single_feature': False}. Best is trial 31 with value: 1.0049487769776475.\n",
      "2025-08-20 21:37:12,790 - Non-finite/too-large values in train y time: 36 samples.\n",
      "2025-08-20 21:37:12,790 - Removing 36 samples from training data.\n"
     ]
    },
    {
     "name": "stderr",
     "output_type": "stream",
     "text": [
      "Epochs:   0%|          | 0/2 [00:00<?, ?it/s]"
     ]
    },
    {
     "name": "stdout",
     "output_type": "stream",
     "text": [
      "2025-08-20 21:37:35,540 - Epoch 1/2 — Train RMSE: 0.7631 — Validation RMSE: 0.7133\n"
     ]
    },
    {
     "name": "stderr",
     "output_type": "stream",
     "text": [
      "Epochs:  50%|█████     | 1/2 [00:15<00:15, 15.34s/it]"
     ]
    },
    {
     "name": "stdout",
     "output_type": "stream",
     "text": [
      "2025-08-20 21:37:51,006 - Epoch 2/2 — Train RMSE: 0.6941 — Validation RMSE: 0.6426\n"
     ]
    },
    {
     "name": "stderr",
     "output_type": "stream",
     "text": [
      "Epochs: 100%|██████████| 2/2 [00:30<00:00, 15.40s/it]\n"
     ]
    },
    {
     "name": "stdout",
     "output_type": "stream",
     "text": [
      "2025-08-20 21:37:54,470 - Trial 161 with params: {'idxAfterPrediction': 3, 'timesteps': 85, 'target_option': 'last', 'LoadupSamples_time_scaling_stretch': True, 'LoadupSamples_time_inc_factor': 66, 'LSTM_units': 16, 'LSTM_num_layers': 1, 'LSTM_dropout': 0.007338609878864522, 'LSTM_recurrent_dropout': 0.001, 'LSTM_learning_rate': 3.3414602845636396e-05, 'LSTM_optimizer': 'adam', 'LSTM_bidirectional': True, 'LSTM_batch_size': 4096, 'LSTM_epochs': 2, 'LSTM_l1': 0.001, 'LSTM_l2': 0.001, 'LSTM_inter_dropout': 0.001, 'LSTM_input_gaussian_noise': 0.001, 'LSTM_conv1d': True, 'LSTM_conv1d_kernel_size': 3, 'LSTM_loss': 'mse', 'year_start': 2022, 'is_single_feature': False}\n",
      "2025-08-20 21:37:54,470 -   q0: 0.9980\n",
      "2025-08-20 21:37:54,470 -   Duration0: 0:00:34.382663\n",
      "2025-08-20 21:37:54,470 -   Val RMSE0 adjusted: 0.0097\n",
      "2025-08-20 21:37:54,486 -   Mean all prediction: 1.0007\n",
      "2025-08-20 21:37:54,486 -   Mean above prediction: 1.0031\n",
      "2025-08-20 21:37:54,486 -   Mean below prediction: 1.0011\n",
      "2025-08-20 21:37:54,486 -   Quantile 0.99 for distance in mask above: 3695.5599999999904\n",
      "2025-08-20 21:37:54,486 -   Quantile 0.99 for distance in mask below: 2767.2999999999993\n",
      "2025-08-20 21:37:54,486 -   Ratio for quantile-distance-to-length above: 0.0056\n",
      "2025-08-20 21:37:54,486 -   Ratio for quantile-distance-to-length below: 0.0042\n",
      "2025-08-20 21:37:54,486 -   Score: 1.0010\n"
     ]
    },
    {
     "name": "stderr",
     "output_type": "stream",
     "text": [
      "[I 2025-08-20 21:37:54,534] Trial 161 finished with value: 1.0010337800891604 and parameters: {'year_start': 2022, 'idxAfterPrediction': 3, 'LoadupSamples_time_inc_factor': 66, 'timesteps': 85, 'LSTM_learning_rate': 3.3414602845636396e-05, 'LSTM_dropout': 0.007338609878864522, 'is_single_feature': False}. Best is trial 31 with value: 1.0049487769776475.\n"
     ]
    },
    {
     "name": "stdout",
     "output_type": "stream",
     "text": [
      "2025-08-20 21:37:54,534 - Trial 161 finished with value: 1.0010337800891604 and parameters: {'year_start': 2022, 'idxAfterPrediction': 3, 'LoadupSamples_time_inc_factor': 66, 'timesteps': 85, 'LSTM_learning_rate': 3.3414602845636396e-05, 'LSTM_dropout': 0.007338609878864522, 'is_single_feature': False}. Best is trial 31 with value: 1.0049487769776475.\n",
      "2025-08-20 21:38:00,473 - Non-finite/too-large values in train y time: 60 samples.\n",
      "2025-08-20 21:38:00,488 - Removing 60 samples from training data.\n"
     ]
    },
    {
     "name": "stderr",
     "output_type": "stream",
     "text": [
      "Epochs:   0%|          | 0/2 [00:00<?, ?it/s]"
     ]
    },
    {
     "name": "stdout",
     "output_type": "stream",
     "text": [
      "2025-08-20 21:38:23,654 - Epoch 1/2 — Train RMSE: 0.5866 — Validation RMSE: 0.5523\n"
     ]
    },
    {
     "name": "stderr",
     "output_type": "stream",
     "text": [
      "Epochs:  50%|█████     | 1/2 [00:15<00:15, 15.74s/it]"
     ]
    },
    {
     "name": "stdout",
     "output_type": "stream",
     "text": [
      "2025-08-20 21:38:39,334 - Epoch 2/2 — Train RMSE: 0.5486 — Validation RMSE: 0.5184\n"
     ]
    },
    {
     "name": "stderr",
     "output_type": "stream",
     "text": [
      "Epochs: 100%|██████████| 2/2 [00:31<00:00, 15.71s/it]\n"
     ]
    },
    {
     "name": "stdout",
     "output_type": "stream",
     "text": [
      "2025-08-20 21:38:43,310 - Trial 162 with params: {'idxAfterPrediction': 5, 'timesteps': 85, 'target_option': 'last', 'LoadupSamples_time_scaling_stretch': True, 'LoadupSamples_time_inc_factor': 66, 'LSTM_units': 16, 'LSTM_num_layers': 1, 'LSTM_dropout': 0.06329905003573039, 'LSTM_recurrent_dropout': 0.001, 'LSTM_learning_rate': 1.9528502824171728e-05, 'LSTM_optimizer': 'adam', 'LSTM_bidirectional': True, 'LSTM_batch_size': 4096, 'LSTM_epochs': 2, 'LSTM_l1': 0.001, 'LSTM_l2': 0.001, 'LSTM_inter_dropout': 0.001, 'LSTM_input_gaussian_noise': 0.001, 'LSTM_conv1d': True, 'LSTM_conv1d_kernel_size': 3, 'LSTM_loss': 'mse', 'year_start': 2022, 'is_single_feature': False}\n",
      "2025-08-20 21:38:43,310 -   q0: 0.9980\n",
      "2025-08-20 21:38:43,310 -   Duration0: 0:00:35.552231\n",
      "2025-08-20 21:38:43,310 -   Val RMSE0 adjusted: 0.0079\n",
      "2025-08-20 21:38:43,326 -   Mean all prediction: 1.0015\n",
      "2025-08-20 21:38:43,326 -   Mean above prediction: 1.0002\n",
      "2025-08-20 21:38:43,326 -   Mean below prediction: 1.0065\n",
      "2025-08-20 21:38:43,326 -   Quantile 0.99 for distance in mask above: 3608.6399999999976\n",
      "2025-08-20 21:38:43,326 -   Quantile 0.99 for distance in mask below: 4329.799999999997\n",
      "2025-08-20 21:38:43,326 -   Ratio for quantile-distance-to-length above: 0.0055\n",
      "2025-08-20 21:38:43,326 -   Ratio for quantile-distance-to-length below: 0.0066\n",
      "2025-08-20 21:38:43,326 -   Score: 1.0000\n"
     ]
    },
    {
     "name": "stderr",
     "output_type": "stream",
     "text": [
      "[I 2025-08-20 21:38:43,384] Trial 162 finished with value: 1.0000471502091521 and parameters: {'year_start': 2022, 'idxAfterPrediction': 5, 'LoadupSamples_time_inc_factor': 66, 'timesteps': 85, 'LSTM_learning_rate': 1.9528502824171728e-05, 'LSTM_dropout': 0.06329905003573039, 'is_single_feature': False}. Best is trial 31 with value: 1.0049487769776475.\n"
     ]
    },
    {
     "name": "stdout",
     "output_type": "stream",
     "text": [
      "2025-08-20 21:38:43,384 - Trial 162 finished with value: 1.0000471502091521 and parameters: {'year_start': 2022, 'idxAfterPrediction': 5, 'LoadupSamples_time_inc_factor': 66, 'timesteps': 85, 'LSTM_learning_rate': 1.9528502824171728e-05, 'LSTM_dropout': 0.06329905003573039, 'is_single_feature': False}. Best is trial 31 with value: 1.0049487769776475.\n",
      "2025-08-20 21:38:49,286 - Non-finite/too-large values in train y time: 36 samples.\n",
      "2025-08-20 21:38:49,286 - Removing 36 samples from training data.\n"
     ]
    },
    {
     "name": "stderr",
     "output_type": "stream",
     "text": [
      "Epochs:   0%|          | 0/2 [00:00<?, ?it/s]"
     ]
    },
    {
     "name": "stdout",
     "output_type": "stream",
     "text": [
      "2025-08-20 21:39:12,157 - Epoch 1/2 — Train RMSE: 0.5103 — Validation RMSE: 0.4645\n"
     ]
    },
    {
     "name": "stderr",
     "output_type": "stream",
     "text": [
      "Epochs:  50%|█████     | 1/2 [00:15<00:15, 15.45s/it]"
     ]
    },
    {
     "name": "stdout",
     "output_type": "stream",
     "text": [
      "2025-08-20 21:39:27,753 - Epoch 2/2 — Train RMSE: 0.4550 — Validation RMSE: 0.4222\n"
     ]
    },
    {
     "name": "stderr",
     "output_type": "stream",
     "text": [
      "Epochs: 100%|██████████| 2/2 [00:31<00:00, 15.52s/it]\n"
     ]
    },
    {
     "name": "stdout",
     "output_type": "stream",
     "text": [
      "2025-08-20 21:39:31,252 - Trial 163 with params: {'idxAfterPrediction': 3, 'timesteps': 85, 'target_option': 'last', 'LoadupSamples_time_scaling_stretch': True, 'LoadupSamples_time_inc_factor': 66, 'LSTM_units': 16, 'LSTM_num_layers': 1, 'LSTM_dropout': 0.006866391311835904, 'LSTM_recurrent_dropout': 0.001, 'LSTM_learning_rate': 3.6706208452653986e-05, 'LSTM_optimizer': 'adam', 'LSTM_bidirectional': True, 'LSTM_batch_size': 4096, 'LSTM_epochs': 2, 'LSTM_l1': 0.001, 'LSTM_l2': 0.001, 'LSTM_inter_dropout': 0.001, 'LSTM_input_gaussian_noise': 0.001, 'LSTM_conv1d': True, 'LSTM_conv1d_kernel_size': 3, 'LSTM_loss': 'mse', 'year_start': 2022, 'is_single_feature': False}\n",
      "2025-08-20 21:39:31,252 -   q0: 0.9980\n",
      "2025-08-20 21:39:31,252 -   Duration0: 0:00:34.634507\n",
      "2025-08-20 21:39:31,252 -   Val RMSE0 adjusted: 0.0064\n",
      "2025-08-20 21:39:31,252 -   Mean all prediction: 1.0007\n",
      "2025-08-20 21:39:31,252 -   Mean above prediction: 0.9990\n",
      "2025-08-20 21:39:31,252 -   Mean below prediction: 0.9949\n",
      "2025-08-20 21:39:31,252 -   Quantile 0.99 for distance in mask above: 4406.0199999999895\n",
      "2025-08-20 21:39:31,252 -   Quantile 0.99 for distance in mask below: 4073.119999999966\n",
      "2025-08-20 21:39:31,252 -   Ratio for quantile-distance-to-length above: 0.0067\n",
      "2025-08-20 21:39:31,252 -   Ratio for quantile-distance-to-length below: 0.0062\n",
      "2025-08-20 21:39:31,252 -   Score: 0.9997\n"
     ]
    },
    {
     "name": "stderr",
     "output_type": "stream",
     "text": [
      "[I 2025-08-20 21:39:31,310] Trial 163 finished with value: 0.999675219612467 and parameters: {'year_start': 2022, 'idxAfterPrediction': 3, 'LoadupSamples_time_inc_factor': 66, 'timesteps': 85, 'LSTM_learning_rate': 3.6706208452653986e-05, 'LSTM_dropout': 0.006866391311835904, 'is_single_feature': False}. Best is trial 31 with value: 1.0049487769776475.\n"
     ]
    },
    {
     "name": "stdout",
     "output_type": "stream",
     "text": [
      "2025-08-20 21:39:31,310 - Trial 163 finished with value: 0.999675219612467 and parameters: {'year_start': 2022, 'idxAfterPrediction': 3, 'LoadupSamples_time_inc_factor': 66, 'timesteps': 85, 'LSTM_learning_rate': 3.6706208452653986e-05, 'LSTM_dropout': 0.006866391311835904, 'is_single_feature': False}. Best is trial 31 with value: 1.0049487769776475.\n",
      "2025-08-20 21:39:37,164 - Non-finite/too-large values in train y time: 36 samples.\n",
      "2025-08-20 21:39:37,164 - Removing 36 samples from training data.\n"
     ]
    },
    {
     "name": "stderr",
     "output_type": "stream",
     "text": [
      "Epochs:   0%|          | 0/2 [00:00<?, ?it/s]"
     ]
    },
    {
     "name": "stdout",
     "output_type": "stream",
     "text": [
      "2025-08-20 21:40:00,721 - Epoch 1/2 — Train RMSE: 0.7397 — Validation RMSE: 0.6697\n"
     ]
    },
    {
     "name": "stderr",
     "output_type": "stream",
     "text": [
      "Epochs:  50%|█████     | 1/2 [00:15<00:15, 15.74s/it]"
     ]
    },
    {
     "name": "stdout",
     "output_type": "stream",
     "text": [
      "2025-08-20 21:40:16,366 - Epoch 2/2 — Train RMSE: 0.6301 — Validation RMSE: 0.5559\n"
     ]
    },
    {
     "name": "stderr",
     "output_type": "stream",
     "text": [
      "Epochs: 100%|██████████| 2/2 [00:31<00:00, 15.69s/it]\n"
     ]
    },
    {
     "name": "stdout",
     "output_type": "stream",
     "text": [
      "2025-08-20 21:40:20,517 - Trial 164 with params: {'idxAfterPrediction': 3, 'timesteps': 90, 'target_option': 'last', 'LoadupSamples_time_scaling_stretch': True, 'LoadupSamples_time_inc_factor': 71, 'LSTM_units': 16, 'LSTM_num_layers': 1, 'LSTM_dropout': 0.004265537354720705, 'LSTM_recurrent_dropout': 0.001, 'LSTM_learning_rate': 5.2658995606824566e-05, 'LSTM_optimizer': 'adam', 'LSTM_bidirectional': True, 'LSTM_batch_size': 4096, 'LSTM_epochs': 2, 'LSTM_l1': 0.001, 'LSTM_l2': 0.001, 'LSTM_inter_dropout': 0.001, 'LSTM_input_gaussian_noise': 0.001, 'LSTM_conv1d': True, 'LSTM_conv1d_kernel_size': 3, 'LSTM_loss': 'mse', 'year_start': 2022, 'is_single_feature': False}\n",
      "2025-08-20 21:40:20,517 -   q0: 0.9980\n",
      "2025-08-20 21:40:20,517 -   Duration0: 0:00:35.631995\n",
      "2025-08-20 21:40:20,517 -   Val RMSE0 adjusted: 0.0078\n",
      "2025-08-20 21:40:20,517 -   Mean all prediction: 1.0007\n",
      "2025-08-20 21:40:20,517 -   Mean above prediction: 0.9977\n",
      "2025-08-20 21:40:20,517 -   Mean below prediction: 0.9987\n",
      "2025-08-20 21:40:20,517 -   Quantile 0.99 for distance in mask above: 4417.659999999987\n",
      "2025-08-20 21:40:20,517 -   Quantile 0.99 for distance in mask below: 3942.4599999999937\n",
      "2025-08-20 21:40:20,517 -   Ratio for quantile-distance-to-length above: 0.0067\n",
      "2025-08-20 21:40:20,517 -   Ratio for quantile-distance-to-length below: 0.0060\n",
      "2025-08-20 21:40:20,517 -   Score: 0.9992\n"
     ]
    },
    {
     "name": "stderr",
     "output_type": "stream",
     "text": [
      "[I 2025-08-20 21:40:20,566] Trial 164 finished with value: 0.9992189242177465 and parameters: {'year_start': 2022, 'idxAfterPrediction': 3, 'LoadupSamples_time_inc_factor': 71, 'timesteps': 90, 'LSTM_learning_rate': 5.2658995606824566e-05, 'LSTM_dropout': 0.004265537354720705, 'is_single_feature': False}. Best is trial 31 with value: 1.0049487769776475.\n"
     ]
    },
    {
     "name": "stdout",
     "output_type": "stream",
     "text": [
      "2025-08-20 21:40:20,566 - Trial 164 finished with value: 0.9992189242177465 and parameters: {'year_start': 2022, 'idxAfterPrediction': 3, 'LoadupSamples_time_inc_factor': 71, 'timesteps': 90, 'LSTM_learning_rate': 5.2658995606824566e-05, 'LSTM_dropout': 0.004265537354720705, 'is_single_feature': False}. Best is trial 31 with value: 1.0049487769776475.\n",
      "2025-08-20 21:40:26,402 - Non-finite/too-large values in train y time: 36 samples.\n",
      "2025-08-20 21:40:26,402 - Removing 36 samples from training data.\n"
     ]
    },
    {
     "name": "stderr",
     "output_type": "stream",
     "text": [
      "Epochs:   0%|          | 0/2 [00:00<?, ?it/s]"
     ]
    },
    {
     "name": "stdout",
     "output_type": "stream",
     "text": [
      "2025-08-20 21:40:49,885 - Epoch 1/2 — Train RMSE: 0.5851 — Validation RMSE: 0.5294\n"
     ]
    },
    {
     "name": "stderr",
     "output_type": "stream",
     "text": [
      "Epochs:  50%|█████     | 1/2 [00:15<00:15, 15.69s/it]"
     ]
    },
    {
     "name": "stdout",
     "output_type": "stream",
     "text": [
      "2025-08-20 21:41:05,557 - Epoch 2/2 — Train RMSE: 0.5070 — Validation RMSE: 0.4562\n"
     ]
    },
    {
     "name": "stderr",
     "output_type": "stream",
     "text": [
      "Epochs: 100%|██████████| 2/2 [00:31<00:00, 15.68s/it]\n"
     ]
    },
    {
     "name": "stdout",
     "output_type": "stream",
     "text": [
      "2025-08-20 21:41:09,079 - Trial 165 with params: {'idxAfterPrediction': 3, 'timesteps': 90, 'target_option': 'last', 'LoadupSamples_time_scaling_stretch': True, 'LoadupSamples_time_inc_factor': 66, 'LSTM_units': 16, 'LSTM_num_layers': 1, 'LSTM_dropout': 0.011370801498953921, 'LSTM_recurrent_dropout': 0.001, 'LSTM_learning_rate': 4.353495715400201e-05, 'LSTM_optimizer': 'adam', 'LSTM_bidirectional': True, 'LSTM_batch_size': 4096, 'LSTM_epochs': 2, 'LSTM_l1': 0.001, 'LSTM_l2': 0.001, 'LSTM_inter_dropout': 0.001, 'LSTM_input_gaussian_noise': 0.001, 'LSTM_conv1d': True, 'LSTM_conv1d_kernel_size': 3, 'LSTM_loss': 'mse', 'year_start': 2022, 'is_single_feature': False}\n",
      "2025-08-20 21:41:09,079 -   q0: 0.9980\n",
      "2025-08-20 21:41:09,079 -   Duration0: 0:00:35.021427\n",
      "2025-08-20 21:41:09,079 -   Val RMSE0 adjusted: 0.0069\n",
      "2025-08-20 21:41:09,079 -   Mean all prediction: 1.0007\n",
      "2025-08-20 21:41:09,079 -   Mean above prediction: 1.0129\n",
      "2025-08-20 21:41:09,079 -   Mean below prediction: 1.0047\n",
      "2025-08-20 21:41:09,079 -   Quantile 0.99 for distance in mask above: 4658.319999999994\n",
      "2025-08-20 21:41:09,079 -   Quantile 0.99 for distance in mask below: 3914.8599999999897\n",
      "2025-08-20 21:41:09,079 -   Ratio for quantile-distance-to-length above: 0.0071\n",
      "2025-08-20 21:41:09,079 -   Ratio for quantile-distance-to-length below: 0.0060\n",
      "2025-08-20 21:41:09,079 -   Score: 1.0043\n"
     ]
    },
    {
     "name": "stderr",
     "output_type": "stream",
     "text": [
      "[I 2025-08-20 21:41:09,129] Trial 165 finished with value: 1.0042656067347067 and parameters: {'year_start': 2022, 'idxAfterPrediction': 3, 'LoadupSamples_time_inc_factor': 66, 'timesteps': 90, 'LSTM_learning_rate': 4.353495715400201e-05, 'LSTM_dropout': 0.011370801498953921, 'is_single_feature': False}. Best is trial 31 with value: 1.0049487769776475.\n"
     ]
    },
    {
     "name": "stdout",
     "output_type": "stream",
     "text": [
      "2025-08-20 21:41:09,129 - Trial 165 finished with value: 1.0042656067347067 and parameters: {'year_start': 2022, 'idxAfterPrediction': 3, 'LoadupSamples_time_inc_factor': 66, 'timesteps': 90, 'LSTM_learning_rate': 4.353495715400201e-05, 'LSTM_dropout': 0.011370801498953921, 'is_single_feature': False}. Best is trial 31 with value: 1.0049487769776475.\n",
      "2025-08-20 21:41:14,982 - Non-finite/too-large values in train y time: 36 samples.\n",
      "2025-08-20 21:41:14,998 - Removing 36 samples from training data.\n"
     ]
    },
    {
     "name": "stderr",
     "output_type": "stream",
     "text": [
      "Epochs:   0%|          | 0/2 [00:00<?, ?it/s]"
     ]
    },
    {
     "name": "stdout",
     "output_type": "stream",
     "text": [
      "2025-08-20 21:41:38,622 - Epoch 1/2 — Train RMSE: 0.4630 — Validation RMSE: 0.3871\n"
     ]
    },
    {
     "name": "stderr",
     "output_type": "stream",
     "text": [
      "Epochs:  50%|█████     | 1/2 [00:15<00:15, 15.82s/it]"
     ]
    },
    {
     "name": "stdout",
     "output_type": "stream",
     "text": [
      "2025-08-20 21:41:54,248 - Epoch 2/2 — Train RMSE: 0.4001 — Validation RMSE: 0.3868\n"
     ]
    },
    {
     "name": "stderr",
     "output_type": "stream",
     "text": [
      "Epochs: 100%|██████████| 2/2 [00:31<00:00, 15.72s/it]\n"
     ]
    },
    {
     "name": "stdout",
     "output_type": "stream",
     "text": [
      "2025-08-20 21:41:58,398 - Trial 166 with params: {'idxAfterPrediction': 3, 'timesteps': 90, 'target_option': 'last', 'LoadupSamples_time_scaling_stretch': True, 'LoadupSamples_time_inc_factor': 61, 'LSTM_units': 16, 'LSTM_num_layers': 1, 'LSTM_dropout': 0.0225700238006292, 'LSTM_recurrent_dropout': 0.001, 'LSTM_learning_rate': 0.00021831258380807466, 'LSTM_optimizer': 'adam', 'LSTM_bidirectional': True, 'LSTM_batch_size': 4096, 'LSTM_epochs': 2, 'LSTM_l1': 0.001, 'LSTM_l2': 0.001, 'LSTM_inter_dropout': 0.001, 'LSTM_input_gaussian_noise': 0.001, 'LSTM_conv1d': True, 'LSTM_conv1d_kernel_size': 3, 'LSTM_loss': 'mse', 'year_start': 2022, 'is_single_feature': False}\n",
      "2025-08-20 21:41:58,398 -   q0: 0.9980\n",
      "2025-08-20 21:41:58,398 -   Duration0: 0:00:35.701149\n",
      "2025-08-20 21:41:58,398 -   Val RMSE0 adjusted: 0.0063\n",
      "2025-08-20 21:41:58,398 -   Mean all prediction: 1.0007\n",
      "2025-08-20 21:41:58,398 -   Mean above prediction: 0.9999\n",
      "2025-08-20 21:41:58,398 -   Mean below prediction: 1.0038\n",
      "2025-08-20 21:41:58,398 -   Quantile 0.99 for distance in mask above: 4103.099999999991\n",
      "2025-08-20 21:41:58,398 -   Quantile 0.99 for distance in mask below: 4157.259999999996\n",
      "2025-08-20 21:41:58,398 -   Ratio for quantile-distance-to-length above: 0.0062\n",
      "2025-08-20 21:41:58,398 -   Ratio for quantile-distance-to-length below: 0.0063\n",
      "2025-08-20 21:41:58,398 -   Score: 1.0000\n"
     ]
    },
    {
     "name": "stderr",
     "output_type": "stream",
     "text": [
      "[I 2025-08-20 21:41:58,445] Trial 166 finished with value: 0.9999648055610898 and parameters: {'year_start': 2022, 'idxAfterPrediction': 3, 'LoadupSamples_time_inc_factor': 61, 'timesteps': 90, 'LSTM_learning_rate': 0.00021831258380807466, 'LSTM_dropout': 0.0225700238006292, 'is_single_feature': False}. Best is trial 31 with value: 1.0049487769776475.\n"
     ]
    },
    {
     "name": "stdout",
     "output_type": "stream",
     "text": [
      "2025-08-20 21:41:58,445 - Trial 166 finished with value: 0.9999648055610898 and parameters: {'year_start': 2022, 'idxAfterPrediction': 3, 'LoadupSamples_time_inc_factor': 61, 'timesteps': 90, 'LSTM_learning_rate': 0.00021831258380807466, 'LSTM_dropout': 0.0225700238006292, 'is_single_feature': False}. Best is trial 31 with value: 1.0049487769776475.\n",
      "2025-08-20 21:42:04,307 - Non-finite/too-large values in train y time: 36 samples.\n",
      "2025-08-20 21:42:04,307 - Removing 36 samples from training data.\n"
     ]
    },
    {
     "name": "stderr",
     "output_type": "stream",
     "text": [
      "Epochs:   0%|          | 0/2 [00:00<?, ?it/s]"
     ]
    },
    {
     "name": "stdout",
     "output_type": "stream",
     "text": [
      "2025-08-20 21:42:27,593 - Epoch 1/2 — Train RMSE: 0.5908 — Validation RMSE: 0.5044\n"
     ]
    },
    {
     "name": "stderr",
     "output_type": "stream",
     "text": [
      "Epochs:  50%|█████     | 1/2 [00:15<00:15, 15.45s/it]"
     ]
    },
    {
     "name": "stdout",
     "output_type": "stream",
     "text": [
      "2025-08-20 21:42:43,030 - Epoch 2/2 — Train RMSE: 0.4658 — Validation RMSE: 0.4122\n"
     ]
    },
    {
     "name": "stderr",
     "output_type": "stream",
     "text": [
      "Epochs: 100%|██████████| 2/2 [00:30<00:00, 15.44s/it]\n"
     ]
    },
    {
     "name": "stdout",
     "output_type": "stream",
     "text": [
      "2025-08-20 21:42:46,484 - Trial 167 with params: {'idxAfterPrediction': 3, 'timesteps': 90, 'target_option': 'last', 'LoadupSamples_time_scaling_stretch': True, 'LoadupSamples_time_inc_factor': 66, 'LSTM_units': 16, 'LSTM_num_layers': 1, 'LSTM_dropout': 0.01434287549610314, 'LSTM_recurrent_dropout': 0.001, 'LSTM_learning_rate': 6.866022896462662e-05, 'LSTM_optimizer': 'adam', 'LSTM_bidirectional': True, 'LSTM_batch_size': 4096, 'LSTM_epochs': 2, 'LSTM_l1': 0.001, 'LSTM_l2': 0.001, 'LSTM_inter_dropout': 0.001, 'LSTM_input_gaussian_noise': 0.001, 'LSTM_conv1d': True, 'LSTM_conv1d_kernel_size': 3, 'LSTM_loss': 'mse', 'year_start': 2022, 'is_single_feature': True}\n",
      "2025-08-20 21:42:46,484 -   q0: 0.9980\n",
      "2025-08-20 21:42:46,484 -   Duration0: 0:00:34.369658\n",
      "2025-08-20 21:42:46,484 -   Val RMSE0 adjusted: 0.0062\n",
      "2025-08-20 21:42:46,484 -   Mean all prediction: 1.0007\n",
      "2025-08-20 21:42:46,484 -   Mean above prediction: 0.9975\n",
      "2025-08-20 21:42:46,484 -   Mean below prediction: 1.0027\n",
      "2025-08-20 21:42:46,484 -   Quantile 0.99 for distance in mask above: 4274.319999999979\n",
      "2025-08-20 21:42:46,484 -   Quantile 0.99 for distance in mask below: 3595.0599999999977\n",
      "2025-08-20 21:42:46,484 -   Ratio for quantile-distance-to-length above: 0.0065\n",
      "2025-08-20 21:42:46,484 -   Ratio for quantile-distance-to-length below: 0.0055\n",
      "2025-08-20 21:42:46,484 -   Score: 0.9992\n"
     ]
    },
    {
     "name": "stderr",
     "output_type": "stream",
     "text": [
      "[I 2025-08-20 21:42:46,563] Trial 167 finished with value: 0.9991740885306774 and parameters: {'year_start': 2022, 'idxAfterPrediction': 3, 'LoadupSamples_time_inc_factor': 66, 'timesteps': 90, 'LSTM_learning_rate': 6.866022896462662e-05, 'LSTM_dropout': 0.01434287549610314, 'is_single_feature': True}. Best is trial 31 with value: 1.0049487769776475.\n"
     ]
    },
    {
     "name": "stdout",
     "output_type": "stream",
     "text": [
      "2025-08-20 21:42:46,563 - Trial 167 finished with value: 0.9991740885306774 and parameters: {'year_start': 2022, 'idxAfterPrediction': 3, 'LoadupSamples_time_inc_factor': 66, 'timesteps': 90, 'LSTM_learning_rate': 6.866022896462662e-05, 'LSTM_dropout': 0.01434287549610314, 'is_single_feature': True}. Best is trial 31 with value: 1.0049487769776475.\n",
      "2025-08-20 21:42:56,924 - Non-finite/too-large values in train y time: 36 samples.\n",
      "2025-08-20 21:42:56,940 - Removing 36 samples from training data.\n"
     ]
    },
    {
     "name": "stderr",
     "output_type": "stream",
     "text": [
      "Epochs:   0%|          | 0/2 [00:00<?, ?it/s]"
     ]
    },
    {
     "name": "stdout",
     "output_type": "stream",
     "text": [
      "2025-08-20 21:43:31,419 - Epoch 1/2 — Train RMSE: 0.4592 — Validation RMSE: 0.4124\n"
     ]
    },
    {
     "name": "stderr",
     "output_type": "stream",
     "text": [
      "Epochs:  50%|█████     | 1/2 [00:28<00:28, 28.86s/it]"
     ]
    },
    {
     "name": "stdout",
     "output_type": "stream",
     "text": [
      "2025-08-20 21:44:00,949 - Epoch 2/2 — Train RMSE: 0.4157 — Validation RMSE: 0.4065\n"
     ]
    },
    {
     "name": "stderr",
     "output_type": "stream",
     "text": [
      "Epochs: 100%|██████████| 2/2 [00:58<00:00, 29.20s/it]\n"
     ]
    },
    {
     "name": "stdout",
     "output_type": "stream",
     "text": [
      "2025-08-20 21:44:03,980 - Trial 168 with params: {'idxAfterPrediction': 3, 'timesteps': 30, 'target_option': 'last', 'LoadupSamples_time_scaling_stretch': True, 'LoadupSamples_time_inc_factor': 76, 'LSTM_units': 16, 'LSTM_num_layers': 1, 'LSTM_dropout': 0.010158295065125389, 'LSTM_recurrent_dropout': 0.001, 'LSTM_learning_rate': 4.3809312630047155e-05, 'LSTM_optimizer': 'adam', 'LSTM_bidirectional': True, 'LSTM_batch_size': 4096, 'LSTM_epochs': 2, 'LSTM_l1': 0.001, 'LSTM_l2': 0.001, 'LSTM_inter_dropout': 0.001, 'LSTM_input_gaussian_noise': 0.001, 'LSTM_conv1d': True, 'LSTM_conv1d_kernel_size': 3, 'LSTM_loss': 'mse', 'year_start': 2019, 'is_single_feature': False}\n",
      "2025-08-20 21:44:03,980 -   q0: 0.9980\n",
      "2025-08-20 21:44:03,980 -   Duration0: 0:01:01.490040\n",
      "2025-08-20 21:44:03,980 -   Val RMSE0 adjusted: 0.0053\n",
      "2025-08-20 21:44:03,980 -   Mean all prediction: 1.0007\n",
      "2025-08-20 21:44:03,980 -   Mean above prediction: 1.0081\n",
      "2025-08-20 21:44:03,980 -   Mean below prediction: 0.9985\n",
      "2025-08-20 21:44:03,996 -   Quantile 0.99 for distance in mask above: 4101.0199999999995\n",
      "2025-08-20 21:44:03,996 -   Quantile 0.99 for distance in mask below: 3989.5499999999997\n",
      "2025-08-20 21:44:03,996 -   Ratio for quantile-distance-to-length above: 0.0062\n",
      "2025-08-20 21:44:03,996 -   Ratio for quantile-distance-to-length below: 0.0061\n",
      "2025-08-20 21:44:03,996 -   Score: 1.0027\n"
     ]
    },
    {
     "name": "stderr",
     "output_type": "stream",
     "text": [
      "[I 2025-08-20 21:44:04,028] Trial 168 finished with value: 1.0026871202862013 and parameters: {'year_start': 2019, 'idxAfterPrediction': 3, 'LoadupSamples_time_inc_factor': 76, 'timesteps': 30, 'LSTM_learning_rate': 4.3809312630047155e-05, 'LSTM_dropout': 0.010158295065125389, 'is_single_feature': False}. Best is trial 31 with value: 1.0049487769776475.\n"
     ]
    },
    {
     "name": "stdout",
     "output_type": "stream",
     "text": [
      "2025-08-20 21:44:04,028 - Trial 168 finished with value: 1.0026871202862013 and parameters: {'year_start': 2019, 'idxAfterPrediction': 3, 'LoadupSamples_time_inc_factor': 76, 'timesteps': 30, 'LSTM_learning_rate': 4.3809312630047155e-05, 'LSTM_dropout': 0.010158295065125389, 'is_single_feature': False}. Best is trial 31 with value: 1.0049487769776475.\n",
      "2025-08-20 21:44:09,738 - Non-finite/too-large values in train y time: 36 samples.\n",
      "2025-08-20 21:44:09,754 - Removing 36 samples from training data.\n"
     ]
    },
    {
     "name": "stderr",
     "output_type": "stream",
     "text": [
      "Epochs:   0%|          | 0/2 [00:00<?, ?it/s]"
     ]
    },
    {
     "name": "stdout",
     "output_type": "stream",
     "text": [
      "2025-08-20 21:44:28,102 - Epoch 1/2 — Train RMSE: 0.4952 — Validation RMSE: 0.4305\n"
     ]
    },
    {
     "name": "stderr",
     "output_type": "stream",
     "text": [
      "Epochs:  50%|█████     | 1/2 [00:15<00:15, 15.00s/it]"
     ]
    },
    {
     "name": "stdout",
     "output_type": "stream",
     "text": [
      "2025-08-20 21:44:43,409 - Epoch 2/2 — Train RMSE: 0.4185 — Validation RMSE: 0.3922\n"
     ]
    },
    {
     "name": "stderr",
     "output_type": "stream",
     "text": [
      "Epochs: 100%|██████████| 2/2 [00:30<00:00, 15.15s/it]\n"
     ]
    },
    {
     "name": "stdout",
     "output_type": "stream",
     "text": [
      "2025-08-20 21:44:46,541 - Trial 169 with params: {'idxAfterPrediction': 3, 'timesteps': 35, 'target_option': 'last', 'LoadupSamples_time_scaling_stretch': True, 'LoadupSamples_time_inc_factor': 61, 'LSTM_units': 16, 'LSTM_num_layers': 1, 'LSTM_dropout': 0.01768430372751491, 'LSTM_recurrent_dropout': 0.001, 'LSTM_learning_rate': 7.505338686086371e-05, 'LSTM_optimizer': 'adam', 'LSTM_bidirectional': True, 'LSTM_batch_size': 4096, 'LSTM_epochs': 2, 'LSTM_l1': 0.001, 'LSTM_l2': 0.001, 'LSTM_inter_dropout': 0.001, 'LSTM_input_gaussian_noise': 0.001, 'LSTM_conv1d': True, 'LSTM_conv1d_kernel_size': 3, 'LSTM_loss': 'mse', 'year_start': 2022, 'is_single_feature': False}\n",
      "2025-08-20 21:44:46,541 -   q0: 0.9980\n",
      "2025-08-20 21:44:46,541 -   Duration0: 0:00:33.468607\n",
      "2025-08-20 21:44:46,541 -   Val RMSE0 adjusted: 0.0064\n",
      "2025-08-20 21:44:46,541 -   Mean all prediction: 1.0007\n",
      "2025-08-20 21:44:46,541 -   Mean above prediction: 1.0075\n",
      "2025-08-20 21:44:46,541 -   Mean below prediction: 1.0049\n",
      "2025-08-20 21:44:46,541 -   Quantile 0.99 for distance in mask above: 4398.859999999995\n",
      "2025-08-20 21:44:46,541 -   Quantile 0.99 for distance in mask below: 4484.119999999991\n",
      "2025-08-20 21:44:46,541 -   Ratio for quantile-distance-to-length above: 0.0067\n",
      "2025-08-20 21:44:46,541 -   Ratio for quantile-distance-to-length below: 0.0068\n",
      "2025-08-20 21:44:46,541 -   Score: 1.0025\n"
     ]
    },
    {
     "name": "stderr",
     "output_type": "stream",
     "text": [
      "[I 2025-08-20 21:44:46,572] Trial 169 finished with value: 1.0024816067605296 and parameters: {'year_start': 2022, 'idxAfterPrediction': 3, 'LoadupSamples_time_inc_factor': 61, 'timesteps': 35, 'LSTM_learning_rate': 7.505338686086371e-05, 'LSTM_dropout': 0.01768430372751491, 'is_single_feature': False}. Best is trial 31 with value: 1.0049487769776475.\n"
     ]
    },
    {
     "name": "stdout",
     "output_type": "stream",
     "text": [
      "2025-08-20 21:44:46,572 - Trial 169 finished with value: 1.0024816067605296 and parameters: {'year_start': 2022, 'idxAfterPrediction': 3, 'LoadupSamples_time_inc_factor': 61, 'timesteps': 35, 'LSTM_learning_rate': 7.505338686086371e-05, 'LSTM_dropout': 0.01768430372751491, 'is_single_feature': False}. Best is trial 31 with value: 1.0049487769776475.\n",
      "2025-08-20 21:44:55,684 - Non-finite/too-large values in train y time: 36 samples.\n",
      "2025-08-20 21:44:55,684 - Removing 36 samples from training data.\n"
     ]
    },
    {
     "name": "stderr",
     "output_type": "stream",
     "text": [
      "Epochs:   0%|          | 0/2 [00:00<?, ?it/s]"
     ]
    },
    {
     "name": "stdout",
     "output_type": "stream",
     "text": [
      "2025-08-20 21:45:33,355 - Epoch 1/2 — Train RMSE: 0.6423 — Validation RMSE: 0.5850\n"
     ]
    },
    {
     "name": "stderr",
     "output_type": "stream",
     "text": [
      "Epochs:  50%|█████     | 1/2 [00:25<00:25, 25.42s/it]"
     ]
    },
    {
     "name": "stdout",
     "output_type": "stream",
     "text": [
      "2025-08-20 21:45:58,793 - Epoch 2/2 — Train RMSE: 0.5704 — Validation RMSE: 0.5133\n"
     ]
    },
    {
     "name": "stderr",
     "output_type": "stream",
     "text": [
      "Epochs: 100%|██████████| 2/2 [00:50<00:00, 25.43s/it]\n"
     ]
    },
    {
     "name": "stdout",
     "output_type": "stream",
     "text": [
      "2025-08-20 21:46:02,218 - Trial 170 with params: {'idxAfterPrediction': 3, 'timesteps': 90, 'target_option': 'last', 'LoadupSamples_time_scaling_stretch': True, 'LoadupSamples_time_inc_factor': 71, 'LSTM_units': 16, 'LSTM_num_layers': 1, 'LSTM_dropout': 0.058180623195823275, 'LSTM_recurrent_dropout': 0.001, 'LSTM_learning_rate': 1.83769694669776e-05, 'LSTM_optimizer': 'adam', 'LSTM_bidirectional': True, 'LSTM_batch_size': 4096, 'LSTM_epochs': 2, 'LSTM_l1': 0.001, 'LSTM_l2': 0.001, 'LSTM_inter_dropout': 0.001, 'LSTM_input_gaussian_noise': 0.001, 'LSTM_conv1d': True, 'LSTM_conv1d_kernel_size': 3, 'LSTM_loss': 'mse', 'year_start': 2020, 'is_single_feature': False}\n",
      "2025-08-20 21:46:02,218 -   q0: 0.9980\n",
      "2025-08-20 21:46:02,218 -   Duration0: 0:00:54.440535\n",
      "2025-08-20 21:46:02,218 -   Val RMSE0 adjusted: 0.0072\n",
      "2025-08-20 21:46:02,218 -   Mean all prediction: 1.0007\n",
      "2025-08-20 21:46:02,218 -   Mean above prediction: 1.0104\n",
      "2025-08-20 21:46:02,218 -   Mean below prediction: 1.0041\n",
      "2025-08-20 21:46:02,218 -   Quantile 0.99 for distance in mask above: 5329.899999999979\n",
      "2025-08-20 21:46:02,218 -   Quantile 0.99 for distance in mask below: 3885.6199999999935\n",
      "2025-08-20 21:46:02,218 -   Ratio for quantile-distance-to-length above: 0.0081\n",
      "2025-08-20 21:46:02,218 -   Ratio for quantile-distance-to-length below: 0.0059\n",
      "2025-08-20 21:46:02,218 -   Score: 1.0035\n"
     ]
    },
    {
     "name": "stderr",
     "output_type": "stream",
     "text": [
      "[I 2025-08-20 21:46:02,297] Trial 170 finished with value: 1.0034643678941186 and parameters: {'year_start': 2020, 'idxAfterPrediction': 3, 'LoadupSamples_time_inc_factor': 71, 'timesteps': 90, 'LSTM_learning_rate': 1.83769694669776e-05, 'LSTM_dropout': 0.058180623195823275, 'is_single_feature': False}. Best is trial 31 with value: 1.0049487769776475.\n"
     ]
    },
    {
     "name": "stdout",
     "output_type": "stream",
     "text": [
      "2025-08-20 21:46:02,297 - Trial 170 finished with value: 1.0034643678941186 and parameters: {'year_start': 2020, 'idxAfterPrediction': 3, 'LoadupSamples_time_inc_factor': 71, 'timesteps': 90, 'LSTM_learning_rate': 1.83769694669776e-05, 'LSTM_dropout': 0.058180623195823275, 'is_single_feature': False}. Best is trial 31 with value: 1.0049487769776475.\n",
      "2025-08-20 21:46:08,171 - Non-finite/too-large values in train y time: 36 samples.\n",
      "2025-08-20 21:46:08,187 - Removing 36 samples from training data.\n"
     ]
    },
    {
     "name": "stderr",
     "output_type": "stream",
     "text": [
      "Epochs:   0%|          | 0/2 [00:00<?, ?it/s]"
     ]
    },
    {
     "name": "stdout",
     "output_type": "stream",
     "text": [
      "2025-08-20 21:46:31,291 - Epoch 1/2 — Train RMSE: 0.6136 — Validation RMSE: 0.5519\n"
     ]
    },
    {
     "name": "stderr",
     "output_type": "stream",
     "text": [
      "Epochs:  50%|█████     | 1/2 [00:15<00:15, 15.68s/it]"
     ]
    },
    {
     "name": "stdout",
     "output_type": "stream",
     "text": [
      "2025-08-20 21:46:46,860 - Epoch 2/2 — Train RMSE: 0.5254 — Validation RMSE: 0.4687\n"
     ]
    },
    {
     "name": "stderr",
     "output_type": "stream",
     "text": [
      "Epochs: 100%|██████████| 2/2 [00:31<00:00, 15.62s/it]\n"
     ]
    },
    {
     "name": "stdout",
     "output_type": "stream",
     "text": [
      "2025-08-20 21:46:50,381 - Trial 171 with params: {'idxAfterPrediction': 3, 'timesteps': 85, 'target_option': 'last', 'LoadupSamples_time_scaling_stretch': True, 'LoadupSamples_time_inc_factor': 66, 'LSTM_units': 16, 'LSTM_num_layers': 1, 'LSTM_dropout': 0.011919760586744252, 'LSTM_recurrent_dropout': 0.001, 'LSTM_learning_rate': 4.154269128292542e-05, 'LSTM_optimizer': 'adam', 'LSTM_bidirectional': True, 'LSTM_batch_size': 4096, 'LSTM_epochs': 2, 'LSTM_l1': 0.001, 'LSTM_l2': 0.001, 'LSTM_inter_dropout': 0.001, 'LSTM_input_gaussian_noise': 0.001, 'LSTM_conv1d': True, 'LSTM_conv1d_kernel_size': 3, 'LSTM_loss': 'mse', 'year_start': 2022, 'is_single_feature': False}\n",
      "2025-08-20 21:46:50,397 -   q0: 0.9980\n",
      "2025-08-20 21:46:50,397 -   Duration0: 0:00:34.863583\n",
      "2025-08-20 21:46:50,397 -   Val RMSE0 adjusted: 0.0071\n",
      "2025-08-20 21:46:50,397 -   Mean all prediction: 1.0007\n",
      "2025-08-20 21:46:50,397 -   Mean above prediction: 0.9945\n",
      "2025-08-20 21:46:50,397 -   Mean below prediction: 0.9940\n",
      "2025-08-20 21:46:50,397 -   Quantile 0.99 for distance in mask above: 5124.899999999979\n",
      "2025-08-20 21:46:50,397 -   Quantile 0.99 for distance in mask below: 4391.299999999979\n",
      "2025-08-20 21:46:50,397 -   Ratio for quantile-distance-to-length above: 0.0078\n",
      "2025-08-20 21:46:50,397 -   Ratio for quantile-distance-to-length below: 0.0067\n",
      "2025-08-20 21:46:50,397 -   Score: 0.9982\n"
     ]
    },
    {
     "name": "stderr",
     "output_type": "stream",
     "text": [
      "[I 2025-08-20 21:46:50,444] Trial 171 finished with value: 0.9981722850926635 and parameters: {'year_start': 2022, 'idxAfterPrediction': 3, 'LoadupSamples_time_inc_factor': 66, 'timesteps': 85, 'LSTM_learning_rate': 4.154269128292542e-05, 'LSTM_dropout': 0.011919760586744252, 'is_single_feature': False}. Best is trial 31 with value: 1.0049487769776475.\n"
     ]
    },
    {
     "name": "stdout",
     "output_type": "stream",
     "text": [
      "2025-08-20 21:46:50,444 - Trial 171 finished with value: 0.9981722850926635 and parameters: {'year_start': 2022, 'idxAfterPrediction': 3, 'LoadupSamples_time_inc_factor': 66, 'timesteps': 85, 'LSTM_learning_rate': 4.154269128292542e-05, 'LSTM_dropout': 0.011919760586744252, 'is_single_feature': False}. Best is trial 31 with value: 1.0049487769776475.\n",
      "2025-08-20 21:46:56,303 - Non-finite/too-large values in train y time: 36 samples.\n",
      "2025-08-20 21:46:56,303 - Removing 36 samples from training data.\n"
     ]
    },
    {
     "name": "stderr",
     "output_type": "stream",
     "text": [
      "Epochs:   0%|          | 0/2 [00:00<?, ?it/s]"
     ]
    },
    {
     "name": "stdout",
     "output_type": "stream",
     "text": [
      "2025-08-20 21:47:19,943 - Epoch 1/2 — Train RMSE: 0.6418 — Validation RMSE: 0.6005\n"
     ]
    },
    {
     "name": "stderr",
     "output_type": "stream",
     "text": [
      "Epochs:  50%|█████     | 1/2 [00:15<00:15, 15.73s/it]"
     ]
    },
    {
     "name": "stdout",
     "output_type": "stream",
     "text": [
      "2025-08-20 21:47:35,892 - Epoch 2/2 — Train RMSE: 0.5924 — Validation RMSE: 0.5520\n"
     ]
    },
    {
     "name": "stderr",
     "output_type": "stream",
     "text": [
      "Epochs: 100%|██████████| 2/2 [00:31<00:00, 15.84s/it]\n"
     ]
    },
    {
     "name": "stdout",
     "output_type": "stream",
     "text": [
      "2025-08-20 21:47:39,931 - Trial 172 with params: {'idxAfterPrediction': 3, 'timesteps': 90, 'target_option': 'last', 'LoadupSamples_time_scaling_stretch': True, 'LoadupSamples_time_inc_factor': 66, 'LSTM_units': 16, 'LSTM_num_layers': 1, 'LSTM_dropout': 0.00657005045963948, 'LSTM_recurrent_dropout': 0.001, 'LSTM_learning_rate': 2.843152151078202e-05, 'LSTM_optimizer': 'adam', 'LSTM_bidirectional': True, 'LSTM_batch_size': 4096, 'LSTM_epochs': 2, 'LSTM_l1': 0.001, 'LSTM_l2': 0.001, 'LSTM_inter_dropout': 0.001, 'LSTM_input_gaussian_noise': 0.001, 'LSTM_conv1d': True, 'LSTM_conv1d_kernel_size': 3, 'LSTM_loss': 'mse', 'year_start': 2022, 'is_single_feature': False}\n",
      "2025-08-20 21:47:39,931 -   q0: 0.9980\n",
      "2025-08-20 21:47:39,931 -   Duration0: 0:00:35.838678\n",
      "2025-08-20 21:47:39,931 -   Val RMSE0 adjusted: 0.0084\n",
      "2025-08-20 21:47:39,931 -   Mean all prediction: 1.0007\n",
      "2025-08-20 21:47:39,931 -   Mean above prediction: 1.0130\n",
      "2025-08-20 21:47:39,931 -   Mean below prediction: 1.0006\n",
      "2025-08-20 21:47:39,931 -   Quantile 0.99 for distance in mask above: 5617.479999999998\n",
      "2025-08-20 21:47:39,931 -   Quantile 0.99 for distance in mask below: 3282.739999999999\n",
      "2025-08-20 21:47:39,931 -   Ratio for quantile-distance-to-length above: 0.0085\n",
      "2025-08-20 21:47:39,931 -   Ratio for quantile-distance-to-length below: 0.0050\n",
      "2025-08-20 21:47:39,931 -   Score: 1.0043\n"
     ]
    },
    {
     "name": "stderr",
     "output_type": "stream",
     "text": [
      "[I 2025-08-20 21:47:39,977] Trial 172 finished with value: 1.0043032293553453 and parameters: {'year_start': 2022, 'idxAfterPrediction': 3, 'LoadupSamples_time_inc_factor': 66, 'timesteps': 90, 'LSTM_learning_rate': 2.843152151078202e-05, 'LSTM_dropout': 0.00657005045963948, 'is_single_feature': False}. Best is trial 31 with value: 1.0049487769776475.\n"
     ]
    },
    {
     "name": "stdout",
     "output_type": "stream",
     "text": [
      "2025-08-20 21:47:39,977 - Trial 172 finished with value: 1.0043032293553453 and parameters: {'year_start': 2022, 'idxAfterPrediction': 3, 'LoadupSamples_time_inc_factor': 66, 'timesteps': 90, 'LSTM_learning_rate': 2.843152151078202e-05, 'LSTM_dropout': 0.00657005045963948, 'is_single_feature': False}. Best is trial 31 with value: 1.0049487769776475.\n",
      "2025-08-20 21:47:45,803 - Non-finite/too-large values in train y time: 36 samples.\n",
      "2025-08-20 21:47:45,803 - Removing 36 samples from training data.\n"
     ]
    },
    {
     "name": "stderr",
     "output_type": "stream",
     "text": [
      "Epochs:   0%|          | 0/2 [00:00<?, ?it/s]"
     ]
    },
    {
     "name": "stdout",
     "output_type": "stream",
     "text": [
      "2025-08-20 21:48:06,831 - Epoch 1/2 — Train RMSE: 0.6571 — Validation RMSE: 0.6043\n"
     ]
    },
    {
     "name": "stderr",
     "output_type": "stream",
     "text": [
      "Epochs:  50%|█████     | 1/2 [00:15<00:15, 15.23s/it]"
     ]
    },
    {
     "name": "stdout",
     "output_type": "stream",
     "text": [
      "2025-08-20 21:48:22,413 - Epoch 2/2 — Train RMSE: 0.5841 — Validation RMSE: 0.5314\n"
     ]
    },
    {
     "name": "stderr",
     "output_type": "stream",
     "text": [
      "Epochs: 100%|██████████| 2/2 [00:30<00:00, 15.41s/it]\n"
     ]
    },
    {
     "name": "stdout",
     "output_type": "stream",
     "text": [
      "2025-08-20 21:48:25,921 - Trial 173 with params: {'idxAfterPrediction': 3, 'timesteps': 65, 'target_option': 'last', 'LoadupSamples_time_scaling_stretch': True, 'LoadupSamples_time_inc_factor': 66, 'LSTM_units': 16, 'LSTM_num_layers': 1, 'LSTM_dropout': 0.00450371386342695, 'LSTM_recurrent_dropout': 0.001, 'LSTM_learning_rate': 3.0305662700413685e-05, 'LSTM_optimizer': 'adam', 'LSTM_bidirectional': True, 'LSTM_batch_size': 4096, 'LSTM_epochs': 2, 'LSTM_l1': 0.001, 'LSTM_l2': 0.001, 'LSTM_inter_dropout': 0.001, 'LSTM_input_gaussian_noise': 0.001, 'LSTM_conv1d': True, 'LSTM_conv1d_kernel_size': 3, 'LSTM_loss': 'mse', 'year_start': 2022, 'is_single_feature': False}\n",
      "2025-08-20 21:48:25,921 -   q0: 0.9980\n",
      "2025-08-20 21:48:25,921 -   Duration0: 0:00:34.419202\n",
      "2025-08-20 21:48:25,921 -   Val RMSE0 adjusted: 0.0081\n",
      "2025-08-20 21:48:25,921 -   Mean all prediction: 1.0007\n",
      "2025-08-20 21:48:25,921 -   Mean above prediction: 1.0007\n",
      "2025-08-20 21:48:25,921 -   Mean below prediction: 0.9977\n",
      "2025-08-20 21:48:25,921 -   Quantile 0.99 for distance in mask above: 5586.439999999975\n",
      "2025-08-20 21:48:25,921 -   Quantile 0.99 for distance in mask below: 3822.9599999999964\n",
      "2025-08-20 21:48:25,937 -   Ratio for quantile-distance-to-length above: 0.0085\n",
      "2025-08-20 21:48:25,937 -   Ratio for quantile-distance-to-length below: 0.0058\n",
      "2025-08-20 21:48:25,937 -   Score: 1.0002\n"
     ]
    },
    {
     "name": "stderr",
     "output_type": "stream",
     "text": [
      "[I 2025-08-20 21:48:25,974] Trial 173 finished with value: 1.0002489965815855 and parameters: {'year_start': 2022, 'idxAfterPrediction': 3, 'LoadupSamples_time_inc_factor': 66, 'timesteps': 65, 'LSTM_learning_rate': 3.0305662700413685e-05, 'LSTM_dropout': 0.00450371386342695, 'is_single_feature': False}. Best is trial 31 with value: 1.0049487769776475.\n"
     ]
    },
    {
     "name": "stdout",
     "output_type": "stream",
     "text": [
      "2025-08-20 21:48:25,974 - Trial 173 finished with value: 1.0002489965815855 and parameters: {'year_start': 2022, 'idxAfterPrediction': 3, 'LoadupSamples_time_inc_factor': 66, 'timesteps': 65, 'LSTM_learning_rate': 3.0305662700413685e-05, 'LSTM_dropout': 0.00450371386342695, 'is_single_feature': False}. Best is trial 31 with value: 1.0049487769776475.\n",
      "2025-08-20 21:48:31,834 - Non-finite/too-large values in train y time: 36 samples.\n",
      "2025-08-20 21:48:31,834 - Removing 36 samples from training data.\n"
     ]
    },
    {
     "name": "stderr",
     "output_type": "stream",
     "text": [
      "Epochs:   0%|          | 0/2 [00:00<?, ?it/s]"
     ]
    },
    {
     "name": "stdout",
     "output_type": "stream",
     "text": [
      "2025-08-20 21:48:55,659 - Epoch 1/2 — Train RMSE: 0.7675 — Validation RMSE: 0.7213\n"
     ]
    },
    {
     "name": "stderr",
     "output_type": "stream",
     "text": [
      "Epochs:  50%|█████     | 1/2 [00:15<00:15, 15.98s/it]"
     ]
    },
    {
     "name": "stdout",
     "output_type": "stream",
     "text": [
      "2025-08-20 21:49:11,276 - Epoch 2/2 — Train RMSE: 0.7050 — Validation RMSE: 0.6568\n"
     ]
    },
    {
     "name": "stderr",
     "output_type": "stream",
     "text": [
      "Epochs: 100%|██████████| 2/2 [00:31<00:00, 15.80s/it]\n"
     ]
    },
    {
     "name": "stdout",
     "output_type": "stream",
     "text": [
      "2025-08-20 21:49:15,120 - Trial 174 with params: {'idxAfterPrediction': 3, 'timesteps': 90, 'target_option': 'last', 'LoadupSamples_time_scaling_stretch': True, 'LoadupSamples_time_inc_factor': 71, 'LSTM_units': 16, 'LSTM_num_layers': 1, 'LSTM_dropout': 0.003417776979910647, 'LSTM_recurrent_dropout': 0.001, 'LSTM_learning_rate': 2.297970350772377e-05, 'LSTM_optimizer': 'adam', 'LSTM_bidirectional': True, 'LSTM_batch_size': 4096, 'LSTM_epochs': 2, 'LSTM_l1': 0.001, 'LSTM_l2': 0.001, 'LSTM_inter_dropout': 0.001, 'LSTM_input_gaussian_noise': 0.001, 'LSTM_conv1d': True, 'LSTM_conv1d_kernel_size': 3, 'LSTM_loss': 'mse', 'year_start': 2022, 'is_single_feature': False}\n",
      "2025-08-20 21:49:15,120 -   q0: 0.9980\n",
      "2025-08-20 21:49:15,120 -   Duration0: 0:00:35.539855\n",
      "2025-08-20 21:49:15,120 -   Val RMSE0 adjusted: 0.0093\n",
      "2025-08-20 21:49:15,120 -   Mean all prediction: 1.0007\n",
      "2025-08-20 21:49:15,120 -   Mean above prediction: 1.0054\n",
      "2025-08-20 21:49:15,120 -   Mean below prediction: 1.0022\n",
      "2025-08-20 21:49:15,136 -   Quantile 0.99 for distance in mask above: 3945.5399999999963\n",
      "2025-08-20 21:49:15,136 -   Quantile 0.99 for distance in mask below: 3520.0599999999977\n",
      "2025-08-20 21:49:15,136 -   Ratio for quantile-distance-to-length above: 0.0060\n",
      "2025-08-20 21:49:15,136 -   Ratio for quantile-distance-to-length below: 0.0054\n",
      "2025-08-20 21:49:15,136 -   Score: 1.0018\n"
     ]
    },
    {
     "name": "stderr",
     "output_type": "stream",
     "text": [
      "[I 2025-08-20 21:49:15,173] Trial 174 finished with value: 1.0018128943161075 and parameters: {'year_start': 2022, 'idxAfterPrediction': 3, 'LoadupSamples_time_inc_factor': 71, 'timesteps': 90, 'LSTM_learning_rate': 2.297970350772377e-05, 'LSTM_dropout': 0.003417776979910647, 'is_single_feature': False}. Best is trial 31 with value: 1.0049487769776475.\n"
     ]
    },
    {
     "name": "stdout",
     "output_type": "stream",
     "text": [
      "2025-08-20 21:49:15,173 - Trial 174 finished with value: 1.0018128943161075 and parameters: {'year_start': 2022, 'idxAfterPrediction': 3, 'LoadupSamples_time_inc_factor': 71, 'timesteps': 90, 'LSTM_learning_rate': 2.297970350772377e-05, 'LSTM_dropout': 0.003417776979910647, 'is_single_feature': False}. Best is trial 31 with value: 1.0049487769776475.\n",
      "2025-08-20 21:49:21,023 - Non-finite/too-large values in train y time: 36 samples.\n",
      "2025-08-20 21:49:21,023 - Removing 36 samples from training data.\n"
     ]
    },
    {
     "name": "stderr",
     "output_type": "stream",
     "text": [
      "Epochs:   0%|          | 0/2 [00:00<?, ?it/s]"
     ]
    },
    {
     "name": "stdout",
     "output_type": "stream",
     "text": [
      "2025-08-20 21:49:44,300 - Epoch 1/2 — Train RMSE: 0.5713 — Validation RMSE: 0.5253\n"
     ]
    },
    {
     "name": "stderr",
     "output_type": "stream",
     "text": [
      "Epochs:  50%|█████     | 1/2 [00:15<00:15, 15.48s/it]"
     ]
    },
    {
     "name": "stdout",
     "output_type": "stream",
     "text": [
      "2025-08-20 21:49:59,941 - Epoch 2/2 — Train RMSE: 0.5159 — Validation RMSE: 0.4772\n"
     ]
    },
    {
     "name": "stderr",
     "output_type": "stream",
     "text": [
      "Epochs: 100%|██████████| 2/2 [00:31<00:00, 15.56s/it]\n"
     ]
    },
    {
     "name": "stdout",
     "output_type": "stream",
     "text": [
      "2025-08-20 21:50:03,775 - Trial 175 with params: {'idxAfterPrediction': 3, 'timesteps': 90, 'target_option': 'last', 'LoadupSamples_time_scaling_stretch': True, 'LoadupSamples_time_inc_factor': 66, 'LSTM_units': 16, 'LSTM_num_layers': 1, 'LSTM_dropout': 0.005684704641995744, 'LSTM_recurrent_dropout': 0.001, 'LSTM_learning_rate': 2.6616884782733767e-05, 'LSTM_optimizer': 'adam', 'LSTM_bidirectional': True, 'LSTM_batch_size': 4096, 'LSTM_epochs': 2, 'LSTM_l1': 0.001, 'LSTM_l2': 0.001, 'LSTM_inter_dropout': 0.001, 'LSTM_input_gaussian_noise': 0.001, 'LSTM_conv1d': True, 'LSTM_conv1d_kernel_size': 3, 'LSTM_loss': 'mse', 'year_start': 2022, 'is_single_feature': False}\n",
      "2025-08-20 21:50:03,775 -   q0: 0.9980\n",
      "2025-08-20 21:50:03,775 -   Duration0: 0:00:35.049491\n",
      "2025-08-20 21:50:03,775 -   Val RMSE0 adjusted: 0.0072\n",
      "2025-08-20 21:50:03,775 -   Mean all prediction: 1.0007\n",
      "2025-08-20 21:50:03,775 -   Mean above prediction: 1.0089\n",
      "2025-08-20 21:50:03,775 -   Mean below prediction: 0.9969\n",
      "2025-08-20 21:50:03,775 -   Quantile 0.99 for distance in mask above: 5059.059999999998\n",
      "2025-08-20 21:50:03,775 -   Quantile 0.99 for distance in mask below: 3421.979999999996\n",
      "2025-08-20 21:50:03,775 -   Ratio for quantile-distance-to-length above: 0.0077\n",
      "2025-08-20 21:50:03,775 -   Ratio for quantile-distance-to-length below: 0.0052\n",
      "2025-08-20 21:50:03,775 -   Score: 1.0030\n"
     ]
    },
    {
     "name": "stderr",
     "output_type": "stream",
     "text": [
      "[I 2025-08-20 21:50:03,826] Trial 175 finished with value: 1.002950583543639 and parameters: {'year_start': 2022, 'idxAfterPrediction': 3, 'LoadupSamples_time_inc_factor': 66, 'timesteps': 90, 'LSTM_learning_rate': 2.6616884782733767e-05, 'LSTM_dropout': 0.005684704641995744, 'is_single_feature': False}. Best is trial 31 with value: 1.0049487769776475.\n"
     ]
    },
    {
     "name": "stdout",
     "output_type": "stream",
     "text": [
      "2025-08-20 21:50:03,826 - Trial 175 finished with value: 1.002950583543639 and parameters: {'year_start': 2022, 'idxAfterPrediction': 3, 'LoadupSamples_time_inc_factor': 66, 'timesteps': 90, 'LSTM_learning_rate': 2.6616884782733767e-05, 'LSTM_dropout': 0.005684704641995744, 'is_single_feature': False}. Best is trial 31 with value: 1.0049487769776475.\n",
      "2025-08-20 21:50:14,594 - Non-finite/too-large values in train y time: 36 samples.\n",
      "2025-08-20 21:50:14,594 - Removing 36 samples from training data.\n"
     ]
    },
    {
     "name": "stderr",
     "output_type": "stream",
     "text": [
      "Epochs:   0%|          | 0/2 [00:00<?, ?it/s]"
     ]
    },
    {
     "name": "stdout",
     "output_type": "stream",
     "text": [
      "2025-08-20 21:50:59,738 - Epoch 1/2 — Train RMSE: 0.5337 — Validation RMSE: 0.4171\n"
     ]
    },
    {
     "name": "stderr",
     "output_type": "stream",
     "text": [
      "Epochs:  50%|█████     | 1/2 [00:30<00:30, 30.40s/it]"
     ]
    },
    {
     "name": "stdout",
     "output_type": "stream",
     "text": [
      "2025-08-20 21:51:30,141 - Epoch 2/2 — Train RMSE: 0.4042 — Validation RMSE: 0.3874\n"
     ]
    },
    {
     "name": "stderr",
     "output_type": "stream",
     "text": [
      "Epochs: 100%|██████████| 2/2 [01:00<00:00, 30.40s/it]\n"
     ]
    },
    {
     "name": "stdout",
     "output_type": "stream",
     "text": [
      "2025-08-20 21:51:33,758 - Trial 176 with params: {'idxAfterPrediction': 3, 'timesteps': 90, 'target_option': 'last', 'LoadupSamples_time_scaling_stretch': True, 'LoadupSamples_time_inc_factor': 61, 'LSTM_units': 16, 'LSTM_num_layers': 1, 'LSTM_dropout': 0.008558910417750787, 'LSTM_recurrent_dropout': 0.001, 'LSTM_learning_rate': 5.793348912071216e-05, 'LSTM_optimizer': 'adam', 'LSTM_bidirectional': True, 'LSTM_batch_size': 4096, 'LSTM_epochs': 2, 'LSTM_l1': 0.001, 'LSTM_l2': 0.001, 'LSTM_inter_dropout': 0.001, 'LSTM_input_gaussian_noise': 0.001, 'LSTM_conv1d': True, 'LSTM_conv1d_kernel_size': 3, 'LSTM_loss': 'mse', 'year_start': 2019, 'is_single_feature': False}\n",
      "2025-08-20 21:51:33,758 -   q0: 0.9980\n",
      "2025-08-20 21:51:33,758 -   Duration0: 0:01:04.699508\n",
      "2025-08-20 21:51:33,758 -   Val RMSE0 adjusted: 0.0064\n",
      "2025-08-20 21:51:33,758 -   Mean all prediction: 1.0007\n",
      "2025-08-20 21:51:33,758 -   Mean above prediction: 1.0065\n",
      "2025-08-20 21:51:33,774 -   Mean below prediction: 1.0037\n",
      "2025-08-20 21:51:33,774 -   Quantile 0.99 for distance in mask above: 4710.859999999995\n",
      "2025-08-20 21:51:33,774 -   Quantile 0.99 for distance in mask below: 3996.259999999991\n",
      "2025-08-20 21:51:33,774 -   Ratio for quantile-distance-to-length above: 0.0072\n",
      "2025-08-20 21:51:33,774 -   Ratio for quantile-distance-to-length below: 0.0061\n",
      "2025-08-20 21:51:33,774 -   Score: 1.0022\n"
     ]
    },
    {
     "name": "stderr",
     "output_type": "stream",
     "text": [
      "[I 2025-08-20 21:51:33,852] Trial 176 finished with value: 1.0021699244934243 and parameters: {'year_start': 2019, 'idxAfterPrediction': 3, 'LoadupSamples_time_inc_factor': 61, 'timesteps': 90, 'LSTM_learning_rate': 5.793348912071216e-05, 'LSTM_dropout': 0.008558910417750787, 'is_single_feature': False}. Best is trial 31 with value: 1.0049487769776475.\n"
     ]
    },
    {
     "name": "stdout",
     "output_type": "stream",
     "text": [
      "2025-08-20 21:51:33,852 - Trial 176 finished with value: 1.0021699244934243 and parameters: {'year_start': 2019, 'idxAfterPrediction': 3, 'LoadupSamples_time_inc_factor': 61, 'timesteps': 90, 'LSTM_learning_rate': 5.793348912071216e-05, 'LSTM_dropout': 0.008558910417750787, 'is_single_feature': False}. Best is trial 31 with value: 1.0049487769776475.\n",
      "2025-08-20 21:51:39,560 - Non-finite/too-large values in train y time: 48 samples.\n",
      "2025-08-20 21:51:39,560 - Removing 48 samples from training data.\n"
     ]
    },
    {
     "name": "stderr",
     "output_type": "stream",
     "text": [
      "Epochs:   0%|          | 0/2 [00:00<?, ?it/s]"
     ]
    },
    {
     "name": "stdout",
     "output_type": "stream",
     "text": [
      "2025-08-20 21:51:57,360 - Epoch 1/2 — Train RMSE: 0.5448 — Validation RMSE: 0.4675\n"
     ]
    },
    {
     "name": "stderr",
     "output_type": "stream",
     "text": [
      "Epochs:  50%|█████     | 1/2 [00:14<00:14, 14.81s/it]"
     ]
    },
    {
     "name": "stdout",
     "output_type": "stream",
     "text": [
      "2025-08-20 21:52:12,477 - Epoch 2/2 — Train RMSE: 0.4482 — Validation RMSE: 0.4260\n"
     ]
    },
    {
     "name": "stderr",
     "output_type": "stream",
     "text": [
      "Epochs: 100%|██████████| 2/2 [00:29<00:00, 14.97s/it]\n"
     ]
    },
    {
     "name": "stdout",
     "output_type": "stream",
     "text": [
      "2025-08-20 21:52:15,672 - Trial 177 with params: {'idxAfterPrediction': 4, 'timesteps': 30, 'target_option': 'last', 'LoadupSamples_time_scaling_stretch': True, 'LoadupSamples_time_inc_factor': 81, 'LSTM_units': 16, 'LSTM_num_layers': 1, 'LSTM_dropout': 0.07372248241324658, 'LSTM_recurrent_dropout': 0.001, 'LSTM_learning_rate': 0.00010058528115344922, 'LSTM_optimizer': 'adam', 'LSTM_bidirectional': True, 'LSTM_batch_size': 4096, 'LSTM_epochs': 2, 'LSTM_l1': 0.001, 'LSTM_l2': 0.001, 'LSTM_inter_dropout': 0.001, 'LSTM_input_gaussian_noise': 0.001, 'LSTM_conv1d': True, 'LSTM_conv1d_kernel_size': 3, 'LSTM_loss': 'mse', 'year_start': 2022, 'is_single_feature': False}\n",
      "2025-08-20 21:52:15,672 -   q0: 0.9980\n",
      "2025-08-20 21:52:15,672 -   Duration0: 0:00:33.188237\n",
      "2025-08-20 21:52:15,688 -   Val RMSE0 adjusted: 0.0053\n",
      "2025-08-20 21:52:15,688 -   Mean all prediction: 1.0011\n",
      "2025-08-20 21:52:15,688 -   Mean above prediction: 1.0165\n",
      "2025-08-20 21:52:15,688 -   Mean below prediction: 1.0021\n",
      "2025-08-20 21:52:15,688 -   Quantile 0.99 for distance in mask above: 5759.739999999964\n",
      "2025-08-20 21:52:15,688 -   Quantile 0.99 for distance in mask below: 4594.919999999993\n",
      "2025-08-20 21:52:15,688 -   Ratio for quantile-distance-to-length above: 0.0088\n",
      "2025-08-20 21:52:15,688 -   Ratio for quantile-distance-to-length below: 0.0070\n",
      "2025-08-20 21:52:15,688 -   Score: 1.0041\n"
     ]
    },
    {
     "name": "stderr",
     "output_type": "stream",
     "text": [
      "[I 2025-08-20 21:52:15,704] Trial 177 finished with value: 1.0041005360191462 and parameters: {'year_start': 2022, 'idxAfterPrediction': 4, 'LoadupSamples_time_inc_factor': 81, 'timesteps': 30, 'LSTM_learning_rate': 0.00010058528115344922, 'LSTM_dropout': 0.07372248241324658, 'is_single_feature': False}. Best is trial 31 with value: 1.0049487769776475.\n"
     ]
    },
    {
     "name": "stdout",
     "output_type": "stream",
     "text": [
      "2025-08-20 21:52:15,704 - Trial 177 finished with value: 1.0041005360191462 and parameters: {'year_start': 2022, 'idxAfterPrediction': 4, 'LoadupSamples_time_inc_factor': 81, 'timesteps': 30, 'LSTM_learning_rate': 0.00010058528115344922, 'LSTM_dropout': 0.07372248241324658, 'is_single_feature': False}. Best is trial 31 with value: 1.0049487769776475.\n",
      "2025-08-20 21:52:21,447 - Non-finite/too-large values in train y time: 36 samples.\n",
      "2025-08-20 21:52:21,447 - Removing 36 samples from training data.\n"
     ]
    },
    {
     "name": "stderr",
     "output_type": "stream",
     "text": [
      "Epochs:   0%|          | 0/2 [00:00<?, ?it/s]"
     ]
    },
    {
     "name": "stdout",
     "output_type": "stream",
     "text": [
      "2025-08-20 21:52:39,231 - Epoch 1/2 — Train RMSE: 0.7430 — Validation RMSE: 0.5787\n"
     ]
    },
    {
     "name": "stderr",
     "output_type": "stream",
     "text": [
      "Epochs:  50%|█████     | 1/2 [00:14<00:14, 14.79s/it]"
     ]
    },
    {
     "name": "stdout",
     "output_type": "stream",
     "text": [
      "2025-08-20 21:52:54,444 - Epoch 2/2 — Train RMSE: 0.4849 — Validation RMSE: 0.4184\n"
     ]
    },
    {
     "name": "stderr",
     "output_type": "stream",
     "text": [
      "Epochs: 100%|██████████| 2/2 [00:30<00:00, 15.00s/it]\n"
     ]
    },
    {
     "name": "stdout",
     "output_type": "stream",
     "text": [
      "2025-08-20 21:52:57,943 - Trial 178 with params: {'idxAfterPrediction': 3, 'timesteps': 30, 'target_option': 'last', 'LoadupSamples_time_scaling_stretch': True, 'LoadupSamples_time_inc_factor': 81, 'LSTM_units': 16, 'LSTM_num_layers': 1, 'LSTM_dropout': 0.006490735223163952, 'LSTM_recurrent_dropout': 0.001, 'LSTM_learning_rate': 0.00010254762311459465, 'LSTM_optimizer': 'adam', 'LSTM_bidirectional': True, 'LSTM_batch_size': 4096, 'LSTM_epochs': 2, 'LSTM_l1': 0.001, 'LSTM_l2': 0.001, 'LSTM_inter_dropout': 0.001, 'LSTM_input_gaussian_noise': 0.001, 'LSTM_conv1d': True, 'LSTM_conv1d_kernel_size': 3, 'LSTM_loss': 'mse', 'year_start': 2022, 'is_single_feature': False}\n",
      "2025-08-20 21:52:57,943 -   q0: 0.9980\n",
      "2025-08-20 21:52:57,943 -   Duration0: 0:00:33.554246\n",
      "2025-08-20 21:52:57,943 -   Val RMSE0 adjusted: 0.0052\n",
      "2025-08-20 21:52:57,959 -   Mean all prediction: 1.0007\n",
      "2025-08-20 21:52:57,959 -   Mean above prediction: 1.0014\n",
      "2025-08-20 21:52:57,959 -   Mean below prediction: 1.0033\n",
      "2025-08-20 21:52:57,959 -   Quantile 0.99 for distance in mask above: 4106.539999999991\n",
      "2025-08-20 21:52:57,959 -   Quantile 0.99 for distance in mask below: 4222.44\n",
      "2025-08-20 21:52:57,959 -   Ratio for quantile-distance-to-length above: 0.0062\n",
      "2025-08-20 21:52:57,959 -   Ratio for quantile-distance-to-length below: 0.0064\n",
      "2025-08-20 21:52:57,959 -   Score: 1.0005\n"
     ]
    },
    {
     "name": "stderr",
     "output_type": "stream",
     "text": [
      "[I 2025-08-20 21:52:57,990] Trial 178 finished with value: 1.0004687883178105 and parameters: {'year_start': 2022, 'idxAfterPrediction': 3, 'LoadupSamples_time_inc_factor': 81, 'timesteps': 30, 'LSTM_learning_rate': 0.00010254762311459465, 'LSTM_dropout': 0.006490735223163952, 'is_single_feature': False}. Best is trial 31 with value: 1.0049487769776475.\n"
     ]
    },
    {
     "name": "stdout",
     "output_type": "stream",
     "text": [
      "2025-08-20 21:52:57,990 - Trial 178 finished with value: 1.0004687883178105 and parameters: {'year_start': 2022, 'idxAfterPrediction': 3, 'LoadupSamples_time_inc_factor': 81, 'timesteps': 30, 'LSTM_learning_rate': 0.00010254762311459465, 'LSTM_dropout': 0.006490735223163952, 'is_single_feature': False}. Best is trial 31 with value: 1.0049487769776475.\n",
      "2025-08-20 21:53:03,732 - Non-finite/too-large values in train y time: 48 samples.\n",
      "2025-08-20 21:53:03,732 - Removing 48 samples from training data.\n"
     ]
    },
    {
     "name": "stderr",
     "output_type": "stream",
     "text": [
      "Epochs:   0%|          | 0/2 [00:00<?, ?it/s]"
     ]
    },
    {
     "name": "stdout",
     "output_type": "stream",
     "text": [
      "2025-08-20 21:53:21,652 - Epoch 1/2 — Train RMSE: 0.6116 — Validation RMSE: 0.5489\n"
     ]
    },
    {
     "name": "stderr",
     "output_type": "stream",
     "text": [
      "Epochs:  50%|█████     | 1/2 [00:14<00:14, 14.90s/it]"
     ]
    },
    {
     "name": "stdout",
     "output_type": "stream",
     "text": [
      "2025-08-20 21:53:36,897 - Epoch 2/2 — Train RMSE: 0.5201 — Validation RMSE: 0.4711\n"
     ]
    },
    {
     "name": "stderr",
     "output_type": "stream",
     "text": [
      "Epochs: 100%|██████████| 2/2 [00:30<00:00, 15.07s/it]\n"
     ]
    },
    {
     "name": "stdout",
     "output_type": "stream",
     "text": [
      "2025-08-20 21:53:40,295 - Trial 179 with params: {'idxAfterPrediction': 4, 'timesteps': 30, 'target_option': 'last', 'LoadupSamples_time_scaling_stretch': True, 'LoadupSamples_time_inc_factor': 81, 'LSTM_units': 16, 'LSTM_num_layers': 1, 'LSTM_dropout': 0.07397499026700116, 'LSTM_recurrent_dropout': 0.001, 'LSTM_learning_rate': 5.024040088400821e-05, 'LSTM_optimizer': 'adam', 'LSTM_bidirectional': True, 'LSTM_batch_size': 4096, 'LSTM_epochs': 2, 'LSTM_l1': 0.001, 'LSTM_l2': 0.001, 'LSTM_inter_dropout': 0.001, 'LSTM_input_gaussian_noise': 0.001, 'LSTM_conv1d': True, 'LSTM_conv1d_kernel_size': 3, 'LSTM_loss': 'mse', 'year_start': 2022, 'is_single_feature': False}\n",
      "2025-08-20 21:53:40,295 -   q0: 0.9980\n",
      "2025-08-20 21:53:40,295 -   Duration0: 0:00:33.575847\n",
      "2025-08-20 21:53:40,295 -   Val RMSE0 adjusted: 0.0058\n",
      "2025-08-20 21:53:40,295 -   Mean all prediction: 1.0011\n",
      "2025-08-20 21:53:40,295 -   Mean above prediction: 1.0015\n",
      "2025-08-20 21:53:40,295 -   Mean below prediction: 1.0034\n",
      "2025-08-20 21:53:40,295 -   Quantile 0.99 for distance in mask above: 3672.119999999996\n",
      "2025-08-20 21:53:40,295 -   Quantile 0.99 for distance in mask below: 4816.059999999988\n",
      "2025-08-20 21:53:40,295 -   Ratio for quantile-distance-to-length above: 0.0056\n",
      "2025-08-20 21:53:40,295 -   Ratio for quantile-distance-to-length below: 0.0073\n",
      "2025-08-20 21:53:40,295 -   Score: 1.0004\n"
     ]
    },
    {
     "name": "stderr",
     "output_type": "stream",
     "text": [
      "[I 2025-08-20 21:53:40,327] Trial 179 finished with value: 1.0003647519976033 and parameters: {'year_start': 2022, 'idxAfterPrediction': 4, 'LoadupSamples_time_inc_factor': 81, 'timesteps': 30, 'LSTM_learning_rate': 5.024040088400821e-05, 'LSTM_dropout': 0.07397499026700116, 'is_single_feature': False}. Best is trial 31 with value: 1.0049487769776475.\n"
     ]
    },
    {
     "name": "stdout",
     "output_type": "stream",
     "text": [
      "2025-08-20 21:53:40,327 - Trial 179 finished with value: 1.0003647519976033 and parameters: {'year_start': 2022, 'idxAfterPrediction': 4, 'LoadupSamples_time_inc_factor': 81, 'timesteps': 30, 'LSTM_learning_rate': 5.024040088400821e-05, 'LSTM_dropout': 0.07397499026700116, 'is_single_feature': False}. Best is trial 31 with value: 1.0049487769776475.\n",
      "2025-08-20 21:53:46,022 - Non-finite/too-large values in train y time: 36 samples.\n",
      "2025-08-20 21:53:46,022 - Removing 36 samples from training data.\n"
     ]
    },
    {
     "name": "stderr",
     "output_type": "stream",
     "text": [
      "Epochs:   0%|          | 0/2 [00:00<?, ?it/s]"
     ]
    },
    {
     "name": "stdout",
     "output_type": "stream",
     "text": [
      "2025-08-20 21:54:03,926 - Epoch 1/2 — Train RMSE: 0.5476 — Validation RMSE: 0.4262\n"
     ]
    },
    {
     "name": "stderr",
     "output_type": "stream",
     "text": [
      "Epochs:  50%|█████     | 1/2 [00:14<00:14, 14.95s/it]"
     ]
    },
    {
     "name": "stdout",
     "output_type": "stream",
     "text": [
      "2025-08-20 21:54:19,173 - Epoch 2/2 — Train RMSE: 0.4254 — Validation RMSE: 0.4125\n"
     ]
    },
    {
     "name": "stderr",
     "output_type": "stream",
     "text": [
      "Epochs: 100%|██████████| 2/2 [00:30<00:00, 15.10s/it]\n"
     ]
    },
    {
     "name": "stdout",
     "output_type": "stream",
     "text": [
      "2025-08-20 21:54:22,317 - Trial 180 with params: {'idxAfterPrediction': 3, 'timesteps': 30, 'target_option': 'last', 'LoadupSamples_time_scaling_stretch': True, 'LoadupSamples_time_inc_factor': 81, 'LSTM_units': 16, 'LSTM_num_layers': 1, 'LSTM_dropout': 0.08879246771114088, 'LSTM_recurrent_dropout': 0.001, 'LSTM_learning_rate': 0.00014177554185776294, 'LSTM_optimizer': 'adam', 'LSTM_bidirectional': True, 'LSTM_batch_size': 4096, 'LSTM_epochs': 2, 'LSTM_l1': 0.001, 'LSTM_l2': 0.001, 'LSTM_inter_dropout': 0.001, 'LSTM_input_gaussian_noise': 0.001, 'LSTM_conv1d': True, 'LSTM_conv1d_kernel_size': 3, 'LSTM_loss': 'mse', 'year_start': 2022, 'is_single_feature': False}\n",
      "2025-08-20 21:54:22,317 -   q0: 0.9980\n",
      "2025-08-20 21:54:22,317 -   Duration0: 0:00:33.368414\n",
      "2025-08-20 21:54:22,317 -   Val RMSE0 adjusted: 0.0051\n",
      "2025-08-20 21:54:22,317 -   Mean all prediction: 1.0007\n",
      "2025-08-20 21:54:22,317 -   Mean above prediction: 0.9994\n",
      "2025-08-20 21:54:22,333 -   Mean below prediction: 0.9973\n",
      "2025-08-20 21:54:22,333 -   Quantile 0.99 for distance in mask above: 6047.799999999992\n",
      "2025-08-20 21:54:22,333 -   Quantile 0.99 for distance in mask below: 3725.599999999999\n",
      "2025-08-20 21:54:22,333 -   Ratio for quantile-distance-to-length above: 0.0092\n",
      "2025-08-20 21:54:22,333 -   Ratio for quantile-distance-to-length below: 0.0057\n",
      "2025-08-20 21:54:22,333 -   Score: 0.9998\n"
     ]
    },
    {
     "name": "stderr",
     "output_type": "stream",
     "text": [
      "[I 2025-08-20 21:54:22,348] Trial 180 finished with value: 0.9997848503679985 and parameters: {'year_start': 2022, 'idxAfterPrediction': 3, 'LoadupSamples_time_inc_factor': 81, 'timesteps': 30, 'LSTM_learning_rate': 0.00014177554185776294, 'LSTM_dropout': 0.08879246771114088, 'is_single_feature': False}. Best is trial 31 with value: 1.0049487769776475.\n"
     ]
    },
    {
     "name": "stdout",
     "output_type": "stream",
     "text": [
      "2025-08-20 21:54:22,348 - Trial 180 finished with value: 0.9997848503679985 and parameters: {'year_start': 2022, 'idxAfterPrediction': 3, 'LoadupSamples_time_inc_factor': 81, 'timesteps': 30, 'LSTM_learning_rate': 0.00014177554185776294, 'LSTM_dropout': 0.08879246771114088, 'is_single_feature': False}. Best is trial 31 with value: 1.0049487769776475.\n",
      "2025-08-20 21:54:28,043 - Non-finite/too-large values in train y time: 48 samples.\n",
      "2025-08-20 21:54:28,059 - Removing 48 samples from training data.\n"
     ]
    },
    {
     "name": "stderr",
     "output_type": "stream",
     "text": [
      "Epochs:   0%|          | 0/2 [00:00<?, ?it/s]"
     ]
    },
    {
     "name": "stdout",
     "output_type": "stream",
     "text": [
      "2025-08-20 21:54:46,017 - Epoch 1/2 — Train RMSE: 0.5257 — Validation RMSE: 0.4714\n"
     ]
    },
    {
     "name": "stderr",
     "output_type": "stream",
     "text": [
      "Epochs:  50%|█████     | 1/2 [00:14<00:14, 14.97s/it]"
     ]
    },
    {
     "name": "stdout",
     "output_type": "stream",
     "text": [
      "2025-08-20 21:55:01,275 - Epoch 2/2 — Train RMSE: 0.4566 — Validation RMSE: 0.4319\n"
     ]
    },
    {
     "name": "stderr",
     "output_type": "stream",
     "text": [
      "Epochs: 100%|██████████| 2/2 [00:30<00:00, 15.11s/it]\n"
     ]
    },
    {
     "name": "stdout",
     "output_type": "stream",
     "text": [
      "2025-08-20 21:55:05,140 - Trial 181 with params: {'idxAfterPrediction': 4, 'timesteps': 30, 'target_option': 'last', 'LoadupSamples_time_scaling_stretch': True, 'LoadupSamples_time_inc_factor': 81, 'LSTM_units': 16, 'LSTM_num_layers': 1, 'LSTM_dropout': 0.06877799338488387, 'LSTM_recurrent_dropout': 0.001, 'LSTM_learning_rate': 8.44015870176166e-05, 'LSTM_optimizer': 'adam', 'LSTM_bidirectional': True, 'LSTM_batch_size': 4096, 'LSTM_epochs': 2, 'LSTM_l1': 0.001, 'LSTM_l2': 0.001, 'LSTM_inter_dropout': 0.001, 'LSTM_input_gaussian_noise': 0.001, 'LSTM_conv1d': True, 'LSTM_conv1d_kernel_size': 3, 'LSTM_loss': 'mse', 'year_start': 2022, 'is_single_feature': False}\n",
      "2025-08-20 21:55:05,140 -   q0: 0.9980\n",
      "2025-08-20 21:55:05,140 -   Duration0: 0:00:34.125534\n",
      "2025-08-20 21:55:05,140 -   Val RMSE0 adjusted: 0.0053\n",
      "2025-08-20 21:55:05,140 -   Mean all prediction: 1.0011\n",
      "2025-08-20 21:55:05,140 -   Mean above prediction: 1.0030\n",
      "2025-08-20 21:55:05,140 -   Mean below prediction: 1.0055\n",
      "2025-08-20 21:55:05,140 -   Quantile 0.99 for distance in mask above: 4446.399999999976\n",
      "2025-08-20 21:55:05,140 -   Quantile 0.99 for distance in mask below: 5058.319999999974\n",
      "2025-08-20 21:55:05,140 -   Ratio for quantile-distance-to-length above: 0.0068\n",
      "2025-08-20 21:55:05,140 -   Ratio for quantile-distance-to-length below: 0.0077\n",
      "2025-08-20 21:55:05,140 -   Score: 1.0007\n"
     ]
    },
    {
     "name": "stderr",
     "output_type": "stream",
     "text": [
      "[I 2025-08-20 21:55:05,172] Trial 181 finished with value: 1.0007493612050318 and parameters: {'year_start': 2022, 'idxAfterPrediction': 4, 'LoadupSamples_time_inc_factor': 81, 'timesteps': 30, 'LSTM_learning_rate': 8.44015870176166e-05, 'LSTM_dropout': 0.06877799338488387, 'is_single_feature': False}. Best is trial 31 with value: 1.0049487769776475.\n"
     ]
    },
    {
     "name": "stdout",
     "output_type": "stream",
     "text": [
      "2025-08-20 21:55:05,172 - Trial 181 finished with value: 1.0007493612050318 and parameters: {'year_start': 2022, 'idxAfterPrediction': 4, 'LoadupSamples_time_inc_factor': 81, 'timesteps': 30, 'LSTM_learning_rate': 8.44015870176166e-05, 'LSTM_dropout': 0.06877799338488387, 'is_single_feature': False}. Best is trial 31 with value: 1.0049487769776475.\n",
      "2025-08-20 21:55:10,896 - Non-finite/too-large values in train y time: 48 samples.\n",
      "2025-08-20 21:55:10,911 - Removing 48 samples from training data.\n"
     ]
    },
    {
     "name": "stderr",
     "output_type": "stream",
     "text": [
      "Epochs:   0%|          | 0/2 [00:00<?, ?it/s]"
     ]
    },
    {
     "name": "stdout",
     "output_type": "stream",
     "text": [
      "2025-08-20 21:55:29,242 - Epoch 1/2 — Train RMSE: 0.4489 — Validation RMSE: 0.4213\n"
     ]
    },
    {
     "name": "stderr",
     "output_type": "stream",
     "text": [
      "Epochs:  50%|█████     | 1/2 [00:14<00:14, 14.97s/it]"
     ]
    },
    {
     "name": "stdout",
     "output_type": "stream",
     "text": [
      "2025-08-20 21:55:44,419 - Epoch 2/2 — Train RMSE: 0.4293 — Validation RMSE: 0.4192\n"
     ]
    },
    {
     "name": "stderr",
     "output_type": "stream",
     "text": [
      "Epochs: 100%|██████████| 2/2 [00:30<00:00, 15.07s/it]\n"
     ]
    },
    {
     "name": "stdout",
     "output_type": "stream",
     "text": [
      "2025-08-20 21:55:47,494 - Trial 182 with params: {'idxAfterPrediction': 4, 'timesteps': 35, 'target_option': 'last', 'LoadupSamples_time_scaling_stretch': True, 'LoadupSamples_time_inc_factor': 76, 'LSTM_units': 16, 'LSTM_num_layers': 1, 'LSTM_dropout': 0.007810928833319293, 'LSTM_recurrent_dropout': 0.001, 'LSTM_learning_rate': 0.00010889611920416455, 'LSTM_optimizer': 'adam', 'LSTM_bidirectional': True, 'LSTM_batch_size': 4096, 'LSTM_epochs': 2, 'LSTM_l1': 0.001, 'LSTM_l2': 0.001, 'LSTM_inter_dropout': 0.001, 'LSTM_input_gaussian_noise': 0.001, 'LSTM_conv1d': True, 'LSTM_conv1d_kernel_size': 3, 'LSTM_loss': 'mse', 'year_start': 2022, 'is_single_feature': False}\n",
      "2025-08-20 21:55:47,494 -   q0: 0.9980\n",
      "2025-08-20 21:55:47,494 -   Duration0: 0:00:33.266682\n",
      "2025-08-20 21:55:47,494 -   Val RMSE0 adjusted: 0.0055\n",
      "2025-08-20 21:55:47,494 -   Mean all prediction: 1.0011\n",
      "2025-08-20 21:55:47,494 -   Mean above prediction: 1.0010\n",
      "2025-08-20 21:55:47,494 -   Mean below prediction: 0.9957\n",
      "2025-08-20 21:55:47,494 -   Quantile 0.99 for distance in mask above: 4092.1799999999985\n",
      "2025-08-20 21:55:47,494 -   Quantile 0.99 for distance in mask below: 4501.459999999984\n",
      "2025-08-20 21:55:47,494 -   Ratio for quantile-distance-to-length above: 0.0062\n",
      "2025-08-20 21:55:47,494 -   Ratio for quantile-distance-to-length below: 0.0068\n",
      "2025-08-20 21:55:47,494 -   Score: 1.0003\n"
     ]
    },
    {
     "name": "stderr",
     "output_type": "stream",
     "text": [
      "[I 2025-08-20 21:55:47,526] Trial 182 finished with value: 1.0002596979719498 and parameters: {'year_start': 2022, 'idxAfterPrediction': 4, 'LoadupSamples_time_inc_factor': 76, 'timesteps': 35, 'LSTM_learning_rate': 0.00010889611920416455, 'LSTM_dropout': 0.007810928833319293, 'is_single_feature': False}. Best is trial 31 with value: 1.0049487769776475.\n"
     ]
    },
    {
     "name": "stdout",
     "output_type": "stream",
     "text": [
      "2025-08-20 21:55:47,526 - Trial 182 finished with value: 1.0002596979719498 and parameters: {'year_start': 2022, 'idxAfterPrediction': 4, 'LoadupSamples_time_inc_factor': 76, 'timesteps': 35, 'LSTM_learning_rate': 0.00010889611920416455, 'LSTM_dropout': 0.007810928833319293, 'is_single_feature': False}. Best is trial 31 with value: 1.0049487769776475.\n",
      "2025-08-20 21:55:53,297 - Non-finite/too-large values in train y time: 48 samples.\n",
      "2025-08-20 21:55:53,297 - Removing 48 samples from training data.\n"
     ]
    },
    {
     "name": "stderr",
     "output_type": "stream",
     "text": [
      "Epochs:   0%|          | 0/2 [00:00<?, ?it/s]"
     ]
    },
    {
     "name": "stdout",
     "output_type": "stream",
     "text": [
      "2025-08-20 21:56:12,247 - Epoch 1/2 — Train RMSE: 0.4824 — Validation RMSE: 0.4136\n"
     ]
    },
    {
     "name": "stderr",
     "output_type": "stream",
     "text": [
      "Epochs:  50%|█████     | 1/2 [00:14<00:14, 14.79s/it]"
     ]
    },
    {
     "name": "stdout",
     "output_type": "stream",
     "text": [
      "2025-08-20 21:56:27,181 - Epoch 2/2 — Train RMSE: 0.3842 — Validation RMSE: 0.3299\n"
     ]
    },
    {
     "name": "stderr",
     "output_type": "stream",
     "text": [
      "Epochs: 100%|██████████| 2/2 [00:29<00:00, 14.86s/it]\n"
     ]
    },
    {
     "name": "stdout",
     "output_type": "stream",
     "text": [
      "2025-08-20 21:56:30,643 - Trial 183 with params: {'idxAfterPrediction': 4, 'timesteps': 45, 'target_option': 'last', 'LoadupSamples_time_scaling_stretch': True, 'LoadupSamples_time_inc_factor': 21, 'LSTM_units': 16, 'LSTM_num_layers': 1, 'LSTM_dropout': 0.07959909423738408, 'LSTM_recurrent_dropout': 0.001, 'LSTM_learning_rate': 6.268330997145726e-05, 'LSTM_optimizer': 'adam', 'LSTM_bidirectional': True, 'LSTM_batch_size': 4096, 'LSTM_epochs': 2, 'LSTM_l1': 0.001, 'LSTM_l2': 0.001, 'LSTM_inter_dropout': 0.001, 'LSTM_input_gaussian_noise': 0.001, 'LSTM_conv1d': True, 'LSTM_conv1d_kernel_size': 3, 'LSTM_loss': 'mse', 'year_start': 2022, 'is_single_feature': False}\n",
      "2025-08-20 21:56:30,643 -   q0: 0.9980\n",
      "2025-08-20 21:56:30,643 -   Duration0: 0:00:33.235386\n",
      "2025-08-20 21:56:30,643 -   Val RMSE0 adjusted: 0.0157\n",
      "2025-08-20 21:56:30,643 -   Mean all prediction: 1.0011\n",
      "2025-08-20 21:56:30,643 -   Mean above prediction: 1.0048\n",
      "2025-08-20 21:56:30,659 -   Mean below prediction: 0.9964\n",
      "2025-08-20 21:56:30,659 -   Quantile 0.99 for distance in mask above: 5825.57999999996\n",
      "2025-08-20 21:56:30,659 -   Quantile 0.99 for distance in mask below: 3574.8999999999987\n",
      "2025-08-20 21:56:30,659 -   Ratio for quantile-distance-to-length above: 0.0089\n",
      "2025-08-20 21:56:30,659 -   Ratio for quantile-distance-to-length below: 0.0054\n",
      "2025-08-20 21:56:30,659 -   Score: 1.0012\n"
     ]
    },
    {
     "name": "stderr",
     "output_type": "stream",
     "text": [
      "[I 2025-08-20 21:56:30,691] Trial 183 finished with value: 1.0012058605209015 and parameters: {'year_start': 2022, 'idxAfterPrediction': 4, 'LoadupSamples_time_inc_factor': 21, 'timesteps': 45, 'LSTM_learning_rate': 6.268330997145726e-05, 'LSTM_dropout': 0.07959909423738408, 'is_single_feature': False}. Best is trial 31 with value: 1.0049487769776475.\n"
     ]
    },
    {
     "name": "stdout",
     "output_type": "stream",
     "text": [
      "2025-08-20 21:56:30,691 - Trial 183 finished with value: 1.0012058605209015 and parameters: {'year_start': 2022, 'idxAfterPrediction': 4, 'LoadupSamples_time_inc_factor': 21, 'timesteps': 45, 'LSTM_learning_rate': 6.268330997145726e-05, 'LSTM_dropout': 0.07959909423738408, 'is_single_feature': False}. Best is trial 31 with value: 1.0049487769776475.\n",
      "2025-08-20 21:56:41,480 - Non-finite/too-large values in train y time: 48 samples.\n",
      "2025-08-20 21:56:41,480 - Removing 48 samples from training data.\n"
     ]
    },
    {
     "name": "stderr",
     "output_type": "stream",
     "text": [
      "Epochs:   0%|          | 0/2 [00:00<?, ?it/s]"
     ]
    },
    {
     "name": "stdout",
     "output_type": "stream",
     "text": [
      "2025-08-20 21:57:26,287 - Epoch 1/2 — Train RMSE: 0.4786 — Validation RMSE: 0.4091\n"
     ]
    },
    {
     "name": "stderr",
     "output_type": "stream",
     "text": [
      "Epochs:  50%|█████     | 1/2 [00:30<00:30, 30.23s/it]"
     ]
    },
    {
     "name": "stdout",
     "output_type": "stream",
     "text": [
      "2025-08-20 21:57:56,745 - Epoch 2/2 — Train RMSE: 0.4152 — Validation RMSE: 0.4079\n"
     ]
    },
    {
     "name": "stderr",
     "output_type": "stream",
     "text": [
      "Epochs: 100%|██████████| 2/2 [01:00<00:00, 30.34s/it]\n"
     ]
    },
    {
     "name": "stdout",
     "output_type": "stream",
     "text": [
      "2025-08-20 21:58:00,775 - Trial 184 with params: {'idxAfterPrediction': 4, 'timesteps': 90, 'target_option': 'last', 'LoadupSamples_time_scaling_stretch': True, 'LoadupSamples_time_inc_factor': 66, 'LSTM_units': 16, 'LSTM_num_layers': 1, 'LSTM_dropout': 0.059923635785631826, 'LSTM_recurrent_dropout': 0.001, 'LSTM_learning_rate': 8.701975666110731e-05, 'LSTM_optimizer': 'adam', 'LSTM_bidirectional': True, 'LSTM_batch_size': 4096, 'LSTM_epochs': 2, 'LSTM_l1': 0.001, 'LSTM_l2': 0.001, 'LSTM_inter_dropout': 0.001, 'LSTM_input_gaussian_noise': 0.001, 'LSTM_conv1d': True, 'LSTM_conv1d_kernel_size': 3, 'LSTM_loss': 'mse', 'year_start': 2019, 'is_single_feature': False}\n",
      "2025-08-20 21:58:00,775 -   q0: 0.9980\n",
      "2025-08-20 21:58:00,775 -   Duration0: 0:01:04.908369\n",
      "2025-08-20 21:58:00,775 -   Val RMSE0 adjusted: 0.0062\n",
      "2025-08-20 21:58:00,775 -   Mean all prediction: 1.0011\n",
      "2025-08-20 21:58:00,775 -   Mean above prediction: 1.0187\n",
      "2025-08-20 21:58:00,775 -   Mean below prediction: 1.0012\n",
      "2025-08-20 21:58:00,791 -   Quantile 0.99 for distance in mask above: 4709.319999999983\n",
      "2025-08-20 21:58:00,791 -   Quantile 0.99 for distance in mask below: 4932.83999999998\n",
      "2025-08-20 21:58:00,791 -   Ratio for quantile-distance-to-length above: 0.0072\n",
      "2025-08-20 21:58:00,791 -   Ratio for quantile-distance-to-length below: 0.0075\n",
      "2025-08-20 21:58:00,791 -   Score: 1.0046\n"
     ]
    },
    {
     "name": "stderr",
     "output_type": "stream",
     "text": [
      "[I 2025-08-20 21:58:00,886] Trial 184 finished with value: 1.0046327968342001 and parameters: {'year_start': 2019, 'idxAfterPrediction': 4, 'LoadupSamples_time_inc_factor': 66, 'timesteps': 90, 'LSTM_learning_rate': 8.701975666110731e-05, 'LSTM_dropout': 0.059923635785631826, 'is_single_feature': False}. Best is trial 31 with value: 1.0049487769776475.\n"
     ]
    },
    {
     "name": "stdout",
     "output_type": "stream",
     "text": [
      "2025-08-20 21:58:00,886 - Trial 184 finished with value: 1.0046327968342001 and parameters: {'year_start': 2019, 'idxAfterPrediction': 4, 'LoadupSamples_time_inc_factor': 66, 'timesteps': 90, 'LSTM_learning_rate': 8.701975666110731e-05, 'LSTM_dropout': 0.059923635785631826, 'is_single_feature': False}. Best is trial 31 with value: 1.0049487769776475.\n",
      "2025-08-20 21:58:11,647 - Non-finite/too-large values in train y time: 48 samples.\n",
      "2025-08-20 21:58:11,647 - Removing 48 samples from training data.\n"
     ]
    },
    {
     "name": "stderr",
     "output_type": "stream",
     "text": [
      "Epochs:   0%|          | 0/2 [00:00<?, ?it/s]"
     ]
    },
    {
     "name": "stdout",
     "output_type": "stream",
     "text": [
      "2025-08-20 21:58:56,391 - Epoch 1/2 — Train RMSE: 0.4905 — Validation RMSE: 0.4082\n"
     ]
    },
    {
     "name": "stderr",
     "output_type": "stream",
     "text": [
      "Epochs:  50%|█████     | 1/2 [00:30<00:30, 30.06s/it]"
     ]
    },
    {
     "name": "stdout",
     "output_type": "stream",
     "text": [
      "2025-08-20 21:59:26,655 - Epoch 2/2 — Train RMSE: 0.4152 — Validation RMSE: 0.4080\n"
     ]
    },
    {
     "name": "stderr",
     "output_type": "stream",
     "text": [
      "Epochs: 100%|██████████| 2/2 [01:00<00:00, 30.17s/it]\n"
     ]
    },
    {
     "name": "stdout",
     "output_type": "stream",
     "text": [
      "2025-08-20 21:59:30,830 - Trial 185 with params: {'idxAfterPrediction': 4, 'timesteps': 90, 'target_option': 'last', 'LoadupSamples_time_scaling_stretch': True, 'LoadupSamples_time_inc_factor': 66, 'LSTM_units': 16, 'LSTM_num_layers': 1, 'LSTM_dropout': 0.05299412801100932, 'LSTM_recurrent_dropout': 0.001, 'LSTM_learning_rate': 0.00012290960511615148, 'LSTM_optimizer': 'adam', 'LSTM_bidirectional': True, 'LSTM_batch_size': 4096, 'LSTM_epochs': 2, 'LSTM_l1': 0.001, 'LSTM_l2': 0.001, 'LSTM_inter_dropout': 0.001, 'LSTM_input_gaussian_noise': 0.001, 'LSTM_conv1d': True, 'LSTM_conv1d_kernel_size': 3, 'LSTM_loss': 'mse', 'year_start': 2019, 'is_single_feature': False}\n",
      "2025-08-20 21:59:30,830 -   q0: 0.9980\n",
      "2025-08-20 21:59:30,830 -   Duration0: 0:01:04.780068\n",
      "2025-08-20 21:59:30,830 -   Val RMSE0 adjusted: 0.0062\n",
      "2025-08-20 21:59:30,830 -   Mean all prediction: 1.0011\n",
      "2025-08-20 21:59:30,830 -   Mean above prediction: 1.0012\n",
      "2025-08-20 21:59:30,830 -   Mean below prediction: 0.9939\n",
      "2025-08-20 21:59:30,830 -   Quantile 0.99 for distance in mask above: 3516.2599999999957\n",
      "2025-08-20 21:59:30,830 -   Quantile 0.99 for distance in mask below: 4547.1799999999985\n",
      "2025-08-20 21:59:30,830 -   Ratio for quantile-distance-to-length above: 0.0053\n",
      "2025-08-20 21:59:30,830 -   Ratio for quantile-distance-to-length below: 0.0069\n",
      "2025-08-20 21:59:30,830 -   Score: 1.0003\n"
     ]
    },
    {
     "name": "stderr",
     "output_type": "stream",
     "text": [
      "[I 2025-08-20 21:59:30,915] Trial 185 finished with value: 1.0002941164006338 and parameters: {'year_start': 2019, 'idxAfterPrediction': 4, 'LoadupSamples_time_inc_factor': 66, 'timesteps': 90, 'LSTM_learning_rate': 0.00012290960511615148, 'LSTM_dropout': 0.05299412801100932, 'is_single_feature': False}. Best is trial 31 with value: 1.0049487769776475.\n"
     ]
    },
    {
     "name": "stdout",
     "output_type": "stream",
     "text": [
      "2025-08-20 21:59:30,915 - Trial 185 finished with value: 1.0002941164006338 and parameters: {'year_start': 2019, 'idxAfterPrediction': 4, 'LoadupSamples_time_inc_factor': 66, 'timesteps': 90, 'LSTM_learning_rate': 0.00012290960511615148, 'LSTM_dropout': 0.05299412801100932, 'is_single_feature': False}. Best is trial 31 with value: 1.0049487769776475.\n",
      "2025-08-20 21:59:41,616 - Non-finite/too-large values in train y time: 36 samples.\n",
      "2025-08-20 21:59:41,616 - Removing 36 samples from training data.\n"
     ]
    },
    {
     "name": "stderr",
     "output_type": "stream",
     "text": [
      "Epochs:   0%|          | 0/2 [00:00<?, ?it/s]"
     ]
    },
    {
     "name": "stdout",
     "output_type": "stream",
     "text": [
      "2025-08-20 22:00:26,428 - Epoch 1/2 — Train RMSE: 0.5128 — Validation RMSE: 0.3978\n"
     ]
    },
    {
     "name": "stderr",
     "output_type": "stream",
     "text": [
      "Epochs:  50%|█████     | 1/2 [00:30<00:30, 30.32s/it]"
     ]
    },
    {
     "name": "stdout",
     "output_type": "stream",
     "text": [
      "2025-08-20 22:00:56,936 - Epoch 2/2 — Train RMSE: 0.4035 — Validation RMSE: 0.3944\n"
     ]
    },
    {
     "name": "stderr",
     "output_type": "stream",
     "text": [
      "Epochs: 100%|██████████| 2/2 [01:00<00:00, 30.41s/it]\n"
     ]
    },
    {
     "name": "stdout",
     "output_type": "stream",
     "text": [
      "2025-08-20 22:01:00,661 - Trial 186 with params: {'idxAfterPrediction': 3, 'timesteps': 90, 'target_option': 'last', 'LoadupSamples_time_scaling_stretch': True, 'LoadupSamples_time_inc_factor': 66, 'LSTM_units': 16, 'LSTM_num_layers': 1, 'LSTM_dropout': 0.059693138129603925, 'LSTM_recurrent_dropout': 0.001, 'LSTM_learning_rate': 7.417081905205745e-05, 'LSTM_optimizer': 'adam', 'LSTM_bidirectional': True, 'LSTM_batch_size': 4096, 'LSTM_epochs': 2, 'LSTM_l1': 0.001, 'LSTM_l2': 0.001, 'LSTM_inter_dropout': 0.001, 'LSTM_input_gaussian_noise': 0.001, 'LSTM_conv1d': True, 'LSTM_conv1d_kernel_size': 3, 'LSTM_loss': 'mse', 'year_start': 2019, 'is_single_feature': False}\n",
      "2025-08-20 22:01:00,661 -   q0: 0.9980\n",
      "2025-08-20 22:01:00,661 -   Duration0: 0:01:04.772198\n",
      "2025-08-20 22:01:00,661 -   Val RMSE0 adjusted: 0.0060\n",
      "2025-08-20 22:01:00,661 -   Mean all prediction: 1.0007\n",
      "2025-08-20 22:01:00,661 -   Mean above prediction: 1.0120\n",
      "2025-08-20 22:01:00,661 -   Mean below prediction: 1.0052\n",
      "2025-08-20 22:01:00,661 -   Quantile 0.99 for distance in mask above: 5084.079999999982\n",
      "2025-08-20 22:01:00,677 -   Quantile 0.99 for distance in mask below: 3900.0599999999777\n",
      "2025-08-20 22:01:00,677 -   Ratio for quantile-distance-to-length above: 0.0077\n",
      "2025-08-20 22:01:00,677 -   Ratio for quantile-distance-to-length below: 0.0059\n",
      "2025-08-20 22:01:00,677 -   Score: 1.0040\n"
     ]
    },
    {
     "name": "stderr",
     "output_type": "stream",
     "text": [
      "[I 2025-08-20 22:01:00,748] Trial 186 finished with value: 1.0039788928563549 and parameters: {'year_start': 2019, 'idxAfterPrediction': 3, 'LoadupSamples_time_inc_factor': 66, 'timesteps': 90, 'LSTM_learning_rate': 7.417081905205745e-05, 'LSTM_dropout': 0.059693138129603925, 'is_single_feature': False}. Best is trial 31 with value: 1.0049487769776475.\n"
     ]
    },
    {
     "name": "stdout",
     "output_type": "stream",
     "text": [
      "2025-08-20 22:01:00,748 - Trial 186 finished with value: 1.0039788928563549 and parameters: {'year_start': 2019, 'idxAfterPrediction': 3, 'LoadupSamples_time_inc_factor': 66, 'timesteps': 90, 'LSTM_learning_rate': 7.417081905205745e-05, 'LSTM_dropout': 0.059693138129603925, 'is_single_feature': False}. Best is trial 31 with value: 1.0049487769776475.\n",
      "2025-08-20 22:01:11,475 - Non-finite/too-large values in train y time: 36 samples.\n",
      "2025-08-20 22:01:11,475 - Removing 36 samples from training data.\n"
     ]
    },
    {
     "name": "stderr",
     "output_type": "stream",
     "text": [
      "Epochs:   0%|          | 0/2 [00:00<?, ?it/s]"
     ]
    },
    {
     "name": "stdout",
     "output_type": "stream",
     "text": [
      "2025-08-20 22:01:56,537 - Epoch 1/2 — Train RMSE: 0.4550 — Validation RMSE: 0.4018\n"
     ]
    },
    {
     "name": "stderr",
     "output_type": "stream",
     "text": [
      "Epochs:  50%|█████     | 1/2 [00:30<00:30, 30.45s/it]"
     ]
    },
    {
     "name": "stdout",
     "output_type": "stream",
     "text": [
      "2025-08-20 22:02:26,726 - Epoch 2/2 — Train RMSE: 0.4088 — Validation RMSE: 0.4006\n"
     ]
    },
    {
     "name": "stderr",
     "output_type": "stream",
     "text": [
      "Epochs: 100%|██████████| 2/2 [01:00<00:00, 30.32s/it]\n"
     ]
    },
    {
     "name": "stdout",
     "output_type": "stream",
     "text": [
      "2025-08-20 22:02:30,467 - Trial 187 with params: {'idxAfterPrediction': 3, 'timesteps': 90, 'target_option': 'last', 'LoadupSamples_time_scaling_stretch': True, 'LoadupSamples_time_inc_factor': 71, 'LSTM_units': 16, 'LSTM_num_layers': 1, 'LSTM_dropout': 0.06049058311865864, 'LSTM_recurrent_dropout': 0.001, 'LSTM_learning_rate': 7.371271841300488e-05, 'LSTM_optimizer': 'adam', 'LSTM_bidirectional': True, 'LSTM_batch_size': 4096, 'LSTM_epochs': 2, 'LSTM_l1': 0.001, 'LSTM_l2': 0.001, 'LSTM_inter_dropout': 0.001, 'LSTM_input_gaussian_noise': 0.001, 'LSTM_conv1d': True, 'LSTM_conv1d_kernel_size': 3, 'LSTM_loss': 'mse', 'year_start': 2019, 'is_single_feature': False}\n",
      "2025-08-20 22:02:30,467 -   q0: 0.9980\n",
      "2025-08-20 22:02:30,467 -   Duration0: 0:01:04.659752\n",
      "2025-08-20 22:02:30,483 -   Val RMSE0 adjusted: 0.0056\n",
      "2025-08-20 22:02:30,483 -   Mean all prediction: 1.0007\n",
      "2025-08-20 22:02:30,483 -   Mean above prediction: 1.0087\n",
      "2025-08-20 22:02:30,483 -   Mean below prediction: 1.0042\n",
      "2025-08-20 22:02:30,483 -   Quantile 0.99 for distance in mask above: 4894.039999999974\n",
      "2025-08-20 22:02:30,483 -   Quantile 0.99 for distance in mask below: 4080.0999999999967\n",
      "2025-08-20 22:02:30,483 -   Ratio for quantile-distance-to-length above: 0.0074\n",
      "2025-08-20 22:02:30,483 -   Ratio for quantile-distance-to-length below: 0.0062\n",
      "2025-08-20 22:02:30,483 -   Score: 1.0029\n"
     ]
    },
    {
     "name": "stderr",
     "output_type": "stream",
     "text": [
      "[I 2025-08-20 22:02:30,561] Trial 187 finished with value: 1.0028766858611962 and parameters: {'year_start': 2019, 'idxAfterPrediction': 3, 'LoadupSamples_time_inc_factor': 71, 'timesteps': 90, 'LSTM_learning_rate': 7.371271841300488e-05, 'LSTM_dropout': 0.06049058311865864, 'is_single_feature': False}. Best is trial 31 with value: 1.0049487769776475.\n"
     ]
    },
    {
     "name": "stdout",
     "output_type": "stream",
     "text": [
      "2025-08-20 22:02:30,561 - Trial 187 finished with value: 1.0028766858611962 and parameters: {'year_start': 2019, 'idxAfterPrediction': 3, 'LoadupSamples_time_inc_factor': 71, 'timesteps': 90, 'LSTM_learning_rate': 7.371271841300488e-05, 'LSTM_dropout': 0.06049058311865864, 'is_single_feature': False}. Best is trial 31 with value: 1.0049487769776475.\n",
      "2025-08-20 22:02:41,249 - Non-finite/too-large values in train y time: 36 samples.\n",
      "2025-08-20 22:02:41,265 - Removing 36 samples from training data.\n"
     ]
    },
    {
     "name": "stderr",
     "output_type": "stream",
     "text": [
      "Epochs:   0%|          | 0/2 [00:00<?, ?it/s]"
     ]
    },
    {
     "name": "stdout",
     "output_type": "stream",
     "text": [
      "2025-08-20 22:03:26,512 - Epoch 1/2 — Train RMSE: 0.5042 — Validation RMSE: 0.3946\n"
     ]
    },
    {
     "name": "stderr",
     "output_type": "stream",
     "text": [
      "Epochs:  50%|█████     | 1/2 [00:30<00:30, 30.51s/it]"
     ]
    },
    {
     "name": "stdout",
     "output_type": "stream",
     "text": [
      "2025-08-20 22:03:56,799 - Epoch 2/2 — Train RMSE: 0.4028 — Validation RMSE: 0.3943\n"
     ]
    },
    {
     "name": "stderr",
     "output_type": "stream",
     "text": [
      "Epochs: 100%|██████████| 2/2 [01:00<00:00, 30.40s/it]\n"
     ]
    },
    {
     "name": "stdout",
     "output_type": "stream",
     "text": [
      "2025-08-20 22:04:00,541 - Trial 188 with params: {'idxAfterPrediction': 3, 'timesteps': 90, 'target_option': 'last', 'LoadupSamples_time_scaling_stretch': True, 'LoadupSamples_time_inc_factor': 66, 'LSTM_units': 16, 'LSTM_num_layers': 1, 'LSTM_dropout': 0.04673482650076254, 'LSTM_recurrent_dropout': 0.001, 'LSTM_learning_rate': 0.00010168696748652301, 'LSTM_optimizer': 'adam', 'LSTM_bidirectional': True, 'LSTM_batch_size': 4096, 'LSTM_epochs': 2, 'LSTM_l1': 0.001, 'LSTM_l2': 0.001, 'LSTM_inter_dropout': 0.001, 'LSTM_input_gaussian_noise': 0.001, 'LSTM_conv1d': True, 'LSTM_conv1d_kernel_size': 3, 'LSTM_loss': 'mse', 'year_start': 2019, 'is_single_feature': False}\n",
      "2025-08-20 22:04:00,541 -   q0: 0.9980\n",
      "2025-08-20 22:04:00,541 -   Duration0: 0:01:04.808811\n",
      "2025-08-20 22:04:00,541 -   Val RMSE0 adjusted: 0.0060\n",
      "2025-08-20 22:04:00,541 -   Mean all prediction: 1.0007\n",
      "2025-08-20 22:04:00,541 -   Mean above prediction: 0.9980\n",
      "2025-08-20 22:04:00,541 -   Mean below prediction: 1.0011\n",
      "2025-08-20 22:04:00,541 -   Quantile 0.99 for distance in mask above: 4330.659999999997\n",
      "2025-08-20 22:04:00,541 -   Quantile 0.99 for distance in mask below: 3526.8999999999887\n",
      "2025-08-20 22:04:00,541 -   Ratio for quantile-distance-to-length above: 0.0066\n",
      "2025-08-20 22:04:00,541 -   Ratio for quantile-distance-to-length below: 0.0054\n",
      "2025-08-20 22:04:00,541 -   Score: 0.9993\n"
     ]
    },
    {
     "name": "stderr",
     "output_type": "stream",
     "text": [
      "[I 2025-08-20 22:04:00,636] Trial 188 finished with value: 0.999318785507784 and parameters: {'year_start': 2019, 'idxAfterPrediction': 3, 'LoadupSamples_time_inc_factor': 66, 'timesteps': 90, 'LSTM_learning_rate': 0.00010168696748652301, 'LSTM_dropout': 0.04673482650076254, 'is_single_feature': False}. Best is trial 31 with value: 1.0049487769776475.\n"
     ]
    },
    {
     "name": "stdout",
     "output_type": "stream",
     "text": [
      "2025-08-20 22:04:00,636 - Trial 188 finished with value: 0.999318785507784 and parameters: {'year_start': 2019, 'idxAfterPrediction': 3, 'LoadupSamples_time_inc_factor': 66, 'timesteps': 90, 'LSTM_learning_rate': 0.00010168696748652301, 'LSTM_dropout': 0.04673482650076254, 'is_single_feature': False}. Best is trial 31 with value: 1.0049487769776475.\n",
      "2025-08-20 22:04:11,326 - Non-finite/too-large values in train y time: 36 samples.\n",
      "2025-08-20 22:04:11,326 - Removing 36 samples from training data.\n"
     ]
    },
    {
     "name": "stderr",
     "output_type": "stream",
     "text": [
      "Epochs:   0%|          | 0/2 [00:00<?, ?it/s]"
     ]
    },
    {
     "name": "stdout",
     "output_type": "stream",
     "text": [
      "2025-08-20 22:04:56,502 - Epoch 1/2 — Train RMSE: 0.5539 — Validation RMSE: 0.3992\n"
     ]
    },
    {
     "name": "stderr",
     "output_type": "stream",
     "text": [
      "Epochs:  50%|█████     | 1/2 [00:30<00:30, 30.50s/it]"
     ]
    },
    {
     "name": "stdout",
     "output_type": "stream",
     "text": [
      "2025-08-20 22:05:26,684 - Epoch 2/2 — Train RMSE: 0.4038 — Validation RMSE: 0.3945\n"
     ]
    },
    {
     "name": "stderr",
     "output_type": "stream",
     "text": [
      "Epochs: 100%|██████████| 2/2 [01:00<00:00, 30.34s/it]\n"
     ]
    },
    {
     "name": "stdout",
     "output_type": "stream",
     "text": [
      "2025-08-20 22:05:30,424 - Trial 189 with params: {'idxAfterPrediction': 3, 'timesteps': 90, 'target_option': 'last', 'LoadupSamples_time_scaling_stretch': True, 'LoadupSamples_time_inc_factor': 66, 'LSTM_units': 16, 'LSTM_num_layers': 1, 'LSTM_dropout': 0.004854513435254509, 'LSTM_recurrent_dropout': 0.001, 'LSTM_learning_rate': 8.59794098203063e-05, 'LSTM_optimizer': 'adam', 'LSTM_bidirectional': True, 'LSTM_batch_size': 4096, 'LSTM_epochs': 2, 'LSTM_l1': 0.001, 'LSTM_l2': 0.001, 'LSTM_inter_dropout': 0.001, 'LSTM_input_gaussian_noise': 0.001, 'LSTM_conv1d': True, 'LSTM_conv1d_kernel_size': 3, 'LSTM_loss': 'mse', 'year_start': 2019, 'is_single_feature': False}\n",
      "2025-08-20 22:05:30,424 -   q0: 0.9980\n",
      "2025-08-20 22:05:30,424 -   Duration0: 0:01:04.703774\n",
      "2025-08-20 22:05:30,440 -   Val RMSE0 adjusted: 0.0060\n",
      "2025-08-20 22:05:30,440 -   Mean all prediction: 1.0007\n",
      "2025-08-20 22:05:30,440 -   Mean above prediction: 1.0086\n",
      "2025-08-20 22:05:30,440 -   Mean below prediction: 1.0037\n",
      "2025-08-20 22:05:30,440 -   Quantile 0.99 for distance in mask above: 4616.459999999964\n",
      "2025-08-20 22:05:30,440 -   Quantile 0.99 for distance in mask below: 4724.41999999997\n",
      "2025-08-20 22:05:30,440 -   Ratio for quantile-distance-to-length above: 0.0070\n",
      "2025-08-20 22:05:30,440 -   Ratio for quantile-distance-to-length below: 0.0072\n",
      "2025-08-20 22:05:30,440 -   Score: 1.0029\n"
     ]
    },
    {
     "name": "stderr",
     "output_type": "stream",
     "text": [
      "[I 2025-08-20 22:05:30,519] Trial 189 finished with value: 1.0028586647052513 and parameters: {'year_start': 2019, 'idxAfterPrediction': 3, 'LoadupSamples_time_inc_factor': 66, 'timesteps': 90, 'LSTM_learning_rate': 8.59794098203063e-05, 'LSTM_dropout': 0.004854513435254509, 'is_single_feature': False}. Best is trial 31 with value: 1.0049487769776475.\n"
     ]
    },
    {
     "name": "stdout",
     "output_type": "stream",
     "text": [
      "2025-08-20 22:05:30,519 - Trial 189 finished with value: 1.0028586647052513 and parameters: {'year_start': 2019, 'idxAfterPrediction': 3, 'LoadupSamples_time_inc_factor': 66, 'timesteps': 90, 'LSTM_learning_rate': 8.59794098203063e-05, 'LSTM_dropout': 0.004854513435254509, 'is_single_feature': False}. Best is trial 31 with value: 1.0049487769776475.\n",
      "2025-08-20 22:05:41,227 - Non-finite/too-large values in train y time: 36 samples.\n",
      "2025-08-20 22:05:41,227 - Removing 36 samples from training data.\n"
     ]
    },
    {
     "name": "stderr",
     "output_type": "stream",
     "text": [
      "Epochs:   0%|          | 0/2 [00:00<?, ?it/s]"
     ]
    },
    {
     "name": "stdout",
     "output_type": "stream",
     "text": [
      "2025-08-20 22:06:26,362 - Epoch 1/2 — Train RMSE: 0.5260 — Validation RMSE: 0.4172\n"
     ]
    },
    {
     "name": "stderr",
     "output_type": "stream",
     "text": [
      "Epochs:  50%|█████     | 1/2 [00:30<00:30, 30.55s/it]"
     ]
    },
    {
     "name": "stdout",
     "output_type": "stream",
     "text": [
      "2025-08-20 22:06:56,637 - Epoch 2/2 — Train RMSE: 0.4164 — Validation RMSE: 0.4066\n"
     ]
    },
    {
     "name": "stderr",
     "output_type": "stream",
     "text": [
      "Epochs: 100%|██████████| 2/2 [01:00<00:00, 30.41s/it]\n"
     ]
    },
    {
     "name": "stdout",
     "output_type": "stream",
     "text": [
      "2025-08-20 22:07:00,379 - Trial 190 with params: {'idxAfterPrediction': 3, 'timesteps': 90, 'target_option': 'last', 'LoadupSamples_time_scaling_stretch': True, 'LoadupSamples_time_inc_factor': 76, 'LSTM_units': 16, 'LSTM_num_layers': 1, 'LSTM_dropout': 0.02918246251539244, 'LSTM_recurrent_dropout': 0.001, 'LSTM_learning_rate': 6.455589094257301e-05, 'LSTM_optimizer': 'adam', 'LSTM_bidirectional': True, 'LSTM_batch_size': 4096, 'LSTM_epochs': 2, 'LSTM_l1': 0.001, 'LSTM_l2': 0.001, 'LSTM_inter_dropout': 0.001, 'LSTM_input_gaussian_noise': 0.001, 'LSTM_conv1d': True, 'LSTM_conv1d_kernel_size': 3, 'LSTM_loss': 'mse', 'year_start': 2019, 'is_single_feature': False}\n",
      "2025-08-20 22:07:00,379 -   q0: 0.9980\n",
      "2025-08-20 22:07:00,379 -   Duration0: 0:01:04.817492\n",
      "2025-08-20 22:07:00,379 -   Val RMSE0 adjusted: 0.0054\n",
      "2025-08-20 22:07:00,379 -   Mean all prediction: 1.0007\n",
      "2025-08-20 22:07:00,379 -   Mean above prediction: 1.0011\n",
      "2025-08-20 22:07:00,379 -   Mean below prediction: 1.0022\n",
      "2025-08-20 22:07:00,379 -   Quantile 0.99 for distance in mask above: 4632.699999999975\n",
      "2025-08-20 22:07:00,379 -   Quantile 0.99 for distance in mask below: 3545.58\n",
      "2025-08-20 22:07:00,379 -   Ratio for quantile-distance-to-length above: 0.0070\n",
      "2025-08-20 22:07:00,379 -   Ratio for quantile-distance-to-length below: 0.0054\n",
      "2025-08-20 22:07:00,379 -   Score: 1.0004\n"
     ]
    },
    {
     "name": "stderr",
     "output_type": "stream",
     "text": [
      "[I 2025-08-20 22:07:00,459] Trial 190 finished with value: 1.00035895377836 and parameters: {'year_start': 2019, 'idxAfterPrediction': 3, 'LoadupSamples_time_inc_factor': 76, 'timesteps': 90, 'LSTM_learning_rate': 6.455589094257301e-05, 'LSTM_dropout': 0.02918246251539244, 'is_single_feature': False}. Best is trial 31 with value: 1.0049487769776475.\n"
     ]
    },
    {
     "name": "stdout",
     "output_type": "stream",
     "text": [
      "2025-08-20 22:07:00,459 - Trial 190 finished with value: 1.00035895377836 and parameters: {'year_start': 2019, 'idxAfterPrediction': 3, 'LoadupSamples_time_inc_factor': 76, 'timesteps': 90, 'LSTM_learning_rate': 6.455589094257301e-05, 'LSTM_dropout': 0.02918246251539244, 'is_single_feature': False}. Best is trial 31 with value: 1.0049487769776475.\n",
      "2025-08-20 22:07:11,179 - Non-finite/too-large values in train y time: 36 samples.\n",
      "2025-08-20 22:07:11,194 - Removing 36 samples from training data.\n"
     ]
    },
    {
     "name": "stderr",
     "output_type": "stream",
     "text": [
      "Epochs:   0%|          | 0/2 [00:00<?, ?it/s]"
     ]
    },
    {
     "name": "stdout",
     "output_type": "stream",
     "text": [
      "2025-08-20 22:07:55,976 - Epoch 1/2 — Train RMSE: 0.4854 — Validation RMSE: 0.4348\n"
     ]
    },
    {
     "name": "stderr",
     "output_type": "stream",
     "text": [
      "Epochs:  50%|█████     | 1/2 [00:30<00:30, 30.24s/it]"
     ]
    },
    {
     "name": "stdout",
     "output_type": "stream",
     "text": [
      "2025-08-20 22:08:26,304 - Epoch 2/2 — Train RMSE: 0.4277 — Validation RMSE: 0.4023\n"
     ]
    },
    {
     "name": "stderr",
     "output_type": "stream",
     "text": [
      "Epochs: 100%|██████████| 2/2 [01:00<00:00, 30.28s/it]\n"
     ]
    },
    {
     "name": "stdout",
     "output_type": "stream",
     "text": [
      "2025-08-20 22:08:29,869 - Trial 191 with params: {'idxAfterPrediction': 3, 'timesteps': 90, 'target_option': 'last', 'LoadupSamples_time_scaling_stretch': True, 'LoadupSamples_time_inc_factor': 66, 'LSTM_units': 16, 'LSTM_num_layers': 1, 'LSTM_dropout': 0.05917837510808851, 'LSTM_recurrent_dropout': 0.001, 'LSTM_learning_rate': 3.0137837874183324e-05, 'LSTM_optimizer': 'adam', 'LSTM_bidirectional': True, 'LSTM_batch_size': 4096, 'LSTM_epochs': 2, 'LSTM_l1': 0.001, 'LSTM_l2': 0.001, 'LSTM_inter_dropout': 0.001, 'LSTM_input_gaussian_noise': 0.001, 'LSTM_conv1d': True, 'LSTM_conv1d_kernel_size': 3, 'LSTM_loss': 'mse', 'year_start': 2019, 'is_single_feature': False}\n",
      "2025-08-20 22:08:29,885 -   q0: 0.9980\n",
      "2025-08-20 22:08:29,885 -   Duration0: 0:01:04.396399\n",
      "2025-08-20 22:08:29,885 -   Val RMSE0 adjusted: 0.0061\n",
      "2025-08-20 22:08:29,885 -   Mean all prediction: 1.0007\n",
      "2025-08-20 22:08:29,885 -   Mean above prediction: 0.9991\n",
      "2025-08-20 22:08:29,885 -   Mean below prediction: 0.9956\n",
      "2025-08-20 22:08:29,885 -   Quantile 0.99 for distance in mask above: 5879.839999999996\n",
      "2025-08-20 22:08:29,885 -   Quantile 0.99 for distance in mask below: 3560.619999999988\n",
      "2025-08-20 22:08:29,885 -   Ratio for quantile-distance-to-length above: 0.0089\n",
      "2025-08-20 22:08:29,885 -   Ratio for quantile-distance-to-length below: 0.0054\n",
      "2025-08-20 22:08:29,885 -   Score: 0.9997\n"
     ]
    },
    {
     "name": "stderr",
     "output_type": "stream",
     "text": [
      "[I 2025-08-20 22:08:29,964] Trial 191 finished with value: 0.9997036862529738 and parameters: {'year_start': 2019, 'idxAfterPrediction': 3, 'LoadupSamples_time_inc_factor': 66, 'timesteps': 90, 'LSTM_learning_rate': 3.0137837874183324e-05, 'LSTM_dropout': 0.05917837510808851, 'is_single_feature': False}. Best is trial 31 with value: 1.0049487769776475.\n"
     ]
    },
    {
     "name": "stdout",
     "output_type": "stream",
     "text": [
      "2025-08-20 22:08:29,964 - Trial 191 finished with value: 0.9997036862529738 and parameters: {'year_start': 2019, 'idxAfterPrediction': 3, 'LoadupSamples_time_inc_factor': 66, 'timesteps': 90, 'LSTM_learning_rate': 3.0137837874183324e-05, 'LSTM_dropout': 0.05917837510808851, 'is_single_feature': False}. Best is trial 31 with value: 1.0049487769776475.\n",
      "2025-08-20 22:08:40,652 - Non-finite/too-large values in train y time: 36 samples.\n",
      "2025-08-20 22:08:40,652 - Removing 36 samples from training data.\n"
     ]
    },
    {
     "name": "stderr",
     "output_type": "stream",
     "text": [
      "Epochs:   0%|          | 0/2 [00:00<?, ?it/s]"
     ]
    },
    {
     "name": "stdout",
     "output_type": "stream",
     "text": [
      "2025-08-20 22:09:25,810 - Epoch 1/2 — Train RMSE: 0.4605 — Validation RMSE: 0.3971\n"
     ]
    },
    {
     "name": "stderr",
     "output_type": "stream",
     "text": [
      "Epochs:  50%|█████     | 1/2 [00:30<00:30, 30.41s/it]"
     ]
    },
    {
     "name": "stdout",
     "output_type": "stream",
     "text": [
      "2025-08-20 22:09:55,938 - Epoch 2/2 — Train RMSE: 0.4029 — Validation RMSE: 0.3944\n"
     ]
    },
    {
     "name": "stderr",
     "output_type": "stream",
     "text": [
      "Epochs: 100%|██████████| 2/2 [01:00<00:00, 30.27s/it]\n"
     ]
    },
    {
     "name": "stdout",
     "output_type": "stream",
     "text": [
      "2025-08-20 22:09:59,739 - Trial 192 with params: {'idxAfterPrediction': 3, 'timesteps': 90, 'target_option': 'last', 'LoadupSamples_time_scaling_stretch': True, 'LoadupSamples_time_inc_factor': 66, 'LSTM_units': 16, 'LSTM_num_layers': 1, 'LSTM_dropout': 0.07131236705659781, 'LSTM_recurrent_dropout': 0.001, 'LSTM_learning_rate': 7.94895577679498e-05, 'LSTM_optimizer': 'adam', 'LSTM_bidirectional': True, 'LSTM_batch_size': 4096, 'LSTM_epochs': 2, 'LSTM_l1': 0.001, 'LSTM_l2': 0.001, 'LSTM_inter_dropout': 0.001, 'LSTM_input_gaussian_noise': 0.001, 'LSTM_conv1d': True, 'LSTM_conv1d_kernel_size': 3, 'LSTM_loss': 'mse', 'year_start': 2019, 'is_single_feature': False}\n",
      "2025-08-20 22:09:59,739 -   q0: 0.9980\n",
      "2025-08-20 22:09:59,739 -   Duration0: 0:01:04.584705\n",
      "2025-08-20 22:09:59,739 -   Val RMSE0 adjusted: 0.0060\n",
      "2025-08-20 22:09:59,739 -   Mean all prediction: 1.0007\n",
      "2025-08-20 22:09:59,739 -   Mean above prediction: 1.0000\n",
      "2025-08-20 22:09:59,739 -   Mean below prediction: 0.9942\n",
      "2025-08-20 22:09:59,739 -   Quantile 0.99 for distance in mask above: 5695.359999999997\n",
      "2025-08-20 22:09:59,739 -   Quantile 0.99 for distance in mask below: 3719.8999999999887\n",
      "2025-08-20 22:09:59,739 -   Ratio for quantile-distance-to-length above: 0.0087\n",
      "2025-08-20 22:09:59,755 -   Ratio for quantile-distance-to-length below: 0.0057\n",
      "2025-08-20 22:09:59,755 -   Score: 1.0000\n"
     ]
    },
    {
     "name": "stderr",
     "output_type": "stream",
     "text": [
      "[I 2025-08-20 22:09:59,825] Trial 192 finished with value: 0.9999858376798841 and parameters: {'year_start': 2019, 'idxAfterPrediction': 3, 'LoadupSamples_time_inc_factor': 66, 'timesteps': 90, 'LSTM_learning_rate': 7.94895577679498e-05, 'LSTM_dropout': 0.07131236705659781, 'is_single_feature': False}. Best is trial 31 with value: 1.0049487769776475.\n"
     ]
    },
    {
     "name": "stdout",
     "output_type": "stream",
     "text": [
      "2025-08-20 22:09:59,825 - Trial 192 finished with value: 0.9999858376798841 and parameters: {'year_start': 2019, 'idxAfterPrediction': 3, 'LoadupSamples_time_inc_factor': 66, 'timesteps': 90, 'LSTM_learning_rate': 7.94895577679498e-05, 'LSTM_dropout': 0.07131236705659781, 'is_single_feature': False}. Best is trial 31 with value: 1.0049487769776475.\n",
      "2025-08-20 22:10:10,182 - Non-finite/too-large values in train y time: 36 samples.\n",
      "2025-08-20 22:10:10,198 - Removing 36 samples from training data.\n"
     ]
    },
    {
     "name": "stderr",
     "output_type": "stream",
     "text": [
      "Epochs:   0%|          | 0/2 [00:00<?, ?it/s]"
     ]
    },
    {
     "name": "stdout",
     "output_type": "stream",
     "text": [
      "2025-08-20 22:10:45,316 - Epoch 1/2 — Train RMSE: 0.5299 — Validation RMSE: 0.4131\n"
     ]
    },
    {
     "name": "stderr",
     "output_type": "stream",
     "text": [
      "Epochs:  50%|█████     | 1/2 [00:29<00:29, 29.50s/it]"
     ]
    },
    {
     "name": "stdout",
     "output_type": "stream",
     "text": [
      "2025-08-20 22:11:14,798 - Epoch 2/2 — Train RMSE: 0.4069 — Validation RMSE: 0.3942\n"
     ]
    },
    {
     "name": "stderr",
     "output_type": "stream",
     "text": [
      "Epochs: 100%|██████████| 2/2 [00:58<00:00, 29.49s/it]\n"
     ]
    },
    {
     "name": "stdout",
     "output_type": "stream",
     "text": [
      "2025-08-20 22:11:18,159 - Trial 193 with params: {'idxAfterPrediction': 3, 'timesteps': 30, 'target_option': 'last', 'LoadupSamples_time_scaling_stretch': True, 'LoadupSamples_time_inc_factor': 66, 'LSTM_units': 16, 'LSTM_num_layers': 1, 'LSTM_dropout': 0.05421904122750273, 'LSTM_recurrent_dropout': 0.001, 'LSTM_learning_rate': 5.317509935027964e-05, 'LSTM_optimizer': 'adam', 'LSTM_bidirectional': True, 'LSTM_batch_size': 4096, 'LSTM_epochs': 2, 'LSTM_l1': 0.001, 'LSTM_l2': 0.001, 'LSTM_inter_dropout': 0.001, 'LSTM_input_gaussian_noise': 0.001, 'LSTM_conv1d': True, 'LSTM_conv1d_kernel_size': 3, 'LSTM_loss': 'mse', 'year_start': 2019, 'is_single_feature': False}\n",
      "2025-08-20 22:11:18,159 -   q0: 0.9980\n",
      "2025-08-20 22:11:18,159 -   Duration0: 0:01:02.412214\n",
      "2025-08-20 22:11:18,159 -   Val RMSE0 adjusted: 0.0060\n",
      "2025-08-20 22:11:18,159 -   Mean all prediction: 1.0007\n",
      "2025-08-20 22:11:18,159 -   Mean above prediction: 1.0069\n",
      "2025-08-20 22:11:18,159 -   Mean below prediction: 1.0037\n",
      "2025-08-20 22:11:18,175 -   Quantile 0.99 for distance in mask above: 4254.0199999999895\n",
      "2025-08-20 22:11:18,175 -   Quantile 0.99 for distance in mask below: 4030.8999999999933\n",
      "2025-08-20 22:11:18,175 -   Ratio for quantile-distance-to-length above: 0.0065\n",
      "2025-08-20 22:11:18,175 -   Ratio for quantile-distance-to-length below: 0.0061\n",
      "2025-08-20 22:11:18,175 -   Score: 1.0023\n"
     ]
    },
    {
     "name": "stderr",
     "output_type": "stream",
     "text": [
      "[I 2025-08-20 22:11:18,206] Trial 193 finished with value: 1.002282647142834 and parameters: {'year_start': 2019, 'idxAfterPrediction': 3, 'LoadupSamples_time_inc_factor': 66, 'timesteps': 30, 'LSTM_learning_rate': 5.317509935027964e-05, 'LSTM_dropout': 0.05421904122750273, 'is_single_feature': False}. Best is trial 31 with value: 1.0049487769776475.\n"
     ]
    },
    {
     "name": "stdout",
     "output_type": "stream",
     "text": [
      "2025-08-20 22:11:18,206 - Trial 193 finished with value: 1.002282647142834 and parameters: {'year_start': 2019, 'idxAfterPrediction': 3, 'LoadupSamples_time_inc_factor': 66, 'timesteps': 30, 'LSTM_learning_rate': 5.317509935027964e-05, 'LSTM_dropout': 0.05421904122750273, 'is_single_feature': False}. Best is trial 31 with value: 1.0049487769776475.\n",
      "2025-08-20 22:11:29,430 - Non-finite/too-large values in train y time: 84 samples.\n",
      "2025-08-20 22:11:29,436 - Removing 84 samples from training data.\n"
     ]
    },
    {
     "name": "stderr",
     "output_type": "stream",
     "text": [
      "Epochs:   0%|          | 0/2 [00:00<?, ?it/s]"
     ]
    },
    {
     "name": "stdout",
     "output_type": "stream",
     "text": [
      "2025-08-20 22:12:13,388 - Epoch 1/2 — Train RMSE: 0.5525 — Validation RMSE: 0.4744\n"
     ]
    },
    {
     "name": "stderr",
     "output_type": "stream",
     "text": [
      "Epochs:  50%|█████     | 1/2 [00:30<00:30, 30.15s/it]"
     ]
    },
    {
     "name": "stdout",
     "output_type": "stream",
     "text": [
      "2025-08-20 22:12:43,219 - Epoch 2/2 — Train RMSE: 0.4591 — Validation RMSE: 0.4384\n"
     ]
    },
    {
     "name": "stderr",
     "output_type": "stream",
     "text": [
      "Epochs: 100%|██████████| 2/2 [00:59<00:00, 29.99s/it]\n"
     ]
    },
    {
     "name": "stdout",
     "output_type": "stream",
     "text": [
      "2025-08-20 22:12:46,927 - Trial 194 with params: {'idxAfterPrediction': 7, 'timesteps': 85, 'target_option': 'last', 'LoadupSamples_time_scaling_stretch': True, 'LoadupSamples_time_inc_factor': 71, 'LSTM_units': 16, 'LSTM_num_layers': 1, 'LSTM_dropout': 0.049575658854239854, 'LSTM_recurrent_dropout': 0.001, 'LSTM_learning_rate': 3.646371889854529e-05, 'LSTM_optimizer': 'adam', 'LSTM_bidirectional': True, 'LSTM_batch_size': 4096, 'LSTM_epochs': 2, 'LSTM_l1': 0.001, 'LSTM_l2': 0.001, 'LSTM_inter_dropout': 0.001, 'LSTM_input_gaussian_noise': 0.001, 'LSTM_conv1d': True, 'LSTM_conv1d_kernel_size': 3, 'LSTM_loss': 'mse', 'year_start': 2019, 'is_single_feature': False}\n",
      "2025-08-20 22:12:46,927 -   q0: 0.9980\n",
      "2025-08-20 22:12:46,927 -   Duration0: 0:01:03.868424\n",
      "2025-08-20 22:12:46,927 -   Val RMSE0 adjusted: 0.0062\n",
      "2025-08-20 22:12:46,927 -   Mean all prediction: 1.0024\n",
      "2025-08-20 22:12:46,927 -   Mean above prediction: 1.0189\n",
      "2025-08-20 22:12:46,927 -   Mean below prediction: 1.0005\n",
      "2025-08-20 22:12:46,927 -   Quantile 0.99 for distance in mask above: 5899.319999999989\n",
      "2025-08-20 22:12:46,927 -   Quantile 0.99 for distance in mask below: 3619.0399999999986\n",
      "2025-08-20 22:12:46,927 -   Ratio for quantile-distance-to-length above: 0.0090\n",
      "2025-08-20 22:12:46,927 -   Ratio for quantile-distance-to-length below: 0.0055\n",
      "2025-08-20 22:12:46,927 -   Score: 1.0027\n"
     ]
    },
    {
     "name": "stderr",
     "output_type": "stream",
     "text": [
      "[I 2025-08-20 22:12:47,006] Trial 194 finished with value: 1.0026799576040135 and parameters: {'year_start': 2019, 'idxAfterPrediction': 7, 'LoadupSamples_time_inc_factor': 71, 'timesteps': 85, 'LSTM_learning_rate': 3.646371889854529e-05, 'LSTM_dropout': 0.049575658854239854, 'is_single_feature': False}. Best is trial 31 with value: 1.0049487769776475.\n"
     ]
    },
    {
     "name": "stdout",
     "output_type": "stream",
     "text": [
      "2025-08-20 22:12:47,006 - Trial 194 finished with value: 1.0026799576040135 and parameters: {'year_start': 2019, 'idxAfterPrediction': 7, 'LoadupSamples_time_inc_factor': 71, 'timesteps': 85, 'LSTM_learning_rate': 3.646371889854529e-05, 'LSTM_dropout': 0.049575658854239854, 'is_single_feature': False}. Best is trial 31 with value: 1.0049487769776475.\n",
      "2025-08-20 22:12:57,696 - Non-finite/too-large values in train y time: 36 samples.\n",
      "2025-08-20 22:12:57,696 - Removing 36 samples from training data.\n"
     ]
    },
    {
     "name": "stderr",
     "output_type": "stream",
     "text": [
      "Epochs:   0%|          | 0/2 [00:00<?, ?it/s]"
     ]
    },
    {
     "name": "stdout",
     "output_type": "stream",
     "text": [
      "2025-08-20 22:13:42,682 - Epoch 1/2 — Train RMSE: 0.6791 — Validation RMSE: 0.6121\n"
     ]
    },
    {
     "name": "stderr",
     "output_type": "stream",
     "text": [
      "Epochs:  50%|█████     | 1/2 [00:30<00:30, 30.30s/it]"
     ]
    },
    {
     "name": "stdout",
     "output_type": "stream",
     "text": [
      "2025-08-20 22:14:12,696 - Epoch 2/2 — Train RMSE: 0.5826 — Validation RMSE: 0.5025\n"
     ]
    },
    {
     "name": "stderr",
     "output_type": "stream",
     "text": [
      "Epochs: 100%|██████████| 2/2 [01:00<00:00, 30.16s/it]\n"
     ]
    },
    {
     "name": "stdout",
     "output_type": "stream",
     "text": [
      "2025-08-20 22:14:16,578 - Trial 195 with params: {'idxAfterPrediction': 3, 'timesteps': 90, 'target_option': 'last', 'LoadupSamples_time_scaling_stretch': True, 'LoadupSamples_time_inc_factor': 41, 'LSTM_units': 16, 'LSTM_num_layers': 1, 'LSTM_dropout': 0.06807809240075503, 'LSTM_recurrent_dropout': 0.001, 'LSTM_learning_rate': 2.496903537464688e-05, 'LSTM_optimizer': 'adam', 'LSTM_bidirectional': True, 'LSTM_batch_size': 4096, 'LSTM_epochs': 2, 'LSTM_l1': 0.001, 'LSTM_l2': 0.001, 'LSTM_inter_dropout': 0.001, 'LSTM_input_gaussian_noise': 0.001, 'LSTM_conv1d': True, 'LSTM_conv1d_kernel_size': 3, 'LSTM_loss': 'mse', 'year_start': 2019, 'is_single_feature': False}\n",
      "2025-08-20 22:14:16,578 -   q0: 0.9980\n",
      "2025-08-20 22:14:16,578 -   Duration0: 0:01:04.395125\n",
      "2025-08-20 22:14:16,578 -   Val RMSE0 adjusted: 0.0123\n",
      "2025-08-20 22:14:16,578 -   Mean all prediction: 1.0007\n",
      "2025-08-20 22:14:16,578 -   Mean above prediction: 1.0114\n",
      "2025-08-20 22:14:16,578 -   Mean below prediction: 1.0033\n",
      "2025-08-20 22:14:16,578 -   Quantile 0.99 for distance in mask above: 5430.039999999999\n",
      "2025-08-20 22:14:16,578 -   Quantile 0.99 for distance in mask below: 5090.499999999997\n",
      "2025-08-20 22:14:16,578 -   Ratio for quantile-distance-to-length above: 0.0083\n",
      "2025-08-20 22:14:16,578 -   Ratio for quantile-distance-to-length below: 0.0077\n",
      "2025-08-20 22:14:16,578 -   Score: 1.0038\n"
     ]
    },
    {
     "name": "stderr",
     "output_type": "stream",
     "text": [
      "[I 2025-08-20 22:14:16,664] Trial 195 finished with value: 1.0037691991003894 and parameters: {'year_start': 2019, 'idxAfterPrediction': 3, 'LoadupSamples_time_inc_factor': 41, 'timesteps': 90, 'LSTM_learning_rate': 2.496903537464688e-05, 'LSTM_dropout': 0.06807809240075503, 'is_single_feature': False}. Best is trial 31 with value: 1.0049487769776475.\n"
     ]
    },
    {
     "name": "stdout",
     "output_type": "stream",
     "text": [
      "2025-08-20 22:14:16,664 - Trial 195 finished with value: 1.0037691991003894 and parameters: {'year_start': 2019, 'idxAfterPrediction': 3, 'LoadupSamples_time_inc_factor': 41, 'timesteps': 90, 'LSTM_learning_rate': 2.496903537464688e-05, 'LSTM_dropout': 0.06807809240075503, 'is_single_feature': False}. Best is trial 31 with value: 1.0049487769776475.\n",
      "2025-08-20 22:14:22,471 - Non-finite/too-large values in train y time: 48 samples.\n",
      "2025-08-20 22:14:22,486 - Removing 48 samples from training data.\n"
     ]
    },
    {
     "name": "stderr",
     "output_type": "stream",
     "text": [
      "Epochs:   0%|          | 0/2 [00:00<?, ?it/s]"
     ]
    },
    {
     "name": "stdout",
     "output_type": "stream",
     "text": [
      "2025-08-20 22:14:40,273 - Epoch 1/2 — Train RMSE: 0.6247 — Validation RMSE: 0.5295\n"
     ]
    },
    {
     "name": "stderr",
     "output_type": "stream",
     "text": [
      "Epochs:  50%|█████     | 1/2 [00:14<00:14, 14.81s/it]"
     ]
    },
    {
     "name": "stdout",
     "output_type": "stream",
     "text": [
      "2025-08-20 22:14:55,445 - Epoch 2/2 — Train RMSE: 0.4771 — Validation RMSE: 0.4195\n"
     ]
    },
    {
     "name": "stderr",
     "output_type": "stream",
     "text": [
      "Epochs: 100%|██████████| 2/2 [00:29<00:00, 14.99s/it]\n"
     ]
    },
    {
     "name": "stdout",
     "output_type": "stream",
     "text": [
      "2025-08-20 22:14:58,670 - Trial 196 with params: {'idxAfterPrediction': 4, 'timesteps': 30, 'target_option': 'last', 'LoadupSamples_time_scaling_stretch': True, 'LoadupSamples_time_inc_factor': 66, 'LSTM_units': 16, 'LSTM_num_layers': 1, 'LSTM_dropout': 0.0799568597026079, 'LSTM_recurrent_dropout': 0.001, 'LSTM_learning_rate': 9.051036308514355e-05, 'LSTM_optimizer': 'adam', 'LSTM_bidirectional': True, 'LSTM_batch_size': 4096, 'LSTM_epochs': 2, 'LSTM_l1': 0.001, 'LSTM_l2': 0.001, 'LSTM_inter_dropout': 0.001, 'LSTM_input_gaussian_noise': 0.001, 'LSTM_conv1d': True, 'LSTM_conv1d_kernel_size': 3, 'LSTM_loss': 'mse', 'year_start': 2022, 'is_single_feature': False}\n",
      "2025-08-20 22:14:58,670 -   q0: 0.9980\n",
      "2025-08-20 22:14:58,670 -   Duration0: 0:00:33.242241\n",
      "2025-08-20 22:14:58,670 -   Val RMSE0 adjusted: 0.0064\n",
      "2025-08-20 22:14:58,670 -   Mean all prediction: 1.0011\n",
      "2025-08-20 22:14:58,670 -   Mean above prediction: 1.0000\n",
      "2025-08-20 22:14:58,670 -   Mean below prediction: 0.9970\n",
      "2025-08-20 22:14:58,670 -   Quantile 0.99 for distance in mask above: 3882.1599999999994\n",
      "2025-08-20 22:14:58,670 -   Quantile 0.99 for distance in mask below: 3988.0999999999913\n",
      "2025-08-20 22:14:58,685 -   Ratio for quantile-distance-to-length above: 0.0059\n",
      "2025-08-20 22:14:58,685 -   Ratio for quantile-distance-to-length below: 0.0061\n",
      "2025-08-20 22:14:58,685 -   Score: 1.0000\n"
     ]
    },
    {
     "name": "stderr",
     "output_type": "stream",
     "text": [
      "[I 2025-08-20 22:14:58,709] Trial 196 finished with value: 1.0000070005111548 and parameters: {'year_start': 2022, 'idxAfterPrediction': 4, 'LoadupSamples_time_inc_factor': 66, 'timesteps': 30, 'LSTM_learning_rate': 9.051036308514355e-05, 'LSTM_dropout': 0.0799568597026079, 'is_single_feature': False}. Best is trial 31 with value: 1.0049487769776475.\n"
     ]
    },
    {
     "name": "stdout",
     "output_type": "stream",
     "text": [
      "2025-08-20 22:14:58,709 - Trial 196 finished with value: 1.0000070005111548 and parameters: {'year_start': 2022, 'idxAfterPrediction': 4, 'LoadupSamples_time_inc_factor': 66, 'timesteps': 30, 'LSTM_learning_rate': 9.051036308514355e-05, 'LSTM_dropout': 0.0799568597026079, 'is_single_feature': False}. Best is trial 31 with value: 1.0049487769776475.\n",
      "2025-08-20 22:15:09,779 - Non-finite/too-large values in train y time: 96 samples.\n",
      "2025-08-20 22:15:09,779 - Removing 96 samples from training data.\n"
     ]
    },
    {
     "name": "stderr",
     "output_type": "stream",
     "text": [
      "Epochs:   0%|          | 0/2 [00:00<?, ?it/s]"
     ]
    },
    {
     "name": "stdout",
     "output_type": "stream",
     "text": [
      "2025-08-20 22:15:52,560 - Epoch 1/2 — Train RMSE: 0.5808 — Validation RMSE: 0.4565\n"
     ]
    },
    {
     "name": "stderr",
     "output_type": "stream",
     "text": [
      "Epochs:  50%|█████     | 1/2 [00:29<00:29, 29.47s/it]"
     ]
    },
    {
     "name": "stdout",
     "output_type": "stream",
     "text": [
      "2025-08-20 22:16:22,585 - Epoch 2/2 — Train RMSE: 0.4532 — Validation RMSE: 0.4481\n"
     ]
    },
    {
     "name": "stderr",
     "output_type": "stream",
     "text": [
      "Epochs: 100%|██████████| 2/2 [00:59<00:00, 29.75s/it]\n"
     ]
    },
    {
     "name": "stdout",
     "output_type": "stream",
     "text": [
      "2025-08-20 22:16:26,075 - Trial 197 with params: {'idxAfterPrediction': 8, 'timesteps': 80, 'target_option': 'last', 'LoadupSamples_time_scaling_stretch': True, 'LoadupSamples_time_inc_factor': 81, 'LSTM_units': 16, 'LSTM_num_layers': 1, 'LSTM_dropout': 0.011143608872225846, 'LSTM_recurrent_dropout': 0.001, 'LSTM_learning_rate': 6.950278672052243e-05, 'LSTM_optimizer': 'adam', 'LSTM_bidirectional': True, 'LSTM_batch_size': 4096, 'LSTM_epochs': 2, 'LSTM_l1': 0.001, 'LSTM_l2': 0.001, 'LSTM_inter_dropout': 0.001, 'LSTM_input_gaussian_noise': 0.001, 'LSTM_conv1d': True, 'LSTM_conv1d_kernel_size': 3, 'LSTM_loss': 'mse', 'year_start': 2019, 'is_single_feature': True}\n",
      "2025-08-20 22:16:26,075 -   q0: 0.9980\n",
      "2025-08-20 22:16:26,075 -   Duration0: 0:01:03.065142\n",
      "2025-08-20 22:16:26,075 -   Val RMSE0 adjusted: 0.0055\n",
      "2025-08-20 22:16:26,090 -   Mean all prediction: 1.0028\n",
      "2025-08-20 22:16:26,090 -   Mean above prediction: 0.9955\n",
      "2025-08-20 22:16:26,090 -   Mean below prediction: 1.0077\n",
      "2025-08-20 22:16:26,090 -   Quantile 0.99 for distance in mask above: 3931.69999999998\n",
      "2025-08-20 22:16:26,090 -   Quantile 0.99 for distance in mask below: 4353.059999999998\n",
      "2025-08-20 22:16:26,090 -   Ratio for quantile-distance-to-length above: 0.0060\n",
      "2025-08-20 22:16:26,090 -   Ratio for quantile-distance-to-length below: 0.0066\n",
      "2025-08-20 22:16:26,090 -   Score: 0.9994\n"
     ]
    },
    {
     "name": "stderr",
     "output_type": "stream",
     "text": [
      "[I 2025-08-20 22:16:26,185] Trial 197 finished with value: 0.9994321144886523 and parameters: {'year_start': 2019, 'idxAfterPrediction': 8, 'LoadupSamples_time_inc_factor': 81, 'timesteps': 80, 'LSTM_learning_rate': 6.950278672052243e-05, 'LSTM_dropout': 0.011143608872225846, 'is_single_feature': True}. Best is trial 31 with value: 1.0049487769776475.\n"
     ]
    },
    {
     "name": "stdout",
     "output_type": "stream",
     "text": [
      "2025-08-20 22:16:26,185 - Trial 197 finished with value: 0.9994321144886523 and parameters: {'year_start': 2019, 'idxAfterPrediction': 8, 'LoadupSamples_time_inc_factor': 81, 'timesteps': 80, 'LSTM_learning_rate': 6.950278672052243e-05, 'LSTM_dropout': 0.011143608872225846, 'is_single_feature': True}. Best is trial 31 with value: 1.0049487769776475.\n",
      "2025-08-20 22:16:32,094 - Non-finite/too-large values in train y time: 36 samples.\n",
      "2025-08-20 22:16:32,094 - Removing 36 samples from training data.\n"
     ]
    },
    {
     "name": "stderr",
     "output_type": "stream",
     "text": [
      "Epochs:   0%|          | 0/2 [00:00<?, ?it/s]"
     ]
    },
    {
     "name": "stdout",
     "output_type": "stream",
     "text": [
      "2025-08-20 22:16:54,941 - Epoch 1/2 — Train RMSE: 0.6353 — Validation RMSE: 0.5778\n"
     ]
    },
    {
     "name": "stderr",
     "output_type": "stream",
     "text": [
      "Epochs:  50%|█████     | 1/2 [00:15<00:15, 15.44s/it]"
     ]
    },
    {
     "name": "stdout",
     "output_type": "stream",
     "text": [
      "2025-08-20 22:17:10,398 - Epoch 2/2 — Train RMSE: 0.5514 — Validation RMSE: 0.4915\n"
     ]
    },
    {
     "name": "stderr",
     "output_type": "stream",
     "text": [
      "Epochs: 100%|██████████| 2/2 [00:30<00:00, 15.45s/it]\n"
     ]
    },
    {
     "name": "stdout",
     "output_type": "stream",
     "text": [
      "2025-08-20 22:17:14,206 - Trial 198 with params: {'idxAfterPrediction': 3, 'timesteps': 85, 'target_option': 'last', 'LoadupSamples_time_scaling_stretch': True, 'LoadupSamples_time_inc_factor': 66, 'LSTM_units': 16, 'LSTM_num_layers': 1, 'LSTM_dropout': 0.0020661921591217775, 'LSTM_recurrent_dropout': 0.001, 'LSTM_learning_rate': 4.770733768939833e-05, 'LSTM_optimizer': 'adam', 'LSTM_bidirectional': True, 'LSTM_batch_size': 4096, 'LSTM_epochs': 2, 'LSTM_l1': 0.001, 'LSTM_l2': 0.001, 'LSTM_inter_dropout': 0.001, 'LSTM_input_gaussian_noise': 0.001, 'LSTM_conv1d': True, 'LSTM_conv1d_kernel_size': 3, 'LSTM_loss': 'mse', 'year_start': 2022, 'is_single_feature': False}\n",
      "2025-08-20 22:17:14,206 -   q0: 0.9980\n",
      "2025-08-20 22:17:14,206 -   Duration0: 0:00:34.818066\n",
      "2025-08-20 22:17:14,206 -   Val RMSE0 adjusted: 0.0074\n",
      "2025-08-20 22:17:14,206 -   Mean all prediction: 1.0007\n",
      "2025-08-20 22:17:14,206 -   Mean above prediction: 0.9976\n",
      "2025-08-20 22:17:14,206 -   Mean below prediction: 0.9939\n",
      "2025-08-20 22:17:14,206 -   Quantile 0.99 for distance in mask above: 4206.139999999975\n",
      "2025-08-20 22:17:14,206 -   Quantile 0.99 for distance in mask below: 3838.3599999999924\n",
      "2025-08-20 22:17:14,206 -   Ratio for quantile-distance-to-length above: 0.0064\n",
      "2025-08-20 22:17:14,206 -   Ratio for quantile-distance-to-length below: 0.0058\n",
      "2025-08-20 22:17:14,223 -   Score: 0.9992\n"
     ]
    },
    {
     "name": "stderr",
     "output_type": "stream",
     "text": [
      "[I 2025-08-20 22:17:14,269] Trial 198 finished with value: 0.9991995438068533 and parameters: {'year_start': 2022, 'idxAfterPrediction': 3, 'LoadupSamples_time_inc_factor': 66, 'timesteps': 85, 'LSTM_learning_rate': 4.770733768939833e-05, 'LSTM_dropout': 0.0020661921591217775, 'is_single_feature': False}. Best is trial 31 with value: 1.0049487769776475.\n"
     ]
    },
    {
     "name": "stdout",
     "output_type": "stream",
     "text": [
      "2025-08-20 22:17:14,269 - Trial 198 finished with value: 0.9991995438068533 and parameters: {'year_start': 2022, 'idxAfterPrediction': 3, 'LoadupSamples_time_inc_factor': 66, 'timesteps': 85, 'LSTM_learning_rate': 4.770733768939833e-05, 'LSTM_dropout': 0.0020661921591217775, 'is_single_feature': False}. Best is trial 31 with value: 1.0049487769776475.\n",
      "2025-08-20 22:17:24,715 - Non-finite/too-large values in train y time: 36 samples.\n",
      "2025-08-20 22:17:24,715 - Removing 36 samples from training data.\n"
     ]
    },
    {
     "name": "stderr",
     "output_type": "stream",
     "text": [
      "Epochs:   0%|          | 0/2 [00:00<?, ?it/s]"
     ]
    },
    {
     "name": "stdout",
     "output_type": "stream",
     "text": [
      "2025-08-20 22:17:59,406 - Epoch 1/2 — Train RMSE: 0.4924 — Validation RMSE: 0.4007\n"
     ]
    },
    {
     "name": "stderr",
     "output_type": "stream",
     "text": [
      "Epochs:  50%|█████     | 1/2 [00:29<00:29, 29.05s/it]"
     ]
    },
    {
     "name": "stdout",
     "output_type": "stream",
     "text": [
      "2025-08-20 22:18:29,077 - Epoch 2/2 — Train RMSE: 0.4085 — Validation RMSE: 0.4005\n"
     ]
    },
    {
     "name": "stderr",
     "output_type": "stream",
     "text": [
      "Epochs: 100%|██████████| 2/2 [00:58<00:00, 29.36s/it]\n"
     ]
    },
    {
     "name": "stdout",
     "output_type": "stream",
     "text": [
      "2025-08-20 22:18:32,844 - Trial 199 with params: {'idxAfterPrediction': 3, 'timesteps': 30, 'target_option': 'last', 'LoadupSamples_time_scaling_stretch': True, 'LoadupSamples_time_inc_factor': 71, 'LSTM_units': 16, 'LSTM_num_layers': 1, 'LSTM_dropout': 0.06404106736429238, 'LSTM_recurrent_dropout': 0.001, 'LSTM_learning_rate': 0.0001272728412072121, 'LSTM_optimizer': 'adam', 'LSTM_bidirectional': True, 'LSTM_batch_size': 4096, 'LSTM_epochs': 2, 'LSTM_l1': 0.001, 'LSTM_l2': 0.001, 'LSTM_inter_dropout': 0.001, 'LSTM_input_gaussian_noise': 0.001, 'LSTM_conv1d': True, 'LSTM_conv1d_kernel_size': 3, 'LSTM_loss': 'mse', 'year_start': 2019, 'is_single_feature': False}\n",
      "2025-08-20 22:18:32,844 -   q0: 0.9980\n",
      "2025-08-20 22:18:32,844 -   Duration0: 0:01:02.582035\n",
      "2025-08-20 22:18:32,844 -   Val RMSE0 adjusted: 0.0056\n",
      "2025-08-20 22:18:32,844 -   Mean all prediction: 1.0007\n",
      "2025-08-20 22:18:32,844 -   Mean above prediction: 1.0070\n",
      "2025-08-20 22:18:32,844 -   Mean below prediction: 1.0030\n",
      "2025-08-20 22:18:32,844 -   Quantile 0.99 for distance in mask above: 4484.259999999991\n",
      "2025-08-20 22:18:32,860 -   Quantile 0.99 for distance in mask below: 4094.0199999999995\n",
      "2025-08-20 22:18:32,860 -   Ratio for quantile-distance-to-length above: 0.0068\n",
      "2025-08-20 22:18:32,860 -   Ratio for quantile-distance-to-length below: 0.0062\n",
      "2025-08-20 22:18:32,860 -   Score: 1.0023\n"
     ]
    },
    {
     "name": "stderr",
     "output_type": "stream",
     "text": [
      "[I 2025-08-20 22:18:32,907] Trial 199 finished with value: 1.0023291317394383 and parameters: {'year_start': 2019, 'idxAfterPrediction': 3, 'LoadupSamples_time_inc_factor': 71, 'timesteps': 30, 'LSTM_learning_rate': 0.0001272728412072121, 'LSTM_dropout': 0.06404106736429238, 'is_single_feature': False}. Best is trial 31 with value: 1.0049487769776475.\n"
     ]
    },
    {
     "name": "stdout",
     "output_type": "stream",
     "text": [
      "2025-08-20 22:18:32,907 - Trial 199 finished with value: 1.0023291317394383 and parameters: {'year_start': 2019, 'idxAfterPrediction': 3, 'LoadupSamples_time_inc_factor': 71, 'timesteps': 30, 'LSTM_learning_rate': 0.0001272728412072121, 'LSTM_dropout': 0.06404106736429238, 'is_single_feature': False}. Best is trial 31 with value: 1.0049487769776475.\n",
      "2025-08-20 22:18:39,002 - Non-finite/too-large values in train y time: 36 samples.\n",
      "2025-08-20 22:18:39,002 - Removing 36 samples from training data.\n"
     ]
    },
    {
     "name": "stderr",
     "output_type": "stream",
     "text": [
      "Epochs:   0%|          | 0/2 [00:00<?, ?it/s]"
     ]
    },
    {
     "name": "stdout",
     "output_type": "stream",
     "text": [
      "2025-08-20 22:18:58,542 - Epoch 1/2 — Train RMSE: 0.5933 — Validation RMSE: 0.4939\n"
     ]
    },
    {
     "name": "stderr",
     "output_type": "stream",
     "text": [
      "Epochs:  50%|█████     | 1/2 [00:16<00:16, 16.01s/it]"
     ]
    },
    {
     "name": "stdout",
     "output_type": "stream",
     "text": [
      "2025-08-20 22:19:14,589 - Epoch 2/2 — Train RMSE: 0.4484 — Validation RMSE: 0.3963\n"
     ]
    },
    {
     "name": "stderr",
     "output_type": "stream",
     "text": [
      "Epochs: 100%|██████████| 2/2 [00:32<00:00, 16.03s/it]\n"
     ]
    },
    {
     "name": "stdout",
     "output_type": "stream",
     "text": [
      "2025-08-20 22:19:17,816 - Trial 200 with params: {'idxAfterPrediction': 3, 'timesteps': 35, 'target_option': 'last', 'LoadupSamples_time_scaling_stretch': True, 'LoadupSamples_time_inc_factor': 61, 'LSTM_units': 16, 'LSTM_num_layers': 1, 'LSTM_dropout': 0.08857945458748763, 'LSTM_recurrent_dropout': 0.001, 'LSTM_learning_rate': 0.00010294444168706836, 'LSTM_optimizer': 'adam', 'LSTM_bidirectional': True, 'LSTM_batch_size': 4096, 'LSTM_epochs': 2, 'LSTM_l1': 0.001, 'LSTM_l2': 0.001, 'LSTM_inter_dropout': 0.001, 'LSTM_input_gaussian_noise': 0.001, 'LSTM_conv1d': True, 'LSTM_conv1d_kernel_size': 3, 'LSTM_loss': 'mse', 'year_start': 2022, 'is_single_feature': False}\n",
      "2025-08-20 22:19:17,816 -   q0: 0.9980\n",
      "2025-08-20 22:19:17,832 -   Duration0: 0:00:35.338221\n",
      "2025-08-20 22:19:17,832 -   Val RMSE0 adjusted: 0.0065\n",
      "2025-08-20 22:19:17,832 -   Mean all prediction: 1.0007\n",
      "2025-08-20 22:19:17,832 -   Mean above prediction: 0.9963\n",
      "2025-08-20 22:19:17,832 -   Mean below prediction: 0.9965\n",
      "2025-08-20 22:19:17,832 -   Quantile 0.99 for distance in mask above: 4071.339999999993\n",
      "2025-08-20 22:19:17,832 -   Quantile 0.99 for distance in mask below: 4198.1799999999985\n",
      "2025-08-20 22:19:17,832 -   Ratio for quantile-distance-to-length above: 0.0062\n",
      "2025-08-20 22:19:17,832 -   Ratio for quantile-distance-to-length below: 0.0064\n",
      "2025-08-20 22:19:17,832 -   Score: 0.9987\n"
     ]
    },
    {
     "name": "stderr",
     "output_type": "stream",
     "text": [
      "[I 2025-08-20 22:19:17,864] Trial 200 finished with value: 0.998749307869797 and parameters: {'year_start': 2022, 'idxAfterPrediction': 3, 'LoadupSamples_time_inc_factor': 61, 'timesteps': 35, 'LSTM_learning_rate': 0.00010294444168706836, 'LSTM_dropout': 0.08857945458748763, 'is_single_feature': False}. Best is trial 31 with value: 1.0049487769776475.\n"
     ]
    },
    {
     "name": "stdout",
     "output_type": "stream",
     "text": [
      "2025-08-20 22:19:17,864 - Trial 200 finished with value: 0.998749307869797 and parameters: {'year_start': 2022, 'idxAfterPrediction': 3, 'LoadupSamples_time_inc_factor': 61, 'timesteps': 35, 'LSTM_learning_rate': 0.00010294444168706836, 'LSTM_dropout': 0.08857945458748763, 'is_single_feature': False}. Best is trial 31 with value: 1.0049487769776475.\n",
      "2025-08-20 22:19:28,494 - Non-finite/too-large values in train y time: 48 samples.\n",
      "2025-08-20 22:19:28,499 - Removing 48 samples from training data.\n"
     ]
    },
    {
     "name": "stderr",
     "output_type": "stream",
     "text": [
      "Epochs:   0%|          | 0/2 [00:00<?, ?it/s]"
     ]
    },
    {
     "name": "stdout",
     "output_type": "stream",
     "text": [
      "2025-08-20 22:20:06,895 - Epoch 1/2 — Train RMSE: 0.4552 — Validation RMSE: 0.4028\n"
     ]
    },
    {
     "name": "stderr",
     "output_type": "stream",
     "text": [
      "Epochs:  50%|█████     | 1/2 [00:30<00:30, 30.46s/it]"
     ]
    },
    {
     "name": "stdout",
     "output_type": "stream",
     "text": [
      "2025-08-20 22:20:36,647 - Epoch 2/2 — Train RMSE: 0.4091 — Validation RMSE: 0.4014\n"
     ]
    },
    {
     "name": "stderr",
     "output_type": "stream",
     "text": [
      "Epochs: 100%|██████████| 2/2 [01:00<00:00, 30.10s/it]\n"
     ]
    },
    {
     "name": "stdout",
     "output_type": "stream",
     "text": [
      "2025-08-20 22:20:40,008 - Trial 201 with params: {'idxAfterPrediction': 4, 'timesteps': 45, 'target_option': 'last', 'LoadupSamples_time_scaling_stretch': True, 'LoadupSamples_time_inc_factor': 61, 'LSTM_units': 16, 'LSTM_num_layers': 1, 'LSTM_dropout': 0.06029211271706702, 'LSTM_recurrent_dropout': 0.001, 'LSTM_learning_rate': 7.207002059725141e-05, 'LSTM_optimizer': 'adam', 'LSTM_bidirectional': True, 'LSTM_batch_size': 4096, 'LSTM_epochs': 2, 'LSTM_l1': 0.001, 'LSTM_l2': 0.001, 'LSTM_inter_dropout': 0.001, 'LSTM_input_gaussian_noise': 0.001, 'LSTM_conv1d': True, 'LSTM_conv1d_kernel_size': 3, 'LSTM_loss': 'mse', 'year_start': 2019, 'is_single_feature': False}\n",
      "2025-08-20 22:20:40,008 -   q0: 0.9980\n",
      "2025-08-20 22:20:40,008 -   Duration0: 0:01:03.670123\n",
      "2025-08-20 22:20:40,008 -   Val RMSE0 adjusted: 0.0066\n",
      "2025-08-20 22:20:40,008 -   Mean all prediction: 1.0011\n",
      "2025-08-20 22:20:40,008 -   Mean above prediction: 1.0056\n",
      "2025-08-20 22:20:40,008 -   Mean below prediction: 0.9990\n",
      "2025-08-20 22:20:40,008 -   Quantile 0.99 for distance in mask above: 5297.299999999991\n",
      "2025-08-20 22:20:40,008 -   Quantile 0.99 for distance in mask below: 3367.4399999999996\n",
      "2025-08-20 22:20:40,008 -   Ratio for quantile-distance-to-length above: 0.0081\n",
      "2025-08-20 22:20:40,008 -   Ratio for quantile-distance-to-length below: 0.0051\n",
      "2025-08-20 22:20:40,008 -   Score: 1.0014\n"
     ]
    },
    {
     "name": "stderr",
     "output_type": "stream",
     "text": [
      "[I 2025-08-20 22:20:40,071] Trial 201 finished with value: 1.0013990346973078 and parameters: {'year_start': 2019, 'idxAfterPrediction': 4, 'LoadupSamples_time_inc_factor': 61, 'timesteps': 45, 'LSTM_learning_rate': 7.207002059725141e-05, 'LSTM_dropout': 0.06029211271706702, 'is_single_feature': False}. Best is trial 31 with value: 1.0049487769776475.\n"
     ]
    },
    {
     "name": "stdout",
     "output_type": "stream",
     "text": [
      "2025-08-20 22:20:40,071 - Trial 201 finished with value: 1.0013990346973078 and parameters: {'year_start': 2019, 'idxAfterPrediction': 4, 'LoadupSamples_time_inc_factor': 61, 'timesteps': 45, 'LSTM_learning_rate': 7.207002059725141e-05, 'LSTM_dropout': 0.06029211271706702, 'is_single_feature': False}. Best is trial 31 with value: 1.0049487769776475.\n",
      "2025-08-20 22:20:50,713 - Non-finite/too-large values in train y time: 48 samples.\n",
      "2025-08-20 22:20:50,718 - Removing 48 samples from training data.\n"
     ]
    },
    {
     "name": "stderr",
     "output_type": "stream",
     "text": [
      "Epochs:   0%|          | 0/2 [00:00<?, ?it/s]"
     ]
    },
    {
     "name": "stdout",
     "output_type": "stream",
     "text": [
      "2025-08-20 22:21:28,264 - Epoch 1/2 — Train RMSE: 0.5157 — Validation RMSE: 0.4037\n"
     ]
    },
    {
     "name": "stderr",
     "output_type": "stream",
     "text": [
      "Epochs:  50%|█████     | 1/2 [00:30<00:30, 30.43s/it]"
     ]
    },
    {
     "name": "stdout",
     "output_type": "stream",
     "text": [
      "2025-08-20 22:21:59,656 - Epoch 2/2 — Train RMSE: 0.4093 — Validation RMSE: 0.4014\n"
     ]
    },
    {
     "name": "stderr",
     "output_type": "stream",
     "text": [
      "Epochs: 100%|██████████| 2/2 [01:01<00:00, 30.91s/it]\n"
     ]
    },
    {
     "name": "stdout",
     "output_type": "stream",
     "text": [
      "2025-08-20 22:22:03,262 - Trial 202 with params: {'idxAfterPrediction': 4, 'timesteps': 40, 'target_option': 'last', 'LoadupSamples_time_scaling_stretch': True, 'LoadupSamples_time_inc_factor': 61, 'LSTM_units': 16, 'LSTM_num_layers': 1, 'LSTM_dropout': 0.07415057973017657, 'LSTM_recurrent_dropout': 0.001, 'LSTM_learning_rate': 8.718963113000887e-05, 'LSTM_optimizer': 'adam', 'LSTM_bidirectional': True, 'LSTM_batch_size': 4096, 'LSTM_epochs': 2, 'LSTM_l1': 0.001, 'LSTM_l2': 0.001, 'LSTM_inter_dropout': 0.001, 'LSTM_input_gaussian_noise': 0.001, 'LSTM_conv1d': True, 'LSTM_conv1d_kernel_size': 3, 'LSTM_loss': 'mse', 'year_start': 2019, 'is_single_feature': False}\n",
      "2025-08-20 22:22:03,262 -   q0: 0.9980\n",
      "2025-08-20 22:22:03,266 -   Duration0: 0:01:05.500278\n",
      "2025-08-20 22:22:03,267 -   Val RMSE0 adjusted: 0.0066\n",
      "2025-08-20 22:22:03,268 -   Mean all prediction: 1.0011\n",
      "2025-08-20 22:22:03,268 -   Mean above prediction: 1.0075\n",
      "2025-08-20 22:22:03,269 -   Mean below prediction: 0.9959\n",
      "2025-08-20 22:22:03,269 -   Quantile 0.99 for distance in mask above: 4619.43999999998\n",
      "2025-08-20 22:22:03,269 -   Quantile 0.99 for distance in mask below: 3917.0399999999786\n",
      "2025-08-20 22:22:03,269 -   Ratio for quantile-distance-to-length above: 0.0070\n",
      "2025-08-20 22:22:03,269 -   Ratio for quantile-distance-to-length below: 0.0060\n",
      "2025-08-20 22:22:03,273 -   Score: 1.0019\n"
     ]
    },
    {
     "name": "stderr",
     "output_type": "stream",
     "text": [
      "[I 2025-08-20 22:22:03,318] Trial 202 finished with value: 1.0018694054701742 and parameters: {'year_start': 2019, 'idxAfterPrediction': 4, 'LoadupSamples_time_inc_factor': 61, 'timesteps': 40, 'LSTM_learning_rate': 8.718963113000887e-05, 'LSTM_dropout': 0.07415057973017657, 'is_single_feature': False}. Best is trial 31 with value: 1.0049487769776475.\n"
     ]
    },
    {
     "name": "stdout",
     "output_type": "stream",
     "text": [
      "2025-08-20 22:22:03,318 - Trial 202 finished with value: 1.0018694054701742 and parameters: {'year_start': 2019, 'idxAfterPrediction': 4, 'LoadupSamples_time_inc_factor': 61, 'timesteps': 40, 'LSTM_learning_rate': 8.718963113000887e-05, 'LSTM_dropout': 0.07415057973017657, 'is_single_feature': False}. Best is trial 31 with value: 1.0049487769776475.\n",
      "2025-08-20 22:22:09,205 - Non-finite/too-large values in train y time: 48 samples.\n",
      "2025-08-20 22:22:09,205 - Removing 48 samples from training data.\n"
     ]
    },
    {
     "name": "stderr",
     "output_type": "stream",
     "text": [
      "Epochs:   0%|          | 0/2 [00:00<?, ?it/s]"
     ]
    },
    {
     "name": "stdout",
     "output_type": "stream",
     "text": [
      "2025-08-20 22:22:29,444 - Epoch 1/2 — Train RMSE: 0.4692 — Validation RMSE: 0.4016\n"
     ]
    },
    {
     "name": "stderr",
     "output_type": "stream",
     "text": [
      "Epochs:  50%|█████     | 1/2 [00:16<00:16, 16.02s/it]"
     ]
    },
    {
     "name": "stdout",
     "output_type": "stream",
     "text": [
      "2025-08-20 22:22:46,351 - Epoch 2/2 — Train RMSE: 0.4163 — Validation RMSE: 0.4017\n"
     ]
    },
    {
     "name": "stderr",
     "output_type": "stream",
     "text": [
      "Epochs: 100%|██████████| 2/2 [00:32<00:00, 16.46s/it]\n"
     ]
    },
    {
     "name": "stdout",
     "output_type": "stream",
     "text": [
      "2025-08-20 22:22:49,683 - Trial 203 with params: {'idxAfterPrediction': 4, 'timesteps': 45, 'target_option': 'last', 'LoadupSamples_time_scaling_stretch': True, 'LoadupSamples_time_inc_factor': 61, 'LSTM_units': 16, 'LSTM_num_layers': 1, 'LSTM_dropout': 0.05646090438851822, 'LSTM_recurrent_dropout': 0.001, 'LSTM_learning_rate': 0.0005195139273991121, 'LSTM_optimizer': 'adam', 'LSTM_bidirectional': True, 'LSTM_batch_size': 4096, 'LSTM_epochs': 2, 'LSTM_l1': 0.001, 'LSTM_l2': 0.001, 'LSTM_inter_dropout': 0.001, 'LSTM_input_gaussian_noise': 0.001, 'LSTM_conv1d': True, 'LSTM_conv1d_kernel_size': 3, 'LSTM_loss': 'mse', 'year_start': 2022, 'is_single_feature': False}\n",
      "2025-08-20 22:22:49,683 -   q0: 0.9980\n",
      "2025-08-20 22:22:49,685 -   Duration0: 0:00:36.318952\n",
      "2025-08-20 22:22:49,685 -   Val RMSE0 adjusted: 0.0066\n",
      "2025-08-20 22:22:49,685 -   Mean all prediction: 1.0011\n",
      "2025-08-20 22:22:49,685 -   Mean above prediction: 1.0118\n",
      "2025-08-20 22:22:49,688 -   Mean below prediction: 1.0034\n",
      "2025-08-20 22:22:49,689 -   Quantile 0.99 for distance in mask above: 4645.759999999993\n",
      "2025-08-20 22:22:49,689 -   Quantile 0.99 for distance in mask below: 4664.359999999997\n",
      "2025-08-20 22:22:49,689 -   Ratio for quantile-distance-to-length above: 0.0071\n",
      "2025-08-20 22:22:49,691 -   Ratio for quantile-distance-to-length below: 0.0071\n",
      "2025-08-20 22:22:49,692 -   Score: 1.0029\n"
     ]
    },
    {
     "name": "stderr",
     "output_type": "stream",
     "text": [
      "[I 2025-08-20 22:22:49,724] Trial 203 finished with value: 1.0029461964167659 and parameters: {'year_start': 2022, 'idxAfterPrediction': 4, 'LoadupSamples_time_inc_factor': 61, 'timesteps': 45, 'LSTM_learning_rate': 0.0005195139273991121, 'LSTM_dropout': 0.05646090438851822, 'is_single_feature': False}. Best is trial 31 with value: 1.0049487769776475.\n"
     ]
    },
    {
     "name": "stdout",
     "output_type": "stream",
     "text": [
      "2025-08-20 22:22:49,724 - Trial 203 finished with value: 1.0029461964167659 and parameters: {'year_start': 2022, 'idxAfterPrediction': 4, 'LoadupSamples_time_inc_factor': 61, 'timesteps': 45, 'LSTM_learning_rate': 0.0005195139273991121, 'LSTM_dropout': 0.05646090438851822, 'is_single_feature': False}. Best is trial 31 with value: 1.0049487769776475.\n",
      "2025-08-20 22:23:01,130 - Non-finite/too-large values in train y time: 48 samples.\n",
      "2025-08-20 22:23:01,135 - Removing 48 samples from training data.\n"
     ]
    },
    {
     "name": "stderr",
     "output_type": "stream",
     "text": [
      "Epochs:   0%|          | 0/2 [00:00<?, ?it/s]"
     ]
    },
    {
     "name": "stdout",
     "output_type": "stream",
     "text": [
      "2025-08-20 22:23:40,302 - Epoch 1/2 — Train RMSE: 0.4571 — Validation RMSE: 0.4108\n"
     ]
    },
    {
     "name": "stderr",
     "output_type": "stream",
     "text": [
      "Epochs:  50%|█████     | 1/2 [00:31<00:31, 31.49s/it]"
     ]
    },
    {
     "name": "stdout",
     "output_type": "stream",
     "text": [
      "2025-08-20 22:24:12,748 - Epoch 2/2 — Train RMSE: 0.4158 — Validation RMSE: 0.4080\n"
     ]
    },
    {
     "name": "stderr",
     "output_type": "stream",
     "text": [
      "Epochs: 100%|██████████| 2/2 [01:03<00:00, 31.97s/it]\n"
     ]
    },
    {
     "name": "stdout",
     "output_type": "stream",
     "text": [
      "2025-08-20 22:24:15,662 - Trial 204 with params: {'idxAfterPrediction': 4, 'timesteps': 40, 'target_option': 'last', 'LoadupSamples_time_scaling_stretch': True, 'LoadupSamples_time_inc_factor': 66, 'LSTM_units': 16, 'LSTM_num_layers': 1, 'LSTM_dropout': 0.06883121537656416, 'LSTM_recurrent_dropout': 0.001, 'LSTM_learning_rate': 5.6456309359360275e-05, 'LSTM_optimizer': 'adam', 'LSTM_bidirectional': True, 'LSTM_batch_size': 4096, 'LSTM_epochs': 2, 'LSTM_l1': 0.001, 'LSTM_l2': 0.001, 'LSTM_inter_dropout': 0.001, 'LSTM_input_gaussian_noise': 0.001, 'LSTM_conv1d': True, 'LSTM_conv1d_kernel_size': 3, 'LSTM_loss': 'mse', 'year_start': 2019, 'is_single_feature': False}\n",
      "2025-08-20 22:24:15,664 -   q0: 0.9980\n",
      "2025-08-20 22:24:15,664 -   Duration0: 0:01:06.935291\n",
      "2025-08-20 22:24:15,664 -   Val RMSE0 adjusted: 0.0062\n",
      "2025-08-20 22:24:15,666 -   Mean all prediction: 1.0011\n",
      "2025-08-20 22:24:15,667 -   Mean above prediction: 1.0158\n",
      "2025-08-20 22:24:15,668 -   Mean below prediction: 1.0034\n",
      "2025-08-20 22:24:15,670 -   Quantile 0.99 for distance in mask above: 4873.819999999966\n",
      "2025-08-20 22:24:15,670 -   Quantile 0.99 for distance in mask below: 4576.159999999989\n",
      "2025-08-20 22:24:15,671 -   Ratio for quantile-distance-to-length above: 0.0074\n",
      "2025-08-20 22:24:15,672 -   Ratio for quantile-distance-to-length below: 0.0070\n",
      "2025-08-20 22:24:15,672 -   Score: 1.0039\n"
     ]
    },
    {
     "name": "stderr",
     "output_type": "stream",
     "text": [
      "[I 2025-08-20 22:24:15,737] Trial 204 finished with value: 1.0039255673453087 and parameters: {'year_start': 2019, 'idxAfterPrediction': 4, 'LoadupSamples_time_inc_factor': 66, 'timesteps': 40, 'LSTM_learning_rate': 5.6456309359360275e-05, 'LSTM_dropout': 0.06883121537656416, 'is_single_feature': False}. Best is trial 31 with value: 1.0049487769776475.\n"
     ]
    },
    {
     "name": "stdout",
     "output_type": "stream",
     "text": [
      "2025-08-20 22:24:15,737 - Trial 204 finished with value: 1.0039255673453087 and parameters: {'year_start': 2019, 'idxAfterPrediction': 4, 'LoadupSamples_time_inc_factor': 66, 'timesteps': 40, 'LSTM_learning_rate': 5.6456309359360275e-05, 'LSTM_dropout': 0.06883121537656416, 'is_single_feature': False}. Best is trial 31 with value: 1.0049487769776475.\n",
      "2025-08-20 22:24:26,920 - Non-finite/too-large values in train y time: 48 samples.\n",
      "2025-08-20 22:24:26,927 - Removing 48 samples from training data.\n"
     ]
    },
    {
     "name": "stderr",
     "output_type": "stream",
     "text": [
      "Epochs:   0%|          | 0/2 [00:00<?, ?it/s]"
     ]
    },
    {
     "name": "stdout",
     "output_type": "stream",
     "text": [
      "2025-08-20 22:25:06,616 - Epoch 1/2 — Train RMSE: 0.5203 — Validation RMSE: 0.4170\n"
     ]
    },
    {
     "name": "stderr",
     "output_type": "stream",
     "text": [
      "Epochs:  50%|█████     | 1/2 [00:32<00:32, 32.16s/it]"
     ]
    },
    {
     "name": "stdout",
     "output_type": "stream",
     "text": [
      "2025-08-20 22:25:38,575 - Epoch 2/2 — Train RMSE: 0.4175 — Validation RMSE: 0.4086\n"
     ]
    },
    {
     "name": "stderr",
     "output_type": "stream",
     "text": [
      "Epochs: 100%|██████████| 2/2 [01:04<00:00, 32.06s/it]\n"
     ]
    },
    {
     "name": "stdout",
     "output_type": "stream",
     "text": [
      "2025-08-20 22:25:41,981 - Trial 205 with params: {'idxAfterPrediction': 4, 'timesteps': 40, 'target_option': 'last', 'LoadupSamples_time_scaling_stretch': True, 'LoadupSamples_time_inc_factor': 66, 'LSTM_units': 16, 'LSTM_num_layers': 1, 'LSTM_dropout': 0.002547772551974962, 'LSTM_recurrent_dropout': 0.001, 'LSTM_learning_rate': 6.253214922786519e-05, 'LSTM_optimizer': 'adam', 'LSTM_bidirectional': True, 'LSTM_batch_size': 4096, 'LSTM_epochs': 2, 'LSTM_l1': 0.001, 'LSTM_l2': 0.001, 'LSTM_inter_dropout': 0.001, 'LSTM_input_gaussian_noise': 0.001, 'LSTM_conv1d': True, 'LSTM_conv1d_kernel_size': 3, 'LSTM_loss': 'mse', 'year_start': 2019, 'is_single_feature': False}\n",
      "2025-08-20 22:25:41,983 -   q0: 0.9980\n",
      "2025-08-20 22:25:41,984 -   Duration0: 0:01:07.639390\n",
      "2025-08-20 22:25:41,984 -   Val RMSE0 adjusted: 0.0062\n",
      "2025-08-20 22:25:41,984 -   Mean all prediction: 1.0011\n",
      "2025-08-20 22:25:41,984 -   Mean above prediction: 1.0063\n",
      "2025-08-20 22:25:41,984 -   Mean below prediction: 0.9956\n",
      "2025-08-20 22:25:41,988 -   Quantile 0.99 for distance in mask above: 5533.259999999986\n",
      "2025-08-20 22:25:41,988 -   Quantile 0.99 for distance in mask below: 3574.8999999999987\n",
      "2025-08-20 22:25:41,989 -   Ratio for quantile-distance-to-length above: 0.0084\n",
      "2025-08-20 22:25:41,990 -   Ratio for quantile-distance-to-length below: 0.0054\n",
      "2025-08-20 22:25:41,990 -   Score: 1.0016\n"
     ]
    },
    {
     "name": "stderr",
     "output_type": "stream",
     "text": [
      "[I 2025-08-20 22:25:42,034] Trial 205 finished with value: 1.0015774996758242 and parameters: {'year_start': 2019, 'idxAfterPrediction': 4, 'LoadupSamples_time_inc_factor': 66, 'timesteps': 40, 'LSTM_learning_rate': 6.253214922786519e-05, 'LSTM_dropout': 0.002547772551974962, 'is_single_feature': False}. Best is trial 31 with value: 1.0049487769776475.\n"
     ]
    },
    {
     "name": "stdout",
     "output_type": "stream",
     "text": [
      "2025-08-20 22:25:42,034 - Trial 205 finished with value: 1.0015774996758242 and parameters: {'year_start': 2019, 'idxAfterPrediction': 4, 'LoadupSamples_time_inc_factor': 66, 'timesteps': 40, 'LSTM_learning_rate': 6.253214922786519e-05, 'LSTM_dropout': 0.002547772551974962, 'is_single_feature': False}. Best is trial 31 with value: 1.0049487769776475.\n",
      "2025-08-20 22:25:53,367 - Non-finite/too-large values in train y time: 48 samples.\n",
      "2025-08-20 22:25:53,373 - Removing 48 samples from training data.\n"
     ]
    },
    {
     "name": "stderr",
     "output_type": "stream",
     "text": [
      "Epochs:   0%|          | 0/2 [00:00<?, ?it/s]"
     ]
    },
    {
     "name": "stdout",
     "output_type": "stream",
     "text": [
      "2025-08-20 22:26:42,275 - Epoch 1/2 — Train RMSE: 0.5917 — Validation RMSE: 0.4604\n"
     ]
    },
    {
     "name": "stderr",
     "output_type": "stream",
     "text": [
      "Epochs:  50%|█████     | 1/2 [00:33<00:33, 33.42s/it]"
     ]
    },
    {
     "name": "stdout",
     "output_type": "stream",
     "text": [
      "2025-08-20 22:27:15,696 - Epoch 2/2 — Train RMSE: 0.4310 — Validation RMSE: 0.4088\n"
     ]
    },
    {
     "name": "stderr",
     "output_type": "stream",
     "text": [
      "Epochs: 100%|██████████| 2/2 [01:06<00:00, 33.42s/it]\n"
     ]
    },
    {
     "name": "stdout",
     "output_type": "stream",
     "text": [
      "2025-08-20 22:27:19,613 - Trial 206 with params: {'idxAfterPrediction': 4, 'timesteps': 90, 'target_option': 'last', 'LoadupSamples_time_scaling_stretch': True, 'LoadupSamples_time_inc_factor': 66, 'LSTM_units': 16, 'LSTM_num_layers': 1, 'LSTM_dropout': 0.07430918233548234, 'LSTM_recurrent_dropout': 0.001, 'LSTM_learning_rate': 5.5761710259284584e-05, 'LSTM_optimizer': 'adam', 'LSTM_bidirectional': True, 'LSTM_batch_size': 4096, 'LSTM_epochs': 2, 'LSTM_l1': 0.001, 'LSTM_l2': 0.001, 'LSTM_inter_dropout': 0.001, 'LSTM_input_gaussian_noise': 0.001, 'LSTM_conv1d': True, 'LSTM_conv1d_kernel_size': 3, 'LSTM_loss': 'mse', 'year_start': 2019, 'is_single_feature': False}\n",
      "2025-08-20 22:27:19,614 -   q0: 0.9980\n",
      "2025-08-20 22:27:19,614 -   Duration0: 0:01:10.974837\n",
      "2025-08-20 22:27:19,615 -   Val RMSE0 adjusted: 0.0062\n",
      "2025-08-20 22:27:19,616 -   Mean all prediction: 1.0011\n",
      "2025-08-20 22:27:19,616 -   Mean above prediction: 1.0029\n",
      "2025-08-20 22:27:19,618 -   Mean below prediction: 0.9997\n",
      "2025-08-20 22:27:19,618 -   Quantile 0.99 for distance in mask above: 4623.2199999999775\n",
      "2025-08-20 22:27:19,619 -   Quantile 0.99 for distance in mask below: 3620.8599999999997\n",
      "2025-08-20 22:27:19,620 -   Ratio for quantile-distance-to-length above: 0.0070\n",
      "2025-08-20 22:27:19,620 -   Ratio for quantile-distance-to-length below: 0.0055\n",
      "2025-08-20 22:27:19,621 -   Score: 1.0007\n"
     ]
    },
    {
     "name": "stderr",
     "output_type": "stream",
     "text": [
      "[I 2025-08-20 22:27:19,704] Trial 206 finished with value: 1.0007274894747231 and parameters: {'year_start': 2019, 'idxAfterPrediction': 4, 'LoadupSamples_time_inc_factor': 66, 'timesteps': 90, 'LSTM_learning_rate': 5.5761710259284584e-05, 'LSTM_dropout': 0.07430918233548234, 'is_single_feature': False}. Best is trial 31 with value: 1.0049487769776475.\n"
     ]
    },
    {
     "name": "stdout",
     "output_type": "stream",
     "text": [
      "2025-08-20 22:27:19,704 - Trial 206 finished with value: 1.0007274894747231 and parameters: {'year_start': 2019, 'idxAfterPrediction': 4, 'LoadupSamples_time_inc_factor': 66, 'timesteps': 90, 'LSTM_learning_rate': 5.5761710259284584e-05, 'LSTM_dropout': 0.07430918233548234, 'is_single_feature': False}. Best is trial 31 with value: 1.0049487769776475.\n",
      "2025-08-20 22:27:30,729 - Non-finite/too-large values in train y time: 36 samples.\n",
      "2025-08-20 22:27:30,735 - Removing 36 samples from training data.\n"
     ]
    },
    {
     "name": "stderr",
     "output_type": "stream",
     "text": [
      "Epochs:   0%|          | 0/2 [00:00<?, ?it/s]"
     ]
    },
    {
     "name": "stdout",
     "output_type": "stream",
     "text": [
      "2025-08-20 22:28:09,131 - Epoch 1/2 — Train RMSE: 0.4876 — Validation RMSE: 0.4204\n"
     ]
    },
    {
     "name": "stderr",
     "output_type": "stream",
     "text": [
      "Epochs:  50%|█████     | 1/2 [00:31<00:31, 31.65s/it]"
     ]
    },
    {
     "name": "stdout",
     "output_type": "stream",
     "text": [
      "2025-08-20 22:28:38,205 - Epoch 2/2 — Train RMSE: 0.4182 — Validation RMSE: 0.4066\n"
     ]
    },
    {
     "name": "stderr",
     "output_type": "stream",
     "text": [
      "Epochs: 100%|██████████| 2/2 [01:00<00:00, 30.36s/it]\n"
     ]
    },
    {
     "name": "stdout",
     "output_type": "stream",
     "text": [
      "2025-08-20 22:28:41,622 - Trial 207 with params: {'idxAfterPrediction': 3, 'timesteps': 35, 'target_option': 'last', 'LoadupSamples_time_scaling_stretch': True, 'LoadupSamples_time_inc_factor': 76, 'LSTM_units': 16, 'LSTM_num_layers': 1, 'LSTM_dropout': 0.009295949800340065, 'LSTM_recurrent_dropout': 0.001, 'LSTM_learning_rate': 3.983710416777309e-05, 'LSTM_optimizer': 'adam', 'LSTM_bidirectional': True, 'LSTM_batch_size': 4096, 'LSTM_epochs': 2, 'LSTM_l1': 0.001, 'LSTM_l2': 0.001, 'LSTM_inter_dropout': 0.001, 'LSTM_input_gaussian_noise': 0.001, 'LSTM_conv1d': True, 'LSTM_conv1d_kernel_size': 3, 'LSTM_loss': 'mse', 'year_start': 2019, 'is_single_feature': False}\n",
      "2025-08-20 22:28:41,623 -   q0: 0.9980\n",
      "2025-08-20 22:28:41,623 -   Duration0: 0:01:04.237175\n",
      "2025-08-20 22:28:41,624 -   Val RMSE0 adjusted: 0.0053\n",
      "2025-08-20 22:28:41,624 -   Mean all prediction: 1.0007\n",
      "2025-08-20 22:28:41,624 -   Mean above prediction: 1.0050\n",
      "2025-08-20 22:28:41,624 -   Mean below prediction: 1.0058\n",
      "2025-08-20 22:28:41,624 -   Quantile 0.99 for distance in mask above: 4793.359999999952\n",
      "2025-08-20 22:28:41,624 -   Quantile 0.99 for distance in mask below: 4501.559999999985\n",
      "2025-08-20 22:28:41,624 -   Ratio for quantile-distance-to-length above: 0.0073\n",
      "2025-08-20 22:28:41,624 -   Ratio for quantile-distance-to-length below: 0.0068\n",
      "2025-08-20 22:28:41,624 -   Score: 1.0017\n"
     ]
    },
    {
     "name": "stderr",
     "output_type": "stream",
     "text": [
      "[I 2025-08-20 22:28:41,673] Trial 207 finished with value: 1.0016698702518116 and parameters: {'year_start': 2019, 'idxAfterPrediction': 3, 'LoadupSamples_time_inc_factor': 76, 'timesteps': 35, 'LSTM_learning_rate': 3.983710416777309e-05, 'LSTM_dropout': 0.009295949800340065, 'is_single_feature': False}. Best is trial 31 with value: 1.0049487769776475.\n"
     ]
    },
    {
     "name": "stdout",
     "output_type": "stream",
     "text": [
      "2025-08-20 22:28:41,673 - Trial 207 finished with value: 1.0016698702518116 and parameters: {'year_start': 2019, 'idxAfterPrediction': 3, 'LoadupSamples_time_inc_factor': 76, 'timesteps': 35, 'LSTM_learning_rate': 3.983710416777309e-05, 'LSTM_dropout': 0.009295949800340065, 'is_single_feature': False}. Best is trial 31 with value: 1.0049487769776475.\n",
      "2025-08-20 22:28:52,147 - Non-finite/too-large values in train y time: 36 samples.\n",
      "2025-08-20 22:28:52,147 - Removing 36 samples from training data.\n"
     ]
    },
    {
     "name": "stderr",
     "output_type": "stream",
     "text": [
      "Epochs:   0%|          | 0/2 [00:00<?, ?it/s]"
     ]
    },
    {
     "name": "stdout",
     "output_type": "stream",
     "text": [
      "2025-08-20 22:29:31,683 - Epoch 1/2 — Train RMSE: 0.4122 — Validation RMSE: 0.3970\n"
     ]
    },
    {
     "name": "stderr",
     "output_type": "stream",
     "text": [
      "Epochs:  50%|█████     | 1/2 [00:30<00:30, 30.92s/it]"
     ]
    },
    {
     "name": "stdout",
     "output_type": "stream",
     "text": [
      "2025-08-20 22:30:02,214 - Epoch 2/2 — Train RMSE: 0.4038 — Validation RMSE: 0.3949\n"
     ]
    },
    {
     "name": "stderr",
     "output_type": "stream",
     "text": [
      "Epochs: 100%|██████████| 2/2 [01:01<00:00, 30.72s/it]\n"
     ]
    },
    {
     "name": "stdout",
     "output_type": "stream",
     "text": [
      "2025-08-20 22:30:05,907 - Trial 208 with params: {'idxAfterPrediction': 3, 'timesteps': 50, 'target_option': 'last', 'LoadupSamples_time_scaling_stretch': True, 'LoadupSamples_time_inc_factor': 66, 'LSTM_units': 16, 'LSTM_num_layers': 1, 'LSTM_dropout': 0.06574439660803656, 'LSTM_recurrent_dropout': 0.001, 'LSTM_learning_rate': 0.001652353683733839, 'LSTM_optimizer': 'adam', 'LSTM_bidirectional': True, 'LSTM_batch_size': 4096, 'LSTM_epochs': 2, 'LSTM_l1': 0.001, 'LSTM_l2': 0.001, 'LSTM_inter_dropout': 0.001, 'LSTM_input_gaussian_noise': 0.001, 'LSTM_conv1d': True, 'LSTM_conv1d_kernel_size': 3, 'LSTM_loss': 'mse', 'year_start': 2019, 'is_single_feature': False}\n",
      "2025-08-20 22:30:05,907 -   q0: 0.9980\n",
      "2025-08-20 22:30:05,907 -   Duration0: 0:01:05.287900\n",
      "2025-08-20 22:30:05,907 -   Val RMSE0 adjusted: 0.0060\n",
      "2025-08-20 22:30:05,907 -   Mean all prediction: 1.0007\n",
      "2025-08-20 22:30:05,907 -   Mean above prediction: 0.9994\n",
      "2025-08-20 22:30:05,907 -   Mean below prediction: 1.0061\n",
      "2025-08-20 22:30:05,907 -   Quantile 0.99 for distance in mask above: 4071.0599999999977\n",
      "2025-08-20 22:30:05,907 -   Quantile 0.99 for distance in mask below: 4356.459999999989\n",
      "2025-08-20 22:30:05,907 -   Ratio for quantile-distance-to-length above: 0.0062\n",
      "2025-08-20 22:30:05,907 -   Ratio for quantile-distance-to-length below: 0.0066\n",
      "2025-08-20 22:30:05,907 -   Score: 0.9998\n"
     ]
    },
    {
     "name": "stderr",
     "output_type": "stream",
     "text": [
      "[I 2025-08-20 22:30:05,967] Trial 208 finished with value: 0.9997963581103784 and parameters: {'year_start': 2019, 'idxAfterPrediction': 3, 'LoadupSamples_time_inc_factor': 66, 'timesteps': 50, 'LSTM_learning_rate': 0.001652353683733839, 'LSTM_dropout': 0.06574439660803656, 'is_single_feature': False}. Best is trial 31 with value: 1.0049487769776475.\n"
     ]
    },
    {
     "name": "stdout",
     "output_type": "stream",
     "text": [
      "2025-08-20 22:30:05,967 - Trial 208 finished with value: 0.9997963581103784 and parameters: {'year_start': 2019, 'idxAfterPrediction': 3, 'LoadupSamples_time_inc_factor': 66, 'timesteps': 50, 'LSTM_learning_rate': 0.001652353683733839, 'LSTM_dropout': 0.06574439660803656, 'is_single_feature': False}. Best is trial 31 with value: 1.0049487769776475.\n",
      "2025-08-20 22:30:16,549 - Non-finite/too-large values in train y time: 36 samples.\n",
      "2025-08-20 22:30:16,549 - Removing 36 samples from training data.\n"
     ]
    },
    {
     "name": "stderr",
     "output_type": "stream",
     "text": [
      "Epochs:   0%|          | 0/2 [00:00<?, ?it/s]"
     ]
    },
    {
     "name": "stdout",
     "output_type": "stream",
     "text": [
      "2025-08-20 22:30:51,889 - Epoch 1/2 — Train RMSE: 0.7478 — Validation RMSE: 0.6702\n"
     ]
    },
    {
     "name": "stderr",
     "output_type": "stream",
     "text": [
      "Epochs:  50%|█████     | 1/2 [00:29<00:29, 29.53s/it]"
     ]
    },
    {
     "name": "stdout",
     "output_type": "stream",
     "text": [
      "2025-08-20 22:31:22,352 - Epoch 2/2 — Train RMSE: 0.6258 — Validation RMSE: 0.5267\n"
     ]
    },
    {
     "name": "stderr",
     "output_type": "stream",
     "text": [
      "Epochs: 100%|██████████| 2/2 [00:59<00:00, 30.00s/it]\n"
     ]
    },
    {
     "name": "stdout",
     "output_type": "stream",
     "text": [
      "2025-08-20 22:31:25,796 - Trial 209 with params: {'idxAfterPrediction': 3, 'timesteps': 30, 'target_option': 'last', 'LoadupSamples_time_scaling_stretch': True, 'LoadupSamples_time_inc_factor': 66, 'LSTM_units': 16, 'LSTM_num_layers': 1, 'LSTM_dropout': 0.08500774090819695, 'LSTM_recurrent_dropout': 0.001, 'LSTM_learning_rate': 2.1134482329070097e-05, 'LSTM_optimizer': 'adam', 'LSTM_bidirectional': True, 'LSTM_batch_size': 4096, 'LSTM_epochs': 2, 'LSTM_l1': 0.001, 'LSTM_l2': 0.001, 'LSTM_inter_dropout': 0.001, 'LSTM_input_gaussian_noise': 0.001, 'LSTM_conv1d': True, 'LSTM_conv1d_kernel_size': 3, 'LSTM_loss': 'mse', 'year_start': 2019, 'is_single_feature': False}\n",
      "2025-08-20 22:31:25,797 -   q0: 0.9980\n",
      "2025-08-20 22:31:25,797 -   Duration0: 0:01:03.497262\n",
      "2025-08-20 22:31:25,798 -   Val RMSE0 adjusted: 0.0080\n",
      "2025-08-20 22:31:25,799 -   Mean all prediction: 1.0007\n",
      "2025-08-20 22:31:25,799 -   Mean above prediction: 1.0074\n",
      "2025-08-20 22:31:25,801 -   Mean below prediction: 1.0009\n",
      "2025-08-20 22:31:25,801 -   Quantile 0.99 for distance in mask above: 4369.759999999968\n",
      "2025-08-20 22:31:25,802 -   Quantile 0.99 for distance in mask below: 3674.979999999996\n",
      "2025-08-20 22:31:25,802 -   Ratio for quantile-distance-to-length above: 0.0066\n",
      "2025-08-20 22:31:25,803 -   Ratio for quantile-distance-to-length below: 0.0056\n",
      "2025-08-20 22:31:25,803 -   Score: 1.0025\n"
     ]
    },
    {
     "name": "stderr",
     "output_type": "stream",
     "text": [
      "[I 2025-08-20 22:31:25,842] Trial 209 finished with value: 1.0024653483416313 and parameters: {'year_start': 2019, 'idxAfterPrediction': 3, 'LoadupSamples_time_inc_factor': 66, 'timesteps': 30, 'LSTM_learning_rate': 2.1134482329070097e-05, 'LSTM_dropout': 0.08500774090819695, 'is_single_feature': False}. Best is trial 31 with value: 1.0049487769776475.\n"
     ]
    },
    {
     "name": "stdout",
     "output_type": "stream",
     "text": [
      "2025-08-20 22:31:25,842 - Trial 209 finished with value: 1.0024653483416313 and parameters: {'year_start': 2019, 'idxAfterPrediction': 3, 'LoadupSamples_time_inc_factor': 66, 'timesteps': 30, 'LSTM_learning_rate': 2.1134482329070097e-05, 'LSTM_dropout': 0.08500774090819695, 'is_single_feature': False}. Best is trial 31 with value: 1.0049487769776475.\n",
      "2025-08-20 22:31:36,431 - Non-finite/too-large values in train y time: 36 samples.\n",
      "2025-08-20 22:31:36,435 - Removing 36 samples from training data.\n"
     ]
    },
    {
     "name": "stderr",
     "output_type": "stream",
     "text": [
      "Epochs:   0%|          | 0/2 [00:00<?, ?it/s]"
     ]
    },
    {
     "name": "stdout",
     "output_type": "stream",
     "text": [
      "2025-08-20 22:32:14,500 - Epoch 1/2 — Train RMSE: 0.4415 — Validation RMSE: 0.3947\n"
     ]
    },
    {
     "name": "stderr",
     "output_type": "stream",
     "text": [
      "Epochs:  50%|█████     | 1/2 [00:30<00:30, 30.87s/it]"
     ]
    },
    {
     "name": "stdout",
     "output_type": "stream",
     "text": [
      "2025-08-20 22:32:44,952 - Epoch 2/2 — Train RMSE: 0.4023 — Validation RMSE: 0.3944\n"
     ]
    },
    {
     "name": "stderr",
     "output_type": "stream",
     "text": [
      "Epochs: 100%|██████████| 2/2 [01:01<00:00, 30.66s/it]\n"
     ]
    },
    {
     "name": "stdout",
     "output_type": "stream",
     "text": [
      "2025-08-20 22:32:48,422 - Trial 210 with params: {'idxAfterPrediction': 3, 'timesteps': 40, 'target_option': 'last', 'LoadupSamples_time_scaling_stretch': True, 'LoadupSamples_time_inc_factor': 66, 'LSTM_units': 16, 'LSTM_num_layers': 1, 'LSTM_dropout': 0.05146677075125621, 'LSTM_recurrent_dropout': 0.001, 'LSTM_learning_rate': 0.00017047032359445767, 'LSTM_optimizer': 'adam', 'LSTM_bidirectional': True, 'LSTM_batch_size': 4096, 'LSTM_epochs': 2, 'LSTM_l1': 0.001, 'LSTM_l2': 0.001, 'LSTM_inter_dropout': 0.001, 'LSTM_input_gaussian_noise': 0.001, 'LSTM_conv1d': True, 'LSTM_conv1d_kernel_size': 3, 'LSTM_loss': 'mse', 'year_start': 2019, 'is_single_feature': False}\n",
      "2025-08-20 22:32:48,422 -   q0: 0.9980\n",
      "2025-08-20 22:32:48,422 -   Duration0: 0:01:04.903317\n",
      "2025-08-20 22:32:48,422 -   Val RMSE0 adjusted: 0.0060\n",
      "2025-08-20 22:32:48,422 -   Mean all prediction: 1.0007\n",
      "2025-08-20 22:32:48,422 -   Mean above prediction: 0.9989\n",
      "2025-08-20 22:32:48,438 -   Mean below prediction: 1.0020\n",
      "2025-08-20 22:32:48,438 -   Quantile 0.99 for distance in mask above: 5248.879999999994\n",
      "2025-08-20 22:32:48,438 -   Quantile 0.99 for distance in mask below: 3574.8999999999987\n",
      "2025-08-20 22:32:48,438 -   Ratio for quantile-distance-to-length above: 0.0080\n",
      "2025-08-20 22:32:48,438 -   Ratio for quantile-distance-to-length below: 0.0054\n",
      "2025-08-20 22:32:48,438 -   Score: 0.9996\n"
     ]
    },
    {
     "name": "stderr",
     "output_type": "stream",
     "text": [
      "[I 2025-08-20 22:32:48,487] Trial 210 finished with value: 0.9996190567805951 and parameters: {'year_start': 2019, 'idxAfterPrediction': 3, 'LoadupSamples_time_inc_factor': 66, 'timesteps': 40, 'LSTM_learning_rate': 0.00017047032359445767, 'LSTM_dropout': 0.05146677075125621, 'is_single_feature': False}. Best is trial 31 with value: 1.0049487769776475.\n"
     ]
    },
    {
     "name": "stdout",
     "output_type": "stream",
     "text": [
      "2025-08-20 22:32:48,487 - Trial 210 finished with value: 0.9996190567805951 and parameters: {'year_start': 2019, 'idxAfterPrediction': 3, 'LoadupSamples_time_inc_factor': 66, 'timesteps': 40, 'LSTM_learning_rate': 0.00017047032359445767, 'LSTM_dropout': 0.05146677075125621, 'is_single_feature': False}. Best is trial 31 with value: 1.0049487769776475.\n",
      "2025-08-20 22:32:54,184 - Non-finite/too-large values in train y time: 48 samples.\n",
      "2025-08-20 22:32:54,187 - Removing 48 samples from training data.\n"
     ]
    },
    {
     "name": "stderr",
     "output_type": "stream",
     "text": [
      "Epochs:   0%|          | 0/2 [00:00<?, ?it/s]"
     ]
    },
    {
     "name": "stdout",
     "output_type": "stream",
     "text": [
      "2025-08-20 22:33:13,516 - Epoch 1/2 — Train RMSE: 0.4396 — Validation RMSE: 0.4080\n"
     ]
    },
    {
     "name": "stderr",
     "output_type": "stream",
     "text": [
      "Epochs:  50%|█████     | 1/2 [00:15<00:15, 15.14s/it]"
     ]
    },
    {
     "name": "stdout",
     "output_type": "stream",
     "text": [
      "2025-08-20 22:33:28,965 - Epoch 2/2 — Train RMSE: 0.4145 — Validation RMSE: 0.4024\n"
     ]
    },
    {
     "name": "stderr",
     "output_type": "stream",
     "text": [
      "Epochs: 100%|██████████| 2/2 [00:30<00:00, 15.29s/it]\n"
     ]
    },
    {
     "name": "stdout",
     "output_type": "stream",
     "text": [
      "2025-08-20 22:33:32,308 - Trial 211 with params: {'idxAfterPrediction': 4, 'timesteps': 45, 'target_option': 'last', 'LoadupSamples_time_scaling_stretch': True, 'LoadupSamples_time_inc_factor': 61, 'LSTM_units': 16, 'LSTM_num_layers': 1, 'LSTM_dropout': 0.06267686291186685, 'LSTM_recurrent_dropout': 0.001, 'LSTM_learning_rate': 0.00011490358030182108, 'LSTM_optimizer': 'adam', 'LSTM_bidirectional': True, 'LSTM_batch_size': 4096, 'LSTM_epochs': 2, 'LSTM_l1': 0.001, 'LSTM_l2': 0.001, 'LSTM_inter_dropout': 0.001, 'LSTM_input_gaussian_noise': 0.001, 'LSTM_conv1d': True, 'LSTM_conv1d_kernel_size': 3, 'LSTM_loss': 'mse', 'year_start': 2022, 'is_single_feature': False}\n",
      "2025-08-20 22:33:32,308 -   q0: 0.9980\n",
      "2025-08-20 22:33:32,308 -   Duration0: 0:00:33.995017\n",
      "2025-08-20 22:33:32,308 -   Val RMSE0 adjusted: 0.0066\n",
      "2025-08-20 22:33:32,308 -   Mean all prediction: 1.0011\n",
      "2025-08-20 22:33:32,308 -   Mean above prediction: 1.0043\n",
      "2025-08-20 22:33:32,308 -   Mean below prediction: 0.9923\n",
      "2025-08-20 22:33:32,308 -   Quantile 0.99 for distance in mask above: 5689.27999999997\n",
      "2025-08-20 22:33:32,308 -   Quantile 0.99 for distance in mask below: 3601.939999999987\n",
      "2025-08-20 22:33:32,308 -   Ratio for quantile-distance-to-length above: 0.0086\n",
      "2025-08-20 22:33:32,308 -   Ratio for quantile-distance-to-length below: 0.0055\n",
      "2025-08-20 22:33:32,308 -   Score: 1.0011\n"
     ]
    },
    {
     "name": "stderr",
     "output_type": "stream",
     "text": [
      "[I 2025-08-20 22:33:32,343] Trial 211 finished with value: 1.0010798870701643 and parameters: {'year_start': 2022, 'idxAfterPrediction': 4, 'LoadupSamples_time_inc_factor': 61, 'timesteps': 45, 'LSTM_learning_rate': 0.00011490358030182108, 'LSTM_dropout': 0.06267686291186685, 'is_single_feature': False}. Best is trial 31 with value: 1.0049487769776475.\n"
     ]
    },
    {
     "name": "stdout",
     "output_type": "stream",
     "text": [
      "2025-08-20 22:33:32,343 - Trial 211 finished with value: 1.0010798870701643 and parameters: {'year_start': 2022, 'idxAfterPrediction': 4, 'LoadupSamples_time_inc_factor': 61, 'timesteps': 45, 'LSTM_learning_rate': 0.00011490358030182108, 'LSTM_dropout': 0.06267686291186685, 'is_single_feature': False}. Best is trial 31 with value: 1.0049487769776475.\n",
      "2025-08-20 22:33:44,181 - Non-finite/too-large values in train y time: 48 samples.\n",
      "2025-08-20 22:33:44,188 - Removing 48 samples from training data.\n"
     ]
    },
    {
     "name": "stderr",
     "output_type": "stream",
     "text": [
      "Epochs:   0%|          | 0/2 [00:00<?, ?it/s]"
     ]
    },
    {
     "name": "stdout",
     "output_type": "stream",
     "text": [
      "2025-08-20 22:34:32,068 - Epoch 1/2 — Train RMSE: 0.5291 — Validation RMSE: 0.3950\n"
     ]
    },
    {
     "name": "stderr",
     "output_type": "stream",
     "text": [
      "Epochs:  50%|█████     | 1/2 [00:32<00:32, 32.28s/it]"
     ]
    },
    {
     "name": "stdout",
     "output_type": "stream",
     "text": [
      "2025-08-20 22:35:04,138 - Epoch 2/2 — Train RMSE: 0.4027 — Validation RMSE: 0.3940\n"
     ]
    },
    {
     "name": "stderr",
     "output_type": "stream",
     "text": [
      "Epochs: 100%|██████████| 2/2 [01:04<00:00, 32.17s/it]\n"
     ]
    },
    {
     "name": "stdout",
     "output_type": "stream",
     "text": [
      "2025-08-20 22:35:07,896 - Trial 212 with params: {'idxAfterPrediction': 4, 'timesteps': 90, 'target_option': 'last', 'LoadupSamples_time_scaling_stretch': True, 'LoadupSamples_time_inc_factor': 56, 'LSTM_units': 16, 'LSTM_num_layers': 1, 'LSTM_dropout': 0.0653869412690813, 'LSTM_recurrent_dropout': 0.001, 'LSTM_learning_rate': 8.165394682240929e-05, 'LSTM_optimizer': 'adam', 'LSTM_bidirectional': True, 'LSTM_batch_size': 4096, 'LSTM_epochs': 2, 'LSTM_l1': 0.001, 'LSTM_l2': 0.001, 'LSTM_inter_dropout': 0.001, 'LSTM_input_gaussian_noise': 0.001, 'LSTM_conv1d': True, 'LSTM_conv1d_kernel_size': 3, 'LSTM_loss': 'mse', 'year_start': 2019, 'is_single_feature': False}\n",
      "2025-08-20 22:35:07,896 -   q0: 0.9980\n",
      "2025-08-20 22:35:07,896 -   Duration0: 0:01:08.367837\n",
      "2025-08-20 22:35:07,896 -   Val RMSE0 adjusted: 0.0070\n",
      "2025-08-20 22:35:07,896 -   Mean all prediction: 1.0011\n",
      "2025-08-20 22:35:07,896 -   Mean above prediction: 1.0162\n",
      "2025-08-20 22:35:07,896 -   Mean below prediction: 1.0024\n",
      "2025-08-20 22:35:07,896 -   Quantile 0.99 for distance in mask above: 4877.739999999974\n",
      "2025-08-20 22:35:07,896 -   Quantile 0.99 for distance in mask below: 4408.319999999999\n",
      "2025-08-20 22:35:07,896 -   Ratio for quantile-distance-to-length above: 0.0074\n",
      "2025-08-20 22:35:07,896 -   Ratio for quantile-distance-to-length below: 0.0067\n",
      "2025-08-20 22:35:07,896 -   Score: 1.0040\n"
     ]
    },
    {
     "name": "stderr",
     "output_type": "stream",
     "text": [
      "[I 2025-08-20 22:35:07,983] Trial 212 finished with value: 1.004019021177776 and parameters: {'year_start': 2019, 'idxAfterPrediction': 4, 'LoadupSamples_time_inc_factor': 56, 'timesteps': 90, 'LSTM_learning_rate': 8.165394682240929e-05, 'LSTM_dropout': 0.0653869412690813, 'is_single_feature': False}. Best is trial 31 with value: 1.0049487769776475.\n"
     ]
    },
    {
     "name": "stdout",
     "output_type": "stream",
     "text": [
      "2025-08-20 22:35:07,983 - Trial 212 finished with value: 1.004019021177776 and parameters: {'year_start': 2019, 'idxAfterPrediction': 4, 'LoadupSamples_time_inc_factor': 56, 'timesteps': 90, 'LSTM_learning_rate': 8.165394682240929e-05, 'LSTM_dropout': 0.0653869412690813, 'is_single_feature': False}. Best is trial 31 with value: 1.0049487769776475.\n",
      "2025-08-20 22:35:19,020 - Non-finite/too-large values in train y time: 48 samples.\n",
      "2025-08-20 22:35:19,037 - Removing 48 samples from training data.\n"
     ]
    },
    {
     "name": "stderr",
     "output_type": "stream",
     "text": [
      "Epochs:   0%|          | 0/2 [00:00<?, ?it/s]"
     ]
    },
    {
     "name": "stdout",
     "output_type": "stream",
     "text": [
      "2025-08-20 22:36:04,369 - Epoch 1/2 — Train RMSE: 0.4234 — Validation RMSE: 0.3946\n"
     ]
    },
    {
     "name": "stderr",
     "output_type": "stream",
     "text": [
      "Epochs:  50%|█████     | 1/2 [00:31<00:31, 31.40s/it]"
     ]
    },
    {
     "name": "stdout",
     "output_type": "stream",
     "text": [
      "2025-08-20 22:36:35,854 - Epoch 2/2 — Train RMSE: 0.4019 — Validation RMSE: 0.3938\n"
     ]
    },
    {
     "name": "stderr",
     "output_type": "stream",
     "text": [
      "Epochs: 100%|██████████| 2/2 [01:02<00:00, 31.44s/it]\n"
     ]
    },
    {
     "name": "stdout",
     "output_type": "stream",
     "text": [
      "2025-08-20 22:36:39,511 - Trial 213 with params: {'idxAfterPrediction': 4, 'timesteps': 85, 'target_option': 'last', 'LoadupSamples_time_scaling_stretch': True, 'LoadupSamples_time_inc_factor': 56, 'LSTM_units': 16, 'LSTM_num_layers': 1, 'LSTM_dropout': 0.06988546850692265, 'LSTM_recurrent_dropout': 0.001, 'LSTM_learning_rate': 7.792801892343041e-05, 'LSTM_optimizer': 'adam', 'LSTM_bidirectional': True, 'LSTM_batch_size': 4096, 'LSTM_epochs': 2, 'LSTM_l1': 0.001, 'LSTM_l2': 0.001, 'LSTM_inter_dropout': 0.001, 'LSTM_input_gaussian_noise': 0.001, 'LSTM_conv1d': True, 'LSTM_conv1d_kernel_size': 3, 'LSTM_loss': 'mse', 'year_start': 2019, 'is_single_feature': False}\n",
      "2025-08-20 22:36:39,512 -   q0: 0.9980\n",
      "2025-08-20 22:36:39,512 -   Duration0: 0:01:06.808984\n",
      "2025-08-20 22:36:39,512 -   Val RMSE0 adjusted: 0.0070\n",
      "2025-08-20 22:36:39,515 -   Mean all prediction: 1.0011\n",
      "2025-08-20 22:36:39,515 -   Mean above prediction: 1.0151\n",
      "2025-08-20 22:36:39,515 -   Mean below prediction: 1.0017\n",
      "2025-08-20 22:36:39,515 -   Quantile 0.99 for distance in mask above: 5259.719999999995\n",
      "2025-08-20 22:36:39,515 -   Quantile 0.99 for distance in mask below: 4064.2999999999993\n",
      "2025-08-20 22:36:39,515 -   Ratio for quantile-distance-to-length above: 0.0080\n",
      "2025-08-20 22:36:39,515 -   Ratio for quantile-distance-to-length below: 0.0062\n",
      "2025-08-20 22:36:39,515 -   Score: 1.0037\n"
     ]
    },
    {
     "name": "stderr",
     "output_type": "stream",
     "text": [
      "[I 2025-08-20 22:36:39,594] Trial 213 finished with value: 1.0037460239299656 and parameters: {'year_start': 2019, 'idxAfterPrediction': 4, 'LoadupSamples_time_inc_factor': 56, 'timesteps': 85, 'LSTM_learning_rate': 7.792801892343041e-05, 'LSTM_dropout': 0.06988546850692265, 'is_single_feature': False}. Best is trial 31 with value: 1.0049487769776475.\n"
     ]
    },
    {
     "name": "stdout",
     "output_type": "stream",
     "text": [
      "2025-08-20 22:36:39,594 - Trial 213 finished with value: 1.0037460239299656 and parameters: {'year_start': 2019, 'idxAfterPrediction': 4, 'LoadupSamples_time_inc_factor': 56, 'timesteps': 85, 'LSTM_learning_rate': 7.792801892343041e-05, 'LSTM_dropout': 0.06988546850692265, 'is_single_feature': False}. Best is trial 31 with value: 1.0049487769776475.\n",
      "2025-08-20 22:36:50,419 - Non-finite/too-large values in train y time: 48 samples.\n",
      "2025-08-20 22:36:50,419 - Removing 48 samples from training data.\n"
     ]
    },
    {
     "name": "stderr",
     "output_type": "stream",
     "text": [
      "Epochs:   0%|          | 0/2 [00:00<?, ?it/s]"
     ]
    },
    {
     "name": "stdout",
     "output_type": "stream",
     "text": [
      "2025-08-20 22:37:37,454 - Epoch 1/2 — Train RMSE: 0.5664 — Validation RMSE: 0.3950\n"
     ]
    },
    {
     "name": "stderr",
     "output_type": "stream",
     "text": [
      "Epochs:  50%|█████     | 1/2 [00:32<00:32, 32.20s/it]"
     ]
    },
    {
     "name": "stdout",
     "output_type": "stream",
     "text": [
      "2025-08-20 22:38:09,524 - Epoch 2/2 — Train RMSE: 0.4030 — Validation RMSE: 0.3943\n"
     ]
    },
    {
     "name": "stderr",
     "output_type": "stream",
     "text": [
      "Epochs: 100%|██████████| 2/2 [01:04<00:00, 32.13s/it]\n"
     ]
    },
    {
     "name": "stdout",
     "output_type": "stream",
     "text": [
      "2025-08-20 22:38:13,400 - Trial 214 with params: {'idxAfterPrediction': 4, 'timesteps': 90, 'target_option': 'last', 'LoadupSamples_time_scaling_stretch': True, 'LoadupSamples_time_inc_factor': 56, 'LSTM_units': 16, 'LSTM_num_layers': 1, 'LSTM_dropout': 0.057093350615377625, 'LSTM_recurrent_dropout': 0.001, 'LSTM_learning_rate': 9.408346163599182e-05, 'LSTM_optimizer': 'adam', 'LSTM_bidirectional': True, 'LSTM_batch_size': 4096, 'LSTM_epochs': 2, 'LSTM_l1': 0.001, 'LSTM_l2': 0.001, 'LSTM_inter_dropout': 0.001, 'LSTM_input_gaussian_noise': 0.001, 'LSTM_conv1d': True, 'LSTM_conv1d_kernel_size': 3, 'LSTM_loss': 'mse', 'year_start': 2019, 'is_single_feature': False}\n",
      "2025-08-20 22:38:13,401 -   q0: 0.9980\n",
      "2025-08-20 22:38:13,401 -   Duration0: 0:01:08.366032\n",
      "2025-08-20 22:38:13,401 -   Val RMSE0 adjusted: 0.0070\n",
      "2025-08-20 22:38:13,403 -   Mean all prediction: 1.0011\n",
      "2025-08-20 22:38:13,403 -   Mean above prediction: 1.0013\n",
      "2025-08-20 22:38:13,403 -   Mean below prediction: 0.9991\n",
      "2025-08-20 22:38:13,403 -   Quantile 0.99 for distance in mask above: 4279.619999999998\n",
      "2025-08-20 22:38:13,403 -   Quantile 0.99 for distance in mask below: 3836.99999999998\n",
      "2025-08-20 22:38:13,403 -   Ratio for quantile-distance-to-length above: 0.0065\n",
      "2025-08-20 22:38:13,403 -   Ratio for quantile-distance-to-length below: 0.0058\n",
      "2025-08-20 22:38:13,403 -   Score: 1.0003\n"
     ]
    },
    {
     "name": "stderr",
     "output_type": "stream",
     "text": [
      "[I 2025-08-20 22:38:13,482] Trial 214 finished with value: 1.000328740536811 and parameters: {'year_start': 2019, 'idxAfterPrediction': 4, 'LoadupSamples_time_inc_factor': 56, 'timesteps': 90, 'LSTM_learning_rate': 9.408346163599182e-05, 'LSTM_dropout': 0.057093350615377625, 'is_single_feature': False}. Best is trial 31 with value: 1.0049487769776475.\n"
     ]
    },
    {
     "name": "stdout",
     "output_type": "stream",
     "text": [
      "2025-08-20 22:38:13,482 - Trial 214 finished with value: 1.000328740536811 and parameters: {'year_start': 2019, 'idxAfterPrediction': 4, 'LoadupSamples_time_inc_factor': 56, 'timesteps': 90, 'LSTM_learning_rate': 9.408346163599182e-05, 'LSTM_dropout': 0.057093350615377625, 'is_single_feature': False}. Best is trial 31 with value: 1.0049487769776475.\n",
      "2025-08-20 22:38:24,407 - Non-finite/too-large values in train y time: 48 samples.\n",
      "2025-08-20 22:38:24,412 - Removing 48 samples from training data.\n"
     ]
    },
    {
     "name": "stderr",
     "output_type": "stream",
     "text": [
      "Epochs:   0%|          | 0/2 [00:00<?, ?it/s]"
     ]
    },
    {
     "name": "stdout",
     "output_type": "stream",
     "text": [
      "2025-08-20 22:39:11,533 - Epoch 1/2 — Train RMSE: 0.4597 — Validation RMSE: 0.3904\n"
     ]
    },
    {
     "name": "stderr",
     "output_type": "stream",
     "text": [
      "Epochs:  50%|█████     | 1/2 [00:32<00:32, 32.31s/it]"
     ]
    },
    {
     "name": "stdout",
     "output_type": "stream",
     "text": [
      "2025-08-20 22:39:43,326 - Epoch 2/2 — Train RMSE: 0.3953 — Validation RMSE: 0.3853\n"
     ]
    },
    {
     "name": "stderr",
     "output_type": "stream",
     "text": [
      "Epochs: 100%|██████████| 2/2 [01:04<00:00, 32.05s/it]\n"
     ]
    },
    {
     "name": "stdout",
     "output_type": "stream",
     "text": [
      "2025-08-20 22:39:47,253 - Trial 215 with params: {'idxAfterPrediction': 4, 'timesteps': 90, 'target_option': 'last', 'LoadupSamples_time_scaling_stretch': True, 'LoadupSamples_time_inc_factor': 51, 'LSTM_units': 16, 'LSTM_num_layers': 1, 'LSTM_dropout': 0.07844485621211991, 'LSTM_recurrent_dropout': 0.001, 'LSTM_learning_rate': 6.06540542915584e-05, 'LSTM_optimizer': 'adam', 'LSTM_bidirectional': True, 'LSTM_batch_size': 4096, 'LSTM_epochs': 2, 'LSTM_l1': 0.001, 'LSTM_l2': 0.001, 'LSTM_inter_dropout': 0.001, 'LSTM_input_gaussian_noise': 0.001, 'LSTM_conv1d': True, 'LSTM_conv1d_kernel_size': 3, 'LSTM_loss': 'mse', 'year_start': 2019, 'is_single_feature': False}\n",
      "2025-08-20 22:39:47,253 -   q0: 0.9980\n",
      "2025-08-20 22:39:47,253 -   Duration0: 0:01:08.228919\n",
      "2025-08-20 22:39:47,253 -   Val RMSE0 adjusted: 0.0076\n",
      "2025-08-20 22:39:47,253 -   Mean all prediction: 1.0011\n",
      "2025-08-20 22:39:47,268 -   Mean above prediction: 1.0079\n",
      "2025-08-20 22:39:47,269 -   Mean below prediction: 1.0026\n",
      "2025-08-20 22:39:47,269 -   Quantile 0.99 for distance in mask above: 4645.759999999993\n",
      "2025-08-20 22:39:47,269 -   Quantile 0.99 for distance in mask below: 4291.139999999985\n",
      "2025-08-20 22:39:47,269 -   Ratio for quantile-distance-to-length above: 0.0071\n",
      "2025-08-20 22:39:47,269 -   Ratio for quantile-distance-to-length below: 0.0065\n",
      "2025-08-20 22:39:47,269 -   Score: 1.0020\n"
     ]
    },
    {
     "name": "stderr",
     "output_type": "stream",
     "text": [
      "[I 2025-08-20 22:39:47,352] Trial 215 finished with value: 1.0019720781232895 and parameters: {'year_start': 2019, 'idxAfterPrediction': 4, 'LoadupSamples_time_inc_factor': 51, 'timesteps': 90, 'LSTM_learning_rate': 6.06540542915584e-05, 'LSTM_dropout': 0.07844485621211991, 'is_single_feature': False}. Best is trial 31 with value: 1.0049487769776475.\n"
     ]
    },
    {
     "name": "stdout",
     "output_type": "stream",
     "text": [
      "2025-08-20 22:39:47,352 - Trial 215 finished with value: 1.0019720781232895 and parameters: {'year_start': 2019, 'idxAfterPrediction': 4, 'LoadupSamples_time_inc_factor': 51, 'timesteps': 90, 'LSTM_learning_rate': 6.06540542915584e-05, 'LSTM_dropout': 0.07844485621211991, 'is_single_feature': False}. Best is trial 31 with value: 1.0049487769776475.\n",
      "2025-08-20 22:39:58,243 - Non-finite/too-large values in train y time: 48 samples.\n",
      "2025-08-20 22:39:58,243 - Removing 48 samples from training data.\n"
     ]
    },
    {
     "name": "stderr",
     "output_type": "stream",
     "text": [
      "Epochs:   0%|          | 0/2 [00:00<?, ?it/s]"
     ]
    },
    {
     "name": "stdout",
     "output_type": "stream",
     "text": [
      "2025-08-20 22:40:45,967 - Epoch 1/2 — Train RMSE: 0.5166 — Validation RMSE: 0.4375\n"
     ]
    },
    {
     "name": "stderr",
     "output_type": "stream",
     "text": [
      "Epochs:  50%|█████     | 1/2 [00:32<00:32, 32.70s/it]"
     ]
    },
    {
     "name": "stdout",
     "output_type": "stream",
     "text": [
      "2025-08-20 22:41:18,016 - Epoch 2/2 — Train RMSE: 0.4267 — Validation RMSE: 0.4093\n"
     ]
    },
    {
     "name": "stderr",
     "output_type": "stream",
     "text": [
      "Epochs: 100%|██████████| 2/2 [01:04<00:00, 32.38s/it]\n"
     ]
    },
    {
     "name": "stdout",
     "output_type": "stream",
     "text": [
      "2025-08-20 22:41:21,824 - Trial 216 with params: {'idxAfterPrediction': 4, 'timesteps': 90, 'target_option': 'last', 'LoadupSamples_time_scaling_stretch': True, 'LoadupSamples_time_inc_factor': 66, 'LSTM_units': 16, 'LSTM_num_layers': 1, 'LSTM_dropout': 0.006319406438971635, 'LSTM_recurrent_dropout': 0.001, 'LSTM_learning_rate': 4.681515790287214e-05, 'LSTM_optimizer': 'adam', 'LSTM_bidirectional': True, 'LSTM_batch_size': 4096, 'LSTM_epochs': 2, 'LSTM_l1': 0.001, 'LSTM_l2': 0.001, 'LSTM_inter_dropout': 0.001, 'LSTM_input_gaussian_noise': 0.001, 'LSTM_conv1d': True, 'LSTM_conv1d_kernel_size': 3, 'LSTM_loss': 'mse', 'year_start': 2019, 'is_single_feature': False}\n",
      "2025-08-20 22:41:21,824 -   q0: 0.9980\n",
      "2025-08-20 22:41:21,824 -   Duration0: 0:01:08.765938\n",
      "2025-08-20 22:41:21,824 -   Val RMSE0 adjusted: 0.0062\n",
      "2025-08-20 22:41:21,824 -   Mean all prediction: 1.0011\n",
      "2025-08-20 22:41:21,824 -   Mean above prediction: 1.0048\n",
      "2025-08-20 22:41:21,824 -   Mean below prediction: 0.9932\n",
      "2025-08-20 22:41:21,824 -   Quantile 0.99 for distance in mask above: 5695.359999999997\n",
      "2025-08-20 22:41:21,840 -   Quantile 0.99 for distance in mask below: 3552.199999999993\n",
      "2025-08-20 22:41:21,840 -   Ratio for quantile-distance-to-length above: 0.0087\n",
      "2025-08-20 22:41:21,841 -   Ratio for quantile-distance-to-length below: 0.0054\n",
      "2025-08-20 22:41:21,842 -   Score: 1.0012\n"
     ]
    },
    {
     "name": "stderr",
     "output_type": "stream",
     "text": [
      "[I 2025-08-20 22:41:21,924] Trial 216 finished with value: 1.001194720259458 and parameters: {'year_start': 2019, 'idxAfterPrediction': 4, 'LoadupSamples_time_inc_factor': 66, 'timesteps': 90, 'LSTM_learning_rate': 4.681515790287214e-05, 'LSTM_dropout': 0.006319406438971635, 'is_single_feature': False}. Best is trial 31 with value: 1.0049487769776475.\n"
     ]
    },
    {
     "name": "stdout",
     "output_type": "stream",
     "text": [
      "2025-08-20 22:41:21,924 - Trial 216 finished with value: 1.001194720259458 and parameters: {'year_start': 2019, 'idxAfterPrediction': 4, 'LoadupSamples_time_inc_factor': 66, 'timesteps': 90, 'LSTM_learning_rate': 4.681515790287214e-05, 'LSTM_dropout': 0.006319406438971635, 'is_single_feature': False}. Best is trial 31 with value: 1.0049487769776475.\n",
      "2025-08-20 22:41:32,847 - Non-finite/too-large values in train y time: 36 samples.\n",
      "2025-08-20 22:41:32,847 - Removing 36 samples from training data.\n"
     ]
    },
    {
     "name": "stderr",
     "output_type": "stream",
     "text": [
      "Epochs:   0%|          | 0/2 [00:00<?, ?it/s]"
     ]
    },
    {
     "name": "stdout",
     "output_type": "stream",
     "text": [
      "2025-08-20 22:42:19,384 - Epoch 1/2 — Train RMSE: 0.5343 — Validation RMSE: 0.4059\n"
     ]
    },
    {
     "name": "stderr",
     "output_type": "stream",
     "text": [
      "Epochs:  50%|█████     | 1/2 [00:30<00:30, 30.96s/it]"
     ]
    },
    {
     "name": "stdout",
     "output_type": "stream",
     "text": [
      "2025-08-20 22:42:49,879 - Epoch 2/2 — Train RMSE: 0.4106 — Validation RMSE: 0.4013\n"
     ]
    },
    {
     "name": "stderr",
     "output_type": "stream",
     "text": [
      "Epochs: 100%|██████████| 2/2 [01:01<00:00, 30.72s/it]\n"
     ]
    },
    {
     "name": "stdout",
     "output_type": "stream",
     "text": [
      "2025-08-20 22:42:53,669 - Trial 217 with params: {'idxAfterPrediction': 3, 'timesteps': 90, 'target_option': 'last', 'LoadupSamples_time_scaling_stretch': True, 'LoadupSamples_time_inc_factor': 71, 'LSTM_units': 16, 'LSTM_num_layers': 1, 'LSTM_dropout': 0.0689557215023942, 'LSTM_recurrent_dropout': 0.001, 'LSTM_learning_rate': 7.227954283689057e-05, 'LSTM_optimizer': 'adam', 'LSTM_bidirectional': True, 'LSTM_batch_size': 4096, 'LSTM_epochs': 2, 'LSTM_l1': 0.001, 'LSTM_l2': 0.001, 'LSTM_inter_dropout': 0.001, 'LSTM_input_gaussian_noise': 0.001, 'LSTM_conv1d': True, 'LSTM_conv1d_kernel_size': 3, 'LSTM_loss': 'mse', 'year_start': 2019, 'is_single_feature': False}\n",
      "2025-08-20 22:42:53,669 -   q0: 0.9980\n",
      "2025-08-20 22:42:53,669 -   Duration0: 0:01:05.479867\n",
      "2025-08-20 22:42:53,669 -   Val RMSE0 adjusted: 0.0057\n",
      "2025-08-20 22:42:53,673 -   Mean all prediction: 1.0007\n",
      "2025-08-20 22:42:53,673 -   Mean above prediction: 1.0136\n",
      "2025-08-20 22:42:53,673 -   Mean below prediction: 1.0023\n",
      "2025-08-20 22:42:53,673 -   Quantile 0.99 for distance in mask above: 4695.3799999999965\n",
      "2025-08-20 22:42:53,678 -   Quantile 0.99 for distance in mask below: 4347.259999999996\n",
      "2025-08-20 22:42:53,678 -   Ratio for quantile-distance-to-length above: 0.0071\n",
      "2025-08-20 22:42:53,678 -   Ratio for quantile-distance-to-length below: 0.0066\n",
      "2025-08-20 22:42:53,678 -   Score: 1.0045\n"
     ]
    },
    {
     "name": "stderr",
     "output_type": "stream",
     "text": [
      "[I 2025-08-20 22:42:53,770] Trial 217 finished with value: 1.0045175993651254 and parameters: {'year_start': 2019, 'idxAfterPrediction': 3, 'LoadupSamples_time_inc_factor': 71, 'timesteps': 90, 'LSTM_learning_rate': 7.227954283689057e-05, 'LSTM_dropout': 0.0689557215023942, 'is_single_feature': False}. Best is trial 31 with value: 1.0049487769776475.\n"
     ]
    },
    {
     "name": "stdout",
     "output_type": "stream",
     "text": [
      "2025-08-20 22:42:53,770 - Trial 217 finished with value: 1.0045175993651254 and parameters: {'year_start': 2019, 'idxAfterPrediction': 3, 'LoadupSamples_time_inc_factor': 71, 'timesteps': 90, 'LSTM_learning_rate': 7.227954283689057e-05, 'LSTM_dropout': 0.0689557215023942, 'is_single_feature': False}. Best is trial 31 with value: 1.0049487769776475.\n",
      "2025-08-20 22:42:59,630 - Non-finite/too-large values in train y time: 36 samples.\n",
      "2025-08-20 22:42:59,634 - Removing 36 samples from training data.\n"
     ]
    },
    {
     "name": "stderr",
     "output_type": "stream",
     "text": [
      "Epochs:   0%|          | 0/2 [00:00<?, ?it/s]"
     ]
    },
    {
     "name": "stdout",
     "output_type": "stream",
     "text": [
      "2025-08-20 22:43:23,220 - Epoch 1/2 — Train RMSE: 0.5572 — Validation RMSE: 0.4936\n"
     ]
    },
    {
     "name": "stderr",
     "output_type": "stream",
     "text": [
      "Epochs:  50%|█████     | 1/2 [00:15<00:15, 15.83s/it]"
     ]
    },
    {
     "name": "stdout",
     "output_type": "stream",
     "text": [
      "2025-08-20 22:43:38,971 - Epoch 2/2 — Train RMSE: 0.4671 — Validation RMSE: 0.4218\n"
     ]
    },
    {
     "name": "stderr",
     "output_type": "stream",
     "text": [
      "Epochs: 100%|██████████| 2/2 [00:31<00:00, 15.79s/it]\n"
     ]
    },
    {
     "name": "stdout",
     "output_type": "stream",
     "text": [
      "2025-08-20 22:43:42,571 - Trial 218 with params: {'idxAfterPrediction': 3, 'timesteps': 90, 'target_option': 'last', 'LoadupSamples_time_scaling_stretch': True, 'LoadupSamples_time_inc_factor': 71, 'LSTM_units': 16, 'LSTM_num_layers': 1, 'LSTM_dropout': 0.003933173110959458, 'LSTM_recurrent_dropout': 0.001, 'LSTM_learning_rate': 7.455904168040872e-05, 'LSTM_optimizer': 'adam', 'LSTM_bidirectional': True, 'LSTM_batch_size': 4096, 'LSTM_epochs': 2, 'LSTM_l1': 0.001, 'LSTM_l2': 0.001, 'LSTM_inter_dropout': 0.001, 'LSTM_input_gaussian_noise': 0.001, 'LSTM_conv1d': True, 'LSTM_conv1d_kernel_size': 3, 'LSTM_loss': 'mse', 'year_start': 2022, 'is_single_feature': False}\n",
      "2025-08-20 22:43:42,571 -   q0: 0.9980\n",
      "2025-08-20 22:43:42,571 -   Duration0: 0:00:35.277149\n",
      "2025-08-20 22:43:42,571 -   Val RMSE0 adjusted: 0.0059\n",
      "2025-08-20 22:43:42,571 -   Mean all prediction: 1.0007\n",
      "2025-08-20 22:43:42,571 -   Mean above prediction: 1.0142\n",
      "2025-08-20 22:43:42,571 -   Mean below prediction: 1.0061\n",
      "2025-08-20 22:43:42,571 -   Quantile 0.99 for distance in mask above: 5027.339999999958\n",
      "2025-08-20 22:43:42,571 -   Quantile 0.99 for distance in mask below: 3854.659999999997\n",
      "2025-08-20 22:43:42,571 -   Ratio for quantile-distance-to-length above: 0.0076\n",
      "2025-08-20 22:43:42,571 -   Ratio for quantile-distance-to-length below: 0.0059\n",
      "2025-08-20 22:43:42,571 -   Score: 1.0047\n"
     ]
    },
    {
     "name": "stderr",
     "output_type": "stream",
     "text": [
      "[I 2025-08-20 22:43:42,625] Trial 218 finished with value: 1.0047061445779892 and parameters: {'year_start': 2022, 'idxAfterPrediction': 3, 'LoadupSamples_time_inc_factor': 71, 'timesteps': 90, 'LSTM_learning_rate': 7.455904168040872e-05, 'LSTM_dropout': 0.003933173110959458, 'is_single_feature': False}. Best is trial 31 with value: 1.0049487769776475.\n"
     ]
    },
    {
     "name": "stdout",
     "output_type": "stream",
     "text": [
      "2025-08-20 22:43:42,625 - Trial 218 finished with value: 1.0047061445779892 and parameters: {'year_start': 2022, 'idxAfterPrediction': 3, 'LoadupSamples_time_inc_factor': 71, 'timesteps': 90, 'LSTM_learning_rate': 7.455904168040872e-05, 'LSTM_dropout': 0.003933173110959458, 'is_single_feature': False}. Best is trial 31 with value: 1.0049487769776475.\n",
      "2025-08-20 22:43:48,495 - Non-finite/too-large values in train y time: 36 samples.\n",
      "2025-08-20 22:43:48,510 - Removing 36 samples from training data.\n"
     ]
    },
    {
     "name": "stderr",
     "output_type": "stream",
     "text": [
      "Epochs:   0%|          | 0/2 [00:00<?, ?it/s]"
     ]
    },
    {
     "name": "stdout",
     "output_type": "stream",
     "text": [
      "2025-08-20 22:44:12,220 - Epoch 1/2 — Train RMSE: 0.5059 — Validation RMSE: 0.4521\n"
     ]
    },
    {
     "name": "stderr",
     "output_type": "stream",
     "text": [
      "Epochs:  50%|█████     | 1/2 [00:15<00:15, 15.87s/it]"
     ]
    },
    {
     "name": "stdout",
     "output_type": "stream",
     "text": [
      "2025-08-20 22:44:27,972 - Epoch 2/2 — Train RMSE: 0.4407 — Validation RMSE: 0.4124\n"
     ]
    },
    {
     "name": "stderr",
     "output_type": "stream",
     "text": [
      "Epochs: 100%|██████████| 2/2 [00:31<00:00, 15.81s/it]\n"
     ]
    },
    {
     "name": "stdout",
     "output_type": "stream",
     "text": [
      "2025-08-20 22:44:31,666 - Trial 219 with params: {'idxAfterPrediction': 3, 'timesteps': 90, 'target_option': 'last', 'LoadupSamples_time_scaling_stretch': True, 'LoadupSamples_time_inc_factor': 71, 'LSTM_units': 16, 'LSTM_num_layers': 1, 'LSTM_dropout': 0.0038495256057519325, 'LSTM_recurrent_dropout': 0.001, 'LSTM_learning_rate': 7.189597405827162e-05, 'LSTM_optimizer': 'adam', 'LSTM_bidirectional': True, 'LSTM_batch_size': 4096, 'LSTM_epochs': 2, 'LSTM_l1': 0.001, 'LSTM_l2': 0.001, 'LSTM_inter_dropout': 0.001, 'LSTM_input_gaussian_noise': 0.001, 'LSTM_conv1d': True, 'LSTM_conv1d_kernel_size': 3, 'LSTM_loss': 'mse', 'year_start': 2022, 'is_single_feature': False}\n",
      "2025-08-20 22:44:31,666 -   q0: 0.9980\n",
      "2025-08-20 22:44:31,666 -   Duration0: 0:00:35.421986\n",
      "2025-08-20 22:44:31,666 -   Val RMSE0 adjusted: 0.0058\n",
      "2025-08-20 22:44:31,682 -   Mean all prediction: 1.0007\n",
      "2025-08-20 22:44:31,682 -   Mean above prediction: 0.9974\n",
      "2025-08-20 22:44:31,682 -   Mean below prediction: 0.9968\n",
      "2025-08-20 22:44:31,682 -   Quantile 0.99 for distance in mask above: 5483.119999999981\n",
      "2025-08-20 22:44:31,682 -   Quantile 0.99 for distance in mask below: 3584.3599999999974\n",
      "2025-08-20 22:44:31,682 -   Ratio for quantile-distance-to-length above: 0.0083\n",
      "2025-08-20 22:44:31,682 -   Ratio for quantile-distance-to-length below: 0.0054\n",
      "2025-08-20 22:44:31,682 -   Score: 0.9991\n"
     ]
    },
    {
     "name": "stderr",
     "output_type": "stream",
     "text": [
      "[I 2025-08-20 22:44:31,737] Trial 219 finished with value: 0.9991491772200425 and parameters: {'year_start': 2022, 'idxAfterPrediction': 3, 'LoadupSamples_time_inc_factor': 71, 'timesteps': 90, 'LSTM_learning_rate': 7.189597405827162e-05, 'LSTM_dropout': 0.0038495256057519325, 'is_single_feature': False}. Best is trial 31 with value: 1.0049487769776475.\n"
     ]
    },
    {
     "name": "stdout",
     "output_type": "stream",
     "text": [
      "2025-08-20 22:44:31,737 - Trial 219 finished with value: 0.9991491772200425 and parameters: {'year_start': 2022, 'idxAfterPrediction': 3, 'LoadupSamples_time_inc_factor': 71, 'timesteps': 90, 'LSTM_learning_rate': 7.189597405827162e-05, 'LSTM_dropout': 0.0038495256057519325, 'is_single_feature': False}. Best is trial 31 with value: 1.0049487769776475.\n",
      "2025-08-20 22:44:37,619 - Non-finite/too-large values in train y time: 36 samples.\n",
      "2025-08-20 22:44:37,619 - Removing 36 samples from training data.\n"
     ]
    },
    {
     "name": "stderr",
     "output_type": "stream",
     "text": [
      "Epochs:   0%|          | 0/2 [00:00<?, ?it/s]"
     ]
    },
    {
     "name": "stdout",
     "output_type": "stream",
     "text": [
      "2025-08-20 22:45:01,150 - Epoch 1/2 — Train RMSE: 0.6049 — Validation RMSE: 0.5154\n"
     ]
    },
    {
     "name": "stderr",
     "output_type": "stream",
     "text": [
      "Epochs:  50%|█████     | 1/2 [00:15<00:15, 15.75s/it]"
     ]
    },
    {
     "name": "stdout",
     "output_type": "stream",
     "text": [
      "2025-08-20 22:45:16,928 - Epoch 2/2 — Train RMSE: 0.4732 — Validation RMSE: 0.4192\n"
     ]
    },
    {
     "name": "stderr",
     "output_type": "stream",
     "text": [
      "Epochs: 100%|██████████| 2/2 [00:31<00:00, 15.76s/it]\n"
     ]
    },
    {
     "name": "stdout",
     "output_type": "stream",
     "text": [
      "2025-08-20 22:45:20,851 - Trial 220 with params: {'idxAfterPrediction': 3, 'timesteps': 90, 'target_option': 'last', 'LoadupSamples_time_scaling_stretch': True, 'LoadupSamples_time_inc_factor': 71, 'LSTM_units': 16, 'LSTM_num_layers': 1, 'LSTM_dropout': 0.0046837734431996745, 'LSTM_recurrent_dropout': 0.001, 'LSTM_learning_rate': 7.934005843436357e-05, 'LSTM_optimizer': 'adam', 'LSTM_bidirectional': True, 'LSTM_batch_size': 4096, 'LSTM_epochs': 2, 'LSTM_l1': 0.001, 'LSTM_l2': 0.001, 'LSTM_inter_dropout': 0.001, 'LSTM_input_gaussian_noise': 0.001, 'LSTM_conv1d': True, 'LSTM_conv1d_kernel_size': 3, 'LSTM_loss': 'mse', 'year_start': 2022, 'is_single_feature': False}\n",
      "2025-08-20 22:45:20,851 -   q0: 0.9980\n",
      "2025-08-20 22:45:20,853 -   Duration0: 0:00:35.555595\n",
      "2025-08-20 22:45:20,853 -   Val RMSE0 adjusted: 0.0059\n",
      "2025-08-20 22:45:20,853 -   Mean all prediction: 1.0007\n",
      "2025-08-20 22:45:20,853 -   Mean above prediction: 0.9967\n",
      "2025-08-20 22:45:20,853 -   Mean below prediction: 0.9943\n",
      "2025-08-20 22:45:20,853 -   Quantile 0.99 for distance in mask above: 5606.339999999993\n",
      "2025-08-20 22:45:20,853 -   Quantile 0.99 for distance in mask below: 3688.4399999999796\n",
      "2025-08-20 22:45:20,853 -   Ratio for quantile-distance-to-length above: 0.0085\n",
      "2025-08-20 22:45:20,853 -   Ratio for quantile-distance-to-length below: 0.0056\n",
      "2025-08-20 22:45:20,853 -   Score: 0.9989\n"
     ]
    },
    {
     "name": "stderr",
     "output_type": "stream",
     "text": [
      "[I 2025-08-20 22:45:20,901] Trial 220 finished with value: 0.9989120168718092 and parameters: {'year_start': 2022, 'idxAfterPrediction': 3, 'LoadupSamples_time_inc_factor': 71, 'timesteps': 90, 'LSTM_learning_rate': 7.934005843436357e-05, 'LSTM_dropout': 0.0046837734431996745, 'is_single_feature': False}. Best is trial 31 with value: 1.0049487769776475.\n"
     ]
    },
    {
     "name": "stdout",
     "output_type": "stream",
     "text": [
      "2025-08-20 22:45:20,901 - Trial 220 finished with value: 0.9989120168718092 and parameters: {'year_start': 2022, 'idxAfterPrediction': 3, 'LoadupSamples_time_inc_factor': 71, 'timesteps': 90, 'LSTM_learning_rate': 7.934005843436357e-05, 'LSTM_dropout': 0.0046837734431996745, 'is_single_feature': False}. Best is trial 31 with value: 1.0049487769776475.\n",
      "2025-08-20 22:45:20,901 - Best parameters: {'year_start': 2020, 'idxAfterPrediction': 4, 'LoadupSamples_time_inc_factor': 61, 'timesteps': 30, 'LSTM_learning_rate': 0.00010773374852638822, 'LSTM_dropout': 0.021106707856634717, 'is_single_feature': False}\n",
      "2025-08-20 22:45:20,901 - Best score: 1.0049487769776475\n",
      "2025-08-20 22:45:20,917 - \n",
      "Trials DataFrame:\n",
      "2025-08-20 22:45:20,917 -      number     value             datetime_start          datetime_complete               duration  params_LSTM_dropout  params_LSTM_learning_rate  params_LoadupSamples_time_inc_factor  params_idxAfterPrediction  params_is_single_feature  params_timesteps  params_year_start     state\n",
      "80       80  0.998086 2025-08-20 20:12:18.031762 2025-08-20 20:13:43.539095 0 days 00:01:25.507333             0.076429                   0.000010                                    71                          3                     False                75               2019  COMPLETE\n",
      "171     171  0.998172 2025-08-20 21:46:02.297478 2025-08-20 21:46:50.429399 0 days 00:00:48.131921             0.011920                   0.000042                                    66                          3                     False                85               2022  COMPLETE\n",
      "86       86  0.998201 2025-08-20 20:20:11.784285 2025-08-20 20:21:30.259296 0 days 00:01:18.475011             0.057109                   0.000052                                    76                          3                     False                35               2019  COMPLETE\n",
      "139     139  0.998318 2025-08-20 21:11:44.896587 2025-08-20 21:12:26.883503 0 days 00:00:41.986916             0.009290                   0.000022                                    76                          3                     False                30               2022  COMPLETE\n",
      "108     108  0.998387 2025-08-20 20:46:30.073367 2025-08-20 20:47:50.512466 0 days 00:01:20.439099             0.099012                   0.000023                                    56                          3                     False                45               2019  COMPLETE\n",
      "104     104  0.998454 2025-08-20 20:42:15.208906 2025-08-20 20:43:32.511178 0 days 00:01:17.302272             0.083670                   0.000038                                    66                          3                     False                30               2019  COMPLETE\n",
      "124     124  0.998459 2025-08-20 20:59:56.464353 2025-08-20 21:00:45.103006 0 days 00:00:48.638653             0.004812                   0.000047                                    76                          3                     False                90               2022  COMPLETE\n",
      "99       99  0.998631 2025-08-20 20:36:10.763127 2025-08-20 20:37:04.117984 0 days 00:00:53.354857             0.069664                   0.000414                                    66                          3                      True                30               2021  COMPLETE\n",
      "119     119  0.998700 2025-08-20 20:55:59.022381 2025-08-20 20:56:45.771134 0 days 00:00:46.748753             0.001549                   0.000038                                    81                          3                      True                80               2022  COMPLETE\n",
      "200     200  0.998749 2025-08-20 22:18:32.914829 2025-08-20 22:19:17.854439 0 days 00:00:44.939610             0.088579                   0.000103                                    61                          3                     False                35               2022  COMPLETE\n",
      "48       48  0.998824 2025-08-20 19:34:51.587378 2025-08-20 19:36:10.448987 0 days 00:01:18.861609             0.003804                   0.000064                                    56                          3                     False                40               2019  COMPLETE\n",
      "144     144  0.998828 2025-08-20 21:17:54.252115 2025-08-20 21:19:16.645947 0 days 00:01:22.393832             0.045493                   0.000107                                    61                          3                     False                50               2019  COMPLETE\n",
      "220     220  0.998912 2025-08-20 22:44:31.746114 2025-08-20 22:45:20.891004 0 days 00:00:49.144890             0.004684                   0.000079                                    71                          3                     False                90               2022  COMPLETE\n",
      "128     128  0.999006 2025-08-20 21:03:09.186571 2025-08-20 21:03:57.537326 0 days 00:00:48.350755             0.002564                   0.000115                                    71                          3                     False                90               2022  COMPLETE\n",
      "113     113  0.999029 2025-08-20 20:51:18.802843 2025-08-20 20:52:02.378876 0 days 00:00:43.576033             0.081349                   0.000099                                    81                          3                     False                50               2022  COMPLETE\n",
      "87       87  0.999036 2025-08-20 20:21:30.262946 2025-08-20 20:22:47.032905 0 days 00:01:16.769959             0.044242                   0.000043                                    66                          3                      True                30               2019  COMPLETE\n",
      "140     140  0.999070 2025-08-20 21:12:26.893191 2025-08-20 21:13:46.204852 0 days 00:01:19.311661             0.057830                   0.000033                                    66                          3                      True                40               2019  COMPLETE\n",
      "132     132  0.999097 2025-08-20 21:06:19.349626 2025-08-20 21:07:06.352051 0 days 00:00:47.002425             0.003727                   0.000055                                    71                          3                     False                75               2022  COMPLETE\n",
      "3         3  0.999120 2025-08-20 18:47:50.311850 2025-08-20 18:49:11.716571 0 days 00:01:21.404721             0.045409                   0.002586                                    26                          3                      True                50               2019  COMPLETE\n",
      "219     219  0.999149 2025-08-20 22:43:42.635075 2025-08-20 22:44:31.723128 0 days 00:00:49.088053             0.003850                   0.000072                                    71                          3                     False                90               2022  COMPLETE\n",
      "167     167  0.999174 2025-08-20 21:41:58.445555 2025-08-20 21:42:46.551130 0 days 00:00:48.105575             0.014343                   0.000069                                    66                          3                      True                90               2022  COMPLETE\n",
      "198     198  0.999200 2025-08-20 22:16:26.185833 2025-08-20 22:17:14.253805 0 days 00:00:48.067972             0.002066                   0.000048                                    66                          3                     False                85               2022  COMPLETE\n",
      "117     117  0.999212 2025-08-20 20:54:23.918589 2025-08-20 20:55:11.473111 0 days 00:00:47.554522             0.088333                   0.000045                                    76                          3                     False                85               2022  COMPLETE\n",
      "122     122  0.999215 2025-08-20 20:58:20.174149 2025-08-20 20:59:08.409416 0 days 00:00:48.235267             0.002212                   0.000057                                    71                          3                     False                90               2022  COMPLETE\n",
      "164     164  0.999219 2025-08-20 21:39:31.315879 2025-08-20 21:40:20.549554 0 days 00:00:49.233675             0.004266                   0.000053                                    71                          3                     False                90               2022  COMPLETE\n",
      "46       46  0.999231 2025-08-20 19:32:10.499034 2025-08-20 19:33:30.469846 0 days 00:01:19.970812             0.006792                   0.000012                                    51                          3                      True                45               2019  COMPLETE\n",
      "96       96  0.999315 2025-08-20 20:32:23.707974 2025-08-20 20:33:31.738798 0 days 00:01:08.030824             0.034575                   0.000057                                    56                          3                     False                45               2020  COMPLETE\n",
      "149     149  0.999319 2025-08-20 21:24:41.608553 2025-08-20 21:25:13.326146 0 days 00:00:31.717593             0.082794                   0.002583                                    81                          3                     False                45               2023  COMPLETE\n",
      "188     188  0.999319 2025-08-20 22:02:30.561894 2025-08-20 22:04:00.620778 0 days 00:01:30.058884             0.046735                   0.000102                                    66                          3                     False                90               2019  COMPLETE\n",
      "101     101  0.999401 2025-08-20 20:38:22.805916 2025-08-20 20:39:39.762290 0 days 00:01:16.956374             0.054708                   0.000025                                    66                          3                     False                30               2019  COMPLETE\n",
      "55       55  0.999409 2025-08-20 19:42:59.055817 2025-08-20 19:44:16.842361 0 days 00:01:17.786544             0.016969                   0.000071                                    76                          3                     False                30               2019  COMPLETE\n",
      "197     197  0.999432 2025-08-20 22:14:58.715586 2025-08-20 22:16:26.170027 0 days 00:01:27.454441             0.011144                   0.000070                                    81                          8                      True                80               2019  COMPLETE\n",
      "89       89  0.999553 2025-08-20 20:24:04.651660 2025-08-20 20:25:22.984156 0 days 00:01:18.332496             0.078228                   0.008359                                    61                          3                     False                35               2019  COMPLETE\n",
      "84       84  0.999568 2025-08-20 20:17:36.179870 2025-08-20 20:18:53.566566 0 days 00:01:17.386696             0.008702                   0.000024                                    56                          3                     False                30               2019  COMPLETE\n",
      "57       57  0.999573 2025-08-20 19:45:24.633889 2025-08-20 19:46:42.670107 0 days 00:01:18.036218             0.010296                   0.000023                                    56                          3                      True                35               2019  COMPLETE\n",
      "210     210  0.999619 2025-08-20 22:31:25.846453 2025-08-20 22:32:48.478167 0 days 00:01:22.631714             0.051467                   0.000170                                    66                          3                     False                40               2019  COMPLETE\n",
      "163     163  0.999675 2025-08-20 21:38:43.389901 2025-08-20 21:39:31.284083 0 days 00:00:47.894182             0.006866                   0.000037                                    66                          3                     False                85               2022  COMPLETE\n",
      "191     191  0.999704 2025-08-20 22:07:00.459437 2025-08-20 22:08:29.948862 0 days 00:01:29.489425             0.059178                   0.000030                                    66                          3                     False                90               2019  COMPLETE\n",
      "40       40  0.999707 2025-08-20 19:24:06.151509 2025-08-20 19:25:26.649207 0 days 00:01:20.497698             0.054290                   0.000061                                    56                          3                      True                50               2019  COMPLETE\n",
      "23       23  0.999746 2025-08-20 19:06:05.429567 2025-08-20 19:06:59.527940 0 days 00:00:54.098373             0.037838                   0.000428                                    71                          3                     False                35               2021  COMPLETE\n",
      "155     155  0.999757 2025-08-20 21:30:29.307388 2025-08-20 21:31:16.218218 0 days 00:00:46.910830             0.075417                   0.000116                                    66                          4                     False                70               2022  COMPLETE\n",
      "65       65  0.999764 2025-08-20 19:55:15.816035 2025-08-20 19:56:32.973268 0 days 00:01:17.157233             0.028869                   0.000189                                    51                          6                     False                30               2019  COMPLETE\n",
      "180     180  0.999785 2025-08-20 21:53:40.327056 2025-08-20 21:54:22.348890 0 days 00:00:42.021834             0.088792                   0.000142                                    81                          3                     False                30               2022  COMPLETE\n",
      "208     208  0.999796 2025-08-20 22:28:41.674740 2025-08-20 22:30:05.957611 0 days 00:01:24.282871             0.065744                   0.001652                                    66                          3                     False                50               2019  COMPLETE\n",
      "77       77  0.999825 2025-08-20 20:08:56.853151 2025-08-20 20:09:52.527057 0 days 00:00:55.673906             0.012548                   0.000017                                    56                          4                     False                45               2021  COMPLETE\n",
      "49       49  0.999847 2025-08-20 19:36:10.465089 2025-08-20 19:37:20.946609 0 days 00:01:10.481520             0.023698                   0.000098                                    21                          4                      True                60               2020  COMPLETE\n",
      "143     143  0.999874 2025-08-20 21:16:33.797762 2025-08-20 21:17:54.236437 0 days 00:01:20.438675             0.077408                   0.000671                                    66                          3                     False                40               2019  COMPLETE\n",
      "33       33  0.999889 2025-08-20 19:15:10.057256 2025-08-20 19:16:27.764601 0 days 00:01:17.707345             0.015099                   0.000109                                    56                          5                     False                35               2019  COMPLETE\n",
      "148     148  0.999957 2025-08-20 21:23:13.492494 2025-08-20 21:24:41.590944 0 days 00:01:28.098450             0.039438                   0.000041                                    76                          3                     False                85               2019  COMPLETE\n",
      "166     166  0.999965 2025-08-20 21:41:09.129043 2025-08-20 21:41:58.429867 0 days 00:00:49.300824             0.022570                   0.000218                                    61                          3                     False                90               2022  COMPLETE\n",
      "192     192  0.999986 2025-08-20 22:08:29.964500 2025-08-20 22:09:59.818387 0 days 00:01:29.853887             0.071312                   0.000079                                    66                          3                     False                90               2019  COMPLETE\n",
      "6         6  0.999997 2025-08-20 18:50:22.266044 2025-08-20 18:51:37.596586 0 days 00:01:15.330542             0.002794                   0.008639                                    31                          7                      True                75               2020  COMPLETE\n",
      "196     196  1.000007 2025-08-20 22:14:16.673833 2025-08-20 22:14:58.685897 0 days 00:00:42.012064             0.079957                   0.000091                                    66                          4                     False                30               2022  COMPLETE\n",
      "162     162  1.000047 2025-08-20 21:37:54.534696 2025-08-20 21:38:43.368428 0 days 00:00:48.833732             0.063299                   0.000020                                    66                          5                     False                85               2022  COMPLETE\n",
      "9         9  1.000074 2025-08-20 18:52:59.037888 2025-08-20 18:53:32.547862 0 days 00:00:33.509974             0.001195                   0.000379                                    26                          6                      True                55               2023  COMPLETE\n",
      "4         4  1.000134 2025-08-20 18:49:11.729755 2025-08-20 18:49:46.727743 0 days 00:00:34.997988             0.010388                   0.000020                                    31                          8                     False                65               2023  COMPLETE\n",
      "43       43  1.000164 2025-08-20 19:28:04.859177 2025-08-20 19:29:27.675460 0 days 00:01:22.816283             0.050570                   0.000051                                    61                          3                     False                60               2019  COMPLETE\n",
      "10       10  1.000168 2025-08-20 18:53:32.563147 2025-08-20 18:55:05.035908 0 days 00:01:32.472761             0.015087                   0.004887                                    61                          3                     False                80               2019  COMPLETE\n",
      "59       59  1.000187 2025-08-20 19:47:58.739603 2025-08-20 19:49:23.337931 0 days 00:01:24.598328             0.037170                   0.000145                                    71                          3                     False                70               2019  COMPLETE\n",
      "1         1  1.000192 2025-08-20 18:45:36.054689 2025-08-20 18:46:23.144755 0 days 00:00:47.090066             0.002038                   0.000341                                    46                          6                      True                70               2022  COMPLETE\n",
      "145     145  1.000196 2025-08-20 21:19:16.661818 2025-08-20 21:20:34.753078 0 days 00:01:18.091260             0.091245                   0.000058                                    66                          5                     False                30               2019  COMPLETE\n",
      "127     127  1.000207 2025-08-20 21:02:21.321233 2025-08-20 21:03:09.184253 0 days 00:00:47.863020             0.054980                   0.000021                                    81                          3                     False                85               2022  COMPLETE\n",
      "173     173  1.000249 2025-08-20 21:47:39.977194 2025-08-20 21:48:25.966059 0 days 00:00:45.988865             0.004504                   0.000030                                    66                          3                     False                65               2022  COMPLETE\n",
      "182     182  1.000260 2025-08-20 21:55:05.172223 2025-08-20 21:55:47.511010 0 days 00:00:42.338787             0.007811                   0.000109                                    76                          4                     False                35               2022  COMPLETE\n",
      "135     135  1.000263 2025-08-20 21:08:27.503482 2025-08-20 21:09:15.845563 0 days 00:00:48.342081             0.006022                   0.000097                                    71                          3                     False                90               2022  COMPLETE\n",
      "28       28  1.000282 2025-08-20 19:10:36.674310 2025-08-20 19:11:20.713920 0 days 00:00:44.039610             0.041557                   0.000565                                    81                          3                     False                55               2022  COMPLETE\n",
      "185     185  1.000294 2025-08-20 21:58:00.886788 2025-08-20 21:59:30.909806 0 days 00:01:30.023018             0.052994                   0.000123                                    66                          4                     False                90               2019  COMPLETE\n",
      "214     214  1.000329 2025-08-20 22:36:39.595900 2025-08-20 22:38:13.477849 0 days 00:01:33.881949             0.057093                   0.000094                                    56                          4                     False                90               2019  COMPLETE\n",
      "5         5  1.000332 2025-08-20 18:49:46.743843 2025-08-20 18:50:22.249018 0 days 00:00:35.505175             0.002918                   0.000050                                    41                          7                      True                65               2023  COMPLETE\n",
      "190     190  1.000359 2025-08-20 22:05:30.519069 2025-08-20 22:07:00.442639 0 days 00:01:29.923570             0.029182                   0.000065                                    76                          3                     False                90               2019  COMPLETE\n",
      "179     179  1.000365 2025-08-20 21:52:57.995620 2025-08-20 21:53:40.311287 0 days 00:00:42.315667             0.073975                   0.000050                                    81                          4                     False                30               2022  COMPLETE\n",
      "118     118  1.000394 2025-08-20 20:55:11.489000 2025-08-20 20:55:59.020103 0 days 00:00:47.531103             0.072133                   0.000061                                    76                          3                     False                85               2022  COMPLETE\n",
      "130     130  1.000405 2025-08-20 21:04:44.572901 2025-08-20 21:05:31.692699 0 days 00:00:47.119798             0.001693                   0.000065                                    66                          3                     False                75               2022  COMPLETE\n",
      "178     178  1.000469 2025-08-20 21:52:15.720550 2025-08-20 21:52:57.979285 0 days 00:00:42.258735             0.006491                   0.000103                                    81                          3                     False                30               2022  COMPLETE\n",
      "141     141  1.000508 2025-08-20 21:13:46.220557 2025-08-20 21:15:10.037993 0 days 00:01:23.817436             0.062929                   0.000082                                    61                          3                     False                60               2019  COMPLETE\n",
      "98       98  1.000589 2025-08-20 20:34:52.555676 2025-08-20 20:36:10.747230 0 days 00:01:18.191554             0.041502                   0.000042                                    61                          3                     False                35               2019  COMPLETE\n",
      "70       70  1.000635 2025-08-20 20:01:04.179627 2025-08-20 20:02:25.153170 0 days 00:01:20.973543             0.002334                   0.000042                                    61                          8                      True                50               2019  COMPLETE\n",
      "38       38  1.000637 2025-08-20 19:21:27.769443 2025-08-20 19:22:45.950509 0 days 00:01:18.181066             0.098133                   0.000014                                    46                          3                     False                35               2019  COMPLETE\n",
      "7         7  1.000647 2025-08-20 18:51:37.596586 2025-08-20 18:52:14.442422 0 days 00:00:36.845836             0.001370                   0.000722                                    26                          7                      True                90               2023  COMPLETE\n",
      "105     105  1.000688 2025-08-20 20:43:32.529140 2025-08-20 20:44:03.062519 0 days 00:00:30.533379             0.049556                   0.000114                                    56                          3                     False                35               2023  COMPLETE\n",
      "27       27  1.000703 2025-08-20 19:09:28.656964 2025-08-20 19:10:36.649624 0 days 00:01:07.992660             0.012025                   0.004117                                    76                          5                     False                45               2020  COMPLETE\n",
      "206     206  1.000727 2025-08-20 22:25:42.040577 2025-08-20 22:27:19.692875 0 days 00:01:37.652298             0.074309                   0.000056                                    66                          4                     False                90               2019  COMPLETE\n",
      "14       14  1.000733 2025-08-20 18:57:41.744841 2025-08-20 18:58:37.356159 0 days 00:00:55.611318             0.005465                   0.000738                                    51                          7                      True                30               2021  COMPLETE\n",
      "12       12  1.000740 2025-08-20 18:55:49.002321 2025-08-20 18:56:39.628526 0 days 00:00:50.626205             0.033743                   0.000019                                    51                          7                      True                85               2022  COMPLETE\n",
      "67       67  1.000746 2025-08-20 19:57:50.824861 2025-08-20 19:58:23.012049 0 days 00:00:32.187188             0.049347                   0.000244                                    51                          5                     False                55               2023  COMPLETE\n",
      "181     181  1.000749 2025-08-20 21:54:22.348890 2025-08-20 21:55:05.156129 0 days 00:00:42.807239             0.068778                   0.000084                                    81                          4                     False                30               2022  COMPLETE\n",
      "142     142  1.000772 2025-08-20 21:15:10.053877 2025-08-20 21:16:33.782112 0 days 00:01:23.728235             0.016671                   0.000175                                    61                          3                     False                55               2019  COMPLETE\n",
      "160     160  1.000785 2025-08-20 21:35:48.078463 2025-08-20 21:37:06.889940 0 days 00:01:18.811477             0.044236                   0.000025                                    61                          3                     False                35               2019  COMPLETE\n",
      "45       45  1.000788 2025-08-20 19:30:48.089084 2025-08-20 19:32:10.482874 0 days 00:01:22.393790             0.060496                   0.000021                                    66                          3                     False                55               2019  COMPLETE\n",
      "26       26  1.000827 2025-08-20 19:08:35.615436 2025-08-20 19:09:28.641050 0 days 00:00:53.025614             0.021989                   0.000221                                    56                          6                     False                30               2021  COMPLETE\n",
      "79       79  1.000886 2025-08-20 20:11:10.254048 2025-08-20 20:12:18.015859 0 days 00:01:07.761811             0.038807                   0.000157                                    66                          5                     False                45               2020  COMPLETE\n",
      "123     123  1.000887 2025-08-20 20:59:08.420323 2025-08-20 20:59:56.448487 0 days 00:00:48.028164             0.005166                   0.000073                                    71                          3                     False                85               2022  COMPLETE\n",
      "74       74  1.000903 2025-08-20 20:05:36.776213 2025-08-20 20:06:20.545054 0 days 00:00:43.768841             0.001034                   0.000133                                    46                          4                     False                50               2022  COMPLETE\n",
      "138     138  1.000906 2025-08-20 21:10:57.242370 2025-08-20 21:11:44.880797 0 days 00:00:47.638427             0.068254                   0.000129                                    81                          3                     False                80               2022  COMPLETE\n",
      "13       13  1.000967 2025-08-20 18:56:39.645384 2025-08-20 18:57:41.731046 0 days 00:01:02.085662             0.026619                   0.001602                                    76                          5                     False                70               2021  COMPLETE\n",
      "0         0  1.000991 2025-08-20 18:45:02.518560 2025-08-20 18:45:36.039781 0 days 00:00:33.521221             0.030030                   0.000750                                    66                          7                      True                50               2023  COMPLETE\n",
      "88       88  1.000996 2025-08-20 20:22:47.048974 2025-08-20 20:24:04.635990 0 days 00:01:17.587016             0.093079                   0.000864                                    71                          3                     False                30               2019  COMPLETE\n",
      "161     161  1.001034 2025-08-20 21:37:06.905880 2025-08-20 21:37:54.518635 0 days 00:00:47.612755             0.007339                   0.000033                                    66                          3                     False                85               2022  COMPLETE\n",
      "30       30  1.001053 2025-08-20 19:12:02.916793 2025-08-20 19:12:59.389741 0 days 00:00:56.472948             0.005810                   0.000043                                    56                          4                     False                50               2021  COMPLETE\n",
      "147     147  1.001076 2025-08-20 21:21:54.429347 2025-08-20 21:23:13.491441 0 days 00:01:19.062094             0.057581                   0.000028                                    66                          3                     False                35               2019  COMPLETE\n",
      "211     211  1.001080 2025-08-20 22:32:48.491643 2025-08-20 22:33:32.340048 0 days 00:00:43.848405             0.062677                   0.000115                                    61                          4                     False                45               2022  COMPLETE\n",
      "61       61  1.001093 2025-08-20 19:50:30.467430 2025-08-20 19:51:38.995023 0 days 00:01:08.527593             0.067901                   0.000077                                    61                          4                     False                45               2020  COMPLETE\n",
      "2         2  1.001175 2025-08-20 18:46:23.158113 2025-08-20 18:47:50.299051 0 days 00:01:27.140938             0.008228                   0.000030                                    41                          7                      True                75               2019  COMPLETE\n",
      "216     216  1.001195 2025-08-20 22:39:47.353302 2025-08-20 22:41:21.908415 0 days 00:01:34.555113             0.006319                   0.000047                                    66                          4                     False                90               2019  COMPLETE\n",
      "183     183  1.001206 2025-08-20 21:55:47.526683 2025-08-20 21:56:30.675494 0 days 00:00:43.148811             0.079599                   0.000063                                    21                          4                     False                45               2022  COMPLETE\n",
      "17       17  1.001216 2025-08-20 19:00:04.393109 2025-08-20 19:00:59.786420 0 days 00:00:55.393311             0.097162                   0.000153                                    71                          4                     False                40               2021  COMPLETE\n",
      "90       90  1.001238 2025-08-20 20:25:23.000121 2025-08-20 20:26:40.448216 0 days 00:01:17.448095             0.020247                   0.000020                                    56                          3                     False                30               2019  COMPLETE\n",
      "51       51  1.001256 2025-08-20 19:38:44.720817 2025-08-20 19:39:15.164222 0 days 00:00:30.443405             0.076788                   0.000120                                    76                          4                     False                35               2023  COMPLETE\n",
      "107     107  1.001269 2025-08-20 20:45:22.477622 2025-08-20 20:46:30.057676 0 days 00:01:07.580054             0.073867                   0.000016                                    71                          4                     False                40               2020  COMPLETE\n",
      "32       32  1.001291 2025-08-20 19:14:04.503285 2025-08-20 19:15:10.045021 0 days 00:01:05.541736             0.025498                   0.000266                                    66                          4                     False                30               2020  COMPLETE\n",
      "25       25  1.001302 2025-08-20 19:07:40.949709 2025-08-20 19:08:35.599716 0 days 00:00:54.650007             0.072503                   0.000085                                    66                          4                     False                45               2021  COMPLETE\n",
      "62       62  1.001319 2025-08-20 19:51:39.011139 2025-08-20 19:52:34.441811 0 days 00:00:55.430672             0.056369                   0.000090                                    66                          4                     False                45               2021  COMPLETE\n",
      "136     136  1.001346 2025-08-20 21:09:15.861526 2025-08-20 21:10:03.396888 0 days 00:00:47.535362             0.077255                   0.000013                                    66                          3                     False                80               2022  COMPLETE\n",
      "66       66  1.001350 2025-08-20 19:56:32.989312 2025-08-20 19:57:50.809057 0 days 00:01:17.819745             0.041255                   0.000312                                    61                          4                     False                35               2019  COMPLETE\n",
      "153     153  1.001396 2025-08-20 21:28:24.128838 2025-08-20 21:29:44.373703 0 days 00:01:20.244865             0.050987                   0.000132                                    56                          4                     False                45               2019  COMPLETE\n",
      "201     201  1.001399 2025-08-20 22:19:17.870132 2025-08-20 22:20:40.060953 0 days 00:01:22.190821             0.060292                   0.000072                                    61                          4                     False                45               2019  COMPLETE\n",
      "71       71  1.001424 2025-08-20 20:02:25.169913 2025-08-20 20:03:33.091136 0 days 00:01:07.921223             0.063161                   0.000118                                    61                          4                     False                45               2020  COMPLETE\n",
      "72       72  1.001441 2025-08-20 20:03:33.107250 2025-08-20 20:04:42.919251 0 days 00:01:09.812001             0.055668                   0.000081                                    56                          4                     False                55               2020  COMPLETE\n",
      "36       36  1.001500 2025-08-20 19:18:52.508050 2025-08-20 19:20:09.881100 0 days 00:01:17.373050             0.074112                   0.000026                                    46                          3                     False                30               2019  COMPLETE\n",
      "60       60  1.001537 2025-08-20 19:49:23.353647 2025-08-20 19:50:30.451515 0 days 00:01:07.097868             0.083656                   0.000015                                    81                          5                     False                40               2020  COMPLETE\n",
      "29       29  1.001573 2025-08-20 19:11:20.729987 2025-08-20 19:12:02.898564 0 days 00:00:42.168577             0.030307                   0.001278                                    66                          8                     False                35               2022  COMPLETE\n",
      "159     159  1.001575 2025-08-20 21:35:06.150318 2025-08-20 21:35:48.078463 0 days 00:00:41.928145             0.002810                   0.000089                                    51                          4                     False                30               2022  COMPLETE\n",
      "205     205  1.001577 2025-08-20 22:24:15.741792 2025-08-20 22:25:42.028594 0 days 00:01:26.286802             0.002548                   0.000063                                    66                          4                     False                40               2019  COMPLETE\n",
      "19       19  1.001601 2025-08-20 19:02:05.493871 2025-08-20 19:02:47.597379 0 days 00:00:42.103508             0.060079                   0.002155                                    81                          4                     False                40               2022  COMPLETE\n",
      "20       20  1.001607 2025-08-20 19:02:47.613456 2025-08-20 19:03:53.915956 0 days 00:01:06.302500             0.073316                   0.000179                                    71                          5                     False                40               2020  COMPLETE\n",
      "125     125  1.001659 2025-08-20 21:00:45.118718 2025-08-20 21:01:32.507847 0 days 00:00:47.389129             0.001189                   0.000028                                    71                          3                     False                80               2022  COMPLETE\n",
      "207     207  1.001670 2025-08-20 22:27:19.709051 2025-08-20 22:28:41.663180 0 days 00:01:21.954129             0.009296                   0.000040                                    76                          3                     False                35               2019  COMPLETE\n",
      "21       21  1.001748 2025-08-20 19:03:53.931785 2025-08-20 19:04:59.428882 0 days 00:01:05.497097             0.018867                   0.000150                                    61                          4                     False                30               2020  COMPLETE\n",
      "97       97  1.001758 2025-08-20 20:33:31.754788 2025-08-20 20:34:52.539592 0 days 00:01:20.784804             0.089239                   0.000197                                    81                          4                     False                50               2019  COMPLETE\n",
      "154     154  1.001772 2025-08-20 21:29:44.389339 2025-08-20 21:30:29.291306 0 days 00:00:44.901967             0.054601                   0.000078                                    61                          4                     False                50               2022  COMPLETE\n",
      "92       92  1.001792 2025-08-20 20:27:22.981021 2025-08-20 20:28:29.082143 0 days 00:01:06.101122             0.068928                   0.000080                                    61                          4                     False                35               2020  COMPLETE\n",
      "151     151  1.001794 2025-08-20 21:26:07.818981 2025-08-20 21:27:03.645022 0 days 00:00:55.826041             0.071276                   0.000091                                    61                          4                     False                45               2021  COMPLETE\n",
      "174     174  1.001813 2025-08-20 21:48:25.974314 2025-08-20 21:49:15.173212 0 days 00:00:49.198898             0.003418                   0.000023                                    71                          3                     False                90               2022  COMPLETE\n",
      "58       58  1.001816 2025-08-20 19:46:42.680076 2025-08-20 19:47:58.739603 0 days 00:01:16.059527             0.049347                   0.000036                                    66                          4                     False                90               2020  COMPLETE\n",
      "202     202  1.001869 2025-08-20 22:20:40.075188 2025-08-20 22:22:03.309740 0 days 00:01:23.234552             0.074151                   0.000087                                    61                          4                     False                40               2019  COMPLETE\n",
      "109     109  1.001921 2025-08-20 20:47:50.512466 2025-08-20 20:49:08.967875 0 days 00:01:18.455409             0.063450                   0.000089                                    61                          4                     False                40               2019  COMPLETE\n",
      "146     146  1.001926 2025-08-20 21:20:34.769186 2025-08-20 21:21:54.413304 0 days 00:01:19.644118             0.068499                   0.000094                                    61                          3                     False                40               2019  COMPLETE\n",
      "76       76  1.001942 2025-08-20 20:07:38.930369 2025-08-20 20:08:56.837490 0 days 00:01:17.907121             0.033404                   0.000066                                    71                          3                     False                35               2019  COMPLETE\n",
      "158     158  1.001947 2025-08-20 21:33:43.841969 2025-08-20 21:35:06.134223 0 days 00:01:22.292254             0.066765                   0.000015                                    56                          3                     False                50               2019  COMPLETE\n",
      "47       47  1.001956 2025-08-20 19:33:30.485899 2025-08-20 19:34:51.571218 0 days 00:01:21.085319             0.046076                   0.000035                                    36                          3                     False                50               2019  COMPLETE\n",
      "215     215  1.001972 2025-08-20 22:38:13.490719 2025-08-20 22:39:47.336507 0 days 00:01:33.845788             0.078445                   0.000061                                    51                          4                     False                90               2019  COMPLETE\n",
      "112     112  1.002053 2025-08-20 20:50:35.586688 2025-08-20 20:51:18.787130 0 days 00:00:43.200442             0.001752                   0.000148                                    76                          3                     False                45               2022  COMPLETE\n",
      "69       69  1.002055 2025-08-20 19:59:45.842370 2025-08-20 20:01:04.163759 0 days 00:01:18.321389             0.065929                   0.000299                                    66                          4                     False                40               2019  COMPLETE\n",
      "133     133  1.002073 2025-08-20 21:07:06.367893 2025-08-20 21:07:41.012893 0 days 00:00:34.645000             0.004116                   0.000048                                    76                          3                     False                85               2023  COMPLETE\n",
      "91       91  1.002078 2025-08-20 20:26:40.464063 2025-08-20 20:27:22.968961 0 days 00:00:42.504898             0.063254                   0.000106                                    61                          4                     False                40               2022  COMPLETE\n",
      "95       95  1.002124 2025-08-20 20:31:04.540730 2025-08-20 20:32:23.692168 0 days 00:01:19.151438             0.047355                   0.000026                                    66                          6                     False                40               2019  COMPLETE\n",
      "8         8  1.002135 2025-08-20 18:52:14.457912 2025-08-20 18:52:59.026021 0 days 00:00:44.568109             0.057210                   0.000077                                    41                          6                     False                45               2022  COMPLETE\n",
      "176     176  1.002170 2025-08-20 21:50:03.826913 2025-08-20 21:51:33.836360 0 days 00:01:30.009447             0.008559                   0.000058                                    61                          3                     False                90               2019  COMPLETE\n",
      "100     100  1.002211 2025-08-20 20:37:04.120209 2025-08-20 20:38:22.805916 0 days 00:01:18.685707             0.026352                   0.000266                                    31                          4                     False                35               2019  COMPLETE\n",
      "24       24  1.002226 2025-08-20 19:06:59.543627 2025-08-20 19:07:40.933672 0 days 00:00:41.390045             0.053002                   0.001192                                    76                          5                     False                35               2022  COMPLETE\n",
      "52       52  1.002275 2025-08-20 19:39:15.172922 2025-08-20 19:40:33.623182 0 days 00:01:18.450260             0.087812                   0.000129                                    51                          4                     False                35               2019  COMPLETE\n",
      "193     193  1.002283 2025-08-20 22:09:59.834459 2025-08-20 22:11:18.206648 0 days 00:01:18.372189             0.054219                   0.000053                                    66                          3                     False                30               2019  COMPLETE\n",
      "93       93  1.002299 2025-08-20 20:28:29.098036 2025-08-20 20:29:46.451667 0 days 00:01:17.353631             0.052691                   0.000133                                    66                          3                     False                30               2019  COMPLETE\n",
      "53       53  1.002308 2025-08-20 19:40:33.638869 2025-08-20 19:41:40.550881 0 days 00:01:06.912012             0.060510                   0.000058                                    61                          3                     False                40               2020  COMPLETE\n",
      "199     199  1.002329 2025-08-20 22:17:14.276223 2025-08-20 22:18:32.891953 0 days 00:01:18.615730             0.064041                   0.000127                                    71                          3                     False                30               2019  COMPLETE\n",
      "78       78  1.002371 2025-08-20 20:09:52.541297 2025-08-20 20:11:10.238203 0 days 00:01:17.696906             0.087912                   0.000034                                    61                          3                     False                30               2019  COMPLETE\n",
      "126     126  1.002374 2025-08-20 21:01:32.525346 2025-08-20 21:02:21.305264 0 days 00:00:48.779918             0.003149                   0.000083                                    76                          3                     False                90               2022  COMPLETE\n",
      "15       15  1.002399 2025-08-20 18:58:37.372943 2025-08-20 18:59:21.084162 0 days 00:00:43.711219             0.093852                   0.000073                                    81                          5                     False                35               2022  COMPLETE\n",
      "137     137  1.002428 2025-08-20 21:10:03.399797 2025-08-20 21:10:57.226714 0 days 00:00:53.826917             0.013433                   0.000067                                    71                          3                     False                35               2021  COMPLETE\n",
      "18       18  1.002462 2025-08-20 19:00:59.797700 2025-08-20 19:02:05.478115 0 days 00:01:05.680415             0.020021                   0.000160                                    61                          4                     False                30               2020  COMPLETE\n",
      "120     120  1.002464 2025-08-20 20:56:45.786816 2025-08-20 20:57:31.669431 0 days 00:00:45.882615             0.011761                   0.000032                                    76                          3                     False                65               2022  COMPLETE\n",
      "209     209  1.002465 2025-08-20 22:30:05.972564 2025-08-20 22:31:25.834186 0 days 00:01:19.861622             0.085008                   0.000021                                    66                          3                     False                30               2019  COMPLETE\n",
      "169     169  1.002482 2025-08-20 21:44:04.028767 2025-08-20 21:44:46.557074 0 days 00:00:42.528307             0.017684                   0.000075                                    61                          3                     False                35               2022  COMPLETE\n",
      "75       75  1.002595 2025-08-20 20:06:20.560939 2025-08-20 20:07:38.914355 0 days 00:01:18.353416             0.065868                   0.000095                                    61                          3                     False                40               2019  COMPLETE\n",
      "103     103  1.002672 2025-08-20 20:40:58.020115 2025-08-20 20:42:15.193210 0 days 00:01:17.173095             0.059061                   0.000066                                    61                          7                     False                30               2019  COMPLETE\n",
      "194     194  1.002680 2025-08-20 22:11:18.218183 2025-08-20 22:12:46.991159 0 days 00:01:28.772976             0.049576                   0.000036                                    71                          7                     False                85               2019  COMPLETE\n",
      "168     168  1.002687 2025-08-20 21:42:46.563915 2025-08-20 21:44:04.028767 0 days 00:01:17.464852             0.010158                   0.000044                                    76                          3                     False                30               2019  COMPLETE\n",
      "11       11  1.002807 2025-08-20 18:55:05.048601 2025-08-20 18:55:48.989125 0 days 00:00:43.940524             0.036778                   0.001221                                    71                          6                     False                40               2022  COMPLETE\n",
      "94       94  1.002843 2025-08-20 20:29:46.454551 2025-08-20 20:31:04.525034 0 days 00:01:18.070483             0.060616                   0.000033                                    61                          4                     False                35               2019  COMPLETE\n",
      "189     189  1.002859 2025-08-20 22:04:00.636708 2025-08-20 22:05:30.503309 0 days 00:01:29.866601             0.004855                   0.000086                                    66                          3                     False                90               2019  COMPLETE\n",
      "50       50  1.002869 2025-08-20 19:37:20.962263 2025-08-20 19:38:44.705165 0 days 00:01:23.742902             0.034406                   0.000350                                    66                          3                     False                65               2019  COMPLETE\n",
      "187     187  1.002877 2025-08-20 22:01:00.756506 2025-08-20 22:02:30.546261 0 days 00:01:29.789755             0.060491                   0.000074                                    71                          3                     False                90               2019  COMPLETE\n",
      "34       34  1.002893 2025-08-20 19:16:27.780327 2025-08-20 19:17:35.239398 0 days 00:01:07.459071             0.043978                   0.000042                                    71                          3                     False                40               2020  COMPLETE\n",
      "203     203  1.002946 2025-08-20 22:22:03.322175 2025-08-20 22:22:49.713695 0 days 00:00:46.391520             0.056461                   0.000520                                    61                          4                     False                45               2022  COMPLETE\n",
      "175     175  1.002951 2025-08-20 21:49:15.184413 2025-08-20 21:50:03.824189 0 days 00:00:48.639776             0.005685                   0.000027                                    66                          3                     False                90               2022  COMPLETE\n",
      "54       54  1.003001 2025-08-20 19:41:40.566768 2025-08-20 19:42:59.040159 0 days 00:01:18.473391             0.082412                   0.000206                                    71                          4                     False                40               2019  COMPLETE\n",
      "102     102  1.003023 2025-08-20 20:39:39.778255 2025-08-20 20:40:58.020115 0 days 00:01:18.241860             0.050575                   0.000030                                    71                          3                     False                30               2019  COMPLETE\n",
      "156     156  1.003040 2025-08-20 21:31:16.233852 2025-08-20 21:32:35.910324 0 days 00:01:19.676472             0.099056                   0.000048                                    61                          3                     False                40               2019  COMPLETE\n",
      "134     134  1.003042 2025-08-20 21:07:41.027433 2025-08-20 21:08:27.487798 0 days 00:00:46.460365             0.008013                   0.000076                                    66                          3                     False                70               2022  COMPLETE\n",
      "73       73  1.003189 2025-08-20 20:04:42.934961 2025-08-20 20:05:36.760539 0 days 00:00:53.825578             0.045300                   0.000051                                    66                          5                     False                30               2021  COMPLETE\n",
      "68       68  1.003222 2025-08-20 19:58:23.027988 2025-08-20 19:59:45.824969 0 days 00:01:22.796981             0.081790                   0.000171                                    56                          3                     False                60               2019  COMPLETE\n",
      "157     157  1.003282 2025-08-20 21:32:35.925992 2025-08-20 21:33:43.825961 0 days 00:01:07.899969             0.082733                   0.000060                                    66                          3                     False                45               2020  COMPLETE\n",
      "44       44  1.003309 2025-08-20 19:29:27.691510 2025-08-20 19:30:48.089084 0 days 00:01:20.397574             0.030515                   0.000104                                    61                          3                     False                45               2019  COMPLETE\n",
      "64       64  1.003346 2025-08-20 19:53:55.163544 2025-08-20 19:55:15.799887 0 days 00:01:20.636343             0.099055                   0.000498                                    56                          3                     False                50               2019  COMPLETE\n",
      "116     116  1.003416 2025-08-20 20:53:37.240628 2025-08-20 20:54:23.913864 0 days 00:00:46.673236             0.005394                   0.000051                                    76                          3                     False                80               2022  COMPLETE\n",
      "152     152  1.003431 2025-08-20 21:27:03.661026 2025-08-20 21:28:24.117400 0 days 00:01:20.456374             0.064609                   0.000068                                    61                          4                     False                45               2019  COMPLETE\n",
      "170     170  1.003464 2025-08-20 21:44:46.572770 2025-08-20 21:46:02.281598 0 days 00:01:15.708828             0.058181                   0.000018                                    71                          3                     False                90               2020  COMPLETE\n",
      "22       22  1.003467 2025-08-20 19:04:59.444621 2025-08-20 19:06:05.413733 0 days 00:01:05.969112             0.041520                   0.000228                                    61                          4                     False                30               2020  COMPLETE\n",
      "35       35  1.003536 2025-08-20 19:17:35.243405 2025-08-20 19:18:52.492032 0 days 00:01:17.248627             0.069757                   0.000030                                    66                          3                     False                30               2019  COMPLETE\n",
      "150     150  1.003675 2025-08-20 21:25:13.336047 2025-08-20 21:26:07.802749 0 days 00:00:54.466702             0.062629                   0.000155                                    71                          6                     False                30               2021  COMPLETE\n",
      "213     213  1.003746 2025-08-20 22:35:07.983483 2025-08-20 22:36:39.579151 0 days 00:01:31.595668             0.069885                   0.000078                                    56                          4                     False                85               2019  COMPLETE\n",
      "195     195  1.003769 2025-08-20 22:12:47.006813 2025-08-20 22:14:16.660623 0 days 00:01:29.653810             0.068078                   0.000025                                    41                          3                     False                90               2019  COMPLETE\n",
      "111     111  1.003789 2025-08-20 20:49:52.027562 2025-08-20 20:50:35.581830 0 days 00:00:43.554268             0.003338                   0.000072                                    81                          3                     False                45               2022  COMPLETE\n",
      "85       85  1.003793 2025-08-20 20:18:53.582394 2025-08-20 20:20:11.769098 0 days 00:01:18.186704             0.073388                   0.000018                                    61                          3                     False                35               2019  COMPLETE\n",
      "83       83  1.003828 2025-08-20 20:16:17.998180 2025-08-20 20:17:36.164061 0 days 00:01:18.165881             0.050624                   0.000029                                    66                          3                     False                30               2019  COMPLETE\n",
      "131     131  1.003881 2025-08-20 21:05:31.708546 2025-08-20 21:06:19.333907 0 days 00:00:47.625361             0.007025                   0.000038                                    66                          3                     False                85               2022  COMPLETE\n",
      "56       56  1.003895 2025-08-20 19:44:16.858435 2025-08-20 19:45:24.618044 0 days 00:01:07.759609             0.065029                   0.000089                                    61                          4                     False                45               2020  COMPLETE\n",
      "204     204  1.003926 2025-08-20 22:22:49.729535 2025-08-20 22:24:15.721186 0 days 00:01:25.991651             0.068831                   0.000056                                    66                          4                     False                40               2019  COMPLETE\n",
      "63       63  1.003972 2025-08-20 19:52:34.457719 2025-08-20 19:53:55.147371 0 days 00:01:20.689652             0.062052                   0.000290                                    56                          4                     False                50               2019  COMPLETE\n",
      "186     186  1.003979 2025-08-20 21:59:30.925599 2025-08-20 22:01:00.740841 0 days 00:01:29.815242             0.059693                   0.000074                                    66                          3                     False                90               2019  COMPLETE\n",
      "82       82  1.004007 2025-08-20 20:15:00.535840 2025-08-20 20:16:17.998180 0 days 00:01:17.462340             0.055785                   0.000027                                    61                          3                     False                30               2019  COMPLETE\n",
      "212     212  1.004019 2025-08-20 22:33:32.343835 2025-08-20 22:35:07.963446 0 days 00:01:35.619611             0.065387                   0.000082                                    56                          4                     False                90               2019  COMPLETE\n",
      "16       16  1.004056 2025-08-20 18:59:21.100695 2025-08-20 19:00:04.379987 0 days 00:00:43.279292             0.090103                   0.000129                                    81                          4                     False                30               2022  COMPLETE\n",
      "115     115  1.004056 2025-08-20 20:52:49.991943 2025-08-20 20:53:37.220087 0 days 00:00:47.228144             0.071002                   0.000046                                    76                          3                     False                85               2022  COMPLETE\n",
      "42       42  1.004082 2025-08-20 19:26:44.886731 2025-08-20 19:28:04.843405 0 days 00:01:19.956674             0.051559                   0.000109                                    61                          3                     False                45               2019  COMPLETE\n",
      "177     177  1.004101 2025-08-20 21:51:33.852255 2025-08-20 21:52:15.704509 0 days 00:00:41.852254             0.073722                   0.000101                                    81                          4                     False                30               2022  COMPLETE\n",
      "106     106  1.004103 2025-08-20 20:44:03.078449 2025-08-20 20:45:22.461678 0 days 00:01:19.383229             0.077191                   0.000022                                    66                          3                     False                40               2019  COMPLETE\n",
      "114     114  1.004241 2025-08-20 20:52:02.388782 2025-08-20 20:52:49.975879 0 days 00:00:47.587097             0.069756                   0.000058                                    76                          3                     False                85               2022  COMPLETE\n",
      "121     121  1.004261 2025-08-20 20:57:31.685171 2025-08-20 20:58:20.146481 0 days 00:00:48.461310             0.004316                   0.000070                                    71                          3                     False                90               2022  COMPLETE\n",
      "165     165  1.004266 2025-08-20 21:40:20.566782 2025-08-20 21:41:09.125722 0 days 00:00:48.558940             0.011371                   0.000044                                    66                          3                     False                90               2022  COMPLETE\n",
      "172     172  1.004303 2025-08-20 21:46:50.444604 2025-08-20 21:47:39.961474 0 days 00:00:49.516870             0.006570                   0.000028                                    66                          3                     False                90               2022  COMPLETE\n",
      "41       41  1.004348 2025-08-20 19:25:26.664855 2025-08-20 19:26:44.877203 0 days 00:01:18.212348             0.070005                   0.000031                                    66                          3                     False                35               2019  COMPLETE\n",
      "37       37  1.004381 2025-08-20 19:20:09.896928 2025-08-20 19:21:27.743099 0 days 00:01:17.846171             0.053373                   0.000113                                    61                          3                     False                35               2019  COMPLETE\n",
      "110     110  1.004436 2025-08-20 20:49:08.984018 2025-08-20 20:49:52.011508 0 days 00:00:43.027490             0.001738                   0.000071                                    76                          3                     False                45               2022  COMPLETE\n",
      "81       81  1.004504 2025-08-20 20:13:43.554837 2025-08-20 20:15:00.510194 0 days 00:01:16.955357             0.068991                   0.000027                                    66                          3                     False                30               2019  COMPLETE\n",
      "217     217  1.004518 2025-08-20 22:41:21.925229 2025-08-20 22:42:53.760385 0 days 00:01:31.835156             0.068956                   0.000072                                    71                          3                     False                90               2019  COMPLETE\n",
      "184     184  1.004633 2025-08-20 21:56:30.691324 2025-08-20 21:58:00.870776 0 days 00:01:30.179452             0.059924                   0.000087                                    66                          4                     False                90               2019  COMPLETE\n",
      "129     129  1.004676 2025-08-20 21:03:57.555314 2025-08-20 21:04:44.556948 0 days 00:00:47.001634             0.004336                   0.000066                                    66                          3                     False                75               2022  COMPLETE\n",
      "218     218  1.004706 2025-08-20 22:42:53.772937 2025-08-20 22:43:42.619296 0 days 00:00:48.846359             0.003933                   0.000075                                    71                          3                     False                90               2022  COMPLETE\n",
      "39       39  1.004758 2025-08-20 19:22:45.966424 2025-08-20 19:24:06.151509 0 days 00:01:20.185085             0.054419                   0.000060                                    66                          3                     False                45               2019  COMPLETE\n",
      "31       31  1.004949 2025-08-20 19:12:59.405415 2025-08-20 19:14:04.487623 0 days 00:01:05.082208             0.021107                   0.000108                                    61                          4                     False                30               2020  COMPLETE\n",
      "2025-08-20 22:45:22,531 - Parameter Importances:\n",
      "2025-08-20 22:45:22,531 - is_single_feature: 0.4212369242384108\n",
      "2025-08-20 22:45:22,531 - LSTM_dropout: 0.1981764359517024\n",
      "2025-08-20 22:45:22,531 - idxAfterPrediction: 0.1960635353269789\n",
      "2025-08-20 22:45:22,531 - timesteps: 0.07046791903020981\n",
      "2025-08-20 22:45:22,531 - year_start: 0.04595000516041452\n",
      "2025-08-20 22:45:22,531 - LSTM_learning_rate: 0.03594590448519199\n",
      "2025-08-20 22:45:22,547 - LoadupSamples_time_inc_factor: 0.03215927580709153\n"
     ]
    }
   ],
   "source": [
    "def objective(trial: optuna.Trial) -> float:\n",
    "    opt_params = params_default.copy()\n",
    "    opt_params[\"year_start\"] = trial.suggest_int(\"year_start\", 2019, 2023)\n",
    "    opt_params[\"idxAfterPrediction\"] = trial.suggest_int(\"idxAfterPrediction\", 3, 8, step=1)\n",
    "    opt_params[\"LoadupSamples_time_inc_factor\"] = trial.suggest_int(\"LoadupSamples_time_inc_factor\", 21, 81, step=5)\n",
    "    opt_params[\"timesteps\"] = trial.suggest_int(\"timesteps\", 30, 90, step=5)\n",
    "    opt_params[\"LSTM_units\"] = 16\n",
    "    opt_params[\"LSTM_num_layers\"] = 1\n",
    "    opt_params[\"LSTM_learning_rate\"] = trial.suggest_float(\"LSTM_learning_rate\", 1e-5, 1e-3, log=True)\n",
    "    opt_params[\"LSTM_epochs\"] = 2\n",
    "    opt_params[\"LSTM_l1\"] = trial.suggest_float(\"LSTM_l1\", 1e-5, 1e-3, log=True)\n",
    "    opt_params[\"LSTM_l2\"] = trial.suggest_float(\"LSTM_l2\", 1e-4, 1e-1, log=True)\n",
    "    opt_params[\"LSTM_dropout\"] = trial.suggest_float(\"LSTM_dropout\", 1e-4, 1e-2, log=True)\n",
    "    opt_params[\"LSTM_inter_dropout\"] = trial.suggest_float(\"LSTM_inter_dropout\", 1e-4, 1e-1, log=True)\n",
    "    opt_params[\"LSTM_recurrent_dropout\"] = trial.suggest_float(\"LSTM_recurrent_dropout\", 1e-4, 1e-1, log=True)\n",
    "    opt_params[\"LSTM_conv1d_kernel_size\"] = 3\n",
    "    opt_params[\"is_single_feature\"] = trial.suggest_categorical(\"is_single_feature\", [True, False])\n",
    "\n",
    "    ls = LoadupSamples(\n",
    "        train_start_date=datetime.date(year=opt_params[\"year_start\"], month=1, day=1),\n",
    "        test_dates=[eval_date],\n",
    "        treegroup=None,\n",
    "        timegroup=stock_group,\n",
    "        params=opt_params,\n",
    "    )\n",
    "    ls.load_samples(main_path = \"../src/featureAlchemy/bin/\")\n",
    "\n",
    "    ls.split_dataset(\n",
    "        start_date=datetime.date(year=opt_params[\"year_start\"], month=1, day=1),\n",
    "        last_train_date=split_date,\n",
    "        last_test_date=eval_date,\n",
    "    )\n",
    "\n",
    "    Xtrain = ls.train_Xtime\n",
    "    ytrain = ls.train_ytime\n",
    "    Xtest = ls.test_Xtime\n",
    "    ytest = ls.test_ytime\n",
    "\n",
    "    true_res = ls.meta_pl_test\n",
    "\n",
    "    Xtrain = Xtrain[:, -opt_params[\"timesteps\"]:, :]\n",
    "    Xtest = Xtest[:, -opt_params[\"timesteps\"]:, :]\n",
    "\n",
    "    if opt_params[\"is_single_feature\"]:\n",
    "        Xtrain = Xtrain[:, :, [0]]\n",
    "        Xtest = Xtest[:, :, [0]]\n",
    "\n",
    "    mm = MachineModels(opt_params)\n",
    "\n",
    "    starttime0 = datetime.datetime.now()\n",
    "    model_lstm0, res_dict0 = mm.run_LSTM_torch(Xtrain, ytrain, Xtest, ytest, device=\"cuda\")\n",
    "    preds_test0 = mm.predict_LSTM_torch(model_lstm0, Xtest, batch_size=opt_params[\"LSTM_batch_size\"], device=\"cuda\")\n",
    "    endtime0 = datetime.datetime.now()\n",
    "\n",
    "    # final mask\n",
    "    q0 = q_full\n",
    "    mask_pred0_test_above = (np.abs(preds_test0) >= np.quantile(np.abs(preds_test0),   q0))\n",
    "    mask_pred0_test_below = (np.abs(preds_test0) <= np.quantile(np.abs(preds_test0), 1-q0))\n",
    "\n",
    "    true_res_masked_above = true_res.filter(pl.Series(mask_pred0_test_above))\n",
    "    true_res_masked_below = true_res.filter(pl.Series(mask_pred0_test_below))\n",
    "\n",
    "    score = (np.mean(true_res_masked_above['target_ratio'].to_numpy())) ** (1/opt_params[\"idxAfterPrediction\"])\n",
    "\n",
    "    # Log some results\n",
    "    def quant_dis_in_mask(mask: np.ndarray, q: float) -> float:\n",
    "        if not mask.any():\n",
    "            return len(mask)\n",
    "        return np.quantile(np.abs(np.diff(np.where(mask)[0])), q)\n",
    "\n",
    "    fullmask_above = mask_pred0_test_above.copy()\n",
    "    fullmask_below = mask_pred0_test_below.copy()\n",
    "\n",
    "    logger.info(f\"Trial {trial.number} with params: {opt_params}\")\n",
    "    logger.info(f\"  q0: {q0:.4f}\")\n",
    "    logger.info(f\"  Duration0: {endtime0 - starttime0}\")\n",
    "    logger.info(f\"  Val RMSE0 adjusted: {res_dict0['val_rmse']/opt_params['LoadupSamples_time_inc_factor']:.4f}\")\n",
    "    logger.info(f\"  Mean all prediction: {np.mean(true_res['target_ratio'].to_numpy()):.4f}\")\n",
    "    logger.info(f\"  Mean above prediction: {np.mean(true_res_masked_above['target_ratio'].to_numpy()):.4f}\")\n",
    "    logger.info(f\"  Mean below prediction: {np.mean(true_res_masked_below['target_ratio'].to_numpy()):.4f}\")\n",
    "    logger.info(f\"  Quantile 0.99 for distance in mask above: {quant_dis_in_mask(fullmask_above, 0.99)}\")\n",
    "    logger.info(f\"  Quantile 0.99 for distance in mask below: {quant_dis_in_mask(fullmask_below, 0.99)}\")\n",
    "    logger.info(f\"  Ratio for quantile-distance-to-length above: {quant_dis_in_mask(fullmask_above, 0.99) / len(fullmask_above):.4f}\")\n",
    "    logger.info(f\"  Ratio for quantile-distance-to-length below: {quant_dis_in_mask(fullmask_below, 0.99) / len(fullmask_below):.4f}\")\n",
    "    logger.info(f\"  Score: {score:.4f}\")\n",
    "\n",
    "    return score\n",
    "\n",
    "optuna.logging.enable_propagation()\n",
    "sampler = optuna.samplers.TPESampler(n_startup_trials=n_startup_trials)\n",
    "study = optuna.create_study(\n",
    "    study_name = studyname,\n",
    "    storage=\"sqlite:///sandbox_optuna.db\",\n",
    "    direction=\"maximize\",\n",
    "    load_if_exists=True,\n",
    "    sampler=sampler,\n",
    ")\n",
    "study.optimize(objective, timeout=studytime)\n",
    "\n",
    "logger.info(f\"Best parameters: {study.best_params}\")\n",
    "logger.info(f\"Best score: {study.best_value}\")\n",
    "\n",
    "df: pd.DataFrame = study.trials_dataframe()\n",
    "logger.info(\"\\nTrials DataFrame:\")\n",
    "logger.info(df.sort_values(\"value\").to_string())\n",
    "\n",
    "param_importances = optuna.importance.get_param_importances(study)\n",
    "logger.info(\"Parameter Importances:\")\n",
    "for key, value in param_importances.items():\n",
    "    logger.info(f\"{key}: {value}\")"
   ]
  },
  {
   "cell_type": "code",
   "execution_count": 5,
   "id": "bc9856fd",
   "metadata": {},
   "outputs": [],
   "source": [
    "df.to_parquet(f\"sandbox_lstm_optuna_{formatted_str}.parquet\", index=False)"
   ]
  },
  {
   "cell_type": "code",
   "execution_count": 6,
   "id": "511a1e13",
   "metadata": {},
   "outputs": [
    {
     "ename": "TypeError",
     "evalue": "LoadupSamples.__init__() got an unexpected keyword argument 'group'",
     "output_type": "error",
     "traceback": [
      "\u001b[31m---------------------------------------------------------------------------\u001b[39m",
      "\u001b[31mTypeError\u001b[39m                                 Traceback (most recent call last)",
      "\u001b[36mCell\u001b[39m\u001b[36m \u001b[39m\u001b[32mIn[6]\u001b[39m\u001b[32m, line 8\u001b[39m\n\u001b[32m      5\u001b[39m best_params[\u001b[33m\"\u001b[39m\u001b[33mLSTM_conv1d_kernel_size\u001b[39m\u001b[33m\"\u001b[39m] = \u001b[32m3\u001b[39m\n\u001b[32m      6\u001b[39m best_params[\u001b[33m\"\u001b[39m\u001b[33mLSTM_num_layers\u001b[39m\u001b[33m\"\u001b[39m] = \u001b[32m1\u001b[39m\n\u001b[32m----> \u001b[39m\u001b[32m8\u001b[39m ls = \u001b[43mLoadupSamples\u001b[49m\u001b[43m(\u001b[49m\n\u001b[32m      9\u001b[39m \u001b[43m    \u001b[49m\u001b[43mtrain_start_date\u001b[49m\u001b[43m=\u001b[49m\u001b[43mdatetime\u001b[49m\u001b[43m.\u001b[49m\u001b[43mdate\u001b[49m\u001b[43m(\u001b[49m\u001b[43myear\u001b[49m\u001b[43m=\u001b[49m\u001b[43mbest_params\u001b[49m\u001b[43m[\u001b[49m\u001b[33;43m\"\u001b[39;49m\u001b[33;43myear_start\u001b[39;49m\u001b[33;43m\"\u001b[39;49m\u001b[43m]\u001b[49m\u001b[43m,\u001b[49m\u001b[43m \u001b[49m\u001b[43mmonth\u001b[49m\u001b[43m=\u001b[49m\u001b[32;43m1\u001b[39;49m\u001b[43m,\u001b[49m\u001b[43m \u001b[49m\u001b[43mday\u001b[49m\u001b[43m=\u001b[49m\u001b[32;43m1\u001b[39;49m\u001b[43m)\u001b[49m\u001b[43m,\u001b[49m\n\u001b[32m     10\u001b[39m \u001b[43m    \u001b[49m\u001b[43mtest_dates\u001b[49m\u001b[43m=\u001b[49m\u001b[43m[\u001b[49m\u001b[43meval_date\u001b[49m\u001b[43m]\u001b[49m\u001b[43m,\u001b[49m\n\u001b[32m     11\u001b[39m \u001b[43m    \u001b[49m\u001b[43mgroup\u001b[49m\u001b[43m=\u001b[49m\u001b[43mstock_group\u001b[49m\u001b[43m,\u001b[49m\n\u001b[32m     12\u001b[39m \u001b[43m    \u001b[49m\u001b[43mgroup_type\u001b[49m\u001b[43m=\u001b[49m\u001b[33;43m\"\u001b[39;49m\u001b[33;43mTime\u001b[39;49m\u001b[33;43m\"\u001b[39;49m\u001b[43m,\u001b[49m\n\u001b[32m     13\u001b[39m \u001b[43m    \u001b[49m\u001b[43mparams\u001b[49m\u001b[43m=\u001b[49m\u001b[43mbest_params\u001b[49m\u001b[43m,\u001b[49m\n\u001b[32m     14\u001b[39m \u001b[43m)\u001b[49m\n\u001b[32m     15\u001b[39m ls.load_samples(main_path=\u001b[33m\"\u001b[39m\u001b[33m../src/featureAlchemy/bin/\u001b[39m\u001b[33m\"\u001b[39m)\n\u001b[32m     17\u001b[39m ls.split_dataset(\n\u001b[32m     18\u001b[39m     start_date=datetime.date(year=best_params[\u001b[33m\"\u001b[39m\u001b[33myear_start\u001b[39m\u001b[33m\"\u001b[39m], month=\u001b[32m1\u001b[39m, day=\u001b[32m1\u001b[39m),\n\u001b[32m     19\u001b[39m     last_train_date=split_date,\n\u001b[32m     20\u001b[39m     last_test_date=eval_date,\n\u001b[32m     21\u001b[39m )\n",
      "\u001b[31mTypeError\u001b[39m: LoadupSamples.__init__() got an unexpected keyword argument 'group'"
     ]
    }
   ],
   "source": [
    "# Run with best parameters\n",
    "best_params = {**params_default, **study.best_params.copy()}\n",
    "best_params[\"LSTM_units\"] = 16\n",
    "best_params[\"LSTM_epochs\"] = 2\n",
    "best_params[\"LSTM_conv1d_kernel_size\"] = 3\n",
    "best_params[\"LSTM_num_layers\"] = 1\n",
    "\n",
    "ls = LoadupSamples(\n",
    "    train_start_date=datetime.date(year=best_params[\"year_start\"], month=1, day=1),\n",
    "    test_dates=[eval_date],\n",
    "    group=stock_group,\n",
    "    group_type=\"Time\",\n",
    "    params=best_params,\n",
    ")\n",
    "ls.load_samples(main_path=\"../src/featureAlchemy/bin/\")\n",
    "\n",
    "ls.split_dataset(\n",
    "    start_date=datetime.date(year=best_params[\"year_start\"], month=1, day=1),\n",
    "    last_train_date=split_date,\n",
    "    last_test_date=eval_date,\n",
    ")\n",
    "\n",
    "Xtrain = ls.train_Xtime\n",
    "ytrain = ls.train_ytime\n",
    "Xtest = ls.test_Xtime\n",
    "ytest = ls.test_ytime\n",
    "\n",
    "Xtrain = Xtrain[:, -best_params[\"timesteps\"]:, :]\n",
    "Xtest = Xtest[:, -best_params[\"timesteps\"]:, :]\n",
    "\n",
    "if best_params[\"is_single_feature\"]:\n",
    "    Xtrain = Xtrain[:, :, [0]]\n",
    "    Xtest = Xtest[:, :, [0]]\n",
    "\n",
    "mm = MachineModels(best_params)\n",
    "model_lstm, res_dict = mm.run_LSTM_torch(Xtrain, ytrain, Xtest, ytest, device=\"cuda\")\n",
    "preds = mm.predict_LSTM_torch(model_lstm, Xtest, batch_size=best_params[\"LSTM_batch_size\"], device=\"cuda\")\n",
    "\n"
   ]
  },
  {
   "cell_type": "code",
   "execution_count": null,
   "id": "7f463c38",
   "metadata": {},
   "outputs": [
    {
     "name": "stdout",
     "output_type": "stream",
     "text": [
      "2025-08-16 18:33:38,602 -   Val RSME adjusted: 0.0132\n",
      "2025-08-16 18:33:38,604 -   Mean all prediction: 1.0010\n",
      "2025-08-16 18:33:38,605 -   Mean above prediction: 1.0101\n",
      "2025-08-16 18:33:38,605 -   Mean below prediction: 1.0001\n",
      "2025-08-16 18:33:38,608 -   Quantile 0.99 in mask above: 450.27999999999884\n",
      "2025-08-16 18:33:38,609 -   Quantile 0.99 in mask below: 427.0\n",
      "2025-08-16 18:33:38,611 -   Ratio for quantile to length above: 0.0007\n",
      "2025-08-16 18:33:38,612 -   Ratio for quantile to length below: 0.0006\n",
      "2025-08-16 18:33:38,612 -   Score: 1.0025\n"
     ]
    }
   ],
   "source": [
    "q = 0.98\n",
    "mask_pred_above = (preds >= np.quantile(preds, q))\n",
    "mask_pred_below = (preds <= np.quantile(preds, 1-q))\n",
    "true_res = ls.meta_pl_test\n",
    "true_res_masked_above = true_res.filter(pl.Series(mask_pred_above))\n",
    "true_res_masked_below = true_res.filter(pl.Series(mask_pred_below))\n",
    "score = (np.mean(true_res_masked_above['target_ratio'].to_numpy())) ** (1/best_params[\"idxAfterPrediction\"])\n",
    "# Log some results\n",
    "def quant_dis_in_mask(mask: np.ndarray, q: float) -> int:\n",
    "    if not mask.any():\n",
    "        return len(mask)\n",
    "    return np.quantile(np.abs(np.diff(np.where(mask)[0])), q)\n",
    "logger.info(f\"  Val RSME adjusted: {res_dict['val_rmse']/best_params['LoadupSamples_time_inc_factor']:.4f}\")\n",
    "logger.info(f\"  Mean all prediction: {np.mean(true_res['target_ratio'].to_numpy()):.4f}\")\n",
    "logger.info(f\"  Mean above prediction: {np.mean(true_res_masked_above['target_ratio'].to_numpy()):.4f}\")\n",
    "logger.info(f\"  Mean below prediction: {np.mean(true_res_masked_below['target_ratio'].to_numpy()):.4f}\")\n",
    "logger.info(f\"  Quantile 0.99 in mask above: {quant_dis_in_mask(mask_pred_above, 0.99)}\")\n",
    "logger.info(f\"  Quantile 0.99 in mask below: {quant_dis_in_mask(mask_pred_below, 0.99)}\")\n",
    "logger.info(f\"  Ratio for quantile to length above: {quant_dis_in_mask(mask_pred_above, 0.99) / len(mask_pred_above):.4f}\")\n",
    "logger.info(f\"  Ratio for quantile to length below: {quant_dis_in_mask(mask_pred_below, 0.99) / len(mask_pred_below):.4f}\")\n",
    "logger.info(f\"  Score: {score:.4f}\")"
   ]
  }
 ],
 "metadata": {
  "kernelspec": {
   "display_name": ".venv",
   "language": "python",
   "name": "python3"
  },
  "language_info": {
   "codemirror_mode": {
    "name": "ipython",
    "version": 3
   },
   "file_extension": ".py",
   "mimetype": "text/x-python",
   "name": "python",
   "nbconvert_exporter": "python",
   "pygments_lexer": "ipython3",
   "version": "3.12.10"
  }
 },
 "nbformat": 4,
 "nbformat_minor": 5
}
