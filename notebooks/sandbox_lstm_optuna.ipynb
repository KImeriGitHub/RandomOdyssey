{
 "cells": [
  {
   "cell_type": "code",
   "execution_count": 2,
   "id": "0c3b363e",
   "metadata": {},
   "outputs": [
    {
     "name": "stdout",
     "output_type": "stream",
     "text": [
      "2025-07-11 22:31:40,700 - This will print to the notebook's output cell\n"
     ]
    }
   ],
   "source": [
    "import sys\n",
    "import os\n",
    "\n",
    "# Get the absolute path to the project directory\n",
    "project_dir = os.path.abspath(\"..\")\n",
    "\n",
    "# Append the project directory to sys.path\n",
    "if project_dir not in sys.path:\n",
    "    sys.path.append(project_dir)\n",
    "    \n",
    "from src.predictionModule.LoadupSamples import LoadupSamples\n",
    "from src.predictionModule.FilterSamples import FilterSamples\n",
    "\n",
    "import numpy as np\n",
    "import polars as pl\n",
    "import datetime\n",
    "import random\n",
    "import matplotlib.pyplot as plt\n",
    "\n",
    "import logging\n",
    "formatted_date = datetime.datetime.now().strftime(\"%d%b%y_%H%M\").lower()\n",
    "\n",
    "logger = logging.getLogger()\n",
    "logger.setLevel(logging.DEBUG)\n",
    "handler = logging.StreamHandler(sys.stdout)\n",
    "formatter = logging.Formatter(fmt=\"%(asctime)s - %(message)s\")\n",
    "handler.setFormatter(formatter)\n",
    "if not logger.hasHandlers():\n",
    "    logger.addHandler(handler)\n",
    "else:\n",
    "    logger.handlers[:] = [handler]\n",
    "\n",
    "#Output File handler\n",
    "formatted_str = f\"notebook-lstm-optuna-{formatted_date}\"\n",
    "file_handler = logging.FileHandler(f\"{formatted_str}.log\", mode=\"w\")\n",
    "file_handler.setFormatter(formatter)\n",
    "logger.addHandler(file_handler)\n",
    "\n",
    "# Usage\n",
    "logger.info(\"This will print to the notebook's output cell\")"
   ]
  },
  {
   "cell_type": "code",
   "execution_count": null,
   "id": "cb954e7d",
   "metadata": {},
   "outputs": [],
   "source": [
    "params = {\n",
    "    \"idxAfterPrediction\": 5,\n",
    "    'timesteps': 60,\n",
    "    'target_option': 'last',\n",
    "    \n",
    "    \"TreeTime_lstm_units\": 32,\n",
    "    \"TreeTime_lstm_num_layers\": 3,\n",
    "    \"TreeTime_lstm_dropout\": 0.00001,\n",
    "    \"TreeTime_lstm_recurrent_dropout\": 0.00001,\n",
    "    \"TreeTime_lstm_learning_rate\": 0.001,\n",
    "    \"TreeTime_lstm_optimizer\": \"adam\",\n",
    "    \"TreeTime_lstm_bidirectional\": True,\n",
    "    \"TreeTime_lstm_batch_size\": 2**12,\n",
    "    \"TreeTime_lstm_epochs\": 20,\n",
    "    \"TreeTime_lstm_l1\": 0.00001,\n",
    "    \"TreeTime_lstm_l2\": 0.00001,\n",
    "    \"TreeTime_inter_dropout\": 0.00001,\n",
    "    \"TreeTime_input_gaussian_noise\": 0.00001,\n",
    "    \"TreeTime_lstm_conv1d\": True,\n",
    "    \"TreeTime_lstm_conv1d_kernel_size\": 3,\n",
    "    \"TreeTime_lstm_loss\": \"mse\",\n",
    "}"
   ]
  },
  {
   "cell_type": "code",
   "execution_count": 4,
   "id": "8c306cf3",
   "metadata": {},
   "outputs": [],
   "source": [
    "stock_group = \"group_snp500_finanTo2011\"\n",
    "\n",
    "eval_dates = sorted([\n",
    "    datetime.date(2025,  2,  1) - datetime.timedelta(days=i*60 + random.randint(-10,10)) \n",
    "    for i in range(1)\n",
    "])\n",
    "\n",
    "years_back = 9\n",
    "start_Dates = [eval_date - datetime.timedelta(days=365 * years_back) for eval_date in eval_dates]\n",
    "start_Dates = [datetime.date(year=start_date.year, month=1, day=1) for start_date in start_Dates]"
   ]
  },
  {
   "cell_type": "code",
   "execution_count": 5,
   "id": "e8289692",
   "metadata": {},
   "outputs": [
    {
     "name": "stderr",
     "output_type": "stream",
     "text": [
      "c:\\Users\\kimer\\Desktop\\RandomOdyssey\\.venv\\Lib\\site-packages\\tqdm\\auto.py:21: TqdmWarning: IProgress not found. Please update jupyter and ipywidgets. See https://ipywidgets.readthedocs.io/en/stable/user_install.html\n",
      "  from .autonotebook import tqdm as notebook_tqdm\n"
     ]
    }
   ],
   "source": [
    "import time\n",
    "import torch\n",
    "import torch.nn as nn\n",
    "import torch.optim as optim\n",
    "from torch.utils.data import DataLoader, TensorDataset\n",
    "from tqdm import tqdm, trange\n",
    "import shap\n",
    "\n",
    "class TreeTimeLSTM(nn.Module):\n",
    "    def __init__(self, \n",
    "                 input_size,\n",
    "                 lstm_units,\n",
    "                 num_layers,\n",
    "                 dropout,\n",
    "                 recurrent_dropout,\n",
    "                 bidirectional,\n",
    "                 l1=0.0,\n",
    "                 l2=0.0,\n",
    "                 use_conv1d=False,\n",
    "                 conv_kernel=3,\n",
    "                 noise_std=0.0,\n",
    "                 inter_dropout=0.0):\n",
    "        super().__init__()\n",
    "        self.use_conv1d = use_conv1d\n",
    "        self.noise_std = noise_std\n",
    "        self.inter_dropout = inter_dropout\n",
    "\n",
    "        if use_conv1d:\n",
    "            self.conv1d = nn.Conv1d(\n",
    "                in_channels=input_size,\n",
    "                out_channels=lstm_units,\n",
    "                kernel_size=conv_kernel,\n",
    "                padding=conv_kernel//2\n",
    "            )\n",
    "            input_size = lstm_units\n",
    "\n",
    "        self.lstm = nn.LSTM(\n",
    "            input_size=input_size,\n",
    "            hidden_size=lstm_units,\n",
    "            num_layers=num_layers,\n",
    "            dropout=dropout if num_layers > 1 else 0.0,\n",
    "            bidirectional=bidirectional,\n",
    "            batch_first=True\n",
    "        )\n",
    "        self.dropout = nn.Dropout(inter_dropout) if inter_dropout > 0 else None\n",
    "        self.output = nn.Linear(\n",
    "            lstm_units * (2 if bidirectional else 1),\n",
    "            1\n",
    "        )\n",
    "        self.l1 = l1\n",
    "        self.l2 = l2\n",
    "\n",
    "    def forward(self, x):\n",
    "        if self.noise_std > 0:\n",
    "            x = x + torch.randn_like(x) * self.noise_std\n",
    "        if self.use_conv1d:\n",
    "            x = x.transpose(1, 2)\n",
    "            x = self.conv1d(x)\n",
    "            x = x.transpose(1, 2)\n",
    "        out, _ = self.lstm(x)\n",
    "        out_last = out[:, -1, :]\n",
    "        if self.dropout:\n",
    "            out_last = self.dropout(out_last)\n",
    "        return self.output(out_last)\n",
    "\n",
    "# Loss functions\n",
    "def quantile_loss(q):\n",
    "    def loss_fn(y_pred, y_true):\n",
    "        e = y_true - y_pred\n",
    "        return torch.mean(torch.max(q * e, (q - 1) * e))\n",
    "    return loss_fn\n",
    "\n",
    "def r2_metric(y_pred, y_true):\n",
    "    ss_res = torch.sum((y_true - y_pred) ** 2)\n",
    "    ss_tot = torch.sum((y_true - torch.mean(y_true)) ** 2)\n",
    "    return 1 - ss_res / (ss_tot + 1e-6)\n",
    "\n",
    "def neg_r2_loss(y_pred, y_true):\n",
    "    return -r2_metric(y_pred, y_true)\n",
    "\n",
    "\n",
    "def run(params, train_Xtime, train_ytime, training_ratio=0.95, device='cpu'):\n",
    "    # Hyperparameters\n",
    "    lstm_units = params['TreeTime_lstm_units']\n",
    "    num_layers = params['TreeTime_lstm_num_layers']\n",
    "    dropout = params['TreeTime_lstm_dropout']\n",
    "    recurrent_dropout = params['TreeTime_lstm_recurrent_dropout']\n",
    "    learning_rate = params['TreeTime_lstm_learning_rate']\n",
    "    optimizer_name = params['TreeTime_lstm_optimizer']\n",
    "    bidirectional = params['TreeTime_lstm_bidirectional']\n",
    "    batch_size = params['TreeTime_lstm_batch_size']\n",
    "    epochs = params['TreeTime_lstm_epochs']\n",
    "    loss_name = params['TreeTime_lstm_loss']\n",
    "    l1 = params.get('TreeTime_lstm_l1', 0.0)\n",
    "    l2 = params.get('TreeTime_lstm_l2', 0.0)\n",
    "    inter_dropout = params.get('TreeTime_inter_dropout', 0.0)\n",
    "    noise_std = params.get('TreeTime_input_gaussian_noise', 0.0)\n",
    "    use_conv1d = params.get('TreeTime_lstm_conv1d', False)\n",
    "    conv_kernel = params.get('TreeTime_lstm_conv1d_kernel_size', 3)\n",
    "\n",
    "    # Data split\n",
    "    n_total = train_Xtime.shape[0]\n",
    "    split_at = int(n_total * training_ratio)\n",
    "    X_train, y_train = train_Xtime[:split_at], train_ytime[:split_at]\n",
    "    X_val, y_val = train_Xtime[split_at:], train_ytime[split_at:]\n",
    "\n",
    "    train_ds = TensorDataset(\n",
    "        torch.tensor(X_train, dtype=torch.float32),\n",
    "        torch.tensor(y_train, dtype=torch.float32)\n",
    "    )\n",
    "    val_ds = TensorDataset(\n",
    "        torch.tensor(X_val, dtype=torch.float32),\n",
    "        torch.tensor(y_val, dtype=torch.float32)\n",
    "    )\n",
    "    train_loader = DataLoader(train_ds, batch_size=batch_size, shuffle=False)\n",
    "    val_loader = DataLoader(val_ds, batch_size=batch_size)\n",
    "\n",
    "    # Model\n",
    "    model = TreeTimeLSTM(\n",
    "        input_size=train_Xtime.shape[-1],\n",
    "        lstm_units=lstm_units,\n",
    "        num_layers=num_layers,\n",
    "        dropout=dropout,\n",
    "        recurrent_dropout=recurrent_dropout,\n",
    "        bidirectional=bidirectional,\n",
    "        l1=l1,\n",
    "        l2=l2,\n",
    "        use_conv1d=use_conv1d,\n",
    "        conv_kernel=conv_kernel,\n",
    "        noise_std=noise_std,\n",
    "        inter_dropout=inter_dropout\n",
    "    ).to(device)\n",
    "\n",
    "    # Loss & optimizer\n",
    "    if loss_name == 'mse':\n",
    "        criterion = nn.MSELoss()\n",
    "    elif loss_name == 'r2':\n",
    "        criterion = lambda pred, true: neg_r2_loss(pred, true)\n",
    "    else:\n",
    "        q = int(loss_name.split('_')[1]) / 10.0\n",
    "        criterion = quantile_loss(q)\n",
    "    optimizer = optim.Adam(\n",
    "        model.parameters(), lr=learning_rate, weight_decay=l2\n",
    "    )\n",
    "    if optimizer_name == 'rmsprop':\n",
    "        optimizer = optim.RMSprop(\n",
    "            model.parameters(), lr=learning_rate, weight_decay=l2\n",
    "        )\n",
    "    scheduler = optim.lr_scheduler.ReduceLROnPlateau(\n",
    "        optimizer, factor=0.5, patience=2\n",
    "    )\n",
    "\n",
    "    best_rmse, wait = float('inf'), 0\n",
    "    start_time = time.time()\n",
    "\n",
    "    for epoch in trange(epochs, desc='Epochs'):\n",
    "        model.train()\n",
    "        for X_batch, y_batch in tqdm(\n",
    "            train_loader, desc='Training', leave=False\n",
    "        ):\n",
    "            X_batch, y_batch = X_batch.to(device), y_batch.to(device)\n",
    "            optimizer.zero_grad()\n",
    "            preds = model(X_batch).squeeze()\n",
    "            loss = criterion(preds, y_batch)\n",
    "            if l1 > 0:\n",
    "                l1_penalty = sum(p.abs().sum() for p in model.parameters())\n",
    "                loss += l1 * l1_penalty\n",
    "            loss.backward()\n",
    "            optimizer.step()\n",
    "            if time.time() - start_time > 3600:\n",
    "                break\n",
    "\n",
    "        model.eval()\n",
    "        val_rmses = []\n",
    "        for X_batch, y_batch in tqdm(\n",
    "            val_loader, desc='Validation', leave=False\n",
    "        ):\n",
    "            X_batch, y_batch = X_batch.to(device), y_batch.to(device)\n",
    "            preds = model(X_batch).squeeze()\n",
    "            mse = nn.MSELoss()(preds, y_batch)\n",
    "            val_rmses.append(torch.sqrt(mse).item())\n",
    "        val_rmse = sum(val_rmses) / len(val_rmses)\n",
    "        scheduler.step(val_rmse)\n",
    "\n",
    "        if val_rmse < best_rmse:\n",
    "            best_rmse, wait = val_rmse, 0\n",
    "            best_state = model.state_dict()\n",
    "        else:\n",
    "            wait += 1\n",
    "            if wait >= 3:\n",
    "                break\n",
    "        if time.time() - start_time > 3600:\n",
    "            break\n",
    "\n",
    "    model.load_state_dict(best_state)\n",
    "    return best_rmse, model"
   ]
  },
  {
   "cell_type": "code",
   "execution_count": 6,
   "id": "44ce5ce8",
   "metadata": {},
   "outputs": [],
   "source": [
    "def shorttest(model, train_Xtime, train_ytree, train_ytime, device='cpu'):\n",
    "    # Convert to torch tensor and send to device\n",
    "    n = 20000\n",
    "    X_tensor = torch.tensor(train_Xtime[-n:], dtype=torch.float32).to(device)\n",
    "\n",
    "    # Put model into eval mode and disable grad\n",
    "    model.eval()\n",
    "    with torch.no_grad():\n",
    "        preds = model(X_tensor)        # (N, 1) tensor\n",
    "        preds = preds.squeeze(-1)      # (N,) tensor\n",
    "\n",
    "    # Bring back to CPU NumPy array if you like\n",
    "    preds = preds.cpu().numpy()\n",
    "\n",
    "    true_val = train_ytree[-n:]\n",
    "\n",
    "    rsme_err = np.sqrt(np.mean((preds - train_ytime[-n:])**2))\n",
    "    q = 0.99\n",
    "    mask_pred_above = preds >= np.quantile(preds, q)\n",
    "    mask_pred_below = preds <= np.quantile(preds, 1-q)\n",
    "    logger.info(f\"  Mean error: {rsme_err:.4f}\")\n",
    "    logger.info(f\"  Mean all prediction: {np.mean(true_val):.4f}\")\n",
    "    logger.info(f\"  Mean above prediction: {np.mean(true_val[mask_pred_above]):.4f}\")\n",
    "    logger.info(f\"  Mean below prediction: {np.mean(true_val[mask_pred_below]):.4f}\")\n",
    "    logger.info(f\"  True values above zero: {np.sum(mask_pred_above)/len(mask_pred_above):.4f}\")\n",
    "    logger.info(f\"  True values below zero: {np.sum(true_val[mask_pred_below])/len(mask_pred_below):.4f}\")\n",
    "    \n",
    "    return np.mean(true_val[mask_pred_above]) + np.mean(true_val[mask_pred_below])"
   ]
  },
  {
   "cell_type": "code",
   "execution_count": 7,
   "id": "ed3912a3",
   "metadata": {},
   "outputs": [
    {
     "name": "stderr",
     "output_type": "stream",
     "text": [
      "[I 2025-07-11 22:31:41,226] A new study created in memory with name: no-name-be7baa61-ae93-43b1-90a3-0458a8bc4d22\n"
     ]
    },
    {
     "name": "stdout",
     "output_type": "stream",
     "text": [
      "2025-07-11 22:31:41,226 - A new study created in memory with name: no-name-be7baa61-ae93-43b1-90a3-0458a8bc4d22\n"
     ]
    },
    {
     "name": "stderr",
     "output_type": "stream",
     "text": [
      "Epochs:  20%|██        | 4/20 [00:42<02:51, 10.69s/it]\n"
     ]
    },
    {
     "name": "stdout",
     "output_type": "stream",
     "text": [
      "2025-07-11 22:33:55,937 - Validation RMSE: 0.2101\n",
      "2025-07-11 22:33:56,175 -   Mean error: 0.2086\n",
      "2025-07-11 22:33:56,175 -   Mean all prediction: 1.0021\n",
      "2025-07-11 22:33:56,175 -   Mean above prediction: 1.0035\n",
      "2025-07-11 22:33:56,175 -   Mean below prediction: 1.0059\n",
      "2025-07-11 22:33:56,178 -   True values above zero: 0.0100\n",
      "2025-07-11 22:33:56,178 -   True values below zero: 0.0101\n",
      "2025-07-11 22:33:56,178 - Trial number 0\n",
      "2025-07-11 22:33:56,178 - All scores (test) = [np.float32(2.009387)]\n",
      "2025-07-11 22:33:56,180 - Log mean of scores (test) 0.6978297233581543\n"
     ]
    },
    {
     "name": "stderr",
     "output_type": "stream",
     "text": [
      "[I 2025-07-11 22:33:56,578] Trial 0 finished with value: 0.6978297233581543 and parameters: {'idxAfterPrediction': 4, 'time_scaling_stretch': False, 'time_inc_factor': 15, 'doFeatureReduce': False}. Best is trial 0 with value: 0.6978297233581543.\n"
     ]
    },
    {
     "name": "stdout",
     "output_type": "stream",
     "text": [
      "2025-07-11 22:33:56,578 - Trial 0 finished with value: 0.6978297233581543 and parameters: {'idxAfterPrediction': 4, 'time_scaling_stretch': False, 'time_inc_factor': 15, 'doFeatureReduce': False}. Best is trial 0 with value: 0.6978297233581543.\n"
     ]
    },
    {
     "name": "stderr",
     "output_type": "stream",
     "text": [
      "Epochs:  20%|██        | 4/20 [00:36<02:26,  9.17s/it]"
     ]
    },
    {
     "name": "stdout",
     "output_type": "stream",
     "text": [
      "2025-07-11 22:36:04,547 - Validation RMSE: 0.1644\n",
      "2025-07-11 22:36:04,607 -   Mean error: 0.1629\n",
      "2025-07-11 22:36:04,607 -   Mean all prediction: 1.0010\n",
      "2025-07-11 22:36:04,607 -   Mean above prediction: 1.0035\n",
      "2025-07-11 22:36:04,612 -   Mean below prediction: 1.0025\n",
      "2025-07-11 22:36:04,612 -   True values above zero: 0.0100\n",
      "2025-07-11 22:36:04,612 -   True values below zero: 0.0100\n",
      "2025-07-11 22:36:04,612 - Trial number 1\n",
      "2025-07-11 22:36:04,612 - All scores (test) = [np.float32(2.0059543)]\n",
      "2025-07-11 22:36:04,615 - Log mean of scores (test) 0.6961199045181274\n"
     ]
    },
    {
     "name": "stderr",
     "output_type": "stream",
     "text": [
      "\n",
      "[I 2025-07-11 22:36:05,099] Trial 1 finished with value: 0.6961199045181274 and parameters: {'idxAfterPrediction': 2, 'time_scaling_stretch': False, 'time_inc_factor': 15, 'doFeatureReduce': True}. Best is trial 0 with value: 0.6978297233581543.\n"
     ]
    },
    {
     "name": "stdout",
     "output_type": "stream",
     "text": [
      "2025-07-11 22:36:05,099 - Trial 1 finished with value: 0.6961199045181274 and parameters: {'idxAfterPrediction': 2, 'time_scaling_stretch': False, 'time_inc_factor': 15, 'doFeatureReduce': True}. Best is trial 0 with value: 0.6978297233581543.\n"
     ]
    },
    {
     "name": "stderr",
     "output_type": "stream",
     "text": [
      "Epochs:  15%|█▌        | 3/20 [00:34<03:15, 11.49s/it]\n"
     ]
    },
    {
     "name": "stdout",
     "output_type": "stream",
     "text": [
      "2025-07-11 22:38:09,931 - Validation RMSE: 0.0551\n",
      "2025-07-11 22:38:10,060 -   Mean error: 0.0551\n",
      "2025-07-11 22:38:10,062 -   Mean all prediction: 1.0010\n",
      "2025-07-11 22:38:10,062 -   Mean above prediction: 1.0021\n",
      "2025-07-11 22:38:10,062 -   Mean below prediction: 1.0022\n",
      "2025-07-11 22:38:10,064 -   True values above zero: 0.0100\n",
      "2025-07-11 22:38:10,065 -   True values below zero: 0.0100\n",
      "2025-07-11 22:38:10,065 - Trial number 2\n",
      "2025-07-11 22:38:10,065 - All scores (test) = [np.float32(2.004335)]\n",
      "2025-07-11 22:38:10,067 - Log mean of scores (test) 0.6953123211860657\n"
     ]
    },
    {
     "name": "stderr",
     "output_type": "stream",
     "text": [
      "[I 2025-07-11 22:38:10,480] Trial 2 finished with value: 0.6953123211860657 and parameters: {'idxAfterPrediction': 2, 'time_scaling_stretch': False, 'time_inc_factor': 4, 'doFeatureReduce': False}. Best is trial 0 with value: 0.6978297233581543.\n"
     ]
    },
    {
     "name": "stdout",
     "output_type": "stream",
     "text": [
      "2025-07-11 22:38:10,480 - Trial 2 finished with value: 0.6953123211860657 and parameters: {'idxAfterPrediction': 2, 'time_scaling_stretch': False, 'time_inc_factor': 4, 'doFeatureReduce': False}. Best is trial 0 with value: 0.6978297233581543.\n"
     ]
    },
    {
     "name": "stderr",
     "output_type": "stream",
     "text": [
      "Epochs: 100%|██████████| 20/20 [02:28<00:00,  7.42s/it]"
     ]
    },
    {
     "name": "stdout",
     "output_type": "stream",
     "text": [
      "2025-07-11 22:42:09,455 - Validation RMSE: 0.0646\n"
     ]
    },
    {
     "name": "stderr",
     "output_type": "stream",
     "text": [
      "\n"
     ]
    },
    {
     "name": "stdout",
     "output_type": "stream",
     "text": [
      "2025-07-11 22:42:09,517 -   Mean error: 0.0647\n",
      "2025-07-11 22:42:09,517 -   Mean all prediction: 1.0027\n",
      "2025-07-11 22:42:09,519 -   Mean above prediction: 1.0049\n",
      "2025-07-11 22:42:09,519 -   Mean below prediction: 1.0055\n",
      "2025-07-11 22:42:09,520 -   True values above zero: 0.0100\n",
      "2025-07-11 22:42:09,520 -   True values below zero: 0.0101\n",
      "2025-07-11 22:42:09,520 - Trial number 3\n",
      "2025-07-11 22:42:09,520 - All scores (test) = [np.float32(2.0103931)]\n",
      "2025-07-11 22:42:09,522 - Log mean of scores (test) 0.698330283164978\n"
     ]
    },
    {
     "name": "stderr",
     "output_type": "stream",
     "text": [
      "[I 2025-07-11 22:42:09,989] Trial 3 finished with value: 0.698330283164978 and parameters: {'idxAfterPrediction': 5, 'time_scaling_stretch': False, 'time_inc_factor': 3, 'doFeatureReduce': True}. Best is trial 3 with value: 0.698330283164978.\n"
     ]
    },
    {
     "name": "stdout",
     "output_type": "stream",
     "text": [
      "2025-07-11 22:42:09,989 - Trial 3 finished with value: 0.698330283164978 and parameters: {'idxAfterPrediction': 5, 'time_scaling_stretch': False, 'time_inc_factor': 3, 'doFeatureReduce': True}. Best is trial 3 with value: 0.698330283164978.\n"
     ]
    },
    {
     "name": "stderr",
     "output_type": "stream",
     "text": [
      "Epochs: 100%|██████████| 20/20 [02:31<00:00,  7.57s/it]"
     ]
    },
    {
     "name": "stdout",
     "output_type": "stream",
     "text": [
      "2025-07-11 22:46:13,351 - Validation RMSE: 0.0551\n"
     ]
    },
    {
     "name": "stderr",
     "output_type": "stream",
     "text": [
      "\n"
     ]
    },
    {
     "name": "stdout",
     "output_type": "stream",
     "text": [
      "2025-07-11 22:46:13,417 -   Mean error: 0.0549\n",
      "2025-07-11 22:46:13,418 -   Mean all prediction: 1.0010\n",
      "2025-07-11 22:46:13,418 -   Mean above prediction: 1.0021\n",
      "2025-07-11 22:46:13,419 -   Mean below prediction: 1.0033\n",
      "2025-07-11 22:46:13,420 -   True values above zero: 0.0100\n",
      "2025-07-11 22:46:13,420 -   True values below zero: 0.0101\n",
      "2025-07-11 22:46:13,420 - Trial number 4\n",
      "2025-07-11 22:46:13,420 - All scores (test) = [np.float32(2.0053823)]\n",
      "2025-07-11 22:46:13,422 - Log mean of scores (test) 0.6958346962928772\n"
     ]
    },
    {
     "name": "stderr",
     "output_type": "stream",
     "text": [
      "[I 2025-07-11 22:46:13,902] Trial 4 finished with value: 0.6958346962928772 and parameters: {'idxAfterPrediction': 2, 'time_scaling_stretch': False, 'time_inc_factor': 4, 'doFeatureReduce': True}. Best is trial 3 with value: 0.698330283164978.\n"
     ]
    },
    {
     "name": "stdout",
     "output_type": "stream",
     "text": [
      "2025-07-11 22:46:13,902 - Trial 4 finished with value: 0.6958346962928772 and parameters: {'idxAfterPrediction': 2, 'time_scaling_stretch': False, 'time_inc_factor': 4, 'doFeatureReduce': True}. Best is trial 3 with value: 0.698330283164978.\n"
     ]
    },
    {
     "name": "stderr",
     "output_type": "stream",
     "text": [
      "Epochs: 100%|██████████| 20/20 [02:32<00:00,  7.60s/it]"
     ]
    },
    {
     "name": "stdout",
     "output_type": "stream",
     "text": [
      "2025-07-11 22:50:27,992 - Validation RMSE: 0.1389\n"
     ]
    },
    {
     "name": "stderr",
     "output_type": "stream",
     "text": [
      "\n"
     ]
    },
    {
     "name": "stdout",
     "output_type": "stream",
     "text": [
      "2025-07-11 22:50:28,056 -   Mean error: 0.1376\n",
      "2025-07-11 22:50:28,057 -   Mean all prediction: 1.0005\n",
      "2025-07-11 22:50:28,058 -   Mean above prediction: 1.0011\n",
      "2025-07-11 22:50:28,059 -   Mean below prediction: 1.0037\n",
      "2025-07-11 22:50:28,062 -   True values above zero: 0.0100\n",
      "2025-07-11 22:50:28,063 -   True values below zero: 0.0101\n",
      "2025-07-11 22:50:28,063 - Trial number 5\n",
      "2025-07-11 22:50:28,064 - All scores (test) = [np.float32(2.0047863)]\n",
      "2025-07-11 22:50:28,064 - Log mean of scores (test) 0.6955374479293823\n"
     ]
    },
    {
     "name": "stderr",
     "output_type": "stream",
     "text": [
      "[I 2025-07-11 22:50:28,506] Trial 5 finished with value: 0.6955374479293823 and parameters: {'idxAfterPrediction': 1, 'time_scaling_stretch': True, 'time_inc_factor': 17, 'doFeatureReduce': True}. Best is trial 3 with value: 0.698330283164978.\n"
     ]
    },
    {
     "name": "stdout",
     "output_type": "stream",
     "text": [
      "2025-07-11 22:50:28,506 - Trial 5 finished with value: 0.6955374479293823 and parameters: {'idxAfterPrediction': 1, 'time_scaling_stretch': True, 'time_inc_factor': 17, 'doFeatureReduce': True}. Best is trial 3 with value: 0.698330283164978.\n"
     ]
    },
    {
     "name": "stderr",
     "output_type": "stream",
     "text": [
      "Epochs: 100%|██████████| 20/20 [02:28<00:00,  7.42s/it]"
     ]
    },
    {
     "name": "stdout",
     "output_type": "stream",
     "text": [
      "2025-07-11 22:54:40,855 - Validation RMSE: 0.0444\n"
     ]
    },
    {
     "name": "stderr",
     "output_type": "stream",
     "text": [
      "\n"
     ]
    },
    {
     "name": "stdout",
     "output_type": "stream",
     "text": [
      "2025-07-11 22:54:40,919 -   Mean error: 0.0445\n",
      "2025-07-11 22:54:40,919 -   Mean all prediction: 1.0027\n",
      "2025-07-11 22:54:40,921 -   Mean above prediction: 1.0048\n",
      "2025-07-11 22:54:40,921 -   Mean below prediction: 1.0080\n",
      "2025-07-11 22:54:40,921 -   True values above zero: 0.0100\n",
      "2025-07-11 22:54:40,922 -   True values below zero: 0.0102\n",
      "2025-07-11 22:54:40,922 - Trial number 6\n",
      "2025-07-11 22:54:40,922 - All scores (test) = [np.float32(2.0128036)]\n",
      "2025-07-11 22:54:40,922 - Log mean of scores (test) 0.6995285749435425\n"
     ]
    },
    {
     "name": "stderr",
     "output_type": "stream",
     "text": [
      "[I 2025-07-11 22:54:41,347] Trial 6 finished with value: 0.6995285749435425 and parameters: {'idxAfterPrediction': 5, 'time_scaling_stretch': True, 'time_inc_factor': 2, 'doFeatureReduce': True}. Best is trial 6 with value: 0.6995285749435425.\n"
     ]
    },
    {
     "name": "stdout",
     "output_type": "stream",
     "text": [
      "2025-07-11 22:54:41,347 - Trial 6 finished with value: 0.6995285749435425 and parameters: {'idxAfterPrediction': 5, 'time_scaling_stretch': True, 'time_inc_factor': 2, 'doFeatureReduce': True}. Best is trial 6 with value: 0.6995285749435425.\n"
     ]
    },
    {
     "name": "stderr",
     "output_type": "stream",
     "text": [
      "Epochs:  15%|█▌        | 3/20 [00:34<03:15, 11.49s/it]\n"
     ]
    },
    {
     "name": "stdout",
     "output_type": "stream",
     "text": [
      "2025-07-11 22:56:56,598 - Validation RMSE: 0.1631\n",
      "2025-07-11 22:56:56,726 -   Mean error: 0.1625\n",
      "2025-07-11 22:56:56,726 -   Mean all prediction: 1.0016\n",
      "2025-07-11 22:56:56,726 -   Mean above prediction: 1.0004\n",
      "2025-07-11 22:56:56,728 -   Mean below prediction: 1.0011\n",
      "2025-07-11 22:56:56,728 -   True values above zero: 0.0100\n",
      "2025-07-11 22:56:56,728 -   True values below zero: 0.0100\n",
      "2025-07-11 22:56:56,728 - Trial number 7\n",
      "2025-07-11 22:56:56,730 - All scores (test) = [np.float32(2.0014868)]\n",
      "2025-07-11 22:56:56,730 - Log mean of scores (test) 0.6938902735710144\n"
     ]
    },
    {
     "name": "stderr",
     "output_type": "stream",
     "text": [
      "[I 2025-07-11 22:56:57,187] Trial 7 finished with value: 0.6938902735710144 and parameters: {'idxAfterPrediction': 3, 'time_scaling_stretch': True, 'time_inc_factor': 12, 'doFeatureReduce': False}. Best is trial 6 with value: 0.6995285749435425.\n"
     ]
    },
    {
     "name": "stdout",
     "output_type": "stream",
     "text": [
      "2025-07-11 22:56:57,187 - Trial 7 finished with value: 0.6938902735710144 and parameters: {'idxAfterPrediction': 3, 'time_scaling_stretch': True, 'time_inc_factor': 12, 'doFeatureReduce': False}. Best is trial 6 with value: 0.6995285749435425.\n"
     ]
    },
    {
     "name": "stderr",
     "output_type": "stream",
     "text": [
      "Epochs:  20%|██        | 4/20 [00:36<02:25,  9.08s/it]"
     ]
    },
    {
     "name": "stdout",
     "output_type": "stream",
     "text": [
      "2025-07-11 22:59:07,467 - Validation RMSE: 0.2573\n"
     ]
    },
    {
     "name": "stderr",
     "output_type": "stream",
     "text": [
      "\n"
     ]
    },
    {
     "name": "stdout",
     "output_type": "stream",
     "text": [
      "2025-07-11 22:59:07,526 -   Mean error: 0.2549\n",
      "2025-07-11 22:59:07,528 -   Mean all prediction: 1.0027\n",
      "2025-07-11 22:59:07,528 -   Mean above prediction: 1.0057\n",
      "2025-07-11 22:59:07,528 -   Mean below prediction: 1.0062\n",
      "2025-07-11 22:59:07,528 -   True values above zero: 0.0100\n",
      "2025-07-11 22:59:07,530 -   True values below zero: 0.0101\n",
      "2025-07-11 22:59:07,530 - Trial number 8\n",
      "2025-07-11 22:59:07,530 - All scores (test) = [np.float32(2.0119119)]\n",
      "2025-07-11 22:59:07,530 - Log mean of scores (test) 0.6990854740142822\n"
     ]
    },
    {
     "name": "stderr",
     "output_type": "stream",
     "text": [
      "[I 2025-07-11 22:59:07,998] Trial 8 finished with value: 0.6990854740142822 and parameters: {'idxAfterPrediction': 5, 'time_scaling_stretch': False, 'time_inc_factor': 19, 'doFeatureReduce': True}. Best is trial 6 with value: 0.6995285749435425.\n"
     ]
    },
    {
     "name": "stdout",
     "output_type": "stream",
     "text": [
      "2025-07-11 22:59:07,998 - Trial 8 finished with value: 0.6990854740142822 and parameters: {'idxAfterPrediction': 5, 'time_scaling_stretch': False, 'time_inc_factor': 19, 'doFeatureReduce': True}. Best is trial 6 with value: 0.6995285749435425.\n"
     ]
    },
    {
     "name": "stderr",
     "output_type": "stream",
     "text": [
      "Epochs: 100%|██████████| 20/20 [02:25<00:00,  7.25s/it]"
     ]
    },
    {
     "name": "stdout",
     "output_type": "stream",
     "text": [
      "2025-07-11 23:03:17,531 - Validation RMSE: 0.1175\n"
     ]
    },
    {
     "name": "stderr",
     "output_type": "stream",
     "text": [
      "\n"
     ]
    },
    {
     "name": "stdout",
     "output_type": "stream",
     "text": [
      "2025-07-11 23:03:17,593 -   Mean error: 0.1175\n",
      "2025-07-11 23:03:17,594 -   Mean all prediction: 1.0027\n",
      "2025-07-11 23:03:17,594 -   Mean above prediction: 1.0072\n",
      "2025-07-11 23:03:17,595 -   Mean below prediction: 1.0115\n",
      "2025-07-11 23:03:17,595 -   True values above zero: 0.0100\n",
      "2025-07-11 23:03:17,597 -   True values below zero: 0.0102\n",
      "2025-07-11 23:03:17,597 - Trial number 9\n",
      "2025-07-11 23:03:17,598 - All scores (test) = [np.float32(2.01869)]\n",
      "2025-07-11 23:03:17,598 - Log mean of scores (test) 0.702448844909668\n"
     ]
    },
    {
     "name": "stderr",
     "output_type": "stream",
     "text": [
      "[I 2025-07-11 23:03:18,070] Trial 9 finished with value: 0.702448844909668 and parameters: {'idxAfterPrediction': 5, 'time_scaling_stretch': True, 'time_inc_factor': 6, 'doFeatureReduce': True}. Best is trial 9 with value: 0.702448844909668.\n"
     ]
    },
    {
     "name": "stdout",
     "output_type": "stream",
     "text": [
      "2025-07-11 23:03:18,070 - Trial 9 finished with value: 0.702448844909668 and parameters: {'idxAfterPrediction': 5, 'time_scaling_stretch': True, 'time_inc_factor': 6, 'doFeatureReduce': True}. Best is trial 9 with value: 0.702448844909668.\n"
     ]
    },
    {
     "name": "stderr",
     "output_type": "stream",
     "text": [
      "Epochs:  15%|█▌        | 3/20 [00:33<03:11, 11.24s/it]\n"
     ]
    },
    {
     "name": "stdout",
     "output_type": "stream",
     "text": [
      "2025-07-11 23:05:30,315 - Validation RMSE: 0.1352\n",
      "2025-07-11 23:05:30,438 -   Mean error: 0.1352\n",
      "2025-07-11 23:05:30,438 -   Mean all prediction: 1.0021\n",
      "2025-07-11 23:05:30,438 -   Mean above prediction: 1.0040\n",
      "2025-07-11 23:05:30,438 -   Mean below prediction: 1.0035\n",
      "2025-07-11 23:05:30,438 -   True values above zero: 0.0100\n",
      "2025-07-11 23:05:30,443 -   True values below zero: 0.0101\n",
      "2025-07-11 23:05:30,443 - Trial number 10\n",
      "2025-07-11 23:05:30,443 - All scores (test) = [np.float32(2.0075898)]\n",
      "2025-07-11 23:05:30,443 - Log mean of scores (test) 0.6969348788261414\n"
     ]
    },
    {
     "name": "stderr",
     "output_type": "stream",
     "text": [
      "[I 2025-07-11 23:05:30,843] Trial 10 finished with value: 0.6969348788261414 and parameters: {'idxAfterPrediction': 4, 'time_scaling_stretch': True, 'time_inc_factor': 8, 'doFeatureReduce': False}. Best is trial 9 with value: 0.702448844909668.\n"
     ]
    },
    {
     "name": "stdout",
     "output_type": "stream",
     "text": [
      "2025-07-11 23:05:30,843 - Trial 10 finished with value: 0.6969348788261414 and parameters: {'idxAfterPrediction': 4, 'time_scaling_stretch': True, 'time_inc_factor': 8, 'doFeatureReduce': False}. Best is trial 9 with value: 0.702448844909668.\n"
     ]
    },
    {
     "name": "stderr",
     "output_type": "stream",
     "text": [
      "Epochs:  20%|██        | 4/20 [00:36<02:24,  9.02s/it]"
     ]
    },
    {
     "name": "stdout",
     "output_type": "stream",
     "text": [
      "2025-07-11 23:07:46,543 - Validation RMSE: 0.1472\n",
      "2025-07-11 23:07:46,603 -   Mean error: 0.1469\n",
      "2025-07-11 23:07:46,604 -   Mean all prediction: 1.0027\n",
      "2025-07-11 23:07:46,605 -   Mean above prediction: 1.0045\n",
      "2025-07-11 23:07:46,605 -   Mean below prediction: 1.0103\n",
      "2025-07-11 23:07:46,606 -   True values above zero: 0.0100\n",
      "2025-07-11 23:07:46,606 -   True values below zero: 0.0102\n",
      "2025-07-11 23:07:46,607 - Trial number 11\n",
      "2025-07-11 23:07:46,608 - All scores (test) = [np.float32(2.0148005)]\n",
      "2025-07-11 23:07:46,608 - Log mean of scores (test) 0.7005202174186707\n"
     ]
    },
    {
     "name": "stderr",
     "output_type": "stream",
     "text": [
      "\n",
      "[I 2025-07-11 23:07:47,118] Trial 11 finished with value: 0.7005202174186707 and parameters: {'idxAfterPrediction': 5, 'time_scaling_stretch': True, 'time_inc_factor': 8, 'doFeatureReduce': True}. Best is trial 9 with value: 0.702448844909668.\n"
     ]
    },
    {
     "name": "stdout",
     "output_type": "stream",
     "text": [
      "2025-07-11 23:07:47,118 - Trial 11 finished with value: 0.7005202174186707 and parameters: {'idxAfterPrediction': 5, 'time_scaling_stretch': True, 'time_inc_factor': 8, 'doFeatureReduce': True}. Best is trial 9 with value: 0.702448844909668.\n"
     ]
    },
    {
     "name": "stderr",
     "output_type": "stream",
     "text": [
      "Epochs: 100%|██████████| 20/20 [02:25<00:00,  7.28s/it]"
     ]
    },
    {
     "name": "stdout",
     "output_type": "stream",
     "text": [
      "2025-07-11 23:11:56,877 - Validation RMSE: 0.1352\n",
      "2025-07-11 23:11:56,941 -   Mean error: 0.1351\n",
      "2025-07-11 23:11:56,942 -   Mean all prediction: 1.0021\n",
      "2025-07-11 23:11:56,942 -   Mean above prediction: 1.0047\n",
      "2025-07-11 23:11:56,943 -   Mean below prediction: 1.0065\n",
      "2025-07-11 23:11:56,943 -   True values above zero: 0.0100\n",
      "2025-07-11 23:11:56,944 -   True values below zero: 0.0101\n",
      "2025-07-11 23:11:56,945 - Trial number 12\n",
      "2025-07-11 23:11:56,945 - All scores (test) = [np.float32(2.0111732)]\n",
      "2025-07-11 23:11:56,945 - Log mean of scores (test) 0.698718249797821\n"
     ]
    },
    {
     "name": "stderr",
     "output_type": "stream",
     "text": [
      "\n",
      "[I 2025-07-11 23:11:57,383] Trial 12 finished with value: 0.698718249797821 and parameters: {'idxAfterPrediction': 4, 'time_scaling_stretch': True, 'time_inc_factor': 8, 'doFeatureReduce': True}. Best is trial 9 with value: 0.702448844909668.\n"
     ]
    },
    {
     "name": "stdout",
     "output_type": "stream",
     "text": [
      "2025-07-11 23:11:57,383 - Trial 12 finished with value: 0.698718249797821 and parameters: {'idxAfterPrediction': 4, 'time_scaling_stretch': True, 'time_inc_factor': 8, 'doFeatureReduce': True}. Best is trial 9 with value: 0.702448844909668.\n"
     ]
    },
    {
     "name": "stderr",
     "output_type": "stream",
     "text": [
      "Epochs:  90%|█████████ | 18/20 [02:17<00:15,  7.64s/it]"
     ]
    },
    {
     "name": "stdout",
     "output_type": "stream",
     "text": [
      "2025-07-11 23:15:57,964 - Validation RMSE: 0.1471\n",
      "2025-07-11 23:15:58,028 -   Mean error: 0.1468\n",
      "2025-07-11 23:15:58,028 -   Mean all prediction: 1.0027\n",
      "2025-07-11 23:15:58,029 -   Mean above prediction: 1.0033\n",
      "2025-07-11 23:15:58,029 -   Mean below prediction: 1.0068\n",
      "2025-07-11 23:15:58,030 -   True values above zero: 0.0100\n",
      "2025-07-11 23:15:58,030 -   True values below zero: 0.0101\n"
     ]
    },
    {
     "name": "stderr",
     "output_type": "stream",
     "text": [
      "\n"
     ]
    },
    {
     "name": "stdout",
     "output_type": "stream",
     "text": [
      "2025-07-11 23:15:58,031 - Trial number 13\n",
      "2025-07-11 23:15:58,032 - All scores (test) = [np.float32(2.0101764)]\n",
      "2025-07-11 23:15:58,033 - Log mean of scores (test) 0.6982225179672241\n"
     ]
    },
    {
     "name": "stderr",
     "output_type": "stream",
     "text": [
      "[I 2025-07-11 23:15:58,454] Trial 13 finished with value: 0.6982225179672241 and parameters: {'idxAfterPrediction': 5, 'time_scaling_stretch': True, 'time_inc_factor': 8, 'doFeatureReduce': True}. Best is trial 9 with value: 0.702448844909668.\n"
     ]
    },
    {
     "name": "stdout",
     "output_type": "stream",
     "text": [
      "2025-07-11 23:15:58,454 - Trial 13 finished with value: 0.6982225179672241 and parameters: {'idxAfterPrediction': 5, 'time_scaling_stretch': True, 'time_inc_factor': 8, 'doFeatureReduce': True}. Best is trial 9 with value: 0.702448844909668.\n"
     ]
    },
    {
     "name": "stderr",
     "output_type": "stream",
     "text": [
      "Epochs:  20%|██        | 4/20 [00:35<02:23,  9.00s/it]"
     ]
    },
    {
     "name": "stdout",
     "output_type": "stream",
     "text": [
      "2025-07-11 23:18:13,273 - Validation RMSE: 0.1711\n",
      "2025-07-11 23:18:13,333 -   Mean error: 0.1704\n",
      "2025-07-11 23:18:13,333 -   Mean all prediction: 1.0021\n",
      "2025-07-11 23:18:13,334 -   Mean above prediction: 1.0016\n",
      "2025-07-11 23:18:13,335 -   Mean below prediction: 1.0060\n",
      "2025-07-11 23:18:13,335 -   True values above zero: 0.0100\n",
      "2025-07-11 23:18:13,336 -   True values below zero: 0.0101\n",
      "2025-07-11 23:18:13,336 - Trial number 14\n",
      "2025-07-11 23:18:13,337 - All scores (test) = [np.float32(2.0076594)]\n",
      "2025-07-11 23:18:13,338 - Log mean of scores (test) 0.6969695687294006\n"
     ]
    },
    {
     "name": "stderr",
     "output_type": "stream",
     "text": [
      "\n",
      "[I 2025-07-11 23:18:13,752] Trial 14 finished with value: 0.6969695687294006 and parameters: {'idxAfterPrediction': 4, 'time_scaling_stretch': True, 'time_inc_factor': 11, 'doFeatureReduce': True}. Best is trial 9 with value: 0.702448844909668.\n"
     ]
    },
    {
     "name": "stdout",
     "output_type": "stream",
     "text": [
      "2025-07-11 23:18:13,752 - Trial 14 finished with value: 0.6969695687294006 and parameters: {'idxAfterPrediction': 4, 'time_scaling_stretch': True, 'time_inc_factor': 11, 'doFeatureReduce': True}. Best is trial 9 with value: 0.702448844909668.\n"
     ]
    },
    {
     "name": "stderr",
     "output_type": "stream",
     "text": [
      "Epochs:  70%|███████   | 14/20 [01:49<00:47,  7.85s/it]"
     ]
    },
    {
     "name": "stdout",
     "output_type": "stream",
     "text": [
      "2025-07-11 23:21:44,400 - Validation RMSE: 0.1078\n"
     ]
    },
    {
     "name": "stderr",
     "output_type": "stream",
     "text": [
      "\n"
     ]
    },
    {
     "name": "stdout",
     "output_type": "stream",
     "text": [
      "2025-07-11 23:21:44,462 -   Mean error: 0.1077\n",
      "2025-07-11 23:21:44,463 -   Mean all prediction: 1.0016\n",
      "2025-07-11 23:21:44,464 -   Mean above prediction: 1.0040\n",
      "2025-07-11 23:21:44,465 -   Mean below prediction: 1.0018\n",
      "2025-07-11 23:21:44,465 -   True values above zero: 0.0100\n",
      "2025-07-11 23:21:44,466 -   True values below zero: 0.0101\n",
      "2025-07-11 23:21:44,466 - Trial number 15\n",
      "2025-07-11 23:21:44,467 - All scores (test) = [np.float32(2.0058055)]\n",
      "2025-07-11 23:21:44,467 - Log mean of scores (test) 0.6960456967353821\n"
     ]
    },
    {
     "name": "stderr",
     "output_type": "stream",
     "text": [
      "[I 2025-07-11 23:21:44,945] Trial 15 finished with value: 0.6960456967353821 and parameters: {'idxAfterPrediction': 3, 'time_scaling_stretch': True, 'time_inc_factor': 7, 'doFeatureReduce': True}. Best is trial 9 with value: 0.702448844909668.\n"
     ]
    },
    {
     "name": "stdout",
     "output_type": "stream",
     "text": [
      "2025-07-11 23:21:44,945 - Trial 15 finished with value: 0.6960456967353821 and parameters: {'idxAfterPrediction': 3, 'time_scaling_stretch': True, 'time_inc_factor': 7, 'doFeatureReduce': True}. Best is trial 9 with value: 0.702448844909668.\n"
     ]
    },
    {
     "name": "stderr",
     "output_type": "stream",
     "text": [
      "Epochs: 100%|██████████| 20/20 [02:27<00:00,  7.36s/it]"
     ]
    },
    {
     "name": "stdout",
     "output_type": "stream",
     "text": [
      "2025-07-11 23:25:55,607 - Validation RMSE: 0.0811\n"
     ]
    },
    {
     "name": "stderr",
     "output_type": "stream",
     "text": [
      "\n"
     ]
    },
    {
     "name": "stdout",
     "output_type": "stream",
     "text": [
      "2025-07-11 23:25:55,670 -   Mean error: 0.0810\n",
      "2025-07-11 23:25:55,671 -   Mean all prediction: 1.0016\n",
      "2025-07-11 23:25:55,672 -   Mean above prediction: 1.0024\n",
      "2025-07-11 23:25:55,673 -   Mean below prediction: 1.0045\n",
      "2025-07-11 23:25:55,673 -   True values above zero: 0.0101\n",
      "2025-07-11 23:25:55,674 -   True values below zero: 0.0101\n",
      "2025-07-11 23:25:55,675 - Trial number 16\n",
      "2025-07-11 23:25:55,675 - All scores (test) = [np.float32(2.0068624)]\n",
      "2025-07-11 23:25:55,677 - Log mean of scores (test) 0.696572482585907\n"
     ]
    },
    {
     "name": "stderr",
     "output_type": "stream",
     "text": [
      "[I 2025-07-11 23:25:56,202] Trial 16 finished with value: 0.696572482585907 and parameters: {'idxAfterPrediction': 3, 'time_scaling_stretch': True, 'time_inc_factor': 5, 'doFeatureReduce': True}. Best is trial 9 with value: 0.702448844909668.\n"
     ]
    },
    {
     "name": "stdout",
     "output_type": "stream",
     "text": [
      "2025-07-11 23:25:56,202 - Trial 16 finished with value: 0.696572482585907 and parameters: {'idxAfterPrediction': 3, 'time_scaling_stretch': True, 'time_inc_factor': 5, 'doFeatureReduce': True}. Best is trial 9 with value: 0.702448844909668.\n"
     ]
    },
    {
     "name": "stderr",
     "output_type": "stream",
     "text": [
      "Epochs:  20%|██        | 4/20 [00:36<02:24,  9.00s/it]"
     ]
    },
    {
     "name": "stdout",
     "output_type": "stream",
     "text": [
      "2025-07-11 23:28:12,926 - Validation RMSE: 0.2063\n"
     ]
    },
    {
     "name": "stderr",
     "output_type": "stream",
     "text": [
      "\n"
     ]
    },
    {
     "name": "stdout",
     "output_type": "stream",
     "text": [
      "2025-07-11 23:28:12,989 -   Mean error: 0.2050\n",
      "2025-07-11 23:28:12,990 -   Mean all prediction: 1.0027\n",
      "2025-07-11 23:28:12,990 -   Mean above prediction: 1.0044\n",
      "2025-07-11 23:28:12,991 -   Mean below prediction: 1.0079\n",
      "2025-07-11 23:28:12,991 -   True values above zero: 0.0100\n",
      "2025-07-11 23:28:12,992 -   True values below zero: 0.0101\n",
      "2025-07-11 23:28:12,993 - Trial number 17\n",
      "2025-07-11 23:28:12,993 - All scores (test) = [np.float32(2.0123305)]\n",
      "2025-07-11 23:28:12,994 - Log mean of scores (test) 0.6992934942245483\n"
     ]
    },
    {
     "name": "stderr",
     "output_type": "stream",
     "text": [
      "[I 2025-07-11 23:28:13,438] Trial 17 finished with value: 0.6992934942245483 and parameters: {'idxAfterPrediction': 5, 'time_scaling_stretch': True, 'time_inc_factor': 13, 'doFeatureReduce': True}. Best is trial 9 with value: 0.702448844909668.\n"
     ]
    },
    {
     "name": "stdout",
     "output_type": "stream",
     "text": [
      "2025-07-11 23:28:13,438 - Trial 17 finished with value: 0.6992934942245483 and parameters: {'idxAfterPrediction': 5, 'time_scaling_stretch': True, 'time_inc_factor': 13, 'doFeatureReduce': True}. Best is trial 9 with value: 0.702448844909668.\n"
     ]
    },
    {
     "name": "stderr",
     "output_type": "stream",
     "text": [
      "Epochs:  15%|█▌        | 3/20 [00:33<03:10, 11.18s/it]\n"
     ]
    },
    {
     "name": "stdout",
     "output_type": "stream",
     "text": [
      "2025-07-11 23:30:26,789 - Validation RMSE: 0.0207\n",
      "2025-07-11 23:30:26,939 -   Mean error: 0.0213\n",
      "2025-07-11 23:30:26,940 -   Mean all prediction: 1.0021\n",
      "2025-07-11 23:30:26,941 -   Mean above prediction: 1.0053\n",
      "2025-07-11 23:30:26,943 -   Mean below prediction: 1.0025\n",
      "2025-07-11 23:30:26,943 -   True values above zero: 0.0100\n",
      "2025-07-11 23:30:26,943 -   True values below zero: 0.0100\n",
      "2025-07-11 23:30:26,944 - Trial number 18\n",
      "2025-07-11 23:30:26,945 - All scores (test) = [np.float32(2.007771)]\n",
      "2025-07-11 23:30:26,946 - Log mean of scores (test) 0.6970251798629761\n"
     ]
    },
    {
     "name": "stderr",
     "output_type": "stream",
     "text": [
      "[I 2025-07-11 23:30:27,357] Trial 18 finished with value: 0.6970251798629761 and parameters: {'idxAfterPrediction': 4, 'time_scaling_stretch': True, 'time_inc_factor': 1, 'doFeatureReduce': False}. Best is trial 9 with value: 0.702448844909668.\n"
     ]
    },
    {
     "name": "stdout",
     "output_type": "stream",
     "text": [
      "2025-07-11 23:30:27,357 - Trial 18 finished with value: 0.6970251798629761 and parameters: {'idxAfterPrediction': 4, 'time_scaling_stretch': True, 'time_inc_factor': 1, 'doFeatureReduce': False}. Best is trial 9 with value: 0.702448844909668.\n"
     ]
    },
    {
     "name": "stderr",
     "output_type": "stream",
     "text": [
      "Epochs: 100%|██████████| 20/20 [02:24<00:00,  7.23s/it]"
     ]
    },
    {
     "name": "stdout",
     "output_type": "stream",
     "text": [
      "2025-07-11 23:34:30,835 - Validation RMSE: 0.1175\n"
     ]
    },
    {
     "name": "stderr",
     "output_type": "stream",
     "text": [
      "\n"
     ]
    },
    {
     "name": "stdout",
     "output_type": "stream",
     "text": [
      "2025-07-11 23:34:30,896 -   Mean error: 0.1174\n",
      "2025-07-11 23:34:30,897 -   Mean all prediction: 1.0027\n",
      "2025-07-11 23:34:30,897 -   Mean above prediction: 1.0037\n",
      "2025-07-11 23:34:30,898 -   Mean below prediction: 1.0084\n",
      "2025-07-11 23:34:30,898 -   True values above zero: 0.0100\n",
      "2025-07-11 23:34:30,899 -   True values below zero: 0.0102\n",
      "2025-07-11 23:34:30,900 - Trial number 19\n",
      "2025-07-11 23:34:30,900 - All scores (test) = [np.float32(2.0121422)]\n",
      "2025-07-11 23:34:30,901 - Log mean of scores (test) 0.699199914932251\n"
     ]
    },
    {
     "name": "stderr",
     "output_type": "stream",
     "text": [
      "[I 2025-07-11 23:34:31,318] Trial 19 finished with value: 0.699199914932251 and parameters: {'idxAfterPrediction': 5, 'time_scaling_stretch': True, 'time_inc_factor': 6, 'doFeatureReduce': True}. Best is trial 9 with value: 0.702448844909668.\n"
     ]
    },
    {
     "name": "stdout",
     "output_type": "stream",
     "text": [
      "2025-07-11 23:34:31,318 - Trial 19 finished with value: 0.699199914932251 and parameters: {'idxAfterPrediction': 5, 'time_scaling_stretch': True, 'time_inc_factor': 6, 'doFeatureReduce': True}. Best is trial 9 with value: 0.702448844909668.\n",
      "2025-07-11 23:34:31,318 - Best parameters: {'idxAfterPrediction': 5, 'time_scaling_stretch': True, 'time_inc_factor': 6, 'doFeatureReduce': True}\n",
      "2025-07-11 23:34:31,318 - Best score: 0.702448844909668\n",
      "2025-07-11 23:34:31,322 - \n",
      "Trials DataFrame:\n",
      "2025-07-11 23:34:31,327 -     number     value             datetime_start          datetime_complete               duration  params_doFeatureReduce  params_idxAfterPrediction  params_time_inc_factor  params_time_scaling_stretch     state\n",
      "7        7  0.693890 2025-07-11 22:54:41.355106 2025-07-11 22:56:57.187464 0 days 00:02:15.832358                   False                          3                      12                         True  COMPLETE\n",
      "2        2  0.695312 2025-07-11 22:36:05.099387 2025-07-11 22:38:10.480408 0 days 00:02:05.381021                   False                          2                       4                        False  COMPLETE\n",
      "5        5  0.695537 2025-07-11 22:46:13.902444 2025-07-11 22:50:28.506587 0 days 00:04:14.604143                    True                          1                      17                         True  COMPLETE\n",
      "4        4  0.695835 2025-07-11 22:42:09.989498 2025-07-11 22:46:13.902444 0 days 00:04:03.912946                    True                          2                       4                        False  COMPLETE\n",
      "15      15  0.696046 2025-07-11 23:18:13.753194 2025-07-11 23:21:44.944408 0 days 00:03:31.191214                    True                          3                       7                         True  COMPLETE\n",
      "1        1  0.696120 2025-07-11 22:33:56.578220 2025-07-11 22:36:05.099387 0 days 00:02:08.521167                    True                          2                      15                        False  COMPLETE\n",
      "16      16  0.696572 2025-07-11 23:21:44.947545 2025-07-11 23:25:56.202497 0 days 00:04:11.254952                    True                          3                       5                         True  COMPLETE\n",
      "10      10  0.696935 2025-07-11 23:03:18.071185 2025-07-11 23:05:30.843400 0 days 00:02:12.772215                   False                          4                       8                         True  COMPLETE\n",
      "14      14  0.696970 2025-07-11 23:15:58.454435 2025-07-11 23:18:13.752664 0 days 00:02:15.298229                    True                          4                      11                         True  COMPLETE\n",
      "18      18  0.697025 2025-07-11 23:28:13.439940 2025-07-11 23:30:27.357452 0 days 00:02:13.917512                   False                          4                       1                         True  COMPLETE\n",
      "0        0  0.697830 2025-07-11 22:31:41.227506 2025-07-11 22:33:56.578220 0 days 00:02:15.350714                   False                          4                      15                        False  COMPLETE\n",
      "13      13  0.698223 2025-07-11 23:11:57.383485 2025-07-11 23:15:58.454435 0 days 00:04:01.070950                    True                          5                       8                         True  COMPLETE\n",
      "3        3  0.698330 2025-07-11 22:38:10.481495 2025-07-11 22:42:09.989498 0 days 00:03:59.508003                    True                          5                       3                        False  COMPLETE\n",
      "12      12  0.698718 2025-07-11 23:07:47.120729 2025-07-11 23:11:57.383485 0 days 00:04:10.262756                    True                          4                       8                         True  COMPLETE\n",
      "8        8  0.699085 2025-07-11 22:56:57.187464 2025-07-11 22:59:07.998359 0 days 00:02:10.810895                    True                          5                      19                        False  COMPLETE\n",
      "19      19  0.699200 2025-07-11 23:30:27.358503 2025-07-11 23:34:31.318157 0 days 00:04:03.959654                    True                          5                       6                         True  COMPLETE\n",
      "17      17  0.699293 2025-07-11 23:25:56.204873 2025-07-11 23:28:13.438935 0 days 00:02:17.234062                    True                          5                      13                         True  COMPLETE\n",
      "6        6  0.699529 2025-07-11 22:50:28.512298 2025-07-11 22:54:41.347888 0 days 00:04:12.835590                    True                          5                       2                         True  COMPLETE\n",
      "11      11  0.700520 2025-07-11 23:05:30.843400 2025-07-11 23:07:47.118584 0 days 00:02:16.275184                    True                          5                       8                         True  COMPLETE\n",
      "9        9  0.702449 2025-07-11 22:59:07.998359 2025-07-11 23:03:18.070150 0 days 00:04:10.071791                    True                          5                       6                         True  COMPLETE\n",
      "2025-07-11 23:34:31,453 - Parameter Importances:\n",
      "2025-07-11 23:34:31,453 - idxAfterPrediction: 0.8775332073104781\n",
      "2025-07-11 23:34:31,455 - doFeatureReduce: 0.07063554875891978\n",
      "2025-07-11 23:34:31,455 - time_inc_factor: 0.04256772567171508\n",
      "2025-07-11 23:34:31,455 - time_scaling_stretch: 0.009263518258886985\n"
     ]
    }
   ],
   "source": [
    "import optuna\n",
    "split_f = 0.90  # Split fraction for train/test sets\n",
    "def objective(trial: optuna.Trial) -> float:\n",
    "    # Suggest hyperparameters\n",
    "    opt_params = {\n",
    "        \"idxAfterPrediction\": trial.suggest_int(\"idxAfterPrediction\", 1, 5),\n",
    "        \"LoadupSamples_time_scaling_stretch\": trial.suggest_categorical(\"time_scaling_stretch\", [True, False]),\n",
    "        \"LoadupSamples_time_inc_factor\": trial.suggest_int(\"time_inc_factor\", 1, 20),\n",
    "    }\n",
    "    doFeatureReduce = trial.suggest_categorical(\"doFeatureReduce\", [True, False])\n",
    "\n",
    "    # Build and evaluate FilterSamples for each instance\n",
    "    scores_test = []\n",
    "    for i, date in enumerate(eval_dates):\n",
    "        ls = LoadupSamples(\n",
    "            train_start_date=start_Dates[i],\n",
    "            test_dates=[date],\n",
    "            group=stock_group,\n",
    "            params={**params, **opt_params}\n",
    "        )\n",
    "        try:\n",
    "            ls.load_samples(main_path = \"../src/featureAlchemy/bin/\")\n",
    "            train_Xtree = ls.train_Xtree\n",
    "            train_ytree = ls.train_ytree\n",
    "            train_Xtime = ls.train_Xtime\n",
    "            train_ytime = ls.train_ytime\n",
    "\n",
    "            timenames = ls.featureTimeNames\n",
    "            \n",
    "            if doFeatureReduce:\n",
    "                idx1 = np.where(timenames == \"MathFeature_TradedPrice\")[0][0]\n",
    "                idx2 = np.where(timenames == \"FeatureTA_High\")[0][0]\n",
    "                idx3 = np.where(timenames == \"FeatureTA_Low\")[0][0]\n",
    "                idx4 = np.where(timenames == \"FeatureTA_volume_obv\")[0][0]\n",
    "\n",
    "                train_Xtime = train_Xtime[:, :, [idx1, idx2, idx3, idx4]]\n",
    "            \n",
    "            device = 'cuda' if torch.cuda.is_available() else 'cpu'\n",
    "            val_rmse, model = run(params, train_Xtime, train_ytime, training_ratio=split_f, device=device)\n",
    "            logger.info(f\"Validation RMSE: {val_rmse:.4f}\")\n",
    "            a = shorttest(model, train_Xtime, train_ytree, train_ytime, device=device)\n",
    "            \n",
    "            score = 1.0 if a is None or np.isnan(a) else a\n",
    "            \n",
    "        except ValueError:\n",
    "            score = 1.0\n",
    "            \n",
    "        scores_test.append(score)    \n",
    "        \n",
    "    logger.info(f\"Trial number {trial.number}\")\n",
    "    logger.info(f\"All scores (test) = {scores_test}\") \n",
    "    \n",
    "    fin_score = np.mean(np.log(scores_test))\n",
    "    logger.info(f\"Log mean of scores (test) {np.mean(np.log(scores_test))}\")\n",
    "    \n",
    "    return float(fin_score)\n",
    "\n",
    "optuna.logging.enable_propagation()\n",
    "study = optuna.create_study(\n",
    "    direction=\"maximize\",\n",
    ")\n",
    "study.optimize(objective, timeout=60*60*1)\n",
    "\n",
    "logger.info(f\"Best parameters: {study.best_params}\")\n",
    "logger.info(f\"Best score: {study.best_value}\")\n",
    "\n",
    "df = study.trials_dataframe()\n",
    "logger.info(\"\\nTrials DataFrame:\")\n",
    "logger.info(df.sort_values(\"value\").to_string())\n",
    "\n",
    "param_importances = optuna.importance.get_param_importances(study)\n",
    "logger.info(\"Parameter Importances:\")\n",
    "for key, value in param_importances.items():\n",
    "    logger.info(f\"{key}: {value}\")"
   ]
  },
  {
   "cell_type": "code",
   "execution_count": 8,
   "id": "bc9856fd",
   "metadata": {},
   "outputs": [],
   "source": [
    "df.to_parquet(f\"{formatted_str}.parquet\", index=False)"
   ]
  }
 ],
 "metadata": {
  "kernelspec": {
   "display_name": ".venv",
   "language": "python",
   "name": "python3"
  },
  "language_info": {
   "codemirror_mode": {
    "name": "ipython",
    "version": 3
   },
   "file_extension": ".py",
   "mimetype": "text/x-python",
   "name": "python",
   "nbconvert_exporter": "python",
   "pygments_lexer": "ipython3",
   "version": "3.12.10"
  }
 },
 "nbformat": 4,
 "nbformat_minor": 5
}
