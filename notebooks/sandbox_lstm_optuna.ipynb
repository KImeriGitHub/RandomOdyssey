{
 "cells": [
  {
   "cell_type": "code",
   "execution_count": 1,
   "id": "0c3b363e",
   "metadata": {},
   "outputs": [
    {
     "name": "stdout",
     "output_type": "stream",
     "text": [
      "2025-08-16 17:17:58,212 - This will print to the notebook's output cell\n"
     ]
    },
    {
     "name": "stderr",
     "output_type": "stream",
     "text": [
      "c:\\Users\\kimer\\Desktop\\RandomOdyssey\\.venv\\Lib\\site-packages\\tqdm\\auto.py:21: TqdmWarning: IProgress not found. Please update jupyter and ipywidgets. See https://ipywidgets.readthedocs.io/en/stable/user_install.html\n",
      "  from .autonotebook import tqdm as notebook_tqdm\n"
     ]
    }
   ],
   "source": [
    "import sys\n",
    "import os\n",
    "\n",
    "# Get the absolute path to the project directory\n",
    "project_dir = os.path.abspath(\"..\")\n",
    "\n",
    "# Append the project directory to sys.path\n",
    "if project_dir not in sys.path:\n",
    "    sys.path.append(project_dir)\n",
    "    \n",
    "from src.predictionModule.LoadupSamples import LoadupSamples\n",
    "from src.predictionModule.MachineModels import MachineModels \n",
    "\n",
    "import numpy as np\n",
    "import datetime\n",
    "import pandas as pd\n",
    "import polars as pl\n",
    "import optuna\n",
    "\n",
    "import logging\n",
    "formatted_date = datetime.datetime.now().strftime(\"%d%b%y_%H%M\").lower()\n",
    "\n",
    "logger = logging.getLogger()\n",
    "logger.setLevel(logging.DEBUG)\n",
    "handler = logging.StreamHandler(sys.stdout)\n",
    "formatter = logging.Formatter(fmt=\"%(asctime)s - %(message)s\")\n",
    "handler.setFormatter(formatter)\n",
    "if not logger.hasHandlers():\n",
    "    logger.addHandler(handler)\n",
    "else:\n",
    "    logger.handlers[:] = [handler]\n",
    "\n",
    "#Output File handler\n",
    "formatted_str = f\"notebook-lstm-optuna-{formatted_date}\"\n",
    "file_handler = logging.FileHandler(f\"{formatted_str}.log\", mode=\"w\")\n",
    "file_handler.setFormatter(formatter)\n",
    "logger.addHandler(file_handler)\n",
    "\n",
    "# Usage\n",
    "logger.info(\"This will print to the notebook's output cell\")"
   ]
  },
  {
   "cell_type": "code",
   "execution_count": 2,
   "id": "cb954e7d",
   "metadata": {},
   "outputs": [],
   "source": [
    "# Default params (keeps previous behavior where params corresponds to idxAfterPrediction=5)\n",
    "params_default = {\n",
    "    \"idxAfterPrediction\": 5,\n",
    "    'timesteps': 90,\n",
    "    'target_option': 'last',\n",
    "    \"LoadupSamples_time_scaling_stretch\": True,\n",
    "    \"LoadupSamples_time_inc_factor\": 10,\n",
    "    \n",
    "    \"LSTM_units\": 32,\n",
    "    \"LSTM_num_layers\": 3,\n",
    "    \"LSTM_dropout\": 0.001,\n",
    "    \"LSTM_recurrent_dropout\": 0.001,\n",
    "    \"LSTM_learning_rate\": 0.001,\n",
    "    \"LSTM_optimizer\": \"adam\",\n",
    "    \"LSTM_bidirectional\": True,\n",
    "    \"LSTM_batch_size\": 2**12,\n",
    "    \"LSTM_epochs\": 10,\n",
    "    \"LSTM_l1\": 0.001,\n",
    "    \"LSTM_l2\": 0.001,\n",
    "    \"LSTM_inter_dropout\": 0.001,\n",
    "    \"LSTM_input_gaussian_noise\": 0.001,\n",
    "    \"LSTM_conv1d\": True,\n",
    "    \"LSTM_conv1d_kernel_size\": 3,\n",
    "    \"LSTM_loss\": \"mse\",\n",
    "}"
   ]
  },
  {
   "cell_type": "code",
   "execution_count": 3,
   "id": "b05214fc",
   "metadata": {},
   "outputs": [],
   "source": [
    "stock_group = \"group_regOHLCV_over5years\"\n",
    "eval_date = datetime.date(year=2025, month=6, day=13)\n",
    "split_date = datetime.date(year=2023, month=12, day=31)\n",
    "\n",
    "studytime = 60*60*1\n",
    "studyname = f\"sandbox_lstm_optuna_{formatted_str}\""
   ]
  },
  {
   "cell_type": "code",
   "execution_count": 12,
   "id": "ed3912a3",
   "metadata": {},
   "outputs": [
    {
     "name": "stderr",
     "output_type": "stream",
     "text": [
      "[I 2025-08-16 19:24:00,757] Using an existing study with name 'sandbox_lstm_optuna_notebook-lstm-optuna-16aug25_1717' instead of creating a new one.\n"
     ]
    },
    {
     "name": "stdout",
     "output_type": "stream",
     "text": [
      "2025-08-16 19:24:00,757 - Using an existing study with name 'sandbox_lstm_optuna_notebook-lstm-optuna-16aug25_1717' instead of creating a new one.\n",
      "2025-08-16 19:24:11,796 - NaN values found in training time features. 28 Samples removed.\n"
     ]
    },
    {
     "name": "stderr",
     "output_type": "stream",
     "text": [
      "Epochs:   0%|          | 0/2 [00:00<?, ?it/s]"
     ]
    },
    {
     "name": "stdout",
     "output_type": "stream",
     "text": [
      "2025-08-16 19:24:58,083 - Epoch 1/2 — Train RMSE: 0.4179 — Validation RMSE: 0.3311\n"
     ]
    },
    {
     "name": "stderr",
     "output_type": "stream",
     "text": [
      "Epochs:  50%|█████     | 1/2 [00:31<00:31, 31.59s/it]"
     ]
    },
    {
     "name": "stdout",
     "output_type": "stream",
     "text": [
      "2025-08-16 19:25:29,724 - Epoch 2/2 — Train RMSE: 0.3442 — Validation RMSE: 0.3310\n"
     ]
    },
    {
     "name": "stderr",
     "output_type": "stream",
     "text": [
      "Epochs: 100%|██████████| 2/2 [01:03<00:00, 31.62s/it]\n"
     ]
    },
    {
     "name": "stdout",
     "output_type": "stream",
     "text": [
      "2025-08-16 19:25:33,351 - Trial 50 with params: {'idxAfterPrediction': 4, 'timesteps': 65, 'target_option': 'last', 'LoadupSamples_time_scaling_stretch': True, 'LoadupSamples_time_inc_factor': 31, 'LSTM_units': 16, 'LSTM_num_layers': 1, 'LSTM_dropout': 3.087724118095711e-05, 'LSTM_recurrent_dropout': 0.0002191167105565344, 'LSTM_learning_rate': 0.00032513836627703327, 'LSTM_optimizer': 'adam', 'LSTM_bidirectional': True, 'LSTM_batch_size': 4096, 'LSTM_epochs': 2, 'LSTM_l1': 0.00046491962916976566, 'LSTM_l2': 0.00015819964775462013, 'LSTM_inter_dropout': 0.00010792149120315932, 'LSTM_input_gaussian_noise': 0.001, 'LSTM_conv1d': True, 'LSTM_conv1d_kernel_size': 3, 'LSTM_loss': 'mse', 'year_start': 2019, 'is_single_feature': False}\n",
      "2025-08-16 19:25:33,351 -   Duration: 0:01:07.058344\n",
      "2025-08-16 19:25:33,351 -   Val RSME adjusted: 0.0107\n",
      "2025-08-16 19:25:33,351 -   Mean all prediction: 1.0010\n",
      "2025-08-16 19:25:33,351 -   Mean above prediction: 1.0094\n",
      "2025-08-16 19:25:33,357 -   Mean below prediction: 0.9998\n",
      "2025-08-16 19:25:33,358 -   Quantile 0.99 in mask above: 491.0\n",
      "2025-08-16 19:25:33,358 -   Quantile 0.99 in mask below: 391.6399999999994\n",
      "2025-08-16 19:25:33,358 -   Ratio for quantile to length above: 0.0007\n",
      "2025-08-16 19:25:33,358 -   Ratio for quantile to length below: 0.0006\n",
      "2025-08-16 19:25:33,358 -   Score: 1.0023\n"
     ]
    },
    {
     "name": "stderr",
     "output_type": "stream",
     "text": [
      "[I 2025-08-16 19:25:33,451] Trial 50 finished with value: 1.0023450298448426 and parameters: {'year_start': 2019, 'idxAfterPrediction': 4, 'LoadupSamples_time_inc_factor': 31, 'timesteps': 65, 'LSTM_learning_rate': 0.00032513836627703327, 'LSTM_l1': 0.00046491962916976566, 'LSTM_l2': 0.00015819964775462013, 'LSTM_dropout': 3.087724118095711e-05, 'LSTM_inter_dropout': 0.00010792149120315932, 'LSTM_recurrent_dropout': 0.0002191167105565344, 'is_single_feature': False}. Best is trial 10 with value: 1.0025323942546822.\n"
     ]
    },
    {
     "name": "stdout",
     "output_type": "stream",
     "text": [
      "2025-08-16 19:25:33,451 - Trial 50 finished with value: 1.0023450298448426 and parameters: {'year_start': 2019, 'idxAfterPrediction': 4, 'LoadupSamples_time_inc_factor': 31, 'timesteps': 65, 'LSTM_learning_rate': 0.00032513836627703327, 'LSTM_l1': 0.00046491962916976566, 'LSTM_l2': 0.00015819964775462013, 'LSTM_dropout': 3.087724118095711e-05, 'LSTM_inter_dropout': 0.00010792149120315932, 'LSTM_recurrent_dropout': 0.0002191167105565344, 'is_single_feature': False}. Best is trial 10 with value: 1.0025323942546822.\n",
      "2025-08-16 19:25:44,368 - NaN values found in training time features. 28 Samples removed.\n"
     ]
    },
    {
     "name": "stderr",
     "output_type": "stream",
     "text": [
      "Epochs:   0%|          | 0/2 [00:00<?, ?it/s]"
     ]
    },
    {
     "name": "stdout",
     "output_type": "stream",
     "text": [
      "2025-08-16 19:26:30,083 - Epoch 1/2 — Train RMSE: 0.3808 — Validation RMSE: 0.3313\n"
     ]
    },
    {
     "name": "stderr",
     "output_type": "stream",
     "text": [
      "Epochs:  50%|█████     | 1/2 [00:31<00:31, 31.22s/it]"
     ]
    },
    {
     "name": "stdout",
     "output_type": "stream",
     "text": [
      "2025-08-16 19:27:01,318 - Epoch 2/2 — Train RMSE: 0.3444 — Validation RMSE: 0.3311\n"
     ]
    },
    {
     "name": "stderr",
     "output_type": "stream",
     "text": [
      "Epochs: 100%|██████████| 2/2 [01:02<00:00, 31.23s/it]\n"
     ]
    },
    {
     "name": "stdout",
     "output_type": "stream",
     "text": [
      "2025-08-16 19:27:05,375 - Trial 51 with params: {'idxAfterPrediction': 4, 'timesteps': 70, 'target_option': 'last', 'LoadupSamples_time_scaling_stretch': True, 'LoadupSamples_time_inc_factor': 31, 'LSTM_units': 16, 'LSTM_num_layers': 1, 'LSTM_dropout': 0.0008307005804434947, 'LSTM_recurrent_dropout': 0.00236984144467349, 'LSTM_learning_rate': 0.00040772325346335526, 'LSTM_optimizer': 'adam', 'LSTM_bidirectional': True, 'LSTM_batch_size': 4096, 'LSTM_epochs': 2, 'LSTM_l1': 1.017515733286474e-05, 'LSTM_l2': 0.0002142061001905009, 'LSTM_inter_dropout': 0.0002753562479127019, 'LSTM_input_gaussian_noise': 0.001, 'LSTM_conv1d': True, 'LSTM_conv1d_kernel_size': 3, 'LSTM_loss': 'mse', 'year_start': 2019, 'is_single_feature': False}\n",
      "2025-08-16 19:27:05,375 -   Duration: 0:01:06.724853\n",
      "2025-08-16 19:27:05,375 -   Val RSME adjusted: 0.0107\n",
      "2025-08-16 19:27:05,375 -   Mean all prediction: 1.0010\n",
      "2025-08-16 19:27:05,375 -   Mean above prediction: 1.0090\n",
      "2025-08-16 19:27:05,375 -   Mean below prediction: 0.9991\n",
      "2025-08-16 19:27:05,375 -   Quantile 0.99 in mask above: 491.0\n",
      "2025-08-16 19:27:05,375 -   Quantile 0.99 in mask below: 382.0\n",
      "2025-08-16 19:27:05,375 -   Ratio for quantile to length above: 0.0007\n",
      "2025-08-16 19:27:05,375 -   Ratio for quantile to length below: 0.0006\n",
      "2025-08-16 19:27:05,375 -   Score: 1.0023\n"
     ]
    },
    {
     "name": "stderr",
     "output_type": "stream",
     "text": [
      "[I 2025-08-16 19:27:05,470] Trial 51 finished with value: 1.0022520382311724 and parameters: {'year_start': 2019, 'idxAfterPrediction': 4, 'LoadupSamples_time_inc_factor': 31, 'timesteps': 70, 'LSTM_learning_rate': 0.00040772325346335526, 'LSTM_l1': 1.017515733286474e-05, 'LSTM_l2': 0.0002142061001905009, 'LSTM_dropout': 0.0008307005804434947, 'LSTM_inter_dropout': 0.0002753562479127019, 'LSTM_recurrent_dropout': 0.00236984144467349, 'is_single_feature': False}. Best is trial 10 with value: 1.0025323942546822.\n"
     ]
    },
    {
     "name": "stdout",
     "output_type": "stream",
     "text": [
      "2025-08-16 19:27:05,470 - Trial 51 finished with value: 1.0022520382311724 and parameters: {'year_start': 2019, 'idxAfterPrediction': 4, 'LoadupSamples_time_inc_factor': 31, 'timesteps': 70, 'LSTM_learning_rate': 0.00040772325346335526, 'LSTM_l1': 1.017515733286474e-05, 'LSTM_l2': 0.0002142061001905009, 'LSTM_dropout': 0.0008307005804434947, 'LSTM_inter_dropout': 0.0002753562479127019, 'LSTM_recurrent_dropout': 0.00236984144467349, 'is_single_feature': False}. Best is trial 10 with value: 1.0025323942546822.\n",
      "2025-08-16 19:27:16,265 - NaN values found in training time features. 28 Samples removed.\n"
     ]
    },
    {
     "name": "stderr",
     "output_type": "stream",
     "text": [
      "Epochs:   0%|          | 0/2 [00:00<?, ?it/s]"
     ]
    },
    {
     "name": "stdout",
     "output_type": "stream",
     "text": [
      "2025-08-16 19:28:02,046 - Epoch 1/2 — Train RMSE: 0.3572 — Validation RMSE: 0.3101\n"
     ]
    },
    {
     "name": "stderr",
     "output_type": "stream",
     "text": [
      "Epochs:  50%|█████     | 1/2 [00:31<00:31, 31.23s/it]"
     ]
    },
    {
     "name": "stdout",
     "output_type": "stream",
     "text": [
      "2025-08-16 19:28:33,702 - Epoch 2/2 — Train RMSE: 0.3239 — Validation RMSE: 0.3098\n"
     ]
    },
    {
     "name": "stderr",
     "output_type": "stream",
     "text": [
      "Epochs: 100%|██████████| 2/2 [01:02<00:00, 31.44s/it]\n"
     ]
    },
    {
     "name": "stdout",
     "output_type": "stream",
     "text": [
      "2025-08-16 19:28:37,481 - Trial 52 with params: {'idxAfterPrediction': 4, 'timesteps': 70, 'target_option': 'last', 'LoadupSamples_time_scaling_stretch': True, 'LoadupSamples_time_inc_factor': 26, 'LSTM_units': 16, 'LSTM_num_layers': 1, 'LSTM_dropout': 0.0006491126877428802, 'LSTM_recurrent_dropout': 0.0035441256994620737, 'LSTM_learning_rate': 0.000535819023700397, 'LSTM_optimizer': 'adam', 'LSTM_bidirectional': True, 'LSTM_batch_size': 4096, 'LSTM_epochs': 2, 'LSTM_l1': 1.3320342059151621e-05, 'LSTM_l2': 0.0001472905588386492, 'LSTM_inter_dropout': 0.00036088958391376416, 'LSTM_input_gaussian_noise': 0.001, 'LSTM_conv1d': True, 'LSTM_conv1d_kernel_size': 3, 'LSTM_loss': 'mse', 'year_start': 2019, 'is_single_feature': False}\n",
      "2025-08-16 19:28:37,481 -   Duration: 0:01:06.831818\n",
      "2025-08-16 19:28:37,481 -   Val RSME adjusted: 0.0119\n",
      "2025-08-16 19:28:37,491 -   Mean all prediction: 1.0010\n",
      "2025-08-16 19:28:37,491 -   Mean above prediction: 1.0089\n",
      "2025-08-16 19:28:37,491 -   Mean below prediction: 0.9996\n",
      "2025-08-16 19:28:37,491 -   Quantile 0.99 in mask above: 485.6399999999994\n",
      "2025-08-16 19:28:37,491 -   Quantile 0.99 in mask below: 381.6399999999994\n",
      "2025-08-16 19:28:37,491 -   Ratio for quantile to length above: 0.0007\n",
      "2025-08-16 19:28:37,491 -   Ratio for quantile to length below: 0.0006\n",
      "2025-08-16 19:28:37,491 -   Score: 1.0022\n"
     ]
    },
    {
     "name": "stderr",
     "output_type": "stream",
     "text": [
      "[I 2025-08-16 19:28:37,579] Trial 52 finished with value: 1.0022289294432225 and parameters: {'year_start': 2019, 'idxAfterPrediction': 4, 'LoadupSamples_time_inc_factor': 26, 'timesteps': 70, 'LSTM_learning_rate': 0.000535819023700397, 'LSTM_l1': 1.3320342059151621e-05, 'LSTM_l2': 0.0001472905588386492, 'LSTM_dropout': 0.0006491126877428802, 'LSTM_inter_dropout': 0.00036088958391376416, 'LSTM_recurrent_dropout': 0.0035441256994620737, 'is_single_feature': False}. Best is trial 10 with value: 1.0025323942546822.\n"
     ]
    },
    {
     "name": "stdout",
     "output_type": "stream",
     "text": [
      "2025-08-16 19:28:37,579 - Trial 52 finished with value: 1.0022289294432225 and parameters: {'year_start': 2019, 'idxAfterPrediction': 4, 'LoadupSamples_time_inc_factor': 26, 'timesteps': 70, 'LSTM_learning_rate': 0.000535819023700397, 'LSTM_l1': 1.3320342059151621e-05, 'LSTM_l2': 0.0001472905588386492, 'LSTM_dropout': 0.0006491126877428802, 'LSTM_inter_dropout': 0.00036088958391376416, 'LSTM_recurrent_dropout': 0.0035441256994620737, 'is_single_feature': False}. Best is trial 10 with value: 1.0025323942546822.\n",
      "2025-08-16 19:28:48,469 - NaN values found in training time features. 28 Samples removed.\n"
     ]
    },
    {
     "name": "stderr",
     "output_type": "stream",
     "text": [
      "Epochs:   0%|          | 0/2 [00:00<?, ?it/s]"
     ]
    },
    {
     "name": "stdout",
     "output_type": "stream",
     "text": [
      "2025-08-16 19:29:34,198 - Epoch 1/2 — Train RMSE: 0.3391 — Validation RMSE: 0.2823\n"
     ]
    },
    {
     "name": "stderr",
     "output_type": "stream",
     "text": [
      "Epochs:  50%|█████     | 1/2 [00:31<00:31, 31.20s/it]"
     ]
    },
    {
     "name": "stdout",
     "output_type": "stream",
     "text": [
      "2025-08-16 19:30:05,785 - Epoch 2/2 — Train RMSE: 0.2967 — Validation RMSE: 0.2822\n"
     ]
    },
    {
     "name": "stderr",
     "output_type": "stream",
     "text": [
      "Epochs: 100%|██████████| 2/2 [01:02<00:00, 31.40s/it]\n"
     ]
    },
    {
     "name": "stdout",
     "output_type": "stream",
     "text": [
      "2025-08-16 19:30:09,235 - Trial 53 with params: {'idxAfterPrediction': 4, 'timesteps': 70, 'target_option': 'last', 'LoadupSamples_time_scaling_stretch': True, 'LoadupSamples_time_inc_factor': 21, 'LSTM_units': 16, 'LSTM_num_layers': 1, 'LSTM_dropout': 0.0003340750197934857, 'LSTM_recurrent_dropout': 0.0007021376401672874, 'LSTM_learning_rate': 0.00036195996535172187, 'LSTM_optimizer': 'adam', 'LSTM_bidirectional': True, 'LSTM_batch_size': 4096, 'LSTM_epochs': 2, 'LSTM_l1': 1.2292363586135693e-05, 'LSTM_l2': 0.0004999279895860565, 'LSTM_inter_dropout': 0.00013628978224255157, 'LSTM_input_gaussian_noise': 0.001, 'LSTM_conv1d': True, 'LSTM_conv1d_kernel_size': 3, 'LSTM_loss': 'mse', 'year_start': 2019, 'is_single_feature': False}\n",
      "2025-08-16 19:30:09,239 -   Duration: 0:01:06.408079\n",
      "2025-08-16 19:30:09,239 -   Val RSME adjusted: 0.0134\n",
      "2025-08-16 19:30:09,241 -   Mean all prediction: 1.0010\n",
      "2025-08-16 19:30:09,241 -   Mean above prediction: 1.0074\n",
      "2025-08-16 19:30:09,241 -   Mean below prediction: 0.9993\n",
      "2025-08-16 19:30:09,241 -   Quantile 0.99 in mask above: 475.0\n",
      "2025-08-16 19:30:09,241 -   Quantile 0.99 in mask below: 398.6399999999994\n",
      "2025-08-16 19:30:09,241 -   Ratio for quantile to length above: 0.0007\n",
      "2025-08-16 19:30:09,241 -   Ratio for quantile to length below: 0.0006\n",
      "2025-08-16 19:30:09,241 -   Score: 1.0018\n"
     ]
    },
    {
     "name": "stderr",
     "output_type": "stream",
     "text": [
      "[I 2025-08-16 19:30:09,330] Trial 53 finished with value: 1.00183422815003 and parameters: {'year_start': 2019, 'idxAfterPrediction': 4, 'LoadupSamples_time_inc_factor': 21, 'timesteps': 70, 'LSTM_learning_rate': 0.00036195996535172187, 'LSTM_l1': 1.2292363586135693e-05, 'LSTM_l2': 0.0004999279895860565, 'LSTM_dropout': 0.0003340750197934857, 'LSTM_inter_dropout': 0.00013628978224255157, 'LSTM_recurrent_dropout': 0.0007021376401672874, 'is_single_feature': False}. Best is trial 10 with value: 1.0025323942546822.\n"
     ]
    },
    {
     "name": "stdout",
     "output_type": "stream",
     "text": [
      "2025-08-16 19:30:09,330 - Trial 53 finished with value: 1.00183422815003 and parameters: {'year_start': 2019, 'idxAfterPrediction': 4, 'LoadupSamples_time_inc_factor': 21, 'timesteps': 70, 'LSTM_learning_rate': 0.00036195996535172187, 'LSTM_l1': 1.2292363586135693e-05, 'LSTM_l2': 0.0004999279895860565, 'LSTM_dropout': 0.0003340750197934857, 'LSTM_inter_dropout': 0.00013628978224255157, 'LSTM_recurrent_dropout': 0.0007021376401672874, 'is_single_feature': False}. Best is trial 10 with value: 1.0025323942546822.\n",
      "2025-08-16 19:30:20,248 - NaN values found in training time features. 28 Samples removed.\n"
     ]
    },
    {
     "name": "stderr",
     "output_type": "stream",
     "text": [
      "Epochs:   0%|          | 0/2 [00:00<?, ?it/s]"
     ]
    },
    {
     "name": "stdout",
     "output_type": "stream",
     "text": [
      "2025-08-16 19:31:06,200 - Epoch 1/2 — Train RMSE: 0.3671 — Validation RMSE: 0.3312\n"
     ]
    },
    {
     "name": "stderr",
     "output_type": "stream",
     "text": [
      "Epochs:  50%|█████     | 1/2 [00:31<00:31, 31.44s/it]"
     ]
    },
    {
     "name": "stdout",
     "output_type": "stream",
     "text": [
      "2025-08-16 19:31:37,986 - Epoch 2/2 — Train RMSE: 0.3442 — Validation RMSE: 0.3310\n"
     ]
    },
    {
     "name": "stderr",
     "output_type": "stream",
     "text": [
      "Epochs: 100%|██████████| 2/2 [01:03<00:00, 31.61s/it]\n"
     ]
    },
    {
     "name": "stdout",
     "output_type": "stream",
     "text": [
      "2025-08-16 19:31:41,963 - Trial 54 with params: {'idxAfterPrediction': 4, 'timesteps': 75, 'target_option': 'last', 'LoadupSamples_time_scaling_stretch': True, 'LoadupSamples_time_inc_factor': 31, 'LSTM_units': 16, 'LSTM_num_layers': 1, 'LSTM_dropout': 0.0003865660474076717, 'LSTM_recurrent_dropout': 0.0011125526374500992, 'LSTM_learning_rate': 0.0006817379818658487, 'LSTM_optimizer': 'adam', 'LSTM_bidirectional': True, 'LSTM_batch_size': 4096, 'LSTM_epochs': 2, 'LSTM_l1': 1.0103602141015598e-05, 'LSTM_l2': 0.00012599558657714808, 'LSTM_inter_dropout': 0.00021016501120628983, 'LSTM_input_gaussian_noise': 0.001, 'LSTM_conv1d': True, 'LSTM_conv1d_kernel_size': 3, 'LSTM_loss': 'mse', 'year_start': 2019, 'is_single_feature': False}\n",
      "2025-08-16 19:31:41,963 -   Duration: 0:01:07.377400\n",
      "2025-08-16 19:31:41,963 -   Val RSME adjusted: 0.0107\n",
      "2025-08-16 19:31:41,963 -   Mean all prediction: 1.0010\n",
      "2025-08-16 19:31:41,963 -   Mean above prediction: 1.0080\n",
      "2025-08-16 19:31:41,963 -   Mean below prediction: 0.9999\n",
      "2025-08-16 19:31:41,963 -   Quantile 0.99 in mask above: 457.3199999999997\n",
      "2025-08-16 19:31:41,963 -   Quantile 0.99 in mask below: 394.3199999999997\n",
      "2025-08-16 19:31:41,963 -   Ratio for quantile to length above: 0.0007\n",
      "2025-08-16 19:31:41,963 -   Ratio for quantile to length below: 0.0006\n",
      "2025-08-16 19:31:41,963 -   Score: 1.0020\n"
     ]
    },
    {
     "name": "stderr",
     "output_type": "stream",
     "text": [
      "[I 2025-08-16 19:31:42,053] Trial 54 finished with value: 1.0019911256948117 and parameters: {'year_start': 2019, 'idxAfterPrediction': 4, 'LoadupSamples_time_inc_factor': 31, 'timesteps': 75, 'LSTM_learning_rate': 0.0006817379818658487, 'LSTM_l1': 1.0103602141015598e-05, 'LSTM_l2': 0.00012599558657714808, 'LSTM_dropout': 0.0003865660474076717, 'LSTM_inter_dropout': 0.00021016501120628983, 'LSTM_recurrent_dropout': 0.0011125526374500992, 'is_single_feature': False}. Best is trial 10 with value: 1.0025323942546822.\n"
     ]
    },
    {
     "name": "stdout",
     "output_type": "stream",
     "text": [
      "2025-08-16 19:31:42,053 - Trial 54 finished with value: 1.0019911256948117 and parameters: {'year_start': 2019, 'idxAfterPrediction': 4, 'LoadupSamples_time_inc_factor': 31, 'timesteps': 75, 'LSTM_learning_rate': 0.0006817379818658487, 'LSTM_l1': 1.0103602141015598e-05, 'LSTM_l2': 0.00012599558657714808, 'LSTM_dropout': 0.0003865660474076717, 'LSTM_inter_dropout': 0.00021016501120628983, 'LSTM_recurrent_dropout': 0.0011125526374500992, 'is_single_feature': False}. Best is trial 10 with value: 1.0025323942546822.\n",
      "2025-08-16 19:31:48,039 - NaN values found in training time features. 28 Samples removed.\n"
     ]
    },
    {
     "name": "stderr",
     "output_type": "stream",
     "text": [
      "Epochs:   0%|          | 0/2 [00:00<?, ?it/s]"
     ]
    },
    {
     "name": "stdout",
     "output_type": "stream",
     "text": [
      "2025-08-16 19:32:12,010 - Epoch 1/2 — Train RMSE: 0.4873 — Validation RMSE: 0.3631\n"
     ]
    },
    {
     "name": "stderr",
     "output_type": "stream",
     "text": [
      "Epochs:  50%|█████     | 1/2 [00:16<00:16, 16.22s/it]"
     ]
    },
    {
     "name": "stdout",
     "output_type": "stream",
     "text": [
      "2025-08-16 19:32:28,530 - Epoch 2/2 — Train RMSE: 0.3783 — Validation RMSE: 0.3629\n"
     ]
    },
    {
     "name": "stderr",
     "output_type": "stream",
     "text": [
      "Epochs: 100%|██████████| 2/2 [00:32<00:00, 16.37s/it]\n"
     ]
    },
    {
     "name": "stdout",
     "output_type": "stream",
     "text": [
      "2025-08-16 19:32:32,132 - Trial 55 with params: {'idxAfterPrediction': 4, 'timesteps': 65, 'target_option': 'last', 'LoadupSamples_time_scaling_stretch': True, 'LoadupSamples_time_inc_factor': 41, 'LSTM_units': 16, 'LSTM_num_layers': 1, 'LSTM_dropout': 0.00028826267558787553, 'LSTM_recurrent_dropout': 0.005071194847821066, 'LSTM_learning_rate': 0.00025535097570265176, 'LSTM_optimizer': 'adam', 'LSTM_bidirectional': True, 'LSTM_batch_size': 4096, 'LSTM_epochs': 2, 'LSTM_l1': 0.0002427346146766501, 'LSTM_l2': 0.00030544277181163295, 'LSTM_inter_dropout': 0.0004940488863938286, 'LSTM_input_gaussian_noise': 0.001, 'LSTM_conv1d': True, 'LSTM_conv1d_kernel_size': 3, 'LSTM_loss': 'mse', 'year_start': 2022, 'is_single_feature': False}\n",
      "2025-08-16 19:32:32,132 -   Duration: 0:00:36.463105\n",
      "2025-08-16 19:32:32,132 -   Val RSME adjusted: 0.0089\n",
      "2025-08-16 19:32:32,136 -   Mean all prediction: 1.0010\n",
      "2025-08-16 19:32:32,136 -   Mean above prediction: 1.0054\n",
      "2025-08-16 19:32:32,136 -   Mean below prediction: 0.9994\n",
      "2025-08-16 19:32:32,136 -   Quantile 0.99 in mask above: 527.9599999999991\n",
      "2025-08-16 19:32:32,136 -   Quantile 0.99 in mask below: 359.9599999999991\n",
      "2025-08-16 19:32:32,136 -   Ratio for quantile to length above: 0.0008\n",
      "2025-08-16 19:32:32,136 -   Ratio for quantile to length below: 0.0005\n",
      "2025-08-16 19:32:32,136 -   Score: 1.0013\n"
     ]
    },
    {
     "name": "stderr",
     "output_type": "stream",
     "text": [
      "[I 2025-08-16 19:32:32,188] Trial 55 finished with value: 1.0013385306297897 and parameters: {'year_start': 2022, 'idxAfterPrediction': 4, 'LoadupSamples_time_inc_factor': 41, 'timesteps': 65, 'LSTM_learning_rate': 0.00025535097570265176, 'LSTM_l1': 0.0002427346146766501, 'LSTM_l2': 0.00030544277181163295, 'LSTM_dropout': 0.00028826267558787553, 'LSTM_inter_dropout': 0.0004940488863938286, 'LSTM_recurrent_dropout': 0.005071194847821066, 'is_single_feature': False}. Best is trial 10 with value: 1.0025323942546822.\n"
     ]
    },
    {
     "name": "stdout",
     "output_type": "stream",
     "text": [
      "2025-08-16 19:32:32,188 - Trial 55 finished with value: 1.0013385306297897 and parameters: {'year_start': 2022, 'idxAfterPrediction': 4, 'LoadupSamples_time_inc_factor': 41, 'timesteps': 65, 'LSTM_learning_rate': 0.00025535097570265176, 'LSTM_l1': 0.0002427346146766501, 'LSTM_l2': 0.00030544277181163295, 'LSTM_dropout': 0.00028826267558787553, 'LSTM_inter_dropout': 0.0004940488863938286, 'LSTM_recurrent_dropout': 0.005071194847821066, 'is_single_feature': False}. Best is trial 10 with value: 1.0025323942546822.\n",
      "2025-08-16 19:32:41,521 - NaN values found in training time features. 28 Samples removed.\n"
     ]
    },
    {
     "name": "stderr",
     "output_type": "stream",
     "text": [
      "Epochs:   0%|          | 0/2 [00:00<?, ?it/s]"
     ]
    },
    {
     "name": "stdout",
     "output_type": "stream",
     "text": [
      "2025-08-16 19:33:20,541 - Epoch 1/2 — Train RMSE: 0.3822 — Validation RMSE: 0.3485\n"
     ]
    },
    {
     "name": "stderr",
     "output_type": "stream",
     "text": [
      "Epochs:  50%|█████     | 1/2 [00:26<00:26, 26.64s/it]"
     ]
    },
    {
     "name": "stdout",
     "output_type": "stream",
     "text": [
      "2025-08-16 19:33:47,163 - Epoch 2/2 — Train RMSE: 0.3680 — Validation RMSE: 0.3483\n"
     ]
    },
    {
     "name": "stderr",
     "output_type": "stream",
     "text": [
      "Epochs: 100%|██████████| 2/2 [00:53<00:00, 26.63s/it]\n"
     ]
    },
    {
     "name": "stdout",
     "output_type": "stream",
     "text": [
      "2025-08-16 19:33:51,286 - Trial 56 with params: {'idxAfterPrediction': 4, 'timesteps': 80, 'target_option': 'last', 'LoadupSamples_time_scaling_stretch': True, 'LoadupSamples_time_inc_factor': 36, 'LSTM_units': 16, 'LSTM_num_layers': 1, 'LSTM_dropout': 0.0005633016121849542, 'LSTM_recurrent_dropout': 0.0034294813120065723, 'LSTM_learning_rate': 0.0004756065028285722, 'LSTM_optimizer': 'adam', 'LSTM_bidirectional': True, 'LSTM_batch_size': 4096, 'LSTM_epochs': 2, 'LSTM_l1': 2.4098805299248565e-05, 'LSTM_l2': 0.00010184144073105249, 'LSTM_inter_dropout': 0.00010321324080299925, 'LSTM_input_gaussian_noise': 0.001, 'LSTM_conv1d': True, 'LSTM_conv1d_kernel_size': 3, 'LSTM_loss': 'mse', 'year_start': 2020, 'is_single_feature': False}\n",
      "2025-08-16 19:33:51,286 -   Duration: 0:00:57.531744\n",
      "2025-08-16 19:33:51,286 -   Val RSME adjusted: 0.0097\n",
      "2025-08-16 19:33:51,289 -   Mean all prediction: 1.0010\n",
      "2025-08-16 19:33:51,289 -   Mean above prediction: 1.0099\n",
      "2025-08-16 19:33:51,291 -   Mean below prediction: 0.9992\n",
      "2025-08-16 19:33:51,292 -   Quantile 0.99 in mask above: 444.27999999999884\n",
      "2025-08-16 19:33:51,292 -   Quantile 0.99 in mask below: 425.6399999999994\n",
      "2025-08-16 19:33:51,293 -   Ratio for quantile to length above: 0.0007\n",
      "2025-08-16 19:33:51,294 -   Ratio for quantile to length below: 0.0006\n",
      "2025-08-16 19:33:51,294 -   Score: 1.0025\n"
     ]
    },
    {
     "name": "stderr",
     "output_type": "stream",
     "text": [
      "[I 2025-08-16 19:33:51,370] Trial 56 finished with value: 1.0024593995058737 and parameters: {'year_start': 2020, 'idxAfterPrediction': 4, 'LoadupSamples_time_inc_factor': 36, 'timesteps': 80, 'LSTM_learning_rate': 0.0004756065028285722, 'LSTM_l1': 2.4098805299248565e-05, 'LSTM_l2': 0.00010184144073105249, 'LSTM_dropout': 0.0005633016121849542, 'LSTM_inter_dropout': 0.00010321324080299925, 'LSTM_recurrent_dropout': 0.0034294813120065723, 'is_single_feature': False}. Best is trial 10 with value: 1.0025323942546822.\n"
     ]
    },
    {
     "name": "stdout",
     "output_type": "stream",
     "text": [
      "2025-08-16 19:33:51,370 - Trial 56 finished with value: 1.0024593995058737 and parameters: {'year_start': 2020, 'idxAfterPrediction': 4, 'LoadupSamples_time_inc_factor': 36, 'timesteps': 80, 'LSTM_learning_rate': 0.0004756065028285722, 'LSTM_l1': 2.4098805299248565e-05, 'LSTM_l2': 0.00010184144073105249, 'LSTM_dropout': 0.0005633016121849542, 'LSTM_inter_dropout': 0.00010321324080299925, 'LSTM_recurrent_dropout': 0.0034294813120065723, 'is_single_feature': False}. Best is trial 10 with value: 1.0025323942546822.\n",
      "2025-08-16 19:34:00,663 - NaN values found in training time features. 28 Samples removed.\n"
     ]
    },
    {
     "name": "stderr",
     "output_type": "stream",
     "text": [
      "Epochs:   0%|          | 0/2 [00:00<?, ?it/s]"
     ]
    },
    {
     "name": "stdout",
     "output_type": "stream",
     "text": [
      "2025-08-16 19:34:39,228 - Epoch 1/2 — Train RMSE: 0.3772 — Validation RMSE: 0.3504\n"
     ]
    },
    {
     "name": "stderr",
     "output_type": "stream",
     "text": [
      "Epochs:  50%|█████     | 1/2 [00:26<00:26, 26.42s/it]"
     ]
    },
    {
     "name": "stdout",
     "output_type": "stream",
     "text": [
      "2025-08-16 19:35:05,717 - Epoch 2/2 — Train RMSE: 0.3695 — Validation RMSE: 0.3492\n"
     ]
    },
    {
     "name": "stderr",
     "output_type": "stream",
     "text": [
      "Epochs: 100%|██████████| 2/2 [00:52<00:00, 26.45s/it]\n"
     ]
    },
    {
     "name": "stdout",
     "output_type": "stream",
     "text": [
      "2025-08-16 19:35:09,681 - Trial 57 with params: {'idxAfterPrediction': 4, 'timesteps': 80, 'target_option': 'last', 'LoadupSamples_time_scaling_stretch': True, 'LoadupSamples_time_inc_factor': 36, 'LSTM_units': 16, 'LSTM_num_layers': 1, 'LSTM_dropout': 0.0006026625407947544, 'LSTM_recurrent_dropout': 0.003155965083805269, 'LSTM_learning_rate': 0.0009402139351886545, 'LSTM_optimizer': 'adam', 'LSTM_bidirectional': True, 'LSTM_batch_size': 4096, 'LSTM_epochs': 2, 'LSTM_l1': 5.2838555492057014e-05, 'LSTM_l2': 0.00010089907154244165, 'LSTM_inter_dropout': 0.00010360550337152804, 'LSTM_input_gaussian_noise': 0.001, 'LSTM_conv1d': True, 'LSTM_conv1d_kernel_size': 3, 'LSTM_loss': 'mse', 'year_start': 2020, 'is_single_feature': False}\n",
      "2025-08-16 19:35:09,681 -   Duration: 0:00:57.007608\n",
      "2025-08-16 19:35:09,681 -   Val RSME adjusted: 0.0097\n",
      "2025-08-16 19:35:09,681 -   Mean all prediction: 1.0010\n",
      "2025-08-16 19:35:09,681 -   Mean above prediction: 1.0093\n",
      "2025-08-16 19:35:09,681 -   Mean below prediction: 1.0000\n",
      "2025-08-16 19:35:09,681 -   Quantile 0.99 in mask above: 471.6399999999994\n",
      "2025-08-16 19:35:09,681 -   Quantile 0.99 in mask below: 414.3199999999997\n",
      "2025-08-16 19:35:09,681 -   Ratio for quantile to length above: 0.0007\n",
      "2025-08-16 19:35:09,681 -   Ratio for quantile to length below: 0.0006\n",
      "2025-08-16 19:35:09,681 -   Score: 1.0023\n"
     ]
    },
    {
     "name": "stderr",
     "output_type": "stream",
     "text": [
      "[I 2025-08-16 19:35:09,763] Trial 57 finished with value: 1.0023080881318638 and parameters: {'year_start': 2020, 'idxAfterPrediction': 4, 'LoadupSamples_time_inc_factor': 36, 'timesteps': 80, 'LSTM_learning_rate': 0.0009402139351886545, 'LSTM_l1': 5.2838555492057014e-05, 'LSTM_l2': 0.00010089907154244165, 'LSTM_dropout': 0.0006026625407947544, 'LSTM_inter_dropout': 0.00010360550337152804, 'LSTM_recurrent_dropout': 0.003155965083805269, 'is_single_feature': False}. Best is trial 10 with value: 1.0025323942546822.\n"
     ]
    },
    {
     "name": "stdout",
     "output_type": "stream",
     "text": [
      "2025-08-16 19:35:09,763 - Trial 57 finished with value: 1.0023080881318638 and parameters: {'year_start': 2020, 'idxAfterPrediction': 4, 'LoadupSamples_time_inc_factor': 36, 'timesteps': 80, 'LSTM_learning_rate': 0.0009402139351886545, 'LSTM_l1': 5.2838555492057014e-05, 'LSTM_l2': 0.00010089907154244165, 'LSTM_dropout': 0.0006026625407947544, 'LSTM_inter_dropout': 0.00010360550337152804, 'LSTM_recurrent_dropout': 0.003155965083805269, 'is_single_feature': False}. Best is trial 10 with value: 1.0025323942546822.\n",
      "2025-08-16 19:35:18,939 - NaN values found in training time features. 21 Samples removed.\n"
     ]
    },
    {
     "name": "stderr",
     "output_type": "stream",
     "text": [
      "Epochs:   0%|          | 0/2 [00:00<?, ?it/s]"
     ]
    },
    {
     "name": "stdout",
     "output_type": "stream",
     "text": [
      "2025-08-16 19:35:57,515 - Epoch 1/2 — Train RMSE: 0.4671 — Validation RMSE: 0.3295\n"
     ]
    },
    {
     "name": "stderr",
     "output_type": "stream",
     "text": [
      "Epochs:  50%|█████     | 1/2 [00:26<00:26, 26.39s/it]"
     ]
    },
    {
     "name": "stdout",
     "output_type": "stream",
     "text": [
      "2025-08-16 19:36:24,456 - Epoch 2/2 — Train RMSE: 0.3490 — Validation RMSE: 0.3293\n"
     ]
    },
    {
     "name": "stderr",
     "output_type": "stream",
     "text": [
      "Epochs: 100%|██████████| 2/2 [00:53<00:00, 26.67s/it]\n"
     ]
    },
    {
     "name": "stdout",
     "output_type": "stream",
     "text": [
      "2025-08-16 19:36:27,921 - Trial 58 with params: {'idxAfterPrediction': 3, 'timesteps': 80, 'target_option': 'last', 'LoadupSamples_time_scaling_stretch': True, 'LoadupSamples_time_inc_factor': 36, 'LSTM_units': 16, 'LSTM_num_layers': 1, 'LSTM_dropout': 6.77755556464924e-05, 'LSTM_recurrent_dropout': 0.0004082125557981046, 'LSTM_learning_rate': 0.00018534772254523608, 'LSTM_optimizer': 'adam', 'LSTM_bidirectional': True, 'LSTM_batch_size': 4096, 'LSTM_epochs': 2, 'LSTM_l1': 3.1502758074684634e-05, 'LSTM_l2': 0.00024362360726238303, 'LSTM_inter_dropout': 0.00014530658406368467, 'LSTM_input_gaussian_noise': 0.001, 'LSTM_conv1d': True, 'LSTM_conv1d_kernel_size': 3, 'LSTM_loss': 'mse', 'year_start': 2020, 'is_single_feature': False}\n",
      "2025-08-16 19:36:27,921 -   Duration: 0:00:56.983968\n",
      "2025-08-16 19:36:27,921 -   Val RSME adjusted: 0.0091\n",
      "2025-08-16 19:36:27,921 -   Mean all prediction: 1.0006\n",
      "2025-08-16 19:36:27,921 -   Mean above prediction: 0.9996\n",
      "2025-08-16 19:36:27,921 -   Mean below prediction: 0.9997\n",
      "2025-08-16 19:36:27,921 -   Quantile 0.99 in mask above: 472.6399999999994\n",
      "2025-08-16 19:36:27,921 -   Quantile 0.99 in mask below: 391.3199999999997\n",
      "2025-08-16 19:36:27,927 -   Ratio for quantile to length above: 0.0007\n",
      "2025-08-16 19:36:27,927 -   Ratio for quantile to length below: 0.0006\n",
      "2025-08-16 19:36:27,927 -   Score: 0.9999\n"
     ]
    },
    {
     "name": "stderr",
     "output_type": "stream",
     "text": [
      "[I 2025-08-16 19:36:28,001] Trial 58 finished with value: 0.9998502163463983 and parameters: {'year_start': 2020, 'idxAfterPrediction': 3, 'LoadupSamples_time_inc_factor': 36, 'timesteps': 80, 'LSTM_learning_rate': 0.00018534772254523608, 'LSTM_l1': 3.1502758074684634e-05, 'LSTM_l2': 0.00024362360726238303, 'LSTM_dropout': 6.77755556464924e-05, 'LSTM_inter_dropout': 0.00014530658406368467, 'LSTM_recurrent_dropout': 0.0004082125557981046, 'is_single_feature': False}. Best is trial 10 with value: 1.0025323942546822.\n"
     ]
    },
    {
     "name": "stdout",
     "output_type": "stream",
     "text": [
      "2025-08-16 19:36:28,001 - Trial 58 finished with value: 0.9998502163463983 and parameters: {'year_start': 2020, 'idxAfterPrediction': 3, 'LoadupSamples_time_inc_factor': 36, 'timesteps': 80, 'LSTM_learning_rate': 0.00018534772254523608, 'LSTM_l1': 3.1502758074684634e-05, 'LSTM_l2': 0.00024362360726238303, 'LSTM_dropout': 6.77755556464924e-05, 'LSTM_inter_dropout': 0.00014530658406368467, 'LSTM_recurrent_dropout': 0.0004082125557981046, 'is_single_feature': False}. Best is trial 10 with value: 1.0025323942546822.\n",
      "2025-08-16 19:36:37,284 - NaN values found in training time features. 28 Samples removed.\n"
     ]
    },
    {
     "name": "stderr",
     "output_type": "stream",
     "text": [
      "Epochs:   0%|          | 0/2 [00:00<?, ?it/s]"
     ]
    },
    {
     "name": "stdout",
     "output_type": "stream",
     "text": [
      "2025-08-16 19:37:15,395 - Epoch 1/2 — Train RMSE: 0.5642 — Validation RMSE: 0.3675\n"
     ]
    },
    {
     "name": "stderr",
     "output_type": "stream",
     "text": [
      "Epochs:  50%|█████     | 1/2 [00:25<00:25, 25.82s/it]"
     ]
    },
    {
     "name": "stdout",
     "output_type": "stream",
     "text": [
      "2025-08-16 19:37:41,139 - Epoch 2/2 — Train RMSE: 0.3806 — Validation RMSE: 0.3634\n"
     ]
    },
    {
     "name": "stderr",
     "output_type": "stream",
     "text": [
      "Epochs: 100%|██████████| 2/2 [00:51<00:00, 25.78s/it]\n"
     ]
    },
    {
     "name": "stdout",
     "output_type": "stream",
     "text": [
      "2025-08-16 19:37:44,814 - Trial 59 with params: {'idxAfterPrediction': 4, 'timesteps': 55, 'target_option': 'last', 'LoadupSamples_time_scaling_stretch': True, 'LoadupSamples_time_inc_factor': 41, 'LSTM_units': 16, 'LSTM_num_layers': 1, 'LSTM_dropout': 0.00040856500527436856, 'LSTM_recurrent_dropout': 0.009617850680841653, 'LSTM_learning_rate': 8.803696481366997e-05, 'LSTM_optimizer': 'adam', 'LSTM_bidirectional': True, 'LSTM_batch_size': 4096, 'LSTM_epochs': 2, 'LSTM_l1': 0.00034308778338570727, 'LSTM_l2': 0.0004797812874992411, 'LSTM_inter_dropout': 0.0002003984437756982, 'LSTM_input_gaussian_noise': 0.001, 'LSTM_conv1d': True, 'LSTM_conv1d_kernel_size': 3, 'LSTM_loss': 'mse', 'year_start': 2020, 'is_single_feature': True}\n",
      "2025-08-16 19:37:44,814 -   Duration: 0:00:55.286649\n",
      "2025-08-16 19:37:44,814 -   Val RSME adjusted: 0.0089\n",
      "2025-08-16 19:37:44,814 -   Mean all prediction: 1.0010\n",
      "2025-08-16 19:37:44,814 -   Mean above prediction: 1.0064\n",
      "2025-08-16 19:37:44,814 -   Mean below prediction: 0.9993\n",
      "2025-08-16 19:37:44,814 -   Quantile 0.99 in mask above: 491.6399999999994\n",
      "2025-08-16 19:37:44,814 -   Quantile 0.99 in mask below: 387.0\n",
      "2025-08-16 19:37:44,830 -   Ratio for quantile to length above: 0.0007\n",
      "2025-08-16 19:37:44,830 -   Ratio for quantile to length below: 0.0006\n",
      "2025-08-16 19:37:44,830 -   Score: 1.0016\n"
     ]
    },
    {
     "name": "stderr",
     "output_type": "stream",
     "text": [
      "[I 2025-08-16 19:37:44,916] Trial 59 finished with value: 1.0016048562893065 and parameters: {'year_start': 2020, 'idxAfterPrediction': 4, 'LoadupSamples_time_inc_factor': 41, 'timesteps': 55, 'LSTM_learning_rate': 8.803696481366997e-05, 'LSTM_l1': 0.00034308778338570727, 'LSTM_l2': 0.0004797812874992411, 'LSTM_dropout': 0.00040856500527436856, 'LSTM_inter_dropout': 0.0002003984437756982, 'LSTM_recurrent_dropout': 0.009617850680841653, 'is_single_feature': True}. Best is trial 10 with value: 1.0025323942546822.\n"
     ]
    },
    {
     "name": "stdout",
     "output_type": "stream",
     "text": [
      "2025-08-16 19:37:44,916 - Trial 59 finished with value: 1.0016048562893065 and parameters: {'year_start': 2020, 'idxAfterPrediction': 4, 'LoadupSamples_time_inc_factor': 41, 'timesteps': 55, 'LSTM_learning_rate': 8.803696481366997e-05, 'LSTM_l1': 0.00034308778338570727, 'LSTM_l2': 0.0004797812874992411, 'LSTM_dropout': 0.00040856500527436856, 'LSTM_inter_dropout': 0.0002003984437756982, 'LSTM_recurrent_dropout': 0.009617850680841653, 'is_single_feature': True}. Best is trial 10 with value: 1.0025323942546822.\n",
      "2025-08-16 19:37:54,167 - NaN values found in training time features. 28 Samples removed.\n"
     ]
    },
    {
     "name": "stderr",
     "output_type": "stream",
     "text": [
      "Epochs:   0%|          | 0/2 [00:00<?, ?it/s]"
     ]
    },
    {
     "name": "stdout",
     "output_type": "stream",
     "text": [
      "2025-08-16 19:38:32,732 - Epoch 1/2 — Train RMSE: 0.4119 — Validation RMSE: 0.3659\n"
     ]
    },
    {
     "name": "stderr",
     "output_type": "stream",
     "text": [
      "Epochs:  50%|█████     | 1/2 [00:26<00:26, 26.40s/it]"
     ]
    },
    {
     "name": "stdout",
     "output_type": "stream",
     "text": [
      "2025-08-16 19:38:59,299 - Epoch 2/2 — Train RMSE: 0.3799 — Validation RMSE: 0.3629\n"
     ]
    },
    {
     "name": "stderr",
     "output_type": "stream",
     "text": [
      "Epochs: 100%|██████████| 2/2 [00:52<00:00, 26.49s/it]\n"
     ]
    },
    {
     "name": "stdout",
     "output_type": "stream",
     "text": [
      "2025-08-16 19:39:03,136 - Trial 60 with params: {'idxAfterPrediction': 4, 'timesteps': 80, 'target_option': 'last', 'LoadupSamples_time_scaling_stretch': True, 'LoadupSamples_time_inc_factor': 41, 'LSTM_units': 16, 'LSTM_num_layers': 1, 'LSTM_dropout': 0.00013886952774508197, 'LSTM_recurrent_dropout': 0.0008299699168823598, 'LSTM_learning_rate': 5.3140848345356084e-05, 'LSTM_optimizer': 'adam', 'LSTM_bidirectional': True, 'LSTM_batch_size': 4096, 'LSTM_epochs': 2, 'LSTM_l1': 2.0154435758744335e-05, 'LSTM_l2': 0.00020977816771189202, 'LSTM_inter_dropout': 0.00012816745898655563, 'LSTM_input_gaussian_noise': 0.001, 'LSTM_conv1d': True, 'LSTM_conv1d_kernel_size': 3, 'LSTM_loss': 'mse', 'year_start': 2020, 'is_single_feature': False}\n",
      "2025-08-16 19:39:03,136 -   Duration: 0:00:56.943088\n",
      "2025-08-16 19:39:03,136 -   Val RSME adjusted: 0.0089\n",
      "2025-08-16 19:39:03,136 -   Mean all prediction: 1.0010\n",
      "2025-08-16 19:39:03,136 -   Mean above prediction: 1.0077\n",
      "2025-08-16 19:39:03,136 -   Mean below prediction: 1.0000\n",
      "2025-08-16 19:39:03,136 -   Quantile 0.99 in mask above: 397.0\n",
      "2025-08-16 19:39:03,136 -   Quantile 0.99 in mask below: 450.3199999999997\n",
      "2025-08-16 19:39:03,136 -   Ratio for quantile to length above: 0.0006\n",
      "2025-08-16 19:39:03,136 -   Ratio for quantile to length below: 0.0007\n",
      "2025-08-16 19:39:03,136 -   Score: 1.0019\n"
     ]
    },
    {
     "name": "stderr",
     "output_type": "stream",
     "text": [
      "[I 2025-08-16 19:39:03,218] Trial 60 finished with value: 1.0019072135753948 and parameters: {'year_start': 2020, 'idxAfterPrediction': 4, 'LoadupSamples_time_inc_factor': 41, 'timesteps': 80, 'LSTM_learning_rate': 5.3140848345356084e-05, 'LSTM_l1': 2.0154435758744335e-05, 'LSTM_l2': 0.00020977816771189202, 'LSTM_dropout': 0.00013886952774508197, 'LSTM_inter_dropout': 0.00012816745898655563, 'LSTM_recurrent_dropout': 0.0008299699168823598, 'is_single_feature': False}. Best is trial 10 with value: 1.0025323942546822.\n"
     ]
    },
    {
     "name": "stdout",
     "output_type": "stream",
     "text": [
      "2025-08-16 19:39:03,218 - Trial 60 finished with value: 1.0019072135753948 and parameters: {'year_start': 2020, 'idxAfterPrediction': 4, 'LoadupSamples_time_inc_factor': 41, 'timesteps': 80, 'LSTM_learning_rate': 5.3140848345356084e-05, 'LSTM_l1': 2.0154435758744335e-05, 'LSTM_l2': 0.00020977816771189202, 'LSTM_dropout': 0.00013886952774508197, 'LSTM_inter_dropout': 0.00012816745898655563, 'LSTM_recurrent_dropout': 0.0008299699168823598, 'is_single_feature': False}. Best is trial 10 with value: 1.0025323942546822.\n",
      "2025-08-16 19:39:14,141 - NaN values found in training time features. 28 Samples removed.\n"
     ]
    },
    {
     "name": "stderr",
     "output_type": "stream",
     "text": [
      "Epochs:   0%|          | 0/2 [00:00<?, ?it/s]"
     ]
    },
    {
     "name": "stdout",
     "output_type": "stream",
     "text": [
      "2025-08-16 19:40:00,058 - Epoch 1/2 — Train RMSE: 0.3777 — Validation RMSE: 0.3316\n"
     ]
    },
    {
     "name": "stderr",
     "output_type": "stream",
     "text": [
      "Epochs:  50%|█████     | 1/2 [00:31<00:31, 31.21s/it]"
     ]
    },
    {
     "name": "stdout",
     "output_type": "stream",
     "text": [
      "2025-08-16 19:40:31,626 - Epoch 2/2 — Train RMSE: 0.3445 — Validation RMSE: 0.3314\n"
     ]
    },
    {
     "name": "stderr",
     "output_type": "stream",
     "text": [
      "Epochs: 100%|██████████| 2/2 [01:02<00:00, 31.39s/it]\n"
     ]
    },
    {
     "name": "stdout",
     "output_type": "stream",
     "text": [
      "2025-08-16 19:40:35,134 - Trial 61 with params: {'idxAfterPrediction': 4, 'timesteps': 70, 'target_option': 'last', 'LoadupSamples_time_scaling_stretch': True, 'LoadupSamples_time_inc_factor': 31, 'LSTM_units': 16, 'LSTM_num_layers': 1, 'LSTM_dropout': 0.0009846573659596063, 'LSTM_recurrent_dropout': 0.0017935427124517779, 'LSTM_learning_rate': 0.00048338136448203923, 'LSTM_optimizer': 'adam', 'LSTM_bidirectional': True, 'LSTM_batch_size': 4096, 'LSTM_epochs': 2, 'LSTM_l1': 1.461256264854448e-05, 'LSTM_l2': 0.00015788817757316317, 'LSTM_inter_dropout': 0.00032508215848487906, 'LSTM_input_gaussian_noise': 0.001, 'LSTM_conv1d': True, 'LSTM_conv1d_kernel_size': 3, 'LSTM_loss': 'mse', 'year_start': 2019, 'is_single_feature': False}\n",
      "2025-08-16 19:40:35,134 -   Duration: 0:01:06.511439\n",
      "2025-08-16 19:40:35,134 -   Val RSME adjusted: 0.0107\n",
      "2025-08-16 19:40:35,134 -   Mean all prediction: 1.0010\n",
      "2025-08-16 19:40:35,134 -   Mean above prediction: 1.0071\n",
      "2025-08-16 19:40:35,134 -   Mean below prediction: 1.0004\n",
      "2025-08-16 19:40:35,134 -   Quantile 0.99 in mask above: 445.0\n",
      "2025-08-16 19:40:35,134 -   Quantile 0.99 in mask below: 424.6399999999994\n",
      "2025-08-16 19:40:35,134 -   Ratio for quantile to length above: 0.0007\n",
      "2025-08-16 19:40:35,134 -   Ratio for quantile to length below: 0.0006\n",
      "2025-08-16 19:40:35,134 -   Score: 1.0018\n"
     ]
    },
    {
     "name": "stderr",
     "output_type": "stream",
     "text": [
      "[I 2025-08-16 19:40:35,224] Trial 61 finished with value: 1.0017690354428743 and parameters: {'year_start': 2019, 'idxAfterPrediction': 4, 'LoadupSamples_time_inc_factor': 31, 'timesteps': 70, 'LSTM_learning_rate': 0.00048338136448203923, 'LSTM_l1': 1.461256264854448e-05, 'LSTM_l2': 0.00015788817757316317, 'LSTM_dropout': 0.0009846573659596063, 'LSTM_inter_dropout': 0.00032508215848487906, 'LSTM_recurrent_dropout': 0.0017935427124517779, 'is_single_feature': False}. Best is trial 10 with value: 1.0025323942546822.\n"
     ]
    },
    {
     "name": "stdout",
     "output_type": "stream",
     "text": [
      "2025-08-16 19:40:35,224 - Trial 61 finished with value: 1.0017690354428743 and parameters: {'year_start': 2019, 'idxAfterPrediction': 4, 'LoadupSamples_time_inc_factor': 31, 'timesteps': 70, 'LSTM_learning_rate': 0.00048338136448203923, 'LSTM_l1': 1.461256264854448e-05, 'LSTM_l2': 0.00015788817757316317, 'LSTM_dropout': 0.0009846573659596063, 'LSTM_inter_dropout': 0.00032508215848487906, 'LSTM_recurrent_dropout': 0.0017935427124517779, 'is_single_feature': False}. Best is trial 10 with value: 1.0025323942546822.\n",
      "2025-08-16 19:40:46,124 - NaN values found in training time features. 28 Samples removed.\n"
     ]
    },
    {
     "name": "stderr",
     "output_type": "stream",
     "text": [
      "Epochs:   0%|          | 0/2 [00:00<?, ?it/s]"
     ]
    },
    {
     "name": "stdout",
     "output_type": "stream",
     "text": [
      "2025-08-16 19:41:31,733 - Epoch 1/2 — Train RMSE: 0.3783 — Validation RMSE: 0.3311\n"
     ]
    },
    {
     "name": "stderr",
     "output_type": "stream",
     "text": [
      "Epochs:  50%|█████     | 1/2 [00:31<00:31, 31.20s/it]"
     ]
    },
    {
     "name": "stdout",
     "output_type": "stream",
     "text": [
      "2025-08-16 19:42:03,559 - Epoch 2/2 — Train RMSE: 0.3440 — Validation RMSE: 0.3308\n"
     ]
    },
    {
     "name": "stderr",
     "output_type": "stream",
     "text": [
      "Epochs: 100%|██████████| 2/2 [01:03<00:00, 31.52s/it]\n"
     ]
    },
    {
     "name": "stdout",
     "output_type": "stream",
     "text": [
      "2025-08-16 19:42:07,523 - Trial 62 with params: {'idxAfterPrediction': 4, 'timesteps': 75, 'target_option': 'last', 'LoadupSamples_time_scaling_stretch': True, 'LoadupSamples_time_inc_factor': 31, 'LSTM_units': 16, 'LSTM_num_layers': 1, 'LSTM_dropout': 0.0007942042843504997, 'LSTM_recurrent_dropout': 0.0024518508933845436, 'LSTM_learning_rate': 0.0003186471169261618, 'LSTM_optimizer': 'adam', 'LSTM_bidirectional': True, 'LSTM_batch_size': 4096, 'LSTM_epochs': 2, 'LSTM_l1': 2.2785132196005044e-05, 'LSTM_l2': 0.0001312642931275276, 'LSTM_inter_dropout': 0.00017461124448040388, 'LSTM_input_gaussian_noise': 0.001, 'LSTM_conv1d': True, 'LSTM_conv1d_kernel_size': 3, 'LSTM_loss': 'mse', 'year_start': 2019, 'is_single_feature': False}\n",
      "2025-08-16 19:42:07,523 -   Duration: 0:01:07.162871\n",
      "2025-08-16 19:42:07,523 -   Val RSME adjusted: 0.0107\n",
      "2025-08-16 19:42:07,523 -   Mean all prediction: 1.0010\n",
      "2025-08-16 19:42:07,523 -   Mean above prediction: 1.0098\n",
      "2025-08-16 19:42:07,523 -   Mean below prediction: 0.9995\n",
      "2025-08-16 19:42:07,523 -   Quantile 0.99 in mask above: 449.27999999999884\n",
      "2025-08-16 19:42:07,523 -   Quantile 0.99 in mask below: 410.6399999999994\n",
      "2025-08-16 19:42:07,523 -   Ratio for quantile to length above: 0.0007\n",
      "2025-08-16 19:42:07,523 -   Ratio for quantile to length below: 0.0006\n",
      "2025-08-16 19:42:07,523 -   Score: 1.0024\n"
     ]
    },
    {
     "name": "stderr",
     "output_type": "stream",
     "text": [
      "[I 2025-08-16 19:42:07,613] Trial 62 finished with value: 1.002444213243124 and parameters: {'year_start': 2019, 'idxAfterPrediction': 4, 'LoadupSamples_time_inc_factor': 31, 'timesteps': 75, 'LSTM_learning_rate': 0.0003186471169261618, 'LSTM_l1': 2.2785132196005044e-05, 'LSTM_l2': 0.0001312642931275276, 'LSTM_dropout': 0.0007942042843504997, 'LSTM_inter_dropout': 0.00017461124448040388, 'LSTM_recurrent_dropout': 0.0024518508933845436, 'is_single_feature': False}. Best is trial 10 with value: 1.0025323942546822.\n"
     ]
    },
    {
     "name": "stdout",
     "output_type": "stream",
     "text": [
      "2025-08-16 19:42:07,613 - Trial 62 finished with value: 1.002444213243124 and parameters: {'year_start': 2019, 'idxAfterPrediction': 4, 'LoadupSamples_time_inc_factor': 31, 'timesteps': 75, 'LSTM_learning_rate': 0.0003186471169261618, 'LSTM_l1': 2.2785132196005044e-05, 'LSTM_l2': 0.0001312642931275276, 'LSTM_dropout': 0.0007942042843504997, 'LSTM_inter_dropout': 0.00017461124448040388, 'LSTM_recurrent_dropout': 0.0024518508933845436, 'is_single_feature': False}. Best is trial 10 with value: 1.0025323942546822.\n",
      "2025-08-16 19:42:18,508 - NaN values found in training time features. 28 Samples removed.\n"
     ]
    },
    {
     "name": "stderr",
     "output_type": "stream",
     "text": [
      "Epochs:   0%|          | 0/2 [00:00<?, ?it/s]"
     ]
    },
    {
     "name": "stdout",
     "output_type": "stream",
     "text": [
      "2025-08-16 19:43:04,496 - Epoch 1/2 — Train RMSE: 0.3377 — Validation RMSE: 0.3093\n"
     ]
    },
    {
     "name": "stderr",
     "output_type": "stream",
     "text": [
      "Epochs:  50%|█████     | 1/2 [00:31<00:31, 31.50s/it]"
     ]
    },
    {
     "name": "stdout",
     "output_type": "stream",
     "text": [
      "2025-08-16 19:43:36,144 - Epoch 2/2 — Train RMSE: 0.3228 — Validation RMSE: 0.3092\n"
     ]
    },
    {
     "name": "stderr",
     "output_type": "stream",
     "text": [
      "Epochs: 100%|██████████| 2/2 [01:03<00:00, 31.57s/it]\n"
     ]
    },
    {
     "name": "stdout",
     "output_type": "stream",
     "text": [
      "2025-08-16 19:43:40,338 - Trial 63 with params: {'idxAfterPrediction': 4, 'timesteps': 75, 'target_option': 'last', 'LoadupSamples_time_scaling_stretch': True, 'LoadupSamples_time_inc_factor': 26, 'LSTM_units': 16, 'LSTM_num_layers': 1, 'LSTM_dropout': 0.0005779515251272457, 'LSTM_recurrent_dropout': 0.0035540240821147154, 'LSTM_learning_rate': 0.00031413165825476135, 'LSTM_optimizer': 'adam', 'LSTM_bidirectional': True, 'LSTM_batch_size': 4096, 'LSTM_epochs': 2, 'LSTM_l1': 2.3960129721920547e-05, 'LSTM_l2': 0.00018060378725584248, 'LSTM_inter_dropout': 0.00016693217007827008, 'LSTM_input_gaussian_noise': 0.001, 'LSTM_conv1d': True, 'LSTM_conv1d_kernel_size': 3, 'LSTM_loss': 'mse', 'year_start': 2019, 'is_single_feature': False}\n",
      "2025-08-16 19:43:40,338 -   Duration: 0:01:07.581211\n",
      "2025-08-16 19:43:40,338 -   Val RSME adjusted: 0.0119\n",
      "2025-08-16 19:43:40,338 -   Mean all prediction: 1.0010\n",
      "2025-08-16 19:43:40,338 -   Mean above prediction: 1.0081\n",
      "2025-08-16 19:43:40,338 -   Mean below prediction: 1.0004\n",
      "2025-08-16 19:43:40,338 -   Quantile 0.99 in mask above: 480.9599999999991\n",
      "2025-08-16 19:43:40,338 -   Quantile 0.99 in mask below: 412.9599999999991\n",
      "2025-08-16 19:43:40,338 -   Ratio for quantile to length above: 0.0007\n",
      "2025-08-16 19:43:40,338 -   Ratio for quantile to length below: 0.0006\n",
      "2025-08-16 19:43:40,338 -   Score: 1.0020\n"
     ]
    },
    {
     "name": "stderr",
     "output_type": "stream",
     "text": [
      "[I 2025-08-16 19:43:40,428] Trial 63 finished with value: 1.0020268816041273 and parameters: {'year_start': 2019, 'idxAfterPrediction': 4, 'LoadupSamples_time_inc_factor': 26, 'timesteps': 75, 'LSTM_learning_rate': 0.00031413165825476135, 'LSTM_l1': 2.3960129721920547e-05, 'LSTM_l2': 0.00018060378725584248, 'LSTM_dropout': 0.0005779515251272457, 'LSTM_inter_dropout': 0.00016693217007827008, 'LSTM_recurrent_dropout': 0.0035540240821147154, 'is_single_feature': False}. Best is trial 10 with value: 1.0025323942546822.\n"
     ]
    },
    {
     "name": "stdout",
     "output_type": "stream",
     "text": [
      "2025-08-16 19:43:40,428 - Trial 63 finished with value: 1.0020268816041273 and parameters: {'year_start': 2019, 'idxAfterPrediction': 4, 'LoadupSamples_time_inc_factor': 26, 'timesteps': 75, 'LSTM_learning_rate': 0.00031413165825476135, 'LSTM_l1': 2.3960129721920547e-05, 'LSTM_l2': 0.00018060378725584248, 'LSTM_dropout': 0.0005779515251272457, 'LSTM_inter_dropout': 0.00016693217007827008, 'LSTM_recurrent_dropout': 0.0035540240821147154, 'is_single_feature': False}. Best is trial 10 with value: 1.0025323942546822.\n",
      "2025-08-16 19:43:51,328 - NaN values found in training time features. 28 Samples removed.\n"
     ]
    },
    {
     "name": "stderr",
     "output_type": "stream",
     "text": [
      "Epochs:   0%|          | 0/2 [00:00<?, ?it/s]"
     ]
    },
    {
     "name": "stdout",
     "output_type": "stream",
     "text": [
      "2025-08-16 19:44:37,310 - Epoch 1/2 — Train RMSE: 0.3984 — Validation RMSE: 0.3484\n"
     ]
    },
    {
     "name": "stderr",
     "output_type": "stream",
     "text": [
      "Epochs:  50%|█████     | 1/2 [00:31<00:31, 31.43s/it]"
     ]
    },
    {
     "name": "stdout",
     "output_type": "stream",
     "text": [
      "2025-08-16 19:45:08,766 - Epoch 2/2 — Train RMSE: 0.3598 — Validation RMSE: 0.3483\n"
     ]
    },
    {
     "name": "stderr",
     "output_type": "stream",
     "text": [
      "Epochs: 100%|██████████| 2/2 [01:02<00:00, 31.44s/it]\n"
     ]
    },
    {
     "name": "stdout",
     "output_type": "stream",
     "text": [
      "2025-08-16 19:45:12,932 - Trial 64 with params: {'idxAfterPrediction': 4, 'timesteps': 80, 'target_option': 'last', 'LoadupSamples_time_scaling_stretch': True, 'LoadupSamples_time_inc_factor': 36, 'LSTM_units': 16, 'LSTM_num_layers': 1, 'LSTM_dropout': 0.0004492769856873825, 'LSTM_recurrent_dropout': 0.00596820896477147, 'LSTM_learning_rate': 0.0002703195575878652, 'LSTM_optimizer': 'adam', 'LSTM_bidirectional': True, 'LSTM_batch_size': 4096, 'LSTM_epochs': 2, 'LSTM_l1': 2.790841649928915e-05, 'LSTM_l2': 0.0003446100924308107, 'LSTM_inter_dropout': 0.00012232245801400732, 'LSTM_input_gaussian_noise': 0.001, 'LSTM_conv1d': True, 'LSTM_conv1d_kernel_size': 3, 'LSTM_loss': 'mse', 'year_start': 2019, 'is_single_feature': False}\n",
      "2025-08-16 19:45:12,932 -   Duration: 0:01:07.213087\n",
      "2025-08-16 19:45:12,932 -   Val RSME adjusted: 0.0097\n",
      "2025-08-16 19:45:12,932 -   Mean all prediction: 1.0010\n",
      "2025-08-16 19:45:12,932 -   Mean above prediction: 1.0088\n",
      "2025-08-16 19:45:12,932 -   Mean below prediction: 0.9992\n",
      "2025-08-16 19:45:12,937 -   Quantile 0.99 in mask above: 400.23999999999796\n",
      "2025-08-16 19:45:12,937 -   Quantile 0.99 in mask below: 453.0\n",
      "2025-08-16 19:45:12,937 -   Ratio for quantile to length above: 0.0006\n",
      "2025-08-16 19:45:12,937 -   Ratio for quantile to length below: 0.0007\n",
      "2025-08-16 19:45:12,937 -   Score: 1.0022\n"
     ]
    },
    {
     "name": "stderr",
     "output_type": "stream",
     "text": [
      "[I 2025-08-16 19:45:13,021] Trial 64 finished with value: 1.0021924961030986 and parameters: {'year_start': 2019, 'idxAfterPrediction': 4, 'LoadupSamples_time_inc_factor': 36, 'timesteps': 80, 'LSTM_learning_rate': 0.0002703195575878652, 'LSTM_l1': 2.790841649928915e-05, 'LSTM_l2': 0.0003446100924308107, 'LSTM_dropout': 0.0004492769856873825, 'LSTM_inter_dropout': 0.00012232245801400732, 'LSTM_recurrent_dropout': 0.00596820896477147, 'is_single_feature': False}. Best is trial 10 with value: 1.0025323942546822.\n"
     ]
    },
    {
     "name": "stdout",
     "output_type": "stream",
     "text": [
      "2025-08-16 19:45:13,021 - Trial 64 finished with value: 1.0021924961030986 and parameters: {'year_start': 2019, 'idxAfterPrediction': 4, 'LoadupSamples_time_inc_factor': 36, 'timesteps': 80, 'LSTM_learning_rate': 0.0002703195575878652, 'LSTM_l1': 2.790841649928915e-05, 'LSTM_l2': 0.0003446100924308107, 'LSTM_dropout': 0.0004492769856873825, 'LSTM_inter_dropout': 0.00012232245801400732, 'LSTM_recurrent_dropout': 0.00596820896477147, 'is_single_feature': False}. Best is trial 10 with value: 1.0025323942546822.\n",
      "2025-08-16 19:45:17,414 - NaN values found in training time features. 28 Samples removed.\n"
     ]
    },
    {
     "name": "stderr",
     "output_type": "stream",
     "text": [
      "Epochs:   0%|          | 0/2 [00:00<?, ?it/s]"
     ]
    },
    {
     "name": "stdout",
     "output_type": "stream",
     "text": [
      "2025-08-16 19:45:34,136 - Epoch 1/2 — Train RMSE: 0.5915 — Validation RMSE: 0.4451\n"
     ]
    },
    {
     "name": "stderr",
     "output_type": "stream",
     "text": [
      "Epochs:  50%|█████     | 1/2 [00:11<00:11, 11.18s/it]"
     ]
    },
    {
     "name": "stdout",
     "output_type": "stream",
     "text": [
      "2025-08-16 19:45:45,659 - Epoch 2/2 — Train RMSE: 0.3677 — Validation RMSE: 0.3331\n"
     ]
    },
    {
     "name": "stderr",
     "output_type": "stream",
     "text": [
      "Epochs: 100%|██████████| 2/2 [00:22<00:00, 11.35s/it]\n"
     ]
    },
    {
     "name": "stdout",
     "output_type": "stream",
     "text": [
      "2025-08-16 19:45:49,711 - Trial 65 with params: {'idxAfterPrediction': 4, 'timesteps': 85, 'target_option': 'last', 'LoadupSamples_time_scaling_stretch': True, 'LoadupSamples_time_inc_factor': 31, 'LSTM_units': 16, 'LSTM_num_layers': 1, 'LSTM_dropout': 0.0008184381695563735, 'LSTM_recurrent_dropout': 0.00061139659069448, 'LSTM_learning_rate': 0.00018738278924989736, 'LSTM_optimizer': 'adam', 'LSTM_bidirectional': True, 'LSTM_batch_size': 4096, 'LSTM_epochs': 2, 'LSTM_l1': 1.8232810892413168e-05, 'LSTM_l2': 0.00013199052324104388, 'LSTM_inter_dropout': 0.00019968196941124271, 'LSTM_input_gaussian_noise': 0.001, 'LSTM_conv1d': True, 'LSTM_conv1d_kernel_size': 3, 'LSTM_loss': 'mse', 'year_start': 2023, 'is_single_feature': False}\n",
      "2025-08-16 19:45:49,711 -   Duration: 0:00:26.808859\n",
      "2025-08-16 19:45:49,711 -   Val RSME adjusted: 0.0107\n",
      "2025-08-16 19:45:49,711 -   Mean all prediction: 1.0010\n",
      "2025-08-16 19:45:49,711 -   Mean above prediction: 1.0071\n",
      "2025-08-16 19:45:49,711 -   Mean below prediction: 0.9993\n",
      "2025-08-16 19:45:49,717 -   Quantile 0.99 in mask above: 383.6399999999994\n",
      "2025-08-16 19:45:49,717 -   Quantile 0.99 in mask below: 445.3199999999997\n",
      "2025-08-16 19:45:49,717 -   Ratio for quantile to length above: 0.0006\n",
      "2025-08-16 19:45:49,717 -   Ratio for quantile to length below: 0.0007\n",
      "2025-08-16 19:45:49,717 -   Score: 1.0018\n"
     ]
    },
    {
     "name": "stderr",
     "output_type": "stream",
     "text": [
      "[I 2025-08-16 19:45:49,761] Trial 65 finished with value: 1.00177032102609 and parameters: {'year_start': 2023, 'idxAfterPrediction': 4, 'LoadupSamples_time_inc_factor': 31, 'timesteps': 85, 'LSTM_learning_rate': 0.00018738278924989736, 'LSTM_l1': 1.8232810892413168e-05, 'LSTM_l2': 0.00013199052324104388, 'LSTM_dropout': 0.0008184381695563735, 'LSTM_inter_dropout': 0.00019968196941124271, 'LSTM_recurrent_dropout': 0.00061139659069448, 'is_single_feature': False}. Best is trial 10 with value: 1.0025323942546822.\n"
     ]
    },
    {
     "name": "stdout",
     "output_type": "stream",
     "text": [
      "2025-08-16 19:45:49,761 - Trial 65 finished with value: 1.00177032102609 and parameters: {'year_start': 2023, 'idxAfterPrediction': 4, 'LoadupSamples_time_inc_factor': 31, 'timesteps': 85, 'LSTM_learning_rate': 0.00018738278924989736, 'LSTM_l1': 1.8232810892413168e-05, 'LSTM_l2': 0.00013199052324104388, 'LSTM_dropout': 0.0008184381695563735, 'LSTM_inter_dropout': 0.00019968196941124271, 'LSTM_recurrent_dropout': 0.00061139659069448, 'is_single_feature': False}. Best is trial 10 with value: 1.0025323942546822.\n",
      "2025-08-16 19:46:00,725 - NaN values found in training time features. 28 Samples removed.\n"
     ]
    },
    {
     "name": "stderr",
     "output_type": "stream",
     "text": [
      "Epochs:   0%|          | 0/2 [00:00<?, ?it/s]"
     ]
    },
    {
     "name": "stdout",
     "output_type": "stream",
     "text": [
      "2025-08-16 19:46:46,841 - Epoch 1/2 — Train RMSE: 0.6820 — Validation RMSE: 0.6291\n"
     ]
    },
    {
     "name": "stderr",
     "output_type": "stream",
     "text": [
      "Epochs:  50%|█████     | 1/2 [00:31<00:31, 31.65s/it]"
     ]
    },
    {
     "name": "stdout",
     "output_type": "stream",
     "text": [
      "2025-08-16 19:47:18,496 - Epoch 2/2 — Train RMSE: 0.6244 — Validation RMSE: 0.5715\n"
     ]
    },
    {
     "name": "stderr",
     "output_type": "stream",
     "text": [
      "Epochs: 100%|██████████| 2/2 [01:03<00:00, 31.65s/it]\n"
     ]
    },
    {
     "name": "stdout",
     "output_type": "stream",
     "text": [
      "2025-08-16 19:47:22,653 - Trial 66 with params: {'idxAfterPrediction': 4, 'timesteps': 80, 'target_option': 'last', 'LoadupSamples_time_scaling_stretch': True, 'LoadupSamples_time_inc_factor': 36, 'LSTM_units': 16, 'LSTM_num_layers': 1, 'LSTM_dropout': 0.0002658306800977622, 'LSTM_recurrent_dropout': 0.0019927948342432045, 'LSTM_learning_rate': 1.0269039898579269e-05, 'LSTM_optimizer': 'adam', 'LSTM_bidirectional': True, 'LSTM_batch_size': 4096, 'LSTM_epochs': 2, 'LSTM_l1': 3.9090564817720094e-05, 'LSTM_l2': 0.0006514813851030164, 'LSTM_inter_dropout': 0.0001724300510538718, 'LSTM_input_gaussian_noise': 0.001, 'LSTM_conv1d': True, 'LSTM_conv1d_kernel_size': 3, 'LSTM_loss': 'mse', 'year_start': 2019, 'is_single_feature': False}\n",
      "2025-08-16 19:47:22,655 -   Duration: 0:01:07.629972\n",
      "2025-08-16 19:47:22,655 -   Val RSME adjusted: 0.0159\n",
      "2025-08-16 19:47:22,657 -   Mean all prediction: 1.0010\n",
      "2025-08-16 19:47:22,658 -   Mean above prediction: 1.0047\n",
      "2025-08-16 19:47:22,658 -   Mean below prediction: 1.0009\n",
      "2025-08-16 19:47:22,658 -   Quantile 0.99 in mask above: 495.0\n",
      "2025-08-16 19:47:22,658 -   Quantile 0.99 in mask below: 358.0\n",
      "2025-08-16 19:47:22,658 -   Ratio for quantile to length above: 0.0008\n",
      "2025-08-16 19:47:22,658 -   Ratio for quantile to length below: 0.0005\n",
      "2025-08-16 19:47:22,658 -   Score: 1.0012\n"
     ]
    },
    {
     "name": "stderr",
     "output_type": "stream",
     "text": [
      "[I 2025-08-16 19:47:22,744] Trial 66 finished with value: 1.0011803734596538 and parameters: {'year_start': 2019, 'idxAfterPrediction': 4, 'LoadupSamples_time_inc_factor': 36, 'timesteps': 80, 'LSTM_learning_rate': 1.0269039898579269e-05, 'LSTM_l1': 3.9090564817720094e-05, 'LSTM_l2': 0.0006514813851030164, 'LSTM_dropout': 0.0002658306800977622, 'LSTM_inter_dropout': 0.0001724300510538718, 'LSTM_recurrent_dropout': 0.0019927948342432045, 'is_single_feature': False}. Best is trial 10 with value: 1.0025323942546822.\n"
     ]
    },
    {
     "name": "stdout",
     "output_type": "stream",
     "text": [
      "2025-08-16 19:47:22,744 - Trial 66 finished with value: 1.0011803734596538 and parameters: {'year_start': 2019, 'idxAfterPrediction': 4, 'LoadupSamples_time_inc_factor': 36, 'timesteps': 80, 'LSTM_learning_rate': 1.0269039898579269e-05, 'LSTM_l1': 3.9090564817720094e-05, 'LSTM_l2': 0.0006514813851030164, 'LSTM_dropout': 0.0002658306800977622, 'LSTM_inter_dropout': 0.0001724300510538718, 'LSTM_recurrent_dropout': 0.0019927948342432045, 'is_single_feature': False}. Best is trial 10 with value: 1.0025323942546822.\n",
      "2025-08-16 19:47:32,009 - NaN values found in training time features. 28 Samples removed.\n"
     ]
    },
    {
     "name": "stderr",
     "output_type": "stream",
     "text": [
      "Epochs:   0%|          | 0/2 [00:00<?, ?it/s]"
     ]
    },
    {
     "name": "stdout",
     "output_type": "stream",
     "text": [
      "2025-08-16 19:48:10,793 - Epoch 1/2 — Train RMSE: 0.4471 — Validation RMSE: 0.3091\n"
     ]
    },
    {
     "name": "stderr",
     "output_type": "stream",
     "text": [
      "Epochs:  50%|█████     | 1/2 [00:26<00:26, 26.36s/it]"
     ]
    },
    {
     "name": "stdout",
     "output_type": "stream",
     "text": [
      "2025-08-16 19:48:37,199 - Epoch 2/2 — Train RMSE: 0.3297 — Validation RMSE: 0.3090\n"
     ]
    },
    {
     "name": "stderr",
     "output_type": "stream",
     "text": [
      "Epochs: 100%|██████████| 2/2 [00:52<00:00, 26.38s/it]\n"
     ]
    },
    {
     "name": "stdout",
     "output_type": "stream",
     "text": [
      "2025-08-16 19:48:40,988 - Trial 67 with params: {'idxAfterPrediction': 4, 'timesteps': 75, 'target_option': 'last', 'LoadupSamples_time_scaling_stretch': True, 'LoadupSamples_time_inc_factor': 26, 'LSTM_units': 16, 'LSTM_num_layers': 1, 'LSTM_dropout': 8.850869422073861e-05, 'LSTM_recurrent_dropout': 0.0027622907713440257, 'LSTM_learning_rate': 0.00013766631528821475, 'LSTM_optimizer': 'adam', 'LSTM_bidirectional': True, 'LSTM_batch_size': 4096, 'LSTM_epochs': 2, 'LSTM_l1': 2.2601724238969746e-05, 'LSTM_l2': 0.0002403179904838539, 'LSTM_inter_dropout': 0.00010637131155996448, 'LSTM_input_gaussian_noise': 0.001, 'LSTM_conv1d': True, 'LSTM_conv1d_kernel_size': 3, 'LSTM_loss': 'mse', 'year_start': 2020, 'is_single_feature': False}\n",
      "2025-08-16 19:48:40,989 -   Duration: 0:00:56.756447\n",
      "2025-08-16 19:48:40,990 -   Val RSME adjusted: 0.0119\n",
      "2025-08-16 19:48:40,992 -   Mean all prediction: 1.0010\n",
      "2025-08-16 19:48:40,993 -   Mean above prediction: 1.0076\n",
      "2025-08-16 19:48:40,993 -   Mean below prediction: 0.9995\n",
      "2025-08-16 19:48:40,993 -   Quantile 0.99 in mask above: 451.6399999999994\n",
      "2025-08-16 19:48:40,993 -   Quantile 0.99 in mask below: 393.3199999999997\n",
      "2025-08-16 19:48:40,993 -   Ratio for quantile to length above: 0.0007\n",
      "2025-08-16 19:48:40,993 -   Ratio for quantile to length below: 0.0006\n",
      "2025-08-16 19:48:40,993 -   Score: 1.0019\n"
     ]
    },
    {
     "name": "stderr",
     "output_type": "stream",
     "text": [
      "[I 2025-08-16 19:48:41,066] Trial 67 finished with value: 1.0018893318773712 and parameters: {'year_start': 2020, 'idxAfterPrediction': 4, 'LoadupSamples_time_inc_factor': 26, 'timesteps': 75, 'LSTM_learning_rate': 0.00013766631528821475, 'LSTM_l1': 2.2601724238969746e-05, 'LSTM_l2': 0.0002403179904838539, 'LSTM_dropout': 8.850869422073861e-05, 'LSTM_inter_dropout': 0.00010637131155996448, 'LSTM_recurrent_dropout': 0.0027622907713440257, 'is_single_feature': False}. Best is trial 10 with value: 1.0025323942546822.\n"
     ]
    },
    {
     "name": "stdout",
     "output_type": "stream",
     "text": [
      "2025-08-16 19:48:41,066 - Trial 67 finished with value: 1.0018893318773712 and parameters: {'year_start': 2020, 'idxAfterPrediction': 4, 'LoadupSamples_time_inc_factor': 26, 'timesteps': 75, 'LSTM_learning_rate': 0.00013766631528821475, 'LSTM_l1': 2.2601724238969746e-05, 'LSTM_l2': 0.0002403179904838539, 'LSTM_dropout': 8.850869422073861e-05, 'LSTM_inter_dropout': 0.00010637131155996448, 'LSTM_recurrent_dropout': 0.0027622907713440257, 'is_single_feature': False}. Best is trial 10 with value: 1.0025323942546822.\n",
      "2025-08-16 19:48:51,996 - NaN values found in training time features. 28 Samples removed.\n"
     ]
    },
    {
     "name": "stderr",
     "output_type": "stream",
     "text": [
      "Epochs:   0%|          | 0/2 [00:00<?, ?it/s]"
     ]
    },
    {
     "name": "stdout",
     "output_type": "stream",
     "text": [
      "2025-08-16 19:49:38,600 - Epoch 1/2 — Train RMSE: 0.4003 — Validation RMSE: 0.3748\n"
     ]
    },
    {
     "name": "stderr",
     "output_type": "stream",
     "text": [
      "Epochs:  50%|█████     | 1/2 [00:31<00:31, 31.79s/it]"
     ]
    },
    {
     "name": "stdout",
     "output_type": "stream",
     "text": [
      "2025-08-16 19:50:10,403 - Epoch 2/2 — Train RMSE: 0.3856 — Validation RMSE: 0.3748\n"
     ]
    },
    {
     "name": "stderr",
     "output_type": "stream",
     "text": [
      "Epochs: 100%|██████████| 2/2 [01:03<00:00, 31.80s/it]\n"
     ]
    },
    {
     "name": "stdout",
     "output_type": "stream",
     "text": [
      "2025-08-16 19:50:13,890 - Trial 68 with params: {'idxAfterPrediction': 4, 'timesteps': 85, 'target_option': 'last', 'LoadupSamples_time_scaling_stretch': True, 'LoadupSamples_time_inc_factor': 46, 'LSTM_units': 16, 'LSTM_num_layers': 1, 'LSTM_dropout': 0.00035060415864902265, 'LSTM_recurrent_dropout': 0.0013824241637121204, 'LSTM_learning_rate': 0.0004985505146962945, 'LSTM_optimizer': 'adam', 'LSTM_bidirectional': True, 'LSTM_batch_size': 4096, 'LSTM_epochs': 2, 'LSTM_l1': 0.0006014970588227466, 'LSTM_l2': 0.00010360160553884612, 'LSTM_inter_dropout': 0.029426264776961246, 'LSTM_input_gaussian_noise': 0.001, 'LSTM_conv1d': True, 'LSTM_conv1d_kernel_size': 3, 'LSTM_loss': 'mse', 'year_start': 2019, 'is_single_feature': False}\n",
      "2025-08-16 19:50:13,890 -   Duration: 0:01:07.330951\n",
      "2025-08-16 19:50:13,890 -   Val RSME adjusted: 0.0081\n",
      "2025-08-16 19:50:13,890 -   Mean all prediction: 1.0010\n",
      "2025-08-16 19:50:13,890 -   Mean above prediction: 1.0078\n",
      "2025-08-16 19:50:13,890 -   Mean below prediction: 1.0002\n",
      "2025-08-16 19:50:13,890 -   Quantile 0.99 in mask above: 483.3199999999997\n",
      "2025-08-16 19:50:13,890 -   Quantile 0.99 in mask below: 415.3199999999997\n",
      "2025-08-16 19:50:13,890 -   Ratio for quantile to length above: 0.0007\n",
      "2025-08-16 19:50:13,890 -   Ratio for quantile to length below: 0.0006\n",
      "2025-08-16 19:50:13,890 -   Score: 1.0019\n"
     ]
    },
    {
     "name": "stderr",
     "output_type": "stream",
     "text": [
      "[I 2025-08-16 19:50:13,979] Trial 68 finished with value: 1.0019322520866338 and parameters: {'year_start': 2019, 'idxAfterPrediction': 4, 'LoadupSamples_time_inc_factor': 46, 'timesteps': 85, 'LSTM_learning_rate': 0.0004985505146962945, 'LSTM_l1': 0.0006014970588227466, 'LSTM_l2': 0.00010360160553884612, 'LSTM_dropout': 0.00035060415864902265, 'LSTM_inter_dropout': 0.029426264776961246, 'LSTM_recurrent_dropout': 0.0013824241637121204, 'is_single_feature': False}. Best is trial 10 with value: 1.0025323942546822.\n"
     ]
    },
    {
     "name": "stdout",
     "output_type": "stream",
     "text": [
      "2025-08-16 19:50:13,979 - Trial 68 finished with value: 1.0019322520866338 and parameters: {'year_start': 2019, 'idxAfterPrediction': 4, 'LoadupSamples_time_inc_factor': 46, 'timesteps': 85, 'LSTM_learning_rate': 0.0004985505146962945, 'LSTM_l1': 0.0006014970588227466, 'LSTM_l2': 0.00010360160553884612, 'LSTM_dropout': 0.00035060415864902265, 'LSTM_inter_dropout': 0.029426264776961246, 'LSTM_recurrent_dropout': 0.0013824241637121204, 'is_single_feature': False}. Best is trial 10 with value: 1.0025323942546822.\n",
      "2025-08-16 19:50:24,914 - NaN values found in training time features. 28 Samples removed.\n"
     ]
    },
    {
     "name": "stderr",
     "output_type": "stream",
     "text": [
      "Epochs:   0%|          | 0/2 [00:00<?, ?it/s]"
     ]
    },
    {
     "name": "stdout",
     "output_type": "stream",
     "text": [
      "2025-08-16 19:51:10,394 - Epoch 1/2 — Train RMSE: 0.3894 — Validation RMSE: 0.3627\n"
     ]
    },
    {
     "name": "stderr",
     "output_type": "stream",
     "text": [
      "Epochs:  50%|█████     | 1/2 [00:30<00:30, 30.86s/it]"
     ]
    },
    {
     "name": "stdout",
     "output_type": "stream",
     "text": [
      "2025-08-16 19:51:41,732 - Epoch 2/2 — Train RMSE: 0.3736 — Validation RMSE: 0.3627\n"
     ]
    },
    {
     "name": "stderr",
     "output_type": "stream",
     "text": [
      "Epochs: 100%|██████████| 2/2 [01:02<00:00, 31.10s/it]\n"
     ]
    },
    {
     "name": "stdout",
     "output_type": "stream",
     "text": [
      "2025-08-16 19:51:45,600 - Trial 69 with params: {'idxAfterPrediction': 4, 'timesteps': 50, 'target_option': 'last', 'LoadupSamples_time_scaling_stretch': True, 'LoadupSamples_time_inc_factor': 41, 'LSTM_units': 16, 'LSTM_num_layers': 1, 'LSTM_dropout': 0.00020310137233007228, 'LSTM_recurrent_dropout': 0.0004790662603240426, 'LSTM_learning_rate': 0.0003519007615186083, 'LSTM_optimizer': 'adam', 'LSTM_bidirectional': True, 'LSTM_batch_size': 4096, 'LSTM_epochs': 2, 'LSTM_l1': 8.274555957254514e-05, 'LSTM_l2': 0.0004157143734679621, 'LSTM_inter_dropout': 0.00023954707764349277, 'LSTM_input_gaussian_noise': 0.001, 'LSTM_conv1d': True, 'LSTM_conv1d_kernel_size': 3, 'LSTM_loss': 'mse', 'year_start': 2019, 'is_single_feature': False}\n",
      "2025-08-16 19:51:45,600 -   Duration: 0:01:06.227201\n",
      "2025-08-16 19:51:45,600 -   Val RSME adjusted: 0.0088\n",
      "2025-08-16 19:51:45,600 -   Mean all prediction: 1.0010\n",
      "2025-08-16 19:51:45,600 -   Mean above prediction: 1.0083\n",
      "2025-08-16 19:51:45,600 -   Mean below prediction: 0.9997\n",
      "2025-08-16 19:51:45,600 -   Quantile 0.99 in mask above: 437.9599999999991\n",
      "2025-08-16 19:51:45,607 -   Quantile 0.99 in mask below: 421.0\n",
      "2025-08-16 19:51:45,607 -   Ratio for quantile to length above: 0.0007\n",
      "2025-08-16 19:51:45,607 -   Ratio for quantile to length below: 0.0006\n",
      "2025-08-16 19:51:45,607 -   Score: 1.0021\n"
     ]
    },
    {
     "name": "stderr",
     "output_type": "stream",
     "text": [
      "[I 2025-08-16 19:51:45,699] Trial 69 finished with value: 1.0020800860471548 and parameters: {'year_start': 2019, 'idxAfterPrediction': 4, 'LoadupSamples_time_inc_factor': 41, 'timesteps': 50, 'LSTM_learning_rate': 0.0003519007615186083, 'LSTM_l1': 8.274555957254514e-05, 'LSTM_l2': 0.0004157143734679621, 'LSTM_dropout': 0.00020310137233007228, 'LSTM_inter_dropout': 0.00023954707764349277, 'LSTM_recurrent_dropout': 0.0004790662603240426, 'is_single_feature': False}. Best is trial 10 with value: 1.0025323942546822.\n"
     ]
    },
    {
     "name": "stdout",
     "output_type": "stream",
     "text": [
      "2025-08-16 19:51:45,699 - Trial 69 finished with value: 1.0020800860471548 and parameters: {'year_start': 2019, 'idxAfterPrediction': 4, 'LoadupSamples_time_inc_factor': 41, 'timesteps': 50, 'LSTM_learning_rate': 0.0003519007615186083, 'LSTM_l1': 8.274555957254514e-05, 'LSTM_l2': 0.0004157143734679621, 'LSTM_dropout': 0.00020310137233007228, 'LSTM_inter_dropout': 0.00023954707764349277, 'LSTM_recurrent_dropout': 0.0004790662603240426, 'is_single_feature': False}. Best is trial 10 with value: 1.0025323942546822.\n",
      "2025-08-16 19:51:55,010 - NaN values found in training time features. 28 Samples removed.\n"
     ]
    },
    {
     "name": "stderr",
     "output_type": "stream",
     "text": [
      "Epochs:   0%|          | 0/2 [00:00<?, ?it/s]"
     ]
    },
    {
     "name": "stdout",
     "output_type": "stream",
     "text": [
      "2025-08-16 19:52:33,919 - Epoch 1/2 — Train RMSE: 0.4775 — Validation RMSE: 0.3489\n"
     ]
    },
    {
     "name": "stderr",
     "output_type": "stream",
     "text": [
      "Epochs:  50%|█████     | 1/2 [00:26<00:26, 26.73s/it]"
     ]
    },
    {
     "name": "stdout",
     "output_type": "stream",
     "text": [
      "2025-08-16 19:53:00,319 - Epoch 2/2 — Train RMSE: 0.3676 — Validation RMSE: 0.3486\n"
     ]
    },
    {
     "name": "stderr",
     "output_type": "stream",
     "text": [
      "Epochs: 100%|██████████| 2/2 [00:53<00:00, 26.56s/it]\n"
     ]
    },
    {
     "name": "stdout",
     "output_type": "stream",
     "text": [
      "2025-08-16 19:53:04,304 - Trial 70 with params: {'idxAfterPrediction': 4, 'timesteps': 80, 'target_option': 'last', 'LoadupSamples_time_scaling_stretch': True, 'LoadupSamples_time_inc_factor': 36, 'LSTM_units': 16, 'LSTM_num_layers': 1, 'LSTM_dropout': 2.002557878225919e-05, 'LSTM_recurrent_dropout': 0.0011192446454443667, 'LSTM_learning_rate': 0.00017102302267801847, 'LSTM_optimizer': 'adam', 'LSTM_bidirectional': True, 'LSTM_batch_size': 4096, 'LSTM_epochs': 2, 'LSTM_l1': 0.00017940880261823467, 'LSTM_l2': 0.00014005251146416886, 'LSTM_inter_dropout': 0.0008701597381727328, 'LSTM_input_gaussian_noise': 0.001, 'LSTM_conv1d': True, 'LSTM_conv1d_kernel_size': 3, 'LSTM_loss': 'mse', 'year_start': 2020, 'is_single_feature': False}\n",
      "2025-08-16 19:53:04,305 -   Duration: 0:00:57.241351\n",
      "2025-08-16 19:53:04,305 -   Val RSME adjusted: 0.0097\n",
      "2025-08-16 19:53:04,307 -   Mean all prediction: 1.0010\n",
      "2025-08-16 19:53:04,307 -   Mean above prediction: 1.0086\n",
      "2025-08-16 19:53:04,308 -   Mean below prediction: 0.9997\n",
      "2025-08-16 19:53:04,309 -   Quantile 0.99 in mask above: 469.23999999999796\n",
      "2025-08-16 19:53:04,310 -   Quantile 0.99 in mask below: 415.6399999999994\n",
      "2025-08-16 19:53:04,311 -   Ratio for quantile to length above: 0.0007\n",
      "2025-08-16 19:53:04,311 -   Ratio for quantile to length below: 0.0006\n",
      "2025-08-16 19:53:04,311 -   Score: 1.0021\n"
     ]
    },
    {
     "name": "stderr",
     "output_type": "stream",
     "text": [
      "[I 2025-08-16 19:53:04,386] Trial 70 finished with value: 1.0021418327981737 and parameters: {'year_start': 2020, 'idxAfterPrediction': 4, 'LoadupSamples_time_inc_factor': 36, 'timesteps': 80, 'LSTM_learning_rate': 0.00017102302267801847, 'LSTM_l1': 0.00017940880261823467, 'LSTM_l2': 0.00014005251146416886, 'LSTM_dropout': 2.002557878225919e-05, 'LSTM_inter_dropout': 0.0008701597381727328, 'LSTM_recurrent_dropout': 0.0011192446454443667, 'is_single_feature': False}. Best is trial 10 with value: 1.0025323942546822.\n"
     ]
    },
    {
     "name": "stdout",
     "output_type": "stream",
     "text": [
      "2025-08-16 19:53:04,386 - Trial 70 finished with value: 1.0021418327981737 and parameters: {'year_start': 2020, 'idxAfterPrediction': 4, 'LoadupSamples_time_inc_factor': 36, 'timesteps': 80, 'LSTM_learning_rate': 0.00017102302267801847, 'LSTM_l1': 0.00017940880261823467, 'LSTM_l2': 0.00014005251146416886, 'LSTM_dropout': 2.002557878225919e-05, 'LSTM_inter_dropout': 0.0008701597381727328, 'LSTM_recurrent_dropout': 0.0011192446454443667, 'is_single_feature': False}. Best is trial 10 with value: 1.0025323942546822.\n",
      "2025-08-16 19:53:15,268 - NaN values found in training time features. 28 Samples removed.\n"
     ]
    },
    {
     "name": "stderr",
     "output_type": "stream",
     "text": [
      "Epochs:   0%|          | 0/2 [00:00<?, ?it/s]"
     ]
    },
    {
     "name": "stdout",
     "output_type": "stream",
     "text": [
      "2025-08-16 19:54:01,017 - Epoch 1/2 — Train RMSE: 0.3621 — Validation RMSE: 0.3317\n"
     ]
    },
    {
     "name": "stderr",
     "output_type": "stream",
     "text": [
      "Epochs:  50%|█████     | 1/2 [00:31<00:31, 31.32s/it]"
     ]
    },
    {
     "name": "stdout",
     "output_type": "stream",
     "text": [
      "2025-08-16 19:54:32,446 - Epoch 2/2 — Train RMSE: 0.3445 — Validation RMSE: 0.3313\n"
     ]
    },
    {
     "name": "stderr",
     "output_type": "stream",
     "text": [
      "Epochs: 100%|██████████| 2/2 [01:02<00:00, 31.37s/it]\n"
     ]
    },
    {
     "name": "stdout",
     "output_type": "stream",
     "text": [
      "2025-08-16 19:54:36,351 - Trial 71 with params: {'idxAfterPrediction': 4, 'timesteps': 65, 'target_option': 'last', 'LoadupSamples_time_scaling_stretch': True, 'LoadupSamples_time_inc_factor': 31, 'LSTM_units': 16, 'LSTM_num_layers': 1, 'LSTM_dropout': 0.000654083760143155, 'LSTM_recurrent_dropout': 0.0025156311755159216, 'LSTM_learning_rate': 0.0006194297321159654, 'LSTM_optimizer': 'adam', 'LSTM_bidirectional': True, 'LSTM_batch_size': 4096, 'LSTM_epochs': 2, 'LSTM_l1': 1.4701045370881995e-05, 'LSTM_l2': 0.00013428626565884226, 'LSTM_inter_dropout': 0.00030316626376194155, 'LSTM_input_gaussian_noise': 0.001, 'LSTM_conv1d': True, 'LSTM_conv1d_kernel_size': 3, 'LSTM_loss': 'mse', 'year_start': 2019, 'is_single_feature': False}\n",
      "2025-08-16 19:54:36,351 -   Duration: 0:01:06.868270\n",
      "2025-08-16 19:54:36,351 -   Val RSME adjusted: 0.0107\n",
      "2025-08-16 19:54:36,351 -   Mean all prediction: 1.0010\n",
      "2025-08-16 19:54:36,351 -   Mean above prediction: 1.0099\n",
      "2025-08-16 19:54:36,351 -   Mean below prediction: 0.9999\n",
      "2025-08-16 19:54:36,351 -   Quantile 0.99 in mask above: 458.0\n",
      "2025-08-16 19:54:36,351 -   Quantile 0.99 in mask below: 421.3199999999997\n",
      "2025-08-16 19:54:36,351 -   Ratio for quantile to length above: 0.0007\n",
      "2025-08-16 19:54:36,360 -   Ratio for quantile to length below: 0.0006\n",
      "2025-08-16 19:54:36,361 -   Score: 1.0025\n"
     ]
    },
    {
     "name": "stderr",
     "output_type": "stream",
     "text": [
      "[I 2025-08-16 19:54:36,443] Trial 71 finished with value: 1.0024598679646877 and parameters: {'year_start': 2019, 'idxAfterPrediction': 4, 'LoadupSamples_time_inc_factor': 31, 'timesteps': 65, 'LSTM_learning_rate': 0.0006194297321159654, 'LSTM_l1': 1.4701045370881995e-05, 'LSTM_l2': 0.00013428626565884226, 'LSTM_dropout': 0.000654083760143155, 'LSTM_inter_dropout': 0.00030316626376194155, 'LSTM_recurrent_dropout': 0.0025156311755159216, 'is_single_feature': False}. Best is trial 10 with value: 1.0025323942546822.\n"
     ]
    },
    {
     "name": "stdout",
     "output_type": "stream",
     "text": [
      "2025-08-16 19:54:36,443 - Trial 71 finished with value: 1.0024598679646877 and parameters: {'year_start': 2019, 'idxAfterPrediction': 4, 'LoadupSamples_time_inc_factor': 31, 'timesteps': 65, 'LSTM_learning_rate': 0.0006194297321159654, 'LSTM_l1': 1.4701045370881995e-05, 'LSTM_l2': 0.00013428626565884226, 'LSTM_dropout': 0.000654083760143155, 'LSTM_inter_dropout': 0.00030316626376194155, 'LSTM_recurrent_dropout': 0.0025156311755159216, 'is_single_feature': False}. Best is trial 10 with value: 1.0025323942546822.\n",
      "2025-08-16 19:54:47,369 - NaN values found in training time features. 28 Samples removed.\n"
     ]
    },
    {
     "name": "stderr",
     "output_type": "stream",
     "text": [
      "Epochs:   0%|          | 0/2 [00:00<?, ?it/s]"
     ]
    },
    {
     "name": "stdout",
     "output_type": "stream",
     "text": [
      "2025-08-16 19:55:33,285 - Epoch 1/2 — Train RMSE: 0.3507 — Validation RMSE: 0.3317\n"
     ]
    },
    {
     "name": "stderr",
     "output_type": "stream",
     "text": [
      "Epochs:  50%|█████     | 1/2 [00:31<00:31, 31.27s/it]"
     ]
    },
    {
     "name": "stdout",
     "output_type": "stream",
     "text": [
      "2025-08-16 19:56:05,087 - Epoch 2/2 — Train RMSE: 0.3444 — Validation RMSE: 0.3313\n"
     ]
    },
    {
     "name": "stderr",
     "output_type": "stream",
     "text": [
      "Epochs: 100%|██████████| 2/2 [01:03<00:00, 31.53s/it]\n"
     ]
    },
    {
     "name": "stdout",
     "output_type": "stream",
     "text": [
      "2025-08-16 19:56:08,846 - Trial 72 with params: {'idxAfterPrediction': 4, 'timesteps': 65, 'target_option': 'last', 'LoadupSamples_time_scaling_stretch': True, 'LoadupSamples_time_inc_factor': 31, 'LSTM_units': 16, 'LSTM_num_layers': 1, 'LSTM_dropout': 0.0005226493431919323, 'LSTM_recurrent_dropout': 0.004303365692394624, 'LSTM_learning_rate': 0.0007338162484944305, 'LSTM_optimizer': 'adam', 'LSTM_bidirectional': True, 'LSTM_batch_size': 4096, 'LSTM_epochs': 2, 'LSTM_l1': 1.4876399915267586e-05, 'LSTM_l2': 0.00018355872200860807, 'LSTM_inter_dropout': 0.0005422203788039894, 'LSTM_input_gaussian_noise': 0.001, 'LSTM_conv1d': True, 'LSTM_conv1d_kernel_size': 3, 'LSTM_loss': 'mse', 'year_start': 2019, 'is_single_feature': False}\n",
      "2025-08-16 19:56:08,846 -   Duration: 0:01:07.043776\n",
      "2025-08-16 19:56:08,846 -   Val RSME adjusted: 0.0107\n",
      "2025-08-16 19:56:08,846 -   Mean all prediction: 1.0010\n",
      "2025-08-16 19:56:08,846 -   Mean above prediction: 1.0096\n",
      "2025-08-16 19:56:08,846 -   Mean below prediction: 1.0000\n",
      "2025-08-16 19:56:08,846 -   Quantile 0.99 in mask above: 465.3199999999997\n",
      "2025-08-16 19:56:08,846 -   Quantile 0.99 in mask below: 416.9599999999991\n",
      "2025-08-16 19:56:08,846 -   Ratio for quantile to length above: 0.0007\n",
      "2025-08-16 19:56:08,846 -   Ratio for quantile to length below: 0.0006\n",
      "2025-08-16 19:56:08,846 -   Score: 1.0024\n"
     ]
    },
    {
     "name": "stderr",
     "output_type": "stream",
     "text": [
      "[I 2025-08-16 19:56:08,936] Trial 72 finished with value: 1.0023962699994236 and parameters: {'year_start': 2019, 'idxAfterPrediction': 4, 'LoadupSamples_time_inc_factor': 31, 'timesteps': 65, 'LSTM_learning_rate': 0.0007338162484944305, 'LSTM_l1': 1.4876399915267586e-05, 'LSTM_l2': 0.00018355872200860807, 'LSTM_dropout': 0.0005226493431919323, 'LSTM_inter_dropout': 0.0005422203788039894, 'LSTM_recurrent_dropout': 0.004303365692394624, 'is_single_feature': False}. Best is trial 10 with value: 1.0025323942546822.\n"
     ]
    },
    {
     "name": "stdout",
     "output_type": "stream",
     "text": [
      "2025-08-16 19:56:08,936 - Trial 72 finished with value: 1.0023962699994236 and parameters: {'year_start': 2019, 'idxAfterPrediction': 4, 'LoadupSamples_time_inc_factor': 31, 'timesteps': 65, 'LSTM_learning_rate': 0.0007338162484944305, 'LSTM_l1': 1.4876399915267586e-05, 'LSTM_l2': 0.00018355872200860807, 'LSTM_dropout': 0.0005226493431919323, 'LSTM_inter_dropout': 0.0005422203788039894, 'LSTM_recurrent_dropout': 0.004303365692394624, 'is_single_feature': False}. Best is trial 10 with value: 1.0025323942546822.\n",
      "2025-08-16 19:56:19,869 - NaN values found in training time features. 28 Samples removed.\n"
     ]
    },
    {
     "name": "stderr",
     "output_type": "stream",
     "text": [
      "Epochs:   0%|          | 0/2 [00:00<?, ?it/s]"
     ]
    },
    {
     "name": "stdout",
     "output_type": "stream",
     "text": [
      "2025-08-16 19:57:06,044 - Epoch 1/2 — Train RMSE: 0.3720 — Validation RMSE: 0.3332\n"
     ]
    },
    {
     "name": "stderr",
     "output_type": "stream",
     "text": [
      "Epochs:  50%|█████     | 1/2 [00:31<00:31, 31.61s/it]"
     ]
    },
    {
     "name": "stdout",
     "output_type": "stream",
     "text": [
      "2025-08-16 19:57:37,825 - Epoch 2/2 — Train RMSE: 0.3452 — Validation RMSE: 0.3323\n"
     ]
    },
    {
     "name": "stderr",
     "output_type": "stream",
     "text": [
      "Epochs: 100%|██████████| 2/2 [01:03<00:00, 31.70s/it]\n"
     ]
    },
    {
     "name": "stdout",
     "output_type": "stream",
     "text": [
      "2025-08-16 19:57:41,081 - Trial 73 with params: {'idxAfterPrediction': 4, 'timesteps': 65, 'target_option': 'last', 'LoadupSamples_time_scaling_stretch': True, 'LoadupSamples_time_inc_factor': 31, 'LSTM_units': 16, 'LSTM_num_layers': 1, 'LSTM_dropout': 0.0005405640293273107, 'LSTM_recurrent_dropout': 0.008760105805041177, 'LSTM_learning_rate': 0.000746086480689508, 'LSTM_optimizer': 'adam', 'LSTM_bidirectional': True, 'LSTM_batch_size': 4096, 'LSTM_epochs': 2, 'LSTM_l1': 1.8188617503004008e-05, 'LSTM_l2': 0.00016926882289329193, 'LSTM_inter_dropout': 0.0004384113921054693, 'LSTM_input_gaussian_noise': 0.001, 'LSTM_conv1d': True, 'LSTM_conv1d_kernel_size': 3, 'LSTM_loss': 'mse', 'year_start': 2019, 'is_single_feature': False}\n",
      "2025-08-16 19:57:41,081 -   Duration: 0:01:06.795498\n",
      "2025-08-16 19:57:41,083 -   Val RSME adjusted: 0.0107\n",
      "2025-08-16 19:57:41,083 -   Mean all prediction: 1.0010\n",
      "2025-08-16 19:57:41,083 -   Mean above prediction: 1.0095\n",
      "2025-08-16 19:57:41,083 -   Mean below prediction: 0.9996\n",
      "2025-08-16 19:57:41,083 -   Quantile 0.99 in mask above: 474.3199999999997\n",
      "2025-08-16 19:57:41,083 -   Quantile 0.99 in mask below: 408.91999999999825\n",
      "2025-08-16 19:57:41,083 -   Ratio for quantile to length above: 0.0007\n",
      "2025-08-16 19:57:41,083 -   Ratio for quantile to length below: 0.0006\n",
      "2025-08-16 19:57:41,083 -   Score: 1.0024\n"
     ]
    },
    {
     "name": "stderr",
     "output_type": "stream",
     "text": [
      "[I 2025-08-16 19:57:41,176] Trial 73 finished with value: 1.002364066264809 and parameters: {'year_start': 2019, 'idxAfterPrediction': 4, 'LoadupSamples_time_inc_factor': 31, 'timesteps': 65, 'LSTM_learning_rate': 0.000746086480689508, 'LSTM_l1': 1.8188617503004008e-05, 'LSTM_l2': 0.00016926882289329193, 'LSTM_dropout': 0.0005405640293273107, 'LSTM_inter_dropout': 0.0004384113921054693, 'LSTM_recurrent_dropout': 0.008760105805041177, 'is_single_feature': False}. Best is trial 10 with value: 1.0025323942546822.\n"
     ]
    },
    {
     "name": "stdout",
     "output_type": "stream",
     "text": [
      "2025-08-16 19:57:41,176 - Trial 73 finished with value: 1.002364066264809 and parameters: {'year_start': 2019, 'idxAfterPrediction': 4, 'LoadupSamples_time_inc_factor': 31, 'timesteps': 65, 'LSTM_learning_rate': 0.000746086480689508, 'LSTM_l1': 1.8188617503004008e-05, 'LSTM_l2': 0.00016926882289329193, 'LSTM_dropout': 0.0005405640293273107, 'LSTM_inter_dropout': 0.0004384113921054693, 'LSTM_recurrent_dropout': 0.008760105805041177, 'is_single_feature': False}. Best is trial 10 with value: 1.0025323942546822.\n",
      "2025-08-16 19:57:52,105 - NaN values found in training time features. 28 Samples removed.\n"
     ]
    },
    {
     "name": "stderr",
     "output_type": "stream",
     "text": [
      "Epochs:   0%|          | 0/2 [00:00<?, ?it/s]"
     ]
    },
    {
     "name": "stdout",
     "output_type": "stream",
     "text": [
      "2025-08-16 19:58:37,852 - Epoch 1/2 — Train RMSE: 0.3643 — Validation RMSE: 0.3107\n"
     ]
    },
    {
     "name": "stderr",
     "output_type": "stream",
     "text": [
      "Epochs:  50%|█████     | 1/2 [00:31<00:31, 31.32s/it]"
     ]
    },
    {
     "name": "stdout",
     "output_type": "stream",
     "text": [
      "2025-08-16 19:59:09,504 - Epoch 2/2 — Train RMSE: 0.3242 — Validation RMSE: 0.3101\n"
     ]
    },
    {
     "name": "stderr",
     "output_type": "stream",
     "text": [
      "Epochs: 100%|██████████| 2/2 [01:02<00:00, 31.48s/it]\n"
     ]
    },
    {
     "name": "stdout",
     "output_type": "stream",
     "text": [
      "2025-08-16 19:59:13,735 - Trial 74 with params: {'idxAfterPrediction': 4, 'timesteps': 60, 'target_option': 'last', 'LoadupSamples_time_scaling_stretch': True, 'LoadupSamples_time_inc_factor': 26, 'LSTM_units': 16, 'LSTM_num_layers': 1, 'LSTM_dropout': 0.0007032762894825063, 'LSTM_recurrent_dropout': 0.0045040217791190084, 'LSTM_learning_rate': 0.0005148507673951948, 'LSTM_optimizer': 'adam', 'LSTM_bidirectional': True, 'LSTM_batch_size': 4096, 'LSTM_epochs': 2, 'LSTM_l1': 1.429991494909749e-05, 'LSTM_l2': 0.00023058074594485014, 'LSTM_inter_dropout': 0.0005447110440156854, 'LSTM_input_gaussian_noise': 0.001, 'LSTM_conv1d': True, 'LSTM_conv1d_kernel_size': 3, 'LSTM_loss': 'mse', 'year_start': 2019, 'is_single_feature': False}\n",
      "2025-08-16 19:59:13,735 -   Duration: 0:01:07.319753\n",
      "2025-08-16 19:59:13,735 -   Val RSME adjusted: 0.0119\n",
      "2025-08-16 19:59:13,735 -   Mean all prediction: 1.0010\n",
      "2025-08-16 19:59:13,735 -   Mean above prediction: 1.0080\n",
      "2025-08-16 19:59:13,735 -   Mean below prediction: 0.9994\n",
      "2025-08-16 19:59:13,735 -   Quantile 0.99 in mask above: 475.0\n",
      "2025-08-16 19:59:13,735 -   Quantile 0.99 in mask below: 414.3199999999997\n",
      "2025-08-16 19:59:13,735 -   Ratio for quantile to length above: 0.0007\n",
      "2025-08-16 19:59:13,735 -   Ratio for quantile to length below: 0.0006\n",
      "2025-08-16 19:59:13,735 -   Score: 1.0020\n"
     ]
    },
    {
     "name": "stderr",
     "output_type": "stream",
     "text": [
      "[I 2025-08-16 19:59:13,826] Trial 74 finished with value: 1.0019906670459078 and parameters: {'year_start': 2019, 'idxAfterPrediction': 4, 'LoadupSamples_time_inc_factor': 26, 'timesteps': 60, 'LSTM_learning_rate': 0.0005148507673951948, 'LSTM_l1': 1.429991494909749e-05, 'LSTM_l2': 0.00023058074594485014, 'LSTM_dropout': 0.0007032762894825063, 'LSTM_inter_dropout': 0.0005447110440156854, 'LSTM_recurrent_dropout': 0.0045040217791190084, 'is_single_feature': False}. Best is trial 10 with value: 1.0025323942546822.\n"
     ]
    },
    {
     "name": "stdout",
     "output_type": "stream",
     "text": [
      "2025-08-16 19:59:13,826 - Trial 74 finished with value: 1.0019906670459078 and parameters: {'year_start': 2019, 'idxAfterPrediction': 4, 'LoadupSamples_time_inc_factor': 26, 'timesteps': 60, 'LSTM_learning_rate': 0.0005148507673951948, 'LSTM_l1': 1.429991494909749e-05, 'LSTM_l2': 0.00023058074594485014, 'LSTM_dropout': 0.0007032762894825063, 'LSTM_inter_dropout': 0.0005447110440156854, 'LSTM_recurrent_dropout': 0.0045040217791190084, 'is_single_feature': False}. Best is trial 10 with value: 1.0025323942546822.\n",
      "2025-08-16 19:59:24,721 - NaN values found in training time features. 28 Samples removed.\n"
     ]
    },
    {
     "name": "stderr",
     "output_type": "stream",
     "text": [
      "Epochs:   0%|          | 0/2 [00:00<?, ?it/s]"
     ]
    },
    {
     "name": "stdout",
     "output_type": "stream",
     "text": [
      "2025-08-16 20:00:10,857 - Epoch 1/2 — Train RMSE: 0.3952 — Validation RMSE: 0.3493\n"
     ]
    },
    {
     "name": "stderr",
     "output_type": "stream",
     "text": [
      "Epochs:  50%|█████     | 1/2 [00:31<00:31, 31.59s/it]"
     ]
    },
    {
     "name": "stdout",
     "output_type": "stream",
     "text": [
      "2025-08-16 20:00:42,791 - Epoch 2/2 — Train RMSE: 0.3614 — Validation RMSE: 0.3490\n"
     ]
    },
    {
     "name": "stderr",
     "output_type": "stream",
     "text": [
      "Epochs: 100%|██████████| 2/2 [01:03<00:00, 31.76s/it]\n"
     ]
    },
    {
     "name": "stdout",
     "output_type": "stream",
     "text": [
      "2025-08-16 20:00:46,876 - Trial 75 with params: {'idxAfterPrediction': 4, 'timesteps': 65, 'target_option': 'last', 'LoadupSamples_time_scaling_stretch': True, 'LoadupSamples_time_inc_factor': 36, 'LSTM_units': 16, 'LSTM_num_layers': 1, 'LSTM_dropout': 0.00046772896250131036, 'LSTM_recurrent_dropout': 0.0038814387388864447, 'LSTM_learning_rate': 0.0006125314542299668, 'LSTM_optimizer': 'adam', 'LSTM_bidirectional': True, 'LSTM_batch_size': 4096, 'LSTM_epochs': 2, 'LSTM_l1': 1.615078576746353e-05, 'LSTM_l2': 0.00019248042589655037, 'LSTM_inter_dropout': 0.00030924728167129053, 'LSTM_input_gaussian_noise': 0.001, 'LSTM_conv1d': True, 'LSTM_conv1d_kernel_size': 3, 'LSTM_loss': 'mse', 'year_start': 2019, 'is_single_feature': False}\n",
      "2025-08-16 20:00:46,876 -   Duration: 0:01:07.749201\n",
      "2025-08-16 20:00:46,876 -   Val RSME adjusted: 0.0097\n",
      "2025-08-16 20:00:46,876 -   Mean all prediction: 1.0010\n",
      "2025-08-16 20:00:46,876 -   Mean above prediction: 1.0087\n",
      "2025-08-16 20:00:46,876 -   Mean below prediction: 0.9997\n",
      "2025-08-16 20:00:46,876 -   Quantile 0.99 in mask above: 488.0\n",
      "2025-08-16 20:00:46,882 -   Quantile 0.99 in mask below: 409.3199999999997\n",
      "2025-08-16 20:00:46,882 -   Ratio for quantile to length above: 0.0007\n",
      "2025-08-16 20:00:46,882 -   Ratio for quantile to length below: 0.0006\n",
      "2025-08-16 20:00:46,882 -   Score: 1.0022\n"
     ]
    },
    {
     "name": "stderr",
     "output_type": "stream",
     "text": [
      "[I 2025-08-16 20:00:46,966] Trial 75 finished with value: 1.0021730537199476 and parameters: {'year_start': 2019, 'idxAfterPrediction': 4, 'LoadupSamples_time_inc_factor': 36, 'timesteps': 65, 'LSTM_learning_rate': 0.0006125314542299668, 'LSTM_l1': 1.615078576746353e-05, 'LSTM_l2': 0.00019248042589655037, 'LSTM_dropout': 0.00046772896250131036, 'LSTM_inter_dropout': 0.00030924728167129053, 'LSTM_recurrent_dropout': 0.0038814387388864447, 'is_single_feature': False}. Best is trial 10 with value: 1.0025323942546822.\n"
     ]
    },
    {
     "name": "stdout",
     "output_type": "stream",
     "text": [
      "2025-08-16 20:00:46,966 - Trial 75 finished with value: 1.0021730537199476 and parameters: {'year_start': 2019, 'idxAfterPrediction': 4, 'LoadupSamples_time_inc_factor': 36, 'timesteps': 65, 'LSTM_learning_rate': 0.0006125314542299668, 'LSTM_l1': 1.615078576746353e-05, 'LSTM_l2': 0.00019248042589655037, 'LSTM_dropout': 0.00046772896250131036, 'LSTM_inter_dropout': 0.00030924728167129053, 'LSTM_recurrent_dropout': 0.0038814387388864447, 'is_single_feature': False}. Best is trial 10 with value: 1.0025323942546822.\n",
      "2025-08-16 20:00:57,873 - NaN values found in training time features. 28 Samples removed.\n"
     ]
    },
    {
     "name": "stderr",
     "output_type": "stream",
     "text": [
      "Epochs:   0%|          | 0/2 [00:00<?, ?it/s]"
     ]
    },
    {
     "name": "stdout",
     "output_type": "stream",
     "text": [
      "2025-08-16 20:01:42,924 - Epoch 1/2 — Train RMSE: 0.3819 — Validation RMSE: 0.3632\n"
     ]
    },
    {
     "name": "stderr",
     "output_type": "stream",
     "text": [
      "Epochs:  50%|█████     | 1/2 [00:30<00:30, 30.72s/it]"
     ]
    },
    {
     "name": "stdout",
     "output_type": "stream",
     "text": [
      "2025-08-16 20:02:14,726 - Epoch 2/2 — Train RMSE: 0.3744 — Validation RMSE: 0.3629\n"
     ]
    },
    {
     "name": "stderr",
     "output_type": "stream",
     "text": [
      "Epochs: 100%|██████████| 2/2 [01:02<00:00, 31.26s/it]\n"
     ]
    },
    {
     "name": "stdout",
     "output_type": "stream",
     "text": [
      "2025-08-16 20:02:18,632 - Trial 76 with params: {'idxAfterPrediction': 4, 'timesteps': 60, 'target_option': 'last', 'LoadupSamples_time_scaling_stretch': True, 'LoadupSamples_time_inc_factor': 41, 'LSTM_units': 16, 'LSTM_num_layers': 1, 'LSTM_dropout': 0.0006451188236491088, 'LSTM_recurrent_dropout': 0.002719639414059362, 'LSTM_learning_rate': 0.0008761971998436568, 'LSTM_optimizer': 'adam', 'LSTM_bidirectional': True, 'LSTM_batch_size': 4096, 'LSTM_epochs': 2, 'LSTM_l1': 1.995984993728563e-05, 'LSTM_l2': 0.00012138419764844052, 'LSTM_inter_dropout': 0.0005544179254465859, 'LSTM_input_gaussian_noise': 0.001, 'LSTM_conv1d': True, 'LSTM_conv1d_kernel_size': 3, 'LSTM_loss': 'mse', 'year_start': 2019, 'is_single_feature': False}\n",
      "2025-08-16 20:02:18,632 -   Duration: 0:01:06.559544\n",
      "2025-08-16 20:02:18,632 -   Val RSME adjusted: 0.0089\n",
      "2025-08-16 20:02:18,632 -   Mean all prediction: 1.0010\n",
      "2025-08-16 20:02:18,632 -   Mean above prediction: 1.0079\n",
      "2025-08-16 20:02:18,632 -   Mean below prediction: 1.0005\n",
      "2025-08-16 20:02:18,632 -   Quantile 0.99 in mask above: 486.3199999999997\n",
      "2025-08-16 20:02:18,632 -   Quantile 0.99 in mask below: 430.0\n",
      "2025-08-16 20:02:18,632 -   Ratio for quantile to length above: 0.0007\n",
      "2025-08-16 20:02:18,632 -   Ratio for quantile to length below: 0.0007\n",
      "2025-08-16 20:02:18,632 -   Score: 1.0020\n"
     ]
    },
    {
     "name": "stderr",
     "output_type": "stream",
     "text": [
      "[I 2025-08-16 20:02:18,721] Trial 76 finished with value: 1.0019706227877485 and parameters: {'year_start': 2019, 'idxAfterPrediction': 4, 'LoadupSamples_time_inc_factor': 41, 'timesteps': 60, 'LSTM_learning_rate': 0.0008761971998436568, 'LSTM_l1': 1.995984993728563e-05, 'LSTM_l2': 0.00012138419764844052, 'LSTM_dropout': 0.0006451188236491088, 'LSTM_inter_dropout': 0.0005544179254465859, 'LSTM_recurrent_dropout': 0.002719639414059362, 'is_single_feature': False}. Best is trial 10 with value: 1.0025323942546822.\n"
     ]
    },
    {
     "name": "stdout",
     "output_type": "stream",
     "text": [
      "2025-08-16 20:02:18,721 - Trial 76 finished with value: 1.0019706227877485 and parameters: {'year_start': 2019, 'idxAfterPrediction': 4, 'LoadupSamples_time_inc_factor': 41, 'timesteps': 60, 'LSTM_learning_rate': 0.0008761971998436568, 'LSTM_l1': 1.995984993728563e-05, 'LSTM_l2': 0.00012138419764844052, 'LSTM_dropout': 0.0006451188236491088, 'LSTM_inter_dropout': 0.0005544179254465859, 'LSTM_recurrent_dropout': 0.002719639414059362, 'is_single_feature': False}. Best is trial 10 with value: 1.0025323942546822.\n",
      "2025-08-16 20:02:29,592 - NaN values found in training time features. 28 Samples removed.\n"
     ]
    },
    {
     "name": "stderr",
     "output_type": "stream",
     "text": [
      "Epochs:   0%|          | 0/2 [00:00<?, ?it/s]"
     ]
    },
    {
     "name": "stdout",
     "output_type": "stream",
     "text": [
      "2025-08-16 20:03:15,068 - Epoch 1/2 — Train RMSE: 0.4164 — Validation RMSE: 0.3774\n"
     ]
    },
    {
     "name": "stderr",
     "output_type": "stream",
     "text": [
      "Epochs:  50%|█████     | 1/2 [00:31<00:31, 31.10s/it]"
     ]
    },
    {
     "name": "stdout",
     "output_type": "stream",
     "text": [
      "2025-08-16 20:03:47,062 - Epoch 2/2 — Train RMSE: 0.3871 — Validation RMSE: 0.3765\n"
     ]
    },
    {
     "name": "stderr",
     "output_type": "stream",
     "text": [
      "Epochs: 100%|██████████| 2/2 [01:03<00:00, 31.55s/it]\n"
     ]
    },
    {
     "name": "stdout",
     "output_type": "stream",
     "text": [
      "2025-08-16 20:03:50,794 - Trial 77 with params: {'idxAfterPrediction': 4, 'timesteps': 65, 'target_option': 'last', 'LoadupSamples_time_scaling_stretch': True, 'LoadupSamples_time_inc_factor': 46, 'LSTM_units': 16, 'LSTM_num_layers': 1, 'LSTM_dropout': 0.0008558912410323271, 'LSTM_recurrent_dropout': 0.005064855397929475, 'LSTM_learning_rate': 0.0008251005883749622, 'LSTM_optimizer': 'adam', 'LSTM_bidirectional': True, 'LSTM_batch_size': 4096, 'LSTM_epochs': 2, 'LSTM_l1': 3.149985530486028e-05, 'LSTM_l2': 0.0003183073241297447, 'LSTM_inter_dropout': 0.0001461520221919289, 'LSTM_input_gaussian_noise': 0.001, 'LSTM_conv1d': True, 'LSTM_conv1d_kernel_size': 3, 'LSTM_loss': 'mse', 'year_start': 2019, 'is_single_feature': False}\n",
      "2025-08-16 20:03:50,794 -   Duration: 0:01:06.965304\n",
      "2025-08-16 20:03:50,794 -   Val RSME adjusted: 0.0082\n",
      "2025-08-16 20:03:50,794 -   Mean all prediction: 1.0010\n",
      "2025-08-16 20:03:50,799 -   Mean above prediction: 1.0089\n",
      "2025-08-16 20:03:50,799 -   Mean below prediction: 1.0001\n",
      "2025-08-16 20:03:50,799 -   Quantile 0.99 in mask above: 485.9599999999991\n",
      "2025-08-16 20:03:50,799 -   Quantile 0.99 in mask below: 397.0\n",
      "2025-08-16 20:03:50,799 -   Ratio for quantile to length above: 0.0007\n",
      "2025-08-16 20:03:50,799 -   Ratio for quantile to length below: 0.0006\n",
      "2025-08-16 20:03:50,799 -   Score: 1.0022\n"
     ]
    },
    {
     "name": "stderr",
     "output_type": "stream",
     "text": [
      "[I 2025-08-16 20:03:50,890] Trial 77 finished with value: 1.0022129482572733 and parameters: {'year_start': 2019, 'idxAfterPrediction': 4, 'LoadupSamples_time_inc_factor': 46, 'timesteps': 65, 'LSTM_learning_rate': 0.0008251005883749622, 'LSTM_l1': 3.149985530486028e-05, 'LSTM_l2': 0.0003183073241297447, 'LSTM_dropout': 0.0008558912410323271, 'LSTM_inter_dropout': 0.0001461520221919289, 'LSTM_recurrent_dropout': 0.005064855397929475, 'is_single_feature': False}. Best is trial 10 with value: 1.0025323942546822.\n"
     ]
    },
    {
     "name": "stdout",
     "output_type": "stream",
     "text": [
      "2025-08-16 20:03:50,890 - Trial 77 finished with value: 1.0022129482572733 and parameters: {'year_start': 2019, 'idxAfterPrediction': 4, 'LoadupSamples_time_inc_factor': 46, 'timesteps': 65, 'LSTM_learning_rate': 0.0008251005883749622, 'LSTM_l1': 3.149985530486028e-05, 'LSTM_l2': 0.0003183073241297447, 'LSTM_dropout': 0.0008558912410323271, 'LSTM_inter_dropout': 0.0001461520221919289, 'LSTM_recurrent_dropout': 0.005064855397929475, 'is_single_feature': False}. Best is trial 10 with value: 1.0025323942546822.\n",
      "2025-08-16 20:03:56,909 - NaN values found in training time features. 28 Samples removed.\n"
     ]
    },
    {
     "name": "stderr",
     "output_type": "stream",
     "text": [
      "Epochs:   0%|          | 0/2 [00:00<?, ?it/s]"
     ]
    },
    {
     "name": "stdout",
     "output_type": "stream",
     "text": [
      "2025-08-16 20:04:20,583 - Epoch 1/2 — Train RMSE: 0.3614 — Validation RMSE: 0.3319\n"
     ]
    },
    {
     "name": "stderr",
     "output_type": "stream",
     "text": [
      "Epochs:  50%|█████     | 1/2 [00:15<00:15, 15.98s/it]"
     ]
    },
    {
     "name": "stdout",
     "output_type": "stream",
     "text": [
      "2025-08-16 20:04:36,849 - Epoch 2/2 — Train RMSE: 0.3485 — Validation RMSE: 0.3316\n"
     ]
    },
    {
     "name": "stderr",
     "output_type": "stream",
     "text": [
      "Epochs: 100%|██████████| 2/2 [00:32<00:00, 16.12s/it]\n"
     ]
    },
    {
     "name": "stdout",
     "output_type": "stream",
     "text": [
      "2025-08-16 20:04:40,901 - Trial 78 with params: {'idxAfterPrediction': 4, 'timesteps': 65, 'target_option': 'last', 'LoadupSamples_time_scaling_stretch': True, 'LoadupSamples_time_inc_factor': 31, 'LSTM_units': 16, 'LSTM_num_layers': 1, 'LSTM_dropout': 0.0009080174510180485, 'LSTM_recurrent_dropout': 0.01343737743274003, 'LSTM_learning_rate': 0.0005754502906872417, 'LSTM_optimizer': 'adam', 'LSTM_bidirectional': True, 'LSTM_batch_size': 4096, 'LSTM_epochs': 2, 'LSTM_l1': 2.409430706808607e-05, 'LSTM_l2': 0.035623066590105855, 'LSTM_inter_dropout': 0.0014863917971587198, 'LSTM_input_gaussian_noise': 0.001, 'LSTM_conv1d': True, 'LSTM_conv1d_kernel_size': 3, 'LSTM_loss': 'mse', 'year_start': 2022, 'is_single_feature': False}\n",
      "2025-08-16 20:04:40,901 -   Duration: 0:00:36.380435\n",
      "2025-08-16 20:04:40,901 -   Val RSME adjusted: 0.0107\n",
      "2025-08-16 20:04:40,901 -   Mean all prediction: 1.0010\n",
      "2025-08-16 20:04:40,901 -   Mean above prediction: 1.0045\n",
      "2025-08-16 20:04:40,901 -   Mean below prediction: 0.9991\n",
      "2025-08-16 20:04:40,907 -   Quantile 0.99 in mask above: 485.3199999999997\n",
      "2025-08-16 20:04:40,908 -   Quantile 0.99 in mask below: 361.0\n",
      "2025-08-16 20:04:40,908 -   Ratio for quantile to length above: 0.0007\n",
      "2025-08-16 20:04:40,908 -   Ratio for quantile to length below: 0.0005\n",
      "2025-08-16 20:04:40,908 -   Score: 1.0011\n"
     ]
    },
    {
     "name": "stderr",
     "output_type": "stream",
     "text": [
      "[I 2025-08-16 20:04:40,960] Trial 78 finished with value: 1.0011353878006422 and parameters: {'year_start': 2022, 'idxAfterPrediction': 4, 'LoadupSamples_time_inc_factor': 31, 'timesteps': 65, 'LSTM_learning_rate': 0.0005754502906872417, 'LSTM_l1': 2.409430706808607e-05, 'LSTM_l2': 0.035623066590105855, 'LSTM_dropout': 0.0009080174510180485, 'LSTM_inter_dropout': 0.0014863917971587198, 'LSTM_recurrent_dropout': 0.01343737743274003, 'is_single_feature': False}. Best is trial 10 with value: 1.0025323942546822.\n"
     ]
    },
    {
     "name": "stdout",
     "output_type": "stream",
     "text": [
      "2025-08-16 20:04:40,960 - Trial 78 finished with value: 1.0011353878006422 and parameters: {'year_start': 2022, 'idxAfterPrediction': 4, 'LoadupSamples_time_inc_factor': 31, 'timesteps': 65, 'LSTM_learning_rate': 0.0005754502906872417, 'LSTM_l1': 2.409430706808607e-05, 'LSTM_l2': 0.035623066590105855, 'LSTM_dropout': 0.0009080174510180485, 'LSTM_inter_dropout': 0.0014863917971587198, 'LSTM_recurrent_dropout': 0.01343737743274003, 'is_single_feature': False}. Best is trial 10 with value: 1.0025323942546822.\n",
      "2025-08-16 20:04:51,848 - NaN values found in training time features. 28 Samples removed.\n"
     ]
    },
    {
     "name": "stderr",
     "output_type": "stream",
     "text": [
      "Epochs:   0%|          | 0/2 [00:00<?, ?it/s]"
     ]
    },
    {
     "name": "stdout",
     "output_type": "stream",
     "text": [
      "2025-08-16 20:05:37,932 - Epoch 1/2 — Train RMSE: 0.3970 — Validation RMSE: 0.3631\n"
     ]
    },
    {
     "name": "stderr",
     "output_type": "stream",
     "text": [
      "Epochs:  50%|█████     | 1/2 [00:31<00:31, 31.22s/it]"
     ]
    },
    {
     "name": "stdout",
     "output_type": "stream",
     "text": [
      "2025-08-16 20:06:09,385 - Epoch 2/2 — Train RMSE: 0.3741 — Validation RMSE: 0.3630\n"
     ]
    },
    {
     "name": "stderr",
     "output_type": "stream",
     "text": [
      "Epochs: 100%|██████████| 2/2 [01:02<00:00, 31.34s/it]\n"
     ]
    },
    {
     "name": "stdout",
     "output_type": "stream",
     "text": [
      "2025-08-16 20:06:13,433 - Trial 79 with params: {'idxAfterPrediction': 4, 'timesteps': 75, 'target_option': 'last', 'LoadupSamples_time_scaling_stretch': True, 'LoadupSamples_time_inc_factor': 41, 'LSTM_units': 16, 'LSTM_num_layers': 1, 'LSTM_dropout': 0.0005257705350505102, 'LSTM_recurrent_dropout': 0.007420328140739735, 'LSTM_learning_rate': 0.00044300960526976526, 'LSTM_optimizer': 'adam', 'LSTM_bidirectional': True, 'LSTM_batch_size': 4096, 'LSTM_epochs': 2, 'LSTM_l1': 1.2108522779531468e-05, 'LSTM_l2': 0.00013718471111436555, 'LSTM_inter_dropout': 0.0008424992438387792, 'LSTM_input_gaussian_noise': 0.001, 'LSTM_conv1d': True, 'LSTM_conv1d_kernel_size': 3, 'LSTM_loss': 'mse', 'year_start': 2019, 'is_single_feature': True}\n",
      "2025-08-16 20:06:13,433 -   Duration: 0:01:06.785774\n",
      "2025-08-16 20:06:13,433 -   Val RSME adjusted: 0.0089\n",
      "2025-08-16 20:06:13,433 -   Mean all prediction: 1.0010\n",
      "2025-08-16 20:06:13,433 -   Mean above prediction: 1.0041\n",
      "2025-08-16 20:06:13,433 -   Mean below prediction: 0.9996\n",
      "2025-08-16 20:06:13,433 -   Quantile 0.99 in mask above: 472.6399999999994\n",
      "2025-08-16 20:06:13,433 -   Quantile 0.99 in mask below: 401.3199999999997\n",
      "2025-08-16 20:06:13,433 -   Ratio for quantile to length above: 0.0007\n",
      "2025-08-16 20:06:13,433 -   Ratio for quantile to length below: 0.0006\n",
      "2025-08-16 20:06:13,433 -   Score: 1.0010\n"
     ]
    },
    {
     "name": "stderr",
     "output_type": "stream",
     "text": [
      "[I 2025-08-16 20:06:13,542] Trial 79 finished with value: 1.0010307773790978 and parameters: {'year_start': 2019, 'idxAfterPrediction': 4, 'LoadupSamples_time_inc_factor': 41, 'timesteps': 75, 'LSTM_learning_rate': 0.00044300960526976526, 'LSTM_l1': 1.2108522779531468e-05, 'LSTM_l2': 0.00013718471111436555, 'LSTM_dropout': 0.0005257705350505102, 'LSTM_inter_dropout': 0.0008424992438387792, 'LSTM_recurrent_dropout': 0.007420328140739735, 'is_single_feature': True}. Best is trial 10 with value: 1.0025323942546822.\n"
     ]
    },
    {
     "name": "stdout",
     "output_type": "stream",
     "text": [
      "2025-08-16 20:06:13,542 - Trial 79 finished with value: 1.0010307773790978 and parameters: {'year_start': 2019, 'idxAfterPrediction': 4, 'LoadupSamples_time_inc_factor': 41, 'timesteps': 75, 'LSTM_learning_rate': 0.00044300960526976526, 'LSTM_l1': 1.2108522779531468e-05, 'LSTM_l2': 0.00013718471111436555, 'LSTM_dropout': 0.0005257705350505102, 'LSTM_inter_dropout': 0.0008424992438387792, 'LSTM_recurrent_dropout': 0.007420328140739735, 'is_single_feature': True}. Best is trial 10 with value: 1.0025323942546822.\n",
      "2025-08-16 20:06:21,276 - NaN values found in training time features. 28 Samples removed.\n"
     ]
    },
    {
     "name": "stderr",
     "output_type": "stream",
     "text": [
      "Epochs:   0%|          | 0/2 [00:00<?, ?it/s]"
     ]
    },
    {
     "name": "stdout",
     "output_type": "stream",
     "text": [
      "2025-08-16 20:06:52,577 - Epoch 1/2 — Train RMSE: 0.4341 — Validation RMSE: 0.4023\n"
     ]
    },
    {
     "name": "stderr",
     "output_type": "stream",
     "text": [
      "Epochs:  50%|█████     | 1/2 [00:21<00:21, 21.16s/it]"
     ]
    },
    {
     "name": "stdout",
     "output_type": "stream",
     "text": [
      "2025-08-16 20:07:14,158 - Epoch 2/2 — Train RMSE: 0.4117 — Validation RMSE: 0.4020\n"
     ]
    },
    {
     "name": "stderr",
     "output_type": "stream",
     "text": [
      "Epochs: 100%|██████████| 2/2 [00:42<00:00, 21.37s/it]\n"
     ]
    },
    {
     "name": "stdout",
     "output_type": "stream",
     "text": [
      "2025-08-16 20:07:18,266 - Trial 80 with params: {'idxAfterPrediction': 4, 'timesteps': 60, 'target_option': 'last', 'LoadupSamples_time_scaling_stretch': True, 'LoadupSamples_time_inc_factor': 61, 'LSTM_units': 16, 'LSTM_num_layers': 1, 'LSTM_dropout': 0.0006596760106238059, 'LSTM_recurrent_dropout': 0.0033206080854424444, 'LSTM_learning_rate': 0.0007467624769049858, 'LSTM_optimizer': 'adam', 'LSTM_bidirectional': True, 'LSTM_batch_size': 4096, 'LSTM_epochs': 2, 'LSTM_l1': 2.8372297318472605e-05, 'LSTM_l2': 0.0001609755501933568, 'LSTM_inter_dropout': 0.0003200608972499104, 'LSTM_input_gaussian_noise': 0.001, 'LSTM_conv1d': True, 'LSTM_conv1d_kernel_size': 3, 'LSTM_loss': 'mse', 'year_start': 2021, 'is_single_feature': False}\n",
      "2025-08-16 20:07:18,266 -   Duration: 0:00:46.952603\n",
      "2025-08-16 20:07:18,266 -   Val RSME adjusted: 0.0066\n",
      "2025-08-16 20:07:18,266 -   Mean all prediction: 1.0010\n",
      "2025-08-16 20:07:18,266 -   Mean above prediction: 1.0070\n",
      "2025-08-16 20:07:18,266 -   Mean below prediction: 0.9998\n",
      "2025-08-16 20:07:18,266 -   Quantile 0.99 in mask above: 403.0\n",
      "2025-08-16 20:07:18,266 -   Quantile 0.99 in mask below: 422.27999999999884\n",
      "2025-08-16 20:07:18,266 -   Ratio for quantile to length above: 0.0006\n",
      "2025-08-16 20:07:18,266 -   Ratio for quantile to length below: 0.0006\n",
      "2025-08-16 20:07:18,266 -   Score: 1.0017\n"
     ]
    },
    {
     "name": "stderr",
     "output_type": "stream",
     "text": [
      "[I 2025-08-16 20:07:18,341] Trial 80 finished with value: 1.0017438250291077 and parameters: {'year_start': 2021, 'idxAfterPrediction': 4, 'LoadupSamples_time_inc_factor': 61, 'timesteps': 60, 'LSTM_learning_rate': 0.0007467624769049858, 'LSTM_l1': 2.8372297318472605e-05, 'LSTM_l2': 0.0001609755501933568, 'LSTM_dropout': 0.0006596760106238059, 'LSTM_inter_dropout': 0.0003200608972499104, 'LSTM_recurrent_dropout': 0.0033206080854424444, 'is_single_feature': False}. Best is trial 10 with value: 1.0025323942546822.\n"
     ]
    },
    {
     "name": "stdout",
     "output_type": "stream",
     "text": [
      "2025-08-16 20:07:18,341 - Trial 80 finished with value: 1.0017438250291077 and parameters: {'year_start': 2021, 'idxAfterPrediction': 4, 'LoadupSamples_time_inc_factor': 61, 'timesteps': 60, 'LSTM_learning_rate': 0.0007467624769049858, 'LSTM_l1': 2.8372297318472605e-05, 'LSTM_l2': 0.0001609755501933568, 'LSTM_dropout': 0.0006596760106238059, 'LSTM_inter_dropout': 0.0003200608972499104, 'LSTM_recurrent_dropout': 0.0033206080854424444, 'is_single_feature': False}. Best is trial 10 with value: 1.0025323942546822.\n",
      "2025-08-16 20:07:29,170 - NaN values found in training time features. 28 Samples removed.\n"
     ]
    },
    {
     "name": "stderr",
     "output_type": "stream",
     "text": [
      "Epochs:   0%|          | 0/2 [00:00<?, ?it/s]"
     ]
    },
    {
     "name": "stdout",
     "output_type": "stream",
     "text": [
      "2025-08-16 20:08:15,894 - Epoch 1/2 — Train RMSE: 0.4342 — Validation RMSE: 0.3319\n"
     ]
    },
    {
     "name": "stderr",
     "output_type": "stream",
     "text": [
      "Epochs:  50%|█████     | 1/2 [00:32<00:32, 32.15s/it]"
     ]
    },
    {
     "name": "stdout",
     "output_type": "stream",
     "text": [
      "2025-08-16 20:08:47,931 - Epoch 2/2 — Train RMSE: 0.3443 — Validation RMSE: 0.3313\n"
     ]
    },
    {
     "name": "stderr",
     "output_type": "stream",
     "text": [
      "Epochs: 100%|██████████| 2/2 [01:04<00:00, 32.09s/it]\n"
     ]
    },
    {
     "name": "stdout",
     "output_type": "stream",
     "text": [
      "2025-08-16 20:08:51,963 - Trial 81 with params: {'idxAfterPrediction': 4, 'timesteps': 85, 'target_option': 'last', 'LoadupSamples_time_scaling_stretch': True, 'LoadupSamples_time_inc_factor': 31, 'LSTM_units': 16, 'LSTM_num_layers': 1, 'LSTM_dropout': 0.00044159787561247267, 'LSTM_recurrent_dropout': 0.0014938990098428639, 'LSTM_learning_rate': 0.00023592957944000548, 'LSTM_optimizer': 'adam', 'LSTM_bidirectional': True, 'LSTM_batch_size': 4096, 'LSTM_epochs': 2, 'LSTM_l1': 1.661088910573987e-05, 'LSTM_l2': 0.0007951820849861157, 'LSTM_inter_dropout': 0.00023836579080395375, 'LSTM_input_gaussian_noise': 0.001, 'LSTM_conv1d': True, 'LSTM_conv1d_kernel_size': 3, 'LSTM_loss': 'mse', 'year_start': 2019, 'is_single_feature': False}\n",
      "2025-08-16 20:08:51,963 -   Duration: 0:01:08.412979\n",
      "2025-08-16 20:08:51,963 -   Val RSME adjusted: 0.0107\n",
      "2025-08-16 20:08:51,963 -   Mean all prediction: 1.0010\n",
      "2025-08-16 20:08:51,963 -   Mean above prediction: 1.0073\n",
      "2025-08-16 20:08:51,963 -   Mean below prediction: 0.9996\n",
      "2025-08-16 20:08:51,963 -   Quantile 0.99 in mask above: 462.0\n",
      "2025-08-16 20:08:51,963 -   Quantile 0.99 in mask below: 374.6399999999994\n",
      "2025-08-16 20:08:51,970 -   Ratio for quantile to length above: 0.0007\n",
      "2025-08-16 20:08:51,970 -   Ratio for quantile to length below: 0.0006\n",
      "2025-08-16 20:08:51,970 -   Score: 1.0018\n"
     ]
    },
    {
     "name": "stderr",
     "output_type": "stream",
     "text": [
      "[I 2025-08-16 20:08:52,054] Trial 81 finished with value: 1.0018091823347306 and parameters: {'year_start': 2019, 'idxAfterPrediction': 4, 'LoadupSamples_time_inc_factor': 31, 'timesteps': 85, 'LSTM_learning_rate': 0.00023592957944000548, 'LSTM_l1': 1.661088910573987e-05, 'LSTM_l2': 0.0007951820849861157, 'LSTM_dropout': 0.00044159787561247267, 'LSTM_inter_dropout': 0.00023836579080395375, 'LSTM_recurrent_dropout': 0.0014938990098428639, 'is_single_feature': False}. Best is trial 10 with value: 1.0025323942546822.\n"
     ]
    },
    {
     "name": "stdout",
     "output_type": "stream",
     "text": [
      "2025-08-16 20:08:52,054 - Trial 81 finished with value: 1.0018091823347306 and parameters: {'year_start': 2019, 'idxAfterPrediction': 4, 'LoadupSamples_time_inc_factor': 31, 'timesteps': 85, 'LSTM_learning_rate': 0.00023592957944000548, 'LSTM_l1': 1.661088910573987e-05, 'LSTM_l2': 0.0007951820849861157, 'LSTM_dropout': 0.00044159787561247267, 'LSTM_inter_dropout': 0.00023836579080395375, 'LSTM_recurrent_dropout': 0.0014938990098428639, 'is_single_feature': False}. Best is trial 10 with value: 1.0025323942546822.\n",
      "2025-08-16 20:09:02,994 - NaN values found in training time features. 28 Samples removed.\n"
     ]
    },
    {
     "name": "stderr",
     "output_type": "stream",
     "text": [
      "Epochs:   0%|          | 0/2 [00:00<?, ?it/s]"
     ]
    },
    {
     "name": "stdout",
     "output_type": "stream",
     "text": [
      "2025-08-16 20:09:49,612 - Epoch 1/2 — Train RMSE: 0.4660 — Validation RMSE: 0.3322\n"
     ]
    },
    {
     "name": "stderr",
     "output_type": "stream",
     "text": [
      "Epochs:  50%|█████     | 1/2 [00:32<00:32, 32.19s/it]"
     ]
    },
    {
     "name": "stdout",
     "output_type": "stream",
     "text": [
      "2025-08-16 20:10:21,698 - Epoch 2/2 — Train RMSE: 0.3444 — Validation RMSE: 0.3314\n"
     ]
    },
    {
     "name": "stderr",
     "output_type": "stream",
     "text": [
      "Epochs: 100%|██████████| 2/2 [01:04<00:00, 32.14s/it]\n"
     ]
    },
    {
     "name": "stdout",
     "output_type": "stream",
     "text": [
      "2025-08-16 20:10:25,575 - Trial 82 with params: {'idxAfterPrediction': 4, 'timesteps': 90, 'target_option': 'last', 'LoadupSamples_time_scaling_stretch': True, 'LoadupSamples_time_inc_factor': 31, 'LSTM_units': 16, 'LSTM_num_layers': 1, 'LSTM_dropout': 0.0003783662224351586, 'LSTM_recurrent_dropout': 0.0008827865105666819, 'LSTM_learning_rate': 0.000124140037742632, 'LSTM_optimizer': 'adam', 'LSTM_bidirectional': True, 'LSTM_batch_size': 4096, 'LSTM_epochs': 2, 'LSTM_l1': 1.3792966514596494e-05, 'LSTM_l2': 0.00024098214076475363, 'LSTM_inter_dropout': 0.00018016172014018655, 'LSTM_input_gaussian_noise': 0.001, 'LSTM_conv1d': True, 'LSTM_conv1d_kernel_size': 3, 'LSTM_loss': 'mse', 'year_start': 2019, 'is_single_feature': False}\n",
      "2025-08-16 20:10:25,575 -   Duration: 0:01:08.332171\n",
      "2025-08-16 20:10:25,575 -   Val RSME adjusted: 0.0107\n",
      "2025-08-16 20:10:25,575 -   Mean all prediction: 1.0010\n",
      "2025-08-16 20:10:25,575 -   Mean above prediction: 1.0078\n",
      "2025-08-16 20:10:25,575 -   Mean below prediction: 1.0001\n",
      "2025-08-16 20:10:25,575 -   Quantile 0.99 in mask above: 398.0\n",
      "2025-08-16 20:10:25,575 -   Quantile 0.99 in mask below: 418.6399999999994\n",
      "2025-08-16 20:10:25,575 -   Ratio for quantile to length above: 0.0006\n",
      "2025-08-16 20:10:25,575 -   Ratio for quantile to length below: 0.0006\n",
      "2025-08-16 20:10:25,575 -   Score: 1.0020\n"
     ]
    },
    {
     "name": "stderr",
     "output_type": "stream",
     "text": [
      "[I 2025-08-16 20:10:25,666] Trial 82 finished with value: 1.0019529742731796 and parameters: {'year_start': 2019, 'idxAfterPrediction': 4, 'LoadupSamples_time_inc_factor': 31, 'timesteps': 90, 'LSTM_learning_rate': 0.000124140037742632, 'LSTM_l1': 1.3792966514596494e-05, 'LSTM_l2': 0.00024098214076475363, 'LSTM_dropout': 0.0003783662224351586, 'LSTM_inter_dropout': 0.00018016172014018655, 'LSTM_recurrent_dropout': 0.0008827865105666819, 'is_single_feature': False}. Best is trial 10 with value: 1.0025323942546822.\n"
     ]
    },
    {
     "name": "stdout",
     "output_type": "stream",
     "text": [
      "2025-08-16 20:10:25,666 - Trial 82 finished with value: 1.0019529742731796 and parameters: {'year_start': 2019, 'idxAfterPrediction': 4, 'LoadupSamples_time_inc_factor': 31, 'timesteps': 90, 'LSTM_learning_rate': 0.000124140037742632, 'LSTM_l1': 1.3792966514596494e-05, 'LSTM_l2': 0.00024098214076475363, 'LSTM_dropout': 0.0003783662224351586, 'LSTM_inter_dropout': 0.00018016172014018655, 'LSTM_recurrent_dropout': 0.0008827865105666819, 'is_single_feature': False}. Best is trial 10 with value: 1.0025323942546822.\n",
      "2025-08-16 20:10:36,547 - NaN values found in training time features. 28 Samples removed.\n"
     ]
    },
    {
     "name": "stderr",
     "output_type": "stream",
     "text": [
      "Epochs:   0%|          | 0/2 [00:00<?, ?it/s]"
     ]
    },
    {
     "name": "stdout",
     "output_type": "stream",
     "text": [
      "2025-08-16 20:11:22,313 - Epoch 1/2 — Train RMSE: 0.4541 — Validation RMSE: 0.3094\n"
     ]
    },
    {
     "name": "stderr",
     "output_type": "stream",
     "text": [
      "Epochs:  50%|█████     | 1/2 [00:31<00:31, 31.32s/it]"
     ]
    },
    {
     "name": "stdout",
     "output_type": "stream",
     "text": [
      "2025-08-16 20:11:54,008 - Epoch 2/2 — Train RMSE: 0.3225 — Validation RMSE: 0.3092\n"
     ]
    },
    {
     "name": "stderr",
     "output_type": "stream",
     "text": [
      "Epochs: 100%|██████████| 2/2 [01:02<00:00, 31.50s/it]\n"
     ]
    },
    {
     "name": "stdout",
     "output_type": "stream",
     "text": [
      "2025-08-16 20:11:57,428 - Trial 83 with params: {'idxAfterPrediction': 4, 'timesteps': 70, 'target_option': 'last', 'LoadupSamples_time_scaling_stretch': True, 'LoadupSamples_time_inc_factor': 26, 'LSTM_units': 16, 'LSTM_num_layers': 1, 'LSTM_dropout': 0.0003117665881349109, 'LSTM_recurrent_dropout': 0.00184267179743265, 'LSTM_learning_rate': 9.725165153792898e-05, 'LSTM_optimizer': 'adam', 'LSTM_bidirectional': True, 'LSTM_batch_size': 4096, 'LSTM_epochs': 2, 'LSTM_l1': 1.211002300798272e-05, 'LSTM_l2': 0.00011190033538585512, 'LSTM_inter_dropout': 0.0003999398967781927, 'LSTM_input_gaussian_noise': 0.001, 'LSTM_conv1d': True, 'LSTM_conv1d_kernel_size': 3, 'LSTM_loss': 'mse', 'year_start': 2019, 'is_single_feature': False}\n",
      "2025-08-16 20:11:57,429 -   Duration: 0:01:06.628401\n",
      "2025-08-16 20:11:57,429 -   Val RSME adjusted: 0.0119\n",
      "2025-08-16 20:11:57,429 -   Mean all prediction: 1.0010\n",
      "2025-08-16 20:11:57,429 -   Mean above prediction: 1.0089\n",
      "2025-08-16 20:11:57,429 -   Mean below prediction: 0.9994\n",
      "2025-08-16 20:11:57,429 -   Quantile 0.99 in mask above: 493.6399999999994\n",
      "2025-08-16 20:11:57,429 -   Quantile 0.99 in mask below: 391.9599999999991\n",
      "2025-08-16 20:11:57,429 -   Ratio for quantile to length above: 0.0007\n",
      "2025-08-16 20:11:57,429 -   Ratio for quantile to length below: 0.0006\n",
      "2025-08-16 20:11:57,429 -   Score: 1.0022\n"
     ]
    },
    {
     "name": "stderr",
     "output_type": "stream",
     "text": [
      "[I 2025-08-16 20:11:57,520] Trial 83 finished with value: 1.0022203872398137 and parameters: {'year_start': 2019, 'idxAfterPrediction': 4, 'LoadupSamples_time_inc_factor': 26, 'timesteps': 70, 'LSTM_learning_rate': 9.725165153792898e-05, 'LSTM_l1': 1.211002300798272e-05, 'LSTM_l2': 0.00011190033538585512, 'LSTM_dropout': 0.0003117665881349109, 'LSTM_inter_dropout': 0.0003999398967781927, 'LSTM_recurrent_dropout': 0.00184267179743265, 'is_single_feature': False}. Best is trial 10 with value: 1.0025323942546822.\n"
     ]
    },
    {
     "name": "stdout",
     "output_type": "stream",
     "text": [
      "2025-08-16 20:11:57,520 - Trial 83 finished with value: 1.0022203872398137 and parameters: {'year_start': 2019, 'idxAfterPrediction': 4, 'LoadupSamples_time_inc_factor': 26, 'timesteps': 70, 'LSTM_learning_rate': 9.725165153792898e-05, 'LSTM_l1': 1.211002300798272e-05, 'LSTM_l2': 0.00011190033538585512, 'LSTM_dropout': 0.0003117665881349109, 'LSTM_inter_dropout': 0.0003999398967781927, 'LSTM_recurrent_dropout': 0.00184267179743265, 'is_single_feature': False}. Best is trial 10 with value: 1.0025323942546822.\n",
      "2025-08-16 20:12:08,417 - NaN values found in training time features. 28 Samples removed.\n"
     ]
    },
    {
     "name": "stderr",
     "output_type": "stream",
     "text": [
      "Epochs:   0%|          | 0/2 [00:00<?, ?it/s]"
     ]
    },
    {
     "name": "stdout",
     "output_type": "stream",
     "text": [
      "2025-08-16 20:12:54,498 - Epoch 1/2 — Train RMSE: 0.5462 — Validation RMSE: 0.3513\n"
     ]
    },
    {
     "name": "stderr",
     "output_type": "stream",
     "text": [
      "Epochs:  50%|█████     | 1/2 [00:31<00:31, 31.32s/it]"
     ]
    },
    {
     "name": "stdout",
     "output_type": "stream",
     "text": [
      "2025-08-16 20:13:26,453 - Epoch 2/2 — Train RMSE: 0.3611 — Validation RMSE: 0.3492\n"
     ]
    },
    {
     "name": "stderr",
     "output_type": "stream",
     "text": [
      "Epochs: 100%|██████████| 2/2 [01:03<00:00, 31.64s/it]\n"
     ]
    },
    {
     "name": "stdout",
     "output_type": "stream",
     "text": [
      "2025-08-16 20:13:30,433 - Trial 84 with params: {'idxAfterPrediction': 4, 'timesteps': 70, 'target_option': 'last', 'LoadupSamples_time_scaling_stretch': True, 'LoadupSamples_time_inc_factor': 36, 'LSTM_units': 16, 'LSTM_num_layers': 1, 'LSTM_dropout': 0.0005219183706400248, 'LSTM_recurrent_dropout': 0.0024127151073807885, 'LSTM_learning_rate': 7.109184857255032e-05, 'LSTM_optimizer': 'adam', 'LSTM_bidirectional': True, 'LSTM_batch_size': 4096, 'LSTM_epochs': 2, 'LSTM_l1': 2.0155890578603738e-05, 'LSTM_l2': 0.0002749869319644923, 'LSTM_inter_dropout': 0.00023595120724574333, 'LSTM_input_gaussian_noise': 0.001, 'LSTM_conv1d': True, 'LSTM_conv1d_kernel_size': 3, 'LSTM_loss': 'mse', 'year_start': 2019, 'is_single_feature': False}\n",
      "2025-08-16 20:13:30,433 -   Duration: 0:01:07.477249\n",
      "2025-08-16 20:13:30,433 -   Val RSME adjusted: 0.0097\n",
      "2025-08-16 20:13:30,433 -   Mean all prediction: 1.0010\n",
      "2025-08-16 20:13:30,433 -   Mean above prediction: 1.0080\n",
      "2025-08-16 20:13:30,433 -   Mean below prediction: 0.9990\n",
      "2025-08-16 20:13:30,433 -   Quantile 0.99 in mask above: 483.0\n",
      "2025-08-16 20:13:30,433 -   Quantile 0.99 in mask below: 387.6399999999994\n",
      "2025-08-16 20:13:30,441 -   Ratio for quantile to length above: 0.0007\n",
      "2025-08-16 20:13:30,441 -   Ratio for quantile to length below: 0.0006\n",
      "2025-08-16 20:13:30,441 -   Score: 1.0020\n"
     ]
    },
    {
     "name": "stderr",
     "output_type": "stream",
     "text": [
      "[I 2025-08-16 20:13:30,523] Trial 84 finished with value: 1.0020002433105517 and parameters: {'year_start': 2019, 'idxAfterPrediction': 4, 'LoadupSamples_time_inc_factor': 36, 'timesteps': 70, 'LSTM_learning_rate': 7.109184857255032e-05, 'LSTM_l1': 2.0155890578603738e-05, 'LSTM_l2': 0.0002749869319644923, 'LSTM_dropout': 0.0005219183706400248, 'LSTM_inter_dropout': 0.00023595120724574333, 'LSTM_recurrent_dropout': 0.0024127151073807885, 'is_single_feature': False}. Best is trial 10 with value: 1.0025323942546822.\n"
     ]
    },
    {
     "name": "stdout",
     "output_type": "stream",
     "text": [
      "2025-08-16 20:13:30,523 - Trial 84 finished with value: 1.0020002433105517 and parameters: {'year_start': 2019, 'idxAfterPrediction': 4, 'LoadupSamples_time_inc_factor': 36, 'timesteps': 70, 'LSTM_learning_rate': 7.109184857255032e-05, 'LSTM_l1': 2.0155890578603738e-05, 'LSTM_l2': 0.0002749869319644923, 'LSTM_dropout': 0.0005219183706400248, 'LSTM_inter_dropout': 0.00023595120724574333, 'LSTM_recurrent_dropout': 0.0024127151073807885, 'is_single_feature': False}. Best is trial 10 with value: 1.0025323942546822.\n",
      "2025-08-16 20:13:41,465 - NaN values found in training time features. 28 Samples removed.\n"
     ]
    },
    {
     "name": "stderr",
     "output_type": "stream",
     "text": [
      "Epochs:   0%|          | 0/2 [00:00<?, ?it/s]"
     ]
    },
    {
     "name": "stdout",
     "output_type": "stream",
     "text": [
      "2025-08-16 20:14:27,382 - Epoch 1/2 — Train RMSE: 0.3758 — Validation RMSE: 0.3485\n"
     ]
    },
    {
     "name": "stderr",
     "output_type": "stream",
     "text": [
      "Epochs:  50%|█████     | 1/2 [00:31<00:31, 31.48s/it]"
     ]
    },
    {
     "name": "stdout",
     "output_type": "stream",
     "text": [
      "2025-08-16 20:14:59,011 - Epoch 2/2 — Train RMSE: 0.3604 — Validation RMSE: 0.3483\n"
     ]
    },
    {
     "name": "stderr",
     "output_type": "stream",
     "text": [
      "Epochs: 100%|██████████| 2/2 [01:03<00:00, 31.56s/it]\n"
     ]
    },
    {
     "name": "stdout",
     "output_type": "stream",
     "text": [
      "2025-08-16 20:15:03,317 - Trial 85 with params: {'idxAfterPrediction': 4, 'timesteps': 75, 'target_option': 'last', 'LoadupSamples_time_scaling_stretch': True, 'LoadupSamples_time_inc_factor': 36, 'LSTM_units': 16, 'LSTM_num_layers': 1, 'LSTM_dropout': 0.0007968299906438221, 'LSTM_recurrent_dropout': 0.0011684566320180531, 'LSTM_learning_rate': 0.00036049241143804424, 'LSTM_optimizer': 'adam', 'LSTM_bidirectional': True, 'LSTM_batch_size': 4096, 'LSTM_epochs': 2, 'LSTM_l1': 1.5337727441788426e-05, 'LSTM_l2': 0.0003960440713315566, 'LSTM_inter_dropout': 0.00012774947591484635, 'LSTM_input_gaussian_noise': 0.001, 'LSTM_conv1d': True, 'LSTM_conv1d_kernel_size': 3, 'LSTM_loss': 'mse', 'year_start': 2019, 'is_single_feature': False}\n",
      "2025-08-16 20:15:03,319 -   Duration: 0:01:07.606418\n",
      "2025-08-16 20:15:03,319 -   Val RSME adjusted: 0.0097\n",
      "2025-08-16 20:15:03,321 -   Mean all prediction: 1.0010\n",
      "2025-08-16 20:15:03,321 -   Mean above prediction: 1.0056\n",
      "2025-08-16 20:15:03,322 -   Mean below prediction: 1.0001\n",
      "2025-08-16 20:15:03,323 -   Quantile 0.99 in mask above: 409.3099999999995\n",
      "2025-08-16 20:15:03,323 -   Quantile 0.99 in mask below: 420.3199999999997\n",
      "2025-08-16 20:15:03,325 -   Ratio for quantile to length above: 0.0006\n",
      "2025-08-16 20:15:03,326 -   Ratio for quantile to length below: 0.0006\n",
      "2025-08-16 20:15:03,327 -   Score: 1.0014\n"
     ]
    },
    {
     "name": "stderr",
     "output_type": "stream",
     "text": [
      "[I 2025-08-16 20:15:03,412] Trial 85 finished with value: 1.001394195871741 and parameters: {'year_start': 2019, 'idxAfterPrediction': 4, 'LoadupSamples_time_inc_factor': 36, 'timesteps': 75, 'LSTM_learning_rate': 0.00036049241143804424, 'LSTM_l1': 1.5337727441788426e-05, 'LSTM_l2': 0.0003960440713315566, 'LSTM_dropout': 0.0007968299906438221, 'LSTM_inter_dropout': 0.00012774947591484635, 'LSTM_recurrent_dropout': 0.0011684566320180531, 'is_single_feature': False}. Best is trial 10 with value: 1.0025323942546822.\n"
     ]
    },
    {
     "name": "stdout",
     "output_type": "stream",
     "text": [
      "2025-08-16 20:15:03,412 - Trial 85 finished with value: 1.001394195871741 and parameters: {'year_start': 2019, 'idxAfterPrediction': 4, 'LoadupSamples_time_inc_factor': 36, 'timesteps': 75, 'LSTM_learning_rate': 0.00036049241143804424, 'LSTM_l1': 1.5337727441788426e-05, 'LSTM_l2': 0.0003960440713315566, 'LSTM_dropout': 0.0007968299906438221, 'LSTM_inter_dropout': 0.00012774947591484635, 'LSTM_recurrent_dropout': 0.0011684566320180531, 'is_single_feature': False}. Best is trial 10 with value: 1.0025323942546822.\n",
      "2025-08-16 20:15:14,400 - NaN values found in training time features. 28 Samples removed.\n"
     ]
    },
    {
     "name": "stderr",
     "output_type": "stream",
     "text": [
      "Epochs:   0%|          | 0/2 [00:00<?, ?it/s]"
     ]
    },
    {
     "name": "stdout",
     "output_type": "stream",
     "text": [
      "2025-08-16 20:16:00,801 - Epoch 1/2 — Train RMSE: 0.3744 — Validation RMSE: 0.3092\n"
     ]
    },
    {
     "name": "stderr",
     "output_type": "stream",
     "text": [
      "Epochs:  50%|█████     | 1/2 [00:31<00:31, 31.64s/it]"
     ]
    },
    {
     "name": "stdout",
     "output_type": "stream",
     "text": [
      "2025-08-16 20:16:32,976 - Epoch 2/2 — Train RMSE: 0.3218 — Validation RMSE: 0.3092\n"
     ]
    },
    {
     "name": "stderr",
     "output_type": "stream",
     "text": [
      "Epochs: 100%|██████████| 2/2 [01:03<00:00, 31.90s/it]\n"
     ]
    },
    {
     "name": "stdout",
     "output_type": "stream",
     "text": [
      "2025-08-16 20:16:37,055 - Trial 86 with params: {'idxAfterPrediction': 4, 'timesteps': 65, 'target_option': 'last', 'LoadupSamples_time_scaling_stretch': True, 'LoadupSamples_time_inc_factor': 26, 'LSTM_units': 16, 'LSTM_num_layers': 1, 'LSTM_dropout': 4.824556857997553e-05, 'LSTM_recurrent_dropout': 0.004213509104862255, 'LSTM_learning_rate': 0.00015252511721037992, 'LSTM_optimizer': 'adam', 'LSTM_bidirectional': True, 'LSTM_batch_size': 4096, 'LSTM_epochs': 2, 'LSTM_l1': 0.0009686071504781833, 'LSTM_l2': 0.0001897643289653637, 'LSTM_inter_dropout': 0.00010133495409760174, 'LSTM_input_gaussian_noise': 0.001, 'LSTM_conv1d': True, 'LSTM_conv1d_kernel_size': 3, 'LSTM_loss': 'mse', 'year_start': 2019, 'is_single_feature': False}\n",
      "2025-08-16 20:16:37,055 -   Duration: 0:01:08.106864\n",
      "2025-08-16 20:16:37,055 -   Val RSME adjusted: 0.0119\n",
      "2025-08-16 20:16:37,055 -   Mean all prediction: 1.0010\n",
      "2025-08-16 20:16:37,055 -   Mean above prediction: 1.0055\n",
      "2025-08-16 20:16:37,055 -   Mean below prediction: 0.9994\n",
      "2025-08-16 20:16:37,055 -   Quantile 0.99 in mask above: 461.3199999999997\n",
      "2025-08-16 20:16:37,055 -   Quantile 0.99 in mask below: 412.0\n",
      "2025-08-16 20:16:37,062 -   Ratio for quantile to length above: 0.0007\n",
      "2025-08-16 20:16:37,063 -   Ratio for quantile to length below: 0.0006\n",
      "2025-08-16 20:16:37,064 -   Score: 1.0014\n"
     ]
    },
    {
     "name": "stderr",
     "output_type": "stream",
     "text": [
      "[I 2025-08-16 20:16:37,145] Trial 86 finished with value: 1.001374675410946 and parameters: {'year_start': 2019, 'idxAfterPrediction': 4, 'LoadupSamples_time_inc_factor': 26, 'timesteps': 65, 'LSTM_learning_rate': 0.00015252511721037992, 'LSTM_l1': 0.0009686071504781833, 'LSTM_l2': 0.0001897643289653637, 'LSTM_dropout': 4.824556857997553e-05, 'LSTM_inter_dropout': 0.00010133495409760174, 'LSTM_recurrent_dropout': 0.004213509104862255, 'is_single_feature': False}. Best is trial 10 with value: 1.0025323942546822.\n"
     ]
    },
    {
     "name": "stdout",
     "output_type": "stream",
     "text": [
      "2025-08-16 20:16:37,145 - Trial 86 finished with value: 1.001374675410946 and parameters: {'year_start': 2019, 'idxAfterPrediction': 4, 'LoadupSamples_time_inc_factor': 26, 'timesteps': 65, 'LSTM_learning_rate': 0.00015252511721037992, 'LSTM_l1': 0.0009686071504781833, 'LSTM_l2': 0.0001897643289653637, 'LSTM_dropout': 4.824556857997553e-05, 'LSTM_inter_dropout': 0.00010133495409760174, 'LSTM_recurrent_dropout': 0.004213509104862255, 'is_single_feature': False}. Best is trial 10 with value: 1.0025323942546822.\n",
      "2025-08-16 20:16:46,384 - NaN values found in training time features. 28 Samples removed.\n"
     ]
    },
    {
     "name": "stderr",
     "output_type": "stream",
     "text": [
      "Epochs:   0%|          | 0/2 [00:00<?, ?it/s]"
     ]
    },
    {
     "name": "stdout",
     "output_type": "stream",
     "text": [
      "2025-08-16 20:17:24,584 - Epoch 1/2 — Train RMSE: 0.3710 — Validation RMSE: 0.3441\n"
     ]
    },
    {
     "name": "stderr",
     "output_type": "stream",
     "text": [
      "Epochs:  50%|█████     | 1/2 [00:25<00:25, 25.91s/it]"
     ]
    },
    {
     "name": "stdout",
     "output_type": "stream",
     "text": [
      "2025-08-16 20:17:50,879 - Epoch 2/2 — Train RMSE: 0.3557 — Validation RMSE: 0.3384\n"
     ]
    },
    {
     "name": "stderr",
     "output_type": "stream",
     "text": [
      "Epochs: 100%|██████████| 2/2 [00:52<00:00, 26.10s/it]\n"
     ]
    },
    {
     "name": "stdout",
     "output_type": "stream",
     "text": [
      "2025-08-16 20:17:54,642 - Trial 87 with params: {'idxAfterPrediction': 4, 'timesteps': 50, 'target_option': 'last', 'LoadupSamples_time_scaling_stretch': True, 'LoadupSamples_time_inc_factor': 31, 'LSTM_units': 16, 'LSTM_num_layers': 1, 'LSTM_dropout': 6.249339995701137e-05, 'LSTM_recurrent_dropout': 0.0015747397725683076, 'LSTM_learning_rate': 0.0009857436833986836, 'LSTM_optimizer': 'adam', 'LSTM_bidirectional': True, 'LSTM_batch_size': 4096, 'LSTM_epochs': 2, 'LSTM_l1': 0.00012433713918326704, 'LSTM_l2': 0.00014705943086508317, 'LSTM_inter_dropout': 0.0001457615888787557, 'LSTM_input_gaussian_noise': 0.001, 'LSTM_conv1d': True, 'LSTM_conv1d_kernel_size': 3, 'LSTM_loss': 'mse', 'year_start': 2020, 'is_single_feature': False}\n",
      "2025-08-16 20:17:54,642 -   Duration: 0:00:56.088557\n",
      "2025-08-16 20:17:54,642 -   Val RSME adjusted: 0.0109\n",
      "2025-08-16 20:17:54,642 -   Mean all prediction: 1.0010\n",
      "2025-08-16 20:17:54,642 -   Mean above prediction: 1.0092\n",
      "2025-08-16 20:17:54,646 -   Mean below prediction: 1.0001\n",
      "2025-08-16 20:17:54,646 -   Quantile 0.99 in mask above: 448.3199999999997\n",
      "2025-08-16 20:17:54,648 -   Quantile 0.99 in mask below: 439.23999999999796\n",
      "2025-08-16 20:17:54,649 -   Ratio for quantile to length above: 0.0007\n",
      "2025-08-16 20:17:54,650 -   Ratio for quantile to length below: 0.0007\n",
      "2025-08-16 20:17:54,650 -   Score: 1.0023\n"
     ]
    },
    {
     "name": "stderr",
     "output_type": "stream",
     "text": [
      "[I 2025-08-16 20:17:54,727] Trial 87 finished with value: 1.0023031415356216 and parameters: {'year_start': 2020, 'idxAfterPrediction': 4, 'LoadupSamples_time_inc_factor': 31, 'timesteps': 50, 'LSTM_learning_rate': 0.0009857436833986836, 'LSTM_l1': 0.00012433713918326704, 'LSTM_l2': 0.00014705943086508317, 'LSTM_dropout': 6.249339995701137e-05, 'LSTM_inter_dropout': 0.0001457615888787557, 'LSTM_recurrent_dropout': 0.0015747397725683076, 'is_single_feature': False}. Best is trial 10 with value: 1.0025323942546822.\n"
     ]
    },
    {
     "name": "stdout",
     "output_type": "stream",
     "text": [
      "2025-08-16 20:17:54,727 - Trial 87 finished with value: 1.0023031415356216 and parameters: {'year_start': 2020, 'idxAfterPrediction': 4, 'LoadupSamples_time_inc_factor': 31, 'timesteps': 50, 'LSTM_learning_rate': 0.0009857436833986836, 'LSTM_l1': 0.00012433713918326704, 'LSTM_l2': 0.00014705943086508317, 'LSTM_dropout': 6.249339995701137e-05, 'LSTM_inter_dropout': 0.0001457615888787557, 'LSTM_recurrent_dropout': 0.0015747397725683076, 'is_single_feature': False}. Best is trial 10 with value: 1.0025323942546822.\n",
      "2025-08-16 20:18:05,890 - NaN values found in training time features. 35 Samples removed.\n"
     ]
    },
    {
     "name": "stderr",
     "output_type": "stream",
     "text": [
      "Epochs:   0%|          | 0/2 [00:00<?, ?it/s]"
     ]
    },
    {
     "name": "stdout",
     "output_type": "stream",
     "text": [
      "2025-08-16 20:18:52,410 - Epoch 1/2 — Train RMSE: 0.4204 — Validation RMSE: 0.2983\n"
     ]
    },
    {
     "name": "stderr",
     "output_type": "stream",
     "text": [
      "Epochs:  50%|█████     | 1/2 [00:32<00:32, 32.06s/it]"
     ]
    },
    {
     "name": "stdout",
     "output_type": "stream",
     "text": [
      "2025-08-16 20:19:24,614 - Epoch 2/2 — Train RMSE: 0.3110 — Validation RMSE: 0.2982\n"
     ]
    },
    {
     "name": "stderr",
     "output_type": "stream",
     "text": [
      "Epochs: 100%|██████████| 2/2 [01:04<00:00, 32.13s/it]\n"
     ]
    },
    {
     "name": "stdout",
     "output_type": "stream",
     "text": [
      "2025-08-16 20:19:28,118 - Trial 88 with params: {'idxAfterPrediction': 5, 'timesteps': 90, 'target_option': 'last', 'LoadupSamples_time_scaling_stretch': True, 'LoadupSamples_time_inc_factor': 21, 'LSTM_units': 16, 'LSTM_num_layers': 1, 'LSTM_dropout': 1.1392042084175275e-05, 'LSTM_recurrent_dropout': 0.0028302478953280497, 'LSTM_learning_rate': 0.00019876731637646653, 'LSTM_optimizer': 'adam', 'LSTM_bidirectional': True, 'LSTM_batch_size': 4096, 'LSTM_epochs': 2, 'LSTM_l1': 0.000736714946847505, 'LSTM_l2': 0.0017580278722402253, 'LSTM_inter_dropout': 0.0001759491412892151, 'LSTM_input_gaussian_noise': 0.001, 'LSTM_conv1d': True, 'LSTM_conv1d_kernel_size': 3, 'LSTM_loss': 'mse', 'year_start': 2019, 'is_single_feature': False}\n",
      "2025-08-16 20:19:28,118 -   Duration: 0:01:08.017239\n",
      "2025-08-16 20:19:28,120 -   Val RSME adjusted: 0.0142\n",
      "2025-08-16 20:19:28,120 -   Mean all prediction: 1.0014\n",
      "2025-08-16 20:19:28,120 -   Mean above prediction: 1.0104\n",
      "2025-08-16 20:19:28,120 -   Mean below prediction: 0.9997\n",
      "2025-08-16 20:19:28,120 -   Quantile 0.99 in mask above: 442.54999999999745\n",
      "2025-08-16 20:19:28,120 -   Quantile 0.99 in mask below: 407.0\n",
      "2025-08-16 20:19:28,120 -   Ratio for quantile to length above: 0.0007\n",
      "2025-08-16 20:19:28,120 -   Ratio for quantile to length below: 0.0006\n",
      "2025-08-16 20:19:28,120 -   Score: 1.0021\n"
     ]
    },
    {
     "name": "stderr",
     "output_type": "stream",
     "text": [
      "[I 2025-08-16 20:19:28,210] Trial 88 finished with value: 1.0020783219175338 and parameters: {'year_start': 2019, 'idxAfterPrediction': 5, 'LoadupSamples_time_inc_factor': 21, 'timesteps': 90, 'LSTM_learning_rate': 0.00019876731637646653, 'LSTM_l1': 0.000736714946847505, 'LSTM_l2': 0.0017580278722402253, 'LSTM_dropout': 1.1392042084175275e-05, 'LSTM_inter_dropout': 0.0001759491412892151, 'LSTM_recurrent_dropout': 0.0028302478953280497, 'is_single_feature': False}. Best is trial 10 with value: 1.0025323942546822.\n"
     ]
    },
    {
     "name": "stdout",
     "output_type": "stream",
     "text": [
      "2025-08-16 20:19:28,210 - Trial 88 finished with value: 1.0020783219175338 and parameters: {'year_start': 2019, 'idxAfterPrediction': 5, 'LoadupSamples_time_inc_factor': 21, 'timesteps': 90, 'LSTM_learning_rate': 0.00019876731637646653, 'LSTM_l1': 0.000736714946847505, 'LSTM_l2': 0.0017580278722402253, 'LSTM_dropout': 1.1392042084175275e-05, 'LSTM_inter_dropout': 0.0001759491412892151, 'LSTM_recurrent_dropout': 0.0028302478953280497, 'is_single_feature': False}. Best is trial 10 with value: 1.0025323942546822.\n",
      "2025-08-16 20:19:39,126 - NaN values found in training time features. 28 Samples removed.\n"
     ]
    },
    {
     "name": "stderr",
     "output_type": "stream",
     "text": [
      "Epochs:   0%|          | 0/2 [00:00<?, ?it/s]"
     ]
    },
    {
     "name": "stdout",
     "output_type": "stream",
     "text": [
      "2025-08-16 20:20:24,860 - Epoch 1/2 — Train RMSE: 0.4027 — Validation RMSE: 0.3748\n"
     ]
    },
    {
     "name": "stderr",
     "output_type": "stream",
     "text": [
      "Epochs:  50%|█████     | 1/2 [00:31<00:31, 31.02s/it]"
     ]
    },
    {
     "name": "stdout",
     "output_type": "stream",
     "text": [
      "2025-08-16 20:20:56,243 - Epoch 2/2 — Train RMSE: 0.3850 — Validation RMSE: 0.3747\n"
     ]
    },
    {
     "name": "stderr",
     "output_type": "stream",
     "text": [
      "Epochs: 100%|██████████| 2/2 [01:02<00:00, 31.20s/it]\n"
     ]
    },
    {
     "name": "stdout",
     "output_type": "stream",
     "text": [
      "2025-08-16 20:21:00,267 - Trial 89 with params: {'idxAfterPrediction': 4, 'timesteps': 60, 'target_option': 'last', 'LoadupSamples_time_scaling_stretch': True, 'LoadupSamples_time_inc_factor': 46, 'LSTM_units': 16, 'LSTM_num_layers': 1, 'LSTM_dropout': 0.0005851834561212133, 'LSTM_recurrent_dropout': 0.00227263026776278, 'LSTM_learning_rate': 0.00029806763471832803, 'LSTM_optimizer': 'adam', 'LSTM_bidirectional': True, 'LSTM_batch_size': 4096, 'LSTM_epochs': 2, 'LSTM_l1': 1.1139560069886515e-05, 'LSTM_l2': 0.0005540310016550577, 'LSTM_inter_dropout': 0.00031424929712470505, 'LSTM_input_gaussian_noise': 0.001, 'LSTM_conv1d': True, 'LSTM_conv1d_kernel_size': 3, 'LSTM_loss': 'mse', 'year_start': 2019, 'is_single_feature': False}\n",
      "2025-08-16 20:21:00,267 -   Duration: 0:01:06.607090\n",
      "2025-08-16 20:21:00,267 -   Val RSME adjusted: 0.0081\n",
      "2025-08-16 20:21:00,270 -   Mean all prediction: 1.0010\n",
      "2025-08-16 20:21:00,271 -   Mean above prediction: 1.0073\n",
      "2025-08-16 20:21:00,271 -   Mean below prediction: 0.9994\n",
      "2025-08-16 20:21:00,272 -   Quantile 0.99 in mask above: 453.3199999999997\n",
      "2025-08-16 20:21:00,272 -   Quantile 0.99 in mask below: 407.0\n",
      "2025-08-16 20:21:00,272 -   Ratio for quantile to length above: 0.0007\n",
      "2025-08-16 20:21:00,272 -   Ratio for quantile to length below: 0.0006\n",
      "2025-08-16 20:21:00,272 -   Score: 1.0018\n"
     ]
    },
    {
     "name": "stderr",
     "output_type": "stream",
     "text": [
      "[I 2025-08-16 20:21:00,369] Trial 89 finished with value: 1.0018083468500072 and parameters: {'year_start': 2019, 'idxAfterPrediction': 4, 'LoadupSamples_time_inc_factor': 46, 'timesteps': 60, 'LSTM_learning_rate': 0.00029806763471832803, 'LSTM_l1': 1.1139560069886515e-05, 'LSTM_l2': 0.0005540310016550577, 'LSTM_dropout': 0.0005851834561212133, 'LSTM_inter_dropout': 0.00031424929712470505, 'LSTM_recurrent_dropout': 0.00227263026776278, 'is_single_feature': False}. Best is trial 10 with value: 1.0025323942546822.\n"
     ]
    },
    {
     "name": "stdout",
     "output_type": "stream",
     "text": [
      "2025-08-16 20:21:00,369 - Trial 89 finished with value: 1.0018083468500072 and parameters: {'year_start': 2019, 'idxAfterPrediction': 4, 'LoadupSamples_time_inc_factor': 46, 'timesteps': 60, 'LSTM_learning_rate': 0.00029806763471832803, 'LSTM_l1': 1.1139560069886515e-05, 'LSTM_l2': 0.0005540310016550577, 'LSTM_dropout': 0.0005851834561212133, 'LSTM_inter_dropout': 0.00031424929712470505, 'LSTM_recurrent_dropout': 0.00227263026776278, 'is_single_feature': False}. Best is trial 10 with value: 1.0025323942546822.\n",
      "2025-08-16 20:21:09,656 - NaN values found in training time features. 28 Samples removed.\n"
     ]
    },
    {
     "name": "stderr",
     "output_type": "stream",
     "text": [
      "Epochs:   0%|          | 0/2 [00:00<?, ?it/s]"
     ]
    },
    {
     "name": "stdout",
     "output_type": "stream",
     "text": [
      "2025-08-16 20:21:48,590 - Epoch 1/2 — Train RMSE: 0.3671 — Validation RMSE: 0.3313\n"
     ]
    },
    {
     "name": "stderr",
     "output_type": "stream",
     "text": [
      "Epochs:  50%|█████     | 1/2 [00:26<00:26, 26.37s/it]"
     ]
    },
    {
     "name": "stdout",
     "output_type": "stream",
     "text": [
      "2025-08-16 20:22:14,948 - Epoch 2/2 — Train RMSE: 0.3518 — Validation RMSE: 0.3311\n"
     ]
    },
    {
     "name": "stderr",
     "output_type": "stream",
     "text": [
      "Epochs: 100%|██████████| 2/2 [00:52<00:00, 26.37s/it]\n"
     ]
    },
    {
     "name": "stdout",
     "output_type": "stream",
     "text": [
      "2025-08-16 20:22:18,850 - Trial 90 with params: {'idxAfterPrediction': 4, 'timesteps': 85, 'target_option': 'last', 'LoadupSamples_time_scaling_stretch': True, 'LoadupSamples_time_inc_factor': 31, 'LSTM_units': 16, 'LSTM_num_layers': 1, 'LSTM_dropout': 0.00042617151130290077, 'LSTM_recurrent_dropout': 0.006245992307328778, 'LSTM_learning_rate': 0.0004565749966863697, 'LSTM_optimizer': 'adam', 'LSTM_bidirectional': True, 'LSTM_batch_size': 4096, 'LSTM_epochs': 2, 'LSTM_l1': 1.729504849128783e-05, 'LSTM_l2': 0.0003335484278603603, 'LSTM_inter_dropout': 0.0002058718815853992, 'LSTM_input_gaussian_noise': 0.001, 'LSTM_conv1d': True, 'LSTM_conv1d_kernel_size': 3, 'LSTM_loss': 'mse', 'year_start': 2020, 'is_single_feature': True}\n",
      "2025-08-16 20:22:18,851 -   Duration: 0:00:56.725519\n",
      "2025-08-16 20:22:18,851 -   Val RSME adjusted: 0.0107\n",
      "2025-08-16 20:22:18,853 -   Mean all prediction: 1.0010\n",
      "2025-08-16 20:22:18,853 -   Mean above prediction: 1.0070\n",
      "2025-08-16 20:22:18,853 -   Mean below prediction: 0.9996\n",
      "2025-08-16 20:22:18,855 -   Quantile 0.99 in mask above: 501.3199999999997\n",
      "2025-08-16 20:22:18,856 -   Quantile 0.99 in mask below: 392.9599999999991\n",
      "2025-08-16 20:22:18,856 -   Ratio for quantile to length above: 0.0008\n",
      "2025-08-16 20:22:18,856 -   Ratio for quantile to length below: 0.0006\n",
      "2025-08-16 20:22:18,856 -   Score: 1.0018\n"
     ]
    },
    {
     "name": "stderr",
     "output_type": "stream",
     "text": [
      "[I 2025-08-16 20:22:18,956] Trial 90 finished with value: 1.0017523954383574 and parameters: {'year_start': 2020, 'idxAfterPrediction': 4, 'LoadupSamples_time_inc_factor': 31, 'timesteps': 85, 'LSTM_learning_rate': 0.0004565749966863697, 'LSTM_l1': 1.729504849128783e-05, 'LSTM_l2': 0.0003335484278603603, 'LSTM_dropout': 0.00042617151130290077, 'LSTM_inter_dropout': 0.0002058718815853992, 'LSTM_recurrent_dropout': 0.006245992307328778, 'is_single_feature': True}. Best is trial 10 with value: 1.0025323942546822.\n"
     ]
    },
    {
     "name": "stdout",
     "output_type": "stream",
     "text": [
      "2025-08-16 20:22:18,956 - Trial 90 finished with value: 1.0017523954383574 and parameters: {'year_start': 2020, 'idxAfterPrediction': 4, 'LoadupSamples_time_inc_factor': 31, 'timesteps': 85, 'LSTM_learning_rate': 0.0004565749966863697, 'LSTM_l1': 1.729504849128783e-05, 'LSTM_l2': 0.0003335484278603603, 'LSTM_dropout': 0.00042617151130290077, 'LSTM_inter_dropout': 0.0002058718815853992, 'LSTM_recurrent_dropout': 0.006245992307328778, 'is_single_feature': True}. Best is trial 10 with value: 1.0025323942546822.\n",
      "2025-08-16 20:22:29,897 - NaN values found in training time features. 28 Samples removed.\n"
     ]
    },
    {
     "name": "stderr",
     "output_type": "stream",
     "text": [
      "Epochs:   0%|          | 0/2 [00:00<?, ?it/s]"
     ]
    },
    {
     "name": "stdout",
     "output_type": "stream",
     "text": [
      "2025-08-16 20:23:15,746 - Epoch 1/2 — Train RMSE: 0.3772 — Validation RMSE: 0.3310\n"
     ]
    },
    {
     "name": "stderr",
     "output_type": "stream",
     "text": [
      "Epochs:  50%|█████     | 1/2 [00:31<00:31, 31.48s/it]"
     ]
    },
    {
     "name": "stdout",
     "output_type": "stream",
     "text": [
      "2025-08-16 20:23:47,151 - Epoch 2/2 — Train RMSE: 0.3440 — Validation RMSE: 0.3308\n"
     ]
    },
    {
     "name": "stderr",
     "output_type": "stream",
     "text": [
      "Epochs: 100%|██████████| 2/2 [01:02<00:00, 31.44s/it]\n"
     ]
    },
    {
     "name": "stdout",
     "output_type": "stream",
     "text": [
      "2025-08-16 20:23:50,744 - Trial 91 with params: {'idxAfterPrediction': 4, 'timesteps': 70, 'target_option': 'last', 'LoadupSamples_time_scaling_stretch': True, 'LoadupSamples_time_inc_factor': 31, 'LSTM_units': 16, 'LSTM_num_layers': 1, 'LSTM_dropout': 0.0007119752514130296, 'LSTM_recurrent_dropout': 0.0021831544789058205, 'LSTM_learning_rate': 0.0003916264783481288, 'LSTM_optimizer': 'adam', 'LSTM_bidirectional': True, 'LSTM_batch_size': 4096, 'LSTM_epochs': 2, 'LSTM_l1': 1.2885627665372752e-05, 'LSTM_l2': 0.0001284501866535694, 'LSTM_inter_dropout': 0.0002757716644372243, 'LSTM_input_gaussian_noise': 0.001, 'LSTM_conv1d': True, 'LSTM_conv1d_kernel_size': 3, 'LSTM_loss': 'mse', 'year_start': 2019, 'is_single_feature': False}\n",
      "2025-08-16 20:23:50,744 -   Duration: 0:01:06.644814\n",
      "2025-08-16 20:23:50,744 -   Val RSME adjusted: 0.0107\n",
      "2025-08-16 20:23:50,744 -   Mean all prediction: 1.0010\n",
      "2025-08-16 20:23:50,755 -   Mean above prediction: 1.0087\n",
      "2025-08-16 20:23:50,756 -   Mean below prediction: 0.9995\n",
      "2025-08-16 20:23:50,757 -   Quantile 0.99 in mask above: 422.3199999999997\n",
      "2025-08-16 20:23:50,758 -   Quantile 0.99 in mask below: 421.3199999999997\n",
      "2025-08-16 20:23:50,759 -   Ratio for quantile to length above: 0.0006\n",
      "2025-08-16 20:23:50,760 -   Ratio for quantile to length below: 0.0006\n",
      "2025-08-16 20:23:50,760 -   Score: 1.0022\n"
     ]
    },
    {
     "name": "stderr",
     "output_type": "stream",
     "text": [
      "[I 2025-08-16 20:23:50,841] Trial 91 finished with value: 1.0021597382313516 and parameters: {'year_start': 2019, 'idxAfterPrediction': 4, 'LoadupSamples_time_inc_factor': 31, 'timesteps': 70, 'LSTM_learning_rate': 0.0003916264783481288, 'LSTM_l1': 1.2885627665372752e-05, 'LSTM_l2': 0.0001284501866535694, 'LSTM_dropout': 0.0007119752514130296, 'LSTM_inter_dropout': 0.0002757716644372243, 'LSTM_recurrent_dropout': 0.0021831544789058205, 'is_single_feature': False}. Best is trial 10 with value: 1.0025323942546822.\n"
     ]
    },
    {
     "name": "stdout",
     "output_type": "stream",
     "text": [
      "2025-08-16 20:23:50,841 - Trial 91 finished with value: 1.0021597382313516 and parameters: {'year_start': 2019, 'idxAfterPrediction': 4, 'LoadupSamples_time_inc_factor': 31, 'timesteps': 70, 'LSTM_learning_rate': 0.0003916264783481288, 'LSTM_l1': 1.2885627665372752e-05, 'LSTM_l2': 0.0001284501866535694, 'LSTM_dropout': 0.0007119752514130296, 'LSTM_inter_dropout': 0.0002757716644372243, 'LSTM_recurrent_dropout': 0.0021831544789058205, 'is_single_feature': False}. Best is trial 10 with value: 1.0025323942546822.\n",
      "2025-08-16 20:24:01,765 - NaN values found in training time features. 28 Samples removed.\n"
     ]
    },
    {
     "name": "stderr",
     "output_type": "stream",
     "text": [
      "Epochs:   0%|          | 0/2 [00:00<?, ?it/s]"
     ]
    },
    {
     "name": "stdout",
     "output_type": "stream",
     "text": [
      "2025-08-16 20:24:48,113 - Epoch 1/2 — Train RMSE: 0.3589 — Validation RMSE: 0.3124\n"
     ]
    },
    {
     "name": "stderr",
     "output_type": "stream",
     "text": [
      "Epochs:  50%|█████     | 1/2 [00:31<00:31, 31.64s/it]"
     ]
    },
    {
     "name": "stdout",
     "output_type": "stream",
     "text": [
      "2025-08-16 20:25:19,783 - Epoch 2/2 — Train RMSE: 0.3246 — Validation RMSE: 0.3112\n"
     ]
    },
    {
     "name": "stderr",
     "output_type": "stream",
     "text": [
      "Epochs: 100%|██████████| 2/2 [01:03<00:00, 31.65s/it]\n"
     ]
    },
    {
     "name": "stdout",
     "output_type": "stream",
     "text": [
      "2025-08-16 20:25:23,434 - Trial 92 with params: {'idxAfterPrediction': 4, 'timesteps': 70, 'target_option': 'last', 'LoadupSamples_time_scaling_stretch': True, 'LoadupSamples_time_inc_factor': 26, 'LSTM_units': 16, 'LSTM_num_layers': 1, 'LSTM_dropout': 0.0007299806156663939, 'LSTM_recurrent_dropout': 0.0031753923949816554, 'LSTM_learning_rate': 0.0007029953343934389, 'LSTM_optimizer': 'adam', 'LSTM_bidirectional': True, 'LSTM_batch_size': 4096, 'LSTM_epochs': 2, 'LSTM_l1': 1.1069358688662353e-05, 'LSTM_l2': 0.0001194814732092283, 'LSTM_inter_dropout': 0.0006040021491262095, 'LSTM_input_gaussian_noise': 0.001, 'LSTM_conv1d': True, 'LSTM_conv1d_kernel_size': 3, 'LSTM_loss': 'mse', 'year_start': 2019, 'is_single_feature': False}\n",
      "2025-08-16 20:25:23,434 -   Duration: 0:01:07.178940\n",
      "2025-08-16 20:25:23,440 -   Val RSME adjusted: 0.0120\n",
      "2025-08-16 20:25:23,441 -   Mean all prediction: 1.0010\n",
      "2025-08-16 20:25:23,441 -   Mean above prediction: 1.0074\n",
      "2025-08-16 20:25:23,441 -   Mean below prediction: 1.0005\n",
      "2025-08-16 20:25:23,441 -   Quantile 0.99 in mask above: 434.619999999999\n",
      "2025-08-16 20:25:23,441 -   Quantile 0.99 in mask below: 427.3099999999995\n",
      "2025-08-16 20:25:23,441 -   Ratio for quantile to length above: 0.0007\n",
      "2025-08-16 20:25:23,441 -   Ratio for quantile to length below: 0.0006\n",
      "2025-08-16 20:25:23,441 -   Score: 1.0018\n"
     ]
    },
    {
     "name": "stderr",
     "output_type": "stream",
     "text": [
      "[I 2025-08-16 20:25:23,530] Trial 92 finished with value: 1.001845047291454 and parameters: {'year_start': 2019, 'idxAfterPrediction': 4, 'LoadupSamples_time_inc_factor': 26, 'timesteps': 70, 'LSTM_learning_rate': 0.0007029953343934389, 'LSTM_l1': 1.1069358688662353e-05, 'LSTM_l2': 0.0001194814732092283, 'LSTM_dropout': 0.0007299806156663939, 'LSTM_inter_dropout': 0.0006040021491262095, 'LSTM_recurrent_dropout': 0.0031753923949816554, 'is_single_feature': False}. Best is trial 10 with value: 1.0025323942546822.\n"
     ]
    },
    {
     "name": "stdout",
     "output_type": "stream",
     "text": [
      "2025-08-16 20:25:23,530 - Trial 92 finished with value: 1.001845047291454 and parameters: {'year_start': 2019, 'idxAfterPrediction': 4, 'LoadupSamples_time_inc_factor': 26, 'timesteps': 70, 'LSTM_learning_rate': 0.0007029953343934389, 'LSTM_l1': 1.1069358688662353e-05, 'LSTM_l2': 0.0001194814732092283, 'LSTM_dropout': 0.0007299806156663939, 'LSTM_inter_dropout': 0.0006040021491262095, 'LSTM_recurrent_dropout': 0.0031753923949816554, 'is_single_feature': False}. Best is trial 10 with value: 1.0025323942546822.\n",
      "2025-08-16 20:25:23,534 - Best parameters: {'year_start': 2023, 'idxAfterPrediction': 4, 'LoadupSamples_time_inc_factor': 46, 'timesteps': 50, 'LSTM_learning_rate': 8.127345854411313e-05, 'LSTM_l1': 0.00048621558900400493, 'LSTM_l2': 0.00040047764362209144, 'LSTM_dropout': 6.919307928559869e-05, 'LSTM_inter_dropout': 0.00011939531126332565, 'LSTM_recurrent_dropout': 0.004360369703847029, 'is_single_feature': False}\n",
      "2025-08-16 20:25:23,537 - Best score: 1.0025323942546822\n",
      "2025-08-16 20:25:23,540 - \n",
      "Trials DataFrame:\n",
      "2025-08-16 20:25:23,540 -     number     value             datetime_start          datetime_complete               duration  params_LSTM_dropout  params_LSTM_inter_dropout  params_LSTM_l1  params_LSTM_l2  params_LSTM_learning_rate  params_LSTM_recurrent_dropout  params_LoadupSamples_time_inc_factor  params_idxAfterPrediction  params_is_single_feature  params_timesteps  params_year_start     state\n",
      "58      58  0.999850 2025-08-16 19:35:09.768572 2025-08-16 19:36:27.990750 0 days 00:01:18.222178             0.000068                   0.000145        0.000032        0.000244                   0.000185                       0.000408                                    36                          3                     False                80               2020  COMPLETE\n",
      "14      14  0.999874 2025-08-16 17:31:03.147322 2025-08-16 17:31:40.067337 0 days 00:00:36.920015             0.000038                   0.000538        0.000010        0.030851                   0.000024                       0.003702                                    56                          3                      True                65               2023  COMPLETE\n",
      "17      17  0.999996 2025-08-16 17:34:04.467569 2025-08-16 17:35:10.635756 0 days 00:01:06.168187             0.000024                   0.001169        0.000025        0.016319                   0.000146                       0.093364                                    51                          3                     False                50               2021  COMPLETE\n",
      "0        0  1.000023 2025-08-16 17:17:58.571350 2025-08-16 17:19:05.377499 0 days 00:01:06.806149             0.000062                   0.000392        0.000651        0.000617                   0.000014                       0.013256                                    26                          5                     False                75               2021  COMPLETE\n",
      "27      27  1.000479 2025-08-16 17:46:54.382793 2025-08-16 17:47:43.012364 0 days 00:00:48.629571             0.000164                   0.000657        0.000943        0.002875                   0.000023                       0.004155                                    46                          3                     False                85               2022  COMPLETE\n",
      "5        5  1.000905 2025-08-16 17:23:27.087259 2025-08-16 17:24:18.763710 0 days 00:00:51.676451             0.000067                   0.000406        0.000055        0.007258                   0.000037                       0.000287                                    31                          5                     False                90               2022  COMPLETE\n",
      "6        6  1.000976 2025-08-16 17:24:18.776748 2025-08-16 17:25:37.437324 0 days 00:01:18.660576             0.000209                   0.003143        0.000479        0.000223                   0.000352                       0.003124                                    26                          3                      True                80               2020  COMPLETE\n",
      "8        8  1.000999 2025-08-16 17:26:56.186927 2025-08-16 17:27:45.637123 0 days 00:00:49.450196             0.000628                   0.000226        0.000269        0.001527                   0.000038                       0.000919                                    61                          5                      True                60               2022  COMPLETE\n",
      "12      12  1.001010 2025-08-16 17:29:48.756878 2025-08-16 17:30:25.410132 0 days 00:00:36.653254             0.000016                   0.014021        0.000071        0.009291                   0.000295                       0.000532                                    61                          5                     False                55               2023  COMPLETE\n",
      "79      79  1.001031 2025-08-16 20:04:40.967354 2025-08-16 20:06:13.540361 0 days 00:01:32.573007             0.000526                   0.000842        0.000012        0.000137                   0.000443                       0.007420                                    41                          4                      True                75               2019  COMPLETE\n",
      "78      78  1.001135 2025-08-16 20:03:50.896966 2025-08-16 20:04:40.949713 0 days 00:00:50.052747             0.000908                   0.001486        0.000024        0.035623                   0.000575                       0.013437                                    31                          4                     False                65               2022  COMPLETE\n",
      "66      66  1.001180 2025-08-16 19:45:49.766606 2025-08-16 19:47:22.733969 0 days 00:01:32.967363             0.000266                   0.000172        0.000039        0.000651                   0.000010                       0.001993                                    36                          4                     False                80               2019  COMPLETE\n",
      "35      35  1.001225 2025-08-16 17:57:01.176890 2025-08-16 17:58:31.877484 0 days 00:01:30.700594             0.000893                   0.000374        0.000022        0.000101                   0.000217                       0.000243                                    56                          4                     False                85               2019  COMPLETE\n",
      "16      16  1.001267 2025-08-16 17:32:45.047179 2025-08-16 17:34:04.451924 0 days 00:01:19.404745             0.000119                   0.000102        0.000216        0.006166                   0.000063                       0.021373                                    46                          4                     False                50               2020  COMPLETE\n",
      "18      18  1.001310 2025-08-16 17:35:10.650441 2025-08-16 17:36:45.322386 0 days 00:01:34.671945             0.000985                   0.086338        0.000328        0.000674                   0.000058                       0.002713                                    36                          3                     False                55               2019  COMPLETE\n",
      "7        7  1.001314 2025-08-16 17:25:37.455180 2025-08-16 17:26:56.175644 0 days 00:01:18.720464             0.000040                   0.005057        0.000035        0.074969                   0.000014                       0.007244                                    21                          4                      True                55               2020  COMPLETE\n",
      "55      55  1.001339 2025-08-16 19:31:42.057425 2025-08-16 19:32:32.178392 0 days 00:00:50.120967             0.000288                   0.000494        0.000243        0.000305                   0.000255                       0.005071                                    41                          4                     False                65               2022  COMPLETE\n",
      "86      86  1.001375 2025-08-16 20:15:03.417056 2025-08-16 20:16:37.136463 0 days 00:01:33.719407             0.000048                   0.000101        0.000969        0.000190                   0.000153                       0.004214                                    26                          4                     False                65               2019  COMPLETE\n",
      "85      85  1.001394 2025-08-16 20:13:30.529903 2025-08-16 20:15:03.401471 0 days 00:01:32.871568             0.000797                   0.000128        0.000015        0.000396                   0.000360                       0.001168                                    36                          4                     False                75               2019  COMPLETE\n",
      "3        3  1.001418 2025-08-16 17:21:03.667666 2025-08-16 17:21:53.736181 0 days 00:00:50.068515             0.000406                   0.005173        0.000011        0.046067                   0.000105                       0.000122                                    41                          5                      True                70               2022  COMPLETE\n",
      "28      28  1.001459 2025-08-16 17:47:43.027435 2025-08-16 17:48:59.161683 0 days 00:01:16.134248             0.000101                   0.007948        0.000026        0.000352                   0.000048                       0.001417                                    56                          4                     False                75               2020  COMPLETE\n",
      "26      26  1.001468 2025-08-16 17:45:39.737152 2025-08-16 17:46:54.371305 0 days 00:01:14.634153             0.000279                   0.001923        0.000046        0.001053                   0.000097                       0.010567                                    41                          5                     False                75               2020  COMPLETE\n",
      "15      15  1.001473 2025-08-16 17:31:40.078275 2025-08-16 17:32:45.033814 0 days 00:01:04.955539             0.000317                   0.001073        0.000027        0.000610                   0.000105                       0.063200                                    41                          4                     False                50               2021  COMPLETE\n",
      "42      42  1.001510 2025-08-16 18:07:18.725108 2025-08-16 18:08:51.085919 0 days 00:01:32.360811             0.000561                   0.000156        0.000013        0.000281                   0.000242                       0.000759                                    46                          4                     False                65               2019  COMPLETE\n",
      "39      39  1.001552 2025-08-16 18:03:02.141391 2025-08-16 18:04:32.094288 0 days 00:01:29.952897             0.000189                   0.000460        0.000150        0.000947                   0.000085                       0.002806                                    36                          4                      True                75               2019  COMPLETE\n",
      "30      30  1.001571 2025-08-16 17:50:05.629731 2025-08-16 17:51:13.115835 0 days 00:01:07.486104             0.000078                   0.000370        0.000013        0.002515                   0.000020                       0.005548                                    66                          5                     False                90               2021  COMPLETE\n",
      "59      59  1.001605 2025-08-16 19:36:28.005957 2025-08-16 19:37:44.907130 0 days 00:01:16.901173             0.000409                   0.000200        0.000343        0.000480                   0.000088                       0.009618                                    41                          4                      True                55               2020  COMPLETE\n",
      "37      37  1.001633 2025-08-16 18:00:03.082404 2025-08-16 18:01:32.197768 0 days 00:01:29.115364             0.000496                   0.003091        0.000030        0.000377                   0.000409                       0.000155                                    61                          5                      True                70               2019  COMPLETE\n",
      "9        9  1.001689 2025-08-16 17:27:45.650179 2025-08-16 17:28:35.944028 0 days 00:00:50.293849             0.000164                   0.013724        0.000165        0.001894                   0.000502                       0.000808                                    26                          4                     False                60               2022  COMPLETE\n",
      "49      49  1.001697 2025-08-16 18:17:44.041930 2025-08-16 18:18:20.341337 0 days 00:00:36.299407             0.000053                   0.000194        0.000106        0.000292                   0.000281                       0.000556                                    36                          4                      True                55               2023  COMPLETE\n",
      "4        4  1.001706 2025-08-16 17:21:53.750795 2025-08-16 17:23:27.075645 0 days 00:01:33.324850             0.000010                   0.000228        0.000789        0.024404                   0.000261                       0.000418                                    71                          4                      True                65               2019  COMPLETE\n",
      "19      19  1.001743 2025-08-16 17:36:45.339220 2025-08-16 17:38:04.212270 0 days 00:01:18.873050             0.000081                   0.000116        0.000062        0.097738                   0.000161                       0.020941                                    46                          4                     False                50               2020  COMPLETE\n",
      "80      80  1.001744 2025-08-16 20:06:13.542883 2025-08-16 20:07:18.325112 0 days 00:01:04.782229             0.000660                   0.000320        0.000028        0.000161                   0.000747                       0.003321                                    61                          4                     False                60               2021  COMPLETE\n",
      "90      90  1.001752 2025-08-16 20:21:00.369569 2025-08-16 20:22:18.946516 0 days 00:01:18.576947             0.000426                   0.000206        0.000017        0.000334                   0.000457                       0.006246                                    31                          4                      True                85               2020  COMPLETE\n",
      "61      61  1.001769 2025-08-16 19:39:03.225521 2025-08-16 19:40:35.214115 0 days 00:01:31.988594             0.000985                   0.000325        0.000015        0.000158                   0.000483                       0.001794                                    31                          4                     False                70               2019  COMPLETE\n",
      "65      65  1.001770 2025-08-16 19:45:13.026877 2025-08-16 19:45:49.749269 0 days 00:00:36.722392             0.000818                   0.000200        0.000018        0.000132                   0.000187                       0.000611                                    31                          4                     False                85               2023  COMPLETE\n",
      "40      40  1.001791 2025-08-16 18:04:32.108910 2025-08-16 18:05:49.530330 0 days 00:01:17.421420             0.000128                   0.000277        0.000022        0.000163                   0.000131                       0.000345                                    56                          3                     False                90               2020  COMPLETE\n",
      "89      89  1.001808 2025-08-16 20:19:28.211636 2025-08-16 20:21:00.365727 0 days 00:01:32.154091             0.000585                   0.000314        0.000011        0.000554                   0.000298                       0.002273                                    46                          4                     False                60               2019  COMPLETE\n",
      "81      81  1.001809 2025-08-16 20:07:18.346095 2025-08-16 20:08:52.044242 0 days 00:01:33.698147             0.000442                   0.000238        0.000017        0.000795                   0.000236                       0.001494                                    31                          4                     False                85               2019  COMPLETE\n",
      "53      53  1.001834 2025-08-16 19:28:37.584667 2025-08-16 19:30:09.321509 0 days 00:01:31.736842             0.000334                   0.000136        0.000012        0.000500                   0.000362                       0.000702                                    21                          4                     False                70               2019  COMPLETE\n",
      "92      92  1.001845 2025-08-16 20:23:50.847183 2025-08-16 20:25:23.521726 0 days 00:01:32.674543             0.000730                   0.000604        0.000011        0.000119                   0.000703                       0.003175                                    26                          4                     False                70               2019  COMPLETE\n",
      "22      22  1.001874 2025-08-16 17:40:16.820274 2025-08-16 17:41:24.012140 0 days 00:01:07.191866             0.000357                   0.002393        0.000018        0.003924                   0.000040                       0.006538                                    66                          4                     False                80               2021  COMPLETE\n",
      "67      67  1.001889 2025-08-16 19:47:22.749709 2025-08-16 19:48:41.059446 0 days 00:01:18.309737             0.000089                   0.000106        0.000023        0.000240                   0.000138                       0.002762                                    26                          4                     False                75               2020  COMPLETE\n",
      "60      60  1.001907 2025-08-16 19:37:44.920786 2025-08-16 19:39:03.206233 0 days 00:01:18.285447             0.000139                   0.000128        0.000020        0.000210                   0.000053                       0.000830                                    41                          4                     False                80               2020  COMPLETE\n",
      "68      68  1.001932 2025-08-16 19:48:41.071507 2025-08-16 19:50:13.970853 0 days 00:01:32.899346             0.000351                   0.029426        0.000601        0.000104                   0.000499                       0.001382                                    46                          4                     False                85               2019  COMPLETE\n",
      "82      82  1.001953 2025-08-16 20:08:52.060127 2025-08-16 20:10:25.656280 0 days 00:01:33.596153             0.000378                   0.000180        0.000014        0.000241                   0.000124                       0.000883                                    31                          4                     False                90               2019  COMPLETE\n",
      "76      76  1.001971 2025-08-16 20:00:46.970881 2025-08-16 20:02:18.710846 0 days 00:01:31.739965             0.000645                   0.000554        0.000020        0.000121                   0.000876                       0.002720                                    41                          4                     False                60               2019  COMPLETE\n",
      "2        2  1.001981 2025-08-16 17:20:11.104316 2025-08-16 17:21:03.649169 0 days 00:00:52.544853             0.000012                   0.000268        0.000132        0.000249                   0.000341                       0.040922                                    61                          4                      True                70               2022  COMPLETE\n",
      "74      74  1.001991 2025-08-16 19:57:41.179695 2025-08-16 19:59:13.816673 0 days 00:01:32.636978             0.000703                   0.000545        0.000014        0.000231                   0.000515                       0.004504                                    26                          4                     False                60               2019  COMPLETE\n",
      "54      54  1.001991 2025-08-16 19:30:09.335283 2025-08-16 19:31:42.044698 0 days 00:01:32.709415             0.000387                   0.000210        0.000010        0.000126                   0.000682                       0.001113                                    31                          4                     False                75               2019  COMPLETE\n",
      "84      84  1.002000 2025-08-16 20:11:57.525375 2025-08-16 20:13:30.515121 0 days 00:01:32.989746             0.000522                   0.000236        0.000020        0.000275                   0.000071                       0.002413                                    36                          4                     False                70               2019  COMPLETE\n",
      "25      25  1.002025 2025-08-16 17:44:08.529015 2025-08-16 17:45:39.726480 0 days 00:01:31.197465             0.000115                   0.005205        0.000017        0.014298                   0.000187                       0.001737                                    51                          4                     False                85               2019  COMPLETE\n",
      "63      63  1.002027 2025-08-16 19:42:07.617846 2025-08-16 19:43:40.418513 0 days 00:01:32.800667             0.000578                   0.000167        0.000024        0.000181                   0.000314                       0.003554                                    26                          4                     False                75               2019  COMPLETE\n",
      "88      88  1.002078 2025-08-16 20:17:54.732453 2025-08-16 20:19:28.199149 0 days 00:01:33.466696             0.000011                   0.000176        0.000737        0.001758                   0.000199                       0.002830                                    21                          5                     False                90               2019  COMPLETE\n",
      "69      69  1.002080 2025-08-16 19:50:13.984413 2025-08-16 19:51:45.687484 0 days 00:01:31.703071             0.000203                   0.000240        0.000083        0.000416                   0.000352                       0.000479                                    41                          4                     False                50               2019  COMPLETE\n",
      "45      45  1.002082 2025-08-16 18:12:01.360715 2025-08-16 18:13:37.827867 0 days 00:01:36.467152             0.000750                   0.000268        0.000011        0.000116                   0.000416                       0.004534                                    31                          4                      True                70               2019  COMPLETE\n",
      "33      33  1.002086 2025-08-16 17:53:59.754363 2025-08-16 17:55:30.317171 0 days 00:01:30.562808             0.000515                   0.000666        0.000015        0.004475                   0.000079                       0.001011                                    46                          4                     False                75               2019  COMPLETE\n",
      "31      31  1.002120 2025-08-16 17:51:13.129900 2025-08-16 17:52:29.857673 0 days 00:01:16.727773             0.000238                   0.001705        0.000040        0.000422                   0.000133                       0.001722                                    51                          4                     False                85               2020  COMPLETE\n",
      "48      48  1.002132 2025-08-16 18:16:51.488767 2025-08-16 18:17:44.028055 0 days 00:00:52.539288             0.000396                   0.000132        0.000015        0.000191                   0.000118                       0.000989                                    26                          5                     False                60               2022  COMPLETE\n",
      "29      29  1.002138 2025-08-16 17:48:59.175404 2025-08-16 17:50:05.617363 0 days 00:01:06.441959             0.000050                   0.000164        0.000087        0.000776                   0.000814                       0.013086                                    36                          4                     False                80               2021  COMPLETE\n",
      "70      70  1.002142 2025-08-16 19:51:45.704617 2025-08-16 19:53:04.378176 0 days 00:01:18.673559             0.000020                   0.000870        0.000179        0.000140                   0.000171                       0.001119                                    36                          4                     False                80               2020  COMPLETE\n",
      "91      91  1.002160 2025-08-16 20:22:18.956751 2025-08-16 20:23:50.832184 0 days 00:01:31.875433             0.000712                   0.000276        0.000013        0.000128                   0.000392                       0.002183                                    31                          4                     False                70               2019  COMPLETE\n",
      "46      46  1.002161 2025-08-16 18:13:37.842993 2025-08-16 18:15:14.583535 0 days 00:01:36.740542             0.000600                   0.000226        0.000011        0.000501                   0.000654                       0.002107                                    21                          4                     False                60               2019  COMPLETE\n",
      "13      13  1.002164 2025-08-16 17:30:25.422972 2025-08-16 17:31:03.130740 0 days 00:00:37.707768             0.000169                   0.011202        0.000104        0.000134                   0.000288                       0.000646                                    71                          3                     False                90               2023  COMPLETE\n",
      "11      11  1.002171 2025-08-16 17:29:11.362124 2025-08-16 17:29:48.736999 0 days 00:00:37.374875             0.000699                   0.030469        0.000428        0.001881                   0.000585                       0.000477                                    56                          4                     False                60               2023  COMPLETE\n",
      "75      75  1.002173 2025-08-16 19:59:13.831078 2025-08-16 20:00:46.955151 0 days 00:01:33.124073             0.000468                   0.000309        0.000016        0.000192                   0.000613                       0.003881                                    36                          4                     False                65               2019  COMPLETE\n",
      "64      64  1.002192 2025-08-16 19:43:40.432549 2025-08-16 19:45:13.011642 0 days 00:01:32.579093             0.000449                   0.000122        0.000028        0.000345                   0.000270                       0.005968                                    36                          4                     False                80               2019  COMPLETE\n",
      "36      36  1.002208 2025-08-16 17:58:31.893191 2025-08-16 18:00:03.068260 0 days 00:01:31.175069             0.000736                   0.000733        0.000627        0.000192                   0.000224                       0.002196                                    51                          4                     False                90               2019  COMPLETE\n",
      "1        1  1.002212 2025-08-16 17:19:05.394162 2025-08-16 17:20:11.093254 0 days 00:01:05.699092             0.000624                   0.000869        0.000010        0.057036                   0.000077                       0.027874                                    71                          4                     False                55               2021  COMPLETE\n",
      "77      77  1.002213 2025-08-16 20:02:18.725602 2025-08-16 20:03:50.880660 0 days 00:01:32.155058             0.000856                   0.000146        0.000031        0.000318                   0.000825                       0.005065                                    46                          4                     False                65               2019  COMPLETE\n",
      "83      83  1.002220 2025-08-16 20:10:25.670593 2025-08-16 20:11:57.510656 0 days 00:01:31.840063             0.000312                   0.000400        0.000012        0.000112                   0.000097                       0.001843                                    26                          4                     False                70               2019  COMPLETE\n",
      "21      21  1.002229 2025-08-16 17:39:09.899840 2025-08-16 17:40:16.811433 0 days 00:01:06.911593             0.000425                   0.001288        0.000018        0.003771                   0.000065                       0.007202                                    66                          4                     False                80               2021  COMPLETE\n",
      "52      52  1.002229 2025-08-16 19:27:05.474766 2025-08-16 19:28:37.569635 0 days 00:01:32.094869             0.000649                   0.000361        0.000013        0.000147                   0.000536                       0.003544                                    26                          4                     False                70               2019  COMPLETE\n",
      "24      24  1.002234 2025-08-16 17:42:46.302767 2025-08-16 17:44:08.514685 0 days 00:01:22.211918             0.000236                   0.001987        0.000036        0.001361                   0.000171                       0.001578                                    51                          4                     False                85               2020  COMPLETE\n",
      "51      51  1.002252 2025-08-16 19:25:33.459092 2025-08-16 19:27:05.460166 0 days 00:01:32.001074             0.000831                   0.000275        0.000010        0.000214                   0.000408                       0.002370                                    31                          4                     False                70               2019  COMPLETE\n",
      "20      20  1.002280 2025-08-16 17:38:04.228588 2025-08-16 17:39:09.880022 0 days 00:01:05.651434             0.000317                   0.001050        0.000017        0.004014                   0.000069                       0.007229                                    66                          4                     False                80               2021  COMPLETE\n",
      "87      87  1.002303 2025-08-16 20:16:37.150029 2025-08-16 20:17:54.717950 0 days 00:01:17.567921             0.000062                   0.000146        0.000124        0.000147                   0.000986                       0.001575                                    31                          4                     False                50               2020  COMPLETE\n",
      "57      57  1.002308 2025-08-16 19:33:51.375690 2025-08-16 19:35:09.752963 0 days 00:01:18.377273             0.000603                   0.000104        0.000053        0.000101                   0.000940                       0.003156                                    36                          4                     False                80               2020  COMPLETE\n",
      "38      38  1.002325 2025-08-16 18:01:32.213439 2025-08-16 18:03:02.125347 0 days 00:01:29.911908             0.000488                   0.000171        0.000012        0.000261                   0.000111                       0.001291                                    41                          4                     False                65               2019  COMPLETE\n",
      "50      50  1.002345 2025-08-16 19:24:00.793489 2025-08-16 19:25:33.442189 0 days 00:01:32.648700             0.000031                   0.000108        0.000465        0.000158                   0.000325                       0.000219                                    31                          4                     False                65               2019  COMPLETE\n",
      "32      32  1.002364 2025-08-16 17:52:29.861578 2025-08-16 17:53:59.738441 0 days 00:01:29.876863             0.000465                   0.000725        0.000020        0.001066                   0.000206                       0.001238                                    51                          4                     False                85               2019  COMPLETE\n",
      "73      73  1.002364 2025-08-16 19:56:08.940958 2025-08-16 19:57:41.165787 0 days 00:01:32.224829             0.000541                   0.000438        0.000018        0.000169                   0.000746                       0.008760                                    31                          4                     False                65               2019  COMPLETE\n",
      "23      23  1.002377 2025-08-16 17:41:24.022527 2025-08-16 17:42:46.291236 0 days 00:01:22.268709             0.000240                   0.001903        0.000016        0.003389                   0.000156                       0.001516                                    51                          4                     False                85               2020  COMPLETE\n",
      "44      44  1.002383 2025-08-16 18:10:26.046621 2025-08-16 18:12:01.346069 0 days 00:01:35.299448             0.000727                   0.000277        0.000011        0.000121                   0.000402                       0.002337                                    31                          4                     False                70               2019  COMPLETE\n",
      "43      43  1.002386 2025-08-16 18:08:51.099117 2025-08-16 18:10:26.034497 0 days 00:01:34.935380             0.000383                   0.000215        0.000010        0.000568                   0.000192                       0.001090                                    31                          4                     False                85               2019  COMPLETE\n",
      "72      72  1.002396 2025-08-16 19:54:36.450539 2025-08-16 19:56:08.924873 0 days 00:01:32.474334             0.000523                   0.000542        0.000015        0.000184                   0.000734                       0.004303                                    31                          4                     False                65               2019  COMPLETE\n",
      "62      62  1.002444 2025-08-16 19:40:35.229886 2025-08-16 19:42:07.601291 0 days 00:01:32.371405             0.000794                   0.000175        0.000023        0.000131                   0.000319                       0.002452                                    31                          4                     False                75               2019  COMPLETE\n",
      "56      56  1.002459 2025-08-16 19:32:32.190486 2025-08-16 19:33:51.360841 0 days 00:01:19.170355             0.000563                   0.000103        0.000024        0.000102                   0.000476                       0.003429                                    36                          4                     False                80               2020  COMPLETE\n",
      "71      71  1.002460 2025-08-16 19:53:04.391758 2025-08-16 19:54:36.432885 0 days 00:01:32.041127             0.000654                   0.000303        0.000015        0.000134                   0.000619                       0.002516                                    31                          4                     False                65               2019  COMPLETE\n",
      "34      34  1.002473 2025-08-16 17:55:30.333063 2025-08-16 17:57:01.161122 0 days 00:01:30.828059             0.000483                   0.000907        0.000022        0.000134                   0.000202                       0.002175                                    56                          4                     False                85               2019  COMPLETE\n",
      "41      41  1.002475 2025-08-16 18:05:49.540714 2025-08-16 18:07:18.709073 0 days 00:01:29.168359             0.000533                   0.000173        0.000013        0.000293                   0.000120                       0.001000                                    41                          4                     False                65               2019  COMPLETE\n",
      "47      47  1.002487 2025-08-16 18:15:14.595378 2025-08-16 18:16:51.476436 0 days 00:01:36.881058             0.000376                   0.000149        0.000013        0.000166                   0.000330                       0.000979                                    31                          4                     False                70               2019  COMPLETE\n",
      "10      10  1.002532 2025-08-16 17:28:35.958266 2025-08-16 17:29:11.347481 0 days 00:00:35.389215             0.000069                   0.000119        0.000486        0.000400                   0.000081                       0.004360                                    46                          4                     False                50               2023  COMPLETE\n",
      "2025-08-16 20:25:24,180 - Parameter Importances:\n",
      "2025-08-16 20:25:24,180 - idxAfterPrediction: 0.3363153803642445\n",
      "2025-08-16 20:25:24,180 - LSTM_recurrent_dropout: 0.17617056008124451\n",
      "2025-08-16 20:25:24,180 - LSTM_learning_rate: 0.09130061189181662\n",
      "2025-08-16 20:25:24,180 - is_single_feature: 0.0904432976429085\n",
      "2025-08-16 20:25:24,180 - LSTM_dropout: 0.07446703799303483\n",
      "2025-08-16 20:25:24,180 - LSTM_l2: 0.0572638229624046\n",
      "2025-08-16 20:25:24,180 - timesteps: 0.05152508823602658\n",
      "2025-08-16 20:25:24,180 - year_start: 0.045103315553700896\n",
      "2025-08-16 20:25:24,180 - LoadupSamples_time_inc_factor: 0.04058142640045291\n",
      "2025-08-16 20:25:24,180 - LSTM_l1: 0.03098617207780337\n",
      "2025-08-16 20:25:24,180 - LSTM_inter_dropout: 0.005843286796362796\n"
     ]
    }
   ],
   "source": [
    "def objective(trial: optuna.Trial) -> float:\n",
    "    opt_params = params_default.copy()\n",
    "    opt_params[\"year_start\"] = trial.suggest_int(\"year_start\", 2019, 2023)\n",
    "    opt_params[\"idxAfterPrediction\"] = trial.suggest_int(\"idxAfterPrediction\", 3, 5, step=1)\n",
    "    opt_params[\"LoadupSamples_time_inc_factor\"] = trial.suggest_int(\"LoadupSamples_time_inc_factor\", 21, 71, step=5)\n",
    "    opt_params[\"timesteps\"] = trial.suggest_int(\"timesteps\", 50, 90, step=5)\n",
    "    opt_params[\"LSTM_units\"] = 16\n",
    "    opt_params[\"LSTM_num_layers\"] = 1\n",
    "    opt_params[\"LSTM_learning_rate\"] = trial.suggest_float(\"LSTM_learning_rate\", 1e-5, 1e-3, log=True)\n",
    "    opt_params[\"LSTM_epochs\"] = 2\n",
    "    opt_params[\"LSTM_l1\"] = trial.suggest_float(\"LSTM_l1\", 1e-5, 1e-3, log=True)\n",
    "    opt_params[\"LSTM_l2\"] = trial.suggest_float(\"LSTM_l2\", 1e-4, 1e-1, log=True)\n",
    "    opt_params[\"LSTM_dropout\"] = trial.suggest_float(\"LSTM_dropout\", 1e-5, 1e-3, log=True)\n",
    "    opt_params[\"LSTM_inter_dropout\"] = trial.suggest_float(\"LSTM_inter_dropout\", 1e-4, 1e-1, log=True)\n",
    "    opt_params[\"LSTM_recurrent_dropout\"] = trial.suggest_float(\"LSTM_recurrent_dropout\", 1e-4, 1e-1, log=True)\n",
    "    opt_params[\"LSTM_conv1d_kernel_size\"] = 3\n",
    "    opt_params[\"is_single_feature\"] = trial.suggest_categorical(\"is_single_feature\", [True, False])\n",
    "\n",
    "    ls = LoadupSamples(\n",
    "        train_start_date=datetime.date(year=opt_params[\"year_start\"], month=1, day=1),\n",
    "        test_dates=[eval_date],\n",
    "        group=stock_group,\n",
    "        group_type=\"Time\",\n",
    "        params=opt_params,\n",
    "    )\n",
    "    ls.load_samples(main_path = \"../src/featureAlchemy/bin/\")\n",
    "\n",
    "    ls.split_dataset(\n",
    "        start_date=datetime.date(year=opt_params[\"year_start\"], month=1, day=1),\n",
    "        last_train_date=split_date,\n",
    "        last_test_date=eval_date,\n",
    "    )\n",
    "\n",
    "    Xtrain = ls.train_Xtime\n",
    "    ytrain = ls.train_ytime\n",
    "    Xtest = ls.test_Xtime\n",
    "    ytest = ls.test_ytime\n",
    "\n",
    "    true_res = ls.meta_pl_test\n",
    "\n",
    "    Xtrain = Xtrain[:, -opt_params[\"timesteps\"]:, :]\n",
    "    Xtest = Xtest[:, -opt_params[\"timesteps\"]:, :]\n",
    "\n",
    "    if opt_params[\"is_single_feature\"]:\n",
    "        Xtrain = Xtrain[:, :, [0]]\n",
    "        Xtest = Xtest[:, :, [0]]\n",
    "\n",
    "    starttime = datetime.datetime.now()\n",
    "    mm = MachineModels(opt_params)\n",
    "    model_lstm, res_dict = mm.run_LSTM_torch(Xtrain, ytrain, Xtest, ytest, device=\"cuda\")\n",
    "    preds = mm.predict_LSTM_torch(model_lstm, Xtest, batch_size=opt_params[\"LSTM_batch_size\"], device=\"cuda\")\n",
    "    endtime = datetime.datetime.now()\n",
    "    \n",
    "    q = 0.98\n",
    "    mask_pred_above = (preds >= np.quantile(preds, q))\n",
    "    mask_pred_below = (preds <= np.quantile(preds, 1-q))\n",
    "\n",
    "    true_res_masked_above = true_res.filter(pl.Series(mask_pred_above))\n",
    "    true_res_masked_below = true_res.filter(pl.Series(mask_pred_below))\n",
    "\n",
    "    score = (np.mean(true_res_masked_above['target_ratio'].to_numpy())) ** (1/opt_params[\"idxAfterPrediction\"])\n",
    "\n",
    "    # Log some results\n",
    "    def quant_dis_in_mask(mask: np.ndarray, q: float) -> int:\n",
    "        if not mask.any():\n",
    "            return len(mask)\n",
    "        return np.quantile(np.abs(np.diff(np.where(mask)[0])), q)\n",
    "\n",
    "    logger.info(f\"Trial {trial.number} with params: {opt_params}\")\n",
    "    logger.info(f\"  Duration: {endtime - starttime}\")\n",
    "    logger.info(f\"  Val RSME adjusted: {res_dict['val_rmse']/opt_params['LoadupSamples_time_inc_factor']:.4f}\")\n",
    "    logger.info(f\"  Mean all prediction: {np.mean(true_res['target_ratio'].to_numpy()):.4f}\")\n",
    "    logger.info(f\"  Mean above prediction: {np.mean(true_res_masked_above['target_ratio'].to_numpy()):.4f}\")\n",
    "    logger.info(f\"  Mean below prediction: {np.mean(true_res_masked_below['target_ratio'].to_numpy()):.4f}\")\n",
    "    logger.info(f\"  Quantile 0.99 in mask above: {quant_dis_in_mask(mask_pred_above, 0.99)}\")\n",
    "    logger.info(f\"  Quantile 0.99 in mask below: {quant_dis_in_mask(mask_pred_below, 0.99)}\")\n",
    "    logger.info(f\"  Ratio for quantile to length above: {quant_dis_in_mask(mask_pred_above, 0.99) / len(mask_pred_above):.4f}\")\n",
    "    logger.info(f\"  Ratio for quantile to length below: {quant_dis_in_mask(mask_pred_below, 0.99) / len(mask_pred_below):.4f}\")\n",
    "    logger.info(f\"  Score: {score:.4f}\")\n",
    "\n",
    "    return score\n",
    "\n",
    "optuna.logging.enable_propagation()\n",
    "sampler = optuna.samplers.TPESampler(n_startup_trials=15)\n",
    "study = optuna.create_study(\n",
    "    study_name = studyname,\n",
    "    storage=\"sqlite:///sandbox_optuna.db\",\n",
    "    direction=\"maximize\",\n",
    "    load_if_exists=True,\n",
    "    sampler=sampler,\n",
    ")\n",
    "study.optimize(objective, timeout=studytime)\n",
    "\n",
    "logger.info(f\"Best parameters: {study.best_params}\")\n",
    "logger.info(f\"Best score: {study.best_value}\")\n",
    "\n",
    "df: pd.DataFrame = study.trials_dataframe()\n",
    "logger.info(\"\\nTrials DataFrame:\")\n",
    "logger.info(df.sort_values(\"value\").to_string())\n",
    "\n",
    "param_importances = optuna.importance.get_param_importances(study)\n",
    "logger.info(\"Parameter Importances:\")\n",
    "for key, value in param_importances.items():\n",
    "    logger.info(f\"{key}: {value}\")"
   ]
  },
  {
   "cell_type": "code",
   "execution_count": 5,
   "id": "bc9856fd",
   "metadata": {},
   "outputs": [],
   "source": [
    "df.to_parquet(f\"sandbox_lstm_optuna_{formatted_str}.parquet\", index=False)"
   ]
  },
  {
   "cell_type": "code",
   "execution_count": 6,
   "id": "511a1e13",
   "metadata": {},
   "outputs": [
    {
     "name": "stdout",
     "output_type": "stream",
     "text": [
      "2025-08-16 18:18:25,292 - NaN values found in training time features. 28 Samples removed.\n"
     ]
    },
    {
     "name": "stderr",
     "output_type": "stream",
     "text": [
      "Epochs:   0%|          | 0/2 [00:00<?, ?it/s]"
     ]
    },
    {
     "name": "stdout",
     "output_type": "stream",
     "text": [
      "2025-08-16 18:18:42,097 - Epoch 1/2 — Train RMSE: 0.7566 — Validation RMSE: 0.6959\n"
     ]
    },
    {
     "name": "stderr",
     "output_type": "stream",
     "text": [
      "Epochs:  50%|█████     | 1/2 [00:11<00:11, 11.01s/it]"
     ]
    },
    {
     "name": "stdout",
     "output_type": "stream",
     "text": [
      "2025-08-16 18:18:53,391 - Epoch 2/2 — Train RMSE: 0.6707 — Validation RMSE: 0.6077\n"
     ]
    },
    {
     "name": "stderr",
     "output_type": "stream",
     "text": [
      "Epochs: 100%|██████████| 2/2 [00:22<00:00, 11.15s/it]\n"
     ]
    }
   ],
   "source": [
    "# Run with best parameters\n",
    "best_params = {**params_default, **study.best_params.copy()}\n",
    "best_params[\"LSTM_units\"] = 16\n",
    "best_params[\"LSTM_epochs\"] = 2\n",
    "best_params[\"LSTM_conv1d_kernel_size\"] = 3\n",
    "best_params[\"LSTM_num_layers\"] = 1\n",
    "\n",
    "ls = LoadupSamples(\n",
    "    train_start_date=datetime.date(year=best_params[\"year_start\"], month=1, day=1),\n",
    "    test_dates=[eval_date],\n",
    "    group=stock_group,\n",
    "    group_type=\"Time\",\n",
    "    params=best_params,\n",
    ")\n",
    "ls.load_samples(main_path=\"../src/featureAlchemy/bin/\")\n",
    "\n",
    "ls.split_dataset(\n",
    "    start_date=datetime.date(year=best_params[\"year_start\"], month=1, day=1),\n",
    "    last_train_date=split_date,\n",
    "    last_test_date=eval_date,\n",
    ")\n",
    "\n",
    "Xtrain = ls.train_Xtime\n",
    "ytrain = ls.train_ytime\n",
    "Xtest = ls.test_Xtime\n",
    "ytest = ls.test_ytime\n",
    "\n",
    "Xtrain = Xtrain[:, -best_params[\"timesteps\"]:, :]\n",
    "Xtest = Xtest[:, -best_params[\"timesteps\"]:, :]\n",
    "\n",
    "if best_params[\"is_single_feature\"]:\n",
    "    Xtrain = Xtrain[:, :, [0]]\n",
    "    Xtest = Xtest[:, :, [0]]\n",
    "\n",
    "mm = MachineModels(best_params)\n",
    "model_lstm, res_dict = mm.run_LSTM_torch(Xtrain, ytrain, Xtest, ytest, device=\"cuda\")\n",
    "preds = mm.predict_LSTM_torch(model_lstm, Xtest, batch_size=best_params[\"LSTM_batch_size\"], device=\"cuda\")\n",
    "\n"
   ]
  },
  {
   "cell_type": "code",
   "execution_count": 11,
   "id": "7f463c38",
   "metadata": {},
   "outputs": [
    {
     "name": "stdout",
     "output_type": "stream",
     "text": [
      "2025-08-16 18:33:38,602 -   Val RSME adjusted: 0.0132\n",
      "2025-08-16 18:33:38,604 -   Mean all prediction: 1.0010\n",
      "2025-08-16 18:33:38,605 -   Mean above prediction: 1.0101\n",
      "2025-08-16 18:33:38,605 -   Mean below prediction: 1.0001\n",
      "2025-08-16 18:33:38,608 -   Quantile 0.99 in mask above: 450.27999999999884\n",
      "2025-08-16 18:33:38,609 -   Quantile 0.99 in mask below: 427.0\n",
      "2025-08-16 18:33:38,611 -   Ratio for quantile to length above: 0.0007\n",
      "2025-08-16 18:33:38,612 -   Ratio for quantile to length below: 0.0006\n",
      "2025-08-16 18:33:38,612 -   Score: 1.0025\n"
     ]
    }
   ],
   "source": [
    "q = 0.98\n",
    "mask_pred_above = (preds >= np.quantile(preds, q))\n",
    "mask_pred_below = (preds <= np.quantile(preds, 1-q))\n",
    "true_res = ls.meta_pl_test\n",
    "true_res_masked_above = true_res.filter(pl.Series(mask_pred_above))\n",
    "true_res_masked_below = true_res.filter(pl.Series(mask_pred_below))\n",
    "score = (np.mean(true_res_masked_above['target_ratio'].to_numpy())) ** (1/best_params[\"idxAfterPrediction\"])\n",
    "# Log some results\n",
    "def quant_dis_in_mask(mask: np.ndarray, q: float) -> int:\n",
    "    if not mask.any():\n",
    "        return len(mask)\n",
    "    return np.quantile(np.abs(np.diff(np.where(mask)[0])), q)\n",
    "logger.info(f\"  Val RSME adjusted: {res_dict['val_rmse']/best_params['LoadupSamples_time_inc_factor']:.4f}\")\n",
    "logger.info(f\"  Mean all prediction: {np.mean(true_res['target_ratio'].to_numpy()):.4f}\")\n",
    "logger.info(f\"  Mean above prediction: {np.mean(true_res_masked_above['target_ratio'].to_numpy()):.4f}\")\n",
    "logger.info(f\"  Mean below prediction: {np.mean(true_res_masked_below['target_ratio'].to_numpy()):.4f}\")\n",
    "logger.info(f\"  Quantile 0.99 in mask above: {quant_dis_in_mask(mask_pred_above, 0.99)}\")\n",
    "logger.info(f\"  Quantile 0.99 in mask below: {quant_dis_in_mask(mask_pred_below, 0.99)}\")\n",
    "logger.info(f\"  Ratio for quantile to length above: {quant_dis_in_mask(mask_pred_above, 0.99) / len(mask_pred_above):.4f}\")\n",
    "logger.info(f\"  Ratio for quantile to length below: {quant_dis_in_mask(mask_pred_below, 0.99) / len(mask_pred_below):.4f}\")\n",
    "logger.info(f\"  Score: {score:.4f}\")"
   ]
  }
 ],
 "metadata": {
  "kernelspec": {
   "display_name": ".venv",
   "language": "python",
   "name": "python3"
  },
  "language_info": {
   "codemirror_mode": {
    "name": "ipython",
    "version": 3
   },
   "file_extension": ".py",
   "mimetype": "text/x-python",
   "name": "python",
   "nbconvert_exporter": "python",
   "pygments_lexer": "ipython3",
   "version": "3.12.10"
  }
 },
 "nbformat": 4,
 "nbformat_minor": 5
}
