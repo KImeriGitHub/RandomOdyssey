{
 "cells": [
  {
   "cell_type": "code",
   "execution_count": 7,
   "id": "4971d7bb",
   "metadata": {},
   "outputs": [],
   "source": [
    "import sys\n",
    "import os\n",
    "\n",
    "# Get the absolute path to the project directory\n",
    "project_dir = os.path.abspath(\"..\")\n",
    "\n",
    "# Append the project directory to sys.path\n",
    "if project_dir not in sys.path:\n",
    "    sys.path.append(project_dir)\n",
    "    \n",
    "from src.predictionModule.TreeTimeML import TreeTimeML\n",
    "\n",
    "import pandas as pd\n",
    "import numpy as np\n",
    "import polars as pl\n",
    "import datetime\n",
    "import matplotlib.pyplot as plt\n",
    "import logging\n",
    "logging.basicConfig(\n",
    "    level=logging.DEBUG,\n",
    "    format='%(message)s'\n",
    ")"
   ]
  },
  {
   "cell_type": "code",
   "execution_count": null,
   "id": "08364d94",
   "metadata": {},
   "outputs": [],
   "source": [
    "params = {\n",
    "    \"daysAfterPrediction\": 7,\n",
    "    'timesteps': 20,\n",
    "    \n",
    "    'target_option': 'last',\n",
    "\n",
    "    \"TreeTime_isFiltered\": True,\n",
    "    \"TreeTime_RSIExt_q\": 0.07143461165932076,\n",
    "    \"TreeTime_FourierRSME_q\": 0.09374287501769159,\n",
    "\n",
    "    \"TreeTime_lstm_units\": 16,\n",
    "    \"TreeTime_lstm_num_layers\": 2,\n",
    "    \"TreeTime_lstm_dropout\": 0.3075853360749299,\n",
    "    \"TreeTime_lstm_recurrent_dropout\": 0.21305288719037974,\n",
    "    \"TreeTime_lstm_learning_rate\": 0.0016890513728400147,\n",
    "    \"TreeTime_lstm_optimizer\": \"rmsprop\",\n",
    "    \"TreeTime_lstm_bidirectional\": True,\n",
    "    \"TreeTime_lstm_batch_size\": 128,\n",
    "    \"TreeTime_lstm_epochs\": 1,\n",
    "    \"TreeTime_lstm_l1\": 0.5,\n",
    "    \"TreeTime_lstm_l2\": 0.5,\n",
    "    \"TreeTime_inter_dropout\": 0.5,\n",
    "    \"TreeTime_input_gaussian_noise\": 0.1,\n",
    "    \n",
    "    'TreeTime_lgb_num_boost_round': 143,\n",
    "    'TreeTime_lgb_lambda_l1': 0.7796235455765577,\n",
    "    'TreeTime_lgb_lambda_l2': 0.5702920669930339,\n",
    "    'TreeTime_lgb_feature_fraction': 0.10761430403277542,\n",
    "    'TreeTime_lgb_num_leaves': 124,\n",
    "    'TreeTime_lgb_max_depth': 16,\n",
    "    'TreeTime_lgb_learning_rate': 0.004619047626804867,\n",
    "    'TreeTime_lgb_min_data_in_leaf': 353,\n",
    "    'TreeTime_lgb_min_gain_to_split': 0.17187409867167036,\n",
    "    'TreeTime_lgb_path_smooth': 0.9574198886555025,\n",
    "    'TreeTime_lgb_min_sum_hessian_in_leaf': 0.052046545928833905,\n",
    "    \n",
    "    'TreeTime_MatchFeatures_minWeight': 0.2167758022373982,\n",
    "    'TreeTime_MatchFeatures_truncation': 1,\n",
    "    \n",
    "    'TreeTime_MatchFeatures_Pricediff': False,\n",
    "    'TreeTime_MatchFeatures_FinData_quar': False,\n",
    "    'TreeTime_MatchFeatures_FinData_metrics': False,\n",
    "    'TreeTime_MatchFeatures_Fourier_RSME': False,\n",
    "    'TreeTime_MatchFeatures_Fourier_Sign': False,\n",
    "    'TreeTime_MatchFeatures_TA_trend': False,\n",
    "    'TreeTime_MatchFeatures_FeatureGroup_VolGrLvl': False,\n",
    "    'TreeTime_MatchFeatures_LSTM_Prediction': True,\n",
    "    \n",
    "    \"TreeTime_top_highest\": 10,\n",
    "}\n",
    "\n",
    "stock_group = \"group_snp500_finanTo2011\"\n",
    "\n",
    "eval_date = datetime.date(year=2024, month=12, day=13)\n",
    "start_train_date = datetime.date(year=2022, month=1, day=1)\n",
    "\n",
    "treetimeML = TreeTimeML(\n",
    "    train_start_date=start_train_date,\n",
    "    test_date=eval_date,\n",
    "    group=stock_group,\n",
    "    params=params,\n",
    "    gatherTestResults=True,\n",
    ")"
   ]
  },
  {
   "cell_type": "code",
   "execution_count": 3,
   "id": "a5367ae9",
   "metadata": {},
   "outputs": [],
   "source": [
    "treetimeML.load_and_filter_sets(main_path = \"../src/featureAlchemy/bin/\")"
   ]
  },
  {
   "cell_type": "code",
   "execution_count": 5,
   "id": "a4ade28e",
   "metadata": {},
   "outputs": [
    {
     "name": "stdout",
     "output_type": "stream",
     "text": [
      "[0.5037484  0.48012602 0.49538356 0.5002157  0.44622412 0.48927477\n",
      " 0.4659939  0.48204628 0.52267826 0.4864809  0.47853708 0.5138903\n",
      " 0.48390484 0.49486807 0.4871877  0.4806834  0.4809952  0.46683902\n",
      " 0.47806907 0.50134635 0.47812834 0.48769018 0.49914706 0.47910362\n",
      " 0.4948166  0.44943416 0.46425167 0.49520496 0.49387127 0.46582374\n",
      " 0.4942212  0.48252445 0.48459065 0.49751887 0.49711916 0.45423117\n",
      " 0.4658401  0.48043483 0.47489542 0.5059938  0.47037482 0.5047813\n",
      " 0.4646608  0.47547686 0.47675943 0.4817506  0.46873248 0.4773707\n",
      " 0.46621093 0.4572728  0.4864256  0.4897754  0.48384583 0.47620636\n",
      " 0.49050453 0.48596498 0.48308283 0.47559917 0.47343847 0.4879607\n",
      " 0.47848165 0.48552278 0.49430934 0.47207448 0.50393695 0.4945662\n",
      " 0.4722859  0.4768376  0.49121085 0.4712043  0.4662123  0.48436764\n",
      " 0.5001596  0.49465668 0.475509   0.4654444  0.48190922 0.45201418\n",
      " 0.48102424 0.4892456  0.48168483 0.46669352 0.4787612  0.47832623\n",
      " 0.48521274 0.48084697 0.5021678  0.46836922 0.47209468 0.4973797\n",
      " 0.48746493 0.47503015 0.45165023 0.46717075 0.47391945 0.4579563\n",
      " 0.48622197 0.4727328  0.45604065 0.48774698 0.4866556  0.49450448\n",
      " 0.4885883  0.48675403 0.4856991  0.47967392 0.49053922 0.49490735\n",
      " 0.5120364  0.46399507 0.4695654  0.45924348 0.4770984  0.49040344\n",
      " 0.4833545  0.48665255 0.46260068 0.49929014 0.48272267 0.49471542\n",
      " 0.47759536 0.48307216 0.50178003]\n",
      "[1.007497   0.96023107 0.9907669  1.0004314  0.89203066 0.97854626\n",
      " 0.9318827  0.9640771  1.0453876  0.97295517 0.95704776 1.0277878\n",
      " 0.96779853 0.9897358  0.9743698  0.9613475  0.9619721  0.9335805\n",
      " 0.95611    1.0026927  0.95622873 0.9753754  0.9982941  0.9581829\n",
      " 0.98963284 0.8985214  0.92838115 0.9904096  0.98774195 0.9315407\n",
      " 0.9884419  0.96503466 0.9691715  0.9950377  0.99423826 0.9082054\n",
      " 0.9315736  0.9608497  0.9497486  1.0119882  0.94068015 1.0095628\n",
      " 0.92920357 0.9509143  0.95348537 0.963485   0.93738323 0.9547105\n",
      " 0.9323187  0.9143367  0.97284454 0.9795479  0.9676804  0.9523767\n",
      " 0.9810068  0.9719226  0.9661527  0.95115954 0.9468269  0.97591674\n",
      " 0.9569367  0.97103745 0.9886182  0.9440908  1.007874   0.989132\n",
      " 0.94451493 0.953642   0.9824199  0.94234484 0.9323215  0.9687251\n",
      " 1.0003192  0.98931295 0.95097876 0.93077844 0.96380264 0.90373206\n",
      " 0.96203023 0.97848785 0.9633533  0.9332883  0.9574968  0.9566253\n",
      " 0.97041684 0.96167517 1.0043356  0.93665385 0.9441313  0.9947593\n",
      " 0.9749246  0.9500187  0.9029974  0.9342469  0.9477915  0.9157136\n",
      " 0.97243696 0.94541144 0.91185373 0.9754891  0.97330487 0.98900855\n",
      " 0.9771726  0.97350186 0.97139037 0.95932543 0.9810762  0.98981434\n",
      " 1.0240774  0.92786527 0.93905544 0.9183057  0.95416474 0.9808045\n",
      " 0.96669674 0.9732988  0.9250614  0.9985803  0.9654316  0.9894304\n",
      " 0.9551607  0.9661314  1.0035601 ]\n",
      "shape: (123, 8)\n",
      "┌───────────┬────────────┬────────┬────────────┬────────────┬────────────┬────────────┬────────────┐\n",
      "│ row_index ┆ date       ┆ ticker ┆ Close      ┆ target_dat ┆ price_date ┆ price      ┆ target_clo │\n",
      "│ ---       ┆ ---        ┆ ---    ┆ ---        ┆ e          ┆ ---        ┆ ---        ┆ se         │\n",
      "│ u32       ┆ date       ┆ str    ┆ f32        ┆ ---        ┆ date       ┆ f32        ┆ ---        │\n",
      "│           ┆            ┆        ┆            ┆ date       ┆            ┆            ┆ f32        │\n",
      "╞═══════════╪════════════╪════════╪════════════╪════════════╪════════════╪════════════╪════════════╡\n",
      "│ 240082    ┆ 2024-12-13 ┆ ABT    ┆ 113.379997 ┆ 2024-12-20 ┆ 2024-12-20 ┆ 114.230003 ┆ 114.230003 │\n",
      "│ 240084    ┆ 2024-12-13 ┆ ADBE   ┆ 465.690002 ┆ 2024-12-20 ┆ 2024-12-20 ┆ 447.170013 ┆ 447.170013 │\n",
      "│ 240086    ┆ 2024-12-13 ┆ ADP    ┆ 296.76001  ┆ 2024-12-20 ┆ 2024-12-20 ┆ 294.019989 ┆ 294.019989 │\n",
      "│ 240089    ┆ 2024-12-13 ┆ AEP    ┆ 92.709999  ┆ 2024-12-20 ┆ 2024-12-20 ┆ 92.75      ┆ 92.75      │\n",
      "│ 240095    ┆ 2024-12-13 ┆ ALB    ┆ 99.379997  ┆ 2024-12-20 ┆ 2024-12-20 ┆ 88.650002  ┆ 88.650002  │\n",
      "│ …         ┆ …          ┆ …      ┆ …          ┆ …          ┆ …          ┆ …          ┆ …          │\n",
      "│ 240394    ┆ 2024-12-13 ┆ WM     ┆ 213.199997 ┆ 2024-12-20 ┆ 2024-12-20 ┆ 205.830002 ┆ 205.830002 │\n",
      "│ 240400    ┆ 2024-12-13 ┆ XEL    ┆ 68.120003  ┆ 2024-12-20 ┆ 2024-12-20 ┆ 67.400002  ┆ 67.400002  │\n",
      "│ 240401    ┆ 2024-12-13 ┆ XOM    ┆ 110.839996 ┆ 2024-12-20 ┆ 2024-12-20 ┆ 105.870003 ┆ 105.870003 │\n",
      "│ 240402    ┆ 2024-12-13 ┆ YUM    ┆ 137.0      ┆ 2024-12-20 ┆ 2024-12-20 ┆ 132.360001 ┆ 132.360001 │\n",
      "│ 240403    ┆ 2024-12-13 ┆ ZBH    ┆ 106.739998 ┆ 2024-12-20 ┆ 2024-12-20 ┆ 107.120003 ┆ 107.120003 │\n",
      "└───────────┴────────────┴────────┴────────────┴────────────┴────────────┴────────────┴────────────┘\n"
     ]
    }
   ],
   "source": [
    "assert np.all(treetimeML.train_Xtime>=0.0) & np.all(treetimeML.train_Xtime<=1.0), \"Train X Time values out of range [0, 1]\"\n",
    "print(t1 := treetimeML.test_ytime)\n",
    "print(t2 := treetimeML.test_ytree)\n",
    "print(m3 := treetimeML.meta_pl_test)"
   ]
  },
  {
   "cell_type": "code",
   "execution_count": 6,
   "id": "49763497",
   "metadata": {},
   "outputs": [
    {
     "name": "stderr",
     "output_type": "stream",
     "text": [
      "Number of time features: 60\n",
      "Overall Training Label Distribution:\n",
      "  Label False: Count = 65824, Frequency = 0.91\n",
      "  Label True: Count = 6140, Frequency = 0.09\n",
      "\n",
      "c:\\Users\\kimer\\Desktop\\RandomOdyssey\\.venv\\Lib\\site-packages\\keras\\src\\layers\\rnn\\rnn.py:200: UserWarning: Do not pass an `input_shape`/`input_dim` argument to a layer. When using Sequential models, prefer using an `Input(shape)` object as the first layer in the model instead.\n",
      "  super().__init__(**kwargs)\n",
      "LSTM completed in 0:07:44.878854.\n"
     ]
    },
    {
     "name": "stdout",
     "output_type": "stream",
     "text": [
      "\u001b[1m4498/4498\u001b[0m \u001b[32m━━━━━━━━━━━━━━━━━━━━\u001b[0m\u001b[37m\u001b[0m \u001b[1m22s\u001b[0m 5ms/step\n",
      "\u001b[1m8/8\u001b[0m \u001b[32m━━━━━━━━━━━━━━━━━━━━\u001b[0m\u001b[37m\u001b[0m \u001b[1m0s\u001b[0m 7ms/step \n"
     ]
    },
    {
     "name": "stderr",
     "output_type": "stream",
     "text": [
      "LGBM completed in 0:08:07.633540.\n",
      "Predicted Training Label Distribution:\n",
      "  Label False: Count = 71964, Frequency = 1.00\n",
      "\n",
      "Testing Masked Classification Metrics:\n",
      "c:\\Users\\kimer\\Desktop\\RandomOdyssey\\.venv\\Lib\\site-packages\\sklearn\\metrics\\_classification.py:409: UserWarning: A single label was found in 'y_true' and 'y_pred'. For the confusion matrix to have the correct shape, use the 'labels' parameter to pass all known labels.\n",
      "  warnings.warn(\n",
      "\n",
      "  Overall Accuracy: 1.00\n",
      "\n",
      "  Metrics per Class:\n",
      "    Class True:\n",
      "      TPR: 1.00, FPR: 0.00, TNR: 0.00, FNR: 0.00\n",
      "\n",
      "Accuracy of top 10 to be over 5%: 0.00%\n",
      "Mean value of top 10: -0.054023586213588715\n",
      "Min value of top 10: -0.10796935856342316\n",
      "Max value of top 10: -0.01758011430501938\n",
      "DataFrame:\n",
      "shape: (10, 8)\n",
      "+-----------+------------+--------+-----------+-------------+------------+-----------+-------------+\n",
      "| row_index | date       | ticker | Close     | target_date | price_date | price     | target_clos |\n",
      "| ---       | ---        | ---    | ---       | ---         | ---        | ---       | e           |\n",
      "| u32       | date       | str    | f32       | date        | date       | f32       | ---         |\n",
      "|           |            |        |           |             |            |           | f32         |\n",
      "+==================================================================================================+\n",
      "| 240192    | 2024-12-13 | F      | 10.39     | 2024-12-20  | 2024-12-20 | 9.88      | 9.88        |\n",
      "| 240170    | 2024-12-13 | DVN    | 33.880001 | 2024-12-20  | 2024-12-20 | 30.77     | 30.77       |\n",
      "| 240115    | 2024-12-13 | BAX    | 30.32     | 2024-12-20  | 2024-12-20 | 29.5      | 29.5        |\n",
      "| 240264    | 2024-12-13 | MDT    | 82.480003 | 2024-12-20  | 2024-12-20 | 81.029999 | 81.029999   |\n",
      "| 240156    | 2024-12-13 | CVS    | 49.369999 | 2024-12-20  | 2024-12-20 | 44.360001 | 44.360001   |\n",
      "| 240366    | 2024-12-13 | TSN    | 60.48     | 2024-12-20  | 2024-12-20 | 58.02     | 58.02       |\n",
      "| 240227    | 2024-12-13 | IFF    | 87.400002 | 2024-12-20  | 2024-12-20 | 85.739998 | 85.739998   |\n",
      "| 240132    | 2024-12-13 | CCI    | 97.110001 | 2024-12-20  | 2024-12-20 | 90.660004 | 90.660004   |\n",
      "| 240384    | 2024-12-13 | VTR    | 59.91     | 2024-12-20  | 2024-12-20 | 58.759998 | 58.759998   |\n",
      "| 240095    | 2024-12-13 | ALB    | 99.379997 | 2024-12-20  | 2024-12-20 | 88.650002 | 88.650002   |\n",
      "+-----------+------------+--------+-----------+-------------+------------+-----------+-------------+\n"
     ]
    },
    {
     "data": {
      "text/plain": [
       "(np.float32(-0.054023586), np.float32(-0.035676003))"
      ]
     },
     "execution_count": 6,
     "metadata": {},
     "output_type": "execute_result"
    }
   ],
   "source": [
    "treetimeML.analyze()"
   ]
  },
  {
   "cell_type": "code",
   "execution_count": 27,
   "id": "906e49b3",
   "metadata": {},
   "outputs": [
    {
     "name": "stdout",
     "output_type": "stream",
     "text": [
      "[ 9 20 21 32 34 35 36 38 47 49 50 51 52 54 55 56 58 60 61 62 64 65 67 88]\n",
      "1.0383887\n",
      "0.052151173\n",
      "24\n",
      "0.9829\n",
      "0.9954362\n",
      "1.0062027\n",
      "1.0262026\n"
     ]
    },
    {
     "data": {
      "image/png": "[encoded data removed]",
      "text/plain": [
       "<Figure size 640x480 with 1 Axes>"
      ]
     },
     "metadata": {},
     "output_type": "display_data"
    }
   ],
   "source": [
    "res_ret = [np.float32(0.98418933), np.float32(1.0304543), np.float32(0.99228525), np.float32(1.0037215), np.float32(1.0212071), np.float32(0.964355), np.float32(1.0204871), np.float32(0.99372184), np.float32(1.0261537), np.float32(1.0575693), np.float32(1.0254962), np.float32(0.98552084), np.float32(0.99633837), np.float32(0.9878546), np.float32(1.0031679), np.float32(1.0030512), np.float32(1.0251026), np.float32(0.9969162), np.float32(0.9948347), np.float32(0.998129), np.float32(1.0299238), np.float32(1.079582), np.float32(0.9883913), np.float32(1.0260684), np.float32(1.0048655), np.float32(1.0013252), np.float32(1.0005195), np.float32(1.0255033), np.float32(1.0160545), np.float32(1.0278337), np.float32(1.0046791), np.float32(0.993781), np.float32(1.0059433), np.float32(1.0053523), np.float32(1.0840967), np.float32(1.0468454), np.float32(0.99411345), np.float32(0.99360025), np.float32(1.0572858), np.float32(0.98748606), np.float32(0.983709), np.float32(0.96899146), np.float32(0.9591711), np.float32(0.9902433), np.float32(0.918581), np.float32(0.9206902), np.float32(0.9645079), np.float32(1.005797), np.float32(0.9826978), np.float32(1.0420368), np.float32(0.97146213), np.float32(1.0541624), np.float32(1.0495878), np.float32(0.9913024), np.float32(1.0160599), np.float32(0.9702222), np.float32(1.0051361), np.float32(0.94901735), np.float32(1.01233), np.float32(1.0871668), np.float32(1.0063756), np.float32(0.994321), np.float32(1.0232346), np.float32(1.0135266), np.float32(0.9999687), np.float32(1.1091309), np.float32(0.9776052), np.float32(1.2192769), np.float32(0.82769), np.float32(0.9418644), np.float32(1.0395235), np.float32(0.99152106), np.float32(0.9815545), np.float32(1.0138837), np.float32(1.0276449), np.float32(1.0250801), np.float32(1.0217142), np.float32(0.9764859), np.float32(0.96100616), np.float32(1.0443192), np.float32(1.0054895), np.float32(0.96471274), np.float32(0.9888261), np.float32(1.0262148), np.float32(1.0006685), np.float32(1.0233312), np.float32(0.97620755), np.float32(0.98949623), np.float32(1.0868666), np.float32(0.93906724), np.float32(0.9975935), np.float32(1.0202413)]\n",
    "res_pred= [np.float64(1.0039138944239228), np.float64(1.0046947298473865), np.float64(1.0062506351292897), np.float64(1.0065055247755217), np.float64(1.005417685905612), np.float64(1.0040080163988891), np.float64(1.0027835191700762), np.float64(1.002904642628776), np.float64(1.0024671888306096), np.float64(1.0089600989110679), np.float64(1.0040405509640844), np.float64(1.00443548516886), np.float64(1.0039618312530283), np.float64(1.0036641033867184), np.float64(1.0044956187766232), np.float64(1.0038240225444883), np.float64(1.003512719779176), np.float64(1.0025719489506932), np.float64(1.0027741774748011), np.float64(1.003658120574522), np.float64(1.0102409454888237), np.float64(1.0101859026852453), np.float64(1.0026271880040536), np.float64(1.0048774162954206), np.float64(1.0025938803350356), np.float64(1.0030025569967997), np.float64(1.0038031791723014), np.float64(1.0050641671992633), np.float64(1.0036879332861326), np.float64(1.0063717111820207), np.float64(1.0044662281087429), np.float64(1.0064316832690512), np.float64(1.0093493280512633), np.float64(1.0061359525094042), np.float64(1.0072191166127002), np.float64(1.0107915479424059), np.float64(1.0080159269066251), np.float64(1.0040332795801568), np.float64(1.0083249569950838), np.float64(1.0062503655902821), np.float64(1.0040067137436615), np.float64(1.0019613953886257), np.float64(1.0039718548014582), np.float64(1.0024446358408377), np.float64(1.0009134209235526), np.float64(1.0030431281024776), np.float64(1.0025093732590498), np.float64(1.0076756056524467), np.float64(1.0046569178043119), np.float64(1.0142455899131735), np.float64(1.00978169593983), np.float64(1.0104848586334927), np.float64(1.008774164392532), np.float64(1.0060199146172661), np.float64(1.0091017542561898), np.float64(1.0138170262599493), np.float64(1.011168351588465), np.float64(1.0068565584669336), np.float64(1.0071743845197891), np.float64(1.006822716796426), np.float64(1.0110340710752204), np.float64(1.0081255411502563), np.float64(1.0071580253917372), np.float64(1.0051757287026477), np.float64(1.017335781672919), np.float64(1.0240417421239538), np.float64(1.0040774039128522), np.float64(1.032597597405356), np.float64(0.9961454486482383), np.float64(0.9984759787594099), np.float64(1.004352027917018), np.float64(1.0044007233307308), np.float64(1.003340166232919), np.float64(1.004704566085361), np.float64(1.0038200695521942), np.float64(1.0041205278477419), np.float64(1.0058252200150013), np.float64(1.0039283661069764), np.float64(1.0037650221358965), np.float64(1.0030076052322907), np.float64(1.0021160378193943), np.float64(0.999593722909293), np.float64(1.0020001449985183), np.float64(1.0036835579995047), np.float64(1.0016389618614272), np.float64(1.002706925944572), np.float64(1.0025547259338672), np.float64(1.0014959565909745), np.float64(1.0190022105071304), np.float64(0.990014889459119), np.float64(1.0012469860411939), np.float64(1.0019976622084505)]\n",
    "\n",
    "ret = np.array(res_ret, dtype=np.float32)\n",
    "pred = np.array(res_pred, dtype=np.float64)\n",
    "idces = np.where(np.array(pred) > 1.007)[0]\n",
    "print(idces)\n",
    "ret_masked = ret[np.array(pred) > 1.007]\n",
    "print(np.mean(ret_masked))\n",
    "print(np.std(ret_masked))   \n",
    "print(len(ret_masked))\n",
    "\n",
    "plt.scatter(pred, ret, alpha=0.5)\n",
    "plt.xlabel(\"Predicted Returns\")\n",
    "plt.ylabel(\"Actual Returns\")\n",
    "plt.title(\"Predicted vs Actual Returns\")\n",
    "plt.plot([0.97, 1.03], [0.97, 1.03], 'r--')  # Diagonal line for reference\n",
    "plt.grid(True)\n",
    "plt.show\n",
    "\n",
    "print(np.quantile(ret, 0.2))\n",
    "print(np.quantile(ret, 0.4))\n",
    "print(np.quantile(ret, 0.6))\n",
    "print(np.quantile(ret, 0.8))"
   ]
  }
 ],
 "metadata": {
  "kernelspec": {
   "display_name": ".venv",
   "language": "python",
   "name": "python3"
  },
  "language_info": {
   "codemirror_mode": {
    "name": "ipython",
    "version": 3
   },
   "file_extension": ".py",
   "mimetype": "text/x-python",
   "name": "python",
   "nbconvert_exporter": "python",
   "pygments_lexer": "ipython3",
   "version": "3.12.10"
  }
 },
 "nbformat": 4,
 "nbformat_minor": 5
}
