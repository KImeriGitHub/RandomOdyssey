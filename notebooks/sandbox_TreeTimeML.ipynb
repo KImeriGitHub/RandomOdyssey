{
 "cells": [
  {
   "cell_type": "code",
   "execution_count": 2,
   "id": "4971d7bb",
   "metadata": {},
   "outputs": [],
   "source": [
    "import sys\n",
    "import os\n",
    "\n",
    "# Get the absolute path to the project directory\n",
    "project_dir = os.path.abspath(\"..\")\n",
    "\n",
    "# Append the project directory to sys.path\n",
    "if project_dir not in sys.path:\n",
    "    sys.path.append(project_dir)\n",
    "    \n",
    "from src.predictionModule.TreeTimeML import TreeTimeML\n",
    "\n",
    "import pandas as pd\n",
    "import numpy as np\n",
    "import polars as pl\n",
    "import datetime\n",
    "import matplotlib.pyplot as plt\n",
    "import logging\n",
    "logging.basicConfig(\n",
    "    level=logging.DEBUG,\n",
    "    format='%(message)s'\n",
    ")"
   ]
  },
  {
   "cell_type": "code",
   "execution_count": null,
   "id": "08364d94",
   "metadata": {},
   "outputs": [],
   "source": [
    "params = {\n",
    "    \"daysAfterPrediction\": 7,\n",
    "    'timesteps': 20,\n",
    "    \n",
    "    'target_option': 'last',\n",
    "\n",
    "    \"TreeTime_isFiltered\": True,\n",
    "    \"TreeTime_RSIExt_q\": 0.07143461165932076,\n",
    "    \"TreeTime_FourierRSME_q\": 0.09374287501769159,\n",
    "\n",
    "    \"TreeTime_lstm_units\": 16,\n",
    "    \"TreeTime_lstm_num_layers\": 2,\n",
    "    \"TreeTime_lstm_dropout\": 0.3075853360749299,\n",
    "    \"TreeTime_lstm_recurrent_dropout\": 0.21305288719037974,\n",
    "    \"TreeTime_lstm_learning_rate\": 0.0016890513728400147,\n",
    "    \"TreeTime_lstm_optimizer\": \"rmsprop\",\n",
    "    \"TreeTime_lstm_bidirectional\": True,\n",
    "    \"TreeTime_lstm_batch_size\": 128,\n",
    "    \"TreeTime_lstm_epochs\": 1,\n",
    "    \"TreeTime_lstm_l1\": 0.5,\n",
    "    \"TreeTime_lstm_l2\": 0.5,\n",
    "    \"TreeTime_inter_dropout\": 0.5,\n",
    "    \"TreeTime_input_gaussian_noise\": 0.1,\n",
    "    \n",
    "    'TreeTime_lgb_num_boost_round': 143,\n",
    "    'TreeTime_lgb_lambda_l1': 0.7796235455765577,\n",
    "    'TreeTime_lgb_lambda_l2': 0.5702920669930339,\n",
    "    'TreeTime_lgb_feature_fraction': 0.10761430403277542,\n",
    "    'TreeTime_lgb_num_leaves': 124,\n",
    "    'TreeTime_lgb_max_depth': 16,\n",
    "    'TreeTime_lgb_learning_rate': 0.004619047626804867,\n",
    "    'TreeTime_lgb_min_data_in_leaf': 353,\n",
    "    'TreeTime_lgb_min_gain_to_split': 0.17187409867167036,\n",
    "    'TreeTime_lgb_path_smooth': 0.9574198886555025,\n",
    "    'TreeTime_lgb_min_sum_hessian_in_leaf': 0.052046545928833905,\n",
    "    \n",
    "    'TreeTime_MatchFeatures_minWeight': 0.2167758022373982,\n",
    "    'TreeTime_MatchFeatures_truncation': 1,\n",
    "    \n",
    "    'TreeTime_MatchFeatures_Pricediff': False,\n",
    "    'TreeTime_MatchFeatures_FinData_quar': False,\n",
    "    'TreeTime_MatchFeatures_FinData_metrics': False,\n",
    "    'TreeTime_MatchFeatures_Fourier_RSME': False,\n",
    "    'TreeTime_MatchFeatures_Fourier_Sign': False,\n",
    "    'TreeTime_MatchFeatures_TA_trend': False,\n",
    "    'TreeTime_MatchFeatures_FeatureGroup_VolGrLvl': False,\n",
    "    'TreeTime_MatchFeatures_LSTM_Prediction': True,\n",
    "    \n",
    "    \"TreeTime_top_highest\": 10,\n",
    "}\n",
    "\n",
    "stock_group = \"group_snp500_finanTo2011\"\n",
    "\n",
    "eval_date = datetime.date(year=2024, month=12, day=13)\n",
    "start_train_date = datetime.date(year=2022, month=1, day=1)\n",
    "\n",
    "treetimeML = TreeTimeML(\n",
    "    train_start_date=start_train_date,\n",
    "    test_date=eval_date,\n",
    "    group=stock_group,\n",
    "    params=params,\n",
    "    gatherTestResults=True,\n",
    ")"
   ]
  },
  {
   "cell_type": "code",
   "execution_count": 3,
   "id": "a5367ae9",
   "metadata": {},
   "outputs": [],
   "source": [
    "treetimeML.load_and_filter_sets(main_path = \"../src/featureAlchemy/bin/\")"
   ]
  },
  {
   "cell_type": "code",
   "execution_count": 5,
   "id": "a4ade28e",
   "metadata": {},
   "outputs": [
    {
     "name": "stdout",
     "output_type": "stream",
     "text": [
      "[0.5037484  0.48012602 0.49538356 0.5002157  0.44622412 0.48927477\n",
      " 0.4659939  0.48204628 0.52267826 0.4864809  0.47853708 0.5138903\n",
      " 0.48390484 0.49486807 0.4871877  0.4806834  0.4809952  0.46683902\n",
      " 0.47806907 0.50134635 0.47812834 0.48769018 0.49914706 0.47910362\n",
      " 0.4948166  0.44943416 0.46425167 0.49520496 0.49387127 0.46582374\n",
      " 0.4942212  0.48252445 0.48459065 0.49751887 0.49711916 0.45423117\n",
      " 0.4658401  0.48043483 0.47489542 0.5059938  0.47037482 0.5047813\n",
      " 0.4646608  0.47547686 0.47675943 0.4817506  0.46873248 0.4773707\n",
      " 0.46621093 0.4572728  0.4864256  0.4897754  0.48384583 0.47620636\n",
      " 0.49050453 0.48596498 0.48308283 0.47559917 0.47343847 0.4879607\n",
      " 0.47848165 0.48552278 0.49430934 0.47207448 0.50393695 0.4945662\n",
      " 0.4722859  0.4768376  0.49121085 0.4712043  0.4662123  0.48436764\n",
      " 0.5001596  0.49465668 0.475509   0.4654444  0.48190922 0.45201418\n",
      " 0.48102424 0.4892456  0.48168483 0.46669352 0.4787612  0.47832623\n",
      " 0.48521274 0.48084697 0.5021678  0.46836922 0.47209468 0.4973797\n",
      " 0.48746493 0.47503015 0.45165023 0.46717075 0.47391945 0.4579563\n",
      " 0.48622197 0.4727328  0.45604065 0.48774698 0.4866556  0.49450448\n",
      " 0.4885883  0.48675403 0.4856991  0.47967392 0.49053922 0.49490735\n",
      " 0.5120364  0.46399507 0.4695654  0.45924348 0.4770984  0.49040344\n",
      " 0.4833545  0.48665255 0.46260068 0.49929014 0.48272267 0.49471542\n",
      " 0.47759536 0.48307216 0.50178003]\n",
      "[1.007497   0.96023107 0.9907669  1.0004314  0.89203066 0.97854626\n",
      " 0.9318827  0.9640771  1.0453876  0.97295517 0.95704776 1.0277878\n",
      " 0.96779853 0.9897358  0.9743698  0.9613475  0.9619721  0.9335805\n",
      " 0.95611    1.0026927  0.95622873 0.9753754  0.9982941  0.9581829\n",
      " 0.98963284 0.8985214  0.92838115 0.9904096  0.98774195 0.9315407\n",
      " 0.9884419  0.96503466 0.9691715  0.9950377  0.99423826 0.9082054\n",
      " 0.9315736  0.9608497  0.9497486  1.0119882  0.94068015 1.0095628\n",
      " 0.92920357 0.9509143  0.95348537 0.963485   0.93738323 0.9547105\n",
      " 0.9323187  0.9143367  0.97284454 0.9795479  0.9676804  0.9523767\n",
      " 0.9810068  0.9719226  0.9661527  0.95115954 0.9468269  0.97591674\n",
      " 0.9569367  0.97103745 0.9886182  0.9440908  1.007874   0.989132\n",
      " 0.94451493 0.953642   0.9824199  0.94234484 0.9323215  0.9687251\n",
      " 1.0003192  0.98931295 0.95097876 0.93077844 0.96380264 0.90373206\n",
      " 0.96203023 0.97848785 0.9633533  0.9332883  0.9574968  0.9566253\n",
      " 0.97041684 0.96167517 1.0043356  0.93665385 0.9441313  0.9947593\n",
      " 0.9749246  0.9500187  0.9029974  0.9342469  0.9477915  0.9157136\n",
      " 0.97243696 0.94541144 0.91185373 0.9754891  0.97330487 0.98900855\n",
      " 0.9771726  0.97350186 0.97139037 0.95932543 0.9810762  0.98981434\n",
      " 1.0240774  0.92786527 0.93905544 0.9183057  0.95416474 0.9808045\n",
      " 0.96669674 0.9732988  0.9250614  0.9985803  0.9654316  0.9894304\n",
      " 0.9551607  0.9661314  1.0035601 ]\n",
      "shape: (123, 8)\n",
      "┌───────────┬────────────┬────────┬────────────┬────────────┬────────────┬────────────┬────────────┐\n",
      "│ row_index ┆ date       ┆ ticker ┆ Close      ┆ target_dat ┆ price_date ┆ price      ┆ target_clo │\n",
      "│ ---       ┆ ---        ┆ ---    ┆ ---        ┆ e          ┆ ---        ┆ ---        ┆ se         │\n",
      "│ u32       ┆ date       ┆ str    ┆ f32        ┆ ---        ┆ date       ┆ f32        ┆ ---        │\n",
      "│           ┆            ┆        ┆            ┆ date       ┆            ┆            ┆ f32        │\n",
      "╞═══════════╪════════════╪════════╪════════════╪════════════╪════════════╪════════════╪════════════╡\n",
      "│ 240082    ┆ 2024-12-13 ┆ ABT    ┆ 113.379997 ┆ 2024-12-20 ┆ 2024-12-20 ┆ 114.230003 ┆ 114.230003 │\n",
      "│ 240084    ┆ 2024-12-13 ┆ ADBE   ┆ 465.690002 ┆ 2024-12-20 ┆ 2024-12-20 ┆ 447.170013 ┆ 447.170013 │\n",
      "│ 240086    ┆ 2024-12-13 ┆ ADP    ┆ 296.76001  ┆ 2024-12-20 ┆ 2024-12-20 ┆ 294.019989 ┆ 294.019989 │\n",
      "│ 240089    ┆ 2024-12-13 ┆ AEP    ┆ 92.709999  ┆ 2024-12-20 ┆ 2024-12-20 ┆ 92.75      ┆ 92.75      │\n",
      "│ 240095    ┆ 2024-12-13 ┆ ALB    ┆ 99.379997  ┆ 2024-12-20 ┆ 2024-12-20 ┆ 88.650002  ┆ 88.650002  │\n",
      "│ …         ┆ …          ┆ …      ┆ …          ┆ …          ┆ …          ┆ …          ┆ …          │\n",
      "│ 240394    ┆ 2024-12-13 ┆ WM     ┆ 213.199997 ┆ 2024-12-20 ┆ 2024-12-20 ┆ 205.830002 ┆ 205.830002 │\n",
      "│ 240400    ┆ 2024-12-13 ┆ XEL    ┆ 68.120003  ┆ 2024-12-20 ┆ 2024-12-20 ┆ 67.400002  ┆ 67.400002  │\n",
      "│ 240401    ┆ 2024-12-13 ┆ XOM    ┆ 110.839996 ┆ 2024-12-20 ┆ 2024-12-20 ┆ 105.870003 ┆ 105.870003 │\n",
      "│ 240402    ┆ 2024-12-13 ┆ YUM    ┆ 137.0      ┆ 2024-12-20 ┆ 2024-12-20 ┆ 132.360001 ┆ 132.360001 │\n",
      "│ 240403    ┆ 2024-12-13 ┆ ZBH    ┆ 106.739998 ┆ 2024-12-20 ┆ 2024-12-20 ┆ 107.120003 ┆ 107.120003 │\n",
      "└───────────┴────────────┴────────┴────────────┴────────────┴────────────┴────────────┴────────────┘\n"
     ]
    }
   ],
   "source": [
    "assert np.all(treetimeML.train_Xtime>=0.0) & np.all(treetimeML.train_Xtime<=1.0), \"Train X Time values out of range [0, 1]\"\n",
    "print(t1 := treetimeML.test_ytime)\n",
    "print(t2 := treetimeML.test_ytree)\n",
    "print(m3 := treetimeML.meta_pl_test)"
   ]
  },
  {
   "cell_type": "code",
   "execution_count": 6,
   "id": "49763497",
   "metadata": {},
   "outputs": [
    {
     "name": "stderr",
     "output_type": "stream",
     "text": [
      "Number of time features: 60\n",
      "Overall Training Label Distribution:\n",
      "  Label False: Count = 65824, Frequency = 0.91\n",
      "  Label True: Count = 6140, Frequency = 0.09\n",
      "\n",
      "c:\\Users\\kimer\\Desktop\\RandomOdyssey\\.venv\\Lib\\site-packages\\keras\\src\\layers\\rnn\\rnn.py:200: UserWarning: Do not pass an `input_shape`/`input_dim` argument to a layer. When using Sequential models, prefer using an `Input(shape)` object as the first layer in the model instead.\n",
      "  super().__init__(**kwargs)\n",
      "LSTM completed in 0:07:44.878854.\n"
     ]
    },
    {
     "name": "stdout",
     "output_type": "stream",
     "text": [
      "\u001b[1m4498/4498\u001b[0m \u001b[32m━━━━━━━━━━━━━━━━━━━━\u001b[0m\u001b[37m\u001b[0m \u001b[1m22s\u001b[0m 5ms/step\n",
      "\u001b[1m8/8\u001b[0m \u001b[32m━━━━━━━━━━━━━━━━━━━━\u001b[0m\u001b[37m\u001b[0m \u001b[1m0s\u001b[0m 7ms/step \n"
     ]
    },
    {
     "name": "stderr",
     "output_type": "stream",
     "text": [
      "LGBM completed in 0:08:07.633540.\n",
      "Predicted Training Label Distribution:\n",
      "  Label False: Count = 71964, Frequency = 1.00\n",
      "\n",
      "Testing Masked Classification Metrics:\n",
      "c:\\Users\\kimer\\Desktop\\RandomOdyssey\\.venv\\Lib\\site-packages\\sklearn\\metrics\\_classification.py:409: UserWarning: A single label was found in 'y_true' and 'y_pred'. For the confusion matrix to have the correct shape, use the 'labels' parameter to pass all known labels.\n",
      "  warnings.warn(\n",
      "\n",
      "  Overall Accuracy: 1.00\n",
      "\n",
      "  Metrics per Class:\n",
      "    Class True:\n",
      "      TPR: 1.00, FPR: 0.00, TNR: 0.00, FNR: 0.00\n",
      "\n",
      "Accuracy of top 10 to be over 5%: 0.00%\n",
      "Mean value of top 10: -0.054023586213588715\n",
      "Min value of top 10: -0.10796935856342316\n",
      "Max value of top 10: -0.01758011430501938\n",
      "DataFrame:\n",
      "shape: (10, 8)\n",
      "+-----------+------------+--------+-----------+-------------+------------+-----------+-------------+\n",
      "| row_index | date       | ticker | Close     | target_date | price_date | price     | target_clos |\n",
      "| ---       | ---        | ---    | ---       | ---         | ---        | ---       | e           |\n",
      "| u32       | date       | str    | f32       | date        | date       | f32       | ---         |\n",
      "|           |            |        |           |             |            |           | f32         |\n",
      "+==================================================================================================+\n",
      "| 240192    | 2024-12-13 | F      | 10.39     | 2024-12-20  | 2024-12-20 | 9.88      | 9.88        |\n",
      "| 240170    | 2024-12-13 | DVN    | 33.880001 | 2024-12-20  | 2024-12-20 | 30.77     | 30.77       |\n",
      "| 240115    | 2024-12-13 | BAX    | 30.32     | 2024-12-20  | 2024-12-20 | 29.5      | 29.5        |\n",
      "| 240264    | 2024-12-13 | MDT    | 82.480003 | 2024-12-20  | 2024-12-20 | 81.029999 | 81.029999   |\n",
      "| 240156    | 2024-12-13 | CVS    | 49.369999 | 2024-12-20  | 2024-12-20 | 44.360001 | 44.360001   |\n",
      "| 240366    | 2024-12-13 | TSN    | 60.48     | 2024-12-20  | 2024-12-20 | 58.02     | 58.02       |\n",
      "| 240227    | 2024-12-13 | IFF    | 87.400002 | 2024-12-20  | 2024-12-20 | 85.739998 | 85.739998   |\n",
      "| 240132    | 2024-12-13 | CCI    | 97.110001 | 2024-12-20  | 2024-12-20 | 90.660004 | 90.660004   |\n",
      "| 240384    | 2024-12-13 | VTR    | 59.91     | 2024-12-20  | 2024-12-20 | 58.759998 | 58.759998   |\n",
      "| 240095    | 2024-12-13 | ALB    | 99.379997 | 2024-12-20  | 2024-12-20 | 88.650002 | 88.650002   |\n",
      "+-----------+------------+--------+-----------+-------------+------------+-----------+-------------+\n"
     ]
    },
    {
     "data": {
      "text/plain": [
       "(np.float32(-0.054023586), np.float32(-0.035676003))"
      ]
     },
     "execution_count": 6,
     "metadata": {},
     "output_type": "execute_result"
    }
   ],
   "source": [
    "treetimeML.analyze()"
   ]
  },
  {
   "cell_type": "code",
   "execution_count": 8,
   "id": "906e49b3",
   "metadata": {},
   "outputs": [
    {
     "name": "stdout",
     "output_type": "stream",
     "text": [
      "1.0131153\n",
      "0.07121377\n",
      "24\n",
      "Slope: 1.0458354803895653, Intercept: -0.0572249975593464, R2-squared: 0.042910607499650415, P-value: 0.157739760061977, Standard Error: 0.7282464487133721\n",
      "0.9645153\n",
      "0.9906562\n",
      "1.0201366\n",
      "1.0649948\n"
     ]
    },
    {
     "data": {
      "image/png": "[encoded data removed]",
      "text/plain": [
       "<Figure size 640x480 with 1 Axes>"
      ]
     },
     "metadata": {},
     "output_type": "display_data"
    }
   ],
   "source": [
    "res_ret =  [np.float64(1.1240355968475342), np.float64(0.9878898859024048), np.float64(1.06826651096344), np.float64(0.9710577130317688), np.float64(1.0661163330078125), np.float64(0.9881683588027954), np.float64(1.0109580755233765), np.float64(0.9853652119636536), np.float64(0.8615081906318665), np.float64(0.9895631670951843), np.float64(1.0289440155029297), np.float64(1.032572865486145), np.float64(0.9909294247627258), np.float64(1.0238702297210693), np.float64(1.041902780532837), np.float64(1.0908068418502808), np.float64(0.9963445663452148), np.float64(0.9695882797241211), np.float64(0.9643786549568176), np.float64(0.9680679440498352), np.float64(1.0020167827606201), np.float64(1.0668036937713623), np.float64(1.0547797679901123), np.float64(0.9909319877624512), np.float64(0.9527562260627747), np.float64(1.017751693725586), np.float64(1.154876947402954), np.float64(0.9336613416671753), np.float64(1.1035706996917725), np.float64(0.9264785051345825), np.float64(0.9494754672050476), np.float64(1.0091400146484375), np.float64(1.1011734008789062), np.float64(0.9253617525100708), np.float64(0.9647203683853149), np.float64(1.0192031860351562), np.float64(1.0872706174850464), np.float64(0.8725287318229675), np.float64(0.8677664995193481), np.float64(1.0002000331878662), np.float64(0.9054190516471863), np.float64(1.0490318536758423), np.float64(1.0872360467910767), np.float64(1.0290124416351318), np.float64(1.0633125305175781), np.float64(0.9701231718063354), np.float64(1.0518213510513306), np.float64(1.006593942642212)]\n",
    "\n",
    "res_pred = [np.float64(1.0125991207682392), np.float64(1.008772872734657), np.float64(1.007820226355518), np.float64(1.0097061545598291), np.float64(1.0060576280097044), np.float64(1.008766108198506), np.float64(1.00852750104558), np.float64(1.0083827445263847), np.float64(1.0047550089913309), np.float64(1.0077039013420985), np.float64(1.0079151438972156), np.float64(1.0078707138536174), np.float64(1.0115931314406974), np.float64(1.0088398350183796), np.float64(1.0274452680886756), np.float64(1.0262209496863917), np.float64(1.0554324780572217), np.float64(1.0350586867653273), np.float64(1.0195174348627174), np.float64(1.0181459578912713), np.float64(1.0245515344054168), np.float64(1.0293085829072446), np.float64(1.0129253816027222), np.float64(1.0309934305576773), np.float64(1.0135712651417739), np.float64(1.0246885358845037), np.float64(1.053846163702597), np.float64(1.02855448140934), np.float64(1.0542949845393716), np.float64(1.040078194092604), np.float64(1.013320177063175), np.float64(1.006663880219798), np.float64(1.0102156911761255), np.float64(1.006324667965243), np.float64(1.0102441209609965), np.float64(1.0087486620340775), np.float64(1.0048089010263004), np.float64(1.0142099620933365), np.float64(1.011282528728932), np.float64(1.0106163505477295), np.float64(1.0189729030515882), np.float64(1.021266870382674), np.float64(1.0167789661570592), np.float64(1.0223449411203638), np.float64(1.020307417785359), np.float64(1.008005233286184), np.float64(1.0079170723922117), np.float64(1.0059464982410644)]\n",
    "\n",
    "ret = np.array(res_ret, dtype=np.float32)\n",
    "pred = np.array(res_pred, dtype=np.float64)\n",
    "ret_masked = ret[pred > np.quantile(pred, 0.5)]\n",
    "print(np.mean(ret_masked))\n",
    "print(np.std(ret_masked))\n",
    "print(len(ret_masked))\n",
    "\n",
    "plt.scatter(pred, ret, alpha=0.5)\n",
    "plt.xlabel(\"Predicted Returns\")\n",
    "plt.ylabel(\"Actual Returns\")\n",
    "plt.title(\"Predicted vs Actual Returns\")\n",
    "#plt.plot([0.97, 1.03], [0.97, 1.03], 'r--')  # Diagonal line for reference\n",
    "plt.grid(True)\n",
    "plt.show\n",
    "\n",
    "from scipy import stats\n",
    "slope, intercept, rval, pval, sterr = stats.linregress(pred, ret)\n",
    "print(f\"Slope: {slope}, Intercept: {intercept}, R2-squared: {rval**2}, P-value: {pval}, Standard Error: {sterr}\")\n",
    "\n",
    "print(np.quantile(ret, 0.2))\n",
    "print(np.quantile(ret, 0.4))\n",
    "print(np.quantile(ret, 0.6))\n",
    "print(np.quantile(ret, 0.8))"
   ]
  }
 ],
 "metadata": {
  "kernelspec": {
   "display_name": ".venv",
   "language": "python",
   "name": "python3"
  },
  "language_info": {
   "codemirror_mode": {
    "name": "ipython",
    "version": 3
   },
   "file_extension": ".py",
   "mimetype": "text/x-python",
   "name": "python",
   "nbconvert_exporter": "python",
   "pygments_lexer": "ipython3",
   "version": "3.12.10"
  }
 },
 "nbformat": 4,
 "nbformat_minor": 5
}
