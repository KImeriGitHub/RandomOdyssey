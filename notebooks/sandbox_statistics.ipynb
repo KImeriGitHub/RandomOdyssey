{
 "cells": [
  {
   "cell_type": "code",
   "execution_count": 88,
   "id": "0c3b363e",
   "metadata": {},
   "outputs": [],
   "source": [
    "import sys\n",
    "import os\n",
    "\n",
    "# Get the absolute path to the project directory\n",
    "project_dir = os.path.abspath(\"..\")\n",
    "\n",
    "# Append the project directory to sys.path\n",
    "if project_dir not in sys.path:\n",
    "    sys.path.append(project_dir)\n",
    "    \n",
    "from src.predictionModule.TreeTimeML import TreeTimeML\n",
    "\n",
    "import pandas as pd\n",
    "import numpy as np\n",
    "import polars as pl\n",
    "import datetime\n",
    "import logging\n",
    "logging.basicConfig(\n",
    "    level=logging.DEBUG,\n",
    "    format='%(message)s'\n",
    ")\n",
    "logger = logging.getLogger(__name__)"
   ]
  },
  {
   "cell_type": "code",
   "execution_count": 89,
   "id": "8c306cf3",
   "metadata": {},
   "outputs": [],
   "source": [
    "params = {\n",
    "    \"daysAfterPrediction\": 7,\n",
    "    'timesteps': 22,\n",
    "    'target_option': 'last',\n",
    "    \"TreeTime_isFiltered\": False,\n",
    "    \"TreeTime_top_highest\": 10,\n",
    "}\n",
    "\n",
    "stock_group = \"group_snp500_finanTo2011\"\n",
    "\n",
    "eval_date = datetime.date(year=2025, month=2, day=13)\n",
    "start_train_date = datetime.date(year=2014, month=1, day=1)\n",
    "\n",
    "treetimeML = TreeTimeML(\n",
    "    train_start_date=start_train_date,\n",
    "    test_dates=[eval_date],\n",
    "    group=stock_group,\n",
    "    params=params,\n",
    ")"
   ]
  },
  {
   "cell_type": "code",
   "execution_count": 90,
   "id": "6a74d5b8",
   "metadata": {},
   "outputs": [],
   "source": [
    "treetimeML.load_and_filter_sets(main_path = \"../src/featureAlchemy/bin/\")"
   ]
  },
  {
   "cell_type": "code",
   "execution_count": 91,
   "id": "21232b3b",
   "metadata": {},
   "outputs": [],
   "source": [
    "Xtree = treetimeML.train_Xtree\n",
    "ytree = treetimeML.train_ytree\n",
    "ytime = treetimeML.train_ytime\n",
    "\n",
    "treenames = treetimeML.featureTreeNames"
   ]
  },
  {
   "cell_type": "code",
   "execution_count": 92,
   "id": "284dab44",
   "metadata": {},
   "outputs": [
    {
     "data": {
      "text/plain": [
       "np.float32(1.0024893)"
      ]
     },
     "execution_count": 92,
     "metadata": {},
     "output_type": "execute_result"
    }
   ],
   "source": [
    "np.mean(ytree)"
   ]
  },
  {
   "cell_type": "markdown",
   "id": "762acc7f",
   "metadata": {},
   "source": [
    "# RSI Stats"
   ]
  },
  {
   "cell_type": "code",
   "execution_count": 119,
   "id": "0efc9505",
   "metadata": {},
   "outputs": [
    {
     "name": "stdout",
     "output_type": "stream",
     "text": [
      "89643\n",
      "1.0035527\n"
     ]
    }
   ],
   "source": [
    "q = 0.10\n",
    "idx = np.where(treenames == 'FeatureTA_momentum_stoch_rsi')[0]\n",
    "arr = Xtree[:, idx].flatten()\n",
    "quant_lower = np.quantile(arr, q)\n",
    "#quant_upper = np.quantile(arr, 1-q)\n",
    "mask = np.zeros_like(arr, dtype=bool)\n",
    "mask = mask | (arr <= quant_lower)\n",
    "#mask = mask | (arr >= quant_upper)\n",
    "\n",
    "print(mask.sum())\n",
    "print(np.mean(ytree[mask]))"
   ]
  },
  {
   "cell_type": "markdown",
   "id": "dea6bcc6",
   "metadata": {},
   "source": [
    "# RSME Stats"
   ]
  },
  {
   "cell_type": "markdown",
   "id": "451711b2",
   "metadata": {},
   "source": [
    "### RSME 1, with intermediate value"
   ]
  },
  {
   "cell_type": "code",
   "execution_count": 94,
   "id": "698f5d74",
   "metadata": {},
   "outputs": [
    {
     "name": "stdout",
     "output_type": "stream",
     "text": [
      "[356218 389486 422311 455693 489850 524670 559426 594495 630014 665050]\n",
      "[1.00261331 1.00262392 1.00259709 1.00258422 1.00256324 1.00253797\n",
      " 1.00254107 1.00252962 1.00251698 1.00249422]\n"
     ]
    }
   ],
   "source": [
    "def f(q):\n",
    "    mask = np.zeros(Xtree.shape[0], dtype=bool)\n",
    "    idx = np.where(treenames == 'Fourier_Price_RSMERatioCoeff_1_MH_1')[0]\n",
    "    idx1 = np.where(treenames == 'FeatureTA_Open_lag_m1')[0]\n",
    "    idx2 = np.where(treenames == 'FeatureTA_Open_lag_m10')[0]\n",
    "    arr = Xtree[:, idx].flatten()\n",
    "    arr1 = Xtree[:, idx1].flatten()\n",
    "    arr2 = Xtree[:, idx2].flatten()\n",
    "    mask = mask | (arr2 < arr1*0.98)\n",
    "    quant = np.quantile(arr[(arr2 < arr1*0.98)], q)\n",
    "    mask = mask | (arr <= quant)\n",
    "    return mask\n",
    "\n",
    "n_q = 10\n",
    "masksum = np.zeros(n_q, dtype=int)\n",
    "returns = np.zeros(n_q)\n",
    "linspace = np.linspace(0.01, 0.99, n_q)\n",
    "for i, q in enumerate(linspace):\n",
    "    mask = f(q)\n",
    "    masksum[i] = mask.sum()\n",
    "    returns[i] = np.mean(ytree[mask])\n",
    "\n",
    "print(masksum)\n",
    "print(returns)"
   ]
  },
  {
   "cell_type": "markdown",
   "id": "c4c95382",
   "metadata": {},
   "source": [
    "### RSME 1, with out intermediate value"
   ]
  },
  {
   "cell_type": "code",
   "execution_count": 117,
   "id": "d7dff7c2",
   "metadata": {},
   "outputs": [
    {
     "name": "stdout",
     "output_type": "stream",
     "text": [
      "[0.01       0.02357143 0.03714286 0.05071429 0.06428571 0.07785714\n",
      " 0.09142857 0.105      0.11857143 0.13214286 0.14571429 0.15928571\n",
      " 0.17285714 0.18642857 0.2       ]\n",
      "[  6684  15754  24824  33894  42965  52035  61105  70175  79245  88316\n",
      "  97386 106456 115526 124596 133667]\n",
      "[1.00497591 1.00455809 1.00379574 1.00346303 1.00320864 1.00321603\n",
      " 1.00315297 1.00308752 1.00312555 1.00305247 1.00304937 1.00303054\n",
      " 1.00301099 1.00299501 1.00294149]\n"
     ]
    }
   ],
   "source": [
    "def f(q):\n",
    "    mask = np.zeros(Xtree.shape[0], dtype=bool)\n",
    "    idx = np.where(treenames == 'Fourier_Price_RSMERatioCoeff_1_MH_1')[0]\n",
    "    arr = Xtree[:, idx].flatten()\n",
    "    quant = np.quantile(arr, q)\n",
    "    mask = mask | (arr <= quant)\n",
    "    return mask\n",
    "\n",
    "n_q = 15\n",
    "masksum = np.zeros(n_q, dtype=int)\n",
    "returns = np.zeros(n_q)\n",
    "linspace = np.linspace(0.01, 0.2, n_q)\n",
    "for i, q in enumerate(linspace):\n",
    "    mask = f(q)\n",
    "    masksum[i] = mask.sum()\n",
    "    returns[i] = np.mean(ytree[mask])\n",
    "\n",
    "print(linspace)\n",
    "print(masksum)\n",
    "print(returns)"
   ]
  },
  {
   "cell_type": "markdown",
   "id": "367f96ff",
   "metadata": {},
   "source": [
    "### RSME 1 mhx, with out intermediate value"
   ]
  },
  {
   "cell_type": "code",
   "execution_count": 116,
   "id": "159c1cb0",
   "metadata": {},
   "outputs": [
    {
     "name": "stdout",
     "output_type": "stream",
     "text": [
      "[0.01       0.02357143 0.03714286 0.05071429 0.06428571 0.07785714\n",
      " 0.09142857 0.105      0.11857143 0.13214286 0.14571429 0.15928571\n",
      " 0.17285714 0.18642857 0.2       ]\n",
      "[  6684  15754  24824  33894  42965  52035  61105  70175  79245  88316\n",
      "  97386 106456 115526 124596 133667]\n",
      "[1.00632381 1.00552213 1.00520861 1.00492346 1.00444937 1.00419772\n",
      " 1.00387132 1.00365758 1.00355947 1.00340784 1.00328755 1.00314391\n",
      " 1.00304699 1.00295675 1.00287056]\n"
     ]
    }
   ],
   "source": [
    "m = 2\n",
    "def f(q):\n",
    "    mask = np.zeros(Xtree.shape[0], dtype=bool)\n",
    "    idx = np.where(treenames == f'Fourier_Price_RSMERatioCoeff_1_MH_{m}')[0]\n",
    "    arr = Xtree[:, idx].flatten()\n",
    "    quant = np.quantile(arr, q)\n",
    "    mask = mask | (arr <= quant)\n",
    "    return mask\n",
    "\n",
    "n_q = 15\n",
    "masksum = np.zeros(n_q, dtype=int)\n",
    "returns = np.zeros(n_q)\n",
    "linspace = np.linspace(0.01, 0.2, n_q)\n",
    "for i, q in enumerate(linspace):\n",
    "    mask = f(q)\n",
    "    masksum[i] = mask.sum()\n",
    "    returns[i] = np.mean(ytree[mask])\n",
    "\n",
    "print(linspace)\n",
    "print(masksum)\n",
    "print(returns)"
   ]
  },
  {
   "cell_type": "markdown",
   "id": "3ef5b8d3",
   "metadata": {},
   "source": [
    "# ebit"
   ]
  },
  {
   "cell_type": "code",
   "execution_count": 97,
   "id": "95a30b2b",
   "metadata": {},
   "outputs": [
    {
     "name": "stdout",
     "output_type": "stream",
     "text": [
      "[0.01       0.02357143 0.03714286 0.05071429 0.06428571 0.07785714\n",
      " 0.09142857 0.105      0.11857143 0.13214286 0.14571429 0.15928571\n",
      " 0.17285714 0.18642857 0.2       ]\n",
      "[  6719  15868  24824  33904  43039  52061  61162  70209  79275  88361\n",
      "  97393 106486 115541 124615 133726]\n",
      "[1.00540709 1.0038172  1.00345945 1.00321388 1.00307107 1.0027498\n",
      " 1.00262439 1.00272822 1.00267661 1.00266755 1.00261855 1.0026058\n",
      " 1.00259268 1.00262463 1.0026418 ]\n"
     ]
    }
   ],
   "source": [
    "qm = 5\n",
    "def f(q):\n",
    "    mask = np.zeros(Xtree.shape[0], dtype=bool)\n",
    "    idx = np.where(treenames == f'FinData_quar_ebit_lagquot_qm{qm}')[0]\n",
    "    arr = Xtree[:, idx].flatten()\n",
    "    quant = np.quantile(arr, 1-q)\n",
    "    mask = mask | (arr >= quant)\n",
    "    return mask\n",
    "\n",
    "n_q = 15\n",
    "masksum = np.zeros(n_q, dtype=int)\n",
    "returns = np.zeros(n_q)\n",
    "linspace = np.linspace(0.01, 0.2, n_q)\n",
    "for i, q in enumerate(linspace):\n",
    "    mask = f(q)\n",
    "    masksum[i] = mask.sum()\n",
    "    returns[i] = np.mean(ytree[mask])\n",
    "\n",
    "print(linspace)\n",
    "print(masksum)\n",
    "print(returns)"
   ]
  },
  {
   "cell_type": "markdown",
   "id": "9017caea",
   "metadata": {},
   "source": [
    "# Group Dynamic, FeatureGroup_RetGrLvl"
   ]
  },
  {
   "cell_type": "code",
   "execution_count": 109,
   "id": "b0c150ac",
   "metadata": {},
   "outputs": [
    {
     "name": "stdout",
     "output_type": "stream",
     "text": [
      "[0.01 0.08 0.15 0.22 0.29 0.36 0.43 0.5  0.57 0.64 0.71 0.78 0.85 0.92\n",
      " 0.99]\n",
      "[661663 614870 568107 521338 474545 427842 381120 334250 287388 240742\n",
      " 193925 147141 100449  53493   6684]\n",
      "[1.00238955 1.00203454 1.00177813 1.00186861 1.00188112 1.0020957\n",
      " 1.00208485 1.00227237 1.00218022 1.00201309 1.00129652 1.00089705\n",
      " 1.00063491 1.00002694 1.01071346]\n"
     ]
    }
   ],
   "source": [
    "def f(q):\n",
    "    mask = np.zeros(Xtree.shape[0], dtype=bool)\n",
    "    idx = np.where(treenames == f'FeatureGroup_AvgReturnPct')[0]\n",
    "    arr = Xtree[:, idx].flatten()\n",
    "    quant = np.quantile(arr, q)\n",
    "    mask = mask | (arr >= quant)\n",
    "    return mask\n",
    "\n",
    "n_q = 15\n",
    "masksum = np.zeros(n_q, dtype=int)\n",
    "returns = np.zeros(n_q)\n",
    "linspace = np.linspace(0.01, 0.99, n_q)\n",
    "for i, q in enumerate(linspace):\n",
    "    mask = f(q)\n",
    "    masksum[i] = mask.sum()\n",
    "    returns[i] = np.mean(ytree[mask])\n",
    "\n",
    "print(linspace)\n",
    "print(masksum)\n",
    "print(returns)"
   ]
  },
  {
   "cell_type": "markdown",
   "id": "88db2d44",
   "metadata": {},
   "source": [
    "# TA Features"
   ]
  },
  {
   "cell_type": "code",
   "execution_count": 122,
   "id": "7d637f1a",
   "metadata": {},
   "outputs": [
    {
     "name": "stdout",
     "output_type": "stream",
     "text": [
      "[0.01  0.108 0.206 0.304 0.402 0.5   0.598 0.696 0.794 0.892 0.99 ]\n",
      "[ 12979  72594 137677 203173 268669 334166 399662 465158 530657 596845\n",
      " 668331]\n",
      "[1.0064764  1.00445187 1.00316954 1.00282693 1.00277281 1.00271261\n",
      " 1.00261855 1.00254726 1.0025394  1.0024879  1.00248933]\n"
     ]
    }
   ],
   "source": [
    "def f(q):\n",
    "    mask = np.zeros(Xtree.shape[0], dtype=bool)\n",
    "    idx = np.where(treenames == f'FeatureTA_trend_stc')[0]\n",
    "    arr = Xtree[:, idx].flatten()\n",
    "    quant = np.quantile(arr, q)\n",
    "    mask = mask | (arr <= quant)\n",
    "    return mask\n",
    "\n",
    "n_q = 11\n",
    "masksum = np.zeros(n_q, dtype=int)\n",
    "returns = np.zeros(n_q)\n",
    "linspace = np.linspace(0.01, 0.99, n_q)\n",
    "for i, q in enumerate(linspace):\n",
    "    mask = f(q)\n",
    "    masksum[i] = mask.sum()\n",
    "    returns[i] = np.mean(ytree[mask])\n",
    "\n",
    "print(linspace)\n",
    "print(masksum)\n",
    "print(returns)"
   ]
  },
  {
   "cell_type": "code",
   "execution_count": 100,
   "id": "27c3c195",
   "metadata": {},
   "outputs": [
    {
     "name": "stdout",
     "output_type": "stream",
     "text": [
      "[0.01       0.06157895 0.11315789 0.16473684 0.21631579 0.26789474\n",
      " 0.31947368 0.37105263 0.42263158 0.47421053 0.52578947 0.57736842\n",
      " 0.62894737 0.68052632 0.73210526 0.78368421 0.83526316 0.88684211\n",
      " 0.93842105 0.99      ]\n",
      "[661647 627176 592704 558232 523760 489288 454817 420345 385873 351401\n",
      " 316930 282458 247986 213514 179043 144571 110099  75627  41156   6684]\n",
      "[1.00250828 1.002599   1.00270605 1.00284219 1.00298643 1.00312054\n",
      " 1.00328469 1.00345337 1.0036211  1.00378573 1.00398493 1.00423443\n",
      " 1.00453663 1.00483906 1.00518191 1.00557363 1.00635731 1.00719464\n",
      " 1.00939429 1.02458763]\n"
     ]
    }
   ],
   "source": [
    "def f(q):\n",
    "    mask = np.zeros(Xtree.shape[0], dtype=bool)\n",
    "    idx = np.where(treenames == f'FeatureTA_volatility_atr')[0]\n",
    "    arr = Xtree[:, idx].flatten()\n",
    "    quant = np.quantile(arr, q)\n",
    "    mask = mask | (arr >= quant)\n",
    "    return mask\n",
    "\n",
    "n_q = 20\n",
    "masksum = np.zeros(n_q, dtype=int)\n",
    "returns = np.zeros(n_q)\n",
    "linspace = np.linspace(0.01, 0.99, n_q)\n",
    "for i, q in enumerate(linspace):\n",
    "    mask = f(q)\n",
    "    masksum[i] = mask.sum()\n",
    "    returns[i] = np.mean(ytree[mask])\n",
    "\n",
    "print(linspace)\n",
    "print(masksum)\n",
    "print(returns)"
   ]
  },
  {
   "cell_type": "markdown",
   "id": "bd7aa0ec",
   "metadata": {},
   "source": [
    "# Math Features"
   ]
  },
  {
   "cell_type": "code",
   "execution_count": 101,
   "id": "351d26c2",
   "metadata": {},
   "outputs": [
    {
     "name": "stdout",
     "output_type": "stream",
     "text": [
      "[0.01       0.06157895 0.11315789 0.16473684 0.21631579 0.26789474\n",
      " 0.31947368 0.37105263 0.42263158 0.47421053 0.52578947 0.57736842\n",
      " 0.62894737 0.68052632 0.73210526 0.78368421 0.83526316 0.88684211\n",
      " 0.93842105 0.99      ]\n",
      "[  6684  41156  75627 110099 144571 179044 213514 247986 282458 316930\n",
      " 351401 385873 420345 454817 489288 523760 558232 592704 668331 668331]\n",
      "[1.02653122 1.01019084 1.00721335 1.00587642 1.00516081 1.00469995\n",
      " 1.00446928 1.00427318 1.00400794 1.00382423 1.00364411 1.00354266\n",
      " 1.00341153 1.00328767 1.00315762 1.0030309  1.00291932 1.0027914\n",
      " 1.00248933 1.00248933]\n"
     ]
    }
   ],
   "source": [
    "candidates = [\n",
    "    'MathFeature_Drawdown_MH4',\n",
    "    'MathFeature_Drawdown_MH5',\n",
    "    'MathFeature_Drawdown_MH6',\n",
    "]\n",
    "# find the first one that actually appears in treenames\n",
    "name = next((c for c in candidates if c in treenames), None)\n",
    "def f(q):\n",
    "    mask = np.zeros(Xtree.shape[0], dtype=bool)\n",
    "    idx = np.where(treenames == name)[0]\n",
    "    arr = Xtree[:, idx].flatten()\n",
    "    quant = np.quantile(arr, q)\n",
    "    mask = mask | (arr <= quant)\n",
    "    return mask\n",
    "\n",
    "n_q = 20\n",
    "masksum = np.zeros(n_q, dtype=int)\n",
    "returns = np.zeros(n_q)\n",
    "linspace = np.linspace(0.01, 0.99, n_q)\n",
    "for i, q in enumerate(linspace):\n",
    "    mask = f(q)\n",
    "    masksum[i] = mask.sum()\n",
    "    returns[i] = np.mean(ytree[mask])\n",
    "\n",
    "print(linspace)\n",
    "print(masksum)\n",
    "print(returns)"
   ]
  },
  {
   "cell_type": "markdown",
   "id": "9764fbe4",
   "metadata": {},
   "source": [
    "# ALL at once"
   ]
  },
  {
   "cell_type": "code",
   "execution_count": 102,
   "id": "ab65612f",
   "metadata": {},
   "outputs": [
    {
     "name": "stdout",
     "output_type": "stream",
     "text": [
      "                                                return_le  return_ge\n",
      "feature                                                             \n",
      "Category_other                                   1.002489   1.002489\n",
      "Category_industrials                             1.002489   1.002457\n",
      "Category_healthcare                              1.002489   1.002287\n",
      "Category_technology                              1.002489   1.002904\n",
      "Category_financial-services                      1.002489   1.002670\n",
      "...                                                   ...        ...\n",
      "FeatureGroup_WeightedIndexMHPct_lag_m500_MH_2    1.002380   1.002570\n",
      "FeatureGroup_WeightedIndexMHPct_lag_m500_MH_4    1.002516   1.002077\n",
      "FeatureGroup_WeightedIndexMHPct_lag_m500_MH_6    1.002535   1.003021\n",
      "FeatureGroup_WeightedIndexMHPct_lag_m500_MH_8    1.002800   0.998248\n",
      "FeatureGroup_WeightedIndexMHPct_lag_m500_MH_12   1.002321   1.006010\n",
      "\n",
      "[2829 rows x 2 columns]\n"
     ]
    }
   ],
   "source": [
    "q = 0.94\n",
    "n_feats = Xtree.shape[1]\n",
    "returns_le = np.zeros(n_feats)\n",
    "returns_ge = np.zeros(n_feats)\n",
    "\n",
    "for j in range(n_feats):\n",
    "    col = Xtree[:, j]\n",
    "    thresh = np.quantile(col, q)\n",
    "    mask_le = col <= thresh\n",
    "    mask_ge = col >= thresh\n",
    "    returns_le[j] = np.mean(ytree[mask_le]) if mask_le.any() else np.nan\n",
    "    returns_ge[j] = np.mean(ytree[mask_ge]) if mask_ge.any() else np.nan\n",
    "\n",
    "results = pd.DataFrame({\n",
    "    'feature': treenames,\n",
    "    f'return_le': returns_le,\n",
    "    f'return_ge': returns_ge,\n",
    "}).set_index('feature')\n",
    "\n",
    "print(results)"
   ]
  },
  {
   "cell_type": "code",
   "execution_count": 103,
   "id": "605c10db",
   "metadata": {},
   "outputs": [],
   "source": [
    "res_sorted_le = results.sort_values(by='return_le', ascending=False)\n",
    "res_sorted_ge = results.sort_values(by='return_ge', ascending=False)"
   ]
  }
 ],
 "metadata": {
  "kernelspec": {
   "display_name": ".venv",
   "language": "python",
   "name": "python3"
  },
  "language_info": {
   "codemirror_mode": {
    "name": "ipython",
    "version": 3
   },
   "file_extension": ".py",
   "mimetype": "text/x-python",
   "name": "python",
   "nbconvert_exporter": "python",
   "pygments_lexer": "ipython3",
   "version": "3.12.10"
  }
 },
 "nbformat": 4,
 "nbformat_minor": 5
}
