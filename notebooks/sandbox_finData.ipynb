{
 "cells": [
  {
   "cell_type": "code",
   "execution_count": 11,
   "metadata": {},
   "outputs": [],
   "source": [
    "import sys\n",
    "import os\n",
    "\n",
    "# Get the absolute path to the project directory\n",
    "project_dir = os.path.abspath(\"..\")\n",
    "\n",
    "# Append the project directory to sys.path\n",
    "if project_dir not in sys.path:\n",
    "    sys.path.append(project_dir)"
   ]
  },
  {
   "cell_type": "code",
   "execution_count": 12,
   "metadata": {},
   "outputs": [],
   "source": [
    "import sys\n",
    "import os\n",
    "\n",
    "# Get the absolute path to the project directory\n",
    "project_dir = os.path.abspath(\"..\")\n",
    "\n",
    "# Append the project directory to sys.path\n",
    "if project_dir not in sys.path:\n",
    "    sys.path.append(project_dir)\n",
    "\n",
    "import yfinance as yf\n",
    "import pandas as pd\n",
    "import datetime as dt\n",
    "import matplotlib.pyplot as plt\n",
    "import warnings\n",
    "from dataclasses import asdict, is_dataclass, dataclass\n",
    "import os\n",
    "import json\n",
    "import pickle\n",
    "from pandas.api.types import is_datetime64_any_dtype\n",
    "import numpy as np\n",
    "from typing import Dict\n",
    "import polars as pl\n",
    "\n",
    "from src.common.AssetData import AssetData\n",
    "from src.common.AssetDataPolars import AssetDataPolars\n",
    "from src.common.AssetDataService import AssetDataService\n",
    "from src.common.AssetFileInOut import AssetFileInOut \n",
    "from src.featureAlchemy.FeatureFinancialData import FeatureFinancialData\n"
   ]
  },
  {
   "cell_type": "code",
   "execution_count": 10,
   "metadata": {},
   "outputs": [
    {
     "data": {
      "text/html": [
       "<div><style>\n",
       ".dataframe > thead > tr,\n",
       ".dataframe > tbody > tr {\n",
       "  text-align: right;\n",
       "  white-space: pre-wrap;\n",
       "}\n",
       "</style>\n",
       "<small>shape: (5, 7)</small><table border=\"1\" class=\"dataframe\"><thead><tr><th>fiscalDateEnding</th><th>reportedDate</th><th>reportedEPS</th><th>estimatedEPS</th><th>surprise</th><th>surprisePercentage</th><th>reportTime</th></tr><tr><td>datetime[ns, UTC]</td><td>datetime[ns, UTC]</td><td>f64</td><td>f64</td><td>f64</td><td>f64</td><td>str</td></tr></thead><tbody><tr><td>2023-10-29&nbsp;00:00:00&nbsp;UTC</td><td>2023-11-21&nbsp;00:00:00&nbsp;UTC</td><td>0.402</td><td>0.336</td><td>0.066</td><td>19.6429</td><td>&quot;post-market&quot;</td></tr><tr><td>2024-01-28&nbsp;00:00:00&nbsp;UTC</td><td>2024-02-21&nbsp;00:00:00&nbsp;UTC</td><td>0.516</td><td>0.461</td><td>0.055</td><td>11.9306</td><td>&quot;post-market&quot;</td></tr><tr><td>2024-04-28&nbsp;00:00:00&nbsp;UTC</td><td>2024-05-22&nbsp;00:00:00&nbsp;UTC</td><td>0.612</td><td>0.559</td><td>0.053</td><td>9.4812</td><td>&quot;post-market&quot;</td></tr><tr><td>2024-07-28&nbsp;00:00:00&nbsp;UTC</td><td>2024-08-28&nbsp;00:00:00&nbsp;UTC</td><td>0.68</td><td>0.63</td><td>0.05</td><td>7.9365</td><td>&quot;post-market&quot;</td></tr><tr><td>2024-10-27&nbsp;00:00:00&nbsp;UTC</td><td>2024-11-20&nbsp;00:00:00&nbsp;UTC</td><td>0.81</td><td>0.74</td><td>0.07</td><td>9.4595</td><td>&quot;post-market&quot;</td></tr></tbody></table></div>"
      ],
      "text/plain": [
       "shape: (5, 7)\n",
       "┌──────────────┬──────────────┬─────────────┬──────────────┬──────────┬──────────────┬─────────────┐\n",
       "│ fiscalDateEn ┆ reportedDate ┆ reportedEPS ┆ estimatedEPS ┆ surprise ┆ surprisePerc ┆ reportTime  │\n",
       "│ ding         ┆ ---          ┆ ---         ┆ ---          ┆ ---      ┆ entage       ┆ ---         │\n",
       "│ ---          ┆ datetime[ns, ┆ f64         ┆ f64          ┆ f64      ┆ ---          ┆ str         │\n",
       "│ datetime[ns, ┆ UTC]         ┆             ┆              ┆          ┆ f64          ┆             │\n",
       "│ UTC]         ┆              ┆             ┆              ┆          ┆              ┆             │\n",
       "╞══════════════╪══════════════╪═════════════╪══════════════╪══════════╪══════════════╪═════════════╡\n",
       "│ 2023-10-29   ┆ 2023-11-21   ┆ 0.402       ┆ 0.336        ┆ 0.066    ┆ 19.6429      ┆ post-market │\n",
       "│ 00:00:00 UTC ┆ 00:00:00 UTC ┆             ┆              ┆          ┆              ┆             │\n",
       "│ 2024-01-28   ┆ 2024-02-21   ┆ 0.516       ┆ 0.461        ┆ 0.055    ┆ 11.9306      ┆ post-market │\n",
       "│ 00:00:00 UTC ┆ 00:00:00 UTC ┆             ┆              ┆          ┆              ┆             │\n",
       "│ 2024-04-28   ┆ 2024-05-22   ┆ 0.612       ┆ 0.559        ┆ 0.053    ┆ 9.4812       ┆ post-market │\n",
       "│ 00:00:00 UTC ┆ 00:00:00 UTC ┆             ┆              ┆          ┆              ┆             │\n",
       "│ 2024-07-28   ┆ 2024-08-28   ┆ 0.68        ┆ 0.63         ┆ 0.05     ┆ 7.9365       ┆ post-market │\n",
       "│ 00:00:00 UTC ┆ 00:00:00 UTC ┆             ┆              ┆          ┆              ┆             │\n",
       "│ 2024-10-27   ┆ 2024-11-20   ┆ 0.81        ┆ 0.74         ┆ 0.07     ┆ 9.4595       ┆ post-market │\n",
       "│ 00:00:00 UTC ┆ 00:00:00 UTC ┆             ┆              ┆          ┆              ┆             │\n",
       "└──────────────┴──────────────┴─────────────┴──────────────┴──────────┴──────────────┴─────────────┘"
      ]
     },
     "execution_count": 10,
     "metadata": {},
     "output_type": "execute_result"
    }
   ],
   "source": [
    "assets=AssetFileInOut(\"../src/stockGroups/bin\").loadDictFromFile(\"group_snp500_finanTo2011\")\n",
    "\n",
    "# Convert to Polars for speedup\n",
    "assetspl: Dict[str, AssetDataPolars] = {}\n",
    "for ticker, asset in assets.items():\n",
    "    assetspl[ticker] = AssetDataService.to_polars(asset)\n",
    "    \n",
    "ticker = \"NVDA\"\n",
    "asset = assetspl[ticker]\n",
    "asset.financials_quarterly.select([\"fiscalDateEnding\",\t\"reportedDate\",\t\"reportedEPS\",\t\"estimatedEPS\",\"surprise\",\t\"surprisePercentage\",\t\"reportTime\"]).tail(5)"
   ]
  },
  {
   "cell_type": "code",
   "execution_count": 9,
   "metadata": {},
   "outputs": [
    {
     "name": "stdout",
     "output_type": "stream",
     "text": [
      "1077\n",
      "819\n"
     ]
    },
    {
     "data": {
      "text/plain": [
       "array([    0.,     0.,     0.,   661.,   661.,   712.,     0.,   101.,\n",
       "          84.,    75.,   318.,   939.,    81.,   557., 11256.,    81.,\n",
       "       10616.,   529.,  2919.,   511.,  2820.,  4899., 11488.,   150.,\n",
       "          75.,   147.,  3710.,   112.,  1478.,   102.,   100.,    74.,\n",
       "         136.,   109.,   122.,   132.,   133.,  1906.,  5245.,   125.,\n",
       "         965.,  8346.,  1899.,  2835.,  3266.,  6476.,  6317.,  6540.,\n",
       "         314.,  5340.,   109.,   146.,  5972.,  8138.,  5827.,  1061.,\n",
       "         146.,  5233.,  1205.,  4234.,  6759.,   428.,   214.,  1838.,\n",
       "         109.,  7211.,   398.,   240.,   108.,   120.,   113.,  4880.,\n",
       "       14420.,  3450.,  2973.,   242.,   542.,  4801.,  4747.,  1481.,\n",
       "         524.,   130.,  5312.,  3849.,  3458., 14895.,  2356.,  2438.,\n",
       "       14592.,  9956.,  5757., 14384.,   831., 15034.,  5679., 14381.,\n",
       "          98.])"
      ]
     },
     "execution_count": 9,
     "metadata": {},
     "output_type": "execute_result"
    }
   ],
   "source": [
    "# assetspl[ticker].financials_quarterly is a dataframe with a date column \"fiscalDateEnding\". output the number of nan values in every column whose entries are in the year 2020\n",
    "nan_counts_dict = {}\n",
    "\n",
    "aCols = asset.financials_quarterly.columns\n",
    "n_arr = np.zeros(len(aCols))\n",
    "for ticker, asset in assetspl.items():\n",
    "    if asset.financials_quarterly.is_empty():\n",
    "        continue\n",
    "    if asset.financials_quarterly[\"reportedEPS\"].null_count() > 0:\n",
    "        continue\n",
    "    nan_counts_dict[ticker] = asset.financials_quarterly.filter(\n",
    "        (asset.financials_quarterly[\"fiscalDateEnding\"].dt.year() > 2019)\n",
    "        ).null_count()\n",
    "    n_arr += nan_counts_dict[ticker].row(0)\n",
    "\n",
    "print(len(assetspl.keys()))\n",
    "print(len(nan_counts_dict.keys()))\n",
    "n_arr"
   ]
  },
  {
   "cell_type": "code",
   "execution_count": 6,
   "metadata": {},
   "outputs": [
    {
     "data": {
      "text/plain": [
       "['fiscalDateEnding',\n",
       " 'reportedDate',\n",
       " 'reportedEPS',\n",
       " 'estimatedEPS',\n",
       " 'surprise',\n",
       " 'surprisePercentage',\n",
       " 'reportTime',\n",
       " 'reportedCurrency_x',\n",
       " 'grossProfit',\n",
       " 'totalRevenue',\n",
       " 'costOfRevenue',\n",
       " 'costofGoodsAndServicesSold',\n",
       " 'operatingIncome',\n",
       " 'sellingGeneralAndAdministrative',\n",
       " 'researchAndDevelopment',\n",
       " 'operatingExpenses',\n",
       " 'investmentIncomeNet',\n",
       " 'netInterestIncome',\n",
       " 'interestIncome',\n",
       " 'interestExpense',\n",
       " 'nonInterestIncome',\n",
       " 'otherNonOperatingIncome',\n",
       " 'depreciation',\n",
       " 'depreciationAndAmortization',\n",
       " 'incomeBeforeTax',\n",
       " 'incomeTaxExpense',\n",
       " 'interestAndDebtExpense',\n",
       " 'netIncomeFromContinuingOperations',\n",
       " 'comprehensiveIncomeNetOfTax',\n",
       " 'ebit',\n",
       " 'ebitda',\n",
       " 'netIncome_x',\n",
       " 'reportedCurrency_y',\n",
       " 'totalAssets',\n",
       " 'totalCurrentAssets',\n",
       " 'cashAndCashEquivalentsAtCarryingValue',\n",
       " 'cashAndShortTermInvestments',\n",
       " 'inventory',\n",
       " 'currentNetReceivables',\n",
       " 'totalNonCurrentAssets',\n",
       " 'propertyPlantEquipment',\n",
       " 'accumulatedDepreciationAmortizationPPE',\n",
       " 'intangibleAssets',\n",
       " 'intangibleAssetsExcludingGoodwill',\n",
       " 'goodwill',\n",
       " 'investments',\n",
       " 'longTermInvestments',\n",
       " 'shortTermInvestments',\n",
       " 'otherCurrentAssets',\n",
       " 'otherNonCurrentAssets',\n",
       " 'totalLiabilities',\n",
       " 'totalCurrentLiabilities',\n",
       " 'currentAccountsPayable',\n",
       " 'deferredRevenue',\n",
       " 'currentDebt',\n",
       " 'shortTermDebt',\n",
       " 'totalNonCurrentLiabilities',\n",
       " 'capitalLeaseObligations',\n",
       " 'longTermDebt',\n",
       " 'currentLongTermDebt',\n",
       " 'longTermDebtNoncurrent',\n",
       " 'shortLongTermDebtTotal',\n",
       " 'otherCurrentLiabilities',\n",
       " 'otherNonCurrentLiabilities',\n",
       " 'totalShareholderEquity',\n",
       " 'treasuryStock',\n",
       " 'retainedEarnings',\n",
       " 'commonStock',\n",
       " 'commonStockSharesOutstanding',\n",
       " 'reportedCurrency',\n",
       " 'operatingCashflow',\n",
       " 'paymentsForOperatingActivities',\n",
       " 'proceedsFromOperatingActivities',\n",
       " 'changeInOperatingLiabilities',\n",
       " 'changeInOperatingAssets',\n",
       " 'depreciationDepletionAndAmortization',\n",
       " 'capitalExpenditures',\n",
       " 'changeInReceivables',\n",
       " 'changeInInventory',\n",
       " 'profitLoss',\n",
       " 'cashflowFromInvestment',\n",
       " 'cashflowFromFinancing',\n",
       " 'proceedsFromRepaymentsOfShortTermDebt',\n",
       " 'paymentsForRepurchaseOfCommonStock',\n",
       " 'paymentsForRepurchaseOfEquity',\n",
       " 'paymentsForRepurchaseOfPreferredStock',\n",
       " 'dividendPayout',\n",
       " 'dividendPayoutCommonStock',\n",
       " 'dividendPayoutPreferredStock',\n",
       " 'proceedsFromIssuanceOfCommonStock',\n",
       " 'proceedsFromIssuanceOfLongTermDebtAndCapitalSecuritiesNet',\n",
       " 'proceedsFromIssuanceOfPreferredStock',\n",
       " 'proceedsFromRepurchaseOfEquity',\n",
       " 'proceedsFromSaleOfTreasuryStock',\n",
       " 'changeInCashAndCashEquivalents',\n",
       " 'changeInExchangeRate',\n",
       " 'netIncome_y']"
      ]
     },
     "execution_count": 6,
     "metadata": {},
     "output_type": "execute_result"
    }
   ],
   "source": [
    "aCols"
   ]
  },
  {
   "cell_type": "code",
   "execution_count": 4,
   "metadata": {},
   "outputs": [
    {
     "name": "stdout",
     "output_type": "stream",
     "text": [
      "UTC\n",
      "UTC\n",
      "['fiscalDateEnding', 'reportedDate', 'reportedEPS', 'estimatedEPS', 'surprise', 'surprisePercentage', 'reportTime', 'reportedCurrency_x', 'grossProfit', 'totalRevenue', 'costOfRevenue', 'costofGoodsAndServicesSold', 'operatingIncome', 'sellingGeneralAndAdministrative', 'researchAndDevelopment', 'operatingExpenses', 'investmentIncomeNet', 'netInterestIncome', 'interestIncome', 'interestExpense', 'nonInterestIncome', 'otherNonOperatingIncome', 'depreciation', 'depreciationAndAmortization', 'incomeBeforeTax', 'incomeTaxExpense', 'interestAndDebtExpense', 'netIncomeFromContinuingOperations', 'comprehensiveIncomeNetOfTax', 'ebit', 'ebitda', 'netIncome_x', 'reportedCurrency_y', 'totalAssets', 'totalCurrentAssets', 'cashAndCashEquivalentsAtCarryingValue', 'cashAndShortTermInvestments', 'inventory', 'currentNetReceivables', 'totalNonCurrentAssets', 'propertyPlantEquipment', 'accumulatedDepreciationAmortizationPPE', 'intangibleAssets', 'intangibleAssetsExcludingGoodwill', 'goodwill', 'investments', 'longTermInvestments', 'shortTermInvestments', 'otherCurrentAssets', 'otherNonCurrentAssets', 'totalLiabilities', 'totalCurrentLiabilities', 'currentAccountsPayable', 'deferredRevenue', 'currentDebt', 'shortTermDebt', 'totalNonCurrentLiabilities', 'capitalLeaseObligations', 'longTermDebt', 'currentLongTermDebt', 'longTermDebtNoncurrent', 'shortLongTermDebtTotal', 'otherCurrentLiabilities', 'otherNonCurrentLiabilities', 'totalShareholderEquity', 'treasuryStock', 'retainedEarnings', 'commonStock', 'commonStockSharesOutstanding', 'reportedCurrency', 'operatingCashflow', 'paymentsForOperatingActivities', 'proceedsFromOperatingActivities', 'changeInOperatingLiabilities', 'changeInOperatingAssets', 'depreciationDepletionAndAmortization', 'capitalExpenditures', 'changeInReceivables', 'changeInInventory', 'profitLoss', 'cashflowFromInvestment', 'cashflowFromFinancing', 'proceedsFromRepaymentsOfShortTermDebt', 'paymentsForRepurchaseOfCommonStock', 'paymentsForRepurchaseOfEquity', 'paymentsForRepurchaseOfPreferredStock', 'dividendPayout', 'dividendPayoutCommonStock', 'dividendPayoutPreferredStock', 'proceedsFromIssuanceOfCommonStock', 'proceedsFromIssuanceOfLongTermDebtAndCapitalSecuritiesNet', 'proceedsFromIssuanceOfPreferredStock', 'proceedsFromRepurchaseOfEquity', 'proceedsFromSaleOfTreasuryStock', 'changeInCashAndCashEquivalents', 'changeInExchangeRate', 'netIncome_y']\n",
      "['Date', 'Open', 'High', 'Low', 'Close', 'Adj Close', 'Volume', 'q_idx', 'reportedEPS', 'estimatedEPS', 'reportedDate', 'a_idx', 'log_trailing_pe_ratio', 'log_forward_pe_ratio', 'daysToReport', 'log_trailing_pe_ratio_lag_m1', 'log_forward_pe_ratio_lag_m1', 'daysToReport_lag_m1', 'log_trailing_pe_ratio_lagquot_m1', 'log_forward_pe_ratio_lagquot_m1', 'log_trailing_pe_ratio_lag_m2', 'log_forward_pe_ratio_lag_m2', 'daysToReport_lag_m2', 'log_trailing_pe_ratio_lagquot_m2', 'log_forward_pe_ratio_lagquot_m2', 'log_trailing_pe_ratio_lag_m3', 'log_forward_pe_ratio_lag_m3', 'daysToReport_lag_m3', 'log_trailing_pe_ratio_lagquot_m3', 'log_forward_pe_ratio_lagquot_m3', 'log_trailing_pe_ratio_lag_m5', 'log_forward_pe_ratio_lag_m5', 'daysToReport_lag_m5', 'log_trailing_pe_ratio_lagquot_m5', 'log_forward_pe_ratio_lagquot_m5', 'log_trailing_pe_ratio_lag_m9', 'log_forward_pe_ratio_lag_m9', 'daysToReport_lag_m9', 'log_trailing_pe_ratio_lagquot_m9', 'log_forward_pe_ratio_lagquot_m9']\n"
     ]
    }
   ],
   "source": [
    "fin_quar = asset.financials_quarterly\n",
    "fin_ann = asset.financials_annually\n",
    "asset.shareprice = asset.shareprice.with_columns(\n",
    "    pl.col(\"Date\").dt.replace_time_zone(\"UTC\").alias(\"Date\")\n",
    ")\n",
    "\n",
    "print((asset.shareprice[\"Date\"].item(-1).tzinfo))\n",
    "print(fin_quar[\"fiscalDateEnding\"].item(-1).tzinfo)\n",
    "print(fin_quar.columns)\n",
    "ffd = FeatureFinancialData(asset, [1,2,3,5,9])\n",
    "print(asset.shareprice.columns)\n",
    "asShare = asset.shareprice\n",
    "finQuar = ffd.fin_quar.select(\"reportedEPS\")"
   ]
  },
  {
   "cell_type": "code",
   "execution_count": 5,
   "metadata": {},
   "outputs": [
    {
     "data": {
      "text/plain": [
       "0.0"
      ]
     },
     "execution_count": 5,
     "metadata": {},
     "output_type": "execute_result"
    }
   ],
   "source": [
    "asShare[\"daysToReport\"].item(2000)"
   ]
  },
  {
   "cell_type": "code",
   "execution_count": 6,
   "metadata": {},
   "outputs": [],
   "source": [
    "featureNames = ffd.getFeatureNames()\n",
    "features = ffd.apply(pd.Timestamp(2020, 1, 1, tz = \"UTC\"), 1)"
   ]
  },
  {
   "cell_type": "code",
   "execution_count": 17,
   "metadata": {},
   "outputs": [
    {
     "name": "stdout",
     "output_type": "stream",
     "text": [
      "col: fiscalDateEnding   item: 2024-10-27 00:00:00+00:00\n",
      "col: reportedDate   item: 2024-11-20 00:00:00+00:00\n",
      "col: reportedEPS   item: 2.308876346844536e-11\n",
      "col: estimatedEPS   item: 2.109343823043156e-11\n",
      "col: surprise   item: 1.9953252380137965e-12\n",
      "col: surprisePercentage   item: 2.6963970127130724e-10\n",
      "col: reportTime   item: post-market\n",
      "col: reportedCurrency_x   item: USD\n",
      "col: grossProfit   item: 0.7455675275069836\n",
      "col: totalRevenue   item: 35082000000.0\n",
      "col: costOfRevenue   item: 0.25443247249301637\n",
      "col: costofGoodsAndServicesSold   item: 0.009178496094863462\n",
      "col: operatingIncome   item: 0.6233681090017673\n",
      "col: sellingGeneralAndAdministrative   item: 0.025568667692833932\n",
      "col: researchAndDevelopment   item: 0.09663075081238241\n",
      "col: operatingExpenses   item: 0.12219941850521635\n",
      "col: investmentIncomeNet   item: 0.013454193033464455\n",
      "col: netInterestIncome   item: 0.011715409611766718\n",
      "col: interestIncome   item: 0.013454193033464455\n",
      "col: interestExpense   item: 0.0017387834216977367\n",
      "col: nonInterestIncome   item: None\n",
      "col: otherNonOperatingIncome   item: 0.001026167265264238\n",
      "col: depreciation   item: None\n",
      "col: depreciationAndAmortization   item: 0.004247192292343652\n",
      "col: incomeBeforeTax   item: 0.6361096858787982\n",
      "col: incomeTaxExpense   item: 0.08571347129582121\n",
      "col: interestAndDebtExpense   item: 0.0017387834216977367\n",
      "col: netIncomeFromContinuingOperations   item: 0.550396214582977\n",
      "col: comprehensiveIncomeNetOfTax   item: 0.551735932957072\n",
      "col: ebit   item: 0.6233681090017673\n",
      "col: ebitda   item: 0.6276153012941109\n",
      "col: netIncome_x   item: 0.550396214582977\n",
      "col: reportedCurrency_y   item: USD\n",
      "col: totalAssets   item: 2.7368166011059802\n",
      "col: totalCurrentAssets   item: 1.928054272846474\n",
      "col: cashAndCashEquivalentsAtCarryingValue   item: 0.2595918134655949\n",
      "col: cashAndShortTermInvestments   item: 1.0970583205062425\n",
      "col: inventory   item: 0.21817456245367994\n",
      "col: currentNetReceivables   item: 0.5043327062311157\n",
      "col: totalNonCurrentAssets   item: 0.8887178610113449\n",
      "col: propertyPlantEquipment   item: 0.15230032495296733\n",
      "col: accumulatedDepreciationAmortizationPPE   item: None\n",
      "col: intangibleAssets   item: 0.1585428424833248\n",
      "col: intangibleAssetsExcludingGoodwill   item: 0.023886893563650875\n",
      "col: goodwill   item: 0.13465594891967392\n",
      "col: investments   item: 1.9150846587993844\n",
      "col: longTermInvestments   item: 0.06376489367766947\n",
      "col: shortTermInvestments   item: 0.8374665070406476\n",
      "col: otherCurrentAssets   item: 0.10848868365543583\n",
      "col: otherNonCurrentAssets   item: 0.1549797617011573\n",
      "col: totalLiabilities   item: 0.8583889173935352\n",
      "col: totalCurrentLiabilities   item: 0.469728065674705\n",
      "col: currentAccountsPayable   item: 0.15258537141554074\n",
      "col: deferredRevenue   item: 0.09035972863576763\n",
      "col: currentDebt   item: 0.0\n",
      "col: shortTermDebt   item: 0.007781768428253805\n",
      "col: totalNonCurrentLiabilities   item: 0.4903654295650191\n",
      "col: capitalLeaseObligations   item: 0.050253691351690326\n",
      "col: longTermDebt   item: 0.24120631662961062\n",
      "col: currentLongTermDebt   item: 0.0\n",
      "col: longTermDebtNoncurrent   item: 0.24120631662961062\n",
      "col: shortLongTermDebtTotal   item: 0.24120631662961062\n",
      "col: otherCurrentLiabilities   item: 0.27849039393421127\n",
      "col: otherNonCurrentLiabilities   item: 0.10498261216578303\n",
      "col: totalShareholderEquity   item: 1.8784276837124452\n",
      "col: treasuryStock   item: None\n",
      "col: retainedEarnings   item: 1.53782566558349\n",
      "col: commonStock   item: 0.0007126161564334987\n",
      "col: commonStockSharesOutstanding   item: 0.6993044866313209\n",
      "col: reportedCurrency   item: USD\n",
      "col: operatingCashflow   item: 0.5024513995781312\n",
      "col: paymentsForOperatingActivities   item: 0.002308876346844536\n",
      "col: proceedsFromOperatingActivities   item: None\n",
      "col: changeInOperatingLiabilities   item: 0.055698078786842256\n",
      "col: changeInOperatingAssets   item: 0.1497064021435494\n",
      "col: depreciationDepletionAndAmortization   item: 0.013625220911008495\n",
      "col: capitalExpenditures   item: 0.023174277407217378\n",
      "col: changeInReceivables   item: 0.10150504532238755\n",
      "col: changeInInventory   item: 0.027849039393421128\n",
      "col: profitLoss   item: 0.550396214582977\n",
      "col: cashflowFromInvestment   item: -0.12388119263439941\n",
      "col: cashflowFromFinancing   item: -0.36329171654979764\n",
      "col: proceedsFromRepaymentsOfShortTermDebt   item: None\n",
      "col: paymentsForRepurchaseOfCommonStock   item: 0.3134655948919674\n",
      "col: paymentsForRepurchaseOfEquity   item: 0.3134655948919674\n",
      "col: paymentsForRepurchaseOfPreferredStock   item: None\n",
      "col: dividendPayout   item: 0.006983638333048287\n",
      "col: dividendPayoutCommonStock   item: 0.006983638333048287\n",
      "col: dividendPayoutPreferredStock   item: None\n",
      "col: proceedsFromIssuanceOfCommonStock   item: None\n",
      "col: proceedsFromIssuanceOfLongTermDebtAndCapitalSecuritiesNet   item: None\n",
      "col: proceedsFromIssuanceOfPreferredStock   item: None\n",
      "col: proceedsFromRepurchaseOfEquity   item: -0.30765064705547\n",
      "col: proceedsFromSaleOfTreasuryStock   item: None\n",
      "col: changeInCashAndCashEquivalents   item: None\n",
      "col: changeInExchangeRate   item: None\n",
      "col: netIncome_y   item: 0.550396214582977\n"
     ]
    }
   ],
   "source": [
    "finPerDay = asset.shareprice.select(['Date', 'Close']) \n",
    "#add utc to every entry in the Date column\n",
    "print(type(finPerDay))\n",
    "finPerDay = finPerDay.with_columns(\n",
    "    pl.col(\"Date\").dt.replace_time_zone(\"UTC\")\n",
    ")\n",
    "\n",
    "fin_quar = fin_quar.with_columns(\n",
    "    [\n",
    "        (pl.col(col) / pl.col(\"totalRevenue\")).alias(col)\n",
    "        for col in fin_quar.columns\n",
    "        if fin_quar[col].dtype.is_numeric() and col != \"totalRevenue\"\n",
    "    ]\n",
    ")\n",
    "\n",
    "for col in fin_quar.columns:\n",
    "    print(f\"col: {col}   item: {fin_quar[col].tail(1).item()}\")"
   ]
  },
  {
   "cell_type": "code",
   "execution_count": 24,
   "metadata": {},
   "outputs": [],
   "source": [
    "fin_quar2 = fin_quar.rename({\"fiscalDateEnding\": \"Date\"})\n",
    "fin_ann2 = fin_ann.rename({\"fiscalDateEnding\": \"Date\"})\n",
    "# Perform asof joins to attach the closest (earlier) quarterly & annual rows\n",
    "finPerDay = (\n",
    "    finPerDay\n",
    "    .join_asof(fin_quar2, on=\"Date\", strategy=\"backward\", suffix=\"_quar\")\n",
    "    .join_asof(fin_ann2, on=\"Date\", strategy=\"backward\", suffix=\"_ann\")\n",
    ")"
   ]
  },
  {
   "cell_type": "code",
   "execution_count": null,
   "metadata": {},
   "outputs": [],
   "source": [
    "print(type(fin_quar[\"nonInterestIncome\"].item(56)))\n",
    "for col in fin_quar.columns:\n",
    "        dtype = fin_quar[col].dtype\n",
    "        # Check if the column is numeric\n",
    "        if  dtype == fin_quar['nonInterestIncome'].dtype:\n",
    "            min_val = fin_quar[col].min()\n",
    "            max_val = fin_quar[col].max()\n",
    "            print(f\"{col} \\n    Type: {dtype}, Min: {min_val}, Max: {max_val}\")\n",
    "        else:\n",
    "            print(f\"{col} \\n    Type: {dtype}\")"
   ]
  }
 ],
 "metadata": {
  "kernelspec": {
   "display_name": ".venv",
   "language": "python",
   "name": "python3"
  },
  "language_info": {
   "codemirror_mode": {
    "name": "ipython",
    "version": 3
   },
   "file_extension": ".py",
   "mimetype": "text/x-python",
   "name": "python",
   "nbconvert_exporter": "python",
   "pygments_lexer": "ipython3",
   "version": "3.12.8"
  }
 },
 "nbformat": 4,
 "nbformat_minor": 2
}
