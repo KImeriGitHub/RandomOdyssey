{
 "cells": [
  {
   "cell_type": "code",
   "execution_count": 41,
   "metadata": {},
   "outputs": [],
   "source": [
    "import sys\n",
    "import os\n",
    "\n",
    "# Get the absolute path to the project directory\n",
    "project_dir = os.path.abspath(\"..\")\n",
    "\n",
    "# Append the project directory to sys.path\n",
    "if project_dir not in sys.path:\n",
    "    sys.path.append(project_dir)"
   ]
  },
  {
   "cell_type": "code",
   "execution_count": 42,
   "metadata": {},
   "outputs": [],
   "source": [
    "import sys\n",
    "import os\n",
    "\n",
    "# Get the absolute path to the project directory\n",
    "project_dir = os.path.abspath(\"..\")\n",
    "\n",
    "# Append the project directory to sys.path\n",
    "if project_dir not in sys.path:\n",
    "    sys.path.append(project_dir)\n",
    "\n",
    "import yfinance as yf\n",
    "import pandas as pd\n",
    "import datetime as dt\n",
    "import matplotlib.pyplot as plt\n",
    "import warnings\n",
    "from dataclasses import asdict, is_dataclass, dataclass\n",
    "import os\n",
    "import json\n",
    "import pickle\n",
    "from pandas.api.types import is_datetime64_any_dtype\n",
    "import numpy as np\n",
    "from typing import Dict\n",
    "import polars as pl\n",
    "\n",
    "from src.common.AssetData import AssetData\n",
    "from src.common.AssetDataPolars import AssetDataPolars\n",
    "from src.common.AssetDataService import AssetDataService\n",
    "from src.common.AssetFileInOut import AssetFileInOut \n",
    "from src.databaseService.OutsourceLoader import OutsourceLoader\n",
    "\n",
    "from src.simulation.SimulatePortfolio import SimulatePortfolio\n",
    "from src.strategy.StratBuyAndHold import StratBuyAndHold\n",
    "from src.simulation.ResultAnalyzer import ResultAnalyzer\n",
    "from src.common.AssetFileInOut import AssetFileInOut\n",
    "from src.mathTools.CurveAnalysis import CurveAnalysis\n",
    "from src.predictionModule.FourierML import FourierML\n",
    "from src.common.YamlTickerInOut import YamlTickerInOut\n",
    "from src.common.DataFrameTimeOperations import DataFrameTimeOperationsPandas as DFTO\n"
   ]
  },
  {
   "cell_type": "code",
   "execution_count": 43,
   "metadata": {},
   "outputs": [],
   "source": [
    "assets=AssetFileInOut(\"../src/stockGroups/bin\").loadDictFromFile(\"group_snp500_over20years\")\n",
    "\n",
    "# Convert to Polars for speedup\n",
    "assetspl: Dict[str, AssetDataPolars] = {}\n",
    "for ticker, asset in assets.items():\n",
    "    assetspl[ticker] = AssetDataService.to_polars(asset)"
   ]
  },
  {
   "cell_type": "code",
   "execution_count": 44,
   "metadata": {},
   "outputs": [
    {
     "name": "stdout",
     "output_type": "stream",
     "text": [
      "<class 'str'>\n"
     ]
    },
    {
     "data": {
      "text/plain": [
       "['fiscalDateEnding',\n",
       " 'reportedEPS',\n",
       " 'reportedCurrency',\n",
       " 'grossProfit',\n",
       " 'totalRevenue',\n",
       " 'costOfRevenue',\n",
       " 'costofGoodsAndServicesSold',\n",
       " 'operatingIncome',\n",
       " 'sellingGeneralAndAdministrative',\n",
       " 'researchAndDevelopment',\n",
       " 'operatingExpenses',\n",
       " 'investmentIncomeNet',\n",
       " 'netInterestIncome',\n",
       " 'interestIncome',\n",
       " 'interestExpense',\n",
       " 'nonInterestIncome',\n",
       " 'otherNonOperatingIncome',\n",
       " 'depreciation',\n",
       " 'depreciationAndAmortization',\n",
       " 'incomeBeforeTax',\n",
       " 'incomeTaxExpense',\n",
       " 'interestAndDebtExpense',\n",
       " 'netIncomeFromContinuingOperations',\n",
       " 'comprehensiveIncomeNetOfTax',\n",
       " 'ebit',\n",
       " 'ebitda',\n",
       " 'netIncome']"
      ]
     },
     "execution_count": 44,
     "metadata": {},
     "output_type": "execute_result"
    }
   ],
   "source": [
    "asset = assetspl[\"MSFT\"]\n",
    "\n",
    "fin_quart = asset.financials_quarterly\n",
    "fin_ann = asset.financials_annually\n",
    "print(type(fin_quart[\"nonInterestIncome\"].item(56)))\n",
    "fin_ann.columns"
   ]
  },
  {
   "cell_type": "code",
   "execution_count": 36,
   "metadata": {},
   "outputs": [],
   "source": [
    "\n",
    "# Convert all string columns to float, with errors resulting in null (NaN)\n",
    "fin_ann = fin_ann.with_columns(\n",
    "    [\n",
    "        pl.col(col).cast(pl.Float64, strict=False)\n",
    "        for col in fin_ann.columns\n",
    "        if fin_ann[col].dtype == pl.Utf8\n",
    "    ]\n",
    ")\n",
    "\n",
    "fin_quart = fin_quart.with_columns(\n",
    "    [\n",
    "        pl.col(col).cast(pl.Float64, strict=False)\n",
    "        for col in fin_quart.columns\n",
    "        if fin_quart[col].dtype == pl.Utf8\n",
    "    ]\n",
    ")"
   ]
  },
  {
   "cell_type": "code",
   "execution_count": 37,
   "metadata": {},
   "outputs": [],
   "source": [
    "# Divide all numeric columns by \"totalRevenue\", handling missing values safely\n",
    "fin_ann = fin_ann.with_columns(\n",
    "    [\n",
    "        (pl.col(col) / pl.col(\"totalRevenue\")).alias(col)\n",
    "        for col in fin_ann.columns\n",
    "        if fin_ann[col].dtype.is_numeric() and col != \"totalRevenue\"\n",
    "    ]\n",
    ")\n",
    "\n",
    "fin_quart = fin_quart.with_columns(\n",
    "    [\n",
    "        (pl.col(col) / pl.col(\"totalRevenue\")).alias(col)\n",
    "        for col in fin_quart.columns\n",
    "        if fin_quart[col].dtype.is_numeric() and col != \"totalRevenue\"\n",
    "    ]\n",
    ")"
   ]
  },
  {
   "cell_type": "code",
   "execution_count": 38,
   "metadata": {},
   "outputs": [
    {
     "name": "stdout",
     "output_type": "stream",
     "text": [
      "fiscalDateEnding: Datetime(time_unit='ns', time_zone='UTC')\n",
      "reportedEPS: Float64\n",
      "reportedCurrency: Float64\n",
      "grossProfit: Float64\n",
      "totalRevenue: Float64\n",
      "costOfRevenue: Float64\n",
      "costofGoodsAndServicesSold: Float64\n",
      "operatingIncome: Float64\n",
      "sellingGeneralAndAdministrative: Float64\n",
      "researchAndDevelopment: Float64\n",
      "operatingExpenses: Float64\n",
      "investmentIncomeNet: Float64\n",
      "netInterestIncome: Float64\n",
      "interestIncome: Float64\n",
      "interestExpense: Float64\n",
      "nonInterestIncome: Float64\n",
      "otherNonOperatingIncome: Float64\n",
      "depreciation: Float64\n",
      "depreciationAndAmortization: Float64\n",
      "incomeBeforeTax: Float64\n",
      "incomeTaxExpense: Float64\n",
      "interestAndDebtExpense: Float64\n",
      "netIncomeFromContinuingOperations: Float64\n",
      "comprehensiveIncomeNetOfTax: Float64\n",
      "ebit: Float64\n",
      "ebitda: Float64\n",
      "netIncome: Float64\n"
     ]
    }
   ],
   "source": [
    "for col, dtype in fin_ann.schema.items():\n",
    "    print(f\"{col}: {dtype}\")"
   ]
  },
  {
   "cell_type": "code",
   "execution_count": 39,
   "metadata": {},
   "outputs": [
    {
     "name": "stdout",
     "output_type": "stream",
     "text": [
      "<class 'datetime.datetime'>\n",
      "<class 'datetime.datetime'>\n",
      "<class 'datetime.datetime'>\n"
     ]
    }
   ],
   "source": [
    "a = fin_ann[\"fiscalDateEnding\"].item(-1)\n",
    "print(type(a))\n",
    "\n",
    "fin_ann.with_columns(fin_ann[\"fiscalDateEnding\"].map_elements(lambda x: pd.Timestamp(x), return_dtype=pd.Timestamp))\n",
    "\n",
    "a = fin_ann[\"fiscalDateEnding\"].item(-1)\n",
    "print(type(a))\n",
    "\n",
    "a = fin_quart[\"reportedDate\"].item(-1)\n",
    "print(type(a))"
   ]
  },
  {
   "cell_type": "code",
   "execution_count": 40,
   "metadata": {},
   "outputs": [],
   "source": [
    "fin_quart = fin_quart.with_columns(\n",
    "        (pl.col(\"surprisePercentage\") / 1000.0).alias(\"surprisePercentage\")\n",
    ")"
   ]
  }
 ],
 "metadata": {
  "kernelspec": {
   "display_name": ".venv",
   "language": "python",
   "name": "python3"
  },
  "language_info": {
   "codemirror_mode": {
    "name": "ipython",
    "version": 3
   },
   "file_extension": ".py",
   "mimetype": "text/x-python",
   "name": "python",
   "nbconvert_exporter": "python",
   "pygments_lexer": "ipython3",
   "version": "3.12.8"
  }
 },
 "nbformat": 4,
 "nbformat_minor": 2
}
