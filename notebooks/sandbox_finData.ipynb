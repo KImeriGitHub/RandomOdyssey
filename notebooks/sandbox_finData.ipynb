{
 "cells": [
  {
   "cell_type": "code",
   "execution_count": 10,
   "metadata": {},
   "outputs": [],
   "source": [
    "import sys\n",
    "import os\n",
    "\n",
    "# Get the absolute path to the project directory\n",
    "project_dir = os.path.abspath(\"..\")\n",
    "\n",
    "# Append the project directory to sys.path\n",
    "if project_dir not in sys.path:\n",
    "    sys.path.append(project_dir)"
   ]
  },
  {
   "cell_type": "code",
   "execution_count": 11,
   "metadata": {},
   "outputs": [],
   "source": [
    "import sys\n",
    "import os\n",
    "\n",
    "# Get the absolute path to the project directory\n",
    "project_dir = os.path.abspath(\"..\")\n",
    "\n",
    "# Append the project directory to sys.path\n",
    "if project_dir not in sys.path:\n",
    "    sys.path.append(project_dir)\n",
    "\n",
    "import yfinance as yf\n",
    "import pandas as pd\n",
    "import datetime as dt\n",
    "import matplotlib.pyplot as plt\n",
    "import warnings\n",
    "from dataclasses import asdict, is_dataclass, dataclass\n",
    "import os\n",
    "import json\n",
    "import pickle\n",
    "from pandas.api.types import is_datetime64_any_dtype\n",
    "import numpy as np\n",
    "from typing import Dict\n",
    "import polars as pl\n",
    "\n",
    "from src.common.AssetData import AssetData\n",
    "from src.common.AssetDataPolars import AssetDataPolars\n",
    "from src.common.AssetDataService import AssetDataService\n",
    "from src.common.AssetFileInOut import AssetFileInOut \n",
    "from src.databaseService.OutsourceLoader import OutsourceLoader\n",
    "\n",
    "from src.simulation.SimulatePortfolio import SimulatePortfolio\n",
    "from src.strategy.StratBuyAndHold import StratBuyAndHold\n",
    "from src.simulation.ResultAnalyzer import ResultAnalyzer\n",
    "from src.common.AssetFileInOut import AssetFileInOut\n",
    "from src.mathTools.CurveAnalysis import CurveAnalysis\n",
    "from src.predictionModule.FourierML import FourierML\n",
    "from src.common.YamlTickerInOut import YamlTickerInOut\n",
    "from src.common.DataFrameTimeOperations import DataFrameTimeOperationsPandas as DFTO\n"
   ]
  },
  {
   "cell_type": "code",
   "execution_count": 18,
   "metadata": {},
   "outputs": [],
   "source": [
    "assets=AssetFileInOut(\"../src/stockGroups/bin\").loadDictFromFile(\"group_snp500_over20years\")\n",
    "\n",
    "# Convert to Polars for speedup\n",
    "assetspl: Dict[str, AssetDataPolars] = {}\n",
    "for ticker, asset in assets.items():\n",
    "    assetspl[ticker] = AssetDataService.to_polars(asset)"
   ]
  },
  {
   "cell_type": "code",
   "execution_count": 23,
   "metadata": {},
   "outputs": [
    {
     "name": "stdout",
     "output_type": "stream",
     "text": [
      "<class 'polars.dataframe.frame.DataFrame'>\n"
     ]
    }
   ],
   "source": [
    "asset = assetspl[\"NVDA\"]\n",
    "\n",
    "fin_quar = asset.financials_quarterly\n",
    "fin_ann = asset.financials_annually   \n",
    "\n",
    "finPerDay = asset.shareprice.select(['Date', 'Close']) \n",
    "#add utc to every entry in the Date column\n",
    "print(type(finPerDay))\n",
    "finPerDay = finPerDay.with_columns(\n",
    "    pl.col(\"Date\").dt.replace_time_zone(\"UTC\")\n",
    ")"
   ]
  },
  {
   "cell_type": "code",
   "execution_count": 24,
   "metadata": {},
   "outputs": [],
   "source": [
    "fin_quar2 = fin_quar.rename({\"fiscalDateEnding\": \"Date\"})\n",
    "fin_ann2 = fin_ann.rename({\"fiscalDateEnding\": \"Date\"})\n",
    "# Perform asof joins to attach the closest (earlier) quarterly & annual rows\n",
    "finPerDay = (\n",
    "    finPerDay\n",
    "    .join_asof(fin_quar2, on=\"Date\", strategy=\"backward\", suffix=\"_quar\")\n",
    "    .join_asof(fin_ann2, on=\"Date\", strategy=\"backward\", suffix=\"_ann\")\n",
    ")"
   ]
  },
  {
   "cell_type": "code",
   "execution_count": null,
   "metadata": {},
   "outputs": [],
   "source": [
    "print(type(fin_quar[\"nonInterestIncome\"].item(56)))\n",
    "for col in fin_quar.columns:\n",
    "        dtype = fin_quar[col].dtype\n",
    "        # Check if the column is numeric\n",
    "        if  dtype == fin_quar['nonInterestIncome'].dtype:\n",
    "            min_val = fin_quar[col].min()\n",
    "            max_val = fin_quar[col].max()\n",
    "            print(f\"{col} \\n    Type: {dtype}, Min: {min_val}, Max: {max_val}\")\n",
    "        else:\n",
    "            print(f\"{col} \\n    Type: {dtype}\")"
   ]
  },
  {
   "cell_type": "code",
   "execution_count": 5,
   "metadata": {},
   "outputs": [],
   "source": [
    "\n",
    "# Convert all string columns to float, with errors resulting in null (NaN)\n",
    "fin_ann = fin_ann.with_columns(\n",
    "    [\n",
    "        pl.col(col).cast(pl.Float64, strict=False)\n",
    "        for col in fin_ann.columns\n",
    "        if fin_ann[col].dtype == pl.Utf8\n",
    "    ]\n",
    ")\n",
    "\n",
    "fin_quart = fin_quart.with_columns(\n",
    "    [\n",
    "        pl.col(col).cast(pl.Float64, strict=False)\n",
    "        for col in fin_quart.columns\n",
    "        if fin_quart[col].dtype == pl.Utf8\n",
    "    ]\n",
    ")"
   ]
  },
  {
   "cell_type": "code",
   "execution_count": 6,
   "metadata": {},
   "outputs": [],
   "source": [
    "# Divide all numeric columns by \"totalRevenue\", handling missing values safely\n",
    "fin_ann = fin_ann.with_columns(\n",
    "    [\n",
    "        (pl.col(col) / pl.col(\"totalRevenue\")).alias(col)\n",
    "        for col in fin_ann.columns\n",
    "        if fin_ann[col].dtype.is_numeric() and col != \"totalRevenue\"\n",
    "    ]\n",
    ")\n",
    "\n",
    "fin_quart = fin_quart.with_columns(\n",
    "    [\n",
    "        (pl.col(col) / pl.col(\"totalRevenue\")).alias(col)\n",
    "        for col in fin_quart.columns\n",
    "        if fin_quart[col].dtype.is_numeric() and col != \"totalRevenue\"\n",
    "    ]\n",
    ")"
   ]
  },
  {
   "cell_type": "code",
   "execution_count": 7,
   "metadata": {},
   "outputs": [
    {
     "name": "stdout",
     "output_type": "stream",
     "text": [
      "fiscalDateEnding: Datetime(time_unit='ns', time_zone='UTC')\n",
      "reportedEPS: Float64\n",
      "reportedCurrency_x: Float64\n",
      "grossProfit: Float64\n",
      "totalRevenue: Float64\n",
      "costOfRevenue: Float64\n",
      "costofGoodsAndServicesSold: Float64\n",
      "operatingIncome: Float64\n",
      "sellingGeneralAndAdministrative: Float64\n",
      "researchAndDevelopment: Float64\n",
      "operatingExpenses: Float64\n",
      "investmentIncomeNet: Float64\n",
      "netInterestIncome: Float64\n",
      "interestIncome: Float64\n",
      "interestExpense: Float64\n",
      "nonInterestIncome: Float64\n",
      "otherNonOperatingIncome: Float64\n",
      "depreciation: Float64\n",
      "depreciationAndAmortization: Float64\n",
      "incomeBeforeTax: Float64\n",
      "incomeTaxExpense: Float64\n",
      "interestAndDebtExpense: Float64\n",
      "netIncomeFromContinuingOperations: Float64\n",
      "comprehensiveIncomeNetOfTax: Float64\n",
      "ebit: Float64\n",
      "ebitda: Float64\n",
      "netIncome_x: Float64\n",
      "reportedCurrency_y: Float64\n",
      "totalAssets: Float64\n",
      "totalCurrentAssets: Float64\n",
      "cashAndCashEquivalentsAtCarryingValue: Float64\n",
      "cashAndShortTermInvestments: Float64\n",
      "inventory: Float64\n",
      "currentNetReceivables: Float64\n",
      "totalNonCurrentAssets: Float64\n",
      "propertyPlantEquipment: Float64\n",
      "accumulatedDepreciationAmortizationPPE: Float64\n",
      "intangibleAssets: Float64\n",
      "intangibleAssetsExcludingGoodwill: Float64\n",
      "goodwill: Float64\n",
      "investments: Float64\n",
      "longTermInvestments: Float64\n",
      "shortTermInvestments: Float64\n",
      "otherCurrentAssets: Float64\n",
      "otherNonCurrentAssets: Float64\n",
      "totalLiabilities: Float64\n",
      "totalCurrentLiabilities: Float64\n",
      "currentAccountsPayable: Float64\n",
      "deferredRevenue: Float64\n",
      "currentDebt: Float64\n",
      "shortTermDebt: Float64\n",
      "totalNonCurrentLiabilities: Float64\n",
      "capitalLeaseObligations: Float64\n",
      "longTermDebt: Float64\n",
      "currentLongTermDebt: Float64\n",
      "longTermDebtNoncurrent: Float64\n",
      "shortLongTermDebtTotal: Float64\n",
      "otherCurrentLiabilities: Float64\n",
      "otherNonCurrentLiabilities: Float64\n",
      "totalShareholderEquity: Float64\n",
      "treasuryStock: Float64\n",
      "retainedEarnings: Float64\n",
      "commonStock: Float64\n",
      "commonStockSharesOutstanding: Float64\n",
      "reportedCurrency: Float64\n",
      "operatingCashflow: Float64\n",
      "paymentsForOperatingActivities: Float64\n",
      "proceedsFromOperatingActivities: Float64\n",
      "changeInOperatingLiabilities: Float64\n",
      "changeInOperatingAssets: Float64\n",
      "depreciationDepletionAndAmortization: Float64\n",
      "capitalExpenditures: Float64\n",
      "changeInReceivables: Float64\n",
      "changeInInventory: Float64\n",
      "profitLoss: Float64\n",
      "cashflowFromInvestment: Float64\n",
      "cashflowFromFinancing: Float64\n",
      "proceedsFromRepaymentsOfShortTermDebt: Float64\n",
      "paymentsForRepurchaseOfCommonStock: Float64\n",
      "paymentsForRepurchaseOfEquity: Float64\n",
      "paymentsForRepurchaseOfPreferredStock: Float64\n",
      "dividendPayout: Float64\n",
      "dividendPayoutCommonStock: Float64\n",
      "dividendPayoutPreferredStock: Float64\n",
      "proceedsFromIssuanceOfCommonStock: Float64\n",
      "proceedsFromIssuanceOfLongTermDebtAndCapitalSecuritiesNet: Float64\n",
      "proceedsFromIssuanceOfPreferredStock: Float64\n",
      "proceedsFromRepurchaseOfEquity: Float64\n",
      "proceedsFromSaleOfTreasuryStock: Float64\n",
      "changeInCashAndCashEquivalents: Float64\n",
      "changeInExchangeRate: Float64\n",
      "netIncome_y: Float64\n"
     ]
    }
   ],
   "source": [
    "for col, dtype in fin_ann.schema.items():\n",
    "    print(f\"{col}: {dtype}\")"
   ]
  },
  {
   "cell_type": "code",
   "execution_count": 8,
   "metadata": {},
   "outputs": [
    {
     "name": "stdout",
     "output_type": "stream",
     "text": [
      "<class 'datetime.datetime'>\n",
      "<class 'datetime.datetime'>\n",
      "<class 'datetime.datetime'>\n"
     ]
    }
   ],
   "source": [
    "a = fin_ann[\"fiscalDateEnding\"].item(-1)\n",
    "print(type(a))\n",
    "\n",
    "fin_ann.with_columns(fin_ann[\"fiscalDateEnding\"].map_elements(lambda x: pd.Timestamp(x), return_dtype=pd.Timestamp))\n",
    "\n",
    "a = fin_ann[\"fiscalDateEnding\"].item(-1)\n",
    "print(type(a))\n",
    "\n",
    "a = fin_quart[\"reportedDate\"].item(-1)\n",
    "print(type(a))"
   ]
  },
  {
   "cell_type": "code",
   "execution_count": 9,
   "metadata": {},
   "outputs": [],
   "source": [
    "fin_quart = fin_quart.with_columns(\n",
    "        (pl.col(\"surprisePercentage\") / 1000.0).alias(\"surprisePercentage\")\n",
    ")"
   ]
  }
 ],
 "metadata": {
  "kernelspec": {
   "display_name": ".venv",
   "language": "python",
   "name": "python3"
  },
  "language_info": {
   "codemirror_mode": {
    "name": "ipython",
    "version": 3
   },
   "file_extension": ".py",
   "mimetype": "text/x-python",
   "name": "python",
   "nbconvert_exporter": "python",
   "pygments_lexer": "ipython3",
   "version": "3.12.8"
  }
 },
 "nbformat": 4,
 "nbformat_minor": 2
}
