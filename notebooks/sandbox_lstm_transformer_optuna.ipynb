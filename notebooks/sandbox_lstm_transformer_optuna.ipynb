{
  "cells": [
    {
      "cell_type": "code",
      "execution_count": 1,
      "id": "0c3b363e",
      "metadata": {},
      "outputs": [
        {
          "name": "stdout",
          "output_type": "stream",
          "text": [
            "2025-08-26 13:36:34,812 - This will print to the notebook's output cell\n"
          ]
        },
        {
          "name": "stderr",
          "output_type": "stream",
          "text": [
            "c:\\Users\\kimer\\Desktop\\RandomOdyssey\\.venv\\Lib\\site-packages\\tqdm\\auto.py:21: TqdmWarning: IProgress not found. Please update jupyter and ipywidgets. See https://ipywidgets.readthedocs.io/en/stable/user_install.html\n",
            "  from .autonotebook import tqdm as notebook_tqdm\n"
          ]
        }
      ],
      "source": [
        "import sys\n",
        "import os\n",
        "\n",
        "# Get the absolute path to the project directory\n",
        "project_dir = os.path.abspath(\"..\")\n",
        "\n",
        "# Append the project directory to sys.path\n",
        "if project_dir not in sys.path:\n",
        "    sys.path.append(project_dir)\n",
        "    \n",
        "from src.predictionModule.LoadupSamples import LoadupSamples\n",
        "from src.predictionModule.MachineModels import MachineModels \n",
        "\n",
        "import numpy as np\n",
        "import datetime\n",
        "import pandas as pd\n",
        "import polars as pl\n",
        "import optuna\n",
        "import scipy\n",
        "\n",
        "import logging\n",
        "formatted_date = datetime.datetime.now().strftime(\"%d%b%y_%H%M\").lower()\n",
        "\n",
        "logger = logging.getLogger()\n",
        "logger.setLevel(logging.DEBUG)\n",
        "handler = logging.StreamHandler(sys.stdout)\n",
        "formatter = logging.Formatter(fmt=\"%(asctime)s - %(message)s\")\n",
        "handler.setFormatter(formatter)\n",
        "if not logger.hasHandlers():\n",
        "    logger.addHandler(handler)\n",
        "else:\n",
        "    logger.handlers[:] = [handler]\n",
        "\n",
        "#Output File handler\n",
        "formatted_str = f\"notebook-lstm-optuna-{formatted_date}\"\n",
        "file_handler = logging.FileHandler(f\"{formatted_str}.log\", mode=\"w\")\n",
        "file_handler.setFormatter(formatter)\n",
        "logger.addHandler(file_handler)\n",
        "\n",
        "# Usage\n",
        "logger.info(\"This will print to the notebook's output cell\")"
      ]
    },
    {
      "cell_type": "code",
      "execution_count": 2,
      "metadata": {},
      "outputs": [
        {
          "data": {
            "text/plain": [
              "<torch._C.Generator at 0x19d31700730>"
            ]
          },
          "execution_count": 2,
          "metadata": {},
          "output_type": "execute_result"
        }
      ],
      "source": [
        "import random\n",
        "import numpy as np\n",
        "import torch\n",
        "random.seed(42)\n",
        "np.random.seed(42)\n",
        "torch.manual_seed(42)\n"
      ]
    },
    {
      "cell_type": "code",
      "execution_count": 3,
      "id": "cb954e7d",
      "metadata": {},
      "outputs": [],
      "source": [
        "params_default = {\n",
        "    \"idxAfterPrediction\": 5,\n",
        "    'timesteps': 90,\n",
        "    'target_option': 'last',\n",
        "    \"LoadupSamples_time_scaling_stretch\": True,\n",
        "    \"LoadupSamples_time_inc_factor\": 10,\n",
        "    \n",
        "    \"LSTM_units\": 32,\n",
        "    \"LSTM_num_layers\": 3,\n",
        "    \"LSTM_dropout\": 0.001,\n",
        "    \"LSTM_recurrent_dropout\": 0.001,\n",
        "    \"LSTM_learning_rate\": 0.001,\n",
        "    \"LSTM_optimizer\": \"adam\",\n",
        "    \"LSTM_bidirectional\": True,\n",
        "    \"LSTM_batch_size\": 2**12,\n",
        "    \"LSTM_epochs\": 10,\n",
        "    \"LSTM_l1\": 0.001,\n",
        "    \"LSTM_l2\": 0.001,\n",
        "    \"LSTM_inter_dropout\": 0.001,\n",
        "    \"LSTM_input_gaussian_noise\": 0.001,\n",
        "    \"LSTM_conv1d\": True,\n",
        "    \"LSTM_conv1d_kernel_size\": 3,\n",
        "    \"LSTM_loss\": \"mse\",\n",
        "    \"LSTM_transformer_before\": False,\n",
        "    \"LSTM_transformer_after\": False,\n",
        "    \"LSTM_tf_d_model\": 0,\n",
        "    \"LSTM_tf_nhead\": 4,\n",
        "    \"LSTM_tf_num_layers_before\": 1,\n",
        "    \"LSTM_tf_num_layers_after\": 1,\n",
        "    \"LSTM_tf_dim_feedforward\": 128,\n",
        "    \"LSTM_tf_dropout\": 0.1,\n",
        "    \"LSTM_tf_positional_encoding\": True,\n",
        "    \"LSTM_tf_pool\": \"last\",\n",
        "}\n"
      ]
    },
    {
      "cell_type": "code",
      "execution_count": 4,
      "id": "b05214fc",
      "metadata": {},
      "outputs": [],
      "source": [
        "stock_group = \"group_regOHLCV_over5years\"\n",
        "eval_date = datetime.date(year=2025, month=6, day=13)\n",
        "split_date = datetime.date(year=2023, month=12, day=31)\n",
        "\n",
        "studytime = 60*60*4\n",
        "studyname = f\"sandbox_lstm_optuna_{formatted_str}\"\n",
        "n_startup_trials = 15"
      ]
    },
    {
      "cell_type": "code",
      "execution_count": 5,
      "id": "ed3912a3",
      "metadata": {},
      "outputs": [
        {
          "name": "stderr",
          "output_type": "stream",
          "text": [
            "[I 2025-08-26 13:36:36,451] A new study created in RDB with name: sandbox_lstm_optuna_notebook-lstm-optuna-26aug25_1336\n"
          ]
        },
        {
          "name": "stdout",
          "output_type": "stream",
          "text": [
            "2025-08-26 13:36:36,451 - A new study created in RDB with name: sandbox_lstm_optuna_notebook-lstm-optuna-26aug25_1336\n",
            "2025-08-26 13:36:43,984 - Non-finite/too-large values in train y time: 48 samples.\n",
            "2025-08-26 13:36:44,000 - Removing 48 samples from training data.\n"
          ]
        },
        {
          "name": "stderr",
          "output_type": "stream",
          "text": [
            "Epochs:   0%|          | 0/2 [00:00<?, ?it/s]"
          ]
        },
        {
          "name": "stdout",
          "output_type": "stream",
          "text": [
            "2025-08-26 13:37:22,501 - Epoch 1/2 — Train RMSE: 0.4737 — Validation RMSE: 0.4148\n"
          ]
        },
        {
          "name": "stderr",
          "output_type": "stream",
          "text": [
            "Epochs:  50%|█████     | 1/2 [00:23<00:23, 23.63s/it]"
          ]
        },
        {
          "name": "stdout",
          "output_type": "stream",
          "text": [
            "2025-08-26 13:37:45,384 - Epoch 2/2 — Train RMSE: 0.4246 — Validation RMSE: 0.4145\n"
          ]
        },
        {
          "name": "stderr",
          "output_type": "stream",
          "text": [
            "Epochs: 100%|██████████| 2/2 [00:46<00:00, 23.26s/it]\n"
          ]
        },
        {
          "name": "stdout",
          "output_type": "stream",
          "text": [
            "2025-08-26 13:37:48,905 - Trial 0 with params: {'idxAfterPrediction': 4, 'timesteps': 75, 'target_option': 'last', 'LoadupSamples_time_scaling_stretch': True, 'LoadupSamples_time_inc_factor': 71, 'LSTM_units': 32, 'LSTM_num_layers': 1, 'LSTM_dropout': 0.0029491964845159415, 'LSTM_recurrent_dropout': 0.0012798892042020524, 'LSTM_learning_rate': 0.0002503566745573475, 'LSTM_optimizer': 'adam', 'LSTM_bidirectional': True, 'LSTM_batch_size': 4096, 'LSTM_epochs': 2, 'LSTM_l1': 2.5000326179313476e-05, 'LSTM_l2': 0.004589463215463121, 'LSTM_inter_dropout': 0.0682807968760783, 'LSTM_input_gaussian_noise': 0.001, 'LSTM_conv1d': True, 'LSTM_conv1d_kernel_size': 3, 'LSTM_loss': 'mse', 'LSTM_transformer_before': False, 'LSTM_transformer_after': False, 'LSTM_tf_d_model': 0, 'LSTM_tf_nhead': 2, 'LSTM_tf_num_layers_before': 0, 'LSTM_tf_num_layers_after': 0, 'LSTM_tf_dim_feedforward': 8, 'LSTM_tf_dropout': 0.1, 'LSTM_tf_positional_encoding': True, 'LSTM_tf_pool': 'last', 'year_start': 2021, 'is_single_feature': False}\n",
            "2025-08-26 13:37:48,905 -   q2: 0.9900\n",
            "2025-08-26 13:37:48,908 -   Duration0: 0:00:56.587373\n",
            "2025-08-26 13:37:48,908 -   Val RMSE0 adjusted: 0.0058\n",
            "2025-08-26 13:37:48,908 -   Mean all prediction: 0.9993\n",
            "2025-08-26 13:37:48,908 -   Mean above prediction: 1.0089\n",
            "2025-08-26 13:37:48,908 -   Mean below prediction: 0.9977\n",
            "2025-08-26 13:37:48,908 -   Quantile 0.99 for distance in mask above: 918.9599999999991\n",
            "2025-08-26 13:37:48,908 -   Quantile 0.99 for distance in mask below: 898.2399999999998\n",
            "2025-08-26 13:37:48,908 -   Ratio for quantile-distance-to-length above: 0.0014\n",
            "2025-08-26 13:37:48,908 -   Ratio for quantile-distance-to-length below: 0.0014\n",
            "2025-08-26 13:37:48,920 -   Score: 1.0022\n"
          ]
        },
        {
          "name": "stderr",
          "output_type": "stream",
          "text": [
            "[I 2025-08-26 13:37:48,960] Trial 0 finished with value: 1.0022267082419634 and parameters: {'year_start': 2021, 'LoadupSamples_time_inc_factor': 71, 'LSTM_units': 32, 'LSTM_learning_rate': 0.0002503566745573475, 'LSTM_l1': 2.5000326179313476e-05, 'LSTM_l2': 0.004589463215463121, 'LSTM_dropout': 0.0029491964845159415, 'LSTM_inter_dropout': 0.0682807968760783, 'LSTM_recurrent_dropout': 0.0012798892042020524}. Best is trial 0 with value: 1.0022267082419634.\n"
          ]
        },
        {
          "name": "stdout",
          "output_type": "stream",
          "text": [
            "2025-08-26 13:37:48,960 - Trial 0 finished with value: 1.0022267082419634 and parameters: {'year_start': 2021, 'LoadupSamples_time_inc_factor': 71, 'LSTM_units': 32, 'LSTM_learning_rate': 0.0002503566745573475, 'LSTM_l1': 2.5000326179313476e-05, 'LSTM_l2': 0.004589463215463121, 'LSTM_dropout': 0.0029491964845159415, 'LSTM_inter_dropout': 0.0682807968760783, 'LSTM_recurrent_dropout': 0.0012798892042020524}. Best is trial 0 with value: 1.0022267082419634.\n",
            "2025-08-26 13:37:56,476 - Non-finite/too-large values in train y time: 48 samples.\n",
            "2025-08-26 13:37:56,476 - Removing 48 samples from training data.\n"
          ]
        },
        {
          "name": "stderr",
          "output_type": "stream",
          "text": [
            "Epochs:   0%|          | 0/2 [00:00<?, ?it/s]"
          ]
        },
        {
          "name": "stdout",
          "output_type": "stream",
          "text": [
            "2025-08-26 13:38:28,411 - Epoch 1/2 — Train RMSE: 0.4449 — Validation RMSE: 0.4214\n"
          ]
        },
        {
          "name": "stderr",
          "output_type": "stream",
          "text": [
            "Epochs:  50%|█████     | 1/2 [00:23<00:23, 23.43s/it]"
          ]
        },
        {
          "name": "stdout",
          "output_type": "stream",
          "text": [
            "2025-08-26 13:38:51,647 - Epoch 2/2 — Train RMSE: 0.4291 — Validation RMSE: 0.4208\n"
          ]
        },
        {
          "name": "stderr",
          "output_type": "stream",
          "text": [
            "Epochs: 100%|██████████| 2/2 [00:46<00:00, 23.33s/it]\n"
          ]
        },
        {
          "name": "stdout",
          "output_type": "stream",
          "text": [
            "2025-08-26 13:38:55,404 - Trial 1 with params: {'idxAfterPrediction': 4, 'timesteps': 75, 'target_option': 'last', 'LoadupSamples_time_scaling_stretch': True, 'LoadupSamples_time_inc_factor': 76, 'LSTM_units': 32, 'LSTM_num_layers': 1, 'LSTM_dropout': 0.003457111078088935, 'LSTM_recurrent_dropout': 0.0013251433517134624, 'LSTM_learning_rate': 0.00047207378091309324, 'LSTM_optimizer': 'adam', 'LSTM_bidirectional': True, 'LSTM_batch_size': 4096, 'LSTM_epochs': 2, 'LSTM_l1': 6.210721070389821e-05, 'LSTM_l2': 0.0002880843357248791, 'LSTM_inter_dropout': 0.01455957944656259, 'LSTM_input_gaussian_noise': 0.001, 'LSTM_conv1d': True, 'LSTM_conv1d_kernel_size': 3, 'LSTM_loss': 'mse', 'LSTM_transformer_before': False, 'LSTM_transformer_after': False, 'LSTM_tf_d_model': 0, 'LSTM_tf_nhead': 2, 'LSTM_tf_num_layers_before': 0, 'LSTM_tf_num_layers_after': 0, 'LSTM_tf_dim_feedforward': 8, 'LSTM_tf_dropout': 0.1, 'LSTM_tf_positional_encoding': True, 'LSTM_tf_pool': 'last', 'year_start': 2021, 'is_single_feature': False}\n",
            "2025-08-26 13:38:55,404 -   q2: 0.9900\n",
            "2025-08-26 13:38:55,404 -   Duration0: 0:00:50.512513\n",
            "2025-08-26 13:38:55,404 -   Val RMSE0 adjusted: 0.0055\n",
            "2025-08-26 13:38:55,404 -   Mean all prediction: 0.9993\n",
            "2025-08-26 13:38:55,404 -   Mean above prediction: 1.0106\n",
            "2025-08-26 13:38:55,404 -   Mean below prediction: 0.9978\n",
            "2025-08-26 13:38:55,404 -   Quantile 0.99 for distance in mask above: 864.2299999999996\n",
            "2025-08-26 13:38:55,404 -   Quantile 0.99 for distance in mask below: 875.4799999999996\n",
            "2025-08-26 13:38:55,404 -   Ratio for quantile-distance-to-length above: 0.0013\n",
            "2025-08-26 13:38:55,404 -   Ratio for quantile-distance-to-length below: 0.0013\n",
            "2025-08-26 13:38:55,404 -   Score: 1.0026\n"
          ]
        },
        {
          "name": "stderr",
          "output_type": "stream",
          "text": [
            "[I 2025-08-26 13:38:55,479] Trial 1 finished with value: 1.002628229171653 and parameters: {'year_start': 2021, 'LoadupSamples_time_inc_factor': 76, 'LSTM_units': 32, 'LSTM_learning_rate': 0.00047207378091309324, 'LSTM_l1': 6.210721070389821e-05, 'LSTM_l2': 0.0002880843357248791, 'LSTM_dropout': 0.003457111078088935, 'LSTM_inter_dropout': 0.01455957944656259, 'LSTM_recurrent_dropout': 0.0013251433517134624}. Best is trial 1 with value: 1.002628229171653.\n"
          ]
        },
        {
          "name": "stdout",
          "output_type": "stream",
          "text": [
            "2025-08-26 13:38:55,479 - Trial 1 finished with value: 1.002628229171653 and parameters: {'year_start': 2021, 'LoadupSamples_time_inc_factor': 76, 'LSTM_units': 32, 'LSTM_learning_rate': 0.00047207378091309324, 'LSTM_l1': 6.210721070389821e-05, 'LSTM_l2': 0.0002880843357248791, 'LSTM_dropout': 0.003457111078088935, 'LSTM_inter_dropout': 0.01455957944656259, 'LSTM_recurrent_dropout': 0.0013251433517134624}. Best is trial 1 with value: 1.002628229171653.\n",
            "2025-08-26 13:39:04,490 - Non-finite/too-large values in train y time: 48 samples.\n",
            "2025-08-26 13:39:04,507 - Removing 48 samples from training data.\n"
          ]
        },
        {
          "name": "stderr",
          "output_type": "stream",
          "text": [
            "Epochs:   0%|          | 0/2 [00:00<?, ?it/s]"
          ]
        },
        {
          "name": "stdout",
          "output_type": "stream",
          "text": [
            "2025-08-26 13:39:43,995 - Epoch 1/2 — Train RMSE: 0.4638 — Validation RMSE: 0.4144\n"
          ]
        },
        {
          "name": "stderr",
          "output_type": "stream",
          "text": [
            "Epochs:  50%|█████     | 1/2 [00:29<00:29, 29.22s/it]"
          ]
        },
        {
          "name": "stdout",
          "output_type": "stream",
          "text": [
            "2025-08-26 13:40:13,156 - Epoch 2/2 — Train RMSE: 0.4264 — Validation RMSE: 0.4143\n"
          ]
        },
        {
          "name": "stderr",
          "output_type": "stream",
          "text": [
            "Epochs: 100%|██████████| 2/2 [00:58<00:00, 29.19s/it]\n"
          ]
        },
        {
          "name": "stdout",
          "output_type": "stream",
          "text": [
            "2025-08-26 13:40:17,114 - Trial 2 with params: {'idxAfterPrediction': 4, 'timesteps': 75, 'target_option': 'last', 'LoadupSamples_time_scaling_stretch': True, 'LoadupSamples_time_inc_factor': 71, 'LSTM_units': 32, 'LSTM_num_layers': 1, 'LSTM_dropout': 0.006140882828039718, 'LSTM_recurrent_dropout': 0.001351726712598722, 'LSTM_learning_rate': 0.00013690664334741452, 'LSTM_optimizer': 'adam', 'LSTM_bidirectional': True, 'LSTM_batch_size': 4096, 'LSTM_epochs': 2, 'LSTM_l1': 2.8765204880323935e-05, 'LSTM_l2': 0.005088117682581026, 'LSTM_inter_dropout': 0.011395581746358394, 'LSTM_input_gaussian_noise': 0.001, 'LSTM_conv1d': True, 'LSTM_conv1d_kernel_size': 3, 'LSTM_loss': 'mse', 'LSTM_transformer_before': False, 'LSTM_transformer_after': False, 'LSTM_tf_d_model': 0, 'LSTM_tf_nhead': 2, 'LSTM_tf_num_layers_before': 0, 'LSTM_tf_num_layers_after': 0, 'LSTM_tf_dim_feedforward': 8, 'LSTM_tf_dropout': 0.1, 'LSTM_tf_positional_encoding': True, 'LSTM_tf_pool': 'last', 'year_start': 2020, 'is_single_feature': False}\n",
            "2025-08-26 13:40:17,114 -   q2: 0.9900\n",
            "2025-08-26 13:40:17,114 -   Duration0: 0:01:02.469113\n",
            "2025-08-26 13:40:17,114 -   Val RMSE0 adjusted: 0.0058\n",
            "2025-08-26 13:40:17,114 -   Mean all prediction: 0.9993\n",
            "2025-08-26 13:40:17,130 -   Mean above prediction: 1.0036\n",
            "2025-08-26 13:40:17,130 -   Mean below prediction: 0.9935\n",
            "2025-08-26 13:40:17,130 -   Quantile 0.99 for distance in mask above: 988.159999999998\n",
            "2025-08-26 13:40:17,130 -   Quantile 0.99 for distance in mask below: 693.7199999999993\n",
            "2025-08-26 13:40:17,130 -   Ratio for quantile-distance-to-length above: 0.0015\n",
            "2025-08-26 13:40:17,130 -   Ratio for quantile-distance-to-length below: 0.0011\n",
            "2025-08-26 13:40:17,130 -   Score: 1.0009\n"
          ]
        },
        {
          "name": "stderr",
          "output_type": "stream",
          "text": [
            "[I 2025-08-26 13:40:17,190] Trial 2 finished with value: 1.0009058759229368 and parameters: {'year_start': 2020, 'LoadupSamples_time_inc_factor': 71, 'LSTM_units': 32, 'LSTM_learning_rate': 0.00013690664334741452, 'LSTM_l1': 2.8765204880323935e-05, 'LSTM_l2': 0.005088117682581026, 'LSTM_dropout': 0.006140882828039718, 'LSTM_inter_dropout': 0.011395581746358394, 'LSTM_recurrent_dropout': 0.001351726712598722}. Best is trial 1 with value: 1.002628229171653.\n"
          ]
        },
        {
          "name": "stdout",
          "output_type": "stream",
          "text": [
            "2025-08-26 13:40:17,190 - Trial 2 finished with value: 1.0009058759229368 and parameters: {'year_start': 2020, 'LoadupSamples_time_inc_factor': 71, 'LSTM_units': 32, 'LSTM_learning_rate': 0.00013690664334741452, 'LSTM_l1': 2.8765204880323935e-05, 'LSTM_l2': 0.005088117682581026, 'LSTM_dropout': 0.006140882828039718, 'LSTM_inter_dropout': 0.011395581746358394, 'LSTM_recurrent_dropout': 0.001351726712598722}. Best is trial 1 with value: 1.002628229171653.\n",
            "2025-08-26 13:40:26,252 - Non-finite/too-large values in train y time: 48 samples.\n",
            "2025-08-26 13:40:26,268 - Removing 48 samples from training data.\n"
          ]
        },
        {
          "name": "stderr",
          "output_type": "stream",
          "text": [
            "Epochs:   0%|          | 0/2 [00:00<?, ?it/s]"
          ]
        },
        {
          "name": "stdout",
          "output_type": "stream",
          "text": [
            "2025-08-26 13:41:05,987 - Epoch 1/2 — Train RMSE: 0.4401 — Validation RMSE: 0.4176\n"
          ]
        },
        {
          "name": "stderr",
          "output_type": "stream",
          "text": [
            "Epochs:  50%|█████     | 1/2 [00:29<00:29, 29.33s/it]"
          ]
        },
        {
          "name": "stdout",
          "output_type": "stream",
          "text": [
            "2025-08-26 13:41:35,202 - Epoch 2/2 — Train RMSE: 0.4304 — Validation RMSE: 0.4159\n"
          ]
        },
        {
          "name": "stderr",
          "output_type": "stream",
          "text": [
            "Epochs: 100%|██████████| 2/2 [00:58<00:00, 29.28s/it]\n"
          ]
        },
        {
          "name": "stdout",
          "output_type": "stream",
          "text": [
            "2025-08-26 13:41:39,209 - Trial 3 with params: {'idxAfterPrediction': 4, 'timesteps': 75, 'target_option': 'last', 'LoadupSamples_time_scaling_stretch': True, 'LoadupSamples_time_inc_factor': 71, 'LSTM_units': 32, 'LSTM_num_layers': 1, 'LSTM_dropout': 0.0024831528852822357, 'LSTM_recurrent_dropout': 0.0080858122995035, 'LSTM_learning_rate': 0.0004649523323977845, 'LSTM_optimizer': 'adam', 'LSTM_bidirectional': True, 'LSTM_batch_size': 4096, 'LSTM_epochs': 2, 'LSTM_l1': 2.565961486644415e-05, 'LSTM_l2': 0.0001289422408064414, 'LSTM_inter_dropout': 0.057621914553971636, 'LSTM_input_gaussian_noise': 0.001, 'LSTM_conv1d': True, 'LSTM_conv1d_kernel_size': 3, 'LSTM_loss': 'mse', 'LSTM_transformer_before': False, 'LSTM_transformer_after': False, 'LSTM_tf_d_model': 0, 'LSTM_tf_nhead': 2, 'LSTM_tf_num_layers_before': 0, 'LSTM_tf_num_layers_after': 0, 'LSTM_tf_dim_feedforward': 8, 'LSTM_tf_dropout': 0.1, 'LSTM_tf_positional_encoding': True, 'LSTM_tf_pool': 'last', 'year_start': 2020, 'is_single_feature': False}\n",
            "2025-08-26 13:41:39,209 -   q2: 0.9900\n",
            "2025-08-26 13:41:39,210 -   Duration0: 0:01:02.719154\n",
            "2025-08-26 13:41:39,211 -   Val RMSE0 adjusted: 0.0059\n",
            "2025-08-26 13:41:39,214 -   Mean all prediction: 0.9993\n",
            "2025-08-26 13:41:39,214 -   Mean above prediction: 1.0089\n",
            "2025-08-26 13:41:39,214 -   Mean below prediction: 0.9973\n",
            "2025-08-26 13:41:39,214 -   Quantile 0.99 for distance in mask above: 918.9599999999991\n",
            "2025-08-26 13:41:39,214 -   Quantile 0.99 for distance in mask below: 886.2399999999998\n",
            "2025-08-26 13:41:39,214 -   Ratio for quantile-distance-to-length above: 0.0014\n",
            "2025-08-26 13:41:39,214 -   Ratio for quantile-distance-to-length below: 0.0013\n",
            "2025-08-26 13:41:39,223 -   Score: 1.0022\n"
          ]
        },
        {
          "name": "stderr",
          "output_type": "stream",
          "text": [
            "[I 2025-08-26 13:41:39,285] Trial 3 finished with value: 1.0022057485195053 and parameters: {'year_start': 2020, 'LoadupSamples_time_inc_factor': 71, 'LSTM_units': 32, 'LSTM_learning_rate': 0.0004649523323977845, 'LSTM_l1': 2.565961486644415e-05, 'LSTM_l2': 0.0001289422408064414, 'LSTM_dropout': 0.0024831528852822357, 'LSTM_inter_dropout': 0.057621914553971636, 'LSTM_recurrent_dropout': 0.0080858122995035}. Best is trial 1 with value: 1.002628229171653.\n"
          ]
        },
        {
          "name": "stdout",
          "output_type": "stream",
          "text": [
            "2025-08-26 13:41:39,285 - Trial 3 finished with value: 1.0022057485195053 and parameters: {'year_start': 2020, 'LoadupSamples_time_inc_factor': 71, 'LSTM_units': 32, 'LSTM_learning_rate': 0.0004649523323977845, 'LSTM_l1': 2.565961486644415e-05, 'LSTM_l2': 0.0001289422408064414, 'LSTM_dropout': 0.0024831528852822357, 'LSTM_inter_dropout': 0.057621914553971636, 'LSTM_recurrent_dropout': 0.0080858122995035}. Best is trial 1 with value: 1.002628229171653.\n",
            "2025-08-26 13:41:48,350 - Non-finite/too-large values in train y time: 48 samples.\n",
            "2025-08-26 13:41:48,350 - Removing 48 samples from training data.\n"
          ]
        },
        {
          "name": "stderr",
          "output_type": "stream",
          "text": [
            "Epochs:   0%|          | 0/2 [00:00<?, ?it/s]"
          ]
        },
        {
          "name": "stdout",
          "output_type": "stream",
          "text": [
            "2025-08-26 13:42:23,959 - Epoch 1/2 — Train RMSE: 0.4324 — Validation RMSE: 0.4020\n"
          ]
        },
        {
          "name": "stderr",
          "output_type": "stream",
          "text": [
            "Epochs:  50%|█████     | 1/2 [00:25<00:25, 25.21s/it]"
          ]
        },
        {
          "name": "stdout",
          "output_type": "stream",
          "text": [
            "2025-08-26 13:42:49,547 - Epoch 2/2 — Train RMSE: 0.4147 — Validation RMSE: 0.4019\n"
          ]
        },
        {
          "name": "stderr",
          "output_type": "stream",
          "text": [
            "Epochs: 100%|██████████| 2/2 [00:50<00:00, 25.40s/it]\n"
          ]
        },
        {
          "name": "stdout",
          "output_type": "stream",
          "text": [
            "2025-08-26 13:42:53,488 - Trial 4 with params: {'idxAfterPrediction': 4, 'timesteps': 75, 'target_option': 'last', 'LoadupSamples_time_scaling_stretch': True, 'LoadupSamples_time_inc_factor': 61, 'LSTM_units': 16, 'LSTM_num_layers': 1, 'LSTM_dropout': 0.003158246814633974, 'LSTM_recurrent_dropout': 0.0015264204453598628, 'LSTM_learning_rate': 0.000167539725947945, 'LSTM_optimizer': 'adam', 'LSTM_bidirectional': True, 'LSTM_batch_size': 4096, 'LSTM_epochs': 2, 'LSTM_l1': 1.4790652232338411e-05, 'LSTM_l2': 0.0019387654060393764, 'LSTM_inter_dropout': 0.019763901455886676, 'LSTM_input_gaussian_noise': 0.001, 'LSTM_conv1d': True, 'LSTM_conv1d_kernel_size': 3, 'LSTM_loss': 'mse', 'LSTM_transformer_before': False, 'LSTM_transformer_after': False, 'LSTM_tf_d_model': 0, 'LSTM_tf_nhead': 2, 'LSTM_tf_num_layers_before': 0, 'LSTM_tf_num_layers_after': 0, 'LSTM_tf_dim_feedforward': 8, 'LSTM_tf_dropout': 0.1, 'LSTM_tf_positional_encoding': True, 'LSTM_tf_pool': 'last', 'year_start': 2020, 'is_single_feature': False}\n",
            "2025-08-26 13:42:53,488 -   q2: 0.9900\n",
            "2025-08-26 13:42:53,488 -   Duration0: 0:00:54.869862\n",
            "2025-08-26 13:42:53,488 -   Val RMSE0 adjusted: 0.0066\n",
            "2025-08-26 13:42:53,488 -   Mean all prediction: 0.9993\n",
            "2025-08-26 13:42:53,488 -   Mean above prediction: 1.0079\n",
            "2025-08-26 13:42:53,488 -   Mean below prediction: 0.9974\n",
            "2025-08-26 13:42:53,504 -   Quantile 0.99 for distance in mask above: 862.7199999999993\n",
            "2025-08-26 13:42:53,504 -   Quantile 0.99 for distance in mask below: 858.4599999999991\n",
            "2025-08-26 13:42:53,504 -   Ratio for quantile-distance-to-length above: 0.0013\n",
            "2025-08-26 13:42:53,504 -   Ratio for quantile-distance-to-length below: 0.0013\n",
            "2025-08-26 13:42:53,504 -   Score: 1.0020\n"
          ]
        },
        {
          "name": "stderr",
          "output_type": "stream",
          "text": [
            "[I 2025-08-26 13:42:53,576] Trial 4 finished with value: 1.0019669954273018 and parameters: {'year_start': 2020, 'LoadupSamples_time_inc_factor': 61, 'LSTM_units': 16, 'LSTM_learning_rate': 0.000167539725947945, 'LSTM_l1': 1.4790652232338411e-05, 'LSTM_l2': 0.0019387654060393764, 'LSTM_dropout': 0.003158246814633974, 'LSTM_inter_dropout': 0.019763901455886676, 'LSTM_recurrent_dropout': 0.0015264204453598628}. Best is trial 1 with value: 1.002628229171653.\n"
          ]
        },
        {
          "name": "stdout",
          "output_type": "stream",
          "text": [
            "2025-08-26 13:42:53,576 - Trial 4 finished with value: 1.0019669954273018 and parameters: {'year_start': 2020, 'LoadupSamples_time_inc_factor': 61, 'LSTM_units': 16, 'LSTM_learning_rate': 0.000167539725947945, 'LSTM_l1': 1.4790652232338411e-05, 'LSTM_l2': 0.0019387654060393764, 'LSTM_dropout': 0.003158246814633974, 'LSTM_inter_dropout': 0.019763901455886676, 'LSTM_recurrent_dropout': 0.0015264204453598628}. Best is trial 1 with value: 1.002628229171653.\n",
            "2025-08-26 13:42:59,471 - Non-finite/too-large values in train y time: 48 samples.\n",
            "2025-08-26 13:42:59,481 - Removing 48 samples from training data.\n"
          ]
        },
        {
          "name": "stderr",
          "output_type": "stream",
          "text": [
            "Epochs:   0%|          | 0/2 [00:00<?, ?it/s]"
          ]
        },
        {
          "name": "stdout",
          "output_type": "stream",
          "text": [
            "2025-08-26 13:43:23,754 - Epoch 1/2 — Train RMSE: 0.4523 — Validation RMSE: 0.4203\n"
          ]
        },
        {
          "name": "stderr",
          "output_type": "stream",
          "text": [
            "Epochs:  50%|█████     | 1/2 [00:17<00:17, 17.76s/it]"
          ]
        },
        {
          "name": "stdout",
          "output_type": "stream",
          "text": [
            "2025-08-26 13:43:41,226 - Epoch 2/2 — Train RMSE: 0.4332 — Validation RMSE: 0.4199\n"
          ]
        },
        {
          "name": "stderr",
          "output_type": "stream",
          "text": [
            "Epochs: 100%|██████████| 2/2 [00:35<00:00, 17.61s/it]\n"
          ]
        },
        {
          "name": "stdout",
          "output_type": "stream",
          "text": [
            "2025-08-26 13:43:44,800 - Trial 5 with params: {'idxAfterPrediction': 4, 'timesteps': 75, 'target_option': 'last', 'LoadupSamples_time_scaling_stretch': True, 'LoadupSamples_time_inc_factor': 76, 'LSTM_units': 32, 'LSTM_num_layers': 1, 'LSTM_dropout': 0.0068198094459687685, 'LSTM_recurrent_dropout': 0.0018575796566879406, 'LSTM_learning_rate': 0.00038704395250188477, 'LSTM_optimizer': 'adam', 'LSTM_bidirectional': True, 'LSTM_batch_size': 4096, 'LSTM_epochs': 2, 'LSTM_l1': 3.203476930830719e-05, 'LSTM_l2': 0.0001210842845809467, 'LSTM_inter_dropout': 0.04229309756653508, 'LSTM_input_gaussian_noise': 0.001, 'LSTM_conv1d': True, 'LSTM_conv1d_kernel_size': 3, 'LSTM_loss': 'mse', 'LSTM_transformer_before': False, 'LSTM_transformer_after': False, 'LSTM_tf_d_model': 0, 'LSTM_tf_nhead': 2, 'LSTM_tf_num_layers_before': 0, 'LSTM_tf_num_layers_after': 0, 'LSTM_tf_dim_feedforward': 8, 'LSTM_tf_dropout': 0.1, 'LSTM_tf_positional_encoding': True, 'LSTM_tf_pool': 'last', 'year_start': 2022, 'is_single_feature': False}\n",
            "2025-08-26 13:43:44,800 -   q2: 0.9900\n",
            "2025-08-26 13:43:44,800 -   Duration0: 0:00:38.885162\n",
            "2025-08-26 13:43:44,800 -   Val RMSE0 adjusted: 0.0055\n",
            "2025-08-26 13:43:44,800 -   Mean all prediction: 0.9993\n",
            "2025-08-26 13:43:44,800 -   Mean above prediction: 1.0076\n",
            "2025-08-26 13:43:44,800 -   Mean below prediction: 0.9963\n",
            "2025-08-26 13:43:44,800 -   Quantile 0.99 for distance in mask above: 841.2399999999998\n",
            "2025-08-26 13:43:44,800 -   Quantile 0.99 for distance in mask below: 764.0\n",
            "2025-08-26 13:43:44,800 -   Ratio for quantile-distance-to-length above: 0.0013\n",
            "2025-08-26 13:43:44,800 -   Ratio for quantile-distance-to-length below: 0.0012\n",
            "2025-08-26 13:43:44,812 -   Score: 1.0019\n"
          ]
        },
        {
          "name": "stderr",
          "output_type": "stream",
          "text": [
            "[I 2025-08-26 13:43:44,855] Trial 5 finished with value: 1.0019024233869551 and parameters: {'year_start': 2022, 'LoadupSamples_time_inc_factor': 76, 'LSTM_units': 32, 'LSTM_learning_rate': 0.00038704395250188477, 'LSTM_l1': 3.203476930830719e-05, 'LSTM_l2': 0.0001210842845809467, 'LSTM_dropout': 0.0068198094459687685, 'LSTM_inter_dropout': 0.04229309756653508, 'LSTM_recurrent_dropout': 0.0018575796566879406}. Best is trial 1 with value: 1.002628229171653.\n"
          ]
        },
        {
          "name": "stdout",
          "output_type": "stream",
          "text": [
            "2025-08-26 13:43:44,855 - Trial 5 finished with value: 1.0019024233869551 and parameters: {'year_start': 2022, 'LoadupSamples_time_inc_factor': 76, 'LSTM_units': 32, 'LSTM_learning_rate': 0.00038704395250188477, 'LSTM_l1': 3.203476930830719e-05, 'LSTM_l2': 0.0001210842845809467, 'LSTM_dropout': 0.0068198094459687685, 'LSTM_inter_dropout': 0.04229309756653508, 'LSTM_recurrent_dropout': 0.0018575796566879406}. Best is trial 1 with value: 1.002628229171653.\n",
            "2025-08-26 13:43:50,747 - Non-finite/too-large values in train y time: 48 samples.\n",
            "2025-08-26 13:43:50,747 - Removing 48 samples from training data.\n"
          ]
        },
        {
          "name": "stderr",
          "output_type": "stream",
          "text": [
            "Epochs:   0%|          | 0/2 [00:00<?, ?it/s]"
          ]
        },
        {
          "name": "stdout",
          "output_type": "stream",
          "text": [
            "2025-08-26 13:44:14,983 - Epoch 1/2 — Train RMSE: 0.4499 — Validation RMSE: 0.4038\n"
          ]
        },
        {
          "name": "stderr",
          "output_type": "stream",
          "text": [
            "Epochs:  50%|█████     | 1/2 [00:17<00:17, 17.75s/it]"
          ]
        },
        {
          "name": "stdout",
          "output_type": "stream",
          "text": [
            "2025-08-26 13:44:32,504 - Epoch 2/2 — Train RMSE: 0.4181 — Validation RMSE: 0.4032\n"
          ]
        },
        {
          "name": "stderr",
          "output_type": "stream",
          "text": [
            "Epochs: 100%|██████████| 2/2 [00:35<00:00, 17.65s/it]\n"
          ]
        },
        {
          "name": "stdout",
          "output_type": "stream",
          "text": [
            "2025-08-26 13:44:36,379 - Trial 6 with params: {'idxAfterPrediction': 4, 'timesteps': 75, 'target_option': 'last', 'LoadupSamples_time_scaling_stretch': True, 'LoadupSamples_time_inc_factor': 61, 'LSTM_units': 32, 'LSTM_num_layers': 1, 'LSTM_dropout': 0.007508339108893027, 'LSTM_recurrent_dropout': 0.004654815412566964, 'LSTM_learning_rate': 0.0003505388841990395, 'LSTM_optimizer': 'adam', 'LSTM_bidirectional': True, 'LSTM_batch_size': 4096, 'LSTM_epochs': 2, 'LSTM_l1': 2.624227277603843e-05, 'LSTM_l2': 0.00017872576564346076, 'LSTM_inter_dropout': 0.014715393811310672, 'LSTM_input_gaussian_noise': 0.001, 'LSTM_conv1d': True, 'LSTM_conv1d_kernel_size': 3, 'LSTM_loss': 'mse', 'LSTM_transformer_before': False, 'LSTM_transformer_after': False, 'LSTM_tf_d_model': 0, 'LSTM_tf_nhead': 2, 'LSTM_tf_num_layers_before': 0, 'LSTM_tf_num_layers_after': 0, 'LSTM_tf_dim_feedforward': 8, 'LSTM_tf_dropout': 0.1, 'LSTM_tf_positional_encoding': True, 'LSTM_tf_pool': 'last', 'year_start': 2022, 'is_single_feature': False}\n",
            "2025-08-26 13:44:36,379 -   q2: 0.9900\n",
            "2025-08-26 13:44:36,379 -   Duration0: 0:00:39.216654\n",
            "2025-08-26 13:44:36,379 -   Val RMSE0 adjusted: 0.0066\n",
            "2025-08-26 13:44:36,379 -   Mean all prediction: 0.9993\n",
            "2025-08-26 13:44:36,379 -   Mean above prediction: 1.0113\n",
            "2025-08-26 13:44:36,379 -   Mean below prediction: 0.9953\n",
            "2025-08-26 13:44:36,379 -   Quantile 0.99 for distance in mask above: 920.4799999999996\n",
            "2025-08-26 13:44:36,379 -   Quantile 0.99 for distance in mask below: 814.0\n",
            "2025-08-26 13:44:36,379 -   Ratio for quantile-distance-to-length above: 0.0014\n",
            "2025-08-26 13:44:36,395 -   Ratio for quantile-distance-to-length below: 0.0012\n",
            "2025-08-26 13:44:36,395 -   Score: 1.0028\n"
          ]
        },
        {
          "name": "stderr",
          "output_type": "stream",
          "text": [
            "[I 2025-08-26 13:44:36,435] Trial 6 finished with value: 1.0028087102942131 and parameters: {'year_start': 2022, 'LoadupSamples_time_inc_factor': 61, 'LSTM_units': 32, 'LSTM_learning_rate': 0.0003505388841990395, 'LSTM_l1': 2.624227277603843e-05, 'LSTM_l2': 0.00017872576564346076, 'LSTM_dropout': 0.007508339108893027, 'LSTM_inter_dropout': 0.014715393811310672, 'LSTM_recurrent_dropout': 0.004654815412566964}. Best is trial 6 with value: 1.0028087102942131.\n"
          ]
        },
        {
          "name": "stdout",
          "output_type": "stream",
          "text": [
            "2025-08-26 13:44:36,435 - Trial 6 finished with value: 1.0028087102942131 and parameters: {'year_start': 2022, 'LoadupSamples_time_inc_factor': 61, 'LSTM_units': 32, 'LSTM_learning_rate': 0.0003505388841990395, 'LSTM_l1': 2.624227277603843e-05, 'LSTM_l2': 0.00017872576564346076, 'LSTM_dropout': 0.007508339108893027, 'LSTM_inter_dropout': 0.014715393811310672, 'LSTM_recurrent_dropout': 0.004654815412566964}. Best is trial 6 with value: 1.0028087102942131.\n",
            "2025-08-26 13:44:45,553 - Non-finite/too-large values in train y time: 48 samples.\n",
            "2025-08-26 13:44:45,569 - Removing 48 samples from training data.\n"
          ]
        },
        {
          "name": "stderr",
          "output_type": "stream",
          "text": [
            "Epochs:   0%|          | 0/2 [00:00<?, ?it/s]"
          ]
        },
        {
          "name": "stdout",
          "output_type": "stream",
          "text": [
            "2025-08-26 13:45:20,838 - Epoch 1/2 — Train RMSE: 0.4333 — Validation RMSE: 0.4086\n"
          ]
        },
        {
          "name": "stderr",
          "output_type": "stream",
          "text": [
            "Epochs:  50%|█████     | 1/2 [00:24<00:24, 24.97s/it]"
          ]
        },
        {
          "name": "stdout",
          "output_type": "stream",
          "text": [
            "2025-08-26 13:45:46,248 - Epoch 2/2 — Train RMSE: 0.4215 — Validation RMSE: 0.4086\n"
          ]
        },
        {
          "name": "stderr",
          "output_type": "stream",
          "text": [
            "Epochs: 100%|██████████| 2/2 [00:50<00:00, 25.19s/it]\n"
          ]
        },
        {
          "name": "stdout",
          "output_type": "stream",
          "text": [
            "2025-08-26 13:45:49,804 - Trial 7 with params: {'idxAfterPrediction': 4, 'timesteps': 75, 'target_option': 'last', 'LoadupSamples_time_scaling_stretch': True, 'LoadupSamples_time_inc_factor': 66, 'LSTM_units': 16, 'LSTM_num_layers': 1, 'LSTM_dropout': 0.008032448236985656, 'LSTM_recurrent_dropout': 0.0029445492493215776, 'LSTM_learning_rate': 0.00019978391467489023, 'LSTM_optimizer': 'adam', 'LSTM_bidirectional': True, 'LSTM_batch_size': 4096, 'LSTM_epochs': 2, 'LSTM_l1': 1.7872796837117866e-05, 'LSTM_l2': 0.005101297547394212, 'LSTM_inter_dropout': 0.08118791511081878, 'LSTM_input_gaussian_noise': 0.001, 'LSTM_conv1d': True, 'LSTM_conv1d_kernel_size': 3, 'LSTM_loss': 'mse', 'LSTM_transformer_before': False, 'LSTM_transformer_after': False, 'LSTM_tf_d_model': 0, 'LSTM_tf_nhead': 2, 'LSTM_tf_num_layers_before': 0, 'LSTM_tf_num_layers_after': 0, 'LSTM_tf_dim_feedforward': 8, 'LSTM_tf_dropout': 0.1, 'LSTM_tf_positional_encoding': True, 'LSTM_tf_pool': 'last', 'year_start': 2020, 'is_single_feature': False}\n",
            "2025-08-26 13:45:49,804 -   q2: 0.9900\n",
            "2025-08-26 13:45:49,804 -   Duration0: 0:00:54.117200\n",
            "2025-08-26 13:45:49,804 -   Val RMSE0 adjusted: 0.0062\n",
            "2025-08-26 13:45:49,804 -   Mean all prediction: 0.9993\n",
            "2025-08-26 13:45:49,804 -   Mean above prediction: 1.0074\n",
            "2025-08-26 13:45:49,804 -   Mean below prediction: 0.9961\n",
            "2025-08-26 13:45:49,804 -   Quantile 0.99 for distance in mask above: 929.9799999999886\n",
            "2025-08-26 13:45:49,804 -   Quantile 0.99 for distance in mask below: 768.4799999999996\n",
            "2025-08-26 13:45:49,804 -   Ratio for quantile-distance-to-length above: 0.0014\n",
            "2025-08-26 13:45:49,804 -   Ratio for quantile-distance-to-length below: 0.0012\n",
            "2025-08-26 13:45:49,804 -   Score: 1.0018\n"
          ]
        },
        {
          "name": "stderr",
          "output_type": "stream",
          "text": [
            "[I 2025-08-26 13:45:49,883] Trial 7 finished with value: 1.001847323669962 and parameters: {'year_start': 2020, 'LoadupSamples_time_inc_factor': 66, 'LSTM_units': 16, 'LSTM_learning_rate': 0.00019978391467489023, 'LSTM_l1': 1.7872796837117866e-05, 'LSTM_l2': 0.005101297547394212, 'LSTM_dropout': 0.008032448236985656, 'LSTM_inter_dropout': 0.08118791511081878, 'LSTM_recurrent_dropout': 0.0029445492493215776}. Best is trial 6 with value: 1.0028087102942131.\n"
          ]
        },
        {
          "name": "stdout",
          "output_type": "stream",
          "text": [
            "2025-08-26 13:45:49,883 - Trial 7 finished with value: 1.001847323669962 and parameters: {'year_start': 2020, 'LoadupSamples_time_inc_factor': 66, 'LSTM_units': 16, 'LSTM_learning_rate': 0.00019978391467489023, 'LSTM_l1': 1.7872796837117866e-05, 'LSTM_l2': 0.005101297547394212, 'LSTM_dropout': 0.008032448236985656, 'LSTM_inter_dropout': 0.08118791511081878, 'LSTM_recurrent_dropout': 0.0029445492493215776}. Best is trial 6 with value: 1.0028087102942131.\n",
            "2025-08-26 13:45:59,091 - Non-finite/too-large values in train y time: 48 samples.\n",
            "2025-08-26 13:45:59,091 - Removing 48 samples from training data.\n"
          ]
        },
        {
          "name": "stderr",
          "output_type": "stream",
          "text": [
            "Epochs:   0%|          | 0/2 [00:00<?, ?it/s]"
          ]
        },
        {
          "name": "stdout",
          "output_type": "stream",
          "text": [
            "2025-08-26 13:46:34,586 - Epoch 1/2 — Train RMSE: 0.5625 — Validation RMSE: 0.4085\n"
          ]
        },
        {
          "name": "stderr",
          "output_type": "stream",
          "text": [
            "Epochs:  50%|█████     | 1/2 [00:25<00:25, 25.17s/it]"
          ]
        },
        {
          "name": "stdout",
          "output_type": "stream",
          "text": [
            "2025-08-26 13:47:00,109 - Epoch 2/2 — Train RMSE: 0.4218 — Validation RMSE: 0.4084\n"
          ]
        },
        {
          "name": "stderr",
          "output_type": "stream",
          "text": [
            "Epochs: 100%|██████████| 2/2 [00:50<00:00, 25.35s/it]\n"
          ]
        },
        {
          "name": "stdout",
          "output_type": "stream",
          "text": [
            "2025-08-26 13:47:03,482 - Trial 8 with params: {'idxAfterPrediction': 4, 'timesteps': 75, 'target_option': 'last', 'LoadupSamples_time_scaling_stretch': True, 'LoadupSamples_time_inc_factor': 66, 'LSTM_units': 16, 'LSTM_num_layers': 1, 'LSTM_dropout': 0.0034364901973888235, 'LSTM_recurrent_dropout': 0.0014534600588407252, 'LSTM_learning_rate': 0.00011818996701671435, 'LSTM_optimizer': 'adam', 'LSTM_bidirectional': True, 'LSTM_batch_size': 4096, 'LSTM_epochs': 2, 'LSTM_l1': 6.976169421663363e-05, 'LSTM_l2': 0.0012851731780357714, 'LSTM_inter_dropout': 0.029661621315102606, 'LSTM_input_gaussian_noise': 0.001, 'LSTM_conv1d': True, 'LSTM_conv1d_kernel_size': 3, 'LSTM_loss': 'mse', 'LSTM_transformer_before': False, 'LSTM_transformer_after': False, 'LSTM_tf_d_model': 0, 'LSTM_tf_nhead': 2, 'LSTM_tf_num_layers_before': 0, 'LSTM_tf_num_layers_after': 0, 'LSTM_tf_dim_feedforward': 8, 'LSTM_tf_dropout': 0.1, 'LSTM_tf_positional_encoding': True, 'LSTM_tf_pool': 'last', 'year_start': 2020, 'is_single_feature': False}\n",
            "2025-08-26 13:47:03,483 -   q2: 0.9900\n",
            "2025-08-26 13:47:03,483 -   Duration0: 0:00:54.190172\n",
            "2025-08-26 13:47:03,483 -   Val RMSE0 adjusted: 0.0062\n",
            "2025-08-26 13:47:03,486 -   Mean all prediction: 0.9993\n",
            "2025-08-26 13:47:03,486 -   Mean above prediction: 1.0078\n",
            "2025-08-26 13:47:03,486 -   Mean below prediction: 0.9973\n",
            "2025-08-26 13:47:03,486 -   Quantile 0.99 for distance in mask above: 834.7199999999993\n",
            "2025-08-26 13:47:03,486 -   Quantile 0.99 for distance in mask below: 883.7199999999993\n",
            "2025-08-26 13:47:03,486 -   Ratio for quantile-distance-to-length above: 0.0013\n",
            "2025-08-26 13:47:03,495 -   Ratio for quantile-distance-to-length below: 0.0013\n",
            "2025-08-26 13:47:03,495 -   Score: 1.0020\n"
          ]
        },
        {
          "name": "stderr",
          "output_type": "stream",
          "text": [
            "[I 2025-08-26 13:47:03,568] Trial 8 finished with value: 1.0019548720402247 and parameters: {'year_start': 2020, 'LoadupSamples_time_inc_factor': 66, 'LSTM_units': 16, 'LSTM_learning_rate': 0.00011818996701671435, 'LSTM_l1': 6.976169421663363e-05, 'LSTM_l2': 0.0012851731780357714, 'LSTM_dropout': 0.0034364901973888235, 'LSTM_inter_dropout': 0.029661621315102606, 'LSTM_recurrent_dropout': 0.0014534600588407252}. Best is trial 6 with value: 1.0028087102942131.\n"
          ]
        },
        {
          "name": "stdout",
          "output_type": "stream",
          "text": [
            "2025-08-26 13:47:03,568 - Trial 8 finished with value: 1.0019548720402247 and parameters: {'year_start': 2020, 'LoadupSamples_time_inc_factor': 66, 'LSTM_units': 16, 'LSTM_learning_rate': 0.00011818996701671435, 'LSTM_l1': 6.976169421663363e-05, 'LSTM_l2': 0.0012851731780357714, 'LSTM_dropout': 0.0034364901973888235, 'LSTM_inter_dropout': 0.029661621315102606, 'LSTM_recurrent_dropout': 0.0014534600588407252}. Best is trial 6 with value: 1.0028087102942131.\n",
            "2025-08-26 13:47:09,446 - Non-finite/too-large values in train y time: 48 samples.\n",
            "2025-08-26 13:47:09,461 - Removing 48 samples from training data.\n"
          ]
        },
        {
          "name": "stderr",
          "output_type": "stream",
          "text": [
            "Epochs:   0%|          | 0/2 [00:00<?, ?it/s]"
          ]
        },
        {
          "name": "stdout",
          "output_type": "stream",
          "text": [
            "2025-08-26 13:47:31,594 - Epoch 1/2 — Train RMSE: 0.6295 — Validation RMSE: 0.4441\n"
          ]
        },
        {
          "name": "stderr",
          "output_type": "stream",
          "text": [
            "Epochs:  50%|█████     | 1/2 [00:15<00:15, 15.58s/it]"
          ]
        },
        {
          "name": "stdout",
          "output_type": "stream",
          "text": [
            "2025-08-26 13:47:47,412 - Epoch 2/2 — Train RMSE: 0.4354 — Validation RMSE: 0.4239\n"
          ]
        },
        {
          "name": "stderr",
          "output_type": "stream",
          "text": [
            "Epochs: 100%|██████████| 2/2 [00:31<00:00, 15.70s/it]\n"
          ]
        },
        {
          "name": "stdout",
          "output_type": "stream",
          "text": [
            "2025-08-26 13:47:50,937 - Trial 9 with params: {'idxAfterPrediction': 4, 'timesteps': 75, 'target_option': 'last', 'LoadupSamples_time_scaling_stretch': True, 'LoadupSamples_time_inc_factor': 81, 'LSTM_units': 16, 'LSTM_num_layers': 1, 'LSTM_dropout': 0.005275886353219878, 'LSTM_recurrent_dropout': 0.0020328852599718955, 'LSTM_learning_rate': 0.000150039969834461, 'LSTM_optimizer': 'adam', 'LSTM_bidirectional': True, 'LSTM_batch_size': 4096, 'LSTM_epochs': 2, 'LSTM_l1': 1.9016116358206953e-05, 'LSTM_l2': 0.0010588195813764005, 'LSTM_inter_dropout': 0.015335151945932846, 'LSTM_input_gaussian_noise': 0.001, 'LSTM_conv1d': True, 'LSTM_conv1d_kernel_size': 3, 'LSTM_loss': 'mse', 'LSTM_transformer_before': False, 'LSTM_transformer_after': False, 'LSTM_tf_d_model': 0, 'LSTM_tf_nhead': 2, 'LSTM_tf_num_layers_before': 0, 'LSTM_tf_num_layers_after': 0, 'LSTM_tf_dim_feedforward': 8, 'LSTM_tf_dropout': 0.1, 'LSTM_tf_positional_encoding': True, 'LSTM_tf_pool': 'last', 'year_start': 2022, 'is_single_feature': False}\n",
            "2025-08-26 13:47:50,937 -   q2: 0.9900\n",
            "2025-08-26 13:47:50,937 -   Duration0: 0:00:35.012270\n",
            "2025-08-26 13:47:50,937 -   Val RMSE0 adjusted: 0.0052\n",
            "2025-08-26 13:47:50,937 -   Mean all prediction: 0.9993\n",
            "2025-08-26 13:47:50,937 -   Mean above prediction: 1.0100\n",
            "2025-08-26 13:47:50,937 -   Mean below prediction: 0.9967\n",
            "2025-08-26 13:47:50,937 -   Quantile 0.99 for distance in mask above: 879.6799999999985\n",
            "2025-08-26 13:47:50,937 -   Quantile 0.99 for distance in mask below: 904.4799999999941\n",
            "2025-08-26 13:47:50,937 -   Ratio for quantile-distance-to-length above: 0.0013\n",
            "2025-08-26 13:47:50,937 -   Ratio for quantile-distance-to-length below: 0.0014\n",
            "2025-08-26 13:47:50,953 -   Score: 1.0025\n"
          ]
        },
        {
          "name": "stderr",
          "output_type": "stream",
          "text": [
            "[I 2025-08-26 13:47:50,993] Trial 9 finished with value: 1.002497591954069 and parameters: {'year_start': 2022, 'LoadupSamples_time_inc_factor': 81, 'LSTM_units': 16, 'LSTM_learning_rate': 0.000150039969834461, 'LSTM_l1': 1.9016116358206953e-05, 'LSTM_l2': 0.0010588195813764005, 'LSTM_dropout': 0.005275886353219878, 'LSTM_inter_dropout': 0.015335151945932846, 'LSTM_recurrent_dropout': 0.0020328852599718955}. Best is trial 6 with value: 1.0028087102942131.\n"
          ]
        },
        {
          "name": "stdout",
          "output_type": "stream",
          "text": [
            "2025-08-26 13:47:50,993 - Trial 9 finished with value: 1.002497591954069 and parameters: {'year_start': 2022, 'LoadupSamples_time_inc_factor': 81, 'LSTM_units': 16, 'LSTM_learning_rate': 0.000150039969834461, 'LSTM_l1': 1.9016116358206953e-05, 'LSTM_l2': 0.0010588195813764005, 'LSTM_dropout': 0.005275886353219878, 'LSTM_inter_dropout': 0.015335151945932846, 'LSTM_recurrent_dropout': 0.0020328852599718955}. Best is trial 6 with value: 1.0028087102942131.\n",
            "2025-08-26 13:47:56,883 - Non-finite/too-large values in train y time: 48 samples.\n",
            "2025-08-26 13:47:56,883 - Removing 48 samples from training data.\n"
          ]
        },
        {
          "name": "stderr",
          "output_type": "stream",
          "text": [
            "Epochs:   0%|          | 0/2 [00:00<?, ?it/s]"
          ]
        },
        {
          "name": "stdout",
          "output_type": "stream",
          "text": [
            "2025-08-26 13:48:18,997 - Epoch 1/2 — Train RMSE: 0.5238 — Validation RMSE: 0.4252\n"
          ]
        },
        {
          "name": "stderr",
          "output_type": "stream",
          "text": [
            "Epochs:  50%|█████     | 1/2 [00:15<00:15, 15.60s/it]"
          ]
        },
        {
          "name": "stdout",
          "output_type": "stream",
          "text": [
            "2025-08-26 13:48:34,817 - Epoch 2/2 — Train RMSE: 0.4341 — Validation RMSE: 0.4240\n"
          ]
        },
        {
          "name": "stderr",
          "output_type": "stream",
          "text": [
            "Epochs: 100%|██████████| 2/2 [00:31<00:00, 15.71s/it]\n"
          ]
        },
        {
          "name": "stdout",
          "output_type": "stream",
          "text": [
            "2025-08-26 13:48:38,758 - Trial 10 with params: {'idxAfterPrediction': 4, 'timesteps': 75, 'target_option': 'last', 'LoadupSamples_time_scaling_stretch': True, 'LoadupSamples_time_inc_factor': 81, 'LSTM_units': 16, 'LSTM_num_layers': 1, 'LSTM_dropout': 0.00166702324087179, 'LSTM_recurrent_dropout': 0.008118409361257461, 'LSTM_learning_rate': 0.00014625582037175518, 'LSTM_optimizer': 'adam', 'LSTM_bidirectional': True, 'LSTM_batch_size': 4096, 'LSTM_epochs': 2, 'LSTM_l1': 2.0826897678807576e-05, 'LSTM_l2': 0.00022888424184049725, 'LSTM_inter_dropout': 0.013055491374417687, 'LSTM_input_gaussian_noise': 0.001, 'LSTM_conv1d': True, 'LSTM_conv1d_kernel_size': 3, 'LSTM_loss': 'mse', 'LSTM_transformer_before': False, 'LSTM_transformer_after': False, 'LSTM_tf_d_model': 0, 'LSTM_tf_nhead': 2, 'LSTM_tf_num_layers_before': 0, 'LSTM_tf_num_layers_after': 0, 'LSTM_tf_dim_feedforward': 8, 'LSTM_tf_dropout': 0.1, 'LSTM_tf_positional_encoding': True, 'LSTM_tf_pool': 'last', 'year_start': 2022, 'is_single_feature': False}\n",
            "2025-08-26 13:48:38,758 -   q2: 0.9900\n",
            "2025-08-26 13:48:38,758 -   Duration0: 0:00:35.460633\n",
            "2025-08-26 13:48:38,758 -   Val RMSE0 adjusted: 0.0052\n",
            "2025-08-26 13:48:38,758 -   Mean all prediction: 0.9993\n",
            "2025-08-26 13:48:38,758 -   Mean above prediction: 1.0014\n",
            "2025-08-26 13:48:38,758 -   Mean below prediction: 0.9944\n",
            "2025-08-26 13:48:38,758 -   Quantile 0.99 for distance in mask above: 969.4799999999996\n",
            "2025-08-26 13:48:38,758 -   Quantile 0.99 for distance in mask below: 714.9199999999983\n",
            "2025-08-26 13:48:38,758 -   Ratio for quantile-distance-to-length above: 0.0015\n",
            "2025-08-26 13:48:38,758 -   Ratio for quantile-distance-to-length below: 0.0011\n",
            "2025-08-26 13:48:38,758 -   Score: 1.0004\n"
          ]
        },
        {
          "name": "stderr",
          "output_type": "stream",
          "text": [
            "[I 2025-08-26 13:48:38,815] Trial 10 finished with value: 1.0003613455285454 and parameters: {'year_start': 2022, 'LoadupSamples_time_inc_factor': 81, 'LSTM_units': 16, 'LSTM_learning_rate': 0.00014625582037175518, 'LSTM_l1': 2.0826897678807576e-05, 'LSTM_l2': 0.00022888424184049725, 'LSTM_dropout': 0.00166702324087179, 'LSTM_inter_dropout': 0.013055491374417687, 'LSTM_recurrent_dropout': 0.008118409361257461}. Best is trial 6 with value: 1.0028087102942131.\n"
          ]
        },
        {
          "name": "stdout",
          "output_type": "stream",
          "text": [
            "2025-08-26 13:48:38,815 - Trial 10 finished with value: 1.0003613455285454 and parameters: {'year_start': 2022, 'LoadupSamples_time_inc_factor': 81, 'LSTM_units': 16, 'LSTM_learning_rate': 0.00014625582037175518, 'LSTM_l1': 2.0826897678807576e-05, 'LSTM_l2': 0.00022888424184049725, 'LSTM_dropout': 0.00166702324087179, 'LSTM_inter_dropout': 0.013055491374417687, 'LSTM_recurrent_dropout': 0.008118409361257461}. Best is trial 6 with value: 1.0028087102942131.\n",
            "2025-08-26 13:48:48,029 - Non-finite/too-large values in train y time: 48 samples.\n",
            "2025-08-26 13:48:48,031 - Removing 48 samples from training data.\n"
          ]
        },
        {
          "name": "stderr",
          "output_type": "stream",
          "text": [
            "Epochs:   0%|          | 0/2 [00:00<?, ?it/s]"
          ]
        },
        {
          "name": "stdout",
          "output_type": "stream",
          "text": [
            "2025-08-26 13:49:27,630 - Epoch 1/2 — Train RMSE: 0.4256 — Validation RMSE: 0.4032\n"
          ]
        },
        {
          "name": "stderr",
          "output_type": "stream",
          "text": [
            "Epochs:  50%|█████     | 1/2 [00:29<00:29, 29.20s/it]"
          ]
        },
        {
          "name": "stdout",
          "output_type": "stream",
          "text": [
            "2025-08-26 13:49:56,894 - Epoch 2/2 — Train RMSE: 0.4187 — Validation RMSE: 0.4025\n"
          ]
        },
        {
          "name": "stderr",
          "output_type": "stream",
          "text": [
            "Epochs: 100%|██████████| 2/2 [00:58<00:00, 29.23s/it]\n"
          ]
        },
        {
          "name": "stdout",
          "output_type": "stream",
          "text": [
            "2025-08-26 13:50:00,602 - Trial 11 with params: {'idxAfterPrediction': 4, 'timesteps': 75, 'target_option': 'last', 'LoadupSamples_time_scaling_stretch': True, 'LoadupSamples_time_inc_factor': 61, 'LSTM_units': 32, 'LSTM_num_layers': 1, 'LSTM_dropout': 0.006469368774491689, 'LSTM_recurrent_dropout': 0.0024069188838015862, 'LSTM_learning_rate': 0.0003681938489592797, 'LSTM_optimizer': 'adam', 'LSTM_bidirectional': True, 'LSTM_batch_size': 4096, 'LSTM_epochs': 2, 'LSTM_l1': 4.006512554454994e-05, 'LSTM_l2': 0.0005014121935858737, 'LSTM_inter_dropout': 0.08653900272436091, 'LSTM_input_gaussian_noise': 0.001, 'LSTM_conv1d': True, 'LSTM_conv1d_kernel_size': 3, 'LSTM_loss': 'mse', 'LSTM_transformer_before': False, 'LSTM_transformer_after': False, 'LSTM_tf_d_model': 0, 'LSTM_tf_nhead': 2, 'LSTM_tf_num_layers_before': 0, 'LSTM_tf_num_layers_after': 0, 'LSTM_tf_dim_feedforward': 8, 'LSTM_tf_dropout': 0.1, 'LSTM_tf_positional_encoding': True, 'LSTM_tf_pool': 'last', 'year_start': 2020, 'is_single_feature': False}\n",
            "2025-08-26 13:50:00,602 -   q2: 0.9900\n",
            "2025-08-26 13:50:00,602 -   Duration0: 0:01:02.302268\n",
            "2025-08-26 13:50:00,602 -   Val RMSE0 adjusted: 0.0066\n",
            "2025-08-26 13:50:00,618 -   Mean all prediction: 0.9993\n",
            "2025-08-26 13:50:00,618 -   Mean above prediction: 1.0091\n",
            "2025-08-26 13:50:00,618 -   Mean below prediction: 0.9980\n",
            "2025-08-26 13:50:00,618 -   Quantile 0.99 for distance in mask above: 874.6399999999976\n",
            "2025-08-26 13:50:00,618 -   Quantile 0.99 for distance in mask below: 913.159999999998\n",
            "2025-08-26 13:50:00,618 -   Ratio for quantile-distance-to-length above: 0.0013\n",
            "2025-08-26 13:50:00,618 -   Ratio for quantile-distance-to-length below: 0.0014\n",
            "2025-08-26 13:50:00,629 -   Score: 1.0023\n"
          ]
        },
        {
          "name": "stderr",
          "output_type": "stream",
          "text": [
            "[I 2025-08-26 13:50:00,698] Trial 11 finished with value: 1.0022613439655443 and parameters: {'year_start': 2020, 'LoadupSamples_time_inc_factor': 61, 'LSTM_units': 32, 'LSTM_learning_rate': 0.0003681938489592797, 'LSTM_l1': 4.006512554454994e-05, 'LSTM_l2': 0.0005014121935858737, 'LSTM_dropout': 0.006469368774491689, 'LSTM_inter_dropout': 0.08653900272436091, 'LSTM_recurrent_dropout': 0.0024069188838015862}. Best is trial 6 with value: 1.0028087102942131.\n"
          ]
        },
        {
          "name": "stdout",
          "output_type": "stream",
          "text": [
            "2025-08-26 13:50:00,698 - Trial 11 finished with value: 1.0022613439655443 and parameters: {'year_start': 2020, 'LoadupSamples_time_inc_factor': 61, 'LSTM_units': 32, 'LSTM_learning_rate': 0.0003681938489592797, 'LSTM_l1': 4.006512554454994e-05, 'LSTM_l2': 0.0005014121935858737, 'LSTM_dropout': 0.006469368774491689, 'LSTM_inter_dropout': 0.08653900272436091, 'LSTM_recurrent_dropout': 0.0024069188838015862}. Best is trial 6 with value: 1.0028087102942131.\n",
            "2025-08-26 13:50:06,598 - Non-finite/too-large values in train y time: 48 samples.\n",
            "2025-08-26 13:50:06,598 - Removing 48 samples from training data.\n"
          ]
        },
        {
          "name": "stderr",
          "output_type": "stream",
          "text": [
            "Epochs:   0%|          | 0/2 [00:00<?, ?it/s]"
          ]
        },
        {
          "name": "stdout",
          "output_type": "stream",
          "text": [
            "2025-08-26 13:50:28,532 - Epoch 1/2 — Train RMSE: 0.5465 — Validation RMSE: 0.4243\n"
          ]
        },
        {
          "name": "stderr",
          "output_type": "stream",
          "text": [
            "Epochs:  50%|█████     | 1/2 [00:15<00:15, 15.35s/it]"
          ]
        },
        {
          "name": "stdout",
          "output_type": "stream",
          "text": [
            "2025-08-26 13:50:44,199 - Epoch 2/2 — Train RMSE: 0.4365 — Validation RMSE: 0.4241\n"
          ]
        },
        {
          "name": "stderr",
          "output_type": "stream",
          "text": [
            "Epochs: 100%|██████████| 2/2 [00:31<00:00, 15.50s/it]\n"
          ]
        },
        {
          "name": "stdout",
          "output_type": "stream",
          "text": [
            "2025-08-26 13:50:48,188 - Trial 12 with params: {'idxAfterPrediction': 4, 'timesteps': 75, 'target_option': 'last', 'LoadupSamples_time_scaling_stretch': True, 'LoadupSamples_time_inc_factor': 81, 'LSTM_units': 16, 'LSTM_num_layers': 1, 'LSTM_dropout': 0.002315626969275018, 'LSTM_recurrent_dropout': 0.004592631655166272, 'LSTM_learning_rate': 0.00033844871695084346, 'LSTM_optimizer': 'adam', 'LSTM_bidirectional': True, 'LSTM_batch_size': 4096, 'LSTM_epochs': 2, 'LSTM_l1': 5.017728239333075e-05, 'LSTM_l2': 0.00014478277411702201, 'LSTM_inter_dropout': 0.030579425823267444, 'LSTM_input_gaussian_noise': 0.001, 'LSTM_conv1d': True, 'LSTM_conv1d_kernel_size': 3, 'LSTM_loss': 'mse', 'LSTM_transformer_before': False, 'LSTM_transformer_after': False, 'LSTM_tf_d_model': 0, 'LSTM_tf_nhead': 2, 'LSTM_tf_num_layers_before': 0, 'LSTM_tf_num_layers_after': 0, 'LSTM_tf_dim_feedforward': 8, 'LSTM_tf_dropout': 0.1, 'LSTM_tf_positional_encoding': True, 'LSTM_tf_pool': 'last', 'year_start': 2022, 'is_single_feature': False}\n",
            "2025-08-26 13:50:48,188 -   q2: 0.9900\n",
            "2025-08-26 13:50:48,188 -   Duration0: 0:00:35.076501\n",
            "2025-08-26 13:50:48,188 -   Val RMSE0 adjusted: 0.0052\n",
            "2025-08-26 13:50:48,188 -   Mean all prediction: 0.9993\n",
            "2025-08-26 13:50:48,188 -   Mean above prediction: 1.0016\n",
            "2025-08-26 13:50:48,188 -   Mean below prediction: 0.9943\n",
            "2025-08-26 13:50:48,188 -   Quantile 0.99 for distance in mask above: 1002.6799999999985\n",
            "2025-08-26 13:50:48,188 -   Quantile 0.99 for distance in mask below: 709.9599999999991\n",
            "2025-08-26 13:50:48,188 -   Ratio for quantile-distance-to-length above: 0.0015\n",
            "2025-08-26 13:50:48,188 -   Ratio for quantile-distance-to-length below: 0.0011\n",
            "2025-08-26 13:50:48,188 -   Score: 1.0004\n"
          ]
        },
        {
          "name": "stderr",
          "output_type": "stream",
          "text": [
            "[I 2025-08-26 13:50:48,243] Trial 12 finished with value: 1.0004019599949894 and parameters: {'year_start': 2022, 'LoadupSamples_time_inc_factor': 81, 'LSTM_units': 16, 'LSTM_learning_rate': 0.00033844871695084346, 'LSTM_l1': 5.017728239333075e-05, 'LSTM_l2': 0.00014478277411702201, 'LSTM_dropout': 0.002315626969275018, 'LSTM_inter_dropout': 0.030579425823267444, 'LSTM_recurrent_dropout': 0.004592631655166272}. Best is trial 6 with value: 1.0028087102942131.\n"
          ]
        },
        {
          "name": "stdout",
          "output_type": "stream",
          "text": [
            "2025-08-26 13:50:48,243 - Trial 12 finished with value: 1.0004019599949894 and parameters: {'year_start': 2022, 'LoadupSamples_time_inc_factor': 81, 'LSTM_units': 16, 'LSTM_learning_rate': 0.00033844871695084346, 'LSTM_l1': 5.017728239333075e-05, 'LSTM_l2': 0.00014478277411702201, 'LSTM_dropout': 0.002315626969275018, 'LSTM_inter_dropout': 0.030579425823267444, 'LSTM_recurrent_dropout': 0.004592631655166272}. Best is trial 6 with value: 1.0028087102942131.\n",
            "2025-08-26 13:50:55,790 - Non-finite/too-large values in train y time: 48 samples.\n",
            "2025-08-26 13:50:55,790 - Removing 48 samples from training data.\n"
          ]
        },
        {
          "name": "stderr",
          "output_type": "stream",
          "text": [
            "Epochs:   0%|          | 0/2 [00:00<?, ?it/s]"
          ]
        },
        {
          "name": "stdout",
          "output_type": "stream",
          "text": [
            "2025-08-26 13:51:24,635 - Epoch 1/2 — Train RMSE: 0.5435 — Validation RMSE: 0.4151\n"
          ]
        },
        {
          "name": "stderr",
          "output_type": "stream",
          "text": [
            "Epochs:  50%|█████     | 1/2 [00:20<00:20, 20.33s/it]"
          ]
        },
        {
          "name": "stdout",
          "output_type": "stream",
          "text": [
            "2025-08-26 13:51:45,096 - Epoch 2/2 — Train RMSE: 0.4232 — Validation RMSE: 0.4145\n"
          ]
        },
        {
          "name": "stderr",
          "output_type": "stream",
          "text": [
            "Epochs: 100%|██████████| 2/2 [00:40<00:00, 20.39s/it]\n"
          ]
        },
        {
          "name": "stdout",
          "output_type": "stream",
          "text": [
            "2025-08-26 13:51:49,105 - Trial 13 with params: {'idxAfterPrediction': 4, 'timesteps': 75, 'target_option': 'last', 'LoadupSamples_time_scaling_stretch': True, 'LoadupSamples_time_inc_factor': 71, 'LSTM_units': 16, 'LSTM_num_layers': 1, 'LSTM_dropout': 0.0011102504075394986, 'LSTM_recurrent_dropout': 0.0018127906139187974, 'LSTM_learning_rate': 0.00014871225966414227, 'LSTM_optimizer': 'adam', 'LSTM_bidirectional': True, 'LSTM_batch_size': 4096, 'LSTM_epochs': 2, 'LSTM_l1': 1.716451180110296e-05, 'LSTM_l2': 0.007918671628879988, 'LSTM_inter_dropout': 0.04145204562632654, 'LSTM_input_gaussian_noise': 0.001, 'LSTM_conv1d': True, 'LSTM_conv1d_kernel_size': 3, 'LSTM_loss': 'mse', 'LSTM_transformer_before': False, 'LSTM_transformer_after': False, 'LSTM_tf_d_model': 0, 'LSTM_tf_nhead': 2, 'LSTM_tf_num_layers_before': 0, 'LSTM_tf_num_layers_after': 0, 'LSTM_tf_dim_feedforward': 8, 'LSTM_tf_dropout': 0.1, 'LSTM_tf_positional_encoding': True, 'LSTM_tf_pool': 'last', 'year_start': 2021, 'is_single_feature': False}\n",
            "2025-08-26 13:51:49,105 -   q2: 0.9900\n",
            "2025-08-26 13:51:49,105 -   Duration0: 0:00:44.947642\n",
            "2025-08-26 13:51:49,105 -   Val RMSE0 adjusted: 0.0058\n",
            "2025-08-26 13:51:49,105 -   Mean all prediction: 0.9993\n",
            "2025-08-26 13:51:49,105 -   Mean above prediction: 1.0096\n",
            "2025-08-26 13:51:49,121 -   Mean below prediction: 0.9961\n",
            "2025-08-26 13:51:49,122 -   Quantile 0.99 for distance in mask above: 989.9599999999991\n",
            "2025-08-26 13:51:49,122 -   Quantile 0.99 for distance in mask below: 812.4799999999996\n",
            "2025-08-26 13:51:49,122 -   Ratio for quantile-distance-to-length above: 0.0015\n",
            "2025-08-26 13:51:49,122 -   Ratio for quantile-distance-to-length below: 0.0012\n",
            "2025-08-26 13:51:49,125 -   Score: 1.0024\n"
          ]
        },
        {
          "name": "stderr",
          "output_type": "stream",
          "text": [
            "[I 2025-08-26 13:51:49,190] Trial 13 finished with value: 1.0023902533721925 and parameters: {'year_start': 2021, 'LoadupSamples_time_inc_factor': 71, 'LSTM_units': 16, 'LSTM_learning_rate': 0.00014871225966414227, 'LSTM_l1': 1.716451180110296e-05, 'LSTM_l2': 0.007918671628879988, 'LSTM_dropout': 0.0011102504075394986, 'LSTM_inter_dropout': 0.04145204562632654, 'LSTM_recurrent_dropout': 0.0018127906139187974}. Best is trial 6 with value: 1.0028087102942131.\n"
          ]
        },
        {
          "name": "stdout",
          "output_type": "stream",
          "text": [
            "2025-08-26 13:51:49,190 - Trial 13 finished with value: 1.0023902533721925 and parameters: {'year_start': 2021, 'LoadupSamples_time_inc_factor': 71, 'LSTM_units': 16, 'LSTM_learning_rate': 0.00014871225966414227, 'LSTM_l1': 1.716451180110296e-05, 'LSTM_l2': 0.007918671628879988, 'LSTM_dropout': 0.0011102504075394986, 'LSTM_inter_dropout': 0.04145204562632654, 'LSTM_recurrent_dropout': 0.0018127906139187974}. Best is trial 6 with value: 1.0028087102942131.\n",
            "2025-08-26 13:51:55,085 - Non-finite/too-large values in train y time: 48 samples.\n",
            "2025-08-26 13:51:55,085 - Removing 48 samples from training data.\n"
          ]
        },
        {
          "name": "stderr",
          "output_type": "stream",
          "text": [
            "Epochs:   0%|          | 0/2 [00:00<?, ?it/s]"
          ]
        },
        {
          "name": "stdout",
          "output_type": "stream",
          "text": [
            "2025-08-26 13:52:19,320 - Epoch 1/2 — Train RMSE: 0.4874 — Validation RMSE: 0.4248\n"
          ]
        },
        {
          "name": "stderr",
          "output_type": "stream",
          "text": [
            "Epochs:  50%|█████     | 1/2 [00:17<00:17, 17.64s/it]"
          ]
        },
        {
          "name": "stdout",
          "output_type": "stream",
          "text": [
            "2025-08-26 13:52:36,892 - Epoch 2/2 — Train RMSE: 0.4379 — Validation RMSE: 0.4242\n"
          ]
        },
        {
          "name": "stderr",
          "output_type": "stream",
          "text": [
            "Epochs: 100%|██████████| 2/2 [00:35<00:00, 17.60s/it]\n"
          ]
        },
        {
          "name": "stdout",
          "output_type": "stream",
          "text": [
            "2025-08-26 13:52:40,501 - Trial 14 with params: {'idxAfterPrediction': 4, 'timesteps': 75, 'target_option': 'last', 'LoadupSamples_time_scaling_stretch': True, 'LoadupSamples_time_inc_factor': 81, 'LSTM_units': 32, 'LSTM_num_layers': 1, 'LSTM_dropout': 0.0015002301592545858, 'LSTM_recurrent_dropout': 0.0034891012061956427, 'LSTM_learning_rate': 0.0001751909931522094, 'LSTM_optimizer': 'adam', 'LSTM_bidirectional': True, 'LSTM_batch_size': 4096, 'LSTM_epochs': 2, 'LSTM_l1': 1.250364777793067e-05, 'LSTM_l2': 0.0005260906189705485, 'LSTM_inter_dropout': 0.05977539616733415, 'LSTM_input_gaussian_noise': 0.001, 'LSTM_conv1d': True, 'LSTM_conv1d_kernel_size': 3, 'LSTM_loss': 'mse', 'LSTM_transformer_before': False, 'LSTM_transformer_after': False, 'LSTM_tf_d_model': 0, 'LSTM_tf_nhead': 2, 'LSTM_tf_num_layers_before': 0, 'LSTM_tf_num_layers_after': 0, 'LSTM_tf_dim_feedforward': 8, 'LSTM_tf_dropout': 0.1, 'LSTM_tf_positional_encoding': True, 'LSTM_tf_pool': 'last', 'year_start': 2022, 'is_single_feature': False}\n",
            "2025-08-26 13:52:40,501 -   q2: 0.9900\n",
            "2025-08-26 13:52:40,502 -   Duration0: 0:00:38.868327\n",
            "2025-08-26 13:52:40,502 -   Val RMSE0 adjusted: 0.0052\n",
            "2025-08-26 13:52:40,504 -   Mean all prediction: 0.9993\n",
            "2025-08-26 13:52:40,504 -   Mean above prediction: 1.0066\n",
            "2025-08-26 13:52:40,504 -   Mean below prediction: 0.9968\n",
            "2025-08-26 13:52:40,504 -   Quantile 0.99 for distance in mask above: 961.1199999999972\n",
            "2025-08-26 13:52:40,504 -   Quantile 0.99 for distance in mask below: 861.2399999999998\n",
            "2025-08-26 13:52:40,504 -   Ratio for quantile-distance-to-length above: 0.0015\n",
            "2025-08-26 13:52:40,504 -   Ratio for quantile-distance-to-length below: 0.0013\n",
            "2025-08-26 13:52:40,504 -   Score: 1.0016\n"
          ]
        },
        {
          "name": "stderr",
          "output_type": "stream",
          "text": [
            "[I 2025-08-26 13:52:40,553] Trial 14 finished with value: 1.001634634280627 and parameters: {'year_start': 2022, 'LoadupSamples_time_inc_factor': 81, 'LSTM_units': 32, 'LSTM_learning_rate': 0.0001751909931522094, 'LSTM_l1': 1.250364777793067e-05, 'LSTM_l2': 0.0005260906189705485, 'LSTM_dropout': 0.0015002301592545858, 'LSTM_inter_dropout': 0.05977539616733415, 'LSTM_recurrent_dropout': 0.0034891012061956427}. Best is trial 6 with value: 1.0028087102942131.\n"
          ]
        },
        {
          "name": "stdout",
          "output_type": "stream",
          "text": [
            "2025-08-26 13:52:40,553 - Trial 14 finished with value: 1.001634634280627 and parameters: {'year_start': 2022, 'LoadupSamples_time_inc_factor': 81, 'LSTM_units': 32, 'LSTM_learning_rate': 0.0001751909931522094, 'LSTM_l1': 1.250364777793067e-05, 'LSTM_l2': 0.0005260906189705485, 'LSTM_dropout': 0.0015002301592545858, 'LSTM_inter_dropout': 0.05977539616733415, 'LSTM_recurrent_dropout': 0.0034891012061956427}. Best is trial 6 with value: 1.0028087102942131.\n",
            "2025-08-26 13:52:48,100 - Non-finite/too-large values in train y time: 48 samples.\n",
            "2025-08-26 13:52:48,100 - Removing 48 samples from training data.\n"
          ]
        },
        {
          "name": "stderr",
          "output_type": "stream",
          "text": [
            "Epochs:   0%|          | 0/2 [00:00<?, ?it/s]"
          ]
        },
        {
          "name": "stdout",
          "output_type": "stream",
          "text": [
            "2025-08-26 13:53:19,969 - Epoch 1/2 — Train RMSE: 0.4613 — Validation RMSE: 0.4204\n"
          ]
        },
        {
          "name": "stderr",
          "output_type": "stream",
          "text": [
            "Epochs:  50%|█████     | 1/2 [00:23<00:23, 23.39s/it]"
          ]
        },
        {
          "name": "stdout",
          "output_type": "stream",
          "text": [
            "2025-08-26 13:53:44,155 - Epoch 2/2 — Train RMSE: 0.4289 — Validation RMSE: 0.4201\n"
          ]
        },
        {
          "name": "stderr",
          "output_type": "stream",
          "text": [
            "Epochs: 100%|██████████| 2/2 [00:47<00:00, 23.79s/it]\n"
          ]
        },
        {
          "name": "stdout",
          "output_type": "stream",
          "text": [
            "2025-08-26 13:53:47,596 - Trial 15 with params: {'idxAfterPrediction': 4, 'timesteps': 75, 'target_option': 'last', 'LoadupSamples_time_scaling_stretch': True, 'LoadupSamples_time_inc_factor': 76, 'LSTM_units': 32, 'LSTM_num_layers': 1, 'LSTM_dropout': 0.00505896077762924, 'LSTM_recurrent_dropout': 0.005244337449382403, 'LSTM_learning_rate': 0.0002890147422199548, 'LSTM_optimizer': 'adam', 'LSTM_bidirectional': True, 'LSTM_batch_size': 4096, 'LSTM_epochs': 2, 'LSTM_l1': 8.251427564158915e-05, 'LSTM_l2': 0.0002998011606106461, 'LSTM_inter_dropout': 0.019708024026567968, 'LSTM_input_gaussian_noise': 0.001, 'LSTM_conv1d': True, 'LSTM_conv1d_kernel_size': 3, 'LSTM_loss': 'mse', 'LSTM_transformer_before': False, 'LSTM_transformer_after': False, 'LSTM_tf_d_model': 0, 'LSTM_tf_nhead': 2, 'LSTM_tf_num_layers_before': 0, 'LSTM_tf_num_layers_after': 0, 'LSTM_tf_dim_feedforward': 8, 'LSTM_tf_dropout': 0.1, 'LSTM_tf_positional_encoding': True, 'LSTM_tf_pool': 'last', 'year_start': 2021, 'is_single_feature': False}\n",
            "2025-08-26 13:53:47,596 -   q2: 0.9900\n",
            "2025-08-26 13:53:47,596 -   Duration0: 0:00:51.163025\n",
            "2025-08-26 13:53:47,596 -   Val RMSE0 adjusted: 0.0055\n",
            "2025-08-26 13:53:47,596 -   Mean all prediction: 0.9993\n",
            "2025-08-26 13:53:47,612 -   Mean above prediction: 1.0034\n",
            "2025-08-26 13:53:47,612 -   Mean below prediction: 0.9953\n",
            "2025-08-26 13:53:47,612 -   Quantile 0.99 for distance in mask above: 985.1999999999989\n",
            "2025-08-26 13:53:47,612 -   Quantile 0.99 for distance in mask below: 792.0\n",
            "2025-08-26 13:53:47,612 -   Ratio for quantile-distance-to-length above: 0.0015\n",
            "2025-08-26 13:53:47,612 -   Ratio for quantile-distance-to-length below: 0.0012\n",
            "2025-08-26 13:53:47,612 -   Score: 1.0009\n"
          ]
        },
        {
          "name": "stderr",
          "output_type": "stream",
          "text": [
            "[I 2025-08-26 13:53:47,667] Trial 15 finished with value: 1.0008525994767008 and parameters: {'year_start': 2021, 'LoadupSamples_time_inc_factor': 76, 'LSTM_units': 32, 'LSTM_learning_rate': 0.0002890147422199548, 'LSTM_l1': 8.251427564158915e-05, 'LSTM_l2': 0.0002998011606106461, 'LSTM_dropout': 0.00505896077762924, 'LSTM_inter_dropout': 0.019708024026567968, 'LSTM_recurrent_dropout': 0.005244337449382403}. Best is trial 6 with value: 1.0028087102942131.\n"
          ]
        },
        {
          "name": "stdout",
          "output_type": "stream",
          "text": [
            "2025-08-26 13:53:47,667 - Trial 15 finished with value: 1.0008525994767008 and parameters: {'year_start': 2021, 'LoadupSamples_time_inc_factor': 76, 'LSTM_units': 32, 'LSTM_learning_rate': 0.0002890147422199548, 'LSTM_l1': 8.251427564158915e-05, 'LSTM_l2': 0.0002998011606106461, 'LSTM_dropout': 0.00505896077762924, 'LSTM_inter_dropout': 0.019708024026567968, 'LSTM_recurrent_dropout': 0.005244337449382403}. Best is trial 6 with value: 1.0028087102942131.\n",
            "2025-08-26 13:53:55,194 - Non-finite/too-large values in train y time: 48 samples.\n",
            "2025-08-26 13:53:55,194 - Removing 48 samples from training data.\n"
          ]
        },
        {
          "name": "stderr",
          "output_type": "stream",
          "text": [
            "Epochs:   0%|          | 0/2 [00:00<?, ?it/s]"
          ]
        },
        {
          "name": "stdout",
          "output_type": "stream",
          "text": [
            "2025-08-26 13:54:27,216 - Epoch 1/2 — Train RMSE: 0.4537 — Validation RMSE: 0.4212\n"
          ]
        },
        {
          "name": "stderr",
          "output_type": "stream",
          "text": [
            "Epochs:  50%|█████     | 1/2 [00:23<00:23, 23.65s/it]"
          ]
        },
        {
          "name": "stdout",
          "output_type": "stream",
          "text": [
            "2025-08-26 13:54:50,516 - Epoch 2/2 — Train RMSE: 0.4292 — Validation RMSE: 0.4207\n"
          ]
        },
        {
          "name": "stderr",
          "output_type": "stream",
          "text": [
            "Epochs: 100%|██████████| 2/2 [00:46<00:00, 23.47s/it]\n"
          ]
        },
        {
          "name": "stdout",
          "output_type": "stream",
          "text": [
            "2025-08-26 13:54:54,407 - Trial 16 with params: {'idxAfterPrediction': 4, 'timesteps': 75, 'target_option': 'last', 'LoadupSamples_time_scaling_stretch': True, 'LoadupSamples_time_inc_factor': 76, 'LSTM_units': 32, 'LSTM_num_layers': 1, 'LSTM_dropout': 0.004241837662847962, 'LSTM_recurrent_dropout': 0.005535669472963634, 'LSTM_learning_rate': 0.0004714245379196445, 'LSTM_optimizer': 'adam', 'LSTM_bidirectional': True, 'LSTM_batch_size': 4096, 'LSTM_epochs': 2, 'LSTM_l1': 5.3026774457509445e-05, 'LSTM_l2': 0.00039132869389239057, 'LSTM_inter_dropout': 0.01025067899270143, 'LSTM_input_gaussian_noise': 0.001, 'LSTM_conv1d': True, 'LSTM_conv1d_kernel_size': 3, 'LSTM_loss': 'mse', 'LSTM_transformer_before': False, 'LSTM_transformer_after': False, 'LSTM_tf_d_model': 0, 'LSTM_tf_nhead': 2, 'LSTM_tf_num_layers_before': 0, 'LSTM_tf_num_layers_after': 0, 'LSTM_tf_dim_feedforward': 8, 'LSTM_tf_dropout': 0.1, 'LSTM_tf_positional_encoding': True, 'LSTM_tf_pool': 'last', 'year_start': 2021, 'is_single_feature': False}\n",
            "2025-08-26 13:54:54,407 -   q2: 0.9900\n",
            "2025-08-26 13:54:54,407 -   Duration0: 0:00:50.944325\n",
            "2025-08-26 13:54:54,407 -   Val RMSE0 adjusted: 0.0055\n",
            "2025-08-26 13:54:54,421 -   Mean all prediction: 0.9993\n",
            "2025-08-26 13:54:54,423 -   Mean above prediction: 1.0060\n",
            "2025-08-26 13:54:54,423 -   Mean below prediction: 0.9977\n",
            "2025-08-26 13:54:54,425 -   Quantile 0.99 for distance in mask above: 903.9199999999983\n",
            "2025-08-26 13:54:54,426 -   Quantile 0.99 for distance in mask below: 886.2399999999998\n",
            "2025-08-26 13:54:54,427 -   Ratio for quantile-distance-to-length above: 0.0014\n",
            "2025-08-26 13:54:54,427 -   Ratio for quantile-distance-to-length below: 0.0013\n",
            "2025-08-26 13:54:54,428 -   Score: 1.0015\n"
          ]
        },
        {
          "name": "stderr",
          "output_type": "stream",
          "text": [
            "[I 2025-08-26 13:54:54,479] Trial 16 finished with value: 1.0015083445462132 and parameters: {'year_start': 2021, 'LoadupSamples_time_inc_factor': 76, 'LSTM_units': 32, 'LSTM_learning_rate': 0.0004714245379196445, 'LSTM_l1': 5.3026774457509445e-05, 'LSTM_l2': 0.00039132869389239057, 'LSTM_dropout': 0.004241837662847962, 'LSTM_inter_dropout': 0.01025067899270143, 'LSTM_recurrent_dropout': 0.005535669472963634}. Best is trial 6 with value: 1.0028087102942131.\n"
          ]
        },
        {
          "name": "stdout",
          "output_type": "stream",
          "text": [
            "2025-08-26 13:54:54,479 - Trial 16 finished with value: 1.0015083445462132 and parameters: {'year_start': 2021, 'LoadupSamples_time_inc_factor': 76, 'LSTM_units': 32, 'LSTM_learning_rate': 0.0004714245379196445, 'LSTM_l1': 5.3026774457509445e-05, 'LSTM_l2': 0.00039132869389239057, 'LSTM_dropout': 0.004241837662847962, 'LSTM_inter_dropout': 0.01025067899270143, 'LSTM_recurrent_dropout': 0.005535669472963634}. Best is trial 6 with value: 1.0028087102942131.\n",
            "2025-08-26 13:55:02,042 - Non-finite/too-large values in train y time: 48 samples.\n",
            "2025-08-26 13:55:02,042 - Removing 48 samples from training data.\n"
          ]
        },
        {
          "name": "stderr",
          "output_type": "stream",
          "text": [
            "Epochs:   0%|          | 0/2 [00:00<?, ?it/s]"
          ]
        },
        {
          "name": "stdout",
          "output_type": "stream",
          "text": [
            "2025-08-26 13:55:34,178 - Epoch 1/2 — Train RMSE: 0.4305 — Validation RMSE: 0.4089\n"
          ]
        },
        {
          "name": "stderr",
          "output_type": "stream",
          "text": [
            "Epochs:  50%|█████     | 1/2 [00:23<00:23, 23.63s/it]"
          ]
        },
        {
          "name": "stdout",
          "output_type": "stream",
          "text": [
            "2025-08-26 13:55:57,462 - Epoch 2/2 — Train RMSE: 0.4174 — Validation RMSE: 0.4088\n"
          ]
        },
        {
          "name": "stderr",
          "output_type": "stream",
          "text": [
            "Epochs: 100%|██████████| 2/2 [00:46<00:00, 23.45s/it]\n"
          ]
        },
        {
          "name": "stdout",
          "output_type": "stream",
          "text": [
            "2025-08-26 13:56:01,508 - Trial 17 with params: {'idxAfterPrediction': 4, 'timesteps': 75, 'target_option': 'last', 'LoadupSamples_time_scaling_stretch': True, 'LoadupSamples_time_inc_factor': 66, 'LSTM_units': 32, 'LSTM_num_layers': 1, 'LSTM_dropout': 0.009848812362201758, 'LSTM_recurrent_dropout': 0.003529993304524969, 'LSTM_learning_rate': 0.00031109112631613186, 'LSTM_optimizer': 'adam', 'LSTM_bidirectional': True, 'LSTM_batch_size': 4096, 'LSTM_epochs': 2, 'LSTM_l1': 9.357702674700194e-05, 'LSTM_l2': 0.0002485213722370949, 'LSTM_inter_dropout': 0.019611368772497664, 'LSTM_input_gaussian_noise': 0.001, 'LSTM_conv1d': True, 'LSTM_conv1d_kernel_size': 3, 'LSTM_loss': 'mse', 'LSTM_transformer_before': False, 'LSTM_transformer_after': False, 'LSTM_tf_d_model': 0, 'LSTM_tf_nhead': 2, 'LSTM_tf_num_layers_before': 0, 'LSTM_tf_num_layers_after': 0, 'LSTM_tf_dim_feedforward': 8, 'LSTM_tf_dropout': 0.1, 'LSTM_tf_positional_encoding': True, 'LSTM_tf_pool': 'last', 'year_start': 2021, 'is_single_feature': False}\n",
            "2025-08-26 13:56:01,508 -   q2: 0.9900\n",
            "2025-08-26 13:56:01,508 -   Duration0: 0:00:51.044746\n",
            "2025-08-26 13:56:01,508 -   Val RMSE0 adjusted: 0.0062\n",
            "2025-08-26 13:56:01,508 -   Mean all prediction: 0.9993\n",
            "2025-08-26 13:56:01,508 -   Mean above prediction: 1.0060\n",
            "2025-08-26 13:56:01,508 -   Mean below prediction: 0.9983\n",
            "2025-08-26 13:56:01,508 -   Quantile 0.99 for distance in mask above: 835.4799999999996\n",
            "2025-08-26 13:56:01,521 -   Quantile 0.99 for distance in mask below: 920.2399999999998\n",
            "2025-08-26 13:56:01,521 -   Ratio for quantile-distance-to-length above: 0.0013\n",
            "2025-08-26 13:56:01,521 -   Ratio for quantile-distance-to-length below: 0.0014\n",
            "2025-08-26 13:56:01,521 -   Score: 1.0015\n"
          ]
        },
        {
          "name": "stderr",
          "output_type": "stream",
          "text": [
            "[I 2025-08-26 13:56:01,577] Trial 17 finished with value: 1.0015056446485555 and parameters: {'year_start': 2021, 'LoadupSamples_time_inc_factor': 66, 'LSTM_units': 32, 'LSTM_learning_rate': 0.00031109112631613186, 'LSTM_l1': 9.357702674700194e-05, 'LSTM_l2': 0.0002485213722370949, 'LSTM_dropout': 0.009848812362201758, 'LSTM_inter_dropout': 0.019611368772497664, 'LSTM_recurrent_dropout': 0.003529993304524969}. Best is trial 6 with value: 1.0028087102942131.\n"
          ]
        },
        {
          "name": "stdout",
          "output_type": "stream",
          "text": [
            "2025-08-26 13:56:01,577 - Trial 17 finished with value: 1.0015056446485555 and parameters: {'year_start': 2021, 'LoadupSamples_time_inc_factor': 66, 'LSTM_units': 32, 'LSTM_learning_rate': 0.00031109112631613186, 'LSTM_l1': 9.357702674700194e-05, 'LSTM_l2': 0.0002485213722370949, 'LSTM_dropout': 0.009848812362201758, 'LSTM_inter_dropout': 0.019611368772497664, 'LSTM_recurrent_dropout': 0.003529993304524969}. Best is trial 6 with value: 1.0028087102942131.\n",
            "2025-08-26 13:56:09,087 - Non-finite/too-large values in train y time: 48 samples.\n",
            "2025-08-26 13:56:09,087 - Removing 48 samples from training data.\n"
          ]
        },
        {
          "name": "stderr",
          "output_type": "stream",
          "text": [
            "Epochs:   0%|          | 0/2 [00:00<?, ?it/s]"
          ]
        },
        {
          "name": "stdout",
          "output_type": "stream",
          "text": [
            "2025-08-26 13:56:41,207 - Epoch 1/2 — Train RMSE: 0.4323 — Validation RMSE: 0.4041\n"
          ]
        },
        {
          "name": "stderr",
          "output_type": "stream",
          "text": [
            "Epochs:  50%|█████     | 1/2 [00:23<00:23, 23.58s/it]"
          ]
        },
        {
          "name": "stdout",
          "output_type": "stream",
          "text": [
            "2025-08-26 13:57:04,544 - Epoch 2/2 — Train RMSE: 0.4129 — Validation RMSE: 0.4035\n"
          ]
        },
        {
          "name": "stderr",
          "output_type": "stream",
          "text": [
            "Epochs: 100%|██████████| 2/2 [00:46<00:00, 23.47s/it]\n"
          ]
        },
        {
          "name": "stdout",
          "output_type": "stream",
          "text": [
            "2025-08-26 13:57:08,550 - Trial 18 with params: {'idxAfterPrediction': 4, 'timesteps': 75, 'target_option': 'last', 'LoadupSamples_time_scaling_stretch': True, 'LoadupSamples_time_inc_factor': 61, 'LSTM_units': 32, 'LSTM_num_layers': 1, 'LSTM_dropout': 0.0099081076216564, 'LSTM_recurrent_dropout': 0.006472569902920464, 'LSTM_learning_rate': 0.00042734750860326184, 'LSTM_optimizer': 'adam', 'LSTM_bidirectional': True, 'LSTM_batch_size': 4096, 'LSTM_epochs': 2, 'LSTM_l1': 5.9862927015080256e-05, 'LSTM_l2': 0.0006644539180609972, 'LSTM_inter_dropout': 0.023823160107098763, 'LSTM_input_gaussian_noise': 0.001, 'LSTM_conv1d': True, 'LSTM_conv1d_kernel_size': 3, 'LSTM_loss': 'mse', 'LSTM_transformer_before': False, 'LSTM_transformer_after': False, 'LSTM_tf_d_model': 0, 'LSTM_tf_nhead': 2, 'LSTM_tf_num_layers_before': 0, 'LSTM_tf_num_layers_after': 0, 'LSTM_tf_dim_feedforward': 8, 'LSTM_tf_dropout': 0.1, 'LSTM_tf_positional_encoding': True, 'LSTM_tf_pool': 'last', 'year_start': 2021, 'is_single_feature': False}\n",
            "2025-08-26 13:57:08,550 -   q2: 0.9900\n",
            "2025-08-26 13:57:08,550 -   Duration0: 0:00:51.060894\n",
            "2025-08-26 13:57:08,550 -   Val RMSE0 adjusted: 0.0066\n",
            "2025-08-26 13:57:08,550 -   Mean all prediction: 0.9993\n",
            "2025-08-26 13:57:08,566 -   Mean above prediction: 1.0042\n",
            "2025-08-26 13:57:08,566 -   Mean below prediction: 0.9950\n",
            "2025-08-26 13:57:08,566 -   Quantile 0.99 for distance in mask above: 1089.4799999999996\n",
            "2025-08-26 13:57:08,566 -   Quantile 0.99 for distance in mask below: 810.4799999999996\n",
            "2025-08-26 13:57:08,566 -   Ratio for quantile-distance-to-length above: 0.0017\n",
            "2025-08-26 13:57:08,566 -   Ratio for quantile-distance-to-length below: 0.0012\n",
            "2025-08-26 13:57:08,571 -   Score: 1.0011\n"
          ]
        },
        {
          "name": "stderr",
          "output_type": "stream",
          "text": [
            "[I 2025-08-26 13:57:08,621] Trial 18 finished with value: 1.0010534141398046 and parameters: {'year_start': 2021, 'LoadupSamples_time_inc_factor': 61, 'LSTM_units': 32, 'LSTM_learning_rate': 0.00042734750860326184, 'LSTM_l1': 5.9862927015080256e-05, 'LSTM_l2': 0.0006644539180609972, 'LSTM_dropout': 0.0099081076216564, 'LSTM_inter_dropout': 0.023823160107098763, 'LSTM_recurrent_dropout': 0.006472569902920464}. Best is trial 6 with value: 1.0028087102942131.\n"
          ]
        },
        {
          "name": "stdout",
          "output_type": "stream",
          "text": [
            "2025-08-26 13:57:08,621 - Trial 18 finished with value: 1.0010534141398046 and parameters: {'year_start': 2021, 'LoadupSamples_time_inc_factor': 61, 'LSTM_units': 32, 'LSTM_learning_rate': 0.00042734750860326184, 'LSTM_l1': 5.9862927015080256e-05, 'LSTM_l2': 0.0006644539180609972, 'LSTM_dropout': 0.0099081076216564, 'LSTM_inter_dropout': 0.023823160107098763, 'LSTM_recurrent_dropout': 0.006472569902920464}. Best is trial 6 with value: 1.0028087102942131.\n",
            "2025-08-26 13:57:14,502 - Non-finite/too-large values in train y time: 48 samples.\n",
            "2025-08-26 13:57:14,502 - Removing 48 samples from training data.\n"
          ]
        },
        {
          "name": "stderr",
          "output_type": "stream",
          "text": [
            "Epochs:   0%|          | 0/2 [00:00<?, ?it/s]"
          ]
        },
        {
          "name": "stdout",
          "output_type": "stream",
          "text": [
            "2025-08-26 13:57:38,999 - Epoch 1/2 — Train RMSE: 0.4730 — Validation RMSE: 0.4198\n"
          ]
        },
        {
          "name": "stderr",
          "output_type": "stream",
          "text": [
            "Epochs:  50%|█████     | 1/2 [00:17<00:17, 17.89s/it]"
          ]
        },
        {
          "name": "stdout",
          "output_type": "stream",
          "text": [
            "2025-08-26 13:57:56,640 - Epoch 2/2 — Train RMSE: 0.4331 — Validation RMSE: 0.4197\n"
          ]
        },
        {
          "name": "stderr",
          "output_type": "stream",
          "text": [
            "Epochs: 100%|██████████| 2/2 [00:35<00:00, 17.77s/it]\n"
          ]
        },
        {
          "name": "stdout",
          "output_type": "stream",
          "text": [
            "2025-08-26 13:58:00,228 - Trial 19 with params: {'idxAfterPrediction': 4, 'timesteps': 75, 'target_option': 'last', 'LoadupSamples_time_scaling_stretch': True, 'LoadupSamples_time_inc_factor': 76, 'LSTM_units': 32, 'LSTM_num_layers': 1, 'LSTM_dropout': 0.0045420563281758876, 'LSTM_recurrent_dropout': 0.0010586568029177016, 'LSTM_learning_rate': 0.0002532747205726438, 'LSTM_optimizer': 'adam', 'LSTM_bidirectional': True, 'LSTM_batch_size': 4096, 'LSTM_epochs': 2, 'LSTM_l1': 4.0046828591233e-05, 'LSTM_l2': 0.00021682674373313084, 'LSTM_inter_dropout': 0.014610348879840147, 'LSTM_input_gaussian_noise': 0.001, 'LSTM_conv1d': True, 'LSTM_conv1d_kernel_size': 3, 'LSTM_loss': 'mse', 'LSTM_transformer_before': False, 'LSTM_transformer_after': False, 'LSTM_tf_d_model': 0, 'LSTM_tf_nhead': 2, 'LSTM_tf_num_layers_before': 0, 'LSTM_tf_num_layers_after': 0, 'LSTM_tf_dim_feedforward': 8, 'LSTM_tf_dropout': 0.1, 'LSTM_tf_positional_encoding': True, 'LSTM_tf_pool': 'last', 'year_start': 2022, 'is_single_feature': False}\n",
            "2025-08-26 13:58:00,229 -   q2: 0.9900\n",
            "2025-08-26 13:58:00,229 -   Duration0: 0:00:39.202352\n",
            "2025-08-26 13:58:00,229 -   Val RMSE0 adjusted: 0.0055\n",
            "2025-08-26 13:58:00,229 -   Mean all prediction: 0.9993\n",
            "2025-08-26 13:58:00,229 -   Mean above prediction: 1.0110\n",
            "2025-08-26 13:58:00,229 -   Mean below prediction: 0.9973\n",
            "2025-08-26 13:58:00,229 -   Quantile 0.99 for distance in mask above: 980.6399999999921\n",
            "2025-08-26 13:58:00,229 -   Quantile 0.99 for distance in mask below: 860.4799999999996\n",
            "2025-08-26 13:58:00,229 -   Ratio for quantile-distance-to-length above: 0.0015\n",
            "2025-08-26 13:58:00,229 -   Ratio for quantile-distance-to-length below: 0.0013\n",
            "2025-08-26 13:58:00,229 -   Score: 1.0027\n"
          ]
        },
        {
          "name": "stderr",
          "output_type": "stream",
          "text": [
            "[I 2025-08-26 13:58:00,283] Trial 19 finished with value: 1.0027422312501966 and parameters: {'year_start': 2022, 'LoadupSamples_time_inc_factor': 76, 'LSTM_units': 32, 'LSTM_learning_rate': 0.0002532747205726438, 'LSTM_l1': 4.0046828591233e-05, 'LSTM_l2': 0.00021682674373313084, 'LSTM_dropout': 0.0045420563281758876, 'LSTM_inter_dropout': 0.014610348879840147, 'LSTM_recurrent_dropout': 0.0010586568029177016}. Best is trial 6 with value: 1.0028087102942131.\n"
          ]
        },
        {
          "name": "stdout",
          "output_type": "stream",
          "text": [
            "2025-08-26 13:58:00,283 - Trial 19 finished with value: 1.0027422312501966 and parameters: {'year_start': 2022, 'LoadupSamples_time_inc_factor': 76, 'LSTM_units': 32, 'LSTM_learning_rate': 0.0002532747205726438, 'LSTM_l1': 4.0046828591233e-05, 'LSTM_l2': 0.00021682674373313084, 'LSTM_dropout': 0.0045420563281758876, 'LSTM_inter_dropout': 0.014610348879840147, 'LSTM_recurrent_dropout': 0.0010586568029177016}. Best is trial 6 with value: 1.0028087102942131.\n",
            "2025-08-26 13:58:06,159 - Non-finite/too-large values in train y time: 48 samples.\n",
            "2025-08-26 13:58:06,159 - Removing 48 samples from training data.\n"
          ]
        },
        {
          "name": "stderr",
          "output_type": "stream",
          "text": [
            "Epochs:   0%|          | 0/2 [00:00<?, ?it/s]"
          ]
        },
        {
          "name": "stdout",
          "output_type": "stream",
          "text": [
            "2025-08-26 13:58:30,462 - Epoch 1/2 — Train RMSE: 0.4750 — Validation RMSE: 0.4090\n"
          ]
        },
        {
          "name": "stderr",
          "output_type": "stream",
          "text": [
            "Epochs:  50%|█████     | 1/2 [00:17<00:17, 17.79s/it]"
          ]
        },
        {
          "name": "stdout",
          "output_type": "stream",
          "text": [
            "2025-08-26 13:58:48,083 - Epoch 2/2 — Train RMSE: 0.4230 — Validation RMSE: 0.4089\n"
          ]
        },
        {
          "name": "stderr",
          "output_type": "stream",
          "text": [
            "Epochs: 100%|██████████| 2/2 [00:35<00:00, 17.70s/it]\n"
          ]
        },
        {
          "name": "stdout",
          "output_type": "stream",
          "text": [
            "2025-08-26 13:58:51,945 - Trial 20 with params: {'idxAfterPrediction': 4, 'timesteps': 75, 'target_option': 'last', 'LoadupSamples_time_scaling_stretch': True, 'LoadupSamples_time_inc_factor': 66, 'LSTM_units': 32, 'LSTM_num_layers': 1, 'LSTM_dropout': 0.004402290176957115, 'LSTM_recurrent_dropout': 0.0010145475580227855, 'LSTM_learning_rate': 0.0002474626216369213, 'LSTM_optimizer': 'adam', 'LSTM_bidirectional': True, 'LSTM_batch_size': 4096, 'LSTM_epochs': 2, 'LSTM_l1': 3.7989267123088336e-05, 'LSTM_l2': 0.00018866518577684535, 'LSTM_inter_dropout': 0.016609323683342923, 'LSTM_input_gaussian_noise': 0.001, 'LSTM_conv1d': True, 'LSTM_conv1d_kernel_size': 3, 'LSTM_loss': 'mse', 'LSTM_transformer_before': False, 'LSTM_transformer_after': False, 'LSTM_tf_d_model': 0, 'LSTM_tf_nhead': 2, 'LSTM_tf_num_layers_before': 0, 'LSTM_tf_num_layers_after': 0, 'LSTM_tf_dim_feedforward': 8, 'LSTM_tf_dropout': 0.1, 'LSTM_tf_positional_encoding': True, 'LSTM_tf_pool': 'last', 'year_start': 2022, 'is_single_feature': False}\n",
            "2025-08-26 13:58:51,945 -   q2: 0.9900\n",
            "2025-08-26 13:58:51,945 -   Duration0: 0:00:39.352649\n",
            "2025-08-26 13:58:51,945 -   Val RMSE0 adjusted: 0.0062\n",
            "2025-08-26 13:58:51,945 -   Mean all prediction: 0.9993\n",
            "2025-08-26 13:58:51,959 -   Mean above prediction: 1.0057\n",
            "2025-08-26 13:58:51,959 -   Mean below prediction: 0.9968\n",
            "2025-08-26 13:58:51,959 -   Quantile 0.99 for distance in mask above: 870.0\n",
            "2025-08-26 13:58:51,959 -   Quantile 0.99 for distance in mask below: 926.2399999999998\n",
            "2025-08-26 13:58:51,959 -   Ratio for quantile-distance-to-length above: 0.0013\n",
            "2025-08-26 13:58:51,963 -   Ratio for quantile-distance-to-length below: 0.0014\n",
            "2025-08-26 13:58:51,963 -   Score: 1.0014\n"
          ]
        },
        {
          "name": "stderr",
          "output_type": "stream",
          "text": [
            "[I 2025-08-26 13:58:51,999] Trial 20 finished with value: 1.0014179215694823 and parameters: {'year_start': 2022, 'LoadupSamples_time_inc_factor': 66, 'LSTM_units': 32, 'LSTM_learning_rate': 0.0002474626216369213, 'LSTM_l1': 3.7989267123088336e-05, 'LSTM_l2': 0.00018866518577684535, 'LSTM_dropout': 0.004402290176957115, 'LSTM_inter_dropout': 0.016609323683342923, 'LSTM_recurrent_dropout': 0.0010145475580227855}. Best is trial 6 with value: 1.0028087102942131.\n"
          ]
        },
        {
          "name": "stdout",
          "output_type": "stream",
          "text": [
            "2025-08-26 13:58:51,999 - Trial 20 finished with value: 1.0014179215694823 and parameters: {'year_start': 2022, 'LoadupSamples_time_inc_factor': 66, 'LSTM_units': 32, 'LSTM_learning_rate': 0.0002474626216369213, 'LSTM_l1': 3.7989267123088336e-05, 'LSTM_l2': 0.00018866518577684535, 'LSTM_dropout': 0.004402290176957115, 'LSTM_inter_dropout': 0.016609323683342923, 'LSTM_recurrent_dropout': 0.0010145475580227855}. Best is trial 6 with value: 1.0028087102942131.\n",
            "2025-08-26 13:58:57,871 - Non-finite/too-large values in train y time: 48 samples.\n",
            "2025-08-26 13:58:57,871 - Removing 48 samples from training data.\n"
          ]
        },
        {
          "name": "stderr",
          "output_type": "stream",
          "text": [
            "Epochs:   0%|          | 0/2 [00:00<?, ?it/s]"
          ]
        },
        {
          "name": "stdout",
          "output_type": "stream",
          "text": [
            "2025-08-26 13:59:22,208 - Epoch 1/2 — Train RMSE: 0.4752 — Validation RMSE: 0.4202\n"
          ]
        },
        {
          "name": "stderr",
          "output_type": "stream",
          "text": [
            "Epochs:  50%|█████     | 1/2 [00:17<00:17, 17.72s/it]"
          ]
        },
        {
          "name": "stdout",
          "output_type": "stream",
          "text": [
            "2025-08-26 13:59:39,799 - Epoch 2/2 — Train RMSE: 0.4332 — Validation RMSE: 0.4198\n"
          ]
        },
        {
          "name": "stderr",
          "output_type": "stream",
          "text": [
            "Epochs: 100%|██████████| 2/2 [00:35<00:00, 17.66s/it]\n"
          ]
        },
        {
          "name": "stdout",
          "output_type": "stream",
          "text": [
            "2025-08-26 13:59:43,687 - Trial 21 with params: {'idxAfterPrediction': 4, 'timesteps': 75, 'target_option': 'last', 'LoadupSamples_time_scaling_stretch': True, 'LoadupSamples_time_inc_factor': 76, 'LSTM_units': 32, 'LSTM_num_layers': 1, 'LSTM_dropout': 0.003631399585485443, 'LSTM_recurrent_dropout': 0.002771850442663074, 'LSTM_learning_rate': 0.0002799957184132134, 'LSTM_optimizer': 'adam', 'LSTM_bidirectional': True, 'LSTM_batch_size': 4096, 'LSTM_epochs': 2, 'LSTM_l1': 4.072774172498766e-05, 'LSTM_l2': 0.00010217173561925696, 'LSTM_inter_dropout': 0.01391264666860933, 'LSTM_input_gaussian_noise': 0.001, 'LSTM_conv1d': True, 'LSTM_conv1d_kernel_size': 3, 'LSTM_loss': 'mse', 'LSTM_transformer_before': False, 'LSTM_transformer_after': False, 'LSTM_tf_d_model': 0, 'LSTM_tf_nhead': 2, 'LSTM_tf_num_layers_before': 0, 'LSTM_tf_num_layers_after': 0, 'LSTM_tf_dim_feedforward': 8, 'LSTM_tf_dropout': 0.1, 'LSTM_tf_positional_encoding': True, 'LSTM_tf_pool': 'last', 'year_start': 2022, 'is_single_feature': False}\n",
            "2025-08-26 13:59:43,687 -   q2: 0.9900\n",
            "2025-08-26 13:59:43,687 -   Duration0: 0:00:39.286867\n",
            "2025-08-26 13:59:43,703 -   Val RMSE0 adjusted: 0.0055\n",
            "2025-08-26 13:59:43,705 -   Mean all prediction: 0.9993\n",
            "2025-08-26 13:59:43,705 -   Mean above prediction: 1.0083\n",
            "2025-08-26 13:59:43,705 -   Mean below prediction: 0.9947\n",
            "2025-08-26 13:59:43,705 -   Quantile 0.99 for distance in mask above: 1021.0799999999963\n",
            "2025-08-26 13:59:43,705 -   Quantile 0.99 for distance in mask below: 795.6799999999985\n",
            "2025-08-26 13:59:43,705 -   Ratio for quantile-distance-to-length above: 0.0016\n",
            "2025-08-26 13:59:43,714 -   Ratio for quantile-distance-to-length below: 0.0012\n",
            "2025-08-26 13:59:43,715 -   Score: 1.0021\n"
          ]
        },
        {
          "name": "stderr",
          "output_type": "stream",
          "text": [
            "[I 2025-08-26 13:59:43,757] Trial 21 finished with value: 1.0020805245616946 and parameters: {'year_start': 2022, 'LoadupSamples_time_inc_factor': 76, 'LSTM_units': 32, 'LSTM_learning_rate': 0.0002799957184132134, 'LSTM_l1': 4.072774172498766e-05, 'LSTM_l2': 0.00010217173561925696, 'LSTM_dropout': 0.003631399585485443, 'LSTM_inter_dropout': 0.01391264666860933, 'LSTM_recurrent_dropout': 0.002771850442663074}. Best is trial 6 with value: 1.0028087102942131.\n"
          ]
        },
        {
          "name": "stdout",
          "output_type": "stream",
          "text": [
            "2025-08-26 13:59:43,757 - Trial 21 finished with value: 1.0020805245616946 and parameters: {'year_start': 2022, 'LoadupSamples_time_inc_factor': 76, 'LSTM_units': 32, 'LSTM_learning_rate': 0.0002799957184132134, 'LSTM_l1': 4.072774172498766e-05, 'LSTM_l2': 0.00010217173561925696, 'LSTM_dropout': 0.003631399585485443, 'LSTM_inter_dropout': 0.01391264666860933, 'LSTM_recurrent_dropout': 0.002771850442663074}. Best is trial 6 with value: 1.0028087102942131.\n",
            "2025-08-26 13:59:49,634 - Non-finite/too-large values in train y time: 48 samples.\n",
            "2025-08-26 13:59:49,651 - Removing 48 samples from training data.\n"
          ]
        },
        {
          "name": "stderr",
          "output_type": "stream",
          "text": [
            "Epochs:   0%|          | 0/2 [00:00<?, ?it/s]"
          ]
        },
        {
          "name": "stdout",
          "output_type": "stream",
          "text": [
            "2025-08-26 14:00:14,037 - Epoch 1/2 — Train RMSE: 0.4558 — Validation RMSE: 0.4217\n"
          ]
        },
        {
          "name": "stderr",
          "output_type": "stream",
          "text": [
            "Epochs:  50%|█████     | 1/2 [00:17<00:17, 17.91s/it]"
          ]
        },
        {
          "name": "stdout",
          "output_type": "stream",
          "text": [
            "2025-08-26 14:00:31,609 - Epoch 2/2 — Train RMSE: 0.4345 — Validation RMSE: 0.4209\n"
          ]
        },
        {
          "name": "stderr",
          "output_type": "stream",
          "text": [
            "Epochs: 100%|██████████| 2/2 [00:35<00:00, 17.74s/it]\n"
          ]
        },
        {
          "name": "stdout",
          "output_type": "stream",
          "text": [
            "2025-08-26 14:00:35,200 - Trial 22 with params: {'idxAfterPrediction': 4, 'timesteps': 75, 'target_option': 'last', 'LoadupSamples_time_scaling_stretch': True, 'LoadupSamples_time_inc_factor': 76, 'LSTM_units': 32, 'LSTM_num_layers': 1, 'LSTM_dropout': 0.007878390980957686, 'LSTM_recurrent_dropout': 0.0010000925171315522, 'LSTM_learning_rate': 0.0003975869318394829, 'LSTM_optimizer': 'adam', 'LSTM_bidirectional': True, 'LSTM_batch_size': 4096, 'LSTM_epochs': 2, 'LSTM_l1': 6.603571585504319e-05, 'LSTM_l2': 0.0003100945397677251, 'LSTM_inter_dropout': 0.0241711885059203, 'LSTM_input_gaussian_noise': 0.001, 'LSTM_conv1d': True, 'LSTM_conv1d_kernel_size': 3, 'LSTM_loss': 'mse', 'LSTM_transformer_before': False, 'LSTM_transformer_after': False, 'LSTM_tf_d_model': 0, 'LSTM_tf_nhead': 2, 'LSTM_tf_num_layers_before': 0, 'LSTM_tf_num_layers_after': 0, 'LSTM_tf_dim_feedforward': 8, 'LSTM_tf_dropout': 0.1, 'LSTM_tf_positional_encoding': True, 'LSTM_tf_pool': 'last', 'year_start': 2022, 'is_single_feature': False}\n",
            "2025-08-26 14:00:35,200 -   q2: 0.9900\n",
            "2025-08-26 14:00:35,200 -   Duration0: 0:00:39.145920\n",
            "2025-08-26 14:00:35,200 -   Val RMSE0 adjusted: 0.0055\n",
            "2025-08-26 14:00:35,200 -   Mean all prediction: 0.9993\n",
            "2025-08-26 14:00:35,200 -   Mean above prediction: 1.0012\n",
            "2025-08-26 14:00:35,200 -   Mean below prediction: 0.9963\n",
            "2025-08-26 14:00:35,200 -   Quantile 0.99 for distance in mask above: 834.2399999999998\n",
            "2025-08-26 14:00:35,200 -   Quantile 0.99 for distance in mask below: 786.9199999999983\n",
            "2025-08-26 14:00:35,215 -   Ratio for quantile-distance-to-length above: 0.0013\n",
            "2025-08-26 14:00:35,216 -   Ratio for quantile-distance-to-length below: 0.0012\n",
            "2025-08-26 14:00:35,217 -   Score: 1.0003\n"
          ]
        },
        {
          "name": "stderr",
          "output_type": "stream",
          "text": [
            "[I 2025-08-26 14:00:35,257] Trial 22 finished with value: 1.0003020077047382 and parameters: {'year_start': 2022, 'LoadupSamples_time_inc_factor': 76, 'LSTM_units': 32, 'LSTM_learning_rate': 0.0003975869318394829, 'LSTM_l1': 6.603571585504319e-05, 'LSTM_l2': 0.0003100945397677251, 'LSTM_dropout': 0.007878390980957686, 'LSTM_inter_dropout': 0.0241711885059203, 'LSTM_recurrent_dropout': 0.0010000925171315522}. Best is trial 6 with value: 1.0028087102942131.\n"
          ]
        },
        {
          "name": "stdout",
          "output_type": "stream",
          "text": [
            "2025-08-26 14:00:35,257 - Trial 22 finished with value: 1.0003020077047382 and parameters: {'year_start': 2022, 'LoadupSamples_time_inc_factor': 76, 'LSTM_units': 32, 'LSTM_learning_rate': 0.0003975869318394829, 'LSTM_l1': 6.603571585504319e-05, 'LSTM_l2': 0.0003100945397677251, 'LSTM_dropout': 0.007878390980957686, 'LSTM_inter_dropout': 0.0241711885059203, 'LSTM_recurrent_dropout': 0.0010000925171315522}. Best is trial 6 with value: 1.0028087102942131.\n",
            "2025-08-26 14:00:42,800 - Non-finite/too-large values in train y time: 48 samples.\n",
            "2025-08-26 14:00:42,802 - Removing 48 samples from training data.\n"
          ]
        },
        {
          "name": "stderr",
          "output_type": "stream",
          "text": [
            "Epochs:   0%|          | 0/2 [00:00<?, ?it/s]"
          ]
        },
        {
          "name": "stdout",
          "output_type": "stream",
          "text": [
            "2025-08-26 14:01:14,702 - Epoch 1/2 — Train RMSE: 0.4459 — Validation RMSE: 0.4227\n"
          ]
        },
        {
          "name": "stderr",
          "output_type": "stream",
          "text": [
            "Epochs:  50%|█████     | 1/2 [00:23<00:23, 23.47s/it]"
          ]
        },
        {
          "name": "stdout",
          "output_type": "stream",
          "text": [
            "2025-08-26 14:01:38,220 - Epoch 2/2 — Train RMSE: 0.4293 — Validation RMSE: 0.4213\n"
          ]
        },
        {
          "name": "stderr",
          "output_type": "stream",
          "text": [
            "Epochs: 100%|██████████| 2/2 [00:47<00:00, 23.50s/it]\n"
          ]
        },
        {
          "name": "stdout",
          "output_type": "stream",
          "text": [
            "2025-08-26 14:01:41,713 - Trial 23 with params: {'idxAfterPrediction': 4, 'timesteps': 75, 'target_option': 'last', 'LoadupSamples_time_scaling_stretch': True, 'LoadupSamples_time_inc_factor': 76, 'LSTM_units': 32, 'LSTM_num_layers': 1, 'LSTM_dropout': 0.004270113873238797, 'LSTM_recurrent_dropout': 0.004430034326322424, 'LSTM_learning_rate': 0.0004952158983506921, 'LSTM_optimizer': 'adam', 'LSTM_bidirectional': True, 'LSTM_batch_size': 4096, 'LSTM_epochs': 2, 'LSTM_l1': 4.7437093765042124e-05, 'LSTM_l2': 0.00017103697222031487, 'LSTM_inter_dropout': 0.012015198775395053, 'LSTM_input_gaussian_noise': 0.001, 'LSTM_conv1d': True, 'LSTM_conv1d_kernel_size': 3, 'LSTM_loss': 'mse', 'LSTM_transformer_before': False, 'LSTM_transformer_after': False, 'LSTM_tf_d_model': 0, 'LSTM_tf_nhead': 2, 'LSTM_tf_num_layers_before': 0, 'LSTM_tf_num_layers_after': 0, 'LSTM_tf_dim_feedforward': 8, 'LSTM_tf_dropout': 0.1, 'LSTM_tf_positional_encoding': True, 'LSTM_tf_pool': 'last', 'year_start': 2021, 'is_single_feature': False}\n",
            "2025-08-26 14:01:41,713 -   q2: 0.9900\n",
            "2025-08-26 14:01:41,713 -   Duration0: 0:00:50.573383\n",
            "2025-08-26 14:01:41,713 -   Val RMSE0 adjusted: 0.0055\n",
            "2025-08-26 14:01:41,713 -   Mean all prediction: 0.9993\n",
            "2025-08-26 14:01:41,713 -   Mean above prediction: 1.0070\n",
            "2025-08-26 14:01:41,713 -   Mean below prediction: 0.9982\n",
            "2025-08-26 14:01:41,713 -   Quantile 0.99 for distance in mask above: 801.0\n",
            "2025-08-26 14:01:41,728 -   Quantile 0.99 for distance in mask below: 902.9599999999991\n",
            "2025-08-26 14:01:41,728 -   Ratio for quantile-distance-to-length above: 0.0012\n",
            "2025-08-26 14:01:41,728 -   Ratio for quantile-distance-to-length below: 0.0014\n",
            "2025-08-26 14:01:41,728 -   Score: 1.0017\n"
          ]
        },
        {
          "name": "stderr",
          "output_type": "stream",
          "text": [
            "[I 2025-08-26 14:01:41,781] Trial 23 finished with value: 1.001736462996925 and parameters: {'year_start': 2021, 'LoadupSamples_time_inc_factor': 76, 'LSTM_units': 32, 'LSTM_learning_rate': 0.0004952158983506921, 'LSTM_l1': 4.7437093765042124e-05, 'LSTM_l2': 0.00017103697222031487, 'LSTM_dropout': 0.004270113873238797, 'LSTM_inter_dropout': 0.012015198775395053, 'LSTM_recurrent_dropout': 0.004430034326322424}. Best is trial 6 with value: 1.0028087102942131.\n"
          ]
        },
        {
          "name": "stdout",
          "output_type": "stream",
          "text": [
            "2025-08-26 14:01:41,781 - Trial 23 finished with value: 1.001736462996925 and parameters: {'year_start': 2021, 'LoadupSamples_time_inc_factor': 76, 'LSTM_units': 32, 'LSTM_learning_rate': 0.0004952158983506921, 'LSTM_l1': 4.7437093765042124e-05, 'LSTM_l2': 0.00017103697222031487, 'LSTM_dropout': 0.004270113873238797, 'LSTM_inter_dropout': 0.012015198775395053, 'LSTM_recurrent_dropout': 0.004430034326322424}. Best is trial 6 with value: 1.0028087102942131.\n",
            "2025-08-26 14:01:47,708 - Non-finite/too-large values in train y time: 48 samples.\n",
            "2025-08-26 14:01:47,724 - Removing 48 samples from training data.\n"
          ]
        },
        {
          "name": "stderr",
          "output_type": "stream",
          "text": [
            "Epochs:   0%|          | 0/2 [00:00<?, ?it/s]"
          ]
        },
        {
          "name": "stdout",
          "output_type": "stream",
          "text": [
            "2025-08-26 14:02:12,211 - Epoch 1/2 — Train RMSE: 0.4344 — Validation RMSE: 0.4143\n"
          ]
        },
        {
          "name": "stderr",
          "output_type": "stream",
          "text": [
            "Epochs:  50%|█████     | 1/2 [00:17<00:17, 17.92s/it]"
          ]
        },
        {
          "name": "stdout",
          "output_type": "stream",
          "text": [
            "2025-08-26 14:02:29,849 - Epoch 2/2 — Train RMSE: 0.4261 — Validation RMSE: 0.4143\n"
          ]
        },
        {
          "name": "stderr",
          "output_type": "stream",
          "text": [
            "Epochs: 100%|██████████| 2/2 [00:35<00:00, 17.78s/it]\n"
          ]
        },
        {
          "name": "stdout",
          "output_type": "stream",
          "text": [
            "2025-08-26 14:02:33,457 - Trial 24 with params: {'idxAfterPrediction': 4, 'timesteps': 75, 'target_option': 'last', 'LoadupSamples_time_scaling_stretch': True, 'LoadupSamples_time_inc_factor': 71, 'LSTM_units': 32, 'LSTM_num_layers': 1, 'LSTM_dropout': 0.0024294066601846303, 'LSTM_recurrent_dropout': 0.0011453096221457032, 'LSTM_learning_rate': 0.00020702153191249213, 'LSTM_optimizer': 'adam', 'LSTM_bidirectional': True, 'LSTM_batch_size': 4096, 'LSTM_epochs': 2, 'LSTM_l1': 3.24940691544297e-05, 'LSTM_l2': 0.0007139687268296413, 'LSTM_inter_dropout': 0.016446007558858576, 'LSTM_input_gaussian_noise': 0.001, 'LSTM_conv1d': True, 'LSTM_conv1d_kernel_size': 3, 'LSTM_loss': 'mse', 'LSTM_transformer_before': False, 'LSTM_transformer_after': False, 'LSTM_tf_d_model': 0, 'LSTM_tf_nhead': 2, 'LSTM_tf_num_layers_before': 0, 'LSTM_tf_num_layers_after': 0, 'LSTM_tf_dim_feedforward': 8, 'LSTM_tf_dropout': 0.1, 'LSTM_tf_positional_encoding': True, 'LSTM_tf_pool': 'last', 'year_start': 2022, 'is_single_feature': False}\n",
            "2025-08-26 14:02:33,458 -   q2: 0.9900\n",
            "2025-08-26 14:02:33,459 -   Duration0: 0:00:39.247881\n",
            "2025-08-26 14:02:33,459 -   Val RMSE0 adjusted: 0.0058\n",
            "2025-08-26 14:02:33,461 -   Mean all prediction: 0.9993\n",
            "2025-08-26 14:02:33,461 -   Mean above prediction: 1.0020\n",
            "2025-08-26 14:02:33,461 -   Mean below prediction: 0.9965\n",
            "2025-08-26 14:02:33,461 -   Quantile 0.99 for distance in mask above: 832.4799999999996\n",
            "2025-08-26 14:02:33,461 -   Quantile 0.99 for distance in mask below: 831.7199999999993\n",
            "2025-08-26 14:02:33,461 -   Ratio for quantile-distance-to-length above: 0.0013\n",
            "2025-08-26 14:02:33,461 -   Ratio for quantile-distance-to-length below: 0.0013\n",
            "2025-08-26 14:02:33,471 -   Score: 1.0005\n"
          ]
        },
        {
          "name": "stderr",
          "output_type": "stream",
          "text": [
            "[I 2025-08-26 14:02:33,510] Trial 24 finished with value: 1.0004876554777253 and parameters: {'year_start': 2022, 'LoadupSamples_time_inc_factor': 71, 'LSTM_units': 32, 'LSTM_learning_rate': 0.00020702153191249213, 'LSTM_l1': 3.24940691544297e-05, 'LSTM_l2': 0.0007139687268296413, 'LSTM_dropout': 0.0024294066601846303, 'LSTM_inter_dropout': 0.016446007558858576, 'LSTM_recurrent_dropout': 0.0011453096221457032}. Best is trial 6 with value: 1.0028087102942131.\n"
          ]
        },
        {
          "name": "stdout",
          "output_type": "stream",
          "text": [
            "2025-08-26 14:02:33,510 - Trial 24 finished with value: 1.0004876554777253 and parameters: {'year_start': 2022, 'LoadupSamples_time_inc_factor': 71, 'LSTM_units': 32, 'LSTM_learning_rate': 0.00020702153191249213, 'LSTM_l1': 3.24940691544297e-05, 'LSTM_l2': 0.0007139687268296413, 'LSTM_dropout': 0.0024294066601846303, 'LSTM_inter_dropout': 0.016446007558858576, 'LSTM_recurrent_dropout': 0.0011453096221457032}. Best is trial 6 with value: 1.0028087102942131.\n",
            "2025-08-26 14:02:41,058 - Non-finite/too-large values in train y time: 48 samples.\n",
            "2025-08-26 14:02:41,074 - Removing 48 samples from training data.\n"
          ]
        },
        {
          "name": "stderr",
          "output_type": "stream",
          "text": [
            "Epochs:   0%|          | 0/2 [00:00<?, ?it/s]"
          ]
        },
        {
          "name": "stdout",
          "output_type": "stream",
          "text": [
            "2025-08-26 14:03:13,410 - Epoch 1/2 — Train RMSE: 0.4493 — Validation RMSE: 0.4202\n"
          ]
        },
        {
          "name": "stderr",
          "output_type": "stream",
          "text": [
            "Epochs:  50%|█████     | 1/2 [00:23<00:23, 23.81s/it]"
          ]
        },
        {
          "name": "stdout",
          "output_type": "stream",
          "text": [
            "2025-08-26 14:03:36,861 - Epoch 2/2 — Train RMSE: 0.4287 — Validation RMSE: 0.4199\n"
          ]
        },
        {
          "name": "stderr",
          "output_type": "stream",
          "text": [
            "Epochs: 100%|██████████| 2/2 [00:47<00:00, 23.63s/it]\n"
          ]
        },
        {
          "name": "stdout",
          "output_type": "stream",
          "text": [
            "2025-08-26 14:03:40,302 - Trial 25 with params: {'idxAfterPrediction': 4, 'timesteps': 75, 'target_option': 'last', 'LoadupSamples_time_scaling_stretch': True, 'LoadupSamples_time_inc_factor': 76, 'LSTM_units': 32, 'LSTM_num_layers': 1, 'LSTM_dropout': 0.005887502264621849, 'LSTM_recurrent_dropout': 0.00974856709766169, 'LSTM_learning_rate': 0.0003429916629014763, 'LSTM_optimizer': 'adam', 'LSTM_bidirectional': True, 'LSTM_batch_size': 4096, 'LSTM_epochs': 2, 'LSTM_l1': 2.3059656711605927e-05, 'LSTM_l2': 0.0003634942933333476, 'LSTM_inter_dropout': 0.024141452980360526, 'LSTM_input_gaussian_noise': 0.001, 'LSTM_conv1d': True, 'LSTM_conv1d_kernel_size': 3, 'LSTM_loss': 'mse', 'LSTM_transformer_before': False, 'LSTM_transformer_after': False, 'LSTM_tf_d_model': 0, 'LSTM_tf_nhead': 2, 'LSTM_tf_num_layers_before': 0, 'LSTM_tf_num_layers_after': 0, 'LSTM_tf_dim_feedforward': 8, 'LSTM_tf_dropout': 0.1, 'LSTM_tf_positional_encoding': True, 'LSTM_tf_pool': 'last', 'year_start': 2021, 'is_single_feature': False}\n",
            "2025-08-26 14:03:40,302 -   q2: 0.9900\n",
            "2025-08-26 14:03:40,302 -   Duration0: 0:00:50.813383\n",
            "2025-08-26 14:03:40,302 -   Val RMSE0 adjusted: 0.0055\n",
            "2025-08-26 14:03:40,318 -   Mean all prediction: 0.9993\n",
            "2025-08-26 14:03:40,319 -   Mean above prediction: 1.0097\n",
            "2025-08-26 14:03:40,319 -   Mean below prediction: 0.9958\n",
            "2025-08-26 14:03:40,319 -   Quantile 0.99 for distance in mask above: 910.9599999999991\n",
            "2025-08-26 14:03:40,319 -   Quantile 0.99 for distance in mask below: 787.9599999999991\n",
            "2025-08-26 14:03:40,319 -   Ratio for quantile-distance-to-length above: 0.0014\n",
            "2025-08-26 14:03:40,319 -   Ratio for quantile-distance-to-length below: 0.0012\n",
            "2025-08-26 14:03:40,319 -   Score: 1.0024\n"
          ]
        },
        {
          "name": "stderr",
          "output_type": "stream",
          "text": [
            "[I 2025-08-26 14:03:40,376] Trial 25 finished with value: 1.0024199083680934 and parameters: {'year_start': 2021, 'LoadupSamples_time_inc_factor': 76, 'LSTM_units': 32, 'LSTM_learning_rate': 0.0003429916629014763, 'LSTM_l1': 2.3059656711605927e-05, 'LSTM_l2': 0.0003634942933333476, 'LSTM_dropout': 0.005887502264621849, 'LSTM_inter_dropout': 0.024141452980360526, 'LSTM_recurrent_dropout': 0.00974856709766169}. Best is trial 6 with value: 1.0028087102942131.\n"
          ]
        },
        {
          "name": "stdout",
          "output_type": "stream",
          "text": [
            "2025-08-26 14:03:40,376 - Trial 25 finished with value: 1.0024199083680934 and parameters: {'year_start': 2021, 'LoadupSamples_time_inc_factor': 76, 'LSTM_units': 32, 'LSTM_learning_rate': 0.0003429916629014763, 'LSTM_l1': 2.3059656711605927e-05, 'LSTM_l2': 0.0003634942933333476, 'LSTM_dropout': 0.005887502264621849, 'LSTM_inter_dropout': 0.024141452980360526, 'LSTM_recurrent_dropout': 0.00974856709766169}. Best is trial 6 with value: 1.0028087102942131.\n",
            "2025-08-26 14:03:46,282 - Non-finite/too-large values in train y time: 48 samples.\n",
            "2025-08-26 14:03:46,282 - Removing 48 samples from training data.\n"
          ]
        },
        {
          "name": "stderr",
          "output_type": "stream",
          "text": [
            "Epochs:   0%|          | 0/2 [00:00<?, ?it/s]"
          ]
        },
        {
          "name": "stdout",
          "output_type": "stream",
          "text": [
            "2025-08-26 14:04:10,518 - Epoch 1/2 — Train RMSE: 0.4465 — Validation RMSE: 0.4145\n"
          ]
        },
        {
          "name": "stderr",
          "output_type": "stream",
          "text": [
            "Epochs:  50%|█████     | 1/2 [00:17<00:17, 17.77s/it]"
          ]
        },
        {
          "name": "stdout",
          "output_type": "stream",
          "text": [
            "2025-08-26 14:04:28,126 - Epoch 2/2 — Train RMSE: 0.4276 — Validation RMSE: 0.4144\n"
          ]
        },
        {
          "name": "stderr",
          "output_type": "stream",
          "text": [
            "Epochs: 100%|██████████| 2/2 [00:35<00:00, 17.69s/it]\n"
          ]
        },
        {
          "name": "stdout",
          "output_type": "stream",
          "text": [
            "2025-08-26 14:04:31,848 - Trial 26 with params: {'idxAfterPrediction': 4, 'timesteps': 75, 'target_option': 'last', 'LoadupSamples_time_scaling_stretch': True, 'LoadupSamples_time_inc_factor': 71, 'LSTM_units': 32, 'LSTM_num_layers': 1, 'LSTM_dropout': 0.007641323652656127, 'LSTM_recurrent_dropout': 0.0022639013897809016, 'LSTM_learning_rate': 0.0002624315732716703, 'LSTM_optimizer': 'adam', 'LSTM_bidirectional': True, 'LSTM_batch_size': 4096, 'LSTM_epochs': 2, 'LSTM_l1': 7.474125863132813e-05, 'LSTM_l2': 0.0020974609460472607, 'LSTM_inter_dropout': 0.010641855296833551, 'LSTM_input_gaussian_noise': 0.001, 'LSTM_conv1d': True, 'LSTM_conv1d_kernel_size': 3, 'LSTM_loss': 'mse', 'LSTM_transformer_before': False, 'LSTM_transformer_after': False, 'LSTM_tf_d_model': 0, 'LSTM_tf_nhead': 2, 'LSTM_tf_num_layers_before': 0, 'LSTM_tf_num_layers_after': 0, 'LSTM_tf_dim_feedforward': 8, 'LSTM_tf_dropout': 0.1, 'LSTM_tf_positional_encoding': True, 'LSTM_tf_pool': 'last', 'year_start': 2022, 'is_single_feature': False}\n",
            "2025-08-26 14:04:31,848 -   q2: 0.9900\n",
            "2025-08-26 14:04:31,848 -   Duration0: 0:00:39.187289\n",
            "2025-08-26 14:04:31,848 -   Val RMSE0 adjusted: 0.0058\n",
            "2025-08-26 14:04:31,857 -   Mean all prediction: 0.9993\n",
            "2025-08-26 14:04:31,857 -   Mean above prediction: 1.0072\n",
            "2025-08-26 14:04:31,857 -   Mean below prediction: 0.9958\n",
            "2025-08-26 14:04:31,857 -   Quantile 0.99 for distance in mask above: 932.6899999999987\n",
            "2025-08-26 14:04:31,857 -   Quantile 0.99 for distance in mask below: 877.6399999999976\n",
            "2025-08-26 14:04:31,857 -   Ratio for quantile-distance-to-length above: 0.0014\n",
            "2025-08-26 14:04:31,857 -   Ratio for quantile-distance-to-length below: 0.0013\n",
            "2025-08-26 14:04:31,864 -   Score: 1.0018\n"
          ]
        },
        {
          "name": "stderr",
          "output_type": "stream",
          "text": [
            "[I 2025-08-26 14:04:31,904] Trial 26 finished with value: 1.001793113293701 and parameters: {'year_start': 2022, 'LoadupSamples_time_inc_factor': 71, 'LSTM_units': 32, 'LSTM_learning_rate': 0.0002624315732716703, 'LSTM_l1': 7.474125863132813e-05, 'LSTM_l2': 0.0020974609460472607, 'LSTM_dropout': 0.007641323652656127, 'LSTM_inter_dropout': 0.010641855296833551, 'LSTM_recurrent_dropout': 0.0022639013897809016}. Best is trial 6 with value: 1.0028087102942131.\n"
          ]
        },
        {
          "name": "stdout",
          "output_type": "stream",
          "text": [
            "2025-08-26 14:04:31,904 - Trial 26 finished with value: 1.001793113293701 and parameters: {'year_start': 2022, 'LoadupSamples_time_inc_factor': 71, 'LSTM_units': 32, 'LSTM_learning_rate': 0.0002624315732716703, 'LSTM_l1': 7.474125863132813e-05, 'LSTM_l2': 0.0020974609460472607, 'LSTM_dropout': 0.007641323652656127, 'LSTM_inter_dropout': 0.010641855296833551, 'LSTM_recurrent_dropout': 0.0022639013897809016}. Best is trial 6 with value: 1.0028087102942131.\n",
            "2025-08-26 14:04:39,396 - Non-finite/too-large values in train y time: 48 samples.\n",
            "2025-08-26 14:04:39,405 - Removing 48 samples from training data.\n"
          ]
        },
        {
          "name": "stderr",
          "output_type": "stream",
          "text": [
            "Epochs:   0%|          | 0/2 [00:00<?, ?it/s]"
          ]
        },
        {
          "name": "stdout",
          "output_type": "stream",
          "text": [
            "2025-08-26 14:05:11,450 - Epoch 1/2 — Train RMSE: 0.4636 — Validation RMSE: 0.4247\n"
          ]
        },
        {
          "name": "stderr",
          "output_type": "stream",
          "text": [
            "Epochs:  50%|█████     | 1/2 [00:23<00:23, 23.57s/it]"
          ]
        },
        {
          "name": "stdout",
          "output_type": "stream",
          "text": [
            "2025-08-26 14:05:34,850 - Epoch 2/2 — Train RMSE: 0.4328 — Validation RMSE: 0.4244\n"
          ]
        },
        {
          "name": "stderr",
          "output_type": "stream",
          "text": [
            "Epochs: 100%|██████████| 2/2 [00:46<00:00, 23.48s/it]\n"
          ]
        },
        {
          "name": "stdout",
          "output_type": "stream",
          "text": [
            "2025-08-26 14:05:38,443 - Trial 27 with params: {'idxAfterPrediction': 4, 'timesteps': 75, 'target_option': 'last', 'LoadupSamples_time_scaling_stretch': True, 'LoadupSamples_time_inc_factor': 81, 'LSTM_units': 32, 'LSTM_num_layers': 1, 'LSTM_dropout': 0.0050090774168943305, 'LSTM_recurrent_dropout': 0.0016229580555804572, 'LSTM_learning_rate': 0.000323883119145047, 'LSTM_optimizer': 'adam', 'LSTM_bidirectional': True, 'LSTM_batch_size': 4096, 'LSTM_epochs': 2, 'LSTM_l1': 1.0225673023663941e-05, 'LSTM_l2': 0.0001987098265530744, 'LSTM_inter_dropout': 0.014153391455022885, 'LSTM_input_gaussian_noise': 0.001, 'LSTM_conv1d': True, 'LSTM_conv1d_kernel_size': 3, 'LSTM_loss': 'mse', 'LSTM_transformer_before': False, 'LSTM_transformer_after': False, 'LSTM_tf_d_model': 0, 'LSTM_tf_nhead': 2, 'LSTM_tf_num_layers_before': 0, 'LSTM_tf_num_layers_after': 0, 'LSTM_tf_dim_feedforward': 8, 'LSTM_tf_dropout': 0.1, 'LSTM_tf_positional_encoding': True, 'LSTM_tf_pool': 'last', 'year_start': 2021, 'is_single_feature': False}\n",
            "2025-08-26 14:05:38,443 -   q2: 0.9900\n",
            "2025-08-26 14:05:38,443 -   Duration0: 0:00:50.660164\n",
            "2025-08-26 14:05:38,443 -   Val RMSE0 adjusted: 0.0052\n",
            "2025-08-26 14:05:38,462 -   Mean all prediction: 0.9993\n",
            "2025-08-26 14:05:38,462 -   Mean above prediction: 1.0115\n",
            "2025-08-26 14:05:38,462 -   Mean below prediction: 0.9976\n",
            "2025-08-26 14:05:38,462 -   Quantile 0.99 for distance in mask above: 954.3799999999974\n",
            "2025-08-26 14:05:38,462 -   Quantile 0.99 for distance in mask below: 879.159999999998\n",
            "2025-08-26 14:05:38,462 -   Ratio for quantile-distance-to-length above: 0.0015\n",
            "2025-08-26 14:05:38,462 -   Ratio for quantile-distance-to-length below: 0.0013\n",
            "2025-08-26 14:05:38,462 -   Score: 1.0029\n"
          ]
        },
        {
          "name": "stderr",
          "output_type": "stream",
          "text": [
            "[I 2025-08-26 14:05:38,528] Trial 27 finished with value: 1.002858891904173 and parameters: {'year_start': 2021, 'LoadupSamples_time_inc_factor': 81, 'LSTM_units': 32, 'LSTM_learning_rate': 0.000323883119145047, 'LSTM_l1': 1.0225673023663941e-05, 'LSTM_l2': 0.0001987098265530744, 'LSTM_dropout': 0.0050090774168943305, 'LSTM_inter_dropout': 0.014153391455022885, 'LSTM_recurrent_dropout': 0.0016229580555804572}. Best is trial 27 with value: 1.002858891904173.\n"
          ]
        },
        {
          "name": "stdout",
          "output_type": "stream",
          "text": [
            "2025-08-26 14:05:38,528 - Trial 27 finished with value: 1.002858891904173 and parameters: {'year_start': 2021, 'LoadupSamples_time_inc_factor': 81, 'LSTM_units': 32, 'LSTM_learning_rate': 0.000323883119145047, 'LSTM_l1': 1.0225673023663941e-05, 'LSTM_l2': 0.0001987098265530744, 'LSTM_dropout': 0.0050090774168943305, 'LSTM_inter_dropout': 0.014153391455022885, 'LSTM_recurrent_dropout': 0.0016229580555804572}. Best is trial 27 with value: 1.002858891904173.\n",
            "2025-08-26 14:05:44,422 - Non-finite/too-large values in train y time: 48 samples.\n",
            "2025-08-26 14:05:44,422 - Removing 48 samples from training data.\n"
          ]
        },
        {
          "name": "stderr",
          "output_type": "stream",
          "text": [
            "Epochs:   0%|          | 0/2 [00:00<?, ?it/s]"
          ]
        },
        {
          "name": "stdout",
          "output_type": "stream",
          "text": [
            "2025-08-26 14:06:08,995 - Epoch 1/2 — Train RMSE: 0.5016 — Validation RMSE: 0.4257\n"
          ]
        },
        {
          "name": "stderr",
          "output_type": "stream",
          "text": [
            "Epochs:  50%|█████     | 1/2 [00:17<00:17, 17.94s/it]"
          ]
        },
        {
          "name": "stdout",
          "output_type": "stream",
          "text": [
            "2025-08-26 14:06:26,764 - Epoch 2/2 — Train RMSE: 0.4383 — Validation RMSE: 0.4246\n"
          ]
        },
        {
          "name": "stderr",
          "output_type": "stream",
          "text": [
            "Epochs: 100%|██████████| 2/2 [00:35<00:00, 17.85s/it]\n"
          ]
        },
        {
          "name": "stdout",
          "output_type": "stream",
          "text": [
            "2025-08-26 14:06:30,823 - Trial 28 with params: {'idxAfterPrediction': 4, 'timesteps': 75, 'target_option': 'last', 'LoadupSamples_time_scaling_stretch': True, 'LoadupSamples_time_inc_factor': 81, 'LSTM_units': 32, 'LSTM_num_layers': 1, 'LSTM_dropout': 0.005199147126681918, 'LSTM_recurrent_dropout': 0.001654639130845941, 'LSTM_learning_rate': 0.00022725098155738135, 'LSTM_optimizer': 'adam', 'LSTM_bidirectional': True, 'LSTM_batch_size': 4096, 'LSTM_epochs': 2, 'LSTM_l1': 1.0416097412686e-05, 'LSTM_l2': 0.0002033836402294009, 'LSTM_inter_dropout': 0.018001171330547468, 'LSTM_input_gaussian_noise': 0.001, 'LSTM_conv1d': True, 'LSTM_conv1d_kernel_size': 3, 'LSTM_loss': 'mse', 'LSTM_transformer_before': False, 'LSTM_transformer_after': False, 'LSTM_tf_d_model': 0, 'LSTM_tf_nhead': 2, 'LSTM_tf_num_layers_before': 0, 'LSTM_tf_num_layers_after': 0, 'LSTM_tf_dim_feedforward': 8, 'LSTM_tf_dropout': 0.1, 'LSTM_tf_positional_encoding': True, 'LSTM_tf_pool': 'last', 'year_start': 2022, 'is_single_feature': False}\n",
            "2025-08-26 14:06:30,823 -   q2: 0.9900\n",
            "2025-08-26 14:06:30,839 -   Duration0: 0:00:39.870114\n",
            "2025-08-26 14:06:30,839 -   Val RMSE0 adjusted: 0.0052\n",
            "2025-08-26 14:06:30,839 -   Mean all prediction: 0.9993\n",
            "2025-08-26 14:06:30,839 -   Mean above prediction: 1.0039\n",
            "2025-08-26 14:06:30,839 -   Mean below prediction: 0.9931\n",
            "2025-08-26 14:06:30,839 -   Quantile 0.99 for distance in mask above: 1182.7999999999956\n",
            "2025-08-26 14:06:30,839 -   Quantile 0.99 for distance in mask below: 721.9199999999983\n",
            "2025-08-26 14:06:30,839 -   Ratio for quantile-distance-to-length above: 0.0018\n",
            "2025-08-26 14:06:30,839 -   Ratio for quantile-distance-to-length below: 0.0011\n",
            "2025-08-26 14:06:30,839 -   Score: 1.0010\n"
          ]
        },
        {
          "name": "stderr",
          "output_type": "stream",
          "text": [
            "[I 2025-08-26 14:06:30,892] Trial 28 finished with value: 1.0009849370413169 and parameters: {'year_start': 2022, 'LoadupSamples_time_inc_factor': 81, 'LSTM_units': 32, 'LSTM_learning_rate': 0.00022725098155738135, 'LSTM_l1': 1.0416097412686e-05, 'LSTM_l2': 0.0002033836402294009, 'LSTM_dropout': 0.005199147126681918, 'LSTM_inter_dropout': 0.018001171330547468, 'LSTM_recurrent_dropout': 0.001654639130845941}. Best is trial 27 with value: 1.002858891904173.\n"
          ]
        },
        {
          "name": "stdout",
          "output_type": "stream",
          "text": [
            "2025-08-26 14:06:30,892 - Trial 28 finished with value: 1.0009849370413169 and parameters: {'year_start': 2022, 'LoadupSamples_time_inc_factor': 81, 'LSTM_units': 32, 'LSTM_learning_rate': 0.00022725098155738135, 'LSTM_l1': 1.0416097412686e-05, 'LSTM_l2': 0.0002033836402294009, 'LSTM_dropout': 0.005199147126681918, 'LSTM_inter_dropout': 0.018001171330547468, 'LSTM_recurrent_dropout': 0.001654639130845941}. Best is trial 27 with value: 1.002858891904173.\n",
            "2025-08-26 14:06:36,808 - Non-finite/too-large values in train y time: 48 samples.\n",
            "2025-08-26 14:06:36,808 - Removing 48 samples from training data.\n"
          ]
        },
        {
          "name": "stderr",
          "output_type": "stream",
          "text": [
            "Epochs:   0%|          | 0/2 [00:00<?, ?it/s]"
          ]
        },
        {
          "name": "stdout",
          "output_type": "stream",
          "text": [
            "2025-08-26 14:07:01,223 - Epoch 1/2 — Train RMSE: 0.4870 — Validation RMSE: 0.4248\n"
          ]
        },
        {
          "name": "stderr",
          "output_type": "stream",
          "text": [
            "Epochs:  50%|█████     | 1/2 [00:17<00:17, 17.84s/it]"
          ]
        },
        {
          "name": "stdout",
          "output_type": "stream",
          "text": [
            "2025-08-26 14:07:18,827 - Epoch 2/2 — Train RMSE: 0.4374 — Validation RMSE: 0.4243\n"
          ]
        },
        {
          "name": "stderr",
          "output_type": "stream",
          "text": [
            "Epochs: 100%|██████████| 2/2 [00:35<00:00, 17.72s/it]\n"
          ]
        },
        {
          "name": "stdout",
          "output_type": "stream",
          "text": [
            "2025-08-26 14:07:22,402 - Trial 29 with params: {'idxAfterPrediction': 4, 'timesteps': 75, 'target_option': 'last', 'LoadupSamples_time_scaling_stretch': True, 'LoadupSamples_time_inc_factor': 81, 'LSTM_units': 32, 'LSTM_num_layers': 1, 'LSTM_dropout': 0.004001874846570214, 'LSTM_recurrent_dropout': 0.0011748770286796133, 'LSTM_learning_rate': 0.0002391883349638561, 'LSTM_optimizer': 'adam', 'LSTM_bidirectional': True, 'LSTM_batch_size': 4096, 'LSTM_epochs': 2, 'LSTM_l1': 1.0330000081179742e-05, 'LSTM_l2': 0.00047634707489776774, 'LSTM_inter_dropout': 0.01291359561860339, 'LSTM_input_gaussian_noise': 0.001, 'LSTM_conv1d': True, 'LSTM_conv1d_kernel_size': 3, 'LSTM_loss': 'mse', 'LSTM_transformer_before': False, 'LSTM_transformer_after': False, 'LSTM_tf_d_model': 0, 'LSTM_tf_nhead': 2, 'LSTM_tf_num_layers_before': 0, 'LSTM_tf_num_layers_after': 0, 'LSTM_tf_dim_feedforward': 8, 'LSTM_tf_dropout': 0.1, 'LSTM_tf_positional_encoding': True, 'LSTM_tf_pool': 'last', 'year_start': 2022, 'is_single_feature': False}\n",
            "2025-08-26 14:07:22,402 -   q2: 0.9900\n",
            "2025-08-26 14:07:22,402 -   Duration0: 0:00:39.099889\n",
            "2025-08-26 14:07:22,402 -   Val RMSE0 adjusted: 0.0052\n",
            "2025-08-26 14:07:22,418 -   Mean all prediction: 0.9993\n",
            "2025-08-26 14:07:22,419 -   Mean above prediction: 1.0093\n",
            "2025-08-26 14:07:22,419 -   Mean below prediction: 0.9968\n",
            "2025-08-26 14:07:22,419 -   Quantile 0.99 for distance in mask above: 1003.159999999998\n",
            "2025-08-26 14:07:22,419 -   Quantile 0.99 for distance in mask below: 921.4799999999996\n",
            "2025-08-26 14:07:22,419 -   Ratio for quantile-distance-to-length above: 0.0015\n",
            "2025-08-26 14:07:22,419 -   Ratio for quantile-distance-to-length below: 0.0014\n",
            "2025-08-26 14:07:22,419 -   Score: 1.0023\n"
          ]
        },
        {
          "name": "stderr",
          "output_type": "stream",
          "text": [
            "[I 2025-08-26 14:07:22,470] Trial 29 finished with value: 1.0023163051497062 and parameters: {'year_start': 2022, 'LoadupSamples_time_inc_factor': 81, 'LSTM_units': 32, 'LSTM_learning_rate': 0.0002391883349638561, 'LSTM_l1': 1.0330000081179742e-05, 'LSTM_l2': 0.00047634707489776774, 'LSTM_dropout': 0.004001874846570214, 'LSTM_inter_dropout': 0.01291359561860339, 'LSTM_recurrent_dropout': 0.0011748770286796133}. Best is trial 27 with value: 1.002858891904173.\n"
          ]
        },
        {
          "name": "stdout",
          "output_type": "stream",
          "text": [
            "2025-08-26 14:07:22,470 - Trial 29 finished with value: 1.0023163051497062 and parameters: {'year_start': 2022, 'LoadupSamples_time_inc_factor': 81, 'LSTM_units': 32, 'LSTM_learning_rate': 0.0002391883349638561, 'LSTM_l1': 1.0330000081179742e-05, 'LSTM_l2': 0.00047634707489776774, 'LSTM_dropout': 0.004001874846570214, 'LSTM_inter_dropout': 0.01291359561860339, 'LSTM_recurrent_dropout': 0.0011748770286796133}. Best is trial 27 with value: 1.002858891904173.\n",
            "2025-08-26 14:07:29,988 - Non-finite/too-large values in train y time: 48 samples.\n",
            "2025-08-26 14:07:29,988 - Removing 48 samples from training data.\n"
          ]
        },
        {
          "name": "stderr",
          "output_type": "stream",
          "text": [
            "Epochs:   0%|          | 0/2 [00:00<?, ?it/s]"
          ]
        },
        {
          "name": "stdout",
          "output_type": "stream",
          "text": [
            "2025-08-26 14:08:01,955 - Epoch 1/2 — Train RMSE: 0.4446 — Validation RMSE: 0.4242\n"
          ]
        },
        {
          "name": "stderr",
          "output_type": "stream",
          "text": [
            "Epochs:  50%|█████     | 1/2 [00:23<00:23, 23.46s/it]"
          ]
        },
        {
          "name": "stdout",
          "output_type": "stream",
          "text": [
            "2025-08-26 14:08:25,272 - Epoch 2/2 — Train RMSE: 0.4321 — Validation RMSE: 0.4241\n"
          ]
        },
        {
          "name": "stderr",
          "output_type": "stream",
          "text": [
            "Epochs: 100%|██████████| 2/2 [00:46<00:00, 23.40s/it]\n"
          ]
        },
        {
          "name": "stdout",
          "output_type": "stream",
          "text": [
            "2025-08-26 14:08:28,917 - Trial 30 with params: {'idxAfterPrediction': 4, 'timesteps': 75, 'target_option': 'last', 'LoadupSamples_time_scaling_stretch': True, 'LoadupSamples_time_inc_factor': 81, 'LSTM_units': 32, 'LSTM_num_layers': 1, 'LSTM_dropout': 0.005002475311891224, 'LSTM_recurrent_dropout': 0.003731263467226493, 'LSTM_learning_rate': 0.0003207134785560115, 'LSTM_optimizer': 'adam', 'LSTM_bidirectional': True, 'LSTM_batch_size': 4096, 'LSTM_epochs': 2, 'LSTM_l1': 1.3694735706322737e-05, 'LSTM_l2': 0.00015653389530761162, 'LSTM_inter_dropout': 0.03556040451210948, 'LSTM_input_gaussian_noise': 0.001, 'LSTM_conv1d': True, 'LSTM_conv1d_kernel_size': 3, 'LSTM_loss': 'mse', 'LSTM_transformer_before': False, 'LSTM_transformer_after': False, 'LSTM_tf_d_model': 0, 'LSTM_tf_nhead': 2, 'LSTM_tf_num_layers_before': 0, 'LSTM_tf_num_layers_after': 0, 'LSTM_tf_dim_feedforward': 8, 'LSTM_tf_dropout': 0.1, 'LSTM_tf_positional_encoding': True, 'LSTM_tf_pool': 'last', 'year_start': 2021, 'is_single_feature': False}\n",
            "2025-08-26 14:08:28,919 -   q2: 0.9900\n",
            "2025-08-26 14:08:28,919 -   Duration0: 0:00:50.526546\n",
            "2025-08-26 14:08:28,919 -   Val RMSE0 adjusted: 0.0052\n",
            "2025-08-26 14:08:28,919 -   Mean all prediction: 0.9993\n",
            "2025-08-26 14:08:28,919 -   Mean above prediction: 1.0102\n",
            "2025-08-26 14:08:28,919 -   Mean below prediction: 0.9972\n",
            "2025-08-26 14:08:28,919 -   Quantile 0.99 for distance in mask above: 982.2399999999998\n",
            "2025-08-26 14:08:28,919 -   Quantile 0.99 for distance in mask below: 792.4799999999996\n",
            "2025-08-26 14:08:28,930 -   Ratio for quantile-distance-to-length above: 0.0015\n",
            "2025-08-26 14:08:28,930 -   Ratio for quantile-distance-to-length below: 0.0012\n",
            "2025-08-26 14:08:28,930 -   Score: 1.0025\n"
          ]
        },
        {
          "name": "stderr",
          "output_type": "stream",
          "text": [
            "[I 2025-08-26 14:08:28,983] Trial 30 finished with value: 1.002546033528181 and parameters: {'year_start': 2021, 'LoadupSamples_time_inc_factor': 81, 'LSTM_units': 32, 'LSTM_learning_rate': 0.0003207134785560115, 'LSTM_l1': 1.3694735706322737e-05, 'LSTM_l2': 0.00015653389530761162, 'LSTM_dropout': 0.005002475311891224, 'LSTM_inter_dropout': 0.03556040451210948, 'LSTM_recurrent_dropout': 0.003731263467226493}. Best is trial 27 with value: 1.002858891904173.\n"
          ]
        },
        {
          "name": "stdout",
          "output_type": "stream",
          "text": [
            "2025-08-26 14:08:28,983 - Trial 30 finished with value: 1.002546033528181 and parameters: {'year_start': 2021, 'LoadupSamples_time_inc_factor': 81, 'LSTM_units': 32, 'LSTM_learning_rate': 0.0003207134785560115, 'LSTM_l1': 1.3694735706322737e-05, 'LSTM_l2': 0.00015653389530761162, 'LSTM_dropout': 0.005002475311891224, 'LSTM_inter_dropout': 0.03556040451210948, 'LSTM_recurrent_dropout': 0.003731263467226493}. Best is trial 27 with value: 1.002858891904173.\n",
            "2025-08-26 14:08:36,495 - Non-finite/too-large values in train y time: 48 samples.\n",
            "2025-08-26 14:08:36,496 - Removing 48 samples from training data.\n"
          ]
        },
        {
          "name": "stderr",
          "output_type": "stream",
          "text": [
            "Epochs:   0%|          | 0/2 [00:00<?, ?it/s]"
          ]
        },
        {
          "name": "stdout",
          "output_type": "stream",
          "text": [
            "2025-08-26 14:09:08,483 - Epoch 1/2 — Train RMSE: 0.4445 — Validation RMSE: 0.4204\n"
          ]
        },
        {
          "name": "stderr",
          "output_type": "stream",
          "text": [
            "Epochs:  50%|█████     | 1/2 [00:23<00:23, 23.65s/it]"
          ]
        },
        {
          "name": "stdout",
          "output_type": "stream",
          "text": [
            "2025-08-26 14:09:31,850 - Epoch 2/2 — Train RMSE: 0.4286 — Validation RMSE: 0.4199\n"
          ]
        },
        {
          "name": "stderr",
          "output_type": "stream",
          "text": [
            "Epochs: 100%|██████████| 2/2 [00:47<00:00, 23.51s/it]\n"
          ]
        },
        {
          "name": "stdout",
          "output_type": "stream",
          "text": [
            "2025-08-26 14:09:35,795 - Trial 31 with params: {'idxAfterPrediction': 4, 'timesteps': 75, 'target_option': 'last', 'LoadupSamples_time_scaling_stretch': True, 'LoadupSamples_time_inc_factor': 76, 'LSTM_units': 32, 'LSTM_num_layers': 1, 'LSTM_dropout': 0.002790615890793313, 'LSTM_recurrent_dropout': 0.0013627327326798172, 'LSTM_learning_rate': 0.0004103860840994113, 'LSTM_optimizer': 'adam', 'LSTM_bidirectional': True, 'LSTM_batch_size': 4096, 'LSTM_epochs': 2, 'LSTM_l1': 5.757727707514888e-05, 'LSTM_l2': 0.00023630436604058107, 'LSTM_inter_dropout': 0.01426873827483699, 'LSTM_input_gaussian_noise': 0.001, 'LSTM_conv1d': True, 'LSTM_conv1d_kernel_size': 3, 'LSTM_loss': 'mse', 'LSTM_transformer_before': False, 'LSTM_transformer_after': False, 'LSTM_tf_d_model': 0, 'LSTM_tf_nhead': 2, 'LSTM_tf_num_layers_before': 0, 'LSTM_tf_num_layers_after': 0, 'LSTM_tf_dim_feedforward': 8, 'LSTM_tf_dropout': 0.1, 'LSTM_tf_positional_encoding': True, 'LSTM_tf_pool': 'last', 'year_start': 2021, 'is_single_feature': False}\n",
            "2025-08-26 14:09:35,795 -   q2: 0.9900\n",
            "2025-08-26 14:09:35,796 -   Duration0: 0:00:51.061104\n",
            "2025-08-26 14:09:35,796 -   Val RMSE0 adjusted: 0.0055\n",
            "2025-08-26 14:09:35,801 -   Mean all prediction: 0.9993\n",
            "2025-08-26 14:09:35,801 -   Mean above prediction: 1.0062\n",
            "2025-08-26 14:09:35,801 -   Mean below prediction: 0.9973\n",
            "2025-08-26 14:09:35,801 -   Quantile 0.99 for distance in mask above: 945.4799999999996\n",
            "2025-08-26 14:09:35,801 -   Quantile 0.99 for distance in mask below: 897.4799999999996\n",
            "2025-08-26 14:09:35,801 -   Ratio for quantile-distance-to-length above: 0.0014\n",
            "2025-08-26 14:09:35,801 -   Ratio for quantile-distance-to-length below: 0.0014\n",
            "2025-08-26 14:09:35,801 -   Score: 1.0015\n"
          ]
        },
        {
          "name": "stderr",
          "output_type": "stream",
          "text": [
            "[I 2025-08-26 14:09:35,864] Trial 31 finished with value: 1.0015419442346618 and parameters: {'year_start': 2021, 'LoadupSamples_time_inc_factor': 76, 'LSTM_units': 32, 'LSTM_learning_rate': 0.0004103860840994113, 'LSTM_l1': 5.757727707514888e-05, 'LSTM_l2': 0.00023630436604058107, 'LSTM_dropout': 0.002790615890793313, 'LSTM_inter_dropout': 0.01426873827483699, 'LSTM_recurrent_dropout': 0.0013627327326798172}. Best is trial 27 with value: 1.002858891904173.\n"
          ]
        },
        {
          "name": "stdout",
          "output_type": "stream",
          "text": [
            "2025-08-26 14:09:35,864 - Trial 31 finished with value: 1.0015419442346618 and parameters: {'year_start': 2021, 'LoadupSamples_time_inc_factor': 76, 'LSTM_units': 32, 'LSTM_learning_rate': 0.0004103860840994113, 'LSTM_l1': 5.757727707514888e-05, 'LSTM_l2': 0.00023630436604058107, 'LSTM_dropout': 0.002790615890793313, 'LSTM_inter_dropout': 0.01426873827483699, 'LSTM_recurrent_dropout': 0.0013627327326798172}. Best is trial 27 with value: 1.002858891904173.\n",
            "2025-08-26 14:09:43,391 - Non-finite/too-large values in train y time: 48 samples.\n",
            "2025-08-26 14:09:43,391 - Removing 48 samples from training data.\n"
          ]
        },
        {
          "name": "stderr",
          "output_type": "stream",
          "text": [
            "Epochs:   0%|          | 0/2 [00:00<?, ?it/s]"
          ]
        },
        {
          "name": "stdout",
          "output_type": "stream",
          "text": [
            "2025-08-26 14:10:15,595 - Epoch 1/2 — Train RMSE: 0.4615 — Validation RMSE: 0.4197\n"
          ]
        },
        {
          "name": "stderr",
          "output_type": "stream",
          "text": [
            "Epochs:  50%|█████     | 1/2 [00:23<00:23, 23.67s/it]"
          ]
        },
        {
          "name": "stdout",
          "output_type": "stream",
          "text": [
            "2025-08-26 14:10:39,096 - Epoch 2/2 — Train RMSE: 0.4279 — Validation RMSE: 0.4196\n"
          ]
        },
        {
          "name": "stderr",
          "output_type": "stream",
          "text": [
            "Epochs: 100%|██████████| 2/2 [00:47<00:00, 23.58s/it]\n"
          ]
        },
        {
          "name": "stdout",
          "output_type": "stream",
          "text": [
            "2025-08-26 14:10:43,155 - Trial 32 with params: {'idxAfterPrediction': 4, 'timesteps': 75, 'target_option': 'last', 'LoadupSamples_time_scaling_stretch': True, 'LoadupSamples_time_inc_factor': 76, 'LSTM_units': 32, 'LSTM_num_layers': 1, 'LSTM_dropout': 0.0028684853989746546, 'LSTM_recurrent_dropout': 0.001216870331286447, 'LSTM_learning_rate': 0.0002920176724866337, 'LSTM_optimizer': 'adam', 'LSTM_bidirectional': True, 'LSTM_batch_size': 4096, 'LSTM_epochs': 2, 'LSTM_l1': 2.745105599211193e-05, 'LSTM_l2': 0.00010206246402686472, 'LSTM_inter_dropout': 0.012336097079266658, 'LSTM_input_gaussian_noise': 0.001, 'LSTM_conv1d': True, 'LSTM_conv1d_kernel_size': 3, 'LSTM_loss': 'mse', 'LSTM_transformer_before': False, 'LSTM_transformer_after': False, 'LSTM_tf_d_model': 0, 'LSTM_tf_nhead': 2, 'LSTM_tf_num_layers_before': 0, 'LSTM_tf_num_layers_after': 0, 'LSTM_tf_dim_feedforward': 8, 'LSTM_tf_dropout': 0.1, 'LSTM_tf_positional_encoding': True, 'LSTM_tf_pool': 'last', 'year_start': 2021, 'is_single_feature': False}\n",
            "2025-08-26 14:10:43,155 -   q2: 0.9900\n",
            "2025-08-26 14:10:43,155 -   Duration0: 0:00:51.329579\n",
            "2025-08-26 14:10:43,155 -   Val RMSE0 adjusted: 0.0055\n",
            "2025-08-26 14:10:43,171 -   Mean all prediction: 0.9993\n",
            "2025-08-26 14:10:43,171 -   Mean above prediction: 1.0119\n",
            "2025-08-26 14:10:43,171 -   Mean below prediction: 0.9975\n",
            "2025-08-26 14:10:43,171 -   Quantile 0.99 for distance in mask above: 931.2399999999998\n",
            "2025-08-26 14:10:43,171 -   Quantile 0.99 for distance in mask below: 890.7199999999993\n",
            "2025-08-26 14:10:43,171 -   Ratio for quantile-distance-to-length above: 0.0014\n",
            "2025-08-26 14:10:43,171 -   Ratio for quantile-distance-to-length below: 0.0014\n",
            "2025-08-26 14:10:43,171 -   Score: 1.0029\n"
          ]
        },
        {
          "name": "stderr",
          "output_type": "stream",
          "text": [
            "[I 2025-08-26 14:10:43,228] Trial 32 finished with value: 1.0029494376071701 and parameters: {'year_start': 2021, 'LoadupSamples_time_inc_factor': 76, 'LSTM_units': 32, 'LSTM_learning_rate': 0.0002920176724866337, 'LSTM_l1': 2.745105599211193e-05, 'LSTM_l2': 0.00010206246402686472, 'LSTM_dropout': 0.0028684853989746546, 'LSTM_inter_dropout': 0.012336097079266658, 'LSTM_recurrent_dropout': 0.001216870331286447}. Best is trial 32 with value: 1.0029494376071701.\n"
          ]
        },
        {
          "name": "stdout",
          "output_type": "stream",
          "text": [
            "2025-08-26 14:10:43,228 - Trial 32 finished with value: 1.0029494376071701 and parameters: {'year_start': 2021, 'LoadupSamples_time_inc_factor': 76, 'LSTM_units': 32, 'LSTM_learning_rate': 0.0002920176724866337, 'LSTM_l1': 2.745105599211193e-05, 'LSTM_l2': 0.00010206246402686472, 'LSTM_dropout': 0.0028684853989746546, 'LSTM_inter_dropout': 0.012336097079266658, 'LSTM_recurrent_dropout': 0.001216870331286447}. Best is trial 32 with value: 1.0029494376071701.\n",
            "2025-08-26 14:10:50,775 - Non-finite/too-large values in train y time: 48 samples.\n",
            "2025-08-26 14:10:50,775 - Removing 48 samples from training data.\n"
          ]
        },
        {
          "name": "stderr",
          "output_type": "stream",
          "text": [
            "Epochs:   0%|          | 0/2 [00:00<?, ?it/s]"
          ]
        },
        {
          "name": "stdout",
          "output_type": "stream",
          "text": [
            "2025-08-26 14:11:22,791 - Epoch 1/2 — Train RMSE: 0.4511 — Validation RMSE: 0.4202\n"
          ]
        },
        {
          "name": "stderr",
          "output_type": "stream",
          "text": [
            "Epochs:  50%|█████     | 1/2 [00:23<00:23, 23.55s/it]"
          ]
        },
        {
          "name": "stdout",
          "output_type": "stream",
          "text": [
            "2025-08-26 14:11:46,393 - Epoch 2/2 — Train RMSE: 0.4284 — Validation RMSE: 0.4199\n"
          ]
        },
        {
          "name": "stderr",
          "output_type": "stream",
          "text": [
            "Epochs: 100%|██████████| 2/2 [00:47<00:00, 23.58s/it]\n"
          ]
        },
        {
          "name": "stdout",
          "output_type": "stream",
          "text": [
            "2025-08-26 14:11:50,233 - Trial 33 with params: {'idxAfterPrediction': 4, 'timesteps': 75, 'target_option': 'last', 'LoadupSamples_time_scaling_stretch': True, 'LoadupSamples_time_inc_factor': 76, 'LSTM_units': 32, 'LSTM_num_layers': 1, 'LSTM_dropout': 0.0030382963337156634, 'LSTM_recurrent_dropout': 0.0012171055483297857, 'LSTM_learning_rate': 0.0002938044469086157, 'LSTM_optimizer': 'adam', 'LSTM_bidirectional': True, 'LSTM_batch_size': 4096, 'LSTM_epochs': 2, 'LSTM_l1': 2.744356135199873e-05, 'LSTM_l2': 0.00010268076760700674, 'LSTM_inter_dropout': 0.011961486053369563, 'LSTM_input_gaussian_noise': 0.001, 'LSTM_conv1d': True, 'LSTM_conv1d_kernel_size': 3, 'LSTM_loss': 'mse', 'LSTM_transformer_before': False, 'LSTM_transformer_after': False, 'LSTM_tf_d_model': 0, 'LSTM_tf_nhead': 2, 'LSTM_tf_num_layers_before': 0, 'LSTM_tf_num_layers_after': 0, 'LSTM_tf_dim_feedforward': 8, 'LSTM_tf_dropout': 0.1, 'LSTM_tf_positional_encoding': True, 'LSTM_tf_pool': 'last', 'year_start': 2021, 'is_single_feature': False}\n",
            "2025-08-26 14:11:50,233 -   q2: 0.9900\n",
            "2025-08-26 14:11:50,233 -   Duration0: 0:00:51.094512\n",
            "2025-08-26 14:11:50,233 -   Val RMSE0 adjusted: 0.0055\n",
            "2025-08-26 14:11:50,249 -   Mean all prediction: 0.9993\n",
            "2025-08-26 14:11:50,249 -   Mean above prediction: 1.0096\n",
            "2025-08-26 14:11:50,249 -   Mean below prediction: 0.9975\n",
            "2025-08-26 14:11:50,249 -   Quantile 0.99 for distance in mask above: 919.1999999999989\n",
            "2025-08-26 14:11:50,249 -   Quantile 0.99 for distance in mask below: 890.6799999999985\n",
            "2025-08-26 14:11:50,249 -   Ratio for quantile-distance-to-length above: 0.0014\n",
            "2025-08-26 14:11:50,249 -   Ratio for quantile-distance-to-length below: 0.0014\n",
            "2025-08-26 14:11:50,249 -   Score: 1.0024\n"
          ]
        },
        {
          "name": "stderr",
          "output_type": "stream",
          "text": [
            "[I 2025-08-26 14:11:50,308] Trial 33 finished with value: 1.0023908262737227 and parameters: {'year_start': 2021, 'LoadupSamples_time_inc_factor': 76, 'LSTM_units': 32, 'LSTM_learning_rate': 0.0002938044469086157, 'LSTM_l1': 2.744356135199873e-05, 'LSTM_l2': 0.00010268076760700674, 'LSTM_dropout': 0.0030382963337156634, 'LSTM_inter_dropout': 0.011961486053369563, 'LSTM_recurrent_dropout': 0.0012171055483297857}. Best is trial 32 with value: 1.0029494376071701.\n"
          ]
        },
        {
          "name": "stdout",
          "output_type": "stream",
          "text": [
            "2025-08-26 14:11:50,308 - Trial 33 finished with value: 1.0023908262737227 and parameters: {'year_start': 2021, 'LoadupSamples_time_inc_factor': 76, 'LSTM_units': 32, 'LSTM_learning_rate': 0.0002938044469086157, 'LSTM_l1': 2.744356135199873e-05, 'LSTM_l2': 0.00010268076760700674, 'LSTM_dropout': 0.0030382963337156634, 'LSTM_inter_dropout': 0.011961486053369563, 'LSTM_recurrent_dropout': 0.0012171055483297857}. Best is trial 32 with value: 1.0029494376071701.\n",
            "2025-08-26 14:11:57,834 - Non-finite/too-large values in train y time: 48 samples.\n",
            "2025-08-26 14:11:57,834 - Removing 48 samples from training data.\n"
          ]
        },
        {
          "name": "stderr",
          "output_type": "stream",
          "text": [
            "Epochs:   0%|          | 0/2 [00:00<?, ?it/s]"
          ]
        },
        {
          "name": "stdout",
          "output_type": "stream",
          "text": [
            "2025-08-26 14:12:30,104 - Epoch 1/2 — Train RMSE: 0.4665 — Validation RMSE: 0.4145\n"
          ]
        },
        {
          "name": "stderr",
          "output_type": "stream",
          "text": [
            "Epochs:  50%|█████     | 1/2 [00:23<00:23, 23.73s/it]"
          ]
        },
        {
          "name": "stdout",
          "output_type": "stream",
          "text": [
            "2025-08-26 14:12:53,371 - Epoch 2/2 — Train RMSE: 0.4229 — Validation RMSE: 0.4144\n"
          ]
        },
        {
          "name": "stderr",
          "output_type": "stream",
          "text": [
            "Epochs: 100%|██████████| 2/2 [00:46<00:00, 23.50s/it]\n"
          ]
        },
        {
          "name": "stdout",
          "output_type": "stream",
          "text": [
            "2025-08-26 14:12:57,415 - Trial 34 with params: {'idxAfterPrediction': 4, 'timesteps': 75, 'target_option': 'last', 'LoadupSamples_time_scaling_stretch': True, 'LoadupSamples_time_inc_factor': 71, 'LSTM_units': 32, 'LSTM_num_layers': 1, 'LSTM_dropout': 0.0020057571713412987, 'LSTM_recurrent_dropout': 0.0011252842751154333, 'LSTM_learning_rate': 0.00025765286195102616, 'LSTM_optimizer': 'adam', 'LSTM_bidirectional': True, 'LSTM_batch_size': 4096, 'LSTM_epochs': 2, 'LSTM_l1': 2.3275852235050844e-05, 'LSTM_l2': 0.00014092020298425627, 'LSTM_inter_dropout': 0.010176928059685753, 'LSTM_input_gaussian_noise': 0.001, 'LSTM_conv1d': True, 'LSTM_conv1d_kernel_size': 3, 'LSTM_loss': 'mse', 'LSTM_transformer_before': False, 'LSTM_transformer_after': False, 'LSTM_tf_d_model': 0, 'LSTM_tf_nhead': 2, 'LSTM_tf_num_layers_before': 0, 'LSTM_tf_num_layers_after': 0, 'LSTM_tf_dim_feedforward': 8, 'LSTM_tf_dropout': 0.1, 'LSTM_tf_positional_encoding': True, 'LSTM_tf_pool': 'last', 'year_start': 2021, 'is_single_feature': False}\n",
            "2025-08-26 14:12:57,415 -   q2: 0.9900\n",
            "2025-08-26 14:12:57,415 -   Duration0: 0:00:51.145654\n",
            "2025-08-26 14:12:57,415 -   Val RMSE0 adjusted: 0.0058\n",
            "2025-08-26 14:12:57,415 -   Mean all prediction: 0.9993\n",
            "2025-08-26 14:12:57,415 -   Mean above prediction: 1.0066\n",
            "2025-08-26 14:12:57,431 -   Mean below prediction: 0.9978\n",
            "2025-08-26 14:12:57,431 -   Quantile 0.99 for distance in mask above: 834.0\n",
            "2025-08-26 14:12:57,431 -   Quantile 0.99 for distance in mask below: 846.3999999999978\n",
            "2025-08-26 14:12:57,431 -   Ratio for quantile-distance-to-length above: 0.0013\n",
            "2025-08-26 14:12:57,431 -   Ratio for quantile-distance-to-length below: 0.0013\n",
            "2025-08-26 14:12:57,431 -   Score: 1.0017\n"
          ]
        },
        {
          "name": "stderr",
          "output_type": "stream",
          "text": [
            "[I 2025-08-26 14:12:57,486] Trial 34 finished with value: 1.0016503225235296 and parameters: {'year_start': 2021, 'LoadupSamples_time_inc_factor': 71, 'LSTM_units': 32, 'LSTM_learning_rate': 0.00025765286195102616, 'LSTM_l1': 2.3275852235050844e-05, 'LSTM_l2': 0.00014092020298425627, 'LSTM_dropout': 0.0020057571713412987, 'LSTM_inter_dropout': 0.010176928059685753, 'LSTM_recurrent_dropout': 0.0011252842751154333}. Best is trial 32 with value: 1.0029494376071701.\n"
          ]
        },
        {
          "name": "stdout",
          "output_type": "stream",
          "text": [
            "2025-08-26 14:12:57,486 - Trial 34 finished with value: 1.0016503225235296 and parameters: {'year_start': 2021, 'LoadupSamples_time_inc_factor': 71, 'LSTM_units': 32, 'LSTM_learning_rate': 0.00025765286195102616, 'LSTM_l1': 2.3275852235050844e-05, 'LSTM_l2': 0.00014092020298425627, 'LSTM_dropout': 0.0020057571713412987, 'LSTM_inter_dropout': 0.010176928059685753, 'LSTM_recurrent_dropout': 0.0011252842751154333}. Best is trial 32 with value: 1.0029494376071701.\n",
            "2025-08-26 14:13:05,001 - Non-finite/too-large values in train y time: 48 samples.\n",
            "2025-08-26 14:13:05,001 - Removing 48 samples from training data.\n"
          ]
        },
        {
          "name": "stderr",
          "output_type": "stream",
          "text": [
            "Epochs:   0%|          | 0/2 [00:00<?, ?it/s]"
          ]
        },
        {
          "name": "stdout",
          "output_type": "stream",
          "text": [
            "2025-08-26 14:13:37,217 - Epoch 1/2 — Train RMSE: 0.4413 — Validation RMSE: 0.4241\n"
          ]
        },
        {
          "name": "stderr",
          "output_type": "stream",
          "text": [
            "Epochs:  50%|█████     | 1/2 [00:23<00:23, 23.75s/it]"
          ]
        },
        {
          "name": "stdout",
          "output_type": "stream",
          "text": [
            "2025-08-26 14:14:00,701 - Epoch 2/2 — Train RMSE: 0.4319 — Validation RMSE: 0.4240\n"
          ]
        },
        {
          "name": "stderr",
          "output_type": "stream",
          "text": [
            "Epochs: 100%|██████████| 2/2 [00:47<00:00, 23.61s/it]\n"
          ]
        },
        {
          "name": "stdout",
          "output_type": "stream",
          "text": [
            "2025-08-26 14:14:04,760 - Trial 35 with params: {'idxAfterPrediction': 4, 'timesteps': 75, 'target_option': 'last', 'LoadupSamples_time_scaling_stretch': True, 'LoadupSamples_time_inc_factor': 81, 'LSTM_units': 32, 'LSTM_num_layers': 1, 'LSTM_dropout': 0.0036449092221842797, 'LSTM_recurrent_dropout': 0.0015743900054067804, 'LSTM_learning_rate': 0.0003539401918126518, 'LSTM_optimizer': 'adam', 'LSTM_bidirectional': True, 'LSTM_batch_size': 4096, 'LSTM_epochs': 2, 'LSTM_l1': 3.544210584176477e-05, 'LSTM_l2': 0.00017996074878544915, 'LSTM_inter_dropout': 0.015208348783431636, 'LSTM_input_gaussian_noise': 0.001, 'LSTM_conv1d': True, 'LSTM_conv1d_kernel_size': 3, 'LSTM_loss': 'mse', 'LSTM_transformer_before': False, 'LSTM_transformer_after': False, 'LSTM_tf_d_model': 0, 'LSTM_tf_nhead': 2, 'LSTM_tf_num_layers_before': 0, 'LSTM_tf_num_layers_after': 0, 'LSTM_tf_dim_feedforward': 8, 'LSTM_tf_dropout': 0.1, 'LSTM_tf_positional_encoding': True, 'LSTM_tf_pool': 'last', 'year_start': 2021, 'is_single_feature': False}\n",
            "2025-08-26 14:14:04,760 -   q2: 0.9900\n",
            "2025-08-26 14:14:04,760 -   Duration0: 0:00:51.389529\n",
            "2025-08-26 14:14:04,760 -   Val RMSE0 adjusted: 0.0052\n",
            "2025-08-26 14:14:04,760 -   Mean all prediction: 0.9993\n",
            "2025-08-26 14:14:04,776 -   Mean above prediction: 1.0085\n",
            "2025-08-26 14:14:04,777 -   Mean below prediction: 0.9982\n",
            "2025-08-26 14:14:04,777 -   Quantile 0.99 for distance in mask above: 966.0\n",
            "2025-08-26 14:14:04,778 -   Quantile 0.99 for distance in mask below: 888.4399999999987\n",
            "2025-08-26 14:14:04,779 -   Ratio for quantile-distance-to-length above: 0.0015\n",
            "2025-08-26 14:14:04,779 -   Ratio for quantile-distance-to-length below: 0.0014\n",
            "2025-08-26 14:14:04,779 -   Score: 1.0021\n"
          ]
        },
        {
          "name": "stderr",
          "output_type": "stream",
          "text": [
            "[I 2025-08-26 14:14:04,836] Trial 35 finished with value: 1.0021241409637256 and parameters: {'year_start': 2021, 'LoadupSamples_time_inc_factor': 81, 'LSTM_units': 32, 'LSTM_learning_rate': 0.0003539401918126518, 'LSTM_l1': 3.544210584176477e-05, 'LSTM_l2': 0.00017996074878544915, 'LSTM_dropout': 0.0036449092221842797, 'LSTM_inter_dropout': 0.015208348783431636, 'LSTM_recurrent_dropout': 0.0015743900054067804}. Best is trial 32 with value: 1.0029494376071701.\n"
          ]
        },
        {
          "name": "stdout",
          "output_type": "stream",
          "text": [
            "2025-08-26 14:14:04,836 - Trial 35 finished with value: 1.0021241409637256 and parameters: {'year_start': 2021, 'LoadupSamples_time_inc_factor': 81, 'LSTM_units': 32, 'LSTM_learning_rate': 0.0003539401918126518, 'LSTM_l1': 3.544210584176477e-05, 'LSTM_l2': 0.00017996074878544915, 'LSTM_dropout': 0.0036449092221842797, 'LSTM_inter_dropout': 0.015208348783431636, 'LSTM_recurrent_dropout': 0.0015743900054067804}. Best is trial 32 with value: 1.0029494376071701.\n",
            "2025-08-26 14:14:12,377 - Non-finite/too-large values in train y time: 48 samples.\n",
            "2025-08-26 14:14:12,393 - Removing 48 samples from training data.\n"
          ]
        },
        {
          "name": "stderr",
          "output_type": "stream",
          "text": [
            "Epochs:   0%|          | 0/2 [00:00<?, ?it/s]"
          ]
        },
        {
          "name": "stdout",
          "output_type": "stream",
          "text": [
            "2025-08-26 14:14:44,530 - Epoch 1/2 — Train RMSE: 0.4743 — Validation RMSE: 0.4028\n"
          ]
        },
        {
          "name": "stderr",
          "output_type": "stream",
          "text": [
            "Epochs:  50%|█████     | 1/2 [00:23<00:23, 23.63s/it]"
          ]
        },
        {
          "name": "stdout",
          "output_type": "stream",
          "text": [
            "2025-08-26 14:15:08,014 - Epoch 2/2 — Train RMSE: 0.4119 — Validation RMSE: 0.4023\n"
          ]
        },
        {
          "name": "stderr",
          "output_type": "stream",
          "text": [
            "Epochs: 100%|██████████| 2/2 [00:47<00:00, 23.56s/it]\n"
          ]
        },
        {
          "name": "stdout",
          "output_type": "stream",
          "text": [
            "2025-08-26 14:15:12,209 - Trial 36 with params: {'idxAfterPrediction': 4, 'timesteps': 75, 'target_option': 'last', 'LoadupSamples_time_scaling_stretch': True, 'LoadupSamples_time_inc_factor': 61, 'LSTM_units': 32, 'LSTM_num_layers': 1, 'LSTM_dropout': 0.005953590824266207, 'LSTM_recurrent_dropout': 0.0012441673555942873, 'LSTM_learning_rate': 0.00021099658418796143, 'LSTM_optimizer': 'adam', 'LSTM_bidirectional': True, 'LSTM_batch_size': 4096, 'LSTM_epochs': 2, 'LSTM_l1': 2.807438239785986e-05, 'LSTM_l2': 0.0001224799101983685, 'LSTM_inter_dropout': 0.017503476380279208, 'LSTM_input_gaussian_noise': 0.001, 'LSTM_conv1d': True, 'LSTM_conv1d_kernel_size': 3, 'LSTM_loss': 'mse', 'LSTM_transformer_before': False, 'LSTM_transformer_after': False, 'LSTM_tf_d_model': 0, 'LSTM_tf_nhead': 2, 'LSTM_tf_num_layers_before': 0, 'LSTM_tf_num_layers_after': 0, 'LSTM_tf_dim_feedforward': 8, 'LSTM_tf_dropout': 0.1, 'LSTM_tf_positional_encoding': True, 'LSTM_tf_pool': 'last', 'year_start': 2021, 'is_single_feature': False}\n",
            "2025-08-26 14:15:12,209 -   q2: 0.9900\n",
            "2025-08-26 14:15:12,209 -   Duration0: 0:00:51.428686\n",
            "2025-08-26 14:15:12,209 -   Val RMSE0 adjusted: 0.0066\n",
            "2025-08-26 14:15:12,209 -   Mean all prediction: 0.9993\n",
            "2025-08-26 14:15:12,209 -   Mean above prediction: 1.0114\n",
            "2025-08-26 14:15:12,209 -   Mean below prediction: 0.9969\n",
            "2025-08-26 14:15:12,209 -   Quantile 0.99 for distance in mask above: 943.7199999999993\n",
            "2025-08-26 14:15:12,209 -   Quantile 0.99 for distance in mask below: 863.2399999999998\n",
            "2025-08-26 14:15:12,224 -   Ratio for quantile-distance-to-length above: 0.0014\n",
            "2025-08-26 14:15:12,224 -   Ratio for quantile-distance-to-length below: 0.0013\n",
            "2025-08-26 14:15:12,224 -   Score: 1.0028\n"
          ]
        },
        {
          "name": "stderr",
          "output_type": "stream",
          "text": [
            "[I 2025-08-26 14:15:12,278] Trial 36 finished with value: 1.0028281247636919 and parameters: {'year_start': 2021, 'LoadupSamples_time_inc_factor': 61, 'LSTM_units': 32, 'LSTM_learning_rate': 0.00021099658418796143, 'LSTM_l1': 2.807438239785986e-05, 'LSTM_l2': 0.0001224799101983685, 'LSTM_dropout': 0.005953590824266207, 'LSTM_inter_dropout': 0.017503476380279208, 'LSTM_recurrent_dropout': 0.0012441673555942873}. Best is trial 32 with value: 1.0029494376071701.\n"
          ]
        },
        {
          "name": "stdout",
          "output_type": "stream",
          "text": [
            "2025-08-26 14:15:12,278 - Trial 36 finished with value: 1.0028281247636919 and parameters: {'year_start': 2021, 'LoadupSamples_time_inc_factor': 61, 'LSTM_units': 32, 'LSTM_learning_rate': 0.00021099658418796143, 'LSTM_l1': 2.807438239785986e-05, 'LSTM_l2': 0.0001224799101983685, 'LSTM_dropout': 0.005953590824266207, 'LSTM_inter_dropout': 0.017503476380279208, 'LSTM_recurrent_dropout': 0.0012441673555942873}. Best is trial 32 with value: 1.0029494376071701.\n",
            "2025-08-26 14:15:21,392 - Non-finite/too-large values in train y time: 48 samples.\n",
            "2025-08-26 14:15:21,410 - Removing 48 samples from training data.\n"
          ]
        },
        {
          "name": "stderr",
          "output_type": "stream",
          "text": [
            "Epochs:   0%|          | 0/2 [00:00<?, ?it/s]"
          ]
        },
        {
          "name": "stdout",
          "output_type": "stream",
          "text": [
            "2025-08-26 14:16:01,313 - Epoch 1/2 — Train RMSE: 0.4299 — Validation RMSE: 0.4021\n"
          ]
        },
        {
          "name": "stderr",
          "output_type": "stream",
          "text": [
            "Epochs:  50%|█████     | 1/2 [00:29<00:29, 29.59s/it]"
          ]
        },
        {
          "name": "stdout",
          "output_type": "stream",
          "text": [
            "2025-08-26 14:16:30,878 - Epoch 2/2 — Train RMSE: 0.4158 — Validation RMSE: 0.4020\n"
          ]
        },
        {
          "name": "stderr",
          "output_type": "stream",
          "text": [
            "Epochs: 100%|██████████| 2/2 [00:59<00:00, 29.58s/it]\n"
          ]
        },
        {
          "name": "stdout",
          "output_type": "stream",
          "text": [
            "2025-08-26 14:16:34,903 - Trial 37 with params: {'idxAfterPrediction': 4, 'timesteps': 75, 'target_option': 'last', 'LoadupSamples_time_scaling_stretch': True, 'LoadupSamples_time_inc_factor': 61, 'LSTM_units': 32, 'LSTM_num_layers': 1, 'LSTM_dropout': 0.0070839556093508504, 'LSTM_recurrent_dropout': 0.0018554028752133021, 'LSTM_learning_rate': 0.0002019941992922643, 'LSTM_optimizer': 'adam', 'LSTM_bidirectional': True, 'LSTM_batch_size': 4096, 'LSTM_epochs': 2, 'LSTM_l1': 2.8398278643367956e-05, 'LSTM_l2': 0.00011842099369541231, 'LSTM_inter_dropout': 0.02179296530388793, 'LSTM_input_gaussian_noise': 0.001, 'LSTM_conv1d': True, 'LSTM_conv1d_kernel_size': 3, 'LSTM_loss': 'mse', 'LSTM_transformer_before': False, 'LSTM_transformer_after': False, 'LSTM_tf_d_model': 0, 'LSTM_tf_nhead': 2, 'LSTM_tf_num_layers_before': 0, 'LSTM_tf_num_layers_after': 0, 'LSTM_tf_dim_feedforward': 8, 'LSTM_tf_dropout': 0.1, 'LSTM_tf_positional_encoding': True, 'LSTM_tf_pool': 'last', 'year_start': 2020, 'is_single_feature': False}\n",
            "2025-08-26 14:16:34,903 -   q2: 0.9900\n",
            "2025-08-26 14:16:34,919 -   Duration0: 0:01:03.370742\n",
            "2025-08-26 14:16:34,919 -   Val RMSE0 adjusted: 0.0066\n",
            "2025-08-26 14:16:34,919 -   Mean all prediction: 0.9993\n",
            "2025-08-26 14:16:34,919 -   Mean above prediction: 1.0118\n",
            "2025-08-26 14:16:34,919 -   Mean below prediction: 0.9964\n",
            "2025-08-26 14:16:34,919 -   Quantile 0.99 for distance in mask above: 943.1999999999989\n",
            "2025-08-26 14:16:34,919 -   Quantile 0.99 for distance in mask below: 812.4799999999996\n",
            "2025-08-26 14:16:34,919 -   Ratio for quantile-distance-to-length above: 0.0014\n",
            "2025-08-26 14:16:34,919 -   Ratio for quantile-distance-to-length below: 0.0012\n",
            "2025-08-26 14:16:34,919 -   Score: 1.0029\n"
          ]
        },
        {
          "name": "stderr",
          "output_type": "stream",
          "text": [
            "[I 2025-08-26 14:16:35,007] Trial 37 finished with value: 1.0029484492584444 and parameters: {'year_start': 2020, 'LoadupSamples_time_inc_factor': 61, 'LSTM_units': 32, 'LSTM_learning_rate': 0.0002019941992922643, 'LSTM_l1': 2.8398278643367956e-05, 'LSTM_l2': 0.00011842099369541231, 'LSTM_dropout': 0.0070839556093508504, 'LSTM_inter_dropout': 0.02179296530388793, 'LSTM_recurrent_dropout': 0.0018554028752133021}. Best is trial 32 with value: 1.0029494376071701.\n"
          ]
        },
        {
          "name": "stdout",
          "output_type": "stream",
          "text": [
            "2025-08-26 14:16:35,007 - Trial 37 finished with value: 1.0029484492584444 and parameters: {'year_start': 2020, 'LoadupSamples_time_inc_factor': 61, 'LSTM_units': 32, 'LSTM_learning_rate': 0.0002019941992922643, 'LSTM_l1': 2.8398278643367956e-05, 'LSTM_l2': 0.00011842099369541231, 'LSTM_dropout': 0.0070839556093508504, 'LSTM_inter_dropout': 0.02179296530388793, 'LSTM_recurrent_dropout': 0.0018554028752133021}. Best is trial 32 with value: 1.0029494376071701.\n",
            "2025-08-26 14:16:44,124 - Non-finite/too-large values in train y time: 48 samples.\n",
            "2025-08-26 14:16:44,124 - Removing 48 samples from training data.\n"
          ]
        },
        {
          "name": "stderr",
          "output_type": "stream",
          "text": [
            "Epochs:   0%|          | 0/2 [00:00<?, ?it/s]"
          ]
        },
        {
          "name": "stdout",
          "output_type": "stream",
          "text": [
            "2025-08-26 14:17:24,311 - Epoch 1/2 — Train RMSE: 0.4392 — Validation RMSE: 0.4025\n"
          ]
        },
        {
          "name": "stderr",
          "output_type": "stream",
          "text": [
            "Epochs:  50%|█████     | 1/2 [00:29<00:29, 29.73s/it]"
          ]
        },
        {
          "name": "stdout",
          "output_type": "stream",
          "text": [
            "2025-08-26 14:17:53,892 - Epoch 2/2 — Train RMSE: 0.4166 — Validation RMSE: 0.4020\n"
          ]
        },
        {
          "name": "stderr",
          "output_type": "stream",
          "text": [
            "Epochs: 100%|██████████| 2/2 [00:59<00:00, 29.66s/it]\n"
          ]
        },
        {
          "name": "stdout",
          "output_type": "stream",
          "text": [
            "2025-08-26 14:17:57,950 - Trial 38 with params: {'idxAfterPrediction': 4, 'timesteps': 75, 'target_option': 'last', 'LoadupSamples_time_scaling_stretch': True, 'LoadupSamples_time_inc_factor': 61, 'LSTM_units': 32, 'LSTM_num_layers': 1, 'LSTM_dropout': 0.0060859622228199165, 'LSTM_recurrent_dropout': 0.0013414558850708327, 'LSTM_learning_rate': 0.00019528650543392196, 'LSTM_optimizer': 'adam', 'LSTM_bidirectional': True, 'LSTM_batch_size': 4096, 'LSTM_epochs': 2, 'LSTM_l1': 1.580485787466957e-05, 'LSTM_l2': 0.00012102445546530657, 'LSTM_inter_dropout': 0.02206797275475179, 'LSTM_input_gaussian_noise': 0.001, 'LSTM_conv1d': True, 'LSTM_conv1d_kernel_size': 3, 'LSTM_loss': 'mse', 'LSTM_transformer_before': False, 'LSTM_transformer_after': False, 'LSTM_tf_d_model': 0, 'LSTM_tf_nhead': 2, 'LSTM_tf_num_layers_before': 0, 'LSTM_tf_num_layers_after': 0, 'LSTM_tf_dim_feedforward': 8, 'LSTM_tf_dropout': 0.1, 'LSTM_tf_positional_encoding': True, 'LSTM_tf_pool': 'last', 'year_start': 2020, 'is_single_feature': False}\n",
            "2025-08-26 14:17:57,950 -   q2: 0.9900\n",
            "2025-08-26 14:17:57,950 -   Duration0: 0:01:03.505332\n",
            "2025-08-26 14:17:57,950 -   Val RMSE0 adjusted: 0.0066\n",
            "2025-08-26 14:17:57,966 -   Mean all prediction: 0.9993\n",
            "2025-08-26 14:17:57,968 -   Mean above prediction: 1.0124\n",
            "2025-08-26 14:17:57,969 -   Mean below prediction: 0.9979\n",
            "2025-08-26 14:17:57,969 -   Quantile 0.99 for distance in mask above: 1014.2399999999998\n",
            "2025-08-26 14:17:57,969 -   Quantile 0.99 for distance in mask below: 954.3999999999978\n",
            "2025-08-26 14:17:57,969 -   Ratio for quantile-distance-to-length above: 0.0015\n",
            "2025-08-26 14:17:57,969 -   Ratio for quantile-distance-to-length below: 0.0015\n",
            "2025-08-26 14:17:57,973 -   Score: 1.0031\n"
          ]
        },
        {
          "name": "stderr",
          "output_type": "stream",
          "text": [
            "[I 2025-08-26 14:17:58,037] Trial 38 finished with value: 1.0030939915675743 and parameters: {'year_start': 2020, 'LoadupSamples_time_inc_factor': 61, 'LSTM_units': 32, 'LSTM_learning_rate': 0.00019528650543392196, 'LSTM_l1': 1.580485787466957e-05, 'LSTM_l2': 0.00012102445546530657, 'LSTM_dropout': 0.0060859622228199165, 'LSTM_inter_dropout': 0.02206797275475179, 'LSTM_recurrent_dropout': 0.0013414558850708327}. Best is trial 38 with value: 1.0030939915675743.\n"
          ]
        },
        {
          "name": "stdout",
          "output_type": "stream",
          "text": [
            "2025-08-26 14:17:58,037 - Trial 38 finished with value: 1.0030939915675743 and parameters: {'year_start': 2020, 'LoadupSamples_time_inc_factor': 61, 'LSTM_units': 32, 'LSTM_learning_rate': 0.00019528650543392196, 'LSTM_l1': 1.580485787466957e-05, 'LSTM_l2': 0.00012102445546530657, 'LSTM_dropout': 0.0060859622228199165, 'LSTM_inter_dropout': 0.02206797275475179, 'LSTM_recurrent_dropout': 0.0013414558850708327}. Best is trial 38 with value: 1.0030939915675743.\n",
            "2025-08-26 14:18:07,154 - Non-finite/too-large values in train y time: 48 samples.\n",
            "2025-08-26 14:18:07,154 - Removing 48 samples from training data.\n"
          ]
        },
        {
          "name": "stderr",
          "output_type": "stream",
          "text": [
            "Epochs:   0%|          | 0/2 [00:00<?, ?it/s]"
          ]
        },
        {
          "name": "stdout",
          "output_type": "stream",
          "text": [
            "2025-08-26 14:18:47,026 - Epoch 1/2 — Train RMSE: 0.4377 — Validation RMSE: 0.4027\n"
          ]
        },
        {
          "name": "stderr",
          "output_type": "stream",
          "text": [
            "Epochs:  50%|█████     | 1/2 [00:29<00:29, 29.53s/it]"
          ]
        },
        {
          "name": "stdout",
          "output_type": "stream",
          "text": [
            "2025-08-26 14:19:16,588 - Epoch 2/2 — Train RMSE: 0.4170 — Validation RMSE: 0.4024\n"
          ]
        },
        {
          "name": "stderr",
          "output_type": "stream",
          "text": [
            "Epochs: 100%|██████████| 2/2 [00:59<00:00, 29.55s/it]\n"
          ]
        },
        {
          "name": "stdout",
          "output_type": "stream",
          "text": [
            "2025-08-26 14:19:20,663 - Trial 39 with params: {'idxAfterPrediction': 4, 'timesteps': 75, 'target_option': 'last', 'LoadupSamples_time_scaling_stretch': True, 'LoadupSamples_time_inc_factor': 61, 'LSTM_units': 32, 'LSTM_num_layers': 1, 'LSTM_dropout': 0.00868304807269003, 'LSTM_recurrent_dropout': 0.0017427472324635868, 'LSTM_learning_rate': 0.00017893111239172186, 'LSTM_optimizer': 'adam', 'LSTM_bidirectional': True, 'LSTM_batch_size': 4096, 'LSTM_epochs': 2, 'LSTM_l1': 1.5737356794477544e-05, 'LSTM_l2': 0.00010309071619752471, 'LSTM_inter_dropout': 0.026894760834850387, 'LSTM_input_gaussian_noise': 0.001, 'LSTM_conv1d': True, 'LSTM_conv1d_kernel_size': 3, 'LSTM_loss': 'mse', 'LSTM_transformer_before': False, 'LSTM_transformer_after': False, 'LSTM_tf_d_model': 0, 'LSTM_tf_nhead': 2, 'LSTM_tf_num_layers_before': 0, 'LSTM_tf_num_layers_after': 0, 'LSTM_tf_dim_feedforward': 8, 'LSTM_tf_dropout': 0.1, 'LSTM_tf_positional_encoding': True, 'LSTM_tf_pool': 'last', 'year_start': 2020, 'is_single_feature': False}\n",
            "2025-08-26 14:19:20,663 -   q2: 0.9900\n",
            "2025-08-26 14:19:20,663 -   Duration0: 0:01:03.338571\n",
            "2025-08-26 14:19:20,663 -   Val RMSE0 adjusted: 0.0066\n",
            "2025-08-26 14:19:20,663 -   Mean all prediction: 0.9993\n",
            "2025-08-26 14:19:20,663 -   Mean above prediction: 1.0043\n",
            "2025-08-26 14:19:20,663 -   Mean below prediction: 0.9955\n",
            "2025-08-26 14:19:20,663 -   Quantile 0.99 for distance in mask above: 995.3999999999978\n",
            "2025-08-26 14:19:20,663 -   Quantile 0.99 for distance in mask below: 761.1999999999989\n",
            "2025-08-26 14:19:20,663 -   Ratio for quantile-distance-to-length above: 0.0015\n",
            "2025-08-26 14:19:20,663 -   Ratio for quantile-distance-to-length below: 0.0012\n",
            "2025-08-26 14:19:20,663 -   Score: 1.0011\n"
          ]
        },
        {
          "name": "stderr",
          "output_type": "stream",
          "text": [
            "[I 2025-08-26 14:19:20,770] Trial 39 finished with value: 1.0010744249995267 and parameters: {'year_start': 2020, 'LoadupSamples_time_inc_factor': 61, 'LSTM_units': 32, 'LSTM_learning_rate': 0.00017893111239172186, 'LSTM_l1': 1.5737356794477544e-05, 'LSTM_l2': 0.00010309071619752471, 'LSTM_dropout': 0.00868304807269003, 'LSTM_inter_dropout': 0.026894760834850387, 'LSTM_recurrent_dropout': 0.0017427472324635868}. Best is trial 38 with value: 1.0030939915675743.\n"
          ]
        },
        {
          "name": "stdout",
          "output_type": "stream",
          "text": [
            "2025-08-26 14:19:20,770 - Trial 39 finished with value: 1.0010744249995267 and parameters: {'year_start': 2020, 'LoadupSamples_time_inc_factor': 61, 'LSTM_units': 32, 'LSTM_learning_rate': 0.00017893111239172186, 'LSTM_l1': 1.5737356794477544e-05, 'LSTM_l2': 0.00010309071619752471, 'LSTM_dropout': 0.00868304807269003, 'LSTM_inter_dropout': 0.026894760834850387, 'LSTM_recurrent_dropout': 0.0017427472324635868}. Best is trial 38 with value: 1.0030939915675743.\n",
            "2025-08-26 14:19:29,916 - Non-finite/too-large values in train y time: 48 samples.\n",
            "2025-08-26 14:19:29,920 - Removing 48 samples from training data.\n"
          ]
        },
        {
          "name": "stderr",
          "output_type": "stream",
          "text": [
            "Epochs:   0%|          | 0/2 [00:00<?, ?it/s]"
          ]
        },
        {
          "name": "stdout",
          "output_type": "stream",
          "text": [
            "2025-08-26 14:20:09,954 - Epoch 1/2 — Train RMSE: 0.4430 — Validation RMSE: 0.4086\n"
          ]
        },
        {
          "name": "stderr",
          "output_type": "stream",
          "text": [
            "Epochs:  50%|█████     | 1/2 [00:29<00:29, 29.61s/it]"
          ]
        },
        {
          "name": "stdout",
          "output_type": "stream",
          "text": [
            "2025-08-26 14:20:39,385 - Epoch 2/2 — Train RMSE: 0.4221 — Validation RMSE: 0.4085\n"
          ]
        },
        {
          "name": "stderr",
          "output_type": "stream",
          "text": [
            "Epochs: 100%|██████████| 2/2 [00:59<00:00, 29.52s/it]\n"
          ]
        },
        {
          "name": "stdout",
          "output_type": "stream",
          "text": [
            "2025-08-26 14:20:43,442 - Trial 40 with params: {'idxAfterPrediction': 4, 'timesteps': 75, 'target_option': 'last', 'LoadupSamples_time_scaling_stretch': True, 'LoadupSamples_time_inc_factor': 66, 'LSTM_units': 32, 'LSTM_num_layers': 1, 'LSTM_dropout': 0.006538449124353565, 'LSTM_recurrent_dropout': 0.002163939382794874, 'LSTM_learning_rate': 0.00019439997960987466, 'LSTM_optimizer': 'adam', 'LSTM_bidirectional': True, 'LSTM_batch_size': 4096, 'LSTM_epochs': 2, 'LSTM_l1': 1.2210505543863036e-05, 'LSTM_l2': 0.0025851975847508398, 'LSTM_inter_dropout': 0.020477154247009625, 'LSTM_input_gaussian_noise': 0.001, 'LSTM_conv1d': True, 'LSTM_conv1d_kernel_size': 3, 'LSTM_loss': 'mse', 'LSTM_transformer_before': False, 'LSTM_transformer_after': False, 'LSTM_tf_d_model': 0, 'LSTM_tf_nhead': 2, 'LSTM_tf_num_layers_before': 0, 'LSTM_tf_num_layers_after': 0, 'LSTM_tf_dim_feedforward': 8, 'LSTM_tf_dropout': 0.1, 'LSTM_tf_positional_encoding': True, 'LSTM_tf_pool': 'last', 'year_start': 2020, 'is_single_feature': False}\n",
            "2025-08-26 14:20:43,442 -   q2: 0.9900\n",
            "2025-08-26 14:20:43,442 -   Duration0: 0:01:03.252588\n",
            "2025-08-26 14:20:43,442 -   Val RMSE0 adjusted: 0.0062\n",
            "2025-08-26 14:20:43,458 -   Mean all prediction: 0.9993\n",
            "2025-08-26 14:20:43,458 -   Mean above prediction: 1.0107\n",
            "2025-08-26 14:20:43,458 -   Mean below prediction: 0.9970\n",
            "2025-08-26 14:20:43,458 -   Quantile 0.99 for distance in mask above: 942.2399999999998\n",
            "2025-08-26 14:20:43,458 -   Quantile 0.99 for distance in mask below: 879.0699999999961\n",
            "2025-08-26 14:20:43,458 -   Ratio for quantile-distance-to-length above: 0.0014\n",
            "2025-08-26 14:20:43,458 -   Ratio for quantile-distance-to-length below: 0.0013\n",
            "2025-08-26 14:20:43,458 -   Score: 1.0027\n"
          ]
        },
        {
          "name": "stderr",
          "output_type": "stream",
          "text": [
            "[I 2025-08-26 14:20:43,533] Trial 40 finished with value: 1.002670285358422 and parameters: {'year_start': 2020, 'LoadupSamples_time_inc_factor': 66, 'LSTM_units': 32, 'LSTM_learning_rate': 0.00019439997960987466, 'LSTM_l1': 1.2210505543863036e-05, 'LSTM_l2': 0.0025851975847508398, 'LSTM_dropout': 0.006538449124353565, 'LSTM_inter_dropout': 0.020477154247009625, 'LSTM_recurrent_dropout': 0.002163939382794874}. Best is trial 38 with value: 1.0030939915675743.\n"
          ]
        },
        {
          "name": "stdout",
          "output_type": "stream",
          "text": [
            "2025-08-26 14:20:43,533 - Trial 40 finished with value: 1.002670285358422 and parameters: {'year_start': 2020, 'LoadupSamples_time_inc_factor': 66, 'LSTM_units': 32, 'LSTM_learning_rate': 0.00019439997960987466, 'LSTM_l1': 1.2210505543863036e-05, 'LSTM_l2': 0.0025851975847508398, 'LSTM_dropout': 0.006538449124353565, 'LSTM_inter_dropout': 0.020477154247009625, 'LSTM_recurrent_dropout': 0.002163939382794874}. Best is trial 38 with value: 1.0030939915675743.\n",
            "2025-08-26 14:20:52,648 - Non-finite/too-large values in train y time: 48 samples.\n",
            "2025-08-26 14:20:52,650 - Removing 48 samples from training data.\n"
          ]
        },
        {
          "name": "stderr",
          "output_type": "stream",
          "text": [
            "Epochs:   0%|          | 0/2 [00:00<?, ?it/s]"
          ]
        },
        {
          "name": "stdout",
          "output_type": "stream",
          "text": [
            "2025-08-26 14:21:32,717 - Epoch 1/2 — Train RMSE: 0.4330 — Validation RMSE: 0.4023\n"
          ]
        },
        {
          "name": "stderr",
          "output_type": "stream",
          "text": [
            "Epochs:  50%|█████     | 1/2 [00:29<00:29, 29.58s/it]"
          ]
        },
        {
          "name": "stdout",
          "output_type": "stream",
          "text": [
            "2025-08-26 14:22:02,300 - Epoch 2/2 — Train RMSE: 0.4167 — Validation RMSE: 0.4021\n"
          ]
        },
        {
          "name": "stderr",
          "output_type": "stream",
          "text": [
            "Epochs: 100%|██████████| 2/2 [00:59<00:00, 29.58s/it]\n"
          ]
        },
        {
          "name": "stdout",
          "output_type": "stream",
          "text": [
            "2025-08-26 14:22:06,339 - Trial 41 with params: {'idxAfterPrediction': 4, 'timesteps': 75, 'target_option': 'last', 'LoadupSamples_time_scaling_stretch': True, 'LoadupSamples_time_inc_factor': 61, 'LSTM_units': 32, 'LSTM_num_layers': 1, 'LSTM_dropout': 0.006069569155284589, 'LSTM_recurrent_dropout': 0.0013550089767748734, 'LSTM_learning_rate': 0.00021559643419564258, 'LSTM_optimizer': 'adam', 'LSTM_bidirectional': True, 'LSTM_batch_size': 4096, 'LSTM_epochs': 2, 'LSTM_l1': 2.9200192450809685e-05, 'LSTM_l2': 0.00013048681475651927, 'LSTM_inter_dropout': 0.02156390440191341, 'LSTM_input_gaussian_noise': 0.001, 'LSTM_conv1d': True, 'LSTM_conv1d_kernel_size': 3, 'LSTM_loss': 'mse', 'LSTM_transformer_before': False, 'LSTM_transformer_after': False, 'LSTM_tf_d_model': 0, 'LSTM_tf_nhead': 2, 'LSTM_tf_num_layers_before': 0, 'LSTM_tf_num_layers_after': 0, 'LSTM_tf_dim_feedforward': 8, 'LSTM_tf_dropout': 0.1, 'LSTM_tf_positional_encoding': True, 'LSTM_tf_pool': 'last', 'year_start': 2020, 'is_single_feature': False}\n",
            "2025-08-26 14:22:06,339 -   q2: 0.9900\n",
            "2025-08-26 14:22:06,339 -   Duration0: 0:01:03.353403\n",
            "2025-08-26 14:22:06,355 -   Val RMSE0 adjusted: 0.0066\n",
            "2025-08-26 14:22:06,355 -   Mean all prediction: 0.9993\n",
            "2025-08-26 14:22:06,355 -   Mean above prediction: 1.0104\n",
            "2025-08-26 14:22:06,355 -   Mean below prediction: 0.9966\n",
            "2025-08-26 14:22:06,355 -   Quantile 0.99 for distance in mask above: 918.9599999999991\n",
            "2025-08-26 14:22:06,355 -   Quantile 0.99 for distance in mask below: 805.4399999999987\n",
            "2025-08-26 14:22:06,355 -   Ratio for quantile-distance-to-length above: 0.0014\n",
            "2025-08-26 14:22:06,355 -   Ratio for quantile-distance-to-length below: 0.0012\n",
            "2025-08-26 14:22:06,355 -   Score: 1.0026\n"
          ]
        },
        {
          "name": "stderr",
          "output_type": "stream",
          "text": [
            "[I 2025-08-26 14:22:06,438] Trial 41 finished with value: 1.002592907077776 and parameters: {'year_start': 2020, 'LoadupSamples_time_inc_factor': 61, 'LSTM_units': 32, 'LSTM_learning_rate': 0.00021559643419564258, 'LSTM_l1': 2.9200192450809685e-05, 'LSTM_l2': 0.00013048681475651927, 'LSTM_dropout': 0.006069569155284589, 'LSTM_inter_dropout': 0.02156390440191341, 'LSTM_recurrent_dropout': 0.0013550089767748734}. Best is trial 38 with value: 1.0030939915675743.\n"
          ]
        },
        {
          "name": "stdout",
          "output_type": "stream",
          "text": [
            "2025-08-26 14:22:06,438 - Trial 41 finished with value: 1.002592907077776 and parameters: {'year_start': 2020, 'LoadupSamples_time_inc_factor': 61, 'LSTM_units': 32, 'LSTM_learning_rate': 0.00021559643419564258, 'LSTM_l1': 2.9200192450809685e-05, 'LSTM_l2': 0.00013048681475651927, 'LSTM_dropout': 0.006069569155284589, 'LSTM_inter_dropout': 0.02156390440191341, 'LSTM_recurrent_dropout': 0.0013550089767748734}. Best is trial 38 with value: 1.0030939915675743.\n",
            "2025-08-26 14:22:15,543 - Non-finite/too-large values in train y time: 48 samples.\n",
            "2025-08-26 14:22:15,548 - Removing 48 samples from training data.\n"
          ]
        },
        {
          "name": "stderr",
          "output_type": "stream",
          "text": [
            "Epochs:   0%|          | 0/2 [00:00<?, ?it/s]"
          ]
        },
        {
          "name": "stdout",
          "output_type": "stream",
          "text": [
            "2025-08-26 14:22:55,531 - Epoch 1/2 — Train RMSE: 0.4455 — Validation RMSE: 0.4026\n"
          ]
        },
        {
          "name": "stderr",
          "output_type": "stream",
          "text": [
            "Epochs:  50%|█████     | 1/2 [00:29<00:29, 29.71s/it]"
          ]
        },
        {
          "name": "stdout",
          "output_type": "stream",
          "text": [
            "2025-08-26 14:23:24,961 - Epoch 2/2 — Train RMSE: 0.4166 — Validation RMSE: 0.4021\n"
          ]
        },
        {
          "name": "stderr",
          "output_type": "stream",
          "text": [
            "Epochs: 100%|██████████| 2/2 [00:59<00:00, 29.57s/it]\n"
          ]
        },
        {
          "name": "stdout",
          "output_type": "stream",
          "text": [
            "2025-08-26 14:23:29,072 - Trial 42 with params: {'idxAfterPrediction': 4, 'timesteps': 75, 'target_option': 'last', 'LoadupSamples_time_scaling_stretch': True, 'LoadupSamples_time_inc_factor': 61, 'LSTM_units': 32, 'LSTM_num_layers': 1, 'LSTM_dropout': 0.007120388568544819, 'LSTM_recurrent_dropout': 0.001484458576100303, 'LSTM_learning_rate': 0.0001917575929982943, 'LSTM_optimizer': 'adam', 'LSTM_bidirectional': True, 'LSTM_batch_size': 4096, 'LSTM_epochs': 2, 'LSTM_l1': 2.032729875097649e-05, 'LSTM_l2': 0.00012732174516493183, 'LSTM_inter_dropout': 0.017180277892635255, 'LSTM_input_gaussian_noise': 0.001, 'LSTM_conv1d': True, 'LSTM_conv1d_kernel_size': 3, 'LSTM_loss': 'mse', 'LSTM_transformer_before': False, 'LSTM_transformer_after': False, 'LSTM_tf_d_model': 0, 'LSTM_tf_nhead': 2, 'LSTM_tf_num_layers_before': 0, 'LSTM_tf_num_layers_after': 0, 'LSTM_tf_dim_feedforward': 8, 'LSTM_tf_dropout': 0.1, 'LSTM_tf_positional_encoding': True, 'LSTM_tf_pool': 'last', 'year_start': 2020, 'is_single_feature': False}\n",
            "2025-08-26 14:23:29,088 -   q2: 0.9900\n",
            "2025-08-26 14:23:29,088 -   Duration0: 0:01:03.439819\n",
            "2025-08-26 14:23:29,088 -   Val RMSE0 adjusted: 0.0066\n",
            "2025-08-26 14:23:29,088 -   Mean all prediction: 0.9993\n",
            "2025-08-26 14:23:29,088 -   Mean above prediction: 1.0057\n",
            "2025-08-26 14:23:29,088 -   Mean below prediction: 0.9979\n",
            "2025-08-26 14:23:29,088 -   Quantile 0.99 for distance in mask above: 868.2399999999998\n",
            "2025-08-26 14:23:29,088 -   Quantile 0.99 for distance in mask below: 880.9199999999983\n",
            "2025-08-26 14:23:29,088 -   Ratio for quantile-distance-to-length above: 0.0013\n",
            "2025-08-26 14:23:29,088 -   Ratio for quantile-distance-to-length below: 0.0013\n",
            "2025-08-26 14:23:29,088 -   Score: 1.0014\n"
          ]
        },
        {
          "name": "stderr",
          "output_type": "stream",
          "text": [
            "[I 2025-08-26 14:23:29,164] Trial 42 finished with value: 1.0014113660242794 and parameters: {'year_start': 2020, 'LoadupSamples_time_inc_factor': 61, 'LSTM_units': 32, 'LSTM_learning_rate': 0.0001917575929982943, 'LSTM_l1': 2.032729875097649e-05, 'LSTM_l2': 0.00012732174516493183, 'LSTM_dropout': 0.007120388568544819, 'LSTM_inter_dropout': 0.017180277892635255, 'LSTM_recurrent_dropout': 0.001484458576100303}. Best is trial 38 with value: 1.0030939915675743.\n"
          ]
        },
        {
          "name": "stdout",
          "output_type": "stream",
          "text": [
            "2025-08-26 14:23:29,164 - Trial 42 finished with value: 1.0014113660242794 and parameters: {'year_start': 2020, 'LoadupSamples_time_inc_factor': 61, 'LSTM_units': 32, 'LSTM_learning_rate': 0.0001917575929982943, 'LSTM_l1': 2.032729875097649e-05, 'LSTM_l2': 0.00012732174516493183, 'LSTM_dropout': 0.007120388568544819, 'LSTM_inter_dropout': 0.017180277892635255, 'LSTM_recurrent_dropout': 0.001484458576100303}. Best is trial 38 with value: 1.0030939915675743.\n",
            "2025-08-26 14:23:38,304 - Non-finite/too-large values in train y time: 48 samples.\n",
            "2025-08-26 14:23:38,304 - Removing 48 samples from training data.\n"
          ]
        },
        {
          "name": "stderr",
          "output_type": "stream",
          "text": [
            "Epochs:   0%|          | 0/2 [00:00<?, ?it/s]"
          ]
        },
        {
          "name": "stdout",
          "output_type": "stream",
          "text": [
            "2025-08-26 14:24:18,377 - Epoch 1/2 — Train RMSE: 0.4273 — Validation RMSE: 0.4021\n"
          ]
        },
        {
          "name": "stderr",
          "output_type": "stream",
          "text": [
            "Epochs:  50%|█████     | 1/2 [00:29<00:29, 29.61s/it]"
          ]
        },
        {
          "name": "stdout",
          "output_type": "stream",
          "text": [
            "2025-08-26 14:24:47,975 - Epoch 2/2 — Train RMSE: 0.4159 — Validation RMSE: 0.4020\n"
          ]
        },
        {
          "name": "stderr",
          "output_type": "stream",
          "text": [
            "Epochs: 100%|██████████| 2/2 [00:59<00:00, 29.61s/it]\n"
          ]
        },
        {
          "name": "stdout",
          "output_type": "stream",
          "text": [
            "2025-08-26 14:24:52,053 - Trial 43 with params: {'idxAfterPrediction': 4, 'timesteps': 75, 'target_option': 'last', 'LoadupSamples_time_scaling_stretch': True, 'LoadupSamples_time_inc_factor': 61, 'LSTM_units': 32, 'LSTM_num_layers': 1, 'LSTM_dropout': 0.005508107046113457, 'LSTM_recurrent_dropout': 0.0012825837220090239, 'LSTM_learning_rate': 0.00022886949521207334, 'LSTM_optimizer': 'adam', 'LSTM_bidirectional': True, 'LSTM_batch_size': 4096, 'LSTM_epochs': 2, 'LSTM_l1': 2.488365702607024e-05, 'LSTM_l2': 0.00011985912044264195, 'LSTM_inter_dropout': 0.027092028224012552, 'LSTM_input_gaussian_noise': 0.001, 'LSTM_conv1d': True, 'LSTM_conv1d_kernel_size': 3, 'LSTM_loss': 'mse', 'LSTM_transformer_before': False, 'LSTM_transformer_after': False, 'LSTM_tf_d_model': 0, 'LSTM_tf_nhead': 2, 'LSTM_tf_num_layers_before': 0, 'LSTM_tf_num_layers_after': 0, 'LSTM_tf_dim_feedforward': 8, 'LSTM_tf_dropout': 0.1, 'LSTM_tf_positional_encoding': True, 'LSTM_tf_pool': 'last', 'year_start': 2020, 'is_single_feature': False}\n",
            "2025-08-26 14:24:52,053 -   q2: 0.9900\n",
            "2025-08-26 14:24:52,053 -   Duration0: 0:01:03.441016\n",
            "2025-08-26 14:24:52,053 -   Val RMSE0 adjusted: 0.0066\n",
            "2025-08-26 14:24:52,069 -   Mean all prediction: 0.9993\n",
            "2025-08-26 14:24:52,069 -   Mean above prediction: 1.0120\n",
            "2025-08-26 14:24:52,069 -   Mean below prediction: 0.9977\n",
            "2025-08-26 14:24:52,069 -   Quantile 0.99 for distance in mask above: 910.7199999999993\n",
            "2025-08-26 14:24:52,069 -   Quantile 0.99 for distance in mask below: 877.6399999999976\n",
            "2025-08-26 14:24:52,069 -   Ratio for quantile-distance-to-length above: 0.0014\n",
            "2025-08-26 14:24:52,069 -   Ratio for quantile-distance-to-length below: 0.0013\n",
            "2025-08-26 14:24:52,069 -   Score: 1.0030\n"
          ]
        },
        {
          "name": "stderr",
          "output_type": "stream",
          "text": [
            "[I 2025-08-26 14:24:52,151] Trial 43 finished with value: 1.0029872662131352 and parameters: {'year_start': 2020, 'LoadupSamples_time_inc_factor': 61, 'LSTM_units': 32, 'LSTM_learning_rate': 0.00022886949521207334, 'LSTM_l1': 2.488365702607024e-05, 'LSTM_l2': 0.00011985912044264195, 'LSTM_dropout': 0.005508107046113457, 'LSTM_inter_dropout': 0.027092028224012552, 'LSTM_recurrent_dropout': 0.0012825837220090239}. Best is trial 38 with value: 1.0030939915675743.\n"
          ]
        },
        {
          "name": "stdout",
          "output_type": "stream",
          "text": [
            "2025-08-26 14:24:52,151 - Trial 43 finished with value: 1.0029872662131352 and parameters: {'year_start': 2020, 'LoadupSamples_time_inc_factor': 61, 'LSTM_units': 32, 'LSTM_learning_rate': 0.00022886949521207334, 'LSTM_l1': 2.488365702607024e-05, 'LSTM_l2': 0.00011985912044264195, 'LSTM_dropout': 0.005508107046113457, 'LSTM_inter_dropout': 0.027092028224012552, 'LSTM_recurrent_dropout': 0.0012825837220090239}. Best is trial 38 with value: 1.0030939915675743.\n",
            "2025-08-26 14:25:01,253 - Non-finite/too-large values in train y time: 48 samples.\n",
            "2025-08-26 14:25:01,271 - Removing 48 samples from training data.\n"
          ]
        },
        {
          "name": "stderr",
          "output_type": "stream",
          "text": [
            "Epochs:   0%|          | 0/2 [00:00<?, ?it/s]"
          ]
        },
        {
          "name": "stdout",
          "output_type": "stream",
          "text": [
            "2025-08-26 14:25:37,650 - Epoch 1/2 — Train RMSE: 0.4496 — Validation RMSE: 0.4019\n"
          ]
        },
        {
          "name": "stderr",
          "output_type": "stream",
          "text": [
            "Epochs:  50%|█████     | 1/2 [00:26<00:26, 26.07s/it]"
          ]
        },
        {
          "name": "stdout",
          "output_type": "stream",
          "text": [
            "2025-08-26 14:26:03,539 - Epoch 2/2 — Train RMSE: 0.4156 — Validation RMSE: 0.4019\n"
          ]
        },
        {
          "name": "stderr",
          "output_type": "stream",
          "text": [
            "Epochs: 100%|██████████| 2/2 [00:51<00:00, 25.99s/it]\n"
          ]
        },
        {
          "name": "stdout",
          "output_type": "stream",
          "text": [
            "2025-08-26 14:26:07,550 - Trial 44 with params: {'idxAfterPrediction': 4, 'timesteps': 75, 'target_option': 'last', 'LoadupSamples_time_scaling_stretch': True, 'LoadupSamples_time_inc_factor': 61, 'LSTM_units': 16, 'LSTM_num_layers': 1, 'LSTM_dropout': 0.005582892860745764, 'LSTM_recurrent_dropout': 0.0019570419757157275, 'LSTM_learning_rate': 0.00016278378864637263, 'LSTM_optimizer': 'adam', 'LSTM_bidirectional': True, 'LSTM_batch_size': 4096, 'LSTM_epochs': 2, 'LSTM_l1': 2.4055531968191305e-05, 'LSTM_l2': 0.00015947373659478997, 'LSTM_inter_dropout': 0.0371613751386059, 'LSTM_input_gaussian_noise': 0.001, 'LSTM_conv1d': True, 'LSTM_conv1d_kernel_size': 3, 'LSTM_loss': 'mse', 'LSTM_transformer_before': False, 'LSTM_transformer_after': False, 'LSTM_tf_d_model': 0, 'LSTM_tf_nhead': 2, 'LSTM_tf_num_layers_before': 0, 'LSTM_tf_num_layers_after': 0, 'LSTM_tf_dim_feedforward': 8, 'LSTM_tf_dropout': 0.1, 'LSTM_tf_positional_encoding': True, 'LSTM_tf_pool': 'last', 'year_start': 2020, 'is_single_feature': False}\n",
            "2025-08-26 14:26:07,550 -   q2: 0.9900\n",
            "2025-08-26 14:26:07,550 -   Duration0: 0:00:56.156142\n",
            "2025-08-26 14:26:07,550 -   Val RMSE0 adjusted: 0.0066\n",
            "2025-08-26 14:26:07,566 -   Mean all prediction: 0.9993\n",
            "2025-08-26 14:26:07,566 -   Mean above prediction: 1.0094\n",
            "2025-08-26 14:26:07,566 -   Mean below prediction: 0.9976\n",
            "2025-08-26 14:26:07,566 -   Quantile 0.99 for distance in mask above: 910.3999999999978\n",
            "2025-08-26 14:26:07,566 -   Quantile 0.99 for distance in mask below: 853.9199999999983\n",
            "2025-08-26 14:26:07,566 -   Ratio for quantile-distance-to-length above: 0.0014\n",
            "2025-08-26 14:26:07,566 -   Ratio for quantile-distance-to-length below: 0.0013\n",
            "2025-08-26 14:26:07,566 -   Score: 1.0023\n"
          ]
        },
        {
          "name": "stderr",
          "output_type": "stream",
          "text": [
            "[I 2025-08-26 14:26:07,648] Trial 44 finished with value: 1.0023490763864886 and parameters: {'year_start': 2020, 'LoadupSamples_time_inc_factor': 61, 'LSTM_units': 16, 'LSTM_learning_rate': 0.00016278378864637263, 'LSTM_l1': 2.4055531968191305e-05, 'LSTM_l2': 0.00015947373659478997, 'LSTM_dropout': 0.005582892860745764, 'LSTM_inter_dropout': 0.0371613751386059, 'LSTM_recurrent_dropout': 0.0019570419757157275}. Best is trial 38 with value: 1.0030939915675743.\n"
          ]
        },
        {
          "name": "stdout",
          "output_type": "stream",
          "text": [
            "2025-08-26 14:26:07,648 - Trial 44 finished with value: 1.0023490763864886 and parameters: {'year_start': 2020, 'LoadupSamples_time_inc_factor': 61, 'LSTM_units': 16, 'LSTM_learning_rate': 0.00016278378864637263, 'LSTM_l1': 2.4055531968191305e-05, 'LSTM_l2': 0.00015947373659478997, 'LSTM_dropout': 0.005582892860745764, 'LSTM_inter_dropout': 0.0371613751386059, 'LSTM_recurrent_dropout': 0.0019570419757157275}. Best is trial 38 with value: 1.0030939915675743.\n",
            "2025-08-26 14:26:16,799 - Non-finite/too-large values in train y time: 48 samples.\n",
            "2025-08-26 14:26:16,815 - Removing 48 samples from training data.\n"
          ]
        },
        {
          "name": "stderr",
          "output_type": "stream",
          "text": [
            "Epochs:   0%|          | 0/2 [00:00<?, ?it/s]"
          ]
        },
        {
          "name": "stdout",
          "output_type": "stream",
          "text": [
            "2025-08-26 14:26:56,841 - Epoch 1/2 — Train RMSE: 0.4301 — Validation RMSE: 0.4086\n"
          ]
        },
        {
          "name": "stderr",
          "output_type": "stream",
          "text": [
            "Epochs:  50%|█████     | 1/2 [00:29<00:29, 29.63s/it]"
          ]
        },
        {
          "name": "stdout",
          "output_type": "stream",
          "text": [
            "2025-08-26 14:27:26,272 - Epoch 2/2 — Train RMSE: 0.4219 — Validation RMSE: 0.4085\n"
          ]
        },
        {
          "name": "stderr",
          "output_type": "stream",
          "text": [
            "Epochs: 100%|██████████| 2/2 [00:59<00:00, 29.53s/it]\n"
          ]
        },
        {
          "name": "stdout",
          "output_type": "stream",
          "text": [
            "2025-08-26 14:27:30,344 - Trial 45 with params: {'idxAfterPrediction': 4, 'timesteps': 75, 'target_option': 'last', 'LoadupSamples_time_scaling_stretch': True, 'LoadupSamples_time_inc_factor': 66, 'LSTM_units': 32, 'LSTM_num_layers': 1, 'LSTM_dropout': 0.002784993832143085, 'LSTM_recurrent_dropout': 0.0013953497175600534, 'LSTM_learning_rate': 0.00022712881900034267, 'LSTM_optimizer': 'adam', 'LSTM_bidirectional': True, 'LSTM_batch_size': 4096, 'LSTM_epochs': 2, 'LSTM_l1': 1.5046772588538495e-05, 'LSTM_l2': 0.0001028766925408833, 'LSTM_inter_dropout': 0.027907423692600797, 'LSTM_input_gaussian_noise': 0.001, 'LSTM_conv1d': True, 'LSTM_conv1d_kernel_size': 3, 'LSTM_loss': 'mse', 'LSTM_transformer_before': False, 'LSTM_transformer_after': False, 'LSTM_tf_d_model': 0, 'LSTM_tf_nhead': 2, 'LSTM_tf_num_layers_before': 0, 'LSTM_tf_num_layers_after': 0, 'LSTM_tf_dim_feedforward': 8, 'LSTM_tf_dropout': 0.1, 'LSTM_tf_positional_encoding': True, 'LSTM_tf_pool': 'last', 'year_start': 2020, 'is_single_feature': False}\n",
            "2025-08-26 14:27:30,344 -   q2: 0.9900\n",
            "2025-08-26 14:27:30,360 -   Duration0: 0:01:03.284617\n",
            "2025-08-26 14:27:30,360 -   Val RMSE0 adjusted: 0.0062\n",
            "2025-08-26 14:27:30,360 -   Mean all prediction: 0.9993\n",
            "2025-08-26 14:27:30,360 -   Mean above prediction: 1.0032\n",
            "2025-08-26 14:27:30,360 -   Mean below prediction: 0.9976\n",
            "2025-08-26 14:27:30,360 -   Quantile 0.99 for distance in mask above: 832.4799999999996\n",
            "2025-08-26 14:27:30,360 -   Quantile 0.99 for distance in mask below: 880.4799999999996\n",
            "2025-08-26 14:27:30,360 -   Ratio for quantile-distance-to-length above: 0.0013\n",
            "2025-08-26 14:27:30,360 -   Ratio for quantile-distance-to-length below: 0.0013\n",
            "2025-08-26 14:27:30,360 -   Score: 1.0008\n"
          ]
        },
        {
          "name": "stderr",
          "output_type": "stream",
          "text": [
            "[I 2025-08-26 14:27:30,443] Trial 45 finished with value: 1.00079691026707 and parameters: {'year_start': 2020, 'LoadupSamples_time_inc_factor': 66, 'LSTM_units': 32, 'LSTM_learning_rate': 0.00022712881900034267, 'LSTM_l1': 1.5046772588538495e-05, 'LSTM_l2': 0.0001028766925408833, 'LSTM_dropout': 0.002784993832143085, 'LSTM_inter_dropout': 0.027907423692600797, 'LSTM_recurrent_dropout': 0.0013953497175600534}. Best is trial 38 with value: 1.0030939915675743.\n"
          ]
        },
        {
          "name": "stdout",
          "output_type": "stream",
          "text": [
            "2025-08-26 14:27:30,443 - Trial 45 finished with value: 1.00079691026707 and parameters: {'year_start': 2020, 'LoadupSamples_time_inc_factor': 66, 'LSTM_units': 32, 'LSTM_learning_rate': 0.00022712881900034267, 'LSTM_l1': 1.5046772588538495e-05, 'LSTM_l2': 0.0001028766925408833, 'LSTM_dropout': 0.002784993832143085, 'LSTM_inter_dropout': 0.027907423692600797, 'LSTM_recurrent_dropout': 0.0013953497175600534}. Best is trial 38 with value: 1.0030939915675743.\n",
            "2025-08-26 14:27:39,581 - Non-finite/too-large values in train y time: 48 samples.\n",
            "2025-08-26 14:27:39,597 - Removing 48 samples from training data.\n"
          ]
        },
        {
          "name": "stderr",
          "output_type": "stream",
          "text": [
            "Epochs:   0%|          | 0/2 [00:00<?, ?it/s]"
          ]
        },
        {
          "name": "stdout",
          "output_type": "stream",
          "text": [
            "2025-08-26 14:28:15,827 - Epoch 1/2 — Train RMSE: 0.4268 — Validation RMSE: 0.4020\n"
          ]
        },
        {
          "name": "stderr",
          "output_type": "stream",
          "text": [
            "Epochs:  50%|█████     | 1/2 [00:25<00:25, 25.81s/it]"
          ]
        },
        {
          "name": "stdout",
          "output_type": "stream",
          "text": [
            "2025-08-26 14:28:41,967 - Epoch 2/2 — Train RMSE: 0.4153 — Validation RMSE: 0.4020\n"
          ]
        },
        {
          "name": "stderr",
          "output_type": "stream",
          "text": [
            "Epochs: 100%|██████████| 2/2 [00:51<00:00, 25.97s/it]\n"
          ]
        },
        {
          "name": "stdout",
          "output_type": "stream",
          "text": [
            "2025-08-26 14:28:45,992 - Trial 46 with params: {'idxAfterPrediction': 4, 'timesteps': 75, 'target_option': 'last', 'LoadupSamples_time_scaling_stretch': True, 'LoadupSamples_time_inc_factor': 61, 'LSTM_units': 16, 'LSTM_num_layers': 1, 'LSTM_dropout': 0.008680179389409773, 'LSTM_recurrent_dropout': 0.0016068499075427552, 'LSTM_learning_rate': 0.00026853251845364035, 'LSTM_optimizer': 'adam', 'LSTM_bidirectional': True, 'LSTM_batch_size': 4096, 'LSTM_epochs': 2, 'LSTM_l1': 1.7600966313948717e-05, 'LSTM_l2': 0.00025569256868699557, 'LSTM_inter_dropout': 0.02296719387355947, 'LSTM_input_gaussian_noise': 0.001, 'LSTM_conv1d': True, 'LSTM_conv1d_kernel_size': 3, 'LSTM_loss': 'mse', 'LSTM_transformer_before': False, 'LSTM_transformer_after': False, 'LSTM_tf_d_model': 0, 'LSTM_tf_nhead': 2, 'LSTM_tf_num_layers_before': 0, 'LSTM_tf_num_layers_after': 0, 'LSTM_tf_dim_feedforward': 8, 'LSTM_tf_dropout': 0.1, 'LSTM_tf_positional_encoding': True, 'LSTM_tf_pool': 'last', 'year_start': 2020, 'is_single_feature': False}\n",
            "2025-08-26 14:28:45,993 -   q2: 0.9900\n",
            "2025-08-26 14:28:45,993 -   Duration0: 0:00:56.122101\n",
            "2025-08-26 14:28:45,994 -   Val RMSE0 adjusted: 0.0066\n",
            "2025-08-26 14:28:45,995 -   Mean all prediction: 0.9993\n",
            "2025-08-26 14:28:45,995 -   Mean above prediction: 1.0072\n",
            "2025-08-26 14:28:45,995 -   Mean below prediction: 0.9986\n",
            "2025-08-26 14:28:45,995 -   Quantile 0.99 for distance in mask above: 915.359999999997\n",
            "2025-08-26 14:28:45,995 -   Quantile 0.99 for distance in mask below: 868.7599999999948\n",
            "2025-08-26 14:28:45,995 -   Ratio for quantile-distance-to-length above: 0.0014\n",
            "2025-08-26 14:28:45,995 -   Ratio for quantile-distance-to-length below: 0.0013\n",
            "2025-08-26 14:28:45,995 -   Score: 1.0018\n"
          ]
        },
        {
          "name": "stderr",
          "output_type": "stream",
          "text": [
            "[I 2025-08-26 14:28:46,084] Trial 46 finished with value: 1.001805353814935 and parameters: {'year_start': 2020, 'LoadupSamples_time_inc_factor': 61, 'LSTM_units': 16, 'LSTM_learning_rate': 0.00026853251845364035, 'LSTM_l1': 1.7600966313948717e-05, 'LSTM_l2': 0.00025569256868699557, 'LSTM_dropout': 0.008680179389409773, 'LSTM_inter_dropout': 0.02296719387355947, 'LSTM_recurrent_dropout': 0.0016068499075427552}. Best is trial 38 with value: 1.0030939915675743.\n"
          ]
        },
        {
          "name": "stdout",
          "output_type": "stream",
          "text": [
            "2025-08-26 14:28:46,084 - Trial 46 finished with value: 1.001805353814935 and parameters: {'year_start': 2020, 'LoadupSamples_time_inc_factor': 61, 'LSTM_units': 16, 'LSTM_learning_rate': 0.00026853251845364035, 'LSTM_l1': 1.7600966313948717e-05, 'LSTM_l2': 0.00025569256868699557, 'LSTM_dropout': 0.008680179389409773, 'LSTM_inter_dropout': 0.02296719387355947, 'LSTM_recurrent_dropout': 0.0016068499075427552}. Best is trial 38 with value: 1.0030939915675743.\n",
            "2025-08-26 14:28:55,164 - Non-finite/too-large values in train y time: 48 samples.\n",
            "2025-08-26 14:28:55,181 - Removing 48 samples from training data.\n"
          ]
        },
        {
          "name": "stderr",
          "output_type": "stream",
          "text": [
            "Epochs:   0%|          | 0/2 [00:00<?, ?it/s]"
          ]
        },
        {
          "name": "stdout",
          "output_type": "stream",
          "text": [
            "2025-08-26 14:29:35,184 - Epoch 1/2 — Train RMSE: 0.4379 — Validation RMSE: 0.4086\n"
          ]
        },
        {
          "name": "stderr",
          "output_type": "stream",
          "text": [
            "Epochs:  50%|█████     | 1/2 [00:29<00:29, 29.69s/it]"
          ]
        },
        {
          "name": "stdout",
          "output_type": "stream",
          "text": [
            "2025-08-26 14:30:04,613 - Epoch 2/2 — Train RMSE: 0.4209 — Validation RMSE: 0.4085\n"
          ]
        },
        {
          "name": "stderr",
          "output_type": "stream",
          "text": [
            "Epochs: 100%|██████████| 2/2 [00:59<00:00, 29.56s/it]\n"
          ]
        },
        {
          "name": "stdout",
          "output_type": "stream",
          "text": [
            "2025-08-26 14:30:08,706 - Trial 47 with params: {'idxAfterPrediction': 4, 'timesteps': 75, 'target_option': 'last', 'LoadupSamples_time_scaling_stretch': True, 'LoadupSamples_time_inc_factor': 66, 'LSTM_units': 32, 'LSTM_num_layers': 1, 'LSTM_dropout': 0.0020793039146095905, 'LSTM_recurrent_dropout': 0.0026228066470467336, 'LSTM_learning_rate': 0.00012405345592285806, 'LSTM_optimizer': 'adam', 'LSTM_bidirectional': True, 'LSTM_batch_size': 4096, 'LSTM_epochs': 2, 'LSTM_l1': 2.1445641609110004e-05, 'LSTM_l2': 0.00014659577196155746, 'LSTM_inter_dropout': 0.03327487328707003, 'LSTM_input_gaussian_noise': 0.001, 'LSTM_conv1d': True, 'LSTM_conv1d_kernel_size': 3, 'LSTM_loss': 'mse', 'LSTM_transformer_before': False, 'LSTM_transformer_after': False, 'LSTM_tf_d_model': 0, 'LSTM_tf_nhead': 2, 'LSTM_tf_num_layers_before': 0, 'LSTM_tf_num_layers_after': 0, 'LSTM_tf_dim_feedforward': 8, 'LSTM_tf_dropout': 0.1, 'LSTM_tf_positional_encoding': True, 'LSTM_tf_pool': 'last', 'year_start': 2020, 'is_single_feature': False}\n",
            "2025-08-26 14:30:08,708 -   q2: 0.9900\n",
            "2025-08-26 14:30:08,708 -   Duration0: 0:01:03.387699\n",
            "2025-08-26 14:30:08,709 -   Val RMSE0 adjusted: 0.0062\n",
            "2025-08-26 14:30:08,710 -   Mean all prediction: 0.9993\n",
            "2025-08-26 14:30:08,710 -   Mean above prediction: 1.0050\n",
            "2025-08-26 14:30:08,710 -   Mean below prediction: 0.9985\n",
            "2025-08-26 14:30:08,710 -   Quantile 0.99 for distance in mask above: 800.9599999999991\n",
            "2025-08-26 14:30:08,710 -   Quantile 0.99 for distance in mask below: 888.4399999999987\n",
            "2025-08-26 14:30:08,710 -   Ratio for quantile-distance-to-length above: 0.0012\n",
            "2025-08-26 14:30:08,710 -   Ratio for quantile-distance-to-length below: 0.0014\n",
            "2025-08-26 14:30:08,710 -   Score: 1.0012\n"
          ]
        },
        {
          "name": "stderr",
          "output_type": "stream",
          "text": [
            "[I 2025-08-26 14:30:08,787] Trial 47 finished with value: 1.0012407845405626 and parameters: {'year_start': 2020, 'LoadupSamples_time_inc_factor': 66, 'LSTM_units': 32, 'LSTM_learning_rate': 0.00012405345592285806, 'LSTM_l1': 2.1445641609110004e-05, 'LSTM_l2': 0.00014659577196155746, 'LSTM_dropout': 0.0020793039146095905, 'LSTM_inter_dropout': 0.03327487328707003, 'LSTM_recurrent_dropout': 0.0026228066470467336}. Best is trial 38 with value: 1.0030939915675743.\n"
          ]
        },
        {
          "name": "stdout",
          "output_type": "stream",
          "text": [
            "2025-08-26 14:30:08,787 - Trial 47 finished with value: 1.0012407845405626 and parameters: {'year_start': 2020, 'LoadupSamples_time_inc_factor': 66, 'LSTM_units': 32, 'LSTM_learning_rate': 0.00012405345592285806, 'LSTM_l1': 2.1445641609110004e-05, 'LSTM_l2': 0.00014659577196155746, 'LSTM_dropout': 0.0020793039146095905, 'LSTM_inter_dropout': 0.03327487328707003, 'LSTM_recurrent_dropout': 0.0026228066470467336}. Best is trial 38 with value: 1.0030939915675743.\n",
            "2025-08-26 14:30:17,924 - Non-finite/too-large values in train y time: 48 samples.\n",
            "2025-08-26 14:30:17,924 - Removing 48 samples from training data.\n"
          ]
        },
        {
          "name": "stderr",
          "output_type": "stream",
          "text": [
            "Epochs:   0%|          | 0/2 [00:00<?, ?it/s]"
          ]
        },
        {
          "name": "stdout",
          "output_type": "stream",
          "text": [
            "2025-08-26 14:30:57,929 - Epoch 1/2 — Train RMSE: 0.4581 — Validation RMSE: 0.4026\n"
          ]
        },
        {
          "name": "stderr",
          "output_type": "stream",
          "text": [
            "Epochs:  50%|█████     | 1/2 [00:29<00:29, 29.56s/it]"
          ]
        },
        {
          "name": "stdout",
          "output_type": "stream",
          "text": [
            "2025-08-26 14:31:27,444 - Epoch 2/2 — Train RMSE: 0.4157 — Validation RMSE: 0.4023\n"
          ]
        },
        {
          "name": "stderr",
          "output_type": "stream",
          "text": [
            "Epochs: 100%|██████████| 2/2 [00:59<00:00, 29.54s/it]\n"
          ]
        },
        {
          "name": "stdout",
          "output_type": "stream",
          "text": [
            "2025-08-26 14:31:31,557 - Trial 48 with params: {'idxAfterPrediction': 4, 'timesteps': 75, 'target_option': 'last', 'LoadupSamples_time_scaling_stretch': True, 'LoadupSamples_time_inc_factor': 61, 'LSTM_units': 32, 'LSTM_num_layers': 1, 'LSTM_dropout': 0.0047238638901928205, 'LSTM_recurrent_dropout': 0.0012914117395109426, 'LSTM_learning_rate': 0.00010219494072614872, 'LSTM_optimizer': 'adam', 'LSTM_bidirectional': True, 'LSTM_batch_size': 4096, 'LSTM_epochs': 2, 'LSTM_l1': 3.0319321832339074e-05, 'LSTM_l2': 0.00012745381175378862, 'LSTM_inter_dropout': 0.026885934331845843, 'LSTM_input_gaussian_noise': 0.001, 'LSTM_conv1d': True, 'LSTM_conv1d_kernel_size': 3, 'LSTM_loss': 'mse', 'LSTM_transformer_before': False, 'LSTM_transformer_after': False, 'LSTM_tf_d_model': 0, 'LSTM_tf_nhead': 2, 'LSTM_tf_num_layers_before': 0, 'LSTM_tf_num_layers_after': 0, 'LSTM_tf_dim_feedforward': 8, 'LSTM_tf_dropout': 0.1, 'LSTM_tf_positional_encoding': True, 'LSTM_tf_pool': 'last', 'year_start': 2020, 'is_single_feature': False}\n",
            "2025-08-26 14:31:31,557 -   q2: 0.9900\n",
            "2025-08-26 14:31:31,557 -   Duration0: 0:01:03.321938\n",
            "2025-08-26 14:31:31,557 -   Val RMSE0 adjusted: 0.0066\n",
            "2025-08-26 14:31:31,557 -   Mean all prediction: 0.9993\n",
            "2025-08-26 14:31:31,557 -   Mean above prediction: 1.0034\n",
            "2025-08-26 14:31:31,557 -   Mean below prediction: 0.9961\n",
            "2025-08-26 14:31:31,557 -   Quantile 0.99 for distance in mask above: 963.7199999999993\n",
            "2025-08-26 14:31:31,557 -   Quantile 0.99 for distance in mask below: 853.4399999999987\n",
            "2025-08-26 14:31:31,557 -   Ratio for quantile-distance-to-length above: 0.0015\n",
            "2025-08-26 14:31:31,573 -   Ratio for quantile-distance-to-length below: 0.0013\n",
            "2025-08-26 14:31:31,573 -   Score: 1.0008\n"
          ]
        },
        {
          "name": "stderr",
          "output_type": "stream",
          "text": [
            "[I 2025-08-26 14:31:31,638] Trial 48 finished with value: 1.000838163838082 and parameters: {'year_start': 2020, 'LoadupSamples_time_inc_factor': 61, 'LSTM_units': 32, 'LSTM_learning_rate': 0.00010219494072614872, 'LSTM_l1': 3.0319321832339074e-05, 'LSTM_l2': 0.00012745381175378862, 'LSTM_dropout': 0.0047238638901928205, 'LSTM_inter_dropout': 0.026885934331845843, 'LSTM_recurrent_dropout': 0.0012914117395109426}. Best is trial 38 with value: 1.0030939915675743.\n"
          ]
        },
        {
          "name": "stdout",
          "output_type": "stream",
          "text": [
            "2025-08-26 14:31:31,638 - Trial 48 finished with value: 1.000838163838082 and parameters: {'year_start': 2020, 'LoadupSamples_time_inc_factor': 61, 'LSTM_units': 32, 'LSTM_learning_rate': 0.00010219494072614872, 'LSTM_l1': 3.0319321832339074e-05, 'LSTM_l2': 0.00012745381175378862, 'LSTM_dropout': 0.0047238638901928205, 'LSTM_inter_dropout': 0.026885934331845843, 'LSTM_recurrent_dropout': 0.0012914117395109426}. Best is trial 38 with value: 1.0030939915675743.\n",
            "2025-08-26 14:31:40,790 - Non-finite/too-large values in train y time: 48 samples.\n",
            "2025-08-26 14:31:40,806 - Removing 48 samples from training data.\n"
          ]
        },
        {
          "name": "stderr",
          "output_type": "stream",
          "text": [
            "Epochs:   0%|          | 0/2 [00:00<?, ?it/s]"
          ]
        },
        {
          "name": "stdout",
          "output_type": "stream",
          "text": [
            "2025-08-26 14:32:17,168 - Epoch 1/2 — Train RMSE: 0.4713 — Validation RMSE: 0.4085\n"
          ]
        },
        {
          "name": "stderr",
          "output_type": "stream",
          "text": [
            "Epochs:  50%|█████     | 1/2 [00:26<00:26, 26.06s/it]"
          ]
        },
        {
          "name": "stdout",
          "output_type": "stream",
          "text": [
            "2025-08-26 14:32:43,092 - Epoch 2/2 — Train RMSE: 0.4214 — Validation RMSE: 0.4085\n"
          ]
        },
        {
          "name": "stderr",
          "output_type": "stream",
          "text": [
            "Epochs: 100%|██████████| 2/2 [00:51<00:00, 25.99s/it]\n"
          ]
        },
        {
          "name": "stdout",
          "output_type": "stream",
          "text": [
            "2025-08-26 14:32:47,134 - Trial 49 with params: {'idxAfterPrediction': 4, 'timesteps': 75, 'target_option': 'last', 'LoadupSamples_time_scaling_stretch': True, 'LoadupSamples_time_inc_factor': 66, 'LSTM_units': 16, 'LSTM_num_layers': 1, 'LSTM_dropout': 0.006921425346938221, 'LSTM_recurrent_dropout': 0.0018754843412160938, 'LSTM_learning_rate': 0.00018245594632361592, 'LSTM_optimizer': 'adam', 'LSTM_bidirectional': True, 'LSTM_batch_size': 4096, 'LSTM_epochs': 2, 'LSTM_l1': 1.1754820591867885e-05, 'LSTM_l2': 0.00018170364456315924, 'LSTM_inter_dropout': 0.04164641584231013, 'LSTM_input_gaussian_noise': 0.001, 'LSTM_conv1d': True, 'LSTM_conv1d_kernel_size': 3, 'LSTM_loss': 'mse', 'LSTM_transformer_before': False, 'LSTM_transformer_after': False, 'LSTM_tf_d_model': 0, 'LSTM_tf_nhead': 2, 'LSTM_tf_num_layers_before': 0, 'LSTM_tf_num_layers_after': 0, 'LSTM_tf_dim_feedforward': 8, 'LSTM_tf_dropout': 0.1, 'LSTM_tf_positional_encoding': True, 'LSTM_tf_pool': 'last', 'year_start': 2020, 'is_single_feature': False}\n",
            "2025-08-26 14:32:47,134 -   q2: 0.9900\n",
            "2025-08-26 14:32:47,134 -   Duration0: 0:00:56.156818\n",
            "2025-08-26 14:32:47,134 -   Val RMSE0 adjusted: 0.0062\n",
            "2025-08-26 14:32:47,150 -   Mean all prediction: 0.9993\n",
            "2025-08-26 14:32:47,150 -   Mean above prediction: 1.0099\n",
            "2025-08-26 14:32:47,150 -   Mean below prediction: 0.9958\n",
            "2025-08-26 14:32:47,150 -   Quantile 0.99 for distance in mask above: 943.9199999999983\n",
            "2025-08-26 14:32:47,150 -   Quantile 0.99 for distance in mask below: 770.0\n",
            "2025-08-26 14:32:47,150 -   Ratio for quantile-distance-to-length above: 0.0014\n",
            "2025-08-26 14:32:47,150 -   Ratio for quantile-distance-to-length below: 0.0012\n",
            "2025-08-26 14:32:47,150 -   Score: 1.0025\n"
          ]
        },
        {
          "name": "stderr",
          "output_type": "stream",
          "text": [
            "[I 2025-08-26 14:32:47,223] Trial 49 finished with value: 1.0024604987469767 and parameters: {'year_start': 2020, 'LoadupSamples_time_inc_factor': 66, 'LSTM_units': 16, 'LSTM_learning_rate': 0.00018245594632361592, 'LSTM_l1': 1.1754820591867885e-05, 'LSTM_l2': 0.00018170364456315924, 'LSTM_dropout': 0.006921425346938221, 'LSTM_inter_dropout': 0.04164641584231013, 'LSTM_recurrent_dropout': 0.0018754843412160938}. Best is trial 38 with value: 1.0030939915675743.\n"
          ]
        },
        {
          "name": "stdout",
          "output_type": "stream",
          "text": [
            "2025-08-26 14:32:47,223 - Trial 49 finished with value: 1.0024604987469767 and parameters: {'year_start': 2020, 'LoadupSamples_time_inc_factor': 66, 'LSTM_units': 16, 'LSTM_learning_rate': 0.00018245594632361592, 'LSTM_l1': 1.1754820591867885e-05, 'LSTM_l2': 0.00018170364456315924, 'LSTM_dropout': 0.006921425346938221, 'LSTM_inter_dropout': 0.04164641584231013, 'LSTM_recurrent_dropout': 0.0018754843412160938}. Best is trial 38 with value: 1.0030939915675743.\n",
            "2025-08-26 14:32:56,353 - Non-finite/too-large values in train y time: 48 samples.\n",
            "2025-08-26 14:32:56,353 - Removing 48 samples from training data.\n"
          ]
        },
        {
          "name": "stderr",
          "output_type": "stream",
          "text": [
            "Epochs:   0%|          | 0/2 [00:00<?, ?it/s]"
          ]
        },
        {
          "name": "stdout",
          "output_type": "stream",
          "text": [
            "2025-08-26 14:33:36,610 - Epoch 1/2 — Train RMSE: 0.4563 — Validation RMSE: 0.4021\n"
          ]
        },
        {
          "name": "stderr",
          "output_type": "stream",
          "text": [
            "Epochs:  50%|█████     | 1/2 [00:29<00:29, 29.68s/it]"
          ]
        },
        {
          "name": "stdout",
          "output_type": "stream",
          "text": [
            "2025-08-26 14:34:06,122 - Epoch 2/2 — Train RMSE: 0.4170 — Validation RMSE: 0.4020\n"
          ]
        },
        {
          "name": "stderr",
          "output_type": "stream",
          "text": [
            "Epochs: 100%|██████████| 2/2 [00:59<00:00, 29.60s/it]\n"
          ]
        },
        {
          "name": "stdout",
          "output_type": "stream",
          "text": [
            "2025-08-26 14:34:10,215 - Trial 50 with params: {'idxAfterPrediction': 4, 'timesteps': 75, 'target_option': 'last', 'LoadupSamples_time_scaling_stretch': True, 'LoadupSamples_time_inc_factor': 61, 'LSTM_units': 32, 'LSTM_num_layers': 1, 'LSTM_dropout': 0.0033513275279833115, 'LSTM_recurrent_dropout': 0.0015169318133186455, 'LSTM_learning_rate': 0.00023822853539560458, 'LSTM_optimizer': 'adam', 'LSTM_bidirectional': True, 'LSTM_batch_size': 4096, 'LSTM_epochs': 2, 'LSTM_l1': 1.9095689777719053e-05, 'LSTM_l2': 0.0038551639969105654, 'LSTM_inter_dropout': 0.04567730623566019, 'LSTM_input_gaussian_noise': 0.001, 'LSTM_conv1d': True, 'LSTM_conv1d_kernel_size': 3, 'LSTM_loss': 'mse', 'LSTM_transformer_before': False, 'LSTM_transformer_after': False, 'LSTM_tf_d_model': 0, 'LSTM_tf_nhead': 2, 'LSTM_tf_num_layers_before': 0, 'LSTM_tf_num_layers_after': 0, 'LSTM_tf_dim_feedforward': 8, 'LSTM_tf_dropout': 0.1, 'LSTM_tf_positional_encoding': True, 'LSTM_tf_pool': 'last', 'year_start': 2020, 'is_single_feature': False}\n",
            "2025-08-26 14:34:10,215 -   q2: 0.9900\n",
            "2025-08-26 14:34:10,215 -   Duration0: 0:01:03.419722\n",
            "2025-08-26 14:34:10,215 -   Val RMSE0 adjusted: 0.0066\n",
            "2025-08-26 14:34:10,215 -   Mean all prediction: 0.9993\n",
            "2025-08-26 14:34:10,215 -   Mean above prediction: 1.0047\n",
            "2025-08-26 14:34:10,215 -   Mean below prediction: 0.9971\n",
            "2025-08-26 14:34:10,215 -   Quantile 0.99 for distance in mask above: 972.4799999999996\n",
            "2025-08-26 14:34:10,215 -   Quantile 0.99 for distance in mask below: 864.4399999999987\n",
            "2025-08-26 14:34:10,227 -   Ratio for quantile-distance-to-length above: 0.0015\n",
            "2025-08-26 14:34:10,227 -   Ratio for quantile-distance-to-length below: 0.0013\n",
            "2025-08-26 14:34:10,227 -   Score: 1.0012\n"
          ]
        },
        {
          "name": "stderr",
          "output_type": "stream",
          "text": [
            "[I 2025-08-26 14:34:10,287] Trial 50 finished with value: 1.0011643298242157 and parameters: {'year_start': 2020, 'LoadupSamples_time_inc_factor': 61, 'LSTM_units': 32, 'LSTM_learning_rate': 0.00023822853539560458, 'LSTM_l1': 1.9095689777719053e-05, 'LSTM_l2': 0.0038551639969105654, 'LSTM_dropout': 0.0033513275279833115, 'LSTM_inter_dropout': 0.04567730623566019, 'LSTM_recurrent_dropout': 0.0015169318133186455}. Best is trial 38 with value: 1.0030939915675743.\n"
          ]
        },
        {
          "name": "stdout",
          "output_type": "stream",
          "text": [
            "2025-08-26 14:34:10,287 - Trial 50 finished with value: 1.0011643298242157 and parameters: {'year_start': 2020, 'LoadupSamples_time_inc_factor': 61, 'LSTM_units': 32, 'LSTM_learning_rate': 0.00023822853539560458, 'LSTM_l1': 1.9095689777719053e-05, 'LSTM_l2': 0.0038551639969105654, 'LSTM_dropout': 0.0033513275279833115, 'LSTM_inter_dropout': 0.04567730623566019, 'LSTM_recurrent_dropout': 0.0015169318133186455}. Best is trial 38 with value: 1.0030939915675743.\n",
            "2025-08-26 14:34:17,831 - Non-finite/too-large values in train y time: 48 samples.\n",
            "2025-08-26 14:34:17,844 - Removing 48 samples from training data.\n"
          ]
        },
        {
          "name": "stderr",
          "output_type": "stream",
          "text": [
            "Epochs:   0%|          | 0/2 [00:00<?, ?it/s]"
          ]
        },
        {
          "name": "stdout",
          "output_type": "stream",
          "text": [
            "2025-08-26 14:34:50,034 - Epoch 1/2 — Train RMSE: 0.4265 — Validation RMSE: 0.4021\n"
          ]
        },
        {
          "name": "stderr",
          "output_type": "stream",
          "text": [
            "Epochs:  50%|█████     | 1/2 [00:23<00:23, 23.63s/it]"
          ]
        },
        {
          "name": "stdout",
          "output_type": "stream",
          "text": [
            "2025-08-26 14:35:13,519 - Epoch 2/2 — Train RMSE: 0.4108 — Validation RMSE: 0.4020\n"
          ]
        },
        {
          "name": "stderr",
          "output_type": "stream",
          "text": [
            "Epochs: 100%|██████████| 2/2 [00:47<00:00, 23.56s/it]\n"
          ]
        },
        {
          "name": "stdout",
          "output_type": "stream",
          "text": [
            "2025-08-26 14:35:17,544 - Trial 51 with params: {'idxAfterPrediction': 4, 'timesteps': 75, 'target_option': 'last', 'LoadupSamples_time_scaling_stretch': True, 'LoadupSamples_time_inc_factor': 61, 'LSTM_units': 32, 'LSTM_num_layers': 1, 'LSTM_dropout': 0.00569950989208066, 'LSTM_recurrent_dropout': 0.0012760285709788517, 'LSTM_learning_rate': 0.00021031026199215964, 'LSTM_optimizer': 'adam', 'LSTM_bidirectional': True, 'LSTM_batch_size': 4096, 'LSTM_epochs': 2, 'LSTM_l1': 2.5739584400809326e-05, 'LSTM_l2': 0.00011438724733193351, 'LSTM_inter_dropout': 0.018819010399243188, 'LSTM_input_gaussian_noise': 0.001, 'LSTM_conv1d': True, 'LSTM_conv1d_kernel_size': 3, 'LSTM_loss': 'mse', 'LSTM_transformer_before': False, 'LSTM_transformer_after': False, 'LSTM_tf_d_model': 0, 'LSTM_tf_nhead': 2, 'LSTM_tf_num_layers_before': 0, 'LSTM_tf_num_layers_after': 0, 'LSTM_tf_dim_feedforward': 8, 'LSTM_tf_dropout': 0.1, 'LSTM_tf_positional_encoding': True, 'LSTM_tf_pool': 'last', 'year_start': 2021, 'is_single_feature': False}\n",
            "2025-08-26 14:35:17,544 -   q2: 0.9900\n",
            "2025-08-26 14:35:17,544 -   Duration0: 0:00:51.258766\n",
            "2025-08-26 14:35:17,544 -   Val RMSE0 adjusted: 0.0066\n",
            "2025-08-26 14:35:17,560 -   Mean all prediction: 0.9993\n",
            "2025-08-26 14:35:17,562 -   Mean above prediction: 1.0088\n",
            "2025-08-26 14:35:17,564 -   Mean below prediction: 0.9981\n",
            "2025-08-26 14:35:17,565 -   Quantile 0.99 for distance in mask above: 911.9199999999983\n",
            "2025-08-26 14:35:17,565 -   Quantile 0.99 for distance in mask below: 901.1199999999972\n",
            "2025-08-26 14:35:17,565 -   Ratio for quantile-distance-to-length above: 0.0014\n",
            "2025-08-26 14:35:17,565 -   Ratio for quantile-distance-to-length below: 0.0014\n",
            "2025-08-26 14:35:17,565 -   Score: 1.0022\n"
          ]
        },
        {
          "name": "stderr",
          "output_type": "stream",
          "text": [
            "[I 2025-08-26 14:35:17,619] Trial 51 finished with value: 1.0021902915897063 and parameters: {'year_start': 2021, 'LoadupSamples_time_inc_factor': 61, 'LSTM_units': 32, 'LSTM_learning_rate': 0.00021031026199215964, 'LSTM_l1': 2.5739584400809326e-05, 'LSTM_l2': 0.00011438724733193351, 'LSTM_dropout': 0.00569950989208066, 'LSTM_inter_dropout': 0.018819010399243188, 'LSTM_recurrent_dropout': 0.0012760285709788517}. Best is trial 38 with value: 1.0030939915675743.\n"
          ]
        },
        {
          "name": "stdout",
          "output_type": "stream",
          "text": [
            "2025-08-26 14:35:17,619 - Trial 51 finished with value: 1.0021902915897063 and parameters: {'year_start': 2021, 'LoadupSamples_time_inc_factor': 61, 'LSTM_units': 32, 'LSTM_learning_rate': 0.00021031026199215964, 'LSTM_l1': 2.5739584400809326e-05, 'LSTM_l2': 0.00011438724733193351, 'LSTM_dropout': 0.00569950989208066, 'LSTM_inter_dropout': 0.018819010399243188, 'LSTM_recurrent_dropout': 0.0012760285709788517}. Best is trial 38 with value: 1.0030939915675743.\n",
            "2025-08-26 14:35:26,732 - Non-finite/too-large values in train y time: 48 samples.\n",
            "2025-08-26 14:35:26,750 - Removing 48 samples from training data.\n"
          ]
        },
        {
          "name": "stderr",
          "output_type": "stream",
          "text": [
            "Epochs:   0%|          | 0/2 [00:00<?, ?it/s]"
          ]
        },
        {
          "name": "stdout",
          "output_type": "stream",
          "text": [
            "2025-08-26 14:36:06,751 - Epoch 1/2 — Train RMSE: 0.4556 — Validation RMSE: 0.4028\n"
          ]
        },
        {
          "name": "stderr",
          "output_type": "stream",
          "text": [
            "Epochs:  50%|█████     | 1/2 [00:29<00:29, 29.59s/it]"
          ]
        },
        {
          "name": "stdout",
          "output_type": "stream",
          "text": [
            "2025-08-26 14:36:36,382 - Epoch 2/2 — Train RMSE: 0.4166 — Validation RMSE: 0.4023\n"
          ]
        },
        {
          "name": "stderr",
          "output_type": "stream",
          "text": [
            "Epochs: 100%|██████████| 2/2 [00:59<00:00, 29.61s/it]\n"
          ]
        },
        {
          "name": "stdout",
          "output_type": "stream",
          "text": [
            "2025-08-26 14:36:40,477 - Trial 52 with params: {'idxAfterPrediction': 4, 'timesteps': 75, 'target_option': 'last', 'LoadupSamples_time_scaling_stretch': True, 'LoadupSamples_time_inc_factor': 61, 'LSTM_units': 32, 'LSTM_num_layers': 1, 'LSTM_dropout': 0.006345378374659904, 'LSTM_recurrent_dropout': 0.0017223571449616168, 'LSTM_learning_rate': 0.00016183958812349963, 'LSTM_optimizer': 'adam', 'LSTM_bidirectional': True, 'LSTM_batch_size': 4096, 'LSTM_epochs': 2, 'LSTM_l1': 3.372348084075572e-05, 'LSTM_l2': 0.000123646780029696, 'LSTM_inter_dropout': 0.02118165031261033, 'LSTM_input_gaussian_noise': 0.001, 'LSTM_conv1d': True, 'LSTM_conv1d_kernel_size': 3, 'LSTM_loss': 'mse', 'LSTM_transformer_before': False, 'LSTM_transformer_after': False, 'LSTM_tf_d_model': 0, 'LSTM_tf_nhead': 2, 'LSTM_tf_num_layers_before': 0, 'LSTM_tf_num_layers_after': 0, 'LSTM_tf_dim_feedforward': 8, 'LSTM_tf_dropout': 0.1, 'LSTM_tf_positional_encoding': True, 'LSTM_tf_pool': 'last', 'year_start': 2020, 'is_single_feature': False}\n",
            "2025-08-26 14:36:40,477 -   q2: 0.9900\n",
            "2025-08-26 14:36:40,477 -   Duration0: 0:01:03.452506\n",
            "2025-08-26 14:36:40,477 -   Val RMSE0 adjusted: 0.0066\n",
            "2025-08-26 14:36:40,492 -   Mean all prediction: 0.9993\n",
            "2025-08-26 14:36:40,492 -   Mean above prediction: 1.0070\n",
            "2025-08-26 14:36:40,492 -   Mean below prediction: 0.9979\n",
            "2025-08-26 14:36:40,492 -   Quantile 0.99 for distance in mask above: 927.2399999999998\n",
            "2025-08-26 14:36:40,492 -   Quantile 0.99 for distance in mask below: 893.7199999999993\n",
            "2025-08-26 14:36:40,492 -   Ratio for quantile-distance-to-length above: 0.0014\n",
            "2025-08-26 14:36:40,492 -   Ratio for quantile-distance-to-length below: 0.0014\n",
            "2025-08-26 14:36:40,492 -   Score: 1.0017\n"
          ]
        },
        {
          "name": "stderr",
          "output_type": "stream",
          "text": [
            "[I 2025-08-26 14:36:40,565] Trial 52 finished with value: 1.001746925417903 and parameters: {'year_start': 2020, 'LoadupSamples_time_inc_factor': 61, 'LSTM_units': 32, 'LSTM_learning_rate': 0.00016183958812349963, 'LSTM_l1': 3.372348084075572e-05, 'LSTM_l2': 0.000123646780029696, 'LSTM_dropout': 0.006345378374659904, 'LSTM_inter_dropout': 0.02118165031261033, 'LSTM_recurrent_dropout': 0.0017223571449616168}. Best is trial 38 with value: 1.0030939915675743.\n"
          ]
        },
        {
          "name": "stdout",
          "output_type": "stream",
          "text": [
            "2025-08-26 14:36:40,565 - Trial 52 finished with value: 1.001746925417903 and parameters: {'year_start': 2020, 'LoadupSamples_time_inc_factor': 61, 'LSTM_units': 32, 'LSTM_learning_rate': 0.00016183958812349963, 'LSTM_l1': 3.372348084075572e-05, 'LSTM_l2': 0.000123646780029696, 'LSTM_dropout': 0.006345378374659904, 'LSTM_inter_dropout': 0.02118165031261033, 'LSTM_recurrent_dropout': 0.0017223571449616168}. Best is trial 38 with value: 1.0030939915675743.\n",
            "2025-08-26 14:36:48,061 - Non-finite/too-large values in train y time: 48 samples.\n",
            "2025-08-26 14:36:48,061 - Removing 48 samples from training data.\n"
          ]
        },
        {
          "name": "stderr",
          "output_type": "stream",
          "text": [
            "Epochs:   0%|          | 0/2 [00:00<?, ?it/s]"
          ]
        },
        {
          "name": "stdout",
          "output_type": "stream",
          "text": [
            "2025-08-26 14:37:20,110 - Epoch 1/2 — Train RMSE: 0.4254 — Validation RMSE: 0.4024\n"
          ]
        },
        {
          "name": "stderr",
          "output_type": "stream",
          "text": [
            "Epochs:  50%|█████     | 1/2 [00:23<00:23, 23.65s/it]"
          ]
        },
        {
          "name": "stdout",
          "output_type": "stream",
          "text": [
            "2025-08-26 14:37:43,678 - Epoch 2/2 — Train RMSE: 0.4112 — Validation RMSE: 0.4023\n"
          ]
        },
        {
          "name": "stderr",
          "output_type": "stream",
          "text": [
            "Epochs: 100%|██████████| 2/2 [00:47<00:00, 23.61s/it]\n"
          ]
        },
        {
          "name": "stdout",
          "output_type": "stream",
          "text": [
            "2025-08-26 14:37:47,771 - Trial 53 with params: {'idxAfterPrediction': 4, 'timesteps': 75, 'target_option': 'last', 'LoadupSamples_time_scaling_stretch': True, 'LoadupSamples_time_inc_factor': 61, 'LSTM_units': 32, 'LSTM_num_layers': 1, 'LSTM_dropout': 0.005296548147640817, 'LSTM_recurrent_dropout': 0.001101190159147076, 'LSTM_learning_rate': 0.0003058424450467782, 'LSTM_optimizer': 'adam', 'LSTM_bidirectional': True, 'LSTM_batch_size': 4096, 'LSTM_epochs': 2, 'LSTM_l1': 2.7407205582924393e-05, 'LSTM_l2': 0.00015017085037587197, 'LSTM_inter_dropout': 0.015989074732704292, 'LSTM_input_gaussian_noise': 0.001, 'LSTM_conv1d': True, 'LSTM_conv1d_kernel_size': 3, 'LSTM_loss': 'mse', 'LSTM_transformer_before': False, 'LSTM_transformer_after': False, 'LSTM_tf_d_model': 0, 'LSTM_tf_nhead': 2, 'LSTM_tf_num_layers_before': 0, 'LSTM_tf_num_layers_after': 0, 'LSTM_tf_dim_feedforward': 8, 'LSTM_tf_dropout': 0.1, 'LSTM_tf_positional_encoding': True, 'LSTM_tf_pool': 'last', 'year_start': 2021, 'is_single_feature': False}\n",
            "2025-08-26 14:37:47,771 -   q2: 0.9900\n",
            "2025-08-26 14:37:47,771 -   Duration0: 0:00:51.427277\n",
            "2025-08-26 14:37:47,771 -   Val RMSE0 adjusted: 0.0066\n",
            "2025-08-26 14:37:47,786 -   Mean all prediction: 0.9993\n",
            "2025-08-26 14:37:47,786 -   Mean above prediction: 1.0105\n",
            "2025-08-26 14:37:47,786 -   Mean below prediction: 0.9972\n",
            "2025-08-26 14:37:47,786 -   Quantile 0.99 for distance in mask above: 898.5999999999967\n",
            "2025-08-26 14:37:47,786 -   Quantile 0.99 for distance in mask below: 875.4799999999996\n",
            "2025-08-26 14:37:47,786 -   Ratio for quantile-distance-to-length above: 0.0014\n",
            "2025-08-26 14:37:47,786 -   Ratio for quantile-distance-to-length below: 0.0013\n",
            "2025-08-26 14:37:47,786 -   Score: 1.0026\n"
          ]
        },
        {
          "name": "stderr",
          "output_type": "stream",
          "text": [
            "[I 2025-08-26 14:37:47,863] Trial 53 finished with value: 1.0026094500305331 and parameters: {'year_start': 2021, 'LoadupSamples_time_inc_factor': 61, 'LSTM_units': 32, 'LSTM_learning_rate': 0.0003058424450467782, 'LSTM_l1': 2.7407205582924393e-05, 'LSTM_l2': 0.00015017085037587197, 'LSTM_dropout': 0.005296548147640817, 'LSTM_inter_dropout': 0.015989074732704292, 'LSTM_recurrent_dropout': 0.001101190159147076}. Best is trial 38 with value: 1.0030939915675743.\n"
          ]
        },
        {
          "name": "stdout",
          "output_type": "stream",
          "text": [
            "2025-08-26 14:37:47,863 - Trial 53 finished with value: 1.0026094500305331 and parameters: {'year_start': 2021, 'LoadupSamples_time_inc_factor': 61, 'LSTM_units': 32, 'LSTM_learning_rate': 0.0003058424450467782, 'LSTM_l1': 2.7407205582924393e-05, 'LSTM_l2': 0.00015017085037587197, 'LSTM_dropout': 0.005296548147640817, 'LSTM_inter_dropout': 0.015989074732704292, 'LSTM_recurrent_dropout': 0.001101190159147076}. Best is trial 38 with value: 1.0030939915675743.\n",
            "2025-08-26 14:37:55,387 - Non-finite/too-large values in train y time: 48 samples.\n",
            "2025-08-26 14:37:55,387 - Removing 48 samples from training data.\n"
          ]
        },
        {
          "name": "stderr",
          "output_type": "stream",
          "text": [
            "Epochs:   0%|          | 0/2 [00:00<?, ?it/s]"
          ]
        },
        {
          "name": "stdout",
          "output_type": "stream",
          "text": [
            "2025-08-26 14:38:27,560 - Epoch 1/2 — Train RMSE: 0.4428 — Validation RMSE: 0.4025\n"
          ]
        },
        {
          "name": "stderr",
          "output_type": "stream",
          "text": [
            "Epochs:  50%|█████     | 1/2 [00:23<00:23, 23.72s/it]"
          ]
        },
        {
          "name": "stdout",
          "output_type": "stream",
          "text": [
            "2025-08-26 14:38:51,175 - Epoch 2/2 — Train RMSE: 0.4108 — Validation RMSE: 0.4021\n"
          ]
        },
        {
          "name": "stderr",
          "output_type": "stream",
          "text": [
            "Epochs: 100%|██████████| 2/2 [00:47<00:00, 23.67s/it]\n"
          ]
        },
        {
          "name": "stdout",
          "output_type": "stream",
          "text": [
            "2025-08-26 14:38:55,283 - Trial 54 with params: {'idxAfterPrediction': 4, 'timesteps': 75, 'target_option': 'last', 'LoadupSamples_time_scaling_stretch': True, 'LoadupSamples_time_inc_factor': 61, 'LSTM_units': 32, 'LSTM_num_layers': 1, 'LSTM_dropout': 0.003877257094512934, 'LSTM_recurrent_dropout': 0.0012086856351149005, 'LSTM_learning_rate': 0.0001993513546358518, 'LSTM_optimizer': 'adam', 'LSTM_bidirectional': True, 'LSTM_batch_size': 4096, 'LSTM_epochs': 2, 'LSTM_l1': 4.445474924459404e-05, 'LSTM_l2': 0.00019861782997472455, 'LSTM_inter_dropout': 0.013220016718781006, 'LSTM_input_gaussian_noise': 0.001, 'LSTM_conv1d': True, 'LSTM_conv1d_kernel_size': 3, 'LSTM_loss': 'mse', 'LSTM_transformer_before': False, 'LSTM_transformer_after': False, 'LSTM_tf_d_model': 0, 'LSTM_tf_nhead': 2, 'LSTM_tf_num_layers_before': 0, 'LSTM_tf_num_layers_after': 0, 'LSTM_tf_dim_feedforward': 8, 'LSTM_tf_dropout': 0.1, 'LSTM_tf_positional_encoding': True, 'LSTM_tf_pool': 'last', 'year_start': 2021, 'is_single_feature': False}\n",
            "2025-08-26 14:38:55,283 -   q2: 0.9900\n",
            "2025-08-26 14:38:55,283 -   Duration0: 0:00:51.559589\n",
            "2025-08-26 14:38:55,283 -   Val RMSE0 adjusted: 0.0066\n",
            "2025-08-26 14:38:55,299 -   Mean all prediction: 0.9993\n",
            "2025-08-26 14:38:55,299 -   Mean above prediction: 1.0025\n",
            "2025-08-26 14:38:55,299 -   Mean below prediction: 0.9953\n",
            "2025-08-26 14:38:55,299 -   Quantile 0.99 for distance in mask above: 990.7999999999956\n",
            "2025-08-26 14:38:55,299 -   Quantile 0.99 for distance in mask below: 746.1199999999972\n",
            "2025-08-26 14:38:55,299 -   Ratio for quantile-distance-to-length above: 0.0015\n",
            "2025-08-26 14:38:55,299 -   Ratio for quantile-distance-to-length below: 0.0011\n",
            "2025-08-26 14:38:55,309 -   Score: 1.0006\n"
          ]
        },
        {
          "name": "stderr",
          "output_type": "stream",
          "text": [
            "[I 2025-08-26 14:38:55,369] Trial 54 finished with value: 1.0006317406244518 and parameters: {'year_start': 2021, 'LoadupSamples_time_inc_factor': 61, 'LSTM_units': 32, 'LSTM_learning_rate': 0.0001993513546358518, 'LSTM_l1': 4.445474924459404e-05, 'LSTM_l2': 0.00019861782997472455, 'LSTM_dropout': 0.003877257094512934, 'LSTM_inter_dropout': 0.013220016718781006, 'LSTM_recurrent_dropout': 0.0012086856351149005}. Best is trial 38 with value: 1.0030939915675743.\n"
          ]
        },
        {
          "name": "stdout",
          "output_type": "stream",
          "text": [
            "2025-08-26 14:38:55,369 - Trial 54 finished with value: 1.0006317406244518 and parameters: {'year_start': 2021, 'LoadupSamples_time_inc_factor': 61, 'LSTM_units': 32, 'LSTM_learning_rate': 0.0001993513546358518, 'LSTM_l1': 4.445474924459404e-05, 'LSTM_l2': 0.00019861782997472455, 'LSTM_dropout': 0.003877257094512934, 'LSTM_inter_dropout': 0.013220016718781006, 'LSTM_recurrent_dropout': 0.0012086856351149005}. Best is trial 38 with value: 1.0030939915675743.\n",
            "2025-08-26 14:39:04,536 - Non-finite/too-large values in train y time: 48 samples.\n",
            "2025-08-26 14:39:04,536 - Removing 48 samples from training data.\n"
          ]
        },
        {
          "name": "stderr",
          "output_type": "stream",
          "text": [
            "Epochs:   0%|          | 0/2 [00:00<?, ?it/s]"
          ]
        },
        {
          "name": "stdout",
          "output_type": "stream",
          "text": [
            "2025-08-26 14:39:44,675 - Epoch 1/2 — Train RMSE: 0.4398 — Validation RMSE: 0.4020\n"
          ]
        },
        {
          "name": "stderr",
          "output_type": "stream",
          "text": [
            "Epochs:  50%|█████     | 1/2 [00:29<00:29, 29.72s/it]"
          ]
        },
        {
          "name": "stdout",
          "output_type": "stream",
          "text": [
            "2025-08-26 14:40:14,271 - Epoch 2/2 — Train RMSE: 0.4164 — Validation RMSE: 0.4020\n"
          ]
        },
        {
          "name": "stderr",
          "output_type": "stream",
          "text": [
            "Epochs: 100%|██████████| 2/2 [00:59<00:00, 29.66s/it]\n"
          ]
        },
        {
          "name": "stdout",
          "output_type": "stream",
          "text": [
            "2025-08-26 14:40:18,302 - Trial 55 with params: {'idxAfterPrediction': 4, 'timesteps': 75, 'target_option': 'last', 'LoadupSamples_time_scaling_stretch': True, 'LoadupSamples_time_inc_factor': 61, 'LSTM_units': 32, 'LSTM_num_layers': 1, 'LSTM_dropout': 0.008545779970037073, 'LSTM_recurrent_dropout': 0.0014353070690070959, 'LSTM_learning_rate': 0.00021892910983683714, 'LSTM_optimizer': 'adam', 'LSTM_bidirectional': True, 'LSTM_batch_size': 4096, 'LSTM_epochs': 2, 'LSTM_l1': 1.3584273698736802e-05, 'LSTM_l2': 0.00011814788250855876, 'LSTM_inter_dropout': 0.022270799132196543, 'LSTM_input_gaussian_noise': 0.001, 'LSTM_conv1d': True, 'LSTM_conv1d_kernel_size': 3, 'LSTM_loss': 'mse', 'LSTM_transformer_before': False, 'LSTM_transformer_after': False, 'LSTM_tf_d_model': 0, 'LSTM_tf_nhead': 2, 'LSTM_tf_num_layers_before': 0, 'LSTM_tf_num_layers_after': 0, 'LSTM_tf_dim_feedforward': 8, 'LSTM_tf_dropout': 0.1, 'LSTM_tf_positional_encoding': True, 'LSTM_tf_pool': 'last', 'year_start': 2020, 'is_single_feature': False}\n",
            "2025-08-26 14:40:18,302 -   q2: 0.9900\n",
            "2025-08-26 14:40:18,302 -   Duration0: 0:01:03.472712\n",
            "2025-08-26 14:40:18,305 -   Val RMSE0 adjusted: 0.0066\n",
            "2025-08-26 14:40:18,305 -   Mean all prediction: 0.9993\n",
            "2025-08-26 14:40:18,305 -   Mean above prediction: 1.0124\n",
            "2025-08-26 14:40:18,305 -   Mean below prediction: 0.9974\n",
            "2025-08-26 14:40:18,313 -   Quantile 0.99 for distance in mask above: 980.4799999999996\n",
            "2025-08-26 14:40:18,313 -   Quantile 0.99 for distance in mask below: 890.7199999999993\n",
            "2025-08-26 14:40:18,313 -   Ratio for quantile-distance-to-length above: 0.0015\n",
            "2025-08-26 14:40:18,313 -   Ratio for quantile-distance-to-length below: 0.0014\n",
            "2025-08-26 14:40:18,313 -   Score: 1.0031\n"
          ]
        },
        {
          "name": "stderr",
          "output_type": "stream",
          "text": [
            "[I 2025-08-26 14:40:18,383] Trial 55 finished with value: 1.0030803546397355 and parameters: {'year_start': 2020, 'LoadupSamples_time_inc_factor': 61, 'LSTM_units': 32, 'LSTM_learning_rate': 0.00021892910983683714, 'LSTM_l1': 1.3584273698736802e-05, 'LSTM_l2': 0.00011814788250855876, 'LSTM_dropout': 0.008545779970037073, 'LSTM_inter_dropout': 0.022270799132196543, 'LSTM_recurrent_dropout': 0.0014353070690070959}. Best is trial 38 with value: 1.0030939915675743.\n"
          ]
        },
        {
          "name": "stdout",
          "output_type": "stream",
          "text": [
            "2025-08-26 14:40:18,383 - Trial 55 finished with value: 1.0030803546397355 and parameters: {'year_start': 2020, 'LoadupSamples_time_inc_factor': 61, 'LSTM_units': 32, 'LSTM_learning_rate': 0.00021892910983683714, 'LSTM_l1': 1.3584273698736802e-05, 'LSTM_l2': 0.00011814788250855876, 'LSTM_dropout': 0.008545779970037073, 'LSTM_inter_dropout': 0.022270799132196543, 'LSTM_recurrent_dropout': 0.0014353070690070959}. Best is trial 38 with value: 1.0030939915675743.\n",
            "2025-08-26 14:40:27,517 - Non-finite/too-large values in train y time: 48 samples.\n",
            "2025-08-26 14:40:27,517 - Removing 48 samples from training data.\n"
          ]
        },
        {
          "name": "stderr",
          "output_type": "stream",
          "text": [
            "Epochs:   0%|          | 0/2 [00:00<?, ?it/s]"
          ]
        },
        {
          "name": "stdout",
          "output_type": "stream",
          "text": [
            "2025-08-26 14:41:07,471 - Epoch 1/2 — Train RMSE: 0.4425 — Validation RMSE: 0.4087\n"
          ]
        },
        {
          "name": "stderr",
          "output_type": "stream",
          "text": [
            "Epochs:  50%|█████     | 1/2 [00:29<00:29, 29.65s/it]"
          ]
        },
        {
          "name": "stdout",
          "output_type": "stream",
          "text": [
            "2025-08-26 14:41:36,918 - Epoch 2/2 — Train RMSE: 0.4224 — Validation RMSE: 0.4086\n"
          ]
        },
        {
          "name": "stderr",
          "output_type": "stream",
          "text": [
            "Epochs: 100%|██████████| 2/2 [00:59<00:00, 29.56s/it]\n"
          ]
        },
        {
          "name": "stdout",
          "output_type": "stream",
          "text": [
            "2025-08-26 14:41:41,084 - Trial 56 with params: {'idxAfterPrediction': 4, 'timesteps': 75, 'target_option': 'last', 'LoadupSamples_time_scaling_stretch': True, 'LoadupSamples_time_inc_factor': 66, 'LSTM_units': 32, 'LSTM_num_layers': 1, 'LSTM_dropout': 0.009115440057332027, 'LSTM_recurrent_dropout': 0.0014472781014773972, 'LSTM_learning_rate': 0.0002801082539984947, 'LSTM_optimizer': 'adam', 'LSTM_bidirectional': True, 'LSTM_batch_size': 4096, 'LSTM_epochs': 2, 'LSTM_l1': 1.3579441768366976e-05, 'LSTM_l2': 0.0012879303202735627, 'LSTM_inter_dropout': 0.03056635980079926, 'LSTM_input_gaussian_noise': 0.001, 'LSTM_conv1d': True, 'LSTM_conv1d_kernel_size': 3, 'LSTM_loss': 'mse', 'LSTM_transformer_before': False, 'LSTM_transformer_after': False, 'LSTM_tf_d_model': 0, 'LSTM_tf_nhead': 2, 'LSTM_tf_num_layers_before': 0, 'LSTM_tf_num_layers_after': 0, 'LSTM_tf_dim_feedforward': 8, 'LSTM_tf_dropout': 0.1, 'LSTM_tf_positional_encoding': True, 'LSTM_tf_pool': 'last', 'year_start': 2020, 'is_single_feature': False}\n",
            "2025-08-26 14:41:41,084 -   q2: 0.9900\n",
            "2025-08-26 14:41:41,084 -   Duration0: 0:01:03.422312\n",
            "2025-08-26 14:41:41,084 -   Val RMSE0 adjusted: 0.0062\n",
            "2025-08-26 14:41:41,084 -   Mean all prediction: 0.9993\n",
            "2025-08-26 14:41:41,084 -   Mean above prediction: 1.0068\n",
            "2025-08-26 14:41:41,084 -   Mean below prediction: 0.9968\n",
            "2025-08-26 14:41:41,084 -   Quantile 0.99 for distance in mask above: 981.7199999999993\n",
            "2025-08-26 14:41:41,084 -   Quantile 0.99 for distance in mask below: 859.4799999999996\n",
            "2025-08-26 14:41:41,084 -   Ratio for quantile-distance-to-length above: 0.0015\n",
            "2025-08-26 14:41:41,084 -   Ratio for quantile-distance-to-length below: 0.0013\n",
            "2025-08-26 14:41:41,084 -   Score: 1.0017\n"
          ]
        },
        {
          "name": "stderr",
          "output_type": "stream",
          "text": [
            "[I 2025-08-26 14:41:41,161] Trial 56 finished with value: 1.0016953878367092 and parameters: {'year_start': 2020, 'LoadupSamples_time_inc_factor': 66, 'LSTM_units': 32, 'LSTM_learning_rate': 0.0002801082539984947, 'LSTM_l1': 1.3579441768366976e-05, 'LSTM_l2': 0.0012879303202735627, 'LSTM_dropout': 0.009115440057332027, 'LSTM_inter_dropout': 0.03056635980079926, 'LSTM_recurrent_dropout': 0.0014472781014773972}. Best is trial 38 with value: 1.0030939915675743.\n"
          ]
        },
        {
          "name": "stdout",
          "output_type": "stream",
          "text": [
            "2025-08-26 14:41:41,161 - Trial 56 finished with value: 1.0016953878367092 and parameters: {'year_start': 2020, 'LoadupSamples_time_inc_factor': 66, 'LSTM_units': 32, 'LSTM_learning_rate': 0.0002801082539984947, 'LSTM_l1': 1.3579441768366976e-05, 'LSTM_l2': 0.0012879303202735627, 'LSTM_dropout': 0.009115440057332027, 'LSTM_inter_dropout': 0.03056635980079926, 'LSTM_recurrent_dropout': 0.0014472781014773972}. Best is trial 38 with value: 1.0030939915675743.\n",
            "2025-08-26 14:41:50,244 - Non-finite/too-large values in train y time: 48 samples.\n",
            "2025-08-26 14:41:50,260 - Removing 48 samples from training data.\n"
          ]
        },
        {
          "name": "stderr",
          "output_type": "stream",
          "text": [
            "Epochs:   0%|          | 0/2 [00:00<?, ?it/s]"
          ]
        },
        {
          "name": "stdout",
          "output_type": "stream",
          "text": [
            "2025-08-26 14:42:30,201 - Epoch 1/2 — Train RMSE: 0.4284 — Validation RMSE: 0.4086\n"
          ]
        },
        {
          "name": "stderr",
          "output_type": "stream",
          "text": [
            "Epochs:  50%|█████     | 1/2 [00:29<00:29, 29.63s/it]"
          ]
        },
        {
          "name": "stdout",
          "output_type": "stream",
          "text": [
            "2025-08-26 14:42:59,799 - Epoch 2/2 — Train RMSE: 0.4217 — Validation RMSE: 0.4085\n"
          ]
        },
        {
          "name": "stderr",
          "output_type": "stream",
          "text": [
            "Epochs: 100%|██████████| 2/2 [00:59<00:00, 29.61s/it]\n"
          ]
        },
        {
          "name": "stdout",
          "output_type": "stream",
          "text": [
            "2025-08-26 14:43:03,872 - Trial 57 with params: {'idxAfterPrediction': 4, 'timesteps': 75, 'target_option': 'last', 'LoadupSamples_time_scaling_stretch': True, 'LoadupSamples_time_inc_factor': 66, 'LSTM_units': 32, 'LSTM_num_layers': 1, 'LSTM_dropout': 0.007108444816649569, 'LSTM_recurrent_dropout': 0.002038904697687131, 'LSTM_learning_rate': 0.0002248966612808503, 'LSTM_optimizer': 'adam', 'LSTM_bidirectional': True, 'LSTM_batch_size': 4096, 'LSTM_epochs': 2, 'LSTM_l1': 1.626502772051222e-05, 'LSTM_l2': 0.0002681920177635433, 'LSTM_inter_dropout': 0.02501575695856904, 'LSTM_input_gaussian_noise': 0.001, 'LSTM_conv1d': True, 'LSTM_conv1d_kernel_size': 3, 'LSTM_loss': 'mse', 'LSTM_transformer_before': False, 'LSTM_transformer_after': False, 'LSTM_tf_d_model': 0, 'LSTM_tf_nhead': 2, 'LSTM_tf_num_layers_before': 0, 'LSTM_tf_num_layers_after': 0, 'LSTM_tf_dim_feedforward': 8, 'LSTM_tf_dropout': 0.1, 'LSTM_tf_positional_encoding': True, 'LSTM_tf_pool': 'last', 'year_start': 2020, 'is_single_feature': False}\n",
            "2025-08-26 14:43:03,872 -   q2: 0.9900\n",
            "2025-08-26 14:43:03,872 -   Duration0: 0:01:03.470381\n",
            "2025-08-26 14:43:03,872 -   Val RMSE0 adjusted: 0.0062\n",
            "2025-08-26 14:43:03,888 -   Mean all prediction: 0.9993\n",
            "2025-08-26 14:43:03,888 -   Mean above prediction: 1.0046\n",
            "2025-08-26 14:43:03,888 -   Mean below prediction: 0.9965\n",
            "2025-08-26 14:43:03,888 -   Quantile 0.99 for distance in mask above: 911.1999999999989\n",
            "2025-08-26 14:43:03,888 -   Quantile 0.99 for distance in mask below: 810.4799999999996\n",
            "2025-08-26 14:43:03,888 -   Ratio for quantile-distance-to-length above: 0.0014\n",
            "2025-08-26 14:43:03,888 -   Ratio for quantile-distance-to-length below: 0.0012\n",
            "2025-08-26 14:43:03,898 -   Score: 1.0011\n"
          ]
        },
        {
          "name": "stderr",
          "output_type": "stream",
          "text": [
            "[I 2025-08-26 14:43:03,968] Trial 57 finished with value: 1.0011364791229442 and parameters: {'year_start': 2020, 'LoadupSamples_time_inc_factor': 66, 'LSTM_units': 32, 'LSTM_learning_rate': 0.0002248966612808503, 'LSTM_l1': 1.626502772051222e-05, 'LSTM_l2': 0.0002681920177635433, 'LSTM_dropout': 0.007108444816649569, 'LSTM_inter_dropout': 0.02501575695856904, 'LSTM_recurrent_dropout': 0.002038904697687131}. Best is trial 38 with value: 1.0030939915675743.\n"
          ]
        },
        {
          "name": "stdout",
          "output_type": "stream",
          "text": [
            "2025-08-26 14:43:03,968 - Trial 57 finished with value: 1.0011364791229442 and parameters: {'year_start': 2020, 'LoadupSamples_time_inc_factor': 66, 'LSTM_units': 32, 'LSTM_learning_rate': 0.0002248966612808503, 'LSTM_l1': 1.626502772051222e-05, 'LSTM_l2': 0.0002681920177635433, 'LSTM_dropout': 0.007108444816649569, 'LSTM_inter_dropout': 0.02501575695856904, 'LSTM_recurrent_dropout': 0.002038904697687131}. Best is trial 38 with value: 1.0030939915675743.\n",
            "2025-08-26 14:43:13,144 - Non-finite/too-large values in train y time: 48 samples.\n",
            "2025-08-26 14:43:13,144 - Removing 48 samples from training data.\n"
          ]
        },
        {
          "name": "stderr",
          "output_type": "stream",
          "text": [
            "Epochs:   0%|          | 0/2 [00:00<?, ?it/s]"
          ]
        },
        {
          "name": "stdout",
          "output_type": "stream",
          "text": [
            "2025-08-26 14:43:49,826 - Epoch 1/2 — Train RMSE: 0.4647 — Validation RMSE: 0.4141\n"
          ]
        },
        {
          "name": "stderr",
          "output_type": "stream",
          "text": [
            "Epochs:  50%|█████     | 1/2 [00:26<00:26, 26.19s/it]"
          ]
        },
        {
          "name": "stdout",
          "output_type": "stream",
          "text": [
            "2025-08-26 14:44:16,281 - Epoch 2/2 — Train RMSE: 0.4281 — Validation RMSE: 0.4141\n"
          ]
        },
        {
          "name": "stderr",
          "output_type": "stream",
          "text": [
            "Epochs: 100%|██████████| 2/2 [00:52<00:00, 26.32s/it]\n"
          ]
        },
        {
          "name": "stdout",
          "output_type": "stream",
          "text": [
            "2025-08-26 14:44:20,358 - Trial 58 with params: {'idxAfterPrediction': 4, 'timesteps': 75, 'target_option': 'last', 'LoadupSamples_time_scaling_stretch': True, 'LoadupSamples_time_inc_factor': 71, 'LSTM_units': 16, 'LSTM_num_layers': 1, 'LSTM_dropout': 0.008393684451382328, 'LSTM_recurrent_dropout': 0.0018302517706038504, 'LSTM_learning_rate': 0.00018770434602218526, 'LSTM_optimizer': 'adam', 'LSTM_bidirectional': True, 'LSTM_batch_size': 4096, 'LSTM_epochs': 2, 'LSTM_l1': 1.133635426555794e-05, 'LSTM_l2': 0.00016341907913073643, 'LSTM_inter_dropout': 0.04877830845411492, 'LSTM_input_gaussian_noise': 0.001, 'LSTM_conv1d': True, 'LSTM_conv1d_kernel_size': 3, 'LSTM_loss': 'mse', 'LSTM_transformer_before': False, 'LSTM_transformer_after': False, 'LSTM_tf_d_model': 0, 'LSTM_tf_nhead': 2, 'LSTM_tf_num_layers_before': 0, 'LSTM_tf_num_layers_after': 0, 'LSTM_tf_dim_feedforward': 8, 'LSTM_tf_dropout': 0.1, 'LSTM_tf_positional_encoding': True, 'LSTM_tf_pool': 'last', 'year_start': 2020, 'is_single_feature': False}\n",
            "2025-08-26 14:44:20,358 -   q2: 0.9900\n",
            "2025-08-26 14:44:20,358 -   Duration0: 0:00:56.859373\n",
            "2025-08-26 14:44:20,358 -   Val RMSE0 adjusted: 0.0058\n",
            "2025-08-26 14:44:20,374 -   Mean all prediction: 0.9993\n",
            "2025-08-26 14:44:20,374 -   Mean above prediction: 1.0073\n",
            "2025-08-26 14:44:20,374 -   Mean below prediction: 0.9967\n",
            "2025-08-26 14:44:20,374 -   Quantile 0.99 for distance in mask above: 900.9599999999991\n",
            "2025-08-26 14:44:20,374 -   Quantile 0.99 for distance in mask below: 856.6799999999985\n",
            "2025-08-26 14:44:20,374 -   Ratio for quantile-distance-to-length above: 0.0014\n",
            "2025-08-26 14:44:20,374 -   Ratio for quantile-distance-to-length below: 0.0013\n",
            "2025-08-26 14:44:20,374 -   Score: 1.0018\n"
          ]
        },
        {
          "name": "stderr",
          "output_type": "stream",
          "text": [
            "[I 2025-08-26 14:44:20,450] Trial 58 finished with value: 1.0018309488468213 and parameters: {'year_start': 2020, 'LoadupSamples_time_inc_factor': 71, 'LSTM_units': 16, 'LSTM_learning_rate': 0.00018770434602218526, 'LSTM_l1': 1.133635426555794e-05, 'LSTM_l2': 0.00016341907913073643, 'LSTM_dropout': 0.008393684451382328, 'LSTM_inter_dropout': 0.04877830845411492, 'LSTM_recurrent_dropout': 0.0018302517706038504}. Best is trial 38 with value: 1.0030939915675743.\n"
          ]
        },
        {
          "name": "stdout",
          "output_type": "stream",
          "text": [
            "2025-08-26 14:44:20,450 - Trial 58 finished with value: 1.0018309488468213 and parameters: {'year_start': 2020, 'LoadupSamples_time_inc_factor': 71, 'LSTM_units': 16, 'LSTM_learning_rate': 0.00018770434602218526, 'LSTM_l1': 1.133635426555794e-05, 'LSTM_l2': 0.00016341907913073643, 'LSTM_dropout': 0.008393684451382328, 'LSTM_inter_dropout': 0.04877830845411492, 'LSTM_recurrent_dropout': 0.0018302517706038504}. Best is trial 38 with value: 1.0030939915675743.\n",
            "2025-08-26 14:44:29,562 - Non-finite/too-large values in train y time: 48 samples.\n",
            "2025-08-26 14:44:29,562 - Removing 48 samples from training data.\n"
          ]
        },
        {
          "name": "stderr",
          "output_type": "stream",
          "text": [
            "Epochs:   0%|          | 0/2 [00:00<?, ?it/s]"
          ]
        },
        {
          "name": "stdout",
          "output_type": "stream",
          "text": [
            "2025-08-26 14:45:09,497 - Epoch 1/2 — Train RMSE: 0.4299 — Validation RMSE: 0.4024\n"
          ]
        },
        {
          "name": "stderr",
          "output_type": "stream",
          "text": [
            "Epochs:  50%|█████     | 1/2 [00:29<00:29, 29.63s/it]"
          ]
        },
        {
          "name": "stdout",
          "output_type": "stream",
          "text": [
            "2025-08-26 14:45:38,995 - Epoch 2/2 — Train RMSE: 0.4173 — Validation RMSE: 0.4022\n"
          ]
        },
        {
          "name": "stderr",
          "output_type": "stream",
          "text": [
            "Epochs: 100%|██████████| 2/2 [00:59<00:00, 29.57s/it]\n"
          ]
        },
        {
          "name": "stdout",
          "output_type": "stream",
          "text": [
            "2025-08-26 14:45:43,054 - Trial 59 with params: {'idxAfterPrediction': 4, 'timesteps': 75, 'target_option': 'last', 'LoadupSamples_time_scaling_stretch': True, 'LoadupSamples_time_inc_factor': 61, 'LSTM_units': 32, 'LSTM_num_layers': 1, 'LSTM_dropout': 0.00757477422999879, 'LSTM_recurrent_dropout': 0.0024818164150111435, 'LSTM_learning_rate': 0.0003742305789857525, 'LSTM_optimizer': 'adam', 'LSTM_bidirectional': True, 'LSTM_batch_size': 4096, 'LSTM_epochs': 2, 'LSTM_l1': 1.1156838784931606e-05, 'LSTM_l2': 0.009970867448252024, 'LSTM_inter_dropout': 0.021824567820436316, 'LSTM_input_gaussian_noise': 0.001, 'LSTM_conv1d': True, 'LSTM_conv1d_kernel_size': 3, 'LSTM_loss': 'mse', 'LSTM_transformer_before': False, 'LSTM_transformer_after': False, 'LSTM_tf_d_model': 0, 'LSTM_tf_nhead': 2, 'LSTM_tf_num_layers_before': 0, 'LSTM_tf_num_layers_after': 0, 'LSTM_tf_dim_feedforward': 8, 'LSTM_tf_dropout': 0.1, 'LSTM_tf_positional_encoding': True, 'LSTM_tf_pool': 'last', 'year_start': 2020, 'is_single_feature': False}\n",
            "2025-08-26 14:45:43,054 -   q2: 0.9900\n",
            "2025-08-26 14:45:43,054 -   Duration0: 0:01:03.356490\n",
            "2025-08-26 14:45:43,054 -   Val RMSE0 adjusted: 0.0066\n",
            "2025-08-26 14:45:43,054 -   Mean all prediction: 0.9993\n",
            "2025-08-26 14:45:43,054 -   Mean above prediction: 1.0023\n",
            "2025-08-26 14:45:43,054 -   Mean below prediction: 0.9954\n",
            "2025-08-26 14:45:43,054 -   Quantile 0.99 for distance in mask above: 988.6399999999976\n",
            "2025-08-26 14:45:43,054 -   Quantile 0.99 for distance in mask below: 847.159999999998\n",
            "2025-08-26 14:45:43,070 -   Ratio for quantile-distance-to-length above: 0.0015\n",
            "2025-08-26 14:45:43,072 -   Ratio for quantile-distance-to-length below: 0.0013\n",
            "2025-08-26 14:45:43,072 -   Score: 1.0006\n"
          ]
        },
        {
          "name": "stderr",
          "output_type": "stream",
          "text": [
            "[I 2025-08-26 14:45:43,146] Trial 59 finished with value: 1.0005852617021416 and parameters: {'year_start': 2020, 'LoadupSamples_time_inc_factor': 61, 'LSTM_units': 32, 'LSTM_learning_rate': 0.0003742305789857525, 'LSTM_l1': 1.1156838784931606e-05, 'LSTM_l2': 0.009970867448252024, 'LSTM_dropout': 0.00757477422999879, 'LSTM_inter_dropout': 0.021824567820436316, 'LSTM_recurrent_dropout': 0.0024818164150111435}. Best is trial 38 with value: 1.0030939915675743.\n"
          ]
        },
        {
          "name": "stdout",
          "output_type": "stream",
          "text": [
            "2025-08-26 14:45:43,146 - Trial 59 finished with value: 1.0005852617021416 and parameters: {'year_start': 2020, 'LoadupSamples_time_inc_factor': 61, 'LSTM_units': 32, 'LSTM_learning_rate': 0.0003742305789857525, 'LSTM_l1': 1.1156838784931606e-05, 'LSTM_l2': 0.009970867448252024, 'LSTM_dropout': 0.00757477422999879, 'LSTM_inter_dropout': 0.021824567820436316, 'LSTM_recurrent_dropout': 0.0024818164150111435}. Best is trial 38 with value: 1.0030939915675743.\n",
            "2025-08-26 14:45:52,258 - Non-finite/too-large values in train y time: 48 samples.\n",
            "2025-08-26 14:45:52,276 - Removing 48 samples from training data.\n"
          ]
        },
        {
          "name": "stderr",
          "output_type": "stream",
          "text": [
            "Epochs:   0%|          | 0/2 [00:00<?, ?it/s]"
          ]
        },
        {
          "name": "stdout",
          "output_type": "stream",
          "text": [
            "2025-08-26 14:46:32,363 - Epoch 1/2 — Train RMSE: 0.4514 — Validation RMSE: 0.4027\n"
          ]
        },
        {
          "name": "stderr",
          "output_type": "stream",
          "text": [
            "Epochs:  50%|█████     | 1/2 [00:29<00:29, 29.62s/it]"
          ]
        },
        {
          "name": "stdout",
          "output_type": "stream",
          "text": [
            "2025-08-26 14:47:01,941 - Epoch 2/2 — Train RMSE: 0.4166 — Validation RMSE: 0.4023\n"
          ]
        },
        {
          "name": "stderr",
          "output_type": "stream",
          "text": [
            "Epochs: 100%|██████████| 2/2 [00:59<00:00, 29.60s/it]\n"
          ]
        },
        {
          "name": "stdout",
          "output_type": "stream",
          "text": [
            "2025-08-26 14:47:06,019 - Trial 60 with params: {'idxAfterPrediction': 4, 'timesteps': 75, 'target_option': 'last', 'LoadupSamples_time_scaling_stretch': True, 'LoadupSamples_time_inc_factor': 61, 'LSTM_units': 32, 'LSTM_num_layers': 1, 'LSTM_dropout': 0.009422112011609031, 'LSTM_recurrent_dropout': 0.0015866054943382924, 'LSTM_learning_rate': 0.00017196693011708303, 'LSTM_optimizer': 'adam', 'LSTM_bidirectional': True, 'LSTM_batch_size': 4096, 'LSTM_epochs': 2, 'LSTM_l1': 1.2898145231021971e-05, 'LSTM_l2': 0.00036977792291288984, 'LSTM_inter_dropout': 0.011469677098322653, 'LSTM_input_gaussian_noise': 0.001, 'LSTM_conv1d': True, 'LSTM_conv1d_kernel_size': 3, 'LSTM_loss': 'mse', 'LSTM_transformer_before': False, 'LSTM_transformer_after': False, 'LSTM_tf_d_model': 0, 'LSTM_tf_nhead': 2, 'LSTM_tf_num_layers_before': 0, 'LSTM_tf_num_layers_after': 0, 'LSTM_tf_dim_feedforward': 8, 'LSTM_tf_dropout': 0.1, 'LSTM_tf_positional_encoding': True, 'LSTM_tf_pool': 'last', 'year_start': 2020, 'is_single_feature': False}\n",
            "2025-08-26 14:47:06,019 -   q2: 0.9900\n",
            "2025-08-26 14:47:06,020 -   Duration0: 0:01:03.404521\n",
            "2025-08-26 14:47:06,020 -   Val RMSE0 adjusted: 0.0066\n",
            "2025-08-26 14:47:06,021 -   Mean all prediction: 0.9993\n",
            "2025-08-26 14:47:06,021 -   Mean above prediction: 1.0028\n",
            "2025-08-26 14:47:06,021 -   Mean below prediction: 0.9949\n",
            "2025-08-26 14:47:06,021 -   Quantile 0.99 for distance in mask above: 1028.0\n",
            "2025-08-26 14:47:06,021 -   Quantile 0.99 for distance in mask below: 798.7199999999993\n",
            "2025-08-26 14:47:06,021 -   Ratio for quantile-distance-to-length above: 0.0016\n",
            "2025-08-26 14:47:06,032 -   Ratio for quantile-distance-to-length below: 0.0012\n",
            "2025-08-26 14:47:06,032 -   Score: 1.0007\n"
          ]
        },
        {
          "name": "stderr",
          "output_type": "stream",
          "text": [
            "[I 2025-08-26 14:47:06,103] Trial 60 finished with value: 1.0006887190977505 and parameters: {'year_start': 2020, 'LoadupSamples_time_inc_factor': 61, 'LSTM_units': 32, 'LSTM_learning_rate': 0.00017196693011708303, 'LSTM_l1': 1.2898145231021971e-05, 'LSTM_l2': 0.00036977792291288984, 'LSTM_dropout': 0.009422112011609031, 'LSTM_inter_dropout': 0.011469677098322653, 'LSTM_recurrent_dropout': 0.0015866054943382924}. Best is trial 38 with value: 1.0030939915675743.\n"
          ]
        },
        {
          "name": "stdout",
          "output_type": "stream",
          "text": [
            "2025-08-26 14:47:06,103 - Trial 60 finished with value: 1.0006887190977505 and parameters: {'year_start': 2020, 'LoadupSamples_time_inc_factor': 61, 'LSTM_units': 32, 'LSTM_learning_rate': 0.00017196693011708303, 'LSTM_l1': 1.2898145231021971e-05, 'LSTM_l2': 0.00036977792291288984, 'LSTM_dropout': 0.009422112011609031, 'LSTM_inter_dropout': 0.011469677098322653, 'LSTM_recurrent_dropout': 0.0015866054943382924}. Best is trial 38 with value: 1.0030939915675743.\n",
            "2025-08-26 14:47:13,652 - Non-finite/too-large values in train y time: 48 samples.\n",
            "2025-08-26 14:47:13,668 - Removing 48 samples from training data.\n"
          ]
        },
        {
          "name": "stderr",
          "output_type": "stream",
          "text": [
            "Epochs:   0%|          | 0/2 [00:00<?, ?it/s]"
          ]
        },
        {
          "name": "stdout",
          "output_type": "stream",
          "text": [
            "2025-08-26 14:47:45,904 - Epoch 1/2 — Train RMSE: 0.4407 — Validation RMSE: 0.4025\n"
          ]
        },
        {
          "name": "stderr",
          "output_type": "stream",
          "text": [
            "Epochs:  50%|█████     | 1/2 [00:23<00:23, 23.72s/it]"
          ]
        },
        {
          "name": "stdout",
          "output_type": "stream",
          "text": [
            "2025-08-26 14:48:09,572 - Epoch 2/2 — Train RMSE: 0.4112 — Validation RMSE: 0.4022\n"
          ]
        },
        {
          "name": "stderr",
          "output_type": "stream",
          "text": [
            "Epochs: 100%|██████████| 2/2 [00:47<00:00, 23.69s/it]\n"
          ]
        },
        {
          "name": "stdout",
          "output_type": "stream",
          "text": [
            "2025-08-26 14:48:13,347 - Trial 61 with params: {'idxAfterPrediction': 4, 'timesteps': 75, 'target_option': 'last', 'LoadupSamples_time_scaling_stretch': True, 'LoadupSamples_time_inc_factor': 61, 'LSTM_units': 32, 'LSTM_num_layers': 1, 'LSTM_dropout': 0.006455032191369872, 'LSTM_recurrent_dropout': 0.0012655439437687017, 'LSTM_learning_rate': 0.00021737476772641128, 'LSTM_optimizer': 'adam', 'LSTM_bidirectional': True, 'LSTM_batch_size': 4096, 'LSTM_epochs': 2, 'LSTM_l1': 2.139886782438738e-05, 'LSTM_l2': 0.00011403842612629951, 'LSTM_inter_dropout': 0.025156051586382424, 'LSTM_input_gaussian_noise': 0.001, 'LSTM_conv1d': True, 'LSTM_conv1d_kernel_size': 3, 'LSTM_loss': 'mse', 'LSTM_transformer_before': False, 'LSTM_transformer_after': False, 'LSTM_tf_d_model': 0, 'LSTM_tf_nhead': 2, 'LSTM_tf_num_layers_before': 0, 'LSTM_tf_num_layers_after': 0, 'LSTM_tf_dim_feedforward': 8, 'LSTM_tf_dropout': 0.1, 'LSTM_tf_positional_encoding': True, 'LSTM_tf_pool': 'last', 'year_start': 2021, 'is_single_feature': False}\n",
            "2025-08-26 14:48:13,347 -   q2: 0.9900\n",
            "2025-08-26 14:48:13,347 -   Duration0: 0:00:51.280689\n",
            "2025-08-26 14:48:13,347 -   Val RMSE0 adjusted: 0.0066\n",
            "2025-08-26 14:48:13,364 -   Mean all prediction: 0.9993\n",
            "2025-08-26 14:48:13,364 -   Mean above prediction: 1.0050\n",
            "2025-08-26 14:48:13,364 -   Mean below prediction: 0.9961\n",
            "2025-08-26 14:48:13,364 -   Quantile 0.99 for distance in mask above: 1014.9199999999983\n",
            "2025-08-26 14:48:13,364 -   Quantile 0.99 for distance in mask below: 798.7199999999993\n",
            "2025-08-26 14:48:13,364 -   Ratio for quantile-distance-to-length above: 0.0015\n",
            "2025-08-26 14:48:13,364 -   Ratio for quantile-distance-to-length below: 0.0012\n",
            "2025-08-26 14:48:13,364 -   Score: 1.0013\n"
          ]
        },
        {
          "name": "stderr",
          "output_type": "stream",
          "text": [
            "[I 2025-08-26 14:48:13,424] Trial 61 finished with value: 1.0012545201432357 and parameters: {'year_start': 2021, 'LoadupSamples_time_inc_factor': 61, 'LSTM_units': 32, 'LSTM_learning_rate': 0.00021737476772641128, 'LSTM_l1': 2.139886782438738e-05, 'LSTM_l2': 0.00011403842612629951, 'LSTM_dropout': 0.006455032191369872, 'LSTM_inter_dropout': 0.025156051586382424, 'LSTM_recurrent_dropout': 0.0012655439437687017}. Best is trial 38 with value: 1.0030939915675743.\n"
          ]
        },
        {
          "name": "stdout",
          "output_type": "stream",
          "text": [
            "2025-08-26 14:48:13,424 - Trial 61 finished with value: 1.0012545201432357 and parameters: {'year_start': 2021, 'LoadupSamples_time_inc_factor': 61, 'LSTM_units': 32, 'LSTM_learning_rate': 0.00021737476772641128, 'LSTM_l1': 2.139886782438738e-05, 'LSTM_l2': 0.00011403842612629951, 'LSTM_dropout': 0.006455032191369872, 'LSTM_inter_dropout': 0.025156051586382424, 'LSTM_recurrent_dropout': 0.0012655439437687017}. Best is trial 38 with value: 1.0030939915675743.\n",
            "2025-08-26 14:48:20,980 - Non-finite/too-large values in train y time: 48 samples.\n",
            "2025-08-26 14:48:20,980 - Removing 48 samples from training data.\n"
          ]
        },
        {
          "name": "stderr",
          "output_type": "stream",
          "text": [
            "Epochs:   0%|          | 0/2 [00:00<?, ?it/s]"
          ]
        },
        {
          "name": "stdout",
          "output_type": "stream",
          "text": [
            "2025-08-26 14:48:53,300 - Epoch 1/2 — Train RMSE: 0.4357 — Validation RMSE: 0.4025\n"
          ]
        },
        {
          "name": "stderr",
          "output_type": "stream",
          "text": [
            "Epochs:  50%|█████     | 1/2 [00:23<00:23, 23.78s/it]"
          ]
        },
        {
          "name": "stdout",
          "output_type": "stream",
          "text": [
            "2025-08-26 14:49:16,601 - Epoch 2/2 — Train RMSE: 0.4110 — Validation RMSE: 0.4022\n"
          ]
        },
        {
          "name": "stderr",
          "output_type": "stream",
          "text": [
            "Epochs: 100%|██████████| 2/2 [00:47<00:00, 23.54s/it]\n"
          ]
        },
        {
          "name": "stdout",
          "output_type": "stream",
          "text": [
            "2025-08-26 14:49:20,643 - Trial 62 with params: {'idxAfterPrediction': 4, 'timesteps': 75, 'target_option': 'last', 'LoadupSamples_time_scaling_stretch': True, 'LoadupSamples_time_inc_factor': 61, 'LSTM_units': 32, 'LSTM_num_layers': 1, 'LSTM_dropout': 0.005547462381316945, 'LSTM_recurrent_dropout': 0.0010594076184664352, 'LSTM_learning_rate': 0.0002038839179004698, 'LSTM_optimizer': 'adam', 'LSTM_bidirectional': True, 'LSTM_batch_size': 4096, 'LSTM_epochs': 2, 'LSTM_l1': 1.4404842794209494e-05, 'LSTM_l2': 0.00011961156495999784, 'LSTM_inter_dropout': 0.018599949666346465, 'LSTM_input_gaussian_noise': 0.001, 'LSTM_conv1d': True, 'LSTM_conv1d_kernel_size': 3, 'LSTM_loss': 'mse', 'LSTM_transformer_before': False, 'LSTM_transformer_after': False, 'LSTM_tf_d_model': 0, 'LSTM_tf_nhead': 2, 'LSTM_tf_num_layers_before': 0, 'LSTM_tf_num_layers_after': 0, 'LSTM_tf_dim_feedforward': 8, 'LSTM_tf_dropout': 0.1, 'LSTM_tf_positional_encoding': True, 'LSTM_tf_pool': 'last', 'year_start': 2021, 'is_single_feature': False}\n",
            "2025-08-26 14:49:20,643 -   q2: 0.9900\n",
            "2025-08-26 14:49:20,643 -   Duration0: 0:00:51.245011\n",
            "2025-08-26 14:49:20,643 -   Val RMSE0 adjusted: 0.0066\n",
            "2025-08-26 14:49:20,660 -   Mean all prediction: 0.9993\n",
            "2025-08-26 14:49:20,660 -   Mean above prediction: 1.0112\n",
            "2025-08-26 14:49:20,660 -   Mean below prediction: 0.9977\n",
            "2025-08-26 14:49:20,660 -   Quantile 0.99 for distance in mask above: 942.2399999999998\n",
            "2025-08-26 14:49:20,660 -   Quantile 0.99 for distance in mask below: 893.9599999999991\n",
            "2025-08-26 14:49:20,660 -   Ratio for quantile-distance-to-length above: 0.0014\n",
            "2025-08-26 14:49:20,660 -   Ratio for quantile-distance-to-length below: 0.0014\n",
            "2025-08-26 14:49:20,660 -   Score: 1.0028\n"
          ]
        },
        {
          "name": "stderr",
          "output_type": "stream",
          "text": [
            "[I 2025-08-26 14:49:20,721] Trial 62 finished with value: 1.0027954023098822 and parameters: {'year_start': 2021, 'LoadupSamples_time_inc_factor': 61, 'LSTM_units': 32, 'LSTM_learning_rate': 0.0002038839179004698, 'LSTM_l1': 1.4404842794209494e-05, 'LSTM_l2': 0.00011961156495999784, 'LSTM_dropout': 0.005547462381316945, 'LSTM_inter_dropout': 0.018599949666346465, 'LSTM_recurrent_dropout': 0.0010594076184664352}. Best is trial 38 with value: 1.0030939915675743.\n"
          ]
        },
        {
          "name": "stdout",
          "output_type": "stream",
          "text": [
            "2025-08-26 14:49:20,721 - Trial 62 finished with value: 1.0027954023098822 and parameters: {'year_start': 2021, 'LoadupSamples_time_inc_factor': 61, 'LSTM_units': 32, 'LSTM_learning_rate': 0.0002038839179004698, 'LSTM_l1': 1.4404842794209494e-05, 'LSTM_l2': 0.00011961156495999784, 'LSTM_dropout': 0.005547462381316945, 'LSTM_inter_dropout': 0.018599949666346465, 'LSTM_recurrent_dropout': 0.0010594076184664352}. Best is trial 38 with value: 1.0030939915675743.\n",
            "2025-08-26 14:49:29,846 - Non-finite/too-large values in train y time: 48 samples.\n",
            "2025-08-26 14:49:29,846 - Removing 48 samples from training data.\n"
          ]
        },
        {
          "name": "stderr",
          "output_type": "stream",
          "text": [
            "Epochs:   0%|          | 0/2 [00:00<?, ?it/s]"
          ]
        },
        {
          "name": "stdout",
          "output_type": "stream",
          "text": [
            "2025-08-26 14:50:09,766 - Epoch 1/2 — Train RMSE: 0.4517 — Validation RMSE: 0.4023\n"
          ]
        },
        {
          "name": "stderr",
          "output_type": "stream",
          "text": [
            "Epochs:  50%|█████     | 1/2 [00:29<00:29, 29.49s/it]"
          ]
        },
        {
          "name": "stdout",
          "output_type": "stream",
          "text": [
            "2025-08-26 14:50:39,066 - Epoch 2/2 — Train RMSE: 0.4170 — Validation RMSE: 0.4022\n"
          ]
        },
        {
          "name": "stderr",
          "output_type": "stream",
          "text": [
            "Epochs: 100%|██████████| 2/2 [00:58<00:00, 29.40s/it]\n"
          ]
        },
        {
          "name": "stdout",
          "output_type": "stream",
          "text": [
            "2025-08-26 14:50:43,122 - Trial 63 with params: {'idxAfterPrediction': 4, 'timesteps': 75, 'target_option': 'last', 'LoadupSamples_time_scaling_stretch': True, 'LoadupSamples_time_inc_factor': 61, 'LSTM_units': 32, 'LSTM_num_layers': 1, 'LSTM_dropout': 0.004707281442905298, 'LSTM_recurrent_dropout': 0.001393248588126035, 'LSTM_learning_rate': 0.00023963052382062558, 'LSTM_optimizer': 'adam', 'LSTM_bidirectional': True, 'LSTM_batch_size': 4096, 'LSTM_epochs': 2, 'LSTM_l1': 3.0554066699982965e-05, 'LSTM_l2': 0.00014013477270847222, 'LSTM_inter_dropout': 0.02270004348720616, 'LSTM_input_gaussian_noise': 0.001, 'LSTM_conv1d': True, 'LSTM_conv1d_kernel_size': 3, 'LSTM_loss': 'mse', 'LSTM_transformer_before': False, 'LSTM_transformer_after': False, 'LSTM_tf_d_model': 0, 'LSTM_tf_nhead': 2, 'LSTM_tf_num_layers_before': 0, 'LSTM_tf_num_layers_after': 0, 'LSTM_tf_dim_feedforward': 8, 'LSTM_tf_dropout': 0.1, 'LSTM_tf_positional_encoding': True, 'LSTM_tf_pool': 'last', 'year_start': 2020, 'is_single_feature': False}\n",
            "2025-08-26 14:50:43,122 -   q2: 0.9900\n",
            "2025-08-26 14:50:43,122 -   Duration0: 0:01:03.003881\n",
            "2025-08-26 14:50:43,122 -   Val RMSE0 adjusted: 0.0066\n",
            "2025-08-26 14:50:43,142 -   Mean all prediction: 0.9993\n",
            "2025-08-26 14:50:43,142 -   Mean above prediction: 1.0074\n",
            "2025-08-26 14:50:43,142 -   Mean below prediction: 0.9980\n",
            "2025-08-26 14:50:43,142 -   Quantile 0.99 for distance in mask above: 931.2399999999998\n",
            "2025-08-26 14:50:43,142 -   Quantile 0.99 for distance in mask below: 900.8799999999974\n",
            "2025-08-26 14:50:43,147 -   Ratio for quantile-distance-to-length above: 0.0014\n",
            "2025-08-26 14:50:43,147 -   Ratio for quantile-distance-to-length below: 0.0014\n",
            "2025-08-26 14:50:43,147 -   Score: 1.0018\n"
          ]
        },
        {
          "name": "stderr",
          "output_type": "stream",
          "text": [
            "[I 2025-08-26 14:50:43,205] Trial 63 finished with value: 1.001833840987357 and parameters: {'year_start': 2020, 'LoadupSamples_time_inc_factor': 61, 'LSTM_units': 32, 'LSTM_learning_rate': 0.00023963052382062558, 'LSTM_l1': 3.0554066699982965e-05, 'LSTM_l2': 0.00014013477270847222, 'LSTM_dropout': 0.004707281442905298, 'LSTM_inter_dropout': 0.02270004348720616, 'LSTM_recurrent_dropout': 0.001393248588126035}. Best is trial 38 with value: 1.0030939915675743.\n"
          ]
        },
        {
          "name": "stdout",
          "output_type": "stream",
          "text": [
            "2025-08-26 14:50:43,205 - Trial 63 finished with value: 1.001833840987357 and parameters: {'year_start': 2020, 'LoadupSamples_time_inc_factor': 61, 'LSTM_units': 32, 'LSTM_learning_rate': 0.00023963052382062558, 'LSTM_l1': 3.0554066699982965e-05, 'LSTM_l2': 0.00014013477270847222, 'LSTM_dropout': 0.004707281442905298, 'LSTM_inter_dropout': 0.02270004348720616, 'LSTM_recurrent_dropout': 0.001393248588126035}. Best is trial 38 with value: 1.0030939915675743.\n",
            "2025-08-26 14:50:50,741 - Non-finite/too-large values in train y time: 48 samples.\n",
            "2025-08-26 14:50:50,759 - Removing 48 samples from training data.\n"
          ]
        },
        {
          "name": "stderr",
          "output_type": "stream",
          "text": [
            "Epochs:   0%|          | 0/2 [00:00<?, ?it/s]"
          ]
        },
        {
          "name": "stdout",
          "output_type": "stream",
          "text": [
            "2025-08-26 14:51:22,758 - Epoch 1/2 — Train RMSE: 0.4202 — Validation RMSE: 0.4023\n"
          ]
        },
        {
          "name": "stderr",
          "output_type": "stream",
          "text": [
            "Epochs:  50%|█████     | 1/2 [00:23<00:23, 23.48s/it]"
          ]
        },
        {
          "name": "stdout",
          "output_type": "stream",
          "text": [
            "2025-08-26 14:51:46,124 - Epoch 2/2 — Train RMSE: 0.4112 — Validation RMSE: 0.4022\n"
          ]
        },
        {
          "name": "stderr",
          "output_type": "stream",
          "text": [
            "Epochs: 100%|██████████| 2/2 [00:46<00:00, 23.43s/it]\n"
          ]
        },
        {
          "name": "stdout",
          "output_type": "stream",
          "text": [
            "2025-08-26 14:51:50,137 - Trial 64 with params: {'idxAfterPrediction': 4, 'timesteps': 75, 'target_option': 'last', 'LoadupSamples_time_scaling_stretch': True, 'LoadupSamples_time_inc_factor': 61, 'LSTM_units': 32, 'LSTM_num_layers': 1, 'LSTM_dropout': 0.008266025414346642, 'LSTM_recurrent_dropout': 0.0011582339905774528, 'LSTM_learning_rate': 0.000319946107891747, 'LSTM_optimizer': 'adam', 'LSTM_bidirectional': True, 'LSTM_batch_size': 4096, 'LSTM_epochs': 2, 'LSTM_l1': 3.621253805658149e-05, 'LSTM_l2': 0.00020418360851611527, 'LSTM_inter_dropout': 0.017697695737463628, 'LSTM_input_gaussian_noise': 0.001, 'LSTM_conv1d': True, 'LSTM_conv1d_kernel_size': 3, 'LSTM_loss': 'mse', 'LSTM_transformer_before': False, 'LSTM_transformer_after': False, 'LSTM_tf_d_model': 0, 'LSTM_tf_nhead': 2, 'LSTM_tf_num_layers_before': 0, 'LSTM_tf_num_layers_after': 0, 'LSTM_tf_dim_feedforward': 8, 'LSTM_tf_dropout': 0.1, 'LSTM_tf_positional_encoding': True, 'LSTM_tf_pool': 'last', 'year_start': 2021, 'is_single_feature': False}\n",
            "2025-08-26 14:51:50,137 -   q2: 0.9900\n",
            "2025-08-26 14:51:50,137 -   Duration0: 0:00:50.978421\n",
            "2025-08-26 14:51:50,137 -   Val RMSE0 adjusted: 0.0066\n",
            "2025-08-26 14:51:50,155 -   Mean all prediction: 0.9993\n",
            "2025-08-26 14:51:50,156 -   Mean above prediction: 1.0058\n",
            "2025-08-26 14:51:50,158 -   Mean below prediction: 0.9959\n",
            "2025-08-26 14:51:50,159 -   Quantile 0.99 for distance in mask above: 961.9599999999991\n",
            "2025-08-26 14:51:50,159 -   Quantile 0.99 for distance in mask below: 765.7199999999993\n",
            "2025-08-26 14:51:50,160 -   Ratio for quantile-distance-to-length above: 0.0015\n",
            "2025-08-26 14:51:50,161 -   Ratio for quantile-distance-to-length below: 0.0012\n",
            "2025-08-26 14:51:50,161 -   Score: 1.0014\n"
          ]
        },
        {
          "name": "stderr",
          "output_type": "stream",
          "text": [
            "[I 2025-08-26 14:51:50,206] Trial 64 finished with value: 1.0014440941974014 and parameters: {'year_start': 2021, 'LoadupSamples_time_inc_factor': 61, 'LSTM_units': 32, 'LSTM_learning_rate': 0.000319946107891747, 'LSTM_l1': 3.621253805658149e-05, 'LSTM_l2': 0.00020418360851611527, 'LSTM_dropout': 0.008266025414346642, 'LSTM_inter_dropout': 0.017697695737463628, 'LSTM_recurrent_dropout': 0.0011582339905774528}. Best is trial 38 with value: 1.0030939915675743.\n"
          ]
        },
        {
          "name": "stdout",
          "output_type": "stream",
          "text": [
            "2025-08-26 14:51:50,206 - Trial 64 finished with value: 1.0014440941974014 and parameters: {'year_start': 2021, 'LoadupSamples_time_inc_factor': 61, 'LSTM_units': 32, 'LSTM_learning_rate': 0.000319946107891747, 'LSTM_l1': 3.621253805658149e-05, 'LSTM_l2': 0.00020418360851611527, 'LSTM_dropout': 0.008266025414346642, 'LSTM_inter_dropout': 0.017697695737463628, 'LSTM_recurrent_dropout': 0.0011582339905774528}. Best is trial 38 with value: 1.0030939915675743.\n",
            "2025-08-26 14:51:59,304 - Non-finite/too-large values in train y time: 48 samples.\n",
            "2025-08-26 14:51:59,304 - Removing 48 samples from training data.\n"
          ]
        },
        {
          "name": "stderr",
          "output_type": "stream",
          "text": [
            "Epochs:   0%|          | 0/2 [00:00<?, ?it/s]"
          ]
        },
        {
          "name": "stdout",
          "output_type": "stream",
          "text": [
            "2025-08-26 14:52:39,275 - Epoch 1/2 — Train RMSE: 0.4487 — Validation RMSE: 0.4242\n"
          ]
        },
        {
          "name": "stderr",
          "output_type": "stream",
          "text": [
            "Epochs:  50%|█████     | 1/2 [00:29<00:29, 29.53s/it]"
          ]
        },
        {
          "name": "stdout",
          "output_type": "stream",
          "text": [
            "2025-08-26 14:53:08,658 - Epoch 2/2 — Train RMSE: 0.4364 — Validation RMSE: 0.4240\n"
          ]
        },
        {
          "name": "stderr",
          "output_type": "stream",
          "text": [
            "Epochs: 100%|██████████| 2/2 [00:58<00:00, 29.46s/it]\n"
          ]
        },
        {
          "name": "stdout",
          "output_type": "stream",
          "text": [
            "2025-08-26 14:53:12,683 - Trial 65 with params: {'idxAfterPrediction': 4, 'timesteps': 75, 'target_option': 'last', 'LoadupSamples_time_scaling_stretch': True, 'LoadupSamples_time_inc_factor': 81, 'LSTM_units': 32, 'LSTM_num_layers': 1, 'LSTM_dropout': 0.007235308763157201, 'LSTM_recurrent_dropout': 0.0014694196879926056, 'LSTM_learning_rate': 0.0002711380041434102, 'LSTM_optimizer': 'adam', 'LSTM_bidirectional': True, 'LSTM_batch_size': 4096, 'LSTM_epochs': 2, 'LSTM_l1': 2.5617787685575533e-05, 'LSTM_l2': 0.00010048905106918533, 'LSTM_inter_dropout': 0.028563330692125872, 'LSTM_input_gaussian_noise': 0.001, 'LSTM_conv1d': True, 'LSTM_conv1d_kernel_size': 3, 'LSTM_loss': 'mse', 'LSTM_transformer_before': False, 'LSTM_transformer_after': False, 'LSTM_tf_d_model': 0, 'LSTM_tf_nhead': 2, 'LSTM_tf_num_layers_before': 0, 'LSTM_tf_num_layers_after': 0, 'LSTM_tf_dim_feedforward': 8, 'LSTM_tf_dropout': 0.1, 'LSTM_tf_positional_encoding': True, 'LSTM_tf_pool': 'last', 'year_start': 2020, 'is_single_feature': False}\n",
            "2025-08-26 14:53:12,683 -   q2: 0.9900\n",
            "2025-08-26 14:53:12,683 -   Duration0: 0:01:03.070002\n",
            "2025-08-26 14:53:12,683 -   Val RMSE0 adjusted: 0.0052\n",
            "2025-08-26 14:53:12,697 -   Mean all prediction: 0.9993\n",
            "2025-08-26 14:53:12,697 -   Mean above prediction: 1.0086\n",
            "2025-08-26 14:53:12,697 -   Mean below prediction: 0.9951\n",
            "2025-08-26 14:53:12,697 -   Quantile 0.99 for distance in mask above: 994.7199999999993\n",
            "2025-08-26 14:53:12,697 -   Quantile 0.99 for distance in mask below: 870.2399999999998\n",
            "2025-08-26 14:53:12,697 -   Ratio for quantile-distance-to-length above: 0.0015\n",
            "2025-08-26 14:53:12,697 -   Ratio for quantile-distance-to-length below: 0.0013\n",
            "2025-08-26 14:53:12,705 -   Score: 1.0021\n"
          ]
        },
        {
          "name": "stderr",
          "output_type": "stream",
          "text": [
            "[I 2025-08-26 14:53:12,764] Trial 65 finished with value: 1.0021386138091877 and parameters: {'year_start': 2020, 'LoadupSamples_time_inc_factor': 81, 'LSTM_units': 32, 'LSTM_learning_rate': 0.0002711380041434102, 'LSTM_l1': 2.5617787685575533e-05, 'LSTM_l2': 0.00010048905106918533, 'LSTM_dropout': 0.007235308763157201, 'LSTM_inter_dropout': 0.028563330692125872, 'LSTM_recurrent_dropout': 0.0014694196879926056}. Best is trial 38 with value: 1.0030939915675743.\n"
          ]
        },
        {
          "name": "stdout",
          "output_type": "stream",
          "text": [
            "2025-08-26 14:53:12,764 - Trial 65 finished with value: 1.0021386138091877 and parameters: {'year_start': 2020, 'LoadupSamples_time_inc_factor': 81, 'LSTM_units': 32, 'LSTM_learning_rate': 0.0002711380041434102, 'LSTM_l1': 2.5617787685575533e-05, 'LSTM_l2': 0.00010048905106918533, 'LSTM_dropout': 0.007235308763157201, 'LSTM_inter_dropout': 0.028563330692125872, 'LSTM_recurrent_dropout': 0.0014694196879926056}. Best is trial 38 with value: 1.0030939915675743.\n",
            "2025-08-26 14:53:20,297 - Non-finite/too-large values in train y time: 48 samples.\n",
            "2025-08-26 14:53:20,297 - Removing 48 samples from training data.\n"
          ]
        },
        {
          "name": "stderr",
          "output_type": "stream",
          "text": [
            "Epochs:   0%|          | 0/2 [00:00<?, ?it/s]"
          ]
        },
        {
          "name": "stdout",
          "output_type": "stream",
          "text": [
            "2025-08-26 14:53:52,299 - Epoch 1/2 — Train RMSE: 0.4562 — Validation RMSE: 0.4030\n"
          ]
        },
        {
          "name": "stderr",
          "output_type": "stream",
          "text": [
            "Epochs:  50%|█████     | 1/2 [00:23<00:23, 23.48s/it]"
          ]
        },
        {
          "name": "stdout",
          "output_type": "stream",
          "text": [
            "2025-08-26 14:54:15,634 - Epoch 2/2 — Train RMSE: 0.4121 — Validation RMSE: 0.4026\n"
          ]
        },
        {
          "name": "stderr",
          "output_type": "stream",
          "text": [
            "Epochs: 100%|██████████| 2/2 [00:46<00:00, 23.41s/it]\n"
          ]
        },
        {
          "name": "stdout",
          "output_type": "stream",
          "text": [
            "2025-08-26 14:54:19,675 - Trial 66 with params: {'idxAfterPrediction': 4, 'timesteps': 75, 'target_option': 'last', 'LoadupSamples_time_scaling_stretch': True, 'LoadupSamples_time_inc_factor': 61, 'LSTM_units': 32, 'LSTM_num_layers': 1, 'LSTM_dropout': 0.006218236824823112, 'LSTM_recurrent_dropout': 0.001301955976067066, 'LSTM_learning_rate': 0.00024582705666285936, 'LSTM_optimizer': 'adam', 'LSTM_bidirectional': True, 'LSTM_batch_size': 4096, 'LSTM_epochs': 2, 'LSTM_l1': 1.003066448617517e-05, 'LSTM_l2': 0.00016144848042624552, 'LSTM_inter_dropout': 0.013239146659165113, 'LSTM_input_gaussian_noise': 0.001, 'LSTM_conv1d': True, 'LSTM_conv1d_kernel_size': 3, 'LSTM_loss': 'mse', 'LSTM_transformer_before': False, 'LSTM_transformer_after': False, 'LSTM_tf_d_model': 0, 'LSTM_tf_nhead': 2, 'LSTM_tf_num_layers_before': 0, 'LSTM_tf_num_layers_after': 0, 'LSTM_tf_dim_feedforward': 8, 'LSTM_tf_dropout': 0.1, 'LSTM_tf_positional_encoding': True, 'LSTM_tf_pool': 'last', 'year_start': 2021, 'is_single_feature': False}\n",
            "2025-08-26 14:54:19,676 -   q2: 0.9900\n",
            "2025-08-26 14:54:19,677 -   Duration0: 0:00:50.960740\n",
            "2025-08-26 14:54:19,677 -   Val RMSE0 adjusted: 0.0066\n",
            "2025-08-26 14:54:19,679 -   Mean all prediction: 0.9993\n",
            "2025-08-26 14:54:19,679 -   Mean above prediction: 1.0071\n",
            "2025-08-26 14:54:19,679 -   Mean below prediction: 0.9978\n",
            "2025-08-26 14:54:19,679 -   Quantile 0.99 for distance in mask above: 872.359999999997\n",
            "2025-08-26 14:54:19,679 -   Quantile 0.99 for distance in mask below: 881.6799999999985\n",
            "2025-08-26 14:54:19,679 -   Ratio for quantile-distance-to-length above: 0.0013\n",
            "2025-08-26 14:54:19,679 -   Ratio for quantile-distance-to-length below: 0.0013\n",
            "2025-08-26 14:54:19,679 -   Score: 1.0018\n"
          ]
        },
        {
          "name": "stderr",
          "output_type": "stream",
          "text": [
            "[I 2025-08-26 14:54:19,732] Trial 66 finished with value: 1.00176329209173 and parameters: {'year_start': 2021, 'LoadupSamples_time_inc_factor': 61, 'LSTM_units': 32, 'LSTM_learning_rate': 0.00024582705666285936, 'LSTM_l1': 1.003066448617517e-05, 'LSTM_l2': 0.00016144848042624552, 'LSTM_dropout': 0.006218236824823112, 'LSTM_inter_dropout': 0.013239146659165113, 'LSTM_recurrent_dropout': 0.001301955976067066}. Best is trial 38 with value: 1.0030939915675743.\n"
          ]
        },
        {
          "name": "stdout",
          "output_type": "stream",
          "text": [
            "2025-08-26 14:54:19,732 - Trial 66 finished with value: 1.00176329209173 and parameters: {'year_start': 2021, 'LoadupSamples_time_inc_factor': 61, 'LSTM_units': 32, 'LSTM_learning_rate': 0.00024582705666285936, 'LSTM_l1': 1.003066448617517e-05, 'LSTM_l2': 0.00016144848042624552, 'LSTM_dropout': 0.006218236824823112, 'LSTM_inter_dropout': 0.013239146659165113, 'LSTM_recurrent_dropout': 0.001301955976067066}. Best is trial 38 with value: 1.0030939915675743.\n",
            "2025-08-26 14:54:28,879 - Non-finite/too-large values in train y time: 48 samples.\n",
            "2025-08-26 14:54:28,879 - Removing 48 samples from training data.\n"
          ]
        },
        {
          "name": "stderr",
          "output_type": "stream",
          "text": [
            "Epochs:   0%|          | 0/2 [00:00<?, ?it/s]"
          ]
        },
        {
          "name": "stdout",
          "output_type": "stream",
          "text": [
            "2025-08-26 14:55:08,799 - Epoch 1/2 — Train RMSE: 0.4556 — Validation RMSE: 0.4024\n"
          ]
        },
        {
          "name": "stderr",
          "output_type": "stream",
          "text": [
            "Epochs:  50%|█████     | 1/2 [00:29<00:29, 29.51s/it]"
          ]
        },
        {
          "name": "stdout",
          "output_type": "stream",
          "text": [
            "2025-08-26 14:55:38,233 - Epoch 2/2 — Train RMSE: 0.4165 — Validation RMSE: 0.4021\n"
          ]
        },
        {
          "name": "stderr",
          "output_type": "stream",
          "text": [
            "Epochs: 100%|██████████| 2/2 [00:58<00:00, 29.47s/it]\n"
          ]
        },
        {
          "name": "stdout",
          "output_type": "stream",
          "text": [
            "2025-08-26 14:55:42,272 - Trial 67 with params: {'idxAfterPrediction': 4, 'timesteps': 75, 'target_option': 'last', 'LoadupSamples_time_scaling_stretch': True, 'LoadupSamples_time_inc_factor': 61, 'LSTM_units': 32, 'LSTM_num_layers': 1, 'LSTM_dropout': 0.001168124096823282, 'LSTM_recurrent_dropout': 0.0010014798240565597, 'LSTM_learning_rate': 0.0001553107686188653, 'LSTM_optimizer': 'adam', 'LSTM_bidirectional': True, 'LSTM_batch_size': 4096, 'LSTM_epochs': 2, 'LSTM_l1': 1.899106039493668e-05, 'LSTM_l2': 0.00022287224618251832, 'LSTM_inter_dropout': 0.019763275015068048, 'LSTM_input_gaussian_noise': 0.001, 'LSTM_conv1d': True, 'LSTM_conv1d_kernel_size': 3, 'LSTM_loss': 'mse', 'LSTM_transformer_before': False, 'LSTM_transformer_after': False, 'LSTM_tf_d_model': 0, 'LSTM_tf_nhead': 2, 'LSTM_tf_num_layers_before': 0, 'LSTM_tf_num_layers_after': 0, 'LSTM_tf_dim_feedforward': 8, 'LSTM_tf_dropout': 0.1, 'LSTM_tf_positional_encoding': True, 'LSTM_tf_pool': 'last', 'year_start': 2020, 'is_single_feature': False}\n",
            "2025-08-26 14:55:42,272 -   q2: 0.9900\n",
            "2025-08-26 14:55:42,272 -   Duration0: 0:01:03.120152\n",
            "2025-08-26 14:55:42,272 -   Val RMSE0 adjusted: 0.0066\n",
            "2025-08-26 14:55:42,289 -   Mean all prediction: 0.9993\n",
            "2025-08-26 14:55:42,289 -   Mean above prediction: 1.0059\n",
            "2025-08-26 14:55:42,289 -   Mean below prediction: 0.9957\n",
            "2025-08-26 14:55:42,289 -   Quantile 0.99 for distance in mask above: 996.159999999998\n",
            "2025-08-26 14:55:42,289 -   Quantile 0.99 for distance in mask below: 809.4399999999987\n",
            "2025-08-26 14:55:42,289 -   Ratio for quantile-distance-to-length above: 0.0015\n",
            "2025-08-26 14:55:42,289 -   Ratio for quantile-distance-to-length below: 0.0012\n",
            "2025-08-26 14:55:42,289 -   Score: 1.0015\n"
          ]
        },
        {
          "name": "stderr",
          "output_type": "stream",
          "text": [
            "[I 2025-08-26 14:55:42,356] Trial 67 finished with value: 1.0014704351113592 and parameters: {'year_start': 2020, 'LoadupSamples_time_inc_factor': 61, 'LSTM_units': 32, 'LSTM_learning_rate': 0.0001553107686188653, 'LSTM_l1': 1.899106039493668e-05, 'LSTM_l2': 0.00022287224618251832, 'LSTM_dropout': 0.001168124096823282, 'LSTM_inter_dropout': 0.019763275015068048, 'LSTM_recurrent_dropout': 0.0010014798240565597}. Best is trial 38 with value: 1.0030939915675743.\n"
          ]
        },
        {
          "name": "stdout",
          "output_type": "stream",
          "text": [
            "2025-08-26 14:55:42,356 - Trial 67 finished with value: 1.0014704351113592 and parameters: {'year_start': 2020, 'LoadupSamples_time_inc_factor': 61, 'LSTM_units': 32, 'LSTM_learning_rate': 0.0001553107686188653, 'LSTM_l1': 1.899106039493668e-05, 'LSTM_l2': 0.00022287224618251832, 'LSTM_dropout': 0.001168124096823282, 'LSTM_inter_dropout': 0.019763275015068048, 'LSTM_recurrent_dropout': 0.0010014798240565597}. Best is trial 38 with value: 1.0030939915675743.\n",
            "2025-08-26 14:55:49,855 - Non-finite/too-large values in train y time: 48 samples.\n",
            "2025-08-26 14:55:49,855 - Removing 48 samples from training data.\n"
          ]
        },
        {
          "name": "stderr",
          "output_type": "stream",
          "text": [
            "Epochs:   0%|          | 0/2 [00:00<?, ?it/s]"
          ]
        },
        {
          "name": "stdout",
          "output_type": "stream",
          "text": [
            "2025-08-26 14:56:21,894 - Epoch 1/2 — Train RMSE: 0.4590 — Validation RMSE: 0.4151\n"
          ]
        },
        {
          "name": "stderr",
          "output_type": "stream",
          "text": [
            "Epochs:  50%|█████     | 1/2 [00:23<00:23, 23.50s/it]"
          ]
        },
        {
          "name": "stdout",
          "output_type": "stream",
          "text": [
            "2025-08-26 14:56:45,242 - Epoch 2/2 — Train RMSE: 0.4236 — Validation RMSE: 0.4148\n"
          ]
        },
        {
          "name": "stderr",
          "output_type": "stream",
          "text": [
            "Epochs: 100%|██████████| 2/2 [00:46<00:00, 23.43s/it]\n"
          ]
        },
        {
          "name": "stdout",
          "output_type": "stream",
          "text": [
            "2025-08-26 14:56:49,318 - Trial 68 with params: {'idxAfterPrediction': 4, 'timesteps': 75, 'target_option': 'last', 'LoadupSamples_time_scaling_stretch': True, 'LoadupSamples_time_inc_factor': 71, 'LSTM_units': 32, 'LSTM_num_layers': 1, 'LSTM_dropout': 0.0026864022236922384, 'LSTM_recurrent_dropout': 0.0017456593332602507, 'LSTM_learning_rate': 0.00023102414495344796, 'LSTM_optimizer': 'adam', 'LSTM_bidirectional': True, 'LSTM_batch_size': 4096, 'LSTM_epochs': 2, 'LSTM_l1': 2.8114221984232793e-05, 'LSTM_l2': 0.0001358574090530805, 'LSTM_inter_dropout': 0.015496377518002874, 'LSTM_input_gaussian_noise': 0.001, 'LSTM_conv1d': True, 'LSTM_conv1d_kernel_size': 3, 'LSTM_loss': 'mse', 'LSTM_transformer_before': False, 'LSTM_transformer_after': False, 'LSTM_tf_d_model': 0, 'LSTM_tf_nhead': 2, 'LSTM_tf_num_layers_before': 0, 'LSTM_tf_num_layers_after': 0, 'LSTM_tf_dim_feedforward': 8, 'LSTM_tf_dropout': 0.1, 'LSTM_tf_positional_encoding': True, 'LSTM_tf_pool': 'last', 'year_start': 2021, 'is_single_feature': False}\n",
            "2025-08-26 14:56:49,318 -   q2: 0.9900\n",
            "2025-08-26 14:56:49,318 -   Duration0: 0:00:51.044539\n",
            "2025-08-26 14:56:49,318 -   Val RMSE0 adjusted: 0.0058\n",
            "2025-08-26 14:56:49,318 -   Mean all prediction: 0.9993\n",
            "2025-08-26 14:56:49,333 -   Mean above prediction: 1.0077\n",
            "2025-08-26 14:56:49,333 -   Mean below prediction: 0.9978\n",
            "2025-08-26 14:56:49,334 -   Quantile 0.99 for distance in mask above: 948.4799999999996\n",
            "2025-08-26 14:56:49,335 -   Quantile 0.99 for distance in mask below: 874.7199999999993\n",
            "2025-08-26 14:56:49,336 -   Ratio for quantile-distance-to-length above: 0.0014\n",
            "2025-08-26 14:56:49,337 -   Ratio for quantile-distance-to-length below: 0.0013\n",
            "2025-08-26 14:56:49,338 -   Score: 1.0019\n"
          ]
        },
        {
          "name": "stderr",
          "output_type": "stream",
          "text": [
            "[I 2025-08-26 14:56:49,385] Trial 68 finished with value: 1.0019273041629229 and parameters: {'year_start': 2021, 'LoadupSamples_time_inc_factor': 71, 'LSTM_units': 32, 'LSTM_learning_rate': 0.00023102414495344796, 'LSTM_l1': 2.8114221984232793e-05, 'LSTM_l2': 0.0001358574090530805, 'LSTM_dropout': 0.0026864022236922384, 'LSTM_inter_dropout': 0.015496377518002874, 'LSTM_recurrent_dropout': 0.0017456593332602507}. Best is trial 38 with value: 1.0030939915675743.\n"
          ]
        },
        {
          "name": "stdout",
          "output_type": "stream",
          "text": [
            "2025-08-26 14:56:49,385 - Trial 68 finished with value: 1.0019273041629229 and parameters: {'year_start': 2021, 'LoadupSamples_time_inc_factor': 71, 'LSTM_units': 32, 'LSTM_learning_rate': 0.00023102414495344796, 'LSTM_l1': 2.8114221984232793e-05, 'LSTM_l2': 0.0001358574090530805, 'LSTM_dropout': 0.0026864022236922384, 'LSTM_inter_dropout': 0.015496377518002874, 'LSTM_recurrent_dropout': 0.0017456593332602507}. Best is trial 38 with value: 1.0030939915675743.\n",
            "2025-08-26 14:56:58,488 - Non-finite/too-large values in train y time: 48 samples.\n",
            "2025-08-26 14:56:58,488 - Removing 48 samples from training data.\n"
          ]
        },
        {
          "name": "stderr",
          "output_type": "stream",
          "text": [
            "Epochs:   0%|          | 0/2 [00:00<?, ?it/s]"
          ]
        },
        {
          "name": "stdout",
          "output_type": "stream",
          "text": [
            "2025-08-26 14:57:38,391 - Epoch 1/2 — Train RMSE: 0.4254 — Validation RMSE: 0.4090\n"
          ]
        },
        {
          "name": "stderr",
          "output_type": "stream",
          "text": [
            "Epochs:  50%|█████     | 1/2 [00:29<00:29, 29.44s/it]"
          ]
        },
        {
          "name": "stdout",
          "output_type": "stream",
          "text": [
            "2025-08-26 14:58:07,855 - Epoch 2/2 — Train RMSE: 0.4226 — Validation RMSE: 0.4087\n"
          ]
        },
        {
          "name": "stderr",
          "output_type": "stream",
          "text": [
            "Epochs: 100%|██████████| 2/2 [00:58<00:00, 29.45s/it]\n"
          ]
        },
        {
          "name": "stdout",
          "output_type": "stream",
          "text": [
            "2025-08-26 14:58:11,945 - Trial 69 with params: {'idxAfterPrediction': 4, 'timesteps': 75, 'target_option': 'last', 'LoadupSamples_time_scaling_stretch': True, 'LoadupSamples_time_inc_factor': 66, 'LSTM_units': 32, 'LSTM_num_layers': 1, 'LSTM_dropout': 0.004920447660793219, 'LSTM_recurrent_dropout': 0.0012181084541663572, 'LSTM_learning_rate': 0.0004319417072254921, 'LSTM_optimizer': 'adam', 'LSTM_bidirectional': True, 'LSTM_batch_size': 4096, 'LSTM_epochs': 2, 'LSTM_l1': 3.287245615726083e-05, 'LSTM_l2': 0.00031764455614653736, 'LSTM_inter_dropout': 0.032125363690901305, 'LSTM_input_gaussian_noise': 0.001, 'LSTM_conv1d': True, 'LSTM_conv1d_kernel_size': 3, 'LSTM_loss': 'mse', 'LSTM_transformer_before': False, 'LSTM_transformer_after': False, 'LSTM_tf_d_model': 0, 'LSTM_tf_nhead': 2, 'LSTM_tf_num_layers_before': 0, 'LSTM_tf_num_layers_after': 0, 'LSTM_tf_dim_feedforward': 8, 'LSTM_tf_dropout': 0.1, 'LSTM_tf_positional_encoding': True, 'LSTM_tf_pool': 'last', 'year_start': 2020, 'is_single_feature': False}\n",
            "2025-08-26 14:58:11,948 -   q2: 0.9900\n",
            "2025-08-26 14:58:11,948 -   Duration0: 0:01:03.137395\n",
            "2025-08-26 14:58:11,948 -   Val RMSE0 adjusted: 0.0062\n",
            "2025-08-26 14:58:11,948 -   Mean all prediction: 0.9993\n",
            "2025-08-26 14:58:11,948 -   Mean above prediction: 1.0043\n",
            "2025-08-26 14:58:11,948 -   Mean below prediction: 0.9965\n",
            "2025-08-26 14:58:11,948 -   Quantile 0.99 for distance in mask above: 1062.199999999999\n",
            "2025-08-26 14:58:11,948 -   Quantile 0.99 for distance in mask below: 820.3999999999978\n",
            "2025-08-26 14:58:11,948 -   Ratio for quantile-distance-to-length above: 0.0016\n",
            "2025-08-26 14:58:11,948 -   Ratio for quantile-distance-to-length below: 0.0012\n",
            "2025-08-26 14:58:11,948 -   Score: 1.0011\n"
          ]
        },
        {
          "name": "stderr",
          "output_type": "stream",
          "text": [
            "[I 2025-08-26 14:58:12,014] Trial 69 finished with value: 1.0010735851450707 and parameters: {'year_start': 2020, 'LoadupSamples_time_inc_factor': 66, 'LSTM_units': 32, 'LSTM_learning_rate': 0.0004319417072254921, 'LSTM_l1': 3.287245615726083e-05, 'LSTM_l2': 0.00031764455614653736, 'LSTM_dropout': 0.004920447660793219, 'LSTM_inter_dropout': 0.032125363690901305, 'LSTM_recurrent_dropout': 0.0012181084541663572}. Best is trial 38 with value: 1.0030939915675743.\n"
          ]
        },
        {
          "name": "stdout",
          "output_type": "stream",
          "text": [
            "2025-08-26 14:58:12,014 - Trial 69 finished with value: 1.0010735851450707 and parameters: {'year_start': 2020, 'LoadupSamples_time_inc_factor': 66, 'LSTM_units': 32, 'LSTM_learning_rate': 0.0004319417072254921, 'LSTM_l1': 3.287245615726083e-05, 'LSTM_l2': 0.00031764455614653736, 'LSTM_dropout': 0.004920447660793219, 'LSTM_inter_dropout': 0.032125363690901305, 'LSTM_recurrent_dropout': 0.0012181084541663572}. Best is trial 38 with value: 1.0030939915675743.\n",
            "2025-08-26 14:58:19,568 - Non-finite/too-large values in train y time: 48 samples.\n",
            "2025-08-26 14:58:19,568 - Removing 48 samples from training data.\n"
          ]
        },
        {
          "name": "stderr",
          "output_type": "stream",
          "text": [
            "Epochs:   0%|          | 0/2 [00:00<?, ?it/s]"
          ]
        },
        {
          "name": "stdout",
          "output_type": "stream",
          "text": [
            "2025-08-26 14:58:48,510 - Epoch 1/2 — Train RMSE: 0.4650 — Validation RMSE: 0.4198\n"
          ]
        },
        {
          "name": "stderr",
          "output_type": "stream",
          "text": [
            "Epochs:  50%|█████     | 1/2 [00:20<00:20, 20.43s/it]"
          ]
        },
        {
          "name": "stdout",
          "output_type": "stream",
          "text": [
            "2025-08-26 14:59:09,439 - Epoch 2/2 — Train RMSE: 0.4280 — Validation RMSE: 0.4195\n"
          ]
        },
        {
          "name": "stderr",
          "output_type": "stream",
          "text": [
            "Epochs: 100%|██████████| 2/2 [00:41<00:00, 20.68s/it]\n"
          ]
        },
        {
          "name": "stdout",
          "output_type": "stream",
          "text": [
            "2025-08-26 14:59:13,147 - Trial 70 with params: {'idxAfterPrediction': 4, 'timesteps': 75, 'target_option': 'last', 'LoadupSamples_time_scaling_stretch': True, 'LoadupSamples_time_inc_factor': 76, 'LSTM_units': 16, 'LSTM_num_layers': 1, 'LSTM_dropout': 0.0032645196843402876, 'LSTM_recurrent_dropout': 0.0016677045254741311, 'LSTM_learning_rate': 0.0001846041058107115, 'LSTM_optimizer': 'adam', 'LSTM_bidirectional': True, 'LSTM_batch_size': 4096, 'LSTM_epochs': 2, 'LSTM_l1': 2.2719885441290465e-05, 'LSTM_l2': 0.00011849925144409213, 'LSTM_inter_dropout': 0.09684612482787527, 'LSTM_input_gaussian_noise': 0.001, 'LSTM_conv1d': True, 'LSTM_conv1d_kernel_size': 3, 'LSTM_loss': 'mse', 'LSTM_transformer_before': False, 'LSTM_transformer_after': False, 'LSTM_tf_d_model': 0, 'LSTM_tf_nhead': 2, 'LSTM_tf_num_layers_before': 0, 'LSTM_tf_num_layers_after': 0, 'LSTM_tf_dim_feedforward': 8, 'LSTM_tf_dropout': 0.1, 'LSTM_tf_positional_encoding': True, 'LSTM_tf_pool': 'last', 'year_start': 2021, 'is_single_feature': False}\n",
            "2025-08-26 14:59:13,147 -   q2: 0.9900\n",
            "2025-08-26 14:59:13,147 -   Duration0: 0:00:45.181953\n",
            "2025-08-26 14:59:13,162 -   Val RMSE0 adjusted: 0.0055\n",
            "2025-08-26 14:59:13,164 -   Mean all prediction: 0.9993\n",
            "2025-08-26 14:59:13,164 -   Mean above prediction: 1.0085\n",
            "2025-08-26 14:59:13,164 -   Mean below prediction: 0.9987\n",
            "2025-08-26 14:59:13,164 -   Quantile 0.99 for distance in mask above: 839.4799999999996\n",
            "2025-08-26 14:59:13,164 -   Quantile 0.99 for distance in mask below: 837.8399999999965\n",
            "2025-08-26 14:59:13,164 -   Ratio for quantile-distance-to-length above: 0.0013\n",
            "2025-08-26 14:59:13,164 -   Ratio for quantile-distance-to-length below: 0.0013\n",
            "2025-08-26 14:59:13,164 -   Score: 1.0021\n"
          ]
        },
        {
          "name": "stderr",
          "output_type": "stream",
          "text": [
            "[I 2025-08-26 14:59:13,224] Trial 70 finished with value: 1.0021138765017523 and parameters: {'year_start': 2021, 'LoadupSamples_time_inc_factor': 76, 'LSTM_units': 16, 'LSTM_learning_rate': 0.0001846041058107115, 'LSTM_l1': 2.2719885441290465e-05, 'LSTM_l2': 0.00011849925144409213, 'LSTM_dropout': 0.0032645196843402876, 'LSTM_inter_dropout': 0.09684612482787527, 'LSTM_recurrent_dropout': 0.0016677045254741311}. Best is trial 38 with value: 1.0030939915675743.\n"
          ]
        },
        {
          "name": "stdout",
          "output_type": "stream",
          "text": [
            "2025-08-26 14:59:13,224 - Trial 70 finished with value: 1.0021138765017523 and parameters: {'year_start': 2021, 'LoadupSamples_time_inc_factor': 76, 'LSTM_units': 16, 'LSTM_learning_rate': 0.0001846041058107115, 'LSTM_l1': 2.2719885441290465e-05, 'LSTM_l2': 0.00011849925144409213, 'LSTM_dropout': 0.0032645196843402876, 'LSTM_inter_dropout': 0.09684612482787527, 'LSTM_recurrent_dropout': 0.0016677045254741311}. Best is trial 38 with value: 1.0030939915675743.\n",
            "2025-08-26 14:59:19,127 - Non-finite/too-large values in train y time: 48 samples.\n",
            "2025-08-26 14:59:19,127 - Removing 48 samples from training data.\n"
          ]
        },
        {
          "name": "stderr",
          "output_type": "stream",
          "text": [
            "Epochs:   0%|          | 0/2 [00:00<?, ?it/s]"
          ]
        },
        {
          "name": "stdout",
          "output_type": "stream",
          "text": [
            "2025-08-26 14:59:43,432 - Epoch 1/2 — Train RMSE: 0.4410 — Validation RMSE: 0.4035\n"
          ]
        },
        {
          "name": "stderr",
          "output_type": "stream",
          "text": [
            "Epochs:  50%|█████     | 1/2 [00:17<00:17, 17.79s/it]"
          ]
        },
        {
          "name": "stdout",
          "output_type": "stream",
          "text": [
            "2025-08-26 15:00:01,101 - Epoch 2/2 — Train RMSE: 0.4176 — Validation RMSE: 0.4031\n"
          ]
        },
        {
          "name": "stderr",
          "output_type": "stream",
          "text": [
            "Epochs: 100%|██████████| 2/2 [00:35<00:00, 17.72s/it]\n"
          ]
        },
        {
          "name": "stdout",
          "output_type": "stream",
          "text": [
            "2025-08-26 15:00:04,709 - Trial 71 with params: {'idxAfterPrediction': 4, 'timesteps': 75, 'target_option': 'last', 'LoadupSamples_time_scaling_stretch': True, 'LoadupSamples_time_inc_factor': 61, 'LSTM_units': 32, 'LSTM_num_layers': 1, 'LSTM_dropout': 0.007998537937325807, 'LSTM_recurrent_dropout': 0.004269778792233378, 'LSTM_learning_rate': 0.00035355511729153193, 'LSTM_optimizer': 'adam', 'LSTM_bidirectional': True, 'LSTM_batch_size': 4096, 'LSTM_epochs': 2, 'LSTM_l1': 2.603347309168072e-05, 'LSTM_l2': 0.00017977233185954549, 'LSTM_inter_dropout': 0.014485998125468774, 'LSTM_input_gaussian_noise': 0.001, 'LSTM_conv1d': True, 'LSTM_conv1d_kernel_size': 3, 'LSTM_loss': 'mse', 'LSTM_transformer_before': False, 'LSTM_transformer_after': False, 'LSTM_tf_d_model': 0, 'LSTM_tf_nhead': 2, 'LSTM_tf_num_layers_before': 0, 'LSTM_tf_num_layers_after': 0, 'LSTM_tf_dim_feedforward': 8, 'LSTM_tf_dropout': 0.1, 'LSTM_tf_positional_encoding': True, 'LSTM_tf_pool': 'last', 'year_start': 2022, 'is_single_feature': False}\n",
            "2025-08-26 15:00:04,709 -   q2: 0.9900\n",
            "2025-08-26 15:00:04,709 -   Duration0: 0:00:39.182554\n",
            "2025-08-26 15:00:04,709 -   Val RMSE0 adjusted: 0.0066\n",
            "2025-08-26 15:00:04,726 -   Mean all prediction: 0.9993\n",
            "2025-08-26 15:00:04,726 -   Mean above prediction: 1.0074\n",
            "2025-08-26 15:00:04,726 -   Mean below prediction: 0.9945\n",
            "2025-08-26 15:00:04,726 -   Quantile 0.99 for distance in mask above: 969.4799999999996\n",
            "2025-08-26 15:00:04,726 -   Quantile 0.99 for distance in mask below: 730.3999999999978\n",
            "2025-08-26 15:00:04,726 -   Ratio for quantile-distance-to-length above: 0.0015\n",
            "2025-08-26 15:00:04,726 -   Ratio for quantile-distance-to-length below: 0.0011\n",
            "2025-08-26 15:00:04,726 -   Score: 1.0018\n"
          ]
        },
        {
          "name": "stderr",
          "output_type": "stream",
          "text": [
            "[I 2025-08-26 15:00:04,761] Trial 71 finished with value: 1.0018385012657969 and parameters: {'year_start': 2022, 'LoadupSamples_time_inc_factor': 61, 'LSTM_units': 32, 'LSTM_learning_rate': 0.00035355511729153193, 'LSTM_l1': 2.603347309168072e-05, 'LSTM_l2': 0.00017977233185954549, 'LSTM_dropout': 0.007998537937325807, 'LSTM_inter_dropout': 0.014485998125468774, 'LSTM_recurrent_dropout': 0.004269778792233378}. Best is trial 38 with value: 1.0030939915675743.\n"
          ]
        },
        {
          "name": "stdout",
          "output_type": "stream",
          "text": [
            "2025-08-26 15:00:04,761 - Trial 71 finished with value: 1.0018385012657969 and parameters: {'year_start': 2022, 'LoadupSamples_time_inc_factor': 61, 'LSTM_units': 32, 'LSTM_learning_rate': 0.00035355511729153193, 'LSTM_l1': 2.603347309168072e-05, 'LSTM_l2': 0.00017977233185954549, 'LSTM_dropout': 0.007998537937325807, 'LSTM_inter_dropout': 0.014485998125468774, 'LSTM_recurrent_dropout': 0.004269778792233378}. Best is trial 38 with value: 1.0030939915675743.\n",
            "2025-08-26 15:00:12,509 - Non-finite/too-large values in train y time: 48 samples.\n",
            "2025-08-26 15:00:12,509 - Removing 48 samples from training data.\n"
          ]
        },
        {
          "name": "stderr",
          "output_type": "stream",
          "text": [
            "Epochs:   0%|          | 0/2 [00:00<?, ?it/s]"
          ]
        },
        {
          "name": "stdout",
          "output_type": "stream",
          "text": [
            "2025-08-26 15:00:44,546 - Epoch 1/2 — Train RMSE: 0.4455 — Validation RMSE: 0.4022\n"
          ]
        },
        {
          "name": "stderr",
          "output_type": "stream",
          "text": [
            "Epochs:  50%|█████     | 1/2 [00:23<00:23, 23.52s/it]"
          ]
        },
        {
          "name": "stdout",
          "output_type": "stream",
          "text": [
            "2025-08-26 15:01:07,980 - Epoch 2/2 — Train RMSE: 0.4110 — Validation RMSE: 0.4021\n"
          ]
        },
        {
          "name": "stderr",
          "output_type": "stream",
          "text": [
            "Epochs: 100%|██████████| 2/2 [00:46<00:00, 23.48s/it]\n"
          ]
        },
        {
          "name": "stdout",
          "output_type": "stream",
          "text": [
            "2025-08-26 15:01:11,409 - Trial 72 with params: {'idxAfterPrediction': 4, 'timesteps': 75, 'target_option': 'last', 'LoadupSamples_time_scaling_stretch': True, 'LoadupSamples_time_inc_factor': 61, 'LSTM_units': 32, 'LSTM_num_layers': 1, 'LSTM_dropout': 0.005810864046091284, 'LSTM_recurrent_dropout': 0.006715637580365314, 'LSTM_learning_rate': 0.00021599666559111348, 'LSTM_optimizer': 'adam', 'LSTM_bidirectional': True, 'LSTM_batch_size': 4096, 'LSTM_epochs': 2, 'LSTM_l1': 2.499129990321878e-05, 'LSTM_l2': 0.00014484142318139449, 'LSTM_inter_dropout': 0.012530017206958144, 'LSTM_input_gaussian_noise': 0.001, 'LSTM_conv1d': True, 'LSTM_conv1d_kernel_size': 3, 'LSTM_loss': 'mse', 'LSTM_transformer_before': False, 'LSTM_transformer_after': False, 'LSTM_tf_d_model': 0, 'LSTM_tf_nhead': 2, 'LSTM_tf_num_layers_before': 0, 'LSTM_tf_num_layers_after': 0, 'LSTM_tf_dim_feedforward': 8, 'LSTM_tf_dropout': 0.1, 'LSTM_tf_positional_encoding': True, 'LSTM_tf_pool': 'last', 'year_start': 2021, 'is_single_feature': False}\n",
            "2025-08-26 15:01:11,409 -   q2: 0.9900\n",
            "2025-08-26 15:01:11,409 -   Duration0: 0:00:50.512242\n",
            "2025-08-26 15:01:11,409 -   Val RMSE0 adjusted: 0.0066\n",
            "2025-08-26 15:01:11,420 -   Mean all prediction: 0.9993\n",
            "2025-08-26 15:01:11,421 -   Mean above prediction: 1.0079\n",
            "2025-08-26 15:01:11,421 -   Mean below prediction: 0.9976\n",
            "2025-08-26 15:01:11,421 -   Quantile 0.99 for distance in mask above: 1004.9599999999991\n",
            "2025-08-26 15:01:11,421 -   Quantile 0.99 for distance in mask below: 890.7199999999993\n",
            "2025-08-26 15:01:11,421 -   Ratio for quantile-distance-to-length above: 0.0015\n",
            "2025-08-26 15:01:11,421 -   Ratio for quantile-distance-to-length below: 0.0014\n",
            "2025-08-26 15:01:11,421 -   Score: 1.0020\n"
          ]
        },
        {
          "name": "stderr",
          "output_type": "stream",
          "text": [
            "[I 2025-08-26 15:01:11,471] Trial 72 finished with value: 1.0019742866753283 and parameters: {'year_start': 2021, 'LoadupSamples_time_inc_factor': 61, 'LSTM_units': 32, 'LSTM_learning_rate': 0.00021599666559111348, 'LSTM_l1': 2.499129990321878e-05, 'LSTM_l2': 0.00014484142318139449, 'LSTM_dropout': 0.005810864046091284, 'LSTM_inter_dropout': 0.012530017206958144, 'LSTM_recurrent_dropout': 0.006715637580365314}. Best is trial 38 with value: 1.0030939915675743.\n"
          ]
        },
        {
          "name": "stdout",
          "output_type": "stream",
          "text": [
            "2025-08-26 15:01:11,471 - Trial 72 finished with value: 1.0019742866753283 and parameters: {'year_start': 2021, 'LoadupSamples_time_inc_factor': 61, 'LSTM_units': 32, 'LSTM_learning_rate': 0.00021599666559111348, 'LSTM_l1': 2.499129990321878e-05, 'LSTM_l2': 0.00014484142318139449, 'LSTM_dropout': 0.005810864046091284, 'LSTM_inter_dropout': 0.012530017206958144, 'LSTM_recurrent_dropout': 0.006715637580365314}. Best is trial 38 with value: 1.0030939915675743.\n",
            "2025-08-26 15:01:19,020 - Non-finite/too-large values in train y time: 48 samples.\n",
            "2025-08-26 15:01:19,020 - Removing 48 samples from training data.\n"
          ]
        },
        {
          "name": "stderr",
          "output_type": "stream",
          "text": [
            "Epochs:   0%|          | 0/2 [00:00<?, ?it/s]"
          ]
        },
        {
          "name": "stdout",
          "output_type": "stream",
          "text": [
            "2025-08-26 15:01:51,026 - Epoch 1/2 — Train RMSE: 0.4408 — Validation RMSE: 0.4026\n"
          ]
        },
        {
          "name": "stderr",
          "output_type": "stream",
          "text": [
            "Epochs:  50%|█████     | 1/2 [00:23<00:23, 23.57s/it]"
          ]
        },
        {
          "name": "stdout",
          "output_type": "stream",
          "text": [
            "2025-08-26 15:02:14,441 - Epoch 2/2 — Train RMSE: 0.4117 — Validation RMSE: 0.4024\n"
          ]
        },
        {
          "name": "stderr",
          "output_type": "stream",
          "text": [
            "Epochs: 100%|██████████| 2/2 [00:46<00:00, 23.48s/it]\n"
          ]
        },
        {
          "name": "stdout",
          "output_type": "stream",
          "text": [
            "2025-08-26 15:02:18,417 - Trial 73 with params: {'idxAfterPrediction': 4, 'timesteps': 75, 'target_option': 'last', 'LoadupSamples_time_scaling_stretch': True, 'LoadupSamples_time_inc_factor': 61, 'LSTM_units': 32, 'LSTM_num_layers': 1, 'LSTM_dropout': 0.006755031262180423, 'LSTM_recurrent_dropout': 0.0031944602435452934, 'LSTM_learning_rate': 0.0002879622566211125, 'LSTM_optimizer': 'adam', 'LSTM_bidirectional': True, 'LSTM_batch_size': 4096, 'LSTM_epochs': 2, 'LSTM_l1': 1.6624288183479618e-05, 'LSTM_l2': 0.00011283583600353749, 'LSTM_inter_dropout': 0.017225473510870445, 'LSTM_input_gaussian_noise': 0.001, 'LSTM_conv1d': True, 'LSTM_conv1d_kernel_size': 3, 'LSTM_loss': 'mse', 'LSTM_transformer_before': False, 'LSTM_transformer_after': False, 'LSTM_tf_d_model': 0, 'LSTM_tf_nhead': 2, 'LSTM_tf_num_layers_before': 0, 'LSTM_tf_num_layers_after': 0, 'LSTM_tf_dim_feedforward': 8, 'LSTM_tf_dropout': 0.1, 'LSTM_tf_positional_encoding': True, 'LSTM_tf_pool': 'last', 'year_start': 2021, 'is_single_feature': False}\n",
            "2025-08-26 15:02:18,418 -   q2: 0.9900\n",
            "2025-08-26 15:02:18,418 -   Duration0: 0:00:51.034754\n",
            "2025-08-26 15:02:18,419 -   Val RMSE0 adjusted: 0.0066\n",
            "2025-08-26 15:02:18,424 -   Mean all prediction: 0.9993\n",
            "2025-08-26 15:02:18,426 -   Mean above prediction: 1.0042\n",
            "2025-08-26 15:02:18,426 -   Mean below prediction: 0.9972\n",
            "2025-08-26 15:02:18,427 -   Quantile 0.99 for distance in mask above: 844.4799999999996\n",
            "2025-08-26 15:02:18,428 -   Quantile 0.99 for distance in mask below: 887.7199999999993\n",
            "2025-08-26 15:02:18,428 -   Ratio for quantile-distance-to-length above: 0.0013\n",
            "2025-08-26 15:02:18,429 -   Ratio for quantile-distance-to-length below: 0.0013\n",
            "2025-08-26 15:02:18,430 -   Score: 1.0011\n"
          ]
        },
        {
          "name": "stderr",
          "output_type": "stream",
          "text": [
            "[I 2025-08-26 15:02:18,473] Trial 73 finished with value: 1.0010559658002327 and parameters: {'year_start': 2021, 'LoadupSamples_time_inc_factor': 61, 'LSTM_units': 32, 'LSTM_learning_rate': 0.0002879622566211125, 'LSTM_l1': 1.6624288183479618e-05, 'LSTM_l2': 0.00011283583600353749, 'LSTM_dropout': 0.006755031262180423, 'LSTM_inter_dropout': 0.017225473510870445, 'LSTM_recurrent_dropout': 0.0031944602435452934}. Best is trial 38 with value: 1.0030939915675743.\n"
          ]
        },
        {
          "name": "stdout",
          "output_type": "stream",
          "text": [
            "2025-08-26 15:02:18,473 - Trial 73 finished with value: 1.0010559658002327 and parameters: {'year_start': 2021, 'LoadupSamples_time_inc_factor': 61, 'LSTM_units': 32, 'LSTM_learning_rate': 0.0002879622566211125, 'LSTM_l1': 1.6624288183479618e-05, 'LSTM_l2': 0.00011283583600353749, 'LSTM_dropout': 0.006755031262180423, 'LSTM_inter_dropout': 0.017225473510870445, 'LSTM_recurrent_dropout': 0.0031944602435452934}. Best is trial 38 with value: 1.0030939915675743.\n",
            "2025-08-26 15:02:27,636 - Non-finite/too-large values in train y time: 48 samples.\n",
            "2025-08-26 15:02:27,636 - Removing 48 samples from training data.\n"
          ]
        },
        {
          "name": "stderr",
          "output_type": "stream",
          "text": [
            "Epochs:   0%|          | 0/2 [00:00<?, ?it/s]"
          ]
        },
        {
          "name": "stdout",
          "output_type": "stream",
          "text": [
            "2025-08-26 15:03:07,662 - Epoch 1/2 — Train RMSE: 0.4559 — Validation RMSE: 0.4241\n"
          ]
        },
        {
          "name": "stderr",
          "output_type": "stream",
          "text": [
            "Epochs:  50%|█████     | 1/2 [00:29<00:29, 29.58s/it]"
          ]
        },
        {
          "name": "stdout",
          "output_type": "stream",
          "text": [
            "2025-08-26 15:03:37,054 - Epoch 2/2 — Train RMSE: 0.4360 — Validation RMSE: 0.4239\n"
          ]
        },
        {
          "name": "stderr",
          "output_type": "stream",
          "text": [
            "Epochs: 100%|██████████| 2/2 [00:58<00:00, 29.48s/it]\n"
          ]
        },
        {
          "name": "stdout",
          "output_type": "stream",
          "text": [
            "2025-08-26 15:03:41,113 - Trial 74 with params: {'idxAfterPrediction': 4, 'timesteps': 75, 'target_option': 'last', 'LoadupSamples_time_scaling_stretch': True, 'LoadupSamples_time_inc_factor': 81, 'LSTM_units': 32, 'LSTM_num_layers': 1, 'LSTM_dropout': 0.007714550735417049, 'LSTM_recurrent_dropout': 0.0050634467975169545, 'LSTM_learning_rate': 0.00019982841189518388, 'LSTM_optimizer': 'adam', 'LSTM_bidirectional': True, 'LSTM_batch_size': 4096, 'LSTM_epochs': 2, 'LSTM_l1': 3.118298045883945e-05, 'LSTM_l2': 0.00022563174052990496, 'LSTM_inter_dropout': 0.025910293081713078, 'LSTM_input_gaussian_noise': 0.001, 'LSTM_conv1d': True, 'LSTM_conv1d_kernel_size': 3, 'LSTM_loss': 'mse', 'LSTM_transformer_before': False, 'LSTM_transformer_after': False, 'LSTM_tf_d_model': 0, 'LSTM_tf_nhead': 2, 'LSTM_tf_num_layers_before': 0, 'LSTM_tf_num_layers_after': 0, 'LSTM_tf_dim_feedforward': 8, 'LSTM_tf_dropout': 0.1, 'LSTM_tf_positional_encoding': True, 'LSTM_tf_pool': 'last', 'year_start': 2020, 'is_single_feature': False}\n",
            "2025-08-26 15:03:41,113 -   q2: 0.9900\n",
            "2025-08-26 15:03:41,113 -   Duration0: 0:01:03.170619\n",
            "2025-08-26 15:03:41,113 -   Val RMSE0 adjusted: 0.0052\n",
            "2025-08-26 15:03:41,130 -   Mean all prediction: 0.9993\n",
            "2025-08-26 15:03:41,130 -   Mean above prediction: 1.0046\n",
            "2025-08-26 15:03:41,130 -   Mean below prediction: 0.9959\n",
            "2025-08-26 15:03:41,130 -   Quantile 0.99 for distance in mask above: 1007.5999999999967\n",
            "2025-08-26 15:03:41,130 -   Quantile 0.99 for distance in mask below: 801.4799999999996\n",
            "2025-08-26 15:03:41,130 -   Ratio for quantile-distance-to-length above: 0.0015\n",
            "2025-08-26 15:03:41,130 -   Ratio for quantile-distance-to-length below: 0.0012\n",
            "2025-08-26 15:03:41,130 -   Score: 1.0012\n"
          ]
        },
        {
          "name": "stderr",
          "output_type": "stream",
          "text": [
            "[I 2025-08-26 15:03:41,196] Trial 74 finished with value: 1.0011574435748358 and parameters: {'year_start': 2020, 'LoadupSamples_time_inc_factor': 81, 'LSTM_units': 32, 'LSTM_learning_rate': 0.00019982841189518388, 'LSTM_l1': 3.118298045883945e-05, 'LSTM_l2': 0.00022563174052990496, 'LSTM_dropout': 0.007714550735417049, 'LSTM_inter_dropout': 0.025910293081713078, 'LSTM_recurrent_dropout': 0.0050634467975169545}. Best is trial 38 with value: 1.0030939915675743.\n"
          ]
        },
        {
          "name": "stdout",
          "output_type": "stream",
          "text": [
            "2025-08-26 15:03:41,196 - Trial 74 finished with value: 1.0011574435748358 and parameters: {'year_start': 2020, 'LoadupSamples_time_inc_factor': 81, 'LSTM_units': 32, 'LSTM_learning_rate': 0.00019982841189518388, 'LSTM_l1': 3.118298045883945e-05, 'LSTM_l2': 0.00022563174052990496, 'LSTM_dropout': 0.007714550735417049, 'LSTM_inter_dropout': 0.025910293081713078, 'LSTM_recurrent_dropout': 0.0050634467975169545}. Best is trial 38 with value: 1.0030939915675743.\n",
            "2025-08-26 15:03:48,714 - Non-finite/too-large values in train y time: 48 samples.\n",
            "2025-08-26 15:03:48,714 - Removing 48 samples from training data.\n"
          ]
        },
        {
          "name": "stderr",
          "output_type": "stream",
          "text": [
            "Epochs:   0%|          | 0/2 [00:00<?, ?it/s]"
          ]
        },
        {
          "name": "stdout",
          "output_type": "stream",
          "text": [
            "2025-08-26 15:04:20,799 - Epoch 1/2 — Train RMSE: 0.4558 — Validation RMSE: 0.4032\n"
          ]
        },
        {
          "name": "stderr",
          "output_type": "stream",
          "text": [
            "Epochs:  50%|█████     | 1/2 [00:23<00:23, 23.58s/it]"
          ]
        },
        {
          "name": "stdout",
          "output_type": "stream",
          "text": [
            "2025-08-26 15:04:44,267 - Epoch 2/2 — Train RMSE: 0.4123 — Validation RMSE: 0.4028\n"
          ]
        },
        {
          "name": "stderr",
          "output_type": "stream",
          "text": [
            "Epochs: 100%|██████████| 2/2 [00:47<00:00, 23.53s/it]\n"
          ]
        },
        {
          "name": "stdout",
          "output_type": "stream",
          "text": [
            "2025-08-26 15:04:48,362 - Trial 75 with params: {'idxAfterPrediction': 4, 'timesteps': 75, 'target_option': 'last', 'LoadupSamples_time_scaling_stretch': True, 'LoadupSamples_time_inc_factor': 61, 'LSTM_units': 32, 'LSTM_num_layers': 1, 'LSTM_dropout': 0.00537592725733812, 'LSTM_recurrent_dropout': 0.0010887769916743404, 'LSTM_learning_rate': 0.00030288786201035557, 'LSTM_optimizer': 'adam', 'LSTM_bidirectional': True, 'LSTM_batch_size': 4096, 'LSTM_epochs': 2, 'LSTM_l1': 2.9031448134338317e-05, 'LSTM_l2': 0.00016634722150759245, 'LSTM_inter_dropout': 0.010801127502457515, 'LSTM_input_gaussian_noise': 0.001, 'LSTM_conv1d': True, 'LSTM_conv1d_kernel_size': 3, 'LSTM_loss': 'mse', 'LSTM_transformer_before': False, 'LSTM_transformer_after': False, 'LSTM_tf_d_model': 0, 'LSTM_tf_nhead': 2, 'LSTM_tf_num_layers_before': 0, 'LSTM_tf_num_layers_after': 0, 'LSTM_tf_dim_feedforward': 8, 'LSTM_tf_dropout': 0.1, 'LSTM_tf_positional_encoding': True, 'LSTM_tf_pool': 'last', 'year_start': 2021, 'is_single_feature': False}\n",
            "2025-08-26 15:04:48,362 -   q2: 0.9900\n",
            "2025-08-26 15:04:48,362 -   Duration0: 0:00:51.261815\n",
            "2025-08-26 15:04:48,362 -   Val RMSE0 adjusted: 0.0066\n",
            "2025-08-26 15:04:48,362 -   Mean all prediction: 0.9993\n",
            "2025-08-26 15:04:48,362 -   Mean above prediction: 1.0067\n",
            "2025-08-26 15:04:48,375 -   Mean below prediction: 0.9963\n",
            "2025-08-26 15:04:48,376 -   Quantile 0.99 for distance in mask above: 1006.3999999999978\n",
            "2025-08-26 15:04:48,376 -   Quantile 0.99 for distance in mask below: 855.6799999999985\n",
            "2025-08-26 15:04:48,376 -   Ratio for quantile-distance-to-length above: 0.0015\n",
            "2025-08-26 15:04:48,376 -   Ratio for quantile-distance-to-length below: 0.0013\n",
            "2025-08-26 15:04:48,376 -   Score: 1.0017\n"
          ]
        },
        {
          "name": "stderr",
          "output_type": "stream",
          "text": [
            "[I 2025-08-26 15:04:48,426] Trial 75 finished with value: 1.0016664374537902 and parameters: {'year_start': 2021, 'LoadupSamples_time_inc_factor': 61, 'LSTM_units': 32, 'LSTM_learning_rate': 0.00030288786201035557, 'LSTM_l1': 2.9031448134338317e-05, 'LSTM_l2': 0.00016634722150759245, 'LSTM_dropout': 0.00537592725733812, 'LSTM_inter_dropout': 0.010801127502457515, 'LSTM_recurrent_dropout': 0.0010887769916743404}. Best is trial 38 with value: 1.0030939915675743.\n"
          ]
        },
        {
          "name": "stdout",
          "output_type": "stream",
          "text": [
            "2025-08-26 15:04:48,426 - Trial 75 finished with value: 1.0016664374537902 and parameters: {'year_start': 2021, 'LoadupSamples_time_inc_factor': 61, 'LSTM_units': 32, 'LSTM_learning_rate': 0.00030288786201035557, 'LSTM_l1': 2.9031448134338317e-05, 'LSTM_l2': 0.00016634722150759245, 'LSTM_dropout': 0.00537592725733812, 'LSTM_inter_dropout': 0.010801127502457515, 'LSTM_recurrent_dropout': 0.0010887769916743404}. Best is trial 38 with value: 1.0030939915675743.\n",
            "2025-08-26 15:04:54,322 - Non-finite/too-large values in train y time: 48 samples.\n",
            "2025-08-26 15:04:54,322 - Removing 48 samples from training data.\n"
          ]
        },
        {
          "name": "stderr",
          "output_type": "stream",
          "text": [
            "Epochs:   0%|          | 0/2 [00:00<?, ?it/s]"
          ]
        },
        {
          "name": "stdout",
          "output_type": "stream",
          "text": [
            "2025-08-26 15:05:18,708 - Epoch 1/2 — Train RMSE: 0.4453 — Validation RMSE: 0.4038\n"
          ]
        },
        {
          "name": "stderr",
          "output_type": "stream",
          "text": [
            "Epochs:  50%|█████     | 1/2 [00:17<00:17, 17.87s/it]"
          ]
        },
        {
          "name": "stdout",
          "output_type": "stream",
          "text": [
            "2025-08-26 15:05:36,413 - Epoch 2/2 — Train RMSE: 0.4181 — Validation RMSE: 0.4033\n"
          ]
        },
        {
          "name": "stderr",
          "output_type": "stream",
          "text": [
            "Epochs: 100%|██████████| 2/2 [00:35<00:00, 17.78s/it]\n"
          ]
        },
        {
          "name": "stdout",
          "output_type": "stream",
          "text": [
            "2025-08-26 15:05:40,021 - Trial 76 with params: {'idxAfterPrediction': 4, 'timesteps': 75, 'target_option': 'last', 'LoadupSamples_time_scaling_stretch': True, 'LoadupSamples_time_inc_factor': 61, 'LSTM_units': 32, 'LSTM_num_layers': 1, 'LSTM_dropout': 0.0073860122763288235, 'LSTM_recurrent_dropout': 0.0038441086870539707, 'LSTM_learning_rate': 0.00033232158236592827, 'LSTM_optimizer': 'adam', 'LSTM_bidirectional': True, 'LSTM_batch_size': 4096, 'LSTM_epochs': 2, 'LSTM_l1': 3.463714423356913e-05, 'LSTM_l2': 0.00010101689334784669, 'LSTM_inter_dropout': 0.01633947920258751, 'LSTM_input_gaussian_noise': 0.001, 'LSTM_conv1d': True, 'LSTM_conv1d_kernel_size': 3, 'LSTM_loss': 'mse', 'LSTM_transformer_before': False, 'LSTM_transformer_after': False, 'LSTM_tf_d_model': 0, 'LSTM_tf_nhead': 2, 'LSTM_tf_num_layers_before': 0, 'LSTM_tf_num_layers_after': 0, 'LSTM_tf_dim_feedforward': 8, 'LSTM_tf_dropout': 0.1, 'LSTM_tf_positional_encoding': True, 'LSTM_tf_pool': 'last', 'year_start': 2022, 'is_single_feature': False}\n",
            "2025-08-26 15:05:40,021 -   q2: 0.9900\n",
            "2025-08-26 15:05:40,021 -   Duration0: 0:00:39.282761\n",
            "2025-08-26 15:05:40,021 -   Val RMSE0 adjusted: 0.0066\n",
            "2025-08-26 15:05:40,021 -   Mean all prediction: 0.9993\n",
            "2025-08-26 15:05:40,021 -   Mean above prediction: 1.0032\n",
            "2025-08-26 15:05:40,021 -   Mean below prediction: 0.9950\n",
            "2025-08-26 15:05:40,037 -   Quantile 0.99 for distance in mask above: 1063.4799999999996\n",
            "2025-08-26 15:05:40,037 -   Quantile 0.99 for distance in mask below: 806.3999999999978\n",
            "2025-08-26 15:05:40,038 -   Ratio for quantile-distance-to-length above: 0.0016\n",
            "2025-08-26 15:05:40,040 -   Ratio for quantile-distance-to-length below: 0.0012\n",
            "2025-08-26 15:05:40,040 -   Score: 1.0008\n"
          ]
        },
        {
          "name": "stderr",
          "output_type": "stream",
          "text": [
            "[I 2025-08-26 15:05:40,074] Trial 76 finished with value: 1.0008069523181014 and parameters: {'year_start': 2022, 'LoadupSamples_time_inc_factor': 61, 'LSTM_units': 32, 'LSTM_learning_rate': 0.00033232158236592827, 'LSTM_l1': 3.463714423356913e-05, 'LSTM_l2': 0.00010101689334784669, 'LSTM_dropout': 0.0073860122763288235, 'LSTM_inter_dropout': 0.01633947920258751, 'LSTM_recurrent_dropout': 0.0038441086870539707}. Best is trial 38 with value: 1.0030939915675743.\n"
          ]
        },
        {
          "name": "stdout",
          "output_type": "stream",
          "text": [
            "2025-08-26 15:05:40,074 - Trial 76 finished with value: 1.0008069523181014 and parameters: {'year_start': 2022, 'LoadupSamples_time_inc_factor': 61, 'LSTM_units': 32, 'LSTM_learning_rate': 0.00033232158236592827, 'LSTM_l1': 3.463714423356913e-05, 'LSTM_l2': 0.00010101689334784669, 'LSTM_dropout': 0.0073860122763288235, 'LSTM_inter_dropout': 0.01633947920258751, 'LSTM_recurrent_dropout': 0.0038441086870539707}. Best is trial 38 with value: 1.0030939915675743.\n",
            "2025-08-26 15:05:49,174 - Non-finite/too-large values in train y time: 48 samples.\n",
            "2025-08-26 15:05:49,191 - Removing 48 samples from training data.\n"
          ]
        },
        {
          "name": "stderr",
          "output_type": "stream",
          "text": [
            "Epochs:   0%|          | 0/2 [00:00<?, ?it/s]"
          ]
        },
        {
          "name": "stdout",
          "output_type": "stream",
          "text": [
            "2025-08-26 15:06:29,077 - Epoch 1/2 — Train RMSE: 0.4422 — Validation RMSE: 0.4105\n"
          ]
        },
        {
          "name": "stderr",
          "output_type": "stream",
          "text": [
            "Epochs:  50%|█████     | 1/2 [00:29<00:29, 29.46s/it]"
          ]
        },
        {
          "name": "stdout",
          "output_type": "stream",
          "text": [
            "2025-08-26 15:06:58,491 - Epoch 2/2 — Train RMSE: 0.4242 — Validation RMSE: 0.4096\n"
          ]
        },
        {
          "name": "stderr",
          "output_type": "stream",
          "text": [
            "Epochs: 100%|██████████| 2/2 [00:58<00:00, 29.44s/it]\n"
          ]
        },
        {
          "name": "stdout",
          "output_type": "stream",
          "text": [
            "2025-08-26 15:07:02,249 - Trial 77 with params: {'idxAfterPrediction': 4, 'timesteps': 75, 'target_option': 'last', 'LoadupSamples_time_scaling_stretch': True, 'LoadupSamples_time_inc_factor': 66, 'LSTM_units': 32, 'LSTM_num_layers': 1, 'LSTM_dropout': 0.005990872904632584, 'LSTM_recurrent_dropout': 0.0013700522193836532, 'LSTM_learning_rate': 0.0003775851687968143, 'LSTM_optimizer': 'adam', 'LSTM_bidirectional': True, 'LSTM_batch_size': 4096, 'LSTM_epochs': 2, 'LSTM_l1': 1.918840186463594e-05, 'LSTM_l2': 0.0001309096245610015, 'LSTM_inter_dropout': 0.019408327536895174, 'LSTM_input_gaussian_noise': 0.001, 'LSTM_conv1d': True, 'LSTM_conv1d_kernel_size': 3, 'LSTM_loss': 'mse', 'LSTM_transformer_before': False, 'LSTM_transformer_after': False, 'LSTM_tf_d_model': 0, 'LSTM_tf_nhead': 2, 'LSTM_tf_num_layers_before': 0, 'LSTM_tf_num_layers_after': 0, 'LSTM_tf_dim_feedforward': 8, 'LSTM_tf_dropout': 0.1, 'LSTM_tf_positional_encoding': True, 'LSTM_tf_pool': 'last', 'year_start': 2020, 'is_single_feature': False}\n",
            "2025-08-26 15:07:02,249 -   q2: 0.9900\n",
            "2025-08-26 15:07:02,249 -   Duration0: 0:01:02.769985\n",
            "2025-08-26 15:07:02,249 -   Val RMSE0 adjusted: 0.0062\n",
            "2025-08-26 15:07:02,249 -   Mean all prediction: 0.9993\n",
            "2025-08-26 15:07:02,249 -   Mean above prediction: 1.0067\n",
            "2025-08-26 15:07:02,249 -   Mean below prediction: 0.9968\n",
            "2025-08-26 15:07:02,266 -   Quantile 0.99 for distance in mask above: 903.159999999998\n",
            "2025-08-26 15:07:02,267 -   Quantile 0.99 for distance in mask below: 861.4799999999996\n",
            "2025-08-26 15:07:02,267 -   Ratio for quantile-distance-to-length above: 0.0014\n",
            "2025-08-26 15:07:02,267 -   Ratio for quantile-distance-to-length below: 0.0013\n",
            "2025-08-26 15:07:02,267 -   Score: 1.0017\n"
          ]
        },
        {
          "name": "stderr",
          "output_type": "stream",
          "text": [
            "[I 2025-08-26 15:07:02,331] Trial 77 finished with value: 1.0016698990695452 and parameters: {'year_start': 2020, 'LoadupSamples_time_inc_factor': 66, 'LSTM_units': 32, 'LSTM_learning_rate': 0.0003775851687968143, 'LSTM_l1': 1.918840186463594e-05, 'LSTM_l2': 0.0001309096245610015, 'LSTM_dropout': 0.005990872904632584, 'LSTM_inter_dropout': 0.019408327536895174, 'LSTM_recurrent_dropout': 0.0013700522193836532}. Best is trial 38 with value: 1.0030939915675743.\n"
          ]
        },
        {
          "name": "stdout",
          "output_type": "stream",
          "text": [
            "2025-08-26 15:07:02,331 - Trial 77 finished with value: 1.0016698990695452 and parameters: {'year_start': 2020, 'LoadupSamples_time_inc_factor': 66, 'LSTM_units': 32, 'LSTM_learning_rate': 0.0003775851687968143, 'LSTM_l1': 1.918840186463594e-05, 'LSTM_l2': 0.0001309096245610015, 'LSTM_dropout': 0.005990872904632584, 'LSTM_inter_dropout': 0.019408327536895174, 'LSTM_recurrent_dropout': 0.0013700522193836532}. Best is trial 38 with value: 1.0030939915675743.\n",
            "2025-08-26 15:07:11,439 - Non-finite/too-large values in train y time: 48 samples.\n",
            "2025-08-26 15:07:11,439 - Removing 48 samples from training data.\n"
          ]
        },
        {
          "name": "stderr",
          "output_type": "stream",
          "text": [
            "Epochs:   0%|          | 0/2 [00:00<?, ?it/s]"
          ]
        },
        {
          "name": "stdout",
          "output_type": "stream",
          "text": [
            "2025-08-26 15:07:51,425 - Epoch 1/2 — Train RMSE: 0.4322 — Validation RMSE: 0.4021\n"
          ]
        },
        {
          "name": "stderr",
          "output_type": "stream",
          "text": [
            "Epochs:  50%|█████     | 1/2 [00:29<00:29, 29.60s/it]"
          ]
        },
        {
          "name": "stdout",
          "output_type": "stream",
          "text": [
            "2025-08-26 15:08:20,803 - Epoch 2/2 — Train RMSE: 0.4163 — Validation RMSE: 0.4020\n"
          ]
        },
        {
          "name": "stderr",
          "output_type": "stream",
          "text": [
            "Epochs: 100%|██████████| 2/2 [00:58<00:00, 29.49s/it]\n"
          ]
        },
        {
          "name": "stdout",
          "output_type": "stream",
          "text": [
            "2025-08-26 15:08:24,863 - Trial 78 with params: {'idxAfterPrediction': 4, 'timesteps': 75, 'target_option': 'last', 'LoadupSamples_time_scaling_stretch': True, 'LoadupSamples_time_inc_factor': 61, 'LSTM_units': 32, 'LSTM_num_layers': 1, 'LSTM_dropout': 0.009080784690130158, 'LSTM_recurrent_dropout': 0.0061982406060667895, 'LSTM_learning_rate': 0.0002567855748085831, 'LSTM_optimizer': 'adam', 'LSTM_bidirectional': True, 'LSTM_batch_size': 4096, 'LSTM_epochs': 2, 'LSTM_l1': 2.2435306334937663e-05, 'LSTM_l2': 0.00018323602567448286, 'LSTM_inter_dropout': 0.013931705129793737, 'LSTM_input_gaussian_noise': 0.001, 'LSTM_conv1d': True, 'LSTM_conv1d_kernel_size': 3, 'LSTM_loss': 'mse', 'LSTM_transformer_before': False, 'LSTM_transformer_after': False, 'LSTM_tf_d_model': 0, 'LSTM_tf_nhead': 2, 'LSTM_tf_num_layers_before': 0, 'LSTM_tf_num_layers_after': 0, 'LSTM_tf_dim_feedforward': 8, 'LSTM_tf_dropout': 0.1, 'LSTM_tf_positional_encoding': True, 'LSTM_tf_pool': 'last', 'year_start': 2020, 'is_single_feature': False}\n",
            "2025-08-26 15:08:24,863 -   q2: 0.9900\n",
            "2025-08-26 15:08:24,863 -   Duration0: 0:01:03.170918\n",
            "2025-08-26 15:08:24,863 -   Val RMSE0 adjusted: 0.0066\n",
            "2025-08-26 15:08:24,863 -   Mean all prediction: 0.9993\n",
            "2025-08-26 15:08:24,863 -   Mean above prediction: 1.0068\n",
            "2025-08-26 15:08:24,863 -   Mean below prediction: 0.9977\n",
            "2025-08-26 15:08:24,863 -   Quantile 0.99 for distance in mask above: 911.1999999999989\n",
            "2025-08-26 15:08:24,863 -   Quantile 0.99 for distance in mask below: 899.9199999999983\n",
            "2025-08-26 15:08:24,863 -   Ratio for quantile-distance-to-length above: 0.0014\n",
            "2025-08-26 15:08:24,863 -   Ratio for quantile-distance-to-length below: 0.0014\n",
            "2025-08-26 15:08:24,863 -   Score: 1.0017\n"
          ]
        },
        {
          "name": "stderr",
          "output_type": "stream",
          "text": [
            "[I 2025-08-26 15:08:24,930] Trial 78 finished with value: 1.0017057247918333 and parameters: {'year_start': 2020, 'LoadupSamples_time_inc_factor': 61, 'LSTM_units': 32, 'LSTM_learning_rate': 0.0002567855748085831, 'LSTM_l1': 2.2435306334937663e-05, 'LSTM_l2': 0.00018323602567448286, 'LSTM_dropout': 0.009080784690130158, 'LSTM_inter_dropout': 0.013931705129793737, 'LSTM_recurrent_dropout': 0.0061982406060667895}. Best is trial 38 with value: 1.0030939915675743.\n"
          ]
        },
        {
          "name": "stdout",
          "output_type": "stream",
          "text": [
            "2025-08-26 15:08:24,930 - Trial 78 finished with value: 1.0017057247918333 and parameters: {'year_start': 2020, 'LoadupSamples_time_inc_factor': 61, 'LSTM_units': 32, 'LSTM_learning_rate': 0.0002567855748085831, 'LSTM_l1': 2.2435306334937663e-05, 'LSTM_l2': 0.00018323602567448286, 'LSTM_dropout': 0.009080784690130158, 'LSTM_inter_dropout': 0.013931705129793737, 'LSTM_recurrent_dropout': 0.0061982406060667895}. Best is trial 38 with value: 1.0030939915675743.\n",
            "2025-08-26 15:08:32,412 - Non-finite/too-large values in train y time: 48 samples.\n",
            "2025-08-26 15:08:32,412 - Removing 48 samples from training data.\n"
          ]
        },
        {
          "name": "stderr",
          "output_type": "stream",
          "text": [
            "Epochs:   0%|          | 0/2 [00:00<?, ?it/s]"
          ]
        },
        {
          "name": "stdout",
          "output_type": "stream",
          "text": [
            "2025-08-26 15:09:04,415 - Epoch 1/2 — Train RMSE: 0.4619 — Validation RMSE: 0.4196\n"
          ]
        },
        {
          "name": "stderr",
          "output_type": "stream",
          "text": [
            "Epochs:  50%|█████     | 1/2 [00:23<00:23, 23.55s/it]"
          ]
        },
        {
          "name": "stdout",
          "output_type": "stream",
          "text": [
            "2025-08-26 15:09:27,799 - Epoch 2/2 — Train RMSE: 0.4277 — Validation RMSE: 0.4194\n"
          ]
        },
        {
          "name": "stderr",
          "output_type": "stream",
          "text": [
            "Epochs: 100%|██████████| 2/2 [00:46<00:00, 23.47s/it]\n"
          ]
        },
        {
          "name": "stdout",
          "output_type": "stream",
          "text": [
            "2025-08-26 15:09:31,875 - Trial 79 with params: {'idxAfterPrediction': 4, 'timesteps': 75, 'target_option': 'last', 'LoadupSamples_time_scaling_stretch': True, 'LoadupSamples_time_inc_factor': 76, 'LSTM_units': 32, 'LSTM_num_layers': 1, 'LSTM_dropout': 0.009932476684375208, 'LSTM_recurrent_dropout': 0.0015167519550875952, 'LSTM_learning_rate': 0.0001751201290421305, 'LSTM_optimizer': 'adam', 'LSTM_bidirectional': True, 'LSTM_batch_size': 4096, 'LSTM_epochs': 2, 'LSTM_l1': 3.774233753588003e-05, 'LSTM_l2': 0.0008620004135780302, 'LSTM_inter_dropout': 0.020744227412359113, 'LSTM_input_gaussian_noise': 0.001, 'LSTM_conv1d': True, 'LSTM_conv1d_kernel_size': 3, 'LSTM_loss': 'mse', 'LSTM_transformer_before': False, 'LSTM_transformer_after': False, 'LSTM_tf_d_model': 0, 'LSTM_tf_nhead': 2, 'LSTM_tf_num_layers_before': 0, 'LSTM_tf_num_layers_after': 0, 'LSTM_tf_dim_feedforward': 8, 'LSTM_tf_dropout': 0.1, 'LSTM_tf_positional_encoding': True, 'LSTM_tf_pool': 'last', 'year_start': 2021, 'is_single_feature': False}\n",
            "2025-08-26 15:09:31,875 -   q2: 0.9900\n",
            "2025-08-26 15:09:31,875 -   Duration0: 0:00:51.144523\n",
            "2025-08-26 15:09:31,875 -   Val RMSE0 adjusted: 0.0055\n",
            "2025-08-26 15:09:31,892 -   Mean all prediction: 0.9993\n",
            "2025-08-26 15:09:31,892 -   Mean above prediction: 1.0055\n",
            "2025-08-26 15:09:31,892 -   Mean below prediction: 0.9953\n",
            "2025-08-26 15:09:31,892 -   Quantile 0.99 for distance in mask above: 931.6399999999976\n",
            "2025-08-26 15:09:31,892 -   Quantile 0.99 for distance in mask below: 874.0799999999963\n",
            "2025-08-26 15:09:31,892 -   Ratio for quantile-distance-to-length above: 0.0014\n",
            "2025-08-26 15:09:31,892 -   Ratio for quantile-distance-to-length below: 0.0013\n",
            "2025-08-26 15:09:31,892 -   Score: 1.0014\n"
          ]
        },
        {
          "name": "stderr",
          "output_type": "stream",
          "text": [
            "[I 2025-08-26 15:09:31,953] Trial 79 finished with value: 1.0013600420968798 and parameters: {'year_start': 2021, 'LoadupSamples_time_inc_factor': 76, 'LSTM_units': 32, 'LSTM_learning_rate': 0.0001751201290421305, 'LSTM_l1': 3.774233753588003e-05, 'LSTM_l2': 0.0008620004135780302, 'LSTM_dropout': 0.009932476684375208, 'LSTM_inter_dropout': 0.020744227412359113, 'LSTM_recurrent_dropout': 0.0015167519550875952}. Best is trial 38 with value: 1.0030939915675743.\n"
          ]
        },
        {
          "name": "stdout",
          "output_type": "stream",
          "text": [
            "2025-08-26 15:09:31,953 - Trial 79 finished with value: 1.0013600420968798 and parameters: {'year_start': 2021, 'LoadupSamples_time_inc_factor': 76, 'LSTM_units': 32, 'LSTM_learning_rate': 0.0001751201290421305, 'LSTM_l1': 3.774233753588003e-05, 'LSTM_l2': 0.0008620004135780302, 'LSTM_dropout': 0.009932476684375208, 'LSTM_inter_dropout': 0.020744227412359113, 'LSTM_recurrent_dropout': 0.0015167519550875952}. Best is trial 38 with value: 1.0030939915675743.\n",
            "2025-08-26 15:09:41,112 - Non-finite/too-large values in train y time: 48 samples.\n",
            "2025-08-26 15:09:41,112 - Removing 48 samples from training data.\n"
          ]
        },
        {
          "name": "stderr",
          "output_type": "stream",
          "text": [
            "Epochs:   0%|          | 0/2 [00:00<?, ?it/s]"
          ]
        },
        {
          "name": "stdout",
          "output_type": "stream",
          "text": [
            "2025-08-26 15:10:21,082 - Epoch 1/2 — Train RMSE: 0.4208 — Validation RMSE: 0.4022\n"
          ]
        },
        {
          "name": "stderr",
          "output_type": "stream",
          "text": [
            "Epochs:  50%|█████     | 1/2 [00:29<00:29, 29.53s/it]"
          ]
        },
        {
          "name": "stdout",
          "output_type": "stream",
          "text": [
            "2025-08-26 15:10:50,496 - Epoch 2/2 — Train RMSE: 0.4166 — Validation RMSE: 0.4020\n"
          ]
        },
        {
          "name": "stderr",
          "output_type": "stream",
          "text": [
            "Epochs: 100%|██████████| 2/2 [00:58<00:00, 29.48s/it]\n"
          ]
        },
        {
          "name": "stdout",
          "output_type": "stream",
          "text": [
            "2025-08-26 15:10:54,538 - Trial 80 with params: {'idxAfterPrediction': 4, 'timesteps': 75, 'target_option': 'last', 'LoadupSamples_time_scaling_stretch': True, 'LoadupSamples_time_inc_factor': 61, 'LSTM_units': 32, 'LSTM_num_layers': 1, 'LSTM_dropout': 0.00407822368020314, 'LSTM_recurrent_dropout': 0.0029255294752783597, 'LSTM_learning_rate': 0.0002093621998900295, 'LSTM_optimizer': 'adam', 'LSTM_bidirectional': True, 'LSTM_batch_size': 4096, 'LSTM_epochs': 2, 'LSTM_l1': 2.6786643601069446e-05, 'LSTM_l2': 0.0002934948982674319, 'LSTM_inter_dropout': 0.07074594687469538, 'LSTM_input_gaussian_noise': 0.001, 'LSTM_conv1d': True, 'LSTM_conv1d_kernel_size': 3, 'LSTM_loss': 'mse', 'LSTM_transformer_before': False, 'LSTM_transformer_after': False, 'LSTM_tf_d_model': 0, 'LSTM_tf_nhead': 2, 'LSTM_tf_num_layers_before': 0, 'LSTM_tf_num_layers_after': 0, 'LSTM_tf_dim_feedforward': 8, 'LSTM_tf_dropout': 0.1, 'LSTM_tf_positional_encoding': True, 'LSTM_tf_pool': 'last', 'year_start': 2020, 'is_single_feature': False}\n",
            "2025-08-26 15:10:54,538 -   q2: 0.9900\n",
            "2025-08-26 15:10:54,538 -   Duration0: 0:01:03.120808\n",
            "2025-08-26 15:10:54,538 -   Val RMSE0 adjusted: 0.0066\n",
            "2025-08-26 15:10:54,538 -   Mean all prediction: 0.9993\n",
            "2025-08-26 15:10:54,538 -   Mean above prediction: 1.0052\n",
            "2025-08-26 15:10:54,538 -   Mean below prediction: 0.9960\n",
            "2025-08-26 15:10:54,538 -   Quantile 0.99 for distance in mask above: 1072.3999999999978\n",
            "2025-08-26 15:10:54,538 -   Quantile 0.99 for distance in mask below: 803.2399999999998\n",
            "2025-08-26 15:10:54,538 -   Ratio for quantile-distance-to-length above: 0.0016\n",
            "2025-08-26 15:10:54,538 -   Ratio for quantile-distance-to-length below: 0.0012\n",
            "2025-08-26 15:10:54,538 -   Score: 1.0013\n"
          ]
        },
        {
          "name": "stderr",
          "output_type": "stream",
          "text": [
            "[I 2025-08-26 15:10:54,607] Trial 80 finished with value: 1.0013013261309707 and parameters: {'year_start': 2020, 'LoadupSamples_time_inc_factor': 61, 'LSTM_units': 32, 'LSTM_learning_rate': 0.0002093621998900295, 'LSTM_l1': 2.6786643601069446e-05, 'LSTM_l2': 0.0002934948982674319, 'LSTM_dropout': 0.00407822368020314, 'LSTM_inter_dropout': 0.07074594687469538, 'LSTM_recurrent_dropout': 0.0029255294752783597}. Best is trial 38 with value: 1.0030939915675743.\n"
          ]
        },
        {
          "name": "stdout",
          "output_type": "stream",
          "text": [
            "2025-08-26 15:10:54,607 - Trial 80 finished with value: 1.0013013261309707 and parameters: {'year_start': 2020, 'LoadupSamples_time_inc_factor': 61, 'LSTM_units': 32, 'LSTM_learning_rate': 0.0002093621998900295, 'LSTM_l1': 2.6786643601069446e-05, 'LSTM_l2': 0.0002934948982674319, 'LSTM_dropout': 0.00407822368020314, 'LSTM_inter_dropout': 0.07074594687469538, 'LSTM_recurrent_dropout': 0.0029255294752783597}. Best is trial 38 with value: 1.0030939915675743.\n",
            "2025-08-26 15:11:02,153 - Non-finite/too-large values in train y time: 48 samples.\n",
            "2025-08-26 15:11:02,154 - Removing 48 samples from training data.\n"
          ]
        },
        {
          "name": "stderr",
          "output_type": "stream",
          "text": [
            "Epochs:   0%|          | 0/2 [00:00<?, ?it/s]"
          ]
        },
        {
          "name": "stdout",
          "output_type": "stream",
          "text": [
            "2025-08-26 15:11:34,459 - Epoch 1/2 — Train RMSE: 0.4497 — Validation RMSE: 0.4024\n"
          ]
        },
        {
          "name": "stderr",
          "output_type": "stream",
          "text": [
            "Epochs:  50%|█████     | 1/2 [00:23<00:23, 23.76s/it]"
          ]
        },
        {
          "name": "stdout",
          "output_type": "stream",
          "text": [
            "2025-08-26 15:11:57,925 - Epoch 2/2 — Train RMSE: 0.4113 — Validation RMSE: 0.4022\n"
          ]
        },
        {
          "name": "stderr",
          "output_type": "stream",
          "text": [
            "Epochs: 100%|██████████| 2/2 [00:47<00:00, 23.61s/it]\n"
          ]
        },
        {
          "name": "stdout",
          "output_type": "stream",
          "text": [
            "2025-08-26 15:12:01,984 - Trial 81 with params: {'idxAfterPrediction': 4, 'timesteps': 75, 'target_option': 'last', 'LoadupSamples_time_scaling_stretch': True, 'LoadupSamples_time_inc_factor': 61, 'LSTM_units': 32, 'LSTM_num_layers': 1, 'LSTM_dropout': 0.006683730495076949, 'LSTM_recurrent_dropout': 0.0011050735467890496, 'LSTM_learning_rate': 0.00020187865096847678, 'LSTM_optimizer': 'adam', 'LSTM_bidirectional': True, 'LSTM_batch_size': 4096, 'LSTM_epochs': 2, 'LSTM_l1': 1.4129371625805271e-05, 'LSTM_l2': 0.00011373931128251554, 'LSTM_inter_dropout': 0.018200596828814343, 'LSTM_input_gaussian_noise': 0.001, 'LSTM_conv1d': True, 'LSTM_conv1d_kernel_size': 3, 'LSTM_loss': 'mse', 'LSTM_transformer_before': False, 'LSTM_transformer_after': False, 'LSTM_tf_d_model': 0, 'LSTM_tf_nhead': 2, 'LSTM_tf_num_layers_before': 0, 'LSTM_tf_num_layers_after': 0, 'LSTM_tf_dim_feedforward': 8, 'LSTM_tf_dropout': 0.1, 'LSTM_tf_positional_encoding': True, 'LSTM_tf_pool': 'last', 'year_start': 2021, 'is_single_feature': False}\n",
            "2025-08-26 15:12:01,984 -   q2: 0.9900\n",
            "2025-08-26 15:12:01,984 -   Duration0: 0:00:51.391673\n",
            "2025-08-26 15:12:01,984 -   Val RMSE0 adjusted: 0.0066\n",
            "2025-08-26 15:12:01,984 -   Mean all prediction: 0.9993\n",
            "2025-08-26 15:12:01,984 -   Mean above prediction: 1.0067\n",
            "2025-08-26 15:12:01,984 -   Mean below prediction: 0.9962\n",
            "2025-08-26 15:12:01,984 -   Quantile 0.99 for distance in mask above: 1034.0\n",
            "2025-08-26 15:12:01,984 -   Quantile 0.99 for distance in mask below: 817.359999999997\n",
            "2025-08-26 15:12:01,984 -   Ratio for quantile-distance-to-length above: 0.0016\n",
            "2025-08-26 15:12:01,984 -   Ratio for quantile-distance-to-length below: 0.0012\n",
            "2025-08-26 15:12:01,984 -   Score: 1.0017\n"
          ]
        },
        {
          "name": "stderr",
          "output_type": "stream",
          "text": [
            "[I 2025-08-26 15:12:02,041] Trial 81 finished with value: 1.0016719951506246 and parameters: {'year_start': 2021, 'LoadupSamples_time_inc_factor': 61, 'LSTM_units': 32, 'LSTM_learning_rate': 0.00020187865096847678, 'LSTM_l1': 1.4129371625805271e-05, 'LSTM_l2': 0.00011373931128251554, 'LSTM_dropout': 0.006683730495076949, 'LSTM_inter_dropout': 0.018200596828814343, 'LSTM_recurrent_dropout': 0.0011050735467890496}. Best is trial 38 with value: 1.0030939915675743.\n"
          ]
        },
        {
          "name": "stdout",
          "output_type": "stream",
          "text": [
            "2025-08-26 15:12:02,041 - Trial 81 finished with value: 1.0016719951506246 and parameters: {'year_start': 2021, 'LoadupSamples_time_inc_factor': 61, 'LSTM_units': 32, 'LSTM_learning_rate': 0.00020187865096847678, 'LSTM_l1': 1.4129371625805271e-05, 'LSTM_l2': 0.00011373931128251554, 'LSTM_dropout': 0.006683730495076949, 'LSTM_inter_dropout': 0.018200596828814343, 'LSTM_recurrent_dropout': 0.0011050735467890496}. Best is trial 38 with value: 1.0030939915675743.\n",
            "2025-08-26 15:12:09,584 - Non-finite/too-large values in train y time: 48 samples.\n",
            "2025-08-26 15:12:09,584 - Removing 48 samples from training data.\n"
          ]
        },
        {
          "name": "stderr",
          "output_type": "stream",
          "text": [
            "Epochs:   0%|          | 0/2 [00:00<?, ?it/s]"
          ]
        },
        {
          "name": "stdout",
          "output_type": "stream",
          "text": [
            "2025-08-26 15:12:41,503 - Epoch 1/2 — Train RMSE: 0.4457 — Validation RMSE: 0.4023\n"
          ]
        },
        {
          "name": "stderr",
          "output_type": "stream",
          "text": [
            "Epochs:  50%|█████     | 1/2 [00:23<00:23, 23.47s/it]"
          ]
        },
        {
          "name": "stdout",
          "output_type": "stream",
          "text": [
            "2025-08-26 15:13:04,907 - Epoch 2/2 — Train RMSE: 0.4112 — Validation RMSE: 0.4021\n"
          ]
        },
        {
          "name": "stderr",
          "output_type": "stream",
          "text": [
            "Epochs: 100%|██████████| 2/2 [00:46<00:00, 23.44s/it]\n"
          ]
        },
        {
          "name": "stdout",
          "output_type": "stream",
          "text": [
            "2025-08-26 15:13:08,913 - Trial 82 with params: {'idxAfterPrediction': 4, 'timesteps': 75, 'target_option': 'last', 'LoadupSamples_time_scaling_stretch': True, 'LoadupSamples_time_inc_factor': 61, 'LSTM_units': 32, 'LSTM_num_layers': 1, 'LSTM_dropout': 0.005485320301258723, 'LSTM_recurrent_dropout': 0.0010533715180235889, 'LSTM_learning_rate': 0.00019460127904120104, 'LSTM_optimizer': 'adam', 'LSTM_bidirectional': True, 'LSTM_batch_size': 4096, 'LSTM_epochs': 2, 'LSTM_l1': 1.331250145378728e-05, 'LSTM_l2': 0.00012038706216514776, 'LSTM_inter_dropout': 0.02271581095477139, 'LSTM_input_gaussian_noise': 0.001, 'LSTM_conv1d': True, 'LSTM_conv1d_kernel_size': 3, 'LSTM_loss': 'mse', 'LSTM_transformer_before': False, 'LSTM_transformer_after': False, 'LSTM_tf_d_model': 0, 'LSTM_tf_nhead': 2, 'LSTM_tf_num_layers_before': 0, 'LSTM_tf_num_layers_after': 0, 'LSTM_tf_dim_feedforward': 8, 'LSTM_tf_dropout': 0.1, 'LSTM_tf_positional_encoding': True, 'LSTM_tf_pool': 'last', 'year_start': 2021, 'is_single_feature': False}\n",
            "2025-08-26 15:13:08,913 -   q2: 0.9900\n",
            "2025-08-26 15:13:08,913 -   Duration0: 0:00:50.996102\n",
            "2025-08-26 15:13:08,913 -   Val RMSE0 adjusted: 0.0066\n",
            "2025-08-26 15:13:08,913 -   Mean all prediction: 0.9993\n",
            "2025-08-26 15:13:08,929 -   Mean above prediction: 1.0118\n",
            "2025-08-26 15:13:08,930 -   Mean below prediction: 0.9977\n",
            "2025-08-26 15:13:08,930 -   Quantile 0.99 for distance in mask above: 966.7199999999993\n",
            "2025-08-26 15:13:08,930 -   Quantile 0.99 for distance in mask below: 865.3999999999978\n",
            "2025-08-26 15:13:08,930 -   Ratio for quantile-distance-to-length above: 0.0015\n",
            "2025-08-26 15:13:08,933 -   Ratio for quantile-distance-to-length below: 0.0013\n",
            "2025-08-26 15:13:08,933 -   Score: 1.0029\n"
          ]
        },
        {
          "name": "stderr",
          "output_type": "stream",
          "text": [
            "[I 2025-08-26 15:13:08,980] Trial 82 finished with value: 1.0029300226701838 and parameters: {'year_start': 2021, 'LoadupSamples_time_inc_factor': 61, 'LSTM_units': 32, 'LSTM_learning_rate': 0.00019460127904120104, 'LSTM_l1': 1.331250145378728e-05, 'LSTM_l2': 0.00012038706216514776, 'LSTM_dropout': 0.005485320301258723, 'LSTM_inter_dropout': 0.02271581095477139, 'LSTM_recurrent_dropout': 0.0010533715180235889}. Best is trial 38 with value: 1.0030939915675743.\n"
          ]
        },
        {
          "name": "stdout",
          "output_type": "stream",
          "text": [
            "2025-08-26 15:13:08,980 - Trial 82 finished with value: 1.0029300226701838 and parameters: {'year_start': 2021, 'LoadupSamples_time_inc_factor': 61, 'LSTM_units': 32, 'LSTM_learning_rate': 0.00019460127904120104, 'LSTM_l1': 1.331250145378728e-05, 'LSTM_l2': 0.00012038706216514776, 'LSTM_dropout': 0.005485320301258723, 'LSTM_inter_dropout': 0.02271581095477139, 'LSTM_recurrent_dropout': 0.0010533715180235889}. Best is trial 38 with value: 1.0030939915675743.\n",
            "2025-08-26 15:13:16,529 - Non-finite/too-large values in train y time: 48 samples.\n",
            "2025-08-26 15:13:16,529 - Removing 48 samples from training data.\n"
          ]
        },
        {
          "name": "stderr",
          "output_type": "stream",
          "text": [
            "Epochs:   0%|          | 0/2 [00:00<?, ?it/s]"
          ]
        },
        {
          "name": "stdout",
          "output_type": "stream",
          "text": [
            "2025-08-26 15:13:48,531 - Epoch 1/2 — Train RMSE: 0.4552 — Validation RMSE: 0.4027\n"
          ]
        },
        {
          "name": "stderr",
          "output_type": "stream",
          "text": [
            "Epochs:  50%|█████     | 1/2 [00:23<00:23, 23.51s/it]"
          ]
        },
        {
          "name": "stdout",
          "output_type": "stream",
          "text": [
            "2025-08-26 15:14:11,850 - Epoch 2/2 — Train RMSE: 0.4117 — Validation RMSE: 0.4024\n"
          ]
        },
        {
          "name": "stderr",
          "output_type": "stream",
          "text": [
            "Epochs: 100%|██████████| 2/2 [00:46<00:00, 23.41s/it]\n"
          ]
        },
        {
          "name": "stdout",
          "output_type": "stream",
          "text": [
            "2025-08-26 15:14:15,892 - Trial 83 with params: {'idxAfterPrediction': 4, 'timesteps': 75, 'target_option': 'last', 'LoadupSamples_time_scaling_stretch': True, 'LoadupSamples_time_inc_factor': 61, 'LSTM_units': 32, 'LSTM_num_layers': 1, 'LSTM_dropout': 0.004929169686080545, 'LSTM_recurrent_dropout': 0.001170072508889599, 'LSTM_learning_rate': 0.00019419158671698405, 'LSTM_optimizer': 'adam', 'LSTM_bidirectional': True, 'LSTM_batch_size': 4096, 'LSTM_epochs': 2, 'LSTM_l1': 1.3409790373212597e-05, 'LSTM_l2': 0.00013633672127746544, 'LSTM_inter_dropout': 0.022443403916990404, 'LSTM_input_gaussian_noise': 0.001, 'LSTM_conv1d': True, 'LSTM_conv1d_kernel_size': 3, 'LSTM_loss': 'mse', 'LSTM_transformer_before': False, 'LSTM_transformer_after': False, 'LSTM_tf_d_model': 0, 'LSTM_tf_nhead': 2, 'LSTM_tf_num_layers_before': 0, 'LSTM_tf_num_layers_after': 0, 'LSTM_tf_dim_feedforward': 8, 'LSTM_tf_dropout': 0.1, 'LSTM_tf_positional_encoding': True, 'LSTM_tf_pool': 'last', 'year_start': 2021, 'is_single_feature': False}\n",
            "2025-08-26 15:14:15,892 -   q2: 0.9900\n",
            "2025-08-26 15:14:15,892 -   Duration0: 0:00:50.971812\n",
            "2025-08-26 15:14:15,892 -   Val RMSE0 adjusted: 0.0066\n",
            "2025-08-26 15:14:15,892 -   Mean all prediction: 0.9993\n",
            "2025-08-26 15:14:15,892 -   Mean above prediction: 1.0032\n",
            "2025-08-26 15:14:15,892 -   Mean below prediction: 0.9972\n",
            "2025-08-26 15:14:15,892 -   Quantile 0.99 for distance in mask above: 869.2399999999998\n",
            "2025-08-26 15:14:15,907 -   Quantile 0.99 for distance in mask below: 902.4799999999996\n",
            "2025-08-26 15:14:15,908 -   Ratio for quantile-distance-to-length above: 0.0013\n",
            "2025-08-26 15:14:15,909 -   Ratio for quantile-distance-to-length below: 0.0014\n",
            "2025-08-26 15:14:15,909 -   Score: 1.0008\n"
          ]
        },
        {
          "name": "stderr",
          "output_type": "stream",
          "text": [
            "[I 2025-08-26 15:14:15,961] Trial 83 finished with value: 1.0007914181557742 and parameters: {'year_start': 2021, 'LoadupSamples_time_inc_factor': 61, 'LSTM_units': 32, 'LSTM_learning_rate': 0.00019419158671698405, 'LSTM_l1': 1.3409790373212597e-05, 'LSTM_l2': 0.00013633672127746544, 'LSTM_dropout': 0.004929169686080545, 'LSTM_inter_dropout': 0.022443403916990404, 'LSTM_recurrent_dropout': 0.001170072508889599}. Best is trial 38 with value: 1.0030939915675743.\n"
          ]
        },
        {
          "name": "stdout",
          "output_type": "stream",
          "text": [
            "2025-08-26 15:14:15,961 - Trial 83 finished with value: 1.0007914181557742 and parameters: {'year_start': 2021, 'LoadupSamples_time_inc_factor': 61, 'LSTM_units': 32, 'LSTM_learning_rate': 0.00019419158671698405, 'LSTM_l1': 1.3409790373212597e-05, 'LSTM_l2': 0.00013633672127746544, 'LSTM_dropout': 0.004929169686080545, 'LSTM_inter_dropout': 0.022443403916990404, 'LSTM_recurrent_dropout': 0.001170072508889599}. Best is trial 38 with value: 1.0030939915675743.\n",
            "2025-08-26 15:14:23,425 - Non-finite/too-large values in train y time: 48 samples.\n",
            "2025-08-26 15:14:23,425 - Removing 48 samples from training data.\n"
          ]
        },
        {
          "name": "stderr",
          "output_type": "stream",
          "text": [
            "Epochs:   0%|          | 0/2 [00:00<?, ?it/s]"
          ]
        },
        {
          "name": "stdout",
          "output_type": "stream",
          "text": [
            "2025-08-26 15:14:55,461 - Epoch 1/2 — Train RMSE: 0.4397 — Validation RMSE: 0.4038\n"
          ]
        },
        {
          "name": "stderr",
          "output_type": "stream",
          "text": [
            "Epochs:  50%|█████     | 1/2 [00:23<00:23, 23.63s/it]"
          ]
        },
        {
          "name": "stdout",
          "output_type": "stream",
          "text": [
            "2025-08-26 15:15:18,948 - Epoch 2/2 — Train RMSE: 0.4126 — Validation RMSE: 0.4032\n"
          ]
        },
        {
          "name": "stderr",
          "output_type": "stream",
          "text": [
            "Epochs: 100%|██████████| 2/2 [00:47<00:00, 23.56s/it]\n"
          ]
        },
        {
          "name": "stdout",
          "output_type": "stream",
          "text": [
            "2025-08-26 15:15:23,055 - Trial 84 with params: {'idxAfterPrediction': 4, 'timesteps': 75, 'target_option': 'last', 'LoadupSamples_time_scaling_stretch': True, 'LoadupSamples_time_inc_factor': 61, 'LSTM_units': 32, 'LSTM_num_layers': 1, 'LSTM_dropout': 0.005969604942254382, 'LSTM_recurrent_dropout': 0.0012213605853070868, 'LSTM_learning_rate': 0.0003956118073931538, 'LSTM_optimizer': 'adam', 'LSTM_bidirectional': True, 'LSTM_batch_size': 4096, 'LSTM_epochs': 2, 'LSTM_l1': 1.2212865849992078e-05, 'LSTM_l2': 0.00015102843362041078, 'LSTM_inter_dropout': 0.02411385220560108, 'LSTM_input_gaussian_noise': 0.001, 'LSTM_conv1d': True, 'LSTM_conv1d_kernel_size': 3, 'LSTM_loss': 'mse', 'LSTM_transformer_before': False, 'LSTM_transformer_after': False, 'LSTM_tf_d_model': 0, 'LSTM_tf_nhead': 2, 'LSTM_tf_num_layers_before': 0, 'LSTM_tf_num_layers_after': 0, 'LSTM_tf_dim_feedforward': 8, 'LSTM_tf_dropout': 0.1, 'LSTM_tf_positional_encoding': True, 'LSTM_tf_pool': 'last', 'year_start': 2021, 'is_single_feature': False}\n",
            "2025-08-26 15:15:23,055 -   q2: 0.9900\n",
            "2025-08-26 15:15:23,055 -   Duration0: 0:00:51.345236\n",
            "2025-08-26 15:15:23,055 -   Val RMSE0 adjusted: 0.0066\n",
            "2025-08-26 15:15:23,055 -   Mean all prediction: 0.9993\n",
            "2025-08-26 15:15:23,055 -   Mean above prediction: 1.0086\n",
            "2025-08-26 15:15:23,055 -   Mean below prediction: 0.9984\n",
            "2025-08-26 15:15:23,055 -   Quantile 0.99 for distance in mask above: 900.7199999999993\n",
            "2025-08-26 15:15:23,055 -   Quantile 0.99 for distance in mask below: 920.0\n",
            "2025-08-26 15:15:23,055 -   Ratio for quantile-distance-to-length above: 0.0014\n",
            "2025-08-26 15:15:23,055 -   Ratio for quantile-distance-to-length below: 0.0014\n",
            "2025-08-26 15:15:23,055 -   Score: 1.0021\n"
          ]
        },
        {
          "name": "stderr",
          "output_type": "stream",
          "text": [
            "[I 2025-08-26 15:15:23,120] Trial 84 finished with value: 1.0021472246617638 and parameters: {'year_start': 2021, 'LoadupSamples_time_inc_factor': 61, 'LSTM_units': 32, 'LSTM_learning_rate': 0.0003956118073931538, 'LSTM_l1': 1.2212865849992078e-05, 'LSTM_l2': 0.00015102843362041078, 'LSTM_dropout': 0.005969604942254382, 'LSTM_inter_dropout': 0.02411385220560108, 'LSTM_recurrent_dropout': 0.0012213605853070868}. Best is trial 38 with value: 1.0030939915675743.\n"
          ]
        },
        {
          "name": "stdout",
          "output_type": "stream",
          "text": [
            "2025-08-26 15:15:23,120 - Trial 84 finished with value: 1.0021472246617638 and parameters: {'year_start': 2021, 'LoadupSamples_time_inc_factor': 61, 'LSTM_units': 32, 'LSTM_learning_rate': 0.0003956118073931538, 'LSTM_l1': 1.2212865849992078e-05, 'LSTM_l2': 0.00015102843362041078, 'LSTM_dropout': 0.005969604942254382, 'LSTM_inter_dropout': 0.02411385220560108, 'LSTM_recurrent_dropout': 0.0012213605853070868}. Best is trial 38 with value: 1.0030939915675743.\n",
            "2025-08-26 15:15:30,638 - Non-finite/too-large values in train y time: 48 samples.\n",
            "2025-08-26 15:15:30,638 - Removing 48 samples from training data.\n"
          ]
        },
        {
          "name": "stderr",
          "output_type": "stream",
          "text": [
            "Epochs:   0%|          | 0/2 [00:00<?, ?it/s]"
          ]
        },
        {
          "name": "stdout",
          "output_type": "stream",
          "text": [
            "2025-08-26 15:16:02,676 - Epoch 1/2 — Train RMSE: 0.4288 — Validation RMSE: 0.4026\n"
          ]
        },
        {
          "name": "stderr",
          "output_type": "stream",
          "text": [
            "Epochs:  50%|█████     | 1/2 [00:23<00:23, 23.50s/it]"
          ]
        },
        {
          "name": "stdout",
          "output_type": "stream",
          "text": [
            "2025-08-26 15:16:26,025 - Epoch 2/2 — Train RMSE: 0.4116 — Validation RMSE: 0.4024\n"
          ]
        },
        {
          "name": "stderr",
          "output_type": "stream",
          "text": [
            "Epochs: 100%|██████████| 2/2 [00:46<00:00, 23.42s/it]\n"
          ]
        },
        {
          "name": "stdout",
          "output_type": "stream",
          "text": [
            "2025-08-26 15:16:30,119 - Trial 85 with params: {'idxAfterPrediction': 4, 'timesteps': 75, 'target_option': 'last', 'LoadupSamples_time_scaling_stretch': True, 'LoadupSamples_time_inc_factor': 61, 'LSTM_units': 32, 'LSTM_num_layers': 1, 'LSTM_dropout': 0.002161172001390219, 'LSTM_recurrent_dropout': 0.0014059038231085848, 'LSTM_learning_rate': 0.0003292833027395538, 'LSTM_optimizer': 'adam', 'LSTM_bidirectional': True, 'LSTM_batch_size': 4096, 'LSTM_epochs': 2, 'LSTM_l1': 1.553912085626114e-05, 'LSTM_l2': 0.0001155193338872841, 'LSTM_inter_dropout': 0.015174208648131182, 'LSTM_input_gaussian_noise': 0.001, 'LSTM_conv1d': True, 'LSTM_conv1d_kernel_size': 3, 'LSTM_loss': 'mse', 'LSTM_transformer_before': False, 'LSTM_transformer_after': False, 'LSTM_tf_d_model': 0, 'LSTM_tf_nhead': 2, 'LSTM_tf_num_layers_before': 0, 'LSTM_tf_num_layers_after': 0, 'LSTM_tf_dim_feedforward': 8, 'LSTM_tf_dropout': 0.1, 'LSTM_tf_positional_encoding': True, 'LSTM_tf_pool': 'last', 'year_start': 2021, 'is_single_feature': False}\n",
            "2025-08-26 15:16:30,134 -   q2: 0.9900\n",
            "2025-08-26 15:16:30,134 -   Duration0: 0:00:51.097409\n",
            "2025-08-26 15:16:30,134 -   Val RMSE0 adjusted: 0.0066\n",
            "2025-08-26 15:16:30,134 -   Mean all prediction: 0.9993\n",
            "2025-08-26 15:16:30,134 -   Mean above prediction: 1.0082\n",
            "2025-08-26 15:16:30,134 -   Mean below prediction: 0.9982\n",
            "2025-08-26 15:16:30,134 -   Quantile 0.99 for distance in mask above: 882.1199999999972\n",
            "2025-08-26 15:16:30,134 -   Quantile 0.99 for distance in mask below: 943.7499999999891\n",
            "2025-08-26 15:16:30,134 -   Ratio for quantile-distance-to-length above: 0.0013\n",
            "2025-08-26 15:16:30,134 -   Ratio for quantile-distance-to-length below: 0.0014\n",
            "2025-08-26 15:16:30,134 -   Score: 1.0021\n"
          ]
        },
        {
          "name": "stderr",
          "output_type": "stream",
          "text": [
            "[I 2025-08-26 15:16:30,201] Trial 85 finished with value: 1.002052270613287 and parameters: {'year_start': 2021, 'LoadupSamples_time_inc_factor': 61, 'LSTM_units': 32, 'LSTM_learning_rate': 0.0003292833027395538, 'LSTM_l1': 1.553912085626114e-05, 'LSTM_l2': 0.0001155193338872841, 'LSTM_dropout': 0.002161172001390219, 'LSTM_inter_dropout': 0.015174208648131182, 'LSTM_recurrent_dropout': 0.0014059038231085848}. Best is trial 38 with value: 1.0030939915675743.\n"
          ]
        },
        {
          "name": "stdout",
          "output_type": "stream",
          "text": [
            "2025-08-26 15:16:30,201 - Trial 85 finished with value: 1.002052270613287 and parameters: {'year_start': 2021, 'LoadupSamples_time_inc_factor': 61, 'LSTM_units': 32, 'LSTM_learning_rate': 0.0003292833027395538, 'LSTM_l1': 1.553912085626114e-05, 'LSTM_l2': 0.0001155193338872841, 'LSTM_dropout': 0.002161172001390219, 'LSTM_inter_dropout': 0.015174208648131182, 'LSTM_recurrent_dropout': 0.0014059038231085848}. Best is trial 38 with value: 1.0030939915675743.\n",
            "2025-08-26 15:16:36,080 - Non-finite/too-large values in train y time: 48 samples.\n",
            "2025-08-26 15:16:36,080 - Removing 48 samples from training data.\n"
          ]
        },
        {
          "name": "stderr",
          "output_type": "stream",
          "text": [
            "Epochs:   0%|          | 0/2 [00:00<?, ?it/s]"
          ]
        },
        {
          "name": "stdout",
          "output_type": "stream",
          "text": [
            "2025-08-26 15:16:58,197 - Epoch 1/2 — Train RMSE: 0.5458 — Validation RMSE: 0.4253\n"
          ]
        },
        {
          "name": "stderr",
          "output_type": "stream",
          "text": [
            "Epochs:  50%|█████     | 1/2 [00:15<00:15, 15.50s/it]"
          ]
        },
        {
          "name": "stdout",
          "output_type": "stream",
          "text": [
            "2025-08-26 15:17:14,062 - Epoch 2/2 — Train RMSE: 0.4365 — Validation RMSE: 0.4245\n"
          ]
        },
        {
          "name": "stderr",
          "output_type": "stream",
          "text": [
            "Epochs: 100%|██████████| 2/2 [00:31<00:00, 15.68s/it]\n"
          ]
        },
        {
          "name": "stdout",
          "output_type": "stream",
          "text": [
            "2025-08-26 15:17:17,603 - Trial 86 with params: {'idxAfterPrediction': 4, 'timesteps': 75, 'target_option': 'last', 'LoadupSamples_time_scaling_stretch': True, 'LoadupSamples_time_inc_factor': 81, 'LSTM_units': 16, 'LSTM_num_layers': 1, 'LSTM_dropout': 0.002569972000196873, 'LSTM_recurrent_dropout': 0.0012942363688047585, 'LSTM_learning_rate': 0.00014226903964146244, 'LSTM_optimizer': 'adam', 'LSTM_bidirectional': True, 'LSTM_batch_size': 4096, 'LSTM_epochs': 2, 'LSTM_l1': 1.062121051145653e-05, 'LSTM_l2': 0.00016823361991913325, 'LSTM_inter_dropout': 0.029079848920707887, 'LSTM_input_gaussian_noise': 0.001, 'LSTM_conv1d': True, 'LSTM_conv1d_kernel_size': 3, 'LSTM_loss': 'mse', 'LSTM_transformer_before': False, 'LSTM_transformer_after': False, 'LSTM_tf_d_model': 0, 'LSTM_tf_nhead': 2, 'LSTM_tf_num_layers_before': 0, 'LSTM_tf_num_layers_after': 0, 'LSTM_tf_dim_feedforward': 8, 'LSTM_tf_dropout': 0.1, 'LSTM_tf_positional_encoding': True, 'LSTM_tf_pool': 'last', 'year_start': 2022, 'is_single_feature': False}\n",
            "2025-08-26 15:17:17,603 -   q2: 0.9900\n",
            "2025-08-26 15:17:17,603 -   Duration0: 0:00:34.976054\n",
            "2025-08-26 15:17:17,603 -   Val RMSE0 adjusted: 0.0052\n",
            "2025-08-26 15:17:17,603 -   Mean all prediction: 0.9993\n",
            "2025-08-26 15:17:17,603 -   Mean above prediction: 1.0094\n",
            "2025-08-26 15:17:17,603 -   Mean below prediction: 0.9974\n",
            "2025-08-26 15:17:17,603 -   Quantile 0.99 for distance in mask above: 928.7199999999993\n",
            "2025-08-26 15:17:17,619 -   Quantile 0.99 for distance in mask below: 860.0\n",
            "2025-08-26 15:17:17,620 -   Ratio for quantile-distance-to-length above: 0.0014\n",
            "2025-08-26 15:17:17,621 -   Ratio for quantile-distance-to-length below: 0.0013\n",
            "2025-08-26 15:17:17,621 -   Score: 1.0024\n"
          ]
        },
        {
          "name": "stderr",
          "output_type": "stream",
          "text": [
            "[I 2025-08-26 15:17:17,654] Trial 86 finished with value: 1.002351173013465 and parameters: {'year_start': 2022, 'LoadupSamples_time_inc_factor': 81, 'LSTM_units': 16, 'LSTM_learning_rate': 0.00014226903964146244, 'LSTM_l1': 1.062121051145653e-05, 'LSTM_l2': 0.00016823361991913325, 'LSTM_dropout': 0.002569972000196873, 'LSTM_inter_dropout': 0.029079848920707887, 'LSTM_recurrent_dropout': 0.0012942363688047585}. Best is trial 38 with value: 1.0030939915675743.\n"
          ]
        },
        {
          "name": "stdout",
          "output_type": "stream",
          "text": [
            "2025-08-26 15:17:17,654 - Trial 86 finished with value: 1.002351173013465 and parameters: {'year_start': 2022, 'LoadupSamples_time_inc_factor': 81, 'LSTM_units': 16, 'LSTM_learning_rate': 0.00014226903964146244, 'LSTM_l1': 1.062121051145653e-05, 'LSTM_l2': 0.00016823361991913325, 'LSTM_dropout': 0.002569972000196873, 'LSTM_inter_dropout': 0.029079848920707887, 'LSTM_recurrent_dropout': 0.0012942363688047585}. Best is trial 38 with value: 1.0030939915675743.\n",
            "2025-08-26 15:17:25,203 - Non-finite/too-large values in train y time: 48 samples.\n",
            "2025-08-26 15:17:25,203 - Removing 48 samples from training data.\n"
          ]
        },
        {
          "name": "stderr",
          "output_type": "stream",
          "text": [
            "Epochs:   0%|          | 0/2 [00:00<?, ?it/s]"
          ]
        },
        {
          "name": "stdout",
          "output_type": "stream",
          "text": [
            "2025-08-26 15:17:57,172 - Epoch 1/2 — Train RMSE: 0.4407 — Validation RMSE: 0.4040\n"
          ]
        },
        {
          "name": "stderr",
          "output_type": "stream",
          "text": [
            "Epochs:  50%|█████     | 1/2 [00:23<00:23, 23.51s/it]"
          ]
        },
        {
          "name": "stdout",
          "output_type": "stream",
          "text": [
            "2025-08-26 15:18:20,576 - Epoch 2/2 — Train RMSE: 0.4130 — Validation RMSE: 0.4034\n"
          ]
        },
        {
          "name": "stderr",
          "output_type": "stream",
          "text": [
            "Epochs: 100%|██████████| 2/2 [00:46<00:00, 23.46s/it]\n"
          ]
        },
        {
          "name": "stdout",
          "output_type": "stream",
          "text": [
            "2025-08-26 15:18:24,297 - Trial 87 with params: {'idxAfterPrediction': 4, 'timesteps': 75, 'target_option': 'last', 'LoadupSamples_time_scaling_stretch': True, 'LoadupSamples_time_inc_factor': 61, 'LSTM_units': 32, 'LSTM_num_layers': 1, 'LSTM_dropout': 0.004331051941090088, 'LSTM_recurrent_dropout': 0.0010683160882732456, 'LSTM_learning_rate': 0.00035396876856579865, 'LSTM_optimizer': 'adam', 'LSTM_bidirectional': True, 'LSTM_batch_size': 4096, 'LSTM_epochs': 2, 'LSTM_l1': 1.101472475677906e-05, 'LSTM_l2': 0.00020661144347248282, 'LSTM_inter_dropout': 0.02336845085693897, 'LSTM_input_gaussian_noise': 0.001, 'LSTM_conv1d': True, 'LSTM_conv1d_kernel_size': 3, 'LSTM_loss': 'mse', 'LSTM_transformer_before': False, 'LSTM_transformer_after': False, 'LSTM_tf_d_model': 0, 'LSTM_tf_nhead': 2, 'LSTM_tf_num_layers_before': 0, 'LSTM_tf_num_layers_after': 0, 'LSTM_tf_dim_feedforward': 8, 'LSTM_tf_dropout': 0.1, 'LSTM_tf_positional_encoding': True, 'LSTM_tf_pool': 'last', 'year_start': 2021, 'is_single_feature': False}\n",
            "2025-08-26 15:18:24,298 -   q2: 0.9900\n",
            "2025-08-26 15:18:24,298 -   Duration0: 0:00:50.750544\n",
            "2025-08-26 15:18:24,298 -   Val RMSE0 adjusted: 0.0066\n",
            "2025-08-26 15:18:24,298 -   Mean all prediction: 0.9993\n",
            "2025-08-26 15:18:24,298 -   Mean above prediction: 1.0046\n",
            "2025-08-26 15:18:24,298 -   Mean below prediction: 0.9960\n",
            "2025-08-26 15:18:24,298 -   Quantile 0.99 for distance in mask above: 1076.0\n",
            "2025-08-26 15:18:24,298 -   Quantile 0.99 for distance in mask below: 801.4799999999996\n",
            "2025-08-26 15:18:24,298 -   Ratio for quantile-distance-to-length above: 0.0016\n",
            "2025-08-26 15:18:24,298 -   Ratio for quantile-distance-to-length below: 0.0012\n",
            "2025-08-26 15:18:24,298 -   Score: 1.0011\n"
          ]
        },
        {
          "name": "stderr",
          "output_type": "stream",
          "text": [
            "[I 2025-08-26 15:18:24,355] Trial 87 finished with value: 1.0011456623657162 and parameters: {'year_start': 2021, 'LoadupSamples_time_inc_factor': 61, 'LSTM_units': 32, 'LSTM_learning_rate': 0.00035396876856579865, 'LSTM_l1': 1.101472475677906e-05, 'LSTM_l2': 0.00020661144347248282, 'LSTM_dropout': 0.004331051941090088, 'LSTM_inter_dropout': 0.02336845085693897, 'LSTM_recurrent_dropout': 0.0010683160882732456}. Best is trial 38 with value: 1.0030939915675743.\n"
          ]
        },
        {
          "name": "stdout",
          "output_type": "stream",
          "text": [
            "2025-08-26 15:18:24,355 - Trial 87 finished with value: 1.0011456623657162 and parameters: {'year_start': 2021, 'LoadupSamples_time_inc_factor': 61, 'LSTM_units': 32, 'LSTM_learning_rate': 0.00035396876856579865, 'LSTM_l1': 1.101472475677906e-05, 'LSTM_l2': 0.00020661144347248282, 'LSTM_dropout': 0.004331051941090088, 'LSTM_inter_dropout': 0.02336845085693897, 'LSTM_recurrent_dropout': 0.0010683160882732456}. Best is trial 38 with value: 1.0030939915675743.\n",
            "2025-08-26 15:18:33,504 - Non-finite/too-large values in train y time: 48 samples.\n",
            "2025-08-26 15:18:33,510 - Removing 48 samples from training data.\n"
          ]
        },
        {
          "name": "stderr",
          "output_type": "stream",
          "text": [
            "Epochs:   0%|          | 0/2 [00:00<?, ?it/s]"
          ]
        },
        {
          "name": "stdout",
          "output_type": "stream",
          "text": [
            "2025-08-26 15:19:13,338 - Epoch 1/2 — Train RMSE: 0.4476 — Validation RMSE: 0.4089\n"
          ]
        },
        {
          "name": "stderr",
          "output_type": "stream",
          "text": [
            "Epochs:  50%|█████     | 1/2 [00:29<00:29, 29.48s/it]"
          ]
        },
        {
          "name": "stdout",
          "output_type": "stream",
          "text": [
            "2025-08-26 15:19:42,735 - Epoch 2/2 — Train RMSE: 0.4222 — Validation RMSE: 0.4087\n"
          ]
        },
        {
          "name": "stderr",
          "output_type": "stream",
          "text": [
            "Epochs: 100%|██████████| 2/2 [00:58<00:00, 29.44s/it]\n"
          ]
        },
        {
          "name": "stdout",
          "output_type": "stream",
          "text": [
            "2025-08-26 15:19:46,780 - Trial 88 with params: {'idxAfterPrediction': 4, 'timesteps': 75, 'target_option': 'last', 'LoadupSamples_time_scaling_stretch': True, 'LoadupSamples_time_inc_factor': 66, 'LSTM_units': 32, 'LSTM_num_layers': 1, 'LSTM_dropout': 0.005225623323790739, 'LSTM_recurrent_dropout': 0.00156053367886483, 'LSTM_learning_rate': 0.00019043184937199016, 'LSTM_optimizer': 'adam', 'LSTM_bidirectional': True, 'LSTM_batch_size': 4096, 'LSTM_epochs': 2, 'LSTM_l1': 2.395784603807785e-05, 'LSTM_l2': 0.00012489598179060444, 'LSTM_inter_dropout': 0.012148224283000122, 'LSTM_input_gaussian_noise': 0.001, 'LSTM_conv1d': True, 'LSTM_conv1d_kernel_size': 3, 'LSTM_loss': 'mse', 'LSTM_transformer_before': False, 'LSTM_transformer_after': False, 'LSTM_tf_d_model': 0, 'LSTM_tf_nhead': 2, 'LSTM_tf_num_layers_before': 0, 'LSTM_tf_num_layers_after': 0, 'LSTM_tf_dim_feedforward': 8, 'LSTM_tf_dropout': 0.1, 'LSTM_tf_positional_encoding': True, 'LSTM_tf_pool': 'last', 'year_start': 2020, 'is_single_feature': False}\n",
            "2025-08-26 15:19:46,780 -   q2: 0.9900\n",
            "2025-08-26 15:19:46,780 -   Duration0: 0:01:03.118458\n",
            "2025-08-26 15:19:46,780 -   Val RMSE0 adjusted: 0.0062\n",
            "2025-08-26 15:19:46,794 -   Mean all prediction: 0.9993\n",
            "2025-08-26 15:19:46,794 -   Mean above prediction: 1.0035\n",
            "2025-08-26 15:19:46,794 -   Mean below prediction: 0.9960\n",
            "2025-08-26 15:19:46,794 -   Quantile 0.99 for distance in mask above: 975.609999999997\n",
            "2025-08-26 15:19:46,794 -   Quantile 0.99 for distance in mask below: 829.1999999999989\n",
            "2025-08-26 15:19:46,794 -   Ratio for quantile-distance-to-length above: 0.0015\n",
            "2025-08-26 15:19:46,794 -   Ratio for quantile-distance-to-length below: 0.0013\n",
            "2025-08-26 15:19:46,794 -   Score: 1.0009\n"
          ]
        },
        {
          "name": "stderr",
          "output_type": "stream",
          "text": [
            "[I 2025-08-26 15:19:46,861] Trial 88 finished with value: 1.00087746413345 and parameters: {'year_start': 2020, 'LoadupSamples_time_inc_factor': 66, 'LSTM_units': 32, 'LSTM_learning_rate': 0.00019043184937199016, 'LSTM_l1': 2.395784603807785e-05, 'LSTM_l2': 0.00012489598179060444, 'LSTM_dropout': 0.005225623323790739, 'LSTM_inter_dropout': 0.012148224283000122, 'LSTM_recurrent_dropout': 0.00156053367886483}. Best is trial 38 with value: 1.0030939915675743.\n"
          ]
        },
        {
          "name": "stdout",
          "output_type": "stream",
          "text": [
            "2025-08-26 15:19:46,861 - Trial 88 finished with value: 1.00087746413345 and parameters: {'year_start': 2020, 'LoadupSamples_time_inc_factor': 66, 'LSTM_units': 32, 'LSTM_learning_rate': 0.00019043184937199016, 'LSTM_l1': 2.395784603807785e-05, 'LSTM_l2': 0.00012489598179060444, 'LSTM_dropout': 0.005225623323790739, 'LSTM_inter_dropout': 0.012148224283000122, 'LSTM_recurrent_dropout': 0.00156053367886483}. Best is trial 38 with value: 1.0030939915675743.\n",
            "2025-08-26 15:19:54,344 - Non-finite/too-large values in train y time: 48 samples.\n",
            "2025-08-26 15:19:54,344 - Removing 48 samples from training data.\n"
          ]
        },
        {
          "name": "stderr",
          "output_type": "stream",
          "text": [
            "Epochs:   0%|          | 0/2 [00:00<?, ?it/s]"
          ]
        },
        {
          "name": "stdout",
          "output_type": "stream",
          "text": [
            "2025-08-26 15:20:26,413 - Epoch 1/2 — Train RMSE: 0.4499 — Validation RMSE: 0.4023\n"
          ]
        },
        {
          "name": "stderr",
          "output_type": "stream",
          "text": [
            "Epochs:  50%|█████     | 1/2 [00:23<00:23, 23.67s/it]"
          ]
        },
        {
          "name": "stdout",
          "output_type": "stream",
          "text": [
            "2025-08-26 15:20:49,781 - Epoch 2/2 — Train RMSE: 0.4116 — Validation RMSE: 0.4022\n"
          ]
        },
        {
          "name": "stderr",
          "output_type": "stream",
          "text": [
            "Epochs: 100%|██████████| 2/2 [00:47<00:00, 23.52s/it]\n"
          ]
        },
        {
          "name": "stdout",
          "output_type": "stream",
          "text": [
            "2025-08-26 15:20:53,689 - Trial 89 with params: {'idxAfterPrediction': 4, 'timesteps': 75, 'target_option': 'last', 'LoadupSamples_time_scaling_stretch': True, 'LoadupSamples_time_inc_factor': 61, 'LSTM_units': 32, 'LSTM_num_layers': 1, 'LSTM_dropout': 0.006316747516427286, 'LSTM_recurrent_dropout': 0.001336891417142686, 'LSTM_learning_rate': 0.00022143205199136166, 'LSTM_optimizer': 'adam', 'LSTM_bidirectional': True, 'LSTM_batch_size': 4096, 'LSTM_epochs': 2, 'LSTM_l1': 2.0367857408173892e-05, 'LSTM_l2': 0.00010853888635770069, 'LSTM_inter_dropout': 0.026965223677752545, 'LSTM_input_gaussian_noise': 0.001, 'LSTM_conv1d': True, 'LSTM_conv1d_kernel_size': 3, 'LSTM_loss': 'mse', 'LSTM_transformer_before': False, 'LSTM_transformer_after': False, 'LSTM_tf_d_model': 0, 'LSTM_tf_nhead': 2, 'LSTM_tf_num_layers_before': 0, 'LSTM_tf_num_layers_after': 0, 'LSTM_tf_dim_feedforward': 8, 'LSTM_tf_dropout': 0.1, 'LSTM_tf_positional_encoding': True, 'LSTM_tf_pool': 'last', 'year_start': 2021, 'is_single_feature': False}\n",
            "2025-08-26 15:20:53,689 -   q2: 0.9900\n",
            "2025-08-26 15:20:53,689 -   Duration0: 0:00:51.061021\n",
            "2025-08-26 15:20:53,689 -   Val RMSE0 adjusted: 0.0066\n",
            "2025-08-26 15:20:53,706 -   Mean all prediction: 0.9993\n",
            "2025-08-26 15:20:53,707 -   Mean above prediction: 1.0034\n",
            "2025-08-26 15:20:53,708 -   Mean below prediction: 0.9960\n",
            "2025-08-26 15:20:53,708 -   Quantile 0.99 for distance in mask above: 832.2399999999998\n",
            "2025-08-26 15:20:53,708 -   Quantile 0.99 for distance in mask below: 921.7199999999993\n",
            "2025-08-26 15:20:53,708 -   Ratio for quantile-distance-to-length above: 0.0013\n",
            "2025-08-26 15:20:53,708 -   Ratio for quantile-distance-to-length below: 0.0014\n",
            "2025-08-26 15:20:53,708 -   Score: 1.0009\n"
          ]
        },
        {
          "name": "stderr",
          "output_type": "stream",
          "text": [
            "[I 2025-08-26 15:20:53,759] Trial 89 finished with value: 1.0008560356004215 and parameters: {'year_start': 2021, 'LoadupSamples_time_inc_factor': 61, 'LSTM_units': 32, 'LSTM_learning_rate': 0.00022143205199136166, 'LSTM_l1': 2.0367857408173892e-05, 'LSTM_l2': 0.00010853888635770069, 'LSTM_dropout': 0.006316747516427286, 'LSTM_inter_dropout': 0.026965223677752545, 'LSTM_recurrent_dropout': 0.001336891417142686}. Best is trial 38 with value: 1.0030939915675743.\n"
          ]
        },
        {
          "name": "stdout",
          "output_type": "stream",
          "text": [
            "2025-08-26 15:20:53,759 - Trial 89 finished with value: 1.0008560356004215 and parameters: {'year_start': 2021, 'LoadupSamples_time_inc_factor': 61, 'LSTM_units': 32, 'LSTM_learning_rate': 0.00022143205199136166, 'LSTM_l1': 2.0367857408173892e-05, 'LSTM_l2': 0.00010853888635770069, 'LSTM_dropout': 0.006316747516427286, 'LSTM_inter_dropout': 0.026965223677752545, 'LSTM_recurrent_dropout': 0.001336891417142686}. Best is trial 38 with value: 1.0030939915675743.\n",
            "2025-08-26 15:21:02,860 - Non-finite/too-large values in train y time: 48 samples.\n",
            "2025-08-26 15:21:02,860 - Removing 48 samples from training data.\n"
          ]
        },
        {
          "name": "stderr",
          "output_type": "stream",
          "text": [
            "Epochs:   0%|          | 0/2 [00:00<?, ?it/s]"
          ]
        },
        {
          "name": "stdout",
          "output_type": "stream",
          "text": [
            "2025-08-26 15:21:42,679 - Epoch 1/2 — Train RMSE: 0.4406 — Validation RMSE: 0.4143\n"
          ]
        },
        {
          "name": "stderr",
          "output_type": "stream",
          "text": [
            "Epochs:  50%|█████     | 1/2 [00:29<00:29, 29.53s/it]"
          ]
        },
        {
          "name": "stdout",
          "output_type": "stream",
          "text": [
            "2025-08-26 15:22:12,060 - Epoch 2/2 — Train RMSE: 0.4271 — Validation RMSE: 0.4143\n"
          ]
        },
        {
          "name": "stderr",
          "output_type": "stream",
          "text": [
            "Epochs: 100%|██████████| 2/2 [00:58<00:00, 29.46s/it]\n"
          ]
        },
        {
          "name": "stdout",
          "output_type": "stream",
          "text": [
            "2025-08-26 15:22:16,085 - Trial 90 with params: {'idxAfterPrediction': 4, 'timesteps': 75, 'target_option': 'last', 'LoadupSamples_time_scaling_stretch': True, 'LoadupSamples_time_inc_factor': 71, 'LSTM_units': 32, 'LSTM_num_layers': 1, 'LSTM_dropout': 0.007012787671252761, 'LSTM_recurrent_dropout': 0.0021597501948731816, 'LSTM_learning_rate': 0.00023363528298711106, 'LSTM_optimizer': 'adam', 'LSTM_bidirectional': True, 'LSTM_batch_size': 4096, 'LSTM_epochs': 2, 'LSTM_l1': 1.2678963319186848e-05, 'LSTM_l2': 0.00014843788342322532, 'LSTM_inter_dropout': 0.019976807236189865, 'LSTM_input_gaussian_noise': 0.001, 'LSTM_conv1d': True, 'LSTM_conv1d_kernel_size': 3, 'LSTM_loss': 'mse', 'LSTM_transformer_before': False, 'LSTM_transformer_after': False, 'LSTM_tf_d_model': 0, 'LSTM_tf_nhead': 2, 'LSTM_tf_num_layers_before': 0, 'LSTM_tf_num_layers_after': 0, 'LSTM_tf_dim_feedforward': 8, 'LSTM_tf_dropout': 0.1, 'LSTM_tf_positional_encoding': True, 'LSTM_tf_pool': 'last', 'year_start': 2020, 'is_single_feature': False}\n",
            "2025-08-26 15:22:16,085 -   q2: 0.9900\n",
            "2025-08-26 15:22:16,085 -   Duration0: 0:01:03.123720\n",
            "2025-08-26 15:22:16,085 -   Val RMSE0 adjusted: 0.0058\n",
            "2025-08-26 15:22:16,085 -   Mean all prediction: 0.9993\n",
            "2025-08-26 15:22:16,085 -   Mean above prediction: 1.0066\n",
            "2025-08-26 15:22:16,101 -   Mean below prediction: 0.9976\n",
            "2025-08-26 15:22:16,102 -   Quantile 0.99 for distance in mask above: 955.4399999999987\n",
            "2025-08-26 15:22:16,102 -   Quantile 0.99 for distance in mask below: 896.2399999999998\n",
            "2025-08-26 15:22:16,104 -   Ratio for quantile-distance-to-length above: 0.0015\n",
            "2025-08-26 15:22:16,105 -   Ratio for quantile-distance-to-length below: 0.0014\n",
            "2025-08-26 15:22:16,105 -   Score: 1.0017\n"
          ]
        },
        {
          "name": "stderr",
          "output_type": "stream",
          "text": [
            "[I 2025-08-26 15:22:16,168] Trial 90 finished with value: 1.0016574041584245 and parameters: {'year_start': 2020, 'LoadupSamples_time_inc_factor': 71, 'LSTM_units': 32, 'LSTM_learning_rate': 0.00023363528298711106, 'LSTM_l1': 1.2678963319186848e-05, 'LSTM_l2': 0.00014843788342322532, 'LSTM_dropout': 0.007012787671252761, 'LSTM_inter_dropout': 0.019976807236189865, 'LSTM_recurrent_dropout': 0.0021597501948731816}. Best is trial 38 with value: 1.0030939915675743.\n"
          ]
        },
        {
          "name": "stdout",
          "output_type": "stream",
          "text": [
            "2025-08-26 15:22:16,168 - Trial 90 finished with value: 1.0016574041584245 and parameters: {'year_start': 2020, 'LoadupSamples_time_inc_factor': 71, 'LSTM_units': 32, 'LSTM_learning_rate': 0.00023363528298711106, 'LSTM_l1': 1.2678963319186848e-05, 'LSTM_l2': 0.00014843788342322532, 'LSTM_dropout': 0.007012787671252761, 'LSTM_inter_dropout': 0.019976807236189865, 'LSTM_recurrent_dropout': 0.0021597501948731816}. Best is trial 38 with value: 1.0030939915675743.\n",
            "2025-08-26 15:22:23,668 - Non-finite/too-large values in train y time: 48 samples.\n",
            "2025-08-26 15:22:23,668 - Removing 48 samples from training data.\n"
          ]
        },
        {
          "name": "stderr",
          "output_type": "stream",
          "text": [
            "Epochs:   0%|          | 0/2 [00:00<?, ?it/s]"
          ]
        },
        {
          "name": "stdout",
          "output_type": "stream",
          "text": [
            "2025-08-26 15:22:55,638 - Epoch 1/2 — Train RMSE: 0.4624 — Validation RMSE: 0.4026\n"
          ]
        },
        {
          "name": "stderr",
          "output_type": "stream",
          "text": [
            "Epochs:  50%|█████     | 1/2 [00:23<00:23, 23.58s/it]"
          ]
        },
        {
          "name": "stdout",
          "output_type": "stream",
          "text": [
            "2025-08-26 15:23:19,172 - Epoch 2/2 — Train RMSE: 0.4119 — Validation RMSE: 0.4025\n"
          ]
        },
        {
          "name": "stderr",
          "output_type": "stream",
          "text": [
            "Epochs: 100%|██████████| 2/2 [00:47<00:00, 23.56s/it]\n"
          ]
        },
        {
          "name": "stdout",
          "output_type": "stream",
          "text": [
            "2025-08-26 15:23:23,268 - Trial 91 with params: {'idxAfterPrediction': 4, 'timesteps': 75, 'target_option': 'last', 'LoadupSamples_time_scaling_stretch': True, 'LoadupSamples_time_inc_factor': 61, 'LSTM_units': 32, 'LSTM_num_layers': 1, 'LSTM_dropout': 0.0054399906488085716, 'LSTM_recurrent_dropout': 0.0010365698520218578, 'LSTM_learning_rate': 0.00020973335386075865, 'LSTM_optimizer': 'adam', 'LSTM_bidirectional': True, 'LSTM_batch_size': 4096, 'LSTM_epochs': 2, 'LSTM_l1': 1.4781975576627025e-05, 'LSTM_l2': 0.00012389106994600493, 'LSTM_inter_dropout': 0.018671576141841728, 'LSTM_input_gaussian_noise': 0.001, 'LSTM_conv1d': True, 'LSTM_conv1d_kernel_size': 3, 'LSTM_loss': 'mse', 'LSTM_transformer_before': False, 'LSTM_transformer_after': False, 'LSTM_tf_d_model': 0, 'LSTM_tf_nhead': 2, 'LSTM_tf_num_layers_before': 0, 'LSTM_tf_num_layers_after': 0, 'LSTM_tf_dim_feedforward': 8, 'LSTM_tf_dropout': 0.1, 'LSTM_tf_positional_encoding': True, 'LSTM_tf_pool': 'last', 'year_start': 2021, 'is_single_feature': False}\n",
            "2025-08-26 15:23:23,270 -   q2: 0.9900\n",
            "2025-08-26 15:23:23,270 -   Duration0: 0:00:51.328599\n",
            "2025-08-26 15:23:23,270 -   Val RMSE0 adjusted: 0.0066\n",
            "2025-08-26 15:23:23,270 -   Mean all prediction: 0.9993\n",
            "2025-08-26 15:23:23,270 -   Mean above prediction: 1.0088\n",
            "2025-08-26 15:23:23,270 -   Mean below prediction: 0.9963\n",
            "2025-08-26 15:23:23,270 -   Quantile 0.99 for distance in mask above: 1003.159999999998\n",
            "2025-08-26 15:23:23,270 -   Quantile 0.99 for distance in mask below: 818.3199999999961\n",
            "2025-08-26 15:23:23,281 -   Ratio for quantile-distance-to-length above: 0.0015\n",
            "2025-08-26 15:23:23,281 -   Ratio for quantile-distance-to-length below: 0.0012\n",
            "2025-08-26 15:23:23,281 -   Score: 1.0022\n"
          ]
        },
        {
          "name": "stderr",
          "output_type": "stream",
          "text": [
            "[I 2025-08-26 15:23:23,331] Trial 91 finished with value: 1.0021894916940082 and parameters: {'year_start': 2021, 'LoadupSamples_time_inc_factor': 61, 'LSTM_units': 32, 'LSTM_learning_rate': 0.00020973335386075865, 'LSTM_l1': 1.4781975576627025e-05, 'LSTM_l2': 0.00012389106994600493, 'LSTM_dropout': 0.0054399906488085716, 'LSTM_inter_dropout': 0.018671576141841728, 'LSTM_recurrent_dropout': 0.0010365698520218578}. Best is trial 38 with value: 1.0030939915675743.\n"
          ]
        },
        {
          "name": "stdout",
          "output_type": "stream",
          "text": [
            "2025-08-26 15:23:23,331 - Trial 91 finished with value: 1.0021894916940082 and parameters: {'year_start': 2021, 'LoadupSamples_time_inc_factor': 61, 'LSTM_units': 32, 'LSTM_learning_rate': 0.00020973335386075865, 'LSTM_l1': 1.4781975576627025e-05, 'LSTM_l2': 0.00012389106994600493, 'LSTM_dropout': 0.0054399906488085716, 'LSTM_inter_dropout': 0.018671576141841728, 'LSTM_recurrent_dropout': 0.0010365698520218578}. Best is trial 38 with value: 1.0030939915675743.\n",
            "2025-08-26 15:23:30,884 - Non-finite/too-large values in train y time: 48 samples.\n",
            "2025-08-26 15:23:30,884 - Removing 48 samples from training data.\n"
          ]
        },
        {
          "name": "stderr",
          "output_type": "stream",
          "text": [
            "Epochs:   0%|          | 0/2 [00:00<?, ?it/s]"
          ]
        },
        {
          "name": "stdout",
          "output_type": "stream",
          "text": [
            "2025-08-26 15:24:02,683 - Epoch 1/2 — Train RMSE: 0.4477 — Validation RMSE: 0.4026\n"
          ]
        },
        {
          "name": "stderr",
          "output_type": "stream",
          "text": [
            "Epochs:  50%|█████     | 1/2 [00:23<00:23, 23.43s/it]"
          ]
        },
        {
          "name": "stdout",
          "output_type": "stream",
          "text": [
            "2025-08-26 15:24:26,050 - Epoch 2/2 — Train RMSE: 0.4120 — Validation RMSE: 0.4023\n"
          ]
        },
        {
          "name": "stderr",
          "output_type": "stream",
          "text": [
            "Epochs: 100%|██████████| 2/2 [00:46<00:00, 23.40s/it]\n"
          ]
        },
        {
          "name": "stdout",
          "output_type": "stream",
          "text": [
            "2025-08-26 15:24:30,110 - Trial 92 with params: {'idxAfterPrediction': 4, 'timesteps': 75, 'target_option': 'last', 'LoadupSamples_time_scaling_stretch': True, 'LoadupSamples_time_inc_factor': 61, 'LSTM_units': 32, 'LSTM_num_layers': 1, 'LSTM_dropout': 0.0030654681304622326, 'LSTM_recurrent_dropout': 0.0010634170811727548, 'LSTM_learning_rate': 0.00020308827821441185, 'LSTM_optimizer': 'adam', 'LSTM_bidirectional': True, 'LSTM_batch_size': 4096, 'LSTM_epochs': 2, 'LSTM_l1': 1.4823112335291456e-05, 'LSTM_l2': 0.00013568616541344693, 'LSTM_inter_dropout': 0.0168429087272483, 'LSTM_input_gaussian_noise': 0.001, 'LSTM_conv1d': True, 'LSTM_conv1d_kernel_size': 3, 'LSTM_loss': 'mse', 'LSTM_transformer_before': False, 'LSTM_transformer_after': False, 'LSTM_tf_d_model': 0, 'LSTM_tf_nhead': 2, 'LSTM_tf_num_layers_before': 0, 'LSTM_tf_num_layers_after': 0, 'LSTM_tf_dim_feedforward': 8, 'LSTM_tf_dropout': 0.1, 'LSTM_tf_positional_encoding': True, 'LSTM_tf_pool': 'last', 'year_start': 2021, 'is_single_feature': False}\n",
            "2025-08-26 15:24:30,110 -   q2: 0.9900\n",
            "2025-08-26 15:24:30,110 -   Duration0: 0:00:50.993284\n",
            "2025-08-26 15:24:30,110 -   Val RMSE0 adjusted: 0.0066\n",
            "2025-08-26 15:24:30,126 -   Mean all prediction: 0.9993\n",
            "2025-08-26 15:24:30,126 -   Mean above prediction: 1.0084\n",
            "2025-08-26 15:24:30,126 -   Mean below prediction: 0.9952\n",
            "2025-08-26 15:24:30,126 -   Quantile 0.99 for distance in mask above: 933.2399999999998\n",
            "2025-08-26 15:24:30,126 -   Quantile 0.99 for distance in mask below: 862.4799999999996\n",
            "2025-08-26 15:24:30,126 -   Ratio for quantile-distance-to-length above: 0.0014\n",
            "2025-08-26 15:24:30,126 -   Ratio for quantile-distance-to-length below: 0.0013\n",
            "2025-08-26 15:24:30,126 -   Score: 1.0021\n"
          ]
        },
        {
          "name": "stderr",
          "output_type": "stream",
          "text": [
            "[I 2025-08-26 15:24:30,176] Trial 92 finished with value: 1.0020949991380446 and parameters: {'year_start': 2021, 'LoadupSamples_time_inc_factor': 61, 'LSTM_units': 32, 'LSTM_learning_rate': 0.00020308827821441185, 'LSTM_l1': 1.4823112335291456e-05, 'LSTM_l2': 0.00013568616541344693, 'LSTM_dropout': 0.0030654681304622326, 'LSTM_inter_dropout': 0.0168429087272483, 'LSTM_recurrent_dropout': 0.0010634170811727548}. Best is trial 38 with value: 1.0030939915675743.\n"
          ]
        },
        {
          "name": "stdout",
          "output_type": "stream",
          "text": [
            "2025-08-26 15:24:30,176 - Trial 92 finished with value: 1.0020949991380446 and parameters: {'year_start': 2021, 'LoadupSamples_time_inc_factor': 61, 'LSTM_units': 32, 'LSTM_learning_rate': 0.00020308827821441185, 'LSTM_l1': 1.4823112335291456e-05, 'LSTM_l2': 0.00013568616541344693, 'LSTM_dropout': 0.0030654681304622326, 'LSTM_inter_dropout': 0.0168429087272483, 'LSTM_recurrent_dropout': 0.0010634170811727548}. Best is trial 38 with value: 1.0030939915675743.\n",
            "2025-08-26 15:24:36,075 - Non-finite/too-large values in train y time: 48 samples.\n",
            "2025-08-26 15:24:36,089 - Removing 48 samples from training data.\n"
          ]
        },
        {
          "name": "stderr",
          "output_type": "stream",
          "text": [
            "Epochs:   0%|          | 0/2 [00:00<?, ?it/s]"
          ]
        },
        {
          "name": "stdout",
          "output_type": "stream",
          "text": [
            "2025-08-26 15:25:00,425 - Epoch 1/2 — Train RMSE: 0.4625 — Validation RMSE: 0.4024\n"
          ]
        },
        {
          "name": "stderr",
          "output_type": "stream",
          "text": [
            "Epochs:  50%|█████     | 1/2 [00:17<00:17, 17.84s/it]"
          ]
        },
        {
          "name": "stdout",
          "output_type": "stream",
          "text": [
            "2025-08-26 15:25:18,097 - Epoch 2/2 — Train RMSE: 0.4154 — Validation RMSE: 0.4022\n"
          ]
        },
        {
          "name": "stderr",
          "output_type": "stream",
          "text": [
            "Epochs: 100%|██████████| 2/2 [00:35<00:00, 17.75s/it]\n"
          ]
        },
        {
          "name": "stdout",
          "output_type": "stream",
          "text": [
            "2025-08-26 15:25:21,739 - Trial 93 with params: {'idxAfterPrediction': 4, 'timesteps': 75, 'target_option': 'last', 'LoadupSamples_time_scaling_stretch': True, 'LoadupSamples_time_inc_factor': 61, 'LSTM_units': 32, 'LSTM_num_layers': 1, 'LSTM_dropout': 0.005678553071908979, 'LSTM_recurrent_dropout': 0.0011372043090609894, 'LSTM_learning_rate': 0.00018366030212233376, 'LSTM_optimizer': 'adam', 'LSTM_bidirectional': True, 'LSTM_batch_size': 4096, 'LSTM_epochs': 2, 'LSTM_l1': 1.4063626800354328e-05, 'LSTM_l2': 0.00011160708673239914, 'LSTM_inter_dropout': 0.021224197261756703, 'LSTM_input_gaussian_noise': 0.001, 'LSTM_conv1d': True, 'LSTM_conv1d_kernel_size': 3, 'LSTM_loss': 'mse', 'LSTM_transformer_before': False, 'LSTM_transformer_after': False, 'LSTM_tf_d_model': 0, 'LSTM_tf_nhead': 2, 'LSTM_tf_num_layers_before': 0, 'LSTM_tf_num_layers_after': 0, 'LSTM_tf_dim_feedforward': 8, 'LSTM_tf_dropout': 0.1, 'LSTM_tf_positional_encoding': True, 'LSTM_tf_pool': 'last', 'year_start': 2022, 'is_single_feature': False}\n",
            "2025-08-26 15:25:21,739 -   q2: 0.9900\n",
            "2025-08-26 15:25:21,739 -   Duration0: 0:00:39.241987\n",
            "2025-08-26 15:25:21,739 -   Val RMSE0 adjusted: 0.0066\n",
            "2025-08-26 15:25:21,739 -   Mean all prediction: 0.9993\n",
            "2025-08-26 15:25:21,739 -   Mean above prediction: 1.0043\n",
            "2025-08-26 15:25:21,739 -   Mean below prediction: 0.9956\n",
            "2025-08-26 15:25:21,739 -   Quantile 0.99 for distance in mask above: 1072.3999999999978\n",
            "2025-08-26 15:25:21,739 -   Quantile 0.99 for distance in mask below: 797.9599999999991\n",
            "2025-08-26 15:25:21,739 -   Ratio for quantile-distance-to-length above: 0.0016\n",
            "2025-08-26 15:25:21,754 -   Ratio for quantile-distance-to-length below: 0.0012\n",
            "2025-08-26 15:25:21,754 -   Score: 1.0011\n"
          ]
        },
        {
          "name": "stderr",
          "output_type": "stream",
          "text": [
            "[I 2025-08-26 15:25:21,790] Trial 93 finished with value: 1.0010685577596312 and parameters: {'year_start': 2022, 'LoadupSamples_time_inc_factor': 61, 'LSTM_units': 32, 'LSTM_learning_rate': 0.00018366030212233376, 'LSTM_l1': 1.4063626800354328e-05, 'LSTM_l2': 0.00011160708673239914, 'LSTM_dropout': 0.005678553071908979, 'LSTM_inter_dropout': 0.021224197261756703, 'LSTM_recurrent_dropout': 0.0011372043090609894}. Best is trial 38 with value: 1.0030939915675743.\n"
          ]
        },
        {
          "name": "stdout",
          "output_type": "stream",
          "text": [
            "2025-08-26 15:25:21,790 - Trial 93 finished with value: 1.0010685577596312 and parameters: {'year_start': 2022, 'LoadupSamples_time_inc_factor': 61, 'LSTM_units': 32, 'LSTM_learning_rate': 0.00018366030212233376, 'LSTM_l1': 1.4063626800354328e-05, 'LSTM_l2': 0.00011160708673239914, 'LSTM_dropout': 0.005678553071908979, 'LSTM_inter_dropout': 0.021224197261756703, 'LSTM_recurrent_dropout': 0.0011372043090609894}. Best is trial 38 with value: 1.0030939915675743.\n",
            "2025-08-26 15:25:29,288 - Non-finite/too-large values in train y time: 48 samples.\n",
            "2025-08-26 15:25:29,288 - Removing 48 samples from training data.\n"
          ]
        },
        {
          "name": "stderr",
          "output_type": "stream",
          "text": [
            "Epochs:   0%|          | 0/2 [00:00<?, ?it/s]"
          ]
        },
        {
          "name": "stdout",
          "output_type": "stream",
          "text": [
            "2025-08-26 15:26:01,274 - Epoch 1/2 — Train RMSE: 0.4423 — Validation RMSE: 0.4025\n"
          ]
        },
        {
          "name": "stderr",
          "output_type": "stream",
          "text": [
            "Epochs:  50%|█████     | 1/2 [00:23<00:23, 23.62s/it]"
          ]
        },
        {
          "name": "stdout",
          "output_type": "stream",
          "text": [
            "2025-08-26 15:26:24,610 - Epoch 2/2 — Train RMSE: 0.4117 — Validation RMSE: 0.4023\n"
          ]
        },
        {
          "name": "stderr",
          "output_type": "stream",
          "text": [
            "Epochs: 100%|██████████| 2/2 [00:46<00:00, 23.48s/it]\n"
          ]
        },
        {
          "name": "stdout",
          "output_type": "stream",
          "text": [
            "2025-08-26 15:26:28,250 - Trial 94 with params: {'idxAfterPrediction': 4, 'timesteps': 75, 'target_option': 'last', 'LoadupSamples_time_scaling_stretch': True, 'LoadupSamples_time_inc_factor': 61, 'LSTM_units': 32, 'LSTM_num_layers': 1, 'LSTM_dropout': 0.0037440673893942155, 'LSTM_recurrent_dropout': 0.0012084311117730976, 'LSTM_learning_rate': 0.0002447622244849018, 'LSTM_optimizer': 'adam', 'LSTM_bidirectional': True, 'LSTM_batch_size': 4096, 'LSTM_epochs': 2, 'LSTM_l1': 1.7182732163789085e-05, 'LSTM_l2': 0.0001821335785586248, 'LSTM_inter_dropout': 0.01859034313779938, 'LSTM_input_gaussian_noise': 0.001, 'LSTM_conv1d': True, 'LSTM_conv1d_kernel_size': 3, 'LSTM_loss': 'mse', 'LSTM_transformer_before': False, 'LSTM_transformer_after': False, 'LSTM_tf_d_model': 0, 'LSTM_tf_nhead': 2, 'LSTM_tf_num_layers_before': 0, 'LSTM_tf_num_layers_after': 0, 'LSTM_tf_dim_feedforward': 8, 'LSTM_tf_dropout': 0.1, 'LSTM_tf_positional_encoding': True, 'LSTM_tf_pool': 'last', 'year_start': 2021, 'is_single_feature': False}\n",
            "2025-08-26 15:26:28,250 -   q2: 0.9900\n",
            "2025-08-26 15:26:28,250 -   Duration0: 0:00:50.726954\n",
            "2025-08-26 15:26:28,250 -   Val RMSE0 adjusted: 0.0066\n",
            "2025-08-26 15:26:28,266 -   Mean all prediction: 0.9993\n",
            "2025-08-26 15:26:28,266 -   Mean above prediction: 1.0071\n",
            "2025-08-26 15:26:28,266 -   Mean below prediction: 0.9975\n",
            "2025-08-26 15:26:28,266 -   Quantile 0.99 for distance in mask above: 966.0\n",
            "2025-08-26 15:26:28,266 -   Quantile 0.99 for distance in mask below: 894.1499999999978\n",
            "2025-08-26 15:26:28,266 -   Ratio for quantile-distance-to-length above: 0.0015\n",
            "2025-08-26 15:26:28,266 -   Ratio for quantile-distance-to-length below: 0.0014\n",
            "2025-08-26 15:26:28,266 -   Score: 1.0018\n"
          ]
        },
        {
          "name": "stderr",
          "output_type": "stream",
          "text": [
            "[I 2025-08-26 15:26:28,336] Trial 94 finished with value: 1.0017778148193073 and parameters: {'year_start': 2021, 'LoadupSamples_time_inc_factor': 61, 'LSTM_units': 32, 'LSTM_learning_rate': 0.0002447622244849018, 'LSTM_l1': 1.7182732163789085e-05, 'LSTM_l2': 0.0001821335785586248, 'LSTM_dropout': 0.0037440673893942155, 'LSTM_inter_dropout': 0.01859034313779938, 'LSTM_recurrent_dropout': 0.0012084311117730976}. Best is trial 38 with value: 1.0030939915675743.\n"
          ]
        },
        {
          "name": "stdout",
          "output_type": "stream",
          "text": [
            "2025-08-26 15:26:28,336 - Trial 94 finished with value: 1.0017778148193073 and parameters: {'year_start': 2021, 'LoadupSamples_time_inc_factor': 61, 'LSTM_units': 32, 'LSTM_learning_rate': 0.0002447622244849018, 'LSTM_l1': 1.7182732163789085e-05, 'LSTM_l2': 0.0001821335785586248, 'LSTM_dropout': 0.0037440673893942155, 'LSTM_inter_dropout': 0.01859034313779938, 'LSTM_recurrent_dropout': 0.0012084311117730976}. Best is trial 38 with value: 1.0030939915675743.\n",
            "2025-08-26 15:26:37,470 - Non-finite/too-large values in train y time: 48 samples.\n",
            "2025-08-26 15:26:37,488 - Removing 48 samples from training data.\n"
          ]
        },
        {
          "name": "stderr",
          "output_type": "stream",
          "text": [
            "Epochs:   0%|          | 0/2 [00:00<?, ?it/s]"
          ]
        },
        {
          "name": "stdout",
          "output_type": "stream",
          "text": [
            "2025-08-26 15:27:17,327 - Epoch 1/2 — Train RMSE: 0.4763 — Validation RMSE: 0.4021\n"
          ]
        },
        {
          "name": "stderr",
          "output_type": "stream",
          "text": [
            "Epochs:  50%|█████     | 1/2 [00:29<00:29, 29.44s/it]"
          ]
        },
        {
          "name": "stdout",
          "output_type": "stream",
          "text": [
            "2025-08-26 15:27:46,787 - Epoch 2/2 — Train RMSE: 0.4161 — Validation RMSE: 0.4021\n"
          ]
        },
        {
          "name": "stderr",
          "output_type": "stream",
          "text": [
            "Epochs: 100%|██████████| 2/2 [00:58<00:00, 29.45s/it]\n"
          ]
        },
        {
          "name": "stdout",
          "output_type": "stream",
          "text": [
            "2025-08-26 15:27:50,879 - Trial 95 with params: {'idxAfterPrediction': 4, 'timesteps': 75, 'target_option': 'last', 'LoadupSamples_time_scaling_stretch': True, 'LoadupSamples_time_inc_factor': 61, 'LSTM_units': 32, 'LSTM_num_layers': 1, 'LSTM_dropout': 0.004638292296654973, 'LSTM_recurrent_dropout': 0.0014427640676210004, 'LSTM_learning_rate': 0.00016401745818048308, 'LSTM_optimizer': 'adam', 'LSTM_bidirectional': True, 'LSTM_batch_size': 4096, 'LSTM_epochs': 2, 'LSTM_l1': 1.1665205866330787e-05, 'LSTM_l2': 0.0001220592471953948, 'LSTM_inter_dropout': 0.013676865181704615, 'LSTM_input_gaussian_noise': 0.001, 'LSTM_conv1d': True, 'LSTM_conv1d_kernel_size': 3, 'LSTM_loss': 'mse', 'LSTM_transformer_before': False, 'LSTM_transformer_after': False, 'LSTM_tf_d_model': 0, 'LSTM_tf_nhead': 2, 'LSTM_tf_num_layers_before': 0, 'LSTM_tf_num_layers_after': 0, 'LSTM_tf_dim_feedforward': 8, 'LSTM_tf_dropout': 0.1, 'LSTM_tf_positional_encoding': True, 'LSTM_tf_pool': 'last', 'year_start': 2020, 'is_single_feature': False}\n",
            "2025-08-26 15:27:50,879 -   q2: 0.9900\n",
            "2025-08-26 15:27:50,879 -   Duration0: 0:01:03.134309\n",
            "2025-08-26 15:27:50,879 -   Val RMSE0 adjusted: 0.0066\n",
            "2025-08-26 15:27:50,879 -   Mean all prediction: 0.9993\n",
            "2025-08-26 15:27:50,879 -   Mean above prediction: 1.0049\n",
            "2025-08-26 15:27:50,879 -   Mean below prediction: 0.9947\n",
            "2025-08-26 15:27:50,879 -   Quantile 0.99 for distance in mask above: 879.9899999999943\n",
            "2025-08-26 15:27:50,879 -   Quantile 0.99 for distance in mask below: 749.6799999999985\n",
            "2025-08-26 15:27:50,879 -   Ratio for quantile-distance-to-length above: 0.0013\n",
            "2025-08-26 15:27:50,879 -   Ratio for quantile-distance-to-length below: 0.0011\n",
            "2025-08-26 15:27:50,879 -   Score: 1.0012\n"
          ]
        },
        {
          "name": "stderr",
          "output_type": "stream",
          "text": [
            "[I 2025-08-26 15:27:50,947] Trial 95 finished with value: 1.0012184349233766 and parameters: {'year_start': 2020, 'LoadupSamples_time_inc_factor': 61, 'LSTM_units': 32, 'LSTM_learning_rate': 0.00016401745818048308, 'LSTM_l1': 1.1665205866330787e-05, 'LSTM_l2': 0.0001220592471953948, 'LSTM_dropout': 0.004638292296654973, 'LSTM_inter_dropout': 0.013676865181704615, 'LSTM_recurrent_dropout': 0.0014427640676210004}. Best is trial 38 with value: 1.0030939915675743.\n"
          ]
        },
        {
          "name": "stdout",
          "output_type": "stream",
          "text": [
            "2025-08-26 15:27:50,947 - Trial 95 finished with value: 1.0012184349233766 and parameters: {'year_start': 2020, 'LoadupSamples_time_inc_factor': 61, 'LSTM_units': 32, 'LSTM_learning_rate': 0.00016401745818048308, 'LSTM_l1': 1.1665205866330787e-05, 'LSTM_l2': 0.0001220592471953948, 'LSTM_dropout': 0.004638292296654973, 'LSTM_inter_dropout': 0.013676865181704615, 'LSTM_recurrent_dropout': 0.0014427640676210004}. Best is trial 38 with value: 1.0030939915675743.\n",
            "2025-08-26 15:27:58,496 - Non-finite/too-large values in train y time: 48 samples.\n",
            "2025-08-26 15:27:58,496 - Removing 48 samples from training data.\n"
          ]
        },
        {
          "name": "stderr",
          "output_type": "stream",
          "text": [
            "Epochs:   0%|          | 0/2 [00:00<?, ?it/s]"
          ]
        },
        {
          "name": "stdout",
          "output_type": "stream",
          "text": [
            "2025-08-26 15:28:30,467 - Epoch 1/2 — Train RMSE: 0.4264 — Validation RMSE: 0.4020\n"
          ]
        },
        {
          "name": "stderr",
          "output_type": "stream",
          "text": [
            "Epochs:  50%|█████     | 1/2 [00:23<00:23, 23.52s/it]"
          ]
        },
        {
          "name": "stdout",
          "output_type": "stream",
          "text": [
            "2025-08-26 15:28:53,883 - Epoch 2/2 — Train RMSE: 0.4102 — Validation RMSE: 0.4019\n"
          ]
        },
        {
          "name": "stderr",
          "output_type": "stream",
          "text": [
            "Epochs: 100%|██████████| 2/2 [00:46<00:00, 23.47s/it]\n"
          ]
        },
        {
          "name": "stdout",
          "output_type": "stream",
          "text": [
            "2025-08-26 15:28:57,941 - Trial 96 with params: {'idxAfterPrediction': 4, 'timesteps': 75, 'target_option': 'last', 'LoadupSamples_time_scaling_stretch': True, 'LoadupSamples_time_inc_factor': 61, 'LSTM_units': 32, 'LSTM_num_layers': 1, 'LSTM_dropout': 0.00664391214845855, 'LSTM_recurrent_dropout': 0.008738277367724256, 'LSTM_learning_rate': 0.00016927510862355048, 'LSTM_optimizer': 'adam', 'LSTM_bidirectional': True, 'LSTM_batch_size': 4096, 'LSTM_epochs': 2, 'LSTM_l1': 1.7988187170784566e-05, 'LSTM_l2': 0.00010057480878340748, 'LSTM_inter_dropout': 0.011377159017309109, 'LSTM_input_gaussian_noise': 0.001, 'LSTM_conv1d': True, 'LSTM_conv1d_kernel_size': 3, 'LSTM_loss': 'mse', 'LSTM_transformer_before': False, 'LSTM_transformer_after': False, 'LSTM_tf_d_model': 0, 'LSTM_tf_nhead': 2, 'LSTM_tf_num_layers_before': 0, 'LSTM_tf_num_layers_after': 0, 'LSTM_tf_dim_feedforward': 8, 'LSTM_tf_dropout': 0.1, 'LSTM_tf_positional_encoding': True, 'LSTM_tf_pool': 'last', 'year_start': 2021, 'is_single_feature': False}\n",
            "2025-08-26 15:28:57,941 -   q2: 0.9900\n",
            "2025-08-26 15:28:57,941 -   Duration0: 0:00:51.104123\n",
            "2025-08-26 15:28:57,941 -   Val RMSE0 adjusted: 0.0066\n",
            "2025-08-26 15:28:57,957 -   Mean all prediction: 0.9993\n",
            "2025-08-26 15:28:57,958 -   Mean above prediction: 1.0074\n",
            "2025-08-26 15:28:57,958 -   Mean below prediction: 0.9964\n",
            "2025-08-26 15:28:57,958 -   Quantile 0.99 for distance in mask above: 1010.9599999999991\n",
            "2025-08-26 15:28:57,958 -   Quantile 0.99 for distance in mask below: 861.4799999999996\n",
            "2025-08-26 15:28:57,958 -   Ratio for quantile-distance-to-length above: 0.0015\n",
            "2025-08-26 15:28:57,958 -   Ratio for quantile-distance-to-length below: 0.0013\n",
            "2025-08-26 15:28:57,958 -   Score: 1.0019\n"
          ]
        },
        {
          "name": "stderr",
          "output_type": "stream",
          "text": [
            "[I 2025-08-26 15:28:58,008] Trial 96 finished with value: 1.001855375162691 and parameters: {'year_start': 2021, 'LoadupSamples_time_inc_factor': 61, 'LSTM_units': 32, 'LSTM_learning_rate': 0.00016927510862355048, 'LSTM_l1': 1.7988187170784566e-05, 'LSTM_l2': 0.00010057480878340748, 'LSTM_dropout': 0.00664391214845855, 'LSTM_inter_dropout': 0.011377159017309109, 'LSTM_recurrent_dropout': 0.008738277367724256}. Best is trial 38 with value: 1.0030939915675743.\n"
          ]
        },
        {
          "name": "stdout",
          "output_type": "stream",
          "text": [
            "2025-08-26 15:28:58,008 - Trial 96 finished with value: 1.001855375162691 and parameters: {'year_start': 2021, 'LoadupSamples_time_inc_factor': 61, 'LSTM_units': 32, 'LSTM_learning_rate': 0.00016927510862355048, 'LSTM_l1': 1.7988187170784566e-05, 'LSTM_l2': 0.00010057480878340748, 'LSTM_dropout': 0.00664391214845855, 'LSTM_inter_dropout': 0.011377159017309109, 'LSTM_recurrent_dropout': 0.008738277367724256}. Best is trial 38 with value: 1.0030939915675743.\n",
            "2025-08-26 15:29:07,178 - Non-finite/too-large values in train y time: 48 samples.\n",
            "2025-08-26 15:29:07,178 - Removing 48 samples from training data.\n"
          ]
        },
        {
          "name": "stderr",
          "output_type": "stream",
          "text": [
            "Epochs:   0%|          | 0/2 [00:00<?, ?it/s]"
          ]
        },
        {
          "name": "stdout",
          "output_type": "stream",
          "text": [
            "2025-08-26 15:29:47,198 - Epoch 1/2 — Train RMSE: 0.4356 — Validation RMSE: 0.4022\n"
          ]
        },
        {
          "name": "stderr",
          "output_type": "stream",
          "text": [
            "Epochs:  50%|█████     | 1/2 [00:29<00:29, 29.65s/it]"
          ]
        },
        {
          "name": "stdout",
          "output_type": "stream",
          "text": [
            "2025-08-26 15:30:16,696 - Epoch 2/2 — Train RMSE: 0.4161 — Validation RMSE: 0.4020\n"
          ]
        },
        {
          "name": "stderr",
          "output_type": "stream",
          "text": [
            "Epochs: 100%|██████████| 2/2 [00:59<00:00, 29.56s/it]\n"
          ]
        },
        {
          "name": "stdout",
          "output_type": "stream",
          "text": [
            "2025-08-26 15:30:20,755 - Trial 97 with params: {'idxAfterPrediction': 4, 'timesteps': 75, 'target_option': 'last', 'LoadupSamples_time_scaling_stretch': True, 'LoadupSamples_time_inc_factor': 61, 'LSTM_units': 32, 'LSTM_num_layers': 1, 'LSTM_dropout': 0.005066987957669839, 'LSTM_recurrent_dropout': 0.0012459934545109048, 'LSTM_learning_rate': 0.00019735999686795044, 'LSTM_optimizer': 'adam', 'LSTM_bidirectional': True, 'LSTM_batch_size': 4096, 'LSTM_epochs': 2, 'LSTM_l1': 2.9326563524770454e-05, 'LSTM_l2': 0.0001555598392685355, 'LSTM_inter_dropout': 0.0158290064743434, 'LSTM_input_gaussian_noise': 0.001, 'LSTM_conv1d': True, 'LSTM_conv1d_kernel_size': 3, 'LSTM_loss': 'mse', 'LSTM_transformer_before': False, 'LSTM_transformer_after': False, 'LSTM_tf_d_model': 0, 'LSTM_tf_nhead': 2, 'LSTM_tf_num_layers_before': 0, 'LSTM_tf_num_layers_after': 0, 'LSTM_tf_dim_feedforward': 8, 'LSTM_tf_dropout': 0.1, 'LSTM_tf_positional_encoding': True, 'LSTM_tf_pool': 'last', 'year_start': 2020, 'is_single_feature': False}\n",
            "2025-08-26 15:30:20,755 -   q2: 0.9900\n",
            "2025-08-26 15:30:20,755 -   Duration0: 0:01:03.337887\n",
            "2025-08-26 15:30:20,755 -   Val RMSE0 adjusted: 0.0066\n",
            "2025-08-26 15:30:20,755 -   Mean all prediction: 0.9993\n",
            "2025-08-26 15:30:20,755 -   Mean above prediction: 1.0111\n",
            "2025-08-26 15:30:20,755 -   Mean below prediction: 0.9984\n",
            "2025-08-26 15:30:20,755 -   Quantile 0.99 for distance in mask above: 944.2299999999996\n",
            "2025-08-26 15:30:20,755 -   Quantile 0.99 for distance in mask below: 926.2399999999998\n",
            "2025-08-26 15:30:20,755 -   Ratio for quantile-distance-to-length above: 0.0014\n",
            "2025-08-26 15:30:20,770 -   Ratio for quantile-distance-to-length below: 0.0014\n",
            "2025-08-26 15:30:20,771 -   Score: 1.0028\n"
          ]
        },
        {
          "name": "stderr",
          "output_type": "stream",
          "text": [
            "[I 2025-08-26 15:30:20,822] Trial 97 finished with value: 1.0027522598905858 and parameters: {'year_start': 2020, 'LoadupSamples_time_inc_factor': 61, 'LSTM_units': 32, 'LSTM_learning_rate': 0.00019735999686795044, 'LSTM_l1': 2.9326563524770454e-05, 'LSTM_l2': 0.0001555598392685355, 'LSTM_dropout': 0.005066987957669839, 'LSTM_inter_dropout': 0.0158290064743434, 'LSTM_recurrent_dropout': 0.0012459934545109048}. Best is trial 38 with value: 1.0030939915675743.\n"
          ]
        },
        {
          "name": "stdout",
          "output_type": "stream",
          "text": [
            "2025-08-26 15:30:20,822 - Trial 97 finished with value: 1.0027522598905858 and parameters: {'year_start': 2020, 'LoadupSamples_time_inc_factor': 61, 'LSTM_units': 32, 'LSTM_learning_rate': 0.00019735999686795044, 'LSTM_l1': 2.9326563524770454e-05, 'LSTM_l2': 0.0001555598392685355, 'LSTM_dropout': 0.005066987957669839, 'LSTM_inter_dropout': 0.0158290064743434, 'LSTM_recurrent_dropout': 0.0012459934545109048}. Best is trial 38 with value: 1.0030939915675743.\n",
            "2025-08-26 15:30:28,338 - Non-finite/too-large values in train y time: 48 samples.\n",
            "2025-08-26 15:30:28,338 - Removing 48 samples from training data.\n"
          ]
        },
        {
          "name": "stderr",
          "output_type": "stream",
          "text": [
            "Epochs:   0%|          | 0/2 [00:00<?, ?it/s]"
          ]
        },
        {
          "name": "stdout",
          "output_type": "stream",
          "text": [
            "2025-08-26 15:31:00,307 - Epoch 1/2 — Train RMSE: 0.4804 — Validation RMSE: 0.4199\n"
          ]
        },
        {
          "name": "stderr",
          "output_type": "stream",
          "text": [
            "Epochs:  50%|█████     | 1/2 [00:23<00:23, 23.62s/it]"
          ]
        },
        {
          "name": "stdout",
          "output_type": "stream",
          "text": [
            "2025-08-26 15:31:23,775 - Epoch 2/2 — Train RMSE: 0.4279 — Validation RMSE: 0.4195\n"
          ]
        },
        {
          "name": "stderr",
          "output_type": "stream",
          "text": [
            "Epochs: 100%|██████████| 2/2 [00:47<00:00, 23.55s/it]\n"
          ]
        },
        {
          "name": "stdout",
          "output_type": "stream",
          "text": [
            "2025-08-26 15:31:27,852 - Trial 98 with params: {'idxAfterPrediction': 4, 'timesteps': 75, 'target_option': 'last', 'LoadupSamples_time_scaling_stretch': True, 'LoadupSamples_time_inc_factor': 76, 'LSTM_units': 32, 'LSTM_num_layers': 1, 'LSTM_dropout': 0.005615099710838176, 'LSTM_recurrent_dropout': 0.0010364599297692915, 'LSTM_learning_rate': 0.00021741508299467463, 'LSTM_optimizer': 'adam', 'LSTM_bidirectional': True, 'LSTM_batch_size': 4096, 'LSTM_epochs': 2, 'LSTM_l1': 1.3398812245095123e-05, 'LSTM_l2': 0.0002487219944045358, 'LSTM_inter_dropout': 0.022147337550003844, 'LSTM_input_gaussian_noise': 0.001, 'LSTM_conv1d': True, 'LSTM_conv1d_kernel_size': 3, 'LSTM_loss': 'mse', 'LSTM_transformer_before': False, 'LSTM_transformer_after': False, 'LSTM_tf_d_model': 0, 'LSTM_tf_nhead': 2, 'LSTM_tf_num_layers_before': 0, 'LSTM_tf_num_layers_after': 0, 'LSTM_tf_dim_feedforward': 8, 'LSTM_tf_dropout': 0.1, 'LSTM_tf_positional_encoding': True, 'LSTM_tf_pool': 'last', 'year_start': 2021, 'is_single_feature': False}\n",
            "2025-08-26 15:31:27,853 -   q2: 0.9900\n",
            "2025-08-26 15:31:27,853 -   Duration0: 0:00:51.258333\n",
            "2025-08-26 15:31:27,854 -   Val RMSE0 adjusted: 0.0055\n",
            "2025-08-26 15:31:27,855 -   Mean all prediction: 0.9993\n",
            "2025-08-26 15:31:27,855 -   Mean above prediction: 1.0075\n",
            "2025-08-26 15:31:27,855 -   Mean below prediction: 0.9950\n",
            "2025-08-26 15:31:27,855 -   Quantile 0.99 for distance in mask above: 992.7199999999939\n",
            "2025-08-26 15:31:27,855 -   Quantile 0.99 for distance in mask below: 814.4799999999996\n",
            "2025-08-26 15:31:27,855 -   Ratio for quantile-distance-to-length above: 0.0015\n",
            "2025-08-26 15:31:27,855 -   Ratio for quantile-distance-to-length below: 0.0012\n",
            "2025-08-26 15:31:27,855 -   Score: 1.0019\n"
          ]
        },
        {
          "name": "stderr",
          "output_type": "stream",
          "text": [
            "[I 2025-08-26 15:31:27,917] Trial 98 finished with value: 1.00187332940468 and parameters: {'year_start': 2021, 'LoadupSamples_time_inc_factor': 76, 'LSTM_units': 32, 'LSTM_learning_rate': 0.00021741508299467463, 'LSTM_l1': 1.3398812245095123e-05, 'LSTM_l2': 0.0002487219944045358, 'LSTM_dropout': 0.005615099710838176, 'LSTM_inter_dropout': 0.022147337550003844, 'LSTM_recurrent_dropout': 0.0010364599297692915}. Best is trial 38 with value: 1.0030939915675743.\n"
          ]
        },
        {
          "name": "stdout",
          "output_type": "stream",
          "text": [
            "2025-08-26 15:31:27,917 - Trial 98 finished with value: 1.00187332940468 and parameters: {'year_start': 2021, 'LoadupSamples_time_inc_factor': 76, 'LSTM_units': 32, 'LSTM_learning_rate': 0.00021741508299467463, 'LSTM_l1': 1.3398812245095123e-05, 'LSTM_l2': 0.0002487219944045358, 'LSTM_dropout': 0.005615099710838176, 'LSTM_inter_dropout': 0.022147337550003844, 'LSTM_recurrent_dropout': 0.0010364599297692915}. Best is trial 38 with value: 1.0030939915675743.\n",
            "2025-08-26 15:31:33,807 - Non-finite/too-large values in train y time: 48 samples.\n",
            "2025-08-26 15:31:33,814 - Removing 48 samples from training data.\n"
          ]
        },
        {
          "name": "stderr",
          "output_type": "stream",
          "text": [
            "Epochs:   0%|          | 0/2 [00:00<?, ?it/s]"
          ]
        },
        {
          "name": "stdout",
          "output_type": "stream",
          "text": [
            "2025-08-26 15:31:58,300 - Epoch 1/2 — Train RMSE: 0.4333 — Validation RMSE: 0.4024\n"
          ]
        },
        {
          "name": "stderr",
          "output_type": "stream",
          "text": [
            "Epochs:  50%|█████     | 1/2 [00:17<00:17, 17.86s/it]"
          ]
        },
        {
          "name": "stdout",
          "output_type": "stream",
          "text": [
            "2025-08-26 15:32:16,021 - Epoch 2/2 — Train RMSE: 0.4158 — Validation RMSE: 0.4022\n"
          ]
        },
        {
          "name": "stderr",
          "output_type": "stream",
          "text": [
            "Epochs: 100%|██████████| 2/2 [00:35<00:00, 17.79s/it]\n"
          ]
        },
        {
          "name": "stdout",
          "output_type": "stream",
          "text": [
            "2025-08-26 15:32:19,635 - Trial 99 with params: {'idxAfterPrediction': 4, 'timesteps': 75, 'target_option': 'last', 'LoadupSamples_time_scaling_stretch': True, 'LoadupSamples_time_inc_factor': 61, 'LSTM_units': 32, 'LSTM_num_layers': 1, 'LSTM_dropout': 0.007894301335677492, 'LSTM_recurrent_dropout': 0.0011592944257059568, 'LSTM_learning_rate': 0.00017578891353446673, 'LSTM_optimizer': 'adam', 'LSTM_bidirectional': True, 'LSTM_batch_size': 4096, 'LSTM_epochs': 2, 'LSTM_l1': 2.4492254518019127e-05, 'LSTM_l2': 0.0001981093837240615, 'LSTM_inter_dropout': 0.02567807191112328, 'LSTM_input_gaussian_noise': 0.001, 'LSTM_conv1d': True, 'LSTM_conv1d_kernel_size': 3, 'LSTM_loss': 'mse', 'LSTM_transformer_before': False, 'LSTM_transformer_after': False, 'LSTM_tf_d_model': 0, 'LSTM_tf_nhead': 2, 'LSTM_tf_num_layers_before': 0, 'LSTM_tf_num_layers_after': 0, 'LSTM_tf_dim_feedforward': 8, 'LSTM_tf_dropout': 0.1, 'LSTM_tf_positional_encoding': True, 'LSTM_tf_pool': 'last', 'year_start': 2022, 'is_single_feature': False}\n",
            "2025-08-26 15:32:19,637 -   q2: 0.9900\n",
            "2025-08-26 15:32:19,637 -   Duration0: 0:00:39.272847\n",
            "2025-08-26 15:32:19,637 -   Val RMSE0 adjusted: 0.0066\n",
            "2025-08-26 15:32:19,647 -   Mean all prediction: 0.9993\n",
            "2025-08-26 15:32:19,647 -   Mean above prediction: 1.0062\n",
            "2025-08-26 15:32:19,647 -   Mean below prediction: 0.9970\n",
            "2025-08-26 15:32:19,647 -   Quantile 0.99 for distance in mask above: 903.9199999999983\n",
            "2025-08-26 15:32:19,647 -   Quantile 0.99 for distance in mask below: 911.0\n",
            "2025-08-26 15:32:19,647 -   Ratio for quantile-distance-to-length above: 0.0014\n",
            "2025-08-26 15:32:19,647 -   Ratio for quantile-distance-to-length below: 0.0014\n",
            "2025-08-26 15:32:19,647 -   Score: 1.0015\n"
          ]
        },
        {
          "name": "stderr",
          "output_type": "stream",
          "text": [
            "[I 2025-08-26 15:32:19,681] Trial 99 finished with value: 1.0015386630231498 and parameters: {'year_start': 2022, 'LoadupSamples_time_inc_factor': 61, 'LSTM_units': 32, 'LSTM_learning_rate': 0.00017578891353446673, 'LSTM_l1': 2.4492254518019127e-05, 'LSTM_l2': 0.0001981093837240615, 'LSTM_dropout': 0.007894301335677492, 'LSTM_inter_dropout': 0.02567807191112328, 'LSTM_recurrent_dropout': 0.0011592944257059568}. Best is trial 38 with value: 1.0030939915675743.\n"
          ]
        },
        {
          "name": "stdout",
          "output_type": "stream",
          "text": [
            "2025-08-26 15:32:19,681 - Trial 99 finished with value: 1.0015386630231498 and parameters: {'year_start': 2022, 'LoadupSamples_time_inc_factor': 61, 'LSTM_units': 32, 'LSTM_learning_rate': 0.00017578891353446673, 'LSTM_l1': 2.4492254518019127e-05, 'LSTM_l2': 0.0001981093837240615, 'LSTM_dropout': 0.007894301335677492, 'LSTM_inter_dropout': 0.02567807191112328, 'LSTM_recurrent_dropout': 0.0011592944257059568}. Best is trial 38 with value: 1.0030939915675743.\n",
            "2025-08-26 15:32:28,800 - Non-finite/too-large values in train y time: 48 samples.\n",
            "2025-08-26 15:32:28,802 - Removing 48 samples from training data.\n"
          ]
        },
        {
          "name": "stderr",
          "output_type": "stream",
          "text": [
            "Epochs:   0%|          | 0/2 [00:00<?, ?it/s]"
          ]
        },
        {
          "name": "stdout",
          "output_type": "stream",
          "text": [
            "2025-08-26 15:33:04,644 - Epoch 1/2 — Train RMSE: 0.4842 — Validation RMSE: 0.4242\n"
          ]
        },
        {
          "name": "stderr",
          "output_type": "stream",
          "text": [
            "Epochs:  50%|█████     | 1/2 [00:25<00:25, 25.45s/it]"
          ]
        },
        {
          "name": "stdout",
          "output_type": "stream",
          "text": [
            "2025-08-26 15:33:30,651 - Epoch 2/2 — Train RMSE: 0.4354 — Validation RMSE: 0.4240\n"
          ]
        },
        {
          "name": "stderr",
          "output_type": "stream",
          "text": [
            "Epochs: 100%|██████████| 2/2 [00:51<00:00, 25.73s/it]\n"
          ]
        },
        {
          "name": "stdout",
          "output_type": "stream",
          "text": [
            "2025-08-26 15:33:34,242 - Trial 100 with params: {'idxAfterPrediction': 4, 'timesteps': 75, 'target_option': 'last', 'LoadupSamples_time_scaling_stretch': True, 'LoadupSamples_time_inc_factor': 81, 'LSTM_units': 16, 'LSTM_num_layers': 1, 'LSTM_dropout': 0.008401051365454857, 'LSTM_recurrent_dropout': 0.0016641178022421392, 'LSTM_learning_rate': 0.00022314238641218045, 'LSTM_optimizer': 'adam', 'LSTM_bidirectional': True, 'LSTM_batch_size': 4096, 'LSTM_epochs': 2, 'LSTM_l1': 3.189969700376964e-05, 'LSTM_l2': 0.00013564657016883945, 'LSTM_inter_dropout': 0.014757361338338647, 'LSTM_input_gaussian_noise': 0.001, 'LSTM_conv1d': True, 'LSTM_conv1d_kernel_size': 3, 'LSTM_loss': 'mse', 'LSTM_transformer_before': False, 'LSTM_transformer_after': False, 'LSTM_tf_d_model': 0, 'LSTM_tf_nhead': 2, 'LSTM_tf_num_layers_before': 0, 'LSTM_tf_num_layers_after': 0, 'LSTM_tf_dim_feedforward': 8, 'LSTM_tf_dropout': 0.1, 'LSTM_tf_positional_encoding': True, 'LSTM_tf_pool': 'last', 'year_start': 2020, 'is_single_feature': False}\n",
            "2025-08-26 15:33:34,242 -   q2: 0.9900\n",
            "2025-08-26 15:33:34,242 -   Duration0: 0:00:55.209127\n",
            "2025-08-26 15:33:34,242 -   Val RMSE0 adjusted: 0.0052\n",
            "2025-08-26 15:33:34,242 -   Mean all prediction: 0.9993\n",
            "2025-08-26 15:33:34,242 -   Mean above prediction: 1.0084\n",
            "2025-08-26 15:33:34,242 -   Mean below prediction: 0.9959\n",
            "2025-08-26 15:33:34,242 -   Quantile 0.99 for distance in mask above: 928.6799999999985\n",
            "2025-08-26 15:33:34,242 -   Quantile 0.99 for distance in mask below: 863.2399999999998\n",
            "2025-08-26 15:33:34,242 -   Ratio for quantile-distance-to-length above: 0.0014\n",
            "2025-08-26 15:33:34,257 -   Ratio for quantile-distance-to-length below: 0.0013\n",
            "2025-08-26 15:33:34,257 -   Score: 1.0021\n"
          ]
        },
        {
          "name": "stderr",
          "output_type": "stream",
          "text": [
            "[I 2025-08-26 15:33:34,325] Trial 100 finished with value: 1.0020881082712647 and parameters: {'year_start': 2020, 'LoadupSamples_time_inc_factor': 81, 'LSTM_units': 16, 'LSTM_learning_rate': 0.00022314238641218045, 'LSTM_l1': 3.189969700376964e-05, 'LSTM_l2': 0.00013564657016883945, 'LSTM_dropout': 0.008401051365454857, 'LSTM_inter_dropout': 0.014757361338338647, 'LSTM_recurrent_dropout': 0.0016641178022421392}. Best is trial 38 with value: 1.0030939915675743.\n"
          ]
        },
        {
          "name": "stdout",
          "output_type": "stream",
          "text": [
            "2025-08-26 15:33:34,325 - Trial 100 finished with value: 1.0020881082712647 and parameters: {'year_start': 2020, 'LoadupSamples_time_inc_factor': 81, 'LSTM_units': 16, 'LSTM_learning_rate': 0.00022314238641218045, 'LSTM_l1': 3.189969700376964e-05, 'LSTM_l2': 0.00013564657016883945, 'LSTM_dropout': 0.008401051365454857, 'LSTM_inter_dropout': 0.014757361338338647, 'LSTM_recurrent_dropout': 0.0016641178022421392}. Best is trial 38 with value: 1.0030939915675743.\n",
            "2025-08-26 15:33:43,496 - Non-finite/too-large values in train y time: 48 samples.\n",
            "2025-08-26 15:33:43,511 - Removing 48 samples from training data.\n"
          ]
        },
        {
          "name": "stderr",
          "output_type": "stream",
          "text": [
            "Epochs:   0%|          | 0/2 [00:00<?, ?it/s]"
          ]
        },
        {
          "name": "stdout",
          "output_type": "stream",
          "text": [
            "2025-08-26 15:34:23,464 - Epoch 1/2 — Train RMSE: 0.4239 — Validation RMSE: 0.4020\n"
          ]
        },
        {
          "name": "stderr",
          "output_type": "stream",
          "text": [
            "Epochs:  50%|█████     | 1/2 [00:29<00:29, 29.48s/it]"
          ]
        },
        {
          "name": "stdout",
          "output_type": "stream",
          "text": [
            "2025-08-26 15:34:52,829 - Epoch 2/2 — Train RMSE: 0.4157 — Validation RMSE: 0.4020\n"
          ]
        },
        {
          "name": "stderr",
          "output_type": "stream",
          "text": [
            "Epochs: 100%|██████████| 2/2 [00:58<00:00, 29.42s/it]\n"
          ]
        },
        {
          "name": "stdout",
          "output_type": "stream",
          "text": [
            "2025-08-26 15:34:56,905 - Trial 101 with params: {'idxAfterPrediction': 4, 'timesteps': 75, 'target_option': 'last', 'LoadupSamples_time_scaling_stretch': True, 'LoadupSamples_time_inc_factor': 61, 'LSTM_units': 32, 'LSTM_num_layers': 1, 'LSTM_dropout': 0.005070853085039622, 'LSTM_recurrent_dropout': 0.001248847312582002, 'LSTM_learning_rate': 0.00019649742257375356, 'LSTM_optimizer': 'adam', 'LSTM_bidirectional': True, 'LSTM_batch_size': 4096, 'LSTM_epochs': 2, 'LSTM_l1': 2.9946005399111463e-05, 'LSTM_l2': 0.0001551128272927386, 'LSTM_inter_dropout': 0.015881981160488858, 'LSTM_input_gaussian_noise': 0.001, 'LSTM_conv1d': True, 'LSTM_conv1d_kernel_size': 3, 'LSTM_loss': 'mse', 'LSTM_transformer_before': False, 'LSTM_transformer_after': False, 'LSTM_tf_d_model': 0, 'LSTM_tf_nhead': 2, 'LSTM_tf_num_layers_before': 0, 'LSTM_tf_num_layers_after': 0, 'LSTM_tf_dim_feedforward': 8, 'LSTM_tf_dropout': 0.1, 'LSTM_tf_positional_encoding': True, 'LSTM_tf_pool': 'last', 'year_start': 2020, 'is_single_feature': False}\n",
            "2025-08-26 15:34:56,905 -   q2: 0.9900\n",
            "2025-08-26 15:34:56,905 -   Duration0: 0:01:03.053763\n",
            "2025-08-26 15:34:56,905 -   Val RMSE0 adjusted: 0.0066\n",
            "2025-08-26 15:34:56,905 -   Mean all prediction: 0.9993\n",
            "2025-08-26 15:34:56,905 -   Mean above prediction: 1.0054\n",
            "2025-08-26 15:34:56,905 -   Mean below prediction: 0.9958\n",
            "2025-08-26 15:34:56,905 -   Quantile 0.99 for distance in mask above: 1070.0\n",
            "2025-08-26 15:34:56,905 -   Quantile 0.99 for distance in mask below: 843.6399999999976\n",
            "2025-08-26 15:34:56,905 -   Ratio for quantile-distance-to-length above: 0.0016\n",
            "2025-08-26 15:34:56,920 -   Ratio for quantile-distance-to-length below: 0.0013\n",
            "2025-08-26 15:34:56,921 -   Score: 1.0014\n"
          ]
        },
        {
          "name": "stderr",
          "output_type": "stream",
          "text": [
            "[I 2025-08-26 15:34:56,971] Trial 101 finished with value: 1.0013535087220353 and parameters: {'year_start': 2020, 'LoadupSamples_time_inc_factor': 61, 'LSTM_units': 32, 'LSTM_learning_rate': 0.00019649742257375356, 'LSTM_l1': 2.9946005399111463e-05, 'LSTM_l2': 0.0001551128272927386, 'LSTM_dropout': 0.005070853085039622, 'LSTM_inter_dropout': 0.015881981160488858, 'LSTM_recurrent_dropout': 0.001248847312582002}. Best is trial 38 with value: 1.0030939915675743.\n"
          ]
        },
        {
          "name": "stdout",
          "output_type": "stream",
          "text": [
            "2025-08-26 15:34:56,971 - Trial 101 finished with value: 1.0013535087220353 and parameters: {'year_start': 2020, 'LoadupSamples_time_inc_factor': 61, 'LSTM_units': 32, 'LSTM_learning_rate': 0.00019649742257375356, 'LSTM_l1': 2.9946005399111463e-05, 'LSTM_l2': 0.0001551128272927386, 'LSTM_dropout': 0.005070853085039622, 'LSTM_inter_dropout': 0.015881981160488858, 'LSTM_recurrent_dropout': 0.001248847312582002}. Best is trial 38 with value: 1.0030939915675743.\n",
            "2025-08-26 15:35:06,127 - Non-finite/too-large values in train y time: 48 samples.\n",
            "2025-08-26 15:35:06,141 - Removing 48 samples from training data.\n"
          ]
        },
        {
          "name": "stderr",
          "output_type": "stream",
          "text": [
            "Epochs:   0%|          | 0/2 [00:00<?, ?it/s]"
          ]
        },
        {
          "name": "stdout",
          "output_type": "stream",
          "text": [
            "2025-08-26 15:35:46,095 - Epoch 1/2 — Train RMSE: 0.4563 — Validation RMSE: 0.4025\n"
          ]
        },
        {
          "name": "stderr",
          "output_type": "stream",
          "text": [
            "Epochs:  50%|█████     | 1/2 [00:29<00:29, 29.56s/it]"
          ]
        },
        {
          "name": "stdout",
          "output_type": "stream",
          "text": [
            "2025-08-26 15:36:15,542 - Epoch 2/2 — Train RMSE: 0.4169 — Validation RMSE: 0.4022\n"
          ]
        },
        {
          "name": "stderr",
          "output_type": "stream",
          "text": [
            "Epochs: 100%|██████████| 2/2 [00:59<00:00, 29.50s/it]\n"
          ]
        },
        {
          "name": "stdout",
          "output_type": "stream",
          "text": [
            "2025-08-26 15:36:19,651 - Trial 102 with params: {'idxAfterPrediction': 4, 'timesteps': 75, 'target_option': 'last', 'LoadupSamples_time_scaling_stretch': True, 'LoadupSamples_time_inc_factor': 61, 'LSTM_units': 32, 'LSTM_num_layers': 1, 'LSTM_dropout': 0.004492266788476448, 'LSTM_recurrent_dropout': 0.0013274928697057688, 'LSTM_learning_rate': 0.00020563026216454433, 'LSTM_optimizer': 'adam', 'LSTM_bidirectional': True, 'LSTM_batch_size': 4096, 'LSTM_epochs': 2, 'LSTM_l1': 2.8278367759259863e-05, 'LSTM_l2': 0.00012089085137122983, 'LSTM_inter_dropout': 0.01744879165946664, 'LSTM_input_gaussian_noise': 0.001, 'LSTM_conv1d': True, 'LSTM_conv1d_kernel_size': 3, 'LSTM_loss': 'mse', 'LSTM_transformer_before': False, 'LSTM_transformer_after': False, 'LSTM_tf_d_model': 0, 'LSTM_tf_nhead': 2, 'LSTM_tf_num_layers_before': 0, 'LSTM_tf_num_layers_after': 0, 'LSTM_tf_dim_feedforward': 8, 'LSTM_tf_dropout': 0.1, 'LSTM_tf_positional_encoding': True, 'LSTM_tf_pool': 'last', 'year_start': 2020, 'is_single_feature': False}\n",
            "2025-08-26 15:36:19,651 -   q2: 0.9900\n",
            "2025-08-26 15:36:19,651 -   Duration0: 0:01:03.272822\n",
            "2025-08-26 15:36:19,651 -   Val RMSE0 adjusted: 0.0066\n",
            "2025-08-26 15:36:19,651 -   Mean all prediction: 0.9993\n",
            "2025-08-26 15:36:19,651 -   Mean above prediction: 1.0064\n",
            "2025-08-26 15:36:19,651 -   Mean below prediction: 0.9967\n",
            "2025-08-26 15:36:19,651 -   Quantile 0.99 for distance in mask above: 1094.9599999999991\n",
            "2025-08-26 15:36:19,651 -   Quantile 0.99 for distance in mask below: 886.0\n",
            "2025-08-26 15:36:19,651 -   Ratio for quantile-distance-to-length above: 0.0017\n",
            "2025-08-26 15:36:19,651 -   Ratio for quantile-distance-to-length below: 0.0013\n",
            "2025-08-26 15:36:19,651 -   Score: 1.0016\n"
          ]
        },
        {
          "name": "stderr",
          "output_type": "stream",
          "text": [
            "[I 2025-08-26 15:36:19,718] Trial 102 finished with value: 1.0015892578274341 and parameters: {'year_start': 2020, 'LoadupSamples_time_inc_factor': 61, 'LSTM_units': 32, 'LSTM_learning_rate': 0.00020563026216454433, 'LSTM_l1': 2.8278367759259863e-05, 'LSTM_l2': 0.00012089085137122983, 'LSTM_dropout': 0.004492266788476448, 'LSTM_inter_dropout': 0.01744879165946664, 'LSTM_recurrent_dropout': 0.0013274928697057688}. Best is trial 38 with value: 1.0030939915675743.\n"
          ]
        },
        {
          "name": "stdout",
          "output_type": "stream",
          "text": [
            "2025-08-26 15:36:19,718 - Trial 102 finished with value: 1.0015892578274341 and parameters: {'year_start': 2020, 'LoadupSamples_time_inc_factor': 61, 'LSTM_units': 32, 'LSTM_learning_rate': 0.00020563026216454433, 'LSTM_l1': 2.8278367759259863e-05, 'LSTM_l2': 0.00012089085137122983, 'LSTM_dropout': 0.004492266788476448, 'LSTM_inter_dropout': 0.01744879165946664, 'LSTM_recurrent_dropout': 0.0013274928697057688}. Best is trial 38 with value: 1.0030939915675743.\n",
            "2025-08-26 15:36:27,217 - Non-finite/too-large values in train y time: 48 samples.\n",
            "2025-08-26 15:36:27,217 - Removing 48 samples from training data.\n"
          ]
        },
        {
          "name": "stderr",
          "output_type": "stream",
          "text": [
            "Epochs:   0%|          | 0/2 [00:00<?, ?it/s]"
          ]
        },
        {
          "name": "stdout",
          "output_type": "stream",
          "text": [
            "2025-08-26 15:36:59,120 - Epoch 1/2 — Train RMSE: 0.4481 — Validation RMSE: 0.4022\n"
          ]
        },
        {
          "name": "stderr",
          "output_type": "stream",
          "text": [
            "Epochs:  50%|█████     | 1/2 [00:23<00:23, 23.57s/it]"
          ]
        },
        {
          "name": "stdout",
          "output_type": "stream",
          "text": [
            "2025-08-26 15:37:22,470 - Epoch 2/2 — Train RMSE: 0.4108 — Validation RMSE: 0.4021\n"
          ]
        },
        {
          "name": "stderr",
          "output_type": "stream",
          "text": [
            "Epochs: 100%|██████████| 2/2 [00:46<00:00, 23.46s/it]\n"
          ]
        },
        {
          "name": "stdout",
          "output_type": "stream",
          "text": [
            "2025-08-26 15:37:26,383 - Trial 103 with params: {'idxAfterPrediction': 4, 'timesteps': 75, 'target_option': 'last', 'LoadupSamples_time_scaling_stretch': True, 'LoadupSamples_time_inc_factor': 61, 'LSTM_units': 32, 'LSTM_num_layers': 1, 'LSTM_dropout': 0.0059335287484957805, 'LSTM_recurrent_dropout': 0.0011285766134505417, 'LSTM_learning_rate': 0.00018006708657572517, 'LSTM_optimizer': 'adam', 'LSTM_bidirectional': True, 'LSTM_batch_size': 4096, 'LSTM_epochs': 2, 'LSTM_l1': 2.73275827237594e-05, 'LSTM_l2': 0.0004368649431604553, 'LSTM_inter_dropout': 0.019207501626088183, 'LSTM_input_gaussian_noise': 0.001, 'LSTM_conv1d': True, 'LSTM_conv1d_kernel_size': 3, 'LSTM_loss': 'mse', 'LSTM_transformer_before': False, 'LSTM_transformer_after': False, 'LSTM_tf_d_model': 0, 'LSTM_tf_nhead': 2, 'LSTM_tf_num_layers_before': 0, 'LSTM_tf_num_layers_after': 0, 'LSTM_tf_dim_feedforward': 8, 'LSTM_tf_dropout': 0.1, 'LSTM_tf_positional_encoding': True, 'LSTM_tf_pool': 'last', 'year_start': 2021, 'is_single_feature': False}\n",
            "2025-08-26 15:37:26,383 -   q2: 0.9900\n",
            "2025-08-26 15:37:26,383 -   Duration0: 0:00:50.924921\n",
            "2025-08-26 15:37:26,383 -   Val RMSE0 adjusted: 0.0066\n",
            "2025-08-26 15:37:26,383 -   Mean all prediction: 0.9993\n",
            "2025-08-26 15:37:26,383 -   Mean above prediction: 1.0027\n",
            "2025-08-26 15:37:26,383 -   Mean below prediction: 0.9958\n",
            "2025-08-26 15:37:26,396 -   Quantile 0.99 for distance in mask above: 892.4799999999996\n",
            "2025-08-26 15:37:26,396 -   Quantile 0.99 for distance in mask below: 870.1999999999989\n",
            "2025-08-26 15:37:26,396 -   Ratio for quantile-distance-to-length above: 0.0014\n",
            "2025-08-26 15:37:26,396 -   Ratio for quantile-distance-to-length below: 0.0013\n",
            "2025-08-26 15:37:26,396 -   Score: 1.0007\n"
          ]
        },
        {
          "name": "stderr",
          "output_type": "stream",
          "text": [
            "[I 2025-08-26 15:37:26,446] Trial 103 finished with value: 1.0006754507462854 and parameters: {'year_start': 2021, 'LoadupSamples_time_inc_factor': 61, 'LSTM_units': 32, 'LSTM_learning_rate': 0.00018006708657572517, 'LSTM_l1': 2.73275827237594e-05, 'LSTM_l2': 0.0004368649431604553, 'LSTM_dropout': 0.0059335287484957805, 'LSTM_inter_dropout': 0.019207501626088183, 'LSTM_recurrent_dropout': 0.0011285766134505417}. Best is trial 38 with value: 1.0030939915675743.\n"
          ]
        },
        {
          "name": "stdout",
          "output_type": "stream",
          "text": [
            "2025-08-26 15:37:26,446 - Trial 103 finished with value: 1.0006754507462854 and parameters: {'year_start': 2021, 'LoadupSamples_time_inc_factor': 61, 'LSTM_units': 32, 'LSTM_learning_rate': 0.00018006708657572517, 'LSTM_l1': 2.73275827237594e-05, 'LSTM_l2': 0.0004368649431604553, 'LSTM_dropout': 0.0059335287484957805, 'LSTM_inter_dropout': 0.019207501626088183, 'LSTM_recurrent_dropout': 0.0011285766134505417}. Best is trial 38 with value: 1.0030939915675743.\n",
            "2025-08-26 15:37:35,599 - Non-finite/too-large values in train y time: 48 samples.\n",
            "2025-08-26 15:37:35,599 - Removing 48 samples from training data.\n"
          ]
        },
        {
          "name": "stderr",
          "output_type": "stream",
          "text": [
            "Epochs:   0%|          | 0/2 [00:00<?, ?it/s]"
          ]
        },
        {
          "name": "stdout",
          "output_type": "stream",
          "text": [
            "2025-08-26 15:38:15,619 - Epoch 1/2 — Train RMSE: 0.4625 — Validation RMSE: 0.4024\n"
          ]
        },
        {
          "name": "stderr",
          "output_type": "stream",
          "text": [
            "Epochs:  50%|█████     | 1/2 [00:29<00:29, 29.56s/it]"
          ]
        },
        {
          "name": "stdout",
          "output_type": "stream",
          "text": [
            "2025-08-26 15:38:45,000 - Epoch 2/2 — Train RMSE: 0.4170 — Validation RMSE: 0.4021\n"
          ]
        },
        {
          "name": "stderr",
          "output_type": "stream",
          "text": [
            "Epochs: 100%|██████████| 2/2 [00:58<00:00, 29.48s/it]\n"
          ]
        },
        {
          "name": "stdout",
          "output_type": "stream",
          "text": [
            "2025-08-26 15:38:49,042 - Trial 104 with params: {'idxAfterPrediction': 4, 'timesteps': 75, 'target_option': 'last', 'LoadupSamples_time_scaling_stretch': True, 'LoadupSamples_time_inc_factor': 61, 'LSTM_units': 32, 'LSTM_num_layers': 1, 'LSTM_dropout': 0.0029012890154730656, 'LSTM_recurrent_dropout': 0.0012547192157793224, 'LSTM_learning_rate': 0.00018990729031656404, 'LSTM_optimizer': 'adam', 'LSTM_bidirectional': True, 'LSTM_batch_size': 4096, 'LSTM_epochs': 2, 'LSTM_l1': 9.986139768524964e-05, 'LSTM_l2': 0.0005904448993964364, 'LSTM_inter_dropout': 0.02057312775042925, 'LSTM_input_gaussian_noise': 0.001, 'LSTM_conv1d': True, 'LSTM_conv1d_kernel_size': 3, 'LSTM_loss': 'mse', 'LSTM_transformer_before': False, 'LSTM_transformer_after': False, 'LSTM_tf_d_model': 0, 'LSTM_tf_nhead': 2, 'LSTM_tf_num_layers_before': 0, 'LSTM_tf_num_layers_after': 0, 'LSTM_tf_dim_feedforward': 8, 'LSTM_tf_dropout': 0.1, 'LSTM_tf_positional_encoding': True, 'LSTM_tf_pool': 'last', 'year_start': 2020, 'is_single_feature': False}\n",
            "2025-08-26 15:38:49,042 -   q2: 0.9900\n",
            "2025-08-26 15:38:49,042 -   Duration0: 0:01:03.128571\n",
            "2025-08-26 15:38:49,042 -   Val RMSE0 adjusted: 0.0066\n",
            "2025-08-26 15:38:49,059 -   Mean all prediction: 0.9993\n",
            "2025-08-26 15:38:49,059 -   Mean above prediction: 1.0085\n",
            "2025-08-26 15:38:49,059 -   Mean below prediction: 0.9977\n",
            "2025-08-26 15:38:49,059 -   Quantile 0.99 for distance in mask above: 868.2399999999998\n",
            "2025-08-26 15:38:49,059 -   Quantile 0.99 for distance in mask below: 893.0\n",
            "2025-08-26 15:38:49,059 -   Ratio for quantile-distance-to-length above: 0.0013\n",
            "2025-08-26 15:38:49,059 -   Ratio for quantile-distance-to-length below: 0.0014\n",
            "2025-08-26 15:38:49,059 -   Score: 1.0021\n"
          ]
        },
        {
          "name": "stderr",
          "output_type": "stream",
          "text": [
            "[I 2025-08-26 15:38:49,126] Trial 104 finished with value: 1.0021265576702814 and parameters: {'year_start': 2020, 'LoadupSamples_time_inc_factor': 61, 'LSTM_units': 32, 'LSTM_learning_rate': 0.00018990729031656404, 'LSTM_l1': 9.986139768524964e-05, 'LSTM_l2': 0.0005904448993964364, 'LSTM_dropout': 0.0029012890154730656, 'LSTM_inter_dropout': 0.02057312775042925, 'LSTM_recurrent_dropout': 0.0012547192157793224}. Best is trial 38 with value: 1.0030939915675743.\n"
          ]
        },
        {
          "name": "stdout",
          "output_type": "stream",
          "text": [
            "2025-08-26 15:38:49,126 - Trial 104 finished with value: 1.0021265576702814 and parameters: {'year_start': 2020, 'LoadupSamples_time_inc_factor': 61, 'LSTM_units': 32, 'LSTM_learning_rate': 0.00018990729031656404, 'LSTM_l1': 9.986139768524964e-05, 'LSTM_l2': 0.0005904448993964364, 'LSTM_dropout': 0.0029012890154730656, 'LSTM_inter_dropout': 0.02057312775042925, 'LSTM_recurrent_dropout': 0.0012547192157793224}. Best is trial 38 with value: 1.0030939915675743.\n",
            "2025-08-26 15:38:56,659 - Non-finite/too-large values in train y time: 48 samples.\n",
            "2025-08-26 15:38:56,659 - Removing 48 samples from training data.\n"
          ]
        },
        {
          "name": "stderr",
          "output_type": "stream",
          "text": [
            "Epochs:   0%|          | 0/2 [00:00<?, ?it/s]"
          ]
        },
        {
          "name": "stdout",
          "output_type": "stream",
          "text": [
            "2025-08-26 15:39:28,896 - Epoch 1/2 — Train RMSE: 0.4601 — Validation RMSE: 0.4029\n"
          ]
        },
        {
          "name": "stderr",
          "output_type": "stream",
          "text": [
            "Epochs:  50%|█████     | 1/2 [00:23<00:23, 23.73s/it]"
          ]
        },
        {
          "name": "stdout",
          "output_type": "stream",
          "text": [
            "2025-08-26 15:39:52,296 - Epoch 2/2 — Train RMSE: 0.4121 — Validation RMSE: 0.4024\n"
          ]
        },
        {
          "name": "stderr",
          "output_type": "stream",
          "text": [
            "Epochs: 100%|██████████| 2/2 [00:47<00:00, 23.56s/it]\n"
          ]
        },
        {
          "name": "stdout",
          "output_type": "stream",
          "text": [
            "2025-08-26 15:39:56,322 - Trial 105 with params: {'idxAfterPrediction': 4, 'timesteps': 75, 'target_option': 'last', 'LoadupSamples_time_scaling_stretch': True, 'LoadupSamples_time_inc_factor': 61, 'LSTM_units': 32, 'LSTM_num_layers': 1, 'LSTM_dropout': 0.005440598249145106, 'LSTM_recurrent_dropout': 0.0014047527888568355, 'LSTM_learning_rate': 0.00020981160346911432, 'LSTM_optimizer': 'adam', 'LSTM_bidirectional': True, 'LSTM_batch_size': 4096, 'LSTM_epochs': 2, 'LSTM_l1': 1.2850695854527415e-05, 'LSTM_l2': 0.00015807482425483034, 'LSTM_inter_dropout': 0.024266510180585427, 'LSTM_input_gaussian_noise': 0.001, 'LSTM_conv1d': True, 'LSTM_conv1d_kernel_size': 3, 'LSTM_loss': 'mse', 'LSTM_transformer_before': False, 'LSTM_transformer_after': False, 'LSTM_tf_d_model': 0, 'LSTM_tf_nhead': 2, 'LSTM_tf_num_layers_before': 0, 'LSTM_tf_num_layers_after': 0, 'LSTM_tf_dim_feedforward': 8, 'LSTM_tf_dropout': 0.1, 'LSTM_tf_positional_encoding': True, 'LSTM_tf_pool': 'last', 'year_start': 2021, 'is_single_feature': False}\n",
            "2025-08-26 15:39:56,322 -   q2: 0.9900\n",
            "2025-08-26 15:39:56,322 -   Duration0: 0:00:51.258621\n",
            "2025-08-26 15:39:56,322 -   Val RMSE0 adjusted: 0.0066\n",
            "2025-08-26 15:39:56,337 -   Mean all prediction: 0.9993\n",
            "2025-08-26 15:39:56,338 -   Mean above prediction: 1.0051\n",
            "2025-08-26 15:39:56,339 -   Mean below prediction: 0.9976\n",
            "2025-08-26 15:39:56,340 -   Quantile 0.99 for distance in mask above: 855.0\n",
            "2025-08-26 15:39:56,341 -   Quantile 0.99 for distance in mask below: 880.4799999999996\n",
            "2025-08-26 15:39:56,342 -   Ratio for quantile-distance-to-length above: 0.0013\n",
            "2025-08-26 15:39:56,342 -   Ratio for quantile-distance-to-length below: 0.0013\n",
            "2025-08-26 15:39:56,342 -   Score: 1.0013\n"
          ]
        },
        {
          "name": "stderr",
          "output_type": "stream",
          "text": [
            "[I 2025-08-26 15:39:56,389] Trial 105 finished with value: 1.0012639600560018 and parameters: {'year_start': 2021, 'LoadupSamples_time_inc_factor': 61, 'LSTM_units': 32, 'LSTM_learning_rate': 0.00020981160346911432, 'LSTM_l1': 1.2850695854527415e-05, 'LSTM_l2': 0.00015807482425483034, 'LSTM_dropout': 0.005440598249145106, 'LSTM_inter_dropout': 0.024266510180585427, 'LSTM_recurrent_dropout': 0.0014047527888568355}. Best is trial 38 with value: 1.0030939915675743.\n"
          ]
        },
        {
          "name": "stdout",
          "output_type": "stream",
          "text": [
            "2025-08-26 15:39:56,389 - Trial 105 finished with value: 1.0012639600560018 and parameters: {'year_start': 2021, 'LoadupSamples_time_inc_factor': 61, 'LSTM_units': 32, 'LSTM_learning_rate': 0.00020981160346911432, 'LSTM_l1': 1.2850695854527415e-05, 'LSTM_l2': 0.00015807482425483034, 'LSTM_dropout': 0.005440598249145106, 'LSTM_inter_dropout': 0.024266510180585427, 'LSTM_recurrent_dropout': 0.0014047527888568355}. Best is trial 38 with value: 1.0030939915675743.\n",
            "2025-08-26 15:40:05,474 - Non-finite/too-large values in train y time: 48 samples.\n",
            "2025-08-26 15:40:05,491 - Removing 48 samples from training data.\n"
          ]
        },
        {
          "name": "stderr",
          "output_type": "stream",
          "text": [
            "Epochs:   0%|          | 0/2 [00:00<?, ?it/s]"
          ]
        },
        {
          "name": "stdout",
          "output_type": "stream",
          "text": [
            "2025-08-26 15:40:45,311 - Epoch 1/2 — Train RMSE: 0.4335 — Validation RMSE: 0.4085\n"
          ]
        },
        {
          "name": "stderr",
          "output_type": "stream",
          "text": [
            "Epochs:  50%|█████     | 1/2 [00:29<00:29, 29.54s/it]"
          ]
        },
        {
          "name": "stdout",
          "output_type": "stream",
          "text": [
            "2025-08-26 15:41:14,725 - Epoch 2/2 — Train RMSE: 0.4217 — Validation RMSE: 0.4085\n"
          ]
        },
        {
          "name": "stderr",
          "output_type": "stream",
          "text": [
            "Epochs: 100%|██████████| 2/2 [00:58<00:00, 29.48s/it]\n"
          ]
        },
        {
          "name": "stdout",
          "output_type": "stream",
          "text": [
            "2025-08-26 15:41:18,750 - Trial 106 with params: {'idxAfterPrediction': 4, 'timesteps': 75, 'target_option': 'last', 'LoadupSamples_time_scaling_stretch': True, 'LoadupSamples_time_inc_factor': 66, 'LSTM_units': 32, 'LSTM_num_layers': 1, 'LSTM_dropout': 0.007323578257083047, 'LSTM_recurrent_dropout': 0.0015022750791624372, 'LSTM_learning_rate': 0.0002312310819391026, 'LSTM_optimizer': 'adam', 'LSTM_bidirectional': True, 'LSTM_batch_size': 4096, 'LSTM_epochs': 2, 'LSTM_l1': 2.626913622066782e-05, 'LSTM_l2': 0.00010969782550657914, 'LSTM_inter_dropout': 0.01664428374845427, 'LSTM_input_gaussian_noise': 0.001, 'LSTM_conv1d': True, 'LSTM_conv1d_kernel_size': 3, 'LSTM_loss': 'mse', 'LSTM_transformer_before': False, 'LSTM_transformer_after': False, 'LSTM_tf_d_model': 0, 'LSTM_tf_nhead': 2, 'LSTM_tf_num_layers_before': 0, 'LSTM_tf_num_layers_after': 0, 'LSTM_tf_dim_feedforward': 8, 'LSTM_tf_dropout': 0.1, 'LSTM_tf_positional_encoding': True, 'LSTM_tf_pool': 'last', 'year_start': 2020, 'is_single_feature': False}\n",
            "2025-08-26 15:41:18,750 -   q2: 0.9900\n",
            "2025-08-26 15:41:18,750 -   Duration0: 0:01:03.170079\n",
            "2025-08-26 15:41:18,766 -   Val RMSE0 adjusted: 0.0062\n",
            "2025-08-26 15:41:18,768 -   Mean all prediction: 0.9993\n",
            "2025-08-26 15:41:18,768 -   Mean above prediction: 1.0089\n",
            "2025-08-26 15:41:18,768 -   Mean below prediction: 0.9962\n",
            "2025-08-26 15:41:18,768 -   Quantile 0.99 for distance in mask above: 885.4799999999996\n",
            "2025-08-26 15:41:18,768 -   Quantile 0.99 for distance in mask below: 868.6799999999985\n",
            "2025-08-26 15:41:18,768 -   Ratio for quantile-distance-to-length above: 0.0013\n",
            "2025-08-26 15:41:18,768 -   Ratio for quantile-distance-to-length below: 0.0013\n",
            "2025-08-26 15:41:18,768 -   Score: 1.0022\n"
          ]
        },
        {
          "name": "stderr",
          "output_type": "stream",
          "text": [
            "[I 2025-08-26 15:41:18,837] Trial 106 finished with value: 1.0022252743235844 and parameters: {'year_start': 2020, 'LoadupSamples_time_inc_factor': 66, 'LSTM_units': 32, 'LSTM_learning_rate': 0.0002312310819391026, 'LSTM_l1': 2.626913622066782e-05, 'LSTM_l2': 0.00010969782550657914, 'LSTM_dropout': 0.007323578257083047, 'LSTM_inter_dropout': 0.01664428374845427, 'LSTM_recurrent_dropout': 0.0015022750791624372}. Best is trial 38 with value: 1.0030939915675743.\n"
          ]
        },
        {
          "name": "stdout",
          "output_type": "stream",
          "text": [
            "2025-08-26 15:41:18,837 - Trial 106 finished with value: 1.0022252743235844 and parameters: {'year_start': 2020, 'LoadupSamples_time_inc_factor': 66, 'LSTM_units': 32, 'LSTM_learning_rate': 0.0002312310819391026, 'LSTM_l1': 2.626913622066782e-05, 'LSTM_l2': 0.00010969782550657914, 'LSTM_dropout': 0.007323578257083047, 'LSTM_inter_dropout': 0.01664428374845427, 'LSTM_recurrent_dropout': 0.0015022750791624372}. Best is trial 38 with value: 1.0030939915675743.\n",
            "2025-08-26 15:41:26,317 - Non-finite/too-large values in train y time: 48 samples.\n",
            "2025-08-26 15:41:26,317 - Removing 48 samples from training data.\n"
          ]
        },
        {
          "name": "stderr",
          "output_type": "stream",
          "text": [
            "Epochs:   0%|          | 0/2 [00:00<?, ?it/s]"
          ]
        },
        {
          "name": "stdout",
          "output_type": "stream",
          "text": [
            "2025-08-26 15:41:58,253 - Epoch 1/2 — Train RMSE: 0.4422 — Validation RMSE: 0.4024\n"
          ]
        },
        {
          "name": "stderr",
          "output_type": "stream",
          "text": [
            "Epochs:  50%|█████     | 1/2 [00:23<00:23, 23.57s/it]"
          ]
        },
        {
          "name": "stdout",
          "output_type": "stream",
          "text": [
            "2025-08-26 15:42:21,669 - Epoch 2/2 — Train RMSE: 0.4114 — Validation RMSE: 0.4022\n"
          ]
        },
        {
          "name": "stderr",
          "output_type": "stream",
          "text": [
            "Epochs: 100%|██████████| 2/2 [00:46<00:00, 23.49s/it]\n"
          ]
        },
        {
          "name": "stdout",
          "output_type": "stream",
          "text": [
            "2025-08-26 15:42:25,696 - Trial 107 with params: {'idxAfterPrediction': 4, 'timesteps': 75, 'target_option': 'last', 'LoadupSamples_time_scaling_stretch': True, 'LoadupSamples_time_inc_factor': 61, 'LSTM_units': 32, 'LSTM_num_layers': 1, 'LSTM_dropout': 0.006215440155691212, 'LSTM_recurrent_dropout': 0.0019105270323652457, 'LSTM_learning_rate': 0.0003150119618854135, 'LSTM_optimizer': 'adam', 'LSTM_bidirectional': True, 'LSTM_batch_size': 4096, 'LSTM_epochs': 2, 'LSTM_l1': 4.3500512861234994e-05, 'LSTM_l2': 0.0014086829444202864, 'LSTM_inter_dropout': 0.01782057204201418, 'LSTM_input_gaussian_noise': 0.001, 'LSTM_conv1d': True, 'LSTM_conv1d_kernel_size': 3, 'LSTM_loss': 'mse', 'LSTM_transformer_before': False, 'LSTM_transformer_after': False, 'LSTM_tf_d_model': 0, 'LSTM_tf_nhead': 2, 'LSTM_tf_num_layers_before': 0, 'LSTM_tf_num_layers_after': 0, 'LSTM_tf_dim_feedforward': 8, 'LSTM_tf_dropout': 0.1, 'LSTM_tf_positional_encoding': True, 'LSTM_tf_pool': 'last', 'year_start': 2021, 'is_single_feature': False}\n",
            "2025-08-26 15:42:25,696 -   q2: 0.9900\n",
            "2025-08-26 15:42:25,696 -   Duration0: 0:00:51.110899\n",
            "2025-08-26 15:42:25,696 -   Val RMSE0 adjusted: 0.0066\n",
            "2025-08-26 15:42:25,708 -   Mean all prediction: 0.9993\n",
            "2025-08-26 15:42:25,708 -   Mean above prediction: 1.0079\n",
            "2025-08-26 15:42:25,708 -   Mean below prediction: 0.9983\n",
            "2025-08-26 15:42:25,708 -   Quantile 0.99 for distance in mask above: 864.9599999999991\n",
            "2025-08-26 15:42:25,711 -   Quantile 0.99 for distance in mask below: 920.2399999999998\n",
            "2025-08-26 15:42:25,712 -   Ratio for quantile-distance-to-length above: 0.0013\n",
            "2025-08-26 15:42:25,714 -   Ratio for quantile-distance-to-length below: 0.0014\n",
            "2025-08-26 15:42:25,714 -   Score: 1.0020\n"
          ]
        },
        {
          "name": "stderr",
          "output_type": "stream",
          "text": [
            "[I 2025-08-26 15:42:25,763] Trial 107 finished with value: 1.0019596993787168 and parameters: {'year_start': 2021, 'LoadupSamples_time_inc_factor': 61, 'LSTM_units': 32, 'LSTM_learning_rate': 0.0003150119618854135, 'LSTM_l1': 4.3500512861234994e-05, 'LSTM_l2': 0.0014086829444202864, 'LSTM_dropout': 0.006215440155691212, 'LSTM_inter_dropout': 0.01782057204201418, 'LSTM_recurrent_dropout': 0.0019105270323652457}. Best is trial 38 with value: 1.0030939915675743.\n"
          ]
        },
        {
          "name": "stdout",
          "output_type": "stream",
          "text": [
            "2025-08-26 15:42:25,763 - Trial 107 finished with value: 1.0019596993787168 and parameters: {'year_start': 2021, 'LoadupSamples_time_inc_factor': 61, 'LSTM_units': 32, 'LSTM_learning_rate': 0.0003150119618854135, 'LSTM_l1': 4.3500512861234994e-05, 'LSTM_l2': 0.0014086829444202864, 'LSTM_dropout': 0.006215440155691212, 'LSTM_inter_dropout': 0.01782057204201418, 'LSTM_recurrent_dropout': 0.0019105270323652457}. Best is trial 38 with value: 1.0030939915675743.\n",
            "2025-08-26 15:42:34,849 - Non-finite/too-large values in train y time: 48 samples.\n",
            "2025-08-26 15:42:34,849 - Removing 48 samples from training data.\n"
          ]
        },
        {
          "name": "stderr",
          "output_type": "stream",
          "text": [
            "Epochs:   0%|          | 0/2 [00:00<?, ?it/s]"
          ]
        },
        {
          "name": "stdout",
          "output_type": "stream",
          "text": [
            "2025-08-26 15:43:14,772 - Epoch 1/2 — Train RMSE: 0.4440 — Validation RMSE: 0.4035\n"
          ]
        },
        {
          "name": "stderr",
          "output_type": "stream",
          "text": [
            "Epochs:  50%|█████     | 1/2 [00:29<00:29, 29.60s/it]"
          ]
        },
        {
          "name": "stdout",
          "output_type": "stream",
          "text": [
            "2025-08-26 15:43:44,217 - Epoch 2/2 — Train RMSE: 0.4179 — Validation RMSE: 0.4028\n"
          ]
        },
        {
          "name": "stderr",
          "output_type": "stream",
          "text": [
            "Epochs: 100%|██████████| 2/2 [00:59<00:00, 29.52s/it]\n"
          ]
        },
        {
          "name": "stdout",
          "output_type": "stream",
          "text": [
            "2025-08-26 15:43:48,225 - Trial 108 with params: {'idxAfterPrediction': 4, 'timesteps': 75, 'target_option': 'last', 'LoadupSamples_time_scaling_stretch': True, 'LoadupSamples_time_inc_factor': 61, 'LSTM_units': 32, 'LSTM_num_layers': 1, 'LSTM_dropout': 0.004171338509494261, 'LSTM_recurrent_dropout': 0.0011890993114111509, 'LSTM_learning_rate': 0.0002945864324625308, 'LSTM_optimizer': 'adam', 'LSTM_bidirectional': True, 'LSTM_batch_size': 4096, 'LSTM_epochs': 2, 'LSTM_l1': 3.3028565705584756e-05, 'LSTM_l2': 0.00017252436112163275, 'LSTM_inter_dropout': 0.01348025747382944, 'LSTM_input_gaussian_noise': 0.001, 'LSTM_conv1d': True, 'LSTM_conv1d_kernel_size': 3, 'LSTM_loss': 'mse', 'LSTM_transformer_before': False, 'LSTM_transformer_after': False, 'LSTM_tf_d_model': 0, 'LSTM_tf_nhead': 2, 'LSTM_tf_num_layers_before': 0, 'LSTM_tf_num_layers_after': 0, 'LSTM_tf_dim_feedforward': 8, 'LSTM_tf_dropout': 0.1, 'LSTM_tf_positional_encoding': True, 'LSTM_tf_pool': 'last', 'year_start': 2020, 'is_single_feature': False}\n",
            "2025-08-26 15:43:48,225 -   q2: 0.9900\n",
            "2025-08-26 15:43:48,225 -   Duration0: 0:01:03.233015\n",
            "2025-08-26 15:43:48,225 -   Val RMSE0 adjusted: 0.0066\n",
            "2025-08-26 15:43:48,242 -   Mean all prediction: 0.9993\n",
            "2025-08-26 15:43:48,242 -   Mean above prediction: 1.0066\n",
            "2025-08-26 15:43:48,242 -   Mean below prediction: 0.9973\n",
            "2025-08-26 15:43:48,242 -   Quantile 0.99 for distance in mask above: 872.8399999999965\n",
            "2025-08-26 15:43:48,242 -   Quantile 0.99 for distance in mask below: 897.3199999999961\n",
            "2025-08-26 15:43:48,242 -   Ratio for quantile-distance-to-length above: 0.0013\n",
            "2025-08-26 15:43:48,242 -   Ratio for quantile-distance-to-length below: 0.0014\n",
            "2025-08-26 15:43:48,242 -   Score: 1.0016\n"
          ]
        },
        {
          "name": "stderr",
          "output_type": "stream",
          "text": [
            "[I 2025-08-26 15:43:48,309] Trial 108 finished with value: 1.0016368813316903 and parameters: {'year_start': 2020, 'LoadupSamples_time_inc_factor': 61, 'LSTM_units': 32, 'LSTM_learning_rate': 0.0002945864324625308, 'LSTM_l1': 3.3028565705584756e-05, 'LSTM_l2': 0.00017252436112163275, 'LSTM_dropout': 0.004171338509494261, 'LSTM_inter_dropout': 0.01348025747382944, 'LSTM_recurrent_dropout': 0.0011890993114111509}. Best is trial 38 with value: 1.0030939915675743.\n"
          ]
        },
        {
          "name": "stdout",
          "output_type": "stream",
          "text": [
            "2025-08-26 15:43:48,309 - Trial 108 finished with value: 1.0016368813316903 and parameters: {'year_start': 2020, 'LoadupSamples_time_inc_factor': 61, 'LSTM_units': 32, 'LSTM_learning_rate': 0.0002945864324625308, 'LSTM_l1': 3.3028565705584756e-05, 'LSTM_l2': 0.00017252436112163275, 'LSTM_dropout': 0.004171338509494261, 'LSTM_inter_dropout': 0.01348025747382944, 'LSTM_recurrent_dropout': 0.0011890993114111509}. Best is trial 38 with value: 1.0030939915675743.\n",
            "2025-08-26 15:43:55,812 - Non-finite/too-large values in train y time: 48 samples.\n",
            "2025-08-26 15:43:55,812 - Removing 48 samples from training data.\n"
          ]
        },
        {
          "name": "stderr",
          "output_type": "stream",
          "text": [
            "Epochs:   0%|          | 0/2 [00:00<?, ?it/s]"
          ]
        },
        {
          "name": "stdout",
          "output_type": "stream",
          "text": [
            "2025-08-26 15:44:27,764 - Epoch 1/2 — Train RMSE: 0.4438 — Validation RMSE: 0.4029\n"
          ]
        },
        {
          "name": "stderr",
          "output_type": "stream",
          "text": [
            "Epochs:  50%|█████     | 1/2 [00:23<00:23, 23.55s/it]"
          ]
        },
        {
          "name": "stdout",
          "output_type": "stream",
          "text": [
            "2025-08-26 15:44:51,145 - Epoch 2/2 — Train RMSE: 0.4119 — Validation RMSE: 0.4025\n"
          ]
        },
        {
          "name": "stderr",
          "output_type": "stream",
          "text": [
            "Epochs: 100%|██████████| 2/2 [00:46<00:00, 23.47s/it]\n"
          ]
        },
        {
          "name": "stdout",
          "output_type": "stream",
          "text": [
            "2025-08-26 15:44:55,204 - Trial 109 with params: {'idxAfterPrediction': 4, 'timesteps': 75, 'target_option': 'last', 'LoadupSamples_time_scaling_stretch': True, 'LoadupSamples_time_inc_factor': 61, 'LSTM_units': 32, 'LSTM_num_layers': 1, 'LSTM_dropout': 0.004776493108113448, 'LSTM_recurrent_dropout': 0.0017840404752608946, 'LSTM_learning_rate': 0.00019685104485695653, 'LSTM_optimizer': 'adam', 'LSTM_bidirectional': True, 'LSTM_batch_size': 4096, 'LSTM_epochs': 2, 'LSTM_l1': 2.9592171406223874e-05, 'LSTM_l2': 0.0001411715679324143, 'LSTM_inter_dropout': 0.012589358371097724, 'LSTM_input_gaussian_noise': 0.001, 'LSTM_conv1d': True, 'LSTM_conv1d_kernel_size': 3, 'LSTM_loss': 'mse', 'LSTM_transformer_before': False, 'LSTM_transformer_after': False, 'LSTM_tf_d_model': 0, 'LSTM_tf_nhead': 2, 'LSTM_tf_num_layers_before': 0, 'LSTM_tf_num_layers_after': 0, 'LSTM_tf_dim_feedforward': 8, 'LSTM_tf_dropout': 0.1, 'LSTM_tf_positional_encoding': True, 'LSTM_tf_pool': 'last', 'year_start': 2021, 'is_single_feature': False}\n",
            "2025-08-26 15:44:55,204 -   q2: 0.9900\n",
            "2025-08-26 15:44:55,204 -   Duration0: 0:00:51.110617\n",
            "2025-08-26 15:44:55,204 -   Val RMSE0 adjusted: 0.0066\n",
            "2025-08-26 15:44:55,221 -   Mean all prediction: 0.9993\n",
            "2025-08-26 15:44:55,221 -   Mean above prediction: 1.0111\n",
            "2025-08-26 15:44:55,221 -   Mean below prediction: 0.9959\n",
            "2025-08-26 15:44:55,221 -   Quantile 0.99 for distance in mask above: 953.9199999999983\n",
            "2025-08-26 15:44:55,221 -   Quantile 0.99 for distance in mask below: 862.4799999999996\n",
            "2025-08-26 15:44:55,221 -   Ratio for quantile-distance-to-length above: 0.0015\n",
            "2025-08-26 15:44:55,221 -   Ratio for quantile-distance-to-length below: 0.0013\n",
            "2025-08-26 15:44:55,221 -   Score: 1.0028\n"
          ]
        },
        {
          "name": "stderr",
          "output_type": "stream",
          "text": [
            "[I 2025-08-26 15:44:55,288] Trial 109 finished with value: 1.0027573100478986 and parameters: {'year_start': 2021, 'LoadupSamples_time_inc_factor': 61, 'LSTM_units': 32, 'LSTM_learning_rate': 0.00019685104485695653, 'LSTM_l1': 2.9592171406223874e-05, 'LSTM_l2': 0.0001411715679324143, 'LSTM_dropout': 0.004776493108113448, 'LSTM_inter_dropout': 0.012589358371097724, 'LSTM_recurrent_dropout': 0.0017840404752608946}. Best is trial 38 with value: 1.0030939915675743.\n"
          ]
        },
        {
          "name": "stdout",
          "output_type": "stream",
          "text": [
            "2025-08-26 15:44:55,288 - Trial 109 finished with value: 1.0027573100478986 and parameters: {'year_start': 2021, 'LoadupSamples_time_inc_factor': 61, 'LSTM_units': 32, 'LSTM_learning_rate': 0.00019685104485695653, 'LSTM_l1': 2.9592171406223874e-05, 'LSTM_l2': 0.0001411715679324143, 'LSTM_dropout': 0.004776493108113448, 'LSTM_inter_dropout': 0.012589358371097724, 'LSTM_recurrent_dropout': 0.0017840404752608946}. Best is trial 38 with value: 1.0030939915675743.\n",
            "2025-08-26 15:45:02,804 - Non-finite/too-large values in train y time: 48 samples.\n",
            "2025-08-26 15:45:02,804 - Removing 48 samples from training data.\n"
          ]
        },
        {
          "name": "stderr",
          "output_type": "stream",
          "text": [
            "Epochs:   0%|          | 0/2 [00:00<?, ?it/s]"
          ]
        },
        {
          "name": "stdout",
          "output_type": "stream",
          "text": [
            "2025-08-26 15:45:34,773 - Epoch 1/2 — Train RMSE: 0.4530 — Validation RMSE: 0.4209\n"
          ]
        },
        {
          "name": "stderr",
          "output_type": "stream",
          "text": [
            "Epochs:  50%|█████     | 1/2 [00:23<00:23, 23.54s/it]"
          ]
        },
        {
          "name": "stdout",
          "output_type": "stream",
          "text": [
            "2025-08-26 15:45:58,208 - Epoch 2/2 — Train RMSE: 0.4291 — Validation RMSE: 0.4204\n"
          ]
        },
        {
          "name": "stderr",
          "output_type": "stream",
          "text": [
            "Epochs: 100%|██████████| 2/2 [00:46<00:00, 23.49s/it]\n"
          ]
        },
        {
          "name": "stdout",
          "output_type": "stream",
          "text": [
            "2025-08-26 15:46:02,267 - Trial 110 with params: {'idxAfterPrediction': 4, 'timesteps': 75, 'target_option': 'last', 'LoadupSamples_time_scaling_stretch': True, 'LoadupSamples_time_inc_factor': 76, 'LSTM_units': 32, 'LSTM_num_layers': 1, 'LSTM_dropout': 0.0068689301867120404, 'LSTM_recurrent_dropout': 0.0017658347284281934, 'LSTM_learning_rate': 0.0003470464282329565, 'LSTM_optimizer': 'adam', 'LSTM_bidirectional': True, 'LSTM_batch_size': 4096, 'LSTM_epochs': 2, 'LSTM_l1': 1.604019631485712e-05, 'LSTM_l2': 0.0001429600700480578, 'LSTM_inter_dropout': 0.012039320613753375, 'LSTM_input_gaussian_noise': 0.001, 'LSTM_conv1d': True, 'LSTM_conv1d_kernel_size': 3, 'LSTM_loss': 'mse', 'LSTM_transformer_before': False, 'LSTM_transformer_after': False, 'LSTM_tf_d_model': 0, 'LSTM_tf_nhead': 2, 'LSTM_tf_num_layers_before': 0, 'LSTM_tf_num_layers_after': 0, 'LSTM_tf_dim_feedforward': 8, 'LSTM_tf_dropout': 0.1, 'LSTM_tf_positional_encoding': True, 'LSTM_tf_pool': 'last', 'year_start': 2021, 'is_single_feature': False}\n",
            "2025-08-26 15:46:02,267 -   q2: 0.9900\n",
            "2025-08-26 15:46:02,267 -   Duration0: 0:00:51.144114\n",
            "2025-08-26 15:46:02,267 -   Val RMSE0 adjusted: 0.0055\n",
            "2025-08-26 15:46:02,267 -   Mean all prediction: 0.9993\n",
            "2025-08-26 15:46:02,267 -   Mean above prediction: 1.0083\n",
            "2025-08-26 15:46:02,282 -   Mean below prediction: 0.9965\n",
            "2025-08-26 15:46:02,283 -   Quantile 0.99 for distance in mask above: 961.3799999999974\n",
            "2025-08-26 15:46:02,283 -   Quantile 0.99 for distance in mask below: 852.4799999999996\n",
            "2025-08-26 15:46:02,283 -   Ratio for quantile-distance-to-length above: 0.0015\n",
            "2025-08-26 15:46:02,283 -   Ratio for quantile-distance-to-length below: 0.0013\n",
            "2025-08-26 15:46:02,283 -   Score: 1.0021\n"
          ]
        },
        {
          "name": "stderr",
          "output_type": "stream",
          "text": [
            "[I 2025-08-26 15:46:02,334] Trial 110 finished with value: 1.0020666230496884 and parameters: {'year_start': 2021, 'LoadupSamples_time_inc_factor': 76, 'LSTM_units': 32, 'LSTM_learning_rate': 0.0003470464282329565, 'LSTM_l1': 1.604019631485712e-05, 'LSTM_l2': 0.0001429600700480578, 'LSTM_dropout': 0.0068689301867120404, 'LSTM_inter_dropout': 0.012039320613753375, 'LSTM_recurrent_dropout': 0.0017658347284281934}. Best is trial 38 with value: 1.0030939915675743.\n"
          ]
        },
        {
          "name": "stdout",
          "output_type": "stream",
          "text": [
            "2025-08-26 15:46:02,334 - Trial 110 finished with value: 1.0020666230496884 and parameters: {'year_start': 2021, 'LoadupSamples_time_inc_factor': 76, 'LSTM_units': 32, 'LSTM_learning_rate': 0.0003470464282329565, 'LSTM_l1': 1.604019631485712e-05, 'LSTM_l2': 0.0001429600700480578, 'LSTM_dropout': 0.0068689301867120404, 'LSTM_inter_dropout': 0.012039320613753375, 'LSTM_recurrent_dropout': 0.0017658347284281934}. Best is trial 38 with value: 1.0030939915675743.\n",
            "2025-08-26 15:46:11,436 - Non-finite/too-large values in train y time: 48 samples.\n",
            "2025-08-26 15:46:11,451 - Removing 48 samples from training data.\n"
          ]
        },
        {
          "name": "stderr",
          "output_type": "stream",
          "text": [
            "Epochs:   0%|          | 0/2 [00:00<?, ?it/s]"
          ]
        },
        {
          "name": "stdout",
          "output_type": "stream",
          "text": [
            "2025-08-26 15:46:51,359 - Epoch 1/2 — Train RMSE: 0.4429 — Validation RMSE: 0.4026\n"
          ]
        },
        {
          "name": "stderr",
          "output_type": "stream",
          "text": [
            "Epochs:  50%|█████     | 1/2 [00:29<00:29, 29.58s/it]"
          ]
        },
        {
          "name": "stdout",
          "output_type": "stream",
          "text": [
            "2025-08-26 15:47:20,820 - Epoch 2/2 — Train RMSE: 0.4172 — Validation RMSE: 0.4022\n"
          ]
        },
        {
          "name": "stderr",
          "output_type": "stream",
          "text": [
            "Epochs: 100%|██████████| 2/2 [00:59<00:00, 29.52s/it]\n"
          ]
        },
        {
          "name": "stdout",
          "output_type": "stream",
          "text": [
            "2025-08-26 15:47:24,935 - Trial 111 with params: {'idxAfterPrediction': 4, 'timesteps': 75, 'target_option': 'last', 'LoadupSamples_time_scaling_stretch': True, 'LoadupSamples_time_inc_factor': 61, 'LSTM_units': 32, 'LSTM_num_layers': 1, 'LSTM_dropout': 0.004736501079651684, 'LSTM_recurrent_dropout': 0.002071771527668048, 'LSTM_learning_rate': 0.0001974914154140893, 'LSTM_optimizer': 'adam', 'LSTM_bidirectional': True, 'LSTM_batch_size': 4096, 'LSTM_epochs': 2, 'LSTM_l1': 2.9300360516773438e-05, 'LSTM_l2': 0.00012997685218803988, 'LSTM_inter_dropout': 0.014971944652665319, 'LSTM_input_gaussian_noise': 0.001, 'LSTM_conv1d': True, 'LSTM_conv1d_kernel_size': 3, 'LSTM_loss': 'mse', 'LSTM_transformer_before': False, 'LSTM_transformer_after': False, 'LSTM_tf_d_model': 0, 'LSTM_tf_nhead': 2, 'LSTM_tf_num_layers_before': 0, 'LSTM_tf_num_layers_after': 0, 'LSTM_tf_dim_feedforward': 8, 'LSTM_tf_dropout': 0.1, 'LSTM_tf_positional_encoding': True, 'LSTM_tf_pool': 'last', 'year_start': 2020, 'is_single_feature': False}\n",
            "2025-08-26 15:47:24,936 -   q2: 0.9900\n",
            "2025-08-26 15:47:24,936 -   Duration0: 0:01:03.320797\n",
            "2025-08-26 15:47:24,937 -   Val RMSE0 adjusted: 0.0066\n",
            "2025-08-26 15:47:24,943 -   Mean all prediction: 0.9993\n",
            "2025-08-26 15:47:24,944 -   Mean above prediction: 1.0110\n",
            "2025-08-26 15:47:24,945 -   Mean below prediction: 0.9970\n",
            "2025-08-26 15:47:24,946 -   Quantile 0.99 for distance in mask above: 943.3799999999974\n",
            "2025-08-26 15:47:24,946 -   Quantile 0.99 for distance in mask below: 837.2799999999952\n",
            "2025-08-26 15:47:24,946 -   Ratio for quantile-distance-to-length above: 0.0014\n",
            "2025-08-26 15:47:24,946 -   Ratio for quantile-distance-to-length below: 0.0013\n",
            "2025-08-26 15:47:24,946 -   Score: 1.0027\n"
          ]
        },
        {
          "name": "stderr",
          "output_type": "stream",
          "text": [
            "[I 2025-08-26 15:47:25,009] Trial 111 finished with value: 1.0027372856541257 and parameters: {'year_start': 2020, 'LoadupSamples_time_inc_factor': 61, 'LSTM_units': 32, 'LSTM_learning_rate': 0.0001974914154140893, 'LSTM_l1': 2.9300360516773438e-05, 'LSTM_l2': 0.00012997685218803988, 'LSTM_dropout': 0.004736501079651684, 'LSTM_inter_dropout': 0.014971944652665319, 'LSTM_recurrent_dropout': 0.002071771527668048}. Best is trial 38 with value: 1.0030939915675743.\n"
          ]
        },
        {
          "name": "stdout",
          "output_type": "stream",
          "text": [
            "2025-08-26 15:47:25,009 - Trial 111 finished with value: 1.0027372856541257 and parameters: {'year_start': 2020, 'LoadupSamples_time_inc_factor': 61, 'LSTM_units': 32, 'LSTM_learning_rate': 0.0001974914154140893, 'LSTM_l1': 2.9300360516773438e-05, 'LSTM_l2': 0.00012997685218803988, 'LSTM_dropout': 0.004736501079651684, 'LSTM_inter_dropout': 0.014971944652665319, 'LSTM_recurrent_dropout': 0.002071771527668048}. Best is trial 38 with value: 1.0030939915675743.\n",
            "2025-08-26 15:47:32,499 - Non-finite/too-large values in train y time: 48 samples.\n",
            "2025-08-26 15:47:32,499 - Removing 48 samples from training data.\n"
          ]
        },
        {
          "name": "stderr",
          "output_type": "stream",
          "text": [
            "Epochs:   0%|          | 0/2 [00:00<?, ?it/s]"
          ]
        },
        {
          "name": "stdout",
          "output_type": "stream",
          "text": [
            "2025-08-26 15:48:04,783 - Epoch 1/2 — Train RMSE: 0.4512 — Validation RMSE: 0.4020\n"
          ]
        },
        {
          "name": "stderr",
          "output_type": "stream",
          "text": [
            "Epochs:  50%|█████     | 1/2 [00:23<00:23, 23.78s/it]"
          ]
        },
        {
          "name": "stdout",
          "output_type": "stream",
          "text": [
            "2025-08-26 15:48:28,150 - Epoch 2/2 — Train RMSE: 0.4108 — Validation RMSE: 0.4020\n"
          ]
        },
        {
          "name": "stderr",
          "output_type": "stream",
          "text": [
            "Epochs: 100%|██████████| 2/2 [00:47<00:00, 23.57s/it]\n"
          ]
        },
        {
          "name": "stdout",
          "output_type": "stream",
          "text": [
            "2025-08-26 15:48:32,225 - Trial 112 with params: {'idxAfterPrediction': 4, 'timesteps': 75, 'target_option': 'last', 'LoadupSamples_time_scaling_stretch': True, 'LoadupSamples_time_inc_factor': 61, 'LSTM_units': 32, 'LSTM_num_layers': 1, 'LSTM_dropout': 0.004905966425513481, 'LSTM_recurrent_dropout': 0.0023546602578680942, 'LSTM_learning_rate': 0.00018824068265647502, 'LSTM_optimizer': 'adam', 'LSTM_bidirectional': True, 'LSTM_batch_size': 4096, 'LSTM_epochs': 2, 'LSTM_l1': 3.141194479725664e-05, 'LSTM_l2': 0.00010849880070808209, 'LSTM_inter_dropout': 0.011468558027158116, 'LSTM_input_gaussian_noise': 0.001, 'LSTM_conv1d': True, 'LSTM_conv1d_kernel_size': 3, 'LSTM_loss': 'mse', 'LSTM_transformer_before': False, 'LSTM_transformer_after': False, 'LSTM_tf_d_model': 0, 'LSTM_tf_nhead': 2, 'LSTM_tf_num_layers_before': 0, 'LSTM_tf_num_layers_after': 0, 'LSTM_tf_dim_feedforward': 8, 'LSTM_tf_dropout': 0.1, 'LSTM_tf_positional_encoding': True, 'LSTM_tf_pool': 'last', 'year_start': 2021, 'is_single_feature': False}\n",
            "2025-08-26 15:48:32,226 -   q2: 0.9900\n",
            "2025-08-26 15:48:32,226 -   Duration0: 0:00:51.345085\n",
            "2025-08-26 15:48:32,226 -   Val RMSE0 adjusted: 0.0066\n",
            "2025-08-26 15:48:32,226 -   Mean all prediction: 0.9993\n",
            "2025-08-26 15:48:32,226 -   Mean above prediction: 1.0117\n",
            "2025-08-26 15:48:32,226 -   Mean below prediction: 0.9976\n",
            "2025-08-26 15:48:32,226 -   Quantile 0.99 for distance in mask above: 1012.1999999999989\n",
            "2025-08-26 15:48:32,226 -   Quantile 0.99 for distance in mask below: 866.159999999998\n",
            "2025-08-26 15:48:32,226 -   Ratio for quantile-distance-to-length above: 0.0015\n",
            "2025-08-26 15:48:32,226 -   Ratio for quantile-distance-to-length below: 0.0013\n",
            "2025-08-26 15:48:32,226 -   Score: 1.0029\n"
          ]
        },
        {
          "name": "stderr",
          "output_type": "stream",
          "text": [
            "[I 2025-08-26 15:48:32,276] Trial 112 finished with value: 1.002922408157307 and parameters: {'year_start': 2021, 'LoadupSamples_time_inc_factor': 61, 'LSTM_units': 32, 'LSTM_learning_rate': 0.00018824068265647502, 'LSTM_l1': 3.141194479725664e-05, 'LSTM_l2': 0.00010849880070808209, 'LSTM_dropout': 0.004905966425513481, 'LSTM_inter_dropout': 0.011468558027158116, 'LSTM_recurrent_dropout': 0.0023546602578680942}. Best is trial 38 with value: 1.0030939915675743.\n"
          ]
        },
        {
          "name": "stdout",
          "output_type": "stream",
          "text": [
            "2025-08-26 15:48:32,276 - Trial 112 finished with value: 1.002922408157307 and parameters: {'year_start': 2021, 'LoadupSamples_time_inc_factor': 61, 'LSTM_units': 32, 'LSTM_learning_rate': 0.00018824068265647502, 'LSTM_l1': 3.141194479725664e-05, 'LSTM_l2': 0.00010849880070808209, 'LSTM_dropout': 0.004905966425513481, 'LSTM_inter_dropout': 0.011468558027158116, 'LSTM_recurrent_dropout': 0.0023546602578680942}. Best is trial 38 with value: 1.0030939915675743.\n",
            "2025-08-26 15:48:39,842 - Non-finite/too-large values in train y time: 48 samples.\n",
            "2025-08-26 15:48:39,842 - Removing 48 samples from training data.\n"
          ]
        },
        {
          "name": "stderr",
          "output_type": "stream",
          "text": [
            "Epochs:   0%|          | 0/2 [00:00<?, ?it/s]"
          ]
        },
        {
          "name": "stdout",
          "output_type": "stream",
          "text": [
            "2025-08-26 15:49:11,862 - Epoch 1/2 — Train RMSE: 0.4728 — Validation RMSE: 0.4025\n"
          ]
        },
        {
          "name": "stderr",
          "output_type": "stream",
          "text": [
            "Epochs:  50%|█████     | 1/2 [00:23<00:23, 23.52s/it]"
          ]
        },
        {
          "name": "stdout",
          "output_type": "stream",
          "text": [
            "2025-08-26 15:49:35,279 - Epoch 2/2 — Train RMSE: 0.4112 — Validation RMSE: 0.4022\n"
          ]
        },
        {
          "name": "stderr",
          "output_type": "stream",
          "text": [
            "Epochs: 100%|██████████| 2/2 [00:46<00:00, 23.47s/it]\n"
          ]
        },
        {
          "name": "stdout",
          "output_type": "stream",
          "text": [
            "2025-08-26 15:49:39,388 - Trial 113 with params: {'idxAfterPrediction': 4, 'timesteps': 75, 'target_option': 'last', 'LoadupSamples_time_scaling_stretch': True, 'LoadupSamples_time_inc_factor': 61, 'LSTM_units': 32, 'LSTM_num_layers': 1, 'LSTM_dropout': 0.0058035148742412185, 'LSTM_recurrent_dropout': 0.002499715051394949, 'LSTM_learning_rate': 0.00018764684989737071, 'LSTM_optimizer': 'adam', 'LSTM_bidirectional': True, 'LSTM_batch_size': 4096, 'LSTM_epochs': 2, 'LSTM_l1': 3.621180531162465e-05, 'LSTM_l2': 0.00010427580989501545, 'LSTM_inter_dropout': 0.012766290131012804, 'LSTM_input_gaussian_noise': 0.001, 'LSTM_conv1d': True, 'LSTM_conv1d_kernel_size': 3, 'LSTM_loss': 'mse', 'LSTM_transformer_before': False, 'LSTM_transformer_after': False, 'LSTM_tf_d_model': 0, 'LSTM_tf_nhead': 2, 'LSTM_tf_num_layers_before': 0, 'LSTM_tf_num_layers_after': 0, 'LSTM_tf_dim_feedforward': 8, 'LSTM_tf_dropout': 0.1, 'LSTM_tf_positional_encoding': True, 'LSTM_tf_pool': 'last', 'year_start': 2021, 'is_single_feature': False}\n",
            "2025-08-26 15:49:39,388 -   q2: 0.9900\n",
            "2025-08-26 15:49:39,403 -   Duration0: 0:00:51.161176\n",
            "2025-08-26 15:49:39,404 -   Val RMSE0 adjusted: 0.0066\n",
            "2025-08-26 15:49:39,408 -   Mean all prediction: 0.9993\n",
            "2025-08-26 15:49:39,408 -   Mean above prediction: 1.0104\n",
            "2025-08-26 15:49:39,408 -   Mean below prediction: 0.9973\n",
            "2025-08-26 15:49:39,408 -   Quantile 0.99 for distance in mask above: 964.4799999999996\n",
            "2025-08-26 15:49:39,408 -   Quantile 0.99 for distance in mask below: 865.3999999999978\n",
            "2025-08-26 15:49:39,408 -   Ratio for quantile-distance-to-length above: 0.0015\n",
            "2025-08-26 15:49:39,408 -   Ratio for quantile-distance-to-length below: 0.0013\n",
            "2025-08-26 15:49:39,408 -   Score: 1.0026\n"
          ]
        },
        {
          "name": "stderr",
          "output_type": "stream",
          "text": [
            "[I 2025-08-26 15:49:39,461] Trial 113 finished with value: 1.0025869202389586 and parameters: {'year_start': 2021, 'LoadupSamples_time_inc_factor': 61, 'LSTM_units': 32, 'LSTM_learning_rate': 0.00018764684989737071, 'LSTM_l1': 3.621180531162465e-05, 'LSTM_l2': 0.00010427580989501545, 'LSTM_dropout': 0.0058035148742412185, 'LSTM_inter_dropout': 0.012766290131012804, 'LSTM_recurrent_dropout': 0.002499715051394949}. Best is trial 38 with value: 1.0030939915675743.\n"
          ]
        },
        {
          "name": "stdout",
          "output_type": "stream",
          "text": [
            "2025-08-26 15:49:39,461 - Trial 113 finished with value: 1.0025869202389586 and parameters: {'year_start': 2021, 'LoadupSamples_time_inc_factor': 61, 'LSTM_units': 32, 'LSTM_learning_rate': 0.00018764684989737071, 'LSTM_l1': 3.621180531162465e-05, 'LSTM_l2': 0.00010427580989501545, 'LSTM_dropout': 0.0058035148742412185, 'LSTM_inter_dropout': 0.012766290131012804, 'LSTM_recurrent_dropout': 0.002499715051394949}. Best is trial 38 with value: 1.0030939915675743.\n",
            "2025-08-26 15:49:46,955 - Non-finite/too-large values in train y time: 48 samples.\n",
            "2025-08-26 15:49:46,971 - Removing 48 samples from training data.\n"
          ]
        },
        {
          "name": "stderr",
          "output_type": "stream",
          "text": [
            "Epochs:   0%|          | 0/2 [00:00<?, ?it/s]"
          ]
        },
        {
          "name": "stdout",
          "output_type": "stream",
          "text": [
            "2025-08-26 15:50:19,076 - Epoch 1/2 — Train RMSE: 0.4311 — Validation RMSE: 0.4023\n"
          ]
        },
        {
          "name": "stderr",
          "output_type": "stream",
          "text": [
            "Epochs:  50%|█████     | 1/2 [00:23<00:23, 23.63s/it]"
          ]
        },
        {
          "name": "stdout",
          "output_type": "stream",
          "text": [
            "2025-08-26 15:50:42,524 - Epoch 2/2 — Train RMSE: 0.4110 — Validation RMSE: 0.4021\n"
          ]
        },
        {
          "name": "stderr",
          "output_type": "stream",
          "text": [
            "Epochs: 100%|██████████| 2/2 [00:47<00:00, 23.54s/it]\n"
          ]
        },
        {
          "name": "stdout",
          "output_type": "stream",
          "text": [
            "2025-08-26 15:50:46,550 - Trial 114 with params: {'idxAfterPrediction': 4, 'timesteps': 75, 'target_option': 'last', 'LoadupSamples_time_scaling_stretch': True, 'LoadupSamples_time_inc_factor': 61, 'LSTM_units': 32, 'LSTM_num_layers': 1, 'LSTM_dropout': 0.003490961364930858, 'LSTM_recurrent_dropout': 0.0023002543282760316, 'LSTM_learning_rate': 0.00021445375706995125, 'LSTM_optimizer': 'adam', 'LSTM_bidirectional': True, 'LSTM_batch_size': 4096, 'LSTM_epochs': 2, 'LSTM_l1': 3.157085277519937e-05, 'LSTM_l2': 0.00011967155865410549, 'LSTM_inter_dropout': 0.011188547282459597, 'LSTM_input_gaussian_noise': 0.001, 'LSTM_conv1d': True, 'LSTM_conv1d_kernel_size': 3, 'LSTM_loss': 'mse', 'LSTM_transformer_before': False, 'LSTM_transformer_after': False, 'LSTM_tf_d_model': 0, 'LSTM_tf_nhead': 2, 'LSTM_tf_num_layers_before': 0, 'LSTM_tf_num_layers_after': 0, 'LSTM_tf_dim_feedforward': 8, 'LSTM_tf_dropout': 0.1, 'LSTM_tf_positional_encoding': True, 'LSTM_tf_pool': 'last', 'year_start': 2021, 'is_single_feature': False}\n",
            "2025-08-26 15:50:46,550 -   q2: 0.9900\n",
            "2025-08-26 15:50:46,550 -   Duration0: 0:00:51.243658\n",
            "2025-08-26 15:50:46,550 -   Val RMSE0 adjusted: 0.0066\n",
            "2025-08-26 15:50:46,567 -   Mean all prediction: 0.9993\n",
            "2025-08-26 15:50:46,567 -   Mean above prediction: 1.0083\n",
            "2025-08-26 15:50:46,567 -   Mean below prediction: 0.9982\n",
            "2025-08-26 15:50:46,567 -   Quantile 0.99 for distance in mask above: 895.6799999999985\n",
            "2025-08-26 15:50:46,567 -   Quantile 0.99 for distance in mask below: 881.609999999997\n",
            "2025-08-26 15:50:46,567 -   Ratio for quantile-distance-to-length above: 0.0014\n",
            "2025-08-26 15:50:46,567 -   Ratio for quantile-distance-to-length below: 0.0013\n",
            "2025-08-26 15:50:46,567 -   Score: 1.0021\n"
          ]
        },
        {
          "name": "stderr",
          "output_type": "stream",
          "text": [
            "[I 2025-08-26 15:50:46,619] Trial 114 finished with value: 1.0020671712411904 and parameters: {'year_start': 2021, 'LoadupSamples_time_inc_factor': 61, 'LSTM_units': 32, 'LSTM_learning_rate': 0.00021445375706995125, 'LSTM_l1': 3.157085277519937e-05, 'LSTM_l2': 0.00011967155865410549, 'LSTM_dropout': 0.003490961364930858, 'LSTM_inter_dropout': 0.011188547282459597, 'LSTM_recurrent_dropout': 0.0023002543282760316}. Best is trial 38 with value: 1.0030939915675743.\n"
          ]
        },
        {
          "name": "stdout",
          "output_type": "stream",
          "text": [
            "2025-08-26 15:50:46,619 - Trial 114 finished with value: 1.0020671712411904 and parameters: {'year_start': 2021, 'LoadupSamples_time_inc_factor': 61, 'LSTM_units': 32, 'LSTM_learning_rate': 0.00021445375706995125, 'LSTM_l1': 3.157085277519937e-05, 'LSTM_l2': 0.00011967155865410549, 'LSTM_dropout': 0.003490961364930858, 'LSTM_inter_dropout': 0.011188547282459597, 'LSTM_recurrent_dropout': 0.0023002543282760316}. Best is trial 38 with value: 1.0030939915675743.\n",
            "2025-08-26 15:50:54,152 - Non-finite/too-large values in train y time: 48 samples.\n",
            "2025-08-26 15:50:54,152 - Removing 48 samples from training data.\n"
          ]
        },
        {
          "name": "stderr",
          "output_type": "stream",
          "text": [
            "Epochs:   0%|          | 0/2 [00:00<?, ?it/s]"
          ]
        },
        {
          "name": "stdout",
          "output_type": "stream",
          "text": [
            "2025-08-26 15:51:26,340 - Epoch 1/2 — Train RMSE: 0.4441 — Validation RMSE: 0.4029\n"
          ]
        },
        {
          "name": "stderr",
          "output_type": "stream",
          "text": [
            "Epochs:  50%|█████     | 1/2 [00:23<00:23, 23.72s/it]"
          ]
        },
        {
          "name": "stdout",
          "output_type": "stream",
          "text": [
            "2025-08-26 15:51:49,783 - Epoch 2/2 — Train RMSE: 0.4111 — Validation RMSE: 0.4024\n"
          ]
        },
        {
          "name": "stderr",
          "output_type": "stream",
          "text": [
            "Epochs: 100%|██████████| 2/2 [00:47<00:00, 23.58s/it]\n"
          ]
        },
        {
          "name": "stdout",
          "output_type": "stream",
          "text": [
            "2025-08-26 15:51:53,813 - Trial 115 with params: {'idxAfterPrediction': 4, 'timesteps': 75, 'target_option': 'last', 'LoadupSamples_time_scaling_stretch': True, 'LoadupSamples_time_inc_factor': 61, 'LSTM_units': 32, 'LSTM_num_layers': 1, 'LSTM_dropout': 0.006493670745656862, 'LSTM_recurrent_dropout': 0.0015971358543475434, 'LSTM_learning_rate': 0.00020357261743598703, 'LSTM_optimizer': 'adam', 'LSTM_bidirectional': True, 'LSTM_batch_size': 4096, 'LSTM_epochs': 2, 'LSTM_l1': 2.3379018601300368e-05, 'LSTM_l2': 0.00011182243628450999, 'LSTM_inter_dropout': 0.01024603726985823, 'LSTM_input_gaussian_noise': 0.001, 'LSTM_conv1d': True, 'LSTM_conv1d_kernel_size': 3, 'LSTM_loss': 'mse', 'LSTM_transformer_before': False, 'LSTM_transformer_after': False, 'LSTM_tf_d_model': 0, 'LSTM_tf_nhead': 2, 'LSTM_tf_num_layers_before': 0, 'LSTM_tf_num_layers_after': 0, 'LSTM_tf_dim_feedforward': 8, 'LSTM_tf_dropout': 0.1, 'LSTM_tf_positional_encoding': True, 'LSTM_tf_pool': 'last', 'year_start': 2021, 'is_single_feature': False}\n",
            "2025-08-26 15:51:53,813 -   q2: 0.9900\n",
            "2025-08-26 15:51:53,813 -   Duration0: 0:00:51.322950\n",
            "2025-08-26 15:51:53,813 -   Val RMSE0 adjusted: 0.0066\n",
            "2025-08-26 15:51:53,813 -   Mean all prediction: 0.9993\n",
            "2025-08-26 15:51:53,830 -   Mean above prediction: 1.0070\n",
            "2025-08-26 15:51:53,830 -   Mean below prediction: 0.9971\n",
            "2025-08-26 15:51:53,830 -   Quantile 0.99 for distance in mask above: 830.6399999999976\n",
            "2025-08-26 15:51:53,830 -   Quantile 0.99 for distance in mask below: 811.4399999999987\n",
            "2025-08-26 15:51:53,830 -   Ratio for quantile-distance-to-length above: 0.0013\n",
            "2025-08-26 15:51:53,830 -   Ratio for quantile-distance-to-length below: 0.0012\n",
            "2025-08-26 15:51:53,830 -   Score: 1.0017\n"
          ]
        },
        {
          "name": "stderr",
          "output_type": "stream",
          "text": [
            "[I 2025-08-26 15:51:53,880] Trial 115 finished with value: 1.0017375253571434 and parameters: {'year_start': 2021, 'LoadupSamples_time_inc_factor': 61, 'LSTM_units': 32, 'LSTM_learning_rate': 0.00020357261743598703, 'LSTM_l1': 2.3379018601300368e-05, 'LSTM_l2': 0.00011182243628450999, 'LSTM_dropout': 0.006493670745656862, 'LSTM_inter_dropout': 0.01024603726985823, 'LSTM_recurrent_dropout': 0.0015971358543475434}. Best is trial 38 with value: 1.0030939915675743.\n"
          ]
        },
        {
          "name": "stdout",
          "output_type": "stream",
          "text": [
            "2025-08-26 15:51:53,880 - Trial 115 finished with value: 1.0017375253571434 and parameters: {'year_start': 2021, 'LoadupSamples_time_inc_factor': 61, 'LSTM_units': 32, 'LSTM_learning_rate': 0.00020357261743598703, 'LSTM_l1': 2.3379018601300368e-05, 'LSTM_l2': 0.00011182243628450999, 'LSTM_dropout': 0.006493670745656862, 'LSTM_inter_dropout': 0.01024603726985823, 'LSTM_recurrent_dropout': 0.0015971358543475434}. Best is trial 38 with value: 1.0030939915675743.\n",
            "2025-08-26 15:52:01,380 - Non-finite/too-large values in train y time: 48 samples.\n",
            "2025-08-26 15:52:01,380 - Removing 48 samples from training data.\n"
          ]
        },
        {
          "name": "stderr",
          "output_type": "stream",
          "text": [
            "Epochs:   0%|          | 0/2 [00:00<?, ?it/s]"
          ]
        },
        {
          "name": "stdout",
          "output_type": "stream",
          "text": [
            "2025-08-26 15:52:33,399 - Epoch 1/2 — Train RMSE: 0.4273 — Validation RMSE: 0.4021\n"
          ]
        },
        {
          "name": "stderr",
          "output_type": "stream",
          "text": [
            "Epochs:  50%|█████     | 1/2 [00:23<00:23, 23.55s/it]"
          ]
        },
        {
          "name": "stdout",
          "output_type": "stream",
          "text": [
            "2025-08-26 15:52:56,784 - Epoch 2/2 — Train RMSE: 0.4105 — Validation RMSE: 0.4021\n"
          ]
        },
        {
          "name": "stderr",
          "output_type": "stream",
          "text": [
            "Epochs: 100%|██████████| 2/2 [00:46<00:00, 23.47s/it]\n"
          ]
        },
        {
          "name": "stdout",
          "output_type": "stream",
          "text": [
            "2025-08-26 15:53:00,847 - Trial 116 with params: {'idxAfterPrediction': 4, 'timesteps': 75, 'target_option': 'last', 'LoadupSamples_time_scaling_stretch': True, 'LoadupSamples_time_inc_factor': 61, 'LSTM_units': 32, 'LSTM_num_layers': 1, 'LSTM_dropout': 0.004803102820773104, 'LSTM_recurrent_dropout': 0.0017994922822054736, 'LSTM_learning_rate': 0.0002679628095093372, 'LSTM_optimizer': 'adam', 'LSTM_bidirectional': True, 'LSTM_batch_size': 4096, 'LSTM_epochs': 2, 'LSTM_l1': 2.1842818693950054e-05, 'LSTM_l2': 0.00014128645353536813, 'LSTM_inter_dropout': 0.010786995664146676, 'LSTM_input_gaussian_noise': 0.001, 'LSTM_conv1d': True, 'LSTM_conv1d_kernel_size': 3, 'LSTM_loss': 'mse', 'LSTM_transformer_before': False, 'LSTM_transformer_after': False, 'LSTM_tf_d_model': 0, 'LSTM_tf_nhead': 2, 'LSTM_tf_num_layers_before': 0, 'LSTM_tf_num_layers_after': 0, 'LSTM_tf_dim_feedforward': 8, 'LSTM_tf_dropout': 0.1, 'LSTM_tf_positional_encoding': True, 'LSTM_tf_pool': 'last', 'year_start': 2021, 'is_single_feature': False}\n",
            "2025-08-26 15:53:00,847 -   q2: 0.9900\n",
            "2025-08-26 15:53:00,847 -   Duration0: 0:00:51.125031\n",
            "2025-08-26 15:53:00,847 -   Val RMSE0 adjusted: 0.0066\n",
            "2025-08-26 15:53:00,847 -   Mean all prediction: 0.9993\n",
            "2025-08-26 15:53:00,858 -   Mean above prediction: 1.0099\n",
            "2025-08-26 15:53:00,859 -   Mean below prediction: 0.9971\n",
            "2025-08-26 15:53:00,860 -   Quantile 0.99 for distance in mask above: 855.1199999999972\n",
            "2025-08-26 15:53:00,861 -   Quantile 0.99 for distance in mask below: 889.7199999999993\n",
            "2025-08-26 15:53:00,862 -   Ratio for quantile-distance-to-length above: 0.0013\n",
            "2025-08-26 15:53:00,862 -   Ratio for quantile-distance-to-length below: 0.0014\n",
            "2025-08-26 15:53:00,862 -   Score: 1.0025\n"
          ]
        },
        {
          "name": "stderr",
          "output_type": "stream",
          "text": [
            "[I 2025-08-26 15:53:00,910] Trial 116 finished with value: 1.0024764984581864 and parameters: {'year_start': 2021, 'LoadupSamples_time_inc_factor': 61, 'LSTM_units': 32, 'LSTM_learning_rate': 0.0002679628095093372, 'LSTM_l1': 2.1842818693950054e-05, 'LSTM_l2': 0.00014128645353536813, 'LSTM_dropout': 0.004803102820773104, 'LSTM_inter_dropout': 0.010786995664146676, 'LSTM_recurrent_dropout': 0.0017994922822054736}. Best is trial 38 with value: 1.0030939915675743.\n"
          ]
        },
        {
          "name": "stdout",
          "output_type": "stream",
          "text": [
            "2025-08-26 15:53:00,910 - Trial 116 finished with value: 1.0024764984581864 and parameters: {'year_start': 2021, 'LoadupSamples_time_inc_factor': 61, 'LSTM_units': 32, 'LSTM_learning_rate': 0.0002679628095093372, 'LSTM_l1': 2.1842818693950054e-05, 'LSTM_l2': 0.00014128645353536813, 'LSTM_dropout': 0.004803102820773104, 'LSTM_inter_dropout': 0.010786995664146676, 'LSTM_recurrent_dropout': 0.0017994922822054736}. Best is trial 38 with value: 1.0030939915675743.\n",
            "2025-08-26 15:53:08,442 - Non-finite/too-large values in train y time: 48 samples.\n",
            "2025-08-26 15:53:08,458 - Removing 48 samples from training data.\n"
          ]
        },
        {
          "name": "stderr",
          "output_type": "stream",
          "text": [
            "Epochs:   0%|          | 0/2 [00:00<?, ?it/s]"
          ]
        },
        {
          "name": "stdout",
          "output_type": "stream",
          "text": [
            "2025-08-26 15:53:40,645 - Epoch 1/2 — Train RMSE: 0.4734 — Validation RMSE: 0.4020\n"
          ]
        },
        {
          "name": "stderr",
          "output_type": "stream",
          "text": [
            "Epochs:  50%|█████     | 1/2 [00:23<00:23, 23.74s/it]"
          ]
        },
        {
          "name": "stdout",
          "output_type": "stream",
          "text": [
            "2025-08-26 15:54:04,037 - Epoch 2/2 — Train RMSE: 0.4108 — Validation RMSE: 0.4019\n"
          ]
        },
        {
          "name": "stderr",
          "output_type": "stream",
          "text": [
            "Epochs: 100%|██████████| 2/2 [00:47<00:00, 23.56s/it]\n"
          ]
        },
        {
          "name": "stdout",
          "output_type": "stream",
          "text": [
            "2025-08-26 15:54:07,985 - Trial 117 with params: {'idxAfterPrediction': 4, 'timesteps': 75, 'target_option': 'last', 'LoadupSamples_time_scaling_stretch': True, 'LoadupSamples_time_inc_factor': 61, 'LSTM_units': 32, 'LSTM_num_layers': 1, 'LSTM_dropout': 0.004467815308757918, 'LSTM_recurrent_dropout': 0.003159070733189604, 'LSTM_learning_rate': 0.00015445830721090199, 'LSTM_optimizer': 'adam', 'LSTM_bidirectional': True, 'LSTM_batch_size': 4096, 'LSTM_epochs': 2, 'LSTM_l1': 2.5472834590996847e-05, 'LSTM_l2': 0.00012819615308688197, 'LSTM_inter_dropout': 0.012487395201847544, 'LSTM_input_gaussian_noise': 0.001, 'LSTM_conv1d': True, 'LSTM_conv1d_kernel_size': 3, 'LSTM_loss': 'mse', 'LSTM_transformer_before': False, 'LSTM_transformer_after': False, 'LSTM_tf_d_model': 0, 'LSTM_tf_nhead': 2, 'LSTM_tf_num_layers_before': 0, 'LSTM_tf_num_layers_after': 0, 'LSTM_tf_dim_feedforward': 8, 'LSTM_tf_dropout': 0.1, 'LSTM_tf_positional_encoding': True, 'LSTM_tf_pool': 'last', 'year_start': 2021, 'is_single_feature': False}\n",
            "2025-08-26 15:54:07,987 -   q2: 0.9900\n",
            "2025-08-26 15:54:07,988 -   Duration0: 0:00:51.210869\n",
            "2025-08-26 15:54:07,988 -   Val RMSE0 adjusted: 0.0066\n",
            "2025-08-26 15:54:07,988 -   Mean all prediction: 0.9993\n",
            "2025-08-26 15:54:07,988 -   Mean above prediction: 1.0034\n",
            "2025-08-26 15:54:07,988 -   Mean below prediction: 0.9962\n",
            "2025-08-26 15:54:07,988 -   Quantile 0.99 for distance in mask above: 850.7199999999993\n",
            "2025-08-26 15:54:07,988 -   Quantile 0.99 for distance in mask below: 800.4799999999996\n",
            "2025-08-26 15:54:07,988 -   Ratio for quantile-distance-to-length above: 0.0013\n",
            "2025-08-26 15:54:07,988 -   Ratio for quantile-distance-to-length below: 0.0012\n",
            "2025-08-26 15:54:07,988 -   Score: 1.0008\n"
          ]
        },
        {
          "name": "stderr",
          "output_type": "stream",
          "text": [
            "[I 2025-08-26 15:54:08,045] Trial 117 finished with value: 1.000847719770518 and parameters: {'year_start': 2021, 'LoadupSamples_time_inc_factor': 61, 'LSTM_units': 32, 'LSTM_learning_rate': 0.00015445830721090199, 'LSTM_l1': 2.5472834590996847e-05, 'LSTM_l2': 0.00012819615308688197, 'LSTM_dropout': 0.004467815308757918, 'LSTM_inter_dropout': 0.012487395201847544, 'LSTM_recurrent_dropout': 0.003159070733189604}. Best is trial 38 with value: 1.0030939915675743.\n"
          ]
        },
        {
          "name": "stdout",
          "output_type": "stream",
          "text": [
            "2025-08-26 15:54:08,045 - Trial 117 finished with value: 1.000847719770518 and parameters: {'year_start': 2021, 'LoadupSamples_time_inc_factor': 61, 'LSTM_units': 32, 'LSTM_learning_rate': 0.00015445830721090199, 'LSTM_l1': 2.5472834590996847e-05, 'LSTM_l2': 0.00012819615308688197, 'LSTM_dropout': 0.004467815308757918, 'LSTM_inter_dropout': 0.012487395201847544, 'LSTM_recurrent_dropout': 0.003159070733189604}. Best is trial 38 with value: 1.0030939915675743.\n",
            "2025-08-26 15:54:15,555 - Non-finite/too-large values in train y time: 48 samples.\n",
            "2025-08-26 15:54:15,555 - Removing 48 samples from training data.\n"
          ]
        },
        {
          "name": "stderr",
          "output_type": "stream",
          "text": [
            "Epochs:   0%|          | 0/2 [00:00<?, ?it/s]"
          ]
        },
        {
          "name": "stdout",
          "output_type": "stream",
          "text": [
            "2025-08-26 15:54:44,718 - Epoch 1/2 — Train RMSE: 0.5032 — Validation RMSE: 0.4022\n"
          ]
        },
        {
          "name": "stderr",
          "output_type": "stream",
          "text": [
            "Epochs:  50%|█████     | 1/2 [00:20<00:20, 20.77s/it]"
          ]
        },
        {
          "name": "stdout",
          "output_type": "stream",
          "text": [
            "2025-08-26 15:55:05,647 - Epoch 2/2 — Train RMSE: 0.4100 — Validation RMSE: 0.4021\n"
          ]
        },
        {
          "name": "stderr",
          "output_type": "stream",
          "text": [
            "Epochs: 100%|██████████| 2/2 [00:41<00:00, 20.85s/it]\n"
          ]
        },
        {
          "name": "stdout",
          "output_type": "stream",
          "text": [
            "2025-08-26 15:55:09,656 - Trial 118 with params: {'idxAfterPrediction': 4, 'timesteps': 75, 'target_option': 'last', 'LoadupSamples_time_scaling_stretch': True, 'LoadupSamples_time_inc_factor': 61, 'LSTM_units': 16, 'LSTM_num_layers': 1, 'LSTM_dropout': 0.00528141679198377, 'LSTM_recurrent_dropout': 0.001988452361242521, 'LSTM_learning_rate': 0.00018543425060609789, 'LSTM_optimizer': 'adam', 'LSTM_bidirectional': True, 'LSTM_batch_size': 4096, 'LSTM_epochs': 2, 'LSTM_l1': 3.840918603176399e-05, 'LSTM_l2': 0.003632311568208991, 'LSTM_inter_dropout': 0.011584096305071779, 'LSTM_input_gaussian_noise': 0.001, 'LSTM_conv1d': True, 'LSTM_conv1d_kernel_size': 3, 'LSTM_loss': 'mse', 'LSTM_transformer_before': False, 'LSTM_transformer_after': False, 'LSTM_tf_d_model': 0, 'LSTM_tf_nhead': 2, 'LSTM_tf_num_layers_before': 0, 'LSTM_tf_num_layers_after': 0, 'LSTM_tf_dim_feedforward': 8, 'LSTM_tf_dropout': 0.1, 'LSTM_tf_positional_encoding': True, 'LSTM_tf_pool': 'last', 'year_start': 2021, 'is_single_feature': False}\n",
            "2025-08-26 15:55:09,656 -   q2: 0.9900\n",
            "2025-08-26 15:55:09,656 -   Duration0: 0:00:45.819225\n",
            "2025-08-26 15:55:09,656 -   Val RMSE0 adjusted: 0.0066\n",
            "2025-08-26 15:55:09,656 -   Mean all prediction: 0.9993\n",
            "2025-08-26 15:55:09,656 -   Mean above prediction: 1.0106\n",
            "2025-08-26 15:55:09,656 -   Mean below prediction: 0.9975\n",
            "2025-08-26 15:55:09,656 -   Quantile 0.99 for distance in mask above: 910.7199999999993\n",
            "2025-08-26 15:55:09,656 -   Quantile 0.99 for distance in mask below: 887.4799999999996\n",
            "2025-08-26 15:55:09,656 -   Ratio for quantile-distance-to-length above: 0.0014\n",
            "2025-08-26 15:55:09,672 -   Ratio for quantile-distance-to-length below: 0.0013\n",
            "2025-08-26 15:55:09,672 -   Score: 1.0026\n"
          ]
        },
        {
          "name": "stderr",
          "output_type": "stream",
          "text": [
            "[I 2025-08-26 15:55:09,721] Trial 118 finished with value: 1.0026479230798881 and parameters: {'year_start': 2021, 'LoadupSamples_time_inc_factor': 61, 'LSTM_units': 16, 'LSTM_learning_rate': 0.00018543425060609789, 'LSTM_l1': 3.840918603176399e-05, 'LSTM_l2': 0.003632311568208991, 'LSTM_dropout': 0.00528141679198377, 'LSTM_inter_dropout': 0.011584096305071779, 'LSTM_recurrent_dropout': 0.001988452361242521}. Best is trial 38 with value: 1.0030939915675743.\n"
          ]
        },
        {
          "name": "stdout",
          "output_type": "stream",
          "text": [
            "2025-08-26 15:55:09,721 - Trial 118 finished with value: 1.0026479230798881 and parameters: {'year_start': 2021, 'LoadupSamples_time_inc_factor': 61, 'LSTM_units': 16, 'LSTM_learning_rate': 0.00018543425060609789, 'LSTM_l1': 3.840918603176399e-05, 'LSTM_l2': 0.003632311568208991, 'LSTM_dropout': 0.00528141679198377, 'LSTM_inter_dropout': 0.011584096305071779, 'LSTM_recurrent_dropout': 0.001988452361242521}. Best is trial 38 with value: 1.0030939915675743.\n",
            "2025-08-26 15:55:17,238 - Non-finite/too-large values in train y time: 48 samples.\n",
            "2025-08-26 15:55:17,239 - Removing 48 samples from training data.\n"
          ]
        },
        {
          "name": "stderr",
          "output_type": "stream",
          "text": [
            "Epochs:   0%|          | 0/2 [00:00<?, ?it/s]"
          ]
        },
        {
          "name": "stdout",
          "output_type": "stream",
          "text": [
            "2025-08-26 15:55:49,291 - Epoch 1/2 — Train RMSE: 0.4457 — Validation RMSE: 0.4041\n"
          ]
        },
        {
          "name": "stderr",
          "output_type": "stream",
          "text": [
            "Epochs:  50%|█████     | 1/2 [00:23<00:23, 23.60s/it]"
          ]
        },
        {
          "name": "stdout",
          "output_type": "stream",
          "text": [
            "2025-08-26 15:56:12,642 - Epoch 2/2 — Train RMSE: 0.4124 — Validation RMSE: 0.4035\n"
          ]
        },
        {
          "name": "stderr",
          "output_type": "stream",
          "text": [
            "Epochs: 100%|██████████| 2/2 [00:46<00:00, 23.48s/it]\n"
          ]
        },
        {
          "name": "stdout",
          "output_type": "stream",
          "text": [
            "2025-08-26 15:56:16,668 - Trial 119 with params: {'idxAfterPrediction': 4, 'timesteps': 75, 'target_option': 'last', 'LoadupSamples_time_scaling_stretch': True, 'LoadupSamples_time_inc_factor': 61, 'LSTM_units': 32, 'LSTM_num_layers': 1, 'LSTM_dropout': 0.0018045691986880417, 'LSTM_recurrent_dropout': 0.0014528305368648568, 'LSTM_learning_rate': 0.00036685030583585333, 'LSTM_optimizer': 'adam', 'LSTM_bidirectional': True, 'LSTM_batch_size': 4096, 'LSTM_epochs': 2, 'LSTM_l1': 1.1958928984794121e-05, 'LSTM_l2': 0.00010155805646367189, 'LSTM_inter_dropout': 0.013857375175279404, 'LSTM_input_gaussian_noise': 0.001, 'LSTM_conv1d': True, 'LSTM_conv1d_kernel_size': 3, 'LSTM_loss': 'mse', 'LSTM_transformer_before': False, 'LSTM_transformer_after': False, 'LSTM_tf_d_model': 0, 'LSTM_tf_nhead': 2, 'LSTM_tf_num_layers_before': 0, 'LSTM_tf_num_layers_after': 0, 'LSTM_tf_dim_feedforward': 8, 'LSTM_tf_dropout': 0.1, 'LSTM_tf_positional_encoding': True, 'LSTM_tf_pool': 'last', 'year_start': 2021, 'is_single_feature': False}\n",
            "2025-08-26 15:56:16,668 -   q2: 0.9900\n",
            "2025-08-26 15:56:16,668 -   Duration0: 0:00:51.094892\n",
            "2025-08-26 15:56:16,668 -   Val RMSE0 adjusted: 0.0066\n",
            "2025-08-26 15:56:16,685 -   Mean all prediction: 0.9993\n",
            "2025-08-26 15:56:16,685 -   Mean above prediction: 1.0061\n",
            "2025-08-26 15:56:16,685 -   Mean below prediction: 0.9966\n",
            "2025-08-26 15:56:16,685 -   Quantile 0.99 for distance in mask above: 907.8799999999974\n",
            "2025-08-26 15:56:16,685 -   Quantile 0.99 for distance in mask below: 767.5999999999967\n",
            "2025-08-26 15:56:16,685 -   Ratio for quantile-distance-to-length above: 0.0014\n",
            "2025-08-26 15:56:16,685 -   Ratio for quantile-distance-to-length below: 0.0012\n",
            "2025-08-26 15:56:16,685 -   Score: 1.0015\n"
          ]
        },
        {
          "name": "stderr",
          "output_type": "stream",
          "text": [
            "[I 2025-08-26 15:56:16,738] Trial 119 finished with value: 1.0015108995773183 and parameters: {'year_start': 2021, 'LoadupSamples_time_inc_factor': 61, 'LSTM_units': 32, 'LSTM_learning_rate': 0.00036685030583585333, 'LSTM_l1': 1.1958928984794121e-05, 'LSTM_l2': 0.00010155805646367189, 'LSTM_dropout': 0.0018045691986880417, 'LSTM_inter_dropout': 0.013857375175279404, 'LSTM_recurrent_dropout': 0.0014528305368648568}. Best is trial 38 with value: 1.0030939915675743.\n"
          ]
        },
        {
          "name": "stdout",
          "output_type": "stream",
          "text": [
            "2025-08-26 15:56:16,738 - Trial 119 finished with value: 1.0015108995773183 and parameters: {'year_start': 2021, 'LoadupSamples_time_inc_factor': 61, 'LSTM_units': 32, 'LSTM_learning_rate': 0.00036685030583585333, 'LSTM_l1': 1.1958928984794121e-05, 'LSTM_l2': 0.00010155805646367189, 'LSTM_dropout': 0.0018045691986880417, 'LSTM_inter_dropout': 0.013857375175279404, 'LSTM_recurrent_dropout': 0.0014528305368648568}. Best is trial 38 with value: 1.0030939915675743.\n",
            "2025-08-26 15:56:24,218 - Non-finite/too-large values in train y time: 48 samples.\n",
            "2025-08-26 15:56:24,233 - Removing 48 samples from training data.\n"
          ]
        },
        {
          "name": "stderr",
          "output_type": "stream",
          "text": [
            "Epochs:   0%|          | 0/2 [00:00<?, ?it/s]"
          ]
        },
        {
          "name": "stdout",
          "output_type": "stream",
          "text": [
            "2025-08-26 15:56:56,287 - Epoch 1/2 — Train RMSE: 0.4537 — Validation RMSE: 0.4021\n"
          ]
        },
        {
          "name": "stderr",
          "output_type": "stream",
          "text": [
            "Epochs:  50%|█████     | 1/2 [00:23<00:23, 23.63s/it]"
          ]
        },
        {
          "name": "stdout",
          "output_type": "stream",
          "text": [
            "2025-08-26 15:57:19,621 - Epoch 2/2 — Train RMSE: 0.4105 — Validation RMSE: 0.4020\n"
          ]
        },
        {
          "name": "stderr",
          "output_type": "stream",
          "text": [
            "Epochs: 100%|██████████| 2/2 [00:46<00:00, 23.47s/it]\n"
          ]
        },
        {
          "name": "stdout",
          "output_type": "stream",
          "text": [
            "2025-08-26 15:57:23,683 - Trial 120 with params: {'idxAfterPrediction': 4, 'timesteps': 75, 'target_option': 'last', 'LoadupSamples_time_scaling_stretch': True, 'LoadupSamples_time_inc_factor': 61, 'LSTM_units': 32, 'LSTM_num_layers': 1, 'LSTM_dropout': 0.006112252397771612, 'LSTM_recurrent_dropout': 0.0016633586984583421, 'LSTM_learning_rate': 0.00017840189813072177, 'LSTM_optimizer': 'adam', 'LSTM_bidirectional': True, 'LSTM_batch_size': 4096, 'LSTM_epochs': 2, 'LSTM_l1': 3.440938484540785e-05, 'LSTM_l2': 0.0001726038100063749, 'LSTM_inter_dropout': 0.021663295797116282, 'LSTM_input_gaussian_noise': 0.001, 'LSTM_conv1d': True, 'LSTM_conv1d_kernel_size': 3, 'LSTM_loss': 'mse', 'LSTM_transformer_before': False, 'LSTM_transformer_after': False, 'LSTM_tf_d_model': 0, 'LSTM_tf_nhead': 2, 'LSTM_tf_num_layers_before': 0, 'LSTM_tf_num_layers_after': 0, 'LSTM_tf_dim_feedforward': 8, 'LSTM_tf_dropout': 0.1, 'LSTM_tf_positional_encoding': True, 'LSTM_tf_pool': 'last', 'year_start': 2021, 'is_single_feature': False}\n",
            "2025-08-26 15:57:23,683 -   q2: 0.9900\n",
            "2025-08-26 15:57:23,683 -   Duration0: 0:00:51.144807\n",
            "2025-08-26 15:57:23,683 -   Val RMSE0 adjusted: 0.0066\n",
            "2025-08-26 15:57:23,683 -   Mean all prediction: 0.9993\n",
            "2025-08-26 15:57:23,683 -   Mean above prediction: 1.0061\n",
            "2025-08-26 15:57:23,683 -   Mean below prediction: 0.9957\n",
            "2025-08-26 15:57:23,683 -   Quantile 0.99 for distance in mask above: 884.9599999999991\n",
            "2025-08-26 15:57:23,696 -   Quantile 0.99 for distance in mask below: 744.159999999998\n",
            "2025-08-26 15:57:23,697 -   Ratio for quantile-distance-to-length above: 0.0013\n",
            "2025-08-26 15:57:23,697 -   Ratio for quantile-distance-to-length below: 0.0011\n",
            "2025-08-26 15:57:23,697 -   Score: 1.0015\n"
          ]
        },
        {
          "name": "stderr",
          "output_type": "stream",
          "text": [
            "[I 2025-08-26 15:57:23,747] Trial 120 finished with value: 1.0015188931645496 and parameters: {'year_start': 2021, 'LoadupSamples_time_inc_factor': 61, 'LSTM_units': 32, 'LSTM_learning_rate': 0.00017840189813072177, 'LSTM_l1': 3.440938484540785e-05, 'LSTM_l2': 0.0001726038100063749, 'LSTM_dropout': 0.006112252397771612, 'LSTM_inter_dropout': 0.021663295797116282, 'LSTM_recurrent_dropout': 0.0016633586984583421}. Best is trial 38 with value: 1.0030939915675743.\n"
          ]
        },
        {
          "name": "stdout",
          "output_type": "stream",
          "text": [
            "2025-08-26 15:57:23,747 - Trial 120 finished with value: 1.0015188931645496 and parameters: {'year_start': 2021, 'LoadupSamples_time_inc_factor': 61, 'LSTM_units': 32, 'LSTM_learning_rate': 0.00017840189813072177, 'LSTM_l1': 3.440938484540785e-05, 'LSTM_l2': 0.0001726038100063749, 'LSTM_dropout': 0.006112252397771612, 'LSTM_inter_dropout': 0.021663295797116282, 'LSTM_recurrent_dropout': 0.0016633586984583421}. Best is trial 38 with value: 1.0030939915675743.\n",
            "2025-08-26 15:57:31,282 - Non-finite/too-large values in train y time: 48 samples.\n",
            "2025-08-26 15:57:31,283 - Removing 48 samples from training data.\n"
          ]
        },
        {
          "name": "stderr",
          "output_type": "stream",
          "text": [
            "Epochs:   0%|          | 0/2 [00:00<?, ?it/s]"
          ]
        },
        {
          "name": "stdout",
          "output_type": "stream",
          "text": [
            "2025-08-26 15:58:03,266 - Epoch 1/2 — Train RMSE: 0.4537 — Validation RMSE: 0.4024\n"
          ]
        },
        {
          "name": "stderr",
          "output_type": "stream",
          "text": [
            "Epochs:  50%|█████     | 1/2 [00:23<00:23, 23.58s/it]"
          ]
        },
        {
          "name": "stdout",
          "output_type": "stream",
          "text": [
            "2025-08-26 15:58:26,700 - Epoch 2/2 — Train RMSE: 0.4116 — Validation RMSE: 0.4022\n"
          ]
        },
        {
          "name": "stderr",
          "output_type": "stream",
          "text": [
            "Epochs: 100%|██████████| 2/2 [00:47<00:00, 23.51s/it]\n"
          ]
        },
        {
          "name": "stdout",
          "output_type": "stream",
          "text": [
            "2025-08-26 15:58:30,793 - Trial 121 with params: {'idxAfterPrediction': 4, 'timesteps': 75, 'target_option': 'last', 'LoadupSamples_time_scaling_stretch': True, 'LoadupSamples_time_inc_factor': 61, 'LSTM_units': 32, 'LSTM_num_layers': 1, 'LSTM_dropout': 0.004983875300373468, 'LSTM_recurrent_dropout': 0.0013386140960613224, 'LSTM_learning_rate': 0.00019331119709424565, 'LSTM_optimizer': 'adam', 'LSTM_bidirectional': True, 'LSTM_batch_size': 4096, 'LSTM_epochs': 2, 'LSTM_l1': 2.8060719659103776e-05, 'LSTM_l2': 0.00015249807413329308, 'LSTM_inter_dropout': 0.02308390699339803, 'LSTM_input_gaussian_noise': 0.001, 'LSTM_conv1d': True, 'LSTM_conv1d_kernel_size': 3, 'LSTM_loss': 'mse', 'LSTM_transformer_before': False, 'LSTM_transformer_after': False, 'LSTM_tf_d_model': 0, 'LSTM_tf_nhead': 2, 'LSTM_tf_num_layers_before': 0, 'LSTM_tf_num_layers_after': 0, 'LSTM_tf_dim_feedforward': 8, 'LSTM_tf_dropout': 0.1, 'LSTM_tf_positional_encoding': True, 'LSTM_tf_pool': 'last', 'year_start': 2021, 'is_single_feature': False}\n",
            "2025-08-26 15:58:30,793 -   q2: 0.9900\n",
            "2025-08-26 15:58:30,793 -   Duration0: 0:00:51.208807\n",
            "2025-08-26 15:58:30,793 -   Val RMSE0 adjusted: 0.0066\n",
            "2025-08-26 15:58:30,793 -   Mean all prediction: 0.9993\n",
            "2025-08-26 15:58:30,793 -   Mean above prediction: 1.0117\n",
            "2025-08-26 15:58:30,793 -   Mean below prediction: 0.9975\n",
            "2025-08-26 15:58:30,793 -   Quantile 0.99 for distance in mask above: 960.1999999999989\n",
            "2025-08-26 15:58:30,793 -   Quantile 0.99 for distance in mask below: 886.2399999999998\n",
            "2025-08-26 15:58:30,793 -   Ratio for quantile-distance-to-length above: 0.0015\n",
            "2025-08-26 15:58:30,809 -   Ratio for quantile-distance-to-length below: 0.0013\n",
            "2025-08-26 15:58:30,809 -   Score: 1.0029\n"
          ]
        },
        {
          "name": "stderr",
          "output_type": "stream",
          "text": [
            "[I 2025-08-26 15:58:30,859] Trial 121 finished with value: 1.002920753226168 and parameters: {'year_start': 2021, 'LoadupSamples_time_inc_factor': 61, 'LSTM_units': 32, 'LSTM_learning_rate': 0.00019331119709424565, 'LSTM_l1': 2.8060719659103776e-05, 'LSTM_l2': 0.00015249807413329308, 'LSTM_dropout': 0.004983875300373468, 'LSTM_inter_dropout': 0.02308390699339803, 'LSTM_recurrent_dropout': 0.0013386140960613224}. Best is trial 38 with value: 1.0030939915675743.\n"
          ]
        },
        {
          "name": "stdout",
          "output_type": "stream",
          "text": [
            "2025-08-26 15:58:30,859 - Trial 121 finished with value: 1.002920753226168 and parameters: {'year_start': 2021, 'LoadupSamples_time_inc_factor': 61, 'LSTM_units': 32, 'LSTM_learning_rate': 0.00019331119709424565, 'LSTM_l1': 2.8060719659103776e-05, 'LSTM_l2': 0.00015249807413329308, 'LSTM_dropout': 0.004983875300373468, 'LSTM_inter_dropout': 0.02308390699339803, 'LSTM_recurrent_dropout': 0.0013386140960613224}. Best is trial 38 with value: 1.0030939915675743.\n",
            "2025-08-26 15:58:38,392 - Non-finite/too-large values in train y time: 48 samples.\n",
            "2025-08-26 15:58:38,392 - Removing 48 samples from training data.\n"
          ]
        },
        {
          "name": "stderr",
          "output_type": "stream",
          "text": [
            "Epochs:   0%|          | 0/2 [00:00<?, ?it/s]"
          ]
        },
        {
          "name": "stdout",
          "output_type": "stream",
          "text": [
            "2025-08-26 15:59:10,548 - Epoch 1/2 — Train RMSE: 0.4868 — Validation RMSE: 0.4021\n"
          ]
        },
        {
          "name": "stderr",
          "output_type": "stream",
          "text": [
            "Epochs:  50%|█████     | 1/2 [00:23<00:23, 23.70s/it]"
          ]
        },
        {
          "name": "stdout",
          "output_type": "stream",
          "text": [
            "2025-08-26 15:59:33,946 - Epoch 2/2 — Train RMSE: 0.4112 — Validation RMSE: 0.4021\n"
          ]
        },
        {
          "name": "stderr",
          "output_type": "stream",
          "text": [
            "Epochs: 100%|██████████| 2/2 [00:47<00:00, 23.54s/it]\n"
          ]
        },
        {
          "name": "stdout",
          "output_type": "stream",
          "text": [
            "2025-08-26 15:59:37,971 - Trial 122 with params: {'idxAfterPrediction': 4, 'timesteps': 75, 'target_option': 'last', 'LoadupSamples_time_scaling_stretch': True, 'LoadupSamples_time_inc_factor': 61, 'LSTM_units': 32, 'LSTM_num_layers': 1, 'LSTM_dropout': 0.005543951480395352, 'LSTM_recurrent_dropout': 0.0013329682483913393, 'LSTM_learning_rate': 0.0001922932518875773, 'LSTM_optimizer': 'adam', 'LSTM_bidirectional': True, 'LSTM_batch_size': 4096, 'LSTM_epochs': 2, 'LSTM_l1': 2.775500300750413e-05, 'LSTM_l2': 0.00019312266672922207, 'LSTM_inter_dropout': 0.023027442059276412, 'LSTM_input_gaussian_noise': 0.001, 'LSTM_conv1d': True, 'LSTM_conv1d_kernel_size': 3, 'LSTM_loss': 'mse', 'LSTM_transformer_before': False, 'LSTM_transformer_after': False, 'LSTM_tf_d_model': 0, 'LSTM_tf_nhead': 2, 'LSTM_tf_num_layers_before': 0, 'LSTM_tf_num_layers_after': 0, 'LSTM_tf_dim_feedforward': 8, 'LSTM_tf_dropout': 0.1, 'LSTM_tf_positional_encoding': True, 'LSTM_tf_pool': 'last', 'year_start': 2021, 'is_single_feature': False}\n",
            "2025-08-26 15:59:37,973 -   q2: 0.9900\n",
            "2025-08-26 15:59:37,973 -   Duration0: 0:00:51.211639\n",
            "2025-08-26 15:59:37,974 -   Val RMSE0 adjusted: 0.0066\n",
            "2025-08-26 15:59:37,979 -   Mean all prediction: 0.9993\n",
            "2025-08-26 15:59:37,980 -   Mean above prediction: 1.0092\n",
            "2025-08-26 15:59:37,981 -   Mean below prediction: 0.9977\n",
            "2025-08-26 15:59:37,982 -   Quantile 0.99 for distance in mask above: 894.4799999999996\n",
            "2025-08-26 15:59:37,982 -   Quantile 0.99 for distance in mask below: 911.9599999999991\n",
            "2025-08-26 15:59:37,983 -   Ratio for quantile-distance-to-length above: 0.0014\n",
            "2025-08-26 15:59:37,985 -   Ratio for quantile-distance-to-length below: 0.0014\n",
            "2025-08-26 15:59:37,985 -   Score: 1.0023\n"
          ]
        },
        {
          "name": "stderr",
          "output_type": "stream",
          "text": [
            "[I 2025-08-26 15:59:38,022] Trial 122 finished with value: 1.0022947547156944 and parameters: {'year_start': 2021, 'LoadupSamples_time_inc_factor': 61, 'LSTM_units': 32, 'LSTM_learning_rate': 0.0001922932518875773, 'LSTM_l1': 2.775500300750413e-05, 'LSTM_l2': 0.00019312266672922207, 'LSTM_dropout': 0.005543951480395352, 'LSTM_inter_dropout': 0.023027442059276412, 'LSTM_recurrent_dropout': 0.0013329682483913393}. Best is trial 38 with value: 1.0030939915675743.\n"
          ]
        },
        {
          "name": "stdout",
          "output_type": "stream",
          "text": [
            "2025-08-26 15:59:38,022 - Trial 122 finished with value: 1.0022947547156944 and parameters: {'year_start': 2021, 'LoadupSamples_time_inc_factor': 61, 'LSTM_units': 32, 'LSTM_learning_rate': 0.0001922932518875773, 'LSTM_l1': 2.775500300750413e-05, 'LSTM_l2': 0.00019312266672922207, 'LSTM_dropout': 0.005543951480395352, 'LSTM_inter_dropout': 0.023027442059276412, 'LSTM_recurrent_dropout': 0.0013329682483913393}. Best is trial 38 with value: 1.0030939915675743.\n",
            "2025-08-26 15:59:45,558 - Non-finite/too-large values in train y time: 48 samples.\n",
            "2025-08-26 15:59:45,558 - Removing 48 samples from training data.\n"
          ]
        },
        {
          "name": "stderr",
          "output_type": "stream",
          "text": [
            "Epochs:   0%|          | 0/2 [00:00<?, ?it/s]"
          ]
        },
        {
          "name": "stdout",
          "output_type": "stream",
          "text": [
            "2025-08-26 16:00:17,641 - Epoch 1/2 — Train RMSE: 0.4460 — Validation RMSE: 0.4021\n"
          ]
        },
        {
          "name": "stderr",
          "output_type": "stream",
          "text": [
            "Epochs:  50%|█████     | 1/2 [00:23<00:23, 23.58s/it]"
          ]
        },
        {
          "name": "stdout",
          "output_type": "stream",
          "text": [
            "2025-08-26 16:00:41,078 - Epoch 2/2 — Train RMSE: 0.4105 — Validation RMSE: 0.4021\n"
          ]
        },
        {
          "name": "stderr",
          "output_type": "stream",
          "text": [
            "Epochs: 100%|██████████| 2/2 [00:47<00:00, 23.51s/it]\n"
          ]
        },
        {
          "name": "stdout",
          "output_type": "stream",
          "text": [
            "2025-08-26 16:00:45,152 - Trial 123 with params: {'idxAfterPrediction': 4, 'timesteps': 75, 'target_option': 'last', 'LoadupSamples_time_scaling_stretch': True, 'LoadupSamples_time_inc_factor': 61, 'LSTM_units': 32, 'LSTM_num_layers': 1, 'LSTM_dropout': 0.005805465381479083, 'LSTM_recurrent_dropout': 0.0015181949221798165, 'LSTM_learning_rate': 0.00020612330343953398, 'LSTM_optimizer': 'adam', 'LSTM_bidirectional': True, 'LSTM_batch_size': 4096, 'LSTM_epochs': 2, 'LSTM_l1': 2.6570261917693407e-05, 'LSTM_l2': 0.00014383833406148727, 'LSTM_inter_dropout': 0.020559228935543995, 'LSTM_input_gaussian_noise': 0.001, 'LSTM_conv1d': True, 'LSTM_conv1d_kernel_size': 3, 'LSTM_loss': 'mse', 'LSTM_transformer_before': False, 'LSTM_transformer_after': False, 'LSTM_tf_d_model': 0, 'LSTM_tf_nhead': 2, 'LSTM_tf_num_layers_before': 0, 'LSTM_tf_num_layers_after': 0, 'LSTM_tf_dim_feedforward': 8, 'LSTM_tf_dropout': 0.1, 'LSTM_tf_positional_encoding': True, 'LSTM_tf_pool': 'last', 'year_start': 2021, 'is_single_feature': False}\n",
            "2025-08-26 16:00:45,152 -   q2: 0.9900\n",
            "2025-08-26 16:00:45,152 -   Duration0: 0:00:51.194881\n",
            "2025-08-26 16:00:45,152 -   Val RMSE0 adjusted: 0.0066\n",
            "2025-08-26 16:00:45,152 -   Mean all prediction: 0.9993\n",
            "2025-08-26 16:00:45,152 -   Mean above prediction: 1.0047\n",
            "2025-08-26 16:00:45,152 -   Mean below prediction: 0.9965\n",
            "2025-08-26 16:00:45,152 -   Quantile 0.99 for distance in mask above: 832.9199999999983\n",
            "2025-08-26 16:00:45,152 -   Quantile 0.99 for distance in mask below: 770.7599999999948\n",
            "2025-08-26 16:00:45,152 -   Ratio for quantile-distance-to-length above: 0.0013\n",
            "2025-08-26 16:00:45,152 -   Ratio for quantile-distance-to-length below: 0.0012\n",
            "2025-08-26 16:00:45,152 -   Score: 1.0012\n"
          ]
        },
        {
          "name": "stderr",
          "output_type": "stream",
          "text": [
            "[I 2025-08-26 16:00:45,217] Trial 123 finished with value: 1.0011793271226448 and parameters: {'year_start': 2021, 'LoadupSamples_time_inc_factor': 61, 'LSTM_units': 32, 'LSTM_learning_rate': 0.00020612330343953398, 'LSTM_l1': 2.6570261917693407e-05, 'LSTM_l2': 0.00014383833406148727, 'LSTM_dropout': 0.005805465381479083, 'LSTM_inter_dropout': 0.020559228935543995, 'LSTM_recurrent_dropout': 0.0015181949221798165}. Best is trial 38 with value: 1.0030939915675743.\n"
          ]
        },
        {
          "name": "stdout",
          "output_type": "stream",
          "text": [
            "2025-08-26 16:00:45,217 - Trial 123 finished with value: 1.0011793271226448 and parameters: {'year_start': 2021, 'LoadupSamples_time_inc_factor': 61, 'LSTM_units': 32, 'LSTM_learning_rate': 0.00020612330343953398, 'LSTM_l1': 2.6570261917693407e-05, 'LSTM_l2': 0.00014383833406148727, 'LSTM_dropout': 0.005805465381479083, 'LSTM_inter_dropout': 0.020559228935543995, 'LSTM_recurrent_dropout': 0.0015181949221798165}. Best is trial 38 with value: 1.0030939915675743.\n",
            "2025-08-26 16:00:52,743 - Non-finite/too-large values in train y time: 48 samples.\n",
            "2025-08-26 16:00:52,746 - Removing 48 samples from training data.\n"
          ]
        },
        {
          "name": "stderr",
          "output_type": "stream",
          "text": [
            "Epochs:   0%|          | 0/2 [00:00<?, ?it/s]"
          ]
        },
        {
          "name": "stdout",
          "output_type": "stream",
          "text": [
            "2025-08-26 16:01:24,854 - Epoch 1/2 — Train RMSE: 0.4491 — Validation RMSE: 0.4024\n"
          ]
        },
        {
          "name": "stderr",
          "output_type": "stream",
          "text": [
            "Epochs:  50%|█████     | 1/2 [00:23<00:23, 23.58s/it]"
          ]
        },
        {
          "name": "stdout",
          "output_type": "stream",
          "text": [
            "2025-08-26 16:01:48,271 - Epoch 2/2 — Train RMSE: 0.4114 — Validation RMSE: 0.4023\n"
          ]
        },
        {
          "name": "stderr",
          "output_type": "stream",
          "text": [
            "Epochs: 100%|██████████| 2/2 [00:47<00:00, 23.51s/it]\n"
          ]
        },
        {
          "name": "stdout",
          "output_type": "stream",
          "text": [
            "2025-08-26 16:01:52,323 - Trial 124 with params: {'idxAfterPrediction': 4, 'timesteps': 75, 'target_option': 'last', 'LoadupSamples_time_scaling_stretch': True, 'LoadupSamples_time_inc_factor': 61, 'LSTM_units': 32, 'LSTM_num_layers': 1, 'LSTM_dropout': 0.005015489818558946, 'LSTM_recurrent_dropout': 0.0018737203204211147, 'LSTM_learning_rate': 0.00022169785113761067, 'LSTM_optimizer': 'adam', 'LSTM_bidirectional': True, 'LSTM_batch_size': 4096, 'LSTM_epochs': 2, 'LSTM_l1': 1.4239786463091832e-05, 'LSTM_l2': 0.00012048175521972672, 'LSTM_inter_dropout': 0.023875245851408416, 'LSTM_input_gaussian_noise': 0.001, 'LSTM_conv1d': True, 'LSTM_conv1d_kernel_size': 3, 'LSTM_loss': 'mse', 'LSTM_transformer_before': False, 'LSTM_transformer_after': False, 'LSTM_tf_d_model': 0, 'LSTM_tf_nhead': 2, 'LSTM_tf_num_layers_before': 0, 'LSTM_tf_num_layers_after': 0, 'LSTM_tf_dim_feedforward': 8, 'LSTM_tf_dropout': 0.1, 'LSTM_tf_positional_encoding': True, 'LSTM_tf_pool': 'last', 'year_start': 2021, 'is_single_feature': False}\n",
            "2025-08-26 16:01:52,323 -   q2: 0.9900\n",
            "2025-08-26 16:01:52,324 -   Duration0: 0:00:51.144885\n",
            "2025-08-26 16:01:52,324 -   Val RMSE0 adjusted: 0.0066\n",
            "2025-08-26 16:01:52,330 -   Mean all prediction: 0.9993\n",
            "2025-08-26 16:01:52,331 -   Mean above prediction: 1.0116\n",
            "2025-08-26 16:01:52,331 -   Mean below prediction: 0.9977\n",
            "2025-08-26 16:01:52,331 -   Quantile 0.99 for distance in mask above: 982.7199999999993\n",
            "2025-08-26 16:01:52,331 -   Quantile 0.99 for distance in mask below: 887.0\n",
            "2025-08-26 16:01:52,331 -   Ratio for quantile-distance-to-length above: 0.0015\n",
            "2025-08-26 16:01:52,331 -   Ratio for quantile-distance-to-length below: 0.0013\n",
            "2025-08-26 16:01:52,331 -   Score: 1.0029\n"
          ]
        },
        {
          "name": "stderr",
          "output_type": "stream",
          "text": [
            "[I 2025-08-26 16:01:52,381] Trial 124 finished with value: 1.0028831285729334 and parameters: {'year_start': 2021, 'LoadupSamples_time_inc_factor': 61, 'LSTM_units': 32, 'LSTM_learning_rate': 0.00022169785113761067, 'LSTM_l1': 1.4239786463091832e-05, 'LSTM_l2': 0.00012048175521972672, 'LSTM_dropout': 0.005015489818558946, 'LSTM_inter_dropout': 0.023875245851408416, 'LSTM_recurrent_dropout': 0.0018737203204211147}. Best is trial 38 with value: 1.0030939915675743.\n"
          ]
        },
        {
          "name": "stdout",
          "output_type": "stream",
          "text": [
            "2025-08-26 16:01:52,381 - Trial 124 finished with value: 1.0028831285729334 and parameters: {'year_start': 2021, 'LoadupSamples_time_inc_factor': 61, 'LSTM_units': 32, 'LSTM_learning_rate': 0.00022169785113761067, 'LSTM_l1': 1.4239786463091832e-05, 'LSTM_l2': 0.00012048175521972672, 'LSTM_dropout': 0.005015489818558946, 'LSTM_inter_dropout': 0.023875245851408416, 'LSTM_recurrent_dropout': 0.0018737203204211147}. Best is trial 38 with value: 1.0030939915675743.\n",
            "2025-08-26 16:01:59,899 - Non-finite/too-large values in train y time: 48 samples.\n",
            "2025-08-26 16:01:59,913 - Removing 48 samples from training data.\n"
          ]
        },
        {
          "name": "stderr",
          "output_type": "stream",
          "text": [
            "Epochs:   0%|          | 0/2 [00:00<?, ?it/s]"
          ]
        },
        {
          "name": "stdout",
          "output_type": "stream",
          "text": [
            "2025-08-26 16:02:32,033 - Epoch 1/2 — Train RMSE: 0.4484 — Validation RMSE: 0.4023\n"
          ]
        },
        {
          "name": "stderr",
          "output_type": "stream",
          "text": [
            "Epochs:  50%|█████     | 1/2 [00:23<00:23, 23.55s/it]"
          ]
        },
        {
          "name": "stdout",
          "output_type": "stream",
          "text": [
            "2025-08-26 16:02:55,517 - Epoch 2/2 — Train RMSE: 0.4115 — Validation RMSE: 0.4022\n"
          ]
        },
        {
          "name": "stderr",
          "output_type": "stream",
          "text": [
            "Epochs: 100%|██████████| 2/2 [00:47<00:00, 23.52s/it]\n"
          ]
        },
        {
          "name": "stdout",
          "output_type": "stream",
          "text": [
            "2025-08-26 16:02:59,560 - Trial 125 with params: {'idxAfterPrediction': 4, 'timesteps': 75, 'target_option': 'last', 'LoadupSamples_time_scaling_stretch': True, 'LoadupSamples_time_inc_factor': 61, 'LSTM_units': 32, 'LSTM_num_layers': 1, 'LSTM_dropout': 0.005086073286373614, 'LSTM_recurrent_dropout': 0.0010999925386850952, 'LSTM_learning_rate': 0.00022404262138166117, 'LSTM_optimizer': 'adam', 'LSTM_bidirectional': True, 'LSTM_batch_size': 4096, 'LSTM_epochs': 2, 'LSTM_l1': 1.4118473111297305e-05, 'LSTM_l2': 0.00011420321144756416, 'LSTM_inter_dropout': 0.027595442337775156, 'LSTM_input_gaussian_noise': 0.001, 'LSTM_conv1d': True, 'LSTM_conv1d_kernel_size': 3, 'LSTM_loss': 'mse', 'LSTM_transformer_before': False, 'LSTM_transformer_after': False, 'LSTM_tf_d_model': 0, 'LSTM_tf_nhead': 2, 'LSTM_tf_num_layers_before': 0, 'LSTM_tf_num_layers_after': 0, 'LSTM_tf_dim_feedforward': 8, 'LSTM_tf_dropout': 0.1, 'LSTM_tf_positional_encoding': True, 'LSTM_tf_pool': 'last', 'year_start': 2021, 'is_single_feature': False}\n",
            "2025-08-26 16:02:59,560 -   q2: 0.9900\n",
            "2025-08-26 16:02:59,560 -   Duration0: 0:00:51.180719\n",
            "2025-08-26 16:02:59,560 -   Val RMSE0 adjusted: 0.0066\n",
            "2025-08-26 16:02:59,560 -   Mean all prediction: 0.9993\n",
            "2025-08-26 16:02:59,560 -   Mean above prediction: 1.0096\n",
            "2025-08-26 16:02:59,560 -   Mean below prediction: 0.9971\n",
            "2025-08-26 16:02:59,575 -   Quantile 0.99 for distance in mask above: 982.2399999999998\n",
            "2025-08-26 16:02:59,576 -   Quantile 0.99 for distance in mask below: 813.7599999999948\n",
            "2025-08-26 16:02:59,577 -   Ratio for quantile-distance-to-length above: 0.0015\n",
            "2025-08-26 16:02:59,578 -   Ratio for quantile-distance-to-length below: 0.0012\n",
            "2025-08-26 16:02:59,578 -   Score: 1.0024\n"
          ]
        },
        {
          "name": "stderr",
          "output_type": "stream",
          "text": [
            "[I 2025-08-26 16:02:59,627] Trial 125 finished with value: 1.0023918488749255 and parameters: {'year_start': 2021, 'LoadupSamples_time_inc_factor': 61, 'LSTM_units': 32, 'LSTM_learning_rate': 0.00022404262138166117, 'LSTM_l1': 1.4118473111297305e-05, 'LSTM_l2': 0.00011420321144756416, 'LSTM_dropout': 0.005086073286373614, 'LSTM_inter_dropout': 0.027595442337775156, 'LSTM_recurrent_dropout': 0.0010999925386850952}. Best is trial 38 with value: 1.0030939915675743.\n"
          ]
        },
        {
          "name": "stdout",
          "output_type": "stream",
          "text": [
            "2025-08-26 16:02:59,627 - Trial 125 finished with value: 1.0023918488749255 and parameters: {'year_start': 2021, 'LoadupSamples_time_inc_factor': 61, 'LSTM_units': 32, 'LSTM_learning_rate': 0.00022404262138166117, 'LSTM_l1': 1.4118473111297305e-05, 'LSTM_l2': 0.00011420321144756416, 'LSTM_dropout': 0.005086073286373614, 'LSTM_inter_dropout': 0.027595442337775156, 'LSTM_recurrent_dropout': 0.0010999925386850952}. Best is trial 38 with value: 1.0030939915675743.\n",
            "2025-08-26 16:03:07,127 - Non-finite/too-large values in train y time: 48 samples.\n",
            "2025-08-26 16:03:07,127 - Removing 48 samples from training data.\n"
          ]
        },
        {
          "name": "stderr",
          "output_type": "stream",
          "text": [
            "Epochs:   0%|          | 0/2 [00:00<?, ?it/s]"
          ]
        },
        {
          "name": "stdout",
          "output_type": "stream",
          "text": [
            "2025-08-26 16:03:39,165 - Epoch 1/2 — Train RMSE: 0.4221 — Validation RMSE: 0.4020\n"
          ]
        },
        {
          "name": "stderr",
          "output_type": "stream",
          "text": [
            "Epochs:  50%|█████     | 1/2 [00:23<00:23, 23.57s/it]"
          ]
        },
        {
          "name": "stdout",
          "output_type": "stream",
          "text": [
            "2025-08-26 16:04:02,613 - Epoch 2/2 — Train RMSE: 0.4105 — Validation RMSE: 0.4020\n"
          ]
        },
        {
          "name": "stderr",
          "output_type": "stream",
          "text": [
            "Epochs: 100%|██████████| 2/2 [00:47<00:00, 23.51s/it]\n"
          ]
        },
        {
          "name": "stdout",
          "output_type": "stream",
          "text": [
            "2025-08-26 16:04:06,672 - Trial 126 with params: {'idxAfterPrediction': 4, 'timesteps': 75, 'target_option': 'last', 'LoadupSamples_time_scaling_stretch': True, 'LoadupSamples_time_inc_factor': 61, 'LSTM_units': 32, 'LSTM_num_layers': 1, 'LSTM_dropout': 0.008799733597696945, 'LSTM_recurrent_dropout': 0.004035380644620146, 'LSTM_learning_rate': 0.00021369774336864124, 'LSTM_optimizer': 'adam', 'LSTM_bidirectional': True, 'LSTM_batch_size': 4096, 'LSTM_epochs': 2, 'LSTM_l1': 1.5085143115756085e-05, 'LSTM_l2': 0.00011912662445358588, 'LSTM_inter_dropout': 0.026323144597086148, 'LSTM_input_gaussian_noise': 0.001, 'LSTM_conv1d': True, 'LSTM_conv1d_kernel_size': 3, 'LSTM_loss': 'mse', 'LSTM_transformer_before': False, 'LSTM_transformer_after': False, 'LSTM_tf_d_model': 0, 'LSTM_tf_nhead': 2, 'LSTM_tf_num_layers_before': 0, 'LSTM_tf_num_layers_after': 0, 'LSTM_tf_dim_feedforward': 8, 'LSTM_tf_dropout': 0.1, 'LSTM_tf_positional_encoding': True, 'LSTM_tf_pool': 'last', 'year_start': 2021, 'is_single_feature': False}\n",
            "2025-08-26 16:04:06,688 -   q2: 0.9900\n",
            "2025-08-26 16:04:06,689 -   Duration0: 0:00:51.244286\n",
            "2025-08-26 16:04:06,689 -   Val RMSE0 adjusted: 0.0066\n",
            "2025-08-26 16:04:06,689 -   Mean all prediction: 0.9993\n",
            "2025-08-26 16:04:06,689 -   Mean above prediction: 1.0084\n",
            "2025-08-26 16:04:06,689 -   Mean below prediction: 0.9972\n",
            "2025-08-26 16:04:06,689 -   Quantile 0.99 for distance in mask above: 955.4399999999987\n",
            "2025-08-26 16:04:06,689 -   Quantile 0.99 for distance in mask below: 877.2399999999998\n",
            "2025-08-26 16:04:06,689 -   Ratio for quantile-distance-to-length above: 0.0015\n",
            "2025-08-26 16:04:06,689 -   Ratio for quantile-distance-to-length below: 0.0013\n",
            "2025-08-26 16:04:06,689 -   Score: 1.0021\n"
          ]
        },
        {
          "name": "stderr",
          "output_type": "stream",
          "text": [
            "[I 2025-08-26 16:04:06,754] Trial 126 finished with value: 1.002083088166384 and parameters: {'year_start': 2021, 'LoadupSamples_time_inc_factor': 61, 'LSTM_units': 32, 'LSTM_learning_rate': 0.00021369774336864124, 'LSTM_l1': 1.5085143115756085e-05, 'LSTM_l2': 0.00011912662445358588, 'LSTM_dropout': 0.008799733597696945, 'LSTM_inter_dropout': 0.026323144597086148, 'LSTM_recurrent_dropout': 0.004035380644620146}. Best is trial 38 with value: 1.0030939915675743.\n"
          ]
        },
        {
          "name": "stdout",
          "output_type": "stream",
          "text": [
            "2025-08-26 16:04:06,754 - Trial 126 finished with value: 1.002083088166384 and parameters: {'year_start': 2021, 'LoadupSamples_time_inc_factor': 61, 'LSTM_units': 32, 'LSTM_learning_rate': 0.00021369774336864124, 'LSTM_l1': 1.5085143115756085e-05, 'LSTM_l2': 0.00011912662445358588, 'LSTM_dropout': 0.008799733597696945, 'LSTM_inter_dropout': 0.026323144597086148, 'LSTM_recurrent_dropout': 0.004035380644620146}. Best is trial 38 with value: 1.0030939915675743.\n",
            "2025-08-26 16:04:14,274 - Non-finite/too-large values in train y time: 48 samples.\n",
            "2025-08-26 16:04:14,274 - Removing 48 samples from training data.\n"
          ]
        },
        {
          "name": "stderr",
          "output_type": "stream",
          "text": [
            "Epochs:   0%|          | 0/2 [00:00<?, ?it/s]"
          ]
        },
        {
          "name": "stdout",
          "output_type": "stream",
          "text": [
            "2025-08-26 16:04:46,341 - Epoch 1/2 — Train RMSE: 0.4359 — Validation RMSE: 0.4144\n"
          ]
        },
        {
          "name": "stderr",
          "output_type": "stream",
          "text": [
            "Epochs:  50%|█████     | 1/2 [00:23<00:23, 23.63s/it]"
          ]
        },
        {
          "name": "stdout",
          "output_type": "stream",
          "text": [
            "2025-08-26 16:05:09,709 - Epoch 2/2 — Train RMSE: 0.4229 — Validation RMSE: 0.4143\n"
          ]
        },
        {
          "name": "stderr",
          "output_type": "stream",
          "text": [
            "Epochs: 100%|██████████| 2/2 [00:47<00:00, 23.51s/it]\n"
          ]
        },
        {
          "name": "stdout",
          "output_type": "stream",
          "text": [
            "2025-08-26 16:05:13,785 - Trial 127 with params: {'idxAfterPrediction': 4, 'timesteps': 75, 'target_option': 'last', 'LoadupSamples_time_scaling_stretch': True, 'LoadupSamples_time_inc_factor': 71, 'LSTM_units': 32, 'LSTM_num_layers': 1, 'LSTM_dropout': 0.007522629367760293, 'LSTM_recurrent_dropout': 0.002141845554461604, 'LSTM_learning_rate': 0.0002331292591392089, 'LSTM_optimizer': 'adam', 'LSTM_bidirectional': True, 'LSTM_batch_size': 4096, 'LSTM_epochs': 2, 'LSTM_l1': 1.4496519149717855e-05, 'LSTM_l2': 0.00012954506035905972, 'LSTM_inter_dropout': 0.025273583450430816, 'LSTM_input_gaussian_noise': 0.001, 'LSTM_conv1d': True, 'LSTM_conv1d_kernel_size': 3, 'LSTM_loss': 'mse', 'LSTM_transformer_before': False, 'LSTM_transformer_after': False, 'LSTM_tf_d_model': 0, 'LSTM_tf_nhead': 2, 'LSTM_tf_num_layers_before': 0, 'LSTM_tf_num_layers_after': 0, 'LSTM_tf_dim_feedforward': 8, 'LSTM_tf_dropout': 0.1, 'LSTM_tf_positional_encoding': True, 'LSTM_tf_pool': 'last', 'year_start': 2021, 'is_single_feature': False}\n",
            "2025-08-26 16:05:13,785 -   q2: 0.9900\n",
            "2025-08-26 16:05:13,785 -   Duration0: 0:00:51.211343\n",
            "2025-08-26 16:05:13,785 -   Val RMSE0 adjusted: 0.0058\n",
            "2025-08-26 16:05:13,785 -   Mean all prediction: 0.9993\n",
            "2025-08-26 16:05:13,785 -   Mean above prediction: 1.0076\n",
            "2025-08-26 16:05:13,785 -   Mean below prediction: 0.9983\n",
            "2025-08-26 16:05:13,785 -   Quantile 0.99 for distance in mask above: 869.0\n",
            "2025-08-26 16:05:13,800 -   Quantile 0.99 for distance in mask below: 888.4399999999987\n",
            "2025-08-26 16:05:13,801 -   Ratio for quantile-distance-to-length above: 0.0013\n",
            "2025-08-26 16:05:13,802 -   Ratio for quantile-distance-to-length below: 0.0014\n",
            "2025-08-26 16:05:13,802 -   Score: 1.0019\n"
          ]
        },
        {
          "name": "stderr",
          "output_type": "stream",
          "text": [
            "[I 2025-08-26 16:05:13,851] Trial 127 finished with value: 1.0019058694089207 and parameters: {'year_start': 2021, 'LoadupSamples_time_inc_factor': 71, 'LSTM_units': 32, 'LSTM_learning_rate': 0.0002331292591392089, 'LSTM_l1': 1.4496519149717855e-05, 'LSTM_l2': 0.00012954506035905972, 'LSTM_dropout': 0.007522629367760293, 'LSTM_inter_dropout': 0.025273583450430816, 'LSTM_recurrent_dropout': 0.002141845554461604}. Best is trial 38 with value: 1.0030939915675743.\n"
          ]
        },
        {
          "name": "stdout",
          "output_type": "stream",
          "text": [
            "2025-08-26 16:05:13,851 - Trial 127 finished with value: 1.0019058694089207 and parameters: {'year_start': 2021, 'LoadupSamples_time_inc_factor': 71, 'LSTM_units': 32, 'LSTM_learning_rate': 0.0002331292591392089, 'LSTM_l1': 1.4496519149717855e-05, 'LSTM_l2': 0.00012954506035905972, 'LSTM_dropout': 0.007522629367760293, 'LSTM_inter_dropout': 0.025273583450430816, 'LSTM_recurrent_dropout': 0.002141845554461604}. Best is trial 38 with value: 1.0030939915675743.\n",
            "2025-08-26 16:05:21,318 - Non-finite/too-large values in train y time: 48 samples.\n",
            "2025-08-26 16:05:21,318 - Removing 48 samples from training data.\n"
          ]
        },
        {
          "name": "stderr",
          "output_type": "stream",
          "text": [
            "Epochs:   0%|          | 0/2 [00:00<?, ?it/s]"
          ]
        },
        {
          "name": "stdout",
          "output_type": "stream",
          "text": [
            "2025-08-26 16:05:53,370 - Epoch 1/2 — Train RMSE: 0.4299 — Validation RMSE: 0.4021\n"
          ]
        },
        {
          "name": "stderr",
          "output_type": "stream",
          "text": [
            "Epochs:  50%|█████     | 1/2 [00:23<00:23, 23.58s/it]"
          ]
        },
        {
          "name": "stdout",
          "output_type": "stream",
          "text": [
            "2025-08-26 16:06:16,805 - Epoch 2/2 — Train RMSE: 0.4110 — Validation RMSE: 0.4021\n"
          ]
        },
        {
          "name": "stderr",
          "output_type": "stream",
          "text": [
            "Epochs: 100%|██████████| 2/2 [00:47<00:00, 23.51s/it]\n"
          ]
        },
        {
          "name": "stdout",
          "output_type": "stream",
          "text": [
            "2025-08-26 16:06:20,780 - Trial 128 with params: {'idxAfterPrediction': 4, 'timesteps': 75, 'target_option': 'last', 'LoadupSamples_time_scaling_stretch': True, 'LoadupSamples_time_inc_factor': 61, 'LSTM_units': 32, 'LSTM_num_layers': 1, 'LSTM_dropout': 0.00530961245459168, 'LSTM_recurrent_dropout': 0.00496845373672208, 'LSTM_learning_rate': 0.00024713492371044324, 'LSTM_optimizer': 'adam', 'LSTM_bidirectional': True, 'LSTM_batch_size': 4096, 'LSTM_epochs': 2, 'LSTM_l1': 1.3261723240772524e-05, 'LSTM_l2': 0.00010670242865811646, 'LSTM_inter_dropout': 0.02404345002161299, 'LSTM_input_gaussian_noise': 0.001, 'LSTM_conv1d': True, 'LSTM_conv1d_kernel_size': 3, 'LSTM_loss': 'mse', 'LSTM_transformer_before': False, 'LSTM_transformer_after': False, 'LSTM_tf_d_model': 0, 'LSTM_tf_nhead': 2, 'LSTM_tf_num_layers_before': 0, 'LSTM_tf_num_layers_after': 0, 'LSTM_tf_dim_feedforward': 8, 'LSTM_tf_dropout': 0.1, 'LSTM_tf_positional_encoding': True, 'LSTM_tf_pool': 'last', 'year_start': 2021, 'is_single_feature': False}\n",
            "2025-08-26 16:06:20,780 -   q2: 0.9900\n",
            "2025-08-26 16:06:20,780 -   Duration0: 0:00:51.123320\n",
            "2025-08-26 16:06:20,780 -   Val RMSE0 adjusted: 0.0066\n",
            "2025-08-26 16:06:20,780 -   Mean all prediction: 0.9993\n",
            "2025-08-26 16:06:20,780 -   Mean above prediction: 1.0095\n",
            "2025-08-26 16:06:20,780 -   Mean below prediction: 0.9982\n",
            "2025-08-26 16:06:20,780 -   Quantile 0.99 for distance in mask above: 928.7199999999993\n",
            "2025-08-26 16:06:20,780 -   Quantile 0.99 for distance in mask below: 850.4799999999996\n",
            "2025-08-26 16:06:20,780 -   Ratio for quantile-distance-to-length above: 0.0014\n",
            "2025-08-26 16:06:20,780 -   Ratio for quantile-distance-to-length below: 0.0013\n",
            "2025-08-26 16:06:20,780 -   Score: 1.0024\n"
          ]
        },
        {
          "name": "stderr",
          "output_type": "stream",
          "text": [
            "[I 2025-08-26 16:06:20,837] Trial 128 finished with value: 1.0023629356454784 and parameters: {'year_start': 2021, 'LoadupSamples_time_inc_factor': 61, 'LSTM_units': 32, 'LSTM_learning_rate': 0.00024713492371044324, 'LSTM_l1': 1.3261723240772524e-05, 'LSTM_l2': 0.00010670242865811646, 'LSTM_dropout': 0.00530961245459168, 'LSTM_inter_dropout': 0.02404345002161299, 'LSTM_recurrent_dropout': 0.00496845373672208}. Best is trial 38 with value: 1.0030939915675743.\n"
          ]
        },
        {
          "name": "stdout",
          "output_type": "stream",
          "text": [
            "2025-08-26 16:06:20,837 - Trial 128 finished with value: 1.0023629356454784 and parameters: {'year_start': 2021, 'LoadupSamples_time_inc_factor': 61, 'LSTM_units': 32, 'LSTM_learning_rate': 0.00024713492371044324, 'LSTM_l1': 1.3261723240772524e-05, 'LSTM_l2': 0.00010670242865811646, 'LSTM_dropout': 0.00530961245459168, 'LSTM_inter_dropout': 0.02404345002161299, 'LSTM_recurrent_dropout': 0.00496845373672208}. Best is trial 38 with value: 1.0030939915675743.\n",
            "2025-08-26 16:06:28,363 - Non-finite/too-large values in train y time: 48 samples.\n",
            "2025-08-26 16:06:28,363 - Removing 48 samples from training data.\n"
          ]
        },
        {
          "name": "stderr",
          "output_type": "stream",
          "text": [
            "Epochs:   0%|          | 0/2 [00:00<?, ?it/s]"
          ]
        },
        {
          "name": "stdout",
          "output_type": "stream",
          "text": [
            "2025-08-26 16:07:00,586 - Epoch 1/2 — Train RMSE: 0.4896 — Validation RMSE: 0.4243\n"
          ]
        },
        {
          "name": "stderr",
          "output_type": "stream",
          "text": [
            "Epochs:  50%|█████     | 1/2 [00:23<00:23, 23.84s/it]"
          ]
        },
        {
          "name": "stdout",
          "output_type": "stream",
          "text": [
            "2025-08-26 16:07:23,887 - Epoch 2/2 — Train RMSE: 0.4326 — Validation RMSE: 0.4240\n"
          ]
        },
        {
          "name": "stderr",
          "output_type": "stream",
          "text": [
            "Epochs: 100%|██████████| 2/2 [00:47<00:00, 23.57s/it]\n"
          ]
        },
        {
          "name": "stdout",
          "output_type": "stream",
          "text": [
            "2025-08-26 16:07:27,943 - Trial 129 with params: {'idxAfterPrediction': 4, 'timesteps': 75, 'target_option': 'last', 'LoadupSamples_time_scaling_stretch': True, 'LoadupSamples_time_inc_factor': 81, 'LSTM_units': 32, 'LSTM_num_layers': 1, 'LSTM_dropout': 0.0038871300036457594, 'LSTM_recurrent_dropout': 0.0010042725706623631, 'LSTM_learning_rate': 0.0001715965083593454, 'LSTM_optimizer': 'adam', 'LSTM_bidirectional': True, 'LSTM_batch_size': 4096, 'LSTM_epochs': 2, 'LSTM_l1': 1.806988677833497e-05, 'LSTM_l2': 0.00016786042632674236, 'LSTM_inter_dropout': 0.022531620180224442, 'LSTM_input_gaussian_noise': 0.001, 'LSTM_conv1d': True, 'LSTM_conv1d_kernel_size': 3, 'LSTM_loss': 'mse', 'LSTM_transformer_before': False, 'LSTM_transformer_after': False, 'LSTM_tf_d_model': 0, 'LSTM_tf_nhead': 2, 'LSTM_tf_num_layers_before': 0, 'LSTM_tf_num_layers_after': 0, 'LSTM_tf_dim_feedforward': 8, 'LSTM_tf_dropout': 0.1, 'LSTM_tf_positional_encoding': True, 'LSTM_tf_pool': 'last', 'year_start': 2021, 'is_single_feature': False}\n",
            "2025-08-26 16:07:27,943 -   q2: 0.9900\n",
            "2025-08-26 16:07:27,943 -   Duration0: 0:00:51.297807\n",
            "2025-08-26 16:07:27,943 -   Val RMSE0 adjusted: 0.0052\n",
            "2025-08-26 16:07:27,959 -   Mean all prediction: 0.9993\n",
            "2025-08-26 16:07:27,960 -   Mean above prediction: 1.0092\n",
            "2025-08-26 16:07:27,961 -   Mean below prediction: 0.9964\n",
            "2025-08-26 16:07:27,962 -   Quantile 0.99 for distance in mask above: 954.0\n",
            "2025-08-26 16:07:27,963 -   Quantile 0.99 for distance in mask below: 874.4399999999987\n",
            "2025-08-26 16:07:27,963 -   Ratio for quantile-distance-to-length above: 0.0015\n",
            "2025-08-26 16:07:27,963 -   Ratio for quantile-distance-to-length below: 0.0013\n",
            "2025-08-26 16:07:27,963 -   Score: 1.0023\n"
          ]
        },
        {
          "name": "stderr",
          "output_type": "stream",
          "text": [
            "[I 2025-08-26 16:07:28,026] Trial 129 finished with value: 1.00229055665851 and parameters: {'year_start': 2021, 'LoadupSamples_time_inc_factor': 81, 'LSTM_units': 32, 'LSTM_learning_rate': 0.0001715965083593454, 'LSTM_l1': 1.806988677833497e-05, 'LSTM_l2': 0.00016786042632674236, 'LSTM_dropout': 0.0038871300036457594, 'LSTM_inter_dropout': 0.022531620180224442, 'LSTM_recurrent_dropout': 0.0010042725706623631}. Best is trial 38 with value: 1.0030939915675743.\n"
          ]
        },
        {
          "name": "stdout",
          "output_type": "stream",
          "text": [
            "2025-08-26 16:07:28,026 - Trial 129 finished with value: 1.00229055665851 and parameters: {'year_start': 2021, 'LoadupSamples_time_inc_factor': 81, 'LSTM_units': 32, 'LSTM_learning_rate': 0.0001715965083593454, 'LSTM_l1': 1.806988677833497e-05, 'LSTM_l2': 0.00016786042632674236, 'LSTM_dropout': 0.0038871300036457594, 'LSTM_inter_dropout': 0.022531620180224442, 'LSTM_recurrent_dropout': 0.0010042725706623631}. Best is trial 38 with value: 1.0030939915675743.\n",
            "2025-08-26 16:07:35,596 - Non-finite/too-large values in train y time: 48 samples.\n",
            "2025-08-26 16:07:35,596 - Removing 48 samples from training data.\n"
          ]
        },
        {
          "name": "stderr",
          "output_type": "stream",
          "text": [
            "Epochs:   0%|          | 0/2 [00:00<?, ?it/s]"
          ]
        },
        {
          "name": "stdout",
          "output_type": "stream",
          "text": [
            "2025-08-26 16:08:07,528 - Epoch 1/2 — Train RMSE: 0.4256 — Validation RMSE: 0.4033\n"
          ]
        },
        {
          "name": "stderr",
          "output_type": "stream",
          "text": [
            "Epochs:  50%|█████     | 1/2 [00:23<00:23, 23.58s/it]"
          ]
        },
        {
          "name": "stdout",
          "output_type": "stream",
          "text": [
            "2025-08-26 16:08:30,966 - Epoch 2/2 — Train RMSE: 0.4122 — Validation RMSE: 0.4028\n"
          ]
        },
        {
          "name": "stderr",
          "output_type": "stream",
          "text": [
            "Epochs: 100%|██████████| 2/2 [00:47<00:00, 23.51s/it]\n"
          ]
        },
        {
          "name": "stdout",
          "output_type": "stream",
          "text": [
            "2025-08-26 16:08:35,021 - Trial 130 with params: {'idxAfterPrediction': 4, 'timesteps': 75, 'target_option': 'last', 'LoadupSamples_time_scaling_stretch': True, 'LoadupSamples_time_inc_factor': 61, 'LSTM_units': 32, 'LSTM_num_layers': 1, 'LSTM_dropout': 0.006284826500110688, 'LSTM_recurrent_dropout': 0.002729917382313919, 'LSTM_learning_rate': 0.00042712843023020225, 'LSTM_optimizer': 'adam', 'LSTM_bidirectional': True, 'LSTM_batch_size': 4096, 'LSTM_epochs': 2, 'LSTM_l1': 1.2369432129709689e-05, 'LSTM_l2': 0.00021890487264106492, 'LSTM_inter_dropout': 0.01956126293049472, 'LSTM_input_gaussian_noise': 0.001, 'LSTM_conv1d': True, 'LSTM_conv1d_kernel_size': 3, 'LSTM_loss': 'mse', 'LSTM_transformer_before': False, 'LSTM_transformer_after': False, 'LSTM_tf_d_model': 0, 'LSTM_tf_nhead': 2, 'LSTM_tf_num_layers_before': 0, 'LSTM_tf_num_layers_after': 0, 'LSTM_tf_dim_feedforward': 8, 'LSTM_tf_dropout': 0.1, 'LSTM_tf_positional_encoding': True, 'LSTM_tf_pool': 'last', 'year_start': 2021, 'is_single_feature': False}\n",
            "2025-08-26 16:08:35,021 -   q2: 0.9900\n",
            "2025-08-26 16:08:35,037 -   Duration0: 0:00:51.194797\n",
            "2025-08-26 16:08:35,037 -   Val RMSE0 adjusted: 0.0066\n",
            "2025-08-26 16:08:35,038 -   Mean all prediction: 0.9993\n",
            "2025-08-26 16:08:35,038 -   Mean above prediction: 1.0048\n",
            "2025-08-26 16:08:35,038 -   Mean below prediction: 0.9963\n",
            "2025-08-26 16:08:35,038 -   Quantile 0.99 for distance in mask above: 840.4599999999991\n",
            "2025-08-26 16:08:35,038 -   Quantile 0.99 for distance in mask below: 761.4799999999996\n",
            "2025-08-26 16:08:35,038 -   Ratio for quantile-distance-to-length above: 0.0013\n",
            "2025-08-26 16:08:35,038 -   Ratio for quantile-distance-to-length below: 0.0012\n",
            "2025-08-26 16:08:35,038 -   Score: 1.0012\n"
          ]
        },
        {
          "name": "stderr",
          "output_type": "stream",
          "text": [
            "[I 2025-08-26 16:08:35,092] Trial 130 finished with value: 1.0012031290664003 and parameters: {'year_start': 2021, 'LoadupSamples_time_inc_factor': 61, 'LSTM_units': 32, 'LSTM_learning_rate': 0.00042712843023020225, 'LSTM_l1': 1.2369432129709689e-05, 'LSTM_l2': 0.00021890487264106492, 'LSTM_dropout': 0.006284826500110688, 'LSTM_inter_dropout': 0.01956126293049472, 'LSTM_recurrent_dropout': 0.002729917382313919}. Best is trial 38 with value: 1.0030939915675743.\n"
          ]
        },
        {
          "name": "stdout",
          "output_type": "stream",
          "text": [
            "2025-08-26 16:08:35,092 - Trial 130 finished with value: 1.0012031290664003 and parameters: {'year_start': 2021, 'LoadupSamples_time_inc_factor': 61, 'LSTM_units': 32, 'LSTM_learning_rate': 0.00042712843023020225, 'LSTM_l1': 1.2369432129709689e-05, 'LSTM_l2': 0.00021890487264106492, 'LSTM_dropout': 0.006284826500110688, 'LSTM_inter_dropout': 0.01956126293049472, 'LSTM_recurrent_dropout': 0.002729917382313919}. Best is trial 38 with value: 1.0030939915675743.\n",
            "2025-08-26 16:08:42,671 - Non-finite/too-large values in train y time: 48 samples.\n",
            "2025-08-26 16:08:42,671 - Removing 48 samples from training data.\n"
          ]
        },
        {
          "name": "stderr",
          "output_type": "stream",
          "text": [
            "Epochs:   0%|          | 0/2 [00:00<?, ?it/s]"
          ]
        },
        {
          "name": "stdout",
          "output_type": "stream",
          "text": [
            "2025-08-26 16:09:14,825 - Epoch 1/2 — Train RMSE: 0.4509 — Validation RMSE: 0.4028\n"
          ]
        },
        {
          "name": "stderr",
          "output_type": "stream",
          "text": [
            "Epochs:  50%|█████     | 1/2 [00:23<00:23, 23.73s/it]"
          ]
        },
        {
          "name": "stdout",
          "output_type": "stream",
          "text": [
            "2025-08-26 16:09:38,359 - Epoch 2/2 — Train RMSE: 0.4121 — Validation RMSE: 0.4025\n"
          ]
        },
        {
          "name": "stderr",
          "output_type": "stream",
          "text": [
            "Epochs: 100%|██████████| 2/2 [00:47<00:00, 23.63s/it]\n"
          ]
        },
        {
          "name": "stdout",
          "output_type": "stream",
          "text": [
            "2025-08-26 16:09:42,284 - Trial 131 with params: {'idxAfterPrediction': 4, 'timesteps': 75, 'target_option': 'last', 'LoadupSamples_time_scaling_stretch': True, 'LoadupSamples_time_inc_factor': 61, 'LSTM_units': 32, 'LSTM_num_layers': 1, 'LSTM_dropout': 0.004841128183053331, 'LSTM_recurrent_dropout': 0.001957847824659793, 'LSTM_learning_rate': 0.00022009243738466938, 'LSTM_optimizer': 'adam', 'LSTM_bidirectional': True, 'LSTM_batch_size': 4096, 'LSTM_epochs': 2, 'LSTM_l1': 3.1275583734474184e-05, 'LSTM_l2': 0.00013402819788722333, 'LSTM_inter_dropout': 0.023375118181579516, 'LSTM_input_gaussian_noise': 0.001, 'LSTM_conv1d': True, 'LSTM_conv1d_kernel_size': 3, 'LSTM_loss': 'mse', 'LSTM_transformer_before': False, 'LSTM_transformer_after': False, 'LSTM_tf_d_model': 0, 'LSTM_tf_nhead': 2, 'LSTM_tf_num_layers_before': 0, 'LSTM_tf_num_layers_after': 0, 'LSTM_tf_dim_feedforward': 8, 'LSTM_tf_dropout': 0.1, 'LSTM_tf_positional_encoding': True, 'LSTM_tf_pool': 'last', 'year_start': 2021, 'is_single_feature': False}\n",
            "2025-08-26 16:09:42,284 -   q2: 0.9900\n",
            "2025-08-26 16:09:42,300 -   Duration0: 0:00:51.311487\n",
            "2025-08-26 16:09:42,301 -   Val RMSE0 adjusted: 0.0066\n",
            "2025-08-26 16:09:42,301 -   Mean all prediction: 0.9993\n",
            "2025-08-26 16:09:42,301 -   Mean above prediction: 1.0090\n",
            "2025-08-26 16:09:42,301 -   Mean below prediction: 0.9957\n",
            "2025-08-26 16:09:42,301 -   Quantile 0.99 for distance in mask above: 946.4799999999996\n",
            "2025-08-26 16:09:42,301 -   Quantile 0.99 for distance in mask below: 792.4799999999996\n",
            "2025-08-26 16:09:42,301 -   Ratio for quantile-distance-to-length above: 0.0014\n",
            "2025-08-26 16:09:42,301 -   Ratio for quantile-distance-to-length below: 0.0012\n",
            "2025-08-26 16:09:42,301 -   Score: 1.0022\n"
          ]
        },
        {
          "name": "stderr",
          "output_type": "stream",
          "text": [
            "[I 2025-08-26 16:09:42,357] Trial 131 finished with value: 1.0022364008439875 and parameters: {'year_start': 2021, 'LoadupSamples_time_inc_factor': 61, 'LSTM_units': 32, 'LSTM_learning_rate': 0.00022009243738466938, 'LSTM_l1': 3.1275583734474184e-05, 'LSTM_l2': 0.00013402819788722333, 'LSTM_dropout': 0.004841128183053331, 'LSTM_inter_dropout': 0.023375118181579516, 'LSTM_recurrent_dropout': 0.001957847824659793}. Best is trial 38 with value: 1.0030939915675743.\n"
          ]
        },
        {
          "name": "stdout",
          "output_type": "stream",
          "text": [
            "2025-08-26 16:09:42,357 - Trial 131 finished with value: 1.0022364008439875 and parameters: {'year_start': 2021, 'LoadupSamples_time_inc_factor': 61, 'LSTM_units': 32, 'LSTM_learning_rate': 0.00022009243738466938, 'LSTM_l1': 3.1275583734474184e-05, 'LSTM_l2': 0.00013402819788722333, 'LSTM_dropout': 0.004841128183053331, 'LSTM_inter_dropout': 0.023375118181579516, 'LSTM_recurrent_dropout': 0.001957847824659793}. Best is trial 38 with value: 1.0030939915675743.\n",
            "2025-08-26 16:09:49,887 - Non-finite/too-large values in train y time: 48 samples.\n",
            "2025-08-26 16:09:49,901 - Removing 48 samples from training data.\n"
          ]
        },
        {
          "name": "stderr",
          "output_type": "stream",
          "text": [
            "Epochs:   0%|          | 0/2 [00:00<?, ?it/s]"
          ]
        },
        {
          "name": "stdout",
          "output_type": "stream",
          "text": [
            "2025-08-26 16:10:22,023 - Epoch 1/2 — Train RMSE: 0.4355 — Validation RMSE: 0.4038\n"
          ]
        },
        {
          "name": "stderr",
          "output_type": "stream",
          "text": [
            "Epochs:  50%|█████     | 1/2 [00:23<00:23, 23.77s/it]"
          ]
        },
        {
          "name": "stdout",
          "output_type": "stream",
          "text": [
            "2025-08-26 16:10:45,388 - Epoch 2/2 — Train RMSE: 0.4126 — Validation RMSE: 0.4032\n"
          ]
        },
        {
          "name": "stderr",
          "output_type": "stream",
          "text": [
            "Epochs: 100%|██████████| 2/2 [00:47<00:00, 23.57s/it]\n"
          ]
        },
        {
          "name": "stdout",
          "output_type": "stream",
          "text": [
            "2025-08-26 16:10:49,430 - Trial 132 with params: {'idxAfterPrediction': 4, 'timesteps': 75, 'target_option': 'last', 'LoadupSamples_time_scaling_stretch': True, 'LoadupSamples_time_inc_factor': 61, 'LSTM_units': 32, 'LSTM_num_layers': 1, 'LSTM_dropout': 0.004367794218200193, 'LSTM_recurrent_dropout': 0.0017110139672396108, 'LSTM_learning_rate': 0.00032952003598969015, 'LSTM_optimizer': 'adam', 'LSTM_bidirectional': True, 'LSTM_batch_size': 4096, 'LSTM_epochs': 2, 'LSTM_l1': 3.047692384696242e-05, 'LSTM_l2': 0.00015106163570975567, 'LSTM_inter_dropout': 0.030151132470800788, 'LSTM_input_gaussian_noise': 0.001, 'LSTM_conv1d': True, 'LSTM_conv1d_kernel_size': 3, 'LSTM_loss': 'mse', 'LSTM_transformer_before': False, 'LSTM_transformer_after': False, 'LSTM_tf_d_model': 0, 'LSTM_tf_nhead': 2, 'LSTM_tf_num_layers_before': 0, 'LSTM_tf_num_layers_after': 0, 'LSTM_tf_dim_feedforward': 8, 'LSTM_tf_dropout': 0.1, 'LSTM_tf_positional_encoding': True, 'LSTM_tf_pool': 'last', 'year_start': 2021, 'is_single_feature': False}\n",
            "2025-08-26 16:10:49,430 -   q2: 0.9900\n",
            "2025-08-26 16:10:49,430 -   Duration0: 0:00:51.265843\n",
            "2025-08-26 16:10:49,430 -   Val RMSE0 adjusted: 0.0066\n",
            "2025-08-26 16:10:49,430 -   Mean all prediction: 0.9993\n",
            "2025-08-26 16:10:49,430 -   Mean above prediction: 1.0087\n",
            "2025-08-26 16:10:49,447 -   Mean below prediction: 0.9979\n",
            "2025-08-26 16:10:49,447 -   Quantile 0.99 for distance in mask above: 950.2399999999998\n",
            "2025-08-26 16:10:49,447 -   Quantile 0.99 for distance in mask below: 888.4399999999987\n",
            "2025-08-26 16:10:49,447 -   Ratio for quantile-distance-to-length above: 0.0014\n",
            "2025-08-26 16:10:49,447 -   Ratio for quantile-distance-to-length below: 0.0014\n",
            "2025-08-26 16:10:49,447 -   Score: 1.0022\n"
          ]
        },
        {
          "name": "stderr",
          "output_type": "stream",
          "text": [
            "[I 2025-08-26 16:10:49,497] Trial 132 finished with value: 1.002158267588807 and parameters: {'year_start': 2021, 'LoadupSamples_time_inc_factor': 61, 'LSTM_units': 32, 'LSTM_learning_rate': 0.00032952003598969015, 'LSTM_l1': 3.047692384696242e-05, 'LSTM_l2': 0.00015106163570975567, 'LSTM_dropout': 0.004367794218200193, 'LSTM_inter_dropout': 0.030151132470800788, 'LSTM_recurrent_dropout': 0.0017110139672396108}. Best is trial 38 with value: 1.0030939915675743.\n"
          ]
        },
        {
          "name": "stdout",
          "output_type": "stream",
          "text": [
            "2025-08-26 16:10:49,497 - Trial 132 finished with value: 1.002158267588807 and parameters: {'year_start': 2021, 'LoadupSamples_time_inc_factor': 61, 'LSTM_units': 32, 'LSTM_learning_rate': 0.00032952003598969015, 'LSTM_l1': 3.047692384696242e-05, 'LSTM_l2': 0.00015106163570975567, 'LSTM_dropout': 0.004367794218200193, 'LSTM_inter_dropout': 0.030151132470800788, 'LSTM_recurrent_dropout': 0.0017110139672396108}. Best is trial 38 with value: 1.0030939915675743.\n",
            "2025-08-26 16:10:55,410 - Non-finite/too-large values in train y time: 48 samples.\n",
            "2025-08-26 16:10:55,410 - Removing 48 samples from training data.\n"
          ]
        },
        {
          "name": "stderr",
          "output_type": "stream",
          "text": [
            "Epochs:   0%|          | 0/2 [00:00<?, ?it/s]"
          ]
        },
        {
          "name": "stdout",
          "output_type": "stream",
          "text": [
            "2025-08-26 16:11:19,829 - Epoch 1/2 — Train RMSE: 0.4657 — Validation RMSE: 0.4036\n"
          ]
        },
        {
          "name": "stderr",
          "output_type": "stream",
          "text": [
            "Epochs:  50%|█████     | 1/2 [00:17<00:17, 17.81s/it]"
          ]
        },
        {
          "name": "stdout",
          "output_type": "stream",
          "text": [
            "2025-08-26 16:11:37,485 - Epoch 2/2 — Train RMSE: 0.4174 — Validation RMSE: 0.4030\n"
          ]
        },
        {
          "name": "stderr",
          "output_type": "stream",
          "text": [
            "Epochs: 100%|██████████| 2/2 [00:35<00:00, 17.73s/it]\n"
          ]
        },
        {
          "name": "stdout",
          "output_type": "stream",
          "text": [
            "2025-08-26 16:11:41,109 - Trial 133 with params: {'idxAfterPrediction': 4, 'timesteps': 75, 'target_option': 'last', 'LoadupSamples_time_scaling_stretch': True, 'LoadupSamples_time_inc_factor': 61, 'LSTM_units': 32, 'LSTM_num_layers': 1, 'LSTM_dropout': 0.005165601310675928, 'LSTM_recurrent_dropout': 0.0015817309069902116, 'LSTM_learning_rate': 0.00020137723328787676, 'LSTM_optimizer': 'adam', 'LSTM_bidirectional': True, 'LSTM_batch_size': 4096, 'LSTM_epochs': 2, 'LSTM_l1': 2.824683407262409e-05, 'LSTM_l2': 0.00012236841613808588, 'LSTM_inter_dropout': 0.021728052342952976, 'LSTM_input_gaussian_noise': 0.001, 'LSTM_conv1d': True, 'LSTM_conv1d_kernel_size': 3, 'LSTM_loss': 'mse', 'LSTM_transformer_before': False, 'LSTM_transformer_after': False, 'LSTM_tf_d_model': 0, 'LSTM_tf_nhead': 2, 'LSTM_tf_num_layers_before': 0, 'LSTM_tf_num_layers_after': 0, 'LSTM_tf_dim_feedforward': 8, 'LSTM_tf_dropout': 0.1, 'LSTM_tf_positional_encoding': True, 'LSTM_tf_pool': 'last', 'year_start': 2022, 'is_single_feature': False}\n",
            "2025-08-26 16:11:41,125 -   q2: 0.9900\n",
            "2025-08-26 16:11:41,126 -   Duration0: 0:00:39.185446\n",
            "2025-08-26 16:11:41,126 -   Val RMSE0 adjusted: 0.0066\n",
            "2025-08-26 16:11:41,126 -   Mean all prediction: 0.9993\n",
            "2025-08-26 16:11:41,126 -   Mean above prediction: 1.0023\n",
            "2025-08-26 16:11:41,126 -   Mean below prediction: 0.9947\n",
            "2025-08-26 16:11:41,126 -   Quantile 0.99 for distance in mask above: 1031.9199999999983\n",
            "2025-08-26 16:11:41,126 -   Quantile 0.99 for distance in mask below: 775.1199999999972\n",
            "2025-08-26 16:11:41,126 -   Ratio for quantile-distance-to-length above: 0.0016\n",
            "2025-08-26 16:11:41,126 -   Ratio for quantile-distance-to-length below: 0.0012\n",
            "2025-08-26 16:11:41,126 -   Score: 1.0006\n"
          ]
        },
        {
          "name": "stderr",
          "output_type": "stream",
          "text": [
            "[I 2025-08-26 16:11:41,179] Trial 133 finished with value: 1.0005771300624735 and parameters: {'year_start': 2022, 'LoadupSamples_time_inc_factor': 61, 'LSTM_units': 32, 'LSTM_learning_rate': 0.00020137723328787676, 'LSTM_l1': 2.824683407262409e-05, 'LSTM_l2': 0.00012236841613808588, 'LSTM_dropout': 0.005165601310675928, 'LSTM_inter_dropout': 0.021728052342952976, 'LSTM_recurrent_dropout': 0.0015817309069902116}. Best is trial 38 with value: 1.0030939915675743.\n"
          ]
        },
        {
          "name": "stdout",
          "output_type": "stream",
          "text": [
            "2025-08-26 16:11:41,179 - Trial 133 finished with value: 1.0005771300624735 and parameters: {'year_start': 2022, 'LoadupSamples_time_inc_factor': 61, 'LSTM_units': 32, 'LSTM_learning_rate': 0.00020137723328787676, 'LSTM_l1': 2.824683407262409e-05, 'LSTM_l2': 0.00012236841613808588, 'LSTM_dropout': 0.005165601310675928, 'LSTM_inter_dropout': 0.021728052342952976, 'LSTM_recurrent_dropout': 0.0015817309069902116}. Best is trial 38 with value: 1.0030939915675743.\n",
            "2025-08-26 16:11:48,726 - Non-finite/too-large values in train y time: 48 samples.\n",
            "2025-08-26 16:11:48,741 - Removing 48 samples from training data.\n"
          ]
        },
        {
          "name": "stderr",
          "output_type": "stream",
          "text": [
            "Epochs:   0%|          | 0/2 [00:00<?, ?it/s]"
          ]
        },
        {
          "name": "stdout",
          "output_type": "stream",
          "text": [
            "2025-08-26 16:12:20,795 - Epoch 1/2 — Train RMSE: 0.4372 — Validation RMSE: 0.4023\n"
          ]
        },
        {
          "name": "stderr",
          "output_type": "stream",
          "text": [
            "Epochs:  50%|█████     | 1/2 [00:23<00:23, 23.53s/it]"
          ]
        },
        {
          "name": "stdout",
          "output_type": "stream",
          "text": [
            "2025-08-26 16:12:44,179 - Epoch 2/2 — Train RMSE: 0.4106 — Validation RMSE: 0.4019\n"
          ]
        },
        {
          "name": "stderr",
          "output_type": "stream",
          "text": [
            "Epochs: 100%|██████████| 2/2 [00:46<00:00, 23.46s/it]\n"
          ]
        },
        {
          "name": "stdout",
          "output_type": "stream",
          "text": [
            "2025-08-26 16:12:47,837 - Trial 134 with params: {'idxAfterPrediction': 4, 'timesteps': 75, 'target_option': 'last', 'LoadupSamples_time_scaling_stretch': True, 'LoadupSamples_time_inc_factor': 61, 'LSTM_units': 32, 'LSTM_num_layers': 1, 'LSTM_dropout': 0.004630817798459562, 'LSTM_recurrent_dropout': 0.0013656856580757874, 'LSTM_learning_rate': 0.00019493850946627713, 'LSTM_optimizer': 'adam', 'LSTM_bidirectional': True, 'LSTM_batch_size': 4096, 'LSTM_epochs': 2, 'LSTM_l1': 2.4655636815157353e-05, 'LSTM_l2': 0.00010945991616713026, 'LSTM_inter_dropout': 0.014316051471916351, 'LSTM_input_gaussian_noise': 0.001, 'LSTM_conv1d': True, 'LSTM_conv1d_kernel_size': 3, 'LSTM_loss': 'mse', 'LSTM_transformer_before': False, 'LSTM_transformer_after': False, 'LSTM_tf_d_model': 0, 'LSTM_tf_nhead': 2, 'LSTM_tf_num_layers_before': 0, 'LSTM_tf_num_layers_after': 0, 'LSTM_tf_dim_feedforward': 8, 'LSTM_tf_dropout': 0.1, 'LSTM_tf_positional_encoding': True, 'LSTM_tf_pool': 'last', 'year_start': 2021, 'is_single_feature': False}\n",
            "2025-08-26 16:12:47,837 -   q2: 0.9900\n",
            "2025-08-26 16:12:47,837 -   Duration0: 0:00:50.677114\n",
            "2025-08-26 16:12:47,837 -   Val RMSE0 adjusted: 0.0066\n",
            "2025-08-26 16:12:47,837 -   Mean all prediction: 0.9993\n",
            "2025-08-26 16:12:47,837 -   Mean above prediction: 1.0055\n",
            "2025-08-26 16:12:47,853 -   Mean below prediction: 0.9959\n",
            "2025-08-26 16:12:47,854 -   Quantile 0.99 for distance in mask above: 930.6399999999976\n",
            "2025-08-26 16:12:47,854 -   Quantile 0.99 for distance in mask below: 890.9099999999926\n",
            "2025-08-26 16:12:47,854 -   Ratio for quantile-distance-to-length above: 0.0014\n",
            "2025-08-26 16:12:47,854 -   Ratio for quantile-distance-to-length below: 0.0014\n",
            "2025-08-26 16:12:47,854 -   Score: 1.0014\n"
          ]
        },
        {
          "name": "stderr",
          "output_type": "stream",
          "text": [
            "[I 2025-08-26 16:12:47,904] Trial 134 finished with value: 1.0013818841326723 and parameters: {'year_start': 2021, 'LoadupSamples_time_inc_factor': 61, 'LSTM_units': 32, 'LSTM_learning_rate': 0.00019493850946627713, 'LSTM_l1': 2.4655636815157353e-05, 'LSTM_l2': 0.00010945991616713026, 'LSTM_dropout': 0.004630817798459562, 'LSTM_inter_dropout': 0.014316051471916351, 'LSTM_recurrent_dropout': 0.0013656856580757874}. Best is trial 38 with value: 1.0030939915675743.\n"
          ]
        },
        {
          "name": "stdout",
          "output_type": "stream",
          "text": [
            "2025-08-26 16:12:47,904 - Trial 134 finished with value: 1.0013818841326723 and parameters: {'year_start': 2021, 'LoadupSamples_time_inc_factor': 61, 'LSTM_units': 32, 'LSTM_learning_rate': 0.00019493850946627713, 'LSTM_l1': 2.4655636815157353e-05, 'LSTM_l2': 0.00010945991616713026, 'LSTM_dropout': 0.004630817798459562, 'LSTM_inter_dropout': 0.014316051471916351, 'LSTM_recurrent_dropout': 0.0013656856580757874}. Best is trial 38 with value: 1.0030939915675743.\n",
            "2025-08-26 16:12:55,421 - Non-finite/too-large values in train y time: 48 samples.\n",
            "2025-08-26 16:12:55,421 - Removing 48 samples from training data.\n"
          ]
        },
        {
          "name": "stderr",
          "output_type": "stream",
          "text": [
            "Epochs:   0%|          | 0/2 [00:00<?, ?it/s]"
          ]
        },
        {
          "name": "stdout",
          "output_type": "stream",
          "text": [
            "2025-08-26 16:13:27,607 - Epoch 1/2 — Train RMSE: 0.4237 — Validation RMSE: 0.4022\n"
          ]
        },
        {
          "name": "stderr",
          "output_type": "stream",
          "text": [
            "Epochs:  50%|█████     | 1/2 [00:23<00:23, 23.83s/it]"
          ]
        },
        {
          "name": "stdout",
          "output_type": "stream",
          "text": [
            "2025-08-26 16:13:51,058 - Epoch 2/2 — Train RMSE: 0.4109 — Validation RMSE: 0.4021\n"
          ]
        },
        {
          "name": "stderr",
          "output_type": "stream",
          "text": [
            "Epochs: 100%|██████████| 2/2 [00:47<00:00, 23.64s/it]\n"
          ]
        },
        {
          "name": "stdout",
          "output_type": "stream",
          "text": [
            "2025-08-26 16:13:54,986 - Trial 135 with params: {'idxAfterPrediction': 4, 'timesteps': 75, 'target_option': 'last', 'LoadupSamples_time_scaling_stretch': True, 'LoadupSamples_time_inc_factor': 61, 'LSTM_units': 32, 'LSTM_num_layers': 1, 'LSTM_dropout': 0.005610353440688663, 'LSTM_recurrent_dropout': 0.001827366938763912, 'LSTM_learning_rate': 0.00020926445324375486, 'LSTM_optimizer': 'adam', 'LSTM_bidirectional': True, 'LSTM_batch_size': 4096, 'LSTM_epochs': 2, 'LSTM_l1': 1.6657149713586177e-05, 'LSTM_l2': 0.00013707353780266818, 'LSTM_inter_dropout': 0.012830412301482467, 'LSTM_input_gaussian_noise': 0.001, 'LSTM_conv1d': True, 'LSTM_conv1d_kernel_size': 3, 'LSTM_loss': 'mse', 'LSTM_transformer_before': False, 'LSTM_transformer_after': False, 'LSTM_tf_d_model': 0, 'LSTM_tf_nhead': 2, 'LSTM_tf_num_layers_before': 0, 'LSTM_tf_num_layers_after': 0, 'LSTM_tf_dim_feedforward': 8, 'LSTM_tf_dropout': 0.1, 'LSTM_tf_positional_encoding': True, 'LSTM_tf_pool': 'last', 'year_start': 2021, 'is_single_feature': False}\n",
            "2025-08-26 16:13:54,986 -   q2: 0.9900\n",
            "2025-08-26 16:13:54,986 -   Duration0: 0:00:51.328116\n",
            "2025-08-26 16:13:54,986 -   Val RMSE0 adjusted: 0.0066\n",
            "2025-08-26 16:13:55,000 -   Mean all prediction: 0.9993\n",
            "2025-08-26 16:13:55,000 -   Mean above prediction: 1.0081\n",
            "2025-08-26 16:13:55,000 -   Mean below prediction: 0.9979\n",
            "2025-08-26 16:13:55,000 -   Quantile 0.99 for distance in mask above: 878.0\n",
            "2025-08-26 16:13:55,000 -   Quantile 0.99 for distance in mask below: 874.7199999999993\n",
            "2025-08-26 16:13:55,000 -   Ratio for quantile-distance-to-length above: 0.0013\n",
            "2025-08-26 16:13:55,000 -   Ratio for quantile-distance-to-length below: 0.0013\n",
            "2025-08-26 16:13:55,000 -   Score: 1.0020\n"
          ]
        },
        {
          "name": "stderr",
          "output_type": "stream",
          "text": [
            "[I 2025-08-26 16:13:55,053] Trial 135 finished with value: 1.0020084617140883 and parameters: {'year_start': 2021, 'LoadupSamples_time_inc_factor': 61, 'LSTM_units': 32, 'LSTM_learning_rate': 0.00020926445324375486, 'LSTM_l1': 1.6657149713586177e-05, 'LSTM_l2': 0.00013707353780266818, 'LSTM_dropout': 0.005610353440688663, 'LSTM_inter_dropout': 0.012830412301482467, 'LSTM_recurrent_dropout': 0.001827366938763912}. Best is trial 38 with value: 1.0030939915675743.\n"
          ]
        },
        {
          "name": "stdout",
          "output_type": "stream",
          "text": [
            "2025-08-26 16:13:55,053 - Trial 135 finished with value: 1.0020084617140883 and parameters: {'year_start': 2021, 'LoadupSamples_time_inc_factor': 61, 'LSTM_units': 32, 'LSTM_learning_rate': 0.00020926445324375486, 'LSTM_l1': 1.6657149713586177e-05, 'LSTM_l2': 0.00013707353780266818, 'LSTM_dropout': 0.005610353440688663, 'LSTM_inter_dropout': 0.012830412301482467, 'LSTM_recurrent_dropout': 0.001827366938763912}. Best is trial 38 with value: 1.0030939915675743.\n",
            "2025-08-26 16:14:02,566 - Non-finite/too-large values in train y time: 48 samples.\n",
            "2025-08-26 16:14:02,566 - Removing 48 samples from training data.\n"
          ]
        },
        {
          "name": "stderr",
          "output_type": "stream",
          "text": [
            "Epochs:   0%|          | 0/2 [00:00<?, ?it/s]"
          ]
        },
        {
          "name": "stdout",
          "output_type": "stream",
          "text": [
            "2025-08-26 16:14:34,619 - Epoch 1/2 — Train RMSE: 0.4355 — Validation RMSE: 0.4024\n"
          ]
        },
        {
          "name": "stderr",
          "output_type": "stream",
          "text": [
            "Epochs:  50%|█████     | 1/2 [00:23<00:23, 23.69s/it]"
          ]
        },
        {
          "name": "stdout",
          "output_type": "stream",
          "text": [
            "2025-08-26 16:14:58,050 - Epoch 2/2 — Train RMSE: 0.4111 — Validation RMSE: 0.4021\n"
          ]
        },
        {
          "name": "stderr",
          "output_type": "stream",
          "text": [
            "Epochs: 100%|██████████| 2/2 [00:47<00:00, 23.56s/it]\n"
          ]
        },
        {
          "name": "stdout",
          "output_type": "stream",
          "text": [
            "2025-08-26 16:15:02,112 - Trial 136 with params: {'idxAfterPrediction': 4, 'timesteps': 75, 'target_option': 'last', 'LoadupSamples_time_scaling_stretch': True, 'LoadupSamples_time_inc_factor': 61, 'LSTM_units': 32, 'LSTM_num_layers': 1, 'LSTM_dropout': 0.00496106266953409, 'LSTM_recurrent_dropout': 0.005856680656048447, 'LSTM_learning_rate': 0.00023893898216625613, 'LSTM_optimizer': 'adam', 'LSTM_bidirectional': True, 'LSTM_batch_size': 4096, 'LSTM_epochs': 2, 'LSTM_l1': 1.0783636551933141e-05, 'LSTM_l2': 0.00015709309909922201, 'LSTM_inter_dropout': 0.02425070334802552, 'LSTM_input_gaussian_noise': 0.001, 'LSTM_conv1d': True, 'LSTM_conv1d_kernel_size': 3, 'LSTM_loss': 'mse', 'LSTM_transformer_before': False, 'LSTM_transformer_after': False, 'LSTM_tf_d_model': 0, 'LSTM_tf_nhead': 2, 'LSTM_tf_num_layers_before': 0, 'LSTM_tf_num_layers_after': 0, 'LSTM_tf_dim_feedforward': 8, 'LSTM_tf_dropout': 0.1, 'LSTM_tf_positional_encoding': True, 'LSTM_tf_pool': 'last', 'year_start': 2021, 'is_single_feature': False}\n",
            "2025-08-26 16:15:02,112 -   q2: 0.9900\n",
            "2025-08-26 16:15:02,112 -   Duration0: 0:00:51.296327\n",
            "2025-08-26 16:15:02,112 -   Val RMSE0 adjusted: 0.0066\n",
            "2025-08-26 16:15:02,112 -   Mean all prediction: 0.9993\n",
            "2025-08-26 16:15:02,112 -   Mean above prediction: 1.0042\n",
            "2025-08-26 16:15:02,128 -   Mean below prediction: 0.9959\n",
            "2025-08-26 16:15:02,129 -   Quantile 0.99 for distance in mask above: 990.0799999999963\n",
            "2025-08-26 16:15:02,129 -   Quantile 0.99 for distance in mask below: 818.7199999999993\n",
            "2025-08-26 16:15:02,129 -   Ratio for quantile-distance-to-length above: 0.0015\n",
            "2025-08-26 16:15:02,129 -   Ratio for quantile-distance-to-length below: 0.0012\n",
            "2025-08-26 16:15:02,129 -   Score: 1.0010\n"
          ]
        },
        {
          "name": "stderr",
          "output_type": "stream",
          "text": [
            "[I 2025-08-26 16:15:02,179] Trial 136 finished with value: 1.001036349254767 and parameters: {'year_start': 2021, 'LoadupSamples_time_inc_factor': 61, 'LSTM_units': 32, 'LSTM_learning_rate': 0.00023893898216625613, 'LSTM_l1': 1.0783636551933141e-05, 'LSTM_l2': 0.00015709309909922201, 'LSTM_dropout': 0.00496106266953409, 'LSTM_inter_dropout': 0.02425070334802552, 'LSTM_recurrent_dropout': 0.005856680656048447}. Best is trial 38 with value: 1.0030939915675743.\n"
          ]
        },
        {
          "name": "stdout",
          "output_type": "stream",
          "text": [
            "2025-08-26 16:15:02,179 - Trial 136 finished with value: 1.001036349254767 and parameters: {'year_start': 2021, 'LoadupSamples_time_inc_factor': 61, 'LSTM_units': 32, 'LSTM_learning_rate': 0.00023893898216625613, 'LSTM_l1': 1.0783636551933141e-05, 'LSTM_l2': 0.00015709309909922201, 'LSTM_dropout': 0.00496106266953409, 'LSTM_inter_dropout': 0.02425070334802552, 'LSTM_recurrent_dropout': 0.005856680656048447}. Best is trial 38 with value: 1.0030939915675743.\n",
            "2025-08-26 16:15:09,812 - Non-finite/too-large values in train y time: 48 samples.\n",
            "2025-08-26 16:15:09,812 - Removing 48 samples from training data.\n"
          ]
        },
        {
          "name": "stderr",
          "output_type": "stream",
          "text": [
            "Epochs:   0%|          | 0/2 [00:00<?, ?it/s]"
          ]
        },
        {
          "name": "stdout",
          "output_type": "stream",
          "text": [
            "2025-08-26 16:15:41,768 - Epoch 1/2 — Train RMSE: 0.4428 — Validation RMSE: 0.4021\n"
          ]
        },
        {
          "name": "stderr",
          "output_type": "stream",
          "text": [
            "Epochs:  50%|█████     | 1/2 [00:23<00:23, 23.57s/it]"
          ]
        },
        {
          "name": "stdout",
          "output_type": "stream",
          "text": [
            "2025-08-26 16:16:05,266 - Epoch 2/2 — Train RMSE: 0.4111 — Validation RMSE: 0.4020\n"
          ]
        },
        {
          "name": "stderr",
          "output_type": "stream",
          "text": [
            "Epochs: 100%|██████████| 2/2 [00:47<00:00, 23.53s/it]\n"
          ]
        },
        {
          "name": "stdout",
          "output_type": "stream",
          "text": [
            "2025-08-26 16:16:09,357 - Trial 137 with params: {'idxAfterPrediction': 4, 'timesteps': 75, 'target_option': 'last', 'LoadupSamples_time_scaling_stretch': True, 'LoadupSamples_time_inc_factor': 61, 'LSTM_units': 32, 'LSTM_num_layers': 1, 'LSTM_dropout': 0.0023455932980032653, 'LSTM_recurrent_dropout': 0.001880770723024604, 'LSTM_learning_rate': 0.00018953703044028399, 'LSTM_optimizer': 'adam', 'LSTM_bidirectional': True, 'LSTM_batch_size': 4096, 'LSTM_epochs': 2, 'LSTM_l1': 2.6963177735316034e-05, 'LSTM_l2': 0.00010149514827159432, 'LSTM_inter_dropout': 0.020182305470724603, 'LSTM_input_gaussian_noise': 0.001, 'LSTM_conv1d': True, 'LSTM_conv1d_kernel_size': 3, 'LSTM_loss': 'mse', 'LSTM_transformer_before': False, 'LSTM_transformer_after': False, 'LSTM_tf_d_model': 0, 'LSTM_tf_nhead': 2, 'LSTM_tf_num_layers_before': 0, 'LSTM_tf_num_layers_after': 0, 'LSTM_tf_dim_feedforward': 8, 'LSTM_tf_dropout': 0.1, 'LSTM_tf_positional_encoding': True, 'LSTM_tf_pool': 'last', 'year_start': 2021, 'is_single_feature': False}\n",
            "2025-08-26 16:16:09,358 -   q2: 0.9900\n",
            "2025-08-26 16:16:09,358 -   Duration0: 0:00:51.258567\n",
            "2025-08-26 16:16:09,359 -   Val RMSE0 adjusted: 0.0066\n",
            "2025-08-26 16:16:09,361 -   Mean all prediction: 0.9993\n",
            "2025-08-26 16:16:09,361 -   Mean above prediction: 1.0111\n",
            "2025-08-26 16:16:09,361 -   Mean below prediction: 0.9971\n",
            "2025-08-26 16:16:09,361 -   Quantile 0.99 for distance in mask above: 971.8799999999974\n",
            "2025-08-26 16:16:09,361 -   Quantile 0.99 for distance in mask below: 866.6399999999976\n",
            "2025-08-26 16:16:09,361 -   Ratio for quantile-distance-to-length above: 0.0015\n",
            "2025-08-26 16:16:09,361 -   Ratio for quantile-distance-to-length below: 0.0013\n",
            "2025-08-26 16:16:09,361 -   Score: 1.0028\n"
          ]
        },
        {
          "name": "stderr",
          "output_type": "stream",
          "text": [
            "[I 2025-08-26 16:16:09,409] Trial 137 finished with value: 1.0027568877534534 and parameters: {'year_start': 2021, 'LoadupSamples_time_inc_factor': 61, 'LSTM_units': 32, 'LSTM_learning_rate': 0.00018953703044028399, 'LSTM_l1': 2.6963177735316034e-05, 'LSTM_l2': 0.00010149514827159432, 'LSTM_dropout': 0.0023455932980032653, 'LSTM_inter_dropout': 0.020182305470724603, 'LSTM_recurrent_dropout': 0.001880770723024604}. Best is trial 38 with value: 1.0030939915675743.\n"
          ]
        },
        {
          "name": "stdout",
          "output_type": "stream",
          "text": [
            "2025-08-26 16:16:09,409 - Trial 137 finished with value: 1.0027568877534534 and parameters: {'year_start': 2021, 'LoadupSamples_time_inc_factor': 61, 'LSTM_units': 32, 'LSTM_learning_rate': 0.00018953703044028399, 'LSTM_l1': 2.6963177735316034e-05, 'LSTM_l2': 0.00010149514827159432, 'LSTM_dropout': 0.0023455932980032653, 'LSTM_inter_dropout': 0.020182305470724603, 'LSTM_recurrent_dropout': 0.001880770723024604}. Best is trial 38 with value: 1.0030939915675743.\n",
            "2025-08-26 16:16:16,975 - Non-finite/too-large values in train y time: 48 samples.\n",
            "2025-08-26 16:16:16,975 - Removing 48 samples from training data.\n"
          ]
        },
        {
          "name": "stderr",
          "output_type": "stream",
          "text": [
            "Epochs:   0%|          | 0/2 [00:00<?, ?it/s]"
          ]
        },
        {
          "name": "stdout",
          "output_type": "stream",
          "text": [
            "2025-08-26 16:16:46,191 - Epoch 1/2 — Train RMSE: 0.4587 — Validation RMSE: 0.4022\n"
          ]
        },
        {
          "name": "stderr",
          "output_type": "stream",
          "text": [
            "Epochs:  50%|█████     | 1/2 [00:20<00:20, 20.75s/it]"
          ]
        },
        {
          "name": "stdout",
          "output_type": "stream",
          "text": [
            "2025-08-26 16:17:07,334 - Epoch 2/2 — Train RMSE: 0.4098 — Validation RMSE: 0.4021\n"
          ]
        },
        {
          "name": "stderr",
          "output_type": "stream",
          "text": [
            "Epochs: 100%|██████████| 2/2 [00:41<00:00, 20.95s/it]\n"
          ]
        },
        {
          "name": "stdout",
          "output_type": "stream",
          "text": [
            "2025-08-26 16:17:11,360 - Trial 138 with params: {'idxAfterPrediction': 4, 'timesteps': 75, 'target_option': 'last', 'LoadupSamples_time_scaling_stretch': True, 'LoadupSamples_time_inc_factor': 61, 'LSTM_units': 16, 'LSTM_num_layers': 1, 'LSTM_dropout': 0.007026072548563669, 'LSTM_recurrent_dropout': 0.0011861857920713373, 'LSTM_learning_rate': 0.00018209666278938032, 'LSTM_optimizer': 'adam', 'LSTM_bidirectional': True, 'LSTM_batch_size': 4096, 'LSTM_epochs': 2, 'LSTM_l1': 1.5495386528749617e-05, 'LSTM_l2': 0.00012251112991634258, 'LSTM_inter_dropout': 0.028360658608031, 'LSTM_input_gaussian_noise': 0.001, 'LSTM_conv1d': True, 'LSTM_conv1d_kernel_size': 3, 'LSTM_loss': 'mse', 'LSTM_transformer_before': False, 'LSTM_transformer_after': False, 'LSTM_tf_d_model': 0, 'LSTM_tf_nhead': 2, 'LSTM_tf_num_layers_before': 0, 'LSTM_tf_num_layers_after': 0, 'LSTM_tf_dim_feedforward': 8, 'LSTM_tf_dropout': 0.1, 'LSTM_tf_positional_encoding': True, 'LSTM_tf_pool': 'last', 'year_start': 2021, 'is_single_feature': False}\n",
            "2025-08-26 16:17:11,360 -   q2: 0.9900\n",
            "2025-08-26 16:17:11,360 -   Duration0: 0:00:46.031568\n",
            "2025-08-26 16:17:11,360 -   Val RMSE0 adjusted: 0.0066\n",
            "2025-08-26 16:17:11,373 -   Mean all prediction: 0.9993\n",
            "2025-08-26 16:17:11,373 -   Mean above prediction: 1.0065\n",
            "2025-08-26 16:17:11,375 -   Mean below prediction: 0.9979\n",
            "2025-08-26 16:17:11,376 -   Quantile 0.99 for distance in mask above: 778.0\n",
            "2025-08-26 16:17:11,377 -   Quantile 0.99 for distance in mask below: 893.0\n",
            "2025-08-26 16:17:11,377 -   Ratio for quantile-distance-to-length above: 0.0012\n",
            "2025-08-26 16:17:11,379 -   Ratio for quantile-distance-to-length below: 0.0014\n",
            "2025-08-26 16:17:11,380 -   Score: 1.0016\n"
          ]
        },
        {
          "name": "stderr",
          "output_type": "stream",
          "text": [
            "[I 2025-08-26 16:17:11,427] Trial 138 finished with value: 1.0016247034018753 and parameters: {'year_start': 2021, 'LoadupSamples_time_inc_factor': 61, 'LSTM_units': 16, 'LSTM_learning_rate': 0.00018209666278938032, 'LSTM_l1': 1.5495386528749617e-05, 'LSTM_l2': 0.00012251112991634258, 'LSTM_dropout': 0.007026072548563669, 'LSTM_inter_dropout': 0.028360658608031, 'LSTM_recurrent_dropout': 0.0011861857920713373}. Best is trial 38 with value: 1.0030939915675743.\n"
          ]
        },
        {
          "name": "stdout",
          "output_type": "stream",
          "text": [
            "2025-08-26 16:17:11,427 - Trial 138 finished with value: 1.0016247034018753 and parameters: {'year_start': 2021, 'LoadupSamples_time_inc_factor': 61, 'LSTM_units': 16, 'LSTM_learning_rate': 0.00018209666278938032, 'LSTM_l1': 1.5495386528749617e-05, 'LSTM_l2': 0.00012251112991634258, 'LSTM_dropout': 0.007026072548563669, 'LSTM_inter_dropout': 0.028360658608031, 'LSTM_recurrent_dropout': 0.0011861857920713373}. Best is trial 38 with value: 1.0030939915675743.\n",
            "2025-08-26 16:17:17,342 - Non-finite/too-large values in train y time: 48 samples.\n",
            "2025-08-26 16:17:17,346 - Removing 48 samples from training data.\n"
          ]
        },
        {
          "name": "stderr",
          "output_type": "stream",
          "text": [
            "Epochs:   0%|          | 0/2 [00:00<?, ?it/s]"
          ]
        },
        {
          "name": "stdout",
          "output_type": "stream",
          "text": [
            "2025-08-26 16:17:41,742 - Epoch 1/2 — Train RMSE: 0.4610 — Validation RMSE: 0.4198\n"
          ]
        },
        {
          "name": "stderr",
          "output_type": "stream",
          "text": [
            "Epochs:  50%|█████     | 1/2 [00:17<00:17, 17.89s/it]"
          ]
        },
        {
          "name": "stdout",
          "output_type": "stream",
          "text": [
            "2025-08-26 16:17:59,364 - Epoch 2/2 — Train RMSE: 0.4323 — Validation RMSE: 0.4195\n"
          ]
        },
        {
          "name": "stderr",
          "output_type": "stream",
          "text": [
            "Epochs: 100%|██████████| 2/2 [00:35<00:00, 17.76s/it]\n"
          ]
        },
        {
          "name": "stdout",
          "output_type": "stream",
          "text": [
            "2025-08-26 16:18:02,972 - Trial 139 with params: {'idxAfterPrediction': 4, 'timesteps': 75, 'target_option': 'last', 'LoadupSamples_time_scaling_stretch': True, 'LoadupSamples_time_inc_factor': 76, 'LSTM_units': 32, 'LSTM_num_layers': 1, 'LSTM_dropout': 0.005332002690857461, 'LSTM_recurrent_dropout': 0.0022634952572653717, 'LSTM_learning_rate': 0.00021600688760670087, 'LSTM_optimizer': 'adam', 'LSTM_bidirectional': True, 'LSTM_batch_size': 4096, 'LSTM_epochs': 2, 'LSTM_l1': 2.975741397746651e-05, 'LSTM_l2': 0.00014137145598223285, 'LSTM_inter_dropout': 0.03194073147005336, 'LSTM_input_gaussian_noise': 0.001, 'LSTM_conv1d': True, 'LSTM_conv1d_kernel_size': 3, 'LSTM_loss': 'mse', 'LSTM_transformer_before': False, 'LSTM_transformer_after': False, 'LSTM_tf_d_model': 0, 'LSTM_tf_nhead': 2, 'LSTM_tf_num_layers_before': 0, 'LSTM_tf_num_layers_after': 0, 'LSTM_tf_dim_feedforward': 8, 'LSTM_tf_dropout': 0.1, 'LSTM_tf_positional_encoding': True, 'LSTM_tf_pool': 'last', 'year_start': 2022, 'is_single_feature': False}\n",
            "2025-08-26 16:18:02,972 -   q2: 0.9900\n",
            "2025-08-26 16:18:02,972 -   Duration0: 0:00:39.207509\n",
            "2025-08-26 16:18:02,972 -   Val RMSE0 adjusted: 0.0055\n",
            "2025-08-26 16:18:02,972 -   Mean all prediction: 0.9993\n",
            "2025-08-26 16:18:02,972 -   Mean above prediction: 1.0044\n",
            "2025-08-26 16:18:02,972 -   Mean below prediction: 0.9940\n",
            "2025-08-26 16:18:02,972 -   Quantile 0.99 for distance in mask above: 1161.159999999998\n",
            "2025-08-26 16:18:02,972 -   Quantile 0.99 for distance in mask below: 689.2399999999998\n",
            "2025-08-26 16:18:02,988 -   Ratio for quantile-distance-to-length above: 0.0018\n",
            "2025-08-26 16:18:02,989 -   Ratio for quantile-distance-to-length below: 0.0010\n",
            "2025-08-26 16:18:02,989 -   Score: 1.0011\n"
          ]
        },
        {
          "name": "stderr",
          "output_type": "stream",
          "text": [
            "[I 2025-08-26 16:18:03,025] Trial 139 finished with value: 1.0010871426522772 and parameters: {'year_start': 2022, 'LoadupSamples_time_inc_factor': 76, 'LSTM_units': 32, 'LSTM_learning_rate': 0.00021600688760670087, 'LSTM_l1': 2.975741397746651e-05, 'LSTM_l2': 0.00014137145598223285, 'LSTM_dropout': 0.005332002690857461, 'LSTM_inter_dropout': 0.03194073147005336, 'LSTM_recurrent_dropout': 0.0022634952572653717}. Best is trial 38 with value: 1.0030939915675743.\n"
          ]
        },
        {
          "name": "stdout",
          "output_type": "stream",
          "text": [
            "2025-08-26 16:18:03,025 - Trial 139 finished with value: 1.0010871426522772 and parameters: {'year_start': 2022, 'LoadupSamples_time_inc_factor': 76, 'LSTM_units': 32, 'LSTM_learning_rate': 0.00021600688760670087, 'LSTM_l1': 2.975741397746651e-05, 'LSTM_l2': 0.00014137145598223285, 'LSTM_dropout': 0.005332002690857461, 'LSTM_inter_dropout': 0.03194073147005336, 'LSTM_recurrent_dropout': 0.0022634952572653717}. Best is trial 38 with value: 1.0030939915675743.\n",
            "2025-08-26 16:18:12,161 - Non-finite/too-large values in train y time: 48 samples.\n",
            "2025-08-26 16:18:12,161 - Removing 48 samples from training data.\n"
          ]
        },
        {
          "name": "stderr",
          "output_type": "stream",
          "text": [
            "Epochs:   0%|          | 0/2 [00:00<?, ?it/s]"
          ]
        },
        {
          "name": "stdout",
          "output_type": "stream",
          "text": [
            "2025-08-26 16:18:51,995 - Epoch 1/2 — Train RMSE: 0.4381 — Validation RMSE: 0.4025\n"
          ]
        },
        {
          "name": "stderr",
          "output_type": "stream",
          "text": [
            "Epochs:  50%|█████     | 1/2 [00:29<00:29, 29.43s/it]"
          ]
        },
        {
          "name": "stdout",
          "output_type": "stream",
          "text": [
            "2025-08-26 16:19:21,458 - Epoch 2/2 — Train RMSE: 0.4168 — Validation RMSE: 0.4022\n"
          ]
        },
        {
          "name": "stderr",
          "output_type": "stream",
          "text": [
            "Epochs: 100%|██████████| 2/2 [00:58<00:00, 29.45s/it]\n"
          ]
        },
        {
          "name": "stdout",
          "output_type": "stream",
          "text": [
            "2025-08-26 16:19:25,253 - Trial 140 with params: {'idxAfterPrediction': 4, 'timesteps': 75, 'target_option': 'last', 'LoadupSamples_time_scaling_stretch': True, 'LoadupSamples_time_inc_factor': 61, 'LSTM_units': 32, 'LSTM_num_layers': 1, 'LSTM_dropout': 0.008066712086802966, 'LSTM_recurrent_dropout': 0.0012767996620485175, 'LSTM_learning_rate': 0.00020178624087350357, 'LSTM_optimizer': 'adam', 'LSTM_bidirectional': True, 'LSTM_batch_size': 4096, 'LSTM_epochs': 2, 'LSTM_l1': 1.1373081822631964e-05, 'LSTM_l2': 0.00011392612532402663, 'LSTM_inter_dropout': 0.024931925765810704, 'LSTM_input_gaussian_noise': 0.001, 'LSTM_conv1d': True, 'LSTM_conv1d_kernel_size': 3, 'LSTM_loss': 'mse', 'LSTM_transformer_before': False, 'LSTM_transformer_after': False, 'LSTM_tf_d_model': 0, 'LSTM_tf_nhead': 2, 'LSTM_tf_num_layers_before': 0, 'LSTM_tf_num_layers_after': 0, 'LSTM_tf_dim_feedforward': 8, 'LSTM_tf_dropout': 0.1, 'LSTM_tf_positional_encoding': True, 'LSTM_tf_pool': 'last', 'year_start': 2020, 'is_single_feature': False}\n",
            "2025-08-26 16:19:25,253 -   q2: 0.9900\n",
            "2025-08-26 16:19:25,253 -   Duration0: 0:01:02.820840\n",
            "2025-08-26 16:19:25,253 -   Val RMSE0 adjusted: 0.0066\n",
            "2025-08-26 16:19:25,268 -   Mean all prediction: 0.9993\n",
            "2025-08-26 16:19:25,268 -   Mean above prediction: 1.0046\n",
            "2025-08-26 16:19:25,268 -   Mean below prediction: 0.9951\n",
            "2025-08-26 16:19:25,268 -   Quantile 0.99 for distance in mask above: 987.9199999999983\n",
            "2025-08-26 16:19:25,268 -   Quantile 0.99 for distance in mask below: 802.2399999999998\n",
            "2025-08-26 16:19:25,268 -   Ratio for quantile-distance-to-length above: 0.0015\n",
            "2025-08-26 16:19:25,268 -   Ratio for quantile-distance-to-length below: 0.0012\n",
            "2025-08-26 16:19:25,268 -   Score: 1.0012\n"
          ]
        },
        {
          "name": "stderr",
          "output_type": "stream",
          "text": [
            "[I 2025-08-26 16:19:25,334] Trial 140 finished with value: 1.0011575817663756 and parameters: {'year_start': 2020, 'LoadupSamples_time_inc_factor': 61, 'LSTM_units': 32, 'LSTM_learning_rate': 0.00020178624087350357, 'LSTM_l1': 1.1373081822631964e-05, 'LSTM_l2': 0.00011392612532402663, 'LSTM_dropout': 0.008066712086802966, 'LSTM_inter_dropout': 0.024931925765810704, 'LSTM_recurrent_dropout': 0.0012767996620485175}. Best is trial 38 with value: 1.0030939915675743.\n"
          ]
        },
        {
          "name": "stdout",
          "output_type": "stream",
          "text": [
            "2025-08-26 16:19:25,334 - Trial 140 finished with value: 1.0011575817663756 and parameters: {'year_start': 2020, 'LoadupSamples_time_inc_factor': 61, 'LSTM_units': 32, 'LSTM_learning_rate': 0.00020178624087350357, 'LSTM_l1': 1.1373081822631964e-05, 'LSTM_l2': 0.00011392612532402663, 'LSTM_dropout': 0.008066712086802966, 'LSTM_inter_dropout': 0.024931925765810704, 'LSTM_recurrent_dropout': 0.0012767996620485175}. Best is trial 38 with value: 1.0030939915675743.\n",
            "2025-08-26 16:19:32,834 - Non-finite/too-large values in train y time: 48 samples.\n",
            "2025-08-26 16:19:32,850 - Removing 48 samples from training data.\n"
          ]
        },
        {
          "name": "stderr",
          "output_type": "stream",
          "text": [
            "Epochs:   0%|          | 0/2 [00:00<?, ?it/s]"
          ]
        },
        {
          "name": "stdout",
          "output_type": "stream",
          "text": [
            "2025-08-26 16:20:05,004 - Epoch 1/2 — Train RMSE: 0.4672 — Validation RMSE: 0.4026\n"
          ]
        },
        {
          "name": "stderr",
          "output_type": "stream",
          "text": [
            "Epochs:  50%|█████     | 1/2 [00:23<00:23, 23.80s/it]"
          ]
        },
        {
          "name": "stdout",
          "output_type": "stream",
          "text": [
            "2025-08-26 16:20:28,304 - Epoch 2/2 — Train RMSE: 0.4117 — Validation RMSE: 0.4023\n"
          ]
        },
        {
          "name": "stderr",
          "output_type": "stream",
          "text": [
            "Epochs: 100%|██████████| 2/2 [00:47<00:00, 23.55s/it]\n"
          ]
        },
        {
          "name": "stdout",
          "output_type": "stream",
          "text": [
            "2025-08-26 16:20:32,346 - Trial 141 with params: {'idxAfterPrediction': 4, 'timesteps': 75, 'target_option': 'last', 'LoadupSamples_time_scaling_stretch': True, 'LoadupSamples_time_inc_factor': 61, 'LSTM_units': 32, 'LSTM_num_layers': 1, 'LSTM_dropout': 0.0024631478474280693, 'LSTM_recurrent_dropout': 0.0070360539006097365, 'LSTM_learning_rate': 0.00018842771633065816, 'LSTM_optimizer': 'adam', 'LSTM_bidirectional': True, 'LSTM_batch_size': 4096, 'LSTM_epochs': 2, 'LSTM_l1': 2.5301551141930095e-05, 'LSTM_l2': 0.00010128980771542949, 'LSTM_inter_dropout': 0.020666836858062802, 'LSTM_input_gaussian_noise': 0.001, 'LSTM_conv1d': True, 'LSTM_conv1d_kernel_size': 3, 'LSTM_loss': 'mse', 'LSTM_transformer_before': False, 'LSTM_transformer_after': False, 'LSTM_tf_d_model': 0, 'LSTM_tf_nhead': 2, 'LSTM_tf_num_layers_before': 0, 'LSTM_tf_num_layers_after': 0, 'LSTM_tf_dim_feedforward': 8, 'LSTM_tf_dropout': 0.1, 'LSTM_tf_positional_encoding': True, 'LSTM_tf_pool': 'last', 'year_start': 2021, 'is_single_feature': False}\n",
            "2025-08-26 16:20:32,346 -   q2: 0.9900\n",
            "2025-08-26 16:20:32,362 -   Duration0: 0:00:51.257872\n",
            "2025-08-26 16:20:32,363 -   Val RMSE0 adjusted: 0.0066\n",
            "2025-08-26 16:20:32,363 -   Mean all prediction: 0.9993\n",
            "2025-08-26 16:20:32,363 -   Mean above prediction: 1.0101\n",
            "2025-08-26 16:20:32,363 -   Mean below prediction: 0.9959\n",
            "2025-08-26 16:20:32,363 -   Quantile 0.99 for distance in mask above: 971.1199999999972\n",
            "2025-08-26 16:20:32,363 -   Quantile 0.99 for distance in mask below: 862.4799999999996\n",
            "2025-08-26 16:20:32,363 -   Ratio for quantile-distance-to-length above: 0.0015\n",
            "2025-08-26 16:20:32,363 -   Ratio for quantile-distance-to-length below: 0.0013\n",
            "2025-08-26 16:20:32,363 -   Score: 1.0025\n"
          ]
        },
        {
          "name": "stderr",
          "output_type": "stream",
          "text": [
            "[I 2025-08-26 16:20:32,413] Trial 141 finished with value: 1.0025234356584898 and parameters: {'year_start': 2021, 'LoadupSamples_time_inc_factor': 61, 'LSTM_units': 32, 'LSTM_learning_rate': 0.00018842771633065816, 'LSTM_l1': 2.5301551141930095e-05, 'LSTM_l2': 0.00010128980771542949, 'LSTM_dropout': 0.0024631478474280693, 'LSTM_inter_dropout': 0.020666836858062802, 'LSTM_recurrent_dropout': 0.0070360539006097365}. Best is trial 38 with value: 1.0030939915675743.\n"
          ]
        },
        {
          "name": "stdout",
          "output_type": "stream",
          "text": [
            "2025-08-26 16:20:32,413 - Trial 141 finished with value: 1.0025234356584898 and parameters: {'year_start': 2021, 'LoadupSamples_time_inc_factor': 61, 'LSTM_units': 32, 'LSTM_learning_rate': 0.00018842771633065816, 'LSTM_l1': 2.5301551141930095e-05, 'LSTM_l2': 0.00010128980771542949, 'LSTM_dropout': 0.0024631478474280693, 'LSTM_inter_dropout': 0.020666836858062802, 'LSTM_recurrent_dropout': 0.0070360539006097365}. Best is trial 38 with value: 1.0030939915675743.\n",
            "2025-08-26 16:20:39,966 - Non-finite/too-large values in train y time: 48 samples.\n",
            "2025-08-26 16:20:39,966 - Removing 48 samples from training data.\n"
          ]
        },
        {
          "name": "stderr",
          "output_type": "stream",
          "text": [
            "Epochs:   0%|          | 0/2 [00:00<?, ?it/s]"
          ]
        },
        {
          "name": "stdout",
          "output_type": "stream",
          "text": [
            "2025-08-26 16:21:12,066 - Epoch 1/2 — Train RMSE: 0.4277 — Validation RMSE: 0.4020\n"
          ]
        },
        {
          "name": "stderr",
          "output_type": "stream",
          "text": [
            "Epochs:  50%|█████     | 1/2 [00:23<00:23, 23.58s/it]"
          ]
        },
        {
          "name": "stdout",
          "output_type": "stream",
          "text": [
            "2025-08-26 16:21:35,484 - Epoch 2/2 — Train RMSE: 0.4103 — Validation RMSE: 0.4020\n"
          ]
        },
        {
          "name": "stderr",
          "output_type": "stream",
          "text": [
            "Epochs: 100%|██████████| 2/2 [00:47<00:00, 23.50s/it]\n"
          ]
        },
        {
          "name": "stdout",
          "output_type": "stream",
          "text": [
            "2025-08-26 16:21:39,610 - Trial 142 with params: {'idxAfterPrediction': 4, 'timesteps': 75, 'target_option': 'last', 'LoadupSamples_time_scaling_stretch': True, 'LoadupSamples_time_inc_factor': 61, 'LSTM_units': 32, 'LSTM_num_layers': 1, 'LSTM_dropout': 0.002677799921054831, 'LSTM_recurrent_dropout': 0.001825685372063046, 'LSTM_learning_rate': 0.00019674324376944464, 'LSTM_optimizer': 'adam', 'LSTM_bidirectional': True, 'LSTM_batch_size': 4096, 'LSTM_epochs': 2, 'LSTM_l1': 2.755608679985998e-05, 'LSTM_l2': 0.00012921161031880058, 'LSTM_inter_dropout': 0.018862746124273598, 'LSTM_input_gaussian_noise': 0.001, 'LSTM_conv1d': True, 'LSTM_conv1d_kernel_size': 3, 'LSTM_loss': 'mse', 'LSTM_transformer_before': False, 'LSTM_transformer_after': False, 'LSTM_tf_d_model': 0, 'LSTM_tf_nhead': 2, 'LSTM_tf_num_layers_before': 0, 'LSTM_tf_num_layers_after': 0, 'LSTM_tf_dim_feedforward': 8, 'LSTM_tf_dropout': 0.1, 'LSTM_tf_positional_encoding': True, 'LSTM_tf_pool': 'last', 'year_start': 2021, 'is_single_feature': False}\n",
            "2025-08-26 16:21:39,610 -   q2: 0.9900\n",
            "2025-08-26 16:21:39,610 -   Duration0: 0:00:51.231053\n",
            "2025-08-26 16:21:39,610 -   Val RMSE0 adjusted: 0.0066\n",
            "2025-08-26 16:21:39,610 -   Mean all prediction: 0.9993\n",
            "2025-08-26 16:21:39,610 -   Mean above prediction: 1.0089\n",
            "2025-08-26 16:21:39,610 -   Mean below prediction: 0.9962\n",
            "2025-08-26 16:21:39,610 -   Quantile 0.99 for distance in mask above: 968.3999999999978\n",
            "2025-08-26 16:21:39,610 -   Quantile 0.99 for distance in mask below: 803.2399999999998\n",
            "2025-08-26 16:21:39,610 -   Ratio for quantile-distance-to-length above: 0.0015\n",
            "2025-08-26 16:21:39,626 -   Ratio for quantile-distance-to-length below: 0.0012\n",
            "2025-08-26 16:21:39,626 -   Score: 1.0022\n"
          ]
        },
        {
          "name": "stderr",
          "output_type": "stream",
          "text": [
            "[I 2025-08-26 16:21:39,676] Trial 142 finished with value: 1.0022121186739492 and parameters: {'year_start': 2021, 'LoadupSamples_time_inc_factor': 61, 'LSTM_units': 32, 'LSTM_learning_rate': 0.00019674324376944464, 'LSTM_l1': 2.755608679985998e-05, 'LSTM_l2': 0.00012921161031880058, 'LSTM_dropout': 0.002677799921054831, 'LSTM_inter_dropout': 0.018862746124273598, 'LSTM_recurrent_dropout': 0.001825685372063046}. Best is trial 38 with value: 1.0030939915675743.\n"
          ]
        },
        {
          "name": "stdout",
          "output_type": "stream",
          "text": [
            "2025-08-26 16:21:39,676 - Trial 142 finished with value: 1.0022121186739492 and parameters: {'year_start': 2021, 'LoadupSamples_time_inc_factor': 61, 'LSTM_units': 32, 'LSTM_learning_rate': 0.00019674324376944464, 'LSTM_l1': 2.755608679985998e-05, 'LSTM_l2': 0.00012921161031880058, 'LSTM_dropout': 0.002677799921054831, 'LSTM_inter_dropout': 0.018862746124273598, 'LSTM_recurrent_dropout': 0.001825685372063046}. Best is trial 38 with value: 1.0030939915675743.\n",
            "2025-08-26 16:21:47,259 - Non-finite/too-large values in train y time: 48 samples.\n",
            "2025-08-26 16:21:47,259 - Removing 48 samples from training data.\n"
          ]
        },
        {
          "name": "stderr",
          "output_type": "stream",
          "text": [
            "Epochs:   0%|          | 0/2 [00:00<?, ?it/s]"
          ]
        },
        {
          "name": "stdout",
          "output_type": "stream",
          "text": [
            "2025-08-26 16:22:19,248 - Epoch 1/2 — Train RMSE: 0.4342 — Validation RMSE: 0.4023\n"
          ]
        },
        {
          "name": "stderr",
          "output_type": "stream",
          "text": [
            "Epochs:  50%|█████     | 1/2 [00:23<00:23, 23.59s/it]"
          ]
        },
        {
          "name": "stdout",
          "output_type": "stream",
          "text": [
            "2025-08-26 16:22:42,746 - Epoch 2/2 — Train RMSE: 0.4110 — Validation RMSE: 0.4021\n"
          ]
        },
        {
          "name": "stderr",
          "output_type": "stream",
          "text": [
            "Epochs: 100%|██████████| 2/2 [00:47<00:00, 23.54s/it]\n"
          ]
        },
        {
          "name": "stdout",
          "output_type": "stream",
          "text": [
            "2025-08-26 16:22:46,788 - Trial 143 with params: {'idxAfterPrediction': 4, 'timesteps': 75, 'target_option': 'last', 'LoadupSamples_time_scaling_stretch': True, 'LoadupSamples_time_inc_factor': 61, 'LSTM_units': 32, 'LSTM_num_layers': 1, 'LSTM_dropout': 0.0023123805621723904, 'LSTM_recurrent_dropout': 0.0018982435266548978, 'LSTM_learning_rate': 0.00018529413051948543, 'LSTM_optimizer': 'adam', 'LSTM_bidirectional': True, 'LSTM_batch_size': 4096, 'LSTM_epochs': 2, 'LSTM_l1': 2.6657991660914235e-05, 'LSTM_l2': 0.00011193663434318451, 'LSTM_inter_dropout': 0.02223436769332033, 'LSTM_input_gaussian_noise': 0.001, 'LSTM_conv1d': True, 'LSTM_conv1d_kernel_size': 3, 'LSTM_loss': 'mse', 'LSTM_transformer_before': False, 'LSTM_transformer_after': False, 'LSTM_tf_d_model': 0, 'LSTM_tf_nhead': 2, 'LSTM_tf_num_layers_before': 0, 'LSTM_tf_num_layers_after': 0, 'LSTM_tf_dim_feedforward': 8, 'LSTM_tf_dropout': 0.1, 'LSTM_tf_positional_encoding': True, 'LSTM_tf_pool': 'last', 'year_start': 2021, 'is_single_feature': False}\n",
            "2025-08-26 16:22:46,789 -   q2: 0.9900\n",
            "2025-08-26 16:22:46,789 -   Duration0: 0:00:51.227946\n",
            "2025-08-26 16:22:46,790 -   Val RMSE0 adjusted: 0.0066\n",
            "2025-08-26 16:22:46,792 -   Mean all prediction: 0.9993\n",
            "2025-08-26 16:22:46,792 -   Mean above prediction: 1.0033\n",
            "2025-08-26 16:22:46,792 -   Mean below prediction: 0.9960\n",
            "2025-08-26 16:22:46,792 -   Quantile 0.99 for distance in mask above: 1066.7199999999993\n",
            "2025-08-26 16:22:46,792 -   Quantile 0.99 for distance in mask below: 803.2399999999998\n",
            "2025-08-26 16:22:46,792 -   Ratio for quantile-distance-to-length above: 0.0016\n",
            "2025-08-26 16:22:46,792 -   Ratio for quantile-distance-to-length below: 0.0012\n",
            "2025-08-26 16:22:46,792 -   Score: 1.0008\n"
          ]
        },
        {
          "name": "stderr",
          "output_type": "stream",
          "text": [
            "[I 2025-08-26 16:22:46,854] Trial 143 finished with value: 1.000813276822132 and parameters: {'year_start': 2021, 'LoadupSamples_time_inc_factor': 61, 'LSTM_units': 32, 'LSTM_learning_rate': 0.00018529413051948543, 'LSTM_l1': 2.6657991660914235e-05, 'LSTM_l2': 0.00011193663434318451, 'LSTM_dropout': 0.0023123805621723904, 'LSTM_inter_dropout': 0.02223436769332033, 'LSTM_recurrent_dropout': 0.0018982435266548978}. Best is trial 38 with value: 1.0030939915675743.\n"
          ]
        },
        {
          "name": "stdout",
          "output_type": "stream",
          "text": [
            "2025-08-26 16:22:46,854 - Trial 143 finished with value: 1.000813276822132 and parameters: {'year_start': 2021, 'LoadupSamples_time_inc_factor': 61, 'LSTM_units': 32, 'LSTM_learning_rate': 0.00018529413051948543, 'LSTM_l1': 2.6657991660914235e-05, 'LSTM_l2': 0.00011193663434318451, 'LSTM_dropout': 0.0023123805621723904, 'LSTM_inter_dropout': 0.02223436769332033, 'LSTM_recurrent_dropout': 0.0018982435266548978}. Best is trial 38 with value: 1.0030939915675743.\n",
            "2025-08-26 16:22:54,391 - Non-finite/too-large values in train y time: 48 samples.\n",
            "2025-08-26 16:22:54,391 - Removing 48 samples from training data.\n"
          ]
        },
        {
          "name": "stderr",
          "output_type": "stream",
          "text": [
            "Epochs:   0%|          | 0/2 [00:00<?, ?it/s]"
          ]
        },
        {
          "name": "stdout",
          "output_type": "stream",
          "text": [
            "2025-08-26 16:23:26,644 - Epoch 1/2 — Train RMSE: 0.4389 — Validation RMSE: 0.4023\n"
          ]
        },
        {
          "name": "stderr",
          "output_type": "stream",
          "text": [
            "Epochs:  50%|█████     | 1/2 [00:23<00:23, 23.73s/it]"
          ]
        },
        {
          "name": "stdout",
          "output_type": "stream",
          "text": [
            "2025-08-26 16:23:50,096 - Epoch 2/2 — Train RMSE: 0.4105 — Validation RMSE: 0.4020\n"
          ]
        },
        {
          "name": "stderr",
          "output_type": "stream",
          "text": [
            "Epochs: 100%|██████████| 2/2 [00:47<00:00, 23.59s/it]\n"
          ]
        },
        {
          "name": "stdout",
          "output_type": "stream",
          "text": [
            "2025-08-26 16:23:54,134 - Trial 144 with params: {'idxAfterPrediction': 4, 'timesteps': 75, 'target_option': 'last', 'LoadupSamples_time_scaling_stretch': True, 'LoadupSamples_time_inc_factor': 61, 'LSTM_units': 32, 'LSTM_num_layers': 1, 'LSTM_dropout': 0.001929363473066914, 'LSTM_recurrent_dropout': 0.001435085221749322, 'LSTM_learning_rate': 0.00016715408521889808, 'LSTM_optimizer': 'adam', 'LSTM_bidirectional': True, 'LSTM_batch_size': 4096, 'LSTM_epochs': 2, 'LSTM_l1': 3.321842015697388e-05, 'LSTM_l2': 0.00010078153670583701, 'LSTM_inter_dropout': 0.01961569544681121, 'LSTM_input_gaussian_noise': 0.001, 'LSTM_conv1d': True, 'LSTM_conv1d_kernel_size': 3, 'LSTM_loss': 'mse', 'LSTM_transformer_before': False, 'LSTM_transformer_after': False, 'LSTM_tf_d_model': 0, 'LSTM_tf_nhead': 2, 'LSTM_tf_num_layers_before': 0, 'LSTM_tf_num_layers_after': 0, 'LSTM_tf_dim_feedforward': 8, 'LSTM_tf_dropout': 0.1, 'LSTM_tf_positional_encoding': True, 'LSTM_tf_pool': 'last', 'year_start': 2021, 'is_single_feature': False}\n",
            "2025-08-26 16:23:54,134 -   q2: 0.9900\n",
            "2025-08-26 16:23:54,150 -   Duration0: 0:00:51.344811\n",
            "2025-08-26 16:23:54,150 -   Val RMSE0 adjusted: 0.0066\n",
            "2025-08-26 16:23:54,152 -   Mean all prediction: 0.9993\n",
            "2025-08-26 16:23:54,152 -   Mean above prediction: 1.0036\n",
            "2025-08-26 16:23:54,152 -   Mean below prediction: 0.9943\n",
            "2025-08-26 16:23:54,152 -   Quantile 0.99 for distance in mask above: 988.159999999998\n",
            "2025-08-26 16:23:54,152 -   Quantile 0.99 for distance in mask below: 810.9599999999991\n",
            "2025-08-26 16:23:54,152 -   Ratio for quantile-distance-to-length above: 0.0015\n",
            "2025-08-26 16:23:54,152 -   Ratio for quantile-distance-to-length below: 0.0012\n",
            "2025-08-26 16:23:54,152 -   Score: 1.0009\n"
          ]
        },
        {
          "name": "stderr",
          "output_type": "stream",
          "text": [
            "[I 2025-08-26 16:23:54,206] Trial 144 finished with value: 1.0008883496029983 and parameters: {'year_start': 2021, 'LoadupSamples_time_inc_factor': 61, 'LSTM_units': 32, 'LSTM_learning_rate': 0.00016715408521889808, 'LSTM_l1': 3.321842015697388e-05, 'LSTM_l2': 0.00010078153670583701, 'LSTM_dropout': 0.001929363473066914, 'LSTM_inter_dropout': 0.01961569544681121, 'LSTM_recurrent_dropout': 0.001435085221749322}. Best is trial 38 with value: 1.0030939915675743.\n"
          ]
        },
        {
          "name": "stdout",
          "output_type": "stream",
          "text": [
            "2025-08-26 16:23:54,206 - Trial 144 finished with value: 1.0008883496029983 and parameters: {'year_start': 2021, 'LoadupSamples_time_inc_factor': 61, 'LSTM_units': 32, 'LSTM_learning_rate': 0.00016715408521889808, 'LSTM_l1': 3.321842015697388e-05, 'LSTM_l2': 0.00010078153670583701, 'LSTM_dropout': 0.001929363473066914, 'LSTM_inter_dropout': 0.01961569544681121, 'LSTM_recurrent_dropout': 0.001435085221749322}. Best is trial 38 with value: 1.0030939915675743.\n",
            "2025-08-26 16:24:01,717 - Non-finite/too-large values in train y time: 48 samples.\n",
            "2025-08-26 16:24:01,733 - Removing 48 samples from training data.\n"
          ]
        },
        {
          "name": "stderr",
          "output_type": "stream",
          "text": [
            "Epochs:   0%|          | 0/2 [00:00<?, ?it/s]"
          ]
        },
        {
          "name": "stdout",
          "output_type": "stream",
          "text": [
            "2025-08-26 16:24:33,804 - Epoch 1/2 — Train RMSE: 0.4266 — Validation RMSE: 0.4022\n"
          ]
        },
        {
          "name": "stderr",
          "output_type": "stream",
          "text": [
            "Epochs:  50%|█████     | 1/2 [00:23<00:23, 23.57s/it]"
          ]
        },
        {
          "name": "stdout",
          "output_type": "stream",
          "text": [
            "2025-08-26 16:24:57,255 - Epoch 2/2 — Train RMSE: 0.4109 — Validation RMSE: 0.4021\n"
          ]
        },
        {
          "name": "stderr",
          "output_type": "stream",
          "text": [
            "Epochs: 100%|██████████| 2/2 [00:47<00:00, 23.52s/it]\n"
          ]
        },
        {
          "name": "stdout",
          "output_type": "stream",
          "text": [
            "2025-08-26 16:25:01,214 - Trial 145 with params: {'idxAfterPrediction': 4, 'timesteps': 75, 'target_option': 'last', 'LoadupSamples_time_scaling_stretch': True, 'LoadupSamples_time_inc_factor': 61, 'LSTM_units': 32, 'LSTM_num_layers': 1, 'LSTM_dropout': 0.005882206191786049, 'LSTM_recurrent_dropout': 0.0016854473907052777, 'LSTM_learning_rate': 0.00022690851841094178, 'LSTM_optimizer': 'adam', 'LSTM_bidirectional': True, 'LSTM_batch_size': 4096, 'LSTM_epochs': 2, 'LSTM_l1': 2.4067094109278776e-05, 'LSTM_l2': 0.00015441786100495498, 'LSTM_inter_dropout': 0.018229465284320442, 'LSTM_input_gaussian_noise': 0.001, 'LSTM_conv1d': True, 'LSTM_conv1d_kernel_size': 3, 'LSTM_loss': 'mse', 'LSTM_transformer_before': False, 'LSTM_transformer_after': False, 'LSTM_tf_d_model': 0, 'LSTM_tf_nhead': 2, 'LSTM_tf_num_layers_before': 0, 'LSTM_tf_num_layers_after': 0, 'LSTM_tf_dim_feedforward': 8, 'LSTM_tf_dropout': 0.1, 'LSTM_tf_positional_encoding': True, 'LSTM_tf_pool': 'last', 'year_start': 2021, 'is_single_feature': False}\n",
            "2025-08-26 16:25:01,214 -   q2: 0.9900\n",
            "2025-08-26 16:25:01,214 -   Duration0: 0:00:51.075055\n",
            "2025-08-26 16:25:01,214 -   Val RMSE0 adjusted: 0.0066\n",
            "2025-08-26 16:25:01,231 -   Mean all prediction: 0.9993\n",
            "2025-08-26 16:25:01,231 -   Mean above prediction: 1.0036\n",
            "2025-08-26 16:25:01,231 -   Mean below prediction: 0.9964\n",
            "2025-08-26 16:25:01,231 -   Quantile 0.99 for distance in mask above: 870.6799999999985\n",
            "2025-08-26 16:25:01,231 -   Quantile 0.99 for distance in mask below: 834.9199999999983\n",
            "2025-08-26 16:25:01,231 -   Ratio for quantile-distance-to-length above: 0.0013\n",
            "2025-08-26 16:25:01,231 -   Ratio for quantile-distance-to-length below: 0.0013\n",
            "2025-08-26 16:25:01,231 -   Score: 1.0009\n"
          ]
        },
        {
          "name": "stderr",
          "output_type": "stream",
          "text": [
            "[I 2025-08-26 16:25:01,291] Trial 145 finished with value: 1.0009017917056389 and parameters: {'year_start': 2021, 'LoadupSamples_time_inc_factor': 61, 'LSTM_units': 32, 'LSTM_learning_rate': 0.00022690851841094178, 'LSTM_l1': 2.4067094109278776e-05, 'LSTM_l2': 0.00015441786100495498, 'LSTM_dropout': 0.005882206191786049, 'LSTM_inter_dropout': 0.018229465284320442, 'LSTM_recurrent_dropout': 0.0016854473907052777}. Best is trial 38 with value: 1.0030939915675743.\n"
          ]
        },
        {
          "name": "stdout",
          "output_type": "stream",
          "text": [
            "2025-08-26 16:25:01,291 - Trial 145 finished with value: 1.0009017917056389 and parameters: {'year_start': 2021, 'LoadupSamples_time_inc_factor': 61, 'LSTM_units': 32, 'LSTM_learning_rate': 0.00022690851841094178, 'LSTM_l1': 2.4067094109278776e-05, 'LSTM_l2': 0.00015441786100495498, 'LSTM_dropout': 0.005882206191786049, 'LSTM_inter_dropout': 0.018229465284320442, 'LSTM_recurrent_dropout': 0.0016854473907052777}. Best is trial 38 with value: 1.0030939915675743.\n",
            "2025-08-26 16:25:08,830 - Non-finite/too-large values in train y time: 48 samples.\n",
            "2025-08-26 16:25:08,830 - Removing 48 samples from training data.\n"
          ]
        },
        {
          "name": "stderr",
          "output_type": "stream",
          "text": [
            "Epochs:   0%|          | 0/2 [00:00<?, ?it/s]"
          ]
        },
        {
          "name": "stdout",
          "output_type": "stream",
          "text": [
            "2025-08-26 16:25:41,133 - Epoch 1/2 — Train RMSE: 0.4567 — Validation RMSE: 0.4021\n"
          ]
        },
        {
          "name": "stderr",
          "output_type": "stream",
          "text": [
            "Epochs:  50%|█████     | 1/2 [00:23<00:23, 23.82s/it]"
          ]
        },
        {
          "name": "stdout",
          "output_type": "stream",
          "text": [
            "2025-08-26 16:26:04,384 - Epoch 2/2 — Train RMSE: 0.4110 — Validation RMSE: 0.4020\n"
          ]
        },
        {
          "name": "stderr",
          "output_type": "stream",
          "text": [
            "Epochs: 100%|██████████| 2/2 [00:47<00:00, 23.53s/it]\n"
          ]
        },
        {
          "name": "stdout",
          "output_type": "stream",
          "text": [
            "2025-08-26 16:26:08,560 - Trial 146 with params: {'idxAfterPrediction': 4, 'timesteps': 75, 'target_option': 'last', 'LoadupSamples_time_scaling_stretch': True, 'LoadupSamples_time_inc_factor': 61, 'LSTM_units': 32, 'LSTM_num_layers': 1, 'LSTM_dropout': 0.00318469966631898, 'LSTM_recurrent_dropout': 0.0020927850217621127, 'LSTM_learning_rate': 0.00019257386697185049, 'LSTM_optimizer': 'adam', 'LSTM_bidirectional': True, 'LSTM_batch_size': 4096, 'LSTM_epochs': 2, 'LSTM_l1': 2.8455976207885854e-05, 'LSTM_l2': 0.006101613632444722, 'LSTM_inter_dropout': 0.021312773158777654, 'LSTM_input_gaussian_noise': 0.001, 'LSTM_conv1d': True, 'LSTM_conv1d_kernel_size': 3, 'LSTM_loss': 'mse', 'LSTM_transformer_before': False, 'LSTM_transformer_after': False, 'LSTM_tf_d_model': 0, 'LSTM_tf_nhead': 2, 'LSTM_tf_num_layers_before': 0, 'LSTM_tf_num_layers_after': 0, 'LSTM_tf_dim_feedforward': 8, 'LSTM_tf_dropout': 0.1, 'LSTM_tf_positional_encoding': True, 'LSTM_tf_pool': 'last', 'year_start': 2021, 'is_single_feature': False}\n",
            "2025-08-26 16:26:08,560 -   q2: 0.9900\n",
            "2025-08-26 16:26:08,560 -   Duration0: 0:00:51.328508\n",
            "2025-08-26 16:26:08,560 -   Val RMSE0 adjusted: 0.0066\n",
            "2025-08-26 16:26:08,560 -   Mean all prediction: 0.9993\n",
            "2025-08-26 16:26:08,560 -   Mean above prediction: 1.0048\n",
            "2025-08-26 16:26:08,560 -   Mean below prediction: 0.9958\n",
            "2025-08-26 16:26:08,560 -   Quantile 0.99 for distance in mask above: 903.6799999999985\n",
            "2025-08-26 16:26:08,560 -   Quantile 0.99 for distance in mask below: 855.6799999999985\n",
            "2025-08-26 16:26:08,560 -   Ratio for quantile-distance-to-length above: 0.0014\n",
            "2025-08-26 16:26:08,560 -   Ratio for quantile-distance-to-length below: 0.0013\n",
            "2025-08-26 16:26:08,560 -   Score: 1.0012\n"
          ]
        },
        {
          "name": "stderr",
          "output_type": "stream",
          "text": [
            "[I 2025-08-26 16:26:08,617] Trial 146 finished with value: 1.0011970849141958 and parameters: {'year_start': 2021, 'LoadupSamples_time_inc_factor': 61, 'LSTM_units': 32, 'LSTM_learning_rate': 0.00019257386697185049, 'LSTM_l1': 2.8455976207885854e-05, 'LSTM_l2': 0.006101613632444722, 'LSTM_dropout': 0.00318469966631898, 'LSTM_inter_dropout': 0.021312773158777654, 'LSTM_recurrent_dropout': 0.0020927850217621127}. Best is trial 38 with value: 1.0030939915675743.\n"
          ]
        },
        {
          "name": "stdout",
          "output_type": "stream",
          "text": [
            "2025-08-26 16:26:08,617 - Trial 146 finished with value: 1.0011970849141958 and parameters: {'year_start': 2021, 'LoadupSamples_time_inc_factor': 61, 'LSTM_units': 32, 'LSTM_learning_rate': 0.00019257386697185049, 'LSTM_l1': 2.8455976207885854e-05, 'LSTM_l2': 0.006101613632444722, 'LSTM_dropout': 0.00318469966631898, 'LSTM_inter_dropout': 0.021312773158777654, 'LSTM_recurrent_dropout': 0.0020927850217621127}. Best is trial 38 with value: 1.0030939915675743.\n",
            "2025-08-26 16:26:16,175 - Non-finite/too-large values in train y time: 48 samples.\n",
            "2025-08-26 16:26:16,179 - Removing 48 samples from training data.\n"
          ]
        },
        {
          "name": "stderr",
          "output_type": "stream",
          "text": [
            "Epochs:   0%|          | 0/2 [00:00<?, ?it/s]"
          ]
        },
        {
          "name": "stdout",
          "output_type": "stream",
          "text": [
            "2025-08-26 16:26:48,349 - Epoch 1/2 — Train RMSE: 0.4420 — Validation RMSE: 0.4027\n"
          ]
        },
        {
          "name": "stderr",
          "output_type": "stream",
          "text": [
            "Epochs:  50%|█████     | 1/2 [00:23<00:23, 23.67s/it]"
          ]
        },
        {
          "name": "stdout",
          "output_type": "stream",
          "text": [
            "2025-08-26 16:27:11,797 - Epoch 2/2 — Train RMSE: 0.4119 — Validation RMSE: 0.4025\n"
          ]
        },
        {
          "name": "stderr",
          "output_type": "stream",
          "text": [
            "Epochs: 100%|██████████| 2/2 [00:47<00:00, 23.56s/it]\n"
          ]
        },
        {
          "name": "stdout",
          "output_type": "stream",
          "text": [
            "2025-08-26 16:27:15,856 - Trial 147 with params: {'idxAfterPrediction': 4, 'timesteps': 75, 'target_option': 'last', 'LoadupSamples_time_scaling_stretch': True, 'LoadupSamples_time_inc_factor': 61, 'LSTM_units': 32, 'LSTM_num_layers': 1, 'LSTM_dropout': 0.002321064031956945, 'LSTM_recurrent_dropout': 0.0013184189115482087, 'LSTM_learning_rate': 0.0003632942337829254, 'LSTM_optimizer': 'adam', 'LSTM_bidirectional': True, 'LSTM_batch_size': 4096, 'LSTM_epochs': 2, 'LSTM_l1': 3.235028902765023e-05, 'LSTM_l2': 0.00012725510691100368, 'LSTM_inter_dropout': 0.022822932376142965, 'LSTM_input_gaussian_noise': 0.001, 'LSTM_conv1d': True, 'LSTM_conv1d_kernel_size': 3, 'LSTM_loss': 'mse', 'LSTM_transformer_before': False, 'LSTM_transformer_after': False, 'LSTM_tf_d_model': 0, 'LSTM_tf_nhead': 2, 'LSTM_tf_num_layers_before': 0, 'LSTM_tf_num_layers_after': 0, 'LSTM_tf_dim_feedforward': 8, 'LSTM_tf_dropout': 0.1, 'LSTM_tf_positional_encoding': True, 'LSTM_tf_pool': 'last', 'year_start': 2021, 'is_single_feature': False}\n",
            "2025-08-26 16:27:15,856 -   q2: 0.9900\n",
            "2025-08-26 16:27:15,871 -   Duration0: 0:00:51.293206\n",
            "2025-08-26 16:27:15,871 -   Val RMSE0 adjusted: 0.0066\n",
            "2025-08-26 16:27:15,873 -   Mean all prediction: 0.9993\n",
            "2025-08-26 16:27:15,873 -   Mean above prediction: 1.0048\n",
            "2025-08-26 16:27:15,873 -   Mean below prediction: 0.9977\n",
            "2025-08-26 16:27:15,873 -   Quantile 0.99 for distance in mask above: 834.7199999999993\n",
            "2025-08-26 16:27:15,873 -   Quantile 0.99 for distance in mask below: 878.6799999999985\n",
            "2025-08-26 16:27:15,873 -   Ratio for quantile-distance-to-length above: 0.0013\n",
            "2025-08-26 16:27:15,873 -   Ratio for quantile-distance-to-length below: 0.0013\n",
            "2025-08-26 16:27:15,873 -   Score: 1.0012\n"
          ]
        },
        {
          "name": "stderr",
          "output_type": "stream",
          "text": [
            "[I 2025-08-26 16:27:15,923] Trial 147 finished with value: 1.0011973340968072 and parameters: {'year_start': 2021, 'LoadupSamples_time_inc_factor': 61, 'LSTM_units': 32, 'LSTM_learning_rate': 0.0003632942337829254, 'LSTM_l1': 3.235028902765023e-05, 'LSTM_l2': 0.00012725510691100368, 'LSTM_dropout': 0.002321064031956945, 'LSTM_inter_dropout': 0.022822932376142965, 'LSTM_recurrent_dropout': 0.0013184189115482087}. Best is trial 38 with value: 1.0030939915675743.\n"
          ]
        },
        {
          "name": "stdout",
          "output_type": "stream",
          "text": [
            "2025-08-26 16:27:15,923 - Trial 147 finished with value: 1.0011973340968072 and parameters: {'year_start': 2021, 'LoadupSamples_time_inc_factor': 61, 'LSTM_units': 32, 'LSTM_learning_rate': 0.0003632942337829254, 'LSTM_l1': 3.235028902765023e-05, 'LSTM_l2': 0.00012725510691100368, 'LSTM_dropout': 0.002321064031956945, 'LSTM_inter_dropout': 0.022822932376142965, 'LSTM_recurrent_dropout': 0.0013184189115482087}. Best is trial 38 with value: 1.0030939915675743.\n",
            "2025-08-26 16:27:23,456 - Non-finite/too-large values in train y time: 48 samples.\n",
            "2025-08-26 16:27:23,456 - Removing 48 samples from training data.\n"
          ]
        },
        {
          "name": "stderr",
          "output_type": "stream",
          "text": [
            "Epochs:   0%|          | 0/2 [00:00<?, ?it/s]"
          ]
        },
        {
          "name": "stdout",
          "output_type": "stream",
          "text": [
            "2025-08-26 16:27:55,561 - Epoch 1/2 — Train RMSE: 0.4687 — Validation RMSE: 0.4021\n"
          ]
        },
        {
          "name": "stderr",
          "output_type": "stream",
          "text": [
            "Epochs:  50%|█████     | 1/2 [00:23<00:23, 23.64s/it]"
          ]
        },
        {
          "name": "stdout",
          "output_type": "stream",
          "text": [
            "2025-08-26 16:28:18,976 - Epoch 2/2 — Train RMSE: 0.4107 — Validation RMSE: 0.4020\n"
          ]
        },
        {
          "name": "stderr",
          "output_type": "stream",
          "text": [
            "Epochs: 100%|██████████| 2/2 [00:47<00:00, 23.53s/it]\n"
          ]
        },
        {
          "name": "stdout",
          "output_type": "stream",
          "text": [
            "2025-08-26 16:28:23,086 - Trial 148 with params: {'idxAfterPrediction': 4, 'timesteps': 75, 'target_option': 'last', 'LoadupSamples_time_scaling_stretch': True, 'LoadupSamples_time_inc_factor': 61, 'LSTM_units': 32, 'LSTM_num_layers': 1, 'LSTM_dropout': 0.005512648405931268, 'LSTM_recurrent_dropout': 0.0015273481678333021, 'LSTM_learning_rate': 0.0001750006018565777, 'LSTM_optimizer': 'adam', 'LSTM_bidirectional': True, 'LSTM_batch_size': 4096, 'LSTM_epochs': 2, 'LSTM_l1': 1.2889807439367525e-05, 'LSTM_l2': 0.00011987335163047602, 'LSTM_inter_dropout': 0.0116853288834341, 'LSTM_input_gaussian_noise': 0.001, 'LSTM_conv1d': True, 'LSTM_conv1d_kernel_size': 3, 'LSTM_loss': 'mse', 'LSTM_transformer_before': False, 'LSTM_transformer_after': False, 'LSTM_tf_d_model': 0, 'LSTM_tf_nhead': 2, 'LSTM_tf_num_layers_before': 0, 'LSTM_tf_num_layers_after': 0, 'LSTM_tf_dim_feedforward': 8, 'LSTM_tf_dropout': 0.1, 'LSTM_tf_positional_encoding': True, 'LSTM_tf_pool': 'last', 'year_start': 2021, 'is_single_feature': False}\n",
            "2025-08-26 16:28:23,086 -   q2: 0.9900\n",
            "2025-08-26 16:28:23,086 -   Duration0: 0:00:51.280758\n",
            "2025-08-26 16:28:23,086 -   Val RMSE0 adjusted: 0.0066\n",
            "2025-08-26 16:28:23,086 -   Mean all prediction: 0.9993\n",
            "2025-08-26 16:28:23,086 -   Mean above prediction: 1.0080\n",
            "2025-08-26 16:28:23,086 -   Mean below prediction: 0.9964\n",
            "2025-08-26 16:28:23,086 -   Quantile 0.99 for distance in mask above: 936.6399999999976\n",
            "2025-08-26 16:28:23,086 -   Quantile 0.99 for distance in mask below: 863.2399999999998\n",
            "2025-08-26 16:28:23,086 -   Ratio for quantile-distance-to-length above: 0.0014\n",
            "2025-08-26 16:28:23,086 -   Ratio for quantile-distance-to-length below: 0.0013\n",
            "2025-08-26 16:28:23,086 -   Score: 1.0020\n"
          ]
        },
        {
          "name": "stderr",
          "output_type": "stream",
          "text": [
            "[I 2025-08-26 16:28:23,151] Trial 148 finished with value: 1.001985347001196 and parameters: {'year_start': 2021, 'LoadupSamples_time_inc_factor': 61, 'LSTM_units': 32, 'LSTM_learning_rate': 0.0001750006018565777, 'LSTM_l1': 1.2889807439367525e-05, 'LSTM_l2': 0.00011987335163047602, 'LSTM_dropout': 0.005512648405931268, 'LSTM_inter_dropout': 0.0116853288834341, 'LSTM_recurrent_dropout': 0.0015273481678333021}. Best is trial 38 with value: 1.0030939915675743.\n"
          ]
        },
        {
          "name": "stdout",
          "output_type": "stream",
          "text": [
            "2025-08-26 16:28:23,151 - Trial 148 finished with value: 1.001985347001196 and parameters: {'year_start': 2021, 'LoadupSamples_time_inc_factor': 61, 'LSTM_units': 32, 'LSTM_learning_rate': 0.0001750006018565777, 'LSTM_l1': 1.2889807439367525e-05, 'LSTM_l2': 0.00011987335163047602, 'LSTM_dropout': 0.005512648405931268, 'LSTM_inter_dropout': 0.0116853288834341, 'LSTM_recurrent_dropout': 0.0015273481678333021}. Best is trial 38 with value: 1.0030939915675743.\n",
            "2025-08-26 16:28:30,704 - Non-finite/too-large values in train y time: 48 samples.\n",
            "2025-08-26 16:28:30,704 - Removing 48 samples from training data.\n"
          ]
        },
        {
          "name": "stderr",
          "output_type": "stream",
          "text": [
            "Epochs:   0%|          | 0/2 [00:00<?, ?it/s]"
          ]
        },
        {
          "name": "stdout",
          "output_type": "stream",
          "text": [
            "2025-08-26 16:29:02,688 - Epoch 1/2 — Train RMSE: 0.4371 — Validation RMSE: 0.4022\n"
          ]
        },
        {
          "name": "stderr",
          "output_type": "stream",
          "text": [
            "Epochs:  50%|█████     | 1/2 [00:23<00:23, 23.53s/it]"
          ]
        },
        {
          "name": "stdout",
          "output_type": "stream",
          "text": [
            "2025-08-26 16:29:26,105 - Epoch 2/2 — Train RMSE: 0.4113 — Validation RMSE: 0.4021\n"
          ]
        },
        {
          "name": "stderr",
          "output_type": "stream",
          "text": [
            "Epochs: 100%|██████████| 2/2 [00:46<00:00, 23.47s/it]\n"
          ]
        },
        {
          "name": "stdout",
          "output_type": "stream",
          "text": [
            "2025-08-26 16:29:30,213 - Trial 149 with params: {'idxAfterPrediction': 4, 'timesteps': 75, 'target_option': 'last', 'LoadupSamples_time_scaling_stretch': True, 'LoadupSamples_time_inc_factor': 61, 'LSTM_units': 32, 'LSTM_num_layers': 1, 'LSTM_dropout': 0.006455642548859833, 'LSTM_recurrent_dropout': 0.001067545667587183, 'LSTM_learning_rate': 0.0002067385474062183, 'LSTM_optimizer': 'adam', 'LSTM_bidirectional': True, 'LSTM_batch_size': 4096, 'LSTM_epochs': 2, 'LSTM_l1': 3.0476448458690692e-05, 'LSTM_l2': 0.0001891969796417627, 'LSTM_inter_dropout': 0.020209104545887507, 'LSTM_input_gaussian_noise': 0.001, 'LSTM_conv1d': True, 'LSTM_conv1d_kernel_size': 3, 'LSTM_loss': 'mse', 'LSTM_transformer_before': False, 'LSTM_transformer_after': False, 'LSTM_tf_d_model': 0, 'LSTM_tf_nhead': 2, 'LSTM_tf_num_layers_before': 0, 'LSTM_tf_num_layers_after': 0, 'LSTM_tf_dim_feedforward': 8, 'LSTM_tf_dropout': 0.1, 'LSTM_tf_positional_encoding': True, 'LSTM_tf_pool': 'last', 'year_start': 2021, 'is_single_feature': False}\n",
            "2025-08-26 16:29:30,215 -   q2: 0.9900\n",
            "2025-08-26 16:29:30,215 -   Duration0: 0:00:51.161292\n",
            "2025-08-26 16:29:30,215 -   Val RMSE0 adjusted: 0.0066\n",
            "2025-08-26 16:29:30,215 -   Mean all prediction: 0.9993\n",
            "2025-08-26 16:29:30,215 -   Mean above prediction: 1.0078\n",
            "2025-08-26 16:29:30,215 -   Mean below prediction: 0.9984\n",
            "2025-08-26 16:29:30,215 -   Quantile 0.99 for distance in mask above: 909.2399999999998\n",
            "2025-08-26 16:29:30,215 -   Quantile 0.99 for distance in mask below: 900.8799999999974\n",
            "2025-08-26 16:29:30,215 -   Ratio for quantile-distance-to-length above: 0.0014\n",
            "2025-08-26 16:29:30,215 -   Ratio for quantile-distance-to-length below: 0.0014\n",
            "2025-08-26 16:29:30,215 -   Score: 1.0019\n"
          ]
        },
        {
          "name": "stderr",
          "output_type": "stream",
          "text": [
            "[I 2025-08-26 16:29:30,271] Trial 149 finished with value: 1.0019496549910798 and parameters: {'year_start': 2021, 'LoadupSamples_time_inc_factor': 61, 'LSTM_units': 32, 'LSTM_learning_rate': 0.0002067385474062183, 'LSTM_l1': 3.0476448458690692e-05, 'LSTM_l2': 0.0001891969796417627, 'LSTM_dropout': 0.006455642548859833, 'LSTM_inter_dropout': 0.020209104545887507, 'LSTM_recurrent_dropout': 0.001067545667587183}. Best is trial 38 with value: 1.0030939915675743.\n"
          ]
        },
        {
          "name": "stdout",
          "output_type": "stream",
          "text": [
            "2025-08-26 16:29:30,271 - Trial 149 finished with value: 1.0019496549910798 and parameters: {'year_start': 2021, 'LoadupSamples_time_inc_factor': 61, 'LSTM_units': 32, 'LSTM_learning_rate': 0.0002067385474062183, 'LSTM_l1': 3.0476448458690692e-05, 'LSTM_l2': 0.0001891969796417627, 'LSTM_dropout': 0.006455642548859833, 'LSTM_inter_dropout': 0.020209104545887507, 'LSTM_recurrent_dropout': 0.001067545667587183}. Best is trial 38 with value: 1.0030939915675743.\n",
            "2025-08-26 16:29:37,781 - Non-finite/too-large values in train y time: 48 samples.\n",
            "2025-08-26 16:29:37,798 - Removing 48 samples from training data.\n"
          ]
        },
        {
          "name": "stderr",
          "output_type": "stream",
          "text": [
            "Epochs:   0%|          | 0/2 [00:00<?, ?it/s]"
          ]
        },
        {
          "name": "stdout",
          "output_type": "stream",
          "text": [
            "2025-08-26 16:30:09,934 - Epoch 1/2 — Train RMSE: 0.4336 — Validation RMSE: 0.4030\n"
          ]
        },
        {
          "name": "stderr",
          "output_type": "stream",
          "text": [
            "Epochs:  50%|█████     | 1/2 [00:23<00:23, 23.62s/it]"
          ]
        },
        {
          "name": "stdout",
          "output_type": "stream",
          "text": [
            "2025-08-26 16:30:33,402 - Epoch 2/2 — Train RMSE: 0.4119 — Validation RMSE: 0.4027\n"
          ]
        },
        {
          "name": "stderr",
          "output_type": "stream",
          "text": [
            "Epochs: 100%|██████████| 2/2 [00:47<00:00, 23.54s/it]\n"
          ]
        },
        {
          "name": "stdout",
          "output_type": "stream",
          "text": [
            "2025-08-26 16:30:37,465 - Trial 150 with params: {'idxAfterPrediction': 4, 'timesteps': 75, 'target_option': 'last', 'LoadupSamples_time_scaling_stretch': True, 'LoadupSamples_time_inc_factor': 61, 'LSTM_units': 32, 'LSTM_num_layers': 1, 'LSTM_dropout': 0.005040943541724989, 'LSTM_recurrent_dropout': 0.0011224792773725527, 'LSTM_learning_rate': 0.0003398373666183641, 'LSTM_optimizer': 'adam', 'LSTM_bidirectional': True, 'LSTM_batch_size': 4096, 'LSTM_epochs': 2, 'LSTM_l1': 1.0175049705936241e-05, 'LSTM_l2': 0.00014284427970831103, 'LSTM_inter_dropout': 0.01326573899983586, 'LSTM_input_gaussian_noise': 0.001, 'LSTM_conv1d': True, 'LSTM_conv1d_kernel_size': 3, 'LSTM_loss': 'mse', 'LSTM_transformer_before': False, 'LSTM_transformer_after': False, 'LSTM_tf_d_model': 0, 'LSTM_tf_nhead': 2, 'LSTM_tf_num_layers_before': 0, 'LSTM_tf_num_layers_after': 0, 'LSTM_tf_dim_feedforward': 8, 'LSTM_tf_dropout': 0.1, 'LSTM_tf_positional_encoding': True, 'LSTM_tf_pool': 'last', 'year_start': 2021, 'is_single_feature': False}\n",
            "2025-08-26 16:30:37,465 -   q2: 0.9900\n",
            "2025-08-26 16:30:37,465 -   Duration0: 0:00:51.247121\n",
            "2025-08-26 16:30:37,465 -   Val RMSE0 adjusted: 0.0066\n",
            "2025-08-26 16:30:37,465 -   Mean all prediction: 0.9993\n",
            "2025-08-26 16:30:37,465 -   Mean above prediction: 1.0055\n",
            "2025-08-26 16:30:37,465 -   Mean below prediction: 0.9981\n",
            "2025-08-26 16:30:37,465 -   Quantile 0.99 for distance in mask above: 834.7199999999993\n",
            "2025-08-26 16:30:37,477 -   Quantile 0.99 for distance in mask below: 913.159999999998\n",
            "2025-08-26 16:30:37,477 -   Ratio for quantile-distance-to-length above: 0.0013\n",
            "2025-08-26 16:30:37,477 -   Ratio for quantile-distance-to-length below: 0.0014\n",
            "2025-08-26 16:30:37,477 -   Score: 1.0014\n"
          ]
        },
        {
          "name": "stderr",
          "output_type": "stream",
          "text": [
            "[I 2025-08-26 16:30:37,528] Trial 150 finished with value: 1.0013785094168453 and parameters: {'year_start': 2021, 'LoadupSamples_time_inc_factor': 61, 'LSTM_units': 32, 'LSTM_learning_rate': 0.0003398373666183641, 'LSTM_l1': 1.0175049705936241e-05, 'LSTM_l2': 0.00014284427970831103, 'LSTM_dropout': 0.005040943541724989, 'LSTM_inter_dropout': 0.01326573899983586, 'LSTM_recurrent_dropout': 0.0011224792773725527}. Best is trial 38 with value: 1.0030939915675743.\n"
          ]
        },
        {
          "name": "stdout",
          "output_type": "stream",
          "text": [
            "2025-08-26 16:30:37,528 - Trial 150 finished with value: 1.0013785094168453 and parameters: {'year_start': 2021, 'LoadupSamples_time_inc_factor': 61, 'LSTM_units': 32, 'LSTM_learning_rate': 0.0003398373666183641, 'LSTM_l1': 1.0175049705936241e-05, 'LSTM_l2': 0.00014284427970831103, 'LSTM_dropout': 0.005040943541724989, 'LSTM_inter_dropout': 0.01326573899983586, 'LSTM_recurrent_dropout': 0.0011224792773725527}. Best is trial 38 with value: 1.0030939915675743.\n",
            "2025-08-26 16:30:46,648 - Non-finite/too-large values in train y time: 48 samples.\n",
            "2025-08-26 16:30:46,653 - Removing 48 samples from training data.\n"
          ]
        },
        {
          "name": "stderr",
          "output_type": "stream",
          "text": [
            "Epochs:   0%|          | 0/2 [00:00<?, ?it/s]"
          ]
        },
        {
          "name": "stdout",
          "output_type": "stream",
          "text": [
            "2025-08-26 16:31:26,434 - Epoch 1/2 — Train RMSE: 0.4383 — Validation RMSE: 0.4022\n"
          ]
        },
        {
          "name": "stderr",
          "output_type": "stream",
          "text": [
            "Epochs:  50%|█████     | 1/2 [00:29<00:29, 29.51s/it]"
          ]
        },
        {
          "name": "stdout",
          "output_type": "stream",
          "text": [
            "2025-08-26 16:31:55,898 - Epoch 2/2 — Train RMSE: 0.4160 — Validation RMSE: 0.4020\n"
          ]
        },
        {
          "name": "stderr",
          "output_type": "stream",
          "text": [
            "Epochs: 100%|██████████| 2/2 [00:58<00:00, 29.49s/it]\n"
          ]
        },
        {
          "name": "stdout",
          "output_type": "stream",
          "text": [
            "2025-08-26 16:31:59,995 - Trial 151 with params: {'idxAfterPrediction': 4, 'timesteps': 75, 'target_option': 'last', 'LoadupSamples_time_scaling_stretch': True, 'LoadupSamples_time_inc_factor': 61, 'LSTM_units': 32, 'LSTM_num_layers': 1, 'LSTM_dropout': 0.004557420934335374, 'LSTM_recurrent_dropout': 0.001217019837698826, 'LSTM_learning_rate': 0.00019278098412287315, 'LSTM_optimizer': 'adam', 'LSTM_bidirectional': True, 'LSTM_batch_size': 4096, 'LSTM_epochs': 2, 'LSTM_l1': 2.8876765181646563e-05, 'LSTM_l2': 0.00016167833890046176, 'LSTM_inter_dropout': 0.016348076288341097, 'LSTM_input_gaussian_noise': 0.001, 'LSTM_conv1d': True, 'LSTM_conv1d_kernel_size': 3, 'LSTM_loss': 'mse', 'LSTM_transformer_before': False, 'LSTM_transformer_after': False, 'LSTM_tf_d_model': 0, 'LSTM_tf_nhead': 2, 'LSTM_tf_num_layers_before': 0, 'LSTM_tf_num_layers_after': 0, 'LSTM_tf_dim_feedforward': 8, 'LSTM_tf_dropout': 0.1, 'LSTM_tf_positional_encoding': True, 'LSTM_tf_pool': 'last', 'year_start': 2020, 'is_single_feature': False}\n",
            "2025-08-26 16:31:59,995 -   q2: 0.9900\n",
            "2025-08-26 16:31:59,995 -   Duration0: 0:01:03.254106\n",
            "2025-08-26 16:31:59,995 -   Val RMSE0 adjusted: 0.0066\n",
            "2025-08-26 16:31:59,995 -   Mean all prediction: 0.9993\n",
            "2025-08-26 16:31:59,995 -   Mean above prediction: 1.0056\n",
            "2025-08-26 16:31:59,995 -   Mean below prediction: 0.9962\n",
            "2025-08-26 16:31:59,995 -   Quantile 0.99 for distance in mask above: 950.9599999999991\n",
            "2025-08-26 16:32:00,006 -   Quantile 0.99 for distance in mask below: 807.4399999999987\n",
            "2025-08-26 16:32:00,007 -   Ratio for quantile-distance-to-length above: 0.0014\n",
            "2025-08-26 16:32:00,007 -   Ratio for quantile-distance-to-length below: 0.0012\n",
            "2025-08-26 16:32:00,007 -   Score: 1.0014\n"
          ]
        },
        {
          "name": "stderr",
          "output_type": "stream",
          "text": [
            "[I 2025-08-26 16:32:00,064] Trial 151 finished with value: 1.0013931417922846 and parameters: {'year_start': 2020, 'LoadupSamples_time_inc_factor': 61, 'LSTM_units': 32, 'LSTM_learning_rate': 0.00019278098412287315, 'LSTM_l1': 2.8876765181646563e-05, 'LSTM_l2': 0.00016167833890046176, 'LSTM_dropout': 0.004557420934335374, 'LSTM_inter_dropout': 0.016348076288341097, 'LSTM_recurrent_dropout': 0.001217019837698826}. Best is trial 38 with value: 1.0030939915675743.\n"
          ]
        },
        {
          "name": "stdout",
          "output_type": "stream",
          "text": [
            "2025-08-26 16:32:00,064 - Trial 151 finished with value: 1.0013931417922846 and parameters: {'year_start': 2020, 'LoadupSamples_time_inc_factor': 61, 'LSTM_units': 32, 'LSTM_learning_rate': 0.00019278098412287315, 'LSTM_l1': 2.8876765181646563e-05, 'LSTM_l2': 0.00016167833890046176, 'LSTM_dropout': 0.004557420934335374, 'LSTM_inter_dropout': 0.016348076288341097, 'LSTM_recurrent_dropout': 0.001217019837698826}. Best is trial 38 with value: 1.0030939915675743.\n",
            "2025-08-26 16:32:09,191 - Non-finite/too-large values in train y time: 48 samples.\n",
            "2025-08-26 16:32:09,191 - Removing 48 samples from training data.\n"
          ]
        },
        {
          "name": "stderr",
          "output_type": "stream",
          "text": [
            "Epochs:   0%|          | 0/2 [00:00<?, ?it/s]"
          ]
        },
        {
          "name": "stdout",
          "output_type": "stream",
          "text": [
            "2025-08-26 16:32:49,213 - Epoch 1/2 — Train RMSE: 0.4473 — Validation RMSE: 0.4143\n"
          ]
        },
        {
          "name": "stderr",
          "output_type": "stream",
          "text": [
            "Epochs:  50%|█████     | 1/2 [00:29<00:29, 29.50s/it]"
          ]
        },
        {
          "name": "stdout",
          "output_type": "stream",
          "text": [
            "2025-08-26 16:33:18,995 - Epoch 2/2 — Train RMSE: 0.4269 — Validation RMSE: 0.4142\n"
          ]
        },
        {
          "name": "stderr",
          "output_type": "stream",
          "text": [
            "Epochs: 100%|██████████| 2/2 [00:59<00:00, 29.64s/it]\n"
          ]
        },
        {
          "name": "stdout",
          "output_type": "stream",
          "text": [
            "2025-08-26 16:33:23,104 - Trial 152 with params: {'idxAfterPrediction': 4, 'timesteps': 75, 'target_option': 'last', 'LoadupSamples_time_scaling_stretch': True, 'LoadupSamples_time_inc_factor': 71, 'LSTM_units': 32, 'LSTM_num_layers': 1, 'LSTM_dropout': 0.005180813740414654, 'LSTM_recurrent_dropout': 0.001269413811248129, 'LSTM_learning_rate': 0.00019891167335116844, 'LSTM_optimizer': 'adam', 'LSTM_bidirectional': True, 'LSTM_batch_size': 4096, 'LSTM_epochs': 2, 'LSTM_l1': 2.965604278117621e-05, 'LSTM_l2': 0.00011146387923610408, 'LSTM_inter_dropout': 0.01569236679802564, 'LSTM_input_gaussian_noise': 0.001, 'LSTM_conv1d': True, 'LSTM_conv1d_kernel_size': 3, 'LSTM_loss': 'mse', 'LSTM_transformer_before': False, 'LSTM_transformer_after': False, 'LSTM_tf_d_model': 0, 'LSTM_tf_nhead': 2, 'LSTM_tf_num_layers_before': 0, 'LSTM_tf_num_layers_after': 0, 'LSTM_tf_dim_feedforward': 8, 'LSTM_tf_dropout': 0.1, 'LSTM_tf_positional_encoding': True, 'LSTM_tf_pool': 'last', 'year_start': 2020, 'is_single_feature': False}\n",
            "2025-08-26 16:33:23,104 -   q2: 0.9900\n",
            "2025-08-26 16:33:23,104 -   Duration0: 0:01:03.524344\n",
            "2025-08-26 16:33:23,104 -   Val RMSE0 adjusted: 0.0058\n",
            "2025-08-26 16:33:23,120 -   Mean all prediction: 0.9993\n",
            "2025-08-26 16:33:23,120 -   Mean above prediction: 1.0102\n",
            "2025-08-26 16:33:23,120 -   Mean below prediction: 0.9969\n",
            "2025-08-26 16:33:23,120 -   Quantile 0.99 for distance in mask above: 1014.2399999999998\n",
            "2025-08-26 16:33:23,120 -   Quantile 0.99 for distance in mask below: 865.1999999999989\n",
            "2025-08-26 16:33:23,120 -   Ratio for quantile-distance-to-length above: 0.0015\n",
            "2025-08-26 16:33:23,120 -   Ratio for quantile-distance-to-length below: 0.0013\n",
            "2025-08-26 16:33:23,120 -   Score: 1.0026\n"
          ]
        },
        {
          "name": "stderr",
          "output_type": "stream",
          "text": [
            "[I 2025-08-26 16:33:23,189] Trial 152 finished with value: 1.0025506900445162 and parameters: {'year_start': 2020, 'LoadupSamples_time_inc_factor': 71, 'LSTM_units': 32, 'LSTM_learning_rate': 0.00019891167335116844, 'LSTM_l1': 2.965604278117621e-05, 'LSTM_l2': 0.00011146387923610408, 'LSTM_dropout': 0.005180813740414654, 'LSTM_inter_dropout': 0.01569236679802564, 'LSTM_recurrent_dropout': 0.001269413811248129}. Best is trial 38 with value: 1.0030939915675743.\n"
          ]
        },
        {
          "name": "stdout",
          "output_type": "stream",
          "text": [
            "2025-08-26 16:33:23,189 - Trial 152 finished with value: 1.0025506900445162 and parameters: {'year_start': 2020, 'LoadupSamples_time_inc_factor': 71, 'LSTM_units': 32, 'LSTM_learning_rate': 0.00019891167335116844, 'LSTM_l1': 2.965604278117621e-05, 'LSTM_l2': 0.00011146387923610408, 'LSTM_dropout': 0.005180813740414654, 'LSTM_inter_dropout': 0.01569236679802564, 'LSTM_recurrent_dropout': 0.001269413811248129}. Best is trial 38 with value: 1.0030939915675743.\n",
            "2025-08-26 16:33:32,293 - Non-finite/too-large values in train y time: 48 samples.\n",
            "2025-08-26 16:33:32,307 - Removing 48 samples from training data.\n"
          ]
        },
        {
          "name": "stderr",
          "output_type": "stream",
          "text": [
            "Epochs:   0%|          | 0/2 [00:00<?, ?it/s]"
          ]
        },
        {
          "name": "stdout",
          "output_type": "stream",
          "text": [
            "2025-08-26 16:34:12,260 - Epoch 1/2 — Train RMSE: 0.4406 — Validation RMSE: 0.4021\n"
          ]
        },
        {
          "name": "stderr",
          "output_type": "stream",
          "text": [
            "Epochs:  50%|█████     | 1/2 [00:29<00:29, 29.56s/it]"
          ]
        },
        {
          "name": "stdout",
          "output_type": "stream",
          "text": [
            "2025-08-26 16:34:41,758 - Epoch 2/2 — Train RMSE: 0.4161 — Validation RMSE: 0.4020\n"
          ]
        },
        {
          "name": "stderr",
          "output_type": "stream",
          "text": [
            "Epochs: 100%|██████████| 2/2 [00:59<00:00, 29.53s/it]\n"
          ]
        },
        {
          "name": "stdout",
          "output_type": "stream",
          "text": [
            "2025-08-26 16:34:45,800 - Trial 153 with params: {'idxAfterPrediction': 4, 'timesteps': 75, 'target_option': 'last', 'LoadupSamples_time_scaling_stretch': True, 'LoadupSamples_time_inc_factor': 61, 'LSTM_units': 32, 'LSTM_num_layers': 1, 'LSTM_dropout': 0.0048437120596149215, 'LSTM_recurrent_dropout': 0.0016335669018315273, 'LSTM_learning_rate': 0.00018260874900471858, 'LSTM_optimizer': 'adam', 'LSTM_bidirectional': True, 'LSTM_batch_size': 4096, 'LSTM_epochs': 2, 'LSTM_l1': 2.6554131867190717e-05, 'LSTM_l2': 0.00014972326073048325, 'LSTM_inter_dropout': 0.017100333830808574, 'LSTM_input_gaussian_noise': 0.001, 'LSTM_conv1d': True, 'LSTM_conv1d_kernel_size': 3, 'LSTM_loss': 'mse', 'LSTM_transformer_before': False, 'LSTM_transformer_after': False, 'LSTM_tf_d_model': 0, 'LSTM_tf_nhead': 2, 'LSTM_tf_num_layers_before': 0, 'LSTM_tf_num_layers_after': 0, 'LSTM_tf_dim_feedforward': 8, 'LSTM_tf_dropout': 0.1, 'LSTM_tf_positional_encoding': True, 'LSTM_tf_pool': 'last', 'year_start': 2020, 'is_single_feature': False}\n",
            "2025-08-26 16:34:45,800 -   q2: 0.9900\n",
            "2025-08-26 16:34:45,800 -   Duration0: 0:01:03.248798\n",
            "2025-08-26 16:34:45,800 -   Val RMSE0 adjusted: 0.0066\n",
            "2025-08-26 16:34:45,816 -   Mean all prediction: 0.9993\n",
            "2025-08-26 16:34:45,817 -   Mean above prediction: 1.0067\n",
            "2025-08-26 16:34:45,817 -   Mean below prediction: 0.9978\n",
            "2025-08-26 16:34:45,817 -   Quantile 0.99 for distance in mask above: 857.159999999998\n",
            "2025-08-26 16:34:45,817 -   Quantile 0.99 for distance in mask below: 863.0399999999954\n",
            "2025-08-26 16:34:45,817 -   Ratio for quantile-distance-to-length above: 0.0013\n",
            "2025-08-26 16:34:45,817 -   Ratio for quantile-distance-to-length below: 0.0013\n",
            "2025-08-26 16:34:45,817 -   Score: 1.0017\n"
          ]
        },
        {
          "name": "stderr",
          "output_type": "stream",
          "text": [
            "[I 2025-08-26 16:34:45,884] Trial 153 finished with value: 1.0016638257588906 and parameters: {'year_start': 2020, 'LoadupSamples_time_inc_factor': 61, 'LSTM_units': 32, 'LSTM_learning_rate': 0.00018260874900471858, 'LSTM_l1': 2.6554131867190717e-05, 'LSTM_l2': 0.00014972326073048325, 'LSTM_dropout': 0.0048437120596149215, 'LSTM_inter_dropout': 0.017100333830808574, 'LSTM_recurrent_dropout': 0.0016335669018315273}. Best is trial 38 with value: 1.0030939915675743.\n"
          ]
        },
        {
          "name": "stdout",
          "output_type": "stream",
          "text": [
            "2025-08-26 16:34:45,884 - Trial 153 finished with value: 1.0016638257588906 and parameters: {'year_start': 2020, 'LoadupSamples_time_inc_factor': 61, 'LSTM_units': 32, 'LSTM_learning_rate': 0.00018260874900471858, 'LSTM_l1': 2.6554131867190717e-05, 'LSTM_l2': 0.00014972326073048325, 'LSTM_dropout': 0.0048437120596149215, 'LSTM_inter_dropout': 0.017100333830808574, 'LSTM_recurrent_dropout': 0.0016335669018315273}. Best is trial 38 with value: 1.0030939915675743.\n",
            "2025-08-26 16:34:55,090 - Non-finite/too-large values in train y time: 48 samples.\n",
            "2025-08-26 16:34:55,104 - Removing 48 samples from training data.\n"
          ]
        },
        {
          "name": "stderr",
          "output_type": "stream",
          "text": [
            "Epochs:   0%|          | 0/2 [00:00<?, ?it/s]"
          ]
        },
        {
          "name": "stdout",
          "output_type": "stream",
          "text": [
            "2025-08-26 16:35:35,140 - Epoch 1/2 — Train RMSE: 0.4283 — Validation RMSE: 0.4020\n"
          ]
        },
        {
          "name": "stderr",
          "output_type": "stream",
          "text": [
            "Epochs:  50%|█████     | 1/2 [00:29<00:29, 29.65s/it]"
          ]
        },
        {
          "name": "stdout",
          "output_type": "stream",
          "text": [
            "2025-08-26 16:36:04,589 - Epoch 2/2 — Train RMSE: 0.4160 — Validation RMSE: 0.4020\n"
          ]
        },
        {
          "name": "stderr",
          "output_type": "stream",
          "text": [
            "Epochs: 100%|██████████| 2/2 [00:59<00:00, 29.55s/it]\n"
          ]
        },
        {
          "name": "stdout",
          "output_type": "stream",
          "text": [
            "2025-08-26 16:36:08,632 - Trial 154 with params: {'idxAfterPrediction': 4, 'timesteps': 75, 'target_option': 'last', 'LoadupSamples_time_scaling_stretch': True, 'LoadupSamples_time_inc_factor': 61, 'LSTM_units': 32, 'LSTM_num_layers': 1, 'LSTM_dropout': 0.006032964525833554, 'LSTM_recurrent_dropout': 0.0014130910708712845, 'LSTM_learning_rate': 0.00020653201606450527, 'LSTM_optimizer': 'adam', 'LSTM_bidirectional': True, 'LSTM_batch_size': 4096, 'LSTM_epochs': 2, 'LSTM_l1': 2.5615232129766202e-05, 'LSTM_l2': 0.00013605612320210614, 'LSTM_inter_dropout': 0.015201772957279036, 'LSTM_input_gaussian_noise': 0.001, 'LSTM_conv1d': True, 'LSTM_conv1d_kernel_size': 3, 'LSTM_loss': 'mse', 'LSTM_transformer_before': False, 'LSTM_transformer_after': False, 'LSTM_tf_d_model': 0, 'LSTM_tf_nhead': 2, 'LSTM_tf_num_layers_before': 0, 'LSTM_tf_num_layers_after': 0, 'LSTM_tf_dim_feedforward': 8, 'LSTM_tf_dropout': 0.1, 'LSTM_tf_positional_encoding': True, 'LSTM_tf_pool': 'last', 'year_start': 2020, 'is_single_feature': False}\n",
            "2025-08-26 16:36:08,633 -   q2: 0.9900\n",
            "2025-08-26 16:36:08,633 -   Duration0: 0:01:03.271121\n",
            "2025-08-26 16:36:08,633 -   Val RMSE0 adjusted: 0.0066\n",
            "2025-08-26 16:36:08,633 -   Mean all prediction: 0.9993\n",
            "2025-08-26 16:36:08,633 -   Mean above prediction: 1.0055\n",
            "2025-08-26 16:36:08,633 -   Mean below prediction: 0.9979\n",
            "2025-08-26 16:36:08,633 -   Quantile 0.99 for distance in mask above: 848.159999999998\n",
            "2025-08-26 16:36:08,633 -   Quantile 0.99 for distance in mask below: 897.3199999999961\n",
            "2025-08-26 16:36:08,633 -   Ratio for quantile-distance-to-length above: 0.0013\n",
            "2025-08-26 16:36:08,633 -   Ratio for quantile-distance-to-length below: 0.0014\n",
            "2025-08-26 16:36:08,633 -   Score: 1.0014\n"
          ]
        },
        {
          "name": "stderr",
          "output_type": "stream",
          "text": [
            "[I 2025-08-26 16:36:08,701] Trial 154 finished with value: 1.0013813882254832 and parameters: {'year_start': 2020, 'LoadupSamples_time_inc_factor': 61, 'LSTM_units': 32, 'LSTM_learning_rate': 0.00020653201606450527, 'LSTM_l1': 2.5615232129766202e-05, 'LSTM_l2': 0.00013605612320210614, 'LSTM_dropout': 0.006032964525833554, 'LSTM_inter_dropout': 0.015201772957279036, 'LSTM_recurrent_dropout': 0.0014130910708712845}. Best is trial 38 with value: 1.0030939915675743.\n"
          ]
        },
        {
          "name": "stdout",
          "output_type": "stream",
          "text": [
            "2025-08-26 16:36:08,701 - Trial 154 finished with value: 1.0013813882254832 and parameters: {'year_start': 2020, 'LoadupSamples_time_inc_factor': 61, 'LSTM_units': 32, 'LSTM_learning_rate': 0.00020653201606450527, 'LSTM_l1': 2.5615232129766202e-05, 'LSTM_l2': 0.00013605612320210614, 'LSTM_dropout': 0.006032964525833554, 'LSTM_inter_dropout': 0.015201772957279036, 'LSTM_recurrent_dropout': 0.0014130910708712845}. Best is trial 38 with value: 1.0030939915675743.\n",
            "2025-08-26 16:36:17,866 - Non-finite/too-large values in train y time: 48 samples.\n",
            "2025-08-26 16:36:17,866 - Removing 48 samples from training data.\n"
          ]
        },
        {
          "name": "stderr",
          "output_type": "stream",
          "text": [
            "Epochs:   0%|          | 0/2 [00:00<?, ?it/s]"
          ]
        },
        {
          "name": "stdout",
          "output_type": "stream",
          "text": [
            "2025-08-26 16:36:57,753 - Epoch 1/2 — Train RMSE: 0.4412 — Validation RMSE: 0.4022\n"
          ]
        },
        {
          "name": "stderr",
          "output_type": "stream",
          "text": [
            "Epochs:  50%|█████     | 1/2 [00:29<00:29, 29.51s/it]"
          ]
        },
        {
          "name": "stdout",
          "output_type": "stream",
          "text": [
            "2025-08-26 16:37:27,167 - Epoch 2/2 — Train RMSE: 0.4164 — Validation RMSE: 0.4020\n"
          ]
        },
        {
          "name": "stderr",
          "output_type": "stream",
          "text": [
            "Epochs: 100%|██████████| 2/2 [00:58<00:00, 29.47s/it]\n"
          ]
        },
        {
          "name": "stdout",
          "output_type": "stream",
          "text": [
            "2025-08-26 16:37:31,226 - Trial 155 with params: {'idxAfterPrediction': 4, 'timesteps': 75, 'target_option': 'last', 'LoadupSamples_time_scaling_stretch': True, 'LoadupSamples_time_inc_factor': 61, 'LSTM_units': 32, 'LSTM_num_layers': 1, 'LSTM_dropout': 0.0042094149192836, 'LSTM_recurrent_dropout': 0.002009681405724923, 'LSTM_learning_rate': 0.0002135146903295505, 'LSTM_optimizer': 'adam', 'LSTM_bidirectional': True, 'LSTM_batch_size': 4096, 'LSTM_epochs': 2, 'LSTM_l1': 2.3145115989109365e-05, 'LSTM_l2': 0.00010054699792165965, 'LSTM_inter_dropout': 0.012319095306631783, 'LSTM_input_gaussian_noise': 0.001, 'LSTM_conv1d': True, 'LSTM_conv1d_kernel_size': 3, 'LSTM_loss': 'mse', 'LSTM_transformer_before': False, 'LSTM_transformer_after': False, 'LSTM_tf_d_model': 0, 'LSTM_tf_nhead': 2, 'LSTM_tf_num_layers_before': 0, 'LSTM_tf_num_layers_after': 0, 'LSTM_tf_dim_feedforward': 8, 'LSTM_tf_dropout': 0.1, 'LSTM_tf_positional_encoding': True, 'LSTM_tf_pool': 'last', 'year_start': 2020, 'is_single_feature': False}\n",
            "2025-08-26 16:37:31,226 -   q2: 0.9900\n",
            "2025-08-26 16:37:31,226 -   Duration0: 0:01:03.120366\n",
            "2025-08-26 16:37:31,226 -   Val RMSE0 adjusted: 0.0066\n",
            "2025-08-26 16:37:31,226 -   Mean all prediction: 0.9993\n",
            "2025-08-26 16:37:31,226 -   Mean above prediction: 1.0075\n",
            "2025-08-26 16:37:31,226 -   Mean below prediction: 0.9961\n",
            "2025-08-26 16:37:31,226 -   Quantile 0.99 for distance in mask above: 956.8799999999974\n",
            "2025-08-26 16:37:31,241 -   Quantile 0.99 for distance in mask below: 917.2399999999998\n",
            "2025-08-26 16:37:31,243 -   Ratio for quantile-distance-to-length above: 0.0015\n",
            "2025-08-26 16:37:31,243 -   Ratio for quantile-distance-to-length below: 0.0014\n",
            "2025-08-26 16:37:31,243 -   Score: 1.0019\n"
          ]
        },
        {
          "name": "stderr",
          "output_type": "stream",
          "text": [
            "[I 2025-08-26 16:37:31,297] Trial 155 finished with value: 1.0018594034945036 and parameters: {'year_start': 2020, 'LoadupSamples_time_inc_factor': 61, 'LSTM_units': 32, 'LSTM_learning_rate': 0.0002135146903295505, 'LSTM_l1': 2.3145115989109365e-05, 'LSTM_l2': 0.00010054699792165965, 'LSTM_dropout': 0.0042094149192836, 'LSTM_inter_dropout': 0.012319095306631783, 'LSTM_recurrent_dropout': 0.002009681405724923}. Best is trial 38 with value: 1.0030939915675743.\n"
          ]
        },
        {
          "name": "stdout",
          "output_type": "stream",
          "text": [
            "2025-08-26 16:37:31,297 - Trial 155 finished with value: 1.0018594034945036 and parameters: {'year_start': 2020, 'LoadupSamples_time_inc_factor': 61, 'LSTM_units': 32, 'LSTM_learning_rate': 0.0002135146903295505, 'LSTM_l1': 2.3145115989109365e-05, 'LSTM_l2': 0.00010054699792165965, 'LSTM_dropout': 0.0042094149192836, 'LSTM_inter_dropout': 0.012319095306631783, 'LSTM_recurrent_dropout': 0.002009681405724923}. Best is trial 38 with value: 1.0030939915675743.\n",
            "2025-08-26 16:37:40,446 - Non-finite/too-large values in train y time: 48 samples.\n",
            "2025-08-26 16:37:40,446 - Removing 48 samples from training data.\n"
          ]
        },
        {
          "name": "stderr",
          "output_type": "stream",
          "text": [
            "Epochs:   0%|          | 0/2 [00:00<?, ?it/s]"
          ]
        },
        {
          "name": "stdout",
          "output_type": "stream",
          "text": [
            "2025-08-26 16:38:20,516 - Epoch 1/2 — Train RMSE: 0.4312 — Validation RMSE: 0.4027\n"
          ]
        },
        {
          "name": "stderr",
          "output_type": "stream",
          "text": [
            "Epochs:  50%|█████     | 1/2 [00:29<00:29, 29.60s/it]"
          ]
        },
        {
          "name": "stdout",
          "output_type": "stream",
          "text": [
            "2025-08-26 16:38:49,847 - Epoch 2/2 — Train RMSE: 0.4173 — Validation RMSE: 0.4024\n"
          ]
        },
        {
          "name": "stderr",
          "output_type": "stream",
          "text": [
            "Epochs: 100%|██████████| 2/2 [00:58<00:00, 29.46s/it]\n"
          ]
        },
        {
          "name": "stdout",
          "output_type": "stream",
          "text": [
            "2025-08-26 16:38:53,894 - Trial 156 with params: {'idxAfterPrediction': 4, 'timesteps': 75, 'target_option': 'last', 'LoadupSamples_time_scaling_stretch': True, 'LoadupSamples_time_inc_factor': 61, 'LSTM_units': 32, 'LSTM_num_layers': 1, 'LSTM_dropout': 0.005595331532533617, 'LSTM_recurrent_dropout': 0.001351902877902788, 'LSTM_learning_rate': 0.00030284545461232494, 'LSTM_optimizer': 'adam', 'LSTM_bidirectional': True, 'LSTM_batch_size': 4096, 'LSTM_epochs': 2, 'LSTM_l1': 1.385367630384018e-05, 'LSTM_l2': 0.00017596103182906074, 'LSTM_inter_dropout': 0.0144730763294408, 'LSTM_input_gaussian_noise': 0.001, 'LSTM_conv1d': True, 'LSTM_conv1d_kernel_size': 3, 'LSTM_loss': 'mse', 'LSTM_transformer_before': False, 'LSTM_transformer_after': False, 'LSTM_tf_d_model': 0, 'LSTM_tf_nhead': 2, 'LSTM_tf_num_layers_before': 0, 'LSTM_tf_num_layers_after': 0, 'LSTM_tf_dim_feedforward': 8, 'LSTM_tf_dropout': 0.1, 'LSTM_tf_positional_encoding': True, 'LSTM_tf_pool': 'last', 'year_start': 2020, 'is_single_feature': False}\n",
            "2025-08-26 16:38:53,894 -   q2: 0.9900\n",
            "2025-08-26 16:38:53,894 -   Duration0: 0:01:03.085187\n",
            "2025-08-26 16:38:53,894 -   Val RMSE0 adjusted: 0.0066\n",
            "2025-08-26 16:38:53,894 -   Mean all prediction: 0.9993\n",
            "2025-08-26 16:38:53,894 -   Mean above prediction: 1.0097\n",
            "2025-08-26 16:38:53,894 -   Mean below prediction: 0.9963\n",
            "2025-08-26 16:38:53,894 -   Quantile 0.99 for distance in mask above: 1001.6899999999987\n",
            "2025-08-26 16:38:53,905 -   Quantile 0.99 for distance in mask below: 817.359999999997\n",
            "2025-08-26 16:38:53,906 -   Ratio for quantile-distance-to-length above: 0.0015\n",
            "2025-08-26 16:38:53,906 -   Ratio for quantile-distance-to-length below: 0.0012\n",
            "2025-08-26 16:38:53,906 -   Score: 1.0024\n"
          ]
        },
        {
          "name": "stderr",
          "output_type": "stream",
          "text": [
            "[I 2025-08-26 16:38:53,964] Trial 156 finished with value: 1.002404083756169 and parameters: {'year_start': 2020, 'LoadupSamples_time_inc_factor': 61, 'LSTM_units': 32, 'LSTM_learning_rate': 0.00030284545461232494, 'LSTM_l1': 1.385367630384018e-05, 'LSTM_l2': 0.00017596103182906074, 'LSTM_dropout': 0.005595331532533617, 'LSTM_inter_dropout': 0.0144730763294408, 'LSTM_recurrent_dropout': 0.001351902877902788}. Best is trial 38 with value: 1.0030939915675743.\n"
          ]
        },
        {
          "name": "stdout",
          "output_type": "stream",
          "text": [
            "2025-08-26 16:38:53,964 - Trial 156 finished with value: 1.002404083756169 and parameters: {'year_start': 2020, 'LoadupSamples_time_inc_factor': 61, 'LSTM_units': 32, 'LSTM_learning_rate': 0.00030284545461232494, 'LSTM_l1': 1.385367630384018e-05, 'LSTM_l2': 0.00017596103182906074, 'LSTM_dropout': 0.005595331532533617, 'LSTM_inter_dropout': 0.0144730763294408, 'LSTM_recurrent_dropout': 0.001351902877902788}. Best is trial 38 with value: 1.0030939915675743.\n",
            "2025-08-26 16:39:01,491 - Non-finite/too-large values in train y time: 48 samples.\n",
            "2025-08-26 16:39:01,491 - Removing 48 samples from training data.\n"
          ]
        },
        {
          "name": "stderr",
          "output_type": "stream",
          "text": [
            "Epochs:   0%|          | 0/2 [00:00<?, ?it/s]"
          ]
        },
        {
          "name": "stdout",
          "output_type": "stream",
          "text": [
            "2025-08-26 16:39:33,575 - Epoch 1/2 — Train RMSE: 0.4689 — Validation RMSE: 0.4023\n"
          ]
        },
        {
          "name": "stderr",
          "output_type": "stream",
          "text": [
            "Epochs:  50%|█████     | 1/2 [00:23<00:23, 23.58s/it]"
          ]
        },
        {
          "name": "stdout",
          "output_type": "stream",
          "text": [
            "2025-08-26 16:39:57,009 - Epoch 2/2 — Train RMSE: 0.4111 — Validation RMSE: 0.4021\n"
          ]
        },
        {
          "name": "stderr",
          "output_type": "stream",
          "text": [
            "Epochs: 100%|██████████| 2/2 [00:47<00:00, 23.51s/it]\n"
          ]
        },
        {
          "name": "stdout",
          "output_type": "stream",
          "text": [
            "2025-08-26 16:40:01,134 - Trial 157 with params: {'idxAfterPrediction': 4, 'timesteps': 75, 'target_option': 'last', 'LoadupSamples_time_scaling_stretch': True, 'LoadupSamples_time_inc_factor': 61, 'LSTM_units': 32, 'LSTM_num_layers': 1, 'LSTM_dropout': 0.001203037774266474, 'LSTM_recurrent_dropout': 0.003553348881023838, 'LSTM_learning_rate': 0.00019808698388567715, 'LSTM_optimizer': 'adam', 'LSTM_bidirectional': True, 'LSTM_batch_size': 4096, 'LSTM_epochs': 2, 'LSTM_l1': 2.7625354804166255e-05, 'LSTM_l2': 0.00011962299966890137, 'LSTM_inter_dropout': 0.011136291703313535, 'LSTM_input_gaussian_noise': 0.001, 'LSTM_conv1d': True, 'LSTM_conv1d_kernel_size': 3, 'LSTM_loss': 'mse', 'LSTM_transformer_before': False, 'LSTM_transformer_after': False, 'LSTM_tf_d_model': 0, 'LSTM_tf_nhead': 2, 'LSTM_tf_num_layers_before': 0, 'LSTM_tf_num_layers_after': 0, 'LSTM_tf_dim_feedforward': 8, 'LSTM_tf_dropout': 0.1, 'LSTM_tf_positional_encoding': True, 'LSTM_tf_pool': 'last', 'year_start': 2021, 'is_single_feature': False}\n",
            "2025-08-26 16:40:01,135 -   q2: 0.9900\n",
            "2025-08-26 16:40:01,135 -   Duration0: 0:00:51.241678\n",
            "2025-08-26 16:40:01,135 -   Val RMSE0 adjusted: 0.0066\n",
            "2025-08-26 16:40:01,135 -   Mean all prediction: 0.9993\n",
            "2025-08-26 16:40:01,135 -   Mean above prediction: 1.0072\n",
            "2025-08-26 16:40:01,135 -   Mean below prediction: 0.9940\n",
            "2025-08-26 16:40:01,135 -   Quantile 0.99 for distance in mask above: 930.679999999993\n",
            "2025-08-26 16:40:01,135 -   Quantile 0.99 for distance in mask below: 683.9199999999983\n",
            "2025-08-26 16:40:01,135 -   Ratio for quantile-distance-to-length above: 0.0014\n",
            "2025-08-26 16:40:01,135 -   Ratio for quantile-distance-to-length below: 0.0010\n",
            "2025-08-26 16:40:01,135 -   Score: 1.0018\n"
          ]
        },
        {
          "name": "stderr",
          "output_type": "stream",
          "text": [
            "[I 2025-08-26 16:40:01,197] Trial 157 finished with value: 1.0017934085578606 and parameters: {'year_start': 2021, 'LoadupSamples_time_inc_factor': 61, 'LSTM_units': 32, 'LSTM_learning_rate': 0.00019808698388567715, 'LSTM_l1': 2.7625354804166255e-05, 'LSTM_l2': 0.00011962299966890137, 'LSTM_dropout': 0.001203037774266474, 'LSTM_inter_dropout': 0.011136291703313535, 'LSTM_recurrent_dropout': 0.003553348881023838}. Best is trial 38 with value: 1.0030939915675743.\n"
          ]
        },
        {
          "name": "stdout",
          "output_type": "stream",
          "text": [
            "2025-08-26 16:40:01,197 - Trial 157 finished with value: 1.0017934085578606 and parameters: {'year_start': 2021, 'LoadupSamples_time_inc_factor': 61, 'LSTM_units': 32, 'LSTM_learning_rate': 0.00019808698388567715, 'LSTM_l1': 2.7625354804166255e-05, 'LSTM_l2': 0.00011962299966890137, 'LSTM_dropout': 0.001203037774266474, 'LSTM_inter_dropout': 0.011136291703313535, 'LSTM_recurrent_dropout': 0.003553348881023838}. Best is trial 38 with value: 1.0030939915675743.\n",
            "2025-08-26 16:40:10,321 - Non-finite/too-large values in train y time: 48 samples.\n",
            "2025-08-26 16:40:10,321 - Removing 48 samples from training data.\n"
          ]
        },
        {
          "name": "stderr",
          "output_type": "stream",
          "text": [
            "Epochs:   0%|          | 0/2 [00:00<?, ?it/s]"
          ]
        },
        {
          "name": "stdout",
          "output_type": "stream",
          "text": [
            "2025-08-26 16:40:50,275 - Epoch 1/2 — Train RMSE: 0.4446 — Validation RMSE: 0.4020\n"
          ]
        },
        {
          "name": "stderr",
          "output_type": "stream",
          "text": [
            "Epochs:  50%|█████     | 1/2 [00:29<00:29, 29.61s/it]"
          ]
        },
        {
          "name": "stdout",
          "output_type": "stream",
          "text": [
            "2025-08-26 16:41:19,789 - Epoch 2/2 — Train RMSE: 0.4161 — Validation RMSE: 0.4020\n"
          ]
        },
        {
          "name": "stderr",
          "output_type": "stream",
          "text": [
            "Epochs: 100%|██████████| 2/2 [00:59<00:00, 29.57s/it]\n"
          ]
        },
        {
          "name": "stdout",
          "output_type": "stream",
          "text": [
            "2025-08-26 16:41:23,847 - Trial 158 with params: {'idxAfterPrediction': 4, 'timesteps': 75, 'target_option': 'last', 'LoadupSamples_time_scaling_stretch': True, 'LoadupSamples_time_inc_factor': 61, 'LSTM_units': 32, 'LSTM_num_layers': 1, 'LSTM_dropout': 0.004851958923733897, 'LSTM_recurrent_dropout': 0.0011443704678803515, 'LSTM_learning_rate': 0.0001894723049179675, 'LSTM_optimizer': 'adam', 'LSTM_bidirectional': True, 'LSTM_batch_size': 4096, 'LSTM_epochs': 2, 'LSTM_l1': 5.5997035723801764e-05, 'LSTM_l2': 0.00013062042635290198, 'LSTM_inter_dropout': 0.01796394629082148, 'LSTM_input_gaussian_noise': 0.001, 'LSTM_conv1d': True, 'LSTM_conv1d_kernel_size': 3, 'LSTM_loss': 'mse', 'LSTM_transformer_before': False, 'LSTM_transformer_after': False, 'LSTM_tf_d_model': 0, 'LSTM_tf_nhead': 2, 'LSTM_tf_num_layers_before': 0, 'LSTM_tf_num_layers_after': 0, 'LSTM_tf_dim_feedforward': 8, 'LSTM_tf_dropout': 0.1, 'LSTM_tf_positional_encoding': True, 'LSTM_tf_pool': 'last', 'year_start': 2020, 'is_single_feature': False}\n",
            "2025-08-26 16:41:23,848 -   q2: 0.9900\n",
            "2025-08-26 16:41:23,848 -   Duration0: 0:01:03.338000\n",
            "2025-08-26 16:41:23,849 -   Val RMSE0 adjusted: 0.0066\n",
            "2025-08-26 16:41:23,852 -   Mean all prediction: 0.9993\n",
            "2025-08-26 16:41:23,852 -   Mean above prediction: 1.0103\n",
            "2025-08-26 16:41:23,852 -   Mean below prediction: 0.9973\n",
            "2025-08-26 16:41:23,852 -   Quantile 0.99 for distance in mask above: 972.1999999999989\n",
            "2025-08-26 16:41:23,852 -   Quantile 0.99 for distance in mask below: 886.9599999999991\n",
            "2025-08-26 16:41:23,852 -   Ratio for quantile-distance-to-length above: 0.0015\n",
            "2025-08-26 16:41:23,852 -   Ratio for quantile-distance-to-length below: 0.0013\n",
            "2025-08-26 16:41:23,852 -   Score: 1.0026\n"
          ]
        },
        {
          "name": "stderr",
          "output_type": "stream",
          "text": [
            "[I 2025-08-26 16:41:23,926] Trial 158 finished with value: 1.0025645912892176 and parameters: {'year_start': 2020, 'LoadupSamples_time_inc_factor': 61, 'LSTM_units': 32, 'LSTM_learning_rate': 0.0001894723049179675, 'LSTM_l1': 5.5997035723801764e-05, 'LSTM_l2': 0.00013062042635290198, 'LSTM_dropout': 0.004851958923733897, 'LSTM_inter_dropout': 0.01796394629082148, 'LSTM_recurrent_dropout': 0.0011443704678803515}. Best is trial 38 with value: 1.0030939915675743.\n"
          ]
        },
        {
          "name": "stdout",
          "output_type": "stream",
          "text": [
            "2025-08-26 16:41:23,926 - Trial 158 finished with value: 1.0025645912892176 and parameters: {'year_start': 2020, 'LoadupSamples_time_inc_factor': 61, 'LSTM_units': 32, 'LSTM_learning_rate': 0.0001894723049179675, 'LSTM_l1': 5.5997035723801764e-05, 'LSTM_l2': 0.00013062042635290198, 'LSTM_dropout': 0.004851958923733897, 'LSTM_inter_dropout': 0.01796394629082148, 'LSTM_recurrent_dropout': 0.0011443704678803515}. Best is trial 38 with value: 1.0030939915675743.\n",
            "2025-08-26 16:41:31,448 - Non-finite/too-large values in train y time: 48 samples.\n",
            "2025-08-26 16:41:31,448 - Removing 48 samples from training data.\n"
          ]
        },
        {
          "name": "stderr",
          "output_type": "stream",
          "text": [
            "Epochs:   0%|          | 0/2 [00:00<?, ?it/s]"
          ]
        },
        {
          "name": "stdout",
          "output_type": "stream",
          "text": [
            "2025-08-26 16:42:03,450 - Epoch 1/2 — Train RMSE: 0.4341 — Validation RMSE: 0.4023\n"
          ]
        },
        {
          "name": "stderr",
          "output_type": "stream",
          "text": [
            "Epochs:  50%|█████     | 1/2 [00:23<00:23, 23.65s/it]"
          ]
        },
        {
          "name": "stdout",
          "output_type": "stream",
          "text": [
            "2025-08-26 16:42:26,835 - Epoch 2/2 — Train RMSE: 0.4113 — Validation RMSE: 0.4022\n"
          ]
        },
        {
          "name": "stderr",
          "output_type": "stream",
          "text": [
            "Epochs: 100%|██████████| 2/2 [00:47<00:00, 23.52s/it]\n"
          ]
        },
        {
          "name": "stdout",
          "output_type": "stream",
          "text": [
            "2025-08-26 16:42:30,810 - Trial 159 with params: {'idxAfterPrediction': 4, 'timesteps': 75, 'target_option': 'last', 'LoadupSamples_time_scaling_stretch': True, 'LoadupSamples_time_inc_factor': 61, 'LSTM_units': 32, 'LSTM_num_layers': 1, 'LSTM_dropout': 0.009422083427003089, 'LSTM_recurrent_dropout': 0.0012430964120954608, 'LSTM_learning_rate': 0.0002211995952237898, 'LSTM_optimizer': 'adam', 'LSTM_bidirectional': True, 'LSTM_batch_size': 4096, 'LSTM_epochs': 2, 'LSTM_l1': 2.877275052049679e-05, 'LSTM_l2': 0.00010920657835454648, 'LSTM_inter_dropout': 0.021225524262971907, 'LSTM_input_gaussian_noise': 0.001, 'LSTM_conv1d': True, 'LSTM_conv1d_kernel_size': 3, 'LSTM_loss': 'mse', 'LSTM_transformer_before': False, 'LSTM_transformer_after': False, 'LSTM_tf_d_model': 0, 'LSTM_tf_nhead': 2, 'LSTM_tf_num_layers_before': 0, 'LSTM_tf_num_layers_after': 0, 'LSTM_tf_dim_feedforward': 8, 'LSTM_tf_dropout': 0.1, 'LSTM_tf_positional_encoding': True, 'LSTM_tf_pool': 'last', 'year_start': 2021, 'is_single_feature': False}\n",
            "2025-08-26 16:42:30,810 -   q2: 0.9900\n",
            "2025-08-26 16:42:30,810 -   Duration0: 0:00:51.130651\n",
            "2025-08-26 16:42:30,810 -   Val RMSE0 adjusted: 0.0066\n",
            "2025-08-26 16:42:30,810 -   Mean all prediction: 0.9993\n",
            "2025-08-26 16:42:30,810 -   Mean above prediction: 1.0060\n",
            "2025-08-26 16:42:30,810 -   Mean below prediction: 0.9960\n",
            "2025-08-26 16:42:30,810 -   Quantile 0.99 for distance in mask above: 963.7199999999993\n",
            "2025-08-26 16:42:30,825 -   Quantile 0.99 for distance in mask below: 861.2399999999998\n",
            "2025-08-26 16:42:30,826 -   Ratio for quantile-distance-to-length above: 0.0015\n",
            "2025-08-26 16:42:30,828 -   Ratio for quantile-distance-to-length below: 0.0013\n",
            "2025-08-26 16:42:30,828 -   Score: 1.0015\n"
          ]
        },
        {
          "name": "stderr",
          "output_type": "stream",
          "text": [
            "[I 2025-08-26 16:42:30,877] Trial 159 finished with value: 1.0015028941019937 and parameters: {'year_start': 2021, 'LoadupSamples_time_inc_factor': 61, 'LSTM_units': 32, 'LSTM_learning_rate': 0.0002211995952237898, 'LSTM_l1': 2.877275052049679e-05, 'LSTM_l2': 0.00010920657835454648, 'LSTM_dropout': 0.009422083427003089, 'LSTM_inter_dropout': 0.021225524262971907, 'LSTM_recurrent_dropout': 0.0012430964120954608}. Best is trial 38 with value: 1.0030939915675743.\n"
          ]
        },
        {
          "name": "stdout",
          "output_type": "stream",
          "text": [
            "2025-08-26 16:42:30,877 - Trial 159 finished with value: 1.0015028941019937 and parameters: {'year_start': 2021, 'LoadupSamples_time_inc_factor': 61, 'LSTM_units': 32, 'LSTM_learning_rate': 0.0002211995952237898, 'LSTM_l1': 2.877275052049679e-05, 'LSTM_l2': 0.00010920657835454648, 'LSTM_dropout': 0.009422083427003089, 'LSTM_inter_dropout': 0.021225524262971907, 'LSTM_recurrent_dropout': 0.0012430964120954608}. Best is trial 38 with value: 1.0030939915675743.\n",
            "2025-08-26 16:42:38,410 - Non-finite/too-large values in train y time: 48 samples.\n",
            "2025-08-26 16:42:38,410 - Removing 48 samples from training data.\n"
          ]
        },
        {
          "name": "stderr",
          "output_type": "stream",
          "text": [
            "Epochs:   0%|          | 0/2 [00:00<?, ?it/s]"
          ]
        },
        {
          "name": "stdout",
          "output_type": "stream",
          "text": [
            "2025-08-26 16:43:10,579 - Epoch 1/2 — Train RMSE: 0.4641 — Validation RMSE: 0.4020\n"
          ]
        },
        {
          "name": "stderr",
          "output_type": "stream",
          "text": [
            "Epochs:  50%|█████     | 1/2 [00:23<00:23, 23.67s/it]"
          ]
        },
        {
          "name": "stdout",
          "output_type": "stream",
          "text": [
            "2025-08-26 16:43:33,863 - Epoch 2/2 — Train RMSE: 0.4111 — Validation RMSE: 0.4021\n"
          ]
        },
        {
          "name": "stderr",
          "output_type": "stream",
          "text": [
            "Epochs: 100%|██████████| 2/2 [00:46<00:00, 23.48s/it]\n"
          ]
        },
        {
          "name": "stdout",
          "output_type": "stream",
          "text": [
            "2025-08-26 16:43:38,056 - Trial 160 with params: {'idxAfterPrediction': 4, 'timesteps': 75, 'target_option': 'last', 'LoadupSamples_time_scaling_stretch': True, 'LoadupSamples_time_inc_factor': 61, 'LSTM_units': 32, 'LSTM_num_layers': 1, 'LSTM_dropout': 0.0028634343438425193, 'LSTM_recurrent_dropout': 0.0017430512285020506, 'LSTM_learning_rate': 0.00017836268276444817, 'LSTM_optimizer': 'adam', 'LSTM_bidirectional': True, 'LSTM_batch_size': 4096, 'LSTM_epochs': 2, 'LSTM_l1': 3.522537275901756e-05, 'LSTM_l2': 0.00016454404406374346, 'LSTM_inter_dropout': 0.02347657503657395, 'LSTM_input_gaussian_noise': 0.001, 'LSTM_conv1d': True, 'LSTM_conv1d_kernel_size': 3, 'LSTM_loss': 'mse', 'LSTM_transformer_before': False, 'LSTM_transformer_after': False, 'LSTM_tf_d_model': 0, 'LSTM_tf_nhead': 2, 'LSTM_tf_num_layers_before': 0, 'LSTM_tf_num_layers_after': 0, 'LSTM_tf_dim_feedforward': 8, 'LSTM_tf_dropout': 0.1, 'LSTM_tf_positional_encoding': True, 'LSTM_tf_pool': 'last', 'year_start': 2021, 'is_single_feature': False}\n",
            "2025-08-26 16:43:38,056 -   q2: 0.9900\n",
            "2025-08-26 16:43:38,056 -   Duration0: 0:00:51.258822\n",
            "2025-08-26 16:43:38,056 -   Val RMSE0 adjusted: 0.0066\n",
            "2025-08-26 16:43:38,077 -   Mean all prediction: 0.9993\n",
            "2025-08-26 16:43:38,078 -   Mean above prediction: 1.0105\n",
            "2025-08-26 16:43:38,078 -   Mean below prediction: 0.9966\n",
            "2025-08-26 16:43:38,078 -   Quantile 0.99 for distance in mask above: 919.8799999999974\n",
            "2025-08-26 16:43:38,078 -   Quantile 0.99 for distance in mask below: 818.3199999999961\n",
            "2025-08-26 16:43:38,078 -   Ratio for quantile-distance-to-length above: 0.0014\n",
            "2025-08-26 16:43:38,078 -   Ratio for quantile-distance-to-length below: 0.0012\n",
            "2025-08-26 16:43:38,078 -   Score: 1.0026\n"
          ]
        },
        {
          "name": "stderr",
          "output_type": "stream",
          "text": [
            "[I 2025-08-26 16:43:38,123] Trial 160 finished with value: 1.0026084742726529 and parameters: {'year_start': 2021, 'LoadupSamples_time_inc_factor': 61, 'LSTM_units': 32, 'LSTM_learning_rate': 0.00017836268276444817, 'LSTM_l1': 3.522537275901756e-05, 'LSTM_l2': 0.00016454404406374346, 'LSTM_dropout': 0.0028634343438425193, 'LSTM_inter_dropout': 0.02347657503657395, 'LSTM_recurrent_dropout': 0.0017430512285020506}. Best is trial 38 with value: 1.0030939915675743.\n"
          ]
        },
        {
          "name": "stdout",
          "output_type": "stream",
          "text": [
            "2025-08-26 16:43:38,123 - Trial 160 finished with value: 1.0026084742726529 and parameters: {'year_start': 2021, 'LoadupSamples_time_inc_factor': 61, 'LSTM_units': 32, 'LSTM_learning_rate': 0.00017836268276444817, 'LSTM_l1': 3.522537275901756e-05, 'LSTM_l2': 0.00016454404406374346, 'LSTM_dropout': 0.0028634343438425193, 'LSTM_inter_dropout': 0.02347657503657395, 'LSTM_recurrent_dropout': 0.0017430512285020506}. Best is trial 38 with value: 1.0030939915675743.\n",
            "2025-08-26 16:43:47,276 - Non-finite/too-large values in train y time: 48 samples.\n",
            "2025-08-26 16:43:47,276 - Removing 48 samples from training data.\n"
          ]
        },
        {
          "name": "stderr",
          "output_type": "stream",
          "text": [
            "Epochs:   0%|          | 0/2 [00:00<?, ?it/s]"
          ]
        },
        {
          "name": "stdout",
          "output_type": "stream",
          "text": [
            "2025-08-26 16:44:27,280 - Epoch 1/2 — Train RMSE: 0.4367 — Validation RMSE: 0.4194\n"
          ]
        },
        {
          "name": "stderr",
          "output_type": "stream",
          "text": [
            "Epochs:  50%|█████     | 1/2 [00:29<00:29, 29.73s/it]"
          ]
        },
        {
          "name": "stdout",
          "output_type": "stream",
          "text": [
            "2025-08-26 16:44:56,710 - Epoch 2/2 — Train RMSE: 0.4309 — Validation RMSE: 0.4193\n"
          ]
        },
        {
          "name": "stderr",
          "output_type": "stream",
          "text": [
            "Epochs: 100%|██████████| 2/2 [00:59<00:00, 29.58s/it]\n"
          ]
        },
        {
          "name": "stdout",
          "output_type": "stream",
          "text": [
            "2025-08-26 16:45:00,769 - Trial 161 with params: {'idxAfterPrediction': 4, 'timesteps': 75, 'target_option': 'last', 'LoadupSamples_time_scaling_stretch': True, 'LoadupSamples_time_inc_factor': 76, 'LSTM_units': 32, 'LSTM_num_layers': 1, 'LSTM_dropout': 0.0045796777550358774, 'LSTM_recurrent_dropout': 0.0010308980598421483, 'LSTM_learning_rate': 0.00021108416942300034, 'LSTM_optimizer': 'adam', 'LSTM_bidirectional': True, 'LSTM_batch_size': 4096, 'LSTM_epochs': 2, 'LSTM_l1': 3.091524201454179e-05, 'LSTM_l2': 0.0002063281090589961, 'LSTM_inter_dropout': 0.0134669393883982, 'LSTM_input_gaussian_noise': 0.001, 'LSTM_conv1d': True, 'LSTM_conv1d_kernel_size': 3, 'LSTM_loss': 'mse', 'LSTM_transformer_before': False, 'LSTM_transformer_after': False, 'LSTM_tf_d_model': 0, 'LSTM_tf_nhead': 2, 'LSTM_tf_num_layers_before': 0, 'LSTM_tf_num_layers_after': 0, 'LSTM_tf_dim_feedforward': 8, 'LSTM_tf_dropout': 0.1, 'LSTM_tf_positional_encoding': True, 'LSTM_tf_pool': 'last', 'year_start': 2020, 'is_single_feature': False}\n",
            "2025-08-26 16:45:00,769 -   q2: 0.9900\n",
            "2025-08-26 16:45:00,769 -   Duration0: 0:01:03.373969\n",
            "2025-08-26 16:45:00,769 -   Val RMSE0 adjusted: 0.0055\n",
            "2025-08-26 16:45:00,769 -   Mean all prediction: 0.9993\n",
            "2025-08-26 16:45:00,769 -   Mean above prediction: 1.0080\n",
            "2025-08-26 16:45:00,769 -   Mean below prediction: 0.9981\n",
            "2025-08-26 16:45:00,769 -   Quantile 0.99 for distance in mask above: 932.0799999999963\n",
            "2025-08-26 16:45:00,769 -   Quantile 0.99 for distance in mask below: 889.7199999999993\n",
            "2025-08-26 16:45:00,769 -   Ratio for quantile-distance-to-length above: 0.0014\n",
            "2025-08-26 16:45:00,785 -   Ratio for quantile-distance-to-length below: 0.0014\n",
            "2025-08-26 16:45:00,785 -   Score: 1.0020\n"
          ]
        },
        {
          "name": "stderr",
          "output_type": "stream",
          "text": [
            "[I 2025-08-26 16:45:00,839] Trial 161 finished with value: 1.0020010572575926 and parameters: {'year_start': 2020, 'LoadupSamples_time_inc_factor': 76, 'LSTM_units': 32, 'LSTM_learning_rate': 0.00021108416942300034, 'LSTM_l1': 3.091524201454179e-05, 'LSTM_l2': 0.0002063281090589961, 'LSTM_dropout': 0.0045796777550358774, 'LSTM_inter_dropout': 0.0134669393883982, 'LSTM_recurrent_dropout': 0.0010308980598421483}. Best is trial 38 with value: 1.0030939915675743.\n"
          ]
        },
        {
          "name": "stdout",
          "output_type": "stream",
          "text": [
            "2025-08-26 16:45:00,839 - Trial 161 finished with value: 1.0020010572575926 and parameters: {'year_start': 2020, 'LoadupSamples_time_inc_factor': 76, 'LSTM_units': 32, 'LSTM_learning_rate': 0.00021108416942300034, 'LSTM_l1': 3.091524201454179e-05, 'LSTM_l2': 0.0002063281090589961, 'LSTM_dropout': 0.0045796777550358774, 'LSTM_inter_dropout': 0.0134669393883982, 'LSTM_recurrent_dropout': 0.0010308980598421483}. Best is trial 38 with value: 1.0030939915675743.\n",
            "2025-08-26 16:45:06,815 - Non-finite/too-large values in train y time: 48 samples.\n",
            "2025-08-26 16:45:06,815 - Removing 48 samples from training data.\n"
          ]
        },
        {
          "name": "stderr",
          "output_type": "stream",
          "text": [
            "Epochs:   0%|          | 0/2 [00:00<?, ?it/s]"
          ]
        },
        {
          "name": "stdout",
          "output_type": "stream",
          "text": [
            "2025-08-26 16:45:31,201 - Epoch 1/2 — Train RMSE: 0.4489 — Validation RMSE: 0.4241\n"
          ]
        },
        {
          "name": "stderr",
          "output_type": "stream",
          "text": [
            "Epochs:  50%|█████     | 1/2 [00:17<00:17, 17.85s/it]"
          ]
        },
        {
          "name": "stdout",
          "output_type": "stream",
          "text": [
            "2025-08-26 16:45:48,790 - Epoch 2/2 — Train RMSE: 0.4359 — Validation RMSE: 0.4240\n"
          ]
        },
        {
          "name": "stderr",
          "output_type": "stream",
          "text": [
            "Epochs: 100%|██████████| 2/2 [00:35<00:00, 17.72s/it]\n"
          ]
        },
        {
          "name": "stdout",
          "output_type": "stream",
          "text": [
            "2025-08-26 16:45:52,397 - Trial 162 with params: {'idxAfterPrediction': 4, 'timesteps': 75, 'target_option': 'last', 'LoadupSamples_time_scaling_stretch': True, 'LoadupSamples_time_inc_factor': 81, 'LSTM_units': 32, 'LSTM_num_layers': 1, 'LSTM_dropout': 0.005196798708310724, 'LSTM_recurrent_dropout': 0.0010763419044924189, 'LSTM_learning_rate': 0.00027796696474844936, 'LSTM_optimizer': 'adam', 'LSTM_bidirectional': True, 'LSTM_batch_size': 4096, 'LSTM_epochs': 2, 'LSTM_l1': 6.390037401030505e-05, 'LSTM_l2': 0.00018685852044843406, 'LSTM_inter_dropout': 0.015684731618258473, 'LSTM_input_gaussian_noise': 0.001, 'LSTM_conv1d': True, 'LSTM_conv1d_kernel_size': 3, 'LSTM_loss': 'mse', 'LSTM_transformer_before': False, 'LSTM_transformer_after': False, 'LSTM_tf_d_model': 0, 'LSTM_tf_nhead': 2, 'LSTM_tf_num_layers_before': 0, 'LSTM_tf_num_layers_after': 0, 'LSTM_tf_dim_feedforward': 8, 'LSTM_tf_dropout': 0.1, 'LSTM_tf_positional_encoding': True, 'LSTM_tf_pool': 'last', 'year_start': 2022, 'is_single_feature': False}\n",
            "2025-08-26 16:45:52,397 -   q2: 0.9900\n",
            "2025-08-26 16:45:52,398 -   Duration0: 0:00:39.124594\n",
            "2025-08-26 16:45:52,399 -   Val RMSE0 adjusted: 0.0052\n",
            "2025-08-26 16:45:52,401 -   Mean all prediction: 0.9993\n",
            "2025-08-26 16:45:52,401 -   Mean above prediction: 1.0020\n",
            "2025-08-26 16:45:52,401 -   Mean below prediction: 0.9964\n",
            "2025-08-26 16:45:52,401 -   Quantile 0.99 for distance in mask above: 1011.1199999999972\n",
            "2025-08-26 16:45:52,401 -   Quantile 0.99 for distance in mask below: 869.0\n",
            "2025-08-26 16:45:52,401 -   Ratio for quantile-distance-to-length above: 0.0015\n",
            "2025-08-26 16:45:52,401 -   Ratio for quantile-distance-to-length below: 0.0013\n",
            "2025-08-26 16:45:52,401 -   Score: 1.0005\n"
          ]
        },
        {
          "name": "stderr",
          "output_type": "stream",
          "text": [
            "[I 2025-08-26 16:45:52,448] Trial 162 finished with value: 1.0004982505141569 and parameters: {'year_start': 2022, 'LoadupSamples_time_inc_factor': 81, 'LSTM_units': 32, 'LSTM_learning_rate': 0.00027796696474844936, 'LSTM_l1': 6.390037401030505e-05, 'LSTM_l2': 0.00018685852044843406, 'LSTM_dropout': 0.005196798708310724, 'LSTM_inter_dropout': 0.015684731618258473, 'LSTM_recurrent_dropout': 0.0010763419044924189}. Best is trial 38 with value: 1.0030939915675743.\n"
          ]
        },
        {
          "name": "stdout",
          "output_type": "stream",
          "text": [
            "2025-08-26 16:45:52,448 - Trial 162 finished with value: 1.0004982505141569 and parameters: {'year_start': 2022, 'LoadupSamples_time_inc_factor': 81, 'LSTM_units': 32, 'LSTM_learning_rate': 0.00027796696474844936, 'LSTM_l1': 6.390037401030505e-05, 'LSTM_l2': 0.00018685852044843406, 'LSTM_dropout': 0.005196798708310724, 'LSTM_inter_dropout': 0.015684731618258473, 'LSTM_recurrent_dropout': 0.0010763419044924189}. Best is trial 38 with value: 1.0030939915675743.\n",
            "2025-08-26 16:45:58,363 - Non-finite/too-large values in train y time: 48 samples.\n",
            "2025-08-26 16:45:58,377 - Removing 48 samples from training data.\n"
          ]
        },
        {
          "name": "stderr",
          "output_type": "stream",
          "text": [
            "Epochs:   0%|          | 0/2 [00:00<?, ?it/s]"
          ]
        },
        {
          "name": "stdout",
          "output_type": "stream",
          "text": [
            "2025-08-26 16:46:22,650 - Epoch 1/2 — Train RMSE: 0.4814 — Validation RMSE: 0.4203\n"
          ]
        },
        {
          "name": "stderr",
          "output_type": "stream",
          "text": [
            "Epochs:  50%|█████     | 1/2 [00:17<00:17, 17.79s/it]"
          ]
        },
        {
          "name": "stdout",
          "output_type": "stream",
          "text": [
            "2025-08-26 16:46:40,170 - Epoch 2/2 — Train RMSE: 0.4336 — Validation RMSE: 0.4199\n"
          ]
        },
        {
          "name": "stderr",
          "output_type": "stream",
          "text": [
            "Epochs: 100%|██████████| 2/2 [00:35<00:00, 17.66s/it]\n"
          ]
        },
        {
          "name": "stdout",
          "output_type": "stream",
          "text": [
            "2025-08-26 16:46:44,095 - Trial 163 with params: {'idxAfterPrediction': 4, 'timesteps': 75, 'target_option': 'last', 'LoadupSamples_time_scaling_stretch': True, 'LoadupSamples_time_inc_factor': 76, 'LSTM_units': 32, 'LSTM_num_layers': 1, 'LSTM_dropout': 0.0054313997515594075, 'LSTM_recurrent_dropout': 0.001170702152254054, 'LSTM_learning_rate': 0.000258399086981387, 'LSTM_optimizer': 'adam', 'LSTM_bidirectional': True, 'LSTM_batch_size': 4096, 'LSTM_epochs': 2, 'LSTM_l1': 4.258778228620447e-05, 'LSTM_l2': 0.0002477145973893246, 'LSTM_inter_dropout': 0.012772495180078999, 'LSTM_input_gaussian_noise': 0.001, 'LSTM_conv1d': True, 'LSTM_conv1d_kernel_size': 3, 'LSTM_loss': 'mse', 'LSTM_transformer_before': False, 'LSTM_transformer_after': False, 'LSTM_tf_d_model': 0, 'LSTM_tf_nhead': 2, 'LSTM_tf_num_layers_before': 0, 'LSTM_tf_num_layers_after': 0, 'LSTM_tf_dim_feedforward': 8, 'LSTM_tf_dropout': 0.1, 'LSTM_tf_positional_encoding': True, 'LSTM_tf_pool': 'last', 'year_start': 2022, 'is_single_feature': False}\n",
            "2025-08-26 16:46:44,096 -   q2: 0.9900\n",
            "2025-08-26 16:46:44,097 -   Duration0: 0:00:39.303456\n",
            "2025-08-26 16:46:44,098 -   Val RMSE0 adjusted: 0.0055\n",
            "2025-08-26 16:46:44,099 -   Mean all prediction: 0.9993\n",
            "2025-08-26 16:46:44,099 -   Mean above prediction: 1.0058\n",
            "2025-08-26 16:46:44,099 -   Mean below prediction: 0.9942\n",
            "2025-08-26 16:46:44,099 -   Quantile 0.99 for distance in mask above: 1069.2399999999998\n",
            "2025-08-26 16:46:44,099 -   Quantile 0.99 for distance in mask below: 731.6799999999985\n",
            "2025-08-26 16:46:44,099 -   Ratio for quantile-distance-to-length above: 0.0016\n",
            "2025-08-26 16:46:44,099 -   Ratio for quantile-distance-to-length below: 0.0011\n",
            "2025-08-26 16:46:44,110 -   Score: 1.0014\n"
          ]
        },
        {
          "name": "stderr",
          "output_type": "stream",
          "text": [
            "[I 2025-08-26 16:46:44,144] Trial 163 finished with value: 1.0014350069119975 and parameters: {'year_start': 2022, 'LoadupSamples_time_inc_factor': 76, 'LSTM_units': 32, 'LSTM_learning_rate': 0.000258399086981387, 'LSTM_l1': 4.258778228620447e-05, 'LSTM_l2': 0.0002477145973893246, 'LSTM_dropout': 0.0054313997515594075, 'LSTM_inter_dropout': 0.012772495180078999, 'LSTM_recurrent_dropout': 0.001170702152254054}. Best is trial 38 with value: 1.0030939915675743.\n"
          ]
        },
        {
          "name": "stdout",
          "output_type": "stream",
          "text": [
            "2025-08-26 16:46:44,144 - Trial 163 finished with value: 1.0014350069119975 and parameters: {'year_start': 2022, 'LoadupSamples_time_inc_factor': 76, 'LSTM_units': 32, 'LSTM_learning_rate': 0.000258399086981387, 'LSTM_l1': 4.258778228620447e-05, 'LSTM_l2': 0.0002477145973893246, 'LSTM_dropout': 0.0054313997515594075, 'LSTM_inter_dropout': 0.012772495180078999, 'LSTM_recurrent_dropout': 0.001170702152254054}. Best is trial 38 with value: 1.0030939915675743.\n",
            "2025-08-26 16:46:50,039 - Non-finite/too-large values in train y time: 48 samples.\n",
            "2025-08-26 16:46:50,039 - Removing 48 samples from training data.\n"
          ]
        },
        {
          "name": "stderr",
          "output_type": "stream",
          "text": [
            "Epochs:   0%|          | 0/2 [00:00<?, ?it/s]"
          ]
        },
        {
          "name": "stdout",
          "output_type": "stream",
          "text": [
            "2025-08-26 16:47:14,693 - Epoch 1/2 — Train RMSE: 0.4546 — Validation RMSE: 0.4240\n"
          ]
        },
        {
          "name": "stderr",
          "output_type": "stream",
          "text": [
            "Epochs:  50%|█████     | 1/2 [00:18<00:18, 18.02s/it]"
          ]
        },
        {
          "name": "stdout",
          "output_type": "stream",
          "text": [
            "2025-08-26 16:47:32,465 - Epoch 2/2 — Train RMSE: 0.4364 — Validation RMSE: 0.4239\n"
          ]
        },
        {
          "name": "stderr",
          "output_type": "stream",
          "text": [
            "Epochs: 100%|██████████| 2/2 [00:35<00:00, 17.90s/it]\n"
          ]
        },
        {
          "name": "stdout",
          "output_type": "stream",
          "text": [
            "2025-08-26 16:47:36,390 - Trial 164 with params: {'idxAfterPrediction': 4, 'timesteps': 75, 'target_option': 'last', 'LoadupSamples_time_scaling_stretch': True, 'LoadupSamples_time_inc_factor': 81, 'LSTM_units': 32, 'LSTM_num_layers': 1, 'LSTM_dropout': 0.004930691095006694, 'LSTM_recurrent_dropout': 0.001310119052896786, 'LSTM_learning_rate': 0.00023257645529535192, 'LSTM_optimizer': 'adam', 'LSTM_bidirectional': True, 'LSTM_batch_size': 4096, 'LSTM_epochs': 2, 'LSTM_l1': 4.562683089759197e-05, 'LSTM_l2': 0.0001521531099088292, 'LSTM_inter_dropout': 0.014877870133887063, 'LSTM_input_gaussian_noise': 0.001, 'LSTM_conv1d': True, 'LSTM_conv1d_kernel_size': 3, 'LSTM_loss': 'mse', 'LSTM_transformer_before': False, 'LSTM_transformer_after': False, 'LSTM_tf_d_model': 0, 'LSTM_tf_nhead': 2, 'LSTM_tf_num_layers_before': 0, 'LSTM_tf_num_layers_after': 0, 'LSTM_tf_dim_feedforward': 8, 'LSTM_tf_dropout': 0.1, 'LSTM_tf_positional_encoding': True, 'LSTM_tf_pool': 'last', 'year_start': 2022, 'is_single_feature': False}\n",
            "2025-08-26 16:47:36,390 -   q2: 0.9900\n",
            "2025-08-26 16:47:36,390 -   Duration0: 0:00:39.790363\n",
            "2025-08-26 16:47:36,390 -   Val RMSE0 adjusted: 0.0052\n",
            "2025-08-26 16:47:36,407 -   Mean all prediction: 0.9993\n",
            "2025-08-26 16:47:36,407 -   Mean above prediction: 1.0091\n",
            "2025-08-26 16:47:36,407 -   Mean below prediction: 0.9956\n",
            "2025-08-26 16:47:36,407 -   Quantile 0.99 for distance in mask above: 863.4399999999932\n",
            "2025-08-26 16:47:36,407 -   Quantile 0.99 for distance in mask below: 808.4799999999996\n",
            "2025-08-26 16:47:36,407 -   Ratio for quantile-distance-to-length above: 0.0013\n",
            "2025-08-26 16:47:36,407 -   Ratio for quantile-distance-to-length below: 0.0012\n",
            "2025-08-26 16:47:36,407 -   Score: 1.0023\n"
          ]
        },
        {
          "name": "stderr",
          "output_type": "stream",
          "text": [
            "[I 2025-08-26 16:47:36,448] Trial 164 finished with value: 1.0022639812554366 and parameters: {'year_start': 2022, 'LoadupSamples_time_inc_factor': 81, 'LSTM_units': 32, 'LSTM_learning_rate': 0.00023257645529535192, 'LSTM_l1': 4.562683089759197e-05, 'LSTM_l2': 0.0001521531099088292, 'LSTM_dropout': 0.004930691095006694, 'LSTM_inter_dropout': 0.014877870133887063, 'LSTM_recurrent_dropout': 0.001310119052896786}. Best is trial 38 with value: 1.0030939915675743.\n"
          ]
        },
        {
          "name": "stdout",
          "output_type": "stream",
          "text": [
            "2025-08-26 16:47:36,448 - Trial 164 finished with value: 1.0022639812554366 and parameters: {'year_start': 2022, 'LoadupSamples_time_inc_factor': 81, 'LSTM_units': 32, 'LSTM_learning_rate': 0.00023257645529535192, 'LSTM_l1': 4.562683089759197e-05, 'LSTM_l2': 0.0001521531099088292, 'LSTM_dropout': 0.004930691095006694, 'LSTM_inter_dropout': 0.014877870133887063, 'LSTM_recurrent_dropout': 0.001310119052896786}. Best is trial 38 with value: 1.0030939915675743.\n",
            "2025-08-26 16:47:42,353 - Non-finite/too-large values in train y time: 48 samples.\n",
            "2025-08-26 16:47:42,353 - Removing 48 samples from training data.\n"
          ]
        },
        {
          "name": "stderr",
          "output_type": "stream",
          "text": [
            "Epochs:   0%|          | 0/2 [00:00<?, ?it/s]"
          ]
        },
        {
          "name": "stdout",
          "output_type": "stream",
          "text": [
            "2025-08-26 16:48:06,756 - Epoch 1/2 — Train RMSE: 0.4462 — Validation RMSE: 0.4144\n"
          ]
        },
        {
          "name": "stderr",
          "output_type": "stream",
          "text": [
            "Epochs:  50%|█████     | 1/2 [00:17<00:17, 17.79s/it]"
          ]
        },
        {
          "name": "stdout",
          "output_type": "stream",
          "text": [
            "2025-08-26 16:48:24,344 - Epoch 2/2 — Train RMSE: 0.4269 — Validation RMSE: 0.4143\n"
          ]
        },
        {
          "name": "stderr",
          "output_type": "stream",
          "text": [
            "Epochs: 100%|██████████| 2/2 [00:35<00:00, 17.69s/it]\n"
          ]
        },
        {
          "name": "stdout",
          "output_type": "stream",
          "text": [
            "2025-08-26 16:48:27,936 - Trial 165 with params: {'idxAfterPrediction': 4, 'timesteps': 75, 'target_option': 'last', 'LoadupSamples_time_scaling_stretch': True, 'LoadupSamples_time_inc_factor': 71, 'LSTM_units': 32, 'LSTM_num_layers': 1, 'LSTM_dropout': 0.004357740248035468, 'LSTM_recurrent_dropout': 0.0014644920672008117, 'LSTM_learning_rate': 0.0002488851542901842, 'LSTM_optimizer': 'adam', 'LSTM_bidirectional': True, 'LSTM_batch_size': 4096, 'LSTM_epochs': 2, 'LSTM_l1': 3.187694824455742e-05, 'LSTM_l2': 0.0001265937729968535, 'LSTM_inter_dropout': 0.013863659070198526, 'LSTM_input_gaussian_noise': 0.001, 'LSTM_conv1d': True, 'LSTM_conv1d_kernel_size': 3, 'LSTM_loss': 'mse', 'LSTM_transformer_before': False, 'LSTM_transformer_after': False, 'LSTM_tf_d_model': 0, 'LSTM_tf_nhead': 2, 'LSTM_tf_num_layers_before': 0, 'LSTM_tf_num_layers_after': 0, 'LSTM_tf_dim_feedforward': 8, 'LSTM_tf_dropout': 0.1, 'LSTM_tf_positional_encoding': True, 'LSTM_tf_pool': 'last', 'year_start': 2022, 'is_single_feature': False}\n",
            "2025-08-26 16:48:27,936 -   q2: 0.9900\n",
            "2025-08-26 16:48:27,936 -   Duration0: 0:00:39.067296\n",
            "2025-08-26 16:48:27,936 -   Val RMSE0 adjusted: 0.0058\n",
            "2025-08-26 16:48:27,954 -   Mean all prediction: 0.9993\n",
            "2025-08-26 16:48:27,955 -   Mean above prediction: 1.0080\n",
            "2025-08-26 16:48:27,955 -   Mean below prediction: 0.9981\n",
            "2025-08-26 16:48:27,955 -   Quantile 0.99 for distance in mask above: 909.2399999999998\n",
            "2025-08-26 16:48:27,955 -   Quantile 0.99 for distance in mask below: 888.1999999999989\n",
            "2025-08-26 16:48:27,955 -   Ratio for quantile-distance-to-length above: 0.0014\n",
            "2025-08-26 16:48:27,955 -   Ratio for quantile-distance-to-length below: 0.0014\n",
            "2025-08-26 16:48:27,955 -   Score: 1.0020\n"
          ]
        },
        {
          "name": "stderr",
          "output_type": "stream",
          "text": [
            "[I 2025-08-26 16:48:27,994] Trial 165 finished with value: 1.0019916637522714 and parameters: {'year_start': 2022, 'LoadupSamples_time_inc_factor': 71, 'LSTM_units': 32, 'LSTM_learning_rate': 0.0002488851542901842, 'LSTM_l1': 3.187694824455742e-05, 'LSTM_l2': 0.0001265937729968535, 'LSTM_dropout': 0.004357740248035468, 'LSTM_inter_dropout': 0.013863659070198526, 'LSTM_recurrent_dropout': 0.0014644920672008117}. Best is trial 38 with value: 1.0030939915675743.\n"
          ]
        },
        {
          "name": "stdout",
          "output_type": "stream",
          "text": [
            "2025-08-26 16:48:27,994 - Trial 165 finished with value: 1.0019916637522714 and parameters: {'year_start': 2022, 'LoadupSamples_time_inc_factor': 71, 'LSTM_units': 32, 'LSTM_learning_rate': 0.0002488851542901842, 'LSTM_l1': 3.187694824455742e-05, 'LSTM_l2': 0.0001265937729968535, 'LSTM_dropout': 0.004357740248035468, 'LSTM_inter_dropout': 0.013863659070198526, 'LSTM_recurrent_dropout': 0.0014644920672008117}. Best is trial 38 with value: 1.0030939915675743.\n",
            "2025-08-26 16:48:33,884 - Non-finite/too-large values in train y time: 48 samples.\n",
            "2025-08-26 16:48:33,899 - Removing 48 samples from training data.\n"
          ]
        },
        {
          "name": "stderr",
          "output_type": "stream",
          "text": [
            "Epochs:   0%|          | 0/2 [00:00<?, ?it/s]"
          ]
        },
        {
          "name": "stdout",
          "output_type": "stream",
          "text": [
            "2025-08-26 16:48:55,980 - Epoch 1/2 — Train RMSE: 0.5209 — Validation RMSE: 0.4198\n"
          ]
        },
        {
          "name": "stderr",
          "output_type": "stream",
          "text": [
            "Epochs:  50%|█████     | 1/2 [00:15<00:15, 15.57s/it]"
          ]
        },
        {
          "name": "stdout",
          "output_type": "stream",
          "text": [
            "2025-08-26 16:49:11,614 - Epoch 2/2 — Train RMSE: 0.4312 — Validation RMSE: 0.4196\n"
          ]
        },
        {
          "name": "stderr",
          "output_type": "stream",
          "text": [
            "Epochs: 100%|██████████| 2/2 [00:31<00:00, 15.60s/it]\n"
          ]
        },
        {
          "name": "stdout",
          "output_type": "stream",
          "text": [
            "2025-08-26 16:49:15,462 - Trial 166 with params: {'idxAfterPrediction': 4, 'timesteps': 75, 'target_option': 'last', 'LoadupSamples_time_scaling_stretch': True, 'LoadupSamples_time_inc_factor': 76, 'LSTM_units': 16, 'LSTM_num_layers': 1, 'LSTM_dropout': 0.004044951333122549, 'LSTM_recurrent_dropout': 0.001100257307868751, 'LSTM_learning_rate': 0.00020159812810000734, 'LSTM_optimizer': 'adam', 'LSTM_bidirectional': True, 'LSTM_batch_size': 4096, 'LSTM_epochs': 2, 'LSTM_l1': 5.0482905321966816e-05, 'LSTM_l2': 0.00011610944210500631, 'LSTM_inter_dropout': 0.014395405970645614, 'LSTM_input_gaussian_noise': 0.001, 'LSTM_conv1d': True, 'LSTM_conv1d_kernel_size': 3, 'LSTM_loss': 'mse', 'LSTM_transformer_before': False, 'LSTM_transformer_after': False, 'LSTM_tf_d_model': 0, 'LSTM_tf_nhead': 2, 'LSTM_tf_num_layers_before': 0, 'LSTM_tf_num_layers_after': 0, 'LSTM_tf_dim_feedforward': 8, 'LSTM_tf_dropout': 0.1, 'LSTM_tf_positional_encoding': True, 'LSTM_tf_pool': 'last', 'year_start': 2022, 'is_single_feature': False}\n",
            "2025-08-26 16:49:15,462 -   q2: 0.9900\n",
            "2025-08-26 16:49:15,462 -   Duration0: 0:00:35.124362\n",
            "2025-08-26 16:49:15,462 -   Val RMSE0 adjusted: 0.0055\n",
            "2025-08-26 16:49:15,472 -   Mean all prediction: 0.9993\n",
            "2025-08-26 16:49:15,473 -   Mean above prediction: 1.0085\n",
            "2025-08-26 16:49:15,474 -   Mean below prediction: 0.9972\n",
            "2025-08-26 16:49:15,475 -   Quantile 0.99 for distance in mask above: 945.4799999999996\n",
            "2025-08-26 16:49:15,475 -   Quantile 0.99 for distance in mask below: 908.1999999999989\n",
            "2025-08-26 16:49:15,475 -   Ratio for quantile-distance-to-length above: 0.0014\n",
            "2025-08-26 16:49:15,475 -   Ratio for quantile-distance-to-length below: 0.0014\n",
            "2025-08-26 16:49:15,475 -   Score: 1.0021\n"
          ]
        },
        {
          "name": "stderr",
          "output_type": "stream",
          "text": [
            "[I 2025-08-26 16:49:15,507] Trial 166 finished with value: 1.0021101959978096 and parameters: {'year_start': 2022, 'LoadupSamples_time_inc_factor': 76, 'LSTM_units': 16, 'LSTM_learning_rate': 0.00020159812810000734, 'LSTM_l1': 5.0482905321966816e-05, 'LSTM_l2': 0.00011610944210500631, 'LSTM_dropout': 0.004044951333122549, 'LSTM_inter_dropout': 0.014395405970645614, 'LSTM_recurrent_dropout': 0.001100257307868751}. Best is trial 38 with value: 1.0030939915675743.\n"
          ]
        },
        {
          "name": "stdout",
          "output_type": "stream",
          "text": [
            "2025-08-26 16:49:15,507 - Trial 166 finished with value: 1.0021101959978096 and parameters: {'year_start': 2022, 'LoadupSamples_time_inc_factor': 76, 'LSTM_units': 16, 'LSTM_learning_rate': 0.00020159812810000734, 'LSTM_l1': 5.0482905321966816e-05, 'LSTM_l2': 0.00011610944210500631, 'LSTM_dropout': 0.004044951333122549, 'LSTM_inter_dropout': 0.014395405970645614, 'LSTM_recurrent_dropout': 0.001100257307868751}. Best is trial 38 with value: 1.0030939915675743.\n",
            "2025-08-26 16:49:24,612 - Non-finite/too-large values in train y time: 48 samples.\n",
            "2025-08-26 16:49:24,612 - Removing 48 samples from training data.\n"
          ]
        },
        {
          "name": "stderr",
          "output_type": "stream",
          "text": [
            "Epochs:   0%|          | 0/2 [00:00<?, ?it/s]"
          ]
        },
        {
          "name": "stdout",
          "output_type": "stream",
          "text": [
            "2025-08-26 16:50:04,479 - Epoch 1/2 — Train RMSE: 0.4288 — Validation RMSE: 0.4021\n"
          ]
        },
        {
          "name": "stderr",
          "output_type": "stream",
          "text": [
            "Epochs:  50%|█████     | 1/2 [00:29<00:29, 29.61s/it]"
          ]
        },
        {
          "name": "stdout",
          "output_type": "stream",
          "text": [
            "2025-08-26 16:50:33,609 - Epoch 2/2 — Train RMSE: 0.4161 — Validation RMSE: 0.4020\n"
          ]
        },
        {
          "name": "stderr",
          "output_type": "stream",
          "text": [
            "Epochs: 100%|██████████| 2/2 [00:58<00:00, 29.37s/it]\n"
          ]
        },
        {
          "name": "stdout",
          "output_type": "stream",
          "text": [
            "2025-08-26 16:50:37,350 - Trial 167 with params: {'idxAfterPrediction': 4, 'timesteps': 75, 'target_option': 'last', 'LoadupSamples_time_scaling_stretch': True, 'LoadupSamples_time_inc_factor': 61, 'LSTM_units': 32, 'LSTM_num_layers': 1, 'LSTM_dropout': 0.005082203413230943, 'LSTM_recurrent_dropout': 0.0018824166556597921, 'LSTM_learning_rate': 0.00022026675661027158, 'LSTM_optimizer': 'adam', 'LSTM_bidirectional': True, 'LSTM_batch_size': 4096, 'LSTM_epochs': 2, 'LSTM_l1': 1.4380837311147168e-05, 'LSTM_l2': 0.0002692390045363888, 'LSTM_inter_dropout': 0.01646365191624797, 'LSTM_input_gaussian_noise': 0.001, 'LSTM_conv1d': True, 'LSTM_conv1d_kernel_size': 3, 'LSTM_loss': 'mse', 'LSTM_transformer_before': False, 'LSTM_transformer_after': False, 'LSTM_tf_d_model': 0, 'LSTM_tf_nhead': 2, 'LSTM_tf_num_layers_before': 0, 'LSTM_tf_num_layers_after': 0, 'LSTM_tf_dim_feedforward': 8, 'LSTM_tf_dropout': 0.1, 'LSTM_tf_positional_encoding': True, 'LSTM_tf_pool': 'last', 'year_start': 2020, 'is_single_feature': False}\n",
            "2025-08-26 16:50:37,350 -   q2: 0.9900\n",
            "2025-08-26 16:50:37,350 -   Duration0: 0:01:02.639175\n",
            "2025-08-26 16:50:37,350 -   Val RMSE0 adjusted: 0.0066\n",
            "2025-08-26 16:50:37,368 -   Mean all prediction: 0.9993\n",
            "2025-08-26 16:50:37,368 -   Mean above prediction: 1.0107\n",
            "2025-08-26 16:50:37,368 -   Mean below prediction: 0.9968\n",
            "2025-08-26 16:50:37,368 -   Quantile 0.99 for distance in mask above: 968.6399999999976\n",
            "2025-08-26 16:50:37,368 -   Quantile 0.99 for distance in mask below: 852.4799999999996\n",
            "2025-08-26 16:50:37,368 -   Ratio for quantile-distance-to-length above: 0.0015\n",
            "2025-08-26 16:50:37,368 -   Ratio for quantile-distance-to-length below: 0.0013\n",
            "2025-08-26 16:50:37,368 -   Score: 1.0027\n"
          ]
        },
        {
          "name": "stderr",
          "output_type": "stream",
          "text": [
            "[I 2025-08-26 16:50:37,435] Trial 167 finished with value: 1.0026556068622794 and parameters: {'year_start': 2020, 'LoadupSamples_time_inc_factor': 61, 'LSTM_units': 32, 'LSTM_learning_rate': 0.00022026675661027158, 'LSTM_l1': 1.4380837311147168e-05, 'LSTM_l2': 0.0002692390045363888, 'LSTM_dropout': 0.005082203413230943, 'LSTM_inter_dropout': 0.01646365191624797, 'LSTM_recurrent_dropout': 0.0018824166556597921}. Best is trial 38 with value: 1.0030939915675743.\n"
          ]
        },
        {
          "name": "stdout",
          "output_type": "stream",
          "text": [
            "2025-08-26 16:50:37,435 - Trial 167 finished with value: 1.0026556068622794 and parameters: {'year_start': 2020, 'LoadupSamples_time_inc_factor': 61, 'LSTM_units': 32, 'LSTM_learning_rate': 0.00022026675661027158, 'LSTM_l1': 1.4380837311147168e-05, 'LSTM_l2': 0.0002692390045363888, 'LSTM_dropout': 0.005082203413230943, 'LSTM_inter_dropout': 0.01646365191624797, 'LSTM_recurrent_dropout': 0.0018824166556597921}. Best is trial 38 with value: 1.0030939915675743.\n",
            "2025-08-26 16:50:43,399 - Non-finite/too-large values in train y time: 48 samples.\n",
            "2025-08-26 16:50:43,399 - Removing 48 samples from training data.\n"
          ]
        },
        {
          "name": "stderr",
          "output_type": "stream",
          "text": [
            "Epochs:   0%|          | 0/2 [00:00<?, ?it/s]"
          ]
        },
        {
          "name": "stdout",
          "output_type": "stream",
          "text": [
            "2025-08-26 16:51:07,749 - Epoch 1/2 — Train RMSE: 0.4414 — Validation RMSE: 0.4025\n"
          ]
        },
        {
          "name": "stderr",
          "output_type": "stream",
          "text": [
            "Epochs:  50%|█████     | 1/2 [00:17<00:17, 17.87s/it]"
          ]
        },
        {
          "name": "stdout",
          "output_type": "stream",
          "text": [
            "2025-08-26 16:51:25,557 - Epoch 2/2 — Train RMSE: 0.4168 — Validation RMSE: 0.4023\n"
          ]
        },
        {
          "name": "stderr",
          "output_type": "stream",
          "text": [
            "Epochs: 100%|██████████| 2/2 [00:35<00:00, 17.84s/it]\n"
          ]
        },
        {
          "name": "stdout",
          "output_type": "stream",
          "text": [
            "2025-08-26 16:51:29,680 - Trial 168 with params: {'idxAfterPrediction': 4, 'timesteps': 75, 'target_option': 'last', 'LoadupSamples_time_scaling_stretch': True, 'LoadupSamples_time_inc_factor': 61, 'LSTM_units': 32, 'LSTM_num_layers': 1, 'LSTM_dropout': 0.005750949573914812, 'LSTM_recurrent_dropout': 0.0012026878724768594, 'LSTM_learning_rate': 0.0003160144188313675, 'LSTM_optimizer': 'adam', 'LSTM_bidirectional': True, 'LSTM_batch_size': 4096, 'LSTM_epochs': 2, 'LSTM_l1': 3.71699323985009e-05, 'LSTM_l2': 0.00014148111469715167, 'LSTM_inter_dropout': 0.025490376027357507, 'LSTM_input_gaussian_noise': 0.001, 'LSTM_conv1d': True, 'LSTM_conv1d_kernel_size': 3, 'LSTM_loss': 'mse', 'LSTM_transformer_before': False, 'LSTM_transformer_after': False, 'LSTM_tf_d_model': 0, 'LSTM_tf_nhead': 2, 'LSTM_tf_num_layers_before': 0, 'LSTM_tf_num_layers_after': 0, 'LSTM_tf_dim_feedforward': 8, 'LSTM_tf_dropout': 0.1, 'LSTM_tf_positional_encoding': True, 'LSTM_tf_pool': 'last', 'year_start': 2022, 'is_single_feature': False}\n",
            "2025-08-26 16:51:29,680 -   q2: 0.9900\n",
            "2025-08-26 16:51:29,680 -   Duration0: 0:00:39.889118\n",
            "2025-08-26 16:51:29,680 -   Val RMSE0 adjusted: 0.0066\n",
            "2025-08-26 16:51:29,680 -   Mean all prediction: 0.9993\n",
            "2025-08-26 16:51:29,697 -   Mean above prediction: 1.0049\n",
            "2025-08-26 16:51:29,697 -   Mean below prediction: 0.9957\n",
            "2025-08-26 16:51:29,697 -   Quantile 0.99 for distance in mask above: 1079.1199999999972\n",
            "2025-08-26 16:51:29,697 -   Quantile 0.99 for distance in mask below: 805.9199999999983\n",
            "2025-08-26 16:51:29,697 -   Ratio for quantile-distance-to-length above: 0.0016\n",
            "2025-08-26 16:51:29,697 -   Ratio for quantile-distance-to-length below: 0.0012\n",
            "2025-08-26 16:51:29,697 -   Score: 1.0012\n"
          ]
        },
        {
          "name": "stderr",
          "output_type": "stream",
          "text": [
            "[I 2025-08-26 16:51:29,754] Trial 168 finished with value: 1.0012194794117568 and parameters: {'year_start': 2022, 'LoadupSamples_time_inc_factor': 61, 'LSTM_units': 32, 'LSTM_learning_rate': 0.0003160144188313675, 'LSTM_l1': 3.71699323985009e-05, 'LSTM_l2': 0.00014148111469715167, 'LSTM_dropout': 0.005750949573914812, 'LSTM_inter_dropout': 0.025490376027357507, 'LSTM_recurrent_dropout': 0.0012026878724768594}. Best is trial 38 with value: 1.0030939915675743.\n"
          ]
        },
        {
          "name": "stdout",
          "output_type": "stream",
          "text": [
            "2025-08-26 16:51:29,754 - Trial 168 finished with value: 1.0012194794117568 and parameters: {'year_start': 2022, 'LoadupSamples_time_inc_factor': 61, 'LSTM_units': 32, 'LSTM_learning_rate': 0.0003160144188313675, 'LSTM_l1': 3.71699323985009e-05, 'LSTM_l2': 0.00014148111469715167, 'LSTM_dropout': 0.005750949573914812, 'LSTM_inter_dropout': 0.025490376027357507, 'LSTM_recurrent_dropout': 0.0012026878724768594}. Best is trial 38 with value: 1.0030939915675743.\n",
            "2025-08-26 16:51:38,903 - Non-finite/too-large values in train y time: 48 samples.\n",
            "2025-08-26 16:51:38,903 - Removing 48 samples from training data.\n"
          ]
        },
        {
          "name": "stderr",
          "output_type": "stream",
          "text": [
            "Epochs:   0%|          | 0/2 [00:00<?, ?it/s]"
          ]
        },
        {
          "name": "stdout",
          "output_type": "stream",
          "text": [
            "2025-08-26 16:52:18,854 - Epoch 1/2 — Train RMSE: 0.4475 — Validation RMSE: 0.4024\n"
          ]
        },
        {
          "name": "stderr",
          "output_type": "stream",
          "text": [
            "Epochs:  50%|█████     | 1/2 [00:29<00:29, 29.59s/it]"
          ]
        },
        {
          "name": "stdout",
          "output_type": "stream",
          "text": [
            "2025-08-26 16:52:48,418 - Epoch 2/2 — Train RMSE: 0.4170 — Validation RMSE: 0.4022\n"
          ]
        },
        {
          "name": "stderr",
          "output_type": "stream",
          "text": [
            "Epochs: 100%|██████████| 2/2 [00:59<00:00, 29.58s/it]\n"
          ]
        },
        {
          "name": "stdout",
          "output_type": "stream",
          "text": [
            "2025-08-26 16:52:52,459 - Trial 169 with params: {'idxAfterPrediction': 4, 'timesteps': 75, 'target_option': 'last', 'LoadupSamples_time_scaling_stretch': True, 'LoadupSamples_time_inc_factor': 61, 'LSTM_units': 32, 'LSTM_num_layers': 1, 'LSTM_dropout': 0.006689808366345669, 'LSTM_recurrent_dropout': 0.0010019045275651377, 'LSTM_learning_rate': 0.0001961350605196286, 'LSTM_optimizer': 'adam', 'LSTM_bidirectional': True, 'LSTM_batch_size': 4096, 'LSTM_epochs': 2, 'LSTM_l1': 2.656749684692339e-05, 'LSTM_l2': 0.00021608926680115057, 'LSTM_inter_dropout': 0.019053479725477915, 'LSTM_input_gaussian_noise': 0.001, 'LSTM_conv1d': True, 'LSTM_conv1d_kernel_size': 3, 'LSTM_loss': 'mse', 'LSTM_transformer_before': False, 'LSTM_transformer_after': False, 'LSTM_tf_d_model': 0, 'LSTM_tf_nhead': 2, 'LSTM_tf_num_layers_before': 0, 'LSTM_tf_num_layers_after': 0, 'LSTM_tf_dim_feedforward': 8, 'LSTM_tf_dropout': 0.1, 'LSTM_tf_positional_encoding': True, 'LSTM_tf_pool': 'last', 'year_start': 2020, 'is_single_feature': False}\n",
            "2025-08-26 16:52:52,460 -   q2: 0.9900\n",
            "2025-08-26 16:52:52,460 -   Duration0: 0:01:03.337935\n",
            "2025-08-26 16:52:52,460 -   Val RMSE0 adjusted: 0.0066\n",
            "2025-08-26 16:52:52,460 -   Mean all prediction: 0.9993\n",
            "2025-08-26 16:52:52,460 -   Mean above prediction: 1.0063\n",
            "2025-08-26 16:52:52,460 -   Mean below prediction: 0.9969\n",
            "2025-08-26 16:52:52,460 -   Quantile 0.99 for distance in mask above: 876.6799999999985\n",
            "2025-08-26 16:52:52,460 -   Quantile 0.99 for distance in mask below: 923.6899999999987\n",
            "2025-08-26 16:52:52,460 -   Ratio for quantile-distance-to-length above: 0.0013\n",
            "2025-08-26 16:52:52,460 -   Ratio for quantile-distance-to-length below: 0.0014\n",
            "2025-08-26 16:52:52,460 -   Score: 1.0016\n"
          ]
        },
        {
          "name": "stderr",
          "output_type": "stream",
          "text": [
            "[I 2025-08-26 16:52:52,543] Trial 169 finished with value: 1.0015704976655262 and parameters: {'year_start': 2020, 'LoadupSamples_time_inc_factor': 61, 'LSTM_units': 32, 'LSTM_learning_rate': 0.0001961350605196286, 'LSTM_l1': 2.656749684692339e-05, 'LSTM_l2': 0.00021608926680115057, 'LSTM_dropout': 0.006689808366345669, 'LSTM_inter_dropout': 0.019053479725477915, 'LSTM_recurrent_dropout': 0.0010019045275651377}. Best is trial 38 with value: 1.0030939915675743.\n"
          ]
        },
        {
          "name": "stdout",
          "output_type": "stream",
          "text": [
            "2025-08-26 16:52:52,543 - Trial 169 finished with value: 1.0015704976655262 and parameters: {'year_start': 2020, 'LoadupSamples_time_inc_factor': 61, 'LSTM_units': 32, 'LSTM_learning_rate': 0.0001961350605196286, 'LSTM_l1': 2.656749684692339e-05, 'LSTM_l2': 0.00021608926680115057, 'LSTM_dropout': 0.006689808366345669, 'LSTM_inter_dropout': 0.019053479725477915, 'LSTM_recurrent_dropout': 0.0010019045275651377}. Best is trial 38 with value: 1.0030939915675743.\n",
            "2025-08-26 16:52:58,407 - Non-finite/too-large values in train y time: 48 samples.\n",
            "2025-08-26 16:52:58,407 - Removing 48 samples from training data.\n"
          ]
        },
        {
          "name": "stderr",
          "output_type": "stream",
          "text": [
            "Epochs:   0%|          | 0/2 [00:00<?, ?it/s]"
          ]
        },
        {
          "name": "stdout",
          "output_type": "stream",
          "text": [
            "2025-08-26 16:53:22,876 - Epoch 1/2 — Train RMSE: 0.4293 — Validation RMSE: 0.4021\n"
          ]
        },
        {
          "name": "stderr",
          "output_type": "stream",
          "text": [
            "Epochs:  50%|█████     | 1/2 [00:17<00:17, 17.90s/it]"
          ]
        },
        {
          "name": "stdout",
          "output_type": "stream",
          "text": [
            "2025-08-26 16:53:40,517 - Epoch 2/2 — Train RMSE: 0.4151 — Validation RMSE: 0.4020\n"
          ]
        },
        {
          "name": "stderr",
          "output_type": "stream",
          "text": [
            "Epochs: 100%|██████████| 2/2 [00:35<00:00, 17.77s/it]\n"
          ]
        },
        {
          "name": "stdout",
          "output_type": "stream",
          "text": [
            "2025-08-26 16:53:44,123 - Trial 170 with params: {'idxAfterPrediction': 4, 'timesteps': 75, 'target_option': 'last', 'LoadupSamples_time_scaling_stretch': True, 'LoadupSamples_time_inc_factor': 61, 'LSTM_units': 32, 'LSTM_num_layers': 1, 'LSTM_dropout': 0.004669315243673879, 'LSTM_recurrent_dropout': 0.002345741441370466, 'LSTM_learning_rate': 0.00022843176021185754, 'LSTM_optimizer': 'adam', 'LSTM_bidirectional': True, 'LSTM_batch_size': 4096, 'LSTM_epochs': 2, 'LSTM_l1': 2.9443650683058184e-05, 'LSTM_l2': 0.0007621312275664942, 'LSTM_inter_dropout': 0.022267094499717754, 'LSTM_input_gaussian_noise': 0.001, 'LSTM_conv1d': True, 'LSTM_conv1d_kernel_size': 3, 'LSTM_loss': 'mse', 'LSTM_transformer_before': False, 'LSTM_transformer_after': False, 'LSTM_tf_d_model': 0, 'LSTM_tf_nhead': 2, 'LSTM_tf_num_layers_before': 0, 'LSTM_tf_num_layers_after': 0, 'LSTM_tf_dim_feedforward': 8, 'LSTM_tf_dropout': 0.1, 'LSTM_tf_positional_encoding': True, 'LSTM_tf_pool': 'last', 'year_start': 2022, 'is_single_feature': False}\n",
            "2025-08-26 16:53:44,123 -   q2: 0.9900\n",
            "2025-08-26 16:53:44,123 -   Duration0: 0:00:39.221668\n",
            "2025-08-26 16:53:44,123 -   Val RMSE0 adjusted: 0.0066\n",
            "2025-08-26 16:53:44,123 -   Mean all prediction: 0.9993\n",
            "2025-08-26 16:53:44,123 -   Mean above prediction: 1.0026\n",
            "2025-08-26 16:53:44,123 -   Mean below prediction: 0.9954\n",
            "2025-08-26 16:53:44,123 -   Quantile 0.99 for distance in mask above: 975.6799999999985\n",
            "2025-08-26 16:53:44,123 -   Quantile 0.99 for distance in mask below: 858.7199999999993\n",
            "2025-08-26 16:53:44,123 -   Ratio for quantile-distance-to-length above: 0.0015\n",
            "2025-08-26 16:53:44,138 -   Ratio for quantile-distance-to-length below: 0.0013\n",
            "2025-08-26 16:53:44,139 -   Score: 1.0007\n"
          ]
        },
        {
          "name": "stderr",
          "output_type": "stream",
          "text": [
            "[I 2025-08-26 16:53:44,174] Trial 170 finished with value: 1.0006555435532405 and parameters: {'year_start': 2022, 'LoadupSamples_time_inc_factor': 61, 'LSTM_units': 32, 'LSTM_learning_rate': 0.00022843176021185754, 'LSTM_l1': 2.9443650683058184e-05, 'LSTM_l2': 0.0007621312275664942, 'LSTM_dropout': 0.004669315243673879, 'LSTM_inter_dropout': 0.022267094499717754, 'LSTM_recurrent_dropout': 0.002345741441370466}. Best is trial 38 with value: 1.0030939915675743.\n"
          ]
        },
        {
          "name": "stdout",
          "output_type": "stream",
          "text": [
            "2025-08-26 16:53:44,174 - Trial 170 finished with value: 1.0006555435532405 and parameters: {'year_start': 2022, 'LoadupSamples_time_inc_factor': 61, 'LSTM_units': 32, 'LSTM_learning_rate': 0.00022843176021185754, 'LSTM_l1': 2.9443650683058184e-05, 'LSTM_l2': 0.0007621312275664942, 'LSTM_dropout': 0.004669315243673879, 'LSTM_inter_dropout': 0.022267094499717754, 'LSTM_recurrent_dropout': 0.002345741441370466}. Best is trial 38 with value: 1.0030939915675743.\n",
            "2025-08-26 16:53:53,357 - Non-finite/too-large values in train y time: 48 samples.\n",
            "2025-08-26 16:53:53,357 - Removing 48 samples from training data.\n"
          ]
        },
        {
          "name": "stderr",
          "output_type": "stream",
          "text": [
            "Epochs:   0%|          | 0/2 [00:00<?, ?it/s]"
          ]
        },
        {
          "name": "stdout",
          "output_type": "stream",
          "text": [
            "2025-08-26 16:54:33,346 - Epoch 1/2 — Train RMSE: 0.4356 — Validation RMSE: 0.4023\n"
          ]
        },
        {
          "name": "stderr",
          "output_type": "stream",
          "text": [
            "Epochs:  50%|█████     | 1/2 [00:29<00:29, 29.54s/it]"
          ]
        },
        {
          "name": "stdout",
          "output_type": "stream",
          "text": [
            "2025-08-26 16:55:02,940 - Epoch 2/2 — Train RMSE: 0.4167 — Validation RMSE: 0.4021\n"
          ]
        },
        {
          "name": "stderr",
          "output_type": "stream",
          "text": [
            "Epochs: 100%|██████████| 2/2 [00:59<00:00, 29.56s/it]\n"
          ]
        },
        {
          "name": "stdout",
          "output_type": "stream",
          "text": [
            "2025-08-26 16:55:06,702 - Trial 171 with params: {'idxAfterPrediction': 4, 'timesteps': 75, 'target_option': 'last', 'LoadupSamples_time_scaling_stretch': True, 'LoadupSamples_time_inc_factor': 61, 'LSTM_units': 32, 'LSTM_num_layers': 1, 'LSTM_dropout': 0.004737040313811215, 'LSTM_recurrent_dropout': 0.0020478128706408233, 'LSTM_learning_rate': 0.0002039710935665746, 'LSTM_optimizer': 'adam', 'LSTM_bidirectional': True, 'LSTM_batch_size': 4096, 'LSTM_epochs': 2, 'LSTM_l1': 3.3748093507829744e-05, 'LSTM_l2': 0.00013227423497828516, 'LSTM_inter_dropout': 0.01535690911499623, 'LSTM_input_gaussian_noise': 0.001, 'LSTM_conv1d': True, 'LSTM_conv1d_kernel_size': 3, 'LSTM_loss': 'mse', 'LSTM_transformer_before': False, 'LSTM_transformer_after': False, 'LSTM_tf_d_model': 0, 'LSTM_tf_nhead': 2, 'LSTM_tf_num_layers_before': 0, 'LSTM_tf_num_layers_after': 0, 'LSTM_tf_dim_feedforward': 8, 'LSTM_tf_dropout': 0.1, 'LSTM_tf_positional_encoding': True, 'LSTM_tf_pool': 'last', 'year_start': 2020, 'is_single_feature': False}\n",
            "2025-08-26 16:55:06,702 -   q2: 0.9900\n",
            "2025-08-26 16:55:06,702 -   Duration0: 0:01:03.070246\n",
            "2025-08-26 16:55:06,702 -   Val RMSE0 adjusted: 0.0066\n",
            "2025-08-26 16:55:06,719 -   Mean all prediction: 0.9993\n",
            "2025-08-26 16:55:06,720 -   Mean above prediction: 1.0061\n",
            "2025-08-26 16:55:06,720 -   Mean below prediction: 0.9970\n",
            "2025-08-26 16:55:06,720 -   Quantile 0.99 for distance in mask above: 941.9599999999991\n",
            "2025-08-26 16:55:06,720 -   Quantile 0.99 for distance in mask below: 882.359999999997\n",
            "2025-08-26 16:55:06,720 -   Ratio for quantile-distance-to-length above: 0.0014\n",
            "2025-08-26 16:55:06,720 -   Ratio for quantile-distance-to-length below: 0.0013\n",
            "2025-08-26 16:55:06,720 -   Score: 1.0015\n"
          ]
        },
        {
          "name": "stderr",
          "output_type": "stream",
          "text": [
            "[I 2025-08-26 16:55:06,791] Trial 171 finished with value: 1.0015177615525128 and parameters: {'year_start': 2020, 'LoadupSamples_time_inc_factor': 61, 'LSTM_units': 32, 'LSTM_learning_rate': 0.0002039710935665746, 'LSTM_l1': 3.3748093507829744e-05, 'LSTM_l2': 0.00013227423497828516, 'LSTM_dropout': 0.004737040313811215, 'LSTM_inter_dropout': 0.01535690911499623, 'LSTM_recurrent_dropout': 0.0020478128706408233}. Best is trial 38 with value: 1.0030939915675743.\n"
          ]
        },
        {
          "name": "stdout",
          "output_type": "stream",
          "text": [
            "2025-08-26 16:55:06,791 - Trial 171 finished with value: 1.0015177615525128 and parameters: {'year_start': 2020, 'LoadupSamples_time_inc_factor': 61, 'LSTM_units': 32, 'LSTM_learning_rate': 0.0002039710935665746, 'LSTM_l1': 3.3748093507829744e-05, 'LSTM_l2': 0.00013227423497828516, 'LSTM_dropout': 0.004737040313811215, 'LSTM_inter_dropout': 0.01535690911499623, 'LSTM_recurrent_dropout': 0.0020478128706408233}. Best is trial 38 with value: 1.0030939915675743.\n",
            "2025-08-26 16:55:15,936 - Non-finite/too-large values in train y time: 48 samples.\n",
            "2025-08-26 16:55:15,936 - Removing 48 samples from training data.\n"
          ]
        },
        {
          "name": "stderr",
          "output_type": "stream",
          "text": [
            "Epochs:   0%|          | 0/2 [00:00<?, ?it/s]"
          ]
        },
        {
          "name": "stdout",
          "output_type": "stream",
          "text": [
            "2025-08-26 16:55:55,859 - Epoch 1/2 — Train RMSE: 0.4514 — Validation RMSE: 0.4032\n"
          ]
        },
        {
          "name": "stderr",
          "output_type": "stream",
          "text": [
            "Epochs:  50%|█████     | 1/2 [00:29<00:29, 29.58s/it]"
          ]
        },
        {
          "name": "stdout",
          "output_type": "stream",
          "text": [
            "2025-08-26 16:56:25,506 - Epoch 2/2 — Train RMSE: 0.4173 — Validation RMSE: 0.4025\n"
          ]
        },
        {
          "name": "stderr",
          "output_type": "stream",
          "text": [
            "Epochs: 100%|██████████| 2/2 [00:59<00:00, 29.62s/it]\n"
          ]
        },
        {
          "name": "stdout",
          "output_type": "stream",
          "text": [
            "2025-08-26 16:56:29,660 - Trial 172 with params: {'idxAfterPrediction': 4, 'timesteps': 75, 'target_option': 'last', 'LoadupSamples_time_scaling_stretch': True, 'LoadupSamples_time_inc_factor': 61, 'LSTM_units': 32, 'LSTM_num_layers': 1, 'LSTM_dropout': 0.005367046047910663, 'LSTM_recurrent_dropout': 0.0019454532590158918, 'LSTM_learning_rate': 0.00018956292671836966, 'LSTM_optimizer': 'adam', 'LSTM_bidirectional': True, 'LSTM_batch_size': 4096, 'LSTM_epochs': 2, 'LSTM_l1': 4.03963416253445e-05, 'LSTM_l2': 0.00011018551889941579, 'LSTM_inter_dropout': 0.01478243811005697, 'LSTM_input_gaussian_noise': 0.001, 'LSTM_conv1d': True, 'LSTM_conv1d_kernel_size': 3, 'LSTM_loss': 'mse', 'LSTM_transformer_before': False, 'LSTM_transformer_after': False, 'LSTM_tf_d_model': 0, 'LSTM_tf_nhead': 2, 'LSTM_tf_num_layers_before': 0, 'LSTM_tf_num_layers_after': 0, 'LSTM_tf_dim_feedforward': 8, 'LSTM_tf_dropout': 0.1, 'LSTM_tf_positional_encoding': True, 'LSTM_tf_pool': 'last', 'year_start': 2020, 'is_single_feature': False}\n",
            "2025-08-26 16:56:29,661 -   q2: 0.9900\n",
            "2025-08-26 16:56:29,661 -   Duration0: 0:01:03.551652\n",
            "2025-08-26 16:56:29,662 -   Val RMSE0 adjusted: 0.0066\n",
            "2025-08-26 16:56:29,665 -   Mean all prediction: 0.9993\n",
            "2025-08-26 16:56:29,665 -   Mean above prediction: 1.0093\n",
            "2025-08-26 16:56:29,665 -   Mean below prediction: 0.9965\n",
            "2025-08-26 16:56:29,665 -   Quantile 0.99 for distance in mask above: 929.3999999999978\n",
            "2025-08-26 16:56:29,665 -   Quantile 0.99 for distance in mask below: 863.2399999999998\n",
            "2025-08-26 16:56:29,665 -   Ratio for quantile-distance-to-length above: 0.0014\n",
            "2025-08-26 16:56:29,665 -   Ratio for quantile-distance-to-length below: 0.0013\n",
            "2025-08-26 16:56:29,665 -   Score: 1.0023\n"
          ]
        },
        {
          "name": "stderr",
          "output_type": "stream",
          "text": [
            "[I 2025-08-26 16:56:29,739] Trial 172 finished with value: 1.002325584123881 and parameters: {'year_start': 2020, 'LoadupSamples_time_inc_factor': 61, 'LSTM_units': 32, 'LSTM_learning_rate': 0.00018956292671836966, 'LSTM_l1': 4.03963416253445e-05, 'LSTM_l2': 0.00011018551889941579, 'LSTM_dropout': 0.005367046047910663, 'LSTM_inter_dropout': 0.01478243811005697, 'LSTM_recurrent_dropout': 0.0019454532590158918}. Best is trial 38 with value: 1.0030939915675743.\n"
          ]
        },
        {
          "name": "stdout",
          "output_type": "stream",
          "text": [
            "2025-08-26 16:56:29,739 - Trial 172 finished with value: 1.002325584123881 and parameters: {'year_start': 2020, 'LoadupSamples_time_inc_factor': 61, 'LSTM_units': 32, 'LSTM_learning_rate': 0.00018956292671836966, 'LSTM_l1': 4.03963416253445e-05, 'LSTM_l2': 0.00011018551889941579, 'LSTM_dropout': 0.005367046047910663, 'LSTM_inter_dropout': 0.01478243811005697, 'LSTM_recurrent_dropout': 0.0019454532590158918}. Best is trial 38 with value: 1.0030939915675743.\n",
            "2025-08-26 16:56:37,248 - Non-finite/too-large values in train y time: 48 samples.\n",
            "2025-08-26 16:56:37,248 - Removing 48 samples from training data.\n"
          ]
        },
        {
          "name": "stderr",
          "output_type": "stream",
          "text": [
            "Epochs:   0%|          | 0/2 [00:00<?, ?it/s]"
          ]
        },
        {
          "name": "stdout",
          "output_type": "stream",
          "text": [
            "2025-08-26 16:57:09,418 - Epoch 1/2 — Train RMSE: 0.4623 — Validation RMSE: 0.4026\n"
          ]
        },
        {
          "name": "stderr",
          "output_type": "stream",
          "text": [
            "Epochs:  50%|█████     | 1/2 [00:23<00:23, 23.70s/it]"
          ]
        },
        {
          "name": "stdout",
          "output_type": "stream",
          "text": [
            "2025-08-26 16:57:32,869 - Epoch 2/2 — Train RMSE: 0.4116 — Validation RMSE: 0.4023\n"
          ]
        },
        {
          "name": "stderr",
          "output_type": "stream",
          "text": [
            "Epochs: 100%|██████████| 2/2 [00:47<00:00, 23.58s/it]\n"
          ]
        },
        {
          "name": "stdout",
          "output_type": "stream",
          "text": [
            "2025-08-26 16:57:36,787 - Trial 173 with params: {'idxAfterPrediction': 4, 'timesteps': 75, 'target_option': 'last', 'LoadupSamples_time_scaling_stretch': True, 'LoadupSamples_time_inc_factor': 61, 'LSTM_units': 32, 'LSTM_num_layers': 1, 'LSTM_dropout': 0.004531164115079764, 'LSTM_recurrent_dropout': 0.001792072368824388, 'LSTM_learning_rate': 0.0001959167528666231, 'LSTM_optimizer': 'adam', 'LSTM_bidirectional': True, 'LSTM_batch_size': 4096, 'LSTM_epochs': 2, 'LSTM_l1': 2.9025824273626755e-05, 'LSTM_l2': 0.00012334705003713895, 'LSTM_inter_dropout': 0.012005486929026596, 'LSTM_input_gaussian_noise': 0.001, 'LSTM_conv1d': True, 'LSTM_conv1d_kernel_size': 3, 'LSTM_loss': 'mse', 'LSTM_transformer_before': False, 'LSTM_transformer_after': False, 'LSTM_tf_d_model': 0, 'LSTM_tf_nhead': 2, 'LSTM_tf_num_layers_before': 0, 'LSTM_tf_num_layers_after': 0, 'LSTM_tf_dim_feedforward': 8, 'LSTM_tf_dropout': 0.1, 'LSTM_tf_positional_encoding': True, 'LSTM_tf_pool': 'last', 'year_start': 2021, 'is_single_feature': False}\n",
            "2025-08-26 16:57:36,787 -   q2: 0.9900\n",
            "2025-08-26 16:57:36,787 -   Duration0: 0:00:51.176097\n",
            "2025-08-26 16:57:36,787 -   Val RMSE0 adjusted: 0.0066\n",
            "2025-08-26 16:57:36,794 -   Mean all prediction: 0.9993\n",
            "2025-08-26 16:57:36,794 -   Mean above prediction: 1.0073\n",
            "2025-08-26 16:57:36,794 -   Mean below prediction: 0.9977\n",
            "2025-08-26 16:57:36,794 -   Quantile 0.99 for distance in mask above: 947.159999999998\n",
            "2025-08-26 16:57:36,794 -   Quantile 0.99 for distance in mask below: 887.7199999999993\n",
            "2025-08-26 16:57:36,794 -   Ratio for quantile-distance-to-length above: 0.0014\n",
            "2025-08-26 16:57:36,794 -   Ratio for quantile-distance-to-length below: 0.0013\n",
            "2025-08-26 16:57:36,794 -   Score: 1.0018\n"
          ]
        },
        {
          "name": "stderr",
          "output_type": "stream",
          "text": [
            "[I 2025-08-26 16:57:36,862] Trial 173 finished with value: 1.0018111234688902 and parameters: {'year_start': 2021, 'LoadupSamples_time_inc_factor': 61, 'LSTM_units': 32, 'LSTM_learning_rate': 0.0001959167528666231, 'LSTM_l1': 2.9025824273626755e-05, 'LSTM_l2': 0.00012334705003713895, 'LSTM_dropout': 0.004531164115079764, 'LSTM_inter_dropout': 0.012005486929026596, 'LSTM_recurrent_dropout': 0.001792072368824388}. Best is trial 38 with value: 1.0030939915675743.\n"
          ]
        },
        {
          "name": "stdout",
          "output_type": "stream",
          "text": [
            "2025-08-26 16:57:36,862 - Trial 173 finished with value: 1.0018111234688902 and parameters: {'year_start': 2021, 'LoadupSamples_time_inc_factor': 61, 'LSTM_units': 32, 'LSTM_learning_rate': 0.0001959167528666231, 'LSTM_l1': 2.9025824273626755e-05, 'LSTM_l2': 0.00012334705003713895, 'LSTM_dropout': 0.004531164115079764, 'LSTM_inter_dropout': 0.012005486929026596, 'LSTM_recurrent_dropout': 0.001792072368824388}. Best is trial 38 with value: 1.0030939915675743.\n",
            "2025-08-26 16:57:46,013 - Non-finite/too-large values in train y time: 48 samples.\n",
            "2025-08-26 16:57:46,014 - Removing 48 samples from training data.\n"
          ]
        },
        {
          "name": "stderr",
          "output_type": "stream",
          "text": [
            "Epochs:   0%|          | 0/2 [00:00<?, ?it/s]"
          ]
        },
        {
          "name": "stdout",
          "output_type": "stream",
          "text": [
            "2025-08-26 16:58:25,968 - Epoch 1/2 — Train RMSE: 0.4261 — Validation RMSE: 0.4020\n"
          ]
        },
        {
          "name": "stderr",
          "output_type": "stream",
          "text": [
            "Epochs:  50%|█████     | 1/2 [00:29<00:29, 29.56s/it]"
          ]
        },
        {
          "name": "stdout",
          "output_type": "stream",
          "text": [
            "2025-08-26 16:58:55,401 - Epoch 2/2 — Train RMSE: 0.4155 — Validation RMSE: 0.4020\n"
          ]
        },
        {
          "name": "stderr",
          "output_type": "stream",
          "text": [
            "Epochs: 100%|██████████| 2/2 [00:58<00:00, 29.49s/it]\n"
          ]
        },
        {
          "name": "stdout",
          "output_type": "stream",
          "text": [
            "2025-08-26 16:58:59,474 - Trial 174 with params: {'idxAfterPrediction': 4, 'timesteps': 75, 'target_option': 'last', 'LoadupSamples_time_scaling_stretch': True, 'LoadupSamples_time_inc_factor': 61, 'LSTM_units': 32, 'LSTM_num_layers': 1, 'LSTM_dropout': 0.004987398266344562, 'LSTM_recurrent_dropout': 0.002102448146016284, 'LSTM_learning_rate': 0.0002119943163425134, 'LSTM_optimizer': 'adam', 'LSTM_bidirectional': True, 'LSTM_batch_size': 4096, 'LSTM_epochs': 2, 'LSTM_l1': 2.762842531155212e-05, 'LSTM_l2': 0.0001457051970959413, 'LSTM_inter_dropout': 0.013779073629916235, 'LSTM_input_gaussian_noise': 0.001, 'LSTM_conv1d': True, 'LSTM_conv1d_kernel_size': 3, 'LSTM_loss': 'mse', 'LSTM_transformer_before': False, 'LSTM_transformer_after': False, 'LSTM_tf_d_model': 0, 'LSTM_tf_nhead': 2, 'LSTM_tf_num_layers_before': 0, 'LSTM_tf_num_layers_after': 0, 'LSTM_tf_dim_feedforward': 8, 'LSTM_tf_dropout': 0.1, 'LSTM_tf_positional_encoding': True, 'LSTM_tf_pool': 'last', 'year_start': 2020, 'is_single_feature': False}\n",
            "2025-08-26 16:58:59,474 -   q2: 0.9900\n",
            "2025-08-26 16:58:59,474 -   Duration0: 0:01:03.223622\n",
            "2025-08-26 16:58:59,474 -   Val RMSE0 adjusted: 0.0066\n",
            "2025-08-26 16:58:59,490 -   Mean all prediction: 0.9993\n",
            "2025-08-26 16:58:59,492 -   Mean above prediction: 1.0068\n",
            "2025-08-26 16:58:59,493 -   Mean below prediction: 0.9962\n",
            "2025-08-26 16:58:59,493 -   Quantile 0.99 for distance in mask above: 954.0\n",
            "2025-08-26 16:58:59,495 -   Quantile 0.99 for distance in mask below: 810.9599999999991\n",
            "2025-08-26 16:58:59,496 -   Ratio for quantile-distance-to-length above: 0.0015\n",
            "2025-08-26 16:58:59,497 -   Ratio for quantile-distance-to-length below: 0.0012\n",
            "2025-08-26 16:58:59,497 -   Score: 1.0017\n"
          ]
        },
        {
          "name": "stderr",
          "output_type": "stream",
          "text": [
            "[I 2025-08-26 16:58:59,574] Trial 174 finished with value: 1.0016941990196064 and parameters: {'year_start': 2020, 'LoadupSamples_time_inc_factor': 61, 'LSTM_units': 32, 'LSTM_learning_rate': 0.0002119943163425134, 'LSTM_l1': 2.762842531155212e-05, 'LSTM_l2': 0.0001457051970959413, 'LSTM_dropout': 0.004987398266344562, 'LSTM_inter_dropout': 0.013779073629916235, 'LSTM_recurrent_dropout': 0.002102448146016284}. Best is trial 38 with value: 1.0030939915675743.\n"
          ]
        },
        {
          "name": "stdout",
          "output_type": "stream",
          "text": [
            "2025-08-26 16:58:59,574 - Trial 174 finished with value: 1.0016941990196064 and parameters: {'year_start': 2020, 'LoadupSamples_time_inc_factor': 61, 'LSTM_units': 32, 'LSTM_learning_rate': 0.0002119943163425134, 'LSTM_l1': 2.762842531155212e-05, 'LSTM_l2': 0.0001457051970959413, 'LSTM_dropout': 0.004987398266344562, 'LSTM_inter_dropout': 0.013779073629916235, 'LSTM_recurrent_dropout': 0.002102448146016284}. Best is trial 38 with value: 1.0030939915675743.\n",
            "2025-08-26 16:59:07,074 - Non-finite/too-large values in train y time: 48 samples.\n",
            "2025-08-26 16:59:07,093 - Removing 48 samples from training data.\n"
          ]
        },
        {
          "name": "stderr",
          "output_type": "stream",
          "text": [
            "Epochs:   0%|          | 0/2 [00:00<?, ?it/s]"
          ]
        },
        {
          "name": "stdout",
          "output_type": "stream",
          "text": [
            "2025-08-26 16:59:39,277 - Epoch 1/2 — Train RMSE: 0.4639 — Validation RMSE: 0.4146\n"
          ]
        },
        {
          "name": "stderr",
          "output_type": "stream",
          "text": [
            "Epochs:  50%|█████     | 1/2 [00:23<00:23, 23.75s/it]"
          ]
        },
        {
          "name": "stdout",
          "output_type": "stream",
          "text": [
            "2025-08-26 17:00:02,680 - Epoch 2/2 — Train RMSE: 0.4224 — Validation RMSE: 0.4144\n"
          ]
        },
        {
          "name": "stderr",
          "output_type": "stream",
          "text": [
            "Epochs: 100%|██████████| 2/2 [00:47<00:00, 23.58s/it]\n"
          ]
        },
        {
          "name": "stdout",
          "output_type": "stream",
          "text": [
            "2025-08-26 17:00:06,804 - Trial 175 with params: {'idxAfterPrediction': 4, 'timesteps': 75, 'target_option': 'last', 'LoadupSamples_time_scaling_stretch': True, 'LoadupSamples_time_inc_factor': 71, 'LSTM_units': 32, 'LSTM_num_layers': 1, 'LSTM_dropout': 0.006104018620835828, 'LSTM_recurrent_dropout': 0.004640554814348449, 'LSTM_learning_rate': 0.0002009421859820372, 'LSTM_optimizer': 'adam', 'LSTM_bidirectional': True, 'LSTM_batch_size': 4096, 'LSTM_epochs': 2, 'LSTM_l1': 2.4598909868913974e-05, 'LSTM_l2': 0.0001641665944490532, 'LSTM_inter_dropout': 0.017024723677892883, 'LSTM_input_gaussian_noise': 0.001, 'LSTM_conv1d': True, 'LSTM_conv1d_kernel_size': 3, 'LSTM_loss': 'mse', 'LSTM_transformer_before': False, 'LSTM_transformer_after': False, 'LSTM_tf_d_model': 0, 'LSTM_tf_nhead': 2, 'LSTM_tf_num_layers_before': 0, 'LSTM_tf_num_layers_after': 0, 'LSTM_tf_dim_feedforward': 8, 'LSTM_tf_dropout': 0.1, 'LSTM_tf_positional_encoding': True, 'LSTM_tf_pool': 'last', 'year_start': 2021, 'is_single_feature': False}\n",
            "2025-08-26 17:00:06,804 -   q2: 0.9900\n",
            "2025-08-26 17:00:06,804 -   Duration0: 0:00:51.394941\n",
            "2025-08-26 17:00:06,804 -   Val RMSE0 adjusted: 0.0058\n",
            "2025-08-26 17:00:06,820 -   Mean all prediction: 0.9993\n",
            "2025-08-26 17:00:06,820 -   Mean above prediction: 1.0034\n",
            "2025-08-26 17:00:06,820 -   Mean below prediction: 0.9972\n",
            "2025-08-26 17:00:06,820 -   Quantile 0.99 for distance in mask above: 768.6799999999985\n",
            "2025-08-26 17:00:06,820 -   Quantile 0.99 for distance in mask below: 809.2399999999998\n",
            "2025-08-26 17:00:06,820 -   Ratio for quantile-distance-to-length above: 0.0012\n",
            "2025-08-26 17:00:06,820 -   Ratio for quantile-distance-to-length below: 0.0012\n",
            "2025-08-26 17:00:06,820 -   Score: 1.0009\n"
          ]
        },
        {
          "name": "stderr",
          "output_type": "stream",
          "text": [
            "[I 2025-08-26 17:00:06,887] Trial 175 finished with value: 1.0008549086197442 and parameters: {'year_start': 2021, 'LoadupSamples_time_inc_factor': 71, 'LSTM_units': 32, 'LSTM_learning_rate': 0.0002009421859820372, 'LSTM_l1': 2.4598909868913974e-05, 'LSTM_l2': 0.0001641665944490532, 'LSTM_dropout': 0.006104018620835828, 'LSTM_inter_dropout': 0.017024723677892883, 'LSTM_recurrent_dropout': 0.004640554814348449}. Best is trial 38 with value: 1.0030939915675743.\n"
          ]
        },
        {
          "name": "stdout",
          "output_type": "stream",
          "text": [
            "2025-08-26 17:00:06,887 - Trial 175 finished with value: 1.0008549086197442 and parameters: {'year_start': 2021, 'LoadupSamples_time_inc_factor': 71, 'LSTM_units': 32, 'LSTM_learning_rate': 0.0002009421859820372, 'LSTM_l1': 2.4598909868913974e-05, 'LSTM_l2': 0.0001641665944490532, 'LSTM_dropout': 0.006104018620835828, 'LSTM_inter_dropout': 0.017024723677892883, 'LSTM_recurrent_dropout': 0.004640554814348449}. Best is trial 38 with value: 1.0030939915675743.\n",
            "2025-08-26 17:00:16,022 - Non-finite/too-large values in train y time: 48 samples.\n",
            "2025-08-26 17:00:16,024 - Removing 48 samples from training data.\n"
          ]
        },
        {
          "name": "stderr",
          "output_type": "stream",
          "text": [
            "Epochs:   0%|          | 0/2 [00:00<?, ?it/s]"
          ]
        },
        {
          "name": "stdout",
          "output_type": "stream",
          "text": [
            "2025-08-26 17:00:56,094 - Epoch 1/2 — Train RMSE: 0.4400 — Validation RMSE: 0.4022\n"
          ]
        },
        {
          "name": "stderr",
          "output_type": "stream",
          "text": [
            "Epochs:  50%|█████     | 1/2 [00:29<00:29, 29.66s/it]"
          ]
        },
        {
          "name": "stdout",
          "output_type": "stream",
          "text": [
            "2025-08-26 17:01:25,541 - Epoch 2/2 — Train RMSE: 0.4159 — Validation RMSE: 0.4020\n"
          ]
        },
        {
          "name": "stderr",
          "output_type": "stream",
          "text": [
            "Epochs: 100%|██████████| 2/2 [00:59<00:00, 29.56s/it]\n"
          ]
        },
        {
          "name": "stdout",
          "output_type": "stream",
          "text": [
            "2025-08-26 17:01:29,567 - Trial 176 with params: {'idxAfterPrediction': 4, 'timesteps': 75, 'target_option': 'last', 'LoadupSamples_time_scaling_stretch': True, 'LoadupSamples_time_inc_factor': 61, 'LSTM_units': 32, 'LSTM_num_layers': 1, 'LSTM_dropout': 0.005223349230168, 'LSTM_recurrent_dropout': 0.0022264167636100907, 'LSTM_learning_rate': 0.0001827573827491753, 'LSTM_optimizer': 'adam', 'LSTM_bidirectional': True, 'LSTM_batch_size': 4096, 'LSTM_epochs': 2, 'LSTM_l1': 7.658048664671268e-05, 'LSTM_l2': 0.0001317976201294156, 'LSTM_inter_dropout': 0.013052427270381636, 'LSTM_input_gaussian_noise': 0.001, 'LSTM_conv1d': True, 'LSTM_conv1d_kernel_size': 3, 'LSTM_loss': 'mse', 'LSTM_transformer_before': False, 'LSTM_transformer_after': False, 'LSTM_tf_d_model': 0, 'LSTM_tf_nhead': 2, 'LSTM_tf_num_layers_before': 0, 'LSTM_tf_num_layers_after': 0, 'LSTM_tf_dim_feedforward': 8, 'LSTM_tf_dropout': 0.1, 'LSTM_tf_positional_encoding': True, 'LSTM_tf_pool': 'last', 'year_start': 2020, 'is_single_feature': False}\n",
            "2025-08-26 17:01:29,567 -   q2: 0.9900\n",
            "2025-08-26 17:01:29,567 -   Duration0: 0:01:03.282323\n",
            "2025-08-26 17:01:29,567 -   Val RMSE0 adjusted: 0.0066\n",
            "2025-08-26 17:01:29,582 -   Mean all prediction: 0.9993\n",
            "2025-08-26 17:01:29,583 -   Mean above prediction: 1.0075\n",
            "2025-08-26 17:01:29,583 -   Mean below prediction: 0.9972\n",
            "2025-08-26 17:01:29,583 -   Quantile 0.99 for distance in mask above: 911.1999999999989\n",
            "2025-08-26 17:01:29,583 -   Quantile 0.99 for distance in mask below: 875.4399999999987\n",
            "2025-08-26 17:01:29,583 -   Ratio for quantile-distance-to-length above: 0.0014\n",
            "2025-08-26 17:01:29,583 -   Ratio for quantile-distance-to-length below: 0.0013\n",
            "2025-08-26 17:01:29,583 -   Score: 1.0019\n"
          ]
        },
        {
          "name": "stderr",
          "output_type": "stream",
          "text": [
            "[I 2025-08-26 17:01:29,651] Trial 176 finished with value: 1.0018577684143337 and parameters: {'year_start': 2020, 'LoadupSamples_time_inc_factor': 61, 'LSTM_units': 32, 'LSTM_learning_rate': 0.0001827573827491753, 'LSTM_l1': 7.658048664671268e-05, 'LSTM_l2': 0.0001317976201294156, 'LSTM_dropout': 0.005223349230168, 'LSTM_inter_dropout': 0.013052427270381636, 'LSTM_recurrent_dropout': 0.0022264167636100907}. Best is trial 38 with value: 1.0030939915675743.\n"
          ]
        },
        {
          "name": "stdout",
          "output_type": "stream",
          "text": [
            "2025-08-26 17:01:29,651 - Trial 176 finished with value: 1.0018577684143337 and parameters: {'year_start': 2020, 'LoadupSamples_time_inc_factor': 61, 'LSTM_units': 32, 'LSTM_learning_rate': 0.0001827573827491753, 'LSTM_l1': 7.658048664671268e-05, 'LSTM_l2': 0.0001317976201294156, 'LSTM_dropout': 0.005223349230168, 'LSTM_inter_dropout': 0.013052427270381636, 'LSTM_recurrent_dropout': 0.0022264167636100907}. Best is trial 38 with value: 1.0030939915675743.\n",
            "2025-08-26 17:01:37,161 - Non-finite/too-large values in train y time: 48 samples.\n",
            "2025-08-26 17:01:37,164 - Removing 48 samples from training data.\n"
          ]
        },
        {
          "name": "stderr",
          "output_type": "stream",
          "text": [
            "Epochs:   0%|          | 0/2 [00:00<?, ?it/s]"
          ]
        },
        {
          "name": "stdout",
          "output_type": "stream",
          "text": [
            "2025-08-26 17:02:09,386 - Epoch 1/2 — Train RMSE: 0.4379 — Validation RMSE: 0.4024\n"
          ]
        },
        {
          "name": "stderr",
          "output_type": "stream",
          "text": [
            "Epochs:  50%|█████     | 1/2 [00:23<00:23, 23.65s/it]"
          ]
        },
        {
          "name": "stdout",
          "output_type": "stream",
          "text": [
            "2025-08-26 17:02:32,823 - Epoch 2/2 — Train RMSE: 0.4111 — Validation RMSE: 0.4022\n"
          ]
        },
        {
          "name": "stderr",
          "output_type": "stream",
          "text": [
            "Epochs: 100%|██████████| 2/2 [00:47<00:00, 23.54s/it]\n"
          ]
        },
        {
          "name": "stdout",
          "output_type": "stream",
          "text": [
            "2025-08-26 17:02:36,896 - Trial 177 with params: {'idxAfterPrediction': 4, 'timesteps': 75, 'target_option': 'last', 'LoadupSamples_time_scaling_stretch': True, 'LoadupSamples_time_inc_factor': 61, 'LSTM_units': 32, 'LSTM_num_layers': 1, 'LSTM_dropout': 0.008627629940646898, 'LSTM_recurrent_dropout': 0.0012795371023897782, 'LSTM_learning_rate': 0.00021705776406223069, 'LSTM_optimizer': 'adam', 'LSTM_bidirectional': True, 'LSTM_batch_size': 4096, 'LSTM_epochs': 2, 'LSTM_l1': 2.9738076187273818e-05, 'LSTM_l2': 0.00010108442500685515, 'LSTM_inter_dropout': 0.020150535215055318, 'LSTM_input_gaussian_noise': 0.001, 'LSTM_conv1d': True, 'LSTM_conv1d_kernel_size': 3, 'LSTM_loss': 'mse', 'LSTM_transformer_before': False, 'LSTM_transformer_after': False, 'LSTM_tf_d_model': 0, 'LSTM_tf_nhead': 2, 'LSTM_tf_num_layers_before': 0, 'LSTM_tf_num_layers_after': 0, 'LSTM_tf_dim_feedforward': 8, 'LSTM_tf_dropout': 0.1, 'LSTM_tf_positional_encoding': True, 'LSTM_tf_pool': 'last', 'year_start': 2021, 'is_single_feature': False}\n",
            "2025-08-26 17:02:36,896 -   q2: 0.9900\n",
            "2025-08-26 17:02:36,896 -   Duration0: 0:00:51.277541\n",
            "2025-08-26 17:02:36,896 -   Val RMSE0 adjusted: 0.0066\n",
            "2025-08-26 17:02:36,916 -   Mean all prediction: 0.9993\n",
            "2025-08-26 17:02:36,916 -   Mean above prediction: 1.0050\n",
            "2025-08-26 17:02:36,916 -   Mean below prediction: 0.9978\n",
            "2025-08-26 17:02:36,916 -   Quantile 0.99 for distance in mask above: 879.7199999999993\n",
            "2025-08-26 17:02:36,916 -   Quantile 0.99 for distance in mask below: 873.9199999999983\n",
            "2025-08-26 17:02:36,916 -   Ratio for quantile-distance-to-length above: 0.0013\n",
            "2025-08-26 17:02:36,916 -   Ratio for quantile-distance-to-length below: 0.0013\n",
            "2025-08-26 17:02:36,916 -   Score: 1.0012\n"
          ]
        },
        {
          "name": "stderr",
          "output_type": "stream",
          "text": [
            "[I 2025-08-26 17:02:36,980] Trial 177 finished with value: 1.0012384919794206 and parameters: {'year_start': 2021, 'LoadupSamples_time_inc_factor': 61, 'LSTM_units': 32, 'LSTM_learning_rate': 0.00021705776406223069, 'LSTM_l1': 2.9738076187273818e-05, 'LSTM_l2': 0.00010108442500685515, 'LSTM_dropout': 0.008627629940646898, 'LSTM_inter_dropout': 0.020150535215055318, 'LSTM_recurrent_dropout': 0.0012795371023897782}. Best is trial 38 with value: 1.0030939915675743.\n"
          ]
        },
        {
          "name": "stdout",
          "output_type": "stream",
          "text": [
            "2025-08-26 17:02:36,980 - Trial 177 finished with value: 1.0012384919794206 and parameters: {'year_start': 2021, 'LoadupSamples_time_inc_factor': 61, 'LSTM_units': 32, 'LSTM_learning_rate': 0.00021705776406223069, 'LSTM_l1': 2.9738076187273818e-05, 'LSTM_l2': 0.00010108442500685515, 'LSTM_dropout': 0.008627629940646898, 'LSTM_inter_dropout': 0.020150535215055318, 'LSTM_recurrent_dropout': 0.0012795371023897782}. Best is trial 38 with value: 1.0030939915675743.\n",
            "2025-08-26 17:02:44,479 - Non-finite/too-large values in train y time: 48 samples.\n",
            "2025-08-26 17:02:44,479 - Removing 48 samples from training data.\n"
          ]
        },
        {
          "name": "stderr",
          "output_type": "stream",
          "text": [
            "Epochs:   0%|          | 0/2 [00:00<?, ?it/s]"
          ]
        },
        {
          "name": "stdout",
          "output_type": "stream",
          "text": [
            "2025-08-26 17:03:16,783 - Epoch 1/2 — Train RMSE: 0.4504 — Validation RMSE: 0.4240\n"
          ]
        },
        {
          "name": "stderr",
          "output_type": "stream",
          "text": [
            "Epochs:  50%|█████     | 1/2 [00:23<00:23, 23.77s/it]"
          ]
        },
        {
          "name": "stdout",
          "output_type": "stream",
          "text": [
            "2025-08-26 17:03:40,299 - Epoch 2/2 — Train RMSE: 0.4314 — Validation RMSE: 0.4239\n"
          ]
        },
        {
          "name": "stderr",
          "output_type": "stream",
          "text": [
            "Epochs: 100%|██████████| 2/2 [00:47<00:00, 23.64s/it]\n"
          ]
        },
        {
          "name": "stdout",
          "output_type": "stream",
          "text": [
            "2025-08-26 17:03:44,376 - Trial 178 with params: {'idxAfterPrediction': 4, 'timesteps': 75, 'target_option': 'last', 'LoadupSamples_time_scaling_stretch': True, 'LoadupSamples_time_inc_factor': 81, 'LSTM_units': 32, 'LSTM_num_layers': 1, 'LSTM_dropout': 0.004753297897500641, 'LSTM_recurrent_dropout': 0.0019007442014394727, 'LSTM_learning_rate': 0.00024019268848843637, 'LSTM_optimizer': 'adam', 'LSTM_bidirectional': True, 'LSTM_batch_size': 4096, 'LSTM_epochs': 2, 'LSTM_l1': 1.584551132586766e-05, 'LSTM_l2': 0.0010923907534129888, 'LSTM_inter_dropout': 0.01603995611882472, 'LSTM_input_gaussian_noise': 0.001, 'LSTM_conv1d': True, 'LSTM_conv1d_kernel_size': 3, 'LSTM_loss': 'mse', 'LSTM_transformer_before': False, 'LSTM_transformer_after': False, 'LSTM_tf_d_model': 0, 'LSTM_tf_nhead': 2, 'LSTM_tf_num_layers_before': 0, 'LSTM_tf_num_layers_after': 0, 'LSTM_tf_dim_feedforward': 8, 'LSTM_tf_dropout': 0.1, 'LSTM_tf_positional_encoding': True, 'LSTM_tf_pool': 'last', 'year_start': 2021, 'is_single_feature': False}\n",
            "2025-08-26 17:03:44,376 -   q2: 0.9900\n",
            "2025-08-26 17:03:44,376 -   Duration0: 0:00:51.478189\n",
            "2025-08-26 17:03:44,376 -   Val RMSE0 adjusted: 0.0052\n",
            "2025-08-26 17:03:44,376 -   Mean all prediction: 0.9993\n",
            "2025-08-26 17:03:44,376 -   Mean above prediction: 1.0085\n",
            "2025-08-26 17:03:44,392 -   Mean below prediction: 0.9968\n",
            "2025-08-26 17:03:44,393 -   Quantile 0.99 for distance in mask above: 890.1999999999989\n",
            "2025-08-26 17:03:44,393 -   Quantile 0.99 for distance in mask below: 805.9199999999983\n",
            "2025-08-26 17:03:44,393 -   Ratio for quantile-distance-to-length above: 0.0014\n",
            "2025-08-26 17:03:44,393 -   Ratio for quantile-distance-to-length below: 0.0012\n",
            "2025-08-26 17:03:44,393 -   Score: 1.0021\n"
          ]
        },
        {
          "name": "stderr",
          "output_type": "stream",
          "text": [
            "[I 2025-08-26 17:03:44,476] Trial 178 finished with value: 1.0021236462266996 and parameters: {'year_start': 2021, 'LoadupSamples_time_inc_factor': 81, 'LSTM_units': 32, 'LSTM_learning_rate': 0.00024019268848843637, 'LSTM_l1': 1.584551132586766e-05, 'LSTM_l2': 0.0010923907534129888, 'LSTM_dropout': 0.004753297897500641, 'LSTM_inter_dropout': 0.01603995611882472, 'LSTM_recurrent_dropout': 0.0019007442014394727}. Best is trial 38 with value: 1.0030939915675743.\n"
          ]
        },
        {
          "name": "stdout",
          "output_type": "stream",
          "text": [
            "2025-08-26 17:03:44,476 - Trial 178 finished with value: 1.0021236462266996 and parameters: {'year_start': 2021, 'LoadupSamples_time_inc_factor': 81, 'LSTM_units': 32, 'LSTM_learning_rate': 0.00024019268848843637, 'LSTM_l1': 1.584551132586766e-05, 'LSTM_l2': 0.0010923907534129888, 'LSTM_dropout': 0.004753297897500641, 'LSTM_inter_dropout': 0.01603995611882472, 'LSTM_recurrent_dropout': 0.0019007442014394727}. Best is trial 38 with value: 1.0030939915675743.\n",
            "2025-08-26 17:03:52,042 - Non-finite/too-large values in train y time: 48 samples.\n",
            "2025-08-26 17:03:52,042 - Removing 48 samples from training data.\n"
          ]
        },
        {
          "name": "stderr",
          "output_type": "stream",
          "text": [
            "Epochs:   0%|          | 0/2 [00:00<?, ?it/s]"
          ]
        },
        {
          "name": "stdout",
          "output_type": "stream",
          "text": [
            "2025-08-26 17:04:24,196 - Epoch 1/2 — Train RMSE: 0.4353 — Validation RMSE: 0.4087\n"
          ]
        },
        {
          "name": "stderr",
          "output_type": "stream",
          "text": [
            "Epochs:  50%|█████     | 1/2 [00:23<00:23, 23.75s/it]"
          ]
        },
        {
          "name": "stdout",
          "output_type": "stream",
          "text": [
            "2025-08-26 17:04:47,647 - Epoch 2/2 — Train RMSE: 0.4170 — Validation RMSE: 0.4086\n"
          ]
        },
        {
          "name": "stderr",
          "output_type": "stream",
          "text": [
            "Epochs: 100%|██████████| 2/2 [00:47<00:00, 23.61s/it]\n"
          ]
        },
        {
          "name": "stdout",
          "output_type": "stream",
          "text": [
            "2025-08-26 17:04:51,738 - Trial 179 with params: {'idxAfterPrediction': 4, 'timesteps': 75, 'target_option': 'last', 'LoadupSamples_time_scaling_stretch': True, 'LoadupSamples_time_inc_factor': 66, 'LSTM_units': 32, 'LSTM_num_layers': 1, 'LSTM_dropout': 0.005701130901401783, 'LSTM_recurrent_dropout': 0.001392099840719995, 'LSTM_learning_rate': 0.00018785245762698198, 'LSTM_optimizer': 'adam', 'LSTM_bidirectional': True, 'LSTM_batch_size': 4096, 'LSTM_epochs': 2, 'LSTM_l1': 1.3300221288680024e-05, 'LSTM_l2': 0.00011842895241790015, 'LSTM_inter_dropout': 0.02443036667590374, 'LSTM_input_gaussian_noise': 0.001, 'LSTM_conv1d': True, 'LSTM_conv1d_kernel_size': 3, 'LSTM_loss': 'mse', 'LSTM_transformer_before': False, 'LSTM_transformer_after': False, 'LSTM_tf_d_model': 0, 'LSTM_tf_nhead': 2, 'LSTM_tf_num_layers_before': 0, 'LSTM_tf_num_layers_after': 0, 'LSTM_tf_dim_feedforward': 8, 'LSTM_tf_dropout': 0.1, 'LSTM_tf_positional_encoding': True, 'LSTM_tf_pool': 'last', 'year_start': 2021, 'is_single_feature': False}\n",
            "2025-08-26 17:04:51,739 -   q2: 0.9900\n",
            "2025-08-26 17:04:51,739 -   Duration0: 0:00:51.395372\n",
            "2025-08-26 17:04:51,739 -   Val RMSE0 adjusted: 0.0062\n",
            "2025-08-26 17:04:51,739 -   Mean all prediction: 0.9993\n",
            "2025-08-26 17:04:51,739 -   Mean above prediction: 1.0066\n",
            "2025-08-26 17:04:51,739 -   Mean below prediction: 0.9983\n",
            "2025-08-26 17:04:51,739 -   Quantile 0.99 for distance in mask above: 909.2399999999998\n",
            "2025-08-26 17:04:51,739 -   Quantile 0.99 for distance in mask below: 900.6799999999985\n",
            "2025-08-26 17:04:51,739 -   Ratio for quantile-distance-to-length above: 0.0014\n",
            "2025-08-26 17:04:51,751 -   Ratio for quantile-distance-to-length below: 0.0014\n",
            "2025-08-26 17:04:51,751 -   Score: 1.0017\n"
          ]
        },
        {
          "name": "stderr",
          "output_type": "stream",
          "text": [
            "[I 2025-08-26 17:04:51,810] Trial 179 finished with value: 1.001656479871699 and parameters: {'year_start': 2021, 'LoadupSamples_time_inc_factor': 66, 'LSTM_units': 32, 'LSTM_learning_rate': 0.00018785245762698198, 'LSTM_l1': 1.3300221288680024e-05, 'LSTM_l2': 0.00011842895241790015, 'LSTM_dropout': 0.005701130901401783, 'LSTM_inter_dropout': 0.02443036667590374, 'LSTM_recurrent_dropout': 0.001392099840719995}. Best is trial 38 with value: 1.0030939915675743.\n"
          ]
        },
        {
          "name": "stdout",
          "output_type": "stream",
          "text": [
            "2025-08-26 17:04:51,810 - Trial 179 finished with value: 1.001656479871699 and parameters: {'year_start': 2021, 'LoadupSamples_time_inc_factor': 66, 'LSTM_units': 32, 'LSTM_learning_rate': 0.00018785245762698198, 'LSTM_l1': 1.3300221288680024e-05, 'LSTM_l2': 0.00011842895241790015, 'LSTM_dropout': 0.005701130901401783, 'LSTM_inter_dropout': 0.02443036667590374, 'LSTM_recurrent_dropout': 0.001392099840719995}. Best is trial 38 with value: 1.0030939915675743.\n",
            "2025-08-26 17:05:00,958 - Non-finite/too-large values in train y time: 48 samples.\n",
            "2025-08-26 17:05:00,959 - Removing 48 samples from training data.\n"
          ]
        },
        {
          "name": "stderr",
          "output_type": "stream",
          "text": [
            "Epochs:   0%|          | 0/2 [00:00<?, ?it/s]"
          ]
        },
        {
          "name": "stdout",
          "output_type": "stream",
          "text": [
            "2025-08-26 17:05:40,996 - Epoch 1/2 — Train RMSE: 0.4243 — Validation RMSE: 0.4022\n"
          ]
        },
        {
          "name": "stderr",
          "output_type": "stream",
          "text": [
            "Epochs:  50%|█████     | 1/2 [00:29<00:29, 29.63s/it]"
          ]
        },
        {
          "name": "stdout",
          "output_type": "stream",
          "text": [
            "2025-08-26 17:06:10,426 - Epoch 2/2 — Train RMSE: 0.4160 — Validation RMSE: 0.4020\n"
          ]
        },
        {
          "name": "stderr",
          "output_type": "stream",
          "text": [
            "Epochs: 100%|██████████| 2/2 [00:59<00:00, 29.52s/it]\n"
          ]
        },
        {
          "name": "stdout",
          "output_type": "stream",
          "text": [
            "2025-08-26 17:06:14,485 - Trial 180 with params: {'idxAfterPrediction': 4, 'timesteps': 75, 'target_option': 'last', 'LoadupSamples_time_scaling_stretch': True, 'LoadupSamples_time_inc_factor': 61, 'LSTM_units': 32, 'LSTM_num_layers': 1, 'LSTM_dropout': 0.004338968805879082, 'LSTM_recurrent_dropout': 0.0015874714763407412, 'LSTM_learning_rate': 0.00020762507395574874, 'LSTM_optimizer': 'adam', 'LSTM_bidirectional': True, 'LSTM_batch_size': 4096, 'LSTM_epochs': 2, 'LSTM_l1': 1.506340724745049e-05, 'LSTM_l2': 0.00010882034207820402, 'LSTM_inter_dropout': 0.023298446438180933, 'LSTM_input_gaussian_noise': 0.001, 'LSTM_conv1d': True, 'LSTM_conv1d_kernel_size': 3, 'LSTM_loss': 'mse', 'LSTM_transformer_before': False, 'LSTM_transformer_after': False, 'LSTM_tf_d_model': 0, 'LSTM_tf_nhead': 2, 'LSTM_tf_num_layers_before': 0, 'LSTM_tf_num_layers_after': 0, 'LSTM_tf_dim_feedforward': 8, 'LSTM_tf_dropout': 0.1, 'LSTM_tf_positional_encoding': True, 'LSTM_tf_pool': 'last', 'year_start': 2020, 'is_single_feature': False}\n",
            "2025-08-26 17:06:14,501 -   q2: 0.9900\n",
            "2025-08-26 17:06:14,501 -   Duration0: 0:01:03.253256\n",
            "2025-08-26 17:06:14,502 -   Val RMSE0 adjusted: 0.0066\n",
            "2025-08-26 17:06:14,502 -   Mean all prediction: 0.9993\n",
            "2025-08-26 17:06:14,502 -   Mean above prediction: 1.0059\n",
            "2025-08-26 17:06:14,502 -   Mean below prediction: 0.9964\n",
            "2025-08-26 17:06:14,502 -   Quantile 0.99 for distance in mask above: 938.159999999998\n",
            "2025-08-26 17:06:14,502 -   Quantile 0.99 for distance in mask below: 873.0799999999963\n",
            "2025-08-26 17:06:14,502 -   Ratio for quantile-distance-to-length above: 0.0014\n",
            "2025-08-26 17:06:14,502 -   Ratio for quantile-distance-to-length below: 0.0013\n",
            "2025-08-26 17:06:14,502 -   Score: 1.0015\n"
          ]
        },
        {
          "name": "stderr",
          "output_type": "stream",
          "text": [
            "[I 2025-08-26 17:06:14,577] Trial 180 finished with value: 1.0014750860649568 and parameters: {'year_start': 2020, 'LoadupSamples_time_inc_factor': 61, 'LSTM_units': 32, 'LSTM_learning_rate': 0.00020762507395574874, 'LSTM_l1': 1.506340724745049e-05, 'LSTM_l2': 0.00010882034207820402, 'LSTM_dropout': 0.004338968805879082, 'LSTM_inter_dropout': 0.023298446438180933, 'LSTM_recurrent_dropout': 0.0015874714763407412}. Best is trial 38 with value: 1.0030939915675743.\n"
          ]
        },
        {
          "name": "stdout",
          "output_type": "stream",
          "text": [
            "2025-08-26 17:06:14,577 - Trial 180 finished with value: 1.0014750860649568 and parameters: {'year_start': 2020, 'LoadupSamples_time_inc_factor': 61, 'LSTM_units': 32, 'LSTM_learning_rate': 0.00020762507395574874, 'LSTM_l1': 1.506340724745049e-05, 'LSTM_l2': 0.00010882034207820402, 'LSTM_dropout': 0.004338968805879082, 'LSTM_inter_dropout': 0.023298446438180933, 'LSTM_recurrent_dropout': 0.0015874714763407412}. Best is trial 38 with value: 1.0030939915675743.\n",
            "2025-08-26 17:06:23,688 - Non-finite/too-large values in train y time: 48 samples.\n",
            "2025-08-26 17:06:23,704 - Removing 48 samples from training data.\n"
          ]
        },
        {
          "name": "stderr",
          "output_type": "stream",
          "text": [
            "Epochs:   0%|          | 0/2 [00:00<?, ?it/s]"
          ]
        },
        {
          "name": "stdout",
          "output_type": "stream",
          "text": [
            "2025-08-26 17:07:03,595 - Epoch 1/2 — Train RMSE: 0.4453 — Validation RMSE: 0.4085\n"
          ]
        },
        {
          "name": "stderr",
          "output_type": "stream",
          "text": [
            "Epochs:  50%|█████     | 1/2 [00:29<00:29, 29.60s/it]"
          ]
        },
        {
          "name": "stdout",
          "output_type": "stream",
          "text": [
            "2025-08-26 17:07:33,492 - Epoch 2/2 — Train RMSE: 0.4219 — Validation RMSE: 0.4085\n"
          ]
        },
        {
          "name": "stderr",
          "output_type": "stream",
          "text": [
            "Epochs: 100%|██████████| 2/2 [00:59<00:00, 29.75s/it]\n"
          ]
        },
        {
          "name": "stdout",
          "output_type": "stream",
          "text": [
            "2025-08-26 17:07:37,887 - Trial 181 with params: {'idxAfterPrediction': 4, 'timesteps': 75, 'target_option': 'last', 'LoadupSamples_time_scaling_stretch': True, 'LoadupSamples_time_inc_factor': 66, 'LSTM_units': 32, 'LSTM_num_layers': 1, 'LSTM_dropout': 0.007489364538899148, 'LSTM_recurrent_dropout': 0.002003259451286705, 'LSTM_learning_rate': 0.00019533665791417927, 'LSTM_optimizer': 'adam', 'LSTM_bidirectional': True, 'LSTM_batch_size': 4096, 'LSTM_epochs': 2, 'LSTM_l1': 1.2056753902957157e-05, 'LSTM_l2': 0.002838184425661428, 'LSTM_inter_dropout': 0.021089521561615966, 'LSTM_input_gaussian_noise': 0.001, 'LSTM_conv1d': True, 'LSTM_conv1d_kernel_size': 3, 'LSTM_loss': 'mse', 'LSTM_transformer_before': False, 'LSTM_transformer_after': False, 'LSTM_tf_d_model': 0, 'LSTM_tf_nhead': 2, 'LSTM_tf_num_layers_before': 0, 'LSTM_tf_num_layers_after': 0, 'LSTM_tf_dim_feedforward': 8, 'LSTM_tf_dropout': 0.1, 'LSTM_tf_positional_encoding': True, 'LSTM_tf_pool': 'last', 'year_start': 2020, 'is_single_feature': False}\n",
            "2025-08-26 17:07:37,888 -   q2: 0.9900\n",
            "2025-08-26 17:07:37,888 -   Duration0: 0:01:04.042797\n",
            "2025-08-26 17:07:37,890 -   Val RMSE0 adjusted: 0.0062\n",
            "2025-08-26 17:07:37,891 -   Mean all prediction: 0.9993\n",
            "2025-08-26 17:07:37,891 -   Mean above prediction: 1.0078\n",
            "2025-08-26 17:07:37,891 -   Mean below prediction: 0.9978\n",
            "2025-08-26 17:07:37,891 -   Quantile 0.99 for distance in mask above: 909.2399999999998\n",
            "2025-08-26 17:07:37,891 -   Quantile 0.99 for distance in mask below: 894.1999999999989\n",
            "2025-08-26 17:07:37,899 -   Ratio for quantile-distance-to-length above: 0.0014\n",
            "2025-08-26 17:07:37,900 -   Ratio for quantile-distance-to-length below: 0.0014\n",
            "2025-08-26 17:07:37,900 -   Score: 1.0019\n"
          ]
        },
        {
          "name": "stderr",
          "output_type": "stream",
          "text": [
            "[I 2025-08-26 17:07:37,953] Trial 181 finished with value: 1.001942146176154 and parameters: {'year_start': 2020, 'LoadupSamples_time_inc_factor': 66, 'LSTM_units': 32, 'LSTM_learning_rate': 0.00019533665791417927, 'LSTM_l1': 1.2056753902957157e-05, 'LSTM_l2': 0.002838184425661428, 'LSTM_dropout': 0.007489364538899148, 'LSTM_inter_dropout': 0.021089521561615966, 'LSTM_recurrent_dropout': 0.002003259451286705}. Best is trial 38 with value: 1.0030939915675743.\n"
          ]
        },
        {
          "name": "stdout",
          "output_type": "stream",
          "text": [
            "2025-08-26 17:07:37,953 - Trial 181 finished with value: 1.001942146176154 and parameters: {'year_start': 2020, 'LoadupSamples_time_inc_factor': 66, 'LSTM_units': 32, 'LSTM_learning_rate': 0.00019533665791417927, 'LSTM_l1': 1.2056753902957157e-05, 'LSTM_l2': 0.002838184425661428, 'LSTM_dropout': 0.007489364538899148, 'LSTM_inter_dropout': 0.021089521561615966, 'LSTM_recurrent_dropout': 0.002003259451286705}. Best is trial 38 with value: 1.0030939915675743.\n",
            "2025-08-26 17:07:47,416 - Non-finite/too-large values in train y time: 48 samples.\n",
            "2025-08-26 17:07:47,421 - Removing 48 samples from training data.\n"
          ]
        },
        {
          "name": "stderr",
          "output_type": "stream",
          "text": [
            "Epochs:   0%|          | 0/2 [00:00<?, ?it/s]"
          ]
        },
        {
          "name": "stdout",
          "output_type": "stream",
          "text": [
            "2025-08-26 17:08:28,644 - Epoch 1/2 — Train RMSE: 0.4460 — Validation RMSE: 0.4085\n"
          ]
        },
        {
          "name": "stderr",
          "output_type": "stream",
          "text": [
            "Epochs:  50%|█████     | 1/2 [00:30<00:30, 30.50s/it]"
          ]
        },
        {
          "name": "stdout",
          "output_type": "stream",
          "text": [
            "2025-08-26 17:09:00,204 - Epoch 2/2 — Train RMSE: 0.4214 — Validation RMSE: 0.4085\n"
          ]
        },
        {
          "name": "stderr",
          "output_type": "stream",
          "text": [
            "Epochs: 100%|██████████| 2/2 [01:02<00:00, 31.03s/it]\n"
          ]
        },
        {
          "name": "stdout",
          "output_type": "stream",
          "text": [
            "2025-08-26 17:09:04,517 - Trial 182 with params: {'idxAfterPrediction': 4, 'timesteps': 75, 'target_option': 'last', 'LoadupSamples_time_scaling_stretch': True, 'LoadupSamples_time_inc_factor': 66, 'LSTM_units': 32, 'LSTM_num_layers': 1, 'LSTM_dropout': 0.006322832427766452, 'LSTM_recurrent_dropout': 0.002201403123162904, 'LSTM_learning_rate': 0.00019330917922611536, 'LSTM_optimizer': 'adam', 'LSTM_bidirectional': True, 'LSTM_batch_size': 4096, 'LSTM_epochs': 2, 'LSTM_l1': 1.1714407042906286e-05, 'LSTM_l2': 0.00012600265515107798, 'LSTM_inter_dropout': 0.021949877317842256, 'LSTM_input_gaussian_noise': 0.001, 'LSTM_conv1d': True, 'LSTM_conv1d_kernel_size': 3, 'LSTM_loss': 'mse', 'LSTM_transformer_before': False, 'LSTM_transformer_after': False, 'LSTM_tf_d_model': 0, 'LSTM_tf_nhead': 2, 'LSTM_tf_num_layers_before': 0, 'LSTM_tf_num_layers_after': 0, 'LSTM_tf_dim_feedforward': 8, 'LSTM_tf_dropout': 0.1, 'LSTM_tf_positional_encoding': True, 'LSTM_tf_pool': 'last', 'year_start': 2020, 'is_single_feature': False}\n",
            "2025-08-26 17:09:04,518 -   q2: 0.9900\n",
            "2025-08-26 17:09:04,518 -   Duration0: 0:01:06.524409\n",
            "2025-08-26 17:09:04,518 -   Val RMSE0 adjusted: 0.0062\n",
            "2025-08-26 17:09:04,524 -   Mean all prediction: 0.9993\n",
            "2025-08-26 17:09:04,526 -   Mean above prediction: 1.0059\n",
            "2025-08-26 17:09:04,526 -   Mean below prediction: 0.9958\n",
            "2025-08-26 17:09:04,526 -   Quantile 0.99 for distance in mask above: 883.4599999999991\n",
            "2025-08-26 17:09:04,528 -   Quantile 0.99 for distance in mask below: 881.4399999999987\n",
            "2025-08-26 17:09:04,528 -   Ratio for quantile-distance-to-length above: 0.0013\n",
            "2025-08-26 17:09:04,528 -   Ratio for quantile-distance-to-length below: 0.0013\n",
            "2025-08-26 17:09:04,528 -   Score: 1.0015\n"
          ]
        },
        {
          "name": "stderr",
          "output_type": "stream",
          "text": [
            "[I 2025-08-26 17:09:04,595] Trial 182 finished with value: 1.001461241506937 and parameters: {'year_start': 2020, 'LoadupSamples_time_inc_factor': 66, 'LSTM_units': 32, 'LSTM_learning_rate': 0.00019330917922611536, 'LSTM_l1': 1.1714407042906286e-05, 'LSTM_l2': 0.00012600265515107798, 'LSTM_dropout': 0.006322832427766452, 'LSTM_inter_dropout': 0.021949877317842256, 'LSTM_recurrent_dropout': 0.002201403123162904}. Best is trial 38 with value: 1.0030939915675743.\n"
          ]
        },
        {
          "name": "stdout",
          "output_type": "stream",
          "text": [
            "2025-08-26 17:09:04,595 - Trial 182 finished with value: 1.001461241506937 and parameters: {'year_start': 2020, 'LoadupSamples_time_inc_factor': 66, 'LSTM_units': 32, 'LSTM_learning_rate': 0.00019330917922611536, 'LSTM_l1': 1.1714407042906286e-05, 'LSTM_l2': 0.00012600265515107798, 'LSTM_dropout': 0.006322832427766452, 'LSTM_inter_dropout': 0.021949877317842256, 'LSTM_recurrent_dropout': 0.002201403123162904}. Best is trial 38 with value: 1.0030939915675743.\n",
            "2025-08-26 17:09:14,125 - Non-finite/too-large values in train y time: 48 samples.\n",
            "2025-08-26 17:09:14,130 - Removing 48 samples from training data.\n"
          ]
        },
        {
          "name": "stderr",
          "output_type": "stream",
          "text": [
            "Epochs:   0%|          | 0/2 [00:00<?, ?it/s]"
          ]
        },
        {
          "name": "stdout",
          "output_type": "stream",
          "text": [
            "2025-08-26 17:09:56,216 - Epoch 1/2 — Train RMSE: 0.4525 — Validation RMSE: 0.4023\n"
          ]
        },
        {
          "name": "stderr",
          "output_type": "stream",
          "text": [
            "Epochs:  50%|█████     | 1/2 [00:31<00:31, 31.02s/it]"
          ]
        },
        {
          "name": "stdout",
          "output_type": "stream",
          "text": [
            "2025-08-26 17:10:27,270 - Epoch 2/2 — Train RMSE: 0.4165 — Validation RMSE: 0.4021\n"
          ]
        },
        {
          "name": "stderr",
          "output_type": "stream",
          "text": [
            "Epochs: 100%|██████████| 2/2 [01:02<00:00, 31.04s/it]\n"
          ]
        },
        {
          "name": "stdout",
          "output_type": "stream",
          "text": [
            "2025-08-26 17:10:31,630 - Trial 183 with params: {'idxAfterPrediction': 4, 'timesteps': 75, 'target_option': 'last', 'LoadupSamples_time_scaling_stretch': True, 'LoadupSamples_time_inc_factor': 61, 'LSTM_units': 32, 'LSTM_num_layers': 1, 'LSTM_dropout': 0.0068940875409942235, 'LSTM_recurrent_dropout': 0.002503978896495263, 'LSTM_learning_rate': 0.0002022609607472382, 'LSTM_optimizer': 'adam', 'LSTM_bidirectional': True, 'LSTM_batch_size': 4096, 'LSTM_epochs': 2, 'LSTM_l1': 1.2354439565125056e-05, 'LSTM_l2': 0.00013940024163518056, 'LSTM_inter_dropout': 0.017921130810734355, 'LSTM_input_gaussian_noise': 0.001, 'LSTM_conv1d': True, 'LSTM_conv1d_kernel_size': 3, 'LSTM_loss': 'mse', 'LSTM_transformer_before': False, 'LSTM_transformer_after': False, 'LSTM_tf_d_model': 0, 'LSTM_tf_nhead': 2, 'LSTM_tf_num_layers_before': 0, 'LSTM_tf_num_layers_after': 0, 'LSTM_tf_dim_feedforward': 8, 'LSTM_tf_dropout': 0.1, 'LSTM_tf_positional_encoding': True, 'LSTM_tf_pool': 'last', 'year_start': 2020, 'is_single_feature': False}\n",
            "2025-08-26 17:10:31,630 -   q2: 0.9900\n",
            "2025-08-26 17:10:31,630 -   Duration0: 0:01:06.585355\n",
            "2025-08-26 17:10:31,630 -   Val RMSE0 adjusted: 0.0066\n",
            "2025-08-26 17:10:31,639 -   Mean all prediction: 0.9993\n",
            "2025-08-26 17:10:31,639 -   Mean above prediction: 1.0065\n",
            "2025-08-26 17:10:31,639 -   Mean below prediction: 0.9946\n",
            "2025-08-26 17:10:31,639 -   Quantile 0.99 for distance in mask above: 916.4399999999987\n",
            "2025-08-26 17:10:31,639 -   Quantile 0.99 for distance in mask below: 833.7599999999948\n",
            "2025-08-26 17:10:31,643 -   Ratio for quantile-distance-to-length above: 0.0014\n",
            "2025-08-26 17:10:31,643 -   Ratio for quantile-distance-to-length below: 0.0013\n",
            "2025-08-26 17:10:31,646 -   Score: 1.0016\n"
          ]
        },
        {
          "name": "stderr",
          "output_type": "stream",
          "text": [
            "[I 2025-08-26 17:10:31,707] Trial 183 finished with value: 1.0016100245684207 and parameters: {'year_start': 2020, 'LoadupSamples_time_inc_factor': 61, 'LSTM_units': 32, 'LSTM_learning_rate': 0.0002022609607472382, 'LSTM_l1': 1.2354439565125056e-05, 'LSTM_l2': 0.00013940024163518056, 'LSTM_dropout': 0.0068940875409942235, 'LSTM_inter_dropout': 0.017921130810734355, 'LSTM_recurrent_dropout': 0.002503978896495263}. Best is trial 38 with value: 1.0030939915675743.\n"
          ]
        },
        {
          "name": "stdout",
          "output_type": "stream",
          "text": [
            "2025-08-26 17:10:31,707 - Trial 183 finished with value: 1.0016100245684207 and parameters: {'year_start': 2020, 'LoadupSamples_time_inc_factor': 61, 'LSTM_units': 32, 'LSTM_learning_rate': 0.0002022609607472382, 'LSTM_l1': 1.2354439565125056e-05, 'LSTM_l2': 0.00013940024163518056, 'LSTM_dropout': 0.0068940875409942235, 'LSTM_inter_dropout': 0.017921130810734355, 'LSTM_recurrent_dropout': 0.002503978896495263}. Best is trial 38 with value: 1.0030939915675743.\n",
            "2025-08-26 17:10:41,206 - Non-finite/too-large values in train y time: 48 samples.\n",
            "2025-08-26 17:10:41,211 - Removing 48 samples from training data.\n"
          ]
        },
        {
          "name": "stderr",
          "output_type": "stream",
          "text": [
            "Epochs:   0%|          | 0/2 [00:00<?, ?it/s]"
          ]
        },
        {
          "name": "stdout",
          "output_type": "stream",
          "text": [
            "2025-08-26 17:11:23,457 - Epoch 1/2 — Train RMSE: 0.5054 — Validation RMSE: 0.4020\n"
          ]
        },
        {
          "name": "stderr",
          "output_type": "stream",
          "text": [
            "Epochs:  50%|█████     | 1/2 [00:31<00:31, 31.23s/it]"
          ]
        },
        {
          "name": "stdout",
          "output_type": "stream",
          "text": [
            "2025-08-26 17:11:54,370 - Epoch 2/2 — Train RMSE: 0.4156 — Validation RMSE: 0.4019\n"
          ]
        },
        {
          "name": "stderr",
          "output_type": "stream",
          "text": [
            "Epochs: 100%|██████████| 2/2 [01:02<00:00, 31.07s/it]\n"
          ]
        },
        {
          "name": "stdout",
          "output_type": "stream",
          "text": [
            "2025-08-26 17:11:58,599 - Trial 184 with params: {'idxAfterPrediction': 4, 'timesteps': 75, 'target_option': 'last', 'LoadupSamples_time_scaling_stretch': True, 'LoadupSamples_time_inc_factor': 61, 'LSTM_units': 32, 'LSTM_num_layers': 1, 'LSTM_dropout': 0.005914004384694687, 'LSTM_recurrent_dropout': 0.0018286030976086753, 'LSTM_learning_rate': 0.00010492920084496005, 'LSTM_optimizer': 'adam', 'LSTM_bidirectional': True, 'LSTM_batch_size': 4096, 'LSTM_epochs': 2, 'LSTM_l1': 1.3761712152125174e-05, 'LSTM_l2': 0.00011618850504099086, 'LSTM_inter_dropout': 0.01999874315260158, 'LSTM_input_gaussian_noise': 0.001, 'LSTM_conv1d': True, 'LSTM_conv1d_kernel_size': 3, 'LSTM_loss': 'mse', 'LSTM_transformer_before': False, 'LSTM_transformer_after': False, 'LSTM_tf_d_model': 0, 'LSTM_tf_nhead': 2, 'LSTM_tf_num_layers_before': 0, 'LSTM_tf_num_layers_after': 0, 'LSTM_tf_dim_feedforward': 8, 'LSTM_tf_dropout': 0.1, 'LSTM_tf_positional_encoding': True, 'LSTM_tf_pool': 'last', 'year_start': 2020, 'is_single_feature': False}\n",
            "2025-08-26 17:11:58,599 -   q2: 0.9900\n",
            "2025-08-26 17:11:58,599 -   Duration0: 0:01:06.527638\n",
            "2025-08-26 17:11:58,599 -   Val RMSE0 adjusted: 0.0066\n",
            "2025-08-26 17:11:58,607 -   Mean all prediction: 0.9993\n",
            "2025-08-26 17:11:58,607 -   Mean above prediction: 1.0029\n",
            "2025-08-26 17:11:58,607 -   Mean below prediction: 0.9971\n",
            "2025-08-26 17:11:58,607 -   Quantile 0.99 for distance in mask above: 779.4799999999886\n",
            "2025-08-26 17:11:58,607 -   Quantile 0.99 for distance in mask below: 859.2399999999998\n",
            "2025-08-26 17:11:58,612 -   Ratio for quantile-distance-to-length above: 0.0012\n",
            "2025-08-26 17:11:58,612 -   Ratio for quantile-distance-to-length below: 0.0013\n",
            "2025-08-26 17:11:58,612 -   Score: 1.0007\n"
          ]
        },
        {
          "name": "stderr",
          "output_type": "stream",
          "text": [
            "[I 2025-08-26 17:11:58,673] Trial 184 finished with value: 1.0007173710206876 and parameters: {'year_start': 2020, 'LoadupSamples_time_inc_factor': 61, 'LSTM_units': 32, 'LSTM_learning_rate': 0.00010492920084496005, 'LSTM_l1': 1.3761712152125174e-05, 'LSTM_l2': 0.00011618850504099086, 'LSTM_dropout': 0.005914004384694687, 'LSTM_inter_dropout': 0.01999874315260158, 'LSTM_recurrent_dropout': 0.0018286030976086753}. Best is trial 38 with value: 1.0030939915675743.\n"
          ]
        },
        {
          "name": "stdout",
          "output_type": "stream",
          "text": [
            "2025-08-26 17:11:58,673 - Trial 184 finished with value: 1.0007173710206876 and parameters: {'year_start': 2020, 'LoadupSamples_time_inc_factor': 61, 'LSTM_units': 32, 'LSTM_learning_rate': 0.00010492920084496005, 'LSTM_l1': 1.3761712152125174e-05, 'LSTM_l2': 0.00011618850504099086, 'LSTM_dropout': 0.005914004384694687, 'LSTM_inter_dropout': 0.01999874315260158, 'LSTM_recurrent_dropout': 0.0018286030976086753}. Best is trial 38 with value: 1.0030939915675743.\n",
            "2025-08-26 17:12:08,311 - Non-finite/too-large values in train y time: 48 samples.\n",
            "2025-08-26 17:12:08,314 - Removing 48 samples from training data.\n"
          ]
        },
        {
          "name": "stderr",
          "output_type": "stream",
          "text": [
            "Epochs:   0%|          | 0/2 [00:00<?, ?it/s]"
          ]
        },
        {
          "name": "stdout",
          "output_type": "stream",
          "text": [
            "2025-08-26 17:12:50,258 - Epoch 1/2 — Train RMSE: 0.4363 — Validation RMSE: 0.4035\n"
          ]
        },
        {
          "name": "stderr",
          "output_type": "stream",
          "text": [
            "Epochs:  50%|█████     | 1/2 [00:31<00:31, 31.01s/it]"
          ]
        },
        {
          "name": "stdout",
          "output_type": "stream",
          "text": [
            "2025-08-26 17:13:21,291 - Epoch 2/2 — Train RMSE: 0.4179 — Validation RMSE: 0.4028\n"
          ]
        },
        {
          "name": "stderr",
          "output_type": "stream",
          "text": [
            "Epochs: 100%|██████████| 2/2 [01:02<00:00, 31.02s/it]\n"
          ]
        },
        {
          "name": "stdout",
          "output_type": "stream",
          "text": [
            "2025-08-26 17:13:25,593 - Trial 185 with params: {'idxAfterPrediction': 4, 'timesteps': 75, 'target_option': 'last', 'LoadupSamples_time_scaling_stretch': True, 'LoadupSamples_time_inc_factor': 61, 'LSTM_units': 32, 'LSTM_num_layers': 1, 'LSTM_dropout': 0.007204514045786801, 'LSTM_recurrent_dropout': 0.0021149351219794258, 'LSTM_learning_rate': 0.0003865136087228368, 'LSTM_optimizer': 'adam', 'LSTM_bidirectional': True, 'LSTM_batch_size': 4096, 'LSTM_epochs': 2, 'LSTM_l1': 1.2795520604829617e-05, 'LSTM_l2': 0.00017348472941733896, 'LSTM_inter_dropout': 0.019015040117381334, 'LSTM_input_gaussian_noise': 0.001, 'LSTM_conv1d': True, 'LSTM_conv1d_kernel_size': 3, 'LSTM_loss': 'mse', 'LSTM_transformer_before': False, 'LSTM_transformer_after': False, 'LSTM_tf_d_model': 0, 'LSTM_tf_nhead': 2, 'LSTM_tf_num_layers_before': 0, 'LSTM_tf_num_layers_after': 0, 'LSTM_tf_dim_feedforward': 8, 'LSTM_tf_dropout': 0.1, 'LSTM_tf_positional_encoding': True, 'LSTM_tf_pool': 'last', 'year_start': 2020, 'is_single_feature': False}\n",
            "2025-08-26 17:13:25,593 -   q2: 0.9900\n",
            "2025-08-26 17:13:25,594 -   Duration0: 0:01:06.507339\n",
            "2025-08-26 17:13:25,594 -   Val RMSE0 adjusted: 0.0066\n",
            "2025-08-26 17:13:25,599 -   Mean all prediction: 0.9993\n",
            "2025-08-26 17:13:25,599 -   Mean above prediction: 1.0073\n",
            "2025-08-26 17:13:25,599 -   Mean below prediction: 0.9973\n",
            "2025-08-26 17:13:25,603 -   Quantile 0.99 for distance in mask above: 945.4799999999996\n",
            "2025-08-26 17:13:25,603 -   Quantile 0.99 for distance in mask below: 897.1999999999935\n",
            "2025-08-26 17:13:25,603 -   Ratio for quantile-distance-to-length above: 0.0014\n",
            "2025-08-26 17:13:25,607 -   Ratio for quantile-distance-to-length below: 0.0014\n",
            "2025-08-26 17:13:25,607 -   Score: 1.0018\n"
          ]
        },
        {
          "name": "stderr",
          "output_type": "stream",
          "text": [
            "[I 2025-08-26 17:13:25,691] Trial 185 finished with value: 1.0018237448374008 and parameters: {'year_start': 2020, 'LoadupSamples_time_inc_factor': 61, 'LSTM_units': 32, 'LSTM_learning_rate': 0.0003865136087228368, 'LSTM_l1': 1.2795520604829617e-05, 'LSTM_l2': 0.00017348472941733896, 'LSTM_dropout': 0.007204514045786801, 'LSTM_inter_dropout': 0.019015040117381334, 'LSTM_recurrent_dropout': 0.0021149351219794258}. Best is trial 38 with value: 1.0030939915675743.\n"
          ]
        },
        {
          "name": "stdout",
          "output_type": "stream",
          "text": [
            "2025-08-26 17:13:25,691 - Trial 185 finished with value: 1.0018237448374008 and parameters: {'year_start': 2020, 'LoadupSamples_time_inc_factor': 61, 'LSTM_units': 32, 'LSTM_learning_rate': 0.0003865136087228368, 'LSTM_l1': 1.2795520604829617e-05, 'LSTM_l2': 0.00017348472941733896, 'LSTM_dropout': 0.007204514045786801, 'LSTM_inter_dropout': 0.019015040117381334, 'LSTM_recurrent_dropout': 0.0021149351219794258}. Best is trial 38 with value: 1.0030939915675743.\n",
            "2025-08-26 17:13:33,548 - Non-finite/too-large values in train y time: 48 samples.\n",
            "2025-08-26 17:13:33,549 - Removing 48 samples from training data.\n"
          ]
        },
        {
          "name": "stderr",
          "output_type": "stream",
          "text": [
            "Epochs:   0%|          | 0/2 [00:00<?, ?it/s]"
          ]
        },
        {
          "name": "stdout",
          "output_type": "stream",
          "text": [
            "2025-08-26 17:14:07,384 - Epoch 1/2 — Train RMSE: 0.4633 — Validation RMSE: 0.4206\n"
          ]
        },
        {
          "name": "stderr",
          "output_type": "stream",
          "text": [
            "Epochs:  50%|█████     | 1/2 [00:24<00:24, 24.96s/it]"
          ]
        },
        {
          "name": "stdout",
          "output_type": "stream",
          "text": [
            "2025-08-26 17:14:32,105 - Epoch 2/2 — Train RMSE: 0.4293 — Validation RMSE: 0.4203\n"
          ]
        },
        {
          "name": "stderr",
          "output_type": "stream",
          "text": [
            "Epochs: 100%|██████████| 2/2 [00:49<00:00, 24.84s/it]\n"
          ]
        },
        {
          "name": "stdout",
          "output_type": "stream",
          "text": [
            "2025-08-26 17:14:36,433 - Trial 186 with params: {'idxAfterPrediction': 4, 'timesteps': 75, 'target_option': 'last', 'LoadupSamples_time_scaling_stretch': True, 'LoadupSamples_time_inc_factor': 76, 'LSTM_units': 32, 'LSTM_num_layers': 1, 'LSTM_dropout': 0.006569519104489866, 'LSTM_recurrent_dropout': 0.0016980158397619477, 'LSTM_learning_rate': 0.00029168353345667135, 'LSTM_optimizer': 'adam', 'LSTM_bidirectional': True, 'LSTM_batch_size': 4096, 'LSTM_epochs': 2, 'LSTM_l1': 3.1678705804297905e-05, 'LSTM_l2': 0.001701647096735943, 'LSTM_inter_dropout': 0.02695778665618948, 'LSTM_input_gaussian_noise': 0.001, 'LSTM_conv1d': True, 'LSTM_conv1d_kernel_size': 3, 'LSTM_loss': 'mse', 'LSTM_transformer_before': False, 'LSTM_transformer_after': False, 'LSTM_tf_d_model': 0, 'LSTM_tf_nhead': 2, 'LSTM_tf_num_layers_before': 0, 'LSTM_tf_num_layers_after': 0, 'LSTM_tf_dim_feedforward': 8, 'LSTM_tf_dropout': 0.1, 'LSTM_tf_positional_encoding': True, 'LSTM_tf_pool': 'last', 'year_start': 2021, 'is_single_feature': False}\n",
            "2025-08-26 17:14:36,434 -   q2: 0.9900\n",
            "2025-08-26 17:14:36,435 -   Duration0: 0:00:54.172970\n",
            "2025-08-26 17:14:36,435 -   Val RMSE0 adjusted: 0.0055\n",
            "2025-08-26 17:14:36,441 -   Mean all prediction: 0.9993\n",
            "2025-08-26 17:14:36,441 -   Mean above prediction: 1.0099\n",
            "2025-08-26 17:14:36,443 -   Mean below prediction: 0.9969\n",
            "2025-08-26 17:14:36,444 -   Quantile 0.99 for distance in mask above: 913.6799999999985\n",
            "2025-08-26 17:14:36,445 -   Quantile 0.99 for distance in mask below: 905.2399999999998\n",
            "2025-08-26 17:14:36,446 -   Ratio for quantile-distance-to-length above: 0.0014\n",
            "2025-08-26 17:14:36,448 -   Ratio for quantile-distance-to-length below: 0.0014\n",
            "2025-08-26 17:14:36,448 -   Score: 1.0025\n"
          ]
        },
        {
          "name": "stderr",
          "output_type": "stream",
          "text": [
            "[I 2025-08-26 17:14:36,511] Trial 186 finished with value: 1.0024666736977863 and parameters: {'year_start': 2021, 'LoadupSamples_time_inc_factor': 76, 'LSTM_units': 32, 'LSTM_learning_rate': 0.00029168353345667135, 'LSTM_l1': 3.1678705804297905e-05, 'LSTM_l2': 0.001701647096735943, 'LSTM_dropout': 0.006569519104489866, 'LSTM_inter_dropout': 0.02695778665618948, 'LSTM_recurrent_dropout': 0.0016980158397619477}. Best is trial 38 with value: 1.0030939915675743.\n"
          ]
        },
        {
          "name": "stdout",
          "output_type": "stream",
          "text": [
            "2025-08-26 17:14:36,511 - Trial 186 finished with value: 1.0024666736977863 and parameters: {'year_start': 2021, 'LoadupSamples_time_inc_factor': 76, 'LSTM_units': 32, 'LSTM_learning_rate': 0.00029168353345667135, 'LSTM_l1': 3.1678705804297905e-05, 'LSTM_l2': 0.001701647096735943, 'LSTM_dropout': 0.006569519104489866, 'LSTM_inter_dropout': 0.02695778665618948, 'LSTM_recurrent_dropout': 0.0016980158397619477}. Best is trial 38 with value: 1.0030939915675743.\n",
            "2025-08-26 17:14:46,100 - Non-finite/too-large values in train y time: 48 samples.\n",
            "2025-08-26 17:14:46,108 - Removing 48 samples from training data.\n"
          ]
        },
        {
          "name": "stderr",
          "output_type": "stream",
          "text": [
            "Epochs:   0%|          | 0/2 [00:00<?, ?it/s]"
          ]
        },
        {
          "name": "stdout",
          "output_type": "stream",
          "text": [
            "2025-08-26 17:15:28,582 - Epoch 1/2 — Train RMSE: 0.4700 — Validation RMSE: 0.4026\n"
          ]
        },
        {
          "name": "stderr",
          "output_type": "stream",
          "text": [
            "Epochs:  50%|█████     | 1/2 [00:31<00:31, 31.38s/it]"
          ]
        },
        {
          "name": "stdout",
          "output_type": "stream",
          "text": [
            "2025-08-26 17:15:59,807 - Epoch 2/2 — Train RMSE: 0.4169 — Validation RMSE: 0.4023\n"
          ]
        },
        {
          "name": "stderr",
          "output_type": "stream",
          "text": [
            "Epochs: 100%|██████████| 2/2 [01:02<00:00, 31.30s/it]\n"
          ]
        },
        {
          "name": "stdout",
          "output_type": "stream",
          "text": [
            "2025-08-26 17:16:04,158 - Trial 187 with params: {'idxAfterPrediction': 4, 'timesteps': 75, 'target_option': 'last', 'LoadupSamples_time_scaling_stretch': True, 'LoadupSamples_time_inc_factor': 61, 'LSTM_units': 32, 'LSTM_num_layers': 1, 'LSTM_dropout': 0.00555192957861875, 'LSTM_recurrent_dropout': 0.0011580026171070898, 'LSTM_learning_rate': 0.00018271188670158301, 'LSTM_optimizer': 'adam', 'LSTM_bidirectional': True, 'LSTM_batch_size': 4096, 'LSTM_epochs': 2, 'LSTM_l1': 2.748188308849216e-05, 'LSTM_l2': 0.004222237472807131, 'LSTM_inter_dropout': 0.010623566376258504, 'LSTM_input_gaussian_noise': 0.001, 'LSTM_conv1d': True, 'LSTM_conv1d_kernel_size': 3, 'LSTM_loss': 'mse', 'LSTM_transformer_before': False, 'LSTM_transformer_after': False, 'LSTM_tf_d_model': 0, 'LSTM_tf_nhead': 2, 'LSTM_tf_num_layers_before': 0, 'LSTM_tf_num_layers_after': 0, 'LSTM_tf_dim_feedforward': 8, 'LSTM_tf_dropout': 0.1, 'LSTM_tf_positional_encoding': True, 'LSTM_tf_pool': 'last', 'year_start': 2020, 'is_single_feature': False}\n",
            "2025-08-26 17:16:04,161 -   q2: 0.9900\n",
            "2025-08-26 17:16:04,161 -   Duration0: 0:01:07.105131\n",
            "2025-08-26 17:16:04,161 -   Val RMSE0 adjusted: 0.0066\n",
            "2025-08-26 17:16:04,168 -   Mean all prediction: 0.9993\n",
            "2025-08-26 17:16:04,169 -   Mean above prediction: 1.0093\n",
            "2025-08-26 17:16:04,169 -   Mean below prediction: 0.9961\n",
            "2025-08-26 17:16:04,169 -   Quantile 0.99 for distance in mask above: 944.9999999999945\n",
            "2025-08-26 17:16:04,172 -   Quantile 0.99 for distance in mask below: 801.7199999999993\n",
            "2025-08-26 17:16:04,172 -   Ratio for quantile-distance-to-length above: 0.0014\n",
            "2025-08-26 17:16:04,172 -   Ratio for quantile-distance-to-length below: 0.0012\n",
            "2025-08-26 17:16:04,172 -   Score: 1.0023\n"
          ]
        },
        {
          "name": "stderr",
          "output_type": "stream",
          "text": [
            "[I 2025-08-26 17:16:04,239] Trial 187 finished with value: 1.0023071389417106 and parameters: {'year_start': 2020, 'LoadupSamples_time_inc_factor': 61, 'LSTM_units': 32, 'LSTM_learning_rate': 0.00018271188670158301, 'LSTM_l1': 2.748188308849216e-05, 'LSTM_l2': 0.004222237472807131, 'LSTM_dropout': 0.00555192957861875, 'LSTM_inter_dropout': 0.010623566376258504, 'LSTM_recurrent_dropout': 0.0011580026171070898}. Best is trial 38 with value: 1.0030939915675743.\n"
          ]
        },
        {
          "name": "stdout",
          "output_type": "stream",
          "text": [
            "2025-08-26 17:16:04,239 - Trial 187 finished with value: 1.0023071389417106 and parameters: {'year_start': 2020, 'LoadupSamples_time_inc_factor': 61, 'LSTM_units': 32, 'LSTM_learning_rate': 0.00018271188670158301, 'LSTM_l1': 2.748188308849216e-05, 'LSTM_l2': 0.004222237472807131, 'LSTM_dropout': 0.00555192957861875, 'LSTM_inter_dropout': 0.010623566376258504, 'LSTM_recurrent_dropout': 0.0011580026171070898}. Best is trial 38 with value: 1.0030939915675743.\n",
            "2025-08-26 17:16:12,121 - Non-finite/too-large values in train y time: 48 samples.\n",
            "2025-08-26 17:16:12,126 - Removing 48 samples from training data.\n"
          ]
        },
        {
          "name": "stderr",
          "output_type": "stream",
          "text": [
            "Epochs:   0%|          | 0/2 [00:00<?, ?it/s]"
          ]
        },
        {
          "name": "stdout",
          "output_type": "stream",
          "text": [
            "2025-08-26 17:16:43,108 - Epoch 1/2 — Train RMSE: 0.4401 — Validation RMSE: 0.4029\n"
          ]
        },
        {
          "name": "stderr",
          "output_type": "stream",
          "text": [
            "Epochs:  50%|█████     | 1/2 [00:22<00:22, 22.05s/it]"
          ]
        },
        {
          "name": "stdout",
          "output_type": "stream",
          "text": [
            "2025-08-26 17:17:05,270 - Epoch 2/2 — Train RMSE: 0.4105 — Validation RMSE: 0.4025\n"
          ]
        },
        {
          "name": "stderr",
          "output_type": "stream",
          "text": [
            "Epochs: 100%|██████████| 2/2 [00:44<00:00, 22.11s/it]\n"
          ]
        },
        {
          "name": "stdout",
          "output_type": "stream",
          "text": [
            "2025-08-26 17:17:09,614 - Trial 188 with params: {'idxAfterPrediction': 4, 'timesteps': 75, 'target_option': 'last', 'LoadupSamples_time_scaling_stretch': True, 'LoadupSamples_time_inc_factor': 61, 'LSTM_units': 16, 'LSTM_num_layers': 1, 'LSTM_dropout': 0.002198156020726799, 'LSTM_recurrent_dropout': 0.0023447485942242148, 'LSTM_learning_rate': 0.00020857193872213462, 'LSTM_optimizer': 'adam', 'LSTM_bidirectional': True, 'LSTM_batch_size': 4096, 'LSTM_epochs': 2, 'LSTM_l1': 2.5767611342503326e-05, 'LSTM_l2': 0.00014993395968265202, 'LSTM_inter_dropout': 0.02081851522079579, 'LSTM_input_gaussian_noise': 0.001, 'LSTM_conv1d': True, 'LSTM_conv1d_kernel_size': 3, 'LSTM_loss': 'mse', 'LSTM_transformer_before': False, 'LSTM_transformer_after': False, 'LSTM_tf_d_model': 0, 'LSTM_tf_nhead': 2, 'LSTM_tf_num_layers_before': 0, 'LSTM_tf_num_layers_after': 0, 'LSTM_tf_dim_feedforward': 8, 'LSTM_tf_dropout': 0.1, 'LSTM_tf_positional_encoding': True, 'LSTM_tf_pool': 'last', 'year_start': 2021, 'is_single_feature': False}\n",
            "2025-08-26 17:17:09,614 -   q2: 0.9900\n",
            "2025-08-26 17:17:09,614 -   Duration0: 0:00:48.673935\n",
            "2025-08-26 17:17:09,614 -   Val RMSE0 adjusted: 0.0066\n",
            "2025-08-26 17:17:09,621 -   Mean all prediction: 0.9993\n",
            "2025-08-26 17:17:09,621 -   Mean above prediction: 1.0070\n",
            "2025-08-26 17:17:09,621 -   Mean below prediction: 0.9983\n",
            "2025-08-26 17:17:09,624 -   Quantile 0.99 for distance in mask above: 876.4799999999996\n",
            "2025-08-26 17:17:09,624 -   Quantile 0.99 for distance in mask below: 913.159999999998\n",
            "2025-08-26 17:17:09,624 -   Ratio for quantile-distance-to-length above: 0.0013\n",
            "2025-08-26 17:17:09,628 -   Ratio for quantile-distance-to-length below: 0.0014\n",
            "2025-08-26 17:17:09,629 -   Score: 1.0017\n"
          ]
        },
        {
          "name": "stderr",
          "output_type": "stream",
          "text": [
            "[I 2025-08-26 17:17:09,683] Trial 188 finished with value: 1.0017359812040356 and parameters: {'year_start': 2021, 'LoadupSamples_time_inc_factor': 61, 'LSTM_units': 16, 'LSTM_learning_rate': 0.00020857193872213462, 'LSTM_l1': 2.5767611342503326e-05, 'LSTM_l2': 0.00014993395968265202, 'LSTM_dropout': 0.002198156020726799, 'LSTM_inter_dropout': 0.02081851522079579, 'LSTM_recurrent_dropout': 0.0023447485942242148}. Best is trial 38 with value: 1.0030939915675743.\n"
          ]
        },
        {
          "name": "stdout",
          "output_type": "stream",
          "text": [
            "2025-08-26 17:17:09,683 - Trial 188 finished with value: 1.0017359812040356 and parameters: {'year_start': 2021, 'LoadupSamples_time_inc_factor': 61, 'LSTM_units': 16, 'LSTM_learning_rate': 0.00020857193872213462, 'LSTM_l1': 2.5767611342503326e-05, 'LSTM_l2': 0.00014993395968265202, 'LSTM_dropout': 0.002198156020726799, 'LSTM_inter_dropout': 0.02081851522079579, 'LSTM_recurrent_dropout': 0.0023447485942242148}. Best is trial 38 with value: 1.0030939915675743.\n",
            "2025-08-26 17:17:17,626 - Non-finite/too-large values in train y time: 48 samples.\n",
            "2025-08-26 17:17:17,630 - Removing 48 samples from training data.\n"
          ]
        },
        {
          "name": "stderr",
          "output_type": "stream",
          "text": [
            "Epochs:   0%|          | 0/2 [00:00<?, ?it/s]"
          ]
        },
        {
          "name": "stdout",
          "output_type": "stream",
          "text": [
            "2025-08-26 17:17:51,620 - Epoch 1/2 — Train RMSE: 0.4527 — Validation RMSE: 0.4023\n"
          ]
        },
        {
          "name": "stderr",
          "output_type": "stream",
          "text": [
            "Epochs:  50%|█████     | 1/2 [00:25<00:25, 25.04s/it]"
          ]
        },
        {
          "name": "stdout",
          "output_type": "stream",
          "text": [
            "2025-08-26 17:18:16,229 - Epoch 2/2 — Train RMSE: 0.4114 — Validation RMSE: 0.4022\n"
          ]
        },
        {
          "name": "stderr",
          "output_type": "stream",
          "text": [
            "Epochs: 100%|██████████| 2/2 [00:49<00:00, 24.83s/it]\n"
          ]
        },
        {
          "name": "stdout",
          "output_type": "stream",
          "text": [
            "2025-08-26 17:18:20,612 - Trial 189 with params: {'idxAfterPrediction': 4, 'timesteps': 75, 'target_option': 'last', 'LoadupSamples_time_scaling_stretch': True, 'LoadupSamples_time_inc_factor': 61, 'LSTM_units': 32, 'LSTM_num_layers': 1, 'LSTM_dropout': 0.007849935926555626, 'LSTM_recurrent_dropout': 0.0010587857882905659, 'LSTM_learning_rate': 0.0001879575196779025, 'LSTM_optimizer': 'adam', 'LSTM_bidirectional': True, 'LSTM_batch_size': 4096, 'LSTM_epochs': 2, 'LSTM_l1': 1.1161182317743063e-05, 'LSTM_l2': 0.00011048150511437958, 'LSTM_inter_dropout': 0.01427552257468643, 'LSTM_input_gaussian_noise': 0.001, 'LSTM_conv1d': True, 'LSTM_conv1d_kernel_size': 3, 'LSTM_loss': 'mse', 'LSTM_transformer_before': False, 'LSTM_transformer_after': False, 'LSTM_tf_d_model': 0, 'LSTM_tf_nhead': 2, 'LSTM_tf_num_layers_before': 0, 'LSTM_tf_num_layers_after': 0, 'LSTM_tf_dim_feedforward': 8, 'LSTM_tf_dropout': 0.1, 'LSTM_tf_positional_encoding': True, 'LSTM_tf_pool': 'last', 'year_start': 2021, 'is_single_feature': False}\n",
            "2025-08-26 17:18:20,612 -   q2: 0.9900\n",
            "2025-08-26 17:18:20,612 -   Duration0: 0:00:54.161612\n",
            "2025-08-26 17:18:20,612 -   Val RMSE0 adjusted: 0.0066\n",
            "2025-08-26 17:18:20,619 -   Mean all prediction: 0.9993\n",
            "2025-08-26 17:18:20,620 -   Mean above prediction: 1.0083\n",
            "2025-08-26 17:18:20,620 -   Mean below prediction: 0.9982\n",
            "2025-08-26 17:18:20,620 -   Quantile 0.99 for distance in mask above: 869.0\n",
            "2025-08-26 17:18:20,620 -   Quantile 0.99 for distance in mask below: 888.4399999999987\n",
            "2025-08-26 17:18:20,620 -   Ratio for quantile-distance-to-length above: 0.0013\n",
            "2025-08-26 17:18:20,625 -   Ratio for quantile-distance-to-length below: 0.0014\n",
            "2025-08-26 17:18:20,625 -   Score: 1.0021\n"
          ]
        },
        {
          "name": "stderr",
          "output_type": "stream",
          "text": [
            "[I 2025-08-26 17:18:20,673] Trial 189 finished with value: 1.002067604157019 and parameters: {'year_start': 2021, 'LoadupSamples_time_inc_factor': 61, 'LSTM_units': 32, 'LSTM_learning_rate': 0.0001879575196779025, 'LSTM_l1': 1.1161182317743063e-05, 'LSTM_l2': 0.00011048150511437958, 'LSTM_dropout': 0.007849935926555626, 'LSTM_inter_dropout': 0.01427552257468643, 'LSTM_recurrent_dropout': 0.0010587857882905659}. Best is trial 38 with value: 1.0030939915675743.\n"
          ]
        },
        {
          "name": "stdout",
          "output_type": "stream",
          "text": [
            "2025-08-26 17:18:20,673 - Trial 189 finished with value: 1.002067604157019 and parameters: {'year_start': 2021, 'LoadupSamples_time_inc_factor': 61, 'LSTM_units': 32, 'LSTM_learning_rate': 0.0001879575196779025, 'LSTM_l1': 1.1161182317743063e-05, 'LSTM_l2': 0.00011048150511437958, 'LSTM_dropout': 0.007849935926555626, 'LSTM_inter_dropout': 0.01427552257468643, 'LSTM_recurrent_dropout': 0.0010587857882905659}. Best is trial 38 with value: 1.0030939915675743.\n",
            "2025-08-26 17:18:30,309 - Non-finite/too-large values in train y time: 48 samples.\n",
            "2025-08-26 17:18:30,315 - Removing 48 samples from training data.\n"
          ]
        },
        {
          "name": "stderr",
          "output_type": "stream",
          "text": [
            "Epochs:   0%|          | 0/2 [00:00<?, ?it/s]"
          ]
        },
        {
          "name": "stdout",
          "output_type": "stream",
          "text": [
            "2025-08-26 17:19:12,519 - Epoch 1/2 — Train RMSE: 0.4380 — Validation RMSE: 0.4086\n"
          ]
        },
        {
          "name": "stderr",
          "output_type": "stream",
          "text": [
            "Epochs:  50%|█████     | 1/2 [00:31<00:31, 31.22s/it]"
          ]
        },
        {
          "name": "stdout",
          "output_type": "stream",
          "text": [
            "2025-08-26 17:19:43,731 - Epoch 2/2 — Train RMSE: 0.4222 — Validation RMSE: 0.4085\n"
          ]
        },
        {
          "name": "stderr",
          "output_type": "stream",
          "text": [
            "Epochs: 100%|██████████| 2/2 [01:02<00:00, 31.22s/it]\n"
          ]
        },
        {
          "name": "stdout",
          "output_type": "stream",
          "text": [
            "2025-08-26 17:19:48,029 - Trial 190 with params: {'idxAfterPrediction': 4, 'timesteps': 75, 'target_option': 'last', 'LoadupSamples_time_scaling_stretch': True, 'LoadupSamples_time_inc_factor': 66, 'LSTM_units': 32, 'LSTM_num_layers': 1, 'LSTM_dropout': 0.0015464098122799988, 'LSTM_recurrent_dropout': 0.0012423327630996675, 'LSTM_learning_rate': 0.00019746234433239252, 'LSTM_optimizer': 'adam', 'LSTM_bidirectional': True, 'LSTM_batch_size': 4096, 'LSTM_epochs': 2, 'LSTM_l1': 3.0367431014331718e-05, 'LSTM_l2': 0.00013231702562122765, 'LSTM_inter_dropout': 0.06064747855385312, 'LSTM_input_gaussian_noise': 0.001, 'LSTM_conv1d': True, 'LSTM_conv1d_kernel_size': 3, 'LSTM_loss': 'mse', 'LSTM_transformer_before': False, 'LSTM_transformer_after': False, 'LSTM_tf_d_model': 0, 'LSTM_tf_nhead': 2, 'LSTM_tf_num_layers_before': 0, 'LSTM_tf_num_layers_after': 0, 'LSTM_tf_dim_feedforward': 8, 'LSTM_tf_dropout': 0.1, 'LSTM_tf_positional_encoding': True, 'LSTM_tf_pool': 'last', 'year_start': 2020, 'is_single_feature': False}\n",
            "2025-08-26 17:19:48,029 -   q2: 0.9900\n",
            "2025-08-26 17:19:48,029 -   Duration0: 0:01:06.915480\n",
            "2025-08-26 17:19:48,029 -   Val RMSE0 adjusted: 0.0062\n",
            "2025-08-26 17:19:48,041 -   Mean all prediction: 0.9993\n",
            "2025-08-26 17:19:48,041 -   Mean above prediction: 1.0052\n",
            "2025-08-26 17:19:48,041 -   Mean below prediction: 0.9978\n",
            "2025-08-26 17:19:48,041 -   Quantile 0.99 for distance in mask above: 948.6799999999985\n",
            "2025-08-26 17:19:48,041 -   Quantile 0.99 for distance in mask below: 874.7199999999993\n",
            "2025-08-26 17:19:48,041 -   Ratio for quantile-distance-to-length above: 0.0014\n",
            "2025-08-26 17:19:48,041 -   Ratio for quantile-distance-to-length below: 0.0013\n",
            "2025-08-26 17:19:48,048 -   Score: 1.0013\n"
          ]
        },
        {
          "name": "stderr",
          "output_type": "stream",
          "text": [
            "[I 2025-08-26 17:19:48,111] Trial 190 finished with value: 1.001307703304905 and parameters: {'year_start': 2020, 'LoadupSamples_time_inc_factor': 66, 'LSTM_units': 32, 'LSTM_learning_rate': 0.00019746234433239252, 'LSTM_l1': 3.0367431014331718e-05, 'LSTM_l2': 0.00013231702562122765, 'LSTM_dropout': 0.0015464098122799988, 'LSTM_inter_dropout': 0.06064747855385312, 'LSTM_recurrent_dropout': 0.0012423327630996675}. Best is trial 38 with value: 1.0030939915675743.\n"
          ]
        },
        {
          "name": "stdout",
          "output_type": "stream",
          "text": [
            "2025-08-26 17:19:48,111 - Trial 190 finished with value: 1.001307703304905 and parameters: {'year_start': 2020, 'LoadupSamples_time_inc_factor': 66, 'LSTM_units': 32, 'LSTM_learning_rate': 0.00019746234433239252, 'LSTM_l1': 3.0367431014331718e-05, 'LSTM_l2': 0.00013231702562122765, 'LSTM_dropout': 0.0015464098122799988, 'LSTM_inter_dropout': 0.06064747855385312, 'LSTM_recurrent_dropout': 0.0012423327630996675}. Best is trial 38 with value: 1.0030939915675743.\n",
            "2025-08-26 17:19:57,669 - Non-finite/too-large values in train y time: 48 samples.\n",
            "2025-08-26 17:19:57,679 - Removing 48 samples from training data.\n"
          ]
        },
        {
          "name": "stderr",
          "output_type": "stream",
          "text": [
            "Epochs:   0%|          | 0/2 [00:00<?, ?it/s]"
          ]
        },
        {
          "name": "stdout",
          "output_type": "stream",
          "text": [
            "2025-08-26 17:20:39,919 - Epoch 1/2 — Train RMSE: 0.4348 — Validation RMSE: 0.4020\n"
          ]
        },
        {
          "name": "stderr",
          "output_type": "stream",
          "text": [
            "Epochs:  50%|█████     | 1/2 [00:31<00:31, 31.27s/it]"
          ]
        },
        {
          "name": "stdout",
          "output_type": "stream",
          "text": [
            "2025-08-26 17:21:11,205 - Epoch 2/2 — Train RMSE: 0.4160 — Validation RMSE: 0.4020\n"
          ]
        },
        {
          "name": "stderr",
          "output_type": "stream",
          "text": [
            "Epochs: 100%|██████████| 2/2 [01:02<00:00, 31.28s/it]\n"
          ]
        },
        {
          "name": "stdout",
          "output_type": "stream",
          "text": [
            "2025-08-26 17:21:15,516 - Trial 191 with params: {'idxAfterPrediction': 4, 'timesteps': 75, 'target_option': 'last', 'LoadupSamples_time_scaling_stretch': True, 'LoadupSamples_time_inc_factor': 61, 'LSTM_units': 32, 'LSTM_num_layers': 1, 'LSTM_dropout': 0.005129431549615804, 'LSTM_recurrent_dropout': 0.0018952677878850423, 'LSTM_learning_rate': 0.00022188486537380226, 'LSTM_optimizer': 'adam', 'LSTM_bidirectional': True, 'LSTM_batch_size': 4096, 'LSTM_epochs': 2, 'LSTM_l1': 1.4618450516583945e-05, 'LSTM_l2': 0.00022956585919528384, 'LSTM_inter_dropout': 0.017170922815941177, 'LSTM_input_gaussian_noise': 0.001, 'LSTM_conv1d': True, 'LSTM_conv1d_kernel_size': 3, 'LSTM_loss': 'mse', 'LSTM_transformer_before': False, 'LSTM_transformer_after': False, 'LSTM_tf_d_model': 0, 'LSTM_tf_nhead': 2, 'LSTM_tf_num_layers_before': 0, 'LSTM_tf_num_layers_after': 0, 'LSTM_tf_dim_feedforward': 8, 'LSTM_tf_dropout': 0.1, 'LSTM_tf_positional_encoding': True, 'LSTM_tf_pool': 'last', 'year_start': 2020, 'is_single_feature': False}\n",
            "2025-08-26 17:21:15,516 -   q2: 0.9900\n",
            "2025-08-26 17:21:15,516 -   Duration0: 0:01:07.025134\n",
            "2025-08-26 17:21:15,516 -   Val RMSE0 adjusted: 0.0066\n",
            "2025-08-26 17:21:15,523 -   Mean all prediction: 0.9993\n",
            "2025-08-26 17:21:15,523 -   Mean above prediction: 1.0097\n",
            "2025-08-26 17:21:15,523 -   Mean below prediction: 0.9968\n",
            "2025-08-26 17:21:15,523 -   Quantile 0.99 for distance in mask above: 914.0\n",
            "2025-08-26 17:21:15,527 -   Quantile 0.99 for distance in mask below: 839.7199999999939\n",
            "2025-08-26 17:21:15,529 -   Ratio for quantile-distance-to-length above: 0.0014\n",
            "2025-08-26 17:21:15,530 -   Ratio for quantile-distance-to-length below: 0.0013\n",
            "2025-08-26 17:21:15,530 -   Score: 1.0024\n"
          ]
        },
        {
          "name": "stderr",
          "output_type": "stream",
          "text": [
            "[I 2025-08-26 17:21:15,602] Trial 191 finished with value: 1.0024077626497443 and parameters: {'year_start': 2020, 'LoadupSamples_time_inc_factor': 61, 'LSTM_units': 32, 'LSTM_learning_rate': 0.00022188486537380226, 'LSTM_l1': 1.4618450516583945e-05, 'LSTM_l2': 0.00022956585919528384, 'LSTM_dropout': 0.005129431549615804, 'LSTM_inter_dropout': 0.017170922815941177, 'LSTM_recurrent_dropout': 0.0018952677878850423}. Best is trial 38 with value: 1.0030939915675743.\n"
          ]
        },
        {
          "name": "stdout",
          "output_type": "stream",
          "text": [
            "2025-08-26 17:21:15,602 - Trial 191 finished with value: 1.0024077626497443 and parameters: {'year_start': 2020, 'LoadupSamples_time_inc_factor': 61, 'LSTM_units': 32, 'LSTM_learning_rate': 0.00022188486537380226, 'LSTM_l1': 1.4618450516583945e-05, 'LSTM_l2': 0.00022956585919528384, 'LSTM_dropout': 0.005129431549615804, 'LSTM_inter_dropout': 0.017170922815941177, 'LSTM_recurrent_dropout': 0.0018952677878850423}. Best is trial 38 with value: 1.0030939915675743.\n",
            "2025-08-26 17:21:25,192 - Non-finite/too-large values in train y time: 48 samples.\n",
            "2025-08-26 17:21:25,200 - Removing 48 samples from training data.\n"
          ]
        },
        {
          "name": "stderr",
          "output_type": "stream",
          "text": [
            "Epochs:   0%|          | 0/2 [00:00<?, ?it/s]"
          ]
        },
        {
          "name": "stdout",
          "output_type": "stream",
          "text": [
            "2025-08-26 17:22:07,493 - Epoch 1/2 — Train RMSE: 0.4304 — Validation RMSE: 0.4021\n"
          ]
        },
        {
          "name": "stderr",
          "output_type": "stream",
          "text": [
            "Epochs:  50%|█████     | 1/2 [00:31<00:31, 31.26s/it]"
          ]
        },
        {
          "name": "stdout",
          "output_type": "stream",
          "text": [
            "2025-08-26 17:22:38,826 - Epoch 2/2 — Train RMSE: 0.4161 — Validation RMSE: 0.4020\n"
          ]
        },
        {
          "name": "stderr",
          "output_type": "stream",
          "text": [
            "Epochs: 100%|██████████| 2/2 [01:02<00:00, 31.30s/it]\n"
          ]
        },
        {
          "name": "stdout",
          "output_type": "stream",
          "text": [
            "2025-08-26 17:22:43,053 - Trial 192 with params: {'idxAfterPrediction': 4, 'timesteps': 75, 'target_option': 'last', 'LoadupSamples_time_scaling_stretch': True, 'LoadupSamples_time_inc_factor': 61, 'LSTM_units': 32, 'LSTM_num_layers': 1, 'LSTM_dropout': 0.005203528674478022, 'LSTM_recurrent_dropout': 0.0019833668498250023, 'LSTM_learning_rate': 0.00021928234889682322, 'LSTM_optimizer': 'adam', 'LSTM_bidirectional': True, 'LSTM_batch_size': 4096, 'LSTM_epochs': 2, 'LSTM_l1': 1.3653520983737321e-05, 'LSTM_l2': 0.0029951591959686058, 'LSTM_inter_dropout': 0.015259771408121486, 'LSTM_input_gaussian_noise': 0.001, 'LSTM_conv1d': True, 'LSTM_conv1d_kernel_size': 3, 'LSTM_loss': 'mse', 'LSTM_transformer_before': False, 'LSTM_transformer_after': False, 'LSTM_tf_d_model': 0, 'LSTM_tf_nhead': 2, 'LSTM_tf_num_layers_before': 0, 'LSTM_tf_num_layers_after': 0, 'LSTM_tf_dim_feedforward': 8, 'LSTM_tf_dropout': 0.1, 'LSTM_tf_positional_encoding': True, 'LSTM_tf_pool': 'last', 'year_start': 2020, 'is_single_feature': False}\n",
            "2025-08-26 17:22:43,054 -   q2: 0.9900\n",
            "2025-08-26 17:22:43,054 -   Duration0: 0:01:06.980428\n",
            "2025-08-26 17:22:43,055 -   Val RMSE0 adjusted: 0.0066\n",
            "2025-08-26 17:22:43,060 -   Mean all prediction: 0.9993\n",
            "2025-08-26 17:22:43,062 -   Mean above prediction: 1.0100\n",
            "2025-08-26 17:22:43,062 -   Mean below prediction: 0.9978\n",
            "2025-08-26 17:22:43,063 -   Quantile 0.99 for distance in mask above: 953.9199999999983\n",
            "2025-08-26 17:22:43,064 -   Quantile 0.99 for distance in mask below: 886.2399999999998\n",
            "2025-08-26 17:22:43,065 -   Ratio for quantile-distance-to-length above: 0.0015\n",
            "2025-08-26 17:22:43,066 -   Ratio for quantile-distance-to-length below: 0.0013\n",
            "2025-08-26 17:22:43,066 -   Score: 1.0025\n"
          ]
        },
        {
          "name": "stderr",
          "output_type": "stream",
          "text": [
            "[I 2025-08-26 17:22:43,129] Trial 192 finished with value: 1.002482575199497 and parameters: {'year_start': 2020, 'LoadupSamples_time_inc_factor': 61, 'LSTM_units': 32, 'LSTM_learning_rate': 0.00021928234889682322, 'LSTM_l1': 1.3653520983737321e-05, 'LSTM_l2': 0.0029951591959686058, 'LSTM_dropout': 0.005203528674478022, 'LSTM_inter_dropout': 0.015259771408121486, 'LSTM_recurrent_dropout': 0.0019833668498250023}. Best is trial 38 with value: 1.0030939915675743.\n"
          ]
        },
        {
          "name": "stdout",
          "output_type": "stream",
          "text": [
            "2025-08-26 17:22:43,129 - Trial 192 finished with value: 1.002482575199497 and parameters: {'year_start': 2020, 'LoadupSamples_time_inc_factor': 61, 'LSTM_units': 32, 'LSTM_learning_rate': 0.00021928234889682322, 'LSTM_l1': 1.3653520983737321e-05, 'LSTM_l2': 0.0029951591959686058, 'LSTM_dropout': 0.005203528674478022, 'LSTM_inter_dropout': 0.015259771408121486, 'LSTM_recurrent_dropout': 0.0019833668498250023}. Best is trial 38 with value: 1.0030939915675743.\n",
            "2025-08-26 17:22:52,489 - Non-finite/too-large values in train y time: 48 samples.\n",
            "2025-08-26 17:22:52,494 - Removing 48 samples from training data.\n"
          ]
        },
        {
          "name": "stderr",
          "output_type": "stream",
          "text": [
            "Epochs:   0%|          | 0/2 [00:00<?, ?it/s]"
          ]
        },
        {
          "name": "stdout",
          "output_type": "stream",
          "text": [
            "2025-08-26 17:23:32,696 - Epoch 1/2 — Train RMSE: 0.4349 — Validation RMSE: 0.4019\n"
          ]
        },
        {
          "name": "stderr",
          "output_type": "stream",
          "text": [
            "Epochs:  50%|█████     | 1/2 [00:29<00:29, 29.56s/it]"
          ]
        },
        {
          "name": "stdout",
          "output_type": "stream",
          "text": [
            "2025-08-26 17:24:02,362 - Epoch 2/2 — Train RMSE: 0.4156 — Validation RMSE: 0.4019\n"
          ]
        },
        {
          "name": "stderr",
          "output_type": "stream",
          "text": [
            "Epochs: 100%|██████████| 2/2 [00:59<00:00, 29.61s/it]\n"
          ]
        },
        {
          "name": "stdout",
          "output_type": "stream",
          "text": [
            "2025-08-26 17:24:06,500 - Trial 193 with params: {'idxAfterPrediction': 4, 'timesteps': 75, 'target_option': 'last', 'LoadupSamples_time_scaling_stretch': True, 'LoadupSamples_time_inc_factor': 61, 'LSTM_units': 32, 'LSTM_num_layers': 1, 'LSTM_dropout': 0.004890659284800928, 'LSTM_recurrent_dropout': 0.0017626382955898726, 'LSTM_learning_rate': 0.0002145467363592381, 'LSTM_optimizer': 'adam', 'LSTM_bidirectional': True, 'LSTM_batch_size': 4096, 'LSTM_epochs': 2, 'LSTM_l1': 2.8648375629878362e-05, 'LSTM_l2': 0.006659936288093913, 'LSTM_inter_dropout': 0.015754826221715944, 'LSTM_input_gaussian_noise': 0.001, 'LSTM_conv1d': True, 'LSTM_conv1d_kernel_size': 3, 'LSTM_loss': 'mse', 'LSTM_transformer_before': False, 'LSTM_transformer_after': False, 'LSTM_tf_d_model': 0, 'LSTM_tf_nhead': 2, 'LSTM_tf_num_layers_before': 0, 'LSTM_tf_num_layers_after': 0, 'LSTM_tf_dim_feedforward': 8, 'LSTM_tf_dropout': 0.1, 'LSTM_tf_positional_encoding': True, 'LSTM_tf_pool': 'last', 'year_start': 2020, 'is_single_feature': False}\n",
            "2025-08-26 17:24:06,501 -   q2: 0.9900\n",
            "2025-08-26 17:24:06,501 -   Duration0: 0:01:03.496704\n",
            "2025-08-26 17:24:06,502 -   Val RMSE0 adjusted: 0.0066\n",
            "2025-08-26 17:24:06,505 -   Mean all prediction: 0.9993\n",
            "2025-08-26 17:24:06,505 -   Mean above prediction: 1.0031\n",
            "2025-08-26 17:24:06,505 -   Mean below prediction: 0.9957\n",
            "2025-08-26 17:24:06,510 -   Quantile 0.99 for distance in mask above: 964.4399999999987\n",
            "2025-08-26 17:24:06,510 -   Quantile 0.99 for distance in mask below: 805.6399999999976\n",
            "2025-08-26 17:24:06,510 -   Ratio for quantile-distance-to-length above: 0.0015\n",
            "2025-08-26 17:24:06,510 -   Ratio for quantile-distance-to-length below: 0.0012\n",
            "2025-08-26 17:24:06,510 -   Score: 1.0008\n"
          ]
        },
        {
          "name": "stderr",
          "output_type": "stream",
          "text": [
            "[I 2025-08-26 17:24:06,574] Trial 193 finished with value: 1.0007742855192179 and parameters: {'year_start': 2020, 'LoadupSamples_time_inc_factor': 61, 'LSTM_units': 32, 'LSTM_learning_rate': 0.0002145467363592381, 'LSTM_l1': 2.8648375629878362e-05, 'LSTM_l2': 0.006659936288093913, 'LSTM_dropout': 0.004890659284800928, 'LSTM_inter_dropout': 0.015754826221715944, 'LSTM_recurrent_dropout': 0.0017626382955898726}. Best is trial 38 with value: 1.0030939915675743.\n"
          ]
        },
        {
          "name": "stdout",
          "output_type": "stream",
          "text": [
            "2025-08-26 17:24:06,574 - Trial 193 finished with value: 1.0007742855192179 and parameters: {'year_start': 2020, 'LoadupSamples_time_inc_factor': 61, 'LSTM_units': 32, 'LSTM_learning_rate': 0.0002145467363592381, 'LSTM_l1': 2.8648375629878362e-05, 'LSTM_l2': 0.006659936288093913, 'LSTM_dropout': 0.004890659284800928, 'LSTM_inter_dropout': 0.015754826221715944, 'LSTM_recurrent_dropout': 0.0017626382955898726}. Best is trial 38 with value: 1.0030939915675743.\n",
            "2025-08-26 17:24:15,822 - Non-finite/too-large values in train y time: 48 samples.\n",
            "2025-08-26 17:24:15,826 - Removing 48 samples from training data.\n"
          ]
        },
        {
          "name": "stderr",
          "output_type": "stream",
          "text": [
            "Epochs:   0%|          | 0/2 [00:00<?, ?it/s]"
          ]
        },
        {
          "name": "stdout",
          "output_type": "stream",
          "text": [
            "2025-08-26 17:24:56,064 - Epoch 1/2 — Train RMSE: 0.4334 — Validation RMSE: 0.4021\n"
          ]
        },
        {
          "name": "stderr",
          "output_type": "stream",
          "text": [
            "Epochs:  50%|█████     | 1/2 [00:29<00:29, 29.67s/it]"
          ]
        },
        {
          "name": "stdout",
          "output_type": "stream",
          "text": [
            "2025-08-26 17:25:25,642 - Epoch 2/2 — Train RMSE: 0.4160 — Validation RMSE: 0.4019\n"
          ]
        },
        {
          "name": "stderr",
          "output_type": "stream",
          "text": [
            "Epochs: 100%|██████████| 2/2 [00:59<00:00, 29.62s/it]\n"
          ]
        },
        {
          "name": "stdout",
          "output_type": "stream",
          "text": [
            "2025-08-26 17:25:29,777 - Trial 194 with params: {'idxAfterPrediction': 4, 'timesteps': 75, 'target_option': 'last', 'LoadupSamples_time_scaling_stretch': True, 'LoadupSamples_time_inc_factor': 61, 'LSTM_units': 32, 'LSTM_num_layers': 1, 'LSTM_dropout': 0.002597675380613115, 'LSTM_recurrent_dropout': 0.0018645141854701488, 'LSTM_learning_rate': 0.00020545642314765347, 'LSTM_optimizer': 'adam', 'LSTM_bidirectional': True, 'LSTM_batch_size': 4096, 'LSTM_epochs': 2, 'LSTM_l1': 1.4956151597407303e-05, 'LSTM_l2': 0.00019418699765633388, 'LSTM_inter_dropout': 0.023219248901025037, 'LSTM_input_gaussian_noise': 0.001, 'LSTM_conv1d': True, 'LSTM_conv1d_kernel_size': 3, 'LSTM_loss': 'mse', 'LSTM_transformer_before': False, 'LSTM_transformer_after': False, 'LSTM_tf_d_model': 0, 'LSTM_tf_nhead': 2, 'LSTM_tf_num_layers_before': 0, 'LSTM_tf_num_layers_after': 0, 'LSTM_tf_dim_feedforward': 8, 'LSTM_tf_dropout': 0.1, 'LSTM_tf_positional_encoding': True, 'LSTM_tf_pool': 'last', 'year_start': 2020, 'is_single_feature': False}\n",
            "2025-08-26 17:25:29,777 -   q2: 0.9900\n",
            "2025-08-26 17:25:29,777 -   Duration0: 0:01:03.558597\n",
            "2025-08-26 17:25:29,777 -   Val RMSE0 adjusted: 0.0066\n",
            "2025-08-26 17:25:29,783 -   Mean all prediction: 0.9993\n",
            "2025-08-26 17:25:29,783 -   Mean above prediction: 1.0100\n",
            "2025-08-26 17:25:29,787 -   Mean below prediction: 0.9970\n",
            "2025-08-26 17:25:29,787 -   Quantile 0.99 for distance in mask above: 946.1999999999989\n",
            "2025-08-26 17:25:29,787 -   Quantile 0.99 for distance in mask below: 889.5299999999952\n",
            "2025-08-26 17:25:29,787 -   Ratio for quantile-distance-to-length above: 0.0014\n",
            "2025-08-26 17:25:29,787 -   Ratio for quantile-distance-to-length below: 0.0014\n",
            "2025-08-26 17:25:29,790 -   Score: 1.0025\n"
          ]
        },
        {
          "name": "stderr",
          "output_type": "stream",
          "text": [
            "[I 2025-08-26 17:25:29,851] Trial 194 finished with value: 1.0024826739057728 and parameters: {'year_start': 2020, 'LoadupSamples_time_inc_factor': 61, 'LSTM_units': 32, 'LSTM_learning_rate': 0.00020545642314765347, 'LSTM_l1': 1.4956151597407303e-05, 'LSTM_l2': 0.00019418699765633388, 'LSTM_dropout': 0.002597675380613115, 'LSTM_inter_dropout': 0.023219248901025037, 'LSTM_recurrent_dropout': 0.0018645141854701488}. Best is trial 38 with value: 1.0030939915675743.\n"
          ]
        },
        {
          "name": "stdout",
          "output_type": "stream",
          "text": [
            "2025-08-26 17:25:29,851 - Trial 194 finished with value: 1.0024826739057728 and parameters: {'year_start': 2020, 'LoadupSamples_time_inc_factor': 61, 'LSTM_units': 32, 'LSTM_learning_rate': 0.00020545642314765347, 'LSTM_l1': 1.4956151597407303e-05, 'LSTM_l2': 0.00019418699765633388, 'LSTM_dropout': 0.002597675380613115, 'LSTM_inter_dropout': 0.023219248901025037, 'LSTM_recurrent_dropout': 0.0018645141854701488}. Best is trial 38 with value: 1.0030939915675743.\n",
            "2025-08-26 17:25:39,125 - Non-finite/too-large values in train y time: 48 samples.\n",
            "2025-08-26 17:25:39,128 - Removing 48 samples from training data.\n"
          ]
        },
        {
          "name": "stderr",
          "output_type": "stream",
          "text": [
            "Epochs:   0%|          | 0/2 [00:00<?, ?it/s]"
          ]
        },
        {
          "name": "stdout",
          "output_type": "stream",
          "text": [
            "2025-08-26 17:26:19,505 - Epoch 1/2 — Train RMSE: 0.4322 — Validation RMSE: 0.4020\n"
          ]
        },
        {
          "name": "stderr",
          "output_type": "stream",
          "text": [
            "Epochs:  50%|█████     | 1/2 [00:29<00:29, 29.66s/it]"
          ]
        },
        {
          "name": "stdout",
          "output_type": "stream",
          "text": [
            "2025-08-26 17:26:49,094 - Epoch 2/2 — Train RMSE: 0.4160 — Validation RMSE: 0.4020\n"
          ]
        },
        {
          "name": "stderr",
          "output_type": "stream",
          "text": [
            "Epochs: 100%|██████████| 2/2 [00:59<00:00, 29.63s/it]\n"
          ]
        },
        {
          "name": "stdout",
          "output_type": "stream",
          "text": [
            "2025-08-26 17:26:53,295 - Trial 195 with params: {'idxAfterPrediction': 4, 'timesteps': 75, 'target_option': 'last', 'LoadupSamples_time_scaling_stretch': True, 'LoadupSamples_time_inc_factor': 61, 'LSTM_units': 32, 'LSTM_num_layers': 1, 'LSTM_dropout': 0.005023525770148673, 'LSTM_recurrent_dropout': 0.0020568032863119805, 'LSTM_learning_rate': 0.0002275262939070346, 'LSTM_optimizer': 'adam', 'LSTM_bidirectional': True, 'LSTM_batch_size': 4096, 'LSTM_epochs': 2, 'LSTM_l1': 1.4285714602121036e-05, 'LSTM_l2': 0.00012237203438855736, 'LSTM_inter_dropout': 0.016422750670411847, 'LSTM_input_gaussian_noise': 0.001, 'LSTM_conv1d': True, 'LSTM_conv1d_kernel_size': 3, 'LSTM_loss': 'mse', 'LSTM_transformer_before': False, 'LSTM_transformer_after': False, 'LSTM_tf_d_model': 0, 'LSTM_tf_nhead': 2, 'LSTM_tf_num_layers_before': 0, 'LSTM_tf_num_layers_after': 0, 'LSTM_tf_dim_feedforward': 8, 'LSTM_tf_dropout': 0.1, 'LSTM_tf_positional_encoding': True, 'LSTM_tf_pool': 'last', 'year_start': 2020, 'is_single_feature': False}\n",
            "2025-08-26 17:26:53,295 -   q2: 0.9900\n",
            "2025-08-26 17:26:53,295 -   Duration0: 0:01:03.589939\n",
            "2025-08-26 17:26:53,295 -   Val RMSE0 adjusted: 0.0066\n",
            "2025-08-26 17:26:53,301 -   Mean all prediction: 0.9993\n",
            "2025-08-26 17:26:53,303 -   Mean above prediction: 1.0082\n",
            "2025-08-26 17:26:53,303 -   Mean below prediction: 0.9981\n",
            "2025-08-26 17:26:53,304 -   Quantile 0.99 for distance in mask above: 928.7199999999993\n",
            "2025-08-26 17:26:53,304 -   Quantile 0.99 for distance in mask below: 894.1999999999989\n",
            "2025-08-26 17:26:53,304 -   Ratio for quantile-distance-to-length above: 0.0014\n",
            "2025-08-26 17:26:53,304 -   Ratio for quantile-distance-to-length below: 0.0014\n",
            "2025-08-26 17:26:53,307 -   Score: 1.0020\n"
          ]
        },
        {
          "name": "stderr",
          "output_type": "stream",
          "text": [
            "[I 2025-08-26 17:26:53,371] Trial 195 finished with value: 1.0020327295444518 and parameters: {'year_start': 2020, 'LoadupSamples_time_inc_factor': 61, 'LSTM_units': 32, 'LSTM_learning_rate': 0.0002275262939070346, 'LSTM_l1': 1.4285714602121036e-05, 'LSTM_l2': 0.00012237203438855736, 'LSTM_dropout': 0.005023525770148673, 'LSTM_inter_dropout': 0.016422750670411847, 'LSTM_recurrent_dropout': 0.0020568032863119805}. Best is trial 38 with value: 1.0030939915675743.\n"
          ]
        },
        {
          "name": "stdout",
          "output_type": "stream",
          "text": [
            "2025-08-26 17:26:53,371 - Trial 195 finished with value: 1.0020327295444518 and parameters: {'year_start': 2020, 'LoadupSamples_time_inc_factor': 61, 'LSTM_units': 32, 'LSTM_learning_rate': 0.0002275262939070346, 'LSTM_l1': 1.4285714602121036e-05, 'LSTM_l2': 0.00012237203438855736, 'LSTM_dropout': 0.005023525770148673, 'LSTM_inter_dropout': 0.016422750670411847, 'LSTM_recurrent_dropout': 0.0020568032863119805}. Best is trial 38 with value: 1.0030939915675743.\n",
            "2025-08-26 17:27:02,704 - Non-finite/too-large values in train y time: 48 samples.\n",
            "2025-08-26 17:27:02,711 - Removing 48 samples from training data.\n"
          ]
        },
        {
          "name": "stderr",
          "output_type": "stream",
          "text": [
            "Epochs:   0%|          | 0/2 [00:00<?, ?it/s]"
          ]
        },
        {
          "name": "stdout",
          "output_type": "stream",
          "text": [
            "2025-08-26 17:27:42,915 - Epoch 1/2 — Train RMSE: 0.4374 — Validation RMSE: 0.4042\n"
          ]
        },
        {
          "name": "stderr",
          "output_type": "stream",
          "text": [
            "Epochs:  50%|█████     | 1/2 [00:29<00:29, 29.67s/it]"
          ]
        },
        {
          "name": "stdout",
          "output_type": "stream",
          "text": [
            "2025-08-26 17:28:12,444 - Epoch 2/2 — Train RMSE: 0.4187 — Validation RMSE: 0.4031\n"
          ]
        },
        {
          "name": "stderr",
          "output_type": "stream",
          "text": [
            "Epochs: 100%|██████████| 2/2 [00:59<00:00, 29.60s/it]\n"
          ]
        },
        {
          "name": "stdout",
          "output_type": "stream",
          "text": [
            "2025-08-26 17:28:16,614 - Trial 196 with params: {'idxAfterPrediction': 4, 'timesteps': 75, 'target_option': 'last', 'LoadupSamples_time_scaling_stretch': True, 'LoadupSamples_time_inc_factor': 61, 'LSTM_units': 32, 'LSTM_num_layers': 1, 'LSTM_dropout': 0.005444201385686298, 'LSTM_recurrent_dropout': 0.007376491588716767, 'LSTM_learning_rate': 0.00032787194472443494, 'LSTM_optimizer': 'adam', 'LSTM_bidirectional': True, 'LSTM_batch_size': 4096, 'LSTM_epochs': 2, 'LSTM_l1': 1.3163975183152221e-05, 'LSTM_l2': 0.00026798545107352905, 'LSTM_inter_dropout': 0.034785412312109236, 'LSTM_input_gaussian_noise': 0.001, 'LSTM_conv1d': True, 'LSTM_conv1d_kernel_size': 3, 'LSTM_loss': 'mse', 'LSTM_transformer_before': False, 'LSTM_transformer_after': False, 'LSTM_tf_d_model': 0, 'LSTM_tf_nhead': 2, 'LSTM_tf_num_layers_before': 0, 'LSTM_tf_num_layers_after': 0, 'LSTM_tf_dim_feedforward': 8, 'LSTM_tf_dropout': 0.1, 'LSTM_tf_positional_encoding': True, 'LSTM_tf_pool': 'last', 'year_start': 2020, 'is_single_feature': False}\n",
            "2025-08-26 17:28:16,614 -   q2: 0.9900\n",
            "2025-08-26 17:28:16,614 -   Duration0: 0:01:03.526564\n",
            "2025-08-26 17:28:16,614 -   Val RMSE0 adjusted: 0.0066\n",
            "2025-08-26 17:28:16,622 -   Mean all prediction: 0.9993\n",
            "2025-08-26 17:28:16,622 -   Mean above prediction: 1.0077\n",
            "2025-08-26 17:28:16,622 -   Mean below prediction: 0.9965\n",
            "2025-08-26 17:28:16,622 -   Quantile 0.99 for distance in mask above: 953.1199999999972\n",
            "2025-08-26 17:28:16,626 -   Quantile 0.99 for distance in mask below: 863.2399999999998\n",
            "2025-08-26 17:28:16,626 -   Ratio for quantile-distance-to-length above: 0.0014\n",
            "2025-08-26 17:28:16,626 -   Ratio for quantile-distance-to-length below: 0.0013\n",
            "2025-08-26 17:28:16,626 -   Score: 1.0019\n"
          ]
        },
        {
          "name": "stderr",
          "output_type": "stream",
          "text": [
            "[I 2025-08-26 17:28:16,692] Trial 196 finished with value: 1.001909067416336 and parameters: {'year_start': 2020, 'LoadupSamples_time_inc_factor': 61, 'LSTM_units': 32, 'LSTM_learning_rate': 0.00032787194472443494, 'LSTM_l1': 1.3163975183152221e-05, 'LSTM_l2': 0.00026798545107352905, 'LSTM_dropout': 0.005444201385686298, 'LSTM_inter_dropout': 0.034785412312109236, 'LSTM_recurrent_dropout': 0.007376491588716767}. Best is trial 38 with value: 1.0030939915675743.\n"
          ]
        },
        {
          "name": "stdout",
          "output_type": "stream",
          "text": [
            "2025-08-26 17:28:16,692 - Trial 196 finished with value: 1.001909067416336 and parameters: {'year_start': 2020, 'LoadupSamples_time_inc_factor': 61, 'LSTM_units': 32, 'LSTM_learning_rate': 0.00032787194472443494, 'LSTM_l1': 1.3163975183152221e-05, 'LSTM_l2': 0.00026798545107352905, 'LSTM_dropout': 0.005444201385686298, 'LSTM_inter_dropout': 0.034785412312109236, 'LSTM_recurrent_dropout': 0.007376491588716767}. Best is trial 38 with value: 1.0030939915675743.\n",
            "2025-08-26 17:28:25,983 - Non-finite/too-large values in train y time: 48 samples.\n",
            "2025-08-26 17:28:25,988 - Removing 48 samples from training data.\n"
          ]
        },
        {
          "name": "stderr",
          "output_type": "stream",
          "text": [
            "Epochs:   0%|          | 0/2 [00:00<?, ?it/s]"
          ]
        },
        {
          "name": "stdout",
          "output_type": "stream",
          "text": [
            "2025-08-26 17:29:06,228 - Epoch 1/2 — Train RMSE: 0.4508 — Validation RMSE: 0.4027\n"
          ]
        },
        {
          "name": "stderr",
          "output_type": "stream",
          "text": [
            "Epochs:  50%|█████     | 1/2 [00:29<00:29, 29.61s/it]"
          ]
        },
        {
          "name": "stdout",
          "output_type": "stream",
          "text": [
            "2025-08-26 17:29:35,948 - Epoch 2/2 — Train RMSE: 0.4171 — Validation RMSE: 0.4023\n"
          ]
        },
        {
          "name": "stderr",
          "output_type": "stream",
          "text": [
            "Epochs: 100%|██████████| 2/2 [00:59<00:00, 29.67s/it]\n"
          ]
        },
        {
          "name": "stdout",
          "output_type": "stream",
          "text": [
            "2025-08-26 17:29:40,061 - Trial 197 with params: {'idxAfterPrediction': 4, 'timesteps': 75, 'target_option': 'last', 'LoadupSamples_time_scaling_stretch': True, 'LoadupSamples_time_inc_factor': 61, 'LSTM_units': 32, 'LSTM_num_layers': 1, 'LSTM_dropout': 0.004709859164409879, 'LSTM_recurrent_dropout': 0.0011180965021087039, 'LSTM_learning_rate': 0.00019193907364962039, 'LSTM_optimizer': 'adam', 'LSTM_bidirectional': True, 'LSTM_batch_size': 4096, 'LSTM_epochs': 2, 'LSTM_l1': 1.418966745692657e-05, 'LSTM_l2': 0.00016142956284664482, 'LSTM_inter_dropout': 0.018508228530820982, 'LSTM_input_gaussian_noise': 0.001, 'LSTM_conv1d': True, 'LSTM_conv1d_kernel_size': 3, 'LSTM_loss': 'mse', 'LSTM_transformer_before': False, 'LSTM_transformer_after': False, 'LSTM_tf_d_model': 0, 'LSTM_tf_nhead': 2, 'LSTM_tf_num_layers_before': 0, 'LSTM_tf_num_layers_after': 0, 'LSTM_tf_dim_feedforward': 8, 'LSTM_tf_dropout': 0.1, 'LSTM_tf_positional_encoding': True, 'LSTM_tf_pool': 'last', 'year_start': 2020, 'is_single_feature': False}\n",
            "2025-08-26 17:29:40,061 -   q2: 0.9900\n",
            "2025-08-26 17:29:40,062 -   Duration0: 0:01:03.578707\n",
            "2025-08-26 17:29:40,062 -   Val RMSE0 adjusted: 0.0066\n",
            "2025-08-26 17:29:40,068 -   Mean all prediction: 0.9993\n",
            "2025-08-26 17:29:40,069 -   Mean above prediction: 1.0087\n",
            "2025-08-26 17:29:40,069 -   Mean below prediction: 0.9964\n",
            "2025-08-26 17:29:40,070 -   Quantile 0.99 for distance in mask above: 913.1999999999989\n",
            "2025-08-26 17:29:40,071 -   Quantile 0.99 for distance in mask below: 792.4799999999996\n",
            "2025-08-26 17:29:40,072 -   Ratio for quantile-distance-to-length above: 0.0014\n",
            "2025-08-26 17:29:40,072 -   Ratio for quantile-distance-to-length below: 0.0012\n",
            "2025-08-26 17:29:40,074 -   Score: 1.0022\n"
          ]
        },
        {
          "name": "stderr",
          "output_type": "stream",
          "text": [
            "[I 2025-08-26 17:29:40,149] Trial 197 finished with value: 1.0021739029379464 and parameters: {'year_start': 2020, 'LoadupSamples_time_inc_factor': 61, 'LSTM_units': 32, 'LSTM_learning_rate': 0.00019193907364962039, 'LSTM_l1': 1.418966745692657e-05, 'LSTM_l2': 0.00016142956284664482, 'LSTM_dropout': 0.004709859164409879, 'LSTM_inter_dropout': 0.018508228530820982, 'LSTM_recurrent_dropout': 0.0011180965021087039}. Best is trial 38 with value: 1.0030939915675743.\n"
          ]
        },
        {
          "name": "stdout",
          "output_type": "stream",
          "text": [
            "2025-08-26 17:29:40,149 - Trial 197 finished with value: 1.0021739029379464 and parameters: {'year_start': 2020, 'LoadupSamples_time_inc_factor': 61, 'LSTM_units': 32, 'LSTM_learning_rate': 0.00019193907364962039, 'LSTM_l1': 1.418966745692657e-05, 'LSTM_l2': 0.00016142956284664482, 'LSTM_dropout': 0.004709859164409879, 'LSTM_inter_dropout': 0.018508228530820982, 'LSTM_recurrent_dropout': 0.0011180965021087039}. Best is trial 38 with value: 1.0030939915675743.\n",
            "2025-08-26 17:29:49,481 - Non-finite/too-large values in train y time: 48 samples.\n",
            "2025-08-26 17:29:49,485 - Removing 48 samples from training data.\n"
          ]
        },
        {
          "name": "stderr",
          "output_type": "stream",
          "text": [
            "Epochs:   0%|          | 0/2 [00:00<?, ?it/s]"
          ]
        },
        {
          "name": "stdout",
          "output_type": "stream",
          "text": [
            "2025-08-26 17:30:29,837 - Epoch 1/2 — Train RMSE: 0.4308 — Validation RMSE: 0.4020\n"
          ]
        },
        {
          "name": "stderr",
          "output_type": "stream",
          "text": [
            "Epochs:  50%|█████     | 1/2 [00:29<00:29, 29.69s/it]"
          ]
        },
        {
          "name": "stdout",
          "output_type": "stream",
          "text": [
            "2025-08-26 17:30:59,396 - Epoch 2/2 — Train RMSE: 0.4158 — Validation RMSE: 0.4019\n"
          ]
        },
        {
          "name": "stderr",
          "output_type": "stream",
          "text": [
            "Epochs: 100%|██████████| 2/2 [00:59<00:00, 29.63s/it]\n"
          ]
        },
        {
          "name": "stdout",
          "output_type": "stream",
          "text": [
            "2025-08-26 17:31:03,524 - Trial 198 with params: {'idxAfterPrediction': 4, 'timesteps': 75, 'target_option': 'last', 'LoadupSamples_time_scaling_stretch': True, 'LoadupSamples_time_inc_factor': 61, 'LSTM_units': 32, 'LSTM_num_layers': 1, 'LSTM_dropout': 0.005991806082009548, 'LSTM_recurrent_dropout': 0.0013383575441968793, 'LSTM_learning_rate': 0.0002014888507512554, 'LSTM_optimizer': 'adam', 'LSTM_bidirectional': True, 'LSTM_batch_size': 4096, 'LSTM_epochs': 2, 'LSTM_l1': 1.049775806364466e-05, 'LSTM_l2': 0.0005493985324430124, 'LSTM_inter_dropout': 0.021965135768263852, 'LSTM_input_gaussian_noise': 0.001, 'LSTM_conv1d': True, 'LSTM_conv1d_kernel_size': 3, 'LSTM_loss': 'mse', 'LSTM_transformer_before': False, 'LSTM_transformer_after': False, 'LSTM_tf_d_model': 0, 'LSTM_tf_nhead': 2, 'LSTM_tf_num_layers_before': 0, 'LSTM_tf_num_layers_after': 0, 'LSTM_tf_dim_feedforward': 8, 'LSTM_tf_dropout': 0.1, 'LSTM_tf_positional_encoding': True, 'LSTM_tf_pool': 'last', 'year_start': 2020, 'is_single_feature': False}\n",
            "2025-08-26 17:31:03,524 -   q2: 0.9900\n",
            "2025-08-26 17:31:03,527 -   Duration0: 0:01:03.514055\n",
            "2025-08-26 17:31:03,527 -   Val RMSE0 adjusted: 0.0066\n",
            "2025-08-26 17:31:03,532 -   Mean all prediction: 0.9993\n",
            "2025-08-26 17:31:03,532 -   Mean above prediction: 1.0074\n",
            "2025-08-26 17:31:03,532 -   Mean below prediction: 0.9958\n",
            "2025-08-26 17:31:03,536 -   Quantile 0.99 for distance in mask above: 970.5599999999959\n",
            "2025-08-26 17:31:03,536 -   Quantile 0.99 for distance in mask below: 855.9199999999983\n",
            "2025-08-26 17:31:03,536 -   Ratio for quantile-distance-to-length above: 0.0015\n",
            "2025-08-26 17:31:03,536 -   Ratio for quantile-distance-to-length below: 0.0013\n",
            "2025-08-26 17:31:03,536 -   Score: 1.0019\n"
          ]
        },
        {
          "name": "stderr",
          "output_type": "stream",
          "text": [
            "[I 2025-08-26 17:31:03,604] Trial 198 finished with value: 1.0018524565809332 and parameters: {'year_start': 2020, 'LoadupSamples_time_inc_factor': 61, 'LSTM_units': 32, 'LSTM_learning_rate': 0.0002014888507512554, 'LSTM_l1': 1.049775806364466e-05, 'LSTM_l2': 0.0005493985324430124, 'LSTM_dropout': 0.005991806082009548, 'LSTM_inter_dropout': 0.021965135768263852, 'LSTM_recurrent_dropout': 0.0013383575441968793}. Best is trial 38 with value: 1.0030939915675743.\n"
          ]
        },
        {
          "name": "stdout",
          "output_type": "stream",
          "text": [
            "2025-08-26 17:31:03,604 - Trial 198 finished with value: 1.0018524565809332 and parameters: {'year_start': 2020, 'LoadupSamples_time_inc_factor': 61, 'LSTM_units': 32, 'LSTM_learning_rate': 0.0002014888507512554, 'LSTM_l1': 1.049775806364466e-05, 'LSTM_l2': 0.0005493985324430124, 'LSTM_dropout': 0.005991806082009548, 'LSTM_inter_dropout': 0.021965135768263852, 'LSTM_recurrent_dropout': 0.0013383575441968793}. Best is trial 38 with value: 1.0030939915675743.\n",
            "2025-08-26 17:31:11,302 - Non-finite/too-large values in train y time: 48 samples.\n",
            "2025-08-26 17:31:11,302 - Removing 48 samples from training data.\n"
          ]
        },
        {
          "name": "stderr",
          "output_type": "stream",
          "text": [
            "Epochs:   0%|          | 0/2 [00:00<?, ?it/s]"
          ]
        },
        {
          "name": "stdout",
          "output_type": "stream",
          "text": [
            "2025-08-26 17:31:43,694 - Epoch 1/2 — Train RMSE: 0.4408 — Validation RMSE: 0.4031\n"
          ]
        },
        {
          "name": "stderr",
          "output_type": "stream",
          "text": [
            "Epochs:  50%|█████     | 1/2 [00:23<00:23, 23.71s/it]"
          ]
        },
        {
          "name": "stdout",
          "output_type": "stream",
          "text": [
            "2025-08-26 17:32:07,199 - Epoch 2/2 — Train RMSE: 0.4121 — Validation RMSE: 0.4028\n"
          ]
        },
        {
          "name": "stderr",
          "output_type": "stream",
          "text": [
            "Epochs: 100%|██████████| 2/2 [00:47<00:00, 23.61s/it]\n"
          ]
        },
        {
          "name": "stdout",
          "output_type": "stream",
          "text": [
            "2025-08-26 17:32:11,358 - Trial 199 with params: {'idxAfterPrediction': 4, 'timesteps': 75, 'target_option': 'last', 'LoadupSamples_time_scaling_stretch': True, 'LoadupSamples_time_inc_factor': 61, 'LSTM_units': 32, 'LSTM_num_layers': 1, 'LSTM_dropout': 0.005380563106987609, 'LSTM_recurrent_dropout': 0.0019173719806965068, 'LSTM_learning_rate': 0.00035098340001619223, 'LSTM_optimizer': 'adam', 'LSTM_bidirectional': True, 'LSTM_batch_size': 4096, 'LSTM_epochs': 2, 'LSTM_l1': 2.7240699492748605e-05, 'LSTM_l2': 0.00010165277871841477, 'LSTM_inter_dropout': 0.019619861755278162, 'LSTM_input_gaussian_noise': 0.001, 'LSTM_conv1d': True, 'LSTM_conv1d_kernel_size': 3, 'LSTM_loss': 'mse', 'LSTM_transformer_before': False, 'LSTM_transformer_after': False, 'LSTM_tf_d_model': 0, 'LSTM_tf_nhead': 2, 'LSTM_tf_num_layers_before': 0, 'LSTM_tf_num_layers_after': 0, 'LSTM_tf_dim_feedforward': 8, 'LSTM_tf_dropout': 0.1, 'LSTM_tf_positional_encoding': True, 'LSTM_tf_pool': 'last', 'year_start': 2021, 'is_single_feature': False}\n",
            "2025-08-26 17:32:11,360 -   q2: 0.9900\n",
            "2025-08-26 17:32:11,361 -   Duration0: 0:00:51.480735\n",
            "2025-08-26 17:32:11,361 -   Val RMSE0 adjusted: 0.0066\n",
            "2025-08-26 17:32:11,367 -   Mean all prediction: 0.9993\n",
            "2025-08-26 17:32:11,368 -   Mean above prediction: 1.0103\n",
            "2025-08-26 17:32:11,368 -   Mean below prediction: 0.9977\n",
            "2025-08-26 17:32:11,369 -   Quantile 0.99 for distance in mask above: 977.6799999999985\n",
            "2025-08-26 17:32:11,371 -   Quantile 0.99 for distance in mask below: 853.2399999999998\n",
            "2025-08-26 17:32:11,371 -   Ratio for quantile-distance-to-length above: 0.0015\n",
            "2025-08-26 17:32:11,372 -   Ratio for quantile-distance-to-length below: 0.0013\n",
            "2025-08-26 17:32:11,373 -   Score: 1.0026\n"
          ]
        },
        {
          "name": "stderr",
          "output_type": "stream",
          "text": [
            "[I 2025-08-26 17:32:11,424] Trial 199 finished with value: 1.0025758184409879 and parameters: {'year_start': 2021, 'LoadupSamples_time_inc_factor': 61, 'LSTM_units': 32, 'LSTM_learning_rate': 0.00035098340001619223, 'LSTM_l1': 2.7240699492748605e-05, 'LSTM_l2': 0.00010165277871841477, 'LSTM_dropout': 0.005380563106987609, 'LSTM_inter_dropout': 0.019619861755278162, 'LSTM_recurrent_dropout': 0.0019173719806965068}. Best is trial 38 with value: 1.0030939915675743.\n"
          ]
        },
        {
          "name": "stdout",
          "output_type": "stream",
          "text": [
            "2025-08-26 17:32:11,424 - Trial 199 finished with value: 1.0025758184409879 and parameters: {'year_start': 2021, 'LoadupSamples_time_inc_factor': 61, 'LSTM_units': 32, 'LSTM_learning_rate': 0.00035098340001619223, 'LSTM_l1': 2.7240699492748605e-05, 'LSTM_l2': 0.00010165277871841477, 'LSTM_dropout': 0.005380563106987609, 'LSTM_inter_dropout': 0.019619861755278162, 'LSTM_recurrent_dropout': 0.0019173719806965068}. Best is trial 38 with value: 1.0030939915675743.\n",
            "2025-08-26 17:32:20,748 - Non-finite/too-large values in train y time: 48 samples.\n",
            "2025-08-26 17:32:20,753 - Removing 48 samples from training data.\n"
          ]
        },
        {
          "name": "stderr",
          "output_type": "stream",
          "text": [
            "Epochs:   0%|          | 0/2 [00:00<?, ?it/s]"
          ]
        },
        {
          "name": "stdout",
          "output_type": "stream",
          "text": [
            "2025-08-26 17:33:01,235 - Epoch 1/2 — Train RMSE: 0.4552 — Validation RMSE: 0.4027\n"
          ]
        },
        {
          "name": "stderr",
          "output_type": "stream",
          "text": [
            "Epochs:  50%|█████     | 1/2 [00:29<00:29, 29.82s/it]"
          ]
        },
        {
          "name": "stdout",
          "output_type": "stream",
          "text": [
            "2025-08-26 17:33:30,823 - Epoch 2/2 — Train RMSE: 0.4172 — Validation RMSE: 0.4024\n"
          ]
        },
        {
          "name": "stderr",
          "output_type": "stream",
          "text": [
            "Epochs: 100%|██████████| 2/2 [00:59<00:00, 29.70s/it]\n"
          ]
        },
        {
          "name": "stdout",
          "output_type": "stream",
          "text": [
            "2025-08-26 17:33:34,981 - Trial 200 with params: {'idxAfterPrediction': 4, 'timesteps': 75, 'target_option': 'last', 'LoadupSamples_time_scaling_stretch': True, 'LoadupSamples_time_inc_factor': 61, 'LSTM_units': 32, 'LSTM_num_layers': 1, 'LSTM_dropout': 0.0035453385276409057, 'LSTM_recurrent_dropout': 0.0014983663499597009, 'LSTM_learning_rate': 0.0002342716882478187, 'LSTM_optimizer': 'adam', 'LSTM_bidirectional': True, 'LSTM_batch_size': 4096, 'LSTM_epochs': 2, 'LSTM_l1': 1.557435178745626e-05, 'LSTM_l2': 0.00017709636206108612, 'LSTM_inter_dropout': 0.017700124747740586, 'LSTM_input_gaussian_noise': 0.001, 'LSTM_conv1d': True, 'LSTM_conv1d_kernel_size': 3, 'LSTM_loss': 'mse', 'LSTM_transformer_before': False, 'LSTM_transformer_after': False, 'LSTM_tf_d_model': 0, 'LSTM_tf_nhead': 2, 'LSTM_tf_num_layers_before': 0, 'LSTM_tf_num_layers_after': 0, 'LSTM_tf_dim_feedforward': 8, 'LSTM_tf_dropout': 0.1, 'LSTM_tf_positional_encoding': True, 'LSTM_tf_pool': 'last', 'year_start': 2020, 'is_single_feature': False}\n",
            "2025-08-26 17:33:34,982 -   q2: 0.9900\n",
            "2025-08-26 17:33:34,983 -   Duration0: 0:01:03.741496\n",
            "2025-08-26 17:33:34,983 -   Val RMSE0 adjusted: 0.0066\n",
            "2025-08-26 17:33:34,983 -   Mean all prediction: 0.9993\n",
            "2025-08-26 17:33:34,983 -   Mean above prediction: 1.0048\n",
            "2025-08-26 17:33:34,983 -   Mean below prediction: 0.9963\n",
            "2025-08-26 17:33:34,983 -   Quantile 0.99 for distance in mask above: 819.4799999999996\n",
            "2025-08-26 17:33:34,992 -   Quantile 0.99 for distance in mask below: 846.1999999999989\n",
            "2025-08-26 17:33:34,993 -   Ratio for quantile-distance-to-length above: 0.0012\n",
            "2025-08-26 17:33:34,994 -   Ratio for quantile-distance-to-length below: 0.0013\n",
            "2025-08-26 17:33:34,994 -   Score: 1.0012\n"
          ]
        },
        {
          "name": "stderr",
          "output_type": "stream",
          "text": [
            "[I 2025-08-26 17:33:35,063] Trial 200 finished with value: 1.0011899186471105 and parameters: {'year_start': 2020, 'LoadupSamples_time_inc_factor': 61, 'LSTM_units': 32, 'LSTM_learning_rate': 0.0002342716882478187, 'LSTM_l1': 1.557435178745626e-05, 'LSTM_l2': 0.00017709636206108612, 'LSTM_dropout': 0.0035453385276409057, 'LSTM_inter_dropout': 0.017700124747740586, 'LSTM_recurrent_dropout': 0.0014983663499597009}. Best is trial 38 with value: 1.0030939915675743.\n"
          ]
        },
        {
          "name": "stdout",
          "output_type": "stream",
          "text": [
            "2025-08-26 17:33:35,063 - Trial 200 finished with value: 1.0011899186471105 and parameters: {'year_start': 2020, 'LoadupSamples_time_inc_factor': 61, 'LSTM_units': 32, 'LSTM_learning_rate': 0.0002342716882478187, 'LSTM_l1': 1.557435178745626e-05, 'LSTM_l2': 0.00017709636206108612, 'LSTM_dropout': 0.0035453385276409057, 'LSTM_inter_dropout': 0.017700124747740586, 'LSTM_recurrent_dropout': 0.0014983663499597009}. Best is trial 38 with value: 1.0030939915675743.\n",
            "2025-08-26 17:33:42,769 - Non-finite/too-large values in train y time: 48 samples.\n",
            "2025-08-26 17:33:42,773 - Removing 48 samples from training data.\n"
          ]
        },
        {
          "name": "stderr",
          "output_type": "stream",
          "text": [
            "Epochs:   0%|          | 0/2 [00:00<?, ?it/s]"
          ]
        },
        {
          "name": "stdout",
          "output_type": "stream",
          "text": [
            "2025-08-26 17:34:12,865 - Epoch 1/2 — Train RMSE: 0.5307 — Validation RMSE: 0.4021\n"
          ]
        },
        {
          "name": "stderr",
          "output_type": "stream",
          "text": [
            "Epochs:  50%|█████     | 1/2 [00:21<00:21, 21.44s/it]"
          ]
        },
        {
          "name": "stdout",
          "output_type": "stream",
          "text": [
            "2025-08-26 17:34:34,327 - Epoch 2/2 — Train RMSE: 0.4104 — Validation RMSE: 0.4019\n"
          ]
        },
        {
          "name": "stderr",
          "output_type": "stream",
          "text": [
            "Epochs: 100%|██████████| 2/2 [00:42<00:00, 21.45s/it]\n"
          ]
        },
        {
          "name": "stdout",
          "output_type": "stream",
          "text": [
            "2025-08-26 17:34:38,305 - Trial 201 with params: {'idxAfterPrediction': 4, 'timesteps': 75, 'target_option': 'last', 'LoadupSamples_time_scaling_stretch': True, 'LoadupSamples_time_inc_factor': 61, 'LSTM_units': 16, 'LSTM_num_layers': 1, 'LSTM_dropout': 0.005058040242670705, 'LSTM_recurrent_dropout': 0.0018382118814431992, 'LSTM_learning_rate': 0.00017665603321935684, 'LSTM_optimizer': 'adam', 'LSTM_bidirectional': True, 'LSTM_batch_size': 4096, 'LSTM_epochs': 2, 'LSTM_l1': 4.210981825546145e-05, 'LSTM_l2': 0.0033171238721836547, 'LSTM_inter_dropout': 0.011289652644690281, 'LSTM_input_gaussian_noise': 0.001, 'LSTM_conv1d': True, 'LSTM_conv1d_kernel_size': 3, 'LSTM_loss': 'mse', 'LSTM_transformer_before': False, 'LSTM_transformer_after': False, 'LSTM_tf_d_model': 0, 'LSTM_tf_nhead': 2, 'LSTM_tf_num_layers_before': 0, 'LSTM_tf_num_layers_after': 0, 'LSTM_tf_dim_feedforward': 8, 'LSTM_tf_dropout': 0.1, 'LSTM_tf_positional_encoding': True, 'LSTM_tf_pool': 'last', 'year_start': 2021, 'is_single_feature': False}\n",
            "2025-08-26 17:34:38,305 -   q2: 0.9900\n",
            "2025-08-26 17:34:38,305 -   Duration0: 0:00:47.020133\n",
            "2025-08-26 17:34:38,305 -   Val RMSE0 adjusted: 0.0066\n",
            "2025-08-26 17:34:38,313 -   Mean all prediction: 0.9993\n",
            "2025-08-26 17:34:38,314 -   Mean above prediction: 1.0089\n",
            "2025-08-26 17:34:38,314 -   Mean below prediction: 0.9971\n",
            "2025-08-26 17:34:38,314 -   Quantile 0.99 for distance in mask above: 932.0\n",
            "2025-08-26 17:34:38,314 -   Quantile 0.99 for distance in mask below: 890.7199999999993\n",
            "2025-08-26 17:34:38,314 -   Ratio for quantile-distance-to-length above: 0.0014\n",
            "2025-08-26 17:34:38,314 -   Ratio for quantile-distance-to-length below: 0.0014\n",
            "2025-08-26 17:34:38,314 -   Score: 1.0022\n"
          ]
        },
        {
          "name": "stderr",
          "output_type": "stream",
          "text": [
            "[I 2025-08-26 17:34:38,364] Trial 201 finished with value: 1.002213437374958 and parameters: {'year_start': 2021, 'LoadupSamples_time_inc_factor': 61, 'LSTM_units': 16, 'LSTM_learning_rate': 0.00017665603321935684, 'LSTM_l1': 4.210981825546145e-05, 'LSTM_l2': 0.0033171238721836547, 'LSTM_dropout': 0.005058040242670705, 'LSTM_inter_dropout': 0.011289652644690281, 'LSTM_recurrent_dropout': 0.0018382118814431992}. Best is trial 38 with value: 1.0030939915675743.\n"
          ]
        },
        {
          "name": "stdout",
          "output_type": "stream",
          "text": [
            "2025-08-26 17:34:38,364 - Trial 201 finished with value: 1.002213437374958 and parameters: {'year_start': 2021, 'LoadupSamples_time_inc_factor': 61, 'LSTM_units': 16, 'LSTM_learning_rate': 0.00017665603321935684, 'LSTM_l1': 4.210981825546145e-05, 'LSTM_l2': 0.0033171238721836547, 'LSTM_dropout': 0.005058040242670705, 'LSTM_inter_dropout': 0.011289652644690281, 'LSTM_recurrent_dropout': 0.0018382118814431992}. Best is trial 38 with value: 1.0030939915675743.\n",
            "2025-08-26 17:34:46,064 - Non-finite/too-large values in train y time: 48 samples.\n",
            "2025-08-26 17:34:46,064 - Removing 48 samples from training data.\n"
          ]
        },
        {
          "name": "stderr",
          "output_type": "stream",
          "text": [
            "Epochs:   0%|          | 0/2 [00:00<?, ?it/s]"
          ]
        },
        {
          "name": "stdout",
          "output_type": "stream",
          "text": [
            "2025-08-26 17:35:16,302 - Epoch 1/2 — Train RMSE: 0.5100 — Validation RMSE: 0.4030\n"
          ]
        },
        {
          "name": "stderr",
          "output_type": "stream",
          "text": [
            "Epochs:  50%|█████     | 1/2 [00:21<00:21, 21.45s/it]"
          ]
        },
        {
          "name": "stdout",
          "output_type": "stream",
          "text": [
            "2025-08-26 17:35:37,666 - Epoch 2/2 — Train RMSE: 0.4110 — Validation RMSE: 0.4025\n"
          ]
        },
        {
          "name": "stderr",
          "output_type": "stream",
          "text": [
            "Epochs: 100%|██████████| 2/2 [00:42<00:00, 21.41s/it]\n"
          ]
        },
        {
          "name": "stdout",
          "output_type": "stream",
          "text": [
            "2025-08-26 17:35:41,795 - Trial 202 with params: {'idxAfterPrediction': 4, 'timesteps': 75, 'target_option': 'last', 'LoadupSamples_time_scaling_stretch': True, 'LoadupSamples_time_inc_factor': 61, 'LSTM_units': 16, 'LSTM_num_layers': 1, 'LSTM_dropout': 0.005327880306754798, 'LSTM_recurrent_dropout': 0.002185582228606628, 'LSTM_learning_rate': 0.00018559228450489135, 'LSTM_optimizer': 'adam', 'LSTM_bidirectional': True, 'LSTM_batch_size': 4096, 'LSTM_epochs': 2, 'LSTM_l1': 4.0446575038889456e-05, 'LSTM_l2': 0.005102558043913622, 'LSTM_inter_dropout': 0.011657796324350267, 'LSTM_input_gaussian_noise': 0.001, 'LSTM_conv1d': True, 'LSTM_conv1d_kernel_size': 3, 'LSTM_loss': 'mse', 'LSTM_transformer_before': False, 'LSTM_transformer_after': False, 'LSTM_tf_d_model': 0, 'LSTM_tf_nhead': 2, 'LSTM_tf_num_layers_before': 0, 'LSTM_tf_num_layers_after': 0, 'LSTM_tf_dim_feedforward': 8, 'LSTM_tf_dropout': 0.1, 'LSTM_tf_positional_encoding': True, 'LSTM_tf_pool': 'last', 'year_start': 2021, 'is_single_feature': False}\n",
            "2025-08-26 17:35:41,798 -   q2: 0.9900\n",
            "2025-08-26 17:35:41,798 -   Duration0: 0:00:47.051730\n",
            "2025-08-26 17:35:41,798 -   Val RMSE0 adjusted: 0.0066\n",
            "2025-08-26 17:35:41,804 -   Mean all prediction: 0.9993\n",
            "2025-08-26 17:35:41,804 -   Mean above prediction: 1.0090\n",
            "2025-08-26 17:35:41,804 -   Mean below prediction: 0.9974\n",
            "2025-08-26 17:35:41,807 -   Quantile 0.99 for distance in mask above: 909.2399999999998\n",
            "2025-08-26 17:35:41,807 -   Quantile 0.99 for distance in mask below: 903.2799999999952\n",
            "2025-08-26 17:35:41,807 -   Ratio for quantile-distance-to-length above: 0.0014\n",
            "2025-08-26 17:35:41,807 -   Ratio for quantile-distance-to-length below: 0.0014\n",
            "2025-08-26 17:35:41,807 -   Score: 1.0022\n"
          ]
        },
        {
          "name": "stderr",
          "output_type": "stream",
          "text": [
            "[I 2025-08-26 17:35:41,859] Trial 202 finished with value: 1.002231338963634 and parameters: {'year_start': 2021, 'LoadupSamples_time_inc_factor': 61, 'LSTM_units': 16, 'LSTM_learning_rate': 0.00018559228450489135, 'LSTM_l1': 4.0446575038889456e-05, 'LSTM_l2': 0.005102558043913622, 'LSTM_dropout': 0.005327880306754798, 'LSTM_inter_dropout': 0.011657796324350267, 'LSTM_recurrent_dropout': 0.002185582228606628}. Best is trial 38 with value: 1.0030939915675743.\n"
          ]
        },
        {
          "name": "stdout",
          "output_type": "stream",
          "text": [
            "2025-08-26 17:35:41,859 - Trial 202 finished with value: 1.002231338963634 and parameters: {'year_start': 2021, 'LoadupSamples_time_inc_factor': 61, 'LSTM_units': 16, 'LSTM_learning_rate': 0.00018559228450489135, 'LSTM_l1': 4.0446575038889456e-05, 'LSTM_l2': 0.005102558043913622, 'LSTM_dropout': 0.005327880306754798, 'LSTM_inter_dropout': 0.011657796324350267, 'LSTM_recurrent_dropout': 0.002185582228606628}. Best is trial 38 with value: 1.0030939915675743.\n",
            "2025-08-26 17:35:49,527 - Non-finite/too-large values in train y time: 48 samples.\n",
            "2025-08-26 17:35:49,533 - Removing 48 samples from training data.\n"
          ]
        },
        {
          "name": "stderr",
          "output_type": "stream",
          "text": [
            "Epochs:   0%|          | 0/2 [00:00<?, ?it/s]"
          ]
        },
        {
          "name": "stdout",
          "output_type": "stream",
          "text": [
            "2025-08-26 17:36:19,641 - Epoch 1/2 — Train RMSE: 0.4789 — Validation RMSE: 0.4021\n"
          ]
        },
        {
          "name": "stderr",
          "output_type": "stream",
          "text": [
            "Epochs:  50%|█████     | 1/2 [00:21<00:21, 21.49s/it]"
          ]
        },
        {
          "name": "stdout",
          "output_type": "stream",
          "text": [
            "2025-08-26 17:36:41,063 - Epoch 2/2 — Train RMSE: 0.4100 — Validation RMSE: 0.4020\n"
          ]
        },
        {
          "name": "stderr",
          "output_type": "stream",
          "text": [
            "Epochs: 100%|██████████| 2/2 [00:42<00:00, 21.46s/it]\n"
          ]
        },
        {
          "name": "stdout",
          "output_type": "stream",
          "text": [
            "2025-08-26 17:36:45,307 - Trial 203 with params: {'idxAfterPrediction': 4, 'timesteps': 75, 'target_option': 'last', 'LoadupSamples_time_scaling_stretch': True, 'LoadupSamples_time_inc_factor': 61, 'LSTM_units': 16, 'LSTM_num_layers': 1, 'LSTM_dropout': 0.00568038750239644, 'LSTM_recurrent_dropout': 0.002016203152677215, 'LSTM_learning_rate': 0.0001968477660776833, 'LSTM_optimizer': 'adam', 'LSTM_bidirectional': True, 'LSTM_batch_size': 4096, 'LSTM_epochs': 2, 'LSTM_l1': 3.2864461343008076e-05, 'LSTM_l2': 0.0028720245345559376, 'LSTM_inter_dropout': 0.012055520573505172, 'LSTM_input_gaussian_noise': 0.001, 'LSTM_conv1d': True, 'LSTM_conv1d_kernel_size': 3, 'LSTM_loss': 'mse', 'LSTM_transformer_before': False, 'LSTM_transformer_after': False, 'LSTM_tf_d_model': 0, 'LSTM_tf_nhead': 2, 'LSTM_tf_num_layers_before': 0, 'LSTM_tf_num_layers_after': 0, 'LSTM_tf_dim_feedforward': 8, 'LSTM_tf_dropout': 0.1, 'LSTM_tf_positional_encoding': True, 'LSTM_tf_pool': 'last', 'year_start': 2021, 'is_single_feature': False}\n",
            "2025-08-26 17:36:45,307 -   q2: 0.9900\n",
            "2025-08-26 17:36:45,311 -   Duration0: 0:00:47.261491\n",
            "2025-08-26 17:36:45,311 -   Val RMSE0 adjusted: 0.0066\n",
            "2025-08-26 17:36:45,316 -   Mean all prediction: 0.9993\n",
            "2025-08-26 17:36:45,316 -   Mean above prediction: 1.0040\n",
            "2025-08-26 17:36:45,316 -   Mean below prediction: 0.9940\n",
            "2025-08-26 17:36:45,316 -   Quantile 0.99 for distance in mask above: 1123.7199999999993\n",
            "2025-08-26 17:36:45,320 -   Quantile 0.99 for distance in mask below: 779.4799999999996\n",
            "2025-08-26 17:36:45,320 -   Ratio for quantile-distance-to-length above: 0.0017\n",
            "2025-08-26 17:36:45,320 -   Ratio for quantile-distance-to-length below: 0.0012\n",
            "2025-08-26 17:36:45,320 -   Score: 1.0010\n"
          ]
        },
        {
          "name": "stderr",
          "output_type": "stream",
          "text": [
            "[I 2025-08-26 17:36:45,374] Trial 203 finished with value: 1.0010085527576613 and parameters: {'year_start': 2021, 'LoadupSamples_time_inc_factor': 61, 'LSTM_units': 16, 'LSTM_learning_rate': 0.0001968477660776833, 'LSTM_l1': 3.2864461343008076e-05, 'LSTM_l2': 0.0028720245345559376, 'LSTM_dropout': 0.00568038750239644, 'LSTM_inter_dropout': 0.012055520573505172, 'LSTM_recurrent_dropout': 0.002016203152677215}. Best is trial 38 with value: 1.0030939915675743.\n"
          ]
        },
        {
          "name": "stdout",
          "output_type": "stream",
          "text": [
            "2025-08-26 17:36:45,374 - Trial 203 finished with value: 1.0010085527576613 and parameters: {'year_start': 2021, 'LoadupSamples_time_inc_factor': 61, 'LSTM_units': 16, 'LSTM_learning_rate': 0.0001968477660776833, 'LSTM_l1': 3.2864461343008076e-05, 'LSTM_l2': 0.0028720245345559376, 'LSTM_dropout': 0.00568038750239644, 'LSTM_inter_dropout': 0.012055520573505172, 'LSTM_recurrent_dropout': 0.002016203152677215}. Best is trial 38 with value: 1.0030939915675743.\n",
            "2025-08-26 17:36:45,378 - Best parameters: {'year_start': 2020, 'LoadupSamples_time_inc_factor': 61, 'LSTM_units': 32, 'LSTM_learning_rate': 0.00019528650543392196, 'LSTM_l1': 1.580485787466957e-05, 'LSTM_l2': 0.00012102445546530657, 'LSTM_dropout': 0.0060859622228199165, 'LSTM_inter_dropout': 0.02206797275475179, 'LSTM_recurrent_dropout': 0.0013414558850708327}\n",
            "2025-08-26 17:36:45,378 - Best score: 1.0030939915675743\n",
            "2025-08-26 17:36:45,404 - \n",
            "Trials DataFrame:\n",
            "2025-08-26 17:36:45,427 -      number     value             datetime_start          datetime_complete               duration  params_LSTM_dropout  params_LSTM_inter_dropout  params_LSTM_l1  params_LSTM_l2  params_LSTM_learning_rate  params_LSTM_recurrent_dropout  params_LSTM_units  params_LoadupSamples_time_inc_factor  params_year_start     state\n",
            "22       22  1.000302 2025-08-26 13:59:43.763345 2025-08-26 14:00:35.253789 0 days 00:00:51.490444             0.007878                   0.024171        0.000066        0.000310                   0.000398                       0.001000                 32                                    76               2022  COMPLETE\n",
            "10       10  1.000361 2025-08-26 13:47:50.993933 2025-08-26 13:48:38.793631 0 days 00:00:47.799698             0.001667                   0.013055        0.000021        0.000229                   0.000146                       0.008118                 16                                    81               2022  COMPLETE\n",
            "12       12  1.000402 2025-08-26 13:50:00.702663 2025-08-26 13:50:48.230478 0 days 00:00:47.527815             0.002316                   0.030579        0.000050        0.000145                   0.000338                       0.004593                 16                                    81               2022  COMPLETE\n",
            "24       24  1.000488 2025-08-26 14:01:41.781940 2025-08-26 14:02:33.507635 0 days 00:00:51.725695             0.002429                   0.016446        0.000032        0.000714                   0.000207                       0.001145                 32                                    71               2022  COMPLETE\n",
            "162     162  1.000498 2025-08-26 16:45:00.839420 2025-08-26 16:45:52.432237 0 days 00:00:51.592817             0.005197                   0.015685        0.000064        0.000187                   0.000278                       0.001076                 32                                    81               2022  COMPLETE\n",
            "133     133  1.000577 2025-08-26 16:10:49.497483 2025-08-26 16:11:41.160267 0 days 00:00:51.662784             0.005166                   0.021728        0.000028        0.000122                   0.000201                       0.001582                 32                                    61               2022  COMPLETE\n",
            "59       59  1.000585 2025-08-26 14:44:20.454938 2025-08-26 14:45:43.136815 0 days 00:01:22.681877             0.007575                   0.021825        0.000011        0.009971                   0.000374                       0.002482                 32                                    61               2020  COMPLETE\n",
            "54       54  1.000632 2025-08-26 14:37:47.867677 2025-08-26 14:38:55.358364 0 days 00:01:07.490687             0.003877                   0.013220        0.000044        0.000199                   0.000199                       0.001209                 32                                    61               2021  COMPLETE\n",
            "170     170  1.000656 2025-08-26 16:52:52.544258 2025-08-26 16:53:44.160124 0 days 00:00:51.615866             0.004669                   0.022267        0.000029        0.000762                   0.000228                       0.002346                 32                                    61               2022  COMPLETE\n",
            "103     103  1.000675 2025-08-26 15:36:19.718692 2025-08-26 15:37:26.431511 0 days 00:01:06.712819             0.005934                   0.019208        0.000027        0.000437                   0.000180                       0.001129                 32                                    61               2021  COMPLETE\n",
            "60       60  1.000689 2025-08-26 14:45:43.151156 2025-08-26 14:47:06.092579 0 days 00:01:22.941423             0.009422                   0.011470        0.000013        0.000370                   0.000172                       0.001587                 32                                    61               2020  COMPLETE\n",
            "184     184  1.000717 2025-08-26 17:10:31.708439 2025-08-26 17:11:58.666701 0 days 00:01:26.958262             0.005914                   0.019999        0.000014        0.000116                   0.000105                       0.001829                 32                                    61               2020  COMPLETE\n",
            "193     193  1.000774 2025-08-26 17:22:43.134613 2025-08-26 17:24:06.564563 0 days 00:01:23.429950             0.004891                   0.015755        0.000029        0.006660                   0.000215                       0.001763                 32                                    61               2020  COMPLETE\n",
            "83       83  1.000791 2025-08-26 15:13:08.980482 2025-08-26 15:14:15.943069 0 days 00:01:06.962587             0.004929                   0.022443        0.000013        0.000136                   0.000194                       0.001170                 32                                    61               2021  COMPLETE\n",
            "45       45  1.000797 2025-08-26 14:26:07.648614 2025-08-26 14:27:30.432529 0 days 00:01:22.783915             0.002785                   0.027907        0.000015        0.000103                   0.000227                       0.001395                 32                                    66               2020  COMPLETE\n",
            "76       76  1.000807 2025-08-26 15:04:48.426657 2025-08-26 15:05:40.074413 0 days 00:00:51.647756             0.007386                   0.016339        0.000035        0.000101                   0.000332                       0.003844                 32                                    61               2022  COMPLETE\n",
            "143     143  1.000813 2025-08-26 16:21:39.676576 2025-08-26 16:22:46.844509 0 days 00:01:07.167933             0.002312                   0.022234        0.000027        0.000112                   0.000185                       0.001898                 32                                    61               2021  COMPLETE\n",
            "48       48  1.000838 2025-08-26 14:30:08.789722 2025-08-26 14:31:31.626787 0 days 00:01:22.837065             0.004724                   0.026886        0.000030        0.000127                   0.000102                       0.001291                 32                                    61               2020  COMPLETE\n",
            "117     117  1.000848 2025-08-26 15:53:00.910959 2025-08-26 15:54:08.038678 0 days 00:01:07.127719             0.004468                   0.012487        0.000025        0.000128                   0.000154                       0.003159                 32                                    61               2021  COMPLETE\n",
            "15       15  1.000853 2025-08-26 13:52:40.561879 2025-08-26 13:53:47.652704 0 days 00:01:07.090825             0.005059                   0.019708        0.000083        0.000300                   0.000289                       0.005244                 32                                    76               2021  COMPLETE\n",
            "175     175  1.000855 2025-08-26 16:58:59.586865 2025-08-26 17:00:06.870954 0 days 00:01:07.284089             0.006104                   0.017025        0.000025        0.000164                   0.000201                       0.004641                 32                                    71               2021  COMPLETE\n",
            "89       89  1.000856 2025-08-26 15:19:46.861489 2025-08-26 15:20:53.756791 0 days 00:01:06.895302             0.006317                   0.026965        0.000020        0.000109                   0.000221                       0.001337                 32                                    61               2021  COMPLETE\n",
            "88       88  1.000877 2025-08-26 15:18:24.365513 2025-08-26 15:19:46.844682 0 days 00:01:22.479169             0.005226                   0.012148        0.000024        0.000125                   0.000190                       0.001561                 32                                    66               2020  COMPLETE\n",
            "144     144  1.000888 2025-08-26 16:22:46.855843 2025-08-26 16:23:54.202024 0 days 00:01:07.346181             0.001929                   0.019616        0.000033        0.000101                   0.000167                       0.001435                 32                                    61               2021  COMPLETE\n",
            "145     145  1.000902 2025-08-26 16:23:54.218349 2025-08-26 16:25:01.282014 0 days 00:01:07.063665             0.005882                   0.018229        0.000024        0.000154                   0.000227                       0.001685                 32                                    61               2021  COMPLETE\n",
            "2         2  1.000906 2025-08-26 13:38:55.483946 2025-08-26 13:40:17.183969 0 days 00:01:21.700023             0.006141                   0.011396        0.000029        0.005088                   0.000137                       0.001352                 32                                    71               2020  COMPLETE\n",
            "28       28  1.000985 2025-08-26 14:05:38.528330 2025-08-26 14:06:30.877693 0 days 00:00:52.349363             0.005199                   0.018001        0.000010        0.000203                   0.000227                       0.001655                 32                                    81               2022  COMPLETE\n",
            "203     203  1.001009 2025-08-26 17:35:41.865568 2025-08-26 17:36:45.364694 0 days 00:01:03.499126             0.005680                   0.012056        0.000033        0.002872                   0.000197                       0.002016                 16                                    61               2021  COMPLETE\n",
            "136     136  1.001036 2025-08-26 16:13:55.065978 2025-08-26 16:15:02.164593 0 days 00:01:07.098615             0.004961                   0.024251        0.000011        0.000157                   0.000239                       0.005857                 32                                    61               2021  COMPLETE\n",
            "18       18  1.001053 2025-08-26 13:56:01.582140 2025-08-26 13:57:08.606546 0 days 00:01:07.024406             0.009908                   0.023823        0.000060        0.000664                   0.000427                       0.006473                 32                                    61               2021  COMPLETE\n",
            "73       73  1.001056 2025-08-26 15:01:11.471441 2025-08-26 15:02:18.467177 0 days 00:01:06.995736             0.006755                   0.017225        0.000017        0.000113                   0.000288                       0.003194                 32                                    61               2021  COMPLETE\n",
            "93       93  1.001069 2025-08-26 15:24:30.176879 2025-08-26 15:25:21.776482 0 days 00:00:51.599603             0.005679                   0.021224        0.000014        0.000112                   0.000184                       0.001137                 32                                    61               2022  COMPLETE\n",
            "69       69  1.001074 2025-08-26 14:56:49.394066 2025-08-26 14:58:11.997929 0 days 00:01:22.603863             0.004920                   0.032125        0.000033        0.000318                   0.000432                       0.001218                 32                                    66               2020  COMPLETE\n",
            "39       39  1.001074 2025-08-26 14:17:58.041424 2025-08-26 14:19:20.762366 0 days 00:01:22.720942             0.008683                   0.026895        0.000016        0.000103                   0.000179                       0.001743                 32                                    61               2020  COMPLETE\n",
            "139     139  1.001087 2025-08-26 16:17:11.427779 2025-08-26 16:18:03.022203 0 days 00:00:51.594424             0.005332                   0.031941        0.000030        0.000141                   0.000216                       0.002263                 32                                    76               2022  COMPLETE\n",
            "57       57  1.001136 2025-08-26 14:41:41.165444 2025-08-26 14:43:03.958678 0 days 00:01:22.793234             0.007108                   0.025016        0.000016        0.000268                   0.000225                       0.002039                 32                                    66               2020  COMPLETE\n",
            "87       87  1.001146 2025-08-26 15:17:17.654446 2025-08-26 15:18:24.351354 0 days 00:01:06.696908             0.004331                   0.023368        0.000011        0.000207                   0.000354                       0.001068                 32                                    61               2021  COMPLETE\n",
            "74       74  1.001157 2025-08-26 15:02:18.486449 2025-08-26 15:03:41.180053 0 days 00:01:22.693604             0.007715                   0.025910        0.000031        0.000226                   0.000200                       0.005063                 32                                    81               2020  COMPLETE\n",
            "140     140  1.001158 2025-08-26 16:18:03.025162 2025-08-26 16:19:25.328875 0 days 00:01:22.303713             0.008067                   0.024932        0.000011        0.000114                   0.000202                       0.001277                 32                                    61               2020  COMPLETE\n",
            "50       50  1.001164 2025-08-26 14:32:47.227841 2025-08-26 14:34:10.285342 0 days 00:01:23.057501             0.003351                   0.045677        0.000019        0.003855                   0.000238                       0.001517                 32                                    61               2020  COMPLETE\n",
            "123     123  1.001179 2025-08-26 15:59:38.039086 2025-08-26 16:00:45.201639 0 days 00:01:07.162553             0.005805                   0.020559        0.000027        0.000144                   0.000206                       0.001518                 32                                    61               2021  COMPLETE\n",
            "200     200  1.001190 2025-08-26 17:32:11.429419 2025-08-26 17:33:35.043701 0 days 00:01:23.614282             0.003545                   0.017700        0.000016        0.000177                   0.000234                       0.001498                 32                                    61               2020  COMPLETE\n",
            "146     146  1.001197 2025-08-26 16:25:01.296122 2025-08-26 16:26:08.610537 0 days 00:01:07.314415             0.003185                   0.021313        0.000028        0.006102                   0.000193                       0.002093                 32                                    61               2021  COMPLETE\n",
            "147     147  1.001197 2025-08-26 16:26:08.627452 2025-08-26 16:27:15.923567 0 days 00:01:07.296115             0.002321                   0.022823        0.000032        0.000127                   0.000363                       0.001318                 32                                    61               2021  COMPLETE\n",
            "130     130  1.001203 2025-08-26 16:07:28.043254 2025-08-26 16:08:35.089090 0 days 00:01:07.045836             0.006285                   0.019561        0.000012        0.000219                   0.000427                       0.002730                 32                                    61               2021  COMPLETE\n",
            "95       95  1.001218 2025-08-26 15:26:28.336333 2025-08-26 15:27:50.945054 0 days 00:01:22.608721             0.004638                   0.013677        0.000012        0.000122                   0.000164                       0.001443                 32                                    61               2020  COMPLETE\n",
            "168     168  1.001219 2025-08-26 16:50:37.435791 2025-08-26 16:51:29.731680 0 days 00:00:52.295889             0.005751                   0.025490        0.000037        0.000141                   0.000316                       0.001203                 32                                    61               2022  COMPLETE\n",
            "177     177  1.001238 2025-08-26 17:01:29.651060 2025-08-26 17:02:36.963860 0 days 00:01:07.312800             0.008628                   0.020151        0.000030        0.000101                   0.000217                       0.001280                 32                                    61               2021  COMPLETE\n",
            "47       47  1.001241 2025-08-26 14:28:46.089487 2025-08-26 14:30:08.776976 0 days 00:01:22.687489             0.002079                   0.033275        0.000021        0.000147                   0.000124                       0.002623                 32                                    66               2020  COMPLETE\n",
            "61       61  1.001255 2025-08-26 14:47:06.107989 2025-08-26 14:48:13.415805 0 days 00:01:07.307816             0.006455                   0.025156        0.000021        0.000114                   0.000217                       0.001266                 32                                    61               2021  COMPLETE\n",
            "105     105  1.001264 2025-08-26 15:38:49.130747 2025-08-26 15:39:56.372987 0 days 00:01:07.242240             0.005441                   0.024267        0.000013        0.000158                   0.000210                       0.001405                 32                                    61               2021  COMPLETE\n",
            "80       80  1.001301 2025-08-26 15:09:31.957545 2025-08-26 15:10:54.604745 0 days 00:01:22.647200             0.004078                   0.070746        0.000027        0.000293                   0.000209                       0.002926                 32                                    61               2020  COMPLETE\n",
            "190     190  1.001308 2025-08-26 17:18:20.680399 2025-08-26 17:19:48.099949 0 days 00:01:27.419550             0.001546                   0.060647        0.000030        0.000132                   0.000197                       0.001242                 32                                    66               2020  COMPLETE\n",
            "101     101  1.001354 2025-08-26 15:33:34.328363 2025-08-26 15:34:56.971875 0 days 00:01:22.643512             0.005071                   0.015882        0.000030        0.000155                   0.000196                       0.001249                 32                                    61               2020  COMPLETE\n",
            "79       79  1.001360 2025-08-26 15:08:24.930107 2025-08-26 15:09:31.942219 0 days 00:01:07.012112             0.009932                   0.020744        0.000038        0.000862                   0.000175                       0.001517                 32                                    76               2021  COMPLETE\n",
            "150     150  1.001379 2025-08-26 16:29:30.281850 2025-08-26 16:30:37.511991 0 days 00:01:07.230141             0.005041                   0.013266        0.000010        0.000143                   0.000340                       0.001122                 32                                    61               2021  COMPLETE\n",
            "154     154  1.001381 2025-08-26 16:34:45.900914 2025-08-26 16:36:08.697191 0 days 00:01:22.796277             0.006033                   0.015202        0.000026        0.000136                   0.000207                       0.001413                 32                                    61               2020  COMPLETE\n",
            "134     134  1.001382 2025-08-26 16:11:41.183855 2025-08-26 16:12:47.892350 0 days 00:01:06.708495             0.004631                   0.014316        0.000025        0.000109                   0.000195                       0.001366                 32                                    61               2021  COMPLETE\n",
            "151     151  1.001393 2025-08-26 16:30:37.528048 2025-08-26 16:32:00.057198 0 days 00:01:22.529150             0.004557                   0.016348        0.000029        0.000162                   0.000193                       0.001217                 32                                    61               2020  COMPLETE\n",
            "42       42  1.001411 2025-08-26 14:22:06.441063 2025-08-26 14:23:29.156968 0 days 00:01:22.715905             0.007120                   0.017180        0.000020        0.000127                   0.000192                       0.001484                 32                                    61               2020  COMPLETE\n",
            "20       20  1.001418 2025-08-26 13:58:00.289240 2025-08-26 13:58:51.994584 0 days 00:00:51.705344             0.004402                   0.016609        0.000038        0.000189                   0.000247                       0.001015                 32                                    66               2022  COMPLETE\n",
            "163     163  1.001435 2025-08-26 16:45:52.448370 2025-08-26 16:46:44.127824 0 days 00:00:51.679454             0.005431                   0.012772        0.000043        0.000248                   0.000258                       0.001171                 32                                    76               2022  COMPLETE\n",
            "64       64  1.001444 2025-08-26 14:50:43.205853 2025-08-26 14:51:50.201828 0 days 00:01:06.995975             0.008266                   0.017698        0.000036        0.000204                   0.000320                       0.001158                 32                                    61               2021  COMPLETE\n",
            "182     182  1.001461 2025-08-26 17:07:37.969007 2025-08-26 17:09:04.586864 0 days 00:01:26.617857             0.006323                   0.021950        0.000012        0.000126                   0.000193                       0.002201                 32                                    66               2020  COMPLETE\n",
            "67       67  1.001470 2025-08-26 14:54:19.743021 2025-08-26 14:55:42.339109 0 days 00:01:22.596088             0.001168                   0.019763        0.000019        0.000223                   0.000155                       0.001001                 32                                    61               2020  COMPLETE\n",
            "180     180  1.001475 2025-08-26 17:04:51.823006 2025-08-26 17:06:14.569394 0 days 00:01:22.746388             0.004339                   0.023298        0.000015        0.000109                   0.000208                       0.001587                 32                                    61               2020  COMPLETE\n",
            "159     159  1.001503 2025-08-26 16:41:23.930473 2025-08-26 16:42:30.862148 0 days 00:01:06.931675             0.009422                   0.021226        0.000029        0.000109                   0.000221                       0.001243                 32                                    61               2021  COMPLETE\n",
            "17       17  1.001506 2025-08-26 13:54:54.479537 2025-08-26 13:56:01.557623 0 days 00:01:07.078086             0.009849                   0.019611        0.000094        0.000249                   0.000311                       0.003530                 32                                    66               2021  COMPLETE\n",
            "16       16  1.001508 2025-08-26 13:53:47.667115 2025-08-26 13:54:54.464969 0 days 00:01:06.797854             0.004242                   0.010251        0.000053        0.000391                   0.000471                       0.005536                 32                                    76               2021  COMPLETE\n",
            "119     119  1.001511 2025-08-26 15:55:09.722892 2025-08-26 15:56:16.735206 0 days 00:01:07.012314             0.001805                   0.013857        0.000012        0.000102                   0.000367                       0.001453                 32                                    61               2021  COMPLETE\n",
            "171     171  1.001518 2025-08-26 16:53:44.174131 2025-08-26 16:55:06.785784 0 days 00:01:22.611653             0.004737                   0.015357        0.000034        0.000132                   0.000204                       0.002048                 32                                    61               2020  COMPLETE\n",
            "120     120  1.001519 2025-08-26 15:56:16.738178 2025-08-26 15:57:23.731390 0 days 00:01:06.993212             0.006112                   0.021663        0.000034        0.000173                   0.000178                       0.001663                 32                                    61               2021  COMPLETE\n",
            "99       99  1.001539 2025-08-26 15:31:27.917675 2025-08-26 15:32:19.681771 0 days 00:00:51.764096             0.007894                   0.025678        0.000024        0.000198                   0.000176                       0.001159                 32                                    61               2022  COMPLETE\n",
            "31       31  1.001542 2025-08-26 14:08:28.988032 2025-08-26 14:09:35.845771 0 days 00:01:06.857739             0.002791                   0.014269        0.000058        0.000236                   0.000410                       0.001363                 32                                    76               2021  COMPLETE\n",
            "169     169  1.001570 2025-08-26 16:51:29.758172 2025-08-26 16:52:52.527669 0 days 00:01:22.769497             0.006690                   0.019053        0.000027        0.000216                   0.000196                       0.001002                 32                                    61               2020  COMPLETE\n",
            "102     102  1.001589 2025-08-26 15:34:56.988564 2025-08-26 15:36:19.701771 0 days 00:01:22.713207             0.004492                   0.017449        0.000028        0.000121                   0.000206                       0.001327                 32                                    61               2020  COMPLETE\n",
            "183     183  1.001610 2025-08-26 17:09:04.600139 2025-08-26 17:10:31.697466 0 days 00:01:27.097327             0.006894                   0.017921        0.000012        0.000139                   0.000202                       0.002504                 32                                    61               2020  COMPLETE\n",
            "138     138  1.001625 2025-08-26 16:16:09.425749 2025-08-26 16:17:11.411042 0 days 00:01:01.985293             0.007026                   0.028361        0.000015        0.000123                   0.000182                       0.001186                 16                                    61               2021  COMPLETE\n",
            "14       14  1.001635 2025-08-26 13:51:49.191187 2025-08-26 13:52:40.548150 0 days 00:00:51.356963             0.001500                   0.059775        0.000013        0.000526                   0.000175                       0.003489                 32                                    81               2022  COMPLETE\n",
            "108     108  1.001637 2025-08-26 15:42:25.763484 2025-08-26 15:43:48.292312 0 days 00:01:22.528828             0.004171                   0.013480        0.000033        0.000173                   0.000295                       0.001189                 32                                    61               2020  COMPLETE\n",
            "34       34  1.001650 2025-08-26 14:11:50.308106 2025-08-26 14:12:57.480774 0 days 00:01:07.172668             0.002006                   0.010177        0.000023        0.000141                   0.000258                       0.001125                 32                                    71               2021  COMPLETE\n",
            "179     179  1.001656 2025-08-26 17:03:44.476763 2025-08-26 17:04:51.806430 0 days 00:01:07.329667             0.005701                   0.024430        0.000013        0.000118                   0.000188                       0.001392                 32                                    66               2021  COMPLETE\n",
            "90       90  1.001657 2025-08-26 15:20:53.759462 2025-08-26 15:22:16.152443 0 days 00:01:22.392981             0.007013                   0.019977        0.000013        0.000148                   0.000234                       0.002160                 32                                    71               2020  COMPLETE\n",
            "153     153  1.001664 2025-08-26 16:33:23.201378 2025-08-26 16:34:45.884117 0 days 00:01:22.682739             0.004844                   0.017100        0.000027        0.000150                   0.000183                       0.001634                 32                                    61               2020  COMPLETE\n",
            "75       75  1.001666 2025-08-26 15:03:41.196786 2025-08-26 15:04:48.410117 0 days 00:01:07.213331             0.005376                   0.010801        0.000029        0.000166                   0.000303                       0.001089                 32                                    61               2021  COMPLETE\n",
            "77       77  1.001670 2025-08-26 15:05:40.074413 2025-08-26 15:07:02.321052 0 days 00:01:22.246639             0.005991                   0.019408        0.000019        0.000131                   0.000378                       0.001370                 32                                    66               2020  COMPLETE\n",
            "81       81  1.001672 2025-08-26 15:10:54.607393 2025-08-26 15:12:02.034993 0 days 00:01:07.427600             0.006684                   0.018201        0.000014        0.000114                   0.000202                       0.001105                 32                                    61               2021  COMPLETE\n",
            "174     174  1.001694 2025-08-26 16:57:36.865541 2025-08-26 16:58:59.561868 0 days 00:01:22.696327             0.004987                   0.013779        0.000028        0.000146                   0.000212                       0.002102                 32                                    61               2020  COMPLETE\n",
            "56       56  1.001695 2025-08-26 14:40:18.388200 2025-08-26 14:41:41.151286 0 days 00:01:22.763086             0.009115                   0.030566        0.000014        0.001288                   0.000280                       0.001447                 32                                    66               2020  COMPLETE\n",
            "78       78  1.001706 2025-08-26 15:07:02.333966 2025-08-26 15:08:24.913272 0 days 00:01:22.579306             0.009081                   0.013932        0.000022        0.000183                   0.000257                       0.006198                 32                                    61               2020  COMPLETE\n",
            "188     188  1.001736 2025-08-26 17:16:04.244618 2025-08-26 17:17:09.671037 0 days 00:01:05.426419             0.002198                   0.020819        0.000026        0.000150                   0.000209                       0.002345                 16                                    61               2021  COMPLETE\n",
            "23       23  1.001736 2025-08-26 14:00:35.270909 2025-08-26 14:01:41.768256 0 days 00:01:06.497347             0.004270                   0.012015        0.000047        0.000171                   0.000495                       0.004430                 32                                    76               2021  COMPLETE\n",
            "115     115  1.001738 2025-08-26 15:50:46.619293 2025-08-26 15:51:53.865747 0 days 00:01:07.246454             0.006494                   0.010246        0.000023        0.000112                   0.000204                       0.001597                 32                                    61               2021  COMPLETE\n",
            "52       52  1.001747 2025-08-26 14:35:17.631858 2025-08-26 14:36:40.547756 0 days 00:01:22.915898             0.006345                   0.021182        0.000034        0.000124                   0.000162                       0.001722                 32                                    61               2020  COMPLETE\n",
            "66       66  1.001763 2025-08-26 14:53:12.764533 2025-08-26 14:54:19.726782 0 days 00:01:06.962249             0.006218                   0.013239        0.000010        0.000161                   0.000246                       0.001302                 32                                    61               2021  COMPLETE\n",
            "94       94  1.001778 2025-08-26 15:25:21.790701 2025-08-26 15:26:28.317237 0 days 00:01:06.526536             0.003744                   0.018590        0.000017        0.000182                   0.000245                       0.001208                 32                                    61               2021  COMPLETE\n",
            "26       26  1.001793 2025-08-26 14:03:40.381903 2025-08-26 14:04:31.899000 0 days 00:00:51.517097             0.007641                   0.010642        0.000075        0.002097                   0.000262                       0.002264                 32                                    71               2022  COMPLETE\n",
            "157     157  1.001793 2025-08-26 16:38:53.972824 2025-08-26 16:40:01.188437 0 days 00:01:07.215613             0.001203                   0.011136        0.000028        0.000120                   0.000198                       0.003553                 32                                    61               2021  COMPLETE\n",
            "46       46  1.001805 2025-08-26 14:27:30.445120 2025-08-26 14:28:46.066752 0 days 00:01:15.621632             0.008680                   0.022967        0.000018        0.000256                   0.000269                       0.001607                 16                                    61               2020  COMPLETE\n",
            "173     173  1.001811 2025-08-26 16:56:29.750259 2025-08-26 16:57:36.845179 0 days 00:01:07.094920             0.004531                   0.012005        0.000029        0.000123                   0.000196                       0.001792                 32                                    61               2021  COMPLETE\n",
            "185     185  1.001824 2025-08-26 17:11:58.677488 2025-08-26 17:13:25.679109 0 days 00:01:27.001621             0.007205                   0.019015        0.000013        0.000173                   0.000387                       0.002115                 32                                    61               2020  COMPLETE\n",
            "58       58  1.001831 2025-08-26 14:43:03.973028 2025-08-26 14:44:20.440652 0 days 00:01:16.467624             0.008394                   0.048778        0.000011        0.000163                   0.000188                       0.001830                 16                                    71               2020  COMPLETE\n",
            "63       63  1.001834 2025-08-26 14:49:20.725850 2025-08-26 14:50:43.189413 0 days 00:01:22.463563             0.004707                   0.022700        0.000031        0.000140                   0.000240                       0.001393                 32                                    61               2020  COMPLETE\n",
            "71       71  1.001839 2025-08-26 14:59:13.229134 2025-08-26 15:00:04.761468 0 days 00:00:51.532334             0.007999                   0.014486        0.000026        0.000180                   0.000354                       0.004270                 32                                    61               2022  COMPLETE\n",
            "7         7  1.001847 2025-08-26 13:44:36.435181 2025-08-26 13:45:49.875863 0 days 00:01:13.440682             0.008032                   0.081188        0.000018        0.005101                   0.000200                       0.002945                 16                                    66               2020  COMPLETE\n",
            "198     198  1.001852 2025-08-26 17:29:40.153967 2025-08-26 17:31:03.593063 0 days 00:01:23.439096             0.005992                   0.021965        0.000010        0.000549                   0.000201                       0.001338                 32                                    61               2020  COMPLETE\n",
            "96       96  1.001855 2025-08-26 15:27:50.947479 2025-08-26 15:28:57.993676 0 days 00:01:07.046197             0.006644                   0.011377        0.000018        0.000101                   0.000169                       0.008738                 32                                    61               2021  COMPLETE\n",
            "176     176  1.001858 2025-08-26 17:00:06.887564 2025-08-26 17:01:29.634000 0 days 00:01:22.746436             0.005223                   0.013052        0.000077        0.000132                   0.000183                       0.002226                 32                                    61               2020  COMPLETE\n",
            "155     155  1.001859 2025-08-26 16:36:08.714011 2025-08-26 16:37:31.293294 0 days 00:01:22.579283             0.004209                   0.012319        0.000023        0.000101                   0.000214                       0.002010                 32                                    61               2020  COMPLETE\n",
            "98       98  1.001873 2025-08-26 15:30:20.822465 2025-08-26 15:31:27.900841 0 days 00:01:07.078376             0.005615                   0.022147        0.000013        0.000249                   0.000217                       0.001036                 32                                    76               2021  COMPLETE\n",
            "5         5  1.001902 2025-08-26 13:42:53.580645 2025-08-26 13:43:44.835421 0 days 00:00:51.254776             0.006820                   0.042293        0.000032        0.000121                   0.000387                       0.001858                 32                                    76               2022  COMPLETE\n",
            "127     127  1.001906 2025-08-26 16:04:06.756129 2025-08-26 16:05:13.835769 0 days 00:01:07.079640             0.007523                   0.025274        0.000014        0.000130                   0.000233                       0.002142                 32                                    71               2021  COMPLETE\n",
            "196     196  1.001909 2025-08-26 17:26:53.373834 2025-08-26 17:28:16.681922 0 days 00:01:23.308088             0.005444                   0.034785        0.000013        0.000268                   0.000328                       0.007376                 32                                    61               2020  COMPLETE\n",
            "68       68  1.001927 2025-08-26 14:55:42.356311 2025-08-26 14:56:49.370148 0 days 00:01:07.013837             0.002686                   0.015496        0.000028        0.000136                   0.000231                       0.001746                 32                                    71               2021  COMPLETE\n",
            "181     181  1.001942 2025-08-26 17:06:14.586066 2025-08-26 17:07:37.953740 0 days 00:01:23.367674             0.007489                   0.021090        0.000012        0.002838                   0.000195                       0.002003                 32                                    66               2020  COMPLETE\n",
            "149     149  1.001950 2025-08-26 16:28:23.151827 2025-08-26 16:29:30.265189 0 days 00:01:07.113362             0.006456                   0.020209        0.000030        0.000189                   0.000207                       0.001068                 32                                    61               2021  COMPLETE\n",
            "8         8  1.001955 2025-08-26 13:45:49.887423 2025-08-26 13:47:03.552081 0 days 00:01:13.664658             0.003436                   0.029662        0.000070        0.001285                   0.000118                       0.001453                 16                                    66               2020  COMPLETE\n",
            "107     107  1.001960 2025-08-26 15:41:18.837730 2025-08-26 15:42:25.746867 0 days 00:01:06.909137             0.006215                   0.017821        0.000044        0.001409                   0.000315                       0.001911                 32                                    61               2021  COMPLETE\n",
            "4         4  1.001967 2025-08-26 13:41:39.289178 2025-08-26 13:42:53.557568 0 days 00:01:14.268390             0.003158                   0.019764        0.000015        0.001939                   0.000168                       0.001526                 16                                    61               2020  COMPLETE\n",
            "72       72  1.001974 2025-08-26 15:00:04.776549 2025-08-26 15:01:11.455441 0 days 00:01:06.678892             0.005811                   0.012530        0.000025        0.000145                   0.000216                       0.006716                 32                                    61               2021  COMPLETE\n",
            "148     148  1.001985 2025-08-26 16:27:15.923567 2025-08-26 16:28:23.135680 0 days 00:01:07.212113             0.005513                   0.011685        0.000013        0.000120                   0.000175                       0.001527                 32                                    61               2021  COMPLETE\n",
            "165     165  1.001992 2025-08-26 16:47:36.457640 2025-08-26 16:48:27.986750 0 days 00:00:51.529110             0.004358                   0.013864        0.000032        0.000127                   0.000249                       0.001464                 32                                    71               2022  COMPLETE\n",
            "161     161  1.002001 2025-08-26 16:43:38.123185 2025-08-26 16:45:00.836188 0 days 00:01:22.713003             0.004580                   0.013467        0.000031        0.000206                   0.000211                       0.001031                 32                                    76               2020  COMPLETE\n",
            "135     135  1.002008 2025-08-26 16:12:47.904833 2025-08-26 16:13:55.050712 0 days 00:01:07.145879             0.005610                   0.012830        0.000017        0.000137                   0.000209                       0.001827                 32                                    61               2021  COMPLETE\n",
            "195     195  1.002033 2025-08-26 17:25:29.855413 2025-08-26 17:26:53.360888 0 days 00:01:23.505475             0.005024                   0.016423        0.000014        0.000122                   0.000228                       0.002057                 32                                    61               2020  COMPLETE\n",
            "85       85  1.002052 2025-08-26 15:15:23.121705 2025-08-26 15:16:30.183941 0 days 00:01:07.062236             0.002161                   0.015174        0.000016        0.000116                   0.000329                       0.001406                 32                                    61               2021  COMPLETE\n",
            "110     110  1.002067 2025-08-26 15:44:55.288228 2025-08-26 15:46:02.317784 0 days 00:01:07.029556             0.006869                   0.012039        0.000016        0.000143                   0.000347                       0.001766                 32                                    76               2021  COMPLETE\n",
            "114     114  1.002067 2025-08-26 15:49:39.472283 2025-08-26 15:50:46.619293 0 days 00:01:07.147010             0.003491                   0.011189        0.000032        0.000120                   0.000214                       0.002300                 32                                    61               2021  COMPLETE\n",
            "189     189  1.002068 2025-08-26 17:17:09.686235 2025-08-26 17:18:20.664668 0 days 00:01:10.978433             0.007850                   0.014276        0.000011        0.000110                   0.000188                       0.001059                 32                                    61               2021  COMPLETE\n",
            "21       21  1.002081 2025-08-26 13:58:52.010893 2025-08-26 13:59:43.739786 0 days 00:00:51.728893             0.003631                   0.013913        0.000041        0.000102                   0.000280                       0.002772                 32                                    76               2022  COMPLETE\n",
            "126     126  1.002083 2025-08-26 16:02:59.627030 2025-08-26 16:04:06.739378 0 days 00:01:07.112348             0.008800                   0.026323        0.000015        0.000119                   0.000214                       0.004035                 32                                    61               2021  COMPLETE\n",
            "100     100  1.002088 2025-08-26 15:32:19.696955 2025-08-26 15:33:34.308960 0 days 00:01:14.612005             0.008401                   0.014757        0.000032        0.000136                   0.000223                       0.001664                 16                                    81               2020  COMPLETE\n",
            "92       92  1.002095 2025-08-26 15:23:23.331744 2025-08-26 15:24:30.160827 0 days 00:01:06.829083             0.003065                   0.016843        0.000015        0.000136                   0.000203                       0.001063                 32                                    61               2021  COMPLETE\n",
            "166     166  1.002110 2025-08-26 16:48:28.002956 2025-08-26 16:49:15.507725 0 days 00:00:47.504769             0.004045                   0.014395        0.000050        0.000116                   0.000202                       0.001100                 16                                    76               2022  COMPLETE\n",
            "70       70  1.002114 2025-08-26 14:58:12.014679 2025-08-26 14:59:13.215222 0 days 00:01:01.200543             0.003265                   0.096846        0.000023        0.000118                   0.000185                       0.001668                 16                                    76               2021  COMPLETE\n",
            "178     178  1.002124 2025-08-26 17:02:36.980266 2025-08-26 17:03:44.460511 0 days 00:01:07.480245             0.004753                   0.016040        0.000016        0.001092                   0.000240                       0.001901                 32                                    81               2021  COMPLETE\n",
            "35       35  1.002124 2025-08-26 14:12:57.486780 2025-08-26 14:14:04.813413 0 days 00:01:07.326633             0.003645                   0.015208        0.000035        0.000180                   0.000354                       0.001574                 32                                    81               2021  COMPLETE\n",
            "104     104  1.002127 2025-08-26 15:37:26.446563 2025-08-26 15:38:49.109442 0 days 00:01:22.662879             0.002901                   0.020573        0.000100        0.000590                   0.000190                       0.001255                 32                                    61               2020  COMPLETE\n",
            "65       65  1.002139 2025-08-26 14:51:50.218605 2025-08-26 14:53:12.747827 0 days 00:01:22.529222             0.007235                   0.028563        0.000026        0.000100                   0.000271                       0.001469                 32                                    81               2020  COMPLETE\n",
            "84       84  1.002147 2025-08-26 15:14:15.965547 2025-08-26 15:15:23.105456 0 days 00:01:07.139909             0.005970                   0.024114        0.000012        0.000151                   0.000396                       0.001221                 32                                    61               2021  COMPLETE\n",
            "132     132  1.002158 2025-08-26 16:09:42.368411 2025-08-26 16:10:49.481481 0 days 00:01:07.113070             0.004368                   0.030151        0.000030        0.000151                   0.000330                       0.001711                 32                                    61               2021  COMPLETE\n",
            "197     197  1.002174 2025-08-26 17:28:16.696495 2025-08-26 17:29:40.136939 0 days 00:01:23.440444             0.004710                   0.018508        0.000014        0.000161                   0.000192                       0.001118                 32                                    61               2020  COMPLETE\n",
            "91       91  1.002189 2025-08-26 15:22:16.171249 2025-08-26 15:23:23.315636 0 days 00:01:07.144387             0.005440                   0.018672        0.000015        0.000124                   0.000210                       0.001037                 32                                    61               2021  COMPLETE\n",
            "51       51  1.002190 2025-08-26 14:34:10.299056 2025-08-26 14:35:17.616526 0 days 00:01:07.317470             0.005700                   0.018819        0.000026        0.000114                   0.000210                       0.001276                 32                                    61               2021  COMPLETE\n",
            "3         3  1.002206 2025-08-26 13:40:17.201599 2025-08-26 13:41:39.262673 0 days 00:01:22.061074             0.002483                   0.057622        0.000026        0.000129                   0.000465                       0.008086                 32                                    71               2020  COMPLETE\n",
            "142     142  1.002212 2025-08-26 16:20:32.429220 2025-08-26 16:21:39.660506 0 days 00:01:07.231286             0.002678                   0.018863        0.000028        0.000129                   0.000197                       0.001826                 32                                    61               2021  COMPLETE\n",
            "201     201  1.002213 2025-08-26 17:33:35.072957 2025-08-26 17:34:38.354905 0 days 00:01:03.281948             0.005058                   0.011290        0.000042        0.003317                   0.000177                       0.001838                 16                                    61               2021  COMPLETE\n",
            "106     106  1.002225 2025-08-26 15:39:56.389120 2025-08-26 15:41:18.818081 0 days 00:01:22.428961             0.007324                   0.016644        0.000026        0.000110                   0.000231                       0.001502                 32                                    66               2020  COMPLETE\n",
            "0         0  1.002227 2025-08-26 13:36:36.467727 2025-08-26 13:37:48.960914 0 days 00:01:12.493187             0.002949                   0.068281        0.000025        0.004589                   0.000250                       0.001280                 32                                    71               2021  COMPLETE\n",
            "202     202  1.002231 2025-08-26 17:34:38.373860 2025-08-26 17:35:41.847818 0 days 00:01:03.473958             0.005328                   0.011658        0.000040        0.005103                   0.000186                       0.002186                 16                                    61               2021  COMPLETE\n",
            "131     131  1.002236 2025-08-26 16:08:35.104416 2025-08-26 16:09:42.351547 0 days 00:01:07.247131             0.004841                   0.023375        0.000031        0.000134                   0.000220                       0.001958                 32                                    61               2021  COMPLETE\n",
            "11       11  1.002261 2025-08-26 13:48:38.821088 2025-08-26 13:50:00.687837 0 days 00:01:21.866749             0.006469                   0.086539        0.000040        0.000501                   0.000368                       0.002407                 32                                    61               2020  COMPLETE\n",
            "164     164  1.002264 2025-08-26 16:46:44.144230 2025-08-26 16:47:36.441490 0 days 00:00:52.297260             0.004931                   0.014878        0.000046        0.000152                   0.000233                       0.001310                 32                                    81               2022  COMPLETE\n",
            "129     129  1.002291 2025-08-26 16:06:20.849942 2025-08-26 16:07:28.026525 0 days 00:01:07.176583             0.003887                   0.022532        0.000018        0.000168                   0.000172                       0.001004                 32                                    81               2021  COMPLETE\n",
            "122     122  1.002295 2025-08-26 15:58:30.859884 2025-08-26 15:59:38.022432 0 days 00:01:07.162548             0.005544                   0.023027        0.000028        0.000193                   0.000192                       0.001333                 32                                    61               2021  COMPLETE\n",
            "187     187  1.002307 2025-08-26 17:14:36.515688 2025-08-26 17:16:04.229549 0 days 00:01:27.713861             0.005552                   0.010624        0.000027        0.004222                   0.000183                       0.001158                 32                                    61               2020  COMPLETE\n",
            "29       29  1.002316 2025-08-26 14:06:30.896739 2025-08-26 14:07:22.455376 0 days 00:00:51.558637             0.004002                   0.012914        0.000010        0.000476                   0.000239                       0.001175                 32                                    81               2022  COMPLETE\n",
            "172     172  1.002326 2025-08-26 16:55:06.802528 2025-08-26 16:56:29.732618 0 days 00:01:22.930090             0.005367                   0.014782        0.000040        0.000110                   0.000190                       0.001945                 32                                    61               2020  COMPLETE\n",
            "44       44  1.002349 2025-08-26 14:24:52.155539 2025-08-26 14:26:07.638457 0 days 00:01:15.482918             0.005583                   0.037161        0.000024        0.000159                   0.000163                       0.001957                 16                                    61               2020  COMPLETE\n",
            "86       86  1.002351 2025-08-26 15:16:30.201348 2025-08-26 15:17:17.653435 0 days 00:00:47.452087             0.002570                   0.029080        0.000011        0.000168                   0.000142                       0.001294                 16                                    81               2022  COMPLETE\n",
            "128     128  1.002363 2025-08-26 16:05:13.851980 2025-08-26 16:06:20.830711 0 days 00:01:06.978731             0.005310                   0.024043        0.000013        0.000107                   0.000247                       0.004968                 32                                    61               2021  COMPLETE\n",
            "13       13  1.002390 2025-08-26 13:50:48.243813 2025-08-26 13:51:49.178497 0 days 00:01:00.934684             0.001110                   0.041452        0.000017        0.007919                   0.000149                       0.001813                 16                                    71               2021  COMPLETE\n",
            "33       33  1.002391 2025-08-26 14:10:43.240891 2025-08-26 14:11:50.293464 0 days 00:01:07.052573             0.003038                   0.011961        0.000027        0.000103                   0.000294                       0.001217                 32                                    76               2021  COMPLETE\n",
            "125     125  1.002392 2025-08-26 16:01:52.381476 2025-08-26 16:02:59.610883 0 days 00:01:07.229407             0.005086                   0.027595        0.000014        0.000114                   0.000224                       0.001100                 32                                    61               2021  COMPLETE\n",
            "156     156  1.002404 2025-08-26 16:37:31.309593 2025-08-26 16:38:53.956105 0 days 00:01:22.646512             0.005595                   0.014473        0.000014        0.000176                   0.000303                       0.001352                 32                                    61               2020  COMPLETE\n",
            "191     191  1.002408 2025-08-26 17:19:48.120020 2025-08-26 17:21:15.590063 0 days 00:01:27.470043             0.005129                   0.017171        0.000015        0.000230                   0.000222                       0.001895                 32                                    61               2020  COMPLETE\n",
            "25       25  1.002420 2025-08-26 14:02:33.510638 2025-08-26 14:03:40.355865 0 days 00:01:06.845227             0.005888                   0.024141        0.000023        0.000363                   0.000343                       0.009749                 32                                    76               2021  COMPLETE\n",
            "49       49  1.002460 2025-08-26 14:31:31.642849 2025-08-26 14:32:47.206759 0 days 00:01:15.563910             0.006921                   0.041646        0.000012        0.000182                   0.000182                       0.001875                 16                                    66               2020  COMPLETE\n",
            "186     186  1.002467 2025-08-26 17:13:25.699854 2025-08-26 17:14:36.500914 0 days 00:01:10.801060             0.006570                   0.026958        0.000032        0.001702                   0.000292                       0.001698                 32                                    76               2021  COMPLETE\n",
            "116     116  1.002476 2025-08-26 15:51:53.880893 2025-08-26 15:53:00.895256 0 days 00:01:07.014363             0.004803                   0.010787        0.000022        0.000141                   0.000268                       0.001799                 32                                    61               2021  COMPLETE\n",
            "192     192  1.002483 2025-08-26 17:21:15.606868 2025-08-26 17:22:43.120379 0 days 00:01:27.513511             0.005204                   0.015260        0.000014        0.002995                   0.000219                       0.001983                 32                                    61               2020  COMPLETE\n",
            "194     194  1.002483 2025-08-26 17:24:06.576590 2025-08-26 17:25:29.843034 0 days 00:01:23.266444             0.002598                   0.023219        0.000015        0.000194                   0.000205                       0.001865                 32                                    61               2020  COMPLETE\n",
            "9         9  1.002498 2025-08-26 13:47:03.573992 2025-08-26 13:47:50.987713 0 days 00:00:47.413721             0.005276                   0.015335        0.000019        0.001059                   0.000150                       0.002033                 16                                    81               2022  COMPLETE\n",
            "141     141  1.002523 2025-08-26 16:19:25.334696 2025-08-26 16:20:32.413749 0 days 00:01:07.079053             0.002463                   0.020667        0.000025        0.000101                   0.000188                       0.007036                 32                                    61               2021  COMPLETE\n",
            "30       30  1.002546 2025-08-26 14:07:22.476342 2025-08-26 14:08:28.966129 0 days 00:01:06.489787             0.005002                   0.035560        0.000014        0.000157                   0.000321                       0.003731                 32                                    81               2021  COMPLETE\n",
            "152     152  1.002551 2025-08-26 16:32:00.073931 2025-08-26 16:33:23.189420 0 days 00:01:23.115489             0.005181                   0.015692        0.000030        0.000111                   0.000199                       0.001269                 32                                    71               2020  COMPLETE\n",
            "158     158  1.002565 2025-08-26 16:40:01.202232 2025-08-26 16:41:23.915104 0 days 00:01:22.712872             0.004852                   0.017964        0.000056        0.000131                   0.000189                       0.001144                 32                                    61               2020  COMPLETE\n",
            "199     199  1.002576 2025-08-26 17:31:03.609115 2025-08-26 17:32:11.414157 0 days 00:01:07.805042             0.005381                   0.019620        0.000027        0.000102                   0.000351                       0.001917                 32                                    61               2021  COMPLETE\n",
            "113     113  1.002587 2025-08-26 15:48:32.291721 2025-08-26 15:49:39.455429 0 days 00:01:07.163708             0.005804                   0.012766        0.000036        0.000104                   0.000188                       0.002500                 32                                    61               2021  COMPLETE\n",
            "41       41  1.002593 2025-08-26 14:20:43.537669 2025-08-26 14:22:06.428156 0 days 00:01:22.890487             0.006070                   0.021564        0.000029        0.000130                   0.000216                       0.001355                 32                                    61               2020  COMPLETE\n",
            "160     160  1.002608 2025-08-26 16:42:30.877255 2025-08-26 16:43:38.123185 0 days 00:01:07.245930             0.002863                   0.023477        0.000035        0.000165                   0.000178                       0.001743                 32                                    61               2021  COMPLETE\n",
            "53       53  1.002609 2025-08-26 14:36:40.569261 2025-08-26 14:37:47.852848 0 days 00:01:07.283587             0.005297                   0.015989        0.000027        0.000150                   0.000306                       0.001101                 32                                    61               2021  COMPLETE\n",
            "1         1  1.002628 2025-08-26 13:37:48.979697 2025-08-26 13:38:55.455588 0 days 00:01:06.475891             0.003457                   0.014560        0.000062        0.000288                   0.000472                       0.001325                 32                                    76               2021  COMPLETE\n",
            "118     118  1.002648 2025-08-26 15:54:08.055436 2025-08-26 15:55:09.706178 0 days 00:01:01.650742             0.005281                   0.011584        0.000038        0.003632                   0.000185                       0.001988                 16                                    61               2021  COMPLETE\n",
            "167     167  1.002656 2025-08-26 16:49:15.522811 2025-08-26 16:50:37.435791 0 days 00:01:21.912980             0.005082                   0.016464        0.000014        0.000269                   0.000220                       0.001882                 32                                    61               2020  COMPLETE\n",
            "40       40  1.002670 2025-08-26 14:19:20.770864 2025-08-26 14:20:43.516569 0 days 00:01:22.745705             0.006538                   0.020477        0.000012        0.002585                   0.000194                       0.002164                 32                                    66               2020  COMPLETE\n",
            "111     111  1.002737 2025-08-26 15:46:02.334079 2025-08-26 15:47:24.996703 0 days 00:01:22.662624             0.004737                   0.014972        0.000029        0.000130                   0.000197                       0.002072                 32                                    61               2020  COMPLETE\n",
            "19       19  1.002742 2025-08-26 13:57:08.621076 2025-08-26 13:58:00.265006 0 days 00:00:51.643930             0.004542                   0.014610        0.000040        0.000217                   0.000253                       0.001059                 32                                    76               2022  COMPLETE\n",
            "97       97  1.002752 2025-08-26 15:28:58.008835 2025-08-26 15:30:20.822465 0 days 00:01:22.813630             0.005067                   0.015829        0.000029        0.000156                   0.000197                       0.001246                 32                                    61               2020  COMPLETE\n",
            "137     137  1.002757 2025-08-26 16:15:02.179661 2025-08-26 16:16:09.409643 0 days 00:01:07.229982             0.002346                   0.020182        0.000027        0.000101                   0.000190                       0.001881                 32                                    61               2021  COMPLETE\n",
            "109     109  1.002757 2025-08-26 15:43:48.309469 2025-08-26 15:44:55.271673 0 days 00:01:06.962204             0.004776                   0.012589        0.000030        0.000141                   0.000197                       0.001784                 32                                    61               2021  COMPLETE\n",
            "62       62  1.002795 2025-08-26 14:48:13.430552 2025-08-26 14:49:20.711154 0 days 00:01:07.280602             0.005547                   0.018600        0.000014        0.000120                   0.000204                       0.001059                 32                                    61               2021  COMPLETE\n",
            "6         6  1.002809 2025-08-26 13:43:44.859482 2025-08-26 13:44:36.427347 0 days 00:00:51.567865             0.007508                   0.014715        0.000026        0.000179                   0.000351                       0.004655                 32                                    61               2022  COMPLETE\n",
            "36       36  1.002828 2025-08-26 14:14:04.841454 2025-08-26 14:15:12.265610 0 days 00:01:07.424156             0.005954                   0.017503        0.000028        0.000122                   0.000211                       0.001244                 32                                    61               2021  COMPLETE\n",
            "27       27  1.002859 2025-08-26 14:04:31.904645 2025-08-26 14:05:38.519727 0 days 00:01:06.615082             0.005009                   0.014153        0.000010        0.000199                   0.000324                       0.001623                 32                                    81               2021  COMPLETE\n",
            "124     124  1.002883 2025-08-26 16:00:45.220225 2025-08-26 16:01:52.365177 0 days 00:01:07.144952             0.005015                   0.023875        0.000014        0.000120                   0.000222                       0.001874                 32                                    61               2021  COMPLETE\n",
            "121     121  1.002921 2025-08-26 15:57:23.747705 2025-08-26 15:58:30.845878 0 days 00:01:07.098173             0.004984                   0.023084        0.000028        0.000152                   0.000193                       0.001339                 32                                    61               2021  COMPLETE\n",
            "112     112  1.002922 2025-08-26 15:47:25.013075 2025-08-26 15:48:32.276245 0 days 00:01:07.263170             0.004906                   0.011469        0.000031        0.000108                   0.000188                       0.002355                 32                                    61               2021  COMPLETE\n",
            "82       82  1.002930 2025-08-26 15:12:02.051574 2025-08-26 15:13:08.964243 0 days 00:01:06.912669             0.005485                   0.022716        0.000013        0.000120                   0.000195                       0.001053                 32                                    61               2021  COMPLETE\n",
            "37       37  1.002948 2025-08-26 14:15:12.278707 2025-08-26 14:16:34.992088 0 days 00:01:22.713381             0.007084                   0.021793        0.000028        0.000118                   0.000202                       0.001855                 32                                    61               2020  COMPLETE\n",
            "32       32  1.002949 2025-08-26 14:09:35.869440 2025-08-26 14:10:43.226111 0 days 00:01:07.356671             0.002868                   0.012336        0.000027        0.000102                   0.000292                       0.001217                 32                                    76               2021  COMPLETE\n",
            "43       43  1.002987 2025-08-26 14:23:29.168549 2025-08-26 14:24:52.141527 0 days 00:01:22.972978             0.005508                   0.027092        0.000025        0.000120                   0.000229                       0.001283                 32                                    61               2020  COMPLETE\n",
            "55       55  1.003080 2025-08-26 14:38:55.374015 2025-08-26 14:40:18.372521 0 days 00:01:22.998506             0.008546                   0.022271        0.000014        0.000118                   0.000219                       0.001435                 32                                    61               2020  COMPLETE\n",
            "38       38  1.003094 2025-08-26 14:16:35.011897 2025-08-26 14:17:58.022407 0 days 00:01:23.010510             0.006086                   0.022068        0.000016        0.000121                   0.000195                       0.001341                 32                                    61               2020  COMPLETE\n",
            "2025-08-26 17:36:48,064 - Parameter Importances:\n",
            "2025-08-26 17:36:48,064 - LSTM_learning_rate: 0.20501083634480924\n",
            "2025-08-26 17:36:48,064 - LSTM_dropout: 0.19805767421192028\n",
            "2025-08-26 17:36:48,064 - LSTM_recurrent_dropout: 0.13552143457803809\n",
            "2025-08-26 17:36:48,064 - LSTM_l1: 0.10716308180179218\n",
            "2025-08-26 17:36:48,064 - year_start: 0.10704948492506741\n",
            "2025-08-26 17:36:48,064 - LSTM_l2: 0.08521707767982123\n",
            "2025-08-26 17:36:48,064 - LSTM_units: 0.06388437713318497\n",
            "2025-08-26 17:36:48,064 - LSTM_inter_dropout: 0.058807382790844354\n",
            "2025-08-26 17:36:48,064 - LoadupSamples_time_inc_factor: 0.039288650534522324\n"
          ]
        }
      ],
      "source": [
        "def objective(trial: optuna.Trial) -> float:\n",
        "    q_full = 0.99\n",
        "    opt_params = params_default.copy()\n",
        "    opt_params[\"year_start\"] = trial.suggest_int(\"year_start\", 2020, 2022)\n",
        "    opt_params[\"idxAfterPrediction\"] = 4\n",
        "    opt_params[\"LoadupSamples_time_inc_factor\"] = trial.suggest_int(\"LoadupSamples_time_inc_factor\", 61, 81, step=5)\n",
        "    opt_params[\"timesteps\"] = 75\n",
        "    opt_params[\"LSTM_units\"] = trial.suggest_categorical(\"LSTM_units\", [16, 32])\n",
        "    opt_params[\"LSTM_num_layers\"] = 1\n",
        "    opt_params[\"LSTM_learning_rate\"] = trial.suggest_float(\"LSTM_learning_rate\", 1e-4, 5e-4, log=True)\n",
        "    opt_params[\"LSTM_epochs\"] = 2\n",
        "    opt_params[\"LSTM_l1\"] = trial.suggest_float(\"LSTM_l1\", 1e-5, 1e-4, log=True)\n",
        "    opt_params[\"LSTM_l2\"] = trial.suggest_float(\"LSTM_l2\", 1e-4, 1e-2, log=True)\n",
        "    opt_params[\"LSTM_dropout\"] = trial.suggest_float(\"LSTM_dropout\", 1e-3, 1e-2, log=True)\n",
        "    opt_params[\"LSTM_inter_dropout\"] = trial.suggest_float(\"LSTM_inter_dropout\", 1e-2, 1e-1, log=True)\n",
        "    opt_params[\"LSTM_recurrent_dropout\"] = trial.suggest_float(\"LSTM_recurrent_dropout\", 1e-3, 1e-2, log=True)\n",
        "    opt_params[\"LSTM_conv1d_kernel_size\"] = 3\n",
        "    opt_params[\"LSTM_transformer_before\"] = False\n",
        "    opt_params[\"LSTM_transformer_after\"] = False\n",
        "    opt_params[\"LSTM_tf_nhead\"] = 2\n",
        "    opt_params[\"LSTM_tf_num_layers_before\"] = 0\n",
        "    opt_params[\"LSTM_tf_num_layers_after\"] = 0\n",
        "    opt_params[\"LSTM_tf_dim_feedforward\"] = 8\n",
        "    opt_params[\"LSTM_tf_dropout\"] = 0.1\n",
        "    opt_params[\"is_single_feature\"] = False\n",
        "\n",
        "    ls = LoadupSamples(\n",
        "        train_start_date=datetime.date(year=opt_params[\"year_start\"], month=1, day=1),\n",
        "        test_dates=[eval_date],\n",
        "        treegroup=None,\n",
        "        timegroup=stock_group,\n",
        "        params=opt_params,\n",
        "    )\n",
        "    ls.load_samples(main_path = \"../src/featureAlchemy/bin/\")\n",
        "\n",
        "    ls.split_dataset(\n",
        "        start_date=datetime.date(year=opt_params[\"year_start\"], month=1, day=1),\n",
        "        last_train_date=split_date,\n",
        "        last_test_date=eval_date,\n",
        "    )\n",
        "\n",
        "    Xtrain = ls.train_Xtime\n",
        "    ytrain = ls.train_ytime\n",
        "    Xtest = ls.test_Xtime\n",
        "    ytest = ls.test_ytime\n",
        "\n",
        "    true_res = ls.meta_pl_test\n",
        "\n",
        "    Xtrain = Xtrain[:, -opt_params[\"timesteps\"]:, :]\n",
        "    Xtest = Xtest[:, -opt_params[\"timesteps\"]:, :]\n",
        "\n",
        "    if opt_params[\"is_single_feature\"]:\n",
        "        Xtrain = Xtrain[:, :, [0]]\n",
        "        Xtest = Xtest[:, :, [0]]\n",
        "\n",
        "    mm = MachineModels(opt_params)\n",
        "\n",
        "    starttime0 = datetime.datetime.now()\n",
        "    model_lstm0, res_dict0 = mm.run_LSTM_transformer_torch(Xtrain, ytrain, Xtest, ytest, device=\"cuda\")\n",
        "    #preds_train0 = mm.predict_LSTM_transformer_torch(model_lstm0, Xtrain, batch_size=opt_params[\"LSTM_batch_size\"], device=\"cuda\")\n",
        "    preds_test0 = mm.predict_LSTM_transformer_torch(model_lstm0, Xtest, batch_size=opt_params[\"LSTM_batch_size\"], device=\"cuda\")\n",
        "    endtime0 = datetime.datetime.now()\n",
        "\n",
        "    # final mask\n",
        "    q2 = q_full\n",
        "    mask_pred2_test_above = (preds_test0 >= np.quantile(preds_test0, q2))\n",
        "    mask_pred2_test_below = (preds_test0 <= np.quantile(preds_test0, 1-q2))\n",
        "\n",
        "    true_res_masked_above = true_res.filter(pl.Series(mask_pred2_test_above))\n",
        "    true_res_masked_below = true_res.filter(pl.Series(mask_pred2_test_below))\n",
        "\n",
        "    score = (scipy.stats.gmean(true_res_masked_above['target_ratio'].to_numpy())) ** (1/opt_params[\"idxAfterPrediction\"])\n",
        "\n",
        "    # Log some results\n",
        "    def quant_dis_in_mask(mask: np.ndarray, q: float) -> float:\n",
        "        if not mask.any():\n",
        "            return len(mask)\n",
        "        return np.quantile(np.abs(np.diff(np.where(mask)[0])), q)\n",
        "\n",
        "    fullmask_above = mask_pred2_test_above.copy()\n",
        "    fullmask_below = mask_pred2_test_below.copy()\n",
        "\n",
        "    logger.info(f\"Trial {trial.number} with params: {opt_params}\")\n",
        "    logger.info(f\"  q2: {q2:.4f}\")\n",
        "    logger.info(f\"  Duration0: {endtime0 - starttime0}\")\n",
        "    logger.info(f\"  Val RMSE0 adjusted: {res_dict0['val_rmse']/opt_params['LoadupSamples_time_inc_factor']:.4f}\")\n",
        "    logger.info(f\"  Mean all prediction: {scipy.stats.gmean(true_res['target_ratio'].to_numpy()):.4f}\")\n",
        "    logger.info(f\"  Mean above prediction: {scipy.stats.gmean(true_res_masked_above['target_ratio'].to_numpy()):.4f}\")\n",
        "    logger.info(f\"  Mean below prediction: {scipy.stats.gmean(true_res_masked_below['target_ratio'].to_numpy()):.4f}\")\n",
        "    logger.info(f\"  Quantile 0.99 for distance in mask above: {quant_dis_in_mask(fullmask_above, 0.99)}\")\n",
        "    logger.info(f\"  Quantile 0.99 for distance in mask below: {quant_dis_in_mask(fullmask_below, 0.99)}\")\n",
        "    logger.info(f\"  Ratio for quantile-distance-to-length above: {quant_dis_in_mask(fullmask_above, 0.99) / len(fullmask_above):.4f}\")\n",
        "    logger.info(f\"  Ratio for quantile-distance-to-length below: {quant_dis_in_mask(fullmask_below, 0.99) / len(fullmask_below):.4f}\")\n",
        "    logger.info(f\"  Score: {score:.4f}\")\n",
        "\n",
        "    return score\n",
        "\n",
        "optuna.logging.enable_propagation()\n",
        "sampler = optuna.samplers.TPESampler(n_startup_trials=n_startup_trials)\n",
        "study = optuna.create_study(\n",
        "    study_name = studyname,\n",
        "    storage=\"sqlite:///sandbox_optuna.db\",\n",
        "    direction=\"maximize\",\n",
        "    load_if_exists=True,\n",
        "    sampler=sampler,\n",
        ")\n",
        "study.optimize(objective, timeout=studytime)\n",
        "\n",
        "logger.info(f\"Best parameters: {study.best_params}\")\n",
        "logger.info(f\"Best score: {study.best_value}\")\n",
        "\n",
        "df: pd.DataFrame = study.trials_dataframe()\n",
        "logger.info(\"\\nTrials DataFrame:\")\n",
        "logger.info(df.sort_values(\"value\").to_string())\n",
        "\n",
        "param_importances = optuna.importance.get_param_importances(study)\n",
        "logger.info(\"Parameter Importances:\")\n",
        "for key, value in param_importances.items():\n",
        "    logger.info(f\"{key}: {value}\")"
      ]
    },
    {
      "cell_type": "code",
      "execution_count": 6,
      "id": "bc9856fd",
      "metadata": {},
      "outputs": [],
      "source": [
        "df.to_parquet(f\"sandbox_lstm_optuna_{formatted_str}.parquet\", index=False)"
      ]
    }
  ],
  "metadata": {
    "kernelspec": {
      "display_name": ".venv",
      "language": "python",
      "name": "python3"
    },
    "language_info": {
      "codemirror_mode": {
        "name": "ipython",
        "version": 3
      },
      "file_extension": ".py",
      "mimetype": "text/x-python",
      "name": "python",
      "nbconvert_exporter": "python",
      "pygments_lexer": "ipython3",
      "version": "3.12.10"
    }
  },
  "nbformat": 4,
  "nbformat_minor": 5
}
