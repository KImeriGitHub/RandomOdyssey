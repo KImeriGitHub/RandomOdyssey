{
  "cells": [
    {
      "cell_type": "code",
      "execution_count": 1,
      "id": "0c3b363e",
      "metadata": {},
      "outputs": [
        {
          "name": "stdout",
          "output_type": "stream",
          "text": [
            "2025-08-21 11:36:19,453 - This will print to the notebook's output cell\n"
          ]
        },
        {
          "name": "stderr",
          "output_type": "stream",
          "text": [
            "c:\\Users\\kimer\\Desktop\\RandomOdyssey\\.venv\\Lib\\site-packages\\tqdm\\auto.py:21: TqdmWarning: IProgress not found. Please update jupyter and ipywidgets. See https://ipywidgets.readthedocs.io/en/stable/user_install.html\n",
            "  from .autonotebook import tqdm as notebook_tqdm\n"
          ]
        }
      ],
      "source": [
        "import sys\n",
        "import os\n",
        "\n",
        "# Get the absolute path to the project directory\n",
        "project_dir = os.path.abspath(\"..\")\n",
        "\n",
        "# Append the project directory to sys.path\n",
        "if project_dir not in sys.path:\n",
        "    sys.path.append(project_dir)\n",
        "    \n",
        "from src.predictionModule.LoadupSamples import LoadupSamples\n",
        "from src.predictionModule.MachineModels import MachineModels \n",
        "\n",
        "import numpy as np\n",
        "import datetime\n",
        "import pandas as pd\n",
        "import polars as pl\n",
        "import optuna\n",
        "\n",
        "import logging\n",
        "formatted_date = datetime.datetime.now().strftime(\"%d%b%y_%H%M\").lower()\n",
        "\n",
        "logger = logging.getLogger()\n",
        "logger.setLevel(logging.DEBUG)\n",
        "handler = logging.StreamHandler(sys.stdout)\n",
        "formatter = logging.Formatter(fmt=\"%(asctime)s - %(message)s\")\n",
        "handler.setFormatter(formatter)\n",
        "if not logger.hasHandlers():\n",
        "    logger.addHandler(handler)\n",
        "else:\n",
        "    logger.handlers[:] = [handler]\n",
        "\n",
        "#Output File handler\n",
        "formatted_str = f\"notebook-lstm-optuna-{formatted_date}\"\n",
        "file_handler = logging.FileHandler(f\"{formatted_str}.log\", mode=\"w\")\n",
        "file_handler.setFormatter(formatter)\n",
        "logger.addHandler(file_handler)\n",
        "\n",
        "# Usage\n",
        "logger.info(\"This will print to the notebook's output cell\")"
      ]
    },
    {
      "cell_type": "code",
      "execution_count": 2,
      "metadata": {},
      "outputs": [
        {
          "data": {
            "text/plain": [
              "<torch._C.Generator at 0x1b6341c4d50>"
            ]
          },
          "execution_count": 2,
          "metadata": {},
          "output_type": "execute_result"
        }
      ],
      "source": [
        "import random\n",
        "import numpy as np\n",
        "import torch\n",
        "random.seed(42)\n",
        "np.random.seed(42)\n",
        "torch.manual_seed(42)\n"
      ]
    },
    {
      "cell_type": "code",
      "execution_count": 3,
      "id": "cb954e7d",
      "metadata": {},
      "outputs": [],
      "source": [
        "params_default = {\n",
        "    \"idxAfterPrediction\": 5,\n",
        "    'timesteps': 90,\n",
        "    'target_option': 'last',\n",
        "    \"LoadupSamples_time_scaling_stretch\": True,\n",
        "    \"LoadupSamples_time_inc_factor\": 10,\n",
        "    \n",
        "    \"LSTM_units\": 32,\n",
        "    \"LSTM_num_layers\": 3,\n",
        "    \"LSTM_dropout\": 0.001,\n",
        "    \"LSTM_recurrent_dropout\": 0.001,\n",
        "    \"LSTM_learning_rate\": 0.001,\n",
        "    \"LSTM_optimizer\": \"adam\",\n",
        "    \"LSTM_bidirectional\": True,\n",
        "    \"LSTM_batch_size\": 2**12,\n",
        "    \"LSTM_epochs\": 10,\n",
        "    \"LSTM_l1\": 0.001,\n",
        "    \"LSTM_l2\": 0.001,\n",
        "    \"LSTM_inter_dropout\": 0.001,\n",
        "    \"LSTM_input_gaussian_noise\": 0.001,\n",
        "    \"LSTM_conv1d\": True,\n",
        "    \"LSTM_conv1d_kernel_size\": 3,\n",
        "    \"LSTM_loss\": \"mse\",\n",
        "    \"LSTM_transformer_before\": False,\n",
        "    \"LSTM_transformer_after\": False,\n",
        "    \"LSTM_tf_d_model\": 0,\n",
        "    \"LSTM_tf_nhead\": 4,\n",
        "    \"LSTM_tf_num_layers_before\": 1,\n",
        "    \"LSTM_tf_num_layers_after\": 1,\n",
        "    \"LSTM_tf_dim_feedforward\": 128,\n",
        "    \"LSTM_tf_dropout\": 0.1,\n",
        "    \"LSTM_tf_positional_encoding\": True,\n",
        "    \"LSTM_tf_pool\": \"last\",\n",
        "}\n"
      ]
    },
    {
      "cell_type": "code",
      "execution_count": 4,
      "metadata": {},
      "outputs": [
        {
          "name": "stdout",
          "output_type": "stream",
          "text": [
            "2025-08-21 11:36:19,491 - Adjusted tf_d_model to 4 to be divisible by nhead=4\n"
          ]
        },
        {
          "name": "stderr",
          "output_type": "stream",
          "text": [
            "Epochs:   0%|          | 0/1 [00:00<?, ?it/s]"
          ]
        },
        {
          "name": "stdout",
          "output_type": "stream",
          "text": [
            "2025-08-21 11:36:20,552 - Epoch 1/1 — Train RMSE: 0.2346 — Validation RMSE: 0.2332\n"
          ]
        },
        {
          "name": "stderr",
          "output_type": "stream",
          "text": [
            "Epochs: 100%|██████████| 1/1 [00:00<00:00, 13.95it/s]"
          ]
        },
        {
          "name": "stdout",
          "output_type": "stream",
          "text": [
            "False False (2,)\n",
            "2025-08-21 11:36:20,563 - Adjusted tf_d_model to 4 to be divisible by nhead=4\n"
          ]
        },
        {
          "name": "stderr",
          "output_type": "stream",
          "text": [
            "\n",
            "Epochs:   0%|          | 0/1 [00:00<?, ?it/s]"
          ]
        },
        {
          "name": "stdout",
          "output_type": "stream",
          "text": [
            "2025-08-21 11:36:20,623 - Epoch 1/1 — Train RMSE: 0.2647 — Validation RMSE: 0.2669\n"
          ]
        },
        {
          "name": "stderr",
          "output_type": "stream",
          "text": [
            "Epochs: 100%|██████████| 1/1 [00:00<00:00, 20.70it/s]"
          ]
        },
        {
          "name": "stdout",
          "output_type": "stream",
          "text": [
            "False True (2,)\n",
            "2025-08-21 11:36:20,631 - Adjusted tf_d_model to 4 to be divisible by nhead=4\n"
          ]
        },
        {
          "name": "stderr",
          "output_type": "stream",
          "text": [
            "\n",
            "Epochs:   0%|          | 0/1 [00:00<?, ?it/s]"
          ]
        },
        {
          "name": "stdout",
          "output_type": "stream",
          "text": [
            "2025-08-21 11:36:20,654 - Epoch 1/1 — Train RMSE: 0.4490 — Validation RMSE: 0.4459\n"
          ]
        },
        {
          "name": "stderr",
          "output_type": "stream",
          "text": [
            "Epochs: 100%|██████████| 1/1 [00:00<00:00, 45.44it/s]"
          ]
        },
        {
          "name": "stdout",
          "output_type": "stream",
          "text": [
            "True False (2,)\n",
            "2025-08-21 11:36:20,663 - Adjusted tf_d_model to 4 to be divisible by nhead=4\n"
          ]
        },
        {
          "name": "stderr",
          "output_type": "stream",
          "text": [
            "\n",
            "Epochs:   0%|          | 0/1 [00:00<?, ?it/s]"
          ]
        },
        {
          "name": "stdout",
          "output_type": "stream",
          "text": [
            "2025-08-21 11:36:20,695 - Epoch 1/1 — Train RMSE: 0.3187 — Validation RMSE: 0.2194\n"
          ]
        },
        {
          "name": "stderr",
          "output_type": "stream",
          "text": [
            "Epochs: 100%|██████████| 1/1 [00:00<00:00,  5.17it/s]"
          ]
        },
        {
          "name": "stdout",
          "output_type": "stream",
          "text": [
            "True True (2,)\n"
          ]
        },
        {
          "name": "stderr",
          "output_type": "stream",
          "text": [
            "\n"
          ]
        }
      ],
      "source": [
        "import torch\n",
        "import numpy as np\n",
        "from src.predictionModule.MachineModels import MachineModels\n",
        "X_sm = np.random.rand(2,5,3).astype(np.float32)\n",
        "y_sm = np.random.rand(2).astype(np.float32)\n",
        "for before in [False, True]:\n",
        "    for after in [False, True]:\n",
        "        params = {**params_default, 'timesteps':5, 'LSTM_epochs':1, 'LSTM_units':4, 'LSTM_transformer_before': before, 'LSTM_transformer_after': after}\n",
        "        mm = MachineModels(params)\n",
        "        model,_ = mm.run_LSTM_transformer_torch(X_sm, y_sm, X_sm, y_sm, device='cpu')\n",
        "        preds = mm.predict_LSTM_transformer_torch(model, X_sm, device='cpu')\n",
        "        print(before, after, preds.shape)\n"
      ]
    },
    {
      "cell_type": "code",
      "execution_count": 6,
      "id": "b05214fc",
      "metadata": {},
      "outputs": [],
      "source": [
        "stock_group = \"group_regOHLCV_over5years\"\n",
        "eval_date = datetime.date(year=2025, month=6, day=13)\n",
        "split_date = datetime.date(year=2023, month=12, day=31)\n",
        "\n",
        "studytime = 60*60*1\n",
        "studyname = f\"sandbox_lstm_optuna_{formatted_str}\"\n",
        "n_startup_trials = 15"
      ]
    },
    {
      "cell_type": "code",
      "execution_count": null,
      "id": "ed3912a3",
      "metadata": {},
      "outputs": [
        {
          "name": "stderr",
          "output_type": "stream",
          "text": [
            "[I 2025-08-21 11:39:59,044] Using an existing study with name 'sandbox_lstm_optuna_notebook-lstm-optuna-21aug25_1136' instead of creating a new one.\n"
          ]
        },
        {
          "name": "stdout",
          "output_type": "stream",
          "text": [
            "2025-08-21 11:39:59,044 - Using an existing study with name 'sandbox_lstm_optuna_notebook-lstm-optuna-21aug25_1136' instead of creating a new one.\n",
            "2025-08-21 11:40:03,454 - Non-finite/too-large values in train y time: 36 samples.\n",
            "2025-08-21 11:40:03,454 - Removing 36 samples from training data.\n",
            "2025-08-21 11:40:06,524 - Adjusted tf_d_model to 2 to be divisible by nhead=2\n"
          ]
        },
        {
          "name": "stderr",
          "output_type": "stream",
          "text": [
            "Epochs:   0%|          | 0/2 [00:00<?, ?it/s]"
          ]
        },
        {
          "name": "stdout",
          "output_type": "stream",
          "text": [
            "2025-08-21 11:40:30,072 - Epoch 1/2 — Train RMSE: 0.5423 — Validation RMSE: 0.5350\n"
          ]
        },
        {
          "name": "stderr",
          "output_type": "stream",
          "text": [
            "Epochs:  50%|█████     | 1/2 [00:23<00:23, 23.53s/it]"
          ]
        },
        {
          "name": "stdout",
          "output_type": "stream",
          "text": [
            "2025-08-21 11:40:53,533 - Epoch 2/2 — Train RMSE: 0.5365 — Validation RMSE: 0.5293\n"
          ]
        },
        {
          "name": "stderr",
          "output_type": "stream",
          "text": [
            "Epochs: 100%|██████████| 2/2 [00:46<00:00, 23.50s/it]\n"
          ]
        },
        {
          "name": "stdout",
          "output_type": "stream",
          "text": [
            "2025-08-21 11:41:08,672 - Trial 2 with params: {'idxAfterPrediction': 3, 'timesteps': 45, 'target_option': 'last', 'LoadupSamples_time_scaling_stretch': True, 'LoadupSamples_time_inc_factor': 51, 'LSTM_units': 16, 'LSTM_num_layers': 1, 'LSTM_dropout': 0.07225250852113131, 'LSTM_recurrent_dropout': 0.00030785676539684303, 'LSTM_learning_rate': 1.872421745333295e-05, 'LSTM_optimizer': 'adam', 'LSTM_bidirectional': True, 'LSTM_batch_size': 4096, 'LSTM_epochs': 2, 'LSTM_l1': 2.1384345827652245e-05, 'LSTM_l2': 0.005723198103939538, 'LSTM_inter_dropout': 0.0025540900315483453, 'LSTM_input_gaussian_noise': 0.001, 'LSTM_conv1d': True, 'LSTM_conv1d_kernel_size': 3, 'LSTM_loss': 'mse', 'LSTM_transformer_before': True, 'LSTM_transformer_after': True, 'LSTM_tf_d_model': 0, 'LSTM_tf_nhead': 2, 'LSTM_tf_num_layers_before': 1, 'LSTM_tf_num_layers_after': 1, 'LSTM_tf_dim_feedforward': 378, 'LSTM_tf_dropout': 0.2209326943598554, 'LSTM_tf_positional_encoding': True, 'LSTM_tf_pool': 'last', 'year_start': 2023, 'is_single_feature': True}\n",
            "2025-08-21 11:41:08,672 -   q2: 0.9980\n",
            "2025-08-21 11:41:08,672 -   Duration0: 0:01:02.132272\n",
            "2025-08-21 11:41:08,673 -   Val RMSE0 adjusted: 0.0104\n",
            "2025-08-21 11:41:08,674 -   Mean all prediction: 1.0007\n",
            "2025-08-21 11:41:08,674 -   Mean above prediction: 1.0007\n",
            "2025-08-21 11:41:08,674 -   Mean below prediction: 1.0013\n"
          ]
        },
        {
          "name": "stderr",
          "output_type": "stream",
          "text": [
            "[W 2025-08-21 11:41:08,686] Trial 2 failed with parameters: {'year_start': 2023, 'idxAfterPrediction': 3, 'LoadupSamples_time_inc_factor': 51, 'timesteps': 45, 'LSTM_learning_rate': 1.872421745333295e-05, 'LSTM_l1': 2.1384345827652245e-05, 'LSTM_l2': 0.005723198103939538, 'LSTM_dropout': 0.07225250852113131, 'LSTM_inter_dropout': 0.0025540900315483453, 'LSTM_recurrent_dropout': 0.00030785676539684303, 'LSTM_transformer_before': True, 'LSTM_transformer_after': True, 'LSTM_tf_nhead': 2, 'LSTM_tf_num_layers_before': 1, 'LSTM_tf_num_layers_after': 1, 'LSTM_tf_dim_feedforward': 378, 'LSTM_tf_dropout': 0.2209326943598554, 'is_single_feature': True} because of the following error: AttributeError(\"'DataFrame' object has no attribute 'any'\").\n",
            "Traceback (most recent call last):\n",
            "  File \"c:\\Users\\kimer\\Desktop\\RandomOdyssey\\.venv\\Lib\\site-packages\\optuna\\study\\_optimize.py\", line 197, in _run_trial\n",
            "    value_or_values = func(trial)\n",
            "                      ^^^^^^^^^^^\n",
            "  File \"C:\\Users\\kimer\\AppData\\Local\\Temp\\ipykernel_19264\\990003425.py\", line 90, in objective\n",
            "    logger.info(f\"  Quantile 0.99 for distance in mask above: {quant_dis_in_mask(fullmask_above, 0.99)}\")\n",
            "                                                               ^^^^^^^^^^^^^^^^^^^^^^^^^^^^^^^^^^^^^^^\n",
            "  File \"C:\\Users\\kimer\\AppData\\Local\\Temp\\ipykernel_19264\\990003425.py\", line 76, in quant_dis_in_mask\n",
            "    if not mask.any():\n",
            "           ^^^^^^^^\n",
            "AttributeError: 'DataFrame' object has no attribute 'any'\n"
          ]
        },
        {
          "name": "stdout",
          "output_type": "stream",
          "text": [
            "2025-08-21 11:41:08,686 - Trial 2 failed with parameters: {'year_start': 2023, 'idxAfterPrediction': 3, 'LoadupSamples_time_inc_factor': 51, 'timesteps': 45, 'LSTM_learning_rate': 1.872421745333295e-05, 'LSTM_l1': 2.1384345827652245e-05, 'LSTM_l2': 0.005723198103939538, 'LSTM_dropout': 0.07225250852113131, 'LSTM_inter_dropout': 0.0025540900315483453, 'LSTM_recurrent_dropout': 0.00030785676539684303, 'LSTM_transformer_before': True, 'LSTM_transformer_after': True, 'LSTM_tf_nhead': 2, 'LSTM_tf_num_layers_before': 1, 'LSTM_tf_num_layers_after': 1, 'LSTM_tf_dim_feedforward': 378, 'LSTM_tf_dropout': 0.2209326943598554, 'is_single_feature': True} because of the following error: AttributeError(\"'DataFrame' object has no attribute 'any'\").\n",
            "Traceback (most recent call last):\n",
            "  File \"c:\\Users\\kimer\\Desktop\\RandomOdyssey\\.venv\\Lib\\site-packages\\optuna\\study\\_optimize.py\", line 197, in _run_trial\n",
            "    value_or_values = func(trial)\n",
            "                      ^^^^^^^^^^^\n",
            "  File \"C:\\Users\\kimer\\AppData\\Local\\Temp\\ipykernel_19264\\990003425.py\", line 90, in objective\n",
            "    logger.info(f\"  Quantile 0.99 for distance in mask above: {quant_dis_in_mask(fullmask_above, 0.99)}\")\n",
            "                                                               ^^^^^^^^^^^^^^^^^^^^^^^^^^^^^^^^^^^^^^^\n",
            "  File \"C:\\Users\\kimer\\AppData\\Local\\Temp\\ipykernel_19264\\990003425.py\", line 76, in quant_dis_in_mask\n",
            "    if not mask.any():\n",
            "           ^^^^^^^^\n",
            "AttributeError: 'DataFrame' object has no attribute 'any'\n"
          ]
        },
        {
          "name": "stderr",
          "output_type": "stream",
          "text": [
            "[W 2025-08-21 11:41:08,688] Trial 2 failed with value None.\n"
          ]
        },
        {
          "name": "stdout",
          "output_type": "stream",
          "text": [
            "2025-08-21 11:41:08,688 - Trial 2 failed with value None.\n"
          ]
        },
        {
          "ename": "AttributeError",
          "evalue": "'DataFrame' object has no attribute 'any'",
          "output_type": "error",
          "traceback": [
            "\u001b[31m---------------------------------------------------------------------------\u001b[39m",
            "\u001b[31mAttributeError\u001b[39m                            Traceback (most recent call last)",
            "\u001b[36mCell\u001b[39m\u001b[36m \u001b[39m\u001b[32mIn[9]\u001b[39m\u001b[32m, line 107\u001b[39m\n\u001b[32m     99\u001b[39m sampler = optuna.samplers.TPESampler(n_startup_trials=n_startup_trials)\n\u001b[32m    100\u001b[39m study = optuna.create_study(\n\u001b[32m    101\u001b[39m     study_name = studyname,\n\u001b[32m    102\u001b[39m     storage=\u001b[33m\"\u001b[39m\u001b[33msqlite:///sandbox_optuna.db\u001b[39m\u001b[33m\"\u001b[39m,\n\u001b[32m   (...)\u001b[39m\u001b[32m    105\u001b[39m     sampler=sampler,\n\u001b[32m    106\u001b[39m )\n\u001b[32m--> \u001b[39m\u001b[32m107\u001b[39m \u001b[43mstudy\u001b[49m\u001b[43m.\u001b[49m\u001b[43moptimize\u001b[49m\u001b[43m(\u001b[49m\u001b[43mobjective\u001b[49m\u001b[43m,\u001b[49m\u001b[43m \u001b[49m\u001b[43mtimeout\u001b[49m\u001b[43m=\u001b[49m\u001b[43mstudytime\u001b[49m\u001b[43m)\u001b[49m\n\u001b[32m    109\u001b[39m logger.info(\u001b[33mf\u001b[39m\u001b[33m\"\u001b[39m\u001b[33mBest parameters: \u001b[39m\u001b[38;5;132;01m{\u001b[39;00mstudy.best_params\u001b[38;5;132;01m}\u001b[39;00m\u001b[33m\"\u001b[39m)\n\u001b[32m    110\u001b[39m logger.info(\u001b[33mf\u001b[39m\u001b[33m\"\u001b[39m\u001b[33mBest score: \u001b[39m\u001b[38;5;132;01m{\u001b[39;00mstudy.best_value\u001b[38;5;132;01m}\u001b[39;00m\u001b[33m\"\u001b[39m)\n",
            "\u001b[36mFile \u001b[39m\u001b[32mc:\\Users\\kimer\\Desktop\\RandomOdyssey\\.venv\\Lib\\site-packages\\optuna\\study\\study.py:475\u001b[39m, in \u001b[36mStudy.optimize\u001b[39m\u001b[34m(self, func, n_trials, timeout, n_jobs, catch, callbacks, gc_after_trial, show_progress_bar)\u001b[39m\n\u001b[32m    373\u001b[39m \u001b[38;5;28;01mdef\u001b[39;00m\u001b[38;5;250m \u001b[39m\u001b[34moptimize\u001b[39m(\n\u001b[32m    374\u001b[39m     \u001b[38;5;28mself\u001b[39m,\n\u001b[32m    375\u001b[39m     func: ObjectiveFuncType,\n\u001b[32m   (...)\u001b[39m\u001b[32m    382\u001b[39m     show_progress_bar: \u001b[38;5;28mbool\u001b[39m = \u001b[38;5;28;01mFalse\u001b[39;00m,\n\u001b[32m    383\u001b[39m ) -> \u001b[38;5;28;01mNone\u001b[39;00m:\n\u001b[32m    384\u001b[39m \u001b[38;5;250m    \u001b[39m\u001b[33;03m\"\"\"Optimize an objective function.\u001b[39;00m\n\u001b[32m    385\u001b[39m \n\u001b[32m    386\u001b[39m \u001b[33;03m    Optimization is done by choosing a suitable set of hyperparameter values from a given\u001b[39;00m\n\u001b[32m   (...)\u001b[39m\u001b[32m    473\u001b[39m \u001b[33;03m            If nested invocation of this method occurs.\u001b[39;00m\n\u001b[32m    474\u001b[39m \u001b[33;03m    \"\"\"\u001b[39;00m\n\u001b[32m--> \u001b[39m\u001b[32m475\u001b[39m     \u001b[43m_optimize\u001b[49m\u001b[43m(\u001b[49m\n\u001b[32m    476\u001b[39m \u001b[43m        \u001b[49m\u001b[43mstudy\u001b[49m\u001b[43m=\u001b[49m\u001b[38;5;28;43mself\u001b[39;49m\u001b[43m,\u001b[49m\n\u001b[32m    477\u001b[39m \u001b[43m        \u001b[49m\u001b[43mfunc\u001b[49m\u001b[43m=\u001b[49m\u001b[43mfunc\u001b[49m\u001b[43m,\u001b[49m\n\u001b[32m    478\u001b[39m \u001b[43m        \u001b[49m\u001b[43mn_trials\u001b[49m\u001b[43m=\u001b[49m\u001b[43mn_trials\u001b[49m\u001b[43m,\u001b[49m\n\u001b[32m    479\u001b[39m \u001b[43m        \u001b[49m\u001b[43mtimeout\u001b[49m\u001b[43m=\u001b[49m\u001b[43mtimeout\u001b[49m\u001b[43m,\u001b[49m\n\u001b[32m    480\u001b[39m \u001b[43m        \u001b[49m\u001b[43mn_jobs\u001b[49m\u001b[43m=\u001b[49m\u001b[43mn_jobs\u001b[49m\u001b[43m,\u001b[49m\n\u001b[32m    481\u001b[39m \u001b[43m        \u001b[49m\u001b[43mcatch\u001b[49m\u001b[43m=\u001b[49m\u001b[38;5;28;43mtuple\u001b[39;49m\u001b[43m(\u001b[49m\u001b[43mcatch\u001b[49m\u001b[43m)\u001b[49m\u001b[43m \u001b[49m\u001b[38;5;28;43;01mif\u001b[39;49;00m\u001b[43m \u001b[49m\u001b[38;5;28;43misinstance\u001b[39;49m\u001b[43m(\u001b[49m\u001b[43mcatch\u001b[49m\u001b[43m,\u001b[49m\u001b[43m \u001b[49m\u001b[43mIterable\u001b[49m\u001b[43m)\u001b[49m\u001b[43m \u001b[49m\u001b[38;5;28;43;01melse\u001b[39;49;00m\u001b[43m \u001b[49m\u001b[43m(\u001b[49m\u001b[43mcatch\u001b[49m\u001b[43m,\u001b[49m\u001b[43m)\u001b[49m\u001b[43m,\u001b[49m\n\u001b[32m    482\u001b[39m \u001b[43m        \u001b[49m\u001b[43mcallbacks\u001b[49m\u001b[43m=\u001b[49m\u001b[43mcallbacks\u001b[49m\u001b[43m,\u001b[49m\n\u001b[32m    483\u001b[39m \u001b[43m        \u001b[49m\u001b[43mgc_after_trial\u001b[49m\u001b[43m=\u001b[49m\u001b[43mgc_after_trial\u001b[49m\u001b[43m,\u001b[49m\n\u001b[32m    484\u001b[39m \u001b[43m        \u001b[49m\u001b[43mshow_progress_bar\u001b[49m\u001b[43m=\u001b[49m\u001b[43mshow_progress_bar\u001b[49m\u001b[43m,\u001b[49m\n\u001b[32m    485\u001b[39m \u001b[43m    \u001b[49m\u001b[43m)\u001b[49m\n",
            "\u001b[36mFile \u001b[39m\u001b[32mc:\\Users\\kimer\\Desktop\\RandomOdyssey\\.venv\\Lib\\site-packages\\optuna\\study\\_optimize.py:63\u001b[39m, in \u001b[36m_optimize\u001b[39m\u001b[34m(study, func, n_trials, timeout, n_jobs, catch, callbacks, gc_after_trial, show_progress_bar)\u001b[39m\n\u001b[32m     61\u001b[39m \u001b[38;5;28;01mtry\u001b[39;00m:\n\u001b[32m     62\u001b[39m     \u001b[38;5;28;01mif\u001b[39;00m n_jobs == \u001b[32m1\u001b[39m:\n\u001b[32m---> \u001b[39m\u001b[32m63\u001b[39m         \u001b[43m_optimize_sequential\u001b[49m\u001b[43m(\u001b[49m\n\u001b[32m     64\u001b[39m \u001b[43m            \u001b[49m\u001b[43mstudy\u001b[49m\u001b[43m,\u001b[49m\n\u001b[32m     65\u001b[39m \u001b[43m            \u001b[49m\u001b[43mfunc\u001b[49m\u001b[43m,\u001b[49m\n\u001b[32m     66\u001b[39m \u001b[43m            \u001b[49m\u001b[43mn_trials\u001b[49m\u001b[43m,\u001b[49m\n\u001b[32m     67\u001b[39m \u001b[43m            \u001b[49m\u001b[43mtimeout\u001b[49m\u001b[43m,\u001b[49m\n\u001b[32m     68\u001b[39m \u001b[43m            \u001b[49m\u001b[43mcatch\u001b[49m\u001b[43m,\u001b[49m\n\u001b[32m     69\u001b[39m \u001b[43m            \u001b[49m\u001b[43mcallbacks\u001b[49m\u001b[43m,\u001b[49m\n\u001b[32m     70\u001b[39m \u001b[43m            \u001b[49m\u001b[43mgc_after_trial\u001b[49m\u001b[43m,\u001b[49m\n\u001b[32m     71\u001b[39m \u001b[43m            \u001b[49m\u001b[43mreseed_sampler_rng\u001b[49m\u001b[43m=\u001b[49m\u001b[38;5;28;43;01mFalse\u001b[39;49;00m\u001b[43m,\u001b[49m\n\u001b[32m     72\u001b[39m \u001b[43m            \u001b[49m\u001b[43mtime_start\u001b[49m\u001b[43m=\u001b[49m\u001b[38;5;28;43;01mNone\u001b[39;49;00m\u001b[43m,\u001b[49m\n\u001b[32m     73\u001b[39m \u001b[43m            \u001b[49m\u001b[43mprogress_bar\u001b[49m\u001b[43m=\u001b[49m\u001b[43mprogress_bar\u001b[49m\u001b[43m,\u001b[49m\n\u001b[32m     74\u001b[39m \u001b[43m        \u001b[49m\u001b[43m)\u001b[49m\n\u001b[32m     75\u001b[39m     \u001b[38;5;28;01melse\u001b[39;00m:\n\u001b[32m     76\u001b[39m         \u001b[38;5;28;01mif\u001b[39;00m n_jobs == -\u001b[32m1\u001b[39m:\n",
            "\u001b[36mFile \u001b[39m\u001b[32mc:\\Users\\kimer\\Desktop\\RandomOdyssey\\.venv\\Lib\\site-packages\\optuna\\study\\_optimize.py:160\u001b[39m, in \u001b[36m_optimize_sequential\u001b[39m\u001b[34m(study, func, n_trials, timeout, catch, callbacks, gc_after_trial, reseed_sampler_rng, time_start, progress_bar)\u001b[39m\n\u001b[32m    157\u001b[39m         \u001b[38;5;28;01mbreak\u001b[39;00m\n\u001b[32m    159\u001b[39m \u001b[38;5;28;01mtry\u001b[39;00m:\n\u001b[32m--> \u001b[39m\u001b[32m160\u001b[39m     frozen_trial = \u001b[43m_run_trial\u001b[49m\u001b[43m(\u001b[49m\u001b[43mstudy\u001b[49m\u001b[43m,\u001b[49m\u001b[43m \u001b[49m\u001b[43mfunc\u001b[49m\u001b[43m,\u001b[49m\u001b[43m \u001b[49m\u001b[43mcatch\u001b[49m\u001b[43m)\u001b[49m\n\u001b[32m    161\u001b[39m \u001b[38;5;28;01mfinally\u001b[39;00m:\n\u001b[32m    162\u001b[39m     \u001b[38;5;66;03m# The following line mitigates memory problems that can be occurred in some\u001b[39;00m\n\u001b[32m    163\u001b[39m     \u001b[38;5;66;03m# environments (e.g., services that use computing containers such as GitHub Actions).\u001b[39;00m\n\u001b[32m    164\u001b[39m     \u001b[38;5;66;03m# Please refer to the following PR for further details:\u001b[39;00m\n\u001b[32m    165\u001b[39m     \u001b[38;5;66;03m# https://github.com/optuna/optuna/pull/325.\u001b[39;00m\n\u001b[32m    166\u001b[39m     \u001b[38;5;28;01mif\u001b[39;00m gc_after_trial:\n",
            "\u001b[36mFile \u001b[39m\u001b[32mc:\\Users\\kimer\\Desktop\\RandomOdyssey\\.venv\\Lib\\site-packages\\optuna\\study\\_optimize.py:248\u001b[39m, in \u001b[36m_run_trial\u001b[39m\u001b[34m(study, func, catch)\u001b[39m\n\u001b[32m    241\u001b[39m         \u001b[38;5;28;01massert\u001b[39;00m \u001b[38;5;28;01mFalse\u001b[39;00m, \u001b[33m\"\u001b[39m\u001b[33mShould not reach.\u001b[39m\u001b[33m\"\u001b[39m\n\u001b[32m    243\u001b[39m \u001b[38;5;28;01mif\u001b[39;00m (\n\u001b[32m    244\u001b[39m     frozen_trial.state == TrialState.FAIL\n\u001b[32m    245\u001b[39m     \u001b[38;5;129;01mand\u001b[39;00m func_err \u001b[38;5;129;01mis\u001b[39;00m \u001b[38;5;129;01mnot\u001b[39;00m \u001b[38;5;28;01mNone\u001b[39;00m\n\u001b[32m    246\u001b[39m     \u001b[38;5;129;01mand\u001b[39;00m \u001b[38;5;129;01mnot\u001b[39;00m \u001b[38;5;28misinstance\u001b[39m(func_err, catch)\n\u001b[32m    247\u001b[39m ):\n\u001b[32m--> \u001b[39m\u001b[32m248\u001b[39m     \u001b[38;5;28;01mraise\u001b[39;00m func_err\n\u001b[32m    249\u001b[39m \u001b[38;5;28;01mreturn\u001b[39;00m frozen_trial\n",
            "\u001b[36mFile \u001b[39m\u001b[32mc:\\Users\\kimer\\Desktop\\RandomOdyssey\\.venv\\Lib\\site-packages\\optuna\\study\\_optimize.py:197\u001b[39m, in \u001b[36m_run_trial\u001b[39m\u001b[34m(study, func, catch)\u001b[39m\n\u001b[32m    195\u001b[39m \u001b[38;5;28;01mwith\u001b[39;00m get_heartbeat_thread(trial._trial_id, study._storage):\n\u001b[32m    196\u001b[39m     \u001b[38;5;28;01mtry\u001b[39;00m:\n\u001b[32m--> \u001b[39m\u001b[32m197\u001b[39m         value_or_values = \u001b[43mfunc\u001b[49m\u001b[43m(\u001b[49m\u001b[43mtrial\u001b[49m\u001b[43m)\u001b[49m\n\u001b[32m    198\u001b[39m     \u001b[38;5;28;01mexcept\u001b[39;00m exceptions.TrialPruned \u001b[38;5;28;01mas\u001b[39;00m e:\n\u001b[32m    199\u001b[39m         \u001b[38;5;66;03m# TODO(mamu): Handle multi-objective cases.\u001b[39;00m\n\u001b[32m    200\u001b[39m         state = TrialState.PRUNED\n",
            "\u001b[36mCell\u001b[39m\u001b[36m \u001b[39m\u001b[32mIn[9]\u001b[39m\u001b[32m, line 90\u001b[39m, in \u001b[36mobjective\u001b[39m\u001b[34m(trial)\u001b[39m\n\u001b[32m     88\u001b[39m logger.info(\u001b[33mf\u001b[39m\u001b[33m\"\u001b[39m\u001b[33m  Mean above prediction: \u001b[39m\u001b[38;5;132;01m{\u001b[39;00mnp.mean(true_res_masked_above[\u001b[33m'\u001b[39m\u001b[33mtarget_ratio\u001b[39m\u001b[33m'\u001b[39m].to_numpy())\u001b[38;5;132;01m:\u001b[39;00m\u001b[33m.4f\u001b[39m\u001b[38;5;132;01m}\u001b[39;00m\u001b[33m\"\u001b[39m)\n\u001b[32m     89\u001b[39m logger.info(\u001b[33mf\u001b[39m\u001b[33m\"\u001b[39m\u001b[33m  Mean below prediction: \u001b[39m\u001b[38;5;132;01m{\u001b[39;00mnp.mean(true_res_masked_below[\u001b[33m'\u001b[39m\u001b[33mtarget_ratio\u001b[39m\u001b[33m'\u001b[39m].to_numpy())\u001b[38;5;132;01m:\u001b[39;00m\u001b[33m.4f\u001b[39m\u001b[38;5;132;01m}\u001b[39;00m\u001b[33m\"\u001b[39m)\n\u001b[32m---> \u001b[39m\u001b[32m90\u001b[39m logger.info(\u001b[33mf\u001b[39m\u001b[33m\"\u001b[39m\u001b[33m  Quantile 0.99 for distance in mask above: \u001b[39m\u001b[38;5;132;01m{\u001b[39;00m\u001b[43mquant_dis_in_mask\u001b[49m\u001b[43m(\u001b[49m\u001b[43mfullmask_above\u001b[49m\u001b[43m,\u001b[49m\u001b[38;5;250;43m \u001b[39;49m\u001b[32;43m0.99\u001b[39;49m\u001b[43m)\u001b[49m\u001b[38;5;132;01m}\u001b[39;00m\u001b[33m\"\u001b[39m)\n\u001b[32m     91\u001b[39m logger.info(\u001b[33mf\u001b[39m\u001b[33m\"\u001b[39m\u001b[33m  Quantile 0.99 for distance in mask below: \u001b[39m\u001b[38;5;132;01m{\u001b[39;00mquant_dis_in_mask(fullmask_below,\u001b[38;5;250m \u001b[39m\u001b[32m0.99\u001b[39m)\u001b[38;5;132;01m}\u001b[39;00m\u001b[33m\"\u001b[39m)\n\u001b[32m     92\u001b[39m logger.info(\u001b[33mf\u001b[39m\u001b[33m\"\u001b[39m\u001b[33m  Ratio for quantile-distance-to-length above: \u001b[39m\u001b[38;5;132;01m{\u001b[39;00mquant_dis_in_mask(fullmask_above,\u001b[38;5;250m \u001b[39m\u001b[32m0.99\u001b[39m)\u001b[38;5;250m \u001b[39m/\u001b[38;5;250m \u001b[39m\u001b[38;5;28mlen\u001b[39m(fullmask_above)\u001b[38;5;132;01m:\u001b[39;00m\u001b[33m.4f\u001b[39m\u001b[38;5;132;01m}\u001b[39;00m\u001b[33m\"\u001b[39m)\n",
            "\u001b[36mCell\u001b[39m\u001b[36m \u001b[39m\u001b[32mIn[9]\u001b[39m\u001b[32m, line 76\u001b[39m, in \u001b[36mobjective.<locals>.quant_dis_in_mask\u001b[39m\u001b[34m(mask, q)\u001b[39m\n\u001b[32m     75\u001b[39m \u001b[38;5;28;01mdef\u001b[39;00m\u001b[38;5;250m \u001b[39m\u001b[34mquant_dis_in_mask\u001b[39m(mask: np.ndarray, q: \u001b[38;5;28mfloat\u001b[39m) -> \u001b[38;5;28mfloat\u001b[39m:\n\u001b[32m---> \u001b[39m\u001b[32m76\u001b[39m     \u001b[38;5;28;01mif\u001b[39;00m \u001b[38;5;129;01mnot\u001b[39;00m \u001b[43mmask\u001b[49m\u001b[43m.\u001b[49m\u001b[43many\u001b[49m():\n\u001b[32m     77\u001b[39m         \u001b[38;5;28;01mreturn\u001b[39;00m \u001b[38;5;28mlen\u001b[39m(mask)\n\u001b[32m     78\u001b[39m     \u001b[38;5;28;01mreturn\u001b[39;00m np.quantile(np.abs(np.diff(np.where(mask)[\u001b[32m0\u001b[39m])), q)\n",
            "\u001b[31mAttributeError\u001b[39m: 'DataFrame' object has no attribute 'any'"
          ]
        }
      ],
      "source": [
        "def objective(trial: optuna.Trial) -> float:\n",
        "    q_full = 0.998\n",
        "    opt_params = params_default.copy()\n",
        "    opt_params[\"year_start\"] = trial.suggest_int(\"year_start\", 2019, 2023)\n",
        "    opt_params[\"idxAfterPrediction\"] = trial.suggest_int(\"idxAfterPrediction\", 1, 5, step=1)\n",
        "    opt_params[\"LoadupSamples_time_inc_factor\"] = trial.suggest_int(\"LoadupSamples_time_inc_factor\", 11, 71, step=5)\n",
        "    opt_params[\"timesteps\"] = trial.suggest_int(\"timesteps\", 30, 90, step=5)\n",
        "    opt_params[\"LSTM_units\"] = 16\n",
        "    opt_params[\"LSTM_num_layers\"] = 1\n",
        "    opt_params[\"LSTM_learning_rate\"] = trial.suggest_float(\"LSTM_learning_rate\", 1e-5, 1e-2, log=True)\n",
        "    opt_params[\"LSTM_epochs\"] = 2\n",
        "    opt_params[\"LSTM_l1\"] = trial.suggest_float(\"LSTM_l1\", 1e-5, 1e-3, log=True)\n",
        "    opt_params[\"LSTM_l2\"] = trial.suggest_float(\"LSTM_l2\", 1e-4, 1e-1, log=True)\n",
        "    opt_params[\"LSTM_dropout\"] = trial.suggest_float(\"LSTM_dropout\", 1e-3, 1e-1, log=True)\n",
        "    opt_params[\"LSTM_inter_dropout\"] = trial.suggest_float(\"LSTM_inter_dropout\", 1e-4, 1e-1, log=True)\n",
        "    opt_params[\"LSTM_recurrent_dropout\"] = trial.suggest_float(\"LSTM_recurrent_dropout\", 1e-4, 1e-1, log=True)\n",
        "    opt_params[\"LSTM_conv1d_kernel_size\"] = 3\n",
        "    opt_params[\"LSTM_transformer_before\"] = trial.suggest_categorical(\"LSTM_transformer_before\", [False, True])\n",
        "    opt_params[\"LSTM_transformer_after\"] = trial.suggest_categorical(\"LSTM_transformer_after\", [False, True])\n",
        "    opt_params[\"LSTM_tf_nhead\"] = trial.suggest_categorical(\"LSTM_tf_nhead\", [2,4,8])\n",
        "    opt_params[\"LSTM_tf_num_layers_before\"] = trial.suggest_int(\"LSTM_tf_num_layers_before\", 0, 2)\n",
        "    opt_params[\"LSTM_tf_num_layers_after\"] = trial.suggest_int(\"LSTM_tf_num_layers_after\", 0, 2)\n",
        "    opt_params[\"LSTM_tf_dim_feedforward\"] = trial.suggest_int(\"LSTM_tf_dim_feedforward\", 64, 512)\n",
        "    opt_params[\"LSTM_tf_dropout\"] = trial.suggest_float(\"LSTM_tf_dropout\", 0.0, 0.3)\n",
        "    opt_params[\"is_single_feature\"] = trial.suggest_categorical(\"is_single_feature\", [True, False])\n",
        "\n",
        "    ls = LoadupSamples(\n",
        "        train_start_date=datetime.date(year=opt_params[\"year_start\"], month=1, day=1),\n",
        "        test_dates=[eval_date],\n",
        "        treegroup=None,\n",
        "        timegroup=stock_group,\n",
        "        params=opt_params,\n",
        "    )\n",
        "    ls.load_samples(main_path = \"../src/featureAlchemy/bin/\")\n",
        "\n",
        "    ls.split_dataset(\n",
        "        start_date=datetime.date(year=opt_params[\"year_start\"], month=1, day=1),\n",
        "        last_train_date=split_date,\n",
        "        last_test_date=eval_date,\n",
        "    )\n",
        "\n",
        "    Xtrain = ls.train_Xtime\n",
        "    ytrain = ls.train_ytime\n",
        "    Xtest = ls.test_Xtime\n",
        "    ytest = ls.test_ytime\n",
        "\n",
        "    true_res = ls.meta_pl_test\n",
        "\n",
        "    Xtrain = Xtrain[:, -opt_params[\"timesteps\"]:, :]\n",
        "    Xtest = Xtest[:, -opt_params[\"timesteps\"]:, :]\n",
        "\n",
        "    if opt_params[\"is_single_feature\"]:\n",
        "        Xtrain = Xtrain[:, :, [0]]\n",
        "        Xtest = Xtest[:, :, [0]]\n",
        "\n",
        "    mm = MachineModels(opt_params)\n",
        "\n",
        "    starttime0 = datetime.datetime.now()\n",
        "    model_lstm0, res_dict0 = mm.run_LSTM_transformer_torch(Xtrain, ytrain, Xtest, ytest, device=\"cuda\")\n",
        "    preds_train0 = mm.predict_LSTM_transformer_torch(model_lstm0, Xtrain, batch_size=opt_params[\"LSTM_batch_size\"], device=\"cuda\")\n",
        "    preds_test0 = mm.predict_LSTM_transformer_torch(model_lstm0, Xtest, batch_size=opt_params[\"LSTM_batch_size\"], device=\"cuda\")\n",
        "    endtime0 = datetime.datetime.now()\n",
        "\n",
        "    # final mask\n",
        "    q2 = q_full\n",
        "    mask_pred2_test_above = (preds_test0 >= np.quantile(preds_test0, q2))\n",
        "    mask_pred2_test_below = (preds_test0 <= np.quantile(preds_test0, 1-q2))\n",
        "\n",
        "    true_res_masked_above = true_res.filter(pl.Series(mask_pred2_test_above))\n",
        "    true_res_masked_below = true_res.filter(pl.Series(mask_pred2_test_below))\n",
        "\n",
        "    score = (np.mean(true_res_masked_above['target_ratio'].to_numpy())) ** (1/opt_params[\"idxAfterPrediction\"])\n",
        "\n",
        "    # Log some results\n",
        "    def quant_dis_in_mask(mask: np.ndarray, q: float) -> float:\n",
        "        if not mask.any():\n",
        "            return len(mask)\n",
        "        return np.quantile(np.abs(np.diff(np.where(mask)[0])), q)\n",
        "\n",
        "    fullmask_above = mask_pred2_test_above.copy()\n",
        "    fullmask_below = mask_pred2_test_below.copy()\n",
        "\n",
        "    logger.info(f\"Trial {trial.number} with params: {opt_params}\")\n",
        "    logger.info(f\"  q2: {q2:.4f}\")\n",
        "    logger.info(f\"  Duration0: {endtime0 - starttime0}\")\n",
        "    logger.info(f\"  Val RMSE0 adjusted: {res_dict0['val_rmse']/opt_params['LoadupSamples_time_inc_factor']:.4f}\")\n",
        "    logger.info(f\"  Mean all prediction: {np.mean(true_res['target_ratio'].to_numpy()):.4f}\")\n",
        "    logger.info(f\"  Mean above prediction: {np.mean(true_res_masked_above['target_ratio'].to_numpy()):.4f}\")\n",
        "    logger.info(f\"  Mean below prediction: {np.mean(true_res_masked_below['target_ratio'].to_numpy()):.4f}\")\n",
        "    logger.info(f\"  Quantile 0.99 for distance in mask above: {quant_dis_in_mask(fullmask_above, 0.99)}\")\n",
        "    logger.info(f\"  Quantile 0.99 for distance in mask below: {quant_dis_in_mask(fullmask_below, 0.99)}\")\n",
        "    logger.info(f\"  Ratio for quantile-distance-to-length above: {quant_dis_in_mask(fullmask_above, 0.99) / len(fullmask_above):.4f}\")\n",
        "    logger.info(f\"  Ratio for quantile-distance-to-length below: {quant_dis_in_mask(fullmask_below, 0.99) / len(fullmask_below):.4f}\")\n",
        "    logger.info(f\"  Score: {score:.4f}\")\n",
        "\n",
        "    return score\n",
        "\n",
        "optuna.logging.enable_propagation()\n",
        "sampler = optuna.samplers.TPESampler(n_startup_trials=n_startup_trials)\n",
        "study = optuna.create_study(\n",
        "    study_name = studyname,\n",
        "    storage=\"sqlite:///sandbox_optuna.db\",\n",
        "    direction=\"maximize\",\n",
        "    load_if_exists=True,\n",
        "    sampler=sampler,\n",
        ")\n",
        "study.optimize(objective, timeout=studytime)\n",
        "\n",
        "logger.info(f\"Best parameters: {study.best_params}\")\n",
        "logger.info(f\"Best score: {study.best_value}\")\n",
        "\n",
        "df: pd.DataFrame = study.trials_dataframe()\n",
        "logger.info(\"\\nTrials DataFrame:\")\n",
        "logger.info(df.sort_values(\"value\").to_string())\n",
        "\n",
        "param_importances = optuna.importance.get_param_importances(study)\n",
        "logger.info(\"Parameter Importances:\")\n",
        "for key, value in param_importances.items():\n",
        "    logger.info(f\"{key}: {value}\")"
      ]
    },
    {
      "cell_type": "code",
      "execution_count": null,
      "id": "bc9856fd",
      "metadata": {},
      "outputs": [],
      "source": [
        "df.to_parquet(f\"sandbox_lstm_optuna_{formatted_str}.parquet\", index=False)"
      ]
    }
  ],
  "metadata": {
    "kernelspec": {
      "display_name": ".venv",
      "language": "python",
      "name": "python3"
    },
    "language_info": {
      "codemirror_mode": {
        "name": "ipython",
        "version": 3
      },
      "file_extension": ".py",
      "mimetype": "text/x-python",
      "name": "python",
      "nbconvert_exporter": "python",
      "pygments_lexer": "ipython3",
      "version": "3.12.10"
    }
  },
  "nbformat": 4,
  "nbformat_minor": 5
}
