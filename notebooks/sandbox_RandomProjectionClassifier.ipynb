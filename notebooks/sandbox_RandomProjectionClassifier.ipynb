{
 "cells": [
  {
   "cell_type": "code",
   "execution_count": 8,
   "metadata": {},
   "outputs": [],
   "source": [
    "import sys\n",
    "import os\n",
    "\n",
    "# Get the absolute path to the project directory\n",
    "project_dir = os.path.abspath(\"..\")\n",
    "\n",
    "# Append the project directory to sys.path\n",
    "if project_dir not in sys.path:\n",
    "    sys.path.append(project_dir)"
   ]
  },
  {
   "cell_type": "code",
   "execution_count": 9,
   "metadata": {},
   "outputs": [],
   "source": [
    "import sys\n",
    "import os\n",
    "\n",
    "# Get the absolute path to the project directory\n",
    "project_dir = os.path.abspath(\"..\")\n",
    "\n",
    "# Append the project directory to sys.path\n",
    "if project_dir not in sys.path:\n",
    "    sys.path.append(project_dir)\n",
    "\n",
    "import yfinance as yf\n",
    "import pandas as pd\n",
    "import datetime as dt\n",
    "import matplotlib.pyplot as plt\n",
    "import msgpack\n",
    "import warnings\n",
    "from dataclasses import asdict, is_dataclass, dataclass\n",
    "import os\n",
    "import msgpack\n",
    "import json\n",
    "import pickle\n",
    "from pandas.api.types import is_datetime64_any_dtype\n",
    "import scipy\n",
    "import numpy as np\n",
    "from scipy.stats import linregress\n",
    "\n",
    "from src.common.AssetData import AssetData\n",
    "from src.common.AssetDataService import AssetDataService\n",
    "from src.common.AssetFileInOut import AssetFileInOut \n",
    "from src.databaseService.OutsourceLoader import OutsourceLoader\n",
    "\n",
    "from src.simulation.SimulatePortfolio import SimulatePortfolio\n",
    "from src.strategy.StratBuyAndHold import StratBuyAndHold\n",
    "from src.simulation.ResultAnalyzer import ResultAnalyzer\n",
    "from src.common.AssetFileInOut import AssetFileInOut\n",
    "from src.mathTools.RandomProjectionClassifier import RandomProjectionClassifier\n"
   ]
  },
  {
   "cell_type": "code",
   "execution_count": 10,
   "metadata": {},
   "outputs": [
    {
     "data": {
      "text/plain": [
       "0.907"
      ]
     },
     "execution_count": 10,
     "metadata": {},
     "output_type": "execute_result"
    }
   ],
   "source": [
    "from sklearn.datasets import fetch_openml\n",
    "from sklearn.model_selection import train_test_split\n",
    "from tensorflow.keras.datasets import mnist\n",
    "\n",
    "# Load MNIST data\n",
    "(X_train, Y_train), (X_test, Y_test) = mnist.load_data()\n",
    "# Select first samples for training\n",
    "toSelectTrain=5000\n",
    "toSelectVal=1000\n",
    "X_train_trunc = X_train[:toSelectTrain].copy()\n",
    "Y_train_trunc = Y_train[:toSelectTrain].copy()\n",
    "\n",
    "X_val_trunc = X_test[:toSelectVal].copy()\n",
    "Y_val_trunc = Y_test[:toSelectVal].copy()\n",
    "\n",
    "# Initialize the classifier\n",
    "classifier = RandomProjectionClassifier(\n",
    "    num_random_features=2000,\n",
    "    regularization=30,\n",
    "    max_iter=10,\n",
    "    verbose=True,\n",
    "    random_state=None\n",
    ")\n",
    "\n",
    "# Fit the model\n",
    "classifier.fit(X_train_trunc, Y_train_trunc)\n",
    "classifier.compute_accuracy(g= 50, Y_test = Y_val_trunc, X_test=X_val_trunc)"
   ]
  },
  {
   "cell_type": "code",
   "execution_count": 11,
   "metadata": {},
   "outputs": [
    {
     "name": "stdout",
     "output_type": "stream",
     "text": [
      "Iteration 1: acc = 0.9988, g = 10.0000, low = 10.0000, high = 5005.0000\n",
      "Iteration 2: acc = 0.9988, g = 10.0000, low = 2507.5000, high = 5005.0000\n",
      "Iteration 3: acc = 0.9988, g = 10.0000, low = 3756.2500, high = 5005.0000\n",
      "Iteration 4: acc = 0.9988, g = 10.0000, low = 4380.6250, high = 5005.0000\n",
      "Iteration 5: acc = 0.9988, g = 10.0000, low = 4692.8125, high = 5005.0000\n",
      "Iteration 6: acc = 0.9988, g = 10.0000, low = 4848.9062, high = 5005.0000\n",
      "Iteration 7: acc = 0.9988, g = 10.0000, low = 4926.9531, high = 5005.0000\n",
      "Iteration 8: acc = 0.9988, g = 10.0000, low = 4965.9766, high = 5005.0000\n",
      "Iteration 9: acc = 0.9988, g = 10.0000, low = 4985.4883, high = 5005.0000\n",
      "Iteration 10: acc = 0.9988, g = 10.0000, low = 4995.2441, high = 5005.0000\n",
      "Best accuracy: 0.9988 with g = 10.0000\n",
      "Test Accuracy: 0.9070\n"
     ]
    }
   ],
   "source": [
    "# Tune the regularization parameter using the validation set\n",
    "classifier.tune_regularization(X_train_trunc, Y_train_trunc, low_start=10, high_start=10000, max_iter=10)\n",
    "\n",
    "# Predict on the test set\n",
    "Y_pred = classifier.predict(X_val_trunc)\n",
    "\n",
    "# Calculate accuracy\n",
    "accuracy = np.mean(Y_pred == Y_val_trunc)\n",
    "print(f\"Test Accuracy: {accuracy:.4f}\")"
   ]
  }
 ],
 "metadata": {
  "kernelspec": {
   "display_name": ".venv",
   "language": "python",
   "name": "python3"
  },
  "language_info": {
   "codemirror_mode": {
    "name": "ipython",
    "version": 3
   },
   "file_extension": ".py",
   "mimetype": "text/x-python",
   "name": "python",
   "nbconvert_exporter": "python",
   "pygments_lexer": "ipython3",
   "version": "3.11.3"
  }
 },
 "nbformat": 4,
 "nbformat_minor": 2
}
