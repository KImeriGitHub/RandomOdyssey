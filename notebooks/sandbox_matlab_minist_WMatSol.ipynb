{
 "cells": [
  {
   "cell_type": "code",
   "execution_count": 1,
   "metadata": {},
   "outputs": [],
   "source": [
    "import sys\n",
    "import os\n",
    "\n",
    "# Get the absolute path to the project directory\n",
    "project_dir = os.path.abspath(\"..\")\n",
    "\n",
    "# Append the project directory to sys.path\n",
    "if project_dir not in sys.path:\n",
    "    sys.path.append(project_dir)"
   ]
  },
  {
   "cell_type": "code",
   "execution_count": 2,
   "metadata": {},
   "outputs": [],
   "source": [
    "import sys\n",
    "import os\n",
    "\n",
    "# Get the absolute path to the project directory\n",
    "project_dir = os.path.abspath(\"..\")\n",
    "\n",
    "# Append the project directory to sys.path\n",
    "if project_dir not in sys.path:\n",
    "    sys.path.append(project_dir)\n",
    "\n",
    "import yfinance as yf\n",
    "import pandas as pd\n",
    "import datetime as dt\n",
    "import matplotlib.pyplot as plt\n",
    "import msgpack\n",
    "import warnings\n",
    "from dataclasses import asdict, is_dataclass, dataclass\n",
    "import os\n",
    "import msgpack\n",
    "import json\n",
    "import pickle\n",
    "from pandas.api.types import is_datetime64_any_dtype\n",
    "import scipy\n",
    "import numpy as np\n",
    "from scipy.stats import linregress\n",
    "\n",
    "from src.common.AssetData import AssetData\n",
    "from src.common.AssetDataService import AssetDataService\n",
    "from src.common.AssetFileInOut import AssetFileInOut \n",
    "from src.databaseService.OutsourceLoader import OutsourceLoader\n",
    "\n",
    "from src.simulation.SimulatePortfolio import SimulatePortfolio\n",
    "from src.strategy.StratBuyAndHold import StratBuyAndHold\n",
    "from src.simulation.ResultAnalyzer import ResultAnalyzer\n",
    "from src.common.AssetFileInOut import AssetFileInOut\n",
    "from src.mathTools.CurveAnalysis import CurveAnalysis\n",
    "from src.predictionModule.FourierML import FourierML\n",
    "from src.common.YamlTickerInOut import YamlTickerInOut\n",
    "from src.common.DataFrameTimeOperations import DataFrameTimeOperationsPandas as DFTO\n"
   ]
  },
  {
   "cell_type": "code",
   "execution_count": 3,
   "metadata": {},
   "outputs": [
    {
     "data": {
      "text/plain": [
       "array([[2., 2.],\n",
       "       [2., 2.]])"
      ]
     },
     "execution_count": 3,
     "metadata": {},
     "output_type": "execute_result"
    }
   ],
   "source": [
    "from scipy.special import ellipk, ellipe\n",
    "from keras.datasets import mnist\n",
    "\n",
    "A = np.array([\n",
    "    [1 + 2j, 3 + 4j],\n",
    "    [5 + 6j, 7 + 8j]\n",
    "])\n",
    "B=np.abs(A)\n",
    "np.minimum(B,2)"
   ]
  },
  {
   "cell_type": "code",
   "execution_count": 4,
   "metadata": {},
   "outputs": [
    {
     "name": "stdout",
     "output_type": "stream",
     "text": [
      "XTrain shape: (5000, 28, 28)\n",
      "YTrain shape: (5000,)\n",
      "XTest shape: (1000, 28, 28)\n",
      "255\n"
     ]
    }
   ],
   "source": [
    "import numpy as np\n",
    "from tensorflow.keras.datasets import mnist\n",
    "from scipy.special import ellipk, ellipe\n",
    "from scipy.linalg import eig\n",
    "from numpy import pi, sin, sqrt, arccos, minimum\n",
    "\n",
    "# Load MNIST data\n",
    "(X_train, Y_train), (X_test, Y_test) = mnist.load_data()\n",
    "\n",
    "# Select first samples for training\n",
    "toSelectTrain=5000\n",
    "toSelectTest=1000\n",
    "X_train_trunc = X_train[:toSelectTrain].copy()\n",
    "Y_train_trunc = Y_train[:toSelectTrain].copy()\n",
    "\n",
    "X_test_trunc = X_test[:toSelectTest].copy()\n",
    "Y_test_trunc = Y_test[:toSelectTest].copy()\n",
    "\n",
    "# Display the shapes\n",
    "print(\"XTrain shape:\", X_train_trunc.shape)  # Expected: (toSelect, 28, 28)\n",
    "print(\"YTrain shape:\", Y_train_trunc.shape)  # Expected: (toSelect,)\n",
    "print(\"XTest shape:\", X_test_trunc.shape)    # Expected: (toSelect, 28, 28)\n",
    "print(np.max(X_train_trunc))\n",
    "# One-hot encode YTrain and YTest\n",
    "num_classes = 10\n",
    "Ytrain = np.zeros((toSelectTrain, num_classes))\n",
    "Ytest = np.zeros((toSelectTest, num_classes))\n",
    "labels = np.arange(10)\n",
    "\n",
    "# Vectorized one-hot encoding\n",
    "Ytrain[np.arange(toSelectTrain), Y_train_trunc] = 1\n",
    "Ytest[np.arange(toSelectTest), Y_test_trunc] = 1\n",
    "\n",
    "# Reshape images to vectors\n",
    "U = (X_train_trunc.reshape((toSelectTrain, 28*28)) / np.max(X_train_trunc)).astype(\"float32\")\n",
    "Utest = (X_test_trunc.reshape((toSelectTest, 28*28)) / np.max(X_test_trunc)).astype(\"float32\")\n",
    "\n",
    "Util = Utest"
   ]
  },
  {
   "cell_type": "code",
   "execution_count": 5,
   "metadata": {},
   "outputs": [
    {
     "name": "stderr",
     "output_type": "stream",
     "text": [
      "C:\\Users\\KILightTouch\\AppData\\Local\\Temp\\ipykernel_16620\\1139694220.py:7: RuntimeWarning: invalid value encountered in matmul\n",
      "  K = XMat.T @ XMat\n"
     ]
    }
   ],
   "source": [
    "NRnd = 2000\n",
    "W = (np.random.randn(NRnd, 28*28)+1j*np.random.randn(NRnd, 28*28))/(sqrt(NRnd))\n",
    "\n",
    "XMat = (np.abs(W @ U.T)).T\n",
    "XtilMat = (np.abs(W @ Util.T)).T\n",
    "\n",
    "K = XMat.T @ XMat\n",
    "rhs = XMat.T @ Ytrain"
   ]
  },
  {
   "cell_type": "code",
   "execution_count": 6,
   "metadata": {},
   "outputs": [
    {
     "name": "stdout",
     "output_type": "stream",
     "text": [
      "[1.21716328 1.2624484  1.27721516 1.30231756 1.30923146]\n"
     ]
    }
   ],
   "source": [
    "eigK = np.linalg.eigvalsh(K)\n",
    "eigK = np.sort(eigK.real)\n",
    "print(eigK[0:5])"
   ]
  },
  {
   "cell_type": "code",
   "execution_count": 7,
   "metadata": {},
   "outputs": [
    {
     "name": "stdout",
     "output_type": "stream",
     "text": [
      "36.01254171055633\n"
     ]
    }
   ],
   "source": [
    "KNorm = np.linalg.norm(K, 1)\n",
    "\n",
    "print(KNorm ** (1/4))"
   ]
  },
  {
   "cell_type": "code",
   "execution_count": 8,
   "metadata": {},
   "outputs": [
    {
     "name": "stdout",
     "output_type": "stream",
     "text": [
      "Accuracy: 0.93\n"
     ]
    }
   ],
   "source": [
    "g = 30\n",
    "Ytil = XtilMat @ np.linalg.solve((K + g*np.eye(NRnd)), rhs)\n",
    "\n",
    "Y_pred = np.argmax(Ytil, axis=1)\n",
    "\n",
    "# Actual class labels\n",
    "Y_true = Y_test_trunc\n",
    "\n",
    "# Calculate accuracy\n",
    "accuracy = np.mean(Y_pred == Y_true)\n",
    "\n",
    "print(\"Accuracy:\", accuracy)"
   ]
  },
  {
   "cell_type": "code",
   "execution_count": 9,
   "metadata": {},
   "outputs": [
    {
     "name": "stdout",
     "output_type": "stream",
     "text": [
      "acc: 0.93   g = 30  low = 15.005  high = 30\n",
      "acc: 0.93   g = 30  low = 15.005  high = 30\n",
      "acc: 0.93   g = 30  low = 15.005  high = 30\n",
      "acc: 0.93   g = 30  low = 15.005  high = 30\n",
      "acc: 0.93   g = 30  low = 15.005  high = 30\n",
      "acc: 0.93   g = 30  low = 15.005  high = 30\n",
      "acc: 0.93   g = 30  low = 15.005  high = 30\n",
      "acc: 0.93   g = 30  low = 15.005  high = 30\n",
      "acc: 0.93   g = 30  low = 15.005  high = 30\n",
      "acc: 0.93   g = 30  low = 15.005  high = 30\n",
      "0.93\n",
      "30\n"
     ]
    }
   ],
   "source": [
    "MaxN=30\n",
    "max_iter = 10 \n",
    "\n",
    "low, high = 0.01, MaxN\n",
    "\n",
    "#low\n",
    "Ytil = XtilMat @ np.linalg.solve(K + low * np.eye(K.shape[0]), rhs)\n",
    "acc_low = np.mean(np.argmax(Ytil, axis=1) == Y_true)\n",
    "acc_low_start=acc_low\n",
    "#high\n",
    "Ytil = XtilMat @ np.linalg.solve(K + high * np.eye(K.shape[0]), rhs)\n",
    "acc_high = np.mean(np.argmax(Ytil, axis=1) == Y_true)\n",
    "acc_high_start=acc_high\n",
    "\n",
    "best_acc = acc_low if acc_low>acc_high else acc_high\n",
    "best_g = low if acc_low>acc_high else high\n",
    "for i in range(max_iter):\n",
    "    g = (low + high) / 2\n",
    "    Ytil = XtilMat @ np.linalg.solve(K + g * np.eye(K.shape[0]), rhs)\n",
    "    acc = np.mean(np.argmax(Ytil, axis=1) == Y_true)\n",
    "    if (acc < acc_low and acc < acc_high) or (acc > acc_low and acc > acc_high):\n",
    "        if acc_low > acc_high:\n",
    "            best_acc, best_g = acc_low, low\n",
    "            high=g\n",
    "            acc_high = acc\n",
    "        elif acc_low < acc_high:\n",
    "            best_acc, best_g = acc_high, high\n",
    "            low=g\n",
    "            acc_low = acc\n",
    "    elif acc > acc_low and acc < acc_high:\n",
    "        best_acc, best_g = acc_high, high\n",
    "        low=g\n",
    "        acc_low = acc\n",
    "    elif acc < acc_low and acc > acc_high:\n",
    "        best_acc, best_g = acc_low, low\n",
    "        high=g\n",
    "        acc_high = acc\n",
    "    \n",
    "    elif acc == acc_low and acc > acc_high:\n",
    "        best_acc, best_g = acc_low, low\n",
    "        high=g\n",
    "        acc_high = acc\n",
    "    elif acc == acc_low and acc < acc_high:\n",
    "        best_acc, best_g = acc_high, high\n",
    "        low=g\n",
    "        acc_low = acc\n",
    "    elif acc == acc_high and acc > acc_low:\n",
    "        best_acc, best_g = acc_high, high\n",
    "        low=g\n",
    "        acc_low = acc\n",
    "    elif acc == acc_high and acc < acc_low:\n",
    "        best_acc, best_g = acc_low, low\n",
    "        high=g\n",
    "        acc_high = acc\n",
    "\n",
    "    elif acc == acc_high and acc == acc_low:\n",
    "        if acc_low_start > acc_high_start:\n",
    "            best_acc, best_g = acc_low, low\n",
    "            high=g\n",
    "            acc_high = acc\n",
    "        if acc_high_start > acc_low_start:\n",
    "            best_acc, best_g = acc_high, high\n",
    "            low=g\n",
    "            acc_low = acc\n",
    "\n",
    "    print(f\"acc: {best_acc}   g = {best_g}  low = {low}  high = {high}\")\n",
    "\n",
    "print(best_acc)\n",
    "print(best_g)"
   ]
  },
  {
   "cell_type": "code",
   "execution_count": 10,
   "metadata": {},
   "outputs": [
    {
     "name": "stdout",
     "output_type": "stream",
     "text": [
      "acc: 0.93   g = 23.505  low = 23.505  high = 47\n",
      "acc: 0.93   g = 23.505  low = 23.505  high = 35.2525\n",
      "acc: 0.93   g = 23.505  low = 29.378749999999997  high = 35.2525\n",
      "acc: 0.93   g = 23.505  low = 32.315625  high = 35.2525\n",
      "acc: 0.93   g = 23.505  low = 33.7840625  high = 35.2525\n",
      "acc: 0.93   g = 23.505  low = 34.51828125  high = 35.2525\n",
      "acc: 0.93   g = 23.505  low = 34.885390625  high = 35.2525\n",
      "acc: 0.93   g = 23.505  low = 35.0689453125  high = 35.2525\n",
      "acc: 0.93   g = 23.505  low = 35.16072265625  high = 35.2525\n",
      "acc: 0.93   g = 23.505  low = 35.206611328125  high = 35.2525\n",
      "acc: 0.93   g = 23.505  low = 35.2295556640625  high = 35.2525\n",
      "acc: 0.93   g = 23.505  low = 35.24102783203125  high = 35.2525\n",
      "acc: 0.93   g = 23.505  low = 35.246763916015624  high = 35.2525\n",
      "acc: 0.93   g = 23.505  low = 35.24963195800781  high = 35.2525\n",
      "acc: 0.93   g = 23.505  low = 35.251065979003904  high = 35.2525\n",
      "0.93\n",
      "23.505\n"
     ]
    }
   ],
   "source": [
    "MaxN = 47\n",
    "max_iter = 15\n",
    "low, high = 0.01, MaxN\n",
    "\n",
    "def compute_acc(g):\n",
    "    Ytil = XtilMat @ np.linalg.solve(K + g * np.eye(K.shape[0]), rhs)\n",
    "    return np.mean(np.argmax(Ytil, axis=1) == Y_true)\n",
    "\n",
    "acc_low = compute_acc(low)\n",
    "acc_high = compute_acc(high)\n",
    "best_acc, best_g = (acc_low, low) if acc_low > acc_high else (acc_high, high)\n",
    "\n",
    "for i in range(max_iter):\n",
    "    g = (low + high) / 2\n",
    "    acc = compute_acc(g)\n",
    "    if acc > best_acc:\n",
    "        best_acc, best_g = acc, g\n",
    "\n",
    "    if (acc > acc_low) != (acc > acc_high):\n",
    "        # If acc is greater than one bound but not the other\n",
    "        if acc > acc_low:\n",
    "            low, acc_low = g, acc\n",
    "        else:\n",
    "            high, acc_high = g, acc\n",
    "    else:\n",
    "        if acc_low > acc_high:\n",
    "            high, acc_high = g, acc\n",
    "        else:\n",
    "            low, acc_low = g, acc\n",
    "\n",
    "    print(f\"acc: {best_acc}   g = {best_g}  low = {low}  high = {high}\")\n",
    "\n",
    "print(best_acc)\n",
    "print(best_g)\n"
   ]
  }
 ],
 "metadata": {
  "kernelspec": {
   "display_name": ".venv",
   "language": "python",
   "name": "python3"
  },
  "language_info": {
   "codemirror_mode": {
    "name": "ipython",
    "version": 3
   },
   "file_extension": ".py",
   "mimetype": "text/x-python",
   "name": "python",
   "nbconvert_exporter": "python",
   "pygments_lexer": "ipython3",
   "version": "3.11.3"
  }
 },
 "nbformat": 4,
 "nbformat_minor": 2
}
