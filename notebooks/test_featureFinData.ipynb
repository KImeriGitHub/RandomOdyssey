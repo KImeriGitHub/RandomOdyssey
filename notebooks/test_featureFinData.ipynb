{
 "cells": [
  {
   "cell_type": "code",
   "execution_count": 8,
   "metadata": {},
   "outputs": [],
   "source": [
    "import sys\n",
    "import os\n",
    "\n",
    "# Get the absolute path to the project directory\n",
    "project_dir = os.path.abspath(\"..\")\n",
    "\n",
    "# Append the project directory to sys.path\n",
    "if project_dir not in sys.path:\n",
    "    sys.path.append(project_dir)"
   ]
  },
  {
   "cell_type": "code",
   "execution_count": 9,
   "metadata": {},
   "outputs": [],
   "source": [
    "import sys\n",
    "import os\n",
    "\n",
    "# Get the absolute path to the project directory\n",
    "project_dir = os.path.abspath(\"..\")\n",
    "\n",
    "# Append the project directory to sys.path\n",
    "if project_dir not in sys.path:\n",
    "    sys.path.append(project_dir)\n",
    "\n",
    "import yfinance as yf\n",
    "import pandas as pd\n",
    "import datetime as dt\n",
    "import matplotlib.pyplot as plt\n",
    "import warnings\n",
    "from dataclasses import asdict, is_dataclass, dataclass\n",
    "import os\n",
    "import json\n",
    "import pickle\n",
    "from pandas.api.types import is_datetime64_any_dtype\n",
    "import numpy as np\n",
    "from typing import Dict\n",
    "import polars as pl\n",
    "\n",
    "from src.common.AssetData import AssetData\n",
    "from src.common.AssetDataPolars import AssetDataPolars\n",
    "from src.common.AssetDataService import AssetDataService\n",
    "from src.common.AssetFileInOut import AssetFileInOut \n",
    "from src.featureAlchemy.FeatureFinancialData import FeatureFinancialData\n",
    "from src.featureAlchemy.FeatureFinancialDataTS import FeatureFinancialDataTS\n"
   ]
  },
  {
   "cell_type": "code",
   "execution_count": 10,
   "metadata": {},
   "outputs": [],
   "source": [
    "assets=AssetFileInOut(\"../src/stockGroups/bin\").loadDictFromFile(\"group_debug\")\n",
    "\n",
    "# Convert to Polars for speedup\n",
    "assetspl: Dict[str, AssetDataPolars] = {}\n",
    "for ticker, asset in assets.items():\n",
    "    assetspl[ticker] = AssetDataService.to_polars(asset)\n",
    "    \n",
    "ticker = \"AAPL\"\n",
    "asset = assetspl[ticker]\n",
    "\n",
    "fin_quar = asset.financials_quarterly\n",
    "fin_ann = asset.financials_annually\n",
    "asset_about = asset.about"
   ]
  },
  {
   "cell_type": "code",
   "execution_count": 11,
   "metadata": {},
   "outputs": [
    {
     "name": "stdout",
     "output_type": "stream",
     "text": [
      "['fiscalDateEnding', 'reportedDate', 'reportedEPS', 'estimatedEPS', 'surprise', 'surprisePercentage', 'reportTime', 'grossProfit', 'totalRevenue', 'ebit', 'ebitda', 'totalAssets', 'totalCurrentLiabilities', 'totalShareholderEquity', 'commonStockSharesOutstanding', 'operatingCashflow']\n",
      "['Date', 'Open', 'High', 'Low', 'Close', 'AdjClose', 'Volume', 'Dividends', 'Splits']\n"
     ]
    }
   ],
   "source": [
    "print(fin_quar.columns)\n",
    "params = {\n",
    "    \"timesteps\": 50,\n",
    "    'lagList': [1,2,3,5,9,21,63,121,210],\n",
    "}\n",
    "ffd = FeatureFinancialData(asset, params=params)\n",
    "print(asset.shareprice.columns)\n",
    "asShare = ffd.shareprice\n",
    "finquar = asset.financials_quarterly\n",
    "finQuarJoin = ffd.fin_quar_join"
   ]
  },
  {
   "cell_type": "code",
   "execution_count": 12,
   "metadata": {},
   "outputs": [],
   "source": [
    "workdays = pd.date_range(start=dt.date(2020, 1, 1), end=dt.date(2020, 12, 31), freq='B')\n",
    "dates = [date.date() for date in workdays]\n",
    "featureNames = ffd.getFeatureNames()\n",
    "features = ffd.apply(dates)"
   ]
  },
  {
   "cell_type": "code",
   "execution_count": 13,
   "metadata": {},
   "outputs": [
    {
     "name": "stdout",
     "output_type": "stream",
     "text": [
      "EBIT/Revenue: 0.31029058610094484\n",
      "EBITDA/Revenue: 0.33819566060885703\n"
     ]
    }
   ],
   "source": [
    "rev = asset.financials_quarterly['totalRevenue'].last()\n",
    "ebit = asset.financials_quarterly['ebit'].last()\n",
    "ebitda = asset.financials_quarterly['ebitda'].last()\n",
    "\n",
    "ebit_nivrev = ebit / rev\n",
    "ebitda_nivrev = ebitda / rev\n",
    "\n",
    "print(f\"EBIT/Revenue: {ebit_nivrev}\\n\"\n",
    "      f\"EBITDA/Revenue: {ebitda_nivrev}\")"
   ]
  },
  {
   "cell_type": "code",
   "execution_count": 14,
   "metadata": {},
   "outputs": [],
   "source": [
    "ffdts = FeatureFinancialDataTS(asset, params=params)\n",
    "featureNamesTS = ffdts.getFeatureNames()\n",
    "featuresTS = ffdts.apply(dates)\n",
    "featureTS_zero = featuresTS[0]"
   ]
  }
 ],
 "metadata": {
  "kernelspec": {
   "display_name": ".venv (3.11.3)",
   "language": "python",
   "name": "python3"
  },
  "language_info": {
   "codemirror_mode": {
    "name": "ipython",
    "version": 3
   },
   "file_extension": ".py",
   "mimetype": "text/x-python",
   "name": "python",
   "nbconvert_exporter": "python",
   "pygments_lexer": "ipython3",
   "version": "3.11.3"
  }
 },
 "nbformat": 4,
 "nbformat_minor": 2
}
