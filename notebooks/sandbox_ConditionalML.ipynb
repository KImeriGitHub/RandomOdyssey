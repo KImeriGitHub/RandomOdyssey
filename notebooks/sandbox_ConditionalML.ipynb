{
 "cells": [
  {
   "cell_type": "code",
   "execution_count": 3,
   "metadata": {},
   "outputs": [],
   "source": [
    "import sys\n",
    "import os\n",
    "\n",
    "# Get the absolute path to the project directory\n",
    "project_dir = os.path.abspath(\"..\")\n",
    "\n",
    "# Append the project directory to sys.path\n",
    "if project_dir not in sys.path:\n",
    "    sys.path.append(project_dir)"
   ]
  },
  {
   "cell_type": "code",
   "execution_count": 4,
   "metadata": {},
   "outputs": [
    {
     "name": "stderr",
     "output_type": "stream",
     "text": [
      "c:\\Users\\kimer\\Desktop\\RandomOdyssey\\.venv\\Lib\\site-packages\\tqdm\\auto.py:21: TqdmWarning: IProgress not found. Please update jupyter and ipywidgets. See https://ipywidgets.readthedocs.io/en/stable/user_install.html\n",
      "  from .autonotebook import tqdm as notebook_tqdm\n"
     ]
    }
   ],
   "source": [
    "import pandas as pd\n",
    "import matplotlib.pyplot as plt\n",
    "from dataclasses import asdict, is_dataclass, dataclass\n",
    "from pandas.api.types import is_datetime64_any_dtype\n",
    "import scipy\n",
    "import numpy as np\n",
    "import polars as pl\n",
    "from typing import Dict, List\n",
    "import tensorflow as tf\n",
    "from tensorflow.keras import layers, models\n",
    "from tensorflow.keras.utils import to_categorical\n",
    "import matplotlib.pyplot as plt\n",
    "import seaborn as sns\n",
    "import numpy as np\n",
    "from sklearn.metrics import accuracy_score, log_loss\n",
    "import bisect\n",
    "\n",
    "from src.common.AssetData import AssetData\n",
    "from src.common.AssetDataPolars import AssetDataPolars\n",
    "from src.common.AssetDataService import AssetDataService\n",
    "from src.common.AssetFileInOut import AssetFileInOut \n",
    "from src.databaseService.OutsourceLoader import OutsourceLoader\n",
    "\n",
    "from src.simulation.SimulatePortfolio import SimulatePortfolio\n",
    "from src.strategy.StratBuyAndHold import StratBuyAndHold\n",
    "from src.simulation.ResultAnalyzer import ResultAnalyzer\n",
    "from src.common.AssetFileInOut import AssetFileInOut\n",
    "from src.predictionModule.ConditionalML import ConditionalML\n",
    "from src.common.DataFrameTimeOperations import DataFrameTimeOperationsPandas as DFTO\n",
    "from src.predictionModule.CollectionModels import CollectionModels\n",
    "from src.common.AssetFileInOut import AssetFileInOut\n",
    "\n",
    "from src.common.AssetDataPolars import AssetDataPolars\n",
    "from src.common.AssetDataService import AssetDataService\n",
    "from src.predictionModule.ModelAnalyzer import ModelAnalyzer\n",
    "\n",
    "from src.featureAlchemy.FeatureMain import FeatureMain\n",
    "from src.common.DataFrameTimeOperations import DataFrameTimeOperationsPolars as DPl\n"
   ]
  },
  {
   "cell_type": "code",
   "execution_count": 5,
   "metadata": {},
   "outputs": [],
   "source": [
    "assets=AssetFileInOut(\"../src/stockGroups/bin\").loadDictFromFile(\"group_debug\")\n",
    "\n",
    "# Convert to Polars for speedup\n",
    "assetspl: Dict[str, AssetDataPolars] = {}\n",
    "for ticker, asset in assets.items():\n",
    "    assetspl[ticker]= AssetDataService.to_polars(asset)"
   ]
  },
  {
   "cell_type": "code",
   "execution_count": 6,
   "metadata": {},
   "outputs": [],
   "source": [
    "conditionalML = ConditionalML(assetspl)"
   ]
  },
  {
   "cell_type": "code",
   "execution_count": 7,
   "metadata": {},
   "outputs": [
    {
     "name": "stdout",
     "output_type": "stream",
     "text": [
      "Data and metadata loaded from ../src/predictionModule/bin\\CondtionalML_debug_onSubset.pkl\n",
      "Model loaded from ../src/predictionModule/bin\\CondtionalML_debug_onSubset_lgbmModel.pkl\n",
      "{'Condtional_params': {'idxLengthOneMonth': 21, 'fouriercutoff': 5, 'multFactor': 6, 'daysAfterPrediction': 21, 'monthsHorizon': 6, 'timesteps': 5, 'classificationInterval': [0, 0.05], 'averageOverDays': 5, 'optuna_trials': 20, 'LGBM_max_depth': 50}, 'LGBMModel_params': {'verbosity': -1, 'n_jobs': -1, 'metric': 'multi_logloss', 'boosting_type': 'gbdt', 'early_stopping_rounds': 10, 'n_estimators': 100, 'lambda_l1': 0.01401000733332533, 'lambda_l2': 0.2177783655314511, 'feature_fraction': 0.057712869650885866, 'num_leaves': 1236, 'max_depth': 50, 'learning_rate': 0.0169939525159139}, 'LGBMModel_accuracy_val': 0.44155844155844154, 'LGBMModel_log_loss_val': 1.0124456977314533, 'LGBMModel_accuracy_test': 0.45054945054945056, 'LGBMModel_log_loss_test': 0.9853458747577701}\n"
     ]
    }
   ],
   "source": [
    "loadup_name = \"CondtionalML_debug_onSubset\"\n",
    "conditionalML.load_data('../src/predictionModule/bin', loadup_name)\n",
    "\n",
    "conditionalML.loadLGBMModel('../src/predictionModule/bin', loadup_name+\"_lgbmModel\")\n",
    "\n",
    "print(conditionalML.metadata)"
   ]
  },
  {
   "cell_type": "code",
   "execution_count": 10,
   "metadata": {},
   "outputs": [
    {
     "data": {
      "text/plain": [
       "117"
      ]
     },
     "execution_count": 10,
     "metadata": {},
     "output_type": "execute_result"
    }
   ],
   "source": [
    "X_train = pd.DataFrame(conditionalML.X_train, columns=conditionalML.featureColumnNames)\n",
    "\n",
    "X_train.shape\n",
    "\n",
    "conditionalML.featureColumnNames.index(\"Fourier_ReturnLog_RSME\")"
   ]
  }
 ],
 "metadata": {
  "kernelspec": {
   "display_name": ".venv",
   "language": "python",
   "name": "python3"
  },
  "language_info": {
   "codemirror_mode": {
    "name": "ipython",
    "version": 3
   },
   "file_extension": ".py",
   "mimetype": "text/x-python",
   "name": "python",
   "nbconvert_exporter": "python",
   "pygments_lexer": "ipython3",
   "version": "3.12.8"
  }
 },
 "nbformat": 4,
 "nbformat_minor": 2
}
