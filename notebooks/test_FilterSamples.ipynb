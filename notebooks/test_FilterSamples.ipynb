{
  "cells": [
    {
      "cell_type": "code",
      "execution_count": null,
      "metadata": {},
      "outputs": [],
      "source": [
        "import sys, os\n",
        "project_dir = os.path.abspath('..')\n",
        "if project_dir not in sys.path:\n",
        "    sys.path.append(project_dir)\n",
        "\n",
        "import numpy as np\n",
        "import polars as pl\n",
        "import torch\n",
        "import datetime\n",
        "from src.predictionModule.FilterSamples import FilterSamples\n",
        "\n",
        "np.random.seed(0)\n",
        "torch.manual_seed(0)\n"
      ]
    },
    {
      "cell_type": "code",
      "execution_count": null,
      "metadata": {},
      "outputs": [],
      "source": [
        "# Synthetic fixture: small deterministic dataset\n",
        "n_train, n_test, n_feat = 120, 20, 8\n",
        "Xtree_train = np.random.randn(n_train, n_feat)\n",
        "ytree_train = np.random.rand(n_train) + 1.0  # positive for geometric mean\n",
        "Xtree_test = np.random.randn(n_test, n_feat)\n",
        "ytree_test = np.random.rand(n_test) + 1.0\n",
        "\n",
        "# Feature names include blacklist keywords\n",
        "treenames = [\n",
        "    'Alpha',\n",
        "    'Beta_Category',\n",
        "    'GammaSeasonal',\n",
        "    'Delta_lag',\n",
        "    'Epsilon',\n",
        "    'ZetaCategory',\n",
        "    'EtaSeasonal',\n",
        "    'Theta'\n",
        "]\n",
        "\n",
        "start_train = datetime.date(2021, 1, 1)\n",
        "start_test = datetime.date(2021, 5, 1)\n",
        "samples_dates_train = pl.Series(\n",
        "    name='dates_train',\n",
        "    values=[start_train + datetime.timedelta(days=i) for i in range(n_train)],\n",
        "    dtype=pl.Date\n",
        ")\n",
        "samples_dates_test = pl.Series(\n",
        "    name='dates_test',\n",
        "    values=[start_test + datetime.timedelta(days=i) for i in range(n_test)],\n",
        "    dtype=pl.Date\n",
        ")\n",
        "\n",
        "params = dict(\n",
        "    FilterSamples_lincomb_epochs=5,\n",
        "    FilterSamples_lincomb_show_progress=False,\n",
        "    FilterSamples_lincomb_featureratio=0.5,\n",
        "    FilterSamples_lincomb_itermax=2,\n",
        "    FilterSamples_lincomb_init_toprand=1\n",
        ")\n",
        "\n",
        "fs = FilterSamples(\n",
        "    Xtree_train=Xtree_train,\n",
        "    ytree_train=ytree_train,\n",
        "    treenames=treenames,\n",
        "    Xtree_test=Xtree_test,\n",
        "    samples_dates_train=samples_dates_train,\n",
        "    samples_dates_test=samples_dates_test,\n",
        "    ytree_test=ytree_test,\n",
        "    params=params\n",
        ")\n",
        "\n",
        "fs_notest = FilterSamples(\n",
        "    Xtree_train=Xtree_train,\n",
        "    ytree_train=ytree_train,\n",
        "    treenames=treenames,\n",
        "    Xtree_test=Xtree_test,\n",
        "    samples_dates_train=samples_dates_train,\n",
        "    samples_dates_test=samples_dates_test,\n",
        "    ytree_test=None,\n",
        "    params=params\n",
        ")\n"
      ]
    },
    {
      "cell_type": "code",
      "execution_count": null,
      "metadata": {},
      "outputs": [],
      "source": [
        "mask_feat = fs.separate_treefeatures()\n",
        "assert mask_feat.dtype == bool  # mask uses boolean dtype\n",
        "expected_mask = [True, False, False, False, True, False, False, True]\n",
        "assert mask_feat.tolist() == expected_mask  # filter Category/Seasonal/lag names\n"
      ]
    },
    {
      "cell_type": "code",
      "execution_count": null,
      "metadata": {},
      "outputs": [],
      "source": [
        "mask = np.zeros(n_train, dtype=bool)\n",
        "mask[:3] = True\n",
        "res = fs.evaluate_mask(mask, samples_dates_train, ytree_train)\n",
        "expected = np.mean(ytree_train[:3])  # geometric mean per-date (single sample per date)\n",
        "assert np.isclose(res, expected)  # geometric mean over dates\n",
        "\n",
        "mask_none = np.zeros(n_train, dtype=bool)\n",
        "assert np.isnan(fs.evaluate_mask(mask_none, samples_dates_train, ytree_train))  # all False -> nan\n",
        "assert fs.evaluate_mask(np.array([], dtype=bool), pl.Series(name='d', values=[], dtype=pl.Date), np.array([])) == 1.0  # no date coverage -> 1.0\n"
      ]
    },
    {
      "cell_type": "code",
      "execution_count": null,
      "metadata": {},
      "outputs": [],
      "source": [
        "params_recent = dict(FilterSamples_days_to_train_end=10)\n",
        "fs_recent = FilterSamples(\n",
        "    Xtree_train=Xtree_train,\n",
        "    ytree_train=ytree_train,\n",
        "    treenames=treenames,\n",
        "    Xtree_test=Xtree_test,\n",
        "    samples_dates_train=samples_dates_train,\n",
        "    samples_dates_test=samples_dates_test,\n",
        "    ytree_test=ytree_test,\n",
        "    params=params_recent\n",
        ")\n",
        "recent_mask = fs_recent.get_recent_training_mask(samples_dates_train)\n",
        "assert recent_mask.dtype == bool  # recent mask is boolean\n",
        "assert recent_mask.sum() == 11  # includes last day and previous 10 days\n",
        "assert recent_mask[-1] and recent_mask[-11]  # last day and first included day are True\n",
        "assert not recent_mask[-12]  # day before range is False\n"
      ]
    },
    {
      "cell_type": "code",
      "execution_count": null,
      "metadata": {},
      "outputs": [],
      "source": [
        "train_mask, test_mask, _, score_test = fs.lincomb_masks()\n",
        "assert train_mask.dtype == bool  # train mask boolean\n",
        "assert train_mask.shape[0] == Xtree_train.shape[0]  # mask matches training length\n",
        "assert test_mask.dtype == bool and test_mask.shape[0] == Xtree_test.shape[0]  # test mask size when doTest=True\n",
        "\n",
        "train_mask_nt, test_mask_nt, _, score_test_nt = fs_notest.lincomb_masks()\n",
        "assert test_mask_nt is None  # test mask None when doTest=False\n"
      ]
    },
    {
      "cell_type": "code",
      "execution_count": null,
      "metadata": {},
      "outputs": [],
      "source": [
        "train_t, test_t = fs.taylor_feature_masks()\n",
        "assert train_t.dtype == bool  # train mask boolean\n",
        "assert test_t.dtype == bool  # test mask boolean when doTest=True\n",
        "\n",
        "train_t2, test_t2 = fs_notest.taylor_feature_masks()\n",
        "assert test_t2 is None  # test mask None when doTest=False\n"
      ]
    }
  ],
  "metadata": {
    "kernelspec": {
      "display_name": "Python 3",
      "language": "python",
      "name": "python3"
    },
    "language_info": {
      "name": "python",
      "version": "3.11"
    }
  },
  "nbformat": 4,
  "nbformat_minor": 5
}