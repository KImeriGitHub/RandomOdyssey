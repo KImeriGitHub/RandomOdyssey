{
  "cells": [
    {
      "cell_type": "code",
      "execution_count": 1,
      "metadata": {},
      "outputs": [
        {
          "name": "stdout",
          "output_type": "stream",
          "text": [
            "This will print to the notebook's output cell\n"
          ]
        }
      ],
      "source": [
        "import sys, os\n",
        "project_dir = os.path.abspath('..')\n",
        "if project_dir not in sys.path:\n",
        "    sys.path.append(project_dir)\n",
        "\n",
        "import datetime\n",
        "from src.predictionModule.FilterSamples import FilterSamples\n",
        "from src.predictionModule.LoadupSamples import LoadupSamples\n",
        "\n",
        "import logging\n",
        "logger = logging.getLogger()\n",
        "logger.setLevel(logging.DEBUG)\n",
        "handler = logging.StreamHandler(sys.stdout)\n",
        "formatter = logging.Formatter(fmt=\"%(message)s\")\n",
        "handler.setFormatter(formatter)\n",
        "if not logger.hasHandlers():\n",
        "    logger.addHandler(handler)\n",
        "else:\n",
        "    logger.handlers[:] = [handler]\n",
        "# Usage\n",
        "logger.info(\"This will print to the notebook's output cell\")\n"
      ]
    },
    {
      "cell_type": "code",
      "execution_count": 2,
      "id": "11f75723",
      "metadata": {},
      "outputs": [],
      "source": [
        "params = {\n",
        "    \"daysAfterPrediction\": None,\n",
        "    \"idxAfterPrediction\": 5,\n",
        "    'timesteps': 60,\n",
        "    'target_option': 'mean',\n",
        "    \n",
        "    \"LoadupSamples_tree_scaling_standard\": True,\n",
        "    \"LoadupSamples_time_scaling_stretch\": True,\n",
        "    \"LoadupSamples_time_inc_factor\": 10,\n",
        "\n",
        "    \"FilterSamples_q_up\": 0.50,\n",
        "\n",
        "    \"FilterSamples_lincomb_epochs\": 5,\n",
        "    \"FilterSamples_lincomb_show_progress\": False,\n",
        "    \"FilterSamples_lincomb_featureratio\": 0.5,\n",
        "    \"FilterSamples_lincomb_itermax\": 2,\n",
        "    \"FilterSamples_lincomb_init_toprand\":  1,\n",
        "\n",
        "    \"FilterSamples_days_to_train_end\": 10,\n",
        "    \"FilterSamples_cat_over20\": True,\n",
        "    \"FilterSamples_cat_posOneYearReturn\": False,\n",
        "    \"FilterSamples_cat_posFiveYearReturn\": False,\n",
        "    \"FilterSamples_taylor_horizon_days\": 20,\n",
        "    \"FilterSamples_taylor_roll_window_days\": 20\n",
        "}"
      ]
    },
    {
      "cell_type": "code",
      "execution_count": 3,
      "id": "e826e206",
      "metadata": {},
      "outputs": [
        {
          "name": "stdout",
          "output_type": "stream",
          "text": [
            "Test date 2025-06-08 not found in the database. Omitting.\n"
          ]
        }
      ],
      "source": [
        "timegroup = \"group_regOHLCV_over5years\"\n",
        "treegroup = \"group_debug\"\n",
        "\n",
        "eval_date = datetime.date(year=2025, month=6, day=13)\n",
        "evaldates = [eval_date - datetime.timedelta(days=i) for i in range(1, 6)]\n",
        "start_train_date = datetime.date(year=2023, month=1, day=1)\n",
        "split_Date = datetime.date(year=2025, month=1, day=1)\n",
        "ls = LoadupSamples(\n",
        "    train_start_date=start_train_date,\n",
        "    test_dates=evaldates,\n",
        "    treegroup=treegroup,\n",
        "    timegroup=timegroup,\n",
        "    params=params,\n",
        ")\n",
        "ls.load_samples(main_path = \"../src/featureAlchemy/bin/\")\n",
        "ls.split_dataset(\n",
        "    start_date=start_train_date,\n",
        "    last_train_date=split_Date,\n",
        "    last_test_date=eval_date\n",
        ")"
      ]
    },
    {
      "cell_type": "code",
      "execution_count": 4,
      "id": "c6846732",
      "metadata": {},
      "outputs": [],
      "source": [
        "train_Xtree = ls.train_Xtree\n",
        "train_ytree = ls.train_ytree\n",
        "train_Xtime = ls.train_Xtime\n",
        "train_ytime = ls.train_ytime\n",
        "\n",
        "test_Xtree = ls.test_Xtree\n",
        "test_ytree = ls.test_ytree\n",
        "test_Xtime = ls.test_Xtime\n",
        "test_ytime = ls.test_ytime\n",
        "\n",
        "treenames = ls.featureTreeNames\n",
        "timenames = ls.featureTimeNames\n",
        "\n",
        "meta_pl_train = ls.meta_pl_train\n",
        "meta_pl_test = ls.meta_pl_test"
      ]
    },
    {
      "cell_type": "code",
      "execution_count": 5,
      "metadata": {},
      "outputs": [],
      "source": [
        "fs = FilterSamples(\n",
        "    Xtree_train=train_Xtree,\n",
        "    ytree_train=train_ytree,\n",
        "    treenames=treenames,\n",
        "    Xtree_test=test_Xtree,\n",
        "    ytree_test=test_ytree,\n",
        "    meta_train=meta_pl_train,\n",
        "    meta_test=meta_pl_test,\n",
        "    params=params\n",
        ")"
      ]
    },
    {
      "cell_type": "code",
      "execution_count": 6,
      "id": "59f41568",
      "metadata": {},
      "outputs": [],
      "source": [
        "cat_mask_train, cat_mask_test = fs.categorical_masks()"
      ]
    },
    {
      "cell_type": "code",
      "execution_count": null,
      "id": "19bcd52c",
      "metadata": {},
      "outputs": [],
      "source": [
        "lincomb_mask_train, lincomb_mask_test = fs.lincomb_masks()\n",
        "print(lincomb_mask_train.sum()/len(lincomb_mask_train))\n",
        "print(lincomb_mask_test.sum()/len(lincomb_mask_test))"
      ]
    },
    {
      "cell_type": "code",
      "execution_count": null,
      "id": "cf841b42",
      "metadata": {},
      "outputs": [],
      "source": [
        "taylor_mask_train, taylor_mask_test = fs.taylor_feature_masks()\n",
        "print(taylor_mask_train.sum()/len(taylor_mask_train))\n",
        "print(taylor_mask_test.sum()/len(taylor_mask_test))"
      ]
    }
  ],
  "metadata": {
    "kernelspec": {
      "display_name": ".venv (3.11.3)",
      "language": "python",
      "name": "python3"
    },
    "language_info": {
      "codemirror_mode": {
        "name": "ipython",
        "version": 3
      },
      "file_extension": ".py",
      "mimetype": "text/x-python",
      "name": "python",
      "nbconvert_exporter": "python",
      "pygments_lexer": "ipython3",
      "version": "3.11.3"
    }
  },
  "nbformat": 4,
  "nbformat_minor": 5
}
