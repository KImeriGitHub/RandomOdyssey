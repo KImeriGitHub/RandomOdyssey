{
 "cells": [
  {
   "cell_type": "code",
   "execution_count": 1,
   "metadata": {},
   "outputs": [],
   "source": [
    "import sys\n",
    "import os\n",
    "\n",
    "# Get the absolute path to the project directory\n",
    "project_dir = os.path.abspath(\"..\")\n",
    "\n",
    "# Append the project directory to sys.path\n",
    "if project_dir not in sys.path:\n",
    "    sys.path.append(project_dir)"
   ]
  },
  {
   "cell_type": "code",
   "execution_count": 2,
   "metadata": {},
   "outputs": [],
   "source": [
    "import yfinance as yf\n",
    "import pandas as pd\n",
    "import polars as pl\n",
    "from typing import Dict\n",
    "from dataclasses import asdict, is_dataclass, dataclass\n",
    "import scipy\n",
    "import numpy as np\n",
    "from scipy.stats import linregress\n",
    "\n",
    "from src.common.AssetData import AssetData\n",
    "from src.common.AssetDataService import AssetDataService\n",
    "from src.common.AssetFileInOut import AssetFileInOut \n",
    "from src.databaseService.OutsourceLoader import OutsourceLoader\n",
    "from src.common.AssetFileInOut import AssetFileInOut\n",
    "from src.common.AssetDataPolars import AssetDataPolars\n"
   ]
  },
  {
   "cell_type": "code",
   "execution_count": 9,
   "metadata": {},
   "outputs": [
    {
     "name": "stdout",
     "output_type": "stream",
     "text": [
      "c:\\Users\\kimer\\Desktop\\RandomOdyssey\\notebooks\n"
     ]
    }
   ],
   "source": [
    "import os\n",
    "print(os.getcwd())"
   ]
  },
  {
   "cell_type": "code",
   "execution_count": null,
   "metadata": {},
   "outputs": [
    {
     "name": "stdout",
     "output_type": "stream",
     "text": [
      "API Key: your_api_key_here\n",
      "your_api_key_here\n"
     ]
    }
   ],
   "source": [
    "#load api key\n",
    "import yaml\n",
    "import os\n",
    "\n",
    "# Define paths\n",
    "current_dir = os.getcwd()\n",
    "parent_dir = os.path.abspath(os.path.join(current_dir, \"..\"))\n",
    "desired_folder = \"secrets\"\n",
    "absolute_path_to_folder = os.path.join(parent_dir, desired_folder)\n",
    "\n",
    "# Path to the YAML file\n",
    "yaml_file_path = os.path.join(absolute_path_to_folder, \"alphaVantage.yaml\")\n",
    "\n",
    "# Read and load the YAML file\n",
    "try:\n",
    "    with open(yaml_file_path, 'r') as file:  # Open the YAML file for reading\n",
    "        config = yaml.safe_load(file)  # Load the YAML content\n",
    "        apiKey = config['alphaVantage_acc']['apiKey']  # Access the required key\n",
    "except PermissionError:\n",
    "    print(\"Permission denied. Please check file permissions.\")\n",
    "except FileNotFoundError:\n",
    "    print(\"File not found. Please verify the path.\")\n",
    "except KeyError:\n",
    "    print(\"KeyError: Check the structure of the YAML file.\")\n",
    "except yaml.YAMLError as e:\n",
    "    print(\"YAML Error:\", e)\n",
    "print(apiKey)"
   ]
  },
  {
   "cell_type": "code",
   "execution_count": null,
   "metadata": {},
   "outputs": [],
   "source": []
  }
 ],
 "metadata": {
  "kernelspec": {
   "display_name": ".venv",
   "language": "python",
   "name": "python3"
  },
  "language_info": {
   "codemirror_mode": {
    "name": "ipython",
    "version": 3
   },
   "file_extension": ".py",
   "mimetype": "text/x-python",
   "name": "python",
   "nbconvert_exporter": "python",
   "pygments_lexer": "ipython3",
   "version": "3.12.8"
  }
 },
 "nbformat": 4,
 "nbformat_minor": 2
}
