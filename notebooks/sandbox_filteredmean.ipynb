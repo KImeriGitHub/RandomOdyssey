{
 "cells": [
  {
   "cell_type": "code",
   "execution_count": 1,
   "id": "0c3b363e",
   "metadata": {},
   "outputs": [],
   "source": [
    "import sys\n",
    "import os\n",
    "import tensorflow as tf\n",
    "from tensorflow.keras.models import Sequential\n",
    "from tensorflow.keras.layers import Input, GaussianNoise, LSTM, Bidirectional, Dropout, Dense, Conv1D\n",
    "from tensorflow.keras import regularizers, backend as K\n",
    "from tensorflow.keras.optimizers import Adam, RMSprop\n",
    "from tensorflow.keras.losses import MeanSquaredError\n",
    "from tensorflow.keras.callbacks import EarlyStopping, ReduceLROnPlateau, Callback\n",
    "from tensorflow.keras.metrics import RootMeanSquaredError, R2Score\n",
    "\n",
    "# Get the absolute path to the project directory\n",
    "project_dir = os.path.abspath(\"..\")\n",
    "\n",
    "# Append the project directory to sys.path\n",
    "if project_dir not in sys.path:\n",
    "    sys.path.append(project_dir)\n",
    "    \n",
    "from src.predictionModule.TreeTimeML_save import TreeTimeML\n",
    "\n",
    "import pandas as pd\n",
    "import numpy as np\n",
    "import polars as pl\n",
    "import datetime\n",
    "import seaborn as sns\n",
    "import lightgbm as lgb\n",
    "import random\n",
    "import matplotlib.pyplot as plt\n",
    "import logging\n",
    "import time\n",
    "import re"
   ]
  },
  {
   "cell_type": "code",
   "execution_count": 2,
   "id": "cb954e7d",
   "metadata": {},
   "outputs": [],
   "source": [
    "params = {\n",
    "    \"daysAfterPrediction\": 5,\n",
    "    'timesteps': 25,\n",
    "    'target_option': 'last',\n",
    "    \"TreeTime_isFiltered\": True,\n",
    "    \"TreeTime_volatility_atr_qup\": 0.90,\n",
    "    \"TreeTime_top_highest\": 10,\n",
    "    \n",
    "    \"TreeTime_lstm_units\": 64,\n",
    "    \"TreeTime_lstm_num_layers\": 3,\n",
    "    \"TreeTime_lstm_dropout\": 0.00001,\n",
    "    \"TreeTime_lstm_recurrent_dropout\": 0.00001,\n",
    "    \"TreeTime_lstm_learning_rate\": 0.001,\n",
    "    \"TreeTime_lstm_optimizer\": \"adam\",\n",
    "    \"TreeTime_lstm_bidirectional\": True,\n",
    "    \"TreeTime_lstm_batch_size\": 2**14,\n",
    "    \"TreeTime_lstm_epochs\": 4,\n",
    "    \"TreeTime_lstm_l1\": 0.00001,\n",
    "    \"TreeTime_lstm_l2\": 0.00001,\n",
    "    \"TreeTime_inter_dropout\": 0.00001,\n",
    "    \"TreeTime_input_gaussian_noise\": 0.00001,\n",
    "    \"TreeTime_lstm_conv1d\": True,\n",
    "    \"TreeTime_lstm_conv1d_kernel_size\": 3,\n",
    "    \"TreeTime_lstm_loss\": \"mse\",\n",
    "}"
   ]
  },
  {
   "cell_type": "code",
   "execution_count": 3,
   "id": "8c306cf3",
   "metadata": {},
   "outputs": [],
   "source": [
    "stock_group = \"group_snp500_finanTo2011\"\n",
    "\n",
    "start_train_date = datetime.date(year=2014, month=1, day=1)\n",
    "\n",
    "eval_dates = [\n",
    "    datetime.date(2015,  3, 15),\n",
    "    datetime.date(2016,  6, 10),\n",
    "    datetime.date(2017,  9,  5),\n",
    "    datetime.date(2018, 12, 20),\n",
    "    datetime.date(2019,  2, 13),\n",
    "    datetime.date(2020,  5, 25),\n",
    "    datetime.date(2021,  8, 30),\n",
    "    datetime.date(2022, 11,  7),\n",
    "    datetime.date(2023,  1, 14),\n",
    "    datetime.date(2024,  7,  4),\n",
    "    datetime.date(2025,  2,  1),\n",
    "]\n",
    "\n",
    "treetimeML_instances = [\n",
    "    TreeTimeML(\n",
    "        train_start_date=start_train_date,\n",
    "        test_dates=[eval_date],\n",
    "        group=stock_group,\n",
    "        params=params\n",
    "    )\n",
    "    for eval_date in eval_dates\n",
    "]"
   ]
  },
  {
   "cell_type": "code",
   "execution_count": 4,
   "id": "6a74d5b8",
   "metadata": {},
   "outputs": [
    {
     "name": "stderr",
     "output_type": "stream",
     "text": [
      "Test date 2015-03-15 not found in the database. Resetting to last trading day.\n",
      "Test date 2020-05-25 not found in the database. Resetting to last trading day.\n",
      "Test date 2023-01-14 not found in the database. Resetting to last trading day.\n",
      "Test date 2024-07-04 not found in the database. Resetting to last trading day.\n",
      "Test date 2025-02-01 not found in the database. Resetting to last trading day.\n"
     ]
    }
   ],
   "source": [
    "for tm in treetimeML_instances:\n",
    "    tm.load_and_filter_sets(main_path=\"../src/featureAlchemy/bin/\")"
   ]
  },
  {
   "cell_type": "code",
   "execution_count": 8,
   "id": "21232b3b",
   "metadata": {},
   "outputs": [],
   "source": [
    "# Collect lists of the desired attributes\n",
    "train_Xtree_list = [tm.train_Xtree   for tm in treetimeML_instances]\n",
    "train_ytree_list = [tm.train_ytree   for tm in treetimeML_instances]\n",
    "train_Xtime_list = [tm.train_Xtime   for tm in treetimeML_instances]\n",
    "train_ytime_list = [tm.train_ytime   for tm in treetimeML_instances]\n",
    "\n",
    "test_Xtree_list  = [tm.test_Xtree    for tm in treetimeML_instances]\n",
    "test_ytree_list  = [tm.test_ytree    for tm in treetimeML_instances]\n",
    "test_Xtime_list  = [tm.test_Xtime    for tm in treetimeML_instances]\n",
    "test_ytime_list  = [tm.test_ytime    for tm in treetimeML_instances]\n",
    "\n",
    "treenames_list   = [tm.featureTreeNames for tm in treetimeML_instances]\n",
    "timenames_list   = [tm.featureTimeNames for tm in treetimeML_instances]"
   ]
  },
  {
   "cell_type": "code",
   "execution_count": 9,
   "id": "80dc05d4",
   "metadata": {},
   "outputs": [
    {
     "name": "stdout",
     "output_type": "stream",
     "text": [
      "[10, 11, 12, 13, 14, 15, 16, 17, 18, 19, 20, 21, 22, 23, 24, 25, 26, 27, 28, 29, 220, 221, 222, 223, 224, 225, 226, 227, 228, 229, 230, 231, 232, 233, 234, 235, 236, 237, 238, 239, 240, 241, 242, 243, 244, 245, 246, 247, 248, 249, 250, 251, 412, 413, 414, 415, 416, 417, 418, 419, 420, 421, 422, 423, 424, 425, 426, 427, 428, 429, 430, 431, 432, 433, 434, 435, 436, 437, 438, 439, 440, 441, 442, 443, 604, 605, 606, 607, 608, 609, 610, 611, 612, 613, 614, 615, 616, 617, 618, 619, 620, 621, 622, 623, 624, 625, 626, 627, 628, 629, 630, 631, 632, 633, 634, 635, 796, 797, 798, 799, 800, 801, 802, 803, 804, 805, 806, 807, 808, 809, 810, 811, 812, 813, 814, 815, 816, 817, 818, 819, 820, 821, 822, 823, 824, 825, 826, 827, 988, 989, 990, 991, 992, 993, 994, 995, 996, 997, 998, 999, 1000, 1001, 1002, 1003, 1004, 1005, 1006, 1007, 1008, 1009, 1010, 1011, 1012, 1013, 1014, 1015, 1016, 1017, 1018, 1019, 1180, 1181, 1182, 1183, 1184, 1185, 1186, 1187, 1188, 1189, 1190, 1191, 1192, 1193, 1194, 1195, 1196, 1197, 1198, 1199, 1200, 1201, 1202, 1203, 1204, 1205, 1206, 1207, 1208, 1209, 1210, 1211, 1372, 1373, 1374, 1375, 1376, 1377, 1378, 1379, 1380, 1381, 1382, 1383, 1384, 1385, 1386, 1387, 1388, 1389, 1390, 1391, 1401, 1402, 1403, 1404, 1405, 1406, 1407, 1408, 1409, 1419, 1420, 1421, 1422, 1423, 1424, 1425, 1426, 1427, 1437, 1438, 1439, 1440, 1441, 1442, 1443, 1444, 1445, 1455, 1456, 1457, 1458, 1459, 1460, 1461, 1462, 1463, 1473, 1474, 1475, 1476, 1477, 1478, 1479, 1480, 1481, 1491, 1492, 1493, 1494, 1495, 1496, 1497, 1498, 1499, 1509, 1510, 1511, 1512, 1513, 1514, 1515, 1516, 1517, 1527, 1528, 1529, 1530, 1531, 1532, 1533, 1534, 1535, 1545, 1546, 1547, 1548, 1549, 1550, 1551, 1552, 1553, 1563, 1564, 1565, 1566, 1567, 1568, 1569, 1570, 1571, 1581, 1582, 1583, 1584, 1585, 1586, 1587, 1588, 1589, 1599, 1600, 1601, 1602, 1603, 1604, 1605, 1606, 1607, 1608, 1609, 1610, 1611, 1612, 1613, 1621, 1622, 1623, 1624, 1625, 1626, 1627, 1635, 1636, 1637, 1638, 1639, 1640, 1641, 1649, 1650, 1651, 1654, 1768, 1769, 1770, 1771, 1772, 1773, 1774, 1775, 1776, 1777, 1778, 1779, 1780, 1781, 1782, 1783, 1784, 1785, 1786, 1787, 1788, 1789, 1790, 1791, 1792, 1793, 1794, 1795, 1796, 1797, 1798, 1799, 1800, 1801, 1802, 1803, 1804, 1805, 1806, 1807, 1808, 1809, 1810, 1811, 1812, 1813, 1814, 1815, 1816, 1817, 1818, 1819, 1820, 1821, 1822, 1823, 1824, 1825, 1826, 1827, 1828, 1829, 1830, 1831, 1832, 1833, 1834, 1835, 1836, 1837, 1838, 1839, 1840, 1841, 1842, 1843, 1844, 1845, 1846, 1847, 1848, 1849, 1850, 1851, 1852]\n",
      "449\n"
     ]
    }
   ],
   "source": [
    "sep = [\"Category\", \"Seasonal\", \"lag\", \"FeatureGroup\"]\n",
    "indices = [i for i, s in enumerate(treenames_list[0])\n",
    "           if not any(sub in s for sub in sep)]\n",
    "print(indices)  \n",
    "print(len(indices))"
   ]
  },
  {
   "cell_type": "code",
   "execution_count": 7,
   "id": "70dfa2b2",
   "metadata": {},
   "outputs": [],
   "source": [
    "from typing import Optional\n",
    "import numpy as np\n",
    "import torch\n",
    "from numpy.typing import NDArray\n",
    "#from tqdm import tqdm\n",
    "def optimize_threshold_sigmoid(\n",
    "    A: NDArray[np.float32],\n",
    "    v: NDArray[np.float32],\n",
    "    ao_idx: int,\n",
    "    q: float,\n",
    "    lr: float = 1e-2,\n",
    "    epochs: int = 200,\n",
    "    sharpness: float = 5.0,\n",
    "    probs_noise_std: float = 0.5,\n",
    "    subsample_ratio: float = 0.1,\n",
    "    maximize: bool = True,\n",
    "    upper_quantile: bool = True,\n",
    "    device: Optional[str] = None\n",
    ") -> NDArray[np.float32]:\n",
    "    # Determine device\n",
    "    device = device or (\"cuda\" if torch.cuda.is_available() else \"cpu\")\n",
    "    \n",
    "    extreme_sign = -1.0 if maximize else 1.0\n",
    "    upper_sign = 1.0 if upper_quantile else -1.0\n",
    "\n",
    "    # Convert inputs to torch tensors\n",
    "    A_tensor = torch.tensor(A, dtype=torch.float32, device=device)  # (N, D)\n",
    "    v_tensor = torch.tensor(v, dtype=torch.float32, device=device)  # (N,)\n",
    "\n",
    "    # Initialize a\n",
    "    D = A_tensor.shape[1]\n",
    "    a = torch.nn.Parameter(torch.zeros(D, dtype=torch.float32, device=device) * 0.25)\n",
    "    a.data[ao_idx] = 1.0\n",
    "\n",
    "    # Optimizer\n",
    "    optimizer = torch.optim.Adam([a], lr=lr)\n",
    "\n",
    "    # Training loop\n",
    "    subsample_size = int(A.shape[0] * subsample_ratio)\n",
    "    #pbar = tqdm(range(epochs), desc=\"Epochs\")\n",
    "    #for epoch in pbar:\n",
    "    for epoch in range(epochs):\n",
    "        optimizer.zero_grad()\n",
    "        w = A_tensor.matmul(a)               # (N,)\n",
    "        thresh = torch.quantile(w, q)        # scalar\n",
    "        probs = torch.sigmoid(upper_sign * sharpness * (w - thresh))\n",
    "        # --- regularisation: noise + subsample ---\n",
    "        probs = probs + torch.randn_like(probs) * probs_noise_std\n",
    "        probs = probs.clamp(0,1)\n",
    "        idx = torch.randperm(probs.size(0), device=device)[:subsample_size]\n",
    "        probs_sub, v_sub = probs[idx], v_tensor[idx]\n",
    "        loss = extreme_sign * (probs_sub * v_sub).sum() / (probs_sub.sum() + 1e-8)\n",
    "        loss.backward()\n",
    "        optimizer.step()\n",
    "        \n",
    "        #mean_v = (probs_sub * v_sub).sum() / (probs_sub.sum() + 1e-8)\n",
    "        #pbar.set_postfix(mean_v=f\"{mean_v:.4f}\")\n",
    "        \n",
    "    # Return optimized `a` as numpy array\n",
    "    return a.detach().cpu().numpy()\n"
   ]
  },
  {
   "cell_type": "code",
   "execution_count": 115,
   "id": "379de7f1",
   "metadata": {},
   "outputs": [
    {
     "name": "stderr",
     "output_type": "stream",
     "text": [
      "Epochs: 100%|██████████| 200/200 [00:02<00:00, 82.68it/s, mean_v=1.0097]\n",
      "\n",
      "Epochs: 100%|██████████| 200/200 [00:02<00:00, 89.24it/s, mean_v=1.0024]\n",
      "\n",
      "Epochs: 100%|██████████| 200/200 [00:02<00:00, 88.94it/s, mean_v=1.0104]\n",
      "\n",
      "Epochs: 100%|██████████| 200/200 [00:02<00:00, 89.14it/s, mean_v=1.0007]\n",
      "\n"
     ]
    }
   ],
   "source": [
    "A = train_Xtree[:, indices]  # Select relevant features\n",
    "ao_idx = list(treenames[indices]).index(\"FeatureTA_volatility_atr\")\n",
    "q = 0.90\n",
    "\n",
    "splitratio = 0.90\n",
    "n_total = train_Xtree.shape[0]\n",
    "split_at = int(n_total * splitratio)\n",
    "A_train, A_holdout = A[:split_at], A[split_at:]\n",
    "y_train, y_holdout = train_ytree[:split_at], train_ytree[split_at:]\n",
    "\n",
    "# Define base args and variant overrides for DRY\n",
    "base_ot_params = dict(\n",
    "    A=A_train,\n",
    "    v=y_train,\n",
    "    ao_idx=ao_idx,\n",
    "    q=q,\n",
    "    lr=1e-2,\n",
    "    epochs=200,\n",
    "    sharpness=5.0,\n",
    "    probs_noise_std=0.5,\n",
    "    subsample_ratio=0.1,\n",
    ")\n",
    "variant_params = {\n",
    "    \"up_max\": {\"maximize\": True, \"upper_quantile\": True, \"q\": q},\n",
    "    \"up_min\": {\"maximize\": False, \"upper_quantile\": True, \"q\": q},\n",
    "    \"do_max\": {\"maximize\": True, \"upper_quantile\": False, \"q\": 1-q},\n",
    "    \"do_min\": {\"maximize\": False, \"upper_quantile\": False, \"q\": 1-q},\n",
    "}\n",
    "a_results = {}\n",
    "for name, overrides in variant_params.items():\n",
    "    args = {**base_ot_params, **overrides}\n",
    "    a_results[name] = optimize_threshold_sigmoid(**args)\n",
    "    time.sleep(0.1)  # Small delay to avoid overwhelming the system\n",
    "\n",
    "# Unpack results\n",
    "a_np_up_max = a_results[\"up_max\"]\n",
    "a_np_up_min = a_results[\"up_min\"]\n",
    "a_np_do_max = a_results[\"do_max\"]\n",
    "a_np_do_min = a_results[\"do_min\"]"
   ]
  },
  {
   "cell_type": "code",
   "execution_count": 118,
   "id": "68caa3cc",
   "metadata": {},
   "outputs": [
    {
     "name": "stdout",
     "output_type": "stream",
     "text": [
      "Ideal Up Max:\n",
      "1.02881\n",
      "1.0215393\n",
      "Ideal Up Min:\n",
      "0.9867375\n",
      "1.0100167\n",
      "Ideal Down Max:\n",
      "1.0279098\n",
      "1.0141095\n",
      "Ideal Down Min:\n",
      "0.98584956\n",
      "1.0028721\n",
      "1.0086963\n",
      "1.0200106\n"
     ]
    }
   ],
   "source": [
    "def ideal_up_mean(A, a, v, q):\n",
    "    w = A @ a\n",
    "    threshold = np.quantile(w, q)\n",
    "    mask = w > threshold\n",
    "    print(np.mean(v[mask]))\n",
    "def ideal_do_mean(A, a, v, q):\n",
    "    w = A @ a\n",
    "    threshold = np.quantile(w, q)\n",
    "    mask = w < threshold\n",
    "    print(np.mean(v[mask]))\n",
    "\n",
    "print(\"Ideal Up Max:\")\n",
    "ideal_up_mean(A_train, a_np_up_max, y_train, q)\n",
    "ideal_up_mean(A_holdout, a_np_up_max, y_holdout, q)\n",
    "\n",
    "print(\"Ideal Up Min:\")\n",
    "ideal_up_mean(A_train, a_np_up_min, y_train, q)\n",
    "ideal_up_mean(A_holdout, a_np_up_min, y_holdout, q)\n",
    "\n",
    "print(\"Ideal Down Max:\")\n",
    "ideal_do_mean(A_train, a_np_do_max, y_train, 1-q)\n",
    "ideal_do_mean(A_holdout, a_np_do_max, y_holdout, 1-q)\n",
    "\n",
    "print(\"Ideal Down Min:\")\n",
    "ideal_do_mean(A_train, a_np_do_min, y_train, 1-q)\n",
    "ideal_do_mean(A_holdout, a_np_do_min, y_holdout, 1-q)\n",
    "\n",
    "a0 = np.zeros(A.shape[1])  # Initial guess\n",
    "a0[ao_idx] = 1.0\n",
    "ideal_up_mean(A_train, a0, y_train, q)\n",
    "ideal_up_mean(A_holdout, a0, y_holdout, q)"
   ]
  },
  {
   "cell_type": "code",
   "execution_count": 113,
   "id": "ae8a9365",
   "metadata": {},
   "outputs": [
    {
     "name": "stdout",
     "output_type": "stream",
     "text": [
      "459\n"
     ]
    }
   ],
   "source": [
    "w = A_holdout @ a_np_up_max\n",
    "threshold = np.quantile(w, q)\n",
    "mask = w > threshold\n",
    "\n",
    "d = np.where(mask)[0]\n",
    "ddiff = np.diff(np.sort(d))\n",
    "print(max(ddiff))"
   ]
  },
  {
   "cell_type": "markdown",
   "id": "5d81066a",
   "metadata": {},
   "source": [
    "## Subtract positive from negative"
   ]
  },
  {
   "cell_type": "code",
   "execution_count": 122,
   "id": "3401070e",
   "metadata": {},
   "outputs": [
    {
     "name": "stdout",
     "output_type": "stream",
     "text": [
      "Mean over mask 1.0288593769073486\n",
      "Mean over mask_min 1.0044536590576172\n",
      "Mean over mask_max 1.0288100242614746\n",
      "Sum both masks 0.8181818181818182\n",
      "Mean over mask 1.037727952003479\n",
      "Mean over mask_min 1.0103803873062134\n",
      "Mean over mask_max 1.021539330482483\n",
      "Sum both masks 0.7648902821316614\n",
      "1625\n"
     ]
    }
   ],
   "source": [
    "def subtract_mean(A, a_max, a_min, v, q, up_max=True, up_min=False):\n",
    "    w_max = A @ a_max\n",
    "    w_min = A @ a_min\n",
    "    threshold_max = np.quantile(w_max, q)\n",
    "    threshold_min = np.quantile(w_min, q)\n",
    "    mask_max = w_max > threshold_max if up_max else w_max < threshold_max\n",
    "    mask_min = w_min > threshold_min if up_min else w_min < threshold_min\n",
    "    # in mask_max but not in max_min\n",
    "    mask = mask_max & ~mask_min\n",
    "    print(f\"Mean over mask {np.mean(v[mask])}\")\n",
    "    print(f\"Mean over mask_min {np.mean(v[mask_min])}\")\n",
    "    print(f\"Mean over mask_max {np.mean(v[mask_max])}\")\n",
    "    print(f\"Sum both masks {(mask_max & mask_min).sum()/ mask_max.sum()}\")\n",
    "    return mask\n",
    "    \n",
    "mask = subtract_mean(A_train, a_np_up_max, a_np_do_min, y_train, q, up_max=True, up_min=False)\n",
    "subtract_mean(A_holdout, a_np_up_max, a_np_do_min, y_holdout, q, up_max=True, up_min=False)\n",
    "\n",
    "d = np.where(mask)[0]\n",
    "ddiff = np.diff(np.sort(d))\n",
    "print(max(ddiff))"
   ]
  },
  {
   "cell_type": "markdown",
   "id": "86a1516a",
   "metadata": {},
   "source": [
    "## Optuna Trials"
   ]
  },
  {
   "cell_type": "code",
   "execution_count": 12,
   "id": "3a162329",
   "metadata": {},
   "outputs": [
    {
     "name": "stderr",
     "output_type": "stream",
     "text": [
      "[I 2025-07-02 18:47:18,973] A new study created in memory with name: up_max\n",
      "[I 2025-07-02 18:47:39,472] Trial 0 finished with value: 0.015307474881410599 and parameters: {'lr': 0.0436302310540298, 'epochs': 512, 'sharpness': 7.08556004692333, 'probs_noise_std': 0.779363398155941, 'subsample_ratio': 0.247428419547648}. Best is trial 0 with value: 0.015307474881410599.\n"
     ]
    },
    {
     "name": "stdout",
     "output_type": "stream",
     "text": [
      "Variant: up_max, Scores: [1.03  1.027 1.004 1.013 1.009 1.036 1.008 1.014 1.008 1.009 1.012], Mean Score: 1.0155\n"
     ]
    },
    {
     "name": "stderr",
     "output_type": "stream",
     "text": [
      "[I 2025-07-02 18:48:30,782] Trial 1 finished with value: 0.019121911376714706 and parameters: {'lr': 0.039618888941629606, 'epochs': 1317, 'sharpness': 0.5456951290850517, 'probs_noise_std': 0.05676341263428486, 'subsample_ratio': 0.9678934172422053}. Best is trial 1 with value: 0.019121911376714706.\n"
     ]
    },
    {
     "name": "stdout",
     "output_type": "stream",
     "text": [
      "Variant: up_max, Scores: [1.027 1.025 1.006 1.01  1.017 1.051 1.037 1.012 1.008 1.008 1.013], Mean Score: 1.0194\n"
     ]
    },
    {
     "name": "stderr",
     "output_type": "stream",
     "text": [
      "[I 2025-07-02 18:48:42,749] Trial 2 finished with value: 0.01267212349921465 and parameters: {'lr': 0.013378914366535991, 'epochs': 294, 'sharpness': 5.664302243226896, 'probs_noise_std': 0.823548164969008, 'subsample_ratio': 0.05461834041425086}. Best is trial 1 with value: 0.019121911376714706.\n"
     ]
    },
    {
     "name": "stdout",
     "output_type": "stream",
     "text": [
      "Variant: up_max, Scores: [1.025 1.013 1.002 1.011 1.002 1.03  1.02  1.013 1.008 1.008 1.01 ], Mean Score: 1.0128\n"
     ]
    },
    {
     "name": "stderr",
     "output_type": "stream",
     "text": [
      "[I 2025-07-02 18:49:06,976] Trial 3 finished with value: 0.016666851937770844 and parameters: {'lr': 0.003780896271991535, 'epochs': 615, 'sharpness': 0.16343938072853073, 'probs_noise_std': 0.34295488045928324, 'subsample_ratio': 0.5601456333635059}. Best is trial 1 with value: 0.019121911376714706.\n"
     ]
    },
    {
     "name": "stdout",
     "output_type": "stream",
     "text": [
      "Variant: up_max, Scores: [1.024 1.026 1.001 1.013 1.018 1.032 1.027 1.009 1.01  1.01  1.014], Mean Score: 1.0168\n"
     ]
    },
    {
     "name": "stderr",
     "output_type": "stream",
     "text": [
      "[I 2025-07-02 18:49:53,499] Trial 4 finished with value: 0.017394782975316048 and parameters: {'lr': 0.0025721206456324553, 'epochs': 1187, 'sharpness': 0.8122666821705701, 'probs_noise_std': 0.7412328957063753, 'subsample_ratio': 0.8684607084304473}. Best is trial 1 with value: 0.019121911376714706.\n"
     ]
    },
    {
     "name": "stdout",
     "output_type": "stream",
     "text": [
      "Variant: up_max, Scores: [1.013 1.028 1.004 1.016 1.016 1.045 1.033 1.01  1.012 1.006 1.01 ], Mean Score: 1.0176\n"
     ]
    },
    {
     "name": "stderr",
     "output_type": "stream",
     "text": [
      "[I 2025-07-02 18:50:01,638] Trial 5 finished with value: 0.01762644574046135 and parameters: {'lr': 0.0008122311161886523, 'epochs': 198, 'sharpness': 3.2786902808160185, 'probs_noise_std': 0.41735867271467153, 'subsample_ratio': 0.7330010621428925}. Best is trial 1 with value: 0.019121911376714706.\n"
     ]
    },
    {
     "name": "stdout",
     "output_type": "stream",
     "text": [
      "Variant: up_max, Scores: [1.027 1.028 1.002 1.009 1.015 1.045 1.024 1.012 1.011 1.01  1.013], Mean Score: 1.0178\n"
     ]
    },
    {
     "name": "stderr",
     "output_type": "stream",
     "text": [
      "[I 2025-07-02 18:51:03,246] Trial 6 finished with value: 0.01757451891899109 and parameters: {'lr': 0.009823679298990005, 'epochs': 1579, 'sharpness': 0.122483212517473, 'probs_noise_std': 0.7199687751286149, 'subsample_ratio': 0.6099775774443834}. Best is trial 1 with value: 0.019121911376714706.\n"
     ]
    },
    {
     "name": "stdout",
     "output_type": "stream",
     "text": [
      "Variant: up_max, Scores: [1.018 1.027 1.003 1.013 1.017 1.043 1.031 1.012 1.013 1.008 1.01 ], Mean Score: 1.0178\n"
     ]
    },
    {
     "name": "stderr",
     "output_type": "stream",
     "text": [
      "[I 2025-07-02 18:51:41,417] Trial 7 finished with value: 0.01890379935503006 and parameters: {'lr': 0.09680034267081268, 'epochs': 986, 'sharpness': 0.29695277276791265, 'probs_noise_std': 0.017816013432973232, 'subsample_ratio': 0.6733915683878857}. Best is trial 1 with value: 0.019121911376714706.\n"
     ]
    },
    {
     "name": "stdout",
     "output_type": "stream",
     "text": [
      "Variant: up_max, Scores: [1.024 1.03  1.001 1.013 1.018 1.043 1.037 1.013 1.011 1.011 1.011], Mean Score: 1.0192\n"
     ]
    },
    {
     "name": "stderr",
     "output_type": "stream",
     "text": [
      "[I 2025-07-02 18:52:03,786] Trial 8 finished with value: 0.013165328651666641 and parameters: {'lr': 0.0005685362312238871, 'epochs': 564, 'sharpness': 0.07136466786906832, 'probs_noise_std': 0.23394728832864986, 'subsample_ratio': 0.4144959355328765}. Best is trial 1 with value: 0.019121911376714706.\n"
     ]
    },
    {
     "name": "stdout",
     "output_type": "stream",
     "text": [
      "Variant: up_max, Scores: [1.032 1.018 1.    1.01  1.016 1.019 1.013 1.01  1.008 1.008 1.013], Mean Score: 1.0133\n"
     ]
    },
    {
     "name": "stderr",
     "output_type": "stream",
     "text": [
      "[I 2025-07-02 18:53:00,464] Trial 9 finished with value: 0.012179970741271973 and parameters: {'lr': 0.09462749036105036, 'epochs': 1454, 'sharpness': 36.034783764578144, 'probs_noise_std': 0.5081836233015995, 'subsample_ratio': 0.15429882828799302}. Best is trial 1 with value: 0.019121911376714706.\n"
     ]
    },
    {
     "name": "stdout",
     "output_type": "stream",
     "text": [
      "Variant: up_max, Scores: [1.027 1.018 1.    1.008 1.009 1.017 1.014 1.011 1.006 1.009 1.015], Mean Score: 1.0123\n"
     ]
    },
    {
     "name": "stderr",
     "output_type": "stream",
     "text": [
      "[I 2025-07-02 18:54:08,321] Trial 10 finished with value: 0.018562640994787216 and parameters: {'lr': 0.017035742860524346, 'epochs': 1743, 'sharpness': 0.76161117560994, 'probs_noise_std': 0.030573186964119814, 'subsample_ratio': 0.9060994071164947}. Best is trial 1 with value: 0.019121911376714706.\n"
     ]
    },
    {
     "name": "stdout",
     "output_type": "stream",
     "text": [
      "Variant: up_max, Scores: [1.025 1.026 1.003 1.011 1.014 1.048 1.037 1.013 1.012 1.01  1.008], Mean Score: 1.0188\n"
     ]
    },
    {
     "name": "stderr",
     "output_type": "stream",
     "text": [
      "[I 2025-07-02 18:54:48,008] Trial 11 finished with value: 0.014507448300719261 and parameters: {'lr': 0.00012512794716436275, 'epochs': 1013, 'sharpness': 0.4889680524922534, 'probs_noise_std': 0.002443075913533873, 'subsample_ratio': 0.9558433389987595}. Best is trial 1 with value: 0.019121911376714706.\n"
     ]
    },
    {
     "name": "stdout",
     "output_type": "stream",
     "text": [
      "Variant: up_max, Scores: [1.032 1.02  1.001 1.01  1.016 1.021 1.022 1.008 1.01  1.009 1.014], Mean Score: 1.0146\n"
     ]
    },
    {
     "name": "stderr",
     "output_type": "stream",
     "text": [
      "[I 2025-07-02 18:55:35,149] Trial 12 finished with value: 0.019730335101485252 and parameters: {'lr': 0.05263997179025373, 'epochs': 1215, 'sharpness': 0.24891285402718444, 'probs_noise_std': 0.13542327252688385, 'subsample_ratio': 0.7592549301385314}. Best is trial 12 with value: 0.019730335101485252.\n"
     ]
    },
    {
     "name": "stdout",
     "output_type": "stream",
     "text": [
      "Variant: up_max, Scores: [1.028 1.021 1.004 1.017 1.013 1.055 1.042 1.009 1.012 1.008 1.012], Mean Score: 1.0200\n"
     ]
    },
    {
     "name": "stderr",
     "output_type": "stream",
     "text": [
      "[I 2025-07-02 18:56:24,869] Trial 13 finished with value: 0.01982131041586399 and parameters: {'lr': 0.02997219754677385, 'epochs': 1280, 'sharpness': 1.7999284099097153, 'probs_noise_std': 0.2050888295817747, 'subsample_ratio': 0.8010523367759832}. Best is trial 13 with value: 0.01982131041586399.\n"
     ]
    },
    {
     "name": "stdout",
     "output_type": "stream",
     "text": [
      "Variant: up_max, Scores: [1.026 1.027 1.003 1.011 1.015 1.055 1.039 1.014 1.013 1.008 1.01 ], Mean Score: 1.0201\n"
     ]
    },
    {
     "name": "stderr",
     "output_type": "stream",
     "text": [
      "[I 2025-07-02 18:57:08,685] Trial 14 finished with value: 0.01710723340511322 and parameters: {'lr': 0.030950094182830484, 'epochs': 1116, 'sharpness': 2.088790193572366, 'probs_noise_std': 0.2029053443027467, 'subsample_ratio': 0.7489739717447057}. Best is trial 13 with value: 0.01982131041586399.\n"
     ]
    },
    {
     "name": "stdout",
     "output_type": "stream",
     "text": [
      "Variant: up_max, Scores: [1.021 1.026 1.002 1.009 1.017 1.054 1.025 1.01  1.011 1.007 1.01 ], Mean Score: 1.0173\n"
     ]
    },
    {
     "name": "stderr",
     "output_type": "stream",
     "text": [
      "[I 2025-07-02 18:57:35,612] Trial 15 finished with value: 0.01759233884513378 and parameters: {'lr': 0.005500482176252152, 'epochs': 768, 'sharpness': 12.6626166622361, 'probs_noise_std': 0.2036476947211113, 'subsample_ratio': 0.4718586635138532}. Best is trial 13 with value: 0.01982131041586399.\n"
     ]
    },
    {
     "name": "stdout",
     "output_type": "stream",
     "text": [
      "Variant: up_max, Scores: [1.019 1.032 1.006 1.012 1.013 1.056 1.02  1.009 1.01  1.011 1.009], Mean Score: 1.0178\n"
     ]
    },
    {
     "name": "stderr",
     "output_type": "stream",
     "text": [
      "[I 2025-07-02 18:58:22,347] Trial 16 finished with value: 0.017487196251749992 and parameters: {'lr': 0.0283088709847294, 'epochs': 1343, 'sharpness': 1.7039148326449793, 'probs_noise_std': 0.30918056739465544, 'subsample_ratio': 0.8147926517791252}. Best is trial 13 with value: 0.01982131041586399.\n"
     ]
    },
    {
     "name": "stdout",
     "output_type": "stream",
     "text": [
      "Variant: up_max, Scores: [1.019 1.026 1.004 1.011 1.014 1.049 1.031 1.012 1.012 1.007 1.009], Mean Score: 1.0177\n"
     ]
    },
    {
     "name": "stderr",
     "output_type": "stream",
     "text": [
      "[I 2025-07-02 18:58:51,744] Trial 17 finished with value: 0.016666481271386147 and parameters: {'lr': 0.0021069520214409376, 'epochs': 841, 'sharpness': 0.23906126592250695, 'probs_noise_std': 0.5992394227325769, 'subsample_ratio': 0.39249582562143526}. Best is trial 13 with value: 0.01982131041586399.\n"
     ]
    },
    {
     "name": "stdout",
     "output_type": "stream",
     "text": [
      "Variant: up_max, Scores: [1.024 1.024 1.002 1.013 1.019 1.035 1.025 1.012 1.009 1.01  1.011], Mean Score: 1.0168\n"
     ]
    },
    {
     "name": "stderr",
     "output_type": "stream",
     "text": [
      "[I 2025-07-02 18:59:53,796] Trial 18 finished with value: 0.01621500961482525 and parameters: {'lr': 0.009061383155544672, 'epochs': 1785, 'sharpness': 0.057032814139771085, 'probs_noise_std': 0.9807975314399852, 'subsample_ratio': 0.7995133970125965}. Best is trial 13 with value: 0.01982131041586399.\n"
     ]
    },
    {
     "name": "stdout",
     "output_type": "stream",
     "text": [
      "Variant: up_max, Scores: [1.02  1.023 1.001 1.012 1.018 1.036 1.026 1.011 1.012 1.009 1.012], Mean Score: 1.0164\n"
     ]
    },
    {
     "name": "stderr",
     "output_type": "stream",
     "text": [
      "[I 2025-07-02 19:00:48,549] Trial 19 finished with value: 0.017342858016490936 and parameters: {'lr': 0.06028533126229735, 'epochs': 1576, 'sharpness': 19.246802514855315, 'probs_noise_std': 0.1246222035211146, 'subsample_ratio': 0.6417627373360857}. Best is trial 13 with value: 0.01982131041586399.\n"
     ]
    },
    {
     "name": "stdout",
     "output_type": "stream",
     "text": [
      "Variant: up_max, Scores: [1.017 1.028 1.005 1.013 1.018 1.046 1.023 1.009 1.013 1.009 1.011], Mean Score: 1.0176\n"
     ]
    },
    {
     "name": "stderr",
     "output_type": "stream",
     "text": [
      "[I 2025-07-02 19:01:30,073] Trial 20 finished with value: 0.019755207002162933 and parameters: {'lr': 0.02105554136541202, 'epochs': 1193, 'sharpness': 1.2473977344342366, 'probs_noise_std': 0.4582368271149154, 'subsample_ratio': 0.5279651634620872}. Best is trial 13 with value: 0.01982131041586399.\n"
     ]
    },
    {
     "name": "stdout",
     "output_type": "stream",
     "text": [
      "Variant: up_max, Scores: [1.029 1.025 1.003 1.011 1.015 1.057 1.038 1.013 1.012 1.008 1.009], Mean Score: 1.0201\n"
     ]
    },
    {
     "name": "stderr",
     "output_type": "stream",
     "text": [
      "[I 2025-07-02 19:02:14,537] Trial 21 finished with value: 0.019540028646588326 and parameters: {'lr': 0.02256586779191479, 'epochs': 1275, 'sharpness': 1.1086662506401412, 'probs_noise_std': 0.4691460618638343, 'subsample_ratio': 0.3088575518958903}. Best is trial 13 with value: 0.01982131041586399.\n"
     ]
    },
    {
     "name": "stdout",
     "output_type": "stream",
     "text": [
      "Variant: up_max, Scores: [1.025 1.025 1.006 1.011 1.011 1.055 1.045 1.014 1.013 1.007 1.007], Mean Score: 1.0198\n"
     ]
    },
    {
     "name": "stderr",
     "output_type": "stream",
     "text": [
      "[I 2025-07-02 19:02:53,455] Trial 22 finished with value: 0.017437098547816277 and parameters: {'lr': 0.05713217963776102, 'epochs': 1094, 'sharpness': 4.0556419935056685, 'probs_noise_std': 0.3298396646318078, 'subsample_ratio': 0.5566657049714389}. Best is trial 13 with value: 0.01982131041586399.\n"
     ]
    },
    {
     "name": "stdout",
     "output_type": "stream",
     "text": [
      "Variant: up_max, Scores: [1.022 1.026 1.004 1.013 1.016 1.053 1.019 1.014 1.01  1.01  1.006], Mean Score: 1.0177\n"
     ]
    },
    {
     "name": "stderr",
     "output_type": "stream",
     "text": [
      "[I 2025-07-02 19:03:43,778] Trial 23 finished with value: 0.019230036064982414 and parameters: {'lr': 0.018259278359993157, 'epochs': 1442, 'sharpness': 2.1527757154180924, 'probs_noise_std': 0.5780710300835556, 'subsample_ratio': 0.7052013931098525}. Best is trial 13 with value: 0.01982131041586399.\n"
     ]
    },
    {
     "name": "stdout",
     "output_type": "stream",
     "text": [
      "Variant: up_max, Scores: [1.021 1.026 1.002 1.011 1.013 1.059 1.043 1.013 1.012 1.006 1.009], Mean Score: 1.0195\n"
     ]
    },
    {
     "name": "stderr",
     "output_type": "stream",
     "text": [
      "[I 2025-07-02 19:04:26,342] Trial 24 finished with value: 0.01786230318248272 and parameters: {'lr': 0.006519117478962934, 'epochs': 1217, 'sharpness': 0.3065197683016461, 'probs_noise_std': 0.15386811881454243, 'subsample_ratio': 0.8321394213308884}. Best is trial 13 with value: 0.01982131041586399.\n"
     ]
    },
    {
     "name": "stdout",
     "output_type": "stream",
     "text": [
      "Variant: up_max, Scores: [1.027 1.027 1.002 1.01  1.017 1.042 1.034 1.008 1.009 1.012 1.012], Mean Score: 1.0181\n"
     ]
    },
    {
     "name": "stderr",
     "output_type": "stream",
     "text": [
      "[I 2025-07-02 19:04:55,673] Trial 25 finished with value: 0.018284790217876434 and parameters: {'lr': 0.061098959811474646, 'epochs': 833, 'sharpness': 1.106653193785827, 'probs_noise_std': 0.2712823563296088, 'subsample_ratio': 0.5627318378108107}. Best is trial 13 with value: 0.01982131041586399.\n"
     ]
    },
    {
     "name": "stdout",
     "output_type": "stream",
     "text": [
      "Variant: up_max, Scores: [1.025 1.026 1.001 1.011 1.014 1.049 1.035 1.011 1.014 1.008 1.009], Mean Score: 1.0185\n"
     ]
    },
    {
     "name": "stderr",
     "output_type": "stream",
     "text": [
      "[I 2025-07-02 19:05:47,685] Trial 26 finished with value: 0.018657373264431953 and parameters: {'lr': 0.01273274929007631, 'epochs': 1487, 'sharpness': 0.45878800831461136, 'probs_noise_std': 0.38982947215629743, 'subsample_ratio': 0.47380579075757207}. Best is trial 13 with value: 0.01982131041586399.\n"
     ]
    },
    {
     "name": "stdout",
     "output_type": "stream",
     "text": [
      "Variant: up_max, Scores: [1.016 1.025 1.002 1.011 1.015 1.054 1.04  1.014 1.012 1.008 1.012], Mean Score: 1.0189\n"
     ]
    },
    {
     "name": "stderr",
     "output_type": "stream",
     "text": [
      "[I 2025-07-02 19:06:25,168] Trial 27 finished with value: 0.015893181785941124 and parameters: {'lr': 0.0013045827717182365, 'epochs': 1069, 'sharpness': 0.14048003922799276, 'probs_noise_std': 0.12420802765493265, 'subsample_ratio': 0.9040107915562976}. Best is trial 13 with value: 0.01982131041586399.\n"
     ]
    },
    {
     "name": "stdout",
     "output_type": "stream",
     "text": [
      "Variant: up_max, Scores: [1.029 1.023 1.002 1.011 1.02  1.021 1.025 1.009 1.01  1.01  1.014], Mean Score: 1.0161\n"
     ]
    },
    {
     "name": "stderr",
     "output_type": "stream",
     "text": [
      "[I 2025-07-02 19:06:58,391] Trial 28 finished with value: 0.01762528531253338 and parameters: {'lr': 0.0002525834359408927, 'epochs': 946, 'sharpness': 1.3865325015640098, 'probs_noise_std': 0.6463310300651353, 'subsample_ratio': 0.7612669160803031}. Best is trial 13 with value: 0.01982131041586399.\n"
     ]
    },
    {
     "name": "stdout",
     "output_type": "stream",
     "text": [
      "Variant: up_max, Scores: [1.023 1.026 1.001 1.012 1.019 1.04  1.027 1.013 1.012 1.011 1.012], Mean Score: 1.0178\n"
     ]
    },
    {
     "name": "stderr",
     "output_type": "stream",
     "text": [
      "[I 2025-07-02 19:07:24,398] Trial 29 finished with value: 0.016101589426398277 and parameters: {'lr': 0.03879417475053244, 'epochs': 741, 'sharpness': 7.6765825666098495, 'probs_noise_std': 0.1539822633321032, 'subsample_ratio': 0.27281554069410874}. Best is trial 13 with value: 0.01982131041586399.\n"
     ]
    },
    {
     "name": "stdout",
     "output_type": "stream",
     "text": [
      "Variant: up_max, Scores: [1.023 1.03  1.002 1.009 1.011 1.051 1.009 1.012 1.013 1.009 1.011], Mean Score: 1.0163\n"
     ]
    },
    {
     "name": "stderr",
     "output_type": "stream",
     "text": [
      "[I 2025-07-02 19:08:22,295] Trial 30 finished with value: 0.016599994152784348 and parameters: {'lr': 0.004982918781587001, 'epochs': 1663, 'sharpness': 0.09139460153482928, 'probs_noise_std': 0.5009976660627246, 'subsample_ratio': 0.39343670223950983}. Best is trial 13 with value: 0.01982131041586399.\n"
     ]
    },
    {
     "name": "stdout",
     "output_type": "stream",
     "text": [
      "Variant: up_max, Scores: [1.023 1.026 1.002 1.012 1.017 1.035 1.026 1.011 1.011 1.01  1.012], Mean Score: 1.0168\n"
     ]
    },
    {
     "name": "stderr",
     "output_type": "stream",
     "text": [
      "[I 2025-07-02 19:09:07,974] Trial 31 finished with value: 0.01869315840303898 and parameters: {'lr': 0.026088715081194647, 'epochs': 1307, 'sharpness': 2.6065417986473483, 'probs_noise_std': 0.4085896603040003, 'subsample_ratio': 0.32754567195613393}. Best is trial 13 with value: 0.01982131041586399.\n"
     ]
    },
    {
     "name": "stdout",
     "output_type": "stream",
     "text": [
      "Variant: up_max, Scores: [1.023 1.028 1.002 1.01  1.018 1.062 1.031 1.011 1.009 1.006 1.008], Mean Score: 1.0190\n"
     ]
    },
    {
     "name": "stderr",
     "output_type": "stream",
     "text": [
      "[I 2025-07-02 19:09:50,404] Trial 32 finished with value: 0.018647877499461174 and parameters: {'lr': 0.019017952285601852, 'epochs': 1218, 'sharpness': 0.8392180531612127, 'probs_noise_std': 0.4871902275912468, 'subsample_ratio': 0.116034896865358}. Best is trial 13 with value: 0.01982131041586399.\n"
     ]
    },
    {
     "name": "stdout",
     "output_type": "stream",
     "text": [
      "Variant: up_max, Scores: [1.02  1.028 1.003 1.013 1.011 1.056 1.038 1.011 1.012 1.008 1.009], Mean Score: 1.0189\n"
     ]
    },
    {
     "name": "stderr",
     "output_type": "stream",
     "text": [
      "[I 2025-07-02 19:10:35,164] Trial 33 finished with value: 0.019994378089904785 and parameters: {'lr': 0.047036649341991435, 'epochs': 1285, 'sharpness': 1.1714775887278916, 'probs_noise_std': 0.4444316556444804, 'subsample_ratio': 0.21983153775793468}. Best is trial 33 with value: 0.019994378089904785.\n"
     ]
    },
    {
     "name": "stdout",
     "output_type": "stream",
     "text": [
      "Variant: up_max, Scores: [1.021 1.028 1.005 1.011 1.016 1.055 1.043 1.013 1.014 1.008 1.009], Mean Score: 1.0203\n"
     ]
    },
    {
     "name": "stderr",
     "output_type": "stream",
     "text": [
      "[I 2025-07-02 19:11:22,936] Trial 34 finished with value: 0.01871037483215332 and parameters: {'lr': 0.04821723206352857, 'epochs': 1357, 'sharpness': 6.340557912027311, 'probs_noise_std': 0.08330816158784798, 'subsample_ratio': 0.17574567628745352}. Best is trial 33 with value: 0.019994378089904785.\n"
     ]
    },
    {
     "name": "stdout",
     "output_type": "stream",
     "text": [
      "Variant: up_max, Scores: [1.025 1.03  1.005 1.011 1.014 1.052 1.03  1.009 1.013 1.01  1.011], Mean Score: 1.0190\n"
     ]
    },
    {
     "name": "stderr",
     "output_type": "stream",
     "text": [
      "[I 2025-07-02 19:11:36,616] Trial 35 finished with value: 0.015686355531215668 and parameters: {'lr': 0.03971691356018008, 'epochs': 381, 'sharpness': 4.381856856341182, 'probs_noise_std': 0.27604249053917623, 'subsample_ratio': 0.07358211992758257}. Best is trial 33 with value: 0.019994378089904785.\n"
     ]
    },
    {
     "name": "stdout",
     "output_type": "stream",
     "text": [
      "Variant: up_max, Scores: [1.019 1.022 1.007 1.011 1.013 1.038 1.019 1.008 1.013 1.013 1.012], Mean Score: 1.0158\n"
     ]
    },
    {
     "name": "stderr",
     "output_type": "stream",
     "text": [
      "[I 2025-07-02 19:12:15,587] Trial 36 finished with value: 0.0177615899592638 and parameters: {'lr': 0.07286261345794341, 'epochs': 1122, 'sharpness': 0.6491386844010342, 'probs_noise_std': 0.8498614409561345, 'subsample_ratio': 0.19389237243761193}. Best is trial 33 with value: 0.019994378089904785.\n"
     ]
    },
    {
     "name": "stdout",
     "output_type": "stream",
     "text": [
      "Variant: up_max, Scores: [1.022 1.029 1.006 1.012 1.016 1.046 1.029 1.011 1.012 1.008 1.007], Mean Score: 1.0180\n"
     ]
    },
    {
     "name": "stderr",
     "output_type": "stream",
     "text": [
      "[I 2025-07-02 19:13:04,824] Trial 37 finished with value: 0.017353424802422523 and parameters: {'lr': 0.012793418130867746, 'epochs': 1398, 'sharpness': 0.2090494764388806, 'probs_noise_std': 0.564182820454459, 'subsample_ratio': 0.5214023766381168}. Best is trial 33 with value: 0.019994378089904785.\n"
     ]
    },
    {
     "name": "stdout",
     "output_type": "stream",
     "text": [
      "Variant: up_max, Scores: [1.014 1.026 1.004 1.013 1.015 1.047 1.034 1.012 1.009 1.009 1.01 ], Mean Score: 1.0176\n"
     ]
    },
    {
     "name": "stderr",
     "output_type": "stream",
     "text": [
      "[I 2025-07-02 19:13:59,110] Trial 38 finished with value: 0.017304768785834312 and parameters: {'lr': 0.039643756454529215, 'epochs': 1552, 'sharpness': 0.341807857795843, 'probs_noise_std': 0.6814120626208546, 'subsample_ratio': 0.9781503204393819}. Best is trial 33 with value: 0.019994378089904785.\n"
     ]
    },
    {
     "name": "stdout",
     "output_type": "stream",
     "text": [
      "Variant: up_max, Scores: [1.018 1.027 1.003 1.009 1.014 1.052 1.034 1.011 1.011 1.007 1.007], Mean Score: 1.0175\n"
     ]
    },
    {
     "name": "stderr",
     "output_type": "stream",
     "text": [
      "[I 2025-07-02 19:14:40,316] Trial 39 finished with value: 0.01833629421889782 and parameters: {'lr': 0.009179793850941514, 'epochs': 1195, 'sharpness': 1.1311752768778263, 'probs_noise_std': 0.38319737254393954, 'subsample_ratio': 0.028799159852923417}. Best is trial 33 with value: 0.019994378089904785.\n"
     ]
    },
    {
     "name": "stdout",
     "output_type": "stream",
     "text": [
      "Variant: up_max, Scores: [1.022 1.031 1.002 1.012 1.012 1.052 1.033 1.011 1.012 1.009 1.009], Mean Score: 1.0186\n"
     ]
    },
    {
     "name": "stderr",
     "output_type": "stream",
     "text": [
      "[I 2025-07-02 19:15:25,047] Trial 40 finished with value: 0.01737118698656559 and parameters: {'lr': 0.0957864278722045, 'epochs': 1279, 'sharpness': 2.700850487654122, 'probs_noise_std': 0.433338684242921, 'subsample_ratio': 0.6050958491740323}. Best is trial 33 with value: 0.019994378089904785.\n"
     ]
    },
    {
     "name": "stdout",
     "output_type": "stream",
     "text": [
      "Variant: up_max, Scores: [1.016 1.026 1.003 1.011 1.015 1.047 1.035 1.011 1.013 1.008 1.009], Mean Score: 1.0176\n"
     ]
    },
    {
     "name": "stderr",
     "output_type": "stream",
     "text": [
      "[I 2025-07-02 19:16:08,692] Trial 41 finished with value: 0.018929090350866318 and parameters: {'lr': 0.01983562324171993, 'epochs': 1251, 'sharpness': 1.4591654764724094, 'probs_noise_std': 0.46959445093283003, 'subsample_ratio': 0.2993274101785475}. Best is trial 33 with value: 0.019994378089904785.\n"
     ]
    },
    {
     "name": "stdout",
     "output_type": "stream",
     "text": [
      "Variant: up_max, Scores: [1.019 1.028 1.006 1.012 1.013 1.054 1.042 1.012 1.013 1.007 1.006], Mean Score: 1.0192\n"
     ]
    },
    {
     "name": "stderr",
     "output_type": "stream",
     "text": [
      "[I 2025-07-02 19:16:49,114] Trial 42 finished with value: 0.018589196726679802 and parameters: {'lr': 0.03116100313100292, 'epochs': 1146, 'sharpness': 0.9513463235621724, 'probs_noise_std': 0.35031352058534576, 'subsample_ratio': 0.338011580678069}. Best is trial 33 with value: 0.019994378089904785.\n"
     ]
    },
    {
     "name": "stdout",
     "output_type": "stream",
     "text": [
      "Variant: up_max, Scores: [1.022 1.027 1.004 1.013 1.014 1.056 1.033 1.014 1.01  1.006 1.009], Mean Score: 1.0189\n"
     ]
    },
    {
     "name": "stderr",
     "output_type": "stream",
     "text": [
      "[I 2025-07-02 19:17:24,428] Trial 43 finished with value: 0.017404260113835335 and parameters: {'lr': 0.02418772455717276, 'epochs': 1006, 'sharpness': 0.6059945780289311, 'probs_noise_std': 0.5227750675298738, 'subsample_ratio': 0.2118117199241486}. Best is trial 33 with value: 0.019994378089904785.\n"
     ]
    },
    {
     "name": "stdout",
     "output_type": "stream",
     "text": [
      "Variant: up_max, Scores: [1.015 1.025 1.005 1.014 1.014 1.049 1.032 1.014 1.013 1.007 1.007], Mean Score: 1.0176\n"
     ]
    },
    {
     "name": "stderr",
     "output_type": "stream",
     "text": [
      "[I 2025-07-02 19:17:27,563] Trial 44 finished with value: 0.016608627513051033 and parameters: {'lr': 0.07425319995980716, 'epochs': 76, 'sharpness': 0.39438232908434245, 'probs_noise_std': 0.45908166272965045, 'subsample_ratio': 0.24278111884799675}. Best is trial 33 with value: 0.019994378089904785.\n"
     ]
    },
    {
     "name": "stdout",
     "output_type": "stream",
     "text": [
      "Variant: up_max, Scores: [1.031 1.031 1.004 1.009 1.016 1.031 1.023 1.011 1.008 1.009 1.011], Mean Score: 1.0168\n"
     ]
    },
    {
     "name": "stderr",
     "output_type": "stream",
     "text": [
      "[I 2025-07-02 19:18:15,856] Trial 45 finished with value: 0.018346112221479416 and parameters: {'lr': 0.012770346116528905, 'epochs': 1384, 'sharpness': 1.814682619486555, 'probs_noise_std': 0.5342713282914802, 'subsample_ratio': 0.6902732832542576}. Best is trial 33 with value: 0.019994378089904785.\n"
     ]
    },
    {
     "name": "stdout",
     "output_type": "stream",
     "text": [
      "Variant: up_max, Scores: [1.011 1.029 1.005 1.01  1.015 1.054 1.038 1.012 1.015 1.009 1.007], Mean Score: 1.0186\n"
     ]
    },
    {
     "name": "stderr",
     "output_type": "stream",
     "text": [
      "[I 2025-07-02 19:19:08,912] Trial 46 finished with value: 0.017652150243520737 and parameters: {'lr': 0.04277505248914068, 'epochs': 1517, 'sharpness': 3.708014577290392, 'probs_noise_std': 0.617876289554022, 'subsample_ratio': 0.11479196418611118}. Best is trial 33 with value: 0.019994378089904785.\n"
     ]
    },
    {
     "name": "stdout",
     "output_type": "stream",
     "text": [
      "Variant: up_max, Scores: [1.03  1.027 1.007 1.01  1.015 1.047 1.027 1.008 1.01  1.009 1.007], Mean Score: 1.0179\n"
     ]
    },
    {
     "name": "stderr",
     "output_type": "stream",
     "text": [
      "[I 2025-07-02 19:19:40,404] Trial 47 finished with value: 0.018798522651195526 and parameters: {'lr': 0.02597283744779591, 'epochs': 899, 'sharpness': 8.356311158759294, 'probs_noise_std': 0.23414042709835878, 'subsample_ratio': 0.43513924762016615}. Best is trial 33 with value: 0.019994378089904785.\n"
     ]
    },
    {
     "name": "stdout",
     "output_type": "stream",
     "text": [
      "Variant: up_max, Scores: [1.023 1.029 1.002 1.013 1.014 1.056 1.026 1.015 1.012 1.009 1.011], Mean Score: 1.0191\n"
     ]
    },
    {
     "name": "stderr",
     "output_type": "stream",
     "text": [
      "[I 2025-07-02 19:20:25,368] Trial 48 finished with value: 0.01899181678891182 and parameters: {'lr': 0.003052663501080205, 'epochs': 1290, 'sharpness': 1.2958037830391211, 'probs_noise_std': 0.36178358628777774, 'subsample_ratio': 0.8757510359814469}. Best is trial 33 with value: 0.019994378089904785.\n"
     ]
    },
    {
     "name": "stdout",
     "output_type": "stream",
     "text": [
      "Variant: up_max, Scores: [1.017 1.029 1.004 1.012 1.014 1.055 1.037 1.013 1.014 1.008 1.01 ], Mean Score: 1.0193\n"
     ]
    },
    {
     "name": "stderr",
     "output_type": "stream",
     "text": [
      "[I 2025-07-02 19:21:16,263] Trial 49 finished with value: 0.019703838974237442 and parameters: {'lr': 0.07428236283721984, 'epochs': 1452, 'sharpness': 0.6383398282212264, 'probs_noise_std': 0.28053919416894035, 'subsample_ratio': 0.3628250066576316}. Best is trial 33 with value: 0.019994378089904785.\n"
     ]
    },
    {
     "name": "stdout",
     "output_type": "stream",
     "text": [
      "Variant: up_max, Scores: [1.021 1.026 1.007 1.012 1.015 1.056 1.04  1.013 1.011 1.009 1.009], Mean Score: 1.0200\n"
     ]
    },
    {
     "name": "stderr",
     "output_type": "stream",
     "text": [
      "[I 2025-07-02 19:22:12,255] Trial 50 finished with value: 0.01852160505950451 and parameters: {'lr': 0.07501040484724424, 'epochs': 1598, 'sharpness': 0.19356998618238755, 'probs_noise_std': 0.2950934881819238, 'subsample_ratio': 0.7869268800869279}. Best is trial 33 with value: 0.019994378089904785.\n"
     ]
    },
    {
     "name": "stdout",
     "output_type": "stream",
     "text": [
      "Variant: up_max, Scores: [1.022 1.023 1.004 1.012 1.016 1.045 1.041 1.012 1.013 1.009 1.008], Mean Score: 1.0188\n"
     ]
    },
    {
     "name": "stderr",
     "output_type": "stream",
     "text": [
      "[I 2025-07-02 19:23:02,031] Trial 51 finished with value: 0.0171815175563097 and parameters: {'lr': 0.04891780923828499, 'epochs': 1423, 'sharpness': 0.7039504547647227, 'probs_noise_std': 0.20809920107654986, 'subsample_ratio': 0.35058469418803967}. Best is trial 33 with value: 0.019994378089904785.\n"
     ]
    },
    {
     "name": "stdout",
     "output_type": "stream",
     "text": [
      "Variant: up_max, Scores: [1.016 1.028 1.004 1.008 1.015 1.053 1.028 1.01  1.014 1.008 1.009], Mean Score: 1.0174\n"
     ]
    },
    {
     "name": "stderr",
     "output_type": "stream",
     "text": [
      "[I 2025-07-02 19:23:38,289] Trial 52 finished with value: 0.017734289169311523 and parameters: {'lr': 0.036025698781827875, 'epochs': 1036, 'sharpness': 0.4817745568308505, 'probs_noise_std': 0.08898569344656715, 'subsample_ratio': 0.27525493300263526}. Best is trial 33 with value: 0.019994378089904785.\n"
     ]
    },
    {
     "name": "stdout",
     "output_type": "stream",
     "text": [
      "Variant: up_max, Scores: [1.016 1.026 1.005 1.012 1.015 1.05  1.032 1.009 1.012 1.01  1.01 ], Mean Score: 1.0180\n"
     ]
    },
    {
     "name": "stderr",
     "output_type": "stream",
     "text": [
      "[I 2025-07-02 19:24:18,711] Trial 53 finished with value: 0.01918013021349907 and parameters: {'lr': 0.0553549429744645, 'epochs': 1155, 'sharpness': 0.8842547383128192, 'probs_noise_std': 0.4322569986318404, 'subsample_ratio': 0.35884564260840945}. Best is trial 33 with value: 0.019994378089904785.\n"
     ]
    },
    {
     "name": "stdout",
     "output_type": "stream",
     "text": [
      "Variant: up_max, Scores: [1.019 1.03  1.006 1.011 1.015 1.053 1.037 1.013 1.013 1.009 1.009], Mean Score: 1.0195\n"
     ]
    },
    {
     "name": "stderr",
     "output_type": "stream",
     "text": [
      "[I 2025-07-02 19:25:05,378] Trial 54 finished with value: 0.017662763595581055 and parameters: {'lr': 0.02180684947022921, 'epochs': 1334, 'sharpness': 2.1583970604464304, 'probs_noise_std': 0.1624466487439118, 'subsample_ratio': 0.2314263140725064}. Best is trial 33 with value: 0.019994378089904785.\n"
     ]
    },
    {
     "name": "stdout",
     "output_type": "stream",
     "text": [
      "Variant: up_max, Scores: [1.016 1.026 1.004 1.014 1.014 1.055 1.025 1.01  1.012 1.01  1.01 ], Mean Score: 1.0179\n"
     ]
    },
    {
     "name": "stderr",
     "output_type": "stream",
     "text": [
      "[I 2025-07-02 19:26:04,574] Trial 55 finished with value: 0.017456190660595894 and parameters: {'lr': 0.09740381273529264, 'epochs': 1699, 'sharpness': 1.6424317669789568, 'probs_noise_std': 0.25402731672711315, 'subsample_ratio': 0.6132968507748798}. Best is trial 33 with value: 0.019994378089904785.\n"
     ]
    },
    {
     "name": "stdout",
     "output_type": "stream",
     "text": [
      "Variant: up_max, Scores: [1.019 1.03  1.003 1.011 1.014 1.049 1.028 1.014 1.011 1.008 1.008], Mean Score: 1.0177\n"
     ]
    },
    {
     "name": "stderr",
     "output_type": "stream",
     "text": [
      "[I 2025-07-02 19:26:55,820] Trial 56 finished with value: 0.018912987783551216 and parameters: {'lr': 0.0072859538880110245, 'epochs': 1461, 'sharpness': 1.0791451655960094, 'probs_noise_std': 0.3166937080026276, 'subsample_ratio': 0.45787583978054536}. Best is trial 33 with value: 0.019994378089904785.\n"
     ]
    },
    {
     "name": "stdout",
     "output_type": "stream",
     "text": [
      "Variant: up_max, Scores: [1.017 1.025 1.005 1.012 1.016 1.051 1.046 1.012 1.012 1.006 1.009], Mean Score: 1.0192\n"
     ]
    },
    {
     "name": "stderr",
     "output_type": "stream",
     "text": [
      "[I 2025-07-02 19:27:39,631] Trial 57 finished with value: 0.01681043580174446 and parameters: {'lr': 0.01588833348340052, 'epochs': 1254, 'sharpness': 2.7364935782457205, 'probs_noise_std': 0.19822249007371548, 'subsample_ratio': 0.8402698479059195}. Best is trial 33 with value: 0.019994378089904785.\n"
     ]
    },
    {
     "name": "stdout",
     "output_type": "stream",
     "text": [
      "Variant: up_max, Scores: [1.02  1.024 1.005 1.013 1.012 1.051 1.029 1.011 1.008 1.007 1.008], Mean Score: 1.0170\n"
     ]
    },
    {
     "name": "stderr",
     "output_type": "stream",
     "text": [
      "[I 2025-07-02 19:28:17,397] Trial 58 finished with value: 0.018151216208934784 and parameters: {'lr': 0.0705474734656647, 'epochs': 1078, 'sharpness': 0.5611475307919146, 'probs_noise_std': 0.10444479916009716, 'subsample_ratio': 0.6556501483699889}. Best is trial 33 with value: 0.019994378089904785.\n"
     ]
    },
    {
     "name": "stdout",
     "output_type": "stream",
     "text": [
      "Variant: up_max, Scores: [1.018 1.028 1.002 1.011 1.012 1.052 1.041 1.011 1.007 1.01  1.01 ], Mean Score: 1.0184\n"
     ]
    },
    {
     "name": "stderr",
     "output_type": "stream",
     "text": [
      "[I 2025-07-02 19:29:14,538] Trial 59 finished with value: 0.017466850578784943 and parameters: {'lr': 0.03220566578439485, 'epochs': 1622, 'sharpness': 0.258312583032867, 'probs_noise_std': 0.045432862083658404, 'subsample_ratio': 0.7257184230533636}. Best is trial 33 with value: 0.019994378089904785.\n"
     ]
    },
    {
     "name": "stdout",
     "output_type": "stream",
     "text": [
      "Variant: up_max, Scores: [1.025 1.027 1.003 1.011 1.015 1.047 1.029 1.01  1.008 1.011 1.009], Mean Score: 1.0177\n"
     ]
    },
    {
     "name": "stderr",
     "output_type": "stream",
     "text": [
      "[I 2025-07-02 19:30:07,141] Trial 60 finished with value: 0.017434000968933105 and parameters: {'lr': 0.01497562269550035, 'epochs': 1502, 'sharpness': 0.09563675050709473, 'probs_noise_std': 0.554846508706028, 'subsample_ratio': 0.531761422994596}. Best is trial 33 with value: 0.019994378089904785.\n"
     ]
    },
    {
     "name": "stdout",
     "output_type": "stream",
     "text": [
      "Variant: up_max, Scores: [1.021 1.025 1.002 1.013 1.017 1.043 1.031 1.011 1.011 1.009 1.01 ], Mean Score: 1.0176\n"
     ]
    },
    {
     "name": "stderr",
     "output_type": "stream",
     "text": [
      "[I 2025-07-02 19:30:57,998] Trial 61 finished with value: 0.017913473770022392 and parameters: {'lr': 0.010736393977040204, 'epochs': 1440, 'sharpness': 2.0071413416005615, 'probs_noise_std': 0.576787472371834, 'subsample_ratio': 0.7680701379270455}. Best is trial 33 with value: 0.019994378089904785.\n"
     ]
    },
    {
     "name": "stdout",
     "output_type": "stream",
     "text": [
      "Variant: up_max, Scores: [1.017 1.028 1.002 1.009 1.015 1.056 1.04  1.011 1.012 1.005 1.006], Mean Score: 1.0182\n"
     ]
    },
    {
     "name": "stderr",
     "output_type": "stream",
     "text": [
      "[I 2025-07-02 19:31:45,584] Trial 62 finished with value: 0.01821085624396801 and parameters: {'lr': 0.01790521382233581, 'epochs': 1360, 'sharpness': 1.2512583299127493, 'probs_noise_std': 0.6307367974348504, 'subsample_ratio': 0.7175169068152016}. Best is trial 33 with value: 0.019994378089904785.\n"
     ]
    },
    {
     "name": "stdout",
     "output_type": "stream",
     "text": [
      "Variant: up_max, Scores: [1.02  1.027 1.005 1.011 1.015 1.055 1.03  1.011 1.013 1.009 1.009], Mean Score: 1.0185\n"
     ]
    },
    {
     "name": "stderr",
     "output_type": "stream",
     "text": [
      "[I 2025-07-02 19:32:26,773] Trial 63 finished with value: 0.018201399594545364 and parameters: {'lr': 0.04894329158168227, 'epochs': 1179, 'sharpness': 2.2280145621157814, 'probs_noise_std': 0.7727368053983392, 'subsample_ratio': 0.9244606382311887}. Best is trial 33 with value: 0.019994378089904785.\n"
     ]
    },
    {
     "name": "stdout",
     "output_type": "stream",
     "text": [
      "Variant: up_max, Scores: [1.023 1.027 1.001 1.015 1.013 1.053 1.034 1.011 1.011 1.008 1.006], Mean Score: 1.0185\n"
     ]
    },
    {
     "name": "stderr",
     "output_type": "stream",
     "text": [
      "[I 2025-07-02 19:33:12,506] Trial 64 finished with value: 0.017233120277523994 and parameters: {'lr': 0.03020497596446033, 'epochs': 1307, 'sharpness': 5.336567405483041, 'probs_noise_std': 0.6821078289338656, 'subsample_ratio': 0.6957750790653171}. Best is trial 33 with value: 0.019994378089904785.\n"
     ]
    },
    {
     "name": "stdout",
     "output_type": "stream",
     "text": [
      "Variant: up_max, Scores: [1.025 1.025 1.002 1.009 1.014 1.059 1.022 1.011 1.012 1.005 1.009], Mean Score: 1.0175\n"
     ]
    },
    {
     "name": "stderr",
     "output_type": "stream",
     "text": [
      "[I 2025-07-02 19:33:55,918] Trial 65 finished with value: 0.018695378676056862 and parameters: {'lr': 0.02188090860913422, 'epochs': 1232, 'sharpness': 3.2011940813137287, 'probs_noise_std': 0.3818902708616405, 'subsample_ratio': 0.3817664100492225}. Best is trial 33 with value: 0.019994378089904785.\n"
     ]
    },
    {
     "name": "stdout",
     "output_type": "stream",
     "text": [
      "Variant: up_max, Scores: [1.023 1.028 1.004 1.01  1.015 1.053 1.035 1.011 1.011 1.008 1.01 ], Mean Score: 1.0190\n"
     ]
    },
    {
     "name": "stderr",
     "output_type": "stream",
     "text": [
      "[I 2025-07-02 19:34:49,584] Trial 66 finished with value: 0.01700267568230629 and parameters: {'lr': 0.0006190640778400033, 'epochs': 1528, 'sharpness': 0.3964032315152758, 'probs_noise_std': 0.4534453714156436, 'subsample_ratio': 0.2919397940248183}. Best is trial 33 with value: 0.019994378089904785.\n"
     ]
    },
    {
     "name": "stdout",
     "output_type": "stream",
     "text": [
      "Variant: up_max, Scores: [1.026 1.025 1.001 1.013 1.019 1.035 1.026 1.011 1.01  1.01  1.013], Mean Score: 1.0172\n"
     ]
    },
    {
     "name": "stderr",
     "output_type": "stream",
     "text": [
      "[I 2025-07-02 19:35:39,397] Trial 67 finished with value: 0.018415218219161034 and parameters: {'lr': 0.05561434264063522, 'epochs': 1414, 'sharpness': 1.5198594991981282, 'probs_noise_std': 0.1742531629052228, 'subsample_ratio': 0.49101864995530686}. Best is trial 33 with value: 0.019994378089904785.\n"
     ]
    },
    {
     "name": "stdout",
     "output_type": "stream",
     "text": [
      "Variant: up_max, Scores: [1.019 1.027 1.006 1.012 1.015 1.049 1.043 1.009 1.009 1.008 1.009], Mean Score: 1.0187\n"
     ]
    },
    {
     "name": "stderr",
     "output_type": "stream",
     "text": [
      "[I 2025-07-02 19:36:12,799] Trial 68 finished with value: 0.018281660974025726 and parameters: {'lr': 0.06590897059872945, 'epochs': 952, 'sharpness': 0.7585517526470563, 'probs_noise_std': 0.49659481588950793, 'subsample_ratio': 0.8573142713553312}. Best is trial 33 with value: 0.019994378089904785.\n"
     ]
    },
    {
     "name": "stdout",
     "output_type": "stream",
     "text": [
      "Variant: up_max, Scores: [1.02  1.026 1.005 1.014 1.014 1.05  1.038 1.011 1.011 1.008 1.007], Mean Score: 1.0185\n"
     ]
    },
    {
     "name": "stderr",
     "output_type": "stream",
     "text": [
      "[I 2025-07-02 19:36:59,868] Trial 69 finished with value: 0.017099127173423767 and parameters: {'lr': 0.004321689716200857, 'epochs': 1338, 'sharpness': 0.9386201872742221, 'probs_noise_std': 0.5930996000545183, 'subsample_ratio': 0.4230998457166066}. Best is trial 33 with value: 0.019994378089904785.\n"
     ]
    },
    {
     "name": "stdout",
     "output_type": "stream",
     "text": [
      "Variant: up_max, Scores: [1.012 1.03  1.002 1.011 1.015 1.048 1.033 1.011 1.012 1.007 1.009], Mean Score: 1.0173\n"
     ]
    },
    {
     "name": "stderr",
     "output_type": "stream",
     "text": [
      "[I 2025-07-02 19:37:51,046] Trial 70 finished with value: 0.01671574078500271 and parameters: {'lr': 0.002081987845469905, 'epochs': 1475, 'sharpness': 0.135352814282316, 'probs_noise_std': 0.4133536794684009, 'subsample_ratio': 0.14592728653738624}. Best is trial 33 with value: 0.019994378089904785.\n"
     ]
    },
    {
     "name": "stdout",
     "output_type": "stream",
     "text": [
      "Variant: up_max, Scores: [1.026 1.025 1.002 1.012 1.019 1.03  1.026 1.01  1.012 1.01  1.013], Mean Score: 1.0169\n"
     ]
    },
    {
     "name": "stderr",
     "output_type": "stream",
     "text": [
      "[I 2025-07-02 19:38:31,685] Trial 71 finished with value: 0.0184844508767128 and parameters: {'lr': 0.08123273975614761, 'epochs': 1162, 'sharpness': 0.8749760443276103, 'probs_noise_std': 0.43565931080293135, 'subsample_ratio': 0.3633652424798234}. Best is trial 33 with value: 0.019994378089904785.\n"
     ]
    },
    {
     "name": "stdout",
     "output_type": "stream",
     "text": [
      "Variant: up_max, Scores: [1.024 1.024 1.002 1.014 1.016 1.053 1.033 1.01  1.013 1.008 1.009], Mean Score: 1.0187\n"
     ]
    },
    {
     "name": "stderr",
     "output_type": "stream",
     "text": [
      "[I 2025-07-02 19:39:10,819] Trial 72 finished with value: 0.01956816576421261 and parameters: {'lr': 0.05384668167227295, 'epochs': 1124, 'sharpness': 1.0023357294361488, 'probs_noise_std': 0.5231476635103876, 'subsample_ratio': 0.3174297407167754}. Best is trial 33 with value: 0.019994378089904785.\n"
     ]
    },
    {
     "name": "stdout",
     "output_type": "stream",
     "text": [
      "Variant: up_max, Scores: [1.016 1.029 1.004 1.011 1.018 1.06  1.038 1.014 1.013 1.008 1.009], Mean Score: 1.0199\n"
     ]
    },
    {
     "name": "stderr",
     "output_type": "stream",
     "text": [
      "[I 2025-07-02 19:39:49,303] Trial 73 finished with value: 0.01768871210515499 and parameters: {'lr': 0.036519448041079275, 'epochs': 1113, 'sharpness': 1.111728730972685, 'probs_noise_std': 0.06767640831803368, 'subsample_ratio': 0.800079725505645}. Best is trial 33 with value: 0.019994378089904785.\n"
     ]
    },
    {
     "name": "stdout",
     "output_type": "stream",
     "text": [
      "Variant: up_max, Scores: [1.021 1.026 1.003 1.009 1.014 1.049 1.037 1.009 1.013 1.007 1.01 ], Mean Score: 1.0179\n"
     ]
    },
    {
     "name": "stderr",
     "output_type": "stream",
     "text": [
      "[I 2025-07-02 19:40:31,278] Trial 74 finished with value: 0.019764108583331108 and parameters: {'lr': 0.04828976848740216, 'epochs': 1207, 'sharpness': 1.6946754942779063, 'probs_noise_std': 0.5487906993898325, 'subsample_ratio': 0.3248618494857484}. Best is trial 33 with value: 0.019994378089904785.\n"
     ]
    },
    {
     "name": "stdout",
     "output_type": "stream",
     "text": [
      "Variant: up_max, Scores: [1.026 1.028 1.003 1.01  1.016 1.053 1.04  1.012 1.013 1.01  1.009], Mean Score: 1.0201\n"
     ]
    },
    {
     "name": "stderr",
     "output_type": "stream",
     "text": [
      "[I 2025-07-02 19:41:13,323] Trial 75 finished with value: 0.018810413777828217 and parameters: {'lr': 0.04657066622669293, 'epochs': 1201, 'sharpness': 1.7134122107929215, 'probs_noise_std': 0.5394308448398147, 'subsample_ratio': 0.30166494249164744}. Best is trial 33 with value: 0.019994378089904785.\n"
     ]
    },
    {
     "name": "stdout",
     "output_type": "stream",
     "text": [
      "Variant: up_max, Scores: [1.023 1.026 1.004 1.012 1.017 1.054 1.032 1.012 1.014 1.009 1.007], Mean Score: 1.0191\n"
     ]
    },
    {
     "name": "stderr",
     "output_type": "stream",
     "text": [
      "[I 2025-07-02 19:41:51,102] Trial 76 finished with value: 0.01891282945871353 and parameters: {'lr': 0.05913481273236876, 'epochs': 1080, 'sharpness': 0.6704116387502762, 'probs_noise_std': 0.4873092690072081, 'subsample_ratio': 0.322014350203394}. Best is trial 33 with value: 0.019994378089904785.\n"
     ]
    },
    {
     "name": "stdout",
     "output_type": "stream",
     "text": [
      "Variant: up_max, Scores: [1.018 1.031 1.003 1.013 1.015 1.056 1.032 1.015 1.013 1.007 1.008], Mean Score: 1.0192\n"
     ]
    },
    {
     "name": "stderr",
     "output_type": "stream",
     "text": [
      "[I 2025-07-02 19:42:27,347] Trial 77 finished with value: 0.01903364434838295 and parameters: {'lr': 0.026790841906664285, 'epochs': 1032, 'sharpness': 0.554317252002314, 'probs_noise_std': 0.5227635315212713, 'subsample_ratio': 0.25717071826306787}. Best is trial 33 with value: 0.019994378089904785.\n"
     ]
    },
    {
     "name": "stdout",
     "output_type": "stream",
     "text": [
      "Variant: up_max, Scores: [1.019 1.029 1.003 1.012 1.015 1.056 1.035 1.013 1.013 1.008 1.009], Mean Score: 1.0193\n"
     ]
    },
    {
     "name": "stderr",
     "output_type": "stream",
     "text": [
      "[I 2025-07-02 19:43:11,659] Trial 78 finished with value: 0.01735936850309372 and parameters: {'lr': 0.08262379071658542, 'epochs': 1258, 'sharpness': 1.434296831115349, 'probs_noise_std': 0.6586475668644163, 'subsample_ratio': 0.20548514704545304}. Best is trial 33 with value: 0.019994378089904785.\n"
     ]
    },
    {
     "name": "stdout",
     "output_type": "stream",
     "text": [
      "Variant: up_max, Scores: [1.022 1.032 1.002 1.01  1.015 1.043 1.029 1.011 1.01  1.008 1.011], Mean Score: 1.0176\n"
     ]
    },
    {
     "name": "stderr",
     "output_type": "stream",
     "text": [
      "[I 2025-07-02 19:43:57,460] Trial 79 finished with value: 0.015454966574907303 and parameters: {'lr': 0.032178282852359116, 'epochs': 1303, 'sharpness': 46.43901557441541, 'probs_noise_std': 0.3372927226852648, 'subsample_ratio': 0.9993114034135127}. Best is trial 33 with value: 0.019994378089904785.\n"
     ]
    },
    {
     "name": "stdout",
     "output_type": "stream",
     "text": [
      "Variant: up_max, Scores: [1.019 1.03  1.002 1.009 1.016 1.045 1.011 1.012 1.007 1.01  1.011], Mean Score: 1.0156\n"
     ]
    },
    {
     "name": "stderr",
     "output_type": "stream",
     "text": [
      "[I 2025-07-02 19:44:32,035] Trial 80 finished with value: 0.018690330907702446 and parameters: {'lr': 0.043687462537308215, 'epochs': 977, 'sharpness': 0.41252779045814525, 'probs_noise_std': 0.23761076010522203, 'subsample_ratio': 0.39082660694713955}. Best is trial 33 with value: 0.019994378089904785.\n"
     ]
    },
    {
     "name": "stdout",
     "output_type": "stream",
     "text": [
      "Variant: up_max, Scores: [1.018 1.025 1.005 1.012 1.016 1.057 1.034 1.012 1.01  1.01  1.01 ], Mean Score: 1.0190\n"
     ]
    },
    {
     "name": "stderr",
     "output_type": "stream",
     "text": [
      "[I 2025-07-02 19:45:14,196] Trial 81 finished with value: 0.016338324174284935 and parameters: {'lr': 0.024449357942283416, 'epochs': 1206, 'sharpness': 2.779493248369208, 'probs_noise_std': 0.5977666948996732, 'subsample_ratio': 0.3270674777896275}. Best is trial 33 with value: 0.019994378089904785.\n"
     ]
    },
    {
     "name": "stdout",
     "output_type": "stream",
     "text": [
      "Variant: up_max, Scores: [1.019 1.027 1.001 1.016 1.017 1.049 1.018 1.012 1.007 1.007 1.008], Mean Score: 1.0165\n"
     ]
    },
    {
     "name": "stderr",
     "output_type": "stream",
     "text": [
      "[I 2025-07-02 19:46:02,933] Trial 82 finished with value: 0.01798347197473049 and parameters: {'lr': 0.0002340152865780888, 'epochs': 1400, 'sharpness': 2.3473431961236844, 'probs_noise_std': 0.4777751207994389, 'subsample_ratio': 0.5780274460374878}. Best is trial 33 with value: 0.019994378089904785.\n"
     ]
    },
    {
     "name": "stdout",
     "output_type": "stream",
     "text": [
      "Variant: up_max, Scores: [1.025 1.026 1.002 1.012 1.016 1.045 1.027 1.012 1.012 1.012 1.012], Mean Score: 1.0182\n"
     ]
    },
    {
     "name": "stderr",
     "output_type": "stream",
     "text": [
      "[I 2025-07-02 19:46:51,423] Trial 83 finished with value: 0.018973462283611298 and parameters: {'lr': 0.03553485541623598, 'epochs': 1377, 'sharpness': 1.8755756915904858, 'probs_noise_std': 0.12729957461319902, 'subsample_ratio': 0.23218768411017365}. Best is trial 33 with value: 0.019994378089904785.\n"
     ]
    },
    {
     "name": "stdout",
     "output_type": "stream",
     "text": [
      "Variant: up_max, Scores: [1.02  1.029 1.003 1.015 1.016 1.05  1.041 1.009 1.011 1.01  1.009], Mean Score: 1.0193\n"
     ]
    },
    {
     "name": "stderr",
     "output_type": "stream",
     "text": [
      "[I 2025-07-02 19:47:31,292] Trial 84 finished with value: 0.019266096875071526 and parameters: {'lr': 0.052063568214948154, 'epochs': 1132, 'sharpness': 1.2263897922104618, 'probs_noise_std': 0.5155084986223387, 'subsample_ratio': 0.4456740489423327}. Best is trial 33 with value: 0.019994378089904785.\n"
     ]
    },
    {
     "name": "stdout",
     "output_type": "stream",
     "text": [
      "Variant: up_max, Scores: [1.022 1.03  1.003 1.011 1.015 1.052 1.04  1.011 1.012 1.008 1.01 ], Mean Score: 1.0196\n",
      "\n",
      "Trials DataFrame:\n",
      "    number     value             datetime_start          datetime_complete               duration  params_epochs  params_lr  params_probs_noise_std  params_sharpness  params_subsample_ratio     state\n",
      "9        9  0.012180 2025-07-02 18:52:03.786862 2025-07-02 18:53:00.464887 0 days 00:00:56.678025           1454   0.094627                0.508184         36.034784                0.154299  COMPLETE\n",
      "2        2  0.012672 2025-07-02 18:48:30.783729 2025-07-02 18:48:42.749130 0 days 00:00:11.965401            294   0.013379                0.823548          5.664302                0.054618  COMPLETE\n",
      "8        8  0.013165 2025-07-02 18:51:41.419409 2025-07-02 18:52:03.786263 0 days 00:00:22.366854            564   0.000569                0.233947          0.071365                0.414496  COMPLETE\n",
      "11      11  0.014507 2025-07-02 18:54:08.321105 2025-07-02 18:54:48.008454 0 days 00:00:39.687349           1013   0.000125                0.002443          0.488968                0.955843  COMPLETE\n",
      "0        0  0.015307 2025-07-02 18:47:18.973605 2025-07-02 18:47:39.472598 0 days 00:00:20.498993            512   0.043630                0.779363          7.085560                0.247428  COMPLETE\n",
      "79      79  0.015455 2025-07-02 19:43:11.660666 2025-07-02 19:43:57.460554 0 days 00:00:45.799888           1303   0.032178                0.337293         46.439016                0.999311  COMPLETE\n",
      "35      35  0.015686 2025-07-02 19:11:22.936096 2025-07-02 19:11:36.616054 0 days 00:00:13.679958            381   0.039717                0.276042          4.381857                0.073582  COMPLETE\n",
      "27      27  0.015893 2025-07-02 19:05:47.685637 2025-07-02 19:06:25.168475 0 days 00:00:37.482838           1069   0.001305                0.124208          0.140480                0.904011  COMPLETE\n",
      "29      29  0.016102 2025-07-02 19:06:58.391365 2025-07-02 19:07:24.398279 0 days 00:00:26.006914            741   0.038794                0.153982          7.676583                0.272816  COMPLETE\n",
      "18      18  0.016215 2025-07-02 18:58:51.744739 2025-07-02 18:59:53.796925 0 days 00:01:02.052186           1785   0.009061                0.980798          0.057033                0.799513  COMPLETE\n",
      "81      81  0.016338 2025-07-02 19:44:32.035731 2025-07-02 19:45:14.196870 0 days 00:00:42.161139           1206   0.024449                0.597767          2.779493                0.327067  COMPLETE\n",
      "30      30  0.016600 2025-07-02 19:07:24.398279 2025-07-02 19:08:22.295122 0 days 00:00:57.896843           1663   0.004983                0.500998          0.091395                0.393437  COMPLETE\n",
      "44      44  0.016609 2025-07-02 19:17:24.428622 2025-07-02 19:17:27.563530 0 days 00:00:03.134908             76   0.074253                0.459082          0.394382                0.242781  COMPLETE\n",
      "17      17  0.016666 2025-07-02 18:58:22.347259 2025-07-02 18:58:51.744739 0 days 00:00:29.397480            841   0.002107                0.599239          0.239061                0.392496  COMPLETE\n",
      "3        3  0.016667 2025-07-02 18:48:42.750137 2025-07-02 18:49:06.976982 0 days 00:00:24.226845            615   0.003781                0.342955          0.163439                0.560146  COMPLETE\n",
      "70      70  0.016716 2025-07-02 19:36:59.868486 2025-07-02 19:37:51.046565 0 days 00:00:51.178079           1475   0.002082                0.413354          0.135353                0.145927  COMPLETE\n",
      "57      57  0.016810 2025-07-02 19:26:55.835472 2025-07-02 19:27:39.631957 0 days 00:00:43.796485           1254   0.015888                0.198222          2.736494                0.840270  COMPLETE\n",
      "66      66  0.017003 2025-07-02 19:33:55.918301 2025-07-02 19:34:49.584655 0 days 00:00:53.666354           1528   0.000619                0.453445          0.396403                0.291940  COMPLETE\n",
      "69      69  0.017099 2025-07-02 19:36:12.799343 2025-07-02 19:36:59.868486 0 days 00:00:47.069143           1338   0.004322                0.593100          0.938620                0.423100  COMPLETE\n",
      "14      14  0.017107 2025-07-02 18:56:24.869151 2025-07-02 18:57:08.685104 0 days 00:00:43.815953           1116   0.030950                0.202905          2.088790                0.748974  COMPLETE\n",
      "51      51  0.017182 2025-07-02 19:22:12.255624 2025-07-02 19:23:02.031638 0 days 00:00:49.776014           1423   0.048918                0.208099          0.703950                0.350585  COMPLETE\n",
      "64      64  0.017233 2025-07-02 19:32:26.773976 2025-07-02 19:33:12.506677 0 days 00:00:45.732701           1307   0.030205                0.682108          5.336567                0.695775  COMPLETE\n",
      "38      38  0.017305 2025-07-02 19:13:04.824915 2025-07-02 19:13:59.110189 0 days 00:00:54.285274           1552   0.039644                0.681412          0.341808                0.978150  COMPLETE\n",
      "19      19  0.017343 2025-07-02 18:59:53.796925 2025-07-02 19:00:48.549896 0 days 00:00:54.752971           1576   0.060285                0.124622         19.246803                0.641763  COMPLETE\n",
      "37      37  0.017353 2025-07-02 19:12:15.587521 2025-07-02 19:13:04.824915 0 days 00:00:49.237394           1398   0.012793                0.564183          0.209049                0.521402  COMPLETE\n",
      "78      78  0.017359 2025-07-02 19:42:27.347449 2025-07-02 19:43:11.659666 0 days 00:00:44.312217           1258   0.082624                0.658648          1.434297                0.205485  COMPLETE\n",
      "40      40  0.017371 2025-07-02 19:14:40.316370 2025-07-02 19:15:25.047229 0 days 00:00:44.730859           1279   0.095786                0.433339          2.700850                0.605096  COMPLETE\n",
      "4        4  0.017395 2025-07-02 18:49:06.976982 2025-07-02 18:49:53.499747 0 days 00:00:46.522765           1187   0.002572                0.741233          0.812267                0.868461  COMPLETE\n",
      "43      43  0.017404 2025-07-02 19:16:49.114199 2025-07-02 19:17:24.428622 0 days 00:00:35.314423           1006   0.024188                0.522775          0.605995                0.211812  COMPLETE\n",
      "60      60  0.017434 2025-07-02 19:29:14.539403 2025-07-02 19:30:07.141333 0 days 00:00:52.601930           1502   0.014976                0.554847          0.095637                0.531761  COMPLETE\n",
      "22      22  0.017437 2025-07-02 19:02:14.537435 2025-07-02 19:02:53.455833 0 days 00:00:38.918398           1094   0.057132                0.329840          4.055642                0.556666  COMPLETE\n",
      "55      55  0.017456 2025-07-02 19:25:05.378936 2025-07-02 19:26:04.574700 0 days 00:00:59.195764           1699   0.097404                0.254027          1.642432                0.613297  COMPLETE\n",
      "59      59  0.017467 2025-07-02 19:28:17.397603 2025-07-02 19:29:14.537843 0 days 00:00:57.140240           1622   0.032206                0.045433          0.258313                0.725718  COMPLETE\n",
      "16      16  0.017487 2025-07-02 18:57:35.613602 2025-07-02 18:58:22.347259 0 days 00:00:46.733657           1343   0.028309                0.309181          1.703915                0.814793  COMPLETE\n",
      "6        6  0.017575 2025-07-02 18:50:01.638238 2025-07-02 18:51:03.246413 0 days 00:01:01.608175           1579   0.009824                0.719969          0.122483                0.609978  COMPLETE\n",
      "15      15  0.017592 2025-07-02 18:57:08.685922 2025-07-02 18:57:35.612595 0 days 00:00:26.926673            768   0.005500                0.203648         12.662617                0.471859  COMPLETE\n",
      "28      28  0.017625 2025-07-02 19:06:25.168475 2025-07-02 19:06:58.391365 0 days 00:00:33.222890            946   0.000253                0.646331          1.386533                0.761267  COMPLETE\n",
      "5        5  0.017626 2025-07-02 18:49:53.503129 2025-07-02 18:50:01.638238 0 days 00:00:08.135109            198   0.000812                0.417359          3.278690                0.733001  COMPLETE\n",
      "46      46  0.017652 2025-07-02 19:18:15.856224 2025-07-02 19:19:08.912831 0 days 00:00:53.056607           1517   0.042775                0.617876          3.708015                0.114792  COMPLETE\n",
      "54      54  0.017663 2025-07-02 19:24:18.711106 2025-07-02 19:25:05.378936 0 days 00:00:46.667830           1334   0.021807                0.162447          2.158397                0.231426  COMPLETE\n",
      "73      73  0.017689 2025-07-02 19:39:10.820500 2025-07-02 19:39:49.303565 0 days 00:00:38.483065           1113   0.036519                0.067676          1.111729                0.800080  COMPLETE\n",
      "52      52  0.017734 2025-07-02 19:23:02.031638 2025-07-02 19:23:38.289176 0 days 00:00:36.257538           1036   0.036026                0.088986          0.481775                0.275255  COMPLETE\n",
      "36      36  0.017762 2025-07-02 19:11:36.616054 2025-07-02 19:12:15.587521 0 days 00:00:38.971467           1122   0.072863                0.849861          0.649139                0.193892  COMPLETE\n",
      "24      24  0.017862 2025-07-02 19:03:43.778889 2025-07-02 19:04:26.342187 0 days 00:00:42.563298           1217   0.006519                0.153868          0.306520                0.832139  COMPLETE\n",
      "61      61  0.017913 2025-07-02 19:30:07.141333 2025-07-02 19:30:57.998937 0 days 00:00:50.857604           1440   0.010736                0.576787          2.007141                0.768070  COMPLETE\n",
      "82      82  0.017983 2025-07-02 19:45:14.197867 2025-07-02 19:46:02.933287 0 days 00:00:48.735420           1400   0.000234                0.477775          2.347343                0.578027  COMPLETE\n",
      "58      58  0.018151 2025-07-02 19:27:39.631957 2025-07-02 19:28:17.397603 0 days 00:00:37.765646           1078   0.070547                0.104445          0.561148                0.655650  COMPLETE\n",
      "63      63  0.018201 2025-07-02 19:31:45.584230 2025-07-02 19:32:26.773976 0 days 00:00:41.189746           1179   0.048943                0.772737          2.228015                0.924461  COMPLETE\n",
      "62      62  0.018211 2025-07-02 19:30:57.999945 2025-07-02 19:31:45.584230 0 days 00:00:47.584285           1360   0.017905                0.630737          1.251258                0.717517  COMPLETE\n",
      "68      68  0.018282 2025-07-02 19:35:39.398908 2025-07-02 19:36:12.799343 0 days 00:00:33.400435            952   0.065909                0.496595          0.758552                0.857314  COMPLETE\n",
      "25      25  0.018285 2025-07-02 19:04:26.342187 2025-07-02 19:04:55.673206 0 days 00:00:29.331019            833   0.061099                0.271282          1.106653                0.562732  COMPLETE\n",
      "39      39  0.018336 2025-07-02 19:13:59.110189 2025-07-02 19:14:40.316370 0 days 00:00:41.206181           1195   0.009180                0.383197          1.131175                0.028799  COMPLETE\n",
      "45      45  0.018346 2025-07-02 19:17:27.563530 2025-07-02 19:18:15.856224 0 days 00:00:48.292694           1384   0.012770                0.534271          1.814683                0.690273  COMPLETE\n",
      "67      67  0.018415 2025-07-02 19:34:49.584655 2025-07-02 19:35:39.397870 0 days 00:00:49.813215           1414   0.055614                0.174253          1.519859                0.491019  COMPLETE\n",
      "71      71  0.018484 2025-07-02 19:37:51.046565 2025-07-02 19:38:31.685522 0 days 00:00:40.638957           1162   0.081233                0.435659          0.874976                0.363365  COMPLETE\n",
      "50      50  0.018522 2025-07-02 19:21:16.263292 2025-07-02 19:22:12.255624 0 days 00:00:55.992332           1598   0.075010                0.295093          0.193570                0.786927  COMPLETE\n",
      "10      10  0.018563 2025-07-02 18:53:00.464887 2025-07-02 18:54:08.319949 0 days 00:01:07.855062           1743   0.017036                0.030573          0.761611                0.906099  COMPLETE\n",
      "42      42  0.018589 2025-07-02 19:16:08.692775 2025-07-02 19:16:49.114199 0 days 00:00:40.421424           1146   0.031161                0.350314          0.951346                0.338012  COMPLETE\n",
      "32      32  0.018648 2025-07-02 19:09:07.974486 2025-07-02 19:09:50.404217 0 days 00:00:42.429731           1218   0.019018                0.487190          0.839218                0.116035  COMPLETE\n",
      "26      26  0.018657 2025-07-02 19:04:55.673206 2025-07-02 19:05:47.685637 0 days 00:00:52.012431           1487   0.012733                0.389829          0.458788                0.473806  COMPLETE\n",
      "80      80  0.018690 2025-07-02 19:43:57.460554 2025-07-02 19:44:32.035731 0 days 00:00:34.575177            977   0.043687                0.237611          0.412528                0.390827  COMPLETE\n",
      "31      31  0.018693 2025-07-02 19:08:22.295122 2025-07-02 19:09:07.974486 0 days 00:00:45.679364           1307   0.026089                0.408590          2.606542                0.327546  COMPLETE\n",
      "65      65  0.018695 2025-07-02 19:33:12.506677 2025-07-02 19:33:55.918301 0 days 00:00:43.411624           1232   0.021881                0.381890          3.201194                0.381766  COMPLETE\n",
      "34      34  0.018710 2025-07-02 19:10:35.164733 2025-07-02 19:11:22.936096 0 days 00:00:47.771363           1357   0.048217                0.083308          6.340558                0.175746  COMPLETE\n",
      "47      47  0.018799 2025-07-02 19:19:08.912831 2025-07-02 19:19:40.404234 0 days 00:00:31.491403            899   0.025973                0.234140          8.356311                0.435139  COMPLETE\n",
      "75      75  0.018810 2025-07-02 19:40:31.278201 2025-07-02 19:41:13.323527 0 days 00:00:42.045326           1201   0.046571                0.539431          1.713412                0.301665  COMPLETE\n",
      "7        7  0.018904 2025-07-02 18:51:03.246413 2025-07-02 18:51:41.417782 0 days 00:00:38.171369            986   0.096800                0.017816          0.296953                0.673392  COMPLETE\n",
      "76      76  0.018913 2025-07-02 19:41:13.323527 2025-07-02 19:41:51.102295 0 days 00:00:37.778768           1080   0.059135                0.487309          0.670412                0.322014  COMPLETE\n",
      "56      56  0.018913 2025-07-02 19:26:04.574700 2025-07-02 19:26:55.820113 0 days 00:00:51.245413           1461   0.007286                0.316694          1.079145                0.457876  COMPLETE\n",
      "41      41  0.018929 2025-07-02 19:15:25.047229 2025-07-02 19:16:08.692775 0 days 00:00:43.645546           1251   0.019836                0.469594          1.459165                0.299327  COMPLETE\n",
      "83      83  0.018973 2025-07-02 19:46:02.933287 2025-07-02 19:46:51.423388 0 days 00:00:48.490101           1377   0.035535                0.127300          1.875576                0.232188  COMPLETE\n",
      "48      48  0.018992 2025-07-02 19:19:40.404234 2025-07-02 19:20:25.368900 0 days 00:00:44.964666           1290   0.003053                0.361784          1.295804                0.875751  COMPLETE\n",
      "77      77  0.019034 2025-07-02 19:41:51.102295 2025-07-02 19:42:27.347449 0 days 00:00:36.245154           1032   0.026791                0.522764          0.554317                0.257171  COMPLETE\n",
      "1        1  0.019122 2025-07-02 18:47:39.476111 2025-07-02 18:48:30.782592 0 days 00:00:51.306481           1317   0.039619                0.056763          0.545695                0.967893  COMPLETE\n",
      "53      53  0.019180 2025-07-02 19:23:38.289176 2025-07-02 19:24:18.711106 0 days 00:00:40.421930           1155   0.055355                0.432257          0.884255                0.358846  COMPLETE\n",
      "23      23  0.019230 2025-07-02 19:02:53.455833 2025-07-02 19:03:43.778889 0 days 00:00:50.323056           1442   0.018259                0.578071          2.152776                0.705201  COMPLETE\n",
      "84      84  0.019266 2025-07-02 19:46:51.423388 2025-07-02 19:47:31.292168 0 days 00:00:39.868780           1132   0.052064                0.515508          1.226390                0.445674  COMPLETE\n",
      "21      21  0.019540 2025-07-02 19:01:30.073621 2025-07-02 19:02:14.537435 0 days 00:00:44.463814           1275   0.022566                0.469146          1.108666                0.308858  COMPLETE\n",
      "72      72  0.019568 2025-07-02 19:38:31.685522 2025-07-02 19:39:10.819963 0 days 00:00:39.134441           1124   0.053847                0.523148          1.002336                0.317430  COMPLETE\n",
      "49      49  0.019704 2025-07-02 19:20:25.384438 2025-07-02 19:21:16.263292 0 days 00:00:50.878854           1452   0.074282                0.280539          0.638340                0.362825  COMPLETE\n",
      "12      12  0.019730 2025-07-02 18:54:48.010492 2025-07-02 18:55:35.149763 0 days 00:00:47.139271           1215   0.052640                0.135423          0.248913                0.759255  COMPLETE\n",
      "20      20  0.019755 2025-07-02 19:00:48.549896 2025-07-02 19:01:30.073621 0 days 00:00:41.523725           1193   0.021056                0.458237          1.247398                0.527965  COMPLETE\n",
      "74      74  0.019764 2025-07-02 19:39:49.303565 2025-07-02 19:40:31.278201 0 days 00:00:41.974636           1207   0.048290                0.548791          1.694675                0.324862  COMPLETE\n",
      "13      13  0.019821 2025-07-02 18:55:35.149763 2025-07-02 18:56:24.869151 0 days 00:00:49.719388           1280   0.029972                0.205089          1.799928                0.801052  COMPLETE\n",
      "33      33  0.019994 2025-07-02 19:09:50.404217 2025-07-02 19:10:35.164733 0 days 00:00:44.760516           1285   0.047037                0.444432          1.171478                0.219832  COMPLETE\n"
     ]
    },
    {
     "name": "stderr",
     "output_type": "stream",
     "text": [
      "[I 2025-07-02 19:47:31,926] A new study created in memory with name: up_min\n"
     ]
    },
    {
     "name": "stdout",
     "output_type": "stream",
     "text": [
      "Parameter Importances:\n",
      "sharpness: 0.31993778442654514\n",
      "epochs: 0.30997256733340184\n",
      "subsample_ratio: 0.23051516129721258\n",
      "probs_noise_std: 0.09597180862952538\n",
      "lr: 0.04360267831331509\n"
     ]
    },
    {
     "name": "stderr",
     "output_type": "stream",
     "text": [
      "[I 2025-07-02 19:48:07,554] Trial 0 finished with value: 0.01062618289142847 and parameters: {'lr': 0.008402381973992007, 'epochs': 1024, 'sharpness': 1.3733033458075004, 'probs_noise_std': 0.25438539729234433, 'subsample_ratio': 0.9409931771499963}. Best is trial 0 with value: 0.01062618289142847.\n"
     ]
    },
    {
     "name": "stdout",
     "output_type": "stream",
     "text": [
      "Variant: up_min, Scores: [1.01  1.019 1.008 1.    1.004 1.011 1.046 1.007 1.006 1.005 1.002], Mean Score: 1.0108\n"
     ]
    },
    {
     "name": "stderr",
     "output_type": "stream",
     "text": [
      "[I 2025-07-02 19:48:49,662] Trial 1 finished with value: 0.010421616956591606 and parameters: {'lr': 0.015055679123000678, 'epochs': 1228, 'sharpness': 2.0990534155072678, 'probs_noise_std': 0.4021626613107995, 'subsample_ratio': 0.03478558189763276}. Best is trial 1 with value: 0.010421616956591606.\n"
     ]
    },
    {
     "name": "stdout",
     "output_type": "stream",
     "text": [
      "Variant: up_min, Scores: [1.016 1.026 1.01  0.996 1.004 1.012 1.03  1.008 1.007 1.002 1.004], Mean Score: 1.0105\n"
     ]
    },
    {
     "name": "stderr",
     "output_type": "stream",
     "text": [
      "[I 2025-07-02 19:49:27,197] Trial 2 finished with value: 0.011758673004806042 and parameters: {'lr': 0.002096601980289001, 'epochs': 1067, 'sharpness': 0.06000143251103468, 'probs_noise_std': 0.9877340693965815, 'subsample_ratio': 0.9577151898346116}. Best is trial 1 with value: 0.010421616956591606.\n"
     ]
    },
    {
     "name": "stdout",
     "output_type": "stream",
     "text": [
      "Variant: up_min, Scores: [1.017 1.022 1.003 0.996 1.004 1.023 1.042 1.007 1.008 1.005 1.005], Mean Score: 1.0119\n"
     ]
    },
    {
     "name": "stderr",
     "output_type": "stream",
     "text": [
      "[I 2025-07-02 19:49:59,130] Trial 3 finished with value: 0.010968774557113647 and parameters: {'lr': 0.07670252167279752, 'epochs': 910, 'sharpness': 0.09386423113161253, 'probs_noise_std': 0.8602213811028235, 'subsample_ratio': 0.08825692466985564}. Best is trial 1 with value: 0.010421616956591606.\n"
     ]
    },
    {
     "name": "stdout",
     "output_type": "stream",
     "text": [
      "Variant: up_min, Scores: [1.015 1.022 1.01  0.996 1.    1.013 1.054 1.006 1.005 1.001 1.001], Mean Score: 1.0111\n"
     ]
    },
    {
     "name": "stderr",
     "output_type": "stream",
     "text": [
      "[I 2025-07-02 19:50:35,930] Trial 4 finished with value: 0.011814595200121403 and parameters: {'lr': 0.008085651049445135, 'epochs': 1051, 'sharpness': 2.351807312238062, 'probs_noise_std': 0.7203041517548604, 'subsample_ratio': 0.9344231525516994}. Best is trial 1 with value: 0.010421616956591606.\n"
     ]
    },
    {
     "name": "stdout",
     "output_type": "stream",
     "text": [
      "Variant: up_min, Scores: [1.016 1.021 1.009 0.998 1.001 1.018 1.049 1.005 1.007 1.005 1.003], Mean Score: 1.0120\n"
     ]
    },
    {
     "name": "stderr",
     "output_type": "stream",
     "text": [
      "[I 2025-07-02 19:50:38,807] Trial 5 finished with value: 0.012641524896025658 and parameters: {'lr': 0.08525412477835465, 'epochs': 68, 'sharpness': 1.1371601820506003, 'probs_noise_std': 0.5814941053223793, 'subsample_ratio': 0.6222695005588622}. Best is trial 1 with value: 0.010421616956591606.\n"
     ]
    },
    {
     "name": "stdout",
     "output_type": "stream",
     "text": [
      "Variant: up_min, Scores: [1.02  1.023 1.006 0.996 1.002 1.01  1.056 1.012 1.008 1.006 1.005], Mean Score: 1.0128\n"
     ]
    },
    {
     "name": "stderr",
     "output_type": "stream",
     "text": [
      "[I 2025-07-02 19:51:18,452] Trial 6 finished with value: 0.013379525393247604 and parameters: {'lr': 0.00015830020631362826, 'epochs': 1132, 'sharpness': 48.45528583769218, 'probs_noise_std': 0.9426966351724814, 'subsample_ratio': 0.603977210788156}. Best is trial 1 with value: 0.010421616956591606.\n"
     ]
    },
    {
     "name": "stdout",
     "output_type": "stream",
     "text": [
      "Variant: up_min, Scores: [1.018 1.023 1.01  0.994 1.002 1.03  1.042 1.01  1.012 1.004 1.005], Mean Score: 1.0136\n"
     ]
    },
    {
     "name": "stderr",
     "output_type": "stream",
     "text": [
      "[I 2025-07-02 19:51:54,931] Trial 7 finished with value: 0.011586997658014297 and parameters: {'lr': 0.0003647884479260747, 'epochs': 1038, 'sharpness': 0.30880138512336575, 'probs_noise_std': 0.5802727728771646, 'subsample_ratio': 0.28738985253848015}. Best is trial 1 with value: 0.010421616956591606.\n"
     ]
    },
    {
     "name": "stdout",
     "output_type": "stream",
     "text": [
      "Variant: up_min, Scores: [1.019 1.021 1.003 0.996 1.002 1.021 1.044 1.007 1.007 1.004 1.004], Mean Score: 1.0117\n"
     ]
    },
    {
     "name": "stderr",
     "output_type": "stream",
     "text": [
      "[I 2025-07-02 19:52:55,333] Trial 8 finished with value: 0.012332477606832981 and parameters: {'lr': 0.0014723608974397287, 'epochs': 1739, 'sharpness': 49.88307255742379, 'probs_noise_std': 0.08667807582492948, 'subsample_ratio': 0.8349942914978157}. Best is trial 1 with value: 0.010421616956591606.\n"
     ]
    },
    {
     "name": "stdout",
     "output_type": "stream",
     "text": [
      "Variant: up_min, Scores: [1.008 1.02  1.009 0.995 0.997 1.027 1.052 1.009 1.01  1.005 1.004], Mean Score: 1.0125\n"
     ]
    },
    {
     "name": "stderr",
     "output_type": "stream",
     "text": [
      "[I 2025-07-02 19:53:33,665] Trial 9 finished with value: 0.010439630597829819 and parameters: {'lr': 0.0006052341851479704, 'epochs': 1093, 'sharpness': 0.3875111263638363, 'probs_noise_std': 0.052543228469958625, 'subsample_ratio': 0.2032889404545169}. Best is trial 1 with value: 0.010421616956591606.\n"
     ]
    },
    {
     "name": "stdout",
     "output_type": "stream",
     "text": [
      "Variant: up_min, Scores: [1.014 1.02  1.001 0.997 1.003 1.021 1.044 1.006 1.005 1.002 1.003], Mean Score: 1.0106\n"
     ]
    },
    {
     "name": "stderr",
     "output_type": "stream",
     "text": [
      "[I 2025-07-02 19:54:30,704] Trial 10 finished with value: 0.011874518357217312 and parameters: {'lr': 0.01980469072157565, 'epochs': 1624, 'sharpness': 8.617093897283826, 'probs_noise_std': 0.34057499467754876, 'subsample_ratio': 0.3872481362808301}. Best is trial 1 with value: 0.010421616956591606.\n"
     ]
    },
    {
     "name": "stdout",
     "output_type": "stream",
     "text": [
      "Variant: up_min, Scores: [1.018 1.021 1.009 0.996 1.005 1.021 1.041 1.011 1.007 1.001 1.002], Mean Score: 1.0120\n"
     ]
    },
    {
     "name": "stderr",
     "output_type": "stream",
     "text": [
      "[I 2025-07-02 19:54:51,882] Trial 11 finished with value: 0.010255299508571625 and parameters: {'lr': 0.0006928309015581848, 'epochs': 606, 'sharpness': 0.34392559497288006, 'probs_noise_std': 0.00363943214712914, 'subsample_ratio': 0.043141997324984485}. Best is trial 11 with value: 0.010255299508571625.\n"
     ]
    },
    {
     "name": "stdout",
     "output_type": "stream",
     "text": [
      "Variant: up_min, Scores: [1.017 1.02  1.002 0.997 0.999 1.013 1.05  1.006 1.003 1.003 1.004], Mean Score: 1.0104\n"
     ]
    },
    {
     "name": "stderr",
     "output_type": "stream",
     "text": [
      "[I 2025-07-02 19:55:10,139] Trial 12 finished with value: 0.010163987055420876 and parameters: {'lr': 0.018422693240918435, 'epochs': 515, 'sharpness': 4.98587416545364, 'probs_noise_std': 0.34773996104242516, 'subsample_ratio': 0.010498470797525812}. Best is trial 12 with value: 0.010163987055420876.\n"
     ]
    },
    {
     "name": "stdout",
     "output_type": "stream",
     "text": [
      "Variant: up_min, Scores: [1.009 1.022 1.005 0.998 1.007 1.025 1.032 1.007 1.002 1.003 1.005], Mean Score: 1.0103\n"
     ]
    },
    {
     "name": "stderr",
     "output_type": "stream",
     "text": [
      "[I 2025-07-02 19:55:25,171] Trial 13 finished with value: 0.010584156960248947 and parameters: {'lr': 0.0009718612623400918, 'epochs': 429, 'sharpness': 8.575967117500397, 'probs_noise_std': 0.20777086946964818, 'subsample_ratio': 0.01018659703298788}. Best is trial 12 with value: 0.010163987055420876.\n"
     ]
    },
    {
     "name": "stdout",
     "output_type": "stream",
     "text": [
      "Variant: up_min, Scores: [1.018 1.025 1.003 0.992 1.005 1.021 1.032 1.01  1.005 1.003 1.005], Mean Score: 1.0107\n"
     ]
    },
    {
     "name": "stderr",
     "output_type": "stream",
     "text": [
      "[I 2025-07-02 19:55:46,000] Trial 14 finished with value: 0.010076134465634823 and parameters: {'lr': 0.004242740991949151, 'epochs': 590, 'sharpness': 9.273390500414838, 'probs_noise_std': 0.17439406970580668, 'subsample_ratio': 0.17973132302846362}. Best is trial 14 with value: 0.010076134465634823.\n"
     ]
    },
    {
     "name": "stdout",
     "output_type": "stream",
     "text": [
      "Variant: up_min, Scores: [1.02  1.02  1.004 0.994 1.004 1.01  1.039 1.009 1.009 1.    1.004], Mean Score: 1.0102\n"
     ]
    },
    {
     "name": "stderr",
     "output_type": "stream",
     "text": [
      "[I 2025-07-02 19:56:04,241] Trial 15 finished with value: 0.010435228236019611 and parameters: {'lr': 0.004437885280322013, 'epochs': 512, 'sharpness': 12.376854775165125, 'probs_noise_std': 0.4371778119569556, 'subsample_ratio': 0.22779737248463772}. Best is trial 14 with value: 0.010076134465634823.\n"
     ]
    },
    {
     "name": "stdout",
     "output_type": "stream",
     "text": [
      "Variant: up_min, Scores: [1.015 1.021 1.005 0.999 1.002 1.016 1.037 1.008 1.005 1.004 1.002], Mean Score: 1.0105\n"
     ]
    },
    {
     "name": "stderr",
     "output_type": "stream",
     "text": [
      "[I 2025-07-02 19:56:12,829] Trial 16 finished with value: 0.012272222898900509 and parameters: {'lr': 0.030762610466900004, 'epochs': 238, 'sharpness': 16.01898609274698, 'probs_noise_std': 0.19194103491489847, 'subsample_ratio': 0.38321374487637955}. Best is trial 14 with value: 0.010076134465634823.\n"
     ]
    },
    {
     "name": "stdout",
     "output_type": "stream",
     "text": [
      "Variant: up_min, Scores: [1.005 1.02  1.002 0.996 1.    1.011 1.066 1.011 1.015 1.003 1.007], Mean Score: 1.0125\n"
     ]
    },
    {
     "name": "stderr",
     "output_type": "stream",
     "text": [
      "[I 2025-07-02 19:56:38,915] Trial 17 finished with value: 0.009974989108741283 and parameters: {'lr': 0.004230021792596816, 'epochs': 747, 'sharpness': 4.284330393257949, 'probs_noise_std': 0.3099747442351509, 'subsample_ratio': 0.14952889899207267}. Best is trial 17 with value: 0.009974989108741283.\n"
     ]
    },
    {
     "name": "stdout",
     "output_type": "stream",
     "text": [
      "Variant: up_min, Scores: [1.01  1.023 1.007 0.995 1.    1.012 1.046 1.005 1.01  1.003 1.001], Mean Score: 1.0101\n"
     ]
    },
    {
     "name": "stderr",
     "output_type": "stream",
     "text": [
      "[I 2025-07-02 19:57:06,107] Trial 18 finished with value: 0.009284630417823792 and parameters: {'lr': 0.003585525491468988, 'epochs': 772, 'sharpness': 3.873015480301894, 'probs_noise_std': 0.12893340484918403, 'subsample_ratio': 0.15721352832661661}. Best is trial 18 with value: 0.009284630417823792.\n"
     ]
    },
    {
     "name": "stdout",
     "output_type": "stream",
     "text": [
      "Variant: up_min, Scores: [1.01  1.024 1.007 0.992 1.002 1.015 1.031 1.01  1.006 1.004 1.002], Mean Score: 1.0094\n"
     ]
    },
    {
     "name": "stderr",
     "output_type": "stream",
     "text": [
      "[I 2025-07-02 19:57:34,357] Trial 19 finished with value: 0.010099115781486034 and parameters: {'lr': 0.002662249640148716, 'epochs': 801, 'sharpness': 0.5996779975226205, 'probs_noise_std': 0.5222895172707177, 'subsample_ratio': 0.4683387036684011}. Best is trial 18 with value: 0.009284630417823792.\n"
     ]
    },
    {
     "name": "stdout",
     "output_type": "stream",
     "text": [
      "Variant: up_min, Scores: [1.012 1.023 1.007 0.994 1.003 1.019 1.034 1.005 1.008 1.004 1.001], Mean Score: 1.0102\n"
     ]
    },
    {
     "name": "stderr",
     "output_type": "stream",
     "text": [
      "[I 2025-07-02 19:58:20,937] Trial 20 finished with value: 0.009662475436925888 and parameters: {'lr': 0.007498295003448369, 'epochs': 1342, 'sharpness': 3.354294062763946, 'probs_noise_std': 0.3052459578621072, 'subsample_ratio': 0.3234994288940709}. Best is trial 18 with value: 0.009284630417823792.\n"
     ]
    },
    {
     "name": "stdout",
     "output_type": "stream",
     "text": [
      "Variant: up_min, Scores: [1.011 1.022 1.009 0.995 1.001 1.015 1.032 1.005 1.011 1.003 1.003], Mean Score: 1.0098\n"
     ]
    },
    {
     "name": "stderr",
     "output_type": "stream",
     "text": [
      "[I 2025-07-02 19:59:08,925] Trial 21 finished with value: 0.01061334926635027 and parameters: {'lr': 0.006644375688682405, 'epochs': 1373, 'sharpness': 4.452151581955457, 'probs_noise_std': 0.28921859748057893, 'subsample_ratio': 0.3148101750921061}. Best is trial 18 with value: 0.009284630417823792.\n"
     ]
    },
    {
     "name": "stdout",
     "output_type": "stream",
     "text": [
      "Variant: up_min, Scores: [1.015 1.021 1.013 0.996 1.002 1.018 1.029 1.009 1.009 1.003 1.003], Mean Score: 1.0107\n"
     ]
    },
    {
     "name": "stderr",
     "output_type": "stream",
     "text": [
      "[I 2025-07-02 19:59:37,386] Trial 22 finished with value: 0.010026093572378159 and parameters: {'lr': 0.0015509853119350576, 'epochs': 818, 'sharpness': 3.8029413989104084, 'probs_noise_std': 0.1303584080082826, 'subsample_ratio': 0.1409821632197239}. Best is trial 18 with value: 0.009284630417823792.\n"
     ]
    },
    {
     "name": "stdout",
     "output_type": "stream",
     "text": [
      "Variant: up_min, Scores: [1.013 1.022 1.006 0.995 1.    1.019 1.036 1.011 1.003 1.004 1.003], Mean Score: 1.0101\n"
     ]
    },
    {
     "name": "stderr",
     "output_type": "stream",
     "text": [
      "[I 2025-07-02 20:00:25,057] Trial 23 finished with value: 0.011888093315064907 and parameters: {'lr': 0.003710997100789623, 'epochs': 1376, 'sharpness': 23.832275244475056, 'probs_noise_std': 0.2639918581025842, 'subsample_ratio': 0.2865453151282897}. Best is trial 18 with value: 0.009284630417823792.\n"
     ]
    },
    {
     "name": "stdout",
     "output_type": "stream",
     "text": [
      "Variant: up_min, Scores: [1.015 1.024 1.006 0.994 1.003 1.018 1.045 1.01  1.008 1.006 1.003], Mean Score: 1.0120\n"
     ]
    },
    {
     "name": "stderr",
     "output_type": "stream",
     "text": [
      "[I 2025-07-02 20:00:50,930] Trial 24 finished with value: 0.012031362392008305 and parameters: {'lr': 0.010708666810794949, 'epochs': 730, 'sharpness': 0.9800129982150724, 'probs_noise_std': 0.43599798308440907, 'subsample_ratio': 0.13488560953059855}. Best is trial 18 with value: 0.009284630417823792.\n"
     ]
    },
    {
     "name": "stdout",
     "output_type": "stream",
     "text": [
      "Variant: up_min, Scores: [1.015 1.026 1.008 0.994 1.002 1.012 1.061 1.006 1.008 1.002 1.002], Mean Score: 1.0122\n"
     ]
    },
    {
     "name": "stderr",
     "output_type": "stream",
     "text": [
      "[I 2025-07-02 20:01:43,009] Trial 25 finished with value: 0.009924381040036678 and parameters: {'lr': 0.04235098064340406, 'epochs': 1495, 'sharpness': 2.8853006875828373, 'probs_noise_std': 0.35581783377628023, 'subsample_ratio': 0.4959471547660209}. Best is trial 18 with value: 0.009284630417823792.\n"
     ]
    },
    {
     "name": "stdout",
     "output_type": "stream",
     "text": [
      "Variant: up_min, Scores: [1.013 1.022 1.007 0.995 1.002 1.007 1.043 1.009 1.008 1.004 1.001], Mean Score: 1.0100\n"
     ]
    },
    {
     "name": "stderr",
     "output_type": "stream",
     "text": [
      "[I 2025-07-02 20:02:34,972] Trial 26 finished with value: 0.011650478467345238 and parameters: {'lr': 0.04015882312099153, 'epochs': 1497, 'sharpness': 1.8880369184369137, 'probs_noise_std': 0.7002552898428195, 'subsample_ratio': 0.5606872891052368}. Best is trial 18 with value: 0.009284630417823792.\n"
     ]
    },
    {
     "name": "stdout",
     "output_type": "stream",
     "text": [
      "Variant: up_min, Scores: [1.013 1.024 1.006 0.993 0.999 1.017 1.053 1.009 1.011 1.003 1.003], Mean Score: 1.0118\n"
     ]
    },
    {
     "name": "stderr",
     "output_type": "stream",
     "text": [
      "[I 2025-07-02 20:03:20,488] Trial 27 finished with value: 0.014309345744550228 and parameters: {'lr': 0.044556033836816486, 'epochs': 1294, 'sharpness': 2.787860534391102, 'probs_noise_std': 0.13236776677087303, 'subsample_ratio': 0.7088308078560265}. Best is trial 18 with value: 0.009284630417823792.\n"
     ]
    },
    {
     "name": "stdout",
     "output_type": "stream",
     "text": [
      "Variant: up_min, Scores: [1.018 1.021 1.011 0.999 0.999 1.018 1.068 1.009 1.012 1.005 1.002], Mean Score: 1.0146\n"
     ]
    },
    {
     "name": "stderr",
     "output_type": "stream",
     "text": [
      "[I 2025-07-02 20:04:14,038] Trial 28 finished with value: 0.012010841630399227 and parameters: {'lr': 0.025542352919214587, 'epochs': 1541, 'sharpness': 0.6786582978441803, 'probs_noise_std': 0.38595782795233424, 'subsample_ratio': 0.469795935628233}. Best is trial 18 with value: 0.009284630417823792.\n"
     ]
    },
    {
     "name": "stdout",
     "output_type": "stream",
     "text": [
      "Variant: up_min, Scores: [1.012 1.023 1.01  0.998 1.002 1.014 1.058 1.005 1.008 1.003 1.002], Mean Score: 1.0122\n"
     ]
    },
    {
     "name": "stderr",
     "output_type": "stream",
     "text": [
      "[I 2025-07-02 20:05:16,640] Trial 29 finished with value: 0.009222972206771374 and parameters: {'lr': 0.012584182373708291, 'epochs': 1799, 'sharpness': 5.946311152447121, 'probs_noise_std': 0.25101792367189557, 'subsample_ratio': 0.4082775423742066}. Best is trial 29 with value: 0.009222972206771374.\n"
     ]
    },
    {
     "name": "stdout",
     "output_type": "stream",
     "text": [
      "Variant: up_min, Scores: [1.009 1.019 1.006 0.992 0.998 1.014 1.04  1.006 1.009 1.005 1.005], Mean Score: 1.0093\n"
     ]
    },
    {
     "name": "stderr",
     "output_type": "stream",
     "text": [
      "[I 2025-07-02 20:06:14,316] Trial 30 finished with value: 0.011749149300158024 and parameters: {'lr': 0.011308623574140468, 'epochs': 1669, 'sharpness': 6.390865611038043, 'probs_noise_std': 0.23743237026486147, 'subsample_ratio': 0.40158357986687676}. Best is trial 29 with value: 0.009222972206771374.\n"
     ]
    },
    {
     "name": "stdout",
     "output_type": "stream",
     "text": [
      "Variant: up_min, Scores: [1.016 1.019 1.006 0.998 1.003 1.016 1.056 1.005 1.008 1.003 1.001], Mean Score: 1.0119\n"
     ]
    },
    {
     "name": "stderr",
     "output_type": "stream",
     "text": [
      "[I 2025-07-02 20:07:15,499] Trial 31 finished with value: 0.011206196621060371 and parameters: {'lr': 0.00670786903382542, 'epochs': 1749, 'sharpness': 1.373718129193302, 'probs_noise_std': 0.2554221529693684, 'subsample_ratio': 0.33875738858208365}. Best is trial 29 with value: 0.009222972206771374.\n"
     ]
    },
    {
     "name": "stdout",
     "output_type": "stream",
     "text": [
      "Variant: up_min, Scores: [1.01  1.021 1.01  0.995 1.    1.018 1.051 1.008 1.005 1.004 1.002], Mean Score: 1.0114\n"
     ]
    },
    {
     "name": "stderr",
     "output_type": "stream",
     "text": [
      "[I 2025-07-02 20:08:08,246] Trial 32 finished with value: 0.011556560173630714 and parameters: {'lr': 0.05192468621007915, 'epochs': 1507, 'sharpness': 23.524176513519233, 'probs_noise_std': 0.4775027221007034, 'subsample_ratio': 0.5383021700761542}. Best is trial 29 with value: 0.009222972206771374.\n"
     ]
    },
    {
     "name": "stdout",
     "output_type": "stream",
     "text": [
      "Variant: up_min, Scores: [1.014 1.025 1.005 0.988 1.003 1.015 1.05  1.01  1.009 1.003 1.007], Mean Score: 1.0117\n"
     ]
    },
    {
     "name": "stderr",
     "output_type": "stream",
     "text": [
      "[I 2025-07-02 20:08:51,707] Trial 33 finished with value: 0.01079315971583128 and parameters: {'lr': 0.011917336586483576, 'epochs': 1235, 'sharpness': 2.7601192412023234, 'probs_noise_std': 0.14520801287448523, 'subsample_ratio': 0.474898215782284}. Best is trial 29 with value: 0.009222972206771374.\n"
     ]
    },
    {
     "name": "stdout",
     "output_type": "stream",
     "text": [
      "Variant: up_min, Scores: [1.015 1.022 1.009 0.996 0.999 1.017 1.041 1.008 1.008 1.003 1.002], Mean Score: 1.0109\n"
     ]
    },
    {
     "name": "stderr",
     "output_type": "stream",
     "text": [
      "[I 2025-07-02 20:09:41,282] Trial 34 finished with value: 0.011606979183852673 and parameters: {'lr': 0.016401781684116785, 'epochs': 1413, 'sharpness': 3.156155088631069, 'probs_noise_std': 0.37730655087707865, 'subsample_ratio': 0.2422227985058857}. Best is trial 29 with value: 0.009222972206771374.\n"
     ]
    },
    {
     "name": "stdout",
     "output_type": "stream",
     "text": [
      "Variant: up_min, Scores: [1.015 1.023 1.005 0.999 0.996 1.02  1.05  1.006 1.009 1.005 1.002], Mean Score: 1.0118\n"
     ]
    },
    {
     "name": "stderr",
     "output_type": "stream",
     "text": [
      "[I 2025-07-02 20:10:14,855] Trial 35 finished with value: 0.010329076088964939 and parameters: {'lr': 0.006790840978067533, 'epochs': 954, 'sharpness': 1.7314347954764395, 'probs_noise_std': 0.30289612532237475, 'subsample_ratio': 0.6712141951310895}. Best is trial 29 with value: 0.009222972206771374.\n"
     ]
    },
    {
     "name": "stdout",
     "output_type": "stream",
     "text": [
      "Variant: up_min, Scores: [1.013 1.022 1.009 0.997 1.003 1.016 1.036 1.007 1.008 1.004 1.001], Mean Score: 1.0104\n"
     ]
    },
    {
     "name": "stderr",
     "output_type": "stream",
     "text": [
      "[I 2025-07-02 20:11:16,121] Trial 36 finished with value: 0.01397720631211996 and parameters: {'lr': 0.05905711342961143, 'epochs': 1760, 'sharpness': 6.707662283984413, 'probs_noise_std': 0.07668526652675475, 'subsample_ratio': 0.42892223631867477}. Best is trial 29 with value: 0.009222972206771374.\n"
     ]
    },
    {
     "name": "stdout",
     "output_type": "stream",
     "text": [
      "Variant: up_min, Scores: [1.016 1.02  1.006 0.994 1.003 1.017 1.073 1.01  1.011 1.003 1.003], Mean Score: 1.0143\n"
     ]
    },
    {
     "name": "stderr",
     "output_type": "stream",
     "text": [
      "[I 2025-07-02 20:12:11,408] Trial 37 finished with value: 0.011176838539540768 and parameters: {'lr': 0.002283465824540422, 'epochs': 1598, 'sharpness': 2.145830525336856, 'probs_noise_std': 0.22260038082392297, 'subsample_ratio': 0.3371606733162573}. Best is trial 29 with value: 0.009222972206771374.\n"
     ]
    },
    {
     "name": "stdout",
     "output_type": "stream",
     "text": [
      "Variant: up_min, Scores: [1.015 1.024 1.006 0.996 1.003 1.021 1.042 1.007 1.007 1.002 1.002], Mean Score: 1.0113\n"
     ]
    },
    {
     "name": "stderr",
     "output_type": "stream",
     "text": [
      "[I 2025-07-02 20:12:53,865] Trial 38 finished with value: 0.009236409328877926 and parameters: {'lr': 0.03125523120327678, 'epochs': 1207, 'sharpness': 0.12091739029300232, 'probs_noise_std': 0.000938829416683995, 'subsample_ratio': 0.26176713746603064}. Best is trial 29 with value: 0.009222972206771374.\n"
     ]
    },
    {
     "name": "stdout",
     "output_type": "stream",
     "text": [
      "Variant: up_min, Scores: [1.015 1.02  1.008 0.994 1.002 1.018 1.029 1.008 1.002 1.004 1.002], Mean Score: 1.0093\n"
     ]
    },
    {
     "name": "stderr",
     "output_type": "stream",
     "text": [
      "[I 2025-07-02 20:13:26,137] Trial 39 finished with value: 0.010956763289868832 and parameters: {'lr': 0.030283493604950945, 'epochs': 922, 'sharpness': 0.12029675350648636, 'probs_noise_std': 0.006503225078930532, 'subsample_ratio': 0.2551945542073919}. Best is trial 29 with value: 0.009222972206771374.\n"
     ]
    },
    {
     "name": "stdout",
     "output_type": "stream",
     "text": [
      "Variant: up_min, Scores: [1.014 1.023 1.005 0.994 1.001 1.026 1.041 1.009 1.006 1.002 1.004], Mean Score: 1.0111\n"
     ]
    },
    {
     "name": "stderr",
     "output_type": "stream",
     "text": [
      "[I 2025-07-02 20:14:06,457] Trial 40 finished with value: 0.009908260777592659 and parameters: {'lr': 0.00011426901611529902, 'epochs': 1159, 'sharpness': 0.16667309031954228, 'probs_noise_std': 0.037359182269755604, 'subsample_ratio': 0.07904905546536356}. Best is trial 29 with value: 0.009222972206771374.\n"
     ]
    },
    {
     "name": "stdout",
     "output_type": "stream",
     "text": [
      "Variant: up_min, Scores: [1.014 1.021 1.005 0.998 0.998 1.011 1.048 1.006 1.002 1.004 1.003], Mean Score: 1.0100\n"
     ]
    },
    {
     "name": "stderr",
     "output_type": "stream",
     "text": [
      "[I 2025-07-02 20:14:48,365] Trial 41 finished with value: 0.009848610498011112 and parameters: {'lr': 0.0001146618264454103, 'epochs': 1203, 'sharpness': 0.09737653349965508, 'probs_noise_std': 0.05673876544338693, 'subsample_ratio': 0.1018676986123773}. Best is trial 29 with value: 0.009222972206771374.\n"
     ]
    },
    {
     "name": "stdout",
     "output_type": "stream",
     "text": [
      "Variant: up_min, Scores: [1.016 1.021 1.005 0.998 0.998 1.01  1.051 1.003 1.002 1.003 1.002], Mean Score: 1.0100\n"
     ]
    },
    {
     "name": "stderr",
     "output_type": "stream",
     "text": [
      "[I 2025-07-02 20:15:30,290] Trial 42 finished with value: 0.01027034129947424 and parameters: {'lr': 0.00021986561893990085, 'epochs': 1205, 'sharpness': 0.062294310824388584, 'probs_noise_std': 0.1068086690514034, 'subsample_ratio': 0.11836496082739356}. Best is trial 29 with value: 0.009222972206771374.\n"
     ]
    },
    {
     "name": "stdout",
     "output_type": "stream",
     "text": [
      "Variant: up_min, Scores: [1.015 1.021 1.006 0.999 0.997 1.011 1.05  1.005 1.002 1.004 1.004], Mean Score: 1.0104\n"
     ]
    },
    {
     "name": "stderr",
     "output_type": "stream",
     "text": [
      "[I 2025-07-02 20:16:05,553] Trial 43 finished with value: 0.010128417052328587 and parameters: {'lr': 0.0016230997739728609, 'epochs': 1006, 'sharpness': 0.20057584042077892, 'probs_noise_std': 0.054139799793196206, 'subsample_ratio': 0.18498242840393125}. Best is trial 29 with value: 0.009222972206771374.\n"
     ]
    },
    {
     "name": "stdout",
     "output_type": "stream",
     "text": [
      "Variant: up_min, Scores: [1.013 1.02  1.002 0.995 1.001 1.02  1.045 1.005 1.005 1.003 1.003], Mean Score: 1.0103\n"
     ]
    },
    {
     "name": "stderr",
     "output_type": "stream",
     "text": [
      "[I 2025-07-02 20:16:52,017] Trial 44 finished with value: 0.010532007552683353 and parameters: {'lr': 0.00030311232492660414, 'epochs': 1342, 'sharpness': 0.06635718239622834, 'probs_noise_std': 0.16565281542215377, 'subsample_ratio': 0.07095155587179415}. Best is trial 29 with value: 0.009222972206771374.\n"
     ]
    },
    {
     "name": "stdout",
     "output_type": "stream",
     "text": [
      "Variant: up_min, Scores: [1.018 1.022 1.005 0.999 0.999 1.01  1.05  1.005 1.003 1.003 1.003], Mean Score: 1.0107\n"
     ]
    },
    {
     "name": "stderr",
     "output_type": "stream",
     "text": [
      "[I 2025-07-02 20:17:30,751] Trial 45 finished with value: 0.010020085610449314 and parameters: {'lr': 0.0887723151153504, 'epochs': 1112, 'sharpness': 0.08819353724075701, 'probs_noise_std': 0.09780080164499368, 'subsample_ratio': 0.26731392355085304}. Best is trial 29 with value: 0.009222972206771374.\n"
     ]
    },
    {
     "name": "stdout",
     "output_type": "stream",
     "text": [
      "Variant: up_min, Scores: [1.012 1.022 1.008 0.996 1.003 1.018 1.033 1.004 1.009 1.003 1.003], Mean Score: 1.0101\n"
     ]
    },
    {
     "name": "stderr",
     "output_type": "stream",
     "text": [
      "[I 2025-07-02 20:18:12,525] Trial 46 finished with value: 0.010679571889340878 and parameters: {'lr': 0.009254471135668131, 'epochs': 1200, 'sharpness': 0.14884134364947582, 'probs_noise_std': 0.009950915043534521, 'subsample_ratio': 0.34617764148591235}. Best is trial 29 with value: 0.009222972206771374.\n"
     ]
    },
    {
     "name": "stdout",
     "output_type": "stream",
     "text": [
      "Variant: up_min, Scores: [1.016 1.022 1.004 0.996 1.    1.021 1.04  1.008 1.007 1.003 1.003], Mean Score: 1.0108\n"
     ]
    },
    {
     "name": "stderr",
     "output_type": "stream",
     "text": [
      "[I 2025-07-02 20:18:57,155] Trial 47 finished with value: 0.011084198020398617 and parameters: {'lr': 0.013649880975945272, 'epochs': 1291, 'sharpness': 0.7552573715849552, 'probs_noise_std': 0.08472747438732608, 'subsample_ratio': 0.20331954261759638}. Best is trial 29 with value: 0.009222972206771374.\n"
     ]
    },
    {
     "name": "stdout",
     "output_type": "stream",
     "text": [
      "Variant: up_min, Scores: [1.013 1.024 1.007 0.996 1.004 1.016 1.043 1.006 1.011 1.002 1.001], Mean Score: 1.0112\n"
     ]
    },
    {
     "name": "stderr",
     "output_type": "stream",
     "text": [
      "[I 2025-07-02 20:19:32,766] Trial 48 finished with value: 0.011027436703443527 and parameters: {'lr': 0.005380733728076524, 'epochs': 1024, 'sharpness': 0.2377112263904184, 'probs_noise_std': 0.18568824532714573, 'subsample_ratio': 0.30491313337985376}. Best is trial 29 with value: 0.009222972206771374.\n"
     ]
    },
    {
     "name": "stdout",
     "output_type": "stream",
     "text": [
      "Variant: up_min, Scores: [1.018 1.022 1.006 0.997 1.002 1.017 1.038 1.009 1.007 1.003 1.004], Mean Score: 1.0111\n"
     ]
    },
    {
     "name": "stderr",
     "output_type": "stream",
     "text": [
      "[I 2025-07-02 20:20:04,001] Trial 49 finished with value: 0.008902971632778645 and parameters: {'lr': 0.022142257269862707, 'epochs': 894, 'sharpness': 0.44207254002453283, 'probs_noise_std': 0.04553120824470898, 'subsample_ratio': 0.10148433476386229}. Best is trial 49 with value: 0.008902971632778645.\n"
     ]
    },
    {
     "name": "stdout",
     "output_type": "stream",
     "text": [
      "Variant: up_min, Scores: [1.021 1.019 1.006 0.993 1.005 1.011 1.03  1.004 1.005 1.002 1.003], Mean Score: 1.0090\n"
     ]
    },
    {
     "name": "stderr",
     "output_type": "stream",
     "text": [
      "[I 2025-07-02 20:20:25,943] Trial 50 finished with value: 0.010969005525112152 and parameters: {'lr': 0.06935918788697915, 'epochs': 619, 'sharpness': 0.42967778158040887, 'probs_noise_std': 0.6814775618020286, 'subsample_ratio': 0.9897327601234516}. Best is trial 49 with value: 0.008902971632778645.\n"
     ]
    },
    {
     "name": "stdout",
     "output_type": "stream",
     "text": [
      "Variant: up_min, Scores: [1.015 1.021 1.009 0.996 1.    1.02  1.043 1.006 1.005 1.004 1.003], Mean Score: 1.0111\n"
     ]
    },
    {
     "name": "stderr",
     "output_type": "stream",
     "text": [
      "[I 2025-07-02 20:20:55,128] Trial 51 finished with value: 0.011707358993589878 and parameters: {'lr': 0.020987928680192593, 'epochs': 836, 'sharpness': 0.08554070321708175, 'probs_noise_std': 0.044829468325288245, 'subsample_ratio': 0.10881050734712232}. Best is trial 49 with value: 0.008902971632778645.\n"
     ]
    },
    {
     "name": "stdout",
     "output_type": "stream",
     "text": [
      "Variant: up_min, Scores: [1.017 1.022 1.006 0.996 0.999 1.024 1.045 1.009 1.006 1.003 1.004], Mean Score: 1.0119\n"
     ]
    },
    {
     "name": "stderr",
     "output_type": "stream",
     "text": [
      "[I 2025-07-02 20:21:26,797] Trial 52 finished with value: 0.010847199708223343 and parameters: {'lr': 0.0031991722723255767, 'epochs': 915, 'sharpness': 0.10510219955290066, 'probs_noise_std': 0.10433268907595289, 'subsample_ratio': 0.04556307416762477}. Best is trial 49 with value: 0.008902971632778645.\n"
     ]
    },
    {
     "name": "stdout",
     "output_type": "stream",
     "text": [
      "Variant: up_min, Scores: [1.015 1.021 1.001 0.997 1.003 1.022 1.045 1.006 1.005 1.003 1.004], Mean Score: 1.0110\n"
     ]
    },
    {
     "name": "stderr",
     "output_type": "stream",
     "text": [
      "[I 2025-07-02 20:21:52,085] Trial 53 finished with value: 0.009760336950421333 and parameters: {'lr': 0.02437831989216257, 'epochs': 712, 'sharpness': 0.2599815487572638, 'probs_noise_std': 0.14283693174253057, 'subsample_ratio': 0.17229919065632468}. Best is trial 49 with value: 0.008902971632778645.\n"
     ]
    },
    {
     "name": "stdout",
     "output_type": "stream",
     "text": [
      "Variant: up_min, Scores: [1.014 1.021 1.008 0.995 1.003 1.018 1.031 1.007 1.008 1.001 1.001], Mean Score: 1.0099\n"
     ]
    },
    {
     "name": "stderr",
     "output_type": "stream",
     "text": [
      "[I 2025-07-02 20:22:04,662] Trial 54 finished with value: 0.012962889857590199 and parameters: {'lr': 0.024020520460418596, 'epochs': 350, 'sharpness': 0.2806383363800493, 'probs_noise_std': 0.8418880617730929, 'subsample_ratio': 0.21772592826156933}. Best is trial 49 with value: 0.008902971632778645.\n"
     ]
    },
    {
     "name": "stdout",
     "output_type": "stream",
     "text": [
      "Variant: up_min, Scores: [1.02  1.027 1.009 0.995 1.001 1.02  1.052 1.01  1.005 1.003 1.002], Mean Score: 1.0132\n"
     ]
    },
    {
     "name": "stderr",
     "output_type": "stream",
     "text": [
      "[I 2025-07-02 20:22:29,618] Trial 55 finished with value: 0.009618467651307583 and parameters: {'lr': 0.016610352659169277, 'epochs': 697, 'sharpness': 0.47939908634263334, 'probs_noise_std': 0.16336713230146793, 'subsample_ratio': 0.16793002187677514}. Best is trial 49 with value: 0.008902971632778645.\n"
     ]
    },
    {
     "name": "stdout",
     "output_type": "stream",
     "text": [
      "Variant: up_min, Scores: [1.012 1.022 1.007 0.995 1.001 1.018 1.033 1.005 1.012 1.001 1.001], Mean Score: 1.0097\n"
     ]
    },
    {
     "name": "stderr",
     "output_type": "stream",
     "text": [
      "[I 2025-07-02 20:22:53,970] Trial 56 finished with value: 0.010462759993970394 and parameters: {'lr': 0.008506573423333975, 'epochs': 685, 'sharpness': 0.4164349668108728, 'probs_noise_std': 0.18433815113615293, 'subsample_ratio': 0.3634872740290832}. Best is trial 49 with value: 0.008902971632778645.\n"
     ]
    },
    {
     "name": "stdout",
     "output_type": "stream",
     "text": [
      "Variant: up_min, Scores: [1.018 1.023 1.008 0.995 1.001 1.012 1.038 1.007 1.008 1.002 1.004], Mean Score: 1.0106\n"
     ]
    },
    {
     "name": "stderr",
     "output_type": "stream",
     "text": [
      "[I 2025-07-02 20:23:12,614] Trial 57 finished with value: 0.009032662957906723 and parameters: {'lr': 0.01568588900859995, 'epochs': 522, 'sharpness': 1.0545059372204857, 'probs_noise_std': 0.22476402688889963, 'subsample_ratio': 0.40647829480902287}. Best is trial 49 with value: 0.008902971632778645.\n"
     ]
    },
    {
     "name": "stdout",
     "output_type": "stream",
     "text": [
      "Variant: up_min, Scores: [1.013 1.024 1.008 0.995 1.001 1.009 1.028 1.009 1.007 1.004 1.002], Mean Score: 1.0091\n"
     ]
    },
    {
     "name": "stderr",
     "output_type": "stream",
     "text": [
      "[I 2025-07-02 20:23:26,222] Trial 58 finished with value: 0.009023509919643402 and parameters: {'lr': 0.01591413007171559, 'epochs': 382, 'sharpness': 1.0182906269159484, 'probs_noise_std': 0.215706795857474, 'subsample_ratio': 0.4044544484201517}. Best is trial 49 with value: 0.008902971632778645.\n"
     ]
    },
    {
     "name": "stdout",
     "output_type": "stream",
     "text": [
      "Variant: up_min, Scores: [1.014 1.022 1.008 0.995 0.997 1.017 1.029 1.007 1.004 1.003 1.003], Mean Score: 1.0091\n"
     ]
    },
    {
     "name": "stderr",
     "output_type": "stream",
     "text": [
      "[I 2025-07-02 20:23:32,873] Trial 59 finished with value: 0.009849741123616695 and parameters: {'lr': 0.03190594327858819, 'epochs': 173, 'sharpness': 1.2513163961119684, 'probs_noise_std': 0.2179065610011035, 'subsample_ratio': 0.42614320344906786}. Best is trial 49 with value: 0.008902971632778645.\n"
     ]
    },
    {
     "name": "stdout",
     "output_type": "stream",
     "text": [
      "Variant: up_min, Scores: [1.013 1.022 1.009 0.997 1.002 1.014 1.033 1.006 1.007 1.003 1.004], Mean Score: 1.0099\n"
     ]
    },
    {
     "name": "stderr",
     "output_type": "stream",
     "text": [
      "[I 2025-07-02 20:23:46,834] Trial 60 finished with value: 0.014114826917648315 and parameters: {'lr': 0.01452440567103325, 'epochs': 386, 'sharpness': 5.585438840331198, 'probs_noise_std': 0.003795962058587482, 'subsample_ratio': 0.5337529106048696}. Best is trial 49 with value: 0.008902971632778645.\n"
     ]
    },
    {
     "name": "stdout",
     "output_type": "stream",
     "text": [
      "Variant: up_min, Scores: [1.016 1.023 1.009 1.    1.005 1.021 1.049 1.01  1.01  1.006 1.008], Mean Score: 1.0143\n"
     ]
    },
    {
     "name": "stderr",
     "output_type": "stream",
     "text": [
      "[I 2025-07-02 20:24:03,737] Trial 61 finished with value: 0.010356178507208824 and parameters: {'lr': 0.01696734158181385, 'epochs': 475, 'sharpness': 0.5446017658145732, 'probs_noise_std': 0.2658538566828796, 'subsample_ratio': 0.4183711939472681}. Best is trial 49 with value: 0.008902971632778645.\n"
     ]
    },
    {
     "name": "stdout",
     "output_type": "stream",
     "text": [
      "Variant: up_min, Scores: [1.015 1.019 1.005 0.996 1.001 1.014 1.045 1.008 1.008 1.003 1.   ], Mean Score: 1.0105\n"
     ]
    },
    {
     "name": "stderr",
     "output_type": "stream",
     "text": [
      "[I 2025-07-02 20:24:24,332] Trial 62 finished with value: 0.011527380906045437 and parameters: {'lr': 0.035196100345497326, 'epochs': 580, 'sharpness': 0.9892215341720466, 'probs_noise_std': 0.15678202347593487, 'subsample_ratio': 0.16778253962847284}. Best is trial 49 with value: 0.008902971632778645.\n"
     ]
    },
    {
     "name": "stdout",
     "output_type": "stream",
     "text": [
      "Variant: up_min, Scores: [1.01  1.024 1.01  0.997 1.001 1.01  1.051 1.012 1.008 1.003 1.003], Mean Score: 1.0117\n"
     ]
    },
    {
     "name": "stderr",
     "output_type": "stream",
     "text": [
      "[I 2025-07-02 20:24:36,057] Trial 63 finished with value: 0.01040918193757534 and parameters: {'lr': 0.010013062197095773, 'epochs': 326, 'sharpness': 0.8452493877213031, 'probs_noise_std': 0.12351045060901172, 'subsample_ratio': 0.3810254705936647}. Best is trial 49 with value: 0.008902971632778645.\n"
     ]
    },
    {
     "name": "stdout",
     "output_type": "stream",
     "text": [
      "Variant: up_min, Scores: [1.014 1.021 1.007 0.998 1.001 1.018 1.035 1.007 1.009 1.005 1.003], Mean Score: 1.0105\n"
     ]
    },
    {
     "name": "stderr",
     "output_type": "stream",
     "text": [
      "[I 2025-07-02 20:25:06,083] Trial 64 finished with value: 0.010556873865425587 and parameters: {'lr': 0.018641525557432058, 'epochs': 859, 'sharpness': 0.4811743760055751, 'probs_noise_std': 0.2133155671320763, 'subsample_ratio': 0.6098322452114783}. Best is trial 49 with value: 0.008902971632778645.\n"
     ]
    },
    {
     "name": "stdout",
     "output_type": "stream",
     "text": [
      "Variant: up_min, Scores: [1.011 1.024 1.01  0.999 1.001 1.012 1.046 1.004 1.006 1.002 1.002], Mean Score: 1.0107\n"
     ]
    },
    {
     "name": "stderr",
     "output_type": "stream",
     "text": [
      "[I 2025-07-02 20:25:28,822] Trial 65 finished with value: 0.01214755978435278 and parameters: {'lr': 0.01290721371085011, 'epochs': 643, 'sharpness': 1.4496746528888833, 'probs_noise_std': 0.2709211054752188, 'subsample_ratio': 0.2839633938342086}. Best is trial 49 with value: 0.008902971632778645.\n"
     ]
    },
    {
     "name": "stdout",
     "output_type": "stream",
     "text": [
      "Variant: up_min, Scores: [1.016 1.025 1.009 0.995 1.    1.016 1.056 1.006 1.008 1.003 1.001], Mean Score: 1.0123\n"
     ]
    },
    {
     "name": "stderr",
     "output_type": "stream",
     "text": [
      "[I 2025-07-02 20:25:56,181] Trial 66 finished with value: 0.010371304117143154 and parameters: {'lr': 0.005334457620729794, 'epochs': 778, 'sharpness': 0.3254325964409456, 'probs_noise_std': 0.3445706153072832, 'subsample_ratio': 0.8849282459883916}. Best is trial 49 with value: 0.008902971632778645.\n"
     ]
    },
    {
     "name": "stdout",
     "output_type": "stream",
     "text": [
      "Variant: up_min, Scores: [1.014 1.022 1.006 0.998 1.    1.016 1.04  1.007 1.009 1.002 1.001], Mean Score: 1.0105\n"
     ]
    },
    {
     "name": "stderr",
     "output_type": "stream",
     "text": [
      "[I 2025-07-02 20:26:15,122] Trial 67 finished with value: 0.009919506497681141 and parameters: {'lr': 0.019928115255767456, 'epochs': 531, 'sharpness': 0.5916220467476364, 'probs_noise_std': 0.06560259965768254, 'subsample_ratio': 0.23933836674878115}. Best is trial 49 with value: 0.008902971632778645.\n"
     ]
    },
    {
     "name": "stdout",
     "output_type": "stream",
     "text": [
      "Variant: up_min, Scores: [1.018 1.022 1.009 0.996 0.998 1.017 1.025 1.009 1.008 1.004 1.003], Mean Score: 1.0100\n"
     ]
    },
    {
     "name": "stderr",
     "output_type": "stream",
     "text": [
      "[I 2025-07-02 20:26:24,965] Trial 68 finished with value: 0.011156580410897732 and parameters: {'lr': 0.0007913545005376689, 'epochs': 271, 'sharpness': 1.0640665836527774, 'probs_noise_std': 0.23839626580798295, 'subsample_ratio': 0.06473041267612777}. Best is trial 49 with value: 0.008902971632778645.\n"
     ]
    },
    {
     "name": "stdout",
     "output_type": "stream",
     "text": [
      "Variant: up_min, Scores: [1.019 1.021 1.003 0.992 1.002 1.023 1.045 1.005 1.005 1.004 1.004], Mean Score: 1.0113\n"
     ]
    },
    {
     "name": "stderr",
     "output_type": "stream",
     "text": [
      "[I 2025-07-02 20:26:41,819] Trial 69 finished with value: 0.01148298755288124 and parameters: {'lr': 0.0499212685219382, 'epochs': 471, 'sharpness': 11.10122774771385, 'probs_noise_std': 0.1798148844388246, 'subsample_ratio': 0.44072054106505126}. Best is trial 49 with value: 0.008902971632778645.\n"
     ]
    },
    {
     "name": "stdout",
     "output_type": "stream",
     "text": [
      "Variant: up_min, Scores: [1.019 1.02  1.005 0.994 0.999 1.013 1.044 1.011 1.011 1.005 1.007], Mean Score: 1.0116\n"
     ]
    },
    {
     "name": "stderr",
     "output_type": "stream",
     "text": [
      "[I 2025-07-02 20:27:05,598] Trial 70 finished with value: 0.012929932214319706 and parameters: {'lr': 0.027992167517619362, 'epochs': 680, 'sharpness': 1.6785957665819808, 'probs_noise_std': 0.03402139393770802, 'subsample_ratio': 0.15310682185723107}. Best is trial 49 with value: 0.008902971632778645.\n"
     ]
    },
    {
     "name": "stdout",
     "output_type": "stream",
     "text": [
      "Variant: up_min, Scores: [1.019 1.024 1.008 0.997 0.999 1.012 1.057 1.012 1.012 1.002 1.002], Mean Score: 1.0131\n"
     ]
    },
    {
     "name": "stderr",
     "output_type": "stream",
     "text": [
      "[I 2025-07-02 20:27:39,689] Trial 71 finished with value: 0.010386108420789242 and parameters: {'lr': 0.007828959535007746, 'epochs': 976, 'sharpness': 3.9391895688655176, 'probs_noise_std': 0.3078131059976842, 'subsample_ratio': 0.3350156690378668}. Best is trial 49 with value: 0.008902971632778645.\n"
     ]
    },
    {
     "name": "stdout",
     "output_type": "stream",
     "text": [
      "Variant: up_min, Scores: [1.009 1.021 1.011 0.995 0.995 1.013 1.052 1.006 1.009 1.005 1.001], Mean Score: 1.0105\n"
     ]
    },
    {
     "name": "stderr",
     "output_type": "stream",
     "text": [
      "[I 2025-07-02 20:28:09,537] Trial 72 finished with value: 0.01149544958025217 and parameters: {'lr': 0.005431318588847783, 'epochs': 854, 'sharpness': 7.540644618786113, 'probs_noise_std': 0.3238206135001989, 'subsample_ratio': 0.37761166864735163}. Best is trial 49 with value: 0.008902971632778645.\n"
     ]
    },
    {
     "name": "stdout",
     "output_type": "stream",
     "text": [
      "Variant: up_min, Scores: [1.014 1.022 1.005 0.991 1.001 1.013 1.06  1.008 1.007 1.004 1.002], Mean Score: 1.0117\n"
     ]
    },
    {
     "name": "stderr",
     "output_type": "stream",
     "text": [
      "[I 2025-07-02 20:28:29,280] Trial 73 finished with value: 0.012738242745399475 and parameters: {'lr': 0.014700669107709933, 'epochs': 561, 'sharpness': 5.047731286343386, 'probs_noise_std': 0.20636028265990922, 'subsample_ratio': 0.30015654106286793}. Best is trial 49 with value: 0.008902971632778645.\n"
     ]
    },
    {
     "name": "stdout",
     "output_type": "stream",
     "text": [
      "Variant: up_min, Scores: [1.015 1.023 1.006 0.992 1.001 1.012 1.069 1.009 1.008 1.004 1.004], Mean Score: 1.0130\n"
     ]
    },
    {
     "name": "stderr",
     "output_type": "stream",
     "text": [
      "[I 2025-07-02 20:29:28,091] Trial 74 finished with value: 0.01241223607212305 and parameters: {'lr': 0.011270791335222134, 'epochs': 1679, 'sharpness': 2.3184083369667374, 'probs_noise_std': 0.4223324227178281, 'subsample_ratio': 0.4530512979893919}. Best is trial 49 with value: 0.008902971632778645.\n"
     ]
    },
    {
     "name": "stdout",
     "output_type": "stream",
     "text": [
      "Variant: up_min, Scores: [1.011 1.022 1.009 0.997 1.005 1.017 1.058 1.007 1.007 1.005 1.002], Mean Score: 1.0126\n"
     ]
    },
    {
     "name": "stderr",
     "output_type": "stream",
     "text": [
      "[I 2025-07-02 20:29:42,840] Trial 75 finished with value: 0.010588651522994041 and parameters: {'lr': 0.021386575115328755, 'epochs': 412, 'sharpness': 3.213229852267716, 'probs_noise_std': 0.5771187127251698, 'subsample_ratio': 0.4028260439674438}. Best is trial 49 with value: 0.008902971632778645.\n"
     ]
    },
    {
     "name": "stdout",
     "output_type": "stream",
     "text": [
      "Variant: up_min, Scores: [1.012 1.02  1.007 0.994 0.999 1.012 1.049 1.01  1.009 1.002 1.004], Mean Score: 1.0107\n"
     ]
    },
    {
     "name": "stderr",
     "output_type": "stream",
     "text": [
      "[I 2025-07-02 20:30:09,802] Trial 76 finished with value: 0.011591648682951927 and parameters: {'lr': 0.037396485068030484, 'epochs': 764, 'sharpness': 0.8732301199276417, 'probs_noise_std': 0.11850264548254506, 'subsample_ratio': 0.13196576760978987}. Best is trial 49 with value: 0.008902971632778645.\n"
     ]
    },
    {
     "name": "stdout",
     "output_type": "stream",
     "text": [
      "Variant: up_min, Scores: [1.006 1.019 1.007 0.998 1.004 1.012 1.058 1.008 1.01  1.005 1.003], Mean Score: 1.0118\n"
     ]
    },
    {
     "name": "stderr",
     "output_type": "stream",
     "text": [
      "[I 2025-07-02 20:31:12,539] Trial 77 finished with value: 0.011392426677048206 and parameters: {'lr': 0.007801097437392593, 'epochs': 1796, 'sharpness': 2.030692935317737, 'probs_noise_std': 0.1561083757970619, 'subsample_ratio': 0.497531953841676}. Best is trial 49 with value: 0.008902971632778645.\n"
     ]
    },
    {
     "name": "stdout",
     "output_type": "stream",
     "text": [
      "Variant: up_min, Scores: [1.014 1.022 1.008 0.995 1.004 1.024 1.041 1.008 1.008 1.002 1.002], Mean Score: 1.0115\n"
     ]
    },
    {
     "name": "stderr",
     "output_type": "stream",
     "text": [
      "[I 2025-07-02 20:31:49,548] Trial 78 finished with value: 0.01310555636882782 and parameters: {'lr': 0.016061971185480264, 'epochs': 1049, 'sharpness': 15.448807594215824, 'probs_noise_std': 0.24902228045879482, 'subsample_ratio': 0.2669907319934709}. Best is trial 49 with value: 0.008902971632778645.\n"
     ]
    },
    {
     "name": "stdout",
     "output_type": "stream",
     "text": [
      "Variant: up_min, Scores: [1.021 1.024 1.008 0.995 1.    1.018 1.057 1.008 1.007 1.005 1.003], Mean Score: 1.0133\n"
     ]
    },
    {
     "name": "stderr",
     "output_type": "stream",
     "text": [
      "[I 2025-07-02 20:31:52,607] Trial 79 finished with value: 0.011194893158972263 and parameters: {'lr': 0.003318000513363748, 'epochs': 73, 'sharpness': 0.6978478815437564, 'probs_noise_std': 0.29392473097961525, 'subsample_ratio': 0.19382057932116528}. Best is trial 49 with value: 0.008902971632778645.\n"
     ]
    },
    {
     "name": "stdout",
     "output_type": "stream",
     "text": [
      "Variant: up_min, Scores: [1.016 1.022 1.002 0.994 1.004 1.022 1.042 1.007 1.006 1.006 1.004], Mean Score: 1.0113\n"
     ]
    },
    {
     "name": "stderr",
     "output_type": "stream",
     "text": [
      "[I 2025-07-02 20:32:23,406] Trial 80 finished with value: 0.010261672548949718 and parameters: {'lr': 0.0026166242304687735, 'epochs': 880, 'sharpness': 1.1702339551394605, 'probs_noise_std': 0.06926649250874566, 'subsample_ratio': 0.2293796776377017}. Best is trial 49 with value: 0.008902971632778645.\n"
     ]
    },
    {
     "name": "stdout",
     "output_type": "stream",
     "text": [
      "Variant: up_min, Scores: [1.013 1.023 1.007 0.993 1.002 1.015 1.039 1.01  1.006 1.003 1.004], Mean Score: 1.0104\n"
     ]
    },
    {
     "name": "stderr",
     "output_type": "stream",
     "text": [
      "[I 2025-07-02 20:32:47,708] Trial 81 finished with value: 0.011451727710664272 and parameters: {'lr': 0.02446229133104216, 'epochs': 687, 'sharpness': 0.2672026279833215, 'probs_noise_std': 0.1392308814863933, 'subsample_ratio': 0.31254910075014003}. Best is trial 49 with value: 0.008902971632778645.\n"
     ]
    },
    {
     "name": "stdout",
     "output_type": "stream",
     "text": [
      "Variant: up_min, Scores: [1.012 1.02  1.007 0.999 1.003 1.014 1.049 1.008 1.011 1.003 1.002], Mean Score: 1.0116\n"
     ]
    },
    {
     "name": "stderr",
     "output_type": "stream",
     "text": [
      "[I 2025-07-02 20:33:16,754] Trial 82 finished with value: 0.010400495491921902 and parameters: {'lr': 0.023990927711338376, 'epochs': 816, 'sharpness': 0.18946233278884253, 'probs_noise_std': 0.14709331954840943, 'subsample_ratio': 0.16386098210628378}. Best is trial 49 with value: 0.008902971632778645.\n"
     ]
    },
    {
     "name": "stdout",
     "output_type": "stream",
     "text": [
      "Variant: up_min, Scores: [1.013 1.024 1.007 0.994 0.999 1.019 1.04  1.007 1.006 1.003 1.003], Mean Score: 1.0105\n"
     ]
    },
    {
     "name": "stderr",
     "output_type": "stream",
     "text": [
      "[I 2025-07-02 20:33:39,553] Trial 83 finished with value: 0.010068931616842747 and parameters: {'lr': 0.01211015398836669, 'epochs': 639, 'sharpness': 0.35613579088732694, 'probs_noise_std': 0.10444865637833531, 'subsample_ratio': 0.09431343283384196}. Best is trial 49 with value: 0.008902971632778645.\n"
     ]
    },
    {
     "name": "stdout",
     "output_type": "stream",
     "text": [
      "Variant: up_min, Scores: [1.014 1.023 1.008 0.993 1.002 1.023 1.029 1.008 1.008 1.001 1.004], Mean Score: 1.0102\n"
     ]
    },
    {
     "name": "stderr",
     "output_type": "stream",
     "text": [
      "[I 2025-07-02 20:34:05,693] Trial 84 finished with value: 0.01019074022769928 and parameters: {'lr': 0.009694349923953816, 'epochs': 733, 'sharpness': 0.22869214024198767, 'probs_noise_std': 0.20101130778790435, 'subsample_ratio': 0.20848827698651984}. Best is trial 49 with value: 0.008902971632778645.\n"
     ]
    },
    {
     "name": "stdout",
     "output_type": "stream",
     "text": [
      "Variant: up_min, Scores: [1.015 1.023 1.007 0.996 1.    1.015 1.035 1.006 1.01  1.003 1.003], Mean Score: 1.0103\n"
     ]
    },
    {
     "name": "stderr",
     "output_type": "stream",
     "text": [
      "[I 2025-07-02 20:34:55,535] Trial 85 finished with value: 0.011053059250116348 and parameters: {'lr': 0.028403470773556993, 'epochs': 1445, 'sharpness': 0.051869557633022416, 'probs_noise_std': 0.024636868845968732, 'subsample_ratio': 0.027008501552041944}. Best is trial 49 with value: 0.008902971632778645.\n"
     ]
    },
    {
     "name": "stdout",
     "output_type": "stream",
     "text": [
      "Variant: up_min, Scores: [1.014 1.022 1.006 0.995 1.001 1.022 1.044 1.008 1.004 1.002 1.005], Mean Score: 1.0112\n"
     ]
    },
    {
     "name": "stderr",
     "output_type": "stream",
     "text": [
      "[I 2025-07-02 20:35:12,105] Trial 86 finished with value: 0.010255255736410618 and parameters: {'lr': 0.016471264562704396, 'epochs': 463, 'sharpness': 0.5263968863709609, 'probs_noise_std': 0.08033158878186016, 'subsample_ratio': 0.36101106722749904}. Best is trial 49 with value: 0.008902971632778645.\n"
     ]
    },
    {
     "name": "stdout",
     "output_type": "stream",
     "text": [
      "Variant: up_min, Scores: [1.016 1.024 1.006 0.992 1.003 1.013 1.035 1.01  1.008 1.002 1.003], Mean Score: 1.0104\n"
     ]
    },
    {
     "name": "stderr",
     "output_type": "stream",
     "text": [
      "[I 2025-07-02 20:35:45,877] Trial 87 finished with value: 0.008572021499276161 and parameters: {'lr': 0.06324626682182924, 'epochs': 968, 'sharpness': 0.13383625360216891, 'probs_noise_std': 0.2772477199906704, 'subsample_ratio': 0.13484236478646078}. Best is trial 87 with value: 0.008572021499276161.\n"
     ]
    },
    {
     "name": "stdout",
     "output_type": "stream",
     "text": [
      "Variant: up_min, Scores: [1.009 1.023 1.005 0.994 0.998 1.013 1.037 1.004 1.008 1.004 1.   ], Mean Score: 1.0087\n"
     ]
    },
    {
     "name": "stderr",
     "output_type": "stream",
     "text": [
      "[I 2025-07-02 20:36:19,350] Trial 88 finished with value: 0.010652006603777409 and parameters: {'lr': 0.06268584161373413, 'epochs': 957, 'sharpness': 0.1495771976399066, 'probs_noise_std': 0.2776630822240314, 'subsample_ratio': 0.1337486646155383}. Best is trial 87 with value: 0.008572021499276161.\n"
     ]
    },
    {
     "name": "stdout",
     "output_type": "stream",
     "text": [
      "Variant: up_min, Scores: [1.011 1.021 1.007 0.994 1.002 1.012 1.054 1.007 1.007 1.004 1.   ], Mean Score: 1.0108\n"
     ]
    },
    {
     "name": "stderr",
     "output_type": "stream",
     "text": [
      "[I 2025-07-02 20:36:56,882] Trial 89 finished with value: 0.012817468494176865 and parameters: {'lr': 0.044470637170636367, 'epochs': 1075, 'sharpness': 3.7167011604515703, 'probs_noise_std': 0.37008044970667564, 'subsample_ratio': 0.4014143155951785}. Best is trial 87 with value: 0.008572021499276161.\n"
     ]
    },
    {
     "name": "stdout",
     "output_type": "stream",
     "text": [
      "Variant: up_min, Scores: [1.019 1.019 1.009 0.995 0.997 1.02  1.055 1.01  1.011 1.005 1.003], Mean Score: 1.0130\n"
     ]
    },
    {
     "name": "stderr",
     "output_type": "stream",
     "text": [
      "[I 2025-07-02 20:37:36,000] Trial 90 finished with value: 0.010039635933935642 and parameters: {'lr': 0.0781516171182618, 'epochs': 1134, 'sharpness': 0.07126812134062406, 'probs_noise_std': 0.4634438589940197, 'subsample_ratio': 0.05661360812321173}. Best is trial 87 with value: 0.008572021499276161.\n"
     ]
    },
    {
     "name": "stdout",
     "output_type": "stream",
     "text": [
      "Variant: up_min, Scores: [1.014 1.023 1.007 0.995 1.004 1.013 1.038 1.006 1.009 1.003 1.   ], Mean Score: 1.0102\n"
     ]
    },
    {
     "name": "stderr",
     "output_type": "stream",
     "text": [
      "[I 2025-07-02 20:38:06,850] Trial 91 finished with value: 0.009934903122484684 and parameters: {'lr': 0.09946749670502229, 'epochs': 888, 'sharpness': 0.1439307505771679, 'probs_noise_std': 0.24105901946391178, 'subsample_ratio': 0.17993421687038053}. Best is trial 87 with value: 0.008572021499276161.\n"
     ]
    },
    {
     "name": "stdout",
     "output_type": "stream",
     "text": [
      "Variant: up_min, Scores: [1.016 1.019 1.008 0.995 1.001 1.015 1.038 1.009 1.006 1.002 1.001], Mean Score: 1.0100\n"
     ]
    },
    {
     "name": "stderr",
     "output_type": "stream",
     "text": [
      "[I 2025-07-02 20:38:51,297] Trial 92 finished with value: 0.010028203018009663 and parameters: {'lr': 0.020875434637872784, 'epochs': 1275, 'sharpness': 0.19272153877084694, 'probs_noise_std': 0.17399095302705445, 'subsample_ratio': 0.11106318610196232}. Best is trial 87 with value: 0.008572021499276161.\n"
     ]
    },
    {
     "name": "stdout",
     "output_type": "stream",
     "text": [
      "Variant: up_min, Scores: [1.018 1.023 1.009 0.992 1.    1.018 1.031 1.008 1.008 1.004 1.001], Mean Score: 1.0101\n"
     ]
    },
    {
     "name": "stderr",
     "output_type": "stream",
     "text": [
      "[I 2025-07-02 20:39:19,458] Trial 93 finished with value: 0.010583466850221157 and parameters: {'lr': 0.03257330308463307, 'epochs': 798, 'sharpness': 0.12313805149435288, 'probs_noise_std': 0.33388953985317255, 'subsample_ratio': 0.24867338480856316}. Best is trial 87 with value: 0.008572021499276161.\n"
     ]
    },
    {
     "name": "stdout",
     "output_type": "stream",
     "text": [
      "Variant: up_min, Scores: [1.016 1.022 1.008 0.996 1.    1.014 1.048 1.005 1.007 1.002 1.   ], Mean Score: 1.0107\n"
     ]
    },
    {
     "name": "stderr",
     "output_type": "stream",
     "text": [
      "[I 2025-07-02 20:39:44,595] Trial 94 finished with value: 0.010758577845990658 and parameters: {'lr': 0.054626387871030094, 'epochs': 714, 'sharpness': 6.4548598181348344, 'probs_noise_std': 0.22585208970900358, 'subsample_ratio': 0.3211918057169054}. Best is trial 87 with value: 0.008572021499276161.\n"
     ]
    },
    {
     "name": "stdout",
     "output_type": "stream",
     "text": [
      "Variant: up_min, Scores: [1.01  1.022 1.006 0.992 1.002 1.016 1.044 1.008 1.01  1.006 1.004], Mean Score: 1.0109\n"
     ]
    },
    {
     "name": "stderr",
     "output_type": "stream",
     "text": [
      "[I 2025-07-02 20:40:19,020] Trial 95 finished with value: 0.011145799420773983 and parameters: {'lr': 0.0012034086945302111, 'epochs': 994, 'sharpness': 0.465578598227652, 'probs_noise_std': 0.12371262041377037, 'subsample_ratio': 0.28025448721821533}. Best is trial 87 with value: 0.008572021499276161.\n"
     ]
    },
    {
     "name": "stdout",
     "output_type": "stream",
     "text": [
      "Variant: up_min, Scores: [1.016 1.022 1.003 0.996 1.002 1.023 1.042 1.006 1.005 1.004 1.005], Mean Score: 1.0113\n"
     ]
    },
    {
     "name": "stderr",
     "output_type": "stream",
     "text": [
      "[I 2025-07-02 20:41:14,557] Trial 96 finished with value: 0.010196503251791 and parameters: {'lr': 0.013451320352554275, 'epochs': 1600, 'sharpness': 0.388017301568266, 'probs_noise_std': 0.1911485814718032, 'subsample_ratio': 0.15975298020860731}. Best is trial 87 with value: 0.008572021499276161.\n"
     ]
    },
    {
     "name": "stdout",
     "output_type": "stream",
     "text": [
      "Variant: up_min, Scores: [1.011 1.022 1.01  0.998 1.001 1.014 1.036 1.007 1.008 1.003 1.002], Mean Score: 1.0103\n"
     ]
    },
    {
     "name": "stderr",
     "output_type": "stream",
     "text": [
      "[I 2025-07-02 20:41:33,732] Trial 97 finished with value: 0.010126370936632156 and parameters: {'lr': 0.0019230301272115669, 'epochs': 540, 'sharpness': 2.5758128785793106, 'probs_noise_std': 0.4021538389807728, 'subsample_ratio': 0.08398673440128515}. Best is trial 87 with value: 0.008572021499276161.\n"
     ]
    },
    {
     "name": "stdout",
     "output_type": "stream",
     "text": [
      "Variant: up_min, Scores: [1.014 1.024 1.005 0.994 1.003 1.018 1.035 1.008 1.007 1.003 1.001], Mean Score: 1.0102\n"
     ]
    },
    {
     "name": "stderr",
     "output_type": "stream",
     "text": [
      "[I 2025-07-02 20:42:27,499] Trial 98 finished with value: 0.0113729452714324 and parameters: {'lr': 0.018251935420504767, 'epochs': 1541, 'sharpness': 0.2386739683837636, 'probs_noise_std': 0.28264531864385467, 'subsample_ratio': 0.21675678164686918}. Best is trial 87 with value: 0.008572021499276161.\n"
     ]
    },
    {
     "name": "stdout",
     "output_type": "stream",
     "text": [
      "Variant: up_min, Scores: [1.014 1.02  1.008 0.996 1.001 1.017 1.05  1.01  1.008 1.002 1.001], Mean Score: 1.0115\n"
     ]
    },
    {
     "name": "stderr",
     "output_type": "stream",
     "text": [
      "[I 2025-07-02 20:42:48,499] Trial 99 finished with value: 0.010045591741800308 and parameters: {'lr': 0.03927035133643969, 'epochs': 595, 'sharpness': 0.6385872711944525, 'probs_noise_std': 0.08949719868928085, 'subsample_ratio': 0.1308904003632519}. Best is trial 87 with value: 0.008572021499276161.\n"
     ]
    },
    {
     "name": "stdout",
     "output_type": "stream",
     "text": [
      "Variant: up_min, Scores: [1.018 1.025 1.008 0.999 0.997 1.021 1.02  1.007 1.01  1.004 1.003], Mean Score: 1.0101\n"
     ]
    },
    {
     "name": "stderr",
     "output_type": "stream",
     "text": [
      "[I 2025-07-02 20:43:35,467] Trial 100 finished with value: 0.010083929635584354 and parameters: {'lr': 0.006640419041962957, 'epochs': 1351, 'sharpness': 0.7989706342140489, 'probs_noise_std': 0.16453699817236717, 'subsample_ratio': 0.18752736234326425}. Best is trial 87 with value: 0.008572021499276161.\n"
     ]
    },
    {
     "name": "stdout",
     "output_type": "stream",
     "text": [
      "Variant: up_min, Scores: [1.017 1.024 1.006 0.996 1.    1.017 1.036 1.006 1.007 1.001 1.001], Mean Score: 1.0102\n"
     ]
    },
    {
     "name": "stderr",
     "output_type": "stream",
     "text": [
      "[I 2025-07-02 20:44:18,740] Trial 101 finished with value: 0.010962756350636482 and parameters: {'lr': 0.02747521322747681, 'epochs': 1236, 'sharpness': 0.10465315428561278, 'probs_noise_std': 0.05054978787503078, 'subsample_ratio': 0.10592391785107723}. Best is trial 87 with value: 0.008572021499276161.\n"
     ]
    },
    {
     "name": "stdout",
     "output_type": "stream",
     "text": [
      "Variant: up_min, Scores: [1.016 1.022 1.006 0.993 0.999 1.019 1.033 1.01  1.013 1.006 1.004], Mean Score: 1.0111\n"
     ]
    },
    {
     "name": "stderr",
     "output_type": "stream",
     "text": [
      "[I 2025-07-02 20:44:56,589] Trial 102 finished with value: 0.01221560314297676 and parameters: {'lr': 0.022058337162813472, 'epochs': 1102, 'sharpness': 0.09836430838586961, 'probs_noise_std': 0.025804224484479773, 'subsample_ratio': 0.028489072889785028}. Best is trial 87 with value: 0.008572021499276161.\n"
     ]
    },
    {
     "name": "stdout",
     "output_type": "stream",
     "text": [
      "Variant: up_min, Scores: [1.016 1.024 1.005 0.996 1.001 1.025 1.044 1.007 1.012 1.002 1.004], Mean Score: 1.0124\n"
     ]
    },
    {
     "name": "stderr",
     "output_type": "stream",
     "text": [
      "[I 2025-07-02 20:45:41,908] Trial 103 finished with value: 0.01203625462949276 and parameters: {'lr': 0.004018214169429039, 'epochs': 1310, 'sharpness': 0.1251891408928638, 'probs_noise_std': 0.2582468252872991, 'subsample_ratio': 0.08675341291936275}. Best is trial 87 with value: 0.008572021499276161.\n"
     ]
    },
    {
     "name": "stdout",
     "output_type": "stream",
     "text": [
      "Variant: up_min, Scores: [1.018 1.021 1.005 0.996 1.    1.023 1.044 1.009 1.01  1.004 1.005], Mean Score: 1.0122\n"
     ]
    },
    {
     "name": "stderr",
     "output_type": "stream",
     "text": [
      "[I 2025-07-02 20:46:22,325] Trial 104 finished with value: 0.010110743343830109 and parameters: {'lr': 0.00011861659957721893, 'epochs': 1151, 'sharpness': 0.07777935146494747, 'probs_noise_std': 0.1373903073829166, 'subsample_ratio': 0.7468804574178127}. Best is trial 87 with value: 0.008572021499276161.\n"
     ]
    },
    {
     "name": "stdout",
     "output_type": "stream",
     "text": [
      "Variant: up_min, Scores: [1.013 1.022 1.005 1.001 0.997 1.011 1.051 1.004 1.003 1.003 1.003], Mean Score: 1.0103\n"
     ]
    },
    {
     "name": "stderr",
     "output_type": "stream",
     "text": [
      "[I 2025-07-02 20:47:12,171] Trial 105 finished with value: 0.01040432509034872 and parameters: {'lr': 0.00042887651522712666, 'epochs': 1416, 'sharpness': 4.963034683744, 'probs_noise_std': 0.05874289868315472, 'subsample_ratio': 0.47615988687704053}. Best is trial 87 with value: 0.008572021499276161.\n"
     ]
    },
    {
     "name": "stdout",
     "output_type": "stream",
     "text": [
      "Variant: up_min, Scores: [1.014 1.022 1.005 0.994 1.    1.02  1.037 1.009 1.01  1.001 1.004], Mean Score: 1.0105\n"
     ]
    },
    {
     "name": "stderr",
     "output_type": "stream",
     "text": [
      "[I 2025-07-02 20:47:53,222] Trial 106 finished with value: 0.008485717698931694 and parameters: {'lr': 0.004878501245457027, 'epochs': 1171, 'sharpness': 9.88375497199508, 'probs_noise_std': 0.0024564653275186976, 'subsample_ratio': 0.525161044949688}. Best is trial 106 with value: 0.008485717698931694.\n"
     ]
    },
    {
     "name": "stdout",
     "output_type": "stream",
     "text": [
      "Variant: up_min, Scores: [1.013 1.023 1.006 0.995 1.005 1.014 1.018 1.008 1.008 1.002 1.003], Mean Score: 1.0085\n",
      "\n",
      "Trials DataFrame:\n",
      "     number     value             datetime_start          datetime_complete               duration  params_epochs  params_lr  params_probs_noise_std  params_sharpness  params_subsample_ratio     state\n",
      "106     106  0.008486 2025-07-02 20:47:12.171074 2025-07-02 20:47:53.222599 0 days 00:00:41.051525           1171   0.004879                0.002456          9.883755                0.525161  COMPLETE\n",
      "87       87  0.008572 2025-07-02 20:35:12.105045 2025-07-02 20:35:45.877825 0 days 00:00:33.772780            968   0.063246                0.277248          0.133836                0.134842  COMPLETE\n",
      "49       49  0.008903 2025-07-02 20:19:32.766581 2025-07-02 20:20:04.001155 0 days 00:00:31.234574            894   0.022142                0.045531          0.442073                0.101484  COMPLETE\n",
      "58       58  0.009024 2025-07-02 20:23:12.615813 2025-07-02 20:23:26.222883 0 days 00:00:13.607070            382   0.015914                0.215707          1.018291                0.404454  COMPLETE\n",
      "57       57  0.009033 2025-07-02 20:22:53.970208 2025-07-02 20:23:12.614775 0 days 00:00:18.644567            522   0.015686                0.224764          1.054506                0.406478  COMPLETE\n",
      "29       29  0.009223 2025-07-02 20:04:14.038263 2025-07-02 20:05:16.640496 0 days 00:01:02.602233           1799   0.012584                0.251018          5.946311                0.408278  COMPLETE\n",
      "38       38  0.009236 2025-07-02 20:12:11.408632 2025-07-02 20:12:53.865779 0 days 00:00:42.457147           1207   0.031255                0.000939          0.120917                0.261767  COMPLETE\n",
      "18       18  0.009285 2025-07-02 19:56:38.915921 2025-07-02 19:57:06.107882 0 days 00:00:27.191961            772   0.003586                0.128933          3.873015                0.157214  COMPLETE\n",
      "55       55  0.009618 2025-07-02 20:22:04.662603 2025-07-02 20:22:29.618826 0 days 00:00:24.956223            697   0.016610                0.163367          0.479399                0.167930  COMPLETE\n",
      "20       20  0.009662 2025-07-02 19:57:34.357212 2025-07-02 19:58:20.937215 0 days 00:00:46.580003           1342   0.007498                0.305246          3.354294                0.323499  COMPLETE\n",
      "53       53  0.009760 2025-07-02 20:21:26.797158 2025-07-02 20:21:52.085281 0 days 00:00:25.288123            712   0.024378                0.142837          0.259982                0.172299  COMPLETE\n",
      "41       41  0.009849 2025-07-02 20:14:06.457740 2025-07-02 20:14:48.365716 0 days 00:00:41.907976           1203   0.000115                0.056739          0.097377                0.101868  COMPLETE\n",
      "59       59  0.009850 2025-07-02 20:23:26.222883 2025-07-02 20:23:32.872695 0 days 00:00:06.649812            173   0.031906                0.217907          1.251316                0.426143  COMPLETE\n",
      "40       40  0.009908 2025-07-02 20:13:26.137099 2025-07-02 20:14:06.457740 0 days 00:00:40.320641           1159   0.000114                0.037359          0.166673                0.079049  COMPLETE\n",
      "67       67  0.009920 2025-07-02 20:25:56.181899 2025-07-02 20:26:15.122635 0 days 00:00:18.940736            531   0.019928                0.065603          0.591622                0.239338  COMPLETE\n",
      "25       25  0.009924 2025-07-02 20:00:50.930222 2025-07-02 20:01:43.009129 0 days 00:00:52.078907           1495   0.042351                0.355818          2.885301                0.495947  COMPLETE\n",
      "91       91  0.009935 2025-07-02 20:37:36.000439 2025-07-02 20:38:06.850288 0 days 00:00:30.849849            888   0.099467                0.241059          0.143931                0.179934  COMPLETE\n",
      "17       17  0.009975 2025-07-02 19:56:12.829679 2025-07-02 19:56:38.915921 0 days 00:00:26.086242            747   0.004230                0.309975          4.284330                0.149529  COMPLETE\n",
      "45       45  0.010020 2025-07-02 20:16:52.017183 2025-07-02 20:17:30.751311 0 days 00:00:38.734128           1112   0.088772                0.097801          0.088194                0.267314  COMPLETE\n",
      "22       22  0.010026 2025-07-02 19:59:08.925306 2025-07-02 19:59:37.386672 0 days 00:00:28.461366            818   0.001551                0.130358          3.802941                0.140982  COMPLETE\n",
      "92       92  0.010028 2025-07-02 20:38:06.850288 2025-07-02 20:38:51.297126 0 days 00:00:44.446838           1275   0.020875                0.173991          0.192722                0.111063  COMPLETE\n",
      "90       90  0.010040 2025-07-02 20:36:56.882246 2025-07-02 20:37:36.000439 0 days 00:00:39.118193           1134   0.078152                0.463444          0.071268                0.056614  COMPLETE\n",
      "99       99  0.010046 2025-07-02 20:42:27.499419 2025-07-02 20:42:48.499511 0 days 00:00:21.000092            595   0.039270                0.089497          0.638587                0.130890  COMPLETE\n",
      "83       83  0.010069 2025-07-02 20:33:16.754210 2025-07-02 20:33:39.553662 0 days 00:00:22.799452            639   0.012110                0.104449          0.356136                0.094313  COMPLETE\n",
      "14       14  0.010076 2025-07-02 19:55:25.171903 2025-07-02 19:55:46.000930 0 days 00:00:20.829027            590   0.004243                0.174394          9.273391                0.179731  COMPLETE\n",
      "100     100  0.010084 2025-07-02 20:42:48.499511 2025-07-02 20:43:35.467346 0 days 00:00:46.967835           1351   0.006640                0.164537          0.798971                0.187527  COMPLETE\n",
      "19       19  0.010099 2025-07-02 19:57:06.107882 2025-07-02 19:57:34.357212 0 days 00:00:28.249330            801   0.002662                0.522290          0.599678                0.468339  COMPLETE\n",
      "104     104  0.010111 2025-07-02 20:45:41.908423 2025-07-02 20:46:22.325049 0 days 00:00:40.416626           1151   0.000119                0.137390          0.077779                0.746880  COMPLETE\n",
      "97       97  0.010126 2025-07-02 20:41:14.557522 2025-07-02 20:41:33.732384 0 days 00:00:19.174862            540   0.001923                0.402154          2.575813                0.083987  COMPLETE\n",
      "43       43  0.010128 2025-07-02 20:15:30.290071 2025-07-02 20:16:05.553686 0 days 00:00:35.263615           1006   0.001623                0.054140          0.200576                0.184982  COMPLETE\n",
      "12       12  0.010164 2025-07-02 19:54:51.882972 2025-07-02 19:55:10.139330 0 days 00:00:18.256358            515   0.018423                0.347740          4.985874                0.010498  COMPLETE\n",
      "84       84  0.010191 2025-07-02 20:33:39.553662 2025-07-02 20:34:05.693778 0 days 00:00:26.140116            733   0.009694                0.201011          0.228692                0.208488  COMPLETE\n",
      "96       96  0.010197 2025-07-02 20:40:19.020416 2025-07-02 20:41:14.557522 0 days 00:00:55.537106           1600   0.013451                0.191149          0.388017                0.159753  COMPLETE\n",
      "86       86  0.010255 2025-07-02 20:34:55.535253 2025-07-02 20:35:12.105045 0 days 00:00:16.569792            463   0.016471                0.080332          0.526397                0.361011  COMPLETE\n",
      "11       11  0.010255 2025-07-02 19:54:30.704245 2025-07-02 19:54:51.882972 0 days 00:00:21.178727            606   0.000693                0.003639          0.343926                0.043142  COMPLETE\n",
      "80       80  0.010262 2025-07-02 20:31:52.622918 2025-07-02 20:32:23.406182 0 days 00:00:30.783264            880   0.002617                0.069266          1.170234                0.229380  COMPLETE\n",
      "42       42  0.010270 2025-07-02 20:14:48.365716 2025-07-02 20:15:30.290071 0 days 00:00:41.924355           1205   0.000220                0.106809          0.062294                0.118365  COMPLETE\n",
      "35       35  0.010329 2025-07-02 20:09:41.282305 2025-07-02 20:10:14.855367 0 days 00:00:33.573062            954   0.006791                0.302896          1.731435                0.671214  COMPLETE\n",
      "61       61  0.010356 2025-07-02 20:23:46.834324 2025-07-02 20:24:03.737603 0 days 00:00:16.903279            475   0.016967                0.265854          0.544602                0.418371  COMPLETE\n",
      "66       66  0.010371 2025-07-02 20:25:28.822544 2025-07-02 20:25:56.181899 0 days 00:00:27.359355            778   0.005334                0.344571          0.325433                0.884928  COMPLETE\n",
      "71       71  0.010386 2025-07-02 20:27:05.598883 2025-07-02 20:27:39.689770 0 days 00:00:34.090887            976   0.007829                0.307813          3.939190                0.335016  COMPLETE\n",
      "82       82  0.010400 2025-07-02 20:32:47.708212 2025-07-02 20:33:16.754210 0 days 00:00:29.045998            816   0.023991                0.147093          0.189462                0.163861  COMPLETE\n",
      "105     105  0.010404 2025-07-02 20:46:22.325049 2025-07-02 20:47:12.171074 0 days 00:00:49.846025           1416   0.000429                0.058743          4.963035                0.476160  COMPLETE\n",
      "63       63  0.010409 2025-07-02 20:24:24.332336 2025-07-02 20:24:36.057841 0 days 00:00:11.725505            326   0.010013                0.123510          0.845249                0.381025  COMPLETE\n",
      "1         1  0.010422 2025-07-02 19:48:07.554273 2025-07-02 19:48:49.662412 0 days 00:00:42.108139           1228   0.015056                0.402163          2.099053                0.034786  COMPLETE\n",
      "15       15  0.010435 2025-07-02 19:55:46.016473 2025-07-02 19:56:04.241236 0 days 00:00:18.224763            512   0.004438                0.437178         12.376855                0.227797  COMPLETE\n",
      "9         9  0.010440 2025-07-02 19:52:55.333748 2025-07-02 19:53:33.665399 0 days 00:00:38.331651           1093   0.000605                0.052543          0.387511                0.203289  COMPLETE\n",
      "56       56  0.010463 2025-07-02 20:22:29.618826 2025-07-02 20:22:53.970208 0 days 00:00:24.351382            685   0.008507                0.184338          0.416435                0.363487  COMPLETE\n",
      "44       44  0.010532 2025-07-02 20:16:05.567047 2025-07-02 20:16:52.017183 0 days 00:00:46.450136           1342   0.000303                0.165653          0.066357                0.070952  COMPLETE\n",
      "64       64  0.010557 2025-07-02 20:24:36.057841 2025-07-02 20:25:06.081773 0 days 00:00:30.023932            859   0.018642                0.213316          0.481174                0.609832  COMPLETE\n",
      "93       93  0.010583 2025-07-02 20:38:51.297126 2025-07-02 20:39:19.458205 0 days 00:00:28.161079            798   0.032573                0.333890          0.123138                0.248673  COMPLETE\n",
      "13       13  0.010584 2025-07-02 19:55:10.139330 2025-07-02 19:55:25.171903 0 days 00:00:15.032573            429   0.000972                0.207771          8.575967                0.010187  COMPLETE\n",
      "75       75  0.010589 2025-07-02 20:29:28.091937 2025-07-02 20:29:42.840354 0 days 00:00:14.748417            412   0.021387                0.577119          3.213230                0.402826  COMPLETE\n",
      "21       21  0.010613 2025-07-02 19:58:20.937215 2025-07-02 19:59:08.925306 0 days 00:00:47.988091           1373   0.006644                0.289219          4.452152                0.314810  COMPLETE\n",
      "0         0  0.010626 2025-07-02 19:47:31.926938 2025-07-02 19:48:07.554273 0 days 00:00:35.627335           1024   0.008402                0.254385          1.373303                0.940993  COMPLETE\n",
      "88       88  0.010652 2025-07-02 20:35:45.877825 2025-07-02 20:36:19.350754 0 days 00:00:33.472929            957   0.062686                0.277663          0.149577                0.133749  COMPLETE\n",
      "46       46  0.010680 2025-07-02 20:17:30.751311 2025-07-02 20:18:12.525382 0 days 00:00:41.774071           1200   0.009254                0.009951          0.148841                0.346178  COMPLETE\n",
      "94       94  0.010759 2025-07-02 20:39:19.458205 2025-07-02 20:39:44.595703 0 days 00:00:25.137498            714   0.054626                0.225852          6.454860                0.321192  COMPLETE\n",
      "33       33  0.010793 2025-07-02 20:08:08.246964 2025-07-02 20:08:51.707938 0 days 00:00:43.460974           1235   0.011917                0.145208          2.760119                0.474898  COMPLETE\n",
      "52       52  0.010847 2025-07-02 20:20:55.128775 2025-07-02 20:21:26.797158 0 days 00:00:31.668383            915   0.003199                0.104333          0.105102                0.045563  COMPLETE\n",
      "39       39  0.010957 2025-07-02 20:12:53.866819 2025-07-02 20:13:26.137099 0 days 00:00:32.270280            922   0.030283                0.006503          0.120297                0.255195  COMPLETE\n",
      "101     101  0.010963 2025-07-02 20:43:35.467346 2025-07-02 20:44:18.740730 0 days 00:00:43.273384           1236   0.027475                0.050550          0.104653                0.105924  COMPLETE\n",
      "3         3  0.010969 2025-07-02 19:49:27.197885 2025-07-02 19:49:59.130001 0 days 00:00:31.932116            910   0.076703                0.860221          0.093864                0.088257  COMPLETE\n",
      "50       50  0.010969 2025-07-02 20:20:04.001155 2025-07-02 20:20:25.943105 0 days 00:00:21.941950            619   0.069359                0.681478          0.429678                0.989733  COMPLETE\n",
      "48       48  0.011027 2025-07-02 20:18:57.155896 2025-07-02 20:19:32.766581 0 days 00:00:35.610685           1024   0.005381                0.185688          0.237711                0.304913  COMPLETE\n",
      "85       85  0.011053 2025-07-02 20:34:05.693778 2025-07-02 20:34:55.535253 0 days 00:00:49.841475           1445   0.028403                0.024637          0.051870                0.027009  COMPLETE\n",
      "47       47  0.011084 2025-07-02 20:18:12.525382 2025-07-02 20:18:57.155896 0 days 00:00:44.630514           1291   0.013650                0.084727          0.755257                0.203320  COMPLETE\n",
      "95       95  0.011146 2025-07-02 20:39:44.595703 2025-07-02 20:40:19.020416 0 days 00:00:34.424713            994   0.001203                0.123713          0.465579                0.280254  COMPLETE\n",
      "68       68  0.011157 2025-07-02 20:26:15.122635 2025-07-02 20:26:24.965265 0 days 00:00:09.842630            271   0.000791                0.238396          1.064067                0.064730  COMPLETE\n",
      "37       37  0.011177 2025-07-02 20:11:16.121494 2025-07-02 20:12:11.408632 0 days 00:00:55.287138           1598   0.002283                0.222600          2.145831                0.337161  COMPLETE\n",
      "79       79  0.011195 2025-07-02 20:31:49.564253 2025-07-02 20:31:52.607261 0 days 00:00:03.043008             73   0.003318                0.293925          0.697848                0.193821  COMPLETE\n",
      "31       31  0.011206 2025-07-02 20:06:14.316414 2025-07-02 20:07:15.499111 0 days 00:01:01.182697           1749   0.006708                0.255422          1.373718                0.338757  COMPLETE\n",
      "98       98  0.011373 2025-07-02 20:41:33.732384 2025-07-02 20:42:27.499419 0 days 00:00:53.767035           1541   0.018252                0.282645          0.238674                0.216757  COMPLETE\n",
      "77       77  0.011392 2025-07-02 20:30:09.803326 2025-07-02 20:31:12.539598 0 days 00:01:02.736272           1796   0.007801                0.156108          2.030693                0.497532  COMPLETE\n",
      "81       81  0.011452 2025-07-02 20:32:23.406182 2025-07-02 20:32:47.708212 0 days 00:00:24.302030            687   0.024462                0.139231          0.267203                0.312549  COMPLETE\n",
      "69       69  0.011483 2025-07-02 20:26:24.965265 2025-07-02 20:26:41.818266 0 days 00:00:16.853001            471   0.049921                0.179815         11.101228                0.440721  COMPLETE\n",
      "72       72  0.011495 2025-07-02 20:27:39.689770 2025-07-02 20:28:09.537586 0 days 00:00:29.847816            854   0.005431                0.323821          7.540645                0.377612  COMPLETE\n",
      "62       62  0.011527 2025-07-02 20:24:03.737603 2025-07-02 20:24:24.332336 0 days 00:00:20.594733            580   0.035196                0.156782          0.989222                0.167783  COMPLETE\n",
      "32       32  0.011557 2025-07-02 20:07:15.499111 2025-07-02 20:08:08.246964 0 days 00:00:52.747853           1507   0.051925                0.477503         23.524177                0.538302  COMPLETE\n",
      "7         7  0.011587 2025-07-02 19:51:18.452411 2025-07-02 19:51:54.931703 0 days 00:00:36.479292           1038   0.000365                0.580273          0.308801                0.287390  COMPLETE\n",
      "76       76  0.011592 2025-07-02 20:29:42.840354 2025-07-02 20:30:09.801701 0 days 00:00:26.961347            764   0.037396                0.118503          0.873230                0.131966  COMPLETE\n",
      "34       34  0.011607 2025-07-02 20:08:51.707938 2025-07-02 20:09:41.282305 0 days 00:00:49.574367           1413   0.016402                0.377307          3.156155                0.242223  COMPLETE\n",
      "26       26  0.011650 2025-07-02 20:01:43.010207 2025-07-02 20:02:34.972611 0 days 00:00:51.962404           1497   0.040159                0.700255          1.888037                0.560687  COMPLETE\n",
      "51       51  0.011707 2025-07-02 20:20:25.944139 2025-07-02 20:20:55.128775 0 days 00:00:29.184636            836   0.020988                0.044829          0.085541                0.108811  COMPLETE\n",
      "30       30  0.011749 2025-07-02 20:05:16.640496 2025-07-02 20:06:14.316414 0 days 00:00:57.675918           1669   0.011309                0.237432          6.390866                0.401584  COMPLETE\n",
      "2         2  0.011759 2025-07-02 19:48:49.662412 2025-07-02 19:49:27.197885 0 days 00:00:37.535473           1067   0.002097                0.987734          0.060001                0.957715  COMPLETE\n",
      "4         4  0.011815 2025-07-02 19:49:59.130001 2025-07-02 19:50:35.930645 0 days 00:00:36.800644           1051   0.008086                0.720304          2.351807                0.934423  COMPLETE\n",
      "10       10  0.011875 2025-07-02 19:53:33.666434 2025-07-02 19:54:30.704245 0 days 00:00:57.037811           1624   0.019805                0.340575          8.617094                0.387248  COMPLETE\n",
      "23       23  0.011888 2025-07-02 19:59:37.386672 2025-07-02 20:00:25.057005 0 days 00:00:47.670333           1376   0.003711                0.263992         23.832275                0.286545  COMPLETE\n",
      "28       28  0.012011 2025-07-02 20:03:20.503886 2025-07-02 20:04:14.038263 0 days 00:00:53.534377           1541   0.025542                0.385958          0.678658                0.469796  COMPLETE\n",
      "24       24  0.012031 2025-07-02 20:00:25.057005 2025-07-02 20:00:50.930222 0 days 00:00:25.873217            730   0.010709                0.435998          0.980013                0.134886  COMPLETE\n",
      "103     103  0.012036 2025-07-02 20:44:56.590240 2025-07-02 20:45:41.908423 0 days 00:00:45.318183           1310   0.004018                0.258247          0.125189                0.086753  COMPLETE\n",
      "65       65  0.012148 2025-07-02 20:25:06.083050 2025-07-02 20:25:28.822544 0 days 00:00:22.739494            643   0.012907                0.270921          1.449675                0.283963  COMPLETE\n",
      "102     102  0.012216 2025-07-02 20:44:18.740730 2025-07-02 20:44:56.589182 0 days 00:00:37.848452           1102   0.022058                0.025804          0.098364                0.028489  COMPLETE\n",
      "16       16  0.012272 2025-07-02 19:56:04.241236 2025-07-02 19:56:12.829679 0 days 00:00:08.588443            238   0.030763                0.191941         16.018986                0.383214  COMPLETE\n",
      "8         8  0.012332 2025-07-02 19:51:54.931703 2025-07-02 19:52:55.333748 0 days 00:01:00.402045           1739   0.001472                0.086678         49.883073                0.834994  COMPLETE\n",
      "74       74  0.012412 2025-07-02 20:28:29.280956 2025-07-02 20:29:28.091937 0 days 00:00:58.810981           1679   0.011271                0.422332          2.318408                0.453051  COMPLETE\n",
      "5         5  0.012642 2025-07-02 19:50:35.930645 2025-07-02 19:50:38.807347 0 days 00:00:02.876702             68   0.085254                0.581494          1.137160                0.622270  COMPLETE\n",
      "73       73  0.012738 2025-07-02 20:28:09.537586 2025-07-02 20:28:29.280956 0 days 00:00:19.743370            561   0.014701                0.206360          5.047731                0.300157  COMPLETE\n",
      "89       89  0.012817 2025-07-02 20:36:19.350754 2025-07-02 20:36:56.882246 0 days 00:00:37.531492           1075   0.044471                0.370080          3.716701                0.401414  COMPLETE\n",
      "70       70  0.012930 2025-07-02 20:26:41.819785 2025-07-02 20:27:05.598883 0 days 00:00:23.779098            680   0.027992                0.034021          1.678596                0.153107  COMPLETE\n",
      "54       54  0.012963 2025-07-02 20:21:52.085281 2025-07-02 20:22:04.662603 0 days 00:00:12.577322            350   0.024021                0.841888          0.280638                0.217726  COMPLETE\n",
      "78       78  0.013106 2025-07-02 20:31:12.539598 2025-07-02 20:31:49.548686 0 days 00:00:37.009088           1049   0.016062                0.249022         15.448808                0.266991  COMPLETE\n",
      "6         6  0.013380 2025-07-02 19:50:38.807347 2025-07-02 19:51:18.452411 0 days 00:00:39.645064           1132   0.000158                0.942697         48.455286                0.603977  COMPLETE\n",
      "36       36  0.013977 2025-07-02 20:10:14.855367 2025-07-02 20:11:16.121494 0 days 00:01:01.266127           1760   0.059057                0.076685          6.707662                0.428922  COMPLETE\n",
      "60       60  0.014115 2025-07-02 20:23:32.873702 2025-07-02 20:23:46.834324 0 days 00:00:13.960622            386   0.014524                0.003796          5.585439                0.533753  COMPLETE\n",
      "27       27  0.014309 2025-07-02 20:02:34.972611 2025-07-02 20:03:20.488220 0 days 00:00:45.515609           1294   0.044556                0.132368          2.787861                0.708831  COMPLETE\n"
     ]
    },
    {
     "name": "stderr",
     "output_type": "stream",
     "text": [
      "[I 2025-07-02 20:47:54,141] A new study created in memory with name: do_max\n"
     ]
    },
    {
     "name": "stdout",
     "output_type": "stream",
     "text": [
      "Parameter Importances:\n",
      "probs_noise_std: 0.3136633825276306\n",
      "subsample_ratio: 0.30608273259890856\n",
      "sharpness: 0.15748358128298426\n",
      "epochs: 0.13106443198024606\n",
      "lr: 0.09170587161023054\n"
     ]
    },
    {
     "name": "stderr",
     "output_type": "stream",
     "text": [
      "[I 2025-07-02 20:48:01,791] Trial 0 finished with value: 0.014671294949948788 and parameters: {'lr': 0.0008171613576513568, 'epochs': 202, 'sharpness': 0.8090297750934589, 'probs_noise_std': 0.05751672581105938, 'subsample_ratio': 0.3569911672067842}. Best is trial 0 with value: 0.014671294949948788.\n"
     ]
    },
    {
     "name": "stdout",
     "output_type": "stream",
     "text": [
      "Variant: do_max, Scores: [1.027 1.019 1.001 1.015 1.023 1.006 1.025 1.01  1.012 1.01  1.014], Mean Score: 1.0148\n"
     ]
    },
    {
     "name": "stderr",
     "output_type": "stream",
     "text": [
      "[I 2025-07-02 20:48:43,932] Trial 1 finished with value: 0.01624872535467148 and parameters: {'lr': 0.0026683273276816503, 'epochs': 1201, 'sharpness': 42.291690337651886, 'probs_noise_std': 0.8611976965924459, 'subsample_ratio': 0.4585653827248649}. Best is trial 1 with value: 0.01624872535467148.\n"
     ]
    },
    {
     "name": "stdout",
     "output_type": "stream",
     "text": [
      "Variant: do_max, Scores: [1.02  1.026 1.002 1.011 1.013 1.039 1.026 1.013 1.012 1.008 1.011], Mean Score: 1.0164\n"
     ]
    },
    {
     "name": "stderr",
     "output_type": "stream",
     "text": [
      "[I 2025-07-02 20:49:19,442] Trial 2 finished with value: 0.017617961391806602 and parameters: {'lr': 0.008939781459632494, 'epochs': 1023, 'sharpness': 0.18815796689218267, 'probs_noise_std': 0.3512738085900401, 'subsample_ratio': 0.13484394817729162}. Best is trial 2 with value: 0.017617961391806602.\n"
     ]
    },
    {
     "name": "stdout",
     "output_type": "stream",
     "text": [
      "Variant: do_max, Scores: [1.023 1.025 1.004 1.013 1.017 1.039 1.031 1.011 1.009 1.012 1.011], Mean Score: 1.0178\n"
     ]
    },
    {
     "name": "stderr",
     "output_type": "stream",
     "text": [
      "[I 2025-07-02 20:49:43,478] Trial 3 finished with value: 0.009878885932266712 and parameters: {'lr': 0.00023109848005865437, 'epochs': 679, 'sharpness': 34.55052850980587, 'probs_noise_std': 0.6808962588091867, 'subsample_ratio': 0.9696370033003252}. Best is trial 2 with value: 0.017617961391806602.\n"
     ]
    },
    {
     "name": "stdout",
     "output_type": "stream",
     "text": [
      "Variant: do_max, Scores: [1.016 1.015 1.003 1.015 1.012 0.996 1.015 1.012 1.014 1.004 1.008], Mean Score: 1.0099\n"
     ]
    },
    {
     "name": "stderr",
     "output_type": "stream",
     "text": [
      "[I 2025-07-02 20:50:43,913] Trial 4 finished with value: 0.015309607610106468 and parameters: {'lr': 0.0026622386963647713, 'epochs': 1732, 'sharpness': 15.126763803535225, 'probs_noise_std': 0.25765398297078634, 'subsample_ratio': 0.6340154614865947}. Best is trial 2 with value: 0.017617961391806602.\n"
     ]
    },
    {
     "name": "stdout",
     "output_type": "stream",
     "text": [
      "Variant: do_max, Scores: [1.019 1.019 1.002 1.013 1.017 1.039 1.028 1.011 1.01  1.006 1.008], Mean Score: 1.0155\n"
     ]
    },
    {
     "name": "stderr",
     "output_type": "stream",
     "text": [
      "[I 2025-07-02 20:51:33,333] Trial 5 finished with value: 0.0175971407443285 and parameters: {'lr': 0.03198361331383711, 'epochs': 1422, 'sharpness': 0.21775711864486694, 'probs_noise_std': 0.7082573698369843, 'subsample_ratio': 0.6511666726551814}. Best is trial 2 with value: 0.017617961391806602.\n"
     ]
    },
    {
     "name": "stdout",
     "output_type": "stream",
     "text": [
      "Variant: do_max, Scores: [1.016 1.029 1.004 1.013 1.015 1.047 1.034 1.012 1.013 1.005 1.009], Mean Score: 1.0178\n"
     ]
    },
    {
     "name": "stderr",
     "output_type": "stream",
     "text": [
      "[I 2025-07-02 20:52:00,107] Trial 6 finished with value: 0.009470492601394653 and parameters: {'lr': 0.00021674503194175587, 'epochs': 771, 'sharpness': 20.612262475282325, 'probs_noise_std': 0.27213729096537753, 'subsample_ratio': 0.06725386802433383}. Best is trial 2 with value: 0.017617961391806602.\n"
     ]
    },
    {
     "name": "stdout",
     "output_type": "stream",
     "text": [
      "Variant: do_max, Scores: [1.017 1.014 1.    1.014 1.013 0.993 1.016 1.012 1.013 1.004 1.008], Mean Score: 1.0095\n"
     ]
    },
    {
     "name": "stderr",
     "output_type": "stream",
     "text": [
      "[I 2025-07-02 20:52:31,643] Trial 7 finished with value: 0.01122639887034893 and parameters: {'lr': 0.00015026414192563894, 'epochs': 900, 'sharpness': 9.204909767158991, 'probs_noise_std': 0.4933145566386413, 'subsample_ratio': 0.9817436720287004}. Best is trial 2 with value: 0.017617961391806602.\n"
     ]
    },
    {
     "name": "stdout",
     "output_type": "stream",
     "text": [
      "Variant: do_max, Scores: [1.016 1.021 1.001 1.014 1.015 1.003 1.017 1.009 1.01  1.008 1.01 ], Mean Score: 1.0113\n"
     ]
    },
    {
     "name": "stderr",
     "output_type": "stream",
     "text": [
      "[I 2025-07-02 20:52:53,707] Trial 8 finished with value: 0.016696801409125328 and parameters: {'lr': 0.06744735347890497, 'epochs': 628, 'sharpness': 0.054737224302286405, 'probs_noise_std': 0.9671480439708793, 'subsample_ratio': 0.2447378341552248}. Best is trial 2 with value: 0.017617961391806602.\n"
     ]
    },
    {
     "name": "stdout",
     "output_type": "stream",
     "text": [
      "Variant: do_max, Scores: [1.014 1.026 1.004 1.015 1.017 1.039 1.031 1.01  1.012 1.008 1.011], Mean Score: 1.0169\n"
     ]
    },
    {
     "name": "stderr",
     "output_type": "stream",
     "text": [
      "[I 2025-07-02 20:53:44,203] Trial 9 finished with value: 0.018776224926114082 and parameters: {'lr': 0.012569801909278906, 'epochs': 1450, 'sharpness': 0.8296210935008762, 'probs_noise_std': 0.41323438723604267, 'subsample_ratio': 0.1994999662180648}. Best is trial 9 with value: 0.018776224926114082.\n"
     ]
    },
    {
     "name": "stdout",
     "output_type": "stream",
     "text": [
      "Variant: do_max, Scores: [1.016 1.025 1.003 1.011 1.015 1.057 1.04  1.014 1.012 1.009 1.009], Mean Score: 1.0191\n"
     ]
    },
    {
     "name": "stderr",
     "output_type": "stream",
     "text": [
      "[I 2025-07-02 20:54:41,374] Trial 10 finished with value: 0.017807435244321823 and parameters: {'lr': 0.014488723630400307, 'epochs': 1663, 'sharpness': 2.9705539978682958, 'probs_noise_std': 0.0843340724506827, 'subsample_ratio': 0.022054483347404785}. Best is trial 9 with value: 0.018776224926114082.\n"
     ]
    },
    {
     "name": "stdout",
     "output_type": "stream",
     "text": [
      "Variant: do_max, Scores: [1.013 1.029 1.004 1.012 1.012 1.042 1.039 1.013 1.013 1.011 1.009], Mean Score: 1.0180\n"
     ]
    },
    {
     "name": "stderr",
     "output_type": "stream",
     "text": [
      "[I 2025-07-02 20:55:42,089] Trial 11 finished with value: 0.02000080980360508 and parameters: {'lr': 0.013509783587951898, 'epochs': 1768, 'sharpness': 2.3642862971011884, 'probs_noise_std': 0.045528486299329596, 'subsample_ratio': 0.03153495972363183}. Best is trial 11 with value: 0.02000080980360508.\n"
     ]
    },
    {
     "name": "stdout",
     "output_type": "stream",
     "text": [
      "Variant: do_max, Scores: [1.027 1.029 1.002 1.009 1.016 1.048 1.057 1.006 1.011 1.01  1.009], Mean Score: 1.0203\n"
     ]
    },
    {
     "name": "stderr",
     "output_type": "stream",
     "text": [
      "[I 2025-07-02 20:56:32,298] Trial 12 finished with value: 0.017213821411132812 and parameters: {'lr': 0.00801342383088814, 'epochs': 1444, 'sharpness': 1.9878919591253212, 'probs_noise_std': 0.006364881970020615, 'subsample_ratio': 0.23534510346287485}. Best is trial 11 with value: 0.02000080980360508.\n"
     ]
    },
    {
     "name": "stdout",
     "output_type": "stream",
     "text": [
      "Variant: do_max, Scores: [1.016 1.023 1.001 1.012 1.015 1.042 1.042 1.013 1.008 1.01  1.01 ], Mean Score: 1.0174\n"
     ]
    },
    {
     "name": "stderr",
     "output_type": "stream",
     "text": [
      "[I 2025-07-02 20:57:34,733] Trial 13 finished with value: 0.018512483686208725 and parameters: {'lr': 0.0834092250419092, 'epochs': 1781, 'sharpness': 0.7427322698034662, 'probs_noise_std': 0.438394027526324, 'subsample_ratio': 0.21113218861073563}. Best is trial 11 with value: 0.02000080980360508.\n"
     ]
    },
    {
     "name": "stdout",
     "output_type": "stream",
     "text": [
      "Variant: do_max, Scores: [1.015 1.03  1.005 1.01  1.015 1.051 1.039 1.013 1.012 1.007 1.009], Mean Score: 1.0188\n"
     ]
    },
    {
     "name": "stderr",
     "output_type": "stream",
     "text": [
      "[I 2025-07-02 20:58:24,257] Trial 14 finished with value: 0.017955461516976357 and parameters: {'lr': 0.022911723823017927, 'epochs': 1414, 'sharpness': 4.541384059625907, 'probs_noise_std': 0.1895596391666007, 'subsample_ratio': 0.3646917556316226}. Best is trial 11 with value: 0.02000080980360508.\n"
     ]
    },
    {
     "name": "stdout",
     "output_type": "stream",
     "text": [
      "Variant: do_max, Scores: [1.017 1.023 1.004 1.014 1.015 1.052 1.034 1.011 1.012 1.008 1.01 ], Mean Score: 1.0182\n"
     ]
    },
    {
     "name": "stderr",
     "output_type": "stream",
     "text": [
      "[I 2025-07-02 20:59:06,616] Trial 15 finished with value: 0.015188491903245449 and parameters: {'lr': 0.004763999644446472, 'epochs': 1228, 'sharpness': 0.7721252041028489, 'probs_noise_std': 0.6125235991840132, 'subsample_ratio': 0.010127184214599932}. Best is trial 11 with value: 0.02000080980360508.\n"
     ]
    },
    {
     "name": "stdout",
     "output_type": "stream",
     "text": [
      "Variant: do_max, Scores: [1.014 1.028 1.002 1.012 1.017 1.033 1.02  1.012 1.012 1.008 1.01 ], Mean Score: 1.0153\n"
     ]
    },
    {
     "name": "stderr",
     "output_type": "stream",
     "text": [
      "[I 2025-07-02 21:00:00,800] Trial 16 finished with value: 0.01609141007065773 and parameters: {'lr': 0.0014224613363911568, 'epochs': 1568, 'sharpness': 0.3004583525386568, 'probs_noise_std': 0.152686533466255, 'subsample_ratio': 0.16610256713580485}. Best is trial 11 with value: 0.02000080980360508.\n"
     ]
    },
    {
     "name": "stdout",
     "output_type": "stream",
     "text": [
      "Variant: do_max, Scores: [1.025 1.026 1.001 1.014 1.017 1.024 1.025 1.009 1.012 1.012 1.012], Mean Score: 1.0163\n"
     ]
    },
    {
     "name": "stderr",
     "output_type": "stream",
     "text": [
      "[I 2025-07-02 21:00:13,745] Trial 17 finished with value: 0.019458455964922905 and parameters: {'lr': 0.03333801048695729, 'epochs': 355, 'sharpness': 3.619701850049344, 'probs_noise_std': 0.3833151193633799, 'subsample_ratio': 0.3542491976747846}. Best is trial 11 with value: 0.02000080980360508.\n"
     ]
    },
    {
     "name": "stdout",
     "output_type": "stream",
     "text": [
      "Variant: do_max, Scores: [1.027 1.03  1.003 1.013 1.014 1.048 1.04  1.007 1.017 1.009 1.01 ], Mean Score: 1.0197\n"
     ]
    },
    {
     "name": "stderr",
     "output_type": "stream",
     "text": [
      "[I 2025-07-02 21:00:18,990] Trial 18 finished with value: 0.012810811400413513 and parameters: {'lr': 0.04174222662795577, 'epochs': 135, 'sharpness': 6.741062631166338, 'probs_noise_std': 0.5817786325742491, 'subsample_ratio': 0.6946943771579264}. Best is trial 11 with value: 0.02000080980360508.\n"
     ]
    },
    {
     "name": "stdout",
     "output_type": "stream",
     "text": [
      "Variant: do_max, Scores: [1.023 1.02  1.003 1.013 1.016 1.005 1.016 1.011 1.014 1.011 1.01 ], Mean Score: 1.0129\n"
     ]
    },
    {
     "name": "stderr",
     "output_type": "stream",
     "text": [
      "[I 2025-07-02 21:00:32,051] Trial 19 finished with value: 0.018654219806194305 and parameters: {'lr': 0.022377312921564793, 'epochs': 364, 'sharpness': 1.7660299108233677, 'probs_noise_std': 0.3245569635844876, 'subsample_ratio': 0.5207600382835695}. Best is trial 11 with value: 0.02000080980360508.\n"
     ]
    },
    {
     "name": "stdout",
     "output_type": "stream",
     "text": [
      "Variant: do_max, Scores: [1.018 1.027 1.004 1.014 1.016 1.055 1.042 1.008 1.008 1.007 1.009], Mean Score: 1.0189\n"
     ]
    },
    {
     "name": "stderr",
     "output_type": "stream",
     "text": [
      "[I 2025-07-02 21:00:46,199] Trial 20 finished with value: 0.01860833540558815 and parameters: {'lr': 0.04787948296190304, 'epochs': 394, 'sharpness': 4.188613717330552, 'probs_noise_std': 0.17345053677901906, 'subsample_ratio': 0.8199083146003749}. Best is trial 11 with value: 0.02000080980360508.\n"
     ]
    },
    {
     "name": "stdout",
     "output_type": "stream",
     "text": [
      "Variant: do_max, Scores: [1.024 1.023 1.006 1.014 1.012 1.05  1.036 1.013 1.013 1.008 1.008], Mean Score: 1.0189\n"
     ]
    },
    {
     "name": "stderr",
     "output_type": "stream",
     "text": [
      "[I 2025-07-02 21:01:29,509] Trial 21 finished with value: 0.01989811100065708 and parameters: {'lr': 0.01262192472946163, 'epochs': 1250, 'sharpness': 1.0831155207922516, 'probs_noise_std': 0.39440110560304537, 'subsample_ratio': 0.31942132883365804}. Best is trial 11 with value: 0.02000080980360508.\n"
     ]
    },
    {
     "name": "stdout",
     "output_type": "stream",
     "text": [
      "Variant: do_max, Scores: [1.021 1.029 1.005 1.011 1.014 1.057 1.042 1.012 1.014 1.007 1.011], Mean Score: 1.0202\n"
     ]
    },
    {
     "name": "stderr",
     "output_type": "stream",
     "text": [
      "[I 2025-07-02 21:02:11,283] Trial 22 finished with value: 0.01841658540070057 and parameters: {'lr': 0.005295313220446056, 'epochs': 1198, 'sharpness': 1.803145179019517, 'probs_noise_std': 0.5455162148660444, 'subsample_ratio': 0.35775810329618485}. Best is trial 11 with value: 0.02000080980360508.\n"
     ]
    },
    {
     "name": "stdout",
     "output_type": "stream",
     "text": [
      "Variant: do_max, Scores: [1.02  1.028 1.005 1.01  1.013 1.05  1.04  1.012 1.012 1.007 1.009], Mean Score: 1.0187\n"
     ]
    },
    {
     "name": "stderr",
     "output_type": "stream",
     "text": [
      "[I 2025-07-02 21:02:29,038] Trial 23 finished with value: 0.017707226797938347 and parameters: {'lr': 0.01801037691303243, 'epochs': 500, 'sharpness': 0.49832007258127753, 'probs_noise_std': 0.37217005378005064, 'subsample_ratio': 0.4798493784111079}. Best is trial 11 with value: 0.02000080980360508.\n"
     ]
    },
    {
     "name": "stdout",
     "output_type": "stream",
     "text": [
      "Variant: do_max, Scores: [1.019 1.025 1.004 1.013 1.016 1.045 1.031 1.011 1.015 1.006 1.011], Mean Score: 1.0179\n"
     ]
    },
    {
     "name": "stderr",
     "output_type": "stream",
     "text": [
      "[I 2025-07-02 21:03:03,299] Trial 24 finished with value: 0.018865013495087624 and parameters: {'lr': 0.0075885829501521574, 'epochs': 970, 'sharpness': 2.87708703772046, 'probs_noise_std': 0.47828127945796645, 'subsample_ratio': 0.28750954177283283}. Best is trial 11 with value: 0.02000080980360508.\n"
     ]
    },
    {
     "name": "stdout",
     "output_type": "stream",
     "text": [
      "Variant: do_max, Scores: [1.018 1.025 1.004 1.011 1.015 1.054 1.04  1.013 1.012 1.008 1.009], Mean Score: 1.0191\n"
     ]
    },
    {
     "name": "stderr",
     "output_type": "stream",
     "text": [
      "[I 2025-07-02 21:03:41,578] Trial 25 finished with value: 0.015851765871047974 and parameters: {'lr': 0.031415254100827135, 'epochs': 1089, 'sharpness': 8.0121390518451, 'probs_noise_std': 0.28425159297303615, 'subsample_ratio': 0.10466356910716018}. Best is trial 11 with value: 0.02000080980360508.\n"
     ]
    },
    {
     "name": "stdout",
     "output_type": "stream",
     "text": [
      "Variant: do_max, Scores: [1.02  1.022 1.003 1.01  1.018 1.041 1.025 1.013 1.005 1.008 1.012], Mean Score: 1.0160\n"
     ]
    },
    {
     "name": "stderr",
     "output_type": "stream",
     "text": [
      "[I 2025-07-02 21:04:11,995] Trial 26 finished with value: 0.018934126943349838 and parameters: {'lr': 0.0980475112088124, 'epochs': 863, 'sharpness': 1.3607046771418545, 'probs_noise_std': 0.7747703978286193, 'subsample_ratio': 0.5419420641848127}. Best is trial 11 with value: 0.02000080980360508.\n"
     ]
    },
    {
     "name": "stdout",
     "output_type": "stream",
     "text": [
      "Variant: do_max, Scores: [1.026 1.026 1.004 1.008 1.015 1.05  1.04  1.013 1.014 1.009 1.008], Mean Score: 1.0192\n"
     ]
    },
    {
     "name": "stderr",
     "output_type": "stream",
     "text": [
      "[I 2025-07-02 21:05:07,916] Trial 27 finished with value: 0.018903246149420738 and parameters: {'lr': 0.013119043774505705, 'epochs': 1591, 'sharpness': 1.22658492318052, 'probs_noise_std': 0.21843645782228627, 'subsample_ratio': 0.42292009393601754}. Best is trial 11 with value: 0.02000080980360508.\n"
     ]
    },
    {
     "name": "stdout",
     "output_type": "stream",
     "text": [
      "Variant: do_max, Scores: [1.025 1.025 1.001 1.011 1.014 1.051 1.042 1.012 1.011 1.006 1.011], Mean Score: 1.0192\n"
     ]
    },
    {
     "name": "stderr",
     "output_type": "stream",
     "text": [
      "[I 2025-07-02 21:05:51,710] Trial 28 finished with value: 0.01840495504438877 and parameters: {'lr': 0.04737451619089387, 'epochs': 1262, 'sharpness': 0.4178042383511307, 'probs_noise_std': 0.4000114582567526, 'subsample_ratio': 0.3175203846723729}. Best is trial 11 with value: 0.02000080980360508.\n"
     ]
    },
    {
     "name": "stdout",
     "output_type": "stream",
     "text": [
      "Variant: do_max, Scores: [1.021 1.026 1.003 1.011 1.016 1.055 1.036 1.012 1.01  1.005 1.009], Mean Score: 1.0187\n"
     ]
    },
    {
     "name": "stderr",
     "output_type": "stream",
     "text": [
      "[I 2025-07-02 21:05:58,878] Trial 29 finished with value: 0.012562278658151627 and parameters: {'lr': 0.000718256166982143, 'epochs': 191, 'sharpness': 0.10177976338788454, 'probs_noise_std': 0.07273231249435141, 'subsample_ratio': 0.39865670632614825}. Best is trial 11 with value: 0.02000080980360508.\n"
     ]
    },
    {
     "name": "stdout",
     "output_type": "stream",
     "text": [
      "Variant: do_max, Scores: [1.027 1.017 1.001 1.011 1.016 1.018 1.009 1.009 1.01  1.008 1.013], Mean Score: 1.0127\n"
     ]
    },
    {
     "name": "stderr",
     "output_type": "stream",
     "text": [
      "[I 2025-07-02 21:06:08,617] Trial 30 finished with value: 0.013678077608346939 and parameters: {'lr': 0.0012590494008658272, 'epochs': 269, 'sharpness': 13.290400382414358, 'probs_noise_std': 0.12462496504215559, 'subsample_ratio': 0.30040149840042046}. Best is trial 11 with value: 0.02000080980360508.\n"
     ]
    },
    {
     "name": "stdout",
     "output_type": "stream",
     "text": [
      "Variant: do_max, Scores: [1.012 1.02  1.003 1.012 1.018 1.022 1.021 1.01  1.015 1.009 1.011], Mean Score: 1.0138\n"
     ]
    },
    {
     "name": "stderr",
     "output_type": "stream",
     "text": [
      "[I 2025-07-02 21:06:37,527] Trial 31 finished with value: 0.01824280247092247 and parameters: {'lr': 0.09183981300397742, 'epochs': 819, 'sharpness': 1.1623695131882565, 'probs_noise_std': 0.8118437439643199, 'subsample_ratio': 0.5570751586188379}. Best is trial 11 with value: 0.02000080980360508.\n"
     ]
    },
    {
     "name": "stdout",
     "output_type": "stream",
     "text": [
      "Variant: do_max, Scores: [1.017 1.025 1.002 1.01  1.015 1.058 1.034 1.011 1.015 1.008 1.009], Mean Score: 1.0185\n"
     ]
    },
    {
     "name": "stderr",
     "output_type": "stream",
     "text": [
      "[I 2025-07-02 21:06:58,539] Trial 32 finished with value: 0.017713002860546112 and parameters: {'lr': 0.06412019890468527, 'epochs': 580, 'sharpness': 3.516652523938874, 'probs_noise_std': 0.7536821027443835, 'subsample_ratio': 0.5721840433297811}. Best is trial 11 with value: 0.02000080980360508.\n"
     ]
    },
    {
     "name": "stdout",
     "output_type": "stream",
     "text": [
      "Variant: do_max, Scores: [1.024 1.029 1.005 1.008 1.015 1.046 1.023 1.014 1.016 1.009 1.008], Mean Score: 1.0179\n"
     ]
    },
    {
     "name": "stderr",
     "output_type": "stream",
     "text": [
      "[I 2025-07-02 21:07:36,504] Trial 33 finished with value: 0.018807418644428253 and parameters: {'lr': 0.023603093506254603, 'epochs': 1089, 'sharpness': 2.4982268055962646, 'probs_noise_std': 0.986352750122893, 'subsample_ratio': 0.7898185125817101}. Best is trial 11 with value: 0.02000080980360508.\n"
     ]
    },
    {
     "name": "stdout",
     "output_type": "stream",
     "text": [
      "Variant: do_max, Scores: [1.023 1.026 1.004 1.014 1.015 1.05  1.035 1.015 1.011 1.007 1.009], Mean Score: 1.0191\n"
     ]
    },
    {
     "name": "stderr",
     "output_type": "stream",
     "text": [
      "[I 2025-07-02 21:08:21,987] Trial 34 finished with value: 0.01798165962100029 and parameters: {'lr': 0.09722973582569638, 'epochs': 1314, 'sharpness': 1.2770054210614417, 'probs_noise_std': 0.895490161000826, 'subsample_ratio': 0.4270667661126804}. Best is trial 11 with value: 0.02000080980360508.\n"
     ]
    },
    {
     "name": "stdout",
     "output_type": "stream",
     "text": [
      "Variant: do_max, Scores: [1.013 1.029 1.004 1.013 1.014 1.052 1.031 1.014 1.013 1.008 1.009], Mean Score: 1.0182\n"
     ]
    },
    {
     "name": "stderr",
     "output_type": "stream",
     "text": [
      "[I 2025-07-02 21:08:48,026] Trial 35 finished with value: 0.018119024112820625 and parameters: {'lr': 0.0037215925630740996, 'epochs': 747, 'sharpness': 4.419508837589662, 'probs_noise_std': 0.6478243022355207, 'subsample_ratio': 0.5100393435159271}. Best is trial 11 with value: 0.02000080980360508.\n"
     ]
    },
    {
     "name": "stdout",
     "output_type": "stream",
     "text": [
      "Variant: do_max, Scores: [1.025 1.028 1.005 1.015 1.014 1.04  1.039 1.01  1.012 1.007 1.008], Mean Score: 1.0184\n"
     ]
    },
    {
     "name": "stderr",
     "output_type": "stream",
     "text": [
      "[I 2025-07-02 21:09:06,270] Trial 36 finished with value: 0.016963887959718704 and parameters: {'lr': 0.032621820057187334, 'epochs': 512, 'sharpness': 5.901368642880784, 'probs_noise_std': 0.5358038989080602, 'subsample_ratio': 0.7297112110404018}. Best is trial 11 with value: 0.02000080980360508.\n"
     ]
    },
    {
     "name": "stdout",
     "output_type": "stream",
     "text": [
      "Variant: do_max, Scores: [1.028 1.024 1.002 1.011 1.016 1.038 1.03  1.012 1.013 1.007 1.009], Mean Score: 1.0172\n"
     ]
    },
    {
     "name": "stderr",
     "output_type": "stream",
     "text": [
      "[I 2025-07-02 21:09:37,901] Trial 37 finished with value: 0.016759824007749557 and parameters: {'lr': 0.008717130022680531, 'epochs': 913, 'sharpness': 0.4620858737465616, 'probs_noise_std': 0.7407528101897314, 'subsample_ratio': 0.597575298610032}. Best is trial 11 with value: 0.02000080980360508.\n"
     ]
    },
    {
     "name": "stdout",
     "output_type": "stream",
     "text": [
      "Variant: do_max, Scores: [1.015 1.026 1.002 1.012 1.017 1.043 1.031 1.012 1.01  1.007 1.01 ], Mean Score: 1.0170\n"
     ]
    },
    {
     "name": "stderr",
     "output_type": "stream",
     "text": [
      "[I 2025-07-02 21:10:16,402] Trial 38 finished with value: 0.01792083866894245 and parameters: {'lr': 0.056476837764624845, 'epochs': 1105, 'sharpness': 1.028495459459737, 'probs_noise_std': 0.3416432575411266, 'subsample_ratio': 0.12203822606055631}. Best is trial 11 with value: 0.02000080980360508.\n"
     ]
    },
    {
     "name": "stdout",
     "output_type": "stream",
     "text": [
      "Variant: do_max, Scores: [1.027 1.027 1.002 1.013 1.012 1.046 1.036 1.01  1.011 1.006 1.008], Mean Score: 1.0182\n"
     ]
    },
    {
     "name": "stderr",
     "output_type": "stream",
     "text": [
      "[I 2025-07-02 21:10:18,740] Trial 39 finished with value: 0.012143006548285484 and parameters: {'lr': 0.03423719655962251, 'epochs': 55, 'sharpness': 48.89759454962521, 'probs_noise_std': 0.0005873464524222688, 'subsample_ratio': 0.27456147529337566}. Best is trial 11 with value: 0.02000080980360508.\n"
     ]
    },
    {
     "name": "stdout",
     "output_type": "stream",
     "text": [
      "Variant: do_max, Scores: [1.02  1.023 1.002 0.998 1.008 1.011 1.02  1.019 1.017 1.006 1.009], Mean Score: 1.0122\n"
     ]
    },
    {
     "name": "stderr",
     "output_type": "stream",
     "text": [
      "[I 2025-07-02 21:11:12,406] Trial 40 finished with value: 0.01858474500477314 and parameters: {'lr': 0.011840667729795876, 'epochs': 1551, 'sharpness': 2.1777692910348474, 'probs_noise_std': 0.46102989690493357, 'subsample_ratio': 0.45881374894977}. Best is trial 11 with value: 0.02000080980360508.\n"
     ]
    },
    {
     "name": "stdout",
     "output_type": "stream",
     "text": [
      "Variant: do_max, Scores: [1.021 1.025 1.005 1.01  1.012 1.056 1.036 1.014 1.011 1.007 1.011], Mean Score: 1.0189\n"
     ]
    },
    {
     "name": "stderr",
     "output_type": "stream",
     "text": [
      "[I 2025-07-02 21:12:11,568] Trial 41 finished with value: 0.020064152777194977 and parameters: {'lr': 0.018601094765796886, 'epochs': 1699, 'sharpness': 1.5284947543452858, 'probs_noise_std': 0.22106035730655194, 'subsample_ratio': 0.4145159036358143}. Best is trial 41 with value: 0.020064152777194977.\n"
     ]
    },
    {
     "name": "stdout",
     "output_type": "stream",
     "text": [
      "Variant: do_max, Scores: [1.026 1.027 1.002 1.012 1.018 1.053 1.049 1.011 1.012 1.007 1.008], Mean Score: 1.0204\n"
     ]
    },
    {
     "name": "stderr",
     "output_type": "stream",
     "text": [
      "[I 2025-07-02 21:13:11,230] Trial 42 finished with value: 0.01818755641579628 and parameters: {'lr': 0.01865868529774922, 'epochs': 1711, 'sharpness': 0.5824235256525734, 'probs_noise_std': 0.25969223276494724, 'subsample_ratio': 0.3808282604667281}. Best is trial 41 with value: 0.020064152777194977.\n"
     ]
    },
    {
     "name": "stdout",
     "output_type": "stream",
     "text": [
      "Variant: do_max, Scores: [1.018 1.024 1.004 1.01  1.016 1.048 1.044 1.015 1.01  1.005 1.009], Mean Score: 1.0185\n"
     ]
    },
    {
     "name": "stderr",
     "output_type": "stream",
     "text": [
      "[I 2025-07-02 21:14:14,417] Trial 43 finished with value: 0.01887662522494793 and parameters: {'lr': 0.010380936965977196, 'epochs': 1799, 'sharpness': 1.3755226185066587, 'probs_noise_std': 0.30729928679180885, 'subsample_ratio': 0.5309931812401423}. Best is trial 41 with value: 0.020064152777194977.\n"
     ]
    },
    {
     "name": "stdout",
     "output_type": "stream",
     "text": [
      "Variant: do_max, Scores: [1.015 1.026 1.005 1.013 1.018 1.048 1.044 1.013 1.011 1.008 1.01 ], Mean Score: 1.0191\n"
     ]
    },
    {
     "name": "stderr",
     "output_type": "stream",
     "text": [
      "[I 2025-07-02 21:15:14,356] Trial 44 finished with value: 0.01747889816761017 and parameters: {'lr': 0.005929445779133284, 'epochs': 1710, 'sharpness': 12.346300074747504, 'probs_noise_std': 0.1126112321300326, 'subsample_ratio': 0.6144588474151411}. Best is trial 41 with value: 0.020064152777194977.\n"
     ]
    },
    {
     "name": "stdout",
     "output_type": "stream",
     "text": [
      "Variant: do_max, Scores: [1.017 1.025 1.004 1.016 1.015 1.044 1.033 1.011 1.01  1.009 1.011], Mean Score: 1.0177\n"
     ]
    },
    {
     "name": "stderr",
     "output_type": "stream",
     "text": [
      "[I 2025-07-02 21:16:01,483] Trial 45 finished with value: 0.017873866483569145 and parameters: {'lr': 0.027958520705308347, 'epochs': 1353, 'sharpness': 27.17804728367659, 'probs_noise_std': 0.23986017599844847, 'subsample_ratio': 0.46065792458910787}. Best is trial 41 with value: 0.020064152777194977.\n"
     ]
    },
    {
     "name": "stdout",
     "output_type": "stream",
     "text": [
      "Variant: do_max, Scores: [1.022 1.026 1.005 1.009 1.016 1.044 1.04  1.011 1.009 1.007 1.011], Mean Score: 1.0181\n"
     ]
    },
    {
     "name": "stderr",
     "output_type": "stream",
     "text": [
      "[I 2025-07-02 21:16:53,666] Trial 46 finished with value: 0.019419796764850616 and parameters: {'lr': 0.01490509517733217, 'epochs': 1515, 'sharpness': 0.9047509166583295, 'probs_noise_std': 0.385874955647823, 'subsample_ratio': 0.341044790569512}. Best is trial 41 with value: 0.020064152777194977.\n"
     ]
    },
    {
     "name": "stdout",
     "output_type": "stream",
     "text": [
      "Variant: do_max, Scores: [1.023 1.027 1.005 1.012 1.016 1.053 1.042 1.012 1.01  1.008 1.01 ], Mean Score: 1.0197\n"
     ]
    },
    {
     "name": "stderr",
     "output_type": "stream",
     "text": [
      "[I 2025-07-02 21:17:45,875] Trial 47 finished with value: 0.019647637382149696 and parameters: {'lr': 0.01622054843569267, 'epochs': 1506, 'sharpness': 0.8762156253830015, 'probs_noise_std': 0.4032848736592757, 'subsample_ratio': 0.335863949781405}. Best is trial 41 with value: 0.020064152777194977.\n"
     ]
    },
    {
     "name": "stdout",
     "output_type": "stream",
     "text": [
      "Variant: do_max, Scores: [1.02  1.024 1.004 1.014 1.014 1.057 1.041 1.014 1.014 1.007 1.011], Mean Score: 1.0200\n"
     ]
    },
    {
     "name": "stderr",
     "output_type": "stream",
     "text": [
      "[I 2025-07-02 21:18:43,150] Trial 48 finished with value: 0.01670435629785061 and parameters: {'lr': 0.002799514911369573, 'epochs': 1643, 'sharpness': 0.2977772255245435, 'probs_noise_std': 0.42500718812253085, 'subsample_ratio': 0.17557715879084843}. Best is trial 41 with value: 0.020064152777194977.\n"
     ]
    },
    {
     "name": "stdout",
     "output_type": "stream",
     "text": [
      "Variant: do_max, Scores: [1.018 1.025 1.002 1.012 1.018 1.038 1.03  1.01  1.01  1.01  1.011], Mean Score: 1.0169\n"
     ]
    },
    {
     "name": "stderr",
     "output_type": "stream",
     "text": [
      "[I 2025-07-02 21:19:35,731] Trial 49 finished with value: 0.017363764345645905 and parameters: {'lr': 0.018074114211650994, 'epochs': 1502, 'sharpness': 2.433361227469662, 'probs_noise_std': 0.036410636825510406, 'subsample_ratio': 0.2509738024112467}. Best is trial 41 with value: 0.020064152777194977.\n"
     ]
    },
    {
     "name": "stdout",
     "output_type": "stream",
     "text": [
      "Variant: do_max, Scores: [1.014 1.029 1.004 1.011 1.016 1.044 1.034 1.01  1.01  1.011 1.01 ], Mean Score: 1.0176\n"
     ]
    },
    {
     "name": "stderr",
     "output_type": "stream",
     "text": [
      "[I 2025-07-02 21:20:33,344] Trial 50 finished with value: 0.01782350428402424 and parameters: {'lr': 0.00684979454054411, 'epochs': 1653, 'sharpness': 0.6285233339153687, 'probs_noise_std': 0.209761003839122, 'subsample_ratio': 0.06559853895596113}. Best is trial 41 with value: 0.020064152777194977.\n"
     ]
    },
    {
     "name": "stdout",
     "output_type": "stream",
     "text": [
      "Variant: do_max, Scores: [1.018 1.023 1.003 1.014 1.016 1.047 1.035 1.011 1.012 1.01  1.01 ], Mean Score: 1.0181\n"
     ]
    },
    {
     "name": "stderr",
     "output_type": "stream",
     "text": [
      "[I 2025-07-02 21:21:26,032] Trial 51 finished with value: 0.018407275900244713 and parameters: {'lr': 0.015307507031788391, 'epochs': 1486, 'sharpness': 0.901547279140794, 'probs_noise_std': 0.3849000201564858, 'subsample_ratio': 0.3134289781306997}. Best is trial 41 with value: 0.020064152777194977.\n"
     ]
    },
    {
     "name": "stdout",
     "output_type": "stream",
     "text": [
      "Variant: do_max, Scores: [1.017 1.027 1.002 1.008 1.017 1.053 1.043 1.014 1.008 1.009 1.008], Mean Score: 1.0187\n"
     ]
    },
    {
     "name": "stderr",
     "output_type": "stream",
     "text": [
      "[I 2025-07-02 21:22:14,391] Trial 52 finished with value: 0.01817905716598034 and parameters: {'lr': 0.011130964911556728, 'epochs': 1377, 'sharpness': 1.646352447861746, 'probs_noise_std': 0.5223188275028825, 'subsample_ratio': 0.33777769279213954}. Best is trial 41 with value: 0.020064152777194977.\n"
     ]
    },
    {
     "name": "stdout",
     "output_type": "stream",
     "text": [
      "Variant: do_max, Scores: [1.017 1.025 1.003 1.012 1.014 1.053 1.037 1.014 1.013 1.006 1.009], Mean Score: 1.0184\n"
     ]
    },
    {
     "name": "stderr",
     "output_type": "stream",
     "text": [
      "[I 2025-07-02 21:23:10,750] Trial 53 finished with value: 0.018758805468678474 and parameters: {'lr': 0.024628837036392535, 'epochs': 1614, 'sharpness': 0.7362524118523074, 'probs_noise_std': 0.31192972033377153, 'subsample_ratio': 0.4132861773510196}. Best is trial 41 with value: 0.020064152777194977.\n"
     ]
    },
    {
     "name": "stdout",
     "output_type": "stream",
     "text": [
      "Variant: do_max, Scores: [1.016 1.023 1.004 1.01  1.013 1.057 1.04  1.014 1.014 1.008 1.01 ], Mean Score: 1.0190\n"
     ]
    },
    {
     "name": "stderr",
     "output_type": "stream",
     "text": [
      "[I 2025-07-02 21:24:04,431] Trial 54 finished with value: 0.0187979806214571 and parameters: {'lr': 0.0158301157773768, 'epochs': 1538, 'sharpness': 3.4215465160071585, 'probs_noise_std': 0.36341982841971054, 'subsample_ratio': 0.22210633241443695}. Best is trial 41 with value: 0.020064152777194977.\n"
     ]
    },
    {
     "name": "stdout",
     "output_type": "stream",
     "text": [
      "Variant: do_max, Scores: [1.023 1.025 1.003 1.011 1.016 1.055 1.037 1.011 1.011 1.007 1.01 ], Mean Score: 1.0191\n"
     ]
    },
    {
     "name": "stderr",
     "output_type": "stream",
     "text": [
      "[I 2025-07-02 21:25:05,312] Trial 55 finished with value: 0.018614642322063446 and parameters: {'lr': 0.041143630544595154, 'epochs': 1741, 'sharpness': 0.9472384055406468, 'probs_noise_std': 0.4775896232322203, 'subsample_ratio': 0.35217082014534595}. Best is trial 41 with value: 0.020064152777194977.\n"
     ]
    },
    {
     "name": "stdout",
     "output_type": "stream",
     "text": [
      "Variant: do_max, Scores: [1.019 1.024 1.002 1.014 1.018 1.053 1.04  1.014 1.01  1.006 1.009], Mean Score: 1.0189\n"
     ]
    },
    {
     "name": "stderr",
     "output_type": "stream",
     "text": [
      "[I 2025-07-02 21:25:56,089] Trial 56 finished with value: 0.01735883764922619 and parameters: {'lr': 0.004358902702194428, 'epochs': 1445, 'sharpness': 5.743429767449721, 'probs_noise_std': 0.4226324391522416, 'subsample_ratio': 0.177388816429681}. Best is trial 41 with value: 0.020064152777194977.\n"
     ]
    },
    {
     "name": "stdout",
     "output_type": "stream",
     "text": [
      "Variant: do_max, Scores: [1.02  1.024 1.001 1.011 1.013 1.051 1.036 1.007 1.012 1.009 1.009], Mean Score: 1.0176\n"
     ]
    },
    {
     "name": "stderr",
     "output_type": "stream",
     "text": [
      "[I 2025-07-02 21:26:40,986] Trial 57 finished with value: 0.01762494631111622 and parameters: {'lr': 0.020274862605501584, 'epochs': 1289, 'sharpness': 1.8168419016865873, 'probs_noise_std': 0.15389770801454003, 'subsample_ratio': 0.27710319100234515}. Best is trial 41 with value: 0.020064152777194977.\n"
     ]
    },
    {
     "name": "stdout",
     "output_type": "stream",
     "text": [
      "Variant: do_max, Scores: [1.019 1.024 1.002 1.011 1.011 1.053 1.04  1.01  1.009 1.007 1.01 ], Mean Score: 1.0179\n"
     ]
    },
    {
     "name": "stderr",
     "output_type": "stream",
     "text": [
      "[I 2025-07-02 21:27:39,362] Trial 58 finished with value: 0.018543429672718048 and parameters: {'lr': 0.00933781139484879, 'epochs': 1688, 'sharpness': 0.36411871736554924, 'probs_noise_std': 0.28985220493222386, 'subsample_ratio': 0.060747251729602214}. Best is trial 41 with value: 0.020064152777194977.\n"
     ]
    },
    {
     "name": "stdout",
     "output_type": "stream",
     "text": [
      "Variant: do_max, Scores: [1.02  1.026 1.004 1.012 1.016 1.048 1.04  1.011 1.01  1.009 1.011], Mean Score: 1.0188\n"
     ]
    },
    {
     "name": "stderr",
     "output_type": "stream",
     "text": [
      "[I 2025-07-02 21:28:20,784] Trial 59 finished with value: 0.018619028851389885 and parameters: {'lr': 0.014230494005761776, 'epochs': 1176, 'sharpness': 0.6631486457901496, 'probs_noise_std': 0.3473943026374471, 'subsample_ratio': 0.38748513500229115}. Best is trial 41 with value: 0.020064152777194977.\n"
     ]
    },
    {
     "name": "stdout",
     "output_type": "stream",
     "text": [
      "Variant: do_max, Scores: [1.018 1.026 1.006 1.012 1.016 1.053 1.041 1.011 1.01  1.006 1.009], Mean Score: 1.0189\n"
     ]
    },
    {
     "name": "stderr",
     "output_type": "stream",
     "text": [
      "[I 2025-07-02 21:29:09,759] Trial 60 finished with value: 0.014494719915091991 and parameters: {'lr': 0.00037799658949430164, 'epochs': 1402, 'sharpness': 0.16636016901566808, 'probs_noise_std': 0.587055077744121, 'subsample_ratio': 0.4831631859832497}. Best is trial 41 with value: 0.020064152777194977.\n"
     ]
    },
    {
     "name": "stdout",
     "output_type": "stream",
     "text": [
      "Variant: do_max, Scores: [1.023 1.019 1.001 1.013 1.02  1.024 1.015 1.01  1.011 1.011 1.013], Mean Score: 1.0146\n"
     ]
    },
    {
     "name": "stderr",
     "output_type": "stream",
     "text": [
      "[I 2025-07-02 21:29:44,187] Trial 61 finished with value: 0.018233293667435646 and parameters: {'lr': 0.028650982763109095, 'epochs': 993, 'sharpness': 1.4659284055225097, 'probs_noise_std': 0.4390389662334368, 'subsample_ratio': 0.3363845059638547}. Best is trial 41 with value: 0.020064152777194977.\n"
     ]
    },
    {
     "name": "stdout",
     "output_type": "stream",
     "text": [
      "Variant: do_max, Scores: [1.017 1.025 1.003 1.012 1.016 1.055 1.037 1.014 1.011 1.008 1.008], Mean Score: 1.0185\n"
     ]
    },
    {
     "name": "stderr",
     "output_type": "stream",
     "text": [
      "[I 2025-07-02 21:30:14,198] Trial 62 finished with value: 0.0189775750041008 and parameters: {'lr': 0.07631566798504553, 'epochs': 855, 'sharpness': 2.926328020057725, 'probs_noise_std': 0.39791371827204935, 'subsample_ratio': 0.4325836534407157}. Best is trial 41 with value: 0.020064152777194977.\n"
     ]
    },
    {
     "name": "stdout",
     "output_type": "stream",
     "text": [
      "Variant: do_max, Scores: [1.023 1.029 1.001 1.01  1.014 1.05  1.044 1.012 1.009 1.01  1.009], Mean Score: 1.0193\n"
     ]
    },
    {
     "name": "stderr",
     "output_type": "stream",
     "text": [
      "[I 2025-07-02 21:31:15,966] Trial 63 finished with value: 0.017460046336054802 and parameters: {'lr': 0.07181859697266783, 'epochs': 1762, 'sharpness': 2.9667924589713723, 'probs_noise_std': 0.3895316185515525, 'subsample_ratio': 0.4306641129776804}. Best is trial 41 with value: 0.020064152777194977.\n"
     ]
    },
    {
     "name": "stdout",
     "output_type": "stream",
     "text": [
      "Variant: do_max, Scores: [1.017 1.026 1.002 1.01  1.017 1.053 1.027 1.012 1.01  1.01  1.009], Mean Score: 1.0177\n"
     ]
    },
    {
     "name": "stderr",
     "output_type": "stream",
     "text": [
      "[I 2025-07-02 21:31:40,724] Trial 64 finished with value: 0.009993317537009716 and parameters: {'lr': 0.00010297638960328426, 'epochs': 704, 'sharpness': 9.562497221692276, 'probs_noise_std': 0.5166915062127765, 'subsample_ratio': 0.9329339939218524}. Best is trial 41 with value: 0.020064152777194977.\n"
     ]
    },
    {
     "name": "stdout",
     "output_type": "stream",
     "text": [
      "Variant: do_max, Scores: [1.02  1.013 1.    1.013 1.014 0.994 1.015 1.012 1.014 1.005 1.01 ], Mean Score: 1.0101\n"
     ]
    },
    {
     "name": "stderr",
     "output_type": "stream",
     "text": [
      "[I 2025-07-02 21:32:36,089] Trial 65 finished with value: 0.01914169266819954 and parameters: {'lr': 0.0409739163100703, 'epochs': 1594, 'sharpness': 2.1219012631342573, 'probs_noise_std': 0.4646724510097735, 'subsample_ratio': 0.255929878988976}. Best is trial 41 with value: 0.020064152777194977.\n"
     ]
    },
    {
     "name": "stdout",
     "output_type": "stream",
     "text": [
      "Variant: do_max, Scores: [1.016 1.029 1.003 1.011 1.016 1.058 1.04  1.012 1.013 1.007 1.009], Mean Score: 1.0194\n"
     ]
    },
    {
     "name": "stderr",
     "output_type": "stream",
     "text": [
      "[I 2025-07-02 21:33:31,275] Trial 66 finished with value: 0.018527962267398834 and parameters: {'lr': 0.04260078058521908, 'epochs': 1599, 'sharpness': 2.3924161877551615, 'probs_noise_std': 0.564264342686267, 'subsample_ratio': 0.14649582200838346}. Best is trial 41 with value: 0.020064152777194977.\n"
     ]
    },
    {
     "name": "stdout",
     "output_type": "stream",
     "text": [
      "Variant: do_max, Scores: [1.026 1.028 1.003 1.011 1.013 1.054 1.034 1.01  1.012 1.007 1.01 ], Mean Score: 1.0188\n"
     ]
    },
    {
     "name": "stderr",
     "output_type": "stream",
     "text": [
      "[I 2025-07-02 21:34:23,108] Trial 67 finished with value: 0.019551584497094154 and parameters: {'lr': 0.05491670019937525, 'epochs': 1493, 'sharpness': 1.070261941564556, 'probs_noise_std': 0.45708898414801896, 'subsample_ratio': 0.24177938878382507}. Best is trial 41 with value: 0.020064152777194977.\n"
     ]
    },
    {
     "name": "stdout",
     "output_type": "stream",
     "text": [
      "Variant: do_max, Scores: [1.025 1.028 1.003 1.012 1.013 1.058 1.039 1.011 1.011 1.008 1.01 ], Mean Score: 1.0199\n"
     ]
    },
    {
     "name": "stderr",
     "output_type": "stream",
     "text": [
      "[I 2025-07-02 21:35:15,134] Trial 68 finished with value: 0.018316077068448067 and parameters: {'lr': 0.007279869941729594, 'epochs': 1491, 'sharpness': 1.06790258711939, 'probs_noise_std': 0.5035721968865394, 'subsample_ratio': 0.20141052498689122}. Best is trial 41 with value: 0.020064152777194977.\n"
     ]
    },
    {
     "name": "stdout",
     "output_type": "stream",
     "text": [
      "Variant: do_max, Scores: [1.016 1.025 1.004 1.014 1.014 1.052 1.04  1.012 1.013 1.005 1.009], Mean Score: 1.0186\n"
     ]
    },
    {
     "name": "stderr",
     "output_type": "stream",
     "text": [
      "[I 2025-07-02 21:36:08,432] Trial 69 finished with value: 0.018659697845578194 and parameters: {'lr': 0.02407254006771412, 'epochs': 1519, 'sharpness': 0.8422225188757603, 'probs_noise_std': 0.340363844760617, 'subsample_ratio': 0.37224715981645523}. Best is trial 41 with value: 0.020064152777194977.\n"
     ]
    },
    {
     "name": "stdout",
     "output_type": "stream",
     "text": [
      "Variant: do_max, Scores: [1.019 1.026 1.001 1.01  1.016 1.055 1.045 1.012 1.013 1.005 1.007], Mean Score: 1.0190\n"
     ]
    },
    {
     "name": "stderr",
     "output_type": "stream",
     "text": [
      "[I 2025-07-02 21:37:05,826] Trial 70 finished with value: 0.017896948382258415 and parameters: {'lr': 0.052041380707706156, 'epochs': 1659, 'sharpness': 1.5851735725896605, 'probs_noise_std': 0.627792444673352, 'subsample_ratio': 0.31597724883712397}. Best is trial 41 with value: 0.020064152777194977.\n"
     ]
    },
    {
     "name": "stdout",
     "output_type": "stream",
     "text": [
      "Variant: do_max, Scores: [1.021 1.025 1.004 1.007 1.014 1.056 1.035 1.01  1.013 1.007 1.008], Mean Score: 1.0182\n"
     ]
    },
    {
     "name": "stderr",
     "output_type": "stream",
     "text": [
      "[I 2025-07-02 21:38:00,559] Trial 71 finished with value: 0.018916498869657516 and parameters: {'lr': 0.03668469486528926, 'epochs': 1572, 'sharpness': 1.936096101894975, 'probs_noise_std': 0.45533197611092446, 'subsample_ratio': 0.2521567790235432}. Best is trial 41 with value: 0.020064152777194977.\n"
     ]
    },
    {
     "name": "stdout",
     "output_type": "stream",
     "text": [
      "Variant: do_max, Scores: [1.014 1.03  1.005 1.014 1.012 1.052 1.044 1.012 1.01  1.007 1.01 ], Mean Score: 1.0192\n"
     ]
    },
    {
     "name": "stderr",
     "output_type": "stream",
     "text": [
      "[I 2025-07-02 21:38:47,043] Trial 72 finished with value: 0.01776072382926941 and parameters: {'lr': 0.06127383965195968, 'epochs': 1343, 'sharpness': 3.768363171920268, 'probs_noise_std': 0.46821464226470544, 'subsample_ratio': 0.265900213239912}. Best is trial 41 with value: 0.020064152777194977.\n"
     ]
    },
    {
     "name": "stdout",
     "output_type": "stream",
     "text": [
      "Variant: do_max, Scores: [1.015 1.025 1.004 1.015 1.018 1.048 1.038 1.01  1.01  1.007 1.008], Mean Score: 1.0180\n"
     ]
    },
    {
     "name": "stderr",
     "output_type": "stream",
     "text": [
      "[I 2025-07-02 21:39:37,102] Trial 73 finished with value: 0.01777210831642151 and parameters: {'lr': 0.027982968446727194, 'epochs': 1427, 'sharpness': 0.5456528490837756, 'probs_noise_std': 0.042074518842551534, 'subsample_ratio': 0.22394092139270205}. Best is trial 41 with value: 0.020064152777194977.\n"
     ]
    },
    {
     "name": "stdout",
     "output_type": "stream",
     "text": [
      "Variant: do_max, Scores: [1.017 1.029 1.001 1.013 1.015 1.048 1.034 1.009 1.012 1.009 1.011], Mean Score: 1.0180\n"
     ]
    },
    {
     "name": "stderr",
     "output_type": "stream",
     "text": [
      "[I 2025-07-02 21:40:36,984] Trial 74 finished with value: 0.019108183681964874 and parameters: {'lr': 0.01285161465029362, 'epochs': 1735, 'sharpness': 1.1669252463885886, 'probs_noise_std': 0.49220260231547996, 'subsample_ratio': 0.09147587890463169}. Best is trial 41 with value: 0.020064152777194977.\n"
     ]
    },
    {
     "name": "stdout",
     "output_type": "stream",
     "text": [
      "Variant: do_max, Scores: [1.02  1.029 1.002 1.013 1.017 1.056 1.039 1.013 1.011 1.006 1.007], Mean Score: 1.0194\n"
     ]
    },
    {
     "name": "stderr",
     "output_type": "stream",
     "text": [
      "[I 2025-07-02 21:41:32,301] Trial 75 finished with value: 0.019144976511597633 and parameters: {'lr': 0.021261024281968802, 'epochs': 1595, 'sharpness': 0.8554899329200807, 'probs_noise_std': 0.372218856849984, 'subsample_ratio': 0.2918330378853487}. Best is trial 41 with value: 0.020064152777194977.\n"
     ]
    },
    {
     "name": "stdout",
     "output_type": "stream",
     "text": [
      "Variant: do_max, Scores: [1.018 1.026 1.004 1.011 1.016 1.051 1.047 1.011 1.015 1.006 1.009], Mean Score: 1.0194\n"
     ]
    },
    {
     "name": "stderr",
     "output_type": "stream",
     "text": [
      "[I 2025-07-02 21:42:15,060] Trial 76 finished with value: 0.017429478466510773 and parameters: {'lr': 0.0018864725955467215, 'epochs': 1236, 'sharpness': 0.7246468364841798, 'probs_noise_std': 0.37210784680418646, 'subsample_ratio': 0.30778241930858535}. Best is trial 41 with value: 0.020064152777194977.\n"
     ]
    },
    {
     "name": "stdout",
     "output_type": "stream",
     "text": [
      "Variant: do_max, Scores: [1.021 1.025 1.004 1.012 1.017 1.04  1.031 1.011 1.012 1.01  1.011], Mean Score: 1.0176\n"
     ]
    },
    {
     "name": "stderr",
     "output_type": "stream",
     "text": [
      "[I 2025-07-02 21:43:07,246] Trial 77 finished with value: 0.01850711554288864 and parameters: {'lr': 0.017774655318048553, 'epochs': 1468, 'sharpness': 0.9650095377925249, 'probs_noise_std': 0.2359734476854251, 'subsample_ratio': 0.351599579002217}. Best is trial 41 with value: 0.020064152777194977.\n"
     ]
    },
    {
     "name": "stdout",
     "output_type": "stream",
     "text": [
      "Variant: do_max, Scores: [1.023 1.028 1.005 1.012 1.016 1.042 1.043 1.013 1.011 1.007 1.008], Mean Score: 1.0188\n"
     ]
    },
    {
     "name": "stderr",
     "output_type": "stream",
     "text": [
      "[I 2025-07-02 21:43:47,511] Trial 78 finished with value: 0.01922338269650936 and parameters: {'lr': 0.01021677575175422, 'epochs': 1144, 'sharpness': 0.41644713520852417, 'probs_noise_std': 0.27429665305285644, 'subsample_ratio': 0.39998841897292264}. Best is trial 41 with value: 0.020064152777194977.\n"
     ]
    },
    {
     "name": "stdout",
     "output_type": "stream",
     "text": [
      "Variant: do_max, Scores: [1.016 1.027 1.005 1.013 1.018 1.054 1.042 1.012 1.011 1.007 1.01 ], Mean Score: 1.0195\n"
     ]
    },
    {
     "name": "stderr",
     "output_type": "stream",
     "text": [
      "[I 2025-07-02 21:44:28,266] Trial 79 finished with value: 0.017072802409529686 and parameters: {'lr': 0.009585162172335982, 'epochs': 1172, 'sharpness': 0.35394921240028054, 'probs_noise_std': 0.10635630051101007, 'subsample_ratio': 0.3986999948963178}. Best is trial 41 with value: 0.020064152777194977.\n"
     ]
    },
    {
     "name": "stdout",
     "output_type": "stream",
     "text": [
      "Variant: do_max, Scores: [1.023 1.03  1.004 1.013 1.014 1.036 1.032 1.008 1.01  1.009 1.011], Mean Score: 1.0173\n"
     ]
    },
    {
     "name": "stderr",
     "output_type": "stream",
     "text": [
      "[I 2025-07-02 21:45:04,845] Trial 80 finished with value: 0.01704922877252102 and parameters: {'lr': 0.00600268971924534, 'epochs': 1052, 'sharpness': 0.2628167521343083, 'probs_noise_std': 0.2740299188794091, 'subsample_ratio': 0.5016059398097852}. Best is trial 41 with value: 0.020064152777194977.\n"
     ]
    },
    {
     "name": "stdout",
     "output_type": "stream",
     "text": [
      "Variant: do_max, Scores: [1.02  1.023 1.003 1.011 1.017 1.042 1.033 1.011 1.009 1.01  1.01 ], Mean Score: 1.0173\n"
     ]
    },
    {
     "name": "stderr",
     "output_type": "stream",
     "text": [
      "[I 2025-07-02 21:46:03,389] Trial 81 finished with value: 0.017880139872431755 and parameters: {'lr': 0.02044299132944999, 'epochs': 1690, 'sharpness': 0.17665940848960934, 'probs_noise_std': 0.3265556532552327, 'subsample_ratio': 0.33104746029572285}. Best is trial 41 with value: 0.020064152777194977.\n"
     ]
    },
    {
     "name": "stdout",
     "output_type": "stream",
     "text": [
      "Variant: do_max, Scores: [1.018 1.024 1.002 1.011 1.016 1.048 1.042 1.01  1.01  1.007 1.01 ], Mean Score: 1.0181\n"
     ]
    },
    {
     "name": "stderr",
     "output_type": "stream",
     "text": [
      "[I 2025-07-02 21:46:59,727] Trial 82 finished with value: 0.019367970526218414 and parameters: {'lr': 0.012399675628017547, 'epochs': 1631, 'sharpness': 0.4834519077748419, 'probs_noise_std': 0.4111618406145477, 'subsample_ratio': 0.28689869049006084}. Best is trial 41 with value: 0.020064152777194977.\n"
     ]
    },
    {
     "name": "stdout",
     "output_type": "stream",
     "text": [
      "Variant: do_max, Scores: [1.017 1.028 1.004 1.014 1.017 1.054 1.036 1.012 1.014 1.008 1.012], Mean Score: 1.0196\n"
     ]
    },
    {
     "name": "stderr",
     "output_type": "stream",
     "text": [
      "[I 2025-07-02 21:48:02,181] Trial 83 finished with value: 0.019445380195975304 and parameters: {'lr': 0.01092473333231571, 'epochs': 1790, 'sharpness': 0.4975615567061423, 'probs_noise_std': 0.41134460784109417, 'subsample_ratio': 0.37360644824797196}. Best is trial 41 with value: 0.020064152777194977.\n"
     ]
    },
    {
     "name": "stdout",
     "output_type": "stream",
     "text": [
      "Variant: do_max, Scores: [1.02  1.027 1.005 1.013 1.015 1.055 1.036 1.015 1.013 1.009 1.01 ], Mean Score: 1.0197\n",
      "\n",
      "Trials DataFrame:\n",
      "    number     value             datetime_start          datetime_complete               duration  params_epochs  params_lr  params_probs_noise_std  params_sharpness  params_subsample_ratio     state\n",
      "6        6  0.009470 2025-07-02 20:51:33.333309 2025-07-02 20:52:00.107700 0 days 00:00:26.774391            771   0.000217                0.272137         20.612262                0.067254  COMPLETE\n",
      "3        3  0.009879 2025-07-02 20:49:19.442997 2025-07-02 20:49:43.478392 0 days 00:00:24.035395            679   0.000231                0.680896         34.550529                0.969637  COMPLETE\n",
      "64      64  0.009993 2025-07-02 21:31:15.966269 2025-07-02 21:31:40.724039 0 days 00:00:24.757770            704   0.000103                0.516692          9.562497                0.932934  COMPLETE\n",
      "7        7  0.011226 2025-07-02 20:52:00.107700 2025-07-02 20:52:31.643387 0 days 00:00:31.535687            900   0.000150                0.493315          9.204910                0.981744  COMPLETE\n",
      "39      39  0.012143 2025-07-02 21:10:16.402041 2025-07-02 21:10:18.740269 0 days 00:00:02.338228             55   0.034237                0.000587         48.897595                0.274561  COMPLETE\n",
      "29      29  0.012562 2025-07-02 21:05:51.710986 2025-07-02 21:05:58.877292 0 days 00:00:07.166306            191   0.000718                0.072732          0.101780                0.398657  COMPLETE\n",
      "18      18  0.012811 2025-07-02 21:00:13.745361 2025-07-02 21:00:18.990019 0 days 00:00:05.244658            135   0.041742                0.581779          6.741063                0.694694  COMPLETE\n",
      "30      30  0.013678 2025-07-02 21:05:58.878369 2025-07-02 21:06:08.617511 0 days 00:00:09.739142            269   0.001259                0.124625         13.290400                0.300401  COMPLETE\n",
      "60      60  0.014495 2025-07-02 21:28:20.785973 2025-07-02 21:29:09.759080 0 days 00:00:48.973107           1402   0.000378                0.587055          0.166360                0.483163  COMPLETE\n",
      "0        0  0.014671 2025-07-02 20:47:54.141003 2025-07-02 20:48:01.791178 0 days 00:00:07.650175            202   0.000817                0.057517          0.809030                0.356991  COMPLETE\n",
      "15      15  0.015188 2025-07-02 20:58:24.257493 2025-07-02 20:59:06.616055 0 days 00:00:42.358562           1228   0.004764                0.612524          0.772125                0.010127  COMPLETE\n",
      "4        4  0.015310 2025-07-02 20:49:43.478392 2025-07-02 20:50:43.913748 0 days 00:01:00.435356           1732   0.002662                0.257654         15.126764                0.634015  COMPLETE\n",
      "25      25  0.015852 2025-07-02 21:03:03.299952 2025-07-02 21:03:41.578177 0 days 00:00:38.278225           1089   0.031415                0.284252          8.012139                0.104664  COMPLETE\n",
      "16      16  0.016091 2025-07-02 20:59:06.616055 2025-07-02 21:00:00.800183 0 days 00:00:54.184128           1568   0.001422                0.152687          0.300458                0.166103  COMPLETE\n",
      "1        1  0.016249 2025-07-02 20:48:01.791178 2025-07-02 20:48:43.932513 0 days 00:00:42.141335           1201   0.002668                0.861198         42.291690                0.458565  COMPLETE\n",
      "8        8  0.016697 2025-07-02 20:52:31.643387 2025-07-02 20:52:53.707703 0 days 00:00:22.064316            628   0.067447                0.967148          0.054737                0.244738  COMPLETE\n",
      "48      48  0.016704 2025-07-02 21:17:45.876459 2025-07-02 21:18:43.150216 0 days 00:00:57.273757           1643   0.002800                0.425007          0.297777                0.175577  COMPLETE\n",
      "37      37  0.016760 2025-07-02 21:09:06.270444 2025-07-02 21:09:37.901401 0 days 00:00:31.630957            913   0.008717                0.740753          0.462086                0.597575  COMPLETE\n",
      "36      36  0.016964 2025-07-02 21:08:48.026916 2025-07-02 21:09:06.270444 0 days 00:00:18.243528            512   0.032622                0.535804          5.901369                0.729711  COMPLETE\n",
      "80      80  0.017049 2025-07-02 21:44:28.266282 2025-07-02 21:45:04.845927 0 days 00:00:36.579645           1052   0.006003                0.274030          0.262817                0.501606  COMPLETE\n",
      "79      79  0.017073 2025-07-02 21:43:47.512429 2025-07-02 21:44:28.266282 0 days 00:00:40.753853           1172   0.009585                0.106356          0.353949                0.398700  COMPLETE\n",
      "12      12  0.017214 2025-07-02 20:55:42.089190 2025-07-02 20:56:32.298093 0 days 00:00:50.208903           1444   0.008013                0.006365          1.987892                0.235345  COMPLETE\n",
      "56      56  0.017359 2025-07-02 21:25:05.312348 2025-07-02 21:25:56.089153 0 days 00:00:50.776805           1445   0.004359                0.422632          5.743430                0.177389  COMPLETE\n",
      "49      49  0.017364 2025-07-02 21:18:43.150216 2025-07-02 21:19:35.731166 0 days 00:00:52.580950           1502   0.018074                0.036411          2.433361                0.250974  COMPLETE\n",
      "76      76  0.017429 2025-07-02 21:41:32.301798 2025-07-02 21:42:15.060871 0 days 00:00:42.759073           1236   0.001886                0.372108          0.724647                0.307782  COMPLETE\n",
      "63      63  0.017460 2025-07-02 21:30:14.198703 2025-07-02 21:31:15.966269 0 days 00:01:01.767566           1762   0.071819                0.389532          2.966792                0.430664  COMPLETE\n",
      "44      44  0.017479 2025-07-02 21:14:14.417708 2025-07-02 21:15:14.356842 0 days 00:00:59.939134           1710   0.005929                0.112611         12.346300                0.614459  COMPLETE\n",
      "5        5  0.017597 2025-07-02 20:50:43.913748 2025-07-02 20:51:33.333309 0 days 00:00:49.419561           1422   0.031984                0.708257          0.217757                0.651167  COMPLETE\n",
      "2        2  0.017618 2025-07-02 20:48:43.932513 2025-07-02 20:49:19.442997 0 days 00:00:35.510484           1023   0.008940                0.351274          0.188158                0.134844  COMPLETE\n",
      "57      57  0.017625 2025-07-02 21:25:56.089153 2025-07-02 21:26:40.986173 0 days 00:00:44.897020           1289   0.020275                0.153898          1.816842                0.277103  COMPLETE\n",
      "23      23  0.017707 2025-07-02 21:02:11.283083 2025-07-02 21:02:29.038251 0 days 00:00:17.755168            500   0.018010                0.372170          0.498320                0.479849  COMPLETE\n",
      "32      32  0.017713 2025-07-02 21:06:37.527042 2025-07-02 21:06:58.539225 0 days 00:00:21.012183            580   0.064120                0.753682          3.516653                0.572184  COMPLETE\n",
      "72      72  0.017761 2025-07-02 21:38:00.559584 2025-07-02 21:38:47.043257 0 days 00:00:46.483673           1343   0.061274                0.468215          3.768363                0.265900  COMPLETE\n",
      "73      73  0.017772 2025-07-02 21:38:47.043257 2025-07-02 21:39:37.102142 0 days 00:00:50.058885           1427   0.027983                0.042075          0.545653                0.223941  COMPLETE\n",
      "10      10  0.017807 2025-07-02 20:53:44.203819 2025-07-02 20:54:41.374535 0 days 00:00:57.170716           1663   0.014489                0.084334          2.970554                0.022054  COMPLETE\n",
      "50      50  0.017824 2025-07-02 21:19:35.731166 2025-07-02 21:20:33.344254 0 days 00:00:57.613088           1653   0.006850                0.209761          0.628523                0.065599  COMPLETE\n",
      "45      45  0.017874 2025-07-02 21:15:14.356842 2025-07-02 21:16:01.483741 0 days 00:00:47.126899           1353   0.027959                0.239860         27.178047                0.460658  COMPLETE\n",
      "81      81  0.017880 2025-07-02 21:45:04.845927 2025-07-02 21:46:03.389065 0 days 00:00:58.543138           1690   0.020443                0.326556          0.176659                0.331047  COMPLETE\n",
      "70      70  0.017897 2025-07-02 21:36:08.432790 2025-07-02 21:37:05.826949 0 days 00:00:57.394159           1659   0.052041                0.627792          1.585174                0.315977  COMPLETE\n",
      "38      38  0.017921 2025-07-02 21:09:37.901401 2025-07-02 21:10:16.402041 0 days 00:00:38.500640           1105   0.056477                0.341643          1.028495                0.122038  COMPLETE\n",
      "14      14  0.017955 2025-07-02 20:57:34.733530 2025-07-02 20:58:24.257493 0 days 00:00:49.523963           1414   0.022912                0.189560          4.541384                0.364692  COMPLETE\n",
      "34      34  0.017982 2025-07-02 21:07:36.504968 2025-07-02 21:08:21.987282 0 days 00:00:45.482314           1314   0.097230                0.895490          1.277005                0.427067  COMPLETE\n",
      "35      35  0.018119 2025-07-02 21:08:21.987282 2025-07-02 21:08:48.026916 0 days 00:00:26.039634            747   0.003722                0.647824          4.419509                0.510039  COMPLETE\n",
      "52      52  0.018179 2025-07-02 21:21:26.032181 2025-07-02 21:22:14.391783 0 days 00:00:48.359602           1377   0.011131                0.522319          1.646352                0.337778  COMPLETE\n",
      "42      42  0.018188 2025-07-02 21:12:11.568273 2025-07-02 21:13:11.230953 0 days 00:00:59.662680           1711   0.018659                0.259692          0.582424                0.380828  COMPLETE\n",
      "61      61  0.018233 2025-07-02 21:29:09.759080 2025-07-02 21:29:44.187508 0 days 00:00:34.428428            993   0.028651                0.439039          1.465928                0.336385  COMPLETE\n",
      "31      31  0.018243 2025-07-02 21:06:08.618527 2025-07-02 21:06:37.527042 0 days 00:00:28.908515            819   0.091840                0.811844          1.162370                0.557075  COMPLETE\n",
      "68      68  0.018316 2025-07-02 21:34:23.108202 2025-07-02 21:35:15.134275 0 days 00:00:52.026073           1491   0.007280                0.503572          1.067903                0.201411  COMPLETE\n",
      "28      28  0.018405 2025-07-02 21:05:07.916440 2025-07-02 21:05:51.710986 0 days 00:00:43.794546           1262   0.047375                0.400011          0.417804                0.317520  COMPLETE\n",
      "51      51  0.018407 2025-07-02 21:20:33.345290 2025-07-02 21:21:26.032181 0 days 00:00:52.686891           1486   0.015308                0.384900          0.901547                0.313429  COMPLETE\n",
      "22      22  0.018417 2025-07-02 21:01:29.509163 2025-07-02 21:02:11.283083 0 days 00:00:41.773920           1198   0.005295                0.545516          1.803145                0.357758  COMPLETE\n",
      "77      77  0.018507 2025-07-02 21:42:15.060871 2025-07-02 21:43:07.246141 0 days 00:00:52.185270           1468   0.017775                0.235973          0.965010                0.351600  COMPLETE\n",
      "13      13  0.018512 2025-07-02 20:56:32.298093 2025-07-02 20:57:34.733530 0 days 00:01:02.435437           1781   0.083409                0.438394          0.742732                0.211132  COMPLETE\n",
      "66      66  0.018528 2025-07-02 21:32:36.089829 2025-07-02 21:33:31.275705 0 days 00:00:55.185876           1599   0.042601                0.564264          2.392416                0.146496  COMPLETE\n",
      "58      58  0.018543 2025-07-02 21:26:40.986173 2025-07-02 21:27:39.362744 0 days 00:00:58.376571           1688   0.009338                0.289852          0.364119                0.060747  COMPLETE\n",
      "40      40  0.018585 2025-07-02 21:10:18.740269 2025-07-02 21:11:12.406696 0 days 00:00:53.666427           1551   0.011841                0.461030          2.177769                0.458814  COMPLETE\n",
      "20      20  0.018608 2025-07-02 21:00:32.051640 2025-07-02 21:00:46.199218 0 days 00:00:14.147578            394   0.047879                0.173451          4.188614                0.819908  COMPLETE\n",
      "55      55  0.018615 2025-07-02 21:24:04.431124 2025-07-02 21:25:05.312348 0 days 00:01:00.881224           1741   0.041144                0.477590          0.947238                0.352171  COMPLETE\n",
      "59      59  0.018619 2025-07-02 21:27:39.362744 2025-07-02 21:28:20.784952 0 days 00:00:41.422208           1176   0.014230                0.347394          0.663149                0.387485  COMPLETE\n",
      "19      19  0.018654 2025-07-02 21:00:18.990019 2025-07-02 21:00:32.051640 0 days 00:00:13.061621            364   0.022377                0.324557          1.766030                0.520760  COMPLETE\n",
      "69      69  0.018660 2025-07-02 21:35:15.134275 2025-07-02 21:36:08.432790 0 days 00:00:53.298515           1519   0.024073                0.340364          0.842223                0.372247  COMPLETE\n",
      "53      53  0.018759 2025-07-02 21:22:14.391783 2025-07-02 21:23:10.750522 0 days 00:00:56.358739           1614   0.024629                0.311930          0.736252                0.413286  COMPLETE\n",
      "9        9  0.018776 2025-07-02 20:52:53.707703 2025-07-02 20:53:44.203819 0 days 00:00:50.496116           1450   0.012570                0.413234          0.829621                0.199500  COMPLETE\n",
      "54      54  0.018798 2025-07-02 21:23:10.750522 2025-07-02 21:24:04.431124 0 days 00:00:53.680602           1538   0.015830                0.363420          3.421547                0.222106  COMPLETE\n",
      "33      33  0.018807 2025-07-02 21:06:58.539225 2025-07-02 21:07:36.504189 0 days 00:00:37.964964           1089   0.023603                0.986353          2.498227                0.789819  COMPLETE\n",
      "24      24  0.018865 2025-07-02 21:02:29.038251 2025-07-02 21:03:03.299952 0 days 00:00:34.261701            970   0.007589                0.478281          2.877087                0.287510  COMPLETE\n",
      "43      43  0.018877 2025-07-02 21:13:11.230953 2025-07-02 21:14:14.416784 0 days 00:01:03.185831           1799   0.010381                0.307299          1.375523                0.530993  COMPLETE\n",
      "27      27  0.018903 2025-07-02 21:04:11.995159 2025-07-02 21:05:07.916440 0 days 00:00:55.921281           1591   0.013119                0.218436          1.226585                0.422920  COMPLETE\n",
      "71      71  0.018916 2025-07-02 21:37:05.826949 2025-07-02 21:38:00.559584 0 days 00:00:54.732635           1572   0.036685                0.455332          1.936096                0.252157  COMPLETE\n",
      "26      26  0.018934 2025-07-02 21:03:41.578971 2025-07-02 21:04:11.995159 0 days 00:00:30.416188            863   0.098048                0.774770          1.360705                0.541942  COMPLETE\n",
      "62      62  0.018978 2025-07-02 21:29:44.187508 2025-07-02 21:30:14.198703 0 days 00:00:30.011195            855   0.076316                0.397914          2.926328                0.432584  COMPLETE\n",
      "74      74  0.019108 2025-07-02 21:39:37.102142 2025-07-02 21:40:36.984036 0 days 00:00:59.881894           1735   0.012852                0.492203          1.166925                0.091476  COMPLETE\n",
      "65      65  0.019142 2025-07-02 21:31:40.725079 2025-07-02 21:32:36.089829 0 days 00:00:55.364750           1594   0.040974                0.464672          2.121901                0.255930  COMPLETE\n",
      "75      75  0.019145 2025-07-02 21:40:36.985077 2025-07-02 21:41:32.301798 0 days 00:00:55.316721           1595   0.021261                0.372219          0.855490                0.291833  COMPLETE\n",
      "78      78  0.019223 2025-07-02 21:43:07.247149 2025-07-02 21:43:47.511312 0 days 00:00:40.264163           1144   0.010217                0.274297          0.416447                0.399988  COMPLETE\n",
      "82      82  0.019368 2025-07-02 21:46:03.389065 2025-07-02 21:46:59.727847 0 days 00:00:56.338782           1631   0.012400                0.411162          0.483452                0.286899  COMPLETE\n",
      "46      46  0.019420 2025-07-02 21:16:01.483741 2025-07-02 21:16:53.666387 0 days 00:00:52.182646           1515   0.014905                0.385875          0.904751                0.341045  COMPLETE\n",
      "83      83  0.019445 2025-07-02 21:46:59.727847 2025-07-02 21:48:02.181263 0 days 00:01:02.453416           1790   0.010925                0.411345          0.497562                0.373606  COMPLETE\n",
      "17      17  0.019458 2025-07-02 21:00:00.800183 2025-07-02 21:00:13.745361 0 days 00:00:12.945178            355   0.033338                0.383315          3.619702                0.354249  COMPLETE\n",
      "67      67  0.019552 2025-07-02 21:33:31.275705 2025-07-02 21:34:23.108202 0 days 00:00:51.832497           1493   0.054917                0.457089          1.070262                0.241779  COMPLETE\n",
      "47      47  0.019648 2025-07-02 21:16:53.666387 2025-07-02 21:17:45.859346 0 days 00:00:52.192959           1506   0.016221                0.403285          0.876216                0.335864  COMPLETE\n",
      "21      21  0.019898 2025-07-02 21:00:46.199218 2025-07-02 21:01:29.509163 0 days 00:00:43.309945           1250   0.012622                0.394401          1.083116                0.319421  COMPLETE\n",
      "11      11  0.020001 2025-07-02 20:54:41.374535 2025-07-02 20:55:42.089190 0 days 00:01:00.714655           1768   0.013510                0.045528          2.364286                0.031535  COMPLETE\n",
      "41      41  0.020064 2025-07-02 21:11:12.406696 2025-07-02 21:12:11.568273 0 days 00:00:59.161577           1699   0.018601                0.221060          1.528495                0.414516  COMPLETE\n"
     ]
    },
    {
     "name": "stderr",
     "output_type": "stream",
     "text": [
      "[I 2025-07-02 21:48:02,714] A new study created in memory with name: do_min\n"
     ]
    },
    {
     "name": "stdout",
     "output_type": "stream",
     "text": [
      "Parameter Importances:\n",
      "epochs: 0.45920849384083523\n",
      "sharpness: 0.26648794785260704\n",
      "lr: 0.15059017501250493\n",
      "subsample_ratio: 0.07125348840905404\n",
      "probs_noise_std: 0.052459894884998894\n"
     ]
    },
    {
     "name": "stderr",
     "output_type": "stream",
     "text": [
      "[I 2025-07-02 21:48:39,131] Trial 0 finished with value: 0.011051216162741184 and parameters: {'lr': 0.001011441492898723, 'epochs': 1043, 'sharpness': 0.052916048298975844, 'probs_noise_std': 0.4226006510426177, 'subsample_ratio': 0.3055594043785378}. Best is trial 0 with value: 0.011051216162741184.\n"
     ]
    },
    {
     "name": "stdout",
     "output_type": "stream",
     "text": [
      "Variant: do_min, Scores: [1.015 1.021 1.003 0.996 1.001 1.014 1.055 1.006 1.005 1.003 1.004], Mean Score: 1.0112\n"
     ]
    },
    {
     "name": "stderr",
     "output_type": "stream",
     "text": [
      "[I 2025-07-02 21:49:19,351] Trial 1 finished with value: 0.012222983874380589 and parameters: {'lr': 0.04653257666772112, 'epochs': 1169, 'sharpness': 44.04725282787302, 'probs_noise_std': 0.929494445790444, 'subsample_ratio': 0.9191358294992164}. Best is trial 0 with value: 0.011051216162741184.\n"
     ]
    },
    {
     "name": "stdout",
     "output_type": "stream",
     "text": [
      "Variant: do_min, Scores: [1.013 1.019 1.004 0.996 1.005 1.011 1.058 1.011 1.008 1.004 1.006], Mean Score: 1.0124\n"
     ]
    },
    {
     "name": "stderr",
     "output_type": "stream",
     "text": [
      "[I 2025-07-02 21:50:00,904] Trial 2 finished with value: 0.012161826714873314 and parameters: {'lr': 0.005902371177415418, 'epochs': 1204, 'sharpness': 16.255719661280153, 'probs_noise_std': 0.5033296813315544, 'subsample_ratio': 0.07574726930713899}. Best is trial 0 with value: 0.011051216162741184.\n"
     ]
    },
    {
     "name": "stdout",
     "output_type": "stream",
     "text": [
      "Variant: do_min, Scores: [1.017 1.021 1.004 0.996 0.999 1.018 1.063 1.006 1.005 1.001 1.007], Mean Score: 1.0124\n"
     ]
    },
    {
     "name": "stderr",
     "output_type": "stream",
     "text": [
      "[I 2025-07-02 21:51:02,838] Trial 3 finished with value: 0.008294758386909962 and parameters: {'lr': 0.00031444459496679446, 'epochs': 1793, 'sharpness': 7.886569553449255, 'probs_noise_std': 0.22467678229078447, 'subsample_ratio': 0.7233192128382001}. Best is trial 3 with value: 0.008294758386909962.\n"
     ]
    },
    {
     "name": "stdout",
     "output_type": "stream",
     "text": [
      "Variant: do_min, Scores: [1.013 1.022 1.007 0.994 0.998 1.016 1.015 1.008 1.008 1.006 1.004], Mean Score: 1.0084\n"
     ]
    },
    {
     "name": "stderr",
     "output_type": "stream",
     "text": [
      "[I 2025-07-02 21:51:58,375] Trial 4 finished with value: 0.014540172182023525 and parameters: {'lr': 0.005228385224206625, 'epochs': 1588, 'sharpness': 7.637401927410029, 'probs_noise_std': 0.07607511693066182, 'subsample_ratio': 0.6350252633878986}. Best is trial 3 with value: 0.008294758386909962.\n"
     ]
    },
    {
     "name": "stdout",
     "output_type": "stream",
     "text": [
      "Variant: do_min, Scores: [1.02  1.022 1.007 0.992 0.998 1.018 1.083 1.008 1.008 1.006 1.002], Mean Score: 1.0149\n"
     ]
    },
    {
     "name": "stderr",
     "output_type": "stream",
     "text": [
      "[I 2025-07-02 21:52:59,962] Trial 5 finished with value: 0.01239362359046936 and parameters: {'lr': 0.005650029888070452, 'epochs': 1766, 'sharpness': 27.271593907077524, 'probs_noise_std': 0.7719104163391092, 'subsample_ratio': 0.247717494471358}. Best is trial 3 with value: 0.008294758386909962.\n"
     ]
    },
    {
     "name": "stdout",
     "output_type": "stream",
     "text": [
      "Variant: do_min, Scores: [1.02  1.025 1.003 0.995 1.    1.013 1.053 1.009 1.009 1.006 1.005], Mean Score: 1.0126\n"
     ]
    },
    {
     "name": "stderr",
     "output_type": "stream",
     "text": [
      "[I 2025-07-02 21:53:08,380] Trial 6 finished with value: 0.009549549780786037 and parameters: {'lr': 0.02506154506466432, 'epochs': 230, 'sharpness': 0.24090168329826284, 'probs_noise_std': 0.7482958192981852, 'subsample_ratio': 0.5220534496491768}. Best is trial 3 with value: 0.008294758386909962.\n"
     ]
    },
    {
     "name": "stdout",
     "output_type": "stream",
     "text": [
      "Variant: do_min, Scores: [1.015 1.022 1.005 0.995 1.002 1.014 1.03  1.007 1.007 1.005 1.004], Mean Score: 1.0096\n"
     ]
    },
    {
     "name": "stderr",
     "output_type": "stream",
     "text": [
      "[I 2025-07-02 21:53:27,485] Trial 7 finished with value: 0.008723791688680649 and parameters: {'lr': 0.05743192329243872, 'epochs': 528, 'sharpness': 2.9912193481227254, 'probs_noise_std': 0.2886019106564227, 'subsample_ratio': 0.09298251238708148}. Best is trial 3 with value: 0.008294758386909962.\n"
     ]
    },
    {
     "name": "stdout",
     "output_type": "stream",
     "text": [
      "Variant: do_min, Scores: [1.013 1.011 1.004 0.988 1.003 1.019 1.037 1.009 1.003 1.007 1.003], Mean Score: 1.0088\n"
     ]
    },
    {
     "name": "stderr",
     "output_type": "stream",
     "text": [
      "[I 2025-07-02 21:53:30,575] Trial 8 finished with value: 0.00686261523514986 and parameters: {'lr': 0.00037874617171273475, 'epochs': 78, 'sharpness': 2.9030471746124347, 'probs_noise_std': 0.32111896122089933, 'subsample_ratio': 0.6460178651739928}. Best is trial 8 with value: 0.00686261523514986.\n"
     ]
    },
    {
     "name": "stdout",
     "output_type": "stream",
     "text": [
      "Variant: do_min, Scores: [1.015 1.022 1.001 0.996 0.998 1.018 1.003 1.006 1.009 1.004 1.004], Mean Score: 1.0069\n"
     ]
    },
    {
     "name": "stderr",
     "output_type": "stream",
     "text": [
      "[I 2025-07-02 21:54:13,402] Trial 9 finished with value: 0.01059954147785902 and parameters: {'lr': 0.018589020771154686, 'epochs': 1227, 'sharpness': 0.05088115870694481, 'probs_noise_std': 0.8391978969958418, 'subsample_ratio': 0.7749590967637885}. Best is trial 8 with value: 0.00686261523514986.\n"
     ]
    },
    {
     "name": "stdout",
     "output_type": "stream",
     "text": [
      "Variant: do_min, Scores: [1.017 1.02  1.006 0.993 1.001 1.017 1.041 1.008 1.008 1.004 1.002], Mean Score: 1.0107\n"
     ]
    },
    {
     "name": "stderr",
     "output_type": "stream",
     "text": [
      "[I 2025-07-02 21:54:16,255] Trial 10 finished with value: 0.007598445285111666 and parameters: {'lr': 0.00010361625824168015, 'epochs': 71, 'sharpness': 1.002010213505158, 'probs_noise_std': 0.5601379784934767, 'subsample_ratio': 0.37979120453802206}. Best is trial 8 with value: 0.00686261523514986.\n"
     ]
    },
    {
     "name": "stdout",
     "output_type": "stream",
     "text": [
      "Variant: do_min, Scores: [1.012 1.017 1.003 1.004 1.    1.008 1.019 1.005 1.005 1.005 1.004], Mean Score: 1.0076\n"
     ]
    },
    {
     "name": "stderr",
     "output_type": "stream",
     "text": [
      "[I 2025-07-02 21:54:20,483] Trial 11 finished with value: 0.010040284134447575 and parameters: {'lr': 0.0001226844519136164, 'epochs': 108, 'sharpness': 0.663075388643916, 'probs_noise_std': 0.5374191018492775, 'subsample_ratio': 0.4083766861148213}. Best is trial 8 with value: 0.00686261523514986.\n"
     ]
    },
    {
     "name": "stdout",
     "output_type": "stream",
     "text": [
      "Variant: do_min, Scores: [1.013 1.02  1.004 1.002 1.    1.009 1.045 1.004 1.005 1.005 1.004], Mean Score: 1.0102\n"
     ]
    },
    {
     "name": "stderr",
     "output_type": "stream",
     "text": [
      "[I 2025-07-02 21:54:39,607] Trial 12 finished with value: 0.010123956948518753 and parameters: {'lr': 0.0001001351265676444, 'epochs': 529, 'sharpness': 1.2546892850381168, 'probs_noise_std': 0.6645434970044356, 'subsample_ratio': 0.5150567113629613}. Best is trial 8 with value: 0.00686261523514986.\n"
     ]
    },
    {
     "name": "stdout",
     "output_type": "stream",
     "text": [
      "Variant: do_min, Scores: [1.013 1.021 1.003 0.997 1.    1.012 1.043 1.008 1.007 1.005 1.004], Mean Score: 1.0102\n"
     ]
    },
    {
     "name": "stderr",
     "output_type": "stream",
     "text": [
      "[I 2025-07-02 21:54:55,191] Trial 13 finished with value: 0.011086429469287395 and parameters: {'lr': 0.0005906957602055906, 'epochs': 432, 'sharpness': 0.3843182067097323, 'probs_noise_std': 0.3277682455876829, 'subsample_ratio': 0.9397791364343504}. Best is trial 8 with value: 0.00686261523514986.\n"
     ]
    },
    {
     "name": "stdout",
     "output_type": "stream",
     "text": [
      "Variant: do_min, Scores: [1.017 1.022 1.004 0.996 1.001 1.016 1.044 1.008 1.007 1.004 1.005], Mean Score: 1.0112\n"
     ]
    },
    {
     "name": "stderr",
     "output_type": "stream",
     "text": [
      "[I 2025-07-02 21:55:19,578] Trial 14 finished with value: 0.011062275618314743 and parameters: {'lr': 0.00032592486851736334, 'epochs': 697, 'sharpness': 2.435082495281438, 'probs_noise_std': 0.08110290798281478, 'subsample_ratio': 0.3581059581361804}. Best is trial 8 with value: 0.00686261523514986.\n"
     ]
    },
    {
     "name": "stdout",
     "output_type": "stream",
     "text": [
      "Variant: do_min, Scores: [1.015 1.022 1.003 0.996 1.001 1.026 1.037 1.007 1.008 1.005 1.004], Mean Score: 1.0112\n"
     ]
    },
    {
     "name": "stderr",
     "output_type": "stream",
     "text": [
      "[I 2025-07-02 21:55:23,135] Trial 15 finished with value: 0.011242189444601536 and parameters: {'lr': 0.001384797439413444, 'epochs': 90, 'sharpness': 0.14923649030282185, 'probs_noise_std': 0.6380244106421668, 'subsample_ratio': 0.6287851309010899}. Best is trial 8 with value: 0.00686261523514986.\n"
     ]
    },
    {
     "name": "stdout",
     "output_type": "stream",
     "text": [
      "Variant: do_min, Scores: [1.017 1.022 1.005 1.    0.999 1.01  1.053 1.007 1.005 1.004 1.004], Mean Score: 1.0114\n"
     ]
    },
    {
     "name": "stderr",
     "output_type": "stream",
     "text": [
      "[I 2025-07-02 21:55:51,664] Trial 16 finished with value: 0.010767974890768528 and parameters: {'lr': 0.00024013465218154906, 'epochs': 818, 'sharpness': 1.4751412746163783, 'probs_noise_std': 0.4359609203107685, 'subsample_ratio': 0.19798863249988824}. Best is trial 8 with value: 0.00686261523514986.\n"
     ]
    },
    {
     "name": "stdout",
     "output_type": "stream",
     "text": [
      "Variant: do_min, Scores: [1.02  1.02  1.004 0.992 0.999 1.019 1.039 1.008 1.009 1.004 1.005], Mean Score: 1.0109\n"
     ]
    },
    {
     "name": "stderr",
     "output_type": "stream",
     "text": [
      "[I 2025-07-02 21:56:03,010] Trial 17 finished with value: 0.008036435581743717 and parameters: {'lr': 0.001937508179064822, 'epochs': 316, 'sharpness': 4.341278955204551, 'probs_noise_std': 0.18291383189939137, 'subsample_ratio': 0.8098507505212689}. Best is trial 8 with value: 0.00686261523514986.\n"
     ]
    },
    {
     "name": "stdout",
     "output_type": "stream",
     "text": [
      "Variant: do_min, Scores: [1.016 1.021 1.005 0.991 0.997 1.018 1.018 1.006 1.009 1.006 1.003], Mean Score: 1.0081\n"
     ]
    },
    {
     "name": "stderr",
     "output_type": "stream",
     "text": [
      "[I 2025-07-02 21:56:13,378] Trial 18 finished with value: 0.011388265527784824 and parameters: {'lr': 0.0006070527024882839, 'epochs': 288, 'sharpness': 0.7969850508223735, 'probs_noise_std': 0.5769618820561239, 'subsample_ratio': 0.4349111241526431}. Best is trial 8 with value: 0.00686261523514986.\n"
     ]
    },
    {
     "name": "stdout",
     "output_type": "stream",
     "text": [
      "Variant: do_min, Scores: [1.015 1.02  1.004 0.997 1.001 1.022 1.041 1.008 1.008 1.005 1.005], Mean Score: 1.0115\n"
     ]
    },
    {
     "name": "stderr",
     "output_type": "stream",
     "text": [
      "[I 2025-07-02 21:56:38,219] Trial 19 finished with value: 0.00857179518789053 and parameters: {'lr': 0.00018571244682953522, 'epochs': 709, 'sharpness': 7.415136410980575, 'probs_noise_std': 0.3827713190552551, 'subsample_ratio': 0.6237694502202007}. Best is trial 8 with value: 0.00686261523514986.\n"
     ]
    },
    {
     "name": "stdout",
     "output_type": "stream",
     "text": [
      "Variant: do_min, Scores: [1.017 1.02  1.006 0.995 0.997 1.016 1.02  1.007 1.009 1.005 1.003], Mean Score: 1.0086\n"
     ]
    },
    {
     "name": "stderr",
     "output_type": "stream",
     "text": [
      "[I 2025-07-02 21:56:43,276] Trial 20 finished with value: 0.010430409573018551 and parameters: {'lr': 0.0005583020177326545, 'epochs': 128, 'sharpness': 0.6093167974199178, 'probs_noise_std': 0.18772903467610075, 'subsample_ratio': 0.4787372683640271}. Best is trial 8 with value: 0.00686261523514986.\n"
     ]
    },
    {
     "name": "stdout",
     "output_type": "stream",
     "text": [
      "Variant: do_min, Scores: [1.014 1.022 1.002 0.997 1.    1.012 1.048 1.007 1.006 1.004 1.004], Mean Score: 1.0106\n"
     ]
    },
    {
     "name": "stderr",
     "output_type": "stream",
     "text": [
      "[I 2025-07-02 21:56:57,005] Trial 21 finished with value: 0.01039107795804739 and parameters: {'lr': 0.0028164623230926525, 'epochs': 382, 'sharpness': 3.6017354915639364, 'probs_noise_std': 0.15055272477348236, 'subsample_ratio': 0.8335903446535079}. Best is trial 8 with value: 0.00686261523514986.\n"
     ]
    },
    {
     "name": "stdout",
     "output_type": "stream",
     "text": [
      "Variant: do_min, Scores: [1.016 1.02  1.005 0.992 0.995 1.012 1.052 1.007 1.01  1.005 1.002], Mean Score: 1.0106\n"
     ]
    },
    {
     "name": "stderr",
     "output_type": "stream",
     "text": [
      "[I 2025-07-02 21:56:59,354] Trial 22 finished with value: 0.009432626888155937 and parameters: {'lr': 0.0014775992926454394, 'epochs': 54, 'sharpness': 4.247844681008021, 'probs_noise_std': 0.2740512440573145, 'subsample_ratio': 0.7147268723456291}. Best is trial 8 with value: 0.00686261523514986.\n"
     ]
    },
    {
     "name": "stdout",
     "output_type": "stream",
     "text": [
      "Variant: do_min, Scores: [1.021 1.022 1.003 0.997 1.    1.02  1.016 1.008 1.005 1.007 1.006], Mean Score: 1.0095\n"
     ]
    },
    {
     "name": "stderr",
     "output_type": "stream",
     "text": [
      "[I 2025-07-02 21:57:09,716] Trial 23 finished with value: 0.010471826419234276 and parameters: {'lr': 0.002450529563158095, 'epochs': 281, 'sharpness': 1.4163249597376382, 'probs_noise_std': 0.027785854396532417, 'subsample_ratio': 0.8553374026227543}. Best is trial 8 with value: 0.00686261523514986.\n"
     ]
    },
    {
     "name": "stdout",
     "output_type": "stream",
     "text": [
      "Variant: do_min, Scores: [1.016 1.023 1.004 0.995 1.002 1.026 1.03  1.005 1.006 1.004 1.005], Mean Score: 1.0106\n"
     ]
    },
    {
     "name": "stderr",
     "output_type": "stream",
     "text": [
      "[I 2025-07-02 21:57:18,485] Trial 24 finished with value: 0.0081352973356843 and parameters: {'lr': 0.00016153296067538252, 'epochs': 239, 'sharpness': 12.717509687497838, 'probs_noise_std': 0.37436467663361117, 'subsample_ratio': 0.5947863144605507}. Best is trial 8 with value: 0.00686261523514986.\n"
     ]
    },
    {
     "name": "stdout",
     "output_type": "stream",
     "text": [
      "Variant: do_min, Scores: [1.022 1.022 1.005 1.001 0.998 1.009 1.01  1.007 1.008 1.004 1.004], Mean Score: 1.0082\n"
     ]
    },
    {
     "name": "stderr",
     "output_type": "stream",
     "text": [
      "[I 2025-07-02 21:57:34,987] Trial 25 finished with value: 0.010637843050062656 and parameters: {'lr': 0.0003800456937728445, 'epochs': 463, 'sharpness': 2.209308552069349, 'probs_noise_std': 0.4601201135579328, 'subsample_ratio': 0.7999943009315592}. Best is trial 8 with value: 0.00686261523514986.\n"
     ]
    },
    {
     "name": "stdout",
     "output_type": "stream",
     "text": [
      "Variant: do_min, Scores: [1.016 1.021 1.005 0.992 0.997 1.017 1.045 1.008 1.01  1.004 1.003], Mean Score: 1.0108\n"
     ]
    },
    {
     "name": "stderr",
     "output_type": "stream",
     "text": [
      "[I 2025-07-02 21:57:59,492] Trial 26 finished with value: 0.0072737340815365314 and parameters: {'lr': 0.0009218868354325204, 'epochs': 687, 'sharpness': 4.559962934819728, 'probs_noise_std': 0.16042593697996854, 'subsample_ratio': 0.9929822196416054}. Best is trial 8 with value: 0.00686261523514986.\n"
     ]
    },
    {
     "name": "stdout",
     "output_type": "stream",
     "text": [
      "Variant: do_min, Scores: [1.011 1.021 1.006 0.993 0.999 1.016 1.013 1.007 1.007 1.004 1.002], Mean Score: 1.0073\n"
     ]
    },
    {
     "name": "stderr",
     "output_type": "stream",
     "text": [
      "[I 2025-07-02 21:58:49,183] Trial 27 finished with value: 0.009444423951208591 and parameters: {'lr': 0.0006767458248562449, 'epochs': 1437, 'sharpness': 0.961619682542613, 'probs_noise_std': 0.5989942020988397, 'subsample_ratio': 0.18102300162471197}. Best is trial 8 with value: 0.00686261523514986.\n"
     ]
    },
    {
     "name": "stdout",
     "output_type": "stream",
     "text": [
      "Variant: do_min, Scores: [1.014 1.022 1.005 0.994 1.    1.016 1.03  1.009 1.009 1.003 1.002], Mean Score: 1.0095\n"
     ]
    },
    {
     "name": "stderr",
     "output_type": "stream",
     "text": [
      "[I 2025-07-02 21:59:10,127] Trial 28 finished with value: 0.011798697523772717 and parameters: {'lr': 0.00018857430197128546, 'epochs': 598, 'sharpness': 0.4224467010021812, 'probs_noise_std': 0.3150432793822726, 'subsample_ratio': 0.9555500625498131}. Best is trial 8 with value: 0.00686261523514986.\n"
     ]
    },
    {
     "name": "stdout",
     "output_type": "stream",
     "text": [
      "Variant: do_min, Scores: [1.018 1.021 1.002 0.996 1.    1.013 1.061 1.007 1.006 1.004 1.004], Mean Score: 1.0120\n"
     ]
    },
    {
     "name": "stderr",
     "output_type": "stream",
     "text": [
      "[I 2025-07-02 21:59:42,815] Trial 29 finished with value: 0.010698030702769756 and parameters: {'lr': 0.0009167385179867181, 'epochs': 948, 'sharpness': 0.10720232688754826, 'probs_noise_std': 0.1192470647413002, 'subsample_ratio': 0.3039578381956459}. Best is trial 8 with value: 0.00686261523514986.\n"
     ]
    },
    {
     "name": "stdout",
     "output_type": "stream",
     "text": [
      "Variant: do_min, Scores: [1.017 1.021 1.002 0.996 1.    1.013 1.053 1.006 1.004 1.003 1.003], Mean Score: 1.0109\n"
     ]
    },
    {
     "name": "stderr",
     "output_type": "stream",
     "text": [
      "[I 2025-07-02 22:00:17,754] Trial 30 finished with value: 0.007485603913664818 and parameters: {'lr': 0.00039644295426883533, 'epochs': 995, 'sharpness': 5.44412135983133, 'probs_noise_std': 0.21707574864684737, 'subsample_ratio': 0.34951302466596906}. Best is trial 8 with value: 0.00686261523514986.\n"
     ]
    },
    {
     "name": "stdout",
     "output_type": "stream",
     "text": [
      "Variant: do_min, Scores: [1.012 1.023 1.007 0.995 0.993 1.018 1.013 1.007 1.009 1.004 1.003], Mean Score: 1.0075\n"
     ]
    },
    {
     "name": "stderr",
     "output_type": "stream",
     "text": [
      "[I 2025-07-02 22:00:53,606] Trial 31 finished with value: 0.006467473227530718 and parameters: {'lr': 0.000994491630929265, 'epochs': 1021, 'sharpness': 5.418961425339626, 'probs_noise_std': 0.2167809149749004, 'subsample_ratio': 0.3315165342770593}. Best is trial 31 with value: 0.006467473227530718.\n"
     ]
    },
    {
     "name": "stdout",
     "output_type": "stream",
     "text": [
      "Variant: do_min, Scores: [1.011 1.021 1.007 0.992 0.994 1.015 1.012 1.007 1.008 1.004 1.002], Mean Score: 1.0065\n"
     ]
    },
    {
     "name": "stderr",
     "output_type": "stream",
     "text": [
      "[I 2025-07-02 22:01:29,045] Trial 32 finished with value: 0.0068933130241930485 and parameters: {'lr': 0.0009468503019253979, 'epochs': 1014, 'sharpness': 5.361376090146153, 'probs_noise_std': 0.22117308064606622, 'subsample_ratio': 0.28526999007329407}. Best is trial 31 with value: 0.006467473227530718.\n"
     ]
    },
    {
     "name": "stdout",
     "output_type": "stream",
     "text": [
      "Variant: do_min, Scores: [1.011 1.019 1.005 0.994 0.995 1.015 1.013 1.005 1.008 1.008 1.003], Mean Score: 1.0069\n"
     ]
    },
    {
     "name": "stderr",
     "output_type": "stream",
     "text": [
      "[I 2025-07-02 22:02:07,361] Trial 33 finished with value: 0.01193834189325571 and parameters: {'lr': 0.0009589608387574597, 'epochs': 1081, 'sharpness': 15.57065836215295, 'probs_noise_std': 0.015282130325262044, 'subsample_ratio': 0.2667969845644874}. Best is trial 31 with value: 0.006467473227530718.\n"
     ]
    },
    {
     "name": "stdout",
     "output_type": "stream",
     "text": [
      "Variant: do_min, Scores: [1.012 1.025 1.005 0.999 0.998 1.018 1.05  1.007 1.008 1.006 1.004], Mean Score: 1.0121\n"
     ]
    },
    {
     "name": "stderr",
     "output_type": "stream",
     "text": [
      "[I 2025-07-02 22:02:53,946] Trial 34 finished with value: 0.008740927092730999 and parameters: {'lr': 0.0012784254728326256, 'epochs': 1341, 'sharpness': 11.72700740347027, 'probs_noise_std': 0.2545701294389933, 'subsample_ratio': 0.11834816194014186}. Best is trial 31 with value: 0.006467473227530718.\n"
     ]
    },
    {
     "name": "stdout",
     "output_type": "stream",
     "text": [
      "Variant: do_min, Scores: [1.016 1.022 1.007 0.995 1.002 1.015 1.015 1.006 1.008 1.006 1.005], Mean Score: 1.0088\n"
     ]
    },
    {
     "name": "stderr",
     "output_type": "stream",
     "text": [
      "[I 2025-07-02 22:03:22,825] Trial 35 finished with value: 0.010107962414622307 and parameters: {'lr': 0.003706826087150912, 'epochs': 825, 'sharpness': 29.868703966702746, 'probs_noise_std': 0.1204965839883606, 'subsample_ratio': 0.8936927480489109}. Best is trial 31 with value: 0.006467473227530718.\n"
     ]
    },
    {
     "name": "stdout",
     "output_type": "stream",
     "text": [
      "Variant: do_min, Scores: [1.016 1.025 1.003 0.996 0.998 1.012 1.042 1.006 1.01  1.004 1.001], Mean Score: 1.0102\n"
     ]
    },
    {
     "name": "stderr",
     "output_type": "stream",
     "text": [
      "[I 2025-07-02 22:04:00,490] Trial 36 finished with value: 0.007306777406483889 and parameters: {'lr': 0.000769958518111521, 'epochs': 1092, 'sharpness': 5.912197115858572, 'probs_noise_std': 0.3889117276606537, 'subsample_ratio': 0.03694461687180742}. Best is trial 31 with value: 0.006467473227530718.\n"
     ]
    },
    {
     "name": "stdout",
     "output_type": "stream",
     "text": [
      "Variant: do_min, Scores: [1.017 1.02  1.006 0.992 0.997 1.015 1.013 1.008 1.007 1.004 1.001], Mean Score: 1.0074\n"
     ]
    },
    {
     "name": "stderr",
     "output_type": "stream",
     "text": [
      "[I 2025-07-02 22:04:31,090] Trial 37 finished with value: 0.0109246289357543 and parameters: {'lr': 0.0019894937623627118, 'epochs': 874, 'sharpness': 2.0404380896587093, 'probs_noise_std': 0.2242626957883385, 'subsample_ratio': 0.18233300503304234}. Best is trial 31 with value: 0.006467473227530718.\n"
     ]
    },
    {
     "name": "stdout",
     "output_type": "stream",
     "text": [
      "Variant: do_min, Scores: [1.01  1.024 1.008 0.998 0.996 1.016 1.048 1.007 1.009 1.004 1.002], Mean Score: 1.0111\n"
     ]
    },
    {
     "name": "stderr",
     "output_type": "stream",
     "text": [
      "[I 2025-07-02 22:05:14,617] Trial 38 finished with value: 0.010061255656182766 and parameters: {'lr': 0.011697220940766535, 'epochs': 1236, 'sharpness': 10.324669436009795, 'probs_noise_std': 0.3432311237670745, 'subsample_ratio': 0.7012958769329496}. Best is trial 31 with value: 0.006467473227530718.\n"
     ]
    },
    {
     "name": "stdout",
     "output_type": "stream",
     "text": [
      "Variant: do_min, Scores: [1.015 1.022 1.008 0.993 0.994 1.022 1.033 1.008 1.009 1.005 1.003], Mean Score: 1.0102\n"
     ]
    },
    {
     "name": "stderr",
     "output_type": "stream",
     "text": [
      "[I 2025-07-02 22:06:06,797] Trial 39 finished with value: 0.008029766380786896 and parameters: {'lr': 0.00043049019444314063, 'epochs': 1496, 'sharpness': 31.261542115369064, 'probs_noise_std': 0.07312380671962043, 'subsample_ratio': 0.5519959511341547}. Best is trial 31 with value: 0.006467473227530718.\n"
     ]
    },
    {
     "name": "stdout",
     "output_type": "stream",
     "text": [
      "Variant: do_min, Scores: [1.016 1.024 1.005 0.998 1.001 1.009 1.012 1.007 1.008 1.006 1.004], Mean Score: 1.0081\n"
     ]
    },
    {
     "name": "stderr",
     "output_type": "stream",
     "text": [
      "[I 2025-07-02 22:06:31,955] Trial 40 finished with value: 0.009995208121836185 and parameters: {'lr': 0.0036248128201358805, 'epochs': 707, 'sharpness': 3.1452391893892777, 'probs_noise_std': 0.2651986399197209, 'subsample_ratio': 0.4631529865967799}. Best is trial 31 with value: 0.006467473227530718.\n"
     ]
    },
    {
     "name": "stdout",
     "output_type": "stream",
     "text": [
      "Variant: do_min, Scores: [1.01  1.022 1.005 0.996 0.998 1.017 1.04  1.006 1.011 1.004 1.002], Mean Score: 1.0101\n"
     ]
    },
    {
     "name": "stderr",
     "output_type": "stream",
     "text": [
      "[I 2025-07-02 22:07:08,568] Trial 41 finished with value: 0.0071150134317576885 and parameters: {'lr': 0.0008846508235804138, 'epochs': 1064, 'sharpness': 5.777211100556731, 'probs_noise_std': 0.38902888582649786, 'subsample_ratio': 0.044278133482544446}. Best is trial 31 with value: 0.006467473227530718.\n"
     ]
    },
    {
     "name": "stdout",
     "output_type": "stream",
     "text": [
      "Variant: do_min, Scores: [1.013 1.022 1.007 0.996 0.996 1.015 1.009 1.007 1.009 1.004 1.001], Mean Score: 1.0072\n"
     ]
    },
    {
     "name": "stderr",
     "output_type": "stream",
     "text": [
      "[I 2025-07-02 22:07:49,419] Trial 42 finished with value: 0.006875463295727968 and parameters: {'lr': 0.0012619591549170746, 'epochs': 1163, 'sharpness': 8.740350736180543, 'probs_noise_std': 0.491767207768589, 'subsample_ratio': 0.12860654858753617}. Best is trial 31 with value: 0.006467473227530718.\n"
     ]
    },
    {
     "name": "stdout",
     "output_type": "stream",
     "text": [
      "Variant: do_min, Scores: [1.01  1.02  1.006 0.993 0.996 1.013 1.014 1.008 1.011 1.004 1.   ], Mean Score: 1.0069\n"
     ]
    },
    {
     "name": "stderr",
     "output_type": "stream",
     "text": [
      "[I 2025-07-02 22:08:30,024] Trial 43 finished with value: 0.013838826678693295 and parameters: {'lr': 0.0015235401291549084, 'epochs': 1168, 'sharpness': 19.933986834652284, 'probs_noise_std': 0.4600778524416127, 'subsample_ratio': 0.012709717472994667}. Best is trial 31 with value: 0.006467473227530718.\n"
     ]
    },
    {
     "name": "stdout",
     "output_type": "stream",
     "text": [
      "Variant: do_min, Scores: [1.013 1.021 1.005 0.998 1.005 1.023 1.068 1.004 1.008 1.003 1.005], Mean Score: 1.0141\n"
     ]
    },
    {
     "name": "stderr",
     "output_type": "stream",
     "text": [
      "[I 2025-07-02 22:09:10,643] Trial 44 finished with value: 0.007750635035336018 and parameters: {'lr': 0.0004785056634391243, 'epochs': 1162, 'sharpness': 7.389448897586633, 'probs_noise_std': 0.48390778599812445, 'subsample_ratio': 0.12126511707318766}. Best is trial 31 with value: 0.006467473227530718.\n"
     ]
    },
    {
     "name": "stdout",
     "output_type": "stream",
     "text": [
      "Variant: do_min, Scores: [1.016 1.024 1.006 0.993 0.998 1.014 1.012 1.008 1.011 1.003 1.001], Mean Score: 1.0078\n"
     ]
    },
    {
     "name": "stderr",
     "output_type": "stream",
     "text": [
      "[I 2025-07-02 22:09:55,827] Trial 45 finished with value: 0.006640513427555561 and parameters: {'lr': 0.0002483297470946834, 'epochs': 1300, 'sharpness': 46.656810294338094, 'probs_noise_std': 0.5336829041377639, 'subsample_ratio': 0.06722244670025121}. Best is trial 31 with value: 0.006467473227530718.\n"
     ]
    },
    {
     "name": "stdout",
     "output_type": "stream",
     "text": [
      "Variant: do_min, Scores: [1.014 1.02  1.003 0.999 1.001 1.004 1.01  1.006 1.006 1.005 1.006], Mean Score: 1.0067\n"
     ]
    },
    {
     "name": "stderr",
     "output_type": "stream",
     "text": [
      "[I 2025-07-02 22:10:54,185] Trial 46 finished with value: 0.007028443738818169 and parameters: {'lr': 0.00021674861513368765, 'epochs': 1675, 'sharpness': 42.51965044375357, 'probs_noise_std': 0.7184880645157508, 'subsample_ratio': 0.22768340855965474}. Best is trial 31 with value: 0.006467473227530718.\n"
     ]
    },
    {
     "name": "stdout",
     "output_type": "stream",
     "text": [
      "Variant: do_min, Scores: [1.014 1.02  1.003 0.998 1.001 1.004 1.014 1.007 1.007 1.005 1.004], Mean Score: 1.0071\n"
     ]
    },
    {
     "name": "stderr",
     "output_type": "stream",
     "text": [
      "[I 2025-07-02 22:11:40,403] Trial 47 finished with value: 0.007754358928650618 and parameters: {'lr': 0.00026883256709469064, 'epochs': 1327, 'sharpness': 47.34172607403901, 'probs_noise_std': 0.8732359507741274, 'subsample_ratio': 0.29196525004844376}. Best is trial 31 with value: 0.006467473227530718.\n"
     ]
    },
    {
     "name": "stdout",
     "output_type": "stream",
     "text": [
      "Variant: do_min, Scores: [1.014 1.02  1.004 1.002 1.005 1.005 1.014 1.009 1.003 1.006 1.003], Mean Score: 1.0078\n"
     ]
    },
    {
     "name": "stderr",
     "output_type": "stream",
     "text": [
      "[I 2025-07-02 22:12:25,401] Trial 48 finished with value: 0.008687075227499008 and parameters: {'lr': 0.00013532166866902663, 'epochs': 1302, 'sharpness': 21.446722113597836, 'probs_noise_std': 0.5222940405024877, 'subsample_ratio': 0.08665731603827058}. Best is trial 31 with value: 0.006467473227530718.\n"
     ]
    },
    {
     "name": "stdout",
     "output_type": "stream",
     "text": [
      "Variant: do_min, Scores: [1.016 1.019 1.007 0.997 1.    1.016 1.014 1.006 1.009 1.006 1.006], Mean Score: 1.0087\n"
     ]
    },
    {
     "name": "stderr",
     "output_type": "stream",
     "text": [
      "[I 2025-07-02 22:13:16,194] Trial 49 finished with value: 0.012558957561850548 and parameters: {'lr': 0.0049506813777764926, 'epochs': 1467, 'sharpness': 9.645854401938585, 'probs_noise_std': 0.6379264337978106, 'subsample_ratio': 0.1533948891120887}. Best is trial 31 with value: 0.006467473227530718.\n"
     ]
    },
    {
     "name": "stdout",
     "output_type": "stream",
     "text": [
      "Variant: do_min, Scores: [1.008 1.023 1.009 0.994 0.999 1.022 1.056 1.008 1.009 1.008 1.005], Mean Score: 1.0128\n"
     ]
    },
    {
     "name": "stderr",
     "output_type": "stream",
     "text": [
      "[I 2025-07-02 22:13:50,284] Trial 50 finished with value: 0.009624049998819828 and parameters: {'lr': 0.00030124804196838086, 'epochs': 980, 'sharpness': 2.7292112460013596, 'probs_noise_std': 0.31448462869081073, 'subsample_ratio': 0.33706426817685275}. Best is trial 31 with value: 0.006467473227530718.\n"
     ]
    },
    {
     "name": "stdout",
     "output_type": "stream",
     "text": [
      "Variant: do_min, Scores: [1.013 1.02  1.007 0.994 0.997 1.016 1.037 1.009 1.009 1.003 1.002], Mean Score: 1.0097\n"
     ]
    },
    {
     "name": "stderr",
     "output_type": "stream",
     "text": [
      "[I 2025-07-02 22:14:50,966] Trial 51 finished with value: 0.008430076763033867 and parameters: {'lr': 0.00022869673996739733, 'epochs': 1750, 'sharpness': 37.04895489024994, 'probs_noise_std': 0.7478434208021246, 'subsample_ratio': 0.25901908919443994}. Best is trial 31 with value: 0.006467473227530718.\n"
     ]
    },
    {
     "name": "stdout",
     "output_type": "stream",
     "text": [
      "Variant: do_min, Scores: [1.021 1.016 1.005 1.    1.001 1.011 1.016 1.006 1.007 1.007 1.004], Mean Score: 1.0085\n"
     ]
    },
    {
     "name": "stderr",
     "output_type": "stream",
     "text": [
      "[I 2025-07-02 22:15:46,303] Trial 52 finished with value: 0.00884865690022707 and parameters: {'lr': 0.0005387805742431791, 'epochs': 1599, 'sharpness': 24.58338560659763, 'probs_noise_std': 0.963636615866316, 'subsample_ratio': 0.22308333958568557}. Best is trial 31 with value: 0.006467473227530718.\n"
     ]
    },
    {
     "name": "stdout",
     "output_type": "stream",
     "text": [
      "Variant: do_min, Scores: [1.015 1.019 1.004 0.992 1.    1.026 1.019 1.008 1.009 1.004 1.002], Mean Score: 1.0089\n"
     ]
    },
    {
     "name": "stderr",
     "output_type": "stream",
     "text": [
      "[I 2025-07-02 22:16:44,462] Trial 53 finished with value: 0.008134101517498493 and parameters: {'lr': 0.0012342300582934259, 'epochs': 1666, 'sharpness': 38.05845989469595, 'probs_noise_std': 0.723787537623779, 'subsample_ratio': 0.22857642015336338}. Best is trial 31 with value: 0.006467473227530718.\n"
     ]
    },
    {
     "name": "stdout",
     "output_type": "stream",
     "text": [
      "Variant: do_min, Scores: [1.014 1.023 1.005 0.994 1.    1.017 1.012 1.009 1.01  1.004 1.002], Mean Score: 1.0082\n"
     ]
    },
    {
     "name": "stderr",
     "output_type": "stream",
     "text": [
      "[I 2025-07-02 22:17:33,118] Trial 54 finished with value: 0.008656352758407593 and parameters: {'lr': 0.0003544241323954249, 'epochs': 1380, 'sharpness': 17.02967425288224, 'probs_noise_std': 0.8426864723428319, 'subsample_ratio': 0.14621838810315868}. Best is trial 31 with value: 0.006467473227530718.\n"
     ]
    },
    {
     "name": "stdout",
     "output_type": "stream",
     "text": [
      "Variant: do_min, Scores: [1.016 1.017 1.006 0.994 0.998 1.02  1.018 1.009 1.009 1.006 1.004], Mean Score: 1.0087\n"
     ]
    },
    {
     "name": "stderr",
     "output_type": "stream",
     "text": [
      "[I 2025-07-02 22:18:16,745] Trial 55 finished with value: 0.00991305336356163 and parameters: {'lr': 0.00020192066027085854, 'epochs': 1245, 'sharpness': 1.8685283817657168, 'probs_noise_std': 0.7009310963868707, 'subsample_ratio': 0.4137797947018056}. Best is trial 31 with value: 0.006467473227530718.\n"
     ]
    },
    {
     "name": "stdout",
     "output_type": "stream",
     "text": [
      "Variant: do_min, Scores: [1.02  1.021 1.005 0.993 0.998 1.017 1.032 1.008 1.008 1.005 1.004], Mean Score: 1.0100\n"
     ]
    },
    {
     "name": "stderr",
     "output_type": "stream",
     "text": [
      "[I 2025-07-02 22:18:48,013] Trial 56 finished with value: 0.008492975495755672 and parameters: {'lr': 0.0001402923363775258, 'epochs': 894, 'sharpness': 14.281568953767572, 'probs_noise_std': 0.8125428631079881, 'subsample_ratio': 0.1967927682306284}. Best is trial 31 with value: 0.006467473227530718.\n"
     ]
    },
    {
     "name": "stdout",
     "output_type": "stream",
     "text": [
      "Variant: do_min, Scores: [1.014 1.02  1.005 1.003 0.997 1.015 1.017 1.007 1.008 1.004 1.004], Mean Score: 1.0086\n"
     ]
    },
    {
     "name": "stderr",
     "output_type": "stream",
     "text": [
      "[I 2025-07-02 22:19:27,098] Trial 57 finished with value: 0.007284520659595728 and parameters: {'lr': 0.0007142598070547487, 'epochs': 1128, 'sharpness': 7.606950380872271, 'probs_noise_std': 0.5504535168603423, 'subsample_ratio': 0.08184816034001466}. Best is trial 31 with value: 0.006467473227530718.\n"
     ]
    },
    {
     "name": "stdout",
     "output_type": "stream",
     "text": [
      "Variant: do_min, Scores: [1.008 1.018 1.009 0.992 0.996 1.016 1.016 1.009 1.007 1.006 1.004], Mean Score: 1.0073\n"
     ]
    },
    {
     "name": "stderr",
     "output_type": "stream",
     "text": [
      "[I 2025-07-02 22:20:02,452] Trial 58 finished with value: 0.013947426341474056 and parameters: {'lr': 0.09642898800535635, 'epochs': 1010, 'sharpness': 47.41766938920621, 'probs_noise_std': 0.6039781142890888, 'subsample_ratio': 0.6697319432302384}. Best is trial 31 with value: 0.006467473227530718.\n"
     ]
    },
    {
     "name": "stdout",
     "output_type": "stream",
     "text": [
      "Variant: do_min, Scores: [1.016 1.023 1.004 0.996 1.005 1.025 1.059 1.009 1.006 1.006 1.006], Mean Score: 1.0142\n"
     ]
    },
    {
     "name": "stderr",
     "output_type": "stream",
     "text": [
      "[I 2025-07-02 22:20:55,736] Trial 59 finished with value: 0.010592160746455193 and parameters: {'lr': 0.0017216458728998823, 'epochs': 1527, 'sharpness': 3.9487604998508843, 'probs_noise_std': 0.4310125358164182, 'subsample_ratio': 0.14146764397351239}. Best is trial 31 with value: 0.006467473227530718.\n"
     ]
    },
    {
     "name": "stdout",
     "output_type": "stream",
     "text": [
      "Variant: do_min, Scores: [1.014 1.021 1.007 0.997 0.998 1.016 1.041 1.006 1.012 1.005 1.002], Mean Score: 1.0107\n"
     ]
    },
    {
     "name": "stderr",
     "output_type": "stream",
     "text": [
      "[I 2025-07-02 22:21:53,532] Trial 60 finished with value: 0.01054976787418127 and parameters: {'lr': 0.00027517805040308416, 'epochs': 1641, 'sharpness': 2.710345058821831, 'probs_noise_std': 0.5096079571347584, 'subsample_ratio': 0.3883174219872935}. Best is trial 31 with value: 0.006467473227530718.\n"
     ]
    },
    {
     "name": "stdout",
     "output_type": "stream",
     "text": [
      "Variant: do_min, Scores: [1.018 1.021 1.008 0.991 0.997 1.014 1.046 1.008 1.009 1.004 1.001], Mean Score: 1.0107\n"
     ]
    },
    {
     "name": "stderr",
     "output_type": "stream",
     "text": [
      "[I 2025-07-02 22:22:31,531] Trial 61 finished with value: 0.006995296571403742 and parameters: {'lr': 0.0010569822454121137, 'epochs': 1101, 'sharpness': 6.425793974973294, 'probs_noise_std': 0.401122325681495, 'subsample_ratio': 0.03867058154520499}. Best is trial 31 with value: 0.006467473227530718.\n"
     ]
    },
    {
     "name": "stdout",
     "output_type": "stream",
     "text": [
      "Variant: do_min, Scores: [1.01  1.019 1.006 0.997 0.997 1.016 1.015 1.005 1.009 1.004 1.   ], Mean Score: 1.0070\n"
     ]
    },
    {
     "name": "stderr",
     "output_type": "stream",
     "text": [
      "[I 2025-07-02 22:22:58,874] Trial 62 finished with value: 0.00782106164842844 and parameters: {'lr': 0.0011354288239116348, 'epochs': 786, 'sharpness': 5.0374248748226185, 'probs_noise_std': 0.3642407287486241, 'subsample_ratio': 0.04094396211688884}. Best is trial 31 with value: 0.006467473227530718.\n"
     ]
    },
    {
     "name": "stdout",
     "output_type": "stream",
     "text": [
      "Variant: do_min, Scores: [1.012 1.021 1.009 0.993 1.003 1.014 1.015 1.008 1.008 1.005 1.   ], Mean Score: 1.0079\n"
     ]
    },
    {
     "name": "stderr",
     "output_type": "stream",
     "text": [
      "[I 2025-07-02 22:23:43,069] Trial 63 finished with value: 0.011193791404366493 and parameters: {'lr': 0.002078883121313271, 'epochs': 1275, 'sharpness': 8.841229879218375, 'probs_noise_std': 0.2927881877740438, 'subsample_ratio': 0.1071675664005869}. Best is trial 31 with value: 0.006467473227530718.\n"
     ]
    },
    {
     "name": "stdout",
     "output_type": "stream",
     "text": [
      "Variant: do_min, Scores: [1.012 1.025 1.005 0.994 0.996 1.013 1.057 1.008 1.008 1.004 1.004], Mean Score: 1.0114\n"
     ]
    },
    {
     "name": "stderr",
     "output_type": "stream",
     "text": [
      "[I 2025-07-02 22:24:24,752] Trial 64 finished with value: 0.007745696697384119 and parameters: {'lr': 0.00048802690730950977, 'epochs': 1198, 'sharpness': 6.182663825670831, 'probs_noise_std': 0.41269128662318766, 'subsample_ratio': 0.33116240627777727}. Best is trial 31 with value: 0.006467473227530718.\n"
     ]
    },
    {
     "name": "stdout",
     "output_type": "stream",
     "text": [
      "Variant: do_min, Scores: [1.016 1.021 1.007 0.994 0.995 1.015 1.016 1.007 1.009 1.005 1.002], Mean Score: 1.0078\n"
     ]
    },
    {
     "name": "stderr",
     "output_type": "stream",
     "text": [
      "[I 2025-07-02 22:25:00,253] Trial 65 finished with value: 0.01063085813075304 and parameters: {'lr': 0.002515441211217888, 'epochs': 1028, 'sharpness': 3.561100056635605, 'probs_noise_std': 0.20728290171354546, 'subsample_ratio': 0.060110650779858166}. Best is trial 31 with value: 0.006467473227530718.\n"
     ]
    },
    {
     "name": "stdout",
     "output_type": "stream",
     "text": [
      "Variant: do_min, Scores: [1.006 1.025 1.006 0.996 0.996 1.013 1.053 1.007 1.011 1.004 1.002], Mean Score: 1.0108\n"
     ]
    },
    {
     "name": "stderr",
     "output_type": "stream",
     "text": [
      "[I 2025-07-02 22:25:48,644] Trial 66 finished with value: 0.00837091077119112 and parameters: {'lr': 0.0006567258713188554, 'epochs': 1384, 'sharpness': 12.378545015494646, 'probs_noise_std': 0.2456545849129363, 'subsample_ratio': 0.28275064971330394}. Best is trial 31 with value: 0.006467473227530718.\n"
     ]
    },
    {
     "name": "stdout",
     "output_type": "stream",
     "text": [
      "Variant: do_min, Scores: [1.02  1.019 1.008 1.001 0.997 1.014 1.009 1.008 1.01  1.006 1.   ], Mean Score: 1.0084\n"
     ]
    },
    {
     "name": "stderr",
     "output_type": "stream",
     "text": [
      "[I 2025-07-02 22:26:21,346] Trial 67 finished with value: 0.008470827713608742 and parameters: {'lr': 0.00010845845725250575, 'epochs': 928, 'sharpness': 20.684069519446656, 'probs_noise_std': 0.46750968376980195, 'subsample_ratio': 0.21526379789511496}. Best is trial 31 with value: 0.006467473227530718.\n"
     ]
    },
    {
     "name": "stdout",
     "output_type": "stream",
     "text": [
      "Variant: do_min, Scores: [1.019 1.021 1.004 1.001 0.999 1.012 1.013 1.007 1.009 1.004 1.003], Mean Score: 1.0085\n"
     ]
    },
    {
     "name": "stderr",
     "output_type": "stream",
     "text": [
      "[I 2025-07-02 22:26:59,729] Trial 68 finished with value: 0.010809571482241154 and parameters: {'lr': 0.00016411084811065717, 'epochs': 1102, 'sharpness': 1.1751646825664774, 'probs_noise_std': 0.6775329633693183, 'subsample_ratio': 0.7512767989403168}. Best is trial 31 with value: 0.006467473227530718.\n"
     ]
    },
    {
     "name": "stdout",
     "output_type": "stream",
     "text": [
      "Variant: do_min, Scores: [1.018 1.021 1.003 0.995 1.    1.017 1.042 1.008 1.007 1.004 1.005], Mean Score: 1.0109\n"
     ]
    },
    {
     "name": "stderr",
     "output_type": "stream",
     "text": [
      "[I 2025-07-02 22:27:39,398] Trial 69 finished with value: 0.010448970831930637 and parameters: {'lr': 0.0007985016469797587, 'epochs': 1134, 'sharpness': 3.329881719387863, 'probs_noise_std': 0.33061210373978406, 'subsample_ratio': 0.17121707488496885}. Best is trial 31 with value: 0.006467473227530718.\n"
     ]
    },
    {
     "name": "stdout",
     "output_type": "stream",
     "text": [
      "Variant: do_min, Scores: [1.012 1.023 1.008 0.995 0.997 1.012 1.047 1.009 1.009 1.004 1.001], Mean Score: 1.0106\n"
     ]
    },
    {
     "name": "stderr",
     "output_type": "stream",
     "text": [
      "[I 2025-07-02 22:28:08,945] Trial 70 finished with value: 0.00688445009291172 and parameters: {'lr': 0.0010649392151766321, 'epochs': 847, 'sharpness': 35.94303631166252, 'probs_noise_std': 0.28668982989259867, 'subsample_ratio': 0.015110556759145126}. Best is trial 31 with value: 0.006467473227530718.\n"
     ]
    },
    {
     "name": "stdout",
     "output_type": "stream",
     "text": [
      "Variant: do_min, Scores: [1.001 1.023 1.01  0.996 1.002 1.018 1.009 1.005 1.004 1.003 1.005], Mean Score: 1.0069\n"
     ]
    },
    {
     "name": "stderr",
     "output_type": "stream",
     "text": [
      "[I 2025-07-02 22:28:30,745] Trial 71 finished with value: 0.008755824528634548 and parameters: {'lr': 0.0012356193580683298, 'epochs': 620, 'sharpness': 31.07809460958063, 'probs_noise_std': 0.41322443484692983, 'subsample_ratio': 0.07546975544028267}. Best is trial 31 with value: 0.006467473227530718.\n"
     ]
    },
    {
     "name": "stdout",
     "output_type": "stream",
     "text": [
      "Variant: do_min, Scores: [1.014 1.025 1.002 0.997 1.001 1.015 1.017 1.007 1.008 1.006 1.004], Mean Score: 1.0088\n"
     ]
    },
    {
     "name": "stderr",
     "output_type": "stream",
     "text": [
      "[I 2025-07-02 22:28:57,851] Trial 72 finished with value: 0.009479349479079247 and parameters: {'lr': 0.0015628527800823407, 'epochs': 771, 'sharpness': 39.38614739257354, 'probs_noise_std': 0.2818949119910111, 'subsample_ratio': 0.022938748186203915}. Best is trial 31 with value: 0.006467473227530718.\n"
     ]
    },
    {
     "name": "stdout",
     "output_type": "stream",
     "text": [
      "Variant: do_min, Scores: [1.008 1.024 1.004 0.996 0.995 1.019 1.034 1.009 1.007 1.001 1.008], Mean Score: 1.0096\n"
     ]
    },
    {
     "name": "stderr",
     "output_type": "stream",
     "text": [
      "[I 2025-07-02 22:29:28,301] Trial 73 finished with value: 0.007901038974523544 and parameters: {'lr': 0.0011160243456486043, 'epochs': 871, 'sharpness': 6.414140857270343, 'probs_noise_std': 0.18268821273806504, 'subsample_ratio': 0.5591595185480077}. Best is trial 31 with value: 0.006467473227530718.\n"
     ]
    },
    {
     "name": "stdout",
     "output_type": "stream",
     "text": [
      "Variant: do_min, Scores: [1.017 1.024 1.003 0.996 0.996 1.013 1.013 1.008 1.009 1.009 1.001], Mean Score: 1.0080\n"
     ]
    },
    {
     "name": "stderr",
     "output_type": "stream",
     "text": [
      "[I 2025-07-02 22:29:35,331] Trial 74 finished with value: 0.007124222815036774 and parameters: {'lr': 0.008659345931586666, 'epochs': 188, 'sharpness': 24.190299617015054, 'probs_noise_std': 0.34836206510902495, 'subsample_ratio': 0.11666464074797522}. Best is trial 31 with value: 0.006467473227530718.\n"
     ]
    },
    {
     "name": "stdout",
     "output_type": "stream",
     "text": [
      "Variant: do_min, Scores: [1.008 1.022 1.002 0.993 1.003 1.025 1.006 1.009 1.005 1.005 1.001], Mean Score: 1.0072\n"
     ]
    },
    {
     "name": "stderr",
     "output_type": "stream",
     "text": [
      "[I 2025-07-02 22:30:08,270] Trial 75 finished with value: 0.009525954723358154 and parameters: {'lr': 0.0004246368321032265, 'epochs': 950, 'sharpness': 16.136211277981232, 'probs_noise_std': 0.30058955152966577, 'subsample_ratio': 0.06569264579357531}. Best is trial 31 with value: 0.006467473227530718.\n"
     ]
    },
    {
     "name": "stdout",
     "output_type": "stream",
     "text": [
      "Variant: do_min, Scores: [1.017 1.019 1.007 1.    1.004 1.016 1.013 1.009 1.01  1.009 1.004], Mean Score: 1.0096\n"
     ]
    },
    {
     "name": "stderr",
     "output_type": "stream",
     "text": [
      "[I 2025-07-02 22:30:44,995] Trial 76 finished with value: 0.010114427655935287 and parameters: {'lr': 0.0005953565283553275, 'epochs': 1060, 'sharpness': 1.8612777790456743, 'probs_noise_std': 0.24724804295531333, 'subsample_ratio': 0.14227093679891079}. Best is trial 31 with value: 0.006467473227530718.\n"
     ]
    },
    {
     "name": "stdout",
     "output_type": "stream",
     "text": [
      "Variant: do_min, Scores: [1.017 1.02  1.007 0.995 0.999 1.014 1.038 1.009 1.008 1.003 1.003], Mean Score: 1.0102\n"
     ]
    },
    {
     "name": "stderr",
     "output_type": "stream",
     "text": [
      "[I 2025-07-02 22:31:44,696] Trial 77 finished with value: 0.007307237479835749 and parameters: {'lr': 0.0010183020050149887, 'epochs': 1727, 'sharpness': 4.806729277974877, 'probs_noise_std': 0.16969560604173534, 'subsample_ratio': 0.23764959041128542}. Best is trial 31 with value: 0.006467473227530718.\n"
     ]
    },
    {
     "name": "stdout",
     "output_type": "stream",
     "text": [
      "Variant: do_min, Scores: [1.01  1.024 1.006 0.992 1.001 1.013 1.014 1.006 1.009 1.004 1.002], Mean Score: 1.0074\n"
     ]
    },
    {
     "name": "stderr",
     "output_type": "stream",
     "text": [
      "[I 2025-07-02 22:32:25,602] Trial 78 finished with value: 0.008379330858588219 and parameters: {'lr': 0.00032858640411760143, 'epochs': 1198, 'sharpness': 10.643406117677607, 'probs_noise_std': 0.5722696733533732, 'subsample_ratio': 0.010763813040158554}. Best is trial 31 with value: 0.006467473227530718.\n"
     ]
    },
    {
     "name": "stdout",
     "output_type": "stream",
     "text": [
      "Variant: do_min, Scores: [1.017 1.021 1.004 0.994 1.002 1.017 1.016 1.007 1.008 1.003 1.002], Mean Score: 1.0084\n"
     ]
    },
    {
     "name": "stderr",
     "output_type": "stream",
     "text": [
      "[I 2025-07-02 22:32:38,479] Trial 79 finished with value: 0.007852908223867416 and parameters: {'lr': 0.0007660803698245215, 'epochs': 358, 'sharpness': 8.353078384569212, 'probs_noise_std': 0.20454667264453746, 'subsample_ratio': 0.3176142285445395}. Best is trial 31 with value: 0.006467473227530718.\n"
     ]
    },
    {
     "name": "stdout",
     "output_type": "stream",
     "text": [
      "Variant: do_min, Scores: [1.016 1.024 1.005 0.993 0.994 1.015 1.015 1.009 1.009 1.003 1.005], Mean Score: 1.0079\n"
     ]
    },
    {
     "name": "stderr",
     "output_type": "stream",
     "text": [
      "[I 2025-07-02 22:33:28,254] Trial 80 finished with value: 0.008585188537836075 and parameters: {'lr': 0.0002149427620425609, 'epochs': 1420, 'sharpness': 38.31230581998465, 'probs_noise_std': 0.3605801688415634, 'subsample_ratio': 0.10027675555770246}. Best is trial 31 with value: 0.006467473227530718.\n"
     ]
    },
    {
     "name": "stdout",
     "output_type": "stream",
     "text": [
      "Variant: do_min, Scores: [1.017 1.019 1.004 1.004 1.    1.016 1.014 1.008 1.004 1.007 1.004], Mean Score: 1.0086\n"
     ]
    },
    {
     "name": "stderr",
     "output_type": "stream",
     "text": [
      "[I 2025-07-02 22:34:04,586] Trial 81 finished with value: 0.007441943511366844 and parameters: {'lr': 0.0008132658534184456, 'epochs': 1042, 'sharpness': 6.81526786467946, 'probs_noise_std': 0.390740252973975, 'subsample_ratio': 0.0427217453359287}. Best is trial 31 with value: 0.006467473227530718.\n"
     ]
    },
    {
     "name": "stdout",
     "output_type": "stream",
     "text": [
      "Variant: do_min, Scores: [1.015 1.021 1.005 0.993 0.995 1.014 1.012 1.008 1.013 1.006 1.001], Mean Score: 1.0075\n"
     ]
    },
    {
     "name": "stderr",
     "output_type": "stream",
     "text": [
      "[I 2025-07-02 22:34:38,740] Trial 82 finished with value: 0.012319139204919338 and parameters: {'lr': 0.0013841611198444276, 'epochs': 984, 'sharpness': 49.93823914816286, 'probs_noise_std': 0.488853746899797, 'subsample_ratio': 0.0638071337904935}. Best is trial 31 with value: 0.006467473227530718.\n"
     ]
    },
    {
     "name": "stdout",
     "output_type": "stream",
     "text": [
      "Variant: do_min, Scores: [1.021 1.023 1.004 0.995 0.999 1.022 1.06  1.005 1.001 1.004 1.003], Mean Score: 1.0125\n"
     ]
    },
    {
     "name": "stderr",
     "output_type": "stream",
     "text": [
      "[I 2025-07-02 22:35:15,804] Trial 83 finished with value: 0.00803754385560751 and parameters: {'lr': 0.0009161113607728318, 'epochs': 1070, 'sharpness': 5.51147882548684, 'probs_noise_std': 0.12480654038803007, 'subsample_ratio': 0.04858198938377935}. Best is trial 31 with value: 0.006467473227530718.\n"
     ]
    },
    {
     "name": "stdout",
     "output_type": "stream",
     "text": [
      "Variant: do_min, Scores: [1.01  1.02  1.005 0.995 0.996 1.016 1.029 1.005 1.008 1.004 1.002], Mean Score: 1.0081\n"
     ]
    },
    {
     "name": "stderr",
     "output_type": "stream",
     "text": [
      "[I 2025-07-02 22:35:55,272] Trial 84 finished with value: 0.011459555476903915 and parameters: {'lr': 0.0005448790567806951, 'epochs': 1145, 'sharpness': 4.5200332545759805, 'probs_noise_std': 0.44321541036029677, 'subsample_ratio': 0.16677894905316043}. Best is trial 31 with value: 0.006467473227530718.\n"
     ]
    },
    {
     "name": "stdout",
     "output_type": "stream",
     "text": [
      "Variant: do_min, Scores: [1.012 1.023 1.008 0.996 0.995 1.015 1.054 1.007 1.013 1.005 1.001], Mean Score: 1.0116\n"
     ]
    },
    {
     "name": "stderr",
     "output_type": "stream",
     "text": [
      "[I 2025-07-02 22:36:11,775] Trial 85 finished with value: 0.010213840752840042 and parameters: {'lr': 0.0017689080870335247, 'epochs': 463, 'sharpness': 27.238419655860078, 'probs_noise_std': 0.39615538270871226, 'subsample_ratio': 0.1983494114446112}. Best is trial 31 with value: 0.006467473227530718.\n"
     ]
    },
    {
     "name": "stdout",
     "output_type": "stream",
     "text": [
      "Variant: do_min, Scores: [1.017 1.022 1.007 0.997 0.993 1.02  1.04  1.007 1.006 1.003 1.003], Mean Score: 1.0103\n"
     ]
    },
    {
     "name": "stderr",
     "output_type": "stream",
     "text": [
      "[I 2025-07-02 22:36:55,069] Trial 86 finished with value: 0.010638672858476639 and parameters: {'lr': 0.002822732458452165, 'epochs': 1248, 'sharpness': 2.4084464813000768, 'probs_noise_std': 0.5258940313454944, 'subsample_ratio': 0.3683334697378702}. Best is trial 31 with value: 0.006467473227530718.\n"
     ]
    },
    {
     "name": "stdout",
     "output_type": "stream",
     "text": [
      "Variant: do_min, Scores: [1.011 1.026 1.008 0.994 0.999 1.01  1.053 1.007 1.007 1.004 1.   ], Mean Score: 1.0108\n"
     ]
    },
    {
     "name": "stderr",
     "output_type": "stream",
     "text": [
      "[I 2025-07-02 22:37:24,432] Trial 87 finished with value: 0.008136525750160217 and parameters: {'lr': 0.0002519449925280462, 'epochs': 843, 'sharpness': 4.067219072507743, 'probs_noise_std': 0.2335484260228595, 'subsample_ratio': 0.09160580637399002}. Best is trial 31 with value: 0.006467473227530718.\n"
     ]
    },
    {
     "name": "stdout",
     "output_type": "stream",
     "text": [
      "Variant: do_min, Scores: [1.015 1.021 1.006 0.994 0.998 1.016 1.015 1.008 1.009 1.005 1.003], Mean Score: 1.0082\n"
     ]
    },
    {
     "name": "stderr",
     "output_type": "stream",
     "text": [
      "[I 2025-07-02 22:38:03,116] Trial 88 finished with value: 0.007151431869715452 and parameters: {'lr': 0.0020750038607688028, 'epochs': 1111, 'sharpness': 33.94013069860222, 'probs_noise_std': 0.32745948393396423, 'subsample_ratio': 0.4889696811226228}. Best is trial 31 with value: 0.006467473227530718.\n"
     ]
    },
    {
     "name": "stdout",
     "output_type": "stream",
     "text": [
      "Variant: do_min, Scores: [1.009 1.018 1.004 1.001 0.999 1.018 1.008 1.009 1.004 1.005 1.004], Mean Score: 1.0072\n"
     ]
    },
    {
     "name": "stderr",
     "output_type": "stream",
     "text": [
      "[I 2025-07-02 22:38:56,083] Trial 89 finished with value: 0.010817187838256359 and parameters: {'lr': 0.0004707190953022423, 'epochs': 1537, 'sharpness': 2.9486021274261094, 'probs_noise_std': 0.2641018995909348, 'subsample_ratio': 0.13205720977768984}. Best is trial 31 with value: 0.006467473227530718.\n"
     ]
    },
    {
     "name": "stdout",
     "output_type": "stream",
     "text": [
      "Variant: do_min, Scores: [1.015 1.024 1.007 0.996 0.996 1.016 1.043 1.009 1.009 1.004 1.002], Mean Score: 1.0110\n"
     ]
    },
    {
     "name": "stderr",
     "output_type": "stream",
     "text": [
      "[I 2025-07-02 22:39:27,492] Trial 90 finished with value: 0.007705609779804945 and parameters: {'lr': 0.000971772309662625, 'epochs': 903, 'sharpness': 5.608126816403002, 'probs_noise_std': 0.9114528183197733, 'subsample_ratio': 0.4451402333544777}. Best is trial 31 with value: 0.006467473227530718.\n"
     ]
    },
    {
     "name": "stdout",
     "output_type": "stream",
     "text": [
      "Variant: do_min, Scores: [1.015 1.02  1.007 0.992 0.993 1.018 1.016 1.008 1.01  1.005 1.002], Mean Score: 1.0078\n"
     ]
    },
    {
     "name": "stderr",
     "output_type": "stream",
     "text": [
      "[I 2025-07-02 22:39:32,452] Trial 91 finished with value: 0.00886387936770916 and parameters: {'lr': 0.010464099465370148, 'epochs': 128, 'sharpness': 21.38395008506889, 'probs_noise_std': 0.34396583135291936, 'subsample_ratio': 0.11545087947245099}. Best is trial 31 with value: 0.006467473227530718.\n"
     ]
    },
    {
     "name": "stdout",
     "output_type": "stream",
     "text": [
      "Variant: do_min, Scores: [1.001 1.014 1.007 0.995 1.    1.012 1.04  1.008 1.011 1.004 1.006], Mean Score: 1.0090\n"
     ]
    },
    {
     "name": "stderr",
     "output_type": "stream",
     "text": [
      "[I 2025-07-02 22:39:39,909] Trial 92 finished with value: 0.010150929912924767 and parameters: {'lr': 0.027894403667902013, 'epochs': 199, 'sharpness': 23.66067302681602, 'probs_noise_std': 0.36110268206682006, 'subsample_ratio': 0.2597841044298318}. Best is trial 31 with value: 0.006467473227530718.\n"
     ]
    },
    {
     "name": "stdout",
     "output_type": "stream",
     "text": [
      "Variant: do_min, Scores: [1.014 1.019 1.007 0.995 1.003 1.008 1.033 1.01  1.009 1.007 1.008], Mean Score: 1.0102\n"
     ]
    },
    {
     "name": "stderr",
     "output_type": "stream",
     "text": [
      "[I 2025-07-02 22:39:45,542] Trial 93 finished with value: 0.008579191751778126 and parameters: {'lr': 0.01410403181433009, 'epochs': 154, 'sharpness': 17.974969384652436, 'probs_noise_std': 0.4533243732454058, 'subsample_ratio': 0.04234512746212231}. Best is trial 31 with value: 0.006467473227530718.\n"
     ]
    },
    {
     "name": "stdout",
     "output_type": "stream",
     "text": [
      "Variant: do_min, Scores: [1.004 1.011 1.009 0.992 1.003 1.002 1.049 1.002 1.012 1.006 1.004], Mean Score: 1.0087\n"
     ]
    },
    {
     "name": "stderr",
     "output_type": "stream",
     "text": [
      "[I 2025-07-02 22:39:54,457] Trial 94 finished with value: 0.00882311724126339 and parameters: {'lr': 0.005468645827666001, 'epochs': 241, 'sharpness': 13.51413741850671, 'probs_noise_std': 0.30428191191123166, 'subsample_ratio': 0.024728636710213595}. Best is trial 31 with value: 0.006467473227530718.\n"
     ]
    },
    {
     "name": "stdout",
     "output_type": "stream",
     "text": [
      "Variant: do_min, Scores: [1.013 1.019 1.003 0.995 1.001 1.002 1.039 1.006 1.006 1.006 1.007], Mean Score: 1.0089\n"
     ]
    },
    {
     "name": "stderr",
     "output_type": "stream",
     "text": [
      "[I 2025-07-02 22:40:35,779] Trial 95 finished with value: 0.01237962581217289 and parameters: {'lr': 0.003922385892829892, 'epochs': 1184, 'sharpness': 44.147112564828255, 'probs_noise_std': 0.4169832287703357, 'subsample_ratio': 0.08407017443981143}. Best is trial 31 with value: 0.006467473227530718.\n"
     ]
    },
    {
     "name": "stdout",
     "output_type": "stream",
     "text": [
      "Variant: do_min, Scores: [1.014 1.023 1.004 0.995 1.003 1.013 1.067 1.008 1.005 1.001 1.006], Mean Score: 1.0126\n"
     ]
    },
    {
     "name": "stderr",
     "output_type": "stream",
     "text": [
      "[I 2025-07-02 22:40:39,738] Trial 96 finished with value: 0.008812806569039822 and parameters: {'lr': 0.007113377199905123, 'epochs': 98, 'sharpness': 26.863787770269216, 'probs_noise_std': 0.7868950119273396, 'subsample_ratio': 0.16276641921766552}. Best is trial 31 with value: 0.006467473227530718.\n"
     ]
    },
    {
     "name": "stdout",
     "output_type": "stream",
     "text": [
      "Variant: do_min, Scores: [1.011 1.022 1.007 0.997 1.    1.007 1.038 1.005 1.003 1.004 1.004], Mean Score: 1.0089\n"
     ]
    },
    {
     "name": "stderr",
     "output_type": "stream",
     "text": [
      "[I 2025-07-02 22:41:15,400] Trial 97 finished with value: 0.01006535068154335 and parameters: {'lr': 0.032216743277371195, 'epochs': 1024, 'sharpness': 0.07442812555747874, 'probs_noise_std': 0.14144112569651235, 'subsample_ratio': 0.11154881892325604}. Best is trial 31 with value: 0.006467473227530718.\n"
     ]
    },
    {
     "name": "stdout",
     "output_type": "stream",
     "text": [
      "Variant: do_min, Scores: [1.01  1.022 1.006 0.995 1.001 1.019 1.036 1.01  1.007 1.002 1.004], Mean Score: 1.0102\n"
     ]
    },
    {
     "name": "stderr",
     "output_type": "stream",
     "text": [
      "[I 2025-07-02 22:41:17,771] Trial 98 finished with value: 0.007755185477435589 and parameters: {'lr': 0.00017179202001097653, 'epochs': 57, 'sharpness': 9.207762956068434, 'probs_noise_std': 0.28692193057377724, 'subsample_ratio': 0.6055380555241938}. Best is trial 31 with value: 0.006467473227530718.\n"
     ]
    },
    {
     "name": "stdout",
     "output_type": "stream",
     "text": [
      "Variant: do_min, Scores: [1.013 1.021 1.001 1.005 1.003 1.007 1.006 1.01  1.01  1.005 1.005], Mean Score: 1.0078\n"
     ]
    },
    {
     "name": "stderr",
     "output_type": "stream",
     "text": [
      "[I 2025-07-02 22:41:51,160] Trial 99 finished with value: 0.007862057536840439 and parameters: {'lr': 0.0003760444285143617, 'epochs': 954, 'sharpness': 11.311445084235901, 'probs_noise_std': 0.6024279047701877, 'subsample_ratio': 0.27828331104663295}. Best is trial 31 with value: 0.006467473227530718.\n"
     ]
    },
    {
     "name": "stdout",
     "output_type": "stream",
     "text": [
      "Variant: do_min, Scores: [1.015 1.019 1.006 0.996 0.996 1.015 1.017 1.01  1.007 1.005 1.002], Mean Score: 1.0079\n"
     ]
    },
    {
     "name": "stderr",
     "output_type": "stream",
     "text": [
      "[I 2025-07-02 22:42:10,936] Trial 100 finished with value: 0.006654982455074787 and parameters: {'lr': 0.00030787835391694874, 'epochs': 558, 'sharpness': 33.58234332795748, 'probs_noise_std': 0.34351172710323574, 'subsample_ratio': 0.19995929159670828}. Best is trial 31 with value: 0.006467473227530718.\n"
     ]
    },
    {
     "name": "stdout",
     "output_type": "stream",
     "text": [
      "Variant: do_min, Scores: [1.017 1.011 1.004 0.999 0.998 1.012 1.009 1.006 1.009 1.005 1.004], Mean Score: 1.0067\n"
     ]
    },
    {
     "name": "stderr",
     "output_type": "stream",
     "text": [
      "[I 2025-07-02 22:42:29,748] Trial 101 finished with value: 0.007950750179588795 and parameters: {'lr': 0.0002847887700067346, 'epochs': 525, 'sharpness': 33.820349993792014, 'probs_noise_std': 0.3337967175497423, 'subsample_ratio': 0.20033961450711388}. Best is trial 31 with value: 0.006467473227530718.\n"
     ]
    },
    {
     "name": "stdout",
     "output_type": "stream",
     "text": [
      "Variant: do_min, Scores: [1.016 1.02  1.004 1.002 0.999 1.013 1.008 1.007 1.01  1.006 1.002], Mean Score: 1.0080\n"
     ]
    },
    {
     "name": "stderr",
     "output_type": "stream",
     "text": [
      "[I 2025-07-02 22:42:56,719] Trial 102 finished with value: 0.011939069256186485 and parameters: {'lr': 0.007456746237932683, 'epochs': 769, 'sharpness': 43.089771314702276, 'probs_noise_std': 0.3961236220586789, 'subsample_ratio': 0.24473386617801138}. Best is trial 31 with value: 0.006467473227530718.\n"
     ]
    },
    {
     "name": "stdout",
     "output_type": "stream",
     "text": [
      "Variant: do_min, Scores: [1.014 1.012 1.002 0.995 1.004 1.021 1.061 1.007 1.007 1.006 1.004], Mean Score: 1.0121\n"
     ]
    },
    {
     "name": "stderr",
     "output_type": "stream",
     "text": [
      "[I 2025-07-02 22:43:04,006] Trial 103 finished with value: 0.007353469263762236 and parameters: {'lr': 0.00014656431558044154, 'epochs': 196, 'sharpness': 28.21049252537181, 'probs_noise_std': 0.34874199080272617, 'subsample_ratio': 0.6591892976902053}. Best is trial 31 with value: 0.006467473227530718.\n"
     ]
    },
    {
     "name": "stdout",
     "output_type": "stream",
     "text": [
      "Variant: do_min, Scores: [1.014 1.017 1.004 1.002 1.004 1.003 1.011 1.01  1.007 1.004 1.004], Mean Score: 1.0074\n"
     ]
    },
    {
     "name": "stderr",
     "output_type": "stream",
     "text": [
      "[I 2025-07-02 22:43:27,403] Trial 104 finished with value: 0.007351054344326258 and parameters: {'lr': 0.000636176470424085, 'epochs': 666, 'sharpness': 7.265743993921768, 'probs_noise_std': 0.3709098919963335, 'subsample_ratio': 0.12569127691091828}. Best is trial 31 with value: 0.006467473227530718.\n"
     ]
    },
    {
     "name": "stdout",
     "output_type": "stream",
     "text": [
      "Variant: do_min, Scores: [1.013 1.02  1.008 0.992 0.995 1.015 1.017 1.007 1.007 1.005 1.003], Mean Score: 1.0074\n"
     ]
    },
    {
     "name": "stderr",
     "output_type": "stream",
     "text": [
      "[I 2025-07-02 22:43:39,046] Trial 105 finished with value: 0.00696455268189311 and parameters: {'lr': 0.00023320636766003164, 'epochs': 317, 'sharpness': 33.75868990912439, 'probs_noise_std': 0.4768943593027807, 'subsample_ratio': 0.1839242635327324}. Best is trial 31 with value: 0.006467473227530718.\n"
     ]
    },
    {
     "name": "stdout",
     "output_type": "stream",
     "text": [
      "Variant: do_min, Scores: [1.014 1.017 1.002 1.003 1.003 1.003 1.012 1.006 1.008 1.004 1.005], Mean Score: 1.0070\n"
     ]
    },
    {
     "name": "stderr",
     "output_type": "stream",
     "text": [
      "[I 2025-07-02 22:44:41,278] Trial 106 finished with value: 0.007290494628250599 and parameters: {'lr': 0.00019710236744162026, 'epochs': 1791, 'sharpness': 41.480336093991035, 'probs_noise_std': 0.5104147363188262, 'subsample_ratio': 0.1996691011392546}. Best is trial 31 with value: 0.006467473227530718.\n"
     ]
    },
    {
     "name": "stdout",
     "output_type": "stream",
     "text": [
      "Variant: do_min, Scores: [1.014 1.019 1.002 1.    1.002 1.01  1.01  1.007 1.008 1.006 1.003], Mean Score: 1.0073\n"
     ]
    },
    {
     "name": "stderr",
     "output_type": "stream",
     "text": [
      "[I 2025-07-02 22:44:54,758] Trial 107 finished with value: 0.006219434551894665 and parameters: {'lr': 0.00023683774973362148, 'epochs': 382, 'sharpness': 34.42770759177494, 'probs_noise_std': 0.473514158092574, 'subsample_ratio': 0.06071456174281814}. Best is trial 107 with value: 0.006219434551894665.\n"
     ]
    },
    {
     "name": "stdout",
     "output_type": "stream",
     "text": [
      "Variant: do_min, Scores: [1.014 1.014 1.003 1.001 1.002 1.002 1.011 1.005 1.006 1.005 1.005], Mean Score: 1.0062\n"
     ]
    },
    {
     "name": "stderr",
     "output_type": "stream",
     "text": [
      "[I 2025-07-02 22:45:09,591] Trial 108 finished with value: 0.0059288423508405685 and parameters: {'lr': 0.00023582804123063291, 'epochs': 417, 'sharpness': 33.67254599245741, 'probs_noise_std': 0.4780249277619131, 'subsample_ratio': 0.30637924151004814}. Best is trial 108 with value: 0.0059288423508405685.\n"
     ]
    },
    {
     "name": "stdout",
     "output_type": "stream",
     "text": [
      "Variant: do_min, Scores: [1.013 1.013 1.004 1.001 1.003 1.003 1.01  1.008 1.004 1.005 1.003], Mean Score: 1.0060\n"
     ]
    },
    {
     "name": "stderr",
     "output_type": "stream",
     "text": [
      "[I 2025-07-02 22:45:24,840] Trial 109 finished with value: 0.006651139352470636 and parameters: {'lr': 0.0003396380697601118, 'epochs': 427, 'sharpness': 33.87959110340331, 'probs_noise_std': 0.48369395561213796, 'subsample_ratio': 0.39452514661473664}. Best is trial 108 with value: 0.0059288423508405685.\n"
     ]
    },
    {
     "name": "stdout",
     "output_type": "stream",
     "text": [
      "Variant: do_min, Scores: [1.01  1.018 1.003 1.002 1.004 1.009 1.008 1.006 1.004 1.005 1.004], Mean Score: 1.0067\n"
     ]
    },
    {
     "name": "stderr",
     "output_type": "stream",
     "text": [
      "[I 2025-07-02 22:45:38,686] Trial 110 finished with value: 0.005910201463848352 and parameters: {'lr': 0.0002454037110718111, 'epochs': 384, 'sharpness': 35.81261276725086, 'probs_noise_std': 0.5421985889310881, 'subsample_ratio': 0.41272179504416373}. Best is trial 110 with value: 0.005910201463848352.\n"
     ]
    },
    {
     "name": "stdout",
     "output_type": "stream",
     "text": [
      "Variant: do_min, Scores: [1.01  1.02  1.002 1.001 1.    1.    1.014 1.006 1.004 1.005 1.004], Mean Score: 1.0059\n"
     ]
    },
    {
     "name": "stderr",
     "output_type": "stream",
     "text": [
      "[I 2025-07-02 22:45:51,598] Trial 111 finished with value: 0.006524135358631611 and parameters: {'lr': 0.00031181639355377987, 'epochs': 363, 'sharpness': 33.51645911106677, 'probs_noise_std': 0.5430275476335178, 'subsample_ratio': 0.39339829271790516}. Best is trial 110 with value: 0.005910201463848352.\n"
     ]
    },
    {
     "name": "stdout",
     "output_type": "stream",
     "text": [
      "Variant: do_min, Scores: [1.018 1.017 1.002 1.    1.003 1.004 1.008 1.008 1.004 1.005 1.004], Mean Score: 1.0066\n"
     ]
    },
    {
     "name": "stderr",
     "output_type": "stream",
     "text": [
      "[I 2025-07-02 22:46:08,150] Trial 112 finished with value: 0.006330466363579035 and parameters: {'lr': 0.0003279852458645525, 'epochs': 466, 'sharpness': 31.049348187089073, 'probs_noise_std': 0.5386791258740656, 'subsample_ratio': 0.38909143494015086}. Best is trial 110 with value: 0.005910201463848352.\n"
     ]
    },
    {
     "name": "stdout",
     "output_type": "stream",
     "text": [
      "Variant: do_min, Scores: [1.007 1.017 1.003 0.999 1.    1.01  1.015 1.007 1.008 1.002 1.002], Mean Score: 1.0064\n"
     ]
    },
    {
     "name": "stderr",
     "output_type": "stream",
     "text": [
      "[I 2025-07-02 22:46:23,567] Trial 113 finished with value: 0.0065305824391543865 and parameters: {'lr': 0.0002926106504659151, 'epochs': 426, 'sharpness': 34.760282664117085, 'probs_noise_std': 0.5482106225914409, 'subsample_ratio': 0.39798461996600565}. Best is trial 110 with value: 0.005910201463848352.\n"
     ]
    },
    {
     "name": "stdout",
     "output_type": "stream",
     "text": [
      "Variant: do_min, Scores: [1.02  1.018 1.003 1.001 0.998 1.002 1.009 1.007 1.009 1.003 1.003], Mean Score: 1.0066\n"
     ]
    },
    {
     "name": "stderr",
     "output_type": "stream",
     "text": [
      "[I 2025-07-02 22:46:37,748] Trial 114 finished with value: 0.009060220792889595 and parameters: {'lr': 0.00032506777712598467, 'epochs': 393, 'sharpness': 18.251517825065992, 'probs_noise_std': 0.547214339462663, 'subsample_ratio': 0.40192250763969933}. Best is trial 110 with value: 0.005910201463848352.\n"
     ]
    },
    {
     "name": "stdout",
     "output_type": "stream",
     "text": [
      "Variant: do_min, Scores: [1.017 1.021 1.003 0.999 0.998 1.02  1.017 1.007 1.009 1.006 1.004], Mean Score: 1.0091\n"
     ]
    },
    {
     "name": "stderr",
     "output_type": "stream",
     "text": [
      "[I 2025-07-02 22:46:57,107] Trial 115 finished with value: 0.006106182932853699 and parameters: {'lr': 0.00029994967491223584, 'epochs': 538, 'sharpness': 30.87043819740426, 'probs_noise_std': 0.6250427497903893, 'subsample_ratio': 0.4170293504920795}. Best is trial 110 with value: 0.005910201463848352.\n"
     ]
    },
    {
     "name": "stdout",
     "output_type": "stream",
     "text": [
      "Variant: do_min, Scores: [1.014 1.016 1.003 1.    0.995 1.009 1.01  1.007 1.006 1.002 1.006], Mean Score: 1.0061\n"
     ]
    },
    {
     "name": "stderr",
     "output_type": "stream",
     "text": [
      "[I 2025-07-02 22:47:16,030] Trial 116 finished with value: 0.008165712468326092 and parameters: {'lr': 0.00035664403386922213, 'epochs': 537, 'sharpness': 27.855972300769963, 'probs_noise_std': 0.6256397240619821, 'subsample_ratio': 0.4277583506876551}. Best is trial 110 with value: 0.005910201463848352.\n"
     ]
    },
    {
     "name": "stdout",
     "output_type": "stream",
     "text": [
      "Variant: do_min, Scores: [1.013 1.017 1.007 0.998 1.    1.012 1.017 1.008 1.008 1.006 1.004], Mean Score: 1.0082\n"
     ]
    },
    {
     "name": "stderr",
     "output_type": "stream",
     "text": [
      "[I 2025-07-02 22:47:31,586] Trial 117 finished with value: 0.008237914182245731 and parameters: {'lr': 0.0002897299245584308, 'epochs': 437, 'sharpness': 24.033360861568735, 'probs_noise_std': 0.5328593101773111, 'subsample_ratio': 0.38277382065242777}. Best is trial 110 with value: 0.005910201463848352.\n"
     ]
    },
    {
     "name": "stdout",
     "output_type": "stream",
     "text": [
      "Variant: do_min, Scores: [1.019 1.016 1.006 1.    0.998 1.014 1.017 1.007 1.008 1.004 1.004], Mean Score: 1.0083\n"
     ]
    },
    {
     "name": "stderr",
     "output_type": "stream",
     "text": [
      "[I 2025-07-02 22:47:48,367] Trial 118 finished with value: 0.006741927471011877 and parameters: {'lr': 0.00024165135851181028, 'epochs': 474, 'sharpness': 31.172009893121416, 'probs_noise_std': 0.5898489558110015, 'subsample_ratio': 0.35553424921722826}. Best is trial 110 with value: 0.005910201463848352.\n"
     ]
    },
    {
     "name": "stdout",
     "output_type": "stream",
     "text": [
      "Variant: do_min, Scores: [1.013 1.016 1.004 1.003 1.003 1.002 1.013 1.006 1.008 1.004 1.002], Mean Score: 1.0068\n"
     ]
    },
    {
     "name": "stderr",
     "output_type": "stream",
     "text": [
      "[I 2025-07-02 22:48:06,309] Trial 119 finished with value: 0.00800253078341484 and parameters: {'lr': 0.00012142705800928953, 'epochs': 499, 'sharpness': 31.00405725257006, 'probs_noise_std': 0.6611580497047739, 'subsample_ratio': 0.35923130053086955}. Best is trial 110 with value: 0.005910201463848352.\n"
     ]
    },
    {
     "name": "stdout",
     "output_type": "stream",
     "text": [
      "Variant: do_min, Scores: [1.017 1.021 1.003 1.005 1.006 1.004 1.009 1.008 1.008 1.004 1.004], Mean Score: 1.0081\n",
      "\n",
      "Trials DataFrame:\n",
      "     number     value             datetime_start          datetime_complete               duration  params_epochs  params_lr  params_probs_noise_std  params_sharpness  params_subsample_ratio     state\n",
      "110     110  0.005910 2025-07-02 22:45:24.840312 2025-07-02 22:45:38.686590 0 days 00:00:13.846278            384   0.000245                0.542199         35.812613                0.412722  COMPLETE\n",
      "108     108  0.005929 2025-07-02 22:44:54.758433 2025-07-02 22:45:09.591333 0 days 00:00:14.832900            417   0.000236                0.478025         33.672546                0.306379  COMPLETE\n",
      "115     115  0.006106 2025-07-02 22:46:37.748260 2025-07-02 22:46:57.107254 0 days 00:00:19.358994            538   0.000300                0.625043         30.870438                0.417029  COMPLETE\n",
      "107     107  0.006219 2025-07-02 22:44:41.278915 2025-07-02 22:44:54.758433 0 days 00:00:13.479518            382   0.000237                0.473514         34.427708                0.060715  COMPLETE\n",
      "112     112  0.006330 2025-07-02 22:45:51.598145 2025-07-02 22:46:08.150432 0 days 00:00:16.552287            466   0.000328                0.538679         31.049348                0.389091  COMPLETE\n",
      "31       31  0.006467 2025-07-02 22:00:17.754660 2025-07-02 22:00:53.606111 0 days 00:00:35.851451           1021   0.000994                0.216781          5.418961                0.331517  COMPLETE\n",
      "111     111  0.006524 2025-07-02 22:45:38.686590 2025-07-02 22:45:51.598145 0 days 00:00:12.911555            363   0.000312                0.543028         33.516459                0.393398  COMPLETE\n",
      "113     113  0.006531 2025-07-02 22:46:08.150432 2025-07-02 22:46:23.567179 0 days 00:00:15.416747            426   0.000293                0.548211         34.760283                0.397985  COMPLETE\n",
      "45       45  0.006641 2025-07-02 22:09:10.643271 2025-07-02 22:09:55.827096 0 days 00:00:45.183825           1300   0.000248                0.533683         46.656810                0.067222  COMPLETE\n",
      "109     109  0.006651 2025-07-02 22:45:09.591333 2025-07-02 22:45:24.840312 0 days 00:00:15.248979            427   0.000340                0.483694         33.879591                0.394525  COMPLETE\n",
      "100     100  0.006655 2025-07-02 22:41:51.160321 2025-07-02 22:42:10.936864 0 days 00:00:19.776543            558   0.000308                0.343512         33.582343                0.199959  COMPLETE\n",
      "118     118  0.006742 2025-07-02 22:47:31.586308 2025-07-02 22:47:48.367938 0 days 00:00:16.781630            474   0.000242                0.589849         31.172010                0.355534  COMPLETE\n",
      "8         8  0.006863 2025-07-02 21:53:27.485365 2025-07-02 21:53:30.575013 0 days 00:00:03.089648             78   0.000379                0.321119          2.903047                0.646018  COMPLETE\n",
      "42       42  0.006875 2025-07-02 22:07:08.568813 2025-07-02 22:07:49.419794 0 days 00:00:40.850981           1163   0.001262                0.491767          8.740351                0.128607  COMPLETE\n",
      "70       70  0.006884 2025-07-02 22:27:39.398412 2025-07-02 22:28:08.945573 0 days 00:00:29.547161            847   0.001065                0.286690         35.943036                0.015111  COMPLETE\n",
      "32       32  0.006893 2025-07-02 22:00:53.606111 2025-07-02 22:01:29.045432 0 days 00:00:35.439321           1014   0.000947                0.221173          5.361376                0.285270  COMPLETE\n",
      "105     105  0.006965 2025-07-02 22:43:27.403347 2025-07-02 22:43:39.046668 0 days 00:00:11.643321            317   0.000233                0.476894         33.758690                0.183924  COMPLETE\n",
      "61       61  0.006995 2025-07-02 22:21:53.532078 2025-07-02 22:22:31.531323 0 days 00:00:37.999245           1101   0.001057                0.401122          6.425794                0.038671  COMPLETE\n",
      "46       46  0.007028 2025-07-02 22:09:55.827096 2025-07-02 22:10:54.185596 0 days 00:00:58.358500           1675   0.000217                0.718488         42.519650                0.227683  COMPLETE\n",
      "41       41  0.007115 2025-07-02 22:06:31.955700 2025-07-02 22:07:08.568813 0 days 00:00:36.613113           1064   0.000885                0.389029          5.777211                0.044278  COMPLETE\n",
      "74       74  0.007124 2025-07-02 22:29:28.301285 2025-07-02 22:29:35.331807 0 days 00:00:07.030522            188   0.008659                0.348362         24.190300                0.116665  COMPLETE\n",
      "88       88  0.007151 2025-07-02 22:37:24.433065 2025-07-02 22:38:03.116248 0 days 00:00:38.683183           1111   0.002075                0.327459         33.940131                0.488970  COMPLETE\n",
      "26       26  0.007274 2025-07-02 21:57:34.987885 2025-07-02 21:57:59.492001 0 days 00:00:24.504116            687   0.000922                0.160426          4.559963                0.992982  COMPLETE\n",
      "57       57  0.007285 2025-07-02 22:18:48.013303 2025-07-02 22:19:27.098363 0 days 00:00:39.085060           1128   0.000714                0.550454          7.606950                0.081848  COMPLETE\n",
      "106     106  0.007290 2025-07-02 22:43:39.047708 2025-07-02 22:44:41.278915 0 days 00:01:02.231207           1791   0.000197                0.510415         41.480336                0.199669  COMPLETE\n",
      "36       36  0.007307 2025-07-02 22:03:22.825023 2025-07-02 22:04:00.490372 0 days 00:00:37.665349           1092   0.000770                0.388912          5.912197                0.036945  COMPLETE\n",
      "77       77  0.007307 2025-07-02 22:30:44.995547 2025-07-02 22:31:44.696420 0 days 00:00:59.700873           1727   0.001018                0.169696          4.806729                0.237650  COMPLETE\n",
      "104     104  0.007351 2025-07-02 22:43:04.006532 2025-07-02 22:43:27.403347 0 days 00:00:23.396815            666   0.000636                0.370910          7.265744                0.125691  COMPLETE\n",
      "103     103  0.007353 2025-07-02 22:42:56.719019 2025-07-02 22:43:04.006532 0 days 00:00:07.287513            196   0.000147                0.348742         28.210493                0.659189  COMPLETE\n",
      "81       81  0.007442 2025-07-02 22:33:28.254347 2025-07-02 22:34:04.586456 0 days 00:00:36.332109           1042   0.000813                0.390740          6.815268                0.042722  COMPLETE\n",
      "30       30  0.007486 2025-07-02 21:59:42.815813 2025-07-02 22:00:17.754660 0 days 00:00:34.938847            995   0.000396                0.217076          5.444121                0.349513  COMPLETE\n",
      "10       10  0.007598 2025-07-02 21:54:13.402126 2025-07-02 21:54:16.255630 0 days 00:00:02.853504             71   0.000104                0.560138          1.002010                0.379791  COMPLETE\n",
      "90       90  0.007706 2025-07-02 22:38:56.084666 2025-07-02 22:39:27.492110 0 days 00:00:31.407444            903   0.000972                0.911453          5.608127                0.445140  COMPLETE\n",
      "64       64  0.007746 2025-07-02 22:23:43.069702 2025-07-02 22:24:24.752866 0 days 00:00:41.683164           1198   0.000488                0.412691          6.182664                0.331162  COMPLETE\n",
      "44       44  0.007751 2025-07-02 22:08:30.024369 2025-07-02 22:09:10.642228 0 days 00:00:40.617859           1162   0.000479                0.483908          7.389449                0.121265  COMPLETE\n",
      "47       47  0.007754 2025-07-02 22:10:54.185596 2025-07-02 22:11:40.403316 0 days 00:00:46.217720           1327   0.000269                0.873236         47.341726                0.291965  COMPLETE\n",
      "98       98  0.007755 2025-07-02 22:41:15.400542 2025-07-02 22:41:17.771654 0 days 00:00:02.371112             57   0.000172                0.286922          9.207763                0.605538  COMPLETE\n",
      "62       62  0.007821 2025-07-02 22:22:31.531323 2025-07-02 22:22:58.874641 0 days 00:00:27.343318            786   0.001135                0.364241          5.037425                0.040944  COMPLETE\n",
      "79       79  0.007853 2025-07-02 22:32:25.602483 2025-07-02 22:32:38.479836 0 days 00:00:12.877353            358   0.000766                0.204547          8.353078                0.317614  COMPLETE\n",
      "99       99  0.007862 2025-07-02 22:41:17.771654 2025-07-02 22:41:51.160321 0 days 00:00:33.388667            954   0.000376                0.602428         11.311445                0.278283  COMPLETE\n",
      "73       73  0.007901 2025-07-02 22:28:57.851716 2025-07-02 22:29:28.301285 0 days 00:00:30.449569            871   0.001116                0.182688          6.414141                0.559160  COMPLETE\n",
      "101     101  0.007951 2025-07-02 22:42:10.936864 2025-07-02 22:42:29.748911 0 days 00:00:18.812047            525   0.000285                0.333797         33.820350                0.200340  COMPLETE\n",
      "119     119  0.008003 2025-07-02 22:47:48.367938 2025-07-02 22:48:06.309906 0 days 00:00:17.941968            499   0.000121                0.661158         31.004057                0.359231  COMPLETE\n",
      "39       39  0.008030 2025-07-02 22:05:14.617567 2025-07-02 22:06:06.797862 0 days 00:00:52.180295           1496   0.000430                0.073124         31.261542                0.551996  COMPLETE\n",
      "17       17  0.008036 2025-07-02 21:55:51.664499 2025-07-02 21:56:03.010643 0 days 00:00:11.346144            316   0.001938                0.182914          4.341279                0.809851  COMPLETE\n",
      "83       83  0.008038 2025-07-02 22:34:38.740430 2025-07-02 22:35:15.804106 0 days 00:00:37.063676           1070   0.000916                0.124807          5.511479                0.048582  COMPLETE\n",
      "53       53  0.008134 2025-07-02 22:15:46.303618 2025-07-02 22:16:44.462205 0 days 00:00:58.158587           1666   0.001234                0.723788         38.058460                0.228576  COMPLETE\n",
      "24       24  0.008135 2025-07-02 21:57:09.716437 2025-07-02 21:57:18.485787 0 days 00:00:08.769350            239   0.000162                0.374365         12.717510                0.594786  COMPLETE\n",
      "87       87  0.008137 2025-07-02 22:36:55.069205 2025-07-02 22:37:24.432524 0 days 00:00:29.363319            843   0.000252                0.233548          4.067219                0.091606  COMPLETE\n",
      "116     116  0.008166 2025-07-02 22:46:57.107254 2025-07-02 22:47:16.030844 0 days 00:00:18.923590            537   0.000357                0.625640         27.855972                0.427758  COMPLETE\n",
      "117     117  0.008238 2025-07-02 22:47:16.030844 2025-07-02 22:47:31.586308 0 days 00:00:15.555464            437   0.000290                0.532859         24.033361                0.382774  COMPLETE\n",
      "3         3  0.008295 2025-07-02 21:50:00.904309 2025-07-02 21:51:02.838374 0 days 00:01:01.934065           1793   0.000314                0.224677          7.886570                0.723319  COMPLETE\n",
      "66       66  0.008371 2025-07-02 22:25:00.253286 2025-07-02 22:25:48.644939 0 days 00:00:48.391653           1384   0.000657                0.245655         12.378545                0.282751  COMPLETE\n",
      "78       78  0.008379 2025-07-02 22:31:44.696906 2025-07-02 22:32:25.602483 0 days 00:00:40.905577           1198   0.000329                0.572270         10.643406                0.010764  COMPLETE\n",
      "51       51  0.008430 2025-07-02 22:13:50.284718 2025-07-02 22:14:50.966430 0 days 00:01:00.681712           1750   0.000229                0.747843         37.048955                0.259019  COMPLETE\n",
      "67       67  0.008471 2025-07-02 22:25:48.644939 2025-07-02 22:26:21.345767 0 days 00:00:32.700828            928   0.000108                0.467510         20.684070                0.215264  COMPLETE\n",
      "56       56  0.008493 2025-07-02 22:18:16.745545 2025-07-02 22:18:48.013303 0 days 00:00:31.267758            894   0.000140                0.812543         14.281569                0.196793  COMPLETE\n",
      "19       19  0.008572 2025-07-02 21:56:13.378056 2025-07-02 21:56:38.219476 0 days 00:00:24.841420            709   0.000186                0.382771          7.415136                0.623769  COMPLETE\n",
      "93       93  0.008579 2025-07-02 22:39:39.909690 2025-07-02 22:39:45.542395 0 days 00:00:05.632705            154   0.014104                0.453324         17.974969                0.042345  COMPLETE\n",
      "80       80  0.008585 2025-07-02 22:32:38.479836 2025-07-02 22:33:28.254347 0 days 00:00:49.774511           1420   0.000215                0.360580         38.312306                0.100277  COMPLETE\n",
      "54       54  0.008656 2025-07-02 22:16:44.462205 2025-07-02 22:17:33.118181 0 days 00:00:48.655976           1380   0.000354                0.842686         17.029674                0.146218  COMPLETE\n",
      "48       48  0.008687 2025-07-02 22:11:40.403316 2025-07-02 22:12:25.401776 0 days 00:00:44.998460           1302   0.000135                0.522294         21.446722                0.086657  COMPLETE\n",
      "7         7  0.008724 2025-07-02 21:53:08.380463 2025-07-02 21:53:27.485365 0 days 00:00:19.104902            528   0.057432                0.288602          2.991219                0.092983  COMPLETE\n",
      "34       34  0.008741 2025-07-02 22:02:07.361771 2025-07-02 22:02:53.946104 0 days 00:00:46.584333           1341   0.001278                0.254570         11.727007                0.118348  COMPLETE\n",
      "71       71  0.008756 2025-07-02 22:28:08.945573 2025-07-02 22:28:30.745059 0 days 00:00:21.799486            620   0.001236                0.413224         31.078095                0.075470  COMPLETE\n",
      "96       96  0.008813 2025-07-02 22:40:35.781062 2025-07-02 22:40:39.738856 0 days 00:00:03.957794             98   0.007113                0.786895         26.863788                0.162766  COMPLETE\n",
      "94       94  0.008823 2025-07-02 22:39:45.542395 2025-07-02 22:39:54.457731 0 days 00:00:08.915336            241   0.005469                0.304282         13.514137                0.024729  COMPLETE\n",
      "52       52  0.008849 2025-07-02 22:14:50.966430 2025-07-02 22:15:46.303618 0 days 00:00:55.337188           1599   0.000539                0.963637         24.583386                0.223083  COMPLETE\n",
      "91       91  0.008864 2025-07-02 22:39:27.493162 2025-07-02 22:39:32.452837 0 days 00:00:04.959675            128   0.010464                0.343966         21.383950                0.115451  COMPLETE\n",
      "114     114  0.009060 2025-07-02 22:46:23.567179 2025-07-02 22:46:37.748260 0 days 00:00:14.181081            393   0.000325                0.547214         18.251518                0.401923  COMPLETE\n",
      "22       22  0.009433 2025-07-02 21:56:57.005961 2025-07-02 21:56:59.354638 0 days 00:00:02.348677             54   0.001478                0.274051          4.247845                0.714727  COMPLETE\n",
      "27       27  0.009444 2025-07-02 21:57:59.492001 2025-07-02 21:58:49.183674 0 days 00:00:49.691673           1437   0.000677                0.598994          0.961620                0.181023  COMPLETE\n",
      "72       72  0.009479 2025-07-02 22:28:30.746101 2025-07-02 22:28:57.851716 0 days 00:00:27.105615            771   0.001563                0.281895         39.386147                0.022939  COMPLETE\n",
      "75       75  0.009526 2025-07-02 22:29:35.332742 2025-07-02 22:30:08.270665 0 days 00:00:32.937923            950   0.000425                0.300590         16.136211                0.065693  COMPLETE\n",
      "6         6  0.009550 2025-07-02 21:52:59.962552 2025-07-02 21:53:08.380463 0 days 00:00:08.417911            230   0.025062                0.748296          0.240902                0.522053  COMPLETE\n",
      "50       50  0.009624 2025-07-02 22:13:16.194218 2025-07-02 22:13:50.284718 0 days 00:00:34.090500            980   0.000301                0.314485          2.729211                0.337064  COMPLETE\n",
      "55       55  0.009913 2025-07-02 22:17:33.118181 2025-07-02 22:18:16.745545 0 days 00:00:43.627364           1245   0.000202                0.700931          1.868528                0.413780  COMPLETE\n",
      "40       40  0.009995 2025-07-02 22:06:06.797862 2025-07-02 22:06:31.955700 0 days 00:00:25.157838            707   0.003625                0.265199          3.145239                0.463153  COMPLETE\n",
      "11       11  0.010040 2025-07-02 21:54:16.255630 2025-07-02 21:54:20.483108 0 days 00:00:04.227478            108   0.000123                0.537419          0.663075                0.408377  COMPLETE\n",
      "38       38  0.010061 2025-07-02 22:04:31.090053 2025-07-02 22:05:14.617567 0 days 00:00:43.527514           1236   0.011697                0.343231         10.324669                0.701296  COMPLETE\n",
      "97       97  0.010065 2025-07-02 22:40:39.738856 2025-07-02 22:41:15.400542 0 days 00:00:35.661686           1024   0.032217                0.141441          0.074428                0.111549  COMPLETE\n",
      "35       35  0.010108 2025-07-02 22:02:53.946104 2025-07-02 22:03:22.825023 0 days 00:00:28.878919            825   0.003707                0.120497         29.868704                0.893693  COMPLETE\n",
      "76       76  0.010114 2025-07-02 22:30:08.270665 2025-07-02 22:30:44.994324 0 days 00:00:36.723659           1060   0.000595                0.247248          1.861278                0.142271  COMPLETE\n",
      "12       12  0.010124 2025-07-02 21:54:20.483108 2025-07-02 21:54:39.607940 0 days 00:00:19.124832            529   0.000100                0.664543          1.254689                0.515057  COMPLETE\n",
      "92       92  0.010151 2025-07-02 22:39:32.453878 2025-07-02 22:39:39.909690 0 days 00:00:07.455812            199   0.027894                0.361103         23.660673                0.259784  COMPLETE\n",
      "85       85  0.010214 2025-07-02 22:35:55.272616 2025-07-02 22:36:11.775382 0 days 00:00:16.502766            463   0.001769                0.396155         27.238420                0.198349  COMPLETE\n",
      "21       21  0.010391 2025-07-02 21:56:43.276152 2025-07-02 21:56:57.005961 0 days 00:00:13.729809            382   0.002816                0.150553          3.601735                0.833590  COMPLETE\n",
      "20       20  0.010430 2025-07-02 21:56:38.219476 2025-07-02 21:56:43.276152 0 days 00:00:05.056676            128   0.000558                0.187729          0.609317                0.478737  COMPLETE\n",
      "69       69  0.010449 2025-07-02 22:26:59.729169 2025-07-02 22:27:39.398412 0 days 00:00:39.669243           1134   0.000799                0.330612          3.329882                0.171217  COMPLETE\n",
      "23       23  0.010472 2025-07-02 21:56:59.354638 2025-07-02 21:57:09.716437 0 days 00:00:10.361799            281   0.002451                0.027786          1.416325                0.855337  COMPLETE\n",
      "60       60  0.010550 2025-07-02 22:20:55.736307 2025-07-02 22:21:53.532078 0 days 00:00:57.795771           1641   0.000275                0.509608          2.710345                0.388317  COMPLETE\n",
      "59       59  0.010592 2025-07-02 22:20:02.452660 2025-07-02 22:20:55.735306 0 days 00:00:53.282646           1527   0.001722                0.431013          3.948760                0.141468  COMPLETE\n",
      "9         9  0.010600 2025-07-02 21:53:30.575013 2025-07-02 21:54:13.402126 0 days 00:00:42.827113           1227   0.018589                0.839198          0.050881                0.774959  COMPLETE\n",
      "65       65  0.010631 2025-07-02 22:24:24.753902 2025-07-02 22:25:00.253286 0 days 00:00:35.499384           1028   0.002515                0.207283          3.561100                0.060111  COMPLETE\n",
      "25       25  0.010638 2025-07-02 21:57:18.485787 2025-07-02 21:57:34.987885 0 days 00:00:16.502098            463   0.000380                0.460120          2.209309                0.799994  COMPLETE\n",
      "86       86  0.010639 2025-07-02 22:36:11.775382 2025-07-02 22:36:55.069205 0 days 00:00:43.293823           1248   0.002823                0.525894          2.408446                0.368333  COMPLETE\n",
      "29       29  0.010698 2025-07-02 21:59:10.127734 2025-07-02 21:59:42.815813 0 days 00:00:32.688079            948   0.000917                0.119247          0.107202                0.303958  COMPLETE\n",
      "16       16  0.010768 2025-07-02 21:55:23.135513 2025-07-02 21:55:51.664499 0 days 00:00:28.528986            818   0.000240                0.435961          1.475141                0.197989  COMPLETE\n",
      "68       68  0.010810 2025-07-02 22:26:21.346294 2025-07-02 22:26:59.729169 0 days 00:00:38.382875           1102   0.000164                0.677533          1.175165                0.751277  COMPLETE\n",
      "89       89  0.010817 2025-07-02 22:38:03.116248 2025-07-02 22:38:56.083627 0 days 00:00:52.967379           1537   0.000471                0.264102          2.948602                0.132057  COMPLETE\n",
      "37       37  0.010925 2025-07-02 22:04:00.490372 2025-07-02 22:04:31.090053 0 days 00:00:30.599681            874   0.001989                0.224263          2.040438                0.182333  COMPLETE\n",
      "0         0  0.011051 2025-07-02 21:48:02.731130 2025-07-02 21:48:39.131647 0 days 00:00:36.400517           1043   0.001011                0.422601          0.052916                0.305559  COMPLETE\n",
      "14       14  0.011062 2025-07-02 21:54:55.191666 2025-07-02 21:55:19.578160 0 days 00:00:24.386494            697   0.000326                0.081103          2.435082                0.358106  COMPLETE\n",
      "13       13  0.011086 2025-07-02 21:54:39.607940 2025-07-02 21:54:55.191666 0 days 00:00:15.583726            432   0.000591                0.327768          0.384318                0.939779  COMPLETE\n",
      "63       63  0.011194 2025-07-02 22:22:58.874641 2025-07-02 22:23:43.069702 0 days 00:00:44.195061           1275   0.002079                0.292788          8.841230                0.107168  COMPLETE\n",
      "15       15  0.011242 2025-07-02 21:55:19.578160 2025-07-02 21:55:23.135513 0 days 00:00:03.557353             90   0.001385                0.638024          0.149236                0.628785  COMPLETE\n",
      "18       18  0.011388 2025-07-02 21:56:03.010643 2025-07-02 21:56:13.378056 0 days 00:00:10.367413            288   0.000607                0.576962          0.796985                0.434911  COMPLETE\n",
      "84       84  0.011460 2025-07-02 22:35:15.804106 2025-07-02 22:35:55.272616 0 days 00:00:39.468510           1145   0.000545                0.443215          4.520033                0.166779  COMPLETE\n",
      "28       28  0.011799 2025-07-02 21:58:49.184714 2025-07-02 21:59:10.127734 0 days 00:00:20.943020            598   0.000189                0.315043          0.422447                0.955550  COMPLETE\n",
      "33       33  0.011938 2025-07-02 22:01:29.045432 2025-07-02 22:02:07.361771 0 days 00:00:38.316339           1081   0.000959                0.015282         15.570658                0.266797  COMPLETE\n",
      "102     102  0.011939 2025-07-02 22:42:29.748911 2025-07-02 22:42:56.719019 0 days 00:00:26.970108            769   0.007457                0.396124         43.089771                0.244734  COMPLETE\n",
      "2         2  0.012162 2025-07-02 21:49:19.351523 2025-07-02 21:50:00.904309 0 days 00:00:41.552786           1204   0.005902                0.503330         16.255720                0.075747  COMPLETE\n",
      "1         1  0.012223 2025-07-02 21:48:39.131647 2025-07-02 21:49:19.351523 0 days 00:00:40.219876           1169   0.046533                0.929494         44.047253                0.919136  COMPLETE\n",
      "82       82  0.012319 2025-07-02 22:34:04.587497 2025-07-02 22:34:38.740430 0 days 00:00:34.152933            984   0.001384                0.488854         49.938239                0.063807  COMPLETE\n",
      "95       95  0.012380 2025-07-02 22:39:54.457731 2025-07-02 22:40:35.779688 0 days 00:00:41.321957           1184   0.003922                0.416983         44.147113                0.084070  COMPLETE\n",
      "5         5  0.012394 2025-07-02 21:51:58.375397 2025-07-02 21:52:59.962552 0 days 00:01:01.587155           1766   0.005650                0.771910         27.271594                0.247717  COMPLETE\n",
      "49       49  0.012559 2025-07-02 22:12:25.401776 2025-07-02 22:13:16.194218 0 days 00:00:50.792442           1467   0.004951                0.637926          9.645854                0.153395  COMPLETE\n",
      "43       43  0.013839 2025-07-02 22:07:49.419794 2025-07-02 22:08:30.024369 0 days 00:00:40.604575           1168   0.001524                0.460078         19.933987                0.012710  COMPLETE\n",
      "58       58  0.013947 2025-07-02 22:19:27.098363 2025-07-02 22:20:02.451625 0 days 00:00:35.353262           1010   0.096429                0.603978         47.417669                0.669732  COMPLETE\n",
      "4         4  0.014540 2025-07-02 21:51:02.838374 2025-07-02 21:51:58.375397 0 days 00:00:55.537023           1588   0.005228                0.076075          7.637402                0.635025  COMPLETE\n",
      "Parameter Importances:\n",
      "epochs: 0.5661439429943422\n",
      "probs_noise_std: 0.1798544551338883\n",
      "sharpness: 0.15364360808304553\n",
      "lr: 0.059837599115800354\n",
      "subsample_ratio: 0.040520394672923524\n"
     ]
    }
   ],
   "source": [
    "import numpy as np\n",
    "import optuna\n",
    "\n",
    "# Parameters\n",
    "sep = [\"Category\", \"Seasonal\", \"lag\", \"FeatureGroup\"]\n",
    "indices = [i for i, s in enumerate(treenames_list[0]) if not any(sub in s for sub in sep)]\n",
    "ao_idx = list(treenames_list[0][indices]).index(\"FeatureTA_volatility_atr\")\n",
    "q = 0.90\n",
    "splitratio = 0.80\n",
    "\n",
    "# Prepare lists of train/holdout splits across all instances\n",
    "A_train_list, A_holdout_list = [], []\n",
    "y_train_list, y_holdout_list = [], []\n",
    "\n",
    "for tm in treetimeML_instances:\n",
    "    A = tm.train_Xtree[:, indices]\n",
    "    n_total = A.shape[0]\n",
    "    split_at = int(n_total * splitratio)\n",
    "    A_train_list.append(A[:split_at])\n",
    "    A_holdout_list.append(A[split_at:])\n",
    "    y_train_list.append(tm.train_ytree[:split_at])\n",
    "    y_holdout_list.append(tm.train_ytree[split_at:])\n",
    "\n",
    "# Base Optuna datasets definitions (can include more variants)\n",
    "datasets = {\n",
    "    \"up_max\": dict(maximize=True,  upper_quantile=True,  q=q),\n",
    "    \"up_min\": dict(maximize=False, upper_quantile=True,  q=q),\n",
    "    \"do_max\": dict(maximize=True,  upper_quantile=False, q=1-q),\n",
    "    \"do_min\": dict(maximize=False, upper_quantile=False, q=1-q),\n",
    "}\n",
    "\n",
    "def objective(trial, variant):\n",
    "    # sample hyper-parameters\n",
    "    lr = trial.suggest_float(\"lr\", 1e-4, 1e-1, log=True)\n",
    "    epochs = trial.suggest_int(\"epochs\", 50, 1800)\n",
    "    sharpness = trial.suggest_float(\"sharpness\", 0.05, 50.0, log=True)\n",
    "    probs_noise_std = trial.suggest_float(\"probs_noise_std\", 0.0, 1.0)\n",
    "    subsample_ratio = trial.suggest_float(\"subsample_ratio\", 0.01, 1.0)\n",
    "\n",
    "    scores = []\n",
    "    for A_tr, A_hd, y_tr, y_hd in zip(A_train_list, A_holdout_list, y_train_list, y_holdout_list):\n",
    "        params = {\n",
    "            \"A\": A_tr,\n",
    "            \"v\": y_tr,\n",
    "            \"ao_idx\": ao_idx,\n",
    "            \"q\": datasets[variant][\"q\"],\n",
    "            \"maximize\": datasets[variant][\"maximize\"],\n",
    "            \"upper_quantile\": datasets[variant][\"upper_quantile\"],\n",
    "            \"lr\": lr,\n",
    "            \"epochs\": epochs,\n",
    "            \"sharpness\": sharpness,\n",
    "            \"probs_noise_std\": probs_noise_std,\n",
    "            \"subsample_ratio\": subsample_ratio,\n",
    "        }\n",
    "        a = optimize_threshold_sigmoid(**params)\n",
    "        w = A_hd @ a\n",
    "        th = np.quantile(w, params[\"q\"])\n",
    "        mask = w > th if params[\"upper_quantile\"] else w < th\n",
    "        scores.append(np.mean(y_hd[mask]))\n",
    "        \n",
    "    print(f\"Variant: {variant}, Scores: {np.round(scores, 3)}, Mean Score: {np.mean(scores):.4f}\")\n",
    "    return np.mean(np.log(scores))\n",
    "\n",
    "# Run one study per variant, optimizing the mean holdout score across all instances\n",
    "timeout = 60*60\n",
    "best = {}\n",
    "for name in datasets:\n",
    "    direction = \"maximize\" if datasets[name][\"maximize\"] else \"minimize\"\n",
    "    study = optuna.create_study(direction=direction, study_name=name)\n",
    "    study.optimize(lambda t: objective(t, name), timeout=timeout)\n",
    "    best[name] = study.best_params\n",
    "    \n",
    "    df = study.trials_dataframe()\n",
    "    print(\"\\nTrials DataFrame:\")\n",
    "    print(df.sort_values(\"value\").to_string())\n",
    "    param_importances = optuna.importance.get_param_importances(study)\n",
    "    print(\"Parameter Importances:\")\n",
    "    for key, value in param_importances.items():\n",
    "        print(f\"{key}: {value}\")\n"
   ]
  }
 ],
 "metadata": {
  "kernelspec": {
   "display_name": ".venv",
   "language": "python",
   "name": "python3"
  },
  "language_info": {
   "codemirror_mode": {
    "name": "ipython",
    "version": 3
   },
   "file_extension": ".py",
   "mimetype": "text/x-python",
   "name": "python",
   "nbconvert_exporter": "python",
   "pygments_lexer": "ipython3",
   "version": "3.12.10"
  }
 },
 "nbformat": 4,
 "nbformat_minor": 5
}
