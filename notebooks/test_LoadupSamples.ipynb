{
 "cells": [
  {
   "cell_type": "code",
   "execution_count": 1,
   "id": "0c3b363e",
   "metadata": {},
   "outputs": [],
   "source": [
    "import sys\n",
    "import os\n",
    "\n",
    "# Get the absolute path to the project directory\n",
    "project_dir = os.path.abspath(\"..\")\n",
    "\n",
    "# Append the project directory to sys.path\n",
    "if project_dir not in sys.path:\n",
    "    sys.path.append(project_dir)\n",
    "    \n",
    "from src.predictionModule.LoadupSamples import LoadupSamples\n",
    "\n",
    "import pandas as pd\n",
    "import numpy as np\n",
    "import polars as pl\n",
    "import datetime\n",
    "import seaborn as sns\n",
    "import lightgbm as lgb\n",
    "import random\n",
    "import matplotlib.pyplot as plt\n",
    "import logging\n",
    "import time\n",
    "import re"
   ]
  },
  {
   "cell_type": "code",
   "execution_count": 2,
   "id": "cb954e7d",
   "metadata": {},
   "outputs": [],
   "source": [
    "params = {\n",
    "    \"daysAfterPrediction\": None,\n",
    "    \"idxAfterPrediction\": 5,\n",
    "    'timesteps': 60,\n",
    "    'target_option': 'mean',\n",
    "    \n",
    "    \"LoadupSamples_tree_scaling_standard\": True,\n",
    "    \"LoadupSamples_time_scaling_stretch\": True,\n",
    "    \"LoadupSamples_time_inc_factor\": 10,\n",
    "}"
   ]
  },
  {
   "cell_type": "code",
   "execution_count": 3,
   "id": "8c306cf3",
   "metadata": {},
   "outputs": [],
   "source": [
    "timegroup = \"group_regOHLCV_over5years\"\n",
    "treegroup = \"group_debug\"\n",
    "\n",
    "eval_date = datetime.date(year=2025, month=6, day=13)\n",
    "evaldates = [eval_date - datetime.timedelta(days=i) for i in range(1, 6)]\n",
    "start_train_date = datetime.date(year=2022, month=1, day=1)\n",
    "\n",
    "ls = LoadupSamples(\n",
    "    train_start_date=start_train_date,\n",
    "    test_dates=evaldates,\n",
    "    treegroup=treegroup,\n",
    "    timegroup=timegroup,\n",
    "    params=params,\n",
    ")\n",
    "lstree = LoadupSamples(\n",
    "    train_start_date=start_train_date,\n",
    "    test_dates=evaldates,\n",
    "    treegroup=treegroup,\n",
    "    timegroup=None,\n",
    "    params=params,\n",
    ")\n",
    "lstime = LoadupSamples(\n",
    "    train_start_date=start_train_date,\n",
    "    test_dates=evaldates,\n",
    "    treegroup=None,\n",
    "    timegroup=timegroup,\n",
    "    params=params,\n",
    ")"
   ]
  },
  {
   "cell_type": "code",
   "execution_count": 4,
   "id": "6a74d5b8",
   "metadata": {},
   "outputs": [
    {
     "name": "stderr",
     "output_type": "stream",
     "text": [
      "Test date 2025-06-08 not found in the database. Omitting.\n",
      "Non-finite/too-large values in train y tree: 18 samples.\n",
      "Non-finite/too-large values in train y time: 18 samples.\n",
      "Removing 18 samples from training data.\n",
      "Test date 2025-06-08 not found in the database. Omitting.\n",
      "Non-finite/too-large values in train y tree: 19 samples.\n",
      "Removing 19 samples from training data.\n",
      "Test date 2025-06-08 not found in the database. Omitting.\n",
      "Non-finite/too-large values in train y time: 1234 samples.\n",
      "Removing 1234 samples from training data.\n"
     ]
    }
   ],
   "source": [
    "ls.load_samples(main_path = \"../src/featureAlchemy/bin/\")\n",
    "lstree.load_samples(main_path = \"../src/featureAlchemy/bin/\")\n",
    "lstime.load_samples(main_path = \"../src/featureAlchemy/bin/\")"
   ]
  },
  {
   "cell_type": "code",
   "execution_count": 5,
   "id": "21232b3b",
   "metadata": {},
   "outputs": [],
   "source": [
    "train_Xtree = ls.train_Xtree\n",
    "train_ytree = ls.train_ytree\n",
    "train_Xtime = ls.train_Xtime\n",
    "train_ytime = ls.train_ytime\n",
    "\n",
    "test_Xtree = ls.test_Xtree\n",
    "test_ytree = ls.test_ytree\n",
    "test_Xtime = ls.test_Xtime\n",
    "test_ytime = ls.test_ytime\n",
    "\n",
    "treenames = ls.featureTreeNames\n",
    "timenames = ls.featureTimeNames\n",
    "\n",
    "meta_pl_train = ls.meta_pl_train\n",
    "meta_pl_test = ls.meta_pl_test"
   ]
  },
  {
   "cell_type": "code",
   "execution_count": 6,
   "id": "55d8ede6",
   "metadata": {},
   "outputs": [
    {
     "name": "stdout",
     "output_type": "stream",
     "text": [
      "1.0021848188790132\n",
      "0.5092525671886415\n"
     ]
    }
   ],
   "source": [
    "print(np.mean(train_ytree)) if train_ytree.any() else None\n",
    "print(np.mean(train_ytime)) if train_ytime.any() else None"
   ]
  },
  {
   "cell_type": "code",
   "execution_count": 7,
   "id": "80dc05d4",
   "metadata": {},
   "outputs": [
    {
     "name": "stdout",
     "output_type": "stream",
     "text": [
      "['FeatureLSTM_Price' 'FeatureLSTM_Volume']\n",
      "(15606, 60, 2)\n"
     ]
    }
   ],
   "source": [
    "print(timenames)\n",
    "print(train_Xtime.shape)"
   ]
  }
 ],
 "metadata": {
  "kernelspec": {
   "display_name": ".venv (3.11.3)",
   "language": "python",
   "name": "python3"
  },
  "language_info": {
   "codemirror_mode": {
    "name": "ipython",
    "version": 3
   },
   "file_extension": ".py",
   "mimetype": "text/x-python",
   "name": "python",
   "nbconvert_exporter": "python",
   "pygments_lexer": "ipython3",
   "version": "3.11.3"
  }
 },
 "nbformat": 4,
 "nbformat_minor": 5
}
