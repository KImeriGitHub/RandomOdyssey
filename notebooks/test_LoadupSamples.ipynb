{
 "cells": [
  {
   "cell_type": "code",
   "execution_count": 8,
   "id": "0c3b363e",
   "metadata": {},
   "outputs": [],
   "source": [
    "import sys\n",
    "import os\n",
    "\n",
    "# Get the absolute path to the project directory\n",
    "project_dir = os.path.abspath(\"..\")\n",
    "\n",
    "# Append the project directory to sys.path\n",
    "if project_dir not in sys.path:\n",
    "    sys.path.append(project_dir)\n",
    "    \n",
    "from src.predictionModule.LoadupSamples import LoadupSamples\n",
    "\n",
    "import pandas as pd\n",
    "import numpy as np\n",
    "import polars as pl\n",
    "import datetime\n",
    "import seaborn as sns\n",
    "import lightgbm as lgb\n",
    "import random\n",
    "import matplotlib.pyplot as plt\n",
    "import logging\n",
    "import time\n",
    "import re"
   ]
  },
  {
   "cell_type": "code",
   "execution_count": 9,
   "id": "cb954e7d",
   "metadata": {},
   "outputs": [],
   "source": [
    "params = {\n",
    "    \"daysAfterPrediction\": None,\n",
    "    \"idxAfterPrediction\": 5,\n",
    "    'timesteps': 60,\n",
    "    'target_option': 'mean',\n",
    "    \n",
    "    \"LoadupSamples_tree_scaling_standard\": True,\n",
    "    \"LoadupSamples_time_scaling_stretch\": True,\n",
    "    \"LoadupSamples_time_inc_factor\": 10,\n",
    "}"
   ]
  },
  {
   "cell_type": "code",
   "execution_count": 10,
   "id": "8c306cf3",
   "metadata": {},
   "outputs": [],
   "source": [
    "timegroup = \"group_regOHLCV_over5years\"\n",
    "treegroup = \"group_debug\"\n",
    "\n",
    "eval_date = datetime.date(year=2025, month=6, day=13)\n",
    "evaldates = [eval_date - datetime.timedelta(days=i) for i in range(1, 6)]\n",
    "start_train_date = datetime.date(year=2023, month=1, day=1)\n",
    "\n",
    "ls = LoadupSamples(\n",
    "    train_start_date=start_train_date,\n",
    "    test_dates=evaldates,\n",
    "    treegroup=treegroup,\n",
    "    timegroup=timegroup,\n",
    "    params=params,\n",
    ")\n",
    "lstree = LoadupSamples(\n",
    "    train_start_date=start_train_date,\n",
    "    test_dates=evaldates,\n",
    "    treegroup=treegroup,\n",
    "    timegroup=None,\n",
    "    params=params,\n",
    ")\n",
    "lstime = LoadupSamples(\n",
    "    train_start_date=start_train_date,\n",
    "    test_dates=evaldates,\n",
    "    treegroup=None,\n",
    "    timegroup=timegroup,\n",
    "    params=params,\n",
    ")"
   ]
  },
  {
   "cell_type": "code",
   "execution_count": 11,
   "id": "6a74d5b8",
   "metadata": {},
   "outputs": [
    {
     "name": "stderr",
     "output_type": "stream",
     "text": [
      "Test date 2025-06-08 not found in the database. Omitting.\n",
      "Test date 2025-06-08 not found in the database. Omitting.\n",
      "Test date 2025-06-08 not found in the database. Omitting.\n"
     ]
    }
   ],
   "source": [
    "ls.load_samples(main_path = \"../src/featureAlchemy/bin/\")\n",
    "lstree.load_samples(main_path = \"../src/featureAlchemy/bin/\")\n",
    "lstime.load_samples(main_path = \"../src/featureAlchemy/bin/\")"
   ]
  },
  {
   "cell_type": "code",
   "execution_count": 12,
   "id": "21232b3b",
   "metadata": {},
   "outputs": [
    {
     "name": "stdout",
     "output_type": "stream",
     "text": [
      "1.0040375684891127\n",
      "0.5167194715034465\n",
      "[np.str_('FeatureLSTM_Price'), np.str_('FeatureLSTM_Volume')]\n",
      "(11052, 60, 2)\n"
     ]
    }
   ],
   "source": [
    "train_Xtree = ls.train_Xtree\n",
    "train_ytree = ls.train_ytree\n",
    "train_Xtime = ls.train_Xtime\n",
    "train_ytime = ls.train_ytime\n",
    "\n",
    "test_Xtree = ls.test_Xtree\n",
    "test_ytree = ls.test_ytree\n",
    "test_Xtime = ls.test_Xtime\n",
    "test_ytime = ls.test_ytime\n",
    "\n",
    "treenames = ls.featureTreeNames\n",
    "timenames = ls.featureTimeNames\n",
    "\n",
    "meta_pl_train = ls.meta_pl_train\n",
    "meta_pl_test = ls.meta_pl_test\n",
    "\n",
    "print(np.mean(train_ytree)) if train_ytree.any() else None\n",
    "print(np.mean(train_ytime)) if train_ytime.any() else None\n",
    "print(timenames)\n",
    "print(train_Xtime.shape)"
   ]
  },
  {
   "cell_type": "code",
   "execution_count": 13,
   "id": "b0872211",
   "metadata": {},
   "outputs": [],
   "source": [
    "split_Date = datetime.date(year=2025, month=1, day=1)\n",
    "ls.split_dataset(\n",
    "    start_date=start_train_date,\n",
    "    last_train_date=split_Date,\n",
    "    last_test_date=eval_date\n",
    ")\n",
    "lstree.split_dataset(\n",
    "    start_date=start_train_date,\n",
    "    last_train_date=split_Date,\n",
    "    last_test_date=eval_date\n",
    ")\n",
    "lstime.split_dataset(\n",
    "    start_date=start_train_date,\n",
    "    last_train_date=split_Date,\n",
    "    last_test_date=eval_date\n",
    ")"
   ]
  },
  {
   "cell_type": "code",
   "execution_count": 14,
   "id": "160d58be",
   "metadata": {},
   "outputs": [],
   "source": [
    "mask_train = np.ones((ls.train_Xtree.shape[0],), dtype=bool)\n",
    "mask_test = np.ones((ls.test_Xtree.shape[0],), dtype=bool)\n",
    "rat = 0.1\n",
    "mask_train = mask_train & (np.random.rand(ls.train_Xtree.shape[0]) <= rat)\n",
    "mask_test  = mask_test  & (np.random.rand(ls.test_Xtree.shape[0]) <= rat)\n",
    "\n",
    "ls.apply_masks(mask_train, mask_test)\n",
    "assert ls.train_Xtree.shape[0] == np.sum(mask_train)\n",
    "assert ls.test_Xtree.shape[0] == np.sum(mask_test)"
   ]
  }
 ],
 "metadata": {
  "kernelspec": {
   "display_name": ".venv (3.11.3)",
   "language": "python",
   "name": "python3"
  },
  "language_info": {
   "codemirror_mode": {
    "name": "ipython",
    "version": 3
   },
   "file_extension": ".py",
   "mimetype": "text/x-python",
   "name": "python",
   "nbconvert_exporter": "python",
   "pygments_lexer": "ipython3",
   "version": "3.11.3"
  }
 },
 "nbformat": 4,
 "nbformat_minor": 5
}
