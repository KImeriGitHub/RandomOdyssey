{
 "cells": [
  {
   "cell_type": "code",
   "execution_count": 1,
   "metadata": {},
   "outputs": [],
   "source": [
    "import sys\n",
    "import os\n",
    "\n",
    "# Get the absolute path to the project directory\n",
    "project_dir = os.path.abspath(\"..\")\n",
    "\n",
    "# Append the project directory to sys.path\n",
    "if project_dir not in sys.path:\n",
    "    sys.path.append(project_dir)"
   ]
  },
  {
   "cell_type": "code",
   "execution_count": 2,
   "metadata": {},
   "outputs": [],
   "source": [
    "import sys\n",
    "import os\n",
    "\n",
    "# Get the absolute path to the project directory\n",
    "project_dir = os.path.abspath(\"..\")\n",
    "\n",
    "# Append the project directory to sys.path\n",
    "if project_dir not in sys.path:\n",
    "    sys.path.append(project_dir)\n",
    "\n",
    "import yfinance as yf\n",
    "import pandas as pd\n",
    "import datetime as dt\n",
    "import matplotlib.pyplot as plt\n",
    "import msgpack\n",
    "import warnings\n",
    "from dataclasses import asdict, is_dataclass, dataclass\n",
    "import os\n",
    "import msgpack\n",
    "import json\n",
    "import pickle\n",
    "from pandas.api.types import is_datetime64_any_dtype\n",
    "import scipy\n",
    "import numpy as np\n",
    "\n",
    "from src.common.AssetData import AssetData\n",
    "from src.common.AssetDataService import AssetDataService\n",
    "from src.common.AssetFileInOut import AssetFileInOut \n",
    "from src.databaseService.OutsourceLoader import OutsourceLoader\n",
    "\n",
    "from src.simulation.SimulatePortfolio import SimulatePortfolio\n",
    "from src.strategy.StratBuyAndHold import StratBuyAndHold\n",
    "from src.simulation.ResultAnalyzer import ResultAnalyzer\n",
    "from src.common.AssetFileInOut import AssetFileInOut\n",
    "from src.mathTools.CurveAnalysis import CurveAnalysis\n"
   ]
  },
  {
   "cell_type": "code",
   "execution_count": 3,
   "metadata": {},
   "outputs": [],
   "source": [
    "from src.common.YamlTickerInOut import YamlTickerInOut\n",
    "\n",
    "snp500tickers = YamlTickerInOut(\"../src/tickerSelection\").loadFromFile(\"snp500.yaml\")[\"snp500tickers\"]\n",
    "alltickers = YamlTickerInOut(\"../src/stockGroups\").loadFromFile(\"group_all.yaml\")"
   ]
  },
  {
   "cell_type": "code",
   "execution_count": 4,
   "metadata": {},
   "outputs": [
    {
     "name": "stdout",
     "output_type": "stream",
     "text": [
      "2024-09-06 00:00:00-04:00    108.811302\n",
      "2024-09-09 00:00:00-04:00    109.715736\n",
      "2024-09-10 00:00:00-04:00    113.462715\n",
      "2024-09-11 00:00:00-04:00    113.681366\n",
      "2024-09-12 00:00:00-04:00    115.649277\n",
      "2024-09-13 00:00:00-04:00    116.344994\n",
      "2024-09-16 00:00:00-04:00    118.190002\n",
      "2024-09-17 00:00:00-04:00    115.919998\n",
      "2024-09-18 00:00:00-04:00    116.449997\n",
      "2024-09-19 00:00:00-04:00    114.129997\n",
      "2024-09-20 00:00:00-04:00    115.360001\n",
      "2024-09-23 00:00:00-04:00    118.440002\n",
      "2024-09-24 00:00:00-04:00    119.169998\n",
      "2024-09-25 00:00:00-04:00    119.320000\n",
      "2024-09-26 00:00:00-04:00    117.309998\n",
      "2024-09-27 00:00:00-04:00    116.730003\n",
      "2024-09-30 00:00:00-04:00    118.830002\n",
      "2024-10-01 00:00:00-04:00    118.239998\n",
      "2024-10-02 00:00:00-04:00    119.400002\n",
      "Name: Close, dtype: float64\n",
      "2024-09-06 00:00:00-04:00    108.811302\n",
      "2024-09-09 00:00:00-04:00    109.715736\n",
      "2024-09-10 00:00:00-04:00    113.462715\n",
      "2024-09-11 00:00:00-04:00    113.681366\n",
      "2024-09-12 00:00:00-04:00    115.649277\n",
      "2024-09-13 00:00:00-04:00    116.344994\n",
      "2024-09-16 00:00:00-04:00    118.190002\n",
      "2024-09-17 00:00:00-04:00    115.919998\n",
      "2024-09-18 00:00:00-04:00    116.449997\n",
      "2024-09-19 00:00:00-04:00    114.129997\n",
      "2024-09-20 00:00:00-04:00    115.360001\n",
      "2024-09-23 00:00:00-04:00    118.440002\n",
      "2024-09-24 00:00:00-04:00    119.169998\n",
      "2024-09-25 00:00:00-04:00    119.320000\n",
      "2024-09-26 00:00:00-04:00    117.309998\n",
      "2024-09-27 00:00:00-04:00    116.730003\n",
      "2024-09-30 00:00:00-04:00    118.830002\n",
      "2024-10-01 00:00:00-04:00    118.239998\n",
      "2024-10-02 00:00:00-04:00    119.400002\n",
      "Name: Close, dtype: float64\n"
     ]
    }
   ],
   "source": [
    "assetG = AssetFileInOut(\"../src/database\").loadFromFile('IRM')\n",
    "ads=assetG.shareprice.iloc[-20:-1][\"Close\"]\n",
    "\n",
    "print(ads)\n",
    "\n",
    "ads.resample('B').mean().dropna()\n",
    "\n",
    "print(ads)\n"
   ]
  },
  {
   "cell_type": "code",
   "execution_count": 20,
   "metadata": {},
   "outputs": [
    {
     "data": {
      "text/plain": [
       "[77.33584594726562,\n",
       " 79.44706726074219,\n",
       " 81.23272705078125,\n",
       " 80.89730072021484,\n",
       " 80.69012451171875,\n",
       " 80.99595642089844,\n",
       " 81.7358627319336,\n",
       " 79.87129211425781,\n",
       " 78.21388244628906,\n",
       " 79.15110778808594,\n",
       " 78.43091583251953,\n",
       " 77.32598114013672,\n",
       " 78.56903839111328,\n",
       " 79.60491943359375,\n",
       " 79.6443862915039,\n",
       " 80.05873107910156,\n",
       " 81.23272705078125,\n",
       " 83.69910430908203,\n",
       " 84.32064056396484,\n",
       " 85.92871856689453,\n",
       " 86.15563201904297,\n",
       " 86.12603759765625,\n",
       " 86.58970642089844,\n",
       " 86.83634185791016,\n",
       " 87.73084259033203,\n",
       " 88.15821838378906,\n",
       " 88.28742980957031,\n",
       " 88.31724548339844,\n",
       " 88.54583740234375,\n",
       " 87.99919891357422,\n",
       " 87.90974426269531,\n",
       " 88.66510772705078,\n",
       " 89.07260131835938,\n",
       " 89.14217376708984,\n",
       " 90.29508972167969,\n",
       " 91.21940612792969,\n",
       " 91.0405044555664,\n",
       " 92.3027572631836,\n",
       " 92.5611572265625,\n",
       " 94.5688247680664,\n",
       " 93.94267272949219,\n",
       " 95.30430603027344,\n",
       " 97.23246002197266,\n",
       " 99.36932373046875,\n",
       " 98.61396789550781,\n",
       " 97.24239349365234,\n",
       " 97.67970275878906,\n",
       " 99.51840209960938,\n",
       " 100.3234634399414]"
      ]
     },
     "execution_count": 20,
     "metadata": {},
     "output_type": "execute_result"
    }
   ],
   "source": [
    "assetG = AssetFileInOut(\"../src/database\").loadFromFile('IRM')\n",
    "\n",
    "a=assetG.shareprice.iloc[-100:-51][\"Close\"]\n",
    "res=CurveAnalysis.thirdDegreeFit(a, \"IRM\")\n",
    "x = np.arange(len(a))\n",
    "y = a\n",
    "\n",
    "# Perform cubic polynomial regression with covariance\n",
    "coeff, covariance = np.polyfit(x, y, 3, cov=True)\n",
    "\n",
    "#print(coeff)\n",
    "#plt.plot(x,y)\n",
    "#plt.plot(x,res)\n",
    "\n",
    "coefficients = coeff\n",
    "r_squared = res['R_Squared']\n",
    "variance = res['Variance']\n",
    "\n",
    "y.values.tolist()\n"
   ]
  },
  {
   "cell_type": "code",
   "execution_count": 39,
   "metadata": {},
   "outputs": [
    {
     "ename": "ValueError",
     "evalue": "operands could not be broadcast together with shapes (120,2) (30,2) ",
     "output_type": "error",
     "traceback": [
      "\u001b[1;31m---------------------------------------------------------------------------\u001b[0m",
      "\u001b[1;31mValueError\u001b[0m                                Traceback (most recent call last)",
      "Cell \u001b[1;32mIn[39], line 17\u001b[0m\n\u001b[0;32m     13\u001b[0m \u001b[38;5;66;03m# make predictions\u001b[39;00m\n\u001b[0;32m     14\u001b[0m preds \u001b[38;5;241m=\u001b[39m bst\u001b[38;5;241m.\u001b[39mpredict(X_test)\n\u001b[1;32m---> 17\u001b[0m \u001b[38;5;28mprint\u001b[39m(\u001b[43my_train_2\u001b[49m\u001b[38;5;241;43m-\u001b[39;49m\u001b[43mpreds\u001b[49m)\n",
      "\u001b[1;31mValueError\u001b[0m: operands could not be broadcast together with shapes (120,2) (30,2) "
     ]
    }
   ],
   "source": [
    "from xgboost import XGBClassifier\n",
    "# read data\n",
    "from sklearn.datasets import load_iris\n",
    "from sklearn.model_selection import train_test_split\n",
    "from sklearn.multioutput import MultiOutputClassifier\n",
    "data = load_iris()\n",
    "X_train, X_test, y_train, y_test = train_test_split(data['data'], data['target'], test_size=.2)\n",
    "# create model instance\n",
    "bst = MultiOutputClassifier(XGBClassifier(n_estimators=2, max_depth=2, learning_rate=1, objective='binary:softprob', num_class=2))\n",
    "# fit model\n",
    "y_train_2 = np.array([[a, a] for a in y_train])\n",
    "bst.fit(X_train, y_train_2)\n",
    "# make predictions\n",
    "preds = bst.predict(X_test)\n",
    "\n",
    "\n",
    "print(y_train_2-preds)"
   ]
  },
  {
   "cell_type": "code",
   "execution_count": null,
   "metadata": {},
   "outputs": [
    {
     "name": "stdout",
     "output_type": "stream",
     "text": [
      "                                               Date      Open      High  Low  \\\n",
      "Date                                                                           \n",
      "1996-02-01 00:00:00-05:00 1996-02-01 00:00:00-05:00  1.236482  1.236482  100   \n",
      "1996-02-02 00:00:00-05:00 1996-02-02 00:00:00-05:00  1.226971  1.236482  200   \n",
      "\n",
      "                              Close  Adj Close  \n",
      "Date                                            \n",
      "1996-02-01 00:00:00-05:00  1.226971   1.236971  \n",
      "1996-02-02 00:00:00-05:00  1.236482   1.236482  \n",
      "                                               Date      Open      High  \\\n",
      "Date                                                                      \n",
      "1996-02-01 00:00:00-05:00 1996-02-01 00:00:00-05:00  1.236482  1.236482   \n",
      "1996-02-02 00:00:00-05:00 1996-02-02 00:00:00-05:00  1.226971  1.236482   \n",
      "1996-02-05 00:00:00-05:00 1996-02-05 00:00:00-05:00  1.236482  1.236482   \n",
      "1996-02-06 00:00:00-05:00 1996-02-06 00:00:00-05:00  1.217460  1.236482   \n",
      "1996-02-07 00:00:00-05:00 1996-02-07 00:00:00-05:00  1.217460  1.236482   \n",
      "\n",
      "                                Low     Close  Adj Close  \n",
      "Date                                                      \n",
      "1996-02-01 00:00:00-05:00  1.217459  1.226971   1.236971  \n",
      "1996-02-02 00:00:00-05:00  1.217460  1.236482   1.236482  \n",
      "1996-02-05 00:00:00-05:00  1.217460  1.217460   1.227460  \n",
      "1996-02-06 00:00:00-05:00  1.217460  1.217460   1.207460  \n",
      "1996-02-07 00:00:00-05:00  1.217460  1.217460   1.217460  \n"
     ]
    },
    {
     "name": "stderr",
     "output_type": "stream",
     "text": [
      "C:\\Users\\KILightTouch\\AppData\\Local\\Temp\\ipykernel_17432\\849920140.py:21: SettingWithCopyWarning: \n",
      "A value is trying to be set on a copy of a slice from a DataFrame.\n",
      "Try using .loc[row_indexer,col_indexer] = value instead\n",
      "\n",
      "See the caveats in the documentation: https://pandas.pydata.org/pandas-docs/stable/user_guide/indexing.html#returning-a-view-versus-a-copy\n",
      "  slice_df['Low'] = [100, 200]\n"
     ]
    }
   ],
   "source": [
    "import pandas as pd\n",
    "\n",
    "data = {\n",
    "    'Date': ['1996-02-01 00:00:00-05:00', '1996-02-02 00:00:00-05:00', '1996-02-05 00:00:00-05:00', \n",
    "             '1996-02-06 00:00:00-05:00', '1996-02-07 00:00:00-05:00'],\n",
    "    'Open': [1.236482, 1.226971, 1.236482, 1.217460, 1.217460],\n",
    "    'High': [1.236482, 1.236482, 1.236482, 1.236482, 1.236482],\n",
    "    'Low': [1.217459, 1.217460, 1.217460, 1.217460, 1.217460],\n",
    "    'Close': [1.226971, 1.236482, 1.217460, 1.217460, 1.217460],\n",
    "    'AdjClose': [1.236971, 1.236482, 1.227460, 1.207460, 1.217460]\n",
    "    }\n",
    "\n",
    "# Convert the dictionary to a pandas dataframe\n",
    "shareprice = pd.DataFrame(data)\n",
    "shareprice['Date'] = pd.to_datetime(shareprice['Date'])  # Convert the 'Date' column to datetime\n",
    "shareprice.index = shareprice['Date']\n",
    "\n",
    "slice_df = shareprice.iloc[0:2]\n",
    "#slice_df = slice_df.resample('B').mean().dropna()\n",
    "# Modify the slice\n",
    "slice_df['Low'] = [100, 200]\n",
    "\n",
    "# Check original DataFrame\n",
    "print(slice_df)\n",
    "print(shareprice)"
   ]
  }
 ],
 "metadata": {
  "kernelspec": {
   "display_name": ".venv",
   "language": "python",
   "name": "python3"
  },
  "language_info": {
   "codemirror_mode": {
    "name": "ipython",
    "version": 3
   },
   "file_extension": ".py",
   "mimetype": "text/x-python",
   "name": "python",
   "nbconvert_exporter": "python",
   "pygments_lexer": "ipython3",
   "version": "3.11.3"
  }
 },
 "nbformat": 4,
 "nbformat_minor": 2
}
