{
 "cells": [
  {
   "cell_type": "code",
   "execution_count": 1,
   "metadata": {},
   "outputs": [],
   "source": [
    "import sys\n",
    "import os\n",
    "\n",
    "# Get the absolute path to the project directory\n",
    "project_dir = os.path.abspath(\"..\")\n",
    "\n",
    "# Append the project directory to sys.path\n",
    "if project_dir not in sys.path:\n",
    "    sys.path.append(project_dir)"
   ]
  },
  {
   "cell_type": "code",
   "execution_count": 2,
   "metadata": {},
   "outputs": [],
   "source": [
    "import sys\n",
    "import os\n",
    "\n",
    "# Get the absolute path to the project directory\n",
    "project_dir = os.path.abspath(\"..\")\n",
    "\n",
    "# Append the project directory to sys.path\n",
    "if project_dir not in sys.path:\n",
    "    sys.path.append(project_dir)\n",
    "\n",
    "import pandas as pd\n",
    "import datetime as dt\n",
    "import matplotlib.pyplot as plt\n",
    "import os\n",
    "import pickle\n",
    "import numpy as np\n",
    "from typing import Dict\n",
    "import polars as pl\n",
    "\n",
    "from src.common.AssetDataPolars import AssetDataPolars\n",
    "from src.common.AssetDataService import AssetDataService\n",
    "from src.common.AssetFileInOut import AssetFileInOut \n",
    "from src.featureAlchemy.FeatureFourierCoeff import FeatureFourierCoeff\n",
    "from src.featureAlchemy.FeatureFourierCoeffTS import FeatureFourierCoeffTS\n"
   ]
  },
  {
   "cell_type": "code",
   "execution_count": 3,
   "metadata": {},
   "outputs": [],
   "source": [
    "assets=AssetFileInOut(\"../src/stockGroups/bin\").loadDictFromFile(\"group_debug\")\n",
    "\n",
    "# Convert to Polars for speedup\n",
    "assetspl: Dict[str, AssetDataPolars] = {}\n",
    "for ticker, asset in assets.items():\n",
    "    assetspl[ticker] = AssetDataService.to_polars(asset)"
   ]
  },
  {
   "cell_type": "code",
   "execution_count": 4,
   "metadata": {},
   "outputs": [],
   "source": [
    "asset = assetspl[\"AAPL\"]\n",
    "params = {\n",
    "    'fouriercutoff': 5,\n",
    "    'timesteps': 60,\n",
    "    'lagList': [1, 2, 3, 5],\n",
    "    'monthHorizonList': [1, 3, 6],\n",
    "}\n",
    "\n",
    "startDate = pd.Timestamp(2020, 1, 1, tz = \"UTC\").date()\n",
    "endDate = pd.Timestamp(2021, 1, 1, tz = \"UTC\").date()\n",
    "ffd = FeatureFourierCoeff(asset, startDate, endDate, params=params)\n",
    "\n",
    "workdays = pd.date_range(start=dt.date(2020, 1, 1), end=dt.date(2020, 12, 31), freq='B')\n",
    "dates = [date.date() for date in workdays]"
   ]
  },
  {
   "cell_type": "code",
   "execution_count": 5,
   "metadata": {},
   "outputs": [],
   "source": [
    "featureNames = ffd.getFeatureNames()\n",
    "features = ffd.apply(dates)"
   ]
  },
  {
   "cell_type": "code",
   "execution_count": 6,
   "metadata": {},
   "outputs": [],
   "source": [
    "ffdts = FeatureFourierCoeffTS(assetspl[ticker], startDate, endDate, params=params)\n",
    "featureNamesTimeseries = ffdts.getFeatureNames()\n",
    "featuresTimeseries = ffdts.apply(dates)"
   ]
  }
 ],
 "metadata": {
  "kernelspec": {
   "display_name": ".venv (3.11.3)",
   "language": "python",
   "name": "python3"
  },
  "language_info": {
   "codemirror_mode": {
    "name": "ipython",
    "version": 3
   },
   "file_extension": ".py",
   "mimetype": "text/x-python",
   "name": "python",
   "nbconvert_exporter": "python",
   "pygments_lexer": "ipython3",
   "version": "3.11.3"
  }
 },
 "nbformat": 4,
 "nbformat_minor": 2
}
