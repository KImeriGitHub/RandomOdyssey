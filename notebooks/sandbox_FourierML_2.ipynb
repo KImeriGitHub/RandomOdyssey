{
 "cells": [
  {
   "cell_type": "code",
   "execution_count": 1,
   "metadata": {},
   "outputs": [],
   "source": [
    "import sys\n",
    "import os\n",
    "\n",
    "# Get the absolute path to the project directory\n",
    "project_dir = os.path.abspath(\"..\")\n",
    "\n",
    "# Append the project directory to sys.path\n",
    "if project_dir not in sys.path:\n",
    "    sys.path.append(project_dir)"
   ]
  },
  {
   "cell_type": "code",
   "execution_count": 2,
   "metadata": {},
   "outputs": [],
   "source": [
    "\n",
    "import pandas as pd\n",
    "import matplotlib.pyplot as plt\n",
    "from dataclasses import asdict, is_dataclass, dataclass\n",
    "from pandas.api.types import is_datetime64_any_dtype\n",
    "import scipy\n",
    "import numpy as np\n",
    "import polars as pl\n",
    "from typing import Dict, List\n",
    "import tensorflow as tf\n",
    "from tensorflow.keras import layers, models\n",
    "from tensorflow.keras.utils import to_categorical\n",
    "import matplotlib.pyplot as plt\n",
    "import seaborn as sns\n",
    "import numpy as np\n",
    "\n",
    "\n",
    "from src.common.AssetData import AssetData\n",
    "from src.common.AssetDataPolars import AssetDataPolars\n",
    "from src.common.AssetDataService import AssetDataService\n",
    "from src.common.AssetFileInOut import AssetFileInOut \n",
    "from src.databaseService.OutsourceLoader import OutsourceLoader\n",
    "\n",
    "from src.simulation.SimulatePortfolio import SimulatePortfolio\n",
    "from src.strategy.StratBuyAndHold import StratBuyAndHold\n",
    "from src.simulation.ResultAnalyzer import ResultAnalyzer\n",
    "from src.common.AssetFileInOut import AssetFileInOut\n",
    "from src.predictionModule.FourierML import FourierML\n",
    "from src.common.DataFrameTimeOperations import DataFrameTimeOperationsPandas as DFTO\n",
    "from src.predictionModule.CollectionModels import CollectionModels\n",
    "from src.common.AssetFileInOut import AssetFileInOut\n",
    "\n",
    "from src.common.AssetDataPolars import AssetDataPolars\n",
    "from src.common.AssetDataService import AssetDataService\n"
   ]
  },
  {
   "cell_type": "code",
   "execution_count": 3,
   "metadata": {},
   "outputs": [],
   "source": [
    "assets=AssetFileInOut(\"../src/stockGroups/bin\").loadDictFromFile(\"group_snp500_over20years\")\n",
    "\n",
    "# Convert to Polars for speedup\n",
    "assetspl: Dict[str, AssetDataPolars] = {}\n",
    "for ticker, asset in assets.items():\n",
    "    assetspl[ticker]= AssetDataService.to_polars(asset)"
   ]
  },
  {
   "cell_type": "code",
   "execution_count": 6,
   "metadata": {},
   "outputs": [
    {
     "name": "stdout",
     "output_type": "stream",
     "text": [
      "Data and metadata loaded from ../src/predictionModule/bin\\fourier_15to16_halfSpare_1000Coeff_19mon.pkl\n"
     ]
    },
    {
     "data": {
      "text/plain": [
       "{'FourierML_params': {'idxLengthOneMonth': 21,\n",
       "  'fouriercutoff': 2000,\n",
       "  'spareDatesRatio': 0.5,\n",
       "  'multFactor': 128,\n",
       "  'lenClassInterval': 1,\n",
       "  'daysAfterPrediction': 1,\n",
       "  'numOfMonths': 19,\n",
       "  'classificationInterval': [0.0045]}}"
      ]
     },
     "execution_count": 6,
     "metadata": {},
     "output_type": "execute_result"
    }
   ],
   "source": [
    "fourierML = FourierML(assetspl)\n",
    "fourierML.load_data('../src/predictionModule/bin', \"fourier_15to16_halfSpare_1000Coeff_19mon\")"
   ]
  },
  {
   "cell_type": "code",
   "execution_count": 8,
   "metadata": {},
   "outputs": [],
   "source": [
    "X_train = fourierML.X_train\n",
    "X_test = fourierML.X_test\n",
    "y_train = fourierML.y_train\n",
    "y_test = fourierML.y_test"
   ]
  }
 ],
 "metadata": {
  "kernelspec": {
   "display_name": ".venv",
   "language": "python",
   "name": "python3"
  },
  "language_info": {
   "codemirror_mode": {
    "name": "ipython",
    "version": 3
   },
   "file_extension": ".py",
   "mimetype": "text/x-python",
   "name": "python",
   "nbconvert_exporter": "python",
   "pygments_lexer": "ipython3",
   "version": "3.11.3"
  }
 },
 "nbformat": 4,
 "nbformat_minor": 2
}
