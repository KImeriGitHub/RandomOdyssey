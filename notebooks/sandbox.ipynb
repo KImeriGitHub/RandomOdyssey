{
 "cells": [
  {
   "cell_type": "code",
   "execution_count": 1,
   "metadata": {},
   "outputs": [],
   "source": [
    "import sys\n",
    "import os\n",
    "\n",
    "# Get the absolute path to the project directory\n",
    "project_dir = os.path.abspath(\"..\")\n",
    "\n",
    "# Append the project directory to sys.path\n",
    "if project_dir not in sys.path:\n",
    "    sys.path.append(project_dir)"
   ]
  },
  {
   "cell_type": "code",
   "execution_count": 2,
   "metadata": {},
   "outputs": [],
   "source": [
    "import sys\n",
    "import os\n",
    "\n",
    "# Get the absolute path to the project directory\n",
    "project_dir = os.path.abspath(\"..\")\n",
    "\n",
    "# Append the project directory to sys.path\n",
    "if project_dir not in sys.path:\n",
    "    sys.path.append(project_dir)\n",
    "\n",
    "import yfinance as yf\n",
    "import pandas as pd\n",
    "import datetime as dt\n",
    "import matplotlib.pyplot as plt\n",
    "import msgpack\n",
    "import warnings\n",
    "from dataclasses import asdict, is_dataclass, dataclass\n",
    "import os\n",
    "import msgpack\n",
    "import json\n",
    "import pickle\n",
    "from pandas.api.types import is_datetime64_any_dtype\n",
    "\n",
    "from src.common.AssetData import AssetData\n",
    "from src.common.AssetDataService import AssetDataService\n",
    "from src.common.AssetFileInOut import AssetFileInOut \n",
    "from src.databaseService.OutsourceLoader import OutsourceLoader\n",
    "\n",
    "from src.simulation.SimulatePortfolio import SimulatePortfolio\n",
    "from src.strategy.StratBuyAndHold import StratBuyAndHold\n",
    "from src.simulation.ResultAnalyzer import ResultAnalyzer\n",
    "from src.common.AssetFileInOut import AssetFileInOut\n"
   ]
  },
  {
   "cell_type": "code",
   "execution_count": 11,
   "metadata": {},
   "outputs": [
    {
     "data": {
      "text/plain": [
       "['MMM', 'AOS', 'ABT', 'ABBV', 'ACN']"
      ]
     },
     "execution_count": 11,
     "metadata": {},
     "output_type": "execute_result"
    }
   ],
   "source": [
    "from src.common.YamlTickerInOut import YamlTickerInOut\n",
    "\n",
    "snp500tickers = YamlTickerInOut(\"../src/tickerSelection\").loadFromFile(\"snp500.yaml\")[\"snp500tickers\"]\n",
    "\n",
    "snp500tickers[0:5]"
   ]
  },
  {
   "cell_type": "code",
   "execution_count": 4,
   "metadata": {},
   "outputs": [
    {
     "data": {
      "text/plain": [
       "DatetimeIndex(['2010-01-01 00:00:00+00:00', '2010-01-04 00:00:00+00:00',\n",
       "               '2010-01-05 00:00:00+00:00', '2010-01-06 00:00:00+00:00',\n",
       "               '2010-01-07 00:00:00+00:00', '2010-01-08 00:00:00+00:00',\n",
       "               '2010-01-11 00:00:00+00:00', '2010-01-12 00:00:00+00:00',\n",
       "               '2010-01-13 00:00:00+00:00', '2010-01-14 00:00:00+00:00',\n",
       "               '2010-01-15 00:00:00+00:00', '2010-01-18 00:00:00+00:00',\n",
       "               '2010-01-19 00:00:00+00:00', '2010-01-20 00:00:00+00:00',\n",
       "               '2010-01-21 00:00:00+00:00', '2010-01-22 00:00:00+00:00',\n",
       "               '2010-01-25 00:00:00+00:00', '2010-01-26 00:00:00+00:00',\n",
       "               '2010-01-27 00:00:00+00:00', '2010-01-28 00:00:00+00:00',\n",
       "               '2010-01-29 00:00:00+00:00', '2010-02-01 00:00:00+00:00'],\n",
       "              dtype='datetime64[ns, UTC]', freq='B')"
      ]
     },
     "execution_count": 4,
     "metadata": {},
     "output_type": "execute_result"
    }
   ],
   "source": [
    "a=pd.date_range(pd.Timestamp(2010,1,1), pd.Timestamp(2010,2,1), freq='B', tz='UTC')\n",
    "a"
   ]
  },
  {
   "cell_type": "code",
   "execution_count": 6,
   "metadata": {},
   "outputs": [
    {
     "data": {
      "text/plain": [
       "'hello None'"
      ]
     },
     "execution_count": 6,
     "metadata": {},
     "output_type": "execute_result"
    }
   ],
   "source": [
    "a=pd.Timestamp(2010,1,1)\n",
    "f\"hello {a.tz}\""
   ]
  },
  {
   "cell_type": "code",
   "execution_count": null,
   "metadata": {},
   "outputs": [],
   "source": []
  }
 ],
 "metadata": {
  "kernelspec": {
   "display_name": ".venv",
   "language": "python",
   "name": "python3"
  },
  "language_info": {
   "codemirror_mode": {
    "name": "ipython",
    "version": 3
   },
   "file_extension": ".py",
   "mimetype": "text/x-python",
   "name": "python",
   "nbconvert_exporter": "python",
   "pygments_lexer": "ipython3",
   "version": "3.11.3"
  }
 },
 "nbformat": 4,
 "nbformat_minor": 2
}
