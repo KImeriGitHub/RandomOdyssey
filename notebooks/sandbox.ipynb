{
 "cells": [
  {
   "cell_type": "code",
   "execution_count": 4,
   "metadata": {},
   "outputs": [],
   "source": [
    "import sys\n",
    "import os\n",
    "\n",
    "# Get the absolute path to the project directory\n",
    "project_dir = os.path.abspath(\"..\")\n",
    "\n",
    "# Append the project directory to sys.path\n",
    "if project_dir not in sys.path:\n",
    "    sys.path.append(project_dir)"
   ]
  },
  {
   "cell_type": "code",
   "execution_count": 5,
   "metadata": {},
   "outputs": [],
   "source": [
    "import yfinance as yf\n",
    "import pandas as pd\n",
    "import datetime as dt\n",
    "import matplotlib.pyplot as plt\n",
    "import msgpack\n",
    "import warnings\n",
    "from dataclasses import asdict, is_dataclass, dataclass\n",
    "import os\n",
    "import msgpack\n",
    "import json\n",
    "import pickle\n",
    "from pandas.api.types import is_datetime64_any_dtype\n",
    "\n",
    "from src.common.AssetData import AssetData\n",
    "from src.common.AssetDataService import AssetDataService\n",
    "from src.common.AssetFileInOut import AssetFileInOut \n",
    "from src.databaseService.OutsourceLoader import OutsourceLoader\n",
    "\n",
    "from src.simulation.SimulatePortfolio import SimulatePortfolio\n",
    "from src.strategy.StratBuyAndHold import StratBuyAndHold\n",
    "from src.simulation.ResultAnalyzer import ResultAnalyzer\n",
    "from src.common.AssetFileInOut import AssetFileInOut\n"
   ]
  },
  {
   "cell_type": "code",
   "execution_count": 6,
   "metadata": {},
   "outputs": [
    {
     "ename": "TypeError",
     "evalue": "StratBuyAndHold.__init__() got an unexpected keyword argument 'target_ticker'",
     "output_type": "error",
     "traceback": [
      "\u001b[1;31m---------------------------------------------------------------------------\u001b[0m",
      "\u001b[1;31mTypeError\u001b[0m                                 Traceback (most recent call last)",
      "Cell \u001b[1;32mIn[6], line 3\u001b[0m\n\u001b[0;32m      1\u001b[0m asset \u001b[38;5;241m=\u001b[39m AssetFileInOut(\u001b[38;5;124m\"\u001b[39m\u001b[38;5;124m../src/database\u001b[39m\u001b[38;5;124m\"\u001b[39m)\u001b[38;5;241m.\u001b[39mloadFromFile(\u001b[38;5;124m'\u001b[39m\u001b[38;5;124mgoog\u001b[39m\u001b[38;5;124m'\u001b[39m)  \u001b[38;5;66;03m# Example ticker\u001b[39;00m\n\u001b[0;32m      2\u001b[0m asset2 \u001b[38;5;241m=\u001b[39m AssetFileInOut(\u001b[38;5;124m\"\u001b[39m\u001b[38;5;124m../src/database\u001b[39m\u001b[38;5;124m\"\u001b[39m)\u001b[38;5;241m.\u001b[39mloadFromFile(\u001b[38;5;124m'\u001b[39m\u001b[38;5;124macln.sw\u001b[39m\u001b[38;5;124m'\u001b[39m)  \u001b[38;5;66;03m# Example ticker\u001b[39;00m\n\u001b[1;32m----> 3\u001b[0m strategy \u001b[38;5;241m=\u001b[39m \u001b[43mStratBuyAndHold\u001b[49m\u001b[43m(\u001b[49m\u001b[43mtarget_ticker\u001b[49m\u001b[38;5;241;43m=\u001b[39;49m\u001b[38;5;124;43m'\u001b[39;49m\u001b[38;5;124;43mgoog\u001b[39;49m\u001b[38;5;124;43m'\u001b[39;49m\u001b[43m)\u001b[49m\n\u001b[0;32m      5\u001b[0m asset2\u001b[38;5;241m.\u001b[39mshareprice\u001b[38;5;241m.\u001b[39mindex\n",
      "\u001b[1;31mTypeError\u001b[0m: StratBuyAndHold.__init__() got an unexpected keyword argument 'target_ticker'"
     ]
    }
   ],
   "source": [
    "asset = AssetFileInOut(\"../src/database\").loadFromFile('goog')  # Example ticker\n",
    "asset2 = AssetFileInOut(\"../src/database\").loadFromFile('acln.sw')  # Example ticker\n",
    "strategy = StratBuyAndHold(target_ticker='goog')\n",
    "\n",
    "asset2.shareprice.index"
   ]
  },
  {
   "cell_type": "code",
   "execution_count": 7,
   "metadata": {},
   "outputs": [],
   "source": [
    "import datetime\n",
    "\n",
    "simulation = SimulatePortfolio(\n",
    "        initialCash=10000,\n",
    "        strategy=strategy,\n",
    "        assets=[asset],\n",
    "        startDate=pd.Timestamp(2010, 1, 1),\n",
    "        endDate=pd.Timestamp(2020, 1, 1)\n",
    "    )"
   ]
  },
  {
   "cell_type": "code",
   "execution_count": 20,
   "metadata": {},
   "outputs": [
    {
     "data": {
      "text/plain": [
       "0                             NaT\n",
       "1                             NaT\n",
       "2                             NaT\n",
       "3                             NaT\n",
       "4                             NaT\n",
       "                   ...           \n",
       "33912   2019-12-26 00:00:00+00:00\n",
       "33913   2019-12-27 00:00:00+00:00\n",
       "33914   2019-12-30 00:00:00+00:00\n",
       "33915   2019-12-31 00:00:00+00:00\n",
       "33916   2020-01-01 00:00:00+00:00\n",
       "Name: Date, Length: 33917, dtype: datetime64[ns, UTC]"
      ]
     },
     "execution_count": 20,
     "metadata": {},
     "output_type": "execute_result"
    }
   ],
   "source": [
    "# Run simulation\n",
    "simulation.run()\n",
    "\n",
    "# Analyze results\n",
    "#analyzer = ResultAnalyzer(simulation.portfolio)\n",
    "#analyzer.plot_portfolio_value()\n",
    "\n",
    "a= simulation.portfolio.history\n",
    "a[\"Date\"]"
   ]
  },
  {
   "cell_type": "code",
   "execution_count": 19,
   "metadata": {},
   "outputs": [
    {
     "data": {
      "text/plain": [
       "DatetimeIndex(['2010-01-01', '2010-01-04', '2010-01-05', '2010-01-06',\n",
       "               '2010-01-07', '2010-01-08', '2010-01-11', '2010-01-12',\n",
       "               '2010-01-13', '2010-01-14',\n",
       "               ...\n",
       "               '2019-12-19', '2019-12-20', '2019-12-23', '2019-12-24',\n",
       "               '2019-12-25', '2019-12-26', '2019-12-27', '2019-12-30',\n",
       "               '2019-12-31', '2020-01-01'],\n",
       "              dtype='datetime64[ns]', length=2609, freq='B')"
      ]
     },
     "execution_count": 19,
     "metadata": {},
     "output_type": "execute_result"
    }
   ],
   "source": [
    "dates = pd.date_range(datetime.datetime(2010, 1, 1), datetime.datetime(2020, 1, 1), freq='B')\n",
    "dates "
   ]
  },
  {
   "cell_type": "code",
   "execution_count": 40,
   "metadata": {},
   "outputs": [
    {
     "data": {
      "text/plain": [
       "Timestamp('2023-01-03 00:00:00-0500', tz='America/New_York')"
      ]
     },
     "execution_count": 40,
     "metadata": {},
     "output_type": "execute_result"
    }
   ],
   "source": [
    "pd.Timestamp('2023-01-03', tz='America/New_York')"
   ]
  },
  {
   "cell_type": "code",
   "execution_count": 8,
   "metadata": {},
   "outputs": [
    {
     "data": {
      "text/plain": [
       "Timestamp('2019-01-03 00:00:00-0500', tz='America/New_York')"
      ]
     },
     "execution_count": 8,
     "metadata": {},
     "output_type": "execute_result"
    }
   ],
   "source": [
    "asset.shareprice[asset.shareprice.index > pd.Timestamp('2019-01-03', tz='UTC')].index.min()"
   ]
  },
  {
   "cell_type": "code",
   "execution_count": 10,
   "metadata": {},
   "outputs": [
    {
     "data": {
      "text/plain": [
       "Timestamp('2004-09-17 00:00:00-0400', tz='America/New_York')"
      ]
     },
     "execution_count": 10,
     "metadata": {},
     "output_type": "execute_result"
    }
   ],
   "source": [
    "asset.shareprice.index[20]"
   ]
  },
  {
   "cell_type": "code",
   "execution_count": 50,
   "metadata": {},
   "outputs": [
    {
     "data": {
      "text/plain": [
       "True"
      ]
     },
     "execution_count": 50,
     "metadata": {},
     "output_type": "execute_result"
    }
   ],
   "source": [
    "(asset.shareprice.index[2].tz_convert(None) > pd.Timestamp('2004-08-22')) & (asset.shareprice.index[2].tz_convert(None) < pd.Timestamp('2004-08-24'))"
   ]
  },
  {
   "cell_type": "code",
   "execution_count": 52,
   "metadata": {},
   "outputs": [
    {
     "data": {
      "text/plain": [
       "pandas._libs.tslibs.timestamps.Timestamp"
      ]
     },
     "execution_count": 52,
     "metadata": {},
     "output_type": "execute_result"
    }
   ],
   "source": [
    "type(asset.shareprice.index[2].tz_convert(None))"
   ]
  },
  {
   "cell_type": "code",
   "execution_count": 65,
   "metadata": {},
   "outputs": [
    {
     "data": {
      "text/plain": [
       "0"
      ]
     },
     "execution_count": 65,
     "metadata": {},
     "output_type": "execute_result"
    }
   ],
   "source": [
    "import numpy as np\n",
    "np.argmax(asset.shareprice.index > pd.Timestamp('2003-08-18', tz='UTC'))"
   ]
  },
  {
   "cell_type": "code",
   "execution_count": 1,
   "metadata": {},
   "outputs": [
    {
     "name": "stdout",
     "output_type": "stream",
     "text": [
      "Slope (m): 13.612903225806452\n",
      "Intercept (c): -11.612903225806452\n"
     ]
    },
    {
     "data": {
      "image/png": "[encoded data removed]",
      "text/plain": [
       "<Figure size 640x480 with 1 Axes>"
      ]
     },
     "metadata": {},
     "output_type": "display_data"
    }
   ],
   "source": [
    "import numpy as np\n",
    "import matplotlib.pyplot as plt\n",
    "\n",
    "def fit_line_through_first_point(x, y):\n",
    "    \"\"\"\n",
    "    Fits a linear curve to data points such that the line passes through\n",
    "    the first data point and minimizes the residuals.\n",
    "\n",
    "    Parameters:\n",
    "    x (array-like): Independent variable data points.\n",
    "    y (array-like): Dependent variable data points.\n",
    "\n",
    "    Returns:\n",
    "    m (float): Slope of the fitted line.\n",
    "    c (float): Intercept of the fitted line.\n",
    "    y_fit (ndarray): Fitted y-values corresponding to x.\n",
    "    \"\"\"\n",
    "    x = np.array(x)\n",
    "    y = np.array(y)\n",
    "    x0 = x[0]\n",
    "    y0 = y[0]\n",
    "    dx = x - x0\n",
    "    dy = y - y0\n",
    "\n",
    "    denominator = np.sum(dx * dx)\n",
    "    if denominator == 0:\n",
    "        raise ValueError(\"Denominator is zero; all x values are the same.\")\n",
    "    m = np.sum(dx * dy) / denominator\n",
    "    c = y0 - m * x0\n",
    "    y_fit = m * x + c\n",
    "    return m, c, y_fit\n",
    "\n",
    "# Sample data points\n",
    "x = np.array([1, 2, 3, 4, 5, 6, 7, 8, 9, 10, 11, 12, 13, 14, 15, 16])\n",
    "y = (x ** 2) + 1\n",
    "\n",
    "# Fit the line\n",
    "m, c, y_fit = fit_line_through_first_point(x, y)\n",
    "\n",
    "print(f\"Slope (m): {m}\")\n",
    "print(f\"Intercept (c): {c}\")\n",
    "\n",
    "# Plot the original data points\n",
    "plt.scatter(x, y, color='blue', label='Data Points')\n",
    "\n",
    "# Plot the fitted line\n",
    "plt.plot(x, y_fit, color='red', label='Fitted Line')\n",
    "\n",
    "# Highlight the first data point\n",
    "plt.scatter(x[0], y[0], color='green', label='First Data Point', zorder=5)\n",
    "\n",
    "# Add labels and legend\n",
    "plt.xlabel('x')\n",
    "plt.ylabel('y')\n",
    "plt.title('Linear Fit Passing Through First Data Point')\n",
    "plt.legend()\n",
    "plt.grid(True)\n",
    "\n",
    "# Display the plot\n",
    "plt.show()\n"
   ]
  },
  {
   "cell_type": "code",
   "execution_count": null,
   "metadata": {},
   "outputs": [],
   "source": []
  }
 ],
 "metadata": {
  "kernelspec": {
   "display_name": "Python 3",
   "language": "python",
   "name": "python3"
  },
  "language_info": {
   "codemirror_mode": {
    "name": "ipython",
    "version": 3
   },
   "file_extension": ".py",
   "mimetype": "text/x-python",
   "name": "python",
   "nbconvert_exporter": "python",
   "pygments_lexer": "ipython3",
   "version": "3.11.3"
  }
 },
 "nbformat": 4,
 "nbformat_minor": 2
}
