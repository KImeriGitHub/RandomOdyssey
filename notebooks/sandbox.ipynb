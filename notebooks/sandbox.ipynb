{
 "cells": [
  {
   "cell_type": "code",
   "execution_count": 1,
   "metadata": {},
   "outputs": [],
   "source": [
    "import sys\n",
    "import os\n",
    "\n",
    "# Get the absolute path to the project directory\n",
    "project_dir = os.path.abspath(\"..\")\n",
    "\n",
    "# Append the project directory to sys.path\n",
    "if project_dir not in sys.path:\n",
    "    sys.path.append(project_dir)"
   ]
  },
  {
   "cell_type": "code",
   "execution_count": 2,
   "metadata": {},
   "outputs": [],
   "source": [
    "import sys\n",
    "import os\n",
    "\n",
    "# Get the absolute path to the project directory\n",
    "project_dir = os.path.abspath(\"..\")\n",
    "\n",
    "# Append the project directory to sys.path\n",
    "if project_dir not in sys.path:\n",
    "    sys.path.append(project_dir)\n",
    "\n",
    "import yfinance as yf\n",
    "import pandas as pd\n",
    "import datetime as dt\n",
    "import matplotlib.pyplot as plt\n",
    "import msgpack\n",
    "import warnings\n",
    "from dataclasses import asdict, is_dataclass, dataclass\n",
    "import os\n",
    "import msgpack\n",
    "import json\n",
    "import pickle\n",
    "from pandas.api.types import is_datetime64_any_dtype\n",
    "import scipy\n",
    "import numpy as np\n",
    "\n",
    "from src.common.AssetData import AssetData\n",
    "from src.common.AssetDataService import AssetDataService\n",
    "from src.common.AssetFileInOut import AssetFileInOut \n",
    "from src.databaseService.OutsourceLoader import OutsourceLoader\n",
    "\n",
    "from src.simulation.SimulatePortfolio import SimulatePortfolio\n",
    "from src.strategy.StratBuyAndHold import StratBuyAndHold\n",
    "from src.simulation.ResultAnalyzer import ResultAnalyzer\n",
    "from src.common.AssetFileInOut import AssetFileInOut\n",
    "from src.mathTools.CurveAnalysis import CurveAnalysis\n",
    "from src.predictionModule.CurveML import CurveML\n"
   ]
  },
  {
   "cell_type": "code",
   "execution_count": 11,
   "metadata": {},
   "outputs": [
    {
     "name": "stderr",
     "output_type": "stream",
     "text": [
      "c:\\Users\\KILightTouch\\Desktop\\RandomOdyssey\\.venv\\Lib\\site-packages\\yfinance\\utils.py:775: FutureWarning: The 'unit' keyword in TimedeltaIndex construction is deprecated and will be removed in a future version. Use pd.to_timedelta instead.\n",
      "  df.index += _pd.TimedeltaIndex(dst_error_hours, 'h')\n"
     ]
    }
   ],
   "source": [
    "stock = yf.Ticker(\"IRM\")\n",
    "fullSharePrice = stock.history(period=\"max\")\n",
    "#fullSharePrice[[\"Open\", \"High\", \"Low\", \"Close\", \"Adj Close\"]]\n",
    "fullSharePrice"
   ]
  },
  {
   "cell_type": "code",
   "execution_count": 3,
   "metadata": {},
   "outputs": [],
   "source": [
    "from src.common.YamlTickerInOut import YamlTickerInOut\n",
    "\n",
    "snp500tickers = YamlTickerInOut(\"../src/tickerSelection\").loadFromFile(\"snp500.yaml\")[\"snp500tickers\"]\n",
    "alltickers = YamlTickerInOut(\"../src/stockGroups\").loadFromFile(\"group_all.yaml\")"
   ]
  },
  {
   "cell_type": "code",
   "execution_count": 7,
   "metadata": {},
   "outputs": [
    {
     "data": {
      "text/plain": [
       "NaT"
      ]
     },
     "execution_count": 7,
     "metadata": {},
     "output_type": "execute_result"
    }
   ],
   "source": [
    "pd.Timestamp(None)"
   ]
  },
  {
   "cell_type": "code",
   "execution_count": 10,
   "metadata": {},
   "outputs": [
    {
     "name": "stdout",
     "output_type": "stream",
     "text": [
      "2024-10-02 00:00:00-04:00\n",
      "Model loaded from ../src/predictionModule/bin\\curveML_swiss_10to20.mdl.\n",
      "116.4800033569336\n",
      "<class 'numpy.ndarray'>\n"
     ]
    }
   ],
   "source": [
    "assetG = AssetFileInOut(\"../src/database\").loadFromFile('NVO')\n",
    "priceData = assetG.shareprice.iloc[-21:-1][\"Close\"]\n",
    "priceData = priceData.resample('B').mean().dropna()\n",
    "\n",
    "print(priceData.index[-1])\n",
    "\n",
    "assets=AssetFileInOut(\"../src/stockGroups/bin\").loadDictFromFile(\"group_swiss_over20years\")\n",
    "\n",
    "startDate=pd.Timestamp(year=2010,month=1,day=4, tz='UTC')\n",
    "endDate=pd.Timestamp(year=2020,month=1,day=4, tz='UTC')\n",
    "\n",
    "curveML = CurveML(assets, startDate, endDate)\n",
    "curveML.loadModel(\"../src/predictionModule/bin\", \"curveML_swiss_10to20\")\n",
    "\n",
    "a=curveML.predictNextPrices(priceData, 'TEST',1)\n",
    "\n",
    "print(priceData.values[-1])\n",
    "print(type(a))\n"
   ]
  },
  {
   "cell_type": "code",
   "execution_count": null,
   "metadata": {},
   "outputs": [],
   "source": []
  }
 ],
 "metadata": {
  "kernelspec": {
   "display_name": ".venv",
   "language": "python",
   "name": "python3"
  },
  "language_info": {
   "codemirror_mode": {
    "name": "ipython",
    "version": 3
   },
   "file_extension": ".py",
   "mimetype": "text/x-python",
   "name": "python",
   "nbconvert_exporter": "python",
   "pygments_lexer": "ipython3",
   "version": "3.11.3"
  }
 },
 "nbformat": 4,
 "nbformat_minor": 2
}
