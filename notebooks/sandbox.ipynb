{
 "cells": [
  {
   "cell_type": "code",
   "execution_count": 1,
   "metadata": {},
   "outputs": [],
   "source": [
    "import sys\n",
    "import os\n",
    "\n",
    "# Get the absolute path to the project directory\n",
    "project_dir = os.path.abspath(\"..\")\n",
    "\n",
    "# Append the project directory to sys.path\n",
    "if project_dir not in sys.path:\n",
    "    sys.path.append(project_dir)"
   ]
  },
  {
   "cell_type": "code",
   "execution_count": 2,
   "metadata": {},
   "outputs": [],
   "source": [
    "import sys\n",
    "import os\n",
    "\n",
    "# Get the absolute path to the project directory\n",
    "project_dir = os.path.abspath(\"..\")\n",
    "\n",
    "# Append the project directory to sys.path\n",
    "if project_dir not in sys.path:\n",
    "    sys.path.append(project_dir)\n",
    "\n",
    "import yfinance as yf\n",
    "import pandas as pd\n",
    "import datetime as dt\n",
    "import matplotlib.pyplot as plt\n",
    "import warnings\n",
    "from dataclasses import asdict, is_dataclass, dataclass\n",
    "import os\n",
    "import json\n",
    "import pickle\n",
    "from pandas.api.types import is_datetime64_any_dtype\n",
    "import scipy\n",
    "import numpy as np\n",
    "from scipy.stats import linregress\n",
    "\n",
    "from src.common.AssetData import AssetData\n",
    "from src.common.AssetDataService import AssetDataService\n",
    "from src.common.AssetFileInOut import AssetFileInOut \n",
    "from src.databaseService.OutsourceLoader import OutsourceLoader\n",
    "\n",
    "from src.simulation.SimulatePortfolio import SimulatePortfolio\n",
    "from src.strategy.StratBuyAndHold import StratBuyAndHold\n",
    "from src.simulation.ResultAnalyzer import ResultAnalyzer\n",
    "from src.common.AssetFileInOut import AssetFileInOut\n",
    "from src.mathTools.CurveAnalysis import CurveAnalysis\n",
    "from src.predictionModule.FourierML import FourierML\n",
    "from src.common.YamlTickerInOut import YamlTickerInOut\n",
    "from src.common.DataFrameTimeOperations import DataFrameTimeOperationsPandas as DFTO\n"
   ]
  },
  {
   "cell_type": "code",
   "execution_count": 3,
   "metadata": {},
   "outputs": [
    {
     "name": "stdout",
     "output_type": "stream",
     "text": [
      "The index : 5\n"
     ]
    }
   ],
   "source": [
    "import bisect\n",
    "# Sorted array of real numbers\n",
    "sorted_array = [1.1, 2.3, 3.7, 4.5, 6.8]\n",
    "# The value of a\n",
    "a = 7.2\n",
    "# Find the index of the smallest number greater than a\n",
    "index = bisect.bisect_right(sorted_array, a)\n",
    "print(f\"The index : {index}\")"
   ]
  },
  {
   "cell_type": "code",
   "execution_count": 4,
   "metadata": {},
   "outputs": [
    {
     "data": {
      "text/plain": [
       "array([-0.96592583, -0.70710678, -0.25881905,  0.25881905,  0.70710678,\n",
       "        0.96592583])"
      ]
     },
     "execution_count": 4,
     "metadata": {},
     "output_type": "execute_result"
    }
   ],
   "source": [
    "np.flipud(np.cos(( 2*np.arange(1, 5 + 2) - 1) * np.pi / (2 * (5+1))))"
   ]
  },
  {
   "cell_type": "code",
   "execution_count": 5,
   "metadata": {},
   "outputs": [
    {
     "name": "stdout",
     "output_type": "stream",
     "text": [
      "(112, 4)\n",
      "(112,)\n",
      "Accuracy: 0.9210526315789473\n"
     ]
    },
    {
     "name": "stderr",
     "output_type": "stream",
     "text": [
      "c:\\Users\\kimer\\Desktop\\RandomOdyssey\\.venv\\Lib\\site-packages\\sklearn\\neural_network\\_multilayer_perceptron.py:690: ConvergenceWarning: Stochastic Optimizer: Maximum iterations (1000) reached and the optimization hasn't converged yet.\n",
      "  warnings.warn(\n"
     ]
    }
   ],
   "source": [
    "from sklearn.datasets import load_iris\n",
    "from sklearn.model_selection import train_test_split\n",
    "from sklearn.neural_network import MLPClassifier\n",
    "from sklearn.metrics import accuracy_score\n",
    "\n",
    "# Load data\n",
    "X, y = load_iris(return_X_y=True)\n",
    "X_train, X_test, y_train, y_test = train_test_split(X, y, random_state=1)\n",
    "print(X_train.shape)\n",
    "print(y_train.shape)\n",
    "# Initialize MLP\n",
    "mlp = MLPClassifier(hidden_layer_sizes=(10,), max_iter=1000, random_state=1)\n",
    "\n",
    "# Train\n",
    "mlp.fit(X_train, y_train)\n",
    "\n",
    "# Predict\n",
    "y_pred = mlp.predict(X_test)\n",
    "\n",
    "# Evaluate\n",
    "print(\"Accuracy:\", accuracy_score(y_test, y_pred))\n"
   ]
  },
  {
   "cell_type": "code",
   "execution_count": 6,
   "metadata": {},
   "outputs": [
    {
     "data": {
      "text/plain": [
       "[0.0,\n",
       " 0.00029354207436399217,\n",
       " 0.0008806262230919766,\n",
       " 0.002054794520547945,\n",
       " 0.004403131115459882,\n",
       " 0.009099804305283758,\n",
       " 0.018493150684931507,\n",
       " 0.037279843444227,\n",
       " 0.074853228962818,\n",
       " 0.15]"
      ]
     },
     "execution_count": 6,
     "metadata": {},
     "output_type": "execute_result"
    }
   ],
   "source": [
    "((np.power(2,range(0,10))-1)*(0.15/(2**9-1))).tolist()"
   ]
  },
  {
   "cell_type": "code",
   "execution_count": 7,
   "metadata": {},
   "outputs": [
    {
     "data": {
      "image/png": "[encoded data removed]",
      "text/plain": [
       "<Figure size 800x400 with 1 Axes>"
      ]
     },
     "metadata": {},
     "output_type": "display_data"
    },
    {
     "name": "stdout",
     "output_type": "stream",
     "text": [
      "[0.0010128108731718146, 0.00302867869714807, 0.006028189562798407, 0.0099824565407872, 0.01485339787849419, 0.020594103748109886, 0.027149288013920816, 0.03445582066801904, 0.04244333580678849, 0.05103490929302295, 0.0601477995774181, 0.06969424454492273, 0.07958230671188203, 0.08971675863426365, 0.1]\n"
     ]
    }
   ],
   "source": [
    "import numpy as np\n",
    "import matplotlib.pyplot as plt\n",
    "\n",
    "# Number of points you want to generate\n",
    "n = 15  # You can change this number as needed\n",
    "\n",
    "# Generate Chebyshev nodes in the interval [-1, 1]\n",
    "k = np.arange(1, n + 2)\n",
    "x_k = np.cos(( 2*k - 1) * np.pi / (4 * (n+1)))\n",
    "\n",
    "# Map the nodes to the interval [0.001, 0.15] with higher density near 0.001\n",
    "a = 0.001  # Start of the interval\n",
    "b = 0.10   # End of the interval\n",
    "s = (b*(x_k[1:]-x_k[0])/(x_k[-1]-x_k[0])).tolist()\n",
    "# Optional: Plot the distribution of the points\n",
    "plt.figure(figsize=(8, 4))\n",
    "plt.plot(s, np.zeros_like(s), 'o')\n",
    "plt.title('Distribution of Points between 0.001 and 0.15')\n",
    "plt.xlabel('Value')\n",
    "plt.yticks([])\n",
    "plt.show()\n",
    "\n",
    "# Print the generated points\n",
    "print(s)\n"
   ]
  },
  {
   "cell_type": "code",
   "execution_count": 8,
   "metadata": {},
   "outputs": [
    {
     "data": {
      "text/plain": [
       "DatetimeIndex(['2010-01-11', '2010-01-12', '2010-01-15', '2010-01-20',\n",
       "               '2010-02-04', '2010-02-25', '2010-04-19', '2010-04-27',\n",
       "               '2010-05-07', '2010-06-22',\n",
       "               ...\n",
       "               '2019-08-27', '2019-09-16', '2019-09-19', '2019-09-27',\n",
       "               '2019-10-15', '2019-10-24', '2019-11-01', '2019-12-03',\n",
       "               '2019-12-18', '2020-01-02'],\n",
       "              dtype='datetime64[ns]', length=261, freq=None)"
      ]
     },
     "execution_count": 8,
     "metadata": {},
     "output_type": "execute_result"
    }
   ],
   "source": [
    "dates = pd.date_range(pd.Timestamp(year=2010,month=1,day=4), pd.Timestamp(year=2020,month=1,day=4), freq='B')\n",
    "spare_dates = pd.DatetimeIndex(np.random.choice(dates, size=int(len(dates)*0.1), replace=False)).sort_values()\n",
    "spare_dates"
   ]
  },
  {
   "cell_type": "code",
   "execution_count": 9,
   "metadata": {},
   "outputs": [],
   "source": [
    "assets: dict[str, AssetData] = AssetFileInOut(\"../src/stockGroups/bin\").loadDictFromFile(\"group_snp500_over20years\")\n",
    "current_date: pd.Timestamp = pd.Timestamp.now(tz='UTC')\n",
    "analysis_results = []\n",
    "for ticker, asset in assets.items():\n",
    "    priceData: pd.DataFrame = asset.shareprice.iloc[-21*6:-1][\"Close\"]\n",
    "    priceData = priceData.resample('B').mean().dropna()\n",
    "    priceDataVal=priceData.values\n",
    "    analysis_results.append(CurveAnalysis.lineFit(priceDataVal/priceDataVal[0], ticker))\n",
    "\n",
    "res = pd.DataFrame(analysis_results)\n",
    "res['Rankslope'] = res['Slope'].rank(ascending=False)\n",
    "res['Rankvar'] = res['Variance'].rank(ascending=True)\n",
    "res['Score'] = res['Rankslope'] + res['Rankvar']\n",
    "res.sort_values(by='Score', ascending=True, inplace=True)"
   ]
  },
  {
   "cell_type": "code",
   "execution_count": 10,
   "metadata": {},
   "outputs": [
    {
     "data": {
      "text/html": [
       "<div>\n",
       "<style scoped>\n",
       "    .dataframe tbody tr th:only-of-type {\n",
       "        vertical-align: middle;\n",
       "    }\n",
       "\n",
       "    .dataframe tbody tr th {\n",
       "        vertical-align: top;\n",
       "    }\n",
       "\n",
       "    .dataframe thead th {\n",
       "        text-align: right;\n",
       "    }\n",
       "</style>\n",
       "<table border=\"1\" class=\"dataframe\">\n",
       "  <thead>\n",
       "    <tr style=\"text-align: right;\">\n",
       "      <th></th>\n",
       "      <th>Ticker</th>\n",
       "      <th>Slope</th>\n",
       "      <th>Intercept</th>\n",
       "      <th>R_Value</th>\n",
       "      <th>P_Value</th>\n",
       "      <th>Std_Err</th>\n",
       "      <th>Variance</th>\n",
       "      <th>Rankslope</th>\n",
       "      <th>Rankvar</th>\n",
       "      <th>Score</th>\n",
       "    </tr>\n",
       "  </thead>\n",
       "  <tbody>\n",
       "    <tr>\n",
       "      <th>37</th>\n",
       "      <td>BLK</td>\n",
       "      <td>0.003034</td>\n",
       "      <td>0.965029</td>\n",
       "      <td>0.979658</td>\n",
       "      <td>1.180007e-87</td>\n",
       "      <td>0.000056</td>\n",
       "      <td>0.000507</td>\n",
       "      <td>25.0</td>\n",
       "      <td>16.0</td>\n",
       "      <td>41.0</td>\n",
       "    </tr>\n",
       "    <tr>\n",
       "      <th>180</th>\n",
       "      <td>MSI</td>\n",
       "      <td>0.002882</td>\n",
       "      <td>1.004407</td>\n",
       "      <td>0.978581</td>\n",
       "      <td>2.726816e-86</td>\n",
       "      <td>0.000055</td>\n",
       "      <td>0.000483</td>\n",
       "      <td>34.0</td>\n",
       "      <td>11.0</td>\n",
       "      <td>45.0</td>\n",
       "    </tr>\n",
       "    <tr>\n",
       "      <th>184</th>\n",
       "      <td>NI</td>\n",
       "      <td>0.002611</td>\n",
       "      <td>0.995103</td>\n",
       "      <td>0.979174</td>\n",
       "      <td>4.939502e-87</td>\n",
       "      <td>0.000049</td>\n",
       "      <td>0.000385</td>\n",
       "      <td>47.0</td>\n",
       "      <td>1.0</td>\n",
       "      <td>48.0</td>\n",
       "    </tr>\n",
       "    <tr>\n",
       "      <th>33</th>\n",
       "      <td>BK</td>\n",
       "      <td>0.003085</td>\n",
       "      <td>0.969534</td>\n",
       "      <td>0.976290</td>\n",
       "      <td>1.316015e-83</td>\n",
       "      <td>0.000062</td>\n",
       "      <td>0.000614</td>\n",
       "      <td>23.0</td>\n",
       "      <td>31.0</td>\n",
       "      <td>54.0</td>\n",
       "    </tr>\n",
       "    <tr>\n",
       "      <th>20</th>\n",
       "      <td>AON</td>\n",
       "      <td>0.003012</td>\n",
       "      <td>1.002241</td>\n",
       "      <td>0.975662</td>\n",
       "      <td>6.449355e-83</td>\n",
       "      <td>0.000061</td>\n",
       "      <td>0.000602</td>\n",
       "      <td>26.0</td>\n",
       "      <td>29.0</td>\n",
       "      <td>55.0</td>\n",
       "    </tr>\n",
       "    <tr>\n",
       "      <th>...</th>\n",
       "      <td>...</td>\n",
       "      <td>...</td>\n",
       "      <td>...</td>\n",
       "      <td>...</td>\n",
       "      <td>...</td>\n",
       "      <td>...</td>\n",
       "      <td>...</td>\n",
       "      <td>...</td>\n",
       "      <td>...</td>\n",
       "      <td>...</td>\n",
       "    </tr>\n",
       "    <tr>\n",
       "      <th>134</th>\n",
       "      <td>HUM</td>\n",
       "      <td>-0.002989</td>\n",
       "      <td>1.126083</td>\n",
       "      <td>-0.812160</td>\n",
       "      <td>1.451059e-30</td>\n",
       "      <td>0.000194</td>\n",
       "      <td>0.006050</td>\n",
       "      <td>390.0</td>\n",
       "      <td>365.0</td>\n",
       "      <td>755.0</td>\n",
       "    </tr>\n",
       "    <tr>\n",
       "      <th>94</th>\n",
       "      <td>EW</td>\n",
       "      <td>-0.002450</td>\n",
       "      <td>1.003459</td>\n",
       "      <td>-0.728717</td>\n",
       "      <td>5.834908e-22</td>\n",
       "      <td>0.000208</td>\n",
       "      <td>0.006955</td>\n",
       "      <td>386.0</td>\n",
       "      <td>374.0</td>\n",
       "      <td>760.0</td>\n",
       "    </tr>\n",
       "    <tr>\n",
       "      <th>388</th>\n",
       "      <td>WBA</td>\n",
       "      <td>-0.003638</td>\n",
       "      <td>0.935470</td>\n",
       "      <td>-0.837947</td>\n",
       "      <td>3.817665e-34</td>\n",
       "      <td>0.000214</td>\n",
       "      <td>0.007370</td>\n",
       "      <td>392.0</td>\n",
       "      <td>378.0</td>\n",
       "      <td>770.0</td>\n",
       "    </tr>\n",
       "    <tr>\n",
       "      <th>311</th>\n",
       "      <td>MU</td>\n",
       "      <td>-0.002354</td>\n",
       "      <td>0.977910</td>\n",
       "      <td>-0.667231</td>\n",
       "      <td>1.959523e-17</td>\n",
       "      <td>0.000237</td>\n",
       "      <td>0.009061</td>\n",
       "      <td>385.0</td>\n",
       "      <td>385.0</td>\n",
       "      <td>770.0</td>\n",
       "    </tr>\n",
       "    <tr>\n",
       "      <th>304</th>\n",
       "      <td>INTC</td>\n",
       "      <td>-0.002827</td>\n",
       "      <td>0.997400</td>\n",
       "      <td>-0.640365</td>\n",
       "      <td>8.895126e-16</td>\n",
       "      <td>0.000306</td>\n",
       "      <td>0.015092</td>\n",
       "      <td>388.0</td>\n",
       "      <td>391.0</td>\n",
       "      <td>779.0</td>\n",
       "    </tr>\n",
       "  </tbody>\n",
       "</table>\n",
       "<p>393 rows × 10 columns</p>\n",
       "</div>"
      ],
      "text/plain": [
       "    Ticker     Slope  Intercept   R_Value       P_Value   Std_Err  Variance  \\\n",
       "37     BLK  0.003034   0.965029  0.979658  1.180007e-87  0.000056  0.000507   \n",
       "180    MSI  0.002882   1.004407  0.978581  2.726816e-86  0.000055  0.000483   \n",
       "184     NI  0.002611   0.995103  0.979174  4.939502e-87  0.000049  0.000385   \n",
       "33      BK  0.003085   0.969534  0.976290  1.316015e-83  0.000062  0.000614   \n",
       "20     AON  0.003012   1.002241  0.975662  6.449355e-83  0.000061  0.000602   \n",
       "..     ...       ...        ...       ...           ...       ...       ...   \n",
       "134    HUM -0.002989   1.126083 -0.812160  1.451059e-30  0.000194  0.006050   \n",
       "94      EW -0.002450   1.003459 -0.728717  5.834908e-22  0.000208  0.006955   \n",
       "388    WBA -0.003638   0.935470 -0.837947  3.817665e-34  0.000214  0.007370   \n",
       "311     MU -0.002354   0.977910 -0.667231  1.959523e-17  0.000237  0.009061   \n",
       "304   INTC -0.002827   0.997400 -0.640365  8.895126e-16  0.000306  0.015092   \n",
       "\n",
       "     Rankslope  Rankvar  Score  \n",
       "37        25.0     16.0   41.0  \n",
       "180       34.0     11.0   45.0  \n",
       "184       47.0      1.0   48.0  \n",
       "33        23.0     31.0   54.0  \n",
       "20        26.0     29.0   55.0  \n",
       "..         ...      ...    ...  \n",
       "134      390.0    365.0  755.0  \n",
       "94       386.0    374.0  760.0  \n",
       "388      392.0    378.0  770.0  \n",
       "311      385.0    385.0  770.0  \n",
       "304      388.0    391.0  779.0  \n",
       "\n",
       "[393 rows x 10 columns]"
      ]
     },
     "execution_count": 10,
     "metadata": {},
     "output_type": "execute_result"
    }
   ],
   "source": [
    "res"
   ]
  },
  {
   "cell_type": "code",
   "execution_count": 11,
   "metadata": {},
   "outputs": [
    {
     "name": "stdout",
     "output_type": "stream",
     "text": [
      "{'Ticker': 'ZBRA', 'Slope': np.float64(18.615246954805105), 'Intercept': np.float64(7561.517231770834), 'R_Value': np.float64(0.8682961419977793), 'P_Value': np.float64(2.9209850923546793e-39), 'Std_Err': np.float64(0.9588937367350466), 'Variance': np.float64(148438.10020857948)}\n",
      "LinregressResult(slope=np.float64(18.615246954805105), intercept=np.float64(7561.517231770834), rvalue=np.float64(0.8682961419977793), pvalue=np.float64(2.9209850923546793e-39), stderr=np.float64(0.9588937367350466), intercept_stderr=np.float64(68.78684222078785))\n",
      "7561.517231770834\n"
     ]
    },
    {
     "data": {
      "image/png": "[encoded data removed]",
      "text/plain": [
       "<Figure size 640x480 with 1 Axes>"
      ]
     },
     "metadata": {},
     "output_type": "display_data"
    }
   ],
   "source": [
    "from scipy.stats import linregress\n",
    "pdframe = assets[\"NVR\"].shareprice.iloc[-21*6:-1][\"Close\"]\n",
    "zeroval=pdframe.values[0]\n",
    "plt.plot(pdframe)\n",
    "a = CurveAnalysis.lineFit(pdframe.values, ticker)\n",
    "print(a)\n",
    "regression = linregress(np.arange(len(pdframe)), pdframe.values)\n",
    "print(regression)\n",
    "y_fit = regression.slope * np.arange(len(pdframe)) + regression.intercept\n",
    "print(regression.intercept)"
   ]
  },
  {
   "cell_type": "code",
   "execution_count": 12,
   "metadata": {},
   "outputs": [
    {
     "name": "stdout",
     "output_type": "stream",
     "text": [
      "180.0\n",
      "<class 'numpy.ndarray'>\n"
     ]
    }
   ],
   "source": [
    "import polars as pl\n",
    "from datetime import datetime, timedelta\n",
    "\n",
    "# Generate sample data\n",
    "start_date = datetime(2023, 1, 1)\n",
    "data = {\n",
    "    'timestamp': [start_date + timedelta(days=i) for i in range(10)],\n",
    "    'price': [100 + i * 10 for i in range(10)]\n",
    "}\n",
    "\n",
    "priceData = pl.DataFrame(data)\n",
    "print(priceData[\"price\"].quantile(0.90))\n",
    "print(type(priceData['price'].to_numpy()))"
   ]
  },
  {
   "cell_type": "code",
   "execution_count": 13,
   "metadata": {},
   "outputs": [
    {
     "name": "stdout",
     "output_type": "stream",
     "text": [
      "1.14.0\n"
     ]
    }
   ],
   "source": [
    "print(pl.__version__)"
   ]
  },
  {
   "cell_type": "code",
   "execution_count": 14,
   "metadata": {},
   "outputs": [
    {
     "name": "stdout",
     "output_type": "stream",
     "text": [
      "shape: (10, 2)\n",
      "┌─────────────────────┬────────────┐\n",
      "│ timestamp           ┆ price_mean │\n",
      "│ ---                 ┆ ---        │\n",
      "│ datetime[μs]        ┆ f64        │\n",
      "╞═════════════════════╪════════════╡\n",
      "│ 2023-01-01 00:00:00 ┆ 100.0      │\n",
      "│ 2023-01-02 00:00:00 ┆ 110.0      │\n",
      "│ 2023-01-03 00:00:00 ┆ 120.0      │\n",
      "│ 2023-01-04 00:00:00 ┆ 130.0      │\n",
      "│ 2023-01-05 00:00:00 ┆ 140.0      │\n",
      "│ 2023-01-06 00:00:00 ┆ 150.0      │\n",
      "│ 2023-01-07 00:00:00 ┆ 160.0      │\n",
      "│ 2023-01-08 00:00:00 ┆ 170.0      │\n",
      "│ 2023-01-09 00:00:00 ┆ 180.0      │\n",
      "│ 2023-01-10 00:00:00 ┆ 190.0      │\n",
      "└─────────────────────┴────────────┘\n"
     ]
    },
    {
     "name": "stderr",
     "output_type": "stream",
     "text": [
      "C:\\Users\\kimer\\AppData\\Local\\Temp\\ipykernel_2076\\2642637582.py:2: DeprecationWarning: The argument `by` for `DataFrame.group_by_dynamic` is deprecated. It has been renamed to `group_by`.\n",
      "  resampled = priceData.group_by_dynamic(\n"
     ]
    }
   ],
   "source": [
    "# Resample to daily frequency and compute mean\n",
    "resampled = priceData.group_by_dynamic(\n",
    "    index_column='timestamp',\n",
    "    every='1d',       # Window size of 1 day\n",
    "    closed='left',    # Window is left-closed\n",
    "    by=None           # No additional grouping\n",
    ").agg([\n",
    "    pl.col('price').mean().alias('price_mean')\n",
    "]).drop_nulls()\n",
    "\n",
    "print(resampled)"
   ]
  },
  {
   "cell_type": "code",
   "execution_count": 15,
   "metadata": {},
   "outputs": [
    {
     "name": "stdout",
     "output_type": "stream",
     "text": [
      "shape: (6, 2)\n",
      "┌─────────────────────┬────────────┐\n",
      "│ timestamp           ┆ price_mean │\n",
      "│ ---                 ┆ ---        │\n",
      "│ datetime[μs]        ┆ f64        │\n",
      "╞═════════════════════╪════════════╡\n",
      "│ 2023-01-02 00:00:00 ┆ 110.0      │\n",
      "│ 2023-01-03 00:00:00 ┆ 120.0      │\n",
      "│ 2023-01-04 00:00:00 ┆ 130.0      │\n",
      "│ 2023-01-05 00:00:00 ┆ 140.0      │\n",
      "│ 2023-01-09 00:00:00 ┆ 180.0      │\n",
      "│ 2023-01-10 00:00:00 ┆ 190.0      │\n",
      "└─────────────────────┴────────────┘\n"
     ]
    }
   ],
   "source": [
    "# Add a weekday column (0=Monday, 6=Sunday)\n",
    "priceData = priceData.with_columns([\n",
    "    pl.col('timestamp').dt.weekday().alias('weekday')\n",
    "])\n",
    "\n",
    "# Filter to include only business days (Monday=0 to Friday=4)\n",
    "business_days = priceData.filter(pl.col('weekday').is_between(0, 4))\n",
    "\n",
    "# Perform resampling on business days\n",
    "resampled_business = business_days.group_by_dynamic(\n",
    "    index_column='timestamp',\n",
    "    every='1d',       # 1 day window\n",
    "    closed='left'\n",
    ").agg([\n",
    "    pl.col('price').mean().alias('price_mean')\n",
    "]).drop_nulls()\n",
    "\n",
    "# Drop the auxiliary 'weekday' column if not needed\n",
    "resampled_business = resampled_business.drop('weekday') if 'weekday' in resampled_business.columns else resampled_business\n",
    "\n",
    "print(resampled_business)"
   ]
  },
  {
   "cell_type": "code",
   "execution_count": 16,
   "metadata": {},
   "outputs": [],
   "source": [
    "# Sample data\n",
    "data = {\n",
    "    \"ID\": range(1, 21),  # IDs from 1 to 20\n",
    "    \"Slope\": np.random.uniform(0, 100, 20),      # Random Slope values between 0 and 100\n",
    "    \"Variance\": np.random.uniform(10, 50, 20)    # Random Variance values between 10 and 50\n",
    "}\n",
    "\n",
    "# Create a Polars DataFrame\n",
    "results_df = pl.DataFrame(data)"
   ]
  },
  {
   "cell_type": "code",
   "execution_count": 18,
   "metadata": {},
   "outputs": [
    {
     "data": {
      "text/plain": [
       "dict_keys(['industrials', 'healthcare', 'technology', 'utilities', 'financial-services', 'basic-materials', 'real-estate', 'consumer-defensive', 'energy', 'communication-services', 'consumer-cyclical'])"
      ]
     },
     "execution_count": 18,
     "metadata": {},
     "output_type": "execute_result"
    }
   ],
   "source": [
    "sectors = {}\n",
    "for ticker, asset in assets.items():\n",
    "    sectors[asset.about[\"sectorKey\"]] = asset.about[\"sectorKey\"]\n",
    "\n",
    "sectors.keys()"
   ]
  },
  {
   "cell_type": "code",
   "execution_count": 12,
   "metadata": {},
   "outputs": [],
   "source": [
    "def getFourierConst(ft):\n",
    "    \"\"\"\n",
    "    PRE: ft is a matrix of size (M x N). It is the evaluation of a function\n",
    "        f: [-pi, pi)^M -> C^M at the points linspace(-pi, pi, N+1) (without end).\n",
    "        N must be even. N should have low prime divisors (opt: N=2^m).\n",
    "        f should be 2pi periodic.\n",
    "    POST: CosConst and SinConst are matrices of size M x N/2.\n",
    "    Desc:\n",
    "        If f(t) = sum_{n=0}^{K} (a_n cos(nt) + b_n sin(nt)),\n",
    "        then this function returns a_n and b_n as long as K <= N/2.\n",
    "        Function can be vectorized along one dimension.\n",
    "    NOTE:\n",
    "     - ft can be complex. Then this program divides real part and imaginary part\n",
    "       and combines them again.\n",
    "    \"\"\"\n",
    "    M, N = ft.shape\n",
    "\n",
    "    rFfft = np.fft.fft(np.real(ft), axis=1)\n",
    "    iFfft = np.fft.fft(np.imag(ft), axis=1)\n",
    "    cjrFfft = np.conj(rFfft)\n",
    "    cjiFfft = np.conj(iFfft)\n",
    "\n",
    "    signmat = (-1) ** np.arange(N)\n",
    "    signmat = np.tile(signmat, (M, 1))\n",
    "\n",
    "    ar = (rFfft + cjrFfft) * signmat / (N * 2)\n",
    "    br = (rFfft - cjrFfft) * signmat * (1j) / (N * 2)\n",
    "\n",
    "    ai = (iFfft + cjiFfft) * signmat / (N * 2)\n",
    "    bi = (iFfft - cjiFfft) * signmat * (1j) / (N * 2)\n",
    "\n",
    "    CosConst = (np.hstack([ar[:, :1], ar[:, 1:N//2] + np.fliplr(ar[:, N//2+1:])]) +\n",
    "                1j * np.hstack([ai[:, :1], ai[:, 1:N//2] + np.fliplr(ai[:, N//2+1:])]))\n",
    "\n",
    "    SinConst = (np.hstack([br[:, :1], br[:, 1:N//2] - np.fliplr(br[:, N//2+1:])]) +\n",
    "                1j * np.hstack([bi[:, :1], bi[:, 1:N//2] - np.fliplr(bi[:, N//2+1:])]))\n",
    "\n",
    "    return CosConst, SinConst"
   ]
  },
  {
   "cell_type": "code",
   "execution_count": 13,
   "metadata": {},
   "outputs": [
    {
     "name": "stdout",
     "output_type": "stream",
     "text": [
      "Known coefficients:\n",
      "a0 = 1.0, a1 = 0.5, a2 = 0.25, b1 = -0.3, b2 = 0.15\n",
      "\n",
      "Computed coefficients:\n",
      "a0 = 1.0, a1 = 0.5, a2 = 0.25, b1 = -0.29999999999999993, b2 = 0.15000000000000002\n"
     ]
    }
   ],
   "source": [
    "M = 1  # Number of functions (can be increased to test vectorization)\n",
    "N = 64  # Number of sample points, must be even\n",
    "# Known Fourier coefficients\n",
    "a0 = 1.0\n",
    "a1 = 0.5\n",
    "a2 = 0.25\n",
    "b1 = -0.3\n",
    "b2 = 0.15\n",
    "# Generate sample points\n",
    "t = np.linspace(-np.pi, np.pi, N+1)[:-1] \n",
    "\n",
    "f_t = (a0 +\n",
    "           a1 * np.cos(t) +\n",
    "           a2 * np.cos(2 * t) +\n",
    "           b1 * np.sin(t) +\n",
    "           b2 * np.sin(2 * t))\n",
    "\n",
    "f_t = f_t.reshape(M, N)\n",
    "\n",
    "CosConst, SinConst = getFourierConst(f_t)\n",
    "\n",
    "# Extract the computed coefficients\n",
    "computed_a0 = CosConst[0, 0].real\n",
    "computed_a1 = CosConst[0, 1].real\n",
    "computed_a2 = CosConst[0, 2].real\n",
    "computed_b1 = SinConst[0, 1].real\n",
    "computed_b2 = SinConst[0, 2].real\n",
    "\n",
    "# Print the known and computed coefficients\n",
    "print(\"Known coefficients:\")\n",
    "print(f\"a0 = {a0}, a1 = {a1}, a2 = {a2}, b1 = {b1}, b2 = {b2}\")\n",
    "print(\"\\nComputed coefficients:\")\n",
    "print(f\"a0 = {computed_a0}, a1 = {computed_a1}, a2 = {computed_a2}, b1 = {computed_b1}, b2 = {computed_b2}\")"
   ]
  },
  {
   "cell_type": "code",
   "execution_count": 20,
   "metadata": {},
   "outputs": [
    {
     "name": "stdout",
     "output_type": "stream",
     "text": [
      "<class 'numpy.ndarray'>\n",
      "<class 'numpy.ndarray'>\n",
      "(60000, 28, 28, 1)\n",
      "\u001b[1m313/313\u001b[0m \u001b[32m━━━━━━━━━━━━━━━━━━━━\u001b[0m\u001b[37m\u001b[0m \u001b[1m1s\u001b[0m 2ms/step - accuracy: 0.0820 - loss: 2.3005\n",
      "Test accuracy: 0.0812000036239624\n"
     ]
    }
   ],
   "source": [
    "import tensorflow as tf\n",
    "from tensorflow.keras import layers, models\n",
    "from tensorflow.keras.datasets import mnist\n",
    "from tensorflow.keras.utils import to_categorical\n",
    "\n",
    "# Load and preprocess data\n",
    "(train_X, train_y), (test_X, test_y) = mnist.load_data()\n",
    "train_X = train_X.reshape((60000, 28, 28, 1)).astype('float32') / 255\n",
    "test_X = test_X.reshape((10000, 28, 28, 1)).astype('float32') / 255\n",
    "train_y = to_categorical(train_y)\n",
    "test_y = to_categorical(test_y)\n",
    "\n",
    "print(type(train_X))\n",
    "print(type(train_y))\n",
    "print((train_X.shape))\n",
    "\n",
    "# Build CNN model\n",
    "model = models.Sequential([\n",
    "    layers.Conv2D(32, (3, 3), activation='relu', input_shape=(28, 28, 1)),\n",
    "    layers.MaxPooling2D((2, 2)),\n",
    "    layers.Conv2D(64, (3, 3), activation='relu'),\n",
    "    layers.MaxPooling2D((2, 2)),\n",
    "    layers.Flatten(),\n",
    "    layers.Dense(64, activation='relu'),\n",
    "    layers.Dense(10, activation='softmax')\n",
    "])\n",
    "\n",
    "# Compile and train\n",
    "model.compile(optimizer='adam',\n",
    "              loss='categorical_crossentropy',\n",
    "              metrics=['accuracy'])\n",
    "#model.fit(train_X, train_y, epochs=5, batch_size=64, validation_split=0.1)\n",
    "\n",
    "# Evaluate\n",
    "test_loss, test_acc = model.evaluate(test_X, test_y)\n",
    "print(f'Test accuracy: {test_acc}')\n"
   ]
  },
  {
   "cell_type": "code",
   "execution_count": 22,
   "metadata": {},
   "outputs": [
    {
     "name": "stdout",
     "output_type": "stream",
     "text": [
      "Transformed training data shape: (60000, 1000)\n",
      "Transformed testing data shape: (10000, 1000)\n"
     ]
    },
    {
     "data": {
      "text/html": [
       "<pre style=\"white-space:pre;overflow-x:auto;line-height:normal;font-family:Menlo,'DejaVu Sans Mono',consolas,'Courier New',monospace\"><span style=\"font-weight: bold\">Model: \"sequential_6\"</span>\n",
       "</pre>\n"
      ],
      "text/plain": [
       "\u001b[1mModel: \"sequential_6\"\u001b[0m\n"
      ]
     },
     "metadata": {},
     "output_type": "display_data"
    },
    {
     "data": {
      "text/html": [
       "<pre style=\"white-space:pre;overflow-x:auto;line-height:normal;font-family:Menlo,'DejaVu Sans Mono',consolas,'Courier New',monospace\">┏━━━━━━━━━━━━━━━━━━━━━━━━━━━━━━━━━┳━━━━━━━━━━━━━━━━━━━━━━━━┳━━━━━━━━━━━━━━━┓\n",
       "┃<span style=\"font-weight: bold\"> Layer (type)                    </span>┃<span style=\"font-weight: bold\"> Output Shape           </span>┃<span style=\"font-weight: bold\">       Param # </span>┃\n",
       "┡━━━━━━━━━━━━━━━━━━━━━━━━━━━━━━━━━╇━━━━━━━━━━━━━━━━━━━━━━━━╇━━━━━━━━━━━━━━━┩\n",
       "│ dense_14 (<span style=\"color: #0087ff; text-decoration-color: #0087ff\">Dense</span>)                │ (<span style=\"color: #00d7ff; text-decoration-color: #00d7ff\">None</span>, <span style=\"color: #00af00; text-decoration-color: #00af00\">512</span>)            │       <span style=\"color: #00af00; text-decoration-color: #00af00\">512,512</span> │\n",
       "├─────────────────────────────────┼────────────────────────┼───────────────┤\n",
       "│ dropout_2 (<span style=\"color: #0087ff; text-decoration-color: #0087ff\">Dropout</span>)             │ (<span style=\"color: #00d7ff; text-decoration-color: #00d7ff\">None</span>, <span style=\"color: #00af00; text-decoration-color: #00af00\">512</span>)            │             <span style=\"color: #00af00; text-decoration-color: #00af00\">0</span> │\n",
       "├─────────────────────────────────┼────────────────────────┼───────────────┤\n",
       "│ dense_15 (<span style=\"color: #0087ff; text-decoration-color: #0087ff\">Dense</span>)                │ (<span style=\"color: #00d7ff; text-decoration-color: #00d7ff\">None</span>, <span style=\"color: #00af00; text-decoration-color: #00af00\">256</span>)            │       <span style=\"color: #00af00; text-decoration-color: #00af00\">131,328</span> │\n",
       "├─────────────────────────────────┼────────────────────────┼───────────────┤\n",
       "│ dropout_3 (<span style=\"color: #0087ff; text-decoration-color: #0087ff\">Dropout</span>)             │ (<span style=\"color: #00d7ff; text-decoration-color: #00d7ff\">None</span>, <span style=\"color: #00af00; text-decoration-color: #00af00\">256</span>)            │             <span style=\"color: #00af00; text-decoration-color: #00af00\">0</span> │\n",
       "├─────────────────────────────────┼────────────────────────┼───────────────┤\n",
       "│ dense_16 (<span style=\"color: #0087ff; text-decoration-color: #0087ff\">Dense</span>)                │ (<span style=\"color: #00d7ff; text-decoration-color: #00d7ff\">None</span>, <span style=\"color: #00af00; text-decoration-color: #00af00\">128</span>)            │        <span style=\"color: #00af00; text-decoration-color: #00af00\">32,896</span> │\n",
       "├─────────────────────────────────┼────────────────────────┼───────────────┤\n",
       "│ dense_17 (<span style=\"color: #0087ff; text-decoration-color: #0087ff\">Dense</span>)                │ (<span style=\"color: #00d7ff; text-decoration-color: #00d7ff\">None</span>, <span style=\"color: #00af00; text-decoration-color: #00af00\">10</span>)             │         <span style=\"color: #00af00; text-decoration-color: #00af00\">1,290</span> │\n",
       "└─────────────────────────────────┴────────────────────────┴───────────────┘\n",
       "</pre>\n"
      ],
      "text/plain": [
       "┏━━━━━━━━━━━━━━━━━━━━━━━━━━━━━━━━━┳━━━━━━━━━━━━━━━━━━━━━━━━┳━━━━━━━━━━━━━━━┓\n",
       "┃\u001b[1m \u001b[0m\u001b[1mLayer (type)                   \u001b[0m\u001b[1m \u001b[0m┃\u001b[1m \u001b[0m\u001b[1mOutput Shape          \u001b[0m\u001b[1m \u001b[0m┃\u001b[1m \u001b[0m\u001b[1m      Param #\u001b[0m\u001b[1m \u001b[0m┃\n",
       "┡━━━━━━━━━━━━━━━━━━━━━━━━━━━━━━━━━╇━━━━━━━━━━━━━━━━━━━━━━━━╇━━━━━━━━━━━━━━━┩\n",
       "│ dense_14 (\u001b[38;5;33mDense\u001b[0m)                │ (\u001b[38;5;45mNone\u001b[0m, \u001b[38;5;34m512\u001b[0m)            │       \u001b[38;5;34m512,512\u001b[0m │\n",
       "├─────────────────────────────────┼────────────────────────┼───────────────┤\n",
       "│ dropout_2 (\u001b[38;5;33mDropout\u001b[0m)             │ (\u001b[38;5;45mNone\u001b[0m, \u001b[38;5;34m512\u001b[0m)            │             \u001b[38;5;34m0\u001b[0m │\n",
       "├─────────────────────────────────┼────────────────────────┼───────────────┤\n",
       "│ dense_15 (\u001b[38;5;33mDense\u001b[0m)                │ (\u001b[38;5;45mNone\u001b[0m, \u001b[38;5;34m256\u001b[0m)            │       \u001b[38;5;34m131,328\u001b[0m │\n",
       "├─────────────────────────────────┼────────────────────────┼───────────────┤\n",
       "│ dropout_3 (\u001b[38;5;33mDropout\u001b[0m)             │ (\u001b[38;5;45mNone\u001b[0m, \u001b[38;5;34m256\u001b[0m)            │             \u001b[38;5;34m0\u001b[0m │\n",
       "├─────────────────────────────────┼────────────────────────┼───────────────┤\n",
       "│ dense_16 (\u001b[38;5;33mDense\u001b[0m)                │ (\u001b[38;5;45mNone\u001b[0m, \u001b[38;5;34m128\u001b[0m)            │        \u001b[38;5;34m32,896\u001b[0m │\n",
       "├─────────────────────────────────┼────────────────────────┼───────────────┤\n",
       "│ dense_17 (\u001b[38;5;33mDense\u001b[0m)                │ (\u001b[38;5;45mNone\u001b[0m, \u001b[38;5;34m10\u001b[0m)             │         \u001b[38;5;34m1,290\u001b[0m │\n",
       "└─────────────────────────────────┴────────────────────────┴───────────────┘\n"
      ]
     },
     "metadata": {},
     "output_type": "display_data"
    },
    {
     "data": {
      "text/html": [
       "<pre style=\"white-space:pre;overflow-x:auto;line-height:normal;font-family:Menlo,'DejaVu Sans Mono',consolas,'Courier New',monospace\"><span style=\"font-weight: bold\"> Total params: </span><span style=\"color: #00af00; text-decoration-color: #00af00\">678,026</span> (2.59 MB)\n",
       "</pre>\n"
      ],
      "text/plain": [
       "\u001b[1m Total params: \u001b[0m\u001b[38;5;34m678,026\u001b[0m (2.59 MB)\n"
      ]
     },
     "metadata": {},
     "output_type": "display_data"
    },
    {
     "data": {
      "text/html": [
       "<pre style=\"white-space:pre;overflow-x:auto;line-height:normal;font-family:Menlo,'DejaVu Sans Mono',consolas,'Courier New',monospace\"><span style=\"font-weight: bold\"> Trainable params: </span><span style=\"color: #00af00; text-decoration-color: #00af00\">678,026</span> (2.59 MB)\n",
       "</pre>\n"
      ],
      "text/plain": [
       "\u001b[1m Trainable params: \u001b[0m\u001b[38;5;34m678,026\u001b[0m (2.59 MB)\n"
      ]
     },
     "metadata": {},
     "output_type": "display_data"
    },
    {
     "data": {
      "text/html": [
       "<pre style=\"white-space:pre;overflow-x:auto;line-height:normal;font-family:Menlo,'DejaVu Sans Mono',consolas,'Courier New',monospace\"><span style=\"font-weight: bold\"> Non-trainable params: </span><span style=\"color: #00af00; text-decoration-color: #00af00\">0</span> (0.00 B)\n",
       "</pre>\n"
      ],
      "text/plain": [
       "\u001b[1m Non-trainable params: \u001b[0m\u001b[38;5;34m0\u001b[0m (0.00 B)\n"
      ]
     },
     "metadata": {},
     "output_type": "display_data"
    },
    {
     "name": "stdout",
     "output_type": "stream",
     "text": [
      "Epoch 1/20\n",
      "422/422 - 4s - 10ms/step - accuracy: 0.7034 - loss: 1.0054 - val_accuracy: 0.8833 - val_loss: 0.3614\n",
      "Epoch 2/20\n",
      "422/422 - 2s - 6ms/step - accuracy: 0.8463 - loss: 0.4647 - val_accuracy: 0.8982 - val_loss: 0.3204\n",
      "Epoch 3/20\n",
      "422/422 - 3s - 6ms/step - accuracy: 0.8697 - loss: 0.3921 - val_accuracy: 0.9213 - val_loss: 0.2458\n",
      "Epoch 4/20\n",
      "422/422 - 3s - 6ms/step - accuracy: 0.8814 - loss: 0.3565 - val_accuracy: 0.9227 - val_loss: 0.2392\n",
      "Epoch 5/20\n",
      "422/422 - 2s - 6ms/step - accuracy: 0.8949 - loss: 0.3200 - val_accuracy: 0.9338 - val_loss: 0.2169\n",
      "Epoch 6/20\n",
      "422/422 - 2s - 6ms/step - accuracy: 0.9030 - loss: 0.2946 - val_accuracy: 0.9300 - val_loss: 0.2261\n",
      "Epoch 7/20\n",
      "422/422 - 3s - 6ms/step - accuracy: 0.9059 - loss: 0.2805 - val_accuracy: 0.9353 - val_loss: 0.2110\n",
      "Epoch 8/20\n",
      "422/422 - 2s - 6ms/step - accuracy: 0.9121 - loss: 0.2673 - val_accuracy: 0.9312 - val_loss: 0.2275\n",
      "Epoch 9/20\n",
      "422/422 - 2s - 6ms/step - accuracy: 0.9162 - loss: 0.2515 - val_accuracy: 0.9398 - val_loss: 0.2045\n",
      "Epoch 10/20\n",
      "422/422 - 2s - 6ms/step - accuracy: 0.9223 - loss: 0.2355 - val_accuracy: 0.9355 - val_loss: 0.2076\n",
      "Epoch 11/20\n",
      "422/422 - 2s - 6ms/step - accuracy: 0.9233 - loss: 0.2271 - val_accuracy: 0.9400 - val_loss: 0.1942\n",
      "Epoch 12/20\n",
      "422/422 - 3s - 6ms/step - accuracy: 0.9253 - loss: 0.2228 - val_accuracy: 0.9380 - val_loss: 0.2046\n",
      "Epoch 13/20\n",
      "422/422 - 2s - 6ms/step - accuracy: 0.9314 - loss: 0.2076 - val_accuracy: 0.9362 - val_loss: 0.1964\n",
      "Epoch 14/20\n",
      "422/422 - 2s - 6ms/step - accuracy: 0.9317 - loss: 0.2038 - val_accuracy: 0.9385 - val_loss: 0.2002\n",
      "Epoch 15/20\n",
      "422/422 - 2s - 5ms/step - accuracy: 0.9376 - loss: 0.1913 - val_accuracy: 0.9443 - val_loss: 0.1939\n",
      "Epoch 16/20\n",
      "422/422 - 2s - 6ms/step - accuracy: 0.9376 - loss: 0.1845 - val_accuracy: 0.9407 - val_loss: 0.1964\n",
      "Epoch 17/20\n",
      "422/422 - 2s - 6ms/step - accuracy: 0.9398 - loss: 0.1812 - val_accuracy: 0.9383 - val_loss: 0.2028\n",
      "Epoch 18/20\n",
      "422/422 - 2s - 5ms/step - accuracy: 0.9434 - loss: 0.1692 - val_accuracy: 0.9443 - val_loss: 0.1936\n",
      "Epoch 19/20\n",
      "422/422 - 2s - 5ms/step - accuracy: 0.9420 - loss: 0.1720 - val_accuracy: 0.9427 - val_loss: 0.1988\n",
      "Epoch 20/20\n",
      "422/422 - 2s - 5ms/step - accuracy: 0.9445 - loss: 0.1647 - val_accuracy: 0.9428 - val_loss: 0.1884\n",
      "\n",
      "Test accuracy: 0.9351\n"
     ]
    },
    {
     "data": {
      "image/png": "[encoded data removed]",
      "text/plain": [
       "<Figure size 1200x500 with 2 Axes>"
      ]
     },
     "metadata": {},
     "output_type": "display_data"
    }
   ],
   "source": [
    "import numpy as np\n",
    "import tensorflow as tf\n",
    "from tensorflow.keras import layers, models\n",
    "from tensorflow.keras.datasets import mnist\n",
    "from tensorflow.keras.utils import to_categorical\n",
    "import matplotlib.pyplot as plt\n",
    "\n",
    "def getFourierConst(image, desired_length=1000):\n",
    "    \"\"\"\n",
    "    Transforms a 2D image into a 1D Fourier-based feature vector of specified length.\n",
    "    \n",
    "    Parameters:\n",
    "    - image: 2D numpy array representing the grayscale image.\n",
    "    - desired_length: The length of the output feature vector (default is 1000).\n",
    "    \n",
    "    Returns:\n",
    "    - features: 1D numpy array of length `desired_length`.\n",
    "    \"\"\"\n",
    "    # Compute 2D FFT\n",
    "    fft = np.fft.fft2(image)\n",
    "    \n",
    "    # Shift the zero-frequency component to the center\n",
    "    fft_shift = np.fft.fftshift(fft)\n",
    "    \n",
    "    # Flatten the FFT result\n",
    "    fft_flat = fft_shift.flatten()\n",
    "    \n",
    "    # Compute magnitude and phase\n",
    "    magnitude = np.abs(fft_flat)\n",
    "    phase = np.angle(fft_flat)\n",
    "    \n",
    "    # Combine magnitude and phase\n",
    "    features = np.concatenate([magnitude, phase])\n",
    "    \n",
    "    # Adjust the feature vector to the desired length\n",
    "    if len(features) > desired_length:\n",
    "        features = features[:desired_length]\n",
    "    elif len(features) < desired_length:\n",
    "        features = np.pad(features, (0, desired_length - len(features)), 'constant')\n",
    "    \n",
    "    return features\n",
    "\n",
    "# Load MNIST data\n",
    "(train_X, train_y), (test_X, test_y) = mnist.load_data()\n",
    "\n",
    "# Normalize the images to [0, 1]\n",
    "train_X = train_X.astype('float32') / 255.0\n",
    "test_X = test_X.astype('float32') / 255.0\n",
    "\n",
    "# Convert labels to one-hot encoding\n",
    "train_y = to_categorical(train_y)\n",
    "test_y = to_categorical(test_y)\n",
    "\n",
    "# Apply getFourierConst to each image in the training set\n",
    "train_features = np.array([getFourierConst(image) for image in train_X])\n",
    "\n",
    "# Apply getFourierConst to each image in the testing set\n",
    "test_features = np.array([getFourierConst(image) for image in test_X])\n",
    "\n",
    "print(f\"Transformed training data shape: {train_features.shape}\")\n",
    "print(f\"Transformed testing data shape: {test_features.shape}\")\n",
    "\n",
    "# Define the MLP model\n",
    "model = models.Sequential([\n",
    "    layers.Dense(512, activation='relu', input_shape=(1000,)),\n",
    "    layers.Dropout(0.2),\n",
    "    layers.Dense(256, activation='relu'),\n",
    "    layers.Dropout(0.2),\n",
    "    layers.Dense(128, activation='relu'),\n",
    "    layers.Dense(10, activation='softmax')\n",
    "])\n",
    "\n",
    "# Display the model architecture\n",
    "model.summary()\n",
    "\n",
    "# Compile the model\n",
    "model.compile(optimizer='adam',\n",
    "              loss='categorical_crossentropy',\n",
    "              metrics=['accuracy'])\n",
    "\n",
    "# Train the model\n",
    "history = model.fit(train_features, train_y,\n",
    "                    epochs=20,\n",
    "                    batch_size=128,\n",
    "                    validation_split=0.1,\n",
    "                    verbose=2)\n",
    "\n",
    "# Evaluate the model on the test set\n",
    "test_loss, test_acc = model.evaluate(test_features, test_y, verbose=0)\n",
    "print(f'\\nTest accuracy: {test_acc:.4f}')\n",
    "\n",
    "# Plot training & validation accuracy and loss\n",
    "plt.figure(figsize=(12, 5))\n",
    "\n",
    "# Accuracy plot\n",
    "plt.subplot(1, 2, 1)\n",
    "plt.plot(history.history['accuracy'], label='Train Accuracy', color='blue')\n",
    "plt.plot(history.history['val_accuracy'], label='Validation Accuracy', color='orange')\n",
    "plt.title('Model Accuracy')\n",
    "plt.xlabel('Epoch')\n",
    "plt.ylabel('Accuracy')\n",
    "plt.legend(loc='lower right')\n",
    "\n",
    "# Loss plot\n",
    "plt.subplot(1, 2, 2)\n",
    "plt.plot(history.history['loss'], label='Train Loss', color='blue')\n",
    "plt.plot(history.history['val_loss'], label='Validation Loss', color='orange')\n",
    "plt.title('Model Loss')\n",
    "plt.xlabel('Epoch')\n",
    "plt.ylabel('Loss')\n",
    "plt.legend(loc='upper right')\n",
    "\n",
    "plt.tight_layout()\n",
    "plt.show()\n"
   ]
  },
  {
   "cell_type": "code",
   "execution_count": 23,
   "metadata": {},
   "outputs": [
    {
     "data": {
      "text/plain": [
       "(60000, 1000)"
      ]
     },
     "execution_count": 23,
     "metadata": {},
     "output_type": "execute_result"
    }
   ],
   "source": [
    "train_features.shape"
   ]
  },
  {
   "cell_type": "code",
   "execution_count": null,
   "metadata": {},
   "outputs": [],
   "source": []
  }
 ],
 "metadata": {
  "kernelspec": {
   "display_name": ".venv",
   "language": "python",
   "name": "python3"
  },
  "language_info": {
   "codemirror_mode": {
    "name": "ipython",
    "version": 3
   },
   "file_extension": ".py",
   "mimetype": "text/x-python",
   "name": "python",
   "nbconvert_exporter": "python",
   "pygments_lexer": "ipython3",
   "version": "3.12.7"
  }
 },
 "nbformat": 4,
 "nbformat_minor": 2
}
