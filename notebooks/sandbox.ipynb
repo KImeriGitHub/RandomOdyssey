{
 "cells": [
  {
   "cell_type": "code",
   "execution_count": 1,
   "metadata": {},
   "outputs": [],
   "source": [
    "import sys\n",
    "import os\n",
    "\n",
    "# Get the absolute path to the project directory\n",
    "project_dir = os.path.abspath(\"..\")\n",
    "\n",
    "# Append the project directory to sys.path\n",
    "if project_dir not in sys.path:\n",
    "    sys.path.append(project_dir)"
   ]
  },
  {
   "cell_type": "code",
   "execution_count": 2,
   "metadata": {},
   "outputs": [],
   "source": [
    "import yfinance as yf\n",
    "import pandas as pd\n",
    "import datetime as dt\n",
    "import matplotlib.pyplot as plt\n",
    "import msgpack\n",
    "import warnings\n",
    "from dataclasses import asdict, is_dataclass, dataclass\n",
    "import os\n",
    "import msgpack\n",
    "import json\n",
    "import pickle\n",
    "from pandas.api.types import is_datetime64_any_dtype\n",
    "\n",
    "from src.common.AssetData import AssetData\n",
    "from src.common.AssetDataService import AssetDataService\n",
    "from src.common.AssetFileInOut import AssetFileInOut \n",
    "from src.databaseService.OutsourceLoader import OutsourceLoader\n",
    "\n",
    "from src.simulation.SimulatePortfolio import SimulatePortfolio\n",
    "from src.strategy.StratBuyAndHold import StratBuyAndHold\n",
    "from src.simulation.ResultAnalyzer import ResultAnalyzer\n",
    "from src.common.AssetFileInOut import AssetFileInOut\n"
   ]
  },
  {
   "cell_type": "code",
   "execution_count": 3,
   "metadata": {},
   "outputs": [
    {
     "data": {
      "text/plain": [
       "DatetimeIndex(['2022-09-30 00:00:00+02:00', '2022-10-03 00:00:00+02:00',\n",
       "               '2022-10-04 00:00:00+02:00', '2022-10-05 00:00:00+02:00',\n",
       "               '2022-10-06 00:00:00+02:00', '2022-10-07 00:00:00+02:00',\n",
       "               '2022-10-10 00:00:00+02:00', '2022-10-11 00:00:00+02:00',\n",
       "               '2022-10-12 00:00:00+02:00', '2022-10-13 00:00:00+02:00',\n",
       "               ...\n",
       "               '2024-09-06 00:00:00+02:00', '2024-09-09 00:00:00+02:00',\n",
       "               '2024-09-10 00:00:00+02:00', '2024-09-11 00:00:00+02:00',\n",
       "               '2024-09-12 00:00:00+02:00', '2024-09-13 00:00:00+02:00',\n",
       "               '2024-09-16 00:00:00+02:00', '2024-09-17 00:00:00+02:00',\n",
       "               '2024-09-18 00:00:00+02:00', '2024-09-19 00:00:00+02:00'],\n",
       "              dtype='datetime64[ns, Europe/Zurich]', length=497, freq=None)"
      ]
     },
     "execution_count": 3,
     "metadata": {},
     "output_type": "execute_result"
    }
   ],
   "source": [
    "asset = AssetFileInOut(\"../src/database\").loadFromFile('goog')  # Example ticker\n",
    "asset2 = AssetFileInOut(\"../src/database\").loadFromFile('acln.sw')  # Example ticker\n",
    "strategy = StratBuyAndHold(target_ticker='goog')\n",
    "\n",
    "asset2.shareprice.index"
   ]
  },
  {
   "cell_type": "code",
   "execution_count": 7,
   "metadata": {},
   "outputs": [],
   "source": [
    "import datetime\n",
    "\n",
    "simulation = SimulatePortfolio(\n",
    "        initialCash=10000,\n",
    "        strategy=strategy,\n",
    "        assets=[asset],\n",
    "        startDate=pd.Timestamp(2010, 1, 1),\n",
    "        endDate=pd.Timestamp(2020, 1, 1)\n",
    "    )"
   ]
  },
  {
   "cell_type": "code",
   "execution_count": 20,
   "metadata": {},
   "outputs": [
    {
     "data": {
      "text/plain": [
       "0                             NaT\n",
       "1                             NaT\n",
       "2                             NaT\n",
       "3                             NaT\n",
       "4                             NaT\n",
       "                   ...           \n",
       "33912   2019-12-26 00:00:00+00:00\n",
       "33913   2019-12-27 00:00:00+00:00\n",
       "33914   2019-12-30 00:00:00+00:00\n",
       "33915   2019-12-31 00:00:00+00:00\n",
       "33916   2020-01-01 00:00:00+00:00\n",
       "Name: Date, Length: 33917, dtype: datetime64[ns, UTC]"
      ]
     },
     "execution_count": 20,
     "metadata": {},
     "output_type": "execute_result"
    }
   ],
   "source": [
    "# Run simulation\n",
    "simulation.run()\n",
    "\n",
    "# Analyze results\n",
    "#analyzer = ResultAnalyzer(simulation.portfolio)\n",
    "#analyzer.plot_portfolio_value()\n",
    "\n",
    "a= simulation.portfolio.history\n",
    "a[\"Date\"]"
   ]
  },
  {
   "cell_type": "code",
   "execution_count": 19,
   "metadata": {},
   "outputs": [
    {
     "data": {
      "text/plain": [
       "DatetimeIndex(['2010-01-01', '2010-01-04', '2010-01-05', '2010-01-06',\n",
       "               '2010-01-07', '2010-01-08', '2010-01-11', '2010-01-12',\n",
       "               '2010-01-13', '2010-01-14',\n",
       "               ...\n",
       "               '2019-12-19', '2019-12-20', '2019-12-23', '2019-12-24',\n",
       "               '2019-12-25', '2019-12-26', '2019-12-27', '2019-12-30',\n",
       "               '2019-12-31', '2020-01-01'],\n",
       "              dtype='datetime64[ns]', length=2609, freq='B')"
      ]
     },
     "execution_count": 19,
     "metadata": {},
     "output_type": "execute_result"
    }
   ],
   "source": [
    "dates = pd.date_range(datetime.datetime(2010, 1, 1), datetime.datetime(2020, 1, 1), freq='B')\n",
    "dates "
   ]
  },
  {
   "cell_type": "code",
   "execution_count": 40,
   "metadata": {},
   "outputs": [
    {
     "data": {
      "text/plain": [
       "Timestamp('2023-01-03 00:00:00-0500', tz='America/New_York')"
      ]
     },
     "execution_count": 40,
     "metadata": {},
     "output_type": "execute_result"
    }
   ],
   "source": [
    "pd.Timestamp('2023-01-03', tz='America/New_York')"
   ]
  },
  {
   "cell_type": "code",
   "execution_count": 53,
   "metadata": {},
   "outputs": [
    {
     "data": {
      "text/plain": [
       "NaT"
      ]
     },
     "execution_count": 53,
     "metadata": {},
     "output_type": "execute_result"
    }
   ],
   "source": [
    "asset.shareprice[asset.shareprice.index > pd.Timestamp('2029-01-03', tz='UTC')].index.min()"
   ]
  },
  {
   "cell_type": "code",
   "execution_count": 50,
   "metadata": {},
   "outputs": [
    {
     "data": {
      "text/plain": [
       "True"
      ]
     },
     "execution_count": 50,
     "metadata": {},
     "output_type": "execute_result"
    }
   ],
   "source": [
    "(asset.shareprice.index[2].tz_convert(None) > pd.Timestamp('2004-08-22')) & (asset.shareprice.index[2].tz_convert(None) < pd.Timestamp('2004-08-24'))"
   ]
  },
  {
   "cell_type": "code",
   "execution_count": 52,
   "metadata": {},
   "outputs": [
    {
     "data": {
      "text/plain": [
       "pandas._libs.tslibs.timestamps.Timestamp"
      ]
     },
     "execution_count": 52,
     "metadata": {},
     "output_type": "execute_result"
    }
   ],
   "source": [
    "type(asset.shareprice.index[2].tz_convert(None))"
   ]
  },
  {
   "cell_type": "code",
   "execution_count": 65,
   "metadata": {},
   "outputs": [
    {
     "data": {
      "text/plain": [
       "0"
      ]
     },
     "execution_count": 65,
     "metadata": {},
     "output_type": "execute_result"
    }
   ],
   "source": [
    "import numpy as np\n",
    "np.argmax(asset.shareprice.index > pd.Timestamp('2003-08-18', tz='UTC'))"
   ]
  },
  {
   "cell_type": "code",
   "execution_count": null,
   "metadata": {},
   "outputs": [],
   "source": []
  }
 ],
 "metadata": {
  "kernelspec": {
   "display_name": "Python 3",
   "language": "python",
   "name": "python3"
  },
  "language_info": {
   "codemirror_mode": {
    "name": "ipython",
    "version": 3
   },
   "file_extension": ".py",
   "mimetype": "text/x-python",
   "name": "python",
   "nbconvert_exporter": "python",
   "pygments_lexer": "ipython3",
   "version": "3.11.3"
  }
 },
 "nbformat": 4,
 "nbformat_minor": 2
}
