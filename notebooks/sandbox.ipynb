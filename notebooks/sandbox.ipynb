{
 "cells": [
  {
   "cell_type": "code",
   "execution_count": 1,
   "metadata": {},
   "outputs": [],
   "source": [
    "import sys\n",
    "import os\n",
    "\n",
    "# Get the absolute path to the project directory\n",
    "project_dir = os.path.abspath(\"..\")\n",
    "\n",
    "# Append the project directory to sys.path\n",
    "if project_dir not in sys.path:\n",
    "    sys.path.append(project_dir)\n",
    "\n",
    "import yfinance as yf\n",
    "import pandas as pd\n",
    "import datetime as dt\n",
    "import matplotlib.pyplot as plt\n",
    "import warnings\n",
    "from dataclasses import asdict, is_dataclass, dataclass\n",
    "import os\n",
    "import json\n",
    "import pickle\n",
    "from pandas.api.types import is_datetime64_any_dtype\n",
    "import scipy\n",
    "import numpy as np\n",
    "from scipy.stats import linregress\n",
    "import bisect\n",
    "from scipy import stats\n",
    "\n",
    "from src.common.AssetData import AssetData\n",
    "from src.common.AssetDataService import AssetDataService\n",
    "from src.common.AssetFileInOut import AssetFileInOut \n",
    "from src.databaseService.OutsourceLoader import OutsourceLoader\n",
    "\n",
    "from src.simulation.SimulatePortfolio import SimulatePortfolio\n",
    "from src.strategy.StratBuyAndHold import StratBuyAndHold\n",
    "from src.simulation.ResultAnalyzer import ResultAnalyzer\n",
    "from src.common.AssetFileInOut import AssetFileInOut\n",
    "from src.mathTools.CurveAnalysis import CurveAnalysis\n",
    "from src.predictionModule.FourierML import FourierML\n",
    "from src.common.YamlTickerInOut import YamlTickerInOut\n",
    "from src.common.DataFrameTimeOperations import DataFrameTimeOperationsPandas as DFTO\n",
    "from src.mathTools.SpecialMatrix import SpecialMatrix\n",
    "from src.mathTools.DistributionTools import DistributionTools\n"
   ]
  },
  {
   "cell_type": "code",
   "execution_count": 12,
   "metadata": {},
   "outputs": [
    {
     "name": "stdout",
     "output_type": "stream",
     "text": [
      "\n",
      "Full dense matrix A_full:\n",
      " [[0.2        0.16666667 0.14285714 0.125      0.11111111 0.\n",
      "  0.         0.         0.         0.         0.         0.\n",
      "  0.         0.         0.         0.         0.         0.\n",
      "  0.         0.         0.         0.         0.         0.\n",
      "  0.         0.         0.         0.         0.         0.\n",
      "  0.         0.         0.         0.         0.         0.\n",
      "  0.         0.         0.         0.         0.         0.\n",
      "  0.         0.         0.         0.         0.         0.\n",
      "  0.         0.         0.         0.         0.         0.\n",
      "  0.         0.         0.         0.         0.         0.        ]]\n",
      "All are close: True\n"
     ]
    }
   ],
   "source": [
    "num_sam_tr = 60  # matrix size\n",
    "n_diags = 4      # number of off-diagonals on each side\n",
    "A_sparse = SpecialMatrix.boundedDiagonal_oneNetCol(num_sam_tr, n_diags)\n",
    "\n",
    "# For demonstration: print the sparse matrix in dense form.\n",
    "A_full = A_sparse.todense()\n",
    "\n",
    "# --- 3. Print the matrices ---\n",
    "print(\"\\nFull dense matrix A_full:\\n\", A_full[0])\n",
    "#print(\"\\nSparse matrix A_sparse:\")\n",
    "#print(A_sparse)\n",
    "\n",
    "# --- 4. Matrix-vector multiplication ---\n",
    "x = np.random.rand(num_sam_tr)\n",
    "y_full = A_full @ x\n",
    "y_sparse = A_sparse @ x\n",
    "\n",
    "print(\"All are close:\", np.allclose(y_full, y_sparse))  # True"
   ]
  },
  {
   "cell_type": "code",
   "execution_count": null,
   "metadata": {},
   "outputs": [
    {
     "name": "stdout",
     "output_type": "stream",
     "text": [
      "\n",
      "Inverse matrix-vector multiplication (solving A*y = x):\n",
      "Absolute difference:\n",
      " 2600040400926568.0\n",
      "Dense matrix:\n",
      "  Numerical rank: 7\n",
      "  Determinant: 2.0706540538643876e-17\n"
     ]
    },
    {
     "data": {
      "text/plain": [
       "matrix([[ 0.45067453],\n",
       "        [-0.14372927],\n",
       "        [-0.20424094],\n",
       "        [-0.54761511],\n",
       "        [ 0.49338753],\n",
       "        [ 0.45388748],\n",
       "        [-0.31895834],\n",
       "        [-0.18340588]])"
      ]
     },
     "execution_count": 6,
     "metadata": {},
     "output_type": "execute_result"
    }
   ],
   "source": [
    "import scipy.sparse.linalg as spla\n",
    "\n",
    "\n",
    "num_sam_tr = 8  # matrix size\n",
    "n_diags = 3      # number of off-diagonals on each side\n",
    "A_sparse = SpecialMatrix.boundedDiagonal_sparse(num_sam_tr, n_diags)\n",
    "\n",
    "# For demonstration: print the sparse matrix in dense form.\n",
    "A_full = A_sparse.todense()\n",
    "\n",
    "## --- 5. Inverse matrix-vector multiplication ---\n",
    "x = np.random.rand(num_sam_tr)\n",
    "## Solve A*y = x for y.\n",
    "y_inv_full = np.linalg.solve(A_full, x)\n",
    "y_inv_sparse = spla.spsolve(A_sparse, x)\n",
    "print(\"\\nInverse matrix-vector multiplication (solving A*y = x):\")\n",
    "print(\"Absolute difference:\\n\", np.mean(np.abs(y_inv_full - y_inv_sparse)))\n",
    "\n",
    "# --- Compute numerical rank and determinant for the dense matrix A_full ---\n",
    "U, s, Vh = np.linalg.svd(A_full)\n",
    "tol = max(A_full.shape) * np.amax(s) * np.finfo(s.dtype).eps\n",
    "num_rank_full = np.sum(s > tol)\n",
    "det_full = np.linalg.det(A_full)\n",
    "print(\"Dense matrix:\")\n",
    "print(\"  Numerical rank:\", num_rank_full)\n",
    "print(\"  Determinant:\", det_full)"
   ]
  },
  {
   "cell_type": "code",
   "execution_count": null,
   "metadata": {},
   "outputs": [
    {
     "name": "stdout",
     "output_type": "stream",
     "text": [
      "Result of circulant multiply: [ 0.21012606 -0.13314346  0.15737162  0.02087521 -0.03788862 -0.15362854\n",
      "  0.15314803 -0.16258518  0.37174242 -0.10257611 -0.03736177 -0.26782281\n",
      " -0.06814705  0.04932619  0.29093784 -0.02471498 -0.33416127  0.04366359\n",
      "  0.22688358 -0.20203418]\n",
      "Lowest eigenvalue: 9.999999999177334e-07\n",
      "Original x: [0.24748827 0.60572137 0.29671893 0.45556372 0.54210204 0.67540687\n",
      " 0.34681953 0.68082847 0.12293884 0.66881797 0.64903305 0.91469166\n",
      " 0.68131546 0.51208106 0.23120074 0.58238626 0.92121761 0.4864869\n",
      " 0.25784285 0.69901605]\n",
      "Recovered x: [0.24748827 0.60572137 0.29671893 0.45556372 0.54210204 0.67540687\n",
      " 0.34681953 0.68082847 0.12293884 0.66881797 0.64903305 0.91469166\n",
      " 0.68131546 0.51208106 0.23120074 0.58238626 0.92121761 0.4864869\n",
      " 0.25784285 0.69901605]\n"
     ]
    }
   ],
   "source": [
    "import numpy as np\n",
    "\n",
    "def circulant_multiply(c, x):\n",
    "    \"\"\"Multiply circulant matrix (defined by first column c) by vector x.\"\"\"\n",
    "    return np.real(np.fft.ifft(np.fft.fft(c) * np.fft.fft(x)))\n",
    "\n",
    "def circulant_inverse_multiply(c, b):\n",
    "    \"\"\"Solve Ax = b for circulant matrix A defined by first column c.\"\"\"\n",
    "    eigenvalues = np.fft.fft(c)\n",
    "    print(f\"Lowest eigenvalue: {np.min(np.abs(eigenvalues))}\")\n",
    "    if np.any(np.abs(eigenvalues) < 1e-12):\n",
    "        raise ValueError(\"Circulant matrix is singular!\")\n",
    "    return np.real(np.fft.ifft(np.fft.fft(b) / eigenvalues))\n",
    "\n",
    "def circulant_coeffs(n, a):\n",
    "    # Compute cyclic distances: d[k] = min(k, n-k)\n",
    "    d = np.minimum(np.arange(n), n - np.arange(n))\n",
    "    # Exponential decay: main diagonal is 1, neighbors decay as exp(-a*d)\n",
    "    coeffs = np.exp(-a * d)\n",
    "    # Normalize so the coefficients sum to 1\n",
    "    return coeffs / coeffs.sum()\n",
    "# Example usage:\n",
    "num_sam_tr = 20\n",
    "c = circulant_coeffs(num_sam_tr, 0.5)  # first column of the circulant matrix\n",
    "eps = 1e-6 # to avoid singular matrix\n",
    "c[0] -= 1 - eps\n",
    "x = np.random.rand(num_sam_tr)  # vector to multiply\n",
    "\n",
    "# Multiply circulant matrix by x\n",
    "y = circulant_multiply(c, x)\n",
    "print(\"Result of circulant multiply:\", y)\n",
    "\n",
    "# Now, solve Ax = y to recover x\n",
    "x_recovered = circulant_inverse_multiply(c, y)\n",
    "print(\"Original x:\", x)\n",
    "print(\"Recovered x:\", x_recovered)"
   ]
  },
  {
   "cell_type": "code",
   "execution_count": 7,
   "metadata": {},
   "outputs": [
    {
     "name": "stdout",
     "output_type": "stream",
     "text": [
      "0.8001271413189974\n",
      "0.30741876695259523\n"
     ]
    }
   ],
   "source": [
    "num_sam_tr = 50000\n",
    "num_sam_te = 1000\n",
    "diagonal_num = 0\n",
    "n_feat = 10\n",
    "sam_tr = np.zeros((num_sam_tr, n_feat), dtype=float)\n",
    "sam_te = np.zeros((num_sam_te, n_feat), dtype=float)\n",
    "\n",
    "for i in range(n_feat):\n",
    "    sam_tr[:,i] = np.random.normal(loc=0-i/5000, scale=2+i/3000, size=num_sam_tr) #train\n",
    "    sam_te[:,i] = np.random.normal(loc=0+i/5000, scale=1-i/3000, size=num_sam_te) #test\n",
    "sam_te[:,-3] = np.random.normal(loc=0+0.3, scale=1, size=num_sam_te) + np.random.normal(loc=-0.3, scale=1.2, size=num_sam_te)\n",
    "sam_te[:,-2] = np.random.uniform(low=-0.5, high=0.5, size=num_sam_te)\n",
    "sam_te[:,-1] = np.random.uniform(low=-1.9, high=1.9, size=num_sam_te)\n",
    "\n",
    "argsort_sam_tr = np.argsort(sam_tr, axis=0)\n",
    "argsort_sam_te = np.argsort(sam_te, axis=0)\n",
    "re_argsort_sam_tr = np.argsort(argsort_sam_tr, axis=0)\n",
    "re_argsort_sam_te = np.argsort(argsort_sam_te, axis=0)\n",
    "sort_sam_tr = np.sort(sam_tr, axis=0)\n",
    "sort_sam_te = np.sort(sam_te, axis=0)\n",
    "\n",
    "ksDist = DistributionTools.ksDistance(sam_tr, sam_te, weights=None)\n",
    "print(ksDist.mean())\n",
    "\n",
    "importance = np.zeros(n_feat)\n",
    "importance[0] = 1\n",
    "s = DistributionTools.establishMatchingWeight_test(sam_tr, sam_te, 10, 0.4)\n",
    "#s = weights @ importance\n",
    "\n",
    "ksDist_s = DistributionTools.ksDistance(sam_tr, sam_te, weights=s)\n",
    "print(ksDist_s.mean())\n",
    "\n",
    "fig, axs = plt.subplots(n_feat, 1, figsize=(6, 4 * n_feat))\n",
    "for cube_idx in range(n_feat):\n",
    "    # sort s according to the training samples for this cube_idx\n",
    "    s_sorted = s[argsort_sam_tr[:, cube_idx]]\n",
    "    s_cum = np.cumsum(s_sorted) / np.sum(s_sorted)\n",
    "    \n",
    "    axs[cube_idx].scatter(sort_sam_tr[:, cube_idx], s_cum,\n",
    "                           label='S Distribution', marker='.', edgecolors='blue')\n",
    "    axs[cube_idx].scatter(sort_sam_te[:, cube_idx],\n",
    "                           np.linspace(0, 1, num_sam_te),\n",
    "                           label='Test Distribution', marker='.', edgecolors='red')\n",
    "    axs[cube_idx].set_title(f'Sample Distribution (cube_idx = {cube_idx})')\n",
    "    axs[cube_idx].set_xlabel('x')\n",
    "    axs[cube_idx].set_ylabel('Density')\n",
    "    axs[cube_idx].legend()\n",
    "\n",
    "plt.legend()\n",
    "plt.tight_layout()\n",
    "plt.show()\n",
    "    "
   ]
  },
  {
   "cell_type": "code",
   "execution_count": 5,
   "metadata": {},
   "outputs": [
    {
     "data": {
      "text/plain": [
       "array([0.32109053, 0.34814003, 0.325643  , 0.09236356, 0.70709246,\n",
       "       0.3234183 ])"
      ]
     },
     "execution_count": 5,
     "metadata": {},
     "output_type": "execute_result"
    }
   ],
   "source": [
    "ksDist_s"
   ]
  },
  {
   "cell_type": "code",
   "execution_count": 20,
   "metadata": {},
   "outputs": [
    {
     "name": "stdout",
     "output_type": "stream",
     "text": [
      "[1 1 3]\n"
     ]
    }
   ],
   "source": [
    "import bisect\n",
    "\n",
    "def count_entries_between(v, w):\n",
    "    lo = np.searchsorted(w, v[:-1], side=\"right\")\n",
    "    hi = np.searchsorted(w, v[1:], side=\"left\")\n",
    "    return hi - lo\n",
    "\n",
    "# Example usage:\n",
    "v = [1, 3, 5, 10]\n",
    "w = [2, 4, 6, 7, 9]\n",
    "print(count_entries_between(v, w))\n",
    "\n",
    "w=np.array(w).astype(int)\n"
   ]
  },
  {
   "cell_type": "code",
   "execution_count": 51,
   "metadata": {},
   "outputs": [],
   "source": [
    "import numpy as np\n",
    "import matplotlib.pyplot as plt\n",
    "\n",
    "np.random.seed(0)\n",
    "num_sam_tr = 1000\n",
    "# Generate samples from a normal distribution\n",
    "data = np.random.normal(loc=0, scale=1, size=num_sam_tr)\n",
    "\n",
    "# Create random weights and normalize them to sum to 1\n",
    "weights = np.random.rand(num_sam_tr)+0.5\n",
    "weights /= weights.sum()\n",
    "\n",
    "# Sort data and associated weights\n",
    "sorted_indices = np.argsort(data)\n",
    "data_sorted = data[sorted_indices]\n",
    "weights_sorted = weights[sorted_indices]\n",
    "\n",
    "# Compute the weighted cumulative sum (CDF)\n",
    "cdf = np.cumsum(weights_sorted)\n",
    "\n",
    "# Plot the weighted CDF\n",
    "plt.step(data_sorted, cdf, where='post')\n",
    "plt.xlabel('Data')\n",
    "plt.ylabel('Weighted CDF')\n",
    "plt.title('Weighted CDF for Normal Distribution')\n",
    "plt.show()"
   ]
  },
  {
   "cell_type": "code",
   "execution_count": 71,
   "metadata": {},
   "outputs": [
    {
     "name": "stdout",
     "output_type": "stream",
     "text": [
      "100000.0\n",
      "100000.0\n",
      "100000.0\n"
     ]
    }
   ],
   "source": [
    "num_sam2 = 100000\n",
    "num_sam1 = 100000//10\n",
    "sam1 = np.random.normal(loc=0, scale=1, size=num_sam1) #test\n",
    "sam2 = np.random.normal(loc=0, scale=2, size=num_sam2) #train\n",
    "\n",
    "argsort_sam1 = np.argsort(sam1)\n",
    "argsort_sam2 = np.argsort(sam2)\n",
    "sort_sam1 = sam1[argsort_sam1]\n",
    "sort_sam2 = sam2[argsort_sam2]\n",
    "\n",
    "#diff_sort_sam1 = np.diff(sort_sam1)\n",
    "#diff_sort_sam2 = np.diff(sort_sam2)\n",
    "#diff_xpts = np.diff(xpts)\n",
    "#\n",
    "#quot_sam1 = diff_xpts / diff_sort_sam1\n",
    "#quot_sam2 = diff_xpts / diff_sort_sam2\n",
    "#\n",
    "#quot = quot_sam1 / quot_sam2\n",
    "\n",
    "def count_entries_between(v, w):\n",
    "    lo = np.searchsorted(w, v[:-1], side=\"right\")\n",
    "    hi = np.searchsorted(w, v[1:], side=\"left\")\n",
    "    return hi - lo\n",
    "def smooth_array(data, window_size=3):\n",
    "    # Create a uniform window\n",
    "    window = np.ones(window_size) / window_size\n",
    "    # Convolve while keeping the output length the same\n",
    "    return np.convolve(data, window, mode='same')\n",
    "\n",
    "weights2 = count_entries_between(sort_sam2, sort_sam1)\n",
    "weights2 = smooth_array(weights2, window_size = 10)\n",
    "#weights2 = np.ones(num_sam2)\n",
    "weights2 = np.insert(weights2, 0, weights2[0])\n",
    "weights2 *= num_sam2/np.sum(weights2)\n",
    "\n",
    "weights0 = np.ones(num_sam2)\n",
    "cdf2 = np.cumsum(weights2)\n",
    "cdf2 = cdf2 / cdf2[-1]\n",
    "weights2_org = weights2[np.argsort(argsort_sam1)]\n",
    "plt.plot(weights2)\n",
    "plt.show()\n",
    "\n",
    "print(np.cumsum(weights2)[-1])\n",
    "print(np.cumsum(weights0)[-1])\n",
    "print(np.sum(weights0))\n",
    "# Plot the weighted CDF\n",
    "plt.step(sort_sam2, cdf2, where='post', color='green')\n",
    "plt.xlabel('Data')\n",
    "plt.ylabel('Weighted CDF')\n",
    "plt.title('Weighted Cumulative Distribution Function')\n",
    "\n",
    "#isam1 = np.searchsorted(sort_sam1, xpts)\n",
    "\n",
    "plt.scatter(sort_sam1, np.linspace(0, 1, num_sam1), label='Sam test', marker='.', linestyle='--', linewidths=0.1, edgecolors='blue')\n",
    "plt.scatter(sort_sam2, np.linspace(0, 1, num_sam2), label='Sam train', marker='.', linestyle='--', linewidths=0.1, edgecolors='red')\n",
    "plt.title('samples')\n",
    "plt.xlabel('x')\n",
    "plt.ylabel('Density')\n",
    "plt.legend()\n",
    "plt.show()"
   ]
  },
  {
   "cell_type": "code",
   "execution_count": null,
   "metadata": {},
   "outputs": [
    {
     "name": "stdout",
     "output_type": "stream",
     "text": [
      "Estimated PDF at x = 1.0: [0.24313536]\n"
     ]
    }
   ],
   "source": [
    "import numpy as np\n",
    "import seaborn as sns\n",
    "import matplotlib.pyplot as plt\n",
    "from scipy.stats import gaussian_kde\n",
    "\n",
    "# Define the sampling function\n",
    "def f():\n",
    "    return np.random.normal(loc=0, scale=1)\n",
    "\n",
    "# Generate samples\n",
    "num_samples = 1000000\n",
    "samples = [f() for _ in range(num_samples)]\n",
    "subsample = np.array([f() for _ in range(1000)])\n",
    "\n",
    "# Estimate PDF using scipy's gaussian_kde\n",
    "kde = gaussian_kde(samples)\n",
    "\n",
    "interp_num = 50\n",
    "interp_pts_train = np.linspace(np.min(samples), np.max(samples), interp_num)\n",
    "kde_train_values = gaussian_kde(samples)(interp_pts_train)\n",
    "interp_values_train = np.interp(subsample, interp_pts_train, kde_train_values)\n",
    "\n",
    "# Plot the estimated PDF and the true PDF\n",
    "plt.scatter(subsample, interp_values_train, label='Estimated PDF (KDE)', marker='o', linestyle='--')\n",
    "plt.scatter(subsample, (1/np.sqrt(2*np.pi)) * np.exp(-0.5 * subsample**2), \n",
    "         label='True PDF', marker='o', linestyle='--')\n",
    "plt.title('PDF Estimation')\n",
    "plt.xlabel('x')\n",
    "plt.ylabel('Density')\n",
    "plt.legend()\n",
    "plt.show()\n",
    "\n",
    "# Evaluate the PDF at a specific point\n",
    "x = 1.0\n",
    "pdf_at_x = kde(x)\n",
    "print(f\"Estimated PDF at x = {x}: {pdf_at_x}\")\n",
    "\n"
   ]
  },
  {
   "cell_type": "code",
   "execution_count": 20,
   "metadata": {},
   "outputs": [
    {
     "name": "stderr",
     "output_type": "stream",
     "text": [
      "c:\\Users\\kimer\\Desktop\\RandomOdyssey\\.venv\\Lib\\site-packages\\lightgbm\\engine.py:204: UserWarning: Found `num_boost_round` in params. Will use it instead of argument\n",
      "  _log_warning(f\"Found `{alias}` in params. Will use it instead of argument\")\n"
     ]
    },
    {
     "name": "stdout",
     "output_type": "stream",
     "text": [
      "Best iteration:  0\n",
      "Accuracy with ALL features: 0.9737\n",
      "(114, 30)\n",
      "Number of features:  30\n",
      "Feature importance:                      feature  mean_abs_shap\n",
      "27     worst concave points       2.611242\n",
      "26          worst concavity       2.143525\n",
      "7       mean concave points       1.864656\n",
      "23               worst area       1.837768\n",
      "22          worst perimeter       1.796640\n",
      "21            worst texture       1.307580\n",
      "1              mean texture       1.273500\n",
      "13               area error       1.201572\n",
      "28           worst symmetry       1.099332\n",
      "15        compactness error       0.989048\n",
      "3                 mean area       0.641268\n",
      "24         worst smoothness       0.596307\n",
      "20             worst radius       0.579570\n",
      "18           symmetry error       0.538147\n",
      "4           mean smoothness       0.522940\n",
      "6            mean concavity       0.415951\n",
      "10             radius error       0.337194\n",
      "5          mean compactness       0.333418\n",
      "17     concave points error       0.281908\n",
      "8             mean symmetry       0.279179\n",
      "9    mean fractal dimension       0.205691\n",
      "16          concavity error       0.179998\n",
      "12          perimeter error       0.070536\n",
      "14         smoothness error       0.065760\n",
      "25        worst compactness       0.062233\n",
      "19  fractal dimension error       0.059964\n",
      "2            mean perimeter       0.054624\n",
      "11            texture error       0.043092\n",
      "0               mean radius       0.041648\n",
      "29  worst fractal dimension       0.028898\n"
     ]
    },
    {
     "name": "stderr",
     "output_type": "stream",
     "text": [
      "c:\\Users\\kimer\\Desktop\\RandomOdyssey\\.venv\\Lib\\site-packages\\lightgbm\\engine.py:204: UserWarning: Found `num_boost_round` in params. Will use it instead of argument\n",
      "  _log_warning(f\"Found `{alias}` in params. Will use it instead of argument\")\n"
     ]
    },
    {
     "name": "stdout",
     "output_type": "stream",
     "text": [
      "Accuracy with top 10 features: 0.9737\n"
     ]
    }
   ],
   "source": [
    "import lightgbm as lgb\n",
    "import shap\n",
    "import pandas as pd\n",
    "import numpy as np\n",
    "from sklearn.model_selection import train_test_split\n",
    "from sklearn.metrics import accuracy_score\n",
    "\n",
    "# Load dataset\n",
    "from sklearn.datasets import load_breast_cancer\n",
    "data = load_breast_cancer()\n",
    "df = pd.DataFrame(data.data, columns=data.feature_names)\n",
    "df['target'] = data.target\n",
    "\n",
    "X = df.drop('target', axis=1)\n",
    "y = df['target']\n",
    "\n",
    "# Split data\n",
    "X_train, X_test, y_train, y_test = train_test_split(X, y, test_size=0.2, random_state=42)\n",
    "\n",
    "# Train LightGBM\n",
    "train_data = lgb.Dataset(X_train, label=y_train)\n",
    "test_data = lgb.Dataset(X_test, label=y_test, reference=train_data)\n",
    "\n",
    "params = {\n",
    "    'objective': 'binary',\n",
    "    'metric': 'binary_logloss',\n",
    "    'verbosity': -1,\n",
    "    'num_boost_round': 1000,\n",
    "    'boosting_type': 'gbdt',\n",
    "    'seed': 42\n",
    "}\n",
    "\n",
    "gbm = lgb.train(params,\n",
    "                train_data)\n",
    "print( \"Best iteration: \", gbm.best_iteration)\n",
    "\n",
    "y_pred = gbm.predict(X_test, num_iteration=gbm.best_iteration)\n",
    "y_pred_binary = (y_pred >= 0.5).astype(int)\n",
    "accuracy = accuracy_score(y_test, y_pred_binary)\n",
    "print(f\"Accuracy with ALL features: {accuracy:.4f}\")\n",
    "warnings.filterwarnings(\"ignore\", message=\"LightGBM binary classifier with TreeExplainer shap values output has changed to a list of ndarray\")\n",
    "# Explain with SHAP\n",
    "explainer = shap.TreeExplainer(gbm)\n",
    "shap_values = explainer.shap_values(X_test)\n",
    "\n",
    "# Feature importance\n",
    "print(shap_values.shape)\n",
    "mean_abs_shap = np.abs(shap_values).mean(axis=0)\n",
    "feature_importance = pd.DataFrame({\n",
    "    'feature': X_train.columns,\n",
    "    'mean_abs_shap': mean_abs_shap\n",
    "}).sort_values(by='mean_abs_shap', ascending=False)\n",
    "\n",
    "# Select top 10 features\n",
    "print(\"Number of features: \", len(feature_importance))\n",
    "print(\"Feature importance: \", feature_importance)\n",
    "top_n = 10\n",
    "top_features = feature_importance.head(top_n)['feature'].tolist()\n",
    "\n",
    "# Filter data\n",
    "X_train_filtered = X_train[top_features]\n",
    "X_test_filtered = X_test[top_features]\n",
    "\n",
    "# Retrain model\n",
    "train_data_filtered = lgb.Dataset(X_train_filtered, label=y_train)\n",
    "test_data_filtered = lgb.Dataset(X_test_filtered, label=y_test, reference=train_data_filtered)\n",
    "\n",
    "gbm_filtered = lgb.train(params,\n",
    "                         train_data_filtered)\n",
    "\n",
    "# Predict and evaluate\n",
    "y_pred = gbm_filtered.predict(X_test_filtered, num_iteration=gbm_filtered.best_iteration)\n",
    "y_pred_binary = (y_pred >= 0.5).astype(int)\n",
    "accuracy = accuracy_score(y_test, y_pred_binary)\n",
    "print(f\"Accuracy with top {top_n} features: {accuracy:.4f}\")\n"
   ]
  },
  {
   "cell_type": "code",
   "execution_count": 119,
   "metadata": {},
   "outputs": [
    {
     "name": "stdout",
     "output_type": "stream",
     "text": [
      "[ 7  6  5  4 11 10  9  8 12 13 14  0  2  1  3]\n",
      "2\n",
      "[False  True False  True False False False False False False False False\n",
      " False False False]\n"
     ]
    }
   ],
   "source": [
    "import numpy as np\n",
    "\n",
    "# Mock feature_importances vector\n",
    "feature_importances = np.array([0.1, 0.3, 0.2, 0.4, 0.0, 0.0, 0.0, 0.0, 0.0, 0.0, 0.0, 0.0, 0.0, 0.0, 0.0])\n",
    "\n",
    "# Parameters\n",
    "p_features = 0.1  # Select top 40% features\n",
    "\n",
    "# Original code logic\n",
    "argsort_features = np.argsort(feature_importances)\n",
    "print(argsort_features)\n",
    "pN = int(np.ceil(p_features * len(feature_importances)))\n",
    "print(pN)\n",
    "top_indices = argsort_features[-pN:]\n",
    "mask = np.zeros_like(feature_importances, dtype=bool)\n",
    "mask[top_indices] = True\n",
    "print(mask)"
   ]
  },
  {
   "cell_type": "code",
   "execution_count": 67,
   "metadata": {},
   "outputs": [
    {
     "name": "stdout",
     "output_type": "stream",
     "text": [
      "Feature Column Names:\n",
      "['feature1', 'Seasonal_Temp', 'category_type', 'feature4_rank', 'daysToReport', 'feature6', 'feature7', 'feature8', 'feature9', 'feature10']\n",
      "\n",
      "Mask (True = Keep, False = Mask):\n",
      "[ True False  True False False  True  True  True  True  True]\n"
     ]
    }
   ],
   "source": [
    "# Import necessary libraries\n",
    "import numpy as np\n",
    "import pandas as pd\n",
    "\n",
    "# Define the class with the __mask_unweightedFeatures method\n",
    "class FeatureMasker:\n",
    "    def __init__(self, X_train, featureColumnNames):\n",
    "        self.X_train = X_train\n",
    "        self.featureColumnNames = featureColumnNames\n",
    "    \n",
    "    def mask_unweightedFeatures(self):\n",
    "        feature_names = np.array(self.featureColumnNames).astype(str)\n",
    "        patterns = [\n",
    "            'Seasonal', \n",
    "            'Category', \n",
    "            'daysToReport', \n",
    "            '_rank', '_Rank', '_RANK',\n",
    "            ]\n",
    "        mask = np.ones(self.X_train.shape[1], dtype=bool)\n",
    "        for pattern in patterns:\n",
    "            mask &= ~(np.char.find(feature_names, pattern) >= 0)\n",
    "        return mask\n",
    "\n",
    "# Create sample data\n",
    "X_train = np.random.rand(100, 10)  # 100 samples, 10 features\n",
    "featureColumnNames = [\n",
    "    'feature1', 'Seasonal_Temp', 'category_type', 'feature4_rank',\n",
    "    'daysToReport', 'feature6', 'feature7', 'feature8', 'feature9', 'feature10'\n",
    "]\n",
    "\n",
    "# Instantiate the FeatureMasker\n",
    "masker = FeatureMasker(X_train, featureColumnNames)\n",
    "\n",
    "# Apply the masking method\n",
    "mask = masker.mask_unweightedFeatures()\n",
    "\n",
    "# Display the results\n",
    "print(\"Feature Column Names:\")\n",
    "print(featureColumnNames)\n",
    "print(\"\\nMask (True = Keep, False = Mask):\")\n",
    "print(mask)\n"
   ]
  },
  {
   "cell_type": "code",
   "execution_count": 27,
   "metadata": {},
   "outputs": [
    {
     "name": "stdout",
     "output_type": "stream",
     "text": [
      "1000\n",
      "801\n",
      "100\n"
     ]
    },
    {
     "data": {
      "image/png": "[encoded data removed]",
      "text/plain": [
       "<Figure size 1200x600 with 2 Axes>"
      ]
     },
     "metadata": {},
     "output_type": "display_data"
    }
   ],
   "source": [
    "# Select Source Subset Example\n",
    "import numpy as np\n",
    "import seaborn as sns\n",
    "import matplotlib.pyplot as plt\n",
    "from sklearn.linear_model import LogisticRegression\n",
    "from sklearn.neighbors import NearestNeighbors\n",
    "from sklearn.neighbors import KernelDensity\n",
    "import lightgbm as lgb\n",
    "\n",
    "def select_source_subset(source_X, target_X, fraction=0.9, random_state=None):\n",
    "    source_X, target_X = map(np.asarray, (source_X, target_X))\n",
    "    n_source = len(source_X)\n",
    "    \n",
    "    combined_X = np.vstack((source_X, target_X))\n",
    "    combined_y = np.concatenate((np.zeros(n_source), np.ones(len(target_X))))\n",
    "    \n",
    "    lgb_params  = {\n",
    "        'verbosity': -1,\n",
    "        'n_jobs': -1,\n",
    "        'is_unbalance': True,\n",
    "        'objective': 'binary',\n",
    "        'n_estimators': 16000,\n",
    "        'num_leaves': 1024*4,\n",
    "        'max_depth': 30,\n",
    "        'learning_rate': 0.1,\n",
    "        'random_state': 41,\n",
    "    }\n",
    "    \n",
    "    model = lgb.LGBMClassifier(**lgb_params)\n",
    "    model.fit(combined_X, combined_y)\n",
    "    \n",
    "    scores = model.predict_proba(combined_X)[:, 1]\n",
    "    distances, _ = NearestNeighbors(n_neighbors=1).fit(scores[n_source:].reshape(-1,1)) \\\n",
    "                                                 .kneighbors(scores[:n_source].reshape(-1,1))\n",
    "    distances = distances.ravel()\n",
    "    cutoff = np.quantile(distances, fraction)\n",
    "    \n",
    "    scores = model.predict_proba(source_X)[:, 1]\n",
    "    cutoff = np.quantile(scores, 1-fraction)\n",
    "    return scores >= cutoff\n",
    "\n",
    "# Generate synthetic data\n",
    "sns.set(style=\"whitegrid\")\n",
    "np.random.seed(42)\n",
    "source_X = np.random.multivariate_normal([0, 0], [[1, 0.5],[0.5, 1]], 1000)\n",
    "target_X = np.random.multivariate_normal([0.9, 0.9], [[1, 0.5],[0.5, 2]], 100)\n",
    "\n",
    "# Select subset\n",
    "mask = select_source_subset(source_X, target_X, fraction=0.8, random_state=42)\n",
    "selected_source = source_X[mask]\n",
    "print(len(source_X))\n",
    "print(len(selected_source))\n",
    "print(len(target_X))\n",
    "\n",
    "# Plotting\n",
    "plt.figure(figsize=(12, 6))\n",
    "\n",
    "plt.subplot(1, 2, 1)\n",
    "sns.scatterplot(x=source_X[:,0], y=source_X[:,1], label='Source', alpha=0.5)\n",
    "sns.scatterplot(x=target_X[:,0], y=target_X[:,1], label='Target', alpha=0.5)\n",
    "plt.title('Before Selection')\n",
    "\n",
    "plt.subplot(1, 2, 2)\n",
    "sns.scatterplot(x=selected_source[:,0], y=selected_source[:,1], label='Selected Source', alpha=0.7)\n",
    "sns.scatterplot(x=target_X[:,0], y=target_X[:,1], label='Target', alpha=0.7)\n",
    "plt.title('After Selection')\n",
    "\n",
    "plt.legend()\n",
    "plt.show()\n"
   ]
  },
  {
   "cell_type": "code",
   "execution_count": 46,
   "metadata": {},
   "outputs": [],
   "source": [
    "# Quantile Matching Example Notebook\n",
    "\n",
    "import numpy as np\n",
    "import seaborn as sns\n",
    "import matplotlib.pyplot as plt\n",
    "\n",
    "# Quantile Matching Function\n",
    "def quantile_matching_mask(source, target):\n",
    "    source = np.asarray(source)\n",
    "    target = np.asarray(target)\n",
    "    M = len(target)\n",
    "    N = len(source)\n",
    "    \n",
    "    # Sort source and target\n",
    "    sorted_source = np.sort(source)\n",
    "    sorted_target = np.sort(target)\n",
    "    \n",
    "    # Compute target quantiles\n",
    "    quantiles = np.linspace(0, 1, M, endpoint=False) + 0.5/M\n",
    "    \n",
    "    # Find corresponding indices in source\n",
    "    indices = (quantiles * N).astype(int)\n",
    "    indices = np.clip(indices, 0, N-1)\n",
    "    \n",
    "    # Create mask\n",
    "    mask = np.zeros(N, dtype=bool)\n",
    "    mask[indices] = True\n",
    "    return mask\n",
    "\n",
    "# Generate Source and Target with Same Support [0,1] but Different Distributions\n",
    "np.random.seed(42)\n",
    "# Source has higher density where target has higher density\n",
    "source = np.random.beta(a=4, b=3, size=10000)\n",
    "target = np.random.beta(a=3, b=4, size=2000)\n",
    "\n",
    "# Apply Quantile Matching\n",
    "mask = quantile_matching_mask(source, target)\n",
    "\n",
    "# Plotting\n",
    "sns.set(style=\"whitegrid\")\n",
    "\n",
    "plt.figure(figsize=(18, 5))\n",
    "\n",
    "# Source Distribution\n",
    "plt.subplot(1, 3, 1)\n",
    "sns.histplot(source, bins=30, kde=True, color='skyblue')\n",
    "plt.title('Source Distribution')\n",
    "\n",
    "# Target Distribution\n",
    "plt.subplot(1, 3, 2)\n",
    "sns.histplot(target, bins=30, kde=True, color='salmon')\n",
    "plt.title('Target Distribution')\n",
    "\n",
    "# Source with Mask\n",
    "plt.subplot(1, 3, 3)\n",
    "sns.histplot(source, bins=30, kde=True, color='skyblue', label='Source', stat=\"density\")\n",
    "sns.histplot(source[mask], bins=30, kde=True, color='salmon', label='Matched', stat=\"density\", alpha=0.6)\n",
    "plt.title('Quantile Matched Source')\n",
    "plt.legend()\n",
    "\n",
    "plt.tight_layout()\n",
    "plt.show()\n"
   ]
  },
  {
   "cell_type": "code",
   "execution_count": 59,
   "metadata": {},
   "outputs": [
    {
     "name": "stdout",
     "output_type": "stream",
     "text": [
      "[False  True  True  True  True False  True]\n",
      "A [False  True  True  True  True False  True]\n",
      "B [ True False False  True  True]\n",
      "A [False  True False False  True False  True]\n"
     ]
    }
   ],
   "source": [
    "A = [-1, 1, 1e-16, 1, 1, 0, 1]\n",
    "print(np.array(A) > 0)\n",
    "A = np.array(A) > 0\n",
    "print(\"A\",A)\n",
    "B = np.array([1,0,0,1,1], dtype=bool)\n",
    "print(\"B\",B)\n",
    "A[A] = B\n",
    "print(\"A\",A)"
   ]
  },
  {
   "cell_type": "code",
   "execution_count": 21,
   "metadata": {},
   "outputs": [
    {
     "name": "stdout",
     "output_type": "stream",
     "text": [
      "[False  True False False  True False False]\n",
      "[1 3 4 6]\n",
      "[1 4]\n",
      "[False  True False False  True False False]\n",
      "[1 3 4 6]\n"
     ]
    }
   ],
   "source": [
    "def pick_subset(A, B):\n",
    "    \"\"\"\n",
    "    Returns a boolean array of size N with L True values, selecting the subset\n",
    "    specified by B from the True entries in A.\n",
    "    \"\"\"\n",
    "    original_mask = np.array(A, dtype=bool)\n",
    "    subset_mask = np.array(B, dtype=bool)\n",
    "    idx = np.where(original_mask)[0]\n",
    "    out = np.zeros_like(original_mask, dtype=bool)\n",
    "    out[idx[subset_mask]] = True\n",
    "    return out\n",
    "\n",
    "# Example usage:\n",
    "A = [0, 1, 0, 1, 1, 0, 1]\n",
    "B = [1, 0, 1, 0]  # Select subset from A's ones\n",
    "print(pick_subset(A, np.array(B, dtype=bool)))\n",
    "# Output: [0 1 0 0 1 0 0]\n",
    "idx = np.where(A)[0]\n",
    "print(idx)\n",
    "out = np.zeros_like(A, dtype=bool)\n",
    "print(idx[np.array(B, dtype=bool)])\n",
    "out[idx[np.array(B, dtype=bool)]]=True\n",
    "print(out)"
   ]
  },
  {
   "cell_type": "code",
   "execution_count": 8,
   "metadata": {},
   "outputs": [
    {
     "name": "stdout",
     "output_type": "stream",
     "text": [
      "[[[0.38640269 0.64607256 0.92112843]]\n",
      "\n",
      " [[0.38524554 0.56028197 0.99550772]]\n",
      "\n",
      " [[0.03285965 0.28969478 0.99768124]]\n",
      "\n",
      " [[0.06372088 0.6909881  0.69525666]]]\n",
      "[[0.67853224 0.47080179 0.36310218]\n",
      " [0.35942609 0.33641013 0.56526316]\n",
      " [0.09229147 0.53264402 0.83398952]\n",
      " [0.37109065 0.37324073 0.90558679]\n",
      " [0.47918325 0.29459973 0.30268811]]\n"
     ]
    },
    {
     "data": {
      "text/plain": [
       "array([[[0.29212955, 0.17527077, 0.55802625],\n",
       "        [0.0269766 , 0.30966243, 0.35586527],\n",
       "        [0.29411122, 0.11342854, 0.08713891],\n",
       "        [0.01531204, 0.27283183, 0.01554164],\n",
       "        [0.09278056, 0.35147282, 0.61844032]],\n",
       "\n",
       "       [[0.2932867 , 0.08948018, 0.63240554],\n",
       "        [0.02581945, 0.22387184, 0.43024456],\n",
       "        [0.29295407, 0.02763795, 0.1615182 ],\n",
       "        [0.01415489, 0.18704124, 0.08992093],\n",
       "        [0.0939377 , 0.26568224, 0.69281961]],\n",
       "\n",
       "       [[0.64567259, 0.181107  , 0.63457906],\n",
       "        [0.32656644, 0.04671534, 0.43241808],\n",
       "        [0.05943182, 0.24294924, 0.16369172],\n",
       "        [0.338231  , 0.08354594, 0.09209445],\n",
       "        [0.44632359, 0.00490495, 0.69499313]],\n",
       "\n",
       "       [[0.61481137, 0.22018631, 0.33215448],\n",
       "        [0.29570521, 0.35457797, 0.12999349],\n",
       "        [0.02857059, 0.15834408, 0.13873286],\n",
       "        [0.30736977, 0.31774737, 0.21033013],\n",
       "        [0.41546237, 0.39638836, 0.39256855]]])"
      ]
     },
     "execution_count": 8,
     "metadata": {},
     "output_type": "execute_result"
    }
   ],
   "source": [
    "# Sample Data\n",
    "X_test_norm = np.random.rand(5, 3)   # 5 test samples, 3 features\n",
    "X_train_norm = np.random.rand(4, 3)  # 4 train samples, 3 features\n",
    "\n",
    "print(X_train_norm[:, None, :])\n",
    "print(X_test_norm)\n",
    "np.abs(X_train_norm[:, None, :] - X_test_norm)"
   ]
  },
  {
   "cell_type": "code",
   "execution_count": 6,
   "metadata": {},
   "outputs": [],
   "source": [
    "# Sample Data\n",
    "X_test_norm = np.random.rand(5, 3)   # 5 test samples, 3 features\n",
    "X_train_norm = np.random.rand(4, 3)  # 4 train samples, 3 features\n",
    "\n",
    "# Vectorized Approach\n",
    "mean_val_vectorized = np.mean(np.sqrt(np.abs(X_train_norm[:, None, :] - X_test_norm)), axis=1)\n",
    "\n",
    "# Iterative Approach\n",
    "mean_val_iterative = np.empty(X_train_norm.shape)\n",
    "for i in range(X_train_norm.shape[0]):\n",
    "    mean_val_iterative[i, :] = np.mean(\n",
    "        np.sqrt(np.abs(X_train_norm[i, :] - X_test_norm)),\n",
    "        axis=0\n",
    "    )\n",
    "\n",
    "# Verify Equivalence\n",
    "assert np.allclose(mean_val_vectorized, mean_val_iterative)"
   ]
  },
  {
   "cell_type": "code",
   "execution_count": 13,
   "metadata": {},
   "outputs": [
    {
     "name": "stdout",
     "output_type": "stream",
     "text": [
      "     A         B    C\n",
      "0  1.0  2.714286  1.0\n",
      "1  2.0  2.000000  2.4\n",
      "2  2.6  3.000000  3.0\n",
      "3  4.0  3.600000  4.0\n",
      "4  5.0  5.000000  5.0\n",
      "5  4.4  6.000000  4.5\n"
     ]
    }
   ],
   "source": [
    "import pandas as pd\n",
    "from sklearn.impute import KNNImputer\n",
    "\n",
    "# Sample DataFrame with missing values\n",
    "data = {\n",
    "    'A': [1, 2, None, 4,5,None],\n",
    "    'B': [None, 2, 3, None,5,6],\n",
    "    'C': [1, None, 3, 4,5, None]\n",
    "}\n",
    "df = pd.DataFrame(data)\n",
    "\n",
    "# Initialize KNNImputer\n",
    "imputer = KNNImputer(n_neighbors=3, weights='distance')\n",
    "\n",
    "# Perform the imputation\n",
    "df_imputed = pd.DataFrame(imputer.fit_transform(df), columns=df.columns)\n",
    "\n",
    "print(df_imputed)"
   ]
  },
  {
   "cell_type": "code",
   "execution_count": 6,
   "metadata": {},
   "outputs": [
    {
     "name": "stderr",
     "output_type": "stream",
     "text": [
      "2024-12-07 12:14:07 [INFO]: No given device, using default device: cpu\n",
      "2024-12-07 12:14:07 [WARNING]: ‼️ saving_path not given. Model files and tensorboard file will not be saved.\n",
      "2024-12-07 12:14:07 [INFO]: SAITS initialized with the given hyperparameters, the number of trainable parameters: 134,186\n"
     ]
    },
    {
     "ename": "AttributeError",
     "evalue": "'numpy.ndarray' object has no attribute 'keys'",
     "output_type": "error",
     "traceback": [
      "\u001b[1;31m---------------------------------------------------------------------------\u001b[0m",
      "\u001b[1;31mAttributeError\u001b[0m                            Traceback (most recent call last)",
      "Cell \u001b[1;32mIn[6], line 19\u001b[0m\n\u001b[0;32m     16\u001b[0m model \u001b[38;5;241m=\u001b[39m SAITS(n_steps\u001b[38;5;241m=\u001b[39m\u001b[38;5;241m4\u001b[39m, n_features\u001b[38;5;241m=\u001b[39m\u001b[38;5;241m3\u001b[39m, n_layers\u001b[38;5;241m=\u001b[39m\u001b[38;5;241m2\u001b[39m, d_model\u001b[38;5;241m=\u001b[39m\u001b[38;5;241m64\u001b[39m, n_heads\u001b[38;5;241m=\u001b[39m\u001b[38;5;241m4\u001b[39m, d_k\u001b[38;5;241m=\u001b[39m\u001b[38;5;241m16\u001b[39m, d_v\u001b[38;5;241m=\u001b[39m\u001b[38;5;241m16\u001b[39m, d_ffn\u001b[38;5;241m=\u001b[39m\u001b[38;5;241m128\u001b[39m)\n\u001b[0;32m     18\u001b[0m \u001b[38;5;66;03m# Fit the model\u001b[39;00m\n\u001b[1;32m---> 19\u001b[0m \u001b[43mmodel\u001b[49m\u001b[38;5;241;43m.\u001b[39;49m\u001b[43mfit\u001b[49m\u001b[43m(\u001b[49m\u001b[43mdata_array\u001b[49m\u001b[43m)\u001b[49m\n\u001b[0;32m     21\u001b[0m \u001b[38;5;66;03m# Impute missing values\u001b[39;00m\n\u001b[0;32m     22\u001b[0m imputed_data \u001b[38;5;241m=\u001b[39m model\u001b[38;5;241m.\u001b[39mimpute(data_array)\n",
      "File \u001b[1;32mc:\\Users\\kimer\\Desktop\\RandomOdyssey\\.venv\\Lib\\site-packages\\pypots\\imputation\\saits\\model.py:246\u001b[0m, in \u001b[0;36mSAITS.fit\u001b[1;34m(self, train_set, val_set, file_type)\u001b[0m\n\u001b[0;32m    239\u001b[0m \u001b[38;5;28;01mdef\u001b[39;00m \u001b[38;5;21mfit\u001b[39m(\n\u001b[0;32m    240\u001b[0m     \u001b[38;5;28mself\u001b[39m,\n\u001b[0;32m    241\u001b[0m     train_set: Union[\u001b[38;5;28mdict\u001b[39m, \u001b[38;5;28mstr\u001b[39m],\n\u001b[1;32m   (...)\u001b[0m\n\u001b[0;32m    244\u001b[0m ) \u001b[38;5;241m-\u001b[39m\u001b[38;5;241m>\u001b[39m \u001b[38;5;28;01mNone\u001b[39;00m:\n\u001b[0;32m    245\u001b[0m     \u001b[38;5;66;03m# Step 1: wrap the input data with classes Dataset and DataLoader\u001b[39;00m\n\u001b[1;32m--> 246\u001b[0m     training_set \u001b[38;5;241m=\u001b[39m \u001b[43mDatasetForSAITS\u001b[49m\u001b[43m(\u001b[49m\u001b[43mtrain_set\u001b[49m\u001b[43m,\u001b[49m\u001b[43m \u001b[49m\u001b[43mreturn_X_ori\u001b[49m\u001b[38;5;241;43m=\u001b[39;49m\u001b[38;5;28;43;01mFalse\u001b[39;49;00m\u001b[43m,\u001b[49m\u001b[43m \u001b[49m\u001b[43mreturn_y\u001b[49m\u001b[38;5;241;43m=\u001b[39;49m\u001b[38;5;28;43;01mFalse\u001b[39;49;00m\u001b[43m,\u001b[49m\u001b[43m \u001b[49m\u001b[43mfile_type\u001b[49m\u001b[38;5;241;43m=\u001b[39;49m\u001b[43mfile_type\u001b[49m\u001b[43m)\u001b[49m\n\u001b[0;32m    247\u001b[0m     training_loader \u001b[38;5;241m=\u001b[39m DataLoader(\n\u001b[0;32m    248\u001b[0m         training_set,\n\u001b[0;32m    249\u001b[0m         batch_size\u001b[38;5;241m=\u001b[39m\u001b[38;5;28mself\u001b[39m\u001b[38;5;241m.\u001b[39mbatch_size,\n\u001b[0;32m    250\u001b[0m         shuffle\u001b[38;5;241m=\u001b[39m\u001b[38;5;28;01mTrue\u001b[39;00m,\n\u001b[0;32m    251\u001b[0m         num_workers\u001b[38;5;241m=\u001b[39m\u001b[38;5;28mself\u001b[39m\u001b[38;5;241m.\u001b[39mnum_workers,\n\u001b[0;32m    252\u001b[0m     )\n\u001b[0;32m    253\u001b[0m     val_loader \u001b[38;5;241m=\u001b[39m \u001b[38;5;28;01mNone\u001b[39;00m\n",
      "File \u001b[1;32mc:\\Users\\kimer\\Desktop\\RandomOdyssey\\.venv\\Lib\\site-packages\\pypots\\imputation\\saits\\data.py:61\u001b[0m, in \u001b[0;36mDatasetForSAITS.__init__\u001b[1;34m(self, data, return_X_ori, return_y, file_type, rate)\u001b[0m\n\u001b[0;32m     53\u001b[0m \u001b[38;5;28;01mdef\u001b[39;00m \u001b[38;5;21m__init__\u001b[39m(\n\u001b[0;32m     54\u001b[0m     \u001b[38;5;28mself\u001b[39m,\n\u001b[0;32m     55\u001b[0m     data: Union[\u001b[38;5;28mdict\u001b[39m, \u001b[38;5;28mstr\u001b[39m],\n\u001b[1;32m   (...)\u001b[0m\n\u001b[0;32m     59\u001b[0m     rate: \u001b[38;5;28mfloat\u001b[39m \u001b[38;5;241m=\u001b[39m \u001b[38;5;241m0.2\u001b[39m,\n\u001b[0;32m     60\u001b[0m ):\n\u001b[1;32m---> 61\u001b[0m     \u001b[38;5;28;43msuper\u001b[39;49m\u001b[43m(\u001b[49m\u001b[43m)\u001b[49m\u001b[38;5;241;43m.\u001b[39;49m\u001b[38;5;21;43m__init__\u001b[39;49m\u001b[43m(\u001b[49m\n\u001b[0;32m     62\u001b[0m \u001b[43m        \u001b[49m\u001b[43mdata\u001b[49m\u001b[38;5;241;43m=\u001b[39;49m\u001b[43mdata\u001b[49m\u001b[43m,\u001b[49m\n\u001b[0;32m     63\u001b[0m \u001b[43m        \u001b[49m\u001b[43mreturn_X_ori\u001b[49m\u001b[38;5;241;43m=\u001b[39;49m\u001b[43mreturn_X_ori\u001b[49m\u001b[43m,\u001b[49m\n\u001b[0;32m     64\u001b[0m \u001b[43m        \u001b[49m\u001b[43mreturn_X_pred\u001b[49m\u001b[38;5;241;43m=\u001b[39;49m\u001b[38;5;28;43;01mFalse\u001b[39;49;00m\u001b[43m,\u001b[49m\n\u001b[0;32m     65\u001b[0m \u001b[43m        \u001b[49m\u001b[43mreturn_y\u001b[49m\u001b[38;5;241;43m=\u001b[39;49m\u001b[43mreturn_y\u001b[49m\u001b[43m,\u001b[49m\n\u001b[0;32m     66\u001b[0m \u001b[43m        \u001b[49m\u001b[43mfile_type\u001b[49m\u001b[38;5;241;43m=\u001b[39;49m\u001b[43mfile_type\u001b[49m\u001b[43m,\u001b[49m\n\u001b[0;32m     67\u001b[0m \u001b[43m    \u001b[49m\u001b[43m)\u001b[49m\n\u001b[0;32m     68\u001b[0m     \u001b[38;5;28mself\u001b[39m\u001b[38;5;241m.\u001b[39mrate \u001b[38;5;241m=\u001b[39m rate\n",
      "File \u001b[1;32mc:\\Users\\kimer\\Desktop\\RandomOdyssey\\.venv\\Lib\\site-packages\\pypots\\data\\dataset\\base.py:133\u001b[0m, in \u001b[0;36mBaseDataset.__init__\u001b[1;34m(self, data, return_X_ori, return_X_pred, return_y, file_type)\u001b[0m\n\u001b[0;32m    129\u001b[0m     \u001b[38;5;28mself\u001b[39m\u001b[38;5;241m.\u001b[39mfetch_data \u001b[38;5;241m=\u001b[39m \u001b[38;5;28mself\u001b[39m\u001b[38;5;241m.\u001b[39m_fetch_data_from_file\n\u001b[0;32m    131\u001b[0m \u001b[38;5;28;01melse\u001b[39;00m:  \u001b[38;5;66;03m# data from array\u001b[39;00m\n\u001b[0;32m    132\u001b[0m     \u001b[38;5;66;03m# check if X exists in the dictionary\u001b[39;00m\n\u001b[1;32m--> 133\u001b[0m     \u001b[38;5;28;01massert\u001b[39;00m \u001b[38;5;124m\"\u001b[39m\u001b[38;5;124mX\u001b[39m\u001b[38;5;124m\"\u001b[39m \u001b[38;5;129;01min\u001b[39;00m \u001b[38;5;28;43mself\u001b[39;49m\u001b[38;5;241;43m.\u001b[39;49m\u001b[43mdata\u001b[49m\u001b[38;5;241;43m.\u001b[39;49m\u001b[43mkeys\u001b[49m(), \u001b[38;5;124m\"\u001b[39m\u001b[38;5;124mThe given dataset dictionary doesn\u001b[39m\u001b[38;5;124m'\u001b[39m\u001b[38;5;124mt contains X. Please double check.\u001b[39m\u001b[38;5;124m\"\u001b[39m\n\u001b[0;32m    134\u001b[0m     \u001b[38;5;66;03m# check whether X_ori, X_pred, and y exist in the file if they are required\u001b[39;00m\n\u001b[0;32m    135\u001b[0m     \u001b[38;5;28;01mif\u001b[39;00m \u001b[38;5;28mself\u001b[39m\u001b[38;5;241m.\u001b[39mreturn_X_ori:\n",
      "\u001b[1;31mAttributeError\u001b[0m: 'numpy.ndarray' object has no attribute 'keys'"
     ]
    }
   ],
   "source": [
    "import numpy as np\n",
    "import pandas as pd\n",
    "from pypots.imputation import SAITS\n",
    "\n",
    "# Create a DataFrame with missing values\n",
    "data = pd.DataFrame({\n",
    "    'A': [1, 2, np.nan, 4],\n",
    "    'B': [5, np.nan, 7, 8],\n",
    "    'C': [9, 10, 11, np.nan]\n",
    "})\n",
    "\n",
    "# Convert DataFrame to numpy array for PyPOTS\n",
    "data_array = data.values.reshape((1, 4, 3))  # (sample_size, time_steps, features)\n",
    "\n",
    "# Initialize the SAITS model\n",
    "model = SAITS(n_steps=4, n_features=3, n_layers=2, d_model=64, n_heads=4, d_k=16, d_v=16, d_ffn=128)\n",
    "\n",
    "# Fit the model\n",
    "model.fit(data_array)\n",
    "\n",
    "# Impute missing values\n",
    "imputed_data = model.impute(data_array)\n",
    "\n",
    "# Convert back to DataFrame\n",
    "imputed_df = pd.DataFrame(imputed_data[0], columns=data.columns)\n",
    "print(imputed_df)\n",
    "\n"
   ]
  },
  {
   "cell_type": "code",
   "execution_count": 3,
   "metadata": {},
   "outputs": [
    {
     "name": "stdout",
     "output_type": "stream",
     "text": [
      "The index : 5\n"
     ]
    }
   ],
   "source": [
    "import bisect\n",
    "# Sorted array of real numbers\n",
    "sorted_array = [1.1, 2.3, 3.7, 4.5, 6.8]\n",
    "# The value of a\n",
    "a = 7.2\n",
    "# Find the index of the smallest number greater than a\n",
    "index = bisect.bisect_right(sorted_array, a)\n",
    "print(f\"The index : {index}\")"
   ]
  },
  {
   "cell_type": "code",
   "execution_count": 4,
   "metadata": {},
   "outputs": [
    {
     "data": {
      "text/plain": [
       "array([-0.96592583, -0.70710678, -0.25881905,  0.25881905,  0.70710678,\n",
       "        0.96592583])"
      ]
     },
     "execution_count": 4,
     "metadata": {},
     "output_type": "execute_result"
    }
   ],
   "source": [
    "np.flipud(np.cos(( 2*np.arange(1, 5 + 2) - 1) * np.pi / (2 * (5+1))))"
   ]
  },
  {
   "cell_type": "code",
   "execution_count": 5,
   "metadata": {},
   "outputs": [
    {
     "name": "stdout",
     "output_type": "stream",
     "text": [
      "(112, 4)\n",
      "(112,)\n",
      "Accuracy: 0.9210526315789473\n"
     ]
    },
    {
     "name": "stderr",
     "output_type": "stream",
     "text": [
      "c:\\Users\\kimer\\Desktop\\RandomOdyssey\\.venv\\Lib\\site-packages\\sklearn\\neural_network\\_multilayer_perceptron.py:690: ConvergenceWarning: Stochastic Optimizer: Maximum iterations (1000) reached and the optimization hasn't converged yet.\n",
      "  warnings.warn(\n"
     ]
    }
   ],
   "source": [
    "from sklearn.datasets import load_iris\n",
    "from sklearn.model_selection import train_test_split\n",
    "from sklearn.neural_network import MLPClassifier\n",
    "from sklearn.metrics import accuracy_score\n",
    "\n",
    "# Load data\n",
    "X, y = load_iris(return_X_y=True)\n",
    "X_train, X_test, y_train, y_test = train_test_split(X, y, random_state=1)\n",
    "print(X_train.shape)\n",
    "print(y_train.shape)\n",
    "# Initialize MLP\n",
    "mlp = MLPClassifier(hidden_layer_sizes=(10,), max_iter=1000, random_state=1)\n",
    "\n",
    "# Train\n",
    "mlp.fit(X_train, y_train)\n",
    "\n",
    "# Predict\n",
    "y_pred = mlp.predict(X_test)\n",
    "\n",
    "# Evaluate\n",
    "print(\"Accuracy:\", accuracy_score(y_test, y_pred))\n"
   ]
  },
  {
   "cell_type": "code",
   "execution_count": 6,
   "metadata": {},
   "outputs": [
    {
     "data": {
      "text/plain": [
       "[0.0,\n",
       " 0.00029354207436399217,\n",
       " 0.0008806262230919766,\n",
       " 0.002054794520547945,\n",
       " 0.004403131115459882,\n",
       " 0.009099804305283758,\n",
       " 0.018493150684931507,\n",
       " 0.037279843444227,\n",
       " 0.074853228962818,\n",
       " 0.15]"
      ]
     },
     "execution_count": 6,
     "metadata": {},
     "output_type": "execute_result"
    }
   ],
   "source": [
    "((np.power(2,range(0,10))-1)*(0.15/(2**9-1))).tolist()"
   ]
  },
  {
   "cell_type": "code",
   "execution_count": null,
   "metadata": {},
   "outputs": [
    {
     "data": {
      "image/png": "[encoded data removed]",
      "text/plain": [
       "<Figure size 800x400 with 1 Axes>"
      ]
     },
     "metadata": {},
     "output_type": "display_data"
    },
    {
     "name": "stdout",
     "output_type": "stream",
     "text": [
      "[0.0010128108731718146, 0.00302867869714807, 0.006028189562798407, 0.0099824565407872, 0.01485339787849419, 0.020594103748109886, 0.027149288013920816, 0.03445582066801904, 0.04244333580678849, 0.05103490929302295, 0.0601477995774181, 0.06969424454492273, 0.07958230671188203, 0.08971675863426365, 0.1]\n"
     ]
    }
   ],
   "source": [
    "import numpy as np\n",
    "import matplotlib.pyplot as plt\n",
    "\n",
    "# Number of points you want to generate\n",
    "num_sam_tr = 15  # You can change this number as needed\n",
    "\n",
    "# Generate Chebyshev nodes in the interval [-1, 1]\n",
    "n_diags = np.arange(1, num_sam_tr + 2)\n",
    "x_k = np.cos(( 2*n_diags - 1) * np.pi / (4 * (num_sam_tr+1)))\n",
    "\n",
    "# Map the nodes to the interval [0.001, 0.15] with higher density near 0.001\n",
    "a = 0.001  # Start of the interval\n",
    "b = 0.10   # End of the interval\n",
    "s = (b*(x_k[1:]-x_k[0])/(x_k[-1]-x_k[0])).tolist()\n",
    "# Optional: Plot the distribution of the points\n",
    "plt.figure(figsize=(8, 4))\n",
    "plt.plot(s, np.zeros_like(s), 'o')\n",
    "plt.title('Distribution of Points between 0.001 and 0.15')\n",
    "plt.xlabel('Value')\n",
    "plt.yticks([])\n",
    "plt.show()\n",
    "\n",
    "# Print the generated points\n",
    "print(s)\n"
   ]
  },
  {
   "cell_type": "code",
   "execution_count": 8,
   "metadata": {},
   "outputs": [
    {
     "data": {
      "text/plain": [
       "DatetimeIndex(['2010-01-11', '2010-01-12', '2010-01-15', '2010-01-20',\n",
       "               '2010-02-04', '2010-02-25', '2010-04-19', '2010-04-27',\n",
       "               '2010-05-07', '2010-06-22',\n",
       "               ...\n",
       "               '2019-08-27', '2019-09-16', '2019-09-19', '2019-09-27',\n",
       "               '2019-10-15', '2019-10-24', '2019-11-01', '2019-12-03',\n",
       "               '2019-12-18', '2020-01-02'],\n",
       "              dtype='datetime64[ns]', length=261, freq=None)"
      ]
     },
     "execution_count": 8,
     "metadata": {},
     "output_type": "execute_result"
    }
   ],
   "source": [
    "dates = pd.date_range(pd.Timestamp(year=2010,month=1,day=4), pd.Timestamp(year=2020,month=1,day=4), freq='B')\n",
    "spare_dates = pd.DatetimeIndex(np.random.choice(dates, size=int(len(dates)*0.1), replace=False)).sort_values()\n",
    "spare_dates"
   ]
  },
  {
   "cell_type": "code",
   "execution_count": 9,
   "metadata": {},
   "outputs": [],
   "source": [
    "assets: dict[str, AssetData] = AssetFileInOut(\"../src/stockGroups/bin\").loadDictFromFile(\"group_snp500_over20years\")\n",
    "current_date: pd.Timestamp = pd.Timestamp.now(tz='UTC')\n",
    "analysis_results = []\n",
    "for ticker, asset in assets.items():\n",
    "    priceData: pd.DataFrame = asset.shareprice.iloc[-21*6:-1][\"Close\"]\n",
    "    priceData = priceData.resample('B').mean().dropna()\n",
    "    priceDataVal=priceData.values\n",
    "    analysis_results.append(CurveAnalysis.lineFit(priceDataVal/priceDataVal[0], ticker))\n",
    "\n",
    "res = pd.DataFrame(analysis_results)\n",
    "res['Rankslope'] = res['Slope'].rank(ascending=False)\n",
    "res['Rankvar'] = res['Variance'].rank(ascending=True)\n",
    "res['Score'] = res['Rankslope'] + res['Rankvar']\n",
    "res.sort_values(by='Score', ascending=True, inplace=True)"
   ]
  },
  {
   "cell_type": "code",
   "execution_count": 10,
   "metadata": {},
   "outputs": [
    {
     "data": {
      "text/html": [
       "<div>\n",
       "<style scoped>\n",
       "    .dataframe tbody tr th:only-of-type {\n",
       "        vertical-align: middle;\n",
       "    }\n",
       "\n",
       "    .dataframe tbody tr th {\n",
       "        vertical-align: top;\n",
       "    }\n",
       "\n",
       "    .dataframe thead th {\n",
       "        text-align: right;\n",
       "    }\n",
       "</style>\n",
       "<table border=\"1\" class=\"dataframe\">\n",
       "  <thead>\n",
       "    <tr style=\"text-align: right;\">\n",
       "      <th></th>\n",
       "      <th>Ticker</th>\n",
       "      <th>Slope</th>\n",
       "      <th>Intercept</th>\n",
       "      <th>R_Value</th>\n",
       "      <th>P_Value</th>\n",
       "      <th>Std_Err</th>\n",
       "      <th>Variance</th>\n",
       "      <th>Rankslope</th>\n",
       "      <th>Rankvar</th>\n",
       "      <th>Score</th>\n",
       "    </tr>\n",
       "  </thead>\n",
       "  <tbody>\n",
       "    <tr>\n",
       "      <th>37</th>\n",
       "      <td>BLK</td>\n",
       "      <td>0.003034</td>\n",
       "      <td>0.965029</td>\n",
       "      <td>0.979658</td>\n",
       "      <td>1.180007e-87</td>\n",
       "      <td>0.000056</td>\n",
       "      <td>0.000507</td>\n",
       "      <td>25.0</td>\n",
       "      <td>16.0</td>\n",
       "      <td>41.0</td>\n",
       "    </tr>\n",
       "    <tr>\n",
       "      <th>180</th>\n",
       "      <td>MSI</td>\n",
       "      <td>0.002882</td>\n",
       "      <td>1.004407</td>\n",
       "      <td>0.978581</td>\n",
       "      <td>2.726816e-86</td>\n",
       "      <td>0.000055</td>\n",
       "      <td>0.000483</td>\n",
       "      <td>34.0</td>\n",
       "      <td>11.0</td>\n",
       "      <td>45.0</td>\n",
       "    </tr>\n",
       "    <tr>\n",
       "      <th>184</th>\n",
       "      <td>NI</td>\n",
       "      <td>0.002611</td>\n",
       "      <td>0.995103</td>\n",
       "      <td>0.979174</td>\n",
       "      <td>4.939502e-87</td>\n",
       "      <td>0.000049</td>\n",
       "      <td>0.000385</td>\n",
       "      <td>47.0</td>\n",
       "      <td>1.0</td>\n",
       "      <td>48.0</td>\n",
       "    </tr>\n",
       "    <tr>\n",
       "      <th>33</th>\n",
       "      <td>BK</td>\n",
       "      <td>0.003085</td>\n",
       "      <td>0.969534</td>\n",
       "      <td>0.976290</td>\n",
       "      <td>1.316015e-83</td>\n",
       "      <td>0.000062</td>\n",
       "      <td>0.000614</td>\n",
       "      <td>23.0</td>\n",
       "      <td>31.0</td>\n",
       "      <td>54.0</td>\n",
       "    </tr>\n",
       "    <tr>\n",
       "      <th>20</th>\n",
       "      <td>AON</td>\n",
       "      <td>0.003012</td>\n",
       "      <td>1.002241</td>\n",
       "      <td>0.975662</td>\n",
       "      <td>6.449355e-83</td>\n",
       "      <td>0.000061</td>\n",
       "      <td>0.000602</td>\n",
       "      <td>26.0</td>\n",
       "      <td>29.0</td>\n",
       "      <td>55.0</td>\n",
       "    </tr>\n",
       "    <tr>\n",
       "      <th>...</th>\n",
       "      <td>...</td>\n",
       "      <td>...</td>\n",
       "      <td>...</td>\n",
       "      <td>...</td>\n",
       "      <td>...</td>\n",
       "      <td>...</td>\n",
       "      <td>...</td>\n",
       "      <td>...</td>\n",
       "      <td>...</td>\n",
       "      <td>...</td>\n",
       "    </tr>\n",
       "    <tr>\n",
       "      <th>134</th>\n",
       "      <td>HUM</td>\n",
       "      <td>-0.002989</td>\n",
       "      <td>1.126083</td>\n",
       "      <td>-0.812160</td>\n",
       "      <td>1.451059e-30</td>\n",
       "      <td>0.000194</td>\n",
       "      <td>0.006050</td>\n",
       "      <td>390.0</td>\n",
       "      <td>365.0</td>\n",
       "      <td>755.0</td>\n",
       "    </tr>\n",
       "    <tr>\n",
       "      <th>94</th>\n",
       "      <td>EW</td>\n",
       "      <td>-0.002450</td>\n",
       "      <td>1.003459</td>\n",
       "      <td>-0.728717</td>\n",
       "      <td>5.834908e-22</td>\n",
       "      <td>0.000208</td>\n",
       "      <td>0.006955</td>\n",
       "      <td>386.0</td>\n",
       "      <td>374.0</td>\n",
       "      <td>760.0</td>\n",
       "    </tr>\n",
       "    <tr>\n",
       "      <th>388</th>\n",
       "      <td>WBA</td>\n",
       "      <td>-0.003638</td>\n",
       "      <td>0.935470</td>\n",
       "      <td>-0.837947</td>\n",
       "      <td>3.817665e-34</td>\n",
       "      <td>0.000214</td>\n",
       "      <td>0.007370</td>\n",
       "      <td>392.0</td>\n",
       "      <td>378.0</td>\n",
       "      <td>770.0</td>\n",
       "    </tr>\n",
       "    <tr>\n",
       "      <th>311</th>\n",
       "      <td>MU</td>\n",
       "      <td>-0.002354</td>\n",
       "      <td>0.977910</td>\n",
       "      <td>-0.667231</td>\n",
       "      <td>1.959523e-17</td>\n",
       "      <td>0.000237</td>\n",
       "      <td>0.009061</td>\n",
       "      <td>385.0</td>\n",
       "      <td>385.0</td>\n",
       "      <td>770.0</td>\n",
       "    </tr>\n",
       "    <tr>\n",
       "      <th>304</th>\n",
       "      <td>INTC</td>\n",
       "      <td>-0.002827</td>\n",
       "      <td>0.997400</td>\n",
       "      <td>-0.640365</td>\n",
       "      <td>8.895126e-16</td>\n",
       "      <td>0.000306</td>\n",
       "      <td>0.015092</td>\n",
       "      <td>388.0</td>\n",
       "      <td>391.0</td>\n",
       "      <td>779.0</td>\n",
       "    </tr>\n",
       "  </tbody>\n",
       "</table>\n",
       "<p>393 rows × 10 columns</p>\n",
       "</div>"
      ],
      "text/plain": [
       "    Ticker     Slope  Intercept   R_Value       P_Value   Std_Err  Variance  \\\n",
       "37     BLK  0.003034   0.965029  0.979658  1.180007e-87  0.000056  0.000507   \n",
       "180    MSI  0.002882   1.004407  0.978581  2.726816e-86  0.000055  0.000483   \n",
       "184     NI  0.002611   0.995103  0.979174  4.939502e-87  0.000049  0.000385   \n",
       "33      BK  0.003085   0.969534  0.976290  1.316015e-83  0.000062  0.000614   \n",
       "20     AON  0.003012   1.002241  0.975662  6.449355e-83  0.000061  0.000602   \n",
       "..     ...       ...        ...       ...           ...       ...       ...   \n",
       "134    HUM -0.002989   1.126083 -0.812160  1.451059e-30  0.000194  0.006050   \n",
       "94      EW -0.002450   1.003459 -0.728717  5.834908e-22  0.000208  0.006955   \n",
       "388    WBA -0.003638   0.935470 -0.837947  3.817665e-34  0.000214  0.007370   \n",
       "311     MU -0.002354   0.977910 -0.667231  1.959523e-17  0.000237  0.009061   \n",
       "304   INTC -0.002827   0.997400 -0.640365  8.895126e-16  0.000306  0.015092   \n",
       "\n",
       "     Rankslope  Rankvar  Score  \n",
       "37        25.0     16.0   41.0  \n",
       "180       34.0     11.0   45.0  \n",
       "184       47.0      1.0   48.0  \n",
       "33        23.0     31.0   54.0  \n",
       "20        26.0     29.0   55.0  \n",
       "..         ...      ...    ...  \n",
       "134      390.0    365.0  755.0  \n",
       "94       386.0    374.0  760.0  \n",
       "388      392.0    378.0  770.0  \n",
       "311      385.0    385.0  770.0  \n",
       "304      388.0    391.0  779.0  \n",
       "\n",
       "[393 rows x 10 columns]"
      ]
     },
     "execution_count": 10,
     "metadata": {},
     "output_type": "execute_result"
    }
   ],
   "source": [
    "res"
   ]
  },
  {
   "cell_type": "code",
   "execution_count": 11,
   "metadata": {},
   "outputs": [
    {
     "name": "stdout",
     "output_type": "stream",
     "text": [
      "{'Ticker': 'ZBRA', 'Slope': np.float64(18.615246954805105), 'Intercept': np.float64(7561.517231770834), 'R_Value': np.float64(0.8682961419977793), 'P_Value': np.float64(2.9209850923546793e-39), 'Std_Err': np.float64(0.9588937367350466), 'Variance': np.float64(148438.10020857948)}\n",
      "LinregressResult(slope=np.float64(18.615246954805105), intercept=np.float64(7561.517231770834), rvalue=np.float64(0.8682961419977793), pvalue=np.float64(2.9209850923546793e-39), stderr=np.float64(0.9588937367350466), intercept_stderr=np.float64(68.78684222078785))\n",
      "7561.517231770834\n"
     ]
    },
    {
     "data": {
      "image/png": "[encoded data removed]",
      "text/plain": [
       "<Figure size 640x480 with 1 Axes>"
      ]
     },
     "metadata": {},
     "output_type": "display_data"
    }
   ],
   "source": [
    "from scipy.stats import linregress\n",
    "pdframe = assets[\"NVR\"].shareprice.iloc[-21*6:-1][\"Close\"]\n",
    "zeroval=pdframe.values[0]\n",
    "plt.plot(pdframe)\n",
    "a = CurveAnalysis.lineFit(pdframe.values, ticker)\n",
    "print(a)\n",
    "regression = linregress(np.arange(len(pdframe)), pdframe.values)\n",
    "print(regression)\n",
    "y_fit = regression.slope * np.arange(len(pdframe)) + regression.intercept\n",
    "print(regression.intercept)"
   ]
  },
  {
   "cell_type": "code",
   "execution_count": 12,
   "metadata": {},
   "outputs": [
    {
     "name": "stdout",
     "output_type": "stream",
     "text": [
      "180.0\n",
      "<class 'numpy.ndarray'>\n"
     ]
    }
   ],
   "source": [
    "import polars as pl\n",
    "from datetime import datetime, timedelta\n",
    "\n",
    "# Generate sample data\n",
    "start_date = datetime(2023, 1, 1)\n",
    "data = {\n",
    "    'timestamp': [start_date + timedelta(days=i) for i in range(10)],\n",
    "    'price': [100 + i * 10 for i in range(10)]\n",
    "}\n",
    "\n",
    "priceData = pl.DataFrame(data)\n",
    "print(priceData[\"price\"].quantile(0.90))\n",
    "print(type(priceData['price'].to_numpy()))"
   ]
  },
  {
   "cell_type": "code",
   "execution_count": 13,
   "metadata": {},
   "outputs": [
    {
     "name": "stdout",
     "output_type": "stream",
     "text": [
      "1.14.0\n"
     ]
    }
   ],
   "source": [
    "print(pl.__version__)"
   ]
  },
  {
   "cell_type": "code",
   "execution_count": 14,
   "metadata": {},
   "outputs": [
    {
     "name": "stdout",
     "output_type": "stream",
     "text": [
      "shape: (10, 2)\n",
      "┌─────────────────────┬────────────┐\n",
      "│ timestamp           ┆ price_mean │\n",
      "│ ---                 ┆ ---        │\n",
      "│ datetime[μs]        ┆ f64        │\n",
      "╞═════════════════════╪════════════╡\n",
      "│ 2023-01-01 00:00:00 ┆ 100.0      │\n",
      "│ 2023-01-02 00:00:00 ┆ 110.0      │\n",
      "│ 2023-01-03 00:00:00 ┆ 120.0      │\n",
      "│ 2023-01-04 00:00:00 ┆ 130.0      │\n",
      "│ 2023-01-05 00:00:00 ┆ 140.0      │\n",
      "│ 2023-01-06 00:00:00 ┆ 150.0      │\n",
      "│ 2023-01-07 00:00:00 ┆ 160.0      │\n",
      "│ 2023-01-08 00:00:00 ┆ 170.0      │\n",
      "│ 2023-01-09 00:00:00 ┆ 180.0      │\n",
      "│ 2023-01-10 00:00:00 ┆ 190.0      │\n",
      "└─────────────────────┴────────────┘\n"
     ]
    },
    {
     "name": "stderr",
     "output_type": "stream",
     "text": [
      "C:\\Users\\kimer\\AppData\\Local\\Temp\\ipykernel_2076\\2642637582.py:2: DeprecationWarning: The argument `by` for `DataFrame.group_by_dynamic` is deprecated. It has been renamed to `group_by`.\n",
      "  resampled = priceData.group_by_dynamic(\n"
     ]
    }
   ],
   "source": [
    "# Resample to daily frequency and compute mean\n",
    "resampled = priceData.group_by_dynamic(\n",
    "    index_column='timestamp',\n",
    "    every='1d',       # Window size of 1 day\n",
    "    closed='left',    # Window is left-closed\n",
    "    by=None           # No additional grouping\n",
    ").agg([\n",
    "    pl.col('price').mean().alias('price_mean')\n",
    "]).drop_nulls()\n",
    "\n",
    "print(resampled)"
   ]
  },
  {
   "cell_type": "code",
   "execution_count": 15,
   "metadata": {},
   "outputs": [
    {
     "name": "stdout",
     "output_type": "stream",
     "text": [
      "shape: (6, 2)\n",
      "┌─────────────────────┬────────────┐\n",
      "│ timestamp           ┆ price_mean │\n",
      "│ ---                 ┆ ---        │\n",
      "│ datetime[μs]        ┆ f64        │\n",
      "╞═════════════════════╪════════════╡\n",
      "│ 2023-01-02 00:00:00 ┆ 110.0      │\n",
      "│ 2023-01-03 00:00:00 ┆ 120.0      │\n",
      "│ 2023-01-04 00:00:00 ┆ 130.0      │\n",
      "│ 2023-01-05 00:00:00 ┆ 140.0      │\n",
      "│ 2023-01-09 00:00:00 ┆ 180.0      │\n",
      "│ 2023-01-10 00:00:00 ┆ 190.0      │\n",
      "└─────────────────────┴────────────┘\n"
     ]
    }
   ],
   "source": [
    "# Add a weekday column (0=Monday, 6=Sunday)\n",
    "priceData = priceData.with_columns([\n",
    "    pl.col('timestamp').dt.weekday().alias('weekday')\n",
    "])\n",
    "\n",
    "# Filter to include only business days (Monday=0 to Friday=4)\n",
    "business_days = priceData.filter(pl.col('weekday').is_between(0, 4))\n",
    "\n",
    "# Perform resampling on business days\n",
    "resampled_business = business_days.group_by_dynamic(\n",
    "    index_column='timestamp',\n",
    "    every='1d',       # 1 day window\n",
    "    closed='left'\n",
    ").agg([\n",
    "    pl.col('price').mean().alias('price_mean')\n",
    "]).drop_nulls()\n",
    "\n",
    "# Drop the auxiliary 'weekday' column if not needed\n",
    "resampled_business = resampled_business.drop('weekday') if 'weekday' in resampled_business.columns else resampled_business\n",
    "\n",
    "print(resampled_business)"
   ]
  },
  {
   "cell_type": "code",
   "execution_count": 16,
   "metadata": {},
   "outputs": [],
   "source": [
    "# Sample data\n",
    "data = {\n",
    "    \"ID\": range(1, 21),  # IDs from 1 to 20\n",
    "    \"Slope\": np.random.uniform(0, 100, 20),      # Random Slope values between 0 and 100\n",
    "    \"Variance\": np.random.uniform(10, 50, 20)    # Random Variance values between 10 and 50\n",
    "}\n",
    "\n",
    "# Create a Polars DataFrame\n",
    "results_df = pl.DataFrame(data)"
   ]
  },
  {
   "cell_type": "code",
   "execution_count": 18,
   "metadata": {},
   "outputs": [
    {
     "data": {
      "text/plain": [
       "dict_keys(['industrials', 'healthcare', 'technology', 'utilities', 'financial-services', 'basic-materials', 'real-estate', 'consumer-defensive', 'energy', 'communication-services', 'consumer-cyclical'])"
      ]
     },
     "execution_count": 18,
     "metadata": {},
     "output_type": "execute_result"
    }
   ],
   "source": [
    "sectors = {}\n",
    "for ticker, asset in assets.items():\n",
    "    sectors[asset.about[\"sectorKey\"]] = asset.about[\"sectorKey\"]\n",
    "\n",
    "sectors.keys()"
   ]
  },
  {
   "cell_type": "code",
   "execution_count": 12,
   "metadata": {},
   "outputs": [],
   "source": [
    "def getFourierConst(ft):\n",
    "    \"\"\"\n",
    "    PRE: ft is a matrix of size (M x N). It is the evaluation of a function\n",
    "        f: [-pi, pi)^M -> C^M at the points linspace(-pi, pi, N+1) (without end).\n",
    "        N must be even. N should have low prime divisors (opt: N=2^m).\n",
    "        f should be 2pi periodic.\n",
    "    POST: CosConst and SinConst are matrices of size M x N/2.\n",
    "    Desc:\n",
    "        If f(t) = sum_{n=0}^{K} (a_n cos(nt) + b_n sin(nt)),\n",
    "        then this function returns a_n and b_n as long as K <= N/2.\n",
    "        Function can be vectorized along one dimension.\n",
    "    NOTE:\n",
    "     - ft can be complex. Then this program divides real part and imaginary part\n",
    "       and combines them again.\n",
    "    \"\"\"\n",
    "    M, N = ft.shape\n",
    "\n",
    "    rFfft = np.fft.fft(np.real(ft), axis=1)\n",
    "    iFfft = np.fft.fft(np.imag(ft), axis=1)\n",
    "    cjrFfft = np.conj(rFfft)\n",
    "    cjiFfft = np.conj(iFfft)\n",
    "\n",
    "    signmat = (-1) ** np.arange(N)\n",
    "    signmat = np.tile(signmat, (M, 1))\n",
    "\n",
    "    ar = (rFfft + cjrFfft) * signmat / (N * 2)\n",
    "    br = (rFfft - cjrFfft) * signmat * (1j) / (N * 2)\n",
    "\n",
    "    ai = (iFfft + cjiFfft) * signmat / (N * 2)\n",
    "    bi = (iFfft - cjiFfft) * signmat * (1j) / (N * 2)\n",
    "\n",
    "    CosConst = (np.hstack([ar[:, :1], ar[:, 1:N//2] + np.fliplr(ar[:, N//2+1:])]) +\n",
    "                1j * np.hstack([ai[:, :1], ai[:, 1:N//2] + np.fliplr(ai[:, N//2+1:])]))\n",
    "\n",
    "    SinConst = (np.hstack([br[:, :1], br[:, 1:N//2] - np.fliplr(br[:, N//2+1:])]) +\n",
    "                1j * np.hstack([bi[:, :1], bi[:, 1:N//2] - np.fliplr(bi[:, N//2+1:])]))\n",
    "\n",
    "    return CosConst, SinConst"
   ]
  },
  {
   "cell_type": "code",
   "execution_count": 13,
   "metadata": {},
   "outputs": [
    {
     "name": "stdout",
     "output_type": "stream",
     "text": [
      "Known coefficients:\n",
      "a0 = 1.0, a1 = 0.5, a2 = 0.25, b1 = -0.3, b2 = 0.15\n",
      "\n",
      "Computed coefficients:\n",
      "a0 = 1.0, a1 = 0.5, a2 = 0.25, b1 = -0.29999999999999993, b2 = 0.15000000000000002\n"
     ]
    }
   ],
   "source": [
    "M = 1  # Number of functions (can be increased to test vectorization)\n",
    "N = 64  # Number of sample points, must be even\n",
    "# Known Fourier coefficients\n",
    "a0 = 1.0\n",
    "a1 = 0.5\n",
    "a2 = 0.25\n",
    "b1 = -0.3\n",
    "b2 = 0.15\n",
    "# Generate sample points\n",
    "t = np.linspace(-np.pi, np.pi, N+1)[:-1] \n",
    "\n",
    "f_t = (a0 +\n",
    "           a1 * np.cos(t) +\n",
    "           a2 * np.cos(2 * t) +\n",
    "           b1 * np.sin(t) +\n",
    "           b2 * np.sin(2 * t))\n",
    "\n",
    "f_t = f_t.reshape(M, N)\n",
    "\n",
    "CosConst, SinConst = getFourierConst(f_t)\n",
    "\n",
    "# Extract the computed coefficients\n",
    "computed_a0 = CosConst[0, 0].real\n",
    "computed_a1 = CosConst[0, 1].real\n",
    "computed_a2 = CosConst[0, 2].real\n",
    "computed_b1 = SinConst[0, 1].real\n",
    "computed_b2 = SinConst[0, 2].real\n",
    "\n",
    "# Print the known and computed coefficients\n",
    "print(\"Known coefficients:\")\n",
    "print(f\"a0 = {a0}, a1 = {a1}, a2 = {a2}, b1 = {b1}, b2 = {b2}\")\n",
    "print(\"\\nComputed coefficients:\")\n",
    "print(f\"a0 = {computed_a0}, a1 = {computed_a1}, a2 = {computed_a2}, b1 = {computed_b1}, b2 = {computed_b2}\")"
   ]
  },
  {
   "cell_type": "code",
   "execution_count": 20,
   "metadata": {},
   "outputs": [
    {
     "name": "stdout",
     "output_type": "stream",
     "text": [
      "<class 'numpy.ndarray'>\n",
      "<class 'numpy.ndarray'>\n",
      "(60000, 28, 28, 1)\n",
      "\u001b[1m313/313\u001b[0m \u001b[32m━━━━━━━━━━━━━━━━━━━━\u001b[0m\u001b[37m\u001b[0m \u001b[1m1s\u001b[0m 2ms/step - accuracy: 0.0820 - loss: 2.3005\n",
      "Test accuracy: 0.0812000036239624\n"
     ]
    }
   ],
   "source": [
    "import tensorflow as tf\n",
    "from tensorflow.keras import layers, models\n",
    "from tensorflow.keras.datasets import mnist\n",
    "from tensorflow.keras.utils import to_categorical\n",
    "\n",
    "# Load and preprocess data\n",
    "(train_X, train_y), (test_X, test_y) = mnist.load_data()\n",
    "train_X = train_X.reshape((60000, 28, 28, 1)).astype('float32') / 255\n",
    "test_X = test_X.reshape((10000, 28, 28, 1)).astype('float32') / 255\n",
    "train_y = to_categorical(train_y)\n",
    "test_y = to_categorical(test_y)\n",
    "\n",
    "print(type(train_X))\n",
    "print(type(train_y))\n",
    "print((train_X.shape))\n",
    "\n",
    "# Build CNN model\n",
    "model = models.Sequential([\n",
    "    layers.Conv2D(32, (3, 3), activation='relu', input_shape=(28, 28, 1)),\n",
    "    layers.MaxPooling2D((2, 2)),\n",
    "    layers.Conv2D(64, (3, 3), activation='relu'),\n",
    "    layers.MaxPooling2D((2, 2)),\n",
    "    layers.Flatten(),\n",
    "    layers.Dense(64, activation='relu'),\n",
    "    layers.Dense(10, activation='softmax')\n",
    "])\n",
    "\n",
    "# Compile and train\n",
    "model.compile(optimizer='adam',\n",
    "              loss='categorical_crossentropy',\n",
    "              metrics=['accuracy'])\n",
    "#model.fit(train_X, train_y, epochs=5, batch_size=64, validation_split=0.1)\n",
    "\n",
    "# Evaluate\n",
    "test_loss, test_acc = model.evaluate(test_X, test_y)\n",
    "print(f'Test accuracy: {test_acc}')\n"
   ]
  },
  {
   "cell_type": "code",
   "execution_count": 22,
   "metadata": {},
   "outputs": [
    {
     "name": "stdout",
     "output_type": "stream",
     "text": [
      "Transformed training data shape: (60000, 1000)\n",
      "Transformed testing data shape: (10000, 1000)\n"
     ]
    },
    {
     "data": {
      "text/html": [
       "<pre style=\"white-space:pre;overflow-x:auto;line-height:normal;font-family:Menlo,'DejaVu Sans Mono',consolas,'Courier New',monospace\"><span style=\"font-weight: bold\">Model: \"sequential_6\"</span>\n",
       "</pre>\n"
      ],
      "text/plain": [
       "\u001b[1mModel: \"sequential_6\"\u001b[0m\n"
      ]
     },
     "metadata": {},
     "output_type": "display_data"
    },
    {
     "data": {
      "text/html": [
       "<pre style=\"white-space:pre;overflow-x:auto;line-height:normal;font-family:Menlo,'DejaVu Sans Mono',consolas,'Courier New',monospace\">┏━━━━━━━━━━━━━━━━━━━━━━━━━━━━━━━━━┳━━━━━━━━━━━━━━━━━━━━━━━━┳━━━━━━━━━━━━━━━┓\n",
       "┃<span style=\"font-weight: bold\"> Layer (type)                    </span>┃<span style=\"font-weight: bold\"> Output Shape           </span>┃<span style=\"font-weight: bold\">       Param # </span>┃\n",
       "┡━━━━━━━━━━━━━━━━━━━━━━━━━━━━━━━━━╇━━━━━━━━━━━━━━━━━━━━━━━━╇━━━━━━━━━━━━━━━┩\n",
       "│ dense_14 (<span style=\"color: #0087ff; text-decoration-color: #0087ff\">Dense</span>)                │ (<span style=\"color: #00d7ff; text-decoration-color: #00d7ff\">None</span>, <span style=\"color: #00af00; text-decoration-color: #00af00\">512</span>)            │       <span style=\"color: #00af00; text-decoration-color: #00af00\">512,512</span> │\n",
       "├─────────────────────────────────┼────────────────────────┼───────────────┤\n",
       "│ dropout_2 (<span style=\"color: #0087ff; text-decoration-color: #0087ff\">Dropout</span>)             │ (<span style=\"color: #00d7ff; text-decoration-color: #00d7ff\">None</span>, <span style=\"color: #00af00; text-decoration-color: #00af00\">512</span>)            │             <span style=\"color: #00af00; text-decoration-color: #00af00\">0</span> │\n",
       "├─────────────────────────────────┼────────────────────────┼───────────────┤\n",
       "│ dense_15 (<span style=\"color: #0087ff; text-decoration-color: #0087ff\">Dense</span>)                │ (<span style=\"color: #00d7ff; text-decoration-color: #00d7ff\">None</span>, <span style=\"color: #00af00; text-decoration-color: #00af00\">256</span>)            │       <span style=\"color: #00af00; text-decoration-color: #00af00\">131,328</span> │\n",
       "├─────────────────────────────────┼────────────────────────┼───────────────┤\n",
       "│ dropout_3 (<span style=\"color: #0087ff; text-decoration-color: #0087ff\">Dropout</span>)             │ (<span style=\"color: #00d7ff; text-decoration-color: #00d7ff\">None</span>, <span style=\"color: #00af00; text-decoration-color: #00af00\">256</span>)            │             <span style=\"color: #00af00; text-decoration-color: #00af00\">0</span> │\n",
       "├─────────────────────────────────┼────────────────────────┼───────────────┤\n",
       "│ dense_16 (<span style=\"color: #0087ff; text-decoration-color: #0087ff\">Dense</span>)                │ (<span style=\"color: #00d7ff; text-decoration-color: #00d7ff\">None</span>, <span style=\"color: #00af00; text-decoration-color: #00af00\">128</span>)            │        <span style=\"color: #00af00; text-decoration-color: #00af00\">32,896</span> │\n",
       "├─────────────────────────────────┼────────────────────────┼───────────────┤\n",
       "│ dense_17 (<span style=\"color: #0087ff; text-decoration-color: #0087ff\">Dense</span>)                │ (<span style=\"color: #00d7ff; text-decoration-color: #00d7ff\">None</span>, <span style=\"color: #00af00; text-decoration-color: #00af00\">10</span>)             │         <span style=\"color: #00af00; text-decoration-color: #00af00\">1,290</span> │\n",
       "└─────────────────────────────────┴────────────────────────┴───────────────┘\n",
       "</pre>\n"
      ],
      "text/plain": [
       "┏━━━━━━━━━━━━━━━━━━━━━━━━━━━━━━━━━┳━━━━━━━━━━━━━━━━━━━━━━━━┳━━━━━━━━━━━━━━━┓\n",
       "┃\u001b[1m \u001b[0m\u001b[1mLayer (type)                   \u001b[0m\u001b[1m \u001b[0m┃\u001b[1m \u001b[0m\u001b[1mOutput Shape          \u001b[0m\u001b[1m \u001b[0m┃\u001b[1m \u001b[0m\u001b[1m      Param #\u001b[0m\u001b[1m \u001b[0m┃\n",
       "┡━━━━━━━━━━━━━━━━━━━━━━━━━━━━━━━━━╇━━━━━━━━━━━━━━━━━━━━━━━━╇━━━━━━━━━━━━━━━┩\n",
       "│ dense_14 (\u001b[38;5;33mDense\u001b[0m)                │ (\u001b[38;5;45mNone\u001b[0m, \u001b[38;5;34m512\u001b[0m)            │       \u001b[38;5;34m512,512\u001b[0m │\n",
       "├─────────────────────────────────┼────────────────────────┼───────────────┤\n",
       "│ dropout_2 (\u001b[38;5;33mDropout\u001b[0m)             │ (\u001b[38;5;45mNone\u001b[0m, \u001b[38;5;34m512\u001b[0m)            │             \u001b[38;5;34m0\u001b[0m │\n",
       "├─────────────────────────────────┼────────────────────────┼───────────────┤\n",
       "│ dense_15 (\u001b[38;5;33mDense\u001b[0m)                │ (\u001b[38;5;45mNone\u001b[0m, \u001b[38;5;34m256\u001b[0m)            │       \u001b[38;5;34m131,328\u001b[0m │\n",
       "├─────────────────────────────────┼────────────────────────┼───────────────┤\n",
       "│ dropout_3 (\u001b[38;5;33mDropout\u001b[0m)             │ (\u001b[38;5;45mNone\u001b[0m, \u001b[38;5;34m256\u001b[0m)            │             \u001b[38;5;34m0\u001b[0m │\n",
       "├─────────────────────────────────┼────────────────────────┼───────────────┤\n",
       "│ dense_16 (\u001b[38;5;33mDense\u001b[0m)                │ (\u001b[38;5;45mNone\u001b[0m, \u001b[38;5;34m128\u001b[0m)            │        \u001b[38;5;34m32,896\u001b[0m │\n",
       "├─────────────────────────────────┼────────────────────────┼───────────────┤\n",
       "│ dense_17 (\u001b[38;5;33mDense\u001b[0m)                │ (\u001b[38;5;45mNone\u001b[0m, \u001b[38;5;34m10\u001b[0m)             │         \u001b[38;5;34m1,290\u001b[0m │\n",
       "└─────────────────────────────────┴────────────────────────┴───────────────┘\n"
      ]
     },
     "metadata": {},
     "output_type": "display_data"
    },
    {
     "data": {
      "text/html": [
       "<pre style=\"white-space:pre;overflow-x:auto;line-height:normal;font-family:Menlo,'DejaVu Sans Mono',consolas,'Courier New',monospace\"><span style=\"font-weight: bold\"> Total params: </span><span style=\"color: #00af00; text-decoration-color: #00af00\">678,026</span> (2.59 MB)\n",
       "</pre>\n"
      ],
      "text/plain": [
       "\u001b[1m Total params: \u001b[0m\u001b[38;5;34m678,026\u001b[0m (2.59 MB)\n"
      ]
     },
     "metadata": {},
     "output_type": "display_data"
    },
    {
     "data": {
      "text/html": [
       "<pre style=\"white-space:pre;overflow-x:auto;line-height:normal;font-family:Menlo,'DejaVu Sans Mono',consolas,'Courier New',monospace\"><span style=\"font-weight: bold\"> Trainable params: </span><span style=\"color: #00af00; text-decoration-color: #00af00\">678,026</span> (2.59 MB)\n",
       "</pre>\n"
      ],
      "text/plain": [
       "\u001b[1m Trainable params: \u001b[0m\u001b[38;5;34m678,026\u001b[0m (2.59 MB)\n"
      ]
     },
     "metadata": {},
     "output_type": "display_data"
    },
    {
     "data": {
      "text/html": [
       "<pre style=\"white-space:pre;overflow-x:auto;line-height:normal;font-family:Menlo,'DejaVu Sans Mono',consolas,'Courier New',monospace\"><span style=\"font-weight: bold\"> Non-trainable params: </span><span style=\"color: #00af00; text-decoration-color: #00af00\">0</span> (0.00 B)\n",
       "</pre>\n"
      ],
      "text/plain": [
       "\u001b[1m Non-trainable params: \u001b[0m\u001b[38;5;34m0\u001b[0m (0.00 B)\n"
      ]
     },
     "metadata": {},
     "output_type": "display_data"
    },
    {
     "name": "stdout",
     "output_type": "stream",
     "text": [
      "Epoch 1/20\n",
      "422/422 - 4s - 10ms/step - accuracy: 0.7034 - loss: 1.0054 - val_accuracy: 0.8833 - val_loss: 0.3614\n",
      "Epoch 2/20\n",
      "422/422 - 2s - 6ms/step - accuracy: 0.8463 - loss: 0.4647 - val_accuracy: 0.8982 - val_loss: 0.3204\n",
      "Epoch 3/20\n",
      "422/422 - 3s - 6ms/step - accuracy: 0.8697 - loss: 0.3921 - val_accuracy: 0.9213 - val_loss: 0.2458\n",
      "Epoch 4/20\n",
      "422/422 - 3s - 6ms/step - accuracy: 0.8814 - loss: 0.3565 - val_accuracy: 0.9227 - val_loss: 0.2392\n",
      "Epoch 5/20\n",
      "422/422 - 2s - 6ms/step - accuracy: 0.8949 - loss: 0.3200 - val_accuracy: 0.9338 - val_loss: 0.2169\n",
      "Epoch 6/20\n",
      "422/422 - 2s - 6ms/step - accuracy: 0.9030 - loss: 0.2946 - val_accuracy: 0.9300 - val_loss: 0.2261\n",
      "Epoch 7/20\n",
      "422/422 - 3s - 6ms/step - accuracy: 0.9059 - loss: 0.2805 - val_accuracy: 0.9353 - val_loss: 0.2110\n",
      "Epoch 8/20\n",
      "422/422 - 2s - 6ms/step - accuracy: 0.9121 - loss: 0.2673 - val_accuracy: 0.9312 - val_loss: 0.2275\n",
      "Epoch 9/20\n",
      "422/422 - 2s - 6ms/step - accuracy: 0.9162 - loss: 0.2515 - val_accuracy: 0.9398 - val_loss: 0.2045\n",
      "Epoch 10/20\n",
      "422/422 - 2s - 6ms/step - accuracy: 0.9223 - loss: 0.2355 - val_accuracy: 0.9355 - val_loss: 0.2076\n",
      "Epoch 11/20\n",
      "422/422 - 2s - 6ms/step - accuracy: 0.9233 - loss: 0.2271 - val_accuracy: 0.9400 - val_loss: 0.1942\n",
      "Epoch 12/20\n",
      "422/422 - 3s - 6ms/step - accuracy: 0.9253 - loss: 0.2228 - val_accuracy: 0.9380 - val_loss: 0.2046\n",
      "Epoch 13/20\n",
      "422/422 - 2s - 6ms/step - accuracy: 0.9314 - loss: 0.2076 - val_accuracy: 0.9362 - val_loss: 0.1964\n",
      "Epoch 14/20\n",
      "422/422 - 2s - 6ms/step - accuracy: 0.9317 - loss: 0.2038 - val_accuracy: 0.9385 - val_loss: 0.2002\n",
      "Epoch 15/20\n",
      "422/422 - 2s - 5ms/step - accuracy: 0.9376 - loss: 0.1913 - val_accuracy: 0.9443 - val_loss: 0.1939\n",
      "Epoch 16/20\n",
      "422/422 - 2s - 6ms/step - accuracy: 0.9376 - loss: 0.1845 - val_accuracy: 0.9407 - val_loss: 0.1964\n",
      "Epoch 17/20\n",
      "422/422 - 2s - 6ms/step - accuracy: 0.9398 - loss: 0.1812 - val_accuracy: 0.9383 - val_loss: 0.2028\n",
      "Epoch 18/20\n",
      "422/422 - 2s - 5ms/step - accuracy: 0.9434 - loss: 0.1692 - val_accuracy: 0.9443 - val_loss: 0.1936\n",
      "Epoch 19/20\n",
      "422/422 - 2s - 5ms/step - accuracy: 0.9420 - loss: 0.1720 - val_accuracy: 0.9427 - val_loss: 0.1988\n",
      "Epoch 20/20\n",
      "422/422 - 2s - 5ms/step - accuracy: 0.9445 - loss: 0.1647 - val_accuracy: 0.9428 - val_loss: 0.1884\n",
      "\n",
      "Test accuracy: 0.9351\n"
     ]
    },
    {
     "data": {
      "image/png": "[encoded data removed]",
      "text/plain": [
       "<Figure size 1200x500 with 2 Axes>"
      ]
     },
     "metadata": {},
     "output_type": "display_data"
    }
   ],
   "source": [
    "import numpy as np\n",
    "import tensorflow as tf\n",
    "from tensorflow.keras import layers, models\n",
    "from tensorflow.keras.datasets import mnist\n",
    "from tensorflow.keras.utils import to_categorical\n",
    "import matplotlib.pyplot as plt\n",
    "\n",
    "def getFourierConst(image, desired_length=1000):\n",
    "    \"\"\"\n",
    "    Transforms a 2D image into a 1D Fourier-based feature vector of specified length.\n",
    "    \n",
    "    Parameters:\n",
    "    - image: 2D numpy array representing the grayscale image.\n",
    "    - desired_length: The length of the output feature vector (default is 1000).\n",
    "    \n",
    "    Returns:\n",
    "    - features: 1D numpy array of length `desired_length`.\n",
    "    \"\"\"\n",
    "    # Compute 2D FFT\n",
    "    fft = np.fft.fft2(image)\n",
    "    \n",
    "    # Shift the zero-frequency component to the center\n",
    "    fft_shift = np.fft.fftshift(fft)\n",
    "    \n",
    "    # Flatten the FFT result\n",
    "    fft_flat = fft_shift.flatten()\n",
    "    \n",
    "    # Compute magnitude and phase\n",
    "    magnitude = np.abs(fft_flat)\n",
    "    phase = np.angle(fft_flat)\n",
    "    \n",
    "    # Combine magnitude and phase\n",
    "    features = np.concatenate([magnitude, phase])\n",
    "    \n",
    "    # Adjust the feature vector to the desired length\n",
    "    if len(features) > desired_length:\n",
    "        features = features[:desired_length]\n",
    "    elif len(features) < desired_length:\n",
    "        features = np.pad(features, (0, desired_length - len(features)), 'constant')\n",
    "    \n",
    "    return features\n",
    "\n",
    "# Load MNIST data\n",
    "(train_X, train_y), (test_X, test_y) = mnist.load_data()\n",
    "\n",
    "# Normalize the images to [0, 1]\n",
    "train_X = train_X.astype('float32') / 255.0\n",
    "test_X = test_X.astype('float32') / 255.0\n",
    "\n",
    "# Convert labels to one-hot encoding\n",
    "train_y = to_categorical(train_y)\n",
    "test_y = to_categorical(test_y)\n",
    "\n",
    "# Apply getFourierConst to each image in the training set\n",
    "train_features = np.array([getFourierConst(image) for image in train_X])\n",
    "\n",
    "# Apply getFourierConst to each image in the testing set\n",
    "test_features = np.array([getFourierConst(image) for image in test_X])\n",
    "\n",
    "print(f\"Transformed training data shape: {train_features.shape}\")\n",
    "print(f\"Transformed testing data shape: {test_features.shape}\")\n",
    "\n",
    "# Define the MLP model\n",
    "model = models.Sequential([\n",
    "    layers.Dense(512, activation='relu', input_shape=(1000,)),\n",
    "    layers.Dropout(0.2),\n",
    "    layers.Dense(256, activation='relu'),\n",
    "    layers.Dropout(0.2),\n",
    "    layers.Dense(128, activation='relu'),\n",
    "    layers.Dense(10, activation='softmax')\n",
    "])\n",
    "\n",
    "# Display the model architecture\n",
    "model.summary()\n",
    "\n",
    "# Compile the model\n",
    "model.compile(optimizer='adam',\n",
    "              loss='categorical_crossentropy',\n",
    "              metrics=['accuracy'])\n",
    "\n",
    "# Train the model\n",
    "history = model.fit(train_features, train_y,\n",
    "                    epochs=20,\n",
    "                    batch_size=128,\n",
    "                    validation_split=0.1,\n",
    "                    verbose=2)\n",
    "\n",
    "# Evaluate the model on the test set\n",
    "test_loss, test_acc = model.evaluate(test_features, test_y, verbose=0)\n",
    "print(f'\\nTest accuracy: {test_acc:.4f}')\n",
    "\n",
    "# Plot training & validation accuracy and loss\n",
    "plt.figure(figsize=(12, 5))\n",
    "\n",
    "# Accuracy plot\n",
    "plt.subplot(1, 2, 1)\n",
    "plt.plot(history.history['accuracy'], label='Train Accuracy', color='blue')\n",
    "plt.plot(history.history['val_accuracy'], label='Validation Accuracy', color='orange')\n",
    "plt.title('Model Accuracy')\n",
    "plt.xlabel('Epoch')\n",
    "plt.ylabel('Accuracy')\n",
    "plt.legend(loc='lower right')\n",
    "\n",
    "# Loss plot\n",
    "plt.subplot(1, 2, 2)\n",
    "plt.plot(history.history['loss'], label='Train Loss', color='blue')\n",
    "plt.plot(history.history['val_loss'], label='Validation Loss', color='orange')\n",
    "plt.title('Model Loss')\n",
    "plt.xlabel('Epoch')\n",
    "plt.ylabel('Loss')\n",
    "plt.legend(loc='upper right')\n",
    "\n",
    "plt.tight_layout()\n",
    "plt.show()\n"
   ]
  },
  {
   "cell_type": "code",
   "execution_count": 23,
   "metadata": {},
   "outputs": [
    {
     "data": {
      "text/plain": [
       "(60000, 1000)"
      ]
     },
     "execution_count": 23,
     "metadata": {},
     "output_type": "execute_result"
    }
   ],
   "source": [
    "train_features.shape"
   ]
  },
  {
   "cell_type": "code",
   "execution_count": null,
   "metadata": {},
   "outputs": [],
   "source": []
  }
 ],
 "metadata": {
  "kernelspec": {
   "display_name": ".venv",
   "language": "python",
   "name": "python3"
  },
  "language_info": {
   "codemirror_mode": {
    "name": "ipython",
    "version": 3
   },
   "file_extension": ".py",
   "mimetype": "text/x-python",
   "name": "python",
   "nbconvert_exporter": "python",
   "pygments_lexer": "ipython3",
   "version": "3.12.8"
  }
 },
 "nbformat": 4,
 "nbformat_minor": 2
}
