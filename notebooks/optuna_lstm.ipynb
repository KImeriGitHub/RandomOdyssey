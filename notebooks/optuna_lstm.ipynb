{
 "cells": [
  {
   "cell_type": "code",
   "execution_count": 1,
   "id": "0c3b363e",
   "metadata": {},
   "outputs": [
    {
     "name": "stdout",
     "output_type": "stream",
     "text": [
      "2025-09-02 09:59:49,528 - This will print to the notebook's output cell\n"
     ]
    },
    {
     "name": "stderr",
     "output_type": "stream",
     "text": [
      "c:\\Users\\kimer\\Desktop\\RandomOdyssey\\.venv\\Lib\\site-packages\\tqdm\\auto.py:21: TqdmWarning: IProgress not found. Please update jupyter and ipywidgets. See https://ipywidgets.readthedocs.io/en/stable/user_install.html\n",
      "  from .autonotebook import tqdm as notebook_tqdm\n"
     ]
    }
   ],
   "source": [
    "import sys\n",
    "import os\n",
    "\n",
    "# Get the absolute path to the project directory\n",
    "project_dir = os.path.abspath(\"..\")\n",
    "\n",
    "# Append the project directory to sys.path\n",
    "if project_dir not in sys.path:\n",
    "    sys.path.append(project_dir)\n",
    "    \n",
    "from src.predictionModule.LoadupSamples import LoadupSamples\n",
    "from src.predictionModule.MachineModels import MachineModels \n",
    "from src.predictionModule.FilterSamples import FilterSamples\n",
    "\n",
    "import numpy as np\n",
    "import datetime\n",
    "import pandas as pd\n",
    "import polars as pl\n",
    "import optuna\n",
    "import scipy\n",
    "\n",
    "import logging\n",
    "formatted_date = datetime.datetime.now().strftime(\"%d%b%y_%H%M\").lower()\n",
    "\n",
    "logger = logging.getLogger()\n",
    "logger.setLevel(logging.DEBUG)\n",
    "handler = logging.StreamHandler(sys.stdout)\n",
    "formatter = logging.Formatter(fmt=\"%(asctime)s - %(message)s\")\n",
    "handler.setFormatter(formatter)\n",
    "if not logger.hasHandlers():\n",
    "    logger.addHandler(handler)\n",
    "else:\n",
    "    logger.handlers[:] = [handler]\n",
    "\n",
    "#Output File handler\n",
    "formatted_str = f\"notebook-lstm-optuna-{formatted_date}\"\n",
    "file_handler = logging.FileHandler(f\"{formatted_str}.log\", mode=\"w\")\n",
    "file_handler.setFormatter(formatter)\n",
    "logger.addHandler(file_handler)\n",
    "\n",
    "# Usage\n",
    "logger.info(\"This will print to the notebook's output cell\")"
   ]
  },
  {
   "cell_type": "code",
   "execution_count": 2,
   "id": "cb954e7d",
   "metadata": {},
   "outputs": [],
   "source": [
    "params_default = {\n",
    "    \"idxAfterPrediction\": 5,\n",
    "    'timesteps': 90,\n",
    "    'target_option': 'last',\n",
    "    \"LoadupSamples_time_scaling_stretch\": True,\n",
    "    \"LoadupSamples_time_inc_factor\": 10,\n",
    "    \n",
    "    \"LSTM_units\": 32,\n",
    "    \"LSTM_num_layers\": 2,\n",
    "    \"LSTM_dropout\": 0.001,\n",
    "    \"LSTM_recurrent_dropout\": 0.001,\n",
    "    \"LSTM_learning_rate\": 0.001,\n",
    "    \"LSTM_optimizer\": \"adam\",\n",
    "    \"LSTM_bidirectional\": True,\n",
    "    \"LSTM_batch_size\": 2**12,\n",
    "    \"LSTM_epochs\": 10,\n",
    "    \"LSTM_l1\": 0.001,\n",
    "    \"LSTM_l2\": 0.001,\n",
    "    \"LSTM_inter_dropout\": 0.001,\n",
    "    \"LSTM_input_gaussian_noise\": 0.001,\n",
    "    \"LSTM_conv1d\": True,\n",
    "    \"LSTM_conv1d_kernel_size\": 3,\n",
    "    \"LSTM_loss\": \"mse\",\n",
    "}"
   ]
  },
  {
   "cell_type": "code",
   "execution_count": 3,
   "id": "b05214fc",
   "metadata": {},
   "outputs": [],
   "source": [
    "stock_group = \"group_regOHLCV_over5years\"\n",
    "treegroup = \"group_finanTo2011\"\n",
    "eval_date = datetime.date(year=2025, month=7, day=13)\n",
    "split_date = datetime.date(year=2025, month=1, day=1)\n",
    "\n",
    "studytime = 60*60*1\n",
    "studyname = f\"sandbox_lstm_optuna_{formatted_str}\"\n",
    "n_startup_trials = 7\n",
    "q_full = 0.986"
   ]
  },
  {
   "cell_type": "code",
   "execution_count": null,
   "id": "ed3912a3",
   "metadata": {},
   "outputs": [
    {
     "name": "stderr",
     "output_type": "stream",
     "text": [
      "[I 2025-09-02 09:59:51,301] A new study created in RDB with name: sandbox_lstm_optuna_notebook-lstm-optuna-02sep25_0959\n"
     ]
    },
    {
     "name": "stdout",
     "output_type": "stream",
     "text": [
      "2025-09-02 09:59:51,301 - A new study created in RDB with name: sandbox_lstm_optuna_notebook-lstm-optuna-02sep25_0959\n",
      "2025-09-02 10:00:48,051 - Test date 2025-07-13 not found in the database. Omitting.\n",
      "2025-09-02 10:00:55,166 - Non-finite/too-large values in train y tree: 15 samples.\n",
      "2025-09-02 10:00:55,166 - Non-finite/too-large values in train X tree: 121 samples.\n",
      "2025-09-02 10:00:55,169 - Non-finite/too-large values in train y time: 15 samples.\n",
      "2025-09-02 10:00:55,175 - Removing 136 samples from training data.\n"
     ]
    },
    {
     "name": "stderr",
     "output_type": "stream",
     "text": [
      "Epochs:   0%|          | 0/2 [00:00<?, ?it/s]"
     ]
    },
    {
     "name": "stdout",
     "output_type": "stream",
     "text": [
      "2025-09-02 10:01:43,372 - Epoch 1/2 — Train RMSE: 0.5317 — Validation RMSE: 0.4230\n"
     ]
    },
    {
     "name": "stderr",
     "output_type": "stream",
     "text": [
      "Epochs:  50%|█████     | 1/2 [00:14<00:14, 14.32s/it]"
     ]
    },
    {
     "name": "stdout",
     "output_type": "stream",
     "text": [
      "2025-09-02 10:01:57,256 - Epoch 2/2 — Train RMSE: 0.3738 — Validation RMSE: 0.3512\n"
     ]
    },
    {
     "name": "stderr",
     "output_type": "stream",
     "text": [
      "Epochs: 100%|██████████| 2/2 [00:28<00:00, 14.10s/it]\n"
     ]
    },
    {
     "name": "stdout",
     "output_type": "stream",
     "text": [
      "2025-09-02 10:01:57,883 - Trial 0 with params: {'idxAfterPrediction': 5, 'timesteps': 35, 'target_option': 'last', 'LoadupSamples_time_scaling_stretch': True, 'LoadupSamples_time_inc_factor': 31, 'LSTM_units': 32, 'LSTM_num_layers': 2, 'LSTM_dropout': 0.0006143361841930866, 'LSTM_recurrent_dropout': 0.041928845953514794, 'LSTM_learning_rate': 0.00022624156210014311, 'LSTM_optimizer': 'adam', 'LSTM_bidirectional': True, 'LSTM_batch_size': 4096, 'LSTM_epochs': 2, 'LSTM_l1': 0.0077489224076062145, 'LSTM_l2': 0.0007235856144778692, 'LSTM_inter_dropout': 0.00010496161943438441, 'LSTM_input_gaussian_noise': 0.001, 'LSTM_conv1d': True, 'LSTM_conv1d_kernel_size': 3, 'LSTM_loss': 'mse', 'year_start': 2019, 'is_single_feature': False}\n",
      "2025-09-02 10:01:57,888 -   q0: 0.9860\n",
      "2025-09-02 10:01:57,888 -   Duration0: 0:00:30.219853\n",
      "2025-09-02 10:01:57,888 -   Val RMSE0 adjusted: 0.0113\n",
      "2025-09-02 10:01:57,891 -   Mean all prediction: 1.0003\n",
      "2025-09-02 10:01:57,892 -   Mean above prediction: 1.0015\n",
      "2025-09-02 10:01:57,894 -   Mean below prediction: 0.9989\n",
      "2025-09-02 10:01:57,894 -   Quantile 0.99 for distance in mask above: 707.299999999999\n",
      "2025-09-02 10:01:57,894 -   Quantile 0.99 for distance in mask below: 662.0199999999998\n",
      "2025-09-02 10:01:57,894 -   Ratio for quantile-distance-to-length above: 0.0078\n",
      "2025-09-02 10:01:57,894 -   Ratio for quantile-distance-to-length below: 0.0073\n",
      "2025-09-02 10:01:57,894 -   Score: 1.0003\n"
     ]
    },
    {
     "name": "stderr",
     "output_type": "stream",
     "text": [
      "[I 2025-09-02 10:01:58,422] Trial 0 finished with value: 1.0003045864678988 and parameters: {'year_start': 2019, 'LoadupSamples_time_inc_factor': 31, 'timesteps': 35, 'LSTM_num_layers': 2, 'LSTM_learning_rate': 0.00022624156210014311, 'LSTM_l1': 0.0077489224076062145, 'LSTM_l2': 0.0007235856144778692, 'LSTM_dropout': 0.0006143361841930866, 'LSTM_inter_dropout': 0.00010496161943438441, 'LSTM_recurrent_dropout': 0.041928845953514794, 'is_single_feature': False}. Best is trial 0 with value: 1.0003045864678988.\n"
     ]
    },
    {
     "name": "stdout",
     "output_type": "stream",
     "text": [
      "2025-09-02 10:01:58,422 - Trial 0 finished with value: 1.0003045864678988 and parameters: {'year_start': 2019, 'LoadupSamples_time_inc_factor': 31, 'timesteps': 35, 'LSTM_num_layers': 2, 'LSTM_learning_rate': 0.00022624156210014311, 'LSTM_l1': 0.0077489224076062145, 'LSTM_l2': 0.0007235856144778692, 'LSTM_dropout': 0.0006143361841930866, 'LSTM_inter_dropout': 0.00010496161943438441, 'LSTM_recurrent_dropout': 0.041928845953514794, 'is_single_feature': False}. Best is trial 0 with value: 1.0003045864678988.\n",
      "2025-09-02 10:02:38,844 - Test date 2025-07-13 not found in the database. Omitting.\n",
      "2025-09-02 10:02:43,596 - Non-finite/too-large values in train y tree: 15 samples.\n",
      "2025-09-02 10:02:43,596 - Non-finite/too-large values in train X tree: 86 samples.\n",
      "2025-09-02 10:02:43,600 - Non-finite/too-large values in train y time: 15 samples.\n",
      "2025-09-02 10:02:43,600 - Removing 101 samples from training data.\n"
     ]
    },
    {
     "name": "stderr",
     "output_type": "stream",
     "text": [
      "Epochs:   0%|          | 0/2 [00:00<?, ?it/s]"
     ]
    },
    {
     "name": "stdout",
     "output_type": "stream",
     "text": [
      "2025-09-02 10:03:20,111 - Epoch 1/2 — Train RMSE: 0.5898 — Validation RMSE: 0.5907\n"
     ]
    },
    {
     "name": "stderr",
     "output_type": "stream",
     "text": [
      "Epochs:  50%|█████     | 1/2 [00:12<00:12, 12.95s/it]"
     ]
    },
    {
     "name": "stdout",
     "output_type": "stream",
     "text": [
      "2025-09-02 10:03:32,918 - Epoch 2/2 — Train RMSE: 0.5834 — Validation RMSE: 0.5844\n"
     ]
    },
    {
     "name": "stderr",
     "output_type": "stream",
     "text": [
      "Epochs: 100%|██████████| 2/2 [00:25<00:00, 12.88s/it]\n"
     ]
    },
    {
     "name": "stdout",
     "output_type": "stream",
     "text": [
      "2025-09-02 10:03:33,478 - Trial 1 with params: {'idxAfterPrediction': 5, 'timesteps': 65, 'target_option': 'last', 'LoadupSamples_time_scaling_stretch': True, 'LoadupSamples_time_inc_factor': 61, 'LSTM_units': 32, 'LSTM_num_layers': 2, 'LSTM_dropout': 0.028257087486169563, 'LSTM_recurrent_dropout': 0.000244372089137408, 'LSTM_learning_rate': 0.00011141391191106847, 'LSTM_optimizer': 'adam', 'LSTM_bidirectional': True, 'LSTM_batch_size': 4096, 'LSTM_epochs': 2, 'LSTM_l1': 0.07591170551548754, 'LSTM_l2': 0.2807386237573175, 'LSTM_inter_dropout': 0.0496264924614683, 'LSTM_input_gaussian_noise': 0.001, 'LSTM_conv1d': True, 'LSTM_conv1d_kernel_size': 3, 'LSTM_loss': 'mse', 'year_start': 2021, 'is_single_feature': False}\n",
      "2025-09-02 10:03:33,478 -   q0: 0.9860\n",
      "2025-09-02 10:03:33,478 -   Duration0: 0:00:26.364847\n",
      "2025-09-02 10:03:33,478 -   Val RMSE0 adjusted: 0.0096\n",
      "2025-09-02 10:03:33,482 -   Mean all prediction: 1.0003\n",
      "2025-09-02 10:03:33,482 -   Mean above prediction: 1.0001\n",
      "2025-09-02 10:03:33,484 -   Mean below prediction: 1.0000\n",
      "2025-09-02 10:03:33,485 -   Quantile 0.99 for distance in mask above: 754.2199999999973\n",
      "2025-09-02 10:03:33,485 -   Quantile 0.99 for distance in mask below: 604.3999999999992\n",
      "2025-09-02 10:03:33,485 -   Ratio for quantile-distance-to-length above: 0.0083\n",
      "2025-09-02 10:03:33,487 -   Ratio for quantile-distance-to-length below: 0.0067\n",
      "2025-09-02 10:03:33,487 -   Score: 1.0000\n"
     ]
    },
    {
     "name": "stderr",
     "output_type": "stream",
     "text": [
      "[I 2025-09-02 10:03:33,850] Trial 1 finished with value: 1.0000210358856885 and parameters: {'year_start': 2021, 'LoadupSamples_time_inc_factor': 61, 'timesteps': 65, 'LSTM_num_layers': 2, 'LSTM_learning_rate': 0.00011141391191106847, 'LSTM_l1': 0.07591170551548754, 'LSTM_l2': 0.2807386237573175, 'LSTM_dropout': 0.028257087486169563, 'LSTM_inter_dropout': 0.0496264924614683, 'LSTM_recurrent_dropout': 0.000244372089137408, 'is_single_feature': False}. Best is trial 0 with value: 1.0003045864678988.\n"
     ]
    },
    {
     "name": "stdout",
     "output_type": "stream",
     "text": [
      "2025-09-02 10:03:33,850 - Trial 1 finished with value: 1.0000210358856885 and parameters: {'year_start': 2021, 'LoadupSamples_time_inc_factor': 61, 'timesteps': 65, 'LSTM_num_layers': 2, 'LSTM_learning_rate': 0.00011141391191106847, 'LSTM_l1': 0.07591170551548754, 'LSTM_l2': 0.2807386237573175, 'LSTM_dropout': 0.028257087486169563, 'LSTM_inter_dropout': 0.0496264924614683, 'LSTM_recurrent_dropout': 0.000244372089137408, 'is_single_feature': False}. Best is trial 0 with value: 1.0003045864678988.\n",
      "2025-09-02 10:04:14,201 - Test date 2025-07-13 not found in the database. Omitting.\n",
      "2025-09-02 10:04:18,783 - Non-finite/too-large values in train y tree: 15 samples.\n",
      "2025-09-02 10:04:18,786 - Non-finite/too-large values in train X tree: 86 samples.\n",
      "2025-09-02 10:04:18,786 - Non-finite/too-large values in train y time: 15 samples.\n",
      "2025-09-02 10:04:18,790 - Removing 101 samples from training data.\n"
     ]
    },
    {
     "name": "stderr",
     "output_type": "stream",
     "text": [
      "Epochs:   0%|          | 0/2 [00:00<?, ?it/s]"
     ]
    },
    {
     "name": "stdout",
     "output_type": "stream",
     "text": [
      "2025-09-02 10:04:51,190 - Epoch 1/2 — Train RMSE: 0.3649 — Validation RMSE: 0.3563\n"
     ]
    },
    {
     "name": "stderr",
     "output_type": "stream",
     "text": [
      "Epochs:  50%|█████     | 1/2 [00:10<00:10, 10.17s/it]"
     ]
    },
    {
     "name": "stdout",
     "output_type": "stream",
     "text": [
      "2025-09-02 10:05:01,225 - Epoch 2/2 — Train RMSE: 0.3543 — Validation RMSE: 0.3562\n"
     ]
    },
    {
     "name": "stderr",
     "output_type": "stream",
     "text": [
      "Epochs: 100%|██████████| 2/2 [00:20<00:00, 10.10s/it]\n"
     ]
    },
    {
     "name": "stdout",
     "output_type": "stream",
     "text": [
      "2025-09-02 10:05:01,699 - Trial 2 with params: {'idxAfterPrediction': 5, 'timesteps': 40, 'target_option': 'last', 'LoadupSamples_time_scaling_stretch': True, 'LoadupSamples_time_inc_factor': 36, 'LSTM_units': 32, 'LSTM_num_layers': 2, 'LSTM_dropout': 0.00048087929611064867, 'LSTM_recurrent_dropout': 0.005591038980806547, 'LSTM_learning_rate': 0.0008681844569949995, 'LSTM_optimizer': 'adam', 'LSTM_bidirectional': True, 'LSTM_batch_size': 4096, 'LSTM_epochs': 2, 'LSTM_l1': 5.459744004685951e-05, 'LSTM_l2': 0.000241031692023469, 'LSTM_inter_dropout': 0.07351456545119792, 'LSTM_input_gaussian_noise': 0.001, 'LSTM_conv1d': True, 'LSTM_conv1d_kernel_size': 3, 'LSTM_loss': 'mse', 'year_start': 2021, 'is_single_feature': True}\n",
      "2025-09-02 10:05:01,699 -   q0: 0.9860\n",
      "2025-09-02 10:05:01,699 -   Duration0: 0:00:20.693882\n",
      "2025-09-02 10:05:01,699 -   Val RMSE0 adjusted: 0.0099\n",
      "2025-09-02 10:05:01,703 -   Mean all prediction: 1.0003\n",
      "2025-09-02 10:05:01,704 -   Mean above prediction: 1.0036\n",
      "2025-09-02 10:05:01,704 -   Mean below prediction: 0.9964\n",
      "2025-09-02 10:05:01,706 -   Quantile 0.99 for distance in mask above: 831.5599999999972\n",
      "2025-09-02 10:05:01,706 -   Quantile 0.99 for distance in mask below: 785.8199999999981\n",
      "2025-09-02 10:05:01,706 -   Ratio for quantile-distance-to-length above: 0.0092\n",
      "2025-09-02 10:05:01,706 -   Ratio for quantile-distance-to-length below: 0.0087\n",
      "2025-09-02 10:05:01,706 -   Score: 1.0007\n"
     ]
    },
    {
     "name": "stderr",
     "output_type": "stream",
     "text": [
      "[I 2025-09-02 10:05:02,151] Trial 2 finished with value: 1.0007193456831887 and parameters: {'year_start': 2021, 'LoadupSamples_time_inc_factor': 36, 'timesteps': 40, 'LSTM_num_layers': 2, 'LSTM_learning_rate': 0.0008681844569949995, 'LSTM_l1': 5.459744004685951e-05, 'LSTM_l2': 0.000241031692023469, 'LSTM_dropout': 0.00048087929611064867, 'LSTM_inter_dropout': 0.07351456545119792, 'LSTM_recurrent_dropout': 0.005591038980806547, 'is_single_feature': True}. Best is trial 2 with value: 1.0007193456831887.\n"
     ]
    },
    {
     "name": "stdout",
     "output_type": "stream",
     "text": [
      "2025-09-02 10:05:02,151 - Trial 2 finished with value: 1.0007193456831887 and parameters: {'year_start': 2021, 'LoadupSamples_time_inc_factor': 36, 'timesteps': 40, 'LSTM_num_layers': 2, 'LSTM_learning_rate': 0.0008681844569949995, 'LSTM_l1': 5.459744004685951e-05, 'LSTM_l2': 0.000241031692023469, 'LSTM_dropout': 0.00048087929611064867, 'LSTM_inter_dropout': 0.07351456545119792, 'LSTM_recurrent_dropout': 0.005591038980806547, 'is_single_feature': True}. Best is trial 2 with value: 1.0007193456831887.\n",
      "2025-09-02 10:06:00,163 - Test date 2025-07-13 not found in the database. Omitting.\n",
      "2025-09-02 10:06:07,234 - Non-finite/too-large values in train y tree: 15 samples.\n",
      "2025-09-02 10:06:07,238 - Non-finite/too-large values in train X tree: 121 samples.\n",
      "2025-09-02 10:06:07,242 - Non-finite/too-large values in train y time: 15 samples.\n",
      "2025-09-02 10:06:07,245 - Removing 136 samples from training data.\n"
     ]
    },
    {
     "name": "stderr",
     "output_type": "stream",
     "text": [
      "Epochs:   0%|          | 0/2 [00:00<?, ?it/s]"
     ]
    },
    {
     "name": "stdout",
     "output_type": "stream",
     "text": [
      "2025-09-02 10:07:04,901 - Epoch 1/2 — Train RMSE: 0.5638 — Validation RMSE: 0.4496\n"
     ]
    },
    {
     "name": "stderr",
     "output_type": "stream",
     "text": [
      "Epochs:  50%|█████     | 1/2 [00:20<00:20, 20.39s/it]"
     ]
    },
    {
     "name": "stdout",
     "output_type": "stream",
     "text": [
      "2025-09-02 10:07:25,227 - Epoch 2/2 — Train RMSE: 0.4381 — Validation RMSE: 0.4370\n"
     ]
    },
    {
     "name": "stderr",
     "output_type": "stream",
     "text": [
      "Epochs: 100%|██████████| 2/2 [00:40<00:00, 20.36s/it]\n"
     ]
    },
    {
     "name": "stdout",
     "output_type": "stream",
     "text": [
      "2025-09-02 10:07:25,867 - Trial 3 with params: {'idxAfterPrediction': 5, 'timesteps': 70, 'target_option': 'last', 'LoadupSamples_time_scaling_stretch': True, 'LoadupSamples_time_inc_factor': 81, 'LSTM_units': 32, 'LSTM_num_layers': 2, 'LSTM_dropout': 0.00782174289217953, 'LSTM_recurrent_dropout': 0.00034004667997811563, 'LSTM_learning_rate': 0.00019626736830916645, 'LSTM_optimizer': 'adam', 'LSTM_bidirectional': True, 'LSTM_batch_size': 4096, 'LSTM_epochs': 2, 'LSTM_l1': 1.1236814373232153e-05, 'LSTM_l2': 0.06503538427205942, 'LSTM_inter_dropout': 0.0002913427471109134, 'LSTM_input_gaussian_noise': 0.001, 'LSTM_conv1d': True, 'LSTM_conv1d_kernel_size': 3, 'LSTM_loss': 'mse', 'year_start': 2019, 'is_single_feature': False}\n",
      "2025-09-02 10:07:25,867 -   q0: 0.9860\n",
      "2025-09-02 10:07:25,869 -   Duration0: 0:00:41.423820\n",
      "2025-09-02 10:07:25,869 -   Val RMSE0 adjusted: 0.0054\n",
      "2025-09-02 10:07:25,869 -   Mean all prediction: 1.0003\n",
      "2025-09-02 10:07:25,869 -   Mean above prediction: 1.0192\n",
      "2025-09-02 10:07:25,873 -   Mean below prediction: 0.9979\n",
      "2025-09-02 10:07:25,873 -   Quantile 0.99 for distance in mask above: 697.3399999999999\n",
      "2025-09-02 10:07:25,873 -   Quantile 0.99 for distance in mask below: 691.3599999999997\n",
      "2025-09-02 10:07:25,873 -   Ratio for quantile-distance-to-length above: 0.0077\n",
      "2025-09-02 10:07:25,876 -   Ratio for quantile-distance-to-length below: 0.0076\n",
      "2025-09-02 10:07:25,878 -   Score: 1.0038\n"
     ]
    },
    {
     "name": "stderr",
     "output_type": "stream",
     "text": [
      "[I 2025-09-02 10:07:26,522] Trial 3 finished with value: 1.0038045605340327 and parameters: {'year_start': 2019, 'LoadupSamples_time_inc_factor': 81, 'timesteps': 70, 'LSTM_num_layers': 2, 'LSTM_learning_rate': 0.00019626736830916645, 'LSTM_l1': 1.1236814373232153e-05, 'LSTM_l2': 0.06503538427205942, 'LSTM_dropout': 0.00782174289217953, 'LSTM_inter_dropout': 0.0002913427471109134, 'LSTM_recurrent_dropout': 0.00034004667997811563, 'is_single_feature': False}. Best is trial 3 with value: 1.0038045605340327.\n"
     ]
    },
    {
     "name": "stdout",
     "output_type": "stream",
     "text": [
      "2025-09-02 10:07:26,522 - Trial 3 finished with value: 1.0038045605340327 and parameters: {'year_start': 2019, 'LoadupSamples_time_inc_factor': 81, 'timesteps': 70, 'LSTM_num_layers': 2, 'LSTM_learning_rate': 0.00019626736830916645, 'LSTM_l1': 1.1236814373232153e-05, 'LSTM_l2': 0.06503538427205942, 'LSTM_dropout': 0.00782174289217953, 'LSTM_inter_dropout': 0.0002913427471109134, 'LSTM_recurrent_dropout': 0.00034004667997811563, 'is_single_feature': False}. Best is trial 3 with value: 1.0038045605340327.\n",
      "2025-09-02 10:08:26,641 - Test date 2025-07-13 not found in the database. Omitting.\n",
      "2025-09-02 10:08:34,644 - Non-finite/too-large values in train y tree: 15 samples.\n",
      "2025-09-02 10:08:34,645 - Non-finite/too-large values in train X tree: 121 samples.\n",
      "2025-09-02 10:08:34,649 - Non-finite/too-large values in train y time: 15 samples.\n",
      "2025-09-02 10:08:34,653 - Removing 136 samples from training data.\n"
     ]
    },
    {
     "name": "stderr",
     "output_type": "stream",
     "text": [
      "Epochs:   0%|          | 0/2 [00:00<?, ?it/s]"
     ]
    },
    {
     "name": "stdout",
     "output_type": "stream",
     "text": [
      "2025-09-02 10:09:33,413 - Epoch 1/2 — Train RMSE: 0.3912 — Validation RMSE: 0.3442\n"
     ]
    },
    {
     "name": "stderr",
     "output_type": "stream",
     "text": [
      "Epochs:  50%|█████     | 1/2 [00:20<00:20, 20.65s/it]"
     ]
    },
    {
     "name": "stdout",
     "output_type": "stream",
     "text": [
      "2025-09-02 10:09:53,467 - Epoch 2/2 — Train RMSE: 0.3373 — Validation RMSE: 0.3402\n"
     ]
    },
    {
     "name": "stderr",
     "output_type": "stream",
     "text": [
      "Epochs: 100%|██████████| 2/2 [00:40<00:00, 20.35s/it]\n"
     ]
    },
    {
     "name": "stdout",
     "output_type": "stream",
     "text": [
      "2025-09-02 10:09:54,217 - Trial 4 with params: {'idxAfterPrediction': 5, 'timesteps': 85, 'target_option': 'last', 'LoadupSamples_time_scaling_stretch': True, 'LoadupSamples_time_inc_factor': 31, 'LSTM_units': 32, 'LSTM_num_layers': 2, 'LSTM_dropout': 0.0006964151573601661, 'LSTM_recurrent_dropout': 0.0005055070197397495, 'LSTM_learning_rate': 0.00046989648519144266, 'LSTM_optimizer': 'adam', 'LSTM_bidirectional': True, 'LSTM_batch_size': 4096, 'LSTM_epochs': 2, 'LSTM_l1': 0.0024813584179645535, 'LSTM_l2': 0.0207720341981266, 'LSTM_inter_dropout': 0.0009926147569562242, 'LSTM_input_gaussian_noise': 0.001, 'LSTM_conv1d': True, 'LSTM_conv1d_kernel_size': 3, 'LSTM_loss': 'mse', 'year_start': 2019, 'is_single_feature': True}\n",
      "2025-09-02 10:09:54,217 -   q0: 0.9860\n",
      "2025-09-02 10:09:54,217 -   Duration0: 0:00:41.506618\n",
      "2025-09-02 10:09:54,217 -   Val RMSE0 adjusted: 0.0110\n",
      "2025-09-02 10:09:54,220 -   Mean all prediction: 1.0003\n",
      "2025-09-02 10:09:54,222 -   Mean above prediction: 0.9972\n",
      "2025-09-02 10:09:54,222 -   Mean below prediction: 1.0044\n",
      "2025-09-02 10:09:54,222 -   Quantile 0.99 for distance in mask above: 677.9400000000007\n",
      "2025-09-02 10:09:54,222 -   Quantile 0.99 for distance in mask below: 712.5899999999999\n",
      "2025-09-02 10:09:54,222 -   Ratio for quantile-distance-to-length above: 0.0075\n",
      "2025-09-02 10:09:54,222 -   Ratio for quantile-distance-to-length below: 0.0079\n",
      "2025-09-02 10:09:54,222 -   Score: 0.9994\n"
     ]
    },
    {
     "name": "stderr",
     "output_type": "stream",
     "text": [
      "[I 2025-09-02 10:09:54,762] Trial 4 finished with value: 0.9994410795271169 and parameters: {'year_start': 2019, 'LoadupSamples_time_inc_factor': 31, 'timesteps': 85, 'LSTM_num_layers': 2, 'LSTM_learning_rate': 0.00046989648519144266, 'LSTM_l1': 0.0024813584179645535, 'LSTM_l2': 0.0207720341981266, 'LSTM_dropout': 0.0006964151573601661, 'LSTM_inter_dropout': 0.0009926147569562242, 'LSTM_recurrent_dropout': 0.0005055070197397495, 'is_single_feature': True}. Best is trial 3 with value: 1.0038045605340327.\n"
     ]
    },
    {
     "name": "stdout",
     "output_type": "stream",
     "text": [
      "2025-09-02 10:09:54,762 - Trial 4 finished with value: 0.9994410795271169 and parameters: {'year_start': 2019, 'LoadupSamples_time_inc_factor': 31, 'timesteps': 85, 'LSTM_num_layers': 2, 'LSTM_learning_rate': 0.00046989648519144266, 'LSTM_l1': 0.0024813584179645535, 'LSTM_l2': 0.0207720341981266, 'LSTM_dropout': 0.0006964151573601661, 'LSTM_inter_dropout': 0.0009926147569562242, 'LSTM_recurrent_dropout': 0.0005055070197397495, 'is_single_feature': True}. Best is trial 3 with value: 1.0038045605340327.\n",
      "2025-09-02 10:10:36,308 - Test date 2025-07-13 not found in the database. Omitting.\n",
      "2025-09-02 10:10:41,564 - Non-finite/too-large values in train y tree: 15 samples.\n",
      "2025-09-02 10:10:41,567 - Non-finite/too-large values in train X tree: 86 samples.\n",
      "2025-09-02 10:10:41,568 - Non-finite/too-large values in train y time: 15 samples.\n",
      "2025-09-02 10:10:41,568 - Removing 101 samples from training data.\n"
     ]
    },
    {
     "name": "stderr",
     "output_type": "stream",
     "text": [
      "Epochs:   0%|          | 0/2 [00:00<?, ?it/s]"
     ]
    },
    {
     "name": "stdout",
     "output_type": "stream",
     "text": [
      "2025-09-02 10:11:18,722 - Epoch 1/2 — Train RMSE: 0.4151 — Validation RMSE: 0.3750\n"
     ]
    },
    {
     "name": "stderr",
     "output_type": "stream",
     "text": [
      "Epochs:  50%|█████     | 1/2 [00:12<00:12, 12.64s/it]"
     ]
    },
    {
     "name": "stdout",
     "output_type": "stream",
     "text": [
      "2025-09-02 10:11:31,306 - Epoch 2/2 — Train RMSE: 0.3560 — Validation RMSE: 0.3530\n"
     ]
    },
    {
     "name": "stderr",
     "output_type": "stream",
     "text": [
      "Epochs: 100%|██████████| 2/2 [00:25<00:00, 12.61s/it]\n"
     ]
    },
    {
     "name": "stdout",
     "output_type": "stream",
     "text": [
      "2025-09-02 10:11:31,979 - Trial 5 with params: {'idxAfterPrediction': 5, 'timesteps': 65, 'target_option': 'last', 'LoadupSamples_time_scaling_stretch': True, 'LoadupSamples_time_inc_factor': 31, 'LSTM_units': 32, 'LSTM_num_layers': 2, 'LSTM_dropout': 0.006360434492490002, 'LSTM_recurrent_dropout': 0.0002752538155748905, 'LSTM_learning_rate': 0.00011840158658641809, 'LSTM_optimizer': 'adam', 'LSTM_bidirectional': True, 'LSTM_batch_size': 4096, 'LSTM_epochs': 2, 'LSTM_l1': 0.004106783949232612, 'LSTM_l2': 0.00010721529351563233, 'LSTM_inter_dropout': 0.0014751925362605023, 'LSTM_input_gaussian_noise': 0.001, 'LSTM_conv1d': True, 'LSTM_conv1d_kernel_size': 3, 'LSTM_loss': 'mse', 'year_start': 2021, 'is_single_feature': True}\n",
      "2025-09-02 10:11:31,980 -   q0: 0.9860\n",
      "2025-09-02 10:11:31,981 -   Duration0: 0:00:25.906752\n",
      "2025-09-02 10:11:31,981 -   Val RMSE0 adjusted: 0.0114\n",
      "2025-09-02 10:11:31,982 -   Mean all prediction: 1.0003\n",
      "2025-09-02 10:11:31,985 -   Mean above prediction: 1.0100\n",
      "2025-09-02 10:11:31,985 -   Mean below prediction: 0.9947\n",
      "2025-09-02 10:11:31,985 -   Quantile 0.99 for distance in mask above: 823.7399999999991\n",
      "2025-09-02 10:11:31,985 -   Quantile 0.99 for distance in mask below: 745.2999999999963\n",
      "2025-09-02 10:11:31,985 -   Ratio for quantile-distance-to-length above: 0.0091\n",
      "2025-09-02 10:11:31,985 -   Ratio for quantile-distance-to-length below: 0.0082\n",
      "2025-09-02 10:11:31,985 -   Score: 1.0020\n"
     ]
    },
    {
     "name": "stderr",
     "output_type": "stream",
     "text": [
      "[I 2025-09-02 10:11:32,364] Trial 5 finished with value: 1.0019991143896265 and parameters: {'year_start': 2021, 'LoadupSamples_time_inc_factor': 31, 'timesteps': 65, 'LSTM_num_layers': 2, 'LSTM_learning_rate': 0.00011840158658641809, 'LSTM_l1': 0.004106783949232612, 'LSTM_l2': 0.00010721529351563233, 'LSTM_dropout': 0.006360434492490002, 'LSTM_inter_dropout': 0.0014751925362605023, 'LSTM_recurrent_dropout': 0.0002752538155748905, 'is_single_feature': True}. Best is trial 3 with value: 1.0038045605340327.\n"
     ]
    },
    {
     "name": "stdout",
     "output_type": "stream",
     "text": [
      "2025-09-02 10:11:32,364 - Trial 5 finished with value: 1.0019991143896265 and parameters: {'year_start': 2021, 'LoadupSamples_time_inc_factor': 31, 'timesteps': 65, 'LSTM_num_layers': 2, 'LSTM_learning_rate': 0.00011840158658641809, 'LSTM_l1': 0.004106783949232612, 'LSTM_l2': 0.00010721529351563233, 'LSTM_dropout': 0.006360434492490002, 'LSTM_inter_dropout': 0.0014751925362605023, 'LSTM_recurrent_dropout': 0.0002752538155748905, 'is_single_feature': True}. Best is trial 3 with value: 1.0038045605340327.\n",
      "2025-09-02 10:12:32,213 - Test date 2025-07-13 not found in the database. Omitting.\n",
      "2025-09-02 10:12:39,144 - Non-finite/too-large values in train y tree: 15 samples.\n",
      "2025-09-02 10:12:39,151 - Non-finite/too-large values in train X tree: 121 samples.\n",
      "2025-09-02 10:12:39,152 - Non-finite/too-large values in train y time: 15 samples.\n",
      "2025-09-02 10:12:39,158 - Removing 136 samples from training data.\n"
     ]
    },
    {
     "name": "stderr",
     "output_type": "stream",
     "text": [
      "Epochs:   0%|          | 0/2 [00:00<?, ?it/s]"
     ]
    },
    {
     "name": "stdout",
     "output_type": "stream",
     "text": [
      "2025-09-02 10:13:32,647 - Epoch 1/2 — Train RMSE: 0.6398 — Validation RMSE: 0.6315\n"
     ]
    },
    {
     "name": "stderr",
     "output_type": "stream",
     "text": [
      "Epochs:  50%|█████     | 1/2 [00:18<00:18, 18.67s/it]"
     ]
    },
    {
     "name": "stdout",
     "output_type": "stream",
     "text": [
      "2025-09-02 10:13:51,058 - Epoch 2/2 — Train RMSE: 0.6288 — Validation RMSE: 0.6218\n"
     ]
    },
    {
     "name": "stderr",
     "output_type": "stream",
     "text": [
      "Epochs: 100%|██████████| 2/2 [00:37<00:00, 18.54s/it]\n"
     ]
    },
    {
     "name": "stdout",
     "output_type": "stream",
     "text": [
      "2025-09-02 10:13:51,746 - Trial 6 with params: {'idxAfterPrediction': 5, 'timesteps': 70, 'target_option': 'last', 'LoadupSamples_time_scaling_stretch': True, 'LoadupSamples_time_inc_factor': 41, 'LSTM_units': 32, 'LSTM_num_layers': 2, 'LSTM_dropout': 0.00041458200537253573, 'LSTM_recurrent_dropout': 0.0016891957558105495, 'LSTM_learning_rate': 1.8151524247477802e-05, 'LSTM_optimizer': 'adam', 'LSTM_bidirectional': True, 'LSTM_batch_size': 4096, 'LSTM_epochs': 2, 'LSTM_l1': 0.06796773032382784, 'LSTM_l2': 0.0022181393421802273, 'LSTM_inter_dropout': 0.0005426115003125414, 'LSTM_input_gaussian_noise': 0.001, 'LSTM_conv1d': True, 'LSTM_conv1d_kernel_size': 3, 'LSTM_loss': 'mse', 'year_start': 2019, 'is_single_feature': True}\n",
      "2025-09-02 10:13:51,748 -   q0: 0.9860\n",
      "2025-09-02 10:13:51,748 -   Duration0: 0:00:37.803424\n",
      "2025-09-02 10:13:51,749 -   Val RMSE0 adjusted: 0.0152\n",
      "2025-09-02 10:13:51,750 -   Mean all prediction: 1.0003\n",
      "2025-09-02 10:13:51,751 -   Mean above prediction: 1.0034\n",
      "2025-09-02 10:13:51,753 -   Mean below prediction: 0.9955\n",
      "2025-09-02 10:13:51,753 -   Quantile 0.99 for distance in mask above: 875.6799999999998\n",
      "2025-09-02 10:13:51,754 -   Quantile 0.99 for distance in mask below: 708.159999999998\n",
      "2025-09-02 10:13:51,754 -   Ratio for quantile-distance-to-length above: 0.0097\n",
      "2025-09-02 10:13:51,754 -   Ratio for quantile-distance-to-length below: 0.0078\n",
      "2025-09-02 10:13:51,755 -   Score: 1.0007\n"
     ]
    },
    {
     "name": "stderr",
     "output_type": "stream",
     "text": [
      "[I 2025-09-02 10:13:52,368] Trial 6 finished with value: 1.0006771726083503 and parameters: {'year_start': 2019, 'LoadupSamples_time_inc_factor': 41, 'timesteps': 70, 'LSTM_num_layers': 2, 'LSTM_learning_rate': 1.8151524247477802e-05, 'LSTM_l1': 0.06796773032382784, 'LSTM_l2': 0.0022181393421802273, 'LSTM_dropout': 0.00041458200537253573, 'LSTM_inter_dropout': 0.0005426115003125414, 'LSTM_recurrent_dropout': 0.0016891957558105495, 'is_single_feature': True}. Best is trial 3 with value: 1.0038045605340327.\n"
     ]
    },
    {
     "name": "stdout",
     "output_type": "stream",
     "text": [
      "2025-09-02 10:13:52,368 - Trial 6 finished with value: 1.0006771726083503 and parameters: {'year_start': 2019, 'LoadupSamples_time_inc_factor': 41, 'timesteps': 70, 'LSTM_num_layers': 2, 'LSTM_learning_rate': 1.8151524247477802e-05, 'LSTM_l1': 0.06796773032382784, 'LSTM_l2': 0.0022181393421802273, 'LSTM_dropout': 0.00041458200537253573, 'LSTM_inter_dropout': 0.0005426115003125414, 'LSTM_recurrent_dropout': 0.0016891957558105495, 'is_single_feature': True}. Best is trial 3 with value: 1.0038045605340327.\n",
      "2025-09-02 10:14:42,501 - Test date 2025-07-13 not found in the database. Omitting.\n",
      "2025-09-02 10:14:48,397 - Non-finite/too-large values in train y tree: 15 samples.\n",
      "2025-09-02 10:14:48,400 - Non-finite/too-large values in train X tree: 86 samples.\n",
      "2025-09-02 10:14:48,402 - Non-finite/too-large values in train y time: 15 samples.\n",
      "2025-09-02 10:14:48,406 - Removing 101 samples from training data.\n"
     ]
    },
    {
     "name": "stderr",
     "output_type": "stream",
     "text": [
      "Epochs:   0%|          | 0/2 [00:00<?, ?it/s]"
     ]
    },
    {
     "name": "stdout",
     "output_type": "stream",
     "text": [
      "2025-09-02 10:15:33,840 - Epoch 1/2 — Train RMSE: 0.7272 — Validation RMSE: 0.6875\n"
     ]
    },
    {
     "name": "stderr",
     "output_type": "stream",
     "text": [
      "Epochs:  50%|█████     | 1/2 [00:14<00:14, 14.08s/it]"
     ]
    },
    {
     "name": "stdout",
     "output_type": "stream",
     "text": [
      "2025-09-02 10:15:47,623 - Epoch 2/2 — Train RMSE: 0.6497 — Validation RMSE: 0.6149\n"
     ]
    },
    {
     "name": "stderr",
     "output_type": "stream",
     "text": [
      "Epochs: 100%|██████████| 2/2 [00:27<00:00, 13.93s/it]\n"
     ]
    },
    {
     "name": "stdout",
     "output_type": "stream",
     "text": [
      "2025-09-02 10:15:48,312 - Trial 7 with params: {'idxAfterPrediction': 5, 'timesteps': 90, 'target_option': 'last', 'LoadupSamples_time_scaling_stretch': True, 'LoadupSamples_time_inc_factor': 81, 'LSTM_units': 32, 'LSTM_num_layers': 1, 'LSTM_dropout': 0.07822376611806607, 'LSTM_recurrent_dropout': 0.0038880367159714424, 'LSTM_learning_rate': 2.368056980655599e-05, 'LSTM_optimizer': 'adam', 'LSTM_bidirectional': True, 'LSTM_batch_size': 4096, 'LSTM_epochs': 2, 'LSTM_l1': 1.075647150852833e-05, 'LSTM_l2': 0.05831273714559367, 'LSTM_inter_dropout': 0.009595524185712275, 'LSTM_input_gaussian_noise': 0.001, 'LSTM_conv1d': True, 'LSTM_conv1d_kernel_size': 3, 'LSTM_loss': 'mse', 'year_start': 2020, 'is_single_feature': False}\n",
      "2025-09-02 10:15:48,312 -   q0: 0.9860\n",
      "2025-09-02 10:15:48,313 -   Duration0: 0:00:28.632875\n",
      "2025-09-02 10:15:48,313 -   Val RMSE0 adjusted: 0.0076\n",
      "2025-09-02 10:15:48,315 -   Mean all prediction: 1.0003\n",
      "2025-09-02 10:15:48,315 -   Mean above prediction: 1.0007\n",
      "2025-09-02 10:15:48,317 -   Mean below prediction: 1.0019\n",
      "2025-09-02 10:15:48,318 -   Quantile 0.99 for distance in mask above: 929.159999999998\n",
      "2025-09-02 10:15:48,318 -   Quantile 0.99 for distance in mask below: 594.0599999999993\n",
      "2025-09-02 10:15:48,318 -   Ratio for quantile-distance-to-length above: 0.0103\n",
      "2025-09-02 10:15:48,318 -   Ratio for quantile-distance-to-length below: 0.0066\n",
      "2025-09-02 10:15:48,318 -   Score: 1.0001\n"
     ]
    },
    {
     "name": "stderr",
     "output_type": "stream",
     "text": [
      "[I 2025-09-02 10:15:48,781] Trial 7 finished with value: 1.0001378095635944 and parameters: {'year_start': 2020, 'LoadupSamples_time_inc_factor': 81, 'timesteps': 90, 'LSTM_num_layers': 1, 'LSTM_learning_rate': 2.368056980655599e-05, 'LSTM_l1': 1.075647150852833e-05, 'LSTM_l2': 0.05831273714559367, 'LSTM_dropout': 0.07822376611806607, 'LSTM_inter_dropout': 0.009595524185712275, 'LSTM_recurrent_dropout': 0.0038880367159714424, 'is_single_feature': False}. Best is trial 3 with value: 1.0038045605340327.\n"
     ]
    },
    {
     "name": "stdout",
     "output_type": "stream",
     "text": [
      "2025-09-02 10:15:48,781 - Trial 7 finished with value: 1.0001378095635944 and parameters: {'year_start': 2020, 'LoadupSamples_time_inc_factor': 81, 'timesteps': 90, 'LSTM_num_layers': 1, 'LSTM_learning_rate': 2.368056980655599e-05, 'LSTM_l1': 1.075647150852833e-05, 'LSTM_l2': 0.05831273714559367, 'LSTM_dropout': 0.07822376611806607, 'LSTM_inter_dropout': 0.009595524185712275, 'LSTM_recurrent_dropout': 0.0038880367159714424, 'is_single_feature': False}. Best is trial 3 with value: 1.0038045605340327.\n",
      "2025-09-02 10:16:38,183 - Test date 2025-07-13 not found in the database. Omitting.\n",
      "2025-09-02 10:16:43,913 - Non-finite/too-large values in train y tree: 15 samples.\n",
      "2025-09-02 10:16:43,916 - Non-finite/too-large values in train X tree: 86 samples.\n",
      "2025-09-02 10:16:43,921 - Non-finite/too-large values in train y time: 15 samples.\n",
      "2025-09-02 10:16:43,928 - Removing 101 samples from training data.\n"
     ]
    },
    {
     "name": "stderr",
     "output_type": "stream",
     "text": [
      "Epochs:   0%|          | 0/2 [00:00<?, ?it/s]"
     ]
    },
    {
     "name": "stdout",
     "output_type": "stream",
     "text": [
      "2025-09-02 10:17:22,805 - Epoch 1/2 — Train RMSE: 0.6820 — Validation RMSE: 0.6548\n"
     ]
    },
    {
     "name": "stderr",
     "output_type": "stream",
     "text": [
      "Epochs:  50%|█████     | 1/2 [00:11<00:11, 11.02s/it]"
     ]
    },
    {
     "name": "stdout",
     "output_type": "stream",
     "text": [
      "2025-09-02 10:17:33,689 - Epoch 2/2 — Train RMSE: 0.6329 — Validation RMSE: 0.6153\n"
     ]
    },
    {
     "name": "stderr",
     "output_type": "stream",
     "text": [
      "Epochs: 100%|██████████| 2/2 [00:21<00:00, 10.95s/it]\n"
     ]
    },
    {
     "name": "stdout",
     "output_type": "stream",
     "text": [
      "2025-09-02 10:17:34,310 - Trial 8 with params: {'idxAfterPrediction': 5, 'timesteps': 50, 'target_option': 'last', 'LoadupSamples_time_scaling_stretch': True, 'LoadupSamples_time_inc_factor': 81, 'LSTM_units': 32, 'LSTM_num_layers': 1, 'LSTM_dropout': 0.005450457696895389, 'LSTM_recurrent_dropout': 0.06524217497211637, 'LSTM_learning_rate': 4.7627097591958464e-05, 'LSTM_optimizer': 'adam', 'LSTM_bidirectional': True, 'LSTM_batch_size': 4096, 'LSTM_epochs': 2, 'LSTM_l1': 0.00020108406218438332, 'LSTM_l2': 0.4214652998025643, 'LSTM_inter_dropout': 0.00014739437490888892, 'LSTM_input_gaussian_noise': 0.001, 'LSTM_conv1d': True, 'LSTM_conv1d_kernel_size': 3, 'LSTM_loss': 'mse', 'year_start': 2020, 'is_single_feature': False}\n",
      "2025-09-02 10:17:34,310 -   q0: 0.9860\n",
      "2025-09-02 10:17:34,319 -   Duration0: 0:00:22.577700\n",
      "2025-09-02 10:17:34,319 -   Val RMSE0 adjusted: 0.0076\n",
      "2025-09-02 10:17:34,321 -   Mean all prediction: 1.0003\n",
      "2025-09-02 10:17:34,321 -   Mean above prediction: 0.9986\n",
      "2025-09-02 10:17:34,321 -   Mean below prediction: 1.0017\n",
      "2025-09-02 10:17:34,321 -   Quantile 0.99 for distance in mask above: 696.0\n",
      "2025-09-02 10:17:34,321 -   Quantile 0.99 for distance in mask below: 592.8799999999974\n",
      "2025-09-02 10:17:34,326 -   Ratio for quantile-distance-to-length above: 0.0077\n",
      "2025-09-02 10:17:34,326 -   Ratio for quantile-distance-to-length below: 0.0065\n",
      "2025-09-02 10:17:34,326 -   Score: 0.9997\n"
     ]
    },
    {
     "name": "stderr",
     "output_type": "stream",
     "text": [
      "[I 2025-09-02 10:17:34,777] Trial 8 finished with value: 0.9997271631662971 and parameters: {'year_start': 2020, 'LoadupSamples_time_inc_factor': 81, 'timesteps': 50, 'LSTM_num_layers': 1, 'LSTM_learning_rate': 4.7627097591958464e-05, 'LSTM_l1': 0.00020108406218438332, 'LSTM_l2': 0.4214652998025643, 'LSTM_dropout': 0.005450457696895389, 'LSTM_inter_dropout': 0.00014739437490888892, 'LSTM_recurrent_dropout': 0.06524217497211637, 'is_single_feature': False}. Best is trial 3 with value: 1.0038045605340327.\n"
     ]
    },
    {
     "name": "stdout",
     "output_type": "stream",
     "text": [
      "2025-09-02 10:17:34,777 - Trial 8 finished with value: 0.9997271631662971 and parameters: {'year_start': 2020, 'LoadupSamples_time_inc_factor': 81, 'timesteps': 50, 'LSTM_num_layers': 1, 'LSTM_learning_rate': 4.7627097591958464e-05, 'LSTM_l1': 0.00020108406218438332, 'LSTM_l2': 0.4214652998025643, 'LSTM_dropout': 0.005450457696895389, 'LSTM_inter_dropout': 0.00014739437490888892, 'LSTM_recurrent_dropout': 0.06524217497211637, 'is_single_feature': False}. Best is trial 3 with value: 1.0038045605340327.\n",
      "2025-09-02 10:18:34,677 - Test date 2025-07-13 not found in the database. Omitting.\n",
      "2025-09-02 10:18:41,685 - Non-finite/too-large values in train y tree: 15 samples.\n",
      "2025-09-02 10:18:41,687 - Non-finite/too-large values in train X tree: 121 samples.\n",
      "2025-09-02 10:18:41,690 - Non-finite/too-large values in train y time: 15 samples.\n",
      "2025-09-02 10:18:41,693 - Removing 136 samples from training data.\n"
     ]
    },
    {
     "name": "stderr",
     "output_type": "stream",
     "text": [
      "Epochs:   0%|          | 0/2 [00:00<?, ?it/s]"
     ]
    },
    {
     "name": "stdout",
     "output_type": "stream",
     "text": [
      "2025-09-02 10:19:33,385 - Epoch 1/2 — Train RMSE: 0.4602 — Validation RMSE: 0.4083\n"
     ]
    },
    {
     "name": "stderr",
     "output_type": "stream",
     "text": [
      "Epochs:  50%|█████     | 1/2 [00:15<00:15, 15.77s/it]"
     ]
    },
    {
     "name": "stdout",
     "output_type": "stream",
     "text": [
      "2025-09-02 10:19:48,746 - Epoch 2/2 — Train RMSE: 0.4066 — Validation RMSE: 0.4079\n"
     ]
    },
    {
     "name": "stderr",
     "output_type": "stream",
     "text": [
      "Epochs: 100%|██████████| 2/2 [00:31<00:00, 15.57s/it]\n"
     ]
    },
    {
     "name": "stdout",
     "output_type": "stream",
     "text": [
      "2025-09-02 10:19:49,432 - Trial 9 with params: {'idxAfterPrediction': 5, 'timesteps': 80, 'target_option': 'last', 'LoadupSamples_time_scaling_stretch': True, 'LoadupSamples_time_inc_factor': 61, 'LSTM_units': 32, 'LSTM_num_layers': 1, 'LSTM_dropout': 0.01627439819428101, 'LSTM_recurrent_dropout': 0.00010428036522037824, 'LSTM_learning_rate': 0.0002932546904036543, 'LSTM_optimizer': 'adam', 'LSTM_bidirectional': True, 'LSTM_batch_size': 4096, 'LSTM_epochs': 2, 'LSTM_l1': 0.00031342798189311723, 'LSTM_l2': 0.008777779480254416, 'LSTM_inter_dropout': 0.00869172911525948, 'LSTM_input_gaussian_noise': 0.001, 'LSTM_conv1d': True, 'LSTM_conv1d_kernel_size': 3, 'LSTM_loss': 'mse', 'year_start': 2019, 'is_single_feature': False}\n",
      "2025-09-02 10:19:49,432 -   q0: 0.9860\n",
      "2025-09-02 10:19:49,432 -   Duration0: 0:00:31.908921\n",
      "2025-09-02 10:19:49,432 -   Val RMSE0 adjusted: 0.0067\n",
      "2025-09-02 10:19:49,435 -   Mean all prediction: 1.0003\n",
      "2025-09-02 10:19:49,435 -   Mean above prediction: 1.0123\n",
      "2025-09-02 10:19:49,435 -   Mean below prediction: 0.9985\n",
      "2025-09-02 10:19:49,435 -   Quantile 0.99 for distance in mask above: 822.9599999999964\n",
      "2025-09-02 10:19:49,438 -   Quantile 0.99 for distance in mask below: 714.7599999999989\n",
      "2025-09-02 10:19:49,438 -   Ratio for quantile-distance-to-length above: 0.0091\n",
      "2025-09-02 10:19:49,438 -   Ratio for quantile-distance-to-length below: 0.0079\n",
      "2025-09-02 10:19:49,438 -   Score: 1.0024\n"
     ]
    },
    {
     "name": "stderr",
     "output_type": "stream",
     "text": [
      "[I 2025-09-02 10:19:50,004] Trial 9 finished with value: 1.002439393327918 and parameters: {'year_start': 2019, 'LoadupSamples_time_inc_factor': 61, 'timesteps': 80, 'LSTM_num_layers': 1, 'LSTM_learning_rate': 0.0002932546904036543, 'LSTM_l1': 0.00031342798189311723, 'LSTM_l2': 0.008777779480254416, 'LSTM_dropout': 0.01627439819428101, 'LSTM_inter_dropout': 0.00869172911525948, 'LSTM_recurrent_dropout': 0.00010428036522037824, 'is_single_feature': False}. Best is trial 3 with value: 1.0038045605340327.\n"
     ]
    },
    {
     "name": "stdout",
     "output_type": "stream",
     "text": [
      "2025-09-02 10:19:50,004 - Trial 9 finished with value: 1.002439393327918 and parameters: {'year_start': 2019, 'LoadupSamples_time_inc_factor': 61, 'timesteps': 80, 'LSTM_num_layers': 1, 'LSTM_learning_rate': 0.0002932546904036543, 'LSTM_l1': 0.00031342798189311723, 'LSTM_l2': 0.008777779480254416, 'LSTM_dropout': 0.01627439819428101, 'LSTM_inter_dropout': 0.00869172911525948, 'LSTM_recurrent_dropout': 0.00010428036522037824, 'is_single_feature': False}. Best is trial 3 with value: 1.0038045605340327.\n",
      "2025-09-02 10:20:40,556 - Test date 2025-07-13 not found in the database. Omitting.\n",
      "2025-09-02 10:20:46,438 - Non-finite/too-large values in train y tree: 15 samples.\n",
      "2025-09-02 10:20:46,438 - Non-finite/too-large values in train X tree: 86 samples.\n",
      "2025-09-02 10:20:46,443 - Non-finite/too-large values in train y time: 15 samples.\n",
      "2025-09-02 10:20:46,445 - Removing 101 samples from training data.\n"
     ]
    },
    {
     "name": "stderr",
     "output_type": "stream",
     "text": [
      "Epochs:   0%|          | 0/2 [00:00<?, ?it/s]"
     ]
    },
    {
     "name": "stdout",
     "output_type": "stream",
     "text": [
      "2025-09-02 10:21:26,668 - Epoch 1/2 — Train RMSE: 0.6226 — Validation RMSE: 0.5702\n"
     ]
    },
    {
     "name": "stderr",
     "output_type": "stream",
     "text": [
      "Epochs:  50%|█████     | 1/2 [00:11<00:11, 11.60s/it]"
     ]
    },
    {
     "name": "stdout",
     "output_type": "stream",
     "text": [
      "2025-09-02 10:21:37,742 - Epoch 2/2 — Train RMSE: 0.5321 — Validation RMSE: 0.4992\n"
     ]
    },
    {
     "name": "stderr",
     "output_type": "stream",
     "text": [
      "Epochs: 100%|██████████| 2/2 [00:22<00:00, 11.34s/it]\n"
     ]
    },
    {
     "name": "stdout",
     "output_type": "stream",
     "text": [
      "2025-09-02 10:21:38,373 - Trial 10 with params: {'idxAfterPrediction': 5, 'timesteps': 55, 'target_option': 'last', 'LoadupSamples_time_scaling_stretch': True, 'LoadupSamples_time_inc_factor': 66, 'LSTM_units': 32, 'LSTM_num_layers': 1, 'LSTM_dropout': 0.0018886792753534543, 'LSTM_recurrent_dropout': 0.0010737903627526476, 'LSTM_learning_rate': 5.117410676192215e-05, 'LSTM_optimizer': 'adam', 'LSTM_bidirectional': True, 'LSTM_batch_size': 4096, 'LSTM_epochs': 2, 'LSTM_l1': 1.0629964532652537e-05, 'LSTM_l2': 0.08578092975603752, 'LSTM_inter_dropout': 0.0003301800638725483, 'LSTM_input_gaussian_noise': 0.001, 'LSTM_conv1d': True, 'LSTM_conv1d_kernel_size': 3, 'LSTM_loss': 'mse', 'year_start': 2020, 'is_single_feature': False}\n",
      "2025-09-02 10:21:38,373 -   q0: 0.9860\n",
      "2025-09-02 10:21:38,375 -   Duration0: 0:00:23.344329\n",
      "2025-09-02 10:21:38,376 -   Val RMSE0 adjusted: 0.0076\n",
      "2025-09-02 10:21:38,378 -   Mean all prediction: 1.0003\n",
      "2025-09-02 10:21:38,380 -   Mean above prediction: 0.9959\n",
      "2025-09-02 10:21:38,381 -   Mean below prediction: 0.9945\n",
      "2025-09-02 10:21:38,382 -   Quantile 0.99 for distance in mask above: 714.7799999999986\n",
      "2025-09-02 10:21:38,382 -   Quantile 0.99 for distance in mask below: 570.3599999999997\n",
      "2025-09-02 10:21:38,384 -   Ratio for quantile-distance-to-length above: 0.0079\n",
      "2025-09-02 10:21:38,384 -   Ratio for quantile-distance-to-length below: 0.0063\n",
      "2025-09-02 10:21:38,384 -   Score: 0.9992\n"
     ]
    },
    {
     "name": "stderr",
     "output_type": "stream",
     "text": [
      "[I 2025-09-02 10:21:38,846] Trial 10 finished with value: 0.9991710731112433 and parameters: {'year_start': 2020, 'LoadupSamples_time_inc_factor': 66, 'timesteps': 55, 'LSTM_num_layers': 1, 'LSTM_learning_rate': 5.117410676192215e-05, 'LSTM_l1': 1.0629964532652537e-05, 'LSTM_l2': 0.08578092975603752, 'LSTM_dropout': 0.0018886792753534543, 'LSTM_inter_dropout': 0.0003301800638725483, 'LSTM_recurrent_dropout': 0.0010737903627526476, 'is_single_feature': False}. Best is trial 3 with value: 1.0038045605340327.\n"
     ]
    },
    {
     "name": "stdout",
     "output_type": "stream",
     "text": [
      "2025-09-02 10:21:38,846 - Trial 10 finished with value: 0.9991710731112433 and parameters: {'year_start': 2020, 'LoadupSamples_time_inc_factor': 66, 'timesteps': 55, 'LSTM_num_layers': 1, 'LSTM_learning_rate': 5.117410676192215e-05, 'LSTM_l1': 1.0629964532652537e-05, 'LSTM_l2': 0.08578092975603752, 'LSTM_dropout': 0.0018886792753534543, 'LSTM_inter_dropout': 0.0003301800638725483, 'LSTM_recurrent_dropout': 0.0010737903627526476, 'is_single_feature': False}. Best is trial 3 with value: 1.0038045605340327.\n",
      "2025-09-02 10:22:39,589 - Test date 2025-07-13 not found in the database. Omitting.\n",
      "2025-09-02 10:22:47,114 - Non-finite/too-large values in train y tree: 15 samples.\n",
      "2025-09-02 10:22:47,120 - Non-finite/too-large values in train X tree: 121 samples.\n",
      "2025-09-02 10:22:47,131 - Non-finite/too-large values in train y time: 15 samples.\n",
      "2025-09-02 10:22:47,137 - Removing 136 samples from training data.\n"
     ]
    },
    {
     "name": "stderr",
     "output_type": "stream",
     "text": [
      "Epochs:   0%|          | 0/2 [00:00<?, ?it/s]"
     ]
    },
    {
     "name": "stdout",
     "output_type": "stream",
     "text": [
      "2025-09-02 10:23:44,382 - Epoch 1/2 — Train RMSE: 0.4623 — Validation RMSE: 0.4148\n"
     ]
    },
    {
     "name": "stderr",
     "output_type": "stream",
     "text": [
      "Epochs:  50%|█████     | 1/2 [00:15<00:15, 15.33s/it]"
     ]
    },
    {
     "name": "stdout",
     "output_type": "stream",
     "text": [
      "2025-09-02 10:23:59,592 - Epoch 2/2 — Train RMSE: 0.4125 — Validation RMSE: 0.4144\n"
     ]
    },
    {
     "name": "stderr",
     "output_type": "stream",
     "text": [
      "Epochs: 100%|██████████| 2/2 [00:30<00:00, 15.27s/it]\n"
     ]
    },
    {
     "name": "stdout",
     "output_type": "stream",
     "text": [
      "2025-09-02 10:24:00,229 - Trial 11 with params: {'idxAfterPrediction': 5, 'timesteps': 80, 'target_option': 'last', 'LoadupSamples_time_scaling_stretch': True, 'LoadupSamples_time_inc_factor': 66, 'LSTM_units': 32, 'LSTM_num_layers': 1, 'LSTM_dropout': 0.018786004769808278, 'LSTM_recurrent_dropout': 0.0001214062890908069, 'LSTM_learning_rate': 0.0002687340978315093, 'LSTM_optimizer': 'adam', 'LSTM_bidirectional': True, 'LSTM_batch_size': 4096, 'LSTM_epochs': 2, 'LSTM_l1': 0.00023824157825686197, 'LSTM_l2': 0.007073781031876624, 'LSTM_inter_dropout': 0.008848605453120795, 'LSTM_input_gaussian_noise': 0.001, 'LSTM_conv1d': True, 'LSTM_conv1d_kernel_size': 3, 'LSTM_loss': 'mse', 'year_start': 2019, 'is_single_feature': False}\n",
      "2025-09-02 10:24:00,229 -   q0: 0.9860\n",
      "2025-09-02 10:24:00,230 -   Duration0: 0:00:31.245190\n",
      "2025-09-02 10:24:00,230 -   Val RMSE0 adjusted: 0.0063\n",
      "2025-09-02 10:24:00,230 -   Mean all prediction: 1.0003\n",
      "2025-09-02 10:24:00,233 -   Mean above prediction: 1.0009\n",
      "2025-09-02 10:24:00,234 -   Mean below prediction: 0.9939\n",
      "2025-09-02 10:24:00,234 -   Quantile 0.99 for distance in mask above: 711.0199999999998\n",
      "2025-09-02 10:24:00,234 -   Quantile 0.99 for distance in mask below: 592.7999999999984\n",
      "2025-09-02 10:24:00,234 -   Ratio for quantile-distance-to-length above: 0.0079\n",
      "2025-09-02 10:24:00,234 -   Ratio for quantile-distance-to-length below: 0.0065\n",
      "2025-09-02 10:24:00,237 -   Score: 1.0002\n"
     ]
    },
    {
     "name": "stderr",
     "output_type": "stream",
     "text": [
      "[I 2025-09-02 10:24:00,755] Trial 11 finished with value: 1.0001851082277884 and parameters: {'year_start': 2019, 'LoadupSamples_time_inc_factor': 66, 'timesteps': 80, 'LSTM_num_layers': 1, 'LSTM_learning_rate': 0.0002687340978315093, 'LSTM_l1': 0.00023824157825686197, 'LSTM_l2': 0.007073781031876624, 'LSTM_dropout': 0.018786004769808278, 'LSTM_inter_dropout': 0.008848605453120795, 'LSTM_recurrent_dropout': 0.0001214062890908069, 'is_single_feature': False}. Best is trial 3 with value: 1.0038045605340327.\n"
     ]
    },
    {
     "name": "stdout",
     "output_type": "stream",
     "text": [
      "2025-09-02 10:24:00,755 - Trial 11 finished with value: 1.0001851082277884 and parameters: {'year_start': 2019, 'LoadupSamples_time_inc_factor': 66, 'timesteps': 80, 'LSTM_num_layers': 1, 'LSTM_learning_rate': 0.0002687340978315093, 'LSTM_l1': 0.00023824157825686197, 'LSTM_l2': 0.007073781031876624, 'LSTM_dropout': 0.018786004769808278, 'LSTM_inter_dropout': 0.008848605453120795, 'LSTM_recurrent_dropout': 0.0001214062890908069, 'is_single_feature': False}. Best is trial 3 with value: 1.0038045605340327.\n",
      "2025-09-02 10:24:59,846 - Test date 2025-07-13 not found in the database. Omitting.\n",
      "2025-09-02 10:25:08,178 - Non-finite/too-large values in train y tree: 15 samples.\n",
      "2025-09-02 10:25:08,181 - Non-finite/too-large values in train X tree: 121 samples.\n",
      "2025-09-02 10:25:08,186 - Non-finite/too-large values in train y time: 15 samples.\n",
      "2025-09-02 10:25:08,190 - Removing 136 samples from training data.\n"
     ]
    },
    {
     "name": "stderr",
     "output_type": "stream",
     "text": [
      "Epochs:   0%|          | 0/2 [00:00<?, ?it/s]"
     ]
    },
    {
     "name": "stdout",
     "output_type": "stream",
     "text": [
      "2025-09-02 10:25:59,771 - Epoch 1/2 — Train RMSE: 0.4449 — Validation RMSE: 0.3924\n"
     ]
    },
    {
     "name": "stderr",
     "output_type": "stream",
     "text": [
      "Epochs:  50%|█████     | 1/2 [00:14<00:14, 14.91s/it]"
     ]
    },
    {
     "name": "stdout",
     "output_type": "stream",
     "text": [
      "2025-09-02 10:26:14,531 - Epoch 2/2 — Train RMSE: 0.3896 — Validation RMSE: 0.3919\n"
     ]
    },
    {
     "name": "stderr",
     "output_type": "stream",
     "text": [
      "Epochs: 100%|██████████| 2/2 [00:29<00:00, 14.84s/it]\n"
     ]
    },
    {
     "name": "stdout",
     "output_type": "stream",
     "text": [
      "2025-09-02 10:26:15,162 - Trial 12 with params: {'idxAfterPrediction': 5, 'timesteps': 75, 'target_option': 'last', 'LoadupSamples_time_scaling_stretch': True, 'LoadupSamples_time_inc_factor': 51, 'LSTM_units': 32, 'LSTM_num_layers': 1, 'LSTM_dropout': 0.016457730033522917, 'LSTM_recurrent_dropout': 0.0001025728153449527, 'LSTM_learning_rate': 0.00024580712009282415, 'LSTM_optimizer': 'adam', 'LSTM_bidirectional': True, 'LSTM_batch_size': 4096, 'LSTM_epochs': 2, 'LSTM_l1': 0.0004140892352149675, 'LSTM_l2': 0.009484663015153223, 'LSTM_inter_dropout': 0.004134708556625846, 'LSTM_input_gaussian_noise': 0.001, 'LSTM_conv1d': True, 'LSTM_conv1d_kernel_size': 3, 'LSTM_loss': 'mse', 'year_start': 2019, 'is_single_feature': False}\n",
      "2025-09-02 10:26:15,163 -   q0: 0.9860\n",
      "2025-09-02 10:26:15,164 -   Duration0: 0:00:30.371964\n",
      "2025-09-02 10:26:15,164 -   Val RMSE0 adjusted: 0.0077\n",
      "2025-09-02 10:26:15,164 -   Mean all prediction: 1.0003\n",
      "2025-09-02 10:26:15,164 -   Mean above prediction: 1.0045\n",
      "2025-09-02 10:26:15,164 -   Mean below prediction: 0.9960\n",
      "2025-09-02 10:26:15,164 -   Quantile 0.99 for distance in mask above: 806.0999999999988\n",
      "2025-09-02 10:26:15,164 -   Quantile 0.99 for distance in mask below: 573.0599999999993\n",
      "2025-09-02 10:26:15,164 -   Ratio for quantile-distance-to-length above: 0.0089\n",
      "2025-09-02 10:26:15,169 -   Ratio for quantile-distance-to-length below: 0.0063\n",
      "2025-09-02 10:26:15,169 -   Score: 1.0009\n"
     ]
    },
    {
     "name": "stderr",
     "output_type": "stream",
     "text": [
      "[I 2025-09-02 10:26:15,691] Trial 12 finished with value: 1.0008946860211465 and parameters: {'year_start': 2019, 'LoadupSamples_time_inc_factor': 51, 'timesteps': 75, 'LSTM_num_layers': 1, 'LSTM_learning_rate': 0.00024580712009282415, 'LSTM_l1': 0.0004140892352149675, 'LSTM_l2': 0.009484663015153223, 'LSTM_dropout': 0.016457730033522917, 'LSTM_inter_dropout': 0.004134708556625846, 'LSTM_recurrent_dropout': 0.0001025728153449527, 'is_single_feature': False}. Best is trial 3 with value: 1.0038045605340327.\n"
     ]
    },
    {
     "name": "stdout",
     "output_type": "stream",
     "text": [
      "2025-09-02 10:26:15,691 - Trial 12 finished with value: 1.0008946860211465 and parameters: {'year_start': 2019, 'LoadupSamples_time_inc_factor': 51, 'timesteps': 75, 'LSTM_num_layers': 1, 'LSTM_learning_rate': 0.00024580712009282415, 'LSTM_l1': 0.0004140892352149675, 'LSTM_l2': 0.009484663015153223, 'LSTM_dropout': 0.016457730033522917, 'LSTM_inter_dropout': 0.004134708556625846, 'LSTM_recurrent_dropout': 0.0001025728153449527, 'is_single_feature': False}. Best is trial 3 with value: 1.0038045605340327.\n",
      "2025-09-02 10:27:15,424 - Test date 2025-07-13 not found in the database. Omitting.\n",
      "2025-09-02 10:27:22,472 - Non-finite/too-large values in train y tree: 15 samples.\n",
      "2025-09-02 10:27:22,475 - Non-finite/too-large values in train X tree: 121 samples.\n",
      "2025-09-02 10:27:22,479 - Non-finite/too-large values in train y time: 15 samples.\n",
      "2025-09-02 10:27:22,481 - Removing 136 samples from training data.\n"
     ]
    }
   ],
   "source": [
    "def objective(trial: optuna.Trial) -> float:\n",
    "    opt_params = params_default.copy()\n",
    "    opt_params[\"year_start\"] = trial.suggest_int(\"year_start\", 2019, 2021)\n",
    "    opt_params[\"idxAfterPrediction\"] = 5\n",
    "    opt_params[\"LoadupSamples_time_inc_factor\"] = trial.suggest_int(\"LoadupSamples_time_inc_factor\", 21, 81, step=5)\n",
    "    opt_params[\"timesteps\"] = trial.suggest_int(\"timesteps\", 30, 90, step=5)\n",
    "    opt_params[\"LSTM_units\"] = 32\n",
    "    opt_params[\"LSTM_num_layers\"] = trial.suggest_int(\"LSTM_num_layers\", 1, 2)\n",
    "    opt_params[\"LSTM_learning_rate\"] = trial.suggest_float(\"LSTM_learning_rate\", 1e-5, 1e-3, log=True)\n",
    "    opt_params[\"LSTM_epochs\"] = 2\n",
    "    opt_params[\"LSTM_l1\"] = trial.suggest_float(\"LSTM_l1\", 1e-5, 1e-1, log=True)\n",
    "    opt_params[\"LSTM_l2\"] = trial.suggest_float(\"LSTM_l2\", 1e-4, 5e-1, log=True)\n",
    "    opt_params[\"LSTM_dropout\"] = trial.suggest_float(\"LSTM_dropout\", 1e-4, 1e-1, log=True)\n",
    "    opt_params[\"LSTM_inter_dropout\"] = trial.suggest_float(\"LSTM_inter_dropout\", 1e-4, 1e-1, log=True)\n",
    "    opt_params[\"LSTM_recurrent_dropout\"] = trial.suggest_float(\"LSTM_recurrent_dropout\", 1e-4, 1e-1, log=True)\n",
    "    opt_params[\"LSTM_conv1d_kernel_size\"] = 3\n",
    "    opt_params[\"is_single_feature\"] = trial.suggest_categorical(\"is_single_feature\", [False, True])\n",
    "\n",
    "    ls = LoadupSamples(\n",
    "        train_start_date=datetime.date(year=opt_params[\"year_start\"], month=1, day=1),\n",
    "        test_dates=[eval_date],\n",
    "        treegroup=treegroup,\n",
    "        timegroup=stock_group,\n",
    "        params=opt_params,\n",
    "    )\n",
    "    ls.load_samples(main_path = \"../src/featureAlchemy/bin/\")\n",
    "\n",
    "    ls.split_dataset(\n",
    "        start_date=datetime.date(year=opt_params[\"year_start\"], month=1, day=1),\n",
    "        last_train_date=split_date,\n",
    "        last_test_date=eval_date,\n",
    "    )\n",
    "    fs_pre = FilterSamples(\n",
    "        Xtree_train=ls.train_Xtree,\n",
    "        ytree_train=ls.train_ytree,\n",
    "        treenames=ls.featureTreeNames,\n",
    "        Xtree_test=ls.test_Xtree,\n",
    "        ytree_test=ls.test_ytree,\n",
    "        meta_train=ls.meta_pl_train,\n",
    "        meta_test=ls.meta_pl_test,\n",
    "        params=opt_params\n",
    "    )\n",
    "\n",
    "    cat_mask_train, cat_mask_test = fs_pre.categorical_masks()\n",
    "    ls.apply_masks(cat_mask_train, cat_mask_test)\n",
    "\n",
    "    Xtrain = ls.train_Xtime\n",
    "    ytrain = ls.train_ytime\n",
    "    Xtest = ls.test_Xtime\n",
    "    ytest = ls.test_ytime\n",
    "\n",
    "    true_res = ls.meta_pl_test\n",
    "\n",
    "    Xtrain = Xtrain[:, -opt_params[\"timesteps\"]:, :]\n",
    "    Xtest = Xtest[:, -opt_params[\"timesteps\"]:, :]\n",
    "\n",
    "    if opt_params[\"is_single_feature\"]:\n",
    "        Xtrain = Xtrain[:, :, [0]]\n",
    "        Xtest = Xtest[:, :, [0]]\n",
    "\n",
    "    mm = MachineModels(opt_params)\n",
    "\n",
    "    starttime0 = datetime.datetime.now()\n",
    "    model_lstm0, res_dict0 = mm.run_LSTM_torch(Xtrain, ytrain, Xtest, ytest, device=\"cuda\")\n",
    "    preds_test0 = mm.predict_LSTM_torch(model_lstm0, Xtest, batch_size=opt_params[\"LSTM_batch_size\"], device=\"cuda\")\n",
    "    endtime0 = datetime.datetime.now()\n",
    "\n",
    "    # final mask\n",
    "    q0 = q_full\n",
    "    mask_pred0_test_above = (preds_test0 >= np.quantile(preds_test0,   q0))\n",
    "    mask_pred0_test_below = (preds_test0 <= np.quantile(preds_test0, 1-q0))\n",
    "\n",
    "    true_res_masked_above = true_res.filter(pl.Series(mask_pred0_test_above))\n",
    "    true_res_masked_below = true_res.filter(pl.Series(mask_pred0_test_below))\n",
    "\n",
    "    score = (scipy.stats.gmean(true_res_masked_above['target_ratio'].to_numpy())) ** (1/opt_params[\"idxAfterPrediction\"])\n",
    "\n",
    "    # Log some results\n",
    "    def quant_dis_in_mask(mask: np.ndarray, q: float) -> float:\n",
    "        if not mask.any():\n",
    "            return len(mask)\n",
    "        return np.quantile(np.abs(np.diff(np.where(mask)[0])), q)\n",
    "\n",
    "    fullmask_above = mask_pred0_test_above.copy()\n",
    "    fullmask_below = mask_pred0_test_below.copy()\n",
    "\n",
    "    logger.info(f\"Trial {trial.number} with params: {opt_params}\")\n",
    "    logger.info(f\"  q0: {q0:.4f}\")\n",
    "    logger.info(f\"  Duration0: {endtime0 - starttime0}\")\n",
    "    logger.info(f\"  Val RMSE0 adjusted: {res_dict0['val_rmse']/opt_params['LoadupSamples_time_inc_factor']:.4f}\")\n",
    "    logger.info(f\"  Mean all prediction: {scipy.stats.gmean(true_res['target_ratio'].to_numpy()):.4f}\")\n",
    "    logger.info(f\"  Mean above prediction: {scipy.stats.gmean(true_res_masked_above['target_ratio'].to_numpy()):.4f}\")\n",
    "    logger.info(f\"  Mean below prediction: {scipy.stats.gmean(true_res_masked_below['target_ratio'].to_numpy()):.4f}\")\n",
    "    logger.info(f\"  Quantile 0.99 for distance in mask above: {quant_dis_in_mask(fullmask_above, 0.99)}\")\n",
    "    logger.info(f\"  Quantile 0.99 for distance in mask below: {quant_dis_in_mask(fullmask_below, 0.99)}\")\n",
    "    logger.info(f\"  Ratio for quantile-distance-to-length above: {quant_dis_in_mask(fullmask_above, 0.99) / len(fullmask_above):.4f}\")\n",
    "    logger.info(f\"  Ratio for quantile-distance-to-length below: {quant_dis_in_mask(fullmask_below, 0.99) / len(fullmask_below):.4f}\")\n",
    "    logger.info(f\"  Score: {score:.4f}\")\n",
    "\n",
    "    return score\n",
    "\n",
    "optuna.logging.enable_propagation()\n",
    "sampler = optuna.samplers.TPESampler(n_startup_trials=n_startup_trials)\n",
    "study = optuna.create_study(\n",
    "    study_name = studyname,\n",
    "    storage=\"sqlite:///sandbox_optuna.db\",\n",
    "    direction=\"maximize\",\n",
    "    load_if_exists=True,\n",
    "    sampler=sampler,\n",
    ")\n",
    "study.optimize(objective, timeout=studytime)\n",
    "\n",
    "logger.info(f\"Best parameters: {study.best_params}\")\n",
    "logger.info(f\"Best score: {study.best_value}\")\n",
    "\n",
    "df: pd.DataFrame = study.trials_dataframe()\n",
    "logger.info(\"\\nTrials DataFrame:\")\n",
    "logger.info(df.sort_values(\"value\").to_string())\n",
    "\n",
    "param_importances = optuna.importance.get_param_importances(study)\n",
    "logger.info(\"Parameter Importances:\")\n",
    "for key, value in param_importances.items():\n",
    "    logger.info(f\"{key}: {value}\")"
   ]
  },
  {
   "cell_type": "code",
   "execution_count": null,
   "id": "bc9856fd",
   "metadata": {},
   "outputs": [],
   "source": [
    "df.to_parquet(f\"{formatted_str}.parquet\", index=False)"
   ]
  }
 ],
 "metadata": {
  "kernelspec": {
   "display_name": ".venv",
   "language": "python",
   "name": "python3"
  },
  "language_info": {
   "codemirror_mode": {
    "name": "ipython",
    "version": 3
   },
   "file_extension": ".py",
   "mimetype": "text/x-python",
   "name": "python",
   "nbconvert_exporter": "python",
   "pygments_lexer": "ipython3",
   "version": "3.12.10"
  }
 },
 "nbformat": 4,
 "nbformat_minor": 5
}
