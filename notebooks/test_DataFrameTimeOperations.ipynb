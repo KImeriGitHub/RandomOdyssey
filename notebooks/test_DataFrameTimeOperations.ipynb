{
 "cells": [
  {
   "cell_type": "code",
   "execution_count": 1,
   "metadata": {},
   "outputs": [],
   "source": [
    "import sys\n",
    "import os\n",
    "import shutil\n",
    "# Get the absolute path to the project directory\n",
    "project_dir = os.path.abspath(\"..\")\n",
    "\n",
    "# Append the project directory to sys.path\n",
    "if project_dir not in sys.path:\n",
    "    sys.path.append(project_dir)\n",
    "\n",
    "import pandas as pd\n",
    "import polars as pl\n",
    "from datetime import datetime, timedelta\n",
    "from src.common.DataFrameTimeOperations import DataFrameTimeOperations as DOps"
   ]
  },
  {
   "cell_type": "code",
   "execution_count": 2,
   "metadata": {},
   "outputs": [],
   "source": [
    "df = pl.DataFrame({\n",
    "    \"Date\": [\"2021-01-01\", \"2021-01-02\", \"2021-01-04\"],\n",
    "    \"val\": [10, 20, 40]\n",
    "}).sort(\"Date\")"
   ]
  },
  {
   "cell_type": "code",
   "execution_count": 3,
   "metadata": {},
   "outputs": [
    {
     "name": "stdout",
     "output_type": "stream",
     "text": [
      "✅ Test 1 Basic tests passed\n",
      "✅ Test 2 List-methods tests passed.\n",
      "✅ Test 3 Error-handling tests passed.\n",
      "✅ Test 4 Unsorted dates tests passed.\n",
      "✅ Test 5 Post date tests passed.\n",
      "Error-handling tests passed\n",
      "All tests completed successfully.\n"
     ]
    }
   ],
   "source": [
    "# Test 1: init\n",
    "ops = DOps(df, \"Date\")\n",
    "date1 = datetime(2021, 1, 2).date()\n",
    "date2 = datetime(2021, 1, 3).date()\n",
    "date3 = datetime(2021, 1, 4).date()\n",
    "assert ops.getIndex(date1) == 1\n",
    "assert ops.getIndex(date2) is None\n",
    "assert ops.getNextLowerOrEqualIndex(date2) == 1\n",
    "assert ops.inbetween(date1, date3) == [0, 1, 2]\n",
    "print(\"✅ Test 1 Basic tests passed\")\n",
    "\n",
    "# Test 2: List\n",
    "dates = [date1, date2]\n",
    "assert ops.getIndices(dates) == [1, None]\n",
    "assert ops.getNextLowerOrEqualIndices(dates) == [1, 1]\n",
    "print('✅ Test 2 List-methods tests passed.')\n",
    "\n",
    "# Test 3: Error-handling tests\n",
    "# Missing column\n",
    "try:\n",
    "    DOps(df, \"Missing\")\n",
    "    raise AssertionError(\"Missing-column error not raised\")\n",
    "except ValueError as e:\n",
    "    assert \"does not exist\" in str(e)\n",
    "print('✅ Test 3 Error-handling tests passed.')\n",
    "\n",
    "# Test 4 Unsorted dates\n",
    "df_unsorted = pl.DataFrame({\n",
    "    \"Date\": [\"2021-01-02\", \"2021-01-01\"],\n",
    "    \"val\": [2, 1]\n",
    "})\n",
    "try:\n",
    "    DOps(df_unsorted, \"Date\")\n",
    "    raise AssertionError(\"Unsorted-dates error not raised\")\n",
    "except ValueError as e:\n",
    "    assert \"Dates are not sorted\" in str(e)\n",
    "print('✅ Test 4 Unsorted dates tests passed.')\n",
    "\n",
    "# Test 5: Post date\n",
    "post_date = datetime(2021, 1, 5).date()\n",
    "assert ops.getIndex(post_date) == None\n",
    "assert ops.getNextLowerOrEqualIndex(post_date) == 2\n",
    "assert ops.getIndices([date1, post_date]) == [1, None]\n",
    "assert ops.getNextLowerOrEqualIndices([date1, post_date]) == [1, 2]\n",
    "print('✅ Test 5 Post date tests passed.')\n",
    "\n",
    "print(\"Error-handling tests passed\\nAll tests completed successfully.\")"
   ]
  }
 ],
 "metadata": {
  "kernelspec": {
   "display_name": ".venv",
   "language": "python",
   "name": "python3"
  },
  "language_info": {
   "codemirror_mode": {
    "name": "ipython",
    "version": 3
   },
   "file_extension": ".py",
   "mimetype": "text/x-python",
   "name": "python",
   "nbconvert_exporter": "python",
   "pygments_lexer": "ipython3",
   "version": "3.12.10"
  }
 },
 "nbformat": 4,
 "nbformat_minor": 2
}
