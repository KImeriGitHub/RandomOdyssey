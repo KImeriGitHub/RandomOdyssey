{
 "cells": [
  {
   "cell_type": "code",
   "execution_count": 3,
   "metadata": {},
   "outputs": [],
   "source": [
    "import yfinance as yf\n",
    "import pandas as pd\n",
    "import datetime as dt\n",
    "\n",
    "tickers = yf.Tickers(\"GOOG\") "
   ]
  },
  {
   "cell_type": "code",
   "execution_count": 2,
   "metadata": {},
   "outputs": [
    {
     "ename": "ModuleNotFoundError",
     "evalue": "No module named 'xmltodict'",
     "output_type": "error",
     "traceback": [
      "\u001b[1;31m---------------------------------------------------------------------------\u001b[0m",
      "\u001b[1;31mModuleNotFoundError\u001b[0m                       Traceback (most recent call last)",
      "Cell \u001b[1;32mIn[2], line 1\u001b[0m\n\u001b[1;32m----> 1\u001b[0m \u001b[38;5;28;01mimport\u001b[39;00m \u001b[38;5;21;01mxmltodict\u001b[39;00m\n",
      "\u001b[1;31mModuleNotFoundError\u001b[0m: No module named 'xmltodict'"
     ]
    }
   ],
   "source": [
    "import xmltodict"
   ]
  },
  {
   "cell_type": "code",
   "execution_count": 6,
   "metadata": {},
   "outputs": [
    {
     "name": "stderr",
     "output_type": "stream",
     "text": [
      "c:\\Users\\KILightTouch\\Desktop\\RandomOdyssey\\venv\\Lib\\site-packages\\yfinance\\utils.py:775: FutureWarning: The 'unit' keyword in TimedeltaIndex construction is deprecated and will be removed in a future version. Use pd.to_timedelta instead.\n",
      "  df.index += _pd.TimedeltaIndex(dst_error_hours, 'h')\n",
      "[*********************100%%**********************]  1 of 1 completed"
     ]
    },
    {
     "name": "stdout",
     "output_type": "stream",
     "text": [
      "                  Open        High         Low       Close   Adj Close  \\\n",
      "Date                                                                     \n",
      "1986-03-13    0.088542    0.101563    0.088542    0.097222    0.059947   \n",
      "1986-03-14    0.097222    0.102431    0.097222    0.100694    0.062087   \n",
      "1986-03-17    0.100694    0.103299    0.100694    0.102431    0.063158   \n",
      "1986-03-18    0.102431    0.103299    0.098958    0.099826    0.061552   \n",
      "1986-03-19    0.099826    0.100694    0.097222    0.098090    0.060482   \n",
      "...                ...         ...         ...         ...         ...   \n",
      "2024-08-21  424.079987  426.399994  421.720001  424.140015  424.140015   \n",
      "2024-08-22  424.359985  426.790009  414.609985  415.549988  415.549988   \n",
      "2024-08-23  416.980011  419.260010  412.089996  416.790009  416.790009   \n",
      "2024-08-26  416.369995  417.279999  411.339996  413.489990  413.489990   \n",
      "2024-08-27  412.859985  414.359985  410.250000  413.839996  413.839996   \n",
      "\n",
      "                Volume  \n",
      "Date                    \n",
      "1986-03-13  1031788800  \n",
      "1986-03-14   308160000  \n",
      "1986-03-17   133171200  \n",
      "1986-03-18    67766400  \n",
      "1986-03-19    47894400  \n",
      "...                ...  \n",
      "2024-08-21    16067300  \n",
      "2024-08-22    19361900  \n",
      "2024-08-23    18493800  \n",
      "2024-08-26    13152800  \n",
      "2024-08-27    13473900  \n",
      "\n",
      "[9692 rows x 6 columns]\n"
     ]
    },
    {
     "name": "stderr",
     "output_type": "stream",
     "text": [
      "\n"
     ]
    }
   ],
   "source": [
    "a=yf.download(\"MSFT\",dt.date.today()-dt.timedelta(36500),dt.date.today(),interval='1d')\n",
    "print(a)"
   ]
  },
  {
   "cell_type": "code",
   "execution_count": 12,
   "metadata": {},
   "outputs": [
    {
     "ename": "AttributeError",
     "evalue": "'Tickers' object has no attribute 'info'",
     "output_type": "error",
     "traceback": [
      "\u001b[1;31m---------------------------------------------------------------------------\u001b[0m",
      "\u001b[1;31mAttributeError\u001b[0m                            Traceback (most recent call last)",
      "Cell \u001b[1;32mIn[12], line 6\u001b[0m\n\u001b[0;32m      1\u001b[0m \u001b[38;5;28;01mimport\u001b[39;00m \u001b[38;5;21;01mxmltodict\u001b[39;00m\n\u001b[0;32m      3\u001b[0m \u001b[38;5;66;03m# 2. Convert the class instance to a dictionary\u001b[39;00m\n\u001b[0;32m      4\u001b[0m \u001b[38;5;66;03m# yfinance's Ticker object doesn't directly convert to a dictionary, so we extract the info\u001b[39;00m\n\u001b[0;32m      5\u001b[0m stock_info \u001b[38;5;241m=\u001b[39m {\n\u001b[1;32m----> 6\u001b[0m     \u001b[38;5;124m\"\u001b[39m\u001b[38;5;124minfo\u001b[39m\u001b[38;5;124m\"\u001b[39m: \u001b[43mtickers\u001b[49m\u001b[38;5;241;43m.\u001b[39;49m\u001b[43minfo\u001b[49m,\n\u001b[0;32m      7\u001b[0m     \u001b[38;5;66;03m#\"history\": stock_data.to_dict(),  # Convert the DataFrame to a dictionary\u001b[39;00m\n\u001b[0;32m      8\u001b[0m     \u001b[38;5;124m\"\u001b[39m\u001b[38;5;124mactions\u001b[39m\u001b[38;5;124m\"\u001b[39m: tickers\u001b[38;5;241m.\u001b[39mactions\u001b[38;5;241m.\u001b[39mto_dict(),\n\u001b[0;32m      9\u001b[0m     \u001b[38;5;124m\"\u001b[39m\u001b[38;5;124mdividends\u001b[39m\u001b[38;5;124m\"\u001b[39m: tickers\u001b[38;5;241m.\u001b[39mdividends\u001b[38;5;241m.\u001b[39mto_dict(),\n\u001b[0;32m     10\u001b[0m     \u001b[38;5;124m\"\u001b[39m\u001b[38;5;124msplits\u001b[39m\u001b[38;5;124m\"\u001b[39m: tickers\u001b[38;5;241m.\u001b[39msplits\u001b[38;5;241m.\u001b[39mto_dict()\n\u001b[0;32m     11\u001b[0m }\n\u001b[0;32m     13\u001b[0m \u001b[38;5;66;03m# 3. Convert the dictionary to an XML string\u001b[39;00m\n\u001b[0;32m     14\u001b[0m stock_info_xml \u001b[38;5;241m=\u001b[39m xmltodict\u001b[38;5;241m.\u001b[39munparse({\u001b[38;5;124m\"\u001b[39m\u001b[38;5;124mstock\u001b[39m\u001b[38;5;124m\"\u001b[39m: stock_info}, pretty\u001b[38;5;241m=\u001b[39m\u001b[38;5;28;01mTrue\u001b[39;00m)\n",
      "\u001b[1;31mAttributeError\u001b[0m: 'Tickers' object has no attribute 'info'"
     ]
    }
   ],
   "source": [
    "import xmltodict\n",
    "\n",
    "\n",
    "\n",
    "# 2. Convert the class instance to a dictionary\n",
    "# yfinance's Ticker object doesn't directly convert to a dictionary, so we extract the info\n",
    "stock_info = {\n",
    "    \"info\": tickers.info,\n",
    "    #\"history\": stock_data.to_dict(),  # Convert the DataFrame to a dictionary\n",
    "    \"actions\": tickers.actions.to_dict(),\n",
    "    \"dividends\": tickers.dividends.to_dict(),\n",
    "    \"splits\": tickers.splits.to_dict()\n",
    "}\n",
    "\n",
    "# 3. Convert the dictionary to an XML string\n",
    "stock_info_xml = xmltodict.unparse({\"stock\": stock_info}, pretty=True)\n",
    "\n",
    "# 4. Save the XML string to a file\n",
    "with open(\"stock_data.xml\", \"w\") as file:\n",
    "    file.write(stock_info_xml)\n",
    "\n",
    "print(\"Stock data has been saved to stock_data.xml\")"
   ]
  }
 ],
 "metadata": {
  "kernelspec": {
   "display_name": "Python 3",
   "language": "python",
   "name": "python3"
  },
  "language_info": {
   "codemirror_mode": {
    "name": "ipython",
    "version": 3
   },
   "file_extension": ".py",
   "mimetype": "text/x-python",
   "name": "python",
   "nbconvert_exporter": "python",
   "pygments_lexer": "ipython3",
   "version": "3.11.3"
  }
 },
 "nbformat": 4,
 "nbformat_minor": 2
}
